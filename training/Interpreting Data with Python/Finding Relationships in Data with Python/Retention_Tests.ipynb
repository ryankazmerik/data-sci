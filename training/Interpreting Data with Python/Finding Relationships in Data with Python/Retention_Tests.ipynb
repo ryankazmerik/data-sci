{
 "cells": [
  {
   "cell_type": "code",
   "execution_count": 1,
   "metadata": {},
   "outputs": [],
   "source": [
    "import boto3\n",
    "import matplotlib.pyplot as plt\n",
    "import numpy as np\n",
    "import pandas as pd\n",
    "import seaborn as sns\n",
    "\n",
    "from scipy.stats import pearsonr, spearmanr\n",
    "from shared_utilities import helpers"
   ]
  },
  {
   "cell_type": "code",
   "execution_count": 2,
   "metadata": {},
   "outputs": [
    {
     "name": "stdout",
     "output_type": "stream",
     "text": [
      "Attempting to automatically open the SSO authorization page in your default browser.\n",
      "If the browser does not open or you wish to use a different device to authorize this request, open the following URL:\n",
      "\n",
      "https://device.sso.us-east-1.amazonaws.com/\n",
      "\n",
      "Then enter the code:\n",
      "\n",
      "GMCG-HWLK\n",
      "Successfully logged into Start URL: https://stellaralgo.awsapps.com/start#/\n"
     ]
    }
   ],
   "source": [
    "! aws sso login --profile Stellaralgo-DataScienceAdmin"
   ]
  },
  {
   "cell_type": "code",
   "execution_count": 3,
   "metadata": {},
   "outputs": [],
   "source": [
    "session = boto3.setup_default_session(profile_name='Stellaralgo-DataScienceAdmin')"
   ]
  },
  {
   "cell_type": "code",
   "execution_count": 4,
   "metadata": {},
   "outputs": [
    {
     "name": "stdout",
     "output_type": "stream",
     "text": [
      "Authorized as AROASQ4JELIXYLYV6P4UV:pmorrison@stellaralgo.com\n"
     ]
    }
   ],
   "source": [
    "conn = helpers.get_redshift_connection(\"qa-app\", \"stlrnhlpanthers\")"
   ]
  },
  {
   "cell_type": "code",
   "execution_count": 5,
   "metadata": {},
   "outputs": [],
   "source": [
    "cursor = conn.cursor()\n",
    "sql = \"CALL ds.getretentionmodeldata(93, 2021, 2022, 'temp_cursor')\"\n",
    "cursor.execute(sql)"
   ]
  },
  {
   "cell_type": "code",
   "execution_count": 6,
   "metadata": {},
   "outputs": [],
   "source": [
    "temp_cursor = conn.cursor(\"temp_cursor\")\n",
    "data = temp_cursor.fetchall()"
   ]
  },
  {
   "cell_type": "code",
   "execution_count": 7,
   "metadata": {},
   "outputs": [],
   "source": [
    "df_original = pd.DataFrame(data=data, columns=[desc[0] for desc in temp_cursor.description])"
   ]
  },
  {
   "cell_type": "code",
   "execution_count": 8,
   "metadata": {},
   "outputs": [],
   "source": [
    "cursor.close()\n",
    "temp_cursor.close()\n",
    "conn.close()"
   ]
  },
  {
   "cell_type": "code",
   "execution_count": 9,
   "metadata": {},
   "outputs": [],
   "source": [
    "df = df_original.copy()"
   ]
  },
  {
   "cell_type": "code",
   "execution_count": 10,
   "metadata": {},
   "outputs": [
    {
     "name": "stdout",
     "output_type": "stream",
     "text": [
      "<class 'pandas.core.frame.DataFrame'>\n",
      "RangeIndex: 487 entries, 0 to 486\n",
      "Data columns (total 24 columns):\n",
      " #   Column               Non-Null Count  Dtype         \n",
      "---  ------               --------------  -----         \n",
      " 0   lkupclientid         487 non-null    int64         \n",
      " 1   clientcode           487 non-null    object        \n",
      " 2   dimcustomermasterid  487 non-null    int64         \n",
      " 3   year                 487 non-null    int64         \n",
      " 4   productgrouping      487 non-null    object        \n",
      " 5   totalspent           487 non-null    float64       \n",
      " 6   recentdate           487 non-null    datetime64[ns]\n",
      " 7   attendancepercent    487 non-null    float64       \n",
      " 8   renewedbeforedays    487 non-null    int64         \n",
      " 9   source_tenure        487 non-null    object        \n",
      " 10  tenure               487 non-null    int64         \n",
      " 11  disttovenue          487 non-null    float64       \n",
      " 12  recency              487 non-null    int64         \n",
      " 13  missed_games_1       487 non-null    object        \n",
      " 14  missed_games_2       487 non-null    object        \n",
      " 15  missed_games_over_2  487 non-null    object        \n",
      " 16  forward_records      487 non-null    int64         \n",
      " 17  opentosendratio      487 non-null    object        \n",
      " 18  clicktosendratio     487 non-null    object        \n",
      " 19  clicktoopenratio     487 non-null    object        \n",
      " 20  gender               487 non-null    object        \n",
      " 21  phonecall            487 non-null    int64         \n",
      " 22  inperson_contact     487 non-null    int64         \n",
      " 23  isnextyear_buyer     487 non-null    int64         \n",
      "dtypes: datetime64[ns](1), float64(3), int64(10), object(10)\n",
      "memory usage: 91.4+ KB\n"
     ]
    }
   ],
   "source": [
    "df.info()"
   ]
  },
  {
   "cell_type": "markdown",
   "metadata": {},
   "source": [
    "## Two Ways to check correlation\n",
    "\n",
    "1. Numpy\n",
    "2. Pandas"
   ]
  },
  {
   "cell_type": "code",
   "execution_count": 11,
   "metadata": {},
   "outputs": [
    {
     "name": "stdout",
     "output_type": "stream",
     "text": [
      "[[ 1. nan]\n",
      " [nan nan]]\n",
      "nan\n"
     ]
    },
    {
     "name": "stderr",
     "output_type": "stream",
     "text": [
      "/Users/petermorrison/opt/miniconda3/envs/stellar/lib/python3.8/site-packages/numpy/lib/function_base.py:2829: RuntimeWarning: invalid value encountered in true_divide\n",
      "  c /= stddev[:, None]\n",
      "/Users/petermorrison/opt/miniconda3/envs/stellar/lib/python3.8/site-packages/numpy/lib/function_base.py:2830: RuntimeWarning: invalid value encountered in true_divide\n",
      "  c /= stddev[None, :]\n"
     ]
    }
   ],
   "source": [
    "print(np.corrcoef(df[\"tenure\"], df[\"isnextyear_buyer\"]))\n",
    "print(df[\"tenure\"].corr(df[\"isnextyear_buyer\"]))"
   ]
  },
  {
   "cell_type": "markdown",
   "metadata": {},
   "source": [
    "## Pearson & Spearman's correlations"
   ]
  },
  {
   "cell_type": "code",
   "execution_count": 12,
   "metadata": {},
   "outputs": [
    {
     "name": "stdout",
     "output_type": "stream",
     "text": [
      "(nan, nan)\n",
      "SpearmanrResult(correlation=nan, pvalue=nan)\n"
     ]
    },
    {
     "name": "stderr",
     "output_type": "stream",
     "text": [
      "/Users/petermorrison/opt/miniconda3/envs/stellar/lib/python3.8/site-packages/scipy/stats/_stats_py.py:4068: PearsonRConstantInputWarning: An input array is constant; the correlation coefficient is not defined.\n",
      "  warnings.warn(PearsonRConstantInputWarning())\n",
      "/Users/petermorrison/opt/miniconda3/envs/stellar/lib/python3.8/site-packages/scipy/stats/_stats_py.py:4529: SpearmanRConstantInputWarning: An input array is constant; the correlation coefficient is not defined.\n",
      "  warnings.warn(SpearmanRConstantInputWarning())\n"
     ]
    }
   ],
   "source": [
    "print(pearsonr(df[\"tenure\"], df[\"isnextyear_buyer\"]))\n",
    "print(spearmanr(df[\"tenure\"], df[\"isnextyear_buyer\"]))"
   ]
  },
  {
   "cell_type": "markdown",
   "metadata": {},
   "source": [
    "# Cleaning and Encoding"
   ]
  },
  {
   "cell_type": "code",
   "execution_count": 13,
   "metadata": {},
   "outputs": [],
   "source": [
    "def encode_and_bind(original_dataframe, feature_to_encode):\n",
    "    dummies = pd.get_dummies(original_dataframe[[feature_to_encode]])\n",
    "    res = pd.concat([original_dataframe, dummies], axis=1)\n",
    "    res = res.drop([feature_to_encode], axis=1)\n",
    "    return(res) "
   ]
  },
  {
   "cell_type": "code",
   "execution_count": 14,
   "metadata": {},
   "outputs": [],
   "source": [
    "df_encoded = encode_and_bind(df, \"productgrouping\")\n",
    "df_encoded = encode_and_bind(df_encoded, \"gender\")"
   ]
  },
  {
   "cell_type": "code",
   "execution_count": 15,
   "metadata": {},
   "outputs": [
    {
     "ename": "KeyError",
     "evalue": "'productgrouping_Full Season'",
     "output_type": "error",
     "traceback": [
      "\u001b[0;31m---------------------------------------------------------------------------\u001b[0m",
      "\u001b[0;31mKeyError\u001b[0m                                  Traceback (most recent call last)",
      "File \u001b[0;32m~/opt/miniconda3/envs/stellar/lib/python3.8/site-packages/pandas/core/indexes/base.py:3621\u001b[0m, in \u001b[0;36mIndex.get_loc\u001b[0;34m(self, key, method, tolerance)\u001b[0m\n\u001b[1;32m   3620\u001b[0m \u001b[39mtry\u001b[39;00m:\n\u001b[0;32m-> 3621\u001b[0m     \u001b[39mreturn\u001b[39;00m \u001b[39mself\u001b[39;49m\u001b[39m.\u001b[39;49m_engine\u001b[39m.\u001b[39;49mget_loc(casted_key)\n\u001b[1;32m   3622\u001b[0m \u001b[39mexcept\u001b[39;00m \u001b[39mKeyError\u001b[39;00m \u001b[39mas\u001b[39;00m err:\n",
      "File \u001b[0;32mpandas/_libs/index.pyx:136\u001b[0m, in \u001b[0;36mpandas._libs.index.IndexEngine.get_loc\u001b[0;34m()\u001b[0m\n",
      "File \u001b[0;32mpandas/_libs/index.pyx:163\u001b[0m, in \u001b[0;36mpandas._libs.index.IndexEngine.get_loc\u001b[0;34m()\u001b[0m\n",
      "File \u001b[0;32mpandas/_libs/hashtable_class_helper.pxi:5198\u001b[0m, in \u001b[0;36mpandas._libs.hashtable.PyObjectHashTable.get_item\u001b[0;34m()\u001b[0m\n",
      "File \u001b[0;32mpandas/_libs/hashtable_class_helper.pxi:5206\u001b[0m, in \u001b[0;36mpandas._libs.hashtable.PyObjectHashTable.get_item\u001b[0;34m()\u001b[0m\n",
      "\u001b[0;31mKeyError\u001b[0m: 'productgrouping_Full Season'",
      "\nThe above exception was the direct cause of the following exception:\n",
      "\u001b[0;31mKeyError\u001b[0m                                  Traceback (most recent call last)",
      "\u001b[1;32m/Users/petermorrison/Documents/repos/data-sci/training/Interpreting Data with Python/Finding Relationships in Data with Python/Retention_Tests.ipynb Cell 18\u001b[0m in \u001b[0;36m<cell line: 10>\u001b[0;34m()\u001b[0m\n\u001b[1;32m      <a href='vscode-notebook-cell:/Users/petermorrison/Documents/repos/data-sci/training/Interpreting%20Data%20with%20Python/Finding%20Relationships%20in%20Data%20with%20Python/Retention_Tests.ipynb#X23sZmlsZQ%3D%3D?line=7'>8</a>\u001b[0m df_encoded[\u001b[39m\"\u001b[39m\u001b[39mclicktoopenratio\u001b[39m\u001b[39m\"\u001b[39m] \u001b[39m=\u001b[39m df_encoded[\u001b[39m\"\u001b[39m\u001b[39mclicktoopenratio\u001b[39m\u001b[39m\"\u001b[39m]\u001b[39m.\u001b[39mastype(\u001b[39m\"\u001b[39m\u001b[39mfloat\u001b[39m\u001b[39m\"\u001b[39m)\n\u001b[1;32m      <a href='vscode-notebook-cell:/Users/petermorrison/Documents/repos/data-sci/training/Interpreting%20Data%20with%20Python/Finding%20Relationships%20in%20Data%20with%20Python/Retention_Tests.ipynb#X23sZmlsZQ%3D%3D?line=8'>9</a>\u001b[0m df_encoded[\u001b[39m\"\u001b[39m\u001b[39mproductgrouping_Flex Plan\u001b[39m\u001b[39m\"\u001b[39m] \u001b[39m=\u001b[39m df_encoded[\u001b[39m\"\u001b[39m\u001b[39mproductgrouping_Flex Plan\u001b[39m\u001b[39m\"\u001b[39m]\u001b[39m.\u001b[39mastype(\u001b[39m\"\u001b[39m\u001b[39mint\u001b[39m\u001b[39m\"\u001b[39m)\n\u001b[0;32m---> <a href='vscode-notebook-cell:/Users/petermorrison/Documents/repos/data-sci/training/Interpreting%20Data%20with%20Python/Finding%20Relationships%20in%20Data%20with%20Python/Retention_Tests.ipynb#X23sZmlsZQ%3D%3D?line=9'>10</a>\u001b[0m df_encoded[\u001b[39m\"\u001b[39m\u001b[39mproductgrouping_Full Season\u001b[39m\u001b[39m\"\u001b[39m] \u001b[39m=\u001b[39m df_encoded[\u001b[39m\"\u001b[39;49m\u001b[39mproductgrouping_Full Season\u001b[39;49m\u001b[39m\"\u001b[39;49m]\u001b[39m.\u001b[39mastype(\u001b[39m\"\u001b[39m\u001b[39mint\u001b[39m\u001b[39m\"\u001b[39m)\n\u001b[1;32m     <a href='vscode-notebook-cell:/Users/petermorrison/Documents/repos/data-sci/training/Interpreting%20Data%20with%20Python/Finding%20Relationships%20in%20Data%20with%20Python/Retention_Tests.ipynb#X23sZmlsZQ%3D%3D?line=10'>11</a>\u001b[0m df_encoded[\u001b[39m\"\u001b[39m\u001b[39mproductgrouping_Half Season\u001b[39m\u001b[39m\"\u001b[39m] \u001b[39m=\u001b[39m df_encoded[\u001b[39m\"\u001b[39m\u001b[39mproductgrouping_Half Season\u001b[39m\u001b[39m\"\u001b[39m]\u001b[39m.\u001b[39mastype(\u001b[39m\"\u001b[39m\u001b[39mint\u001b[39m\u001b[39m\"\u001b[39m)\n\u001b[1;32m     <a href='vscode-notebook-cell:/Users/petermorrison/Documents/repos/data-sci/training/Interpreting%20Data%20with%20Python/Finding%20Relationships%20in%20Data%20with%20Python/Retention_Tests.ipynb#X23sZmlsZQ%3D%3D?line=11'>12</a>\u001b[0m df_encoded[\u001b[39m\"\u001b[39m\u001b[39mproductgrouping_Premier/Core Plan\u001b[39m\u001b[39m\"\u001b[39m] \u001b[39m=\u001b[39m df_encoded[\u001b[39m\"\u001b[39m\u001b[39mproductgrouping_Premier/Core Plan\u001b[39m\u001b[39m\"\u001b[39m]\u001b[39m.\u001b[39mastype(\u001b[39m\"\u001b[39m\u001b[39mint\u001b[39m\u001b[39m\"\u001b[39m)\n",
      "File \u001b[0;32m~/opt/miniconda3/envs/stellar/lib/python3.8/site-packages/pandas/core/frame.py:3505\u001b[0m, in \u001b[0;36mDataFrame.__getitem__\u001b[0;34m(self, key)\u001b[0m\n\u001b[1;32m   3503\u001b[0m \u001b[39mif\u001b[39;00m \u001b[39mself\u001b[39m\u001b[39m.\u001b[39mcolumns\u001b[39m.\u001b[39mnlevels \u001b[39m>\u001b[39m \u001b[39m1\u001b[39m:\n\u001b[1;32m   3504\u001b[0m     \u001b[39mreturn\u001b[39;00m \u001b[39mself\u001b[39m\u001b[39m.\u001b[39m_getitem_multilevel(key)\n\u001b[0;32m-> 3505\u001b[0m indexer \u001b[39m=\u001b[39m \u001b[39mself\u001b[39;49m\u001b[39m.\u001b[39;49mcolumns\u001b[39m.\u001b[39;49mget_loc(key)\n\u001b[1;32m   3506\u001b[0m \u001b[39mif\u001b[39;00m is_integer(indexer):\n\u001b[1;32m   3507\u001b[0m     indexer \u001b[39m=\u001b[39m [indexer]\n",
      "File \u001b[0;32m~/opt/miniconda3/envs/stellar/lib/python3.8/site-packages/pandas/core/indexes/base.py:3623\u001b[0m, in \u001b[0;36mIndex.get_loc\u001b[0;34m(self, key, method, tolerance)\u001b[0m\n\u001b[1;32m   3621\u001b[0m     \u001b[39mreturn\u001b[39;00m \u001b[39mself\u001b[39m\u001b[39m.\u001b[39m_engine\u001b[39m.\u001b[39mget_loc(casted_key)\n\u001b[1;32m   3622\u001b[0m \u001b[39mexcept\u001b[39;00m \u001b[39mKeyError\u001b[39;00m \u001b[39mas\u001b[39;00m err:\n\u001b[0;32m-> 3623\u001b[0m     \u001b[39mraise\u001b[39;00m \u001b[39mKeyError\u001b[39;00m(key) \u001b[39mfrom\u001b[39;00m \u001b[39merr\u001b[39;00m\n\u001b[1;32m   3624\u001b[0m \u001b[39mexcept\u001b[39;00m \u001b[39mTypeError\u001b[39;00m:\n\u001b[1;32m   3625\u001b[0m     \u001b[39m# If we have a listlike key, _check_indexing_error will raise\u001b[39;00m\n\u001b[1;32m   3626\u001b[0m     \u001b[39m#  InvalidIndexError. Otherwise we fall through and re-raise\u001b[39;00m\n\u001b[1;32m   3627\u001b[0m     \u001b[39m#  the TypeError.\u001b[39;00m\n\u001b[1;32m   3628\u001b[0m     \u001b[39mself\u001b[39m\u001b[39m.\u001b[39m_check_indexing_error(key)\n",
      "\u001b[0;31mKeyError\u001b[0m: 'productgrouping_Full Season'"
     ]
    }
   ],
   "source": [
    "# # df[\"recentdate\"] = pd.to_datetime(df[\"recentdate\"])\n",
    "# df_encoded = df_encoded.drop([\"recentdate\"], axis=1)\n",
    "# df_encoded[\"totalspent\"] = df_encoded[\"totalspent\"].astype(\"float\")\n",
    "# df_encoded[\"attendancepercent\"] = df_encoded[\"attendancepercent\"].astype(\"float\")\n",
    "# df_encoded[\"disttovenue\"] = df_encoded[\"disttovenue\"].astype(\"float\")\n",
    "# df_encoded[\"opentosendratio\"] = df_encoded[\"opentosendratio\"].astype(\"float\")\n",
    "# df_encoded[\"clicktosendratio\"] = df_encoded[\"clicktosendratio\"].astype(\"float\")\n",
    "# df_encoded[\"clicktoopenratio\"] = df_encoded[\"clicktoopenratio\"].astype(\"float\")\n",
    "# df_encoded[\"productgrouping_Flex Plan\"] = df_encoded[\"productgrouping_Flex Plan\"].astype(\"int\")\n",
    "# df_encoded[\"productgrouping_Full Season\"] = df_encoded[\"productgrouping_Full Season\"].astype(\"int\")\n",
    "# df_encoded[\"productgrouping_Half Season\"] = df_encoded[\"productgrouping_Half Season\"].astype(\"int\")\n",
    "# df_encoded[\"productgrouping_Premier/Core Plan\"] = df_encoded[\"productgrouping_Premier/Core Plan\"].astype(\"int\")\n",
    "# df_encoded[\"gender_Female\"] = df_encoded[\"gender_Female\"].astype(\"int\")\n",
    "# df_encoded[\"gender_Male\"] = df_encoded[\"gender_Male\"].astype(\"int\")\n",
    "# df_encoded[\"gender_Unknown\"] = df_encoded[\"gender_Unknown\"].astype(\"int\")\n",
    "# df_encoded[\"missed_games_1\"] = df_encoded[\"missed_games_1\"].astype(\"int\")\n",
    "# df_encoded[\"missed_games_2\"] = df_encoded[\"missed_games_2\"].astype(\"int\")\n",
    "# df_encoded[\"missed_games_over_2\"] = df_encoded[\"missed_games_over_2\"].astype(\"int\")\n",
    "# df_encoded[\"source_tenure\"] = df_encoded[\"source_tenure\"].astype(\"int\")"
   ]
  },
  {
   "cell_type": "code",
   "execution_count": null,
   "metadata": {},
   "outputs": [
    {
     "name": "stdout",
     "output_type": "stream",
     "text": [
      "<class 'pandas.core.frame.DataFrame'>\n",
      "RangeIndex: 5240 entries, 0 to 5239\n",
      "Data columns (total 27 columns):\n",
      " #   Column                             Non-Null Count  Dtype  \n",
      "---  ------                             --------------  -----  \n",
      " 0   lkupclientid                       5240 non-null   int64  \n",
      " 1   dimcustomermasterid                5240 non-null   int64  \n",
      " 2   year                               5240 non-null   int64  \n",
      " 3   totalspent                         5240 non-null   float64\n",
      " 4   attendancepercent                  5240 non-null   float64\n",
      " 5   renewedbeforedays                  5240 non-null   int64  \n",
      " 6   source_tenure                      5240 non-null   int64  \n",
      " 7   tenure                             5240 non-null   int64  \n",
      " 8   disttovenue                        5240 non-null   float64\n",
      " 9   recency                            5240 non-null   int64  \n",
      " 10  missed_games_1                     5240 non-null   int64  \n",
      " 11  missed_games_2                     5240 non-null   int64  \n",
      " 12  missed_games_over_2                5240 non-null   int64  \n",
      " 13  forward_records                    5240 non-null   int64  \n",
      " 14  opentosendratio                    5240 non-null   float64\n",
      " 15  clicktosendratio                   5240 non-null   float64\n",
      " 16  clicktoopenratio                   5240 non-null   float64\n",
      " 17  phonecall                          5240 non-null   int64  \n",
      " 18  inperson_contact                   5240 non-null   int64  \n",
      " 19  isnextyear_buyer                   5240 non-null   int64  \n",
      " 20  productgrouping_Flex Plan          5240 non-null   int64  \n",
      " 21  productgrouping_Full Season        5240 non-null   int64  \n",
      " 22  productgrouping_Half Season        5240 non-null   int64  \n",
      " 23  productgrouping_Premier/Core Plan  5240 non-null   int64  \n",
      " 24  gender_Female                      5240 non-null   int64  \n",
      " 25  gender_Male                        5240 non-null   int64  \n",
      " 26  gender_Unknown                     5240 non-null   int64  \n",
      "dtypes: float64(6), int64(21)\n",
      "memory usage: 1.1 MB\n"
     ]
    }
   ],
   "source": [
    "df_encoded.info()"
   ]
  },
  {
   "cell_type": "code",
   "execution_count": null,
   "metadata": {},
   "outputs": [],
   "source": [
    "df_encoded.head()"
   ]
  },
  {
   "cell_type": "markdown",
   "metadata": {},
   "source": [
    "# Tests\n",
    "\n",
    "This section runs tests for things like T-Test, PairedDifference T-Test, One Way ANOVA, Two Way ANOVA and Chi2."
   ]
  },
  {
   "cell_type": "code",
   "execution_count": 19,
   "metadata": {},
   "outputs": [],
   "source": [
    "import statsmodels.api as sm\n",
    "import matplotlib.pyplot as plt\n",
    "import pandas as pd\n",
    "import numpy as np\n",
    "from sklearn.preprocessing import scale\n",
    "\n",
    "import researchpy as rp\n",
    "from scipy import stats"
   ]
  },
  {
   "cell_type": "code",
   "execution_count": 23,
   "metadata": {},
   "outputs": [],
   "source": [
    "# df[\"recentdate\"] = pd.to_datetime(df[\"recentdate\"])\n",
    "df = df.drop([\"recentdate\"], axis=1)\n",
    "df[\"totalspent\"] = df[\"totalspent\"].astype(\"float\")\n",
    "df[\"attendancepercent\"] = df[\"attendancepercent\"].astype(\"float\")\n",
    "df[\"disttovenue\"] = df[\"disttovenue\"].astype(\"float\")\n",
    "df[\"opentosendratio\"] = df[\"opentosendratio\"].astype(\"float\")\n",
    "df[\"clicktosendratio\"] = df[\"clicktosendratio\"].astype(\"float\")\n",
    "df[\"clicktoopenratio\"] = df[\"clicktoopenratio\"].astype(\"float\")\n",
    "# df[\"productgrouping_Flex Plan\"] = df[\"productgrouping_Flex Plan\"].astype(\"int\")\n",
    "# df[\"productgrouping_Full Season\"] = df[\"productgrouping_Full Season\"].astype(\"int\")\n",
    "# df[\"productgrouping_Half Season\"] = df[\"productgrouping_Half Season\"].astype(\"int\")\n",
    "# df[\"productgrouping_Premier/Core Plan\"] = df[\"productgrouping_Premier/Core Plan\"].astype(\"int\")\n",
    "# df[\"gender_Female\"] = df[\"gender_Female\"].astype(\"int\")\n",
    "# df[\"gender_Male\"] = df[\"gender_Male\"].astype(\"int\")\n",
    "# df[\"gender_Unknown\"] = df[\"gender_Unknown\"].astype(\"int\")\n",
    "df[\"missed_games_1\"] = df[\"missed_games_1\"].astype(\"int\")\n",
    "df[\"missed_games_2\"] = df[\"missed_games_2\"].astype(\"int\")\n",
    "df[\"missed_games_over_2\"] = df[\"missed_games_over_2\"].astype(\"int\")\n",
    "df[\"source_tenure\"] = df[\"source_tenure\"].astype(\"int\")"
   ]
  },
  {
   "cell_type": "code",
   "execution_count": 24,
   "metadata": {},
   "outputs": [
    {
     "data": {
      "text/html": [
       "<div>\n",
       "<style scoped>\n",
       "    .dataframe tbody tr th:only-of-type {\n",
       "        vertical-align: middle;\n",
       "    }\n",
       "\n",
       "    .dataframe tbody tr th {\n",
       "        vertical-align: top;\n",
       "    }\n",
       "\n",
       "    .dataframe thead th {\n",
       "        text-align: right;\n",
       "    }\n",
       "</style>\n",
       "<table border=\"1\" class=\"dataframe\">\n",
       "  <thead>\n",
       "    <tr style=\"text-align: right;\">\n",
       "      <th></th>\n",
       "      <th>lkupclientid</th>\n",
       "      <th>clientcode</th>\n",
       "      <th>dimcustomermasterid</th>\n",
       "      <th>year</th>\n",
       "      <th>productgrouping</th>\n",
       "      <th>totalspent</th>\n",
       "      <th>attendancepercent</th>\n",
       "      <th>renewedbeforedays</th>\n",
       "      <th>source_tenure</th>\n",
       "      <th>tenure</th>\n",
       "      <th>...</th>\n",
       "      <th>missed_games_2</th>\n",
       "      <th>missed_games_over_2</th>\n",
       "      <th>forward_records</th>\n",
       "      <th>opentosendratio</th>\n",
       "      <th>clicktosendratio</th>\n",
       "      <th>clicktoopenratio</th>\n",
       "      <th>gender</th>\n",
       "      <th>phonecall</th>\n",
       "      <th>inperson_contact</th>\n",
       "      <th>isnextyear_buyer</th>\n",
       "    </tr>\n",
       "  </thead>\n",
       "  <tbody>\n",
       "    <tr>\n",
       "      <th>0</th>\n",
       "      <td>93</td>\n",
       "      <td>NHLPANTHERS</td>\n",
       "      <td>1866508</td>\n",
       "      <td>2021</td>\n",
       "      <td>Flex Plan</td>\n",
       "      <td>384.0</td>\n",
       "      <td>1.00</td>\n",
       "      <td>59</td>\n",
       "      <td>2190</td>\n",
       "      <td>160</td>\n",
       "      <td>...</td>\n",
       "      <td>0</td>\n",
       "      <td>0</td>\n",
       "      <td>0</td>\n",
       "      <td>0.54</td>\n",
       "      <td>0.19</td>\n",
       "      <td>0.36</td>\n",
       "      <td>Male</td>\n",
       "      <td>11</td>\n",
       "      <td>0</td>\n",
       "      <td>0</td>\n",
       "    </tr>\n",
       "    <tr>\n",
       "      <th>1</th>\n",
       "      <td>93</td>\n",
       "      <td>NHLPANTHERS</td>\n",
       "      <td>1937569</td>\n",
       "      <td>2021</td>\n",
       "      <td>Flex Plan</td>\n",
       "      <td>1556.0</td>\n",
       "      <td>1.00</td>\n",
       "      <td>5</td>\n",
       "      <td>1825</td>\n",
       "      <td>124</td>\n",
       "      <td>...</td>\n",
       "      <td>0</td>\n",
       "      <td>0</td>\n",
       "      <td>0</td>\n",
       "      <td>0.00</td>\n",
       "      <td>0.00</td>\n",
       "      <td>0.00</td>\n",
       "      <td>Female</td>\n",
       "      <td>18</td>\n",
       "      <td>0</td>\n",
       "      <td>0</td>\n",
       "    </tr>\n",
       "    <tr>\n",
       "      <th>2</th>\n",
       "      <td>93</td>\n",
       "      <td>NHLPANTHERS</td>\n",
       "      <td>2180018</td>\n",
       "      <td>2021</td>\n",
       "      <td>Flex Plan</td>\n",
       "      <td>904.0</td>\n",
       "      <td>0.18</td>\n",
       "      <td>15</td>\n",
       "      <td>365</td>\n",
       "      <td>174</td>\n",
       "      <td>...</td>\n",
       "      <td>0</td>\n",
       "      <td>1</td>\n",
       "      <td>20</td>\n",
       "      <td>0.00</td>\n",
       "      <td>0.00</td>\n",
       "      <td>0.00</td>\n",
       "      <td>Unknown</td>\n",
       "      <td>8</td>\n",
       "      <td>0</td>\n",
       "      <td>0</td>\n",
       "    </tr>\n",
       "    <tr>\n",
       "      <th>3</th>\n",
       "      <td>93</td>\n",
       "      <td>NHLPANTHERS</td>\n",
       "      <td>2320039</td>\n",
       "      <td>2021</td>\n",
       "      <td>Flex Plan</td>\n",
       "      <td>748.0</td>\n",
       "      <td>1.11</td>\n",
       "      <td>47</td>\n",
       "      <td>3650</td>\n",
       "      <td>198</td>\n",
       "      <td>...</td>\n",
       "      <td>0</td>\n",
       "      <td>0</td>\n",
       "      <td>0</td>\n",
       "      <td>0.03</td>\n",
       "      <td>0.00</td>\n",
       "      <td>0.00</td>\n",
       "      <td>Male</td>\n",
       "      <td>14</td>\n",
       "      <td>0</td>\n",
       "      <td>0</td>\n",
       "    </tr>\n",
       "    <tr>\n",
       "      <th>4</th>\n",
       "      <td>93</td>\n",
       "      <td>NHLPANTHERS</td>\n",
       "      <td>2172693</td>\n",
       "      <td>2021</td>\n",
       "      <td>Flex Plan</td>\n",
       "      <td>945.0</td>\n",
       "      <td>0.60</td>\n",
       "      <td>16</td>\n",
       "      <td>3650</td>\n",
       "      <td>88</td>\n",
       "      <td>...</td>\n",
       "      <td>0</td>\n",
       "      <td>0</td>\n",
       "      <td>4</td>\n",
       "      <td>1.00</td>\n",
       "      <td>0.00</td>\n",
       "      <td>0.00</td>\n",
       "      <td>Unknown</td>\n",
       "      <td>22</td>\n",
       "      <td>0</td>\n",
       "      <td>0</td>\n",
       "    </tr>\n",
       "  </tbody>\n",
       "</table>\n",
       "<p>5 rows × 23 columns</p>\n",
       "</div>"
      ],
      "text/plain": [
       "   lkupclientid   clientcode  dimcustomermasterid  year productgrouping  \\\n",
       "0            93  NHLPANTHERS              1866508  2021       Flex Plan   \n",
       "1            93  NHLPANTHERS              1937569  2021       Flex Plan   \n",
       "2            93  NHLPANTHERS              2180018  2021       Flex Plan   \n",
       "3            93  NHLPANTHERS              2320039  2021       Flex Plan   \n",
       "4            93  NHLPANTHERS              2172693  2021       Flex Plan   \n",
       "\n",
       "   totalspent  attendancepercent  renewedbeforedays  source_tenure  tenure  \\\n",
       "0       384.0               1.00                 59           2190     160   \n",
       "1      1556.0               1.00                  5           1825     124   \n",
       "2       904.0               0.18                 15            365     174   \n",
       "3       748.0               1.11                 47           3650     198   \n",
       "4       945.0               0.60                 16           3650      88   \n",
       "\n",
       "   ...  missed_games_2  missed_games_over_2  forward_records  opentosendratio  \\\n",
       "0  ...               0                    0                0             0.54   \n",
       "1  ...               0                    0                0             0.00   \n",
       "2  ...               0                    1               20             0.00   \n",
       "3  ...               0                    0                0             0.03   \n",
       "4  ...               0                    0                4             1.00   \n",
       "\n",
       "   clicktosendratio  clicktoopenratio   gender  phonecall  inperson_contact  \\\n",
       "0              0.19              0.36     Male         11                 0   \n",
       "1              0.00              0.00   Female         18                 0   \n",
       "2              0.00              0.00  Unknown          8                 0   \n",
       "3              0.00              0.00     Male         14                 0   \n",
       "4              0.00              0.00  Unknown         22                 0   \n",
       "\n",
       "  isnextyear_buyer  \n",
       "0                0  \n",
       "1                0  \n",
       "2                0  \n",
       "3                0  \n",
       "4                0  \n",
       "\n",
       "[5 rows x 23 columns]"
      ]
     },
     "execution_count": 24,
     "metadata": {},
     "output_type": "execute_result"
    }
   ],
   "source": [
    "df.head()"
   ]
  },
  {
   "cell_type": "code",
   "execution_count": 25,
   "metadata": {},
   "outputs": [],
   "source": [
    "sample_01 = df[(df['gender'] == \"Male\")]\n",
    "\n",
    "sample_02 = df[(df['gender'] == \"Female\")]"
   ]
  },
  {
   "cell_type": "code",
   "execution_count": 26,
   "metadata": {},
   "outputs": [
    {
     "data": {
      "text/plain": [
       "LeveneResult(statistic=1.2551792891609728, pvalue=0.2637141018084891)"
      ]
     },
     "execution_count": 26,
     "metadata": {},
     "output_type": "execute_result"
    }
   ],
   "source": [
    "stats.levene(sample_01[\"opentosendratio\"], sample_02[\"opentosendratio\"])"
   ]
  },
  {
   "cell_type": "code",
   "execution_count": 27,
   "metadata": {},
   "outputs": [
    {
     "data": {
      "text/plain": [
       "LeveneResult(statistic=0.3431764719076128, pvalue=0.5585659926116238)"
      ]
     },
     "execution_count": 27,
     "metadata": {},
     "output_type": "execute_result"
    }
   ],
   "source": [
    "stats.levene(sample_01[\"attendancepercent\"], sample_02[\"attendancepercent\"])"
   ]
  },
  {
   "cell_type": "code",
   "execution_count": 28,
   "metadata": {},
   "outputs": [
    {
     "data": {
      "text/plain": [
       "LeveneResult(statistic=0.5092564714611473, pvalue=0.47617203949306464)"
      ]
     },
     "execution_count": 28,
     "metadata": {},
     "output_type": "execute_result"
    }
   ],
   "source": [
    "stats.levene(sample_01[\"totalspent\"], sample_02[\"totalspent\"])"
   ]
  },
  {
   "cell_type": "code",
   "execution_count": null,
   "metadata": {},
   "outputs": [],
   "source": []
  }
 ],
 "metadata": {
  "kernelspec": {
   "display_name": "stellar",
   "language": "python",
   "name": "python3"
  },
  "language_info": {
   "codemirror_mode": {
    "name": "ipython",
    "version": 3
   },
   "file_extension": ".py",
   "mimetype": "text/x-python",
   "name": "python",
   "nbconvert_exporter": "python",
   "pygments_lexer": "ipython3",
   "version": "3.8.13"
  },
  "orig_nbformat": 4,
  "vscode": {
   "interpreter": {
    "hash": "9ff21e74100168d25af3f638f377b85439a2b471c55b2a5b18e7e11924cb9a02"
   }
  }
 },
 "nbformat": 4,
 "nbformat_minor": 2
}
