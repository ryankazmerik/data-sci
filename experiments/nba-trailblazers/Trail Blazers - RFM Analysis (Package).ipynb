{
 "cells": [
  {
   "cell_type": "markdown",
   "id": "61037526-75ba-4674-a31e-d5e2e805f26b",
   "metadata": {},
   "source": [
    "# Portland Trail Blazers - RFM Clustering : Package Buyers\n",
    "* StelllarAlgo Data Science\n",
    "* Ryan Kazmerik\n",
    "* Jul 15, 2022"
   ]
  },
  {
   "cell_type": "markdown",
   "metadata": {},
   "source": [
    "## Hypothesis\n",
    "\n",
    "The NBA has provided StellarAlgo with a dataset containing ~400,000 fans who are engaging with the Portland Trail Blazers team through various channels, but are unknown to the team as they have not yet purchased a ticket.\n",
    "\n",
    "***We estimate that by calculating RFM (recency, frequency, monetary) metrics for known PTB fans, we can approximate the Potential Gross Revenue of the unknown fans.***\n",
    "\n",
    "This experiment will start with some exploratory data analysis, then calculate and cluster the known fans based on the RFM metrics. Then we'll segment the known fans into three groups and calculate the **Total Gross Revenue** of each group.\n",
    "\n",
    "The same segmentation is applied to the unknown fans provided by the NBA, allowing us to approximate the **Potential Gross Revenue** for each segment."
   ]
  },
  {
   "cell_type": "code",
   "execution_count": 1,
   "id": "573b8578-5434-4dae-9311-eb051fb342f2",
   "metadata": {},
   "outputs": [],
   "source": [
    "import matplotlib.pyplot as plt\n",
    "import numpy as np \n",
    "import pandas as pd\n",
    "\n",
    "#from pandas_profiling import ProfileReport\n",
    "from sklearn.cluster import KMeans\n",
    "from pycaret.clustering import *\n",
    "\n",
    "pd.set_option('display.float_format', lambda x: '%.2f' % x)\n"
   ]
  },
  {
   "cell_type": "markdown",
   "id": "5dab8fed",
   "metadata": {},
   "source": [
    "## Data Wrangling"
   ]
  },
  {
   "cell_type": "markdown",
   "id": "0eb5cbda",
   "metadata": {},
   "source": [
    "For our experiment, we need two datasets:\n",
    "1. Fans who have bought tickets to a Trail Blazers game. We can get this from our Trail Blazers StellarAlgo tables.\n",
    "2. Fans who have engaged with the Trail Blazers via streaming, or gaming data. This we can get from our dataset provided by the NBA."
   ]
  },
  {
   "cell_type": "markdown",
   "id": "726e120d",
   "metadata": {},
   "source": [
    "### PTB Ticketing Dataset"
   ]
  },
  {
   "cell_type": "code",
   "execution_count": 2,
   "id": "5cf07a70-9e64-48e6-9108-79795ca445b8",
   "metadata": {},
   "outputs": [
    {
     "name": "stdout",
     "output_type": "stream",
     "text": [
      "<class 'pandas.core.frame.DataFrame'>\n",
      "RangeIndex: 1975722 entries, 0 to 1975721\n",
      "Data columns (total 11 columns):\n",
      " #   Column               Dtype  \n",
      "---  ------               -----  \n",
      " 0   dimcustomermasterid  int64  \n",
      " 1   purchasedate         object \n",
      " 2   ticketcount          int64  \n",
      " 3   revenue              float64\n",
      " 4   isplanproduct        bool   \n",
      " 5   producttype          object \n",
      " 6   subproductname       object \n",
      " 7   seasonyear           int64  \n",
      " 8   country              object \n",
      " 9   stateprovince        object \n",
      " 10  zippostal            object \n",
      "dtypes: bool(1), float64(1), int64(3), object(6)\n",
      "memory usage: 152.6+ MB\n"
     ]
    }
   ],
   "source": [
    "\"\"\"\n",
    "    data/ptb_cohort_purchase.csv contains data from the following query:\n",
    "\n",
    "    SELECT p.dimcustomermasterid, p.purchasedate, p.ticketcount, p.revenue, p.isplanproduct, p.producttype, p.subproductname, p.seasonyear,\n",
    "       c.dimcustomermasterid, c.country, c.stateprovince, c.zippostal \n",
    "    FROM \"ptb_cohort_purchase\"  p \n",
    "    INNER JOIN \"ptb_dim_customer_master\" c\n",
    "    ON p.dimcustomermasterid = c.dimcustomermasterid\n",
    "\"\"\"\n",
    "\n",
    "df = pd.read_csv(\"./data/ptb_cohort_purchase.csv\")\n",
    "df.info()"
   ]
  },
  {
   "cell_type": "code",
   "execution_count": 3,
   "id": "7a1e3978",
   "metadata": {},
   "outputs": [
    {
     "data": {
      "text/html": [
       "<div>\n",
       "<style scoped>\n",
       "    .dataframe tbody tr th:only-of-type {\n",
       "        vertical-align: middle;\n",
       "    }\n",
       "\n",
       "    .dataframe tbody tr th {\n",
       "        vertical-align: top;\n",
       "    }\n",
       "\n",
       "    .dataframe thead th {\n",
       "        text-align: right;\n",
       "    }\n",
       "</style>\n",
       "<table border=\"1\" class=\"dataframe\">\n",
       "  <thead>\n",
       "    <tr style=\"text-align: right;\">\n",
       "      <th></th>\n",
       "      <th>dimcustomermasterid</th>\n",
       "      <th>purchasedate</th>\n",
       "      <th>ticketcount</th>\n",
       "      <th>revenue</th>\n",
       "      <th>isplanproduct</th>\n",
       "      <th>producttype</th>\n",
       "      <th>subproductname</th>\n",
       "      <th>seasonyear</th>\n",
       "      <th>country</th>\n",
       "      <th>stateprovince</th>\n",
       "      <th>zippostal</th>\n",
       "    </tr>\n",
       "  </thead>\n",
       "  <tbody>\n",
       "    <tr>\n",
       "      <th>0</th>\n",
       "      <td>702748196</td>\n",
       "      <td>2017-02-06</td>\n",
       "      <td>2</td>\n",
       "      <td>68.00</td>\n",
       "      <td>True</td>\n",
       "      <td>Package</td>\n",
       "      <td>Full Season</td>\n",
       "      <td>2017</td>\n",
       "      <td>USA</td>\n",
       "      <td>OR</td>\n",
       "      <td>97123-4016</td>\n",
       "    </tr>\n",
       "    <tr>\n",
       "      <th>1</th>\n",
       "      <td>702748196</td>\n",
       "      <td>2017-02-06</td>\n",
       "      <td>2</td>\n",
       "      <td>68.00</td>\n",
       "      <td>True</td>\n",
       "      <td>Package</td>\n",
       "      <td>Full Season</td>\n",
       "      <td>2017</td>\n",
       "      <td>USA</td>\n",
       "      <td>OR</td>\n",
       "      <td>97123-4016</td>\n",
       "    </tr>\n",
       "    <tr>\n",
       "      <th>2</th>\n",
       "      <td>702748196</td>\n",
       "      <td>2017-02-06</td>\n",
       "      <td>2</td>\n",
       "      <td>68.00</td>\n",
       "      <td>True</td>\n",
       "      <td>Package</td>\n",
       "      <td>Full Season</td>\n",
       "      <td>2017</td>\n",
       "      <td>USA</td>\n",
       "      <td>OR</td>\n",
       "      <td>97123-4016</td>\n",
       "    </tr>\n",
       "    <tr>\n",
       "      <th>3</th>\n",
       "      <td>702748196</td>\n",
       "      <td>2017-02-06</td>\n",
       "      <td>2</td>\n",
       "      <td>302.40</td>\n",
       "      <td>True</td>\n",
       "      <td>Package</td>\n",
       "      <td>Full Season</td>\n",
       "      <td>2017</td>\n",
       "      <td>USA</td>\n",
       "      <td>OR</td>\n",
       "      <td>97123-4016</td>\n",
       "    </tr>\n",
       "    <tr>\n",
       "      <th>4</th>\n",
       "      <td>702748196</td>\n",
       "      <td>2017-02-06</td>\n",
       "      <td>2</td>\n",
       "      <td>68.00</td>\n",
       "      <td>True</td>\n",
       "      <td>Package</td>\n",
       "      <td>Full Season</td>\n",
       "      <td>2017</td>\n",
       "      <td>USA</td>\n",
       "      <td>OR</td>\n",
       "      <td>97123-4016</td>\n",
       "    </tr>\n",
       "  </tbody>\n",
       "</table>\n",
       "</div>"
      ],
      "text/plain": [
       "   dimcustomermasterid purchasedate  ticketcount  revenue  isplanproduct  \\\n",
       "0            702748196   2017-02-06            2    68.00           True   \n",
       "1            702748196   2017-02-06            2    68.00           True   \n",
       "2            702748196   2017-02-06            2    68.00           True   \n",
       "3            702748196   2017-02-06            2   302.40           True   \n",
       "4            702748196   2017-02-06            2    68.00           True   \n",
       "\n",
       "  producttype subproductname  seasonyear country stateprovince   zippostal  \n",
       "0     Package    Full Season        2017     USA            OR  97123-4016  \n",
       "1     Package    Full Season        2017     USA            OR  97123-4016  \n",
       "2     Package    Full Season        2017     USA            OR  97123-4016  \n",
       "3     Package    Full Season        2017     USA            OR  97123-4016  \n",
       "4     Package    Full Season        2017     USA            OR  97123-4016  "
      ]
     },
     "execution_count": 3,
     "metadata": {},
     "output_type": "execute_result"
    }
   ],
   "source": [
    "df.head()"
   ]
  },
  {
   "cell_type": "markdown",
   "id": "d25bb5f5",
   "metadata": {},
   "source": [
    "### NBA Engagement Dataset"
   ]
  },
  {
   "cell_type": "code",
   "execution_count": 4,
   "id": "36992be0",
   "metadata": {},
   "outputs": [
    {
     "name": "stdout",
     "output_type": "stream",
     "text": [
      "<class 'pandas.core.frame.DataFrame'>\n",
      "RangeIndex: 1671077 entries, 0 to 1671076\n",
      "Data columns (total 5 columns):\n",
      " #   Column               Non-Null Count    Dtype \n",
      "---  ------               --------------    ----- \n",
      " 0   dimcustomermasterid  1671077 non-null  int64 \n",
      " 1   country_value        1447104 non-null  object\n",
      " 2   stateprovince_value  936378 non-null   object\n",
      " 3   zippostal_value      1263889 non-null  object\n",
      " 4   entity_source        402626 non-null   object\n",
      "dtypes: int64(1), object(4)\n",
      "memory usage: 63.7+ MB\n"
     ]
    }
   ],
   "source": [
    "\"\"\"\n",
    "  data/ptb_nba_engagement.csv contains data from the following query:\n",
    "\n",
    "  SELECT dimcustomermasterid, entity_source\n",
    "  FROM \"league-nba-poc\".\"tagged_customer_master\";\n",
    "\"\"\"\n",
    "\n",
    "df2 = pd.read_csv(\"./data/ptb_nba_engagement.csv\")\n",
    "df2.info()"
   ]
  },
  {
   "cell_type": "markdown",
   "id": "d98242dd",
   "metadata": {},
   "source": [
    "## Data Preprocessing"
   ]
  },
  {
   "cell_type": "markdown",
   "id": "ea0f7929",
   "metadata": {},
   "source": [
    "For our analysis we will only consider **package buyers**, because we are interested in modelling the typical individual ticket buyer. Let's see how much data we have for package buyers and what sub-products are included:"
   ]
  },
  {
   "cell_type": "code",
   "execution_count": 5,
   "id": "2caadb5a",
   "metadata": {},
   "outputs": [
    {
     "data": {
      "text/plain": [
       "True     1017544\n",
       "False     958178\n",
       "Name: isplanproduct, dtype: int64"
      ]
     },
     "execution_count": 5,
     "metadata": {},
     "output_type": "execute_result"
    }
   ],
   "source": [
    "df['isplanproduct'].value_counts()"
   ]
  },
  {
   "cell_type": "markdown",
   "id": "9d116b0b",
   "metadata": {},
   "source": [
    "Remove the rows where isplanproduct = False:"
   ]
  },
  {
   "cell_type": "code",
   "execution_count": 6,
   "id": "77c5240d",
   "metadata": {},
   "outputs": [
    {
     "name": "stdout",
     "output_type": "stream",
     "text": [
      "<class 'pandas.core.frame.DataFrame'>\n",
      "Int64Index: 1017544 entries, 0 to 1975721\n",
      "Data columns (total 10 columns):\n",
      " #   Column               Non-Null Count    Dtype  \n",
      "---  ------               --------------    -----  \n",
      " 0   dimcustomermasterid  1017544 non-null  int64  \n",
      " 1   purchasedate         1017544 non-null  object \n",
      " 2   ticketcount          1017544 non-null  int64  \n",
      " 3   revenue              1017544 non-null  float64\n",
      " 4   producttype          1017544 non-null  object \n",
      " 5   subproductname       1017544 non-null  object \n",
      " 6   seasonyear           1017544 non-null  int64  \n",
      " 7   country              1017438 non-null  object \n",
      " 8   stateprovince        1010237 non-null  object \n",
      " 9   zippostal            1015104 non-null  object \n",
      "dtypes: float64(1), int64(3), object(6)\n",
      "memory usage: 85.4+ MB\n"
     ]
    }
   ],
   "source": [
    "df = df[df['isplanproduct'] == True]\n",
    "df.drop(columns=[\"isplanproduct\"], inplace=True)\n",
    "\n",
    "df.info()"
   ]
  },
  {
   "cell_type": "markdown",
   "id": "5c8d230e",
   "metadata": {},
   "source": [
    "Let's include data from 2018 to present in our analysis, so we'll remove data from seasons prior to 2018:"
   ]
  },
  {
   "cell_type": "code",
   "execution_count": 7,
   "id": "8dad8040",
   "metadata": {},
   "outputs": [
    {
     "data": {
      "text/plain": [
       "(787570, 10)"
      ]
     },
     "execution_count": 7,
     "metadata": {},
     "output_type": "execute_result"
    }
   ],
   "source": [
    "df = df[df[\"seasonyear\"] >= 2018]\n",
    "df.shape"
   ]
  },
  {
   "cell_type": "markdown",
   "id": "87cb9674",
   "metadata": {},
   "source": [
    "We'll also have a look at the included product and subproduct types:"
   ]
  },
  {
   "cell_type": "code",
   "execution_count": 8,
   "id": "4ac8ec5e",
   "metadata": {},
   "outputs": [
    {
     "data": {
      "text/plain": [
       "Package    787570\n",
       "Name: producttype, dtype: int64"
      ]
     },
     "execution_count": 8,
     "metadata": {},
     "output_type": "execute_result"
    }
   ],
   "source": [
    "df[\"producttype\"].value_counts()"
   ]
  },
  {
   "cell_type": "code",
   "execution_count": 9,
   "id": "18fb76ca",
   "metadata": {},
   "outputs": [
    {
     "data": {
      "text/plain": [
       "Full Season              665342\n",
       "Half Season               60193\n",
       "Quarter Season            29543\n",
       "Full Season Broker        19893\n",
       "Mini Plan                 12101\n",
       "Half Season Broker          366\n",
       "Quarter Season Broker        72\n",
       "Mini Plan Broker             60\n",
       "Name: subproductname, dtype: int64"
      ]
     },
     "execution_count": 9,
     "metadata": {},
     "output_type": "execute_result"
    }
   ],
   "source": [
    "df[\"subproductname\"].value_counts()"
   ]
  },
  {
   "cell_type": "markdown",
   "id": "6e607771",
   "metadata": {},
   "source": [
    "Let's remove the broker records so we are looking at actual customer behaviour:"
   ]
  },
  {
   "cell_type": "code",
   "execution_count": 10,
   "id": "f2915acd",
   "metadata": {},
   "outputs": [
    {
     "data": {
      "text/plain": [
       "Full Season       665342\n",
       "Half Season        60193\n",
       "Quarter Season     29543\n",
       "Mini Plan          12101\n",
       "Name: subproductname, dtype: int64"
      ]
     },
     "execution_count": 10,
     "metadata": {},
     "output_type": "execute_result"
    }
   ],
   "source": [
    "df = df[df[\"subproductname\"].isin([\"Full Season\",\"Half Season\",\"Quarter Season\",\"Mini Plan\"])]\n",
    "df.reset_index(drop=True, inplace=True)\n",
    "\n",
    "df[\"subproductname\"].value_counts()"
   ]
  },
  {
   "cell_type": "code",
   "execution_count": 11,
   "id": "c72ea2d4",
   "metadata": {},
   "outputs": [
    {
     "data": {
      "text/html": [
       "<div>\n",
       "<style scoped>\n",
       "    .dataframe tbody tr th:only-of-type {\n",
       "        vertical-align: middle;\n",
       "    }\n",
       "\n",
       "    .dataframe tbody tr th {\n",
       "        vertical-align: top;\n",
       "    }\n",
       "\n",
       "    .dataframe thead th {\n",
       "        text-align: right;\n",
       "    }\n",
       "</style>\n",
       "<table border=\"1\" class=\"dataframe\">\n",
       "  <thead>\n",
       "    <tr style=\"text-align: right;\">\n",
       "      <th></th>\n",
       "      <th>dimcustomermasterid</th>\n",
       "      <th>purchasedate</th>\n",
       "      <th>ticketcount</th>\n",
       "      <th>revenue</th>\n",
       "      <th>producttype</th>\n",
       "      <th>subproductname</th>\n",
       "      <th>seasonyear</th>\n",
       "      <th>country</th>\n",
       "      <th>stateprovince</th>\n",
       "      <th>zippostal</th>\n",
       "    </tr>\n",
       "  </thead>\n",
       "  <tbody>\n",
       "    <tr>\n",
       "      <th>0</th>\n",
       "      <td>702748196</td>\n",
       "      <td>2018-02-26</td>\n",
       "      <td>2</td>\n",
       "      <td>75.20</td>\n",
       "      <td>Package</td>\n",
       "      <td>Full Season</td>\n",
       "      <td>2018</td>\n",
       "      <td>USA</td>\n",
       "      <td>OR</td>\n",
       "      <td>97123-4016</td>\n",
       "    </tr>\n",
       "    <tr>\n",
       "      <th>1</th>\n",
       "      <td>702748196</td>\n",
       "      <td>2018-02-26</td>\n",
       "      <td>1</td>\n",
       "      <td>168.00</td>\n",
       "      <td>Package</td>\n",
       "      <td>Full Season</td>\n",
       "      <td>2018</td>\n",
       "      <td>USA</td>\n",
       "      <td>OR</td>\n",
       "      <td>97123-4016</td>\n",
       "    </tr>\n",
       "    <tr>\n",
       "      <th>2</th>\n",
       "      <td>702748196</td>\n",
       "      <td>2018-02-26</td>\n",
       "      <td>2</td>\n",
       "      <td>75.20</td>\n",
       "      <td>Package</td>\n",
       "      <td>Full Season</td>\n",
       "      <td>2018</td>\n",
       "      <td>USA</td>\n",
       "      <td>OR</td>\n",
       "      <td>97123-4016</td>\n",
       "    </tr>\n",
       "    <tr>\n",
       "      <th>3</th>\n",
       "      <td>702748196</td>\n",
       "      <td>2018-02-26</td>\n",
       "      <td>2</td>\n",
       "      <td>336.00</td>\n",
       "      <td>Package</td>\n",
       "      <td>Full Season</td>\n",
       "      <td>2018</td>\n",
       "      <td>USA</td>\n",
       "      <td>OR</td>\n",
       "      <td>97123-4016</td>\n",
       "    </tr>\n",
       "    <tr>\n",
       "      <th>4</th>\n",
       "      <td>702748196</td>\n",
       "      <td>2018-02-26</td>\n",
       "      <td>2</td>\n",
       "      <td>75.20</td>\n",
       "      <td>Package</td>\n",
       "      <td>Full Season</td>\n",
       "      <td>2018</td>\n",
       "      <td>USA</td>\n",
       "      <td>OR</td>\n",
       "      <td>97123-4016</td>\n",
       "    </tr>\n",
       "  </tbody>\n",
       "</table>\n",
       "</div>"
      ],
      "text/plain": [
       "   dimcustomermasterid purchasedate  ticketcount  revenue producttype  \\\n",
       "0            702748196   2018-02-26            2    75.20     Package   \n",
       "1            702748196   2018-02-26            1   168.00     Package   \n",
       "2            702748196   2018-02-26            2    75.20     Package   \n",
       "3            702748196   2018-02-26            2   336.00     Package   \n",
       "4            702748196   2018-02-26            2    75.20     Package   \n",
       "\n",
       "  subproductname  seasonyear country stateprovince   zippostal  \n",
       "0    Full Season        2018     USA            OR  97123-4016  \n",
       "1    Full Season        2018     USA            OR  97123-4016  \n",
       "2    Full Season        2018     USA            OR  97123-4016  \n",
       "3    Full Season        2018     USA            OR  97123-4016  \n",
       "4    Full Season        2018     USA            OR  97123-4016  "
      ]
     },
     "execution_count": 11,
     "metadata": {},
     "output_type": "execute_result"
    }
   ],
   "source": [
    "df.head()"
   ]
  },
  {
   "cell_type": "markdown",
   "id": "10f35c85-4ba4-4bdd-8238-3dc41da2cb5a",
   "metadata": {},
   "source": [
    "## Exploratory Data Analysis (EDA)"
   ]
  },
  {
   "cell_type": "markdown",
   "id": "f1a7073f",
   "metadata": {},
   "source": [
    "Let's have a closer look at the data and decide whether we need any data cleaning and data transformation for further analysis:"
   ]
  },
  {
   "cell_type": "code",
   "execution_count": 12,
   "id": "17e6bdb6",
   "metadata": {},
   "outputs": [],
   "source": [
    "# generate a pandas profile report on the ptb dataset\n",
    "#profile = ProfileReport(df, minimal=True)\n",
    "#profile.to_file(\"./reports/pandas-profile-report-pb.html\")"
   ]
  },
  {
   "cell_type": "markdown",
   "id": "4b8c8591",
   "metadata": {},
   "source": [
    "By reading the profiling report, we can see that the following actions should be taken to improve the dataset quality:\n",
    "* Revenue is highly skewed\n",
    "\n",
    "There are no major missing values so the data looks to be in good shape, we can deal with the revenue skew later on in this notebook."
   ]
  },
  {
   "cell_type": "markdown",
   "id": "52e37e52",
   "metadata": {},
   "source": [
    "### Data Types\n",
    "\n",
    "Let's look at the data types in our dataframe to see if we need to convert any values to a different type"
   ]
  },
  {
   "cell_type": "code",
   "execution_count": 14,
   "id": "bd104e2f",
   "metadata": {},
   "outputs": [
    {
     "data": {
      "text/plain": [
       "dimcustomermasterid      int64\n",
       "purchasedate            object\n",
       "ticketcount              int64\n",
       "revenue                float64\n",
       "producttype             object\n",
       "subproductname          object\n",
       "seasonyear               int64\n",
       "country                 object\n",
       "stateprovince           object\n",
       "zippostal               object\n",
       "dtype: object"
      ]
     },
     "execution_count": 14,
     "metadata": {},
     "output_type": "execute_result"
    }
   ],
   "source": [
    "df.dtypes"
   ]
  },
  {
   "cell_type": "markdown",
   "id": "d6d5d591",
   "metadata": {},
   "source": [
    "Purchase date should be a datetime not an object (string), all of the other inferred data types look correct:"
   ]
  },
  {
   "cell_type": "code",
   "execution_count": 15,
   "id": "1344b285",
   "metadata": {},
   "outputs": [],
   "source": [
    "df['purchasedate'] =  pd.to_datetime(df['purchasedate'], format='%Y-%m-%d')"
   ]
  },
  {
   "cell_type": "markdown",
   "id": "e436a89c",
   "metadata": {},
   "source": [
    "Our cleaned up dataset is ready for the next step, calculating RFM metrics:"
   ]
  },
  {
   "cell_type": "code",
   "execution_count": 16,
   "id": "68b44fa1",
   "metadata": {},
   "outputs": [
    {
     "name": "stdout",
     "output_type": "stream",
     "text": [
      "<class 'pandas.core.frame.DataFrame'>\n",
      "Int64Index: 766525 entries, 0 to 767178\n",
      "Data columns (total 10 columns):\n",
      " #   Column               Non-Null Count   Dtype         \n",
      "---  ------               --------------   -----         \n",
      " 0   dimcustomermasterid  766525 non-null  int64         \n",
      " 1   purchasedate         766525 non-null  datetime64[ns]\n",
      " 2   ticketcount          766525 non-null  int64         \n",
      " 3   revenue              766525 non-null  float64       \n",
      " 4   producttype          766525 non-null  object        \n",
      " 5   subproductname       766525 non-null  object        \n",
      " 6   seasonyear           766525 non-null  int64         \n",
      " 7   country              766516 non-null  object        \n",
      " 8   stateprovince        760792 non-null  object        \n",
      " 9   zippostal            764616 non-null  object        \n",
      "dtypes: datetime64[ns](1), float64(1), int64(3), object(5)\n",
      "memory usage: 64.3+ MB\n"
     ]
    }
   ],
   "source": [
    "df.info()"
   ]
  },
  {
   "cell_type": "code",
   "execution_count": 17,
   "id": "e120aba2",
   "metadata": {},
   "outputs": [
    {
     "data": {
      "text/html": [
       "<div>\n",
       "<style scoped>\n",
       "    .dataframe tbody tr th:only-of-type {\n",
       "        vertical-align: middle;\n",
       "    }\n",
       "\n",
       "    .dataframe tbody tr th {\n",
       "        vertical-align: top;\n",
       "    }\n",
       "\n",
       "    .dataframe thead th {\n",
       "        text-align: right;\n",
       "    }\n",
       "</style>\n",
       "<table border=\"1\" class=\"dataframe\">\n",
       "  <thead>\n",
       "    <tr style=\"text-align: right;\">\n",
       "      <th></th>\n",
       "      <th>dimcustomermasterid</th>\n",
       "      <th>purchasedate</th>\n",
       "      <th>ticketcount</th>\n",
       "      <th>revenue</th>\n",
       "      <th>producttype</th>\n",
       "      <th>subproductname</th>\n",
       "      <th>seasonyear</th>\n",
       "      <th>country</th>\n",
       "      <th>stateprovince</th>\n",
       "      <th>zippostal</th>\n",
       "    </tr>\n",
       "  </thead>\n",
       "  <tbody>\n",
       "    <tr>\n",
       "      <th>0</th>\n",
       "      <td>702748196</td>\n",
       "      <td>2018-02-26</td>\n",
       "      <td>2</td>\n",
       "      <td>75.20</td>\n",
       "      <td>Package</td>\n",
       "      <td>Full Season</td>\n",
       "      <td>2018</td>\n",
       "      <td>USA</td>\n",
       "      <td>OR</td>\n",
       "      <td>97123-4016</td>\n",
       "    </tr>\n",
       "    <tr>\n",
       "      <th>1</th>\n",
       "      <td>702748196</td>\n",
       "      <td>2018-02-26</td>\n",
       "      <td>1</td>\n",
       "      <td>168.00</td>\n",
       "      <td>Package</td>\n",
       "      <td>Full Season</td>\n",
       "      <td>2018</td>\n",
       "      <td>USA</td>\n",
       "      <td>OR</td>\n",
       "      <td>97123-4016</td>\n",
       "    </tr>\n",
       "    <tr>\n",
       "      <th>2</th>\n",
       "      <td>702748196</td>\n",
       "      <td>2018-02-26</td>\n",
       "      <td>2</td>\n",
       "      <td>75.20</td>\n",
       "      <td>Package</td>\n",
       "      <td>Full Season</td>\n",
       "      <td>2018</td>\n",
       "      <td>USA</td>\n",
       "      <td>OR</td>\n",
       "      <td>97123-4016</td>\n",
       "    </tr>\n",
       "    <tr>\n",
       "      <th>3</th>\n",
       "      <td>702748196</td>\n",
       "      <td>2018-02-26</td>\n",
       "      <td>2</td>\n",
       "      <td>336.00</td>\n",
       "      <td>Package</td>\n",
       "      <td>Full Season</td>\n",
       "      <td>2018</td>\n",
       "      <td>USA</td>\n",
       "      <td>OR</td>\n",
       "      <td>97123-4016</td>\n",
       "    </tr>\n",
       "    <tr>\n",
       "      <th>4</th>\n",
       "      <td>702748196</td>\n",
       "      <td>2018-02-26</td>\n",
       "      <td>2</td>\n",
       "      <td>75.20</td>\n",
       "      <td>Package</td>\n",
       "      <td>Full Season</td>\n",
       "      <td>2018</td>\n",
       "      <td>USA</td>\n",
       "      <td>OR</td>\n",
       "      <td>97123-4016</td>\n",
       "    </tr>\n",
       "  </tbody>\n",
       "</table>\n",
       "</div>"
      ],
      "text/plain": [
       "   dimcustomermasterid purchasedate  ticketcount  revenue producttype  \\\n",
       "0            702748196   2018-02-26            2    75.20     Package   \n",
       "1            702748196   2018-02-26            1   168.00     Package   \n",
       "2            702748196   2018-02-26            2    75.20     Package   \n",
       "3            702748196   2018-02-26            2   336.00     Package   \n",
       "4            702748196   2018-02-26            2    75.20     Package   \n",
       "\n",
       "  subproductname  seasonyear country stateprovince   zippostal  \n",
       "0    Full Season        2018     USA            OR  97123-4016  \n",
       "1    Full Season        2018     USA            OR  97123-4016  \n",
       "2    Full Season        2018     USA            OR  97123-4016  \n",
       "3    Full Season        2018     USA            OR  97123-4016  \n",
       "4    Full Season        2018     USA            OR  97123-4016  "
      ]
     },
     "execution_count": 17,
     "metadata": {},
     "output_type": "execute_result"
    }
   ],
   "source": [
    "df.head()"
   ]
  },
  {
   "cell_type": "markdown",
   "id": "5c789725",
   "metadata": {},
   "source": [
    "## Calculating RFM Metrics"
   ]
  },
  {
   "cell_type": "markdown",
   "id": "1d7eac49",
   "metadata": {},
   "source": [
    "**RFM** stands for Recency - Frequency - Monetary Value. Theoretically we will have segments like below:\n",
    "\n",
    "* Low Value: Customers who are less active than others, not very frequent buyer/visitor and generates low revenue.\n",
    "\n",
    "* Mid Value: In the middle of everything. Often purchasing (but not as much as our High Values), fairly frequent and generates moderate revenue.\n",
    "\n",
    "* High Value: The group we don’t want to lose. High Revenue, Frequency and low Inactivity."
   ]
  },
  {
   "cell_type": "markdown",
   "id": "b26a540d",
   "metadata": {},
   "source": [
    "Let's create a dataframe to hold basic information about each individual customer:"
   ]
  },
  {
   "cell_type": "code",
   "execution_count": 18,
   "id": "bfbbaca6",
   "metadata": {},
   "outputs": [
    {
     "data": {
      "text/html": [
       "<div>\n",
       "<style scoped>\n",
       "    .dataframe tbody tr th:only-of-type {\n",
       "        vertical-align: middle;\n",
       "    }\n",
       "\n",
       "    .dataframe tbody tr th {\n",
       "        vertical-align: top;\n",
       "    }\n",
       "\n",
       "    .dataframe thead th {\n",
       "        text-align: right;\n",
       "    }\n",
       "</style>\n",
       "<table border=\"1\" class=\"dataframe\">\n",
       "  <thead>\n",
       "    <tr style=\"text-align: right;\">\n",
       "      <th></th>\n",
       "      <th>dimcustomermasterid</th>\n",
       "      <th>country</th>\n",
       "      <th>stateprovince</th>\n",
       "    </tr>\n",
       "  </thead>\n",
       "  <tbody>\n",
       "    <tr>\n",
       "      <th>0</th>\n",
       "      <td>702748196</td>\n",
       "      <td>USA</td>\n",
       "      <td>OR</td>\n",
       "    </tr>\n",
       "    <tr>\n",
       "      <th>6</th>\n",
       "      <td>486156197</td>\n",
       "      <td>USA</td>\n",
       "      <td>OR</td>\n",
       "    </tr>\n",
       "    <tr>\n",
       "      <th>11</th>\n",
       "      <td>380867215</td>\n",
       "      <td>USA</td>\n",
       "      <td>OR</td>\n",
       "    </tr>\n",
       "    <tr>\n",
       "      <th>32</th>\n",
       "      <td>612705220</td>\n",
       "      <td>USA</td>\n",
       "      <td>OR</td>\n",
       "    </tr>\n",
       "    <tr>\n",
       "      <th>49</th>\n",
       "      <td>622305647</td>\n",
       "      <td>USA</td>\n",
       "      <td>OR</td>\n",
       "    </tr>\n",
       "  </tbody>\n",
       "</table>\n",
       "</div>"
      ],
      "text/plain": [
       "    dimcustomermasterid country stateprovince\n",
       "0             702748196     USA            OR\n",
       "6             486156197     USA            OR\n",
       "11            380867215     USA            OR\n",
       "32            612705220     USA            OR\n",
       "49            622305647     USA            OR"
      ]
     },
     "execution_count": 18,
     "metadata": {},
     "output_type": "execute_result"
    }
   ],
   "source": [
    "# create a generic user dataframe to keep dimcustomermasterid and new segmentation scores\n",
    "df_customer = df[[\"dimcustomermasterid\", \"country\", \"stateprovince\"]]\n",
    "df_customer = df_customer.drop_duplicates(subset=\"dimcustomermasterid\", keep=\"first\")\n",
    "\n",
    "df_customer.head()"
   ]
  },
  {
   "cell_type": "markdown",
   "id": "96c59e92",
   "metadata": {},
   "source": [
    "### Recency\n",
    "\n",
    "To calculate recency, we need to find out most recent purchase date of each customer and see how many days they are inactive for. After having no. of inactive days for each customer, we will apply K-means* clustering to assign customers a recency score:"
   ]
  },
  {
   "cell_type": "code",
   "execution_count": 19,
   "id": "6ded0fac",
   "metadata": {},
   "outputs": [
    {
     "data": {
      "text/html": [
       "<div>\n",
       "<style scoped>\n",
       "    .dataframe tbody tr th:only-of-type {\n",
       "        vertical-align: middle;\n",
       "    }\n",
       "\n",
       "    .dataframe tbody tr th {\n",
       "        vertical-align: top;\n",
       "    }\n",
       "\n",
       "    .dataframe thead th {\n",
       "        text-align: right;\n",
       "    }\n",
       "</style>\n",
       "<table border=\"1\" class=\"dataframe\">\n",
       "  <thead>\n",
       "    <tr style=\"text-align: right;\">\n",
       "      <th></th>\n",
       "      <th>dimcustomermasterid</th>\n",
       "      <th>country</th>\n",
       "      <th>stateprovince</th>\n",
       "      <th>recency</th>\n",
       "    </tr>\n",
       "  </thead>\n",
       "  <tbody>\n",
       "    <tr>\n",
       "      <th>0</th>\n",
       "      <td>702748196</td>\n",
       "      <td>USA</td>\n",
       "      <td>OR</td>\n",
       "      <td>554</td>\n",
       "    </tr>\n",
       "    <tr>\n",
       "      <th>1</th>\n",
       "      <td>486156197</td>\n",
       "      <td>USA</td>\n",
       "      <td>OR</td>\n",
       "      <td>91</td>\n",
       "    </tr>\n",
       "    <tr>\n",
       "      <th>2</th>\n",
       "      <td>380867215</td>\n",
       "      <td>USA</td>\n",
       "      <td>OR</td>\n",
       "      <td>553</td>\n",
       "    </tr>\n",
       "    <tr>\n",
       "      <th>3</th>\n",
       "      <td>612705220</td>\n",
       "      <td>USA</td>\n",
       "      <td>OR</td>\n",
       "      <td>163</td>\n",
       "    </tr>\n",
       "    <tr>\n",
       "      <th>4</th>\n",
       "      <td>622305647</td>\n",
       "      <td>USA</td>\n",
       "      <td>OR</td>\n",
       "      <td>309</td>\n",
       "    </tr>\n",
       "  </tbody>\n",
       "</table>\n",
       "</div>"
      ],
      "text/plain": [
       "   dimcustomermasterid country stateprovince  recency\n",
       "0            702748196     USA            OR      554\n",
       "1            486156197     USA            OR       91\n",
       "2            380867215     USA            OR      553\n",
       "3            612705220     USA            OR      163\n",
       "4            622305647     USA            OR      309"
      ]
     },
     "execution_count": 19,
     "metadata": {},
     "output_type": "execute_result"
    }
   ],
   "source": [
    "# get the max purchase date for each customer and create a dataframe with it\n",
    "df_max_purchase = df.groupby('dimcustomermasterid')[\"purchasedate\"].max().reset_index()\n",
    "df_max_purchase.columns = ['dimcustomermasterid','maxpurchasedate']\n",
    "\n",
    "# we take our observation point as the max invoice date in our dataset\n",
    "df_max_purchase['recency'] = (df_max_purchase['maxpurchasedate'].max() - df_max_purchase['maxpurchasedate']).dt.days\n",
    "\n",
    "#merge this dataframe to our new user dataframe\n",
    "df_customer = pd.merge(df_customer, df_max_purchase[['dimcustomermasterid','recency']], on='dimcustomermasterid')\n",
    "\n",
    "df_customer.head()"
   ]
  },
  {
   "cell_type": "markdown",
   "id": "e719064c",
   "metadata": {},
   "source": [
    "Let's have a look at the standard statistics for the recency metric, specifically the mean, min and max values help us to understand the range of values in this metric:"
   ]
  },
  {
   "cell_type": "code",
   "execution_count": 20,
   "id": "7498fc94",
   "metadata": {},
   "outputs": [
    {
     "data": {
      "text/plain": [
       "count   10189.00\n",
       "mean      613.38\n",
       "std       514.60\n",
       "min         0.00\n",
       "25%       163.00\n",
       "50%       360.00\n",
       "75%      1115.00\n",
       "max      1613.00\n",
       "Name: recency, dtype: float64"
      ]
     },
     "execution_count": 20,
     "metadata": {},
     "output_type": "execute_result"
    }
   ],
   "source": [
    "df_customer[\"recency\"].describe()"
   ]
  },
  {
   "cell_type": "markdown",
   "id": "25c532da",
   "metadata": {},
   "source": [
    "Let's have a look at the distribution to see if there are any outlier datapoints affecting the range of values:"
   ]
  },
  {
   "cell_type": "code",
   "execution_count": 21,
   "id": "ef1f287d",
   "metadata": {},
   "outputs": [
    {
     "data": {
      "image/png": "[encoded data removed]",
      "text/plain": [
       "<Figure size 1440x360 with 1 Axes>"
      ]
     },
     "metadata": {},
     "output_type": "display_data"
    }
   ],
   "source": [
    "recency_fig = plt.figure(figsize=(20, 5))\n",
    "\n",
    "plt.hist(df_customer[\"recency\"], bins=50, color=\"dodgerblue\", edgecolor=\"black\")\n",
    "plt.title(\"Recency by Customer\")\n",
    "plt.ylabel(\"No. Customers\")\n",
    "plt.xlabel(\"Recency (days)\")\n",
    "\n",
    "plt.show()"
   ]
  },
  {
   "cell_type": "markdown",
   "id": "c88f58f2",
   "metadata": {},
   "source": [
    "We can observe a large gap in purchasing behaviour between ~800 - 600 days ago, which aligns with when COVID-19 was declared a global pandemic. There's not much we can do to fill in that gap, so we'll leave the data as is."
   ]
  },
  {
   "cell_type": "markdown",
   "id": "0901453c",
   "metadata": {},
   "source": [
    "### Clustering Recency\n",
    "\n",
    "We are going to apply K-means clustering to assign a recency score. We will use the elbow method to determine how many clusters we need:"
   ]
  },
  {
   "cell_type": "code",
   "execution_count": 22,
   "id": "c1592bc4",
   "metadata": {},
   "outputs": [],
   "source": [
    "df_recency = df_customer[['recency']]\n",
    "setup(df_recency, silent= True,verbose= False);"
   ]
  },
  {
   "cell_type": "code",
   "execution_count": 23,
   "id": "792484d8",
   "metadata": {},
   "outputs": [
    {
     "data": {
      "image/png": "[encoded data removed]",
      "text/plain": [
       "<Figure size 576x396 with 1 Axes>"
      ]
     },
     "metadata": {},
     "output_type": "display_data"
    }
   ],
   "source": [
    "#kmeans = create_model('kmeans')\n",
    "#plot_model(kmeans, plot = 'elbow')"
   ]
  },
  {
   "cell_type": "markdown",
   "id": "ab1ef142",
   "metadata": {},
   "source": [
    "Here it looks like 3 is the optimal number of clusters as we don't get any increase in learning beyond 3 clusters."
   ]
  },
  {
   "cell_type": "code",
   "execution_count": 24,
   "id": "210060ba",
   "metadata": {},
   "outputs": [],
   "source": [
    "# build 3 clusters for recency and add it to dataframe\n",
    "kmeans = KMeans(n_clusters=3)\n",
    "kmeans.fit(df_customer[['recency']])\n",
    "df_customer['recencycluster'] = kmeans.predict(df_customer[['recency']])\n",
    "\n",
    "#function for ordering clusters from worst to best\n",
    "def order_cluster(cluster_field_name, target_field_name,df,ascending):\n",
    "    \n",
    "    df_new = df.groupby(cluster_field_name)[target_field_name].mean().reset_index()\n",
    "    df_new = df_new.sort_values(by=target_field_name,ascending=ascending).reset_index(drop=True)\n",
    "    df_new['index'] = df_new.index\n",
    "    df_final = pd.merge(df,df_new[[cluster_field_name,'index']], on=cluster_field_name)\n",
    "    df_final = df_final.drop([cluster_field_name],axis=1)\n",
    "    df_final = df_final.rename(columns={\"index\":cluster_field_name})\n",
    "    \n",
    "    return df_final\n",
    "\n",
    "df_customer = order_cluster('recencycluster', 'recency', df_customer, False)"
   ]
  },
  {
   "cell_type": "code",
   "execution_count": 25,
   "id": "bad2e278",
   "metadata": {},
   "outputs": [
    {
     "data": {
      "text/html": [
       "<div>\n",
       "<style scoped>\n",
       "    .dataframe tbody tr th:only-of-type {\n",
       "        vertical-align: middle;\n",
       "    }\n",
       "\n",
       "    .dataframe tbody tr th {\n",
       "        vertical-align: top;\n",
       "    }\n",
       "\n",
       "    .dataframe thead th {\n",
       "        text-align: right;\n",
       "    }\n",
       "</style>\n",
       "<table border=\"1\" class=\"dataframe\">\n",
       "  <thead>\n",
       "    <tr style=\"text-align: right;\">\n",
       "      <th></th>\n",
       "      <th>count</th>\n",
       "      <th>mean</th>\n",
       "      <th>std</th>\n",
       "      <th>min</th>\n",
       "      <th>25%</th>\n",
       "      <th>50%</th>\n",
       "      <th>75%</th>\n",
       "      <th>max</th>\n",
       "    </tr>\n",
       "    <tr>\n",
       "      <th>recencycluster</th>\n",
       "      <th></th>\n",
       "      <th></th>\n",
       "      <th></th>\n",
       "      <th></th>\n",
       "      <th></th>\n",
       "      <th></th>\n",
       "      <th></th>\n",
       "      <th></th>\n",
       "    </tr>\n",
       "  </thead>\n",
       "  <tbody>\n",
       "    <tr>\n",
       "      <th>0</th>\n",
       "      <td>1844.00</td>\n",
       "      <td>1386.87</td>\n",
       "      <td>119.21</td>\n",
       "      <td>1215.00</td>\n",
       "      <td>1283.75</td>\n",
       "      <td>1395.50</td>\n",
       "      <td>1460.75</td>\n",
       "      <td>1613.00</td>\n",
       "    </tr>\n",
       "    <tr>\n",
       "      <th>1</th>\n",
       "      <td>2361.00</td>\n",
       "      <td>1039.09</td>\n",
       "      <td>106.58</td>\n",
       "      <td>662.00</td>\n",
       "      <td>982.00</td>\n",
       "      <td>1038.00</td>\n",
       "      <td>1123.00</td>\n",
       "      <td>1214.00</td>\n",
       "    </tr>\n",
       "    <tr>\n",
       "      <th>2</th>\n",
       "      <td>5984.00</td>\n",
       "      <td>207.05</td>\n",
       "      <td>144.99</td>\n",
       "      <td>0.00</td>\n",
       "      <td>112.00</td>\n",
       "      <td>163.00</td>\n",
       "      <td>267.00</td>\n",
       "      <td>606.00</td>\n",
       "    </tr>\n",
       "  </tbody>\n",
       "</table>\n",
       "</div>"
      ],
      "text/plain": [
       "                 count    mean    std     min     25%     50%     75%     max\n",
       "recencycluster                                                               \n",
       "0              1844.00 1386.87 119.21 1215.00 1283.75 1395.50 1460.75 1613.00\n",
       "1              2361.00 1039.09 106.58  662.00  982.00 1038.00 1123.00 1214.00\n",
       "2              5984.00  207.05 144.99    0.00  112.00  163.00  267.00  606.00"
      ]
     },
     "execution_count": 25,
     "metadata": {},
     "output_type": "execute_result"
    }
   ],
   "source": [
    "df_customer.groupby('recencycluster')[\"recency\"].describe()"
   ]
  },
  {
   "cell_type": "markdown",
   "id": "2a75348c",
   "metadata": {},
   "source": [
    "We can see that cluser 0 contains the lower value fans, that have not purchased in a longer period of time compared to the higher value fans in cluster 2 that have purchased more recently."
   ]
  },
  {
   "cell_type": "markdown",
   "id": "b342c25c",
   "metadata": {},
   "source": [
    "### Frequency\n",
    "\n",
    "To create frequency clusters, we first need to find total number of purchases for each customer:"
   ]
  },
  {
   "cell_type": "code",
   "execution_count": 26,
   "id": "62b26f6a",
   "metadata": {},
   "outputs": [],
   "source": [
    "#get order counts for each user and create a dataframe with it\n",
    "df_frequency = df.groupby('dimcustomermasterid')[\"purchasedate\"].count().reset_index()\n",
    "df_frequency.columns = ['dimcustomermasterid','frequency']\n",
    "\n",
    "#add this data to our main dataframe\n",
    "df_customer = pd.merge(df_customer, df_frequency, on=\"dimcustomermasterid\")"
   ]
  },
  {
   "cell_type": "code",
   "execution_count": 60,
   "id": "f7709aa3",
   "metadata": {},
   "outputs": [
    {
     "data": {
      "text/html": [
       "<div>\n",
       "<style scoped>\n",
       "    .dataframe tbody tr th:only-of-type {\n",
       "        vertical-align: middle;\n",
       "    }\n",
       "\n",
       "    .dataframe tbody tr th {\n",
       "        vertical-align: top;\n",
       "    }\n",
       "\n",
       "    .dataframe thead th {\n",
       "        text-align: right;\n",
       "    }\n",
       "</style>\n",
       "<table border=\"1\" class=\"dataframe\">\n",
       "  <thead>\n",
       "    <tr style=\"text-align: right;\">\n",
       "      <th></th>\n",
       "      <th>dimcustomermasterid</th>\n",
       "      <th>country</th>\n",
       "      <th>stateprovince</th>\n",
       "      <th>recency</th>\n",
       "      <th>recencycluster</th>\n",
       "      <th>frequency</th>\n",
       "      <th>frequencycluster</th>\n",
       "      <th>revenue</th>\n",
       "      <th>revenuecluster</th>\n",
       "      <th>country_value</th>\n",
       "      <th>stateprovince_value</th>\n",
       "      <th>zippostal_value</th>\n",
       "      <th>entity_source</th>\n",
       "      <th>is_engaged</th>\n",
       "      <th>score</th>\n",
       "      <th>segment</th>\n",
       "    </tr>\n",
       "  </thead>\n",
       "  <tbody>\n",
       "    <tr>\n",
       "      <th>0</th>\n",
       "      <td>702748196</td>\n",
       "      <td>USA</td>\n",
       "      <td>OR</td>\n",
       "      <td>554</td>\n",
       "      <td>2</td>\n",
       "      <td>253</td>\n",
       "      <td>2</td>\n",
       "      <td>70302.40</td>\n",
       "      <td>1</td>\n",
       "      <td>USA</td>\n",
       "      <td>OR</td>\n",
       "      <td>97123-4016</td>\n",
       "      <td>NaN</td>\n",
       "      <td>0</td>\n",
       "      <td>6</td>\n",
       "      <td>In-Market US</td>\n",
       "    </tr>\n",
       "    <tr>\n",
       "      <th>1</th>\n",
       "      <td>391535766</td>\n",
       "      <td>USA</td>\n",
       "      <td>OR</td>\n",
       "      <td>147</td>\n",
       "      <td>2</td>\n",
       "      <td>355</td>\n",
       "      <td>2</td>\n",
       "      <td>102289.60</td>\n",
       "      <td>1</td>\n",
       "      <td>USA</td>\n",
       "      <td>OR</td>\n",
       "      <td>97086-8037</td>\n",
       "      <td>NaN</td>\n",
       "      <td>0</td>\n",
       "      <td>6</td>\n",
       "      <td>In-Market US</td>\n",
       "    </tr>\n",
       "    <tr>\n",
       "      <th>2</th>\n",
       "      <td>784566531</td>\n",
       "      <td>USA</td>\n",
       "      <td>OR</td>\n",
       "      <td>164</td>\n",
       "      <td>2</td>\n",
       "      <td>271</td>\n",
       "      <td>2</td>\n",
       "      <td>159352.00</td>\n",
       "      <td>1</td>\n",
       "      <td>USA</td>\n",
       "      <td>OR</td>\n",
       "      <td>97203</td>\n",
       "      <td>NaN</td>\n",
       "      <td>0</td>\n",
       "      <td>6</td>\n",
       "      <td>In-Market US</td>\n",
       "    </tr>\n",
       "    <tr>\n",
       "      <th>3</th>\n",
       "      <td>471531233</td>\n",
       "      <td>USA</td>\n",
       "      <td>OR</td>\n",
       "      <td>164</td>\n",
       "      <td>2</td>\n",
       "      <td>246</td>\n",
       "      <td>2</td>\n",
       "      <td>110604.00</td>\n",
       "      <td>1</td>\n",
       "      <td>USA</td>\n",
       "      <td>OR</td>\n",
       "      <td>97204-3643</td>\n",
       "      <td>NaN</td>\n",
       "      <td>0</td>\n",
       "      <td>6</td>\n",
       "      <td>In-Market US</td>\n",
       "    </tr>\n",
       "    <tr>\n",
       "      <th>4</th>\n",
       "      <td>733074816</td>\n",
       "      <td>USA</td>\n",
       "      <td>OR</td>\n",
       "      <td>93</td>\n",
       "      <td>2</td>\n",
       "      <td>305</td>\n",
       "      <td>2</td>\n",
       "      <td>54137.64</td>\n",
       "      <td>1</td>\n",
       "      <td>USA</td>\n",
       "      <td>OR</td>\n",
       "      <td>97068</td>\n",
       "      <td>NaN</td>\n",
       "      <td>0</td>\n",
       "      <td>6</td>\n",
       "      <td>In-Market US</td>\n",
       "    </tr>\n",
       "  </tbody>\n",
       "</table>\n",
       "</div>"
      ],
      "text/plain": [
       "   dimcustomermasterid country stateprovince  recency  recencycluster  \\\n",
       "0            702748196     USA            OR      554               2   \n",
       "1            391535766     USA            OR      147               2   \n",
       "2            784566531     USA            OR      164               2   \n",
       "3            471531233     USA            OR      164               2   \n",
       "4            733074816     USA            OR       93               2   \n",
       "\n",
       "   frequency  frequencycluster   revenue  revenuecluster country_value  \\\n",
       "0        253                 2  70302.40               1           USA   \n",
       "1        355                 2 102289.60               1           USA   \n",
       "2        271                 2 159352.00               1           USA   \n",
       "3        246                 2 110604.00               1           USA   \n",
       "4        305                 2  54137.64               1           USA   \n",
       "\n",
       "  stateprovince_value zippostal_value entity_source  is_engaged  score  \\\n",
       "0                  OR      97123-4016           NaN           0      6   \n",
       "1                  OR      97086-8037           NaN           0      6   \n",
       "2                  OR           97203           NaN           0      6   \n",
       "3                  OR      97204-3643           NaN           0      6   \n",
       "4                  OR           97068           NaN           0      6   \n",
       "\n",
       "        segment  \n",
       "0  In-Market US  \n",
       "1  In-Market US  \n",
       "2  In-Market US  \n",
       "3  In-Market US  \n",
       "4  In-Market US  "
      ]
     },
     "execution_count": 60,
     "metadata": {},
     "output_type": "execute_result"
    }
   ],
   "source": [
    "df_customer.head()"
   ]
  },
  {
   "cell_type": "markdown",
   "id": "c730941c",
   "metadata": {},
   "source": [
    "Let's plot the distribution on frequency to see the range of values:"
   ]
  },
  {
   "cell_type": "code",
   "execution_count": 28,
   "id": "082ab79c",
   "metadata": {},
   "outputs": [
    {
     "data": {
      "image/png": "[encoded data removed]",
      "text/plain": [
       "<Figure size 1440x360 with 1 Axes>"
      ]
     },
     "metadata": {},
     "output_type": "display_data"
    }
   ],
   "source": [
    "freq_fig = plt.figure(figsize=(20, 5))\n",
    "\n",
    "plt.hist(df_customer[\"frequency\"], color=\"dodgerblue\", edgecolor=\"black\")\n",
    "plt.title(\"Frequency by Customer\")\n",
    "plt.ylabel(\"No. Customers\")\n",
    "plt.xlabel(\"No. Purchases\")\n",
    "\n",
    "plt.show()"
   ]
  },
  {
   "cell_type": "code",
   "execution_count": 61,
   "id": "889ebcb3",
   "metadata": {},
   "outputs": [
    {
     "data": {
      "text/plain": [
       "(10.0, 100.0]       4364\n",
       "(100.0, 200.0]      2872\n",
       "(-0.001, 5.0]       1529\n",
       "(5.0, 10.0]          985\n",
       "(200.0, 300.0]       290\n",
       "(300.0, 400.0]        98\n",
       "(400.0, 500.0]        16\n",
       "(500.0, 10000.0]       0\n",
       "Name: frequency, dtype: int64"
      ]
     },
     "execution_count": 61,
     "metadata": {},
     "output_type": "execute_result"
    }
   ],
   "source": [
    "df_customer[\"frequency\"].value_counts(bins=[0, 5, 10, 100, 200, 300, 400, 500, 10000])"
   ]
  },
  {
   "cell_type": "markdown",
   "id": "e10ef7b0",
   "metadata": {},
   "source": [
    "Most customers have a lower frequency, but a few big purchasers are also present in the data. Because this analysis is focused on the typical individual ticket buyer, let's remove these outliers:"
   ]
  },
  {
   "cell_type": "code",
   "execution_count": 30,
   "id": "ee017dc0",
   "metadata": {},
   "outputs": [],
   "source": [
    "df_customer = df_customer[df_customer[\"frequency\"] <= 300]"
   ]
  },
  {
   "cell_type": "markdown",
   "id": "5d68fcc6",
   "metadata": {},
   "source": [
    "Let's observe the standard statistics for the frequency metric now that we have removed the outliers:"
   ]
  },
  {
   "cell_type": "code",
   "execution_count": 31,
   "id": "d4d7df03",
   "metadata": {},
   "outputs": [
    {
     "data": {
      "text/plain": [
       "count   10174.00\n",
       "mean       74.48\n",
       "std        76.57\n",
       "min         1.00\n",
       "25%        11.00\n",
       "50%        43.00\n",
       "75%       143.00\n",
       "max       500.00\n",
       "Name: frequency, dtype: float64"
      ]
     },
     "execution_count": 31,
     "metadata": {},
     "output_type": "execute_result"
    }
   ],
   "source": [
    "df_customer[\"frequency\"].describe()"
   ]
  },
  {
   "cell_type": "markdown",
   "id": "5da121c3",
   "metadata": {},
   "source": [
    "We could experiment with limiting frequency even further to < 5 games, but let's leave the limit at 10 games for now."
   ]
  },
  {
   "cell_type": "markdown",
   "id": "d8e7d421",
   "metadata": {},
   "source": [
    "### Clustering Frequency"
   ]
  },
  {
   "cell_type": "markdown",
   "id": "a2cdddfa",
   "metadata": {},
   "source": [
    "Let's apply the same k-means clustering with 3 clusters to assign a frequency cluster to each fan:"
   ]
  },
  {
   "cell_type": "code",
   "execution_count": 32,
   "id": "d65719c8",
   "metadata": {},
   "outputs": [],
   "source": [
    "# build 3 clusters for frequency and add it to dataframe\n",
    "kmeans = KMeans(n_clusters=3)\n",
    "kmeans.fit(df_customer[['frequency']])\n",
    "df_customer['frequencycluster'] = kmeans.predict(df_customer[['frequency']])\n",
    "\n",
    "df_customer = order_cluster('frequencycluster', 'frequency', df_customer, True)"
   ]
  },
  {
   "cell_type": "code",
   "execution_count": 33,
   "id": "406b95e1",
   "metadata": {},
   "outputs": [
    {
     "data": {
      "text/html": [
       "<div>\n",
       "<style scoped>\n",
       "    .dataframe tbody tr th:only-of-type {\n",
       "        vertical-align: middle;\n",
       "    }\n",
       "\n",
       "    .dataframe tbody tr th {\n",
       "        vertical-align: top;\n",
       "    }\n",
       "\n",
       "    .dataframe thead th {\n",
       "        text-align: right;\n",
       "    }\n",
       "</style>\n",
       "<table border=\"1\" class=\"dataframe\">\n",
       "  <thead>\n",
       "    <tr style=\"text-align: right;\">\n",
       "      <th></th>\n",
       "      <th>count</th>\n",
       "      <th>mean</th>\n",
       "      <th>std</th>\n",
       "      <th>min</th>\n",
       "      <th>25%</th>\n",
       "      <th>50%</th>\n",
       "      <th>75%</th>\n",
       "      <th>max</th>\n",
       "    </tr>\n",
       "    <tr>\n",
       "      <th>frequencycluster</th>\n",
       "      <th></th>\n",
       "      <th></th>\n",
       "      <th></th>\n",
       "      <th></th>\n",
       "      <th></th>\n",
       "      <th></th>\n",
       "      <th></th>\n",
       "      <th></th>\n",
       "    </tr>\n",
       "  </thead>\n",
       "  <tbody>\n",
       "    <tr>\n",
       "      <th>0</th>\n",
       "      <td>6822.00</td>\n",
       "      <td>26.81</td>\n",
       "      <td>25.07</td>\n",
       "      <td>1.00</td>\n",
       "      <td>6.00</td>\n",
       "      <td>18.00</td>\n",
       "      <td>44.00</td>\n",
       "      <td>93.00</td>\n",
       "    </tr>\n",
       "    <tr>\n",
       "      <th>1</th>\n",
       "      <td>3121.00</td>\n",
       "      <td>160.74</td>\n",
       "      <td>26.76</td>\n",
       "      <td>94.00</td>\n",
       "      <td>139.00</td>\n",
       "      <td>167.00</td>\n",
       "      <td>171.00</td>\n",
       "      <td>239.00</td>\n",
       "    </tr>\n",
       "    <tr>\n",
       "      <th>2</th>\n",
       "      <td>231.00</td>\n",
       "      <td>316.86</td>\n",
       "      <td>60.00</td>\n",
       "      <td>240.00</td>\n",
       "      <td>261.00</td>\n",
       "      <td>317.00</td>\n",
       "      <td>346.50</td>\n",
       "      <td>500.00</td>\n",
       "    </tr>\n",
       "  </tbody>\n",
       "</table>\n",
       "</div>"
      ],
      "text/plain": [
       "                   count   mean   std    min    25%    50%    75%    max\n",
       "frequencycluster                                                        \n",
       "0                6822.00  26.81 25.07   1.00   6.00  18.00  44.00  93.00\n",
       "1                3121.00 160.74 26.76  94.00 139.00 167.00 171.00 239.00\n",
       "2                 231.00 316.86 60.00 240.00 261.00 317.00 346.50 500.00"
      ]
     },
     "execution_count": 33,
     "metadata": {},
     "output_type": "execute_result"
    }
   ],
   "source": [
    "df_customer.groupby('frequencycluster')[\"frequency\"].describe()"
   ]
  },
  {
   "cell_type": "markdown",
   "id": "2d31da85",
   "metadata": {},
   "source": [
    "Again, we see the lower value fans in cluster 0 that have only purchased for 1 event, compared to the higher value fans in cluster 2 who purchase more events."
   ]
  },
  {
   "cell_type": "markdown",
   "id": "44a24b0b",
   "metadata": {},
   "source": [
    "### Revenue\n",
    "\n",
    "Let’s add revenue to our dataset and cluster based on revenue:"
   ]
  },
  {
   "cell_type": "code",
   "execution_count": 34,
   "id": "df384364",
   "metadata": {},
   "outputs": [],
   "source": [
    "df_revenue = df.groupby(\"dimcustomermasterid\")[\"revenue\"].sum().reset_index()\n",
    "\n",
    "df_customer = pd.merge(df_customer, df_revenue, on=\"dimcustomermasterid\")"
   ]
  },
  {
   "cell_type": "code",
   "execution_count": 35,
   "id": "14150420",
   "metadata": {},
   "outputs": [
    {
     "data": {
      "image/png": "[encoded data removed]",
      "text/plain": [
       "<Figure size 1440x360 with 1 Axes>"
      ]
     },
     "metadata": {},
     "output_type": "display_data"
    }
   ],
   "source": [
    "revenue_fig = plt.figure(figsize=(20, 5))\n",
    "\n",
    "plt.hist(df_customer[\"revenue\"], color=\"dodgerblue\", edgecolor=\"black\")\n",
    "plt.title(\"Revenue by Customer\")\n",
    "plt.ylabel(\"No. Customers\")\n",
    "plt.xlabel(\"Revenue ($)\")\n",
    "\n",
    "plt.show()"
   ]
  },
  {
   "cell_type": "code",
   "execution_count": 36,
   "id": "e78b8d83",
   "metadata": {},
   "outputs": [
    {
     "data": {
      "text/plain": [
       "(10000.0, 50000.0]         2951\n",
       "(1000.0, 5000.0]           2746\n",
       "(5000.0, 10000.0]          1550\n",
       "(100.0, 500.0]              888\n",
       "(500.0, 1000.0]             853\n",
       "(50000.0, 100000.0]         712\n",
       "(100000.0, 500000.0]        364\n",
       "(50.0, 100.0]                77\n",
       "(500000.0, 1000000.0]        16\n",
       "(-0.001, 50.0]               13\n",
       "(1000000.0, 5000000.0]        4\n",
       "(5000000.0, 10000000.0]       0\n",
       "Name: revenue, dtype: int64"
      ]
     },
     "execution_count": 36,
     "metadata": {},
     "output_type": "execute_result"
    }
   ],
   "source": [
    "df_customer[\"revenue\"].value_counts(bins=[0, 50, 100, 500, 1000, 5000, 10000, 50000, 100000, 500000, 1000000, 5000000, 10000000])"
   ]
  },
  {
   "cell_type": "markdown",
   "id": "bc080a31",
   "metadata": {},
   "source": [
    "Again, a few big spenders are present in the dataset. Let's remove the outlier customers who spend generate significantly more revenue than most:"
   ]
  },
  {
   "cell_type": "code",
   "execution_count": 37,
   "id": "591da81d",
   "metadata": {},
   "outputs": [],
   "source": [
    "df_customer = df_customer[df_customer[\"revenue\"] <= 500000]"
   ]
  },
  {
   "cell_type": "code",
   "execution_count": 38,
   "id": "465be908",
   "metadata": {},
   "outputs": [
    {
     "data": {
      "text/plain": [
       "count    10154.00\n",
       "mean     19689.48\n",
       "std      39382.88\n",
       "min          6.13\n",
       "25%       1548.85\n",
       "50%       6163.00\n",
       "75%      19751.20\n",
       "max     483644.00\n",
       "Name: revenue, dtype: float64"
      ]
     },
     "execution_count": 38,
     "metadata": {},
     "output_type": "execute_result"
    }
   ],
   "source": [
    "df_customer[\"revenue\"].describe()"
   ]
  },
  {
   "cell_type": "markdown",
   "id": "bda3ba56",
   "metadata": {},
   "source": [
    "These stats look reasonable, the low min revenue may need some more investigation, but we can proceed with clustering the revenue for now."
   ]
  },
  {
   "cell_type": "markdown",
   "id": "9433f207",
   "metadata": {},
   "source": [
    "### Clustering Revenue"
   ]
  },
  {
   "cell_type": "markdown",
   "id": "33bfb278",
   "metadata": {},
   "source": [
    "Let's apply the same k-means clustering with 3 clusters to assign a revenue cluster to each fan:"
   ]
  },
  {
   "cell_type": "code",
   "execution_count": 39,
   "id": "d55df6a6",
   "metadata": {},
   "outputs": [],
   "source": [
    "# build 3 clusters for revenue and add it to dataframe\n",
    "kmeans = KMeans(n_clusters=3)\n",
    "kmeans.fit(df_customer[['revenue']])\n",
    "df_customer['revenuecluster'] = kmeans.predict(df_customer[['revenue']])\n",
    "\n",
    "df_customer = order_cluster('revenuecluster', 'revenue', df_customer, True)"
   ]
  },
  {
   "cell_type": "code",
   "execution_count": 40,
   "id": "0dc2c945",
   "metadata": {},
   "outputs": [
    {
     "data": {
      "text/html": [
       "<div>\n",
       "<style scoped>\n",
       "    .dataframe tbody tr th:only-of-type {\n",
       "        vertical-align: middle;\n",
       "    }\n",
       "\n",
       "    .dataframe tbody tr th {\n",
       "        vertical-align: top;\n",
       "    }\n",
       "\n",
       "    .dataframe thead th {\n",
       "        text-align: right;\n",
       "    }\n",
       "</style>\n",
       "<table border=\"1\" class=\"dataframe\">\n",
       "  <thead>\n",
       "    <tr style=\"text-align: right;\">\n",
       "      <th></th>\n",
       "      <th>count</th>\n",
       "      <th>mean</th>\n",
       "      <th>std</th>\n",
       "      <th>min</th>\n",
       "      <th>25%</th>\n",
       "      <th>50%</th>\n",
       "      <th>75%</th>\n",
       "      <th>max</th>\n",
       "    </tr>\n",
       "    <tr>\n",
       "      <th>revenuecluster</th>\n",
       "      <th></th>\n",
       "      <th></th>\n",
       "      <th></th>\n",
       "      <th></th>\n",
       "      <th></th>\n",
       "      <th></th>\n",
       "      <th></th>\n",
       "      <th></th>\n",
       "    </tr>\n",
       "  </thead>\n",
       "  <tbody>\n",
       "    <tr>\n",
       "      <th>0</th>\n",
       "      <td>9006.00</td>\n",
       "      <td>9154.25</td>\n",
       "      <td>10733.03</td>\n",
       "      <td>6.13</td>\n",
       "      <td>1314.65</td>\n",
       "      <td>4778.00</td>\n",
       "      <td>13229.40</td>\n",
       "      <td>46364.80</td>\n",
       "    </tr>\n",
       "    <tr>\n",
       "      <th>1</th>\n",
       "      <td>1040.00</td>\n",
       "      <td>83487.26</td>\n",
       "      <td>32847.37</td>\n",
       "      <td>46494.40</td>\n",
       "      <td>58817.52</td>\n",
       "      <td>73546.90</td>\n",
       "      <td>98322.21</td>\n",
       "      <td>181764.00</td>\n",
       "    </tr>\n",
       "    <tr>\n",
       "      <th>2</th>\n",
       "      <td>108.00</td>\n",
       "      <td>283861.86</td>\n",
       "      <td>87513.96</td>\n",
       "      <td>186594.00</td>\n",
       "      <td>218052.15</td>\n",
       "      <td>249239.40</td>\n",
       "      <td>338372.00</td>\n",
       "      <td>483644.00</td>\n",
       "    </tr>\n",
       "  </tbody>\n",
       "</table>\n",
       "</div>"
      ],
      "text/plain": [
       "                 count      mean      std       min       25%       50%  \\\n",
       "revenuecluster                                                            \n",
       "0              9006.00   9154.25 10733.03      6.13   1314.65   4778.00   \n",
       "1              1040.00  83487.26 32847.37  46494.40  58817.52  73546.90   \n",
       "2               108.00 283861.86 87513.96 186594.00 218052.15 249239.40   \n",
       "\n",
       "                     75%       max  \n",
       "revenuecluster                      \n",
       "0               13229.40  46364.80  \n",
       "1               98322.21 181764.00  \n",
       "2              338372.00 483644.00  "
      ]
     },
     "execution_count": 40,
     "metadata": {},
     "output_type": "execute_result"
    }
   ],
   "source": [
    "df_customer.groupby(\"revenuecluster\")[\"revenue\"].describe()"
   ]
  },
  {
   "cell_type": "markdown",
   "id": "a6401d3b",
   "metadata": {},
   "source": [
    "Once again, the clusters are ordered from low-high value with cluster 0 averaging lower revenue in comparison to cluster 2."
   ]
  },
  {
   "cell_type": "markdown",
   "id": "94a1c86d",
   "metadata": {},
   "source": [
    "### Engagement\n",
    "\n",
    "Let's add a flag to show whether the fan has engaged with the team via purchasing a streaming subscription, or video game engagement provided by via the NBA dataset:"
   ]
  },
  {
   "cell_type": "code",
   "execution_count": 41,
   "id": "6ba44a60",
   "metadata": {},
   "outputs": [
    {
     "data": {
      "text/plain": [
       "0    9684\n",
       "1     470\n",
       "Name: is_engaged, dtype: int64"
      ]
     },
     "execution_count": 41,
     "metadata": {},
     "output_type": "execute_result"
    }
   ],
   "source": [
    "\n",
    "# merge the NBA dataset with our customer dataset\n",
    "df_customer = pd.merge(df_customer, df2, on=\"dimcustomermasterid\")\n",
    "\n",
    "# create a flag based on the source of the record\n",
    "df_customer[\"is_engaged\"] = np.where(df_customer[\"entity_source\"] == \"PTB\", 1, 0)\n",
    "df_customer[\"is_engaged\"].value_counts()\n"
   ]
  },
  {
   "cell_type": "markdown",
   "id": "8b53657e",
   "metadata": {},
   "source": [
    "Because this metric is binary (either 0 or 1) we don't need to cluster this metric."
   ]
  },
  {
   "cell_type": "markdown",
   "id": "b2bad9a2",
   "metadata": {},
   "source": [
    "### Overall Score\n",
    "\n",
    "We have scores (cluster numbers) for recency, frequency & revenue, and our engagement score. Let’s create an overall score out of them:"
   ]
  },
  {
   "cell_type": "code",
   "execution_count": 42,
   "id": "3223973e",
   "metadata": {},
   "outputs": [
    {
     "data": {
      "text/html": [
       "<div>\n",
       "<style scoped>\n",
       "    .dataframe tbody tr th:only-of-type {\n",
       "        vertical-align: middle;\n",
       "    }\n",
       "\n",
       "    .dataframe tbody tr th {\n",
       "        vertical-align: top;\n",
       "    }\n",
       "\n",
       "    .dataframe thead th {\n",
       "        text-align: right;\n",
       "    }\n",
       "</style>\n",
       "<table border=\"1\" class=\"dataframe\">\n",
       "  <thead>\n",
       "    <tr style=\"text-align: right;\">\n",
       "      <th></th>\n",
       "      <th>score</th>\n",
       "      <th>recency</th>\n",
       "      <th>frequency</th>\n",
       "      <th>revenue</th>\n",
       "      <th>is_engaged</th>\n",
       "    </tr>\n",
       "  </thead>\n",
       "  <tbody>\n",
       "    <tr>\n",
       "      <th>0</th>\n",
       "      <td>1</td>\n",
       "      <td>1391.45</td>\n",
       "      <td>26.86</td>\n",
       "      <td>4532.24</td>\n",
       "      <td>0.00</td>\n",
       "    </tr>\n",
       "    <tr>\n",
       "      <th>1</th>\n",
       "      <td>2</td>\n",
       "      <td>1065.98</td>\n",
       "      <td>22.21</td>\n",
       "      <td>3812.40</td>\n",
       "      <td>0.03</td>\n",
       "    </tr>\n",
       "    <tr>\n",
       "      <th>2</th>\n",
       "      <td>3</td>\n",
       "      <td>277.67</td>\n",
       "      <td>35.44</td>\n",
       "      <td>8629.09</td>\n",
       "      <td>0.03</td>\n",
       "    </tr>\n",
       "    <tr>\n",
       "      <th>3</th>\n",
       "      <td>4</td>\n",
       "      <td>226.21</td>\n",
       "      <td>149.52</td>\n",
       "      <td>20515.07</td>\n",
       "      <td>0.08</td>\n",
       "    </tr>\n",
       "    <tr>\n",
       "      <th>4</th>\n",
       "      <td>5</td>\n",
       "      <td>196.69</td>\n",
       "      <td>174.36</td>\n",
       "      <td>74567.77</td>\n",
       "      <td>0.11</td>\n",
       "    </tr>\n",
       "    <tr>\n",
       "      <th>5</th>\n",
       "      <td>6</td>\n",
       "      <td>155.91</td>\n",
       "      <td>256.46</td>\n",
       "      <td>152144.51</td>\n",
       "      <td>0.16</td>\n",
       "    </tr>\n",
       "    <tr>\n",
       "      <th>6</th>\n",
       "      <td>7</td>\n",
       "      <td>197.17</td>\n",
       "      <td>328.11</td>\n",
       "      <td>282020.28</td>\n",
       "      <td>0.09</td>\n",
       "    </tr>\n",
       "    <tr>\n",
       "      <th>7</th>\n",
       "      <td>8</td>\n",
       "      <td>157.00</td>\n",
       "      <td>254.00</td>\n",
       "      <td>189096.00</td>\n",
       "      <td>1.00</td>\n",
       "    </tr>\n",
       "  </tbody>\n",
       "</table>\n",
       "</div>"
      ],
      "text/plain": [
       "   score  recency  frequency   revenue  is_engaged\n",
       "0      1  1391.45      26.86   4532.24        0.00\n",
       "1      2  1065.98      22.21   3812.40        0.03\n",
       "2      3   277.67      35.44   8629.09        0.03\n",
       "3      4   226.21     149.52  20515.07        0.08\n",
       "4      5   196.69     174.36  74567.77        0.11\n",
       "5      6   155.91     256.46 152144.51        0.16\n",
       "6      7   197.17     328.11 282020.28        0.09\n",
       "7      8   157.00     254.00 189096.00        1.00"
      ]
     },
     "execution_count": 42,
     "metadata": {},
     "output_type": "execute_result"
    }
   ],
   "source": [
    "# calculate overall score and use mean() to see details\n",
    "df_customer[\"score\"] = df_customer[\"recencycluster\"]+df_customer[\"frequencycluster\"]+df_customer[\"revenuecluster\"]+df_customer[\"is_engaged\"]+1\n",
    "\n",
    "df_customer.groupby(\"score\").agg({\n",
    "    \"recency\": \"mean\",\n",
    "    \"frequency\": \"mean\",\n",
    "    \"revenue\": \"mean\",\n",
    "    \"is_engaged\": \"mean\"\n",
    "})"
   ]
  },
  {
   "cell_type": "markdown",
   "id": "4cc854ab",
   "metadata": {},
   "source": [
    "As we can see, the higher the score, the higher value a fan (more recent purchase, higher frequency, higher revenue, more engagement). Let's plot each score group to see the distribution of fans across the revenue spectrum:"
   ]
  },
  {
   "cell_type": "code",
   "execution_count": 55,
   "id": "ea2db2eb",
   "metadata": {},
   "outputs": [
    {
     "data": {
      "image/png": "[encoded data removed]",
      "text/plain": [
       "<Figure size 1440x360 with 1 Axes>"
      ]
     },
     "metadata": {},
     "output_type": "display_data"
    }
   ],
   "source": [
    "colors = {1:'tab:blue', 2:'tab:orange', 3:'tab:green', 4:'tab:red', 5:'tab:purple', 6:'tab:pink', 7:'tab:olive', 8:'tab:cyan'}\n",
    "\n",
    "cluster_fig = plt.figure(figsize=(20, 5))\n",
    "\n",
    "plt.scatter(df_customer[\"revenue\"], df_customer[\"score\"], c=df_customer[\"score\"].map(colors), edgecolors=\"black\", s=150, alpha=.5)\n",
    "plt.title(\"Revenue by RFME Score\", fontsize=16)\n",
    "plt.ylabel(\"RFME Score\", fontsize=14)\n",
    "plt.xlabel(\"Revenue ($)\", fontsize=14)\n",
    "plt.rcParams[\"figure.figsize\"] = (20,5)\n",
    "\n",
    "plt.show()"
   ]
  },
  {
   "cell_type": "markdown",
   "id": "7cb9832e",
   "metadata": {},
   "source": [
    "## Segmentation"
   ]
  },
  {
   "cell_type": "markdown",
   "id": "2438d909",
   "metadata": {},
   "source": [
    "Let's add a segment to each customer in our dataset:"
   ]
  },
  {
   "cell_type": "code",
   "execution_count": 44,
   "id": "04dd8bd8",
   "metadata": {},
   "outputs": [
    {
     "data": {
      "text/plain": [
       "In-Market US        9629\n",
       "Out-of-Market US     494\n",
       "International         31\n",
       "Name: segment, dtype: int64"
      ]
     },
     "execution_count": 44,
     "metadata": {},
     "output_type": "execute_result"
    }
   ],
   "source": [
    "# populate a segment column based on conditions\n",
    "conditions  = [\n",
    "    df_customer[\"country\"].isin([\"US\",\"USA\",\"Uni\"]) & ~df_customer[\"stateprovince\"].isin([\"OR\",\"WA\",\"Orego\",\"OREGO\",\"Washi\",\"WASHI\"]), \n",
    "    df_customer[\"country\"].isin([\"US\",\"USA\",\"Uni\"]) & df_customer[\"stateprovince\"].isin([\"OR\",\"WA\",\"Orego\",\"OREGO\",\"Washi\",\"WASHI\"]), \n",
    "    ~df_customer[\"country\"].isin([\"US\",\"USA\",\"Uni\"]) & ~df_customer[\"stateprovince\"].isin([\"OR\",\"WA\",\"Orego\",\"OREGO\",\"Washi\",\"WASHI\"])\n",
    "]\n",
    "\n",
    "choices = [\"Out-of-Market US\", \"In-Market US\", \"International\"]\n",
    "    \n",
    "df_customer[\"segment\"] = np.select(conditions, choices, default=\"In-Market US\")\n",
    "\n",
    "df_customer[\"segment\"].value_counts()"
   ]
  },
  {
   "cell_type": "code",
   "execution_count": 45,
   "id": "87a1d0c9",
   "metadata": {},
   "outputs": [
    {
     "data": {
      "text/html": [
       "<div>\n",
       "<style scoped>\n",
       "    .dataframe tbody tr th:only-of-type {\n",
       "        vertical-align: middle;\n",
       "    }\n",
       "\n",
       "    .dataframe tbody tr th {\n",
       "        vertical-align: top;\n",
       "    }\n",
       "\n",
       "    .dataframe thead th {\n",
       "        text-align: right;\n",
       "    }\n",
       "</style>\n",
       "<table border=\"1\" class=\"dataframe\">\n",
       "  <thead>\n",
       "    <tr style=\"text-align: right;\">\n",
       "      <th></th>\n",
       "      <th>dimcustomermasterid</th>\n",
       "      <th>country</th>\n",
       "      <th>stateprovince</th>\n",
       "      <th>recency</th>\n",
       "      <th>recencycluster</th>\n",
       "      <th>frequency</th>\n",
       "      <th>frequencycluster</th>\n",
       "      <th>revenue</th>\n",
       "      <th>revenuecluster</th>\n",
       "      <th>country_value</th>\n",
       "      <th>stateprovince_value</th>\n",
       "      <th>zippostal_value</th>\n",
       "      <th>entity_source</th>\n",
       "      <th>is_engaged</th>\n",
       "      <th>score</th>\n",
       "      <th>segment</th>\n",
       "    </tr>\n",
       "  </thead>\n",
       "  <tbody>\n",
       "    <tr>\n",
       "      <th>0</th>\n",
       "      <td>702748196</td>\n",
       "      <td>USA</td>\n",
       "      <td>OR</td>\n",
       "      <td>554</td>\n",
       "      <td>2</td>\n",
       "      <td>253</td>\n",
       "      <td>2</td>\n",
       "      <td>70302.40</td>\n",
       "      <td>1</td>\n",
       "      <td>USA</td>\n",
       "      <td>OR</td>\n",
       "      <td>97123-4016</td>\n",
       "      <td>NaN</td>\n",
       "      <td>0</td>\n",
       "      <td>6</td>\n",
       "      <td>In-Market US</td>\n",
       "    </tr>\n",
       "    <tr>\n",
       "      <th>1</th>\n",
       "      <td>391535766</td>\n",
       "      <td>USA</td>\n",
       "      <td>OR</td>\n",
       "      <td>147</td>\n",
       "      <td>2</td>\n",
       "      <td>355</td>\n",
       "      <td>2</td>\n",
       "      <td>102289.60</td>\n",
       "      <td>1</td>\n",
       "      <td>USA</td>\n",
       "      <td>OR</td>\n",
       "      <td>97086-8037</td>\n",
       "      <td>NaN</td>\n",
       "      <td>0</td>\n",
       "      <td>6</td>\n",
       "      <td>In-Market US</td>\n",
       "    </tr>\n",
       "    <tr>\n",
       "      <th>2</th>\n",
       "      <td>784566531</td>\n",
       "      <td>USA</td>\n",
       "      <td>OR</td>\n",
       "      <td>164</td>\n",
       "      <td>2</td>\n",
       "      <td>271</td>\n",
       "      <td>2</td>\n",
       "      <td>159352.00</td>\n",
       "      <td>1</td>\n",
       "      <td>USA</td>\n",
       "      <td>OR</td>\n",
       "      <td>97203</td>\n",
       "      <td>NaN</td>\n",
       "      <td>0</td>\n",
       "      <td>6</td>\n",
       "      <td>In-Market US</td>\n",
       "    </tr>\n",
       "    <tr>\n",
       "      <th>3</th>\n",
       "      <td>471531233</td>\n",
       "      <td>USA</td>\n",
       "      <td>OR</td>\n",
       "      <td>164</td>\n",
       "      <td>2</td>\n",
       "      <td>246</td>\n",
       "      <td>2</td>\n",
       "      <td>110604.00</td>\n",
       "      <td>1</td>\n",
       "      <td>USA</td>\n",
       "      <td>OR</td>\n",
       "      <td>97204-3643</td>\n",
       "      <td>NaN</td>\n",
       "      <td>0</td>\n",
       "      <td>6</td>\n",
       "      <td>In-Market US</td>\n",
       "    </tr>\n",
       "    <tr>\n",
       "      <th>4</th>\n",
       "      <td>733074816</td>\n",
       "      <td>USA</td>\n",
       "      <td>OR</td>\n",
       "      <td>93</td>\n",
       "      <td>2</td>\n",
       "      <td>305</td>\n",
       "      <td>2</td>\n",
       "      <td>54137.64</td>\n",
       "      <td>1</td>\n",
       "      <td>USA</td>\n",
       "      <td>OR</td>\n",
       "      <td>97068</td>\n",
       "      <td>NaN</td>\n",
       "      <td>0</td>\n",
       "      <td>6</td>\n",
       "      <td>In-Market US</td>\n",
       "    </tr>\n",
       "  </tbody>\n",
       "</table>\n",
       "</div>"
      ],
      "text/plain": [
       "   dimcustomermasterid country stateprovince  recency  recencycluster  \\\n",
       "0            702748196     USA            OR      554               2   \n",
       "1            391535766     USA            OR      147               2   \n",
       "2            784566531     USA            OR      164               2   \n",
       "3            471531233     USA            OR      164               2   \n",
       "4            733074816     USA            OR       93               2   \n",
       "\n",
       "   frequency  frequencycluster   revenue  revenuecluster country_value  \\\n",
       "0        253                 2  70302.40               1           USA   \n",
       "1        355                 2 102289.60               1           USA   \n",
       "2        271                 2 159352.00               1           USA   \n",
       "3        246                 2 110604.00               1           USA   \n",
       "4        305                 2  54137.64               1           USA   \n",
       "\n",
       "  stateprovince_value zippostal_value entity_source  is_engaged  score  \\\n",
       "0                  OR      97123-4016           NaN           0      6   \n",
       "1                  OR      97086-8037           NaN           0      6   \n",
       "2                  OR           97203           NaN           0      6   \n",
       "3                  OR      97204-3643           NaN           0      6   \n",
       "4                  OR           97068           NaN           0      6   \n",
       "\n",
       "        segment  \n",
       "0  In-Market US  \n",
       "1  In-Market US  \n",
       "2  In-Market US  \n",
       "3  In-Market US  \n",
       "4  In-Market US  "
      ]
     },
     "execution_count": 45,
     "metadata": {},
     "output_type": "execute_result"
    }
   ],
   "source": [
    "df_customer.head()"
   ]
  },
  {
   "cell_type": "markdown",
   "id": "a6968644",
   "metadata": {},
   "source": [
    "### Calculating TGR (Total Gross Revenue)\n",
    "\n",
    "Let's use our RFME scores to calculate a Total Gross Revenue for each segment:"
   ]
  },
  {
   "cell_type": "code",
   "execution_count": 46,
   "id": "2a35c6ef",
   "metadata": {},
   "outputs": [
    {
     "data": {
      "text/html": [
       "<div>\n",
       "<style scoped>\n",
       "    .dataframe tbody tr th:only-of-type {\n",
       "        vertical-align: middle;\n",
       "    }\n",
       "\n",
       "    .dataframe tbody tr th {\n",
       "        vertical-align: top;\n",
       "    }\n",
       "\n",
       "    .dataframe thead th {\n",
       "        text-align: right;\n",
       "    }\n",
       "</style>\n",
       "<table border=\"1\" class=\"dataframe\">\n",
       "  <thead>\n",
       "    <tr style=\"text-align: right;\">\n",
       "      <th></th>\n",
       "      <th>segment</th>\n",
       "      <th>score</th>\n",
       "      <th>revenue_avg</th>\n",
       "      <th>revenue_sum</th>\n",
       "      <th>fan_count</th>\n",
       "    </tr>\n",
       "  </thead>\n",
       "  <tbody>\n",
       "    <tr>\n",
       "      <th>0</th>\n",
       "      <td>In-Market US</td>\n",
       "      <td>1</td>\n",
       "      <td>4648.34</td>\n",
       "      <td>7562853.54</td>\n",
       "      <td>1627</td>\n",
       "    </tr>\n",
       "    <tr>\n",
       "      <th>1</th>\n",
       "      <td>In-Market US</td>\n",
       "      <td>2</td>\n",
       "      <td>3930.51</td>\n",
       "      <td>7967141.62</td>\n",
       "      <td>2027</td>\n",
       "    </tr>\n",
       "    <tr>\n",
       "      <th>2</th>\n",
       "      <td>In-Market US</td>\n",
       "      <td>3</td>\n",
       "      <td>8783.61</td>\n",
       "      <td>23952906.99</td>\n",
       "      <td>2727</td>\n",
       "    </tr>\n",
       "    <tr>\n",
       "      <th>3</th>\n",
       "      <td>In-Market US</td>\n",
       "      <td>4</td>\n",
       "      <td>20608.79</td>\n",
       "      <td>42474712.62</td>\n",
       "      <td>2061</td>\n",
       "    </tr>\n",
       "    <tr>\n",
       "      <th>4</th>\n",
       "      <td>In-Market US</td>\n",
       "      <td>5</td>\n",
       "      <td>75226.76</td>\n",
       "      <td>72443372.86</td>\n",
       "      <td>963</td>\n",
       "    </tr>\n",
       "    <tr>\n",
       "      <th>5</th>\n",
       "      <td>In-Market US</td>\n",
       "      <td>6</td>\n",
       "      <td>153302.79</td>\n",
       "      <td>29127530.39</td>\n",
       "      <td>190</td>\n",
       "    </tr>\n",
       "    <tr>\n",
       "      <th>6</th>\n",
       "      <td>In-Market US</td>\n",
       "      <td>7</td>\n",
       "      <td>277671.47</td>\n",
       "      <td>9163158.48</td>\n",
       "      <td>33</td>\n",
       "    </tr>\n",
       "    <tr>\n",
       "      <th>7</th>\n",
       "      <td>In-Market US</td>\n",
       "      <td>8</td>\n",
       "      <td>189096.00</td>\n",
       "      <td>189096.00</td>\n",
       "      <td>1</td>\n",
       "    </tr>\n",
       "    <tr>\n",
       "      <th>8</th>\n",
       "      <td>International</td>\n",
       "      <td>1</td>\n",
       "      <td>983.36</td>\n",
       "      <td>10817.00</td>\n",
       "      <td>11</td>\n",
       "    </tr>\n",
       "    <tr>\n",
       "      <th>9</th>\n",
       "      <td>International</td>\n",
       "      <td>2</td>\n",
       "      <td>1982.31</td>\n",
       "      <td>15858.50</td>\n",
       "      <td>8</td>\n",
       "    </tr>\n",
       "    <tr>\n",
       "      <th>10</th>\n",
       "      <td>International</td>\n",
       "      <td>3</td>\n",
       "      <td>7417.38</td>\n",
       "      <td>74173.80</td>\n",
       "      <td>10</td>\n",
       "    </tr>\n",
       "    <tr>\n",
       "      <th>11</th>\n",
       "      <td>International</td>\n",
       "      <td>4</td>\n",
       "      <td>3232.80</td>\n",
       "      <td>6465.60</td>\n",
       "      <td>2</td>\n",
       "    </tr>\n",
       "    <tr>\n",
       "      <th>12</th>\n",
       "      <td>Out-of-Market US</td>\n",
       "      <td>1</td>\n",
       "      <td>2954.72</td>\n",
       "      <td>280698.33</td>\n",
       "      <td>95</td>\n",
       "    </tr>\n",
       "    <tr>\n",
       "      <th>13</th>\n",
       "      <td>Out-of-Market US</td>\n",
       "      <td>2</td>\n",
       "      <td>2159.69</td>\n",
       "      <td>293717.46</td>\n",
       "      <td>136</td>\n",
       "    </tr>\n",
       "    <tr>\n",
       "      <th>14</th>\n",
       "      <td>Out-of-Market US</td>\n",
       "      <td>3</td>\n",
       "      <td>6038.76</td>\n",
       "      <td>954123.83</td>\n",
       "      <td>158</td>\n",
       "    </tr>\n",
       "    <tr>\n",
       "      <th>15</th>\n",
       "      <td>Out-of-Market US</td>\n",
       "      <td>4</td>\n",
       "      <td>17631.70</td>\n",
       "      <td>969743.70</td>\n",
       "      <td>55</td>\n",
       "    </tr>\n",
       "    <tr>\n",
       "      <th>16</th>\n",
       "      <td>Out-of-Market US</td>\n",
       "      <td>5</td>\n",
       "      <td>56435.90</td>\n",
       "      <td>1975256.65</td>\n",
       "      <td>35</td>\n",
       "    </tr>\n",
       "    <tr>\n",
       "      <th>17</th>\n",
       "      <td>Out-of-Market US</td>\n",
       "      <td>6</td>\n",
       "      <td>135215.82</td>\n",
       "      <td>1757805.72</td>\n",
       "      <td>13</td>\n",
       "    </tr>\n",
       "    <tr>\n",
       "      <th>18</th>\n",
       "      <td>Out-of-Market US</td>\n",
       "      <td>7</td>\n",
       "      <td>353775.60</td>\n",
       "      <td>707551.20</td>\n",
       "      <td>2</td>\n",
       "    </tr>\n",
       "  </tbody>\n",
       "</table>\n",
       "</div>"
      ],
      "text/plain": [
       "             segment  score  revenue_avg  revenue_sum  fan_count\n",
       "0       In-Market US      1      4648.34   7562853.54       1627\n",
       "1       In-Market US      2      3930.51   7967141.62       2027\n",
       "2       In-Market US      3      8783.61  23952906.99       2727\n",
       "3       In-Market US      4     20608.79  42474712.62       2061\n",
       "4       In-Market US      5     75226.76  72443372.86        963\n",
       "5       In-Market US      6    153302.79  29127530.39        190\n",
       "6       In-Market US      7    277671.47   9163158.48         33\n",
       "7       In-Market US      8    189096.00    189096.00          1\n",
       "8      International      1       983.36     10817.00         11\n",
       "9      International      2      1982.31     15858.50          8\n",
       "10     International      3      7417.38     74173.80         10\n",
       "11     International      4      3232.80      6465.60          2\n",
       "12  Out-of-Market US      1      2954.72    280698.33         95\n",
       "13  Out-of-Market US      2      2159.69    293717.46        136\n",
       "14  Out-of-Market US      3      6038.76    954123.83        158\n",
       "15  Out-of-Market US      4     17631.70    969743.70         55\n",
       "16  Out-of-Market US      5     56435.90   1975256.65         35\n",
       "17  Out-of-Market US      6    135215.82   1757805.72         13\n",
       "18  Out-of-Market US      7    353775.60    707551.20          2"
      ]
     },
     "execution_count": 46,
     "metadata": {},
     "output_type": "execute_result"
    }
   ],
   "source": [
    "# calculate metrics used for tgr calc\n",
    "df_tgr = df_customer.groupby([\"segment\", \"score\"]).agg(\n",
    "    {\n",
    "        \"revenue\": [\"mean\",\"sum\"],\n",
    "        \"segment\": [\"count\"]\n",
    "    })\n",
    "\n",
    "df_tgr.columns = ['revenue_avg', 'revenue_sum', 'fan_count']\n",
    "df_tgr = df_tgr.reset_index()\n",
    "\n",
    "df_tgr"
   ]
  },
  {
   "cell_type": "code",
   "execution_count": 56,
   "id": "d37629b7",
   "metadata": {},
   "outputs": [
    {
     "data": {
      "text/plain": [
       "<Figure size 1440x360 with 0 Axes>"
      ]
     },
     "metadata": {},
     "output_type": "display_data"
    },
    {
     "data": {
      "image/png": "[encoded data removed]",
      "text/plain": [
       "<Figure size 1440x360 with 1 Axes>"
      ]
     },
     "metadata": {},
     "output_type": "display_data"
    }
   ],
   "source": [
    "segment_fig = plt.figure(figsize=(20, 5))\n",
    "\n",
    "df_tgr.pivot(\"segment\", \"score\", \"revenue_sum\").plot(kind='bar')\n",
    "plt.title(\"Score Groups by Segment\")\n",
    "plt.xlabel(\"Segment\")\n",
    "plt.xticks(rotation = 0)\n",
    "plt.ylabel(\"Avg Gross Revenue ($ millions)\")\n",
    "\n",
    "plt.show()"
   ]
  },
  {
   "cell_type": "markdown",
   "id": "ce2537e3",
   "metadata": {},
   "source": [
    "We can also calculate the TGR for each overall segment:"
   ]
  },
  {
   "cell_type": "code",
   "execution_count": 48,
   "id": "5495919e",
   "metadata": {},
   "outputs": [
    {
     "data": {
      "text/html": [
       "<div>\n",
       "<style scoped>\n",
       "    .dataframe tbody tr th:only-of-type {\n",
       "        vertical-align: middle;\n",
       "    }\n",
       "\n",
       "    .dataframe tbody tr th {\n",
       "        vertical-align: top;\n",
       "    }\n",
       "\n",
       "    .dataframe thead th {\n",
       "        text-align: right;\n",
       "    }\n",
       "</style>\n",
       "<table border=\"1\" class=\"dataframe\">\n",
       "  <thead>\n",
       "    <tr style=\"text-align: right;\">\n",
       "      <th></th>\n",
       "      <th>total_gross_revenue</th>\n",
       "      <th>fan_count</th>\n",
       "    </tr>\n",
       "    <tr>\n",
       "      <th>segment</th>\n",
       "      <th></th>\n",
       "      <th></th>\n",
       "    </tr>\n",
       "  </thead>\n",
       "  <tbody>\n",
       "    <tr>\n",
       "      <th>In-Market US</th>\n",
       "      <td>192880772.50</td>\n",
       "      <td>9629</td>\n",
       "    </tr>\n",
       "    <tr>\n",
       "      <th>International</th>\n",
       "      <td>107314.90</td>\n",
       "      <td>31</td>\n",
       "    </tr>\n",
       "    <tr>\n",
       "      <th>Out-of-Market US</th>\n",
       "      <td>6938896.89</td>\n",
       "      <td>494</td>\n",
       "    </tr>\n",
       "  </tbody>\n",
       "</table>\n",
       "</div>"
      ],
      "text/plain": [
       "                  total_gross_revenue  fan_count\n",
       "segment                                         \n",
       "In-Market US             192880772.50       9629\n",
       "International               107314.90         31\n",
       "Out-of-Market US           6938896.89        494"
      ]
     },
     "execution_count": 48,
     "metadata": {},
     "output_type": "execute_result"
    }
   ],
   "source": [
    "tgr_aggs = df_customer.groupby(\"segment\").agg({\n",
    "    \"revenue\": \"sum\",\n",
    "    \"segment\": \"count\"\n",
    "})\n",
    "tgr_aggs.columns = [\"total_gross_revenue\", \"fan_count\"]\n",
    "\n",
    "tgr_aggs.head()"
   ]
  },
  {
   "cell_type": "code",
   "execution_count": 63,
   "id": "e177a058",
   "metadata": {},
   "outputs": [
    {
     "name": "stdout",
     "output_type": "stream",
     "text": [
      "IN-MARKET US TGR / FAN: $20,031.24\n",
      "OUT-OF-MARKET US TGR / FAN: $14,046.35\n",
      "INTERNATIONAL TGR / FAN: $3,461.77\n"
     ]
    }
   ],
   "source": [
    "in_market_tgr_per_fan = tgr_aggs.iloc[0][\"total_gross_revenue\"] / tgr_aggs.iloc[0][\"fan_count\"]\n",
    "international_tgr_per_fan = tgr_aggs.iloc[1][\"total_gross_revenue\"] / tgr_aggs.iloc[1][\"fan_count\"]\n",
    "out_market_tgr_per_fan = tgr_aggs.iloc[2][\"total_gross_revenue\"] / tgr_aggs.iloc[2][\"fan_count\"]\n",
    "\n",
    "print(f\"IN-MARKET US TGR / FAN: ${round(in_market_tgr_per_fan, 2):,}\")\n",
    "print(f\"OUT-OF-MARKET US TGR / FAN: ${round(out_market_tgr_per_fan, 2):,}\")\n",
    "print(f\"INTERNATIONAL TGR / FAN: ${round(international_tgr_per_fan, 2):,}\")"
   ]
  },
  {
   "cell_type": "markdown",
   "id": "c6bdae7b",
   "metadata": {},
   "source": [
    "## TODO:\n",
    "* calculate silhouette score for clusters\n",
    "* change clustering to Pycaret\n",
    "* investiage event buyers > 100\n",
    "* remove dollar tickets"
   ]
  }
 ],
 "metadata": {
  "kernelspec": {
   "display_name": "Python 3.8.5 ('stellar')",
   "language": "python",
   "name": "python3"
  },
  "language_info": {
   "codemirror_mode": {
    "name": "ipython",
    "version": 3
   },
   "file_extension": ".py",
   "mimetype": "text/x-python",
   "name": "python",
   "nbconvert_exporter": "python",
   "pygments_lexer": "ipython3",
   "version": "3.8.5"
  },
  "vscode": {
   "interpreter": {
    "hash": "89f48dadab51a6b5b48ffc1a9e043c21cefe67453637c3444f3b86917b8aad16"
   }
  }
 },
 "nbformat": 4,
 "nbformat_minor": 5
}
