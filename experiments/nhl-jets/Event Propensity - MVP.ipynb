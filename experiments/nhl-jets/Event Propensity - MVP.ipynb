{
 "cells": [
  {
   "cell_type": "markdown",
   "id": "cf7d62de",
   "metadata": {},
   "source": [
    "# Event Propensity - MVP\n",
    "* Ryan Kazmerik, Joey Lai, Shawn Sutherland, Matt Bahler, Pat Faith\n",
    "* Mar 30, 2022"
   ]
  },
  {
   "cell_type": "markdown",
   "id": "085b082d",
   "metadata": {},
   "source": [
    "## Hypothesis\n",
    "Each game has a unique set of properties such as opponent, day of the week, time of day, etc. We think that by using previous buyer purchases for we can make a predicition on whether a fan will make an individual ticket purchase for a particular game."
   ]
  },
  {
   "cell_type": "markdown",
   "id": "6283c1a1",
   "metadata": {},
   "source": [
    "## Experiment - Training Model\n",
    "\n",
    "This section details our experiment which includes, gathering a training dataset, training a binary classification model, gathering a inference dataset which includes all fans who have previously purchased an individual ticket, scoring that dataset, selecting the top 75% of our scores and then comparing those fans to see how many of them actually purchased a ticket to a specified single event."
   ]
  },
  {
   "cell_type": "code",
   "execution_count": 2,
   "id": "9cf0bcd3",
   "metadata": {},
   "outputs": [],
   "source": [
    "import awswrangler as wr\n",
    "import boto3\n",
    "import getpass\n",
    "import matplotlib.pyplot as plt\n",
    "import os\n",
    "import pyodbc\n",
    "import pandas as pd\n",
    "import warnings\n",
    "\n",
    "from pycaret.classification import *\n",
    "\n",
    "warnings.filterwarnings('ignore')\n",
    "%config InlineBackend.figure_format = 'retina'"
   ]
  },
  {
   "cell_type": "markdown",
   "id": "9a2fb69f",
   "metadata": {
    "tags": []
   },
   "source": [
    "### Define the global variables used in this notebook:"
   ]
  },
  {
   "cell_type": "code",
   "execution_count": 10,
   "id": "38358820",
   "metadata": {},
   "outputs": [],
   "source": [
    "CLUSTER = \"prod-app\"\n",
    "DB_NAME = \"stlrNHLJets\"\n",
    "LKUPCLIENTID = 92\n",
    "PRODUCT = \"Individual\"\n",
    "S3_BUCKET = \"stellar-redshift-etl\"\n",
    "S3_OBJECT = \"hold/ml_data/jets\""
   ]
  },
  {
   "cell_type": "markdown",
   "id": "374d7f46",
   "metadata": {},
   "source": [
    "### Let's connect to AWS and set the default session to our DataScienceAdmin account:"
   ]
  },
  {
   "cell_type": "code",
   "execution_count": 4,
   "id": "408850dd",
   "metadata": {},
   "outputs": [
    {
     "name": "stdout",
     "output_type": "stream",
     "text": [
      "Attempting to automatically open the SSO authorization page in your default browser.\n",
      "If the browser does not open or you wish to use a different device to authorize this request, open the following URL:\n",
      "\n",
      "https://device.sso.us-east-1.amazonaws.com/\n",
      "\n",
      "Then enter the code:\n",
      "\n",
      "QKPD-PQJJ\n",
      "Successully logged into Start URL: https://stellaralgo.awsapps.com/start\n"
     ]
    }
   ],
   "source": [
    "! aws sso login --profile Stellaralgo-DataScienceAdmin\n",
    "boto3.setup_default_session(profile_name='Stellaralgo-DataScienceAdmin')"
   ]
  },
  {
   "cell_type": "markdown",
   "id": "bba7a95f",
   "metadata": {},
   "source": [
    "### Let's connect to MSSQL and run a stored proc to get our training dataset:"
   ]
  },
  {
   "cell_type": "code",
   "execution_count": 13,
   "id": "387efc66",
   "metadata": {},
   "outputs": [],
   "source": [
    "# connect to SQL Server.\n",
    "SERVER = '34.206.73.189' \n",
    "DATABASE = 'datascience' \n",
    "USERNAME = 'dsAdminWrite' \n",
    "PASSWORD = getpass.getpass(prompt='Enter your password')\n",
    "CNXN = pyodbc.connect('DRIVER={ODBC Driver 17 for SQL Server};SERVER='+SERVER+';DATABASE='+DATABASE+';UID='+USERNAME+';PWD='+ PASSWORD)"
   ]
  },
  {
   "cell_type": "code",
   "execution_count": 14,
   "id": "2e26e665",
   "metadata": {},
   "outputs": [
    {
     "data": {
      "text/plain": [
       "(63636, 17)"
      ]
     },
     "execution_count": 14,
     "metadata": {},
     "output_type": "execute_result"
    }
   ],
   "source": [
    "cursor = CNXN.cursor()\n",
    "\n",
    "storedProc = (\n",
    "    f\"\"\"Exec {DB_NAME}.[ds].[PropensityEventTraining] {LKUPCLIENTID}\"\"\"\n",
    ")\n",
    "\n",
    "df = pd.read_sql(storedProc, CNXN)\n",
    "    \n",
    "CNXN.commit()\n",
    "cursor.close()\n",
    "\n",
    "df.shape"
   ]
  },
  {
   "cell_type": "code",
   "execution_count": 15,
   "id": "5515f493",
   "metadata": {},
   "outputs": [
    {
     "data": {
      "text/html": [
       "<div>\n",
       "<style scoped>\n",
       "    .dataframe tbody tr th:only-of-type {\n",
       "        vertical-align: middle;\n",
       "    }\n",
       "\n",
       "    .dataframe tbody tr th {\n",
       "        vertical-align: top;\n",
       "    }\n",
       "\n",
       "    .dataframe thead th {\n",
       "        text-align: right;\n",
       "    }\n",
       "</style>\n",
       "<table border=\"1\" class=\"dataframe\">\n",
       "  <thead>\n",
       "    <tr style=\"text-align: right;\">\n",
       "      <th></th>\n",
       "      <th>daysOut</th>\n",
       "      <th>minDaysOut</th>\n",
       "      <th>maxDaysOut</th>\n",
       "      <th>dimCustomerMasterId</th>\n",
       "      <th>recent_openRate</th>\n",
       "      <th>recent_clickRate</th>\n",
       "      <th>eventDate</th>\n",
       "      <th>eventName</th>\n",
       "      <th>inMarket</th>\n",
       "      <th>distanceToVenue</th>\n",
       "      <th>tenure</th>\n",
       "      <th>did_purchase</th>\n",
       "      <th>events_purchased</th>\n",
       "      <th>frequency_opponent</th>\n",
       "      <th>frequency_eventDay</th>\n",
       "      <th>frequency_eventTime</th>\n",
       "      <th>count_merchOwned</th>\n",
       "    </tr>\n",
       "  </thead>\n",
       "  <tbody>\n",
       "    <tr>\n",
       "      <th>0</th>\n",
       "      <td>1 to 3 Days Out</td>\n",
       "      <td>1</td>\n",
       "      <td>4.0</td>\n",
       "      <td>51</td>\n",
       "      <td>0.0</td>\n",
       "      <td>0.0</td>\n",
       "      <td>2019-12-19</td>\n",
       "      <td>20191219 - Chicago Blackhawks</td>\n",
       "      <td>True</td>\n",
       "      <td>6.97</td>\n",
       "      <td>51</td>\n",
       "      <td>0</td>\n",
       "      <td>10</td>\n",
       "      <td>0.0</td>\n",
       "      <td>0.0</td>\n",
       "      <td>0.142857</td>\n",
       "      <td>0</td>\n",
       "    </tr>\n",
       "    <tr>\n",
       "      <th>1</th>\n",
       "      <td>1 to 3 Days Out</td>\n",
       "      <td>1</td>\n",
       "      <td>4.0</td>\n",
       "      <td>298</td>\n",
       "      <td>0.0</td>\n",
       "      <td>0.0</td>\n",
       "      <td>2021-11-29</td>\n",
       "      <td>20211129 - Arizona Coyotes</td>\n",
       "      <td>False</td>\n",
       "      <td>594.02</td>\n",
       "      <td>59</td>\n",
       "      <td>1</td>\n",
       "      <td>11</td>\n",
       "      <td>0.0</td>\n",
       "      <td>0.0</td>\n",
       "      <td>0.272727</td>\n",
       "      <td>0</td>\n",
       "    </tr>\n",
       "    <tr>\n",
       "      <th>2</th>\n",
       "      <td>1 to 3 Days Out</td>\n",
       "      <td>1</td>\n",
       "      <td>4.0</td>\n",
       "      <td>597</td>\n",
       "      <td>0.0</td>\n",
       "      <td>0.0</td>\n",
       "      <td>2018-03-02</td>\n",
       "      <td>20180302 - Detroit Red Wings</td>\n",
       "      <td>True</td>\n",
       "      <td>8.76</td>\n",
       "      <td>1249</td>\n",
       "      <td>1</td>\n",
       "      <td>167</td>\n",
       "      <td>0.0</td>\n",
       "      <td>0.0</td>\n",
       "      <td>0.013514</td>\n",
       "      <td>0</td>\n",
       "    </tr>\n",
       "    <tr>\n",
       "      <th>3</th>\n",
       "      <td>1 to 3 Days Out</td>\n",
       "      <td>1</td>\n",
       "      <td>4.0</td>\n",
       "      <td>997</td>\n",
       "      <td>0.0</td>\n",
       "      <td>0.0</td>\n",
       "      <td>2019-03-14</td>\n",
       "      <td>20190314 - Boston Bruins</td>\n",
       "      <td>True</td>\n",
       "      <td>14.42</td>\n",
       "      <td>860</td>\n",
       "      <td>0</td>\n",
       "      <td>117</td>\n",
       "      <td>0.0</td>\n",
       "      <td>0.0</td>\n",
       "      <td>0.018868</td>\n",
       "      <td>0</td>\n",
       "    </tr>\n",
       "    <tr>\n",
       "      <th>4</th>\n",
       "      <td>1 to 3 Days Out</td>\n",
       "      <td>1</td>\n",
       "      <td>4.0</td>\n",
       "      <td>1020</td>\n",
       "      <td>0.0</td>\n",
       "      <td>0.0</td>\n",
       "      <td>2018-10-14</td>\n",
       "      <td>20181014 - Carolina Hurricanes</td>\n",
       "      <td>True</td>\n",
       "      <td>0.63</td>\n",
       "      <td>673</td>\n",
       "      <td>0</td>\n",
       "      <td>76</td>\n",
       "      <td>0.0</td>\n",
       "      <td>0.0</td>\n",
       "      <td>0.014286</td>\n",
       "      <td>0</td>\n",
       "    </tr>\n",
       "  </tbody>\n",
       "</table>\n",
       "</div>"
      ],
      "text/plain": [
       "           daysOut  minDaysOut  maxDaysOut  dimCustomerMasterId  \\\n",
       "0  1 to 3 Days Out           1         4.0                   51   \n",
       "1  1 to 3 Days Out           1         4.0                  298   \n",
       "2  1 to 3 Days Out           1         4.0                  597   \n",
       "3  1 to 3 Days Out           1         4.0                  997   \n",
       "4  1 to 3 Days Out           1         4.0                 1020   \n",
       "\n",
       "   recent_openRate  recent_clickRate  eventDate  \\\n",
       "0              0.0               0.0 2019-12-19   \n",
       "1              0.0               0.0 2021-11-29   \n",
       "2              0.0               0.0 2018-03-02   \n",
       "3              0.0               0.0 2019-03-14   \n",
       "4              0.0               0.0 2018-10-14   \n",
       "\n",
       "                        eventName inMarket  distanceToVenue  tenure  \\\n",
       "0   20191219 - Chicago Blackhawks     True             6.97      51   \n",
       "1      20211129 - Arizona Coyotes    False           594.02      59   \n",
       "2    20180302 - Detroit Red Wings     True             8.76    1249   \n",
       "3        20190314 - Boston Bruins     True            14.42     860   \n",
       "4  20181014 - Carolina Hurricanes     True             0.63     673   \n",
       "\n",
       "   did_purchase  events_purchased  frequency_opponent  frequency_eventDay  \\\n",
       "0             0                10                 0.0                 0.0   \n",
       "1             1                11                 0.0                 0.0   \n",
       "2             1               167                 0.0                 0.0   \n",
       "3             0               117                 0.0                 0.0   \n",
       "4             0                76                 0.0                 0.0   \n",
       "\n",
       "   frequency_eventTime  count_merchOwned  \n",
       "0             0.142857                 0  \n",
       "1             0.272727                 0  \n",
       "2             0.013514                 0  \n",
       "3             0.018868                 0  \n",
       "4             0.014286                 0  "
      ]
     },
     "execution_count": 15,
     "metadata": {},
     "output_type": "execute_result"
    }
   ],
   "source": [
    "df.head()"
   ]
  },
  {
   "cell_type": "markdown",
   "id": "e443d54e",
   "metadata": {},
   "source": [
    "### Let's create some data for training the model and some for a basic evaluation of the model performance:"
   ]
  },
  {
   "cell_type": "code",
   "execution_count": 16,
   "id": "bb4db2e5",
   "metadata": {},
   "outputs": [
    {
     "name": "stdout",
     "output_type": "stream",
     "text": [
      "Data for Modeling: (54091, 17)\n",
      "Unseen Data For Predictions: (9545, 17)\n",
      "\n"
     ]
    }
   ],
   "source": [
    "# copy your main dataframe\n",
    "df_dataset = df\n",
    "\n",
    "df_train = df_dataset.sample(frac=0.85, random_state=786)\n",
    "df_eval = df_dataset.drop(df_train.index)\n",
    "\n",
    "df_train.reset_index(drop=True)\n",
    "df_eval.reset_index(drop=True)\n",
    "\n",
    "# print out the number of records for training and eval\n",
    "print('Data for Modeling: ' + str(df_train.shape))\n",
    "print('Unseen Data For Predictions: ' + str(df_eval.shape), end=\"\\n\\n\")"
   ]
  },
  {
   "cell_type": "markdown",
   "id": "d6a7a272",
   "metadata": {},
   "source": [
    "### Now we can use the training data to setup a binary classifier using the specified features below:"
   ]
  },
  {
   "cell_type": "code",
   "execution_count": 17,
   "id": "d2c1c146",
   "metadata": {},
   "outputs": [],
   "source": [
    "setup(\n",
    "    data= df_train, \n",
    "    target=\"did_purchase\", \n",
    "    train_size = 0.85,\n",
    "    data_split_shuffle=True,\n",
    "    categorical_features=[\"inMarket\"],\n",
    "    date_features=[\"eventDate\"],\n",
    "    ignore_features=[\n",
    "        \"count_merchOwned\",\n",
    "        \"dimCustomerMasterId\",\n",
    "        \"eventName\",\n",
    "        \"minDaysOut\",\n",
    "        \"maxDaysOut\"\n",
    "    ],\n",
    "    silent=True,\n",
    "    verbose=False,\n",
    "    numeric_features=[\n",
    "        \"distanceToVenue\",\n",
    "        \"events_purchased\",\n",
    "        \"frequency_eventDay\",\n",
    "        \"frequency_opponent\",\n",
    "        \"frequency_eventTime\",\n",
    "        \"recent_clickRate\",\n",
    "        \"recent_openRate\",\n",
    "        \"tenure\"\n",
    "    ]\n",
    ");"
   ]
  },
  {
   "cell_type": "markdown",
   "id": "2248b72a",
   "metadata": {},
   "source": [
    "### Let's fit a few different algorithms over our model and sort them by AUC:"
   ]
  },
  {
   "cell_type": "code",
   "execution_count": 18,
   "id": "5d99794b",
   "metadata": {},
   "outputs": [
    {
     "data": {
      "text/html": [
       "<style type=\"text/css\">\n",
       "#T_2fa88_ th {\n",
       "  text-align: left;\n",
       "}\n",
       "#T_2fa88_row0_col0, #T_2fa88_row0_col3, #T_2fa88_row1_col0, #T_2fa88_row1_col1, #T_2fa88_row1_col4, #T_2fa88_row1_col5, #T_2fa88_row1_col6, #T_2fa88_row1_col7, #T_2fa88_row2_col0, #T_2fa88_row2_col1, #T_2fa88_row2_col2, #T_2fa88_row2_col3, #T_2fa88_row2_col4, #T_2fa88_row2_col5, #T_2fa88_row2_col6, #T_2fa88_row2_col7, #T_2fa88_row3_col0, #T_2fa88_row3_col1, #T_2fa88_row3_col2, #T_2fa88_row3_col3, #T_2fa88_row3_col4, #T_2fa88_row3_col5, #T_2fa88_row3_col6, #T_2fa88_row3_col7 {\n",
       "  text-align: left;\n",
       "}\n",
       "#T_2fa88_row0_col1, #T_2fa88_row0_col2, #T_2fa88_row0_col4, #T_2fa88_row0_col5, #T_2fa88_row0_col6, #T_2fa88_row0_col7, #T_2fa88_row1_col2, #T_2fa88_row1_col3 {\n",
       "  text-align: left;\n",
       "  background-color: yellow;\n",
       "}\n",
       "#T_2fa88_row0_col8 {\n",
       "  text-align: left;\n",
       "  background-color: yellow;\n",
       "  background-color: lightgrey;\n",
       "}\n",
       "#T_2fa88_row1_col8, #T_2fa88_row2_col8, #T_2fa88_row3_col8 {\n",
       "  text-align: left;\n",
       "  background-color: lightgrey;\n",
       "}\n",
       "</style>\n",
       "<table id=\"T_2fa88_\">\n",
       "  <thead>\n",
       "    <tr>\n",
       "      <th class=\"blank level0\" >&nbsp;</th>\n",
       "      <th class=\"col_heading level0 col0\" >Model</th>\n",
       "      <th class=\"col_heading level0 col1\" >Accuracy</th>\n",
       "      <th class=\"col_heading level0 col2\" >AUC</th>\n",
       "      <th class=\"col_heading level0 col3\" >Recall</th>\n",
       "      <th class=\"col_heading level0 col4\" >Prec.</th>\n",
       "      <th class=\"col_heading level0 col5\" >F1</th>\n",
       "      <th class=\"col_heading level0 col6\" >Kappa</th>\n",
       "      <th class=\"col_heading level0 col7\" >MCC</th>\n",
       "      <th class=\"col_heading level0 col8\" >TT (Sec)</th>\n",
       "    </tr>\n",
       "  </thead>\n",
       "  <tbody>\n",
       "    <tr>\n",
       "      <th id=\"T_2fa88_level0_row0\" class=\"row_heading level0 row0\" >lightgbm</th>\n",
       "      <td id=\"T_2fa88_row0_col0\" class=\"data row0 col0\" >Light Gradient Boosting Machine</td>\n",
       "      <td id=\"T_2fa88_row0_col1\" class=\"data row0 col1\" >0.8009</td>\n",
       "      <td id=\"T_2fa88_row0_col2\" class=\"data row0 col2\" >0.8847</td>\n",
       "      <td id=\"T_2fa88_row0_col3\" class=\"data row0 col3\" >0.7823</td>\n",
       "      <td id=\"T_2fa88_row0_col4\" class=\"data row0 col4\" >0.8124</td>\n",
       "      <td id=\"T_2fa88_row0_col5\" class=\"data row0 col5\" >0.7971</td>\n",
       "      <td id=\"T_2fa88_row0_col6\" class=\"data row0 col6\" >0.6019</td>\n",
       "      <td id=\"T_2fa88_row0_col7\" class=\"data row0 col7\" >0.6023</td>\n",
       "      <td id=\"T_2fa88_row0_col8\" class=\"data row0 col8\" >0.2720</td>\n",
       "    </tr>\n",
       "    <tr>\n",
       "      <th id=\"T_2fa88_level0_row1\" class=\"row_heading level0 row1\" >xgboost</th>\n",
       "      <td id=\"T_2fa88_row1_col0\" class=\"data row1 col0\" >Extreme Gradient Boosting</td>\n",
       "      <td id=\"T_2fa88_row1_col1\" class=\"data row1 col1\" >0.7995</td>\n",
       "      <td id=\"T_2fa88_row1_col2\" class=\"data row1 col2\" >0.8847</td>\n",
       "      <td id=\"T_2fa88_row1_col3\" class=\"data row1 col3\" >0.7824</td>\n",
       "      <td id=\"T_2fa88_row1_col4\" class=\"data row1 col4\" >0.8099</td>\n",
       "      <td id=\"T_2fa88_row1_col5\" class=\"data row1 col5\" >0.7959</td>\n",
       "      <td id=\"T_2fa88_row1_col6\" class=\"data row1 col6\" >0.5990</td>\n",
       "      <td id=\"T_2fa88_row1_col7\" class=\"data row1 col7\" >0.5994</td>\n",
       "      <td id=\"T_2fa88_row1_col8\" class=\"data row1 col8\" >1.5570</td>\n",
       "    </tr>\n",
       "    <tr>\n",
       "      <th id=\"T_2fa88_level0_row2\" class=\"row_heading level0 row2\" >gbc</th>\n",
       "      <td id=\"T_2fa88_row2_col0\" class=\"data row2 col0\" >Gradient Boosting Classifier</td>\n",
       "      <td id=\"T_2fa88_row2_col1\" class=\"data row2 col1\" >0.7907</td>\n",
       "      <td id=\"T_2fa88_row2_col2\" class=\"data row2 col2\" >0.8741</td>\n",
       "      <td id=\"T_2fa88_row2_col3\" class=\"data row2 col3\" >0.7608</td>\n",
       "      <td id=\"T_2fa88_row2_col4\" class=\"data row2 col4\" >0.8089</td>\n",
       "      <td id=\"T_2fa88_row2_col5\" class=\"data row2 col5\" >0.7841</td>\n",
       "      <td id=\"T_2fa88_row2_col6\" class=\"data row2 col6\" >0.5813</td>\n",
       "      <td id=\"T_2fa88_row2_col7\" class=\"data row2 col7\" >0.5824</td>\n",
       "      <td id=\"T_2fa88_row2_col8\" class=\"data row2 col8\" >1.5970</td>\n",
       "    </tr>\n",
       "    <tr>\n",
       "      <th id=\"T_2fa88_level0_row3\" class=\"row_heading level0 row3\" >lr</th>\n",
       "      <td id=\"T_2fa88_row3_col0\" class=\"data row3 col0\" >Logistic Regression</td>\n",
       "      <td id=\"T_2fa88_row3_col1\" class=\"data row3 col1\" >0.7639</td>\n",
       "      <td id=\"T_2fa88_row3_col2\" class=\"data row3 col2\" >0.8420</td>\n",
       "      <td id=\"T_2fa88_row3_col3\" class=\"data row3 col3\" >0.7403</td>\n",
       "      <td id=\"T_2fa88_row3_col4\" class=\"data row3 col4\" >0.7768</td>\n",
       "      <td id=\"T_2fa88_row3_col5\" class=\"data row3 col5\" >0.7581</td>\n",
       "      <td id=\"T_2fa88_row3_col6\" class=\"data row3 col6\" >0.5278</td>\n",
       "      <td id=\"T_2fa88_row3_col7\" class=\"data row3 col7\" >0.5284</td>\n",
       "      <td id=\"T_2fa88_row3_col8\" class=\"data row3 col8\" >1.6000</td>\n",
       "    </tr>\n",
       "  </tbody>\n",
       "</table>\n"
      ],
      "text/plain": [
       "<pandas.io.formats.style.Styler at 0x7fbc607beac0>"
      ]
     },
     "metadata": {},
     "output_type": "display_data"
    }
   ],
   "source": [
    "model_matrix = compare_models(\n",
    "    fold= 10,\n",
    "    include= [\"gbc\",\"lightgbm\",\"lr\",\"xgboost\"],\n",
    "    sort= \"AUC\"\n",
    ")"
   ]
  },
  {
   "cell_type": "markdown",
   "id": "c4473847",
   "metadata": {},
   "source": [
    "### Let's choose the best performing model and finalize it so we can use it to make predictions against our inference data:"
   ]
  },
  {
   "cell_type": "code",
   "execution_count": 19,
   "id": "92bf91b2",
   "metadata": {},
   "outputs": [
    {
     "data": {
      "text/html": [
       "<style type=\"text/css\">\n",
       "#T_ddab4_row10_col0, #T_ddab4_row10_col1, #T_ddab4_row10_col2, #T_ddab4_row10_col3, #T_ddab4_row10_col4, #T_ddab4_row10_col5, #T_ddab4_row10_col6 {\n",
       "  background: yellow;\n",
       "}\n",
       "</style>\n",
       "<table id=\"T_ddab4_\">\n",
       "  <thead>\n",
       "    <tr>\n",
       "      <th class=\"blank level0\" >&nbsp;</th>\n",
       "      <th class=\"col_heading level0 col0\" >Accuracy</th>\n",
       "      <th class=\"col_heading level0 col1\" >AUC</th>\n",
       "      <th class=\"col_heading level0 col2\" >Recall</th>\n",
       "      <th class=\"col_heading level0 col3\" >Prec.</th>\n",
       "      <th class=\"col_heading level0 col4\" >F1</th>\n",
       "      <th class=\"col_heading level0 col5\" >Kappa</th>\n",
       "      <th class=\"col_heading level0 col6\" >MCC</th>\n",
       "    </tr>\n",
       "  </thead>\n",
       "  <tbody>\n",
       "    <tr>\n",
       "      <th id=\"T_ddab4_level0_row0\" class=\"row_heading level0 row0\" >0</th>\n",
       "      <td id=\"T_ddab4_row0_col0\" class=\"data row0 col0\" >0.7990</td>\n",
       "      <td id=\"T_ddab4_row0_col1\" class=\"data row0 col1\" >0.8869</td>\n",
       "      <td id=\"T_ddab4_row0_col2\" class=\"data row0 col2\" >0.7798</td>\n",
       "      <td id=\"T_ddab4_row0_col3\" class=\"data row0 col3\" >0.8109</td>\n",
       "      <td id=\"T_ddab4_row0_col4\" class=\"data row0 col4\" >0.7950</td>\n",
       "      <td id=\"T_ddab4_row0_col5\" class=\"data row0 col5\" >0.5981</td>\n",
       "      <td id=\"T_ddab4_row0_col6\" class=\"data row0 col6\" >0.5985</td>\n",
       "    </tr>\n",
       "    <tr>\n",
       "      <th id=\"T_ddab4_level0_row1\" class=\"row_heading level0 row1\" >1</th>\n",
       "      <td id=\"T_ddab4_row1_col0\" class=\"data row1 col0\" >0.8125</td>\n",
       "      <td id=\"T_ddab4_row1_col1\" class=\"data row1 col1\" >0.8894</td>\n",
       "      <td id=\"T_ddab4_row1_col2\" class=\"data row1 col2\" >0.8037</td>\n",
       "      <td id=\"T_ddab4_row1_col3\" class=\"data row1 col3\" >0.8180</td>\n",
       "      <td id=\"T_ddab4_row1_col4\" class=\"data row1 col4\" >0.8108</td>\n",
       "      <td id=\"T_ddab4_row1_col5\" class=\"data row1 col5\" >0.6251</td>\n",
       "      <td id=\"T_ddab4_row1_col6\" class=\"data row1 col6\" >0.6251</td>\n",
       "    </tr>\n",
       "    <tr>\n",
       "      <th id=\"T_ddab4_level0_row2\" class=\"row_heading level0 row2\" >2</th>\n",
       "      <td id=\"T_ddab4_row2_col0\" class=\"data row2 col0\" >0.8023</td>\n",
       "      <td id=\"T_ddab4_row2_col1\" class=\"data row2 col1\" >0.8861</td>\n",
       "      <td id=\"T_ddab4_row2_col2\" class=\"data row2 col2\" >0.7859</td>\n",
       "      <td id=\"T_ddab4_row2_col3\" class=\"data row2 col3\" >0.8124</td>\n",
       "      <td id=\"T_ddab4_row2_col4\" class=\"data row2 col4\" >0.7989</td>\n",
       "      <td id=\"T_ddab4_row2_col5\" class=\"data row2 col5\" >0.6046</td>\n",
       "      <td id=\"T_ddab4_row2_col6\" class=\"data row2 col6\" >0.6049</td>\n",
       "    </tr>\n",
       "    <tr>\n",
       "      <th id=\"T_ddab4_level0_row3\" class=\"row_heading level0 row3\" >3</th>\n",
       "      <td id=\"T_ddab4_row3_col0\" class=\"data row3 col0\" >0.7997</td>\n",
       "      <td id=\"T_ddab4_row3_col1\" class=\"data row3 col1\" >0.8805</td>\n",
       "      <td id=\"T_ddab4_row3_col2\" class=\"data row3 col2\" >0.7759</td>\n",
       "      <td id=\"T_ddab4_row3_col3\" class=\"data row3 col3\" >0.8145</td>\n",
       "      <td id=\"T_ddab4_row3_col4\" class=\"data row3 col4\" >0.7947</td>\n",
       "      <td id=\"T_ddab4_row3_col5\" class=\"data row3 col5\" >0.5994</td>\n",
       "      <td id=\"T_ddab4_row3_col6\" class=\"data row3 col6\" >0.6001</td>\n",
       "    </tr>\n",
       "    <tr>\n",
       "      <th id=\"T_ddab4_level0_row4\" class=\"row_heading level0 row4\" >4</th>\n",
       "      <td id=\"T_ddab4_row4_col0\" class=\"data row4 col0\" >0.8056</td>\n",
       "      <td id=\"T_ddab4_row4_col1\" class=\"data row4 col1\" >0.8895</td>\n",
       "      <td id=\"T_ddab4_row4_col2\" class=\"data row4 col2\" >0.7850</td>\n",
       "      <td id=\"T_ddab4_row4_col3\" class=\"data row4 col3\" >0.8185</td>\n",
       "      <td id=\"T_ddab4_row4_col4\" class=\"data row4 col4\" >0.8014</td>\n",
       "      <td id=\"T_ddab4_row4_col5\" class=\"data row4 col5\" >0.6111</td>\n",
       "      <td id=\"T_ddab4_row4_col6\" class=\"data row4 col6\" >0.6116</td>\n",
       "    </tr>\n",
       "    <tr>\n",
       "      <th id=\"T_ddab4_level0_row5\" class=\"row_heading level0 row5\" >5</th>\n",
       "      <td id=\"T_ddab4_row5_col0\" class=\"data row5 col0\" >0.7997</td>\n",
       "      <td id=\"T_ddab4_row5_col1\" class=\"data row5 col1\" >0.8807</td>\n",
       "      <td id=\"T_ddab4_row5_col2\" class=\"data row5 col2\" >0.7862</td>\n",
       "      <td id=\"T_ddab4_row5_col3\" class=\"data row5 col3\" >0.8077</td>\n",
       "      <td id=\"T_ddab4_row5_col4\" class=\"data row5 col4\" >0.7968</td>\n",
       "      <td id=\"T_ddab4_row5_col5\" class=\"data row5 col5\" >0.5994</td>\n",
       "      <td id=\"T_ddab4_row5_col6\" class=\"data row5 col6\" >0.5996</td>\n",
       "    </tr>\n",
       "    <tr>\n",
       "      <th id=\"T_ddab4_level0_row6\" class=\"row_heading level0 row6\" >6</th>\n",
       "      <td id=\"T_ddab4_row6_col0\" class=\"data row6 col0\" >0.7899</td>\n",
       "      <td id=\"T_ddab4_row6_col1\" class=\"data row6 col1\" >0.8786</td>\n",
       "      <td id=\"T_ddab4_row6_col2\" class=\"data row6 col2\" >0.7710</td>\n",
       "      <td id=\"T_ddab4_row6_col3\" class=\"data row6 col3\" >0.8010</td>\n",
       "      <td id=\"T_ddab4_row6_col4\" class=\"data row6 col4\" >0.7857</td>\n",
       "      <td id=\"T_ddab4_row6_col5\" class=\"data row6 col5\" >0.5798</td>\n",
       "      <td id=\"T_ddab4_row6_col6\" class=\"data row6 col6\" >0.5802</td>\n",
       "    </tr>\n",
       "    <tr>\n",
       "      <th id=\"T_ddab4_level0_row7\" class=\"row_heading level0 row7\" >7</th>\n",
       "      <td id=\"T_ddab4_row7_col0\" class=\"data row7 col0\" >0.7988</td>\n",
       "      <td id=\"T_ddab4_row7_col1\" class=\"data row7 col1\" >0.8846</td>\n",
       "      <td id=\"T_ddab4_row7_col2\" class=\"data row7 col2\" >0.7741</td>\n",
       "      <td id=\"T_ddab4_row7_col3\" class=\"data row7 col3\" >0.8141</td>\n",
       "      <td id=\"T_ddab4_row7_col4\" class=\"data row7 col4\" >0.7936</td>\n",
       "      <td id=\"T_ddab4_row7_col5\" class=\"data row7 col5\" >0.5976</td>\n",
       "      <td id=\"T_ddab4_row7_col6\" class=\"data row7 col6\" >0.5983</td>\n",
       "    </tr>\n",
       "    <tr>\n",
       "      <th id=\"T_ddab4_level0_row8\" class=\"row_heading level0 row8\" >8</th>\n",
       "      <td id=\"T_ddab4_row8_col0\" class=\"data row8 col0\" >0.8001</td>\n",
       "      <td id=\"T_ddab4_row8_col1\" class=\"data row8 col1\" >0.8839</td>\n",
       "      <td id=\"T_ddab4_row8_col2\" class=\"data row8 col2\" >0.7723</td>\n",
       "      <td id=\"T_ddab4_row8_col3\" class=\"data row8 col3\" >0.8175</td>\n",
       "      <td id=\"T_ddab4_row8_col4\" class=\"data row8 col4\" >0.7943</td>\n",
       "      <td id=\"T_ddab4_row8_col5\" class=\"data row8 col5\" >0.6002</td>\n",
       "      <td id=\"T_ddab4_row8_col6\" class=\"data row8 col6\" >0.6011</td>\n",
       "    </tr>\n",
       "    <tr>\n",
       "      <th id=\"T_ddab4_level0_row9\" class=\"row_heading level0 row9\" >9</th>\n",
       "      <td id=\"T_ddab4_row9_col0\" class=\"data row9 col0\" >0.8018</td>\n",
       "      <td id=\"T_ddab4_row9_col1\" class=\"data row9 col1\" >0.8870</td>\n",
       "      <td id=\"T_ddab4_row9_col2\" class=\"data row9 col2\" >0.7893</td>\n",
       "      <td id=\"T_ddab4_row9_col3\" class=\"data row9 col3\" >0.8094</td>\n",
       "      <td id=\"T_ddab4_row9_col4\" class=\"data row9 col4\" >0.7992</td>\n",
       "      <td id=\"T_ddab4_row9_col5\" class=\"data row9 col5\" >0.6036</td>\n",
       "      <td id=\"T_ddab4_row9_col6\" class=\"data row9 col6\" >0.6038</td>\n",
       "    </tr>\n",
       "    <tr>\n",
       "      <th id=\"T_ddab4_level0_row10\" class=\"row_heading level0 row10\" >Mean</th>\n",
       "      <td id=\"T_ddab4_row10_col0\" class=\"data row10 col0\" >0.8009</td>\n",
       "      <td id=\"T_ddab4_row10_col1\" class=\"data row10 col1\" >0.8847</td>\n",
       "      <td id=\"T_ddab4_row10_col2\" class=\"data row10 col2\" >0.7823</td>\n",
       "      <td id=\"T_ddab4_row10_col3\" class=\"data row10 col3\" >0.8124</td>\n",
       "      <td id=\"T_ddab4_row10_col4\" class=\"data row10 col4\" >0.7971</td>\n",
       "      <td id=\"T_ddab4_row10_col5\" class=\"data row10 col5\" >0.6019</td>\n",
       "      <td id=\"T_ddab4_row10_col6\" class=\"data row10 col6\" >0.6023</td>\n",
       "    </tr>\n",
       "    <tr>\n",
       "      <th id=\"T_ddab4_level0_row11\" class=\"row_heading level0 row11\" >SD</th>\n",
       "      <td id=\"T_ddab4_row11_col0\" class=\"data row11 col0\" >0.0054</td>\n",
       "      <td id=\"T_ddab4_row11_col1\" class=\"data row11 col1\" >0.0036</td>\n",
       "      <td id=\"T_ddab4_row11_col2\" class=\"data row11 col2\" >0.0094</td>\n",
       "      <td id=\"T_ddab4_row11_col3\" class=\"data row11 col3\" >0.0052</td>\n",
       "      <td id=\"T_ddab4_row11_col4\" class=\"data row11 col4\" >0.0061</td>\n",
       "      <td id=\"T_ddab4_row11_col5\" class=\"data row11 col5\" >0.0108</td>\n",
       "      <td id=\"T_ddab4_row11_col6\" class=\"data row11 col6\" >0.0107</td>\n",
       "    </tr>\n",
       "  </tbody>\n",
       "</table>\n"
      ],
      "text/plain": [
       "<pandas.io.formats.style.Styler at 0x7fbc607bbf10>"
      ]
     },
     "metadata": {},
     "output_type": "display_data"
    }
   ],
   "source": [
    "best_model = create_model(model_matrix)\n",
    "final_model = finalize_model(best_model)"
   ]
  },
  {
   "cell_type": "markdown",
   "id": "e01006d0",
   "metadata": {},
   "source": [
    "### We can have a look at the most important features that determine a correct prediction by the model:"
   ]
  },
  {
   "cell_type": "code",
   "execution_count": 20,
   "id": "3bfa1b05",
   "metadata": {},
   "outputs": [
    {
     "data": {
      "image/png": "[encoded data removed]",
      "text/plain": [
       "<Figure size 800x500 with 1 Axes>"
      ]
     },
     "metadata": {
      "image/png": {
       "height": 460,
       "width": 810
      }
     },
     "output_type": "display_data"
    }
   ],
   "source": [
    "plot_model(final_model, plot='feature')"
   ]
  },
  {
   "cell_type": "markdown",
   "id": "fba32c84",
   "metadata": {},
   "source": [
    "## Experiment : Scoring Model"
   ]
  },
  {
   "cell_type": "markdown",
   "id": "b209a294",
   "metadata": {},
   "source": [
    "### Now that we have a model, we need to get a dataset of all customers who have purchased an individual ticket for the specified team:"
   ]
  },
  {
   "cell_type": "code",
   "execution_count": 21,
   "id": "1d64ba23",
   "metadata": {},
   "outputs": [
    {
     "data": {
      "text/plain": [
       "(1515528, 21)"
      ]
     },
     "execution_count": 21,
     "metadata": {},
     "output_type": "execute_result"
    }
   ],
   "source": [
    "s3_resource = boto3.resource('s3')\n",
    "my_bucket = s3_resource.Bucket(S3_BUCKET)\n",
    "\n",
    "file_list = []\n",
    "for object_summary in my_bucket.objects.filter(Prefix=S3_OBJECT):\n",
    "        file_list.append(object_summary.key)\n",
    "\n",
    "df_games = []\n",
    "for idx, filename in enumerate(file_list):\n",
    "    \n",
    "    if idx > 0:\n",
    "\n",
    "        s3_client = boto3.client(\"s3\")\n",
    "        obj = s3_client.get_object(Bucket=S3_BUCKET, Key=filename)\n",
    "        df_game = pd.read_csv(obj[\"Body\"])\n",
    "        \n",
    "        df_games.append(df_game)\n",
    "\n",
    "df_inference = pd.concat(df_games)\n",
    "df_inference.fillna(method=\"backfill\", inplace=True)\n",
    "\n",
    "df_inference.shape"
   ]
  },
  {
   "cell_type": "markdown",
   "id": "272e0586",
   "metadata": {},
   "source": [
    "### Let's use our model to score all of the inference data to get a probability that they will purchase an individual ticket:"
   ]
  },
  {
   "cell_type": "code",
   "execution_count": 22,
   "id": "35bd420f",
   "metadata": {},
   "outputs": [],
   "source": [
    "df_scores = predict_model(final_model, data=df_inference, raw_score=True)"
   ]
  },
  {
   "cell_type": "code",
   "execution_count": 23,
   "id": "6a8429f9",
   "metadata": {},
   "outputs": [
    {
     "data": {
      "text/html": [
       "<div>\n",
       "<style scoped>\n",
       "    .dataframe tbody tr th:only-of-type {\n",
       "        vertical-align: middle;\n",
       "    }\n",
       "\n",
       "    .dataframe tbody tr th {\n",
       "        vertical-align: top;\n",
       "    }\n",
       "\n",
       "    .dataframe thead th {\n",
       "        text-align: right;\n",
       "    }\n",
       "</style>\n",
       "<table border=\"1\" class=\"dataframe\">\n",
       "  <thead>\n",
       "    <tr style=\"text-align: right;\">\n",
       "      <th></th>\n",
       "      <th>id</th>\n",
       "      <th>lkupclientid</th>\n",
       "      <th>dimcustomermasterid</th>\n",
       "      <th>customercompositekey</th>\n",
       "      <th>eventname</th>\n",
       "      <th>eventscore</th>\n",
       "      <th>daysoutbucket</th>\n",
       "      <th>date_effective_start</th>\n",
       "      <th>date_effective_end</th>\n",
       "      <th>daysOut</th>\n",
       "      <th>...</th>\n",
       "      <th>frequency_opponent</th>\n",
       "      <th>frequency_eventDay</th>\n",
       "      <th>frequency_eventTime</th>\n",
       "      <th>inMarket</th>\n",
       "      <th>distanceToVenue</th>\n",
       "      <th>recent_openRate</th>\n",
       "      <th>recent_clickRate</th>\n",
       "      <th>Label</th>\n",
       "      <th>Score_0</th>\n",
       "      <th>Score_1</th>\n",
       "    </tr>\n",
       "  </thead>\n",
       "  <tbody>\n",
       "    <tr>\n",
       "      <th>0</th>\n",
       "      <td>0.0</td>\n",
       "      <td>92.0</td>\n",
       "      <td>327324.0</td>\n",
       "      <td>1.405846e+15</td>\n",
       "      <td>20220402 - Los Angeles Kings</td>\n",
       "      <td>0.9953</td>\n",
       "      <td>NaN</td>\n",
       "      <td>2022-03-31 00:00:00.000</td>\n",
       "      <td>NaN</td>\n",
       "      <td>Day Of</td>\n",
       "      <td>...</td>\n",
       "      <td>1.0</td>\n",
       "      <td>1.0</td>\n",
       "      <td>1.0</td>\n",
       "      <td>t</td>\n",
       "      <td>52.56</td>\n",
       "      <td>0.5</td>\n",
       "      <td>1.0</td>\n",
       "      <td>0</td>\n",
       "      <td>0.5858</td>\n",
       "      <td>0.4142</td>\n",
       "    </tr>\n",
       "    <tr>\n",
       "      <th>1</th>\n",
       "      <td>1.0</td>\n",
       "      <td>92.0</td>\n",
       "      <td>1338794.0</td>\n",
       "      <td>5.750076e+15</td>\n",
       "      <td>20220402 - Los Angeles Kings</td>\n",
       "      <td>0.9945</td>\n",
       "      <td>NaN</td>\n",
       "      <td>2022-03-31 00:00:00.000</td>\n",
       "      <td>NaN</td>\n",
       "      <td>Day Of</td>\n",
       "      <td>...</td>\n",
       "      <td>1.0</td>\n",
       "      <td>1.0</td>\n",
       "      <td>1.0</td>\n",
       "      <td>t</td>\n",
       "      <td>52.56</td>\n",
       "      <td>0.5</td>\n",
       "      <td>1.0</td>\n",
       "      <td>0</td>\n",
       "      <td>0.5858</td>\n",
       "      <td>0.4142</td>\n",
       "    </tr>\n",
       "    <tr>\n",
       "      <th>2</th>\n",
       "      <td>2.0</td>\n",
       "      <td>92.0</td>\n",
       "      <td>114951.0</td>\n",
       "      <td>4.937108e+14</td>\n",
       "      <td>20220402 - Los Angeles Kings</td>\n",
       "      <td>0.9914</td>\n",
       "      <td>NaN</td>\n",
       "      <td>2022-03-31 00:00:00.000</td>\n",
       "      <td>NaN</td>\n",
       "      <td>Day Of</td>\n",
       "      <td>...</td>\n",
       "      <td>1.0</td>\n",
       "      <td>1.0</td>\n",
       "      <td>1.0</td>\n",
       "      <td>t</td>\n",
       "      <td>52.56</td>\n",
       "      <td>0.5</td>\n",
       "      <td>1.0</td>\n",
       "      <td>0</td>\n",
       "      <td>0.5858</td>\n",
       "      <td>0.4142</td>\n",
       "    </tr>\n",
       "    <tr>\n",
       "      <th>3</th>\n",
       "      <td>3.0</td>\n",
       "      <td>92.0</td>\n",
       "      <td>283974.0</td>\n",
       "      <td>1.219659e+15</td>\n",
       "      <td>20220402 - Los Angeles Kings</td>\n",
       "      <td>0.9904</td>\n",
       "      <td>NaN</td>\n",
       "      <td>2022-03-31 00:00:00.000</td>\n",
       "      <td>NaN</td>\n",
       "      <td>Day Of</td>\n",
       "      <td>...</td>\n",
       "      <td>1.0</td>\n",
       "      <td>1.0</td>\n",
       "      <td>1.0</td>\n",
       "      <td>t</td>\n",
       "      <td>52.56</td>\n",
       "      <td>0.5</td>\n",
       "      <td>1.0</td>\n",
       "      <td>0</td>\n",
       "      <td>0.5858</td>\n",
       "      <td>0.4142</td>\n",
       "    </tr>\n",
       "    <tr>\n",
       "      <th>4</th>\n",
       "      <td>4.0</td>\n",
       "      <td>92.0</td>\n",
       "      <td>182504.0</td>\n",
       "      <td>7.838487e+14</td>\n",
       "      <td>20220402 - Los Angeles Kings</td>\n",
       "      <td>0.9902</td>\n",
       "      <td>NaN</td>\n",
       "      <td>2022-03-31 00:00:00.000</td>\n",
       "      <td>NaN</td>\n",
       "      <td>Day Of</td>\n",
       "      <td>...</td>\n",
       "      <td>1.0</td>\n",
       "      <td>1.0</td>\n",
       "      <td>1.0</td>\n",
       "      <td>t</td>\n",
       "      <td>52.56</td>\n",
       "      <td>0.5</td>\n",
       "      <td>1.0</td>\n",
       "      <td>0</td>\n",
       "      <td>0.5858</td>\n",
       "      <td>0.4142</td>\n",
       "    </tr>\n",
       "  </tbody>\n",
       "</table>\n",
       "<p>5 rows × 24 columns</p>\n",
       "</div>"
      ],
      "text/plain": [
       "    id  lkupclientid  dimcustomermasterid  customercompositekey  \\\n",
       "0  0.0          92.0             327324.0          1.405846e+15   \n",
       "1  1.0          92.0            1338794.0          5.750076e+15   \n",
       "2  2.0          92.0             114951.0          4.937108e+14   \n",
       "3  3.0          92.0             283974.0          1.219659e+15   \n",
       "4  4.0          92.0             182504.0          7.838487e+14   \n",
       "\n",
       "                      eventname  eventscore  daysoutbucket  \\\n",
       "0  20220402 - Los Angeles Kings      0.9953            NaN   \n",
       "1  20220402 - Los Angeles Kings      0.9945            NaN   \n",
       "2  20220402 - Los Angeles Kings      0.9914            NaN   \n",
       "3  20220402 - Los Angeles Kings      0.9904            NaN   \n",
       "4  20220402 - Los Angeles Kings      0.9902            NaN   \n",
       "\n",
       "      date_effective_start  date_effective_end daysOut  ...  \\\n",
       "0  2022-03-31 00:00:00.000                 NaN  Day Of  ...   \n",
       "1  2022-03-31 00:00:00.000                 NaN  Day Of  ...   \n",
       "2  2022-03-31 00:00:00.000                 NaN  Day Of  ...   \n",
       "3  2022-03-31 00:00:00.000                 NaN  Day Of  ...   \n",
       "4  2022-03-31 00:00:00.000                 NaN  Day Of  ...   \n",
       "\n",
       "  frequency_opponent  frequency_eventDay  frequency_eventTime  inMarket  \\\n",
       "0                1.0                 1.0                  1.0         t   \n",
       "1                1.0                 1.0                  1.0         t   \n",
       "2                1.0                 1.0                  1.0         t   \n",
       "3                1.0                 1.0                  1.0         t   \n",
       "4                1.0                 1.0                  1.0         t   \n",
       "\n",
       "   distanceToVenue  recent_openRate  recent_clickRate Label  Score_0  Score_1  \n",
       "0            52.56              0.5               1.0     0   0.5858   0.4142  \n",
       "1            52.56              0.5               1.0     0   0.5858   0.4142  \n",
       "2            52.56              0.5               1.0     0   0.5858   0.4142  \n",
       "3            52.56              0.5               1.0     0   0.5858   0.4142  \n",
       "4            52.56              0.5               1.0     0   0.5858   0.4142  \n",
       "\n",
       "[5 rows x 24 columns]"
      ]
     },
     "execution_count": 23,
     "metadata": {},
     "output_type": "execute_result"
    }
   ],
   "source": [
    "df_scores.head()"
   ]
  },
  {
   "cell_type": "markdown",
   "id": "c8baa90b",
   "metadata": {
    "tags": []
   },
   "source": [
    "### Here we can see the distribution of event propensity scores for all fans who have purchased an individual ticket previously:"
   ]
  },
  {
   "cell_type": "code",
   "execution_count": 24,
   "id": "71fbbd90",
   "metadata": {
    "tags": []
   },
   "outputs": [
    {
     "name": "stdout",
     "output_type": "stream",
     "text": [
      "NUMBER INDIVIDUAL BUYERS: 1515528\n"
     ]
    },
    {
     "data": {
      "image/png": "[encoded data removed]",
      "text/plain": [
       "<Figure size 576x396 with 1 Axes>"
      ]
     },
     "metadata": {
      "image/png": {
       "height": 358,
       "width": 515
      }
     },
     "output_type": "display_data"
    }
   ],
   "source": [
    "print(f\"NUMBER INDIVIDUAL BUYERS: {len(df_scores)}\")\n",
    "\n",
    "plt.title(\"Event Propensity Scores (All Individual Buyers)\")\n",
    "plt.ylabel(\"Num Fans\")\n",
    "plt.xlabel(\"Event Propensity Score\")\n",
    "plt.hist(df_scores[\"Score_1\"], bins=20, edgecolor=\"black\", range=(0,1))\n",
    "\n",
    "plt.show()"
   ]
  },
  {
   "cell_type": "markdown",
   "id": "31687af2",
   "metadata": {},
   "source": [
    "### Let's write these scoring results out to csv files based on the event date so we can upload them into the CDP lead recommender. \n",
    "\n",
    "### ! In the future, we could write these scores directly to the cohort event propensity table"
   ]
  },
  {
   "cell_type": "code",
   "execution_count": 25,
   "id": "e00a68d4",
   "metadata": {},
   "outputs": [
    {
     "name": "stdout",
     "output_type": "stream",
     "text": [
      "EXPORTING stlrNHLJets EVENT PROPENSITY SCORES TO:\n",
      "./results/2022-04-02\n",
      "./results/2022-04-06\n",
      "./results/2022-04-13\n",
      "./results/2022-04-24\n",
      "./results/2022-04-27\n",
      "./results/2022-04-29\n",
      "./results/2022-05-01\n"
     ]
    }
   ],
   "source": [
    "dates = df_scores['eventDate'].unique()\n",
    "parent_dir = \"./results/\"\n",
    "\n",
    "print(f\"EXPORTING {DB_NAME} EVENT PROPENSITY SCORES TO:\")\n",
    "for date in dates:\n",
    "    \n",
    "    path = parent_dir + date\n",
    "    if not os.path.exists(path):\n",
    "        os.makedirs(path)\n",
    "        \n",
    "    df_date_scores = df_scores[df_scores[\"eventDate\"] == date]    \n",
    "    df_date_scores.to_csv(f\"{path}/NHL-Jets-{date}-results.csv\")\n",
    "    \n",
    "    print(f\"{path}\")"
   ]
  },
  {
   "cell_type": "markdown",
   "id": "18dcd2f0",
   "metadata": {},
   "source": [
    "## Experiment: Evaluating Model"
   ]
  },
  {
   "cell_type": "markdown",
   "id": "25f95b4e",
   "metadata": {},
   "source": [
    "#### Let's create a baseline group of all records and call it df_baseline. We'll also select the top 10,000 records based on the highest event propensity score and store those in a dataframe called df_top_leads:"
   ]
  },
  {
   "cell_type": "code",
   "execution_count": null,
   "id": "7407a646",
   "metadata": {},
   "outputs": [],
   "source": [
    "num_leads = int((len(df_scores) / 5))\n",
    "\n",
    "df_baseline = df_scores\n",
    "df_top_leads = df_scores.sort_values(by=[\"Score_1\"], ascending=False).iloc[0:num_leads]\n",
    "\n",
    "print(f\"NUMBER OF BASELINE SCORES: {len(df_baseline)}\")\n",
    "print(f\"NUMBER OF TOP LEADS SCORES: {len(df_top_leads)}\")"
   ]
  },
  {
   "cell_type": "markdown",
   "id": "c0ad467d",
   "metadata": {},
   "source": [
    "### Now let's create a session and connection to RedShift so we can query the purchases table:"
   ]
  },
  {
   "cell_type": "code",
   "execution_count": null,
   "id": "71f23f48",
   "metadata": {
    "tags": []
   },
   "outputs": [],
   "source": [
    "client = boto3.client('redshift')\n",
    "    \n",
    "conn = wr.data_api.redshift.connect(\n",
    "    cluster_id = CLUSTER,\n",
    "    database = DB_NAME.lower(),\n",
    "    db_user = \"admin\"\n",
    ")\n",
    "\n",
    "print(f\"CREDENTIALS RETRIEVED SUCCESSFULLY!\")"
   ]
  },
  {
   "cell_type": "markdown",
   "id": "73d6f58c",
   "metadata": {},
   "source": [
    "### Let's get the actual ticket purchases for a specificed event, and store it in a dataframe called df_target_game:"
   ]
  },
  {
   "cell_type": "code",
   "execution_count": null,
   "id": "d94f053c",
   "metadata": {},
   "outputs": [],
   "source": [
    "#event_name = \"20220329 - Colorado Avalanche\"\n",
    "#event_name = \"20220326 - Edmonton Oilers\"\n",
    "#event_name = \"20220325 - Arizona Coyotes\"\n",
    "event_name = \"20220322 - San Jose Sharks\"\n",
    "#event_name = \"20220318 - Buffalo Sabres\"\n",
    "\n",
    "\n",
    "sql_statement = f\"\"\"\n",
    "    SELECT *\n",
    "    FROM {DB_NAME.lower()}.dw.cohortpurchase\n",
    "    WHERE eventName = '{event_name}'\n",
    "    AND productgrouping = '{PRODUCT}';\n",
    "\"\"\"\n",
    "\n",
    "df_target_game = wr.data_api.redshift.read_sql_query(\n",
    "    sql = sql_statement, \n",
    "    con = conn\n",
    ")\n",
    "\n",
    "print(f\"NUMBER {PRODUCT} TICKETS SOLD: {len(df_target_game)}\")"
   ]
  },
  {
   "cell_type": "markdown",
   "id": "aa948c55",
   "metadata": {},
   "source": [
    "### Let's compare our baseline & top leads dataframes  against the actuals dataframe to see if any baseline or top leads purchased tickets for the specified event:"
   ]
  },
  {
   "cell_type": "code",
   "execution_count": null,
   "id": "8987c365",
   "metadata": {},
   "outputs": [],
   "source": [
    "df_target_game['dimCustomerMasterId'] = df_target_game['dimcustomermasterid']\n",
    "\n",
    "df_merged_baseline = pd.merge(df_baseline, df_target_game, on=['dimCustomerMasterId'], how='inner')\n",
    "df_merged_top_leads = pd.merge(df_top_leads, df_target_game, on=['dimCustomerMasterId'], how='inner')\n",
    "\n",
    "print(f\"NUMBER MATCHED BASELINE LEADS: {len(df_merged_baseline)} / {len(df_baseline)}\")\n",
    "print(f\"NUMBER MATCHED TOP LEADS: {len(df_merged_top_leads)} / {len(df_top_leads)}\")"
   ]
  },
  {
   "cell_type": "markdown",
   "id": "84d55cf8",
   "metadata": {},
   "source": [
    "### Now we can calculate some conversion percentages for both the baseline dataset and our top leads dataset and see if there was an increase in conversion by using the top leads:"
   ]
  },
  {
   "cell_type": "code",
   "execution_count": null,
   "id": "ba88641f",
   "metadata": {},
   "outputs": [],
   "source": [
    "baseline_conversion = (len(df_merged_baseline) / len(df_baseline))\n",
    "top_leads_conversion = (len(df_merged_top_leads) / len(df_top_leads))\n",
    "\n",
    "print(baseline_conversion * 100)\n",
    "print(top_leads_conversion * 100)\n",
    "\n",
    "#top_leads_increase = (top_leads_conversion / baseline_conversion)\n",
    "\n",
    "#print(f\"TOP LEADS CONVERTED AT {top_leads_increase} X\")"
   ]
  },
  {
   "cell_type": "markdown",
   "id": "67badddf",
   "metadata": {},
   "source": [
    "## Observations"
   ]
  },
  {
   "cell_type": "code",
   "execution_count": null,
   "id": "889b660c",
   "metadata": {},
   "outputs": [],
   "source": []
  }
 ],
 "metadata": {
  "kernelspec": {
   "display_name": "Python 3.8.5 ('stellar')",
   "language": "python",
   "name": "python3"
  },
  "language_info": {
   "codemirror_mode": {
    "name": "ipython",
    "version": 3
   },
   "file_extension": ".py",
   "mimetype": "text/x-python",
   "name": "python",
   "nbconvert_exporter": "python",
   "pygments_lexer": "ipython3",
   "version": "3.8.5"
  },
  "vscode": {
   "interpreter": {
    "hash": "89f48dadab51a6b5b48ffc1a9e043c21cefe67453637c3444f3b86917b8aad16"
   }
  }
 },
 "nbformat": 4,
 "nbformat_minor": 5
}
