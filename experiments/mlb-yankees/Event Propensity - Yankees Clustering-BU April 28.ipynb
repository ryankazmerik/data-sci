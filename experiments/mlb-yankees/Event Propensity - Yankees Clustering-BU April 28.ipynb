{
 "cells": [
  {
   "cell_type": "markdown",
   "id": "2620b496",
   "metadata": {},
   "source": [
    "# Event Propensity - Yankees Clustering\n",
    "* Customer Innovation & Impact\n",
    "* Jessie Niles\n",
    "* April 27, 2022"
   ]
  },
  {
   "cell_type": "code",
   "execution_count": 11,
   "id": "16e590dc",
   "metadata": {},
   "outputs": [],
   "source": [
    "import pandas as pd\n",
    "import matplotlib.pyplot as plt\n",
    "\n",
    "from pycaret.clustering import *\n",
    "from pycaret.classification import *"
   ]
  },
  {
   "cell_type": "markdown",
   "id": "80760b2a",
   "metadata": {},
   "source": [
    "## Hypothesis\n",
    "\n",
    "Fill in your hypothesis here or explain why you're running this experiment"
   ]
  },
  {
   "cell_type": "markdown",
   "id": "545034c2",
   "metadata": {},
   "source": [
    "## Experiment - Loading Model"
   ]
  },
  {
   "cell_type": "markdown",
   "id": "54dc2d9b",
   "metadata": {},
   "source": [
    "### Let's load in the v1 Event Propensity model from pycaret:"
   ]
  },
  {
   "cell_type": "code",
   "execution_count": 15,
   "id": "c84716e1",
   "metadata": {},
   "outputs": [
    {
     "name": "stdout",
     "output_type": "stream",
     "text": [
      "Transformation Pipeline and Model Successfully Loaded\n"
     ]
    }
   ],
   "source": [
    "ep_model = load_model(\"models/MLB Yankees - Event Propensity (22Feb2022)\")"
   ]
  },
  {
   "cell_type": "markdown",
   "id": "f05409a9",
   "metadata": {},
   "source": [
    "### Now that we have our model, let's load in a single Yankees game and get event propensity predictions for each fan:"
   ]
  },
  {
   "cell_type": "code",
   "execution_count": 17,
   "id": "75e00803",
   "metadata": {},
   "outputs": [],
   "source": [
    "df_inference = pd.read_parquet(\"inference\")"
   ]
  },
  {
   "cell_type": "code",
   "execution_count": 18,
   "id": "e14d944c",
   "metadata": {},
   "outputs": [
    {
     "data": {
      "text/plain": [
       "(7110804, 12)"
      ]
     },
     "execution_count": 18,
     "metadata": {},
     "output_type": "execute_result"
    }
   ],
   "source": [
    "df_inference = df_inference.fillna(value=0)\n",
    "df_inference.shape"
   ]
  },
  {
   "cell_type": "code",
   "execution_count": 19,
   "id": "f6ebc999",
   "metadata": {},
   "outputs": [
    {
     "name": "stdout",
     "output_type": "stream",
     "text": [
      "<class 'pandas.core.frame.DataFrame'>\n",
      "RangeIndex: 7110804 entries, 0 to 7110803\n",
      "Data columns (total 12 columns):\n",
      " #   Column               Dtype  \n",
      "---  ------               -----  \n",
      " 0   daysOut              object \n",
      " 1   eventDate            object \n",
      " 2   tenure               int64  \n",
      " 3   dimCustomerMasterId  int32  \n",
      " 4   events_purchased     float64\n",
      " 5   frequency_opponent   float64\n",
      " 6   frequency_eventDay   float64\n",
      " 7   frequency_eventTime  float64\n",
      " 8   inMarket             object \n",
      " 9   distanceToVenue      float64\n",
      " 10  recent_openRate      float64\n",
      " 11  recent_clickRate     float64\n",
      "dtypes: float64(7), int32(1), int64(1), object(3)\n",
      "memory usage: 623.9+ MB\n"
     ]
    }
   ],
   "source": [
    "df_inference.info()"
   ]
  },
  {
   "cell_type": "code",
   "execution_count": 20,
   "id": "a93faf4a",
   "metadata": {},
   "outputs": [
    {
     "data": {
      "text/html": [
       "<div>\n",
       "<style scoped>\n",
       "    .dataframe tbody tr th:only-of-type {\n",
       "        vertical-align: middle;\n",
       "    }\n",
       "\n",
       "    .dataframe tbody tr th {\n",
       "        vertical-align: top;\n",
       "    }\n",
       "\n",
       "    .dataframe thead th {\n",
       "        text-align: right;\n",
       "    }\n",
       "</style>\n",
       "<table border=\"1\" class=\"dataframe\">\n",
       "  <thead>\n",
       "    <tr style=\"text-align: right;\">\n",
       "      <th></th>\n",
       "      <th>daysOut</th>\n",
       "      <th>eventDate</th>\n",
       "      <th>tenure</th>\n",
       "      <th>dimCustomerMasterId</th>\n",
       "      <th>events_purchased</th>\n",
       "      <th>frequency_opponent</th>\n",
       "      <th>frequency_eventDay</th>\n",
       "      <th>frequency_eventTime</th>\n",
       "      <th>inMarket</th>\n",
       "      <th>distanceToVenue</th>\n",
       "      <th>recent_openRate</th>\n",
       "      <th>recent_clickRate</th>\n",
       "    </tr>\n",
       "  </thead>\n",
       "  <tbody>\n",
       "    <tr>\n",
       "      <th>0</th>\n",
       "      <td>Day Of</td>\n",
       "      <td>2022-05-23</td>\n",
       "      <td>1394</td>\n",
       "      <td>496035</td>\n",
       "      <td>1.0</td>\n",
       "      <td>0.0</td>\n",
       "      <td>0.0</td>\n",
       "      <td>1.0</td>\n",
       "      <td>False</td>\n",
       "      <td>236.03</td>\n",
       "      <td>0.0</td>\n",
       "      <td>0.0</td>\n",
       "    </tr>\n",
       "    <tr>\n",
       "      <th>1</th>\n",
       "      <td>1 to 3 Days Out</td>\n",
       "      <td>2022-05-23</td>\n",
       "      <td>1394</td>\n",
       "      <td>496035</td>\n",
       "      <td>1.0</td>\n",
       "      <td>0.0</td>\n",
       "      <td>0.0</td>\n",
       "      <td>1.0</td>\n",
       "      <td>False</td>\n",
       "      <td>236.03</td>\n",
       "      <td>0.0</td>\n",
       "      <td>0.0</td>\n",
       "    </tr>\n",
       "    <tr>\n",
       "      <th>2</th>\n",
       "      <td>4 to 7 Days Out</td>\n",
       "      <td>2022-05-23</td>\n",
       "      <td>1394</td>\n",
       "      <td>496035</td>\n",
       "      <td>1.0</td>\n",
       "      <td>0.0</td>\n",
       "      <td>0.0</td>\n",
       "      <td>1.0</td>\n",
       "      <td>False</td>\n",
       "      <td>236.03</td>\n",
       "      <td>0.0</td>\n",
       "      <td>0.0</td>\n",
       "    </tr>\n",
       "    <tr>\n",
       "      <th>3</th>\n",
       "      <td>Over a Week</td>\n",
       "      <td>2022-05-23</td>\n",
       "      <td>1394</td>\n",
       "      <td>496035</td>\n",
       "      <td>1.0</td>\n",
       "      <td>0.0</td>\n",
       "      <td>0.0</td>\n",
       "      <td>1.0</td>\n",
       "      <td>False</td>\n",
       "      <td>236.03</td>\n",
       "      <td>0.0</td>\n",
       "      <td>0.0</td>\n",
       "    </tr>\n",
       "    <tr>\n",
       "      <th>4</th>\n",
       "      <td>Day Of</td>\n",
       "      <td>2022-05-23</td>\n",
       "      <td>306</td>\n",
       "      <td>2637032</td>\n",
       "      <td>1.0</td>\n",
       "      <td>0.0</td>\n",
       "      <td>0.0</td>\n",
       "      <td>1.0</td>\n",
       "      <td>True</td>\n",
       "      <td>28.64</td>\n",
       "      <td>0.0</td>\n",
       "      <td>0.0</td>\n",
       "    </tr>\n",
       "  </tbody>\n",
       "</table>\n",
       "</div>"
      ],
      "text/plain": [
       "           daysOut   eventDate  tenure  dimCustomerMasterId  events_purchased  \\\n",
       "0           Day Of  2022-05-23    1394               496035               1.0   \n",
       "1  1 to 3 Days Out  2022-05-23    1394               496035               1.0   \n",
       "2  4 to 7 Days Out  2022-05-23    1394               496035               1.0   \n",
       "3      Over a Week  2022-05-23    1394               496035               1.0   \n",
       "4           Day Of  2022-05-23     306              2637032               1.0   \n",
       "\n",
       "   frequency_opponent  frequency_eventDay  frequency_eventTime inMarket  \\\n",
       "0                 0.0                 0.0                  1.0    False   \n",
       "1                 0.0                 0.0                  1.0    False   \n",
       "2                 0.0                 0.0                  1.0    False   \n",
       "3                 0.0                 0.0                  1.0    False   \n",
       "4                 0.0                 0.0                  1.0     True   \n",
       "\n",
       "   distanceToVenue  recent_openRate  recent_clickRate  \n",
       "0           236.03              0.0               0.0  \n",
       "1           236.03              0.0               0.0  \n",
       "2           236.03              0.0               0.0  \n",
       "3           236.03              0.0               0.0  \n",
       "4            28.64              0.0               0.0  "
      ]
     },
     "execution_count": 20,
     "metadata": {},
     "output_type": "execute_result"
    }
   ],
   "source": [
    "df_inference.head()"
   ]
  },
  {
   "cell_type": "markdown",
   "id": "cf8fbdae",
   "metadata": {},
   "source": [
    "### Let's sample 10000 records for prediction as a first test:"
   ]
  },
  {
   "cell_type": "code",
   "execution_count": 21,
   "id": "cb26e2cf",
   "metadata": {},
   "outputs": [
    {
     "data": {
      "text/plain": [
       "(10000, 12)"
      ]
     },
     "execution_count": 21,
     "metadata": {},
     "output_type": "execute_result"
    }
   ],
   "source": [
    "df_inference_10000 = df_inference.sample(10000)\n",
    "df_inference_10000.shape"
   ]
  },
  {
   "cell_type": "markdown",
   "id": "fe91bd6f",
   "metadata": {},
   "source": [
    "### Let's run this sample dataset through our model to get predictions:"
   ]
  },
  {
   "cell_type": "code",
   "execution_count": 23,
   "id": "18084b84",
   "metadata": {},
   "outputs": [
    {
     "data": {
      "text/html": [
       "<div>\n",
       "<style scoped>\n",
       "    .dataframe tbody tr th:only-of-type {\n",
       "        vertical-align: middle;\n",
       "    }\n",
       "\n",
       "    .dataframe tbody tr th {\n",
       "        vertical-align: top;\n",
       "    }\n",
       "\n",
       "    .dataframe thead th {\n",
       "        text-align: right;\n",
       "    }\n",
       "</style>\n",
       "<table border=\"1\" class=\"dataframe\">\n",
       "  <thead>\n",
       "    <tr style=\"text-align: right;\">\n",
       "      <th></th>\n",
       "      <th>daysOut</th>\n",
       "      <th>eventDate</th>\n",
       "      <th>tenure</th>\n",
       "      <th>dimCustomerMasterId</th>\n",
       "      <th>events_purchased</th>\n",
       "      <th>frequency_opponent</th>\n",
       "      <th>frequency_eventDay</th>\n",
       "      <th>frequency_eventTime</th>\n",
       "      <th>inMarket</th>\n",
       "      <th>distanceToVenue</th>\n",
       "      <th>recent_openRate</th>\n",
       "      <th>recent_clickRate</th>\n",
       "      <th>Label</th>\n",
       "      <th>Score_0</th>\n",
       "      <th>Score_1</th>\n",
       "    </tr>\n",
       "  </thead>\n",
       "  <tbody>\n",
       "    <tr>\n",
       "      <th>2710664</th>\n",
       "      <td>Day Of</td>\n",
       "      <td>2022-05-24</td>\n",
       "      <td>1775</td>\n",
       "      <td>1299806</td>\n",
       "      <td>1.0</td>\n",
       "      <td>0.0</td>\n",
       "      <td>0.0</td>\n",
       "      <td>1.0</td>\n",
       "      <td>True</td>\n",
       "      <td>9.75</td>\n",
       "      <td>0.0</td>\n",
       "      <td>0.0</td>\n",
       "      <td>0</td>\n",
       "      <td>0.8499</td>\n",
       "      <td>0.1501</td>\n",
       "    </tr>\n",
       "    <tr>\n",
       "      <th>2066502</th>\n",
       "      <td>4 to 7 Days Out</td>\n",
       "      <td>2022-05-23</td>\n",
       "      <td>1475</td>\n",
       "      <td>2382443</td>\n",
       "      <td>1.0</td>\n",
       "      <td>0.0</td>\n",
       "      <td>0.0</td>\n",
       "      <td>0.0</td>\n",
       "      <td>False</td>\n",
       "      <td>561.26</td>\n",
       "      <td>0.0</td>\n",
       "      <td>0.0</td>\n",
       "      <td>0</td>\n",
       "      <td>0.9986</td>\n",
       "      <td>0.0014</td>\n",
       "    </tr>\n",
       "    <tr>\n",
       "      <th>5629647</th>\n",
       "      <td>Over a Week</td>\n",
       "      <td>2022-05-25</td>\n",
       "      <td>1766</td>\n",
       "      <td>477581</td>\n",
       "      <td>1.0</td>\n",
       "      <td>0.0</td>\n",
       "      <td>0.0</td>\n",
       "      <td>1.0</td>\n",
       "      <td>False</td>\n",
       "      <td>1679.70</td>\n",
       "      <td>0.0</td>\n",
       "      <td>0.0</td>\n",
       "      <td>0</td>\n",
       "      <td>0.7767</td>\n",
       "      <td>0.2233</td>\n",
       "    </tr>\n",
       "    <tr>\n",
       "      <th>3042682</th>\n",
       "      <td>4 to 7 Days Out</td>\n",
       "      <td>2022-05-24</td>\n",
       "      <td>569</td>\n",
       "      <td>1667120</td>\n",
       "      <td>1.0</td>\n",
       "      <td>0.0</td>\n",
       "      <td>1.0</td>\n",
       "      <td>1.0</td>\n",
       "      <td>False</td>\n",
       "      <td>0.00</td>\n",
       "      <td>0.0</td>\n",
       "      <td>0.0</td>\n",
       "      <td>1</td>\n",
       "      <td>0.0024</td>\n",
       "      <td>0.9976</td>\n",
       "    </tr>\n",
       "    <tr>\n",
       "      <th>1623563</th>\n",
       "      <td>Over a Week</td>\n",
       "      <td>2022-05-23</td>\n",
       "      <td>1787</td>\n",
       "      <td>1938892</td>\n",
       "      <td>1.0</td>\n",
       "      <td>0.0</td>\n",
       "      <td>0.0</td>\n",
       "      <td>1.0</td>\n",
       "      <td>False</td>\n",
       "      <td>2991.24</td>\n",
       "      <td>0.0</td>\n",
       "      <td>0.0</td>\n",
       "      <td>0</td>\n",
       "      <td>0.8095</td>\n",
       "      <td>0.1905</td>\n",
       "    </tr>\n",
       "  </tbody>\n",
       "</table>\n",
       "</div>"
      ],
      "text/plain": [
       "                 daysOut   eventDate  tenure  dimCustomerMasterId  \\\n",
       "2710664           Day Of  2022-05-24    1775              1299806   \n",
       "2066502  4 to 7 Days Out  2022-05-23    1475              2382443   \n",
       "5629647      Over a Week  2022-05-25    1766               477581   \n",
       "3042682  4 to 7 Days Out  2022-05-24     569              1667120   \n",
       "1623563      Over a Week  2022-05-23    1787              1938892   \n",
       "\n",
       "         events_purchased  frequency_opponent  frequency_eventDay  \\\n",
       "2710664               1.0                 0.0                 0.0   \n",
       "2066502               1.0                 0.0                 0.0   \n",
       "5629647               1.0                 0.0                 0.0   \n",
       "3042682               1.0                 0.0                 1.0   \n",
       "1623563               1.0                 0.0                 0.0   \n",
       "\n",
       "         frequency_eventTime inMarket  distanceToVenue  recent_openRate  \\\n",
       "2710664                  1.0     True             9.75              0.0   \n",
       "2066502                  0.0    False           561.26              0.0   \n",
       "5629647                  1.0    False          1679.70              0.0   \n",
       "3042682                  1.0    False             0.00              0.0   \n",
       "1623563                  1.0    False          2991.24              0.0   \n",
       "\n",
       "         recent_clickRate  Label  Score_0  Score_1  \n",
       "2710664               0.0      0   0.8499   0.1501  \n",
       "2066502               0.0      0   0.9986   0.0014  \n",
       "5629647               0.0      0   0.7767   0.2233  \n",
       "3042682               0.0      1   0.0024   0.9976  \n",
       "1623563               0.0      0   0.8095   0.1905  "
      ]
     },
     "execution_count": 23,
     "metadata": {},
     "output_type": "execute_result"
    }
   ],
   "source": [
    "df_predictions = predict_model(ep_model, data=df_inference_10000, raw_score=True)\n",
    "df_predictions.head()"
   ]
  },
  {
   "cell_type": "code",
   "execution_count": 24,
   "id": "d1049298",
   "metadata": {},
   "outputs": [
    {
     "data": {
      "text/plain": [
       "0    5655\n",
       "1    4345\n",
       "Name: Label, dtype: int64"
      ]
     },
     "execution_count": 24,
     "metadata": {},
     "output_type": "execute_result"
    }
   ],
   "source": [
    "df_predictions.Label.value_counts()"
   ]
  },
  {
   "cell_type": "code",
   "execution_count": null,
   "id": "087ef99e",
   "metadata": {},
   "outputs": [],
   "source": [
    "df_predictions = predict_model(ep_model, data=df_inference, raw_score=True)"
   ]
  },
  {
   "cell_type": "code",
   "execution_count": 30,
   "id": "d46aea85",
   "metadata": {},
   "outputs": [
    {
     "data": {
      "text/plain": [
       "0    4046671\n",
       "1    3064133\n",
       "Name: Label, dtype: int64"
      ]
     },
     "execution_count": 30,
     "metadata": {},
     "output_type": "execute_result"
    }
   ],
   "source": [
    "df_predictions.Label.value_counts()"
   ]
  },
  {
   "cell_type": "code",
   "execution_count": 34,
   "id": "a95fb4f9",
   "metadata": {},
   "outputs": [],
   "source": [
    "df_buyers = df_predictions[df_predictions.Label == 1]"
   ]
  },
  {
   "cell_type": "code",
   "execution_count": 35,
   "id": "b98f2759",
   "metadata": {},
   "outputs": [
    {
     "data": {
      "image/png": "[encoded data removed]",
      "text/plain": [
       "<Figure size 576x396 with 1 Axes>"
      ]
     },
     "metadata": {},
     "output_type": "display_data"
    }
   ],
   "source": [
    "plt.title(\"Event Propensity Scores (All Individual Buyers)\")\n",
    "plt.ylabel(\"Num Fans\")\n",
    "plt.xlabel(\"Event Propensity Score\")\n",
    "plt.hist(df_buyers[\"Score_1\"], bins=20, edgecolor=\"black\", range=(0,1))\n",
    "\n",
    "plt.show()"
   ]
  },
  {
   "cell_type": "code",
   "execution_count": null,
   "id": "bcea20b7",
   "metadata": {},
   "outputs": [],
   "source": []
  }
 ],
 "metadata": {
  "kernelspec": {
   "display_name": "conda_python3",
   "language": "python",
   "name": "conda_python3"
  },
  "language_info": {
   "codemirror_mode": {
    "name": "ipython",
    "version": 3
   },
   "file_extension": ".py",
   "mimetype": "text/x-python",
   "name": "python",
   "nbconvert_exporter": "python",
   "pygments_lexer": "ipython3",
   "version": "3.6.13"
  }
 },
 "nbformat": 4,
 "nbformat_minor": 5
}
