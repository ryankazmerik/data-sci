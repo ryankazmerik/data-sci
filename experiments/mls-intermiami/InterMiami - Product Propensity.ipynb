{
 "cells": [
  {
   "cell_type": "markdown",
   "id": "100604b5",
   "metadata": {},
   "source": [
    "# Product Propensity Scoring\n",
    "* StelllarAlgo Data Science\n",
    "* Ryan Kazmerik, Nakisa Rad, Joey Lai\n",
    "* Jul 6, 2022"
   ]
  },
  {
   "cell_type": "code",
   "execution_count": 1,
   "id": "b105b4d9",
   "metadata": {},
   "outputs": [],
   "source": [
    "import boto3\n",
    "import getpass\n",
    "import pyodbc\n",
    "import pandas as pd\n",
    "import matplotlib.pyplot as plt\n",
    "\n",
    "from datetime import datetime\n",
    "from pycaret.classification import *"
   ]
  },
  {
   "cell_type": "code",
   "execution_count": 2,
   "id": "aa61c05a",
   "metadata": {},
   "outputs": [
    {
     "name": "stdout",
     "output_type": "stream",
     "text": [
      "Attempting to automatically open the SSO authorization page in your default browser.\n",
      "If the browser does not open or you wish to use a different device to authorize this request, open the following URL:\n",
      "\n",
      "https://device.sso.us-east-1.amazonaws.com/\n",
      "\n",
      "Then enter the code:\n",
      "\n",
      "BBNS-TVRL\n",
      "Successfully logged into Start URL: https://stellaralgo.awsapps.com/start#/\n"
     ]
    }
   ],
   "source": [
    "if not boto3.DEFAULT_SESSION:\n",
    "    ! aws sso login --profile US-StellarSupport\n",
    "    session = boto3.setup_default_session(profile_name='US-StellarSupport')"
   ]
  },
  {
   "cell_type": "code",
   "execution_count": 3,
   "id": "35747e0a-f210-4fdb-b050-3017fa29fe59",
   "metadata": {},
   "outputs": [],
   "source": [
    "# connect to SQL Server.\n",
    "SERVER = '34.206.73.189' \n",
    "DATABASE = 'datascience' \n",
    "USERNAME = 'dsAdminWrite' \n",
    "PASSWORD = getpass.getpass(prompt='Enter your password')\n",
    "CNXN = pyodbc.connect('DRIVER={ODBC Driver 17 for SQL Server};SERVER='+SERVER+';DATABASE='+DATABASE+';UID='+USERNAME+';PWD='+ PASSWORD)"
   ]
  },
  {
   "cell_type": "code",
   "execution_count": 4,
   "id": "0ee73a7b-82d1-44da-b551-dcafadacae17",
   "metadata": {},
   "outputs": [
    {
     "data": {
      "text/plain": [
       "(37705, 13)"
      ]
     },
     "execution_count": 4,
     "metadata": {},
     "output_type": "execute_result"
    }
   ],
   "source": [
    "cursor = CNXN.cursor()\n",
    "\n",
    "storedProc = (\n",
    "    f\"\"\"Exec [mlsInterMiami].[ds].[getProductPropensityModelData] 113\"\"\"\n",
    ")\n",
    "\n",
    "df = pd.read_sql(storedProc, CNXN)\n",
    "\n",
    "# apply some data transformations\n",
    "df[\"seasonYear\"] = pd.to_numeric(df[\"seasonYear\"])\n",
    "\n",
    "CNXN.commit()\n",
    "cursor.close()\n",
    "\n",
    "df.shape"
   ]
  },
  {
   "cell_type": "code",
   "execution_count": 5,
   "id": "59dd39bc",
   "metadata": {},
   "outputs": [
    {
     "name": "stdout",
     "output_type": "stream",
     "text": [
      "<class 'pandas.core.frame.DataFrame'>\n",
      "RangeIndex: 37705 entries, 0 to 37704\n",
      "Data columns (total 13 columns):\n",
      " #   Column               Non-Null Count  Dtype  \n",
      "---  ------               --------------  -----  \n",
      " 0   dimCustomerMasterId  37705 non-null  int64  \n",
      " 1   email                34427 non-null  object \n",
      " 2   ticketingid          37705 non-null  object \n",
      " 3   distance             37705 non-null  float64\n",
      " 4   seasonYear           37705 non-null  int64  \n",
      " 5   events_prior         37705 non-null  int64  \n",
      " 6   attended_prior       37705 non-null  int64  \n",
      " 7   events_last          37705 non-null  int64  \n",
      " 8   attended_last        37705 non-null  int64  \n",
      " 9   tenure               37705 non-null  int64  \n",
      " 10  atp_last             37705 non-null  float64\n",
      " 11  product_current      37705 non-null  object \n",
      " 12  product_last         37705 non-null  object \n",
      "dtypes: float64(2), int64(7), object(4)\n",
      "memory usage: 3.7+ MB\n"
     ]
    }
   ],
   "source": [
    "df.info()"
   ]
  },
  {
   "cell_type": "code",
   "execution_count": 6,
   "id": "61e49b3b",
   "metadata": {},
   "outputs": [
    {
     "data": {
      "text/html": [
       "<div>\n",
       "<style scoped>\n",
       "    .dataframe tbody tr th:only-of-type {\n",
       "        vertical-align: middle;\n",
       "    }\n",
       "\n",
       "    .dataframe tbody tr th {\n",
       "        vertical-align: top;\n",
       "    }\n",
       "\n",
       "    .dataframe thead th {\n",
       "        text-align: right;\n",
       "    }\n",
       "</style>\n",
       "<table border=\"1\" class=\"dataframe\">\n",
       "  <thead>\n",
       "    <tr style=\"text-align: right;\">\n",
       "      <th></th>\n",
       "      <th>dimCustomerMasterId</th>\n",
       "      <th>email</th>\n",
       "      <th>ticketingid</th>\n",
       "      <th>distance</th>\n",
       "      <th>seasonYear</th>\n",
       "      <th>events_prior</th>\n",
       "      <th>attended_prior</th>\n",
       "      <th>events_last</th>\n",
       "      <th>attended_last</th>\n",
       "      <th>tenure</th>\n",
       "      <th>atp_last</th>\n",
       "      <th>product_current</th>\n",
       "      <th>product_last</th>\n",
       "    </tr>\n",
       "  </thead>\n",
       "  <tbody>\n",
       "    <tr>\n",
       "      <th>0</th>\n",
       "      <td>20</td>\n",
       "      <td>0160495@gmail.com</td>\n",
       "      <td>1129223</td>\n",
       "      <td>62.69</td>\n",
       "      <td>2023</td>\n",
       "      <td>1</td>\n",
       "      <td>0</td>\n",
       "      <td>1</td>\n",
       "      <td>0</td>\n",
       "      <td>0</td>\n",
       "      <td>33.00</td>\n",
       "      <td>None</td>\n",
       "      <td>Individual</td>\n",
       "    </tr>\n",
       "    <tr>\n",
       "      <th>1</th>\n",
       "      <td>22</td>\n",
       "      <td>01juliop@gmail.com</td>\n",
       "      <td>691152</td>\n",
       "      <td>4149.97</td>\n",
       "      <td>2023</td>\n",
       "      <td>1</td>\n",
       "      <td>0</td>\n",
       "      <td>1</td>\n",
       "      <td>0</td>\n",
       "      <td>0</td>\n",
       "      <td>20.00</td>\n",
       "      <td>None</td>\n",
       "      <td>Individual</td>\n",
       "    </tr>\n",
       "    <tr>\n",
       "      <th>2</th>\n",
       "      <td>23</td>\n",
       "      <td>01rodeo01@gmail.com</td>\n",
       "      <td>153794</td>\n",
       "      <td>25.94</td>\n",
       "      <td>2021</td>\n",
       "      <td>13</td>\n",
       "      <td>13</td>\n",
       "      <td>13</td>\n",
       "      <td>13</td>\n",
       "      <td>0</td>\n",
       "      <td>0.00</td>\n",
       "      <td>Full Season</td>\n",
       "      <td>None</td>\n",
       "    </tr>\n",
       "    <tr>\n",
       "      <th>3</th>\n",
       "      <td>23</td>\n",
       "      <td>01rodeo01@gmail.com</td>\n",
       "      <td>153794</td>\n",
       "      <td>25.94</td>\n",
       "      <td>2022</td>\n",
       "      <td>30</td>\n",
       "      <td>30</td>\n",
       "      <td>17</td>\n",
       "      <td>17</td>\n",
       "      <td>1</td>\n",
       "      <td>53.53</td>\n",
       "      <td>None</td>\n",
       "      <td>Full Season</td>\n",
       "    </tr>\n",
       "    <tr>\n",
       "      <th>4</th>\n",
       "      <td>23</td>\n",
       "      <td>01rodeo01@gmail.com</td>\n",
       "      <td>153794</td>\n",
       "      <td>25.94</td>\n",
       "      <td>2023</td>\n",
       "      <td>31</td>\n",
       "      <td>31</td>\n",
       "      <td>1</td>\n",
       "      <td>1</td>\n",
       "      <td>2</td>\n",
       "      <td>0.00</td>\n",
       "      <td>None</td>\n",
       "      <td>None</td>\n",
       "    </tr>\n",
       "  </tbody>\n",
       "</table>\n",
       "</div>"
      ],
      "text/plain": [
       "   dimCustomerMasterId                email ticketingid  distance  seasonYear  \\\n",
       "0                   20    0160495@gmail.com     1129223     62.69        2023   \n",
       "1                   22   01juliop@gmail.com      691152   4149.97        2023   \n",
       "2                   23  01rodeo01@gmail.com      153794     25.94        2021   \n",
       "3                   23  01rodeo01@gmail.com      153794     25.94        2022   \n",
       "4                   23  01rodeo01@gmail.com      153794     25.94        2023   \n",
       "\n",
       "   events_prior  attended_prior  events_last  attended_last  tenure  atp_last  \\\n",
       "0             1               0            1              0       0     33.00   \n",
       "1             1               0            1              0       0     20.00   \n",
       "2            13              13           13             13       0      0.00   \n",
       "3            30              30           17             17       1     53.53   \n",
       "4            31              31            1              1       2      0.00   \n",
       "\n",
       "  product_current product_last  \n",
       "0            None   Individual  \n",
       "1            None   Individual  \n",
       "2     Full Season         None  \n",
       "3            None  Full Season  \n",
       "4            None         None  "
      ]
     },
     "execution_count": 6,
     "metadata": {},
     "output_type": "execute_result"
    }
   ],
   "source": [
    "df.head()"
   ]
  },
  {
   "cell_type": "markdown",
   "id": "9a8d012d",
   "metadata": {},
   "source": [
    "### Let's specify the features we would like to use to train our model:"
   ]
  },
  {
   "cell_type": "code",
   "execution_count": 7,
   "id": "bfc8cb94",
   "metadata": {},
   "outputs": [
    {
     "name": "stdout",
     "output_type": "stream",
     "text": [
      "Data for Modeling: (32049, 13)\n",
      "Unseen Data For Predictions: (5656, 13)\n",
      "\n"
     ]
    }
   ],
   "source": [
    "# copy your main dataframe\n",
    "df_dataset = df\n",
    "\n",
    "df_train = df_dataset.sample(frac=0.85, random_state=786)\n",
    "df_eval = df_dataset.drop(df_train.index)\n",
    "\n",
    "df_train.reset_index(drop=True, inplace=True)\n",
    "df_eval.reset_index(drop=True, inplace=True)\n",
    "\n",
    "# print out the number of records for training and eval\n",
    "print('Data for Modeling: ' + str(df_train.shape))\n",
    "print('Unseen Data For Predictions: ' + str(df_eval.shape), end=\"\\n\\n\")"
   ]
  },
  {
   "cell_type": "markdown",
   "id": "4fa7e14c",
   "metadata": {},
   "source": [
    "## Step 2: Create Model"
   ]
  },
  {
   "cell_type": "markdown",
   "id": "7119b9ea",
   "metadata": {},
   "source": [
    "### Now we can model the data using a multiclass classifier to predict probabilities that a fan will purchase each product offered by the team:"
   ]
  },
  {
   "cell_type": "code",
   "execution_count": 8,
   "id": "47e820af",
   "metadata": {},
   "outputs": [],
   "source": [
    "setup(\n",
    "    data= df_train, \n",
    "    target=\"product_current\", \n",
    "    train_size = 0.85,\n",
    "    data_split_shuffle=True,\n",
    "    silent=True,\n",
    "    verbose=False,\n",
    "    ignore_features=[\n",
    "        \"dimCustomerMasterId\",\n",
    "        \"email\",\n",
    "        \"seasonYear\",\n",
    "        \"ticketingid\"\n",
    "    ],\n",
    "    numeric_features=[\n",
    "        \"atp_last\",\n",
    "        \"attended_last\",\n",
    "        \"attended_prior\",\n",
    "        \"events_last\",\n",
    "        \"events_prior\",\n",
    "        \"distance\",\n",
    "        \"tenure\" \n",
    "    ]\n",
    ");"
   ]
  },
  {
   "cell_type": "markdown",
   "id": "46a3c743",
   "metadata": {},
   "source": [
    "### The evaluation output prints a score grid that shows average Accuracy, AUC, Recall, Precision, F1 and Kappa accross the folds (10 by default) along with training time:"
   ]
  },
  {
   "cell_type": "code",
   "execution_count": 9,
   "id": "a6fa0a55",
   "metadata": {},
   "outputs": [
    {
     "data": {
      "text/html": [
       "<style type=\"text/css\">\n",
       "#T_d31d3 th {\n",
       "  text-align: left;\n",
       "}\n",
       "#T_d31d3_row0_col0 {\n",
       "  text-align: left;\n",
       "}\n",
       "#T_d31d3_row0_col1, #T_d31d3_row0_col2, #T_d31d3_row0_col3, #T_d31d3_row0_col4, #T_d31d3_row0_col5, #T_d31d3_row0_col6, #T_d31d3_row0_col7 {\n",
       "  text-align: left;\n",
       "  background-color: yellow;\n",
       "}\n",
       "#T_d31d3_row0_col8 {\n",
       "  text-align: left;\n",
       "  background-color: yellow;\n",
       "  background-color: lightgrey;\n",
       "}\n",
       "</style>\n",
       "<table id=\"T_d31d3\">\n",
       "  <thead>\n",
       "    <tr>\n",
       "      <th class=\"blank level0\" >&nbsp;</th>\n",
       "      <th id=\"T_d31d3_level0_col0\" class=\"col_heading level0 col0\" >Model</th>\n",
       "      <th id=\"T_d31d3_level0_col1\" class=\"col_heading level0 col1\" >Accuracy</th>\n",
       "      <th id=\"T_d31d3_level0_col2\" class=\"col_heading level0 col2\" >AUC</th>\n",
       "      <th id=\"T_d31d3_level0_col3\" class=\"col_heading level0 col3\" >Recall</th>\n",
       "      <th id=\"T_d31d3_level0_col4\" class=\"col_heading level0 col4\" >Prec.</th>\n",
       "      <th id=\"T_d31d3_level0_col5\" class=\"col_heading level0 col5\" >F1</th>\n",
       "      <th id=\"T_d31d3_level0_col6\" class=\"col_heading level0 col6\" >Kappa</th>\n",
       "      <th id=\"T_d31d3_level0_col7\" class=\"col_heading level0 col7\" >MCC</th>\n",
       "      <th id=\"T_d31d3_level0_col8\" class=\"col_heading level0 col8\" >TT (Sec)</th>\n",
       "    </tr>\n",
       "  </thead>\n",
       "  <tbody>\n",
       "    <tr>\n",
       "      <th id=\"T_d31d3_level0_row0\" class=\"row_heading level0 row0\" >rf</th>\n",
       "      <td id=\"T_d31d3_row0_col0\" class=\"data row0 col0\" >Random Forest Classifier</td>\n",
       "      <td id=\"T_d31d3_row0_col1\" class=\"data row0 col1\" >0.9029</td>\n",
       "      <td id=\"T_d31d3_row0_col2\" class=\"data row0 col2\" >0.9390</td>\n",
       "      <td id=\"T_d31d3_row0_col3\" class=\"data row0 col3\" >0.4255</td>\n",
       "      <td id=\"T_d31d3_row0_col4\" class=\"data row0 col4\" >0.9016</td>\n",
       "      <td id=\"T_d31d3_row0_col5\" class=\"data row0 col5\" >0.9017</td>\n",
       "      <td id=\"T_d31d3_row0_col6\" class=\"data row0 col6\" >0.6646</td>\n",
       "      <td id=\"T_d31d3_row0_col7\" class=\"data row0 col7\" >0.6650</td>\n",
       "      <td id=\"T_d31d3_row0_col8\" class=\"data row0 col8\" >1.4220</td>\n",
       "    </tr>\n",
       "  </tbody>\n",
       "</table>\n"
      ],
      "text/plain": [
       "<pandas.io.formats.style.Styler at 0x7fed300e3be0>"
      ]
     },
     "metadata": {},
     "output_type": "display_data"
    }
   ],
   "source": [
    "model_matrix = compare_models(\n",
    "    fold= 10,\n",
    "    include= [\"rf\"]\n",
    ")"
   ]
  },
  {
   "cell_type": "markdown",
   "id": "83deb5d1",
   "metadata": {},
   "source": [
    "### Let's grab the model and finalize it over 10-fold validation:"
   ]
  },
  {
   "cell_type": "code",
   "execution_count": 10,
   "id": "3d0bcabf",
   "metadata": {},
   "outputs": [
    {
     "data": {
      "text/html": [
       "<style type=\"text/css\">\n",
       "#T_ffaff_row10_col0, #T_ffaff_row10_col1, #T_ffaff_row10_col2, #T_ffaff_row10_col3, #T_ffaff_row10_col4, #T_ffaff_row10_col5, #T_ffaff_row10_col6 {\n",
       "  background: yellow;\n",
       "}\n",
       "</style>\n",
       "<table id=\"T_ffaff\">\n",
       "  <thead>\n",
       "    <tr>\n",
       "      <th class=\"blank level0\" >&nbsp;</th>\n",
       "      <th id=\"T_ffaff_level0_col0\" class=\"col_heading level0 col0\" >Accuracy</th>\n",
       "      <th id=\"T_ffaff_level0_col1\" class=\"col_heading level0 col1\" >AUC</th>\n",
       "      <th id=\"T_ffaff_level0_col2\" class=\"col_heading level0 col2\" >Recall</th>\n",
       "      <th id=\"T_ffaff_level0_col3\" class=\"col_heading level0 col3\" >Prec.</th>\n",
       "      <th id=\"T_ffaff_level0_col4\" class=\"col_heading level0 col4\" >F1</th>\n",
       "      <th id=\"T_ffaff_level0_col5\" class=\"col_heading level0 col5\" >Kappa</th>\n",
       "      <th id=\"T_ffaff_level0_col6\" class=\"col_heading level0 col6\" >MCC</th>\n",
       "    </tr>\n",
       "    <tr>\n",
       "      <th class=\"index_name level0\" >Fold</th>\n",
       "      <th class=\"blank col0\" >&nbsp;</th>\n",
       "      <th class=\"blank col1\" >&nbsp;</th>\n",
       "      <th class=\"blank col2\" >&nbsp;</th>\n",
       "      <th class=\"blank col3\" >&nbsp;</th>\n",
       "      <th class=\"blank col4\" >&nbsp;</th>\n",
       "      <th class=\"blank col5\" >&nbsp;</th>\n",
       "      <th class=\"blank col6\" >&nbsp;</th>\n",
       "    </tr>\n",
       "  </thead>\n",
       "  <tbody>\n",
       "    <tr>\n",
       "      <th id=\"T_ffaff_level0_row0\" class=\"row_heading level0 row0\" >0</th>\n",
       "      <td id=\"T_ffaff_row0_col0\" class=\"data row0 col0\" >0.8888</td>\n",
       "      <td id=\"T_ffaff_row0_col1\" class=\"data row0 col1\" >0.9312</td>\n",
       "      <td id=\"T_ffaff_row0_col2\" class=\"data row0 col2\" >0.4061</td>\n",
       "      <td id=\"T_ffaff_row0_col3\" class=\"data row0 col3\" >0.8889</td>\n",
       "      <td id=\"T_ffaff_row0_col4\" class=\"data row0 col4\" >0.8886</td>\n",
       "      <td id=\"T_ffaff_row0_col5\" class=\"data row0 col5\" >0.6194</td>\n",
       "      <td id=\"T_ffaff_row0_col6\" class=\"data row0 col6\" >0.6196</td>\n",
       "    </tr>\n",
       "    <tr>\n",
       "      <th id=\"T_ffaff_level0_row1\" class=\"row_heading level0 row1\" >1</th>\n",
       "      <td id=\"T_ffaff_row1_col0\" class=\"data row1 col0\" >0.9115</td>\n",
       "      <td id=\"T_ffaff_row1_col1\" class=\"data row1 col1\" >0.9356</td>\n",
       "      <td id=\"T_ffaff_row1_col2\" class=\"data row1 col2\" >0.4358</td>\n",
       "      <td id=\"T_ffaff_row1_col3\" class=\"data row1 col3\" >0.9092</td>\n",
       "      <td id=\"T_ffaff_row1_col4\" class=\"data row1 col4\" >0.9091</td>\n",
       "      <td id=\"T_ffaff_row1_col5\" class=\"data row1 col5\" >0.6902</td>\n",
       "      <td id=\"T_ffaff_row1_col6\" class=\"data row1 col6\" >0.6909</td>\n",
       "    </tr>\n",
       "    <tr>\n",
       "      <th id=\"T_ffaff_level0_row2\" class=\"row_heading level0 row2\" >2</th>\n",
       "      <td id=\"T_ffaff_row2_col0\" class=\"data row2 col0\" >0.9001</td>\n",
       "      <td id=\"T_ffaff_row2_col1\" class=\"data row2 col1\" >0.9364</td>\n",
       "      <td id=\"T_ffaff_row2_col2\" class=\"data row2 col2\" >0.4167</td>\n",
       "      <td id=\"T_ffaff_row2_col3\" class=\"data row2 col3\" >0.8998</td>\n",
       "      <td id=\"T_ffaff_row2_col4\" class=\"data row2 col4\" >0.8996</td>\n",
       "      <td id=\"T_ffaff_row2_col5\" class=\"data row2 col5\" >0.6548</td>\n",
       "      <td id=\"T_ffaff_row2_col6\" class=\"data row2 col6\" >0.6550</td>\n",
       "    </tr>\n",
       "    <tr>\n",
       "      <th id=\"T_ffaff_level0_row3\" class=\"row_heading level0 row3\" >3</th>\n",
       "      <td id=\"T_ffaff_row3_col0\" class=\"data row3 col0\" >0.9023</td>\n",
       "      <td id=\"T_ffaff_row3_col1\" class=\"data row3 col1\" >0.9406</td>\n",
       "      <td id=\"T_ffaff_row3_col2\" class=\"data row3 col2\" >0.4243</td>\n",
       "      <td id=\"T_ffaff_row3_col3\" class=\"data row3 col3\" >0.9007</td>\n",
       "      <td id=\"T_ffaff_row3_col4\" class=\"data row3 col4\" >0.9011</td>\n",
       "      <td id=\"T_ffaff_row3_col5\" class=\"data row3 col5\" >0.6619</td>\n",
       "      <td id=\"T_ffaff_row3_col6\" class=\"data row3 col6\" >0.6622</td>\n",
       "    </tr>\n",
       "    <tr>\n",
       "      <th id=\"T_ffaff_level0_row4\" class=\"row_heading level0 row4\" >4</th>\n",
       "      <td id=\"T_ffaff_row4_col0\" class=\"data row4 col0\" >0.9009</td>\n",
       "      <td id=\"T_ffaff_row4_col1\" class=\"data row4 col1\" >0.9403</td>\n",
       "      <td id=\"T_ffaff_row4_col2\" class=\"data row4 col2\" >0.4246</td>\n",
       "      <td id=\"T_ffaff_row4_col3\" class=\"data row4 col3\" >0.8997</td>\n",
       "      <td id=\"T_ffaff_row4_col4\" class=\"data row4 col4\" >0.8994</td>\n",
       "      <td id=\"T_ffaff_row4_col5\" class=\"data row4 col5\" >0.6597</td>\n",
       "      <td id=\"T_ffaff_row4_col6\" class=\"data row4 col6\" >0.6605</td>\n",
       "    </tr>\n",
       "    <tr>\n",
       "      <th id=\"T_ffaff_level0_row5\" class=\"row_heading level0 row5\" >5</th>\n",
       "      <td id=\"T_ffaff_row5_col0\" class=\"data row5 col0\" >0.9057</td>\n",
       "      <td id=\"T_ffaff_row5_col1\" class=\"data row5 col1\" >0.9424</td>\n",
       "      <td id=\"T_ffaff_row5_col2\" class=\"data row5 col2\" >0.4359</td>\n",
       "      <td id=\"T_ffaff_row5_col3\" class=\"data row5 col3\" >0.9050</td>\n",
       "      <td id=\"T_ffaff_row5_col4\" class=\"data row5 col4\" >0.9048</td>\n",
       "      <td id=\"T_ffaff_row5_col5\" class=\"data row5 col5\" >0.6761</td>\n",
       "      <td id=\"T_ffaff_row5_col6\" class=\"data row5 col6\" >0.6765</td>\n",
       "    </tr>\n",
       "    <tr>\n",
       "      <th id=\"T_ffaff_level0_row6\" class=\"row_heading level0 row6\" >6</th>\n",
       "      <td id=\"T_ffaff_row6_col0\" class=\"data row6 col0\" >0.9001</td>\n",
       "      <td id=\"T_ffaff_row6_col1\" class=\"data row6 col1\" >0.9360</td>\n",
       "      <td id=\"T_ffaff_row6_col2\" class=\"data row6 col2\" >0.4139</td>\n",
       "      <td id=\"T_ffaff_row6_col3\" class=\"data row6 col3\" >0.8969</td>\n",
       "      <td id=\"T_ffaff_row6_col4\" class=\"data row6 col4\" >0.8979</td>\n",
       "      <td id=\"T_ffaff_row6_col5\" class=\"data row6 col5\" >0.6515</td>\n",
       "      <td id=\"T_ffaff_row6_col6\" class=\"data row6 col6\" >0.6519</td>\n",
       "    </tr>\n",
       "    <tr>\n",
       "      <th id=\"T_ffaff_level0_row7\" class=\"row_heading level0 row7\" >7</th>\n",
       "      <td id=\"T_ffaff_row7_col0\" class=\"data row7 col0\" >0.9038</td>\n",
       "      <td id=\"T_ffaff_row7_col1\" class=\"data row7 col1\" >0.9379</td>\n",
       "      <td id=\"T_ffaff_row7_col2\" class=\"data row7 col2\" >0.4321</td>\n",
       "      <td id=\"T_ffaff_row7_col3\" class=\"data row7 col3\" >0.9040</td>\n",
       "      <td id=\"T_ffaff_row7_col4\" class=\"data row7 col4\" >0.9035</td>\n",
       "      <td id=\"T_ffaff_row7_col5\" class=\"data row7 col5\" >0.6711</td>\n",
       "      <td id=\"T_ffaff_row7_col6\" class=\"data row7 col6\" >0.6715</td>\n",
       "    </tr>\n",
       "    <tr>\n",
       "      <th id=\"T_ffaff_level0_row8\" class=\"row_heading level0 row8\" >8</th>\n",
       "      <td id=\"T_ffaff_row8_col0\" class=\"data row8 col0\" >0.9115</td>\n",
       "      <td id=\"T_ffaff_row8_col1\" class=\"data row8 col1\" >0.9496</td>\n",
       "      <td id=\"T_ffaff_row8_col2\" class=\"data row8 col2\" >0.4386</td>\n",
       "      <td id=\"T_ffaff_row8_col3\" class=\"data row8 col3\" >0.9094</td>\n",
       "      <td id=\"T_ffaff_row8_col4\" class=\"data row8 col4\" >0.9103</td>\n",
       "      <td id=\"T_ffaff_row8_col5\" class=\"data row8 col5\" >0.6924</td>\n",
       "      <td id=\"T_ffaff_row8_col6\" class=\"data row8 col6\" >0.6925</td>\n",
       "    </tr>\n",
       "    <tr>\n",
       "      <th id=\"T_ffaff_level0_row9\" class=\"row_heading level0 row9\" >9</th>\n",
       "      <td id=\"T_ffaff_row9_col0\" class=\"data row9 col0\" >0.9046</td>\n",
       "      <td id=\"T_ffaff_row9_col1\" class=\"data row9 col1\" >0.9404</td>\n",
       "      <td id=\"T_ffaff_row9_col2\" class=\"data row9 col2\" >0.4269</td>\n",
       "      <td id=\"T_ffaff_row9_col3\" class=\"data row9 col3\" >0.9022</td>\n",
       "      <td id=\"T_ffaff_row9_col4\" class=\"data row9 col4\" >0.9025</td>\n",
       "      <td id=\"T_ffaff_row9_col5\" class=\"data row9 col5\" >0.6693</td>\n",
       "      <td id=\"T_ffaff_row9_col6\" class=\"data row9 col6\" >0.6698</td>\n",
       "    </tr>\n",
       "    <tr>\n",
       "      <th id=\"T_ffaff_level0_row10\" class=\"row_heading level0 row10\" >Mean</th>\n",
       "      <td id=\"T_ffaff_row10_col0\" class=\"data row10 col0\" >0.9029</td>\n",
       "      <td id=\"T_ffaff_row10_col1\" class=\"data row10 col1\" >0.9390</td>\n",
       "      <td id=\"T_ffaff_row10_col2\" class=\"data row10 col2\" >0.4255</td>\n",
       "      <td id=\"T_ffaff_row10_col3\" class=\"data row10 col3\" >0.9016</td>\n",
       "      <td id=\"T_ffaff_row10_col4\" class=\"data row10 col4\" >0.9017</td>\n",
       "      <td id=\"T_ffaff_row10_col5\" class=\"data row10 col5\" >0.6646</td>\n",
       "      <td id=\"T_ffaff_row10_col6\" class=\"data row10 col6\" >0.6650</td>\n",
       "    </tr>\n",
       "    <tr>\n",
       "      <th id=\"T_ffaff_level0_row11\" class=\"row_heading level0 row11\" >Std</th>\n",
       "      <td id=\"T_ffaff_row11_col0\" class=\"data row11 col0\" >0.0061</td>\n",
       "      <td id=\"T_ffaff_row11_col1\" class=\"data row11 col1\" >0.0047</td>\n",
       "      <td id=\"T_ffaff_row11_col2\" class=\"data row11 col2\" >0.0101</td>\n",
       "      <td id=\"T_ffaff_row11_col3\" class=\"data row11 col3\" >0.0057</td>\n",
       "      <td id=\"T_ffaff_row11_col4\" class=\"data row11 col4\" >0.0058</td>\n",
       "      <td id=\"T_ffaff_row11_col5\" class=\"data row11 col5\" >0.0199</td>\n",
       "      <td id=\"T_ffaff_row11_col6\" class=\"data row11 col6\" >0.0200</td>\n",
       "    </tr>\n",
       "  </tbody>\n",
       "</table>\n"
      ],
      "text/plain": [
       "<pandas.io.formats.style.Styler at 0x7fed30d4d730>"
      ]
     },
     "metadata": {},
     "output_type": "display_data"
    },
    {
     "name": "stderr",
     "output_type": "stream",
     "text": [
      "/opt/miniconda3/envs/stellar/lib/python3.8/site-packages/sklearn/metrics/_classification.py:1221: UndefinedMetricWarning: Precision is ill-defined and being set to 0.0 in labels with no predicted samples. Use `zero_division` parameter to control this behavior.\n",
      "  _warn_prf(average, modifier, msg_start, len(result))\n",
      "/opt/miniconda3/envs/stellar/lib/python3.8/site-packages/sklearn/metrics/_classification.py:1221: UndefinedMetricWarning: Precision is ill-defined and being set to 0.0 in labels with no predicted samples. Use `zero_division` parameter to control this behavior.\n",
      "  _warn_prf(average, modifier, msg_start, len(result))\n",
      "/opt/miniconda3/envs/stellar/lib/python3.8/site-packages/sklearn/metrics/_classification.py:1221: UndefinedMetricWarning: Precision is ill-defined and being set to 0.0 in labels with no predicted samples. Use `zero_division` parameter to control this behavior.\n",
      "  _warn_prf(average, modifier, msg_start, len(result))\n",
      "/opt/miniconda3/envs/stellar/lib/python3.8/site-packages/sklearn/metrics/_classification.py:1221: UndefinedMetricWarning: Precision is ill-defined and being set to 0.0 in labels with no predicted samples. Use `zero_division` parameter to control this behavior.\n",
      "  _warn_prf(average, modifier, msg_start, len(result))\n",
      "/opt/miniconda3/envs/stellar/lib/python3.8/site-packages/sklearn/metrics/_classification.py:1221: UndefinedMetricWarning: Precision is ill-defined and being set to 0.0 in labels with no predicted samples. Use `zero_division` parameter to control this behavior.\n",
      "  _warn_prf(average, modifier, msg_start, len(result))\n",
      "/opt/miniconda3/envs/stellar/lib/python3.8/site-packages/sklearn/metrics/_classification.py:1221: UndefinedMetricWarning: Precision is ill-defined and being set to 0.0 in labels with no predicted samples. Use `zero_division` parameter to control this behavior.\n",
      "  _warn_prf(average, modifier, msg_start, len(result))\n"
     ]
    }
   ],
   "source": [
    "best_model = create_model(model_matrix);\n",
    "final_model = finalize_model(best_model);"
   ]
  },
  {
   "cell_type": "markdown",
   "id": "a5d33784",
   "metadata": {},
   "source": [
    "## Step 3 : Evaluate Model"
   ]
  },
  {
   "cell_type": "markdown",
   "id": "0f0035ee",
   "metadata": {},
   "source": [
    "### The correlation matrix shows us attributes that are statistically correlated with the target variable:"
   ]
  },
  {
   "cell_type": "raw",
   "id": "11408721-1dfd-4d44-bee7-1d9a102adde6",
   "metadata": {},
   "source": [
    "cor = df.corr()\n",
    "\n",
    "df_correlated = df\n",
    "\n",
    "corr = df_correlated.corr()\n",
    "corr.style.background_gradient(cmap='coolwarm').set_precision(2)"
   ]
  },
  {
   "cell_type": "markdown",
   "id": "de42efbb",
   "metadata": {},
   "source": [
    "### We can have a look at the most important features that determine a correct prediction by the model:"
   ]
  },
  {
   "cell_type": "code",
   "execution_count": 11,
   "id": "9cb97451",
   "metadata": {},
   "outputs": [
    {
     "data": {
      "image/png": "[encoded data removed]",
      "text/plain": [
       "<Figure size 800x500 with 1 Axes>"
      ]
     },
     "metadata": {},
     "output_type": "display_data"
    }
   ],
   "source": [
    "plot_model(final_model, plot='feature')"
   ]
  },
  {
   "cell_type": "markdown",
   "id": "ff1b4d82",
   "metadata": {},
   "source": [
    "### Let's also look at the confusion matrix for hits and misses:"
   ]
  },
  {
   "cell_type": "code",
   "execution_count": 12,
   "id": "8ce08f9c",
   "metadata": {},
   "outputs": [
    {
     "data": {
      "image/png": "[encoded data removed]",
      "text/plain": [
       "<Figure size 800x550 with 1 Axes>"
      ]
     },
     "metadata": {},
     "output_type": "display_data"
    }
   ],
   "source": [
    "plot_model(final_model, plot=\"confusion_matrix\")"
   ]
  },
  {
   "cell_type": "markdown",
   "id": "abadd2bf",
   "metadata": {},
   "source": [
    "### Let's save our model for future use:"
   ]
  },
  {
   "cell_type": "raw",
   "id": "375f6db5-e324-4f05-b1b2-db3273ea7929",
   "metadata": {},
   "source": [
    "save_model(final_model, \"./models/intermiami-productpropensity(Jul6-2022).pkl\")"
   ]
  },
  {
   "cell_type": "markdown",
   "id": "7e7f9453",
   "metadata": {},
   "source": [
    "### Let's load in our 2022 season data and get product propensity probabilities using the model:"
   ]
  },
  {
   "cell_type": "code",
   "execution_count": 13,
   "id": "c66a83e9-2274-4ca7-812d-c67ebc4b2e2b",
   "metadata": {},
   "outputs": [
    {
     "data": {
      "text/plain": [
       "(33828, 13)"
      ]
     },
     "execution_count": 13,
     "metadata": {},
     "output_type": "execute_result"
    }
   ],
   "source": [
    "df_inference = df.loc[df[\"seasonYear\"] >= 2022]\n",
    "df_inference = df_inference.fillna(0)\n",
    "df_inference.shape"
   ]
  },
  {
   "cell_type": "code",
   "execution_count": 14,
   "id": "3b524bf8-88bc-40f5-a6c3-bf7b0dde64b6",
   "metadata": {},
   "outputs": [
    {
     "data": {
      "text/html": [
       "<style type=\"text/css\">\n",
       "</style>\n",
       "<table id=\"T_4795a\">\n",
       "  <thead>\n",
       "    <tr>\n",
       "      <th class=\"blank level0\" >&nbsp;</th>\n",
       "      <th id=\"T_4795a_level0_col0\" class=\"col_heading level0 col0\" >Model</th>\n",
       "      <th id=\"T_4795a_level0_col1\" class=\"col_heading level0 col1\" >Accuracy</th>\n",
       "      <th id=\"T_4795a_level0_col2\" class=\"col_heading level0 col2\" >AUC</th>\n",
       "      <th id=\"T_4795a_level0_col3\" class=\"col_heading level0 col3\" >Recall</th>\n",
       "      <th id=\"T_4795a_level0_col4\" class=\"col_heading level0 col4\" >Prec.</th>\n",
       "      <th id=\"T_4795a_level0_col5\" class=\"col_heading level0 col5\" >F1</th>\n",
       "      <th id=\"T_4795a_level0_col6\" class=\"col_heading level0 col6\" >Kappa</th>\n",
       "      <th id=\"T_4795a_level0_col7\" class=\"col_heading level0 col7\" >MCC</th>\n",
       "    </tr>\n",
       "  </thead>\n",
       "  <tbody>\n",
       "    <tr>\n",
       "      <th id=\"T_4795a_level0_row0\" class=\"row_heading level0 row0\" >0</th>\n",
       "      <td id=\"T_4795a_row0_col0\" class=\"data row0 col0\" >Random Forest Classifier</td>\n",
       "      <td id=\"T_4795a_row0_col1\" class=\"data row0 col1\" >0.0000</td>\n",
       "      <td id=\"T_4795a_row0_col2\" class=\"data row0 col2\" >0.9906</td>\n",
       "      <td id=\"T_4795a_row0_col3\" class=\"data row0 col3\" >0</td>\n",
       "      <td id=\"T_4795a_row0_col4\" class=\"data row0 col4\" >0</td>\n",
       "      <td id=\"T_4795a_row0_col5\" class=\"data row0 col5\" >0</td>\n",
       "      <td id=\"T_4795a_row0_col6\" class=\"data row0 col6\" >0</td>\n",
       "      <td id=\"T_4795a_row0_col7\" class=\"data row0 col7\" >0</td>\n",
       "    </tr>\n",
       "  </tbody>\n",
       "</table>\n"
      ],
      "text/plain": [
       "<pandas.io.formats.style.Styler at 0x7fed300d72b0>"
      ]
     },
     "metadata": {},
     "output_type": "display_data"
    },
    {
     "data": {
      "text/html": [
       "<div>\n",
       "<style scoped>\n",
       "    .dataframe tbody tr th:only-of-type {\n",
       "        vertical-align: middle;\n",
       "    }\n",
       "\n",
       "    .dataframe tbody tr th {\n",
       "        vertical-align: top;\n",
       "    }\n",
       "\n",
       "    .dataframe thead th {\n",
       "        text-align: right;\n",
       "    }\n",
       "</style>\n",
       "<table border=\"1\" class=\"dataframe\">\n",
       "  <thead>\n",
       "    <tr style=\"text-align: right;\">\n",
       "      <th></th>\n",
       "      <th>dimCustomerMasterId</th>\n",
       "      <th>email</th>\n",
       "      <th>ticketingid</th>\n",
       "      <th>distance</th>\n",
       "      <th>seasonYear</th>\n",
       "      <th>events_prior</th>\n",
       "      <th>attended_prior</th>\n",
       "      <th>events_last</th>\n",
       "      <th>attended_last</th>\n",
       "      <th>tenure</th>\n",
       "      <th>atp_last</th>\n",
       "      <th>product_current</th>\n",
       "      <th>product_last</th>\n",
       "      <th>Label</th>\n",
       "      <th>Score</th>\n",
       "    </tr>\n",
       "  </thead>\n",
       "  <tbody>\n",
       "    <tr>\n",
       "      <th>0</th>\n",
       "      <td>20</td>\n",
       "      <td>0160495@gmail.com</td>\n",
       "      <td>1129223</td>\n",
       "      <td>62.69</td>\n",
       "      <td>2023</td>\n",
       "      <td>1</td>\n",
       "      <td>0</td>\n",
       "      <td>1</td>\n",
       "      <td>0</td>\n",
       "      <td>0</td>\n",
       "      <td>33.00</td>\n",
       "      <td>None</td>\n",
       "      <td>Individual</td>\n",
       "      <td>None</td>\n",
       "      <td>1.00</td>\n",
       "    </tr>\n",
       "    <tr>\n",
       "      <th>1</th>\n",
       "      <td>22</td>\n",
       "      <td>01juliop@gmail.com</td>\n",
       "      <td>691152</td>\n",
       "      <td>4149.97</td>\n",
       "      <td>2023</td>\n",
       "      <td>1</td>\n",
       "      <td>0</td>\n",
       "      <td>1</td>\n",
       "      <td>0</td>\n",
       "      <td>0</td>\n",
       "      <td>20.00</td>\n",
       "      <td>None</td>\n",
       "      <td>Individual</td>\n",
       "      <td>None</td>\n",
       "      <td>1.00</td>\n",
       "    </tr>\n",
       "    <tr>\n",
       "      <th>3</th>\n",
       "      <td>23</td>\n",
       "      <td>01rodeo01@gmail.com</td>\n",
       "      <td>153794</td>\n",
       "      <td>25.94</td>\n",
       "      <td>2022</td>\n",
       "      <td>30</td>\n",
       "      <td>30</td>\n",
       "      <td>17</td>\n",
       "      <td>17</td>\n",
       "      <td>1</td>\n",
       "      <td>53.53</td>\n",
       "      <td>None</td>\n",
       "      <td>Full Season</td>\n",
       "      <td>None</td>\n",
       "      <td>0.67</td>\n",
       "    </tr>\n",
       "    <tr>\n",
       "      <th>4</th>\n",
       "      <td>23</td>\n",
       "      <td>01rodeo01@gmail.com</td>\n",
       "      <td>153794</td>\n",
       "      <td>25.94</td>\n",
       "      <td>2023</td>\n",
       "      <td>31</td>\n",
       "      <td>31</td>\n",
       "      <td>1</td>\n",
       "      <td>1</td>\n",
       "      <td>2</td>\n",
       "      <td>0.00</td>\n",
       "      <td>None</td>\n",
       "      <td>None</td>\n",
       "      <td>None</td>\n",
       "      <td>1.00</td>\n",
       "    </tr>\n",
       "    <tr>\n",
       "      <th>5</th>\n",
       "      <td>52</td>\n",
       "      <td>06guer1103@gmail.com</td>\n",
       "      <td>253859</td>\n",
       "      <td>17.84</td>\n",
       "      <td>2022</td>\n",
       "      <td>17</td>\n",
       "      <td>6</td>\n",
       "      <td>17</td>\n",
       "      <td>6</td>\n",
       "      <td>0</td>\n",
       "      <td>39.41</td>\n",
       "      <td>Full Season</td>\n",
       "      <td>Full Season</td>\n",
       "      <td>Individual</td>\n",
       "      <td>0.53</td>\n",
       "    </tr>\n",
       "  </tbody>\n",
       "</table>\n",
       "</div>"
      ],
      "text/plain": [
       "   dimCustomerMasterId                 email ticketingid  distance  \\\n",
       "0                   20     0160495@gmail.com     1129223     62.69   \n",
       "1                   22    01juliop@gmail.com      691152   4149.97   \n",
       "3                   23   01rodeo01@gmail.com      153794     25.94   \n",
       "4                   23   01rodeo01@gmail.com      153794     25.94   \n",
       "5                   52  06guer1103@gmail.com      253859     17.84   \n",
       "\n",
       "   seasonYear  events_prior  attended_prior  events_last  attended_last  \\\n",
       "0        2023             1               0            1              0   \n",
       "1        2023             1               0            1              0   \n",
       "3        2022            30              30           17             17   \n",
       "4        2023            31              31            1              1   \n",
       "5        2022            17               6           17              6   \n",
       "\n",
       "   tenure  atp_last product_current product_last       Label  Score  \n",
       "0       0     33.00            None   Individual        None   1.00  \n",
       "1       0     20.00            None   Individual        None   1.00  \n",
       "3       1     53.53            None  Full Season        None   0.67  \n",
       "4       2      0.00            None         None        None   1.00  \n",
       "5       0     39.41     Full Season  Full Season  Individual   0.53  "
      ]
     },
     "execution_count": 14,
     "metadata": {},
     "output_type": "execute_result"
    }
   ],
   "source": [
    "df_predictions = predict_model(final_model, data=df_inference)\n",
    "df_predictions.head()"
   ]
  },
  {
   "cell_type": "raw",
   "id": "79db4435-b149-4ee0-ae6f-ea582a280566",
   "metadata": {},
   "source": [
    "saved_model = load_model(\"./models/intermiami-productpropensity(Jul6-2022).pkl\")\n",
    "\n",
    "df_predictions = predict_model(saved_model, data=df_inference)\n",
    "df_predictions.head()"
   ]
  },
  {
   "cell_type": "markdown",
   "id": "6e1afdb3",
   "metadata": {},
   "source": [
    "### Now we can see the count for each products in the inference data:"
   ]
  },
  {
   "cell_type": "code",
   "execution_count": 15,
   "id": "442394dc",
   "metadata": {},
   "outputs": [
    {
     "data": {
      "text/plain": [
       "None           30551\n",
       "Individual      1974\n",
       "Full Season     1270\n",
       "Half Season       18\n",
       "Flex Plan         15\n",
       "Name: Label, dtype: int64"
      ]
     },
     "execution_count": 15,
     "metadata": {},
     "output_type": "execute_result"
    }
   ],
   "source": [
    "counts = df_predictions.Label.value_counts()\n",
    "counts"
   ]
  },
  {
   "cell_type": "code",
   "execution_count": 16,
   "id": "d40338d1",
   "metadata": {},
   "outputs": [
    {
     "data": {
      "image/png": "[encoded data removed]",
      "text/plain": [
       "<Figure size 2000x300 with 3 Axes>"
      ]
     },
     "metadata": {},
     "output_type": "display_data"
    }
   ],
   "source": [
    "fig, (ax1, ax2, ax3) = plt.subplots(1, 3, figsize=(20,3))\n",
    "\n",
    "fig.suptitle(\"Product Propensity Scores\")\n",
    "\n",
    "ax1.hist(df_predictions[df_predictions.Label == \"Full Season\"].Score, bins=20,  edgecolor=\"black\", range=(0,1))\n",
    "ax2.hist(df_predictions[df_predictions.Label == \"Half Season\"].Score, bins=20, edgecolor=\"black\", range=(0,1))\n",
    "ax3.hist(df_predictions[df_predictions.Label == \"Individual\"].Score, bins=20, edgecolor=\"black\", range=(0,1))\n",
    "\n",
    "ax1.set_xlabel('Score')\n",
    "ax1.set_ylabel('Num Fans')\n",
    "\n",
    "plt.show()"
   ]
  },
  {
   "cell_type": "code",
   "execution_count": 17,
   "id": "0de47177",
   "metadata": {},
   "outputs": [
    {
     "data": {
      "text/plain": [
       "(42, 15)"
      ]
     },
     "execution_count": 17,
     "metadata": {},
     "output_type": "execute_result"
    }
   ],
   "source": [
    "df_predictions_fs = df_predictions[df_predictions.Label == \"Full Season\"]\n",
    "\n",
    "df_predictions_fs_new = df_predictions_fs[df_predictions_fs.product_last != \"Full Season\"]\n",
    "\n",
    "df_predictions_fs_new.shape"
   ]
  },
  {
   "cell_type": "markdown",
   "id": "12c932d1",
   "metadata": {},
   "source": [
    "### Let's export these scores to csv for further analysis:"
   ]
  },
  {
   "cell_type": "code",
   "execution_count": 19,
   "id": "3b508855",
   "metadata": {},
   "outputs": [],
   "source": [
    "s3 = boto3.resource('s3')\n",
    "\n",
    "bucket = \"us-curated-data-sci-product-propensity-us-east-1-d2n55o\"\n",
    "current_date = datetime.today().strftime('%Y-%m-%d')\n",
    "path = \"./data/-product-propensity-scores.csv\"\n",
    "\n",
    "df_predictions.to_csv(path, index=False)\n",
    "s3.Bucket(bucket).upload_file(path, f'date={current_date}/mlsintermiami/scores.csv')"
   ]
  },
  {
   "cell_type": "markdown",
   "id": "950656a9",
   "metadata": {},
   "source": [
    "### Done"
   ]
  }
 ],
 "metadata": {
  "kernelspec": {
   "display_name": "Python 3 (ipykernel)",
   "language": "python",
   "name": "python3"
  },
  "language_info": {
   "codemirror_mode": {
    "name": "ipython",
    "version": 3
   },
   "file_extension": ".py",
   "mimetype": "text/x-python",
   "name": "python",
   "nbconvert_exporter": "python",
   "pygments_lexer": "ipython3",
   "version": "3.8.5"
  },
  "vscode": {
   "interpreter": {
    "hash": "89f48dadab51a6b5b48ffc1a9e043c21cefe67453637c3444f3b86917b8aad16"
   }
  }
 },
 "nbformat": 4,
 "nbformat_minor": 5
}
