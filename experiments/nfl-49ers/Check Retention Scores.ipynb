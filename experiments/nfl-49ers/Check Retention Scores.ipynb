{
 "cells": [
  {
   "cell_type": "markdown",
   "metadata": {},
   "source": [
    "# NFL 49ers - Check Retention Scores\n",
    "* StellarAlgo Data Science\n",
    "* Grant Donst\n",
    "* Aug 23, 2022"
   ]
  },
  {
   "cell_type": "code",
   "execution_count": 1,
   "metadata": {},
   "outputs": [],
   "source": [
    "import getpass\n",
    "import pandas as pd\n",
    "import pyodbc\n",
    "\n",
    "import matplotlib.pyplot as plt\n",
    "\n",
    "#from pandas_profiling import ProfileReport\n",
    "from pycaret.classification import *"
   ]
  },
  {
   "cell_type": "markdown",
   "metadata": {},
   "source": [
    "### Let's grab the training and eval datasets:"
   ]
  },
  {
   "cell_type": "code",
   "execution_count": 2,
   "metadata": {},
   "outputs": [],
   "source": [
    "#df_train = pd.read_csv(\"./data/train.csv\")\n",
    "#df_eval = pd.read_csv(\"./data/eval.csv\")\n",
    "\n",
    "#df_train = pd.concat([df_train, df_eval])"
   ]
  },
  {
   "cell_type": "code",
   "execution_count": 3,
   "metadata": {},
   "outputs": [],
   "source": [
    "# connect to SQL Server.\n",
    "SERVER = '34.206.73.189' \n",
    "DATABASE = 'datascience' \n",
    "USERNAME = 'dsAdminWrite' \n",
    "PASSWORD = getpass.getpass(prompt='Enter your password')\n",
    "CNXN = pyodbc.connect('DRIVER={ODBC Driver 17 for SQL Server};SERVER='+SERVER+';DATABASE='+DATABASE+';UID='+USERNAME+';PWD='+ PASSWORD)"
   ]
  },
  {
   "cell_type": "code",
   "execution_count": 17,
   "metadata": {},
   "outputs": [
    {
     "data": {
      "text/plain": [
       "(72380, 53)"
      ]
     },
     "execution_count": 17,
     "metadata": {},
     "output_type": "execute_result"
    }
   ],
   "source": [
    "lkupclientid = 95 # 49ers\n",
    "\n",
    "cursor = CNXN.cursor()\n",
    "\n",
    "storedProc = (\n",
    "    f\"\"\"Exec [stlrNFL49ers].[ds].[getRetentionScoringModelData] {lkupclientid}\"\"\"\n",
    ")\n",
    "\n",
    "df = pd.read_sql(storedProc, CNXN)\n",
    "\n",
    "CNXN.commit()\n",
    "cursor.close()\n",
    "\n",
    "df.shape"
   ]
  },
  {
   "cell_type": "code",
   "execution_count": 18,
   "metadata": {},
   "outputs": [],
   "source": [
    "features = [\n",
    "    \"recentDate\",\n",
    "    \"dimCustomerMasterId\",\n",
    "    \"productGrouping\",\n",
    "    \"year\",\n",
    "    \"attendancePercent\", \n",
    "    \"distToVenue\",\n",
    "    \"missed_games_1\",\n",
    "    \"missed_games_2\",\n",
    "    \"missed_games_over_2\",\n",
    "    \"recency\",\n",
    "    \"renewedBeforeDays\",\n",
    "    \"source_tenure\",\n",
    "    \"totalSpent\",\n",
    "    \"isNextYear_Buyer\"\n",
    "]\n",
    "\n",
    "# choose features for each train dataset\n",
    "df = df[features]\n",
    "\n",
    "df[\"year\"] = pd.to_numeric(df[\"year\"])"
   ]
  },
  {
   "cell_type": "code",
   "execution_count": 19,
   "metadata": {},
   "outputs": [
    {
     "name": "stdout",
     "output_type": "stream",
     "text": [
      "2018    18181\n",
      "2019    17817\n",
      "Name: year, dtype: int64\n",
      "2018    18181\n",
      "Name: year, dtype: int64\n",
      "2019    17817\n",
      "Name: year, dtype: int64\n"
     ]
    }
   ],
   "source": [
    "df_train = df[df[\"year\"] <= 2019]\n",
    "df_train_2018 = df_train[df_train[\"year\"] <= 2018]\n",
    "df_train_2019 = df_train[df_train[\"year\"] >= 2019]\n",
    "\n",
    "print(df_train[\"year\"].value_counts())\n",
    "print(df_train_2018[\"year\"].value_counts())\n",
    "print(df_train_2019[\"year\"].value_counts())"
   ]
  },
  {
   "cell_type": "code",
   "execution_count": 20,
   "metadata": {},
   "outputs": [
    {
     "name": "stdout",
     "output_type": "stream",
     "text": [
      "1    33941\n",
      "0     2057\n",
      "Name: isNextYear_Buyer, dtype: int64\n",
      "1    17150\n",
      "0     1031\n",
      "Name: isNextYear_Buyer, dtype: int64\n",
      "1    16791\n",
      "0     1026\n",
      "Name: isNextYear_Buyer, dtype: int64\n"
     ]
    }
   ],
   "source": [
    "print(df_train[\"isNextYear_Buyer\"].value_counts())\n",
    "print(df_train_2018[\"isNextYear_Buyer\"].value_counts())\n",
    "print(df_train_2019[\"isNextYear_Buyer\"].value_counts())"
   ]
  },
  {
   "cell_type": "markdown",
   "metadata": {},
   "source": [
    "### Let's set up our new model:"
   ]
  },
  {
   "cell_type": "code",
   "execution_count": 21,
   "metadata": {},
   "outputs": [
    {
     "data": {
      "text/html": [
       "<style type=\"text/css\">\n",
       "#T_47863_ th {\n",
       "  text-align: left;\n",
       "}\n",
       "#T_47863_row0_col0 {\n",
       "  text-align: left;\n",
       "}\n",
       "#T_47863_row0_col1, #T_47863_row0_col2, #T_47863_row0_col3, #T_47863_row0_col4, #T_47863_row0_col5, #T_47863_row0_col6, #T_47863_row0_col7 {\n",
       "  text-align: left;\n",
       "  background-color: yellow;\n",
       "}\n",
       "#T_47863_row0_col8 {\n",
       "  text-align: left;\n",
       "  background-color: yellow;\n",
       "  background-color: lightgrey;\n",
       "}\n",
       "</style>\n",
       "<table id=\"T_47863_\">\n",
       "  <thead>\n",
       "    <tr>\n",
       "      <th class=\"blank level0\" >&nbsp;</th>\n",
       "      <th class=\"col_heading level0 col0\" >Model</th>\n",
       "      <th class=\"col_heading level0 col1\" >Accuracy</th>\n",
       "      <th class=\"col_heading level0 col2\" >AUC</th>\n",
       "      <th class=\"col_heading level0 col3\" >Recall</th>\n",
       "      <th class=\"col_heading level0 col4\" >Prec.</th>\n",
       "      <th class=\"col_heading level0 col5\" >F1</th>\n",
       "      <th class=\"col_heading level0 col6\" >Kappa</th>\n",
       "      <th class=\"col_heading level0 col7\" >MCC</th>\n",
       "      <th class=\"col_heading level0 col8\" >TT (Sec)</th>\n",
       "    </tr>\n",
       "  </thead>\n",
       "  <tbody>\n",
       "    <tr>\n",
       "      <th id=\"T_47863_level0_row0\" class=\"row_heading level0 row0\" >lightgbm</th>\n",
       "      <td id=\"T_47863_row0_col0\" class=\"data row0 col0\" >Light Gradient Boosting Machine</td>\n",
       "      <td id=\"T_47863_row0_col1\" class=\"data row0 col1\" >0.9444</td>\n",
       "      <td id=\"T_47863_row0_col2\" class=\"data row0 col2\" >0.7075</td>\n",
       "      <td id=\"T_47863_row0_col3\" class=\"data row0 col3\" >0.9986</td>\n",
       "      <td id=\"T_47863_row0_col4\" class=\"data row0 col4\" >0.9454</td>\n",
       "      <td id=\"T_47863_row0_col5\" class=\"data row0 col5\" >0.9713</td>\n",
       "      <td id=\"T_47863_row0_col6\" class=\"data row0 col6\" >0.0935</td>\n",
       "      <td id=\"T_47863_row0_col7\" class=\"data row0 col7\" >0.1851</td>\n",
       "      <td id=\"T_47863_row0_col8\" class=\"data row0 col8\" >0.7880</td>\n",
       "    </tr>\n",
       "  </tbody>\n",
       "</table>\n"
      ],
      "text/plain": [
       "<pandas.io.formats.style.Styler at 0x7ff5dbf764c0>"
      ]
     },
     "metadata": {},
     "output_type": "display_data"
    }
   ],
   "source": [
    "setup(\n",
    "    data= df_train, \n",
    "    target=\"isNextYear_Buyer\", \n",
    "    train_size = 0.85,\n",
    "    data_split_shuffle=True,\n",
    "    date_features=[\n",
    "        \"recentDate\"\n",
    "    ],\n",
    "    ignore_features=[\n",
    "        \"dimCustomerMasterId\",\n",
    "        \"productGrouping\",\n",
    "        \"year\"\n",
    "    ],\n",
    "    numeric_features=[\n",
    "        \"attendancePercent\", \n",
    "        \"distToVenue\",\n",
    "        \"missed_games_1\",\n",
    "        \"missed_games_2\",\n",
    "        \"missed_games_over_2\",\n",
    "        \"recency\",\n",
    "        \"renewedBeforeDays\",\n",
    "        \"source_tenure\",\n",
    "        \"totalSpent\"\n",
    "    ],\n",
    "    silent=True,\n",
    "    verbose=False\n",
    ");\n",
    "\n",
    "best_model = compare_models(\n",
    "    fold=10,\n",
    "    include=[\"lightgbm\"]\n",
    ")"
   ]
  },
  {
   "cell_type": "markdown",
   "metadata": {},
   "source": [
    "### Let's finalize our new model so it can be used to make predictions:"
   ]
  },
  {
   "cell_type": "code",
   "execution_count": 22,
   "metadata": {},
   "outputs": [
    {
     "data": {
      "text/html": [
       "<style type=\"text/css\">\n",
       "#T_91b22_row10_col0, #T_91b22_row10_col1, #T_91b22_row10_col2, #T_91b22_row10_col3, #T_91b22_row10_col4, #T_91b22_row10_col5, #T_91b22_row10_col6 {\n",
       "  background: yellow;\n",
       "}\n",
       "</style>\n",
       "<table id=\"T_91b22_\">\n",
       "  <thead>\n",
       "    <tr>\n",
       "      <th class=\"blank level0\" >&nbsp;</th>\n",
       "      <th class=\"col_heading level0 col0\" >Accuracy</th>\n",
       "      <th class=\"col_heading level0 col1\" >AUC</th>\n",
       "      <th class=\"col_heading level0 col2\" >Recall</th>\n",
       "      <th class=\"col_heading level0 col3\" >Prec.</th>\n",
       "      <th class=\"col_heading level0 col4\" >F1</th>\n",
       "      <th class=\"col_heading level0 col5\" >Kappa</th>\n",
       "      <th class=\"col_heading level0 col6\" >MCC</th>\n",
       "    </tr>\n",
       "  </thead>\n",
       "  <tbody>\n",
       "    <tr>\n",
       "      <th id=\"T_91b22_level0_row0\" class=\"row_heading level0 row0\" >0</th>\n",
       "      <td id=\"T_91b22_row0_col0\" class=\"data row0 col0\" >0.9435</td>\n",
       "      <td id=\"T_91b22_row0_col1\" class=\"data row0 col1\" >0.7244</td>\n",
       "      <td id=\"T_91b22_row0_col2\" class=\"data row0 col2\" >0.9993</td>\n",
       "      <td id=\"T_91b22_row0_col3\" class=\"data row0 col3\" >0.9440</td>\n",
       "      <td id=\"T_91b22_row0_col4\" class=\"data row0 col4\" >0.9709</td>\n",
       "      <td id=\"T_91b22_row0_col5\" class=\"data row0 col5\" >0.0505</td>\n",
       "      <td id=\"T_91b22_row0_col6\" class=\"data row0 col6\" >0.1351</td>\n",
       "    </tr>\n",
       "    <tr>\n",
       "      <th id=\"T_91b22_level0_row1\" class=\"row_heading level0 row1\" >1</th>\n",
       "      <td id=\"T_91b22_row1_col0\" class=\"data row1 col0\" >0.9454</td>\n",
       "      <td id=\"T_91b22_row1_col1\" class=\"data row1 col1\" >0.7257</td>\n",
       "      <td id=\"T_91b22_row1_col2\" class=\"data row1 col2\" >0.9986</td>\n",
       "      <td id=\"T_91b22_row1_col3\" class=\"data row1 col3\" >0.9464</td>\n",
       "      <td id=\"T_91b22_row1_col4\" class=\"data row1 col4\" >0.9718</td>\n",
       "      <td id=\"T_91b22_row1_col5\" class=\"data row1 col5\" >0.1259</td>\n",
       "      <td id=\"T_91b22_row1_col6\" class=\"data row1 col6\" >0.2270</td>\n",
       "    </tr>\n",
       "    <tr>\n",
       "      <th id=\"T_91b22_level0_row2\" class=\"row_heading level0 row2\" >2</th>\n",
       "      <td id=\"T_91b22_row2_col0\" class=\"data row2 col0\" >0.9451</td>\n",
       "      <td id=\"T_91b22_row2_col1\" class=\"data row2 col1\" >0.7151</td>\n",
       "      <td id=\"T_91b22_row2_col2\" class=\"data row2 col2\" >0.9990</td>\n",
       "      <td id=\"T_91b22_row2_col3\" class=\"data row2 col3\" >0.9458</td>\n",
       "      <td id=\"T_91b22_row2_col4\" class=\"data row2 col4\" >0.9717</td>\n",
       "      <td id=\"T_91b22_row2_col5\" class=\"data row2 col5\" >0.1082</td>\n",
       "      <td id=\"T_91b22_row2_col6\" class=\"data row2 col6\" >0.2120</td>\n",
       "    </tr>\n",
       "    <tr>\n",
       "      <th id=\"T_91b22_level0_row3\" class=\"row_heading level0 row3\" >3</th>\n",
       "      <td id=\"T_91b22_row3_col0\" class=\"data row3 col0\" >0.9444</td>\n",
       "      <td id=\"T_91b22_row3_col1\" class=\"data row3 col1\" >0.6900</td>\n",
       "      <td id=\"T_91b22_row3_col2\" class=\"data row3 col2\" >0.9993</td>\n",
       "      <td id=\"T_91b22_row3_col3\" class=\"data row3 col3\" >0.9449</td>\n",
       "      <td id=\"T_91b22_row3_col4\" class=\"data row3 col4\" >0.9714</td>\n",
       "      <td id=\"T_91b22_row3_col5\" class=\"data row3 col5\" >0.0803</td>\n",
       "      <td id=\"T_91b22_row3_col6\" class=\"data row3 col6\" >0.1826</td>\n",
       "    </tr>\n",
       "    <tr>\n",
       "      <th id=\"T_91b22_level0_row4\" class=\"row_heading level0 row4\" >4</th>\n",
       "      <td id=\"T_91b22_row4_col0\" class=\"data row4 col0\" >0.9435</td>\n",
       "      <td id=\"T_91b22_row4_col1\" class=\"data row4 col1\" >0.6689</td>\n",
       "      <td id=\"T_91b22_row4_col2\" class=\"data row4 col2\" >0.9983</td>\n",
       "      <td id=\"T_91b22_row4_col3\" class=\"data row4 col3\" >0.9449</td>\n",
       "      <td id=\"T_91b22_row4_col4\" class=\"data row4 col4\" >0.9708</td>\n",
       "      <td id=\"T_91b22_row4_col5\" class=\"data row4 col5\" >0.0774</td>\n",
       "      <td id=\"T_91b22_row4_col6\" class=\"data row4 col6\" >0.1565</td>\n",
       "    </tr>\n",
       "    <tr>\n",
       "      <th id=\"T_91b22_level0_row5\" class=\"row_heading level0 row5\" >5</th>\n",
       "      <td id=\"T_91b22_row5_col0\" class=\"data row5 col0\" >0.9438</td>\n",
       "      <td id=\"T_91b22_row5_col1\" class=\"data row5 col1\" >0.7326</td>\n",
       "      <td id=\"T_91b22_row5_col2\" class=\"data row5 col2\" >0.9969</td>\n",
       "      <td id=\"T_91b22_row5_col3\" class=\"data row5 col3\" >0.9463</td>\n",
       "      <td id=\"T_91b22_row5_col4\" class=\"data row5 col4\" >0.9710</td>\n",
       "      <td id=\"T_91b22_row5_col5\" class=\"data row5 col5\" >0.1201</td>\n",
       "      <td id=\"T_91b22_row5_col6\" class=\"data row5 col6\" >0.1950</td>\n",
       "    </tr>\n",
       "    <tr>\n",
       "      <th id=\"T_91b22_level0_row6\" class=\"row_heading level0 row6\" >6</th>\n",
       "      <td id=\"T_91b22_row6_col0\" class=\"data row6 col0\" >0.9458</td>\n",
       "      <td id=\"T_91b22_row6_col1\" class=\"data row6 col1\" >0.7498</td>\n",
       "      <td id=\"T_91b22_row6_col2\" class=\"data row6 col2\" >0.9990</td>\n",
       "      <td id=\"T_91b22_row6_col3\" class=\"data row6 col3\" >0.9465</td>\n",
       "      <td id=\"T_91b22_row6_col4\" class=\"data row6 col4\" >0.9720</td>\n",
       "      <td id=\"T_91b22_row6_col5\" class=\"data row6 col5\" >0.1270</td>\n",
       "      <td id=\"T_91b22_row6_col6\" class=\"data row6 col6\" >0.2351</td>\n",
       "    </tr>\n",
       "    <tr>\n",
       "      <th id=\"T_91b22_level0_row7\" class=\"row_heading level0 row7\" >7</th>\n",
       "      <td id=\"T_91b22_row7_col0\" class=\"data row7 col0\" >0.9441</td>\n",
       "      <td id=\"T_91b22_row7_col1\" class=\"data row7 col1\" >0.7197</td>\n",
       "      <td id=\"T_91b22_row7_col2\" class=\"data row7 col2\" >0.9986</td>\n",
       "      <td id=\"T_91b22_row7_col3\" class=\"data row7 col3\" >0.9452</td>\n",
       "      <td id=\"T_91b22_row7_col4\" class=\"data row7 col4\" >0.9712</td>\n",
       "      <td id=\"T_91b22_row7_col5\" class=\"data row7 col5\" >0.0880</td>\n",
       "      <td id=\"T_91b22_row7_col6\" class=\"data row7 col6\" >0.1781</td>\n",
       "    </tr>\n",
       "    <tr>\n",
       "      <th id=\"T_91b22_level0_row8\" class=\"row_heading level0 row8\" >8</th>\n",
       "      <td id=\"T_91b22_row8_col0\" class=\"data row8 col0\" >0.9441</td>\n",
       "      <td id=\"T_91b22_row8_col1\" class=\"data row8 col1\" >0.6680</td>\n",
       "      <td id=\"T_91b22_row8_col2\" class=\"data row8 col2\" >0.9986</td>\n",
       "      <td id=\"T_91b22_row8_col3\" class=\"data row8 col3\" >0.9452</td>\n",
       "      <td id=\"T_91b22_row8_col4\" class=\"data row8 col4\" >0.9712</td>\n",
       "      <td id=\"T_91b22_row8_col5\" class=\"data row8 col5\" >0.0788</td>\n",
       "      <td id=\"T_91b22_row8_col6\" class=\"data row8 col6\" >0.1647</td>\n",
       "    </tr>\n",
       "    <tr>\n",
       "      <th id=\"T_91b22_level0_row9\" class=\"row_heading level0 row9\" >9</th>\n",
       "      <td id=\"T_91b22_row9_col0\" class=\"data row9 col0\" >0.9441</td>\n",
       "      <td id=\"T_91b22_row9_col1\" class=\"data row9 col1\" >0.6812</td>\n",
       "      <td id=\"T_91b22_row9_col2\" class=\"data row9 col2\" >0.9986</td>\n",
       "      <td id=\"T_91b22_row9_col3\" class=\"data row9 col3\" >0.9452</td>\n",
       "      <td id=\"T_91b22_row9_col4\" class=\"data row9 col4\" >0.9712</td>\n",
       "      <td id=\"T_91b22_row9_col5\" class=\"data row9 col5\" >0.0788</td>\n",
       "      <td id=\"T_91b22_row9_col6\" class=\"data row9 col6\" >0.1647</td>\n",
       "    </tr>\n",
       "    <tr>\n",
       "      <th id=\"T_91b22_level0_row10\" class=\"row_heading level0 row10\" >Mean</th>\n",
       "      <td id=\"T_91b22_row10_col0\" class=\"data row10 col0\" >0.9444</td>\n",
       "      <td id=\"T_91b22_row10_col1\" class=\"data row10 col1\" >0.7075</td>\n",
       "      <td id=\"T_91b22_row10_col2\" class=\"data row10 col2\" >0.9986</td>\n",
       "      <td id=\"T_91b22_row10_col3\" class=\"data row10 col3\" >0.9454</td>\n",
       "      <td id=\"T_91b22_row10_col4\" class=\"data row10 col4\" >0.9713</td>\n",
       "      <td id=\"T_91b22_row10_col5\" class=\"data row10 col5\" >0.0935</td>\n",
       "      <td id=\"T_91b22_row10_col6\" class=\"data row10 col6\" >0.1851</td>\n",
       "    </tr>\n",
       "    <tr>\n",
       "      <th id=\"T_91b22_level0_row11\" class=\"row_heading level0 row11\" >SD</th>\n",
       "      <td id=\"T_91b22_row11_col0\" class=\"data row11 col0\" >0.0008</td>\n",
       "      <td id=\"T_91b22_row11_col1\" class=\"data row11 col1\" >0.0270</td>\n",
       "      <td id=\"T_91b22_row11_col2\" class=\"data row11 col2\" >0.0007</td>\n",
       "      <td id=\"T_91b22_row11_col3\" class=\"data row11 col3\" >0.0008</td>\n",
       "      <td id=\"T_91b22_row11_col4\" class=\"data row11 col4\" >0.0004</td>\n",
       "      <td id=\"T_91b22_row11_col5\" class=\"data row11 col5\" >0.0242</td>\n",
       "      <td id=\"T_91b22_row11_col6\" class=\"data row11 col6\" >0.0305</td>\n",
       "    </tr>\n",
       "  </tbody>\n",
       "</table>\n"
      ],
      "text/plain": [
       "<pandas.io.formats.style.Styler at 0x7ff5dbf763d0>"
      ]
     },
     "metadata": {},
     "output_type": "display_data"
    }
   ],
   "source": [
    "final_model = create_model(best_model)\n",
    "new_retention_model = finalize_model(final_model)"
   ]
  },
  {
   "cell_type": "markdown",
   "metadata": {},
   "source": [
    "### Let's also load the model used in retention for production:"
   ]
  },
  {
   "cell_type": "code",
   "execution_count": 23,
   "metadata": {},
   "outputs": [
    {
     "name": "stdout",
     "output_type": "stream",
     "text": [
      "Transformation Pipeline and Model Successfully Loaded\n"
     ]
    }
   ],
   "source": [
    "prod_retention_model = load_model(\"./models/model\")"
   ]
  },
  {
   "cell_type": "markdown",
   "metadata": {},
   "source": [
    "### Let's use the new and existing model to make predictions on the 2022 season:"
   ]
  },
  {
   "cell_type": "code",
   "execution_count": 24,
   "metadata": {},
   "outputs": [],
   "source": [
    "inference_data = pd.read_csv(\"./data/inference_data.csv\")\n",
    "inference_data.columns = ['attendancePercent', 'clientcode', 'dimCustomerMasterId', 'distToVenue', 'isNextYear_Buyer', 'lkupclientid',\n",
    "                          'missed_games_1', 'missed_games_2', 'missed_games_over_2', 'productGrouping', 'recency', 'recentDate',\n",
    "                          'renewedBeforeDays', 'source_tenure', 'totalSpent', 'year']\n",
    "\n",
    "inference_data = inference_data.loc[inference_data['lkupclientid']==95]"
   ]
  },
  {
   "cell_type": "code",
   "execution_count": 25,
   "metadata": {},
   "outputs": [
    {
     "data": {
      "text/plain": [
       "2021    18274\n",
       "Name: year, dtype: int64"
      ]
     },
     "execution_count": 25,
     "metadata": {},
     "output_type": "execute_result"
    }
   ],
   "source": [
    "inference_data[\"year\"].value_counts()"
   ]
  },
  {
   "cell_type": "markdown",
   "metadata": {},
   "source": [
    "### Let's use our model to make predictions on the inference data:"
   ]
  },
  {
   "cell_type": "code",
   "execution_count": 26,
   "metadata": {},
   "outputs": [],
   "source": [
    "df_new_predictions = predict_model(new_retention_model, data=inference_data, raw_score=True)\n",
    "df_prod_predictions = predict_model(prod_retention_model, data=inference_data, raw_score=True)"
   ]
  },
  {
   "cell_type": "code",
   "execution_count": 27,
   "metadata": {},
   "outputs": [
    {
     "data": {
      "text/html": [
       "<div>\n",
       "<style scoped>\n",
       "    .dataframe tbody tr th:only-of-type {\n",
       "        vertical-align: middle;\n",
       "    }\n",
       "\n",
       "    .dataframe tbody tr th {\n",
       "        vertical-align: top;\n",
       "    }\n",
       "\n",
       "    .dataframe thead th {\n",
       "        text-align: right;\n",
       "    }\n",
       "</style>\n",
       "<table border=\"1\" class=\"dataframe\">\n",
       "  <thead>\n",
       "    <tr style=\"text-align: right;\">\n",
       "      <th></th>\n",
       "      <th>attendancePercent</th>\n",
       "      <th>clientcode</th>\n",
       "      <th>dimCustomerMasterId</th>\n",
       "      <th>distToVenue</th>\n",
       "      <th>isNextYear_Buyer</th>\n",
       "      <th>lkupclientid</th>\n",
       "      <th>missed_games_1</th>\n",
       "      <th>missed_games_2</th>\n",
       "      <th>missed_games_over_2</th>\n",
       "      <th>productGrouping</th>\n",
       "      <th>recency</th>\n",
       "      <th>recentDate</th>\n",
       "      <th>renewedBeforeDays</th>\n",
       "      <th>source_tenure</th>\n",
       "      <th>totalSpent</th>\n",
       "      <th>year</th>\n",
       "      <th>Label</th>\n",
       "      <th>Score_0</th>\n",
       "      <th>Score_1</th>\n",
       "    </tr>\n",
       "  </thead>\n",
       "  <tbody>\n",
       "    <tr>\n",
       "      <th>0</th>\n",
       "      <td>0.000000</td>\n",
       "      <td>NFL49ERS</td>\n",
       "      <td>1304</td>\n",
       "      <td>0</td>\n",
       "      <td>1</td>\n",
       "      <td>95</td>\n",
       "      <td>0</td>\n",
       "      <td>0</td>\n",
       "      <td>1</td>\n",
       "      <td>Full Season</td>\n",
       "      <td>0</td>\n",
       "      <td>1970-01-01</td>\n",
       "      <td>104</td>\n",
       "      <td>2920</td>\n",
       "      <td>13600.0</td>\n",
       "      <td>2021</td>\n",
       "      <td>1</td>\n",
       "      <td>0.1462</td>\n",
       "      <td>0.8538</td>\n",
       "    </tr>\n",
       "    <tr>\n",
       "      <th>1</th>\n",
       "      <td>0.722222</td>\n",
       "      <td>NFL49ERS</td>\n",
       "      <td>1361</td>\n",
       "      <td>0</td>\n",
       "      <td>1</td>\n",
       "      <td>95</td>\n",
       "      <td>1</td>\n",
       "      <td>1</td>\n",
       "      <td>0</td>\n",
       "      <td>Full Season</td>\n",
       "      <td>0</td>\n",
       "      <td>2022-01-02</td>\n",
       "      <td>104</td>\n",
       "      <td>3650</td>\n",
       "      <td>4500.0</td>\n",
       "      <td>2021</td>\n",
       "      <td>1</td>\n",
       "      <td>0.0393</td>\n",
       "      <td>0.9607</td>\n",
       "    </tr>\n",
       "    <tr>\n",
       "      <th>2</th>\n",
       "      <td>0.000000</td>\n",
       "      <td>NFL49ERS</td>\n",
       "      <td>1392</td>\n",
       "      <td>0</td>\n",
       "      <td>1</td>\n",
       "      <td>95</td>\n",
       "      <td>0</td>\n",
       "      <td>0</td>\n",
       "      <td>1</td>\n",
       "      <td>Full Season</td>\n",
       "      <td>0</td>\n",
       "      <td>1970-01-01</td>\n",
       "      <td>104</td>\n",
       "      <td>2555</td>\n",
       "      <td>26600.0</td>\n",
       "      <td>2021</td>\n",
       "      <td>1</td>\n",
       "      <td>0.1794</td>\n",
       "      <td>0.8206</td>\n",
       "    </tr>\n",
       "    <tr>\n",
       "      <th>3</th>\n",
       "      <td>0.555556</td>\n",
       "      <td>NFL49ERS</td>\n",
       "      <td>1403</td>\n",
       "      <td>0</td>\n",
       "      <td>1</td>\n",
       "      <td>95</td>\n",
       "      <td>1</td>\n",
       "      <td>2</td>\n",
       "      <td>0</td>\n",
       "      <td>Full Season</td>\n",
       "      <td>0</td>\n",
       "      <td>2022-01-02</td>\n",
       "      <td>104</td>\n",
       "      <td>6205</td>\n",
       "      <td>7800.0</td>\n",
       "      <td>2021</td>\n",
       "      <td>1</td>\n",
       "      <td>0.0182</td>\n",
       "      <td>0.9818</td>\n",
       "    </tr>\n",
       "    <tr>\n",
       "      <th>4</th>\n",
       "      <td>0.000000</td>\n",
       "      <td>NFL49ERS</td>\n",
       "      <td>1412</td>\n",
       "      <td>0</td>\n",
       "      <td>0</td>\n",
       "      <td>95</td>\n",
       "      <td>0</td>\n",
       "      <td>0</td>\n",
       "      <td>1</td>\n",
       "      <td>Full Season</td>\n",
       "      <td>0</td>\n",
       "      <td>1970-01-01</td>\n",
       "      <td>147</td>\n",
       "      <td>2920</td>\n",
       "      <td>2416.0</td>\n",
       "      <td>2021</td>\n",
       "      <td>1</td>\n",
       "      <td>0.1732</td>\n",
       "      <td>0.8268</td>\n",
       "    </tr>\n",
       "  </tbody>\n",
       "</table>\n",
       "</div>"
      ],
      "text/plain": [
       "   attendancePercent clientcode  dimCustomerMasterId  distToVenue  \\\n",
       "0           0.000000   NFL49ERS                 1304            0   \n",
       "1           0.722222   NFL49ERS                 1361            0   \n",
       "2           0.000000   NFL49ERS                 1392            0   \n",
       "3           0.555556   NFL49ERS                 1403            0   \n",
       "4           0.000000   NFL49ERS                 1412            0   \n",
       "\n",
       "   isNextYear_Buyer  lkupclientid  missed_games_1  missed_games_2  \\\n",
       "0                 1            95               0               0   \n",
       "1                 1            95               1               1   \n",
       "2                 1            95               0               0   \n",
       "3                 1            95               1               2   \n",
       "4                 0            95               0               0   \n",
       "\n",
       "   missed_games_over_2 productGrouping  recency  recentDate  \\\n",
       "0                    1     Full Season        0  1970-01-01   \n",
       "1                    0     Full Season        0  2022-01-02   \n",
       "2                    1     Full Season        0  1970-01-01   \n",
       "3                    0     Full Season        0  2022-01-02   \n",
       "4                    1     Full Season        0  1970-01-01   \n",
       "\n",
       "   renewedBeforeDays  source_tenure  totalSpent  year  Label  Score_0  Score_1  \n",
       "0                104           2920     13600.0  2021      1   0.1462   0.8538  \n",
       "1                104           3650      4500.0  2021      1   0.0393   0.9607  \n",
       "2                104           2555     26600.0  2021      1   0.1794   0.8206  \n",
       "3                104           6205      7800.0  2021      1   0.0182   0.9818  \n",
       "4                147           2920      2416.0  2021      1   0.1732   0.8268  "
      ]
     },
     "execution_count": 27,
     "metadata": {},
     "output_type": "execute_result"
    }
   ],
   "source": [
    "df_new_predictions.head()"
   ]
  },
  {
   "cell_type": "markdown",
   "metadata": {},
   "source": [
    "### Let's visualize the data and see the prediction scores for fans that will renew:"
   ]
  },
  {
   "cell_type": "code",
   "execution_count": 28,
   "metadata": {},
   "outputs": [
    {
     "data": {
      "image/png": "[encoded data removed]",
      "text/plain": [
       "<Figure size 1440x396 with 2 Axes>"
      ]
     },
     "metadata": {},
     "output_type": "display_data"
    }
   ],
   "source": [
    "fig, (ax1, ax2) = plt.subplots(1, 2)\n",
    "fig.suptitle('Retention Scores')\n",
    "ax1.hist(df_new_predictions['Score_1'], bins=20, edgecolor='black', color='dodgerblue')\n",
    "ax2.hist(df_prod_predictions['Score_1'], bins=20, edgecolor='black', color='dodgerblue')\n",
    "ax1.set_xlabel('New Model')\n",
    "ax2.set_xlabel('Prod Model')\n",
    "\n",
    "fig.figure.set_figwidth(20)"
   ]
  },
  {
   "cell_type": "markdown",
   "metadata": {},
   "source": [
    "### We can also generate a report to do some exploratory data analysis on our training dataset:"
   ]
  },
  {
   "cell_type": "code",
   "execution_count": null,
   "metadata": {},
   "outputs": [],
   "source": [
    "#profile = ProfileReport(df_train, minimal=True)\n",
    "#profile.to_file(\"pandas-profile-report-2018.html\")"
   ]
  }
 ],
 "metadata": {
  "kernelspec": {
   "display_name": "Python 3.8.5 ('stellar')",
   "language": "python",
   "name": "python3"
  },
  "language_info": {
   "codemirror_mode": {
    "name": "ipython",
    "version": 3
   },
   "file_extension": ".py",
   "mimetype": "text/x-python",
   "name": "python",
   "nbconvert_exporter": "python",
   "pygments_lexer": "ipython3",
   "version": "3.8.5"
  },
  "orig_nbformat": 4,
  "vscode": {
   "interpreter": {
    "hash": "89f48dadab51a6b5b48ffc1a9e043c21cefe67453637c3444f3b86917b8aad16"
   }
  }
 },
 "nbformat": 4,
 "nbformat_minor": 2
}
