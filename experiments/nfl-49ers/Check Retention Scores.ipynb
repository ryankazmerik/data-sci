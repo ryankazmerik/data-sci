{
 "cells": [
  {
   "cell_type": "markdown",
   "metadata": {},
   "source": [
    "# NFL 49ers - Check Retention Scores\n",
    "* StellarAlgo Data Science\n",
    "* Grant Donst\n",
    "* Aug 23, 2022"
   ]
  },
  {
   "cell_type": "code",
   "execution_count": 250,
   "metadata": {},
   "outputs": [],
   "source": [
    "import pandas as pd\n",
    "\n",
    "import matplotlib.pyplot as plt\n",
    "\n",
    "from pandas_profiling import ProfileReport\n",
    "from pycaret.classification import *"
   ]
  },
  {
   "cell_type": "markdown",
   "metadata": {},
   "source": [
    "### Let's grab the training and eval datasets:"
   ]
  },
  {
   "cell_type": "code",
   "execution_count": 251,
   "metadata": {},
   "outputs": [],
   "source": [
    "df_train = pd.read_csv(\"./data/train.csv\")\n",
    "df_eval = pd.read_csv(\"./data/eval.csv\")"
   ]
  },
  {
   "cell_type": "code",
   "execution_count": 252,
   "metadata": {},
   "outputs": [],
   "source": [
    "df_train = pd.concat([df_train, df_eval])"
   ]
  },
  {
   "cell_type": "code",
   "execution_count": 253,
   "metadata": {},
   "outputs": [],
   "source": [
    "df_train = df_train[df_train[\"year\"] <= 2018]"
   ]
  },
  {
   "cell_type": "code",
   "execution_count": 254,
   "metadata": {},
   "outputs": [
    {
     "data": {
      "text/html": [
       "<div>\n",
       "<style scoped>\n",
       "    .dataframe tbody tr th:only-of-type {\n",
       "        vertical-align: middle;\n",
       "    }\n",
       "\n",
       "    .dataframe tbody tr th {\n",
       "        vertical-align: top;\n",
       "    }\n",
       "\n",
       "    .dataframe thead th {\n",
       "        text-align: right;\n",
       "    }\n",
       "</style>\n",
       "<table border=\"1\" class=\"dataframe\">\n",
       "  <thead>\n",
       "    <tr style=\"text-align: right;\">\n",
       "      <th></th>\n",
       "      <th>attendancePercent</th>\n",
       "      <th>clientcode</th>\n",
       "      <th>dimCustomerMasterId</th>\n",
       "      <th>distToVenue</th>\n",
       "      <th>isNextYear_Buyer</th>\n",
       "      <th>lkupclientid</th>\n",
       "      <th>missed_games_1</th>\n",
       "      <th>missed_games_2</th>\n",
       "      <th>missed_games_over_2</th>\n",
       "      <th>productGrouping</th>\n",
       "      <th>recency</th>\n",
       "      <th>recentDate</th>\n",
       "      <th>renewedBeforeDays</th>\n",
       "      <th>source_tenure</th>\n",
       "      <th>totalSpent</th>\n",
       "      <th>year</th>\n",
       "    </tr>\n",
       "  </thead>\n",
       "  <tbody>\n",
       "    <tr>\n",
       "      <th>0</th>\n",
       "      <td>0.000000</td>\n",
       "      <td>NFL49ERS</td>\n",
       "      <td>47462</td>\n",
       "      <td>0</td>\n",
       "      <td>0</td>\n",
       "      <td>95</td>\n",
       "      <td>0</td>\n",
       "      <td>0</td>\n",
       "      <td>1</td>\n",
       "      <td>Full Season</td>\n",
       "      <td>0</td>\n",
       "      <td>1970-01-01</td>\n",
       "      <td>203</td>\n",
       "      <td>5475</td>\n",
       "      <td>3000.0</td>\n",
       "      <td>2018</td>\n",
       "    </tr>\n",
       "    <tr>\n",
       "      <th>1</th>\n",
       "      <td>0.000000</td>\n",
       "      <td>NFL49ERS</td>\n",
       "      <td>194216</td>\n",
       "      <td>0</td>\n",
       "      <td>1</td>\n",
       "      <td>95</td>\n",
       "      <td>0</td>\n",
       "      <td>0</td>\n",
       "      <td>1</td>\n",
       "      <td>Full Season</td>\n",
       "      <td>0</td>\n",
       "      <td>1970-01-01</td>\n",
       "      <td>203</td>\n",
       "      <td>3650</td>\n",
       "      <td>13000.0</td>\n",
       "      <td>2018</td>\n",
       "    </tr>\n",
       "    <tr>\n",
       "      <th>2</th>\n",
       "      <td>0.777778</td>\n",
       "      <td>NFL49ERS</td>\n",
       "      <td>49589</td>\n",
       "      <td>0</td>\n",
       "      <td>1</td>\n",
       "      <td>95</td>\n",
       "      <td>1</td>\n",
       "      <td>1</td>\n",
       "      <td>0</td>\n",
       "      <td>Full Season</td>\n",
       "      <td>0</td>\n",
       "      <td>2018-12-23</td>\n",
       "      <td>203</td>\n",
       "      <td>5840</td>\n",
       "      <td>3000.0</td>\n",
       "      <td>2018</td>\n",
       "    </tr>\n",
       "    <tr>\n",
       "      <th>3</th>\n",
       "      <td>0.222222</td>\n",
       "      <td>NFL49ERS</td>\n",
       "      <td>305558</td>\n",
       "      <td>0</td>\n",
       "      <td>1</td>\n",
       "      <td>95</td>\n",
       "      <td>0</td>\n",
       "      <td>0</td>\n",
       "      <td>2</td>\n",
       "      <td>Full Season</td>\n",
       "      <td>5</td>\n",
       "      <td>2018-12-23</td>\n",
       "      <td>203</td>\n",
       "      <td>3650</td>\n",
       "      <td>1700.0</td>\n",
       "      <td>2018</td>\n",
       "    </tr>\n",
       "    <tr>\n",
       "      <th>4</th>\n",
       "      <td>0.400000</td>\n",
       "      <td>NFL49ERS</td>\n",
       "      <td>61243734</td>\n",
       "      <td>0</td>\n",
       "      <td>0</td>\n",
       "      <td>95</td>\n",
       "      <td>3</td>\n",
       "      <td>0</td>\n",
       "      <td>0</td>\n",
       "      <td>Full Season</td>\n",
       "      <td>1</td>\n",
       "      <td>2018-10-07</td>\n",
       "      <td>61</td>\n",
       "      <td>3285</td>\n",
       "      <td>650.0</td>\n",
       "      <td>2018</td>\n",
       "    </tr>\n",
       "    <tr>\n",
       "      <th>...</th>\n",
       "      <td>...</td>\n",
       "      <td>...</td>\n",
       "      <td>...</td>\n",
       "      <td>...</td>\n",
       "      <td>...</td>\n",
       "      <td>...</td>\n",
       "      <td>...</td>\n",
       "      <td>...</td>\n",
       "      <td>...</td>\n",
       "      <td>...</td>\n",
       "      <td>...</td>\n",
       "      <td>...</td>\n",
       "      <td>...</td>\n",
       "      <td>...</td>\n",
       "      <td>...</td>\n",
       "      <td>...</td>\n",
       "    </tr>\n",
       "    <tr>\n",
       "      <th>187</th>\n",
       "      <td>0.888889</td>\n",
       "      <td>NFL49ERS</td>\n",
       "      <td>280832</td>\n",
       "      <td>0</td>\n",
       "      <td>1</td>\n",
       "      <td>95</td>\n",
       "      <td>1</td>\n",
       "      <td>0</td>\n",
       "      <td>0</td>\n",
       "      <td>Full Season</td>\n",
       "      <td>0</td>\n",
       "      <td>2018-12-16</td>\n",
       "      <td>203</td>\n",
       "      <td>2555</td>\n",
       "      <td>2500.0</td>\n",
       "      <td>2018</td>\n",
       "    </tr>\n",
       "    <tr>\n",
       "      <th>188</th>\n",
       "      <td>0.777778</td>\n",
       "      <td>NFL49ERS</td>\n",
       "      <td>361036</td>\n",
       "      <td>0</td>\n",
       "      <td>1</td>\n",
       "      <td>95</td>\n",
       "      <td>1</td>\n",
       "      <td>1</td>\n",
       "      <td>0</td>\n",
       "      <td>Full Season</td>\n",
       "      <td>0</td>\n",
       "      <td>2018-12-23</td>\n",
       "      <td>203</td>\n",
       "      <td>17520</td>\n",
       "      <td>1900.0</td>\n",
       "      <td>2018</td>\n",
       "    </tr>\n",
       "    <tr>\n",
       "      <th>189</th>\n",
       "      <td>0.277778</td>\n",
       "      <td>NFL49ERS</td>\n",
       "      <td>60953</td>\n",
       "      <td>0</td>\n",
       "      <td>1</td>\n",
       "      <td>95</td>\n",
       "      <td>1</td>\n",
       "      <td>0</td>\n",
       "      <td>1</td>\n",
       "      <td>Full Season</td>\n",
       "      <td>1</td>\n",
       "      <td>2018-12-23</td>\n",
       "      <td>203</td>\n",
       "      <td>3285</td>\n",
       "      <td>3000.0</td>\n",
       "      <td>2018</td>\n",
       "    </tr>\n",
       "    <tr>\n",
       "      <th>190</th>\n",
       "      <td>0.208333</td>\n",
       "      <td>NFL49ERS</td>\n",
       "      <td>61282574</td>\n",
       "      <td>0</td>\n",
       "      <td>1</td>\n",
       "      <td>95</td>\n",
       "      <td>0</td>\n",
       "      <td>0</td>\n",
       "      <td>1</td>\n",
       "      <td>Full Season</td>\n",
       "      <td>2</td>\n",
       "      <td>2018-11-12</td>\n",
       "      <td>203</td>\n",
       "      <td>3650</td>\n",
       "      <td>10000.0</td>\n",
       "      <td>2018</td>\n",
       "    </tr>\n",
       "    <tr>\n",
       "      <th>194</th>\n",
       "      <td>0.000000</td>\n",
       "      <td>NFL49ERS</td>\n",
       "      <td>61437546</td>\n",
       "      <td>0</td>\n",
       "      <td>1</td>\n",
       "      <td>95</td>\n",
       "      <td>0</td>\n",
       "      <td>0</td>\n",
       "      <td>1</td>\n",
       "      <td>Full Season</td>\n",
       "      <td>0</td>\n",
       "      <td>1970-01-01</td>\n",
       "      <td>202</td>\n",
       "      <td>3285</td>\n",
       "      <td>2500.0</td>\n",
       "      <td>2018</td>\n",
       "    </tr>\n",
       "  </tbody>\n",
       "</table>\n",
       "<p>100 rows × 16 columns</p>\n",
       "</div>"
      ],
      "text/plain": [
       "     attendancePercent clientcode  dimCustomerMasterId  distToVenue  \\\n",
       "0             0.000000   NFL49ERS                47462            0   \n",
       "1             0.000000   NFL49ERS               194216            0   \n",
       "2             0.777778   NFL49ERS                49589            0   \n",
       "3             0.222222   NFL49ERS               305558            0   \n",
       "4             0.400000   NFL49ERS             61243734            0   \n",
       "..                 ...        ...                  ...          ...   \n",
       "187           0.888889   NFL49ERS               280832            0   \n",
       "188           0.777778   NFL49ERS               361036            0   \n",
       "189           0.277778   NFL49ERS                60953            0   \n",
       "190           0.208333   NFL49ERS             61282574            0   \n",
       "194           0.000000   NFL49ERS             61437546            0   \n",
       "\n",
       "     isNextYear_Buyer  lkupclientid  missed_games_1  missed_games_2  \\\n",
       "0                   0            95               0               0   \n",
       "1                   1            95               0               0   \n",
       "2                   1            95               1               1   \n",
       "3                   1            95               0               0   \n",
       "4                   0            95               3               0   \n",
       "..                ...           ...             ...             ...   \n",
       "187                 1            95               1               0   \n",
       "188                 1            95               1               1   \n",
       "189                 1            95               1               0   \n",
       "190                 1            95               0               0   \n",
       "194                 1            95               0               0   \n",
       "\n",
       "     missed_games_over_2 productGrouping  recency  recentDate  \\\n",
       "0                      1     Full Season        0  1970-01-01   \n",
       "1                      1     Full Season        0  1970-01-01   \n",
       "2                      0     Full Season        0  2018-12-23   \n",
       "3                      2     Full Season        5  2018-12-23   \n",
       "4                      0     Full Season        1  2018-10-07   \n",
       "..                   ...             ...      ...         ...   \n",
       "187                    0     Full Season        0  2018-12-16   \n",
       "188                    0     Full Season        0  2018-12-23   \n",
       "189                    1     Full Season        1  2018-12-23   \n",
       "190                    1     Full Season        2  2018-11-12   \n",
       "194                    1     Full Season        0  1970-01-01   \n",
       "\n",
       "     renewedBeforeDays  source_tenure  totalSpent  year  \n",
       "0                  203           5475      3000.0  2018  \n",
       "1                  203           3650     13000.0  2018  \n",
       "2                  203           5840      3000.0  2018  \n",
       "3                  203           3650      1700.0  2018  \n",
       "4                   61           3285       650.0  2018  \n",
       "..                 ...            ...         ...   ...  \n",
       "187                203           2555      2500.0  2018  \n",
       "188                203          17520      1900.0  2018  \n",
       "189                203           3285      3000.0  2018  \n",
       "190                203           3650     10000.0  2018  \n",
       "194                202           3285      2500.0  2018  \n",
       "\n",
       "[100 rows x 16 columns]"
      ]
     },
     "execution_count": 254,
     "metadata": {},
     "output_type": "execute_result"
    }
   ],
   "source": [
    "df_train.head(100)"
   ]
  },
  {
   "cell_type": "code",
   "execution_count": 255,
   "metadata": {},
   "outputs": [
    {
     "data": {
      "text/plain": [
       "2018    18179\n",
       "Name: year, dtype: int64"
      ]
     },
     "execution_count": 255,
     "metadata": {},
     "output_type": "execute_result"
    }
   ],
   "source": [
    "df_train[\"year\"].value_counts()"
   ]
  },
  {
   "cell_type": "markdown",
   "metadata": {},
   "source": [
    "### Let's set up our new model:"
   ]
  },
  {
   "cell_type": "code",
   "execution_count": 256,
   "metadata": {},
   "outputs": [
    {
     "data": {
      "text/html": [
       "<style type=\"text/css\">\n",
       "#T_ca53e th {\n",
       "  text-align: left;\n",
       "}\n",
       "#T_ca53e_row0_col0 {\n",
       "  text-align: left;\n",
       "}\n",
       "#T_ca53e_row0_col1, #T_ca53e_row0_col2, #T_ca53e_row0_col3, #T_ca53e_row0_col4, #T_ca53e_row0_col5, #T_ca53e_row0_col6, #T_ca53e_row0_col7 {\n",
       "  text-align: left;\n",
       "  background-color: yellow;\n",
       "}\n",
       "#T_ca53e_row0_col8 {\n",
       "  text-align: left;\n",
       "  background-color: yellow;\n",
       "  background-color: lightgrey;\n",
       "}\n",
       "</style>\n",
       "<table id=\"T_ca53e\">\n",
       "  <thead>\n",
       "    <tr>\n",
       "      <th class=\"blank level0\" >&nbsp;</th>\n",
       "      <th id=\"T_ca53e_level0_col0\" class=\"col_heading level0 col0\" >Model</th>\n",
       "      <th id=\"T_ca53e_level0_col1\" class=\"col_heading level0 col1\" >Accuracy</th>\n",
       "      <th id=\"T_ca53e_level0_col2\" class=\"col_heading level0 col2\" >AUC</th>\n",
       "      <th id=\"T_ca53e_level0_col3\" class=\"col_heading level0 col3\" >Recall</th>\n",
       "      <th id=\"T_ca53e_level0_col4\" class=\"col_heading level0 col4\" >Prec.</th>\n",
       "      <th id=\"T_ca53e_level0_col5\" class=\"col_heading level0 col5\" >F1</th>\n",
       "      <th id=\"T_ca53e_level0_col6\" class=\"col_heading level0 col6\" >Kappa</th>\n",
       "      <th id=\"T_ca53e_level0_col7\" class=\"col_heading level0 col7\" >MCC</th>\n",
       "      <th id=\"T_ca53e_level0_col8\" class=\"col_heading level0 col8\" >TT (Sec)</th>\n",
       "    </tr>\n",
       "  </thead>\n",
       "  <tbody>\n",
       "    <tr>\n",
       "      <th id=\"T_ca53e_level0_row0\" class=\"row_heading level0 row0\" >lightgbm</th>\n",
       "      <td id=\"T_ca53e_row0_col0\" class=\"data row0 col0\" >Light Gradient Boosting Machine</td>\n",
       "      <td id=\"T_ca53e_row0_col1\" class=\"data row0 col1\" >0.9441</td>\n",
       "      <td id=\"T_ca53e_row0_col2\" class=\"data row0 col2\" >0.6952</td>\n",
       "      <td id=\"T_ca53e_row0_col3\" class=\"data row0 col3\" >0.9977</td>\n",
       "      <td id=\"T_ca53e_row0_col4\" class=\"data row0 col4\" >0.9460</td>\n",
       "      <td id=\"T_ca53e_row0_col5\" class=\"data row0 col5\" >0.9711</td>\n",
       "      <td id=\"T_ca53e_row0_col6\" class=\"data row0 col6\" >0.1028</td>\n",
       "      <td id=\"T_ca53e_row0_col7\" class=\"data row0 col7\" >0.1829</td>\n",
       "      <td id=\"T_ca53e_row0_col8\" class=\"data row0 col8\" >0.0580</td>\n",
       "    </tr>\n",
       "  </tbody>\n",
       "</table>\n"
      ],
      "text/plain": [
       "<pandas.io.formats.style.Styler at 0x7faf273a46d0>"
      ]
     },
     "metadata": {},
     "output_type": "display_data"
    }
   ],
   "source": [
    "setup(\n",
    "    data= df_train, \n",
    "    target=\"isNextYear_Buyer\", \n",
    "    train_size = 0.85,\n",
    "    data_split_shuffle=True,\n",
    "    date_features=[\n",
    "        \"recentDate\"\n",
    "    ],\n",
    "    ignore_features=[\n",
    "        \"dimCustomerMasterId\",\n",
    "        \"productGrouping\",\n",
    "        \"year\"\n",
    "    ],\n",
    "    numeric_features=[\n",
    "        \"attendancePercent\", \n",
    "        \"distToVenue\",\n",
    "        \"missed_games_1\",\n",
    "        \"missed_games_2\",\n",
    "        \"missed_games_over_2\",\n",
    "        \"recency\",\n",
    "        \"renewedBeforeDays\",\n",
    "        \"source_tenure\",\n",
    "        \"totalSpent\"\n",
    "    ],\n",
    "    silent=True,\n",
    "    verbose=False\n",
    ");\n",
    "\n",
    "best_model = compare_models(\n",
    "    fold=10,\n",
    "    include=[\"lightgbm\"]\n",
    ")"
   ]
  },
  {
   "cell_type": "markdown",
   "metadata": {},
   "source": [
    "### Let's finalize our new model so it can be used to make predictions:"
   ]
  },
  {
   "cell_type": "code",
   "execution_count": 257,
   "metadata": {},
   "outputs": [
    {
     "data": {
      "text/html": [
       "<style type=\"text/css\">\n",
       "#T_b5840_row10_col0, #T_b5840_row10_col1, #T_b5840_row10_col2, #T_b5840_row10_col3, #T_b5840_row10_col4, #T_b5840_row10_col5, #T_b5840_row10_col6 {\n",
       "  background: yellow;\n",
       "}\n",
       "</style>\n",
       "<table id=\"T_b5840\">\n",
       "  <thead>\n",
       "    <tr>\n",
       "      <th class=\"blank level0\" >&nbsp;</th>\n",
       "      <th id=\"T_b5840_level0_col0\" class=\"col_heading level0 col0\" >Accuracy</th>\n",
       "      <th id=\"T_b5840_level0_col1\" class=\"col_heading level0 col1\" >AUC</th>\n",
       "      <th id=\"T_b5840_level0_col2\" class=\"col_heading level0 col2\" >Recall</th>\n",
       "      <th id=\"T_b5840_level0_col3\" class=\"col_heading level0 col3\" >Prec.</th>\n",
       "      <th id=\"T_b5840_level0_col4\" class=\"col_heading level0 col4\" >F1</th>\n",
       "      <th id=\"T_b5840_level0_col5\" class=\"col_heading level0 col5\" >Kappa</th>\n",
       "      <th id=\"T_b5840_level0_col6\" class=\"col_heading level0 col6\" >MCC</th>\n",
       "    </tr>\n",
       "    <tr>\n",
       "      <th class=\"index_name level0\" >Fold</th>\n",
       "      <th class=\"blank col0\" >&nbsp;</th>\n",
       "      <th class=\"blank col1\" >&nbsp;</th>\n",
       "      <th class=\"blank col2\" >&nbsp;</th>\n",
       "      <th class=\"blank col3\" >&nbsp;</th>\n",
       "      <th class=\"blank col4\" >&nbsp;</th>\n",
       "      <th class=\"blank col5\" >&nbsp;</th>\n",
       "      <th class=\"blank col6\" >&nbsp;</th>\n",
       "    </tr>\n",
       "  </thead>\n",
       "  <tbody>\n",
       "    <tr>\n",
       "      <th id=\"T_b5840_level0_row0\" class=\"row_heading level0 row0\" >0</th>\n",
       "      <td id=\"T_b5840_row0_col0\" class=\"data row0 col0\" >0.9431</td>\n",
       "      <td id=\"T_b5840_row0_col1\" class=\"data row0 col1\" >0.6975</td>\n",
       "      <td id=\"T_b5840_row0_col2\" class=\"data row0 col2\" >0.9979</td>\n",
       "      <td id=\"T_b5840_row0_col3\" class=\"data row0 col3\" >0.9448</td>\n",
       "      <td id=\"T_b5840_row0_col4\" class=\"data row0 col4\" >0.9706</td>\n",
       "      <td id=\"T_b5840_row0_col5\" class=\"data row0 col5\" >0.0756</td>\n",
       "      <td id=\"T_b5840_row0_col6\" class=\"data row0 col6\" >0.1488</td>\n",
       "    </tr>\n",
       "    <tr>\n",
       "      <th id=\"T_b5840_level0_row1\" class=\"row_heading level0 row1\" >1</th>\n",
       "      <td id=\"T_b5840_row1_col0\" class=\"data row1 col0\" >0.9431</td>\n",
       "      <td id=\"T_b5840_row1_col1\" class=\"data row1 col1\" >0.6732</td>\n",
       "      <td id=\"T_b5840_row1_col2\" class=\"data row1 col2\" >0.9993</td>\n",
       "      <td id=\"T_b5840_row1_col3\" class=\"data row1 col3\" >0.9436</td>\n",
       "      <td id=\"T_b5840_row1_col4\" class=\"data row1 col4\" >0.9707</td>\n",
       "      <td id=\"T_b5840_row1_col5\" class=\"data row1 col5\" >0.0399</td>\n",
       "      <td id=\"T_b5840_row1_col6\" class=\"data row1 col6\" >0.1153</td>\n",
       "    </tr>\n",
       "    <tr>\n",
       "      <th id=\"T_b5840_level0_row2\" class=\"row_heading level0 row2\" >2</th>\n",
       "      <td id=\"T_b5840_row2_col0\" class=\"data row2 col0\" >0.9443</td>\n",
       "      <td id=\"T_b5840_row2_col1\" class=\"data row2 col1\" >0.6965</td>\n",
       "      <td id=\"T_b5840_row2_col2\" class=\"data row2 col2\" >0.9973</td>\n",
       "      <td id=\"T_b5840_row2_col3\" class=\"data row2 col3\" >0.9466</td>\n",
       "      <td id=\"T_b5840_row2_col4\" class=\"data row2 col4\" >0.9713</td>\n",
       "      <td id=\"T_b5840_row2_col5\" class=\"data row2 col5\" >0.1121</td>\n",
       "      <td id=\"T_b5840_row2_col6\" class=\"data row2 col6\" >0.1891</td>\n",
       "    </tr>\n",
       "    <tr>\n",
       "      <th id=\"T_b5840_level0_row3\" class=\"row_heading level0 row3\" >3</th>\n",
       "      <td id=\"T_b5840_row3_col0\" class=\"data row3 col0\" >0.9476</td>\n",
       "      <td id=\"T_b5840_row3_col1\" class=\"data row3 col1\" >0.7286</td>\n",
       "      <td id=\"T_b5840_row3_col2\" class=\"data row3 col2\" >0.9986</td>\n",
       "      <td id=\"T_b5840_row3_col3\" class=\"data row3 col3\" >0.9485</td>\n",
       "      <td id=\"T_b5840_row3_col4\" class=\"data row3 col4\" >0.9729</td>\n",
       "      <td id=\"T_b5840_row3_col5\" class=\"data row3 col5\" >0.1713</td>\n",
       "      <td id=\"T_b5840_row3_col6\" class=\"data row3 col6\" >0.2781</td>\n",
       "    </tr>\n",
       "    <tr>\n",
       "      <th id=\"T_b5840_level0_row4\" class=\"row_heading level0 row4\" >4</th>\n",
       "      <td id=\"T_b5840_row4_col0\" class=\"data row4 col0\" >0.9463</td>\n",
       "      <td id=\"T_b5840_row4_col1\" class=\"data row4 col1\" >0.7437</td>\n",
       "      <td id=\"T_b5840_row4_col2\" class=\"data row4 col2\" >0.9986</td>\n",
       "      <td id=\"T_b5840_row4_col3\" class=\"data row4 col3\" >0.9473</td>\n",
       "      <td id=\"T_b5840_row4_col4\" class=\"data row4 col4\" >0.9723</td>\n",
       "      <td id=\"T_b5840_row4_col5\" class=\"data row4 col5\" >0.1352</td>\n",
       "      <td id=\"T_b5840_row4_col6\" class=\"data row4 col6\" >0.2381</td>\n",
       "    </tr>\n",
       "    <tr>\n",
       "      <th id=\"T_b5840_level0_row5\" class=\"row_heading level0 row5\" >5</th>\n",
       "      <td id=\"T_b5840_row5_col0\" class=\"data row5 col0\" >0.9437</td>\n",
       "      <td id=\"T_b5840_row5_col1\" class=\"data row5 col1\" >0.7344</td>\n",
       "      <td id=\"T_b5840_row5_col2\" class=\"data row5 col2\" >0.9986</td>\n",
       "      <td id=\"T_b5840_row5_col3\" class=\"data row5 col3\" >0.9448</td>\n",
       "      <td id=\"T_b5840_row5_col4\" class=\"data row5 col4\" >0.9710</td>\n",
       "      <td id=\"T_b5840_row5_col5\" class=\"data row5 col5\" >0.0588</td>\n",
       "      <td id=\"T_b5840_row5_col6\" class=\"data row5 col6\" >0.1335</td>\n",
       "    </tr>\n",
       "    <tr>\n",
       "      <th id=\"T_b5840_level0_row6\" class=\"row_heading level0 row6\" >6</th>\n",
       "      <td id=\"T_b5840_row6_col0\" class=\"data row6 col0\" >0.9456</td>\n",
       "      <td id=\"T_b5840_row6_col1\" class=\"data row6 col1\" >0.6832</td>\n",
       "      <td id=\"T_b5840_row6_col2\" class=\"data row6 col2\" >0.9986</td>\n",
       "      <td id=\"T_b5840_row6_col3\" class=\"data row6 col3\" >0.9466</td>\n",
       "      <td id=\"T_b5840_row6_col4\" class=\"data row6 col4\" >0.9719</td>\n",
       "      <td id=\"T_b5840_row6_col5\" class=\"data row6 col5\" >0.1166</td>\n",
       "      <td id=\"T_b5840_row6_col6\" class=\"data row6 col6\" >0.2157</td>\n",
       "    </tr>\n",
       "    <tr>\n",
       "      <th id=\"T_b5840_level0_row7\" class=\"row_heading level0 row7\" >7</th>\n",
       "      <td id=\"T_b5840_row7_col0\" class=\"data row7 col0\" >0.9417</td>\n",
       "      <td id=\"T_b5840_row7_col1\" class=\"data row7 col1\" >0.6195</td>\n",
       "      <td id=\"T_b5840_row7_col2\" class=\"data row7 col2\" >0.9966</td>\n",
       "      <td id=\"T_b5840_row7_col3\" class=\"data row7 col3\" >0.9447</td>\n",
       "      <td id=\"T_b5840_row7_col4\" class=\"data row7 col4\" >0.9699</td>\n",
       "      <td id=\"T_b5840_row7_col5\" class=\"data row7 col5\" >0.0718</td>\n",
       "      <td id=\"T_b5840_row7_col6\" class=\"data row7 col6\" >0.1271</td>\n",
       "    </tr>\n",
       "    <tr>\n",
       "      <th id=\"T_b5840_level0_row8\" class=\"row_heading level0 row8\" >8</th>\n",
       "      <td id=\"T_b5840_row8_col0\" class=\"data row8 col0\" >0.9450</td>\n",
       "      <td id=\"T_b5840_row8_col1\" class=\"data row8 col1\" >0.6827</td>\n",
       "      <td id=\"T_b5840_row8_col2\" class=\"data row8 col2\" >0.9979</td>\n",
       "      <td id=\"T_b5840_row8_col3\" class=\"data row8 col3\" >0.9466</td>\n",
       "      <td id=\"T_b5840_row8_col4\" class=\"data row8 col4\" >0.9716</td>\n",
       "      <td id=\"T_b5840_row8_col5\" class=\"data row8 col5\" >0.1313</td>\n",
       "      <td id=\"T_b5840_row8_col6\" class=\"data row8 col6\" >0.2225</td>\n",
       "    </tr>\n",
       "    <tr>\n",
       "      <th id=\"T_b5840_level0_row9\" class=\"row_heading level0 row9\" >9</th>\n",
       "      <td id=\"T_b5840_row9_col0\" class=\"data row9 col0\" >0.9405</td>\n",
       "      <td id=\"T_b5840_row9_col1\" class=\"data row9 col1\" >0.6925</td>\n",
       "      <td id=\"T_b5840_row9_col2\" class=\"data row9 col2\" >0.9931</td>\n",
       "      <td id=\"T_b5840_row9_col3\" class=\"data row9 col3\" >0.9463</td>\n",
       "      <td id=\"T_b5840_row9_col4\" class=\"data row9 col4\" >0.9692</td>\n",
       "      <td id=\"T_b5840_row9_col5\" class=\"data row9 col5\" >0.1157</td>\n",
       "      <td id=\"T_b5840_row9_col6\" class=\"data row9 col6\" >0.1603</td>\n",
       "    </tr>\n",
       "    <tr>\n",
       "      <th id=\"T_b5840_level0_row10\" class=\"row_heading level0 row10\" >Mean</th>\n",
       "      <td id=\"T_b5840_row10_col0\" class=\"data row10 col0\" >0.9441</td>\n",
       "      <td id=\"T_b5840_row10_col1\" class=\"data row10 col1\" >0.6952</td>\n",
       "      <td id=\"T_b5840_row10_col2\" class=\"data row10 col2\" >0.9977</td>\n",
       "      <td id=\"T_b5840_row10_col3\" class=\"data row10 col3\" >0.9460</td>\n",
       "      <td id=\"T_b5840_row10_col4\" class=\"data row10 col4\" >0.9711</td>\n",
       "      <td id=\"T_b5840_row10_col5\" class=\"data row10 col5\" >0.1028</td>\n",
       "      <td id=\"T_b5840_row10_col6\" class=\"data row10 col6\" >0.1829</td>\n",
       "    </tr>\n",
       "    <tr>\n",
       "      <th id=\"T_b5840_level0_row11\" class=\"row_heading level0 row11\" >Std</th>\n",
       "      <td id=\"T_b5840_row11_col0\" class=\"data row11 col0\" >0.0020</td>\n",
       "      <td id=\"T_b5840_row11_col1\" class=\"data row11 col1\" >0.0340</td>\n",
       "      <td id=\"T_b5840_row11_col2\" class=\"data row11 col2\" >0.0017</td>\n",
       "      <td id=\"T_b5840_row11_col3\" class=\"data row11 col3\" >0.0014</td>\n",
       "      <td id=\"T_b5840_row11_col4\" class=\"data row11 col4\" >0.0011</td>\n",
       "      <td id=\"T_b5840_row11_col5\" class=\"data row11 col5\" >0.0382</td>\n",
       "      <td id=\"T_b5840_row11_col6\" class=\"data row11 col6\" >0.0516</td>\n",
       "    </tr>\n",
       "  </tbody>\n",
       "</table>\n"
      ],
      "text/plain": [
       "<pandas.io.formats.style.Styler at 0x7faf1143c460>"
      ]
     },
     "metadata": {},
     "output_type": "display_data"
    }
   ],
   "source": [
    "final_model = create_model(best_model)\n",
    "new_retention_model = finalize_model(final_model)"
   ]
  },
  {
   "cell_type": "markdown",
   "metadata": {},
   "source": [
    "### Let's also load the model used in retention for production:"
   ]
  },
  {
   "cell_type": "code",
   "execution_count": 258,
   "metadata": {},
   "outputs": [
    {
     "name": "stdout",
     "output_type": "stream",
     "text": [
      "Transformation Pipeline and Model Successfully Loaded\n"
     ]
    }
   ],
   "source": [
    "prod_retention_model = load_model(\"./models/model\")"
   ]
  },
  {
   "cell_type": "markdown",
   "metadata": {},
   "source": [
    "### Let's use the new and existing model to make predictions on the 2022 season:"
   ]
  },
  {
   "cell_type": "code",
   "execution_count": 259,
   "metadata": {},
   "outputs": [],
   "source": [
    "inference_data = pd.read_csv(\"./data/inference_data.csv\")\n",
    "inference_data.columns = ['attendancePercent', 'clientcode', 'dimCustomerMasterId', 'distToVenue', 'isNextYear_Buyer', 'lkupclientid',\n",
    "                          'missed_games_1', 'missed_games_2', 'missed_games_over_2', 'productGrouping', 'recency', 'recentDate',\n",
    "                          'renewedBeforeDays', 'source_tenure', 'totalSpent', 'year']\n",
    "\n",
    "inference_data = inference_data.loc[inference_data['lkupclientid']==95]"
   ]
  },
  {
   "cell_type": "code",
   "execution_count": 260,
   "metadata": {},
   "outputs": [
    {
     "data": {
      "text/plain": [
       "2021    18274\n",
       "Name: year, dtype: int64"
      ]
     },
     "execution_count": 260,
     "metadata": {},
     "output_type": "execute_result"
    }
   ],
   "source": [
    "inference_data[\"year\"].value_counts()"
   ]
  },
  {
   "cell_type": "markdown",
   "metadata": {},
   "source": [
    "### Let's use our model to make predictions on the inference data:"
   ]
  },
  {
   "cell_type": "code",
   "execution_count": 261,
   "metadata": {},
   "outputs": [
    {
     "data": {
      "text/html": [
       "<style type=\"text/css\">\n",
       "</style>\n",
       "<table id=\"T_03d07\">\n",
       "  <thead>\n",
       "    <tr>\n",
       "      <th class=\"blank level0\" >&nbsp;</th>\n",
       "      <th id=\"T_03d07_level0_col0\" class=\"col_heading level0 col0\" >Model</th>\n",
       "      <th id=\"T_03d07_level0_col1\" class=\"col_heading level0 col1\" >Accuracy</th>\n",
       "      <th id=\"T_03d07_level0_col2\" class=\"col_heading level0 col2\" >AUC</th>\n",
       "      <th id=\"T_03d07_level0_col3\" class=\"col_heading level0 col3\" >Recall</th>\n",
       "      <th id=\"T_03d07_level0_col4\" class=\"col_heading level0 col4\" >Prec.</th>\n",
       "      <th id=\"T_03d07_level0_col5\" class=\"col_heading level0 col5\" >F1</th>\n",
       "      <th id=\"T_03d07_level0_col6\" class=\"col_heading level0 col6\" >Kappa</th>\n",
       "      <th id=\"T_03d07_level0_col7\" class=\"col_heading level0 col7\" >MCC</th>\n",
       "    </tr>\n",
       "  </thead>\n",
       "  <tbody>\n",
       "    <tr>\n",
       "      <th id=\"T_03d07_level0_row0\" class=\"row_heading level0 row0\" >0</th>\n",
       "      <td id=\"T_03d07_row0_col0\" class=\"data row0 col0\" >Light Gradient Boosting Machine</td>\n",
       "      <td id=\"T_03d07_row0_col1\" class=\"data row0 col1\" >0.9542</td>\n",
       "      <td id=\"T_03d07_row0_col2\" class=\"data row0 col2\" >0.6301</td>\n",
       "      <td id=\"T_03d07_row0_col3\" class=\"data row0 col3\" >0.9959</td>\n",
       "      <td id=\"T_03d07_row0_col4\" class=\"data row0 col4\" >0.9578</td>\n",
       "      <td id=\"T_03d07_row0_col5\" class=\"data row0 col5\" >0.9765</td>\n",
       "      <td id=\"T_03d07_row0_col6\" class=\"data row0 col6\" >0.1267</td>\n",
       "      <td id=\"T_03d07_row0_col7\" class=\"data row0 col7\" >0.1840</td>\n",
       "    </tr>\n",
       "  </tbody>\n",
       "</table>\n"
      ],
      "text/plain": [
       "<pandas.io.formats.style.Styler at 0x7faf27db8910>"
      ]
     },
     "metadata": {},
     "output_type": "display_data"
    },
    {
     "data": {
      "text/html": [
       "<style type=\"text/css\">\n",
       "</style>\n",
       "<table id=\"T_8dcdf\">\n",
       "  <thead>\n",
       "    <tr>\n",
       "      <th class=\"blank level0\" >&nbsp;</th>\n",
       "      <th id=\"T_8dcdf_level0_col0\" class=\"col_heading level0 col0\" >Model</th>\n",
       "      <th id=\"T_8dcdf_level0_col1\" class=\"col_heading level0 col1\" >Accuracy</th>\n",
       "      <th id=\"T_8dcdf_level0_col2\" class=\"col_heading level0 col2\" >AUC</th>\n",
       "      <th id=\"T_8dcdf_level0_col3\" class=\"col_heading level0 col3\" >Recall</th>\n",
       "      <th id=\"T_8dcdf_level0_col4\" class=\"col_heading level0 col4\" >Prec.</th>\n",
       "      <th id=\"T_8dcdf_level0_col5\" class=\"col_heading level0 col5\" >F1</th>\n",
       "      <th id=\"T_8dcdf_level0_col6\" class=\"col_heading level0 col6\" >Kappa</th>\n",
       "      <th id=\"T_8dcdf_level0_col7\" class=\"col_heading level0 col7\" >MCC</th>\n",
       "    </tr>\n",
       "  </thead>\n",
       "  <tbody>\n",
       "    <tr>\n",
       "      <th id=\"T_8dcdf_level0_row0\" class=\"row_heading level0 row0\" >0</th>\n",
       "      <td id=\"T_8dcdf_row0_col0\" class=\"data row0 col0\" >Light Gradient Boosting Machine</td>\n",
       "      <td id=\"T_8dcdf_row0_col1\" class=\"data row0 col1\" >0.2241</td>\n",
       "      <td id=\"T_8dcdf_row0_col2\" class=\"data row0 col2\" >0.5108</td>\n",
       "      <td id=\"T_8dcdf_row0_col3\" class=\"data row0 col3\" >0.1916</td>\n",
       "      <td id=\"T_8dcdf_row0_col4\" class=\"data row0 col4\" >0.9769</td>\n",
       "      <td id=\"T_8dcdf_row0_col5\" class=\"data row0 col5\" >0.3203</td>\n",
       "      <td id=\"T_8dcdf_row0_col6\" class=\"data row0 col6\" >0.0107</td>\n",
       "      <td id=\"T_8dcdf_row0_col7\" class=\"data row0 col7\" >0.0517</td>\n",
       "    </tr>\n",
       "  </tbody>\n",
       "</table>\n"
      ],
      "text/plain": [
       "<pandas.io.formats.style.Styler at 0x7faf27df05b0>"
      ]
     },
     "metadata": {},
     "output_type": "display_data"
    }
   ],
   "source": [
    "df_new_predictions = predict_model(new_retention_model, data=inference_data, raw_score=True)\n",
    "df_prod_predictions = predict_model(prod_retention_model, data=inference_data, raw_score=True)"
   ]
  },
  {
   "cell_type": "code",
   "execution_count": 262,
   "metadata": {},
   "outputs": [
    {
     "data": {
      "text/html": [
       "<div>\n",
       "<style scoped>\n",
       "    .dataframe tbody tr th:only-of-type {\n",
       "        vertical-align: middle;\n",
       "    }\n",
       "\n",
       "    .dataframe tbody tr th {\n",
       "        vertical-align: top;\n",
       "    }\n",
       "\n",
       "    .dataframe thead th {\n",
       "        text-align: right;\n",
       "    }\n",
       "</style>\n",
       "<table border=\"1\" class=\"dataframe\">\n",
       "  <thead>\n",
       "    <tr style=\"text-align: right;\">\n",
       "      <th></th>\n",
       "      <th>attendancePercent</th>\n",
       "      <th>clientcode</th>\n",
       "      <th>dimCustomerMasterId</th>\n",
       "      <th>distToVenue</th>\n",
       "      <th>isNextYear_Buyer</th>\n",
       "      <th>lkupclientid</th>\n",
       "      <th>missed_games_1</th>\n",
       "      <th>missed_games_2</th>\n",
       "      <th>missed_games_over_2</th>\n",
       "      <th>productGrouping</th>\n",
       "      <th>recency</th>\n",
       "      <th>recentDate</th>\n",
       "      <th>renewedBeforeDays</th>\n",
       "      <th>source_tenure</th>\n",
       "      <th>totalSpent</th>\n",
       "      <th>year</th>\n",
       "      <th>Label</th>\n",
       "      <th>Score_0</th>\n",
       "      <th>Score_1</th>\n",
       "    </tr>\n",
       "  </thead>\n",
       "  <tbody>\n",
       "    <tr>\n",
       "      <th>0</th>\n",
       "      <td>0.000000</td>\n",
       "      <td>NFL49ERS</td>\n",
       "      <td>1304</td>\n",
       "      <td>0</td>\n",
       "      <td>1</td>\n",
       "      <td>95</td>\n",
       "      <td>0</td>\n",
       "      <td>0</td>\n",
       "      <td>1</td>\n",
       "      <td>Full Season</td>\n",
       "      <td>0</td>\n",
       "      <td>1970-01-01</td>\n",
       "      <td>104</td>\n",
       "      <td>2920</td>\n",
       "      <td>13600.0</td>\n",
       "      <td>2021</td>\n",
       "      <td>1</td>\n",
       "      <td>0.0462</td>\n",
       "      <td>0.9538</td>\n",
       "    </tr>\n",
       "    <tr>\n",
       "      <th>1</th>\n",
       "      <td>0.722222</td>\n",
       "      <td>NFL49ERS</td>\n",
       "      <td>1361</td>\n",
       "      <td>0</td>\n",
       "      <td>1</td>\n",
       "      <td>95</td>\n",
       "      <td>1</td>\n",
       "      <td>1</td>\n",
       "      <td>0</td>\n",
       "      <td>Full Season</td>\n",
       "      <td>0</td>\n",
       "      <td>2022-01-02</td>\n",
       "      <td>104</td>\n",
       "      <td>3650</td>\n",
       "      <td>4500.0</td>\n",
       "      <td>2021</td>\n",
       "      <td>1</td>\n",
       "      <td>0.0618</td>\n",
       "      <td>0.9382</td>\n",
       "    </tr>\n",
       "    <tr>\n",
       "      <th>2</th>\n",
       "      <td>0.000000</td>\n",
       "      <td>NFL49ERS</td>\n",
       "      <td>1392</td>\n",
       "      <td>0</td>\n",
       "      <td>1</td>\n",
       "      <td>95</td>\n",
       "      <td>0</td>\n",
       "      <td>0</td>\n",
       "      <td>1</td>\n",
       "      <td>Full Season</td>\n",
       "      <td>0</td>\n",
       "      <td>1970-01-01</td>\n",
       "      <td>104</td>\n",
       "      <td>2555</td>\n",
       "      <td>26600.0</td>\n",
       "      <td>2021</td>\n",
       "      <td>1</td>\n",
       "      <td>0.1154</td>\n",
       "      <td>0.8846</td>\n",
       "    </tr>\n",
       "    <tr>\n",
       "      <th>3</th>\n",
       "      <td>0.555556</td>\n",
       "      <td>NFL49ERS</td>\n",
       "      <td>1403</td>\n",
       "      <td>0</td>\n",
       "      <td>1</td>\n",
       "      <td>95</td>\n",
       "      <td>1</td>\n",
       "      <td>2</td>\n",
       "      <td>0</td>\n",
       "      <td>Full Season</td>\n",
       "      <td>0</td>\n",
       "      <td>2022-01-02</td>\n",
       "      <td>104</td>\n",
       "      <td>6205</td>\n",
       "      <td>7800.0</td>\n",
       "      <td>2021</td>\n",
       "      <td>1</td>\n",
       "      <td>0.0102</td>\n",
       "      <td>0.9898</td>\n",
       "    </tr>\n",
       "    <tr>\n",
       "      <th>4</th>\n",
       "      <td>0.000000</td>\n",
       "      <td>NFL49ERS</td>\n",
       "      <td>1412</td>\n",
       "      <td>0</td>\n",
       "      <td>0</td>\n",
       "      <td>95</td>\n",
       "      <td>0</td>\n",
       "      <td>0</td>\n",
       "      <td>1</td>\n",
       "      <td>Full Season</td>\n",
       "      <td>0</td>\n",
       "      <td>1970-01-01</td>\n",
       "      <td>147</td>\n",
       "      <td>2920</td>\n",
       "      <td>2416.0</td>\n",
       "      <td>2021</td>\n",
       "      <td>1</td>\n",
       "      <td>0.1683</td>\n",
       "      <td>0.8317</td>\n",
       "    </tr>\n",
       "  </tbody>\n",
       "</table>\n",
       "</div>"
      ],
      "text/plain": [
       "   attendancePercent clientcode  dimCustomerMasterId  distToVenue  \\\n",
       "0           0.000000   NFL49ERS                 1304            0   \n",
       "1           0.722222   NFL49ERS                 1361            0   \n",
       "2           0.000000   NFL49ERS                 1392            0   \n",
       "3           0.555556   NFL49ERS                 1403            0   \n",
       "4           0.000000   NFL49ERS                 1412            0   \n",
       "\n",
       "   isNextYear_Buyer  lkupclientid  missed_games_1  missed_games_2  \\\n",
       "0                 1            95               0               0   \n",
       "1                 1            95               1               1   \n",
       "2                 1            95               0               0   \n",
       "3                 1            95               1               2   \n",
       "4                 0            95               0               0   \n",
       "\n",
       "   missed_games_over_2 productGrouping  recency  recentDate  \\\n",
       "0                    1     Full Season        0  1970-01-01   \n",
       "1                    0     Full Season        0  2022-01-02   \n",
       "2                    1     Full Season        0  1970-01-01   \n",
       "3                    0     Full Season        0  2022-01-02   \n",
       "4                    1     Full Season        0  1970-01-01   \n",
       "\n",
       "   renewedBeforeDays  source_tenure  totalSpent  year  Label  Score_0  Score_1  \n",
       "0                104           2920     13600.0  2021      1   0.0462   0.9538  \n",
       "1                104           3650      4500.0  2021      1   0.0618   0.9382  \n",
       "2                104           2555     26600.0  2021      1   0.1154   0.8846  \n",
       "3                104           6205      7800.0  2021      1   0.0102   0.9898  \n",
       "4                147           2920      2416.0  2021      1   0.1683   0.8317  "
      ]
     },
     "execution_count": 262,
     "metadata": {},
     "output_type": "execute_result"
    }
   ],
   "source": [
    "df_new_predictions.head()"
   ]
  },
  {
   "cell_type": "code",
   "execution_count": 263,
   "metadata": {},
   "outputs": [
    {
     "data": {
      "image/png": "[encoded data removed]",
      "text/plain": [
       "<Figure size 1440x396 with 2 Axes>"
      ]
     },
     "metadata": {},
     "output_type": "display_data"
    }
   ],
   "source": [
    "fig, (ax1, ax2) = plt.subplots(1, 2)\n",
    "fig.suptitle('Retention Scores')\n",
    "ax1.hist(df_new_predictions['Score_1'], bins=20, edgecolor='black', color='dodgerblue')\n",
    "ax2.hist(df_prod_predictions['Score_1'], bins=20, edgecolor='black', color='dodgerblue')\n",
    "ax1.set_xlabel('New Model')\n",
    "ax2.set_xlabel('Prod Model')\n",
    "\n",
    "fig.figure.set_figwidth(20)"
   ]
  },
  {
   "cell_type": "code",
   "execution_count": 264,
   "metadata": {},
   "outputs": [
    {
     "data": {
      "text/plain": [
       "0.8513    297\n",
       "0.8723    253\n",
       "0.8641    238\n",
       "0.8721    173\n",
       "0.9615    125\n",
       "         ... \n",
       "0.9992      1\n",
       "0.2662      1\n",
       "0.7535      1\n",
       "0.5878      1\n",
       "0.7206      1\n",
       "Name: Score_1, Length: 2643, dtype: int64"
      ]
     },
     "execution_count": 264,
     "metadata": {},
     "output_type": "execute_result"
    }
   ],
   "source": [
    "df_new_predictions[\"Score_1\"].value_counts()"
   ]
  },
  {
   "cell_type": "markdown",
   "metadata": {},
   "source": [
    "### There are a large number of fans in the 0 - 0.1 score bucket, let's run a pandas profile on the dataset to check data quality:"
   ]
  },
  {
   "cell_type": "code",
   "execution_count": 265,
   "metadata": {},
   "outputs": [],
   "source": [
    "df_low_scores = df_new_predictions[df_new_predictions[\"Score_1\"] <= 0.1]"
   ]
  },
  {
   "cell_type": "code",
   "execution_count": 266,
   "metadata": {},
   "outputs": [
    {
     "data": {
      "text/plain": [
       "(-0.009000000000000001, 0.8]    9605\n",
       "(0.8, 1.6]                      2480\n",
       "(1.6, 2.4]                      1941\n",
       "(2.4, 3.2]                      1203\n",
       "(5.6, 6.4]                      1035\n",
       "(3.2, 4.0]                       986\n",
       "(4.8, 5.6]                       653\n",
       "(7.2, 8.0]                       161\n",
       "(6.4, 7.2]                       115\n",
       "(4.0, 4.8]                         0\n",
       "Name: recency, dtype: int64"
      ]
     },
     "execution_count": 266,
     "metadata": {},
     "output_type": "execute_result"
    }
   ],
   "source": [
    "df_train[\"recency\"].value_counts(bins=10)"
   ]
  },
  {
   "cell_type": "code",
   "execution_count": 267,
   "metadata": {},
   "outputs": [
    {
     "data": {
      "text/plain": [
       "(0.0652, 0.0678]    2\n",
       "(0.0854, 0.088]     2\n",
       "(0.0526, 0.0551]    2\n",
       "(0.0703, 0.0728]    2\n",
       "(0.0414, 0.045]     1\n",
       "(0.088, 0.0905]     1\n",
       "(0.0804, 0.0829]    1\n",
       "(0.0778, 0.0804]    1\n",
       "(0.0728, 0.0753]    1\n",
       "(0.0905, 0.093]     1\n",
       "(0.0627, 0.0652]    1\n",
       "(0.0551, 0.0577]    1\n",
       "(0.0501, 0.0526]    1\n",
       "(0.045, 0.0476]     0\n",
       "(0.0602, 0.0627]    0\n",
       "(0.0753, 0.0778]    0\n",
       "(0.0577, 0.0602]    0\n",
       "(0.0829, 0.0854]    0\n",
       "(0.0476, 0.0501]    0\n",
       "(0.0678, 0.0703]    0\n",
       "Name: Score_1, dtype: int64"
      ]
     },
     "execution_count": 267,
     "metadata": {},
     "output_type": "execute_result"
    }
   ],
   "source": [
    "df_low_scores[\"Score_1\"].value_counts(bins=20)"
   ]
  },
  {
   "cell_type": "code",
   "execution_count": 268,
   "metadata": {},
   "outputs": [
    {
     "data": {
      "application/vnd.jupyter.widget-view+json": {
       "model_id": "825a6c58b5084c6ba8809069817411da",
       "version_major": 2,
       "version_minor": 0
      },
      "text/plain": [
       "Summarize dataset:   0%|          | 0/5 [00:00<?, ?it/s]"
      ]
     },
     "metadata": {},
     "output_type": "display_data"
    },
    {
     "data": {
      "application/vnd.jupyter.widget-view+json": {
       "model_id": "8133c3ac77604bbca1385bc4db9c6921",
       "version_major": 2,
       "version_minor": 0
      },
      "text/plain": [
       "Generate report structure:   0%|          | 0/1 [00:00<?, ?it/s]"
      ]
     },
     "metadata": {},
     "output_type": "display_data"
    },
    {
     "data": {
      "application/vnd.jupyter.widget-view+json": {
       "model_id": "911db7d9a58641c9824dfa2e0b001c44",
       "version_major": 2,
       "version_minor": 0
      },
      "text/plain": [
       "Render HTML:   0%|          | 0/1 [00:00<?, ?it/s]"
      ]
     },
     "metadata": {},
     "output_type": "display_data"
    },
    {
     "data": {
      "application/vnd.jupyter.widget-view+json": {
       "model_id": "e87b0153be0e4fb78b000ae4199dec1c",
       "version_major": 2,
       "version_minor": 0
      },
      "text/plain": [
       "Export report to file:   0%|          | 0/1 [00:00<?, ?it/s]"
      ]
     },
     "metadata": {},
     "output_type": "display_data"
    }
   ],
   "source": [
    "# generate a pandas profile report on the dataset\n",
    "profile = ProfileReport(df_train, minimal=True)\n",
    "profile.to_file(\"pandas-profile-report-2018.html\")"
   ]
  }
 ],
 "metadata": {
  "kernelspec": {
   "display_name": "Python 3.8.5 ('stellar')",
   "language": "python",
   "name": "python3"
  },
  "language_info": {
   "codemirror_mode": {
    "name": "ipython",
    "version": 3
   },
   "file_extension": ".py",
   "mimetype": "text/x-python",
   "name": "python",
   "nbconvert_exporter": "python",
   "pygments_lexer": "ipython3",
   "version": "3.8.5"
  },
  "orig_nbformat": 4,
  "vscode": {
   "interpreter": {
    "hash": "89f48dadab51a6b5b48ffc1a9e043c21cefe67453637c3444f3b86917b8aad16"
   }
  }
 },
 "nbformat": 4,
 "nbformat_minor": 2
}
