{
 "cells": [
  {
   "cell_type": "markdown",
   "id": "6ee08766-25fd-4da1-91b8-b0c3e74db588",
   "metadata": {},
   "source": [
    "# NHL Flames - Event Propensity Model\n",
    "* Ryan Kazmerik & Joey Lai\n",
    "* Oct 14, 2022"
   ]
  },
  {
   "cell_type": "markdown",
   "id": "39108c8d-2e9f-4759-ade2-83071038dc56",
   "metadata": {},
   "source": [
    "## Hypothesis\n",
    "Each team has different tier (or quality) of games, based on day of the week, time of the season, opponent, etc. We think that by using previous buyer behaviour we can make a prediction on whether the fan will purchase for the next game or not."
   ]
  },
  {
   "cell_type": "markdown",
   "id": "28142011-1f32-4cc7-816b-a6dae6f70c8c",
   "metadata": {},
   "source": [
    "## Experiment\n",
    "This section details our experiment including querying data, data transformations, feature selection and modelling."
   ]
  },
  {
   "cell_type": "code",
   "execution_count": null,
   "id": "4c533efd-600e-4bce-8203-faffbddfa700",
   "metadata": {},
   "outputs": [],
   "source": [
    "import matplotlib.pyplot as plt\n",
    "import pandas as pd\n",
    "import seaborn as sns\n",
    "\n",
    "from pycaret.classification import *\n",
    "from shared_utilities import helpers"
   ]
  },
  {
   "cell_type": "markdown",
   "id": "b64ae7d5-84af-4915-bd13-1dd9d17098a3",
   "metadata": {},
   "source": [
    "### Let's connect to RedShift and run a stored proc to get our dataset:"
   ]
  },
  {
   "cell_type": "code",
   "execution_count": null,
   "id": "89839df6",
   "metadata": {},
   "outputs": [],
   "source": [
    "CLUSTER = \"prod-app\"\n",
    "DATABASE = \"stlrflames\"\n",
    "LKUPCLIENTID = \"36\""
   ]
  },
  {
   "cell_type": "code",
   "execution_count": null,
   "id": "ae561eb4-f419-4d46-b5e0-12fac9b10db8",
   "metadata": {},
   "outputs": [],
   "source": [
    "df = helpers.get_event_propensity_training_dataset(\n",
    "    cluster=CLUSTER,\n",
    "    database=DATABASE,\n",
    "    lkupclientid=LKUPCLIENTID,\n",
    "    start_year=2010,\n",
    "    end_year=2021\n",
    ")\n",
    "\n",
    "df.shape"
   ]
  },
  {
   "cell_type": "code",
   "execution_count": null,
   "id": "11e97dcc-c69e-46c1-8dad-33f6291cb0c6",
   "metadata": {},
   "outputs": [],
   "source": [
    "df_train = df\n",
    "df_train.info()"
   ]
  },
  {
   "cell_type": "code",
   "execution_count": null,
   "id": "922b5fb8",
   "metadata": {},
   "outputs": [],
   "source": [
    "df_train.head()"
   ]
  },
  {
   "cell_type": "markdown",
   "id": "4f2da06d-9015-49fd-89b3-956c2ebf66e9",
   "metadata": {},
   "source": [
    "### Now we can model the data using a binary classification prediction for the target field to see how likely a customer is to purchase:"
   ]
  },
  {
   "cell_type": "code",
   "execution_count": null,
   "id": "23a69cdc-b3ec-48c8-9ce5-29f617779389",
   "metadata": {},
   "outputs": [],
   "source": [
    "setup(\n",
    "    data= df_train, \n",
    "    target=\"did_purchase\", \n",
    "    train_size = 0.90,\n",
    "    data_split_shuffle=True,\n",
    "    categorical_features=[\n",
    "        \"inmarket\"\n",
    "    ],\n",
    "    date_features=[\n",
    "        \"eventdate\"\n",
    "    ],\n",
    "    ignore_features=[\n",
    "        \"count_merchowned\",\n",
    "        \"dimcustomermasterid\",\n",
    "        \"eventname\",\n",
    "        \"inmarket\",\n",
    "        \"mindaysout\",\n",
    "        \"maxdaysout\"\n",
    "    ],\n",
    "    silent=True,\n",
    "    verbose=False,\n",
    "    numeric_features=[\n",
    "        \"distancetovenue\",\n",
    "        \"events_purchased\",\n",
    "        \"frequency_eventday\",\n",
    "        \"frequency_opponent\",\n",
    "        \"frequency_eventtime\",\n",
    "        \"recent_clickrate\",\n",
    "        \"recent_openrate\",\n",
    "        \"tenure\"\n",
    "    ]\n",
    ");"
   ]
  },
  {
   "cell_type": "code",
   "execution_count": null,
   "id": "ef2db9d2-02c2-45c0-b6bb-5cad42c373ce",
   "metadata": {},
   "outputs": [],
   "source": [
    "model_matrix = compare_models(\n",
    "    fold= 10, \n",
    "    include= [\"lr\"]\n",
    ")"
   ]
  },
  {
   "cell_type": "markdown",
   "id": "bd8b46ea-2635-4f43-9fa4-4fb40586862a",
   "metadata": {},
   "source": [
    "### The top model is performing well, so let's compare it against our test dataset:"
   ]
  },
  {
   "cell_type": "code",
   "execution_count": null,
   "id": "2d9f2842-6889-4554-b99b-1fc599d62028",
   "metadata": {},
   "outputs": [],
   "source": [
    "final_model = create_model(model_matrix, fold= 10)"
   ]
  },
  {
   "cell_type": "markdown",
   "id": "8f7ff47d-1958-4c98-a934-beabf075e331",
   "metadata": {},
   "source": [
    "### We can also see the correlation between the features and the target variable:"
   ]
  },
  {
   "cell_type": "code",
   "execution_count": null,
   "id": "21a7955c-67a9-4ddd-b30d-c59a9e54392d",
   "metadata": {
    "tags": []
   },
   "outputs": [],
   "source": [
    "cor = df.corr()\n",
    "\n",
    "df_correlated = df\n",
    "\n",
    "corr = df_correlated.corr()\n",
    "corr.style.background_gradient(cmap='coolwarm').set_precision(2)"
   ]
  },
  {
   "cell_type": "markdown",
   "id": "bfd81685-a338-4aa8-81ab-4a27d2199ee3",
   "metadata": {},
   "source": [
    "### This plot lists the most important features for a correct prediction (either Score_0 or Score_1) in the model:"
   ]
  },
  {
   "cell_type": "code",
   "execution_count": null,
   "id": "144bd27b-9798-4f8b-a3a3-95298d8e2c01",
   "metadata": {},
   "outputs": [],
   "source": [
    "plot_model(final_model, plot='feature')"
   ]
  },
  {
   "cell_type": "markdown",
   "id": "5d46726c-5565-4efb-bca4-40cfa86806ab",
   "metadata": {},
   "source": [
    "### This confusion matrix helps understand where the model guessed correctly or incorrectly based on the evaluation data:"
   ]
  },
  {
   "cell_type": "code",
   "execution_count": null,
   "id": "79e34840-9a47-486f-a648-6d5d16d73b89",
   "metadata": {},
   "outputs": [],
   "source": [
    "plot_model(final_model, plot='confusion_matrix')"
   ]
  },
  {
   "cell_type": "markdown",
   "id": "898f9ae3-627e-4723-8231-563036ffb1ac",
   "metadata": {},
   "source": [
    "### The AUC curve tells how much the model is capable of distinguishing between classes. The higher the curve, the better the model is at distiguishing classes:"
   ]
  },
  {
   "cell_type": "code",
   "execution_count": null,
   "id": "1b4f937f-9069-477d-bfa8-166fe91bc2e7",
   "metadata": {},
   "outputs": [],
   "source": [
    "plot_model(final_model, plot='auc')"
   ]
  },
  {
   "cell_type": "markdown",
   "id": "b31c9d84-ee69-4d4a-8086-8e0e373154dc",
   "metadata": {},
   "source": [
    "### Let's load up some real events from previous events to see how the model scores the data:"
   ]
  },
  {
   "cell_type": "code",
   "execution_count": null,
   "id": "98be6700",
   "metadata": {},
   "outputs": [],
   "source": [
    "df_inference = helpers.get_event_propensity_scoring_dataset(\n",
    "    cluster=CLUSTER,\n",
    "    database=DATABASE,\n",
    "    lkupclientid=LKUPCLIENTID,\n",
    "    game_date=\"2022-10-22\"\n",
    ")\n",
    "\n",
    "df_inference.shape"
   ]
  },
  {
   "cell_type": "code",
   "execution_count": null,
   "id": "4dc8df48",
   "metadata": {},
   "outputs": [],
   "source": [
    "df_inference.info()"
   ]
  },
  {
   "cell_type": "code",
   "execution_count": null,
   "id": "ca1ebed1",
   "metadata": {},
   "outputs": [],
   "source": [
    "# RENAMING SOME COLUMNS:\n",
    "df_inference = df_inference.rename(columns={\n",
    "    \"daysOut\": \"daysout\", \"dimCustomerMasterId\": \"dimcustomermasterid\",\"eventDate\": \"eventdate\",\"frequency_eventDay\":\"frequency_eventday\",\"frequency_eventTime\":\"frequency_eventtime\",\"inMarket\":\"inmarket\",\"distanceToVenue\":\"distancetovenue\",\"recent_openRate\":\"recent_openrate\",\"recent_clickRate\":\"recent_clickrate\"\n",
    "})"
   ]
  },
  {
   "cell_type": "markdown",
   "id": "dbbe0929-7679-4336-93f1-c074ae11fae7",
   "metadata": {},
   "source": [
    "### Let's run the previous scores through the model for predictions:"
   ]
  },
  {
   "cell_type": "code",
   "execution_count": null,
   "id": "bfa577b1-2011-4013-9ba6-393775651646",
   "metadata": {},
   "outputs": [],
   "source": [
    "df_scores = predict_model(final_model, data=df_inference, raw_score=True)\n",
    "df_scores.head()"
   ]
  },
  {
   "cell_type": "markdown",
   "id": "61894bb3-eb6d-4370-ac74-1a8ec3e0b72f",
   "metadata": {},
   "source": [
    "### Included are some metrics on did and did_not purchase:"
   ]
  },
  {
   "cell_type": "code",
   "execution_count": null,
   "id": "4d4ea2b6-d94e-41b1-b8a1-7003517f19ed",
   "metadata": {},
   "outputs": [],
   "source": [
    "did_purchase = df_scores[\"Label\"].value_counts()[1]\n",
    "did_not_purchase = df_scores[\"Label\"].value_counts()[0]\n",
    "total_rows = df_scores[\"Label\"].count()\n",
    "purchase_percentage = round((did_purchase / total_rows) * 100, 2)\n",
    "\n",
    "print(f\"Would purchase: {did_purchase}\")\n",
    "print(f\"Would not purchase: {did_not_purchase}\")\n",
    "print(f\"Purchase percentage: {purchase_percentage}\")"
   ]
  },
  {
   "cell_type": "markdown",
   "id": "a5383fe0-a64a-4204-9369-16a3e686d0dc",
   "metadata": {},
   "source": [
    "### Here we can see the distribution of fans who would purchase:"
   ]
  },
  {
   "cell_type": "code",
   "execution_count": null,
   "id": "b8a507b1-7d00-4111-b1e3-b614d99c4607",
   "metadata": {},
   "outputs": [],
   "source": [
    "sns.histplot(data=df_scores, x='Score_1', bins= 20, kde=True)"
   ]
  },
  {
   "cell_type": "markdown",
   "id": "d2de91b5-a1e8-42a5-a087-8c31ff2e1db3",
   "metadata": {},
   "source": [
    "## Observations\n",
    "Here you can talk about next steps, did the experiment work? If yes, what to do next? If no, why?"
   ]
  }
 ],
 "metadata": {
  "kernelspec": {
   "display_name": "Python 3.8.5 ('stellar')",
   "language": "python",
   "name": "python3"
  },
  "language_info": {
   "codemirror_mode": {
    "name": "ipython",
    "version": 3
   },
   "file_extension": ".py",
   "mimetype": "text/x-python",
   "name": "python",
   "nbconvert_exporter": "python",
   "pygments_lexer": "ipython3",
   "version": "3.8.5"
  },
  "vscode": {
   "interpreter": {
    "hash": "89f48dadab51a6b5b48ffc1a9e043c21cefe67453637c3444f3b86917b8aad16"
   }
  }
 },
 "nbformat": 4,
 "nbformat_minor": 5
}
