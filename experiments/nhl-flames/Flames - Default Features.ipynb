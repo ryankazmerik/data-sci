{
 "cells": [
  {
   "cell_type": "markdown",
   "id": "9575d83e",
   "metadata": {},
   "source": [
    "# Flames - Feature Selection\n",
    "* StellarAlgo Data Science\n",
    "* Ryan Kazmerik & Nakisa Rad\n",
    "* October 8, 2021"
   ]
  },
  {
   "cell_type": "markdown",
   "id": "62d7c5a2",
   "metadata": {},
   "source": [
    "## Hypothesis\n",
    "Two very important components of a machine learning model are feature selection and feature engineering. Our idea is that adding some more features to the StellarAlgo retention model could improve performance of the model. This notebook will test the standard features used by the StellarAlgo retention model."
   ]
  },
  {
   "cell_type": "markdown",
   "id": "c46403a5",
   "metadata": {},
   "source": [
    "## Experiment\n",
    "This section details our experiment including querying data, data transformations, feature selection and modelling."
   ]
  },
  {
   "cell_type": "code",
   "execution_count": 1,
   "id": "df2be620",
   "metadata": {},
   "outputs": [],
   "source": [
    "import getpass\n",
    "import pyodbc\n",
    "import pandas as pd\n",
    "import warnings\n",
    "import matplotlib.pyplot as plt\n",
    "\n",
    "from pycaret.classification import *\n",
    "\n",
    "warnings.filterwarnings('ignore')"
   ]
  },
  {
   "cell_type": "markdown",
   "id": "5872346a",
   "metadata": {},
   "source": [
    "### Let's connect to MSSQL and run a stored proc to get our dataset:"
   ]
  },
  {
   "cell_type": "code",
   "execution_count": 3,
   "id": "c060d5cf",
   "metadata": {},
   "outputs": [
    {
     "name": "stdin",
     "output_type": "stream",
     "text": [
      "Enter your password ··················\n"
     ]
    }
   ],
   "source": [
    "# connect to SQL Server.\n",
    "SERVER = '34.206.73.189' \n",
    "DATABASE = 'datascience' \n",
    "USERNAME = 'dsAdminWrite' \n",
    "PASSWORD = getpass.getpass(prompt='Enter your password')\n",
    "CNXN = pyodbc.connect('DRIVER={ODBC Driver 17 for SQL Server};SERVER='+SERVER+';DATABASE='+DATABASE+';UID='+USERNAME+';PWD='+ PASSWORD)"
   ]
  },
  {
   "cell_type": "code",
   "execution_count": 4,
   "id": "b9615e8a",
   "metadata": {},
   "outputs": [
    {
     "data": {
      "text/plain": [
       "(38953, 53)"
      ]
     },
     "execution_count": 4,
     "metadata": {},
     "output_type": "execute_result"
    }
   ],
   "source": [
    "lkupclientid = 36 # flames\n",
    "\n",
    "cursor = CNXN.cursor()\n",
    "\n",
    "storedProc = (\n",
    "    f\"\"\"Exec [stlrFlames].[ds].[getRetentionScoringModelData] {lkupclientid}\"\"\"\n",
    ")\n",
    "\n",
    "df = pd.read_sql(storedProc, CNXN)\n",
    "\n",
    "CNXN.commit()\n",
    "cursor.close()\n",
    "\n",
    "df.shape"
   ]
  },
  {
   "cell_type": "markdown",
   "id": "11953aff-440c-4596-afc7-fa28cda1ce74",
   "metadata": {},
   "source": [
    "### In order to compare two sets of features, we need to create some datasets for training and evalution:"
   ]
  },
  {
   "cell_type": "code",
   "execution_count": null,
   "id": "1c8bad91-cdc3-40a7-8915-93f3048bfa53",
   "metadata": {},
   "outputs": [],
   "source": [
    "# choose the features for the stellar base retention model\n",
    "features = [\n",
    "    \"dimCustomerMasterId\",\n",
    "    \"attendancePercent\",\n",
    "    \"clickToOpenRatio\", \n",
    "    \"clickToSendRatio\",\n",
    "    \"distToVenue\",\n",
    "    \"inperson_contact\",\n",
    "    \"isNextYear_Buyer\",\n",
    "    \"missed_games_1\",\n",
    "    \"missed_games_2\",\n",
    "    \"missed_games_over_2\",\n",
    "    \"openToSendRatio\",\n",
    "    \"productGrouping\",\n",
    "    \"recency\",\n",
    "    \"renewedBeforeDays\",\n",
    "    \"source_tenure\",\n",
    "    \"totalSpent\",\n",
    "    \"year\"\n",
    "]\n",
    "\n",
    "# choose the features & train year & test year\n",
    "df = df[features]\n",
    "df[\"year\"] = pd.to_numeric(df[\"year\"])\n",
    "\n",
    "df_train = df.loc[df[\"year\"] <= 2019]\n",
    "df_train = df_train.sample(frac=0.95, random_state=786).reset_index(drop=True)\n",
    "\n",
    "df_eval = df.drop(df_train.index).reset_index(drop=True)\n",
    "\n",
    "# print out the number of records for training and eval\n",
    "print('Data for Modeling: ' + str(df_train.shape))\n",
    "print('Unseen Data For Predictions: ' + str(df_eval.shape), end=\"\\n\\n\")"
   ]
  },
  {
   "cell_type": "markdown",
   "id": "9f34eb03-b49b-49e5-bce8-7caaa29c5dd7",
   "metadata": {},
   "source": [
    "### Now we can model the data using a binary classification prediction for the isnextyear_buyer field to see how likely a customer is to re-purchase."
   ]
  },
  {
   "cell_type": "code",
   "execution_count": null,
   "id": "3eabb279-56dd-4dbf-b7da-77bd2aa7cafa",
   "metadata": {},
   "outputs": [],
   "source": [
    "setup(\n",
    "    data= df_train, \n",
    "    target=\"isNextYear_Buyer\", \n",
    "    train_size = 0.80,\n",
    "    data_split_shuffle=True,\n",
    "    ignore_features=[\n",
    "        \"dimCustomerMasterId\",\n",
    "        \"lkupClientId\",\n",
    "        \"productGrouping\",\n",
    "        \"year\"\n",
    "    ],\n",
    "    silent=True,\n",
    "    verbose=False,\n",
    "    numeric_features=[\n",
    "        \"attendancePercent\",\n",
    "        \"distToVenue\",\n",
    "        \"missed_games_1\",\n",
    "        \"missed_games_2\",\n",
    "        \"missed_games_over_2\",\n",
    "        \"recency\",\n",
    "        \"renewedBeforeDays\",\n",
    "        \"source_tenure\",\n",
    "        \"totalSpent\"\n",
    "    ]\n",
    ");"
   ]
  },
  {
   "cell_type": "code",
   "execution_count": null,
   "id": "05742a70-860c-477f-bea9-516a0a87c508",
   "metadata": {},
   "outputs": [],
   "source": [
    "model_matrix = compare_models(\n",
    "    fold=10,\n",
    "    exclude=[\"lda\",\"qda\"]\n",
    ")"
   ]
  },
  {
   "cell_type": "markdown",
   "id": "03df160e-ac51-4adb-a131-91201fdd8358",
   "metadata": {},
   "source": [
    "### The top model is performing well, so let's compare it against our unseen evaluation dataset:"
   ]
  },
  {
   "cell_type": "code",
   "execution_count": null,
   "id": "9b4716b3-5a6b-4942-a32c-7ef3e9083509",
   "metadata": {},
   "outputs": [],
   "source": [
    "best_model = create_model(model_matrix)\n",
    "tuned_model = tune_model(best_model, optimize = 'AUC')"
   ]
  },
  {
   "cell_type": "markdown",
   "id": "ab2e9ab2-b26a-4fd0-a51d-37c199f4d70a",
   "metadata": {},
   "source": [
    "### Let's plot the features to see what attributes were the most important to an accurate prediction"
   ]
  },
  {
   "cell_type": "code",
   "execution_count": null,
   "id": "7018a228-2480-409c-b4f4-ee3d34c7e662",
   "metadata": {},
   "outputs": [],
   "source": [
    "tuned_model.hist(bins=30)"
   ]
  },
  {
   "cell_type": "code",
   "execution_count": null,
   "id": "7e22aece-548d-49e8-a88c-c276cecd27f6",
   "metadata": {},
   "outputs": [],
   "source": [
    "plot_model(tuned_model, plot='feature')"
   ]
  },
  {
   "cell_type": "code",
   "execution_count": null,
   "id": "1c4f2ff5-fdf2-464a-8e6b-94e5b4c688c5",
   "metadata": {},
   "outputs": [],
   "source": [
    "plot_model(tuned_model, plot='confusion_matrix')"
   ]
  },
  {
   "cell_type": "code",
   "execution_count": null,
   "id": "88ef2e16-8ae3-4618-9ecd-2a94754763fc",
   "metadata": {},
   "outputs": [],
   "source": [
    "plot_model(tuned_model, plot='auc')"
   ]
  },
  {
   "cell_type": "code",
   "execution_count": null,
   "id": "0b6c1769-65aa-4e32-8619-d94a100b6c33",
   "metadata": {},
   "outputs": [],
   "source": [
    "unseen_predictions = predict_model(tuned_model)\n",
    "\n",
    "unseen_predictions\n",
    "print(unseen_predictions['Label'].value_counts())\n",
    "unseen_predictions['Score'].value_counts(bins=4)"
   ]
  },
  {
   "cell_type": "code",
   "execution_count": null,
   "id": "71538730-5d53-468c-86c8-d4d7fc671786",
   "metadata": {},
   "outputs": [],
   "source": []
  }
 ],
 "metadata": {
  "kernelspec": {
   "display_name": "Python 3 (ipykernel)",
   "language": "python",
   "name": "python3"
  },
  "language_info": {
   "codemirror_mode": {
    "name": "ipython",
    "version": 3
   },
   "file_extension": ".py",
   "mimetype": "text/x-python",
   "name": "python",
   "nbconvert_exporter": "python",
   "pygments_lexer": "ipython3",
   "version": "3.9.4"
  }
 },
 "nbformat": 4,
 "nbformat_minor": 5
}
