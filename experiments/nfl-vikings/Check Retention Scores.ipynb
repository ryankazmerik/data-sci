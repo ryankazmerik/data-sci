{
 "cells": [
  {
   "cell_type": "markdown",
   "metadata": {},
   "source": [
    "# NFL 49ers - Check Retention Scores\n",
    "* StellarAlgo Data Science\n",
    "* Grant Donst\n",
    "* Aug 23, 2022"
   ]
  },
  {
   "cell_type": "code",
   "execution_count": 1,
   "metadata": {},
   "outputs": [],
   "source": [
    "import pandas as pd\n",
    "\n",
    "import matplotlib.pyplot as plt\n",
    "\n",
    "from pandas_profiling import ProfileReport\n",
    "from pycaret.classification import *"
   ]
  },
  {
   "cell_type": "markdown",
   "metadata": {},
   "source": [
    "### Let's grab the training and eval datasets:"
   ]
  },
  {
   "cell_type": "code",
   "execution_count": 2,
   "metadata": {},
   "outputs": [],
   "source": [
    "df_train = pd.read_csv(\"./data/train.csv\")\n",
    "df_eval = pd.read_csv(\"./data/eval.csv\")"
   ]
  },
  {
   "cell_type": "code",
   "execution_count": 3,
   "metadata": {},
   "outputs": [],
   "source": [
    "df_train = pd.concat([df_train, df_eval])"
   ]
  },
  {
   "cell_type": "code",
   "execution_count": 4,
   "metadata": {},
   "outputs": [
    {
     "data": {
      "text/plain": [
       "2019    10155\n",
       "Name: year, dtype: int64"
      ]
     },
     "execution_count": 4,
     "metadata": {},
     "output_type": "execute_result"
    }
   ],
   "source": [
    "df_train[\"year\"].value_counts()"
   ]
  },
  {
   "cell_type": "markdown",
   "metadata": {},
   "source": [
    "### Let's set up our new model:"
   ]
  },
  {
   "cell_type": "code",
   "execution_count": 5,
   "metadata": {},
   "outputs": [
    {
     "data": {
      "text/html": [
       "<style type=\"text/css\">\n",
       "#T_12722 th {\n",
       "  text-align: left;\n",
       "}\n",
       "#T_12722_row0_col0 {\n",
       "  text-align: left;\n",
       "}\n",
       "#T_12722_row0_col1, #T_12722_row0_col2, #T_12722_row0_col3, #T_12722_row0_col4, #T_12722_row0_col5, #T_12722_row0_col6, #T_12722_row0_col7 {\n",
       "  text-align: left;\n",
       "  background-color: yellow;\n",
       "}\n",
       "#T_12722_row0_col8 {\n",
       "  text-align: left;\n",
       "  background-color: yellow;\n",
       "  background-color: lightgrey;\n",
       "}\n",
       "</style>\n",
       "<table id=\"T_12722\">\n",
       "  <thead>\n",
       "    <tr>\n",
       "      <th class=\"blank level0\" >&nbsp;</th>\n",
       "      <th id=\"T_12722_level0_col0\" class=\"col_heading level0 col0\" >Model</th>\n",
       "      <th id=\"T_12722_level0_col1\" class=\"col_heading level0 col1\" >Accuracy</th>\n",
       "      <th id=\"T_12722_level0_col2\" class=\"col_heading level0 col2\" >AUC</th>\n",
       "      <th id=\"T_12722_level0_col3\" class=\"col_heading level0 col3\" >Recall</th>\n",
       "      <th id=\"T_12722_level0_col4\" class=\"col_heading level0 col4\" >Prec.</th>\n",
       "      <th id=\"T_12722_level0_col5\" class=\"col_heading level0 col5\" >F1</th>\n",
       "      <th id=\"T_12722_level0_col6\" class=\"col_heading level0 col6\" >Kappa</th>\n",
       "      <th id=\"T_12722_level0_col7\" class=\"col_heading level0 col7\" >MCC</th>\n",
       "      <th id=\"T_12722_level0_col8\" class=\"col_heading level0 col8\" >TT (Sec)</th>\n",
       "    </tr>\n",
       "  </thead>\n",
       "  <tbody>\n",
       "    <tr>\n",
       "      <th id=\"T_12722_level0_row0\" class=\"row_heading level0 row0\" >lightgbm</th>\n",
       "      <td id=\"T_12722_row0_col0\" class=\"data row0 col0\" >Light Gradient Boosting Machine</td>\n",
       "      <td id=\"T_12722_row0_col1\" class=\"data row0 col1\" >0.9723</td>\n",
       "      <td id=\"T_12722_row0_col2\" class=\"data row0 col2\" >0.7000</td>\n",
       "      <td id=\"T_12722_row0_col3\" class=\"data row0 col3\" >0.9995</td>\n",
       "      <td id=\"T_12722_row0_col4\" class=\"data row0 col4\" >0.9727</td>\n",
       "      <td id=\"T_12722_row0_col5\" class=\"data row0 col5\" >0.9860</td>\n",
       "      <td id=\"T_12722_row0_col6\" class=\"data row0 col6\" >0.0370</td>\n",
       "      <td id=\"T_12722_row0_col7\" class=\"data row0 col7\" >0.0756</td>\n",
       "      <td id=\"T_12722_row0_col8\" class=\"data row0 col8\" >1.1620</td>\n",
       "    </tr>\n",
       "  </tbody>\n",
       "</table>\n"
      ],
      "text/plain": [
       "<pandas.io.formats.style.Styler at 0x7fc8018673a0>"
      ]
     },
     "metadata": {},
     "output_type": "display_data"
    }
   ],
   "source": [
    "setup(\n",
    "    data= df_train, \n",
    "    target=\"isNextYear_Buyer\", \n",
    "    train_size = 0.85,\n",
    "    data_split_shuffle=True,\n",
    "    date_features=[\n",
    "        \"recentDate\"\n",
    "    ],\n",
    "    ignore_features=[\n",
    "        \"dimCustomerMasterId\",\n",
    "        \"productGrouping\",\n",
    "        \"year\"\n",
    "    ],\n",
    "    numeric_features=[\n",
    "        \"attendancePercent\", \n",
    "        \"distToVenue\",\n",
    "        \"missed_games_1\",\n",
    "        \"missed_games_2\",\n",
    "        \"missed_games_over_2\",\n",
    "        \"recency\",\n",
    "        \"renewedBeforeDays\",\n",
    "        \"source_tenure\",\n",
    "        \"totalSpent\"\n",
    "    ],\n",
    "    silent=True,\n",
    "    verbose=False\n",
    ");\n",
    "\n",
    "best_model = compare_models(\n",
    "    fold=10,\n",
    "    include=[\"lightgbm\"]\n",
    ")"
   ]
  },
  {
   "cell_type": "markdown",
   "metadata": {},
   "source": [
    "### Let's finalize our new model so it can be used to make predictions:"
   ]
  },
  {
   "cell_type": "code",
   "execution_count": 6,
   "metadata": {},
   "outputs": [
    {
     "data": {
      "text/html": [
       "<style type=\"text/css\">\n",
       "#T_656af_row10_col0, #T_656af_row10_col1, #T_656af_row10_col2, #T_656af_row10_col3, #T_656af_row10_col4, #T_656af_row10_col5, #T_656af_row10_col6 {\n",
       "  background: yellow;\n",
       "}\n",
       "</style>\n",
       "<table id=\"T_656af\">\n",
       "  <thead>\n",
       "    <tr>\n",
       "      <th class=\"blank level0\" >&nbsp;</th>\n",
       "      <th id=\"T_656af_level0_col0\" class=\"col_heading level0 col0\" >Accuracy</th>\n",
       "      <th id=\"T_656af_level0_col1\" class=\"col_heading level0 col1\" >AUC</th>\n",
       "      <th id=\"T_656af_level0_col2\" class=\"col_heading level0 col2\" >Recall</th>\n",
       "      <th id=\"T_656af_level0_col3\" class=\"col_heading level0 col3\" >Prec.</th>\n",
       "      <th id=\"T_656af_level0_col4\" class=\"col_heading level0 col4\" >F1</th>\n",
       "      <th id=\"T_656af_level0_col5\" class=\"col_heading level0 col5\" >Kappa</th>\n",
       "      <th id=\"T_656af_level0_col6\" class=\"col_heading level0 col6\" >MCC</th>\n",
       "    </tr>\n",
       "    <tr>\n",
       "      <th class=\"index_name level0\" >Fold</th>\n",
       "      <th class=\"blank col0\" >&nbsp;</th>\n",
       "      <th class=\"blank col1\" >&nbsp;</th>\n",
       "      <th class=\"blank col2\" >&nbsp;</th>\n",
       "      <th class=\"blank col3\" >&nbsp;</th>\n",
       "      <th class=\"blank col4\" >&nbsp;</th>\n",
       "      <th class=\"blank col5\" >&nbsp;</th>\n",
       "      <th class=\"blank col6\" >&nbsp;</th>\n",
       "    </tr>\n",
       "  </thead>\n",
       "  <tbody>\n",
       "    <tr>\n",
       "      <th id=\"T_656af_level0_row0\" class=\"row_heading level0 row0\" >0</th>\n",
       "      <td id=\"T_656af_row0_col0\" class=\"data row0 col0\" >0.9722</td>\n",
       "      <td id=\"T_656af_row0_col1\" class=\"data row0 col1\" >0.6420</td>\n",
       "      <td id=\"T_656af_row0_col2\" class=\"data row0 col2\" >1.0000</td>\n",
       "      <td id=\"T_656af_row0_col3\" class=\"data row0 col3\" >0.9722</td>\n",
       "      <td id=\"T_656af_row0_col4\" class=\"data row0 col4\" >0.9859</td>\n",
       "      <td id=\"T_656af_row0_col5\" class=\"data row0 col5\" >0.0000</td>\n",
       "      <td id=\"T_656af_row0_col6\" class=\"data row0 col6\" >0.0000</td>\n",
       "    </tr>\n",
       "    <tr>\n",
       "      <th id=\"T_656af_level0_row1\" class=\"row_heading level0 row1\" >1</th>\n",
       "      <td id=\"T_656af_row1_col0\" class=\"data row1 col0\" >0.9687</td>\n",
       "      <td id=\"T_656af_row1_col1\" class=\"data row1 col1\" >0.7107</td>\n",
       "      <td id=\"T_656af_row1_col2\" class=\"data row1 col2\" >0.9964</td>\n",
       "      <td id=\"T_656af_row1_col3\" class=\"data row1 col3\" >0.9721</td>\n",
       "      <td id=\"T_656af_row1_col4\" class=\"data row1 col4\" >0.9841</td>\n",
       "      <td id=\"T_656af_row1_col5\" class=\"data row1 col5\" >-0.0062</td>\n",
       "      <td id=\"T_656af_row1_col6\" class=\"data row1 col6\" >-0.0100</td>\n",
       "    </tr>\n",
       "    <tr>\n",
       "      <th id=\"T_656af_level0_row2\" class=\"row_heading level0 row2\" >2</th>\n",
       "      <td id=\"T_656af_row2_col0\" class=\"data row2 col0\" >0.9722</td>\n",
       "      <td id=\"T_656af_row2_col1\" class=\"data row2 col1\" >0.7500</td>\n",
       "      <td id=\"T_656af_row2_col2\" class=\"data row2 col2\" >1.0000</td>\n",
       "      <td id=\"T_656af_row2_col3\" class=\"data row2 col3\" >0.9722</td>\n",
       "      <td id=\"T_656af_row2_col4\" class=\"data row2 col4\" >0.9859</td>\n",
       "      <td id=\"T_656af_row2_col5\" class=\"data row2 col5\" >0.0000</td>\n",
       "      <td id=\"T_656af_row2_col6\" class=\"data row2 col6\" >0.0000</td>\n",
       "    </tr>\n",
       "    <tr>\n",
       "      <th id=\"T_656af_level0_row3\" class=\"row_heading level0 row3\" >3</th>\n",
       "      <td id=\"T_656af_row3_col0\" class=\"data row3 col0\" >0.9745</td>\n",
       "      <td id=\"T_656af_row3_col1\" class=\"data row3 col1\" >0.6721</td>\n",
       "      <td id=\"T_656af_row3_col2\" class=\"data row3 col2\" >1.0000</td>\n",
       "      <td id=\"T_656af_row3_col3\" class=\"data row3 col3\" >0.9744</td>\n",
       "      <td id=\"T_656af_row3_col4\" class=\"data row3 col4\" >0.9871</td>\n",
       "      <td id=\"T_656af_row3_col5\" class=\"data row3 col5\" >0.1502</td>\n",
       "      <td id=\"T_656af_row3_col6\" class=\"data row3 col6\" >0.2850</td>\n",
       "    </tr>\n",
       "    <tr>\n",
       "      <th id=\"T_656af_level0_row4\" class=\"row_heading level0 row4\" >4</th>\n",
       "      <td id=\"T_656af_row4_col0\" class=\"data row4 col0\" >0.9745</td>\n",
       "      <td id=\"T_656af_row4_col1\" class=\"data row4 col1\" >0.6684</td>\n",
       "      <td id=\"T_656af_row4_col2\" class=\"data row4 col2\" >1.0000</td>\n",
       "      <td id=\"T_656af_row4_col3\" class=\"data row4 col3\" >0.9744</td>\n",
       "      <td id=\"T_656af_row4_col4\" class=\"data row4 col4\" >0.9871</td>\n",
       "      <td id=\"T_656af_row4_col5\" class=\"data row4 col5\" >0.1502</td>\n",
       "      <td id=\"T_656af_row4_col6\" class=\"data row4 col6\" >0.2850</td>\n",
       "    </tr>\n",
       "    <tr>\n",
       "      <th id=\"T_656af_level0_row5\" class=\"row_heading level0 row5\" >5</th>\n",
       "      <td id=\"T_656af_row5_col0\" class=\"data row5 col0\" >0.9722</td>\n",
       "      <td id=\"T_656af_row5_col1\" class=\"data row5 col1\" >0.7626</td>\n",
       "      <td id=\"T_656af_row5_col2\" class=\"data row5 col2\" >1.0000</td>\n",
       "      <td id=\"T_656af_row5_col3\" class=\"data row5 col3\" >0.9722</td>\n",
       "      <td id=\"T_656af_row5_col4\" class=\"data row5 col4\" >0.9859</td>\n",
       "      <td id=\"T_656af_row5_col5\" class=\"data row5 col5\" >0.0000</td>\n",
       "      <td id=\"T_656af_row5_col6\" class=\"data row5 col6\" >0.0000</td>\n",
       "    </tr>\n",
       "    <tr>\n",
       "      <th id=\"T_656af_level0_row6\" class=\"row_heading level0 row6\" >6</th>\n",
       "      <td id=\"T_656af_row6_col0\" class=\"data row6 col0\" >0.9710</td>\n",
       "      <td id=\"T_656af_row6_col1\" class=\"data row6 col1\" >0.7461</td>\n",
       "      <td id=\"T_656af_row6_col2\" class=\"data row6 col2\" >0.9988</td>\n",
       "      <td id=\"T_656af_row6_col3\" class=\"data row6 col3\" >0.9722</td>\n",
       "      <td id=\"T_656af_row6_col4\" class=\"data row6 col4\" >0.9853</td>\n",
       "      <td id=\"T_656af_row6_col5\" class=\"data row6 col5\" >-0.0022</td>\n",
       "      <td id=\"T_656af_row6_col6\" class=\"data row6 col6\" >-0.0058</td>\n",
       "    </tr>\n",
       "    <tr>\n",
       "      <th id=\"T_656af_level0_row7\" class=\"row_heading level0 row7\" >7</th>\n",
       "      <td id=\"T_656af_row7_col0\" class=\"data row7 col0\" >0.9722</td>\n",
       "      <td id=\"T_656af_row7_col1\" class=\"data row7 col1\" >0.7530</td>\n",
       "      <td id=\"T_656af_row7_col2\" class=\"data row7 col2\" >1.0000</td>\n",
       "      <td id=\"T_656af_row7_col3\" class=\"data row7 col3\" >0.9722</td>\n",
       "      <td id=\"T_656af_row7_col4\" class=\"data row7 col4\" >0.9859</td>\n",
       "      <td id=\"T_656af_row7_col5\" class=\"data row7 col5\" >0.0000</td>\n",
       "      <td id=\"T_656af_row7_col6\" class=\"data row7 col6\" >0.0000</td>\n",
       "    </tr>\n",
       "    <tr>\n",
       "      <th id=\"T_656af_level0_row8\" class=\"row_heading level0 row8\" >8</th>\n",
       "      <td id=\"T_656af_row8_col0\" class=\"data row8 col0\" >0.9722</td>\n",
       "      <td id=\"T_656af_row8_col1\" class=\"data row8 col1\" >0.6254</td>\n",
       "      <td id=\"T_656af_row8_col2\" class=\"data row8 col2\" >1.0000</td>\n",
       "      <td id=\"T_656af_row8_col3\" class=\"data row8 col3\" >0.9722</td>\n",
       "      <td id=\"T_656af_row8_col4\" class=\"data row8 col4\" >0.9859</td>\n",
       "      <td id=\"T_656af_row8_col5\" class=\"data row8 col5\" >0.0000</td>\n",
       "      <td id=\"T_656af_row8_col6\" class=\"data row8 col6\" >0.0000</td>\n",
       "    </tr>\n",
       "    <tr>\n",
       "      <th id=\"T_656af_level0_row9\" class=\"row_heading level0 row9\" >9</th>\n",
       "      <td id=\"T_656af_row9_col0\" class=\"data row9 col0\" >0.9733</td>\n",
       "      <td id=\"T_656af_row9_col1\" class=\"data row9 col1\" >0.6692</td>\n",
       "      <td id=\"T_656af_row9_col2\" class=\"data row9 col2\" >1.0000</td>\n",
       "      <td id=\"T_656af_row9_col3\" class=\"data row9 col3\" >0.9733</td>\n",
       "      <td id=\"T_656af_row9_col4\" class=\"data row9 col4\" >0.9865</td>\n",
       "      <td id=\"T_656af_row9_col5\" class=\"data row9 col5\" >0.0779</td>\n",
       "      <td id=\"T_656af_row9_col6\" class=\"data row9 col6\" >0.2014</td>\n",
       "    </tr>\n",
       "    <tr>\n",
       "      <th id=\"T_656af_level0_row10\" class=\"row_heading level0 row10\" >Mean</th>\n",
       "      <td id=\"T_656af_row10_col0\" class=\"data row10 col0\" >0.9723</td>\n",
       "      <td id=\"T_656af_row10_col1\" class=\"data row10 col1\" >0.7000</td>\n",
       "      <td id=\"T_656af_row10_col2\" class=\"data row10 col2\" >0.9995</td>\n",
       "      <td id=\"T_656af_row10_col3\" class=\"data row10 col3\" >0.9727</td>\n",
       "      <td id=\"T_656af_row10_col4\" class=\"data row10 col4\" >0.9860</td>\n",
       "      <td id=\"T_656af_row10_col5\" class=\"data row10 col5\" >0.0370</td>\n",
       "      <td id=\"T_656af_row10_col6\" class=\"data row10 col6\" >0.0756</td>\n",
       "    </tr>\n",
       "    <tr>\n",
       "      <th id=\"T_656af_level0_row11\" class=\"row_heading level0 row11\" >Std</th>\n",
       "      <td id=\"T_656af_row11_col0\" class=\"data row11 col0\" >0.0016</td>\n",
       "      <td id=\"T_656af_row11_col1\" class=\"data row11 col1\" >0.0481</td>\n",
       "      <td id=\"T_656af_row11_col2\" class=\"data row11 col2\" >0.0011</td>\n",
       "      <td id=\"T_656af_row11_col3\" class=\"data row11 col3\" >0.0009</td>\n",
       "      <td id=\"T_656af_row11_col4\" class=\"data row11 col4\" >0.0008</td>\n",
       "      <td id=\"T_656af_row11_col5\" class=\"data row11 col5\" >0.0613</td>\n",
       "      <td id=\"T_656af_row11_col6\" class=\"data row11 col6\" >0.1208</td>\n",
       "    </tr>\n",
       "  </tbody>\n",
       "</table>\n"
      ],
      "text/plain": [
       "<pandas.io.formats.style.Styler at 0x7fc8017fc3d0>"
      ]
     },
     "metadata": {},
     "output_type": "display_data"
    },
    {
     "name": "stderr",
     "output_type": "stream",
     "text": [
      "/opt/miniconda3/envs/stellar/lib/python3.8/site-packages/sklearn/metrics/_classification.py:846: RuntimeWarning: invalid value encountered in double_scalars\n",
      "  mcc = cov_ytyp / np.sqrt(cov_ytyt * cov_ypyp)\n",
      "/opt/miniconda3/envs/stellar/lib/python3.8/site-packages/sklearn/metrics/_classification.py:846: RuntimeWarning: invalid value encountered in double_scalars\n",
      "  mcc = cov_ytyp / np.sqrt(cov_ytyt * cov_ypyp)\n"
     ]
    }
   ],
   "source": [
    "final_model = create_model(best_model)\n",
    "new_retention_model = finalize_model(final_model)"
   ]
  },
  {
   "cell_type": "markdown",
   "metadata": {},
   "source": [
    "### Let's also load the model used in retention for production:"
   ]
  },
  {
   "cell_type": "code",
   "execution_count": 7,
   "metadata": {},
   "outputs": [
    {
     "name": "stdout",
     "output_type": "stream",
     "text": [
      "Transformation Pipeline and Model Successfully Loaded\n"
     ]
    }
   ],
   "source": [
    "prod_retention_model = load_model(\"./models/model\")"
   ]
  },
  {
   "cell_type": "markdown",
   "metadata": {},
   "source": [
    "### Let's use the new and existing model to make predictions on the 2022 season:"
   ]
  },
  {
   "cell_type": "code",
   "execution_count": 8,
   "metadata": {},
   "outputs": [],
   "source": [
    "inference_data = pd.read_csv(\"./data/inference_data.csv\")\n",
    "inference_data.columns = ['attendancePercent', 'clientcode', 'dimCustomerMasterId', 'distToVenue', 'isNextYear_Buyer', 'lkupclientid',\n",
    "                          'missed_games_1', 'missed_games_2', 'missed_games_over_2', 'productGrouping', 'recency', 'recentDate',\n",
    "                          'renewedBeforeDays', 'source_tenure', 'totalSpent', 'year']\n",
    "\n",
    "inference_data = inference_data.loc[inference_data['lkupclientid']==112]"
   ]
  },
  {
   "cell_type": "code",
   "execution_count": 9,
   "metadata": {},
   "outputs": [
    {
     "data": {
      "text/plain": [
       "2021    9873\n",
       "Name: year, dtype: int64"
      ]
     },
     "execution_count": 9,
     "metadata": {},
     "output_type": "execute_result"
    }
   ],
   "source": [
    "inference_data[\"year\"].value_counts()"
   ]
  },
  {
   "cell_type": "markdown",
   "metadata": {},
   "source": [
    "### Let's use our model to make predictions on the inference data:"
   ]
  },
  {
   "cell_type": "code",
   "execution_count": 10,
   "metadata": {},
   "outputs": [
    {
     "data": {
      "text/html": [
       "<style type=\"text/css\">\n",
       "</style>\n",
       "<table id=\"T_cf957\">\n",
       "  <thead>\n",
       "    <tr>\n",
       "      <th class=\"blank level0\" >&nbsp;</th>\n",
       "      <th id=\"T_cf957_level0_col0\" class=\"col_heading level0 col0\" >Model</th>\n",
       "      <th id=\"T_cf957_level0_col1\" class=\"col_heading level0 col1\" >Accuracy</th>\n",
       "      <th id=\"T_cf957_level0_col2\" class=\"col_heading level0 col2\" >AUC</th>\n",
       "      <th id=\"T_cf957_level0_col3\" class=\"col_heading level0 col3\" >Recall</th>\n",
       "      <th id=\"T_cf957_level0_col4\" class=\"col_heading level0 col4\" >Prec.</th>\n",
       "      <th id=\"T_cf957_level0_col5\" class=\"col_heading level0 col5\" >F1</th>\n",
       "      <th id=\"T_cf957_level0_col6\" class=\"col_heading level0 col6\" >Kappa</th>\n",
       "      <th id=\"T_cf957_level0_col7\" class=\"col_heading level0 col7\" >MCC</th>\n",
       "    </tr>\n",
       "  </thead>\n",
       "  <tbody>\n",
       "    <tr>\n",
       "      <th id=\"T_cf957_level0_row0\" class=\"row_heading level0 row0\" >0</th>\n",
       "      <td id=\"T_cf957_row0_col0\" class=\"data row0 col0\" >Light Gradient Boosting Machine</td>\n",
       "      <td id=\"T_cf957_row0_col1\" class=\"data row0 col1\" >0.9448</td>\n",
       "      <td id=\"T_cf957_row0_col2\" class=\"data row0 col2\" >0.6542</td>\n",
       "      <td id=\"T_cf957_row0_col3\" class=\"data row0 col3\" >0.9975</td>\n",
       "      <td id=\"T_cf957_row0_col4\" class=\"data row0 col4\" >0.9469</td>\n",
       "      <td id=\"T_cf957_row0_col5\" class=\"data row0 col5\" >0.9716</td>\n",
       "      <td id=\"T_cf957_row0_col6\" class=\"data row0 col6\" >0.0325</td>\n",
       "      <td id=\"T_cf957_row0_col7\" class=\"data row0 col7\" >0.0701</td>\n",
       "    </tr>\n",
       "  </tbody>\n",
       "</table>\n"
      ],
      "text/plain": [
       "<pandas.io.formats.style.Styler at 0x7fc80182b5e0>"
      ]
     },
     "metadata": {},
     "output_type": "display_data"
    },
    {
     "data": {
      "text/html": [
       "<style type=\"text/css\">\n",
       "</style>\n",
       "<table id=\"T_b7e52\">\n",
       "  <thead>\n",
       "    <tr>\n",
       "      <th class=\"blank level0\" >&nbsp;</th>\n",
       "      <th id=\"T_b7e52_level0_col0\" class=\"col_heading level0 col0\" >Model</th>\n",
       "      <th id=\"T_b7e52_level0_col1\" class=\"col_heading level0 col1\" >Accuracy</th>\n",
       "      <th id=\"T_b7e52_level0_col2\" class=\"col_heading level0 col2\" >AUC</th>\n",
       "      <th id=\"T_b7e52_level0_col3\" class=\"col_heading level0 col3\" >Recall</th>\n",
       "      <th id=\"T_b7e52_level0_col4\" class=\"col_heading level0 col4\" >Prec.</th>\n",
       "      <th id=\"T_b7e52_level0_col5\" class=\"col_heading level0 col5\" >F1</th>\n",
       "      <th id=\"T_b7e52_level0_col6\" class=\"col_heading level0 col6\" >Kappa</th>\n",
       "      <th id=\"T_b7e52_level0_col7\" class=\"col_heading level0 col7\" >MCC</th>\n",
       "    </tr>\n",
       "  </thead>\n",
       "  <tbody>\n",
       "    <tr>\n",
       "      <th id=\"T_b7e52_level0_row0\" class=\"row_heading level0 row0\" >0</th>\n",
       "      <td id=\"T_b7e52_row0_col0\" class=\"data row0 col0\" >Light Gradient Boosting Machine</td>\n",
       "      <td id=\"T_b7e52_row0_col1\" class=\"data row0 col1\" >0.9391</td>\n",
       "      <td id=\"T_b7e52_row0_col2\" class=\"data row0 col2\" >0.6527</td>\n",
       "      <td id=\"T_b7e52_row0_col3\" class=\"data row0 col3\" >0.9896</td>\n",
       "      <td id=\"T_b7e52_row0_col4\" class=\"data row0 col4\" >0.9483</td>\n",
       "      <td id=\"T_b7e52_row0_col5\" class=\"data row0 col5\" >0.9685</td>\n",
       "      <td id=\"T_b7e52_row0_col6\" class=\"data row0 col6\" >0.0688</td>\n",
       "      <td id=\"T_b7e52_row0_col7\" class=\"data row0 col7\" >0.0886</td>\n",
       "    </tr>\n",
       "  </tbody>\n",
       "</table>\n"
      ],
      "text/plain": [
       "<pandas.io.formats.style.Styler at 0x7fc8017ec430>"
      ]
     },
     "metadata": {},
     "output_type": "display_data"
    }
   ],
   "source": [
    "df_new_predictions = predict_model(new_retention_model, data=inference_data, raw_score=True)\n",
    "df_prod_predictions = predict_model(prod_retention_model, data=inference_data, raw_score=True)"
   ]
  },
  {
   "cell_type": "code",
   "execution_count": 11,
   "metadata": {},
   "outputs": [
    {
     "data": {
      "text/html": [
       "<div>\n",
       "<style scoped>\n",
       "    .dataframe tbody tr th:only-of-type {\n",
       "        vertical-align: middle;\n",
       "    }\n",
       "\n",
       "    .dataframe tbody tr th {\n",
       "        vertical-align: top;\n",
       "    }\n",
       "\n",
       "    .dataframe thead th {\n",
       "        text-align: right;\n",
       "    }\n",
       "</style>\n",
       "<table border=\"1\" class=\"dataframe\">\n",
       "  <thead>\n",
       "    <tr style=\"text-align: right;\">\n",
       "      <th></th>\n",
       "      <th>attendancePercent</th>\n",
       "      <th>clientcode</th>\n",
       "      <th>dimCustomerMasterId</th>\n",
       "      <th>distToVenue</th>\n",
       "      <th>isNextYear_Buyer</th>\n",
       "      <th>lkupclientid</th>\n",
       "      <th>missed_games_1</th>\n",
       "      <th>missed_games_2</th>\n",
       "      <th>missed_games_over_2</th>\n",
       "      <th>productGrouping</th>\n",
       "      <th>recency</th>\n",
       "      <th>recentDate</th>\n",
       "      <th>renewedBeforeDays</th>\n",
       "      <th>source_tenure</th>\n",
       "      <th>totalSpent</th>\n",
       "      <th>year</th>\n",
       "      <th>Label</th>\n",
       "      <th>Score_0</th>\n",
       "      <th>Score_1</th>\n",
       "    </tr>\n",
       "  </thead>\n",
       "  <tbody>\n",
       "    <tr>\n",
       "      <th>0</th>\n",
       "      <td>0.611111</td>\n",
       "      <td>nflvikings</td>\n",
       "      <td>261672</td>\n",
       "      <td>0</td>\n",
       "      <td>1</td>\n",
       "      <td>112</td>\n",
       "      <td>1</td>\n",
       "      <td>2</td>\n",
       "      <td>0</td>\n",
       "      <td>Full Season</td>\n",
       "      <td>1</td>\n",
       "      <td>2021-12-09</td>\n",
       "      <td>214</td>\n",
       "      <td>19345</td>\n",
       "      <td>7680.0</td>\n",
       "      <td>2021</td>\n",
       "      <td>1</td>\n",
       "      <td>0.0003</td>\n",
       "      <td>0.9997</td>\n",
       "    </tr>\n",
       "    <tr>\n",
       "      <th>1</th>\n",
       "      <td>0.000000</td>\n",
       "      <td>nflvikings</td>\n",
       "      <td>2993009</td>\n",
       "      <td>0</td>\n",
       "      <td>1</td>\n",
       "      <td>112</td>\n",
       "      <td>0</td>\n",
       "      <td>0</td>\n",
       "      <td>1</td>\n",
       "      <td>Full Season</td>\n",
       "      <td>0</td>\n",
       "      <td>1970-01-01</td>\n",
       "      <td>214</td>\n",
       "      <td>5475</td>\n",
       "      <td>79920.0</td>\n",
       "      <td>2021</td>\n",
       "      <td>1</td>\n",
       "      <td>0.0005</td>\n",
       "      <td>0.9995</td>\n",
       "    </tr>\n",
       "    <tr>\n",
       "      <th>2</th>\n",
       "      <td>1.111111</td>\n",
       "      <td>nflvikings</td>\n",
       "      <td>3162990</td>\n",
       "      <td>0</td>\n",
       "      <td>1</td>\n",
       "      <td>112</td>\n",
       "      <td>0</td>\n",
       "      <td>0</td>\n",
       "      <td>0</td>\n",
       "      <td>Full Season</td>\n",
       "      <td>0</td>\n",
       "      <td>2022-01-09</td>\n",
       "      <td>213</td>\n",
       "      <td>9490</td>\n",
       "      <td>1740.0</td>\n",
       "      <td>2021</td>\n",
       "      <td>1</td>\n",
       "      <td>0.0081</td>\n",
       "      <td>0.9919</td>\n",
       "    </tr>\n",
       "    <tr>\n",
       "      <th>3</th>\n",
       "      <td>0.333333</td>\n",
       "      <td>nflvikings</td>\n",
       "      <td>3164410</td>\n",
       "      <td>0</td>\n",
       "      <td>1</td>\n",
       "      <td>112</td>\n",
       "      <td>0</td>\n",
       "      <td>1</td>\n",
       "      <td>1</td>\n",
       "      <td>Full Season</td>\n",
       "      <td>5</td>\n",
       "      <td>2022-01-09</td>\n",
       "      <td>214</td>\n",
       "      <td>1460</td>\n",
       "      <td>2740.0</td>\n",
       "      <td>2021</td>\n",
       "      <td>1</td>\n",
       "      <td>0.0448</td>\n",
       "      <td>0.9552</td>\n",
       "    </tr>\n",
       "    <tr>\n",
       "      <th>4</th>\n",
       "      <td>0.000000</td>\n",
       "      <td>nflvikings</td>\n",
       "      <td>3165226</td>\n",
       "      <td>0</td>\n",
       "      <td>1</td>\n",
       "      <td>112</td>\n",
       "      <td>0</td>\n",
       "      <td>0</td>\n",
       "      <td>1</td>\n",
       "      <td>Full Season</td>\n",
       "      <td>0</td>\n",
       "      <td>1970-01-01</td>\n",
       "      <td>214</td>\n",
       "      <td>1825</td>\n",
       "      <td>2740.0</td>\n",
       "      <td>2021</td>\n",
       "      <td>1</td>\n",
       "      <td>0.0565</td>\n",
       "      <td>0.9435</td>\n",
       "    </tr>\n",
       "  </tbody>\n",
       "</table>\n",
       "</div>"
      ],
      "text/plain": [
       "   attendancePercent  clientcode  dimCustomerMasterId  distToVenue  \\\n",
       "0           0.611111  nflvikings               261672            0   \n",
       "1           0.000000  nflvikings              2993009            0   \n",
       "2           1.111111  nflvikings              3162990            0   \n",
       "3           0.333333  nflvikings              3164410            0   \n",
       "4           0.000000  nflvikings              3165226            0   \n",
       "\n",
       "   isNextYear_Buyer  lkupclientid  missed_games_1  missed_games_2  \\\n",
       "0                 1           112               1               2   \n",
       "1                 1           112               0               0   \n",
       "2                 1           112               0               0   \n",
       "3                 1           112               0               1   \n",
       "4                 1           112               0               0   \n",
       "\n",
       "   missed_games_over_2 productGrouping  recency  recentDate  \\\n",
       "0                    0     Full Season        1  2021-12-09   \n",
       "1                    1     Full Season        0  1970-01-01   \n",
       "2                    0     Full Season        0  2022-01-09   \n",
       "3                    1     Full Season        5  2022-01-09   \n",
       "4                    1     Full Season        0  1970-01-01   \n",
       "\n",
       "   renewedBeforeDays  source_tenure  totalSpent  year  Label  Score_0  Score_1  \n",
       "0                214          19345      7680.0  2021      1   0.0003   0.9997  \n",
       "1                214           5475     79920.0  2021      1   0.0005   0.9995  \n",
       "2                213           9490      1740.0  2021      1   0.0081   0.9919  \n",
       "3                214           1460      2740.0  2021      1   0.0448   0.9552  \n",
       "4                214           1825      2740.0  2021      1   0.0565   0.9435  "
      ]
     },
     "execution_count": 11,
     "metadata": {},
     "output_type": "execute_result"
    }
   ],
   "source": [
    "df_new_predictions.head()"
   ]
  },
  {
   "cell_type": "code",
   "execution_count": 12,
   "metadata": {},
   "outputs": [
    {
     "data": {
      "image/png": "[encoded data removed]",
      "text/plain": [
       "<Figure size 1440x396 with 2 Axes>"
      ]
     },
     "metadata": {},
     "output_type": "display_data"
    }
   ],
   "source": [
    "fig, (ax1, ax2) = plt.subplots(1, 2)\n",
    "fig.suptitle('Retention Scores')\n",
    "ax1.hist(df_new_predictions['Score_1'], bins=20, edgecolor='black', color='dodgerblue')\n",
    "ax2.hist(df_prod_predictions['Score_1'], bins=20, edgecolor='black', color='dodgerblue')\n",
    "ax1.set_xlabel('New Model')\n",
    "ax2.set_xlabel('Prod Model')\n",
    "\n",
    "fig.figure.set_figwidth(20)"
   ]
  },
  {
   "cell_type": "code",
   "execution_count": 13,
   "metadata": {},
   "outputs": [
    {
     "data": {
      "text/plain": [
       "(0.9, 1.0]       8872\n",
       "(0.8, 0.9]        836\n",
       "(0.7, 0.8]         85\n",
       "(0.6, 0.7]         40\n",
       "(0.4, 0.5]         14\n",
       "(-0.001, 0.1]       8\n",
       "(0.5, 0.6]          6\n",
       "(0.2, 0.3]          5\n",
       "(0.3, 0.4]          4\n",
       "(0.1, 0.2]          3\n",
       "Name: Score_1, dtype: int64"
      ]
     },
     "execution_count": 13,
     "metadata": {},
     "output_type": "execute_result"
    }
   ],
   "source": [
    "df_new_predictions[\"Score_1\"].value_counts(bins=[0, 0.1, 0.2, 0.3, 0.4, 0.5, 0.6, 0.7, 0.8, 0.9, 1.0])"
   ]
  },
  {
   "cell_type": "markdown",
   "metadata": {},
   "source": [
    "### There are a large number of fans in the 0 - 0.1 score bucket, let's run a pandas profile on the dataset to check data quality:"
   ]
  },
  {
   "cell_type": "code",
   "execution_count": 14,
   "metadata": {},
   "outputs": [
    {
     "data": {
      "application/vnd.jupyter.widget-view+json": {
       "model_id": "5849a70ef7924f42b826e481b0a93560",
       "version_major": 2,
       "version_minor": 0
      },
      "text/plain": [
       "Summarize dataset:   0%|          | 0/5 [00:00<?, ?it/s]"
      ]
     },
     "metadata": {},
     "output_type": "display_data"
    },
    {
     "data": {
      "application/vnd.jupyter.widget-view+json": {
       "model_id": "bae42df17ea748948caa314ee05d35db",
       "version_major": 2,
       "version_minor": 0
      },
      "text/plain": [
       "Generate report structure:   0%|          | 0/1 [00:00<?, ?it/s]"
      ]
     },
     "metadata": {},
     "output_type": "display_data"
    },
    {
     "data": {
      "application/vnd.jupyter.widget-view+json": {
       "model_id": "f893095d28f242d8be45bdab35213fe7",
       "version_major": 2,
       "version_minor": 0
      },
      "text/plain": [
       "Render HTML:   0%|          | 0/1 [00:00<?, ?it/s]"
      ]
     },
     "metadata": {},
     "output_type": "display_data"
    },
    {
     "data": {
      "application/vnd.jupyter.widget-view+json": {
       "model_id": "edbf7a90fa91454cad34263c61f76947",
       "version_major": 2,
       "version_minor": 0
      },
      "text/plain": [
       "Export report to file:   0%|          | 0/1 [00:00<?, ?it/s]"
      ]
     },
     "metadata": {},
     "output_type": "display_data"
    }
   ],
   "source": [
    "# generate a pandas profile report on the dataset\n",
    "profile = ProfileReport(inference_data, minimal=True)\n",
    "profile.to_file(\"pandas-profile-report.html\")"
   ]
  },
  {
   "cell_type": "code",
   "execution_count": 16,
   "metadata": {},
   "outputs": [
    {
     "data": {
      "text/plain": [
       "(-0.009000000000000001, 0.8]    6686\n",
       "(0.8, 1.6]                      1101\n",
       "(1.6, 2.4]                       614\n",
       "(2.4, 3.2]                       551\n",
       "(3.2, 4.0]                       402\n",
       "(5.6, 6.4]                       385\n",
       "(4.8, 5.6]                       322\n",
       "(6.4, 7.2]                        81\n",
       "(7.2, 8.0]                        13\n",
       "(4.0, 4.8]                         0\n",
       "Name: recency, dtype: int64"
      ]
     },
     "execution_count": 16,
     "metadata": {},
     "output_type": "execute_result"
    }
   ],
   "source": [
    "df_train[\"recency\"].value_counts(bins=10)"
   ]
  }
 ],
 "metadata": {
  "kernelspec": {
   "display_name": "Python 3.8.5 ('stellar')",
   "language": "python",
   "name": "python3"
  },
  "language_info": {
   "codemirror_mode": {
    "name": "ipython",
    "version": 3
   },
   "file_extension": ".py",
   "mimetype": "text/x-python",
   "name": "python",
   "nbconvert_exporter": "python",
   "pygments_lexer": "ipython3",
   "version": "3.8.5"
  },
  "orig_nbformat": 4,
  "vscode": {
   "interpreter": {
    "hash": "89f48dadab51a6b5b48ffc1a9e043c21cefe67453637c3444f3b86917b8aad16"
   }
  }
 },
 "nbformat": 4,
 "nbformat_minor": 2
}
