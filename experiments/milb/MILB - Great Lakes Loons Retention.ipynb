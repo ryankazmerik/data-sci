{
 "cells": [
  {
   "cell_type": "markdown",
   "metadata": {},
   "source": [
    "# MILB - Great Lakes Loons Retention Checkup\n",
    "\n",
    "* StellarAlgo\n",
    "* Ryan Kazmerik\n",
    "* August 2, 2022"
   ]
  },
  {
   "cell_type": "code",
   "execution_count": 61,
   "metadata": {},
   "outputs": [],
   "source": [
    "import boto3 \n",
    "import json\n",
    "import matplotlib.pyplot as plt\n",
    "import pandas as pd\n",
    "import psycopg2\n",
    "\n",
    "from pycaret.classification import *\n",
    "from shared_utilities import helpers"
   ]
  },
  {
   "cell_type": "code",
   "execution_count": 45,
   "metadata": {},
   "outputs": [
    {
     "data": {
      "text/plain": [
       "<module 'shared_utilities.helpers' from '/Users/ryankazmerik/Git/data-sci/shared_utilities/shared_utilities/helpers.py'>"
      ]
     },
     "execution_count": 45,
     "metadata": {},
     "output_type": "execute_result"
    }
   ],
   "source": [
    "from importlib import reload\n",
    "reload(helpers)"
   ]
  },
  {
   "cell_type": "markdown",
   "metadata": {},
   "source": [
    "### Login to AWS SSO profile:"
   ]
  },
  {
   "cell_type": "code",
   "execution_count": 7,
   "metadata": {},
   "outputs": [
    {
     "name": "stdout",
     "output_type": "stream",
     "text": [
      "Attempting to automatically open the SSO authorization page in your default browser.\n",
      "If the browser does not open or you wish to use a different device to authorize this request, open the following URL:\n",
      "\n",
      "https://device.sso.us-east-1.amazonaws.com/\n",
      "\n",
      "Then enter the code:\n",
      "\n",
      "CLDH-KVDN\n",
      "Successfully logged into Start URL: https://stellaralgo.awsapps.com/start#/\n"
     ]
    }
   ],
   "source": [
    "! aws sso login --profile Explore-US-DataScienceAdmin"
   ]
  },
  {
   "cell_type": "markdown",
   "metadata": {},
   "source": [
    "### Get a connection to MSSQL and get retention dataset for training & inference:"
   ]
  },
  {
   "cell_type": "code",
   "execution_count": 41,
   "metadata": {},
   "outputs": [
    {
     "name": "stdout",
     "output_type": "stream",
     "text": [
      "Data for Modeling: (6919, 15)\n",
      "Data For Evaluation: (2403, 15)\n",
      "Data For Predictions: (1182, 15)\n",
      "\n"
     ]
    }
   ],
   "source": [
    "cnxn = helpers.get_mssql_connection('qa', 'stlrmilb')\n",
    "\n",
    "df_train, df_eval, df_inference = helpers.get_retention_datasets(cnxn, 20)"
   ]
  },
  {
   "cell_type": "markdown",
   "metadata": {},
   "source": [
    "### Setup the Pycaret model for retention classification:"
   ]
  },
  {
   "cell_type": "code",
   "execution_count": 52,
   "metadata": {},
   "outputs": [
    {
     "data": {
      "text/html": [
       "<style type=\"text/css\">\n",
       "#T_4c3c2_ th {\n",
       "  text-align: left;\n",
       "}\n",
       "#T_4c3c2_row0_col0 {\n",
       "  text-align: left;\n",
       "}\n",
       "#T_4c3c2_row0_col1, #T_4c3c2_row0_col2, #T_4c3c2_row0_col3, #T_4c3c2_row0_col4, #T_4c3c2_row0_col5, #T_4c3c2_row0_col6, #T_4c3c2_row0_col7 {\n",
       "  text-align: left;\n",
       "  background-color: yellow;\n",
       "}\n",
       "#T_4c3c2_row0_col8 {\n",
       "  text-align: left;\n",
       "  background-color: yellow;\n",
       "  background-color: lightgrey;\n",
       "}\n",
       "</style>\n",
       "<table id=\"T_4c3c2_\">\n",
       "  <thead>\n",
       "    <tr>\n",
       "      <th class=\"blank level0\" >&nbsp;</th>\n",
       "      <th class=\"col_heading level0 col0\" >Model</th>\n",
       "      <th class=\"col_heading level0 col1\" >Accuracy</th>\n",
       "      <th class=\"col_heading level0 col2\" >AUC</th>\n",
       "      <th class=\"col_heading level0 col3\" >Recall</th>\n",
       "      <th class=\"col_heading level0 col4\" >Prec.</th>\n",
       "      <th class=\"col_heading level0 col5\" >F1</th>\n",
       "      <th class=\"col_heading level0 col6\" >Kappa</th>\n",
       "      <th class=\"col_heading level0 col7\" >MCC</th>\n",
       "      <th class=\"col_heading level0 col8\" >TT (Sec)</th>\n",
       "    </tr>\n",
       "  </thead>\n",
       "  <tbody>\n",
       "    <tr>\n",
       "      <th id=\"T_4c3c2_level0_row0\" class=\"row_heading level0 row0\" >lightgbm</th>\n",
       "      <td id=\"T_4c3c2_row0_col0\" class=\"data row0 col0\" >Light Gradient Boosting Machine</td>\n",
       "      <td id=\"T_4c3c2_row0_col1\" class=\"data row0 col1\" >0.8092</td>\n",
       "      <td id=\"T_4c3c2_row0_col2\" class=\"data row0 col2\" >0.8451</td>\n",
       "      <td id=\"T_4c3c2_row0_col3\" class=\"data row0 col3\" >0.9133</td>\n",
       "      <td id=\"T_4c3c2_row0_col4\" class=\"data row0 col4\" >0.8058</td>\n",
       "      <td id=\"T_4c3c2_row0_col5\" class=\"data row0 col5\" >0.8561</td>\n",
       "      <td id=\"T_4c3c2_row0_col6\" class=\"data row0 col6\" >0.5762</td>\n",
       "      <td id=\"T_4c3c2_row0_col7\" class=\"data row0 col7\" >0.5865</td>\n",
       "      <td id=\"T_4c3c2_row0_col8\" class=\"data row0 col8\" >0.2650</td>\n",
       "    </tr>\n",
       "  </tbody>\n",
       "</table>\n"
      ],
      "text/plain": [
       "<pandas.io.formats.style.Styler at 0x7fd9115b8070>"
      ]
     },
     "metadata": {},
     "output_type": "display_data"
    }
   ],
   "source": [
    "setup(\n",
    "    data= df_train, \n",
    "    target=\"isNextYear_Buyer\", \n",
    "    train_size = 0.85,\n",
    "    data_split_shuffle=True,\n",
    "    ignore_features=[\n",
    "        \"dimCustomerMasterId\",\n",
    "        \"productGrouping\",\n",
    "        \"year\"\n",
    "    ],\n",
    "    numeric_features=[\n",
    "        \"attendancePercent\", \n",
    "        \"distToVenue\",\n",
    "        \"missed_games_1\",\n",
    "        \"missed_games_2\",\n",
    "        \"missed_games_over_2\",\n",
    "        \"recency\",\n",
    "        \"renewedBeforeDays\",\n",
    "        \"source_tenure\",\n",
    "        \"tenure\",\n",
    "        \"totalSpent\"\n",
    "    ],\n",
    "    silent=True,\n",
    "    verbose=False\n",
    ");\n",
    "\n",
    "best_model = compare_models(\n",
    "    fold=10,\n",
    "    include=[\"lightgbm\"]\n",
    ")"
   ]
  },
  {
   "cell_type": "markdown",
   "metadata": {},
   "source": [
    "### Use the model to make predictions on the 2022 season:"
   ]
  },
  {
   "cell_type": "code",
   "execution_count": 71,
   "metadata": {},
   "outputs": [
    {
     "data": {
      "text/html": [
       "<div>\n",
       "<style scoped>\n",
       "    .dataframe tbody tr th:only-of-type {\n",
       "        vertical-align: middle;\n",
       "    }\n",
       "\n",
       "    .dataframe tbody tr th {\n",
       "        vertical-align: top;\n",
       "    }\n",
       "\n",
       "    .dataframe thead th {\n",
       "        text-align: right;\n",
       "    }\n",
       "</style>\n",
       "<table border=\"1\" class=\"dataframe\">\n",
       "  <thead>\n",
       "    <tr style=\"text-align: right;\">\n",
       "      <th></th>\n",
       "      <th>dimCustomerMasterId</th>\n",
       "      <th>year</th>\n",
       "      <th>productGrouping</th>\n",
       "      <th>totalSpent</th>\n",
       "      <th>recentDate</th>\n",
       "      <th>attendancePercent</th>\n",
       "      <th>renewedBeforeDays</th>\n",
       "      <th>source_tenure</th>\n",
       "      <th>tenure</th>\n",
       "      <th>distToVenue</th>\n",
       "      <th>recency</th>\n",
       "      <th>missed_games_1</th>\n",
       "      <th>missed_games_2</th>\n",
       "      <th>missed_games_over_2</th>\n",
       "      <th>isNextYear_Buyer</th>\n",
       "      <th>Label</th>\n",
       "      <th>Score_0</th>\n",
       "      <th>Score_1</th>\n",
       "    </tr>\n",
       "  </thead>\n",
       "  <tbody>\n",
       "    <tr>\n",
       "      <th>0</th>\n",
       "      <td>300577574</td>\n",
       "      <td>2022</td>\n",
       "      <td>Full Season</td>\n",
       "      <td>60.0</td>\n",
       "      <td>2022-05-08</td>\n",
       "      <td>1.0</td>\n",
       "      <td>6</td>\n",
       "      <td>365</td>\n",
       "      <td>3220</td>\n",
       "      <td>22.96</td>\n",
       "      <td>0</td>\n",
       "      <td>0</td>\n",
       "      <td>0</td>\n",
       "      <td>0</td>\n",
       "      <td>0</td>\n",
       "      <td>0</td>\n",
       "      <td>0.8885</td>\n",
       "      <td>0.1115</td>\n",
       "    </tr>\n",
       "    <tr>\n",
       "      <th>1</th>\n",
       "      <td>300577591</td>\n",
       "      <td>2022</td>\n",
       "      <td>Full Season</td>\n",
       "      <td>42.0</td>\n",
       "      <td>2022-05-21</td>\n",
       "      <td>1.0</td>\n",
       "      <td>11</td>\n",
       "      <td>365</td>\n",
       "      <td>1070</td>\n",
       "      <td>29.17</td>\n",
       "      <td>0</td>\n",
       "      <td>0</td>\n",
       "      <td>0</td>\n",
       "      <td>0</td>\n",
       "      <td>0</td>\n",
       "      <td>0</td>\n",
       "      <td>0.8020</td>\n",
       "      <td>0.1980</td>\n",
       "    </tr>\n",
       "    <tr>\n",
       "      <th>2</th>\n",
       "      <td>303998561</td>\n",
       "      <td>2022</td>\n",
       "      <td>Full Season</td>\n",
       "      <td>12.0</td>\n",
       "      <td>2022-06-14</td>\n",
       "      <td>1.0</td>\n",
       "      <td>0</td>\n",
       "      <td>365</td>\n",
       "      <td>3218</td>\n",
       "      <td>35.27</td>\n",
       "      <td>0</td>\n",
       "      <td>0</td>\n",
       "      <td>0</td>\n",
       "      <td>0</td>\n",
       "      <td>0</td>\n",
       "      <td>0</td>\n",
       "      <td>0.9481</td>\n",
       "      <td>0.0519</td>\n",
       "    </tr>\n",
       "    <tr>\n",
       "      <th>3</th>\n",
       "      <td>304347955</td>\n",
       "      <td>2022</td>\n",
       "      <td>Full Season</td>\n",
       "      <td>60.0</td>\n",
       "      <td>1970-01-01</td>\n",
       "      <td>0.0</td>\n",
       "      <td>10</td>\n",
       "      <td>365</td>\n",
       "      <td>417</td>\n",
       "      <td>3.99</td>\n",
       "      <td>0</td>\n",
       "      <td>0</td>\n",
       "      <td>0</td>\n",
       "      <td>0</td>\n",
       "      <td>0</td>\n",
       "      <td>1</td>\n",
       "      <td>0.4896</td>\n",
       "      <td>0.5104</td>\n",
       "    </tr>\n",
       "    <tr>\n",
       "      <th>4</th>\n",
       "      <td>305248094</td>\n",
       "      <td>2022</td>\n",
       "      <td>Full Season</td>\n",
       "      <td>30.0</td>\n",
       "      <td>2022-07-02</td>\n",
       "      <td>0.8</td>\n",
       "      <td>0</td>\n",
       "      <td>365</td>\n",
       "      <td>2560</td>\n",
       "      <td>39.03</td>\n",
       "      <td>0</td>\n",
       "      <td>1</td>\n",
       "      <td>0</td>\n",
       "      <td>0</td>\n",
       "      <td>0</td>\n",
       "      <td>0</td>\n",
       "      <td>0.9774</td>\n",
       "      <td>0.0226</td>\n",
       "    </tr>\n",
       "  </tbody>\n",
       "</table>\n",
       "</div>"
      ],
      "text/plain": [
       "   dimCustomerMasterId  year productGrouping  totalSpent  recentDate  \\\n",
       "0            300577574  2022     Full Season        60.0  2022-05-08   \n",
       "1            300577591  2022     Full Season        42.0  2022-05-21   \n",
       "2            303998561  2022     Full Season        12.0  2022-06-14   \n",
       "3            304347955  2022     Full Season        60.0  1970-01-01   \n",
       "4            305248094  2022     Full Season        30.0  2022-07-02   \n",
       "\n",
       "   attendancePercent  renewedBeforeDays  source_tenure  tenure  distToVenue  \\\n",
       "0                1.0                  6            365    3220        22.96   \n",
       "1                1.0                 11            365    1070        29.17   \n",
       "2                1.0                  0            365    3218        35.27   \n",
       "3                0.0                 10            365     417         3.99   \n",
       "4                0.8                  0            365    2560        39.03   \n",
       "\n",
       "   recency  missed_games_1  missed_games_2  missed_games_over_2  \\\n",
       "0        0               0               0                    0   \n",
       "1        0               0               0                    0   \n",
       "2        0               0               0                    0   \n",
       "3        0               0               0                    0   \n",
       "4        0               1               0                    0   \n",
       "\n",
       "   isNextYear_Buyer  Label  Score_0  Score_1  \n",
       "0                 0      0   0.8885   0.1115  \n",
       "1                 0      0   0.8020   0.1980  \n",
       "2                 0      0   0.9481   0.0519  \n",
       "3                 0      1   0.4896   0.5104  \n",
       "4                 0      0   0.9774   0.0226  "
      ]
     },
     "execution_count": 71,
     "metadata": {},
     "output_type": "execute_result"
    }
   ],
   "source": [
    "df_predictions = predict_model(best_model, data=df_inference, raw_score=True)\n",
    "df_predictions.head()"
   ]
  },
  {
   "cell_type": "markdown",
   "metadata": {},
   "source": [
    "### Let's examine the number of buyers vs. non-buyers and look at the distribution of scores:"
   ]
  },
  {
   "cell_type": "code",
   "execution_count": 72,
   "metadata": {},
   "outputs": [
    {
     "name": "stdout",
     "output_type": "stream",
     "text": [
      "No. predicted non-buyers: 863\n",
      "No. predicted buyers: 319\n"
     ]
    }
   ],
   "source": [
    "print(f\"No. predicted non-buyers: {df_predictions['Label'].value_counts()[0]}\")\n",
    "print(f\"No. predicted buyers: {df_predictions['Label'].value_counts()[1]}\")"
   ]
  },
  {
   "cell_type": "code",
   "execution_count": 73,
   "metadata": {},
   "outputs": [
    {
     "data": {
      "text/plain": [
       "Text(0.5, 0, 'SA Buyer Score')"
      ]
     },
     "execution_count": 73,
     "metadata": {},
     "output_type": "execute_result"
    },
    {
     "data": {
      "image/png": "[encoded data removed]",
      "text/plain": [
       "<Figure size 1440x360 with 1 Axes>"
      ]
     },
     "metadata": {},
     "output_type": "display_data"
    }
   ],
   "source": [
    "fig = plt.figure(figsize=(20, 5))\n",
    "\n",
    "plt.hist(df_predictions[\"Score_1\"], bins=20, edgecolor='black', color='dodgerblue')\n",
    "plt.title(\"Retention Scores\", fontsize=16)\n",
    "plt.ylabel(\"Num Fans\", fontsize=14)\n",
    "plt.xlabel(\"SA Buyer Score\", fontsize=14)"
   ]
  },
  {
   "cell_type": "markdown",
   "metadata": {},
   "source": [
    "### Done"
   ]
  }
 ],
 "metadata": {
  "kernelspec": {
   "display_name": "Python 3.8.5 ('stellar')",
   "language": "python",
   "name": "python3"
  },
  "language_info": {
   "codemirror_mode": {
    "name": "ipython",
    "version": 3
   },
   "file_extension": ".py",
   "mimetype": "text/x-python",
   "name": "python",
   "nbconvert_exporter": "python",
   "pygments_lexer": "ipython3",
   "version": "3.8.5"
  },
  "orig_nbformat": 4,
  "vscode": {
   "interpreter": {
    "hash": "89f48dadab51a6b5b48ffc1a9e043c21cefe67453637c3444f3b86917b8aad16"
   }
  }
 },
 "nbformat": 4,
 "nbformat_minor": 2
}
