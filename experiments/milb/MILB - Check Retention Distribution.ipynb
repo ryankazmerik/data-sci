{
 "cells": [
  {
   "cell_type": "markdown",
   "metadata": {},
   "source": [
    "# MILB - Check Retention Distribution\n",
    "* StellarAlgo\n",
    "* Ryan Kazmerik\n",
    "* August 2, 2022"
   ]
  },
  {
   "cell_type": "code",
   "execution_count": null,
   "metadata": {},
   "outputs": [],
   "source": [
    "import boto3 \n",
    "import json\n",
    "import matplotlib.pyplot as plt\n",
    "import pandas as pd\n",
    "import psycopg2\n",
    "\n",
    "from pycaret.classification import *\n",
    "from shared_utilities import helpers"
   ]
  },
  {
   "cell_type": "code",
   "execution_count": null,
   "metadata": {},
   "outputs": [],
   "source": [
    "from importlib import reload\n",
    "reload(helpers)"
   ]
  },
  {
   "cell_type": "markdown",
   "metadata": {},
   "source": [
    "### Let's grab the training and eval datasets currently in prod:"
   ]
  },
  {
   "cell_type": "code",
   "execution_count": null,
   "metadata": {},
   "outputs": [],
   "source": [
    "df_train = pd.read_csv(\"./data/train.csv\")\n",
    "df_eval = pd.read_csv(\"./data/eval.csv\")"
   ]
  },
  {
   "cell_type": "markdown",
   "metadata": {},
   "source": [
    "### Let's setup our new model:"
   ]
  },
  {
   "cell_type": "code",
   "execution_count": 57,
   "metadata": {},
   "outputs": [
    {
     "data": {
      "text/html": [
       "<style type=\"text/css\">\n",
       "#T_d9700_ th {\n",
       "  text-align: left;\n",
       "}\n",
       "#T_d9700_row0_col0 {\n",
       "  text-align: left;\n",
       "}\n",
       "#T_d9700_row0_col1, #T_d9700_row0_col2, #T_d9700_row0_col3, #T_d9700_row0_col4, #T_d9700_row0_col5, #T_d9700_row0_col6, #T_d9700_row0_col7 {\n",
       "  text-align: left;\n",
       "  background-color: yellow;\n",
       "}\n",
       "#T_d9700_row0_col8 {\n",
       "  text-align: left;\n",
       "  background-color: yellow;\n",
       "  background-color: lightgrey;\n",
       "}\n",
       "</style>\n",
       "<table id=\"T_d9700_\">\n",
       "  <thead>\n",
       "    <tr>\n",
       "      <th class=\"blank level0\" >&nbsp;</th>\n",
       "      <th class=\"col_heading level0 col0\" >Model</th>\n",
       "      <th class=\"col_heading level0 col1\" >Accuracy</th>\n",
       "      <th class=\"col_heading level0 col2\" >AUC</th>\n",
       "      <th class=\"col_heading level0 col3\" >Recall</th>\n",
       "      <th class=\"col_heading level0 col4\" >Prec.</th>\n",
       "      <th class=\"col_heading level0 col5\" >F1</th>\n",
       "      <th class=\"col_heading level0 col6\" >Kappa</th>\n",
       "      <th class=\"col_heading level0 col7\" >MCC</th>\n",
       "      <th class=\"col_heading level0 col8\" >TT (Sec)</th>\n",
       "    </tr>\n",
       "  </thead>\n",
       "  <tbody>\n",
       "    <tr>\n",
       "      <th id=\"T_d9700_level0_row0\" class=\"row_heading level0 row0\" >lr</th>\n",
       "      <td id=\"T_d9700_row0_col0\" class=\"data row0 col0\" >Logistic Regression</td>\n",
       "      <td id=\"T_d9700_row0_col1\" class=\"data row0 col1\" >0.6633</td>\n",
       "      <td id=\"T_d9700_row0_col2\" class=\"data row0 col2\" >0.7235</td>\n",
       "      <td id=\"T_d9700_row0_col3\" class=\"data row0 col3\" >0.5851</td>\n",
       "      <td id=\"T_d9700_row0_col4\" class=\"data row0 col4\" >0.6270</td>\n",
       "      <td id=\"T_d9700_row0_col5\" class=\"data row0 col5\" >0.6053</td>\n",
       "      <td id=\"T_d9700_row0_col6\" class=\"data row0 col6\" >0.3123</td>\n",
       "      <td id=\"T_d9700_row0_col7\" class=\"data row0 col7\" >0.3129</td>\n",
       "      <td id=\"T_d9700_row0_col8\" class=\"data row0 col8\" >2.5350</td>\n",
       "    </tr>\n",
       "  </tbody>\n",
       "</table>\n"
      ],
      "text/plain": [
       "<pandas.io.formats.style.Styler at 0x7f8ad6aad490>"
      ]
     },
     "metadata": {},
     "output_type": "display_data"
    }
   ],
   "source": [
    "setup(\n",
    "    data= df_train, \n",
    "    target=\"isNextYear_Buyer\", \n",
    "    train_size = 0.85,\n",
    "    data_split_shuffle=True,\n",
    "    date_features=[\n",
    "        \"recentDate\"\n",
    "    ],\n",
    "    ignore_features=[\n",
    "        \"dimCustomerMasterId\",\n",
    "        \"productGrouping\",\n",
    "        \"year\"\n",
    "    ],\n",
    "    numeric_features=[\n",
    "        \"attendancePercent\", \n",
    "        \"distToVenue\",\n",
    "        \"missed_games_1\",\n",
    "        \"missed_games_2\",\n",
    "        \"missed_games_over_2\",\n",
    "        \"recency\",\n",
    "        \"renewedBeforeDays\",\n",
    "        \"source_tenure\",\n",
    "        \"totalSpent\"\n",
    "    ],\n",
    "    silent=True,\n",
    "    verbose=False\n",
    ");\n",
    "\n",
    "best_model = compare_models(\n",
    "    fold=2,\n",
    "    include=[\"lr\"]\n",
    ")"
   ]
  },
  {
   "cell_type": "markdown",
   "metadata": {},
   "source": [
    "### Let's finalize our new model so it can be used to make predictions:"
   ]
  },
  {
   "cell_type": "code",
   "execution_count": null,
   "metadata": {},
   "outputs": [],
   "source": [
    "final_model = create_model(best_model)\n",
    "new_model = finalize_model(final_model)"
   ]
  },
  {
   "cell_type": "markdown",
   "metadata": {},
   "source": [
    "### Let's also load in the model currently being used in production:"
   ]
  },
  {
   "cell_type": "code",
   "execution_count": 59,
   "metadata": {},
   "outputs": [
    {
     "name": "stdout",
     "output_type": "stream",
     "text": [
      "Transformation Pipeline and Model Successfully Loaded\n"
     ]
    }
   ],
   "source": [
    "prod_model = load_model('./models/model(2022-05-12)')"
   ]
  },
  {
   "cell_type": "markdown",
   "metadata": {},
   "source": [
    "### Let's use the new and existing model to make predictions on the 2022 season:"
   ]
  },
  {
   "cell_type": "code",
   "execution_count": 64,
   "metadata": {},
   "outputs": [],
   "source": [
    "df_inference = pd.read_csv(\"./data/inference.csv\")\n",
    "df_inference.columns=['attendancePercent','clientcode','dimcustomermasterid','distToVenue','isNextYear_Buyer','lkupclientid','missed_games_1','missed_games_2','missed_games_over_2','productGrouping','recency','recentDate','renewedBeforeDays','source_tenure','totalSpent','year']\n",
    "\n",
    "df_inference = df_inference.loc[df_inference['lkupclientid']==20]"
   ]
  },
  {
   "cell_type": "code",
   "execution_count": 65,
   "metadata": {},
   "outputs": [],
   "source": [
    "df_new_predictions = predict_model(new_model, data=df_inference, raw_score=True)\n",
    "df_prod_predictions = predict_model(prod_model, data=df_inference, raw_score=True)"
   ]
  },
  {
   "cell_type": "markdown",
   "metadata": {},
   "source": [
    "### Let's have a look at the distribution of scores for both models:"
   ]
  },
  {
   "cell_type": "code",
   "execution_count": 66,
   "metadata": {},
   "outputs": [
    {
     "data": {
      "image/png": "[encoded data removed]",
      "text/plain": [
       "<Figure size 1440x396 with 2 Axes>"
      ]
     },
     "metadata": {},
     "output_type": "display_data"
    }
   ],
   "source": [
    "fig, (ax1, ax2) = plt.subplots(1, 2)\n",
    "fig.suptitle('Retention Scores')\n",
    "ax1.hist(df_new_predictions['Score_1'], bins=20, edgecolor='black', color='dodgerblue')\n",
    "ax2.hist(df_prod_predictions['Score_1'], bins=20, edgecolor='black', color='dodgerblue')\n",
    "ax1.set_xlabel('New Predictions')\n",
    "ax2.set_xlabel('Prod Predictions')\n",
    "\n",
    "fig.figure.set_figwidth(20)"
   ]
  },
  {
   "cell_type": "markdown",
   "metadata": {},
   "source": [
    "### Done"
   ]
  },
  {
   "cell_type": "markdown",
   "metadata": {},
   "source": []
  }
 ],
 "metadata": {
  "kernelspec": {
   "display_name": "Python 3.8.5 ('stellar')",
   "language": "python",
   "name": "python3"
  },
  "language_info": {
   "codemirror_mode": {
    "name": "ipython",
    "version": 3
   },
   "file_extension": ".py",
   "mimetype": "text/x-python",
   "name": "python",
   "nbconvert_exporter": "python",
   "pygments_lexer": "ipython3",
   "version": "3.8.5"
  },
  "orig_nbformat": 4,
  "vscode": {
   "interpreter": {
    "hash": "89f48dadab51a6b5b48ffc1a9e043c21cefe67453637c3444f3b86917b8aad16"
   }
  }
 },
 "nbformat": 4,
 "nbformat_minor": 2
}
