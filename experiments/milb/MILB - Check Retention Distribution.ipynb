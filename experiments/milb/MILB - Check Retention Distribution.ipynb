{
 "cells": [
  {
   "cell_type": "markdown",
   "metadata": {},
   "source": [
    "# MILB - Check Retention Distribution\n",
    "* StellarAlgo\n",
    "* Ryan Kazmerik\n",
    "* August 2, 2022"
   ]
  },
  {
   "cell_type": "code",
   "execution_count": null,
   "metadata": {},
   "outputs": [],
   "source": [
    "import boto3 \n",
    "import json\n",
    "import matplotlib.pyplot as plt\n",
    "import pandas as pd\n",
    "import psycopg2\n",
    "\n",
    "from pycaret.classification import *\n",
    "from shared_utilities import helpers"
   ]
  },
  {
   "cell_type": "code",
   "execution_count": null,
   "metadata": {},
   "outputs": [],
   "source": [
    "from importlib import reload\n",
    "reload(helpers)"
   ]
  },
  {
   "cell_type": "markdown",
   "metadata": {},
   "source": [
    "### Let's grab the training and eval datasets currently in prod:"
   ]
  },
  {
   "cell_type": "code",
   "execution_count": null,
   "metadata": {},
   "outputs": [],
   "source": [
    "df_train = pd.read_csv(\"./data/train.csv\")\n",
    "df_eval = pd.read_csv(\"./data/eval.csv\")"
   ]
  },
  {
   "cell_type": "markdown",
   "metadata": {},
   "source": [
    "### Let's setup our new model:"
   ]
  },
  {
   "cell_type": "code",
   "execution_count": 71,
   "metadata": {},
   "outputs": [
    {
     "data": {
      "text/html": [
       "<style type=\"text/css\">\n",
       "#T_7ba67_ th {\n",
       "  text-align: left;\n",
       "}\n",
       "#T_7ba67_row0_col0 {\n",
       "  text-align: left;\n",
       "}\n",
       "#T_7ba67_row0_col1, #T_7ba67_row0_col2, #T_7ba67_row0_col3, #T_7ba67_row0_col4, #T_7ba67_row0_col5, #T_7ba67_row0_col6, #T_7ba67_row0_col7 {\n",
       "  text-align: left;\n",
       "  background-color: yellow;\n",
       "}\n",
       "#T_7ba67_row0_col8 {\n",
       "  text-align: left;\n",
       "  background-color: yellow;\n",
       "  background-color: lightgrey;\n",
       "}\n",
       "</style>\n",
       "<table id=\"T_7ba67_\">\n",
       "  <thead>\n",
       "    <tr>\n",
       "      <th class=\"blank level0\" >&nbsp;</th>\n",
       "      <th class=\"col_heading level0 col0\" >Model</th>\n",
       "      <th class=\"col_heading level0 col1\" >Accuracy</th>\n",
       "      <th class=\"col_heading level0 col2\" >AUC</th>\n",
       "      <th class=\"col_heading level0 col3\" >Recall</th>\n",
       "      <th class=\"col_heading level0 col4\" >Prec.</th>\n",
       "      <th class=\"col_heading level0 col5\" >F1</th>\n",
       "      <th class=\"col_heading level0 col6\" >Kappa</th>\n",
       "      <th class=\"col_heading level0 col7\" >MCC</th>\n",
       "      <th class=\"col_heading level0 col8\" >TT (Sec)</th>\n",
       "    </tr>\n",
       "  </thead>\n",
       "  <tbody>\n",
       "    <tr>\n",
       "      <th id=\"T_7ba67_level0_row0\" class=\"row_heading level0 row0\" >lightgbm</th>\n",
       "      <td id=\"T_7ba67_row0_col0\" class=\"data row0 col0\" >Light Gradient Boosting Machine</td>\n",
       "      <td id=\"T_7ba67_row0_col1\" class=\"data row0 col1\" >0.7646</td>\n",
       "      <td id=\"T_7ba67_row0_col2\" class=\"data row0 col2\" >0.8403</td>\n",
       "      <td id=\"T_7ba67_row0_col3\" class=\"data row0 col3\" >0.7381</td>\n",
       "      <td id=\"T_7ba67_row0_col4\" class=\"data row0 col4\" >0.7304</td>\n",
       "      <td id=\"T_7ba67_row0_col5\" class=\"data row0 col5\" >0.7342</td>\n",
       "      <td id=\"T_7ba67_row0_col6\" class=\"data row0 col6\" >0.5230</td>\n",
       "      <td id=\"T_7ba67_row0_col7\" class=\"data row0 col7\" >0.5231</td>\n",
       "      <td id=\"T_7ba67_row0_col8\" class=\"data row0 col8\" >0.8290</td>\n",
       "    </tr>\n",
       "  </tbody>\n",
       "</table>\n"
      ],
      "text/plain": [
       "<pandas.io.formats.style.Styler at 0x7f8ad31de730>"
      ]
     },
     "metadata": {},
     "output_type": "display_data"
    }
   ],
   "source": [
    "setup(\n",
    "    data= df_train, \n",
    "    target=\"isNextYear_Buyer\", \n",
    "    train_size = 0.85,\n",
    "    data_split_shuffle=True,\n",
    "    date_features=[\n",
    "        \"recentDate\"\n",
    "    ],\n",
    "    ignore_features=[\n",
    "        \"dimCustomerMasterId\",\n",
    "        \"productGrouping\",\n",
    "        \"year\"\n",
    "    ],\n",
    "    numeric_features=[\n",
    "        \"attendancePercent\", \n",
    "        \"distToVenue\",\n",
    "        \"missed_games_1\",\n",
    "        \"missed_games_2\",\n",
    "        \"missed_games_over_2\",\n",
    "        \"recency\",\n",
    "        \"renewedBeforeDays\",\n",
    "        \"source_tenure\",\n",
    "        \"totalSpent\"\n",
    "    ],\n",
    "    silent=True,\n",
    "    verbose=False\n",
    ");\n",
    "\n",
    "best_model = compare_models(\n",
    "    fold=10,\n",
    "    include=[\"lightgbm\"]\n",
    ")"
   ]
  },
  {
   "cell_type": "markdown",
   "metadata": {},
   "source": [
    "### Let's finalize our new model so it can be used to make predictions:"
   ]
  },
  {
   "cell_type": "code",
   "execution_count": 72,
   "metadata": {},
   "outputs": [
    {
     "data": {
      "text/html": [
       "<style type=\"text/css\">\n",
       "#T_836ae_row10_col0, #T_836ae_row10_col1, #T_836ae_row10_col2, #T_836ae_row10_col3, #T_836ae_row10_col4, #T_836ae_row10_col5, #T_836ae_row10_col6 {\n",
       "  background: yellow;\n",
       "}\n",
       "</style>\n",
       "<table id=\"T_836ae_\">\n",
       "  <thead>\n",
       "    <tr>\n",
       "      <th class=\"blank level0\" >&nbsp;</th>\n",
       "      <th class=\"col_heading level0 col0\" >Accuracy</th>\n",
       "      <th class=\"col_heading level0 col1\" >AUC</th>\n",
       "      <th class=\"col_heading level0 col2\" >Recall</th>\n",
       "      <th class=\"col_heading level0 col3\" >Prec.</th>\n",
       "      <th class=\"col_heading level0 col4\" >F1</th>\n",
       "      <th class=\"col_heading level0 col5\" >Kappa</th>\n",
       "      <th class=\"col_heading level0 col6\" >MCC</th>\n",
       "    </tr>\n",
       "  </thead>\n",
       "  <tbody>\n",
       "    <tr>\n",
       "      <th id=\"T_836ae_level0_row0\" class=\"row_heading level0 row0\" >0</th>\n",
       "      <td id=\"T_836ae_row0_col0\" class=\"data row0 col0\" >0.7638</td>\n",
       "      <td id=\"T_836ae_row0_col1\" class=\"data row0 col1\" >0.8426</td>\n",
       "      <td id=\"T_836ae_row0_col2\" class=\"data row0 col2\" >0.7318</td>\n",
       "      <td id=\"T_836ae_row0_col3\" class=\"data row0 col3\" >0.7318</td>\n",
       "      <td id=\"T_836ae_row0_col4\" class=\"data row0 col4\" >0.7318</td>\n",
       "      <td id=\"T_836ae_row0_col5\" class=\"data row0 col5\" >0.5208</td>\n",
       "      <td id=\"T_836ae_row0_col6\" class=\"data row0 col6\" >0.5208</td>\n",
       "    </tr>\n",
       "    <tr>\n",
       "      <th id=\"T_836ae_level0_row1\" class=\"row_heading level0 row1\" >1</th>\n",
       "      <td id=\"T_836ae_row1_col0\" class=\"data row1 col0\" >0.7526</td>\n",
       "      <td id=\"T_836ae_row1_col1\" class=\"data row1 col1\" >0.8292</td>\n",
       "      <td id=\"T_836ae_row1_col2\" class=\"data row1 col2\" >0.7370</td>\n",
       "      <td id=\"T_836ae_row1_col3\" class=\"data row1 col3\" >0.7115</td>\n",
       "      <td id=\"T_836ae_row1_col4\" class=\"data row1 col4\" >0.7240</td>\n",
       "      <td id=\"T_836ae_row1_col5\" class=\"data row1 col5\" >0.4999</td>\n",
       "      <td id=\"T_836ae_row1_col6\" class=\"data row1 col6\" >0.5002</td>\n",
       "    </tr>\n",
       "    <tr>\n",
       "      <th id=\"T_836ae_level0_row2\" class=\"row_heading level0 row2\" >2</th>\n",
       "      <td id=\"T_836ae_row2_col0\" class=\"data row2 col0\" >0.7663</td>\n",
       "      <td id=\"T_836ae_row2_col1\" class=\"data row2 col1\" >0.8440</td>\n",
       "      <td id=\"T_836ae_row2_col2\" class=\"data row2 col2\" >0.7376</td>\n",
       "      <td id=\"T_836ae_row2_col3\" class=\"data row2 col3\" >0.7333</td>\n",
       "      <td id=\"T_836ae_row2_col4\" class=\"data row2 col4\" >0.7354</td>\n",
       "      <td id=\"T_836ae_row2_col5\" class=\"data row2 col5\" >0.5262</td>\n",
       "      <td id=\"T_836ae_row2_col6\" class=\"data row2 col6\" >0.5262</td>\n",
       "    </tr>\n",
       "    <tr>\n",
       "      <th id=\"T_836ae_level0_row3\" class=\"row_heading level0 row3\" >3</th>\n",
       "      <td id=\"T_836ae_row3_col0\" class=\"data row3 col0\" >0.7669</td>\n",
       "      <td id=\"T_836ae_row3_col1\" class=\"data row3 col1\" >0.8445</td>\n",
       "      <td id=\"T_836ae_row3_col2\" class=\"data row3 col2\" >0.7441</td>\n",
       "      <td id=\"T_836ae_row3_col3\" class=\"data row3 col3\" >0.7312</td>\n",
       "      <td id=\"T_836ae_row3_col4\" class=\"data row3 col4\" >0.7376</td>\n",
       "      <td id=\"T_836ae_row3_col5\" class=\"data row3 col5\" >0.5280</td>\n",
       "      <td id=\"T_836ae_row3_col6\" class=\"data row3 col6\" >0.5281</td>\n",
       "    </tr>\n",
       "    <tr>\n",
       "      <th id=\"T_836ae_level0_row4\" class=\"row_heading level0 row4\" >4</th>\n",
       "      <td id=\"T_836ae_row4_col0\" class=\"data row4 col0\" >0.7583</td>\n",
       "      <td id=\"T_836ae_row4_col1\" class=\"data row4 col1\" >0.8364</td>\n",
       "      <td id=\"T_836ae_row4_col2\" class=\"data row4 col2\" >0.7331</td>\n",
       "      <td id=\"T_836ae_row4_col3\" class=\"data row4 col3\" >0.7223</td>\n",
       "      <td id=\"T_836ae_row4_col4\" class=\"data row4 col4\" >0.7277</td>\n",
       "      <td id=\"T_836ae_row4_col5\" class=\"data row4 col5\" >0.5104</td>\n",
       "      <td id=\"T_836ae_row4_col6\" class=\"data row4 col6\" >0.5105</td>\n",
       "    </tr>\n",
       "    <tr>\n",
       "      <th id=\"T_836ae_level0_row5\" class=\"row_heading level0 row5\" >5</th>\n",
       "      <td id=\"T_836ae_row5_col0\" class=\"data row5 col0\" >0.7594</td>\n",
       "      <td id=\"T_836ae_row5_col1\" class=\"data row5 col1\" >0.8342</td>\n",
       "      <td id=\"T_836ae_row5_col2\" class=\"data row5 col2\" >0.7423</td>\n",
       "      <td id=\"T_836ae_row5_col3\" class=\"data row5 col3\" >0.7202</td>\n",
       "      <td id=\"T_836ae_row5_col4\" class=\"data row5 col4\" >0.7310</td>\n",
       "      <td id=\"T_836ae_row5_col5\" class=\"data row5 col5\" >0.5136</td>\n",
       "      <td id=\"T_836ae_row5_col6\" class=\"data row5 col6\" >0.5138</td>\n",
       "    </tr>\n",
       "    <tr>\n",
       "      <th id=\"T_836ae_level0_row6\" class=\"row_heading level0 row6\" >6</th>\n",
       "      <td id=\"T_836ae_row6_col0\" class=\"data row6 col0\" >0.7730</td>\n",
       "      <td id=\"T_836ae_row6_col1\" class=\"data row6 col1\" >0.8422</td>\n",
       "      <td id=\"T_836ae_row6_col2\" class=\"data row6 col2\" >0.7501</td>\n",
       "      <td id=\"T_836ae_row6_col3\" class=\"data row6 col3\" >0.7385</td>\n",
       "      <td id=\"T_836ae_row6_col4\" class=\"data row6 col4\" >0.7443</td>\n",
       "      <td id=\"T_836ae_row6_col5\" class=\"data row6 col5\" >0.5401</td>\n",
       "      <td id=\"T_836ae_row6_col6\" class=\"data row6 col6\" >0.5402</td>\n",
       "    </tr>\n",
       "    <tr>\n",
       "      <th id=\"T_836ae_level0_row7\" class=\"row_heading level0 row7\" >7</th>\n",
       "      <td id=\"T_836ae_row7_col0\" class=\"data row7 col0\" >0.7668</td>\n",
       "      <td id=\"T_836ae_row7_col1\" class=\"data row7 col1\" >0.8417</td>\n",
       "      <td id=\"T_836ae_row7_col2\" class=\"data row7 col2\" >0.7387</td>\n",
       "      <td id=\"T_836ae_row7_col3\" class=\"data row7 col3\" >0.7336</td>\n",
       "      <td id=\"T_836ae_row7_col4\" class=\"data row7 col4\" >0.7361</td>\n",
       "      <td id=\"T_836ae_row7_col5\" class=\"data row7 col5\" >0.5272</td>\n",
       "      <td id=\"T_836ae_row7_col6\" class=\"data row7 col6\" >0.5272</td>\n",
       "    </tr>\n",
       "    <tr>\n",
       "      <th id=\"T_836ae_level0_row8\" class=\"row_heading level0 row8\" >8</th>\n",
       "      <td id=\"T_836ae_row8_col0\" class=\"data row8 col0\" >0.7655</td>\n",
       "      <td id=\"T_836ae_row8_col1\" class=\"data row8 col1\" >0.8400</td>\n",
       "      <td id=\"T_836ae_row8_col2\" class=\"data row8 col2\" >0.7299</td>\n",
       "      <td id=\"T_836ae_row8_col3\" class=\"data row8 col3\" >0.7356</td>\n",
       "      <td id=\"T_836ae_row8_col4\" class=\"data row8 col4\" >0.7327</td>\n",
       "      <td id=\"T_836ae_row8_col5\" class=\"data row8 col5\" >0.5238</td>\n",
       "      <td id=\"T_836ae_row8_col6\" class=\"data row8 col6\" >0.5238</td>\n",
       "    </tr>\n",
       "    <tr>\n",
       "      <th id=\"T_836ae_level0_row9\" class=\"row_heading level0 row9\" >9</th>\n",
       "      <td id=\"T_836ae_row9_col0\" class=\"data row9 col0\" >0.7735</td>\n",
       "      <td id=\"T_836ae_row9_col1\" class=\"data row9 col1\" >0.8481</td>\n",
       "      <td id=\"T_836ae_row9_col2\" class=\"data row9 col2\" >0.7364</td>\n",
       "      <td id=\"T_836ae_row9_col3\" class=\"data row9 col3\" >0.7461</td>\n",
       "      <td id=\"T_836ae_row9_col4\" class=\"data row9 col4\" >0.7412</td>\n",
       "      <td id=\"T_836ae_row9_col5\" class=\"data row9 col5\" >0.5399</td>\n",
       "      <td id=\"T_836ae_row9_col6\" class=\"data row9 col6\" >0.5399</td>\n",
       "    </tr>\n",
       "    <tr>\n",
       "      <th id=\"T_836ae_level0_row10\" class=\"row_heading level0 row10\" >Mean</th>\n",
       "      <td id=\"T_836ae_row10_col0\" class=\"data row10 col0\" >0.7646</td>\n",
       "      <td id=\"T_836ae_row10_col1\" class=\"data row10 col1\" >0.8403</td>\n",
       "      <td id=\"T_836ae_row10_col2\" class=\"data row10 col2\" >0.7381</td>\n",
       "      <td id=\"T_836ae_row10_col3\" class=\"data row10 col3\" >0.7304</td>\n",
       "      <td id=\"T_836ae_row10_col4\" class=\"data row10 col4\" >0.7342</td>\n",
       "      <td id=\"T_836ae_row10_col5\" class=\"data row10 col5\" >0.5230</td>\n",
       "      <td id=\"T_836ae_row10_col6\" class=\"data row10 col6\" >0.5231</td>\n",
       "    </tr>\n",
       "    <tr>\n",
       "      <th id=\"T_836ae_level0_row11\" class=\"row_heading level0 row11\" >SD</th>\n",
       "      <td id=\"T_836ae_row11_col0\" class=\"data row11 col0\" >0.0061</td>\n",
       "      <td id=\"T_836ae_row11_col1\" class=\"data row11 col1\" >0.0053</td>\n",
       "      <td id=\"T_836ae_row11_col2\" class=\"data row11 col2\" >0.0058</td>\n",
       "      <td id=\"T_836ae_row11_col3\" class=\"data row11 col3\" >0.0094</td>\n",
       "      <td id=\"T_836ae_row11_col4\" class=\"data row11 col4\" >0.0058</td>\n",
       "      <td id=\"T_836ae_row11_col5\" class=\"data row11 col5\" >0.0119</td>\n",
       "      <td id=\"T_836ae_row11_col6\" class=\"data row11 col6\" >0.0118</td>\n",
       "    </tr>\n",
       "  </tbody>\n",
       "</table>\n"
      ],
      "text/plain": [
       "<pandas.io.formats.style.Styler at 0x7f8aeea715e0>"
      ]
     },
     "metadata": {},
     "output_type": "display_data"
    }
   ],
   "source": [
    "final_model = create_model(best_model)\n",
    "new_model = finalize_model(final_model)"
   ]
  },
  {
   "cell_type": "markdown",
   "metadata": {},
   "source": [
    "### Let's also load in the model currently being used in production:"
   ]
  },
  {
   "cell_type": "code",
   "execution_count": 59,
   "metadata": {},
   "outputs": [
    {
     "name": "stdout",
     "output_type": "stream",
     "text": [
      "Transformation Pipeline and Model Successfully Loaded\n"
     ]
    }
   ],
   "source": [
    "prod_model = load_model('./models/model(2022-05-12)')"
   ]
  },
  {
   "cell_type": "markdown",
   "metadata": {},
   "source": [
    "### Let's use the new and existing model to make predictions on the 2022 season:"
   ]
  },
  {
   "cell_type": "code",
   "execution_count": 64,
   "metadata": {},
   "outputs": [],
   "source": [
    "df_inference = pd.read_csv(\"./data/inference.csv\")\n",
    "df_inference.columns=['attendancePercent','clientcode','dimcustomermasterid','distToVenue','isNextYear_Buyer','lkupclientid','missed_games_1','missed_games_2','missed_games_over_2','productGrouping','recency','recentDate','renewedBeforeDays','source_tenure','totalSpent','year']\n",
    "\n",
    "df_inference = df_inference.loc[df_inference['lkupclientid']==20]"
   ]
  },
  {
   "cell_type": "code",
   "execution_count": 73,
   "metadata": {},
   "outputs": [],
   "source": [
    "df_new_predictions = predict_model(new_model, data=df_inference, raw_score=True)\n",
    "df_prod_predictions = predict_model(prod_model, data=df_inference, raw_score=True)"
   ]
  },
  {
   "cell_type": "markdown",
   "metadata": {},
   "source": [
    "### Let's try normalizing the scores between a range of 0 and 1:"
   ]
  },
  {
   "cell_type": "code",
   "execution_count": 74,
   "metadata": {},
   "outputs": [],
   "source": [
    "def NormalizeData(data):\n",
    "    return (data - np.min(data)) / (np.max(data) - np.min(data))"
   ]
  },
  {
   "cell_type": "code",
   "execution_count": 75,
   "metadata": {},
   "outputs": [
    {
     "data": {
      "text/plain": [
       "(0.4, 0.5]       260\n",
       "(0.1, 0.2]       252\n",
       "(0.3, 0.4]       188\n",
       "(-0.001, 0.1]    151\n",
       "(0.2, 0.3]       112\n",
       "(0.5, 0.6]        93\n",
       "(0.6, 0.7]        48\n",
       "(0.8, 0.9]        30\n",
       "(0.7, 0.8]        27\n",
       "(0.9, 1.0]        19\n",
       "Name: Score_1, dtype: int64"
      ]
     },
     "execution_count": 75,
     "metadata": {},
     "output_type": "execute_result"
    }
   ],
   "source": [
    "df_new_predictions[\"Score_1\"] = NormalizeData(df_new_predictions[\"Score_1\"])\n",
    "\n",
    "df_new_predictions[\"Score_1\"].value_counts(bins=[0,0.1,0.2,0.3,0.4,0.5,0.6,0.7,0.8,0.9,1.0])"
   ]
  },
  {
   "cell_type": "markdown",
   "metadata": {},
   "source": [
    "### Let's have a look at the distribution of scores for both models:"
   ]
  },
  {
   "cell_type": "code",
   "execution_count": 76,
   "metadata": {},
   "outputs": [
    {
     "data": {
      "image/png": "[encoded data removed]",
      "text/plain": [
       "<Figure size 1440x396 with 2 Axes>"
      ]
     },
     "metadata": {},
     "output_type": "display_data"
    }
   ],
   "source": [
    "fig, (ax1, ax2) = plt.subplots(1, 2)\n",
    "fig.suptitle('Retention Scores')\n",
    "ax1.hist(df_new_predictions['Score_1'], bins=20, edgecolor='black', color='dodgerblue')\n",
    "ax2.hist(df_prod_predictions['Score_1'], bins=20, edgecolor='black', color='dodgerblue')\n",
    "ax1.set_xlabel('New Predictions')\n",
    "ax2.set_xlabel('Prod Predictions')\n",
    "\n",
    "fig.figure.set_figwidth(20)"
   ]
  },
  {
   "cell_type": "markdown",
   "metadata": {},
   "source": [
    "### Done"
   ]
  },
  {
   "cell_type": "markdown",
   "metadata": {},
   "source": []
  }
 ],
 "metadata": {
  "kernelspec": {
   "display_name": "Python 3.8.5 ('stellar')",
   "language": "python",
   "name": "python3"
  },
  "language_info": {
   "codemirror_mode": {
    "name": "ipython",
    "version": 3
   },
   "file_extension": ".py",
   "mimetype": "text/x-python",
   "name": "python",
   "nbconvert_exporter": "python",
   "pygments_lexer": "ipython3",
   "version": "3.8.5"
  },
  "orig_nbformat": 4,
  "vscode": {
   "interpreter": {
    "hash": "89f48dadab51a6b5b48ffc1a9e043c21cefe67453637c3444f3b86917b8aad16"
   }
  }
 },
 "nbformat": 4,
 "nbformat_minor": 2
}
