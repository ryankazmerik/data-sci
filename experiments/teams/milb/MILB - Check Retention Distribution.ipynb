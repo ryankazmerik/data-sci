{
 "cells": [
  {
   "cell_type": "markdown",
   "metadata": {},
   "source": [
    "# MILB - Check Retention Distribution\n",
    "* StellarAlgo\n",
    "* Ryan Kazmerik\n",
    "* August 2, 2022"
   ]
  },
  {
   "cell_type": "code",
   "execution_count": 2,
   "metadata": {},
   "outputs": [],
   "source": [
    "import boto3 \n",
    "import json\n",
    "import matplotlib.pyplot as plt\n",
    "import pandas as pd\n",
    "import psycopg2\n",
    "\n",
    "from pycaret.classification import *\n",
    "from shared_utilities import helpers"
   ]
  },
  {
   "cell_type": "code",
   "execution_count": null,
   "metadata": {},
   "outputs": [],
   "source": [
    "from importlib import reload\n",
    "reload(helpers)"
   ]
  },
  {
   "cell_type": "markdown",
   "metadata": {},
   "source": [
    "### Let's grab the training and eval datasets currently in prod:"
   ]
  },
  {
   "cell_type": "code",
   "execution_count": 3,
   "metadata": {},
   "outputs": [],
   "source": [
    "df_train = pd.read_csv(\"./data/train.csv\")\n",
    "df_eval = pd.read_csv(\"./data/eval.csv\")"
   ]
  },
  {
   "cell_type": "markdown",
   "metadata": {},
   "source": [
    "### Let's setup our new model:"
   ]
  },
  {
   "cell_type": "code",
   "execution_count": 4,
   "metadata": {},
   "outputs": [
    {
     "data": {
      "text/html": [
       "<style type=\"text/css\">\n",
       "#T_9f563_ th {\n",
       "  text-align: left;\n",
       "}\n",
       "#T_9f563_row0_col0 {\n",
       "  text-align: left;\n",
       "}\n",
       "#T_9f563_row0_col1, #T_9f563_row0_col2, #T_9f563_row0_col3, #T_9f563_row0_col4, #T_9f563_row0_col5, #T_9f563_row0_col6, #T_9f563_row0_col7 {\n",
       "  text-align: left;\n",
       "  background-color: yellow;\n",
       "}\n",
       "#T_9f563_row0_col8 {\n",
       "  text-align: left;\n",
       "  background-color: yellow;\n",
       "  background-color: lightgrey;\n",
       "}\n",
       "</style>\n",
       "<table id=\"T_9f563_\">\n",
       "  <thead>\n",
       "    <tr>\n",
       "      <th class=\"blank level0\" >&nbsp;</th>\n",
       "      <th class=\"col_heading level0 col0\" >Model</th>\n",
       "      <th class=\"col_heading level0 col1\" >Accuracy</th>\n",
       "      <th class=\"col_heading level0 col2\" >AUC</th>\n",
       "      <th class=\"col_heading level0 col3\" >Recall</th>\n",
       "      <th class=\"col_heading level0 col4\" >Prec.</th>\n",
       "      <th class=\"col_heading level0 col5\" >F1</th>\n",
       "      <th class=\"col_heading level0 col6\" >Kappa</th>\n",
       "      <th class=\"col_heading level0 col7\" >MCC</th>\n",
       "      <th class=\"col_heading level0 col8\" >TT (Sec)</th>\n",
       "    </tr>\n",
       "  </thead>\n",
       "  <tbody>\n",
       "    <tr>\n",
       "      <th id=\"T_9f563_level0_row0\" class=\"row_heading level0 row0\" >lightgbm</th>\n",
       "      <td id=\"T_9f563_row0_col0\" class=\"data row0 col0\" >Light Gradient Boosting Machine</td>\n",
       "      <td id=\"T_9f563_row0_col1\" class=\"data row0 col1\" >0.7613</td>\n",
       "      <td id=\"T_9f563_row0_col2\" class=\"data row0 col2\" >0.8391</td>\n",
       "      <td id=\"T_9f563_row0_col3\" class=\"data row0 col3\" >0.7346</td>\n",
       "      <td id=\"T_9f563_row0_col4\" class=\"data row0 col4\" >0.7276</td>\n",
       "      <td id=\"T_9f563_row0_col5\" class=\"data row0 col5\" >0.7311</td>\n",
       "      <td id=\"T_9f563_row0_col6\" class=\"data row0 col6\" >0.5164</td>\n",
       "      <td id=\"T_9f563_row0_col7\" class=\"data row0 col7\" >0.5165</td>\n",
       "      <td id=\"T_9f563_row0_col8\" class=\"data row0 col8\" >0.8760</td>\n",
       "    </tr>\n",
       "  </tbody>\n",
       "</table>\n"
      ],
      "text/plain": [
       "<pandas.io.formats.style.Styler at 0x7fd640927400>"
      ]
     },
     "metadata": {},
     "output_type": "display_data"
    }
   ],
   "source": [
    "setup(\n",
    "    data= df_train, \n",
    "    target=\"isNextYear_Buyer\", \n",
    "    train_size = 0.85,\n",
    "    data_split_shuffle=True,\n",
    "    date_features=[\n",
    "        \"recentDate\"\n",
    "    ],\n",
    "    ignore_features=[\n",
    "        \"dimCustomerMasterId\",\n",
    "        \"productGrouping\",\n",
    "        \"year\"\n",
    "    ],\n",
    "    numeric_features=[\n",
    "        \"attendancePercent\", \n",
    "        \"distToVenue\",\n",
    "        \"missed_games_1\",\n",
    "        \"missed_games_2\",\n",
    "        \"missed_games_over_2\",\n",
    "        \"recency\",\n",
    "        \"renewedBeforeDays\",\n",
    "        \"source_tenure\",\n",
    "        \"totalSpent\"\n",
    "    ],\n",
    "    silent=True,\n",
    "    verbose=False\n",
    ");\n",
    "\n",
    "best_model = compare_models(\n",
    "    fold=10,\n",
    "    include=[\"lightgbm\"]\n",
    ")"
   ]
  },
  {
   "cell_type": "markdown",
   "metadata": {},
   "source": [
    "### Let's finalize our new model so it can be used to make predictions:"
   ]
  },
  {
   "cell_type": "code",
   "execution_count": 5,
   "metadata": {},
   "outputs": [
    {
     "data": {
      "text/html": [
       "<style type=\"text/css\">\n",
       "#T_d6385_row10_col0, #T_d6385_row10_col1, #T_d6385_row10_col2, #T_d6385_row10_col3, #T_d6385_row10_col4, #T_d6385_row10_col5, #T_d6385_row10_col6 {\n",
       "  background: yellow;\n",
       "}\n",
       "</style>\n",
       "<table id=\"T_d6385_\">\n",
       "  <thead>\n",
       "    <tr>\n",
       "      <th class=\"blank level0\" >&nbsp;</th>\n",
       "      <th class=\"col_heading level0 col0\" >Accuracy</th>\n",
       "      <th class=\"col_heading level0 col1\" >AUC</th>\n",
       "      <th class=\"col_heading level0 col2\" >Recall</th>\n",
       "      <th class=\"col_heading level0 col3\" >Prec.</th>\n",
       "      <th class=\"col_heading level0 col4\" >F1</th>\n",
       "      <th class=\"col_heading level0 col5\" >Kappa</th>\n",
       "      <th class=\"col_heading level0 col6\" >MCC</th>\n",
       "    </tr>\n",
       "  </thead>\n",
       "  <tbody>\n",
       "    <tr>\n",
       "      <th id=\"T_d6385_level0_row0\" class=\"row_heading level0 row0\" >0</th>\n",
       "      <td id=\"T_d6385_row0_col0\" class=\"data row0 col0\" >0.7639</td>\n",
       "      <td id=\"T_d6385_row0_col1\" class=\"data row0 col1\" >0.8438</td>\n",
       "      <td id=\"T_d6385_row0_col2\" class=\"data row0 col2\" >0.7398</td>\n",
       "      <td id=\"T_d6385_row0_col3\" class=\"data row0 col3\" >0.7296</td>\n",
       "      <td id=\"T_d6385_row0_col4\" class=\"data row0 col4\" >0.7347</td>\n",
       "      <td id=\"T_d6385_row0_col5\" class=\"data row0 col5\" >0.5221</td>\n",
       "      <td id=\"T_d6385_row0_col6\" class=\"data row0 col6\" >0.5221</td>\n",
       "    </tr>\n",
       "    <tr>\n",
       "      <th id=\"T_d6385_level0_row1\" class=\"row_heading level0 row1\" >1</th>\n",
       "      <td id=\"T_d6385_row1_col0\" class=\"data row1 col0\" >0.7547</td>\n",
       "      <td id=\"T_d6385_row1_col1\" class=\"data row1 col1\" >0.8355</td>\n",
       "      <td id=\"T_d6385_row1_col2\" class=\"data row1 col2\" >0.7320</td>\n",
       "      <td id=\"T_d6385_row1_col3\" class=\"data row1 col3\" >0.7183</td>\n",
       "      <td id=\"T_d6385_row1_col4\" class=\"data row1 col4\" >0.7251</td>\n",
       "      <td id=\"T_d6385_row1_col5\" class=\"data row1 col5\" >0.5037</td>\n",
       "      <td id=\"T_d6385_row1_col6\" class=\"data row1 col6\" >0.5038</td>\n",
       "    </tr>\n",
       "    <tr>\n",
       "      <th id=\"T_d6385_level0_row2\" class=\"row_heading level0 row2\" >2</th>\n",
       "      <td id=\"T_d6385_row2_col0\" class=\"data row2 col0\" >0.7574</td>\n",
       "      <td id=\"T_d6385_row2_col1\" class=\"data row2 col1\" >0.8364</td>\n",
       "      <td id=\"T_d6385_row2_col2\" class=\"data row2 col2\" >0.7352</td>\n",
       "      <td id=\"T_d6385_row2_col3\" class=\"data row2 col3\" >0.7211</td>\n",
       "      <td id=\"T_d6385_row2_col4\" class=\"data row2 col4\" >0.7281</td>\n",
       "      <td id=\"T_d6385_row2_col5\" class=\"data row2 col5\" >0.5092</td>\n",
       "      <td id=\"T_d6385_row2_col6\" class=\"data row2 col6\" >0.5093</td>\n",
       "    </tr>\n",
       "    <tr>\n",
       "      <th id=\"T_d6385_level0_row3\" class=\"row_heading level0 row3\" >3</th>\n",
       "      <td id=\"T_d6385_row3_col0\" class=\"data row3 col0\" >0.7613</td>\n",
       "      <td id=\"T_d6385_row3_col1\" class=\"data row3 col1\" >0.8414</td>\n",
       "      <td id=\"T_d6385_row3_col2\" class=\"data row3 col2\" >0.7196</td>\n",
       "      <td id=\"T_d6385_row3_col3\" class=\"data row3 col3\" >0.7346</td>\n",
       "      <td id=\"T_d6385_row3_col4\" class=\"data row3 col4\" >0.7270</td>\n",
       "      <td id=\"T_d6385_row3_col5\" class=\"data row3 col5\" >0.5150</td>\n",
       "      <td id=\"T_d6385_row3_col6\" class=\"data row3 col6\" >0.5151</td>\n",
       "    </tr>\n",
       "    <tr>\n",
       "      <th id=\"T_d6385_level0_row4\" class=\"row_heading level0 row4\" >4</th>\n",
       "      <td id=\"T_d6385_row4_col0\" class=\"data row4 col0\" >0.7554</td>\n",
       "      <td id=\"T_d6385_row4_col1\" class=\"data row4 col1\" >0.8305</td>\n",
       "      <td id=\"T_d6385_row4_col2\" class=\"data row4 col2\" >0.7274</td>\n",
       "      <td id=\"T_d6385_row4_col3\" class=\"data row4 col3\" >0.7213</td>\n",
       "      <td id=\"T_d6385_row4_col4\" class=\"data row4 col4\" >0.7243</td>\n",
       "      <td id=\"T_d6385_row4_col5\" class=\"data row4 col5\" >0.5046</td>\n",
       "      <td id=\"T_d6385_row4_col6\" class=\"data row4 col6\" >0.5046</td>\n",
       "    </tr>\n",
       "    <tr>\n",
       "      <th id=\"T_d6385_level0_row5\" class=\"row_heading level0 row5\" >5</th>\n",
       "      <td id=\"T_d6385_row5_col0\" class=\"data row5 col0\" >0.7630</td>\n",
       "      <td id=\"T_d6385_row5_col1\" class=\"data row5 col1\" >0.8428</td>\n",
       "      <td id=\"T_d6385_row5_col2\" class=\"data row5 col2\" >0.7345</td>\n",
       "      <td id=\"T_d6385_row5_col3\" class=\"data row5 col3\" >0.7305</td>\n",
       "      <td id=\"T_d6385_row5_col4\" class=\"data row5 col4\" >0.7325</td>\n",
       "      <td id=\"T_d6385_row5_col5\" class=\"data row5 col5\" >0.5198</td>\n",
       "      <td id=\"T_d6385_row5_col6\" class=\"data row5 col6\" >0.5198</td>\n",
       "    </tr>\n",
       "    <tr>\n",
       "      <th id=\"T_d6385_level0_row6\" class=\"row_heading level0 row6\" >6</th>\n",
       "      <td id=\"T_d6385_row6_col0\" class=\"data row6 col0\" >0.7655</td>\n",
       "      <td id=\"T_d6385_row6_col1\" class=\"data row6 col1\" >0.8412</td>\n",
       "      <td id=\"T_d6385_row6_col2\" class=\"data row6 col2\" >0.7437</td>\n",
       "      <td id=\"T_d6385_row6_col3\" class=\"data row6 col3\" >0.7304</td>\n",
       "      <td id=\"T_d6385_row6_col4\" class=\"data row6 col4\" >0.7369</td>\n",
       "      <td id=\"T_d6385_row6_col5\" class=\"data row6 col5\" >0.5254</td>\n",
       "      <td id=\"T_d6385_row6_col6\" class=\"data row6 col6\" >0.5255</td>\n",
       "    </tr>\n",
       "    <tr>\n",
       "      <th id=\"T_d6385_level0_row7\" class=\"row_heading level0 row7\" >7</th>\n",
       "      <td id=\"T_d6385_row7_col0\" class=\"data row7 col0\" >0.7610</td>\n",
       "      <td id=\"T_d6385_row7_col1\" class=\"data row7 col1\" >0.8385</td>\n",
       "      <td id=\"T_d6385_row7_col2\" class=\"data row7 col2\" >0.7319</td>\n",
       "      <td id=\"T_d6385_row7_col3\" class=\"data row7 col3\" >0.7284</td>\n",
       "      <td id=\"T_d6385_row7_col4\" class=\"data row7 col4\" >0.7302</td>\n",
       "      <td id=\"T_d6385_row7_col5\" class=\"data row7 col5\" >0.5157</td>\n",
       "      <td id=\"T_d6385_row7_col6\" class=\"data row7 col6\" >0.5157</td>\n",
       "    </tr>\n",
       "    <tr>\n",
       "      <th id=\"T_d6385_level0_row8\" class=\"row_heading level0 row8\" >8</th>\n",
       "      <td id=\"T_d6385_row8_col0\" class=\"data row8 col0\" >0.7675</td>\n",
       "      <td id=\"T_d6385_row8_col1\" class=\"data row8 col1\" >0.8424</td>\n",
       "      <td id=\"T_d6385_row8_col2\" class=\"data row8 col2\" >0.7420</td>\n",
       "      <td id=\"T_d6385_row8_col3\" class=\"data row8 col3\" >0.7344</td>\n",
       "      <td id=\"T_d6385_row8_col4\" class=\"data row8 col4\" >0.7382</td>\n",
       "      <td id=\"T_d6385_row8_col5\" class=\"data row8 col5\" >0.5291</td>\n",
       "      <td id=\"T_d6385_row8_col6\" class=\"data row8 col6\" >0.5291</td>\n",
       "    </tr>\n",
       "    <tr>\n",
       "      <th id=\"T_d6385_level0_row9\" class=\"row_heading level0 row9\" >9</th>\n",
       "      <td id=\"T_d6385_row9_col0\" class=\"data row9 col0\" >0.7626</td>\n",
       "      <td id=\"T_d6385_row9_col1\" class=\"data row9 col1\" >0.8379</td>\n",
       "      <td id=\"T_d6385_row9_col2\" class=\"data row9 col2\" >0.7401</td>\n",
       "      <td id=\"T_d6385_row9_col3\" class=\"data row9 col3\" >0.7273</td>\n",
       "      <td id=\"T_d6385_row9_col4\" class=\"data row9 col4\" >0.7336</td>\n",
       "      <td id=\"T_d6385_row9_col5\" class=\"data row9 col5\" >0.5196</td>\n",
       "      <td id=\"T_d6385_row9_col6\" class=\"data row9 col6\" >0.5196</td>\n",
       "    </tr>\n",
       "    <tr>\n",
       "      <th id=\"T_d6385_level0_row10\" class=\"row_heading level0 row10\" >Mean</th>\n",
       "      <td id=\"T_d6385_row10_col0\" class=\"data row10 col0\" >0.7613</td>\n",
       "      <td id=\"T_d6385_row10_col1\" class=\"data row10 col1\" >0.8391</td>\n",
       "      <td id=\"T_d6385_row10_col2\" class=\"data row10 col2\" >0.7346</td>\n",
       "      <td id=\"T_d6385_row10_col3\" class=\"data row10 col3\" >0.7276</td>\n",
       "      <td id=\"T_d6385_row10_col4\" class=\"data row10 col4\" >0.7311</td>\n",
       "      <td id=\"T_d6385_row10_col5\" class=\"data row10 col5\" >0.5164</td>\n",
       "      <td id=\"T_d6385_row10_col6\" class=\"data row10 col6\" >0.5165</td>\n",
       "    </tr>\n",
       "    <tr>\n",
       "      <th id=\"T_d6385_level0_row11\" class=\"row_heading level0 row11\" >SD</th>\n",
       "      <td id=\"T_d6385_row11_col0\" class=\"data row11 col0\" >0.0040</td>\n",
       "      <td id=\"T_d6385_row11_col1\" class=\"data row11 col1\" >0.0039</td>\n",
       "      <td id=\"T_d6385_row11_col2\" class=\"data row11 col2\" >0.0070</td>\n",
       "      <td id=\"T_d6385_row11_col3\" class=\"data row11 col3\" >0.0053</td>\n",
       "      <td id=\"T_d6385_row11_col4\" class=\"data row11 col4\" >0.0046</td>\n",
       "      <td id=\"T_d6385_row11_col5\" class=\"data row11 col5\" >0.0081</td>\n",
       "      <td id=\"T_d6385_row11_col6\" class=\"data row11 col6\" >0.0081</td>\n",
       "    </tr>\n",
       "  </tbody>\n",
       "</table>\n"
      ],
      "text/plain": [
       "<pandas.io.formats.style.Styler at 0x7fd6489ee8b0>"
      ]
     },
     "metadata": {},
     "output_type": "display_data"
    }
   ],
   "source": [
    "final_model = create_model(best_model)\n",
    "new_model = finalize_model(final_model)"
   ]
  },
  {
   "cell_type": "markdown",
   "metadata": {},
   "source": [
    "### Let's also load in the model currently being used in production:"
   ]
  },
  {
   "cell_type": "code",
   "execution_count": 6,
   "metadata": {},
   "outputs": [
    {
     "name": "stdout",
     "output_type": "stream",
     "text": [
      "Transformation Pipeline and Model Successfully Loaded\n"
     ]
    }
   ],
   "source": [
    "prod_model = load_model('./models/model(2022-05-12)')"
   ]
  },
  {
   "cell_type": "markdown",
   "metadata": {},
   "source": [
    "### Let's use the new and existing model to make predictions on the 2022 season:"
   ]
  },
  {
   "cell_type": "code",
   "execution_count": 7,
   "metadata": {},
   "outputs": [],
   "source": [
    "df_inference = pd.read_csv(\"./data/inference.csv\")\n",
    "df_inference.columns=['attendancePercent','clientcode','dimcustomermasterid','distToVenue','isNextYear_Buyer','lkupclientid','missed_games_1','missed_games_2','missed_games_over_2','productGrouping','recency','recentDate','renewedBeforeDays','source_tenure','totalSpent','year']\n",
    "\n",
    "df_inference = df_inference.loc[df_inference['lkupclientid']==15]"
   ]
  },
  {
   "cell_type": "code",
   "execution_count": 8,
   "metadata": {},
   "outputs": [],
   "source": [
    "df_new_predictions = predict_model(new_model, data=df_inference, raw_score=True)\n",
    "df_prod_predictions = predict_model(prod_model, data=df_inference, raw_score=True)"
   ]
  },
  {
   "cell_type": "markdown",
   "metadata": {},
   "source": [
    "### Let's try normalizing the scores between a range of 0 and 1:"
   ]
  },
  {
   "cell_type": "code",
   "execution_count": 9,
   "metadata": {},
   "outputs": [],
   "source": [
    "def NormalizeData(data):\n",
    "    return (data - np.min(data)) / (np.max(data) - np.min(data))"
   ]
  },
  {
   "cell_type": "code",
   "execution_count": 10,
   "metadata": {},
   "outputs": [
    {
     "data": {
      "text/plain": [
       "(0.2, 0.3]       317\n",
       "(0.1, 0.2]       278\n",
       "(0.3, 0.4]       186\n",
       "(0.4, 0.5]       156\n",
       "(-0.001, 0.1]    103\n",
       "(0.5, 0.6]        95\n",
       "(0.6, 0.7]        81\n",
       "(0.7, 0.8]        55\n",
       "(0.8, 0.9]        46\n",
       "(0.9, 1.0]        14\n",
       "Name: Score_1, dtype: int64"
      ]
     },
     "execution_count": 10,
     "metadata": {},
     "output_type": "execute_result"
    }
   ],
   "source": [
    "df_new_predictions[\"Score_1\"] = df_new_predictions[\"Score_1\"] * 100\n",
    "df_new_predictions[\"Score_1\"] = NormalizeData(df_new_predictions[\"Score_1\"])\n",
    "\n",
    "df_new_predictions[\"Score_1\"].value_counts(bins=[0,0.1,0.2,0.3,0.4,0.5,0.6,0.7,0.8,0.9,1.0])"
   ]
  },
  {
   "cell_type": "code",
   "execution_count": 12,
   "metadata": {},
   "outputs": [
    {
     "data": {
      "text/plain": [
       "(0.4, 0.5]       212\n",
       "(0.3, 0.4]       204\n",
       "(0.5, 0.6]       202\n",
       "(0.6, 0.7]       202\n",
       "(0.2, 0.3]       150\n",
       "(0.7, 0.8]       125\n",
       "(0.1, 0.2]        96\n",
       "(0.8, 0.9]        79\n",
       "(-0.001, 0.1]     52\n",
       "(0.9, 1.0]         9\n",
       "Name: Score_1, dtype: int64"
      ]
     },
     "execution_count": 12,
     "metadata": {},
     "output_type": "execute_result"
    }
   ],
   "source": [
    "df_prod_predictions[\"Score_1\"] = df_prod_predictions[\"Score_1\"] * 100\n",
    "df_prod_predictions[\"Score_1\"] = NormalizeData(df_prod_predictions[\"Score_1\"])\n",
    "\n",
    "df_prod_predictions[\"Score_1\"].value_counts(bins=[0,0.1,0.2,0.3,0.4,0.5,0.6,0.7,0.8,0.9,1.0])"
   ]
  },
  {
   "cell_type": "markdown",
   "metadata": {},
   "source": [
    "### Let's have a look at the distribution of scores for both models:"
   ]
  },
  {
   "cell_type": "code",
   "execution_count": 13,
   "metadata": {},
   "outputs": [
    {
     "data": {
      "image/png": "[encoded data removed]",
      "text/plain": [
       "<Figure size 1440x396 with 2 Axes>"
      ]
     },
     "metadata": {},
     "output_type": "display_data"
    }
   ],
   "source": [
    "fig, (ax1, ax2) = plt.subplots(1, 2)\n",
    "fig.suptitle('Retention Scores')\n",
    "ax1.hist(df_new_predictions['Score_1'], bins=20, edgecolor='black', color='dodgerblue')\n",
    "ax2.hist(df_prod_predictions['Score_1'], bins=20, edgecolor='black', color='dodgerblue')\n",
    "ax1.set_xlabel('New Predictions')\n",
    "ax2.set_xlabel('Prod Predictions')\n",
    "\n",
    "fig.figure.set_figwidth(20)"
   ]
  },
  {
   "cell_type": "markdown",
   "metadata": {},
   "source": [
    "### Done"
   ]
  },
  {
   "cell_type": "markdown",
   "metadata": {},
   "source": []
  }
 ],
 "metadata": {
  "kernelspec": {
   "display_name": "Python 3.8.5 ('stellar')",
   "language": "python",
   "name": "python3"
  },
  "language_info": {
   "codemirror_mode": {
    "name": "ipython",
    "version": 3
   },
   "file_extension": ".py",
   "mimetype": "text/x-python",
   "name": "python",
   "nbconvert_exporter": "python",
   "pygments_lexer": "ipython3",
   "version": "3.8.5"
  },
  "orig_nbformat": 4,
  "vscode": {
   "interpreter": {
    "hash": "89f48dadab51a6b5b48ffc1a9e043c21cefe67453637c3444f3b86917b8aad16"
   }
  }
 },
 "nbformat": 4,
 "nbformat_minor": 2
}
