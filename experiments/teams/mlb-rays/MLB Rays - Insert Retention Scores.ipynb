{
 "cells": [
  {
   "cell_type": "markdown",
   "id": "6ee08766-25fd-4da1-91b8-b0c3e74db588",
   "metadata": {},
   "source": [
    "# Fallback - Insert Retention Scores MLB-Rays\n",
    "* StellarAlgo Data Science\n",
    "* Ryan Kazmerik, Grant Donst\n",
    "* Sept 29, 2022"
   ]
  },
  {
   "cell_type": "code",
   "execution_count": 19,
   "id": "4c533efd-600e-4bce-8203-faffbddfa700",
   "metadata": {},
   "outputs": [],
   "source": [
    "import boto3\n",
    "import getpass\n",
    "import pyodbc\n",
    "import pandas as pd\n",
    "import warnings\n",
    "import matplotlib.pyplot as plt\n",
    "\n",
    "from datetime import datetime\n",
    "from pytz import timezone\n",
    "from pycaret.classification import *\n",
    "from shared_utilities import helpers"
   ]
  },
  {
   "cell_type": "code",
   "execution_count": 20,
   "id": "e6767fca",
   "metadata": {},
   "outputs": [],
   "source": [
    "if not boto3.DEFAULT_SESSION:\n",
    "    ! aws sso login --profile Stellaralgo-DataScienceAdmin\n",
    "    session = boto3.setup_default_session(profile_name='Stellaralgo-DataScienceAdmin')"
   ]
  },
  {
   "cell_type": "code",
   "execution_count": 21,
   "id": "8d77aa44",
   "metadata": {},
   "outputs": [],
   "source": [
    "LKUPCLIENTID = \"45\"\n",
    "DBNAME = \"stlrrays\"\n",
    "ENV = \"prod-app\"\n",
    "SCORINGYEAR = 2022"
   ]
  },
  {
   "cell_type": "code",
   "execution_count": 22,
   "id": "c1203702",
   "metadata": {},
   "outputs": [
    {
     "name": "stdout",
     "output_type": "stream",
     "text": [
      "Authorized as AROASQ4JELIXYLYV6P4UV:gdonst@stellaralgo.com\n"
     ]
    },
    {
     "data": {
      "text/plain": [
       "(0, 24)"
      ]
     },
     "execution_count": 22,
     "metadata": {},
     "output_type": "execute_result"
    }
   ],
   "source": [
    "df = helpers.get_retention_dataset(\n",
    "    cluster = \"prod-app\",\n",
    "    database = DBNAME,\n",
    "    lkupclientid = LKUPCLIENTID,\n",
    "    start_year = 2010,\n",
    "    end_year = 2022\n",
    ")\n",
    "\n",
    "df.shape"
   ]
  },
  {
   "cell_type": "code",
   "execution_count": 5,
   "id": "4ea8799d",
   "metadata": {},
   "outputs": [
    {
     "data": {
      "text/plain": [
       "Series([], Name: year, dtype: int64)"
      ]
     },
     "execution_count": 5,
     "metadata": {},
     "output_type": "execute_result"
    }
   ],
   "source": [
    "df.year.value_counts()"
   ]
  },
  {
   "cell_type": "code",
   "execution_count": 6,
   "id": "688c99f5",
   "metadata": {},
   "outputs": [
    {
     "data": {
      "text/html": [
       "<div>\n",
       "<style scoped>\n",
       "    .dataframe tbody tr th:only-of-type {\n",
       "        vertical-align: middle;\n",
       "    }\n",
       "\n",
       "    .dataframe tbody tr th {\n",
       "        vertical-align: top;\n",
       "    }\n",
       "\n",
       "    .dataframe thead th {\n",
       "        text-align: right;\n",
       "    }\n",
       "</style>\n",
       "<table border=\"1\" class=\"dataframe\">\n",
       "  <thead>\n",
       "    <tr style=\"text-align: right;\">\n",
       "      <th></th>\n",
       "      <th>lkupclientid</th>\n",
       "      <th>clientcode</th>\n",
       "      <th>dimcustomermasterid</th>\n",
       "      <th>year</th>\n",
       "      <th>productgrouping</th>\n",
       "      <th>totalspent</th>\n",
       "      <th>recentdate</th>\n",
       "      <th>attendancepercent</th>\n",
       "      <th>renewedbeforedays</th>\n",
       "      <th>source_tenure</th>\n",
       "      <th>tenure</th>\n",
       "      <th>disttovenue</th>\n",
       "      <th>recency</th>\n",
       "      <th>missed_games_1</th>\n",
       "      <th>missed_games_2</th>\n",
       "      <th>missed_games_over_2</th>\n",
       "      <th>forward_records</th>\n",
       "      <th>opentosendratio</th>\n",
       "      <th>clicktosendratio</th>\n",
       "      <th>clicktoopenratio</th>\n",
       "      <th>gender</th>\n",
       "      <th>phonecall</th>\n",
       "      <th>inperson_contact</th>\n",
       "      <th>isnextyear_buyer</th>\n",
       "    </tr>\n",
       "  </thead>\n",
       "  <tbody>\n",
       "  </tbody>\n",
       "</table>\n",
       "</div>"
      ],
      "text/plain": [
       "Empty DataFrame\n",
       "Columns: [lkupclientid, clientcode, dimcustomermasterid, year, productgrouping, totalspent, recentdate, attendancepercent, renewedbeforedays, source_tenure, tenure, disttovenue, recency, missed_games_1, missed_games_2, missed_games_over_2, forward_records, opentosendratio, clicktosendratio, clicktoopenratio, gender, phonecall, inperson_contact, isnextyear_buyer]\n",
       "Index: []"
      ]
     },
     "execution_count": 6,
     "metadata": {},
     "output_type": "execute_result"
    }
   ],
   "source": [
    "df.head()"
   ]
  },
  {
   "cell_type": "markdown",
   "id": "ab40da92-72a7-49c1-9829-ed3805a39719",
   "metadata": {},
   "source": [
    "### We should specify the features used in our model:"
   ]
  },
  {
   "cell_type": "code",
   "execution_count": 7,
   "id": "788f1273-8b7a-46bd-a099-1a471feeacc5",
   "metadata": {},
   "outputs": [
    {
     "name": "stdout",
     "output_type": "stream",
     "text": [
      "Data for Modeling: (0, 21)\n",
      "Unseen Data For Predictions: (0, 21)\n",
      "\n"
     ]
    }
   ],
   "source": [
    "# choose the features for the stellar base retention model\n",
    "features = [\n",
    "    \"isnextyear_buyer\",\n",
    "    \"recentdate\",\n",
    "    \"clientcode\",\n",
    "\t\"dimcustomermasterid\",\n",
    "\t\"lkupclientid\",\n",
    "\t\"productgrouping\",\n",
    "\t\"year\",\n",
    "\t\"attendancepercent\",\n",
    "    \"clicktoopenratio\",\n",
    "    \"clicktosendratio\",\n",
    "    \"disttovenue\",\n",
    "    \"inperson_contact\",\n",
    "    \"missed_games_1\",\n",
    "    \"missed_games_2\",\n",
    "    \"missed_games_over_2\",\n",
    "    \"opentosendratio\",\n",
    "    \"phonecall\",\n",
    "    \"recency\",\n",
    "    \"renewedbeforedays\",\n",
    "    \"source_tenure\",\n",
    "    \"totalspent\"\n",
    "]\n",
    "\n",
    "# copy your main dataframe\n",
    "df_dataset = df\n",
    "\n",
    "# choose the features & train year & test year\n",
    "df_dataset = df_dataset[features]\n",
    "df_dataset[\"year\"] = pd.to_numeric(df_dataset[\"year\"])\n",
    "df_dataset = df_dataset.loc[df_dataset[\"year\"] < SCORINGYEAR]\n",
    "\n",
    "df_train = df_dataset.sample(frac=0.85, random_state=786)\n",
    "df_eval = df_dataset.drop(df_train.index)\n",
    "\n",
    "df_train.reset_index(drop=True, inplace=True)\n",
    "df_eval.reset_index(drop=True, inplace=True)\n",
    "\n",
    "# print out the number of records for training and eval\n",
    "print('Data for Modeling: ' + str(df_train.shape))\n",
    "print('Unseen Data For Predictions: ' + str(df_eval.shape), end=\"\\n\\n\")"
   ]
  },
  {
   "cell_type": "code",
   "execution_count": 8,
   "id": "8d4b4be1",
   "metadata": {},
   "outputs": [
    {
     "name": "stdout",
     "output_type": "stream",
     "text": [
      "Series([], Name: year, dtype: int64)\n"
     ]
    }
   ],
   "source": [
    "print(df_dataset.year.value_counts())"
   ]
  },
  {
   "cell_type": "markdown",
   "id": "4f2da06d-9015-49fd-89b3-956c2ebf66e9",
   "metadata": {},
   "source": [
    "### Now we can model the data using a binary classification prediction for the isnextyear_buyer field to see how likely a customer is to re-purchase."
   ]
  },
  {
   "cell_type": "code",
   "execution_count": 9,
   "id": "23a69cdc-b3ec-48c8-9ce5-29f617779389",
   "metadata": {},
   "outputs": [
    {
     "ename": "ValueError",
     "evalue": "data passed must be a positive dataframe",
     "output_type": "error",
     "traceback": [
      "\u001b[0;31m---------------------------------------------------------------------------\u001b[0m",
      "\u001b[0;31mValueError\u001b[0m                                Traceback (most recent call last)",
      "Cell \u001b[0;32mIn [9], line 1\u001b[0m\n\u001b[0;32m----> 1\u001b[0m setup(\n\u001b[1;32m      2\u001b[0m     data\u001b[39m=\u001b[39;49m df_train, \n\u001b[1;32m      3\u001b[0m     target\u001b[39m=\u001b[39;49m\u001b[39m\"\u001b[39;49m\u001b[39misnextyear_buyer\u001b[39;49m\u001b[39m\"\u001b[39;49m, \n\u001b[1;32m      4\u001b[0m     train_size \u001b[39m=\u001b[39;49m \u001b[39m0.85\u001b[39;49m,\n\u001b[1;32m      5\u001b[0m     data_split_shuffle\u001b[39m=\u001b[39;49m\u001b[39mTrue\u001b[39;49;00m,\n\u001b[1;32m      6\u001b[0m     date_features\u001b[39m=\u001b[39;49m[\n\u001b[1;32m      7\u001b[0m         \u001b[39m\"\u001b[39;49m\u001b[39mrecentdate\u001b[39;49m\u001b[39m\"\u001b[39;49m\n\u001b[1;32m      8\u001b[0m     ],\n\u001b[1;32m      9\u001b[0m     ignore_features\u001b[39m=\u001b[39;49m[\n\u001b[1;32m     10\u001b[0m         \u001b[39m\"\u001b[39;49m\u001b[39mclientcode\u001b[39;49m\u001b[39m\"\u001b[39;49m,\n\u001b[1;32m     11\u001b[0m \t\t\u001b[39m\"\u001b[39;49m\u001b[39mdimcustomermasterid\u001b[39;49m\u001b[39m\"\u001b[39;49m,\n\u001b[1;32m     12\u001b[0m \t\t\u001b[39m\"\u001b[39;49m\u001b[39mlkupclientid\u001b[39;49m\u001b[39m\"\u001b[39;49m,\n\u001b[1;32m     13\u001b[0m \t\t\u001b[39m\"\u001b[39;49m\u001b[39mproductgrouping\u001b[39;49m\u001b[39m\"\u001b[39;49m,\n\u001b[1;32m     14\u001b[0m \t\t\u001b[39m\"\u001b[39;49m\u001b[39myear\u001b[39;49m\u001b[39m\"\u001b[39;49m\n\u001b[1;32m     15\u001b[0m     ],\n\u001b[1;32m     16\u001b[0m     silent\u001b[39m=\u001b[39;49m\u001b[39mTrue\u001b[39;49;00m,\n\u001b[1;32m     17\u001b[0m     verbose\u001b[39m=\u001b[39;49m\u001b[39mFalse\u001b[39;49;00m,\n\u001b[1;32m     18\u001b[0m     numeric_features\u001b[39m=\u001b[39;49m[\n\u001b[1;32m     19\u001b[0m         \u001b[39m\"\u001b[39;49m\u001b[39mattendancepercent\u001b[39;49m\u001b[39m\"\u001b[39;49m,\n\u001b[1;32m     20\u001b[0m         \u001b[39m\"\u001b[39;49m\u001b[39mclicktoopenratio\u001b[39;49m\u001b[39m\"\u001b[39;49m,\n\u001b[1;32m     21\u001b[0m         \u001b[39m\"\u001b[39;49m\u001b[39mclicktosendratio\u001b[39;49m\u001b[39m\"\u001b[39;49m,\n\u001b[1;32m     22\u001b[0m         \u001b[39m\"\u001b[39;49m\u001b[39mdisttovenue\u001b[39;49m\u001b[39m\"\u001b[39;49m,\n\u001b[1;32m     23\u001b[0m         \u001b[39m\"\u001b[39;49m\u001b[39minperson_contact\u001b[39;49m\u001b[39m\"\u001b[39;49m,\n\u001b[1;32m     24\u001b[0m         \u001b[39m\"\u001b[39;49m\u001b[39mmissed_games_1\u001b[39;49m\u001b[39m\"\u001b[39;49m,\n\u001b[1;32m     25\u001b[0m         \u001b[39m\"\u001b[39;49m\u001b[39mmissed_games_2\u001b[39;49m\u001b[39m\"\u001b[39;49m,\n\u001b[1;32m     26\u001b[0m         \u001b[39m\"\u001b[39;49m\u001b[39mmissed_games_over_2\u001b[39;49m\u001b[39m\"\u001b[39;49m,\n\u001b[1;32m     27\u001b[0m         \u001b[39m\"\u001b[39;49m\u001b[39mopentosendratio\u001b[39;49m\u001b[39m\"\u001b[39;49m,\n\u001b[1;32m     28\u001b[0m         \u001b[39m\"\u001b[39;49m\u001b[39mphonecall\u001b[39;49m\u001b[39m\"\u001b[39;49m,\n\u001b[1;32m     29\u001b[0m         \u001b[39m\"\u001b[39;49m\u001b[39mrecency\u001b[39;49m\u001b[39m\"\u001b[39;49m,\n\u001b[1;32m     30\u001b[0m         \u001b[39m\"\u001b[39;49m\u001b[39mrenewedbeforedays\u001b[39;49m\u001b[39m\"\u001b[39;49m,\n\u001b[1;32m     31\u001b[0m         \u001b[39m\"\u001b[39;49m\u001b[39msource_tenure\u001b[39;49m\u001b[39m\"\u001b[39;49m,\n\u001b[1;32m     32\u001b[0m         \u001b[39m\"\u001b[39;49m\u001b[39mtotalspent\u001b[39;49m\u001b[39m\"\u001b[39;49m\n\u001b[1;32m     33\u001b[0m     ]\n\u001b[1;32m     34\u001b[0m )\n",
      "File \u001b[0;32m/opt/miniconda3/envs/stellar/lib/python3.8/site-packages/pycaret/classification.py:599\u001b[0m, in \u001b[0;36msetup\u001b[0;34m(data, target, train_size, test_data, preprocess, imputation_type, iterative_imputation_iters, categorical_features, categorical_imputation, categorical_iterative_imputer, ordinal_features, high_cardinality_features, high_cardinality_method, numeric_features, numeric_imputation, numeric_iterative_imputer, date_features, ignore_features, normalize, normalize_method, transformation, transformation_method, handle_unknown_categorical, unknown_categorical_method, pca, pca_method, pca_components, ignore_low_variance, combine_rare_levels, rare_level_threshold, bin_numeric_features, remove_outliers, outliers_threshold, remove_multicollinearity, multicollinearity_threshold, remove_perfect_collinearity, create_clusters, cluster_iter, polynomial_features, polynomial_degree, trigonometry_features, polynomial_threshold, group_features, group_names, feature_selection, feature_selection_threshold, feature_selection_method, feature_interaction, feature_ratio, interaction_threshold, fix_imbalance, fix_imbalance_method, data_split_shuffle, data_split_stratify, fold_strategy, fold, fold_shuffle, fold_groups, n_jobs, use_gpu, custom_pipeline, html, session_id, log_experiment, experiment_name, experiment_custom_tags, log_plots, log_profile, log_data, silent, verbose, profile, profile_kwargs)\u001b[0m\n\u001b[1;32m    596\u001b[0m \u001b[39mif\u001b[39;00m log_plots \u001b[39m==\u001b[39m \u001b[39mTrue\u001b[39;00m:\n\u001b[1;32m    597\u001b[0m     log_plots \u001b[39m=\u001b[39m [\u001b[39m\"\u001b[39m\u001b[39mauc\u001b[39m\u001b[39m\"\u001b[39m, \u001b[39m\"\u001b[39m\u001b[39mconfusion_matrix\u001b[39m\u001b[39m\"\u001b[39m, \u001b[39m\"\u001b[39m\u001b[39mfeature\u001b[39m\u001b[39m\"\u001b[39m]\n\u001b[0;32m--> 599\u001b[0m \u001b[39mreturn\u001b[39;00m pycaret\u001b[39m.\u001b[39;49minternal\u001b[39m.\u001b[39;49mtabular\u001b[39m.\u001b[39;49msetup(\n\u001b[1;32m    600\u001b[0m     ml_usecase\u001b[39m=\u001b[39;49m\u001b[39m\"\u001b[39;49m\u001b[39mclassification\u001b[39;49m\u001b[39m\"\u001b[39;49m,\n\u001b[1;32m    601\u001b[0m     available_plots\u001b[39m=\u001b[39;49mavailable_plots,\n\u001b[1;32m    602\u001b[0m     data\u001b[39m=\u001b[39;49mdata,\n\u001b[1;32m    603\u001b[0m     target\u001b[39m=\u001b[39;49mtarget,\n\u001b[1;32m    604\u001b[0m     train_size\u001b[39m=\u001b[39;49mtrain_size,\n\u001b[1;32m    605\u001b[0m     test_data\u001b[39m=\u001b[39;49mtest_data,\n\u001b[1;32m    606\u001b[0m     preprocess\u001b[39m=\u001b[39;49mpreprocess,\n\u001b[1;32m    607\u001b[0m     imputation_type\u001b[39m=\u001b[39;49mimputation_type,\n\u001b[1;32m    608\u001b[0m     iterative_imputation_iters\u001b[39m=\u001b[39;49miterative_imputation_iters,\n\u001b[1;32m    609\u001b[0m     categorical_features\u001b[39m=\u001b[39;49mcategorical_features,\n\u001b[1;32m    610\u001b[0m     categorical_imputation\u001b[39m=\u001b[39;49mcategorical_imputation,\n\u001b[1;32m    611\u001b[0m     categorical_iterative_imputer\u001b[39m=\u001b[39;49mcategorical_iterative_imputer,\n\u001b[1;32m    612\u001b[0m     ordinal_features\u001b[39m=\u001b[39;49mordinal_features,\n\u001b[1;32m    613\u001b[0m     high_cardinality_features\u001b[39m=\u001b[39;49mhigh_cardinality_features,\n\u001b[1;32m    614\u001b[0m     high_cardinality_method\u001b[39m=\u001b[39;49mhigh_cardinality_method,\n\u001b[1;32m    615\u001b[0m     numeric_features\u001b[39m=\u001b[39;49mnumeric_features,\n\u001b[1;32m    616\u001b[0m     numeric_imputation\u001b[39m=\u001b[39;49mnumeric_imputation,\n\u001b[1;32m    617\u001b[0m     numeric_iterative_imputer\u001b[39m=\u001b[39;49mnumeric_iterative_imputer,\n\u001b[1;32m    618\u001b[0m     date_features\u001b[39m=\u001b[39;49mdate_features,\n\u001b[1;32m    619\u001b[0m     ignore_features\u001b[39m=\u001b[39;49mignore_features,\n\u001b[1;32m    620\u001b[0m     normalize\u001b[39m=\u001b[39;49mnormalize,\n\u001b[1;32m    621\u001b[0m     normalize_method\u001b[39m=\u001b[39;49mnormalize_method,\n\u001b[1;32m    622\u001b[0m     transformation\u001b[39m=\u001b[39;49mtransformation,\n\u001b[1;32m    623\u001b[0m     transformation_method\u001b[39m=\u001b[39;49mtransformation_method,\n\u001b[1;32m    624\u001b[0m     handle_unknown_categorical\u001b[39m=\u001b[39;49mhandle_unknown_categorical,\n\u001b[1;32m    625\u001b[0m     unknown_categorical_method\u001b[39m=\u001b[39;49munknown_categorical_method,\n\u001b[1;32m    626\u001b[0m     pca\u001b[39m=\u001b[39;49mpca,\n\u001b[1;32m    627\u001b[0m     pca_method\u001b[39m=\u001b[39;49mpca_method,\n\u001b[1;32m    628\u001b[0m     pca_components\u001b[39m=\u001b[39;49mpca_components,\n\u001b[1;32m    629\u001b[0m     ignore_low_variance\u001b[39m=\u001b[39;49mignore_low_variance,\n\u001b[1;32m    630\u001b[0m     combine_rare_levels\u001b[39m=\u001b[39;49mcombine_rare_levels,\n\u001b[1;32m    631\u001b[0m     rare_level_threshold\u001b[39m=\u001b[39;49mrare_level_threshold,\n\u001b[1;32m    632\u001b[0m     bin_numeric_features\u001b[39m=\u001b[39;49mbin_numeric_features,\n\u001b[1;32m    633\u001b[0m     remove_outliers\u001b[39m=\u001b[39;49mremove_outliers,\n\u001b[1;32m    634\u001b[0m     outliers_threshold\u001b[39m=\u001b[39;49moutliers_threshold,\n\u001b[1;32m    635\u001b[0m     remove_multicollinearity\u001b[39m=\u001b[39;49mremove_multicollinearity,\n\u001b[1;32m    636\u001b[0m     multicollinearity_threshold\u001b[39m=\u001b[39;49mmulticollinearity_threshold,\n\u001b[1;32m    637\u001b[0m     remove_perfect_collinearity\u001b[39m=\u001b[39;49mremove_perfect_collinearity,\n\u001b[1;32m    638\u001b[0m     create_clusters\u001b[39m=\u001b[39;49mcreate_clusters,\n\u001b[1;32m    639\u001b[0m     cluster_iter\u001b[39m=\u001b[39;49mcluster_iter,\n\u001b[1;32m    640\u001b[0m     polynomial_features\u001b[39m=\u001b[39;49mpolynomial_features,\n\u001b[1;32m    641\u001b[0m     polynomial_degree\u001b[39m=\u001b[39;49mpolynomial_degree,\n\u001b[1;32m    642\u001b[0m     trigonometry_features\u001b[39m=\u001b[39;49mtrigonometry_features,\n\u001b[1;32m    643\u001b[0m     polynomial_threshold\u001b[39m=\u001b[39;49mpolynomial_threshold,\n\u001b[1;32m    644\u001b[0m     group_features\u001b[39m=\u001b[39;49mgroup_features,\n\u001b[1;32m    645\u001b[0m     group_names\u001b[39m=\u001b[39;49mgroup_names,\n\u001b[1;32m    646\u001b[0m     feature_selection\u001b[39m=\u001b[39;49mfeature_selection,\n\u001b[1;32m    647\u001b[0m     feature_selection_threshold\u001b[39m=\u001b[39;49mfeature_selection_threshold,\n\u001b[1;32m    648\u001b[0m     feature_selection_method\u001b[39m=\u001b[39;49mfeature_selection_method,\n\u001b[1;32m    649\u001b[0m     feature_interaction\u001b[39m=\u001b[39;49mfeature_interaction,\n\u001b[1;32m    650\u001b[0m     feature_ratio\u001b[39m=\u001b[39;49mfeature_ratio,\n\u001b[1;32m    651\u001b[0m     interaction_threshold\u001b[39m=\u001b[39;49minteraction_threshold,\n\u001b[1;32m    652\u001b[0m     fix_imbalance\u001b[39m=\u001b[39;49mfix_imbalance,\n\u001b[1;32m    653\u001b[0m     fix_imbalance_method\u001b[39m=\u001b[39;49mfix_imbalance_method,\n\u001b[1;32m    654\u001b[0m     data_split_shuffle\u001b[39m=\u001b[39;49mdata_split_shuffle,\n\u001b[1;32m    655\u001b[0m     data_split_stratify\u001b[39m=\u001b[39;49mdata_split_stratify,\n\u001b[1;32m    656\u001b[0m     fold_strategy\u001b[39m=\u001b[39;49mfold_strategy,\n\u001b[1;32m    657\u001b[0m     fold\u001b[39m=\u001b[39;49mfold,\n\u001b[1;32m    658\u001b[0m     fold_shuffle\u001b[39m=\u001b[39;49mfold_shuffle,\n\u001b[1;32m    659\u001b[0m     fold_groups\u001b[39m=\u001b[39;49mfold_groups,\n\u001b[1;32m    660\u001b[0m     n_jobs\u001b[39m=\u001b[39;49mn_jobs,\n\u001b[1;32m    661\u001b[0m     use_gpu\u001b[39m=\u001b[39;49muse_gpu,\n\u001b[1;32m    662\u001b[0m     custom_pipeline\u001b[39m=\u001b[39;49mcustom_pipeline,\n\u001b[1;32m    663\u001b[0m     html\u001b[39m=\u001b[39;49mhtml,\n\u001b[1;32m    664\u001b[0m     session_id\u001b[39m=\u001b[39;49msession_id,\n\u001b[1;32m    665\u001b[0m     log_experiment\u001b[39m=\u001b[39;49mlog_experiment,\n\u001b[1;32m    666\u001b[0m     experiment_name\u001b[39m=\u001b[39;49mexperiment_name,\n\u001b[1;32m    667\u001b[0m     experiment_custom_tags\u001b[39m=\u001b[39;49mexperiment_custom_tags,\n\u001b[1;32m    668\u001b[0m     log_plots\u001b[39m=\u001b[39;49mlog_plots,\n\u001b[1;32m    669\u001b[0m     log_profile\u001b[39m=\u001b[39;49mlog_profile,\n\u001b[1;32m    670\u001b[0m     log_data\u001b[39m=\u001b[39;49mlog_data,\n\u001b[1;32m    671\u001b[0m     silent\u001b[39m=\u001b[39;49msilent,\n\u001b[1;32m    672\u001b[0m     verbose\u001b[39m=\u001b[39;49mverbose,\n\u001b[1;32m    673\u001b[0m     profile\u001b[39m=\u001b[39;49mprofile,\n\u001b[1;32m    674\u001b[0m     profile_kwargs\u001b[39m=\u001b[39;49mprofile_kwargs,\n\u001b[1;32m    675\u001b[0m )\n",
      "File \u001b[0;32m/opt/miniconda3/envs/stellar/lib/python3.8/site-packages/pycaret/internal/tabular.py:313\u001b[0m, in \u001b[0;36msetup\u001b[0;34m(data, target, ml_usecase, available_plots, train_size, test_data, preprocess, imputation_type, iterative_imputation_iters, categorical_features, categorical_imputation, categorical_iterative_imputer, ordinal_features, high_cardinality_features, high_cardinality_method, numeric_features, numeric_imputation, numeric_iterative_imputer, date_features, ignore_features, normalize, normalize_method, transformation, transformation_method, handle_unknown_categorical, unknown_categorical_method, pca, pca_method, pca_components, ignore_low_variance, combine_rare_levels, rare_level_threshold, bin_numeric_features, remove_outliers, outliers_threshold, remove_multicollinearity, multicollinearity_threshold, remove_perfect_collinearity, create_clusters, cluster_iter, polynomial_features, polynomial_degree, trigonometry_features, polynomial_threshold, group_features, group_names, feature_selection, feature_selection_threshold, feature_selection_method, feature_interaction, feature_ratio, interaction_threshold, fix_imbalance, fix_imbalance_method, transform_target, transform_target_method, data_split_shuffle, data_split_stratify, fold_strategy, fold, fold_shuffle, fold_groups, n_jobs, use_gpu, custom_pipeline, html, session_id, log_experiment, experiment_name, experiment_custom_tags, log_plots, log_profile, log_data, silent, verbose, profile, profile_kwargs, display)\u001b[0m\n\u001b[1;32m    311\u001b[0m     \u001b[39mraise\u001b[39;00m \u001b[39mTypeError\u001b[39;00m(\u001b[39mf\u001b[39m\u001b[39m\"\u001b[39m\u001b[39mdata passed must be of type pandas.DataFrame\u001b[39m\u001b[39m\"\u001b[39m)\n\u001b[1;32m    312\u001b[0m \u001b[39mif\u001b[39;00m data\u001b[39m.\u001b[39mshape[\u001b[39m0\u001b[39m] \u001b[39m==\u001b[39m \u001b[39m0\u001b[39m:\n\u001b[0;32m--> 313\u001b[0m     \u001b[39mraise\u001b[39;00m \u001b[39mValueError\u001b[39;00m(\u001b[39mf\u001b[39m\u001b[39m\"\u001b[39m\u001b[39mdata passed must be a positive dataframe\u001b[39m\u001b[39m\"\u001b[39m)\n\u001b[1;32m    315\u001b[0m \u001b[39m# checking train size parameter\u001b[39;00m\n\u001b[1;32m    316\u001b[0m \u001b[39mif\u001b[39;00m \u001b[39mtype\u001b[39m(train_size) \u001b[39mis\u001b[39;00m \u001b[39mnot\u001b[39;00m \u001b[39mfloat\u001b[39m:\n",
      "\u001b[0;31mValueError\u001b[0m: data passed must be a positive dataframe"
     ]
    }
   ],
   "source": [
    "setup(\n",
    "    data= df_train, \n",
    "    target=\"isnextyear_buyer\", \n",
    "    train_size = 0.85,\n",
    "    data_split_shuffle=True,\n",
    "    date_features=[\n",
    "        \"recentdate\"\n",
    "    ],\n",
    "    ignore_features=[\n",
    "        \"clientcode\",\n",
    "\t\t\"dimcustomermasterid\",\n",
    "\t\t\"lkupclientid\",\n",
    "\t\t\"productgrouping\",\n",
    "\t\t\"year\"\n",
    "    ],\n",
    "    silent=True,\n",
    "    verbose=False,\n",
    "    numeric_features=[\n",
    "        \"attendancepercent\",\n",
    "        \"clicktoopenratio\",\n",
    "        \"clicktosendratio\",\n",
    "        \"disttovenue\",\n",
    "        \"inperson_contact\",\n",
    "        \"missed_games_1\",\n",
    "        \"missed_games_2\",\n",
    "        \"missed_games_over_2\",\n",
    "        \"opentosendratio\",\n",
    "        \"phonecall\",\n",
    "        \"recency\",\n",
    "        \"renewedbeforedays\",\n",
    "        \"tenure\",\n",
    "        \"totalspent\"\n",
    "    ]\n",
    ");"
   ]
  },
  {
   "cell_type": "markdown",
   "id": "6e1e33e8-ed5f-4e84-abb2-a2fc8370905c",
   "metadata": {},
   "source": [
    "### The evaluation output prints a score grid that shows average Accuracy, AUC, Recall, Precision, F1 and Kappa accross the folds (10 by default) along with training time:"
   ]
  },
  {
   "cell_type": "code",
   "execution_count": null,
   "id": "ef2db9d2-02c2-45c0-b6bb-5cad42c373ce",
   "metadata": {},
   "outputs": [
    {
     "data": {
      "text/html": [
       "<style type=\"text/css\">\n",
       "#T_51876 th {\n",
       "  text-align: left;\n",
       "}\n",
       "#T_51876_row0_col0, #T_51876_row0_col3, #T_51876_row1_col0, #T_51876_row1_col1, #T_51876_row1_col2, #T_51876_row1_col4, #T_51876_row1_col5, #T_51876_row1_col6, #T_51876_row1_col7, #T_51876_row2_col0, #T_51876_row2_col1, #T_51876_row2_col2, #T_51876_row2_col3, #T_51876_row2_col4, #T_51876_row2_col5, #T_51876_row2_col6, #T_51876_row2_col7, #T_51876_row3_col0, #T_51876_row3_col1, #T_51876_row3_col2, #T_51876_row3_col3, #T_51876_row3_col4, #T_51876_row3_col5, #T_51876_row3_col6, #T_51876_row3_col7, #T_51876_row4_col0, #T_51876_row4_col1, #T_51876_row4_col2, #T_51876_row4_col3, #T_51876_row4_col4, #T_51876_row4_col5, #T_51876_row4_col6, #T_51876_row4_col7 {\n",
       "  text-align: left;\n",
       "}\n",
       "#T_51876_row0_col1, #T_51876_row0_col2, #T_51876_row0_col4, #T_51876_row0_col5, #T_51876_row0_col6, #T_51876_row0_col7, #T_51876_row1_col3 {\n",
       "  text-align: left;\n",
       "  background-color: yellow;\n",
       "}\n",
       "#T_51876_row0_col8, #T_51876_row1_col8, #T_51876_row2_col8, #T_51876_row4_col8 {\n",
       "  text-align: left;\n",
       "  background-color: lightgrey;\n",
       "}\n",
       "#T_51876_row3_col8 {\n",
       "  text-align: left;\n",
       "  background-color: yellow;\n",
       "  background-color: lightgrey;\n",
       "}\n",
       "</style>\n",
       "<table id=\"T_51876\">\n",
       "  <thead>\n",
       "    <tr>\n",
       "      <th class=\"blank level0\" >&nbsp;</th>\n",
       "      <th id=\"T_51876_level0_col0\" class=\"col_heading level0 col0\" >Model</th>\n",
       "      <th id=\"T_51876_level0_col1\" class=\"col_heading level0 col1\" >Accuracy</th>\n",
       "      <th id=\"T_51876_level0_col2\" class=\"col_heading level0 col2\" >AUC</th>\n",
       "      <th id=\"T_51876_level0_col3\" class=\"col_heading level0 col3\" >Recall</th>\n",
       "      <th id=\"T_51876_level0_col4\" class=\"col_heading level0 col4\" >Prec.</th>\n",
       "      <th id=\"T_51876_level0_col5\" class=\"col_heading level0 col5\" >F1</th>\n",
       "      <th id=\"T_51876_level0_col6\" class=\"col_heading level0 col6\" >Kappa</th>\n",
       "      <th id=\"T_51876_level0_col7\" class=\"col_heading level0 col7\" >MCC</th>\n",
       "      <th id=\"T_51876_level0_col8\" class=\"col_heading level0 col8\" >TT (Sec)</th>\n",
       "    </tr>\n",
       "  </thead>\n",
       "  <tbody>\n",
       "    <tr>\n",
       "      <th id=\"T_51876_level0_row0\" class=\"row_heading level0 row0\" >gbc</th>\n",
       "      <td id=\"T_51876_row0_col0\" class=\"data row0 col0\" >Gradient Boosting Classifier</td>\n",
       "      <td id=\"T_51876_row0_col1\" class=\"data row0 col1\" >0.7116</td>\n",
       "      <td id=\"T_51876_row0_col2\" class=\"data row0 col2\" >0.7954</td>\n",
       "      <td id=\"T_51876_row0_col3\" class=\"data row0 col3\" >0.6857</td>\n",
       "      <td id=\"T_51876_row0_col4\" class=\"data row0 col4\" >0.8673</td>\n",
       "      <td id=\"T_51876_row0_col5\" class=\"data row0 col5\" >0.7656</td>\n",
       "      <td id=\"T_51876_row0_col6\" class=\"data row0 col6\" >0.4038</td>\n",
       "      <td id=\"T_51876_row0_col7\" class=\"data row0 col7\" >0.4232</td>\n",
       "      <td id=\"T_51876_row0_col8\" class=\"data row0 col8\" >1.1220</td>\n",
       "    </tr>\n",
       "    <tr>\n",
       "      <th id=\"T_51876_level0_row1\" class=\"row_heading level0 row1\" >xgboost</th>\n",
       "      <td id=\"T_51876_row1_col0\" class=\"data row1 col0\" >Extreme Gradient Boosting</td>\n",
       "      <td id=\"T_51876_row1_col1\" class=\"data row1 col1\" >0.7065</td>\n",
       "      <td id=\"T_51876_row1_col2\" class=\"data row1 col2\" >0.7840</td>\n",
       "      <td id=\"T_51876_row1_col3\" class=\"data row1 col3\" >0.6902</td>\n",
       "      <td id=\"T_51876_row1_col4\" class=\"data row1 col4\" >0.8552</td>\n",
       "      <td id=\"T_51876_row1_col5\" class=\"data row1 col5\" >0.7637</td>\n",
       "      <td id=\"T_51876_row1_col6\" class=\"data row1 col6\" >0.3877</td>\n",
       "      <td id=\"T_51876_row1_col7\" class=\"data row1 col7\" >0.4038</td>\n",
       "      <td id=\"T_51876_row1_col8\" class=\"data row1 col8\" >0.1560</td>\n",
       "    </tr>\n",
       "    <tr>\n",
       "      <th id=\"T_51876_level0_row2\" class=\"row_heading level0 row2\" >lightgbm</th>\n",
       "      <td id=\"T_51876_row2_col0\" class=\"data row2 col0\" >Light Gradient Boosting Machine</td>\n",
       "      <td id=\"T_51876_row2_col1\" class=\"data row2 col1\" >0.7051</td>\n",
       "      <td id=\"T_51876_row2_col2\" class=\"data row2 col2\" >0.7936</td>\n",
       "      <td id=\"T_51876_row2_col3\" class=\"data row2 col3\" >0.6750</td>\n",
       "      <td id=\"T_51876_row2_col4\" class=\"data row2 col4\" >0.8668</td>\n",
       "      <td id=\"T_51876_row2_col5\" class=\"data row2 col5\" >0.7589</td>\n",
       "      <td id=\"T_51876_row2_col6\" class=\"data row2 col6\" >0.3941</td>\n",
       "      <td id=\"T_51876_row2_col7\" class=\"data row2 col7\" >0.4150</td>\n",
       "      <td id=\"T_51876_row2_col8\" class=\"data row2 col8\" >0.1860</td>\n",
       "    </tr>\n",
       "    <tr>\n",
       "      <th id=\"T_51876_level0_row3\" class=\"row_heading level0 row3\" >rf</th>\n",
       "      <td id=\"T_51876_row3_col0\" class=\"data row3 col0\" >Random Forest Classifier</td>\n",
       "      <td id=\"T_51876_row3_col1\" class=\"data row3 col1\" >0.6937</td>\n",
       "      <td id=\"T_51876_row3_col2\" class=\"data row3 col2\" >0.7833</td>\n",
       "      <td id=\"T_51876_row3_col3\" class=\"data row3 col3\" >0.6626</td>\n",
       "      <td id=\"T_51876_row3_col4\" class=\"data row3 col4\" >0.8600</td>\n",
       "      <td id=\"T_51876_row3_col5\" class=\"data row3 col5\" >0.7483</td>\n",
       "      <td id=\"T_51876_row3_col6\" class=\"data row3 col6\" >0.3733</td>\n",
       "      <td id=\"T_51876_row3_col7\" class=\"data row3 col7\" >0.3946</td>\n",
       "      <td id=\"T_51876_row3_col8\" class=\"data row3 col8\" >0.0930</td>\n",
       "    </tr>\n",
       "    <tr>\n",
       "      <th id=\"T_51876_level0_row4\" class=\"row_heading level0 row4\" >lr</th>\n",
       "      <td id=\"T_51876_row4_col0\" class=\"data row4 col0\" >Logistic Regression</td>\n",
       "      <td id=\"T_51876_row4_col1\" class=\"data row4 col1\" >0.6790</td>\n",
       "      <td id=\"T_51876_row4_col2\" class=\"data row4 col2\" >0.7426</td>\n",
       "      <td id=\"T_51876_row4_col3\" class=\"data row4 col3\" >0.6437</td>\n",
       "      <td id=\"T_51876_row4_col4\" class=\"data row4 col4\" >0.8536</td>\n",
       "      <td id=\"T_51876_row4_col5\" class=\"data row4 col5\" >0.7336</td>\n",
       "      <td id=\"T_51876_row4_col6\" class=\"data row4 col6\" >0.3489</td>\n",
       "      <td id=\"T_51876_row4_col7\" class=\"data row4 col7\" >0.3716</td>\n",
       "      <td id=\"T_51876_row4_col8\" class=\"data row4 col8\" >0.2740</td>\n",
       "    </tr>\n",
       "  </tbody>\n",
       "</table>\n"
      ],
      "text/plain": [
       "<pandas.io.formats.style.Styler at 0x7ff5f2c57e50>"
      ]
     },
     "metadata": {},
     "output_type": "display_data"
    }
   ],
   "source": [
    "model_matrix = compare_models(\n",
    "    fold= 10,\n",
    "    include= [\"gbc\",\"lightgbm\",\"lr\",\"rf\",\"xgboost\"],\n",
    "    n_select=5,\n",
    "    probability_threshold= 0.75\n",
    ")\n",
    "results = pull()"
   ]
  },
  {
   "cell_type": "code",
   "execution_count": null,
   "id": "8ed845ef-c221-4614-8d8a-ae6fded75d5a",
   "metadata": {},
   "outputs": [
    {
     "data": {
      "text/html": [
       "<style type=\"text/css\">\n",
       "#T_73e17_row10_col0, #T_73e17_row10_col1, #T_73e17_row10_col2, #T_73e17_row10_col3, #T_73e17_row10_col4, #T_73e17_row10_col5, #T_73e17_row10_col6 {\n",
       "  background: yellow;\n",
       "}\n",
       "</style>\n",
       "<table id=\"T_73e17\">\n",
       "  <thead>\n",
       "    <tr>\n",
       "      <th class=\"blank level0\" >&nbsp;</th>\n",
       "      <th id=\"T_73e17_level0_col0\" class=\"col_heading level0 col0\" >Accuracy</th>\n",
       "      <th id=\"T_73e17_level0_col1\" class=\"col_heading level0 col1\" >AUC</th>\n",
       "      <th id=\"T_73e17_level0_col2\" class=\"col_heading level0 col2\" >Recall</th>\n",
       "      <th id=\"T_73e17_level0_col3\" class=\"col_heading level0 col3\" >Prec.</th>\n",
       "      <th id=\"T_73e17_level0_col4\" class=\"col_heading level0 col4\" >F1</th>\n",
       "      <th id=\"T_73e17_level0_col5\" class=\"col_heading level0 col5\" >Kappa</th>\n",
       "      <th id=\"T_73e17_level0_col6\" class=\"col_heading level0 col6\" >MCC</th>\n",
       "    </tr>\n",
       "    <tr>\n",
       "      <th class=\"index_name level0\" >Fold</th>\n",
       "      <th class=\"blank col0\" >&nbsp;</th>\n",
       "      <th class=\"blank col1\" >&nbsp;</th>\n",
       "      <th class=\"blank col2\" >&nbsp;</th>\n",
       "      <th class=\"blank col3\" >&nbsp;</th>\n",
       "      <th class=\"blank col4\" >&nbsp;</th>\n",
       "      <th class=\"blank col5\" >&nbsp;</th>\n",
       "      <th class=\"blank col6\" >&nbsp;</th>\n",
       "    </tr>\n",
       "  </thead>\n",
       "  <tbody>\n",
       "    <tr>\n",
       "      <th id=\"T_73e17_level0_row0\" class=\"row_heading level0 row0\" >0</th>\n",
       "      <td id=\"T_73e17_row0_col0\" class=\"data row0 col0\" >0.6701</td>\n",
       "      <td id=\"T_73e17_row0_col1\" class=\"data row0 col1\" >0.7310</td>\n",
       "      <td id=\"T_73e17_row0_col2\" class=\"data row0 col2\" >0.6194</td>\n",
       "      <td id=\"T_73e17_row0_col3\" class=\"data row0 col3\" >0.8616</td>\n",
       "      <td id=\"T_73e17_row0_col4\" class=\"data row0 col4\" >0.7207</td>\n",
       "      <td id=\"T_73e17_row0_col5\" class=\"data row0 col5\" >0.3431</td>\n",
       "      <td id=\"T_73e17_row0_col6\" class=\"data row0 col6\" >0.3717</td>\n",
       "    </tr>\n",
       "    <tr>\n",
       "      <th id=\"T_73e17_level0_row1\" class=\"row_heading level0 row1\" >1</th>\n",
       "      <td id=\"T_73e17_row1_col0\" class=\"data row1 col0\" >0.6786</td>\n",
       "      <td id=\"T_73e17_row1_col1\" class=\"data row1 col1\" >0.7597</td>\n",
       "      <td id=\"T_73e17_row1_col2\" class=\"data row1 col2\" >0.6269</td>\n",
       "      <td id=\"T_73e17_row1_col3\" class=\"data row1 col3\" >0.8690</td>\n",
       "      <td id=\"T_73e17_row1_col4\" class=\"data row1 col4\" >0.7283</td>\n",
       "      <td id=\"T_73e17_row1_col5\" class=\"data row1 col5\" >0.3593</td>\n",
       "      <td id=\"T_73e17_row1_col6\" class=\"data row1 col6\" >0.3887</td>\n",
       "    </tr>\n",
       "    <tr>\n",
       "      <th id=\"T_73e17_level0_row2\" class=\"row_heading level0 row2\" >2</th>\n",
       "      <td id=\"T_73e17_row2_col0\" class=\"data row2 col0\" >0.6769</td>\n",
       "      <td id=\"T_73e17_row2_col1\" class=\"data row2 col1\" >0.7532</td>\n",
       "      <td id=\"T_73e17_row2_col2\" class=\"data row2 col2\" >0.6468</td>\n",
       "      <td id=\"T_73e17_row2_col3\" class=\"data row2 col3\" >0.8469</td>\n",
       "      <td id=\"T_73e17_row2_col4\" class=\"data row2 col4\" >0.7334</td>\n",
       "      <td id=\"T_73e17_row2_col5\" class=\"data row2 col5\" >0.3416</td>\n",
       "      <td id=\"T_73e17_row2_col6\" class=\"data row2 col6\" >0.3620</td>\n",
       "    </tr>\n",
       "    <tr>\n",
       "      <th id=\"T_73e17_level0_row3\" class=\"row_heading level0 row3\" >3</th>\n",
       "      <td id=\"T_73e17_row3_col0\" class=\"data row3 col0\" >0.6872</td>\n",
       "      <td id=\"T_73e17_row3_col1\" class=\"data row3 col1\" >0.7580</td>\n",
       "      <td id=\"T_73e17_row3_col2\" class=\"data row3 col2\" >0.6542</td>\n",
       "      <td id=\"T_73e17_row3_col3\" class=\"data row3 col3\" >0.8567</td>\n",
       "      <td id=\"T_73e17_row3_col4\" class=\"data row3 col4\" >0.7419</td>\n",
       "      <td id=\"T_73e17_row3_col5\" class=\"data row3 col5\" >0.3625</td>\n",
       "      <td id=\"T_73e17_row3_col6\" class=\"data row3 col6\" >0.3842</td>\n",
       "    </tr>\n",
       "    <tr>\n",
       "      <th id=\"T_73e17_level0_row4\" class=\"row_heading level0 row4\" >4</th>\n",
       "      <td id=\"T_73e17_row4_col0\" class=\"data row4 col0\" >0.6667</td>\n",
       "      <td id=\"T_73e17_row4_col1\" class=\"data row4 col1\" >0.7523</td>\n",
       "      <td id=\"T_73e17_row4_col2\" class=\"data row4 col2\" >0.6119</td>\n",
       "      <td id=\"T_73e17_row4_col3\" class=\"data row4 col3\" >0.8632</td>\n",
       "      <td id=\"T_73e17_row4_col4\" class=\"data row4 col4\" >0.7162</td>\n",
       "      <td id=\"T_73e17_row4_col5\" class=\"data row4 col5\" >0.3397</td>\n",
       "      <td id=\"T_73e17_row4_col6\" class=\"data row4 col6\" >0.3699</td>\n",
       "    </tr>\n",
       "    <tr>\n",
       "      <th id=\"T_73e17_level0_row5\" class=\"row_heading level0 row5\" >5</th>\n",
       "      <td id=\"T_73e17_row5_col0\" class=\"data row5 col0\" >0.7128</td>\n",
       "      <td id=\"T_73e17_row5_col1\" class=\"data row5 col1\" >0.7516</td>\n",
       "      <td id=\"T_73e17_row5_col2\" class=\"data row5 col2\" >0.6841</td>\n",
       "      <td id=\"T_73e17_row5_col3\" class=\"data row5 col3\" >0.8703</td>\n",
       "      <td id=\"T_73e17_row5_col4\" class=\"data row5 col4\" >0.7660</td>\n",
       "      <td id=\"T_73e17_row5_col5\" class=\"data row5 col5\" >0.4078</td>\n",
       "      <td id=\"T_73e17_row5_col6\" class=\"data row5 col6\" >0.4280</td>\n",
       "    </tr>\n",
       "    <tr>\n",
       "      <th id=\"T_73e17_level0_row6\" class=\"row_heading level0 row6\" >6</th>\n",
       "      <td id=\"T_73e17_row6_col0\" class=\"data row6 col0\" >0.6786</td>\n",
       "      <td id=\"T_73e17_row6_col1\" class=\"data row6 col1\" >0.7373</td>\n",
       "      <td id=\"T_73e17_row6_col2\" class=\"data row6 col2\" >0.6294</td>\n",
       "      <td id=\"T_73e17_row6_col3\" class=\"data row6 col3\" >0.8664</td>\n",
       "      <td id=\"T_73e17_row6_col4\" class=\"data row6 col4\" >0.7291</td>\n",
       "      <td id=\"T_73e17_row6_col5\" class=\"data row6 col5\" >0.3577</td>\n",
       "      <td id=\"T_73e17_row6_col6\" class=\"data row6 col6\" >0.3860</td>\n",
       "    </tr>\n",
       "    <tr>\n",
       "      <th id=\"T_73e17_level0_row7\" class=\"row_heading level0 row7\" >7</th>\n",
       "      <td id=\"T_73e17_row7_col0\" class=\"data row7 col0\" >0.6832</td>\n",
       "      <td id=\"T_73e17_row7_col1\" class=\"data row7 col1\" >0.7327</td>\n",
       "      <td id=\"T_73e17_row7_col2\" class=\"data row7 col2\" >0.6667</td>\n",
       "      <td id=\"T_73e17_row7_col3\" class=\"data row7 col3\" >0.8401</td>\n",
       "      <td id=\"T_73e17_row7_col4\" class=\"data row7 col4\" >0.7434</td>\n",
       "      <td id=\"T_73e17_row7_col5\" class=\"data row7 col5\" >0.3436</td>\n",
       "      <td id=\"T_73e17_row7_col6\" class=\"data row7 col6\" >0.3595</td>\n",
       "    </tr>\n",
       "    <tr>\n",
       "      <th id=\"T_73e17_level0_row8\" class=\"row_heading level0 row8\" >8</th>\n",
       "      <td id=\"T_73e17_row8_col0\" class=\"data row8 col0\" >0.6815</td>\n",
       "      <td id=\"T_73e17_row8_col1\" class=\"data row8 col1\" >0.7422</td>\n",
       "      <td id=\"T_73e17_row8_col2\" class=\"data row8 col2\" >0.6592</td>\n",
       "      <td id=\"T_73e17_row8_col3\" class=\"data row8 col3\" >0.8439</td>\n",
       "      <td id=\"T_73e17_row8_col4\" class=\"data row8 col4\" >0.7402</td>\n",
       "      <td id=\"T_73e17_row8_col5\" class=\"data row8 col5\" >0.3444</td>\n",
       "      <td id=\"T_73e17_row8_col6\" class=\"data row8 col6\" >0.3623</td>\n",
       "    </tr>\n",
       "    <tr>\n",
       "      <th id=\"T_73e17_level0_row9\" class=\"row_heading level0 row9\" >9</th>\n",
       "      <td id=\"T_73e17_row9_col0\" class=\"data row9 col0\" >0.6541</td>\n",
       "      <td id=\"T_73e17_row9_col1\" class=\"data row9 col1\" >0.7077</td>\n",
       "      <td id=\"T_73e17_row9_col2\" class=\"data row9 col2\" >0.6384</td>\n",
       "      <td id=\"T_73e17_row9_col3\" class=\"data row9 col3\" >0.8179</td>\n",
       "      <td id=\"T_73e17_row9_col4\" class=\"data row9 col4\" >0.7171</td>\n",
       "      <td id=\"T_73e17_row9_col5\" class=\"data row9 col5\" >0.2891</td>\n",
       "      <td id=\"T_73e17_row9_col6\" class=\"data row9 col6\" >0.3041</td>\n",
       "    </tr>\n",
       "    <tr>\n",
       "      <th id=\"T_73e17_level0_row10\" class=\"row_heading level0 row10\" >Mean</th>\n",
       "      <td id=\"T_73e17_row10_col0\" class=\"data row10 col0\" >0.6790</td>\n",
       "      <td id=\"T_73e17_row10_col1\" class=\"data row10 col1\" >0.7426</td>\n",
       "      <td id=\"T_73e17_row10_col2\" class=\"data row10 col2\" >0.6437</td>\n",
       "      <td id=\"T_73e17_row10_col3\" class=\"data row10 col3\" >0.8536</td>\n",
       "      <td id=\"T_73e17_row10_col4\" class=\"data row10 col4\" >0.7336</td>\n",
       "      <td id=\"T_73e17_row10_col5\" class=\"data row10 col5\" >0.3489</td>\n",
       "      <td id=\"T_73e17_row10_col6\" class=\"data row10 col6\" >0.3716</td>\n",
       "    </tr>\n",
       "    <tr>\n",
       "      <th id=\"T_73e17_level0_row11\" class=\"row_heading level0 row11\" >Std</th>\n",
       "      <td id=\"T_73e17_row11_col0\" class=\"data row11 col0\" >0.0145</td>\n",
       "      <td id=\"T_73e17_row11_col1\" class=\"data row11 col1\" >0.0152</td>\n",
       "      <td id=\"T_73e17_row11_col2\" class=\"data row11 col2\" >0.0215</td>\n",
       "      <td id=\"T_73e17_row11_col3\" class=\"data row11 col3\" >0.0156</td>\n",
       "      <td id=\"T_73e17_row11_col4\" class=\"data row11 col4\" >0.0143</td>\n",
       "      <td id=\"T_73e17_row11_col5\" class=\"data row11 col5\" >0.0276</td>\n",
       "      <td id=\"T_73e17_row11_col6\" class=\"data row11 col6\" >0.0295</td>\n",
       "    </tr>\n",
       "  </tbody>\n",
       "</table>\n"
      ],
      "text/plain": [
       "<pandas.io.formats.style.Styler at 0x7ff5f4555ca0>"
      ]
     },
     "metadata": {},
     "output_type": "display_data"
    },
    {
     "name": "stderr",
     "output_type": "stream",
     "text": [
      "/opt/miniconda3/envs/stellar/lib/python3.8/site-packages/sklearn/linear_model/_logistic.py:762: ConvergenceWarning: lbfgs failed to converge (status=1):\n",
      "STOP: TOTAL NO. of ITERATIONS REACHED LIMIT.\n",
      "\n",
      "Increase the number of iterations (max_iter) or scale the data as shown in:\n",
      "    https://scikit-learn.org/stable/modules/preprocessing.html\n",
      "Please also refer to the documentation for alternative solver options:\n",
      "    https://scikit-learn.org/stable/modules/linear_model.html#logistic-regression\n",
      "  n_iter_i = _check_optimize_result(\n",
      "/opt/miniconda3/envs/stellar/lib/python3.8/site-packages/sklearn/linear_model/_logistic.py:762: ConvergenceWarning: lbfgs failed to converge (status=1):\n",
      "STOP: TOTAL NO. of ITERATIONS REACHED LIMIT.\n",
      "\n",
      "Increase the number of iterations (max_iter) or scale the data as shown in:\n",
      "    https://scikit-learn.org/stable/modules/preprocessing.html\n",
      "Please also refer to the documentation for alternative solver options:\n",
      "    https://scikit-learn.org/stable/modules/linear_model.html#logistic-regression\n",
      "  n_iter_i = _check_optimize_result(\n",
      "/opt/miniconda3/envs/stellar/lib/python3.8/site-packages/sklearn/linear_model/_logistic.py:762: ConvergenceWarning: lbfgs failed to converge (status=1):\n",
      "STOP: TOTAL NO. of ITERATIONS REACHED LIMIT.\n",
      "\n",
      "Increase the number of iterations (max_iter) or scale the data as shown in:\n",
      "    https://scikit-learn.org/stable/modules/preprocessing.html\n",
      "Please also refer to the documentation for alternative solver options:\n",
      "    https://scikit-learn.org/stable/modules/linear_model.html#logistic-regression\n",
      "  n_iter_i = _check_optimize_result(\n"
     ]
    }
   ],
   "source": [
    "models = []\n",
    "for idx, m in enumerate(model_matrix):\n",
    "    \n",
    "    model = create_model(m)\n",
    "    final_model = finalize_model(model)\n",
    "    \n",
    "    models.append({\n",
    "        \"name\": str(results.iloc[idx][\"Model\"]),\n",
    "        \"model\": final_model\n",
    "    })"
   ]
  },
  {
   "cell_type": "markdown",
   "id": "3aab9021-4462-423a-8e3c-fbe1f36c6110",
   "metadata": {},
   "source": [
    "### Let's load in our 2021 season data and get retention scores using the model:"
   ]
  },
  {
   "cell_type": "code",
   "execution_count": 10,
   "id": "c249a813-c882-4869-9490-6ab766a8c223",
   "metadata": {},
   "outputs": [
    {
     "data": {
      "text/plain": [
       "(0, 21)"
      ]
     },
     "execution_count": 10,
     "metadata": {},
     "output_type": "execute_result"
    }
   ],
   "source": [
    "df_inference = df.loc[df[\"year\"] >= SCORINGYEAR]\n",
    "df_inference = df_inference.fillna(0)\n",
    "df_inference = df_inference[features]\n",
    "\n",
    "df_inference.shape\n",
    "\n"
   ]
  },
  {
   "cell_type": "code",
   "execution_count": 13,
   "id": "658464e2-ba98-4875-a7f2-c8f0ba581d89",
   "metadata": {},
   "outputs": [
    {
     "data": {
      "text/html": [
       "<style type=\"text/css\">\n",
       "</style>\n",
       "<table id=\"T_2476b\">\n",
       "  <thead>\n",
       "    <tr>\n",
       "      <th class=\"blank level0\" >&nbsp;</th>\n",
       "      <th id=\"T_2476b_level0_col0\" class=\"col_heading level0 col0\" >Model</th>\n",
       "      <th id=\"T_2476b_level0_col1\" class=\"col_heading level0 col1\" >Accuracy</th>\n",
       "      <th id=\"T_2476b_level0_col2\" class=\"col_heading level0 col2\" >AUC</th>\n",
       "      <th id=\"T_2476b_level0_col3\" class=\"col_heading level0 col3\" >Recall</th>\n",
       "      <th id=\"T_2476b_level0_col4\" class=\"col_heading level0 col4\" >Prec.</th>\n",
       "      <th id=\"T_2476b_level0_col5\" class=\"col_heading level0 col5\" >F1</th>\n",
       "      <th id=\"T_2476b_level0_col6\" class=\"col_heading level0 col6\" >Kappa</th>\n",
       "      <th id=\"T_2476b_level0_col7\" class=\"col_heading level0 col7\" >MCC</th>\n",
       "    </tr>\n",
       "  </thead>\n",
       "  <tbody>\n",
       "    <tr>\n",
       "      <th id=\"T_2476b_level0_row0\" class=\"row_heading level0 row0\" >0</th>\n",
       "      <td id=\"T_2476b_row0_col0\" class=\"data row0 col0\" >Gradient Boosting Classifier</td>\n",
       "      <td id=\"T_2476b_row0_col1\" class=\"data row0 col1\" >0.7220</td>\n",
       "      <td id=\"T_2476b_row0_col2\" class=\"data row0 col2\" >0</td>\n",
       "      <td id=\"T_2476b_row0_col3\" class=\"data row0 col3\" >0.0000</td>\n",
       "      <td id=\"T_2476b_row0_col4\" class=\"data row0 col4\" >0.0000</td>\n",
       "      <td id=\"T_2476b_row0_col5\" class=\"data row0 col5\" >0.0000</td>\n",
       "      <td id=\"T_2476b_row0_col6\" class=\"data row0 col6\" >0.0000</td>\n",
       "      <td id=\"T_2476b_row0_col7\" class=\"data row0 col7\" >0.0000</td>\n",
       "    </tr>\n",
       "  </tbody>\n",
       "</table>\n"
      ],
      "text/plain": [
       "<pandas.io.formats.style.Styler at 0x7ff5f47fabe0>"
      ]
     },
     "metadata": {},
     "output_type": "display_data"
    },
    {
     "data": {
      "text/html": [
       "<style type=\"text/css\">\n",
       "</style>\n",
       "<table id=\"T_b5b65\">\n",
       "  <thead>\n",
       "    <tr>\n",
       "      <th class=\"blank level0\" >&nbsp;</th>\n",
       "      <th id=\"T_b5b65_level0_col0\" class=\"col_heading level0 col0\" >Model</th>\n",
       "      <th id=\"T_b5b65_level0_col1\" class=\"col_heading level0 col1\" >Accuracy</th>\n",
       "      <th id=\"T_b5b65_level0_col2\" class=\"col_heading level0 col2\" >AUC</th>\n",
       "      <th id=\"T_b5b65_level0_col3\" class=\"col_heading level0 col3\" >Recall</th>\n",
       "      <th id=\"T_b5b65_level0_col4\" class=\"col_heading level0 col4\" >Prec.</th>\n",
       "      <th id=\"T_b5b65_level0_col5\" class=\"col_heading level0 col5\" >F1</th>\n",
       "      <th id=\"T_b5b65_level0_col6\" class=\"col_heading level0 col6\" >Kappa</th>\n",
       "      <th id=\"T_b5b65_level0_col7\" class=\"col_heading level0 col7\" >MCC</th>\n",
       "    </tr>\n",
       "  </thead>\n",
       "  <tbody>\n",
       "    <tr>\n",
       "      <th id=\"T_b5b65_level0_row0\" class=\"row_heading level0 row0\" >0</th>\n",
       "      <td id=\"T_b5b65_row0_col0\" class=\"data row0 col0\" >Extreme Gradient Boosting</td>\n",
       "      <td id=\"T_b5b65_row0_col1\" class=\"data row0 col1\" >0.6125</td>\n",
       "      <td id=\"T_b5b65_row0_col2\" class=\"data row0 col2\" >0</td>\n",
       "      <td id=\"T_b5b65_row0_col3\" class=\"data row0 col3\" >0.0000</td>\n",
       "      <td id=\"T_b5b65_row0_col4\" class=\"data row0 col4\" >0.0000</td>\n",
       "      <td id=\"T_b5b65_row0_col5\" class=\"data row0 col5\" >0.0000</td>\n",
       "      <td id=\"T_b5b65_row0_col6\" class=\"data row0 col6\" >0.0000</td>\n",
       "      <td id=\"T_b5b65_row0_col7\" class=\"data row0 col7\" >0.0000</td>\n",
       "    </tr>\n",
       "  </tbody>\n",
       "</table>\n"
      ],
      "text/plain": [
       "<pandas.io.formats.style.Styler at 0x7ff5f41c2580>"
      ]
     },
     "metadata": {},
     "output_type": "display_data"
    },
    {
     "data": {
      "text/html": [
       "<style type=\"text/css\">\n",
       "</style>\n",
       "<table id=\"T_6f501\">\n",
       "  <thead>\n",
       "    <tr>\n",
       "      <th class=\"blank level0\" >&nbsp;</th>\n",
       "      <th id=\"T_6f501_level0_col0\" class=\"col_heading level0 col0\" >Model</th>\n",
       "      <th id=\"T_6f501_level0_col1\" class=\"col_heading level0 col1\" >Accuracy</th>\n",
       "      <th id=\"T_6f501_level0_col2\" class=\"col_heading level0 col2\" >AUC</th>\n",
       "      <th id=\"T_6f501_level0_col3\" class=\"col_heading level0 col3\" >Recall</th>\n",
       "      <th id=\"T_6f501_level0_col4\" class=\"col_heading level0 col4\" >Prec.</th>\n",
       "      <th id=\"T_6f501_level0_col5\" class=\"col_heading level0 col5\" >F1</th>\n",
       "      <th id=\"T_6f501_level0_col6\" class=\"col_heading level0 col6\" >Kappa</th>\n",
       "      <th id=\"T_6f501_level0_col7\" class=\"col_heading level0 col7\" >MCC</th>\n",
       "    </tr>\n",
       "  </thead>\n",
       "  <tbody>\n",
       "    <tr>\n",
       "      <th id=\"T_6f501_level0_row0\" class=\"row_heading level0 row0\" >0</th>\n",
       "      <td id=\"T_6f501_row0_col0\" class=\"data row0 col0\" >Light Gradient Boosting Machine</td>\n",
       "      <td id=\"T_6f501_row0_col1\" class=\"data row0 col1\" >0.6848</td>\n",
       "      <td id=\"T_6f501_row0_col2\" class=\"data row0 col2\" >0</td>\n",
       "      <td id=\"T_6f501_row0_col3\" class=\"data row0 col3\" >0.0000</td>\n",
       "      <td id=\"T_6f501_row0_col4\" class=\"data row0 col4\" >0.0000</td>\n",
       "      <td id=\"T_6f501_row0_col5\" class=\"data row0 col5\" >0.0000</td>\n",
       "      <td id=\"T_6f501_row0_col6\" class=\"data row0 col6\" >0.0000</td>\n",
       "      <td id=\"T_6f501_row0_col7\" class=\"data row0 col7\" >0.0000</td>\n",
       "    </tr>\n",
       "  </tbody>\n",
       "</table>\n"
      ],
      "text/plain": [
       "<pandas.io.formats.style.Styler at 0x7ff5f455f400>"
      ]
     },
     "metadata": {},
     "output_type": "display_data"
    },
    {
     "data": {
      "text/html": [
       "<style type=\"text/css\">\n",
       "</style>\n",
       "<table id=\"T_d234c\">\n",
       "  <thead>\n",
       "    <tr>\n",
       "      <th class=\"blank level0\" >&nbsp;</th>\n",
       "      <th id=\"T_d234c_level0_col0\" class=\"col_heading level0 col0\" >Model</th>\n",
       "      <th id=\"T_d234c_level0_col1\" class=\"col_heading level0 col1\" >Accuracy</th>\n",
       "      <th id=\"T_d234c_level0_col2\" class=\"col_heading level0 col2\" >AUC</th>\n",
       "      <th id=\"T_d234c_level0_col3\" class=\"col_heading level0 col3\" >Recall</th>\n",
       "      <th id=\"T_d234c_level0_col4\" class=\"col_heading level0 col4\" >Prec.</th>\n",
       "      <th id=\"T_d234c_level0_col5\" class=\"col_heading level0 col5\" >F1</th>\n",
       "      <th id=\"T_d234c_level0_col6\" class=\"col_heading level0 col6\" >Kappa</th>\n",
       "      <th id=\"T_d234c_level0_col7\" class=\"col_heading level0 col7\" >MCC</th>\n",
       "    </tr>\n",
       "  </thead>\n",
       "  <tbody>\n",
       "    <tr>\n",
       "      <th id=\"T_d234c_level0_row0\" class=\"row_heading level0 row0\" >0</th>\n",
       "      <td id=\"T_d234c_row0_col0\" class=\"data row0 col0\" >Random Forest Classifier</td>\n",
       "      <td id=\"T_d234c_row0_col1\" class=\"data row0 col1\" >0.7448</td>\n",
       "      <td id=\"T_d234c_row0_col2\" class=\"data row0 col2\" >0</td>\n",
       "      <td id=\"T_d234c_row0_col3\" class=\"data row0 col3\" >0.0000</td>\n",
       "      <td id=\"T_d234c_row0_col4\" class=\"data row0 col4\" >0.0000</td>\n",
       "      <td id=\"T_d234c_row0_col5\" class=\"data row0 col5\" >0.0000</td>\n",
       "      <td id=\"T_d234c_row0_col6\" class=\"data row0 col6\" >0.0000</td>\n",
       "      <td id=\"T_d234c_row0_col7\" class=\"data row0 col7\" >0.0000</td>\n",
       "    </tr>\n",
       "  </tbody>\n",
       "</table>\n"
      ],
      "text/plain": [
       "<pandas.io.formats.style.Styler at 0x7ff5f47fadf0>"
      ]
     },
     "metadata": {},
     "output_type": "display_data"
    },
    {
     "data": {
      "text/html": [
       "<style type=\"text/css\">\n",
       "</style>\n",
       "<table id=\"T_cb75c\">\n",
       "  <thead>\n",
       "    <tr>\n",
       "      <th class=\"blank level0\" >&nbsp;</th>\n",
       "      <th id=\"T_cb75c_level0_col0\" class=\"col_heading level0 col0\" >Model</th>\n",
       "      <th id=\"T_cb75c_level0_col1\" class=\"col_heading level0 col1\" >Accuracy</th>\n",
       "      <th id=\"T_cb75c_level0_col2\" class=\"col_heading level0 col2\" >AUC</th>\n",
       "      <th id=\"T_cb75c_level0_col3\" class=\"col_heading level0 col3\" >Recall</th>\n",
       "      <th id=\"T_cb75c_level0_col4\" class=\"col_heading level0 col4\" >Prec.</th>\n",
       "      <th id=\"T_cb75c_level0_col5\" class=\"col_heading level0 col5\" >F1</th>\n",
       "      <th id=\"T_cb75c_level0_col6\" class=\"col_heading level0 col6\" >Kappa</th>\n",
       "      <th id=\"T_cb75c_level0_col7\" class=\"col_heading level0 col7\" >MCC</th>\n",
       "    </tr>\n",
       "  </thead>\n",
       "  <tbody>\n",
       "    <tr>\n",
       "      <th id=\"T_cb75c_level0_row0\" class=\"row_heading level0 row0\" >0</th>\n",
       "      <td id=\"T_cb75c_row0_col0\" class=\"data row0 col0\" >Logistic Regression</td>\n",
       "      <td id=\"T_cb75c_row0_col1\" class=\"data row0 col1\" >0.6459</td>\n",
       "      <td id=\"T_cb75c_row0_col2\" class=\"data row0 col2\" >0</td>\n",
       "      <td id=\"T_cb75c_row0_col3\" class=\"data row0 col3\" >0.0000</td>\n",
       "      <td id=\"T_cb75c_row0_col4\" class=\"data row0 col4\" >0.0000</td>\n",
       "      <td id=\"T_cb75c_row0_col5\" class=\"data row0 col5\" >0.0000</td>\n",
       "      <td id=\"T_cb75c_row0_col6\" class=\"data row0 col6\" >0.0000</td>\n",
       "      <td id=\"T_cb75c_row0_col7\" class=\"data row0 col7\" >0.0000</td>\n",
       "    </tr>\n",
       "  </tbody>\n",
       "</table>\n"
      ],
      "text/plain": [
       "<pandas.io.formats.style.Styler at 0x7ff5f455ffd0>"
      ]
     },
     "metadata": {},
     "output_type": "display_data"
    }
   ],
   "source": [
    "predictions = []\n",
    "for idx, final_m in enumerate(models):\n",
    "    \n",
    "    df_predictions = (predict_model(final_m['model'], data=df_inference, raw_score=True))\n",
    "    df_predictions = df_predictions[df_predictions[\"Score_1\"] >= 0.025]\n",
    "    final_m[\"predictions\"] = df_predictions"
   ]
  },
  {
   "cell_type": "markdown",
   "id": "12e0b1a1-f440-43f9-ab6a-374134eb4684",
   "metadata": {},
   "source": [
    "### We can create some histograms to visualize each model distribution:"
   ]
  },
  {
   "cell_type": "code",
   "execution_count": 14,
   "id": "d815f4f6-4f04-47b0-972b-a708ecf8a772",
   "metadata": {},
   "outputs": [
    {
     "data": {
      "image/png": "[encoded data removed]",
      "text/plain": [
       "<Figure size 800x550 with 5 Axes>"
      ]
     },
     "metadata": {},
     "output_type": "display_data"
    }
   ],
   "source": [
    "for idx, model in enumerate(models):\n",
    "    \n",
    "    plt.subplot(1, 5, idx+1)\n",
    "    plt.title(model[\"name\"])\n",
    "    plt.ylabel(\"Num Fans\")\n",
    "    plt.xlabel(\"SA Buyer Score\")\n",
    "    plt.hist(model[\"predictions\"][\"Score_1\"], bins=20, edgecolor=\"black\", range=(0,1))\n",
    "                            \n",
    "plt.rcParams[\"figure.figsize\"] = (25,4)\n",
    "plt.show()"
   ]
  },
  {
   "cell_type": "markdown",
   "id": "c5d007b0-fe2b-401a-9445-383f1626a0df",
   "metadata": {},
   "source": [
    "### We can also see how many purchases there are in each range of scores:"
   ]
  },
  {
   "cell_type": "code",
   "execution_count": 15,
   "id": "6ee7faec-29ba-47b1-8eb2-3166d81a9b08",
   "metadata": {},
   "outputs": [
    {
     "name": "stdout",
     "output_type": "stream",
     "text": [
      "0    2249\n",
      "1     866\n",
      "Name: Label, dtype: int64\n",
      "0    1858\n",
      "1    1207\n",
      "Name: Label, dtype: int64\n",
      "0    2125\n",
      "1     982\n",
      "Name: Label, dtype: int64\n",
      "0    2319\n",
      "1     795\n",
      "Name: Label, dtype: int64\n",
      "0    2011\n",
      "1    1103\n",
      "Name: Label, dtype: int64\n"
     ]
    }
   ],
   "source": [
    "for idx, model in enumerate(models):\n",
    "    print(models[idx][\"predictions\"][\"Label\"].value_counts())\n"
   ]
  },
  {
   "cell_type": "markdown",
   "id": "9fae23b9-1851-4368-98b8-edb87b16314e",
   "metadata": {},
   "source": [
    "### Select the model you would like to use for updating scores:"
   ]
  },
  {
   "cell_type": "code",
   "execution_count": 16,
   "id": "d03a9c76-6b5d-4d78-bde6-399594e8851a",
   "metadata": {},
   "outputs": [
    {
     "name": "stdout",
     "output_type": "stream",
     "text": [
      "<class 'pandas.core.frame.DataFrame'>\n",
      "Int64Index: 3107 entries, 1 to 11200\n",
      "Data columns (total 24 columns):\n",
      " #   Column               Non-Null Count  Dtype         \n",
      "---  ------               --------------  -----         \n",
      " 0   isnextyear_buyer     3107 non-null   int64         \n",
      " 1   recentdate           3107 non-null   datetime64[ns]\n",
      " 2   clientcode           3107 non-null   object        \n",
      " 3   dimcustomermasterid  3107 non-null   int64         \n",
      " 4   lkupclientid         3107 non-null   int64         \n",
      " 5   productgrouping      3107 non-null   object        \n",
      " 6   year                 3107 non-null   int64         \n",
      " 7   attendancepercent    3107 non-null   float64       \n",
      " 8   clicktoopenratio     3107 non-null   object        \n",
      " 9   clicktosendratio     3107 non-null   object        \n",
      " 10  disttovenue          3107 non-null   float64       \n",
      " 11  inperson_contact     3107 non-null   int64         \n",
      " 12  missed_games_1       3107 non-null   object        \n",
      " 13  missed_games_2       3107 non-null   object        \n",
      " 14  missed_games_over_2  3107 non-null   object        \n",
      " 15  opentosendratio      3107 non-null   object        \n",
      " 16  phonecall            3107 non-null   int64         \n",
      " 17  recency              3107 non-null   int64         \n",
      " 18  renewedbeforedays    3107 non-null   int64         \n",
      " 19  source_tenure        3107 non-null   object        \n",
      " 20  totalspent           3107 non-null   float64       \n",
      " 21  Label                3107 non-null   int64         \n",
      " 22  Score_0              3107 non-null   float64       \n",
      " 23  Score_1              3107 non-null   float64       \n",
      "dtypes: datetime64[ns](1), float64(5), int64(9), object(9)\n",
      "memory usage: 606.8+ KB\n"
     ]
    }
   ],
   "source": [
    "selected_model = \"Light Gradient Boosting Machine\"\n",
    "\n",
    "for model in models:\n",
    "    if model[\"name\"] == selected_model:\n",
    "        df_scores = model[\"predictions\"]\n",
    "                                 \n",
    "df_scores.info()"
   ]
  },
  {
   "cell_type": "code",
   "execution_count": 18,
   "id": "d21a133e",
   "metadata": {},
   "outputs": [
    {
     "data": {
      "image/png": "[encoded data removed]",
      "text/plain": [
       "<Figure size 2000x400 with 1 Axes>"
      ]
     },
     "metadata": {},
     "output_type": "display_data"
    }
   ],
   "source": [
    "fig, ax1 = plt.subplots(1)\n",
    "fig.suptitle('Retention Scores')\n",
    "ax1.hist(df_scores['Score_1'], bins=20, edgecolor='black', color='dodgerblue')\n",
    "ax1.set_xlabel('sascore')\n",
    "\n",
    "fig.figure.set_figwidth(20)"
   ]
  },
  {
   "cell_type": "markdown",
   "id": "6d6c614f-288b-4a88-97dc-7ffc1d1c7ec9",
   "metadata": {},
   "source": [
    "### Optionally we can push these scores into QA so that we can see what the new scoring looks like in the CDP:"
   ]
  },
  {
   "cell_type": "code",
   "execution_count": 17,
   "id": "eafe7038",
   "metadata": {},
   "outputs": [
    {
     "name": "stdout",
     "output_type": "stream",
     "text": [
      "Authorized as AROASQ4JELIXYLYV6P4UV:gdonst@stellaralgo.com\n"
     ]
    }
   ],
   "source": [
    "CONN = helpers.get_redshift_connection(ENV, DBNAME)"
   ]
  },
  {
   "cell_type": "markdown",
   "id": "772c8826",
   "metadata": {},
   "source": [
    "### Insert the scores into the customerretentionscores table in RedShift:"
   ]
  },
  {
   "cell_type": "code",
   "execution_count": 28,
   "id": "4c010cf3",
   "metadata": {},
   "outputs": [
    {
     "name": "stdout",
     "output_type": "stream",
     "text": [
      "INSERTING 3114 NEW RETENTION SCORES TO DATABASE: stlrrays (45)\n",
      " > INSERTED BATCH 1 : ROWS 1 - 1000\n",
      " > INSERTED BATCH 2 : ROWS 1001 - 2000\n",
      " > INSERTED BATCH 3 : ROWS 2001 - 3000\n",
      " > INSERTED BATCH 4 : ROWS 3001 - 3114\n",
      "RETENTION SCORE INSERTS COMPLETED\n"
     ]
    }
   ],
   "source": [
    "cur = CONN.cursor()\n",
    "\n",
    "batch_size = 1000\n",
    "df_predictions_list = [\n",
    "    df_predictions[i:i + batch_size]\n",
    "    for i in range(0, df_predictions.shape[0], batch_size)\n",
    "]\n",
    "\n",
    "print(f\"INSERTING {len(df_predictions)} NEW RETENTION SCORES TO DATABASE: {DBNAME} ({LKUPCLIENTID})\")\n",
    "\n",
    "fields = f\"\"\"\n",
    "INSERT INTO {DBNAME}.dw.customerretentionscores (\n",
    "    attendancePercentage,\n",
    "    dimcustomermasterid,\n",
    "    scoredate,\n",
    "    lkupclientid,\n",
    "    mostrecentattendance,\n",
    "    product,\n",
    "    sascore,\n",
    "    seasonyear,\n",
    "    tenuredays\n",
    ") VALUES \"\"\"\n",
    "\n",
    "\n",
    "for i, df_prediction_batch in enumerate(df_predictions_list):\n",
    "\n",
    "    values_list = []\n",
    "    for index, row in (df_prediction_batch.iterrows()):\n",
    "        \n",
    "        #Hard coding score date to re-score historical dates\n",
    "        values = f\"\"\"\n",
    "            (\n",
    "                {str(row.attendancepercent)},\n",
    "                {str(row.dimcustomermasterid)},\n",
    "                '2022-10-05',\n",
    "                {str(row.lkupclientid)},\n",
    "                '{str(row.recentdate)}',\n",
    "                '{str(row.productgrouping)}',\n",
    "                {str(round((row.Score_1*100),4))},\n",
    "                {str(row.year)},\n",
    "                {str(row.source_tenure)}\n",
    "            )\"\"\"\n",
    "\n",
    "        values_list.append(values)\n",
    "\n",
    "    insert_statement = fields + \",\".join(values_list)+\";\"\n",
    "\n",
    "    cur.execute(insert_statement)\n",
    "    CONN.commit()\n",
    "\n",
    "    count = cur.rowcount\n",
    "        \n",
    "    print(f\" > INSERTED BATCH {i+1} : ROWS {i*batch_size + 1} - {i*batch_size + len(values_list)}\")\n",
    "\n",
    "print(\"RETENTION SCORE INSERTS COMPLETED\")"
   ]
  }
 ],
 "metadata": {
  "interpreter": {
   "hash": "89f48dadab51a6b5b48ffc1a9e043c21cefe67453637c3444f3b86917b8aad16"
  },
  "kernelspec": {
   "display_name": "Python 3.8.5 ('stellar')",
   "language": "python",
   "name": "python3"
  },
  "language_info": {
   "codemirror_mode": {
    "name": "ipython",
    "version": 3
   },
   "file_extension": ".py",
   "mimetype": "text/x-python",
   "name": "python",
   "nbconvert_exporter": "python",
   "pygments_lexer": "ipython3",
   "version": "3.8.13"
  }
 },
 "nbformat": 4,
 "nbformat_minor": 5
}
