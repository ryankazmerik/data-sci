{
 "cells": [
  {
   "cell_type": "markdown",
   "id": "9575d83e",
   "metadata": {},
   "source": [
    "# Florida Panthers - Feature Selection\n",
    "* StellarAlgo Data Science\n",
    "* Ryan Kazmerik & Nakisa Rad\n",
    "* October 8, 2021"
   ]
  },
  {
   "cell_type": "markdown",
   "id": "62d7c5a2",
   "metadata": {},
   "source": [
    "## Hypothesis\n",
    "Two very important components of a machine learning model are feature selection and feature engineering. Our idea is that adding some more features to the StellarAlgo retention model could improve performance of the model. This notebook will test the standard features used by the StellarAlgo retention model."
   ]
  },
  {
   "cell_type": "markdown",
   "id": "c46403a5",
   "metadata": {},
   "source": [
    "## Experiment\n",
    "This section details our experiment including querying data, data transformations, feature selection and modelling."
   ]
  },
  {
   "cell_type": "code",
   "execution_count": 1,
   "id": "df2be620",
   "metadata": {},
   "outputs": [],
   "source": [
    "import getpass\n",
    "import pyodbc\n",
    "import pandas as pd\n",
    "import warnings\n",
    "import matplotlib.pyplot as plt\n",
    "\n",
    "from pycaret.classification import *\n",
    "from ngboost import NGBClassifier\n",
    "\n",
    "warnings.filterwarnings('ignore')"
   ]
  },
  {
   "cell_type": "markdown",
   "id": "5872346a",
   "metadata": {},
   "source": [
    "### Let's connect to MSSQL and run a stored proc to get our dataset:"
   ]
  },
  {
   "cell_type": "code",
   "execution_count": 2,
   "id": "c060d5cf",
   "metadata": {},
   "outputs": [
    {
     "name": "stdin",
     "output_type": "stream",
     "text": [
      "Enter your password ··················\n"
     ]
    }
   ],
   "source": [
    "# connect to SQL Server.\n",
    "SERVER = '34.206.73.189' \n",
    "DATABASE = 'datascience' \n",
    "USERNAME = 'dsAdminWrite' \n",
    "PASSWORD = getpass.getpass(prompt='Enter your password')\n",
    "CNXN = pyodbc.connect('DRIVER={ODBC Driver 17 for SQL Server};SERVER='+SERVER+';DATABASE='+DATABASE+';UID='+USERNAME+';PWD='+ PASSWORD)"
   ]
  },
  {
   "cell_type": "code",
   "execution_count": 3,
   "id": "b9615e8a",
   "metadata": {},
   "outputs": [
    {
     "data": {
      "text/plain": [
       "(16334, 54)"
      ]
     },
     "execution_count": 3,
     "metadata": {},
     "output_type": "execute_result"
    }
   ],
   "source": [
    "lkupclientid = 93 # panthers\n",
    "\n",
    "cursor = CNXN.cursor()\n",
    "\n",
    "storedProc = (\n",
    "    f\"\"\"Exec [stlrNHLPanthers].[ds].[getRetentionScoringModelData] {lkupclientid}\"\"\"\n",
    ")\n",
    "\n",
    "df = pd.read_sql(storedProc, CNXN)\n",
    "\n",
    "CNXN.commit()\n",
    "cursor.close()\n",
    "\n",
    "df.shape"
   ]
  },
  {
   "cell_type": "markdown",
   "id": "11953aff-440c-4596-afc7-fa28cda1ce74",
   "metadata": {},
   "source": [
    "### In order to compare two sets of features, we need to create some datasets for training and evalution:"
   ]
  },
  {
   "cell_type": "code",
   "execution_count": 4,
   "id": "1c8bad91-cdc3-40a7-8915-93f3048bfa53",
   "metadata": {},
   "outputs": [
    {
     "name": "stdout",
     "output_type": "stream",
     "text": [
      "Data for Modeling: (13067, 13)\n",
      "Unseen Data For Predictions: (3267, 13)\n",
      "\n"
     ]
    }
   ],
   "source": [
    "# choose the features for the stellar base retention model\n",
    "features = [\n",
    "    \"dimCustomerMasterId\",\n",
    "    \"attendancePercent\",\n",
    "    \"distToVenue\",\n",
    "    \"isNextYear_Buyer\",\n",
    "    \"missed_games_1\",\n",
    "    \"missed_games_2\",\n",
    "    \"missed_games_over_2\",\n",
    "    \"productGrouping\",\n",
    "    \"recency\",\n",
    "    \"renewedBeforeDays\",\n",
    "    \"source_tenure\",\n",
    "    \"totalSpent\",\n",
    "    \"year\"\n",
    "]\n",
    "\n",
    "# select 90% of the data for training\n",
    "df_train = df.sample(frac=0.8, random_state=786).reset_index(drop=True)\n",
    "\n",
    "# create the eval datasets for A and B\n",
    "df_eval = df.drop(df_train.index).reset_index(drop=True)\n",
    "\n",
    "# choose features for each train dataset\n",
    "df_train = df_train[features]\n",
    "\n",
    "# choose features for each train dataset\n",
    "df_eval = df_eval[features]\n",
    "\n",
    "# print out the number of records for training and eval\n",
    "print('Data for Modeling: ' + str(df_train.shape))\n",
    "print('Unseen Data For Predictions: ' + str(df_eval.shape), end=\"\\n\\n\")"
   ]
  },
  {
   "cell_type": "markdown",
   "id": "9f34eb03-b49b-49e5-bce8-7caaa29c5dd7",
   "metadata": {},
   "source": [
    "### Now we can model the data using a binary classification prediction for the isnextyear_buyer field to see how likely a customer is to re-purchase."
   ]
  },
  {
   "cell_type": "code",
   "execution_count": 5,
   "id": "3eabb279-56dd-4dbf-b7da-77bd2aa7cafa",
   "metadata": {},
   "outputs": [],
   "source": [
    "setup(\n",
    "    data= df_train, \n",
    "    target=\"isNextYear_Buyer\", \n",
    "    train_size = 0.80,\n",
    "    data_split_shuffle=True,\n",
    "    ignore_features=[\"dimCustomerMasterId\",\"productGrouping\",\"year\"],\n",
    "    silent=True,\n",
    "    verbose=False,\n",
    "    numeric_features=[\n",
    "        \"attendancePercent\",\n",
    "        \"distToVenue\",\n",
    "        \"missed_games_1\",\n",
    "        \"missed_games_2\",\n",
    "        \"missed_games_over_2\",\n",
    "        \"recency\",\n",
    "        \"renewedBeforeDays\",\n",
    "        \"source_tenure\",\n",
    "        \"totalSpent\"\n",
    "    ]\n",
    ");"
   ]
  },
  {
   "cell_type": "markdown",
   "id": "12cf8c2d-dbbd-470d-b2c1-babd7fd10a15",
   "metadata": {},
   "source": [
    "### Let's add one extra model not included in the default pycaret algorithms (ngboost), then we can execute each model and see the performance metrics:"
   ]
  },
  {
   "cell_type": "code",
   "execution_count": 6,
   "id": "05742a70-860c-477f-bea9-516a0a87c508",
   "metadata": {},
   "outputs": [
    {
     "data": {
      "text/html": [
       "<style  type=\"text/css\" >\n",
       "    #T_a9cf2_ th {\n",
       "          text-align: left;\n",
       "    }#T_a9cf2_row0_col0,#T_a9cf2_row0_col3,#T_a9cf2_row0_col4,#T_a9cf2_row1_col0,#T_a9cf2_row1_col1,#T_a9cf2_row1_col2,#T_a9cf2_row1_col3,#T_a9cf2_row1_col5,#T_a9cf2_row1_col6,#T_a9cf2_row1_col7,#T_a9cf2_row2_col0,#T_a9cf2_row2_col1,#T_a9cf2_row2_col2,#T_a9cf2_row2_col3,#T_a9cf2_row2_col4,#T_a9cf2_row2_col5,#T_a9cf2_row2_col6,#T_a9cf2_row2_col7,#T_a9cf2_row3_col0,#T_a9cf2_row3_col1,#T_a9cf2_row3_col2,#T_a9cf2_row3_col3,#T_a9cf2_row3_col4,#T_a9cf2_row3_col5,#T_a9cf2_row3_col6,#T_a9cf2_row3_col7,#T_a9cf2_row4_col0,#T_a9cf2_row4_col1,#T_a9cf2_row4_col2,#T_a9cf2_row4_col3,#T_a9cf2_row4_col4,#T_a9cf2_row4_col5,#T_a9cf2_row4_col6,#T_a9cf2_row4_col7,#T_a9cf2_row5_col0,#T_a9cf2_row5_col1,#T_a9cf2_row5_col2,#T_a9cf2_row5_col3,#T_a9cf2_row5_col4,#T_a9cf2_row5_col5,#T_a9cf2_row5_col6,#T_a9cf2_row5_col7,#T_a9cf2_row6_col0,#T_a9cf2_row6_col1,#T_a9cf2_row6_col2,#T_a9cf2_row6_col3,#T_a9cf2_row6_col4,#T_a9cf2_row6_col5,#T_a9cf2_row6_col6,#T_a9cf2_row6_col7,#T_a9cf2_row7_col0,#T_a9cf2_row7_col1,#T_a9cf2_row7_col2,#T_a9cf2_row7_col3,#T_a9cf2_row7_col4,#T_a9cf2_row7_col5,#T_a9cf2_row7_col6,#T_a9cf2_row7_col7,#T_a9cf2_row8_col0,#T_a9cf2_row8_col1,#T_a9cf2_row8_col2,#T_a9cf2_row8_col3,#T_a9cf2_row8_col4,#T_a9cf2_row8_col5,#T_a9cf2_row8_col6,#T_a9cf2_row8_col7,#T_a9cf2_row9_col0,#T_a9cf2_row9_col1,#T_a9cf2_row9_col2,#T_a9cf2_row9_col3,#T_a9cf2_row9_col4,#T_a9cf2_row9_col5,#T_a9cf2_row9_col6,#T_a9cf2_row9_col7,#T_a9cf2_row10_col0,#T_a9cf2_row10_col1,#T_a9cf2_row10_col2,#T_a9cf2_row10_col4,#T_a9cf2_row10_col5,#T_a9cf2_row10_col6,#T_a9cf2_row10_col7,#T_a9cf2_row11_col0,#T_a9cf2_row11_col1,#T_a9cf2_row11_col2,#T_a9cf2_row11_col3,#T_a9cf2_row11_col4,#T_a9cf2_row11_col5,#T_a9cf2_row11_col6,#T_a9cf2_row11_col7{\n",
       "            text-align:  left;\n",
       "            text-align:  left;\n",
       "        }#T_a9cf2_row0_col1,#T_a9cf2_row0_col2,#T_a9cf2_row0_col5,#T_a9cf2_row0_col6,#T_a9cf2_row0_col7,#T_a9cf2_row1_col4,#T_a9cf2_row10_col3{\n",
       "            text-align:  left;\n",
       "            text-align:  left;\n",
       "            background-color:  yellow;\n",
       "        }#T_a9cf2_row0_col8,#T_a9cf2_row1_col8,#T_a9cf2_row2_col8,#T_a9cf2_row3_col8,#T_a9cf2_row4_col8,#T_a9cf2_row5_col8,#T_a9cf2_row6_col8,#T_a9cf2_row8_col8,#T_a9cf2_row10_col8,#T_a9cf2_row11_col8{\n",
       "            text-align:  left;\n",
       "            text-align:  left;\n",
       "            background-color:  lightgrey;\n",
       "        }#T_a9cf2_row7_col8,#T_a9cf2_row9_col8{\n",
       "            text-align:  left;\n",
       "            text-align:  left;\n",
       "            background-color:  yellow;\n",
       "            background-color:  lightgrey;\n",
       "        }</style><table id=\"T_a9cf2_\" ><thead>    <tr>        <th class=\"blank level0\" ></th>        <th class=\"col_heading level0 col0\" >Model</th>        <th class=\"col_heading level0 col1\" >Accuracy</th>        <th class=\"col_heading level0 col2\" >AUC</th>        <th class=\"col_heading level0 col3\" >Recall</th>        <th class=\"col_heading level0 col4\" >Prec.</th>        <th class=\"col_heading level0 col5\" >F1</th>        <th class=\"col_heading level0 col6\" >Kappa</th>        <th class=\"col_heading level0 col7\" >MCC</th>        <th class=\"col_heading level0 col8\" >TT (Sec)</th>    </tr></thead><tbody>\n",
       "                <tr>\n",
       "                        <th id=\"T_a9cf2_level0_row0\" class=\"row_heading level0 row0\" >lightgbm</th>\n",
       "                        <td id=\"T_a9cf2_row0_col0\" class=\"data row0 col0\" >Light Gradient Boosting Machine</td>\n",
       "                        <td id=\"T_a9cf2_row0_col1\" class=\"data row0 col1\" >0.7414</td>\n",
       "                        <td id=\"T_a9cf2_row0_col2\" class=\"data row0 col2\" >0.8174</td>\n",
       "                        <td id=\"T_a9cf2_row0_col3\" class=\"data row0 col3\" >0.7814</td>\n",
       "                        <td id=\"T_a9cf2_row0_col4\" class=\"data row0 col4\" >0.7301</td>\n",
       "                        <td id=\"T_a9cf2_row0_col5\" class=\"data row0 col5\" >0.7548</td>\n",
       "                        <td id=\"T_a9cf2_row0_col6\" class=\"data row0 col6\" >0.4819</td>\n",
       "                        <td id=\"T_a9cf2_row0_col7\" class=\"data row0 col7\" >0.4834</td>\n",
       "                        <td id=\"T_a9cf2_row0_col8\" class=\"data row0 col8\" >0.6180</td>\n",
       "            </tr>\n",
       "            <tr>\n",
       "                        <th id=\"T_a9cf2_level0_row1\" class=\"row_heading level0 row1\" >xgboost</th>\n",
       "                        <td id=\"T_a9cf2_row1_col0\" class=\"data row1 col0\" >Extreme Gradient Boosting</td>\n",
       "                        <td id=\"T_a9cf2_row1_col1\" class=\"data row1 col1\" >0.7378</td>\n",
       "                        <td id=\"T_a9cf2_row1_col2\" class=\"data row1 col2\" >0.8143</td>\n",
       "                        <td id=\"T_a9cf2_row1_col3\" class=\"data row1 col3\" >0.7662</td>\n",
       "                        <td id=\"T_a9cf2_row1_col4\" class=\"data row1 col4\" >0.7317</td>\n",
       "                        <td id=\"T_a9cf2_row1_col5\" class=\"data row1 col5\" >0.7484</td>\n",
       "                        <td id=\"T_a9cf2_row1_col6\" class=\"data row1 col6\" >0.4749</td>\n",
       "                        <td id=\"T_a9cf2_row1_col7\" class=\"data row1 col7\" >0.4757</td>\n",
       "                        <td id=\"T_a9cf2_row1_col8\" class=\"data row1 col8\" >0.3680</td>\n",
       "            </tr>\n",
       "            <tr>\n",
       "                        <th id=\"T_a9cf2_level0_row2\" class=\"row_heading level0 row2\" >rf</th>\n",
       "                        <td id=\"T_a9cf2_row2_col0\" class=\"data row2 col0\" >Random Forest Classifier</td>\n",
       "                        <td id=\"T_a9cf2_row2_col1\" class=\"data row2 col1\" >0.7262</td>\n",
       "                        <td id=\"T_a9cf2_row2_col2\" class=\"data row2 col2\" >0.7956</td>\n",
       "                        <td id=\"T_a9cf2_row2_col3\" class=\"data row2 col3\" >0.7589</td>\n",
       "                        <td id=\"T_a9cf2_row2_col4\" class=\"data row2 col4\" >0.7193</td>\n",
       "                        <td id=\"T_a9cf2_row2_col5\" class=\"data row2 col5\" >0.7384</td>\n",
       "                        <td id=\"T_a9cf2_row2_col6\" class=\"data row2 col6\" >0.4516</td>\n",
       "                        <td id=\"T_a9cf2_row2_col7\" class=\"data row2 col7\" >0.4526</td>\n",
       "                        <td id=\"T_a9cf2_row2_col8\" class=\"data row2 col8\" >0.1940</td>\n",
       "            </tr>\n",
       "            <tr>\n",
       "                        <th id=\"T_a9cf2_level0_row3\" class=\"row_heading level0 row3\" >gbc</th>\n",
       "                        <td id=\"T_a9cf2_row3_col0\" class=\"data row3 col0\" >Gradient Boosting Classifier</td>\n",
       "                        <td id=\"T_a9cf2_row3_col1\" class=\"data row3 col1\" >0.7208</td>\n",
       "                        <td id=\"T_a9cf2_row3_col2\" class=\"data row3 col2\" >0.7941</td>\n",
       "                        <td id=\"T_a9cf2_row3_col3\" class=\"data row3 col3\" >0.7777</td>\n",
       "                        <td id=\"T_a9cf2_row3_col4\" class=\"data row3 col4\" >0.7048</td>\n",
       "                        <td id=\"T_a9cf2_row3_col5\" class=\"data row3 col5\" >0.7393</td>\n",
       "                        <td id=\"T_a9cf2_row3_col6\" class=\"data row3 col6\" >0.4404</td>\n",
       "                        <td id=\"T_a9cf2_row3_col7\" class=\"data row3 col7\" >0.4431</td>\n",
       "                        <td id=\"T_a9cf2_row3_col8\" class=\"data row3 col8\" >0.1070</td>\n",
       "            </tr>\n",
       "            <tr>\n",
       "                        <th id=\"T_a9cf2_level0_row4\" class=\"row_heading level0 row4\" >et</th>\n",
       "                        <td id=\"T_a9cf2_row4_col0\" class=\"data row4 col0\" >Extra Trees Classifier</td>\n",
       "                        <td id=\"T_a9cf2_row4_col1\" class=\"data row4 col1\" >0.7016</td>\n",
       "                        <td id=\"T_a9cf2_row4_col2\" class=\"data row4 col2\" >0.7682</td>\n",
       "                        <td id=\"T_a9cf2_row4_col3\" class=\"data row4 col3\" >0.7345</td>\n",
       "                        <td id=\"T_a9cf2_row4_col4\" class=\"data row4 col4\" >0.6965</td>\n",
       "                        <td id=\"T_a9cf2_row4_col5\" class=\"data row4 col5\" >0.7149</td>\n",
       "                        <td id=\"T_a9cf2_row4_col6\" class=\"data row4 col6\" >0.4024</td>\n",
       "                        <td id=\"T_a9cf2_row4_col7\" class=\"data row4 col7\" >0.4031</td>\n",
       "                        <td id=\"T_a9cf2_row4_col8\" class=\"data row4 col8\" >0.1770</td>\n",
       "            </tr>\n",
       "            <tr>\n",
       "                        <th id=\"T_a9cf2_level0_row5\" class=\"row_heading level0 row5\" >ada</th>\n",
       "                        <td id=\"T_a9cf2_row5_col0\" class=\"data row5 col0\" >Ada Boost Classifier</td>\n",
       "                        <td id=\"T_a9cf2_row5_col1\" class=\"data row5 col1\" >0.6953</td>\n",
       "                        <td id=\"T_a9cf2_row5_col2\" class=\"data row5 col2\" >0.7663</td>\n",
       "                        <td id=\"T_a9cf2_row5_col3\" class=\"data row5 col3\" >0.7570</td>\n",
       "                        <td id=\"T_a9cf2_row5_col4\" class=\"data row5 col4\" >0.6807</td>\n",
       "                        <td id=\"T_a9cf2_row5_col5\" class=\"data row5 col5\" >0.7167</td>\n",
       "                        <td id=\"T_a9cf2_row5_col6\" class=\"data row5 col6\" >0.3891</td>\n",
       "                        <td id=\"T_a9cf2_row5_col7\" class=\"data row5 col7\" >0.3920</td>\n",
       "                        <td id=\"T_a9cf2_row5_col8\" class=\"data row5 col8\" >0.0430</td>\n",
       "            </tr>\n",
       "            <tr>\n",
       "                        <th id=\"T_a9cf2_level0_row6\" class=\"row_heading level0 row6\" >dt</th>\n",
       "                        <td id=\"T_a9cf2_row6_col0\" class=\"data row6 col0\" >Decision Tree Classifier</td>\n",
       "                        <td id=\"T_a9cf2_row6_col1\" class=\"data row6 col1\" >0.6515</td>\n",
       "                        <td id=\"T_a9cf2_row6_col2\" class=\"data row6 col2\" >0.6515</td>\n",
       "                        <td id=\"T_a9cf2_row6_col3\" class=\"data row6 col3\" >0.6595</td>\n",
       "                        <td id=\"T_a9cf2_row6_col4\" class=\"data row6 col4\" >0.6578</td>\n",
       "                        <td id=\"T_a9cf2_row6_col5\" class=\"data row6 col5\" >0.6583</td>\n",
       "                        <td id=\"T_a9cf2_row6_col6\" class=\"data row6 col6\" >0.3027</td>\n",
       "                        <td id=\"T_a9cf2_row6_col7\" class=\"data row6 col7\" >0.3030</td>\n",
       "                        <td id=\"T_a9cf2_row6_col8\" class=\"data row6 col8\" >0.0110</td>\n",
       "            </tr>\n",
       "            <tr>\n",
       "                        <th id=\"T_a9cf2_level0_row7\" class=\"row_heading level0 row7\" >ridge</th>\n",
       "                        <td id=\"T_a9cf2_row7_col0\" class=\"data row7 col0\" >Ridge Classifier</td>\n",
       "                        <td id=\"T_a9cf2_row7_col1\" class=\"data row7 col1\" >0.6459</td>\n",
       "                        <td id=\"T_a9cf2_row7_col2\" class=\"data row7 col2\" >0.0000</td>\n",
       "                        <td id=\"T_a9cf2_row7_col3\" class=\"data row7 col3\" >0.6317</td>\n",
       "                        <td id=\"T_a9cf2_row7_col4\" class=\"data row7 col4\" >0.6590</td>\n",
       "                        <td id=\"T_a9cf2_row7_col5\" class=\"data row7 col5\" >0.6449</td>\n",
       "                        <td id=\"T_a9cf2_row7_col6\" class=\"data row7 col6\" >0.2922</td>\n",
       "                        <td id=\"T_a9cf2_row7_col7\" class=\"data row7 col7\" >0.2926</td>\n",
       "                        <td id=\"T_a9cf2_row7_col8\" class=\"data row7 col8\" >0.0060</td>\n",
       "            </tr>\n",
       "            <tr>\n",
       "                        <th id=\"T_a9cf2_level0_row8\" class=\"row_heading level0 row8\" >knn</th>\n",
       "                        <td id=\"T_a9cf2_row8_col0\" class=\"data row8 col0\" >K Neighbors Classifier</td>\n",
       "                        <td id=\"T_a9cf2_row8_col1\" class=\"data row8 col1\" >0.6237</td>\n",
       "                        <td id=\"T_a9cf2_row8_col2\" class=\"data row8 col2\" >0.6663</td>\n",
       "                        <td id=\"T_a9cf2_row8_col3\" class=\"data row8 col3\" >0.6550</td>\n",
       "                        <td id=\"T_a9cf2_row8_col4\" class=\"data row8 col4\" >0.6248</td>\n",
       "                        <td id=\"T_a9cf2_row8_col5\" class=\"data row8 col5\" >0.6395</td>\n",
       "                        <td id=\"T_a9cf2_row8_col6\" class=\"data row8 col6\" >0.2465</td>\n",
       "                        <td id=\"T_a9cf2_row8_col7\" class=\"data row8 col7\" >0.2469</td>\n",
       "                        <td id=\"T_a9cf2_row8_col8\" class=\"data row8 col8\" >0.0320</td>\n",
       "            </tr>\n",
       "            <tr>\n",
       "                        <th id=\"T_a9cf2_level0_row9\" class=\"row_heading level0 row9\" >nb</th>\n",
       "                        <td id=\"T_a9cf2_row9_col0\" class=\"data row9 col0\" >Naive Bayes</td>\n",
       "                        <td id=\"T_a9cf2_row9_col1\" class=\"data row9 col1\" >0.5995</td>\n",
       "                        <td id=\"T_a9cf2_row9_col2\" class=\"data row9 col2\" >0.6917</td>\n",
       "                        <td id=\"T_a9cf2_row9_col3\" class=\"data row9 col3\" >0.3425</td>\n",
       "                        <td id=\"T_a9cf2_row9_col4\" class=\"data row9 col4\" >0.7264</td>\n",
       "                        <td id=\"T_a9cf2_row9_col5\" class=\"data row9 col5\" >0.4644</td>\n",
       "                        <td id=\"T_a9cf2_row9_col6\" class=\"data row9 col6\" >0.2069</td>\n",
       "                        <td id=\"T_a9cf2_row9_col7\" class=\"data row9 col7\" >0.2443</td>\n",
       "                        <td id=\"T_a9cf2_row9_col8\" class=\"data row9 col8\" >0.0060</td>\n",
       "            </tr>\n",
       "            <tr>\n",
       "                        <th id=\"T_a9cf2_level0_row10\" class=\"row_heading level0 row10\" >lr</th>\n",
       "                        <td id=\"T_a9cf2_row10_col0\" class=\"data row10 col0\" >Logistic Regression</td>\n",
       "                        <td id=\"T_a9cf2_row10_col1\" class=\"data row10 col1\" >0.5611</td>\n",
       "                        <td id=\"T_a9cf2_row10_col2\" class=\"data row10 col2\" >0.6455</td>\n",
       "                        <td id=\"T_a9cf2_row10_col3\" class=\"data row10 col3\" >0.9102</td>\n",
       "                        <td id=\"T_a9cf2_row10_col4\" class=\"data row10 col4\" >0.5491</td>\n",
       "                        <td id=\"T_a9cf2_row10_col5\" class=\"data row10 col5\" >0.6784</td>\n",
       "                        <td id=\"T_a9cf2_row10_col6\" class=\"data row10 col6\" >0.1095</td>\n",
       "                        <td id=\"T_a9cf2_row10_col7\" class=\"data row10 col7\" >0.1584</td>\n",
       "                        <td id=\"T_a9cf2_row10_col8\" class=\"data row10 col8\" >0.1440</td>\n",
       "            </tr>\n",
       "            <tr>\n",
       "                        <th id=\"T_a9cf2_level0_row11\" class=\"row_heading level0 row11\" >svm</th>\n",
       "                        <td id=\"T_a9cf2_row11_col0\" class=\"data row11 col0\" >SVM - Linear Kernel</td>\n",
       "                        <td id=\"T_a9cf2_row11_col1\" class=\"data row11 col1\" >0.5026</td>\n",
       "                        <td id=\"T_a9cf2_row11_col2\" class=\"data row11 col2\" >0.0000</td>\n",
       "                        <td id=\"T_a9cf2_row11_col3\" class=\"data row11 col3\" >0.4396</td>\n",
       "                        <td id=\"T_a9cf2_row11_col4\" class=\"data row11 col4\" >0.3586</td>\n",
       "                        <td id=\"T_a9cf2_row11_col5\" class=\"data row11 col5\" >0.3777</td>\n",
       "                        <td id=\"T_a9cf2_row11_col6\" class=\"data row11 col6\" >0.0080</td>\n",
       "                        <td id=\"T_a9cf2_row11_col7\" class=\"data row11 col7\" >0.0094</td>\n",
       "                        <td id=\"T_a9cf2_row11_col8\" class=\"data row11 col8\" >0.0080</td>\n",
       "            </tr>\n",
       "    </tbody></table>"
      ],
      "text/plain": [
       "<pandas.io.formats.style.Styler at 0x7fa5295fba50>"
      ]
     },
     "metadata": {},
     "output_type": "display_data"
    },
    {
     "name": "stdout",
     "output_type": "stream",
     "text": [
      "[iter 0] loss=0.6930 val_loss=0.0000 scale=2.0000 norm=4.0000\n",
      "[iter 100] loss=0.5984 val_loss=0.0000 scale=2.0000 norm=3.7591\n",
      "[iter 200] loss=0.5748 val_loss=0.0000 scale=2.0000 norm=3.7556\n",
      "[iter 300] loss=0.5632 val_loss=0.0000 scale=2.0000 norm=3.7604\n",
      "[iter 400] loss=0.5550 val_loss=0.0000 scale=1.0000 norm=1.8806\n"
     ]
    },
    {
     "name": "stderr",
     "output_type": "stream",
     "text": [
      "/opt/miniconda3/envs/stellar/lib/python3.7/site-packages/sklearn/utils/deprecation.py:101: FutureWarning: Attribute standard_coef_ was deprecated in version 0.23 and will be removed in 0.25.\n",
      "  warnings.warn(msg, category=FutureWarning)\n",
      "/opt/miniconda3/envs/stellar/lib/python3.7/site-packages/sklearn/utils/deprecation.py:101: FutureWarning: Attribute standard_intercept_ was deprecated in version 0.23 and will be removed in 0.25.\n",
      "  warnings.warn(msg, category=FutureWarning)\n",
      "/opt/miniconda3/envs/stellar/lib/python3.7/site-packages/sklearn/utils/deprecation.py:101: FutureWarning: Attribute average_coef_ was deprecated in version 0.23 and will be removed in 0.25.\n",
      "  warnings.warn(msg, category=FutureWarning)\n",
      "/opt/miniconda3/envs/stellar/lib/python3.7/site-packages/sklearn/utils/deprecation.py:101: FutureWarning: Attribute average_intercept_ was deprecated in version 0.23 and will be removed in 0.25.\n",
      "  warnings.warn(msg, category=FutureWarning)\n",
      "/opt/miniconda3/envs/stellar/lib/python3.7/site-packages/sklearn/utils/deprecation.py:101: FutureWarning: Attribute standard_coef_ was deprecated in version 0.23 and will be removed in 0.25.\n",
      "  warnings.warn(msg, category=FutureWarning)\n",
      "/opt/miniconda3/envs/stellar/lib/python3.7/site-packages/sklearn/utils/deprecation.py:101: FutureWarning: Attribute standard_intercept_ was deprecated in version 0.23 and will be removed in 0.25.\n",
      "  warnings.warn(msg, category=FutureWarning)\n",
      "/opt/miniconda3/envs/stellar/lib/python3.7/site-packages/sklearn/utils/deprecation.py:101: FutureWarning: Attribute average_coef_ was deprecated in version 0.23 and will be removed in 0.25.\n",
      "  warnings.warn(msg, category=FutureWarning)\n",
      "/opt/miniconda3/envs/stellar/lib/python3.7/site-packages/sklearn/utils/deprecation.py:101: FutureWarning: Attribute average_intercept_ was deprecated in version 0.23 and will be removed in 0.25.\n",
      "  warnings.warn(msg, category=FutureWarning)\n",
      "/opt/miniconda3/envs/stellar/lib/python3.7/site-packages/sklearn/linear_model/_ridge.py:148: LinAlgWarning: Ill-conditioned matrix (rcond=3.43504e-11): result may not be accurate.\n",
      "  overwrite_a=True).T\n",
      "/opt/miniconda3/envs/stellar/lib/python3.7/site-packages/sklearn/linear_model/_ridge.py:148: LinAlgWarning: Ill-conditioned matrix (rcond=3.43794e-11): result may not be accurate.\n",
      "  overwrite_a=True).T\n",
      "/opt/miniconda3/envs/stellar/lib/python3.7/site-packages/xgboost/sklearn.py:1146: UserWarning: The use of label encoder in XGBClassifier is deprecated and will be removed in a future release. To remove this warning, do the following: 1) Pass option use_label_encoder=False when constructing XGBClassifier object; and 2) Encode your labels (y) as integers starting with 0, i.e. 0, 1, 2, ..., [num_class - 1].\n",
      "  warnings.warn(label_encoder_deprecation_msg, UserWarning)\n"
     ]
    },
    {
     "name": "stdout",
     "output_type": "stream",
     "text": [
      "[iter 0] loss=0.6930 val_loss=0.0000 scale=2.0000 norm=4.0000\n",
      "[iter 100] loss=0.5974 val_loss=0.0000 scale=2.0000 norm=3.7552\n",
      "[iter 200] loss=0.5727 val_loss=0.0000 scale=2.0000 norm=3.7501\n",
      "[iter 300] loss=0.5598 val_loss=0.0000 scale=2.0000 norm=3.7518\n",
      "[iter 400] loss=0.5522 val_loss=0.0000 scale=1.0000 norm=1.8779\n"
     ]
    },
    {
     "name": "stderr",
     "output_type": "stream",
     "text": [
      "/opt/miniconda3/envs/stellar/lib/python3.7/site-packages/sklearn/utils/deprecation.py:101: FutureWarning: Attribute standard_coef_ was deprecated in version 0.23 and will be removed in 0.25.\n",
      "  warnings.warn(msg, category=FutureWarning)\n",
      "/opt/miniconda3/envs/stellar/lib/python3.7/site-packages/sklearn/utils/deprecation.py:101: FutureWarning: Attribute standard_intercept_ was deprecated in version 0.23 and will be removed in 0.25.\n",
      "  warnings.warn(msg, category=FutureWarning)\n",
      "/opt/miniconda3/envs/stellar/lib/python3.7/site-packages/sklearn/utils/deprecation.py:101: FutureWarning: Attribute average_coef_ was deprecated in version 0.23 and will be removed in 0.25.\n",
      "  warnings.warn(msg, category=FutureWarning)\n",
      "/opt/miniconda3/envs/stellar/lib/python3.7/site-packages/sklearn/utils/deprecation.py:101: FutureWarning: Attribute average_intercept_ was deprecated in version 0.23 and will be removed in 0.25.\n",
      "  warnings.warn(msg, category=FutureWarning)\n",
      "/opt/miniconda3/envs/stellar/lib/python3.7/site-packages/sklearn/linear_model/_ridge.py:148: LinAlgWarning: Ill-conditioned matrix (rcond=3.0482e-11): result may not be accurate.\n",
      "  overwrite_a=True).T\n",
      "/opt/miniconda3/envs/stellar/lib/python3.7/site-packages/xgboost/sklearn.py:1146: UserWarning: The use of label encoder in XGBClassifier is deprecated and will be removed in a future release. To remove this warning, do the following: 1) Pass option use_label_encoder=False when constructing XGBClassifier object; and 2) Encode your labels (y) as integers starting with 0, i.e. 0, 1, 2, ..., [num_class - 1].\n",
      "  warnings.warn(label_encoder_deprecation_msg, UserWarning)\n"
     ]
    },
    {
     "name": "stdout",
     "output_type": "stream",
     "text": [
      "[iter 0] loss=0.6930 val_loss=0.0000 scale=2.0000 norm=4.0000\n",
      "[iter 100] loss=0.5949 val_loss=0.0000 scale=2.0000 norm=3.7435\n",
      "[iter 200] loss=0.5727 val_loss=0.0000 scale=2.0000 norm=3.7518\n",
      "[iter 300] loss=0.5638 val_loss=0.0000 scale=1.0000 norm=1.8816\n",
      "[iter 400] loss=0.5573 val_loss=0.0000 scale=1.0000 norm=1.8833\n"
     ]
    },
    {
     "name": "stderr",
     "output_type": "stream",
     "text": [
      "/opt/miniconda3/envs/stellar/lib/python3.7/site-packages/sklearn/utils/deprecation.py:101: FutureWarning: Attribute standard_coef_ was deprecated in version 0.23 and will be removed in 0.25.\n",
      "  warnings.warn(msg, category=FutureWarning)\n",
      "/opt/miniconda3/envs/stellar/lib/python3.7/site-packages/sklearn/utils/deprecation.py:101: FutureWarning: Attribute standard_intercept_ was deprecated in version 0.23 and will be removed in 0.25.\n",
      "  warnings.warn(msg, category=FutureWarning)\n",
      "/opt/miniconda3/envs/stellar/lib/python3.7/site-packages/sklearn/utils/deprecation.py:101: FutureWarning: Attribute average_coef_ was deprecated in version 0.23 and will be removed in 0.25.\n",
      "  warnings.warn(msg, category=FutureWarning)\n",
      "/opt/miniconda3/envs/stellar/lib/python3.7/site-packages/sklearn/utils/deprecation.py:101: FutureWarning: Attribute average_intercept_ was deprecated in version 0.23 and will be removed in 0.25.\n",
      "  warnings.warn(msg, category=FutureWarning)\n"
     ]
    },
    {
     "name": "stdout",
     "output_type": "stream",
     "text": [
      "[iter 0] loss=0.6930 val_loss=0.0000 scale=2.0000 norm=4.0000\n",
      "[iter 100] loss=0.5982 val_loss=0.0000 scale=2.0000 norm=3.7598\n",
      "[iter 200] loss=0.5754 val_loss=0.0000 scale=2.0000 norm=3.7603\n",
      "[iter 300] loss=0.5626 val_loss=0.0000 scale=1.0000 norm=1.8798\n",
      "[iter 400] loss=0.5551 val_loss=0.0000 scale=1.0000 norm=1.8805\n"
     ]
    },
    {
     "name": "stderr",
     "output_type": "stream",
     "text": [
      "/opt/miniconda3/envs/stellar/lib/python3.7/site-packages/sklearn/utils/deprecation.py:101: FutureWarning: Attribute standard_coef_ was deprecated in version 0.23 and will be removed in 0.25.\n",
      "  warnings.warn(msg, category=FutureWarning)\n",
      "/opt/miniconda3/envs/stellar/lib/python3.7/site-packages/sklearn/utils/deprecation.py:101: FutureWarning: Attribute standard_intercept_ was deprecated in version 0.23 and will be removed in 0.25.\n",
      "  warnings.warn(msg, category=FutureWarning)\n",
      "/opt/miniconda3/envs/stellar/lib/python3.7/site-packages/sklearn/utils/deprecation.py:101: FutureWarning: Attribute average_coef_ was deprecated in version 0.23 and will be removed in 0.25.\n",
      "  warnings.warn(msg, category=FutureWarning)\n",
      "/opt/miniconda3/envs/stellar/lib/python3.7/site-packages/sklearn/utils/deprecation.py:101: FutureWarning: Attribute average_intercept_ was deprecated in version 0.23 and will be removed in 0.25.\n",
      "  warnings.warn(msg, category=FutureWarning)\n",
      "/opt/miniconda3/envs/stellar/lib/python3.7/site-packages/sklearn/linear_model/_ridge.py:148: LinAlgWarning: Ill-conditioned matrix (rcond=3.03648e-11): result may not be accurate.\n",
      "  overwrite_a=True).T\n",
      "/opt/miniconda3/envs/stellar/lib/python3.7/site-packages/sklearn/linear_model/_ridge.py:148: LinAlgWarning: Ill-conditioned matrix (rcond=3.7394e-11): result may not be accurate.\n",
      "  overwrite_a=True).T\n"
     ]
    },
    {
     "name": "stdout",
     "output_type": "stream",
     "text": [
      "[iter 0] loss=0.6930 val_loss=0.0000 scale=2.0000 norm=4.0000\n",
      "[iter 100] loss=0.5954 val_loss=0.0000 scale=2.0000 norm=3.7503\n",
      "[iter 200] loss=0.5706 val_loss=0.0000 scale=2.0000 norm=3.7506\n",
      "[iter 300] loss=0.5576 val_loss=0.0000 scale=2.0000 norm=3.7534\n",
      "[iter 400] loss=0.5509 val_loss=0.0000 scale=2.0000 norm=3.7585\n"
     ]
    },
    {
     "name": "stderr",
     "output_type": "stream",
     "text": [
      "/opt/miniconda3/envs/stellar/lib/python3.7/site-packages/xgboost/sklearn.py:1146: UserWarning: The use of label encoder in XGBClassifier is deprecated and will be removed in a future release. To remove this warning, do the following: 1) Pass option use_label_encoder=False when constructing XGBClassifier object; and 2) Encode your labels (y) as integers starting with 0, i.e. 0, 1, 2, ..., [num_class - 1].\n",
      "  warnings.warn(label_encoder_deprecation_msg, UserWarning)\n",
      "/opt/miniconda3/envs/stellar/lib/python3.7/site-packages/sklearn/utils/deprecation.py:101: FutureWarning: Attribute standard_coef_ was deprecated in version 0.23 and will be removed in 0.25.\n",
      "  warnings.warn(msg, category=FutureWarning)\n",
      "/opt/miniconda3/envs/stellar/lib/python3.7/site-packages/sklearn/utils/deprecation.py:101: FutureWarning: Attribute standard_intercept_ was deprecated in version 0.23 and will be removed in 0.25.\n",
      "  warnings.warn(msg, category=FutureWarning)\n",
      "/opt/miniconda3/envs/stellar/lib/python3.7/site-packages/sklearn/utils/deprecation.py:101: FutureWarning: Attribute average_coef_ was deprecated in version 0.23 and will be removed in 0.25.\n",
      "  warnings.warn(msg, category=FutureWarning)\n",
      "/opt/miniconda3/envs/stellar/lib/python3.7/site-packages/sklearn/utils/deprecation.py:101: FutureWarning: Attribute average_intercept_ was deprecated in version 0.23 and will be removed in 0.25.\n",
      "  warnings.warn(msg, category=FutureWarning)\n",
      "/opt/miniconda3/envs/stellar/lib/python3.7/site-packages/sklearn/metrics/_classification.py:1221: UndefinedMetricWarning: Precision is ill-defined and being set to 0.0 due to no predicted samples. Use `zero_division` parameter to control this behavior.\n",
      "  _warn_prf(average, modifier, msg_start, len(result))\n",
      "/opt/miniconda3/envs/stellar/lib/python3.7/site-packages/sklearn/metrics/_classification.py:846: RuntimeWarning: invalid value encountered in double_scalars\n",
      "  mcc = cov_ytyp / np.sqrt(cov_ytyt * cov_ypyp)\n",
      "/opt/miniconda3/envs/stellar/lib/python3.7/site-packages/sklearn/linear_model/_ridge.py:148: LinAlgWarning: Ill-conditioned matrix (rcond=3.04308e-11): result may not be accurate.\n",
      "  overwrite_a=True).T\n",
      "/opt/miniconda3/envs/stellar/lib/python3.7/site-packages/xgboost/sklearn.py:1146: UserWarning: The use of label encoder in XGBClassifier is deprecated and will be removed in a future release. To remove this warning, do the following: 1) Pass option use_label_encoder=False when constructing XGBClassifier object; and 2) Encode your labels (y) as integers starting with 0, i.e. 0, 1, 2, ..., [num_class - 1].\n",
      "  warnings.warn(label_encoder_deprecation_msg, UserWarning)\n"
     ]
    },
    {
     "name": "stdout",
     "output_type": "stream",
     "text": [
      "[iter 0] loss=0.6930 val_loss=0.0000 scale=2.0000 norm=4.0000\n",
      "[iter 100] loss=0.5978 val_loss=0.0000 scale=2.0000 norm=3.7562\n",
      "[iter 200] loss=0.5752 val_loss=0.0000 scale=2.0000 norm=3.7598\n",
      "[iter 300] loss=0.5627 val_loss=0.0000 scale=1.0000 norm=1.8802\n",
      "[iter 400] loss=0.5554 val_loss=0.0000 scale=2.0000 norm=3.7637\n"
     ]
    },
    {
     "name": "stderr",
     "output_type": "stream",
     "text": [
      "/opt/miniconda3/envs/stellar/lib/python3.7/site-packages/xgboost/sklearn.py:1146: UserWarning: The use of label encoder in XGBClassifier is deprecated and will be removed in a future release. To remove this warning, do the following: 1) Pass option use_label_encoder=False when constructing XGBClassifier object; and 2) Encode your labels (y) as integers starting with 0, i.e. 0, 1, 2, ..., [num_class - 1].\n",
      "  warnings.warn(label_encoder_deprecation_msg, UserWarning)\n",
      "/opt/miniconda3/envs/stellar/lib/python3.7/site-packages/xgboost/sklearn.py:1146: UserWarning: The use of label encoder in XGBClassifier is deprecated and will be removed in a future release. To remove this warning, do the following: 1) Pass option use_label_encoder=False when constructing XGBClassifier object; and 2) Encode your labels (y) as integers starting with 0, i.e. 0, 1, 2, ..., [num_class - 1].\n",
      "  warnings.warn(label_encoder_deprecation_msg, UserWarning)\n",
      "/opt/miniconda3/envs/stellar/lib/python3.7/site-packages/xgboost/sklearn.py:1146: UserWarning: The use of label encoder in XGBClassifier is deprecated and will be removed in a future release. To remove this warning, do the following: 1) Pass option use_label_encoder=False when constructing XGBClassifier object; and 2) Encode your labels (y) as integers starting with 0, i.e. 0, 1, 2, ..., [num_class - 1].\n",
      "  warnings.warn(label_encoder_deprecation_msg, UserWarning)\n"
     ]
    },
    {
     "name": "stdout",
     "output_type": "stream",
     "text": [
      "[iter 0] loss=0.6930 val_loss=0.0000 scale=2.0000 norm=4.0000\n",
      "[iter 100] loss=0.5986 val_loss=0.0000 scale=2.0000 norm=3.7535\n",
      "[iter 200] loss=0.5758 val_loss=0.0000 scale=2.0000 norm=3.7537\n",
      "[iter 300] loss=0.5648 val_loss=0.0000 scale=2.0000 norm=3.7543\n",
      "[iter 400] loss=0.5591 val_loss=0.0000 scale=2.0000 norm=3.7581\n",
      "[iter 0] loss=0.6930 val_loss=0.0000 scale=2.0000 norm=4.0000\n",
      "[iter 100] loss=0.5940 val_loss=0.0000 scale=2.0000 norm=3.7442\n",
      "[iter 200] loss=0.5714 val_loss=0.0000 scale=2.0000 norm=3.7507\n",
      "[iter 300] loss=0.5596 val_loss=0.0000 scale=1.0000 norm=1.8770\n",
      "[iter 400] loss=0.5531 val_loss=0.0000 scale=1.0000 norm=1.8798\n"
     ]
    },
    {
     "name": "stderr",
     "output_type": "stream",
     "text": [
      "/opt/miniconda3/envs/stellar/lib/python3.7/site-packages/sklearn/utils/deprecation.py:101: FutureWarning: Attribute standard_coef_ was deprecated in version 0.23 and will be removed in 0.25.\n",
      "  warnings.warn(msg, category=FutureWarning)\n",
      "/opt/miniconda3/envs/stellar/lib/python3.7/site-packages/sklearn/utils/deprecation.py:101: FutureWarning: Attribute standard_intercept_ was deprecated in version 0.23 and will be removed in 0.25.\n",
      "  warnings.warn(msg, category=FutureWarning)\n",
      "/opt/miniconda3/envs/stellar/lib/python3.7/site-packages/sklearn/utils/deprecation.py:101: FutureWarning: Attribute average_coef_ was deprecated in version 0.23 and will be removed in 0.25.\n",
      "  warnings.warn(msg, category=FutureWarning)\n",
      "/opt/miniconda3/envs/stellar/lib/python3.7/site-packages/sklearn/utils/deprecation.py:101: FutureWarning: Attribute average_intercept_ was deprecated in version 0.23 and will be removed in 0.25.\n",
      "  warnings.warn(msg, category=FutureWarning)\n",
      "/opt/miniconda3/envs/stellar/lib/python3.7/site-packages/sklearn/linear_model/_ridge.py:148: LinAlgWarning: Ill-conditioned matrix (rcond=3.80755e-11): result may not be accurate.\n",
      "  overwrite_a=True).T\n",
      "/opt/miniconda3/envs/stellar/lib/python3.7/site-packages/sklearn/linear_model/_ridge.py:148: LinAlgWarning: Ill-conditioned matrix (rcond=3.27692e-11): result may not be accurate.\n",
      "  overwrite_a=True).T\n",
      "/opt/miniconda3/envs/stellar/lib/python3.7/site-packages/xgboost/sklearn.py:1146: UserWarning: The use of label encoder in XGBClassifier is deprecated and will be removed in a future release. To remove this warning, do the following: 1) Pass option use_label_encoder=False when constructing XGBClassifier object; and 2) Encode your labels (y) as integers starting with 0, i.e. 0, 1, 2, ..., [num_class - 1].\n",
      "  warnings.warn(label_encoder_deprecation_msg, UserWarning)\n"
     ]
    },
    {
     "name": "stdout",
     "output_type": "stream",
     "text": [
      "[iter 0] loss=0.6930 val_loss=0.0000 scale=2.0000 norm=4.0000\n",
      "[iter 100] loss=0.5965 val_loss=0.0000 scale=2.0000 norm=3.7529\n",
      "[iter 200] loss=0.5731 val_loss=0.0000 scale=2.0000 norm=3.7542\n",
      "[iter 300] loss=0.5616 val_loss=0.0000 scale=2.0000 norm=3.7588\n",
      "[iter 400] loss=0.5538 val_loss=0.0000 scale=1.0000 norm=1.8803\n"
     ]
    },
    {
     "name": "stderr",
     "output_type": "stream",
     "text": [
      "/opt/miniconda3/envs/stellar/lib/python3.7/site-packages/sklearn/utils/deprecation.py:101: FutureWarning: Attribute standard_coef_ was deprecated in version 0.23 and will be removed in 0.25.\n",
      "  warnings.warn(msg, category=FutureWarning)\n",
      "/opt/miniconda3/envs/stellar/lib/python3.7/site-packages/sklearn/utils/deprecation.py:101: FutureWarning: Attribute standard_intercept_ was deprecated in version 0.23 and will be removed in 0.25.\n",
      "  warnings.warn(msg, category=FutureWarning)\n",
      "/opt/miniconda3/envs/stellar/lib/python3.7/site-packages/sklearn/utils/deprecation.py:101: FutureWarning: Attribute average_coef_ was deprecated in version 0.23 and will be removed in 0.25.\n",
      "  warnings.warn(msg, category=FutureWarning)\n",
      "/opt/miniconda3/envs/stellar/lib/python3.7/site-packages/sklearn/utils/deprecation.py:101: FutureWarning: Attribute average_intercept_ was deprecated in version 0.23 and will be removed in 0.25.\n",
      "  warnings.warn(msg, category=FutureWarning)\n",
      "/opt/miniconda3/envs/stellar/lib/python3.7/site-packages/sklearn/linear_model/_ridge.py:148: LinAlgWarning: Ill-conditioned matrix (rcond=3.53036e-11): result may not be accurate.\n",
      "  overwrite_a=True).T\n",
      "/opt/miniconda3/envs/stellar/lib/python3.7/site-packages/sklearn/linear_model/_ridge.py:148: LinAlgWarning: Ill-conditioned matrix (rcond=3.37578e-11): result may not be accurate.\n",
      "  overwrite_a=True).T\n",
      "/opt/miniconda3/envs/stellar/lib/python3.7/site-packages/xgboost/sklearn.py:1146: UserWarning: The use of label encoder in XGBClassifier is deprecated and will be removed in a future release. To remove this warning, do the following: 1) Pass option use_label_encoder=False when constructing XGBClassifier object; and 2) Encode your labels (y) as integers starting with 0, i.e. 0, 1, 2, ..., [num_class - 1].\n",
      "  warnings.warn(label_encoder_deprecation_msg, UserWarning)\n"
     ]
    },
    {
     "name": "stdout",
     "output_type": "stream",
     "text": [
      "[iter 0] loss=0.6930 val_loss=0.0000 scale=2.0000 norm=4.0000\n",
      "[iter 100] loss=0.5960 val_loss=0.0000 scale=2.0000 norm=3.7482\n",
      "[iter 200] loss=0.5730 val_loss=0.0000 scale=2.0000 norm=3.7488\n",
      "[iter 300] loss=0.5599 val_loss=0.0000 scale=2.0000 norm=3.7552\n",
      "[iter 400] loss=0.5542 val_loss=0.0000 scale=1.0000 norm=1.8816\n"
     ]
    },
    {
     "name": "stderr",
     "output_type": "stream",
     "text": [
      "/opt/miniconda3/envs/stellar/lib/python3.7/site-packages/sklearn/utils/deprecation.py:101: FutureWarning: Attribute standard_coef_ was deprecated in version 0.23 and will be removed in 0.25.\n",
      "  warnings.warn(msg, category=FutureWarning)\n",
      "/opt/miniconda3/envs/stellar/lib/python3.7/site-packages/sklearn/utils/deprecation.py:101: FutureWarning: Attribute standard_intercept_ was deprecated in version 0.23 and will be removed in 0.25.\n",
      "  warnings.warn(msg, category=FutureWarning)\n",
      "/opt/miniconda3/envs/stellar/lib/python3.7/site-packages/sklearn/utils/deprecation.py:101: FutureWarning: Attribute average_coef_ was deprecated in version 0.23 and will be removed in 0.25.\n",
      "  warnings.warn(msg, category=FutureWarning)\n",
      "/opt/miniconda3/envs/stellar/lib/python3.7/site-packages/sklearn/utils/deprecation.py:101: FutureWarning: Attribute average_intercept_ was deprecated in version 0.23 and will be removed in 0.25.\n",
      "  warnings.warn(msg, category=FutureWarning)\n",
      "/opt/miniconda3/envs/stellar/lib/python3.7/site-packages/sklearn/utils/deprecation.py:101: FutureWarning: Attribute standard_coef_ was deprecated in version 0.23 and will be removed in 0.25.\n",
      "  warnings.warn(msg, category=FutureWarning)\n",
      "/opt/miniconda3/envs/stellar/lib/python3.7/site-packages/sklearn/utils/deprecation.py:101: FutureWarning: Attribute standard_intercept_ was deprecated in version 0.23 and will be removed in 0.25.\n",
      "  warnings.warn(msg, category=FutureWarning)\n",
      "/opt/miniconda3/envs/stellar/lib/python3.7/site-packages/sklearn/utils/deprecation.py:101: FutureWarning: Attribute average_coef_ was deprecated in version 0.23 and will be removed in 0.25.\n",
      "  warnings.warn(msg, category=FutureWarning)\n",
      "/opt/miniconda3/envs/stellar/lib/python3.7/site-packages/sklearn/utils/deprecation.py:101: FutureWarning: Attribute average_intercept_ was deprecated in version 0.23 and will be removed in 0.25.\n",
      "  warnings.warn(msg, category=FutureWarning)\n",
      "/opt/miniconda3/envs/stellar/lib/python3.7/site-packages/sklearn/metrics/_classification.py:1221: UndefinedMetricWarning: Precision is ill-defined and being set to 0.0 due to no predicted samples. Use `zero_division` parameter to control this behavior.\n",
      "  _warn_prf(average, modifier, msg_start, len(result))\n",
      "/opt/miniconda3/envs/stellar/lib/python3.7/site-packages/sklearn/metrics/_classification.py:846: RuntimeWarning: invalid value encountered in double_scalars\n",
      "  mcc = cov_ytyp / np.sqrt(cov_ytyt * cov_ypyp)\n",
      "/opt/miniconda3/envs/stellar/lib/python3.7/site-packages/xgboost/sklearn.py:1146: UserWarning: The use of label encoder in XGBClassifier is deprecated and will be removed in a future release. To remove this warning, do the following: 1) Pass option use_label_encoder=False when constructing XGBClassifier object; and 2) Encode your labels (y) as integers starting with 0, i.e. 0, 1, 2, ..., [num_class - 1].\n",
      "  warnings.warn(label_encoder_deprecation_msg, UserWarning)\n"
     ]
    }
   ],
   "source": [
    "# adding an extra classifier ngboost\n",
    "ngc = NGBClassifier()\n",
    "ngboost = create_model(ngc)\n",
    "\n",
    "model_matrix = compare_models(\n",
    "    fold=10,\n",
    "    exclude=[\"lda\",\"qda\"]\n",
    ")"
   ]
  },
  {
   "cell_type": "markdown",
   "id": "03df160e-ac51-4adb-a131-91201fdd8358",
   "metadata": {},
   "source": [
    "### The top model is performing well, so let's compare it against our unseen evaluation dataset:"
   ]
  },
  {
   "cell_type": "code",
   "execution_count": 7,
   "id": "9b4716b3-5a6b-4942-a32c-7ef3e9083509",
   "metadata": {},
   "outputs": [
    {
     "data": {
      "text/html": [
       "<style  type=\"text/css\" >\n",
       "#T_23eb9_row10_col0,#T_23eb9_row10_col1,#T_23eb9_row10_col2,#T_23eb9_row10_col3,#T_23eb9_row10_col4,#T_23eb9_row10_col5,#T_23eb9_row10_col6{\n",
       "            background:  yellow;\n",
       "        }</style><table id=\"T_23eb9_\" ><thead>    <tr>        <th class=\"blank level0\" ></th>        <th class=\"col_heading level0 col0\" >Accuracy</th>        <th class=\"col_heading level0 col1\" >AUC</th>        <th class=\"col_heading level0 col2\" >Recall</th>        <th class=\"col_heading level0 col3\" >Prec.</th>        <th class=\"col_heading level0 col4\" >F1</th>        <th class=\"col_heading level0 col5\" >Kappa</th>        <th class=\"col_heading level0 col6\" >MCC</th>    </tr></thead><tbody>\n",
       "                <tr>\n",
       "                        <th id=\"T_23eb9_level0_row0\" class=\"row_heading level0 row0\" >0</th>\n",
       "                        <td id=\"T_23eb9_row0_col0\" class=\"data row0 col0\" >0.7553</td>\n",
       "                        <td id=\"T_23eb9_row0_col1\" class=\"data row0 col1\" >0.8294</td>\n",
       "                        <td id=\"T_23eb9_row0_col2\" class=\"data row0 col2\" >0.7936</td>\n",
       "                        <td id=\"T_23eb9_row0_col3\" class=\"data row0 col3\" >0.7434</td>\n",
       "                        <td id=\"T_23eb9_row0_col4\" class=\"data row0 col4\" >0.7677</td>\n",
       "                        <td id=\"T_23eb9_row0_col5\" class=\"data row0 col5\" >0.5097</td>\n",
       "                        <td id=\"T_23eb9_row0_col6\" class=\"data row0 col6\" >0.5109</td>\n",
       "            </tr>\n",
       "            <tr>\n",
       "                        <th id=\"T_23eb9_level0_row1\" class=\"row_heading level0 row1\" >1</th>\n",
       "                        <td id=\"T_23eb9_row1_col0\" class=\"data row1 col0\" >0.7447</td>\n",
       "                        <td id=\"T_23eb9_row1_col1\" class=\"data row1 col1\" >0.8175</td>\n",
       "                        <td id=\"T_23eb9_row1_col2\" class=\"data row1 col2\" >0.7824</td>\n",
       "                        <td id=\"T_23eb9_row1_col3\" class=\"data row1 col3\" >0.7342</td>\n",
       "                        <td id=\"T_23eb9_row1_col4\" class=\"data row1 col4\" >0.7575</td>\n",
       "                        <td id=\"T_23eb9_row1_col5\" class=\"data row1 col5\" >0.4886</td>\n",
       "                        <td id=\"T_23eb9_row1_col6\" class=\"data row1 col6\" >0.4897</td>\n",
       "            </tr>\n",
       "            <tr>\n",
       "                        <th id=\"T_23eb9_level0_row2\" class=\"row_heading level0 row2\" >2</th>\n",
       "                        <td id=\"T_23eb9_row2_col0\" class=\"data row2 col0\" >0.7218</td>\n",
       "                        <td id=\"T_23eb9_row2_col1\" class=\"data row2 col1\" >0.8206</td>\n",
       "                        <td id=\"T_23eb9_row2_col2\" class=\"data row2 col2\" >0.7861</td>\n",
       "                        <td id=\"T_23eb9_row2_col3\" class=\"data row2 col3\" >0.7030</td>\n",
       "                        <td id=\"T_23eb9_row2_col4\" class=\"data row2 col4\" >0.7422</td>\n",
       "                        <td id=\"T_23eb9_row2_col5\" class=\"data row2 col5\" >0.4421</td>\n",
       "                        <td id=\"T_23eb9_row2_col6\" class=\"data row2 col6\" >0.4454</td>\n",
       "            </tr>\n",
       "            <tr>\n",
       "                        <th id=\"T_23eb9_level0_row3\" class=\"row_heading level0 row3\" >3</th>\n",
       "                        <td id=\"T_23eb9_row3_col0\" class=\"data row3 col0\" >0.7445</td>\n",
       "                        <td id=\"T_23eb9_row3_col1\" class=\"data row3 col1\" >0.8207</td>\n",
       "                        <td id=\"T_23eb9_row3_col2\" class=\"data row3 col2\" >0.8030</td>\n",
       "                        <td id=\"T_23eb9_row3_col3\" class=\"data row3 col3\" >0.7254</td>\n",
       "                        <td id=\"T_23eb9_row3_col4\" class=\"data row3 col4\" >0.7622</td>\n",
       "                        <td id=\"T_23eb9_row3_col5\" class=\"data row3 col5\" >0.4877</td>\n",
       "                        <td id=\"T_23eb9_row3_col6\" class=\"data row3 col6\" >0.4906</td>\n",
       "            </tr>\n",
       "            <tr>\n",
       "                        <th id=\"T_23eb9_level0_row4\" class=\"row_heading level0 row4\" >4</th>\n",
       "                        <td id=\"T_23eb9_row4_col0\" class=\"data row4 col0\" >0.7416</td>\n",
       "                        <td id=\"T_23eb9_row4_col1\" class=\"data row4 col1\" >0.8141</td>\n",
       "                        <td id=\"T_23eb9_row4_col2\" class=\"data row4 col2\" >0.7692</td>\n",
       "                        <td id=\"T_23eb9_row4_col3\" class=\"data row4 col3\" >0.7361</td>\n",
       "                        <td id=\"T_23eb9_row4_col4\" class=\"data row4 col4\" >0.7523</td>\n",
       "                        <td id=\"T_23eb9_row4_col5\" class=\"data row4 col5\" >0.4826</td>\n",
       "                        <td id=\"T_23eb9_row4_col6\" class=\"data row4 col6\" >0.4831</td>\n",
       "            </tr>\n",
       "            <tr>\n",
       "                        <th id=\"T_23eb9_level0_row5\" class=\"row_heading level0 row5\" >5</th>\n",
       "                        <td id=\"T_23eb9_row5_col0\" class=\"data row5 col0\" >0.7522</td>\n",
       "                        <td id=\"T_23eb9_row5_col1\" class=\"data row5 col1\" >0.8196</td>\n",
       "                        <td id=\"T_23eb9_row5_col2\" class=\"data row5 col2\" >0.8083</td>\n",
       "                        <td id=\"T_23eb9_row5_col3\" class=\"data row5 col3\" >0.7325</td>\n",
       "                        <td id=\"T_23eb9_row5_col4\" class=\"data row5 col4\" >0.7685</td>\n",
       "                        <td id=\"T_23eb9_row5_col5\" class=\"data row5 col5\" >0.5032</td>\n",
       "                        <td id=\"T_23eb9_row5_col6\" class=\"data row5 col6\" >0.5060</td>\n",
       "            </tr>\n",
       "            <tr>\n",
       "                        <th id=\"T_23eb9_level0_row6\" class=\"row_heading level0 row6\" >6</th>\n",
       "                        <td id=\"T_23eb9_row6_col0\" class=\"data row6 col0\" >0.7273</td>\n",
       "                        <td id=\"T_23eb9_row6_col1\" class=\"data row6 col1\" >0.8076</td>\n",
       "                        <td id=\"T_23eb9_row6_col2\" class=\"data row6 col2\" >0.7613</td>\n",
       "                        <td id=\"T_23eb9_row6_col3\" class=\"data row6 col3\" >0.7194</td>\n",
       "                        <td id=\"T_23eb9_row6_col4\" class=\"data row6 col4\" >0.7397</td>\n",
       "                        <td id=\"T_23eb9_row6_col5\" class=\"data row6 col5\" >0.4538</td>\n",
       "                        <td id=\"T_23eb9_row6_col6\" class=\"data row6 col6\" >0.4546</td>\n",
       "            </tr>\n",
       "            <tr>\n",
       "                        <th id=\"T_23eb9_level0_row7\" class=\"row_heading level0 row7\" >7</th>\n",
       "                        <td id=\"T_23eb9_row7_col0\" class=\"data row7 col0\" >0.7273</td>\n",
       "                        <td id=\"T_23eb9_row7_col1\" class=\"data row7 col1\" >0.7961</td>\n",
       "                        <td id=\"T_23eb9_row7_col2\" class=\"data row7 col2\" >0.7406</td>\n",
       "                        <td id=\"T_23eb9_row7_col3\" class=\"data row7 col3\" >0.7283</td>\n",
       "                        <td id=\"T_23eb9_row7_col4\" class=\"data row7 col4\" >0.7344</td>\n",
       "                        <td id=\"T_23eb9_row7_col5\" class=\"data row7 col5\" >0.4542</td>\n",
       "                        <td id=\"T_23eb9_row7_col6\" class=\"data row7 col6\" >0.4543</td>\n",
       "            </tr>\n",
       "            <tr>\n",
       "                        <th id=\"T_23eb9_level0_row8\" class=\"row_heading level0 row8\" >8</th>\n",
       "                        <td id=\"T_23eb9_row8_col0\" class=\"data row8 col0\" >0.7589</td>\n",
       "                        <td id=\"T_23eb9_row8_col1\" class=\"data row8 col1\" >0.8356</td>\n",
       "                        <td id=\"T_23eb9_row8_col2\" class=\"data row8 col2\" >0.8008</td>\n",
       "                        <td id=\"T_23eb9_row8_col3\" class=\"data row8 col3\" >0.7448</td>\n",
       "                        <td id=\"T_23eb9_row8_col4\" class=\"data row8 col4\" >0.7717</td>\n",
       "                        <td id=\"T_23eb9_row8_col5\" class=\"data row8 col5\" >0.5169</td>\n",
       "                        <td id=\"T_23eb9_row8_col6\" class=\"data row8 col6\" >0.5184</td>\n",
       "            </tr>\n",
       "            <tr>\n",
       "                        <th id=\"T_23eb9_level0_row9\" class=\"row_heading level0 row9\" >9</th>\n",
       "                        <td id=\"T_23eb9_row9_col0\" class=\"data row9 col0\" >0.7407</td>\n",
       "                        <td id=\"T_23eb9_row9_col1\" class=\"data row9 col1\" >0.8129</td>\n",
       "                        <td id=\"T_23eb9_row9_col2\" class=\"data row9 col2\" >0.7688</td>\n",
       "                        <td id=\"T_23eb9_row9_col3\" class=\"data row9 col3\" >0.7343</td>\n",
       "                        <td id=\"T_23eb9_row9_col4\" class=\"data row9 col4\" >0.7511</td>\n",
       "                        <td id=\"T_23eb9_row9_col5\" class=\"data row9 col5\" >0.4807</td>\n",
       "                        <td id=\"T_23eb9_row9_col6\" class=\"data row9 col6\" >0.4813</td>\n",
       "            </tr>\n",
       "            <tr>\n",
       "                        <th id=\"T_23eb9_level0_row10\" class=\"row_heading level0 row10\" >Mean</th>\n",
       "                        <td id=\"T_23eb9_row10_col0\" class=\"data row10 col0\" >0.7414</td>\n",
       "                        <td id=\"T_23eb9_row10_col1\" class=\"data row10 col1\" >0.8174</td>\n",
       "                        <td id=\"T_23eb9_row10_col2\" class=\"data row10 col2\" >0.7814</td>\n",
       "                        <td id=\"T_23eb9_row10_col3\" class=\"data row10 col3\" >0.7301</td>\n",
       "                        <td id=\"T_23eb9_row10_col4\" class=\"data row10 col4\" >0.7548</td>\n",
       "                        <td id=\"T_23eb9_row10_col5\" class=\"data row10 col5\" >0.4819</td>\n",
       "                        <td id=\"T_23eb9_row10_col6\" class=\"data row10 col6\" >0.4834</td>\n",
       "            </tr>\n",
       "            <tr>\n",
       "                        <th id=\"T_23eb9_level0_row11\" class=\"row_heading level0 row11\" >SD</th>\n",
       "                        <td id=\"T_23eb9_row11_col0\" class=\"data row11 col0\" >0.0119</td>\n",
       "                        <td id=\"T_23eb9_row11_col1\" class=\"data row11 col1\" >0.0104</td>\n",
       "                        <td id=\"T_23eb9_row11_col2\" class=\"data row11 col2\" >0.0203</td>\n",
       "                        <td id=\"T_23eb9_row11_col3\" class=\"data row11 col3\" >0.0116</td>\n",
       "                        <td id=\"T_23eb9_row11_col4\" class=\"data row11 col4\" >0.0124</td>\n",
       "                        <td id=\"T_23eb9_row11_col5\" class=\"data row11 col5\" >0.0238</td>\n",
       "                        <td id=\"T_23eb9_row11_col6\" class=\"data row11 col6\" >0.0239</td>\n",
       "            </tr>\n",
       "    </tbody></table>"
      ],
      "text/plain": [
       "<pandas.io.formats.style.Styler at 0x7fa50a446290>"
      ]
     },
     "metadata": {},
     "output_type": "display_data"
    }
   ],
   "source": [
    "best_model = create_model(model_matrix)\n",
    "\n",
    "unseen_predictions = predict_model(best_model, data=df_eval)"
   ]
  },
  {
   "cell_type": "markdown",
   "id": "ab2e9ab2-b26a-4fd0-a51d-37c199f4d70a",
   "metadata": {},
   "source": [
    "### Let's plot the features to see what attributes were the most important to an accurate prediction"
   ]
  },
  {
   "cell_type": "code",
   "execution_count": 8,
   "id": "7e22aece-548d-49e8-a88c-c276cecd27f6",
   "metadata": {},
   "outputs": [
    {
     "data": {
      "image/png": "[encoded data removed]",
      "text/plain": [
       "<Figure size 800x500 with 1 Axes>"
      ]
     },
     "metadata": {},
     "output_type": "display_data"
    }
   ],
   "source": [
    "plot_model(best_model, plot='feature')"
   ]
  },
  {
   "cell_type": "markdown",
   "id": "f31dbc1d-5239-4500-bae4-ade200701181",
   "metadata": {},
   "source": [
    "### Let's also plot a confusion matrix to understand the spread of our predictions"
   ]
  },
  {
   "cell_type": "code",
   "execution_count": 9,
   "id": "92d355a2-c3e5-4084-8a4c-86b2778273b2",
   "metadata": {},
   "outputs": [
    {
     "data": {
      "image/png": "[encoded data removed]",
      "text/plain": [
       "<Figure size 576x396 with 1 Axes>"
      ]
     },
     "metadata": {},
     "output_type": "display_data"
    }
   ],
   "source": [
    "plot_model(best_model, plot='confusion_matrix')"
   ]
  },
  {
   "cell_type": "markdown",
   "id": "22e76df0",
   "metadata": {},
   "source": [
    "## Observations\n",
    "* There was a slight decline in accuracy by using the standard features (0.7665 to 0.7635).\n",
    "* Compared to the extended retention features, the standard StellarAlgo features predicted less overall buyers.\n",
    "* Compared to the extended retention features, the standard StellarAlgo features did a better job of idenfying buyers who would not rebuy."
   ]
  },
  {
   "cell_type": "markdown",
   "id": "abda0dfd",
   "metadata": {},
   "source": [
    "## Conclusions\n",
    "Here you can talk about next steps, did the experiment work? If yes, what to do next? If no, why?"
   ]
  }
 ],
 "metadata": {
  "kernelspec": {
   "display_name": "Python 3 (ipykernel)",
   "language": "python",
   "name": "python3"
  },
  "language_info": {
   "codemirror_mode": {
    "name": "ipython",
    "version": 3
   },
   "file_extension": ".py",
   "mimetype": "text/x-python",
   "name": "python",
   "nbconvert_exporter": "python",
   "pygments_lexer": "ipython3",
   "version": "3.7.10"
  }
 },
 "nbformat": 4,
 "nbformat_minor": 5
}
