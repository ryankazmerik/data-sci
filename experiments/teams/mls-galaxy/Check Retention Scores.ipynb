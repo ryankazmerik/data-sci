{
 "cells": [
  {
   "cell_type": "markdown",
   "metadata": {},
   "source": [
    "# MLS Galaxy - Check Retention Scores\n",
    "* StellarAlgo Data Science\n",
    "* Grant Donst\n",
    "* Oct 19, 2022"
   ]
  },
  {
   "cell_type": "code",
   "execution_count": 2,
   "metadata": {},
   "outputs": [],
   "source": [
    "import pandas as pd\n",
    "\n",
    "import matplotlib.pyplot as plt\n",
    "\n",
    "from pandas_profiling import ProfileReport\n",
    "from pycaret.classification import *"
   ]
  },
  {
   "cell_type": "markdown",
   "metadata": {},
   "source": [
    "### Let's load the model used in retention for production:"
   ]
  },
  {
   "cell_type": "code",
   "execution_count": 3,
   "metadata": {},
   "outputs": [
    {
     "name": "stdout",
     "output_type": "stream",
     "text": [
      "Transformation Pipeline and Model Successfully Loaded\n"
     ]
    },
    {
     "ename": "KeyError",
     "evalue": "235",
     "output_type": "error",
     "traceback": [
      "\u001b[0;31m---------------------------------------------------------------------------\u001b[0m",
      "\u001b[0;31mKeyError\u001b[0m                                  Traceback (most recent call last)",
      "Cell \u001b[0;32mIn [3], line 1\u001b[0m\n\u001b[0;32m----> 1\u001b[0m prod_retention_model \u001b[39m=\u001b[39m load_model(\u001b[39m\"\u001b[39;49m\u001b[39m./models/model\u001b[39;49m\u001b[39m\"\u001b[39;49m)\n",
      "File \u001b[0;32m/opt/miniconda3/envs/stellar/lib/python3.8/site-packages/pycaret/classification.py:2402\u001b[0m, in \u001b[0;36mload_model\u001b[0;34m(model_name, platform, authentication, verbose)\u001b[0m\n\u001b[1;32m   2354\u001b[0m \u001b[39mdef\u001b[39;00m \u001b[39mload_model\u001b[39m(\n\u001b[1;32m   2355\u001b[0m     model_name,\n\u001b[1;32m   2356\u001b[0m     platform: Optional[\u001b[39mstr\u001b[39m] \u001b[39m=\u001b[39m \u001b[39mNone\u001b[39;00m,\n\u001b[1;32m   2357\u001b[0m     authentication: Optional[Dict[\u001b[39mstr\u001b[39m, \u001b[39mstr\u001b[39m]] \u001b[39m=\u001b[39m \u001b[39mNone\u001b[39;00m,\n\u001b[1;32m   2358\u001b[0m     verbose: \u001b[39mbool\u001b[39m \u001b[39m=\u001b[39m \u001b[39mTrue\u001b[39;00m,\n\u001b[1;32m   2359\u001b[0m ):\n\u001b[1;32m   2361\u001b[0m     \u001b[39m\"\"\"\u001b[39;00m\n\u001b[1;32m   2362\u001b[0m \u001b[39m    This function loads a previously saved pipeline.\u001b[39;00m\n\u001b[1;32m   2363\u001b[0m \n\u001b[0;32m   (...)\u001b[0m\n\u001b[1;32m   2399\u001b[0m \n\u001b[1;32m   2400\u001b[0m \u001b[39m    \"\"\"\u001b[39;00m\n\u001b[0;32m-> 2402\u001b[0m     \u001b[39mreturn\u001b[39;00m pycaret\u001b[39m.\u001b[39;49minternal\u001b[39m.\u001b[39;49mtabular\u001b[39m.\u001b[39;49mload_model(\n\u001b[1;32m   2403\u001b[0m         model_name\u001b[39m=\u001b[39;49mmodel_name,\n\u001b[1;32m   2404\u001b[0m         platform\u001b[39m=\u001b[39;49mplatform,\n\u001b[1;32m   2405\u001b[0m         authentication\u001b[39m=\u001b[39;49mauthentication,\n\u001b[1;32m   2406\u001b[0m         verbose\u001b[39m=\u001b[39;49mverbose,\n\u001b[1;32m   2407\u001b[0m     )\n",
      "File \u001b[0;32m/opt/miniconda3/envs/stellar/lib/python3.8/site-packages/pycaret/internal/tabular.py:9776\u001b[0m, in \u001b[0;36mload_model\u001b[0;34m(model_name, platform, authentication, verbose)\u001b[0m\n\u001b[1;32m   9732\u001b[0m \u001b[39m\"\"\"\u001b[39;00m\n\u001b[1;32m   9733\u001b[0m \u001b[39mThis function loads a previously saved transformation pipeline and model\u001b[39;00m\n\u001b[1;32m   9734\u001b[0m \u001b[39mfrom the current active directory into the current python environment.\u001b[39;00m\n\u001b[0;32m   (...)\u001b[0m\n\u001b[1;32m   9771\u001b[0m \n\u001b[1;32m   9772\u001b[0m \u001b[39m\"\"\"\u001b[39;00m\n\u001b[1;32m   9774\u001b[0m \u001b[39mimport\u001b[39;00m \u001b[39mpycaret\u001b[39;00m\u001b[39m.\u001b[39;00m\u001b[39minternal\u001b[39;00m\u001b[39m.\u001b[39;00m\u001b[39mpersistence\u001b[39;00m\n\u001b[0;32m-> 9776\u001b[0m \u001b[39mreturn\u001b[39;00m pycaret\u001b[39m.\u001b[39;49minternal\u001b[39m.\u001b[39;49mpersistence\u001b[39m.\u001b[39;49mload_model(\n\u001b[1;32m   9777\u001b[0m     model_name, platform, authentication, verbose\n\u001b[1;32m   9778\u001b[0m )\n",
      "File \u001b[0;32m/opt/miniconda3/envs/stellar/lib/python3.8/site-packages/pycaret/internal/persistence.py:393\u001b[0m, in \u001b[0;36mload_model\u001b[0;34m(model_name, platform, authentication, verbose)\u001b[0m\n\u001b[1;32m    391\u001b[0m     \u001b[39mif\u001b[39;00m verbose:\n\u001b[1;32m    392\u001b[0m         \u001b[39mprint\u001b[39m(\u001b[39m\"\u001b[39m\u001b[39mTransformation Pipeline and Model Successfully Loaded\u001b[39m\u001b[39m\"\u001b[39m)\n\u001b[0;32m--> 393\u001b[0m     \u001b[39mreturn\u001b[39;00m joblib\u001b[39m.\u001b[39;49mload(model_name)\n\u001b[1;32m    395\u001b[0m \u001b[39m# cloud providers\u001b[39;00m\n\u001b[1;32m    396\u001b[0m \u001b[39melif\u001b[39;00m platform \u001b[39m==\u001b[39m \u001b[39m\"\u001b[39m\u001b[39maws\u001b[39m\u001b[39m\"\u001b[39m:\n",
      "File \u001b[0;32m/opt/miniconda3/envs/stellar/lib/python3.8/site-packages/joblib/numpy_pickle.py:587\u001b[0m, in \u001b[0;36mload\u001b[0;34m(filename, mmap_mode)\u001b[0m\n\u001b[1;32m    581\u001b[0m             \u001b[39mif\u001b[39;00m \u001b[39misinstance\u001b[39m(fobj, \u001b[39mstr\u001b[39m):\n\u001b[1;32m    582\u001b[0m                 \u001b[39m# if the returned file object is a string, this means we\u001b[39;00m\n\u001b[1;32m    583\u001b[0m                 \u001b[39m# try to load a pickle file generated with an version of\u001b[39;00m\n\u001b[1;32m    584\u001b[0m                 \u001b[39m# Joblib so we load it with joblib compatibility function.\u001b[39;00m\n\u001b[1;32m    585\u001b[0m                 \u001b[39mreturn\u001b[39;00m load_compatibility(fobj)\n\u001b[0;32m--> 587\u001b[0m             obj \u001b[39m=\u001b[39m _unpickle(fobj, filename, mmap_mode)\n\u001b[1;32m    588\u001b[0m \u001b[39mreturn\u001b[39;00m obj\n",
      "File \u001b[0;32m/opt/miniconda3/envs/stellar/lib/python3.8/site-packages/joblib/numpy_pickle.py:506\u001b[0m, in \u001b[0;36m_unpickle\u001b[0;34m(fobj, filename, mmap_mode)\u001b[0m\n\u001b[1;32m    504\u001b[0m obj \u001b[39m=\u001b[39m \u001b[39mNone\u001b[39;00m\n\u001b[1;32m    505\u001b[0m \u001b[39mtry\u001b[39;00m:\n\u001b[0;32m--> 506\u001b[0m     obj \u001b[39m=\u001b[39m unpickler\u001b[39m.\u001b[39;49mload()\n\u001b[1;32m    507\u001b[0m     \u001b[39mif\u001b[39;00m unpickler\u001b[39m.\u001b[39mcompat_mode:\n\u001b[1;32m    508\u001b[0m         warnings\u001b[39m.\u001b[39mwarn(\u001b[39m\"\u001b[39m\u001b[39mThe file \u001b[39m\u001b[39m'\u001b[39m\u001b[39m%s\u001b[39;00m\u001b[39m'\u001b[39m\u001b[39m has been generated with a \u001b[39m\u001b[39m\"\u001b[39m\n\u001b[1;32m    509\u001b[0m                       \u001b[39m\"\u001b[39m\u001b[39mjoblib version less than 0.10. \u001b[39m\u001b[39m\"\u001b[39m\n\u001b[1;32m    510\u001b[0m                       \u001b[39m\"\u001b[39m\u001b[39mPlease regenerate this pickle file.\u001b[39m\u001b[39m\"\u001b[39m\n\u001b[1;32m    511\u001b[0m                       \u001b[39m%\u001b[39m filename,\n\u001b[1;32m    512\u001b[0m                       \u001b[39mDeprecationWarning\u001b[39;00m, stacklevel\u001b[39m=\u001b[39m\u001b[39m3\u001b[39m)\n",
      "File \u001b[0;32m/opt/miniconda3/envs/stellar/lib/python3.8/pickle.py:1212\u001b[0m, in \u001b[0;36m_Unpickler.load\u001b[0;34m(self)\u001b[0m\n\u001b[1;32m   1210\u001b[0m             \u001b[39mraise\u001b[39;00m \u001b[39mEOFError\u001b[39;00m\n\u001b[1;32m   1211\u001b[0m         \u001b[39massert\u001b[39;00m \u001b[39misinstance\u001b[39m(key, bytes_types)\n\u001b[0;32m-> 1212\u001b[0m         dispatch[key[\u001b[39m0\u001b[39;49m]](\u001b[39mself\u001b[39m)\n\u001b[1;32m   1213\u001b[0m \u001b[39mexcept\u001b[39;00m _Stop \u001b[39mas\u001b[39;00m stopinst:\n\u001b[1;32m   1214\u001b[0m     \u001b[39mreturn\u001b[39;00m stopinst\u001b[39m.\u001b[39mvalue\n",
      "\u001b[0;31mKeyError\u001b[0m: 235"
     ]
    }
   ],
   "source": [
    "prod_retention_model = load_model(\"./models/model\")"
   ]
  },
  {
   "cell_type": "markdown",
   "metadata": {},
   "source": [
    "### Let's use the new and existing model to make predictions on the 2022 season:"
   ]
  },
  {
   "cell_type": "code",
   "execution_count": null,
   "metadata": {},
   "outputs": [],
   "source": [
    "inference_data = pd.read_csv(\"./data/inference_data.csv\")\n",
    "inference_data.columns = ['attendancePercent', 'clicktoopenratio', 'clicktosendratio', 'clientcode', 'dimCustomerMasterId', 'distToVenue', 'isNextYear_Buyer', 'lkupclientid',\n",
    "                          'missed_games_1', 'missed_games_2', 'missed_games_over_2', 'opentosendratio', 'productGrouping', 'recency', 'recentDate',\n",
    "                          'renewedBeforeDays', 'tenure', 'totalSpent', 'year']\n",
    "\n",
    "inference_data = inference_data.loc[inference_data['lkupclientid']==6]"
   ]
  },
  {
   "cell_type": "code",
   "execution_count": null,
   "metadata": {},
   "outputs": [
    {
     "data": {
      "text/plain": [
       "2021    4644\n",
       "2022    3734\n",
       "Name: year, dtype: int64"
      ]
     },
     "execution_count": 10,
     "metadata": {},
     "output_type": "execute_result"
    }
   ],
   "source": [
    "inference_data[\"year\"].value_counts()"
   ]
  },
  {
   "cell_type": "markdown",
   "metadata": {},
   "source": [
    "### Let's use our model to make predictions on the inference data:"
   ]
  },
  {
   "cell_type": "code",
   "execution_count": null,
   "metadata": {},
   "outputs": [
    {
     "ename": "NameError",
     "evalue": "name 'prod_retention_model' is not defined",
     "output_type": "error",
     "traceback": [
      "\u001b[0;31m---------------------------------------------------------------------------\u001b[0m",
      "\u001b[0;31mNameError\u001b[0m                                 Traceback (most recent call last)",
      "Cell \u001b[0;32mIn [11], line 1\u001b[0m\n\u001b[0;32m----> 1\u001b[0m df_prod_predictions \u001b[39m=\u001b[39m predict_model(prod_retention_model, data\u001b[39m=\u001b[39minference_data, raw_score\u001b[39m=\u001b[39m\u001b[39mTrue\u001b[39;00m)\n",
      "\u001b[0;31mNameError\u001b[0m: name 'prod_retention_model' is not defined"
     ]
    }
   ],
   "source": [
    "df_prod_predictions = predict_model(prod_retention_model, data=inference_data, raw_score=True)"
   ]
  },
  {
   "cell_type": "code",
   "execution_count": null,
   "metadata": {},
   "outputs": [
    {
     "data": {
      "text/html": [
       "<div>\n",
       "<style scoped>\n",
       "    .dataframe tbody tr th:only-of-type {\n",
       "        vertical-align: middle;\n",
       "    }\n",
       "\n",
       "    .dataframe tbody tr th {\n",
       "        vertical-align: top;\n",
       "    }\n",
       "\n",
       "    .dataframe thead th {\n",
       "        text-align: right;\n",
       "    }\n",
       "</style>\n",
       "<table border=\"1\" class=\"dataframe\">\n",
       "  <thead>\n",
       "    <tr style=\"text-align: right;\">\n",
       "      <th></th>\n",
       "      <th>attendancePercent</th>\n",
       "      <th>clientcode</th>\n",
       "      <th>dimCustomerMasterId</th>\n",
       "      <th>distToVenue</th>\n",
       "      <th>isNextYear_Buyer</th>\n",
       "      <th>lkupclientid</th>\n",
       "      <th>missed_games_1</th>\n",
       "      <th>missed_games_2</th>\n",
       "      <th>missed_games_over_2</th>\n",
       "      <th>productGrouping</th>\n",
       "      <th>recency</th>\n",
       "      <th>recentDate</th>\n",
       "      <th>renewedBeforeDays</th>\n",
       "      <th>source_tenure</th>\n",
       "      <th>totalSpent</th>\n",
       "      <th>year</th>\n",
       "      <th>Label</th>\n",
       "      <th>Score_0</th>\n",
       "      <th>Score_1</th>\n",
       "    </tr>\n",
       "  </thead>\n",
       "  <tbody>\n",
       "    <tr>\n",
       "      <th>0</th>\n",
       "      <td>0.611111</td>\n",
       "      <td>nflvikings</td>\n",
       "      <td>261672</td>\n",
       "      <td>0</td>\n",
       "      <td>1</td>\n",
       "      <td>112</td>\n",
       "      <td>1</td>\n",
       "      <td>2</td>\n",
       "      <td>0</td>\n",
       "      <td>Full Season</td>\n",
       "      <td>1</td>\n",
       "      <td>2021-12-09</td>\n",
       "      <td>214</td>\n",
       "      <td>19345</td>\n",
       "      <td>7680.0</td>\n",
       "      <td>2021</td>\n",
       "      <td>1</td>\n",
       "      <td>0.0003</td>\n",
       "      <td>0.9997</td>\n",
       "    </tr>\n",
       "    <tr>\n",
       "      <th>1</th>\n",
       "      <td>0.000000</td>\n",
       "      <td>nflvikings</td>\n",
       "      <td>2993009</td>\n",
       "      <td>0</td>\n",
       "      <td>1</td>\n",
       "      <td>112</td>\n",
       "      <td>0</td>\n",
       "      <td>0</td>\n",
       "      <td>1</td>\n",
       "      <td>Full Season</td>\n",
       "      <td>0</td>\n",
       "      <td>1970-01-01</td>\n",
       "      <td>214</td>\n",
       "      <td>5475</td>\n",
       "      <td>79920.0</td>\n",
       "      <td>2021</td>\n",
       "      <td>1</td>\n",
       "      <td>0.0005</td>\n",
       "      <td>0.9995</td>\n",
       "    </tr>\n",
       "    <tr>\n",
       "      <th>2</th>\n",
       "      <td>1.111111</td>\n",
       "      <td>nflvikings</td>\n",
       "      <td>3162990</td>\n",
       "      <td>0</td>\n",
       "      <td>1</td>\n",
       "      <td>112</td>\n",
       "      <td>0</td>\n",
       "      <td>0</td>\n",
       "      <td>0</td>\n",
       "      <td>Full Season</td>\n",
       "      <td>0</td>\n",
       "      <td>2022-01-09</td>\n",
       "      <td>213</td>\n",
       "      <td>9490</td>\n",
       "      <td>1740.0</td>\n",
       "      <td>2021</td>\n",
       "      <td>1</td>\n",
       "      <td>0.0081</td>\n",
       "      <td>0.9919</td>\n",
       "    </tr>\n",
       "    <tr>\n",
       "      <th>3</th>\n",
       "      <td>0.333333</td>\n",
       "      <td>nflvikings</td>\n",
       "      <td>3164410</td>\n",
       "      <td>0</td>\n",
       "      <td>1</td>\n",
       "      <td>112</td>\n",
       "      <td>0</td>\n",
       "      <td>1</td>\n",
       "      <td>1</td>\n",
       "      <td>Full Season</td>\n",
       "      <td>5</td>\n",
       "      <td>2022-01-09</td>\n",
       "      <td>214</td>\n",
       "      <td>1460</td>\n",
       "      <td>2740.0</td>\n",
       "      <td>2021</td>\n",
       "      <td>1</td>\n",
       "      <td>0.0448</td>\n",
       "      <td>0.9552</td>\n",
       "    </tr>\n",
       "    <tr>\n",
       "      <th>4</th>\n",
       "      <td>0.000000</td>\n",
       "      <td>nflvikings</td>\n",
       "      <td>3165226</td>\n",
       "      <td>0</td>\n",
       "      <td>1</td>\n",
       "      <td>112</td>\n",
       "      <td>0</td>\n",
       "      <td>0</td>\n",
       "      <td>1</td>\n",
       "      <td>Full Season</td>\n",
       "      <td>0</td>\n",
       "      <td>1970-01-01</td>\n",
       "      <td>214</td>\n",
       "      <td>1825</td>\n",
       "      <td>2740.0</td>\n",
       "      <td>2021</td>\n",
       "      <td>1</td>\n",
       "      <td>0.0565</td>\n",
       "      <td>0.9435</td>\n",
       "    </tr>\n",
       "  </tbody>\n",
       "</table>\n",
       "</div>"
      ],
      "text/plain": [
       "   attendancePercent  clientcode  dimCustomerMasterId  distToVenue  \\\n",
       "0           0.611111  nflvikings               261672            0   \n",
       "1           0.000000  nflvikings              2993009            0   \n",
       "2           1.111111  nflvikings              3162990            0   \n",
       "3           0.333333  nflvikings              3164410            0   \n",
       "4           0.000000  nflvikings              3165226            0   \n",
       "\n",
       "   isNextYear_Buyer  lkupclientid  missed_games_1  missed_games_2  \\\n",
       "0                 1           112               1               2   \n",
       "1                 1           112               0               0   \n",
       "2                 1           112               0               0   \n",
       "3                 1           112               0               1   \n",
       "4                 1           112               0               0   \n",
       "\n",
       "   missed_games_over_2 productGrouping  recency  recentDate  \\\n",
       "0                    0     Full Season        1  2021-12-09   \n",
       "1                    1     Full Season        0  1970-01-01   \n",
       "2                    0     Full Season        0  2022-01-09   \n",
       "3                    1     Full Season        5  2022-01-09   \n",
       "4                    1     Full Season        0  1970-01-01   \n",
       "\n",
       "   renewedBeforeDays  source_tenure  totalSpent  year  Label  Score_0  Score_1  \n",
       "0                214          19345      7680.0  2021      1   0.0003   0.9997  \n",
       "1                214           5475     79920.0  2021      1   0.0005   0.9995  \n",
       "2                213           9490      1740.0  2021      1   0.0081   0.9919  \n",
       "3                214           1460      2740.0  2021      1   0.0448   0.9552  \n",
       "4                214           1825      2740.0  2021      1   0.0565   0.9435  "
      ]
     },
     "execution_count": 11,
     "metadata": {},
     "output_type": "execute_result"
    }
   ],
   "source": [
    "df_new_predictions.head()"
   ]
  },
  {
   "cell_type": "code",
   "execution_count": null,
   "metadata": {},
   "outputs": [
    {
     "data": {
      "image/png": "[encoded data removed]",
      "text/plain": [
       "<Figure size 1440x396 with 2 Axes>"
      ]
     },
     "metadata": {},
     "output_type": "display_data"
    }
   ],
   "source": [
    "fig, (ax1, ax2) = plt.subplots(1, 2)\n",
    "fig.suptitle('Retention Scores')\n",
    "ax1.hist(df_new_predictions['Score_1'], bins=20, edgecolor='black', color='dodgerblue')\n",
    "ax2.hist(df_prod_predictions['Score_1'], bins=20, edgecolor='black', color='dodgerblue')\n",
    "ax1.set_xlabel('New Model')\n",
    "ax2.set_xlabel('Prod Model')\n",
    "\n",
    "fig.figure.set_figwidth(20)"
   ]
  },
  {
   "cell_type": "code",
   "execution_count": null,
   "metadata": {},
   "outputs": [
    {
     "data": {
      "text/plain": [
       "(0.9, 1.0]       8872\n",
       "(0.8, 0.9]        836\n",
       "(0.7, 0.8]         85\n",
       "(0.6, 0.7]         40\n",
       "(0.4, 0.5]         14\n",
       "(-0.001, 0.1]       8\n",
       "(0.5, 0.6]          6\n",
       "(0.2, 0.3]          5\n",
       "(0.3, 0.4]          4\n",
       "(0.1, 0.2]          3\n",
       "Name: Score_1, dtype: int64"
      ]
     },
     "execution_count": 13,
     "metadata": {},
     "output_type": "execute_result"
    }
   ],
   "source": [
    "df_new_predictions[\"Score_1\"].value_counts(bins=[0, 0.1, 0.2, 0.3, 0.4, 0.5, 0.6, 0.7, 0.8, 0.9, 1.0])"
   ]
  },
  {
   "cell_type": "markdown",
   "metadata": {},
   "source": [
    "### There are a large number of fans in the 0 - 0.1 score bucket, let's run a pandas profile on the dataset to check data quality:"
   ]
  },
  {
   "cell_type": "code",
   "execution_count": null,
   "metadata": {},
   "outputs": [
    {
     "data": {
      "application/vnd.jupyter.widget-view+json": {
       "model_id": "5849a70ef7924f42b826e481b0a93560",
       "version_major": 2,
       "version_minor": 0
      },
      "text/plain": [
       "Summarize dataset:   0%|          | 0/5 [00:00<?, ?it/s]"
      ]
     },
     "metadata": {},
     "output_type": "display_data"
    },
    {
     "data": {
      "application/vnd.jupyter.widget-view+json": {
       "model_id": "bae42df17ea748948caa314ee05d35db",
       "version_major": 2,
       "version_minor": 0
      },
      "text/plain": [
       "Generate report structure:   0%|          | 0/1 [00:00<?, ?it/s]"
      ]
     },
     "metadata": {},
     "output_type": "display_data"
    },
    {
     "data": {
      "application/vnd.jupyter.widget-view+json": {
       "model_id": "f893095d28f242d8be45bdab35213fe7",
       "version_major": 2,
       "version_minor": 0
      },
      "text/plain": [
       "Render HTML:   0%|          | 0/1 [00:00<?, ?it/s]"
      ]
     },
     "metadata": {},
     "output_type": "display_data"
    },
    {
     "data": {
      "application/vnd.jupyter.widget-view+json": {
       "model_id": "edbf7a90fa91454cad34263c61f76947",
       "version_major": 2,
       "version_minor": 0
      },
      "text/plain": [
       "Export report to file:   0%|          | 0/1 [00:00<?, ?it/s]"
      ]
     },
     "metadata": {},
     "output_type": "display_data"
    }
   ],
   "source": [
    "# generate a pandas profile report on the dataset\n",
    "profile = ProfileReport(inference_data, minimal=True)\n",
    "profile.to_file(\"pandas-profile-report.html\")"
   ]
  },
  {
   "cell_type": "code",
   "execution_count": null,
   "metadata": {},
   "outputs": [
    {
     "data": {
      "text/plain": [
       "(-0.009000000000000001, 0.8]    6686\n",
       "(0.8, 1.6]                      1101\n",
       "(1.6, 2.4]                       614\n",
       "(2.4, 3.2]                       551\n",
       "(3.2, 4.0]                       402\n",
       "(5.6, 6.4]                       385\n",
       "(4.8, 5.6]                       322\n",
       "(6.4, 7.2]                        81\n",
       "(7.2, 8.0]                        13\n",
       "(4.0, 4.8]                         0\n",
       "Name: recency, dtype: int64"
      ]
     },
     "execution_count": 16,
     "metadata": {},
     "output_type": "execute_result"
    }
   ],
   "source": [
    "df_train[\"recency\"].value_counts(bins=10)"
   ]
  }
 ],
 "metadata": {
  "kernelspec": {
   "display_name": "Python 3.8.5 ('stellar')",
   "language": "python",
   "name": "python3"
  },
  "language_info": {
   "codemirror_mode": {
    "name": "ipython",
    "version": 3
   },
   "file_extension": ".py",
   "mimetype": "text/x-python",
   "name": "python",
   "nbconvert_exporter": "python",
   "pygments_lexer": "ipython3",
   "version": "3.8.13"
  },
  "orig_nbformat": 4,
  "vscode": {
   "interpreter": {
    "hash": "89f48dadab51a6b5b48ffc1a9e043c21cefe67453637c3444f3b86917b8aad16"
   }
  }
 },
 "nbformat": 4,
 "nbformat_minor": 2
}
