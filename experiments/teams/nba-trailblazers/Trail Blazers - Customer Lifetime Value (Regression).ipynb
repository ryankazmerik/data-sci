{
 "cells": [
  {
   "cell_type": "markdown",
   "id": "61037526-75ba-4674-a31e-d5e2e805f26b",
   "metadata": {},
   "source": [
    "# Portland Trail Blazers - Customer Lifetime Value (Regression)\n",
    "* StelllarAlgo Data Science\n",
    "* Ryan Kazmerik\n",
    "* Jul 14, 2022"
   ]
  },
  {
   "cell_type": "code",
   "execution_count": 1,
   "id": "573b8578-5434-4dae-9311-eb051fb342f2",
   "metadata": {},
   "outputs": [],
   "source": [
    "import pandas as pd\n",
    "import matplotlib.pyplot as plt\n",
    "\n",
    "from pycaret.regression import *"
   ]
  },
  {
   "cell_type": "markdown",
   "id": "e560e143-a7a9-44eb-bae1-5b1f8170eca8",
   "metadata": {},
   "source": [
    "## Hypothesis:\n",
    "\n",
    "**Customer Lifetime Value (CLTV)** represents the total amount of money a customer is expected to spend in a business during his/her lifetime. This is an important metric to monitor because it helps to make decisions about how much money to invest in acquiring new customers and retaining existing ones.\n",
    "\n",
    "We propose to build a CLTV regression model trained on RFM data from past season that is capable of predicting future CLTV for the next season."
   ]
  },
  {
   "cell_type": "code",
   "execution_count": 18,
   "id": "5cf07a70-9e64-48e6-9108-79795ca445b8",
   "metadata": {},
   "outputs": [
    {
     "name": "stdout",
     "output_type": "stream",
     "text": [
      "<class 'pandas.core.frame.DataFrame'>\n",
      "RangeIndex: 3949410 entries, 0 to 3949409\n",
      "Data columns (total 8 columns):\n",
      " #   Column               Dtype  \n",
      "---  ------               -----  \n",
      " 0   dimcustomermasterid  int64  \n",
      " 1   purchasedate         object \n",
      " 2   ticketcount          int64  \n",
      " 3   revenue              float64\n",
      " 4   isplanproduct        bool   \n",
      " 5   producttype          object \n",
      " 6   subproductname       object \n",
      " 7   seasonyear           int64  \n",
      "dtypes: bool(1), float64(1), int64(3), object(3)\n",
      "memory usage: 214.7+ MB\n"
     ]
    }
   ],
   "source": [
    "df = pd.read_parquet(\"./data/ptb_ticket_purchases_all.parquet\")\n",
    "df.info()"
   ]
  },
  {
   "cell_type": "code",
   "execution_count": 19,
   "id": "7a1e3978",
   "metadata": {},
   "outputs": [
    {
     "data": {
      "text/html": [
       "<div>\n",
       "<style scoped>\n",
       "    .dataframe tbody tr th:only-of-type {\n",
       "        vertical-align: middle;\n",
       "    }\n",
       "\n",
       "    .dataframe tbody tr th {\n",
       "        vertical-align: top;\n",
       "    }\n",
       "\n",
       "    .dataframe thead th {\n",
       "        text-align: right;\n",
       "    }\n",
       "</style>\n",
       "<table border=\"1\" class=\"dataframe\">\n",
       "  <thead>\n",
       "    <tr style=\"text-align: right;\">\n",
       "      <th></th>\n",
       "      <th>dimcustomermasterid</th>\n",
       "      <th>purchasedate</th>\n",
       "      <th>ticketcount</th>\n",
       "      <th>revenue</th>\n",
       "      <th>isplanproduct</th>\n",
       "      <th>producttype</th>\n",
       "      <th>subproductname</th>\n",
       "      <th>seasonyear</th>\n",
       "    </tr>\n",
       "  </thead>\n",
       "  <tbody>\n",
       "    <tr>\n",
       "      <th>0</th>\n",
       "      <td>3</td>\n",
       "      <td>2017-11-21</td>\n",
       "      <td>3</td>\n",
       "      <td>75.0</td>\n",
       "      <td>False</td>\n",
       "      <td>Other</td>\n",
       "      <td>Group</td>\n",
       "      <td>2017</td>\n",
       "    </tr>\n",
       "    <tr>\n",
       "      <th>1</th>\n",
       "      <td>16</td>\n",
       "      <td>2018-02-02</td>\n",
       "      <td>2</td>\n",
       "      <td>85.0</td>\n",
       "      <td>True</td>\n",
       "      <td>Package</td>\n",
       "      <td>Half Season</td>\n",
       "      <td>2017</td>\n",
       "    </tr>\n",
       "    <tr>\n",
       "      <th>2</th>\n",
       "      <td>16</td>\n",
       "      <td>2018-02-02</td>\n",
       "      <td>2</td>\n",
       "      <td>85.0</td>\n",
       "      <td>True</td>\n",
       "      <td>Package</td>\n",
       "      <td>Half Season</td>\n",
       "      <td>2017</td>\n",
       "    </tr>\n",
       "    <tr>\n",
       "      <th>3</th>\n",
       "      <td>48</td>\n",
       "      <td>2019-02-05</td>\n",
       "      <td>1</td>\n",
       "      <td>10.0</td>\n",
       "      <td>False</td>\n",
       "      <td>Individual</td>\n",
       "      <td>Individual</td>\n",
       "      <td>2018</td>\n",
       "    </tr>\n",
       "    <tr>\n",
       "      <th>4</th>\n",
       "      <td>87</td>\n",
       "      <td>2021-05-28</td>\n",
       "      <td>2</td>\n",
       "      <td>144.0</td>\n",
       "      <td>False</td>\n",
       "      <td>Individual</td>\n",
       "      <td>Individual</td>\n",
       "      <td>2020</td>\n",
       "    </tr>\n",
       "  </tbody>\n",
       "</table>\n",
       "</div>"
      ],
      "text/plain": [
       "   dimcustomermasterid purchasedate  ticketcount  revenue  isplanproduct  \\\n",
       "0                    3   2017-11-21            3     75.0          False   \n",
       "1                   16   2018-02-02            2     85.0           True   \n",
       "2                   16   2018-02-02            2     85.0           True   \n",
       "3                   48   2019-02-05            1     10.0          False   \n",
       "4                   87   2021-05-28            2    144.0          False   \n",
       "\n",
       "  producttype subproductname  seasonyear  \n",
       "0       Other          Group        2017  \n",
       "1     Package    Half Season        2017  \n",
       "2     Package    Half Season        2017  \n",
       "3  Individual     Individual        2018  \n",
       "4  Individual     Individual        2020  "
      ]
     },
     "execution_count": 19,
     "metadata": {},
     "output_type": "execute_result"
    }
   ],
   "source": [
    "df.head()"
   ]
  },
  {
   "cell_type": "markdown",
   "id": "ea0f7929",
   "metadata": {},
   "source": [
    "For our analysis we will only consider **non-package buyers**, let's see how much data we have for NP buyers and what sub-products are included:"
   ]
  },
  {
   "cell_type": "code",
   "execution_count": 20,
   "id": "2caadb5a",
   "metadata": {},
   "outputs": [
    {
     "data": {
      "text/plain": [
       "False    2931853\n",
       "True     1017557\n",
       "Name: isplanproduct, dtype: int64"
      ]
     },
     "execution_count": 20,
     "metadata": {},
     "output_type": "execute_result"
    }
   ],
   "source": [
    "df['isplanproduct'].value_counts()"
   ]
  },
  {
   "cell_type": "markdown",
   "id": "9d116b0b",
   "metadata": {},
   "source": [
    "Remove the rows where isplanproduct = True:"
   ]
  },
  {
   "cell_type": "code",
   "execution_count": 21,
   "id": "77c5240d",
   "metadata": {},
   "outputs": [
    {
     "name": "stdout",
     "output_type": "stream",
     "text": [
      "<class 'pandas.core.frame.DataFrame'>\n",
      "Int64Index: 2931853 entries, 0 to 3949409\n",
      "Data columns (total 7 columns):\n",
      " #   Column               Dtype  \n",
      "---  ------               -----  \n",
      " 0   dimcustomermasterid  int64  \n",
      " 1   purchasedate         object \n",
      " 2   ticketcount          int64  \n",
      " 3   revenue              float64\n",
      " 4   producttype          object \n",
      " 5   subproductname       object \n",
      " 6   seasonyear           int64  \n",
      "dtypes: float64(1), int64(3), object(3)\n",
      "memory usage: 178.9+ MB\n"
     ]
    }
   ],
   "source": [
    "df = df[df['isplanproduct'] == False]\n",
    "\n",
    "df.drop(columns=[\"isplanproduct\"], inplace=True)\n",
    "\n",
    "df.info()"
   ]
  },
  {
   "cell_type": "markdown",
   "id": "5c8d230e",
   "metadata": {},
   "source": [
    "Let's include data from 2018 to present in our analysis:"
   ]
  },
  {
   "cell_type": "code",
   "execution_count": 22,
   "id": "8dad8040",
   "metadata": {},
   "outputs": [
    {
     "data": {
      "text/plain": [
       "(2471314, 7)"
      ]
     },
     "execution_count": 22,
     "metadata": {},
     "output_type": "execute_result"
    }
   ],
   "source": [
    "df = df[df[\"seasonyear\"] >= 2018]\n",
    "df.shape"
   ]
  },
  {
   "cell_type": "markdown",
   "id": "87cb9674",
   "metadata": {},
   "source": [
    "We'll also have a look at the included product and subproduct types:"
   ]
  },
  {
   "cell_type": "code",
   "execution_count": 23,
   "id": "4ac8ec5e",
   "metadata": {},
   "outputs": [
    {
     "data": {
      "text/plain": [
       "Individual    2246352\n",
       "Comp           142473\n",
       "Other           82489\n",
       "Name: producttype, dtype: int64"
      ]
     },
     "execution_count": 23,
     "metadata": {},
     "output_type": "execute_result"
    }
   ],
   "source": [
    "df[\"producttype\"].value_counts()"
   ]
  },
  {
   "cell_type": "code",
   "execution_count": 24,
   "id": "18fb76ca",
   "metadata": {},
   "outputs": [
    {
     "data": {
      "text/plain": [
       "Individual           2245724\n",
       "Comp                  141707\n",
       "Suite                  39145\n",
       "Group                  38697\n",
       "Deposit                 1842\n",
       "Group Broker            1459\n",
       "Suite Broker            1345\n",
       "Comp Broker              766\n",
       "Individual Broker        628\n",
       "Deposit Broker             1\n",
       "Name: subproductname, dtype: int64"
      ]
     },
     "execution_count": 24,
     "metadata": {},
     "output_type": "execute_result"
    }
   ],
   "source": [
    "df[\"subproductname\"].value_counts()"
   ]
  },
  {
   "cell_type": "markdown",
   "id": "6e607771",
   "metadata": {},
   "source": [
    "Let's remove the broker records so we are looking at actual customers:"
   ]
  },
  {
   "cell_type": "code",
   "execution_count": 25,
   "id": "f2915acd",
   "metadata": {},
   "outputs": [
    {
     "data": {
      "text/plain": [
       "Individual    2245724\n",
       "Comp           141707\n",
       "Suite           39145\n",
       "Group           38697\n",
       "Deposit          1842\n",
       "Name: subproductname, dtype: int64"
      ]
     },
     "execution_count": 25,
     "metadata": {},
     "output_type": "execute_result"
    }
   ],
   "source": [
    "df = df[df[\"subproductname\"].isin([\"Individual\", \"Comp\", \"Suite\", \"Group\", \"Deposit\"])]\n",
    "df.reset_index(drop=True, inplace=True)\n",
    "\n",
    "df[\"subproductname\"].value_counts()"
   ]
  },
  {
   "cell_type": "code",
   "execution_count": 26,
   "id": "d153541f",
   "metadata": {},
   "outputs": [
    {
     "data": {
      "text/html": [
       "<div>\n",
       "<style scoped>\n",
       "    .dataframe tbody tr th:only-of-type {\n",
       "        vertical-align: middle;\n",
       "    }\n",
       "\n",
       "    .dataframe tbody tr th {\n",
       "        vertical-align: top;\n",
       "    }\n",
       "\n",
       "    .dataframe thead th {\n",
       "        text-align: right;\n",
       "    }\n",
       "</style>\n",
       "<table border=\"1\" class=\"dataframe\">\n",
       "  <thead>\n",
       "    <tr style=\"text-align: right;\">\n",
       "      <th></th>\n",
       "      <th>dimcustomermasterid</th>\n",
       "      <th>purchasedate</th>\n",
       "      <th>ticketcount</th>\n",
       "      <th>revenue</th>\n",
       "      <th>producttype</th>\n",
       "      <th>subproductname</th>\n",
       "      <th>seasonyear</th>\n",
       "    </tr>\n",
       "  </thead>\n",
       "  <tbody>\n",
       "    <tr>\n",
       "      <th>0</th>\n",
       "      <td>48</td>\n",
       "      <td>2019-02-05</td>\n",
       "      <td>1</td>\n",
       "      <td>10.0</td>\n",
       "      <td>Individual</td>\n",
       "      <td>Individual</td>\n",
       "      <td>2018</td>\n",
       "    </tr>\n",
       "    <tr>\n",
       "      <th>1</th>\n",
       "      <td>87</td>\n",
       "      <td>2021-05-28</td>\n",
       "      <td>2</td>\n",
       "      <td>144.0</td>\n",
       "      <td>Individual</td>\n",
       "      <td>Individual</td>\n",
       "      <td>2020</td>\n",
       "    </tr>\n",
       "    <tr>\n",
       "      <th>2</th>\n",
       "      <td>95</td>\n",
       "      <td>2021-05-24</td>\n",
       "      <td>4</td>\n",
       "      <td>160.0</td>\n",
       "      <td>Individual</td>\n",
       "      <td>Individual</td>\n",
       "      <td>2020</td>\n",
       "    </tr>\n",
       "    <tr>\n",
       "      <th>3</th>\n",
       "      <td>35</td>\n",
       "      <td>2020-02-08</td>\n",
       "      <td>5</td>\n",
       "      <td>90.0</td>\n",
       "      <td>Individual</td>\n",
       "      <td>Individual</td>\n",
       "      <td>2019</td>\n",
       "    </tr>\n",
       "    <tr>\n",
       "      <th>4</th>\n",
       "      <td>70</td>\n",
       "      <td>2019-03-27</td>\n",
       "      <td>1</td>\n",
       "      <td>116.5</td>\n",
       "      <td>Individual</td>\n",
       "      <td>Individual</td>\n",
       "      <td>2018</td>\n",
       "    </tr>\n",
       "    <tr>\n",
       "      <th>5</th>\n",
       "      <td>20</td>\n",
       "      <td>2019-02-27</td>\n",
       "      <td>8</td>\n",
       "      <td>112.0</td>\n",
       "      <td>Individual</td>\n",
       "      <td>Individual</td>\n",
       "      <td>2018</td>\n",
       "    </tr>\n",
       "    <tr>\n",
       "      <th>6</th>\n",
       "      <td>48</td>\n",
       "      <td>2019-02-05</td>\n",
       "      <td>1</td>\n",
       "      <td>10.0</td>\n",
       "      <td>Individual</td>\n",
       "      <td>Individual</td>\n",
       "      <td>2018</td>\n",
       "    </tr>\n",
       "    <tr>\n",
       "      <th>7</th>\n",
       "      <td>95</td>\n",
       "      <td>2021-05-06</td>\n",
       "      <td>2</td>\n",
       "      <td>134.0</td>\n",
       "      <td>Individual</td>\n",
       "      <td>Individual</td>\n",
       "      <td>2020</td>\n",
       "    </tr>\n",
       "    <tr>\n",
       "      <th>8</th>\n",
       "      <td>95</td>\n",
       "      <td>2021-05-24</td>\n",
       "      <td>5</td>\n",
       "      <td>200.0</td>\n",
       "      <td>Individual</td>\n",
       "      <td>Individual</td>\n",
       "      <td>2020</td>\n",
       "    </tr>\n",
       "    <tr>\n",
       "      <th>9</th>\n",
       "      <td>41</td>\n",
       "      <td>2021-09-15</td>\n",
       "      <td>2</td>\n",
       "      <td>242.0</td>\n",
       "      <td>Individual</td>\n",
       "      <td>Individual</td>\n",
       "      <td>2021</td>\n",
       "    </tr>\n",
       "  </tbody>\n",
       "</table>\n",
       "</div>"
      ],
      "text/plain": [
       "   dimcustomermasterid purchasedate  ticketcount  revenue producttype  \\\n",
       "0                   48   2019-02-05            1     10.0  Individual   \n",
       "1                   87   2021-05-28            2    144.0  Individual   \n",
       "2                   95   2021-05-24            4    160.0  Individual   \n",
       "3                   35   2020-02-08            5     90.0  Individual   \n",
       "4                   70   2019-03-27            1    116.5  Individual   \n",
       "5                   20   2019-02-27            8    112.0  Individual   \n",
       "6                   48   2019-02-05            1     10.0  Individual   \n",
       "7                   95   2021-05-06            2    134.0  Individual   \n",
       "8                   95   2021-05-24            5    200.0  Individual   \n",
       "9                   41   2021-09-15            2    242.0  Individual   \n",
       "\n",
       "  subproductname  seasonyear  \n",
       "0     Individual        2018  \n",
       "1     Individual        2020  \n",
       "2     Individual        2020  \n",
       "3     Individual        2019  \n",
       "4     Individual        2018  \n",
       "5     Individual        2018  \n",
       "6     Individual        2018  \n",
       "7     Individual        2020  \n",
       "8     Individual        2020  \n",
       "9     Individual        2021  "
      ]
     },
     "execution_count": 26,
     "metadata": {},
     "output_type": "execute_result"
    }
   ],
   "source": [
    "df.head(10)"
   ]
  },
  {
   "cell_type": "markdown",
   "id": "10f35c85-4ba4-4bdd-8238-3dc41da2cb5a",
   "metadata": {},
   "source": [
    "### Exploratory Data Analysis (EDA)\n",
    "\n",
    "Let's have a look at the data and decide whether we need any data cleaning and data transformation for further analysis."
   ]
  },
  {
   "cell_type": "markdown",
   "id": "4b8c8591",
   "metadata": {},
   "source": [
    "By reading the profiling report, we can see that the following actions should be taken to improve the dataset quality:\n",
    "* Remove missing values from revenue (23.3%)\n",
    "* Remove zero values from revenue (6.8%)"
   ]
  },
  {
   "cell_type": "code",
   "execution_count": 27,
   "id": "fb7630f5",
   "metadata": {},
   "outputs": [],
   "source": [
    "df.dropna(subset=['revenue'], inplace=True)"
   ]
  },
  {
   "cell_type": "markdown",
   "id": "96055091",
   "metadata": {},
   "source": [
    "Let's check NULL records in the revenue column"
   ]
  },
  {
   "cell_type": "code",
   "execution_count": 28,
   "id": "4839d073",
   "metadata": {},
   "outputs": [
    {
     "data": {
      "text/plain": [
       "0"
      ]
     },
     "execution_count": 28,
     "metadata": {},
     "output_type": "execute_result"
    }
   ],
   "source": [
    "df['revenue'].isnull().sum()"
   ]
  },
  {
   "cell_type": "markdown",
   "id": "0c61392c",
   "metadata": {},
   "source": [
    "Let's also drop any rows where revenue = 0, and then check the value counts to ensure the zero values are gone"
   ]
  },
  {
   "cell_type": "code",
   "execution_count": 29,
   "id": "f8308914",
   "metadata": {},
   "outputs": [
    {
     "data": {
      "text/plain": [
       "(-0.001, 1000.0]       1424893\n",
       "(1000.0, 10000.0]        28898\n",
       "(10000.0, 100000.0]        208\n",
       "Name: revenue, dtype: int64"
      ]
     },
     "execution_count": 29,
     "metadata": {},
     "output_type": "execute_result"
    }
   ],
   "source": [
    "df = df[df['revenue'] > 0]\n",
    "df['revenue'].value_counts(bins=[0, 1000, 10000, 100000])"
   ]
  },
  {
   "cell_type": "markdown",
   "id": "52e37e52",
   "metadata": {},
   "source": [
    "### Data Types\n",
    "\n",
    "Let's look at the data types in our dataframe to see if we need to convert any values to a different type"
   ]
  },
  {
   "cell_type": "code",
   "execution_count": 30,
   "id": "bd104e2f",
   "metadata": {},
   "outputs": [
    {
     "data": {
      "text/plain": [
       "dimcustomermasterid      int64\n",
       "purchasedate            object\n",
       "ticketcount              int64\n",
       "revenue                float64\n",
       "producttype             object\n",
       "subproductname          object\n",
       "seasonyear               int64\n",
       "dtype: object"
      ]
     },
     "execution_count": 30,
     "metadata": {},
     "output_type": "execute_result"
    }
   ],
   "source": [
    "df.dtypes"
   ]
  },
  {
   "cell_type": "markdown",
   "id": "d6d5d591",
   "metadata": {},
   "source": [
    "Purchase date should be a datetime not an object (string), all of the other inferred data types look correct"
   ]
  },
  {
   "cell_type": "code",
   "execution_count": 31,
   "id": "1344b285",
   "metadata": {},
   "outputs": [],
   "source": [
    "df['purchasedate'] =  pd.to_datetime(df['purchasedate'], format='%Y-%m-%d')"
   ]
  },
  {
   "cell_type": "markdown",
   "id": "c6d228c9-3072-44b6-9d98-b2c8429a276f",
   "metadata": {},
   "source": [
    "### Distributions\n",
    "\n",
    "Let's look at the distributions for our three key fields: purchasedate, ticketcount and revenue"
   ]
  },
  {
   "cell_type": "code",
   "execution_count": 32,
   "id": "23d1e73c-a8e1-4cfe-a9d4-67d21be502b8",
   "metadata": {},
   "outputs": [
    {
     "data": {
      "text/plain": [
       "Text(0, 0.5, 'Fans')"
      ]
     },
     "execution_count": 32,
     "metadata": {},
     "output_type": "execute_result"
    },
    {
     "data": {
      "image/png": "[encoded data removed]",
      "text/plain": [
       "<Figure size 576x396 with 1 Axes>"
      ]
     },
     "metadata": {},
     "output_type": "display_data"
    }
   ],
   "source": [
    "plt.hist(df[\"purchasedate\"], bins=20, color='dodgerblue', edgecolor='black')\n",
    "plt.title(\"Recency\", fontsize=16)\n",
    "plt.xlabel(\"Year\", fontsize=14)\n",
    "plt.ylabel(\"Fans\", fontsize=14)"
   ]
  },
  {
   "cell_type": "markdown",
   "id": "ddf24286",
   "metadata": {},
   "source": [
    "### Period of Time"
   ]
  },
  {
   "cell_type": "code",
   "execution_count": 33,
   "id": "dcea2104",
   "metadata": {},
   "outputs": [
    {
     "name": "stdout",
     "output_type": "stream",
     "text": [
      "Start Date: 2017-05-17 00:00:00\n",
      "End Date: 2022-07-14 00:00:00\n"
     ]
    }
   ],
   "source": [
    "print(f\"Start Date: {df['purchasedate'].min()}\")\n",
    "print(f\"End Date: {df['purchasedate'].max()}\")"
   ]
  },
  {
   "cell_type": "markdown",
   "id": "e82daef2",
   "metadata": {},
   "source": [
    "There was abnormally low purchasing during the 2020 season because of stadium closures due to the COVID-19 pandemic. There are also some outlier purchases from before 2017\n",
    "\n",
    "We may want to remove these from our training dataset, but let's leave them in for now"
   ]
  },
  {
   "cell_type": "code",
   "execution_count": 34,
   "id": "b394ae2f",
   "metadata": {},
   "outputs": [
    {
     "data": {
      "text/plain": [
       "Text(0, 0.5, 'Fans')"
      ]
     },
     "execution_count": 34,
     "metadata": {},
     "output_type": "execute_result"
    },
    {
     "data": {
      "image/png": "[encoded data removed]",
      "text/plain": [
       "<Figure size 576x396 with 1 Axes>"
      ]
     },
     "metadata": {},
     "output_type": "display_data"
    }
   ],
   "source": [
    "plt.hist(df[\"ticketcount\"], bins=20, color='dodgerblue', edgecolor='black')\n",
    "plt.title(\"Ticket Count\", fontsize=16)\n",
    "plt.xlabel(\"No. Tickets\", fontsize=14)\n",
    "plt.ylabel(\"Fans\", fontsize=14)"
   ]
  },
  {
   "cell_type": "code",
   "execution_count": 35,
   "id": "e4123cd5",
   "metadata": {},
   "outputs": [
    {
     "data": {
      "text/plain": [
       "(-0.001, 5.0]       1397196\n",
       "(5.0, 10.0]           43389\n",
       "(10.0, 50.0]          12528\n",
       "(50.0, 100.0]           579\n",
       "(100.0, 10000.0]        307\n",
       "Name: ticketcount, dtype: int64"
      ]
     },
     "execution_count": 35,
     "metadata": {},
     "output_type": "execute_result"
    }
   ],
   "source": [
    "df['ticketcount'].value_counts(bins=[0, 5, 10, 50, 100, 10000])"
   ]
  },
  {
   "cell_type": "markdown",
   "id": "90765e23",
   "metadata": {},
   "source": [
    "We can see that ticket count is highly skewed toward 1 ticket, we may want to remove the outliers here but let's leave it for now"
   ]
  },
  {
   "cell_type": "code",
   "execution_count": 36,
   "id": "f097fff3",
   "metadata": {},
   "outputs": [
    {
     "data": {
      "text/plain": [
       "Text(0, 0.5, 'Fans')"
      ]
     },
     "execution_count": 36,
     "metadata": {},
     "output_type": "execute_result"
    },
    {
     "data": {
      "image/png": "[encoded data removed]",
      "text/plain": [
       "<Figure size 576x396 with 1 Axes>"
      ]
     },
     "metadata": {},
     "output_type": "display_data"
    }
   ],
   "source": [
    "plt.hist(df[\"revenue\"], color='dodgerblue', edgecolor='black')\n",
    "plt.title(\"Revenue\", fontsize=16)\n",
    "plt.xlabel(\"Spend ($)\", fontsize=14)\n",
    "plt.ylabel(\"Fans\", fontsize=14)"
   ]
  },
  {
   "cell_type": "code",
   "execution_count": 37,
   "id": "bc8ce892",
   "metadata": {},
   "outputs": [
    {
     "data": {
      "text/plain": [
       "(100.0, 1000.0]          733893\n",
       "(-0.001, 100.0]          691000\n",
       "(1000.0, 10000.0]         28898\n",
       "(10000.0, 100000.0]         208\n",
       "(100000.0, 1000000.0]         0\n",
       "Name: revenue, dtype: int64"
      ]
     },
     "execution_count": 37,
     "metadata": {},
     "output_type": "execute_result"
    }
   ],
   "source": [
    "df.revenue.value_counts(bins=[0, 100, 1000, 10000, 100000, 1000000])"
   ]
  },
  {
   "cell_type": "code",
   "execution_count": 38,
   "id": "7cc1a4fb",
   "metadata": {},
   "outputs": [
    {
     "data": {
      "text/html": [
       "<div>\n",
       "<style scoped>\n",
       "    .dataframe tbody tr th:only-of-type {\n",
       "        vertical-align: middle;\n",
       "    }\n",
       "\n",
       "    .dataframe tbody tr th {\n",
       "        vertical-align: top;\n",
       "    }\n",
       "\n",
       "    .dataframe thead th {\n",
       "        text-align: right;\n",
       "    }\n",
       "</style>\n",
       "<table border=\"1\" class=\"dataframe\">\n",
       "  <thead>\n",
       "    <tr style=\"text-align: right;\">\n",
       "      <th></th>\n",
       "      <th>dimcustomermasterid</th>\n",
       "      <th>purchasedate</th>\n",
       "      <th>ticketcount</th>\n",
       "      <th>revenue</th>\n",
       "      <th>producttype</th>\n",
       "      <th>subproductname</th>\n",
       "      <th>seasonyear</th>\n",
       "    </tr>\n",
       "  </thead>\n",
       "  <tbody>\n",
       "    <tr>\n",
       "      <th>2515</th>\n",
       "      <td>18935</td>\n",
       "      <td>2019-08-26</td>\n",
       "      <td>64</td>\n",
       "      <td>11885.70</td>\n",
       "      <td>Other</td>\n",
       "      <td>Suite</td>\n",
       "      <td>2019</td>\n",
       "    </tr>\n",
       "    <tr>\n",
       "      <th>2869</th>\n",
       "      <td>22798</td>\n",
       "      <td>2020-11-24</td>\n",
       "      <td>4</td>\n",
       "      <td>12154.64</td>\n",
       "      <td>Individual</td>\n",
       "      <td>Individual</td>\n",
       "      <td>2020</td>\n",
       "    </tr>\n",
       "    <tr>\n",
       "      <th>3096</th>\n",
       "      <td>19413</td>\n",
       "      <td>2018-10-25</td>\n",
       "      <td>16</td>\n",
       "      <td>14505.04</td>\n",
       "      <td>Other</td>\n",
       "      <td>Suite</td>\n",
       "      <td>2018</td>\n",
       "    </tr>\n",
       "    <tr>\n",
       "      <th>3387</th>\n",
       "      <td>18935</td>\n",
       "      <td>2018-10-25</td>\n",
       "      <td>68</td>\n",
       "      <td>11657.14</td>\n",
       "      <td>Other</td>\n",
       "      <td>Suite</td>\n",
       "      <td>2018</td>\n",
       "    </tr>\n",
       "    <tr>\n",
       "      <th>5894</th>\n",
       "      <td>45511</td>\n",
       "      <td>2018-10-25</td>\n",
       "      <td>43</td>\n",
       "      <td>11629.55</td>\n",
       "      <td>Other</td>\n",
       "      <td>Suite</td>\n",
       "      <td>2018</td>\n",
       "    </tr>\n",
       "  </tbody>\n",
       "</table>\n",
       "</div>"
      ],
      "text/plain": [
       "      dimcustomermasterid purchasedate  ticketcount   revenue producttype  \\\n",
       "2515                18935   2019-08-26           64  11885.70       Other   \n",
       "2869                22798   2020-11-24            4  12154.64  Individual   \n",
       "3096                19413   2018-10-25           16  14505.04       Other   \n",
       "3387                18935   2018-10-25           68  11657.14       Other   \n",
       "5894                45511   2018-10-25           43  11629.55       Other   \n",
       "\n",
       "     subproductname  seasonyear  \n",
       "2515          Suite        2019  \n",
       "2869     Individual        2020  \n",
       "3096          Suite        2018  \n",
       "3387          Suite        2018  \n",
       "5894          Suite        2018  "
      ]
     },
     "execution_count": 38,
     "metadata": {},
     "output_type": "execute_result"
    }
   ],
   "source": [
    "df_big_spenders = df[df['revenue'] > 10000]\n",
    "df_big_spenders.head()"
   ]
  },
  {
   "cell_type": "markdown",
   "id": "e0dd4632",
   "metadata": {},
   "source": [
    "Most fans spend between 1 and 1000 dollars on a purchase, but some spend much more (df_big_spenders), we may want to remove these outliers but let's leave them in for now"
   ]
  },
  {
   "cell_type": "markdown",
   "id": "49f17803",
   "metadata": {},
   "source": [
    "### Model Training\n",
    "We need to create training and evaluation datasets to train our regression model and evaluate the model performance against unseen data points\n"
   ]
  },
  {
   "cell_type": "code",
   "execution_count": 39,
   "id": "81bf29d3",
   "metadata": {},
   "outputs": [
    {
     "name": "stdout",
     "output_type": "stream",
     "text": [
      "Data for Modeling: (1235899, 7)\n",
      "Unseen Data For Predictions: (218100, 7)\n",
      "\n"
     ]
    }
   ],
   "source": [
    "df_dataset = df\n",
    "\n",
    "df_train = df_dataset.sample(frac=0.85, random_state=786)\n",
    "df_eval = df_dataset.drop(df_train.index)\n",
    "\n",
    "df_train.reset_index(drop=True, inplace=True)\n",
    "df_eval.reset_index(drop=True, inplace=True)\n",
    "\n",
    "print('Data for Modeling: ' + str(df_train.shape))\n",
    "print('Unseen Data For Predictions: ' + str(df_eval.shape), end=\"\\n\\n\")"
   ]
  },
  {
   "cell_type": "code",
   "execution_count": 41,
   "id": "87620c5f",
   "metadata": {},
   "outputs": [
    {
     "data": {
      "text/html": [
       "<style type=\"text/css\">\n",
       "#T_88266_row42_col1 {\n",
       "  background-color: lightgreen;\n",
       "}\n",
       "</style>\n",
       "<table id=\"T_88266_\">\n",
       "  <thead>\n",
       "    <tr>\n",
       "      <th class=\"blank level0\" >&nbsp;</th>\n",
       "      <th class=\"col_heading level0 col0\" >Description</th>\n",
       "      <th class=\"col_heading level0 col1\" >Value</th>\n",
       "    </tr>\n",
       "  </thead>\n",
       "  <tbody>\n",
       "    <tr>\n",
       "      <th id=\"T_88266_level0_row0\" class=\"row_heading level0 row0\" >0</th>\n",
       "      <td id=\"T_88266_row0_col0\" class=\"data row0 col0\" >session_id</td>\n",
       "      <td id=\"T_88266_row0_col1\" class=\"data row0 col1\" >123</td>\n",
       "    </tr>\n",
       "    <tr>\n",
       "      <th id=\"T_88266_level0_row1\" class=\"row_heading level0 row1\" >1</th>\n",
       "      <td id=\"T_88266_row1_col0\" class=\"data row1 col0\" >Target</td>\n",
       "      <td id=\"T_88266_row1_col1\" class=\"data row1 col1\" >revenue</td>\n",
       "    </tr>\n",
       "    <tr>\n",
       "      <th id=\"T_88266_level0_row2\" class=\"row_heading level0 row2\" >2</th>\n",
       "      <td id=\"T_88266_row2_col0\" class=\"data row2 col0\" >Original Data</td>\n",
       "      <td id=\"T_88266_row2_col1\" class=\"data row2 col1\" >(1235899, 7)</td>\n",
       "    </tr>\n",
       "    <tr>\n",
       "      <th id=\"T_88266_level0_row3\" class=\"row_heading level0 row3\" >3</th>\n",
       "      <td id=\"T_88266_row3_col0\" class=\"data row3 col0\" >Missing Values</td>\n",
       "      <td id=\"T_88266_row3_col1\" class=\"data row3 col1\" >False</td>\n",
       "    </tr>\n",
       "    <tr>\n",
       "      <th id=\"T_88266_level0_row4\" class=\"row_heading level0 row4\" >4</th>\n",
       "      <td id=\"T_88266_row4_col0\" class=\"data row4 col0\" >Numeric Features</td>\n",
       "      <td id=\"T_88266_row4_col1\" class=\"data row4 col1\" >1</td>\n",
       "    </tr>\n",
       "    <tr>\n",
       "      <th id=\"T_88266_level0_row5\" class=\"row_heading level0 row5\" >5</th>\n",
       "      <td id=\"T_88266_row5_col0\" class=\"data row5 col0\" >Categorical Features</td>\n",
       "      <td id=\"T_88266_row5_col1\" class=\"data row5 col1\" >0</td>\n",
       "    </tr>\n",
       "    <tr>\n",
       "      <th id=\"T_88266_level0_row6\" class=\"row_heading level0 row6\" >6</th>\n",
       "      <td id=\"T_88266_row6_col0\" class=\"data row6 col0\" >Ordinal Features</td>\n",
       "      <td id=\"T_88266_row6_col1\" class=\"data row6 col1\" >False</td>\n",
       "    </tr>\n",
       "    <tr>\n",
       "      <th id=\"T_88266_level0_row7\" class=\"row_heading level0 row7\" >7</th>\n",
       "      <td id=\"T_88266_row7_col0\" class=\"data row7 col0\" >High Cardinality Features</td>\n",
       "      <td id=\"T_88266_row7_col1\" class=\"data row7 col1\" >False</td>\n",
       "    </tr>\n",
       "    <tr>\n",
       "      <th id=\"T_88266_level0_row8\" class=\"row_heading level0 row8\" >8</th>\n",
       "      <td id=\"T_88266_row8_col0\" class=\"data row8 col0\" >High Cardinality Method</td>\n",
       "      <td id=\"T_88266_row8_col1\" class=\"data row8 col1\" >None</td>\n",
       "    </tr>\n",
       "    <tr>\n",
       "      <th id=\"T_88266_level0_row9\" class=\"row_heading level0 row9\" >9</th>\n",
       "      <td id=\"T_88266_row9_col0\" class=\"data row9 col0\" >Transformed Train Set</td>\n",
       "      <td id=\"T_88266_row9_col1\" class=\"data row9 col1\" >(865129, 22)</td>\n",
       "    </tr>\n",
       "    <tr>\n",
       "      <th id=\"T_88266_level0_row10\" class=\"row_heading level0 row10\" >10</th>\n",
       "      <td id=\"T_88266_row10_col0\" class=\"data row10 col0\" >Transformed Test Set</td>\n",
       "      <td id=\"T_88266_row10_col1\" class=\"data row10 col1\" >(370770, 22)</td>\n",
       "    </tr>\n",
       "    <tr>\n",
       "      <th id=\"T_88266_level0_row11\" class=\"row_heading level0 row11\" >11</th>\n",
       "      <td id=\"T_88266_row11_col0\" class=\"data row11 col0\" >Shuffle Train-Test</td>\n",
       "      <td id=\"T_88266_row11_col1\" class=\"data row11 col1\" >True</td>\n",
       "    </tr>\n",
       "    <tr>\n",
       "      <th id=\"T_88266_level0_row12\" class=\"row_heading level0 row12\" >12</th>\n",
       "      <td id=\"T_88266_row12_col0\" class=\"data row12 col0\" >Stratify Train-Test</td>\n",
       "      <td id=\"T_88266_row12_col1\" class=\"data row12 col1\" >False</td>\n",
       "    </tr>\n",
       "    <tr>\n",
       "      <th id=\"T_88266_level0_row13\" class=\"row_heading level0 row13\" >13</th>\n",
       "      <td id=\"T_88266_row13_col0\" class=\"data row13 col0\" >Fold Generator</td>\n",
       "      <td id=\"T_88266_row13_col1\" class=\"data row13 col1\" >KFold</td>\n",
       "    </tr>\n",
       "    <tr>\n",
       "      <th id=\"T_88266_level0_row14\" class=\"row_heading level0 row14\" >14</th>\n",
       "      <td id=\"T_88266_row14_col0\" class=\"data row14 col0\" >Fold Number</td>\n",
       "      <td id=\"T_88266_row14_col1\" class=\"data row14 col1\" >10</td>\n",
       "    </tr>\n",
       "    <tr>\n",
       "      <th id=\"T_88266_level0_row15\" class=\"row_heading level0 row15\" >15</th>\n",
       "      <td id=\"T_88266_row15_col0\" class=\"data row15 col0\" >CPU Jobs</td>\n",
       "      <td id=\"T_88266_row15_col1\" class=\"data row15 col1\" >-1</td>\n",
       "    </tr>\n",
       "    <tr>\n",
       "      <th id=\"T_88266_level0_row16\" class=\"row_heading level0 row16\" >16</th>\n",
       "      <td id=\"T_88266_row16_col0\" class=\"data row16 col0\" >Use GPU</td>\n",
       "      <td id=\"T_88266_row16_col1\" class=\"data row16 col1\" >False</td>\n",
       "    </tr>\n",
       "    <tr>\n",
       "      <th id=\"T_88266_level0_row17\" class=\"row_heading level0 row17\" >17</th>\n",
       "      <td id=\"T_88266_row17_col0\" class=\"data row17 col0\" >Log Experiment</td>\n",
       "      <td id=\"T_88266_row17_col1\" class=\"data row17 col1\" >False</td>\n",
       "    </tr>\n",
       "    <tr>\n",
       "      <th id=\"T_88266_level0_row18\" class=\"row_heading level0 row18\" >18</th>\n",
       "      <td id=\"T_88266_row18_col0\" class=\"data row18 col0\" >Experiment Name</td>\n",
       "      <td id=\"T_88266_row18_col1\" class=\"data row18 col1\" >reg-default-name</td>\n",
       "    </tr>\n",
       "    <tr>\n",
       "      <th id=\"T_88266_level0_row19\" class=\"row_heading level0 row19\" >19</th>\n",
       "      <td id=\"T_88266_row19_col0\" class=\"data row19 col0\" >USI</td>\n",
       "      <td id=\"T_88266_row19_col1\" class=\"data row19 col1\" >8bb7</td>\n",
       "    </tr>\n",
       "    <tr>\n",
       "      <th id=\"T_88266_level0_row20\" class=\"row_heading level0 row20\" >20</th>\n",
       "      <td id=\"T_88266_row20_col0\" class=\"data row20 col0\" >Imputation Type</td>\n",
       "      <td id=\"T_88266_row20_col1\" class=\"data row20 col1\" >simple</td>\n",
       "    </tr>\n",
       "    <tr>\n",
       "      <th id=\"T_88266_level0_row21\" class=\"row_heading level0 row21\" >21</th>\n",
       "      <td id=\"T_88266_row21_col0\" class=\"data row21 col0\" >Iterative Imputation Iteration</td>\n",
       "      <td id=\"T_88266_row21_col1\" class=\"data row21 col1\" >None</td>\n",
       "    </tr>\n",
       "    <tr>\n",
       "      <th id=\"T_88266_level0_row22\" class=\"row_heading level0 row22\" >22</th>\n",
       "      <td id=\"T_88266_row22_col0\" class=\"data row22 col0\" >Numeric Imputer</td>\n",
       "      <td id=\"T_88266_row22_col1\" class=\"data row22 col1\" >mean</td>\n",
       "    </tr>\n",
       "    <tr>\n",
       "      <th id=\"T_88266_level0_row23\" class=\"row_heading level0 row23\" >23</th>\n",
       "      <td id=\"T_88266_row23_col0\" class=\"data row23 col0\" >Iterative Imputation Numeric Model</td>\n",
       "      <td id=\"T_88266_row23_col1\" class=\"data row23 col1\" >None</td>\n",
       "    </tr>\n",
       "    <tr>\n",
       "      <th id=\"T_88266_level0_row24\" class=\"row_heading level0 row24\" >24</th>\n",
       "      <td id=\"T_88266_row24_col0\" class=\"data row24 col0\" >Categorical Imputer</td>\n",
       "      <td id=\"T_88266_row24_col1\" class=\"data row24 col1\" >constant</td>\n",
       "    </tr>\n",
       "    <tr>\n",
       "      <th id=\"T_88266_level0_row25\" class=\"row_heading level0 row25\" >25</th>\n",
       "      <td id=\"T_88266_row25_col0\" class=\"data row25 col0\" >Iterative Imputation Categorical Model</td>\n",
       "      <td id=\"T_88266_row25_col1\" class=\"data row25 col1\" >None</td>\n",
       "    </tr>\n",
       "    <tr>\n",
       "      <th id=\"T_88266_level0_row26\" class=\"row_heading level0 row26\" >26</th>\n",
       "      <td id=\"T_88266_row26_col0\" class=\"data row26 col0\" >Unknown Categoricals Handling</td>\n",
       "      <td id=\"T_88266_row26_col1\" class=\"data row26 col1\" >least_frequent</td>\n",
       "    </tr>\n",
       "    <tr>\n",
       "      <th id=\"T_88266_level0_row27\" class=\"row_heading level0 row27\" >27</th>\n",
       "      <td id=\"T_88266_row27_col0\" class=\"data row27 col0\" >Normalize</td>\n",
       "      <td id=\"T_88266_row27_col1\" class=\"data row27 col1\" >False</td>\n",
       "    </tr>\n",
       "    <tr>\n",
       "      <th id=\"T_88266_level0_row28\" class=\"row_heading level0 row28\" >28</th>\n",
       "      <td id=\"T_88266_row28_col0\" class=\"data row28 col0\" >Normalize Method</td>\n",
       "      <td id=\"T_88266_row28_col1\" class=\"data row28 col1\" >None</td>\n",
       "    </tr>\n",
       "    <tr>\n",
       "      <th id=\"T_88266_level0_row29\" class=\"row_heading level0 row29\" >29</th>\n",
       "      <td id=\"T_88266_row29_col0\" class=\"data row29 col0\" >Transformation</td>\n",
       "      <td id=\"T_88266_row29_col1\" class=\"data row29 col1\" >False</td>\n",
       "    </tr>\n",
       "    <tr>\n",
       "      <th id=\"T_88266_level0_row30\" class=\"row_heading level0 row30\" >30</th>\n",
       "      <td id=\"T_88266_row30_col0\" class=\"data row30 col0\" >Transformation Method</td>\n",
       "      <td id=\"T_88266_row30_col1\" class=\"data row30 col1\" >None</td>\n",
       "    </tr>\n",
       "    <tr>\n",
       "      <th id=\"T_88266_level0_row31\" class=\"row_heading level0 row31\" >31</th>\n",
       "      <td id=\"T_88266_row31_col0\" class=\"data row31 col0\" >PCA</td>\n",
       "      <td id=\"T_88266_row31_col1\" class=\"data row31 col1\" >False</td>\n",
       "    </tr>\n",
       "    <tr>\n",
       "      <th id=\"T_88266_level0_row32\" class=\"row_heading level0 row32\" >32</th>\n",
       "      <td id=\"T_88266_row32_col0\" class=\"data row32 col0\" >PCA Method</td>\n",
       "      <td id=\"T_88266_row32_col1\" class=\"data row32 col1\" >None</td>\n",
       "    </tr>\n",
       "    <tr>\n",
       "      <th id=\"T_88266_level0_row33\" class=\"row_heading level0 row33\" >33</th>\n",
       "      <td id=\"T_88266_row33_col0\" class=\"data row33 col0\" >PCA Components</td>\n",
       "      <td id=\"T_88266_row33_col1\" class=\"data row33 col1\" >None</td>\n",
       "    </tr>\n",
       "    <tr>\n",
       "      <th id=\"T_88266_level0_row34\" class=\"row_heading level0 row34\" >34</th>\n",
       "      <td id=\"T_88266_row34_col0\" class=\"data row34 col0\" >Ignore Low Variance</td>\n",
       "      <td id=\"T_88266_row34_col1\" class=\"data row34 col1\" >False</td>\n",
       "    </tr>\n",
       "    <tr>\n",
       "      <th id=\"T_88266_level0_row35\" class=\"row_heading level0 row35\" >35</th>\n",
       "      <td id=\"T_88266_row35_col0\" class=\"data row35 col0\" >Combine Rare Levels</td>\n",
       "      <td id=\"T_88266_row35_col1\" class=\"data row35 col1\" >False</td>\n",
       "    </tr>\n",
       "    <tr>\n",
       "      <th id=\"T_88266_level0_row36\" class=\"row_heading level0 row36\" >36</th>\n",
       "      <td id=\"T_88266_row36_col0\" class=\"data row36 col0\" >Rare Level Threshold</td>\n",
       "      <td id=\"T_88266_row36_col1\" class=\"data row36 col1\" >None</td>\n",
       "    </tr>\n",
       "    <tr>\n",
       "      <th id=\"T_88266_level0_row37\" class=\"row_heading level0 row37\" >37</th>\n",
       "      <td id=\"T_88266_row37_col0\" class=\"data row37 col0\" >Numeric Binning</td>\n",
       "      <td id=\"T_88266_row37_col1\" class=\"data row37 col1\" >False</td>\n",
       "    </tr>\n",
       "    <tr>\n",
       "      <th id=\"T_88266_level0_row38\" class=\"row_heading level0 row38\" >38</th>\n",
       "      <td id=\"T_88266_row38_col0\" class=\"data row38 col0\" >Remove Outliers</td>\n",
       "      <td id=\"T_88266_row38_col1\" class=\"data row38 col1\" >False</td>\n",
       "    </tr>\n",
       "    <tr>\n",
       "      <th id=\"T_88266_level0_row39\" class=\"row_heading level0 row39\" >39</th>\n",
       "      <td id=\"T_88266_row39_col0\" class=\"data row39 col0\" >Outliers Threshold</td>\n",
       "      <td id=\"T_88266_row39_col1\" class=\"data row39 col1\" >None</td>\n",
       "    </tr>\n",
       "    <tr>\n",
       "      <th id=\"T_88266_level0_row40\" class=\"row_heading level0 row40\" >40</th>\n",
       "      <td id=\"T_88266_row40_col0\" class=\"data row40 col0\" >Remove Multicollinearity</td>\n",
       "      <td id=\"T_88266_row40_col1\" class=\"data row40 col1\" >False</td>\n",
       "    </tr>\n",
       "    <tr>\n",
       "      <th id=\"T_88266_level0_row41\" class=\"row_heading level0 row41\" >41</th>\n",
       "      <td id=\"T_88266_row41_col0\" class=\"data row41 col0\" >Multicollinearity Threshold</td>\n",
       "      <td id=\"T_88266_row41_col1\" class=\"data row41 col1\" >None</td>\n",
       "    </tr>\n",
       "    <tr>\n",
       "      <th id=\"T_88266_level0_row42\" class=\"row_heading level0 row42\" >42</th>\n",
       "      <td id=\"T_88266_row42_col0\" class=\"data row42 col0\" >Remove Perfect Collinearity</td>\n",
       "      <td id=\"T_88266_row42_col1\" class=\"data row42 col1\" >True</td>\n",
       "    </tr>\n",
       "    <tr>\n",
       "      <th id=\"T_88266_level0_row43\" class=\"row_heading level0 row43\" >43</th>\n",
       "      <td id=\"T_88266_row43_col0\" class=\"data row43 col0\" >Clustering</td>\n",
       "      <td id=\"T_88266_row43_col1\" class=\"data row43 col1\" >False</td>\n",
       "    </tr>\n",
       "    <tr>\n",
       "      <th id=\"T_88266_level0_row44\" class=\"row_heading level0 row44\" >44</th>\n",
       "      <td id=\"T_88266_row44_col0\" class=\"data row44 col0\" >Clustering Iteration</td>\n",
       "      <td id=\"T_88266_row44_col1\" class=\"data row44 col1\" >None</td>\n",
       "    </tr>\n",
       "    <tr>\n",
       "      <th id=\"T_88266_level0_row45\" class=\"row_heading level0 row45\" >45</th>\n",
       "      <td id=\"T_88266_row45_col0\" class=\"data row45 col0\" >Polynomial Features</td>\n",
       "      <td id=\"T_88266_row45_col1\" class=\"data row45 col1\" >False</td>\n",
       "    </tr>\n",
       "    <tr>\n",
       "      <th id=\"T_88266_level0_row46\" class=\"row_heading level0 row46\" >46</th>\n",
       "      <td id=\"T_88266_row46_col0\" class=\"data row46 col0\" >Polynomial Degree</td>\n",
       "      <td id=\"T_88266_row46_col1\" class=\"data row46 col1\" >None</td>\n",
       "    </tr>\n",
       "    <tr>\n",
       "      <th id=\"T_88266_level0_row47\" class=\"row_heading level0 row47\" >47</th>\n",
       "      <td id=\"T_88266_row47_col0\" class=\"data row47 col0\" >Trignometry Features</td>\n",
       "      <td id=\"T_88266_row47_col1\" class=\"data row47 col1\" >False</td>\n",
       "    </tr>\n",
       "    <tr>\n",
       "      <th id=\"T_88266_level0_row48\" class=\"row_heading level0 row48\" >48</th>\n",
       "      <td id=\"T_88266_row48_col0\" class=\"data row48 col0\" >Polynomial Threshold</td>\n",
       "      <td id=\"T_88266_row48_col1\" class=\"data row48 col1\" >None</td>\n",
       "    </tr>\n",
       "    <tr>\n",
       "      <th id=\"T_88266_level0_row49\" class=\"row_heading level0 row49\" >49</th>\n",
       "      <td id=\"T_88266_row49_col0\" class=\"data row49 col0\" >Group Features</td>\n",
       "      <td id=\"T_88266_row49_col1\" class=\"data row49 col1\" >False</td>\n",
       "    </tr>\n",
       "    <tr>\n",
       "      <th id=\"T_88266_level0_row50\" class=\"row_heading level0 row50\" >50</th>\n",
       "      <td id=\"T_88266_row50_col0\" class=\"data row50 col0\" >Feature Selection</td>\n",
       "      <td id=\"T_88266_row50_col1\" class=\"data row50 col1\" >False</td>\n",
       "    </tr>\n",
       "    <tr>\n",
       "      <th id=\"T_88266_level0_row51\" class=\"row_heading level0 row51\" >51</th>\n",
       "      <td id=\"T_88266_row51_col0\" class=\"data row51 col0\" >Feature Selection Method</td>\n",
       "      <td id=\"T_88266_row51_col1\" class=\"data row51 col1\" >classic</td>\n",
       "    </tr>\n",
       "    <tr>\n",
       "      <th id=\"T_88266_level0_row52\" class=\"row_heading level0 row52\" >52</th>\n",
       "      <td id=\"T_88266_row52_col0\" class=\"data row52 col0\" >Features Selection Threshold</td>\n",
       "      <td id=\"T_88266_row52_col1\" class=\"data row52 col1\" >None</td>\n",
       "    </tr>\n",
       "    <tr>\n",
       "      <th id=\"T_88266_level0_row53\" class=\"row_heading level0 row53\" >53</th>\n",
       "      <td id=\"T_88266_row53_col0\" class=\"data row53 col0\" >Feature Interaction</td>\n",
       "      <td id=\"T_88266_row53_col1\" class=\"data row53 col1\" >False</td>\n",
       "    </tr>\n",
       "    <tr>\n",
       "      <th id=\"T_88266_level0_row54\" class=\"row_heading level0 row54\" >54</th>\n",
       "      <td id=\"T_88266_row54_col0\" class=\"data row54 col0\" >Feature Ratio</td>\n",
       "      <td id=\"T_88266_row54_col1\" class=\"data row54 col1\" >False</td>\n",
       "    </tr>\n",
       "    <tr>\n",
       "      <th id=\"T_88266_level0_row55\" class=\"row_heading level0 row55\" >55</th>\n",
       "      <td id=\"T_88266_row55_col0\" class=\"data row55 col0\" >Interaction Threshold</td>\n",
       "      <td id=\"T_88266_row55_col1\" class=\"data row55 col1\" >None</td>\n",
       "    </tr>\n",
       "    <tr>\n",
       "      <th id=\"T_88266_level0_row56\" class=\"row_heading level0 row56\" >56</th>\n",
       "      <td id=\"T_88266_row56_col0\" class=\"data row56 col0\" >Transform Target</td>\n",
       "      <td id=\"T_88266_row56_col1\" class=\"data row56 col1\" >False</td>\n",
       "    </tr>\n",
       "    <tr>\n",
       "      <th id=\"T_88266_level0_row57\" class=\"row_heading level0 row57\" >57</th>\n",
       "      <td id=\"T_88266_row57_col0\" class=\"data row57 col0\" >Transform Target Method</td>\n",
       "      <td id=\"T_88266_row57_col1\" class=\"data row57 col1\" >box-cox</td>\n",
       "    </tr>\n",
       "  </tbody>\n",
       "</table>\n"
      ],
      "text/plain": [
       "<pandas.io.formats.style.Styler at 0x7fcefac696a0>"
      ]
     },
     "metadata": {},
     "output_type": "display_data"
    }
   ],
   "source": [
    "setup(\n",
    "    data = df_train, \n",
    "    date_features=[\"purchasedate\"],\n",
    "    ignore_features=[\"dimcustomermasterid\", \"producttype\", \"subproductname\", \"seasonyear\"],\n",
    "    target='revenue', \n",
    "    silent=True,\n",
    "    verbose=True,\n",
    "    session_id=123\n",
    ");"
   ]
  },
  {
   "cell_type": "markdown",
   "id": "f733a049",
   "metadata": {},
   "source": [
    "Let's look at the regression models we can experiment with"
   ]
  },
  {
   "cell_type": "code",
   "execution_count": 42,
   "id": "5dd0afc3",
   "metadata": {},
   "outputs": [
    {
     "data": {
      "text/html": [
       "<div>\n",
       "<style scoped>\n",
       "    .dataframe tbody tr th:only-of-type {\n",
       "        vertical-align: middle;\n",
       "    }\n",
       "\n",
       "    .dataframe tbody tr th {\n",
       "        vertical-align: top;\n",
       "    }\n",
       "\n",
       "    .dataframe thead th {\n",
       "        text-align: right;\n",
       "    }\n",
       "</style>\n",
       "<table border=\"1\" class=\"dataframe\">\n",
       "  <thead>\n",
       "    <tr style=\"text-align: right;\">\n",
       "      <th></th>\n",
       "      <th>Name</th>\n",
       "      <th>Reference</th>\n",
       "      <th>Turbo</th>\n",
       "    </tr>\n",
       "    <tr>\n",
       "      <th>ID</th>\n",
       "      <th></th>\n",
       "      <th></th>\n",
       "      <th></th>\n",
       "    </tr>\n",
       "  </thead>\n",
       "  <tbody>\n",
       "    <tr>\n",
       "      <th>lr</th>\n",
       "      <td>Linear Regression</td>\n",
       "      <td>sklearn.linear_model._base.LinearRegression</td>\n",
       "      <td>True</td>\n",
       "    </tr>\n",
       "    <tr>\n",
       "      <th>lasso</th>\n",
       "      <td>Lasso Regression</td>\n",
       "      <td>sklearn.linear_model._coordinate_descent.Lasso</td>\n",
       "      <td>True</td>\n",
       "    </tr>\n",
       "    <tr>\n",
       "      <th>ridge</th>\n",
       "      <td>Ridge Regression</td>\n",
       "      <td>sklearn.linear_model._ridge.Ridge</td>\n",
       "      <td>True</td>\n",
       "    </tr>\n",
       "    <tr>\n",
       "      <th>en</th>\n",
       "      <td>Elastic Net</td>\n",
       "      <td>sklearn.linear_model._coordinate_descent.Elast...</td>\n",
       "      <td>True</td>\n",
       "    </tr>\n",
       "    <tr>\n",
       "      <th>lar</th>\n",
       "      <td>Least Angle Regression</td>\n",
       "      <td>sklearn.linear_model._least_angle.Lars</td>\n",
       "      <td>True</td>\n",
       "    </tr>\n",
       "    <tr>\n",
       "      <th>llar</th>\n",
       "      <td>Lasso Least Angle Regression</td>\n",
       "      <td>sklearn.linear_model._least_angle.LassoLars</td>\n",
       "      <td>True</td>\n",
       "    </tr>\n",
       "    <tr>\n",
       "      <th>omp</th>\n",
       "      <td>Orthogonal Matching Pursuit</td>\n",
       "      <td>sklearn.linear_model._omp.OrthogonalMatchingPu...</td>\n",
       "      <td>True</td>\n",
       "    </tr>\n",
       "    <tr>\n",
       "      <th>br</th>\n",
       "      <td>Bayesian Ridge</td>\n",
       "      <td>sklearn.linear_model._bayes.BayesianRidge</td>\n",
       "      <td>True</td>\n",
       "    </tr>\n",
       "    <tr>\n",
       "      <th>ard</th>\n",
       "      <td>Automatic Relevance Determination</td>\n",
       "      <td>sklearn.linear_model._bayes.ARDRegression</td>\n",
       "      <td>False</td>\n",
       "    </tr>\n",
       "    <tr>\n",
       "      <th>par</th>\n",
       "      <td>Passive Aggressive Regressor</td>\n",
       "      <td>sklearn.linear_model._passive_aggressive.Passi...</td>\n",
       "      <td>True</td>\n",
       "    </tr>\n",
       "    <tr>\n",
       "      <th>ransac</th>\n",
       "      <td>Random Sample Consensus</td>\n",
       "      <td>sklearn.linear_model._ransac.RANSACRegressor</td>\n",
       "      <td>False</td>\n",
       "    </tr>\n",
       "    <tr>\n",
       "      <th>tr</th>\n",
       "      <td>TheilSen Regressor</td>\n",
       "      <td>sklearn.linear_model._theil_sen.TheilSenRegressor</td>\n",
       "      <td>False</td>\n",
       "    </tr>\n",
       "    <tr>\n",
       "      <th>huber</th>\n",
       "      <td>Huber Regressor</td>\n",
       "      <td>sklearn.linear_model._huber.HuberRegressor</td>\n",
       "      <td>True</td>\n",
       "    </tr>\n",
       "    <tr>\n",
       "      <th>kr</th>\n",
       "      <td>Kernel Ridge</td>\n",
       "      <td>sklearn.kernel_ridge.KernelRidge</td>\n",
       "      <td>False</td>\n",
       "    </tr>\n",
       "    <tr>\n",
       "      <th>svm</th>\n",
       "      <td>Support Vector Regression</td>\n",
       "      <td>sklearn.svm._classes.SVR</td>\n",
       "      <td>False</td>\n",
       "    </tr>\n",
       "    <tr>\n",
       "      <th>knn</th>\n",
       "      <td>K Neighbors Regressor</td>\n",
       "      <td>sklearn.neighbors._regression.KNeighborsRegressor</td>\n",
       "      <td>True</td>\n",
       "    </tr>\n",
       "    <tr>\n",
       "      <th>dt</th>\n",
       "      <td>Decision Tree Regressor</td>\n",
       "      <td>sklearn.tree._classes.DecisionTreeRegressor</td>\n",
       "      <td>True</td>\n",
       "    </tr>\n",
       "    <tr>\n",
       "      <th>rf</th>\n",
       "      <td>Random Forest Regressor</td>\n",
       "      <td>sklearn.ensemble._forest.RandomForestRegressor</td>\n",
       "      <td>True</td>\n",
       "    </tr>\n",
       "    <tr>\n",
       "      <th>et</th>\n",
       "      <td>Extra Trees Regressor</td>\n",
       "      <td>sklearn.ensemble._forest.ExtraTreesRegressor</td>\n",
       "      <td>True</td>\n",
       "    </tr>\n",
       "    <tr>\n",
       "      <th>ada</th>\n",
       "      <td>AdaBoost Regressor</td>\n",
       "      <td>sklearn.ensemble._weight_boosting.AdaBoostRegr...</td>\n",
       "      <td>True</td>\n",
       "    </tr>\n",
       "    <tr>\n",
       "      <th>gbr</th>\n",
       "      <td>Gradient Boosting Regressor</td>\n",
       "      <td>sklearn.ensemble._gb.GradientBoostingRegressor</td>\n",
       "      <td>True</td>\n",
       "    </tr>\n",
       "    <tr>\n",
       "      <th>mlp</th>\n",
       "      <td>MLP Regressor</td>\n",
       "      <td>sklearn.neural_network._multilayer_perceptron....</td>\n",
       "      <td>False</td>\n",
       "    </tr>\n",
       "    <tr>\n",
       "      <th>xgboost</th>\n",
       "      <td>Extreme Gradient Boosting</td>\n",
       "      <td>xgboost.sklearn.XGBRegressor</td>\n",
       "      <td>True</td>\n",
       "    </tr>\n",
       "    <tr>\n",
       "      <th>lightgbm</th>\n",
       "      <td>Light Gradient Boosting Machine</td>\n",
       "      <td>lightgbm.sklearn.LGBMRegressor</td>\n",
       "      <td>True</td>\n",
       "    </tr>\n",
       "    <tr>\n",
       "      <th>dummy</th>\n",
       "      <td>Dummy Regressor</td>\n",
       "      <td>sklearn.dummy.DummyRegressor</td>\n",
       "      <td>True</td>\n",
       "    </tr>\n",
       "  </tbody>\n",
       "</table>\n",
       "</div>"
      ],
      "text/plain": [
       "                                       Name  \\\n",
       "ID                                            \n",
       "lr                        Linear Regression   \n",
       "lasso                      Lasso Regression   \n",
       "ridge                      Ridge Regression   \n",
       "en                              Elastic Net   \n",
       "lar                  Least Angle Regression   \n",
       "llar           Lasso Least Angle Regression   \n",
       "omp             Orthogonal Matching Pursuit   \n",
       "br                           Bayesian Ridge   \n",
       "ard       Automatic Relevance Determination   \n",
       "par            Passive Aggressive Regressor   \n",
       "ransac              Random Sample Consensus   \n",
       "tr                       TheilSen Regressor   \n",
       "huber                       Huber Regressor   \n",
       "kr                             Kernel Ridge   \n",
       "svm               Support Vector Regression   \n",
       "knn                   K Neighbors Regressor   \n",
       "dt                  Decision Tree Regressor   \n",
       "rf                  Random Forest Regressor   \n",
       "et                    Extra Trees Regressor   \n",
       "ada                      AdaBoost Regressor   \n",
       "gbr             Gradient Boosting Regressor   \n",
       "mlp                           MLP Regressor   \n",
       "xgboost           Extreme Gradient Boosting   \n",
       "lightgbm    Light Gradient Boosting Machine   \n",
       "dummy                       Dummy Regressor   \n",
       "\n",
       "                                                  Reference  Turbo  \n",
       "ID                                                                  \n",
       "lr              sklearn.linear_model._base.LinearRegression   True  \n",
       "lasso        sklearn.linear_model._coordinate_descent.Lasso   True  \n",
       "ridge                     sklearn.linear_model._ridge.Ridge   True  \n",
       "en        sklearn.linear_model._coordinate_descent.Elast...   True  \n",
       "lar                  sklearn.linear_model._least_angle.Lars   True  \n",
       "llar            sklearn.linear_model._least_angle.LassoLars   True  \n",
       "omp       sklearn.linear_model._omp.OrthogonalMatchingPu...   True  \n",
       "br                sklearn.linear_model._bayes.BayesianRidge   True  \n",
       "ard               sklearn.linear_model._bayes.ARDRegression  False  \n",
       "par       sklearn.linear_model._passive_aggressive.Passi...   True  \n",
       "ransac         sklearn.linear_model._ransac.RANSACRegressor  False  \n",
       "tr        sklearn.linear_model._theil_sen.TheilSenRegressor  False  \n",
       "huber            sklearn.linear_model._huber.HuberRegressor   True  \n",
       "kr                         sklearn.kernel_ridge.KernelRidge  False  \n",
       "svm                                sklearn.svm._classes.SVR  False  \n",
       "knn       sklearn.neighbors._regression.KNeighborsRegressor   True  \n",
       "dt              sklearn.tree._classes.DecisionTreeRegressor   True  \n",
       "rf           sklearn.ensemble._forest.RandomForestRegressor   True  \n",
       "et             sklearn.ensemble._forest.ExtraTreesRegressor   True  \n",
       "ada       sklearn.ensemble._weight_boosting.AdaBoostRegr...   True  \n",
       "gbr          sklearn.ensemble._gb.GradientBoostingRegressor   True  \n",
       "mlp       sklearn.neural_network._multilayer_perceptron....  False  \n",
       "xgboost                        xgboost.sklearn.XGBRegressor   True  \n",
       "lightgbm                     lightgbm.sklearn.LGBMRegressor   True  \n",
       "dummy                          sklearn.dummy.DummyRegressor   True  "
      ]
     },
     "execution_count": 42,
     "metadata": {},
     "output_type": "execute_result"
    }
   ],
   "source": [
    "models()"
   ]
  },
  {
   "cell_type": "markdown",
   "id": "81cc945f",
   "metadata": {},
   "source": [
    "We could experiment with different model types, but for now let's choose linear regression."
   ]
  },
  {
   "cell_type": "code",
   "execution_count": 43,
   "id": "a8f63ab9",
   "metadata": {},
   "outputs": [
    {
     "data": {
      "text/html": [
       "<style type=\"text/css\">\n",
       "#T_9f53d_ th {\n",
       "  text-align: left;\n",
       "}\n",
       "#T_9f53d_row0_col0 {\n",
       "  text-align: left;\n",
       "}\n",
       "#T_9f53d_row0_col1, #T_9f53d_row0_col2, #T_9f53d_row0_col3, #T_9f53d_row0_col4, #T_9f53d_row0_col5, #T_9f53d_row0_col6 {\n",
       "  text-align: left;\n",
       "  background-color: yellow;\n",
       "}\n",
       "#T_9f53d_row0_col7 {\n",
       "  text-align: left;\n",
       "  background-color: yellow;\n",
       "  background-color: lightgrey;\n",
       "}\n",
       "</style>\n",
       "<table id=\"T_9f53d_\">\n",
       "  <thead>\n",
       "    <tr>\n",
       "      <th class=\"blank level0\" >&nbsp;</th>\n",
       "      <th class=\"col_heading level0 col0\" >Model</th>\n",
       "      <th class=\"col_heading level0 col1\" >MAE</th>\n",
       "      <th class=\"col_heading level0 col2\" >MSE</th>\n",
       "      <th class=\"col_heading level0 col3\" >RMSE</th>\n",
       "      <th class=\"col_heading level0 col4\" >R2</th>\n",
       "      <th class=\"col_heading level0 col5\" >RMSLE</th>\n",
       "      <th class=\"col_heading level0 col6\" >MAPE</th>\n",
       "      <th class=\"col_heading level0 col7\" >TT (Sec)</th>\n",
       "    </tr>\n",
       "  </thead>\n",
       "  <tbody>\n",
       "    <tr>\n",
       "      <th id=\"T_9f53d_level0_row0\" class=\"row_heading level0 row0\" >lr</th>\n",
       "      <td id=\"T_9f53d_row0_col0\" class=\"data row0 col0\" >Linear Regression</td>\n",
       "      <td id=\"T_9f53d_row0_col1\" class=\"data row0 col1\" >147.7477</td>\n",
       "      <td id=\"T_9f53d_row0_col2\" class=\"data row0 col2\" >138191.0781</td>\n",
       "      <td id=\"T_9f53d_row0_col3\" class=\"data row0 col3\" >370.6675</td>\n",
       "      <td id=\"T_9f53d_row0_col4\" class=\"data row0 col4\" >0.1975</td>\n",
       "      <td id=\"T_9f53d_row0_col5\" class=\"data row0 col5\" >1.1744</td>\n",
       "      <td id=\"T_9f53d_row0_col6\" class=\"data row0 col6\" >2.3789</td>\n",
       "      <td id=\"T_9f53d_row0_col7\" class=\"data row0 col7\" >1.0620</td>\n",
       "    </tr>\n",
       "  </tbody>\n",
       "</table>\n"
      ],
      "text/plain": [
       "<pandas.io.formats.style.Styler at 0x7fceed8a2d00>"
      ]
     },
     "metadata": {},
     "output_type": "display_data"
    }
   ],
   "source": [
    "model_matrix = compare_models(\n",
    "    fold=10,\n",
    "    include=[\"lr\"]\n",
    ")"
   ]
  },
  {
   "cell_type": "code",
   "execution_count": 44,
   "id": "71fd31a4",
   "metadata": {},
   "outputs": [
    {
     "data": {
      "text/html": [
       "<style type=\"text/css\">\n",
       "#T_b5165_row10_col0, #T_b5165_row10_col1, #T_b5165_row10_col2, #T_b5165_row10_col3, #T_b5165_row10_col4, #T_b5165_row10_col5 {\n",
       "  background: yellow;\n",
       "}\n",
       "</style>\n",
       "<table id=\"T_b5165_\">\n",
       "  <thead>\n",
       "    <tr>\n",
       "      <th class=\"blank level0\" >&nbsp;</th>\n",
       "      <th class=\"col_heading level0 col0\" >MAE</th>\n",
       "      <th class=\"col_heading level0 col1\" >MSE</th>\n",
       "      <th class=\"col_heading level0 col2\" >RMSE</th>\n",
       "      <th class=\"col_heading level0 col3\" >R2</th>\n",
       "      <th class=\"col_heading level0 col4\" >RMSLE</th>\n",
       "      <th class=\"col_heading level0 col5\" >MAPE</th>\n",
       "    </tr>\n",
       "  </thead>\n",
       "  <tbody>\n",
       "    <tr>\n",
       "      <th id=\"T_b5165_level0_row0\" class=\"row_heading level0 row0\" >0</th>\n",
       "      <td id=\"T_b5165_row0_col0\" class=\"data row0 col0\" >147.3820</td>\n",
       "      <td id=\"T_b5165_row0_col1\" class=\"data row0 col1\" >143909.3906</td>\n",
       "      <td id=\"T_b5165_row0_col2\" class=\"data row0 col2\" >379.3539</td>\n",
       "      <td id=\"T_b5165_row0_col3\" class=\"data row0 col3\" >0.0032</td>\n",
       "      <td id=\"T_b5165_row0_col4\" class=\"data row0 col4\" >1.1678</td>\n",
       "      <td id=\"T_b5165_row0_col5\" class=\"data row0 col5\" >2.2568</td>\n",
       "    </tr>\n",
       "    <tr>\n",
       "      <th id=\"T_b5165_level0_row1\" class=\"row_heading level0 row1\" >1</th>\n",
       "      <td id=\"T_b5165_row1_col0\" class=\"data row1 col0\" >148.8402</td>\n",
       "      <td id=\"T_b5165_row1_col1\" class=\"data row1 col1\" >150182.7500</td>\n",
       "      <td id=\"T_b5165_row1_col2\" class=\"data row1 col2\" >387.5342</td>\n",
       "      <td id=\"T_b5165_row1_col3\" class=\"data row1 col3\" >0.1982</td>\n",
       "      <td id=\"T_b5165_row1_col4\" class=\"data row1 col4\" >1.1742</td>\n",
       "      <td id=\"T_b5165_row1_col5\" class=\"data row1 col5\" >2.2941</td>\n",
       "    </tr>\n",
       "    <tr>\n",
       "      <th id=\"T_b5165_level0_row2\" class=\"row_heading level0 row2\" >2</th>\n",
       "      <td id=\"T_b5165_row2_col0\" class=\"data row2 col0\" >149.0095</td>\n",
       "      <td id=\"T_b5165_row2_col1\" class=\"data row2 col1\" >143800.6562</td>\n",
       "      <td id=\"T_b5165_row2_col2\" class=\"data row2 col2\" >379.2106</td>\n",
       "      <td id=\"T_b5165_row2_col3\" class=\"data row2 col3\" >0.1707</td>\n",
       "      <td id=\"T_b5165_row2_col4\" class=\"data row2 col4\" >1.1760</td>\n",
       "      <td id=\"T_b5165_row2_col5\" class=\"data row2 col5\" >2.5309</td>\n",
       "    </tr>\n",
       "    <tr>\n",
       "      <th id=\"T_b5165_level0_row3\" class=\"row_heading level0 row3\" >3</th>\n",
       "      <td id=\"T_b5165_row3_col0\" class=\"data row3 col0\" >147.7643</td>\n",
       "      <td id=\"T_b5165_row3_col1\" class=\"data row3 col1\" >181431.5000</td>\n",
       "      <td id=\"T_b5165_row3_col2\" class=\"data row3 col2\" >425.9478</td>\n",
       "      <td id=\"T_b5165_row3_col3\" class=\"data row3 col3\" >0.1354</td>\n",
       "      <td id=\"T_b5165_row3_col4\" class=\"data row3 col4\" >1.1677</td>\n",
       "      <td id=\"T_b5165_row3_col5\" class=\"data row3 col5\" >2.2639</td>\n",
       "    </tr>\n",
       "    <tr>\n",
       "      <th id=\"T_b5165_level0_row4\" class=\"row_heading level0 row4\" >4</th>\n",
       "      <td id=\"T_b5165_row4_col0\" class=\"data row4 col0\" >145.3988</td>\n",
       "      <td id=\"T_b5165_row4_col1\" class=\"data row4 col1\" >105375.3438</td>\n",
       "      <td id=\"T_b5165_row4_col2\" class=\"data row4 col2\" >324.6157</td>\n",
       "      <td id=\"T_b5165_row4_col3\" class=\"data row4 col3\" >0.1828</td>\n",
       "      <td id=\"T_b5165_row4_col4\" class=\"data row4 col4\" >1.1740</td>\n",
       "      <td id=\"T_b5165_row4_col5\" class=\"data row4 col5\" >2.4350</td>\n",
       "    </tr>\n",
       "    <tr>\n",
       "      <th id=\"T_b5165_level0_row5\" class=\"row_heading level0 row5\" >5</th>\n",
       "      <td id=\"T_b5165_row5_col0\" class=\"data row5 col0\" >147.1721</td>\n",
       "      <td id=\"T_b5165_row5_col1\" class=\"data row5 col1\" >125131.0547</td>\n",
       "      <td id=\"T_b5165_row5_col2\" class=\"data row5 col2\" >353.7387</td>\n",
       "      <td id=\"T_b5165_row5_col3\" class=\"data row5 col3\" >0.2552</td>\n",
       "      <td id=\"T_b5165_row5_col4\" class=\"data row5 col4\" >1.1784</td>\n",
       "      <td id=\"T_b5165_row5_col5\" class=\"data row5 col5\" >2.8133</td>\n",
       "    </tr>\n",
       "    <tr>\n",
       "      <th id=\"T_b5165_level0_row6\" class=\"row_heading level0 row6\" >6</th>\n",
       "      <td id=\"T_b5165_row6_col0\" class=\"data row6 col0\" >148.3394</td>\n",
       "      <td id=\"T_b5165_row6_col1\" class=\"data row6 col1\" >126797.0234</td>\n",
       "      <td id=\"T_b5165_row6_col2\" class=\"data row6 col2\" >356.0857</td>\n",
       "      <td id=\"T_b5165_row6_col3\" class=\"data row6 col3\" >0.2260</td>\n",
       "      <td id=\"T_b5165_row6_col4\" class=\"data row6 col4\" >1.1745</td>\n",
       "      <td id=\"T_b5165_row6_col5\" class=\"data row6 col5\" >2.2868</td>\n",
       "    </tr>\n",
       "    <tr>\n",
       "      <th id=\"T_b5165_level0_row7\" class=\"row_heading level0 row7\" >7</th>\n",
       "      <td id=\"T_b5165_row7_col0\" class=\"data row7 col0\" >146.4461</td>\n",
       "      <td id=\"T_b5165_row7_col1\" class=\"data row7 col1\" >110210.0625</td>\n",
       "      <td id=\"T_b5165_row7_col2\" class=\"data row7 col2\" >331.9790</td>\n",
       "      <td id=\"T_b5165_row7_col3\" class=\"data row7 col3\" >0.2012</td>\n",
       "      <td id=\"T_b5165_row7_col4\" class=\"data row7 col4\" >1.1801</td>\n",
       "      <td id=\"T_b5165_row7_col5\" class=\"data row7 col5\" >2.3161</td>\n",
       "    </tr>\n",
       "    <tr>\n",
       "      <th id=\"T_b5165_level0_row8\" class=\"row_heading level0 row8\" >8</th>\n",
       "      <td id=\"T_b5165_row8_col0\" class=\"data row8 col0\" >149.1430</td>\n",
       "      <td id=\"T_b5165_row8_col1\" class=\"data row8 col1\" >147897.6562</td>\n",
       "      <td id=\"T_b5165_row8_col2\" class=\"data row8 col2\" >384.5746</td>\n",
       "      <td id=\"T_b5165_row8_col3\" class=\"data row8 col3\" >0.4517</td>\n",
       "      <td id=\"T_b5165_row8_col4\" class=\"data row8 col4\" >1.1753</td>\n",
       "      <td id=\"T_b5165_row8_col5\" class=\"data row8 col5\" >2.2920</td>\n",
       "    </tr>\n",
       "    <tr>\n",
       "      <th id=\"T_b5165_level0_row9\" class=\"row_heading level0 row9\" >9</th>\n",
       "      <td id=\"T_b5165_row9_col0\" class=\"data row9 col0\" >147.9812</td>\n",
       "      <td id=\"T_b5165_row9_col1\" class=\"data row9 col1\" >147175.3438</td>\n",
       "      <td id=\"T_b5165_row9_col2\" class=\"data row9 col2\" >383.6344</td>\n",
       "      <td id=\"T_b5165_row9_col3\" class=\"data row9 col3\" >0.1508</td>\n",
       "      <td id=\"T_b5165_row9_col4\" class=\"data row9 col4\" >1.1765</td>\n",
       "      <td id=\"T_b5165_row9_col5\" class=\"data row9 col5\" >2.2997</td>\n",
       "    </tr>\n",
       "    <tr>\n",
       "      <th id=\"T_b5165_level0_row10\" class=\"row_heading level0 row10\" >Mean</th>\n",
       "      <td id=\"T_b5165_row10_col0\" class=\"data row10 col0\" >147.7477</td>\n",
       "      <td id=\"T_b5165_row10_col1\" class=\"data row10 col1\" >138191.0781</td>\n",
       "      <td id=\"T_b5165_row10_col2\" class=\"data row10 col2\" >370.6675</td>\n",
       "      <td id=\"T_b5165_row10_col3\" class=\"data row10 col3\" >0.1975</td>\n",
       "      <td id=\"T_b5165_row10_col4\" class=\"data row10 col4\" >1.1744</td>\n",
       "      <td id=\"T_b5165_row10_col5\" class=\"data row10 col5\" >2.3789</td>\n",
       "    </tr>\n",
       "    <tr>\n",
       "      <th id=\"T_b5165_level0_row11\" class=\"row_heading level0 row11\" >SD</th>\n",
       "      <td id=\"T_b5165_row11_col0\" class=\"data row11 col0\" >1.1320</td>\n",
       "      <td id=\"T_b5165_row11_col1\" class=\"data row11 col1\" >21006.7460</td>\n",
       "      <td id=\"T_b5165_row11_col2\" class=\"data row11 col2\" >28.2262</td>\n",
       "      <td id=\"T_b5165_row11_col3\" class=\"data row11 col3\" >0.1065</td>\n",
       "      <td id=\"T_b5165_row11_col4\" class=\"data row11 col4\" >0.0038</td>\n",
       "      <td id=\"T_b5165_row11_col5\" class=\"data row11 col5\" >0.1663</td>\n",
       "    </tr>\n",
       "  </tbody>\n",
       "</table>\n"
      ],
      "text/plain": [
       "<pandas.io.formats.style.Styler at 0x7fcf11753df0>"
      ]
     },
     "metadata": {},
     "output_type": "display_data"
    }
   ],
   "source": [
    "best_model = create_model(model_matrix)"
   ]
  },
  {
   "cell_type": "markdown",
   "id": "c2f89885",
   "metadata": {},
   "source": [
    "We can see the model performance, the R2 metric is a measure of how well the model fits our dataset on a scale of 0 (not good at all) to 1 (very good, possibly overfit)\n",
    "\n",
    "We can plot the results of the model line of best fit, vs. the predicted values line of best fit"
   ]
  },
  {
   "cell_type": "code",
   "execution_count": 45,
   "id": "83b89841",
   "metadata": {},
   "outputs": [
    {
     "data": {
      "image/png": "[encoded data removed]",
      "text/plain": [
       "<Figure size 576x396 with 1 Axes>"
      ]
     },
     "metadata": {},
     "output_type": "display_data"
    }
   ],
   "source": [
    "plot_model(best_model, plot = 'error')"
   ]
  },
  {
   "cell_type": "markdown",
   "id": "3d657d41",
   "metadata": {},
   "source": [
    "We can also plot the feature importance to see what features are impacting model prediction the most"
   ]
  },
  {
   "cell_type": "code",
   "execution_count": 46,
   "id": "565da2fd",
   "metadata": {},
   "outputs": [
    {
     "data": {
      "image/png": "[encoded data removed]",
      "text/plain": [
       "<Figure size 800x500 with 1 Axes>"
      ]
     },
     "metadata": {},
     "output_type": "display_data"
    }
   ],
   "source": [
    "plot_model(best_model, plot='feature')"
   ]
  },
  {
   "cell_type": "markdown",
   "id": "8fa6fc1e",
   "metadata": {},
   "source": [
    "### Observations\n",
    "\n",
    "* Observation 1\n",
    "* Observation 2\n",
    "* Observation 3"
   ]
  },
  {
   "cell_type": "markdown",
   "id": "401b8337",
   "metadata": {},
   "source": [
    "### Conclusion\n",
    "\n",
    "Add a conclusion to the experiment here"
   ]
  },
  {
   "cell_type": "markdown",
   "id": "3b5619cc",
   "metadata": {},
   "source": []
  }
 ],
 "metadata": {
  "kernelspec": {
   "display_name": "Python 3.8.5 ('stellar')",
   "language": "python",
   "name": "python3"
  },
  "language_info": {
   "codemirror_mode": {
    "name": "ipython",
    "version": 3
   },
   "file_extension": ".py",
   "mimetype": "text/x-python",
   "name": "python",
   "nbconvert_exporter": "python",
   "pygments_lexer": "ipython3",
   "version": "3.8.5"
  },
  "vscode": {
   "interpreter": {
    "hash": "89f48dadab51a6b5b48ffc1a9e043c21cefe67453637c3444f3b86917b8aad16"
   }
  }
 },
 "nbformat": 4,
 "nbformat_minor": 5
}
