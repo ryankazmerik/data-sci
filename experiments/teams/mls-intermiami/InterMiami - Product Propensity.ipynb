{
 "cells": [
  {
   "cell_type": "markdown",
   "id": "100604b5",
   "metadata": {},
   "source": [
    "# Product Propensity Scoring\n",
    "* StelllarAlgo Data Science\n",
    "* Ryan Kazmerik, Nakisa Rad, Joey Lai\n",
    "* Jul 6, 2022"
   ]
  },
  {
   "cell_type": "code",
   "execution_count": 1,
   "id": "b105b4d9",
   "metadata": {},
   "outputs": [
    {
     "name": "stderr",
     "output_type": "stream",
     "text": [
      "/opt/miniconda3/envs/stellar/lib/python3.8/site-packages/requests/__init__.py:109: RequestsDependencyWarning: urllib3 (1.26.12) or chardet (5.0.0)/charset_normalizer (2.0.12) doesn't match a supported version!\n",
      "  warnings.warn(\n"
     ]
    }
   ],
   "source": [
    "import boto3\n",
    "import getpass\n",
    "import pyodbc\n",
    "import pandas as pd\n",
    "import matplotlib.pyplot as plt\n",
    "\n",
    "from datetime import datetime\n",
    "from pycaret.classification import *"
   ]
  },
  {
   "cell_type": "code",
   "execution_count": 2,
   "id": "aa61c05a",
   "metadata": {},
   "outputs": [
    {
     "name": "stdout",
     "output_type": "stream",
     "text": [
      "Attempting to automatically open the SSO authorization page in your default browser.\n",
      "If the browser does not open or you wish to use a different device to authorize this request, open the following URL:\n",
      "\n",
      "https://device.sso.us-east-1.amazonaws.com/\n",
      "\n",
      "Then enter the code:\n",
      "\n",
      "TXQH-HNQT\n",
      "Successfully logged into Start URL: https://stellaralgo.awsapps.com/start#/\n"
     ]
    }
   ],
   "source": [
    "if not boto3.DEFAULT_SESSION:\n",
    "    ! aws sso login --profile US-StellarSupport\n",
    "    session = boto3.setup_default_session(profile_name='US-StellarSupport')"
   ]
  },
  {
   "cell_type": "code",
   "execution_count": 3,
   "id": "35747e0a-f210-4fdb-b050-3017fa29fe59",
   "metadata": {},
   "outputs": [],
   "source": [
    "# connect to SQL Server.\n",
    "SERVER = '34.206.73.189' \n",
    "DATABASE = 'datascience' \n",
    "USERNAME = 'dsAdminWrite' \n",
    "PASSWORD = getpass.getpass(prompt='Enter your password')\n",
    "CNXN = pyodbc.connect('DRIVER={ODBC Driver 17 for SQL Server};SERVER='+SERVER+';DATABASE='+DATABASE+';UID='+USERNAME+';PWD='+ PASSWORD)"
   ]
  },
  {
   "cell_type": "code",
   "execution_count": 4,
   "id": "0ee73a7b-82d1-44da-b551-dcafadacae17",
   "metadata": {},
   "outputs": [
    {
     "data": {
      "text/plain": [
       "(37706, 13)"
      ]
     },
     "execution_count": 4,
     "metadata": {},
     "output_type": "execute_result"
    }
   ],
   "source": [
    "cursor = CNXN.cursor()\n",
    "\n",
    "storedProc = (\n",
    "    f\"\"\"Exec [mlsInterMiami].[ds].[getProductPropensityModelData] 113\"\"\"\n",
    ")\n",
    "\n",
    "df = pd.read_sql(storedProc, CNXN)\n",
    "\n",
    "CNXN.commit()\n",
    "cursor.close()\n",
    "\n",
    "df.shape"
   ]
  },
  {
   "cell_type": "code",
   "execution_count": 5,
   "id": "59dd39bc",
   "metadata": {},
   "outputs": [
    {
     "name": "stdout",
     "output_type": "stream",
     "text": [
      "<class 'pandas.core.frame.DataFrame'>\n",
      "RangeIndex: 37706 entries, 0 to 37705\n",
      "Data columns (total 13 columns):\n",
      " #   Column               Non-Null Count  Dtype  \n",
      "---  ------               --------------  -----  \n",
      " 0   dimCustomerMasterId  37706 non-null  int64  \n",
      " 1   email                34427 non-null  object \n",
      " 2   ticketingid          37706 non-null  object \n",
      " 3   distance             37706 non-null  float64\n",
      " 4   seasonYear           37706 non-null  int64  \n",
      " 5   events_prior         37706 non-null  int64  \n",
      " 6   attended_prior       37706 non-null  int64  \n",
      " 7   events_last          37706 non-null  int64  \n",
      " 8   attended_last        37706 non-null  int64  \n",
      " 9   tenure               37706 non-null  int64  \n",
      " 10  atp_last             37706 non-null  float64\n",
      " 11  product_current      37706 non-null  object \n",
      " 12  product_last         37706 non-null  object \n",
      "dtypes: float64(2), int64(7), object(4)\n",
      "memory usage: 3.7+ MB\n"
     ]
    }
   ],
   "source": [
    "df.info()"
   ]
  },
  {
   "cell_type": "markdown",
   "id": "9a8d012d",
   "metadata": {},
   "source": [
    "### Let's specify the features we would like to use to train our model:"
   ]
  },
  {
   "cell_type": "code",
   "execution_count": 8,
   "id": "bfc8cb94",
   "metadata": {},
   "outputs": [
    {
     "name": "stdout",
     "output_type": "stream",
     "text": [
      "Data for Modeling: (3295, 12)\n",
      "Unseen Data For Predictions: (582, 12)\n",
      "\n"
     ]
    }
   ],
   "source": [
    "# choose the features for the stellar base retention model\n",
    "features = [\n",
    "    'dimCustomerMasterId', \n",
    "    'ticketingid', \n",
    "    'distance', \n",
    "    'seasonYear',\n",
    "    'events_prior', \n",
    "    'attended_prior', \n",
    "    'events_last', \n",
    "    'attended_last',\n",
    "    'tenure', \n",
    "    'atp_last', \n",
    "    'product_current', \n",
    "    'product_last'\n",
    "]\n",
    "\n",
    "# copy your main dataframe\n",
    "df_dataset = df\n",
    "\n",
    "# choose the features & train year & test year\n",
    "df_dataset = df_dataset[features]\n",
    "df_dataset[\"seasonYear\"] = pd.to_numeric(df_dataset[\"seasonYear\"])\n",
    "df_dataset = df_dataset.loc[df_dataset[\"seasonYear\"] <= 2022]\n",
    "\n",
    "df_train = df_dataset.sample(frac=0.85, random_state=786)\n",
    "df_eval = df_dataset.drop(df_train.index)\n",
    "\n",
    "df_train.reset_index(drop=True, inplace=True)\n",
    "df_eval.reset_index(drop=True, inplace=True)\n",
    "\n",
    "# print out the number of records for training and eval\n",
    "print('Data for Modeling: ' + str(df_train.shape))\n",
    "print('Unseen Data For Predictions: ' + str(df_eval.shape), end=\"\\n\\n\")"
   ]
  },
  {
   "cell_type": "markdown",
   "id": "4fa7e14c",
   "metadata": {},
   "source": [
    "## Step 2: Create Model"
   ]
  },
  {
   "cell_type": "markdown",
   "id": "7119b9ea",
   "metadata": {},
   "source": [
    "### Now we can model the data using a multiclass classifier to predict probabilities that a fan will purchase each product offered by the team:"
   ]
  },
  {
   "cell_type": "code",
   "execution_count": 9,
   "id": "47e820af",
   "metadata": {},
   "outputs": [],
   "source": [
    "setup(\n",
    "    data= df_train, \n",
    "    target=\"product_current\", \n",
    "    train_size = 0.85,\n",
    "    data_split_shuffle=True,\n",
    "    silent=True,\n",
    "    verbose=False,\n",
    "    ignore_features=[\n",
    "        \"dimCustomerMasterId\",\n",
    "        \"seasonYear\",\n",
    "        \"ticketingid\"\n",
    "    ],\n",
    "    numeric_features=[\n",
    "        \"atp_last\",\n",
    "        \"attended_last\",\n",
    "        \"attended_prior\",\n",
    "        \"distance\",\n",
    "        \"events_last\",\n",
    "        \"events_prior\",\n",
    "        \"tenure\" \n",
    "    ]\n",
    ");"
   ]
  },
  {
   "cell_type": "code",
   "execution_count": 10,
   "id": "a6fa0a55",
   "metadata": {},
   "outputs": [
    {
     "data": {
      "text/html": [
       "<style type=\"text/css\">\n",
       "#T_95526 th {\n",
       "  text-align: left;\n",
       "}\n",
       "#T_95526_row0_col0 {\n",
       "  text-align: left;\n",
       "}\n",
       "#T_95526_row0_col1, #T_95526_row0_col2, #T_95526_row0_col3, #T_95526_row0_col4, #T_95526_row0_col5, #T_95526_row0_col6, #T_95526_row0_col7 {\n",
       "  text-align: left;\n",
       "  background-color: yellow;\n",
       "}\n",
       "#T_95526_row0_col8 {\n",
       "  text-align: left;\n",
       "  background-color: yellow;\n",
       "  background-color: lightgrey;\n",
       "}\n",
       "</style>\n",
       "<table id=\"T_95526\">\n",
       "  <thead>\n",
       "    <tr>\n",
       "      <th class=\"blank level0\" >&nbsp;</th>\n",
       "      <th id=\"T_95526_level0_col0\" class=\"col_heading level0 col0\" >Model</th>\n",
       "      <th id=\"T_95526_level0_col1\" class=\"col_heading level0 col1\" >Accuracy</th>\n",
       "      <th id=\"T_95526_level0_col2\" class=\"col_heading level0 col2\" >AUC</th>\n",
       "      <th id=\"T_95526_level0_col3\" class=\"col_heading level0 col3\" >Recall</th>\n",
       "      <th id=\"T_95526_level0_col4\" class=\"col_heading level0 col4\" >Prec.</th>\n",
       "      <th id=\"T_95526_level0_col5\" class=\"col_heading level0 col5\" >F1</th>\n",
       "      <th id=\"T_95526_level0_col6\" class=\"col_heading level0 col6\" >Kappa</th>\n",
       "      <th id=\"T_95526_level0_col7\" class=\"col_heading level0 col7\" >MCC</th>\n",
       "      <th id=\"T_95526_level0_col8\" class=\"col_heading level0 col8\" >TT (Sec)</th>\n",
       "    </tr>\n",
       "  </thead>\n",
       "  <tbody>\n",
       "    <tr>\n",
       "      <th id=\"T_95526_level0_row0\" class=\"row_heading level0 row0\" >rf</th>\n",
       "      <td id=\"T_95526_row0_col0\" class=\"data row0 col0\" >Random Forest Classifier</td>\n",
       "      <td id=\"T_95526_row0_col1\" class=\"data row0 col1\" >0.6854</td>\n",
       "      <td id=\"T_95526_row0_col2\" class=\"data row0 col2\" >0.6409</td>\n",
       "      <td id=\"T_95526_row0_col3\" class=\"data row0 col3\" >0.3220</td>\n",
       "      <td id=\"T_95526_row0_col4\" class=\"data row0 col4\" >0.6584</td>\n",
       "      <td id=\"T_95526_row0_col5\" class=\"data row0 col5\" >0.6558</td>\n",
       "      <td id=\"T_95526_row0_col6\" class=\"data row0 col6\" >0.2544</td>\n",
       "      <td id=\"T_95526_row0_col7\" class=\"data row0 col7\" >0.2726</td>\n",
       "      <td id=\"T_95526_row0_col8\" class=\"data row0 col8\" >0.7840</td>\n",
       "    </tr>\n",
       "  </tbody>\n",
       "</table>\n"
      ],
      "text/plain": [
       "<pandas.io.formats.style.Styler at 0x7f7f9e152670>"
      ]
     },
     "metadata": {},
     "output_type": "display_data"
    }
   ],
   "source": [
    "model_matrix = compare_models(\n",
    "    fold= 10,\n",
    "    include= [\"rf\"]\n",
    ")"
   ]
  },
  {
   "cell_type": "code",
   "execution_count": 11,
   "id": "3d0bcabf",
   "metadata": {},
   "outputs": [
    {
     "data": {
      "text/html": [
       "<style type=\"text/css\">\n",
       "#T_7d490_row10_col0, #T_7d490_row10_col1, #T_7d490_row10_col2, #T_7d490_row10_col3, #T_7d490_row10_col4, #T_7d490_row10_col5, #T_7d490_row10_col6 {\n",
       "  background: yellow;\n",
       "}\n",
       "</style>\n",
       "<table id=\"T_7d490\">\n",
       "  <thead>\n",
       "    <tr>\n",
       "      <th class=\"blank level0\" >&nbsp;</th>\n",
       "      <th id=\"T_7d490_level0_col0\" class=\"col_heading level0 col0\" >Accuracy</th>\n",
       "      <th id=\"T_7d490_level0_col1\" class=\"col_heading level0 col1\" >AUC</th>\n",
       "      <th id=\"T_7d490_level0_col2\" class=\"col_heading level0 col2\" >Recall</th>\n",
       "      <th id=\"T_7d490_level0_col3\" class=\"col_heading level0 col3\" >Prec.</th>\n",
       "      <th id=\"T_7d490_level0_col4\" class=\"col_heading level0 col4\" >F1</th>\n",
       "      <th id=\"T_7d490_level0_col5\" class=\"col_heading level0 col5\" >Kappa</th>\n",
       "      <th id=\"T_7d490_level0_col6\" class=\"col_heading level0 col6\" >MCC</th>\n",
       "    </tr>\n",
       "    <tr>\n",
       "      <th class=\"index_name level0\" >Fold</th>\n",
       "      <th class=\"blank col0\" >&nbsp;</th>\n",
       "      <th class=\"blank col1\" >&nbsp;</th>\n",
       "      <th class=\"blank col2\" >&nbsp;</th>\n",
       "      <th class=\"blank col3\" >&nbsp;</th>\n",
       "      <th class=\"blank col4\" >&nbsp;</th>\n",
       "      <th class=\"blank col5\" >&nbsp;</th>\n",
       "      <th class=\"blank col6\" >&nbsp;</th>\n",
       "    </tr>\n",
       "  </thead>\n",
       "  <tbody>\n",
       "    <tr>\n",
       "      <th id=\"T_7d490_level0_row0\" class=\"row_heading level0 row0\" >0</th>\n",
       "      <td id=\"T_7d490_row0_col0\" class=\"data row0 col0\" >0.6536</td>\n",
       "      <td id=\"T_7d490_row0_col1\" class=\"data row0 col1\" >0.6398</td>\n",
       "      <td id=\"T_7d490_row0_col2\" class=\"data row0 col2\" >0.2977</td>\n",
       "      <td id=\"T_7d490_row0_col3\" class=\"data row0 col3\" >0.6272</td>\n",
       "      <td id=\"T_7d490_row0_col4\" class=\"data row0 col4\" >0.6347</td>\n",
       "      <td id=\"T_7d490_row0_col5\" class=\"data row0 col5\" >0.2105</td>\n",
       "      <td id=\"T_7d490_row0_col6\" class=\"data row0 col6\" >0.2157</td>\n",
       "    </tr>\n",
       "    <tr>\n",
       "      <th id=\"T_7d490_level0_row1\" class=\"row_heading level0 row1\" >1</th>\n",
       "      <td id=\"T_7d490_row1_col0\" class=\"data row1 col0\" >0.6893</td>\n",
       "      <td id=\"T_7d490_row1_col1\" class=\"data row1 col1\" >0.6480</td>\n",
       "      <td id=\"T_7d490_row1_col2\" class=\"data row1 col2\" >0.3587</td>\n",
       "      <td id=\"T_7d490_row1_col3\" class=\"data row1 col3\" >0.6701</td>\n",
       "      <td id=\"T_7d490_row1_col4\" class=\"data row1 col4\" >0.6637</td>\n",
       "      <td id=\"T_7d490_row1_col5\" class=\"data row1 col5\" >0.2687</td>\n",
       "      <td id=\"T_7d490_row1_col6\" class=\"data row1 col6\" >0.2823</td>\n",
       "    </tr>\n",
       "    <tr>\n",
       "      <th id=\"T_7d490_level0_row2\" class=\"row_heading level0 row2\" >2</th>\n",
       "      <td id=\"T_7d490_row2_col0\" class=\"data row2 col0\" >0.6857</td>\n",
       "      <td id=\"T_7d490_row2_col1\" class=\"data row2 col1\" >0.6198</td>\n",
       "      <td id=\"T_7d490_row2_col2\" class=\"data row2 col2\" >0.3087</td>\n",
       "      <td id=\"T_7d490_row2_col3\" class=\"data row2 col3\" >0.6468</td>\n",
       "      <td id=\"T_7d490_row2_col4\" class=\"data row2 col4\" >0.6535</td>\n",
       "      <td id=\"T_7d490_row2_col5\" class=\"data row2 col5\" >0.2461</td>\n",
       "      <td id=\"T_7d490_row2_col6\" class=\"data row2 col6\" >0.2618</td>\n",
       "    </tr>\n",
       "    <tr>\n",
       "      <th id=\"T_7d490_level0_row3\" class=\"row_heading level0 row3\" >3</th>\n",
       "      <td id=\"T_7d490_row3_col0\" class=\"data row3 col0\" >0.6929</td>\n",
       "      <td id=\"T_7d490_row3_col1\" class=\"data row3 col1\" >0.6455</td>\n",
       "      <td id=\"T_7d490_row3_col2\" class=\"data row3 col2\" >0.3058</td>\n",
       "      <td id=\"T_7d490_row3_col3\" class=\"data row3 col3\" >0.6628</td>\n",
       "      <td id=\"T_7d490_row3_col4\" class=\"data row3 col4\" >0.6549</td>\n",
       "      <td id=\"T_7d490_row3_col5\" class=\"data row3 col5\" >0.2522</td>\n",
       "      <td id=\"T_7d490_row3_col6\" class=\"data row3 col6\" >0.2784</td>\n",
       "    </tr>\n",
       "    <tr>\n",
       "      <th id=\"T_7d490_level0_row4\" class=\"row_heading level0 row4\" >4</th>\n",
       "      <td id=\"T_7d490_row4_col0\" class=\"data row4 col0\" >0.6464</td>\n",
       "      <td id=\"T_7d490_row4_col1\" class=\"data row4 col1\" >0.5666</td>\n",
       "      <td id=\"T_7d490_row4_col2\" class=\"data row4 col2\" >0.3338</td>\n",
       "      <td id=\"T_7d490_row4_col3\" class=\"data row4 col3\" >0.6187</td>\n",
       "      <td id=\"T_7d490_row4_col4\" class=\"data row4 col4\" >0.6173</td>\n",
       "      <td id=\"T_7d490_row4_col5\" class=\"data row4 col5\" >0.1651</td>\n",
       "      <td id=\"T_7d490_row4_col6\" class=\"data row4 col6\" >0.1762</td>\n",
       "    </tr>\n",
       "    <tr>\n",
       "      <th id=\"T_7d490_level0_row5\" class=\"row_heading level0 row5\" >5</th>\n",
       "      <td id=\"T_7d490_row5_col0\" class=\"data row5 col0\" >0.6750</td>\n",
       "      <td id=\"T_7d490_row5_col1\" class=\"data row5 col1\" >0.6485</td>\n",
       "      <td id=\"T_7d490_row5_col2\" class=\"data row5 col2\" >0.3074</td>\n",
       "      <td id=\"T_7d490_row5_col3\" class=\"data row5 col3\" >0.6527</td>\n",
       "      <td id=\"T_7d490_row5_col4\" class=\"data row5 col4\" >0.6527</td>\n",
       "      <td id=\"T_7d490_row5_col5\" class=\"data row5 col5\" >0.2432</td>\n",
       "      <td id=\"T_7d490_row5_col6\" class=\"data row5 col6\" >0.2543</td>\n",
       "    </tr>\n",
       "    <tr>\n",
       "      <th id=\"T_7d490_level0_row6\" class=\"row_heading level0 row6\" >6</th>\n",
       "      <td id=\"T_7d490_row6_col0\" class=\"data row6 col0\" >0.7071</td>\n",
       "      <td id=\"T_7d490_row6_col1\" class=\"data row6 col1\" >0.6594</td>\n",
       "      <td id=\"T_7d490_row6_col2\" class=\"data row6 col2\" >0.3211</td>\n",
       "      <td id=\"T_7d490_row6_col3\" class=\"data row6 col3\" >0.6725</td>\n",
       "      <td id=\"T_7d490_row6_col4\" class=\"data row6 col4\" >0.6763</td>\n",
       "      <td id=\"T_7d490_row6_col5\" class=\"data row6 col5\" >0.2975</td>\n",
       "      <td id=\"T_7d490_row6_col6\" class=\"data row6 col6\" >0.3165</td>\n",
       "    </tr>\n",
       "    <tr>\n",
       "      <th id=\"T_7d490_level0_row7\" class=\"row_heading level0 row7\" >7</th>\n",
       "      <td id=\"T_7d490_row7_col0\" class=\"data row7 col0\" >0.6964</td>\n",
       "      <td id=\"T_7d490_row7_col1\" class=\"data row7 col1\" >0.6869</td>\n",
       "      <td id=\"T_7d490_row7_col2\" class=\"data row7 col2\" >0.3529</td>\n",
       "      <td id=\"T_7d490_row7_col3\" class=\"data row7 col3\" >0.6773</td>\n",
       "      <td id=\"T_7d490_row7_col4\" class=\"data row7 col4\" >0.6673</td>\n",
       "      <td id=\"T_7d490_row7_col5\" class=\"data row7 col5\" >0.2876</td>\n",
       "      <td id=\"T_7d490_row7_col6\" class=\"data row7 col6\" >0.3090</td>\n",
       "    </tr>\n",
       "    <tr>\n",
       "      <th id=\"T_7d490_level0_row8\" class=\"row_heading level0 row8\" >8</th>\n",
       "      <td id=\"T_7d490_row8_col0\" class=\"data row8 col0\" >0.6679</td>\n",
       "      <td id=\"T_7d490_row8_col1\" class=\"data row8 col1\" >0.6261</td>\n",
       "      <td id=\"T_7d490_row8_col2\" class=\"data row8 col2\" >0.2974</td>\n",
       "      <td id=\"T_7d490_row8_col3\" class=\"data row8 col3\" >0.6299</td>\n",
       "      <td id=\"T_7d490_row8_col4\" class=\"data row8 col4\" >0.6331</td>\n",
       "      <td id=\"T_7d490_row8_col5\" class=\"data row8 col5\" >0.2105</td>\n",
       "      <td id=\"T_7d490_row8_col6\" class=\"data row8 col6\" >0.2265</td>\n",
       "    </tr>\n",
       "    <tr>\n",
       "      <th id=\"T_7d490_level0_row9\" class=\"row_heading level0 row9\" >9</th>\n",
       "      <td id=\"T_7d490_row9_col0\" class=\"data row9 col0\" >0.7393</td>\n",
       "      <td id=\"T_7d490_row9_col1\" class=\"data row9 col1\" >0.6681</td>\n",
       "      <td id=\"T_7d490_row9_col2\" class=\"data row9 col2\" >0.3362</td>\n",
       "      <td id=\"T_7d490_row9_col3\" class=\"data row9 col3\" >0.7260</td>\n",
       "      <td id=\"T_7d490_row9_col4\" class=\"data row9 col4\" >0.7042</td>\n",
       "      <td id=\"T_7d490_row9_col5\" class=\"data row9 col5\" >0.3629</td>\n",
       "      <td id=\"T_7d490_row9_col6\" class=\"data row9 col6\" >0.4054</td>\n",
       "    </tr>\n",
       "    <tr>\n",
       "      <th id=\"T_7d490_level0_row10\" class=\"row_heading level0 row10\" >Mean</th>\n",
       "      <td id=\"T_7d490_row10_col0\" class=\"data row10 col0\" >0.6854</td>\n",
       "      <td id=\"T_7d490_row10_col1\" class=\"data row10 col1\" >0.6409</td>\n",
       "      <td id=\"T_7d490_row10_col2\" class=\"data row10 col2\" >0.3220</td>\n",
       "      <td id=\"T_7d490_row10_col3\" class=\"data row10 col3\" >0.6584</td>\n",
       "      <td id=\"T_7d490_row10_col4\" class=\"data row10 col4\" >0.6558</td>\n",
       "      <td id=\"T_7d490_row10_col5\" class=\"data row10 col5\" >0.2544</td>\n",
       "      <td id=\"T_7d490_row10_col6\" class=\"data row10 col6\" >0.2726</td>\n",
       "    </tr>\n",
       "    <tr>\n",
       "      <th id=\"T_7d490_level0_row11\" class=\"row_heading level0 row11\" >Std</th>\n",
       "      <td id=\"T_7d490_row11_col0\" class=\"data row11 col0\" >0.0255</td>\n",
       "      <td id=\"T_7d490_row11_col1\" class=\"data row11 col1\" >0.0309</td>\n",
       "      <td id=\"T_7d490_row11_col2\" class=\"data row11 col2\" >0.0212</td>\n",
       "      <td id=\"T_7d490_row11_col3\" class=\"data row11 col3\" >0.0297</td>\n",
       "      <td id=\"T_7d490_row11_col4\" class=\"data row11 col4\" >0.0233</td>\n",
       "      <td id=\"T_7d490_row11_col5\" class=\"data row11 col5\" >0.0519</td>\n",
       "      <td id=\"T_7d490_row11_col6\" class=\"data row11 col6\" >0.0601</td>\n",
       "    </tr>\n",
       "  </tbody>\n",
       "</table>\n"
      ],
      "text/plain": [
       "<pandas.io.formats.style.Styler at 0x7f7f9ec6f430>"
      ]
     },
     "metadata": {},
     "output_type": "display_data"
    },
    {
     "name": "stderr",
     "output_type": "stream",
     "text": [
      "/opt/miniconda3/envs/stellar/lib/python3.8/site-packages/sklearn/metrics/_classification.py:1221: UndefinedMetricWarning: Precision is ill-defined and being set to 0.0 in labels with no predicted samples. Use `zero_division` parameter to control this behavior.\n",
      "  _warn_prf(average, modifier, msg_start, len(result))\n",
      "/opt/miniconda3/envs/stellar/lib/python3.8/site-packages/sklearn/metrics/_classification.py:1221: UndefinedMetricWarning: Precision is ill-defined and being set to 0.0 in labels with no predicted samples. Use `zero_division` parameter to control this behavior.\n",
      "  _warn_prf(average, modifier, msg_start, len(result))\n",
      "/opt/miniconda3/envs/stellar/lib/python3.8/site-packages/sklearn/metrics/_classification.py:1221: UndefinedMetricWarning: Precision is ill-defined and being set to 0.0 in labels with no predicted samples. Use `zero_division` parameter to control this behavior.\n",
      "  _warn_prf(average, modifier, msg_start, len(result))\n"
     ]
    }
   ],
   "source": [
    "best_model = create_model(model_matrix);\n",
    "final_model = finalize_model(best_model);"
   ]
  },
  {
   "cell_type": "markdown",
   "id": "a5d33784",
   "metadata": {},
   "source": [
    "## Step 3 : Evaluate Model"
   ]
  },
  {
   "cell_type": "markdown",
   "id": "0f0035ee",
   "metadata": {},
   "source": [
    "### The correlation matrix shows us attributes that are statistically correlated with the target variable:"
   ]
  },
  {
   "cell_type": "raw",
   "id": "11408721-1dfd-4d44-bee7-1d9a102adde6",
   "metadata": {},
   "source": [
    "cor = df.corr()\n",
    "\n",
    "df_correlated = df\n",
    "\n",
    "corr = df_correlated.corr()\n",
    "corr.style.background_gradient(cmap='coolwarm').set_precision(2)"
   ]
  },
  {
   "cell_type": "markdown",
   "id": "de42efbb",
   "metadata": {},
   "source": [
    "### We can have a look at the most important features that determine a correct prediction by the model:"
   ]
  },
  {
   "cell_type": "code",
   "execution_count": 10,
   "id": "9cb97451",
   "metadata": {},
   "outputs": [
    {
     "data": {
      "image/png": "[encoded data removed]",
      "text/plain": [
       "<Figure size 800x500 with 1 Axes>"
      ]
     },
     "metadata": {},
     "output_type": "display_data"
    }
   ],
   "source": [
    "plot_model(final_model, plot='feature')"
   ]
  },
  {
   "cell_type": "markdown",
   "id": "ff1b4d82",
   "metadata": {},
   "source": [
    "### Let's also look at the confusion matrix for hits and misses:"
   ]
  },
  {
   "cell_type": "code",
   "execution_count": 11,
   "id": "8ce08f9c",
   "metadata": {},
   "outputs": [
    {
     "data": {
      "image/png": "[encoded data removed]",
      "text/plain": [
       "<Figure size 800x550 with 1 Axes>"
      ]
     },
     "metadata": {},
     "output_type": "display_data"
    }
   ],
   "source": [
    "plot_model(final_model, plot=\"confusion_matrix\")"
   ]
  },
  {
   "cell_type": "markdown",
   "id": "abadd2bf",
   "metadata": {},
   "source": [
    "### Let's save our model for future use:"
   ]
  },
  {
   "cell_type": "raw",
   "id": "375f6db5-e324-4f05-b1b2-db3273ea7929",
   "metadata": {},
   "source": [
    "save_model(final_model, \"./models/intermiami-productpropensity(Jul6-2022).pkl\")"
   ]
  },
  {
   "cell_type": "markdown",
   "id": "7e7f9453",
   "metadata": {},
   "source": [
    "### Let's load in our 2022 season data and get product propensity probabilities using the model:"
   ]
  },
  {
   "cell_type": "code",
   "execution_count": 12,
   "id": "c66a83e9-2274-4ca7-812d-c67ebc4b2e2b",
   "metadata": {},
   "outputs": [
    {
     "data": {
      "text/plain": [
       "(33828, 13)"
      ]
     },
     "execution_count": 12,
     "metadata": {},
     "output_type": "execute_result"
    }
   ],
   "source": [
    "df_inference = df.loc[df[\"seasonYear\"] >= 2023]\n",
    "df_inference = df_inference.fillna(0)\n",
    "df_inference.shape"
   ]
  },
  {
   "cell_type": "code",
   "execution_count": 14,
   "id": "3b524bf8-88bc-40f5-a6c3-bf7b0dde64b6",
   "metadata": {},
   "outputs": [
    {
     "data": {
      "text/html": [
       "<style type=\"text/css\">\n",
       "</style>\n",
       "<table id=\"T_4795a\">\n",
       "  <thead>\n",
       "    <tr>\n",
       "      <th class=\"blank level0\" >&nbsp;</th>\n",
       "      <th id=\"T_4795a_level0_col0\" class=\"col_heading level0 col0\" >Model</th>\n",
       "      <th id=\"T_4795a_level0_col1\" class=\"col_heading level0 col1\" >Accuracy</th>\n",
       "      <th id=\"T_4795a_level0_col2\" class=\"col_heading level0 col2\" >AUC</th>\n",
       "      <th id=\"T_4795a_level0_col3\" class=\"col_heading level0 col3\" >Recall</th>\n",
       "      <th id=\"T_4795a_level0_col4\" class=\"col_heading level0 col4\" >Prec.</th>\n",
       "      <th id=\"T_4795a_level0_col5\" class=\"col_heading level0 col5\" >F1</th>\n",
       "      <th id=\"T_4795a_level0_col6\" class=\"col_heading level0 col6\" >Kappa</th>\n",
       "      <th id=\"T_4795a_level0_col7\" class=\"col_heading level0 col7\" >MCC</th>\n",
       "    </tr>\n",
       "  </thead>\n",
       "  <tbody>\n",
       "    <tr>\n",
       "      <th id=\"T_4795a_level0_row0\" class=\"row_heading level0 row0\" >0</th>\n",
       "      <td id=\"T_4795a_row0_col0\" class=\"data row0 col0\" >Random Forest Classifier</td>\n",
       "      <td id=\"T_4795a_row0_col1\" class=\"data row0 col1\" >0.0000</td>\n",
       "      <td id=\"T_4795a_row0_col2\" class=\"data row0 col2\" >0.9906</td>\n",
       "      <td id=\"T_4795a_row0_col3\" class=\"data row0 col3\" >0</td>\n",
       "      <td id=\"T_4795a_row0_col4\" class=\"data row0 col4\" >0</td>\n",
       "      <td id=\"T_4795a_row0_col5\" class=\"data row0 col5\" >0</td>\n",
       "      <td id=\"T_4795a_row0_col6\" class=\"data row0 col6\" >0</td>\n",
       "      <td id=\"T_4795a_row0_col7\" class=\"data row0 col7\" >0</td>\n",
       "    </tr>\n",
       "  </tbody>\n",
       "</table>\n"
      ],
      "text/plain": [
       "<pandas.io.formats.style.Styler at 0x7fed300d72b0>"
      ]
     },
     "metadata": {},
     "output_type": "display_data"
    },
    {
     "data": {
      "text/html": [
       "<div>\n",
       "<style scoped>\n",
       "    .dataframe tbody tr th:only-of-type {\n",
       "        vertical-align: middle;\n",
       "    }\n",
       "\n",
       "    .dataframe tbody tr th {\n",
       "        vertical-align: top;\n",
       "    }\n",
       "\n",
       "    .dataframe thead th {\n",
       "        text-align: right;\n",
       "    }\n",
       "</style>\n",
       "<table border=\"1\" class=\"dataframe\">\n",
       "  <thead>\n",
       "    <tr style=\"text-align: right;\">\n",
       "      <th></th>\n",
       "      <th>dimCustomerMasterId</th>\n",
       "      <th>email</th>\n",
       "      <th>ticketingid</th>\n",
       "      <th>distance</th>\n",
       "      <th>seasonYear</th>\n",
       "      <th>events_prior</th>\n",
       "      <th>attended_prior</th>\n",
       "      <th>events_last</th>\n",
       "      <th>attended_last</th>\n",
       "      <th>tenure</th>\n",
       "      <th>atp_last</th>\n",
       "      <th>product_current</th>\n",
       "      <th>product_last</th>\n",
       "      <th>Label</th>\n",
       "      <th>Score</th>\n",
       "    </tr>\n",
       "  </thead>\n",
       "  <tbody>\n",
       "    <tr>\n",
       "      <th>0</th>\n",
       "      <td>20</td>\n",
       "      <td>0160495@gmail.com</td>\n",
       "      <td>1129223</td>\n",
       "      <td>62.69</td>\n",
       "      <td>2023</td>\n",
       "      <td>1</td>\n",
       "      <td>0</td>\n",
       "      <td>1</td>\n",
       "      <td>0</td>\n",
       "      <td>0</td>\n",
       "      <td>33.00</td>\n",
       "      <td>None</td>\n",
       "      <td>Individual</td>\n",
       "      <td>None</td>\n",
       "      <td>1.00</td>\n",
       "    </tr>\n",
       "    <tr>\n",
       "      <th>1</th>\n",
       "      <td>22</td>\n",
       "      <td>01juliop@gmail.com</td>\n",
       "      <td>691152</td>\n",
       "      <td>4149.97</td>\n",
       "      <td>2023</td>\n",
       "      <td>1</td>\n",
       "      <td>0</td>\n",
       "      <td>1</td>\n",
       "      <td>0</td>\n",
       "      <td>0</td>\n",
       "      <td>20.00</td>\n",
       "      <td>None</td>\n",
       "      <td>Individual</td>\n",
       "      <td>None</td>\n",
       "      <td>1.00</td>\n",
       "    </tr>\n",
       "    <tr>\n",
       "      <th>3</th>\n",
       "      <td>23</td>\n",
       "      <td>01rodeo01@gmail.com</td>\n",
       "      <td>153794</td>\n",
       "      <td>25.94</td>\n",
       "      <td>2022</td>\n",
       "      <td>30</td>\n",
       "      <td>30</td>\n",
       "      <td>17</td>\n",
       "      <td>17</td>\n",
       "      <td>1</td>\n",
       "      <td>53.53</td>\n",
       "      <td>None</td>\n",
       "      <td>Full Season</td>\n",
       "      <td>None</td>\n",
       "      <td>0.67</td>\n",
       "    </tr>\n",
       "    <tr>\n",
       "      <th>4</th>\n",
       "      <td>23</td>\n",
       "      <td>01rodeo01@gmail.com</td>\n",
       "      <td>153794</td>\n",
       "      <td>25.94</td>\n",
       "      <td>2023</td>\n",
       "      <td>31</td>\n",
       "      <td>31</td>\n",
       "      <td>1</td>\n",
       "      <td>1</td>\n",
       "      <td>2</td>\n",
       "      <td>0.00</td>\n",
       "      <td>None</td>\n",
       "      <td>None</td>\n",
       "      <td>None</td>\n",
       "      <td>1.00</td>\n",
       "    </tr>\n",
       "    <tr>\n",
       "      <th>5</th>\n",
       "      <td>52</td>\n",
       "      <td>06guer1103@gmail.com</td>\n",
       "      <td>253859</td>\n",
       "      <td>17.84</td>\n",
       "      <td>2022</td>\n",
       "      <td>17</td>\n",
       "      <td>6</td>\n",
       "      <td>17</td>\n",
       "      <td>6</td>\n",
       "      <td>0</td>\n",
       "      <td>39.41</td>\n",
       "      <td>Full Season</td>\n",
       "      <td>Full Season</td>\n",
       "      <td>Individual</td>\n",
       "      <td>0.53</td>\n",
       "    </tr>\n",
       "  </tbody>\n",
       "</table>\n",
       "</div>"
      ],
      "text/plain": [
       "   dimCustomerMasterId                 email ticketingid  distance  \\\n",
       "0                   20     0160495@gmail.com     1129223     62.69   \n",
       "1                   22    01juliop@gmail.com      691152   4149.97   \n",
       "3                   23   01rodeo01@gmail.com      153794     25.94   \n",
       "4                   23   01rodeo01@gmail.com      153794     25.94   \n",
       "5                   52  06guer1103@gmail.com      253859     17.84   \n",
       "\n",
       "   seasonYear  events_prior  attended_prior  events_last  attended_last  \\\n",
       "0        2023             1               0            1              0   \n",
       "1        2023             1               0            1              0   \n",
       "3        2022            30              30           17             17   \n",
       "4        2023            31              31            1              1   \n",
       "5        2022            17               6           17              6   \n",
       "\n",
       "   tenure  atp_last product_current product_last       Label  Score  \n",
       "0       0     33.00            None   Individual        None   1.00  \n",
       "1       0     20.00            None   Individual        None   1.00  \n",
       "3       1     53.53            None  Full Season        None   0.67  \n",
       "4       2      0.00            None         None        None   1.00  \n",
       "5       0     39.41     Full Season  Full Season  Individual   0.53  "
      ]
     },
     "execution_count": 14,
     "metadata": {},
     "output_type": "execute_result"
    }
   ],
   "source": [
    "df_predictions = predict_model(final_model, data=df_inference)\n",
    "df_predictions.head()"
   ]
  },
  {
   "cell_type": "raw",
   "id": "79db4435-b149-4ee0-ae6f-ea582a280566",
   "metadata": {},
   "source": [
    "saved_model = load_model(\"./models/intermiami-productpropensity(Jul6-2022).pkl\")\n",
    "\n",
    "df_predictions = predict_model(saved_model, data=df_inference)\n",
    "df_predictions.head()"
   ]
  },
  {
   "cell_type": "markdown",
   "id": "6e1afdb3",
   "metadata": {},
   "source": [
    "### Now we can see the count for each products in the inference data:"
   ]
  },
  {
   "cell_type": "code",
   "execution_count": 15,
   "id": "442394dc",
   "metadata": {},
   "outputs": [
    {
     "data": {
      "text/plain": [
       "None           30551\n",
       "Individual      1974\n",
       "Full Season     1270\n",
       "Half Season       18\n",
       "Flex Plan         15\n",
       "Name: Label, dtype: int64"
      ]
     },
     "execution_count": 15,
     "metadata": {},
     "output_type": "execute_result"
    }
   ],
   "source": [
    "counts = df_predictions.Label.value_counts()\n",
    "counts"
   ]
  },
  {
   "cell_type": "code",
   "execution_count": 16,
   "id": "d40338d1",
   "metadata": {},
   "outputs": [
    {
     "data": {
      "image/png": "[encoded data removed]",
      "text/plain": [
       "<Figure size 2000x300 with 3 Axes>"
      ]
     },
     "metadata": {},
     "output_type": "display_data"
    }
   ],
   "source": [
    "fig, (ax1, ax2, ax3) = plt.subplots(1, 3, figsize=(20,3))\n",
    "\n",
    "fig.suptitle(\"Product Propensity Scores\")\n",
    "\n",
    "ax1.hist(df_predictions[df_predictions.Label == \"Full Season\"].Score, bins=20,  edgecolor=\"black\", range=(0,1))\n",
    "ax2.hist(df_predictions[df_predictions.Label == \"Half Season\"].Score, bins=20, edgecolor=\"black\", range=(0,1))\n",
    "ax3.hist(df_predictions[df_predictions.Label == \"Individual\"].Score, bins=20, edgecolor=\"black\", range=(0,1))\n",
    "\n",
    "ax1.set_xlabel('Score')\n",
    "ax1.set_ylabel('Num Fans')\n",
    "\n",
    "plt.show()"
   ]
  },
  {
   "cell_type": "code",
   "execution_count": 17,
   "id": "0de47177",
   "metadata": {},
   "outputs": [
    {
     "data": {
      "text/plain": [
       "(42, 15)"
      ]
     },
     "execution_count": 17,
     "metadata": {},
     "output_type": "execute_result"
    }
   ],
   "source": [
    "df_predictions_fs = df_predictions[df_predictions.Label == \"Full Season\"]\n",
    "\n",
    "df_predictions_fs_new = df_predictions_fs[df_predictions_fs.product_last != \"Full Season\"]\n",
    "\n",
    "df_predictions_fs_new.shape"
   ]
  },
  {
   "cell_type": "markdown",
   "id": "12c932d1",
   "metadata": {},
   "source": [
    "### Let's export these scores to csv for further analysis:"
   ]
  },
  {
   "cell_type": "code",
   "execution_count": 19,
   "id": "3b508855",
   "metadata": {},
   "outputs": [],
   "source": [
    "s3 = boto3.resource('s3')\n",
    "\n",
    "bucket = \"us-curated-data-sci-product-propensity-us-east-1-d2n55o\"\n",
    "current_date = datetime.today().strftime('%Y-%m-%d')\n",
    "path = \"./data/-product-propensity-scores.csv\"\n",
    "\n",
    "df_predictions.to_csv(path, index=False)\n",
    "s3.Bucket(bucket).upload_file(path, f'date={current_date}/mlsintermiami/scores.csv')"
   ]
  },
  {
   "cell_type": "markdown",
   "id": "950656a9",
   "metadata": {},
   "source": [
    "### Done"
   ]
  }
 ],
 "metadata": {
  "kernelspec": {
   "display_name": "Python 3.8.5 ('stellar')",
   "language": "python",
   "name": "python3"
  },
  "language_info": {
   "codemirror_mode": {
    "name": "ipython",
    "version": 3
   },
   "file_extension": ".py",
   "mimetype": "text/x-python",
   "name": "python",
   "nbconvert_exporter": "python",
   "pygments_lexer": "ipython3",
   "version": "3.8.5"
  },
  "vscode": {
   "interpreter": {
    "hash": "89f48dadab51a6b5b48ffc1a9e043c21cefe67453637c3444f3b86917b8aad16"
   }
  }
 },
 "nbformat": 4,
 "nbformat_minor": 5
}
