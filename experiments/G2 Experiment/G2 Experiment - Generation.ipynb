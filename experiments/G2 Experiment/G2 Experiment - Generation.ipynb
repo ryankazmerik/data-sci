{
 "cells": [
  {
   "attachments": {},
   "cell_type": "markdown",
   "metadata": {},
   "source": [
    "# Experiment - Generation Prediction\n",
    "* StellarAlgo Data Science\n",
    "* April 14, 2023\n",
    "* Grant Donst, Peter Morrison"
   ]
  },
  {
   "cell_type": "code",
   "execution_count": 29,
   "metadata": {},
   "outputs": [
    {
     "name": "stderr",
     "output_type": "stream",
     "text": [
      "0it [00:00, ?it/s]\n",
      "TqdmDeprecationWarning: Please use `tqdm.pandas(...)` instead of `tqdm_pandas(tqdm(...))`.\n"
     ]
    }
   ],
   "source": [
    "import pandas as pd\n",
    "import os\n",
    "import numpy as np\n",
    "\n",
    "from data_sci_toolkit.aws_tools import redshift_tools\n",
    "from pycaret.classification import *\n",
    "from agefromname import GenerationFromName\n",
    "from tqdm import tqdm, tqdm_pandas\n",
    "tqdm_pandas(tqdm())"
   ]
  },
  {
   "attachments": {},
   "cell_type": "markdown",
   "metadata": {},
   "source": [
    "# Load in Data\n",
    "\n",
    "Running query to gather first name, gender, and other possible features from cohortcustomer, cohortmerch, and cohortconcession\n",
    "\n",
    "Used: https://us-east-1.quicksight.aws.amazon.com/sn/accounts/040358163756/dashboards/a1d176c8-9169-4591-9d5d-4c5025df6ad7?directory_alias=stellaralgo-quicksights&qs-nonce=IYDdz6szxXlvbhvZBqN7h2KcTPWzpOOBh5ceoklbGXs%3D#\n",
    "\n",
    "To determine which teams have good generation data (basically just the NFL teams and USL-Locomotive)"
   ]
  },
  {
   "cell_type": "code",
   "execution_count": 20,
   "metadata": {},
   "outputs": [],
   "source": [
    "query = \"\"\"\n",
    "select cc.gender, cc.dimcustomermasterid, cc.lkupclientid, cc.namefirst, cc.income, cc.education, cc.occupation, cc.monetary_tier_overall, cc.engagementbucket, cc.loyaltypointbalance, cc.isgamer, cm.itemdescription, cm.itemcount, cm.itemrevenue, ccon.purchasecount, ccon.totalspent\n",
    "from dw.cohortcustomer cc \n",
    "\tleft join dw.cohortmerch cm on cc.dimcustomermasterid = cm.dimcustomermasterid \n",
    "\tleft join dw.cohortconcession ccon on cc.dimcustomermasterid = ccon.dimcustomermasterid \n",
    "where cc.gender is not null \n",
    "and cc.namefirst is not null;\n",
    "\"\"\"\n",
    "\n",
    "cluster = \"prod-app\"\n",
    "database = \"stlrnflvikings\""
   ]
  },
  {
   "cell_type": "code",
   "execution_count": 21,
   "metadata": {},
   "outputs": [
    {
     "name": "stdout",
     "output_type": "stream",
     "text": [
      "Authorized as AROASQ4JELIXYLYV6P4UV:gdonst@stellaralgo.com\n"
     ]
    }
   ],
   "source": [
    "conn = redshift_tools.get_redshift_connection(cluster, database)\n",
    "\n",
    "cur = conn.cursor()\n",
    "cur.execute(query)\n",
    "\n",
    "data = cur.fetchall()\n",
    "\n",
    "cols = [row[0] for row in cur.description]\n",
    "df = pd.DataFrame(data=data, columns=cols)\n",
    "\n",
    "conn.close()"
   ]
  },
  {
   "cell_type": "code",
   "execution_count": 22,
   "metadata": {},
   "outputs": [],
   "source": [
    "df_generation = df"
   ]
  },
  {
   "attachments": {},
   "cell_type": "markdown",
   "metadata": {},
   "source": [
    "# Pre-Processing\n",
    "\n",
    "We will preprocess the data, so we can have a predicted score of their ethnicity and clean other data."
   ]
  },
  {
   "cell_type": "code",
   "execution_count": 23,
   "metadata": {},
   "outputs": [
    {
     "data": {
      "text/plain": [
       "Male      2098546\n",
       "Female    1070932\n",
       "U          192078\n",
       "Name: gender, dtype: int64"
      ]
     },
     "execution_count": 23,
     "metadata": {},
     "output_type": "execute_result"
    }
   ],
   "source": [
    "df_generation[\"gender\"].value_counts()"
   ]
  },
  {
   "cell_type": "code",
   "execution_count": 24,
   "metadata": {},
   "outputs": [],
   "source": [
    "df_generation = df_generation[df_generation[\"gender\"] != \"U\"]"
   ]
  },
  {
   "cell_type": "code",
   "execution_count": 25,
   "metadata": {},
   "outputs": [],
   "source": [
    "df_generation[\"gender\"] = np.where(df_generation['gender'] == \"Male\", \"m\", \"f\")"
   ]
  },
  {
   "cell_type": "code",
   "execution_count": 27,
   "metadata": {},
   "outputs": [
    {
     "data": {
      "text/plain": [
       "m    2098546\n",
       "f    1070932\n",
       "Name: gender, dtype: int64"
      ]
     },
     "execution_count": 27,
     "metadata": {},
     "output_type": "execute_result"
    }
   ],
   "source": [
    "df_generation[\"gender\"].value_counts()"
   ]
  },
  {
   "cell_type": "code",
   "execution_count": 30,
   "metadata": {},
   "outputs": [
    {
     "name": "stderr",
     "output_type": "stream",
     "text": [
      "2002it [07:13,  4.62it/s]\n"
     ]
    },
    {
     "ename": "KeyboardInterrupt",
     "evalue": "",
     "output_type": "error",
     "traceback": [
      "\u001b[0;31m---------------------------------------------------------------------------\u001b[0m",
      "\u001b[0;31mKeyboardInterrupt\u001b[0m                         Traceback (most recent call last)",
      "\u001b[1;32m/Users/grantdonst/Documents/GitHub/data-sci/experiments/G2 Experiment/G2 Experiment - Generation.ipynb Cell 12\u001b[0m in \u001b[0;36m2\n\u001b[1;32m      <a href='vscode-notebook-cell:/Users/grantdonst/Documents/GitHub/data-sci/experiments/G2%20Experiment/G2%20Experiment%20-%20Generation.ipynb#W5sZmlsZQ%3D%3D?line=0'>1</a>\u001b[0m generation_from_name \u001b[39m=\u001b[39m GenerationFromName()\n\u001b[0;32m----> <a href='vscode-notebook-cell:/Users/grantdonst/Documents/GitHub/data-sci/experiments/G2%20Experiment/G2%20Experiment%20-%20Generation.ipynb#W5sZmlsZQ%3D%3D?line=1'>2</a>\u001b[0m df_generation[\u001b[39m'\u001b[39m\u001b[39mgen_pred\u001b[39m\u001b[39m'\u001b[39m] \u001b[39m=\u001b[39m df_generation\u001b[39m.\u001b[39;49mprogress_apply(\u001b[39mlambda\u001b[39;49;00m x: generation_from_name\u001b[39m.\u001b[39;49margmax(x\u001b[39m.\u001b[39;49mnamefirst\u001b[39m.\u001b[39;49mtitle(), x\u001b[39m.\u001b[39;49mgender), axis\u001b[39m=\u001b[39;49m\u001b[39m1\u001b[39;49m)\n",
      "File \u001b[0;32m/opt/miniconda3/envs/testenv/lib/python3.8/site-packages/tqdm/std.py:814\u001b[0m, in \u001b[0;36mtqdm.pandas.<locals>.inner_generator.<locals>.inner\u001b[0;34m(df, func, *args, **kwargs)\u001b[0m\n\u001b[1;32m    811\u001b[0m \u001b[39m# Apply the provided function (in **kwargs)\u001b[39;00m\n\u001b[1;32m    812\u001b[0m \u001b[39m# on the df using our wrapper (which provides bar updating)\u001b[39;00m\n\u001b[1;32m    813\u001b[0m \u001b[39mtry\u001b[39;00m:\n\u001b[0;32m--> 814\u001b[0m     \u001b[39mreturn\u001b[39;00m \u001b[39mgetattr\u001b[39;49m(df, df_function)(wrapper, \u001b[39m*\u001b[39;49m\u001b[39m*\u001b[39;49mkwargs)\n\u001b[1;32m    815\u001b[0m \u001b[39mfinally\u001b[39;00m:\n\u001b[1;32m    816\u001b[0m     t\u001b[39m.\u001b[39mclose()\n",
      "File \u001b[0;32m/opt/miniconda3/envs/testenv/lib/python3.8/site-packages/pandas/core/frame.py:8848\u001b[0m, in \u001b[0;36mDataFrame.apply\u001b[0;34m(self, func, axis, raw, result_type, args, **kwargs)\u001b[0m\n\u001b[1;32m   8837\u001b[0m \u001b[39mfrom\u001b[39;00m \u001b[39mpandas\u001b[39;00m\u001b[39m.\u001b[39;00m\u001b[39mcore\u001b[39;00m\u001b[39m.\u001b[39;00m\u001b[39mapply\u001b[39;00m \u001b[39mimport\u001b[39;00m frame_apply\n\u001b[1;32m   8839\u001b[0m op \u001b[39m=\u001b[39m frame_apply(\n\u001b[1;32m   8840\u001b[0m     \u001b[39mself\u001b[39m,\n\u001b[1;32m   8841\u001b[0m     func\u001b[39m=\u001b[39mfunc,\n\u001b[0;32m   (...)\u001b[0m\n\u001b[1;32m   8846\u001b[0m     kwargs\u001b[39m=\u001b[39mkwargs,\n\u001b[1;32m   8847\u001b[0m )\n\u001b[0;32m-> 8848\u001b[0m \u001b[39mreturn\u001b[39;00m op\u001b[39m.\u001b[39;49mapply()\u001b[39m.\u001b[39m__finalize__(\u001b[39mself\u001b[39m, method\u001b[39m=\u001b[39m\u001b[39m\"\u001b[39m\u001b[39mapply\u001b[39m\u001b[39m\"\u001b[39m)\n",
      "File \u001b[0;32m/opt/miniconda3/envs/testenv/lib/python3.8/site-packages/pandas/core/apply.py:733\u001b[0m, in \u001b[0;36mFrameApply.apply\u001b[0;34m(self)\u001b[0m\n\u001b[1;32m    730\u001b[0m \u001b[39melif\u001b[39;00m \u001b[39mself\u001b[39m\u001b[39m.\u001b[39mraw:\n\u001b[1;32m    731\u001b[0m     \u001b[39mreturn\u001b[39;00m \u001b[39mself\u001b[39m\u001b[39m.\u001b[39mapply_raw()\n\u001b[0;32m--> 733\u001b[0m \u001b[39mreturn\u001b[39;00m \u001b[39mself\u001b[39;49m\u001b[39m.\u001b[39;49mapply_standard()\n",
      "File \u001b[0;32m/opt/miniconda3/envs/testenv/lib/python3.8/site-packages/pandas/core/apply.py:857\u001b[0m, in \u001b[0;36mFrameApply.apply_standard\u001b[0;34m(self)\u001b[0m\n\u001b[1;32m    856\u001b[0m \u001b[39mdef\u001b[39;00m \u001b[39mapply_standard\u001b[39m(\u001b[39mself\u001b[39m):\n\u001b[0;32m--> 857\u001b[0m     results, res_index \u001b[39m=\u001b[39m \u001b[39mself\u001b[39;49m\u001b[39m.\u001b[39;49mapply_series_generator()\n\u001b[1;32m    859\u001b[0m     \u001b[39m# wrap results\u001b[39;00m\n\u001b[1;32m    860\u001b[0m     \u001b[39mreturn\u001b[39;00m \u001b[39mself\u001b[39m\u001b[39m.\u001b[39mwrap_results(results, res_index)\n",
      "File \u001b[0;32m/opt/miniconda3/envs/testenv/lib/python3.8/site-packages/pandas/core/apply.py:873\u001b[0m, in \u001b[0;36mFrameApply.apply_series_generator\u001b[0;34m(self)\u001b[0m\n\u001b[1;32m    870\u001b[0m \u001b[39mwith\u001b[39;00m option_context(\u001b[39m\"\u001b[39m\u001b[39mmode.chained_assignment\u001b[39m\u001b[39m\"\u001b[39m, \u001b[39mNone\u001b[39;00m):\n\u001b[1;32m    871\u001b[0m     \u001b[39mfor\u001b[39;00m i, v \u001b[39min\u001b[39;00m \u001b[39menumerate\u001b[39m(series_gen):\n\u001b[1;32m    872\u001b[0m         \u001b[39m# ignore SettingWithCopy here in case the user mutates\u001b[39;00m\n\u001b[0;32m--> 873\u001b[0m         results[i] \u001b[39m=\u001b[39m \u001b[39mself\u001b[39;49m\u001b[39m.\u001b[39;49mf(v)\n\u001b[1;32m    874\u001b[0m         \u001b[39mif\u001b[39;00m \u001b[39misinstance\u001b[39m(results[i], ABCSeries):\n\u001b[1;32m    875\u001b[0m             \u001b[39m# If we have a view on v, we need to make a copy because\u001b[39;00m\n\u001b[1;32m    876\u001b[0m             \u001b[39m#  series_generator will swap out the underlying data\u001b[39;00m\n\u001b[1;32m    877\u001b[0m             results[i] \u001b[39m=\u001b[39m results[i]\u001b[39m.\u001b[39mcopy(deep\u001b[39m=\u001b[39m\u001b[39mFalse\u001b[39;00m)\n",
      "File \u001b[0;32m/opt/miniconda3/envs/testenv/lib/python3.8/site-packages/tqdm/std.py:809\u001b[0m, in \u001b[0;36mtqdm.pandas.<locals>.inner_generator.<locals>.inner.<locals>.wrapper\u001b[0;34m(*args, **kwargs)\u001b[0m\n\u001b[1;32m    803\u001b[0m \u001b[39mdef\u001b[39;00m \u001b[39mwrapper\u001b[39m(\u001b[39m*\u001b[39margs, \u001b[39m*\u001b[39m\u001b[39m*\u001b[39mkwargs):\n\u001b[1;32m    804\u001b[0m     \u001b[39m# update tbar correctly\u001b[39;00m\n\u001b[1;32m    805\u001b[0m     \u001b[39m# it seems `pandas apply` calls `func` twice\u001b[39;00m\n\u001b[1;32m    806\u001b[0m     \u001b[39m# on the first column/row to decide whether it can\u001b[39;00m\n\u001b[1;32m    807\u001b[0m     \u001b[39m# take a fast or slow code path; so stop when t.total==t.n\u001b[39;00m\n\u001b[1;32m    808\u001b[0m     t\u001b[39m.\u001b[39mupdate(n\u001b[39m=\u001b[39m\u001b[39m1\u001b[39m \u001b[39mif\u001b[39;00m \u001b[39mnot\u001b[39;00m t\u001b[39m.\u001b[39mtotal \u001b[39mor\u001b[39;00m t\u001b[39m.\u001b[39mn \u001b[39m<\u001b[39m t\u001b[39m.\u001b[39mtotal \u001b[39melse\u001b[39;00m \u001b[39m0\u001b[39m)\n\u001b[0;32m--> 809\u001b[0m     \u001b[39mreturn\u001b[39;00m func(\u001b[39m*\u001b[39;49margs, \u001b[39m*\u001b[39;49m\u001b[39m*\u001b[39;49mkwargs)\n",
      "\u001b[1;32m/Users/grantdonst/Documents/GitHub/data-sci/experiments/G2 Experiment/G2 Experiment - Generation.ipynb Cell 12\u001b[0m in \u001b[0;36m2\n\u001b[1;32m      <a href='vscode-notebook-cell:/Users/grantdonst/Documents/GitHub/data-sci/experiments/G2%20Experiment/G2%20Experiment%20-%20Generation.ipynb#W5sZmlsZQ%3D%3D?line=0'>1</a>\u001b[0m generation_from_name \u001b[39m=\u001b[39m GenerationFromName()\n\u001b[0;32m----> <a href='vscode-notebook-cell:/Users/grantdonst/Documents/GitHub/data-sci/experiments/G2%20Experiment/G2%20Experiment%20-%20Generation.ipynb#W5sZmlsZQ%3D%3D?line=1'>2</a>\u001b[0m df_generation[\u001b[39m'\u001b[39m\u001b[39mgen_pred\u001b[39m\u001b[39m'\u001b[39m] \u001b[39m=\u001b[39m df_generation\u001b[39m.\u001b[39mprogress_apply(\u001b[39mlambda\u001b[39;00m x: generation_from_name\u001b[39m.\u001b[39;49margmax(x\u001b[39m.\u001b[39;49mnamefirst\u001b[39m.\u001b[39;49mtitle(), x\u001b[39m.\u001b[39;49mgender), axis\u001b[39m=\u001b[39m\u001b[39m1\u001b[39m)\n",
      "File \u001b[0;32m/opt/miniconda3/envs/testenv/lib/python3.8/site-packages/agefromname/generation_from_name.py:101\u001b[0m, in \u001b[0;36mGenerationFromName.argmax\u001b[0;34m(self, first_name, sex, current_year, minimum_age, maximum_age)\u001b[0m\n\u001b[1;32m     90\u001b[0m \u001b[39mdef\u001b[39;00m \u001b[39margmax\u001b[39m(\u001b[39mself\u001b[39m, first_name, sex, current_year\u001b[39m=\u001b[39mdatetime\u001b[39m.\u001b[39mnow()\u001b[39m.\u001b[39myear,\n\u001b[1;32m     91\u001b[0m            minimum_age\u001b[39m=\u001b[39m\u001b[39m0\u001b[39m, maximum_age\u001b[39m=\u001b[39m\u001b[39m1000\u001b[39m):\n\u001b[1;32m     92\u001b[0m \t\u001b[39m'''\u001b[39;00m\n\u001b[1;32m     93\u001b[0m \u001b[39m\t:param first_name: str, First name\u001b[39;00m\n\u001b[1;32m     94\u001b[0m \u001b[39m\t:param sex: str, m or f for sex\u001b[39;00m\n\u001b[0;32m   (...)\u001b[0m\n\u001b[1;32m     99\u001b[0m \u001b[39m\tpeople who share sex andfirst name who were born that generation.\u001b[39;00m\n\u001b[1;32m    100\u001b[0m \u001b[39m\t'''\u001b[39;00m\n\u001b[0;32m--> 101\u001b[0m \t\u001b[39mreturn\u001b[39;00m \u001b[39mself\u001b[39;49m\u001b[39m.\u001b[39;49mget_estimated_distribution(first_name, sex,\n\u001b[1;32m    102\u001b[0m \t                                       current_year, minimum_age, maximum_age)\u001b[39m.\u001b[39midxmax()\n",
      "File \u001b[0;32m/opt/miniconda3/envs/testenv/lib/python3.8/site-packages/agefromname/generation_from_name.py:85\u001b[0m, in \u001b[0;36mGenerationFromName.get_estimated_distribution\u001b[0;34m(self, first_name, sex, current_year, minimum_age, maximum_age)\u001b[0m\n\u001b[1;32m     73\u001b[0m \u001b[39mdef\u001b[39;00m \u001b[39mget_estimated_distribution\u001b[39m(\u001b[39mself\u001b[39m, first_name, sex,\n\u001b[1;32m     74\u001b[0m                                current_year\u001b[39m=\u001b[39mdatetime\u001b[39m.\u001b[39mnow()\u001b[39m.\u001b[39myear,\n\u001b[1;32m     75\u001b[0m                                minimum_age\u001b[39m=\u001b[39m\u001b[39m0\u001b[39m, maximum_age\u001b[39m=\u001b[39m\u001b[39m1000\u001b[39m):\n\u001b[1;32m     76\u001b[0m \t\u001b[39m'''\u001b[39;00m\n\u001b[1;32m     77\u001b[0m \u001b[39m\t:param first_name: str, First name\u001b[39;00m\n\u001b[1;32m     78\u001b[0m \u001b[39m\t:param sex: str, m or f for sex\u001b[39;00m\n\u001b[0;32m   (...)\u001b[0m\n\u001b[1;32m     83\u001b[0m \u001b[39m\tpeople who share sex andfirst name who were born that generation.\u001b[39;00m\n\u001b[1;32m     84\u001b[0m \u001b[39m\t'''\u001b[39;00m\n\u001b[0;32m---> 85\u001b[0m \tto_ret \u001b[39m=\u001b[39m \u001b[39mself\u001b[39m\u001b[39m.\u001b[39m_generational_rollup(\u001b[39mself\u001b[39;49m\u001b[39m.\u001b[39;49m_age_from_name\u001b[39m.\u001b[39;49mget_estimated_distribution\n\u001b[1;32m     86\u001b[0m \t                                   (first_name, sex, current_year, minimum_age, maximum_age))\n\u001b[1;32m     87\u001b[0m \tto_ret\u001b[39m.\u001b[39mname \u001b[39m=\u001b[39m \u001b[39m'\u001b[39m\u001b[39mestimate_percentage\u001b[39m\u001b[39m'\u001b[39m\n\u001b[1;32m     88\u001b[0m \t\u001b[39mreturn\u001b[39;00m to_ret\n",
      "File \u001b[0;32m/opt/miniconda3/envs/testenv/lib/python3.8/site-packages/agefromname/age_from_name.py:239\u001b[0m, in \u001b[0;36mAgeFromName.get_estimated_distribution\u001b[0;34m(self, first_name, sex, current_year, minimum_age, maximum_age)\u001b[0m\n\u001b[1;32m    223\u001b[0m \u001b[39mdef\u001b[39;00m \u001b[39mget_estimated_distribution\u001b[39m(\u001b[39mself\u001b[39m,\n\u001b[1;32m    224\u001b[0m                                first_name,\n\u001b[1;32m    225\u001b[0m                                sex,\n\u001b[1;32m    226\u001b[0m                                current_year\u001b[39m=\u001b[39mdatetime\u001b[39m.\u001b[39mnow()\u001b[39m.\u001b[39myear,\n\u001b[1;32m    227\u001b[0m                                minimum_age\u001b[39m=\u001b[39m\u001b[39m0\u001b[39m,\n\u001b[1;32m    228\u001b[0m                                maximum_age\u001b[39m=\u001b[39m\u001b[39m1000\u001b[39m):\n\u001b[1;32m    229\u001b[0m     \u001b[39m'''\u001b[39;00m\n\u001b[1;32m    230\u001b[0m \u001b[39m    :param first_name: str, First name\u001b[39;00m\n\u001b[1;32m    231\u001b[0m \u001b[39m    :param sex: str, m or f for sex\u001b[39;00m\n\u001b[0;32m   (...)\u001b[0m\n\u001b[1;32m    237\u001b[0m \u001b[39m        first name who were born that year.\u001b[39;00m\n\u001b[1;32m    238\u001b[0m \u001b[39m    '''\u001b[39;00m\n\u001b[0;32m--> 239\u001b[0m     age_counts \u001b[39m=\u001b[39m \u001b[39mself\u001b[39;49m\u001b[39m.\u001b[39;49mget_estimated_counts(first_name, sex, current_year, minimum_age, maximum_age)\n\u001b[1;32m    240\u001b[0m     to_ret \u001b[39m=\u001b[39m age_counts \u001b[39m/\u001b[39m age_counts\u001b[39m.\u001b[39msum()\n\u001b[1;32m    241\u001b[0m     to_ret\u001b[39m.\u001b[39mname \u001b[39m=\u001b[39m \u001b[39m'\u001b[39m\u001b[39mestimate_percentage\u001b[39m\u001b[39m'\u001b[39m\n",
      "File \u001b[0;32m/opt/miniconda3/envs/testenv/lib/python3.8/site-packages/agefromname/age_from_name.py:70\u001b[0m, in \u001b[0;36mAgeFromName.get_estimated_counts\u001b[0;34m(self, first_name, sex, current_year, minimum_age, maximum_age)\u001b[0m\n\u001b[1;32m     67\u001b[0m sex \u001b[39m=\u001b[39m \u001b[39mself\u001b[39m\u001b[39m.\u001b[39m_check_and_normalize_gender(sex)\n\u001b[1;32m     69\u001b[0m \u001b[39mif\u001b[39;00m sex \u001b[39mis\u001b[39;00m \u001b[39mnot\u001b[39;00m \u001b[39mNone\u001b[39;00m:\n\u001b[0;32m---> 70\u001b[0m     cur_df \u001b[39m=\u001b[39m (\u001b[39mself\u001b[39m\u001b[39m.\u001b[39m_year_of_birth_df[\u001b[39mself\u001b[39;49m\u001b[39m.\u001b[39;49m_birth_year_df_mask(current_year, first_name,\n\u001b[1;32m     71\u001b[0m                                                               minimum_age, maximum_age, sex)]\n\u001b[1;32m     72\u001b[0m     [[\u001b[39m'\u001b[39m\u001b[39myear_of_birth\u001b[39m\u001b[39m'\u001b[39m, \u001b[39m'\u001b[39m\u001b[39mcount\u001b[39m\u001b[39m'\u001b[39m]])\n\u001b[1;32m     73\u001b[0m     year_stats \u001b[39m=\u001b[39m (\u001b[39mself\u001b[39m\u001b[39m.\u001b[39m_mortality_df[\u001b[39mself\u001b[39m\u001b[39m.\u001b[39m_mortality_df\u001b[39m.\u001b[39mas_of_year \u001b[39m==\u001b[39m current_year]\n\u001b[1;32m     74\u001b[0m     [[\u001b[39m'\u001b[39m\u001b[39myear_of_birth\u001b[39m\u001b[39m'\u001b[39m, sex \u001b[39m+\u001b[39m \u001b[39m'\u001b[39m\u001b[39m_prob_alive\u001b[39m\u001b[39m'\u001b[39m]])\n\u001b[1;32m     75\u001b[0m     cur_df[\u001b[39m'\u001b[39m\u001b[39mprob_alive\u001b[39m\u001b[39m'\u001b[39m] \u001b[39m=\u001b[39m np\u001b[39m.\u001b[39minterp(cur_df\u001b[39m.\u001b[39myear_of_birth,\n\u001b[1;32m     76\u001b[0m                                      year_stats\u001b[39m.\u001b[39myear_of_birth,\n\u001b[1;32m     77\u001b[0m                                      year_stats[sex \u001b[39m+\u001b[39m \u001b[39m'\u001b[39m\u001b[39m_prob_alive\u001b[39m\u001b[39m'\u001b[39m])\n",
      "File \u001b[0;32m/opt/miniconda3/envs/testenv/lib/python3.8/site-packages/agefromname/age_from_name.py:208\u001b[0m, in \u001b[0;36mAgeFromName._birth_year_df_mask\u001b[0;34m(self, current_year, first_name, minimum_age, maximum_age, sex)\u001b[0m\n\u001b[1;32m    205\u001b[0m mask \u001b[39m=\u001b[39m ((\u001b[39mself\u001b[39m\u001b[39m.\u001b[39m_year_of_birth_df\u001b[39m.\u001b[39myear_of_birth \u001b[39m<\u001b[39m\u001b[39m=\u001b[39m (current_year \u001b[39m-\u001b[39m minimum_age))\n\u001b[1;32m    206\u001b[0m         \u001b[39m&\u001b[39m (\u001b[39mself\u001b[39m\u001b[39m.\u001b[39m_year_of_birth_df\u001b[39m.\u001b[39myear_of_birth \u001b[39m>\u001b[39m\u001b[39m=\u001b[39m (current_year \u001b[39m-\u001b[39m maximum_age)))\n\u001b[1;32m    207\u001b[0m \u001b[39mif\u001b[39;00m sex \u001b[39mis\u001b[39;00m \u001b[39mnot\u001b[39;00m \u001b[39mNone\u001b[39;00m:\n\u001b[0;32m--> 208\u001b[0m     mask \u001b[39m&\u001b[39m\u001b[39m=\u001b[39m (\u001b[39mself\u001b[39;49m\u001b[39m.\u001b[39;49m_year_of_birth_df\u001b[39m.\u001b[39;49msex \u001b[39m==\u001b[39;49m sex)\n\u001b[1;32m    209\u001b[0m \u001b[39mif\u001b[39;00m first_name \u001b[39mis\u001b[39;00m \u001b[39mnot\u001b[39;00m \u001b[39mNone\u001b[39;00m:\n\u001b[1;32m    210\u001b[0m     mask \u001b[39m&\u001b[39m\u001b[39m=\u001b[39m (\u001b[39mself\u001b[39m\u001b[39m.\u001b[39m_year_of_birth_df\u001b[39m.\u001b[39mfirst_name \u001b[39m==\u001b[39m first_name)\n",
      "File \u001b[0;32m/opt/miniconda3/envs/testenv/lib/python3.8/site-packages/pandas/core/ops/common.py:70\u001b[0m, in \u001b[0;36m_unpack_zerodim_and_defer.<locals>.new_method\u001b[0;34m(self, other)\u001b[0m\n\u001b[1;32m     66\u001b[0m             \u001b[39mreturn\u001b[39;00m \u001b[39mNotImplemented\u001b[39m\n\u001b[1;32m     68\u001b[0m other \u001b[39m=\u001b[39m item_from_zerodim(other)\n\u001b[0;32m---> 70\u001b[0m \u001b[39mreturn\u001b[39;00m method(\u001b[39mself\u001b[39;49m, other)\n",
      "File \u001b[0;32m/opt/miniconda3/envs/testenv/lib/python3.8/site-packages/pandas/core/arraylike.py:40\u001b[0m, in \u001b[0;36mOpsMixin.__eq__\u001b[0;34m(self, other)\u001b[0m\n\u001b[1;32m     38\u001b[0m \u001b[39m@unpack_zerodim_and_defer\u001b[39m(\u001b[39m\"\u001b[39m\u001b[39m__eq__\u001b[39m\u001b[39m\"\u001b[39m)\n\u001b[1;32m     39\u001b[0m \u001b[39mdef\u001b[39;00m \u001b[39m__eq__\u001b[39m(\u001b[39mself\u001b[39m, other):\n\u001b[0;32m---> 40\u001b[0m     \u001b[39mreturn\u001b[39;00m \u001b[39mself\u001b[39;49m\u001b[39m.\u001b[39;49m_cmp_method(other, operator\u001b[39m.\u001b[39;49meq)\n",
      "File \u001b[0;32m/opt/miniconda3/envs/testenv/lib/python3.8/site-packages/pandas/core/series.py:5623\u001b[0m, in \u001b[0;36mSeries._cmp_method\u001b[0;34m(self, other, op)\u001b[0m\n\u001b[1;32m   5620\u001b[0m rvalues \u001b[39m=\u001b[39m extract_array(other, extract_numpy\u001b[39m=\u001b[39m\u001b[39mTrue\u001b[39;00m, extract_range\u001b[39m=\u001b[39m\u001b[39mTrue\u001b[39;00m)\n\u001b[1;32m   5622\u001b[0m \u001b[39mwith\u001b[39;00m np\u001b[39m.\u001b[39merrstate(\u001b[39mall\u001b[39m\u001b[39m=\u001b[39m\u001b[39m\"\u001b[39m\u001b[39mignore\u001b[39m\u001b[39m\"\u001b[39m):\n\u001b[0;32m-> 5623\u001b[0m     res_values \u001b[39m=\u001b[39m ops\u001b[39m.\u001b[39;49mcomparison_op(lvalues, rvalues, op)\n\u001b[1;32m   5625\u001b[0m \u001b[39mreturn\u001b[39;00m \u001b[39mself\u001b[39m\u001b[39m.\u001b[39m_construct_result(res_values, name\u001b[39m=\u001b[39mres_name)\n",
      "File \u001b[0;32m/opt/miniconda3/envs/testenv/lib/python3.8/site-packages/pandas/core/ops/array_ops.py:283\u001b[0m, in \u001b[0;36mcomparison_op\u001b[0;34m(left, right, op)\u001b[0m\n\u001b[1;32m    280\u001b[0m     \u001b[39mreturn\u001b[39;00m invalid_comparison(lvalues, rvalues, op)\n\u001b[1;32m    282\u001b[0m \u001b[39melif\u001b[39;00m is_object_dtype(lvalues\u001b[39m.\u001b[39mdtype) \u001b[39mor\u001b[39;00m \u001b[39misinstance\u001b[39m(rvalues, \u001b[39mstr\u001b[39m):\n\u001b[0;32m--> 283\u001b[0m     res_values \u001b[39m=\u001b[39m comp_method_OBJECT_ARRAY(op, lvalues, rvalues)\n\u001b[1;32m    285\u001b[0m \u001b[39melse\u001b[39;00m:\n\u001b[1;32m    286\u001b[0m     res_values \u001b[39m=\u001b[39m _na_arithmetic_op(lvalues, rvalues, op, is_cmp\u001b[39m=\u001b[39m\u001b[39mTrue\u001b[39;00m)\n",
      "File \u001b[0;32m/opt/miniconda3/envs/testenv/lib/python3.8/site-packages/pandas/core/ops/array_ops.py:73\u001b[0m, in \u001b[0;36mcomp_method_OBJECT_ARRAY\u001b[0;34m(op, x, y)\u001b[0m\n\u001b[1;32m     71\u001b[0m     result \u001b[39m=\u001b[39m libops\u001b[39m.\u001b[39mvec_compare(x\u001b[39m.\u001b[39mravel(), y\u001b[39m.\u001b[39mravel(), op)\n\u001b[1;32m     72\u001b[0m \u001b[39melse\u001b[39;00m:\n\u001b[0;32m---> 73\u001b[0m     result \u001b[39m=\u001b[39m libops\u001b[39m.\u001b[39;49mscalar_compare(x\u001b[39m.\u001b[39;49mravel(), y, op)\n\u001b[1;32m     74\u001b[0m \u001b[39mreturn\u001b[39;00m result\u001b[39m.\u001b[39mreshape(x\u001b[39m.\u001b[39mshape)\n",
      "\u001b[0;31mKeyboardInterrupt\u001b[0m: "
     ]
    }
   ],
   "source": [
    "generation_from_name = GenerationFromName()\n",
    "df_generation['gen_pred'] = df_generation.progress_apply(lambda x: generation_from_name.argmax(x.namefirst.title(), x.gender), axis=1)"
   ]
  },
  {
   "cell_type": "code",
   "execution_count": 21,
   "metadata": {},
   "outputs": [
    {
     "data": {
      "text/html": [
       "<div>\n",
       "<style scoped>\n",
       "    .dataframe tbody tr th:only-of-type {\n",
       "        vertical-align: middle;\n",
       "    }\n",
       "\n",
       "    .dataframe tbody tr th {\n",
       "        vertical-align: top;\n",
       "    }\n",
       "\n",
       "    .dataframe thead th {\n",
       "        text-align: right;\n",
       "    }\n",
       "</style>\n",
       "<table border=\"1\" class=\"dataframe\">\n",
       "  <thead>\n",
       "    <tr style=\"text-align: right;\">\n",
       "      <th></th>\n",
       "      <th>gender</th>\n",
       "      <th>dimcustomermasterid</th>\n",
       "      <th>lkupclientid</th>\n",
       "      <th>namefirst</th>\n",
       "      <th>namelast</th>\n",
       "      <th>income</th>\n",
       "      <th>education</th>\n",
       "      <th>occupation</th>\n",
       "      <th>monetary_tier_overall</th>\n",
       "      <th>engagementbucket</th>\n",
       "      <th>ethnicity</th>\n",
       "      <th>pctwhite</th>\n",
       "      <th>pctblack</th>\n",
       "      <th>pctapi</th>\n",
       "      <th>pctaian</th>\n",
       "      <th>pct2prace</th>\n",
       "      <th>pcthispanic</th>\n",
       "    </tr>\n",
       "  </thead>\n",
       "  <tbody>\n",
       "    <tr>\n",
       "      <th>0</th>\n",
       "      <td>Male</td>\n",
       "      <td>330718</td>\n",
       "      <td>5</td>\n",
       "      <td>Jamie</td>\n",
       "      <td>Mcgowan</td>\n",
       "      <td>35000</td>\n",
       "      <td>Completed High School</td>\n",
       "      <td>None</td>\n",
       "      <td>None</td>\n",
       "      <td>No Data</td>\n",
       "      <td>White or Other</td>\n",
       "      <td>77.96</td>\n",
       "      <td>18.69</td>\n",
       "      <td>0.35</td>\n",
       "      <td>0.40</td>\n",
       "      <td>1.28</td>\n",
       "      <td>1.32</td>\n",
       "    </tr>\n",
       "    <tr>\n",
       "      <th>1</th>\n",
       "      <td>Male</td>\n",
       "      <td>330722</td>\n",
       "      <td>5</td>\n",
       "      <td>Jordan</td>\n",
       "      <td>Gilbreth</td>\n",
       "      <td>124999</td>\n",
       "      <td>Completed Graduate School</td>\n",
       "      <td>Professional / Technical</td>\n",
       "      <td>None</td>\n",
       "      <td>No Data</td>\n",
       "      <td>Asian</td>\n",
       "      <td>92.40</td>\n",
       "      <td>(S)</td>\n",
       "      <td>(S)</td>\n",
       "      <td>0.92</td>\n",
       "      <td>1.84</td>\n",
       "      <td>3.57</td>\n",
       "    </tr>\n",
       "    <tr>\n",
       "      <th>2</th>\n",
       "      <td>Male</td>\n",
       "      <td>330728</td>\n",
       "      <td>5</td>\n",
       "      <td>Jason</td>\n",
       "      <td>Hamilton</td>\n",
       "      <td>35000</td>\n",
       "      <td>Completed High School</td>\n",
       "      <td>None</td>\n",
       "      <td>None</td>\n",
       "      <td>No Data</td>\n",
       "      <td>White or Other</td>\n",
       "      <td>72.79</td>\n",
       "      <td>22.65</td>\n",
       "      <td>0.44</td>\n",
       "      <td>0.78</td>\n",
       "      <td>1.73</td>\n",
       "      <td>1.61</td>\n",
       "    </tr>\n",
       "    <tr>\n",
       "      <th>3</th>\n",
       "      <td>Male</td>\n",
       "      <td>330729</td>\n",
       "      <td>5</td>\n",
       "      <td>Jonathan</td>\n",
       "      <td>Lanz</td>\n",
       "      <td>45000</td>\n",
       "      <td>Completed College</td>\n",
       "      <td>None</td>\n",
       "      <td>1</td>\n",
       "      <td>Dormant</td>\n",
       "      <td>White or Other</td>\n",
       "      <td>86.51</td>\n",
       "      <td>3.30</td>\n",
       "      <td>1.13</td>\n",
       "      <td>0.35</td>\n",
       "      <td>0.78</td>\n",
       "      <td>7.94</td>\n",
       "    </tr>\n",
       "    <tr>\n",
       "      <th>4</th>\n",
       "      <td>Female</td>\n",
       "      <td>330734</td>\n",
       "      <td>5</td>\n",
       "      <td>Jeanne</td>\n",
       "      <td>Norman</td>\n",
       "      <td>35000</td>\n",
       "      <td>Completed High School</td>\n",
       "      <td>None</td>\n",
       "      <td>None</td>\n",
       "      <td>No Data</td>\n",
       "      <td>White or Other</td>\n",
       "      <td>71.58</td>\n",
       "      <td>24.13</td>\n",
       "      <td>0.42</td>\n",
       "      <td>0.61</td>\n",
       "      <td>1.71</td>\n",
       "      <td>1.54</td>\n",
       "    </tr>\n",
       "  </tbody>\n",
       "</table>\n",
       "</div>"
      ],
      "text/plain": [
       "   gender  dimcustomermasterid  lkupclientid namefirst  namelast  income  \\\n",
       "0    Male               330718             5     Jamie   Mcgowan   35000   \n",
       "1    Male               330722             5    Jordan  Gilbreth  124999   \n",
       "2    Male               330728             5     Jason  Hamilton   35000   \n",
       "3    Male               330729             5  Jonathan      Lanz   45000   \n",
       "4  Female               330734             5    Jeanne    Norman   35000   \n",
       "\n",
       "                   education                occupation monetary_tier_overall  \\\n",
       "0      Completed High School                      None                  None   \n",
       "1  Completed Graduate School  Professional / Technical                  None   \n",
       "2      Completed High School                      None                  None   \n",
       "3          Completed College                      None                     1   \n",
       "4      Completed High School                      None                  None   \n",
       "\n",
       "  engagementbucket       ethnicity pctwhite pctblack pctapi pctaian pct2prace  \\\n",
       "0          No Data  White or Other    77.96    18.69   0.35    0.40      1.28   \n",
       "1          No Data           Asian    92.40      (S)    (S)    0.92      1.84   \n",
       "2          No Data  White or Other    72.79    22.65   0.44    0.78      1.73   \n",
       "3          Dormant  White or Other    86.51     3.30   1.13    0.35      0.78   \n",
       "4          No Data  White or Other    71.58    24.13   0.42    0.61      1.71   \n",
       "\n",
       "  pcthispanic  \n",
       "0        1.32  \n",
       "1        3.57  \n",
       "2        1.61  \n",
       "3        7.94  \n",
       "4        1.54  "
      ]
     },
     "execution_count": 21,
     "metadata": {},
     "output_type": "execute_result"
    }
   ],
   "source": [
    "df_generation.head()"
   ]
  },
  {
   "attachments": {},
   "cell_type": "markdown",
   "metadata": {},
   "source": [
    "# Train Model"
   ]
  },
  {
   "cell_type": "code",
   "execution_count": 52,
   "metadata": {},
   "outputs": [
    {
     "data": {
      "text/plain": [
       "<pycaret.classification.oop.ClassificationExperiment at 0x7f8fa4f8fd60>"
      ]
     },
     "execution_count": 52,
     "metadata": {},
     "output_type": "execute_result"
    }
   ],
   "source": [
    "setup(\n",
    "    data=df_ethnicity,\n",
    "    target='ethnicity',\n",
    "    train_size=0.85,\n",
    "    data_split_shuffle=True,\n",
    "    #silent=True,\n",
    "    verbose=False,\n",
    "    ignore_features=[\"dimcustomermasterid\", \"lkupclientid\", \"namefirst\", \"itemdescription\", \"namelast\", \"occupation\", \"income\"],\n",
    "    numeric_features=[\"pctwhite\", \"pctblack\", \"pctapi\", \"pctaian\", \"pct2prace\", \"pcthispanic\"]\n",
    ")"
   ]
  },
  {
   "cell_type": "code",
   "execution_count": 53,
   "metadata": {},
   "outputs": [
    {
     "data": {
      "text/html": [
       "<div>\n",
       "<style scoped>\n",
       "    .dataframe tbody tr th:only-of-type {\n",
       "        vertical-align: middle;\n",
       "    }\n",
       "\n",
       "    .dataframe tbody tr th {\n",
       "        vertical-align: top;\n",
       "    }\n",
       "\n",
       "    .dataframe thead th {\n",
       "        text-align: right;\n",
       "    }\n",
       "</style>\n",
       "<table border=\"1\" class=\"dataframe\">\n",
       "  <thead>\n",
       "    <tr style=\"text-align: right;\">\n",
       "      <th></th>\n",
       "      <th></th>\n",
       "      <th></th>\n",
       "    </tr>\n",
       "    <tr>\n",
       "      <th></th>\n",
       "      <th></th>\n",
       "      <th></th>\n",
       "    </tr>\n",
       "  </thead>\n",
       "  <tbody>\n",
       "    <tr>\n",
       "      <th>Initiated</th>\n",
       "      <td>. . . . . . . . . . . . . . . . . .</td>\n",
       "      <td>12:22:56</td>\n",
       "    </tr>\n",
       "    <tr>\n",
       "      <th>Status</th>\n",
       "      <td>. . . . . . . . . . . . . . . . . .</td>\n",
       "      <td>Loading Dependencies</td>\n",
       "    </tr>\n",
       "    <tr>\n",
       "      <th>Estimator</th>\n",
       "      <td>. . . . . . . . . . . . . . . . . .</td>\n",
       "      <td>Compiling Library</td>\n",
       "    </tr>\n",
       "  </tbody>\n",
       "</table>\n",
       "</div>"
      ],
      "text/plain": [
       "                                                                    \n",
       "                                                                    \n",
       "Initiated  . . . . . . . . . . . . . . . . . .              12:22:56\n",
       "Status     . . . . . . . . . . . . . . . . . .  Loading Dependencies\n",
       "Estimator  . . . . . . . . . . . . . . . . . .     Compiling Library"
      ]
     },
     "metadata": {},
     "output_type": "display_data"
    },
    {
     "data": {
      "text/html": [],
      "text/plain": [
       "<IPython.core.display.HTML object>"
      ]
     },
     "metadata": {},
     "output_type": "display_data"
    }
   ],
   "source": [
    "model_matrix = compare_models(\n",
    "    fold=2,\n",
    "    include= [\"catboost\"]\n",
    ")"
   ]
  },
  {
   "cell_type": "code",
   "execution_count": 54,
   "metadata": {},
   "outputs": [
    {
     "data": {
      "text/html": [
       "<div>\n",
       "<style scoped>\n",
       "    .dataframe tbody tr th:only-of-type {\n",
       "        vertical-align: middle;\n",
       "    }\n",
       "\n",
       "    .dataframe tbody tr th {\n",
       "        vertical-align: top;\n",
       "    }\n",
       "\n",
       "    .dataframe thead th {\n",
       "        text-align: right;\n",
       "    }\n",
       "</style>\n",
       "<table border=\"1\" class=\"dataframe\">\n",
       "  <thead>\n",
       "    <tr style=\"text-align: right;\">\n",
       "      <th></th>\n",
       "      <th></th>\n",
       "      <th></th>\n",
       "    </tr>\n",
       "    <tr>\n",
       "      <th></th>\n",
       "      <th></th>\n",
       "      <th></th>\n",
       "    </tr>\n",
       "  </thead>\n",
       "  <tbody>\n",
       "    <tr>\n",
       "      <th>Initiated</th>\n",
       "      <td>. . . . . . . . . . . . . . . . . .</td>\n",
       "      <td>12:29:46</td>\n",
       "    </tr>\n",
       "    <tr>\n",
       "      <th>Status</th>\n",
       "      <td>. . . . . . . . . . . . . . . . . .</td>\n",
       "      <td>Selecting Estimator</td>\n",
       "    </tr>\n",
       "    <tr>\n",
       "      <th>Estimator</th>\n",
       "      <td>. . . . . . . . . . . . . . . . . .</td>\n",
       "      <td>Compiling Library</td>\n",
       "    </tr>\n",
       "  </tbody>\n",
       "</table>\n",
       "</div>"
      ],
      "text/plain": [
       "                                                                   \n",
       "                                                                   \n",
       "Initiated  . . . . . . . . . . . . . . . . . .             12:29:46\n",
       "Status     . . . . . . . . . . . . . . . . . .  Selecting Estimator\n",
       "Estimator  . . . . . . . . . . . . . . . . . .    Compiling Library"
      ]
     },
     "metadata": {},
     "output_type": "display_data"
    },
    {
     "data": {
      "text/html": [
       "<style type=\"text/css\">\n",
       "#T_2146d_row2_col0, #T_2146d_row2_col1, #T_2146d_row2_col2, #T_2146d_row2_col3, #T_2146d_row2_col4, #T_2146d_row2_col5, #T_2146d_row2_col6 {\n",
       "  background: yellow;\n",
       "}\n",
       "</style>\n",
       "<table id=\"T_2146d\">\n",
       "  <thead>\n",
       "    <tr>\n",
       "      <th class=\"blank level0\" >&nbsp;</th>\n",
       "      <th id=\"T_2146d_level0_col0\" class=\"col_heading level0 col0\" >Accuracy</th>\n",
       "      <th id=\"T_2146d_level0_col1\" class=\"col_heading level0 col1\" >AUC</th>\n",
       "      <th id=\"T_2146d_level0_col2\" class=\"col_heading level0 col2\" >Recall</th>\n",
       "      <th id=\"T_2146d_level0_col3\" class=\"col_heading level0 col3\" >Prec.</th>\n",
       "      <th id=\"T_2146d_level0_col4\" class=\"col_heading level0 col4\" >F1</th>\n",
       "      <th id=\"T_2146d_level0_col5\" class=\"col_heading level0 col5\" >Kappa</th>\n",
       "      <th id=\"T_2146d_level0_col6\" class=\"col_heading level0 col6\" >MCC</th>\n",
       "    </tr>\n",
       "    <tr>\n",
       "      <th class=\"index_name level0\" >Fold</th>\n",
       "      <th class=\"blank col0\" >&nbsp;</th>\n",
       "      <th class=\"blank col1\" >&nbsp;</th>\n",
       "      <th class=\"blank col2\" >&nbsp;</th>\n",
       "      <th class=\"blank col3\" >&nbsp;</th>\n",
       "      <th class=\"blank col4\" >&nbsp;</th>\n",
       "      <th class=\"blank col5\" >&nbsp;</th>\n",
       "      <th class=\"blank col6\" >&nbsp;</th>\n",
       "    </tr>\n",
       "  </thead>\n",
       "  <tbody>\n",
       "    <tr>\n",
       "      <th id=\"T_2146d_level0_row0\" class=\"row_heading level0 row0\" >0</th>\n",
       "      <td id=\"T_2146d_row0_col0\" class=\"data row0 col0\" >0.8950</td>\n",
       "      <td id=\"T_2146d_row0_col1\" class=\"data row0 col1\" >0.8008</td>\n",
       "      <td id=\"T_2146d_row0_col2\" class=\"data row0 col2\" >0.8950</td>\n",
       "      <td id=\"T_2146d_row0_col3\" class=\"data row0 col3\" >0.8730</td>\n",
       "      <td id=\"T_2146d_row0_col4\" class=\"data row0 col4\" >0.8717</td>\n",
       "      <td id=\"T_2146d_row0_col5\" class=\"data row0 col5\" >0.5278</td>\n",
       "      <td id=\"T_2146d_row0_col6\" class=\"data row0 col6\" >0.5767</td>\n",
       "    </tr>\n",
       "    <tr>\n",
       "      <th id=\"T_2146d_level0_row1\" class=\"row_heading level0 row1\" >1</th>\n",
       "      <td id=\"T_2146d_row1_col0\" class=\"data row1 col0\" >0.8969</td>\n",
       "      <td id=\"T_2146d_row1_col1\" class=\"data row1 col1\" >0.8007</td>\n",
       "      <td id=\"T_2146d_row1_col2\" class=\"data row1 col2\" >0.8969</td>\n",
       "      <td id=\"T_2146d_row1_col3\" class=\"data row1 col3\" >0.8761</td>\n",
       "      <td id=\"T_2146d_row1_col4\" class=\"data row1 col4\" >0.8746</td>\n",
       "      <td id=\"T_2146d_row1_col5\" class=\"data row1 col5\" >0.5386</td>\n",
       "      <td id=\"T_2146d_row1_col6\" class=\"data row1 col6\" >0.5860</td>\n",
       "    </tr>\n",
       "    <tr>\n",
       "      <th id=\"T_2146d_level0_row2\" class=\"row_heading level0 row2\" >Mean</th>\n",
       "      <td id=\"T_2146d_row2_col0\" class=\"data row2 col0\" >0.8959</td>\n",
       "      <td id=\"T_2146d_row2_col1\" class=\"data row2 col1\" >0.8008</td>\n",
       "      <td id=\"T_2146d_row2_col2\" class=\"data row2 col2\" >0.8959</td>\n",
       "      <td id=\"T_2146d_row2_col3\" class=\"data row2 col3\" >0.8745</td>\n",
       "      <td id=\"T_2146d_row2_col4\" class=\"data row2 col4\" >0.8732</td>\n",
       "      <td id=\"T_2146d_row2_col5\" class=\"data row2 col5\" >0.5332</td>\n",
       "      <td id=\"T_2146d_row2_col6\" class=\"data row2 col6\" >0.5813</td>\n",
       "    </tr>\n",
       "    <tr>\n",
       "      <th id=\"T_2146d_level0_row3\" class=\"row_heading level0 row3\" >Std</th>\n",
       "      <td id=\"T_2146d_row3_col0\" class=\"data row3 col0\" >0.0009</td>\n",
       "      <td id=\"T_2146d_row3_col1\" class=\"data row3 col1\" >0.0001</td>\n",
       "      <td id=\"T_2146d_row3_col2\" class=\"data row3 col2\" >0.0009</td>\n",
       "      <td id=\"T_2146d_row3_col3\" class=\"data row3 col3\" >0.0015</td>\n",
       "      <td id=\"T_2146d_row3_col4\" class=\"data row3 col4\" >0.0015</td>\n",
       "      <td id=\"T_2146d_row3_col5\" class=\"data row3 col5\" >0.0054</td>\n",
       "      <td id=\"T_2146d_row3_col6\" class=\"data row3 col6\" >0.0047</td>\n",
       "    </tr>\n",
       "  </tbody>\n",
       "</table>\n"
      ],
      "text/plain": [
       "<pandas.io.formats.style.Styler at 0x7f8fbb250760>"
      ]
     },
     "metadata": {},
     "output_type": "display_data"
    },
    {
     "data": {
      "text/html": [
       "<style type=\"text/css\">\n",
       "#T_2146d_row2_col0, #T_2146d_row2_col1, #T_2146d_row2_col2, #T_2146d_row2_col3, #T_2146d_row2_col4, #T_2146d_row2_col5, #T_2146d_row2_col6 {\n",
       "  background: yellow;\n",
       "}\n",
       "</style>\n",
       "<table id=\"T_2146d\">\n",
       "  <thead>\n",
       "    <tr>\n",
       "      <th class=\"blank level0\" >&nbsp;</th>\n",
       "      <th id=\"T_2146d_level0_col0\" class=\"col_heading level0 col0\" >Accuracy</th>\n",
       "      <th id=\"T_2146d_level0_col1\" class=\"col_heading level0 col1\" >AUC</th>\n",
       "      <th id=\"T_2146d_level0_col2\" class=\"col_heading level0 col2\" >Recall</th>\n",
       "      <th id=\"T_2146d_level0_col3\" class=\"col_heading level0 col3\" >Prec.</th>\n",
       "      <th id=\"T_2146d_level0_col4\" class=\"col_heading level0 col4\" >F1</th>\n",
       "      <th id=\"T_2146d_level0_col5\" class=\"col_heading level0 col5\" >Kappa</th>\n",
       "      <th id=\"T_2146d_level0_col6\" class=\"col_heading level0 col6\" >MCC</th>\n",
       "    </tr>\n",
       "    <tr>\n",
       "      <th class=\"index_name level0\" >Fold</th>\n",
       "      <th class=\"blank col0\" >&nbsp;</th>\n",
       "      <th class=\"blank col1\" >&nbsp;</th>\n",
       "      <th class=\"blank col2\" >&nbsp;</th>\n",
       "      <th class=\"blank col3\" >&nbsp;</th>\n",
       "      <th class=\"blank col4\" >&nbsp;</th>\n",
       "      <th class=\"blank col5\" >&nbsp;</th>\n",
       "      <th class=\"blank col6\" >&nbsp;</th>\n",
       "    </tr>\n",
       "  </thead>\n",
       "  <tbody>\n",
       "    <tr>\n",
       "      <th id=\"T_2146d_level0_row0\" class=\"row_heading level0 row0\" >0</th>\n",
       "      <td id=\"T_2146d_row0_col0\" class=\"data row0 col0\" >0.8950</td>\n",
       "      <td id=\"T_2146d_row0_col1\" class=\"data row0 col1\" >0.8008</td>\n",
       "      <td id=\"T_2146d_row0_col2\" class=\"data row0 col2\" >0.8950</td>\n",
       "      <td id=\"T_2146d_row0_col3\" class=\"data row0 col3\" >0.8730</td>\n",
       "      <td id=\"T_2146d_row0_col4\" class=\"data row0 col4\" >0.8717</td>\n",
       "      <td id=\"T_2146d_row0_col5\" class=\"data row0 col5\" >0.5278</td>\n",
       "      <td id=\"T_2146d_row0_col6\" class=\"data row0 col6\" >0.5767</td>\n",
       "    </tr>\n",
       "    <tr>\n",
       "      <th id=\"T_2146d_level0_row1\" class=\"row_heading level0 row1\" >1</th>\n",
       "      <td id=\"T_2146d_row1_col0\" class=\"data row1 col0\" >0.8969</td>\n",
       "      <td id=\"T_2146d_row1_col1\" class=\"data row1 col1\" >0.8007</td>\n",
       "      <td id=\"T_2146d_row1_col2\" class=\"data row1 col2\" >0.8969</td>\n",
       "      <td id=\"T_2146d_row1_col3\" class=\"data row1 col3\" >0.8761</td>\n",
       "      <td id=\"T_2146d_row1_col4\" class=\"data row1 col4\" >0.8746</td>\n",
       "      <td id=\"T_2146d_row1_col5\" class=\"data row1 col5\" >0.5386</td>\n",
       "      <td id=\"T_2146d_row1_col6\" class=\"data row1 col6\" >0.5860</td>\n",
       "    </tr>\n",
       "    <tr>\n",
       "      <th id=\"T_2146d_level0_row2\" class=\"row_heading level0 row2\" >Mean</th>\n",
       "      <td id=\"T_2146d_row2_col0\" class=\"data row2 col0\" >0.8959</td>\n",
       "      <td id=\"T_2146d_row2_col1\" class=\"data row2 col1\" >0.8008</td>\n",
       "      <td id=\"T_2146d_row2_col2\" class=\"data row2 col2\" >0.8959</td>\n",
       "      <td id=\"T_2146d_row2_col3\" class=\"data row2 col3\" >0.8745</td>\n",
       "      <td id=\"T_2146d_row2_col4\" class=\"data row2 col4\" >0.8732</td>\n",
       "      <td id=\"T_2146d_row2_col5\" class=\"data row2 col5\" >0.5332</td>\n",
       "      <td id=\"T_2146d_row2_col6\" class=\"data row2 col6\" >0.5813</td>\n",
       "    </tr>\n",
       "    <tr>\n",
       "      <th id=\"T_2146d_level0_row3\" class=\"row_heading level0 row3\" >Std</th>\n",
       "      <td id=\"T_2146d_row3_col0\" class=\"data row3 col0\" >0.0009</td>\n",
       "      <td id=\"T_2146d_row3_col1\" class=\"data row3 col1\" >0.0001</td>\n",
       "      <td id=\"T_2146d_row3_col2\" class=\"data row3 col2\" >0.0009</td>\n",
       "      <td id=\"T_2146d_row3_col3\" class=\"data row3 col3\" >0.0015</td>\n",
       "      <td id=\"T_2146d_row3_col4\" class=\"data row3 col4\" >0.0015</td>\n",
       "      <td id=\"T_2146d_row3_col5\" class=\"data row3 col5\" >0.0054</td>\n",
       "      <td id=\"T_2146d_row3_col6\" class=\"data row3 col6\" >0.0047</td>\n",
       "    </tr>\n",
       "  </tbody>\n",
       "</table>\n"
      ],
      "text/plain": [
       "<pandas.io.formats.style.Styler at 0x7f8fbb250760>"
      ]
     },
     "metadata": {},
     "output_type": "display_data"
    }
   ],
   "source": [
    "best_model = create_model(model_matrix, fold=2);"
   ]
  },
  {
   "cell_type": "code",
   "execution_count": 55,
   "metadata": {},
   "outputs": [],
   "source": [
    "#best_model = tune_model(best_model)"
   ]
  },
  {
   "cell_type": "code",
   "execution_count": 56,
   "metadata": {},
   "outputs": [],
   "source": [
    "final_model = finalize_model(best_model)"
   ]
  },
  {
   "cell_type": "code",
   "execution_count": 57,
   "metadata": {},
   "outputs": [
    {
     "data": {
      "text/plain": [
       "occupation                   ethnicity     \n",
       "Administration / Managerial  Asian              2196\n",
       "                             Black              1881\n",
       "                             Hispanic           4192\n",
       "                             White or Other    70156\n",
       "Clerical / White Collar      Asian              3643\n",
       "                                               ...  \n",
       "Self Employed - Student      White or Other      159\n",
       "Student                      Asian              1310\n",
       "                             Black              1069\n",
       "                             Hispanic           1813\n",
       "                             White or Other    23017\n",
       "Length: 101, dtype: int64"
      ]
     },
     "execution_count": 57,
     "metadata": {},
     "output_type": "execute_result"
    }
   ],
   "source": [
    "df_ethnicity.groupby([\"occupation\", \"ethnicity\"]).size()"
   ]
  },
  {
   "cell_type": "code",
   "execution_count": 58,
   "metadata": {},
   "outputs": [
    {
     "data": {
      "text/html": [],
      "text/plain": [
       "<IPython.core.display.HTML object>"
      ]
     },
     "metadata": {},
     "output_type": "display_data"
    },
    {
     "data": {
      "image/png": "[encoded data removed]",
      "text/plain": [
       "<Figure size 800x500 with 1 Axes>"
      ]
     },
     "metadata": {},
     "output_type": "display_data"
    }
   ],
   "source": [
    "plot_model(best_model, plot=\"feature_all\")"
   ]
  }
 ],
 "metadata": {
  "kernelspec": {
   "display_name": "stellar",
   "language": "python",
   "name": "python3"
  },
  "language_info": {
   "codemirror_mode": {
    "name": "ipython",
    "version": 3
   },
   "file_extension": ".py",
   "mimetype": "text/x-python",
   "name": "python",
   "nbconvert_exporter": "python",
   "pygments_lexer": "ipython3",
   "version": "3.8.13"
  },
  "orig_nbformat": 4
 },
 "nbformat": 4,
 "nbformat_minor": 2
}
