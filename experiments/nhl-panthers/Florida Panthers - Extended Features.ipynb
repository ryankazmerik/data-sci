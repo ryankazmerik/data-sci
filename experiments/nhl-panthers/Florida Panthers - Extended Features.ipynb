{
 "cells": [
  {
   "cell_type": "markdown",
   "id": "9575d83e",
   "metadata": {},
   "source": [
    "# Florida Panthers - Extended Feature Selection\n",
    "* StellarAlgo Data Science\n",
    "* Ryan Kazmerik & Nakisa Rad\n",
    "* October 15, 2021"
   ]
  },
  {
   "cell_type": "markdown",
   "id": "62d7c5a2",
   "metadata": {},
   "source": [
    "## Hypothesis\n",
    "Two very important components of a machine learning model are feature selection and feature engineering. Our idea is that adding some more features to the StellarAlgo retention model could improve performance of the model. This notebook will test the standard features used by the StellarAlgo retention model, plus two more features (cancel_records and resale_records)."
   ]
  },
  {
   "cell_type": "markdown",
   "id": "c46403a5",
   "metadata": {},
   "source": [
    "## Experiment\n",
    "This section details our experiment including querying data, data transformations, feature selection and modelling."
   ]
  },
  {
   "cell_type": "code",
   "execution_count": 8,
   "id": "987d49a1-4759-4f18-8ea4-a4eb39220658",
   "metadata": {},
   "outputs": [],
   "source": [
    "import getpass\n",
    "import pyodbc\n",
    "import pandas as pd\n",
    "import warnings\n",
    "\n",
    "from pycaret.classification import *\n",
    "from ngboost import NGBClassifier\n",
    "\n",
    "warnings.filterwarnings('ignore')"
   ]
  },
  {
   "cell_type": "markdown",
   "id": "9871ef74-0f15-4ac0-b238-991a1b7588c4",
   "metadata": {},
   "source": [
    "### Let's connect to MSSQL and run a stored proc to get our dataset:"
   ]
  },
  {
   "cell_type": "code",
   "execution_count": 3,
   "id": "1d53bb02-3685-4cee-9246-7a9444b3f5f2",
   "metadata": {},
   "outputs": [
    {
     "name": "stdin",
     "output_type": "stream",
     "text": [
      "Enter your password ··················\n"
     ]
    }
   ],
   "source": [
    "SERVER = '34.206.73.189' \n",
    "DATABASE = 'datascience' \n",
    "USERNAME = 'dsAdminWrite' \n",
    "PASSWORD = getpass.getpass(prompt='Enter your password')\n",
    "CNXN = pyodbc.connect('DRIVER={ODBC Driver 17 for SQL Server};SERVER='+SERVER+';DATABASE='+DATABASE+';UID='+USERNAME+';PWD='+ PASSWORD)"
   ]
  },
  {
   "cell_type": "code",
   "execution_count": 14,
   "id": "2691f9e5-334a-483a-87bf-7083e4e14f17",
   "metadata": {},
   "outputs": [
    {
     "data": {
      "text/plain": [
       "(15842, 55)"
      ]
     },
     "execution_count": 14,
     "metadata": {},
     "output_type": "execute_result"
    }
   ],
   "source": [
    "lkupclientid = 93 # Florida Panthers\n",
    "\n",
    "cursor = CNXN.cursor()\n",
    "\n",
    "storedProc = (\n",
    "    f\"\"\"Exec [stlrNHLPanthers].[ds].[getRetentionScoringModelData] {lkupclientid}\"\"\"\n",
    ")\n",
    "\n",
    "df = pd.read_sql(storedProc, CNXN)\n",
    "\n",
    "CNXN.commit()\n",
    "cursor.close()\n",
    "\n",
    "df.shape"
   ]
  },
  {
   "cell_type": "markdown",
   "id": "1f7193e3-4bd2-4112-b446-8a1144cd988a",
   "metadata": {},
   "source": [
    "### In order to compare two sets of features, we need to create some datasets for training and evalution:"
   ]
  },
  {
   "cell_type": "code",
   "execution_count": 17,
   "id": "0b9668cc-80d6-4ef8-b160-5a06ad0653a4",
   "metadata": {},
   "outputs": [
    {
     "name": "stdout",
     "output_type": "stream",
     "text": [
      "Data for Modeling: (12674, 15)\n",
      "Unseen Data For Predictions: (3168, 15)\n",
      "\n"
     ]
    }
   ],
   "source": [
    "# choose the features for the stellar base retention model + forward and resale records\n",
    "features = [\n",
    "    \"dimCustomerMasterId\",\n",
    "    \"attendancePercent\",\n",
    "    \"distToVenue\",\n",
    "    \"forward_records\",\n",
    "    \"isNextYear_Buyer\",\n",
    "    \"missed_games_1\",\n",
    "    \"missed_games_2\",\n",
    "    \"missed_games_over_2\",\n",
    "    \"productGrouping\",\n",
    "    \"recency\",\n",
    "    \"renewedBeforeDays\",\n",
    "    \"resale_records\",\n",
    "    \"source_tenure\",\n",
    "    \"totalSpent\",\n",
    "    \"year\"\n",
    "]\n",
    "\n",
    "# select 90% of the data for training\n",
    "df_train = df.sample(frac=0.8, random_state=786).reset_index(drop=True)\n",
    "\n",
    "# create the eval datasets for A and B\n",
    "df_eval = df.drop(df_train.index).reset_index(drop=True)\n",
    "\n",
    "# choose features for each train dataset\n",
    "df_train = df_train[features]\n",
    "\n",
    "# choose features for each train dataset\n",
    "df_eval = df_eval[features]\n",
    "\n",
    "# print out the number of records for training and eval\n",
    "print('Data for Modeling: ' + str(df_train.shape))\n",
    "print('Unseen Data For Predictions: ' + str(df_eval.shape), end=\"\\n\\n\")"
   ]
  },
  {
   "cell_type": "markdown",
   "id": "de9c6eae-5106-44e4-988a-cf6aac4ef599",
   "metadata": {},
   "source": [
    "### Now we can model the data using a binary classification prediction for the isnextyear_buyer field to see how likely a customer is to re-purchase."
   ]
  },
  {
   "cell_type": "code",
   "execution_count": 18,
   "id": "dd62dbfa-0e95-4173-9006-ec3a3acfe701",
   "metadata": {},
   "outputs": [],
   "source": [
    "setup(\n",
    "    data= df_train, \n",
    "    target=\"isNextYear_Buyer\", \n",
    "    train_size = 0.80,\n",
    "    data_split_shuffle=True,\n",
    "    ignore_features=[\"dimCustomerMasterId\",\"productGrouping\",\"year\"],\n",
    "    silent=True,\n",
    "    verbose=False,\n",
    "    numeric_features=[\n",
    "        \"attendancePercent\",\n",
    "        \"distToVenue\",\n",
    "        \"forward_records\",\n",
    "        \"missed_games_1\",\n",
    "        \"missed_games_2\",\n",
    "        \"missed_games_over_2\",\n",
    "        \"recency\",\n",
    "        \"renewedBeforeDays\",\n",
    "        \"resale_records\",\n",
    "        \"source_tenure\",\n",
    "        \"totalSpent\"\n",
    "    ]\n",
    ");"
   ]
  },
  {
   "cell_type": "markdown",
   "id": "b222a8bb-cdfe-4d42-910a-7419c936954d",
   "metadata": {},
   "source": [
    "### Let's add one extra model not included in the default pycaret algorithms (ngboost), then we can execute each model and see the performance metrics:"
   ]
  },
  {
   "cell_type": "code",
   "execution_count": 19,
   "id": "86905d35-593f-4d8e-b867-ce631386050f",
   "metadata": {},
   "outputs": [
    {
     "data": {
      "text/html": [
       "<style  type=\"text/css\" >\n",
       "    #T_95b94_ th {\n",
       "          text-align: left;\n",
       "    }#T_95b94_row0_col0,#T_95b94_row1_col0,#T_95b94_row1_col1,#T_95b94_row1_col2,#T_95b94_row1_col3,#T_95b94_row1_col4,#T_95b94_row1_col5,#T_95b94_row1_col6,#T_95b94_row1_col7,#T_95b94_row2_col0,#T_95b94_row2_col1,#T_95b94_row2_col2,#T_95b94_row2_col3,#T_95b94_row2_col4,#T_95b94_row2_col5,#T_95b94_row2_col6,#T_95b94_row2_col7,#T_95b94_row3_col0,#T_95b94_row3_col1,#T_95b94_row3_col2,#T_95b94_row3_col3,#T_95b94_row3_col4,#T_95b94_row3_col5,#T_95b94_row3_col6,#T_95b94_row3_col7,#T_95b94_row4_col0,#T_95b94_row4_col1,#T_95b94_row4_col2,#T_95b94_row4_col3,#T_95b94_row4_col4,#T_95b94_row4_col5,#T_95b94_row4_col6,#T_95b94_row4_col7,#T_95b94_row5_col0,#T_95b94_row5_col1,#T_95b94_row5_col2,#T_95b94_row5_col3,#T_95b94_row5_col4,#T_95b94_row5_col5,#T_95b94_row5_col6,#T_95b94_row5_col7,#T_95b94_row6_col0,#T_95b94_row6_col1,#T_95b94_row6_col2,#T_95b94_row6_col3,#T_95b94_row6_col4,#T_95b94_row6_col5,#T_95b94_row6_col6,#T_95b94_row6_col7,#T_95b94_row7_col0,#T_95b94_row7_col1,#T_95b94_row7_col2,#T_95b94_row7_col3,#T_95b94_row7_col4,#T_95b94_row7_col5,#T_95b94_row7_col6,#T_95b94_row7_col7,#T_95b94_row8_col0,#T_95b94_row8_col1,#T_95b94_row8_col2,#T_95b94_row8_col3,#T_95b94_row8_col4,#T_95b94_row8_col5,#T_95b94_row8_col6,#T_95b94_row8_col7,#T_95b94_row9_col0,#T_95b94_row9_col1,#T_95b94_row9_col2,#T_95b94_row9_col3,#T_95b94_row9_col4,#T_95b94_row9_col5,#T_95b94_row9_col6,#T_95b94_row9_col7{\n",
       "            text-align:  left;\n",
       "            text-align:  left;\n",
       "        }#T_95b94_row0_col1,#T_95b94_row0_col2,#T_95b94_row0_col3,#T_95b94_row0_col4,#T_95b94_row0_col5,#T_95b94_row0_col6,#T_95b94_row0_col7{\n",
       "            text-align:  left;\n",
       "            text-align:  left;\n",
       "            background-color:  yellow;\n",
       "        }#T_95b94_row0_col8,#T_95b94_row1_col8,#T_95b94_row2_col8,#T_95b94_row3_col8,#T_95b94_row4_col8,#T_95b94_row5_col8,#T_95b94_row6_col8,#T_95b94_row7_col8,#T_95b94_row8_col8{\n",
       "            text-align:  left;\n",
       "            text-align:  left;\n",
       "            background-color:  lightgrey;\n",
       "        }#T_95b94_row9_col8{\n",
       "            text-align:  left;\n",
       "            text-align:  left;\n",
       "            background-color:  yellow;\n",
       "            background-color:  lightgrey;\n",
       "        }</style><table id=\"T_95b94_\" ><thead>    <tr>        <th class=\"blank level0\" ></th>        <th class=\"col_heading level0 col0\" >Model</th>        <th class=\"col_heading level0 col1\" >Accuracy</th>        <th class=\"col_heading level0 col2\" >AUC</th>        <th class=\"col_heading level0 col3\" >Recall</th>        <th class=\"col_heading level0 col4\" >Prec.</th>        <th class=\"col_heading level0 col5\" >F1</th>        <th class=\"col_heading level0 col6\" >Kappa</th>        <th class=\"col_heading level0 col7\" >MCC</th>        <th class=\"col_heading level0 col8\" >TT (Sec)</th>    </tr></thead><tbody>\n",
       "                <tr>\n",
       "                        <th id=\"T_95b94_level0_row0\" class=\"row_heading level0 row0\" >5</th>\n",
       "                        <td id=\"T_95b94_row0_col0\" class=\"data row0 col0\" >Light Gradient Boosting Machine</td>\n",
       "                        <td id=\"T_95b94_row0_col1\" class=\"data row0 col1\" >0.7665</td>\n",
       "                        <td id=\"T_95b94_row0_col2\" class=\"data row0 col2\" >0.8435</td>\n",
       "                        <td id=\"T_95b94_row0_col3\" class=\"data row0 col3\" >0.7966</td>\n",
       "                        <td id=\"T_95b94_row0_col4\" class=\"data row0 col4\" >0.7537</td>\n",
       "                        <td id=\"T_95b94_row0_col5\" class=\"data row0 col5\" >0.7745</td>\n",
       "                        <td id=\"T_95b94_row0_col6\" class=\"data row0 col6\" >0.5329</td>\n",
       "                        <td id=\"T_95b94_row0_col7\" class=\"data row0 col7\" >0.5339</td>\n",
       "                        <td id=\"T_95b94_row0_col8\" class=\"data row0 col8\" >0.0570</td>\n",
       "            </tr>\n",
       "            <tr>\n",
       "                        <th id=\"T_95b94_level0_row1\" class=\"row_heading level0 row1\" >7</th>\n",
       "                        <td id=\"T_95b94_row1_col0\" class=\"data row1 col0\" >Random Forest Classifier</td>\n",
       "                        <td id=\"T_95b94_row1_col1\" class=\"data row1 col1\" >0.7588</td>\n",
       "                        <td id=\"T_95b94_row1_col2\" class=\"data row1 col2\" >0.8304</td>\n",
       "                        <td id=\"T_95b94_row1_col3\" class=\"data row1 col3\" >0.7852</td>\n",
       "                        <td id=\"T_95b94_row1_col4\" class=\"data row1 col4\" >0.7481</td>\n",
       "                        <td id=\"T_95b94_row1_col5\" class=\"data row1 col5\" >0.7661</td>\n",
       "                        <td id=\"T_95b94_row1_col6\" class=\"data row1 col6\" >0.5173</td>\n",
       "                        <td id=\"T_95b94_row1_col7\" class=\"data row1 col7\" >0.5182</td>\n",
       "                        <td id=\"T_95b94_row1_col8\" class=\"data row1 col8\" >0.2480</td>\n",
       "            </tr>\n",
       "            <tr>\n",
       "                        <th id=\"T_95b94_level0_row2\" class=\"row_heading level0 row2\" >9</th>\n",
       "                        <td id=\"T_95b94_row2_col0\" class=\"data row2 col0\" >Extreme Gradient Boosting</td>\n",
       "                        <td id=\"T_95b94_row2_col1\" class=\"data row2 col1\" >0.7581</td>\n",
       "                        <td id=\"T_95b94_row2_col2\" class=\"data row2 col2\" >0.8369</td>\n",
       "                        <td id=\"T_95b94_row2_col3\" class=\"data row2 col3\" >0.7785</td>\n",
       "                        <td id=\"T_95b94_row2_col4\" class=\"data row2 col4\" >0.7505</td>\n",
       "                        <td id=\"T_95b94_row2_col5\" class=\"data row2 col5\" >0.7641</td>\n",
       "                        <td id=\"T_95b94_row2_col6\" class=\"data row2 col6\" >0.5160</td>\n",
       "                        <td id=\"T_95b94_row2_col7\" class=\"data row2 col7\" >0.5166</td>\n",
       "                        <td id=\"T_95b94_row2_col8\" class=\"data row2 col8\" >0.7430</td>\n",
       "            </tr>\n",
       "            <tr>\n",
       "                        <th id=\"T_95b94_level0_row3\" class=\"row_heading level0 row3\" >2</th>\n",
       "                        <td id=\"T_95b94_row3_col0\" class=\"data row3 col0\" >Gradient Boosting Classifier</td>\n",
       "                        <td id=\"T_95b94_row3_col1\" class=\"data row3 col1\" >0.7471</td>\n",
       "                        <td id=\"T_95b94_row3_col2\" class=\"data row3 col2\" >0.8234</td>\n",
       "                        <td id=\"T_95b94_row3_col3\" class=\"data row3 col3\" >0.7754</td>\n",
       "                        <td id=\"T_95b94_row3_col4\" class=\"data row3 col4\" >0.7364</td>\n",
       "                        <td id=\"T_95b94_row3_col5\" class=\"data row3 col5\" >0.7551</td>\n",
       "                        <td id=\"T_95b94_row3_col6\" class=\"data row3 col6\" >0.4940</td>\n",
       "                        <td id=\"T_95b94_row3_col7\" class=\"data row3 col7\" >0.4951</td>\n",
       "                        <td id=\"T_95b94_row3_col8\" class=\"data row3 col8\" >0.1880</td>\n",
       "            </tr>\n",
       "            <tr>\n",
       "                        <th id=\"T_95b94_level0_row4\" class=\"row_heading level0 row4\" >3</th>\n",
       "                        <td id=\"T_95b94_row4_col0\" class=\"data row4 col0\" >Extra Trees Classifier</td>\n",
       "                        <td id=\"T_95b94_row4_col1\" class=\"data row4 col1\" >0.7358</td>\n",
       "                        <td id=\"T_95b94_row4_col2\" class=\"data row4 col2\" >0.8088</td>\n",
       "                        <td id=\"T_95b94_row4_col3\" class=\"data row4 col3\" >0.7583</td>\n",
       "                        <td id=\"T_95b94_row4_col4\" class=\"data row4 col4\" >0.7282</td>\n",
       "                        <td id=\"T_95b94_row4_col5\" class=\"data row4 col5\" >0.7427</td>\n",
       "                        <td id=\"T_95b94_row4_col6\" class=\"data row4 col6\" >0.4714</td>\n",
       "                        <td id=\"T_95b94_row4_col7\" class=\"data row4 col7\" >0.4721</td>\n",
       "                        <td id=\"T_95b94_row4_col8\" class=\"data row4 col8\" >0.2410</td>\n",
       "            </tr>\n",
       "            <tr>\n",
       "                        <th id=\"T_95b94_level0_row5\" class=\"row_heading level0 row5\" >0</th>\n",
       "                        <td id=\"T_95b94_row5_col0\" class=\"data row5 col0\" >Ada Boost Classifier</td>\n",
       "                        <td id=\"T_95b94_row5_col1\" class=\"data row5 col1\" >0.7146</td>\n",
       "                        <td id=\"T_95b94_row5_col2\" class=\"data row5 col2\" >0.7883</td>\n",
       "                        <td id=\"T_95b94_row5_col3\" class=\"data row5 col3\" >0.7507</td>\n",
       "                        <td id=\"T_95b94_row5_col4\" class=\"data row5 col4\" >0.7027</td>\n",
       "                        <td id=\"T_95b94_row5_col5\" class=\"data row5 col5\" >0.7257</td>\n",
       "                        <td id=\"T_95b94_row5_col6\" class=\"data row5 col6\" >0.4289</td>\n",
       "                        <td id=\"T_95b94_row5_col7\" class=\"data row5 col7\" >0.4302</td>\n",
       "                        <td id=\"T_95b94_row5_col8\" class=\"data row5 col8\" >0.3910</td>\n",
       "            </tr>\n",
       "            <tr>\n",
       "                        <th id=\"T_95b94_level0_row6\" class=\"row_heading level0 row6\" >8</th>\n",
       "                        <td id=\"T_95b94_row6_col0\" class=\"data row6 col0\" >NGBClassifier</td>\n",
       "                        <td id=\"T_95b94_row6_col1\" class=\"data row6 col1\" >0.7057</td>\n",
       "                        <td id=\"T_95b94_row6_col2\" class=\"data row6 col2\" >0.7881</td>\n",
       "                        <td id=\"T_95b94_row6_col3\" class=\"data row6 col3\" >0.7546</td>\n",
       "                        <td id=\"T_95b94_row6_col4\" class=\"data row6 col4\" >0.6899</td>\n",
       "                        <td id=\"T_95b94_row6_col5\" class=\"data row6 col5\" >0.7206</td>\n",
       "                        <td id=\"T_95b94_row6_col6\" class=\"data row6 col6\" >0.4110</td>\n",
       "                        <td id=\"T_95b94_row6_col7\" class=\"data row6 col7\" >0.4133</td>\n",
       "                        <td id=\"T_95b94_row6_col8\" class=\"data row6 col8\" >3.3650</td>\n",
       "            </tr>\n",
       "            <tr>\n",
       "                        <th id=\"T_95b94_level0_row7\" class=\"row_heading level0 row7\" >1</th>\n",
       "                        <td id=\"T_95b94_row7_col0\" class=\"data row7 col0\" >Decision Tree Classifier</td>\n",
       "                        <td id=\"T_95b94_row7_col1\" class=\"data row7 col1\" >0.6802</td>\n",
       "                        <td id=\"T_95b94_row7_col2\" class=\"data row7 col2\" >0.6802</td>\n",
       "                        <td id=\"T_95b94_row7_col3\" class=\"data row7 col3\" >0.6758</td>\n",
       "                        <td id=\"T_95b94_row7_col4\" class=\"data row7 col4\" >0.6846</td>\n",
       "                        <td id=\"T_95b94_row7_col5\" class=\"data row7 col5\" >0.6799</td>\n",
       "                        <td id=\"T_95b94_row7_col6\" class=\"data row7 col6\" >0.3605</td>\n",
       "                        <td id=\"T_95b94_row7_col7\" class=\"data row7 col7\" >0.3608</td>\n",
       "                        <td id=\"T_95b94_row7_col8\" class=\"data row7 col8\" >0.0250</td>\n",
       "            </tr>\n",
       "            <tr>\n",
       "                        <th id=\"T_95b94_level0_row8\" class=\"row_heading level0 row8\" >4</th>\n",
       "                        <td id=\"T_95b94_row8_col0\" class=\"data row8 col0\" >K Neighbors Classifier</td>\n",
       "                        <td id=\"T_95b94_row8_col1\" class=\"data row8 col1\" >0.6242</td>\n",
       "                        <td id=\"T_95b94_row8_col2\" class=\"data row8 col2\" >0.6642</td>\n",
       "                        <td id=\"T_95b94_row8_col3\" class=\"data row8 col3\" >0.6376</td>\n",
       "                        <td id=\"T_95b94_row8_col4\" class=\"data row8 col4\" >0.6237</td>\n",
       "                        <td id=\"T_95b94_row8_col5\" class=\"data row8 col5\" >0.6305</td>\n",
       "                        <td id=\"T_95b94_row8_col6\" class=\"data row8 col6\" >0.2483</td>\n",
       "                        <td id=\"T_95b94_row8_col7\" class=\"data row8 col7\" >0.2485</td>\n",
       "                        <td id=\"T_95b94_row8_col8\" class=\"data row8 col8\" >0.0360</td>\n",
       "            </tr>\n",
       "            <tr>\n",
       "                        <th id=\"T_95b94_level0_row9\" class=\"row_heading level0 row9\" >6</th>\n",
       "                        <td id=\"T_95b94_row9_col0\" class=\"data row9 col0\" >Logistic Regression</td>\n",
       "                        <td id=\"T_95b94_row9_col1\" class=\"data row9 col1\" >0.5864</td>\n",
       "                        <td id=\"T_95b94_row9_col2\" class=\"data row9 col2\" >0.6438</td>\n",
       "                        <td id=\"T_95b94_row9_col3\" class=\"data row9 col3\" >0.7481</td>\n",
       "                        <td id=\"T_95b94_row9_col4\" class=\"data row9 col4\" >0.5734</td>\n",
       "                        <td id=\"T_95b94_row9_col5\" class=\"data row9 col5\" >0.6462</td>\n",
       "                        <td id=\"T_95b94_row9_col6\" class=\"data row9 col6\" >0.1708</td>\n",
       "                        <td id=\"T_95b94_row9_col7\" class=\"data row9 col7\" >0.1789</td>\n",
       "                        <td id=\"T_95b94_row9_col8\" class=\"data row9 col8\" >0.0190</td>\n",
       "            </tr>\n",
       "    </tbody></table>"
      ],
      "text/plain": [
       "<pandas.io.formats.style.Styler at 0x7fda50ba6f50>"
      ]
     },
     "metadata": {},
     "output_type": "display_data"
    }
   ],
   "source": [
    "# adding an extra classifier ngboost\n",
    "ngc = NGBClassifier()\n",
    "ngboost = create_model(ngc)\n",
    "\n",
    "model_matrix = compare_models(\n",
    "    fold=10,\n",
    "    include=[\"ada\",\"dt\",\"gbc\",\"et\",\"knn\",\"lightgbm\",\"lr\",\"rf\",ngboost,\"xgboost\"]\n",
    ")"
   ]
  },
  {
   "cell_type": "markdown",
   "id": "11c47c2f-1712-4311-8d39-39cbbe8b512e",
   "metadata": {},
   "source": [
    "### The top model is performing well, so let's compare it against our unseen evaluation dataset:"
   ]
  },
  {
   "cell_type": "code",
   "execution_count": 20,
   "id": "e1bbf443-353c-4ce5-a010-f2dbf8f80057",
   "metadata": {},
   "outputs": [
    {
     "data": {
      "text/html": [
       "<style  type=\"text/css\" >\n",
       "#T_ebd6a_row10_col0,#T_ebd6a_row10_col1,#T_ebd6a_row10_col2,#T_ebd6a_row10_col3,#T_ebd6a_row10_col4,#T_ebd6a_row10_col5,#T_ebd6a_row10_col6{\n",
       "            background:  yellow;\n",
       "        }</style><table id=\"T_ebd6a_\" ><thead>    <tr>        <th class=\"blank level0\" ></th>        <th class=\"col_heading level0 col0\" >Accuracy</th>        <th class=\"col_heading level0 col1\" >AUC</th>        <th class=\"col_heading level0 col2\" >Recall</th>        <th class=\"col_heading level0 col3\" >Prec.</th>        <th class=\"col_heading level0 col4\" >F1</th>        <th class=\"col_heading level0 col5\" >Kappa</th>        <th class=\"col_heading level0 col6\" >MCC</th>    </tr></thead><tbody>\n",
       "                <tr>\n",
       "                        <th id=\"T_ebd6a_level0_row0\" class=\"row_heading level0 row0\" >0</th>\n",
       "                        <td id=\"T_ebd6a_row0_col0\" class=\"data row0 col0\" >0.7623</td>\n",
       "                        <td id=\"T_ebd6a_row0_col1\" class=\"data row0 col1\" >0.8452</td>\n",
       "                        <td id=\"T_ebd6a_row0_col2\" class=\"data row0 col2\" >0.7906</td>\n",
       "                        <td id=\"T_ebd6a_row0_col3\" class=\"data row0 col3\" >0.7509</td>\n",
       "                        <td id=\"T_ebd6a_row0_col4\" class=\"data row0 col4\" >0.7703</td>\n",
       "                        <td id=\"T_ebd6a_row0_col5\" class=\"data row0 col5\" >0.5244</td>\n",
       "                        <td id=\"T_ebd6a_row0_col6\" class=\"data row0 col6\" >0.5252</td>\n",
       "            </tr>\n",
       "            <tr>\n",
       "                        <th id=\"T_ebd6a_level0_row1\" class=\"row_heading level0 row1\" >1</th>\n",
       "                        <td id=\"T_ebd6a_row1_col0\" class=\"data row1 col0\" >0.7643</td>\n",
       "                        <td id=\"T_ebd6a_row1_col1\" class=\"data row1 col1\" >0.8340</td>\n",
       "                        <td id=\"T_ebd6a_row1_col2\" class=\"data row1 col2\" >0.7984</td>\n",
       "                        <td id=\"T_ebd6a_row1_col3\" class=\"data row1 col3\" >0.7500</td>\n",
       "                        <td id=\"T_ebd6a_row1_col4\" class=\"data row1 col4\" >0.7735</td>\n",
       "                        <td id=\"T_ebd6a_row1_col5\" class=\"data row1 col5\" >0.5283</td>\n",
       "                        <td id=\"T_ebd6a_row1_col6\" class=\"data row1 col6\" >0.5295</td>\n",
       "            </tr>\n",
       "            <tr>\n",
       "                        <th id=\"T_ebd6a_level0_row2\" class=\"row_heading level0 row2\" >2</th>\n",
       "                        <td id=\"T_ebd6a_row2_col0\" class=\"data row2 col0\" >0.7633</td>\n",
       "                        <td id=\"T_ebd6a_row2_col1\" class=\"data row2 col1\" >0.8382</td>\n",
       "                        <td id=\"T_ebd6a_row2_col2\" class=\"data row2 col2\" >0.7725</td>\n",
       "                        <td id=\"T_ebd6a_row2_col3\" class=\"data row2 col3\" >0.7606</td>\n",
       "                        <td id=\"T_ebd6a_row2_col4\" class=\"data row2 col4\" >0.7665</td>\n",
       "                        <td id=\"T_ebd6a_row2_col5\" class=\"data row2 col5\" >0.5266</td>\n",
       "                        <td id=\"T_ebd6a_row2_col6\" class=\"data row2 col6\" >0.5266</td>\n",
       "            </tr>\n",
       "            <tr>\n",
       "                        <th id=\"T_ebd6a_level0_row3\" class=\"row_heading level0 row3\" >3</th>\n",
       "                        <td id=\"T_ebd6a_row3_col0\" class=\"data row3 col0\" >0.7554</td>\n",
       "                        <td id=\"T_ebd6a_row3_col1\" class=\"data row3 col1\" >0.8349</td>\n",
       "                        <td id=\"T_ebd6a_row3_col2\" class=\"data row3 col2\" >0.7765</td>\n",
       "                        <td id=\"T_ebd6a_row3_col3\" class=\"data row3 col3\" >0.7472</td>\n",
       "                        <td id=\"T_ebd6a_row3_col4\" class=\"data row3 col4\" >0.7615</td>\n",
       "                        <td id=\"T_ebd6a_row3_col5\" class=\"data row3 col5\" >0.5107</td>\n",
       "                        <td id=\"T_ebd6a_row3_col6\" class=\"data row3 col6\" >0.5111</td>\n",
       "            </tr>\n",
       "            <tr>\n",
       "                        <th id=\"T_ebd6a_level0_row4\" class=\"row_heading level0 row4\" >4</th>\n",
       "                        <td id=\"T_ebd6a_row4_col0\" class=\"data row4 col0\" >0.7939</td>\n",
       "                        <td id=\"T_ebd6a_row4_col1\" class=\"data row4 col1\" >0.8741</td>\n",
       "                        <td id=\"T_ebd6a_row4_col2\" class=\"data row4 col2\" >0.8255</td>\n",
       "                        <td id=\"T_ebd6a_row4_col3\" class=\"data row4 col3\" >0.7782</td>\n",
       "                        <td id=\"T_ebd6a_row4_col4\" class=\"data row4 col4\" >0.8011</td>\n",
       "                        <td id=\"T_ebd6a_row4_col5\" class=\"data row4 col5\" >0.5876</td>\n",
       "                        <td id=\"T_ebd6a_row4_col6\" class=\"data row4 col6\" >0.5887</td>\n",
       "            </tr>\n",
       "            <tr>\n",
       "                        <th id=\"T_ebd6a_level0_row5\" class=\"row_heading level0 row5\" >5</th>\n",
       "                        <td id=\"T_ebd6a_row5_col0\" class=\"data row5 col0\" >0.7781</td>\n",
       "                        <td id=\"T_ebd6a_row5_col1\" class=\"data row5 col1\" >0.8428</td>\n",
       "                        <td id=\"T_ebd6a_row5_col2\" class=\"data row5 col2\" >0.8020</td>\n",
       "                        <td id=\"T_ebd6a_row5_col3\" class=\"data row5 col3\" >0.7674</td>\n",
       "                        <td id=\"T_ebd6a_row5_col4\" class=\"data row5 col4\" >0.7843</td>\n",
       "                        <td id=\"T_ebd6a_row5_col5\" class=\"data row5 col5\" >0.5561</td>\n",
       "                        <td id=\"T_ebd6a_row5_col6\" class=\"data row5 col6\" >0.5567</td>\n",
       "            </tr>\n",
       "            <tr>\n",
       "                        <th id=\"T_ebd6a_level0_row6\" class=\"row_heading level0 row6\" >6</th>\n",
       "                        <td id=\"T_ebd6a_row6_col0\" class=\"data row6 col0\" >0.7702</td>\n",
       "                        <td id=\"T_ebd6a_row6_col1\" class=\"data row6 col1\" >0.8421</td>\n",
       "                        <td id=\"T_ebd6a_row6_col2\" class=\"data row6 col2\" >0.8098</td>\n",
       "                        <td id=\"T_ebd6a_row6_col3\" class=\"data row6 col3\" >0.7523</td>\n",
       "                        <td id=\"T_ebd6a_row6_col4\" class=\"data row6 col4\" >0.7800</td>\n",
       "                        <td id=\"T_ebd6a_row6_col5\" class=\"data row6 col5\" >0.5402</td>\n",
       "                        <td id=\"T_ebd6a_row6_col6\" class=\"data row6 col6\" >0.5418</td>\n",
       "            </tr>\n",
       "            <tr>\n",
       "                        <th id=\"T_ebd6a_level0_row7\" class=\"row_heading level0 row7\" >7</th>\n",
       "                        <td id=\"T_ebd6a_row7_col0\" class=\"data row7 col0\" >0.7436</td>\n",
       "                        <td id=\"T_ebd6a_row7_col1\" class=\"data row7 col1\" >0.8268</td>\n",
       "                        <td id=\"T_ebd6a_row7_col2\" class=\"data row7 col2\" >0.7961</td>\n",
       "                        <td id=\"T_ebd6a_row7_col3\" class=\"data row7 col3\" >0.7224</td>\n",
       "                        <td id=\"T_ebd6a_row7_col4\" class=\"data row7 col4\" >0.7575</td>\n",
       "                        <td id=\"T_ebd6a_row7_col5\" class=\"data row7 col5\" >0.4869</td>\n",
       "                        <td id=\"T_ebd6a_row7_col6\" class=\"data row7 col6\" >0.4894</td>\n",
       "            </tr>\n",
       "            <tr>\n",
       "                        <th id=\"T_ebd6a_level0_row8\" class=\"row_heading level0 row8\" >8</th>\n",
       "                        <td id=\"T_ebd6a_row8_col0\" class=\"data row8 col0\" >0.7732</td>\n",
       "                        <td id=\"T_ebd6a_row8_col1\" class=\"data row8 col1\" >0.8524</td>\n",
       "                        <td id=\"T_ebd6a_row8_col2\" class=\"data row8 col2\" >0.8039</td>\n",
       "                        <td id=\"T_ebd6a_row8_col3\" class=\"data row8 col3\" >0.7593</td>\n",
       "                        <td id=\"T_ebd6a_row8_col4\" class=\"data row8 col4\" >0.7810</td>\n",
       "                        <td id=\"T_ebd6a_row8_col5\" class=\"data row8 col5\" >0.5462</td>\n",
       "                        <td id=\"T_ebd6a_row8_col6\" class=\"data row8 col6\" >0.5471</td>\n",
       "            </tr>\n",
       "            <tr>\n",
       "                        <th id=\"T_ebd6a_level0_row9\" class=\"row_heading level0 row9\" >9</th>\n",
       "                        <td id=\"T_ebd6a_row9_col0\" class=\"data row9 col0\" >0.7611</td>\n",
       "                        <td id=\"T_ebd6a_row9_col1\" class=\"data row9 col1\" >0.8449</td>\n",
       "                        <td id=\"T_ebd6a_row9_col2\" class=\"data row9 col2\" >0.7902</td>\n",
       "                        <td id=\"T_ebd6a_row9_col3\" class=\"data row9 col3\" >0.7491</td>\n",
       "                        <td id=\"T_ebd6a_row9_col4\" class=\"data row9 col4\" >0.7691</td>\n",
       "                        <td id=\"T_ebd6a_row9_col5\" class=\"data row9 col5\" >0.5220</td>\n",
       "                        <td id=\"T_ebd6a_row9_col6\" class=\"data row9 col6\" >0.5228</td>\n",
       "            </tr>\n",
       "            <tr>\n",
       "                        <th id=\"T_ebd6a_level0_row10\" class=\"row_heading level0 row10\" >Mean</th>\n",
       "                        <td id=\"T_ebd6a_row10_col0\" class=\"data row10 col0\" >0.7665</td>\n",
       "                        <td id=\"T_ebd6a_row10_col1\" class=\"data row10 col1\" >0.8435</td>\n",
       "                        <td id=\"T_ebd6a_row10_col2\" class=\"data row10 col2\" >0.7966</td>\n",
       "                        <td id=\"T_ebd6a_row10_col3\" class=\"data row10 col3\" >0.7537</td>\n",
       "                        <td id=\"T_ebd6a_row10_col4\" class=\"data row10 col4\" >0.7745</td>\n",
       "                        <td id=\"T_ebd6a_row10_col5\" class=\"data row10 col5\" >0.5329</td>\n",
       "                        <td id=\"T_ebd6a_row10_col6\" class=\"data row10 col6\" >0.5339</td>\n",
       "            </tr>\n",
       "            <tr>\n",
       "                        <th id=\"T_ebd6a_level0_row11\" class=\"row_heading level0 row11\" >SD</th>\n",
       "                        <td id=\"T_ebd6a_row11_col0\" class=\"data row11 col0\" >0.0129</td>\n",
       "                        <td id=\"T_ebd6a_row11_col1\" class=\"data row11 col1\" >0.0122</td>\n",
       "                        <td id=\"T_ebd6a_row11_col2\" class=\"data row11 col2\" >0.0147</td>\n",
       "                        <td id=\"T_ebd6a_row11_col3\" class=\"data row11 col3\" >0.0139</td>\n",
       "                        <td id=\"T_ebd6a_row11_col4\" class=\"data row11 col4\" >0.0120</td>\n",
       "                        <td id=\"T_ebd6a_row11_col5\" class=\"data row11 col5\" >0.0257</td>\n",
       "                        <td id=\"T_ebd6a_row11_col6\" class=\"data row11 col6\" >0.0255</td>\n",
       "            </tr>\n",
       "    </tbody></table>"
      ],
      "text/plain": [
       "<pandas.io.formats.style.Styler at 0x7fda4f7aa350>"
      ]
     },
     "metadata": {},
     "output_type": "display_data"
    }
   ],
   "source": [
    "best_model = create_model(model_matrix)\n",
    "\n",
    "unseen_predictions = predict_model(best_model, data=df_eval)"
   ]
  },
  {
   "cell_type": "markdown",
   "id": "6c83a60a-fb7d-454b-888e-7afea29245fa",
   "metadata": {},
   "source": [
    "### Let's plot the features to see what attributes were the most important to an accurate prediction"
   ]
  },
  {
   "cell_type": "code",
   "execution_count": 21,
   "id": "9e23120e-b6c6-44e3-a317-3248cb28a238",
   "metadata": {},
   "outputs": [
    {
     "data": {
      "image/png": "[encoded data removed]",
      "text/plain": [
       "<Figure size 800x500 with 1 Axes>"
      ]
     },
     "metadata": {},
     "output_type": "display_data"
    }
   ],
   "source": [
    "plot_model(best_model, plot='feature')"
   ]
  },
  {
   "cell_type": "markdown",
   "id": "bb8672af-6a36-4453-a614-64f241a00554",
   "metadata": {},
   "source": [
    "### Let's also plot a confusion matrix to understand the spread of our predictions"
   ]
  },
  {
   "cell_type": "code",
   "execution_count": 23,
   "id": "98f38915-4eef-434e-b23f-b5acd58463e3",
   "metadata": {},
   "outputs": [
    {
     "data": {
      "image/png": "[encoded data removed]",
      "text/plain": [
       "<Figure size 576x396 with 1 Axes>"
      ]
     },
     "metadata": {},
     "output_type": "display_data"
    }
   ],
   "source": [
    "plot_model(best_model, plot='confusion_matrix')"
   ]
  },
  {
   "cell_type": "markdown",
   "id": "0db99bad-f336-4d9c-8b13-d02c2f9a46cb",
   "metadata": {},
   "source": [
    "## Observations\n",
    "\n",
    "* There was a slight lift in accuracy by adding these two features (0.7635 to 0.7665).\n",
    "* The resale_records and forward_records are the last two features on the feature importance matrix.\n",
    "* Compared to the standard StellarAlgo retention features, the extended features predicted more overall buyers."
   ]
  },
  {
   "cell_type": "markdown",
   "id": "abda0dfd",
   "metadata": {},
   "source": [
    "## Conclusions\n",
    "Here you can talk about next steps, did the experiment work? If yes, what to do next? If no, why?"
   ]
  }
 ],
 "metadata": {
  "kernelspec": {
   "display_name": "Python 3 (ipykernel)",
   "language": "python",
   "name": "python3"
  },
  "language_info": {
   "codemirror_mode": {
    "name": "ipython",
    "version": 3
   },
   "file_extension": ".py",
   "mimetype": "text/x-python",
   "name": "python",
   "nbconvert_exporter": "python",
   "pygments_lexer": "ipython3",
   "version": "3.7.10"
  }
 },
 "nbformat": 4,
 "nbformat_minor": 5
}
