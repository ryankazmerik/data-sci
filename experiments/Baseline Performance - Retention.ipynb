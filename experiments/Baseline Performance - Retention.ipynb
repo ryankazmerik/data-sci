{
 "cells": [
  {
   "attachments": {},
   "cell_type": "markdown",
   "metadata": {},
   "source": [
    "# Retention : Measuring Performance\n",
    "* StellarAlgo Data Science\n",
    "* Ryan Kazmerik & Grant Donst\n",
    "* February 3, 2023\n",
    "\n",
    "This notebook attempts to measure the performance of our Retention model scores by comparing each quartile of scores to see how many fans actually renewed their product package."
   ]
  },
  {
   "cell_type": "code",
   "execution_count": 2,
   "metadata": {},
   "outputs": [
    {
     "name": "stderr",
     "output_type": "stream",
     "text": [
      "/opt/miniconda3/envs/stellar/lib/python3.8/site-packages/requests/__init__.py:109: RequestsDependencyWarning: urllib3 (1.26.12) or chardet (5.0.0)/charset_normalizer (2.0.12) doesn't match a supported version!\n",
      "  warnings.warn(\n"
     ]
    }
   ],
   "source": [
    "import awswrangler as wr\n",
    "import matplotlib.pyplot as plt\n",
    "import seaborn as sns\n",
    "import pandas as pd\n",
    "\n",
    "from data_sci_toolkit.aws_tools import permission_tools \n",
    "from data_sci_toolkit.aws_tools import redshift_tools\n",
    "from data_sci_toolkit.common_tools import config_tools\n",
    "from datetime import datetime, timedelta"
   ]
  },
  {
   "cell_type": "code",
   "execution_count": 3,
   "metadata": {},
   "outputs": [
    {
     "name": "stdout",
     "output_type": "stream",
     "text": [
      "Authorized as AROAUSMVSGV62RMB5U6S5:rkazmerik@stellaralgo.com\n"
     ]
    }
   ],
   "source": [
    "session = permission_tools.get_aws_session(\"US-StellarSupport\")"
   ]
  },
  {
   "cell_type": "code",
   "execution_count": 4,
   "metadata": {},
   "outputs": [],
   "source": [
    "# Set team to be scored\n",
    "SUBTYPE = \"MLS-Dynamo\"\n",
    "params = config_tools.get_team_config(SUBTYPE, True)\n",
    "CLIENTCODE = params[\"client_configs\"][0][\"clientcode\"]"
   ]
  },
  {
   "attachments": {},
   "cell_type": "markdown",
   "metadata": {},
   "source": [
    "### Let's load up a list of retention scores we predicted in October of 2022 on what fans would renew their package:"
   ]
  },
  {
   "cell_type": "code",
   "execution_count": 5,
   "metadata": {},
   "outputs": [],
   "source": [
    "S3_PATH = f\"s3://us-curated-data-sci-retention-us-east-1-5h6cml/date=2022-12-31/{CLIENTCODE}/scores.csv\""
   ]
  },
  {
   "cell_type": "code",
   "execution_count": 6,
   "metadata": {},
   "outputs": [
    {
     "data": {
      "text/plain": [
       "(2826, 9)"
      ]
     },
     "execution_count": 6,
     "metadata": {},
     "output_type": "execute_result"
    }
   ],
   "source": [
    "df_scores = wr.s3.read_csv(boto3_session=session, path=S3_PATH, path_suffix=[\".csv\"])\n",
    "df_scores.shape"
   ]
  },
  {
   "cell_type": "code",
   "execution_count": 7,
   "metadata": {},
   "outputs": [
    {
     "data": {
      "text/plain": [
       "Full Season     2257\n",
       "Partial Plan     569\n",
       "Name: product, dtype: int64"
      ]
     },
     "execution_count": 7,
     "metadata": {},
     "output_type": "execute_result"
    }
   ],
   "source": [
    "df_scores[\"product\"].value_counts()"
   ]
  },
  {
   "attachments": {},
   "cell_type": "markdown",
   "metadata": {},
   "source": [
    "### Let's limit the scores to just the Full Season product plan for this experiment:"
   ]
  },
  {
   "cell_type": "code",
   "execution_count": 8,
   "metadata": {},
   "outputs": [],
   "source": [
    "df_scores = df_scores[df_scores[\"product\"]==\"Full Season\"]"
   ]
  },
  {
   "attachments": {},
   "cell_type": "markdown",
   "metadata": {},
   "source": [
    "### Let's visualize the distrubution of scores:"
   ]
  },
  {
   "cell_type": "code",
   "execution_count": 9,
   "metadata": {},
   "outputs": [
    {
     "data": {
      "image/png": "[encoded data removed]",
      "text/plain": [
       "<Figure size 640x480 with 1 Axes>"
      ]
     },
     "metadata": {},
     "output_type": "display_data"
    }
   ],
   "source": [
    "sns.histplot(data=df_scores, x='sascore', bins=20, kde=True);"
   ]
  },
  {
   "attachments": {},
   "cell_type": "markdown",
   "metadata": {},
   "source": [
    "### Now let's grab a list of customers that have already renewed their product for the 2023 season:"
   ]
  },
  {
   "cell_type": "code",
   "execution_count": 10,
   "metadata": {},
   "outputs": [
    {
     "name": "stdout",
     "output_type": "stream",
     "text": [
      "Authorized as AROASQ4JELIXYLYV6P4UV:rkazmerik@stellaralgo.com\n"
     ]
    },
    {
     "data": {
      "text/plain": [
       "(19075, 24)"
      ]
     },
     "execution_count": 10,
     "metadata": {},
     "output_type": "execute_result"
    }
   ],
   "source": [
    "df = redshift_tools.get_retention_dataset(\n",
    "    cluster = params[\"client_configs\"][0][\"cluster\"],\n",
    "    database = params[\"client_configs\"][0][\"dbname\"],\n",
    "    lkupclientid = params[\"client_configs\"][0][\"lkupclientid\"],\n",
    "    start_year = 2022,\n",
    "    end_year = 2023\n",
    ")\n",
    "\n",
    "df.shape"
   ]
  },
  {
   "attachments": {},
   "cell_type": "markdown",
   "metadata": {},
   "source": [
    "### Let's limit to the Full Season product plan buyers again:"
   ]
  },
  {
   "cell_type": "code",
   "execution_count": 11,
   "metadata": {},
   "outputs": [],
   "source": [
    "df = df[df[\"productgrouping\"]==\"Full Season\"]"
   ]
  },
  {
   "cell_type": "code",
   "execution_count": 12,
   "metadata": {},
   "outputs": [
    {
     "data": {
      "text/html": [
       "<div>\n",
       "<style scoped>\n",
       "    .dataframe tbody tr th:only-of-type {\n",
       "        vertical-align: middle;\n",
       "    }\n",
       "\n",
       "    .dataframe tbody tr th {\n",
       "        vertical-align: top;\n",
       "    }\n",
       "\n",
       "    .dataframe thead th {\n",
       "        text-align: right;\n",
       "    }\n",
       "</style>\n",
       "<table border=\"1\" class=\"dataframe\">\n",
       "  <thead>\n",
       "    <tr style=\"text-align: right;\">\n",
       "      <th></th>\n",
       "      <th></th>\n",
       "      <th></th>\n",
       "      <th>isnextyear_buyer</th>\n",
       "    </tr>\n",
       "    <tr>\n",
       "      <th>year</th>\n",
       "      <th>productgrouping</th>\n",
       "      <th>isnextyear_buyer</th>\n",
       "      <th></th>\n",
       "    </tr>\n",
       "  </thead>\n",
       "  <tbody>\n",
       "    <tr>\n",
       "      <th rowspan=\"2\" valign=\"top\">2022</th>\n",
       "      <th rowspan=\"2\" valign=\"top\">Full Season</th>\n",
       "      <th>0</th>\n",
       "      <td>363</td>\n",
       "    </tr>\n",
       "    <tr>\n",
       "      <th>1</th>\n",
       "      <td>1894</td>\n",
       "    </tr>\n",
       "  </tbody>\n",
       "</table>\n",
       "</div>"
      ],
      "text/plain": [
       "                                       isnextyear_buyer\n",
       "year productgrouping isnextyear_buyer                  \n",
       "2022 Full Season     0                              363\n",
       "                     1                             1894"
      ]
     },
     "execution_count": 12,
     "metadata": {},
     "output_type": "execute_result"
    }
   ],
   "source": [
    "\n",
    "df.groupby(['year', 'productgrouping', 'isnextyear_buyer']).agg({\n",
    "    \"isnextyear_buyer\":\"count\"\n",
    "})"
   ]
  },
  {
   "attachments": {},
   "cell_type": "markdown",
   "metadata": {},
   "source": [
    "### The table above shows us that 1894 fans have renewed their Full Season package for the 2023 season already, and 363 have not."
   ]
  },
  {
   "attachments": {},
   "cell_type": "markdown",
   "metadata": {},
   "source": [
    "### Now let's join the Retention scores we predicted with the renewers from the season, so we can see how many of our predictions overlap with the fans who actually renewed:"
   ]
  },
  {
   "cell_type": "code",
   "execution_count": 13,
   "metadata": {},
   "outputs": [
    {
     "data": {
      "text/plain": [
       "(1894, 24)"
      ]
     },
     "execution_count": 13,
     "metadata": {},
     "output_type": "execute_result"
    }
   ],
   "source": [
    "df_renewers = df[df[\"isnextyear_buyer\"]==1]\n",
    "df_renewers.shape"
   ]
  },
  {
   "cell_type": "code",
   "execution_count": 14,
   "metadata": {},
   "outputs": [
    {
     "data": {
      "text/plain": [
       "(1658, 32)"
      ]
     },
     "execution_count": 14,
     "metadata": {},
     "output_type": "execute_result"
    }
   ],
   "source": [
    "df_join = df_scores.merge(df_renewers, on=\"dimcustomermasterid\", how=\"inner\")\n",
    "df_join.shape"
   ]
  },
  {
   "attachments": {},
   "cell_type": "markdown",
   "metadata": {},
   "source": [
    "### In the chart below, we can see that as the predicted score increases, so does the number of fans who renewed:"
   ]
  },
  {
   "cell_type": "code",
   "execution_count": 15,
   "metadata": {},
   "outputs": [
    {
     "data": {
      "image/png": "[encoded data removed]",
      "text/plain": [
       "<Figure size 640x480 with 1 Axes>"
      ]
     },
     "metadata": {},
     "output_type": "display_data"
    }
   ],
   "source": [
    "# Non normalized plot of sascore\n",
    "sns.histplot(data=df_join, x='sascore', bins=[0,25,50,75,100]);"
   ]
  },
  {
   "attachments": {},
   "cell_type": "markdown",
   "metadata": {},
   "source": [
    "### Next we will normalize the results against how many scores were provided in each quartile (0-25, 25-50, 50-75, 75-100) by dividing the number of fans scored in each quartile by the number of fans who renewed in each quartile:"
   ]
  },
  {
   "cell_type": "code",
   "execution_count": 17,
   "metadata": {},
   "outputs": [
    {
     "data": {
      "text/plain": [
       "<AxesSubplot:xlabel='quartile', ylabel='percentage'>"
      ]
     },
     "execution_count": 17,
     "metadata": {},
     "output_type": "execute_result"
    },
    {
     "data": {
      "image/png": "[encoded data removed]",
      "text/plain": [
       "<Figure size 640x480 with 1 Axes>"
      ]
     },
     "metadata": {},
     "output_type": "display_data"
    }
   ],
   "source": [
    "# Create quartiles\n",
    "df_scores['quartile'] = pd.cut(df_scores['sascore'], [0, 25, 50, 75, 100], labels = [\"0-25\", \"26-50\", \"51-75\", \"76-100\"])\n",
    "\n",
    "merged_df = df_scores.merge(df[['dimcustomermasterid', 'isnextyear_buyer']], on='dimcustomermasterid', how='left')\n",
    "\n",
    "# Filter the data to include only rows where 'isnextyear_buyer' is 1\n",
    "filtered_df = merged_df[merged_df['isnextyear_buyer'] == 1]\n",
    "\n",
    "# Group by quartiles\n",
    "grouped = df_scores.groupby('quartile').size().reset_index(name='count')\n",
    "\n",
    "# Calc the percentage of 'isnextyear_buyer' that is 1 for each quartile\n",
    "grouped = grouped.merge(filtered_df.groupby('quartile').size().reset_index(name='filtered_count'), on='quartile')\n",
    "grouped['percentage'] = grouped['filtered_count'] / grouped['count'] * 100\n",
    "\n",
    "sns.barplot(x='quartile', y='percentage', data=grouped, color=\"steelblue\")\n"
   ]
  },
  {
   "attachments": {},
   "cell_type": "markdown",
   "metadata": {},
   "source": [
    "### The chart above tells us that regardless of how many fans were predicted in each bucket, a higher score correlates to more fans renewing."
   ]
  },
  {
   "cell_type": "code",
   "execution_count": 18,
   "metadata": {},
   "outputs": [
    {
     "name": "stdout",
     "output_type": "stream",
     "text": [
      "  quartile  count  filtered_count  percentage\n",
      "0     0-25     28               5   17.857143\n",
      "1    26-50     70              40   57.142857\n",
      "2    51-75    246             163   66.260163\n",
      "3   76-100   1913            1450   75.797177\n"
     ]
    }
   ],
   "source": [
    "# Count is total number of accounts in that quartile, \n",
    "# filtered_count is total number of renewers per quartile bucket\n",
    "print(grouped)"
   ]
  },
  {
   "attachments": {},
   "cell_type": "markdown",
   "metadata": {},
   "source": [
    "### We can see that the 4th quartile (fans who received scores between 75 and 100) have over 75% rate of renewal."
   ]
  },
  {
   "attachments": {},
   "cell_type": "markdown",
   "metadata": {},
   "source": [
    "# Comparing to Alternate Strategies"
   ]
  },
  {
   "attachments": {},
   "cell_type": "markdown",
   "metadata": {},
   "source": [
    "### Suppose for budgetary constraints, we could only pick 1,000 fans for renewal? Let's test some alternate strategies and see their renewal percentages:"
   ]
  },
  {
   "attachments": {},
   "cell_type": "markdown",
   "metadata": {},
   "source": [
    "### Strategy 1 : Pick 1000 Random Fans"
   ]
  },
  {
   "attachments": {},
   "cell_type": "markdown",
   "metadata": {},
   "source": [
    "### Strategy 2 : Pick 1000 Top Spend Fans"
   ]
  },
  {
   "attachments": {},
   "cell_type": "markdown",
   "metadata": {},
   "source": [
    "### Strategy 3 : Pick 1000 Top Tenured Fans"
   ]
  },
  {
   "cell_type": "markdown",
   "metadata": {},
   "source": []
  }
 ],
 "metadata": {
  "kernelspec": {
   "display_name": "stellar",
   "language": "python",
   "name": "python3"
  },
  "language_info": {
   "codemirror_mode": {
    "name": "ipython",
    "version": 3
   },
   "file_extension": ".py",
   "mimetype": "text/x-python",
   "name": "python",
   "nbconvert_exporter": "python",
   "pygments_lexer": "ipython3",
   "version": "3.8.5"
  },
  "orig_nbformat": 4,
  "vscode": {
   "interpreter": {
    "hash": "89f48dadab51a6b5b48ffc1a9e043c21cefe67453637c3444f3b86917b8aad16"
   }
  }
 },
 "nbformat": 4,
 "nbformat_minor": 2
}
