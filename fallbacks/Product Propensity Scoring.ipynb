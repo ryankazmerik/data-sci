{
 "cells": [
  {
   "cell_type": "markdown",
   "id": "0c641235-d720-4fa1-bec2-acccdef2ee7a",
   "metadata": {},
   "source": [
    "# Fallback - Product Propensity Scoring\n",
    "* StellarAlgo Data Science\n",
    "* Ryan Kazmerik\n",
    "* Oct 19, 2022"
   ]
  },
  {
   "cell_type": "code",
   "execution_count": 1,
   "id": "f6c78855-d3da-4d9e-bea1-341eb207f1ba",
   "metadata": {},
   "outputs": [
    {
     "name": "stderr",
     "output_type": "stream",
     "text": [
      "/Users/petermorrison/opt/miniconda3/envs/pycaret_conda/lib/python3.8/site-packages/sklearn/utils/deprecation.py:143: FutureWarning: The sklearn.metrics.classification module is  deprecated in version 0.22 and will be removed in version 0.24. The corresponding classes / functions should instead be imported from sklearn.metrics. Anything that cannot be imported from sklearn.metrics is now part of the private API.\n",
      "  warnings.warn(message, FutureWarning)\n"
     ]
    }
   ],
   "source": [
    "import pandas as pd\n",
    "import matplotlib.pyplot as plt\n",
    "import seaborn as sns\n",
    "\n",
    "from pycaret.classification import *\n",
    "from shared_utilities import helpers"
   ]
  },
  {
   "cell_type": "code",
   "execution_count": 2,
   "id": "a2656795",
   "metadata": {},
   "outputs": [],
   "source": [
    "CLUSTER = \"prod-app\"\n",
    "DATABASE = \"stlrcanucks\"\n",
    "LKUPCLIENTID = \"7\"\n",
    "SCORING_YEAR = 2022"
   ]
  },
  {
   "cell_type": "markdown",
   "id": "2b3a2992",
   "metadata": {},
   "source": [
    "## Model Training"
   ]
  },
  {
   "cell_type": "code",
   "execution_count": 3,
   "id": "cebb52ff-b073-4fad-b78b-e9ec92013a4b",
   "metadata": {},
   "outputs": [
    {
     "name": "stdout",
     "output_type": "stream",
     "text": [
      "Authorized as AROASQ4JELIXYLYV6P4UV:pmorrison@stellaralgo.com\n"
     ]
    },
    {
     "data": {
      "text/plain": [
       "(699057, 27)"
      ]
     },
     "execution_count": 3,
     "metadata": {},
     "output_type": "execute_result"
    }
   ],
   "source": [
    "df = helpers.get_product_propensity_dataset(\n",
    "    cluster=CLUSTER,\n",
    "    database=DATABASE,\n",
    "    lkupclientid=LKUPCLIENTID,\n",
    "    scoring_year=SCORING_YEAR,\n",
    "    type_flag=0\n",
    ")\n",
    "\n",
    "df.shape"
   ]
  },
  {
   "cell_type": "code",
   "execution_count": 4,
   "id": "ca09017a-34f7-4130-8611-aae7bbdf26ad",
   "metadata": {},
   "outputs": [
    {
     "name": "stdout",
     "output_type": "stream",
     "text": [
      "Data for Modeling: (14301, 27)\n",
      "Unseen Data For Predictions: (1589, 27)\n",
      "\n"
     ]
    }
   ],
   "source": [
    "# choose the features for the stellar base PP model\n",
    "features = [\n",
    "    \"atp_last\",\n",
    "    \"attendedpct_last\",\n",
    "    \"attendedpct_prior\",\n",
    "    \"attendance_current\",\n",
    "    \"attended_last\",\n",
    "    \"attended_prior\",\n",
    "    \"clientcode\",\n",
    "    \"dimcustomermasterid\",\n",
    "    \"date_last_save\",\n",
    "    \"date_last_send\",\n",
    "    \"date_last_touch\",\n",
    "    \"events_last\",\n",
    "    \"events_prior\",\n",
    "    \"distance\",\n",
    "    \"events_current\",\n",
    "    \"lkupclientid\",\n",
    "    \"opens\",\n",
    "    \"opens_prior\",\n",
    "    \"product\",\n",
    "    \"product_current\",\n",
    "    \"product_last\",\n",
    "    \"seasonyear\",\n",
    "    \"sends\",\n",
    "    \"sends_prior\",\n",
    "    \"spend_current\",\n",
    "    \"tenure\",\n",
    "    \"volume_current\"\n",
    "]\n",
    "\n",
    "# copy your main dataframe\n",
    "df_dataset = df\n",
    "\n",
    "# creating the training and evaluation dataframe\n",
    "df_dataset = df_dataset[features]\n",
    "\n",
    "# limiting classes to only product plans\n",
    "product_plans = [\"Full Season\", \"Half Season\", \"Quarter\", \"Mini Pack\"]\n",
    "\n",
    "df_dataset = df_dataset[df_dataset[\"product\"].isin(product_plans)]\n",
    "\n",
    "df_train = df_dataset.sample(frac=0.90, random_state=786)\n",
    "df_eval = df_dataset.drop(df_train.index)\n",
    "\n",
    "df_train.reset_index(drop=True, inplace=True)\n",
    "df_eval.reset_index(drop=True, inplace=True)\n",
    "\n",
    "# print out the number of records for training and eval\n",
    "print('Data for Modeling: ' + str(df_train.shape))\n",
    "print('Unseen Data For Predictions: ' + str(df_eval.shape), end=\"\\n\\n\")"
   ]
  },
  {
   "cell_type": "code",
   "execution_count": 5,
   "id": "701a03e9",
   "metadata": {},
   "outputs": [
    {
     "data": {
      "text/plain": [
       "Full Season    5894\n",
       "None           5605\n",
       "Quarter        1489\n",
       "Half Season     817\n",
       "Individual      358\n",
       "Mini Pack        98\n",
       "Groups           40\n",
       "Name: product_current, dtype: int64"
      ]
     },
     "execution_count": 5,
     "metadata": {},
     "output_type": "execute_result"
    }
   ],
   "source": [
    "df_train[\"product_current\"].value_counts()"
   ]
  },
  {
   "cell_type": "code",
   "execution_count": 14,
   "id": "ca1804c6-68e5-43dd-ac50-7ac52f8fe6a0",
   "metadata": {},
   "outputs": [],
   "source": [
    "setup(\n",
    "    data= df_train, \n",
    "    target=\"product\", \n",
    "    train_size = 0.90,\n",
    "    data_split_shuffle=True,\n",
    "    ignore_features=[\n",
    "        \"attended_last\",\n",
    "        # \"attendedpct_last\",\n",
    "        \"clientcode\",\n",
    "        \"date_last_save\",\n",
    "        \"date_last_send\",\n",
    "        \"date_last_touch\",\n",
    "        \"dimcustomermasterid\",\n",
    "        # \"distance\",\n",
    "        \"events_current\",\n",
    "        \"lkupclientid\",\n",
    "        \"opens\",\n",
    "        \"opens_prior\",\n",
    "        # \"product_current\",\n",
    "        # \"product_last\",\n",
    "        \"seasonyear\",\n",
    "        \"sends\",\n",
    "        \"sends_prior\",\n",
    "        #\"spend_current\",\n",
    "        \"volume_current\"\n",
    "    ],\n",
    "    silent=True,\n",
    "    verbose=False,\n",
    "    categorical_features=[\n",
    "        \"product_current\",\n",
    "        \"product_last\",\n",
    "    ],\n",
    "    numeric_features=[\n",
    "        \"atp_last\",\n",
    "        #\"attendance_current\",\n",
    "        \"attended_last\",\n",
    "        \"attended_prior\",\n",
    "        \"distance\",\n",
    "        \"events_last\",\n",
    "        \"events_prior\",\n",
    "        #\"spend_current\",\n",
    "        \"tenure\"\n",
    "    ]\n",
    ");"
   ]
  },
  {
   "cell_type": "code",
   "execution_count": 15,
   "id": "82e1d72b-ea9c-467c-b938-9e07f009a04a",
   "metadata": {},
   "outputs": [
    {
     "data": {
      "text/html": [
       "<style type=\"text/css\">\n",
       "#T_3b8fc_ th {\n",
       "  text-align: left;\n",
       "}\n",
       "#T_3b8fc_row0_col0 {\n",
       "  text-align: left;\n",
       "}\n",
       "#T_3b8fc_row0_col1, #T_3b8fc_row0_col2, #T_3b8fc_row0_col3, #T_3b8fc_row0_col4, #T_3b8fc_row0_col5, #T_3b8fc_row0_col6, #T_3b8fc_row0_col7 {\n",
       "  text-align: left;\n",
       "  background-color: yellow;\n",
       "}\n",
       "#T_3b8fc_row0_col8 {\n",
       "  text-align: left;\n",
       "  background-color: yellow;\n",
       "  background-color: lightgrey;\n",
       "}\n",
       "</style>\n",
       "<table id=\"T_3b8fc_\">\n",
       "  <thead>\n",
       "    <tr>\n",
       "      <th class=\"blank level0\" >&nbsp;</th>\n",
       "      <th class=\"col_heading level0 col0\" >Model</th>\n",
       "      <th class=\"col_heading level0 col1\" >Accuracy</th>\n",
       "      <th class=\"col_heading level0 col2\" >AUC</th>\n",
       "      <th class=\"col_heading level0 col3\" >Recall</th>\n",
       "      <th class=\"col_heading level0 col4\" >Prec.</th>\n",
       "      <th class=\"col_heading level0 col5\" >F1</th>\n",
       "      <th class=\"col_heading level0 col6\" >Kappa</th>\n",
       "      <th class=\"col_heading level0 col7\" >MCC</th>\n",
       "      <th class=\"col_heading level0 col8\" >TT (Sec)</th>\n",
       "    </tr>\n",
       "  </thead>\n",
       "  <tbody>\n",
       "    <tr>\n",
       "      <th id=\"T_3b8fc_level0_row0\" class=\"row_heading level0 row0\" >rf</th>\n",
       "      <td id=\"T_3b8fc_row0_col0\" class=\"data row0 col0\" >Random Forest Classifier</td>\n",
       "      <td id=\"T_3b8fc_row0_col1\" class=\"data row0 col1\" >0.8794</td>\n",
       "      <td id=\"T_3b8fc_row0_col2\" class=\"data row0 col2\" >0.9549</td>\n",
       "      <td id=\"T_3b8fc_row0_col3\" class=\"data row0 col3\" >0.6969</td>\n",
       "      <td id=\"T_3b8fc_row0_col4\" class=\"data row0 col4\" >0.8764</td>\n",
       "      <td id=\"T_3b8fc_row0_col5\" class=\"data row0 col5\" >0.8774</td>\n",
       "      <td id=\"T_3b8fc_row0_col6\" class=\"data row0 col6\" >0.7706</td>\n",
       "      <td id=\"T_3b8fc_row0_col7\" class=\"data row0 col7\" >0.7708</td>\n",
       "      <td id=\"T_3b8fc_row0_col8\" class=\"data row0 col8\" >0.9910</td>\n",
       "    </tr>\n",
       "  </tbody>\n",
       "</table>\n"
      ],
      "text/plain": [
       "<pandas.io.formats.style.Styler at 0x285546cd0>"
      ]
     },
     "metadata": {},
     "output_type": "display_data"
    }
   ],
   "source": [
    "model_matrix = compare_models(\n",
    "    fold=10,\n",
    "    include=[\"rf\"]\n",
    ")"
   ]
  },
  {
   "cell_type": "code",
   "execution_count": 16,
   "id": "15fb4277-f8af-44e3-a897-305241f5f12b",
   "metadata": {},
   "outputs": [
    {
     "data": {
      "text/html": [
       "<style type=\"text/css\">\n",
       "#T_22b17_row10_col0, #T_22b17_row10_col1, #T_22b17_row10_col2, #T_22b17_row10_col3, #T_22b17_row10_col4, #T_22b17_row10_col5, #T_22b17_row10_col6 {\n",
       "  background: yellow;\n",
       "}\n",
       "</style>\n",
       "<table id=\"T_22b17_\">\n",
       "  <thead>\n",
       "    <tr>\n",
       "      <th class=\"blank level0\" >&nbsp;</th>\n",
       "      <th class=\"col_heading level0 col0\" >Accuracy</th>\n",
       "      <th class=\"col_heading level0 col1\" >AUC</th>\n",
       "      <th class=\"col_heading level0 col2\" >Recall</th>\n",
       "      <th class=\"col_heading level0 col3\" >Prec.</th>\n",
       "      <th class=\"col_heading level0 col4\" >F1</th>\n",
       "      <th class=\"col_heading level0 col5\" >Kappa</th>\n",
       "      <th class=\"col_heading level0 col6\" >MCC</th>\n",
       "    </tr>\n",
       "    <tr>\n",
       "      <th class=\"index_name level0\" >Fold</th>\n",
       "      <th class=\"blank col0\" >&nbsp;</th>\n",
       "      <th class=\"blank col1\" >&nbsp;</th>\n",
       "      <th class=\"blank col2\" >&nbsp;</th>\n",
       "      <th class=\"blank col3\" >&nbsp;</th>\n",
       "      <th class=\"blank col4\" >&nbsp;</th>\n",
       "      <th class=\"blank col5\" >&nbsp;</th>\n",
       "      <th class=\"blank col6\" >&nbsp;</th>\n",
       "    </tr>\n",
       "  </thead>\n",
       "  <tbody>\n",
       "    <tr>\n",
       "      <th id=\"T_22b17_level0_row0\" class=\"row_heading level0 row0\" >0</th>\n",
       "      <td id=\"T_22b17_row0_col0\" class=\"data row0 col0\" >0.8733</td>\n",
       "      <td id=\"T_22b17_row0_col1\" class=\"data row0 col1\" >0.9498</td>\n",
       "      <td id=\"T_22b17_row0_col2\" class=\"data row0 col2\" >0.6989</td>\n",
       "      <td id=\"T_22b17_row0_col3\" class=\"data row0 col3\" >0.8732</td>\n",
       "      <td id=\"T_22b17_row0_col4\" class=\"data row0 col4\" >0.8729</td>\n",
       "      <td id=\"T_22b17_row0_col5\" class=\"data row0 col5\" >0.7623</td>\n",
       "      <td id=\"T_22b17_row0_col6\" class=\"data row0 col6\" >0.7625</td>\n",
       "    </tr>\n",
       "    <tr>\n",
       "      <th id=\"T_22b17_level0_row1\" class=\"row_heading level0 row1\" >1</th>\n",
       "      <td id=\"T_22b17_row1_col0\" class=\"data row1 col0\" >0.8811</td>\n",
       "      <td id=\"T_22b17_row1_col1\" class=\"data row1 col1\" >0.9534</td>\n",
       "      <td id=\"T_22b17_row1_col2\" class=\"data row1 col2\" >0.6875</td>\n",
       "      <td id=\"T_22b17_row1_col3\" class=\"data row1 col3\" >0.8764</td>\n",
       "      <td id=\"T_22b17_row1_col4\" class=\"data row1 col4\" >0.8785</td>\n",
       "      <td id=\"T_22b17_row1_col5\" class=\"data row1 col5\" >0.7734</td>\n",
       "      <td id=\"T_22b17_row1_col6\" class=\"data row1 col6\" >0.7735</td>\n",
       "    </tr>\n",
       "    <tr>\n",
       "      <th id=\"T_22b17_level0_row2\" class=\"row_heading level0 row2\" >2</th>\n",
       "      <td id=\"T_22b17_row2_col0\" class=\"data row2 col0\" >0.8897</td>\n",
       "      <td id=\"T_22b17_row2_col1\" class=\"data row2 col1\" >0.9582</td>\n",
       "      <td id=\"T_22b17_row2_col2\" class=\"data row2 col2\" >0.7283</td>\n",
       "      <td id=\"T_22b17_row2_col3\" class=\"data row2 col3\" >0.8878</td>\n",
       "      <td id=\"T_22b17_row2_col4\" class=\"data row2 col4\" >0.8873</td>\n",
       "      <td id=\"T_22b17_row2_col5\" class=\"data row2 col5\" >0.7903</td>\n",
       "      <td id=\"T_22b17_row2_col6\" class=\"data row2 col6\" >0.7911</td>\n",
       "    </tr>\n",
       "    <tr>\n",
       "      <th id=\"T_22b17_level0_row3\" class=\"row_heading level0 row3\" >3</th>\n",
       "      <td id=\"T_22b17_row3_col0\" class=\"data row3 col0\" >0.8772</td>\n",
       "      <td id=\"T_22b17_row3_col1\" class=\"data row3 col1\" >0.9580</td>\n",
       "      <td id=\"T_22b17_row3_col2\" class=\"data row3 col2\" >0.6915</td>\n",
       "      <td id=\"T_22b17_row3_col3\" class=\"data row3 col3\" >0.8741</td>\n",
       "      <td id=\"T_22b17_row3_col4\" class=\"data row3 col4\" >0.8752</td>\n",
       "      <td id=\"T_22b17_row3_col5\" class=\"data row3 col5\" >0.7660</td>\n",
       "      <td id=\"T_22b17_row3_col6\" class=\"data row3 col6\" >0.7663</td>\n",
       "    </tr>\n",
       "    <tr>\n",
       "      <th id=\"T_22b17_level0_row4\" class=\"row_heading level0 row4\" >4</th>\n",
       "      <td id=\"T_22b17_row4_col0\" class=\"data row4 col0\" >0.8757</td>\n",
       "      <td id=\"T_22b17_row4_col1\" class=\"data row4 col1\" >0.9520</td>\n",
       "      <td id=\"T_22b17_row4_col2\" class=\"data row4 col2\" >0.6971</td>\n",
       "      <td id=\"T_22b17_row4_col3\" class=\"data row4 col3\" >0.8764</td>\n",
       "      <td id=\"T_22b17_row4_col4\" class=\"data row4 col4\" >0.8758</td>\n",
       "      <td id=\"T_22b17_row4_col5\" class=\"data row4 col5\" >0.7652</td>\n",
       "      <td id=\"T_22b17_row4_col6\" class=\"data row4 col6\" >0.7653</td>\n",
       "    </tr>\n",
       "    <tr>\n",
       "      <th id=\"T_22b17_level0_row5\" class=\"row_heading level0 row5\" >5</th>\n",
       "      <td id=\"T_22b17_row5_col0\" class=\"data row5 col0\" >0.8834</td>\n",
       "      <td id=\"T_22b17_row5_col1\" class=\"data row5 col1\" >0.9590</td>\n",
       "      <td id=\"T_22b17_row5_col2\" class=\"data row5 col2\" >0.6576</td>\n",
       "      <td id=\"T_22b17_row5_col3\" class=\"data row5 col3\" >0.8756</td>\n",
       "      <td id=\"T_22b17_row5_col4\" class=\"data row5 col4\" >0.8787</td>\n",
       "      <td id=\"T_22b17_row5_col5\" class=\"data row5 col5\" >0.7767</td>\n",
       "      <td id=\"T_22b17_row5_col6\" class=\"data row5 col6\" >0.7772</td>\n",
       "    </tr>\n",
       "    <tr>\n",
       "      <th id=\"T_22b17_level0_row6\" class=\"row_heading level0 row6\" >6</th>\n",
       "      <td id=\"T_22b17_row6_col0\" class=\"data row6 col0\" >0.8928</td>\n",
       "      <td id=\"T_22b17_row6_col1\" class=\"data row6 col1\" >0.9601</td>\n",
       "      <td id=\"T_22b17_row6_col2\" class=\"data row6 col2\" >0.7081</td>\n",
       "      <td id=\"T_22b17_row6_col3\" class=\"data row6 col3\" >0.8888</td>\n",
       "      <td id=\"T_22b17_row6_col4\" class=\"data row6 col4\" >0.8901</td>\n",
       "      <td id=\"T_22b17_row6_col5\" class=\"data row6 col5\" >0.7958</td>\n",
       "      <td id=\"T_22b17_row6_col6\" class=\"data row6 col6\" >0.7960</td>\n",
       "    </tr>\n",
       "    <tr>\n",
       "      <th id=\"T_22b17_level0_row7\" class=\"row_heading level0 row7\" >7</th>\n",
       "      <td id=\"T_22b17_row7_col0\" class=\"data row7 col0\" >0.8695</td>\n",
       "      <td id=\"T_22b17_row7_col1\" class=\"data row7 col1\" >0.9496</td>\n",
       "      <td id=\"T_22b17_row7_col2\" class=\"data row7 col2\" >0.6954</td>\n",
       "      <td id=\"T_22b17_row7_col3\" class=\"data row7 col3\" >0.8657</td>\n",
       "      <td id=\"T_22b17_row7_col4\" class=\"data row7 col4\" >0.8673</td>\n",
       "      <td id=\"T_22b17_row7_col5\" class=\"data row7 col5\" >0.7504</td>\n",
       "      <td id=\"T_22b17_row7_col6\" class=\"data row7 col6\" >0.7505</td>\n",
       "    </tr>\n",
       "    <tr>\n",
       "      <th id=\"T_22b17_level0_row8\" class=\"row_heading level0 row8\" >8</th>\n",
       "      <td id=\"T_22b17_row8_col0\" class=\"data row8 col0\" >0.8819</td>\n",
       "      <td id=\"T_22b17_row8_col1\" class=\"data row8 col1\" >0.9506</td>\n",
       "      <td id=\"T_22b17_row8_col2\" class=\"data row8 col2\" >0.7182</td>\n",
       "      <td id=\"T_22b17_row8_col3\" class=\"data row8 col3\" >0.8783</td>\n",
       "      <td id=\"T_22b17_row8_col4\" class=\"data row8 col4\" >0.8795</td>\n",
       "      <td id=\"T_22b17_row8_col5\" class=\"data row8 col5\" >0.7737</td>\n",
       "      <td id=\"T_22b17_row8_col6\" class=\"data row8 col6\" >0.7741</td>\n",
       "    </tr>\n",
       "    <tr>\n",
       "      <th id=\"T_22b17_level0_row9\" class=\"row_heading level0 row9\" >9</th>\n",
       "      <td id=\"T_22b17_row9_col0\" class=\"data row9 col0\" >0.8695</td>\n",
       "      <td id=\"T_22b17_row9_col1\" class=\"data row9 col1\" >0.9582</td>\n",
       "      <td id=\"T_22b17_row9_col2\" class=\"data row9 col2\" >0.6862</td>\n",
       "      <td id=\"T_22b17_row9_col3\" class=\"data row9 col3\" >0.8675</td>\n",
       "      <td id=\"T_22b17_row9_col4\" class=\"data row9 col4\" >0.8684</td>\n",
       "      <td id=\"T_22b17_row9_col5\" class=\"data row9 col5\" >0.7519</td>\n",
       "      <td id=\"T_22b17_row9_col6\" class=\"data row9 col6\" >0.7519</td>\n",
       "    </tr>\n",
       "    <tr>\n",
       "      <th id=\"T_22b17_level0_row10\" class=\"row_heading level0 row10\" >Mean</th>\n",
       "      <td id=\"T_22b17_row10_col0\" class=\"data row10 col0\" >0.8794</td>\n",
       "      <td id=\"T_22b17_row10_col1\" class=\"data row10 col1\" >0.9549</td>\n",
       "      <td id=\"T_22b17_row10_col2\" class=\"data row10 col2\" >0.6969</td>\n",
       "      <td id=\"T_22b17_row10_col3\" class=\"data row10 col3\" >0.8764</td>\n",
       "      <td id=\"T_22b17_row10_col4\" class=\"data row10 col4\" >0.8774</td>\n",
       "      <td id=\"T_22b17_row10_col5\" class=\"data row10 col5\" >0.7706</td>\n",
       "      <td id=\"T_22b17_row10_col6\" class=\"data row10 col6\" >0.7708</td>\n",
       "    </tr>\n",
       "    <tr>\n",
       "      <th id=\"T_22b17_level0_row11\" class=\"row_heading level0 row11\" >Std</th>\n",
       "      <td id=\"T_22b17_row11_col0\" class=\"data row11 col0\" >0.0075</td>\n",
       "      <td id=\"T_22b17_row11_col1\" class=\"data row11 col1\" >0.0040</td>\n",
       "      <td id=\"T_22b17_row11_col2\" class=\"data row11 col2\" >0.0183</td>\n",
       "      <td id=\"T_22b17_row11_col3\" class=\"data row11 col3\" >0.0071</td>\n",
       "      <td id=\"T_22b17_row11_col4\" class=\"data row11 col4\" >0.0069</td>\n",
       "      <td id=\"T_22b17_row11_col5\" class=\"data row11 col5\" >0.0140</td>\n",
       "      <td id=\"T_22b17_row11_col6\" class=\"data row11 col6\" >0.0141</td>\n",
       "    </tr>\n",
       "  </tbody>\n",
       "</table>\n"
      ],
      "text/plain": [
       "<pandas.io.formats.style.Styler at 0x285eec4c0>"
      ]
     },
     "metadata": {},
     "output_type": "display_data"
    }
   ],
   "source": [
    "best_model = create_model(model_matrix);\n",
    "final_model = finalize_model(best_model);"
   ]
  },
  {
   "cell_type": "code",
   "execution_count": 17,
   "id": "5daead20",
   "metadata": {},
   "outputs": [
    {
     "data": {
      "image/png": "[encoded data removed]",
      "text/plain": [
       "<Figure size 800x500 with 1 Axes>"
      ]
     },
     "metadata": {},
     "output_type": "display_data"
    }
   ],
   "source": [
    "plot_model(final_model, plot='feature')"
   ]
  },
  {
   "attachments": {},
   "cell_type": "markdown",
   "id": "3def50d9",
   "metadata": {},
   "source": [
    "## Model Evaluate"
   ]
  },
  {
   "attachments": {},
   "cell_type": "markdown",
   "id": "3aab9021-4462-423a-8e3c-fbe1f36c6110",
   "metadata": {},
   "source": [
    "### Let's load in our evaluate data and get scores using the model (it takes the leftover data from the train/test split in setup() )"
   ]
  },
  {
   "cell_type": "code",
   "execution_count": 18,
   "id": "ce4a220f",
   "metadata": {},
   "outputs": [
    {
     "data": {
      "text/html": [
       "<style type=\"text/css\">\n",
       "</style>\n",
       "<table id=\"T_68374_\">\n",
       "  <thead>\n",
       "    <tr>\n",
       "      <th class=\"blank level0\" >&nbsp;</th>\n",
       "      <th class=\"col_heading level0 col0\" >Model</th>\n",
       "      <th class=\"col_heading level0 col1\" >Accuracy</th>\n",
       "      <th class=\"col_heading level0 col2\" >AUC</th>\n",
       "      <th class=\"col_heading level0 col3\" >Recall</th>\n",
       "      <th class=\"col_heading level0 col4\" >Prec.</th>\n",
       "      <th class=\"col_heading level0 col5\" >F1</th>\n",
       "      <th class=\"col_heading level0 col6\" >Kappa</th>\n",
       "      <th class=\"col_heading level0 col7\" >MCC</th>\n",
       "    </tr>\n",
       "  </thead>\n",
       "  <tbody>\n",
       "    <tr>\n",
       "      <th id=\"T_68374_level0_row0\" class=\"row_heading level0 row0\" >0</th>\n",
       "      <td id=\"T_68374_row0_col0\" class=\"data row0 col0\" >Random Forest Classifier</td>\n",
       "      <td id=\"T_68374_row0_col1\" class=\"data row0 col1\" >0.9958</td>\n",
       "      <td id=\"T_68374_row0_col2\" class=\"data row0 col2\" >1.0000</td>\n",
       "      <td id=\"T_68374_row0_col3\" class=\"data row0 col3\" >0.9826</td>\n",
       "      <td id=\"T_68374_row0_col4\" class=\"data row0 col4\" >0.9958</td>\n",
       "      <td id=\"T_68374_row0_col5\" class=\"data row0 col5\" >0.9958</td>\n",
       "      <td id=\"T_68374_row0_col6\" class=\"data row0 col6\" >0.9919</td>\n",
       "      <td id=\"T_68374_row0_col7\" class=\"data row0 col7\" >0.9919</td>\n",
       "    </tr>\n",
       "  </tbody>\n",
       "</table>\n"
      ],
      "text/plain": [
       "<pandas.io.formats.style.Styler at 0x284c7cc70>"
      ]
     },
     "metadata": {},
     "output_type": "display_data"
    }
   ],
   "source": [
    "df_scores = predict_model(final_model)"
   ]
  },
  {
   "attachments": {},
   "cell_type": "markdown",
   "id": "a443d54b",
   "metadata": {},
   "source": [
    "## Evaluate Model (Metrics)"
   ]
  },
  {
   "cell_type": "code",
   "execution_count": 19,
   "id": "4b69a864",
   "metadata": {},
   "outputs": [],
   "source": [
    "from sklearn.metrics import classification_report\n",
    "def get_model_metrics(eval_data):\n",
    "    \n",
    "    eval_report = classification_report(eval_data[\"product\"], eval_data[\"Label\"], output_dict=True)\n",
    "    \n",
    "    results = {\n",
    "        \"multiclass_classification_metrics\": {\n",
    "            \"Accuracy\": {\"value\": eval_report[\"accuracy\"]},\n",
    "            \"Precision\": {\"value\": eval_report[\"macro avg\"][\"precision\"]},\n",
    "            \"Recall\": {\"value\": eval_report[\"macro avg\"][\"recall\"]},\n",
    "            \"F1\": {\"value\": eval_report[\"macro avg\"][\"f1-score\"]}\n",
    "        }\n",
    "    }\n",
    "    \n",
    "    return results"
   ]
  },
  {
   "cell_type": "code",
   "execution_count": 20,
   "id": "e8bc1f48",
   "metadata": {},
   "outputs": [],
   "source": [
    "metrics = get_model_metrics(df_scores)"
   ]
  },
  {
   "cell_type": "code",
   "execution_count": 21,
   "id": "c1b706a2",
   "metadata": {},
   "outputs": [
    {
     "name": "stdout",
     "output_type": "stream",
     "text": [
      "{'multiclass_classification_metrics': {'Accuracy': {'value': 0.9958071278825996}, 'Precision': {'value': 0.9978170372626662}, 'Recall': {'value': 0.9826152683295539}, 'F1': {'value': 0.9900475583607555}}}\n"
     ]
    }
   ],
   "source": [
    "print(metrics)"
   ]
  },
  {
   "attachments": {},
   "cell_type": "markdown",
   "id": "ec03668e",
   "metadata": {},
   "source": [
    "| Accuracy |\tAUC |\tRecall |\tPrec |\tF1\t| Kappa |\tMCC |\n",
    "| -- | -- | -- | -- | -- | -- | --|\n",
    "|0.9777 |\t0.9985|\t0.9164|\t0.9776|\t0.9773|\t0.9563|\t0.9564|\n",
    "|0.9965|\t1.0000|\t0.9839|\t0.9965|\t0.9965|\t0.9932|\t0.9933|\n",
    "\n",
    "^ First is the standard model setup. Second row is with `distance`, `product_current`, and `product_last`"
   ]
  },
  {
   "attachments": {},
   "cell_type": "markdown",
   "id": "4605ce8a",
   "metadata": {},
   "source": [
    "# Inference"
   ]
  },
  {
   "cell_type": "code",
   "execution_count": null,
   "id": "f0a2c4da",
   "metadata": {},
   "outputs": [],
   "source": [
    "df_inference = helpers.get_product_propensity_dataset(\n",
    "    cluster=CLUSTER,\n",
    "    database=DATABASE,\n",
    "    lkupclientid=LKUPCLIENTID,\n",
    "    scoring_year=SCORING_YEAR,\n",
    "    type_flag=1\n",
    ")\n",
    "\n",
    "# remove the target column from the inference df\n",
    "df_inference = df_inference.drop(columns=[\"product\"], axis=1)\n",
    "\n",
    "df_inference.shape"
   ]
  },
  {
   "cell_type": "code",
   "execution_count": null,
   "id": "ecee2fef",
   "metadata": {},
   "outputs": [],
   "source": [
    "df_scores = predict_model(final_model, data=df_inference)"
   ]
  },
  {
   "cell_type": "markdown",
   "id": "074284d2",
   "metadata": {},
   "source": [
    "## Upsell Leads"
   ]
  },
  {
   "cell_type": "code",
   "execution_count": 13,
   "id": "bc1506ea",
   "metadata": {},
   "outputs": [
    {
     "data": {
      "text/html": [
       "<div>\n",
       "<style scoped>\n",
       "    .dataframe tbody tr th:only-of-type {\n",
       "        vertical-align: middle;\n",
       "    }\n",
       "\n",
       "    .dataframe tbody tr th {\n",
       "        vertical-align: top;\n",
       "    }\n",
       "\n",
       "    .dataframe thead th {\n",
       "        text-align: right;\n",
       "    }\n",
       "</style>\n",
       "<table border=\"1\" class=\"dataframe\">\n",
       "  <thead>\n",
       "    <tr style=\"text-align: right;\">\n",
       "      <th></th>\n",
       "      <th></th>\n",
       "      <th>count</th>\n",
       "    </tr>\n",
       "    <tr>\n",
       "      <th>Label</th>\n",
       "      <th>product_current</th>\n",
       "      <th></th>\n",
       "    </tr>\n",
       "  </thead>\n",
       "  <tbody>\n",
       "    <tr>\n",
       "      <th rowspan=\"4\" valign=\"top\">Full Season</th>\n",
       "      <th>Full Season</th>\n",
       "      <td>214</td>\n",
       "    </tr>\n",
       "    <tr>\n",
       "      <th>Half Season</th>\n",
       "      <td>31</td>\n",
       "    </tr>\n",
       "    <tr>\n",
       "      <th>Mini Pack</th>\n",
       "      <td>5</td>\n",
       "    </tr>\n",
       "    <tr>\n",
       "      <th>Quarter</th>\n",
       "      <td>9</td>\n",
       "    </tr>\n",
       "    <tr>\n",
       "      <th rowspan=\"4\" valign=\"top\">Half Season</th>\n",
       "      <th>Full Season</th>\n",
       "      <td>5</td>\n",
       "    </tr>\n",
       "    <tr>\n",
       "      <th>Half Season</th>\n",
       "      <td>45</td>\n",
       "    </tr>\n",
       "    <tr>\n",
       "      <th>Mini Pack</th>\n",
       "      <td>3</td>\n",
       "    </tr>\n",
       "    <tr>\n",
       "      <th>Quarter</th>\n",
       "      <td>4</td>\n",
       "    </tr>\n",
       "    <tr>\n",
       "      <th rowspan=\"3\" valign=\"top\">Mini Pack</th>\n",
       "      <th>Full Season</th>\n",
       "      <td>2</td>\n",
       "    </tr>\n",
       "    <tr>\n",
       "      <th>Mini Pack</th>\n",
       "      <td>6</td>\n",
       "    </tr>\n",
       "    <tr>\n",
       "      <th>Quarter</th>\n",
       "      <td>2</td>\n",
       "    </tr>\n",
       "    <tr>\n",
       "      <th rowspan=\"4\" valign=\"top\">Quarter</th>\n",
       "      <th>Full Season</th>\n",
       "      <td>12</td>\n",
       "    </tr>\n",
       "    <tr>\n",
       "      <th>Half Season</th>\n",
       "      <td>39</td>\n",
       "    </tr>\n",
       "    <tr>\n",
       "      <th>Mini Pack</th>\n",
       "      <td>23</td>\n",
       "    </tr>\n",
       "    <tr>\n",
       "      <th>Quarter</th>\n",
       "      <td>270</td>\n",
       "    </tr>\n",
       "  </tbody>\n",
       "</table>\n",
       "</div>"
      ],
      "text/plain": [
       "                             count\n",
       "Label       product_current       \n",
       "Full Season Full Season        214\n",
       "            Half Season         31\n",
       "            Mini Pack            5\n",
       "            Quarter              9\n",
       "Half Season Full Season          5\n",
       "            Half Season         45\n",
       "            Mini Pack            3\n",
       "            Quarter              4\n",
       "Mini Pack   Full Season          2\n",
       "            Mini Pack            6\n",
       "            Quarter              2\n",
       "Quarter     Full Season         12\n",
       "            Half Season         39\n",
       "            Mini Pack           23\n",
       "            Quarter            270"
      ]
     },
     "execution_count": 13,
     "metadata": {},
     "output_type": "execute_result"
    }
   ],
   "source": [
    "df_upsell = df_scores[df_scores[\"product_current\"].isin(product_plans)]\n",
    "\n",
    "df_upsell_aggs = df_upsell.groupby([\"Label\",\"product_current\"]).agg({\n",
    "    \"Label\": \"count\",\n",
    "})\n",
    "df_upsell_aggs.columns = [\"count\"]\n",
    "\n",
    "df_upsell_aggs"
   ]
  },
  {
   "cell_type": "markdown",
   "id": "2d6911d0",
   "metadata": {},
   "source": [
    "## Individual + None Leads"
   ]
  },
  {
   "cell_type": "code",
   "execution_count": 14,
   "id": "0fdfae66",
   "metadata": {},
   "outputs": [],
   "source": [
    "df_other = df_scores[df_scores[\"product_current\"].isin([\"Individual\", \"None\"])]"
   ]
  },
  {
   "cell_type": "markdown",
   "id": "f3b0bbf7",
   "metadata": {},
   "source": [
    "### Let's examine the top 20 Full Season leads in this grouping:"
   ]
  },
  {
   "cell_type": "code",
   "execution_count": null,
   "id": "d27c7d4a",
   "metadata": {},
   "outputs": [],
   "source": [
    "pd.set_option('display.max_columns', None)\n",
    "pd.set_option('display.max_rows', None)\n",
    "\n",
    "df_other[df_other[\"Label\"]==\"Full Season\"].sort_values(by=\"Score\", ascending=False).head(20)"
   ]
  }
 ],
 "metadata": {
  "kernelspec": {
   "display_name": "Python 3.8.15 ('pycaret_conda')",
   "language": "python",
   "name": "python3"
  },
  "language_info": {
   "codemirror_mode": {
    "name": "ipython",
    "version": 3
   },
   "file_extension": ".py",
   "mimetype": "text/x-python",
   "name": "python",
   "nbconvert_exporter": "python",
   "pygments_lexer": "ipython3",
   "version": "3.8.15"
  },
  "vscode": {
   "interpreter": {
    "hash": "ce7ebb568ce3854897edee76046185250b332f48411037b3c52faa6a994169a3"
   }
  }
 },
 "nbformat": 4,
 "nbformat_minor": 5
}
