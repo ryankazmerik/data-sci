{
 "cells": [
  {
   "cell_type": "markdown",
   "id": "6ee08766-25fd-4da1-91b8-b0c3e74db588",
   "metadata": {},
   "source": [
    "# Fallback - Insert Retention Scores (RedShift)\n",
    "* StelllarAlgo Data Science\n",
    "* Ryan Kazmerik & Nakisa Rad\n",
    "* Mar 7, 2022"
   ]
  },
  {
   "cell_type": "code",
   "execution_count": 22,
   "id": "4c533efd-600e-4bce-8203-faffbddfa700",
   "metadata": {},
   "outputs": [],
   "source": [
    "import awswrangler as wr\n",
    "import boto3\n",
    "import getpass\n",
    "import matplotlib.pyplot as plt\n",
    "import pandas as pd\n",
    "import pyodbc\n",
    "\n",
    "from datetime import datetime\n",
    "from pycaret.classification import *"
   ]
  },
  {
   "cell_type": "code",
   "execution_count": 7,
   "id": "08d0434e",
   "metadata": {},
   "outputs": [
    {
     "name": "stdout",
     "output_type": "stream",
     "text": [
      "Attempting to automatically open the SSO authorization page in your default browser.\n",
      "If the browser does not open or you wish to use a different device to authorize this request, open the following URL:\n",
      "\n",
      "https://device.sso.us-east-1.amazonaws.com/\n",
      "\n",
      "Then enter the code:\n",
      "\n",
      "MFPG-DRCJ\n",
      "Successully logged into Start URL: https://stellaralgo.awsapps.com/start\n"
     ]
    }
   ],
   "source": [
    "! aws sso login --profile Stellaralgo-DataScienceAdmin"
   ]
  },
  {
   "cell_type": "markdown",
   "id": "b64ae7d5-84af-4915-bd13-1dd9d17098a3",
   "metadata": {},
   "source": [
    "### Let's connect to our MSSQL PROD environment and run a stored proc to get our dataset:"
   ]
  },
  {
   "cell_type": "code",
   "execution_count": 27,
   "id": "ae561eb4-f419-4d46-b5e0-12fac9b10db8",
   "metadata": {},
   "outputs": [],
   "source": [
    "# connect to SQL Server.\n",
    "SERVER = '34.206.73.189' \n",
    "DATABASE = 'datascience' \n",
    "USERNAME = 'dsAdminWrite' \n",
    "PASSWORD = getpass.getpass(prompt='Enter your password')\n",
    "CNXN = pyodbc.connect('DRIVER={ODBC Driver 17 for SQL Server};SERVER='+SERVER+';DATABASE='+DATABASE+';UID='+USERNAME+';PWD='+ PASSWORD)"
   ]
  },
  {
   "cell_type": "code",
   "execution_count": 28,
   "id": "480fa304",
   "metadata": {},
   "outputs": [],
   "source": [
    "CLUSTER = \"qa-app\"\n",
    "DBNAME = \"stlrMLS\"\n",
    "LKUPCLIENTID = 13"
   ]
  },
  {
   "cell_type": "code",
   "execution_count": 29,
   "id": "af1afe7d-a35b-494b-88f3-980fb0e3da30",
   "metadata": {},
   "outputs": [
    {
     "name": "stdout",
     "output_type": "stream",
     "text": [
      "TOTAL ROWS: 16153\n"
     ]
    },
    {
     "data": {
      "text/html": [
       "<div>\n",
       "<style scoped>\n",
       "    .dataframe tbody tr th:only-of-type {\n",
       "        vertical-align: middle;\n",
       "    }\n",
       "\n",
       "    .dataframe tbody tr th {\n",
       "        vertical-align: top;\n",
       "    }\n",
       "\n",
       "    .dataframe thead th {\n",
       "        text-align: right;\n",
       "    }\n",
       "</style>\n",
       "<table border=\"1\" class=\"dataframe\">\n",
       "  <thead>\n",
       "    <tr style=\"text-align: right;\">\n",
       "      <th></th>\n",
       "      <th>lkupClientId</th>\n",
       "      <th>dimCustomerMasterId</th>\n",
       "      <th>customerNumber</th>\n",
       "      <th>year</th>\n",
       "      <th>productGrouping</th>\n",
       "      <th>totalSpent</th>\n",
       "      <th>recentDate</th>\n",
       "      <th>attendancePercent</th>\n",
       "      <th>renewedBeforeDays</th>\n",
       "      <th>isBuyer</th>\n",
       "      <th>...</th>\n",
       "      <th>maritalStatus</th>\n",
       "      <th>lengthOfResidenceInYrs</th>\n",
       "      <th>annualHHIncome</th>\n",
       "      <th>education</th>\n",
       "      <th>urbanicity</th>\n",
       "      <th>credits_after_refund</th>\n",
       "      <th>is_Lockdown</th>\n",
       "      <th>NumberofGamesPerSeason</th>\n",
       "      <th>CNTPostponedGames</th>\n",
       "      <th>isNextYear_Buyer</th>\n",
       "    </tr>\n",
       "  </thead>\n",
       "  <tbody>\n",
       "    <tr>\n",
       "      <th>0</th>\n",
       "      <td>13</td>\n",
       "      <td>463639507</td>\n",
       "      <td>AXS-9063648</td>\n",
       "      <td>2017</td>\n",
       "      <td>Full Season</td>\n",
       "      <td>774.0</td>\n",
       "      <td>2017-10-22</td>\n",
       "      <td>0.764706</td>\n",
       "      <td>120</td>\n",
       "      <td>TRUE</td>\n",
       "      <td>...</td>\n",
       "      <td>1</td>\n",
       "      <td>None</td>\n",
       "      <td>None</td>\n",
       "      <td>None</td>\n",
       "      <td>None</td>\n",
       "      <td>0.0</td>\n",
       "      <td>0</td>\n",
       "      <td>17</td>\n",
       "      <td>None</td>\n",
       "      <td>1</td>\n",
       "    </tr>\n",
       "    <tr>\n",
       "      <th>1</th>\n",
       "      <td>13</td>\n",
       "      <td>463639520</td>\n",
       "      <td>AXS-8026589</td>\n",
       "      <td>2017</td>\n",
       "      <td>Full Season</td>\n",
       "      <td>1026.0</td>\n",
       "      <td>2017-10-22</td>\n",
       "      <td>0.823529</td>\n",
       "      <td>215</td>\n",
       "      <td>TRUE</td>\n",
       "      <td>...</td>\n",
       "      <td>1</td>\n",
       "      <td>None</td>\n",
       "      <td>None</td>\n",
       "      <td>None</td>\n",
       "      <td>None</td>\n",
       "      <td>0.0</td>\n",
       "      <td>0</td>\n",
       "      <td>17</td>\n",
       "      <td>None</td>\n",
       "      <td>1</td>\n",
       "    </tr>\n",
       "    <tr>\n",
       "      <th>2</th>\n",
       "      <td>13</td>\n",
       "      <td>463639568</td>\n",
       "      <td>AXS-8026390</td>\n",
       "      <td>2017</td>\n",
       "      <td>Full Season</td>\n",
       "      <td>1359.0</td>\n",
       "      <td>2017-10-11</td>\n",
       "      <td>0.588235</td>\n",
       "      <td>215</td>\n",
       "      <td>TRUE</td>\n",
       "      <td>...</td>\n",
       "      <td>1</td>\n",
       "      <td>None</td>\n",
       "      <td>None</td>\n",
       "      <td>None</td>\n",
       "      <td>None</td>\n",
       "      <td>0.0</td>\n",
       "      <td>0</td>\n",
       "      <td>17</td>\n",
       "      <td>None</td>\n",
       "      <td>1</td>\n",
       "    </tr>\n",
       "    <tr>\n",
       "      <th>3</th>\n",
       "      <td>13</td>\n",
       "      <td>463639948</td>\n",
       "      <td>AXS-8026663</td>\n",
       "      <td>2017</td>\n",
       "      <td>Full Season</td>\n",
       "      <td>1732.5</td>\n",
       "      <td>2017-10-22</td>\n",
       "      <td>0.941176</td>\n",
       "      <td>229</td>\n",
       "      <td>TRUE</td>\n",
       "      <td>...</td>\n",
       "      <td>1</td>\n",
       "      <td>None</td>\n",
       "      <td>None</td>\n",
       "      <td>None</td>\n",
       "      <td>None</td>\n",
       "      <td>0.0</td>\n",
       "      <td>0</td>\n",
       "      <td>17</td>\n",
       "      <td>None</td>\n",
       "      <td>1</td>\n",
       "    </tr>\n",
       "    <tr>\n",
       "      <th>4</th>\n",
       "      <td>13</td>\n",
       "      <td>463640455</td>\n",
       "      <td>AXS-10548666</td>\n",
       "      <td>2017</td>\n",
       "      <td>Full Season</td>\n",
       "      <td>474.0</td>\n",
       "      <td>2017-09-30</td>\n",
       "      <td>1.000000</td>\n",
       "      <td>3</td>\n",
       "      <td>TRUE</td>\n",
       "      <td>...</td>\n",
       "      <td>1</td>\n",
       "      <td>None</td>\n",
       "      <td>None</td>\n",
       "      <td>None</td>\n",
       "      <td>None</td>\n",
       "      <td>0.0</td>\n",
       "      <td>0</td>\n",
       "      <td>17</td>\n",
       "      <td>None</td>\n",
       "      <td>0</td>\n",
       "    </tr>\n",
       "  </tbody>\n",
       "</table>\n",
       "<p>5 rows × 54 columns</p>\n",
       "</div>"
      ],
      "text/plain": [
       "   lkupClientId  dimCustomerMasterId customerNumber  year productGrouping  \\\n",
       "0            13            463639507    AXS-9063648  2017     Full Season   \n",
       "1            13            463639520    AXS-8026589  2017     Full Season   \n",
       "2            13            463639568    AXS-8026390  2017     Full Season   \n",
       "3            13            463639948    AXS-8026663  2017     Full Season   \n",
       "4            13            463640455   AXS-10548666  2017     Full Season   \n",
       "\n",
       "   totalSpent  recentDate  attendancePercent  renewedBeforeDays isBuyer  ...  \\\n",
       "0       774.0  2017-10-22           0.764706                120    TRUE  ...   \n",
       "1      1026.0  2017-10-22           0.823529                215    TRUE  ...   \n",
       "2      1359.0  2017-10-11           0.588235                215    TRUE  ...   \n",
       "3      1732.5  2017-10-22           0.941176                229    TRUE  ...   \n",
       "4       474.0  2017-09-30           1.000000                  3    TRUE  ...   \n",
       "\n",
       "   maritalStatus  lengthOfResidenceInYrs  annualHHIncome  education  \\\n",
       "0              1                    None            None       None   \n",
       "1              1                    None            None       None   \n",
       "2              1                    None            None       None   \n",
       "3              1                    None            None       None   \n",
       "4              1                    None            None       None   \n",
       "\n",
       "   urbanicity  credits_after_refund  is_Lockdown  NumberofGamesPerSeason  \\\n",
       "0        None                   0.0            0                      17   \n",
       "1        None                   0.0            0                      17   \n",
       "2        None                   0.0            0                      17   \n",
       "3        None                   0.0            0                      17   \n",
       "4        None                   0.0            0                      17   \n",
       "\n",
       "   CNTPostponedGames  isNextYear_Buyer  \n",
       "0               None                 1  \n",
       "1               None                 1  \n",
       "2               None                 1  \n",
       "3               None                 1  \n",
       "4               None                 0  \n",
       "\n",
       "[5 rows x 54 columns]"
      ]
     },
     "execution_count": 29,
     "metadata": {},
     "output_type": "execute_result"
    }
   ],
   "source": [
    "cursor = CNXN.cursor()\n",
    "\n",
    "storedProc = (\n",
    "    f\"\"\"Exec {DBNAME}.ds.getRetentionScoringModelData {LKUPCLIENTID}\"\"\"\n",
    ")\n",
    "\n",
    "df = pd.read_sql(storedProc, CNXN)\n",
    "\n",
    "# apply some data transformations\n",
    "df[\"year\"] = pd.to_numeric(df[\"year\"])\n",
    "\n",
    "CNXN.commit()\n",
    "cursor.close()\n",
    "\n",
    "print(f\"TOTAL ROWS: {df.shape[0]}\")\n",
    "df.head()\n",
    "\n"
   ]
  },
  {
   "cell_type": "markdown",
   "id": "ab40da92-72a7-49c1-9829-ed3805a39719",
   "metadata": {},
   "source": [
    "### We should specify the features used in our model:"
   ]
  },
  {
   "cell_type": "code",
   "execution_count": 30,
   "id": "788f1273-8b7a-46bd-a099-1a471feeacc5",
   "metadata": {},
   "outputs": [
    {
     "name": "stdout",
     "output_type": "stream",
     "text": [
      "Data for Modeling: (11474, 11)\n",
      "Unseen Data For Predictions: (2025, 11)\n",
      "\n"
     ]
    }
   ],
   "source": [
    "# choose the features for the stellar base retention model\n",
    "features = [\n",
    "    \"dimCustomerMasterId\",\n",
    "    \"attendancePercent\",\n",
    "    \"distToVenue\",\n",
    "    \"isNextYear_Buyer\",\n",
    "    \"lkupClientId\",\n",
    "    \"productGrouping\",\n",
    "    \"recency\",\n",
    "    \"recentDate\",\n",
    "    \"source_tenure\",\n",
    "    \"totalSpent\",\n",
    "    \"year\"\n",
    "]\n",
    "\n",
    "# copy your main dataframe\n",
    "df_dataset = df\n",
    "\n",
    "# choose the features & train year & test year\n",
    "df_dataset = df_dataset[features]\n",
    "df_dataset[\"year\"] = pd.to_numeric(df_dataset[\"year\"])\n",
    "df_dataset = df_dataset.loc[df_dataset[\"year\"] <= 2021]\n",
    "\n",
    "df_train = df_dataset.sample(frac=0.85, random_state=786)\n",
    "df_eval = df_dataset.drop(df_train.index)\n",
    "\n",
    "df_train.reset_index(drop=True, inplace=True)\n",
    "df_eval.reset_index(drop=True, inplace=True)\n",
    "\n",
    "# print out the number of records for training and eval\n",
    "print('Data for Modeling: ' + str(df_train.shape))\n",
    "print('Unseen Data For Predictions: ' + str(df_eval.shape), end=\"\\n\\n\")"
   ]
  },
  {
   "cell_type": "markdown",
   "id": "4f2da06d-9015-49fd-89b3-956c2ebf66e9",
   "metadata": {},
   "source": [
    "### Now we can model the data using a binary classification prediction for the isnextyear_buyer field to see how likely a customer is to re-purchase."
   ]
  },
  {
   "cell_type": "code",
   "execution_count": 31,
   "id": "23a69cdc-b3ec-48c8-9ce5-29f617779389",
   "metadata": {},
   "outputs": [],
   "source": [
    "setup(\n",
    "    data= df_train, \n",
    "    target=\"isNextYear_Buyer\", \n",
    "    train_size = 0.85,\n",
    "    data_split_shuffle=True,\n",
    "    ignore_features=[\n",
    "        \"dimCustomerMasterId\",\n",
    "        \"lkupClientId\",\n",
    "        \"productGrouping\",\n",
    "        \"recentDate\",\n",
    "        \"year\"\n",
    "    ],\n",
    "    silent=True,\n",
    "    verbose=False,\n",
    "    numeric_features=[\n",
    "        \"attendancePercent\",\n",
    "        \"distToVenue\",\n",
    "        \"recency\",\n",
    "        \"source_tenure\",\n",
    "        \"totalSpent\"\n",
    "    ]\n",
    ");"
   ]
  },
  {
   "cell_type": "markdown",
   "id": "6e1e33e8-ed5f-4e84-abb2-a2fc8370905c",
   "metadata": {},
   "source": [
    "### The evaluation output prints a score grid that shows average Accuracy, AUC, Recall, Precision, F1 and Kappa accross the folds (10 by default) along with training time:"
   ]
  },
  {
   "cell_type": "code",
   "execution_count": 32,
   "id": "ef2db9d2-02c2-45c0-b6bb-5cad42c373ce",
   "metadata": {},
   "outputs": [
    {
     "data": {
      "text/html": [
       "<style type=\"text/css\">\n",
       "#T_54577_ th {\n",
       "  text-align: left;\n",
       "}\n",
       "#T_54577_row0_col0 {\n",
       "  text-align: left;\n",
       "}\n",
       "#T_54577_row0_col1, #T_54577_row0_col2, #T_54577_row0_col3, #T_54577_row0_col4, #T_54577_row0_col5, #T_54577_row0_col6, #T_54577_row0_col7 {\n",
       "  text-align: left;\n",
       "  background-color: yellow;\n",
       "}\n",
       "#T_54577_row0_col8 {\n",
       "  text-align: left;\n",
       "  background-color: yellow;\n",
       "  background-color: lightgrey;\n",
       "}\n",
       "</style>\n",
       "<table id=\"T_54577_\">\n",
       "  <thead>\n",
       "    <tr>\n",
       "      <th class=\"blank level0\" >&nbsp;</th>\n",
       "      <th class=\"col_heading level0 col0\" >Model</th>\n",
       "      <th class=\"col_heading level0 col1\" >Accuracy</th>\n",
       "      <th class=\"col_heading level0 col2\" >AUC</th>\n",
       "      <th class=\"col_heading level0 col3\" >Recall</th>\n",
       "      <th class=\"col_heading level0 col4\" >Prec.</th>\n",
       "      <th class=\"col_heading level0 col5\" >F1</th>\n",
       "      <th class=\"col_heading level0 col6\" >Kappa</th>\n",
       "      <th class=\"col_heading level0 col7\" >MCC</th>\n",
       "      <th class=\"col_heading level0 col8\" >TT (Sec)</th>\n",
       "    </tr>\n",
       "  </thead>\n",
       "  <tbody>\n",
       "    <tr>\n",
       "      <th id=\"T_54577_level0_row0\" class=\"row_heading level0 row0\" >xgboost</th>\n",
       "      <td id=\"T_54577_row0_col0\" class=\"data row0 col0\" >Extreme Gradient Boosting</td>\n",
       "      <td id=\"T_54577_row0_col1\" class=\"data row0 col1\" >0.6806</td>\n",
       "      <td id=\"T_54577_row0_col2\" class=\"data row0 col2\" >0.7785</td>\n",
       "      <td id=\"T_54577_row0_col3\" class=\"data row0 col3\" >0.6371</td>\n",
       "      <td id=\"T_54577_row0_col4\" class=\"data row0 col4\" >0.8365</td>\n",
       "      <td id=\"T_54577_row0_col5\" class=\"data row0 col5\" >0.7232</td>\n",
       "      <td id=\"T_54577_row0_col6\" class=\"data row0 col6\" >0.3615</td>\n",
       "      <td id=\"T_54577_row0_col7\" class=\"data row0 col7\" >0.3806</td>\n",
       "      <td id=\"T_54577_row0_col8\" class=\"data row0 col8\" >0.9810</td>\n",
       "    </tr>\n",
       "  </tbody>\n",
       "</table>\n"
      ],
      "text/plain": [
       "<pandas.io.formats.style.Styler at 0x7fdf4077caf0>"
      ]
     },
     "metadata": {},
     "output_type": "display_data"
    },
    {
     "name": "stderr",
     "output_type": "stream",
     "text": [
      "/opt/miniconda3/envs/stellar/lib/python3.8/site-packages/xgboost/sklearn.py:1224: UserWarning: The use of label encoder in XGBClassifier is deprecated and will be removed in a future release. To remove this warning, do the following: 1) Pass option use_label_encoder=False when constructing XGBClassifier object; and 2) Encode your labels (y) as integers starting with 0, i.e. 0, 1, 2, ..., [num_class - 1].\n",
      "  warnings.warn(label_encoder_deprecation_msg, UserWarning)\n",
      "/opt/miniconda3/envs/stellar/lib/python3.8/site-packages/xgboost/sklearn.py:1224: UserWarning: The use of label encoder in XGBClassifier is deprecated and will be removed in a future release. To remove this warning, do the following: 1) Pass option use_label_encoder=False when constructing XGBClassifier object; and 2) Encode your labels (y) as integers starting with 0, i.e. 0, 1, 2, ..., [num_class - 1].\n",
      "  warnings.warn(label_encoder_deprecation_msg, UserWarning)\n",
      "/opt/miniconda3/envs/stellar/lib/python3.8/site-packages/xgboost/sklearn.py:1224: UserWarning: The use of label encoder in XGBClassifier is deprecated and will be removed in a future release. To remove this warning, do the following: 1) Pass option use_label_encoder=False when constructing XGBClassifier object; and 2) Encode your labels (y) as integers starting with 0, i.e. 0, 1, 2, ..., [num_class - 1].\n",
      "  warnings.warn(label_encoder_deprecation_msg, UserWarning)\n",
      "/opt/miniconda3/envs/stellar/lib/python3.8/site-packages/xgboost/sklearn.py:1224: UserWarning: The use of label encoder in XGBClassifier is deprecated and will be removed in a future release. To remove this warning, do the following: 1) Pass option use_label_encoder=False when constructing XGBClassifier object; and 2) Encode your labels (y) as integers starting with 0, i.e. 0, 1, 2, ..., [num_class - 1].\n",
      "  warnings.warn(label_encoder_deprecation_msg, UserWarning)\n",
      "/opt/miniconda3/envs/stellar/lib/python3.8/site-packages/xgboost/sklearn.py:1224: UserWarning: The use of label encoder in XGBClassifier is deprecated and will be removed in a future release. To remove this warning, do the following: 1) Pass option use_label_encoder=False when constructing XGBClassifier object; and 2) Encode your labels (y) as integers starting with 0, i.e. 0, 1, 2, ..., [num_class - 1].\n",
      "  warnings.warn(label_encoder_deprecation_msg, UserWarning)\n",
      "/opt/miniconda3/envs/stellar/lib/python3.8/site-packages/xgboost/sklearn.py:1224: UserWarning: The use of label encoder in XGBClassifier is deprecated and will be removed in a future release. To remove this warning, do the following: 1) Pass option use_label_encoder=False when constructing XGBClassifier object; and 2) Encode your labels (y) as integers starting with 0, i.e. 0, 1, 2, ..., [num_class - 1].\n",
      "  warnings.warn(label_encoder_deprecation_msg, UserWarning)\n",
      "/opt/miniconda3/envs/stellar/lib/python3.8/site-packages/xgboost/sklearn.py:1224: UserWarning: The use of label encoder in XGBClassifier is deprecated and will be removed in a future release. To remove this warning, do the following: 1) Pass option use_label_encoder=False when constructing XGBClassifier object; and 2) Encode your labels (y) as integers starting with 0, i.e. 0, 1, 2, ..., [num_class - 1].\n",
      "  warnings.warn(label_encoder_deprecation_msg, UserWarning)\n",
      "/opt/miniconda3/envs/stellar/lib/python3.8/site-packages/xgboost/sklearn.py:1224: UserWarning: The use of label encoder in XGBClassifier is deprecated and will be removed in a future release. To remove this warning, do the following: 1) Pass option use_label_encoder=False when constructing XGBClassifier object; and 2) Encode your labels (y) as integers starting with 0, i.e. 0, 1, 2, ..., [num_class - 1].\n",
      "  warnings.warn(label_encoder_deprecation_msg, UserWarning)\n",
      "/opt/miniconda3/envs/stellar/lib/python3.8/site-packages/xgboost/sklearn.py:1224: UserWarning: The use of label encoder in XGBClassifier is deprecated and will be removed in a future release. To remove this warning, do the following: 1) Pass option use_label_encoder=False when constructing XGBClassifier object; and 2) Encode your labels (y) as integers starting with 0, i.e. 0, 1, 2, ..., [num_class - 1].\n",
      "  warnings.warn(label_encoder_deprecation_msg, UserWarning)\n",
      "/opt/miniconda3/envs/stellar/lib/python3.8/site-packages/xgboost/sklearn.py:1224: UserWarning: The use of label encoder in XGBClassifier is deprecated and will be removed in a future release. To remove this warning, do the following: 1) Pass option use_label_encoder=False when constructing XGBClassifier object; and 2) Encode your labels (y) as integers starting with 0, i.e. 0, 1, 2, ..., [num_class - 1].\n",
      "  warnings.warn(label_encoder_deprecation_msg, UserWarning)\n"
     ]
    }
   ],
   "source": [
    "model_matrix = compare_models(\n",
    "    fold= 10,\n",
    "    include= [\"xgboost\"],\n",
    "    probability_threshold= 0.75\n",
    ")\n",
    "\n",
    "final_model = finalize_model(model_matrix)"
   ]
  },
  {
   "cell_type": "markdown",
   "id": "3aab9021-4462-423a-8e3c-fbe1f36c6110",
   "metadata": {},
   "source": [
    "### Let's load in our 2021 season data and get retention scores using the model:"
   ]
  },
  {
   "cell_type": "code",
   "execution_count": 33,
   "id": "c249a813-c882-4869-9490-6ab766a8c223",
   "metadata": {},
   "outputs": [
    {
     "data": {
      "text/plain": [
       "(2654, 11)"
      ]
     },
     "execution_count": 33,
     "metadata": {},
     "output_type": "execute_result"
    }
   ],
   "source": [
    "df_inference = df.loc[df[\"year\"] >= 2022]\n",
    "df_inference = df_inference.fillna(0)\n",
    "df_inference = df_inference[features]\n",
    "\n",
    "df_inference.shape"
   ]
  },
  {
   "cell_type": "code",
   "execution_count": 34,
   "id": "658464e2-ba98-4875-a7f2-c8f0ba581d89",
   "metadata": {},
   "outputs": [
    {
     "data": {
      "text/html": [
       "<div>\n",
       "<style scoped>\n",
       "    .dataframe tbody tr th:only-of-type {\n",
       "        vertical-align: middle;\n",
       "    }\n",
       "\n",
       "    .dataframe tbody tr th {\n",
       "        vertical-align: top;\n",
       "    }\n",
       "\n",
       "    .dataframe thead th {\n",
       "        text-align: right;\n",
       "    }\n",
       "</style>\n",
       "<table border=\"1\" class=\"dataframe\">\n",
       "  <thead>\n",
       "    <tr style=\"text-align: right;\">\n",
       "      <th></th>\n",
       "      <th>dimCustomerMasterId</th>\n",
       "      <th>attendancePercent</th>\n",
       "      <th>distToVenue</th>\n",
       "      <th>isNextYear_Buyer</th>\n",
       "      <th>lkupClientId</th>\n",
       "      <th>productGrouping</th>\n",
       "      <th>recency</th>\n",
       "      <th>recentDate</th>\n",
       "      <th>source_tenure</th>\n",
       "      <th>totalSpent</th>\n",
       "      <th>year</th>\n",
       "      <th>Label</th>\n",
       "      <th>Score_0</th>\n",
       "      <th>Score_1</th>\n",
       "    </tr>\n",
       "  </thead>\n",
       "  <tbody>\n",
       "    <tr>\n",
       "      <th>13499</th>\n",
       "      <td>379792931</td>\n",
       "      <td>0.500000</td>\n",
       "      <td>165.9718</td>\n",
       "      <td>0</td>\n",
       "      <td>13</td>\n",
       "      <td>Partial Plan</td>\n",
       "      <td>1</td>\n",
       "      <td>2022-02-27</td>\n",
       "      <td>29</td>\n",
       "      <td>28.0</td>\n",
       "      <td>2022</td>\n",
       "      <td>0</td>\n",
       "      <td>0.8986</td>\n",
       "      <td>0.1014</td>\n",
       "    </tr>\n",
       "    <tr>\n",
       "      <th>13500</th>\n",
       "      <td>379799351</td>\n",
       "      <td>0.642857</td>\n",
       "      <td>74.5200</td>\n",
       "      <td>0</td>\n",
       "      <td>13</td>\n",
       "      <td>Full Season</td>\n",
       "      <td>1</td>\n",
       "      <td>2022-04-30</td>\n",
       "      <td>624</td>\n",
       "      <td>14000.0</td>\n",
       "      <td>2022</td>\n",
       "      <td>0</td>\n",
       "      <td>0.6649</td>\n",
       "      <td>0.3351</td>\n",
       "    </tr>\n",
       "    <tr>\n",
       "      <th>13501</th>\n",
       "      <td>379800946</td>\n",
       "      <td>0.666667</td>\n",
       "      <td>165.9718</td>\n",
       "      <td>0</td>\n",
       "      <td>13</td>\n",
       "      <td>Full Season</td>\n",
       "      <td>1</td>\n",
       "      <td>2022-04-16</td>\n",
       "      <td>259</td>\n",
       "      <td>212.0</td>\n",
       "      <td>2022</td>\n",
       "      <td>0</td>\n",
       "      <td>0.9448</td>\n",
       "      <td>0.0552</td>\n",
       "    </tr>\n",
       "    <tr>\n",
       "      <th>13502</th>\n",
       "      <td>379806224</td>\n",
       "      <td>0.714286</td>\n",
       "      <td>273.7400</td>\n",
       "      <td>0</td>\n",
       "      <td>13</td>\n",
       "      <td>Full Season</td>\n",
       "      <td>1</td>\n",
       "      <td>2022-04-16</td>\n",
       "      <td>309</td>\n",
       "      <td>249.0</td>\n",
       "      <td>2022</td>\n",
       "      <td>0</td>\n",
       "      <td>0.7203</td>\n",
       "      <td>0.2797</td>\n",
       "    </tr>\n",
       "    <tr>\n",
       "      <th>13503</th>\n",
       "      <td>463639491</td>\n",
       "      <td>1.000000</td>\n",
       "      <td>15.9000</td>\n",
       "      <td>0</td>\n",
       "      <td>13</td>\n",
       "      <td>Partial Plan</td>\n",
       "      <td>0</td>\n",
       "      <td>2022-03-12</td>\n",
       "      <td>1299</td>\n",
       "      <td>14.0</td>\n",
       "      <td>2022</td>\n",
       "      <td>1</td>\n",
       "      <td>0.0082</td>\n",
       "      <td>0.9918</td>\n",
       "    </tr>\n",
       "  </tbody>\n",
       "</table>\n",
       "</div>"
      ],
      "text/plain": [
       "       dimCustomerMasterId  attendancePercent  distToVenue  isNextYear_Buyer  \\\n",
       "13499            379792931           0.500000     165.9718                 0   \n",
       "13500            379799351           0.642857      74.5200                 0   \n",
       "13501            379800946           0.666667     165.9718                 0   \n",
       "13502            379806224           0.714286     273.7400                 0   \n",
       "13503            463639491           1.000000      15.9000                 0   \n",
       "\n",
       "       lkupClientId productGrouping  recency  recentDate  source_tenure  \\\n",
       "13499            13    Partial Plan        1  2022-02-27             29   \n",
       "13500            13     Full Season        1  2022-04-30            624   \n",
       "13501            13     Full Season        1  2022-04-16            259   \n",
       "13502            13     Full Season        1  2022-04-16            309   \n",
       "13503            13    Partial Plan        0  2022-03-12           1299   \n",
       "\n",
       "       totalSpent  year  Label  Score_0  Score_1  \n",
       "13499        28.0  2022      0   0.8986   0.1014  \n",
       "13500     14000.0  2022      0   0.6649   0.3351  \n",
       "13501       212.0  2022      0   0.9448   0.0552  \n",
       "13502       249.0  2022      0   0.7203   0.2797  \n",
       "13503        14.0  2022      1   0.0082   0.9918  "
      ]
     },
     "execution_count": 34,
     "metadata": {},
     "output_type": "execute_result"
    }
   ],
   "source": [
    "df_predictions = (predict_model(final_model, data=df_inference, raw_score=True))\n",
    "df_predictions = df_predictions[df_predictions[\"Score_1\"] >= 0.025]\n",
    "\n",
    "df_predictions.head()"
   ]
  },
  {
   "cell_type": "markdown",
   "id": "12e0b1a1-f440-43f9-ab6a-374134eb4684",
   "metadata": {},
   "source": [
    "### We can create some histograms to visualize each model distribution:"
   ]
  },
  {
   "cell_type": "code",
   "execution_count": 35,
   "id": "d815f4f6-4f04-47b0-972b-a708ecf8a772",
   "metadata": {},
   "outputs": [
    {
     "data": {
      "image/png": "[encoded data removed]",
      "text/plain": [
       "<Figure size 576x396 with 1 Axes>"
      ]
     },
     "metadata": {},
     "output_type": "display_data"
    }
   ],
   "source": [
    "plt.title(\"Retention Scores\")\n",
    "plt.ylabel(\"Num Fans\")\n",
    "plt.xlabel(\"SA Buyer Score\")\n",
    "plt.hist(df_predictions[\"Score_1\"], bins=20, edgecolor=\"black\", range=(0,1))\n",
    "                            \n",
    "plt.show()"
   ]
  },
  {
   "cell_type": "markdown",
   "id": "c5d007b0-fe2b-401a-9445-383f1626a0df",
   "metadata": {},
   "source": [
    "### We can also see how many purchases there are in each range of scores:"
   ]
  },
  {
   "cell_type": "code",
   "execution_count": 36,
   "id": "6ee7faec-29ba-47b1-8eb2-3166d81a9b08",
   "metadata": {},
   "outputs": [
    {
     "data": {
      "text/plain": [
       "(0.95, 1.0]       224\n",
       "(0.9, 0.95]       384\n",
       "(0.85, 0.9]       331\n",
       "(0.8, 0.85]       228\n",
       "(0.75, 0.8]       170\n",
       "(0.7, 0.75]       151\n",
       "(0.65, 0.7]       159\n",
       "(0.6, 0.65]       115\n",
       "(0.55, 0.6]       103\n",
       "(0.5, 0.55]        84\n",
       "(0.45, 0.5]       105\n",
       "(0.4, 0.45]        85\n",
       "(0.35, 0.4]        81\n",
       "(0.3, 0.35]        70\n",
       "(0.25, 0.3]        63\n",
       "(0.2, 0.25]        56\n",
       "(0.15, 0.2]        60\n",
       "(0.1, 0.15]        63\n",
       "(0.05, 0.1]        57\n",
       "(-0.001, 0.05]     43\n",
       "Name: Score_1, dtype: int64"
      ]
     },
     "execution_count": 36,
     "metadata": {},
     "output_type": "execute_result"
    }
   ],
   "source": [
    "df_predictions[\"Score_1\"].value_counts(bins=np.arange(0, 1.05, 0.05)).sort_index(ascending=False)"
   ]
  },
  {
   "cell_type": "markdown",
   "id": "86107c38-fad6-46ef-82ca-59aee70e49b3",
   "metadata": {},
   "source": [
    "### Now we can create a session and client to RedShift, and create a new connection using AWS wrangler:"
   ]
  },
  {
   "cell_type": "code",
   "execution_count": 37,
   "id": "cf384e2d-a506-4df0-a61d-275ce0c5fcb9",
   "metadata": {},
   "outputs": [
    {
     "name": "stdout",
     "output_type": "stream",
     "text": [
      "CREDENTIALS RETRIEVED SUCCESSFULLY!\n"
     ]
    }
   ],
   "source": [
    "session = boto3.setup_default_session(profile_name='Stellaralgo-DataScienceAdmin')\n",
    "client = boto3.client('redshift')\n",
    "    \n",
    "conn = wr.data_api.redshift.connect(\n",
    "    cluster_id = CLUSTER,\n",
    "    database = DBNAME.lower(),\n",
    "    db_user = \"admin\"\n",
    ")\n",
    "\n",
    "print(\"CREDENTIALS RETRIEVED SUCCESSFULLY!\")"
   ]
  },
  {
   "cell_type": "markdown",
   "id": "73505aed-8784-4cbc-b60d-6a53aba6b00f",
   "metadata": {},
   "source": [
    "### Insert the new scores into the customerretentionscores table in batches:"
   ]
  },
  {
   "cell_type": "code",
   "execution_count": 38,
   "id": "0fb58a5d-1ae8-42f3-a425-b73ca0952115",
   "metadata": {},
   "outputs": [
    {
     "name": "stdout",
     "output_type": "stream",
     "text": [
      "INSERTING 2632 NEW RETENTION SCORES TO DATABASE: stlrMLS (13)\n",
      " > INSERTED BATCH 1 : ROWS 1 - 100\n",
      " > INSERTED BATCH 2 : ROWS 101 - 200\n",
      " > INSERTED BATCH 3 : ROWS 201 - 300\n",
      " > INSERTED BATCH 4 : ROWS 301 - 400\n",
      " > INSERTED BATCH 5 : ROWS 401 - 500\n",
      " > INSERTED BATCH 6 : ROWS 501 - 600\n",
      " > INSERTED BATCH 7 : ROWS 601 - 700\n",
      " > INSERTED BATCH 8 : ROWS 701 - 800\n",
      " > INSERTED BATCH 9 : ROWS 801 - 900\n",
      " > INSERTED BATCH 10 : ROWS 901 - 1000\n",
      " > INSERTED BATCH 11 : ROWS 1001 - 1100\n",
      " > INSERTED BATCH 12 : ROWS 1101 - 1200\n",
      " > INSERTED BATCH 13 : ROWS 1201 - 1300\n",
      " > INSERTED BATCH 14 : ROWS 1301 - 1400\n",
      " > INSERTED BATCH 15 : ROWS 1401 - 1500\n",
      " > INSERTED BATCH 16 : ROWS 1501 - 1600\n",
      " > INSERTED BATCH 17 : ROWS 1601 - 1700\n",
      " > INSERTED BATCH 18 : ROWS 1701 - 1800\n",
      " > INSERTED BATCH 19 : ROWS 1801 - 1900\n",
      " > INSERTED BATCH 20 : ROWS 1901 - 2000\n",
      " > INSERTED BATCH 21 : ROWS 2001 - 2100\n",
      " > INSERTED BATCH 22 : ROWS 2101 - 2200\n",
      " > INSERTED BATCH 23 : ROWS 2201 - 2300\n",
      " > INSERTED BATCH 24 : ROWS 2301 - 2400\n",
      " > INSERTED BATCH 25 : ROWS 2401 - 2500\n",
      " > INSERTED BATCH 26 : ROWS 2501 - 2600\n",
      " > INSERTED BATCH 27 : ROWS 2601 - 2632\n",
      "RETENTION SCORE INSERTS COMPLETED\n"
     ]
    }
   ],
   "source": [
    "batch_size = 100\n",
    "df_predictions_list = [\n",
    "    df_predictions[i:i + batch_size]\n",
    "    for i in range(0, df_predictions.shape[0], batch_size)\n",
    "]\n",
    "\n",
    "print(f\"INSERTING {len(df_predictions)} NEW RETENTION SCORES TO DATABASE: {DBNAME} ({LKUPCLIENTID})\")\n",
    "\n",
    "fields = f\"\"\"\n",
    "INSERT INTO {DBNAME}.dw.customerretentionscores (\n",
    "    attendancePercentage,\n",
    "    dimcustomermasterid,\n",
    "    scoredate,\n",
    "    lkupclientid,\n",
    "    mostrecentattendance,\n",
    "    product,\n",
    "    sascore,\n",
    "    seasonyear,\n",
    "    tenuredays\n",
    ") VALUES \"\"\"\n",
    "\n",
    "\n",
    "for i, df_prediction_batch in enumerate(df_predictions_list):\n",
    "\n",
    "    values_list = []\n",
    "    for index, row in (df_prediction_batch.iterrows()):\n",
    "        \n",
    "        values = f\"\"\"\n",
    "            (\n",
    "                {str(row.attendancePercent)},\n",
    "                {str(row.dimCustomerMasterId)},\n",
    "                '{str(datetime.now().strftime(\"%Y-%m-%d\"))}',\n",
    "                {str(row.lkupClientId)},\n",
    "                '{str(row.recentDate)}',\n",
    "                '{str(row.productGrouping)}',\n",
    "                {str(round((row.Score_1*100),4))},\n",
    "                {str(row.year)},\n",
    "                {str(row.source_tenure)}\n",
    "            )\"\"\"\n",
    "\n",
    "        values_list.append(values)\n",
    "\n",
    "    insert_statement = fields + \",\".join(values_list)+\";\"\n",
    "\n",
    "    wr.data_api.redshift.read_sql_query(\n",
    "        sql = insert_statement, \n",
    "        con = conn\n",
    "    )\n",
    "        \n",
    "    print(f\" > INSERTED BATCH {i+1} : ROWS {i*batch_size + 1} - {i*batch_size + len(values_list)}\")\n",
    "\n",
    "print(\"RETENTION SCORE INSERTS COMPLETED\")"
   ]
  },
  {
   "cell_type": "markdown",
   "id": "2e3383ab-7855-46fb-b563-ecd3367cbcb5",
   "metadata": {},
   "source": [
    "### Let's query RedShift to make sure our records got into the database:"
   ]
  },
  {
   "cell_type": "code",
   "execution_count": 39,
   "id": "20ac33c3-3f9e-4a09-91c8-08dfbfdcd09f",
   "metadata": {},
   "outputs": [
    {
     "name": "stdout",
     "output_type": "stream",
     "text": [
      "TOTAL RECORDS: 1\n"
     ]
    },
    {
     "data": {
      "text/html": [
       "<div>\n",
       "<style scoped>\n",
       "    .dataframe tbody tr th:only-of-type {\n",
       "        vertical-align: middle;\n",
       "    }\n",
       "\n",
       "    .dataframe tbody tr th {\n",
       "        vertical-align: top;\n",
       "    }\n",
       "\n",
       "    .dataframe thead th {\n",
       "        text-align: right;\n",
       "    }\n",
       "</style>\n",
       "<table border=\"1\" class=\"dataframe\">\n",
       "  <thead>\n",
       "    <tr style=\"text-align: right;\">\n",
       "      <th></th>\n",
       "      <th>count</th>\n",
       "      <th>lkupclientid</th>\n",
       "      <th>scoredate</th>\n",
       "    </tr>\n",
       "  </thead>\n",
       "  <tbody>\n",
       "    <tr>\n",
       "      <th>0</th>\n",
       "      <td>104545</td>\n",
       "      <td>13</td>\n",
       "      <td>2022-05-12</td>\n",
       "    </tr>\n",
       "  </tbody>\n",
       "</table>\n",
       "</div>"
      ],
      "text/plain": [
       "    count  lkupclientid   scoredate\n",
       "0  104545            13  2022-05-12"
      ]
     },
     "execution_count": 39,
     "metadata": {},
     "output_type": "execute_result"
    }
   ],
   "source": [
    "select_statement = f\"\"\"\n",
    "    SELECT count(*), lkupclientid, MAX(scoredate) as scoredate\n",
    "    FROM {DBNAME}.dw.customerretentionscores\n",
    "    WHERE lkupclientid = {LKUPCLIENTID}\n",
    "    GROUP BY lkupclientid\n",
    "    ORDER BY scoredate DESC\n",
    "\"\"\"\n",
    "\n",
    "df_scores = wr.data_api.redshift.read_sql_query(\n",
    "    sql = select_statement, \n",
    "    con = conn\n",
    ")\n",
    "\n",
    "print(f\"TOTAL RECORDS: {df_scores.shape[0]}\")\n",
    "df_scores"
   ]
  }
 ],
 "metadata": {
  "interpreter": {
   "hash": "89f48dadab51a6b5b48ffc1a9e043c21cefe67453637c3444f3b86917b8aad16"
  },
  "kernelspec": {
   "display_name": "Python 3.8.5 ('stellar')",
   "language": "python",
   "name": "python3"
  },
  "language_info": {
   "codemirror_mode": {
    "name": "ipython",
    "version": 3
   },
   "file_extension": ".py",
   "mimetype": "text/x-python",
   "name": "python",
   "nbconvert_exporter": "python",
   "pygments_lexer": "ipython3",
   "version": "3.8.5"
  }
 },
 "nbformat": 4,
 "nbformat_minor": 5
}
