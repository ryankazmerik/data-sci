{
 "cells": [
  {
   "cell_type": "markdown",
   "metadata": {},
   "source": [
    "# Fallback - Retention Model Rollover\n",
    "* StellarAlgo Data Science\n",
    "* Grant Donst\n",
    "* Oct 19, 2022"
   ]
  },
  {
   "cell_type": "code",
   "execution_count": 17,
   "metadata": {},
   "outputs": [],
   "source": [
    "import pandas as pd\n",
    "import matplotlib.pyplot as plt\n",
    "import seaborn as sns\n",
    "\n",
    "from pycaret.classification import *\n",
    "from shared_utilities import helpers"
   ]
  },
  {
   "cell_type": "code",
   "execution_count": 18,
   "metadata": {},
   "outputs": [],
   "source": [
    "CLUSTER = \"prod-app-elbu\"\n",
    "DATABASE = \"stlrcflredblacks\"\n",
    "LKUPCLIENTID = \"101\"\n",
    "TRAINING_YEAR = 2021\n",
    "SCORING_YEAR = 2022"
   ]
  },
  {
   "cell_type": "markdown",
   "metadata": {},
   "source": [
    "## Model Training"
   ]
  },
  {
   "cell_type": "code",
   "execution_count": 19,
   "metadata": {},
   "outputs": [
    {
     "name": "stdout",
     "output_type": "stream",
     "text": [
      "Authorized as AROASQ4JELIXYLYV6P4UV:rkazmerik@stellaralgo.com\n"
     ]
    },
    {
     "data": {
      "text/plain": [
       "(20049, 24)"
      ]
     },
     "execution_count": 19,
     "metadata": {},
     "output_type": "execute_result"
    }
   ],
   "source": [
    "df = helpers.get_retention_dataset(\n",
    "    cluster=CLUSTER,\n",
    "    database=DATABASE,\n",
    "    lkupclientid=LKUPCLIENTID,\n",
    "    start_year=2010,\n",
    "    end_year=SCORING_YEAR\n",
    ")\n",
    "\n",
    "df.shape"
   ]
  },
  {
   "cell_type": "code",
   "execution_count": 20,
   "metadata": {},
   "outputs": [
    {
     "name": "stdout",
     "output_type": "stream",
     "text": [
      "Data for Modeling: (12917, 16)\n",
      "Unseen Data For Predictions: (7132, 24)\n",
      "\n"
     ]
    }
   ],
   "source": [
    "# choose the features for the stellar base retention model\n",
    "features = [\n",
    "    \"recentdate\",\n",
    "\t\"clientcode\",\n",
    "\t\"dimcustomermasterid\",\n",
    "\t\"lkupclientid\",\n",
    "\t\"productgrouping\",\n",
    "\t\"year\",\n",
    "\t\"attendancepercent\",\n",
    "\t\"disttovenue\",\n",
    "    \"inperson_contact\",\n",
    "\t\"missed_games_1\",\n",
    "\t\"missed_games_2\",\n",
    "\t\"missed_games_over_2\",\n",
    "\t\"recency\",\n",
    "\t\"tenure\",\n",
    "\t\"totalspent\",\n",
    "\t\"isnextyear_buyer\"\n",
    "]\n",
    "\n",
    "# copy your main dataframe\n",
    "df_dataset = df\n",
    "\n",
    "# choose the features & train year & test year\n",
    "df_dataset = df_dataset[features]\n",
    "df_dataset[\"year\"] = pd.to_numeric(df_dataset[\"year\"])\n",
    "df_dataset = df_dataset.loc[df_dataset[\"year\"] <= TRAINING_YEAR]\n",
    "\n",
    "#Fail safes\n",
    "df = df.dropna(subset=[\"recentdate\"]).reset_index(drop=True)\n",
    "df['tenure'] = df['tenure'].fillna(0)\n",
    "\n",
    "df_train = df_dataset.sample(frac=0.85, random_state=786)\n",
    "df_train = df_train.reset_index(drop=True)\n",
    "\n",
    "df_eval = df.drop(df_train.index)\n",
    "df_eval = df_eval.reset_index(drop=True)\n",
    "\n",
    "# print out the number of records for training and eval\n",
    "print('Data for Modeling: ' + str(df_train.shape))\n",
    "print('Unseen Data For Predictions: ' + str(df_eval.shape), end=\"\\n\\n\")"
   ]
  },
  {
   "cell_type": "markdown",
   "metadata": {},
   "source": []
  },
  {
   "cell_type": "code",
   "execution_count": 21,
   "metadata": {},
   "outputs": [],
   "source": [
    "setup(\n",
    "    data= df_train, \n",
    "    target=\"isnextyear_buyer\", \n",
    "    train_size = 0.85,\n",
    "    data_split_shuffle=True,\n",
    "    date_features=[\n",
    "        \"recentdate\"\n",
    "    ],\n",
    "    ignore_features=[\n",
    "        \"clientcode\",\n",
    "\t\t\"dimcustomermasterid\",\n",
    "\t\t\"lkupclientid\",\n",
    "\t\t\"productgrouping\",\n",
    "\t\t\"year\"\n",
    "    ],\n",
    "    silent=True,\n",
    "    verbose=False,\n",
    "    numeric_features=[\n",
    "        \"attendancepercent\",\n",
    "\t\t\"disttovenue\",\n",
    "        \"inperson_contact\",\n",
    "\t\t\"missed_games_1\",\n",
    "\t\t\"missed_games_2\",\n",
    "\t\t\"missed_games_over_2\",\n",
    "\t\t\"recency\",\n",
    "\t\t\"tenure\",\n",
    "\t\t\"totalspent\"\n",
    "    ]\n",
    ");"
   ]
  },
  {
   "cell_type": "code",
   "execution_count": 22,
   "metadata": {},
   "outputs": [
    {
     "data": {
      "text/html": [
       "<style type=\"text/css\">\n",
       "#T_7b25c th {\n",
       "  text-align: left;\n",
       "}\n",
       "#T_7b25c_row0_col0 {\n",
       "  text-align: left;\n",
       "}\n",
       "#T_7b25c_row0_col1, #T_7b25c_row0_col2, #T_7b25c_row0_col3, #T_7b25c_row0_col4, #T_7b25c_row0_col5, #T_7b25c_row0_col6, #T_7b25c_row0_col7 {\n",
       "  text-align: left;\n",
       "  background-color: yellow;\n",
       "}\n",
       "#T_7b25c_row0_col8 {\n",
       "  text-align: left;\n",
       "  background-color: yellow;\n",
       "  background-color: lightgrey;\n",
       "}\n",
       "</style>\n",
       "<table id=\"T_7b25c\">\n",
       "  <thead>\n",
       "    <tr>\n",
       "      <th class=\"blank level0\" >&nbsp;</th>\n",
       "      <th id=\"T_7b25c_level0_col0\" class=\"col_heading level0 col0\" >Model</th>\n",
       "      <th id=\"T_7b25c_level0_col1\" class=\"col_heading level0 col1\" >Accuracy</th>\n",
       "      <th id=\"T_7b25c_level0_col2\" class=\"col_heading level0 col2\" >AUC</th>\n",
       "      <th id=\"T_7b25c_level0_col3\" class=\"col_heading level0 col3\" >Recall</th>\n",
       "      <th id=\"T_7b25c_level0_col4\" class=\"col_heading level0 col4\" >Prec.</th>\n",
       "      <th id=\"T_7b25c_level0_col5\" class=\"col_heading level0 col5\" >F1</th>\n",
       "      <th id=\"T_7b25c_level0_col6\" class=\"col_heading level0 col6\" >Kappa</th>\n",
       "      <th id=\"T_7b25c_level0_col7\" class=\"col_heading level0 col7\" >MCC</th>\n",
       "      <th id=\"T_7b25c_level0_col8\" class=\"col_heading level0 col8\" >TT (Sec)</th>\n",
       "    </tr>\n",
       "  </thead>\n",
       "  <tbody>\n",
       "    <tr>\n",
       "      <th id=\"T_7b25c_level0_row0\" class=\"row_heading level0 row0\" >xgboost</th>\n",
       "      <td id=\"T_7b25c_row0_col0\" class=\"data row0 col0\" >Extreme Gradient Boosting</td>\n",
       "      <td id=\"T_7b25c_row0_col1\" class=\"data row0 col1\" >0.7939</td>\n",
       "      <td id=\"T_7b25c_row0_col2\" class=\"data row0 col2\" >0.8785</td>\n",
       "      <td id=\"T_7b25c_row0_col3\" class=\"data row0 col3\" >0.7846</td>\n",
       "      <td id=\"T_7b25c_row0_col4\" class=\"data row0 col4\" >0.7318</td>\n",
       "      <td id=\"T_7b25c_row0_col5\" class=\"data row0 col5\" >0.7572</td>\n",
       "      <td id=\"T_7b25c_row0_col6\" class=\"data row0 col6\" >0.5785</td>\n",
       "      <td id=\"T_7b25c_row0_col7\" class=\"data row0 col7\" >0.5797</td>\n",
       "      <td id=\"T_7b25c_row0_col8\" class=\"data row0 col8\" >0.3810</td>\n",
       "    </tr>\n",
       "  </tbody>\n",
       "</table>\n"
      ],
      "text/plain": [
       "<pandas.io.formats.style.Styler at 0x7fb659f3b2e0>"
      ]
     },
     "metadata": {},
     "output_type": "display_data"
    }
   ],
   "source": [
    "model_matrix = compare_models(\n",
    "    fold=10,\n",
    "    include=[\"xgboost\"]\n",
    ")"
   ]
  },
  {
   "cell_type": "code",
   "execution_count": 23,
   "metadata": {},
   "outputs": [
    {
     "data": {
      "text/html": [
       "<style type=\"text/css\">\n",
       "#T_04672_row10_col0, #T_04672_row10_col1, #T_04672_row10_col2, #T_04672_row10_col3, #T_04672_row10_col4, #T_04672_row10_col5, #T_04672_row10_col6 {\n",
       "  background: yellow;\n",
       "}\n",
       "</style>\n",
       "<table id=\"T_04672\">\n",
       "  <thead>\n",
       "    <tr>\n",
       "      <th class=\"blank level0\" >&nbsp;</th>\n",
       "      <th id=\"T_04672_level0_col0\" class=\"col_heading level0 col0\" >Accuracy</th>\n",
       "      <th id=\"T_04672_level0_col1\" class=\"col_heading level0 col1\" >AUC</th>\n",
       "      <th id=\"T_04672_level0_col2\" class=\"col_heading level0 col2\" >Recall</th>\n",
       "      <th id=\"T_04672_level0_col3\" class=\"col_heading level0 col3\" >Prec.</th>\n",
       "      <th id=\"T_04672_level0_col4\" class=\"col_heading level0 col4\" >F1</th>\n",
       "      <th id=\"T_04672_level0_col5\" class=\"col_heading level0 col5\" >Kappa</th>\n",
       "      <th id=\"T_04672_level0_col6\" class=\"col_heading level0 col6\" >MCC</th>\n",
       "    </tr>\n",
       "    <tr>\n",
       "      <th class=\"index_name level0\" >Fold</th>\n",
       "      <th class=\"blank col0\" >&nbsp;</th>\n",
       "      <th class=\"blank col1\" >&nbsp;</th>\n",
       "      <th class=\"blank col2\" >&nbsp;</th>\n",
       "      <th class=\"blank col3\" >&nbsp;</th>\n",
       "      <th class=\"blank col4\" >&nbsp;</th>\n",
       "      <th class=\"blank col5\" >&nbsp;</th>\n",
       "      <th class=\"blank col6\" >&nbsp;</th>\n",
       "    </tr>\n",
       "  </thead>\n",
       "  <tbody>\n",
       "    <tr>\n",
       "      <th id=\"T_04672_level0_row0\" class=\"row_heading level0 row0\" >0</th>\n",
       "      <td id=\"T_04672_row0_col0\" class=\"data row0 col0\" >0.7905</td>\n",
       "      <td id=\"T_04672_row0_col1\" class=\"data row0 col1\" >0.8718</td>\n",
       "      <td id=\"T_04672_row0_col2\" class=\"data row0 col2\" >0.7572</td>\n",
       "      <td id=\"T_04672_row0_col3\" class=\"data row0 col3\" >0.7375</td>\n",
       "      <td id=\"T_04672_row0_col4\" class=\"data row0 col4\" >0.7473</td>\n",
       "      <td id=\"T_04672_row0_col5\" class=\"data row0 col5\" >0.5685</td>\n",
       "      <td id=\"T_04672_row0_col6\" class=\"data row0 col6\" >0.5686</td>\n",
       "    </tr>\n",
       "    <tr>\n",
       "      <th id=\"T_04672_level0_row1\" class=\"row_heading level0 row1\" >1</th>\n",
       "      <td id=\"T_04672_row1_col0\" class=\"data row1 col0\" >0.7878</td>\n",
       "      <td id=\"T_04672_row1_col1\" class=\"data row1 col1\" >0.8768</td>\n",
       "      <td id=\"T_04672_row1_col2\" class=\"data row1 col2\" >0.7867</td>\n",
       "      <td id=\"T_04672_row1_col3\" class=\"data row1 col3\" >0.7210</td>\n",
       "      <td id=\"T_04672_row1_col4\" class=\"data row1 col4\" >0.7524</td>\n",
       "      <td id=\"T_04672_row1_col5\" class=\"data row1 col5\" >0.5673</td>\n",
       "      <td id=\"T_04672_row1_col6\" class=\"data row1 col6\" >0.5690</td>\n",
       "    </tr>\n",
       "    <tr>\n",
       "      <th id=\"T_04672_level0_row2\" class=\"row_heading level0 row2\" >2</th>\n",
       "      <td id=\"T_04672_row2_col0\" class=\"data row2 col0\" >0.7796</td>\n",
       "      <td id=\"T_04672_row2_col1\" class=\"data row2 col1\" >0.8709</td>\n",
       "      <td id=\"T_04672_row2_col2\" class=\"data row2 col2\" >0.7667</td>\n",
       "      <td id=\"T_04672_row2_col3\" class=\"data row2 col3\" >0.7158</td>\n",
       "      <td id=\"T_04672_row2_col4\" class=\"data row2 col4\" >0.7403</td>\n",
       "      <td id=\"T_04672_row2_col5\" class=\"data row2 col5\" >0.5493</td>\n",
       "      <td id=\"T_04672_row2_col6\" class=\"data row2 col6\" >0.5503</td>\n",
       "    </tr>\n",
       "    <tr>\n",
       "      <th id=\"T_04672_level0_row3\" class=\"row_heading level0 row3\" >3</th>\n",
       "      <td id=\"T_04672_row3_col0\" class=\"data row3 col0\" >0.7878</td>\n",
       "      <td id=\"T_04672_row3_col1\" class=\"data row3 col1\" >0.8755</td>\n",
       "      <td id=\"T_04672_row3_col2\" class=\"data row3 col2\" >0.7844</td>\n",
       "      <td id=\"T_04672_row3_col3\" class=\"data row3 col3\" >0.7219</td>\n",
       "      <td id=\"T_04672_row3_col4\" class=\"data row3 col4\" >0.7519</td>\n",
       "      <td id=\"T_04672_row3_col5\" class=\"data row3 col5\" >0.5671</td>\n",
       "      <td id=\"T_04672_row3_col6\" class=\"data row3 col6\" >0.5686</td>\n",
       "    </tr>\n",
       "    <tr>\n",
       "      <th id=\"T_04672_level0_row4\" class=\"row_heading level0 row4\" >4</th>\n",
       "      <td id=\"T_04672_row4_col0\" class=\"data row4 col0\" >0.7933</td>\n",
       "      <td id=\"T_04672_row4_col1\" class=\"data row4 col1\" >0.8786</td>\n",
       "      <td id=\"T_04672_row4_col2\" class=\"data row4 col2\" >0.7844</td>\n",
       "      <td id=\"T_04672_row4_col3\" class=\"data row4 col3\" >0.7308</td>\n",
       "      <td id=\"T_04672_row4_col4\" class=\"data row4 col4\" >0.7567</td>\n",
       "      <td id=\"T_04672_row4_col5\" class=\"data row4 col5\" >0.5774</td>\n",
       "      <td id=\"T_04672_row4_col6\" class=\"data row4 col6\" >0.5785</td>\n",
       "    </tr>\n",
       "    <tr>\n",
       "      <th id=\"T_04672_level0_row5\" class=\"row_heading level0 row5\" >5</th>\n",
       "      <td id=\"T_04672_row5_col0\" class=\"data row5 col0\" >0.8087</td>\n",
       "      <td id=\"T_04672_row5_col1\" class=\"data row5 col1\" >0.8838</td>\n",
       "      <td id=\"T_04672_row5_col2\" class=\"data row5 col2\" >0.8178</td>\n",
       "      <td id=\"T_04672_row5_col3\" class=\"data row5 col3\" >0.7419</td>\n",
       "      <td id=\"T_04672_row5_col4\" class=\"data row5 col4\" >0.7780</td>\n",
       "      <td id=\"T_04672_row5_col5\" class=\"data row5 col5\" >0.6107</td>\n",
       "      <td id=\"T_04672_row5_col6\" class=\"data row5 col6\" >0.6129</td>\n",
       "    </tr>\n",
       "    <tr>\n",
       "      <th id=\"T_04672_level0_row6\" class=\"row_heading level0 row6\" >6</th>\n",
       "      <td id=\"T_04672_row6_col0\" class=\"data row6 col0\" >0.8160</td>\n",
       "      <td id=\"T_04672_row6_col1\" class=\"data row6 col1\" >0.8934</td>\n",
       "      <td id=\"T_04672_row6_col2\" class=\"data row6 col2\" >0.8022</td>\n",
       "      <td id=\"T_04672_row6_col3\" class=\"data row6 col3\" >0.7616</td>\n",
       "      <td id=\"T_04672_row6_col4\" class=\"data row6 col4\" >0.7814</td>\n",
       "      <td id=\"T_04672_row6_col5\" class=\"data row6 col5\" >0.6228</td>\n",
       "      <td id=\"T_04672_row6_col6\" class=\"data row6 col6\" >0.6234</td>\n",
       "    </tr>\n",
       "    <tr>\n",
       "      <th id=\"T_04672_level0_row7\" class=\"row_heading level0 row7\" >7</th>\n",
       "      <td id=\"T_04672_row7_col0\" class=\"data row7 col0\" >0.7923</td>\n",
       "      <td id=\"T_04672_row7_col1\" class=\"data row7 col1\" >0.8822</td>\n",
       "      <td id=\"T_04672_row7_col2\" class=\"data row7 col2\" >0.7689</td>\n",
       "      <td id=\"T_04672_row7_col3\" class=\"data row7 col3\" >0.7362</td>\n",
       "      <td id=\"T_04672_row7_col4\" class=\"data row7 col4\" >0.7522</td>\n",
       "      <td id=\"T_04672_row7_col5\" class=\"data row7 col5\" >0.5736</td>\n",
       "      <td id=\"T_04672_row7_col6\" class=\"data row7 col6\" >0.5740</td>\n",
       "    </tr>\n",
       "    <tr>\n",
       "      <th id=\"T_04672_level0_row8\" class=\"row_heading level0 row8\" >8</th>\n",
       "      <td id=\"T_04672_row8_col0\" class=\"data row8 col0\" >0.7914</td>\n",
       "      <td id=\"T_04672_row8_col1\" class=\"data row8 col1\" >0.8713</td>\n",
       "      <td id=\"T_04672_row8_col2\" class=\"data row8 col2\" >0.8044</td>\n",
       "      <td id=\"T_04672_row8_col3\" class=\"data row8 col3\" >0.7197</td>\n",
       "      <td id=\"T_04672_row8_col4\" class=\"data row8 col4\" >0.7597</td>\n",
       "      <td id=\"T_04672_row8_col5\" class=\"data row8 col5\" >0.5765</td>\n",
       "      <td id=\"T_04672_row8_col6\" class=\"data row8 col6\" >0.5793</td>\n",
       "    </tr>\n",
       "    <tr>\n",
       "      <th id=\"T_04672_level0_row9\" class=\"row_heading level0 row9\" >9</th>\n",
       "      <td id=\"T_04672_row9_col0\" class=\"data row9 col0\" >0.7912</td>\n",
       "      <td id=\"T_04672_row9_col1\" class=\"data row9 col1\" >0.8807</td>\n",
       "      <td id=\"T_04672_row9_col2\" class=\"data row9 col2\" >0.7728</td>\n",
       "      <td id=\"T_04672_row9_col3\" class=\"data row9 col3\" >0.7321</td>\n",
       "      <td id=\"T_04672_row9_col4\" class=\"data row9 col4\" >0.7519</td>\n",
       "      <td id=\"T_04672_row9_col5\" class=\"data row9 col5\" >0.5720</td>\n",
       "      <td id=\"T_04672_row9_col6\" class=\"data row9 col6\" >0.5726</td>\n",
       "    </tr>\n",
       "    <tr>\n",
       "      <th id=\"T_04672_level0_row10\" class=\"row_heading level0 row10\" >Mean</th>\n",
       "      <td id=\"T_04672_row10_col0\" class=\"data row10 col0\" >0.7939</td>\n",
       "      <td id=\"T_04672_row10_col1\" class=\"data row10 col1\" >0.8785</td>\n",
       "      <td id=\"T_04672_row10_col2\" class=\"data row10 col2\" >0.7846</td>\n",
       "      <td id=\"T_04672_row10_col3\" class=\"data row10 col3\" >0.7318</td>\n",
       "      <td id=\"T_04672_row10_col4\" class=\"data row10 col4\" >0.7572</td>\n",
       "      <td id=\"T_04672_row10_col5\" class=\"data row10 col5\" >0.5785</td>\n",
       "      <td id=\"T_04672_row10_col6\" class=\"data row10 col6\" >0.5797</td>\n",
       "    </tr>\n",
       "    <tr>\n",
       "      <th id=\"T_04672_level0_row11\" class=\"row_heading level0 row11\" >Std</th>\n",
       "      <td id=\"T_04672_row11_col0\" class=\"data row11 col0\" >0.0101</td>\n",
       "      <td id=\"T_04672_row11_col1\" class=\"data row11 col1\" >0.0066</td>\n",
       "      <td id=\"T_04672_row11_col2\" class=\"data row11 col2\" >0.0181</td>\n",
       "      <td id=\"T_04672_row11_col3\" class=\"data row11 col3\" >0.0129</td>\n",
       "      <td id=\"T_04672_row11_col4\" class=\"data row11 col4\" >0.0123</td>\n",
       "      <td id=\"T_04672_row11_col5\" class=\"data row11 col5\" >0.0207</td>\n",
       "      <td id=\"T_04672_row11_col6\" class=\"data row11 col6\" >0.0208</td>\n",
       "    </tr>\n",
       "  </tbody>\n",
       "</table>\n"
      ],
      "text/plain": [
       "<pandas.io.formats.style.Styler at 0x7fb6572aad30>"
      ]
     },
     "metadata": {},
     "output_type": "display_data"
    },
    {
     "name": "stderr",
     "output_type": "stream",
     "text": [
      "/opt/miniconda3/envs/stellar/lib/python3.8/site-packages/xgboost/sklearn.py:1224: UserWarning: The use of label encoder in XGBClassifier is deprecated and will be removed in a future release. To remove this warning, do the following: 1) Pass option use_label_encoder=False when constructing XGBClassifier object; and 2) Encode your labels (y) as integers starting with 0, i.e. 0, 1, 2, ..., [num_class - 1].\n",
      "  warnings.warn(label_encoder_deprecation_msg, UserWarning)\n",
      "/opt/miniconda3/envs/stellar/lib/python3.8/site-packages/xgboost/sklearn.py:1224: UserWarning: The use of label encoder in XGBClassifier is deprecated and will be removed in a future release. To remove this warning, do the following: 1) Pass option use_label_encoder=False when constructing XGBClassifier object; and 2) Encode your labels (y) as integers starting with 0, i.e. 0, 1, 2, ..., [num_class - 1].\n",
      "  warnings.warn(label_encoder_deprecation_msg, UserWarning)\n",
      "/opt/miniconda3/envs/stellar/lib/python3.8/site-packages/xgboost/sklearn.py:1224: UserWarning: The use of label encoder in XGBClassifier is deprecated and will be removed in a future release. To remove this warning, do the following: 1) Pass option use_label_encoder=False when constructing XGBClassifier object; and 2) Encode your labels (y) as integers starting with 0, i.e. 0, 1, 2, ..., [num_class - 1].\n",
      "  warnings.warn(label_encoder_deprecation_msg, UserWarning)\n",
      "/opt/miniconda3/envs/stellar/lib/python3.8/site-packages/xgboost/data.py:262: FutureWarning: pandas.Int64Index is deprecated and will be removed from pandas in a future version. Use pandas.Index with the appropriate dtype instead.\n",
      "  elif isinstance(data.columns, (pd.Int64Index, pd.RangeIndex)):\n",
      "/opt/miniconda3/envs/stellar/lib/python3.8/site-packages/xgboost/data.py:262: FutureWarning: pandas.Int64Index is deprecated and will be removed from pandas in a future version. Use pandas.Index with the appropriate dtype instead.\n",
      "  elif isinstance(data.columns, (pd.Int64Index, pd.RangeIndex)):\n",
      "/opt/miniconda3/envs/stellar/lib/python3.8/site-packages/xgboost/data.py:262: FutureWarning: pandas.Int64Index is deprecated and will be removed from pandas in a future version. Use pandas.Index with the appropriate dtype instead.\n",
      "  elif isinstance(data.columns, (pd.Int64Index, pd.RangeIndex)):\n",
      "/opt/miniconda3/envs/stellar/lib/python3.8/site-packages/xgboost/sklearn.py:1224: UserWarning: The use of label encoder in XGBClassifier is deprecated and will be removed in a future release. To remove this warning, do the following: 1) Pass option use_label_encoder=False when constructing XGBClassifier object; and 2) Encode your labels (y) as integers starting with 0, i.e. 0, 1, 2, ..., [num_class - 1].\n",
      "  warnings.warn(label_encoder_deprecation_msg, UserWarning)\n",
      "/opt/miniconda3/envs/stellar/lib/python3.8/site-packages/xgboost/data.py:262: FutureWarning: pandas.Int64Index is deprecated and will be removed from pandas in a future version. Use pandas.Index with the appropriate dtype instead.\n",
      "  elif isinstance(data.columns, (pd.Int64Index, pd.RangeIndex)):\n",
      "/opt/miniconda3/envs/stellar/lib/python3.8/site-packages/xgboost/sklearn.py:1224: UserWarning: The use of label encoder in XGBClassifier is deprecated and will be removed in a future release. To remove this warning, do the following: 1) Pass option use_label_encoder=False when constructing XGBClassifier object; and 2) Encode your labels (y) as integers starting with 0, i.e. 0, 1, 2, ..., [num_class - 1].\n",
      "  warnings.warn(label_encoder_deprecation_msg, UserWarning)\n",
      "/opt/miniconda3/envs/stellar/lib/python3.8/site-packages/xgboost/sklearn.py:1224: UserWarning: The use of label encoder in XGBClassifier is deprecated and will be removed in a future release. To remove this warning, do the following: 1) Pass option use_label_encoder=False when constructing XGBClassifier object; and 2) Encode your labels (y) as integers starting with 0, i.e. 0, 1, 2, ..., [num_class - 1].\n",
      "  warnings.warn(label_encoder_deprecation_msg, UserWarning)\n",
      "/opt/miniconda3/envs/stellar/lib/python3.8/site-packages/xgboost/sklearn.py:1224: UserWarning: The use of label encoder in XGBClassifier is deprecated and will be removed in a future release. To remove this warning, do the following: 1) Pass option use_label_encoder=False when constructing XGBClassifier object; and 2) Encode your labels (y) as integers starting with 0, i.e. 0, 1, 2, ..., [num_class - 1].\n",
      "  warnings.warn(label_encoder_deprecation_msg, UserWarning)\n",
      "/opt/miniconda3/envs/stellar/lib/python3.8/site-packages/xgboost/data.py:262: FutureWarning: pandas.Int64Index is deprecated and will be removed from pandas in a future version. Use pandas.Index with the appropriate dtype instead.\n",
      "  elif isinstance(data.columns, (pd.Int64Index, pd.RangeIndex)):\n",
      "/opt/miniconda3/envs/stellar/lib/python3.8/site-packages/xgboost/data.py:262: FutureWarning: pandas.Int64Index is deprecated and will be removed from pandas in a future version. Use pandas.Index with the appropriate dtype instead.\n",
      "  elif isinstance(data.columns, (pd.Int64Index, pd.RangeIndex)):\n",
      "/opt/miniconda3/envs/stellar/lib/python3.8/site-packages/xgboost/data.py:262: FutureWarning: pandas.Int64Index is deprecated and will be removed from pandas in a future version. Use pandas.Index with the appropriate dtype instead.\n",
      "  elif isinstance(data.columns, (pd.Int64Index, pd.RangeIndex)):\n",
      "/opt/miniconda3/envs/stellar/lib/python3.8/site-packages/xgboost/sklearn.py:1224: UserWarning: The use of label encoder in XGBClassifier is deprecated and will be removed in a future release. To remove this warning, do the following: 1) Pass option use_label_encoder=False when constructing XGBClassifier object; and 2) Encode your labels (y) as integers starting with 0, i.e. 0, 1, 2, ..., [num_class - 1].\n",
      "  warnings.warn(label_encoder_deprecation_msg, UserWarning)\n",
      "/opt/miniconda3/envs/stellar/lib/python3.8/site-packages/xgboost/sklearn.py:1224: UserWarning: The use of label encoder in XGBClassifier is deprecated and will be removed in a future release. To remove this warning, do the following: 1) Pass option use_label_encoder=False when constructing XGBClassifier object; and 2) Encode your labels (y) as integers starting with 0, i.e. 0, 1, 2, ..., [num_class - 1].\n",
      "  warnings.warn(label_encoder_deprecation_msg, UserWarning)\n",
      "/opt/miniconda3/envs/stellar/lib/python3.8/site-packages/xgboost/sklearn.py:1224: UserWarning: The use of label encoder in XGBClassifier is deprecated and will be removed in a future release. To remove this warning, do the following: 1) Pass option use_label_encoder=False when constructing XGBClassifier object; and 2) Encode your labels (y) as integers starting with 0, i.e. 0, 1, 2, ..., [num_class - 1].\n",
      "  warnings.warn(label_encoder_deprecation_msg, UserWarning)\n",
      "/opt/miniconda3/envs/stellar/lib/python3.8/site-packages/xgboost/data.py:262: FutureWarning: pandas.Int64Index is deprecated and will be removed from pandas in a future version. Use pandas.Index with the appropriate dtype instead.\n",
      "  elif isinstance(data.columns, (pd.Int64Index, pd.RangeIndex)):\n",
      "/opt/miniconda3/envs/stellar/lib/python3.8/site-packages/xgboost/data.py:262: FutureWarning: pandas.Int64Index is deprecated and will be removed from pandas in a future version. Use pandas.Index with the appropriate dtype instead.\n",
      "  elif isinstance(data.columns, (pd.Int64Index, pd.RangeIndex)):\n",
      "/opt/miniconda3/envs/stellar/lib/python3.8/site-packages/xgboost/data.py:262: FutureWarning: pandas.Int64Index is deprecated and will be removed from pandas in a future version. Use pandas.Index with the appropriate dtype instead.\n",
      "  elif isinstance(data.columns, (pd.Int64Index, pd.RangeIndex)):\n"
     ]
    }
   ],
   "source": [
    "best_model = create_model(model_matrix);\n",
    "final_model = finalize_model(best_model);"
   ]
  },
  {
   "cell_type": "code",
   "execution_count": 24,
   "metadata": {},
   "outputs": [
    {
     "data": {
      "image/png": "[encoded data removed]",
      "text/plain": [
       "<Figure size 800x500 with 1 Axes>"
      ]
     },
     "metadata": {},
     "output_type": "display_data"
    }
   ],
   "source": [
    "plot_model(final_model, plot='feature')"
   ]
  },
  {
   "cell_type": "markdown",
   "metadata": {},
   "source": [
    "## Model Inference\n",
    "\n",
    "### Let's load in our inference data and get retention scores using the model:"
   ]
  },
  {
   "cell_type": "code",
   "execution_count": 25,
   "metadata": {},
   "outputs": [
    {
     "data": {
      "text/plain": [
       "(4853, 15)"
      ]
     },
     "execution_count": 25,
     "metadata": {},
     "output_type": "execute_result"
    }
   ],
   "source": [
    "df_inference = df.loc[df[\"year\"] >= SCORING_YEAR]\n",
    "#df_inference = df_inference.fillna(0)\n",
    "\n",
    "# remove the target column from the inference df\n",
    "df_inference = df_inference[features]\n",
    "\n",
    "df_inference = df_inference.drop(columns=[\"isnextyear_buyer\"], axis=1)\n",
    "\n",
    "#df_inference = df_inference.reindex(sorted(df_inference.columns), axis=1)\n",
    "\n",
    "df_inference['tenure'] = df_inference['tenure'].fillna(0)\n",
    "\n",
    "df_inference.shape"
   ]
  },
  {
   "cell_type": "code",
   "execution_count": 26,
   "metadata": {},
   "outputs": [],
   "source": [
    "df_scores = predict_model(final_model, data=df_inference, raw_score=True)\n",
    "\n",
    "df_scores[\"score\"] = df_scores[\"Score_1\"].astype(\"float64\").fillna(0)*100"
   ]
  },
  {
   "cell_type": "code",
   "execution_count": 27,
   "metadata": {},
   "outputs": [
    {
     "data": {
      "text/plain": [
       "Text(0.5, 1.0, 'RETENTION SCORES:      PROD-APP-ELBU     STLRCFLREDBLACKS')"
      ]
     },
     "execution_count": 27,
     "metadata": {},
     "output_type": "execute_result"
    },
    {
     "data": {
      "image/png": "[encoded data removed]",
      "text/plain": [
       "<Figure size 800x550 with 1 Axes>"
      ]
     },
     "metadata": {},
     "output_type": "display_data"
    }
   ],
   "source": [
    "sns.histplot(data=df_scores, x='score', bins= 20, kde=True)    \n",
    "plt.title(f\"RETENTION SCORES:      {CLUSTER.upper()}     {DATABASE.upper()}\", fontsize = 12)"
   ]
  }
 ],
 "metadata": {
  "kernelspec": {
   "display_name": "Python 3.8.5 ('stellar')",
   "language": "python",
   "name": "python3"
  },
  "language_info": {
   "codemirror_mode": {
    "name": "ipython",
    "version": 3
   },
   "file_extension": ".py",
   "mimetype": "text/x-python",
   "name": "python",
   "nbconvert_exporter": "python",
   "pygments_lexer": "ipython3",
   "version": "3.8.5"
  },
  "orig_nbformat": 4,
  "vscode": {
   "interpreter": {
    "hash": "89f48dadab51a6b5b48ffc1a9e043c21cefe67453637c3444f3b86917b8aad16"
   }
  }
 },
 "nbformat": 4,
 "nbformat_minor": 2
}
