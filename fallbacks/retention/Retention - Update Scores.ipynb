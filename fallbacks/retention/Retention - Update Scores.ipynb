{
 "cells": [
  {
   "cell_type": "markdown",
   "id": "6ee08766-25fd-4da1-91b8-b0c3e74db588",
   "metadata": {},
   "source": [
    "# Retention Update Scores\n",
    "* StelllarAlgo Data Science\n",
    "* Ryan Kazmerik & Nakisa Rad\n",
    "* Mar 18, 2022"
   ]
  },
  {
   "cell_type": "code",
   "execution_count": 51,
   "id": "4c533efd-600e-4bce-8203-faffbddfa700",
   "metadata": {},
   "outputs": [],
   "source": [
    "import awswrangler as wr\n",
    "import boto3\n",
    "import getpass\n",
    "import pyodbc\n",
    "import pandas as pd\n",
    "import matplotlib.pyplot as plt\n",
    "\n",
    "from datetime import datetime\n",
    "from pytz import timezone\n",
    "from pycaret.classification import *"
   ]
  },
  {
   "cell_type": "markdown",
   "id": "b64ae7d5-84af-4915-bd13-1dd9d17098a3",
   "metadata": {},
   "source": [
    "### Let's connect to MSSQL and run a stored proc to get our dataset:"
   ]
  },
  {
   "cell_type": "code",
   "execution_count": 2,
   "id": "ae561eb4-f419-4d46-b5e0-12fac9b10db8",
   "metadata": {},
   "outputs": [
    {
     "name": "stdin",
     "output_type": "stream",
     "text": [
      "Enter your password ····················\n"
     ]
    }
   ],
   "source": [
    "# connect to SQL Server.\n",
    "SERVER = '52.44.171.130' \n",
    "DATABASE = 'datascience' \n",
    "USERNAME = 'dsAdminWrite' \n",
    "PASSWORD = getpass.getpass(prompt='Enter your password')\n",
    "CNXN = pyodbc.connect('DRIVER={ODBC Driver 17 for SQL Server};SERVER='+SERVER+';DATABASE='+DATABASE+';UID='+USERNAME+';PWD='+ PASSWORD)"
   ]
  },
  {
   "cell_type": "code",
   "execution_count": 3,
   "id": "af1afe7d-a35b-494b-88f3-980fb0e3da30",
   "metadata": {},
   "outputs": [
    {
     "data": {
      "text/plain": [
       "(32946, 54)"
      ]
     },
     "execution_count": 3,
     "metadata": {},
     "output_type": "execute_result"
    }
   ],
   "source": [
    "lkupclientid = 7\n",
    "dbname = \"stlrCanucks\"\n",
    "\n",
    "cursor = CNXN.cursor()\n",
    "\n",
    "storedProc = (\n",
    "    f\"\"\"Exec {dbname}.[ds].[getRetentionScoringModelData] {lkupclientid}\"\"\"\n",
    ")\n",
    "\n",
    "df = pd.read_sql(storedProc, CNXN)\n",
    "\n",
    "df[\"year\"] = pd.to_numeric(df[\"year\"])\n",
    "\n",
    "CNXN.commit()\n",
    "cursor.close()\n",
    "\n",
    "df.shape"
   ]
  },
  {
   "cell_type": "markdown",
   "id": "ab40da92-72a7-49c1-9829-ed3805a39719",
   "metadata": {},
   "source": [
    "### We should specify the features used in our model:"
   ]
  },
  {
   "cell_type": "code",
   "execution_count": 4,
   "id": "788f1273-8b7a-46bd-a099-1a471feeacc5",
   "metadata": {},
   "outputs": [
    {
     "name": "stdout",
     "output_type": "stream",
     "text": [
      "Data for Modeling: (23643, 11)\n",
      "Unseen Data For Predictions: (4172, 11)\n",
      "\n"
     ]
    }
   ],
   "source": [
    "# choose the features for the stellar base retention model\n",
    "features = [\n",
    "    \"dimCustomerMasterId\",\n",
    "    \"attendancePercent\",\n",
    "    \"distToVenue\",\n",
    "    \"isNextYear_Buyer\",\n",
    "    \"lkupClientId\",\n",
    "    \"productGrouping\",\n",
    "    \"recency\",\n",
    "    \"recentDate\",\n",
    "    \"source_tenure\",\n",
    "    \"totalSpent\",\n",
    "    \"year\"\n",
    "]\n",
    "\n",
    "# copy your main dataframe\n",
    "df_dataset = df\n",
    "\n",
    "# choose the features & train year & test year\n",
    "df_dataset = df_dataset[features]\n",
    "df_dataset[\"year\"] = pd.to_numeric(df_dataset[\"year\"])\n",
    "df_dataset = df_dataset.loc[df_dataset[\"year\"] <= 2019]\n",
    "\n",
    "df_train = df_dataset.sample(frac=0.85, random_state=786)\n",
    "df_eval = df_dataset.drop(df_train.index)\n",
    "\n",
    "df_train.reset_index(drop=True, inplace=True)\n",
    "df_eval.reset_index(drop=True, inplace=True)\n",
    "\n",
    "# print out the number of records for training and eval\n",
    "print('Data for Modeling: ' + str(df_train.shape))\n",
    "print('Unseen Data For Predictions: ' + str(df_eval.shape), end=\"\\n\\n\")"
   ]
  },
  {
   "cell_type": "markdown",
   "id": "4f2da06d-9015-49fd-89b3-956c2ebf66e9",
   "metadata": {},
   "source": [
    "### Now we can model the data using a binary classification prediction for the isnextyear_buyer field to see how likely a customer is to re-purchase."
   ]
  },
  {
   "cell_type": "code",
   "execution_count": 5,
   "id": "23a69cdc-b3ec-48c8-9ce5-29f617779389",
   "metadata": {},
   "outputs": [],
   "source": [
    "setup(\n",
    "    data= df_train, \n",
    "    target=\"isNextYear_Buyer\", \n",
    "    train_size = 0.85,\n",
    "    data_split_shuffle=True,\n",
    "    ignore_features=[\n",
    "        \"dimCustomerMasterId\",\n",
    "        \"lkupClientId\",\n",
    "        \"productGrouping\",\n",
    "        \"recentDate\",\n",
    "        \"year\"\n",
    "    ],\n",
    "    silent=True,\n",
    "    verbose=False,\n",
    "    numeric_features=[\n",
    "        \"attendancePercent\",\n",
    "        \"distToVenue\",\n",
    "        \"recency\",\n",
    "        \"source_tenure\",\n",
    "        \"totalSpent\"\n",
    "    ]\n",
    ");"
   ]
  },
  {
   "cell_type": "markdown",
   "id": "6e1e33e8-ed5f-4e84-abb2-a2fc8370905c",
   "metadata": {},
   "source": [
    "### The evaluation output prints a score grid that shows average Accuracy, AUC, Recall, Precision, F1 and Kappa accross the folds (10 by default) along with training time:"
   ]
  },
  {
   "cell_type": "code",
   "execution_count": 20,
   "id": "ef2db9d2-02c2-45c0-b6bb-5cad42c373ce",
   "metadata": {},
   "outputs": [
    {
     "data": {
      "text/html": [
       "<style  type=\"text/css\" >\n",
       "    #T_39467_ th {\n",
       "          text-align: left;\n",
       "    }#T_39467_row0_col0{\n",
       "            text-align:  left;\n",
       "            text-align:  left;\n",
       "        }#T_39467_row0_col1,#T_39467_row0_col2,#T_39467_row0_col3,#T_39467_row0_col4,#T_39467_row0_col5,#T_39467_row0_col6,#T_39467_row0_col7{\n",
       "            text-align:  left;\n",
       "            text-align:  left;\n",
       "            background-color:  yellow;\n",
       "        }#T_39467_row0_col8{\n",
       "            text-align:  left;\n",
       "            text-align:  left;\n",
       "            background-color:  yellow;\n",
       "            background-color:  lightgrey;\n",
       "        }</style><table id=\"T_39467_\" ><thead>    <tr>        <th class=\"blank level0\" ></th>        <th class=\"col_heading level0 col0\" >Model</th>        <th class=\"col_heading level0 col1\" >Accuracy</th>        <th class=\"col_heading level0 col2\" >AUC</th>        <th class=\"col_heading level0 col3\" >Recall</th>        <th class=\"col_heading level0 col4\" >Prec.</th>        <th class=\"col_heading level0 col5\" >F1</th>        <th class=\"col_heading level0 col6\" >Kappa</th>        <th class=\"col_heading level0 col7\" >MCC</th>        <th class=\"col_heading level0 col8\" >TT (Sec)</th>    </tr></thead><tbody>\n",
       "                <tr>\n",
       "                        <th id=\"T_39467_level0_row0\" class=\"row_heading level0 row0\" >xgboost</th>\n",
       "                        <td id=\"T_39467_row0_col0\" class=\"data row0 col0\" >Extreme Gradient Boosting</td>\n",
       "                        <td id=\"T_39467_row0_col1\" class=\"data row0 col1\" >0.7177</td>\n",
       "                        <td id=\"T_39467_row0_col2\" class=\"data row0 col2\" >0.8613</td>\n",
       "                        <td id=\"T_39467_row0_col3\" class=\"data row0 col3\" >0.5260</td>\n",
       "                        <td id=\"T_39467_row0_col4\" class=\"data row0 col4\" >0.8816</td>\n",
       "                        <td id=\"T_39467_row0_col5\" class=\"data row0 col5\" >0.6588</td>\n",
       "                        <td id=\"T_39467_row0_col6\" class=\"data row0 col6\" >0.4432</td>\n",
       "                        <td id=\"T_39467_row0_col7\" class=\"data row0 col7\" >0.4865</td>\n",
       "                        <td id=\"T_39467_row0_col8\" class=\"data row0 col8\" >0.3290</td>\n",
       "            </tr>\n",
       "    </tbody></table>"
      ],
      "text/plain": [
       "<pandas.io.formats.style.Styler at 0x7f834eaf5b10>"
      ]
     },
     "metadata": {},
     "output_type": "display_data"
    }
   ],
   "source": [
    "model_matrix = compare_models(\n",
    "    fold= 10,\n",
    "    include= [\"xgboost\"],\n",
    "    probability_threshold= 0.75\n",
    ")\n",
    "\n",
    "final_model = finalize_model(model_matrix)"
   ]
  },
  {
   "cell_type": "markdown",
   "id": "3aab9021-4462-423a-8e3c-fbe1f36c6110",
   "metadata": {},
   "source": [
    "### Let's load in our 2021 season data and get retention scores using the model:"
   ]
  },
  {
   "cell_type": "code",
   "execution_count": 21,
   "id": "c249a813-c882-4869-9490-6ab766a8c223",
   "metadata": {},
   "outputs": [
    {
     "data": {
      "text/plain": [
       "(5131, 11)"
      ]
     },
     "execution_count": 21,
     "metadata": {},
     "output_type": "execute_result"
    }
   ],
   "source": [
    "df_inference = df.loc[df[\"year\"] >= 2021]\n",
    "df_inference = df_inference.fillna(0)\n",
    "df_inference = df_inference[features]\n",
    "\n",
    "df_inference.shape"
   ]
  },
  {
   "cell_type": "markdown",
   "id": "8cf107f8-40a0-404d-9213-5569e525c3a7",
   "metadata": {},
   "source": [
    "### Let's run the new season data through our model to get retention score predictions:"
   ]
  },
  {
   "cell_type": "code",
   "execution_count": 9,
   "id": "658464e2-ba98-4875-a7f2-c8f0ba581d89",
   "metadata": {},
   "outputs": [],
   "source": [
    "df_predictions = (predict_model(final_model, data=df_inference, raw_score=True))\n",
    "df_predictions = df_predictions[df_predictions[\"Score_1\"] >= 0.025]"
   ]
  },
  {
   "cell_type": "markdown",
   "id": "12e0b1a1-f440-43f9-ab6a-374134eb4684",
   "metadata": {},
   "source": [
    "### We can create some histograms to visualize each model distribution:"
   ]
  },
  {
   "cell_type": "code",
   "execution_count": 44,
   "id": "d815f4f6-4f04-47b0-972b-a708ecf8a772",
   "metadata": {},
   "outputs": [
    {
     "data": {
      "image/png": "[encoded data removed]",
      "text/plain": [
       "<Figure size 1440x720 with 1 Axes>"
      ]
     },
     "metadata": {},
     "output_type": "display_data"
    }
   ],
   "source": [
    "plt.title(\"Retention Scores\")\n",
    "plt.ylabel(\"Num Fans\")\n",
    "plt.xlabel(\"SA Buyer Score\")\n",
    "plt.hist(df_predictions[\"Score_1\"], bins=20, edgecolor=\"black\", range=(0,1))\n",
    "plt.rcParams[\"figure.figsize\"] = (20,10)\n",
    "                            \n",
    "plt.show()"
   ]
  },
  {
   "cell_type": "markdown",
   "id": "c5d007b0-fe2b-401a-9445-383f1626a0df",
   "metadata": {},
   "source": [
    "### We can also see how many purchases there are in each range of scores:"
   ]
  },
  {
   "cell_type": "code",
   "execution_count": 60,
   "id": "6ee7faec-29ba-47b1-8eb2-3166d81a9b08",
   "metadata": {},
   "outputs": [
    {
     "data": {
      "text/plain": [
       "(0.95, 1.0]        18\n",
       "(0.9, 0.95]        82\n",
       "(0.85, 0.9]       222\n",
       "(0.8, 0.85]       241\n",
       "(0.75, 0.8]       236\n",
       "(0.7, 0.75]       237\n",
       "(0.65, 0.7]       186\n",
       "(0.6, 0.65]       251\n",
       "(0.55, 0.6]       281\n",
       "(0.5, 0.55]       357\n",
       "(0.45, 0.5]       375\n",
       "(0.4, 0.45]       330\n",
       "(0.35, 0.4]       307\n",
       "(0.3, 0.35]       316\n",
       "(0.25, 0.3]       254\n",
       "(0.2, 0.25]       259\n",
       "(0.15, 0.2]       198\n",
       "(0.1, 0.15]       180\n",
       "(0.05, 0.1]       120\n",
       "(-0.001, 0.05]     61\n",
       "Name: Score_1, dtype: int64"
      ]
     },
     "execution_count": 60,
     "metadata": {},
     "output_type": "execute_result"
    }
   ],
   "source": [
    "df_predictions[\"Score_1\"].value_counts(bins=np.arange(0, 1.05, 0.05)).sort_index(ascending=False)"
   ]
  },
  {
   "cell_type": "markdown",
   "id": "6d6c614f-288b-4a88-97dc-7ffc1d1c7ec9",
   "metadata": {},
   "source": [
    "### First we have to tell AWS which profile we'd like to login to, this will send us for a browser authentication trip:"
   ]
  },
  {
   "cell_type": "code",
   "execution_count": 61,
   "id": "79dd57e8-d578-4755-89fb-446362735a05",
   "metadata": {},
   "outputs": [
    {
     "name": "stdout",
     "output_type": "stream",
     "text": [
      "Attempting to automatically open the SSO authorization page in your default browser.\n",
      "If the browser does not open or you wish to use a different device to authorize this request, open the following URL:\n",
      "\n",
      "https://device.sso.us-east-1.amazonaws.com/\n",
      "\n",
      "Then enter the code:\n",
      "\n",
      "SSVQ-BWBT\n",
      "Successully logged into Start URL: https://stellaralgo.awsapps.com/start\n"
     ]
    }
   ],
   "source": [
    "! aws sso login --profile Stellaralgo-DataScienceAdmin"
   ]
  },
  {
   "cell_type": "markdown",
   "id": "5cbe53ba-420d-4fbc-bcd2-727bb464ce2b",
   "metadata": {},
   "source": [
    "### Now we can create a session and client to RedShift, and create a new connection using AWS wrangler:"
   ]
  },
  {
   "cell_type": "code",
   "execution_count": 80,
   "id": "cf384e2d-a506-4df0-a61d-275ce0c5fcb9",
   "metadata": {},
   "outputs": [
    {
     "name": "stdout",
     "output_type": "stream",
     "text": [
      "CREDENTIALS RETRIEVED SUCCESSFULLY\n"
     ]
    }
   ],
   "source": [
    "session = boto3.setup_default_session(profile_name='Stellaralgo-DataScienceAdmin')\n",
    "client = boto3.client('redshift')\n",
    "    \n",
    "conn = wr.data_api.redshift.connect(\n",
    "    cluster_id = \"qa-app\",\n",
    "    database = {dbname},\n",
    "    db_user = \"admin\"\n",
    ")\n",
    "\n",
    "print(\"CREDENTIALS RETRIEVED SUCCESSFULLY\")"
   ]
  },
  {
   "cell_type": "markdown",
   "id": "73505aed-8784-4cbc-b60d-6a53aba6b00f",
   "metadata": {},
   "source": [
    "### Insert the new scores into the RedShift customerretentionscores table:"
   ]
  },
  {
   "cell_type": "code",
   "execution_count": 79,
   "id": "0fb58a5d-1ae8-42f3-a425-b73ca0952115",
   "metadata": {},
   "outputs": [
    {
     "name": "stdout",
     "output_type": "stream",
     "text": [
      "INSERTING NEW RETENTION SCORES TO DB\n",
      " > ROWS: 1-250 | 0.0% COMPLETED\n",
      " > ROWS: 251-500 | 6.0% COMPLETED\n",
      " > ROWS: 501-750 | 11.0% COMPLETED\n",
      " > ROWS: 751-1000 | 17.0% COMPLETED\n",
      " > ROWS: 1001-1250 | 22.0% COMPLETED\n",
      " > ROWS: 1251-1500 | 28.0% COMPLETED\n",
      " > ROWS: 1501-1750 | 33.0% COMPLETED\n",
      " > ROWS: 1751-2000 | 39.0% COMPLETED\n",
      " > ROWS: 2001-2250 | 44.0% COMPLETED\n",
      " > ROWS: 2251-2500 | 50.0% COMPLETED\n",
      " > ROWS: 2501-2750 | 55.0% COMPLETED\n",
      " > ROWS: 2751-3000 | 61.0% COMPLETED\n",
      " > ROWS: 3001-3250 | 67.0% COMPLETED\n",
      " > ROWS: 3251-3500 | 72.0% COMPLETED\n",
      " > ROWS: 3501-3750 | 78.0% COMPLETED\n",
      " > ROWS: 3751-4000 | 83.0% COMPLETED\n",
      " > ROWS: 4001-4250 | 89.0% COMPLETED\n",
      " > ROWS: 4251-4500 | 94.0% COMPLETED\n",
      " > ROWS: 4501-4750 | 100.0% COMPLETED\n",
      "RETENTION SCORE INSERTS COMPLETED\n"
     ]
    }
   ],
   "source": [
    "print(\"INSERTING NEW RETENTION SCORES TO DB\")\n",
    "\n",
    "fields = f\"\"\"\n",
    "INSERT INTO {dbname}.dw.customerretentionscores (\n",
    "    attendancePercentage,\n",
    "    currversnflag,\n",
    "    dimcustomermasterid,\n",
    "    insertdate,\n",
    "    lkupclientid,\n",
    "    mostrecentattendance,\n",
    "    product,\n",
    "    sascore,\n",
    "    seasonYear,\n",
    "    tenuredays\n",
    ") VALUES \"\"\"\n",
    "\n",
    "values_list = []\n",
    "for i, (index, row) in enumerate(df_predictions.iterrows()):\n",
    "\n",
    "    values = f\"\"\"\n",
    "        (\n",
    "            {str(row.attendancePercent)},\n",
    "            {str(0)},\n",
    "            {str(row.dimCustomerMasterId)},\n",
    "            '{str(datetime.now().strftime(\"%Y-%m-%d %H:%M:%S\"))}',\n",
    "            {str(lkupclientid)},\n",
    "            '{str(row.recentDate)}',\n",
    "            '{str(row.productGrouping)}',\n",
    "            {str(round(row.Score_1,4))},\n",
    "            {str(row.year)},\n",
    "            {str(row.source_tenure)}\n",
    "        )\"\"\"\n",
    "\n",
    "    values_list.append(values)\n",
    "\n",
    "    batch_size = 250\n",
    "    if(i%batch_size == 0):\n",
    "        insert_statement = fields + \",\".join(values_list)+\";\"\n",
    "\n",
    "        wr.data_api.redshift.read_sql_query(\n",
    "            sql = insert_statement, \n",
    "            con = conn\n",
    "        )\n",
    "        \n",
    "        values_list = []       \n",
    "        print(f\" > ROWS: {i+1}-{i+batch_size} | {round(100*(i+1)/len(df_predictions),0)}% COMPLETED\")\n",
    "\n",
    "print(\"RETENTION SCORE INSERTS COMPLETED\")"
   ]
  },
  {
   "cell_type": "markdown",
   "id": "2e3383ab-7855-46fb-b563-ecd3367cbcb5",
   "metadata": {},
   "source": [
    "### Let's query RedShift to make sure our records got into the database:"
   ]
  },
  {
   "cell_type": "code",
   "execution_count": 77,
   "id": "20ac33c3-3f9e-4a09-91c8-08dfbfdcd09f",
   "metadata": {},
   "outputs": [
    {
     "name": "stdout",
     "output_type": "stream",
     "text": [
      "TOTAL RECORDS: 4501\n"
     ]
    },
    {
     "data": {
      "text/html": [
       "<div>\n",
       "<style scoped>\n",
       "    .dataframe tbody tr th:only-of-type {\n",
       "        vertical-align: middle;\n",
       "    }\n",
       "\n",
       "    .dataframe tbody tr th {\n",
       "        vertical-align: top;\n",
       "    }\n",
       "\n",
       "    .dataframe thead th {\n",
       "        text-align: right;\n",
       "    }\n",
       "</style>\n",
       "<table border=\"1\" class=\"dataframe\">\n",
       "  <thead>\n",
       "    <tr style=\"text-align: right;\">\n",
       "      <th></th>\n",
       "      <th>customerretentionscoreid</th>\n",
       "      <th>dimcustomermasterid</th>\n",
       "      <th>lkupclientid</th>\n",
       "      <th>currversnflag</th>\n",
       "      <th>seasonyear</th>\n",
       "      <th>insertdate</th>\n",
       "      <th>sascore</th>\n",
       "      <th>mostrecentattendance</th>\n",
       "      <th>attendancepercentage</th>\n",
       "      <th>tenuredays</th>\n",
       "      <th>product</th>\n",
       "    </tr>\n",
       "  </thead>\n",
       "  <tbody>\n",
       "    <tr>\n",
       "      <th>0</th>\n",
       "      <td>100488</td>\n",
       "      <td>134957</td>\n",
       "      <td>7</td>\n",
       "      <td>false</td>\n",
       "      <td>2021</td>\n",
       "      <td>2022-03-18 10:16:01</td>\n",
       "      <td>0.8373</td>\n",
       "      <td>2022-03-13 00:00:00</td>\n",
       "      <td>0.875000</td>\n",
       "      <td>11680</td>\n",
       "      <td>Full Season</td>\n",
       "    </tr>\n",
       "    <tr>\n",
       "      <th>1</th>\n",
       "      <td>100492</td>\n",
       "      <td>135658</td>\n",
       "      <td>7</td>\n",
       "      <td>false</td>\n",
       "      <td>2021</td>\n",
       "      <td>2022-03-18 10:16:01</td>\n",
       "      <td>0.5022</td>\n",
       "      <td>2022-03-09 00:00:00</td>\n",
       "      <td>1.000000</td>\n",
       "      <td>1460</td>\n",
       "      <td>Quarter</td>\n",
       "    </tr>\n",
       "    <tr>\n",
       "      <th>2</th>\n",
       "      <td>100496</td>\n",
       "      <td>136431</td>\n",
       "      <td>7</td>\n",
       "      <td>false</td>\n",
       "      <td>2021</td>\n",
       "      <td>2022-03-18 10:16:01</td>\n",
       "      <td>0.4559</td>\n",
       "      <td>2022-03-15 00:00:00</td>\n",
       "      <td>0.937500</td>\n",
       "      <td>12410</td>\n",
       "      <td>Full Season</td>\n",
       "    </tr>\n",
       "    <tr>\n",
       "      <th>3</th>\n",
       "      <td>100500</td>\n",
       "      <td>136607</td>\n",
       "      <td>7</td>\n",
       "      <td>false</td>\n",
       "      <td>2021</td>\n",
       "      <td>2022-03-18 10:16:01</td>\n",
       "      <td>0.3740</td>\n",
       "      <td>2022-03-13 00:00:00</td>\n",
       "      <td>0.750000</td>\n",
       "      <td>6935</td>\n",
       "      <td>Full Season</td>\n",
       "    </tr>\n",
       "    <tr>\n",
       "      <th>4</th>\n",
       "      <td>100504</td>\n",
       "      <td>136761</td>\n",
       "      <td>7</td>\n",
       "      <td>false</td>\n",
       "      <td>2021</td>\n",
       "      <td>2022-03-18 10:16:01</td>\n",
       "      <td>0.5421</td>\n",
       "      <td>2022-03-15 00:00:00</td>\n",
       "      <td>0.791667</td>\n",
       "      <td>6205</td>\n",
       "      <td>Full Season</td>\n",
       "    </tr>\n",
       "  </tbody>\n",
       "</table>\n",
       "</div>"
      ],
      "text/plain": [
       "   customerretentionscoreid dimcustomermasterid  lkupclientid currversnflag  \\\n",
       "0                    100488              134957             7         false   \n",
       "1                    100492              135658             7         false   \n",
       "2                    100496              136431             7         false   \n",
       "3                    100500              136607             7         false   \n",
       "4                    100504              136761             7         false   \n",
       "\n",
       "  seasonyear           insertdate  sascore mostrecentattendance  \\\n",
       "0       2021  2022-03-18 10:16:01   0.8373  2022-03-13 00:00:00   \n",
       "1       2021  2022-03-18 10:16:01   0.5022  2022-03-09 00:00:00   \n",
       "2       2021  2022-03-18 10:16:01   0.4559  2022-03-15 00:00:00   \n",
       "3       2021  2022-03-18 10:16:01   0.3740  2022-03-13 00:00:00   \n",
       "4       2021  2022-03-18 10:16:01   0.5421  2022-03-15 00:00:00   \n",
       "\n",
       "   attendancepercentage  tenuredays      product  \n",
       "0              0.875000       11680  Full Season  \n",
       "1              1.000000        1460      Quarter  \n",
       "2              0.937500       12410  Full Season  \n",
       "3              0.750000        6935  Full Season  \n",
       "4              0.791667        6205  Full Season  "
      ]
     },
     "execution_count": 77,
     "metadata": {},
     "output_type": "execute_result"
    }
   ],
   "source": [
    "select_statement = f\"\"\"\n",
    "    SELECT *\n",
    "    FROM {dbname}.dw.customerretentionscores\n",
    "\"\"\"\n",
    "\n",
    "df_scores = wr.data_api.redshift.read_sql_query(\n",
    "    sql = select_statement, \n",
    "    con = conn\n",
    ")\n",
    "\n",
    "print(f\"TOTAL RECORDS: {df_scores.shape[0]}\")\n",
    "df_scores.head()"
   ]
  },
  {
   "cell_type": "markdown",
   "id": "781f97cf-be36-4d64-a0e8-2b39cedec439",
   "metadata": {},
   "source": [
    "### We can also use the API to delete records from the database:"
   ]
  },
  {
   "cell_type": "code",
   "execution_count": 78,
   "id": "671fcea7-d713-49b1-b335-7d833860106a",
   "metadata": {},
   "outputs": [
    {
     "name": "stdout",
     "output_type": "stream",
     "text": [
      "<class 'pandas.core.frame.DataFrame'>\n",
      "Index: 0 entries\n",
      "Empty DataFrame"
     ]
    }
   ],
   "source": [
    "delete_statement = f\"\"\"\n",
    "    DELETE \n",
    "    FROM {dbname}.dw.customerretentionscores\n",
    "    WHERE lkupclientid = {lkupclientid}\n",
    "\"\"\"\n",
    "\n",
    "df_table = wr.data_api.redshift.read_sql_query(\n",
    "    sql = delete_statement, \n",
    "    con = conn\n",
    ")\n",
    "\n",
    "df_table.info()"
   ]
  }
 ],
 "metadata": {
  "kernelspec": {
   "display_name": "Python 3 (ipykernel)",
   "language": "python",
   "name": "python3"
  },
  "language_info": {
   "codemirror_mode": {
    "name": "ipython",
    "version": 3
   },
   "file_extension": ".py",
   "mimetype": "text/x-python",
   "name": "python",
   "nbconvert_exporter": "python",
   "pygments_lexer": "ipython3",
   "version": "3.7.10"
  }
 },
 "nbformat": 4,
 "nbformat_minor": 5
}
