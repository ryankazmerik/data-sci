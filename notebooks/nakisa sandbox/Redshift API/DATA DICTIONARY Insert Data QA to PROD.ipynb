{
 "cells": [
  {
   "cell_type": "markdown",
   "id": "6ee08766-25fd-4da1-91b8-b0c3e74db588",
   "metadata": {},
   "source": [
    "Retention Redshift Insert (API Method)\n",
    "* StelllarAlgo Data Science\n",
    "* Ryan Kazmerik & Nakisa Rad\n",
    "* APr 5, 2022"
   ]
  },
  {
   "cell_type": "code",
   "execution_count": 11,
   "id": "4c533efd-600e-4bce-8203-faffbddfa700",
   "metadata": {},
   "outputs": [],
   "source": [
    "import boto3\n",
    "import getpass\n",
    "import pandas as pd\n",
    "import awswrangler as wr\n",
    "import pyodbc\n",
    "\n",
    "from datetime import datetime\n",
    "from pytz import timezone\n"
   ]
  },
  {
   "cell_type": "markdown",
   "id": "b64ae7d5-84af-4915-bd13-1dd9d17098a3",
   "metadata": {},
   "source": [
    "### Let's connect to Redshift QA-APP to get our dataset:"
   ]
  },
  {
   "cell_type": "code",
   "execution_count": 12,
   "id": "473dd31b-ce2e-4a81-a7ec-199447f9a6b2",
   "metadata": {},
   "outputs": [
    {
     "name": "stdout",
     "output_type": "stream",
     "text": [
      "Attempting to automatically open the SSO authorization page in your default browser.\n",
      "If the browser does not open or you wish to use a different device to authorize this request, open the following URL:\n",
      "\n",
      "https://device.sso.us-east-1.amazonaws.com/\n",
      "\n",
      "Then enter the code:\n",
      "\n",
      "RDMV-BMVB\n",
      "Successully logged into Start URL: https://stellaralgo.awsapps.com/start#/\n"
     ]
    }
   ],
   "source": [
    "! aws sso login --profile Stellaralgo-DataScienceAdmin"
   ]
  },
  {
   "cell_type": "code",
   "execution_count": 13,
   "id": "0349708a-a9eb-4647-83f0-0372727d3e34",
   "metadata": {},
   "outputs": [
    {
     "name": "stdout",
     "output_type": "stream",
     "text": [
      "QA CREDENTIALS RETRIEVED SUCCESSFULLY\n"
     ]
    }
   ],
   "source": [
    "try:\n",
    "    session = boto3.setup_default_session(profile_name='Stellaralgo-DataScienceAdmin')\n",
    "    client = boto3.client('redshift')\n",
    "\n",
    "    connqa = wr.data_api.redshift.connect(\n",
    "        cluster_id=\"qa-app\",\n",
    "        database=\"datascience\",\n",
    "        db_user=\"admin\"\n",
    "    )\n",
    "    \n",
    "    print('QA CREDENTIALS RETRIEVED SUCCESSFULLY')\n",
    "    \n",
    "except Exception as err:\n",
    "    print('FAILED TO RETRIEVE QA CREDENTIALS!', err)"
   ]
  },
  {
   "cell_type": "code",
   "execution_count": 14,
   "id": "caac5824-95b8-46dd-80a3-f9513655fbb5",
   "metadata": {},
   "outputs": [
    {
     "name": "stdout",
     "output_type": "stream",
     "text": [
      "<class 'pandas.core.frame.DataFrame'>\n",
      "RangeIndex: 88 entries, 0 to 87\n",
      "Data columns (total 7 columns):\n",
      " #   Column               Non-Null Count  Dtype \n",
      "---  ------               --------------  ----- \n",
      " 0   featureimportanceid  88 non-null     int64 \n",
      " 1   feature              88 non-null     object\n",
      " 2   featureraw           88 non-null     object\n",
      " 3   datatype             88 non-null     object\n",
      " 4   source               88 non-null     object\n",
      " 5   engineered           88 non-null     object\n",
      " 6   description          88 non-null     object\n",
      "dtypes: int64(1), object(6)\n",
      "memory usage: 4.9+ KB\n"
     ]
    }
   ],
   "source": [
    "qacode =  f\"\"\"\n",
    "    SELECT *\n",
    "    FROM \n",
    "       datascience.ds.datadictionary\n",
    "    \"\"\"\n",
    "df = wr.data_api.redshift.read_sql_query(\n",
    "            sql = qacode, \n",
    "            con = connqa\n",
    "        )\n",
    "df.info()"
   ]
  },
  {
   "cell_type": "markdown",
   "id": "86107c38-fad6-46ef-82ca-59aee70e49b3",
   "metadata": {},
   "source": [
    "### Now we can create another session to RedShift PROD-APP, to inser data:"
   ]
  },
  {
   "cell_type": "code",
   "execution_count": 15,
   "id": "cf384e2d-a506-4df0-a61d-275ce0c5fcb9",
   "metadata": {},
   "outputs": [
    {
     "name": "stdout",
     "output_type": "stream",
     "text": [
      "PROD CREDENTIALS RETRIEVED SUCCESSFULLY\n"
     ]
    }
   ],
   "source": [
    "try:\n",
    "    session = boto3.setup_default_session(profile_name='Stellaralgo-DataScienceAdmin')\n",
    "    client = boto3.client('redshift')\n",
    "\n",
    "    connprod = wr.data_api.redshift.connect(\n",
    "        cluster_id=\"prod-app\",\n",
    "        database=\"datascience\",\n",
    "        db_user=\"admin\"\n",
    "    )\n",
    "    \n",
    "    print('PROD CREDENTIALS RETRIEVED SUCCESSFULLY')\n",
    "    \n",
    "except Exception as err:\n",
    "    print('FAILED TO RETRIEVE PROD CREDENTIALS!', err)"
   ]
  },
  {
   "cell_type": "markdown",
   "id": "73505aed-8784-4cbc-b60d-6a53aba6b00f",
   "metadata": {},
   "source": [
    "### Insert the new scores into the datadictionary table:"
   ]
  },
  {
   "cell_type": "code",
   "execution_count": 10,
   "id": "0fb58a5d-1ae8-42f3-a425-b73ca0952115",
   "metadata": {},
   "outputs": [
    {
     "name": "stdout",
     "output_type": "stream",
     "text": [
      "TEAMS CONFIG INSERTS COMPLETED\n"
     ]
    }
   ],
   "source": [
    "try:\n",
    "    fields = f\"\"\"\n",
    "    INSERT INTO datascience.ds.datadictionary (\n",
    "        featureimportanceid,\n",
    "        feature,\n",
    "        featureraw,\n",
    "        datatype,\n",
    "        source,\n",
    "        engineered,\n",
    "        description\n",
    "    ) VALUES \"\"\"\n",
    "\n",
    "    # Insert Dataframe into SQL Server:\n",
    "    values_list = []\n",
    "    for i, (index, row) in enumerate(df.iterrows()):\n",
    "\n",
    "        values = f\"\"\"\n",
    "            (\n",
    "                {str(row.featureimportanceid)},\n",
    "                '{str(row.feature)}',\n",
    "                '{str(row.featureraw)}',\n",
    "                '{str(row.datatype)}',\n",
    "                '{str(row.source)}',\n",
    "                {str(row.engineered)},\n",
    "                '{str(row.description)}'\n",
    "            )\"\"\"\n",
    "\n",
    "        values_list.append(values)\n",
    "        \n",
    "        insert_statement = fields + \",\".join(values_list)+\";\"\n",
    "\n",
    "        wr.data_api.redshift.read_sql_query(\n",
    "            sql = insert_statement, \n",
    "            con = connprod\n",
    "        )\n",
    "\n",
    "except Exception as err:\n",
    "    print(\"ERROR WHILE INSERTING DATA DICTIONARY TO DATABASE:\", err)\n",
    "\n",
    "print(\"DATA DICTIONARY INSERTS COMPLETED\")"
   ]
  },
  {
   "cell_type": "code",
   "execution_count": null,
   "id": "51c2d87c-c970-4ba5-816b-3ee526a1d41d",
   "metadata": {},
   "outputs": [],
   "source": []
  }
 ],
 "metadata": {
  "kernelspec": {
   "display_name": "Python 3 (ipykernel)",
   "language": "python",
   "name": "python3"
  },
  "language_info": {
   "codemirror_mode": {
    "name": "ipython",
    "version": 3
   },
   "file_extension": ".py",
   "mimetype": "text/x-python",
   "name": "python",
   "nbconvert_exporter": "python",
   "pygments_lexer": "ipython3",
   "version": "3.9.4"
  }
 },
 "nbformat": 4,
 "nbformat_minor": 5
}
