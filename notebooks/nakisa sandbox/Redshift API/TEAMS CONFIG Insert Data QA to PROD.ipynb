{
 "cells": [
  {
   "cell_type": "markdown",
   "id": "6ee08766-25fd-4da1-91b8-b0c3e74db588",
   "metadata": {},
   "source": [
    "Retention Redshift Insert (API Method)\n",
    "* StelllarAlgo Data Science\n",
    "* Ryan Kazmerik & Nakisa Rad\n",
    "* APr 5, 2022"
   ]
  },
  {
   "cell_type": "code",
   "execution_count": 1,
   "id": "4c533efd-600e-4bce-8203-faffbddfa700",
   "metadata": {},
   "outputs": [],
   "source": [
    "import boto3\n",
    "import getpass\n",
    "import pandas as pd\n",
    "import awswrangler as wr\n",
    "import pyodbc\n",
    "\n",
    "from datetime import datetime\n",
    "from pytz import timezone\n"
   ]
  },
  {
   "cell_type": "markdown",
   "id": "b64ae7d5-84af-4915-bd13-1dd9d17098a3",
   "metadata": {},
   "source": [
    "### Let's connect to Redshift QA-APP to get our dataset:"
   ]
  },
  {
   "cell_type": "code",
   "execution_count": 2,
   "id": "473dd31b-ce2e-4a81-a7ec-199447f9a6b2",
   "metadata": {},
   "outputs": [
    {
     "name": "stdout",
     "output_type": "stream",
     "text": [
      "Attempting to automatically open the SSO authorization page in your default browser.\n",
      "If the browser does not open or you wish to use a different device to authorize this request, open the following URL:\n",
      "\n",
      "https://device.sso.us-east-1.amazonaws.com/\n",
      "\n",
      "Then enter the code:\n",
      "\n",
      "DBQN-DJNZ\n",
      "Successully logged into Start URL: https://stellaralgo.awsapps.com/start#/\n"
     ]
    }
   ],
   "source": [
    "! aws sso login --profile Stellaralgo-DataScienceAdmin"
   ]
  },
  {
   "cell_type": "code",
   "execution_count": 3,
   "id": "0349708a-a9eb-4647-83f0-0372727d3e34",
   "metadata": {},
   "outputs": [
    {
     "name": "stdout",
     "output_type": "stream",
     "text": [
      "QA CREDENTIALS RETRIEVED SUCCESSFULLY\n"
     ]
    }
   ],
   "source": [
    "try:\n",
    "    session = boto3.setup_default_session(profile_name='Stellaralgo-DataScienceAdmin')\n",
    "    client = boto3.client('redshift')\n",
    "\n",
    "    connqa = wr.data_api.redshift.connect(\n",
    "        cluster_id=\"qa-app\",\n",
    "        database=\"datascience\",\n",
    "        db_user=\"admin\"\n",
    "    )\n",
    "    \n",
    "    print('QA CREDENTIALS RETRIEVED SUCCESSFULLY')\n",
    "    \n",
    "except Exception as err:\n",
    "    print('FAILED TO RETRIEVE QA CREDENTIALS!', err)"
   ]
  },
  {
   "cell_type": "code",
   "execution_count": 4,
   "id": "caac5824-95b8-46dd-80a3-f9513655fbb5",
   "metadata": {},
   "outputs": [
    {
     "name": "stdout",
     "output_type": "stream",
     "text": [
      "<class 'pandas.core.frame.DataFrame'>\n",
      "RangeIndex: 112 entries, 0 to 111\n",
      "Data columns (total 8 columns):\n",
      " #   Column             Non-Null Count  Dtype \n",
      "---  ------             --------------  ----- \n",
      " 0   teamproductyearid  112 non-null    int64 \n",
      " 1   lkupclientid       112 non-null    int64 \n",
      " 2   clientcode         112 non-null    object\n",
      " 3   productgrouping    112 non-null    object\n",
      " 4   trainseasonyear    112 non-null    int64 \n",
      " 5   testseasonyear     112 non-null    int64 \n",
      " 6   leaguename         112 non-null    object\n",
      " 7   dbname             112 non-null    object\n",
      "dtypes: int64(4), object(4)\n",
      "memory usage: 7.1+ KB\n"
     ]
    }
   ],
   "source": [
    "qacode =  f\"\"\"\n",
    "    SELECT *\n",
    "    FROM \n",
    "       datascience.ds.teamsconfig\n",
    "    \"\"\"\n",
    "df = wr.data_api.redshift.read_sql_query(\n",
    "            sql = qacode, \n",
    "            con = connqa\n",
    "        )\n",
    "df.info()"
   ]
  },
  {
   "cell_type": "markdown",
   "id": "86107c38-fad6-46ef-82ca-59aee70e49b3",
   "metadata": {},
   "source": [
    "### Now we can create another session to RedShift PROD-APP, to inser data:"
   ]
  },
  {
   "cell_type": "code",
   "execution_count": 5,
   "id": "cf384e2d-a506-4df0-a61d-275ce0c5fcb9",
   "metadata": {},
   "outputs": [
    {
     "name": "stdout",
     "output_type": "stream",
     "text": [
      "PROD CREDENTIALS RETRIEVED SUCCESSFULLY\n"
     ]
    }
   ],
   "source": [
    "try:\n",
    "    session = boto3.setup_default_session(profile_name='Stellaralgo-DataScienceAdmin')\n",
    "    client = boto3.client('redshift')\n",
    "\n",
    "    connprod = wr.data_api.redshift.connect(\n",
    "        cluster_id=\"prod-app\",\n",
    "        database=\"datascience\",\n",
    "        db_user=\"admin\"\n",
    "    )\n",
    "    \n",
    "    print('PROD CREDENTIALS RETRIEVED SUCCESSFULLY')\n",
    "    \n",
    "except Exception as err:\n",
    "    print('FAILED TO RETRIEVE PROD CREDENTIALS!', err)"
   ]
  },
  {
   "cell_type": "markdown",
   "id": "73505aed-8784-4cbc-b60d-6a53aba6b00f",
   "metadata": {},
   "source": [
    "### Insert the new scores into the teamsconfig table:"
   ]
  },
  {
   "cell_type": "code",
   "execution_count": 14,
   "id": "0fb58a5d-1ae8-42f3-a425-b73ca0952115",
   "metadata": {},
   "outputs": [
    {
     "name": "stdout",
     "output_type": "stream",
     "text": [
      "TEAMS CONFIG INSERTS COMPLETED\n"
     ]
    }
   ],
   "source": [
    "try:\n",
    "    fields = f\"\"\"\n",
    "    INSERT INTO datascience.ds.teamsconfig (\n",
    "        teamproductyearid,\n",
    "        lkupclientid,\n",
    "        clientcode,\n",
    "        productgrouping,\n",
    "        trainseasonyear,\n",
    "        testseasonyear,\n",
    "        leaguename,\n",
    "        dbname\n",
    "    ) VALUES \"\"\"\n",
    "\n",
    "    # Insert Dataframe into SQL Server:\n",
    "    values_list = []\n",
    "    for i, row in df.iterrows():\n",
    "        \n",
    "\n",
    "        values = f\"\"\"\n",
    "            (\n",
    "                {str(row.teamproductyearid)},\n",
    "                {str(row.lkupclientid)},\n",
    "                '{str(row.clientcode)}',\n",
    "                '{str(row.productgrouping)}',\n",
    "                {str(row.trainseasonyear)},\n",
    "                {str(row.testseasonyear)},\n",
    "                '{str(row.leaguename)}',\n",
    "                '{str(row.dbname)}'\n",
    "            )\"\"\"\n",
    "        if values is not values_list:\n",
    "            values_list.append(values)\n",
    "                \n",
    "    insert_statement = fields + \",\".join(values_list)+\";\"\n",
    "\n",
    "    wr.data_api.redshift.read_sql_query(\n",
    "        sql = insert_statement, \n",
    "        con = connprod\n",
    "            )\n",
    "\n",
    "except Exception as err:\n",
    "    print(\"ERROR WHILE INSERTING TEAMS CONFIG TO DATABASE:\", err)\n",
    "\n",
    "print(\"TEAMS CONFIG INSERTS COMPLETED\")"
   ]
  },
  {
   "cell_type": "code",
   "execution_count": null,
   "id": "a48ae62d-39f2-4b66-95ed-c53d8edff327",
   "metadata": {},
   "outputs": [],
   "source": []
  }
 ],
 "metadata": {
  "kernelspec": {
   "display_name": "Python 3 (ipykernel)",
   "language": "python",
   "name": "python3"
  },
  "language_info": {
   "codemirror_mode": {
    "name": "ipython",
    "version": 3
   },
   "file_extension": ".py",
   "mimetype": "text/x-python",
   "name": "python",
   "nbconvert_exporter": "python",
   "pygments_lexer": "ipython3",
   "version": "3.9.4"
  }
 },
 "nbformat": 4,
 "nbformat_minor": 5
}
