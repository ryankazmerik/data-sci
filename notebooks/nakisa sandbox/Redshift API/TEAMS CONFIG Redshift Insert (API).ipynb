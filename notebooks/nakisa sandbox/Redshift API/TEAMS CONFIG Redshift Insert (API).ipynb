{
 "cells": [
  {
   "cell_type": "markdown",
   "id": "6ee08766-25fd-4da1-91b8-b0c3e74db588",
   "metadata": {},
   "source": [
    "Retention Redshift Insert (API Method)\n",
    "* StelllarAlgo Data Science\n",
    "* Ryan Kazmerik & Nakisa Rad\n",
    "* Mar 7, 2022"
   ]
  },
  {
   "cell_type": "code",
   "execution_count": 1,
   "id": "4c533efd-600e-4bce-8203-faffbddfa700",
   "metadata": {},
   "outputs": [],
   "source": [
    "import boto3\n",
    "import getpass\n",
    "import pandas as pd\n",
    "import awswrangler as wr\n",
    "import pyodbc\n",
    "\n",
    "from datetime import datetime\n",
    "from pytz import timezone\n"
   ]
  },
  {
   "cell_type": "markdown",
   "id": "b64ae7d5-84af-4915-bd13-1dd9d17098a3",
   "metadata": {},
   "source": [
    "### Let's connect to MSSQL and run a stored proc to get our dataset:"
   ]
  },
  {
   "cell_type": "code",
   "execution_count": 2,
   "id": "ae561eb4-f419-4d46-b5e0-12fac9b10db8",
   "metadata": {},
   "outputs": [
    {
     "name": "stdin",
     "output_type": "stream",
     "text": [
      "Enter your password ····················\n"
     ]
    }
   ],
   "source": [
    "# connect to SQL Server.\n",
    "SERVER = '52.44.171.130' \n",
    "DATABASE = 'datascience' \n",
    "USERNAME = 'dsAdminWrite' \n",
    "PASSWORD = getpass.getpass(prompt='Enter your password')\n",
    "CNXN = pyodbc.connect('DRIVER={ODBC Driver 17 for SQL Server};SERVER='+SERVER+';DATABASE='+DATABASE+';UID='+USERNAME+';PWD='+ PASSWORD)"
   ]
  },
  {
   "cell_type": "code",
   "execution_count": 3,
   "id": "af1afe7d-a35b-494b-88f3-980fb0e3da30",
   "metadata": {},
   "outputs": [
    {
     "name": "stdout",
     "output_type": "stream",
     "text": [
      "<class 'pandas.core.frame.DataFrame'>\n",
      "RangeIndex: 113 entries, 0 to 112\n",
      "Data columns (total 11 columns):\n",
      " #   Column             Non-Null Count  Dtype  \n",
      "---  ------             --------------  -----  \n",
      " 0   teamproductyearid  113 non-null    int64  \n",
      " 1   lkupclientid       113 non-null    int64  \n",
      " 2   clientcode         113 non-null    object \n",
      " 3   productgrouping    113 non-null    object \n",
      " 4   trainseasonyear    113 non-null    int64  \n",
      " 5   testseasonyear     113 non-null    int64  \n",
      " 6   isprevyearflag     113 non-null    bool   \n",
      " 7   facttestyear       113 non-null    int64  \n",
      " 8   facttestprevyear   65 non-null     float64\n",
      " 9   stlrDBName         113 non-null    object \n",
      " 10  leagueName         113 non-null    object \n",
      "dtypes: bool(1), float64(1), int64(5), object(4)\n",
      "memory usage: 9.1+ KB\n"
     ]
    }
   ],
   "source": [
    "\n",
    "cursor = CNXN.cursor()\n",
    "\n",
    "storedProc = (\n",
    "    f\"\"\"select * from ds.productyear_all\"\"\"\n",
    ")\n",
    "\n",
    "df = pd.read_sql(storedProc, CNXN)\n",
    "\n",
    "CNXN.commit()\n",
    "cursor.close()\n",
    "\n",
    "df.info()"
   ]
  },
  {
   "cell_type": "markdown",
   "id": "6d6c614f-288b-4a88-97dc-7ffc1d1c7ec9",
   "metadata": {},
   "source": [
    "### First we have to tell AWS which profile we'd like to login to, this will send us for a browser authentication trip:"
   ]
  },
  {
   "cell_type": "code",
   "execution_count": 4,
   "id": "79dd57e8-d578-4755-89fb-446362735a05",
   "metadata": {},
   "outputs": [
    {
     "name": "stdout",
     "output_type": "stream",
     "text": [
      "Attempting to automatically open the SSO authorization page in your default browser.\n",
      "If the browser does not open or you wish to use a different device to authorize this request, open the following URL:\n",
      "\n",
      "https://device.sso.us-east-1.amazonaws.com/\n",
      "\n",
      "Then enter the code:\n",
      "\n",
      "JKLC-LFFV\n",
      "Successully logged into Start URL: https://stellaralgo.awsapps.com/start#/\n"
     ]
    }
   ],
   "source": [
    "! aws sso login --profile Stellaralgo-DataScienceAdmin"
   ]
  },
  {
   "cell_type": "markdown",
   "id": "86107c38-fad6-46ef-82ca-59aee70e49b3",
   "metadata": {},
   "source": [
    "### Now we can create a session and client to RedShift, and create a new connection using AWS wrangler:"
   ]
  },
  {
   "cell_type": "code",
   "execution_count": 5,
   "id": "cf384e2d-a506-4df0-a61d-275ce0c5fcb9",
   "metadata": {},
   "outputs": [
    {
     "name": "stdout",
     "output_type": "stream",
     "text": [
      "CREDENTIALS RETRIEVED SUCCESSFULLY\n"
     ]
    }
   ],
   "source": [
    "try:\n",
    "    session = boto3.setup_default_session(profile_name='Stellaralgo-DataScienceAdmin')\n",
    "    client = boto3.client('redshift')\n",
    "\n",
    "    conn = wr.data_api.redshift.connect(\n",
    "        cluster_id=\"qa-app\",\n",
    "        database=\"datascience\",\n",
    "        db_user=\"admin\"\n",
    "    )\n",
    "    \n",
    "    print('CREDENTIALS RETRIEVED SUCCESSFULLY')\n",
    "    \n",
    "except Exception as err:\n",
    "    print('FAILED TO RETRIEVE CREDENTIALS!', err)"
   ]
  },
  {
   "cell_type": "markdown",
   "id": "73505aed-8784-4cbc-b60d-6a53aba6b00f",
   "metadata": {},
   "source": [
    "### Insert the new scores into the customerRetentionScores table:"
   ]
  },
  {
   "cell_type": "code",
   "execution_count": 14,
   "id": "0fb58a5d-1ae8-42f3-a425-b73ca0952115",
   "metadata": {},
   "outputs": [
    {
     "name": "stdout",
     "output_type": "stream",
     "text": [
      "RETENTION SCORE INSERTS COMPLETED\n"
     ]
    }
   ],
   "source": [
    "try:\n",
    "    fields = f\"\"\"\n",
    "    INSERT INTO datascience.ds.teamsconfig (\n",
    "        teamproductyearid,\n",
    "        lkupclientid,\n",
    "        clientcode,\n",
    "        productgrouping,\n",
    "        trainseasonyear,\n",
    "        testseasonyear,\n",
    "        isprevyearflag,\n",
    "        stlrdbname,\n",
    "        leaguename\n",
    "    ) VALUES \"\"\"\n",
    "\n",
    "    # Insert Dataframe into SQL Server:\n",
    "    values_list = []\n",
    "    for i, (index, row) in enumerate(df.iterrows()):\n",
    "\n",
    "        values = f\"\"\"\n",
    "            (\n",
    "                {str(row.teamproductyearid)},\n",
    "                {str(row.lkupclientid)},\n",
    "                '{str(row.clientcode)}',\n",
    "                '{str(row.productgrouping)}',\n",
    "                {str(row.trainseasonyear)},\n",
    "                {str(row.testseasonyear)},\n",
    "                {str(row.isprevyearflag)},\n",
    "                '{str(row.stlrDBName)}',\n",
    "                '{str(row.leagueName)}'\n",
    "            )\"\"\"\n",
    "\n",
    "        values_list.append(values)\n",
    "        \n",
    "        insert_statement = fields + \",\".join(values_list)+\";\"\n",
    "\n",
    "        wr.data_api.redshift.read_sql_query(\n",
    "            sql = insert_statement, \n",
    "            con = conn\n",
    "        )\n",
    "\n",
    "except Exception as err:\n",
    "    print(\"ERROR WHILE INSERTING TEAMS CONFIG TO DATABASE:\", err)\n",
    "\n",
    "print(\"TEAMS CONFIG INSERTS COMPLETED\")"
   ]
  }
 ],
 "metadata": {
  "kernelspec": {
   "display_name": "Python 3 (ipykernel)",
   "language": "python",
   "name": "python3"
  },
  "language_info": {
   "codemirror_mode": {
    "name": "ipython",
    "version": 3
   },
   "file_extension": ".py",
   "mimetype": "text/x-python",
   "name": "python",
   "nbconvert_exporter": "python",
   "pygments_lexer": "ipython3",
   "version": "3.9.4"
  }
 },
 "nbformat": 4,
 "nbformat_minor": 5
}
