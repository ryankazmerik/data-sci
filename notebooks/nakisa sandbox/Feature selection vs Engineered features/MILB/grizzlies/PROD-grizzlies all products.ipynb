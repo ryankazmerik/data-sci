{
 "cells": [
  {
   "cell_type": "markdown",
   "id": "6ee08766-25fd-4da1-91b8-b0c3e74db588",
   "metadata": {},
   "source": [
    "# grizzlies - All products\n",
    "* StelllarAlgo Data Science\n",
    "* Ryan Kazmerik & Nakisa Rad\n",
    "* Jan 24, 2022"
   ]
  },
  {
   "cell_type": "markdown",
   "id": "39108c8d-2e9f-4759-ade2-83071038dc56",
   "metadata": {},
   "source": [
    "## Hypothesis\n",
    "The goal of this notebook is to compare the results of the model with the model using standard StellarAlgo features with the engineered retention model features."
   ]
  },
  {
   "cell_type": "markdown",
   "id": "28142011-1f32-4cc7-816b-a6dae6f70c8c",
   "metadata": {},
   "source": [
    "## Experiment\n",
    "This section details our experiment including querying data, data transformations, feature selection and modelling."
   ]
  },
  {
   "cell_type": "code",
   "execution_count": 1,
   "id": "4c533efd-600e-4bce-8203-faffbddfa700",
   "metadata": {},
   "outputs": [],
   "source": [
    "import getpass\n",
    "import pyodbc\n",
    "import pandas as pd\n",
    "import warnings\n",
    "import matplotlib.pyplot as plt\n",
    "\n",
    "from pycaret.classification import *\n",
    "\n",
    "warnings.filterwarnings('ignore')"
   ]
  },
  {
   "cell_type": "markdown",
   "id": "b64ae7d5-84af-4915-bd13-1dd9d17098a3",
   "metadata": {},
   "source": [
    "### Let's connect to MSSQL and run a stored proc to get our dataset:"
   ]
  },
  {
   "cell_type": "code",
   "execution_count": 2,
   "id": "ae561eb4-f419-4d46-b5e0-12fac9b10db8",
   "metadata": {},
   "outputs": [],
   "source": [
    "# connect to SQL Server.\n",
    "SERVER = '34.206.73.189' \n",
    "DATABASE = 'datascience' \n",
    "USERNAME = 'nrad' \n",
    "PASSWORD = getpass.getpass(prompt='Enter your password')\n",
    "CNXN = pyodbc.connect('DRIVER={ODBC Driver 17 for SQL Server};SERVER='+SERVER+';DATABASE='+DATABASE+';UID='+USERNAME+';PWD='+ PASSWORD)"
   ]
  },
  {
   "cell_type": "code",
   "execution_count": 3,
   "id": "af1afe7d-a35b-494b-88f3-980fb0e3da30",
   "metadata": {},
   "outputs": [
    {
     "data": {
      "text/plain": [
       "(6328, 54)"
      ]
     },
     "execution_count": 3,
     "metadata": {},
     "output_type": "execute_result"
    }
   ],
   "source": [
    "lkupclientid = 27 # grizzlies\n",
    "cursor = CNXN.cursor()\n",
    "\n",
    "storedProc = (\n",
    "    f\"\"\"Exec [stlrMILB].[ds].[getRetentionScoringModelData] {lkupclientid}\"\"\"\n",
    ")\n",
    "\n",
    "df = pd.read_sql(storedProc, CNXN)\n",
    "\n",
    "# apply some data transformations\n",
    "df[\"year\"] = pd.to_numeric(df[\"year\"])\n",
    "\n",
    "CNXN.commit()\n",
    "cursor.close()\n",
    "\n",
    "df.shape"
   ]
  },
  {
   "cell_type": "code",
   "execution_count": 4,
   "id": "11e97dcc-c69e-46c1-8dad-33f6291cb0c6",
   "metadata": {},
   "outputs": [
    {
     "name": "stdout",
     "output_type": "stream",
     "text": [
      "<class 'pandas.core.frame.DataFrame'>\n",
      "RangeIndex: 6328 entries, 0 to 6327\n",
      "Data columns (total 54 columns):\n",
      " #   Column                  Non-Null Count  Dtype  \n",
      "---  ------                  --------------  -----  \n",
      " 0   lkupClientId            6328 non-null   int64  \n",
      " 1   dimCustomerMasterId     6328 non-null   int64  \n",
      " 2   customerNumber          6328 non-null   object \n",
      " 3   year                    6328 non-null   int64  \n",
      " 4   productGrouping         6328 non-null   object \n",
      " 5   totalSpent              6328 non-null   float64\n",
      " 6   recentDate              6328 non-null   object \n",
      " 7   attendancePercent       6328 non-null   float64\n",
      " 8   renewedBeforeDays       6292 non-null   float64\n",
      " 9   isBuyer                 6328 non-null   object \n",
      " 10  source_tenure           6328 non-null   int64  \n",
      " 11  tenure                  6292 non-null   float64\n",
      " 12  distToVenue             6328 non-null   float64\n",
      " 13  totalGames              6328 non-null   int64  \n",
      " 14  recency                 6328 non-null   int64  \n",
      " 15  missed_games_1          6328 non-null   int64  \n",
      " 16  missed_games_2          6328 non-null   int64  \n",
      " 17  missed_games_over_2     6328 non-null   int64  \n",
      " 18  click_link              6328 non-null   int64  \n",
      " 19  fill_out_form           6328 non-null   int64  \n",
      " 20  open_email              6328 non-null   int64  \n",
      " 21  send_email              6328 non-null   int64  \n",
      " 22  unsubscribe_email       6328 non-null   int64  \n",
      " 23  openToSendRatio         6328 non-null   float64\n",
      " 24  clickToSendRatio        6328 non-null   float64\n",
      " 25  clickToOpenRatio        6328 non-null   float64\n",
      " 26  posting_records         6328 non-null   int64  \n",
      " 27  resale_records          6328 non-null   int64  \n",
      " 28  resale_atp              6328 non-null   float64\n",
      " 29  forward_records         6328 non-null   int64  \n",
      " 30  cancel_records          6328 non-null   int64  \n",
      " 31  email                   6328 non-null   int64  \n",
      " 32  inbound_email           6328 non-null   int64  \n",
      " 33  inbound_phonecall       6328 non-null   int64  \n",
      " 34  inperson_contact        6328 non-null   int64  \n",
      " 35  internal_note           6328 non-null   int64  \n",
      " 36  left_message            6328 non-null   int64  \n",
      " 37  outbound_email          6328 non-null   int64  \n",
      " 38  outbound_phonecall      6328 non-null   int64  \n",
      " 39  phonecall               6328 non-null   int64  \n",
      " 40  text                    6328 non-null   int64  \n",
      " 41  unknown                 6328 non-null   int64  \n",
      " 42  gender                  6328 non-null   object \n",
      " 43  childrenPresentInHH     6328 non-null   int64  \n",
      " 44  maritalStatus           6328 non-null   int64  \n",
      " 45  lengthOfResidenceInYrs  0 non-null      object \n",
      " 46  annualHHIncome          0 non-null      object \n",
      " 47  education               0 non-null      object \n",
      " 48  urbanicity              0 non-null      object \n",
      " 49  credits_after_refund    6328 non-null   float64\n",
      " 50  is_Lockdown             6328 non-null   int64  \n",
      " 51  NumberofGamesPerSeason  6328 non-null   int64  \n",
      " 52  CNTPostponedGames       0 non-null      object \n",
      " 53  isNextYear_Buyer        6328 non-null   int64  \n",
      "dtypes: float64(10), int64(34), object(10)\n",
      "memory usage: 2.6+ MB\n"
     ]
    }
   ],
   "source": [
    "df.info()"
   ]
  },
  {
   "cell_type": "markdown",
   "id": "ab40da92-72a7-49c1-9829-ed3805a39719",
   "metadata": {},
   "source": [
    "### We should specify the features used in our model:"
   ]
  },
  {
   "cell_type": "code",
   "execution_count": 5,
   "id": "788f1273-8b7a-46bd-a099-1a471feeacc5",
   "metadata": {},
   "outputs": [
    {
     "name": "stdout",
     "output_type": "stream",
     "text": [
      "Data for Modeling: (4859, 13)\n",
      "Unseen Data For Predictions: (858, 13)\n",
      "\n"
     ]
    }
   ],
   "source": [
    "# choose the features for the stellar base retention model\n",
    "features = [\"year\",\n",
    "            \"isNextYear_Buyer\",\n",
    "            \"productGrouping\",\n",
    "            \"dimCustomerMasterId\",\n",
    "        \"totalSpent\",\n",
    "        \"attendancePercent\",\n",
    "        \"source_tenure\",\n",
    "        \"tenure\",\n",
    "        \"totalGames\",\n",
    "        \"missed_games_1\",\n",
    "        \"missed_games_2\",\n",
    "        \"missed_games_over_2\",\n",
    "        \"is_Lockdown\"\n",
    "]\n",
    "\n",
    "# copy your main dataframe\n",
    "df_dataset = df\n",
    "\n",
    "# choose the features & train year & test year\n",
    "df_dataset = df_dataset[features]\n",
    "df_dataset[\"year\"] = pd.to_numeric(df_dataset[\"year\"])\n",
    "df_dataset = df_dataset.loc[df_dataset[\"year\"] <= 2019]\n",
    "\n",
    "df_train = df_dataset.sample(frac=0.85, random_state=786)\n",
    "df_eval = df_dataset.drop(df_train.index)\n",
    "\n",
    "df_train.reset_index(drop=True, inplace=True)\n",
    "df_eval.reset_index(drop=True, inplace=True)\n",
    "\n",
    "# print out the number of records for training and eval\n",
    "print('Data for Modeling: ' + str(df_train.shape))\n",
    "print('Unseen Data For Predictions: ' + str(df_eval.shape), end=\"\\n\\n\")"
   ]
  },
  {
   "cell_type": "markdown",
   "id": "4f2da06d-9015-49fd-89b3-956c2ebf66e9",
   "metadata": {},
   "source": [
    "### Now we can model the data using a binary classification prediction for the isnextyear_buyer field to see how likely a customer is to re-purchase."
   ]
  },
  {
   "cell_type": "code",
   "execution_count": 6,
   "id": "23a69cdc-b3ec-48c8-9ce5-29f617779389",
   "metadata": {},
   "outputs": [],
   "source": [
    "setup(\n",
    "    data= df_train, \n",
    "    target=\"isNextYear_Buyer\", \n",
    "    train_size = 0.85,\n",
    "    data_split_shuffle=True,\n",
    "    ignore_features=[\"dimCustomerMasterId\",\"productGrouping\",\"year\"],\n",
    "    silent=True,\n",
    "    verbose=False,\n",
    "    numeric_features=[\n",
    "     \"totalSpent\",\n",
    "        \"attendancePercent\",\n",
    "        \"source_tenure\",\n",
    "        \"tenure\",\n",
    "        \"totalGames\",\n",
    "        \"missed_games_1\",\n",
    "        \"missed_games_2\",\n",
    "        \"missed_games_over_2\",\n",
    "        \"is_Lockdown\"\n",
    "    ]\n",
    ");"
   ]
  },
  {
   "cell_type": "code",
   "execution_count": 7,
   "id": "ef2db9d2-02c2-45c0-b6bb-5cad42c373ce",
   "metadata": {},
   "outputs": [
    {
     "data": {
      "text/html": [
       "<style  type=\"text/css\" >\n",
       "    #T_a3b68_ th {\n",
       "          text-align: left;\n",
       "    }#T_a3b68_row0_col0,#T_a3b68_row0_col2,#T_a3b68_row0_col4,#T_a3b68_row0_col6,#T_a3b68_row0_col7,#T_a3b68_row1_col0,#T_a3b68_row1_col1,#T_a3b68_row1_col3,#T_a3b68_row1_col5{\n",
       "            text-align:  left;\n",
       "            text-align:  left;\n",
       "        }#T_a3b68_row0_col1,#T_a3b68_row0_col3,#T_a3b68_row0_col5,#T_a3b68_row1_col2,#T_a3b68_row1_col4,#T_a3b68_row1_col6,#T_a3b68_row1_col7{\n",
       "            text-align:  left;\n",
       "            text-align:  left;\n",
       "            background-color:  yellow;\n",
       "        }#T_a3b68_row0_col8{\n",
       "            text-align:  left;\n",
       "            text-align:  left;\n",
       "            background-color:  lightgrey;\n",
       "        }#T_a3b68_row1_col8{\n",
       "            text-align:  left;\n",
       "            text-align:  left;\n",
       "            background-color:  yellow;\n",
       "            background-color:  lightgrey;\n",
       "        }</style><table id=\"T_a3b68_\" ><thead>    <tr>        <th class=\"blank level0\" ></th>        <th class=\"col_heading level0 col0\" >Model</th>        <th class=\"col_heading level0 col1\" >Accuracy</th>        <th class=\"col_heading level0 col2\" >AUC</th>        <th class=\"col_heading level0 col3\" >Recall</th>        <th class=\"col_heading level0 col4\" >Prec.</th>        <th class=\"col_heading level0 col5\" >F1</th>        <th class=\"col_heading level0 col6\" >Kappa</th>        <th class=\"col_heading level0 col7\" >MCC</th>        <th class=\"col_heading level0 col8\" >TT (Sec)</th>    </tr></thead><tbody>\n",
       "                <tr>\n",
       "                        <th id=\"T_a3b68_level0_row0\" class=\"row_heading level0 row0\" >xgboost</th>\n",
       "                        <td id=\"T_a3b68_row0_col0\" class=\"data row0 col0\" >Extreme Gradient Boosting</td>\n",
       "                        <td id=\"T_a3b68_row0_col1\" class=\"data row0 col1\" >0.6908</td>\n",
       "                        <td id=\"T_a3b68_row0_col2\" class=\"data row0 col2\" >0.7413</td>\n",
       "                        <td id=\"T_a3b68_row0_col3\" class=\"data row0 col3\" >0.7502</td>\n",
       "                        <td id=\"T_a3b68_row0_col4\" class=\"data row0 col4\" >0.7079</td>\n",
       "                        <td id=\"T_a3b68_row0_col5\" class=\"data row0 col5\" >0.7280</td>\n",
       "                        <td id=\"T_a3b68_row0_col6\" class=\"data row0 col6\" >0.3704</td>\n",
       "                        <td id=\"T_a3b68_row0_col7\" class=\"data row0 col7\" >0.3719</td>\n",
       "                        <td id=\"T_a3b68_row0_col8\" class=\"data row0 col8\" >0.3770</td>\n",
       "            </tr>\n",
       "            <tr>\n",
       "                        <th id=\"T_a3b68_level0_row1\" class=\"row_heading level0 row1\" >lr</th>\n",
       "                        <td id=\"T_a3b68_row1_col0\" class=\"data row1 col0\" >Logistic Regression</td>\n",
       "                        <td id=\"T_a3b68_row1_col1\" class=\"data row1 col1\" >0.6901</td>\n",
       "                        <td id=\"T_a3b68_row1_col2\" class=\"data row1 col2\" >0.7535</td>\n",
       "                        <td id=\"T_a3b68_row1_col3\" class=\"data row1 col3\" >0.6936</td>\n",
       "                        <td id=\"T_a3b68_row1_col4\" class=\"data row1 col4\" >0.7310</td>\n",
       "                        <td id=\"T_a3b68_row1_col5\" class=\"data row1 col5\" >0.7116</td>\n",
       "                        <td id=\"T_a3b68_row1_col6\" class=\"data row1 col6\" >0.3771</td>\n",
       "                        <td id=\"T_a3b68_row1_col7\" class=\"data row1 col7\" >0.3780</td>\n",
       "                        <td id=\"T_a3b68_row1_col8\" class=\"data row1 col8\" >0.3620</td>\n",
       "            </tr>\n",
       "    </tbody></table>"
      ],
      "text/plain": [
       "<pandas.io.formats.style.Styler at 0x7f81206ba580>"
      ]
     },
     "metadata": {},
     "output_type": "display_data"
    }
   ],
   "source": [
    "model_matrix = compare_models(\n",
    "    fold=10,\n",
    "    include=[\"lr\", \"xgboost\"]\n",
    ")"
   ]
  },
  {
   "cell_type": "code",
   "execution_count": 8,
   "id": "d9f030ed-4b6a-4a87-a01e-129dc49e0d4a",
   "metadata": {},
   "outputs": [
    {
     "data": {
      "text/html": [
       "<style  type=\"text/css\" >\n",
       "#T_c6388_row10_col0,#T_c6388_row10_col1,#T_c6388_row10_col2,#T_c6388_row10_col3,#T_c6388_row10_col4,#T_c6388_row10_col5,#T_c6388_row10_col6{\n",
       "            background:  yellow;\n",
       "        }</style><table id=\"T_c6388_\" ><thead>    <tr>        <th class=\"blank level0\" ></th>        <th class=\"col_heading level0 col0\" >Accuracy</th>        <th class=\"col_heading level0 col1\" >AUC</th>        <th class=\"col_heading level0 col2\" >Recall</th>        <th class=\"col_heading level0 col3\" >Prec.</th>        <th class=\"col_heading level0 col4\" >F1</th>        <th class=\"col_heading level0 col5\" >Kappa</th>        <th class=\"col_heading level0 col6\" >MCC</th>    </tr></thead><tbody>\n",
       "                <tr>\n",
       "                        <th id=\"T_c6388_level0_row0\" class=\"row_heading level0 row0\" >0</th>\n",
       "                        <td id=\"T_c6388_row0_col0\" class=\"data row0 col0\" >0.6925</td>\n",
       "                        <td id=\"T_c6388_row0_col1\" class=\"data row0 col1\" >0.7385</td>\n",
       "                        <td id=\"T_c6388_row0_col2\" class=\"data row0 col2\" >0.7675</td>\n",
       "                        <td id=\"T_c6388_row0_col3\" class=\"data row0 col3\" >0.7028</td>\n",
       "                        <td id=\"T_c6388_row0_col4\" class=\"data row0 col4\" >0.7338</td>\n",
       "                        <td id=\"T_c6388_row0_col5\" class=\"data row0 col5\" >0.3715</td>\n",
       "                        <td id=\"T_c6388_row0_col6\" class=\"data row0 col6\" >0.3735</td>\n",
       "            </tr>\n",
       "            <tr>\n",
       "                        <th id=\"T_c6388_level0_row1\" class=\"row_heading level0 row1\" >1</th>\n",
       "                        <td id=\"T_c6388_row1_col0\" class=\"data row1 col0\" >0.7046</td>\n",
       "                        <td id=\"T_c6388_row1_col1\" class=\"data row1 col1\" >0.7368</td>\n",
       "                        <td id=\"T_c6388_row1_col2\" class=\"data row1 col2\" >0.7719</td>\n",
       "                        <td id=\"T_c6388_row1_col3\" class=\"data row1 col3\" >0.7154</td>\n",
       "                        <td id=\"T_c6388_row1_col4\" class=\"data row1 col4\" >0.7426</td>\n",
       "                        <td id=\"T_c6388_row1_col5\" class=\"data row1 col5\" >0.3972</td>\n",
       "                        <td id=\"T_c6388_row1_col6\" class=\"data row1 col6\" >0.3988</td>\n",
       "            </tr>\n",
       "            <tr>\n",
       "                        <th id=\"T_c6388_level0_row2\" class=\"row_heading level0 row2\" >2</th>\n",
       "                        <td id=\"T_c6388_row2_col0\" class=\"data row2 col0\" >0.7312</td>\n",
       "                        <td id=\"T_c6388_row2_col1\" class=\"data row2 col1\" >0.7803</td>\n",
       "                        <td id=\"T_c6388_row2_col2\" class=\"data row2 col2\" >0.7281</td>\n",
       "                        <td id=\"T_c6388_row2_col3\" class=\"data row2 col3\" >0.7721</td>\n",
       "                        <td id=\"T_c6388_row2_col4\" class=\"data row2 col4\" >0.7494</td>\n",
       "                        <td id=\"T_c6388_row2_col5\" class=\"data row2 col5\" >0.4602</td>\n",
       "                        <td id=\"T_c6388_row2_col6\" class=\"data row2 col6\" >0.4611</td>\n",
       "            </tr>\n",
       "            <tr>\n",
       "                        <th id=\"T_c6388_level0_row3\" class=\"row_heading level0 row3\" >3</th>\n",
       "                        <td id=\"T_c6388_row3_col0\" class=\"data row3 col0\" >0.6755</td>\n",
       "                        <td id=\"T_c6388_row3_col1\" class=\"data row3 col1\" >0.7217</td>\n",
       "                        <td id=\"T_c6388_row3_col2\" class=\"data row3 col2\" >0.7588</td>\n",
       "                        <td id=\"T_c6388_row3_col3\" class=\"data row3 col3\" >0.6865</td>\n",
       "                        <td id=\"T_c6388_row3_col4\" class=\"data row3 col4\" >0.7208</td>\n",
       "                        <td id=\"T_c6388_row3_col5\" class=\"data row3 col5\" >0.3359</td>\n",
       "                        <td id=\"T_c6388_row3_col6\" class=\"data row3 col6\" >0.3383</td>\n",
       "            </tr>\n",
       "            <tr>\n",
       "                        <th id=\"T_c6388_level0_row4\" class=\"row_heading level0 row4\" >4</th>\n",
       "                        <td id=\"T_c6388_row4_col0\" class=\"data row4 col0\" >0.7215</td>\n",
       "                        <td id=\"T_c6388_row4_col1\" class=\"data row4 col1\" >0.7787</td>\n",
       "                        <td id=\"T_c6388_row4_col2\" class=\"data row4 col2\" >0.8026</td>\n",
       "                        <td id=\"T_c6388_row4_col3\" class=\"data row4 col3\" >0.7233</td>\n",
       "                        <td id=\"T_c6388_row4_col4\" class=\"data row4 col4\" >0.7609</td>\n",
       "                        <td id=\"T_c6388_row4_col5\" class=\"data row4 col5\" >0.4297</td>\n",
       "                        <td id=\"T_c6388_row4_col6\" class=\"data row4 col6\" >0.4331</td>\n",
       "            </tr>\n",
       "            <tr>\n",
       "                        <th id=\"T_c6388_level0_row5\" class=\"row_heading level0 row5\" >5</th>\n",
       "                        <td id=\"T_c6388_row5_col0\" class=\"data row5 col0\" >0.6780</td>\n",
       "                        <td id=\"T_c6388_row5_col1\" class=\"data row5 col1\" >0.7283</td>\n",
       "                        <td id=\"T_c6388_row5_col2\" class=\"data row5 col2\" >0.7544</td>\n",
       "                        <td id=\"T_c6388_row5_col3\" class=\"data row5 col3\" >0.6908</td>\n",
       "                        <td id=\"T_c6388_row5_col4\" class=\"data row5 col4\" >0.7212</td>\n",
       "                        <td id=\"T_c6388_row5_col5\" class=\"data row5 col5\" >0.3418</td>\n",
       "                        <td id=\"T_c6388_row5_col6\" class=\"data row5 col6\" >0.3437</td>\n",
       "            </tr>\n",
       "            <tr>\n",
       "                        <th id=\"T_c6388_level0_row6\" class=\"row_heading level0 row6\" >6</th>\n",
       "                        <td id=\"T_c6388_row6_col0\" class=\"data row6 col0\" >0.6852</td>\n",
       "                        <td id=\"T_c6388_row6_col1\" class=\"data row6 col1\" >0.7456</td>\n",
       "                        <td id=\"T_c6388_row6_col2\" class=\"data row6 col2\" >0.7149</td>\n",
       "                        <td id=\"T_c6388_row6_col3\" class=\"data row6 col3\" >0.7149</td>\n",
       "                        <td id=\"T_c6388_row6_col4\" class=\"data row6 col4\" >0.7149</td>\n",
       "                        <td id=\"T_c6388_row6_col5\" class=\"data row6 col5\" >0.3636</td>\n",
       "                        <td id=\"T_c6388_row6_col6\" class=\"data row6 col6\" >0.3636</td>\n",
       "            </tr>\n",
       "            <tr>\n",
       "                        <th id=\"T_c6388_level0_row7\" class=\"row_heading level0 row7\" >7</th>\n",
       "                        <td id=\"T_c6388_row7_col0\" class=\"data row7 col0\" >0.6804</td>\n",
       "                        <td id=\"T_c6388_row7_col1\" class=\"data row7 col1\" >0.7336</td>\n",
       "                        <td id=\"T_c6388_row7_col2\" class=\"data row7 col2\" >0.7500</td>\n",
       "                        <td id=\"T_c6388_row7_col3\" class=\"data row7 col3\" >0.6951</td>\n",
       "                        <td id=\"T_c6388_row7_col4\" class=\"data row7 col4\" >0.7215</td>\n",
       "                        <td id=\"T_c6388_row7_col5\" class=\"data row7 col5\" >0.3478</td>\n",
       "                        <td id=\"T_c6388_row7_col6\" class=\"data row7 col6\" >0.3492</td>\n",
       "            </tr>\n",
       "            <tr>\n",
       "                        <th id=\"T_c6388_level0_row8\" class=\"row_heading level0 row8\" >8</th>\n",
       "                        <td id=\"T_c6388_row8_col0\" class=\"data row8 col0\" >0.6731</td>\n",
       "                        <td id=\"T_c6388_row8_col1\" class=\"data row8 col1\" >0.7239</td>\n",
       "                        <td id=\"T_c6388_row8_col2\" class=\"data row8 col2\" >0.7269</td>\n",
       "                        <td id=\"T_c6388_row8_col3\" class=\"data row8 col3\" >0.6933</td>\n",
       "                        <td id=\"T_c6388_row8_col4\" class=\"data row8 col4\" >0.7097</td>\n",
       "                        <td id=\"T_c6388_row8_col5\" class=\"data row8 col5\" >0.3362</td>\n",
       "                        <td id=\"T_c6388_row8_col6\" class=\"data row8 col6\" >0.3367</td>\n",
       "            </tr>\n",
       "            <tr>\n",
       "                        <th id=\"T_c6388_level0_row9\" class=\"row_heading level0 row9\" >9</th>\n",
       "                        <td id=\"T_c6388_row9_col0\" class=\"data row9 col0\" >0.6659</td>\n",
       "                        <td id=\"T_c6388_row9_col1\" class=\"data row9 col1\" >0.7260</td>\n",
       "                        <td id=\"T_c6388_row9_col2\" class=\"data row9 col2\" >0.7269</td>\n",
       "                        <td id=\"T_c6388_row9_col3\" class=\"data row9 col3\" >0.6846</td>\n",
       "                        <td id=\"T_c6388_row9_col4\" class=\"data row9 col4\" >0.7051</td>\n",
       "                        <td id=\"T_c6388_row9_col5\" class=\"data row9 col5\" >0.3204</td>\n",
       "                        <td id=\"T_c6388_row9_col6\" class=\"data row9 col6\" >0.3212</td>\n",
       "            </tr>\n",
       "            <tr>\n",
       "                        <th id=\"T_c6388_level0_row10\" class=\"row_heading level0 row10\" >Mean</th>\n",
       "                        <td id=\"T_c6388_row10_col0\" class=\"data row10 col0\" >0.6908</td>\n",
       "                        <td id=\"T_c6388_row10_col1\" class=\"data row10 col1\" >0.7413</td>\n",
       "                        <td id=\"T_c6388_row10_col2\" class=\"data row10 col2\" >0.7502</td>\n",
       "                        <td id=\"T_c6388_row10_col3\" class=\"data row10 col3\" >0.7079</td>\n",
       "                        <td id=\"T_c6388_row10_col4\" class=\"data row10 col4\" >0.7280</td>\n",
       "                        <td id=\"T_c6388_row10_col5\" class=\"data row10 col5\" >0.3704</td>\n",
       "                        <td id=\"T_c6388_row10_col6\" class=\"data row10 col6\" >0.3719</td>\n",
       "            </tr>\n",
       "            <tr>\n",
       "                        <th id=\"T_c6388_level0_row11\" class=\"row_heading level0 row11\" >SD</th>\n",
       "                        <td id=\"T_c6388_row11_col0\" class=\"data row11 col0\" >0.0206</td>\n",
       "                        <td id=\"T_c6388_row11_col1\" class=\"data row11 col1\" >0.0203</td>\n",
       "                        <td id=\"T_c6388_row11_col2\" class=\"data row11 col2\" >0.0254</td>\n",
       "                        <td id=\"T_c6388_row11_col3\" class=\"data row11 col3\" >0.0248</td>\n",
       "                        <td id=\"T_c6388_row11_col4\" class=\"data row11 col4\" >0.0172</td>\n",
       "                        <td id=\"T_c6388_row11_col5\" class=\"data row11 col5\" >0.0430</td>\n",
       "                        <td id=\"T_c6388_row11_col6\" class=\"data row11 col6\" >0.0433</td>\n",
       "            </tr>\n",
       "    </tbody></table>"
      ],
      "text/plain": [
       "<pandas.io.formats.style.Styler at 0x7f8121375ee0>"
      ]
     },
     "metadata": {},
     "output_type": "display_data"
    },
    {
     "name": "stderr",
     "output_type": "stream",
     "text": [
      "/Library/Frameworks/Python.framework/Versions/3.9/lib/python3.9/site-packages/xgboost/sklearn.py:1146: UserWarning: The use of label encoder in XGBClassifier is deprecated and will be removed in a future release. To remove this warning, do the following: 1) Pass option use_label_encoder=False when constructing XGBClassifier object; and 2) Encode your labels (y) as integers starting with 0, i.e. 0, 1, 2, ..., [num_class - 1].\n",
      "  warnings.warn(label_encoder_deprecation_msg, UserWarning)\n",
      "/Library/Frameworks/Python.framework/Versions/3.9/lib/python3.9/site-packages/xgboost/sklearn.py:1146: UserWarning: The use of label encoder in XGBClassifier is deprecated and will be removed in a future release. To remove this warning, do the following: 1) Pass option use_label_encoder=False when constructing XGBClassifier object; and 2) Encode your labels (y) as integers starting with 0, i.e. 0, 1, 2, ..., [num_class - 1].\n",
      "  warnings.warn(label_encoder_deprecation_msg, UserWarning)\n",
      "/Library/Frameworks/Python.framework/Versions/3.9/lib/python3.9/site-packages/xgboost/sklearn.py:1146: UserWarning: The use of label encoder in XGBClassifier is deprecated and will be removed in a future release. To remove this warning, do the following: 1) Pass option use_label_encoder=False when constructing XGBClassifier object; and 2) Encode your labels (y) as integers starting with 0, i.e. 0, 1, 2, ..., [num_class - 1].\n",
      "  warnings.warn(label_encoder_deprecation_msg, UserWarning)\n",
      "/Library/Frameworks/Python.framework/Versions/3.9/lib/python3.9/site-packages/xgboost/sklearn.py:1146: UserWarning: The use of label encoder in XGBClassifier is deprecated and will be removed in a future release. To remove this warning, do the following: 1) Pass option use_label_encoder=False when constructing XGBClassifier object; and 2) Encode your labels (y) as integers starting with 0, i.e. 0, 1, 2, ..., [num_class - 1].\n",
      "  warnings.warn(label_encoder_deprecation_msg, UserWarning)\n",
      "/Library/Frameworks/Python.framework/Versions/3.9/lib/python3.9/site-packages/xgboost/sklearn.py:1146: UserWarning: The use of label encoder in XGBClassifier is deprecated and will be removed in a future release. To remove this warning, do the following: 1) Pass option use_label_encoder=False when constructing XGBClassifier object; and 2) Encode your labels (y) as integers starting with 0, i.e. 0, 1, 2, ..., [num_class - 1].\n",
      "  warnings.warn(label_encoder_deprecation_msg, UserWarning)\n",
      "/Library/Frameworks/Python.framework/Versions/3.9/lib/python3.9/site-packages/xgboost/sklearn.py:1146: UserWarning: The use of label encoder in XGBClassifier is deprecated and will be removed in a future release. To remove this warning, do the following: 1) Pass option use_label_encoder=False when constructing XGBClassifier object; and 2) Encode your labels (y) as integers starting with 0, i.e. 0, 1, 2, ..., [num_class - 1].\n",
      "  warnings.warn(label_encoder_deprecation_msg, UserWarning)\n",
      "/Library/Frameworks/Python.framework/Versions/3.9/lib/python3.9/site-packages/xgboost/sklearn.py:1146: UserWarning: The use of label encoder in XGBClassifier is deprecated and will be removed in a future release. To remove this warning, do the following: 1) Pass option use_label_encoder=False when constructing XGBClassifier object; and 2) Encode your labels (y) as integers starting with 0, i.e. 0, 1, 2, ..., [num_class - 1].\n",
      "  warnings.warn(label_encoder_deprecation_msg, UserWarning)\n",
      "/Library/Frameworks/Python.framework/Versions/3.9/lib/python3.9/site-packages/xgboost/sklearn.py:1146: UserWarning: The use of label encoder in XGBClassifier is deprecated and will be removed in a future release. To remove this warning, do the following: 1) Pass option use_label_encoder=False when constructing XGBClassifier object; and 2) Encode your labels (y) as integers starting with 0, i.e. 0, 1, 2, ..., [num_class - 1].\n",
      "  warnings.warn(label_encoder_deprecation_msg, UserWarning)\n",
      "/Library/Frameworks/Python.framework/Versions/3.9/lib/python3.9/site-packages/xgboost/sklearn.py:1146: UserWarning: The use of label encoder in XGBClassifier is deprecated and will be removed in a future release. To remove this warning, do the following: 1) Pass option use_label_encoder=False when constructing XGBClassifier object; and 2) Encode your labels (y) as integers starting with 0, i.e. 0, 1, 2, ..., [num_class - 1].\n",
      "  warnings.warn(label_encoder_deprecation_msg, UserWarning)\n",
      "/Library/Frameworks/Python.framework/Versions/3.9/lib/python3.9/site-packages/xgboost/sklearn.py:1146: UserWarning: The use of label encoder in XGBClassifier is deprecated and will be removed in a future release. To remove this warning, do the following: 1) Pass option use_label_encoder=False when constructing XGBClassifier object; and 2) Encode your labels (y) as integers starting with 0, i.e. 0, 1, 2, ..., [num_class - 1].\n",
      "  warnings.warn(label_encoder_deprecation_msg, UserWarning)\n"
     ]
    }
   ],
   "source": [
    "best_model = create_model(model_matrix)\n",
    "final_model = finalize_model(best_model)"
   ]
  },
  {
   "cell_type": "markdown",
   "id": "3aab9021-4462-423a-8e3c-fbe1f36c6110",
   "metadata": {},
   "source": [
    "### Let's load in our 2021 season data and get retention scores using the model:"
   ]
  },
  {
   "cell_type": "code",
   "execution_count": 11,
   "id": "c249a813-c882-4869-9490-6ab766a8c223",
   "metadata": {},
   "outputs": [
    {
     "data": {
      "text/plain": [
       "(611, 54)"
      ]
     },
     "execution_count": 11,
     "metadata": {},
     "output_type": "execute_result"
    }
   ],
   "source": [
    "df_inference = df.loc[df[\"year\"] >= 2020]\n",
    "df_inference = df_inference.fillna(0)\n",
    "df_inference.shape"
   ]
  },
  {
   "cell_type": "code",
   "execution_count": 12,
   "id": "745b62fb-fb2e-4b4a-9c48-8ce4de472a83",
   "metadata": {},
   "outputs": [
    {
     "data": {
      "text/html": [
       "<div>\n",
       "<style scoped>\n",
       "    .dataframe tbody tr th:only-of-type {\n",
       "        vertical-align: middle;\n",
       "    }\n",
       "\n",
       "    .dataframe tbody tr th {\n",
       "        vertical-align: top;\n",
       "    }\n",
       "\n",
       "    .dataframe thead th {\n",
       "        text-align: right;\n",
       "    }\n",
       "</style>\n",
       "<table border=\"1\" class=\"dataframe\">\n",
       "  <thead>\n",
       "    <tr style=\"text-align: right;\">\n",
       "      <th></th>\n",
       "      <th>lkupClientId</th>\n",
       "      <th>dimCustomerMasterId</th>\n",
       "      <th>customerNumber</th>\n",
       "      <th>year</th>\n",
       "      <th>productGrouping</th>\n",
       "      <th>totalSpent</th>\n",
       "      <th>recentDate</th>\n",
       "      <th>attendancePercent</th>\n",
       "      <th>renewedBeforeDays</th>\n",
       "      <th>isBuyer</th>\n",
       "      <th>...</th>\n",
       "      <th>education</th>\n",
       "      <th>urbanicity</th>\n",
       "      <th>credits_after_refund</th>\n",
       "      <th>is_Lockdown</th>\n",
       "      <th>NumberofGamesPerSeason</th>\n",
       "      <th>CNTPostponedGames</th>\n",
       "      <th>isNextYear_Buyer</th>\n",
       "      <th>Label</th>\n",
       "      <th>Score_0</th>\n",
       "      <th>Score_1</th>\n",
       "    </tr>\n",
       "  </thead>\n",
       "  <tbody>\n",
       "    <tr>\n",
       "      <th>5717</th>\n",
       "      <td>27</td>\n",
       "      <td>323074161</td>\n",
       "      <td>535900</td>\n",
       "      <td>2020</td>\n",
       "      <td>Half Season</td>\n",
       "      <td>3637.2</td>\n",
       "      <td>1970-01-01</td>\n",
       "      <td>0.0</td>\n",
       "      <td>48.0</td>\n",
       "      <td>TRUE</td>\n",
       "      <td>...</td>\n",
       "      <td>0</td>\n",
       "      <td>0</td>\n",
       "      <td>0.0</td>\n",
       "      <td>1</td>\n",
       "      <td>78</td>\n",
       "      <td>0</td>\n",
       "      <td>0</td>\n",
       "      <td>0</td>\n",
       "      <td>0.6630</td>\n",
       "      <td>0.3370</td>\n",
       "    </tr>\n",
       "    <tr>\n",
       "      <th>5718</th>\n",
       "      <td>27</td>\n",
       "      <td>323074257</td>\n",
       "      <td>535347</td>\n",
       "      <td>2020</td>\n",
       "      <td>Full Season</td>\n",
       "      <td>910.0</td>\n",
       "      <td>1970-01-01</td>\n",
       "      <td>0.0</td>\n",
       "      <td>53.0</td>\n",
       "      <td>TRUE</td>\n",
       "      <td>...</td>\n",
       "      <td>0</td>\n",
       "      <td>0</td>\n",
       "      <td>0.0</td>\n",
       "      <td>1</td>\n",
       "      <td>78</td>\n",
       "      <td>0</td>\n",
       "      <td>0</td>\n",
       "      <td>0</td>\n",
       "      <td>0.8372</td>\n",
       "      <td>0.1628</td>\n",
       "    </tr>\n",
       "    <tr>\n",
       "      <th>5719</th>\n",
       "      <td>27</td>\n",
       "      <td>323074446</td>\n",
       "      <td>320356</td>\n",
       "      <td>2020</td>\n",
       "      <td>Full Season</td>\n",
       "      <td>1575.0</td>\n",
       "      <td>1970-01-01</td>\n",
       "      <td>0.0</td>\n",
       "      <td>90.0</td>\n",
       "      <td>TRUE</td>\n",
       "      <td>...</td>\n",
       "      <td>0</td>\n",
       "      <td>0</td>\n",
       "      <td>0.0</td>\n",
       "      <td>1</td>\n",
       "      <td>78</td>\n",
       "      <td>0</td>\n",
       "      <td>0</td>\n",
       "      <td>0</td>\n",
       "      <td>0.7549</td>\n",
       "      <td>0.2451</td>\n",
       "    </tr>\n",
       "    <tr>\n",
       "      <th>5720</th>\n",
       "      <td>27</td>\n",
       "      <td>323075109</td>\n",
       "      <td>317372</td>\n",
       "      <td>2020</td>\n",
       "      <td>Half Season</td>\n",
       "      <td>1050.0</td>\n",
       "      <td>1970-01-01</td>\n",
       "      <td>0.0</td>\n",
       "      <td>50.0</td>\n",
       "      <td>TRUE</td>\n",
       "      <td>...</td>\n",
       "      <td>0</td>\n",
       "      <td>0</td>\n",
       "      <td>0.0</td>\n",
       "      <td>1</td>\n",
       "      <td>78</td>\n",
       "      <td>0</td>\n",
       "      <td>0</td>\n",
       "      <td>0</td>\n",
       "      <td>0.7547</td>\n",
       "      <td>0.2453</td>\n",
       "    </tr>\n",
       "    <tr>\n",
       "      <th>5721</th>\n",
       "      <td>27</td>\n",
       "      <td>323075790</td>\n",
       "      <td>399253</td>\n",
       "      <td>2020</td>\n",
       "      <td>Half Season</td>\n",
       "      <td>7274.4</td>\n",
       "      <td>1970-01-01</td>\n",
       "      <td>0.0</td>\n",
       "      <td>48.0</td>\n",
       "      <td>TRUE</td>\n",
       "      <td>...</td>\n",
       "      <td>0</td>\n",
       "      <td>0</td>\n",
       "      <td>0.0</td>\n",
       "      <td>1</td>\n",
       "      <td>78</td>\n",
       "      <td>0</td>\n",
       "      <td>0</td>\n",
       "      <td>1</td>\n",
       "      <td>0.3449</td>\n",
       "      <td>0.6551</td>\n",
       "    </tr>\n",
       "  </tbody>\n",
       "</table>\n",
       "<p>5 rows × 57 columns</p>\n",
       "</div>"
      ],
      "text/plain": [
       "      lkupClientId  dimCustomerMasterId customerNumber  year productGrouping  \\\n",
       "5717            27            323074161         535900  2020     Half Season   \n",
       "5718            27            323074257         535347  2020     Full Season   \n",
       "5719            27            323074446         320356  2020     Full Season   \n",
       "5720            27            323075109         317372  2020     Half Season   \n",
       "5721            27            323075790         399253  2020     Half Season   \n",
       "\n",
       "      totalSpent  recentDate  attendancePercent  renewedBeforeDays isBuyer  \\\n",
       "5717      3637.2  1970-01-01                0.0               48.0    TRUE   \n",
       "5718       910.0  1970-01-01                0.0               53.0    TRUE   \n",
       "5719      1575.0  1970-01-01                0.0               90.0    TRUE   \n",
       "5720      1050.0  1970-01-01                0.0               50.0    TRUE   \n",
       "5721      7274.4  1970-01-01                0.0               48.0    TRUE   \n",
       "\n",
       "      ...  education  urbanicity  credits_after_refund  is_Lockdown  \\\n",
       "5717  ...          0           0                   0.0            1   \n",
       "5718  ...          0           0                   0.0            1   \n",
       "5719  ...          0           0                   0.0            1   \n",
       "5720  ...          0           0                   0.0            1   \n",
       "5721  ...          0           0                   0.0            1   \n",
       "\n",
       "      NumberofGamesPerSeason  CNTPostponedGames  isNextYear_Buyer  Label  \\\n",
       "5717                      78                  0                 0      0   \n",
       "5718                      78                  0                 0      0   \n",
       "5719                      78                  0                 0      0   \n",
       "5720                      78                  0                 0      0   \n",
       "5721                      78                  0                 0      1   \n",
       "\n",
       "      Score_0  Score_1  \n",
       "5717   0.6630   0.3370  \n",
       "5718   0.8372   0.1628  \n",
       "5719   0.7549   0.2451  \n",
       "5720   0.7547   0.2453  \n",
       "5721   0.3449   0.6551  \n",
       "\n",
       "[5 rows x 57 columns]"
      ]
     },
     "execution_count": 12,
     "metadata": {},
     "output_type": "execute_result"
    }
   ],
   "source": [
    "new_predictions = predict_model(final_model, data=df_inference, raw_score=True)\n",
    "new_predictions.head()"
   ]
  },
  {
   "cell_type": "code",
   "execution_count": 13,
   "id": "c98d3de4-966c-4d4a-af8f-e4a2d78eed38",
   "metadata": {},
   "outputs": [
    {
     "data": {
      "text/plain": [
       "1    326\n",
       "0    285\n",
       "Name: Label, dtype: int64"
      ]
     },
     "execution_count": 13,
     "metadata": {},
     "output_type": "execute_result"
    }
   ],
   "source": [
    "new_predictions[\"Label\"].value_counts()"
   ]
  },
  {
   "cell_type": "code",
   "execution_count": 14,
   "id": "95e96920-bc9c-4b50-837c-89e392d13449",
   "metadata": {},
   "outputs": [
    {
     "data": {
      "text/plain": [
       "(0.6, 0.8]       275\n",
       "(0.2, 0.4]       138\n",
       "(-0.001, 0.2]     99\n",
       "(0.4, 0.6]        78\n",
       "(0.8, 1.0]        21\n",
       "Name: Score_1, dtype: int64"
      ]
     },
     "execution_count": 14,
     "metadata": {},
     "output_type": "execute_result"
    }
   ],
   "source": [
    "new_predictions[\"Score_1\"].value_counts(bins=[0, 0.2, 0.4, 0.6, 0.8, 1.0])"
   ]
  },
  {
   "cell_type": "code",
   "execution_count": 15,
   "id": "3b4b1d51-1c33-489a-95f6-ab75e428c760",
   "metadata": {},
   "outputs": [
    {
     "data": {
      "text/plain": [
       "array([[<AxesSubplot:title={'center':'Score_1'}>]], dtype=object)"
      ]
     },
     "execution_count": 15,
     "metadata": {},
     "output_type": "execute_result"
    },
    {
     "data": {
      "image/png": "[encoded data removed]",
      "text/plain": [
       "<Figure size 720x360 with 1 Axes>"
      ]
     },
     "metadata": {
      "needs_background": "light"
     },
     "output_type": "display_data"
    }
   ],
   "source": [
    "new_predictions[new_predictions[\"Label\"]==1][[\"Score_1\"]].hist(bins=30, figsize=(10,5), range=[0,1])"
   ]
  },
  {
   "cell_type": "code",
   "execution_count": 16,
   "id": "144bd27b-9798-4f8b-a3a3-95298d8e2c01",
   "metadata": {},
   "outputs": [
    {
     "data": {
      "image/png": "[encoded data removed]",
      "text/plain": [
       "<Figure size 800x500 with 1 Axes>"
      ]
     },
     "metadata": {},
     "output_type": "display_data"
    }
   ],
   "source": [
    "plot_model(best_model, plot='feature')"
   ]
  },
  {
   "cell_type": "code",
   "execution_count": 17,
   "id": "79e34840-9a47-486f-a648-6d5d16d73b89",
   "metadata": {},
   "outputs": [
    {
     "data": {
      "image/png": "[encoded data removed]",
      "text/plain": [
       "<Figure size 576x396 with 1 Axes>"
      ]
     },
     "metadata": {},
     "output_type": "display_data"
    }
   ],
   "source": [
    "plot_model(best_model, plot='confusion_matrix')"
   ]
  },
  {
   "cell_type": "markdown",
   "id": "a439108b-7911-4384-b089-f7b31c825192",
   "metadata": {},
   "source": [
    "## Observations\n",
    "Here you can document some ideas on the results from above\n"
   ]
  },
  {
   "cell_type": "markdown",
   "id": "d2de91b5-a1e8-42a5-a087-8c31ff2e1db3",
   "metadata": {},
   "source": [
    "## Conclusions\n",
    "Here you can talk about next steps, did the experiment work? If yes, what to do next? If no, why?"
   ]
  },
  {
   "cell_type": "code",
   "execution_count": null,
   "id": "ea239da3-8648-4883-a4a7-2be9f665c05e",
   "metadata": {},
   "outputs": [],
   "source": []
  }
 ],
 "metadata": {
  "kernelspec": {
   "display_name": "Python 3 (ipykernel)",
   "language": "python",
   "name": "python3"
  },
  "language_info": {
   "codemirror_mode": {
    "name": "ipython",
    "version": 3
   },
   "file_extension": ".py",
   "mimetype": "text/x-python",
   "name": "python",
   "nbconvert_exporter": "python",
   "pygments_lexer": "ipython3",
   "version": "3.9.4"
  }
 },
 "nbformat": 4,
 "nbformat_minor": 5
}
