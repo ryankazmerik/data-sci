{
 "cells": [
  {
   "cell_type": "markdown",
   "id": "6ee08766-25fd-4da1-91b8-b0c3e74db588",
   "metadata": {},
   "source": [
    "# hartfordyardgoats - Stlr features\n",
    "* StelllarAlgo Data Science\n",
    "* Ryan Kazmerik & Nakisa Rad\n",
    "* Jan 24, 2022"
   ]
  },
  {
   "cell_type": "markdown",
   "id": "39108c8d-2e9f-4759-ade2-83071038dc56",
   "metadata": {},
   "source": [
    "## Hypothesis\n",
    "The goal of this notebook is to compare the results of the model with the model using standard StellarAlgo features with the engineered retention model features."
   ]
  },
  {
   "cell_type": "markdown",
   "id": "28142011-1f32-4cc7-816b-a6dae6f70c8c",
   "metadata": {},
   "source": [
    "## Experiment\n",
    "This section details our experiment including querying data, data transformations, feature selection and modelling."
   ]
  },
  {
   "cell_type": "code",
   "execution_count": 1,
   "id": "4c533efd-600e-4bce-8203-faffbddfa700",
   "metadata": {},
   "outputs": [],
   "source": [
    "import getpass\n",
    "import pyodbc\n",
    "import pandas as pd\n",
    "import warnings\n",
    "import matplotlib.pyplot as plt\n",
    "\n",
    "from pycaret.classification import *\n",
    "\n",
    "warnings.filterwarnings('ignore')"
   ]
  },
  {
   "cell_type": "markdown",
   "id": "b64ae7d5-84af-4915-bd13-1dd9d17098a3",
   "metadata": {},
   "source": [
    "### Let's connect to MSSQL and run a stored proc to get our dataset:"
   ]
  },
  {
   "cell_type": "code",
   "execution_count": 2,
   "id": "ae561eb4-f419-4d46-b5e0-12fac9b10db8",
   "metadata": {},
   "outputs": [],
   "source": [
    "# connect to SQL Server.\n",
    "SERVER = '34.206.73.189' \n",
    "DATABASE = 'datascience' \n",
    "USERNAME = 'nrad' \n",
    "PASSWORD = getpass.getpass(prompt='Enter your password')\n",
    "CNXN = pyodbc.connect('DRIVER={ODBC Driver 17 for SQL Server};SERVER='+SERVER+';DATABASE='+DATABASE+';UID='+USERNAME+';PWD='+ PASSWORD)"
   ]
  },
  {
   "cell_type": "code",
   "execution_count": 3,
   "id": "af1afe7d-a35b-494b-88f3-980fb0e3da30",
   "metadata": {},
   "outputs": [
    {
     "data": {
      "text/plain": [
       "(2083, 54)"
      ]
     },
     "execution_count": 3,
     "metadata": {},
     "output_type": "execute_result"
    }
   ],
   "source": [
    "lkupclientid = 44 # hartfordyardgoats\n",
    "cursor = CNXN.cursor()\n",
    "\n",
    "storedProc = (\n",
    "    f\"\"\"Exec [stlrMILB].[ds].[getRetentionScoringModelData] {lkupclientid}\"\"\"\n",
    ")\n",
    "\n",
    "df = pd.read_sql(storedProc, CNXN)\n",
    "\n",
    "# apply some data transformations\n",
    "df[\"year\"] = pd.to_numeric(df[\"year\"])\n",
    "\n",
    "CNXN.commit()\n",
    "cursor.close()\n",
    "\n",
    "df.shape"
   ]
  },
  {
   "cell_type": "code",
   "execution_count": 4,
   "id": "11e97dcc-c69e-46c1-8dad-33f6291cb0c6",
   "metadata": {},
   "outputs": [
    {
     "name": "stdout",
     "output_type": "stream",
     "text": [
      "<class 'pandas.core.frame.DataFrame'>\n",
      "RangeIndex: 2083 entries, 0 to 2082\n",
      "Data columns (total 54 columns):\n",
      " #   Column                  Non-Null Count  Dtype  \n",
      "---  ------                  --------------  -----  \n",
      " 0   lkupClientId            2083 non-null   int64  \n",
      " 1   dimCustomerMasterId     2083 non-null   int64  \n",
      " 2   customerNumber          2083 non-null   object \n",
      " 3   year                    2083 non-null   int64  \n",
      " 4   productGrouping         2083 non-null   object \n",
      " 5   totalSpent              2083 non-null   float64\n",
      " 6   recentDate              2083 non-null   object \n",
      " 7   attendancePercent       2083 non-null   float64\n",
      " 8   renewedBeforeDays       2083 non-null   int64  \n",
      " 9   isBuyer                 2083 non-null   object \n",
      " 10  source_tenure           2083 non-null   int64  \n",
      " 11  tenure                  2083 non-null   int64  \n",
      " 12  distToVenue             2083 non-null   float64\n",
      " 13  totalGames              2083 non-null   int64  \n",
      " 14  recency                 2083 non-null   int64  \n",
      " 15  missed_games_1          2083 non-null   int64  \n",
      " 16  missed_games_2          2083 non-null   int64  \n",
      " 17  missed_games_over_2     2083 non-null   int64  \n",
      " 18  click_link              2083 non-null   int64  \n",
      " 19  fill_out_form           2083 non-null   int64  \n",
      " 20  open_email              2083 non-null   int64  \n",
      " 21  send_email              2083 non-null   int64  \n",
      " 22  unsubscribe_email       2083 non-null   int64  \n",
      " 23  openToSendRatio         2083 non-null   float64\n",
      " 24  clickToSendRatio        2083 non-null   float64\n",
      " 25  clickToOpenRatio        2083 non-null   float64\n",
      " 26  posting_records         2083 non-null   int64  \n",
      " 27  resale_records          2083 non-null   int64  \n",
      " 28  resale_atp              2083 non-null   float64\n",
      " 29  forward_records         2083 non-null   int64  \n",
      " 30  cancel_records          2083 non-null   int64  \n",
      " 31  email                   2083 non-null   int64  \n",
      " 32  inbound_email           2083 non-null   int64  \n",
      " 33  inbound_phonecall       2083 non-null   int64  \n",
      " 34  inperson_contact        2083 non-null   int64  \n",
      " 35  internal_note           2083 non-null   int64  \n",
      " 36  left_message            2083 non-null   int64  \n",
      " 37  outbound_email          2083 non-null   int64  \n",
      " 38  outbound_phonecall      2083 non-null   int64  \n",
      " 39  phonecall               2083 non-null   int64  \n",
      " 40  text                    2083 non-null   int64  \n",
      " 41  unknown                 2083 non-null   int64  \n",
      " 42  gender                  2083 non-null   object \n",
      " 43  childrenPresentInHH     2083 non-null   int64  \n",
      " 44  maritalStatus           2083 non-null   int64  \n",
      " 45  lengthOfResidenceInYrs  0 non-null      object \n",
      " 46  annualHHIncome          0 non-null      object \n",
      " 47  education               0 non-null      object \n",
      " 48  urbanicity              0 non-null      object \n",
      " 49  credits_after_refund    2083 non-null   float64\n",
      " 50  is_Lockdown             2083 non-null   int64  \n",
      " 51  NumberofGamesPerSeason  2083 non-null   int64  \n",
      " 52  CNTPostponedGames       0 non-null      object \n",
      " 53  isNextYear_Buyer        2083 non-null   int64  \n",
      "dtypes: float64(8), int64(36), object(10)\n",
      "memory usage: 878.9+ KB\n"
     ]
    }
   ],
   "source": [
    "df.info()"
   ]
  },
  {
   "cell_type": "markdown",
   "id": "ab40da92-72a7-49c1-9829-ed3805a39719",
   "metadata": {},
   "source": [
    "### We should specify the features used in our model:"
   ]
  },
  {
   "cell_type": "code",
   "execution_count": 5,
   "id": "788f1273-8b7a-46bd-a099-1a471feeacc5",
   "metadata": {},
   "outputs": [
    {
     "name": "stdout",
     "output_type": "stream",
     "text": [
      "Data for Modeling: (1406, 13)\n",
      "Unseen Data For Predictions: (248, 13)\n",
      "\n"
     ]
    }
   ],
   "source": [
    "# choose the features for the stellar base retention model\n",
    "features = [\n",
    "    \"dimCustomerMasterId\",\n",
    "                \"attendancePercent\",\n",
    "                \"distToVenue\",\n",
    "                \"missed_games_1\",\n",
    "                \"missed_games_2\",\n",
    "                \"missed_games_over_2\",\n",
    "                \"totalSpent\",\n",
    "                \"recency\",\n",
    "                \"source_tenure\",\n",
    "                \"renewedBeforeDays\",\n",
    "                \"isNextYear_Buyer\",\n",
    "                \"productGrouping\",\n",
    "                \"year\"\n",
    "]\n",
    "\n",
    "# copy your main dataframe\n",
    "df_dataset = df\n",
    "\n",
    "# choose the features & train year & test year\n",
    "df_dataset = df_dataset[features]\n",
    "df_dataset[\"year\"] = pd.to_numeric(df_dataset[\"year\"])\n",
    "df_dataset = df_dataset.loc[df_dataset[\"year\"] <= 2019]\n",
    "\n",
    "df_train = df_dataset.sample(frac=0.85, random_state=786)\n",
    "df_eval = df_dataset.drop(df_train.index)\n",
    "\n",
    "df_train.reset_index(drop=True, inplace=True)\n",
    "df_eval.reset_index(drop=True, inplace=True)\n",
    "\n",
    "# print out the number of records for training and eval\n",
    "print('Data for Modeling: ' + str(df_train.shape))\n",
    "print('Unseen Data For Predictions: ' + str(df_eval.shape), end=\"\\n\\n\")"
   ]
  },
  {
   "cell_type": "markdown",
   "id": "4f2da06d-9015-49fd-89b3-956c2ebf66e9",
   "metadata": {},
   "source": [
    "### Now we can model the data using a binary classification prediction for the isnextyear_buyer field to see how likely a customer is to re-purchase."
   ]
  },
  {
   "cell_type": "code",
   "execution_count": 6,
   "id": "23a69cdc-b3ec-48c8-9ce5-29f617779389",
   "metadata": {},
   "outputs": [],
   "source": [
    "setup(\n",
    "    data= df_train, \n",
    "    target=\"isNextYear_Buyer\", \n",
    "    train_size = 0.85,\n",
    "    data_split_shuffle=True,\n",
    "    ignore_features=[\"dimCustomerMasterId\",\"productGrouping\",\"year\"],\n",
    "    silent=True,\n",
    "    verbose=False,\n",
    "    numeric_features=[\n",
    "    \"attendancePercent\",\n",
    "                \"distToVenue\",\n",
    "                \"missed_games_1\",\n",
    "                \"missed_games_2\",\n",
    "                \"missed_games_over_2\",\n",
    "                \"totalSpent\",\n",
    "                \"recency\",\n",
    "                \"source_tenure\",\n",
    "                \"renewedBeforeDays\"\n",
    "    ]\n",
    ");"
   ]
  },
  {
   "cell_type": "code",
   "execution_count": 7,
   "id": "ef2db9d2-02c2-45c0-b6bb-5cad42c373ce",
   "metadata": {},
   "outputs": [
    {
     "data": {
      "text/html": [
       "<style  type=\"text/css\" >\n",
       "    #T_dbf80_ th {\n",
       "          text-align: left;\n",
       "    }#T_dbf80_row0_col0,#T_dbf80_row1_col0,#T_dbf80_row1_col1,#T_dbf80_row1_col2,#T_dbf80_row1_col3,#T_dbf80_row1_col4,#T_dbf80_row1_col5,#T_dbf80_row1_col6,#T_dbf80_row1_col7{\n",
       "            text-align:  left;\n",
       "            text-align:  left;\n",
       "        }#T_dbf80_row0_col1,#T_dbf80_row0_col2,#T_dbf80_row0_col3,#T_dbf80_row0_col4,#T_dbf80_row0_col5,#T_dbf80_row0_col6,#T_dbf80_row0_col7{\n",
       "            text-align:  left;\n",
       "            text-align:  left;\n",
       "            background-color:  yellow;\n",
       "        }#T_dbf80_row0_col8{\n",
       "            text-align:  left;\n",
       "            text-align:  left;\n",
       "            background-color:  yellow;\n",
       "            background-color:  lightgrey;\n",
       "        }#T_dbf80_row1_col8{\n",
       "            text-align:  left;\n",
       "            text-align:  left;\n",
       "            background-color:  lightgrey;\n",
       "        }</style><table id=\"T_dbf80_\" ><thead>    <tr>        <th class=\"blank level0\" ></th>        <th class=\"col_heading level0 col0\" >Model</th>        <th class=\"col_heading level0 col1\" >Accuracy</th>        <th class=\"col_heading level0 col2\" >AUC</th>        <th class=\"col_heading level0 col3\" >Recall</th>        <th class=\"col_heading level0 col4\" >Prec.</th>        <th class=\"col_heading level0 col5\" >F1</th>        <th class=\"col_heading level0 col6\" >Kappa</th>        <th class=\"col_heading level0 col7\" >MCC</th>        <th class=\"col_heading level0 col8\" >TT (Sec)</th>    </tr></thead><tbody>\n",
       "                <tr>\n",
       "                        <th id=\"T_dbf80_level0_row0\" class=\"row_heading level0 row0\" >xgboost</th>\n",
       "                        <td id=\"T_dbf80_row0_col0\" class=\"data row0 col0\" >Extreme Gradient Boosting</td>\n",
       "                        <td id=\"T_dbf80_row0_col1\" class=\"data row0 col1\" >0.7716</td>\n",
       "                        <td id=\"T_dbf80_row0_col2\" class=\"data row0 col2\" >0.8598</td>\n",
       "                        <td id=\"T_dbf80_row0_col3\" class=\"data row0 col3\" >0.7848</td>\n",
       "                        <td id=\"T_dbf80_row0_col4\" class=\"data row0 col4\" >0.7265</td>\n",
       "                        <td id=\"T_dbf80_row0_col5\" class=\"data row0 col5\" >0.7540</td>\n",
       "                        <td id=\"T_dbf80_row0_col6\" class=\"data row0 col6\" >0.5414</td>\n",
       "                        <td id=\"T_dbf80_row0_col7\" class=\"data row0 col7\" >0.5436</td>\n",
       "                        <td id=\"T_dbf80_row0_col8\" class=\"data row0 col8\" >0.2580</td>\n",
       "            </tr>\n",
       "            <tr>\n",
       "                        <th id=\"T_dbf80_level0_row1\" class=\"row_heading level0 row1\" >lr</th>\n",
       "                        <td id=\"T_dbf80_row1_col0\" class=\"data row1 col0\" >Logistic Regression</td>\n",
       "                        <td id=\"T_dbf80_row1_col1\" class=\"data row1 col1\" >0.7087</td>\n",
       "                        <td id=\"T_dbf80_row1_col2\" class=\"data row1 col2\" >0.7802</td>\n",
       "                        <td id=\"T_dbf80_row1_col3\" class=\"data row1 col3\" >0.6607</td>\n",
       "                        <td id=\"T_dbf80_row1_col4\" class=\"data row1 col4\" >0.6790</td>\n",
       "                        <td id=\"T_dbf80_row1_col5\" class=\"data row1 col5\" >0.6680</td>\n",
       "                        <td id=\"T_dbf80_row1_col6\" class=\"data row1 col6\" >0.4088</td>\n",
       "                        <td id=\"T_dbf80_row1_col7\" class=\"data row1 col7\" >0.4104</td>\n",
       "                        <td id=\"T_dbf80_row1_col8\" class=\"data row1 col8\" >0.4090</td>\n",
       "            </tr>\n",
       "    </tbody></table>"
      ],
      "text/plain": [
       "<pandas.io.formats.style.Styler at 0x7ff08293c9d0>"
      ]
     },
     "metadata": {},
     "output_type": "display_data"
    }
   ],
   "source": [
    "model_matrix = compare_models(\n",
    "    fold=10,\n",
    "    include=[\"lr\", \"xgboost\"]\n",
    ")"
   ]
  },
  {
   "cell_type": "code",
   "execution_count": 8,
   "id": "d9f030ed-4b6a-4a87-a01e-129dc49e0d4a",
   "metadata": {},
   "outputs": [
    {
     "data": {
      "text/html": [
       "<style  type=\"text/css\" >\n",
       "#T_47576_row10_col0,#T_47576_row10_col1,#T_47576_row10_col2,#T_47576_row10_col3,#T_47576_row10_col4,#T_47576_row10_col5,#T_47576_row10_col6{\n",
       "            background:  yellow;\n",
       "        }</style><table id=\"T_47576_\" ><thead>    <tr>        <th class=\"blank level0\" ></th>        <th class=\"col_heading level0 col0\" >Accuracy</th>        <th class=\"col_heading level0 col1\" >AUC</th>        <th class=\"col_heading level0 col2\" >Recall</th>        <th class=\"col_heading level0 col3\" >Prec.</th>        <th class=\"col_heading level0 col4\" >F1</th>        <th class=\"col_heading level0 col5\" >Kappa</th>        <th class=\"col_heading level0 col6\" >MCC</th>    </tr></thead><tbody>\n",
       "                <tr>\n",
       "                        <th id=\"T_47576_level0_row0\" class=\"row_heading level0 row0\" >0</th>\n",
       "                        <td id=\"T_47576_row0_col0\" class=\"data row0 col0\" >0.7333</td>\n",
       "                        <td id=\"T_47576_row0_col1\" class=\"data row0 col1\" >0.8423</td>\n",
       "                        <td id=\"T_47576_row0_col2\" class=\"data row0 col2\" >0.7222</td>\n",
       "                        <td id=\"T_47576_row0_col3\" class=\"data row0 col3\" >0.6964</td>\n",
       "                        <td id=\"T_47576_row0_col4\" class=\"data row0 col4\" >0.7091</td>\n",
       "                        <td id=\"T_47576_row0_col5\" class=\"data row0 col5\" >0.4631</td>\n",
       "                        <td id=\"T_47576_row0_col6\" class=\"data row0 col6\" >0.4633</td>\n",
       "            </tr>\n",
       "            <tr>\n",
       "                        <th id=\"T_47576_level0_row1\" class=\"row_heading level0 row1\" >1</th>\n",
       "                        <td id=\"T_47576_row1_col0\" class=\"data row1 col0\" >0.7333</td>\n",
       "                        <td id=\"T_47576_row1_col1\" class=\"data row1 col1\" >0.8151</td>\n",
       "                        <td id=\"T_47576_row1_col2\" class=\"data row1 col2\" >0.7407</td>\n",
       "                        <td id=\"T_47576_row1_col3\" class=\"data row1 col3\" >0.6897</td>\n",
       "                        <td id=\"T_47576_row1_col4\" class=\"data row1 col4\" >0.7143</td>\n",
       "                        <td id=\"T_47576_row1_col5\" class=\"data row1 col5\" >0.4649</td>\n",
       "                        <td id=\"T_47576_row1_col6\" class=\"data row1 col6\" >0.4659</td>\n",
       "            </tr>\n",
       "            <tr>\n",
       "                        <th id=\"T_47576_level0_row2\" class=\"row_heading level0 row2\" >2</th>\n",
       "                        <td id=\"T_47576_row2_col0\" class=\"data row2 col0\" >0.7833</td>\n",
       "                        <td id=\"T_47576_row2_col1\" class=\"data row2 col1\" >0.8765</td>\n",
       "                        <td id=\"T_47576_row2_col2\" class=\"data row2 col2\" >0.7963</td>\n",
       "                        <td id=\"T_47576_row2_col3\" class=\"data row2 col3\" >0.7414</td>\n",
       "                        <td id=\"T_47576_row2_col4\" class=\"data row2 col4\" >0.7679</td>\n",
       "                        <td id=\"T_47576_row2_col5\" class=\"data row2 col5\" >0.5652</td>\n",
       "                        <td id=\"T_47576_row2_col6\" class=\"data row2 col6\" >0.5665</td>\n",
       "            </tr>\n",
       "            <tr>\n",
       "                        <th id=\"T_47576_level0_row3\" class=\"row_heading level0 row3\" >3</th>\n",
       "                        <td id=\"T_47576_row3_col0\" class=\"data row3 col0\" >0.8083</td>\n",
       "                        <td id=\"T_47576_row3_col1\" class=\"data row3 col1\" >0.8760</td>\n",
       "                        <td id=\"T_47576_row3_col2\" class=\"data row3 col2\" >0.8148</td>\n",
       "                        <td id=\"T_47576_row3_col3\" class=\"data row3 col3\" >0.7719</td>\n",
       "                        <td id=\"T_47576_row3_col4\" class=\"data row3 col4\" >0.7928</td>\n",
       "                        <td id=\"T_47576_row3_col5\" class=\"data row3 col5\" >0.6147</td>\n",
       "                        <td id=\"T_47576_row3_col6\" class=\"data row3 col6\" >0.6155</td>\n",
       "            </tr>\n",
       "            <tr>\n",
       "                        <th id=\"T_47576_level0_row4\" class=\"row_heading level0 row4\" >4</th>\n",
       "                        <td id=\"T_47576_row4_col0\" class=\"data row4 col0\" >0.7667</td>\n",
       "                        <td id=\"T_47576_row4_col1\" class=\"data row4 col1\" >0.8733</td>\n",
       "                        <td id=\"T_47576_row4_col2\" class=\"data row4 col2\" >0.7925</td>\n",
       "                        <td id=\"T_47576_row4_col3\" class=\"data row4 col3\" >0.7119</td>\n",
       "                        <td id=\"T_47576_row4_col4\" class=\"data row4 col4\" >0.7500</td>\n",
       "                        <td id=\"T_47576_row4_col5\" class=\"data row4 col5\" >0.5324</td>\n",
       "                        <td id=\"T_47576_row4_col6\" class=\"data row4 col6\" >0.5351</td>\n",
       "            </tr>\n",
       "            <tr>\n",
       "                        <th id=\"T_47576_level0_row5\" class=\"row_heading level0 row5\" >5</th>\n",
       "                        <td id=\"T_47576_row5_col0\" class=\"data row5 col0\" >0.7899</td>\n",
       "                        <td id=\"T_47576_row5_col1\" class=\"data row5 col1\" >0.8608</td>\n",
       "                        <td id=\"T_47576_row5_col2\" class=\"data row5 col2\" >0.8679</td>\n",
       "                        <td id=\"T_47576_row5_col3\" class=\"data row5 col3\" >0.7188</td>\n",
       "                        <td id=\"T_47576_row5_col4\" class=\"data row5 col4\" >0.7863</td>\n",
       "                        <td id=\"T_47576_row5_col5\" class=\"data row5 col5\" >0.5833</td>\n",
       "                        <td id=\"T_47576_row5_col6\" class=\"data row5 col6\" >0.5933</td>\n",
       "            </tr>\n",
       "            <tr>\n",
       "                        <th id=\"T_47576_level0_row6\" class=\"row_heading level0 row6\" >6</th>\n",
       "                        <td id=\"T_47576_row6_col0\" class=\"data row6 col0\" >0.7815</td>\n",
       "                        <td id=\"T_47576_row6_col1\" class=\"data row6 col1\" >0.8651</td>\n",
       "                        <td id=\"T_47576_row6_col2\" class=\"data row6 col2\" >0.7925</td>\n",
       "                        <td id=\"T_47576_row6_col3\" class=\"data row6 col3\" >0.7368</td>\n",
       "                        <td id=\"T_47576_row6_col4\" class=\"data row6 col4\" >0.7636</td>\n",
       "                        <td id=\"T_47576_row6_col5\" class=\"data row6 col5\" >0.5610</td>\n",
       "                        <td id=\"T_47576_row6_col6\" class=\"data row6 col6\" >0.5623</td>\n",
       "            </tr>\n",
       "            <tr>\n",
       "                        <th id=\"T_47576_level0_row7\" class=\"row_heading level0 row7\" >7</th>\n",
       "                        <td id=\"T_47576_row7_col0\" class=\"data row7 col0\" >0.7731</td>\n",
       "                        <td id=\"T_47576_row7_col1\" class=\"data row7 col1\" >0.8828</td>\n",
       "                        <td id=\"T_47576_row7_col2\" class=\"data row7 col2\" >0.7358</td>\n",
       "                        <td id=\"T_47576_row7_col3\" class=\"data row7 col3\" >0.7500</td>\n",
       "                        <td id=\"T_47576_row7_col4\" class=\"data row7 col4\" >0.7429</td>\n",
       "                        <td id=\"T_47576_row7_col5\" class=\"data row7 col5\" >0.5399</td>\n",
       "                        <td id=\"T_47576_row7_col6\" class=\"data row7 col6\" >0.5400</td>\n",
       "            </tr>\n",
       "            <tr>\n",
       "                        <th id=\"T_47576_level0_row8\" class=\"row_heading level0 row8\" >8</th>\n",
       "                        <td id=\"T_47576_row8_col0\" class=\"data row8 col0\" >0.7647</td>\n",
       "                        <td id=\"T_47576_row8_col1\" class=\"data row8 col1\" >0.8545</td>\n",
       "                        <td id=\"T_47576_row8_col2\" class=\"data row8 col2\" >0.7736</td>\n",
       "                        <td id=\"T_47576_row8_col3\" class=\"data row8 col3\" >0.7193</td>\n",
       "                        <td id=\"T_47576_row8_col4\" class=\"data row8 col4\" >0.7455</td>\n",
       "                        <td id=\"T_47576_row8_col5\" class=\"data row8 col5\" >0.5272</td>\n",
       "                        <td id=\"T_47576_row8_col6\" class=\"data row8 col6\" >0.5284</td>\n",
       "            </tr>\n",
       "            <tr>\n",
       "                        <th id=\"T_47576_level0_row9\" class=\"row_heading level0 row9\" >9</th>\n",
       "                        <td id=\"T_47576_row9_col0\" class=\"data row9 col0\" >0.7815</td>\n",
       "                        <td id=\"T_47576_row9_col1\" class=\"data row9 col1\" >0.8516</td>\n",
       "                        <td id=\"T_47576_row9_col2\" class=\"data row9 col2\" >0.8113</td>\n",
       "                        <td id=\"T_47576_row9_col3\" class=\"data row9 col3\" >0.7288</td>\n",
       "                        <td id=\"T_47576_row9_col4\" class=\"data row9 col4\" >0.7679</td>\n",
       "                        <td id=\"T_47576_row9_col5\" class=\"data row9 col5\" >0.5626</td>\n",
       "                        <td id=\"T_47576_row9_col6\" class=\"data row9 col6\" >0.5655</td>\n",
       "            </tr>\n",
       "            <tr>\n",
       "                        <th id=\"T_47576_level0_row10\" class=\"row_heading level0 row10\" >Mean</th>\n",
       "                        <td id=\"T_47576_row10_col0\" class=\"data row10 col0\" >0.7716</td>\n",
       "                        <td id=\"T_47576_row10_col1\" class=\"data row10 col1\" >0.8598</td>\n",
       "                        <td id=\"T_47576_row10_col2\" class=\"data row10 col2\" >0.7848</td>\n",
       "                        <td id=\"T_47576_row10_col3\" class=\"data row10 col3\" >0.7265</td>\n",
       "                        <td id=\"T_47576_row10_col4\" class=\"data row10 col4\" >0.7540</td>\n",
       "                        <td id=\"T_47576_row10_col5\" class=\"data row10 col5\" >0.5414</td>\n",
       "                        <td id=\"T_47576_row10_col6\" class=\"data row10 col6\" >0.5436</td>\n",
       "            </tr>\n",
       "            <tr>\n",
       "                        <th id=\"T_47576_level0_row11\" class=\"row_heading level0 row11\" >SD</th>\n",
       "                        <td id=\"T_47576_row11_col0\" class=\"data row11 col0\" >0.0224</td>\n",
       "                        <td id=\"T_47576_row11_col1\" class=\"data row11 col1\" >0.0192</td>\n",
       "                        <td id=\"T_47576_row11_col2\" class=\"data row11 col2\" >0.0414</td>\n",
       "                        <td id=\"T_47576_row11_col3\" class=\"data row11 col3\" >0.0235</td>\n",
       "                        <td id=\"T_47576_row11_col4\" class=\"data row11 col4\" >0.0261</td>\n",
       "                        <td id=\"T_47576_row11_col5\" class=\"data row11 col5\" >0.0456</td>\n",
       "                        <td id=\"T_47576_row11_col6\" class=\"data row11 col6\" >0.0467</td>\n",
       "            </tr>\n",
       "    </tbody></table>"
      ],
      "text/plain": [
       "<pandas.io.formats.style.Styler at 0x7ff082bef9d0>"
      ]
     },
     "metadata": {},
     "output_type": "display_data"
    },
    {
     "name": "stderr",
     "output_type": "stream",
     "text": [
      "/Library/Frameworks/Python.framework/Versions/3.9/lib/python3.9/site-packages/xgboost/sklearn.py:1146: UserWarning: The use of label encoder in XGBClassifier is deprecated and will be removed in a future release. To remove this warning, do the following: 1) Pass option use_label_encoder=False when constructing XGBClassifier object; and 2) Encode your labels (y) as integers starting with 0, i.e. 0, 1, 2, ..., [num_class - 1].\n",
      "  warnings.warn(label_encoder_deprecation_msg, UserWarning)\n",
      "/Library/Frameworks/Python.framework/Versions/3.9/lib/python3.9/site-packages/xgboost/sklearn.py:1146: UserWarning: The use of label encoder in XGBClassifier is deprecated and will be removed in a future release. To remove this warning, do the following: 1) Pass option use_label_encoder=False when constructing XGBClassifier object; and 2) Encode your labels (y) as integers starting with 0, i.e. 0, 1, 2, ..., [num_class - 1].\n",
      "  warnings.warn(label_encoder_deprecation_msg, UserWarning)\n",
      "/Library/Frameworks/Python.framework/Versions/3.9/lib/python3.9/site-packages/xgboost/sklearn.py:1146: UserWarning: The use of label encoder in XGBClassifier is deprecated and will be removed in a future release. To remove this warning, do the following: 1) Pass option use_label_encoder=False when constructing XGBClassifier object; and 2) Encode your labels (y) as integers starting with 0, i.e. 0, 1, 2, ..., [num_class - 1].\n",
      "  warnings.warn(label_encoder_deprecation_msg, UserWarning)\n",
      "/Library/Frameworks/Python.framework/Versions/3.9/lib/python3.9/site-packages/xgboost/sklearn.py:1146: UserWarning: The use of label encoder in XGBClassifier is deprecated and will be removed in a future release. To remove this warning, do the following: 1) Pass option use_label_encoder=False when constructing XGBClassifier object; and 2) Encode your labels (y) as integers starting with 0, i.e. 0, 1, 2, ..., [num_class - 1].\n",
      "  warnings.warn(label_encoder_deprecation_msg, UserWarning)\n",
      "/Library/Frameworks/Python.framework/Versions/3.9/lib/python3.9/site-packages/xgboost/sklearn.py:1146: UserWarning: The use of label encoder in XGBClassifier is deprecated and will be removed in a future release. To remove this warning, do the following: 1) Pass option use_label_encoder=False when constructing XGBClassifier object; and 2) Encode your labels (y) as integers starting with 0, i.e. 0, 1, 2, ..., [num_class - 1].\n",
      "  warnings.warn(label_encoder_deprecation_msg, UserWarning)\n",
      "/Library/Frameworks/Python.framework/Versions/3.9/lib/python3.9/site-packages/xgboost/sklearn.py:1146: UserWarning: The use of label encoder in XGBClassifier is deprecated and will be removed in a future release. To remove this warning, do the following: 1) Pass option use_label_encoder=False when constructing XGBClassifier object; and 2) Encode your labels (y) as integers starting with 0, i.e. 0, 1, 2, ..., [num_class - 1].\n",
      "  warnings.warn(label_encoder_deprecation_msg, UserWarning)\n",
      "/Library/Frameworks/Python.framework/Versions/3.9/lib/python3.9/site-packages/xgboost/sklearn.py:1146: UserWarning: The use of label encoder in XGBClassifier is deprecated and will be removed in a future release. To remove this warning, do the following: 1) Pass option use_label_encoder=False when constructing XGBClassifier object; and 2) Encode your labels (y) as integers starting with 0, i.e. 0, 1, 2, ..., [num_class - 1].\n",
      "  warnings.warn(label_encoder_deprecation_msg, UserWarning)\n",
      "/Library/Frameworks/Python.framework/Versions/3.9/lib/python3.9/site-packages/xgboost/sklearn.py:1146: UserWarning: The use of label encoder in XGBClassifier is deprecated and will be removed in a future release. To remove this warning, do the following: 1) Pass option use_label_encoder=False when constructing XGBClassifier object; and 2) Encode your labels (y) as integers starting with 0, i.e. 0, 1, 2, ..., [num_class - 1].\n",
      "  warnings.warn(label_encoder_deprecation_msg, UserWarning)\n",
      "/Library/Frameworks/Python.framework/Versions/3.9/lib/python3.9/site-packages/xgboost/sklearn.py:1146: UserWarning: The use of label encoder in XGBClassifier is deprecated and will be removed in a future release. To remove this warning, do the following: 1) Pass option use_label_encoder=False when constructing XGBClassifier object; and 2) Encode your labels (y) as integers starting with 0, i.e. 0, 1, 2, ..., [num_class - 1].\n",
      "  warnings.warn(label_encoder_deprecation_msg, UserWarning)\n",
      "/Library/Frameworks/Python.framework/Versions/3.9/lib/python3.9/site-packages/xgboost/sklearn.py:1146: UserWarning: The use of label encoder in XGBClassifier is deprecated and will be removed in a future release. To remove this warning, do the following: 1) Pass option use_label_encoder=False when constructing XGBClassifier object; and 2) Encode your labels (y) as integers starting with 0, i.e. 0, 1, 2, ..., [num_class - 1].\n",
      "  warnings.warn(label_encoder_deprecation_msg, UserWarning)\n"
     ]
    }
   ],
   "source": [
    "best_model = create_model(model_matrix)\n",
    "final_model = finalize_model(best_model)"
   ]
  },
  {
   "cell_type": "markdown",
   "id": "3aab9021-4462-423a-8e3c-fbe1f36c6110",
   "metadata": {},
   "source": [
    "### Let's load in our 2021 season data and get retention scores using the model:"
   ]
  },
  {
   "cell_type": "code",
   "execution_count": 9,
   "id": "c249a813-c882-4869-9490-6ab766a8c223",
   "metadata": {},
   "outputs": [
    {
     "data": {
      "text/plain": [
       "(429, 54)"
      ]
     },
     "execution_count": 9,
     "metadata": {},
     "output_type": "execute_result"
    }
   ],
   "source": [
    "df_inference = df.loc[df[\"year\"] >= 2021]\n",
    "df_inference = df_inference.fillna(0)\n",
    "df_inference.shape"
   ]
  },
  {
   "cell_type": "code",
   "execution_count": 10,
   "id": "745b62fb-fb2e-4b4a-9c48-8ce4de472a83",
   "metadata": {},
   "outputs": [
    {
     "data": {
      "text/html": [
       "<div>\n",
       "<style scoped>\n",
       "    .dataframe tbody tr th:only-of-type {\n",
       "        vertical-align: middle;\n",
       "    }\n",
       "\n",
       "    .dataframe tbody tr th {\n",
       "        vertical-align: top;\n",
       "    }\n",
       "\n",
       "    .dataframe thead th {\n",
       "        text-align: right;\n",
       "    }\n",
       "</style>\n",
       "<table border=\"1\" class=\"dataframe\">\n",
       "  <thead>\n",
       "    <tr style=\"text-align: right;\">\n",
       "      <th></th>\n",
       "      <th>lkupClientId</th>\n",
       "      <th>dimCustomerMasterId</th>\n",
       "      <th>customerNumber</th>\n",
       "      <th>year</th>\n",
       "      <th>productGrouping</th>\n",
       "      <th>totalSpent</th>\n",
       "      <th>recentDate</th>\n",
       "      <th>attendancePercent</th>\n",
       "      <th>renewedBeforeDays</th>\n",
       "      <th>isBuyer</th>\n",
       "      <th>...</th>\n",
       "      <th>education</th>\n",
       "      <th>urbanicity</th>\n",
       "      <th>credits_after_refund</th>\n",
       "      <th>is_Lockdown</th>\n",
       "      <th>NumberofGamesPerSeason</th>\n",
       "      <th>CNTPostponedGames</th>\n",
       "      <th>isNextYear_Buyer</th>\n",
       "      <th>Label</th>\n",
       "      <th>Score_0</th>\n",
       "      <th>Score_1</th>\n",
       "    </tr>\n",
       "  </thead>\n",
       "  <tbody>\n",
       "    <tr>\n",
       "      <th>1654</th>\n",
       "      <td>44</td>\n",
       "      <td>321009772</td>\n",
       "      <td>9308385</td>\n",
       "      <td>2021</td>\n",
       "      <td>Mini Plan</td>\n",
       "      <td>606.0</td>\n",
       "      <td>2021-05-22</td>\n",
       "      <td>0.116279</td>\n",
       "      <td>69</td>\n",
       "      <td>TRUE</td>\n",
       "      <td>...</td>\n",
       "      <td>0</td>\n",
       "      <td>0</td>\n",
       "      <td>0.0</td>\n",
       "      <td>1</td>\n",
       "      <td>132</td>\n",
       "      <td>0</td>\n",
       "      <td>0</td>\n",
       "      <td>0</td>\n",
       "      <td>0.9990</td>\n",
       "      <td>0.0010</td>\n",
       "    </tr>\n",
       "    <tr>\n",
       "      <th>1655</th>\n",
       "      <td>44</td>\n",
       "      <td>321009911</td>\n",
       "      <td>8217333</td>\n",
       "      <td>2021</td>\n",
       "      <td>Mini Plan</td>\n",
       "      <td>486.0</td>\n",
       "      <td>2021-09-14</td>\n",
       "      <td>0.500000</td>\n",
       "      <td>76</td>\n",
       "      <td>TRUE</td>\n",
       "      <td>...</td>\n",
       "      <td>0</td>\n",
       "      <td>0</td>\n",
       "      <td>0.0</td>\n",
       "      <td>1</td>\n",
       "      <td>132</td>\n",
       "      <td>0</td>\n",
       "      <td>0</td>\n",
       "      <td>0</td>\n",
       "      <td>0.9997</td>\n",
       "      <td>0.0003</td>\n",
       "    </tr>\n",
       "    <tr>\n",
       "      <th>1656</th>\n",
       "      <td>44</td>\n",
       "      <td>321009989</td>\n",
       "      <td>10633778</td>\n",
       "      <td>2021</td>\n",
       "      <td>Mini Plan</td>\n",
       "      <td>486.0</td>\n",
       "      <td>2021-05-22</td>\n",
       "      <td>0.266667</td>\n",
       "      <td>69</td>\n",
       "      <td>TRUE</td>\n",
       "      <td>...</td>\n",
       "      <td>0</td>\n",
       "      <td>0</td>\n",
       "      <td>0.0</td>\n",
       "      <td>1</td>\n",
       "      <td>132</td>\n",
       "      <td>0</td>\n",
       "      <td>0</td>\n",
       "      <td>0</td>\n",
       "      <td>0.9999</td>\n",
       "      <td>0.0001</td>\n",
       "    </tr>\n",
       "    <tr>\n",
       "      <th>1657</th>\n",
       "      <td>44</td>\n",
       "      <td>321010069</td>\n",
       "      <td>10868765</td>\n",
       "      <td>2021</td>\n",
       "      <td>Full Season</td>\n",
       "      <td>2100.0</td>\n",
       "      <td>2021-09-19</td>\n",
       "      <td>0.438596</td>\n",
       "      <td>70</td>\n",
       "      <td>TRUE</td>\n",
       "      <td>...</td>\n",
       "      <td>0</td>\n",
       "      <td>0</td>\n",
       "      <td>0.0</td>\n",
       "      <td>1</td>\n",
       "      <td>132</td>\n",
       "      <td>0</td>\n",
       "      <td>0</td>\n",
       "      <td>0</td>\n",
       "      <td>0.9998</td>\n",
       "      <td>0.0002</td>\n",
       "    </tr>\n",
       "    <tr>\n",
       "      <th>1658</th>\n",
       "      <td>44</td>\n",
       "      <td>321010103</td>\n",
       "      <td>9508094</td>\n",
       "      <td>2021</td>\n",
       "      <td>Mini Plan</td>\n",
       "      <td>486.0</td>\n",
       "      <td>2021-09-14</td>\n",
       "      <td>0.466667</td>\n",
       "      <td>33</td>\n",
       "      <td>TRUE</td>\n",
       "      <td>...</td>\n",
       "      <td>0</td>\n",
       "      <td>0</td>\n",
       "      <td>0.0</td>\n",
       "      <td>1</td>\n",
       "      <td>132</td>\n",
       "      <td>0</td>\n",
       "      <td>0</td>\n",
       "      <td>0</td>\n",
       "      <td>0.9998</td>\n",
       "      <td>0.0002</td>\n",
       "    </tr>\n",
       "  </tbody>\n",
       "</table>\n",
       "<p>5 rows × 57 columns</p>\n",
       "</div>"
      ],
      "text/plain": [
       "      lkupClientId  dimCustomerMasterId customerNumber  year productGrouping  \\\n",
       "1654            44            321009772        9308385  2021       Mini Plan   \n",
       "1655            44            321009911        8217333  2021       Mini Plan   \n",
       "1656            44            321009989       10633778  2021       Mini Plan   \n",
       "1657            44            321010069       10868765  2021     Full Season   \n",
       "1658            44            321010103        9508094  2021       Mini Plan   \n",
       "\n",
       "      totalSpent  recentDate  attendancePercent  renewedBeforeDays isBuyer  \\\n",
       "1654       606.0  2021-05-22           0.116279                 69    TRUE   \n",
       "1655       486.0  2021-09-14           0.500000                 76    TRUE   \n",
       "1656       486.0  2021-05-22           0.266667                 69    TRUE   \n",
       "1657      2100.0  2021-09-19           0.438596                 70    TRUE   \n",
       "1658       486.0  2021-09-14           0.466667                 33    TRUE   \n",
       "\n",
       "      ...  education  urbanicity  credits_after_refund  is_Lockdown  \\\n",
       "1654  ...          0           0                   0.0            1   \n",
       "1655  ...          0           0                   0.0            1   \n",
       "1656  ...          0           0                   0.0            1   \n",
       "1657  ...          0           0                   0.0            1   \n",
       "1658  ...          0           0                   0.0            1   \n",
       "\n",
       "      NumberofGamesPerSeason  CNTPostponedGames  isNextYear_Buyer  Label  \\\n",
       "1654                     132                  0                 0      0   \n",
       "1655                     132                  0                 0      0   \n",
       "1656                     132                  0                 0      0   \n",
       "1657                     132                  0                 0      0   \n",
       "1658                     132                  0                 0      0   \n",
       "\n",
       "      Score_0  Score_1  \n",
       "1654   0.9990   0.0010  \n",
       "1655   0.9997   0.0003  \n",
       "1656   0.9999   0.0001  \n",
       "1657   0.9998   0.0002  \n",
       "1658   0.9998   0.0002  \n",
       "\n",
       "[5 rows x 57 columns]"
      ]
     },
     "execution_count": 10,
     "metadata": {},
     "output_type": "execute_result"
    }
   ],
   "source": [
    "new_predictions = predict_model(final_model, data=df_inference, raw_score=True)\n",
    "new_predictions.head()"
   ]
  },
  {
   "cell_type": "code",
   "execution_count": 11,
   "id": "c98d3de4-966c-4d4a-af8f-e4a2d78eed38",
   "metadata": {},
   "outputs": [
    {
     "data": {
      "text/plain": [
       "0    408\n",
       "1     21\n",
       "Name: Label, dtype: int64"
      ]
     },
     "execution_count": 11,
     "metadata": {},
     "output_type": "execute_result"
    }
   ],
   "source": [
    "new_predictions[\"Label\"].value_counts()"
   ]
  },
  {
   "cell_type": "code",
   "execution_count": 12,
   "id": "95e96920-bc9c-4b50-837c-89e392d13449",
   "metadata": {},
   "outputs": [
    {
     "data": {
      "text/plain": [
       "(-0.001, 0.2]    395\n",
       "(0.8, 1.0]        11\n",
       "(0.2, 0.4]        10\n",
       "(0.4, 0.6]         9\n",
       "(0.6, 0.8]         4\n",
       "Name: Score_1, dtype: int64"
      ]
     },
     "execution_count": 12,
     "metadata": {},
     "output_type": "execute_result"
    }
   ],
   "source": [
    "new_predictions[\"Score_1\"].value_counts(bins=[0, 0.2, 0.4, 0.6, 0.8, 1.0])"
   ]
  },
  {
   "cell_type": "code",
   "execution_count": 13,
   "id": "3b4b1d51-1c33-489a-95f6-ab75e428c760",
   "metadata": {},
   "outputs": [
    {
     "data": {
      "text/plain": [
       "array([[<AxesSubplot:title={'center':'Score_1'}>]], dtype=object)"
      ]
     },
     "execution_count": 13,
     "metadata": {},
     "output_type": "execute_result"
    },
    {
     "data": {
      "image/png": "[encoded data removed]",
      "text/plain": [
       "<Figure size 720x360 with 1 Axes>"
      ]
     },
     "metadata": {
      "needs_background": "light"
     },
     "output_type": "display_data"
    }
   ],
   "source": [
    "new_predictions[new_predictions[\"Label\"]==1][[\"Score_1\"]].hist(bins=30, figsize=(10,5), range=[0,1])"
   ]
  },
  {
   "cell_type": "code",
   "execution_count": 14,
   "id": "144bd27b-9798-4f8b-a3a3-95298d8e2c01",
   "metadata": {},
   "outputs": [
    {
     "data": {
      "image/png": "[encoded data removed]",
      "text/plain": [
       "<Figure size 800x500 with 1 Axes>"
      ]
     },
     "metadata": {},
     "output_type": "display_data"
    }
   ],
   "source": [
    "plot_model(best_model, plot='feature')"
   ]
  },
  {
   "cell_type": "code",
   "execution_count": 15,
   "id": "79e34840-9a47-486f-a648-6d5d16d73b89",
   "metadata": {},
   "outputs": [
    {
     "data": {
      "image/png": "[encoded data removed]",
      "text/plain": [
       "<Figure size 576x396 with 1 Axes>"
      ]
     },
     "metadata": {},
     "output_type": "display_data"
    }
   ],
   "source": [
    "plot_model(best_model, plot='confusion_matrix')"
   ]
  },
  {
   "cell_type": "markdown",
   "id": "a439108b-7911-4384-b089-f7b31c825192",
   "metadata": {},
   "source": [
    "## Observations\n",
    "Here you can document some ideas on the results from above\n",
    "\n",
    "* the distribution doesn't look normal\n",
    "* The ticketing data are in the top 3 feature importance\n",
    "* The model makes more predictions of customers who won't buy\n",
    "* The accuracy and the AUC decreased compared to using Full Season product"
   ]
  },
  {
   "cell_type": "markdown",
   "id": "d2de91b5-a1e8-42a5-a087-8c31ff2e1db3",
   "metadata": {},
   "source": [
    "## Conclusions\n",
    "Here you can talk about next steps, did the experiment work? If yes, what to do next? If no, why?"
   ]
  },
  {
   "cell_type": "code",
   "execution_count": null,
   "id": "ea239da3-8648-4883-a4a7-2be9f665c05e",
   "metadata": {},
   "outputs": [],
   "source": []
  }
 ],
 "metadata": {
  "kernelspec": {
   "display_name": "Python 3 (ipykernel)",
   "language": "python",
   "name": "python3"
  },
  "language_info": {
   "codemirror_mode": {
    "name": "ipython",
    "version": 3
   },
   "file_extension": ".py",
   "mimetype": "text/x-python",
   "name": "python",
   "nbconvert_exporter": "python",
   "pygments_lexer": "ipython3",
   "version": "3.9.4"
  }
 },
 "nbformat": 4,
 "nbformat_minor": 5
}
