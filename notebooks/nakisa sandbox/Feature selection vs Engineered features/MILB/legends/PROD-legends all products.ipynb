{
 "cells": [
  {
   "cell_type": "markdown",
   "id": "6ee08766-25fd-4da1-91b8-b0c3e74db588",
   "metadata": {},
   "source": [
    "# legends - All products\n",
    "* StelllarAlgo Data Science\n",
    "* Ryan Kazmerik & Nakisa Rad\n",
    "* Jan 24, 2022"
   ]
  },
  {
   "cell_type": "markdown",
   "id": "39108c8d-2e9f-4759-ade2-83071038dc56",
   "metadata": {},
   "source": [
    "## Hypothesis\n",
    "The goal of this notebook is to compare the results of the model with the model using standard StellarAlgo features with the engineered retention model features."
   ]
  },
  {
   "cell_type": "markdown",
   "id": "28142011-1f32-4cc7-816b-a6dae6f70c8c",
   "metadata": {},
   "source": [
    "## Experiment\n",
    "This section details our experiment including querying data, data transformations, feature selection and modelling."
   ]
  },
  {
   "cell_type": "code",
   "execution_count": 1,
   "id": "4c533efd-600e-4bce-8203-faffbddfa700",
   "metadata": {},
   "outputs": [],
   "source": [
    "import getpass\n",
    "import pyodbc\n",
    "import pandas as pd\n",
    "import warnings\n",
    "import matplotlib.pyplot as plt\n",
    "\n",
    "from pycaret.classification import *\n",
    "\n",
    "warnings.filterwarnings('ignore')"
   ]
  },
  {
   "cell_type": "markdown",
   "id": "b64ae7d5-84af-4915-bd13-1dd9d17098a3",
   "metadata": {},
   "source": [
    "### Let's connect to MSSQL and run a stored proc to get our dataset:"
   ]
  },
  {
   "cell_type": "code",
   "execution_count": 2,
   "id": "ae561eb4-f419-4d46-b5e0-12fac9b10db8",
   "metadata": {},
   "outputs": [],
   "source": [
    "# connect to SQL Server.\n",
    "SERVER = '34.206.73.189' \n",
    "DATABASE = 'datascience' \n",
    "USERNAME = 'nrad' \n",
    "PASSWORD = getpass.getpass(prompt='Enter your password')\n",
    "CNXN = pyodbc.connect('DRIVER={ODBC Driver 17 for SQL Server};SERVER='+SERVER+';DATABASE='+DATABASE+';UID='+USERNAME+';PWD='+ PASSWORD)"
   ]
  },
  {
   "cell_type": "code",
   "execution_count": 3,
   "id": "af1afe7d-a35b-494b-88f3-980fb0e3da30",
   "metadata": {},
   "outputs": [
    {
     "data": {
      "text/plain": [
       "(265, 54)"
      ]
     },
     "execution_count": 3,
     "metadata": {},
     "output_type": "execute_result"
    }
   ],
   "source": [
    "lkupclientid = 26 # legends\n",
    "cursor = CNXN.cursor()\n",
    "\n",
    "storedProc = (\n",
    "    f\"\"\"Exec [stlrMILB].[ds].[getRetentionScoringModelData] {lkupclientid}\"\"\"\n",
    ")\n",
    "\n",
    "df = pd.read_sql(storedProc, CNXN)\n",
    "\n",
    "# apply some data transformations\n",
    "df[\"year\"] = pd.to_numeric(df[\"year\"])\n",
    "\n",
    "CNXN.commit()\n",
    "cursor.close()\n",
    "\n",
    "df.shape"
   ]
  },
  {
   "cell_type": "code",
   "execution_count": 4,
   "id": "11e97dcc-c69e-46c1-8dad-33f6291cb0c6",
   "metadata": {},
   "outputs": [
    {
     "name": "stdout",
     "output_type": "stream",
     "text": [
      "<class 'pandas.core.frame.DataFrame'>\n",
      "RangeIndex: 265 entries, 0 to 264\n",
      "Data columns (total 54 columns):\n",
      " #   Column                  Non-Null Count  Dtype  \n",
      "---  ------                  --------------  -----  \n",
      " 0   lkupClientId            265 non-null    int64  \n",
      " 1   dimCustomerMasterId     265 non-null    int64  \n",
      " 2   customerNumber          265 non-null    object \n",
      " 3   year                    265 non-null    int64  \n",
      " 4   productGrouping         265 non-null    object \n",
      " 5   totalSpent              265 non-null    float64\n",
      " 6   recentDate              265 non-null    object \n",
      " 7   attendancePercent       265 non-null    float64\n",
      " 8   renewedBeforeDays       265 non-null    int64  \n",
      " 9   isBuyer                 265 non-null    object \n",
      " 10  source_tenure           265 non-null    int64  \n",
      " 11  tenure                  265 non-null    int64  \n",
      " 12  distToVenue             265 non-null    float64\n",
      " 13  totalGames              265 non-null    int64  \n",
      " 14  recency                 265 non-null    int64  \n",
      " 15  missed_games_1          265 non-null    int64  \n",
      " 16  missed_games_2          265 non-null    int64  \n",
      " 17  missed_games_over_2     265 non-null    int64  \n",
      " 18  click_link              265 non-null    int64  \n",
      " 19  fill_out_form           265 non-null    int64  \n",
      " 20  open_email              265 non-null    int64  \n",
      " 21  send_email              265 non-null    int64  \n",
      " 22  unsubscribe_email       265 non-null    int64  \n",
      " 23  openToSendRatio         265 non-null    float64\n",
      " 24  clickToSendRatio        265 non-null    float64\n",
      " 25  clickToOpenRatio        265 non-null    float64\n",
      " 26  posting_records         265 non-null    int64  \n",
      " 27  resale_records          265 non-null    int64  \n",
      " 28  resale_atp              265 non-null    float64\n",
      " 29  forward_records         265 non-null    int64  \n",
      " 30  cancel_records          265 non-null    int64  \n",
      " 31  email                   265 non-null    int64  \n",
      " 32  inbound_email           265 non-null    int64  \n",
      " 33  inbound_phonecall       265 non-null    int64  \n",
      " 34  inperson_contact        265 non-null    int64  \n",
      " 35  internal_note           265 non-null    int64  \n",
      " 36  left_message            265 non-null    int64  \n",
      " 37  outbound_email          265 non-null    int64  \n",
      " 38  outbound_phonecall      265 non-null    int64  \n",
      " 39  phonecall               265 non-null    int64  \n",
      " 40  text                    265 non-null    int64  \n",
      " 41  unknown                 265 non-null    int64  \n",
      " 42  gender                  265 non-null    object \n",
      " 43  childrenPresentInHH     265 non-null    int64  \n",
      " 44  maritalStatus           265 non-null    int64  \n",
      " 45  lengthOfResidenceInYrs  0 non-null      object \n",
      " 46  annualHHIncome          0 non-null      object \n",
      " 47  education               0 non-null      object \n",
      " 48  urbanicity              0 non-null      object \n",
      " 49  credits_after_refund    265 non-null    float64\n",
      " 50  is_Lockdown             265 non-null    int64  \n",
      " 51  NumberofGamesPerSeason  265 non-null    int64  \n",
      " 52  CNTPostponedGames       0 non-null      object \n",
      " 53  isNextYear_Buyer        265 non-null    int64  \n",
      "dtypes: float64(8), int64(36), object(10)\n",
      "memory usage: 111.9+ KB\n"
     ]
    }
   ],
   "source": [
    "df.info()"
   ]
  },
  {
   "cell_type": "markdown",
   "id": "ab40da92-72a7-49c1-9829-ed3805a39719",
   "metadata": {},
   "source": [
    "### We should specify the features used in our model:"
   ]
  },
  {
   "cell_type": "code",
   "execution_count": 5,
   "id": "788f1273-8b7a-46bd-a099-1a471feeacc5",
   "metadata": {},
   "outputs": [
    {
     "name": "stdout",
     "output_type": "stream",
     "text": [
      "Data for Modeling: (212, 16)\n",
      "Unseen Data For Predictions: (37, 16)\n",
      "\n"
     ]
    }
   ],
   "source": [
    "# choose the features for the stellar base retention model\n",
    "features = [\"year\",\n",
    "            \"isNextYear_Buyer\",\n",
    "            \"productGrouping\",\n",
    "            \"dimCustomerMasterId\",\n",
    "        \"totalSpent\",\n",
    "        \"renewedBeforeDays\",\n",
    "        \"source_tenure\",\n",
    "        \"tenure\",\n",
    "        \"distToVenue\",\n",
    "        \"totalGames\",\n",
    "        \"recency\",\n",
    "        \"missed_games_1\",\n",
    "        \"missed_games_2\",\n",
    "        \"missed_games_over_2\",\n",
    "        \"is_Lockdown\",\n",
    "        \"NumberofGamesPerSeason\"\n",
    "]\n",
    "\n",
    "# copy your main dataframe\n",
    "df_dataset = df\n",
    "\n",
    "# choose the features & train year & test year\n",
    "df_dataset = df_dataset[features]\n",
    "df_dataset[\"year\"] = pd.to_numeric(df_dataset[\"year\"])\n",
    "df_dataset = df_dataset.loc[df_dataset[\"year\"] <= 2019]\n",
    "\n",
    "df_train = df_dataset.sample(frac=0.85, random_state=786)\n",
    "df_eval = df_dataset.drop(df_train.index)\n",
    "\n",
    "df_train.reset_index(drop=True, inplace=True)\n",
    "df_eval.reset_index(drop=True, inplace=True)\n",
    "\n",
    "# print out the number of records for training and eval\n",
    "print('Data for Modeling: ' + str(df_train.shape))\n",
    "print('Unseen Data For Predictions: ' + str(df_eval.shape), end=\"\\n\\n\")"
   ]
  },
  {
   "cell_type": "markdown",
   "id": "4f2da06d-9015-49fd-89b3-956c2ebf66e9",
   "metadata": {},
   "source": [
    "### Now we can model the data using a binary classification prediction for the isnextyear_buyer field to see how likely a customer is to re-purchase."
   ]
  },
  {
   "cell_type": "code",
   "execution_count": 6,
   "id": "23a69cdc-b3ec-48c8-9ce5-29f617779389",
   "metadata": {},
   "outputs": [],
   "source": [
    "setup(\n",
    "    data= df_train, \n",
    "    target=\"isNextYear_Buyer\", \n",
    "    train_size = 0.85,\n",
    "    data_split_shuffle=True,\n",
    "    ignore_features=[\"dimCustomerMasterId\",\"productGrouping\",\"year\"],\n",
    "    silent=True,\n",
    "    verbose=False,\n",
    "    numeric_features=[\n",
    "    \"totalSpent\",\n",
    "        \"renewedBeforeDays\",\n",
    "        \"source_tenure\",\n",
    "        \"tenure\",\n",
    "        \"distToVenue\",\n",
    "        \"totalGames\",\n",
    "        \"recency\",\n",
    "        \"missed_games_1\",\n",
    "        \"missed_games_2\",\n",
    "        \"missed_games_over_2\",\n",
    "        \"is_Lockdown\",\n",
    "        \"NumberofGamesPerSeason\"\n",
    "    ]\n",
    ");"
   ]
  },
  {
   "cell_type": "code",
   "execution_count": 7,
   "id": "ef2db9d2-02c2-45c0-b6bb-5cad42c373ce",
   "metadata": {},
   "outputs": [
    {
     "data": {
      "text/html": [
       "<style  type=\"text/css\" >\n",
       "    #T_586f3_ th {\n",
       "          text-align: left;\n",
       "    }#T_586f3_row0_col0,#T_586f3_row0_col2,#T_586f3_row1_col0,#T_586f3_row1_col1,#T_586f3_row1_col3,#T_586f3_row1_col4,#T_586f3_row1_col5,#T_586f3_row1_col6,#T_586f3_row1_col7{\n",
       "            text-align:  left;\n",
       "            text-align:  left;\n",
       "        }#T_586f3_row0_col1,#T_586f3_row0_col3,#T_586f3_row0_col4,#T_586f3_row0_col5,#T_586f3_row0_col6,#T_586f3_row0_col7,#T_586f3_row1_col2{\n",
       "            text-align:  left;\n",
       "            text-align:  left;\n",
       "            background-color:  yellow;\n",
       "        }#T_586f3_row0_col8{\n",
       "            text-align:  left;\n",
       "            text-align:  left;\n",
       "            background-color:  lightgrey;\n",
       "        }#T_586f3_row1_col8{\n",
       "            text-align:  left;\n",
       "            text-align:  left;\n",
       "            background-color:  yellow;\n",
       "            background-color:  lightgrey;\n",
       "        }</style><table id=\"T_586f3_\" ><thead>    <tr>        <th class=\"blank level0\" ></th>        <th class=\"col_heading level0 col0\" >Model</th>        <th class=\"col_heading level0 col1\" >Accuracy</th>        <th class=\"col_heading level0 col2\" >AUC</th>        <th class=\"col_heading level0 col3\" >Recall</th>        <th class=\"col_heading level0 col4\" >Prec.</th>        <th class=\"col_heading level0 col5\" >F1</th>        <th class=\"col_heading level0 col6\" >Kappa</th>        <th class=\"col_heading level0 col7\" >MCC</th>        <th class=\"col_heading level0 col8\" >TT (Sec)</th>    </tr></thead><tbody>\n",
       "                <tr>\n",
       "                        <th id=\"T_586f3_level0_row0\" class=\"row_heading level0 row0\" >lr</th>\n",
       "                        <td id=\"T_586f3_row0_col0\" class=\"data row0 col0\" >Logistic Regression</td>\n",
       "                        <td id=\"T_586f3_row0_col1\" class=\"data row0 col1\" >0.7444</td>\n",
       "                        <td id=\"T_586f3_row0_col2\" class=\"data row0 col2\" >0.7156</td>\n",
       "                        <td id=\"T_586f3_row0_col3\" class=\"data row0 col3\" >0.8455</td>\n",
       "                        <td id=\"T_586f3_row0_col4\" class=\"data row0 col4\" >0.7649</td>\n",
       "                        <td id=\"T_586f3_row0_col5\" class=\"data row0 col5\" >0.8015</td>\n",
       "                        <td id=\"T_586f3_row0_col6\" class=\"data row0 col6\" >0.4444</td>\n",
       "                        <td id=\"T_586f3_row0_col7\" class=\"data row0 col7\" >0.4538</td>\n",
       "                        <td id=\"T_586f3_row0_col8\" class=\"data row0 col8\" >0.3960</td>\n",
       "            </tr>\n",
       "            <tr>\n",
       "                        <th id=\"T_586f3_level0_row1\" class=\"row_heading level0 row1\" >xgboost</th>\n",
       "                        <td id=\"T_586f3_row1_col0\" class=\"data row1 col0\" >Extreme Gradient Boosting</td>\n",
       "                        <td id=\"T_586f3_row1_col1\" class=\"data row1 col1\" >0.7000</td>\n",
       "                        <td id=\"T_586f3_row1_col2\" class=\"data row1 col2\" >0.7545</td>\n",
       "                        <td id=\"T_586f3_row1_col3\" class=\"data row1 col3\" >0.8000</td>\n",
       "                        <td id=\"T_586f3_row1_col4\" class=\"data row1 col4\" >0.7405</td>\n",
       "                        <td id=\"T_586f3_row1_col5\" class=\"data row1 col5\" >0.7652</td>\n",
       "                        <td id=\"T_586f3_row1_col6\" class=\"data row1 col6\" >0.3478</td>\n",
       "                        <td id=\"T_586f3_row1_col7\" class=\"data row1 col7\" >0.3543</td>\n",
       "                        <td id=\"T_586f3_row1_col8\" class=\"data row1 col8\" >0.1900</td>\n",
       "            </tr>\n",
       "    </tbody></table>"
      ],
      "text/plain": [
       "<pandas.io.formats.style.Styler at 0x7ff163489fa0>"
      ]
     },
     "metadata": {},
     "output_type": "display_data"
    }
   ],
   "source": [
    "model_matrix = compare_models(\n",
    "    fold=10,\n",
    "    include=[\"lr\", \"xgboost\"]\n",
    ")"
   ]
  },
  {
   "cell_type": "code",
   "execution_count": 8,
   "id": "d9f030ed-4b6a-4a87-a01e-129dc49e0d4a",
   "metadata": {},
   "outputs": [
    {
     "data": {
      "text/html": [
       "<style  type=\"text/css\" >\n",
       "#T_08bee_row10_col0,#T_08bee_row10_col1,#T_08bee_row10_col2,#T_08bee_row10_col3,#T_08bee_row10_col4,#T_08bee_row10_col5,#T_08bee_row10_col6{\n",
       "            background:  yellow;\n",
       "        }</style><table id=\"T_08bee_\" ><thead>    <tr>        <th class=\"blank level0\" ></th>        <th class=\"col_heading level0 col0\" >Accuracy</th>        <th class=\"col_heading level0 col1\" >AUC</th>        <th class=\"col_heading level0 col2\" >Recall</th>        <th class=\"col_heading level0 col3\" >Prec.</th>        <th class=\"col_heading level0 col4\" >F1</th>        <th class=\"col_heading level0 col5\" >Kappa</th>        <th class=\"col_heading level0 col6\" >MCC</th>    </tr></thead><tbody>\n",
       "                <tr>\n",
       "                        <th id=\"T_08bee_level0_row0\" class=\"row_heading level0 row0\" >0</th>\n",
       "                        <td id=\"T_08bee_row0_col0\" class=\"data row0 col0\" >0.8889</td>\n",
       "                        <td id=\"T_08bee_row0_col1\" class=\"data row0 col1\" >0.8182</td>\n",
       "                        <td id=\"T_08bee_row0_col2\" class=\"data row0 col2\" >1.0000</td>\n",
       "                        <td id=\"T_08bee_row0_col3\" class=\"data row0 col3\" >0.8462</td>\n",
       "                        <td id=\"T_08bee_row0_col4\" class=\"data row0 col4\" >0.9167</td>\n",
       "                        <td id=\"T_08bee_row0_col5\" class=\"data row0 col5\" >0.7534</td>\n",
       "                        <td id=\"T_08bee_row0_col6\" class=\"data row0 col6\" >0.7774</td>\n",
       "            </tr>\n",
       "            <tr>\n",
       "                        <th id=\"T_08bee_level0_row1\" class=\"row_heading level0 row1\" >1</th>\n",
       "                        <td id=\"T_08bee_row1_col0\" class=\"data row1 col0\" >0.8333</td>\n",
       "                        <td id=\"T_08bee_row1_col1\" class=\"data row1 col1\" >0.8052</td>\n",
       "                        <td id=\"T_08bee_row1_col2\" class=\"data row1 col2\" >0.8182</td>\n",
       "                        <td id=\"T_08bee_row1_col3\" class=\"data row1 col3\" >0.9000</td>\n",
       "                        <td id=\"T_08bee_row1_col4\" class=\"data row1 col4\" >0.8571</td>\n",
       "                        <td id=\"T_08bee_row1_col5\" class=\"data row1 col5\" >0.6582</td>\n",
       "                        <td id=\"T_08bee_row1_col6\" class=\"data row1 col6\" >0.6625</td>\n",
       "            </tr>\n",
       "            <tr>\n",
       "                        <th id=\"T_08bee_level0_row2\" class=\"row_heading level0 row2\" >2</th>\n",
       "                        <td id=\"T_08bee_row2_col0\" class=\"data row2 col0\" >0.6667</td>\n",
       "                        <td id=\"T_08bee_row2_col1\" class=\"data row2 col1\" >0.7273</td>\n",
       "                        <td id=\"T_08bee_row2_col2\" class=\"data row2 col2\" >0.7273</td>\n",
       "                        <td id=\"T_08bee_row2_col3\" class=\"data row2 col3\" >0.7273</td>\n",
       "                        <td id=\"T_08bee_row2_col4\" class=\"data row2 col4\" >0.7273</td>\n",
       "                        <td id=\"T_08bee_row2_col5\" class=\"data row2 col5\" >0.2987</td>\n",
       "                        <td id=\"T_08bee_row2_col6\" class=\"data row2 col6\" >0.2987</td>\n",
       "            </tr>\n",
       "            <tr>\n",
       "                        <th id=\"T_08bee_level0_row3\" class=\"row_heading level0 row3\" >3</th>\n",
       "                        <td id=\"T_08bee_row3_col0\" class=\"data row3 col0\" >0.8333</td>\n",
       "                        <td id=\"T_08bee_row3_col1\" class=\"data row3 col1\" >0.8442</td>\n",
       "                        <td id=\"T_08bee_row3_col2\" class=\"data row3 col2\" >0.9091</td>\n",
       "                        <td id=\"T_08bee_row3_col3\" class=\"data row3 col3\" >0.8333</td>\n",
       "                        <td id=\"T_08bee_row3_col4\" class=\"data row3 col4\" >0.8696</td>\n",
       "                        <td id=\"T_08bee_row3_col5\" class=\"data row3 col5\" >0.6400</td>\n",
       "                        <td id=\"T_08bee_row3_col6\" class=\"data row3 col6\" >0.6447</td>\n",
       "            </tr>\n",
       "            <tr>\n",
       "                        <th id=\"T_08bee_level0_row4\" class=\"row_heading level0 row4\" >4</th>\n",
       "                        <td id=\"T_08bee_row4_col0\" class=\"data row4 col0\" >0.7222</td>\n",
       "                        <td id=\"T_08bee_row4_col1\" class=\"data row4 col1\" >0.6623</td>\n",
       "                        <td id=\"T_08bee_row4_col2\" class=\"data row4 col2\" >0.9091</td>\n",
       "                        <td id=\"T_08bee_row4_col3\" class=\"data row4 col3\" >0.7143</td>\n",
       "                        <td id=\"T_08bee_row4_col4\" class=\"data row4 col4\" >0.8000</td>\n",
       "                        <td id=\"T_08bee_row4_col5\" class=\"data row4 col5\" >0.3662</td>\n",
       "                        <td id=\"T_08bee_row4_col6\" class=\"data row4 col6\" >0.3959</td>\n",
       "            </tr>\n",
       "            <tr>\n",
       "                        <th id=\"T_08bee_level0_row5\" class=\"row_heading level0 row5\" >5</th>\n",
       "                        <td id=\"T_08bee_row5_col0\" class=\"data row5 col0\" >0.6111</td>\n",
       "                        <td id=\"T_08bee_row5_col1\" class=\"data row5 col1\" >0.4416</td>\n",
       "                        <td id=\"T_08bee_row5_col2\" class=\"data row5 col2\" >0.7273</td>\n",
       "                        <td id=\"T_08bee_row5_col3\" class=\"data row5 col3\" >0.6667</td>\n",
       "                        <td id=\"T_08bee_row5_col4\" class=\"data row5 col4\" >0.6957</td>\n",
       "                        <td id=\"T_08bee_row5_col5\" class=\"data row5 col5\" >0.1600</td>\n",
       "                        <td id=\"T_08bee_row5_col6\" class=\"data row5 col6\" >0.1612</td>\n",
       "            </tr>\n",
       "            <tr>\n",
       "                        <th id=\"T_08bee_level0_row6\" class=\"row_heading level0 row6\" >6</th>\n",
       "                        <td id=\"T_08bee_row6_col0\" class=\"data row6 col0\" >0.7222</td>\n",
       "                        <td id=\"T_08bee_row6_col1\" class=\"data row6 col1\" >0.7532</td>\n",
       "                        <td id=\"T_08bee_row6_col2\" class=\"data row6 col2\" >0.8182</td>\n",
       "                        <td id=\"T_08bee_row6_col3\" class=\"data row6 col3\" >0.7500</td>\n",
       "                        <td id=\"T_08bee_row6_col4\" class=\"data row6 col4\" >0.7826</td>\n",
       "                        <td id=\"T_08bee_row6_col5\" class=\"data row6 col5\" >0.4000</td>\n",
       "                        <td id=\"T_08bee_row6_col6\" class=\"data row6 col6\" >0.4029</td>\n",
       "            </tr>\n",
       "            <tr>\n",
       "                        <th id=\"T_08bee_level0_row7\" class=\"row_heading level0 row7\" >7</th>\n",
       "                        <td id=\"T_08bee_row7_col0\" class=\"data row7 col0\" >0.7778</td>\n",
       "                        <td id=\"T_08bee_row7_col1\" class=\"data row7 col1\" >0.7013</td>\n",
       "                        <td id=\"T_08bee_row7_col2\" class=\"data row7 col2\" >0.9091</td>\n",
       "                        <td id=\"T_08bee_row7_col3\" class=\"data row7 col3\" >0.7692</td>\n",
       "                        <td id=\"T_08bee_row7_col4\" class=\"data row7 col4\" >0.8333</td>\n",
       "                        <td id=\"T_08bee_row7_col5\" class=\"data row7 col5\" >0.5068</td>\n",
       "                        <td id=\"T_08bee_row7_col6\" class=\"data row7 col6\" >0.5230</td>\n",
       "            </tr>\n",
       "            <tr>\n",
       "                        <th id=\"T_08bee_level0_row8\" class=\"row_heading level0 row8\" >8</th>\n",
       "                        <td id=\"T_08bee_row8_col0\" class=\"data row8 col0\" >0.7222</td>\n",
       "                        <td id=\"T_08bee_row8_col1\" class=\"data row8 col1\" >0.7662</td>\n",
       "                        <td id=\"T_08bee_row8_col2\" class=\"data row8 col2\" >0.8182</td>\n",
       "                        <td id=\"T_08bee_row8_col3\" class=\"data row8 col3\" >0.7500</td>\n",
       "                        <td id=\"T_08bee_row8_col4\" class=\"data row8 col4\" >0.7826</td>\n",
       "                        <td id=\"T_08bee_row8_col5\" class=\"data row8 col5\" >0.4000</td>\n",
       "                        <td id=\"T_08bee_row8_col6\" class=\"data row8 col6\" >0.4029</td>\n",
       "            </tr>\n",
       "            <tr>\n",
       "                        <th id=\"T_08bee_level0_row9\" class=\"row_heading level0 row9\" >9</th>\n",
       "                        <td id=\"T_08bee_row9_col0\" class=\"data row9 col0\" >0.6667</td>\n",
       "                        <td id=\"T_08bee_row9_col1\" class=\"data row9 col1\" >0.6364</td>\n",
       "                        <td id=\"T_08bee_row9_col2\" class=\"data row9 col2\" >0.8182</td>\n",
       "                        <td id=\"T_08bee_row9_col3\" class=\"data row9 col3\" >0.6923</td>\n",
       "                        <td id=\"T_08bee_row9_col4\" class=\"data row9 col4\" >0.7500</td>\n",
       "                        <td id=\"T_08bee_row9_col5\" class=\"data row9 col5\" >0.2603</td>\n",
       "                        <td id=\"T_08bee_row9_col6\" class=\"data row9 col6\" >0.2686</td>\n",
       "            </tr>\n",
       "            <tr>\n",
       "                        <th id=\"T_08bee_level0_row10\" class=\"row_heading level0 row10\" >Mean</th>\n",
       "                        <td id=\"T_08bee_row10_col0\" class=\"data row10 col0\" >0.7444</td>\n",
       "                        <td id=\"T_08bee_row10_col1\" class=\"data row10 col1\" >0.7156</td>\n",
       "                        <td id=\"T_08bee_row10_col2\" class=\"data row10 col2\" >0.8455</td>\n",
       "                        <td id=\"T_08bee_row10_col3\" class=\"data row10 col3\" >0.7649</td>\n",
       "                        <td id=\"T_08bee_row10_col4\" class=\"data row10 col4\" >0.8015</td>\n",
       "                        <td id=\"T_08bee_row10_col5\" class=\"data row10 col5\" >0.4444</td>\n",
       "                        <td id=\"T_08bee_row10_col6\" class=\"data row10 col6\" >0.4538</td>\n",
       "            </tr>\n",
       "            <tr>\n",
       "                        <th id=\"T_08bee_level0_row11\" class=\"row_heading level0 row11\" >SD</th>\n",
       "                        <td id=\"T_08bee_row11_col0\" class=\"data row11 col0\" >0.0831</td>\n",
       "                        <td id=\"T_08bee_row11_col1\" class=\"data row11 col1\" >0.1112</td>\n",
       "                        <td id=\"T_08bee_row11_col2\" class=\"data row11 col2\" >0.0818</td>\n",
       "                        <td id=\"T_08bee_row11_col3\" class=\"data row11 col3\" >0.0699</td>\n",
       "                        <td id=\"T_08bee_row11_col4\" class=\"data row11 col4\" >0.0649</td>\n",
       "                        <td id=\"T_08bee_row11_col5\" class=\"data row11 col5\" >0.1815</td>\n",
       "                        <td id=\"T_08bee_row11_col6\" class=\"data row11 col6\" >0.1849</td>\n",
       "            </tr>\n",
       "    </tbody></table>"
      ],
      "text/plain": [
       "<pandas.io.formats.style.Styler at 0x7ff16396e160>"
      ]
     },
     "metadata": {},
     "output_type": "display_data"
    },
    {
     "name": "stderr",
     "output_type": "stream",
     "text": [
      "/Library/Frameworks/Python.framework/Versions/3.9/lib/python3.9/site-packages/sklearn/linear_model/_logistic.py:762: ConvergenceWarning: lbfgs failed to converge (status=1):\n",
      "STOP: TOTAL NO. of ITERATIONS REACHED LIMIT.\n",
      "\n",
      "Increase the number of iterations (max_iter) or scale the data as shown in:\n",
      "    https://scikit-learn.org/stable/modules/preprocessing.html\n",
      "Please also refer to the documentation for alternative solver options:\n",
      "    https://scikit-learn.org/stable/modules/linear_model.html#logistic-regression\n",
      "  n_iter_i = _check_optimize_result(\n",
      "/Library/Frameworks/Python.framework/Versions/3.9/lib/python3.9/site-packages/sklearn/linear_model/_logistic.py:762: ConvergenceWarning: lbfgs failed to converge (status=1):\n",
      "STOP: TOTAL NO. of ITERATIONS REACHED LIMIT.\n",
      "\n",
      "Increase the number of iterations (max_iter) or scale the data as shown in:\n",
      "    https://scikit-learn.org/stable/modules/preprocessing.html\n",
      "Please also refer to the documentation for alternative solver options:\n",
      "    https://scikit-learn.org/stable/modules/linear_model.html#logistic-regression\n",
      "  n_iter_i = _check_optimize_result(\n",
      "/Library/Frameworks/Python.framework/Versions/3.9/lib/python3.9/site-packages/sklearn/linear_model/_logistic.py:762: ConvergenceWarning: lbfgs failed to converge (status=1):\n",
      "STOP: TOTAL NO. of ITERATIONS REACHED LIMIT.\n",
      "\n",
      "Increase the number of iterations (max_iter) or scale the data as shown in:\n",
      "    https://scikit-learn.org/stable/modules/preprocessing.html\n",
      "Please also refer to the documentation for alternative solver options:\n",
      "    https://scikit-learn.org/stable/modules/linear_model.html#logistic-regression\n",
      "  n_iter_i = _check_optimize_result(\n",
      "/Library/Frameworks/Python.framework/Versions/3.9/lib/python3.9/site-packages/sklearn/linear_model/_logistic.py:762: ConvergenceWarning: lbfgs failed to converge (status=1):\n",
      "STOP: TOTAL NO. of ITERATIONS REACHED LIMIT.\n",
      "\n",
      "Increase the number of iterations (max_iter) or scale the data as shown in:\n",
      "    https://scikit-learn.org/stable/modules/preprocessing.html\n",
      "Please also refer to the documentation for alternative solver options:\n",
      "    https://scikit-learn.org/stable/modules/linear_model.html#logistic-regression\n",
      "  n_iter_i = _check_optimize_result(\n",
      "/Library/Frameworks/Python.framework/Versions/3.9/lib/python3.9/site-packages/sklearn/linear_model/_logistic.py:762: ConvergenceWarning: lbfgs failed to converge (status=1):\n",
      "STOP: TOTAL NO. of ITERATIONS REACHED LIMIT.\n",
      "\n",
      "Increase the number of iterations (max_iter) or scale the data as shown in:\n",
      "    https://scikit-learn.org/stable/modules/preprocessing.html\n",
      "Please also refer to the documentation for alternative solver options:\n",
      "    https://scikit-learn.org/stable/modules/linear_model.html#logistic-regression\n",
      "  n_iter_i = _check_optimize_result(\n",
      "/Library/Frameworks/Python.framework/Versions/3.9/lib/python3.9/site-packages/sklearn/linear_model/_logistic.py:762: ConvergenceWarning: lbfgs failed to converge (status=1):\n",
      "STOP: TOTAL NO. of ITERATIONS REACHED LIMIT.\n",
      "\n",
      "Increase the number of iterations (max_iter) or scale the data as shown in:\n",
      "    https://scikit-learn.org/stable/modules/preprocessing.html\n",
      "Please also refer to the documentation for alternative solver options:\n",
      "    https://scikit-learn.org/stable/modules/linear_model.html#logistic-regression\n",
      "  n_iter_i = _check_optimize_result(\n"
     ]
    }
   ],
   "source": [
    "best_model = create_model(model_matrix)\n",
    "final_model = finalize_model(best_model)"
   ]
  },
  {
   "cell_type": "markdown",
   "id": "3aab9021-4462-423a-8e3c-fbe1f36c6110",
   "metadata": {},
   "source": [
    "### Let's load in our 2021 season data and get retention scores using the model:"
   ]
  },
  {
   "cell_type": "code",
   "execution_count": 9,
   "id": "c249a813-c882-4869-9490-6ab766a8c223",
   "metadata": {},
   "outputs": [
    {
     "data": {
      "text/plain": [
       "(16, 54)"
      ]
     },
     "execution_count": 9,
     "metadata": {},
     "output_type": "execute_result"
    }
   ],
   "source": [
    "df_inference = df.loc[df[\"year\"] >= 2021]\n",
    "df_inference = df_inference.fillna(0)\n",
    "df_inference.shape"
   ]
  },
  {
   "cell_type": "code",
   "execution_count": 10,
   "id": "745b62fb-fb2e-4b4a-9c48-8ce4de472a83",
   "metadata": {},
   "outputs": [
    {
     "data": {
      "text/html": [
       "<div>\n",
       "<style scoped>\n",
       "    .dataframe tbody tr th:only-of-type {\n",
       "        vertical-align: middle;\n",
       "    }\n",
       "\n",
       "    .dataframe tbody tr th {\n",
       "        vertical-align: top;\n",
       "    }\n",
       "\n",
       "    .dataframe thead th {\n",
       "        text-align: right;\n",
       "    }\n",
       "</style>\n",
       "<table border=\"1\" class=\"dataframe\">\n",
       "  <thead>\n",
       "    <tr style=\"text-align: right;\">\n",
       "      <th></th>\n",
       "      <th>lkupClientId</th>\n",
       "      <th>dimCustomerMasterId</th>\n",
       "      <th>customerNumber</th>\n",
       "      <th>year</th>\n",
       "      <th>productGrouping</th>\n",
       "      <th>totalSpent</th>\n",
       "      <th>recentDate</th>\n",
       "      <th>attendancePercent</th>\n",
       "      <th>renewedBeforeDays</th>\n",
       "      <th>isBuyer</th>\n",
       "      <th>...</th>\n",
       "      <th>education</th>\n",
       "      <th>urbanicity</th>\n",
       "      <th>credits_after_refund</th>\n",
       "      <th>is_Lockdown</th>\n",
       "      <th>NumberofGamesPerSeason</th>\n",
       "      <th>CNTPostponedGames</th>\n",
       "      <th>isNextYear_Buyer</th>\n",
       "      <th>Label</th>\n",
       "      <th>Score_0</th>\n",
       "      <th>Score_1</th>\n",
       "    </tr>\n",
       "  </thead>\n",
       "  <tbody>\n",
       "    <tr>\n",
       "      <th>249</th>\n",
       "      <td>26</td>\n",
       "      <td>320263357</td>\n",
       "      <td>1138331</td>\n",
       "      <td>2021</td>\n",
       "      <td>Full Season</td>\n",
       "      <td>798.0</td>\n",
       "      <td>1970-01-01</td>\n",
       "      <td>0.000000</td>\n",
       "      <td>61</td>\n",
       "      <td>TRUE</td>\n",
       "      <td>...</td>\n",
       "      <td>0</td>\n",
       "      <td>0</td>\n",
       "      <td>0.0</td>\n",
       "      <td>1</td>\n",
       "      <td>132</td>\n",
       "      <td>0</td>\n",
       "      <td>0</td>\n",
       "      <td>1</td>\n",
       "      <td>0.3281</td>\n",
       "      <td>0.6719</td>\n",
       "    </tr>\n",
       "    <tr>\n",
       "      <th>250</th>\n",
       "      <td>26</td>\n",
       "      <td>352544446</td>\n",
       "      <td>1205719</td>\n",
       "      <td>2021</td>\n",
       "      <td>Full Season</td>\n",
       "      <td>1330.8</td>\n",
       "      <td>2021-08-07</td>\n",
       "      <td>0.161017</td>\n",
       "      <td>15</td>\n",
       "      <td>TRUE</td>\n",
       "      <td>...</td>\n",
       "      <td>0</td>\n",
       "      <td>0</td>\n",
       "      <td>0.0</td>\n",
       "      <td>1</td>\n",
       "      <td>132</td>\n",
       "      <td>0</td>\n",
       "      <td>0</td>\n",
       "      <td>0</td>\n",
       "      <td>0.7562</td>\n",
       "      <td>0.2438</td>\n",
       "    </tr>\n",
       "    <tr>\n",
       "      <th>251</th>\n",
       "      <td>26</td>\n",
       "      <td>355872477</td>\n",
       "      <td>261734</td>\n",
       "      <td>2021</td>\n",
       "      <td>Full Season</td>\n",
       "      <td>798.0</td>\n",
       "      <td>2021-09-30</td>\n",
       "      <td>0.677966</td>\n",
       "      <td>61</td>\n",
       "      <td>TRUE</td>\n",
       "      <td>...</td>\n",
       "      <td>0</td>\n",
       "      <td>0</td>\n",
       "      <td>0.0</td>\n",
       "      <td>1</td>\n",
       "      <td>132</td>\n",
       "      <td>0</td>\n",
       "      <td>0</td>\n",
       "      <td>1</td>\n",
       "      <td>0.0150</td>\n",
       "      <td>0.9850</td>\n",
       "    </tr>\n",
       "    <tr>\n",
       "      <th>252</th>\n",
       "      <td>26</td>\n",
       "      <td>355950513</td>\n",
       "      <td>154960</td>\n",
       "      <td>2021</td>\n",
       "      <td>Full Season</td>\n",
       "      <td>1064.4</td>\n",
       "      <td>2021-09-30</td>\n",
       "      <td>0.042373</td>\n",
       "      <td>0</td>\n",
       "      <td>TRUE</td>\n",
       "      <td>...</td>\n",
       "      <td>0</td>\n",
       "      <td>0</td>\n",
       "      <td>0.0</td>\n",
       "      <td>1</td>\n",
       "      <td>132</td>\n",
       "      <td>0</td>\n",
       "      <td>0</td>\n",
       "      <td>1</td>\n",
       "      <td>0.3566</td>\n",
       "      <td>0.6434</td>\n",
       "    </tr>\n",
       "    <tr>\n",
       "      <th>253</th>\n",
       "      <td>26</td>\n",
       "      <td>355950516</td>\n",
       "      <td>855851</td>\n",
       "      <td>2021</td>\n",
       "      <td>Full Season</td>\n",
       "      <td>1980.0</td>\n",
       "      <td>2021-06-01</td>\n",
       "      <td>0.012712</td>\n",
       "      <td>43</td>\n",
       "      <td>TRUE</td>\n",
       "      <td>...</td>\n",
       "      <td>0</td>\n",
       "      <td>0</td>\n",
       "      <td>0.0</td>\n",
       "      <td>1</td>\n",
       "      <td>132</td>\n",
       "      <td>0</td>\n",
       "      <td>0</td>\n",
       "      <td>1</td>\n",
       "      <td>0.2351</td>\n",
       "      <td>0.7649</td>\n",
       "    </tr>\n",
       "  </tbody>\n",
       "</table>\n",
       "<p>5 rows × 57 columns</p>\n",
       "</div>"
      ],
      "text/plain": [
       "     lkupClientId  dimCustomerMasterId customerNumber  year productGrouping  \\\n",
       "249            26            320263357        1138331  2021     Full Season   \n",
       "250            26            352544446        1205719  2021     Full Season   \n",
       "251            26            355872477         261734  2021     Full Season   \n",
       "252            26            355950513         154960  2021     Full Season   \n",
       "253            26            355950516         855851  2021     Full Season   \n",
       "\n",
       "     totalSpent  recentDate  attendancePercent  renewedBeforeDays isBuyer  \\\n",
       "249       798.0  1970-01-01           0.000000                 61    TRUE   \n",
       "250      1330.8  2021-08-07           0.161017                 15    TRUE   \n",
       "251       798.0  2021-09-30           0.677966                 61    TRUE   \n",
       "252      1064.4  2021-09-30           0.042373                  0    TRUE   \n",
       "253      1980.0  2021-06-01           0.012712                 43    TRUE   \n",
       "\n",
       "     ...  education  urbanicity  credits_after_refund  is_Lockdown  \\\n",
       "249  ...          0           0                   0.0            1   \n",
       "250  ...          0           0                   0.0            1   \n",
       "251  ...          0           0                   0.0            1   \n",
       "252  ...          0           0                   0.0            1   \n",
       "253  ...          0           0                   0.0            1   \n",
       "\n",
       "     NumberofGamesPerSeason  CNTPostponedGames  isNextYear_Buyer  Label  \\\n",
       "249                     132                  0                 0      1   \n",
       "250                     132                  0                 0      0   \n",
       "251                     132                  0                 0      1   \n",
       "252                     132                  0                 0      1   \n",
       "253                     132                  0                 0      1   \n",
       "\n",
       "     Score_0  Score_1  \n",
       "249   0.3281   0.6719  \n",
       "250   0.7562   0.2438  \n",
       "251   0.0150   0.9850  \n",
       "252   0.3566   0.6434  \n",
       "253   0.2351   0.7649  \n",
       "\n",
       "[5 rows x 57 columns]"
      ]
     },
     "execution_count": 10,
     "metadata": {},
     "output_type": "execute_result"
    }
   ],
   "source": [
    "new_predictions = predict_model(final_model, data=df_inference, raw_score=True)\n",
    "new_predictions.head()"
   ]
  },
  {
   "cell_type": "code",
   "execution_count": 11,
   "id": "c98d3de4-966c-4d4a-af8f-e4a2d78eed38",
   "metadata": {},
   "outputs": [
    {
     "data": {
      "text/plain": [
       "1    11\n",
       "0     5\n",
       "Name: Label, dtype: int64"
      ]
     },
     "execution_count": 11,
     "metadata": {},
     "output_type": "execute_result"
    }
   ],
   "source": [
    "new_predictions[\"Label\"].value_counts()"
   ]
  },
  {
   "cell_type": "code",
   "execution_count": 12,
   "id": "95e96920-bc9c-4b50-837c-89e392d13449",
   "metadata": {},
   "outputs": [
    {
     "data": {
      "text/plain": [
       "(0.8, 1.0]       6\n",
       "(0.6, 0.8]       4\n",
       "(0.4, 0.6]       3\n",
       "(0.2, 0.4]       2\n",
       "(-0.001, 0.2]    1\n",
       "Name: Score_1, dtype: int64"
      ]
     },
     "execution_count": 12,
     "metadata": {},
     "output_type": "execute_result"
    }
   ],
   "source": [
    "new_predictions[\"Score_1\"].value_counts(bins=[0, 0.2, 0.4, 0.6, 0.8, 1.0])"
   ]
  },
  {
   "cell_type": "code",
   "execution_count": 13,
   "id": "3b4b1d51-1c33-489a-95f6-ab75e428c760",
   "metadata": {},
   "outputs": [
    {
     "data": {
      "text/plain": [
       "array([[<AxesSubplot:title={'center':'Score_1'}>]], dtype=object)"
      ]
     },
     "execution_count": 13,
     "metadata": {},
     "output_type": "execute_result"
    },
    {
     "data": {
      "image/png": "[encoded data removed]",
      "text/plain": [
       "<Figure size 720x360 with 1 Axes>"
      ]
     },
     "metadata": {
      "needs_background": "light"
     },
     "output_type": "display_data"
    }
   ],
   "source": [
    "new_predictions[new_predictions[\"Label\"]==1][[\"Score_1\"]].hist(bins=30, figsize=(10,5), range=[0,1])"
   ]
  },
  {
   "cell_type": "code",
   "execution_count": 14,
   "id": "144bd27b-9798-4f8b-a3a3-95298d8e2c01",
   "metadata": {},
   "outputs": [
    {
     "data": {
      "image/png": "[encoded data removed]",
      "text/plain": [
       "<Figure size 800x500 with 1 Axes>"
      ]
     },
     "metadata": {},
     "output_type": "display_data"
    }
   ],
   "source": [
    "plot_model(best_model, plot='feature')"
   ]
  },
  {
   "cell_type": "code",
   "execution_count": 15,
   "id": "79e34840-9a47-486f-a648-6d5d16d73b89",
   "metadata": {},
   "outputs": [
    {
     "data": {
      "image/png": "[encoded data removed]",
      "text/plain": [
       "<Figure size 576x396 with 1 Axes>"
      ]
     },
     "metadata": {},
     "output_type": "display_data"
    }
   ],
   "source": [
    "plot_model(best_model, plot='confusion_matrix')"
   ]
  },
  {
   "cell_type": "markdown",
   "id": "a439108b-7911-4384-b089-f7b31c825192",
   "metadata": {},
   "source": [
    "## Observations\n",
    "Here you can document some ideas on the results from above\n",
    "\n",
    "* the distribution doesn't look normal\n",
    "* The ticketing data are in the top 3 feature importance\n",
    "* The model makes more predictions of customers who won't buy\n",
    "* The accuracy and the AUC decreased compared to using Full Season product"
   ]
  },
  {
   "cell_type": "markdown",
   "id": "d2de91b5-a1e8-42a5-a087-8c31ff2e1db3",
   "metadata": {},
   "source": [
    "## Conclusions\n",
    "Here you can talk about next steps, did the experiment work? If yes, what to do next? If no, why?"
   ]
  },
  {
   "cell_type": "code",
   "execution_count": null,
   "id": "ea239da3-8648-4883-a4a7-2be9f665c05e",
   "metadata": {},
   "outputs": [],
   "source": []
  }
 ],
 "metadata": {
  "kernelspec": {
   "display_name": "Python 3 (ipykernel)",
   "language": "python",
   "name": "python3"
  },
  "language_info": {
   "codemirror_mode": {
    "name": "ipython",
    "version": 3
   },
   "file_extension": ".py",
   "mimetype": "text/x-python",
   "name": "python",
   "nbconvert_exporter": "python",
   "pygments_lexer": "ipython3",
   "version": "3.9.4"
  }
 },
 "nbformat": 4,
 "nbformat_minor": 5
}
