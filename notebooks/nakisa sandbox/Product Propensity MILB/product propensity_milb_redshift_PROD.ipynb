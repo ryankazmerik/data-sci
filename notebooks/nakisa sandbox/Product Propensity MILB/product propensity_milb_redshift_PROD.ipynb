{
 "cells": [
  {
   "cell_type": "markdown",
   "id": "9575d83e",
   "metadata": {},
   "source": [
    "# PRODUCT PROPENSITY - PROD - Redshift\n",
    "* StellarAlgo Data Science\n",
    "* Ryan Kazmerik & Nakisa Rad\n",
    "* June 21, 2022"
   ]
  },
  {
   "cell_type": "markdown",
   "id": "62d7c5a2",
   "metadata": {},
   "source": [
    "## Hypothesis\n",
    "Recently the stored procedure that pulls data for training and scoring the retention model was migrated to RedShift. We are asuming that the logic is still valid and that the data can be used with our existing retention model."
   ]
  },
  {
   "cell_type": "markdown",
   "id": "c46403a5",
   "metadata": {},
   "source": [
    "## Experiment\n",
    "This section details our experiment including querying data, data transformations, feature selection and modelling."
   ]
  },
  {
   "cell_type": "code",
   "execution_count": 1,
   "id": "df2be620",
   "metadata": {},
   "outputs": [],
   "source": [
    "import boto3\n",
    "import pandas as pd\n",
    "import matplotlib.pyplot as plt\n",
    "import psycopg2\n",
    "\n",
    "from pycaret.classification import *"
   ]
  },
  {
   "cell_type": "code",
   "execution_count": 2,
   "id": "93720795",
   "metadata": {},
   "outputs": [
    {
     "name": "stdout",
     "output_type": "stream",
     "text": [
      "Attempting to automatically open the SSO authorization page in your default browser.\n",
      "If the browser does not open or you wish to use a different device to authorize this request, open the following URL:\n",
      "\n",
      "https://device.sso.us-east-1.amazonaws.com/\n",
      "\n",
      "Then enter the code:\n",
      "\n",
      "CDWQ-FNSB\n",
      "Successully logged into Start URL: https://stellaralgo.awsapps.com/start#/\n"
     ]
    }
   ],
   "source": [
    "! aws sso login --profile Stellaralgo-DataScienceAdmin"
   ]
  },
  {
   "cell_type": "code",
   "execution_count": 3,
   "id": "35c1c1ec",
   "metadata": {},
   "outputs": [
    {
     "name": "stdout",
     "output_type": "stream",
     "text": [
      "GOT CONNECTION TO DATABASE: prod-app stlrmilb\n"
     ]
    }
   ],
   "source": [
    "session = boto3.session.Session(profile_name='Stellaralgo-DataScienceAdmin')\n",
    "client = session.client('redshift')\n",
    "\n",
    "CLUSTER = 'prod-app'\n",
    "DBNAME = 'stlrmilb'\n",
    "\n",
    "creds = client.get_cluster_credentials(                \n",
    "    ClusterIdentifier = CLUSTER,\n",
    "    DbUser = 'admin',\n",
    "    DbName = DBNAME,\n",
    "    DbGroups = ['admin_group'],\n",
    "    AutoCreate=True\n",
    ")\n",
    "\n",
    "# create a connection & cursor and call the stored procedure\n",
    "conn = psycopg2.connect(\n",
    "    host = 'prod-app.ctjussvyafp4.us-east-1.redshift.amazonaws.com',\n",
    "    port = 5439,\n",
    "    user = creds['DbUser'],\n",
    "    password = creds['DbPassword'],\n",
    "    database = DBNAME\n",
    ")\n",
    "\n",
    "print(f\"GOT CONNECTION TO DATABASE: {CLUSTER} {DBNAME}\")"
   ]
  },
  {
   "cell_type": "code",
   "execution_count": 4,
   "id": "bf80cd96",
   "metadata": {},
   "outputs": [],
   "source": [
    "# call the stored proc to get data for the retention model\n",
    "cur = conn.cursor()\n",
    "cur.execute(f\"CALL dw.getproductpropensitymodeldata_all_teams(2010, 2022, 'temp_cursor')\")\n",
    "\n",
    "# create a named cursor based on the cursor name passed in above\n",
    "named_cursor = conn.cursor('temp_cursor')\n",
    "data = named_cursor.fetchall()\n",
    "\n",
    "# load the data and columns into a data frame\n",
    "cols = [row[0] for row in named_cursor.description]\n",
    "df = pd.DataFrame(data=data, columns=cols)\n",
    "\n",
    "conn.commit()"
   ]
  },
  {
   "cell_type": "code",
   "execution_count": 5,
   "id": "fbe71a79",
   "metadata": {},
   "outputs": [
    {
     "name": "stdout",
     "output_type": "stream",
     "text": [
      "<class 'pandas.core.frame.DataFrame'>\n",
      "RangeIndex: 4973395 entries, 0 to 4973394\n",
      "Data columns (total 10 columns):\n",
      " #   Column               Dtype  \n",
      "---  ------               -----  \n",
      " 0   dimcustomermasterid  int64  \n",
      " 1   distance             float64\n",
      " 2   seasonyear           int64  \n",
      " 3   events_prior         int64  \n",
      " 4   attended_prior       int64  \n",
      " 5   events_last          int64  \n",
      " 6   attended_last        int64  \n",
      " 7   tenure               int64  \n",
      " 8   atp_last             float64\n",
      " 9   product_current      object \n",
      "dtypes: float64(2), int64(7), object(1)\n",
      "memory usage: 379.4+ MB\n"
     ]
    }
   ],
   "source": [
    "df.info()"
   ]
  },
  {
   "cell_type": "code",
   "execution_count": null,
   "id": "20124dbd-e174-4622-a33b-6a4407b4ca10",
   "metadata": {},
   "outputs": [],
   "source": []
  },
  {
   "cell_type": "code",
   "execution_count": 6,
   "id": "1c8bad91-cdc3-40a7-8915-93f3048bfa53",
   "metadata": {},
   "outputs": [
    {
     "name": "stdout",
     "output_type": "stream",
     "text": [
      "Data for Modeling: (5182, 18)\n",
      "Unseen Data For Predictions: (914, 18)\n",
      "\n"
     ]
    }
   ],
   "source": [
    "# choose the features for the stellar base retention model\n",
    "features = [\n",
    "    \"dimcustomermasterid\",\n",
    "    \"attendancepercent\",\n",
    "    \"clicktoopenratio\", \n",
    "    \"clicktosendratio\",\n",
    "    \"disttovenue\",\n",
    "    \"inperson_contact\",\n",
    "    \"isnextyear_buyer\",\n",
    "    \"lkupclientid\",\n",
    "    \"missed_games_1\",\n",
    "    \"missed_games_2\",\n",
    "    \"missed_games_over_2\",\n",
    "    \"opentosendratio\",\n",
    "    \"productgrouping\",\n",
    "    \"recency\",\n",
    "    \"renewedbeforedays\",\n",
    "    \"source_tenure\",\n",
    "    \"totalspent\",\n",
    "    \"year\"\n",
    "]\n",
    "\n",
    "# copy your main dataframe\n",
    "df_dataset = df\n",
    "\n",
    "# choose the features & train year & test year\n",
    "df_dataset = df_dataset[features]\n",
    "df_dataset[\"year\"] = pd.to_numeric(df_dataset[\"year\"])\n",
    "df_dataset = df_dataset.loc[df_dataset[\"year\"] <= 2019]\n",
    "\n",
    "df_train = df_dataset.sample(frac=0.85, random_state=786)\n",
    "df_eval = df_dataset.drop(df_train.index)\n",
    "\n",
    "df_train.reset_index(drop=True, inplace=True)\n",
    "df_eval.reset_index(drop=True, inplace=True)\n",
    "\n",
    "# print out the number of records for training and eval\n",
    "print('Data for Modeling: ' + str(df_train.shape))\n",
    "print('Unseen Data For Predictions: ' + str(df_eval.shape), end=\"\\n\\n\")"
   ]
  },
  {
   "cell_type": "code",
   "execution_count": 7,
   "id": "3eabb279-56dd-4dbf-b7da-77bd2aa7cafa",
   "metadata": {},
   "outputs": [],
   "source": [
    "setup(\n",
    "    data= df_train, \n",
    "    target=\"isnextyear_buyer\", \n",
    "    train_size = 0.85,\n",
    "    data_split_shuffle=True,\n",
    "    ignore_features=[\n",
    "        \"dimcustomermasterid\",\n",
    "        \"lkupclientid\",\n",
    "        \"productgrouping\",\n",
    "        \"year\"\n",
    "    ],\n",
    "    silent=True,\n",
    "    verbose=False,\n",
    "    numeric_features=[\n",
    "        \"attendancepercent\",\n",
    "        \"disttovenue\",\n",
    "        \"missed_games_1\",\n",
    "        \"missed_games_2\",\n",
    "        \"missed_games_over_2\",\n",
    "        \"recency\",\n",
    "        \"renewedbeforedays\",\n",
    "        \"source_tenure\",\n",
    "        \"totalspent\"\n",
    "    ]\n",
    ");"
   ]
  },
  {
   "cell_type": "code",
   "execution_count": 8,
   "id": "05742a70-860c-477f-bea9-516a0a87c508",
   "metadata": {},
   "outputs": [
    {
     "data": {
      "text/html": [
       "<style type=\"text/css\">\n",
       "#T_35fb2 th {\n",
       "  text-align: left;\n",
       "}\n",
       "#T_35fb2_row0_col0 {\n",
       "  text-align: left;\n",
       "}\n",
       "#T_35fb2_row0_col1, #T_35fb2_row0_col2, #T_35fb2_row0_col3, #T_35fb2_row0_col4, #T_35fb2_row0_col5, #T_35fb2_row0_col6, #T_35fb2_row0_col7 {\n",
       "  text-align: left;\n",
       "  background-color: yellow;\n",
       "}\n",
       "#T_35fb2_row0_col8 {\n",
       "  text-align: left;\n",
       "  background-color: yellow;\n",
       "  background-color: lightgrey;\n",
       "}\n",
       "</style>\n",
       "<table id=\"T_35fb2\">\n",
       "  <thead>\n",
       "    <tr>\n",
       "      <th class=\"blank level0\" >&nbsp;</th>\n",
       "      <th id=\"T_35fb2_level0_col0\" class=\"col_heading level0 col0\" >Model</th>\n",
       "      <th id=\"T_35fb2_level0_col1\" class=\"col_heading level0 col1\" >Accuracy</th>\n",
       "      <th id=\"T_35fb2_level0_col2\" class=\"col_heading level0 col2\" >AUC</th>\n",
       "      <th id=\"T_35fb2_level0_col3\" class=\"col_heading level0 col3\" >Recall</th>\n",
       "      <th id=\"T_35fb2_level0_col4\" class=\"col_heading level0 col4\" >Prec.</th>\n",
       "      <th id=\"T_35fb2_level0_col5\" class=\"col_heading level0 col5\" >F1</th>\n",
       "      <th id=\"T_35fb2_level0_col6\" class=\"col_heading level0 col6\" >Kappa</th>\n",
       "      <th id=\"T_35fb2_level0_col7\" class=\"col_heading level0 col7\" >MCC</th>\n",
       "      <th id=\"T_35fb2_level0_col8\" class=\"col_heading level0 col8\" >TT (Sec)</th>\n",
       "    </tr>\n",
       "  </thead>\n",
       "  <tbody>\n",
       "    <tr>\n",
       "      <th id=\"T_35fb2_level0_row0\" class=\"row_heading level0 row0\" >lightgbm</th>\n",
       "      <td id=\"T_35fb2_row0_col0\" class=\"data row0 col0\" >Light Gradient Boosting Machine</td>\n",
       "      <td id=\"T_35fb2_row0_col1\" class=\"data row0 col1\" >0.7725</td>\n",
       "      <td id=\"T_35fb2_row0_col2\" class=\"data row0 col2\" >0.7835</td>\n",
       "      <td id=\"T_35fb2_row0_col3\" class=\"data row0 col3\" >0.9080</td>\n",
       "      <td id=\"T_35fb2_row0_col4\" class=\"data row0 col4\" >0.8055</td>\n",
       "      <td id=\"T_35fb2_row0_col5\" class=\"data row0 col5\" >0.8536</td>\n",
       "      <td id=\"T_35fb2_row0_col6\" class=\"data row0 col6\" >0.3512</td>\n",
       "      <td id=\"T_35fb2_row0_col7\" class=\"data row0 col7\" >0.3644</td>\n",
       "      <td id=\"T_35fb2_row0_col8\" class=\"data row0 col8\" >0.2960</td>\n",
       "    </tr>\n",
       "  </tbody>\n",
       "</table>\n"
      ],
      "text/plain": [
       "<pandas.io.formats.style.Styler at 0x7fe293f774c0>"
      ]
     },
     "metadata": {},
     "output_type": "display_data"
    }
   ],
   "source": [
    "model_matrix = compare_models(\n",
    "    fold=10,\n",
    "    include=[\"lightgbm\"]\n",
    ")"
   ]
  },
  {
   "cell_type": "code",
   "execution_count": 9,
   "id": "9b4716b3-5a6b-4942-a32c-7ef3e9083509",
   "metadata": {},
   "outputs": [
    {
     "data": {
      "text/html": [
       "<style type=\"text/css\">\n",
       "#T_9bd1c_row10_col0, #T_9bd1c_row10_col1, #T_9bd1c_row10_col2, #T_9bd1c_row10_col3, #T_9bd1c_row10_col4, #T_9bd1c_row10_col5, #T_9bd1c_row10_col6 {\n",
       "  background: yellow;\n",
       "}\n",
       "</style>\n",
       "<table id=\"T_9bd1c\">\n",
       "  <thead>\n",
       "    <tr>\n",
       "      <th class=\"blank level0\" >&nbsp;</th>\n",
       "      <th id=\"T_9bd1c_level0_col0\" class=\"col_heading level0 col0\" >Accuracy</th>\n",
       "      <th id=\"T_9bd1c_level0_col1\" class=\"col_heading level0 col1\" >AUC</th>\n",
       "      <th id=\"T_9bd1c_level0_col2\" class=\"col_heading level0 col2\" >Recall</th>\n",
       "      <th id=\"T_9bd1c_level0_col3\" class=\"col_heading level0 col3\" >Prec.</th>\n",
       "      <th id=\"T_9bd1c_level0_col4\" class=\"col_heading level0 col4\" >F1</th>\n",
       "      <th id=\"T_9bd1c_level0_col5\" class=\"col_heading level0 col5\" >Kappa</th>\n",
       "      <th id=\"T_9bd1c_level0_col6\" class=\"col_heading level0 col6\" >MCC</th>\n",
       "    </tr>\n",
       "  </thead>\n",
       "  <tbody>\n",
       "    <tr>\n",
       "      <th id=\"T_9bd1c_level0_row0\" class=\"row_heading level0 row0\" >0</th>\n",
       "      <td id=\"T_9bd1c_row0_col0\" class=\"data row0 col0\" >0.7687</td>\n",
       "      <td id=\"T_9bd1c_row0_col1\" class=\"data row0 col1\" >0.7825</td>\n",
       "      <td id=\"T_9bd1c_row0_col2\" class=\"data row0 col2\" >0.8975</td>\n",
       "      <td id=\"T_9bd1c_row0_col3\" class=\"data row0 col3\" >0.8073</td>\n",
       "      <td id=\"T_9bd1c_row0_col4\" class=\"data row0 col4\" >0.8500</td>\n",
       "      <td id=\"T_9bd1c_row0_col5\" class=\"data row0 col5\" >0.3512</td>\n",
       "      <td id=\"T_9bd1c_row0_col6\" class=\"data row0 col6\" >0.3608</td>\n",
       "    </tr>\n",
       "    <tr>\n",
       "      <th id=\"T_9bd1c_level0_row1\" class=\"row_heading level0 row1\" >1</th>\n",
       "      <td id=\"T_9bd1c_row1_col0\" class=\"data row1 col0\" >0.7937</td>\n",
       "      <td id=\"T_9bd1c_row1_col1\" class=\"data row1 col1\" >0.7912</td>\n",
       "      <td id=\"T_9bd1c_row1_col2\" class=\"data row1 col2\" >0.9255</td>\n",
       "      <td id=\"T_9bd1c_row1_col3\" class=\"data row1 col3\" >0.8164</td>\n",
       "      <td id=\"T_9bd1c_row1_col4\" class=\"data row1 col4\" >0.8675</td>\n",
       "      <td id=\"T_9bd1c_row1_col5\" class=\"data row1 col5\" >0.4090</td>\n",
       "      <td id=\"T_9bd1c_row1_col6\" class=\"data row1 col6\" >0.4260</td>\n",
       "    </tr>\n",
       "    <tr>\n",
       "      <th id=\"T_9bd1c_level0_row2\" class=\"row_heading level0 row2\" >2</th>\n",
       "      <td id=\"T_9bd1c_row2_col0\" class=\"data row2 col0\" >0.7823</td>\n",
       "      <td id=\"T_9bd1c_row2_col1\" class=\"data row2 col1\" >0.7839</td>\n",
       "      <td id=\"T_9bd1c_row2_col2\" class=\"data row2 col2\" >0.9099</td>\n",
       "      <td id=\"T_9bd1c_row2_col3\" class=\"data row2 col3\" >0.8139</td>\n",
       "      <td id=\"T_9bd1c_row2_col4\" class=\"data row2 col4\" >0.8592</td>\n",
       "      <td id=\"T_9bd1c_row2_col5\" class=\"data row2 col5\" >0.3857</td>\n",
       "      <td id=\"T_9bd1c_row2_col6\" class=\"data row2 col6\" >0.3977</td>\n",
       "    </tr>\n",
       "    <tr>\n",
       "      <th id=\"T_9bd1c_level0_row3\" class=\"row_heading level0 row3\" >3</th>\n",
       "      <td id=\"T_9bd1c_row3_col0\" class=\"data row3 col0\" >0.7982</td>\n",
       "      <td id=\"T_9bd1c_row3_col1\" class=\"data row3 col1\" >0.8088</td>\n",
       "      <td id=\"T_9bd1c_row3_col2\" class=\"data row3 col2\" >0.9068</td>\n",
       "      <td id=\"T_9bd1c_row3_col3\" class=\"data row3 col3\" >0.8319</td>\n",
       "      <td id=\"T_9bd1c_row3_col4\" class=\"data row3 col4\" >0.8678</td>\n",
       "      <td id=\"T_9bd1c_row3_col5\" class=\"data row3 col5\" >0.4452</td>\n",
       "      <td id=\"T_9bd1c_row3_col6\" class=\"data row3 col6\" >0.4527</td>\n",
       "    </tr>\n",
       "    <tr>\n",
       "      <th id=\"T_9bd1c_level0_row4\" class=\"row_heading level0 row4\" >4</th>\n",
       "      <td id=\"T_9bd1c_row4_col0\" class=\"data row4 col0\" >0.7500</td>\n",
       "      <td id=\"T_9bd1c_row4_col1\" class=\"data row4 col1\" >0.7812</td>\n",
       "      <td id=\"T_9bd1c_row4_col2\" class=\"data row4 col2\" >0.8944</td>\n",
       "      <td id=\"T_9bd1c_row4_col3\" class=\"data row4 col3\" >0.7912</td>\n",
       "      <td id=\"T_9bd1c_row4_col4\" class=\"data row4 col4\" >0.8397</td>\n",
       "      <td id=\"T_9bd1c_row4_col5\" class=\"data row4 col5\" >0.2822</td>\n",
       "      <td id=\"T_9bd1c_row4_col6\" class=\"data row4 col6\" >0.2934</td>\n",
       "    </tr>\n",
       "    <tr>\n",
       "      <th id=\"T_9bd1c_level0_row5\" class=\"row_heading level0 row5\" >5</th>\n",
       "      <td id=\"T_9bd1c_row5_col0\" class=\"data row5 col0\" >0.7455</td>\n",
       "      <td id=\"T_9bd1c_row5_col1\" class=\"data row5 col1\" >0.7721</td>\n",
       "      <td id=\"T_9bd1c_row5_col2\" class=\"data row5 col2\" >0.9068</td>\n",
       "      <td id=\"T_9bd1c_row5_col3\" class=\"data row5 col3\" >0.7807</td>\n",
       "      <td id=\"T_9bd1c_row5_col4\" class=\"data row5 col4\" >0.8391</td>\n",
       "      <td id=\"T_9bd1c_row5_col5\" class=\"data row5 col5\" >0.2463</td>\n",
       "      <td id=\"T_9bd1c_row5_col6\" class=\"data row5 col6\" >0.2629</td>\n",
       "    </tr>\n",
       "    <tr>\n",
       "      <th id=\"T_9bd1c_level0_row6\" class=\"row_heading level0 row6\" >6</th>\n",
       "      <td id=\"T_9bd1c_row6_col0\" class=\"data row6 col0\" >0.7659</td>\n",
       "      <td id=\"T_9bd1c_row6_col1\" class=\"data row6 col1\" >0.7444</td>\n",
       "      <td id=\"T_9bd1c_row6_col2\" class=\"data row6 col2\" >0.8910</td>\n",
       "      <td id=\"T_9bd1c_row6_col3\" class=\"data row6 col3\" >0.8079</td>\n",
       "      <td id=\"T_9bd1c_row6_col4\" class=\"data row6 col4\" >0.8474</td>\n",
       "      <td id=\"T_9bd1c_row6_col5\" class=\"data row6 col5\" >0.3501</td>\n",
       "      <td id=\"T_9bd1c_row6_col6\" class=\"data row6 col6\" >0.3579</td>\n",
       "    </tr>\n",
       "    <tr>\n",
       "      <th id=\"T_9bd1c_level0_row7\" class=\"row_heading level0 row7\" >7</th>\n",
       "      <td id=\"T_9bd1c_row7_col0\" class=\"data row7 col0\" >0.7955</td>\n",
       "      <td id=\"T_9bd1c_row7_col1\" class=\"data row7 col1\" >0.8188</td>\n",
       "      <td id=\"T_9bd1c_row7_col2\" class=\"data row7 col2\" >0.9346</td>\n",
       "      <td id=\"T_9bd1c_row7_col3\" class=\"data row7 col3\" >0.8130</td>\n",
       "      <td id=\"T_9bd1c_row7_col4\" class=\"data row7 col4\" >0.8696</td>\n",
       "      <td id=\"T_9bd1c_row7_col5\" class=\"data row7 col5\" >0.4063</td>\n",
       "      <td id=\"T_9bd1c_row7_col6\" class=\"data row7 col6\" >0.4284</td>\n",
       "    </tr>\n",
       "    <tr>\n",
       "      <th id=\"T_9bd1c_level0_row8\" class=\"row_heading level0 row8\" >8</th>\n",
       "      <td id=\"T_9bd1c_row8_col0\" class=\"data row8 col0\" >0.7591</td>\n",
       "      <td id=\"T_9bd1c_row8_col1\" class=\"data row8 col1\" >0.7563</td>\n",
       "      <td id=\"T_9bd1c_row8_col2\" class=\"data row8 col2\" >0.9034</td>\n",
       "      <td id=\"T_9bd1c_row8_col3\" class=\"data row8 col3\" >0.7945</td>\n",
       "      <td id=\"T_9bd1c_row8_col4\" class=\"data row8 col4\" >0.8455</td>\n",
       "      <td id=\"T_9bd1c_row8_col5\" class=\"data row8 col5\" >0.3091</td>\n",
       "      <td id=\"T_9bd1c_row8_col6\" class=\"data row8 col6\" >0.3227</td>\n",
       "    </tr>\n",
       "    <tr>\n",
       "      <th id=\"T_9bd1c_level0_row9\" class=\"row_heading level0 row9\" >9</th>\n",
       "      <td id=\"T_9bd1c_row9_col0\" class=\"data row9 col0\" >0.7659</td>\n",
       "      <td id=\"T_9bd1c_row9_col1\" class=\"data row9 col1\" >0.7959</td>\n",
       "      <td id=\"T_9bd1c_row9_col2\" class=\"data row9 col2\" >0.9097</td>\n",
       "      <td id=\"T_9bd1c_row9_col3\" class=\"data row9 col3\" >0.7978</td>\n",
       "      <td id=\"T_9bd1c_row9_col4\" class=\"data row9 col4\" >0.8501</td>\n",
       "      <td id=\"T_9bd1c_row9_col5\" class=\"data row9 col5\" >0.3267</td>\n",
       "      <td id=\"T_9bd1c_row9_col6\" class=\"data row9 col6\" >0.3418</td>\n",
       "    </tr>\n",
       "    <tr>\n",
       "      <th id=\"T_9bd1c_level0_row10\" class=\"row_heading level0 row10\" >Mean</th>\n",
       "      <td id=\"T_9bd1c_row10_col0\" class=\"data row10 col0\" >0.7725</td>\n",
       "      <td id=\"T_9bd1c_row10_col1\" class=\"data row10 col1\" >0.7835</td>\n",
       "      <td id=\"T_9bd1c_row10_col2\" class=\"data row10 col2\" >0.9080</td>\n",
       "      <td id=\"T_9bd1c_row10_col3\" class=\"data row10 col3\" >0.8055</td>\n",
       "      <td id=\"T_9bd1c_row10_col4\" class=\"data row10 col4\" >0.8536</td>\n",
       "      <td id=\"T_9bd1c_row10_col5\" class=\"data row10 col5\" >0.3512</td>\n",
       "      <td id=\"T_9bd1c_row10_col6\" class=\"data row10 col6\" >0.3644</td>\n",
       "    </tr>\n",
       "    <tr>\n",
       "      <th id=\"T_9bd1c_level0_row11\" class=\"row_heading level0 row11\" >SD</th>\n",
       "      <td id=\"T_9bd1c_row11_col0\" class=\"data row11 col0\" >0.0180</td>\n",
       "      <td id=\"T_9bd1c_row11_col1\" class=\"data row11 col1\" >0.0212</td>\n",
       "      <td id=\"T_9bd1c_row11_col2\" class=\"data row11 col2\" >0.0128</td>\n",
       "      <td id=\"T_9bd1c_row11_col3\" class=\"data row11 col3\" >0.0140</td>\n",
       "      <td id=\"T_9bd1c_row11_col4\" class=\"data row11 col4\" >0.0110</td>\n",
       "      <td id=\"T_9bd1c_row11_col5\" class=\"data row11 col5\" >0.0588</td>\n",
       "      <td id=\"T_9bd1c_row11_col6\" class=\"data row11 col6\" >0.0587</td>\n",
       "    </tr>\n",
       "  </tbody>\n",
       "</table>\n"
      ],
      "text/plain": [
       "<pandas.io.formats.style.Styler at 0x7fe274adffd0>"
      ]
     },
     "metadata": {},
     "output_type": "display_data"
    }
   ],
   "source": [
    "best_model = create_model(model_matrix)\n",
    "final_model = finalize_model(best_model)"
   ]
  },
  {
   "cell_type": "code",
   "execution_count": 10,
   "id": "4487009f",
   "metadata": {},
   "outputs": [
    {
     "data": {
      "text/plain": [
       "(1746, 23)"
      ]
     },
     "execution_count": 10,
     "metadata": {},
     "output_type": "execute_result"
    }
   ],
   "source": [
    "df_inference = df.loc[df[\"year\"] >= 2022]\n",
    "df_inference = df_inference.fillna(0)\n",
    "df_inference.shape"
   ]
  },
  {
   "cell_type": "code",
   "execution_count": 11,
   "id": "3aa9448f",
   "metadata": {},
   "outputs": [
    {
     "data": {
      "text/html": [
       "<div>\n",
       "<style scoped>\n",
       "    .dataframe tbody tr th:only-of-type {\n",
       "        vertical-align: middle;\n",
       "    }\n",
       "\n",
       "    .dataframe tbody tr th {\n",
       "        vertical-align: top;\n",
       "    }\n",
       "\n",
       "    .dataframe thead th {\n",
       "        text-align: right;\n",
       "    }\n",
       "</style>\n",
       "<table border=\"1\" class=\"dataframe\">\n",
       "  <thead>\n",
       "    <tr style=\"text-align: right;\">\n",
       "      <th></th>\n",
       "      <th>lkupclientid</th>\n",
       "      <th>dimcustomermasterid</th>\n",
       "      <th>year</th>\n",
       "      <th>productgrouping</th>\n",
       "      <th>totalspent</th>\n",
       "      <th>recentdate</th>\n",
       "      <th>attendancepercent</th>\n",
       "      <th>renewedbeforedays</th>\n",
       "      <th>source_tenure</th>\n",
       "      <th>tenure</th>\n",
       "      <th>...</th>\n",
       "      <th>opentosendratio</th>\n",
       "      <th>clicktosendratio</th>\n",
       "      <th>clicktoopenratio</th>\n",
       "      <th>gender</th>\n",
       "      <th>phonecall</th>\n",
       "      <th>inperson_contact</th>\n",
       "      <th>isnextyear_buyer</th>\n",
       "      <th>Label</th>\n",
       "      <th>Score_0</th>\n",
       "      <th>Score_1</th>\n",
       "    </tr>\n",
       "  </thead>\n",
       "  <tbody>\n",
       "    <tr>\n",
       "      <th>75</th>\n",
       "      <td>31</td>\n",
       "      <td>457938180</td>\n",
       "      <td>2022</td>\n",
       "      <td>Half Season</td>\n",
       "      <td>588.0</td>\n",
       "      <td>1970-01-01</td>\n",
       "      <td>1.00</td>\n",
       "      <td>46</td>\n",
       "      <td>1095</td>\n",
       "      <td>1096</td>\n",
       "      <td>...</td>\n",
       "      <td>0.49</td>\n",
       "      <td>0.02</td>\n",
       "      <td>0.05</td>\n",
       "      <td>Unknown</td>\n",
       "      <td>6</td>\n",
       "      <td>0</td>\n",
       "      <td>0</td>\n",
       "      <td>0</td>\n",
       "      <td>0.5417</td>\n",
       "      <td>0.4583</td>\n",
       "    </tr>\n",
       "    <tr>\n",
       "      <th>76</th>\n",
       "      <td>31</td>\n",
       "      <td>457985469</td>\n",
       "      <td>2022</td>\n",
       "      <td>Full Season</td>\n",
       "      <td>1730.0</td>\n",
       "      <td>1970-01-01</td>\n",
       "      <td>0.57</td>\n",
       "      <td>193</td>\n",
       "      <td>2920</td>\n",
       "      <td>3179</td>\n",
       "      <td>...</td>\n",
       "      <td>1.86</td>\n",
       "      <td>0.19</td>\n",
       "      <td>0.10</td>\n",
       "      <td>Female</td>\n",
       "      <td>5</td>\n",
       "      <td>0</td>\n",
       "      <td>0</td>\n",
       "      <td>1</td>\n",
       "      <td>0.0574</td>\n",
       "      <td>0.9426</td>\n",
       "    </tr>\n",
       "    <tr>\n",
       "      <th>77</th>\n",
       "      <td>31</td>\n",
       "      <td>457997185</td>\n",
       "      <td>2022</td>\n",
       "      <td>Full Season</td>\n",
       "      <td>900.0</td>\n",
       "      <td>1970-01-01</td>\n",
       "      <td>0.86</td>\n",
       "      <td>193</td>\n",
       "      <td>1460</td>\n",
       "      <td>1573</td>\n",
       "      <td>...</td>\n",
       "      <td>2.30</td>\n",
       "      <td>0.19</td>\n",
       "      <td>0.08</td>\n",
       "      <td>Female</td>\n",
       "      <td>10</td>\n",
       "      <td>0</td>\n",
       "      <td>0</td>\n",
       "      <td>1</td>\n",
       "      <td>0.1010</td>\n",
       "      <td>0.8990</td>\n",
       "    </tr>\n",
       "    <tr>\n",
       "      <th>78</th>\n",
       "      <td>31</td>\n",
       "      <td>457923995</td>\n",
       "      <td>2022</td>\n",
       "      <td>Half Season</td>\n",
       "      <td>486.0</td>\n",
       "      <td>1970-01-01</td>\n",
       "      <td>0.00</td>\n",
       "      <td>58</td>\n",
       "      <td>2190</td>\n",
       "      <td>999</td>\n",
       "      <td>...</td>\n",
       "      <td>1.33</td>\n",
       "      <td>0.00</td>\n",
       "      <td>0.00</td>\n",
       "      <td>Male</td>\n",
       "      <td>6</td>\n",
       "      <td>0</td>\n",
       "      <td>0</td>\n",
       "      <td>0</td>\n",
       "      <td>0.9415</td>\n",
       "      <td>0.0585</td>\n",
       "    </tr>\n",
       "    <tr>\n",
       "      <th>79</th>\n",
       "      <td>31</td>\n",
       "      <td>457930864</td>\n",
       "      <td>2022</td>\n",
       "      <td>Full Season</td>\n",
       "      <td>5400.0</td>\n",
       "      <td>1970-01-01</td>\n",
       "      <td>0.20</td>\n",
       "      <td>193</td>\n",
       "      <td>730</td>\n",
       "      <td>879</td>\n",
       "      <td>...</td>\n",
       "      <td>2.85</td>\n",
       "      <td>0.22</td>\n",
       "      <td>0.08</td>\n",
       "      <td>Female</td>\n",
       "      <td>6</td>\n",
       "      <td>0</td>\n",
       "      <td>0</td>\n",
       "      <td>1</td>\n",
       "      <td>0.2613</td>\n",
       "      <td>0.7387</td>\n",
       "    </tr>\n",
       "  </tbody>\n",
       "</table>\n",
       "<p>5 rows × 26 columns</p>\n",
       "</div>"
      ],
      "text/plain": [
       "    lkupclientid  dimcustomermasterid  year productgrouping  totalspent  \\\n",
       "75            31            457938180  2022     Half Season       588.0   \n",
       "76            31            457985469  2022     Full Season      1730.0   \n",
       "77            31            457997185  2022     Full Season       900.0   \n",
       "78            31            457923995  2022     Half Season       486.0   \n",
       "79            31            457930864  2022     Full Season      5400.0   \n",
       "\n",
       "   recentdate  attendancepercent  renewedbeforedays source_tenure  tenure  \\\n",
       "75 1970-01-01               1.00                 46          1095    1096   \n",
       "76 1970-01-01               0.57                193          2920    3179   \n",
       "77 1970-01-01               0.86                193          1460    1573   \n",
       "78 1970-01-01               0.00                 58          2190     999   \n",
       "79 1970-01-01               0.20                193           730     879   \n",
       "\n",
       "    ...  opentosendratio  clicktosendratio clicktoopenratio   gender  \\\n",
       "75  ...             0.49              0.02             0.05  Unknown   \n",
       "76  ...             1.86              0.19             0.10   Female   \n",
       "77  ...             2.30              0.19             0.08   Female   \n",
       "78  ...             1.33              0.00             0.00     Male   \n",
       "79  ...             2.85              0.22             0.08   Female   \n",
       "\n",
       "   phonecall  inperson_contact isnextyear_buyer Label Score_0 Score_1  \n",
       "75         6                 0                0     0  0.5417  0.4583  \n",
       "76         5                 0                0     1  0.0574  0.9426  \n",
       "77        10                 0                0     1  0.1010  0.8990  \n",
       "78         6                 0                0     0  0.9415  0.0585  \n",
       "79         6                 0                0     1  0.2613  0.7387  \n",
       "\n",
       "[5 rows x 26 columns]"
      ]
     },
     "execution_count": 11,
     "metadata": {},
     "output_type": "execute_result"
    }
   ],
   "source": [
    "new_predictions = predict_model(final_model, data=df_inference, raw_score=True)\n",
    "new_predictions.head()"
   ]
  },
  {
   "cell_type": "code",
   "execution_count": 12,
   "id": "411e4d80",
   "metadata": {},
   "outputs": [
    {
     "data": {
      "text/plain": [
       "1    1503\n",
       "0     243\n",
       "Name: Label, dtype: int64"
      ]
     },
     "execution_count": 12,
     "metadata": {},
     "output_type": "execute_result"
    }
   ],
   "source": [
    "new_predictions[\"Label\"].value_counts()"
   ]
  },
  {
   "cell_type": "code",
   "execution_count": 13,
   "id": "bfeb9655",
   "metadata": {},
   "outputs": [
    {
     "data": {
      "image/png": "[encoded data removed]",
      "text/plain": [
       "<Figure size 576x396 with 1 Axes>"
      ]
     },
     "metadata": {},
     "output_type": "display_data"
    }
   ],
   "source": [
    "plt.hist(new_predictions[\"Score_1\"], bins=20, edgecolor='black')\n",
    "plt.title(\"Retention Scores\")\n",
    "plt.ylabel(\"Num Fans\")\n",
    "plt.xlabel(\"SA Buyer Score\")\n",
    "plt.show()"
   ]
  },
  {
   "cell_type": "code",
   "execution_count": 14,
   "id": "7e22aece-548d-49e8-a88c-c276cecd27f6",
   "metadata": {},
   "outputs": [
    {
     "data": {
      "image/png": "[encoded data removed]",
      "text/plain": [
       "<Figure size 800x500 with 1 Axes>"
      ]
     },
     "metadata": {},
     "output_type": "display_data"
    }
   ],
   "source": [
    "plot_model(final_model, plot='feature')"
   ]
  },
  {
   "cell_type": "code",
   "execution_count": 15,
   "id": "1c4f2ff5-fdf2-464a-8e6b-94e5b4c688c5",
   "metadata": {},
   "outputs": [
    {
     "data": {
      "image/png": "[encoded data removed]",
      "text/plain": [
       "<Figure size 576x396 with 1 Axes>"
      ]
     },
     "metadata": {},
     "output_type": "display_data"
    }
   ],
   "source": [
    "plot_model(final_model, plot='confusion_matrix')"
   ]
  },
  {
   "cell_type": "code",
   "execution_count": 16,
   "id": "88ef2e16-8ae3-4618-9ecd-2a94754763fc",
   "metadata": {},
   "outputs": [
    {
     "data": {
      "image/png": "[encoded data removed]",
      "text/plain": [
       "<Figure size 576x396 with 1 Axes>"
      ]
     },
     "metadata": {},
     "output_type": "display_data"
    }
   ],
   "source": [
    "plot_model(final_model, plot='auc')"
   ]
  },
  {
   "cell_type": "markdown",
   "id": "71538730-5d53-468c-86c8-d4d7fc671786",
   "metadata": {},
   "source": [
    "### Done"
   ]
  }
 ],
 "metadata": {
  "kernelspec": {
   "display_name": "Python 3 (ipykernel)",
   "language": "python",
   "name": "python3"
  },
  "language_info": {
   "codemirror_mode": {
    "name": "ipython",
    "version": 3
   },
   "file_extension": ".py",
   "mimetype": "text/x-python",
   "name": "python",
   "nbconvert_exporter": "python",
   "pygments_lexer": "ipython3",
   "version": "3.9.4"
  },
  "vscode": {
   "interpreter": {
    "hash": "89f48dadab51a6b5b48ffc1a9e043c21cefe67453637c3444f3b86917b8aad16"
   }
  }
 },
 "nbformat": 4,
 "nbformat_minor": 5
}
