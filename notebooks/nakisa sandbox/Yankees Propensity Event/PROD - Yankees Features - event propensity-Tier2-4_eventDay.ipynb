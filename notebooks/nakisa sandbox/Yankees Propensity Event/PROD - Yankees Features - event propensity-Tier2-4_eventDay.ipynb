{
 "cells": [
  {
   "cell_type": "markdown",
   "id": "6ee08766-25fd-4da1-91b8-b0c3e74db588",
   "metadata": {},
   "source": [
    "# Yankees - Propensity Event- Tier 2 to 4\n",
    "* StelllarAlgo Data Science\n",
    "* Ryan Kazmerik & Nakisa Rad\n",
    "* Jan 31, 2022"
   ]
  },
  {
   "cell_type": "markdown",
   "id": "39108c8d-2e9f-4759-ade2-83071038dc56",
   "metadata": {},
   "source": [
    "## Hypothesis\n",
    "We can help teams predict who will buy a single ticket to the next game based on the historical data we have on that fan. This also requires engineering a new feature (isNextGameBuyer) in order to make a prediction on if the fan will buy a ticket to the next game or not."
   ]
  },
  {
   "cell_type": "markdown",
   "id": "28142011-1f32-4cc7-816b-a6dae6f70c8c",
   "metadata": {},
   "source": [
    "## Experiment\n",
    "This section details our experiment including querying data, data transformations, feature selection and modelling."
   ]
  },
  {
   "cell_type": "code",
   "execution_count": 1,
   "id": "4c533efd-600e-4bce-8203-faffbddfa700",
   "metadata": {},
   "outputs": [],
   "source": [
    "import getpass\n",
    "import pyodbc\n",
    "import pandas as pd\n",
    "import warnings\n",
    "import matplotlib.pyplot as plt\n",
    "\n",
    "from pycaret.classification import *\n",
    "\n",
    "warnings.filterwarnings('ignore')"
   ]
  },
  {
   "cell_type": "markdown",
   "id": "b64ae7d5-84af-4915-bd13-1dd9d17098a3",
   "metadata": {},
   "source": [
    "### Let's connect to MSSQL and run a stored proc to get our dataset:"
   ]
  },
  {
   "cell_type": "code",
   "execution_count": 2,
   "id": "ae561eb4-f419-4d46-b5e0-12fac9b10db8",
   "metadata": {},
   "outputs": [],
   "source": [
    "# connect to SQL Server.\n",
    "SERVER = '54.164.224.129'  \n",
    "DATABASE = 'stlrRays' \n",
    "USERNAME = 'nrad' \n",
    "PASSWORD = getpass.getpass(prompt='Enter your password')\n",
    "CNXN = pyodbc.connect('DRIVER={ODBC Driver 17 for SQL Server};SERVER='+SERVER+';DATABASE='+DATABASE+';UID='+USERNAME+';PWD='+ PASSWORD)"
   ]
  },
  {
   "cell_type": "code",
   "execution_count": 3,
   "id": "af1afe7d-a35b-494b-88f3-980fb0e3da30",
   "metadata": {},
   "outputs": [
    {
     "data": {
      "text/plain": [
       "(818954, 46)"
      ]
     },
     "execution_count": 3,
     "metadata": {},
     "output_type": "execute_result"
    }
   ],
   "source": [
    "lkupclientid = 53 # Yankees\n",
    "\n",
    "cursor = CNXN.cursor()\n",
    "\n",
    "storedProc = (\n",
    "    f\"\"\"Exec [stlrYankees].[ds].[getPropensityEventScoring] {lkupclientid}\"\"\"\n",
    ")\n",
    "\n",
    "df = pd.read_sql(storedProc, CNXN)\n",
    "\n",
    "# apply some data transformations\n",
    "df[\"year\"] = pd.to_numeric(df[\"year\"]) \n",
    "\n",
    "CNXN.commit()\n",
    "cursor.close()\n",
    "\n",
    "df.shape"
   ]
  },
  {
   "cell_type": "code",
   "execution_count": 4,
   "id": "11e97dcc-c69e-46c1-8dad-33f6291cb0c6",
   "metadata": {},
   "outputs": [
    {
     "name": "stdout",
     "output_type": "stream",
     "text": [
      "<class 'pandas.core.frame.DataFrame'>\n",
      "RangeIndex: 818954 entries, 0 to 818953\n",
      "Data columns (total 46 columns):\n",
      " #   Column                  Non-Null Count   Dtype  \n",
      "---  ------                  --------------   -----  \n",
      " 0   lkupClientId            818954 non-null  int64  \n",
      " 1   dimCustomerMasterId     818954 non-null  int64  \n",
      " 2   dimEventId              818954 non-null  int64  \n",
      " 3   inMarket                818954 non-null  bool   \n",
      " 4   customerNumber          818954 non-null  object \n",
      " 5   year                    818954 non-null  int64  \n",
      " 6   productGrouping         818954 non-null  object \n",
      " 7   Tier                    818954 non-null  int64  \n",
      " 8   eventDay                818954 non-null  int64  \n",
      " 9   totalSpent              818954 non-null  float64\n",
      " 10  recentDate              818954 non-null  object \n",
      " 11  attendancePercent       818954 non-null  float64\n",
      " 12  renewedBeforeDays       818954 non-null  int64  \n",
      " 13  isBuyer                 818954 non-null  object \n",
      " 14  source_tenure           818954 non-null  int64  \n",
      " 15  tenure                  818954 non-null  int64  \n",
      " 16  distToVenue             818954 non-null  float64\n",
      " 17  totalGames              818954 non-null  int64  \n",
      " 18  recency                 818954 non-null  int64  \n",
      " 19  click_link              818954 non-null  int64  \n",
      " 20  fill_out_form           818954 non-null  int64  \n",
      " 21  open_email              818954 non-null  int64  \n",
      " 22  send_email              818954 non-null  int64  \n",
      " 23  unsubscribe_email       818954 non-null  int64  \n",
      " 24  openToSendRatio         818954 non-null  float64\n",
      " 25  clickToSendRatio        818954 non-null  float64\n",
      " 26  clickToOpenRatio        818954 non-null  float64\n",
      " 27  posting_records         818954 non-null  int64  \n",
      " 28  resale_records          818954 non-null  int64  \n",
      " 29  resale_atp              818954 non-null  float64\n",
      " 30  forward_records         818954 non-null  int64  \n",
      " 31  cancel_records          818954 non-null  int64  \n",
      " 32  email                   818954 non-null  int64  \n",
      " 33  inbound_email           818954 non-null  int64  \n",
      " 34  inbound_phonecall       818954 non-null  int64  \n",
      " 35  inperson_contact        818954 non-null  int64  \n",
      " 36  internal_note           818954 non-null  int64  \n",
      " 37  left_message            818954 non-null  int64  \n",
      " 38  outbound_email          818954 non-null  int64  \n",
      " 39  outbound_phonecall      818954 non-null  int64  \n",
      " 40  phonecall               818954 non-null  int64  \n",
      " 41  text                    818954 non-null  int64  \n",
      " 42  unknown                 818954 non-null  int64  \n",
      " 43  credits_after_refund    818954 non-null  float64\n",
      " 44  NumberofGamesPerSeason  818954 non-null  int64  \n",
      " 45  isNextGameBuyer         818954 non-null  int64  \n",
      "dtypes: bool(1), float64(8), int64(33), object(4)\n",
      "memory usage: 281.9+ MB\n"
     ]
    }
   ],
   "source": [
    "df.info()"
   ]
  },
  {
   "cell_type": "markdown",
   "id": "ab40da92-72a7-49c1-9829-ed3805a39719",
   "metadata": {},
   "source": [
    "### We should specify the features used in our model:"
   ]
  },
  {
   "cell_type": "code",
   "execution_count": 5,
   "id": "788f1273-8b7a-46bd-a099-1a471feeacc5",
   "metadata": {},
   "outputs": [
    {
     "name": "stdout",
     "output_type": "stream",
     "text": [
      "Data for Modeling: (629260, 20)\n",
      "Unseen Data For Predictions: (111046, 20)\n",
      "\n"
     ]
    }
   ],
   "source": [
    "# choose the features for the stellar base retention model\n",
    "features = [\"dimCustomerMasterId\",\n",
    "        \"inMarket\",\n",
    "        \"attendancePercent\",\n",
    "        \"renewedBeforeDays\",\n",
    "        \"source_tenure\",\n",
    "        \"tenure\",\n",
    "        \"distToVenue\",\n",
    "        \"totalGames\",\n",
    "        \"recency\",\n",
    "        \"click_link\",\n",
    "        \"fill_out_form\",\n",
    "        \"open_email\" ,\n",
    "        \"send_email\",\n",
    "        \"unsubscribe_email\",\n",
    "        \"openToSendRatio\",\n",
    "        \"clickToSendRatio\",\n",
    "        \"clickToOpenRatio\",\n",
    "        \"Tier\",\n",
    "        \"eventDay\",\n",
    "        \"year\"\n",
    "]\n",
    "\n",
    "# copy your main dataframe\n",
    "df_dataset = df\n",
    "\n",
    "# choose the features & train year & test year\n",
    "df_dataset = df_dataset[features]\n",
    "df_dataset[\"year\"] = pd.to_numeric(df_dataset[\"year\"])\n",
    "df_dataset = df_dataset.loc[df_dataset[\"year\"] <= 2019]\n",
    "#df_dataset = df_dataset[df_dataset[\"Tier\"] == {1,2,3} ]\n",
    "\n",
    "df_train = df_dataset.sample(frac=0.85, random_state=786)\n",
    "df_eval = df_dataset.drop(df_train.index)\n",
    "\n",
    "df_train.reset_index(drop=True, inplace=True)\n",
    "df_eval.reset_index(drop=True, inplace=True)\n",
    "\n",
    "# print out the number of records for training and eval\n",
    "print('Data for Modeling: ' + str(df_train.shape))\n",
    "print('Unseen Data For Predictions: ' + str(df_eval.shape), end=\"\\n\\n\")"
   ]
  },
  {
   "cell_type": "markdown",
   "id": "4f2da06d-9015-49fd-89b3-956c2ebf66e9",
   "metadata": {},
   "source": [
    "### Now we can model the data using a binary classification prediction for the isnextyear_buyer field to see how likely a customer is to re-purchase."
   ]
  },
  {
   "cell_type": "code",
   "execution_count": 6,
   "id": "23a69cdc-b3ec-48c8-9ce5-29f617779389",
   "metadata": {},
   "outputs": [],
   "source": [
    "setup(\n",
    "    data= df_train, \n",
    "    target=\"Tier\", \n",
    "    train_size = 0.80,\n",
    "    data_split_shuffle=True,\n",
    "    ignore_features=[\"dimCustomerMasterId\",\"year\"],\n",
    "    silent=True,\n",
    "    verbose=False,\n",
    "    numeric_features=[\"inMarket\",\n",
    "        \"attendancePercent\",\n",
    "        \"attendancePercent\",\n",
    "        \"renewedBeforeDays\",\n",
    "        \"source_tenure\",\n",
    "        \"tenure\",\n",
    "        \"distToVenue\",\n",
    "        \"totalGames\",\n",
    "        \"recency\",\n",
    "        \"eventDay\",\n",
    "        \"click_link\",\n",
    "        \"fill_out_form\",\n",
    "        \"open_email\" ,\n",
    "        \"send_email\",\n",
    "        \"unsubscribe_email\",\n",
    "        \"openToSendRatio\",\n",
    "        \"clickToSendRatio\",\n",
    "        \"clickToOpenRatio\"\n",
    "    ]\n",
    ");"
   ]
  },
  {
   "cell_type": "code",
   "execution_count": 7,
   "id": "ef2db9d2-02c2-45c0-b6bb-5cad42c373ce",
   "metadata": {},
   "outputs": [
    {
     "data": {
      "text/html": [
       "<style  type=\"text/css\" >\n",
       "    #T_29124_ th {\n",
       "          text-align: left;\n",
       "    }#T_29124_row0_col0,#T_29124_row0_col2,#T_29124_row1_col0,#T_29124_row1_col1,#T_29124_row1_col3,#T_29124_row1_col4,#T_29124_row1_col5,#T_29124_row1_col6,#T_29124_row1_col7,#T_29124_row2_col0,#T_29124_row2_col1,#T_29124_row2_col2,#T_29124_row2_col3,#T_29124_row2_col4,#T_29124_row2_col5,#T_29124_row2_col6,#T_29124_row2_col7,#T_29124_row3_col0,#T_29124_row3_col1,#T_29124_row3_col2,#T_29124_row3_col3,#T_29124_row3_col4,#T_29124_row3_col5,#T_29124_row3_col6,#T_29124_row3_col7,#T_29124_row4_col0,#T_29124_row4_col1,#T_29124_row4_col2,#T_29124_row4_col3,#T_29124_row4_col4,#T_29124_row4_col5,#T_29124_row4_col6,#T_29124_row4_col7{\n",
       "            text-align:  left;\n",
       "            text-align:  left;\n",
       "        }#T_29124_row0_col1,#T_29124_row0_col3,#T_29124_row0_col4,#T_29124_row0_col5,#T_29124_row0_col6,#T_29124_row0_col7,#T_29124_row1_col2{\n",
       "            text-align:  left;\n",
       "            text-align:  left;\n",
       "            background-color:  yellow;\n",
       "        }#T_29124_row0_col8,#T_29124_row1_col8,#T_29124_row3_col8,#T_29124_row4_col8{\n",
       "            text-align:  left;\n",
       "            text-align:  left;\n",
       "            background-color:  lightgrey;\n",
       "        }#T_29124_row2_col8{\n",
       "            text-align:  left;\n",
       "            text-align:  left;\n",
       "            background-color:  yellow;\n",
       "            background-color:  lightgrey;\n",
       "        }</style><table id=\"T_29124_\" ><thead>    <tr>        <th class=\"blank level0\" ></th>        <th class=\"col_heading level0 col0\" >Model</th>        <th class=\"col_heading level0 col1\" >Accuracy</th>        <th class=\"col_heading level0 col2\" >AUC</th>        <th class=\"col_heading level0 col3\" >Recall</th>        <th class=\"col_heading level0 col4\" >Prec.</th>        <th class=\"col_heading level0 col5\" >F1</th>        <th class=\"col_heading level0 col6\" >Kappa</th>        <th class=\"col_heading level0 col7\" >MCC</th>        <th class=\"col_heading level0 col8\" >TT (Sec)</th>    </tr></thead><tbody>\n",
       "                <tr>\n",
       "                        <th id=\"T_29124_level0_row0\" class=\"row_heading level0 row0\" >rf</th>\n",
       "                        <td id=\"T_29124_row0_col0\" class=\"data row0 col0\" >Random Forest Classifier</td>\n",
       "                        <td id=\"T_29124_row0_col1\" class=\"data row0 col1\" >0.7380</td>\n",
       "                        <td id=\"T_29124_row0_col2\" class=\"data row0 col2\" >0.8965</td>\n",
       "                        <td id=\"T_29124_row0_col3\" class=\"data row0 col3\" >0.7330</td>\n",
       "                        <td id=\"T_29124_row0_col4\" class=\"data row0 col4\" >0.7365</td>\n",
       "                        <td id=\"T_29124_row0_col5\" class=\"data row0 col5\" >0.7367</td>\n",
       "                        <td id=\"T_29124_row0_col6\" class=\"data row0 col6\" >0.6043</td>\n",
       "                        <td id=\"T_29124_row0_col7\" class=\"data row0 col7\" >0.6048</td>\n",
       "                        <td id=\"T_29124_row0_col8\" class=\"data row0 col8\" >29.0300</td>\n",
       "            </tr>\n",
       "            <tr>\n",
       "                        <th id=\"T_29124_level0_row1\" class=\"row_heading level0 row1\" >xgboost</th>\n",
       "                        <td id=\"T_29124_row1_col0\" class=\"data row1 col0\" >Extreme Gradient Boosting</td>\n",
       "                        <td id=\"T_29124_row1_col1\" class=\"data row1 col1\" >0.7303</td>\n",
       "                        <td id=\"T_29124_row1_col2\" class=\"data row1 col2\" >0.8979</td>\n",
       "                        <td id=\"T_29124_row1_col3\" class=\"data row1 col3\" >0.7246</td>\n",
       "                        <td id=\"T_29124_row1_col4\" class=\"data row1 col4\" >0.7286</td>\n",
       "                        <td id=\"T_29124_row1_col5\" class=\"data row1 col5\" >0.7286</td>\n",
       "                        <td id=\"T_29124_row1_col6\" class=\"data row1 col6\" >0.5924</td>\n",
       "                        <td id=\"T_29124_row1_col7\" class=\"data row1 col7\" >0.5930</td>\n",
       "                        <td id=\"T_29124_row1_col8\" class=\"data row1 col8\" >49.4380</td>\n",
       "            </tr>\n",
       "            <tr>\n",
       "                        <th id=\"T_29124_level0_row2\" class=\"row_heading level0 row2\" >lightgbm</th>\n",
       "                        <td id=\"T_29124_row2_col0\" class=\"data row2 col0\" >Light Gradient Boosting Machine</td>\n",
       "                        <td id=\"T_29124_row2_col1\" class=\"data row2 col1\" >0.7189</td>\n",
       "                        <td id=\"T_29124_row2_col2\" class=\"data row2 col2\" >0.8892</td>\n",
       "                        <td id=\"T_29124_row2_col3\" class=\"data row2 col3\" >0.7130</td>\n",
       "                        <td id=\"T_29124_row2_col4\" class=\"data row2 col4\" >0.7165</td>\n",
       "                        <td id=\"T_29124_row2_col5\" class=\"data row2 col5\" >0.7166</td>\n",
       "                        <td id=\"T_29124_row2_col6\" class=\"data row2 col6\" >0.5752</td>\n",
       "                        <td id=\"T_29124_row2_col7\" class=\"data row2 col7\" >0.5760</td>\n",
       "                        <td id=\"T_29124_row2_col8\" class=\"data row2 col8\" >3.9280</td>\n",
       "            </tr>\n",
       "            <tr>\n",
       "                        <th id=\"T_29124_level0_row3\" class=\"row_heading level0 row3\" >gbc</th>\n",
       "                        <td id=\"T_29124_row3_col0\" class=\"data row3 col0\" >Gradient Boosting Classifier</td>\n",
       "                        <td id=\"T_29124_row3_col1\" class=\"data row3 col1\" >0.6552</td>\n",
       "                        <td id=\"T_29124_row3_col2\" class=\"data row3 col2\" >0.8427</td>\n",
       "                        <td id=\"T_29124_row3_col3\" class=\"data row3 col3\" >0.6521</td>\n",
       "                        <td id=\"T_29124_row3_col4\" class=\"data row3 col4\" >0.6525</td>\n",
       "                        <td id=\"T_29124_row3_col5\" class=\"data row3 col5\" >0.6502</td>\n",
       "                        <td id=\"T_29124_row3_col6\" class=\"data row3 col6\" >0.4809</td>\n",
       "                        <td id=\"T_29124_row3_col7\" class=\"data row3 col7\" >0.4837</td>\n",
       "                        <td id=\"T_29124_row3_col8\" class=\"data row3 col8\" >70.2920</td>\n",
       "            </tr>\n",
       "            <tr>\n",
       "                        <th id=\"T_29124_level0_row4\" class=\"row_heading level0 row4\" >lr</th>\n",
       "                        <td id=\"T_29124_row4_col0\" class=\"data row4 col0\" >Logistic Regression</td>\n",
       "                        <td id=\"T_29124_row4_col1\" class=\"data row4 col1\" >0.5545</td>\n",
       "                        <td id=\"T_29124_row4_col2\" class=\"data row4 col2\" >0.7410</td>\n",
       "                        <td id=\"T_29124_row4_col3\" class=\"data row4 col3\" >0.5319</td>\n",
       "                        <td id=\"T_29124_row4_col4\" class=\"data row4 col4\" >0.5475</td>\n",
       "                        <td id=\"T_29124_row4_col5\" class=\"data row4 col5\" >0.5227</td>\n",
       "                        <td id=\"T_29124_row4_col6\" class=\"data row4 col6\" >0.3160</td>\n",
       "                        <td id=\"T_29124_row4_col7\" class=\"data row4 col7\" >0.3317</td>\n",
       "                        <td id=\"T_29124_row4_col8\" class=\"data row4 col8\" >33.1290</td>\n",
       "            </tr>\n",
       "    </tbody></table>"
      ],
      "text/plain": [
       "<pandas.io.formats.style.Styler at 0x7fd3d7ba9fd0>"
      ]
     },
     "metadata": {},
     "output_type": "display_data"
    }
   ],
   "source": [
    "model_matrix = compare_models(\n",
    "    fold=10,\n",
    "    include=[\"gbc\", \"lightgbm\", \"lr\", \"rf\", \"xgboost\"]\n",
    ")"
   ]
  },
  {
   "cell_type": "code",
   "execution_count": 8,
   "id": "d9f030ed-4b6a-4a87-a01e-129dc49e0d4a",
   "metadata": {},
   "outputs": [
    {
     "data": {
      "text/html": [
       "<style  type=\"text/css\" >\n",
       "#T_659ae_row10_col0,#T_659ae_row10_col1,#T_659ae_row10_col2,#T_659ae_row10_col3,#T_659ae_row10_col4,#T_659ae_row10_col5,#T_659ae_row10_col6{\n",
       "            background:  yellow;\n",
       "        }</style><table id=\"T_659ae_\" ><thead>    <tr>        <th class=\"blank level0\" ></th>        <th class=\"col_heading level0 col0\" >Accuracy</th>        <th class=\"col_heading level0 col1\" >AUC</th>        <th class=\"col_heading level0 col2\" >Recall</th>        <th class=\"col_heading level0 col3\" >Prec.</th>        <th class=\"col_heading level0 col4\" >F1</th>        <th class=\"col_heading level0 col5\" >Kappa</th>        <th class=\"col_heading level0 col6\" >MCC</th>    </tr></thead><tbody>\n",
       "                <tr>\n",
       "                        <th id=\"T_659ae_level0_row0\" class=\"row_heading level0 row0\" >0</th>\n",
       "                        <td id=\"T_659ae_row0_col0\" class=\"data row0 col0\" >0.7384</td>\n",
       "                        <td id=\"T_659ae_row0_col1\" class=\"data row0 col1\" >0.8961</td>\n",
       "                        <td id=\"T_659ae_row0_col2\" class=\"data row0 col2\" >0.7333</td>\n",
       "                        <td id=\"T_659ae_row0_col3\" class=\"data row0 col3\" >0.7368</td>\n",
       "                        <td id=\"T_659ae_row0_col4\" class=\"data row0 col4\" >0.7371</td>\n",
       "                        <td id=\"T_659ae_row0_col5\" class=\"data row0 col5\" >0.6049</td>\n",
       "                        <td id=\"T_659ae_row0_col6\" class=\"data row0 col6\" >0.6053</td>\n",
       "            </tr>\n",
       "            <tr>\n",
       "                        <th id=\"T_659ae_level0_row1\" class=\"row_heading level0 row1\" >1</th>\n",
       "                        <td id=\"T_659ae_row1_col0\" class=\"data row1 col0\" >0.7368</td>\n",
       "                        <td id=\"T_659ae_row1_col1\" class=\"data row1 col1\" >0.8954</td>\n",
       "                        <td id=\"T_659ae_row1_col2\" class=\"data row1 col2\" >0.7316</td>\n",
       "                        <td id=\"T_659ae_row1_col3\" class=\"data row1 col3\" >0.7349</td>\n",
       "                        <td id=\"T_659ae_row1_col4\" class=\"data row1 col4\" >0.7353</td>\n",
       "                        <td id=\"T_659ae_row1_col5\" class=\"data row1 col5\" >0.6024</td>\n",
       "                        <td id=\"T_659ae_row1_col6\" class=\"data row1 col6\" >0.6029</td>\n",
       "            </tr>\n",
       "            <tr>\n",
       "                        <th id=\"T_659ae_level0_row2\" class=\"row_heading level0 row2\" >2</th>\n",
       "                        <td id=\"T_659ae_row2_col0\" class=\"data row2 col0\" >0.7410</td>\n",
       "                        <td id=\"T_659ae_row2_col1\" class=\"data row2 col1\" >0.8980</td>\n",
       "                        <td id=\"T_659ae_row2_col2\" class=\"data row2 col2\" >0.7358</td>\n",
       "                        <td id=\"T_659ae_row2_col3\" class=\"data row2 col3\" >0.7396</td>\n",
       "                        <td id=\"T_659ae_row2_col4\" class=\"data row2 col4\" >0.7398</td>\n",
       "                        <td id=\"T_659ae_row2_col5\" class=\"data row2 col5\" >0.6088</td>\n",
       "                        <td id=\"T_659ae_row2_col6\" class=\"data row2 col6\" >0.6092</td>\n",
       "            </tr>\n",
       "            <tr>\n",
       "                        <th id=\"T_659ae_level0_row3\" class=\"row_heading level0 row3\" >3</th>\n",
       "                        <td id=\"T_659ae_row3_col0\" class=\"data row3 col0\" >0.7379</td>\n",
       "                        <td id=\"T_659ae_row3_col1\" class=\"data row3 col1\" >0.8963</td>\n",
       "                        <td id=\"T_659ae_row3_col2\" class=\"data row3 col2\" >0.7329</td>\n",
       "                        <td id=\"T_659ae_row3_col3\" class=\"data row3 col3\" >0.7365</td>\n",
       "                        <td id=\"T_659ae_row3_col4\" class=\"data row3 col4\" >0.7367</td>\n",
       "                        <td id=\"T_659ae_row3_col5\" class=\"data row3 col5\" >0.6042</td>\n",
       "                        <td id=\"T_659ae_row3_col6\" class=\"data row3 col6\" >0.6046</td>\n",
       "            </tr>\n",
       "            <tr>\n",
       "                        <th id=\"T_659ae_level0_row4\" class=\"row_heading level0 row4\" >4</th>\n",
       "                        <td id=\"T_659ae_row4_col0\" class=\"data row4 col0\" >0.7412</td>\n",
       "                        <td id=\"T_659ae_row4_col1\" class=\"data row4 col1\" >0.8973</td>\n",
       "                        <td id=\"T_659ae_row4_col2\" class=\"data row4 col2\" >0.7364</td>\n",
       "                        <td id=\"T_659ae_row4_col3\" class=\"data row4 col3\" >0.7398</td>\n",
       "                        <td id=\"T_659ae_row4_col4\" class=\"data row4 col4\" >0.7400</td>\n",
       "                        <td id=\"T_659ae_row4_col5\" class=\"data row4 col5\" >0.6092</td>\n",
       "                        <td id=\"T_659ae_row4_col6\" class=\"data row4 col6\" >0.6095</td>\n",
       "            </tr>\n",
       "            <tr>\n",
       "                        <th id=\"T_659ae_level0_row5\" class=\"row_heading level0 row5\" >5</th>\n",
       "                        <td id=\"T_659ae_row5_col0\" class=\"data row5 col0\" >0.7382</td>\n",
       "                        <td id=\"T_659ae_row5_col1\" class=\"data row5 col1\" >0.8965</td>\n",
       "                        <td id=\"T_659ae_row5_col2\" class=\"data row5 col2\" >0.7334</td>\n",
       "                        <td id=\"T_659ae_row5_col3\" class=\"data row5 col3\" >0.7367</td>\n",
       "                        <td id=\"T_659ae_row5_col4\" class=\"data row5 col4\" >0.7369</td>\n",
       "                        <td id=\"T_659ae_row5_col5\" class=\"data row5 col5\" >0.6046</td>\n",
       "                        <td id=\"T_659ae_row5_col6\" class=\"data row5 col6\" >0.6050</td>\n",
       "            </tr>\n",
       "            <tr>\n",
       "                        <th id=\"T_659ae_level0_row6\" class=\"row_heading level0 row6\" >6</th>\n",
       "                        <td id=\"T_659ae_row6_col0\" class=\"data row6 col0\" >0.7348</td>\n",
       "                        <td id=\"T_659ae_row6_col1\" class=\"data row6 col1\" >0.8952</td>\n",
       "                        <td id=\"T_659ae_row6_col2\" class=\"data row6 col2\" >0.7295</td>\n",
       "                        <td id=\"T_659ae_row6_col3\" class=\"data row6 col3\" >0.7332</td>\n",
       "                        <td id=\"T_659ae_row6_col4\" class=\"data row6 col4\" >0.7333</td>\n",
       "                        <td id=\"T_659ae_row6_col5\" class=\"data row6 col5\" >0.5994</td>\n",
       "                        <td id=\"T_659ae_row6_col6\" class=\"data row6 col6\" >0.5999</td>\n",
       "            </tr>\n",
       "            <tr>\n",
       "                        <th id=\"T_659ae_level0_row7\" class=\"row_heading level0 row7\" >7</th>\n",
       "                        <td id=\"T_659ae_row7_col0\" class=\"data row7 col0\" >0.7370</td>\n",
       "                        <td id=\"T_659ae_row7_col1\" class=\"data row7 col1\" >0.8956</td>\n",
       "                        <td id=\"T_659ae_row7_col2\" class=\"data row7 col2\" >0.7321</td>\n",
       "                        <td id=\"T_659ae_row7_col3\" class=\"data row7 col3\" >0.7353</td>\n",
       "                        <td id=\"T_659ae_row7_col4\" class=\"data row7 col4\" >0.7356</td>\n",
       "                        <td id=\"T_659ae_row7_col5\" class=\"data row7 col5\" >0.6028</td>\n",
       "                        <td id=\"T_659ae_row7_col6\" class=\"data row7 col6\" >0.6032</td>\n",
       "            </tr>\n",
       "            <tr>\n",
       "                        <th id=\"T_659ae_level0_row8\" class=\"row_heading level0 row8\" >8</th>\n",
       "                        <td id=\"T_659ae_row8_col0\" class=\"data row8 col0\" >0.7385</td>\n",
       "                        <td id=\"T_659ae_row8_col1\" class=\"data row8 col1\" >0.8974</td>\n",
       "                        <td id=\"T_659ae_row8_col2\" class=\"data row8 col2\" >0.7334</td>\n",
       "                        <td id=\"T_659ae_row8_col3\" class=\"data row8 col3\" >0.7369</td>\n",
       "                        <td id=\"T_659ae_row8_col4\" class=\"data row8 col4\" >0.7372</td>\n",
       "                        <td id=\"T_659ae_row8_col5\" class=\"data row8 col5\" >0.6050</td>\n",
       "                        <td id=\"T_659ae_row8_col6\" class=\"data row8 col6\" >0.6054</td>\n",
       "            </tr>\n",
       "            <tr>\n",
       "                        <th id=\"T_659ae_level0_row9\" class=\"row_heading level0 row9\" >9</th>\n",
       "                        <td id=\"T_659ae_row9_col0\" class=\"data row9 col0\" >0.7365</td>\n",
       "                        <td id=\"T_659ae_row9_col1\" class=\"data row9 col1\" >0.8970</td>\n",
       "                        <td id=\"T_659ae_row9_col2\" class=\"data row9 col2\" >0.7316</td>\n",
       "                        <td id=\"T_659ae_row9_col3\" class=\"data row9 col3\" >0.7351</td>\n",
       "                        <td id=\"T_659ae_row9_col4\" class=\"data row9 col4\" >0.7353</td>\n",
       "                        <td id=\"T_659ae_row9_col5\" class=\"data row9 col5\" >0.6021</td>\n",
       "                        <td id=\"T_659ae_row9_col6\" class=\"data row9 col6\" >0.6025</td>\n",
       "            </tr>\n",
       "            <tr>\n",
       "                        <th id=\"T_659ae_level0_row10\" class=\"row_heading level0 row10\" >Mean</th>\n",
       "                        <td id=\"T_659ae_row10_col0\" class=\"data row10 col0\" >0.7380</td>\n",
       "                        <td id=\"T_659ae_row10_col1\" class=\"data row10 col1\" >0.8965</td>\n",
       "                        <td id=\"T_659ae_row10_col2\" class=\"data row10 col2\" >0.7330</td>\n",
       "                        <td id=\"T_659ae_row10_col3\" class=\"data row10 col3\" >0.7365</td>\n",
       "                        <td id=\"T_659ae_row10_col4\" class=\"data row10 col4\" >0.7367</td>\n",
       "                        <td id=\"T_659ae_row10_col5\" class=\"data row10 col5\" >0.6043</td>\n",
       "                        <td id=\"T_659ae_row10_col6\" class=\"data row10 col6\" >0.6048</td>\n",
       "            </tr>\n",
       "            <tr>\n",
       "                        <th id=\"T_659ae_level0_row11\" class=\"row_heading level0 row11\" >SD</th>\n",
       "                        <td id=\"T_659ae_row11_col0\" class=\"data row11 col0\" >0.0019</td>\n",
       "                        <td id=\"T_659ae_row11_col1\" class=\"data row11 col1\" >0.0009</td>\n",
       "                        <td id=\"T_659ae_row11_col2\" class=\"data row11 col2\" >0.0019</td>\n",
       "                        <td id=\"T_659ae_row11_col3\" class=\"data row11 col3\" >0.0019</td>\n",
       "                        <td id=\"T_659ae_row11_col4\" class=\"data row11 col4\" >0.0019</td>\n",
       "                        <td id=\"T_659ae_row11_col5\" class=\"data row11 col5\" >0.0028</td>\n",
       "                        <td id=\"T_659ae_row11_col6\" class=\"data row11 col6\" >0.0028</td>\n",
       "            </tr>\n",
       "    </tbody></table>"
      ],
      "text/plain": [
       "<pandas.io.formats.style.Styler at 0x7fd3c02e6e20>"
      ]
     },
     "metadata": {},
     "output_type": "display_data"
    }
   ],
   "source": [
    "best_model = create_model(model_matrix)\n",
    "final_model = finalize_model(best_model)"
   ]
  },
  {
   "cell_type": "markdown",
   "id": "3aab9021-4462-423a-8e3c-fbe1f36c6110",
   "metadata": {},
   "source": [
    "### Let's load in our 2021 season data and get retention scores using the model:"
   ]
  },
  {
   "cell_type": "code",
   "execution_count": 9,
   "id": "c249a813-c882-4869-9490-6ab766a8c223",
   "metadata": {},
   "outputs": [
    {
     "data": {
      "text/plain": [
       "(78648, 46)"
      ]
     },
     "execution_count": 9,
     "metadata": {},
     "output_type": "execute_result"
    }
   ],
   "source": [
    "df_inference = df.loc[df[\"year\"] >= 2021]\n",
    "df_inference = df_inference.fillna(0)\n",
    "df_inference.shape"
   ]
  },
  {
   "cell_type": "code",
   "execution_count": 10,
   "id": "745b62fb-fb2e-4b4a-9c48-8ce4de472a83",
   "metadata": {},
   "outputs": [
    {
     "data": {
      "text/html": [
       "<div>\n",
       "<style scoped>\n",
       "    .dataframe tbody tr th:only-of-type {\n",
       "        vertical-align: middle;\n",
       "    }\n",
       "\n",
       "    .dataframe tbody tr th {\n",
       "        vertical-align: top;\n",
       "    }\n",
       "\n",
       "    .dataframe thead th {\n",
       "        text-align: right;\n",
       "    }\n",
       "</style>\n",
       "<table border=\"1\" class=\"dataframe\">\n",
       "  <thead>\n",
       "    <tr style=\"text-align: right;\">\n",
       "      <th></th>\n",
       "      <th>lkupClientId</th>\n",
       "      <th>dimCustomerMasterId</th>\n",
       "      <th>dimEventId</th>\n",
       "      <th>inMarket</th>\n",
       "      <th>customerNumber</th>\n",
       "      <th>year</th>\n",
       "      <th>productGrouping</th>\n",
       "      <th>Tier</th>\n",
       "      <th>eventDay</th>\n",
       "      <th>totalSpent</th>\n",
       "      <th>...</th>\n",
       "      <th>phonecall</th>\n",
       "      <th>text</th>\n",
       "      <th>unknown</th>\n",
       "      <th>credits_after_refund</th>\n",
       "      <th>NumberofGamesPerSeason</th>\n",
       "      <th>isNextGameBuyer</th>\n",
       "      <th>Label</th>\n",
       "      <th>Score_2</th>\n",
       "      <th>Score_3</th>\n",
       "      <th>Score_4</th>\n",
       "    </tr>\n",
       "  </thead>\n",
       "  <tbody>\n",
       "    <tr>\n",
       "      <th>740306</th>\n",
       "      <td>53</td>\n",
       "      <td>439</td>\n",
       "      <td>913</td>\n",
       "      <td>True</td>\n",
       "      <td>1213275</td>\n",
       "      <td>2021</td>\n",
       "      <td>Online Individual Game</td>\n",
       "      <td>3</td>\n",
       "      <td>7</td>\n",
       "      <td>170.0</td>\n",
       "      <td>...</td>\n",
       "      <td>0</td>\n",
       "      <td>0</td>\n",
       "      <td>0</td>\n",
       "      <td>0.0</td>\n",
       "      <td>94</td>\n",
       "      <td>0</td>\n",
       "      <td>2</td>\n",
       "      <td>0.46</td>\n",
       "      <td>0.29</td>\n",
       "      <td>0.25</td>\n",
       "    </tr>\n",
       "    <tr>\n",
       "      <th>740307</th>\n",
       "      <td>53</td>\n",
       "      <td>822</td>\n",
       "      <td>905</td>\n",
       "      <td>True</td>\n",
       "      <td>10605691</td>\n",
       "      <td>2021</td>\n",
       "      <td>Online Individual Game</td>\n",
       "      <td>4</td>\n",
       "      <td>7</td>\n",
       "      <td>660.0</td>\n",
       "      <td>...</td>\n",
       "      <td>0</td>\n",
       "      <td>0</td>\n",
       "      <td>0</td>\n",
       "      <td>0.0</td>\n",
       "      <td>94</td>\n",
       "      <td>0</td>\n",
       "      <td>2</td>\n",
       "      <td>0.43</td>\n",
       "      <td>0.27</td>\n",
       "      <td>0.30</td>\n",
       "    </tr>\n",
       "    <tr>\n",
       "      <th>740308</th>\n",
       "      <td>53</td>\n",
       "      <td>1017</td>\n",
       "      <td>526</td>\n",
       "      <td>True</td>\n",
       "      <td>26719583</td>\n",
       "      <td>2021</td>\n",
       "      <td>Online Individual Game</td>\n",
       "      <td>4</td>\n",
       "      <td>5</td>\n",
       "      <td>0.0</td>\n",
       "      <td>...</td>\n",
       "      <td>0</td>\n",
       "      <td>0</td>\n",
       "      <td>0</td>\n",
       "      <td>0.0</td>\n",
       "      <td>94</td>\n",
       "      <td>0</td>\n",
       "      <td>3</td>\n",
       "      <td>0.16</td>\n",
       "      <td>0.78</td>\n",
       "      <td>0.06</td>\n",
       "    </tr>\n",
       "    <tr>\n",
       "      <th>740309</th>\n",
       "      <td>53</td>\n",
       "      <td>1943</td>\n",
       "      <td>1254</td>\n",
       "      <td>True</td>\n",
       "      <td>1394871</td>\n",
       "      <td>2021</td>\n",
       "      <td>Online Individual Game</td>\n",
       "      <td>2</td>\n",
       "      <td>5</td>\n",
       "      <td>220.0</td>\n",
       "      <td>...</td>\n",
       "      <td>0</td>\n",
       "      <td>0</td>\n",
       "      <td>0</td>\n",
       "      <td>0.0</td>\n",
       "      <td>94</td>\n",
       "      <td>0</td>\n",
       "      <td>3</td>\n",
       "      <td>0.49</td>\n",
       "      <td>0.50</td>\n",
       "      <td>0.01</td>\n",
       "    </tr>\n",
       "    <tr>\n",
       "      <th>740310</th>\n",
       "      <td>53</td>\n",
       "      <td>2586</td>\n",
       "      <td>102</td>\n",
       "      <td>False</td>\n",
       "      <td>13241926</td>\n",
       "      <td>2021</td>\n",
       "      <td>Online Individual Game</td>\n",
       "      <td>3</td>\n",
       "      <td>3</td>\n",
       "      <td>280.0</td>\n",
       "      <td>...</td>\n",
       "      <td>0</td>\n",
       "      <td>0</td>\n",
       "      <td>0</td>\n",
       "      <td>0.0</td>\n",
       "      <td>94</td>\n",
       "      <td>0</td>\n",
       "      <td>3</td>\n",
       "      <td>0.27</td>\n",
       "      <td>0.39</td>\n",
       "      <td>0.34</td>\n",
       "    </tr>\n",
       "  </tbody>\n",
       "</table>\n",
       "<p>5 rows × 50 columns</p>\n",
       "</div>"
      ],
      "text/plain": [
       "        lkupClientId  dimCustomerMasterId  dimEventId  inMarket  \\\n",
       "740306            53                  439         913      True   \n",
       "740307            53                  822         905      True   \n",
       "740308            53                 1017         526      True   \n",
       "740309            53                 1943        1254      True   \n",
       "740310            53                 2586         102     False   \n",
       "\n",
       "       customerNumber  year         productGrouping  Tier  eventDay  \\\n",
       "740306        1213275  2021  Online Individual Game     3         7   \n",
       "740307       10605691  2021  Online Individual Game     4         7   \n",
       "740308       26719583  2021  Online Individual Game     4         5   \n",
       "740309        1394871  2021  Online Individual Game     2         5   \n",
       "740310       13241926  2021  Online Individual Game     3         3   \n",
       "\n",
       "        totalSpent  ... phonecall  text  unknown credits_after_refund  \\\n",
       "740306       170.0  ...         0     0        0                  0.0   \n",
       "740307       660.0  ...         0     0        0                  0.0   \n",
       "740308         0.0  ...         0     0        0                  0.0   \n",
       "740309       220.0  ...         0     0        0                  0.0   \n",
       "740310       280.0  ...         0     0        0                  0.0   \n",
       "\n",
       "        NumberofGamesPerSeason  isNextGameBuyer  Label  Score_2  Score_3  \\\n",
       "740306                      94                0      2     0.46     0.29   \n",
       "740307                      94                0      2     0.43     0.27   \n",
       "740308                      94                0      3     0.16     0.78   \n",
       "740309                      94                0      3     0.49     0.50   \n",
       "740310                      94                0      3     0.27     0.39   \n",
       "\n",
       "        Score_4  \n",
       "740306     0.25  \n",
       "740307     0.30  \n",
       "740308     0.06  \n",
       "740309     0.01  \n",
       "740310     0.34  \n",
       "\n",
       "[5 rows x 50 columns]"
      ]
     },
     "execution_count": 10,
     "metadata": {},
     "output_type": "execute_result"
    }
   ],
   "source": [
    "new_predictions = predict_model(final_model, data=df_inference, raw_score=True)\n",
    "new_predictions.head()"
   ]
  },
  {
   "cell_type": "code",
   "execution_count": 11,
   "id": "c98d3de4-966c-4d4a-af8f-e4a2d78eed38",
   "metadata": {},
   "outputs": [
    {
     "data": {
      "text/plain": [
       "2    37438\n",
       "3    30281\n",
       "4    10929\n",
       "Name: Label, dtype: int64"
      ]
     },
     "execution_count": 11,
     "metadata": {},
     "output_type": "execute_result"
    }
   ],
   "source": [
    "new_predictions[\"Label\"].value_counts()"
   ]
  },
  {
   "cell_type": "code",
   "execution_count": 13,
   "id": "95e96920-bc9c-4b50-837c-89e392d13449",
   "metadata": {},
   "outputs": [
    {
     "data": {
      "text/plain": [
       "(0.2, 0.4]       29805\n",
       "(0.4, 0.6]       19450\n",
       "(0.6, 0.8]       16265\n",
       "(-0.001, 0.2]     7918\n",
       "(0.8, 1.0]        5210\n",
       "Name: Score_2, dtype: int64"
      ]
     },
     "execution_count": 13,
     "metadata": {},
     "output_type": "execute_result"
    }
   ],
   "source": [
    "new_predictions[\"Score_2\"].value_counts(bins=[0, 0.2, 0.4, 0.6, 0.8, 1.0])"
   ]
  },
  {
   "cell_type": "code",
   "execution_count": 14,
   "id": "fe7a9d96-43a9-4e32-9b94-c18f15a6ab79",
   "metadata": {},
   "outputs": [
    {
     "data": {
      "text/plain": [
       "(-0.001, 0.2]    23882\n",
       "(0.2, 0.4]       21994\n",
       "(0.4, 0.6]       18656\n",
       "(0.6, 0.8]       12558\n",
       "(0.8, 1.0]        1558\n",
       "Name: Score_3, dtype: int64"
      ]
     },
     "execution_count": 14,
     "metadata": {},
     "output_type": "execute_result"
    }
   ],
   "source": [
    "new_predictions[\"Score_3\"].value_counts(bins=[0, 0.2, 0.4, 0.6, 0.8, 1.0])"
   ]
  },
  {
   "cell_type": "code",
   "execution_count": 15,
   "id": "f26f9ecd-2fb1-4712-bf56-ac2049728b40",
   "metadata": {},
   "outputs": [
    {
     "data": {
      "text/plain": [
       "(-0.001, 0.2]    53567\n",
       "(0.2, 0.4]       13890\n",
       "(0.4, 0.6]        5253\n",
       "(0.6, 0.8]        4589\n",
       "(0.8, 1.0]        1349\n",
       "Name: Score_4, dtype: int64"
      ]
     },
     "execution_count": 15,
     "metadata": {},
     "output_type": "execute_result"
    }
   ],
   "source": [
    "new_predictions[\"Score_4\"].value_counts(bins=[0, 0.2, 0.4, 0.6, 0.8, 1.0])"
   ]
  },
  {
   "cell_type": "code",
   "execution_count": 16,
   "id": "3b4b1d51-1c33-489a-95f6-ab75e428c760",
   "metadata": {},
   "outputs": [
    {
     "data": {
      "text/plain": [
       "array([[<AxesSubplot:title={'center':'Score_2'}>]], dtype=object)"
      ]
     },
     "execution_count": 16,
     "metadata": {},
     "output_type": "execute_result"
    },
    {
     "data": {
      "image/png": "[encoded data removed]",
      "text/plain": [
       "<Figure size 720x360 with 1 Axes>"
      ]
     },
     "metadata": {
      "needs_background": "light"
     },
     "output_type": "display_data"
    }
   ],
   "source": [
    "new_predictions[new_predictions[\"Label\"]==2][[\"Score_2\"]].hist(bins=30, figsize=(10,5), range=[0,1])"
   ]
  },
  {
   "cell_type": "code",
   "execution_count": 17,
   "id": "144bd27b-9798-4f8b-a3a3-95298d8e2c01",
   "metadata": {},
   "outputs": [
    {
     "data": {
      "image/png": "[encoded data removed]",
      "text/plain": [
       "<Figure size 800x500 with 1 Axes>"
      ]
     },
     "metadata": {},
     "output_type": "display_data"
    }
   ],
   "source": [
    "plot_model(best_model, plot='feature')"
   ]
  },
  {
   "cell_type": "code",
   "execution_count": 18,
   "id": "79e34840-9a47-486f-a648-6d5d16d73b89",
   "metadata": {},
   "outputs": [
    {
     "data": {
      "image/png": "[encoded data removed]",
      "text/plain": [
       "<Figure size 576x396 with 1 Axes>"
      ]
     },
     "metadata": {},
     "output_type": "display_data"
    }
   ],
   "source": [
    "plot_model(best_model, plot='confusion_matrix')"
   ]
  },
  {
   "cell_type": "markdown",
   "id": "a439108b-7911-4384-b089-f7b31c825192",
   "metadata": {},
   "source": [
    "## Observations\n",
    "Here you can document some ideas on the results from above\n"
   ]
  },
  {
   "cell_type": "markdown",
   "id": "d2de91b5-a1e8-42a5-a087-8c31ff2e1db3",
   "metadata": {},
   "source": [
    "## Conclusions\n",
    "Here you can talk about next steps, did the experiment work? If yes, what to do next? If no, why?\n",
    "\n",
    "* We should ask CS/CI what they think the most significant factor towards a next game buyer is."
   ]
  },
  {
   "cell_type": "code",
   "execution_count": null,
   "id": "c1c6f293-c82c-4312-a374-1a530750ed52",
   "metadata": {},
   "outputs": [],
   "source": []
  }
 ],
 "metadata": {
  "kernelspec": {
   "display_name": "Python 3 (ipykernel)",
   "language": "python",
   "name": "python3"
  },
  "language_info": {
   "codemirror_mode": {
    "name": "ipython",
    "version": 3
   },
   "file_extension": ".py",
   "mimetype": "text/x-python",
   "name": "python",
   "nbconvert_exporter": "python",
   "pygments_lexer": "ipython3",
   "version": "3.9.4"
  }
 },
 "nbformat": 4,
 "nbformat_minor": 5
}
