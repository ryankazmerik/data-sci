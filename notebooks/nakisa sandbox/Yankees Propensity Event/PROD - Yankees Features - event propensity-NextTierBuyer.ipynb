{
 "cells": [
  {
   "cell_type": "markdown",
   "id": "6ee08766-25fd-4da1-91b8-b0c3e74db588",
   "metadata": {},
   "source": [
    "# Yankees - Propensity Event- NextTierBuyer\n",
    "* StelllarAlgo Data Science\n",
    "* Ryan Kazmerik & Nakisa Rad\n",
    "* Feb 03, 2022"
   ]
  },
  {
   "cell_type": "markdown",
   "id": "39108c8d-2e9f-4759-ade2-83071038dc56",
   "metadata": {},
   "source": [
    "## Hypothesis\n"
   ]
  },
  {
   "cell_type": "markdown",
   "id": "28142011-1f32-4cc7-816b-a6dae6f70c8c",
   "metadata": {},
   "source": [
    "## Experiment\n",
    "This section details our experiment including querying data, data transformations, feature selection and modelling."
   ]
  },
  {
   "cell_type": "code",
   "execution_count": 1,
   "id": "4c533efd-600e-4bce-8203-faffbddfa700",
   "metadata": {},
   "outputs": [],
   "source": [
    "import getpass\n",
    "import pyodbc\n",
    "import pandas as pd\n",
    "import warnings\n",
    "import matplotlib.pyplot as plt\n",
    "\n",
    "from pycaret.classification import *\n",
    "\n",
    "warnings.filterwarnings('ignore')"
   ]
  },
  {
   "cell_type": "markdown",
   "id": "b64ae7d5-84af-4915-bd13-1dd9d17098a3",
   "metadata": {},
   "source": [
    "### Let's connect to MSSQL and run a stored proc to get our dataset:"
   ]
  },
  {
   "cell_type": "code",
   "execution_count": 2,
   "id": "ae561eb4-f419-4d46-b5e0-12fac9b10db8",
   "metadata": {},
   "outputs": [],
   "source": [
    "# connect to SQL Server.\n",
    "SERVER = '54.164.224.129'  \n",
    "DATABASE = 'stlrRays' \n",
    "USERNAME = 'nrad' \n",
    "PASSWORD = 'Y34@PSc^n@JAG=4%p8194'#getpass.getpass(prompt='Enter your password')\n",
    "CNXN = pyodbc.connect('DRIVER={ODBC Driver 17 for SQL Server};SERVER='+SERVER+';DATABASE='+DATABASE+';UID='+USERNAME+';PWD='+ PASSWORD)"
   ]
  },
  {
   "cell_type": "code",
   "execution_count": 3,
   "id": "af1afe7d-a35b-494b-88f3-980fb0e3da30",
   "metadata": {},
   "outputs": [
    {
     "ename": "DatabaseError",
     "evalue": "Execution failed on sql 'Exec [stlrYankees].[ds].[getPropensityEventScoring_new] 53': ('42000', \"[42000] [Microsoft][ODBC Driver 17 for SQL Server][SQL Server]Could not find stored procedure 'stlrYankees.ds.getPropensityEventScoring_new'. (2812) (SQLExecDirectW)\")",
     "output_type": "error",
     "traceback": [
      "\u001b[0;31m---------------------------------------------------------------------------\u001b[0m",
      "\u001b[0;31mProgrammingError\u001b[0m                          Traceback (most recent call last)",
      "\u001b[0;32m/opt/miniconda3/envs/stellar/lib/python3.7/site-packages/pandas/io/sql.py\u001b[0m in \u001b[0;36mexecute\u001b[0;34m(self, *args, **kwargs)\u001b[0m\n\u001b[1;32m   1724\u001b[0m         \u001b[0;32mtry\u001b[0m\u001b[0;34m:\u001b[0m\u001b[0;34m\u001b[0m\u001b[0;34m\u001b[0m\u001b[0m\n\u001b[0;32m-> 1725\u001b[0;31m             \u001b[0mcur\u001b[0m\u001b[0;34m.\u001b[0m\u001b[0mexecute\u001b[0m\u001b[0;34m(\u001b[0m\u001b[0;34m*\u001b[0m\u001b[0margs\u001b[0m\u001b[0;34m,\u001b[0m \u001b[0;34m**\u001b[0m\u001b[0mkwargs\u001b[0m\u001b[0;34m)\u001b[0m\u001b[0;34m\u001b[0m\u001b[0;34m\u001b[0m\u001b[0m\n\u001b[0m\u001b[1;32m   1726\u001b[0m             \u001b[0;32mreturn\u001b[0m \u001b[0mcur\u001b[0m\u001b[0;34m\u001b[0m\u001b[0;34m\u001b[0m\u001b[0m\n",
      "\u001b[0;31mProgrammingError\u001b[0m: ('42000', \"[42000] [Microsoft][ODBC Driver 17 for SQL Server][SQL Server]Could not find stored procedure 'stlrYankees.ds.getPropensityEventScoring_new'. (2812) (SQLExecDirectW)\")",
      "\nThe above exception was the direct cause of the following exception:\n",
      "\u001b[0;31mDatabaseError\u001b[0m                             Traceback (most recent call last)",
      "\u001b[0;32m/var/folders/kp/vwm5bxcd72j3yf54l1xtsts80000gp/T/ipykernel_4091/3066473451.py\u001b[0m in \u001b[0;36m<module>\u001b[0;34m\u001b[0m\n\u001b[1;32m      7\u001b[0m )\n\u001b[1;32m      8\u001b[0m \u001b[0;34m\u001b[0m\u001b[0m\n\u001b[0;32m----> 9\u001b[0;31m \u001b[0mdf\u001b[0m \u001b[0;34m=\u001b[0m \u001b[0mpd\u001b[0m\u001b[0;34m.\u001b[0m\u001b[0mread_sql\u001b[0m\u001b[0;34m(\u001b[0m\u001b[0mstoredProc\u001b[0m\u001b[0;34m,\u001b[0m \u001b[0mCNXN\u001b[0m\u001b[0;34m)\u001b[0m\u001b[0;34m\u001b[0m\u001b[0;34m\u001b[0m\u001b[0m\n\u001b[0m\u001b[1;32m     10\u001b[0m \u001b[0;34m\u001b[0m\u001b[0m\n\u001b[1;32m     11\u001b[0m \u001b[0;31m# apply some data transformations\u001b[0m\u001b[0;34m\u001b[0m\u001b[0;34m\u001b[0m\u001b[0;34m\u001b[0m\u001b[0m\n",
      "\u001b[0;32m/opt/miniconda3/envs/stellar/lib/python3.7/site-packages/pandas/io/sql.py\u001b[0m in \u001b[0;36mread_sql\u001b[0;34m(sql, con, index_col, coerce_float, params, parse_dates, columns, chunksize)\u001b[0m\n\u001b[1;32m    499\u001b[0m             \u001b[0mcoerce_float\u001b[0m\u001b[0;34m=\u001b[0m\u001b[0mcoerce_float\u001b[0m\u001b[0;34m,\u001b[0m\u001b[0;34m\u001b[0m\u001b[0;34m\u001b[0m\u001b[0m\n\u001b[1;32m    500\u001b[0m             \u001b[0mparse_dates\u001b[0m\u001b[0;34m=\u001b[0m\u001b[0mparse_dates\u001b[0m\u001b[0;34m,\u001b[0m\u001b[0;34m\u001b[0m\u001b[0;34m\u001b[0m\u001b[0m\n\u001b[0;32m--> 501\u001b[0;31m             \u001b[0mchunksize\u001b[0m\u001b[0;34m=\u001b[0m\u001b[0mchunksize\u001b[0m\u001b[0;34m,\u001b[0m\u001b[0;34m\u001b[0m\u001b[0;34m\u001b[0m\u001b[0m\n\u001b[0m\u001b[1;32m    502\u001b[0m         )\n\u001b[1;32m    503\u001b[0m \u001b[0;34m\u001b[0m\u001b[0m\n",
      "\u001b[0;32m/opt/miniconda3/envs/stellar/lib/python3.7/site-packages/pandas/io/sql.py\u001b[0m in \u001b[0;36mread_query\u001b[0;34m(self, sql, index_col, coerce_float, params, parse_dates, chunksize)\u001b[0m\n\u001b[1;32m   1769\u001b[0m \u001b[0;34m\u001b[0m\u001b[0m\n\u001b[1;32m   1770\u001b[0m         \u001b[0margs\u001b[0m \u001b[0;34m=\u001b[0m \u001b[0m_convert_params\u001b[0m\u001b[0;34m(\u001b[0m\u001b[0msql\u001b[0m\u001b[0;34m,\u001b[0m \u001b[0mparams\u001b[0m\u001b[0;34m)\u001b[0m\u001b[0;34m\u001b[0m\u001b[0;34m\u001b[0m\u001b[0m\n\u001b[0;32m-> 1771\u001b[0;31m         \u001b[0mcursor\u001b[0m \u001b[0;34m=\u001b[0m \u001b[0mself\u001b[0m\u001b[0;34m.\u001b[0m\u001b[0mexecute\u001b[0m\u001b[0;34m(\u001b[0m\u001b[0;34m*\u001b[0m\u001b[0margs\u001b[0m\u001b[0;34m)\u001b[0m\u001b[0;34m\u001b[0m\u001b[0;34m\u001b[0m\u001b[0m\n\u001b[0m\u001b[1;32m   1772\u001b[0m         \u001b[0mcolumns\u001b[0m \u001b[0;34m=\u001b[0m \u001b[0;34m[\u001b[0m\u001b[0mcol_desc\u001b[0m\u001b[0;34m[\u001b[0m\u001b[0;36m0\u001b[0m\u001b[0;34m]\u001b[0m \u001b[0;32mfor\u001b[0m \u001b[0mcol_desc\u001b[0m \u001b[0;32min\u001b[0m \u001b[0mcursor\u001b[0m\u001b[0;34m.\u001b[0m\u001b[0mdescription\u001b[0m\u001b[0;34m]\u001b[0m\u001b[0;34m\u001b[0m\u001b[0;34m\u001b[0m\u001b[0m\n\u001b[1;32m   1773\u001b[0m \u001b[0;34m\u001b[0m\u001b[0m\n",
      "\u001b[0;32m/opt/miniconda3/envs/stellar/lib/python3.7/site-packages/pandas/io/sql.py\u001b[0m in \u001b[0;36mexecute\u001b[0;34m(self, *args, **kwargs)\u001b[0m\n\u001b[1;32m   1735\u001b[0m \u001b[0;34m\u001b[0m\u001b[0m\n\u001b[1;32m   1736\u001b[0m             \u001b[0mex\u001b[0m \u001b[0;34m=\u001b[0m \u001b[0mDatabaseError\u001b[0m\u001b[0;34m(\u001b[0m\u001b[0;34mf\"Execution failed on sql '{args[0]}': {exc}\"\u001b[0m\u001b[0;34m)\u001b[0m\u001b[0;34m\u001b[0m\u001b[0;34m\u001b[0m\u001b[0m\n\u001b[0;32m-> 1737\u001b[0;31m             \u001b[0;32mraise\u001b[0m \u001b[0mex\u001b[0m \u001b[0;32mfrom\u001b[0m \u001b[0mexc\u001b[0m\u001b[0;34m\u001b[0m\u001b[0;34m\u001b[0m\u001b[0m\n\u001b[0m\u001b[1;32m   1738\u001b[0m \u001b[0;34m\u001b[0m\u001b[0m\n\u001b[1;32m   1739\u001b[0m     \u001b[0;34m@\u001b[0m\u001b[0mstaticmethod\u001b[0m\u001b[0;34m\u001b[0m\u001b[0;34m\u001b[0m\u001b[0m\n",
      "\u001b[0;31mDatabaseError\u001b[0m: Execution failed on sql 'Exec [stlrYankees].[ds].[getPropensityEventScoring_new] 53': ('42000', \"[42000] [Microsoft][ODBC Driver 17 for SQL Server][SQL Server]Could not find stored procedure 'stlrYankees.ds.getPropensityEventScoring_new'. (2812) (SQLExecDirectW)\")"
     ]
    }
   ],
   "source": [
    "lkupclientid = 53 # Yankees\n",
    "\n",
    "cursor = CNXN.cursor()\n",
    "\n",
    "storedProc = (\n",
    "    f\"\"\"Exec [stlrYankees].[ds].[getPropensityEventScoring_new] {lkupclientid}\"\"\"\n",
    ")\n",
    "\n",
    "df = pd.read_sql(storedProc, CNXN)\n",
    "\n",
    "# apply some data transformations\n",
    "df[\"year\"] = pd.to_numeric(df[\"year\"]) \n",
    "\n",
    "CNXN.commit()\n",
    "cursor.close()\n",
    "\n",
    "df.shape"
   ]
  },
  {
   "cell_type": "code",
   "execution_count": 18,
   "id": "11e97dcc-c69e-46c1-8dad-33f6291cb0c6",
   "metadata": {},
   "outputs": [
    {
     "name": "stdout",
     "output_type": "stream",
     "text": [
      "<class 'pandas.core.frame.DataFrame'>\n",
      "RangeIndex: 522560 entries, 0 to 522559\n",
      "Data columns (total 32 columns):\n",
      " #   Column                      Non-Null Count   Dtype         \n",
      "---  ------                      --------------   -----         \n",
      " 0   lkupClientId                522560 non-null  int64         \n",
      " 1   dimCustomerMasterId         522560 non-null  int64         \n",
      " 2   eventName                   522560 non-null  object        \n",
      " 3   inMarket                    522560 non-null  int64         \n",
      " 4   year                        522560 non-null  int64         \n",
      " 5   productGrouping             522560 non-null  object        \n",
      " 6   Tier                        522560 non-null  int64         \n",
      " 7   eventDay                    522560 non-null  int64         \n",
      " 8   totalSpent                  522560 non-null  float64       \n",
      " 9   recentDate                  522560 non-null  datetime64[ns]\n",
      " 10  attendancePercent           522560 non-null  float64       \n",
      " 11  renewedBeforeDays           522560 non-null  int64         \n",
      " 12  isBuyer                     522560 non-null  object        \n",
      " 13  source_tenure               522560 non-null  int64         \n",
      " 14  tenure                      522560 non-null  int64         \n",
      " 15  distToVenue                 522560 non-null  float64       \n",
      " 16  totalGames                  522560 non-null  int64         \n",
      " 17  recency                     522560 non-null  int64         \n",
      " 18  click_link                  522560 non-null  int64         \n",
      " 19  fill_out_form               522560 non-null  int64         \n",
      " 20  open_email                  522560 non-null  int64         \n",
      " 21  send_email                  522560 non-null  int64         \n",
      " 22  unsubscribe_email           522560 non-null  int64         \n",
      " 23  openToSendRatio             522560 non-null  float64       \n",
      " 24  clickToSendRatio            522560 non-null  float64       \n",
      " 25  clickToOpenRatio            522560 non-null  float64       \n",
      " 26  numWebEngagementActivities  38057 non-null   float64       \n",
      " 27  numAppViewsActivities       19222 non-null   float64       \n",
      " 28  credits_after_refund        522560 non-null  float64       \n",
      " 29  NumberofGamesPerSeason      522560 non-null  int64         \n",
      " 30  isNextGameBuyer             522560 non-null  int64         \n",
      " 31  nextYearTier                522560 non-null  int64         \n",
      "dtypes: datetime64[ns](1), float64(9), int64(19), object(3)\n",
      "memory usage: 127.6+ MB\n"
     ]
    }
   ],
   "source": [
    "df.info()"
   ]
  },
  {
   "cell_type": "code",
   "execution_count": 49,
   "id": "bcebd680-d4c5-46a6-9282-13fba66ac88f",
   "metadata": {},
   "outputs": [
    {
     "data": {
      "text/plain": [
       "(522560, 32)"
      ]
     },
     "execution_count": 49,
     "metadata": {},
     "output_type": "execute_result"
    }
   ],
   "source": [
    "df.shape"
   ]
  },
  {
   "cell_type": "code",
   "execution_count": 50,
   "id": "4ccf0bf6-c4a3-4ba1-a973-fec4feb27ffa",
   "metadata": {},
   "outputs": [],
   "source": [
    "df.to_csv('yankees-data-export.csv')"
   ]
  },
  {
   "cell_type": "markdown",
   "id": "ab40da92-72a7-49c1-9829-ed3805a39719",
   "metadata": {},
   "source": [
    "### We should specify the features used in our model:"
   ]
  },
  {
   "cell_type": "code",
   "execution_count": 19,
   "id": "788f1273-8b7a-46bd-a099-1a471feeacc5",
   "metadata": {},
   "outputs": [
    {
     "name": "stdout",
     "output_type": "stream",
     "text": [
      "Data for Modeling: (372955, 18)\n",
      "Unseen Data For Predictions: (65816, 18)\n",
      "\n"
     ]
    }
   ],
   "source": [
    "# choose the features for the stellar base retention model\n",
    "features = [\"dimCustomerMasterId\",\n",
    "        \"attendancePercent\",\n",
    "        \"click_link\",\n",
    "        \"clickToSendRatio\",\n",
    "        \"clickToOpenRatio\",\n",
    "        \"distToVenue\",\n",
    "        \"fill_out_form\",\n",
    "        \"inMarket\",\n",
    "        \"open_email\" ,\n",
    "        \"openToSendRatio\",\n",
    "        \"recency\",\n",
    "        \"renewedBeforeDays\",\n",
    "        \"send_email\",\n",
    "        \"source_tenure\",\n",
    "        \"tenure\",\n",
    "        \"totalGames\",\n",
    "        \"unsubscribe_email\",\n",
    "        \"nextYearTier\",\n",
    "        \"year\"\n",
    "]\n",
    "\n",
    "# copy your main dataframe\n",
    "df_dataset = df\n",
    "\n",
    "# choose the features & train year & test year\n",
    "df_dataset = df_dataset[features]\n",
    "df_dataset[\"year\"] = pd.to_numeric(df_dataset[\"year\"])\n",
    "df_dataset = df_dataset.loc[df_dataset[\"year\"] <= 2019]\n",
    "#df_dataset = df_dataset[df_dataset[\"Tier\"] == {1,2,3} ]\n",
    "\n",
    "df_train = df_dataset.sample(frac=0.85, random_state=786)\n",
    "df_eval = df_dataset.drop(df_train.index)\n",
    "\n",
    "df_train.reset_index(drop=True, inplace=True)\n",
    "df_eval.reset_index(drop=True, inplace=True)\n",
    "\n",
    "# print out the number of records for training and eval\n",
    "print('Data for Modeling: ' + str(df_train.shape))\n",
    "print('Unseen Data For Predictions: ' + str(df_eval.shape), end=\"\\n\\n\")"
   ]
  },
  {
   "cell_type": "markdown",
   "id": "4f2da06d-9015-49fd-89b3-956c2ebf66e9",
   "metadata": {},
   "source": [
    "### Now we can model the data using a binary classification prediction for the isnextyear_buyer field to see how likely a customer is to re-purchase."
   ]
  },
  {
   "cell_type": "code",
   "execution_count": 20,
   "id": "23a69cdc-b3ec-48c8-9ce5-29f617779389",
   "metadata": {},
   "outputs": [],
   "source": [
    "setup(\n",
    "    data= df_train, \n",
    "    target=\"nextYearTier\", \n",
    "    train_size = 0.80,\n",
    "    data_split_shuffle=True,\n",
    "    ignore_features=[\"dimCustomerMasterId\",\"year\"],\n",
    "    silent=True,\n",
    "    verbose=False,\n",
    "    numeric_features=[\n",
    "        \"attendancePercent\",\n",
    "        \"renewedBeforeDays\",\n",
    "        \"source_tenure\",\n",
    "        \"tenure\",\n",
    "        \"distToVenue\",\n",
    "        \"totalGames\",\n",
    "        \"recency\",\n",
    "        \"click_link\",\n",
    "        \"fill_out_form\",\n",
    "        \"open_email\" ,\n",
    "        \"send_email\",\n",
    "        \"unsubscribe_email\",\n",
    "        \"openToSendRatio\",\n",
    "        \"clickToSendRatio\",\n",
    "        \"clickToOpenRatio\"\n",
    "    ]\n",
    ");"
   ]
  },
  {
   "cell_type": "code",
   "execution_count": 21,
   "id": "ef2db9d2-02c2-45c0-b6bb-5cad42c373ce",
   "metadata": {},
   "outputs": [
    {
     "data": {
      "text/html": [
       "<style  type=\"text/css\" >\n",
       "    #T_9f9bb_ th {\n",
       "          text-align: left;\n",
       "    }#T_9f9bb_row0_col0{\n",
       "            text-align:  left;\n",
       "            text-align:  left;\n",
       "        }#T_9f9bb_row0_col1,#T_9f9bb_row0_col2,#T_9f9bb_row0_col3,#T_9f9bb_row0_col4,#T_9f9bb_row0_col5,#T_9f9bb_row0_col6,#T_9f9bb_row0_col7{\n",
       "            text-align:  left;\n",
       "            text-align:  left;\n",
       "            background-color:  yellow;\n",
       "        }#T_9f9bb_row0_col8{\n",
       "            text-align:  left;\n",
       "            text-align:  left;\n",
       "            background-color:  yellow;\n",
       "            background-color:  lightgrey;\n",
       "        }</style><table id=\"T_9f9bb_\" ><thead>    <tr>        <th class=\"blank level0\" ></th>        <th class=\"col_heading level0 col0\" >Model</th>        <th class=\"col_heading level0 col1\" >Accuracy</th>        <th class=\"col_heading level0 col2\" >AUC</th>        <th class=\"col_heading level0 col3\" >Recall</th>        <th class=\"col_heading level0 col4\" >Prec.</th>        <th class=\"col_heading level0 col5\" >F1</th>        <th class=\"col_heading level0 col6\" >Kappa</th>        <th class=\"col_heading level0 col7\" >MCC</th>        <th class=\"col_heading level0 col8\" >TT (Sec)</th>    </tr></thead><tbody>\n",
       "                <tr>\n",
       "                        <th id=\"T_9f9bb_level0_row0\" class=\"row_heading level0 row0\" >xgboost</th>\n",
       "                        <td id=\"T_9f9bb_row0_col0\" class=\"data row0 col0\" >Extreme Gradient Boosting</td>\n",
       "                        <td id=\"T_9f9bb_row0_col1\" class=\"data row0 col1\" >0.8208</td>\n",
       "                        <td id=\"T_9f9bb_row0_col2\" class=\"data row0 col2\" >0.8838</td>\n",
       "                        <td id=\"T_9f9bb_row0_col3\" class=\"data row0 col3\" >0.3295</td>\n",
       "                        <td id=\"T_9f9bb_row0_col4\" class=\"data row0 col4\" >0.8059</td>\n",
       "                        <td id=\"T_9f9bb_row0_col5\" class=\"data row0 col5\" >0.7796</td>\n",
       "                        <td id=\"T_9f9bb_row0_col6\" class=\"data row0 col6\" >0.3903</td>\n",
       "                        <td id=\"T_9f9bb_row0_col7\" class=\"data row0 col7\" >0.4322</td>\n",
       "                        <td id=\"T_9f9bb_row0_col8\" class=\"data row0 col8\" >44.1660</td>\n",
       "            </tr>\n",
       "    </tbody></table>"
      ],
      "text/plain": [
       "<pandas.io.formats.style.Styler at 0x7f7ebe85faf0>"
      ]
     },
     "metadata": {},
     "output_type": "display_data"
    }
   ],
   "source": [
    "model_matrix = compare_models(\n",
    "    fold=10,\n",
    "    include=[\"xgboost\"]\n",
    ")"
   ]
  },
  {
   "cell_type": "code",
   "execution_count": null,
   "id": "d9f030ed-4b6a-4a87-a01e-129dc49e0d4a",
   "metadata": {},
   "outputs": [],
   "source": [
    "best_model = create_model(model_matrix)\n",
    "final_model = finalize_model(best_model)"
   ]
  },
  {
   "cell_type": "markdown",
   "id": "3aab9021-4462-423a-8e3c-fbe1f36c6110",
   "metadata": {},
   "source": [
    "### Let's load in our 2022 season data and get retention scores using the model:"
   ]
  },
  {
   "cell_type": "code",
   "execution_count": 27,
   "id": "c249a813-c882-4869-9490-6ab766a8c223",
   "metadata": {},
   "outputs": [
    {
     "data": {
      "text/plain": [
       "(83789, 32)"
      ]
     },
     "execution_count": 27,
     "metadata": {},
     "output_type": "execute_result"
    }
   ],
   "source": [
    "df_inference = df.loc[df[\"year\"] >= 2021]\n",
    "df_inference = df_inference.fillna(0)\n",
    "df_inference.shape"
   ]
  },
  {
   "cell_type": "code",
   "execution_count": 28,
   "id": "b97399d5-bdad-41ca-8d28-fb370b62cb39",
   "metadata": {},
   "outputs": [
    {
     "data": {
      "text/html": [
       "<div>\n",
       "<style scoped>\n",
       "    .dataframe tbody tr th:only-of-type {\n",
       "        vertical-align: middle;\n",
       "    }\n",
       "\n",
       "    .dataframe tbody tr th {\n",
       "        vertical-align: top;\n",
       "    }\n",
       "\n",
       "    .dataframe thead th {\n",
       "        text-align: right;\n",
       "    }\n",
       "</style>\n",
       "<table border=\"1\" class=\"dataframe\">\n",
       "  <thead>\n",
       "    <tr style=\"text-align: right;\">\n",
       "      <th></th>\n",
       "      <th>lkupClientId</th>\n",
       "      <th>dimCustomerMasterId</th>\n",
       "      <th>eventName</th>\n",
       "      <th>inMarket</th>\n",
       "      <th>year</th>\n",
       "      <th>productGrouping</th>\n",
       "      <th>Tier</th>\n",
       "      <th>eventDay</th>\n",
       "      <th>totalSpent</th>\n",
       "      <th>recentDate</th>\n",
       "      <th>...</th>\n",
       "      <th>unsubscribe_email</th>\n",
       "      <th>openToSendRatio</th>\n",
       "      <th>clickToSendRatio</th>\n",
       "      <th>clickToOpenRatio</th>\n",
       "      <th>numWebEngagementActivities</th>\n",
       "      <th>numAppViewsActivities</th>\n",
       "      <th>credits_after_refund</th>\n",
       "      <th>NumberofGamesPerSeason</th>\n",
       "      <th>isNextGameBuyer</th>\n",
       "      <th>nextYearTier</th>\n",
       "    </tr>\n",
       "  </thead>\n",
       "  <tbody>\n",
       "    <tr>\n",
       "      <th>438771</th>\n",
       "      <td>53</td>\n",
       "      <td>51</td>\n",
       "      <td>20210527 - Toronto Blue Jays</td>\n",
       "      <td>1</td>\n",
       "      <td>2021</td>\n",
       "      <td>Online Individual Game</td>\n",
       "      <td>5</td>\n",
       "      <td>4</td>\n",
       "      <td>32.0</td>\n",
       "      <td>1970-01-01</td>\n",
       "      <td>...</td>\n",
       "      <td>9</td>\n",
       "      <td>0.400000</td>\n",
       "      <td>0.000000</td>\n",
       "      <td>0.000000</td>\n",
       "      <td>0.0</td>\n",
       "      <td>0.0</td>\n",
       "      <td>0.0</td>\n",
       "      <td>94</td>\n",
       "      <td>0</td>\n",
       "      <td>0</td>\n",
       "    </tr>\n",
       "    <tr>\n",
       "      <th>438772</th>\n",
       "      <td>53</td>\n",
       "      <td>76</td>\n",
       "      <td>20210401 - Toronto Blue Jays</td>\n",
       "      <td>1</td>\n",
       "      <td>2021</td>\n",
       "      <td>Online Individual Game</td>\n",
       "      <td>1</td>\n",
       "      <td>4</td>\n",
       "      <td>900.0</td>\n",
       "      <td>1970-01-01</td>\n",
       "      <td>...</td>\n",
       "      <td>0</td>\n",
       "      <td>0.282178</td>\n",
       "      <td>0.024752</td>\n",
       "      <td>0.087719</td>\n",
       "      <td>0.0</td>\n",
       "      <td>0.0</td>\n",
       "      <td>0.0</td>\n",
       "      <td>94</td>\n",
       "      <td>1</td>\n",
       "      <td>0</td>\n",
       "    </tr>\n",
       "    <tr>\n",
       "      <th>438773</th>\n",
       "      <td>53</td>\n",
       "      <td>360</td>\n",
       "      <td>20210817 - Boston Red Sox</td>\n",
       "      <td>1</td>\n",
       "      <td>2021</td>\n",
       "      <td>Online Individual Game</td>\n",
       "      <td>2</td>\n",
       "      <td>2</td>\n",
       "      <td>150.0</td>\n",
       "      <td>1970-01-01</td>\n",
       "      <td>...</td>\n",
       "      <td>0</td>\n",
       "      <td>0.641711</td>\n",
       "      <td>0.000000</td>\n",
       "      <td>0.000000</td>\n",
       "      <td>0.0</td>\n",
       "      <td>0.0</td>\n",
       "      <td>0.0</td>\n",
       "      <td>94</td>\n",
       "      <td>0</td>\n",
       "      <td>0</td>\n",
       "    </tr>\n",
       "    <tr>\n",
       "      <th>438774</th>\n",
       "      <td>53</td>\n",
       "      <td>360</td>\n",
       "      <td>20210903 - Baltimore Orioles</td>\n",
       "      <td>1</td>\n",
       "      <td>2021</td>\n",
       "      <td>Online Individual Game</td>\n",
       "      <td>5</td>\n",
       "      <td>5</td>\n",
       "      <td>0.0</td>\n",
       "      <td>1970-01-01</td>\n",
       "      <td>...</td>\n",
       "      <td>0</td>\n",
       "      <td>0.641711</td>\n",
       "      <td>0.000000</td>\n",
       "      <td>0.000000</td>\n",
       "      <td>0.0</td>\n",
       "      <td>0.0</td>\n",
       "      <td>0.0</td>\n",
       "      <td>94</td>\n",
       "      <td>0</td>\n",
       "      <td>0</td>\n",
       "    </tr>\n",
       "    <tr>\n",
       "      <th>438775</th>\n",
       "      <td>53</td>\n",
       "      <td>590</td>\n",
       "      <td>20210819 - Minnesota Twins</td>\n",
       "      <td>1</td>\n",
       "      <td>2021</td>\n",
       "      <td>Online Individual Game</td>\n",
       "      <td>7</td>\n",
       "      <td>4</td>\n",
       "      <td>122.0</td>\n",
       "      <td>1970-01-01</td>\n",
       "      <td>...</td>\n",
       "      <td>0</td>\n",
       "      <td>0.131579</td>\n",
       "      <td>0.000000</td>\n",
       "      <td>0.000000</td>\n",
       "      <td>0.0</td>\n",
       "      <td>0.0</td>\n",
       "      <td>0.0</td>\n",
       "      <td>94</td>\n",
       "      <td>0</td>\n",
       "      <td>0</td>\n",
       "    </tr>\n",
       "    <tr>\n",
       "      <th>...</th>\n",
       "      <td>...</td>\n",
       "      <td>...</td>\n",
       "      <td>...</td>\n",
       "      <td>...</td>\n",
       "      <td>...</td>\n",
       "      <td>...</td>\n",
       "      <td>...</td>\n",
       "      <td>...</td>\n",
       "      <td>...</td>\n",
       "      <td>...</td>\n",
       "      <td>...</td>\n",
       "      <td>...</td>\n",
       "      <td>...</td>\n",
       "      <td>...</td>\n",
       "      <td>...</td>\n",
       "      <td>...</td>\n",
       "      <td>...</td>\n",
       "      <td>...</td>\n",
       "      <td>...</td>\n",
       "      <td>...</td>\n",
       "      <td>...</td>\n",
       "    </tr>\n",
       "    <tr>\n",
       "      <th>522555</th>\n",
       "      <td>53</td>\n",
       "      <td>24882324</td>\n",
       "      <td>20210818 - Boston Red Sox</td>\n",
       "      <td>1</td>\n",
       "      <td>2021</td>\n",
       "      <td>Online Individual Game</td>\n",
       "      <td>3</td>\n",
       "      <td>3</td>\n",
       "      <td>30.0</td>\n",
       "      <td>2021-08-18</td>\n",
       "      <td>...</td>\n",
       "      <td>0</td>\n",
       "      <td>0.635220</td>\n",
       "      <td>0.031447</td>\n",
       "      <td>0.049505</td>\n",
       "      <td>1035.0</td>\n",
       "      <td>18.0</td>\n",
       "      <td>0.0</td>\n",
       "      <td>94</td>\n",
       "      <td>0</td>\n",
       "      <td>0</td>\n",
       "    </tr>\n",
       "    <tr>\n",
       "      <th>522556</th>\n",
       "      <td>53</td>\n",
       "      <td>24882486</td>\n",
       "      <td>20210906 - Toronto Blue Jays</td>\n",
       "      <td>1</td>\n",
       "      <td>2021</td>\n",
       "      <td>Online Individual Game</td>\n",
       "      <td>6</td>\n",
       "      <td>1</td>\n",
       "      <td>310.0</td>\n",
       "      <td>1970-01-01</td>\n",
       "      <td>...</td>\n",
       "      <td>0</td>\n",
       "      <td>1.011765</td>\n",
       "      <td>0.023529</td>\n",
       "      <td>0.023256</td>\n",
       "      <td>0.0</td>\n",
       "      <td>0.0</td>\n",
       "      <td>0.0</td>\n",
       "      <td>94</td>\n",
       "      <td>0</td>\n",
       "      <td>0</td>\n",
       "    </tr>\n",
       "    <tr>\n",
       "      <th>522557</th>\n",
       "      <td>53</td>\n",
       "      <td>24882495</td>\n",
       "      <td>20210805 - Seatle Mariners</td>\n",
       "      <td>1</td>\n",
       "      <td>2021</td>\n",
       "      <td>Online Individual Game</td>\n",
       "      <td>6</td>\n",
       "      <td>4</td>\n",
       "      <td>0.0</td>\n",
       "      <td>1970-01-01</td>\n",
       "      <td>...</td>\n",
       "      <td>0</td>\n",
       "      <td>0.215789</td>\n",
       "      <td>0.000000</td>\n",
       "      <td>0.000000</td>\n",
       "      <td>0.0</td>\n",
       "      <td>0.0</td>\n",
       "      <td>0.0</td>\n",
       "      <td>94</td>\n",
       "      <td>0</td>\n",
       "      <td>0</td>\n",
       "    </tr>\n",
       "    <tr>\n",
       "      <th>522558</th>\n",
       "      <td>53</td>\n",
       "      <td>24882495</td>\n",
       "      <td>20210817 - Boston Red Sox</td>\n",
       "      <td>1</td>\n",
       "      <td>2021</td>\n",
       "      <td>Online Individual Game</td>\n",
       "      <td>2</td>\n",
       "      <td>2</td>\n",
       "      <td>0.0</td>\n",
       "      <td>1970-01-01</td>\n",
       "      <td>...</td>\n",
       "      <td>0</td>\n",
       "      <td>0.215789</td>\n",
       "      <td>0.000000</td>\n",
       "      <td>0.000000</td>\n",
       "      <td>0.0</td>\n",
       "      <td>0.0</td>\n",
       "      <td>0.0</td>\n",
       "      <td>94</td>\n",
       "      <td>0</td>\n",
       "      <td>0</td>\n",
       "    </tr>\n",
       "    <tr>\n",
       "      <th>522559</th>\n",
       "      <td>53</td>\n",
       "      <td>24885004</td>\n",
       "      <td>20210407 - Baltimore Orioles</td>\n",
       "      <td>1</td>\n",
       "      <td>2021</td>\n",
       "      <td>Online Individual Game</td>\n",
       "      <td>6</td>\n",
       "      <td>3</td>\n",
       "      <td>196.0</td>\n",
       "      <td>1970-01-01</td>\n",
       "      <td>...</td>\n",
       "      <td>0</td>\n",
       "      <td>1.035294</td>\n",
       "      <td>0.176471</td>\n",
       "      <td>0.170455</td>\n",
       "      <td>0.0</td>\n",
       "      <td>0.0</td>\n",
       "      <td>0.0</td>\n",
       "      <td>94</td>\n",
       "      <td>0</td>\n",
       "      <td>0</td>\n",
       "    </tr>\n",
       "  </tbody>\n",
       "</table>\n",
       "<p>83789 rows × 32 columns</p>\n",
       "</div>"
      ],
      "text/plain": [
       "        lkupClientId  dimCustomerMasterId                     eventName  \\\n",
       "438771            53                   51  20210527 - Toronto Blue Jays   \n",
       "438772            53                   76  20210401 - Toronto Blue Jays   \n",
       "438773            53                  360     20210817 - Boston Red Sox   \n",
       "438774            53                  360  20210903 - Baltimore Orioles   \n",
       "438775            53                  590    20210819 - Minnesota Twins   \n",
       "...              ...                  ...                           ...   \n",
       "522555            53             24882324     20210818 - Boston Red Sox   \n",
       "522556            53             24882486  20210906 - Toronto Blue Jays   \n",
       "522557            53             24882495    20210805 - Seatle Mariners   \n",
       "522558            53             24882495     20210817 - Boston Red Sox   \n",
       "522559            53             24885004  20210407 - Baltimore Orioles   \n",
       "\n",
       "        inMarket  year         productGrouping  Tier  eventDay  totalSpent  \\\n",
       "438771         1  2021  Online Individual Game     5         4        32.0   \n",
       "438772         1  2021  Online Individual Game     1         4       900.0   \n",
       "438773         1  2021  Online Individual Game     2         2       150.0   \n",
       "438774         1  2021  Online Individual Game     5         5         0.0   \n",
       "438775         1  2021  Online Individual Game     7         4       122.0   \n",
       "...          ...   ...                     ...   ...       ...         ...   \n",
       "522555         1  2021  Online Individual Game     3         3        30.0   \n",
       "522556         1  2021  Online Individual Game     6         1       310.0   \n",
       "522557         1  2021  Online Individual Game     6         4         0.0   \n",
       "522558         1  2021  Online Individual Game     2         2         0.0   \n",
       "522559         1  2021  Online Individual Game     6         3       196.0   \n",
       "\n",
       "       recentDate  ...  unsubscribe_email  openToSendRatio clickToSendRatio  \\\n",
       "438771 1970-01-01  ...                  9         0.400000         0.000000   \n",
       "438772 1970-01-01  ...                  0         0.282178         0.024752   \n",
       "438773 1970-01-01  ...                  0         0.641711         0.000000   \n",
       "438774 1970-01-01  ...                  0         0.641711         0.000000   \n",
       "438775 1970-01-01  ...                  0         0.131579         0.000000   \n",
       "...           ...  ...                ...              ...              ...   \n",
       "522555 2021-08-18  ...                  0         0.635220         0.031447   \n",
       "522556 1970-01-01  ...                  0         1.011765         0.023529   \n",
       "522557 1970-01-01  ...                  0         0.215789         0.000000   \n",
       "522558 1970-01-01  ...                  0         0.215789         0.000000   \n",
       "522559 1970-01-01  ...                  0         1.035294         0.176471   \n",
       "\n",
       "        clickToOpenRatio  numWebEngagementActivities  numAppViewsActivities  \\\n",
       "438771          0.000000                         0.0                    0.0   \n",
       "438772          0.087719                         0.0                    0.0   \n",
       "438773          0.000000                         0.0                    0.0   \n",
       "438774          0.000000                         0.0                    0.0   \n",
       "438775          0.000000                         0.0                    0.0   \n",
       "...                  ...                         ...                    ...   \n",
       "522555          0.049505                      1035.0                   18.0   \n",
       "522556          0.023256                         0.0                    0.0   \n",
       "522557          0.000000                         0.0                    0.0   \n",
       "522558          0.000000                         0.0                    0.0   \n",
       "522559          0.170455                         0.0                    0.0   \n",
       "\n",
       "        credits_after_refund  NumberofGamesPerSeason  isNextGameBuyer  \\\n",
       "438771                   0.0                      94                0   \n",
       "438772                   0.0                      94                1   \n",
       "438773                   0.0                      94                0   \n",
       "438774                   0.0                      94                0   \n",
       "438775                   0.0                      94                0   \n",
       "...                      ...                     ...              ...   \n",
       "522555                   0.0                      94                0   \n",
       "522556                   0.0                      94                0   \n",
       "522557                   0.0                      94                0   \n",
       "522558                   0.0                      94                0   \n",
       "522559                   0.0                      94                0   \n",
       "\n",
       "        nextYearTier  \n",
       "438771             0  \n",
       "438772             0  \n",
       "438773             0  \n",
       "438774             0  \n",
       "438775             0  \n",
       "...              ...  \n",
       "522555             0  \n",
       "522556             0  \n",
       "522557             0  \n",
       "522558             0  \n",
       "522559             0  \n",
       "\n",
       "[83789 rows x 32 columns]"
      ]
     },
     "execution_count": 28,
     "metadata": {},
     "output_type": "execute_result"
    }
   ],
   "source": [
    "df_inference"
   ]
  },
  {
   "cell_type": "code",
   "execution_count": 29,
   "id": "745b62fb-fb2e-4b4a-9c48-8ce4de472a83",
   "metadata": {},
   "outputs": [
    {
     "data": {
      "text/html": [
       "<div>\n",
       "<style scoped>\n",
       "    .dataframe tbody tr th:only-of-type {\n",
       "        vertical-align: middle;\n",
       "    }\n",
       "\n",
       "    .dataframe tbody tr th {\n",
       "        vertical-align: top;\n",
       "    }\n",
       "\n",
       "    .dataframe thead th {\n",
       "        text-align: right;\n",
       "    }\n",
       "</style>\n",
       "<table border=\"1\" class=\"dataframe\">\n",
       "  <thead>\n",
       "    <tr style=\"text-align: right;\">\n",
       "      <th></th>\n",
       "      <th>lkupClientId</th>\n",
       "      <th>dimCustomerMasterId</th>\n",
       "      <th>eventName</th>\n",
       "      <th>inMarket</th>\n",
       "      <th>year</th>\n",
       "      <th>productGrouping</th>\n",
       "      <th>Tier</th>\n",
       "      <th>eventDay</th>\n",
       "      <th>totalSpent</th>\n",
       "      <th>recentDate</th>\n",
       "      <th>...</th>\n",
       "      <th>NumberofGamesPerSeason</th>\n",
       "      <th>isNextGameBuyer</th>\n",
       "      <th>nextYearTier</th>\n",
       "      <th>Label</th>\n",
       "      <th>Score_0</th>\n",
       "      <th>Score_1</th>\n",
       "      <th>Score_2</th>\n",
       "      <th>Score_3</th>\n",
       "      <th>Score_4</th>\n",
       "      <th>Score_5</th>\n",
       "    </tr>\n",
       "  </thead>\n",
       "  <tbody>\n",
       "    <tr>\n",
       "      <th>438771</th>\n",
       "      <td>53</td>\n",
       "      <td>51</td>\n",
       "      <td>20210527 - Toronto Blue Jays</td>\n",
       "      <td>1</td>\n",
       "      <td>2021</td>\n",
       "      <td>Online Individual Game</td>\n",
       "      <td>5</td>\n",
       "      <td>4</td>\n",
       "      <td>32.0</td>\n",
       "      <td>1970-01-01</td>\n",
       "      <td>...</td>\n",
       "      <td>94</td>\n",
       "      <td>0</td>\n",
       "      <td>0</td>\n",
       "      <td>0</td>\n",
       "      <td>0.9913</td>\n",
       "      <td>0.0014</td>\n",
       "      <td>0.0021</td>\n",
       "      <td>0.0016</td>\n",
       "      <td>0.0021</td>\n",
       "      <td>0.0014</td>\n",
       "    </tr>\n",
       "    <tr>\n",
       "      <th>438772</th>\n",
       "      <td>53</td>\n",
       "      <td>76</td>\n",
       "      <td>20210401 - Toronto Blue Jays</td>\n",
       "      <td>1</td>\n",
       "      <td>2021</td>\n",
       "      <td>Online Individual Game</td>\n",
       "      <td>1</td>\n",
       "      <td>4</td>\n",
       "      <td>900.0</td>\n",
       "      <td>1970-01-01</td>\n",
       "      <td>...</td>\n",
       "      <td>94</td>\n",
       "      <td>1</td>\n",
       "      <td>0</td>\n",
       "      <td>0</td>\n",
       "      <td>0.9997</td>\n",
       "      <td>0.0002</td>\n",
       "      <td>0.0000</td>\n",
       "      <td>0.0000</td>\n",
       "      <td>0.0000</td>\n",
       "      <td>0.0000</td>\n",
       "    </tr>\n",
       "    <tr>\n",
       "      <th>438773</th>\n",
       "      <td>53</td>\n",
       "      <td>360</td>\n",
       "      <td>20210817 - Boston Red Sox</td>\n",
       "      <td>1</td>\n",
       "      <td>2021</td>\n",
       "      <td>Online Individual Game</td>\n",
       "      <td>2</td>\n",
       "      <td>2</td>\n",
       "      <td>150.0</td>\n",
       "      <td>1970-01-01</td>\n",
       "      <td>...</td>\n",
       "      <td>94</td>\n",
       "      <td>0</td>\n",
       "      <td>0</td>\n",
       "      <td>0</td>\n",
       "      <td>0.5014</td>\n",
       "      <td>0.0028</td>\n",
       "      <td>0.2108</td>\n",
       "      <td>0.1533</td>\n",
       "      <td>0.1126</td>\n",
       "      <td>0.0190</td>\n",
       "    </tr>\n",
       "    <tr>\n",
       "      <th>438774</th>\n",
       "      <td>53</td>\n",
       "      <td>360</td>\n",
       "      <td>20210903 - Baltimore Orioles</td>\n",
       "      <td>1</td>\n",
       "      <td>2021</td>\n",
       "      <td>Online Individual Game</td>\n",
       "      <td>5</td>\n",
       "      <td>5</td>\n",
       "      <td>0.0</td>\n",
       "      <td>1970-01-01</td>\n",
       "      <td>...</td>\n",
       "      <td>94</td>\n",
       "      <td>0</td>\n",
       "      <td>0</td>\n",
       "      <td>0</td>\n",
       "      <td>0.5620</td>\n",
       "      <td>0.0158</td>\n",
       "      <td>0.2258</td>\n",
       "      <td>0.1387</td>\n",
       "      <td>0.0401</td>\n",
       "      <td>0.0176</td>\n",
       "    </tr>\n",
       "    <tr>\n",
       "      <th>438775</th>\n",
       "      <td>53</td>\n",
       "      <td>590</td>\n",
       "      <td>20210819 - Minnesota Twins</td>\n",
       "      <td>1</td>\n",
       "      <td>2021</td>\n",
       "      <td>Online Individual Game</td>\n",
       "      <td>7</td>\n",
       "      <td>4</td>\n",
       "      <td>122.0</td>\n",
       "      <td>1970-01-01</td>\n",
       "      <td>...</td>\n",
       "      <td>94</td>\n",
       "      <td>0</td>\n",
       "      <td>0</td>\n",
       "      <td>0</td>\n",
       "      <td>0.9998</td>\n",
       "      <td>0.0001</td>\n",
       "      <td>0.0000</td>\n",
       "      <td>0.0000</td>\n",
       "      <td>0.0000</td>\n",
       "      <td>0.0000</td>\n",
       "    </tr>\n",
       "  </tbody>\n",
       "</table>\n",
       "<p>5 rows × 39 columns</p>\n",
       "</div>"
      ],
      "text/plain": [
       "        lkupClientId  dimCustomerMasterId                     eventName  \\\n",
       "438771            53                   51  20210527 - Toronto Blue Jays   \n",
       "438772            53                   76  20210401 - Toronto Blue Jays   \n",
       "438773            53                  360     20210817 - Boston Red Sox   \n",
       "438774            53                  360  20210903 - Baltimore Orioles   \n",
       "438775            53                  590    20210819 - Minnesota Twins   \n",
       "\n",
       "        inMarket  year         productGrouping  Tier  eventDay  totalSpent  \\\n",
       "438771         1  2021  Online Individual Game     5         4        32.0   \n",
       "438772         1  2021  Online Individual Game     1         4       900.0   \n",
       "438773         1  2021  Online Individual Game     2         2       150.0   \n",
       "438774         1  2021  Online Individual Game     5         5         0.0   \n",
       "438775         1  2021  Online Individual Game     7         4       122.0   \n",
       "\n",
       "       recentDate  ...  NumberofGamesPerSeason  isNextGameBuyer nextYearTier  \\\n",
       "438771 1970-01-01  ...                      94                0            0   \n",
       "438772 1970-01-01  ...                      94                1            0   \n",
       "438773 1970-01-01  ...                      94                0            0   \n",
       "438774 1970-01-01  ...                      94                0            0   \n",
       "438775 1970-01-01  ...                      94                0            0   \n",
       "\n",
       "        Label  Score_0  Score_1  Score_2  Score_3  Score_4  Score_5  \n",
       "438771      0   0.9913   0.0014   0.0021   0.0016   0.0021   0.0014  \n",
       "438772      0   0.9997   0.0002   0.0000   0.0000   0.0000   0.0000  \n",
       "438773      0   0.5014   0.0028   0.2108   0.1533   0.1126   0.0190  \n",
       "438774      0   0.5620   0.0158   0.2258   0.1387   0.0401   0.0176  \n",
       "438775      0   0.9998   0.0001   0.0000   0.0000   0.0000   0.0000  \n",
       "\n",
       "[5 rows x 39 columns]"
      ]
     },
     "execution_count": 29,
     "metadata": {},
     "output_type": "execute_result"
    }
   ],
   "source": [
    "new_predictions = predict_model(final_model, data=df_inference, raw_score=True)\n",
    "new_predictions.head()"
   ]
  },
  {
   "cell_type": "code",
   "execution_count": 30,
   "id": "c98d3de4-966c-4d4a-af8f-e4a2d78eed38",
   "metadata": {},
   "outputs": [
    {
     "data": {
      "text/plain": [
       "0    83263\n",
       "4      375\n",
       "2       71\n",
       "3       61\n",
       "1       10\n",
       "5        9\n",
       "Name: Label, dtype: int64"
      ]
     },
     "execution_count": 30,
     "metadata": {},
     "output_type": "execute_result"
    }
   ],
   "source": [
    "new_predictions[\"Label\"].value_counts()"
   ]
  },
  {
   "cell_type": "code",
   "execution_count": 31,
   "id": "4d540733-839c-44e3-acfa-0c7ebc3e822d",
   "metadata": {},
   "outputs": [
    {
     "data": {
      "text/plain": [
       "(-0.001, 0.2]    83760\n",
       "(0.2, 0.4]          23\n",
       "(0.4, 0.6]           4\n",
       "(0.6, 0.8]           2\n",
       "(0.8, 1.0]           0\n",
       "Name: Score_1, dtype: int64"
      ]
     },
     "execution_count": 31,
     "metadata": {},
     "output_type": "execute_result"
    }
   ],
   "source": [
    "new_predictions[\"Score_1\"].value_counts(bins=[0, 0.2, 0.4, 0.6, 0.8, 1.0])"
   ]
  },
  {
   "cell_type": "code",
   "execution_count": 32,
   "id": "95e96920-bc9c-4b50-837c-89e392d13449",
   "metadata": {},
   "outputs": [
    {
     "data": {
      "text/plain": [
       "(-0.001, 0.2]    83351\n",
       "(0.2, 0.4]         389\n",
       "(0.4, 0.6]          39\n",
       "(0.6, 0.8]          10\n",
       "(0.8, 1.0]           0\n",
       "Name: Score_2, dtype: int64"
      ]
     },
     "execution_count": 32,
     "metadata": {},
     "output_type": "execute_result"
    }
   ],
   "source": [
    "new_predictions[\"Score_2\"].value_counts(bins=[0, 0.2, 0.4, 0.6, 0.8, 1.0])"
   ]
  },
  {
   "cell_type": "code",
   "execution_count": 33,
   "id": "fe7a9d96-43a9-4e32-9b94-c18f15a6ab79",
   "metadata": {},
   "outputs": [
    {
     "data": {
      "text/plain": [
       "(-0.001, 0.2]    83471\n",
       "(0.2, 0.4]         265\n",
       "(0.4, 0.6]          49\n",
       "(0.6, 0.8]           4\n",
       "(0.8, 1.0]           0\n",
       "Name: Score_3, dtype: int64"
      ]
     },
     "execution_count": 33,
     "metadata": {},
     "output_type": "execute_result"
    }
   ],
   "source": [
    "new_predictions[\"Score_3\"].value_counts(bins=[0, 0.2, 0.4, 0.6, 0.8, 1.0])"
   ]
  },
  {
   "cell_type": "code",
   "execution_count": 34,
   "id": "f26f9ecd-2fb1-4712-bf56-ac2049728b40",
   "metadata": {},
   "outputs": [
    {
     "data": {
      "text/plain": [
       "(-0.001, 0.2]    82841\n",
       "(0.2, 0.4]         558\n",
       "(0.4, 0.6]         197\n",
       "(0.6, 0.8]         112\n",
       "(0.8, 1.0]          81\n",
       "Name: Score_4, dtype: int64"
      ]
     },
     "execution_count": 34,
     "metadata": {},
     "output_type": "execute_result"
    }
   ],
   "source": [
    "new_predictions[\"Score_4\"].value_counts(bins=[0, 0.2, 0.4, 0.6, 0.8, 1.0])"
   ]
  },
  {
   "cell_type": "code",
   "execution_count": 35,
   "id": "ce062137-8ee9-4eff-89d3-4589a4d8903e",
   "metadata": {},
   "outputs": [
    {
     "data": {
      "text/plain": [
       "(-0.001, 0.2]    83737\n",
       "(0.2, 0.4]          50\n",
       "(0.4, 0.6]           2\n",
       "(0.6, 0.8]           0\n",
       "(0.8, 1.0]           0\n",
       "Name: Score_5, dtype: int64"
      ]
     },
     "execution_count": 35,
     "metadata": {},
     "output_type": "execute_result"
    }
   ],
   "source": [
    "new_predictions[\"Score_5\"].value_counts(bins=[0, 0.2, 0.4, 0.6, 0.8, 1.0])"
   ]
  },
  {
   "cell_type": "code",
   "execution_count": 38,
   "id": "ed5992e4-10d1-44de-aeda-072550c75086",
   "metadata": {},
   "outputs": [
    {
     "data": {
      "text/plain": [
       "array([[<AxesSubplot:title={'center':'Score_1'}>]], dtype=object)"
      ]
     },
     "execution_count": 38,
     "metadata": {},
     "output_type": "execute_result"
    },
    {
     "data": {
      "image/png": "[encoded data removed]",
      "text/plain": [
       "<Figure size 720x360 with 1 Axes>"
      ]
     },
     "metadata": {
      "needs_background": "light"
     },
     "output_type": "display_data"
    }
   ],
   "source": [
    "new_predictions[new_predictions[\"Label\"]==1][[\"Score_1\"]].hist(bins=30, figsize=(10,5), range=[0,1])"
   ]
  },
  {
   "cell_type": "code",
   "execution_count": 39,
   "id": "3b4b1d51-1c33-489a-95f6-ab75e428c760",
   "metadata": {},
   "outputs": [
    {
     "data": {
      "text/plain": [
       "array([[<AxesSubplot:title={'center':'Score_2'}>]], dtype=object)"
      ]
     },
     "execution_count": 39,
     "metadata": {},
     "output_type": "execute_result"
    },
    {
     "data": {
      "image/png": "[encoded data removed]",
      "text/plain": [
       "<Figure size 720x360 with 1 Axes>"
      ]
     },
     "metadata": {
      "needs_background": "light"
     },
     "output_type": "display_data"
    }
   ],
   "source": [
    "new_predictions[new_predictions[\"Label\"]==2][[\"Score_2\"]].hist(bins=30, figsize=(10,5), range=[0,1])"
   ]
  },
  {
   "cell_type": "code",
   "execution_count": 40,
   "id": "9fc6d526-9131-489b-9b21-fed28d05cf09",
   "metadata": {},
   "outputs": [
    {
     "data": {
      "text/plain": [
       "array([[<AxesSubplot:title={'center':'Score_3'}>]], dtype=object)"
      ]
     },
     "execution_count": 40,
     "metadata": {},
     "output_type": "execute_result"
    },
    {
     "data": {
      "image/png": "[encoded data removed]",
      "text/plain": [
       "<Figure size 720x360 with 1 Axes>"
      ]
     },
     "metadata": {
      "needs_background": "light"
     },
     "output_type": "display_data"
    }
   ],
   "source": [
    "new_predictions[new_predictions[\"Label\"]==3][[\"Score_3\"]].hist(bins=30, figsize=(10,5), range=[0,1])"
   ]
  },
  {
   "cell_type": "code",
   "execution_count": 41,
   "id": "10850030-3cba-4dec-b449-abbb3af747dc",
   "metadata": {},
   "outputs": [
    {
     "data": {
      "text/plain": [
       "array([[<AxesSubplot:title={'center':'Score_4'}>]], dtype=object)"
      ]
     },
     "execution_count": 41,
     "metadata": {},
     "output_type": "execute_result"
    },
    {
     "data": {
      "image/png": "[encoded data removed]",
      "text/plain": [
       "<Figure size 720x360 with 1 Axes>"
      ]
     },
     "metadata": {
      "needs_background": "light"
     },
     "output_type": "display_data"
    }
   ],
   "source": [
    "new_predictions[new_predictions[\"Label\"]==4][[\"Score_4\"]].hist(bins=30, figsize=(10,5), range=[0,1])"
   ]
  },
  {
   "cell_type": "code",
   "execution_count": 42,
   "id": "016ce4cb-e80b-414c-b58b-2d5c23f3efef",
   "metadata": {},
   "outputs": [
    {
     "data": {
      "text/plain": [
       "array([[<AxesSubplot:title={'center':'Score_5'}>]], dtype=object)"
      ]
     },
     "execution_count": 42,
     "metadata": {},
     "output_type": "execute_result"
    },
    {
     "data": {
      "image/png": "[encoded data removed]",
      "text/plain": [
       "<Figure size 720x360 with 1 Axes>"
      ]
     },
     "metadata": {
      "needs_background": "light"
     },
     "output_type": "display_data"
    }
   ],
   "source": [
    "new_predictions[new_predictions[\"Label\"]==5][[\"Score_5\"]].hist(bins=30, figsize=(10,5), range=[0,1])"
   ]
  },
  {
   "cell_type": "code",
   "execution_count": 45,
   "id": "144bd27b-9798-4f8b-a3a3-95298d8e2c01",
   "metadata": {},
   "outputs": [
    {
     "data": {
      "image/png": "[encoded data removed]",
      "text/plain": [
       "<Figure size 800x500 with 1 Axes>"
      ]
     },
     "metadata": {},
     "output_type": "display_data"
    }
   ],
   "source": [
    "plot_model(best_model, plot='feature')"
   ]
  },
  {
   "cell_type": "code",
   "execution_count": 46,
   "id": "79e34840-9a47-486f-a648-6d5d16d73b89",
   "metadata": {},
   "outputs": [
    {
     "data": {
      "image/png": "[encoded data removed]",
      "text/plain": [
       "<Figure size 576x396 with 1 Axes>"
      ]
     },
     "metadata": {},
     "output_type": "display_data"
    }
   ],
   "source": [
    "plot_model(best_model, plot='confusion_matrix')"
   ]
  },
  {
   "cell_type": "markdown",
   "id": "a439108b-7911-4384-b089-f7b31c825192",
   "metadata": {},
   "source": [
    "## Observations\n",
    "Here you can document some ideas on the results from above\n"
   ]
  },
  {
   "cell_type": "markdown",
   "id": "d2de91b5-a1e8-42a5-a087-8c31ff2e1db3",
   "metadata": {},
   "source": [
    "## Conclusions\n",
    "Here you can talk about next steps, did the experiment work? If yes, what to do next? If no, why?\n",
    "\n",
    "* We should ask CS/CI what they think the most significant factor towards a next game buyer is."
   ]
  },
  {
   "cell_type": "code",
   "execution_count": null,
   "id": "c1c6f293-c82c-4312-a374-1a530750ed52",
   "metadata": {},
   "outputs": [],
   "source": []
  }
 ],
 "metadata": {
  "kernelspec": {
   "display_name": "Python 3 (ipykernel)",
   "language": "python",
   "name": "python3"
  },
  "language_info": {
   "codemirror_mode": {
    "name": "ipython",
    "version": 3
   },
   "file_extension": ".py",
   "mimetype": "text/x-python",
   "name": "python",
   "nbconvert_exporter": "python",
   "pygments_lexer": "ipython3",
   "version": "3.7.10"
  }
 },
 "nbformat": 4,
 "nbformat_minor": 5
}
