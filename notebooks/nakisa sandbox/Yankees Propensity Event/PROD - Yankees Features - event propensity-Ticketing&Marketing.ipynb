{
 "cells": [
  {
   "cell_type": "markdown",
   "id": "6ee08766-25fd-4da1-91b8-b0c3e74db588",
   "metadata": {},
   "source": [
    "# Yankees - Extended Feature Selection\n",
    "* StelllarAlgo Data Science\n",
    "* Ryan Kazmerik & Nakisa Rad\n",
    "* Jan 12, 2022"
   ]
  },
  {
   "cell_type": "markdown",
   "id": "39108c8d-2e9f-4759-ade2-83071038dc56",
   "metadata": {},
   "source": [
    "## Hypothesis\n",
    "Two very important components of a machine learning model are feature selection and feature engineering. Our idea is that adding some more features to the StellarAlgo retention model could improve performance of the model. This notebook will test the standard StellarAlgo retention model features."
   ]
  },
  {
   "cell_type": "markdown",
   "id": "28142011-1f32-4cc7-816b-a6dae6f70c8c",
   "metadata": {},
   "source": [
    "## Experiment\n",
    "This section details our experiment including querying data, data transformations, feature selection and modelling."
   ]
  },
  {
   "cell_type": "code",
   "execution_count": 1,
   "id": "4c533efd-600e-4bce-8203-faffbddfa700",
   "metadata": {},
   "outputs": [],
   "source": [
    "import getpass\n",
    "import pyodbc\n",
    "import pandas as pd\n",
    "import warnings\n",
    "import matplotlib.pyplot as plt\n",
    "\n",
    "from pycaret.classification import *\n",
    "\n",
    "warnings.filterwarnings('ignore')"
   ]
  },
  {
   "cell_type": "markdown",
   "id": "b64ae7d5-84af-4915-bd13-1dd9d17098a3",
   "metadata": {},
   "source": [
    "### Let's connect to MSSQL and run a stored proc to get our dataset:"
   ]
  },
  {
   "cell_type": "code",
   "execution_count": 2,
   "id": "ae561eb4-f419-4d46-b5e0-12fac9b10db8",
   "metadata": {},
   "outputs": [
    {
     "name": "stdin",
     "output_type": "stream",
     "text": [
      "Enter your password ·····················\n"
     ]
    }
   ],
   "source": [
    "# connect to SQL Server.\n",
    "SERVER = '54.164.224.129' \n",
    "DATABASE = 'stlrRays' \n",
    "USERNAME = 'nrad' \n",
    "PASSWORD = getpass.getpass(prompt='Enter your password')\n",
    "CNXN = pyodbc.connect('DRIVER={ODBC Driver 17 for SQL Server};SERVER='+SERVER+';DATABASE='+DATABASE+';UID='+USERNAME+';PWD='+ PASSWORD)"
   ]
  },
  {
   "cell_type": "code",
   "execution_count": 3,
   "id": "af1afe7d-a35b-494b-88f3-980fb0e3da30",
   "metadata": {},
   "outputs": [
    {
     "data": {
      "text/plain": [
       "(1075397, 44)"
      ]
     },
     "execution_count": 3,
     "metadata": {},
     "output_type": "execute_result"
    }
   ],
   "source": [
    "lkupclientid = 53 # Yankees\n",
    "\n",
    "cursor = CNXN.cursor()\n",
    "\n",
    "storedProc = (\n",
    "    f\"\"\"Exec [stlrYankees].[ds].[getPropensityEventScoring] {lkupclientid}\"\"\"\n",
    ")\n",
    "\n",
    "df = pd.read_sql(storedProc, CNXN)\n",
    "\n",
    "# apply some data transformations\n",
    "df[\"year\"] = pd.to_numeric(df[\"year\"]) \n",
    "\n",
    "CNXN.commit()\n",
    "cursor.close()\n",
    "\n",
    "df.shape"
   ]
  },
  {
   "cell_type": "code",
   "execution_count": 4,
   "id": "11e97dcc-c69e-46c1-8dad-33f6291cb0c6",
   "metadata": {},
   "outputs": [
    {
     "name": "stdout",
     "output_type": "stream",
     "text": [
      "<class 'pandas.core.frame.DataFrame'>\n",
      "RangeIndex: 1075397 entries, 0 to 1075396\n",
      "Data columns (total 44 columns):\n",
      " #   Column                  Non-Null Count    Dtype  \n",
      "---  ------                  --------------    -----  \n",
      " 0   lkupClientId            1075397 non-null  int64  \n",
      " 1   dimCustomerMasterId     1075397 non-null  int64  \n",
      " 2   dimEventId              1075397 non-null  int64  \n",
      " 3   inMarket                1075396 non-null  object \n",
      " 4   customerNumber          1075397 non-null  object \n",
      " 5   year                    1075397 non-null  int64  \n",
      " 6   productGrouping         1075397 non-null  object \n",
      " 7   totalSpent              1075397 non-null  float64\n",
      " 8   recentDate              1075397 non-null  object \n",
      " 9   attendancePercent       1075397 non-null  float64\n",
      " 10  renewedBeforeDays       1075397 non-null  int64  \n",
      " 11  isBuyer                 1075397 non-null  object \n",
      " 12  source_tenure           1075397 non-null  int64  \n",
      " 13  tenure                  1075397 non-null  int64  \n",
      " 14  distToVenue             1075397 non-null  float64\n",
      " 15  totalGames              1075397 non-null  int64  \n",
      " 16  recency                 1075397 non-null  int64  \n",
      " 17  click_link              1075397 non-null  int64  \n",
      " 18  fill_out_form           1075397 non-null  int64  \n",
      " 19  open_email              1075397 non-null  int64  \n",
      " 20  send_email              1075397 non-null  int64  \n",
      " 21  unsubscribe_email       1075397 non-null  int64  \n",
      " 22  openToSendRatio         1075397 non-null  float64\n",
      " 23  clickToSendRatio        1075397 non-null  float64\n",
      " 24  clickToOpenRatio        1075397 non-null  float64\n",
      " 25  posting_records         1075397 non-null  int64  \n",
      " 26  resale_records          1075397 non-null  int64  \n",
      " 27  resale_atp              1075397 non-null  float64\n",
      " 28  forward_records         1075397 non-null  int64  \n",
      " 29  cancel_records          1075397 non-null  int64  \n",
      " 30  email                   1075397 non-null  int64  \n",
      " 31  inbound_email           1075397 non-null  int64  \n",
      " 32  inbound_phonecall       1075397 non-null  int64  \n",
      " 33  inperson_contact        1075397 non-null  int64  \n",
      " 34  internal_note           1075397 non-null  int64  \n",
      " 35  left_message            1075397 non-null  int64  \n",
      " 36  outbound_email          1075397 non-null  int64  \n",
      " 37  outbound_phonecall      1075397 non-null  int64  \n",
      " 38  phonecall               1075397 non-null  int64  \n",
      " 39  text                    1075397 non-null  int64  \n",
      " 40  unknown                 1075397 non-null  int64  \n",
      " 41  credits_after_refund    1075397 non-null  float64\n",
      " 42  NumberofGamesPerSeason  1075397 non-null  int64  \n",
      " 43  isNextGameBuyer         1075397 non-null  int64  \n",
      "dtypes: float64(8), int64(31), object(5)\n",
      "memory usage: 361.0+ MB\n"
     ]
    }
   ],
   "source": [
    "df.info()"
   ]
  },
  {
   "cell_type": "markdown",
   "id": "ab40da92-72a7-49c1-9829-ed3805a39719",
   "metadata": {},
   "source": [
    "### We should specify the features used in our model:"
   ]
  },
  {
   "cell_type": "code",
   "execution_count": 5,
   "id": "788f1273-8b7a-46bd-a099-1a471feeacc5",
   "metadata": {},
   "outputs": [
    {
     "name": "stdout",
     "output_type": "stream",
     "text": [
      "Data for Modeling: (758161, 19)\n",
      "Unseen Data For Predictions: (133793, 19)\n",
      "\n"
     ]
    }
   ],
   "source": [
    "# choose the features for the stellar base retention model\n",
    "features = [\"dimCustomerMasterId\",\n",
    "        \"inMarket\",\n",
    "        \"attendancePercent\",\n",
    "        \"renewedBeforeDays\",\n",
    "        \"source_tenure\",\n",
    "        \"tenure\",\n",
    "        \"distToVenue\",\n",
    "        \"totalGames\",\n",
    "        \"recency\",\n",
    "        \"click_link\",\n",
    "        \"fill_out_form\",\n",
    "        \"open_email\" ,\n",
    "        \"send_email\",\n",
    "        \"unsubscribe_email\",\n",
    "        \"openToSendRatio\",\n",
    "        \"clickToSendRatio\",\n",
    "        \"clickToOpenRatio\",\n",
    "        \"isNextGameBuyer\",\n",
    "        \"year\"\n",
    "]\n",
    "\n",
    "# copy your main dataframe\n",
    "df_dataset = df\n",
    "\n",
    "# choose the features & train year & test year\n",
    "df_dataset = df_dataset[features]\n",
    "df_dataset[\"year\"] = pd.to_numeric(df_dataset[\"year\"])\n",
    "df_dataset = df_dataset.loc[df_dataset[\"year\"] <= 2019]\n",
    "\n",
    "df_train = df_dataset.sample(frac=0.85, random_state=786)\n",
    "df_eval = df_dataset.drop(df_train.index)\n",
    "\n",
    "df_train.reset_index(drop=True, inplace=True)\n",
    "df_eval.reset_index(drop=True, inplace=True)\n",
    "\n",
    "# print out the number of records for training and eval\n",
    "print('Data for Modeling: ' + str(df_train.shape))\n",
    "print('Unseen Data For Predictions: ' + str(df_eval.shape), end=\"\\n\\n\")"
   ]
  },
  {
   "cell_type": "markdown",
   "id": "4f2da06d-9015-49fd-89b3-956c2ebf66e9",
   "metadata": {},
   "source": [
    "### Now we can model the data using a binary classification prediction for the isnextyear_buyer field to see how likely a customer is to re-purchase."
   ]
  },
  {
   "cell_type": "code",
   "execution_count": 6,
   "id": "23a69cdc-b3ec-48c8-9ce5-29f617779389",
   "metadata": {},
   "outputs": [],
   "source": [
    "setup(\n",
    "    data= df_train, \n",
    "    target=\"isNextGameBuyer\", \n",
    "    train_size = 0.80,\n",
    "    data_split_shuffle=True,\n",
    "    ignore_features=[\"dimCustomerMasterId\",\"year\"],\n",
    "    silent=True,\n",
    "    verbose=False,\n",
    "    numeric_features=[\"inMarket\",\n",
    "        \"attendancePercent\",\n",
    "        \"attendancePercent\",\n",
    "        \"renewedBeforeDays\",\n",
    "        \"source_tenure\",\n",
    "        \"tenure\",\n",
    "        \"distToVenue\",\n",
    "        \"totalGames\",\n",
    "        \"recency\",\n",
    "        \"click_link\",\n",
    "        \"fill_out_form\",\n",
    "        \"open_email\" ,\n",
    "        \"send_email\",\n",
    "        \"unsubscribe_email\",\n",
    "        \"openToSendRatio\",\n",
    "        \"clickToSendRatio\",\n",
    "        \"clickToOpenRatio\"\n",
    "    ]\n",
    ");"
   ]
  },
  {
   "cell_type": "code",
   "execution_count": 7,
   "id": "ef2db9d2-02c2-45c0-b6bb-5cad42c373ce",
   "metadata": {},
   "outputs": [
    {
     "data": {
      "text/html": [
       "<style  type=\"text/css\" >\n",
       "    #T_26aa2_ th {\n",
       "          text-align: left;\n",
       "    }#T_26aa2_row0_col0,#T_26aa2_row1_col0,#T_26aa2_row1_col1,#T_26aa2_row1_col2,#T_26aa2_row1_col3,#T_26aa2_row1_col4,#T_26aa2_row1_col5,#T_26aa2_row1_col6,#T_26aa2_row1_col7,#T_26aa2_row2_col0,#T_26aa2_row2_col1,#T_26aa2_row2_col2,#T_26aa2_row2_col3,#T_26aa2_row2_col4,#T_26aa2_row2_col5,#T_26aa2_row2_col6,#T_26aa2_row2_col7,#T_26aa2_row3_col0,#T_26aa2_row3_col1,#T_26aa2_row3_col2,#T_26aa2_row3_col3,#T_26aa2_row3_col4,#T_26aa2_row3_col5,#T_26aa2_row3_col6,#T_26aa2_row3_col7,#T_26aa2_row4_col0,#T_26aa2_row4_col1,#T_26aa2_row4_col2,#T_26aa2_row4_col3,#T_26aa2_row4_col4,#T_26aa2_row4_col5,#T_26aa2_row4_col6,#T_26aa2_row4_col7{\n",
       "            text-align:  left;\n",
       "            text-align:  left;\n",
       "        }#T_26aa2_row0_col1,#T_26aa2_row0_col2,#T_26aa2_row0_col3,#T_26aa2_row0_col4,#T_26aa2_row0_col5,#T_26aa2_row0_col6,#T_26aa2_row0_col7{\n",
       "            text-align:  left;\n",
       "            text-align:  left;\n",
       "            background-color:  yellow;\n",
       "        }#T_26aa2_row0_col8,#T_26aa2_row2_col8,#T_26aa2_row3_col8,#T_26aa2_row4_col8{\n",
       "            text-align:  left;\n",
       "            text-align:  left;\n",
       "            background-color:  lightgrey;\n",
       "        }#T_26aa2_row1_col8{\n",
       "            text-align:  left;\n",
       "            text-align:  left;\n",
       "            background-color:  yellow;\n",
       "            background-color:  lightgrey;\n",
       "        }</style><table id=\"T_26aa2_\" ><thead>    <tr>        <th class=\"blank level0\" ></th>        <th class=\"col_heading level0 col0\" >Model</th>        <th class=\"col_heading level0 col1\" >Accuracy</th>        <th class=\"col_heading level0 col2\" >AUC</th>        <th class=\"col_heading level0 col3\" >Recall</th>        <th class=\"col_heading level0 col4\" >Prec.</th>        <th class=\"col_heading level0 col5\" >F1</th>        <th class=\"col_heading level0 col6\" >Kappa</th>        <th class=\"col_heading level0 col7\" >MCC</th>        <th class=\"col_heading level0 col8\" >TT (Sec)</th>    </tr></thead><tbody>\n",
       "                <tr>\n",
       "                        <th id=\"T_26aa2_level0_row0\" class=\"row_heading level0 row0\" >xgboost</th>\n",
       "                        <td id=\"T_26aa2_row0_col0\" class=\"data row0 col0\" >Extreme Gradient Boosting</td>\n",
       "                        <td id=\"T_26aa2_row0_col1\" class=\"data row0 col1\" >0.9737</td>\n",
       "                        <td id=\"T_26aa2_row0_col2\" class=\"data row0 col2\" >0.9476</td>\n",
       "                        <td id=\"T_26aa2_row0_col3\" class=\"data row0 col3\" >0.3452</td>\n",
       "                        <td id=\"T_26aa2_row0_col4\" class=\"data row0 col4\" >0.7020</td>\n",
       "                        <td id=\"T_26aa2_row0_col5\" class=\"data row0 col5\" >0.4628</td>\n",
       "                        <td id=\"T_26aa2_row0_col6\" class=\"data row0 col6\" >0.4509</td>\n",
       "                        <td id=\"T_26aa2_row0_col7\" class=\"data row0 col7\" >0.4810</td>\n",
       "                        <td id=\"T_26aa2_row0_col8\" class=\"data row0 col8\" >18.5020</td>\n",
       "            </tr>\n",
       "            <tr>\n",
       "                        <th id=\"T_26aa2_level0_row1\" class=\"row_heading level0 row1\" >lightgbm</th>\n",
       "                        <td id=\"T_26aa2_row1_col0\" class=\"data row1 col0\" >Light Gradient Boosting Machine</td>\n",
       "                        <td id=\"T_26aa2_row1_col1\" class=\"data row1 col1\" >0.9732</td>\n",
       "                        <td id=\"T_26aa2_row1_col2\" class=\"data row1 col2\" >0.9462</td>\n",
       "                        <td id=\"T_26aa2_row1_col3\" class=\"data row1 col3\" >0.3386</td>\n",
       "                        <td id=\"T_26aa2_row1_col4\" class=\"data row1 col4\" >0.6852</td>\n",
       "                        <td id=\"T_26aa2_row1_col5\" class=\"data row1 col5\" >0.4531</td>\n",
       "                        <td id=\"T_26aa2_row1_col6\" class=\"data row1 col6\" >0.4410</td>\n",
       "                        <td id=\"T_26aa2_row1_col7\" class=\"data row1 col7\" >0.4701</td>\n",
       "                        <td id=\"T_26aa2_row1_col8\" class=\"data row1 col8\" >1.4730</td>\n",
       "            </tr>\n",
       "            <tr>\n",
       "                        <th id=\"T_26aa2_level0_row2\" class=\"row_heading level0 row2\" >gbc</th>\n",
       "                        <td id=\"T_26aa2_row2_col0\" class=\"data row2 col0\" >Gradient Boosting Classifier</td>\n",
       "                        <td id=\"T_26aa2_row2_col1\" class=\"data row2 col1\" >0.9711</td>\n",
       "                        <td id=\"T_26aa2_row2_col2\" class=\"data row2 col2\" >0.9329</td>\n",
       "                        <td id=\"T_26aa2_row2_col3\" class=\"data row2 col3\" >0.2784</td>\n",
       "                        <td id=\"T_26aa2_row2_col4\" class=\"data row2 col4\" >0.6366</td>\n",
       "                        <td id=\"T_26aa2_row2_col5\" class=\"data row2 col5\" >0.3872</td>\n",
       "                        <td id=\"T_26aa2_row2_col6\" class=\"data row2 col6\" >0.3747</td>\n",
       "                        <td id=\"T_26aa2_row2_col7\" class=\"data row2 col7\" >0.4088</td>\n",
       "                        <td id=\"T_26aa2_row2_col8\" class=\"data row2 col8\" >25.0860</td>\n",
       "            </tr>\n",
       "            <tr>\n",
       "                        <th id=\"T_26aa2_level0_row3\" class=\"row_heading level0 row3\" >lr</th>\n",
       "                        <td id=\"T_26aa2_row3_col0\" class=\"data row3 col0\" >Logistic Regression</td>\n",
       "                        <td id=\"T_26aa2_row3_col1\" class=\"data row3 col1\" >0.9684</td>\n",
       "                        <td id=\"T_26aa2_row3_col2\" class=\"data row3 col2\" >0.8588</td>\n",
       "                        <td id=\"T_26aa2_row3_col3\" class=\"data row3 col3\" >0.1310</td>\n",
       "                        <td id=\"T_26aa2_row3_col4\" class=\"data row3 col4\" >0.5823</td>\n",
       "                        <td id=\"T_26aa2_row3_col5\" class=\"data row3 col5\" >0.2134</td>\n",
       "                        <td id=\"T_26aa2_row3_col6\" class=\"data row3 col6\" >0.2038</td>\n",
       "                        <td id=\"T_26aa2_row3_col7\" class=\"data row3 col7\" >0.2655</td>\n",
       "                        <td id=\"T_26aa2_row3_col8\" class=\"data row3 col8\" >14.0500</td>\n",
       "            </tr>\n",
       "            <tr>\n",
       "                        <th id=\"T_26aa2_level0_row4\" class=\"row_heading level0 row4\" >rf</th>\n",
       "                        <td id=\"T_26aa2_row4_col0\" class=\"data row4 col0\" >Random Forest Classifier</td>\n",
       "                        <td id=\"T_26aa2_row4_col1\" class=\"data row4 col1\" >0.9667</td>\n",
       "                        <td id=\"T_26aa2_row4_col2\" class=\"data row4 col2\" >0.8977</td>\n",
       "                        <td id=\"T_26aa2_row4_col3\" class=\"data row4 col3\" >0.3297</td>\n",
       "                        <td id=\"T_26aa2_row4_col4\" class=\"data row4 col4\" >0.4897</td>\n",
       "                        <td id=\"T_26aa2_row4_col5\" class=\"data row4 col5\" >0.3940</td>\n",
       "                        <td id=\"T_26aa2_row4_col6\" class=\"data row4 col6\" >0.3776</td>\n",
       "                        <td id=\"T_26aa2_row4_col7\" class=\"data row4 col7\" >0.3854</td>\n",
       "                        <td id=\"T_26aa2_row4_col8\" class=\"data row4 col8\" >32.8970</td>\n",
       "            </tr>\n",
       "    </tbody></table>"
      ],
      "text/plain": [
       "<pandas.io.formats.style.Styler at 0x7fd20a885a90>"
      ]
     },
     "metadata": {},
     "output_type": "display_data"
    }
   ],
   "source": [
    "model_matrix = compare_models(\n",
    "    fold=10,\n",
    "    include=[\"gbc\", \"lightgbm\", \"lr\", \"rf\", \"xgboost\"]\n",
    ")"
   ]
  },
  {
   "cell_type": "code",
   "execution_count": 8,
   "id": "d9f030ed-4b6a-4a87-a01e-129dc49e0d4a",
   "metadata": {},
   "outputs": [
    {
     "data": {
      "text/html": [
       "<style  type=\"text/css\" >\n",
       "#T_896ac_row10_col0,#T_896ac_row10_col1,#T_896ac_row10_col2,#T_896ac_row10_col3,#T_896ac_row10_col4,#T_896ac_row10_col5,#T_896ac_row10_col6{\n",
       "            background:  yellow;\n",
       "        }</style><table id=\"T_896ac_\" ><thead>    <tr>        <th class=\"blank level0\" ></th>        <th class=\"col_heading level0 col0\" >Accuracy</th>        <th class=\"col_heading level0 col1\" >AUC</th>        <th class=\"col_heading level0 col2\" >Recall</th>        <th class=\"col_heading level0 col3\" >Prec.</th>        <th class=\"col_heading level0 col4\" >F1</th>        <th class=\"col_heading level0 col5\" >Kappa</th>        <th class=\"col_heading level0 col6\" >MCC</th>    </tr></thead><tbody>\n",
       "                <tr>\n",
       "                        <th id=\"T_896ac_level0_row0\" class=\"row_heading level0 row0\" >0</th>\n",
       "                        <td id=\"T_896ac_row0_col0\" class=\"data row0 col0\" >0.9740</td>\n",
       "                        <td id=\"T_896ac_row0_col1\" class=\"data row0 col1\" >0.9494</td>\n",
       "                        <td id=\"T_896ac_row0_col2\" class=\"data row0 col2\" >0.3501</td>\n",
       "                        <td id=\"T_896ac_row0_col3\" class=\"data row0 col3\" >0.7120</td>\n",
       "                        <td id=\"T_896ac_row0_col4\" class=\"data row0 col4\" >0.4694</td>\n",
       "                        <td id=\"T_896ac_row0_col5\" class=\"data row0 col5\" >0.4576</td>\n",
       "                        <td id=\"T_896ac_row0_col6\" class=\"data row0 col6\" >0.4882</td>\n",
       "            </tr>\n",
       "            <tr>\n",
       "                        <th id=\"T_896ac_level0_row1\" class=\"row_heading level0 row1\" >1</th>\n",
       "                        <td id=\"T_896ac_row1_col0\" class=\"data row1 col0\" >0.9737</td>\n",
       "                        <td id=\"T_896ac_row1_col1\" class=\"data row1 col1\" >0.9481</td>\n",
       "                        <td id=\"T_896ac_row1_col2\" class=\"data row1 col2\" >0.3335</td>\n",
       "                        <td id=\"T_896ac_row1_col3\" class=\"data row1 col3\" >0.7117</td>\n",
       "                        <td id=\"T_896ac_row1_col4\" class=\"data row1 col4\" >0.4542</td>\n",
       "                        <td id=\"T_896ac_row1_col5\" class=\"data row1 col5\" >0.4425</td>\n",
       "                        <td id=\"T_896ac_row1_col6\" class=\"data row1 col6\" >0.4762</td>\n",
       "            </tr>\n",
       "            <tr>\n",
       "                        <th id=\"T_896ac_level0_row2\" class=\"row_heading level0 row2\" >2</th>\n",
       "                        <td id=\"T_896ac_row2_col0\" class=\"data row2 col0\" >0.9744</td>\n",
       "                        <td id=\"T_896ac_row2_col1\" class=\"data row2 col1\" >0.9461</td>\n",
       "                        <td id=\"T_896ac_row2_col2\" class=\"data row2 col2\" >0.3559</td>\n",
       "                        <td id=\"T_896ac_row2_col3\" class=\"data row2 col3\" >0.7235</td>\n",
       "                        <td id=\"T_896ac_row2_col4\" class=\"data row2 col4\" >0.4771</td>\n",
       "                        <td id=\"T_896ac_row2_col5\" class=\"data row2 col5\" >0.4655</td>\n",
       "                        <td id=\"T_896ac_row2_col6\" class=\"data row2 col6\" >0.4966</td>\n",
       "            </tr>\n",
       "            <tr>\n",
       "                        <th id=\"T_896ac_level0_row3\" class=\"row_heading level0 row3\" >3</th>\n",
       "                        <td id=\"T_896ac_row3_col0\" class=\"data row3 col0\" >0.9737</td>\n",
       "                        <td id=\"T_896ac_row3_col1\" class=\"data row3 col1\" >0.9495</td>\n",
       "                        <td id=\"T_896ac_row3_col2\" class=\"data row3 col2\" >0.3444</td>\n",
       "                        <td id=\"T_896ac_row3_col3\" class=\"data row3 col3\" >0.7050</td>\n",
       "                        <td id=\"T_896ac_row3_col4\" class=\"data row3 col4\" >0.4627</td>\n",
       "                        <td id=\"T_896ac_row3_col5\" class=\"data row3 col5\" >0.4509</td>\n",
       "                        <td id=\"T_896ac_row3_col6\" class=\"data row3 col6\" >0.4816</td>\n",
       "            </tr>\n",
       "            <tr>\n",
       "                        <th id=\"T_896ac_level0_row4\" class=\"row_heading level0 row4\" >4</th>\n",
       "                        <td id=\"T_896ac_row4_col0\" class=\"data row4 col0\" >0.9733</td>\n",
       "                        <td id=\"T_896ac_row4_col1\" class=\"data row4 col1\" >0.9444</td>\n",
       "                        <td id=\"T_896ac_row4_col2\" class=\"data row4 col2\" >0.3373</td>\n",
       "                        <td id=\"T_896ac_row4_col3\" class=\"data row4 col3\" >0.6935</td>\n",
       "                        <td id=\"T_896ac_row4_col4\" class=\"data row4 col4\" >0.4539</td>\n",
       "                        <td id=\"T_896ac_row4_col5\" class=\"data row4 col5\" >0.4419</td>\n",
       "                        <td id=\"T_896ac_row4_col6\" class=\"data row4 col6\" >0.4723</td>\n",
       "            </tr>\n",
       "            <tr>\n",
       "                        <th id=\"T_896ac_level0_row5\" class=\"row_heading level0 row5\" >5</th>\n",
       "                        <td id=\"T_896ac_row5_col0\" class=\"data row5 col0\" >0.9733</td>\n",
       "                        <td id=\"T_896ac_row5_col1\" class=\"data row5 col1\" >0.9464</td>\n",
       "                        <td id=\"T_896ac_row5_col2\" class=\"data row5 col2\" >0.3444</td>\n",
       "                        <td id=\"T_896ac_row5_col3\" class=\"data row5 col3\" >0.6853</td>\n",
       "                        <td id=\"T_896ac_row5_col4\" class=\"data row5 col4\" >0.4584</td>\n",
       "                        <td id=\"T_896ac_row5_col5\" class=\"data row5 col5\" >0.4462</td>\n",
       "                        <td id=\"T_896ac_row5_col6\" class=\"data row5 col6\" >0.4742</td>\n",
       "            </tr>\n",
       "            <tr>\n",
       "                        <th id=\"T_896ac_level0_row6\" class=\"row_heading level0 row6\" >6</th>\n",
       "                        <td id=\"T_896ac_row6_col0\" class=\"data row6 col0\" >0.9736</td>\n",
       "                        <td id=\"T_896ac_row6_col1\" class=\"data row6 col1\" >0.9471</td>\n",
       "                        <td id=\"T_896ac_row6_col2\" class=\"data row6 col2\" >0.3414</td>\n",
       "                        <td id=\"T_896ac_row6_col3\" class=\"data row6 col3\" >0.7003</td>\n",
       "                        <td id=\"T_896ac_row6_col4\" class=\"data row6 col4\" >0.4590</td>\n",
       "                        <td id=\"T_896ac_row6_col5\" class=\"data row6 col5\" >0.4471</td>\n",
       "                        <td id=\"T_896ac_row6_col6\" class=\"data row6 col6\" >0.4777</td>\n",
       "            </tr>\n",
       "            <tr>\n",
       "                        <th id=\"T_896ac_level0_row7\" class=\"row_heading level0 row7\" >7</th>\n",
       "                        <td id=\"T_896ac_row7_col0\" class=\"data row7 col0\" >0.9734</td>\n",
       "                        <td id=\"T_896ac_row7_col1\" class=\"data row7 col1\" >0.9494</td>\n",
       "                        <td id=\"T_896ac_row7_col2\" class=\"data row7 col2\" >0.3404</td>\n",
       "                        <td id=\"T_896ac_row7_col3\" class=\"data row7 col3\" >0.6925</td>\n",
       "                        <td id=\"T_896ac_row7_col4\" class=\"data row7 col4\" >0.4564</td>\n",
       "                        <td id=\"T_896ac_row7_col5\" class=\"data row7 col5\" >0.4444</td>\n",
       "                        <td id=\"T_896ac_row7_col6\" class=\"data row7 col6\" >0.4741</td>\n",
       "            </tr>\n",
       "            <tr>\n",
       "                        <th id=\"T_896ac_level0_row8\" class=\"row_heading level0 row8\" >8</th>\n",
       "                        <td id=\"T_896ac_row8_col0\" class=\"data row8 col0\" >0.9739</td>\n",
       "                        <td id=\"T_896ac_row8_col1\" class=\"data row8 col1\" >0.9476</td>\n",
       "                        <td id=\"T_896ac_row8_col2\" class=\"data row8 col2\" >0.3576</td>\n",
       "                        <td id=\"T_896ac_row8_col3\" class=\"data row8 col3\" >0.7022</td>\n",
       "                        <td id=\"T_896ac_row8_col4\" class=\"data row8 col4\" >0.4739</td>\n",
       "                        <td id=\"T_896ac_row8_col5\" class=\"data row8 col5\" >0.4620</td>\n",
       "                        <td id=\"T_896ac_row8_col6\" class=\"data row8 col6\" >0.4898</td>\n",
       "            </tr>\n",
       "            <tr>\n",
       "                        <th id=\"T_896ac_level0_row9\" class=\"row_heading level0 row9\" >9</th>\n",
       "                        <td id=\"T_896ac_row9_col0\" class=\"data row9 col0\" >0.9735</td>\n",
       "                        <td id=\"T_896ac_row9_col1\" class=\"data row9 col1\" >0.9477</td>\n",
       "                        <td id=\"T_896ac_row9_col2\" class=\"data row9 col2\" >0.3471</td>\n",
       "                        <td id=\"T_896ac_row9_col3\" class=\"data row9 col3\" >0.6938</td>\n",
       "                        <td id=\"T_896ac_row9_col4\" class=\"data row9 col4\" >0.4627</td>\n",
       "                        <td id=\"T_896ac_row9_col5\" class=\"data row9 col5\" >0.4506</td>\n",
       "                        <td id=\"T_896ac_row9_col6\" class=\"data row9 col6\" >0.4793</td>\n",
       "            </tr>\n",
       "            <tr>\n",
       "                        <th id=\"T_896ac_level0_row10\" class=\"row_heading level0 row10\" >Mean</th>\n",
       "                        <td id=\"T_896ac_row10_col0\" class=\"data row10 col0\" >0.9737</td>\n",
       "                        <td id=\"T_896ac_row10_col1\" class=\"data row10 col1\" >0.9476</td>\n",
       "                        <td id=\"T_896ac_row10_col2\" class=\"data row10 col2\" >0.3452</td>\n",
       "                        <td id=\"T_896ac_row10_col3\" class=\"data row10 col3\" >0.7020</td>\n",
       "                        <td id=\"T_896ac_row10_col4\" class=\"data row10 col4\" >0.4628</td>\n",
       "                        <td id=\"T_896ac_row10_col5\" class=\"data row10 col5\" >0.4509</td>\n",
       "                        <td id=\"T_896ac_row10_col6\" class=\"data row10 col6\" >0.4810</td>\n",
       "            </tr>\n",
       "            <tr>\n",
       "                        <th id=\"T_896ac_level0_row11\" class=\"row_heading level0 row11\" >SD</th>\n",
       "                        <td id=\"T_896ac_row11_col0\" class=\"data row11 col0\" >0.0003</td>\n",
       "                        <td id=\"T_896ac_row11_col1\" class=\"data row11 col1\" >0.0016</td>\n",
       "                        <td id=\"T_896ac_row11_col2\" class=\"data row11 col2\" >0.0073</td>\n",
       "                        <td id=\"T_896ac_row11_col3\" class=\"data row11 col3\" >0.0108</td>\n",
       "                        <td id=\"T_896ac_row11_col4\" class=\"data row11 col4\" >0.0077</td>\n",
       "                        <td id=\"T_896ac_row11_col5\" class=\"data row11 col5\" >0.0078</td>\n",
       "                        <td id=\"T_896ac_row11_col6\" class=\"data row11 col6\" >0.0076</td>\n",
       "            </tr>\n",
       "    </tbody></table>"
      ],
      "text/plain": [
       "<pandas.io.formats.style.Styler at 0x7fd1aa894a60>"
      ]
     },
     "metadata": {},
     "output_type": "display_data"
    },
    {
     "name": "stderr",
     "output_type": "stream",
     "text": [
      "/Library/Frameworks/Python.framework/Versions/3.9/lib/python3.9/site-packages/xgboost/sklearn.py:1146: UserWarning: The use of label encoder in XGBClassifier is deprecated and will be removed in a future release. To remove this warning, do the following: 1) Pass option use_label_encoder=False when constructing XGBClassifier object; and 2) Encode your labels (y) as integers starting with 0, i.e. 0, 1, 2, ..., [num_class - 1].\n",
      "  warnings.warn(label_encoder_deprecation_msg, UserWarning)\n",
      "/Library/Frameworks/Python.framework/Versions/3.9/lib/python3.9/site-packages/xgboost/sklearn.py:1146: UserWarning: The use of label encoder in XGBClassifier is deprecated and will be removed in a future release. To remove this warning, do the following: 1) Pass option use_label_encoder=False when constructing XGBClassifier object; and 2) Encode your labels (y) as integers starting with 0, i.e. 0, 1, 2, ..., [num_class - 1].\n",
      "  warnings.warn(label_encoder_deprecation_msg, UserWarning)\n",
      "/Library/Frameworks/Python.framework/Versions/3.9/lib/python3.9/site-packages/xgboost/sklearn.py:1146: UserWarning: The use of label encoder in XGBClassifier is deprecated and will be removed in a future release. To remove this warning, do the following: 1) Pass option use_label_encoder=False when constructing XGBClassifier object; and 2) Encode your labels (y) as integers starting with 0, i.e. 0, 1, 2, ..., [num_class - 1].\n",
      "  warnings.warn(label_encoder_deprecation_msg, UserWarning)\n",
      "/Library/Frameworks/Python.framework/Versions/3.9/lib/python3.9/site-packages/xgboost/sklearn.py:1146: UserWarning: The use of label encoder in XGBClassifier is deprecated and will be removed in a future release. To remove this warning, do the following: 1) Pass option use_label_encoder=False when constructing XGBClassifier object; and 2) Encode your labels (y) as integers starting with 0, i.e. 0, 1, 2, ..., [num_class - 1].\n",
      "  warnings.warn(label_encoder_deprecation_msg, UserWarning)\n",
      "/Library/Frameworks/Python.framework/Versions/3.9/lib/python3.9/site-packages/xgboost/sklearn.py:1146: UserWarning: The use of label encoder in XGBClassifier is deprecated and will be removed in a future release. To remove this warning, do the following: 1) Pass option use_label_encoder=False when constructing XGBClassifier object; and 2) Encode your labels (y) as integers starting with 0, i.e. 0, 1, 2, ..., [num_class - 1].\n",
      "  warnings.warn(label_encoder_deprecation_msg, UserWarning)\n",
      "/Library/Frameworks/Python.framework/Versions/3.9/lib/python3.9/site-packages/xgboost/sklearn.py:1146: UserWarning: The use of label encoder in XGBClassifier is deprecated and will be removed in a future release. To remove this warning, do the following: 1) Pass option use_label_encoder=False when constructing XGBClassifier object; and 2) Encode your labels (y) as integers starting with 0, i.e. 0, 1, 2, ..., [num_class - 1].\n",
      "  warnings.warn(label_encoder_deprecation_msg, UserWarning)\n",
      "/Library/Frameworks/Python.framework/Versions/3.9/lib/python3.9/site-packages/xgboost/sklearn.py:1146: UserWarning: The use of label encoder in XGBClassifier is deprecated and will be removed in a future release. To remove this warning, do the following: 1) Pass option use_label_encoder=False when constructing XGBClassifier object; and 2) Encode your labels (y) as integers starting with 0, i.e. 0, 1, 2, ..., [num_class - 1].\n",
      "  warnings.warn(label_encoder_deprecation_msg, UserWarning)\n",
      "/Library/Frameworks/Python.framework/Versions/3.9/lib/python3.9/site-packages/xgboost/sklearn.py:1146: UserWarning: The use of label encoder in XGBClassifier is deprecated and will be removed in a future release. To remove this warning, do the following: 1) Pass option use_label_encoder=False when constructing XGBClassifier object; and 2) Encode your labels (y) as integers starting with 0, i.e. 0, 1, 2, ..., [num_class - 1].\n",
      "  warnings.warn(label_encoder_deprecation_msg, UserWarning)\n",
      "/Library/Frameworks/Python.framework/Versions/3.9/lib/python3.9/site-packages/xgboost/sklearn.py:1146: UserWarning: The use of label encoder in XGBClassifier is deprecated and will be removed in a future release. To remove this warning, do the following: 1) Pass option use_label_encoder=False when constructing XGBClassifier object; and 2) Encode your labels (y) as integers starting with 0, i.e. 0, 1, 2, ..., [num_class - 1].\n",
      "  warnings.warn(label_encoder_deprecation_msg, UserWarning)\n",
      "/Library/Frameworks/Python.framework/Versions/3.9/lib/python3.9/site-packages/xgboost/sklearn.py:1146: UserWarning: The use of label encoder in XGBClassifier is deprecated and will be removed in a future release. To remove this warning, do the following: 1) Pass option use_label_encoder=False when constructing XGBClassifier object; and 2) Encode your labels (y) as integers starting with 0, i.e. 0, 1, 2, ..., [num_class - 1].\n",
      "  warnings.warn(label_encoder_deprecation_msg, UserWarning)\n"
     ]
    }
   ],
   "source": [
    "best_model = create_model(model_matrix)\n",
    "final_model = finalize_model(best_model)"
   ]
  },
  {
   "cell_type": "markdown",
   "id": "3aab9021-4462-423a-8e3c-fbe1f36c6110",
   "metadata": {},
   "source": [
    "### Let's load in our 2021 season data and get retention scores using the model:"
   ]
  },
  {
   "cell_type": "code",
   "execution_count": 9,
   "id": "c249a813-c882-4869-9490-6ab766a8c223",
   "metadata": {},
   "outputs": [
    {
     "data": {
      "text/plain": [
       "(183443, 44)"
      ]
     },
     "execution_count": 9,
     "metadata": {},
     "output_type": "execute_result"
    }
   ],
   "source": [
    "df_inference = df.loc[df[\"year\"] >= 2021]\n",
    "df_inference = df_inference.fillna(0)\n",
    "df_inference.shape"
   ]
  },
  {
   "cell_type": "code",
   "execution_count": 10,
   "id": "745b62fb-fb2e-4b4a-9c48-8ce4de472a83",
   "metadata": {},
   "outputs": [
    {
     "data": {
      "text/html": [
       "<div>\n",
       "<style scoped>\n",
       "    .dataframe tbody tr th:only-of-type {\n",
       "        vertical-align: middle;\n",
       "    }\n",
       "\n",
       "    .dataframe tbody tr th {\n",
       "        vertical-align: top;\n",
       "    }\n",
       "\n",
       "    .dataframe thead th {\n",
       "        text-align: right;\n",
       "    }\n",
       "</style>\n",
       "<table border=\"1\" class=\"dataframe\">\n",
       "  <thead>\n",
       "    <tr style=\"text-align: right;\">\n",
       "      <th></th>\n",
       "      <th>lkupClientId</th>\n",
       "      <th>dimCustomerMasterId</th>\n",
       "      <th>dimEventId</th>\n",
       "      <th>inMarket</th>\n",
       "      <th>customerNumber</th>\n",
       "      <th>year</th>\n",
       "      <th>productGrouping</th>\n",
       "      <th>totalSpent</th>\n",
       "      <th>recentDate</th>\n",
       "      <th>attendancePercent</th>\n",
       "      <th>...</th>\n",
       "      <th>outbound_phonecall</th>\n",
       "      <th>phonecall</th>\n",
       "      <th>text</th>\n",
       "      <th>unknown</th>\n",
       "      <th>credits_after_refund</th>\n",
       "      <th>NumberofGamesPerSeason</th>\n",
       "      <th>isNextGameBuyer</th>\n",
       "      <th>Label</th>\n",
       "      <th>Score_0</th>\n",
       "      <th>Score_1</th>\n",
       "    </tr>\n",
       "  </thead>\n",
       "  <tbody>\n",
       "    <tr>\n",
       "      <th>891954</th>\n",
       "      <td>53</td>\n",
       "      <td>674</td>\n",
       "      <td>526</td>\n",
       "      <td>True</td>\n",
       "      <td>11404726</td>\n",
       "      <td>2021</td>\n",
       "      <td>Online Individual Game</td>\n",
       "      <td>0.0</td>\n",
       "      <td>2021-08-20</td>\n",
       "      <td>1.000000</td>\n",
       "      <td>...</td>\n",
       "      <td>0</td>\n",
       "      <td>0</td>\n",
       "      <td>0</td>\n",
       "      <td>0</td>\n",
       "      <td>0.0</td>\n",
       "      <td>94</td>\n",
       "      <td>0</td>\n",
       "      <td>0</td>\n",
       "      <td>0.9750</td>\n",
       "      <td>0.0250</td>\n",
       "    </tr>\n",
       "    <tr>\n",
       "      <th>891955</th>\n",
       "      <td>53</td>\n",
       "      <td>704</td>\n",
       "      <td>869</td>\n",
       "      <td>False</td>\n",
       "      <td>21885649</td>\n",
       "      <td>2021</td>\n",
       "      <td>Online Individual Game</td>\n",
       "      <td>10.0</td>\n",
       "      <td>1970-01-01</td>\n",
       "      <td>0.000000</td>\n",
       "      <td>...</td>\n",
       "      <td>0</td>\n",
       "      <td>0</td>\n",
       "      <td>0</td>\n",
       "      <td>0</td>\n",
       "      <td>0.0</td>\n",
       "      <td>94</td>\n",
       "      <td>0</td>\n",
       "      <td>0</td>\n",
       "      <td>0.9802</td>\n",
       "      <td>0.0198</td>\n",
       "    </tr>\n",
       "    <tr>\n",
       "      <th>891956</th>\n",
       "      <td>53</td>\n",
       "      <td>1200</td>\n",
       "      <td>755</td>\n",
       "      <td>True</td>\n",
       "      <td>6141213</td>\n",
       "      <td>2021</td>\n",
       "      <td>Online Individual Game</td>\n",
       "      <td>26.0</td>\n",
       "      <td>2021-06-01</td>\n",
       "      <td>1.000000</td>\n",
       "      <td>...</td>\n",
       "      <td>0</td>\n",
       "      <td>0</td>\n",
       "      <td>0</td>\n",
       "      <td>0</td>\n",
       "      <td>0.0</td>\n",
       "      <td>94</td>\n",
       "      <td>0</td>\n",
       "      <td>0</td>\n",
       "      <td>0.9950</td>\n",
       "      <td>0.0050</td>\n",
       "    </tr>\n",
       "    <tr>\n",
       "      <th>891957</th>\n",
       "      <td>53</td>\n",
       "      <td>1353</td>\n",
       "      <td>866</td>\n",
       "      <td>False</td>\n",
       "      <td>25329442</td>\n",
       "      <td>2021</td>\n",
       "      <td>Other</td>\n",
       "      <td>12.0</td>\n",
       "      <td>2021-09-19</td>\n",
       "      <td>0.666667</td>\n",
       "      <td>...</td>\n",
       "      <td>0</td>\n",
       "      <td>0</td>\n",
       "      <td>0</td>\n",
       "      <td>0</td>\n",
       "      <td>0.0</td>\n",
       "      <td>94</td>\n",
       "      <td>0</td>\n",
       "      <td>1</td>\n",
       "      <td>0.4548</td>\n",
       "      <td>0.5452</td>\n",
       "    </tr>\n",
       "    <tr>\n",
       "      <th>891958</th>\n",
       "      <td>53</td>\n",
       "      <td>1353</td>\n",
       "      <td>1157</td>\n",
       "      <td>False</td>\n",
       "      <td>25329442</td>\n",
       "      <td>2021</td>\n",
       "      <td>Other</td>\n",
       "      <td>8.0</td>\n",
       "      <td>1970-01-01</td>\n",
       "      <td>0.000000</td>\n",
       "      <td>...</td>\n",
       "      <td>0</td>\n",
       "      <td>0</td>\n",
       "      <td>0</td>\n",
       "      <td>0</td>\n",
       "      <td>0.0</td>\n",
       "      <td>94</td>\n",
       "      <td>0</td>\n",
       "      <td>0</td>\n",
       "      <td>0.6834</td>\n",
       "      <td>0.3166</td>\n",
       "    </tr>\n",
       "  </tbody>\n",
       "</table>\n",
       "<p>5 rows × 47 columns</p>\n",
       "</div>"
      ],
      "text/plain": [
       "        lkupClientId  dimCustomerMasterId  dimEventId inMarket customerNumber  \\\n",
       "891954            53                  674         526     True       11404726   \n",
       "891955            53                  704         869    False       21885649   \n",
       "891956            53                 1200         755     True        6141213   \n",
       "891957            53                 1353         866    False       25329442   \n",
       "891958            53                 1353        1157    False       25329442   \n",
       "\n",
       "        year         productGrouping  totalSpent  recentDate  \\\n",
       "891954  2021  Online Individual Game         0.0  2021-08-20   \n",
       "891955  2021  Online Individual Game        10.0  1970-01-01   \n",
       "891956  2021  Online Individual Game        26.0  2021-06-01   \n",
       "891957  2021                   Other        12.0  2021-09-19   \n",
       "891958  2021                   Other         8.0  1970-01-01   \n",
       "\n",
       "        attendancePercent  ...  outbound_phonecall phonecall  text  unknown  \\\n",
       "891954           1.000000  ...                   0         0     0        0   \n",
       "891955           0.000000  ...                   0         0     0        0   \n",
       "891956           1.000000  ...                   0         0     0        0   \n",
       "891957           0.666667  ...                   0         0     0        0   \n",
       "891958           0.000000  ...                   0         0     0        0   \n",
       "\n",
       "        credits_after_refund  NumberofGamesPerSeason  isNextGameBuyer  Label  \\\n",
       "891954                   0.0                      94                0      0   \n",
       "891955                   0.0                      94                0      0   \n",
       "891956                   0.0                      94                0      0   \n",
       "891957                   0.0                      94                0      1   \n",
       "891958                   0.0                      94                0      0   \n",
       "\n",
       "        Score_0  Score_1  \n",
       "891954   0.9750   0.0250  \n",
       "891955   0.9802   0.0198  \n",
       "891956   0.9950   0.0050  \n",
       "891957   0.4548   0.5452  \n",
       "891958   0.6834   0.3166  \n",
       "\n",
       "[5 rows x 47 columns]"
      ]
     },
     "execution_count": 10,
     "metadata": {},
     "output_type": "execute_result"
    }
   ],
   "source": [
    "new_predictions = predict_model(final_model, data=df_inference, raw_score=True)\n",
    "new_predictions.head()"
   ]
  },
  {
   "cell_type": "code",
   "execution_count": 11,
   "id": "c98d3de4-966c-4d4a-af8f-e4a2d78eed38",
   "metadata": {},
   "outputs": [
    {
     "data": {
      "text/plain": [
       "0    179374\n",
       "1      4069\n",
       "Name: Label, dtype: int64"
      ]
     },
     "execution_count": 11,
     "metadata": {},
     "output_type": "execute_result"
    }
   ],
   "source": [
    "new_predictions[\"Label\"].value_counts()"
   ]
  },
  {
   "cell_type": "code",
   "execution_count": 12,
   "id": "95e96920-bc9c-4b50-837c-89e392d13449",
   "metadata": {},
   "outputs": [
    {
     "data": {
      "text/plain": [
       "(-0.001, 0.2]    166957\n",
       "(0.2, 0.4]         9656\n",
       "(0.4, 0.6]         4680\n",
       "(0.6, 0.8]         1805\n",
       "(0.8, 1.0]          345\n",
       "Name: Score_1, dtype: int64"
      ]
     },
     "execution_count": 12,
     "metadata": {},
     "output_type": "execute_result"
    }
   ],
   "source": [
    "new_predictions[\"Score_1\"].value_counts(bins=[0, 0.2, 0.4, 0.6, 0.8, 1.0])"
   ]
  },
  {
   "cell_type": "code",
   "execution_count": 13,
   "id": "3b4b1d51-1c33-489a-95f6-ab75e428c760",
   "metadata": {},
   "outputs": [
    {
     "data": {
      "text/plain": [
       "array([[<AxesSubplot:title={'center':'Score_1'}>]], dtype=object)"
      ]
     },
     "execution_count": 13,
     "metadata": {},
     "output_type": "execute_result"
    },
    {
     "data": {
      "image/png": "[encoded data removed]",
      "text/plain": [
       "<Figure size 720x360 with 1 Axes>"
      ]
     },
     "metadata": {
      "needs_background": "light"
     },
     "output_type": "display_data"
    }
   ],
   "source": [
    "new_predictions[new_predictions[\"Label\"]==1][[\"Score_1\"]].hist(bins=30, figsize=(10,5), range=[0,1])"
   ]
  },
  {
   "cell_type": "code",
   "execution_count": 14,
   "id": "144bd27b-9798-4f8b-a3a3-95298d8e2c01",
   "metadata": {},
   "outputs": [
    {
     "data": {
      "image/png": "[encoded data removed]",
      "text/plain": [
       "<Figure size 800x500 with 1 Axes>"
      ]
     },
     "metadata": {},
     "output_type": "display_data"
    }
   ],
   "source": [
    "plot_model(best_model, plot='feature')"
   ]
  },
  {
   "cell_type": "code",
   "execution_count": 15,
   "id": "79e34840-9a47-486f-a648-6d5d16d73b89",
   "metadata": {},
   "outputs": [
    {
     "data": {
      "image/png": "[encoded data removed]",
      "text/plain": [
       "<Figure size 576x396 with 1 Axes>"
      ]
     },
     "metadata": {},
     "output_type": "display_data"
    }
   ],
   "source": [
    "plot_model(best_model, plot='confusion_matrix')"
   ]
  },
  {
   "cell_type": "markdown",
   "id": "a439108b-7911-4384-b089-f7b31c825192",
   "metadata": {},
   "source": [
    "## Observations\n",
    "Here you can document some ideas on the results from above"
   ]
  },
  {
   "cell_type": "markdown",
   "id": "d2de91b5-a1e8-42a5-a087-8c31ff2e1db3",
   "metadata": {},
   "source": [
    "## Conclusions\n",
    "Here you can talk about next steps, did the experiment work? If yes, what to do next? If no, why?"
   ]
  }
 ],
 "metadata": {
  "kernelspec": {
   "display_name": "Python 3 (ipykernel)",
   "language": "python",
   "name": "python3"
  },
  "language_info": {
   "codemirror_mode": {
    "name": "ipython",
    "version": 3
   },
   "file_extension": ".py",
   "mimetype": "text/x-python",
   "name": "python",
   "nbconvert_exporter": "python",
   "pygments_lexer": "ipython3",
   "version": "3.9.4"
  }
 },
 "nbformat": 4,
 "nbformat_minor": 5
}
