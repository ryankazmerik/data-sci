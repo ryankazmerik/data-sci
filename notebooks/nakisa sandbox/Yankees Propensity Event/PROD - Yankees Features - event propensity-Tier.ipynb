{
 "cells": [
  {
   "cell_type": "markdown",
   "id": "6ee08766-25fd-4da1-91b8-b0c3e74db588",
   "metadata": {},
   "source": [
    "# Yankees - Extended Feature Selection\n",
    "* StelllarAlgo Data Science\n",
    "* Ryan Kazmerik & Nakisa Rad\n",
    "* Jan 31, 2022"
   ]
  },
  {
   "cell_type": "markdown",
   "id": "39108c8d-2e9f-4759-ade2-83071038dc56",
   "metadata": {},
   "source": [
    "## Hypothesis\n",
    "We can help teams predict who will buy a single ticket to the next game based on the historical data we have on that fan. This also requires engineering a new feature (isNextGameBuyer) in order to make a prediction on if the fan will buy a ticket to the next game or not."
   ]
  },
  {
   "cell_type": "markdown",
   "id": "28142011-1f32-4cc7-816b-a6dae6f70c8c",
   "metadata": {},
   "source": [
    "## Experiment\n",
    "This section details our experiment including querying data, data transformations, feature selection and modelling."
   ]
  },
  {
   "cell_type": "code",
   "execution_count": 1,
   "id": "4c533efd-600e-4bce-8203-faffbddfa700",
   "metadata": {},
   "outputs": [],
   "source": [
    "import getpass\n",
    "import pyodbc\n",
    "import pandas as pd\n",
    "import warnings\n",
    "import matplotlib.pyplot as plt\n",
    "\n",
    "from pycaret.classification import *\n",
    "\n",
    "warnings.filterwarnings('ignore')"
   ]
  },
  {
   "cell_type": "markdown",
   "id": "b64ae7d5-84af-4915-bd13-1dd9d17098a3",
   "metadata": {},
   "source": [
    "### Let's connect to MSSQL and run a stored proc to get our dataset:"
   ]
  },
  {
   "cell_type": "code",
   "execution_count": 2,
   "id": "ae561eb4-f419-4d46-b5e0-12fac9b10db8",
   "metadata": {},
   "outputs": [],
   "source": [
    "# connect to SQL Server.\n",
    "SERVER = '54.164.224.129'  \n",
    "DATABASE = 'stlrRays' \n",
    "USERNAME = 'nrad' \n",
    "PASSWORD = getpass.getpass(prompt='Enter your password')\n",
    "CNXN = pyodbc.connect('DRIVER={ODBC Driver 17 for SQL Server};SERVER='+SERVER+';DATABASE='+DATABASE+';UID='+USERNAME+';PWD='+ PASSWORD)"
   ]
  },
  {
   "cell_type": "code",
   "execution_count": 3,
   "id": "af1afe7d-a35b-494b-88f3-980fb0e3da30",
   "metadata": {},
   "outputs": [
    {
     "data": {
      "text/plain": [
       "(596781, 45)"
      ]
     },
     "execution_count": 3,
     "metadata": {},
     "output_type": "execute_result"
    }
   ],
   "source": [
    "lkupclientid = 53 # Yankees\n",
    "\n",
    "cursor = CNXN.cursor()\n",
    "\n",
    "storedProc = (\n",
    "    f\"\"\"Exec [stlrYankees].[ds].[getPropensityEventScoring] {lkupclientid}\"\"\"\n",
    ")\n",
    "\n",
    "df = pd.read_sql(storedProc, CNXN)\n",
    "\n",
    "# apply some data transformations\n",
    "df[\"year\"] = pd.to_numeric(df[\"year\"]) \n",
    "\n",
    "CNXN.commit()\n",
    "cursor.close()\n",
    "\n",
    "df.shape"
   ]
  },
  {
   "cell_type": "code",
   "execution_count": 4,
   "id": "11e97dcc-c69e-46c1-8dad-33f6291cb0c6",
   "metadata": {},
   "outputs": [
    {
     "name": "stdout",
     "output_type": "stream",
     "text": [
      "<class 'pandas.core.frame.DataFrame'>\n",
      "RangeIndex: 596781 entries, 0 to 596780\n",
      "Data columns (total 45 columns):\n",
      " #   Column                  Non-Null Count   Dtype  \n",
      "---  ------                  --------------   -----  \n",
      " 0   lkupClientId            596781 non-null  int64  \n",
      " 1   dimCustomerMasterId     596781 non-null  int64  \n",
      " 2   dimEventId              596781 non-null  int64  \n",
      " 3   inMarket                596781 non-null  bool   \n",
      " 4   customerNumber          596781 non-null  object \n",
      " 5   year                    596781 non-null  int64  \n",
      " 6   productGrouping         596781 non-null  object \n",
      " 7   Tier                    596781 non-null  int64  \n",
      " 8   totalSpent              596781 non-null  float64\n",
      " 9   recentDate              596781 non-null  object \n",
      " 10  attendancePercent       596781 non-null  float64\n",
      " 11  renewedBeforeDays       596781 non-null  int64  \n",
      " 12  isBuyer                 596781 non-null  object \n",
      " 13  source_tenure           596781 non-null  int64  \n",
      " 14  tenure                  596781 non-null  int64  \n",
      " 15  distToVenue             596781 non-null  float64\n",
      " 16  totalGames              596781 non-null  int64  \n",
      " 17  recency                 596781 non-null  int64  \n",
      " 18  click_link              596781 non-null  int64  \n",
      " 19  fill_out_form           596781 non-null  int64  \n",
      " 20  open_email              596781 non-null  int64  \n",
      " 21  send_email              596781 non-null  int64  \n",
      " 22  unsubscribe_email       596781 non-null  int64  \n",
      " 23  openToSendRatio         596781 non-null  float64\n",
      " 24  clickToSendRatio        596781 non-null  float64\n",
      " 25  clickToOpenRatio        596781 non-null  float64\n",
      " 26  posting_records         596781 non-null  int64  \n",
      " 27  resale_records          596781 non-null  int64  \n",
      " 28  resale_atp              596781 non-null  float64\n",
      " 29  forward_records         596781 non-null  int64  \n",
      " 30  cancel_records          596781 non-null  int64  \n",
      " 31  email                   596781 non-null  int64  \n",
      " 32  inbound_email           596781 non-null  int64  \n",
      " 33  inbound_phonecall       596781 non-null  int64  \n",
      " 34  inperson_contact        596781 non-null  int64  \n",
      " 35  internal_note           596781 non-null  int64  \n",
      " 36  left_message            596781 non-null  int64  \n",
      " 37  outbound_email          596781 non-null  int64  \n",
      " 38  outbound_phonecall      596781 non-null  int64  \n",
      " 39  phonecall               596781 non-null  int64  \n",
      " 40  text                    596781 non-null  int64  \n",
      " 41  unknown                 596781 non-null  int64  \n",
      " 42  credits_after_refund    596781 non-null  float64\n",
      " 43  NumberofGamesPerSeason  596781 non-null  int64  \n",
      " 44  isNextGameBuyer         596781 non-null  int64  \n",
      "dtypes: bool(1), float64(8), int64(32), object(4)\n",
      "memory usage: 200.9+ MB\n"
     ]
    }
   ],
   "source": [
    "df.info()"
   ]
  },
  {
   "cell_type": "markdown",
   "id": "ab40da92-72a7-49c1-9829-ed3805a39719",
   "metadata": {},
   "source": [
    "### We should specify the features used in our model:"
   ]
  },
  {
   "cell_type": "code",
   "execution_count": 5,
   "id": "788f1273-8b7a-46bd-a099-1a471feeacc5",
   "metadata": {},
   "outputs": [
    {
     "name": "stdout",
     "output_type": "stream",
     "text": [
      "Data for Modeling: (454560, 19)\n",
      "Unseen Data For Predictions: (80217, 19)\n",
      "\n"
     ]
    }
   ],
   "source": [
    "# choose the features for the stellar base retention model\n",
    "features = [\"dimCustomerMasterId\",\n",
    "        \"inMarket\",\n",
    "        \"attendancePercent\",\n",
    "        \"renewedBeforeDays\",\n",
    "        \"source_tenure\",\n",
    "        \"tenure\",\n",
    "        \"distToVenue\",\n",
    "        \"totalGames\",\n",
    "        \"recency\",\n",
    "        \"click_link\",\n",
    "        \"fill_out_form\",\n",
    "        \"open_email\" ,\n",
    "        \"send_email\",\n",
    "        \"unsubscribe_email\",\n",
    "        \"openToSendRatio\",\n",
    "        \"clickToSendRatio\",\n",
    "        \"clickToOpenRatio\",\n",
    "        \"Tier\",\n",
    "        \"year\"\n",
    "]\n",
    "\n",
    "# copy your main dataframe\n",
    "df_dataset = df\n",
    "\n",
    "# choose the features & train year & test year\n",
    "df_dataset = df_dataset[features]\n",
    "df_dataset[\"year\"] = pd.to_numeric(df_dataset[\"year\"])\n",
    "df_dataset = df_dataset.loc[df_dataset[\"year\"] <= 2019]\n",
    "#df_dataset = df_dataset[df_dataset[\"Tier\"] == {1,2,3} ]\n",
    "\n",
    "df_train = df_dataset.sample(frac=0.85, random_state=786)\n",
    "df_eval = df_dataset.drop(df_train.index)\n",
    "\n",
    "df_train.reset_index(drop=True, inplace=True)\n",
    "df_eval.reset_index(drop=True, inplace=True)\n",
    "\n",
    "# print out the number of records for training and eval\n",
    "print('Data for Modeling: ' + str(df_train.shape))\n",
    "print('Unseen Data For Predictions: ' + str(df_eval.shape), end=\"\\n\\n\")"
   ]
  },
  {
   "cell_type": "markdown",
   "id": "4f2da06d-9015-49fd-89b3-956c2ebf66e9",
   "metadata": {},
   "source": [
    "### Now we can model the data using a binary classification prediction for the isnextyear_buyer field to see how likely a customer is to re-purchase."
   ]
  },
  {
   "cell_type": "code",
   "execution_count": 6,
   "id": "23a69cdc-b3ec-48c8-9ce5-29f617779389",
   "metadata": {},
   "outputs": [],
   "source": [
    "setup(\n",
    "    data= df_train, \n",
    "    target=\"Tier\", \n",
    "    train_size = 0.80,\n",
    "    data_split_shuffle=True,\n",
    "    ignore_features=[\"dimCustomerMasterId\",\"year\"],\n",
    "    silent=True,\n",
    "    verbose=False,\n",
    "    numeric_features=[\"inMarket\",\n",
    "        \"attendancePercent\",\n",
    "        \"attendancePercent\",\n",
    "        \"renewedBeforeDays\",\n",
    "        \"source_tenure\",\n",
    "        \"tenure\",\n",
    "        \"distToVenue\",\n",
    "        \"totalGames\",\n",
    "        \"recency\",\n",
    "        \"click_link\",\n",
    "        \"fill_out_form\",\n",
    "        \"open_email\" ,\n",
    "        \"send_email\",\n",
    "        \"unsubscribe_email\",\n",
    "        \"openToSendRatio\",\n",
    "        \"clickToSendRatio\",\n",
    "        \"clickToOpenRatio\"\n",
    "    ]\n",
    ");"
   ]
  },
  {
   "cell_type": "code",
   "execution_count": 7,
   "id": "ef2db9d2-02c2-45c0-b6bb-5cad42c373ce",
   "metadata": {},
   "outputs": [
    {
     "data": {
      "text/html": [
       "<style  type=\"text/css\" >\n",
       "    #T_58055_ th {\n",
       "          text-align: left;\n",
       "    }#T_58055_row0_col0,#T_58055_row1_col0,#T_58055_row1_col1,#T_58055_row1_col2,#T_58055_row1_col3,#T_58055_row1_col4,#T_58055_row1_col5,#T_58055_row1_col6,#T_58055_row1_col7,#T_58055_row2_col0,#T_58055_row2_col1,#T_58055_row2_col2,#T_58055_row2_col3,#T_58055_row2_col4,#T_58055_row2_col5,#T_58055_row2_col6,#T_58055_row2_col7,#T_58055_row3_col0,#T_58055_row3_col1,#T_58055_row3_col2,#T_58055_row3_col3,#T_58055_row3_col4,#T_58055_row3_col5,#T_58055_row3_col6,#T_58055_row3_col7,#T_58055_row4_col0,#T_58055_row4_col1,#T_58055_row4_col2,#T_58055_row4_col3,#T_58055_row4_col4,#T_58055_row4_col5,#T_58055_row4_col6,#T_58055_row4_col7{\n",
       "            text-align:  left;\n",
       "            text-align:  left;\n",
       "        }#T_58055_row0_col1,#T_58055_row0_col2,#T_58055_row0_col3,#T_58055_row0_col4,#T_58055_row0_col5,#T_58055_row0_col6,#T_58055_row0_col7{\n",
       "            text-align:  left;\n",
       "            text-align:  left;\n",
       "            background-color:  yellow;\n",
       "        }#T_58055_row0_col8,#T_58055_row2_col8,#T_58055_row3_col8,#T_58055_row4_col8{\n",
       "            text-align:  left;\n",
       "            text-align:  left;\n",
       "            background-color:  lightgrey;\n",
       "        }#T_58055_row1_col8{\n",
       "            text-align:  left;\n",
       "            text-align:  left;\n",
       "            background-color:  yellow;\n",
       "            background-color:  lightgrey;\n",
       "        }</style><table id=\"T_58055_\" ><thead>    <tr>        <th class=\"blank level0\" ></th>        <th class=\"col_heading level0 col0\" >Model</th>        <th class=\"col_heading level0 col1\" >Accuracy</th>        <th class=\"col_heading level0 col2\" >AUC</th>        <th class=\"col_heading level0 col3\" >Recall</th>        <th class=\"col_heading level0 col4\" >Prec.</th>        <th class=\"col_heading level0 col5\" >F1</th>        <th class=\"col_heading level0 col6\" >Kappa</th>        <th class=\"col_heading level0 col7\" >MCC</th>        <th class=\"col_heading level0 col8\" >TT (Sec)</th>    </tr></thead><tbody>\n",
       "                <tr>\n",
       "                        <th id=\"T_58055_level0_row0\" class=\"row_heading level0 row0\" >xgboost</th>\n",
       "                        <td id=\"T_58055_row0_col0\" class=\"data row0 col0\" >Extreme Gradient Boosting</td>\n",
       "                        <td id=\"T_58055_row0_col1\" class=\"data row0 col1\" >0.5945</td>\n",
       "                        <td id=\"T_58055_row0_col2\" class=\"data row0 col2\" >0.6969</td>\n",
       "                        <td id=\"T_58055_row0_col3\" class=\"data row0 col3\" >0.4649</td>\n",
       "                        <td id=\"T_58055_row0_col4\" class=\"data row0 col4\" >0.6093</td>\n",
       "                        <td id=\"T_58055_row0_col5\" class=\"data row0 col5\" >0.5674</td>\n",
       "                        <td id=\"T_58055_row0_col6\" class=\"data row0 col6\" >0.2434</td>\n",
       "                        <td id=\"T_58055_row0_col7\" class=\"data row0 col7\" >0.2613</td>\n",
       "                        <td id=\"T_58055_row0_col8\" class=\"data row0 col8\" >30.4260</td>\n",
       "            </tr>\n",
       "            <tr>\n",
       "                        <th id=\"T_58055_level0_row1\" class=\"row_heading level0 row1\" >lightgbm</th>\n",
       "                        <td id=\"T_58055_row1_col0\" class=\"data row1 col0\" >Light Gradient Boosting Machine</td>\n",
       "                        <td id=\"T_58055_row1_col1\" class=\"data row1 col1\" >0.5883</td>\n",
       "                        <td id=\"T_58055_row1_col2\" class=\"data row1 col2\" >0.6894</td>\n",
       "                        <td id=\"T_58055_row1_col3\" class=\"data row1 col3\" >0.4559</td>\n",
       "                        <td id=\"T_58055_row1_col4\" class=\"data row1 col4\" >0.6065</td>\n",
       "                        <td id=\"T_58055_row1_col5\" class=\"data row1 col5\" >0.5578</td>\n",
       "                        <td id=\"T_58055_row1_col6\" class=\"data row1 col6\" >0.2285</td>\n",
       "                        <td id=\"T_58055_row1_col7\" class=\"data row1 col7\" >0.2489</td>\n",
       "                        <td id=\"T_58055_row1_col8\" class=\"data row1 col8\" >2.4870</td>\n",
       "            </tr>\n",
       "            <tr>\n",
       "                        <th id=\"T_58055_level0_row2\" class=\"row_heading level0 row2\" >rf</th>\n",
       "                        <td id=\"T_58055_row2_col0\" class=\"data row2 col0\" >Random Forest Classifier</td>\n",
       "                        <td id=\"T_58055_row2_col1\" class=\"data row2 col1\" >0.5667</td>\n",
       "                        <td id=\"T_58055_row2_col2\" class=\"data row2 col2\" >0.6586</td>\n",
       "                        <td id=\"T_58055_row2_col3\" class=\"data row2 col3\" >0.4602</td>\n",
       "                        <td id=\"T_58055_row2_col4\" class=\"data row2 col4\" >0.5585</td>\n",
       "                        <td id=\"T_58055_row2_col5\" class=\"data row2 col5\" >0.5535</td>\n",
       "                        <td id=\"T_58055_row2_col6\" class=\"data row2 col6\" >0.2147</td>\n",
       "                        <td id=\"T_58055_row2_col7\" class=\"data row2 col7\" >0.2181</td>\n",
       "                        <td id=\"T_58055_row2_col8\" class=\"data row2 col8\" >19.7680</td>\n",
       "            </tr>\n",
       "            <tr>\n",
       "                        <th id=\"T_58055_level0_row3\" class=\"row_heading level0 row3\" >gbc</th>\n",
       "                        <td id=\"T_58055_row3_col0\" class=\"data row3 col0\" >Gradient Boosting Classifier</td>\n",
       "                        <td id=\"T_58055_row3_col1\" class=\"data row3 col1\" >0.5579</td>\n",
       "                        <td id=\"T_58055_row3_col2\" class=\"data row3 col2\" >0.6424</td>\n",
       "                        <td id=\"T_58055_row3_col3\" class=\"data row3 col3\" >0.4112</td>\n",
       "                        <td id=\"T_58055_row3_col4\" class=\"data row3 col4\" >0.5801</td>\n",
       "                        <td id=\"T_58055_row3_col5\" class=\"data row3 col5\" >0.5160</td>\n",
       "                        <td id=\"T_58055_row3_col6\" class=\"data row3 col6\" >0.1617</td>\n",
       "                        <td id=\"T_58055_row3_col7\" class=\"data row3 col7\" >0.1812</td>\n",
       "                        <td id=\"T_58055_row3_col8\" class=\"data row3 col8\" >42.7720</td>\n",
       "            </tr>\n",
       "            <tr>\n",
       "                        <th id=\"T_58055_level0_row4\" class=\"row_heading level0 row4\" >lr</th>\n",
       "                        <td id=\"T_58055_row4_col0\" class=\"data row4 col0\" >Logistic Regression</td>\n",
       "                        <td id=\"T_58055_row4_col1\" class=\"data row4 col1\" >0.5126</td>\n",
       "                        <td id=\"T_58055_row4_col2\" class=\"data row4 col2\" >0.5584</td>\n",
       "                        <td id=\"T_58055_row4_col3\" class=\"data row4 col3\" >0.3540</td>\n",
       "                        <td id=\"T_58055_row4_col4\" class=\"data row4 col4\" >0.4703</td>\n",
       "                        <td id=\"T_58055_row4_col5\" class=\"data row4 col5\" >0.4331</td>\n",
       "                        <td id=\"T_58055_row4_col6\" class=\"data row4 col6\" >0.0525</td>\n",
       "                        <td id=\"T_58055_row4_col7\" class=\"data row4 col7\" >0.0709</td>\n",
       "                        <td id=\"T_58055_row4_col8\" class=\"data row4 col8\" >20.8290</td>\n",
       "            </tr>\n",
       "    </tbody></table>"
      ],
      "text/plain": [
       "<pandas.io.formats.style.Styler at 0x7fb6104ac550>"
      ]
     },
     "metadata": {},
     "output_type": "display_data"
    }
   ],
   "source": [
    "model_matrix = compare_models(\n",
    "    fold=10,\n",
    "    include=[\"gbc\", \"lightgbm\", \"lr\", \"rf\", \"xgboost\"]\n",
    ")"
   ]
  },
  {
   "cell_type": "code",
   "execution_count": 8,
   "id": "d9f030ed-4b6a-4a87-a01e-129dc49e0d4a",
   "metadata": {},
   "outputs": [
    {
     "data": {
      "text/html": [
       "<style  type=\"text/css\" >\n",
       "#T_a8b4e_row10_col0,#T_a8b4e_row10_col1,#T_a8b4e_row10_col2,#T_a8b4e_row10_col3,#T_a8b4e_row10_col4,#T_a8b4e_row10_col5,#T_a8b4e_row10_col6{\n",
       "            background:  yellow;\n",
       "        }</style><table id=\"T_a8b4e_\" ><thead>    <tr>        <th class=\"blank level0\" ></th>        <th class=\"col_heading level0 col0\" >Accuracy</th>        <th class=\"col_heading level0 col1\" >AUC</th>        <th class=\"col_heading level0 col2\" >Recall</th>        <th class=\"col_heading level0 col3\" >Prec.</th>        <th class=\"col_heading level0 col4\" >F1</th>        <th class=\"col_heading level0 col5\" >Kappa</th>        <th class=\"col_heading level0 col6\" >MCC</th>    </tr></thead><tbody>\n",
       "                <tr>\n",
       "                        <th id=\"T_a8b4e_level0_row0\" class=\"row_heading level0 row0\" >0</th>\n",
       "                        <td id=\"T_a8b4e_row0_col0\" class=\"data row0 col0\" >0.5965</td>\n",
       "                        <td id=\"T_a8b4e_row0_col1\" class=\"data row0 col1\" >0.6968</td>\n",
       "                        <td id=\"T_a8b4e_row0_col2\" class=\"data row0 col2\" >0.4670</td>\n",
       "                        <td id=\"T_a8b4e_row0_col3\" class=\"data row0 col3\" >0.6117</td>\n",
       "                        <td id=\"T_a8b4e_row0_col4\" class=\"data row0 col4\" >0.5695</td>\n",
       "                        <td id=\"T_a8b4e_row0_col5\" class=\"data row0 col5\" >0.2472</td>\n",
       "                        <td id=\"T_a8b4e_row0_col6\" class=\"data row0 col6\" >0.2653</td>\n",
       "            </tr>\n",
       "            <tr>\n",
       "                        <th id=\"T_a8b4e_level0_row1\" class=\"row_heading level0 row1\" >1</th>\n",
       "                        <td id=\"T_a8b4e_row1_col0\" class=\"data row1 col0\" >0.5969</td>\n",
       "                        <td id=\"T_a8b4e_row1_col1\" class=\"data row1 col1\" >0.6978</td>\n",
       "                        <td id=\"T_a8b4e_row1_col2\" class=\"data row1 col2\" >0.4670</td>\n",
       "                        <td id=\"T_a8b4e_row1_col3\" class=\"data row1 col3\" >0.6143</td>\n",
       "                        <td id=\"T_a8b4e_row1_col4\" class=\"data row1 col4\" >0.5697</td>\n",
       "                        <td id=\"T_a8b4e_row1_col5\" class=\"data row1 col5\" >0.2472</td>\n",
       "                        <td id=\"T_a8b4e_row1_col6\" class=\"data row1 col6\" >0.2658</td>\n",
       "            </tr>\n",
       "            <tr>\n",
       "                        <th id=\"T_a8b4e_level0_row2\" class=\"row_heading level0 row2\" >2</th>\n",
       "                        <td id=\"T_a8b4e_row2_col0\" class=\"data row2 col0\" >0.5943</td>\n",
       "                        <td id=\"T_a8b4e_row2_col1\" class=\"data row2 col1\" >0.6964</td>\n",
       "                        <td id=\"T_a8b4e_row2_col2\" class=\"data row2 col2\" >0.4627</td>\n",
       "                        <td id=\"T_a8b4e_row2_col3\" class=\"data row2 col3\" >0.6101</td>\n",
       "                        <td id=\"T_a8b4e_row2_col4\" class=\"data row2 col4\" >0.5658</td>\n",
       "                        <td id=\"T_a8b4e_row2_col5\" class=\"data row2 col5\" >0.2417</td>\n",
       "                        <td id=\"T_a8b4e_row2_col6\" class=\"data row2 col6\" >0.2608</td>\n",
       "            </tr>\n",
       "            <tr>\n",
       "                        <th id=\"T_a8b4e_level0_row3\" class=\"row_heading level0 row3\" >3</th>\n",
       "                        <td id=\"T_a8b4e_row3_col0\" class=\"data row3 col0\" >0.5960</td>\n",
       "                        <td id=\"T_a8b4e_row3_col1\" class=\"data row3 col1\" >0.6987</td>\n",
       "                        <td id=\"T_a8b4e_row3_col2\" class=\"data row3 col2\" >0.4656</td>\n",
       "                        <td id=\"T_a8b4e_row3_col3\" class=\"data row3 col3\" >0.6095</td>\n",
       "                        <td id=\"T_a8b4e_row3_col4\" class=\"data row3 col4\" >0.5695</td>\n",
       "                        <td id=\"T_a8b4e_row3_col5\" class=\"data row3 col5\" >0.2469</td>\n",
       "                        <td id=\"T_a8b4e_row3_col6\" class=\"data row3 col6\" >0.2639</td>\n",
       "            </tr>\n",
       "            <tr>\n",
       "                        <th id=\"T_a8b4e_level0_row4\" class=\"row_heading level0 row4\" >4</th>\n",
       "                        <td id=\"T_a8b4e_row4_col0\" class=\"data row4 col0\" >0.5955</td>\n",
       "                        <td id=\"T_a8b4e_row4_col1\" class=\"data row4 col1\" >0.6979</td>\n",
       "                        <td id=\"T_a8b4e_row4_col2\" class=\"data row4 col2\" >0.4654</td>\n",
       "                        <td id=\"T_a8b4e_row4_col3\" class=\"data row4 col3\" >0.6095</td>\n",
       "                        <td id=\"T_a8b4e_row4_col4\" class=\"data row4 col4\" >0.5685</td>\n",
       "                        <td id=\"T_a8b4e_row4_col5\" class=\"data row4 col5\" >0.2454</td>\n",
       "                        <td id=\"T_a8b4e_row4_col6\" class=\"data row4 col6\" >0.2630</td>\n",
       "            </tr>\n",
       "            <tr>\n",
       "                        <th id=\"T_a8b4e_level0_row5\" class=\"row_heading level0 row5\" >5</th>\n",
       "                        <td id=\"T_a8b4e_row5_col0\" class=\"data row5 col0\" >0.5952</td>\n",
       "                        <td id=\"T_a8b4e_row5_col1\" class=\"data row5 col1\" >0.6981</td>\n",
       "                        <td id=\"T_a8b4e_row5_col2\" class=\"data row5 col2\" >0.4645</td>\n",
       "                        <td id=\"T_a8b4e_row5_col3\" class=\"data row5 col3\" >0.6074</td>\n",
       "                        <td id=\"T_a8b4e_row5_col4\" class=\"data row5 col4\" >0.5678</td>\n",
       "                        <td id=\"T_a8b4e_row5_col5\" class=\"data row5 col5\" >0.2448</td>\n",
       "                        <td id=\"T_a8b4e_row5_col6\" class=\"data row5 col6\" >0.2630</td>\n",
       "            </tr>\n",
       "            <tr>\n",
       "                        <th id=\"T_a8b4e_level0_row6\" class=\"row_heading level0 row6\" >6</th>\n",
       "                        <td id=\"T_a8b4e_row6_col0\" class=\"data row6 col0\" >0.5958</td>\n",
       "                        <td id=\"T_a8b4e_row6_col1\" class=\"data row6 col1\" >0.6994</td>\n",
       "                        <td id=\"T_a8b4e_row6_col2\" class=\"data row6 col2\" >0.4657</td>\n",
       "                        <td id=\"T_a8b4e_row6_col3\" class=\"data row6 col3\" >0.6135</td>\n",
       "                        <td id=\"T_a8b4e_row6_col4\" class=\"data row6 col4\" >0.5678</td>\n",
       "                        <td id=\"T_a8b4e_row6_col5\" class=\"data row6 col5\" >0.2448</td>\n",
       "                        <td id=\"T_a8b4e_row6_col6\" class=\"data row6 col6\" >0.2640</td>\n",
       "            </tr>\n",
       "            <tr>\n",
       "                        <th id=\"T_a8b4e_level0_row7\" class=\"row_heading level0 row7\" >7</th>\n",
       "                        <td id=\"T_a8b4e_row7_col0\" class=\"data row7 col0\" >0.5923</td>\n",
       "                        <td id=\"T_a8b4e_row7_col1\" class=\"data row7 col1\" >0.6958</td>\n",
       "                        <td id=\"T_a8b4e_row7_col2\" class=\"data row7 col2\" >0.4653</td>\n",
       "                        <td id=\"T_a8b4e_row7_col3\" class=\"data row7 col3\" >0.6078</td>\n",
       "                        <td id=\"T_a8b4e_row7_col4\" class=\"data row7 col4\" >0.5659</td>\n",
       "                        <td id=\"T_a8b4e_row7_col5\" class=\"data row7 col5\" >0.2398</td>\n",
       "                        <td id=\"T_a8b4e_row7_col6\" class=\"data row7 col6\" >0.2570</td>\n",
       "            </tr>\n",
       "            <tr>\n",
       "                        <th id=\"T_a8b4e_level0_row8\" class=\"row_heading level0 row8\" >8</th>\n",
       "                        <td id=\"T_a8b4e_row8_col0\" class=\"data row8 col0\" >0.5929</td>\n",
       "                        <td id=\"T_a8b4e_row8_col1\" class=\"data row8 col1\" >0.6973</td>\n",
       "                        <td id=\"T_a8b4e_row8_col2\" class=\"data row8 col2\" >0.4646</td>\n",
       "                        <td id=\"T_a8b4e_row8_col3\" class=\"data row8 col3\" >0.6065</td>\n",
       "                        <td id=\"T_a8b4e_row8_col4\" class=\"data row8 col4\" >0.5668</td>\n",
       "                        <td id=\"T_a8b4e_row8_col5\" class=\"data row8 col5\" >0.2413</td>\n",
       "                        <td id=\"T_a8b4e_row8_col6\" class=\"data row8 col6\" >0.2579</td>\n",
       "            </tr>\n",
       "            <tr>\n",
       "                        <th id=\"T_a8b4e_level0_row9\" class=\"row_heading level0 row9\" >9</th>\n",
       "                        <td id=\"T_a8b4e_row9_col0\" class=\"data row9 col0\" >0.5899</td>\n",
       "                        <td id=\"T_a8b4e_row9_col1\" class=\"data row9 col1\" >0.6909</td>\n",
       "                        <td id=\"T_a8b4e_row9_col2\" class=\"data row9 col2\" >0.4614</td>\n",
       "                        <td id=\"T_a8b4e_row9_col3\" class=\"data row9 col3\" >0.6029</td>\n",
       "                        <td id=\"T_a8b4e_row9_col4\" class=\"data row9 col4\" >0.5631</td>\n",
       "                        <td id=\"T_a8b4e_row9_col5\" class=\"data row9 col5\" >0.2353</td>\n",
       "                        <td id=\"T_a8b4e_row9_col6\" class=\"data row9 col6\" >0.2519</td>\n",
       "            </tr>\n",
       "            <tr>\n",
       "                        <th id=\"T_a8b4e_level0_row10\" class=\"row_heading level0 row10\" >Mean</th>\n",
       "                        <td id=\"T_a8b4e_row10_col0\" class=\"data row10 col0\" >0.5945</td>\n",
       "                        <td id=\"T_a8b4e_row10_col1\" class=\"data row10 col1\" >0.6969</td>\n",
       "                        <td id=\"T_a8b4e_row10_col2\" class=\"data row10 col2\" >0.4649</td>\n",
       "                        <td id=\"T_a8b4e_row10_col3\" class=\"data row10 col3\" >0.6093</td>\n",
       "                        <td id=\"T_a8b4e_row10_col4\" class=\"data row10 col4\" >0.5674</td>\n",
       "                        <td id=\"T_a8b4e_row10_col5\" class=\"data row10 col5\" >0.2434</td>\n",
       "                        <td id=\"T_a8b4e_row10_col6\" class=\"data row10 col6\" >0.2613</td>\n",
       "            </tr>\n",
       "            <tr>\n",
       "                        <th id=\"T_a8b4e_level0_row11\" class=\"row_heading level0 row11\" >SD</th>\n",
       "                        <td id=\"T_a8b4e_row11_col0\" class=\"data row11 col0\" >0.0021</td>\n",
       "                        <td id=\"T_a8b4e_row11_col1\" class=\"data row11 col1\" >0.0023</td>\n",
       "                        <td id=\"T_a8b4e_row11_col2\" class=\"data row11 col2\" >0.0017</td>\n",
       "                        <td id=\"T_a8b4e_row11_col3\" class=\"data row11 col3\" >0.0032</td>\n",
       "                        <td id=\"T_a8b4e_row11_col4\" class=\"data row11 col4\" >0.0020</td>\n",
       "                        <td id=\"T_a8b4e_row11_col5\" class=\"data row11 col5\" >0.0037</td>\n",
       "                        <td id=\"T_a8b4e_row11_col6\" class=\"data row11 col6\" >0.0042</td>\n",
       "            </tr>\n",
       "    </tbody></table>"
      ],
      "text/plain": [
       "<pandas.io.formats.style.Styler at 0x7fb60fa5d8b0>"
      ]
     },
     "metadata": {},
     "output_type": "display_data"
    },
    {
     "name": "stderr",
     "output_type": "stream",
     "text": [
      "/Library/Frameworks/Python.framework/Versions/3.9/lib/python3.9/site-packages/xgboost/sklearn.py:1146: UserWarning: The use of label encoder in XGBClassifier is deprecated and will be removed in a future release. To remove this warning, do the following: 1) Pass option use_label_encoder=False when constructing XGBClassifier object; and 2) Encode your labels (y) as integers starting with 0, i.e. 0, 1, 2, ..., [num_class - 1].\n",
      "  warnings.warn(label_encoder_deprecation_msg, UserWarning)\n",
      "/Library/Frameworks/Python.framework/Versions/3.9/lib/python3.9/site-packages/xgboost/sklearn.py:1146: UserWarning: The use of label encoder in XGBClassifier is deprecated and will be removed in a future release. To remove this warning, do the following: 1) Pass option use_label_encoder=False when constructing XGBClassifier object; and 2) Encode your labels (y) as integers starting with 0, i.e. 0, 1, 2, ..., [num_class - 1].\n",
      "  warnings.warn(label_encoder_deprecation_msg, UserWarning)\n",
      "/Library/Frameworks/Python.framework/Versions/3.9/lib/python3.9/site-packages/xgboost/sklearn.py:1146: UserWarning: The use of label encoder in XGBClassifier is deprecated and will be removed in a future release. To remove this warning, do the following: 1) Pass option use_label_encoder=False when constructing XGBClassifier object; and 2) Encode your labels (y) as integers starting with 0, i.e. 0, 1, 2, ..., [num_class - 1].\n",
      "  warnings.warn(label_encoder_deprecation_msg, UserWarning)\n",
      "/Library/Frameworks/Python.framework/Versions/3.9/lib/python3.9/site-packages/xgboost/sklearn.py:1146: UserWarning: The use of label encoder in XGBClassifier is deprecated and will be removed in a future release. To remove this warning, do the following: 1) Pass option use_label_encoder=False when constructing XGBClassifier object; and 2) Encode your labels (y) as integers starting with 0, i.e. 0, 1, 2, ..., [num_class - 1].\n",
      "  warnings.warn(label_encoder_deprecation_msg, UserWarning)\n",
      "/Library/Frameworks/Python.framework/Versions/3.9/lib/python3.9/site-packages/xgboost/sklearn.py:1146: UserWarning: The use of label encoder in XGBClassifier is deprecated and will be removed in a future release. To remove this warning, do the following: 1) Pass option use_label_encoder=False when constructing XGBClassifier object; and 2) Encode your labels (y) as integers starting with 0, i.e. 0, 1, 2, ..., [num_class - 1].\n",
      "  warnings.warn(label_encoder_deprecation_msg, UserWarning)\n",
      "/Library/Frameworks/Python.framework/Versions/3.9/lib/python3.9/site-packages/xgboost/sklearn.py:1146: UserWarning: The use of label encoder in XGBClassifier is deprecated and will be removed in a future release. To remove this warning, do the following: 1) Pass option use_label_encoder=False when constructing XGBClassifier object; and 2) Encode your labels (y) as integers starting with 0, i.e. 0, 1, 2, ..., [num_class - 1].\n",
      "  warnings.warn(label_encoder_deprecation_msg, UserWarning)\n",
      "/Library/Frameworks/Python.framework/Versions/3.9/lib/python3.9/site-packages/xgboost/sklearn.py:1146: UserWarning: The use of label encoder in XGBClassifier is deprecated and will be removed in a future release. To remove this warning, do the following: 1) Pass option use_label_encoder=False when constructing XGBClassifier object; and 2) Encode your labels (y) as integers starting with 0, i.e. 0, 1, 2, ..., [num_class - 1].\n",
      "  warnings.warn(label_encoder_deprecation_msg, UserWarning)\n",
      "/Library/Frameworks/Python.framework/Versions/3.9/lib/python3.9/site-packages/xgboost/sklearn.py:1146: UserWarning: The use of label encoder in XGBClassifier is deprecated and will be removed in a future release. To remove this warning, do the following: 1) Pass option use_label_encoder=False when constructing XGBClassifier object; and 2) Encode your labels (y) as integers starting with 0, i.e. 0, 1, 2, ..., [num_class - 1].\n",
      "  warnings.warn(label_encoder_deprecation_msg, UserWarning)\n",
      "/Library/Frameworks/Python.framework/Versions/3.9/lib/python3.9/site-packages/xgboost/sklearn.py:1146: UserWarning: The use of label encoder in XGBClassifier is deprecated and will be removed in a future release. To remove this warning, do the following: 1) Pass option use_label_encoder=False when constructing XGBClassifier object; and 2) Encode your labels (y) as integers starting with 0, i.e. 0, 1, 2, ..., [num_class - 1].\n",
      "  warnings.warn(label_encoder_deprecation_msg, UserWarning)\n",
      "/Library/Frameworks/Python.framework/Versions/3.9/lib/python3.9/site-packages/xgboost/sklearn.py:1146: UserWarning: The use of label encoder in XGBClassifier is deprecated and will be removed in a future release. To remove this warning, do the following: 1) Pass option use_label_encoder=False when constructing XGBClassifier object; and 2) Encode your labels (y) as integers starting with 0, i.e. 0, 1, 2, ..., [num_class - 1].\n",
      "  warnings.warn(label_encoder_deprecation_msg, UserWarning)\n"
     ]
    }
   ],
   "source": [
    "best_model = create_model(model_matrix)\n",
    "final_model = finalize_model(best_model)"
   ]
  },
  {
   "cell_type": "markdown",
   "id": "3aab9021-4462-423a-8e3c-fbe1f36c6110",
   "metadata": {},
   "source": [
    "### Let's load in our 2021 season data and get retention scores using the model:"
   ]
  },
  {
   "cell_type": "code",
   "execution_count": 9,
   "id": "c249a813-c882-4869-9490-6ab766a8c223",
   "metadata": {},
   "outputs": [
    {
     "data": {
      "text/plain": [
       "(62004, 45)"
      ]
     },
     "execution_count": 9,
     "metadata": {},
     "output_type": "execute_result"
    }
   ],
   "source": [
    "df_inference = df.loc[df[\"year\"] >= 2021]\n",
    "df_inference = df_inference.fillna(0)\n",
    "df_inference.shape"
   ]
  },
  {
   "cell_type": "code",
   "execution_count": 10,
   "id": "745b62fb-fb2e-4b4a-9c48-8ce4de472a83",
   "metadata": {},
   "outputs": [
    {
     "data": {
      "text/html": [
       "<div>\n",
       "<style scoped>\n",
       "    .dataframe tbody tr th:only-of-type {\n",
       "        vertical-align: middle;\n",
       "    }\n",
       "\n",
       "    .dataframe tbody tr th {\n",
       "        vertical-align: top;\n",
       "    }\n",
       "\n",
       "    .dataframe thead th {\n",
       "        text-align: right;\n",
       "    }\n",
       "</style>\n",
       "<table border=\"1\" class=\"dataframe\">\n",
       "  <thead>\n",
       "    <tr style=\"text-align: right;\">\n",
       "      <th></th>\n",
       "      <th>lkupClientId</th>\n",
       "      <th>dimCustomerMasterId</th>\n",
       "      <th>dimEventId</th>\n",
       "      <th>inMarket</th>\n",
       "      <th>customerNumber</th>\n",
       "      <th>year</th>\n",
       "      <th>productGrouping</th>\n",
       "      <th>Tier</th>\n",
       "      <th>totalSpent</th>\n",
       "      <th>recentDate</th>\n",
       "      <th>...</th>\n",
       "      <th>phonecall</th>\n",
       "      <th>text</th>\n",
       "      <th>unknown</th>\n",
       "      <th>credits_after_refund</th>\n",
       "      <th>NumberofGamesPerSeason</th>\n",
       "      <th>isNextGameBuyer</th>\n",
       "      <th>Label</th>\n",
       "      <th>Score_1</th>\n",
       "      <th>Score_2</th>\n",
       "      <th>Score_3</th>\n",
       "    </tr>\n",
       "  </thead>\n",
       "  <tbody>\n",
       "    <tr>\n",
       "      <th>534777</th>\n",
       "      <td>53</td>\n",
       "      <td>9</td>\n",
       "      <td>96</td>\n",
       "      <td>True</td>\n",
       "      <td>10212779</td>\n",
       "      <td>2021</td>\n",
       "      <td>Online Individual Game</td>\n",
       "      <td>2</td>\n",
       "      <td>230.0</td>\n",
       "      <td>2021-08-17</td>\n",
       "      <td>...</td>\n",
       "      <td>0</td>\n",
       "      <td>0</td>\n",
       "      <td>0</td>\n",
       "      <td>0.0</td>\n",
       "      <td>94</td>\n",
       "      <td>0</td>\n",
       "      <td>1</td>\n",
       "      <td>0.8312</td>\n",
       "      <td>0.1319</td>\n",
       "      <td>0.0368</td>\n",
       "    </tr>\n",
       "    <tr>\n",
       "      <th>534778</th>\n",
       "      <td>53</td>\n",
       "      <td>876</td>\n",
       "      <td>1278</td>\n",
       "      <td>False</td>\n",
       "      <td>26780186</td>\n",
       "      <td>2021</td>\n",
       "      <td>Online Individual Game</td>\n",
       "      <td>2</td>\n",
       "      <td>210.0</td>\n",
       "      <td>2021-07-04</td>\n",
       "      <td>...</td>\n",
       "      <td>0</td>\n",
       "      <td>0</td>\n",
       "      <td>0</td>\n",
       "      <td>0.0</td>\n",
       "      <td>94</td>\n",
       "      <td>0</td>\n",
       "      <td>1</td>\n",
       "      <td>0.8661</td>\n",
       "      <td>0.0873</td>\n",
       "      <td>0.0466</td>\n",
       "    </tr>\n",
       "    <tr>\n",
       "      <th>534779</th>\n",
       "      <td>53</td>\n",
       "      <td>1353</td>\n",
       "      <td>1255</td>\n",
       "      <td>False</td>\n",
       "      <td>25329442</td>\n",
       "      <td>2021</td>\n",
       "      <td>Other</td>\n",
       "      <td>2</td>\n",
       "      <td>8.0</td>\n",
       "      <td>1970-01-01</td>\n",
       "      <td>...</td>\n",
       "      <td>0</td>\n",
       "      <td>0</td>\n",
       "      <td>0</td>\n",
       "      <td>0.0</td>\n",
       "      <td>94</td>\n",
       "      <td>0</td>\n",
       "      <td>3</td>\n",
       "      <td>0.0193</td>\n",
       "      <td>0.2708</td>\n",
       "      <td>0.7099</td>\n",
       "    </tr>\n",
       "    <tr>\n",
       "      <th>534780</th>\n",
       "      <td>53</td>\n",
       "      <td>2586</td>\n",
       "      <td>102</td>\n",
       "      <td>False</td>\n",
       "      <td>13241926</td>\n",
       "      <td>2021</td>\n",
       "      <td>Online Individual Game</td>\n",
       "      <td>3</td>\n",
       "      <td>280.0</td>\n",
       "      <td>2021-08-18</td>\n",
       "      <td>...</td>\n",
       "      <td>0</td>\n",
       "      <td>0</td>\n",
       "      <td>0</td>\n",
       "      <td>0.0</td>\n",
       "      <td>94</td>\n",
       "      <td>0</td>\n",
       "      <td>3</td>\n",
       "      <td>0.2000</td>\n",
       "      <td>0.3593</td>\n",
       "      <td>0.4407</td>\n",
       "    </tr>\n",
       "    <tr>\n",
       "      <th>534781</th>\n",
       "      <td>53</td>\n",
       "      <td>4669</td>\n",
       "      <td>96</td>\n",
       "      <td>True</td>\n",
       "      <td>23839189</td>\n",
       "      <td>2021</td>\n",
       "      <td>Online Individual Game</td>\n",
       "      <td>2</td>\n",
       "      <td>0.0</td>\n",
       "      <td>1970-01-01</td>\n",
       "      <td>...</td>\n",
       "      <td>0</td>\n",
       "      <td>0</td>\n",
       "      <td>0</td>\n",
       "      <td>0.0</td>\n",
       "      <td>94</td>\n",
       "      <td>0</td>\n",
       "      <td>3</td>\n",
       "      <td>0.0673</td>\n",
       "      <td>0.4176</td>\n",
       "      <td>0.5151</td>\n",
       "    </tr>\n",
       "  </tbody>\n",
       "</table>\n",
       "<p>5 rows × 49 columns</p>\n",
       "</div>"
      ],
      "text/plain": [
       "        lkupClientId  dimCustomerMasterId  dimEventId  inMarket  \\\n",
       "534777            53                    9          96      True   \n",
       "534778            53                  876        1278     False   \n",
       "534779            53                 1353        1255     False   \n",
       "534780            53                 2586         102     False   \n",
       "534781            53                 4669          96      True   \n",
       "\n",
       "       customerNumber  year         productGrouping  Tier  totalSpent  \\\n",
       "534777       10212779  2021  Online Individual Game     2       230.0   \n",
       "534778       26780186  2021  Online Individual Game     2       210.0   \n",
       "534779       25329442  2021                   Other     2         8.0   \n",
       "534780       13241926  2021  Online Individual Game     3       280.0   \n",
       "534781       23839189  2021  Online Individual Game     2         0.0   \n",
       "\n",
       "        recentDate  ...  phonecall  text unknown  credits_after_refund  \\\n",
       "534777  2021-08-17  ...          0     0       0                   0.0   \n",
       "534778  2021-07-04  ...          0     0       0                   0.0   \n",
       "534779  1970-01-01  ...          0     0       0                   0.0   \n",
       "534780  2021-08-18  ...          0     0       0                   0.0   \n",
       "534781  1970-01-01  ...          0     0       0                   0.0   \n",
       "\n",
       "        NumberofGamesPerSeason  isNextGameBuyer  Label  Score_1  Score_2  \\\n",
       "534777                      94                0      1   0.8312   0.1319   \n",
       "534778                      94                0      1   0.8661   0.0873   \n",
       "534779                      94                0      3   0.0193   0.2708   \n",
       "534780                      94                0      3   0.2000   0.3593   \n",
       "534781                      94                0      3   0.0673   0.4176   \n",
       "\n",
       "        Score_3  \n",
       "534777   0.0368  \n",
       "534778   0.0466  \n",
       "534779   0.7099  \n",
       "534780   0.4407  \n",
       "534781   0.5151  \n",
       "\n",
       "[5 rows x 49 columns]"
      ]
     },
     "execution_count": 10,
     "metadata": {},
     "output_type": "execute_result"
    }
   ],
   "source": [
    "new_predictions = predict_model(final_model, data=df_inference, raw_score=True)\n",
    "new_predictions.head()"
   ]
  },
  {
   "cell_type": "code",
   "execution_count": 11,
   "id": "c98d3de4-966c-4d4a-af8f-e4a2d78eed38",
   "metadata": {},
   "outputs": [
    {
     "data": {
      "text/plain": [
       "2    30993\n",
       "1    16748\n",
       "3    14263\n",
       "Name: Label, dtype: int64"
      ]
     },
     "execution_count": 11,
     "metadata": {},
     "output_type": "execute_result"
    }
   ],
   "source": [
    "new_predictions[\"Label\"].value_counts()"
   ]
  },
  {
   "cell_type": "code",
   "execution_count": 12,
   "id": "95e96920-bc9c-4b50-837c-89e392d13449",
   "metadata": {},
   "outputs": [
    {
     "data": {
      "text/plain": [
       "(-0.001, 0.2]    34223\n",
       "(0.2, 0.4]        9237\n",
       "(0.4, 0.6]        7714\n",
       "(0.6, 0.8]        5999\n",
       "(0.8, 1.0]        4831\n",
       "Name: Score_1, dtype: int64"
      ]
     },
     "execution_count": 12,
     "metadata": {},
     "output_type": "execute_result"
    }
   ],
   "source": [
    "new_predictions[\"Score_1\"].value_counts(bins=[0, 0.2, 0.4, 0.6, 0.8, 1.0])"
   ]
  },
  {
   "cell_type": "code",
   "execution_count": 13,
   "id": "3b4b1d51-1c33-489a-95f6-ab75e428c760",
   "metadata": {},
   "outputs": [
    {
     "data": {
      "text/plain": [
       "array([[<AxesSubplot:title={'center':'Score_1'}>]], dtype=object)"
      ]
     },
     "execution_count": 13,
     "metadata": {},
     "output_type": "execute_result"
    },
    {
     "data": {
      "image/png": "[encoded data removed]",
      "text/plain": [
       "<Figure size 720x360 with 1 Axes>"
      ]
     },
     "metadata": {
      "needs_background": "light"
     },
     "output_type": "display_data"
    }
   ],
   "source": [
    "new_predictions[new_predictions[\"Label\"]==1][[\"Score_1\"]].hist(bins=30, figsize=(10,5), range=[0,1])"
   ]
  },
  {
   "cell_type": "code",
   "execution_count": 14,
   "id": "144bd27b-9798-4f8b-a3a3-95298d8e2c01",
   "metadata": {},
   "outputs": [
    {
     "data": {
      "image/png": "[encoded data removed]",
      "text/plain": [
       "<Figure size 800x500 with 1 Axes>"
      ]
     },
     "metadata": {},
     "output_type": "display_data"
    }
   ],
   "source": [
    "plot_model(best_model, plot='feature')"
   ]
  },
  {
   "cell_type": "code",
   "execution_count": 15,
   "id": "79e34840-9a47-486f-a648-6d5d16d73b89",
   "metadata": {},
   "outputs": [
    {
     "data": {
      "image/png": "[encoded data removed]",
      "text/plain": [
       "<Figure size 576x396 with 1 Axes>"
      ]
     },
     "metadata": {},
     "output_type": "display_data"
    }
   ],
   "source": [
    "plot_model(best_model, plot='confusion_matrix')"
   ]
  },
  {
   "cell_type": "markdown",
   "id": "a439108b-7911-4384-b089-f7b31c825192",
   "metadata": {},
   "source": [
    "## Observations\n",
    "Here you can document some ideas on the results from above\n",
    "\n",
    "* The distribtution looks normal (as expected)\n",
    "* Ticketing data is still the first 4 features\n",
    "* Makerketing data follows up at the next 4 features\n",
    "* The model makes a lot more predictions of customers who won't buy"
   ]
  },
  {
   "cell_type": "markdown",
   "id": "d2de91b5-a1e8-42a5-a087-8c31ff2e1db3",
   "metadata": {},
   "source": [
    "## Conclusions\n",
    "Here you can talk about next steps, did the experiment work? If yes, what to do next? If no, why?\n",
    "\n",
    "* We should ask CS/CI what they think the most significant factor towards a next game buyer is."
   ]
  },
  {
   "cell_type": "code",
   "execution_count": null,
   "id": "c1c6f293-c82c-4312-a374-1a530750ed52",
   "metadata": {},
   "outputs": [],
   "source": []
  }
 ],
 "metadata": {
  "kernelspec": {
   "display_name": "Python 3 (ipykernel)",
   "language": "python",
   "name": "python3"
  },
  "language_info": {
   "codemirror_mode": {
    "name": "ipython",
    "version": 3
   },
   "file_extension": ".py",
   "mimetype": "text/x-python",
   "name": "python",
   "nbconvert_exporter": "python",
   "pygments_lexer": "ipython3",
   "version": "3.9.4"
  }
 },
 "nbformat": 4,
 "nbformat_minor": 5
}
