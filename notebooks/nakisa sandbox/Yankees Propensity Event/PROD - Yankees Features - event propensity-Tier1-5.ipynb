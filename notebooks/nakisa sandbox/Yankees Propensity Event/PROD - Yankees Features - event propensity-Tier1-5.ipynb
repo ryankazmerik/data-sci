{
 "cells": [
  {
   "cell_type": "markdown",
   "id": "6ee08766-25fd-4da1-91b8-b0c3e74db588",
   "metadata": {},
   "source": [
    "# Yankees - Propensity Event- Tier 1 to 5\n",
    "* StelllarAlgo Data Science\n",
    "* Ryan Kazmerik & Nakisa Rad\n",
    "* Feb 01, 2022"
   ]
  },
  {
   "cell_type": "markdown",
   "id": "39108c8d-2e9f-4759-ade2-83071038dc56",
   "metadata": {},
   "source": [
    "## Hypothesis\n"
   ]
  },
  {
   "cell_type": "markdown",
   "id": "28142011-1f32-4cc7-816b-a6dae6f70c8c",
   "metadata": {},
   "source": [
    "## Experiment\n",
    "This section details our experiment including querying data, data transformations, feature selection and modelling."
   ]
  },
  {
   "cell_type": "code",
   "execution_count": 1,
   "id": "4c533efd-600e-4bce-8203-faffbddfa700",
   "metadata": {},
   "outputs": [],
   "source": [
    "import getpass\n",
    "import pyodbc\n",
    "import pandas as pd\n",
    "import warnings\n",
    "import matplotlib.pyplot as plt\n",
    "\n",
    "from pycaret.classification import *\n",
    "\n",
    "warnings.filterwarnings('ignore')"
   ]
  },
  {
   "cell_type": "markdown",
   "id": "b64ae7d5-84af-4915-bd13-1dd9d17098a3",
   "metadata": {},
   "source": [
    "### Let's connect to MSSQL and run a stored proc to get our dataset:"
   ]
  },
  {
   "cell_type": "code",
   "execution_count": 2,
   "id": "ae561eb4-f419-4d46-b5e0-12fac9b10db8",
   "metadata": {},
   "outputs": [],
   "source": [
    "# connect to SQL Server.\n",
    "SERVER = '54.164.224.129'  \n",
    "DATABASE = 'stlrRays' \n",
    "USERNAME = 'nrad' \n",
    "PASSWORD = 'Y34@PSc^n@JAG=4%p8194'#getpass.getpass(prompt='Enter your password')\n",
    "CNXN = pyodbc.connect('DRIVER={ODBC Driver 17 for SQL Server};SERVER='+SERVER+';DATABASE='+DATABASE+';UID='+USERNAME+';PWD='+ PASSWORD)"
   ]
  },
  {
   "cell_type": "code",
   "execution_count": 3,
   "id": "af1afe7d-a35b-494b-88f3-980fb0e3da30",
   "metadata": {},
   "outputs": [
    {
     "data": {
      "text/plain": [
       "(1065064, 46)"
      ]
     },
     "execution_count": 3,
     "metadata": {},
     "output_type": "execute_result"
    }
   ],
   "source": [
    "lkupclientid = 53 # Yankees\n",
    "\n",
    "cursor = CNXN.cursor()\n",
    "\n",
    "storedProc = (\n",
    "    f\"\"\"Exec [stlrYankees].[ds].[getPropensityEventScoring] {lkupclientid}\"\"\"\n",
    ")\n",
    "\n",
    "df = pd.read_sql(storedProc, CNXN)\n",
    "\n",
    "# apply some data transformations\n",
    "df[\"year\"] = pd.to_numeric(df[\"year\"]) \n",
    "\n",
    "CNXN.commit()\n",
    "cursor.close()\n",
    "\n",
    "df.shape"
   ]
  },
  {
   "cell_type": "code",
   "execution_count": 4,
   "id": "11e97dcc-c69e-46c1-8dad-33f6291cb0c6",
   "metadata": {},
   "outputs": [
    {
     "name": "stdout",
     "output_type": "stream",
     "text": [
      "<class 'pandas.core.frame.DataFrame'>\n",
      "RangeIndex: 1065064 entries, 0 to 1065063\n",
      "Data columns (total 46 columns):\n",
      " #   Column                  Non-Null Count    Dtype  \n",
      "---  ------                  --------------    -----  \n",
      " 0   lkupClientId            1065064 non-null  int64  \n",
      " 1   dimCustomerMasterId     1065064 non-null  int64  \n",
      " 2   dimEventId              1065064 non-null  int64  \n",
      " 3   inMarket                1065064 non-null  int64  \n",
      " 4   customerNumber          1065064 non-null  object \n",
      " 5   year                    1065064 non-null  int64  \n",
      " 6   productGrouping         1065064 non-null  object \n",
      " 7   Tier                    1065064 non-null  int64  \n",
      " 8   eventDay                1065064 non-null  int64  \n",
      " 9   totalSpent              1065064 non-null  float64\n",
      " 10  recentDate              1065064 non-null  object \n",
      " 11  attendancePercent       1065064 non-null  float64\n",
      " 12  renewedBeforeDays       1065064 non-null  int64  \n",
      " 13  isBuyer                 1065064 non-null  object \n",
      " 14  source_tenure           1065064 non-null  int64  \n",
      " 15  tenure                  1065064 non-null  int64  \n",
      " 16  distToVenue             1065064 non-null  float64\n",
      " 17  totalGames              1065064 non-null  int64  \n",
      " 18  recency                 1065064 non-null  int64  \n",
      " 19  click_link              1065064 non-null  int64  \n",
      " 20  fill_out_form           1065064 non-null  int64  \n",
      " 21  open_email              1065064 non-null  int64  \n",
      " 22  send_email              1065064 non-null  int64  \n",
      " 23  unsubscribe_email       1065064 non-null  int64  \n",
      " 24  openToSendRatio         1065064 non-null  float64\n",
      " 25  clickToSendRatio        1065064 non-null  float64\n",
      " 26  clickToOpenRatio        1065064 non-null  float64\n",
      " 27  posting_records         1065064 non-null  int64  \n",
      " 28  resale_records          1065064 non-null  int64  \n",
      " 29  resale_atp              1065064 non-null  float64\n",
      " 30  forward_records         1065064 non-null  int64  \n",
      " 31  cancel_records          1065064 non-null  int64  \n",
      " 32  email                   1065064 non-null  int64  \n",
      " 33  inbound_email           1065064 non-null  int64  \n",
      " 34  inbound_phonecall       1065064 non-null  int64  \n",
      " 35  inperson_contact        1065064 non-null  int64  \n",
      " 36  internal_note           1065064 non-null  int64  \n",
      " 37  left_message            1065064 non-null  int64  \n",
      " 38  outbound_email          1065064 non-null  int64  \n",
      " 39  outbound_phonecall      1065064 non-null  int64  \n",
      " 40  phonecall               1065064 non-null  int64  \n",
      " 41  text                    1065064 non-null  int64  \n",
      " 42  unknown                 1065064 non-null  int64  \n",
      " 43  credits_after_refund    1065064 non-null  float64\n",
      " 44  NumberofGamesPerSeason  1065064 non-null  int64  \n",
      " 45  isNextGameBuyer         1065064 non-null  int64  \n",
      "dtypes: float64(8), int64(34), object(4)\n",
      "memory usage: 373.8+ MB\n"
     ]
    }
   ],
   "source": [
    "df.info()"
   ]
  },
  {
   "cell_type": "markdown",
   "id": "ab40da92-72a7-49c1-9829-ed3805a39719",
   "metadata": {},
   "source": [
    "### We should specify the features used in our model:"
   ]
  },
  {
   "cell_type": "code",
   "execution_count": 9,
   "id": "788f1273-8b7a-46bd-a099-1a471feeacc5",
   "metadata": {},
   "outputs": [
    {
     "name": "stdout",
     "output_type": "stream",
     "text": [
      "Data for Modeling: (755505, 19)\n",
      "Unseen Data For Predictions: (133324, 19)\n",
      "\n"
     ]
    }
   ],
   "source": [
    "# choose the features for the stellar base retention model\n",
    "features = [\"dimCustomerMasterId\",\n",
    "        \"inMarket\",\n",
    "        \"attendancePercent\",\n",
    "        \"renewedBeforeDays\",\n",
    "        \"source_tenure\",\n",
    "        \"tenure\",\n",
    "        \"distToVenue\",\n",
    "        \"totalGames\",\n",
    "        \"recency\",\n",
    "        \"click_link\",\n",
    "        \"fill_out_form\",\n",
    "        \"open_email\" ,\n",
    "        \"send_email\",\n",
    "        \"unsubscribe_email\",\n",
    "        \"openToSendRatio\",\n",
    "        \"clickToSendRatio\",\n",
    "        \"clickToOpenRatio\",\n",
    "        \"Tier\",\n",
    "        \"year\"\n",
    "]\n",
    "\n",
    "# copy your main dataframe\n",
    "df_dataset = df\n",
    "\n",
    "# choose the features & train year & test year\n",
    "df_dataset = df_dataset[features]\n",
    "df_dataset[\"year\"] = pd.to_numeric(df_dataset[\"year\"])\n",
    "df_dataset = df_dataset.loc[df_dataset[\"year\"] <= 2019]\n",
    "#df_dataset = df_dataset[df_dataset[\"Tier\"] == {1,2,3} ]\n",
    "\n",
    "df_train = df_dataset.sample(frac=0.85, random_state=786)\n",
    "df_eval = df_dataset.drop(df_train.index)\n",
    "\n",
    "df_train.reset_index(drop=True, inplace=True)\n",
    "df_eval.reset_index(drop=True, inplace=True)\n",
    "\n",
    "# print out the number of records for training and eval\n",
    "print('Data for Modeling: ' + str(df_train.shape))\n",
    "print('Unseen Data For Predictions: ' + str(df_eval.shape), end=\"\\n\\n\")"
   ]
  },
  {
   "cell_type": "markdown",
   "id": "4f2da06d-9015-49fd-89b3-956c2ebf66e9",
   "metadata": {},
   "source": [
    "### Now we can model the data using a binary classification prediction for the isnextyear_buyer field to see how likely a customer is to re-purchase."
   ]
  },
  {
   "cell_type": "code",
   "execution_count": 10,
   "id": "23a69cdc-b3ec-48c8-9ce5-29f617779389",
   "metadata": {},
   "outputs": [],
   "source": [
    "setup(\n",
    "    data= df_train, \n",
    "    target=\"Tier\", \n",
    "    train_size = 0.80,\n",
    "    data_split_shuffle=True,\n",
    "    ignore_features=[\"dimCustomerMasterId\",\"year\"],\n",
    "    silent=True,\n",
    "    verbose=False,\n",
    "    numeric_features=[\"inMarket\",\n",
    "        \"attendancePercent\",\n",
    "        \"renewedBeforeDays\",\n",
    "        \"source_tenure\",\n",
    "        \"tenure\",\n",
    "        \"distToVenue\",\n",
    "        \"totalGames\",\n",
    "        \"recency\",\n",
    "        \"click_link\",\n",
    "        \"fill_out_form\",\n",
    "        \"open_email\" ,\n",
    "        \"send_email\",\n",
    "        \"unsubscribe_email\",\n",
    "        \"openToSendRatio\",\n",
    "        \"clickToSendRatio\",\n",
    "        \"clickToOpenRatio\"\n",
    "    ]\n",
    ");"
   ]
  },
  {
   "cell_type": "code",
   "execution_count": 11,
   "id": "ef2db9d2-02c2-45c0-b6bb-5cad42c373ce",
   "metadata": {},
   "outputs": [
    {
     "data": {
      "text/html": [
       "<style  type=\"text/css\" >\n",
       "    #T_4371a_ th {\n",
       "          text-align: left;\n",
       "    }#T_4371a_row0_col0{\n",
       "            text-align:  left;\n",
       "            text-align:  left;\n",
       "        }#T_4371a_row0_col1,#T_4371a_row0_col2,#T_4371a_row0_col3,#T_4371a_row0_col4,#T_4371a_row0_col5,#T_4371a_row0_col6,#T_4371a_row0_col7{\n",
       "            text-align:  left;\n",
       "            text-align:  left;\n",
       "            background-color:  yellow;\n",
       "        }#T_4371a_row0_col8{\n",
       "            text-align:  left;\n",
       "            text-align:  left;\n",
       "            background-color:  yellow;\n",
       "            background-color:  lightgrey;\n",
       "        }</style><table id=\"T_4371a_\" ><thead>    <tr>        <th class=\"blank level0\" ></th>        <th class=\"col_heading level0 col0\" >Model</th>        <th class=\"col_heading level0 col1\" >Accuracy</th>        <th class=\"col_heading level0 col2\" >AUC</th>        <th class=\"col_heading level0 col3\" >Recall</th>        <th class=\"col_heading level0 col4\" >Prec.</th>        <th class=\"col_heading level0 col5\" >F1</th>        <th class=\"col_heading level0 col6\" >Kappa</th>        <th class=\"col_heading level0 col7\" >MCC</th>        <th class=\"col_heading level0 col8\" >TT (Sec)</th>    </tr></thead><tbody>\n",
       "                <tr>\n",
       "                        <th id=\"T_4371a_level0_row0\" class=\"row_heading level0 row0\" >xgboost</th>\n",
       "                        <td id=\"T_4371a_row0_col0\" class=\"data row0 col0\" >Extreme Gradient Boosting</td>\n",
       "                        <td id=\"T_4371a_row0_col1\" class=\"data row0 col1\" >0.4537</td>\n",
       "                        <td id=\"T_4371a_row0_col2\" class=\"data row0 col2\" >0.7082</td>\n",
       "                        <td id=\"T_4371a_row0_col3\" class=\"data row0 col3\" >0.3580</td>\n",
       "                        <td id=\"T_4371a_row0_col4\" class=\"data row0 col4\" >0.4854</td>\n",
       "                        <td id=\"T_4371a_row0_col5\" class=\"data row0 col5\" >0.4282</td>\n",
       "                        <td id=\"T_4371a_row0_col6\" class=\"data row0 col6\" >0.2406</td>\n",
       "                        <td id=\"T_4371a_row0_col7\" class=\"data row0 col7\" >0.2541</td>\n",
       "                        <td id=\"T_4371a_row0_col8\" class=\"data row0 col8\" >113.8090</td>\n",
       "            </tr>\n",
       "    </tbody></table>"
      ],
      "text/plain": [
       "<pandas.io.formats.style.Styler at 0x7fc096f59d60>"
      ]
     },
     "metadata": {},
     "output_type": "display_data"
    }
   ],
   "source": [
    "model_matrix = compare_models(\n",
    "    fold=10,\n",
    "    include=[\"xgboost\"]\n",
    ")"
   ]
  },
  {
   "cell_type": "code",
   "execution_count": 12,
   "id": "d9f030ed-4b6a-4a87-a01e-129dc49e0d4a",
   "metadata": {},
   "outputs": [
    {
     "data": {
      "text/html": [
       "<style  type=\"text/css\" >\n",
       "#T_6e554_row10_col0,#T_6e554_row10_col1,#T_6e554_row10_col2,#T_6e554_row10_col3,#T_6e554_row10_col4,#T_6e554_row10_col5,#T_6e554_row10_col6{\n",
       "            background:  yellow;\n",
       "        }</style><table id=\"T_6e554_\" ><thead>    <tr>        <th class=\"blank level0\" ></th>        <th class=\"col_heading level0 col0\" >Accuracy</th>        <th class=\"col_heading level0 col1\" >AUC</th>        <th class=\"col_heading level0 col2\" >Recall</th>        <th class=\"col_heading level0 col3\" >Prec.</th>        <th class=\"col_heading level0 col4\" >F1</th>        <th class=\"col_heading level0 col5\" >Kappa</th>        <th class=\"col_heading level0 col6\" >MCC</th>    </tr></thead><tbody>\n",
       "                <tr>\n",
       "                        <th id=\"T_6e554_level0_row0\" class=\"row_heading level0 row0\" >0</th>\n",
       "                        <td id=\"T_6e554_row0_col0\" class=\"data row0 col0\" >0.4529</td>\n",
       "                        <td id=\"T_6e554_row0_col1\" class=\"data row0 col1\" >0.7085</td>\n",
       "                        <td id=\"T_6e554_row0_col2\" class=\"data row0 col2\" >0.3572</td>\n",
       "                        <td id=\"T_6e554_row0_col3\" class=\"data row0 col3\" >0.4833</td>\n",
       "                        <td id=\"T_6e554_row0_col4\" class=\"data row0 col4\" >0.4272</td>\n",
       "                        <td id=\"T_6e554_row0_col5\" class=\"data row0 col5\" >0.2395</td>\n",
       "                        <td id=\"T_6e554_row0_col6\" class=\"data row0 col6\" >0.2527</td>\n",
       "            </tr>\n",
       "            <tr>\n",
       "                        <th id=\"T_6e554_level0_row1\" class=\"row_heading level0 row1\" >1</th>\n",
       "                        <td id=\"T_6e554_row1_col0\" class=\"data row1 col0\" >0.4520</td>\n",
       "                        <td id=\"T_6e554_row1_col1\" class=\"data row1 col1\" >0.7086</td>\n",
       "                        <td id=\"T_6e554_row1_col2\" class=\"data row1 col2\" >0.3565</td>\n",
       "                        <td id=\"T_6e554_row1_col3\" class=\"data row1 col3\" >0.4850</td>\n",
       "                        <td id=\"T_6e554_row1_col4\" class=\"data row1 col4\" >0.4260</td>\n",
       "                        <td id=\"T_6e554_row1_col5\" class=\"data row1 col5\" >0.2378</td>\n",
       "                        <td id=\"T_6e554_row1_col6\" class=\"data row1 col6\" >0.2520</td>\n",
       "            </tr>\n",
       "            <tr>\n",
       "                        <th id=\"T_6e554_level0_row2\" class=\"row_heading level0 row2\" >2</th>\n",
       "                        <td id=\"T_6e554_row2_col0\" class=\"data row2 col0\" >0.4550</td>\n",
       "                        <td id=\"T_6e554_row2_col1\" class=\"data row2 col1\" >0.7086</td>\n",
       "                        <td id=\"T_6e554_row2_col2\" class=\"data row2 col2\" >0.3573</td>\n",
       "                        <td id=\"T_6e554_row2_col3\" class=\"data row2 col3\" >0.4847</td>\n",
       "                        <td id=\"T_6e554_row2_col4\" class=\"data row2 col4\" >0.4291</td>\n",
       "                        <td id=\"T_6e554_row2_col5\" class=\"data row2 col5\" >0.2423</td>\n",
       "                        <td id=\"T_6e554_row2_col6\" class=\"data row2 col6\" >0.2555</td>\n",
       "            </tr>\n",
       "            <tr>\n",
       "                        <th id=\"T_6e554_level0_row3\" class=\"row_heading level0 row3\" >3</th>\n",
       "                        <td id=\"T_6e554_row3_col0\" class=\"data row3 col0\" >0.4529</td>\n",
       "                        <td id=\"T_6e554_row3_col1\" class=\"data row3 col1\" >0.7060</td>\n",
       "                        <td id=\"T_6e554_row3_col2\" class=\"data row3 col2\" >0.3567</td>\n",
       "                        <td id=\"T_6e554_row3_col3\" class=\"data row3 col3\" >0.4860</td>\n",
       "                        <td id=\"T_6e554_row3_col4\" class=\"data row3 col4\" >0.4269</td>\n",
       "                        <td id=\"T_6e554_row3_col5\" class=\"data row3 col5\" >0.2390</td>\n",
       "                        <td id=\"T_6e554_row3_col6\" class=\"data row3 col6\" >0.2526</td>\n",
       "            </tr>\n",
       "            <tr>\n",
       "                        <th id=\"T_6e554_level0_row4\" class=\"row_heading level0 row4\" >4</th>\n",
       "                        <td id=\"T_6e554_row4_col0\" class=\"data row4 col0\" >0.4525</td>\n",
       "                        <td id=\"T_6e554_row4_col1\" class=\"data row4 col1\" >0.7064</td>\n",
       "                        <td id=\"T_6e554_row4_col2\" class=\"data row4 col2\" >0.3568</td>\n",
       "                        <td id=\"T_6e554_row4_col3\" class=\"data row4 col3\" >0.4858</td>\n",
       "                        <td id=\"T_6e554_row4_col4\" class=\"data row4 col4\" >0.4265</td>\n",
       "                        <td id=\"T_6e554_row4_col5\" class=\"data row4 col5\" >0.2386</td>\n",
       "                        <td id=\"T_6e554_row4_col6\" class=\"data row4 col6\" >0.2524</td>\n",
       "            </tr>\n",
       "            <tr>\n",
       "                        <th id=\"T_6e554_level0_row5\" class=\"row_heading level0 row5\" >5</th>\n",
       "                        <td id=\"T_6e554_row5_col0\" class=\"data row5 col0\" >0.4557</td>\n",
       "                        <td id=\"T_6e554_row5_col1\" class=\"data row5 col1\" >0.7098</td>\n",
       "                        <td id=\"T_6e554_row5_col2\" class=\"data row5 col2\" >0.3597</td>\n",
       "                        <td id=\"T_6e554_row5_col3\" class=\"data row5 col3\" >0.4879</td>\n",
       "                        <td id=\"T_6e554_row5_col4\" class=\"data row5 col4\" >0.4308</td>\n",
       "                        <td id=\"T_6e554_row5_col5\" class=\"data row5 col5\" >0.2435</td>\n",
       "                        <td id=\"T_6e554_row5_col6\" class=\"data row5 col6\" >0.2572</td>\n",
       "            </tr>\n",
       "            <tr>\n",
       "                        <th id=\"T_6e554_level0_row6\" class=\"row_heading level0 row6\" >6</th>\n",
       "                        <td id=\"T_6e554_row6_col0\" class=\"data row6 col0\" >0.4520</td>\n",
       "                        <td id=\"T_6e554_row6_col1\" class=\"data row6 col1\" >0.7085</td>\n",
       "                        <td id=\"T_6e554_row6_col2\" class=\"data row6 col2\" >0.3565</td>\n",
       "                        <td id=\"T_6e554_row6_col3\" class=\"data row6 col3\" >0.4833</td>\n",
       "                        <td id=\"T_6e554_row6_col4\" class=\"data row6 col4\" >0.4257</td>\n",
       "                        <td id=\"T_6e554_row6_col5\" class=\"data row6 col5\" >0.2379</td>\n",
       "                        <td id=\"T_6e554_row6_col6\" class=\"data row6 col6\" >0.2514</td>\n",
       "            </tr>\n",
       "            <tr>\n",
       "                        <th id=\"T_6e554_level0_row7\" class=\"row_heading level0 row7\" >7</th>\n",
       "                        <td id=\"T_6e554_row7_col0\" class=\"data row7 col0\" >0.4555</td>\n",
       "                        <td id=\"T_6e554_row7_col1\" class=\"data row7 col1\" >0.7086</td>\n",
       "                        <td id=\"T_6e554_row7_col2\" class=\"data row7 col2\" >0.3598</td>\n",
       "                        <td id=\"T_6e554_row7_col3\" class=\"data row7 col3\" >0.4860</td>\n",
       "                        <td id=\"T_6e554_row7_col4\" class=\"data row7 col4\" >0.4305</td>\n",
       "                        <td id=\"T_6e554_row7_col5\" class=\"data row7 col5\" >0.2432</td>\n",
       "                        <td id=\"T_6e554_row7_col6\" class=\"data row7 col6\" >0.2566</td>\n",
       "            </tr>\n",
       "            <tr>\n",
       "                        <th id=\"T_6e554_level0_row8\" class=\"row_heading level0 row8\" >8</th>\n",
       "                        <td id=\"T_6e554_row8_col0\" class=\"data row8 col0\" >0.4538</td>\n",
       "                        <td id=\"T_6e554_row8_col1\" class=\"data row8 col1\" >0.7084</td>\n",
       "                        <td id=\"T_6e554_row8_col2\" class=\"data row8 col2\" >0.3598</td>\n",
       "                        <td id=\"T_6e554_row8_col3\" class=\"data row8 col3\" >0.4861</td>\n",
       "                        <td id=\"T_6e554_row8_col4\" class=\"data row8 col4\" >0.4287</td>\n",
       "                        <td id=\"T_6e554_row8_col5\" class=\"data row8 col5\" >0.2408</td>\n",
       "                        <td id=\"T_6e554_row8_col6\" class=\"data row8 col6\" >0.2543</td>\n",
       "            </tr>\n",
       "            <tr>\n",
       "                        <th id=\"T_6e554_level0_row9\" class=\"row_heading level0 row9\" >9</th>\n",
       "                        <td id=\"T_6e554_row9_col0\" class=\"data row9 col0\" >0.4553</td>\n",
       "                        <td id=\"T_6e554_row9_col1\" class=\"data row9 col1\" >0.7089</td>\n",
       "                        <td id=\"T_6e554_row9_col2\" class=\"data row9 col2\" >0.3601</td>\n",
       "                        <td id=\"T_6e554_row9_col3\" class=\"data row9 col3\" >0.4857</td>\n",
       "                        <td id=\"T_6e554_row9_col4\" class=\"data row9 col4\" >0.4302</td>\n",
       "                        <td id=\"T_6e554_row9_col5\" class=\"data row9 col5\" >0.2430</td>\n",
       "                        <td id=\"T_6e554_row9_col6\" class=\"data row9 col6\" >0.2562</td>\n",
       "            </tr>\n",
       "            <tr>\n",
       "                        <th id=\"T_6e554_level0_row10\" class=\"row_heading level0 row10\" >Mean</th>\n",
       "                        <td id=\"T_6e554_row10_col0\" class=\"data row10 col0\" >0.4537</td>\n",
       "                        <td id=\"T_6e554_row10_col1\" class=\"data row10 col1\" >0.7082</td>\n",
       "                        <td id=\"T_6e554_row10_col2\" class=\"data row10 col2\" >0.3580</td>\n",
       "                        <td id=\"T_6e554_row10_col3\" class=\"data row10 col3\" >0.4854</td>\n",
       "                        <td id=\"T_6e554_row10_col4\" class=\"data row10 col4\" >0.4282</td>\n",
       "                        <td id=\"T_6e554_row10_col5\" class=\"data row10 col5\" >0.2406</td>\n",
       "                        <td id=\"T_6e554_row10_col6\" class=\"data row10 col6\" >0.2541</td>\n",
       "            </tr>\n",
       "            <tr>\n",
       "                        <th id=\"T_6e554_level0_row11\" class=\"row_heading level0 row11\" >SD</th>\n",
       "                        <td id=\"T_6e554_row11_col0\" class=\"data row11 col0\" >0.0014</td>\n",
       "                        <td id=\"T_6e554_row11_col1\" class=\"data row11 col1\" >0.0011</td>\n",
       "                        <td id=\"T_6e554_row11_col2\" class=\"data row11 col2\" >0.0015</td>\n",
       "                        <td id=\"T_6e554_row11_col3\" class=\"data row11 col3\" >0.0013</td>\n",
       "                        <td id=\"T_6e554_row11_col4\" class=\"data row11 col4\" >0.0018</td>\n",
       "                        <td id=\"T_6e554_row11_col5\" class=\"data row11 col5\" >0.0022</td>\n",
       "                        <td id=\"T_6e554_row11_col6\" class=\"data row11 col6\" >0.0020</td>\n",
       "            </tr>\n",
       "    </tbody></table>"
      ],
      "text/plain": [
       "<pandas.io.formats.style.Styler at 0x7fc08d7e2ee0>"
      ]
     },
     "metadata": {},
     "output_type": "display_data"
    },
    {
     "name": "stderr",
     "output_type": "stream",
     "text": [
      "/Library/Frameworks/Python.framework/Versions/3.9/lib/python3.9/site-packages/xgboost/sklearn.py:1146: UserWarning: The use of label encoder in XGBClassifier is deprecated and will be removed in a future release. To remove this warning, do the following: 1) Pass option use_label_encoder=False when constructing XGBClassifier object; and 2) Encode your labels (y) as integers starting with 0, i.e. 0, 1, 2, ..., [num_class - 1].\n",
      "  warnings.warn(label_encoder_deprecation_msg, UserWarning)\n",
      "/Library/Frameworks/Python.framework/Versions/3.9/lib/python3.9/site-packages/xgboost/sklearn.py:1146: UserWarning: The use of label encoder in XGBClassifier is deprecated and will be removed in a future release. To remove this warning, do the following: 1) Pass option use_label_encoder=False when constructing XGBClassifier object; and 2) Encode your labels (y) as integers starting with 0, i.e. 0, 1, 2, ..., [num_class - 1].\n",
      "  warnings.warn(label_encoder_deprecation_msg, UserWarning)\n",
      "/Library/Frameworks/Python.framework/Versions/3.9/lib/python3.9/site-packages/xgboost/sklearn.py:1146: UserWarning: The use of label encoder in XGBClassifier is deprecated and will be removed in a future release. To remove this warning, do the following: 1) Pass option use_label_encoder=False when constructing XGBClassifier object; and 2) Encode your labels (y) as integers starting with 0, i.e. 0, 1, 2, ..., [num_class - 1].\n",
      "  warnings.warn(label_encoder_deprecation_msg, UserWarning)\n",
      "/Library/Frameworks/Python.framework/Versions/3.9/lib/python3.9/site-packages/xgboost/sklearn.py:1146: UserWarning: The use of label encoder in XGBClassifier is deprecated and will be removed in a future release. To remove this warning, do the following: 1) Pass option use_label_encoder=False when constructing XGBClassifier object; and 2) Encode your labels (y) as integers starting with 0, i.e. 0, 1, 2, ..., [num_class - 1].\n",
      "  warnings.warn(label_encoder_deprecation_msg, UserWarning)\n",
      "/Library/Frameworks/Python.framework/Versions/3.9/lib/python3.9/site-packages/xgboost/sklearn.py:1146: UserWarning: The use of label encoder in XGBClassifier is deprecated and will be removed in a future release. To remove this warning, do the following: 1) Pass option use_label_encoder=False when constructing XGBClassifier object; and 2) Encode your labels (y) as integers starting with 0, i.e. 0, 1, 2, ..., [num_class - 1].\n",
      "  warnings.warn(label_encoder_deprecation_msg, UserWarning)\n",
      "/Library/Frameworks/Python.framework/Versions/3.9/lib/python3.9/site-packages/xgboost/sklearn.py:1146: UserWarning: The use of label encoder in XGBClassifier is deprecated and will be removed in a future release. To remove this warning, do the following: 1) Pass option use_label_encoder=False when constructing XGBClassifier object; and 2) Encode your labels (y) as integers starting with 0, i.e. 0, 1, 2, ..., [num_class - 1].\n",
      "  warnings.warn(label_encoder_deprecation_msg, UserWarning)\n",
      "/Library/Frameworks/Python.framework/Versions/3.9/lib/python3.9/site-packages/xgboost/sklearn.py:1146: UserWarning: The use of label encoder in XGBClassifier is deprecated and will be removed in a future release. To remove this warning, do the following: 1) Pass option use_label_encoder=False when constructing XGBClassifier object; and 2) Encode your labels (y) as integers starting with 0, i.e. 0, 1, 2, ..., [num_class - 1].\n",
      "  warnings.warn(label_encoder_deprecation_msg, UserWarning)\n",
      "/Library/Frameworks/Python.framework/Versions/3.9/lib/python3.9/site-packages/xgboost/sklearn.py:1146: UserWarning: The use of label encoder in XGBClassifier is deprecated and will be removed in a future release. To remove this warning, do the following: 1) Pass option use_label_encoder=False when constructing XGBClassifier object; and 2) Encode your labels (y) as integers starting with 0, i.e. 0, 1, 2, ..., [num_class - 1].\n",
      "  warnings.warn(label_encoder_deprecation_msg, UserWarning)\n",
      "/Library/Frameworks/Python.framework/Versions/3.9/lib/python3.9/site-packages/xgboost/sklearn.py:1146: UserWarning: The use of label encoder in XGBClassifier is deprecated and will be removed in a future release. To remove this warning, do the following: 1) Pass option use_label_encoder=False when constructing XGBClassifier object; and 2) Encode your labels (y) as integers starting with 0, i.e. 0, 1, 2, ..., [num_class - 1].\n",
      "  warnings.warn(label_encoder_deprecation_msg, UserWarning)\n",
      "/Library/Frameworks/Python.framework/Versions/3.9/lib/python3.9/site-packages/xgboost/sklearn.py:1146: UserWarning: The use of label encoder in XGBClassifier is deprecated and will be removed in a future release. To remove this warning, do the following: 1) Pass option use_label_encoder=False when constructing XGBClassifier object; and 2) Encode your labels (y) as integers starting with 0, i.e. 0, 1, 2, ..., [num_class - 1].\n",
      "  warnings.warn(label_encoder_deprecation_msg, UserWarning)\n"
     ]
    }
   ],
   "source": [
    "best_model = create_model(model_matrix)\n",
    "final_model = finalize_model(best_model)"
   ]
  },
  {
   "cell_type": "markdown",
   "id": "3aab9021-4462-423a-8e3c-fbe1f36c6110",
   "metadata": {},
   "source": [
    "### Let's load in our 2021 season data and get retention scores using the model:"
   ]
  },
  {
   "cell_type": "code",
   "execution_count": 13,
   "id": "c249a813-c882-4869-9490-6ab766a8c223",
   "metadata": {},
   "outputs": [
    {
     "data": {
      "text/plain": [
       "(176235, 46)"
      ]
     },
     "execution_count": 13,
     "metadata": {},
     "output_type": "execute_result"
    }
   ],
   "source": [
    "df_inference = df.loc[df[\"year\"] >= 2021]\n",
    "df_inference = df_inference.fillna(0)\n",
    "df_inference.shape"
   ]
  },
  {
   "cell_type": "code",
   "execution_count": 14,
   "id": "745b62fb-fb2e-4b4a-9c48-8ce4de472a83",
   "metadata": {},
   "outputs": [
    {
     "data": {
      "text/html": [
       "<div>\n",
       "<style scoped>\n",
       "    .dataframe tbody tr th:only-of-type {\n",
       "        vertical-align: middle;\n",
       "    }\n",
       "\n",
       "    .dataframe tbody tr th {\n",
       "        vertical-align: top;\n",
       "    }\n",
       "\n",
       "    .dataframe thead th {\n",
       "        text-align: right;\n",
       "    }\n",
       "</style>\n",
       "<table border=\"1\" class=\"dataframe\">\n",
       "  <thead>\n",
       "    <tr style=\"text-align: right;\">\n",
       "      <th></th>\n",
       "      <th>lkupClientId</th>\n",
       "      <th>dimCustomerMasterId</th>\n",
       "      <th>dimEventId</th>\n",
       "      <th>inMarket</th>\n",
       "      <th>customerNumber</th>\n",
       "      <th>year</th>\n",
       "      <th>productGrouping</th>\n",
       "      <th>Tier</th>\n",
       "      <th>eventDay</th>\n",
       "      <th>totalSpent</th>\n",
       "      <th>...</th>\n",
       "      <th>unknown</th>\n",
       "      <th>credits_after_refund</th>\n",
       "      <th>NumberofGamesPerSeason</th>\n",
       "      <th>isNextGameBuyer</th>\n",
       "      <th>Label</th>\n",
       "      <th>Score_1</th>\n",
       "      <th>Score_2</th>\n",
       "      <th>Score_3</th>\n",
       "      <th>Score_4</th>\n",
       "      <th>Score_5</th>\n",
       "    </tr>\n",
       "  </thead>\n",
       "  <tbody>\n",
       "    <tr>\n",
       "      <th>888829</th>\n",
       "      <td>53</td>\n",
       "      <td>162</td>\n",
       "      <td>866</td>\n",
       "      <td>0</td>\n",
       "      <td>10605279</td>\n",
       "      <td>2021</td>\n",
       "      <td>Online Individual Game</td>\n",
       "      <td>6</td>\n",
       "      <td>7</td>\n",
       "      <td>88.0</td>\n",
       "      <td>...</td>\n",
       "      <td>0</td>\n",
       "      <td>0.0</td>\n",
       "      <td>94</td>\n",
       "      <td>0</td>\n",
       "      <td>2</td>\n",
       "      <td>0.0878</td>\n",
       "      <td>0.5584</td>\n",
       "      <td>0.0357</td>\n",
       "      <td>0.3071</td>\n",
       "      <td>0.0111</td>\n",
       "    </tr>\n",
       "    <tr>\n",
       "      <th>888830</th>\n",
       "      <td>53</td>\n",
       "      <td>174</td>\n",
       "      <td>904</td>\n",
       "      <td>1</td>\n",
       "      <td>11896281</td>\n",
       "      <td>2021</td>\n",
       "      <td>Online Individual Game</td>\n",
       "      <td>6</td>\n",
       "      <td>2</td>\n",
       "      <td>65.0</td>\n",
       "      <td>...</td>\n",
       "      <td>0</td>\n",
       "      <td>0.0</td>\n",
       "      <td>94</td>\n",
       "      <td>0</td>\n",
       "      <td>1</td>\n",
       "      <td>0.5078</td>\n",
       "      <td>0.1907</td>\n",
       "      <td>0.1374</td>\n",
       "      <td>0.1615</td>\n",
       "      <td>0.0026</td>\n",
       "    </tr>\n",
       "    <tr>\n",
       "      <th>888831</th>\n",
       "      <td>53</td>\n",
       "      <td>439</td>\n",
       "      <td>913</td>\n",
       "      <td>1</td>\n",
       "      <td>1213275</td>\n",
       "      <td>2021</td>\n",
       "      <td>Online Individual Game</td>\n",
       "      <td>3</td>\n",
       "      <td>7</td>\n",
       "      <td>170.0</td>\n",
       "      <td>...</td>\n",
       "      <td>0</td>\n",
       "      <td>0.0</td>\n",
       "      <td>94</td>\n",
       "      <td>0</td>\n",
       "      <td>1</td>\n",
       "      <td>0.4579</td>\n",
       "      <td>0.2717</td>\n",
       "      <td>0.0454</td>\n",
       "      <td>0.2159</td>\n",
       "      <td>0.0091</td>\n",
       "    </tr>\n",
       "    <tr>\n",
       "      <th>888832</th>\n",
       "      <td>53</td>\n",
       "      <td>439</td>\n",
       "      <td>1260</td>\n",
       "      <td>1</td>\n",
       "      <td>1213275</td>\n",
       "      <td>2021</td>\n",
       "      <td>Online Individual Game</td>\n",
       "      <td>6</td>\n",
       "      <td>3</td>\n",
       "      <td>0.0</td>\n",
       "      <td>...</td>\n",
       "      <td>0</td>\n",
       "      <td>0.0</td>\n",
       "      <td>94</td>\n",
       "      <td>0</td>\n",
       "      <td>3</td>\n",
       "      <td>0.0214</td>\n",
       "      <td>0.1790</td>\n",
       "      <td>0.6963</td>\n",
       "      <td>0.0921</td>\n",
       "      <td>0.0111</td>\n",
       "    </tr>\n",
       "    <tr>\n",
       "      <th>888833</th>\n",
       "      <td>53</td>\n",
       "      <td>822</td>\n",
       "      <td>905</td>\n",
       "      <td>1</td>\n",
       "      <td>10605691</td>\n",
       "      <td>2021</td>\n",
       "      <td>Online Individual Game</td>\n",
       "      <td>4</td>\n",
       "      <td>7</td>\n",
       "      <td>660.0</td>\n",
       "      <td>...</td>\n",
       "      <td>0</td>\n",
       "      <td>0.0</td>\n",
       "      <td>94</td>\n",
       "      <td>0</td>\n",
       "      <td>4</td>\n",
       "      <td>0.0616</td>\n",
       "      <td>0.3458</td>\n",
       "      <td>0.0209</td>\n",
       "      <td>0.5492</td>\n",
       "      <td>0.0225</td>\n",
       "    </tr>\n",
       "  </tbody>\n",
       "</table>\n",
       "<p>5 rows × 52 columns</p>\n",
       "</div>"
      ],
      "text/plain": [
       "        lkupClientId  dimCustomerMasterId  dimEventId  inMarket  \\\n",
       "888829            53                  162         866         0   \n",
       "888830            53                  174         904         1   \n",
       "888831            53                  439         913         1   \n",
       "888832            53                  439        1260         1   \n",
       "888833            53                  822         905         1   \n",
       "\n",
       "       customerNumber  year         productGrouping  Tier  eventDay  \\\n",
       "888829       10605279  2021  Online Individual Game     6         7   \n",
       "888830       11896281  2021  Online Individual Game     6         2   \n",
       "888831        1213275  2021  Online Individual Game     3         7   \n",
       "888832        1213275  2021  Online Individual Game     6         3   \n",
       "888833       10605691  2021  Online Individual Game     4         7   \n",
       "\n",
       "        totalSpent  ... unknown  credits_after_refund  NumberofGamesPerSeason  \\\n",
       "888829        88.0  ...       0                   0.0                      94   \n",
       "888830        65.0  ...       0                   0.0                      94   \n",
       "888831       170.0  ...       0                   0.0                      94   \n",
       "888832         0.0  ...       0                   0.0                      94   \n",
       "888833       660.0  ...       0                   0.0                      94   \n",
       "\n",
       "       isNextGameBuyer  Label  Score_1  Score_2  Score_3  Score_4  Score_5  \n",
       "888829               0      2   0.0878   0.5584   0.0357   0.3071   0.0111  \n",
       "888830               0      1   0.5078   0.1907   0.1374   0.1615   0.0026  \n",
       "888831               0      1   0.4579   0.2717   0.0454   0.2159   0.0091  \n",
       "888832               0      3   0.0214   0.1790   0.6963   0.0921   0.0111  \n",
       "888833               0      4   0.0616   0.3458   0.0209   0.5492   0.0225  \n",
       "\n",
       "[5 rows x 52 columns]"
      ]
     },
     "execution_count": 14,
     "metadata": {},
     "output_type": "execute_result"
    }
   ],
   "source": [
    "new_predictions = predict_model(final_model, data=df_inference, raw_score=True)\n",
    "new_predictions.head()"
   ]
  },
  {
   "cell_type": "code",
   "execution_count": 15,
   "id": "c98d3de4-966c-4d4a-af8f-e4a2d78eed38",
   "metadata": {},
   "outputs": [
    {
     "data": {
      "text/plain": [
       "4    61539\n",
       "2    48678\n",
       "1    33440\n",
       "3    29829\n",
       "5     2749\n",
       "Name: Label, dtype: int64"
      ]
     },
     "execution_count": 15,
     "metadata": {},
     "output_type": "execute_result"
    }
   ],
   "source": [
    "new_predictions[\"Label\"].value_counts()"
   ]
  },
  {
   "cell_type": "code",
   "execution_count": 16,
   "id": "4d540733-839c-44e3-acfa-0c7ebc3e822d",
   "metadata": {},
   "outputs": [
    {
     "data": {
      "text/plain": [
       "(-0.001, 0.2]    125909\n",
       "(0.2, 0.4]        28347\n",
       "(0.4, 0.6]        15741\n",
       "(0.6, 0.8]         5381\n",
       "(0.8, 1.0]          857\n",
       "Name: Score_1, dtype: int64"
      ]
     },
     "execution_count": 16,
     "metadata": {},
     "output_type": "execute_result"
    }
   ],
   "source": [
    "new_predictions[\"Score_1\"].value_counts(bins=[0, 0.2, 0.4, 0.6, 0.8, 1.0])"
   ]
  },
  {
   "cell_type": "code",
   "execution_count": 17,
   "id": "95e96920-bc9c-4b50-837c-89e392d13449",
   "metadata": {},
   "outputs": [
    {
     "data": {
      "text/plain": [
       "(0.2, 0.4]       104292\n",
       "(-0.001, 0.2]     53895\n",
       "(0.4, 0.6]        17596\n",
       "(0.6, 0.8]          448\n",
       "(0.8, 1.0]            4\n",
       "Name: Score_2, dtype: int64"
      ]
     },
     "execution_count": 17,
     "metadata": {},
     "output_type": "execute_result"
    }
   ],
   "source": [
    "new_predictions[\"Score_2\"].value_counts(bins=[0, 0.2, 0.4, 0.6, 0.8, 1.0])"
   ]
  },
  {
   "cell_type": "code",
   "execution_count": 18,
   "id": "fe7a9d96-43a9-4e32-9b94-c18f15a6ab79",
   "metadata": {},
   "outputs": [
    {
     "data": {
      "text/plain": [
       "(-0.001, 0.2]    102355\n",
       "(0.2, 0.4]        57212\n",
       "(0.4, 0.6]         8862\n",
       "(0.6, 0.8]         6934\n",
       "(0.8, 1.0]          872\n",
       "Name: Score_3, dtype: int64"
      ]
     },
     "execution_count": 18,
     "metadata": {},
     "output_type": "execute_result"
    }
   ],
   "source": [
    "new_predictions[\"Score_3\"].value_counts(bins=[0, 0.2, 0.4, 0.6, 0.8, 1.0])"
   ]
  },
  {
   "cell_type": "code",
   "execution_count": 19,
   "id": "f26f9ecd-2fb1-4712-bf56-ac2049728b40",
   "metadata": {},
   "outputs": [
    {
     "data": {
      "text/plain": [
       "(0.2, 0.4]       96118\n",
       "(-0.001, 0.2]    44469\n",
       "(0.4, 0.6]       28813\n",
       "(0.6, 0.8]        6268\n",
       "(0.8, 1.0]         567\n",
       "Name: Score_4, dtype: int64"
      ]
     },
     "execution_count": 19,
     "metadata": {},
     "output_type": "execute_result"
    }
   ],
   "source": [
    "new_predictions[\"Score_4\"].value_counts(bins=[0, 0.2, 0.4, 0.6, 0.8, 1.0])"
   ]
  },
  {
   "cell_type": "code",
   "execution_count": 20,
   "id": "ce062137-8ee9-4eff-89d3-4589a4d8903e",
   "metadata": {},
   "outputs": [
    {
     "data": {
      "text/plain": [
       "(-0.001, 0.2]    164918\n",
       "(0.2, 0.4]         9796\n",
       "(0.4, 0.6]          781\n",
       "(0.6, 0.8]          491\n",
       "(0.8, 1.0]          249\n",
       "Name: Score_5, dtype: int64"
      ]
     },
     "execution_count": 20,
     "metadata": {},
     "output_type": "execute_result"
    }
   ],
   "source": [
    "new_predictions[\"Score_5\"].value_counts(bins=[0, 0.2, 0.4, 0.6, 0.8, 1.0])"
   ]
  },
  {
   "cell_type": "code",
   "execution_count": 21,
   "id": "ed5992e4-10d1-44de-aeda-072550c75086",
   "metadata": {},
   "outputs": [
    {
     "data": {
      "text/plain": [
       "array([[<AxesSubplot:title={'center':'Score_1'}>]], dtype=object)"
      ]
     },
     "execution_count": 21,
     "metadata": {},
     "output_type": "execute_result"
    },
    {
     "data": {
      "image/png": "[encoded data removed]",
      "text/plain": [
       "<Figure size 720x360 with 1 Axes>"
      ]
     },
     "metadata": {
      "needs_background": "light"
     },
     "output_type": "display_data"
    }
   ],
   "source": [
    "new_predictions[new_predictions[\"Label\"]==1][[\"Score_1\"]].hist(bins=30, figsize=(10,5), range=[0,1])"
   ]
  },
  {
   "cell_type": "code",
   "execution_count": 22,
   "id": "3b4b1d51-1c33-489a-95f6-ab75e428c760",
   "metadata": {},
   "outputs": [
    {
     "data": {
      "text/plain": [
       "array([[<AxesSubplot:title={'center':'Score_2'}>]], dtype=object)"
      ]
     },
     "execution_count": 22,
     "metadata": {},
     "output_type": "execute_result"
    },
    {
     "data": {
      "image/png": "[encoded data removed]",
      "text/plain": [
       "<Figure size 720x360 with 1 Axes>"
      ]
     },
     "metadata": {
      "needs_background": "light"
     },
     "output_type": "display_data"
    }
   ],
   "source": [
    "new_predictions[new_predictions[\"Label\"]==2][[\"Score_2\"]].hist(bins=30, figsize=(10,5), range=[0,1])"
   ]
  },
  {
   "cell_type": "code",
   "execution_count": 23,
   "id": "9fc6d526-9131-489b-9b21-fed28d05cf09",
   "metadata": {},
   "outputs": [
    {
     "data": {
      "text/plain": [
       "array([[<AxesSubplot:title={'center':'Score_3'}>]], dtype=object)"
      ]
     },
     "execution_count": 23,
     "metadata": {},
     "output_type": "execute_result"
    },
    {
     "data": {
      "image/png": "[encoded data removed]",
      "text/plain": [
       "<Figure size 720x360 with 1 Axes>"
      ]
     },
     "metadata": {
      "needs_background": "light"
     },
     "output_type": "display_data"
    }
   ],
   "source": [
    "new_predictions[new_predictions[\"Label\"]==3][[\"Score_3\"]].hist(bins=30, figsize=(10,5), range=[0,1])"
   ]
  },
  {
   "cell_type": "code",
   "execution_count": 24,
   "id": "10850030-3cba-4dec-b449-abbb3af747dc",
   "metadata": {},
   "outputs": [
    {
     "data": {
      "text/plain": [
       "array([[<AxesSubplot:title={'center':'Score_4'}>]], dtype=object)"
      ]
     },
     "execution_count": 24,
     "metadata": {},
     "output_type": "execute_result"
    },
    {
     "data": {
      "image/png": "[encoded data removed]",
      "text/plain": [
       "<Figure size 720x360 with 1 Axes>"
      ]
     },
     "metadata": {
      "needs_background": "light"
     },
     "output_type": "display_data"
    }
   ],
   "source": [
    "new_predictions[new_predictions[\"Label\"]==4][[\"Score_4\"]].hist(bins=30, figsize=(10,5), range=[0,1])"
   ]
  },
  {
   "cell_type": "code",
   "execution_count": 25,
   "id": "016ce4cb-e80b-414c-b58b-2d5c23f3efef",
   "metadata": {},
   "outputs": [
    {
     "data": {
      "text/plain": [
       "array([[<AxesSubplot:title={'center':'Score_5'}>]], dtype=object)"
      ]
     },
     "execution_count": 25,
     "metadata": {},
     "output_type": "execute_result"
    },
    {
     "data": {
      "image/png": "[encoded data removed]",
      "text/plain": [
       "<Figure size 720x360 with 1 Axes>"
      ]
     },
     "metadata": {
      "needs_background": "light"
     },
     "output_type": "display_data"
    }
   ],
   "source": [
    "new_predictions[new_predictions[\"Label\"]==5][[\"Score_5\"]].hist(bins=30, figsize=(10,5), range=[0,1])"
   ]
  },
  {
   "cell_type": "code",
   "execution_count": 26,
   "id": "144bd27b-9798-4f8b-a3a3-95298d8e2c01",
   "metadata": {},
   "outputs": [
    {
     "data": {
      "image/png": "[encoded data removed]",
      "text/plain": [
       "<Figure size 800x500 with 1 Axes>"
      ]
     },
     "metadata": {},
     "output_type": "display_data"
    }
   ],
   "source": [
    "plot_model(best_model, plot='feature')"
   ]
  },
  {
   "cell_type": "code",
   "execution_count": 27,
   "id": "79e34840-9a47-486f-a648-6d5d16d73b89",
   "metadata": {},
   "outputs": [
    {
     "data": {
      "image/png": "[encoded data removed]",
      "text/plain": [
       "<Figure size 576x396 with 1 Axes>"
      ]
     },
     "metadata": {},
     "output_type": "display_data"
    }
   ],
   "source": [
    "plot_model(best_model, plot='confusion_matrix')"
   ]
  },
  {
   "cell_type": "markdown",
   "id": "a439108b-7911-4384-b089-f7b31c825192",
   "metadata": {},
   "source": [
    "## Observations\n",
    "Here you can document some ideas on the results from above\n"
   ]
  },
  {
   "cell_type": "markdown",
   "id": "d2de91b5-a1e8-42a5-a087-8c31ff2e1db3",
   "metadata": {},
   "source": [
    "## Conclusions\n",
    "Here you can talk about next steps, did the experiment work? If yes, what to do next? If no, why?\n",
    "\n",
    "* We should ask CS/CI what they think the most significant factor towards a next game buyer is."
   ]
  },
  {
   "cell_type": "code",
   "execution_count": null,
   "id": "c1c6f293-c82c-4312-a374-1a530750ed52",
   "metadata": {},
   "outputs": [],
   "source": []
  }
 ],
 "metadata": {
  "kernelspec": {
   "display_name": "Python 3 (ipykernel)",
   "language": "python",
   "name": "python3"
  },
  "language_info": {
   "codemirror_mode": {
    "name": "ipython",
    "version": 3
   },
   "file_extension": ".py",
   "mimetype": "text/x-python",
   "name": "python",
   "nbconvert_exporter": "python",
   "pygments_lexer": "ipython3",
   "version": "3.9.4"
  }
 },
 "nbformat": 4,
 "nbformat_minor": 5
}
