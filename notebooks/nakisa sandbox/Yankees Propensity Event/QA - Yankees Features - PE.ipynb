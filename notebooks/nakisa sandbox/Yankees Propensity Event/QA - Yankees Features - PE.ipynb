{
 "cells": [
  {
   "cell_type": "markdown",
   "id": "6ee08766-25fd-4da1-91b8-b0c3e74db588",
   "metadata": {},
   "source": [
    "# Yankees - Extended Feature Selection\n",
    "* StelllarAlgo Data Science\n",
    "* Ryan Kazmerik & Nakisa Rad\n",
    "* Jan 12, 2022"
   ]
  },
  {
   "cell_type": "markdown",
   "id": "39108c8d-2e9f-4759-ade2-83071038dc56",
   "metadata": {},
   "source": [
    "## Hypothesis\n",
    "Two very important components of a machine learning model are feature selection and feature engineering. Our idea is that adding some more features to the StellarAlgo retention model could improve performance of the model. This notebook will test the standard StellarAlgo retention model features."
   ]
  },
  {
   "cell_type": "markdown",
   "id": "28142011-1f32-4cc7-816b-a6dae6f70c8c",
   "metadata": {},
   "source": [
    "## Experiment\n",
    "This section details our experiment including querying data, data transformations, feature selection and modelling."
   ]
  },
  {
   "cell_type": "code",
   "execution_count": 1,
   "id": "4c533efd-600e-4bce-8203-faffbddfa700",
   "metadata": {},
   "outputs": [],
   "source": [
    "import getpass\n",
    "import pyodbc\n",
    "import pandas as pd\n",
    "import warnings\n",
    "import matplotlib.pyplot as plt\n",
    "\n",
    "from pycaret.classification import *\n",
    "\n",
    "warnings.filterwarnings('ignore')"
   ]
  },
  {
   "cell_type": "markdown",
   "id": "b64ae7d5-84af-4915-bd13-1dd9d17098a3",
   "metadata": {},
   "source": [
    "### Let's connect to MSSQL and run a stored proc to get our dataset:"
   ]
  },
  {
   "cell_type": "code",
   "execution_count": 2,
   "id": "ae561eb4-f419-4d46-b5e0-12fac9b10db8",
   "metadata": {},
   "outputs": [],
   "source": [
    "# connect to SQL Server.\n",
    "SERVER = '52.44.171.130' \n",
    "DATABASE = 'datascience' \n",
    "USERNAME = 'nrad' \n",
    "PASSWORD = 'ThisIsQA123'\n",
    "CNXN = pyodbc.connect('DRIVER={ODBC Driver 17 for SQL Server};SERVER='+SERVER+';DATABASE='+DATABASE+';UID='+USERNAME+';PWD='+ PASSWORD)"
   ]
  },
  {
   "cell_type": "code",
   "execution_count": 3,
   "id": "af1afe7d-a35b-494b-88f3-980fb0e3da30",
   "metadata": {},
   "outputs": [
    {
     "data": {
      "text/plain": [
       "(1162194, 43)"
      ]
     },
     "execution_count": 3,
     "metadata": {},
     "output_type": "execute_result"
    }
   ],
   "source": [
    "lkupclientid = 53 # Yankees\n",
    "\n",
    "cursor = CNXN.cursor()\n",
    "\n",
    "storedProc = (\n",
    "    f\"\"\"Exec [stlrYankees].[ds].[getPropensityEventScoring] {lkupclientid}\"\"\"\n",
    ")\n",
    "\n",
    "df = pd.read_sql(storedProc, CNXN)\n",
    "\n",
    "# apply some data transformations\n",
    "df[\"year\"] = pd.to_numeric(df[\"year\"]) \n",
    "\n",
    "CNXN.commit()\n",
    "cursor.close()\n",
    "\n",
    "df.shape"
   ]
  },
  {
   "cell_type": "code",
   "execution_count": 4,
   "id": "11e97dcc-c69e-46c1-8dad-33f6291cb0c6",
   "metadata": {},
   "outputs": [
    {
     "name": "stdout",
     "output_type": "stream",
     "text": [
      "<class 'pandas.core.frame.DataFrame'>\n",
      "RangeIndex: 1162194 entries, 0 to 1162193\n",
      "Data columns (total 43 columns):\n",
      " #   Column                Non-Null Count    Dtype  \n",
      "---  ------                --------------    -----  \n",
      " 0   lkupClientId          1162194 non-null  int64  \n",
      " 1   dimCustomerMasterId   1162194 non-null  int64  \n",
      " 2   dimEventId            1162194 non-null  int64  \n",
      " 3   inMarket              1162194 non-null  bool   \n",
      " 4   customerNumber        1162194 non-null  object \n",
      " 5   year                  1162194 non-null  int64  \n",
      " 6   productGrouping       1162194 non-null  object \n",
      " 7   totalSpent            1162192 non-null  float64\n",
      " 8   recentDate            1162194 non-null  object \n",
      " 9   attendancePercent     1162194 non-null  float64\n",
      " 10  renewedBeforeDays     1162194 non-null  int64  \n",
      " 11  isBuyer               1162194 non-null  object \n",
      " 12  source_tenure         1162194 non-null  int64  \n",
      " 13  tenure                1162194 non-null  int64  \n",
      " 14  distToVenue           1162194 non-null  float64\n",
      " 15  totalGames            1162194 non-null  int64  \n",
      " 16  recency               1162194 non-null  int64  \n",
      " 17  click_link            1162194 non-null  int64  \n",
      " 18  fill_out_form         1162194 non-null  int64  \n",
      " 19  open_email            1162194 non-null  int64  \n",
      " 20  send_email            1162194 non-null  int64  \n",
      " 21  unsubscribe_email     1162194 non-null  int64  \n",
      " 22  openToSendRatio       1162194 non-null  float64\n",
      " 23  clickToSendRatio      1162194 non-null  float64\n",
      " 24  clickToOpenRatio      1162194 non-null  float64\n",
      " 25  posting_records       1162194 non-null  int64  \n",
      " 26  resale_records        1162194 non-null  int64  \n",
      " 27  resale_atp            1162194 non-null  float64\n",
      " 28  forward_records       1162194 non-null  int64  \n",
      " 29  cancel_records        1162194 non-null  int64  \n",
      " 30  email                 1162194 non-null  int64  \n",
      " 31  inbound_email         1162194 non-null  int64  \n",
      " 32  inbound_phonecall     1162194 non-null  int64  \n",
      " 33  inperson_contact      1162194 non-null  int64  \n",
      " 34  internal_note         1162194 non-null  int64  \n",
      " 35  left_message          1162194 non-null  int64  \n",
      " 36  outbound_email        1162194 non-null  int64  \n",
      " 37  outbound_phonecall    1162194 non-null  int64  \n",
      " 38  phonecall             1162194 non-null  int64  \n",
      " 39  text                  1162194 non-null  int64  \n",
      " 40  unknown               1162194 non-null  int64  \n",
      " 41  credits_after_refund  1162194 non-null  float64\n",
      " 42  isNextGameBuyer       1162194 non-null  int64  \n",
      "dtypes: bool(1), float64(8), int64(30), object(4)\n",
      "memory usage: 373.5+ MB\n"
     ]
    }
   ],
   "source": [
    "df.info()"
   ]
  },
  {
   "cell_type": "markdown",
   "id": "ab40da92-72a7-49c1-9829-ed3805a39719",
   "metadata": {},
   "source": [
    "### We should specify the features used in our model:"
   ]
  },
  {
   "cell_type": "code",
   "execution_count": 5,
   "id": "788f1273-8b7a-46bd-a099-1a471feeacc5",
   "metadata": {},
   "outputs": [
    {
     "name": "stdout",
     "output_type": "stream",
     "text": [
      "Data for Modeling: (816683, 14)\n",
      "Unseen Data For Predictions: (144120, 14)\n",
      "\n"
     ]
    }
   ],
   "source": [
    "# choose the features for the stellar base retention model\n",
    "features = [\"dimCustomerMasterId\",\n",
    "    \"inMarket\",\n",
    "        \"totalSpent\",\n",
    "        \"attendancePercent\",\n",
    "        \"source_tenure\",\n",
    "        \"tenure\",\n",
    "        \"distToVenue\",\n",
    "        \"totalGames\",\n",
    "        \"recency\",\n",
    "        \"click_link\",\n",
    "        \"open_email\",\n",
    "        \"send_email\",\n",
    "        \"isNextGameBuyer\",\n",
    "        \"year\"\n",
    "]\n",
    "\n",
    "# copy your main dataframe\n",
    "df_dataset = df\n",
    "\n",
    "# choose the features & train year & test year\n",
    "df_dataset = df_dataset[features]\n",
    "df_dataset[\"year\"] = pd.to_numeric(df_dataset[\"year\"])\n",
    "df_dataset = df_dataset.loc[df_dataset[\"year\"] <= 2019]\n",
    "\n",
    "df_train = df_dataset.sample(frac=0.85, random_state=786)\n",
    "df_eval = df_dataset.drop(df_train.index)\n",
    "\n",
    "df_train.reset_index(drop=True, inplace=True)\n",
    "df_eval.reset_index(drop=True, inplace=True)\n",
    "\n",
    "# print out the number of records for training and eval\n",
    "print('Data for Modeling: ' + str(df_train.shape))\n",
    "print('Unseen Data For Predictions: ' + str(df_eval.shape), end=\"\\n\\n\")"
   ]
  },
  {
   "cell_type": "markdown",
   "id": "4f2da06d-9015-49fd-89b3-956c2ebf66e9",
   "metadata": {},
   "source": [
    "### Now we can model the data using a binary classification prediction for the isnextyear_buyer field to see how likely a customer is to re-purchase."
   ]
  },
  {
   "cell_type": "code",
   "execution_count": 9,
   "id": "23a69cdc-b3ec-48c8-9ce5-29f617779389",
   "metadata": {},
   "outputs": [],
   "source": [
    "setup(\n",
    "    data= df_train, \n",
    "    target=\"isNextGameBuyer\", \n",
    "    train_size = 0.80,\n",
    "    data_split_shuffle=True,\n",
    "    ignore_features=[\"dimCustomerMasterId\",\"year\"],\n",
    "    silent=True,\n",
    "    verbose=False,\n",
    "    numeric_features=[\"inMarket\",\n",
    "        \"totalSpent\",\n",
    "        \"attendancePercent\",\n",
    "        \"source_tenure\",\n",
    "        \"tenure\",\n",
    "        \"distToVenue\",\n",
    "        \"totalGames\",\n",
    "        \"recency\",\n",
    "        \"click_link\",\n",
    "        \"open_email\",\n",
    "        \"send_email\"\n",
    "    ]\n",
    ");"
   ]
  },
  {
   "cell_type": "code",
   "execution_count": 10,
   "id": "ef2db9d2-02c2-45c0-b6bb-5cad42c373ce",
   "metadata": {},
   "outputs": [
    {
     "data": {
      "text/html": [
       "<style  type=\"text/css\" >\n",
       "    #T_b5e09_ th {\n",
       "          text-align: left;\n",
       "    }#T_b5e09_row0_col0,#T_b5e09_row1_col0,#T_b5e09_row1_col1,#T_b5e09_row1_col2,#T_b5e09_row1_col3,#T_b5e09_row1_col4,#T_b5e09_row1_col5,#T_b5e09_row1_col6,#T_b5e09_row1_col7{\n",
       "            text-align:  left;\n",
       "            text-align:  left;\n",
       "        }#T_b5e09_row0_col1,#T_b5e09_row0_col2,#T_b5e09_row0_col3,#T_b5e09_row0_col4,#T_b5e09_row0_col5,#T_b5e09_row0_col6,#T_b5e09_row0_col7{\n",
       "            text-align:  left;\n",
       "            text-align:  left;\n",
       "            background-color:  yellow;\n",
       "        }#T_b5e09_row0_col8{\n",
       "            text-align:  left;\n",
       "            text-align:  left;\n",
       "            background-color:  lightgrey;\n",
       "        }#T_b5e09_row1_col8{\n",
       "            text-align:  left;\n",
       "            text-align:  left;\n",
       "            background-color:  yellow;\n",
       "            background-color:  lightgrey;\n",
       "        }</style><table id=\"T_b5e09_\" ><thead>    <tr>        <th class=\"blank level0\" ></th>        <th class=\"col_heading level0 col0\" >Model</th>        <th class=\"col_heading level0 col1\" >Accuracy</th>        <th class=\"col_heading level0 col2\" >AUC</th>        <th class=\"col_heading level0 col3\" >Recall</th>        <th class=\"col_heading level0 col4\" >Prec.</th>        <th class=\"col_heading level0 col5\" >F1</th>        <th class=\"col_heading level0 col6\" >Kappa</th>        <th class=\"col_heading level0 col7\" >MCC</th>        <th class=\"col_heading level0 col8\" >TT (Sec)</th>    </tr></thead><tbody>\n",
       "                <tr>\n",
       "                        <th id=\"T_b5e09_level0_row0\" class=\"row_heading level0 row0\" >xgboost</th>\n",
       "                        <td id=\"T_b5e09_row0_col0\" class=\"data row0 col0\" >Extreme Gradient Boosting</td>\n",
       "                        <td id=\"T_b5e09_row0_col1\" class=\"data row0 col1\" >0.9699</td>\n",
       "                        <td id=\"T_b5e09_row0_col2\" class=\"data row0 col2\" >0.9475</td>\n",
       "                        <td id=\"T_b5e09_row0_col3\" class=\"data row0 col3\" >0.3946</td>\n",
       "                        <td id=\"T_b5e09_row0_col4\" class=\"data row0 col4\" >0.6943</td>\n",
       "                        <td id=\"T_b5e09_row0_col5\" class=\"data row0 col5\" >0.5031</td>\n",
       "                        <td id=\"T_b5e09_row0_col6\" class=\"data row0 col6\" >0.4887</td>\n",
       "                        <td id=\"T_b5e09_row0_col7\" class=\"data row0 col7\" >0.5097</td>\n",
       "                        <td id=\"T_b5e09_row0_col8\" class=\"data row0 col8\" >14.6570</td>\n",
       "            </tr>\n",
       "            <tr>\n",
       "                        <th id=\"T_b5e09_level0_row1\" class=\"row_heading level0 row1\" >lr</th>\n",
       "                        <td id=\"T_b5e09_row1_col0\" class=\"data row1 col0\" >Logistic Regression</td>\n",
       "                        <td id=\"T_b5e09_row1_col1\" class=\"data row1 col1\" >0.9628</td>\n",
       "                        <td id=\"T_b5e09_row1_col2\" class=\"data row1 col2\" >0.8494</td>\n",
       "                        <td id=\"T_b5e09_row1_col3\" class=\"data row1 col3\" >0.1090</td>\n",
       "                        <td id=\"T_b5e09_row1_col4\" class=\"data row1 col4\" >0.6048</td>\n",
       "                        <td id=\"T_b5e09_row1_col5\" class=\"data row1 col5\" >0.1846</td>\n",
       "                        <td id=\"T_b5e09_row1_col6\" class=\"data row1 col6\" >0.1749</td>\n",
       "                        <td id=\"T_b5e09_row1_col7\" class=\"data row1 col7\" >0.2459</td>\n",
       "                        <td id=\"T_b5e09_row1_col8\" class=\"data row1 col8\" >13.7570</td>\n",
       "            </tr>\n",
       "    </tbody></table>"
      ],
      "text/plain": [
       "<pandas.io.formats.style.Styler at 0x7fd42f7a4e50>"
      ]
     },
     "metadata": {},
     "output_type": "display_data"
    }
   ],
   "source": [
    "model_matrix = compare_models(\n",
    "    fold=10,\n",
    "    include=[\"lr\", \"xgboost\"]\n",
    ")"
   ]
  },
  {
   "cell_type": "code",
   "execution_count": 11,
   "id": "d9f030ed-4b6a-4a87-a01e-129dc49e0d4a",
   "metadata": {},
   "outputs": [
    {
     "data": {
      "text/html": [
       "<style  type=\"text/css\" >\n",
       "#T_bf807_row10_col0,#T_bf807_row10_col1,#T_bf807_row10_col2,#T_bf807_row10_col3,#T_bf807_row10_col4,#T_bf807_row10_col5,#T_bf807_row10_col6{\n",
       "            background:  yellow;\n",
       "        }</style><table id=\"T_bf807_\" ><thead>    <tr>        <th class=\"blank level0\" ></th>        <th class=\"col_heading level0 col0\" >Accuracy</th>        <th class=\"col_heading level0 col1\" >AUC</th>        <th class=\"col_heading level0 col2\" >Recall</th>        <th class=\"col_heading level0 col3\" >Prec.</th>        <th class=\"col_heading level0 col4\" >F1</th>        <th class=\"col_heading level0 col5\" >Kappa</th>        <th class=\"col_heading level0 col6\" >MCC</th>    </tr></thead><tbody>\n",
       "                <tr>\n",
       "                        <th id=\"T_bf807_level0_row0\" class=\"row_heading level0 row0\" >0</th>\n",
       "                        <td id=\"T_bf807_row0_col0\" class=\"data row0 col0\" >0.9682</td>\n",
       "                        <td id=\"T_bf807_row0_col1\" class=\"data row0 col1\" >0.9437</td>\n",
       "                        <td id=\"T_bf807_row0_col2\" class=\"data row0 col2\" >0.3777</td>\n",
       "                        <td id=\"T_bf807_row0_col3\" class=\"data row0 col3\" >0.6525</td>\n",
       "                        <td id=\"T_bf807_row0_col4\" class=\"data row0 col4\" >0.4784</td>\n",
       "                        <td id=\"T_bf807_row0_col5\" class=\"data row0 col5\" >0.4632</td>\n",
       "                        <td id=\"T_bf807_row0_col6\" class=\"data row0 col6\" >0.4817</td>\n",
       "            </tr>\n",
       "            <tr>\n",
       "                        <th id=\"T_bf807_level0_row1\" class=\"row_heading level0 row1\" >1</th>\n",
       "                        <td id=\"T_bf807_row1_col0\" class=\"data row1 col0\" >0.9704</td>\n",
       "                        <td id=\"T_bf807_row1_col1\" class=\"data row1 col1\" >0.9475</td>\n",
       "                        <td id=\"T_bf807_row1_col2\" class=\"data row1 col2\" >0.3880</td>\n",
       "                        <td id=\"T_bf807_row1_col3\" class=\"data row1 col3\" >0.7164</td>\n",
       "                        <td id=\"T_bf807_row1_col4\" class=\"data row1 col4\" >0.5033</td>\n",
       "                        <td id=\"T_bf807_row1_col5\" class=\"data row1 col5\" >0.4895</td>\n",
       "                        <td id=\"T_bf807_row1_col6\" class=\"data row1 col6\" >0.5141</td>\n",
       "            </tr>\n",
       "            <tr>\n",
       "                        <th id=\"T_bf807_level0_row2\" class=\"row_heading level0 row2\" >2</th>\n",
       "                        <td id=\"T_bf807_row2_col0\" class=\"data row2 col0\" >0.9697</td>\n",
       "                        <td id=\"T_bf807_row2_col1\" class=\"data row2 col1\" >0.9464</td>\n",
       "                        <td id=\"T_bf807_row2_col2\" class=\"data row2 col2\" >0.3820</td>\n",
       "                        <td id=\"T_bf807_row2_col3\" class=\"data row2 col3\" >0.6968</td>\n",
       "                        <td id=\"T_bf807_row2_col4\" class=\"data row2 col4\" >0.4935</td>\n",
       "                        <td id=\"T_bf807_row2_col5\" class=\"data row2 col5\" >0.4792</td>\n",
       "                        <td id=\"T_bf807_row2_col6\" class=\"data row2 col6\" >0.5024</td>\n",
       "            </tr>\n",
       "            <tr>\n",
       "                        <th id=\"T_bf807_level0_row3\" class=\"row_heading level0 row3\" >3</th>\n",
       "                        <td id=\"T_bf807_row3_col0\" class=\"data row3 col0\" >0.9693</td>\n",
       "                        <td id=\"T_bf807_row3_col1\" class=\"data row3 col1\" >0.9461</td>\n",
       "                        <td id=\"T_bf807_row3_col2\" class=\"data row3 col2\" >0.3955</td>\n",
       "                        <td id=\"T_bf807_row3_col3\" class=\"data row3 col3\" >0.6745</td>\n",
       "                        <td id=\"T_bf807_row3_col4\" class=\"data row3 col4\" >0.4986</td>\n",
       "                        <td id=\"T_bf807_row3_col5\" class=\"data row3 col5\" >0.4839</td>\n",
       "                        <td id=\"T_bf807_row3_col6\" class=\"data row3 col6\" >0.5023</td>\n",
       "            </tr>\n",
       "            <tr>\n",
       "                        <th id=\"T_bf807_level0_row4\" class=\"row_heading level0 row4\" >4</th>\n",
       "                        <td id=\"T_bf807_row4_col0\" class=\"data row4 col0\" >0.9697</td>\n",
       "                        <td id=\"T_bf807_row4_col1\" class=\"data row4 col1\" >0.9468</td>\n",
       "                        <td id=\"T_bf807_row4_col2\" class=\"data row4 col2\" >0.3856</td>\n",
       "                        <td id=\"T_bf807_row4_col3\" class=\"data row4 col3\" >0.6957</td>\n",
       "                        <td id=\"T_bf807_row4_col4\" class=\"data row4 col4\" >0.4962</td>\n",
       "                        <td id=\"T_bf807_row4_col5\" class=\"data row4 col5\" >0.4819</td>\n",
       "                        <td id=\"T_bf807_row4_col6\" class=\"data row4 col6\" >0.5043</td>\n",
       "            </tr>\n",
       "            <tr>\n",
       "                        <th id=\"T_bf807_level0_row5\" class=\"row_heading level0 row5\" >5</th>\n",
       "                        <td id=\"T_bf807_row5_col0\" class=\"data row5 col0\" >0.9702</td>\n",
       "                        <td id=\"T_bf807_row5_col1\" class=\"data row5 col1\" >0.9485</td>\n",
       "                        <td id=\"T_bf807_row5_col2\" class=\"data row5 col2\" >0.3979</td>\n",
       "                        <td id=\"T_bf807_row5_col3\" class=\"data row5 col3\" >0.7028</td>\n",
       "                        <td id=\"T_bf807_row5_col4\" class=\"data row5 col4\" >0.5081</td>\n",
       "                        <td id=\"T_bf807_row5_col5\" class=\"data row5 col5\" >0.4939</td>\n",
       "                        <td id=\"T_bf807_row5_col6\" class=\"data row5 col6\" >0.5153</td>\n",
       "            </tr>\n",
       "            <tr>\n",
       "                        <th id=\"T_bf807_level0_row6\" class=\"row_heading level0 row6\" >6</th>\n",
       "                        <td id=\"T_bf807_row6_col0\" class=\"data row6 col0\" >0.9705</td>\n",
       "                        <td id=\"T_bf807_row6_col1\" class=\"data row6 col1\" >0.9511</td>\n",
       "                        <td id=\"T_bf807_row6_col2\" class=\"data row6 col2\" >0.4150</td>\n",
       "                        <td id=\"T_bf807_row6_col3\" class=\"data row6 col3\" >0.7001</td>\n",
       "                        <td id=\"T_bf807_row6_col4\" class=\"data row6 col4\" >0.5211</td>\n",
       "                        <td id=\"T_bf807_row6_col5\" class=\"data row6 col5\" >0.5069</td>\n",
       "                        <td id=\"T_bf807_row6_col6\" class=\"data row6 col6\" >0.5255</td>\n",
       "            </tr>\n",
       "            <tr>\n",
       "                        <th id=\"T_bf807_level0_row7\" class=\"row_heading level0 row7\" >7</th>\n",
       "                        <td id=\"T_bf807_row7_col0\" class=\"data row7 col0\" >0.9698</td>\n",
       "                        <td id=\"T_bf807_row7_col1\" class=\"data row7 col1\" >0.9475</td>\n",
       "                        <td id=\"T_bf807_row7_col2\" class=\"data row7 col2\" >0.4014</td>\n",
       "                        <td id=\"T_bf807_row7_col3\" class=\"data row7 col3\" >0.6879</td>\n",
       "                        <td id=\"T_bf807_row7_col4\" class=\"data row7 col4\" >0.5070</td>\n",
       "                        <td id=\"T_bf807_row7_col5\" class=\"data row7 col5\" >0.4925</td>\n",
       "                        <td id=\"T_bf807_row7_col6\" class=\"data row7 col6\" >0.5116</td>\n",
       "            </tr>\n",
       "            <tr>\n",
       "                        <th id=\"T_bf807_level0_row8\" class=\"row_heading level0 row8\" >8</th>\n",
       "                        <td id=\"T_bf807_row8_col0\" class=\"data row8 col0\" >0.9704</td>\n",
       "                        <td id=\"T_bf807_row8_col1\" class=\"data row8 col1\" >0.9474</td>\n",
       "                        <td id=\"T_bf807_row8_col2\" class=\"data row8 col2\" >0.4062</td>\n",
       "                        <td id=\"T_bf807_row8_col3\" class=\"data row8 col3\" >0.7042</td>\n",
       "                        <td id=\"T_bf807_row8_col4\" class=\"data row8 col4\" >0.5152</td>\n",
       "                        <td id=\"T_bf807_row8_col5\" class=\"data row8 col5\" >0.5011</td>\n",
       "                        <td id=\"T_bf807_row8_col6\" class=\"data row8 col6\" >0.5214</td>\n",
       "            </tr>\n",
       "            <tr>\n",
       "                        <th id=\"T_bf807_level0_row9\" class=\"row_heading level0 row9\" >9</th>\n",
       "                        <td id=\"T_bf807_row9_col0\" class=\"data row9 col0\" >0.9705</td>\n",
       "                        <td id=\"T_bf807_row9_col1\" class=\"data row9 col1\" >0.9498</td>\n",
       "                        <td id=\"T_bf807_row9_col2\" class=\"data row9 col2\" >0.3963</td>\n",
       "                        <td id=\"T_bf807_row9_col3\" class=\"data row9 col3\" >0.7119</td>\n",
       "                        <td id=\"T_bf807_row9_col4\" class=\"data row9 col4\" >0.5092</td>\n",
       "                        <td id=\"T_bf807_row9_col5\" class=\"data row9 col5\" >0.4952</td>\n",
       "                        <td id=\"T_bf807_row9_col6\" class=\"data row9 col6\" >0.5179</td>\n",
       "            </tr>\n",
       "            <tr>\n",
       "                        <th id=\"T_bf807_level0_row10\" class=\"row_heading level0 row10\" >Mean</th>\n",
       "                        <td id=\"T_bf807_row10_col0\" class=\"data row10 col0\" >0.9699</td>\n",
       "                        <td id=\"T_bf807_row10_col1\" class=\"data row10 col1\" >0.9475</td>\n",
       "                        <td id=\"T_bf807_row10_col2\" class=\"data row10 col2\" >0.3946</td>\n",
       "                        <td id=\"T_bf807_row10_col3\" class=\"data row10 col3\" >0.6943</td>\n",
       "                        <td id=\"T_bf807_row10_col4\" class=\"data row10 col4\" >0.5031</td>\n",
       "                        <td id=\"T_bf807_row10_col5\" class=\"data row10 col5\" >0.4887</td>\n",
       "                        <td id=\"T_bf807_row10_col6\" class=\"data row10 col6\" >0.5097</td>\n",
       "            </tr>\n",
       "            <tr>\n",
       "                        <th id=\"T_bf807_level0_row11\" class=\"row_heading level0 row11\" >SD</th>\n",
       "                        <td id=\"T_bf807_row11_col0\" class=\"data row11 col0\" >0.0007</td>\n",
       "                        <td id=\"T_bf807_row11_col1\" class=\"data row11 col1\" >0.0019</td>\n",
       "                        <td id=\"T_bf807_row11_col2\" class=\"data row11 col2\" >0.0109</td>\n",
       "                        <td id=\"T_bf807_row11_col3\" class=\"data row11 col3\" >0.0178</td>\n",
       "                        <td id=\"T_bf807_row11_col4\" class=\"data row11 col4\" >0.0115</td>\n",
       "                        <td id=\"T_bf807_row11_col5\" class=\"data row11 col5\" >0.0117</td>\n",
       "                        <td id=\"T_bf807_row11_col6\" class=\"data row11 col6\" >0.0119</td>\n",
       "            </tr>\n",
       "    </tbody></table>"
      ],
      "text/plain": [
       "<pandas.io.formats.style.Styler at 0x7fd41b0121f0>"
      ]
     },
     "metadata": {},
     "output_type": "display_data"
    },
    {
     "name": "stderr",
     "output_type": "stream",
     "text": [
      "/Library/Frameworks/Python.framework/Versions/3.9/lib/python3.9/site-packages/xgboost/sklearn.py:1146: UserWarning: The use of label encoder in XGBClassifier is deprecated and will be removed in a future release. To remove this warning, do the following: 1) Pass option use_label_encoder=False when constructing XGBClassifier object; and 2) Encode your labels (y) as integers starting with 0, i.e. 0, 1, 2, ..., [num_class - 1].\n",
      "  warnings.warn(label_encoder_deprecation_msg, UserWarning)\n",
      "/Library/Frameworks/Python.framework/Versions/3.9/lib/python3.9/site-packages/xgboost/sklearn.py:1146: UserWarning: The use of label encoder in XGBClassifier is deprecated and will be removed in a future release. To remove this warning, do the following: 1) Pass option use_label_encoder=False when constructing XGBClassifier object; and 2) Encode your labels (y) as integers starting with 0, i.e. 0, 1, 2, ..., [num_class - 1].\n",
      "  warnings.warn(label_encoder_deprecation_msg, UserWarning)\n",
      "/Library/Frameworks/Python.framework/Versions/3.9/lib/python3.9/site-packages/xgboost/sklearn.py:1146: UserWarning: The use of label encoder in XGBClassifier is deprecated and will be removed in a future release. To remove this warning, do the following: 1) Pass option use_label_encoder=False when constructing XGBClassifier object; and 2) Encode your labels (y) as integers starting with 0, i.e. 0, 1, 2, ..., [num_class - 1].\n",
      "  warnings.warn(label_encoder_deprecation_msg, UserWarning)\n",
      "/Library/Frameworks/Python.framework/Versions/3.9/lib/python3.9/site-packages/xgboost/sklearn.py:1146: UserWarning: The use of label encoder in XGBClassifier is deprecated and will be removed in a future release. To remove this warning, do the following: 1) Pass option use_label_encoder=False when constructing XGBClassifier object; and 2) Encode your labels (y) as integers starting with 0, i.e. 0, 1, 2, ..., [num_class - 1].\n",
      "  warnings.warn(label_encoder_deprecation_msg, UserWarning)\n",
      "/Library/Frameworks/Python.framework/Versions/3.9/lib/python3.9/site-packages/xgboost/sklearn.py:1146: UserWarning: The use of label encoder in XGBClassifier is deprecated and will be removed in a future release. To remove this warning, do the following: 1) Pass option use_label_encoder=False when constructing XGBClassifier object; and 2) Encode your labels (y) as integers starting with 0, i.e. 0, 1, 2, ..., [num_class - 1].\n",
      "  warnings.warn(label_encoder_deprecation_msg, UserWarning)\n",
      "/Library/Frameworks/Python.framework/Versions/3.9/lib/python3.9/site-packages/xgboost/sklearn.py:1146: UserWarning: The use of label encoder in XGBClassifier is deprecated and will be removed in a future release. To remove this warning, do the following: 1) Pass option use_label_encoder=False when constructing XGBClassifier object; and 2) Encode your labels (y) as integers starting with 0, i.e. 0, 1, 2, ..., [num_class - 1].\n",
      "  warnings.warn(label_encoder_deprecation_msg, UserWarning)\n",
      "/Library/Frameworks/Python.framework/Versions/3.9/lib/python3.9/site-packages/xgboost/sklearn.py:1146: UserWarning: The use of label encoder in XGBClassifier is deprecated and will be removed in a future release. To remove this warning, do the following: 1) Pass option use_label_encoder=False when constructing XGBClassifier object; and 2) Encode your labels (y) as integers starting with 0, i.e. 0, 1, 2, ..., [num_class - 1].\n",
      "  warnings.warn(label_encoder_deprecation_msg, UserWarning)\n",
      "/Library/Frameworks/Python.framework/Versions/3.9/lib/python3.9/site-packages/xgboost/sklearn.py:1146: UserWarning: The use of label encoder in XGBClassifier is deprecated and will be removed in a future release. To remove this warning, do the following: 1) Pass option use_label_encoder=False when constructing XGBClassifier object; and 2) Encode your labels (y) as integers starting with 0, i.e. 0, 1, 2, ..., [num_class - 1].\n",
      "  warnings.warn(label_encoder_deprecation_msg, UserWarning)\n",
      "/Library/Frameworks/Python.framework/Versions/3.9/lib/python3.9/site-packages/xgboost/sklearn.py:1146: UserWarning: The use of label encoder in XGBClassifier is deprecated and will be removed in a future release. To remove this warning, do the following: 1) Pass option use_label_encoder=False when constructing XGBClassifier object; and 2) Encode your labels (y) as integers starting with 0, i.e. 0, 1, 2, ..., [num_class - 1].\n",
      "  warnings.warn(label_encoder_deprecation_msg, UserWarning)\n",
      "/Library/Frameworks/Python.framework/Versions/3.9/lib/python3.9/site-packages/xgboost/sklearn.py:1146: UserWarning: The use of label encoder in XGBClassifier is deprecated and will be removed in a future release. To remove this warning, do the following: 1) Pass option use_label_encoder=False when constructing XGBClassifier object; and 2) Encode your labels (y) as integers starting with 0, i.e. 0, 1, 2, ..., [num_class - 1].\n",
      "  warnings.warn(label_encoder_deprecation_msg, UserWarning)\n"
     ]
    }
   ],
   "source": [
    "best_model = create_model(model_matrix)\n",
    "final_model = finalize_model(best_model)"
   ]
  },
  {
   "cell_type": "markdown",
   "id": "3aab9021-4462-423a-8e3c-fbe1f36c6110",
   "metadata": {},
   "source": [
    "### Let's load in our 2021 season data and get retention scores using the model:"
   ]
  },
  {
   "cell_type": "code",
   "execution_count": 12,
   "id": "c249a813-c882-4869-9490-6ab766a8c223",
   "metadata": {},
   "outputs": [
    {
     "data": {
      "text/plain": [
       "(201391, 43)"
      ]
     },
     "execution_count": 12,
     "metadata": {},
     "output_type": "execute_result"
    }
   ],
   "source": [
    "df_inference = df.loc[df[\"year\"] >= 2021]\n",
    "df_inference = df_inference.fillna(0)\n",
    "df_inference.shape"
   ]
  },
  {
   "cell_type": "code",
   "execution_count": 13,
   "id": "745b62fb-fb2e-4b4a-9c48-8ce4de472a83",
   "metadata": {},
   "outputs": [
    {
     "data": {
      "text/html": [
       "<div>\n",
       "<style scoped>\n",
       "    .dataframe tbody tr th:only-of-type {\n",
       "        vertical-align: middle;\n",
       "    }\n",
       "\n",
       "    .dataframe tbody tr th {\n",
       "        vertical-align: top;\n",
       "    }\n",
       "\n",
       "    .dataframe thead th {\n",
       "        text-align: right;\n",
       "    }\n",
       "</style>\n",
       "<table border=\"1\" class=\"dataframe\">\n",
       "  <thead>\n",
       "    <tr style=\"text-align: right;\">\n",
       "      <th></th>\n",
       "      <th>lkupClientId</th>\n",
       "      <th>dimCustomerMasterId</th>\n",
       "      <th>dimEventId</th>\n",
       "      <th>inMarket</th>\n",
       "      <th>customerNumber</th>\n",
       "      <th>year</th>\n",
       "      <th>productGrouping</th>\n",
       "      <th>totalSpent</th>\n",
       "      <th>recentDate</th>\n",
       "      <th>attendancePercent</th>\n",
       "      <th>...</th>\n",
       "      <th>outbound_email</th>\n",
       "      <th>outbound_phonecall</th>\n",
       "      <th>phonecall</th>\n",
       "      <th>text</th>\n",
       "      <th>unknown</th>\n",
       "      <th>credits_after_refund</th>\n",
       "      <th>isNextGameBuyer</th>\n",
       "      <th>Label</th>\n",
       "      <th>Score_0</th>\n",
       "      <th>Score_1</th>\n",
       "    </tr>\n",
       "  </thead>\n",
       "  <tbody>\n",
       "    <tr>\n",
       "      <th>960803</th>\n",
       "      <td>53</td>\n",
       "      <td>29</td>\n",
       "      <td>1208</td>\n",
       "      <td>False</td>\n",
       "      <td>233585</td>\n",
       "      <td>2021</td>\n",
       "      <td>Other</td>\n",
       "      <td>326.0</td>\n",
       "      <td>2021-09-06</td>\n",
       "      <td>1.000</td>\n",
       "      <td>...</td>\n",
       "      <td>0</td>\n",
       "      <td>0</td>\n",
       "      <td>0</td>\n",
       "      <td>0</td>\n",
       "      <td>0</td>\n",
       "      <td>0.0</td>\n",
       "      <td>0</td>\n",
       "      <td>0</td>\n",
       "      <td>0.9859</td>\n",
       "      <td>0.0141</td>\n",
       "    </tr>\n",
       "    <tr>\n",
       "      <th>960804</th>\n",
       "      <td>53</td>\n",
       "      <td>33</td>\n",
       "      <td>1342</td>\n",
       "      <td>True</td>\n",
       "      <td>7332655</td>\n",
       "      <td>2021</td>\n",
       "      <td>Other</td>\n",
       "      <td>558.0</td>\n",
       "      <td>2021-08-16</td>\n",
       "      <td>1.000</td>\n",
       "      <td>...</td>\n",
       "      <td>0</td>\n",
       "      <td>0</td>\n",
       "      <td>0</td>\n",
       "      <td>0</td>\n",
       "      <td>0</td>\n",
       "      <td>0.0</td>\n",
       "      <td>0</td>\n",
       "      <td>0</td>\n",
       "      <td>0.9955</td>\n",
       "      <td>0.0045</td>\n",
       "    </tr>\n",
       "    <tr>\n",
       "      <th>960805</th>\n",
       "      <td>53</td>\n",
       "      <td>55</td>\n",
       "      <td>1337</td>\n",
       "      <td>True</td>\n",
       "      <td>15140559</td>\n",
       "      <td>2021</td>\n",
       "      <td>Other</td>\n",
       "      <td>160.0</td>\n",
       "      <td>2021-05-31</td>\n",
       "      <td>0.875</td>\n",
       "      <td>...</td>\n",
       "      <td>0</td>\n",
       "      <td>0</td>\n",
       "      <td>0</td>\n",
       "      <td>0</td>\n",
       "      <td>0</td>\n",
       "      <td>0.0</td>\n",
       "      <td>0</td>\n",
       "      <td>0</td>\n",
       "      <td>0.8931</td>\n",
       "      <td>0.1069</td>\n",
       "    </tr>\n",
       "    <tr>\n",
       "      <th>960806</th>\n",
       "      <td>53</td>\n",
       "      <td>55</td>\n",
       "      <td>1339</td>\n",
       "      <td>True</td>\n",
       "      <td>15140559</td>\n",
       "      <td>2021</td>\n",
       "      <td>Other</td>\n",
       "      <td>440.0</td>\n",
       "      <td>2021-06-05</td>\n",
       "      <td>0.750</td>\n",
       "      <td>...</td>\n",
       "      <td>0</td>\n",
       "      <td>0</td>\n",
       "      <td>0</td>\n",
       "      <td>0</td>\n",
       "      <td>0</td>\n",
       "      <td>0.0</td>\n",
       "      <td>0</td>\n",
       "      <td>0</td>\n",
       "      <td>0.9169</td>\n",
       "      <td>0.0831</td>\n",
       "    </tr>\n",
       "    <tr>\n",
       "      <th>960807</th>\n",
       "      <td>53</td>\n",
       "      <td>58</td>\n",
       "      <td>753</td>\n",
       "      <td>True</td>\n",
       "      <td>7263645</td>\n",
       "      <td>2021</td>\n",
       "      <td>Other</td>\n",
       "      <td>132.0</td>\n",
       "      <td>2021-04-01</td>\n",
       "      <td>0.750</td>\n",
       "      <td>...</td>\n",
       "      <td>0</td>\n",
       "      <td>0</td>\n",
       "      <td>0</td>\n",
       "      <td>0</td>\n",
       "      <td>0</td>\n",
       "      <td>0.0</td>\n",
       "      <td>0</td>\n",
       "      <td>0</td>\n",
       "      <td>0.9647</td>\n",
       "      <td>0.0353</td>\n",
       "    </tr>\n",
       "  </tbody>\n",
       "</table>\n",
       "<p>5 rows × 46 columns</p>\n",
       "</div>"
      ],
      "text/plain": [
       "        lkupClientId  dimCustomerMasterId  dimEventId  inMarket  \\\n",
       "960803            53                   29        1208     False   \n",
       "960804            53                   33        1342      True   \n",
       "960805            53                   55        1337      True   \n",
       "960806            53                   55        1339      True   \n",
       "960807            53                   58         753      True   \n",
       "\n",
       "       customerNumber  year productGrouping  totalSpent  recentDate  \\\n",
       "960803         233585  2021           Other       326.0  2021-09-06   \n",
       "960804        7332655  2021           Other       558.0  2021-08-16   \n",
       "960805       15140559  2021           Other       160.0  2021-05-31   \n",
       "960806       15140559  2021           Other       440.0  2021-06-05   \n",
       "960807        7263645  2021           Other       132.0  2021-04-01   \n",
       "\n",
       "        attendancePercent  ...  outbound_email outbound_phonecall  phonecall  \\\n",
       "960803              1.000  ...               0                  0          0   \n",
       "960804              1.000  ...               0                  0          0   \n",
       "960805              0.875  ...               0                  0          0   \n",
       "960806              0.750  ...               0                  0          0   \n",
       "960807              0.750  ...               0                  0          0   \n",
       "\n",
       "        text  unknown  credits_after_refund  isNextGameBuyer  Label  Score_0  \\\n",
       "960803     0        0                   0.0                0      0   0.9859   \n",
       "960804     0        0                   0.0                0      0   0.9955   \n",
       "960805     0        0                   0.0                0      0   0.8931   \n",
       "960806     0        0                   0.0                0      0   0.9169   \n",
       "960807     0        0                   0.0                0      0   0.9647   \n",
       "\n",
       "        Score_1  \n",
       "960803   0.0141  \n",
       "960804   0.0045  \n",
       "960805   0.1069  \n",
       "960806   0.0831  \n",
       "960807   0.0353  \n",
       "\n",
       "[5 rows x 46 columns]"
      ]
     },
     "execution_count": 13,
     "metadata": {},
     "output_type": "execute_result"
    }
   ],
   "source": [
    "new_predictions = predict_model(final_model, data=df_inference, raw_score=True)\n",
    "new_predictions.head()"
   ]
  },
  {
   "cell_type": "code",
   "execution_count": 14,
   "id": "c98d3de4-966c-4d4a-af8f-e4a2d78eed38",
   "metadata": {},
   "outputs": [
    {
     "data": {
      "text/plain": [
       "0    199216\n",
       "1      2175\n",
       "Name: Label, dtype: int64"
      ]
     },
     "execution_count": 14,
     "metadata": {},
     "output_type": "execute_result"
    }
   ],
   "source": [
    "new_predictions[\"Label\"].value_counts()"
   ]
  },
  {
   "cell_type": "code",
   "execution_count": 15,
   "id": "95e96920-bc9c-4b50-837c-89e392d13449",
   "metadata": {},
   "outputs": [],
   "source": [
    "#new_predictions = new_predictions.loc[new_predictions[\"productGrouping\"] == \"Full Season\"]"
   ]
  },
  {
   "cell_type": "code",
   "execution_count": 16,
   "id": "3b4b1d51-1c33-489a-95f6-ab75e428c760",
   "metadata": {},
   "outputs": [
    {
     "data": {
      "text/plain": [
       "array([[<AxesSubplot:title={'center':'Score_1'}>]], dtype=object)"
      ]
     },
     "execution_count": 16,
     "metadata": {},
     "output_type": "execute_result"
    },
    {
     "data": {
      "image/png": "[encoded data removed]",
      "text/plain": [
       "<Figure size 720x360 with 1 Axes>"
      ]
     },
     "metadata": {
      "needs_background": "light"
     },
     "output_type": "display_data"
    }
   ],
   "source": [
    "new_predictions[new_predictions[\"Label\"]==1][[\"Score_1\"]].hist(bins=30, figsize=(10,5), range=[0,1])"
   ]
  },
  {
   "cell_type": "code",
   "execution_count": 17,
   "id": "144bd27b-9798-4f8b-a3a3-95298d8e2c01",
   "metadata": {},
   "outputs": [
    {
     "data": {
      "image/png": "[encoded data removed]",
      "text/plain": [
       "<Figure size 800x500 with 1 Axes>"
      ]
     },
     "metadata": {},
     "output_type": "display_data"
    }
   ],
   "source": [
    "plot_model(best_model, plot='feature')"
   ]
  },
  {
   "cell_type": "code",
   "execution_count": 18,
   "id": "79e34840-9a47-486f-a648-6d5d16d73b89",
   "metadata": {},
   "outputs": [
    {
     "data": {
      "image/png": "[encoded data removed]",
      "text/plain": [
       "<Figure size 576x396 with 1 Axes>"
      ]
     },
     "metadata": {},
     "output_type": "display_data"
    }
   ],
   "source": [
    "plot_model(best_model, plot='confusion_matrix')"
   ]
  },
  {
   "cell_type": "markdown",
   "id": "a439108b-7911-4384-b089-f7b31c825192",
   "metadata": {},
   "source": [
    "## Observations\n",
    "Here you can document some ideas on the results from above"
   ]
  },
  {
   "cell_type": "markdown",
   "id": "d2de91b5-a1e8-42a5-a087-8c31ff2e1db3",
   "metadata": {},
   "source": [
    "## Conclusions\n",
    "Here you can talk about next steps, did the experiment work? If yes, what to do next? If no, why?"
   ]
  },
  {
   "cell_type": "code",
   "execution_count": null,
   "id": "ea239da3-8648-4883-a4a7-2be9f665c05e",
   "metadata": {},
   "outputs": [],
   "source": []
  }
 ],
 "metadata": {
  "kernelspec": {
   "display_name": "Python 3 (ipykernel)",
   "language": "python",
   "name": "python3"
  },
  "language_info": {
   "codemirror_mode": {
    "name": "ipython",
    "version": 3
   },
   "file_extension": ".py",
   "mimetype": "text/x-python",
   "name": "python",
   "nbconvert_exporter": "python",
   "pygments_lexer": "ipython3",
   "version": "3.9.4"
  }
 },
 "nbformat": 4,
 "nbformat_minor": 5
}
