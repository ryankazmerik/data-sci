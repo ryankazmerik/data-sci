{
 "cells": [
  {
   "cell_type": "markdown",
   "id": "6ee08766-25fd-4da1-91b8-b0c3e74db588",
   "metadata": {},
   "source": [
    "# Yankees - Propensity Event- InsertData\n",
    "* StelllarAlgo Data Science\n",
    "* Ryan Kazmerik & Nakisa Rad\n",
    "* Feb 02, 2022"
   ]
  },
  {
   "cell_type": "markdown",
   "id": "39108c8d-2e9f-4759-ade2-83071038dc56",
   "metadata": {},
   "source": [
    "## Hypothesis\n"
   ]
  },
  {
   "cell_type": "markdown",
   "id": "28142011-1f32-4cc7-816b-a6dae6f70c8c",
   "metadata": {},
   "source": [
    "## Experiment\n",
    "This section details our experiment including querying data, data transformations, feature selection and modelling."
   ]
  },
  {
   "cell_type": "code",
   "execution_count": 17,
   "id": "4c533efd-600e-4bce-8203-faffbddfa700",
   "metadata": {},
   "outputs": [],
   "source": [
    "#import psycopg2\n",
    "import numpy as np\n",
    "import pandas as pd\n",
    "import xgboost as xgb\n",
    "from sklearn.model_selection import train_test_split\n",
    "from sklearn.metrics import balanced_accuracy_score, roc_auc_score, make_scorer\n",
    "from sklearn.model_selection import GridSearchCV #cross validation\n",
    "from sklearn.metrics import accuracy_score, confusion_matrix\n",
    "from sklearn.metrics import plot_confusion_matrix\n",
    "import datetime\n",
    "import pyodbc\n",
    "import sys\n",
    "import warnings\n",
    "if not sys.warnoptions:\n",
    "    warnings.simplefilter(\"ignore\")\n",
    "import getpass"
   ]
  },
  {
   "cell_type": "markdown",
   "id": "b64ae7d5-84af-4915-bd13-1dd9d17098a3",
   "metadata": {},
   "source": [
    "### Let's connect to MSSQL and run a stored proc to get our dataset:"
   ]
  },
  {
   "cell_type": "code",
   "execution_count": 18,
   "id": "ae561eb4-f419-4d46-b5e0-12fac9b10db8",
   "metadata": {},
   "outputs": [],
   "source": [
    "# connect to SQL Server.\n",
    "SERVER = '54.164.224.129'  \n",
    "DATABASE = 'stlrRays' \n",
    "USERNAME = 'nrad' \n",
    "PASSWORD = 'Y34@PSc^n@JAG=4%p8194'#getpass.getpass(prompt='Enter your password')\n",
    "CNXN = pyodbc.connect('DRIVER={ODBC Driver 17 for SQL Server};SERVER='+SERVER+';DATABASE='+DATABASE+';UID='+USERNAME+';PWD='+ PASSWORD)"
   ]
  },
  {
   "cell_type": "code",
   "execution_count": 19,
   "id": "af1afe7d-a35b-494b-88f3-980fb0e3da30",
   "metadata": {},
   "outputs": [
    {
     "data": {
      "text/plain": [
       "(1065064, 46)"
      ]
     },
     "execution_count": 19,
     "metadata": {},
     "output_type": "execute_result"
    }
   ],
   "source": [
    "lkupclientid = 53 # Yankees\n",
    "\n",
    "cursor = CNXN.cursor()\n",
    "\n",
    "storedProc = (\n",
    "    f\"\"\"Exec [stlrYankees].[ds].[getPropensityEventScoring] {lkupclientid}\"\"\"\n",
    ")\n",
    "\n",
    "df = pd.read_sql(storedProc, CNXN)\n",
    "\n",
    "# apply some data transformations\n",
    "df[\"year\"] = pd.to_numeric(df[\"year\"]) \n",
    "\n",
    "CNXN.commit()\n",
    "cursor.close()\n",
    "\n",
    "df.shape"
   ]
  },
  {
   "cell_type": "code",
   "execution_count": 21,
   "id": "11e97dcc-c69e-46c1-8dad-33f6291cb0c6",
   "metadata": {},
   "outputs": [
    {
     "name": "stdout",
     "output_type": "stream",
     "text": [
      "<class 'pandas.core.frame.DataFrame'>\n",
      "RangeIndex: 1065064 entries, 0 to 1065063\n",
      "Data columns (total 46 columns):\n",
      " #   Column                  Non-Null Count    Dtype  \n",
      "---  ------                  --------------    -----  \n",
      " 0   lkupClientId            1065064 non-null  int64  \n",
      " 1   dimCustomerMasterId     1065064 non-null  int64  \n",
      " 2   dimEventId              1065064 non-null  int64  \n",
      " 3   inMarket                1065064 non-null  int64  \n",
      " 4   customerNumber          1065064 non-null  object \n",
      " 5   year                    1065064 non-null  int64  \n",
      " 6   productGrouping         1065064 non-null  object \n",
      " 7   Tier                    1065064 non-null  int64  \n",
      " 8   eventDay                1065064 non-null  int64  \n",
      " 9   totalSpent              1065064 non-null  float64\n",
      " 10  recentDate              1065064 non-null  object \n",
      " 11  attendancePercent       1065064 non-null  float64\n",
      " 12  renewedBeforeDays       1065064 non-null  int64  \n",
      " 13  isBuyer                 1065064 non-null  object \n",
      " 14  source_tenure           1065064 non-null  int64  \n",
      " 15  tenure                  1065064 non-null  int64  \n",
      " 16  distToVenue             1065064 non-null  float64\n",
      " 17  totalGames              1065064 non-null  int64  \n",
      " 18  recency                 1065064 non-null  int64  \n",
      " 19  click_link              1065064 non-null  int64  \n",
      " 20  fill_out_form           1065064 non-null  int64  \n",
      " 21  open_email              1065064 non-null  int64  \n",
      " 22  send_email              1065064 non-null  int64  \n",
      " 23  unsubscribe_email       1065064 non-null  int64  \n",
      " 24  openToSendRatio         1065064 non-null  float64\n",
      " 25  clickToSendRatio        1065064 non-null  float64\n",
      " 26  clickToOpenRatio        1065064 non-null  float64\n",
      " 27  posting_records         1065064 non-null  int64  \n",
      " 28  resale_records          1065064 non-null  int64  \n",
      " 29  resale_atp              1065064 non-null  float64\n",
      " 30  forward_records         1065064 non-null  int64  \n",
      " 31  cancel_records          1065064 non-null  int64  \n",
      " 32  email                   1065064 non-null  int64  \n",
      " 33  inbound_email           1065064 non-null  int64  \n",
      " 34  inbound_phonecall       1065064 non-null  int64  \n",
      " 35  inperson_contact        1065064 non-null  int64  \n",
      " 36  internal_note           1065064 non-null  int64  \n",
      " 37  left_message            1065064 non-null  int64  \n",
      " 38  outbound_email          1065064 non-null  int64  \n",
      " 39  outbound_phonecall      1065064 non-null  int64  \n",
      " 40  phonecall               1065064 non-null  int64  \n",
      " 41  text                    1065064 non-null  int64  \n",
      " 42  unknown                 1065064 non-null  int64  \n",
      " 43  credits_after_refund    1065064 non-null  float64\n",
      " 44  NumberofGamesPerSeason  1065064 non-null  int64  \n",
      " 45  isNextGameBuyer         1065064 non-null  int64  \n",
      "dtypes: float64(8), int64(34), object(4)\n",
      "memory usage: 373.8+ MB\n"
     ]
    }
   ],
   "source": [
    "df.info()"
   ]
  },
  {
   "cell_type": "code",
   "execution_count": 22,
   "id": "ebdb754d-8c99-4816-8ede-955f3abddbf7",
   "metadata": {},
   "outputs": [
    {
     "data": {
      "text/html": [
       "<div>\n",
       "<style scoped>\n",
       "    .dataframe tbody tr th:only-of-type {\n",
       "        vertical-align: middle;\n",
       "    }\n",
       "\n",
       "    .dataframe tbody tr th {\n",
       "        vertical-align: top;\n",
       "    }\n",
       "\n",
       "    .dataframe thead th {\n",
       "        text-align: right;\n",
       "    }\n",
       "</style>\n",
       "<table border=\"1\" class=\"dataframe\">\n",
       "  <thead>\n",
       "    <tr style=\"text-align: right;\">\n",
       "      <th></th>\n",
       "      <th>lkupClientId</th>\n",
       "      <th>dimCustomerMasterId</th>\n",
       "      <th>dimEventId</th>\n",
       "      <th>inMarket</th>\n",
       "      <th>customerNumber</th>\n",
       "      <th>year</th>\n",
       "      <th>productGrouping</th>\n",
       "      <th>Tier</th>\n",
       "      <th>eventDay</th>\n",
       "      <th>totalSpent</th>\n",
       "      <th>...</th>\n",
       "      <th>internal_note</th>\n",
       "      <th>left_message</th>\n",
       "      <th>outbound_email</th>\n",
       "      <th>outbound_phonecall</th>\n",
       "      <th>phonecall</th>\n",
       "      <th>text</th>\n",
       "      <th>unknown</th>\n",
       "      <th>credits_after_refund</th>\n",
       "      <th>NumberofGamesPerSeason</th>\n",
       "      <th>isNextGameBuyer</th>\n",
       "    </tr>\n",
       "  </thead>\n",
       "  <tbody>\n",
       "    <tr>\n",
       "      <th>0</th>\n",
       "      <td>53</td>\n",
       "      <td>23</td>\n",
       "      <td>414</td>\n",
       "      <td>0</td>\n",
       "      <td>4131869</td>\n",
       "      <td>2017</td>\n",
       "      <td>Online Individual Game</td>\n",
       "      <td>4</td>\n",
       "      <td>5</td>\n",
       "      <td>92.0</td>\n",
       "      <td>...</td>\n",
       "      <td>0</td>\n",
       "      <td>0</td>\n",
       "      <td>0</td>\n",
       "      <td>0</td>\n",
       "      <td>0</td>\n",
       "      <td>0</td>\n",
       "      <td>0</td>\n",
       "      <td>0.0</td>\n",
       "      <td>79</td>\n",
       "      <td>0</td>\n",
       "    </tr>\n",
       "    <tr>\n",
       "      <th>1</th>\n",
       "      <td>53</td>\n",
       "      <td>169</td>\n",
       "      <td>414</td>\n",
       "      <td>1</td>\n",
       "      <td>22170392</td>\n",
       "      <td>2017</td>\n",
       "      <td>Online Individual Game</td>\n",
       "      <td>4</td>\n",
       "      <td>5</td>\n",
       "      <td>600.0</td>\n",
       "      <td>...</td>\n",
       "      <td>0</td>\n",
       "      <td>0</td>\n",
       "      <td>0</td>\n",
       "      <td>0</td>\n",
       "      <td>0</td>\n",
       "      <td>0</td>\n",
       "      <td>0</td>\n",
       "      <td>0.0</td>\n",
       "      <td>79</td>\n",
       "      <td>0</td>\n",
       "    </tr>\n",
       "    <tr>\n",
       "      <th>2</th>\n",
       "      <td>53</td>\n",
       "      <td>169</td>\n",
       "      <td>586</td>\n",
       "      <td>1</td>\n",
       "      <td>22170392</td>\n",
       "      <td>2017</td>\n",
       "      <td>Online Individual Game</td>\n",
       "      <td>3</td>\n",
       "      <td>6</td>\n",
       "      <td>550.0</td>\n",
       "      <td>...</td>\n",
       "      <td>0</td>\n",
       "      <td>0</td>\n",
       "      <td>0</td>\n",
       "      <td>0</td>\n",
       "      <td>0</td>\n",
       "      <td>0</td>\n",
       "      <td>0</td>\n",
       "      <td>0.0</td>\n",
       "      <td>79</td>\n",
       "      <td>0</td>\n",
       "    </tr>\n",
       "    <tr>\n",
       "      <th>3</th>\n",
       "      <td>53</td>\n",
       "      <td>169</td>\n",
       "      <td>656</td>\n",
       "      <td>1</td>\n",
       "      <td>22170392</td>\n",
       "      <td>2017</td>\n",
       "      <td>Online Individual Game</td>\n",
       "      <td>2</td>\n",
       "      <td>6</td>\n",
       "      <td>1040.0</td>\n",
       "      <td>...</td>\n",
       "      <td>0</td>\n",
       "      <td>0</td>\n",
       "      <td>0</td>\n",
       "      <td>0</td>\n",
       "      <td>0</td>\n",
       "      <td>0</td>\n",
       "      <td>0</td>\n",
       "      <td>0.0</td>\n",
       "      <td>79</td>\n",
       "      <td>0</td>\n",
       "    </tr>\n",
       "    <tr>\n",
       "      <th>4</th>\n",
       "      <td>53</td>\n",
       "      <td>218</td>\n",
       "      <td>618</td>\n",
       "      <td>0</td>\n",
       "      <td>15919851</td>\n",
       "      <td>2017</td>\n",
       "      <td>Online Individual Game</td>\n",
       "      <td>2</td>\n",
       "      <td>6</td>\n",
       "      <td>260.0</td>\n",
       "      <td>...</td>\n",
       "      <td>0</td>\n",
       "      <td>0</td>\n",
       "      <td>0</td>\n",
       "      <td>0</td>\n",
       "      <td>0</td>\n",
       "      <td>0</td>\n",
       "      <td>0</td>\n",
       "      <td>0.0</td>\n",
       "      <td>79</td>\n",
       "      <td>0</td>\n",
       "    </tr>\n",
       "  </tbody>\n",
       "</table>\n",
       "<p>5 rows × 46 columns</p>\n",
       "</div>"
      ],
      "text/plain": [
       "   lkupClientId  dimCustomerMasterId  dimEventId  inMarket customerNumber  \\\n",
       "0            53                   23         414         0        4131869   \n",
       "1            53                  169         414         1       22170392   \n",
       "2            53                  169         586         1       22170392   \n",
       "3            53                  169         656         1       22170392   \n",
       "4            53                  218         618         0       15919851   \n",
       "\n",
       "   year         productGrouping  Tier  eventDay  totalSpent  ...  \\\n",
       "0  2017  Online Individual Game     4         5        92.0  ...   \n",
       "1  2017  Online Individual Game     4         5       600.0  ...   \n",
       "2  2017  Online Individual Game     3         6       550.0  ...   \n",
       "3  2017  Online Individual Game     2         6      1040.0  ...   \n",
       "4  2017  Online Individual Game     2         6       260.0  ...   \n",
       "\n",
       "  internal_note  left_message  outbound_email outbound_phonecall  phonecall  \\\n",
       "0             0             0               0                  0          0   \n",
       "1             0             0               0                  0          0   \n",
       "2             0             0               0                  0          0   \n",
       "3             0             0               0                  0          0   \n",
       "4             0             0               0                  0          0   \n",
       "\n",
       "   text  unknown  credits_after_refund  NumberofGamesPerSeason  \\\n",
       "0     0        0                   0.0                      79   \n",
       "1     0        0                   0.0                      79   \n",
       "2     0        0                   0.0                      79   \n",
       "3     0        0                   0.0                      79   \n",
       "4     0        0                   0.0                      79   \n",
       "\n",
       "   isNextGameBuyer  \n",
       "0                0  \n",
       "1                0  \n",
       "2                0  \n",
       "3                0  \n",
       "4                0  \n",
       "\n",
       "[5 rows x 46 columns]"
      ]
     },
     "execution_count": 22,
     "metadata": {},
     "output_type": "execute_result"
    }
   ],
   "source": [
    "dfyear = df[df[\"year\"] <= 2019]\n",
    "dfyear.head()"
   ]
  },
  {
   "cell_type": "code",
   "execution_count": 23,
   "id": "172e5f91-de3c-4518-a2c2-b97efff0eb2d",
   "metadata": {},
   "outputs": [
    {
     "data": {
      "text/plain": [
       "array([2017, 2018, 2019])"
      ]
     },
     "execution_count": 23,
     "metadata": {},
     "output_type": "execute_result"
    }
   ],
   "source": [
    "dfyear['year'].unique()"
   ]
  },
  {
   "cell_type": "code",
   "execution_count": 24,
   "id": "06df2db8-0f36-48db-93c4-5182ac3a1315",
   "metadata": {},
   "outputs": [
    {
     "data": {
      "text/html": [
       "<div>\n",
       "<style scoped>\n",
       "    .dataframe tbody tr th:only-of-type {\n",
       "        vertical-align: middle;\n",
       "    }\n",
       "\n",
       "    .dataframe tbody tr th {\n",
       "        vertical-align: top;\n",
       "    }\n",
       "\n",
       "    .dataframe thead th {\n",
       "        text-align: right;\n",
       "    }\n",
       "</style>\n",
       "<table border=\"1\" class=\"dataframe\">\n",
       "  <thead>\n",
       "    <tr style=\"text-align: right;\">\n",
       "      <th></th>\n",
       "      <th>dimCustomerMasterId</th>\n",
       "      <th>inMarket</th>\n",
       "      <th>attendancePercent</th>\n",
       "      <th>renewedBeforeDays</th>\n",
       "      <th>source_tenure</th>\n",
       "      <th>tenure</th>\n",
       "      <th>distToVenue</th>\n",
       "      <th>totalGames</th>\n",
       "      <th>recency</th>\n",
       "      <th>click_link</th>\n",
       "      <th>fill_out_form</th>\n",
       "      <th>open_email</th>\n",
       "      <th>send_email</th>\n",
       "      <th>unsubscribe_email</th>\n",
       "      <th>openToSendRatio</th>\n",
       "      <th>clickToSendRatio</th>\n",
       "      <th>clickToOpenRatio</th>\n",
       "      <th>eventDay</th>\n",
       "      <th>Tier</th>\n",
       "    </tr>\n",
       "  </thead>\n",
       "  <tbody>\n",
       "    <tr>\n",
       "      <th>0</th>\n",
       "      <td>23</td>\n",
       "      <td>0</td>\n",
       "      <td>1.0</td>\n",
       "      <td>0</td>\n",
       "      <td>1825</td>\n",
       "      <td>0</td>\n",
       "      <td>42.69</td>\n",
       "      <td>2</td>\n",
       "      <td>0</td>\n",
       "      <td>0</td>\n",
       "      <td>0</td>\n",
       "      <td>102</td>\n",
       "      <td>825</td>\n",
       "      <td>0</td>\n",
       "      <td>0.123636</td>\n",
       "      <td>0.000000</td>\n",
       "      <td>0.000000</td>\n",
       "      <td>5</td>\n",
       "      <td>4</td>\n",
       "    </tr>\n",
       "    <tr>\n",
       "      <th>1</th>\n",
       "      <td>169</td>\n",
       "      <td>1</td>\n",
       "      <td>1.0</td>\n",
       "      <td>53</td>\n",
       "      <td>3650</td>\n",
       "      <td>53</td>\n",
       "      <td>21.11</td>\n",
       "      <td>5</td>\n",
       "      <td>0</td>\n",
       "      <td>0</td>\n",
       "      <td>0</td>\n",
       "      <td>0</td>\n",
       "      <td>0</td>\n",
       "      <td>0</td>\n",
       "      <td>0.000000</td>\n",
       "      <td>0.000000</td>\n",
       "      <td>0.000000</td>\n",
       "      <td>5</td>\n",
       "      <td>4</td>\n",
       "    </tr>\n",
       "    <tr>\n",
       "      <th>2</th>\n",
       "      <td>169</td>\n",
       "      <td>1</td>\n",
       "      <td>1.0</td>\n",
       "      <td>5</td>\n",
       "      <td>3650</td>\n",
       "      <td>54</td>\n",
       "      <td>21.11</td>\n",
       "      <td>5</td>\n",
       "      <td>0</td>\n",
       "      <td>0</td>\n",
       "      <td>0</td>\n",
       "      <td>0</td>\n",
       "      <td>0</td>\n",
       "      <td>0</td>\n",
       "      <td>0.000000</td>\n",
       "      <td>0.000000</td>\n",
       "      <td>0.000000</td>\n",
       "      <td>6</td>\n",
       "      <td>3</td>\n",
       "    </tr>\n",
       "    <tr>\n",
       "      <th>3</th>\n",
       "      <td>169</td>\n",
       "      <td>1</td>\n",
       "      <td>1.0</td>\n",
       "      <td>1</td>\n",
       "      <td>3650</td>\n",
       "      <td>96</td>\n",
       "      <td>21.11</td>\n",
       "      <td>5</td>\n",
       "      <td>0</td>\n",
       "      <td>0</td>\n",
       "      <td>0</td>\n",
       "      <td>0</td>\n",
       "      <td>0</td>\n",
       "      <td>0</td>\n",
       "      <td>0.000000</td>\n",
       "      <td>0.000000</td>\n",
       "      <td>0.000000</td>\n",
       "      <td>6</td>\n",
       "      <td>2</td>\n",
       "    </tr>\n",
       "    <tr>\n",
       "      <th>4</th>\n",
       "      <td>218</td>\n",
       "      <td>0</td>\n",
       "      <td>1.0</td>\n",
       "      <td>122</td>\n",
       "      <td>4380</td>\n",
       "      <td>122</td>\n",
       "      <td>46.45</td>\n",
       "      <td>2</td>\n",
       "      <td>0</td>\n",
       "      <td>36</td>\n",
       "      <td>0</td>\n",
       "      <td>84</td>\n",
       "      <td>888</td>\n",
       "      <td>0</td>\n",
       "      <td>0.094595</td>\n",
       "      <td>0.040541</td>\n",
       "      <td>0.428571</td>\n",
       "      <td>6</td>\n",
       "      <td>2</td>\n",
       "    </tr>\n",
       "  </tbody>\n",
       "</table>\n",
       "</div>"
      ],
      "text/plain": [
       "   dimCustomerMasterId  inMarket  attendancePercent  renewedBeforeDays  \\\n",
       "0                   23         0                1.0                  0   \n",
       "1                  169         1                1.0                 53   \n",
       "2                  169         1                1.0                  5   \n",
       "3                  169         1                1.0                  1   \n",
       "4                  218         0                1.0                122   \n",
       "\n",
       "   source_tenure  tenure  distToVenue  totalGames  recency  click_link  \\\n",
       "0           1825       0        42.69           2        0           0   \n",
       "1           3650      53        21.11           5        0           0   \n",
       "2           3650      54        21.11           5        0           0   \n",
       "3           3650      96        21.11           5        0           0   \n",
       "4           4380     122        46.45           2        0          36   \n",
       "\n",
       "   fill_out_form  open_email  send_email  unsubscribe_email  openToSendRatio  \\\n",
       "0              0         102         825                  0         0.123636   \n",
       "1              0           0           0                  0         0.000000   \n",
       "2              0           0           0                  0         0.000000   \n",
       "3              0           0           0                  0         0.000000   \n",
       "4              0          84         888                  0         0.094595   \n",
       "\n",
       "   clickToSendRatio  clickToOpenRatio  eventDay  Tier  \n",
       "0          0.000000          0.000000         5     4  \n",
       "1          0.000000          0.000000         5     4  \n",
       "2          0.000000          0.000000         6     3  \n",
       "3          0.000000          0.000000         6     2  \n",
       "4          0.040541          0.428571         6     2  "
      ]
     },
     "execution_count": 24,
     "metadata": {},
     "output_type": "execute_result"
    }
   ],
   "source": [
    "df3 = dfyear[[\"dimCustomerMasterId\",\n",
    "        \"inMarket\",\n",
    "        \"attendancePercent\",\n",
    "        \"renewedBeforeDays\",\n",
    "        \"source_tenure\",\n",
    "        \"tenure\",\n",
    "        \"distToVenue\",\n",
    "        \"totalGames\",\n",
    "        \"recency\",\n",
    "        \"click_link\",\n",
    "        \"fill_out_form\",\n",
    "        \"open_email\" ,\n",
    "        \"send_email\",\n",
    "        \"unsubscribe_email\",\n",
    "        \"openToSendRatio\",\n",
    "        \"clickToSendRatio\",\n",
    "        \"clickToOpenRatio\",\n",
    "        \"eventDay\",\n",
    "        \"Tier\"]]\n",
    "df3.head()"
   ]
  },
  {
   "cell_type": "code",
   "execution_count": 25,
   "id": "917aa611-6772-4606-9453-de5accde0bef",
   "metadata": {},
   "outputs": [],
   "source": [
    "df3['dimCustomerMasterId']= pd.to_numeric(df3['dimCustomerMasterId'])\n",
    "df3['attendancePercent']= pd.to_numeric(df3['attendancePercent'])\n",
    "df3['distToVenue']= pd.to_numeric(df3['distToVenue'])\n",
    "df3['clickToOpenRatio']= pd.to_numeric(df3['clickToOpenRatio'])\n",
    "df3['clickToSendRatio']= pd.to_numeric(df3['clickToSendRatio'])\n",
    "df3['openToSendRatio']= pd.to_numeric(df3['openToSendRatio'])"
   ]
  },
  {
   "cell_type": "code",
   "execution_count": 28,
   "id": "739a9d15-323a-41ec-aa4e-df0e27b62371",
   "metadata": {},
   "outputs": [
    {
     "name": "stdout",
     "output_type": "stream",
     "text": [
      "<class 'pandas.core.frame.DataFrame'>\n",
      "Int64Index: 888829 entries, 0 to 888828\n",
      "Data columns (total 19 columns):\n",
      " #   Column               Non-Null Count   Dtype  \n",
      "---  ------               --------------   -----  \n",
      " 0   dimCustomerMasterId  888829 non-null  int64  \n",
      " 1   inMarket             888829 non-null  int64  \n",
      " 2   attendancePercent    888829 non-null  float64\n",
      " 3   renewedBeforeDays    888829 non-null  int64  \n",
      " 4   source_tenure        888829 non-null  int64  \n",
      " 5   tenure               888829 non-null  int64  \n",
      " 6   distToVenue          888829 non-null  float64\n",
      " 7   totalGames           888829 non-null  int64  \n",
      " 8   recency              888829 non-null  int64  \n",
      " 9   click_link           888829 non-null  int64  \n",
      " 10  fill_out_form        888829 non-null  int64  \n",
      " 11  open_email           888829 non-null  int64  \n",
      " 12  send_email           888829 non-null  int64  \n",
      " 13  unsubscribe_email    888829 non-null  int64  \n",
      " 14  openToSendRatio      888829 non-null  float64\n",
      " 15  clickToSendRatio     888829 non-null  float64\n",
      " 16  clickToOpenRatio     888829 non-null  float64\n",
      " 17  eventDay             888829 non-null  int64  \n",
      " 18  Tier                 888829 non-null  int64  \n",
      "dtypes: float64(5), int64(14)\n",
      "memory usage: 135.6 MB\n"
     ]
    }
   ],
   "source": [
    "df3.info()"
   ]
  },
  {
   "cell_type": "code",
   "execution_count": 26,
   "id": "d258cd40-9506-4749-9d6d-e3b73fb5f961",
   "metadata": {},
   "outputs": [],
   "source": [
    "X = df3.drop(['Tier'], axis=1).copy()\n",
    "y = df3['Tier'].copy()"
   ]
  },
  {
   "cell_type": "code",
   "execution_count": 27,
   "id": "a9b61115-d08f-4f9a-bd8a-49d24b288ecc",
   "metadata": {},
   "outputs": [
    {
     "name": "stdout",
     "output_type": "stream",
     "text": [
      "[12:02:47] WARNING: /Users/travis/build/dmlc/xgboost/src/learner.cc:573: \n",
      "Parameters: { \"lear_rate\", \"scale_pos_weight\" } might not be used.\n",
      "\n",
      "  This may not be accurate due to some parameters are only used in language bindings but\n",
      "  passed down to XGBoost core.  Or some parameters are not used but slip through this\n",
      "  verification. Please open an issue if you find above cases.\n",
      "\n",
      "\n"
     ]
    },
    {
     "ename": "XGBoostError",
     "evalue": "[12:02:49] /Users/travis/build/dmlc/xgboost/src/metric/rank_metric.cc:507: Check failed: preds.Size() == info.labels_.Size() (4444145 vs. 888829) : label size predict size not match\nStack trace:\n  [bt] (0) 1   libxgboost.dylib                    0x000000013efa8de4 dmlc::LogMessageFatal::~LogMessageFatal() + 116\n  [bt] (1) 2   libxgboost.dylib                    0x000000013f08e2b9 xgboost::metric::EvalAucPR::Eval(xgboost::HostDeviceVector<float> const&, xgboost::MetaInfo const&, bool) + 537\n  [bt] (2) 3   libxgboost.dylib                    0x000000013f05b983 xgboost::LearnerImpl::EvalOneIter(int, std::__1::vector<std::__1::shared_ptr<xgboost::DMatrix>, std::__1::allocator<std::__1::shared_ptr<xgboost::DMatrix> > > const&, std::__1::vector<std::__1::basic_string<char, std::__1::char_traits<char>, std::__1::allocator<char> >, std::__1::allocator<std::__1::basic_string<char, std::__1::char_traits<char>, std::__1::allocator<char> > > > const&) + 2355\n  [bt] (3) 4   libxgboost.dylib                    0x000000013efa022c XGBoosterEvalOneIter + 572\n  [bt] (4) 5   libffi.dylib                        0x00007fff2dbb08f5 ffi_call_unix64 + 85\n  [bt] (5) 6   ???                                 0x00007ffee78198e0 0x0 + 140732782450912\n\n",
     "output_type": "error",
     "traceback": [
      "\u001b[0;31m---------------------------------------------------------------------------\u001b[0m",
      "\u001b[0;31mXGBoostError\u001b[0m                              Traceback (most recent call last)",
      "\u001b[0;32m/var/folders/1z/ymtyx_zx7r168ctyc23cfmbh0000gn/T/ipykernel_43167/3473516602.py\u001b[0m in \u001b[0;36m<module>\u001b[0;34m\u001b[0m\n\u001b[1;32m      1\u001b[0m \u001b[0mclf\u001b[0m\u001b[0;34m=\u001b[0m \u001b[0mxgb\u001b[0m\u001b[0;34m.\u001b[0m\u001b[0mXGBClassifier\u001b[0m\u001b[0;34m(\u001b[0m\u001b[0mobjective\u001b[0m\u001b[0;34m=\u001b[0m\u001b[0;34m'binary:logistic'\u001b[0m\u001b[0;34m,\u001b[0m\u001b[0mseed\u001b[0m\u001b[0;34m=\u001b[0m\u001b[0;36m42\u001b[0m\u001b[0;34m,\u001b[0m\u001b[0mgamma\u001b[0m\u001b[0;34m=\u001b[0m\u001b[0;36m0.25\u001b[0m\u001b[0;34m,\u001b[0m\u001b[0mlear_rate\u001b[0m\u001b[0;34m=\u001b[0m\u001b[0;36m0.1\u001b[0m\u001b[0;34m,\u001b[0m\u001b[0mmax_depth\u001b[0m\u001b[0;34m=\u001b[0m\u001b[0;36m6\u001b[0m\u001b[0;34m,\u001b[0m\u001b[0mreg_lambda\u001b[0m\u001b[0;34m=\u001b[0m\u001b[0;36m20\u001b[0m\u001b[0;34m,\u001b[0m\u001b[0mscale_pos_weight\u001b[0m\u001b[0;34m=\u001b[0m\u001b[0;36m3\u001b[0m\u001b[0;34m,\u001b[0m\u001b[0msubsample\u001b[0m\u001b[0;34m=\u001b[0m\u001b[0;36m0.9\u001b[0m\u001b[0;34m,\u001b[0m\u001b[0mcolsample_bytree\u001b[0m\u001b[0;34m=\u001b[0m\u001b[0;36m0.5\u001b[0m\u001b[0;34m)\u001b[0m\u001b[0;34m\u001b[0m\u001b[0;34m\u001b[0m\u001b[0m\n\u001b[0;32m----> 2\u001b[0;31m \u001b[0mclf\u001b[0m\u001b[0;34m.\u001b[0m\u001b[0mfit\u001b[0m\u001b[0;34m(\u001b[0m\u001b[0mX\u001b[0m\u001b[0;34m,\u001b[0m\u001b[0my\u001b[0m\u001b[0;34m,\u001b[0m\u001b[0mverbose\u001b[0m\u001b[0;34m=\u001b[0m\u001b[0;32mTrue\u001b[0m\u001b[0;34m,\u001b[0m\u001b[0mearly_stopping_rounds\u001b[0m\u001b[0;34m=\u001b[0m\u001b[0;36m10\u001b[0m\u001b[0;34m,\u001b[0m\u001b[0meval_metric\u001b[0m\u001b[0;34m=\u001b[0m\u001b[0;34m'aucpr'\u001b[0m\u001b[0;34m,\u001b[0m\u001b[0meval_set\u001b[0m\u001b[0;34m=\u001b[0m\u001b[0;34m[\u001b[0m\u001b[0;34m(\u001b[0m\u001b[0mX\u001b[0m\u001b[0;34m,\u001b[0m\u001b[0my\u001b[0m\u001b[0;34m)\u001b[0m\u001b[0;34m]\u001b[0m\u001b[0;34m)\u001b[0m\u001b[0;34m\u001b[0m\u001b[0;34m\u001b[0m\u001b[0m\n\u001b[0m",
      "\u001b[0;32m/Library/Frameworks/Python.framework/Versions/3.9/lib/python3.9/site-packages/xgboost/core.py\u001b[0m in \u001b[0;36minner_f\u001b[0;34m(*args, **kwargs)\u001b[0m\n\u001b[1;32m    434\u001b[0m         \u001b[0;32mfor\u001b[0m \u001b[0mk\u001b[0m\u001b[0;34m,\u001b[0m \u001b[0marg\u001b[0m \u001b[0;32min\u001b[0m \u001b[0mzip\u001b[0m\u001b[0;34m(\u001b[0m\u001b[0msig\u001b[0m\u001b[0;34m.\u001b[0m\u001b[0mparameters\u001b[0m\u001b[0;34m,\u001b[0m \u001b[0margs\u001b[0m\u001b[0;34m)\u001b[0m\u001b[0;34m:\u001b[0m\u001b[0;34m\u001b[0m\u001b[0;34m\u001b[0m\u001b[0m\n\u001b[1;32m    435\u001b[0m             \u001b[0mkwargs\u001b[0m\u001b[0;34m[\u001b[0m\u001b[0mk\u001b[0m\u001b[0;34m]\u001b[0m \u001b[0;34m=\u001b[0m \u001b[0marg\u001b[0m\u001b[0;34m\u001b[0m\u001b[0;34m\u001b[0m\u001b[0m\n\u001b[0;32m--> 436\u001b[0;31m         \u001b[0;32mreturn\u001b[0m \u001b[0mf\u001b[0m\u001b[0;34m(\u001b[0m\u001b[0;34m**\u001b[0m\u001b[0mkwargs\u001b[0m\u001b[0;34m)\u001b[0m\u001b[0;34m\u001b[0m\u001b[0;34m\u001b[0m\u001b[0m\n\u001b[0m\u001b[1;32m    437\u001b[0m \u001b[0;34m\u001b[0m\u001b[0m\n\u001b[1;32m    438\u001b[0m     \u001b[0;32mreturn\u001b[0m \u001b[0minner_f\u001b[0m\u001b[0;34m\u001b[0m\u001b[0;34m\u001b[0m\u001b[0m\n",
      "\u001b[0;32m/Library/Frameworks/Python.framework/Versions/3.9/lib/python3.9/site-packages/xgboost/sklearn.py\u001b[0m in \u001b[0;36mfit\u001b[0;34m(self, X, y, sample_weight, base_margin, eval_set, eval_metric, early_stopping_rounds, verbose, xgb_model, sample_weight_eval_set, base_margin_eval_set, feature_weights, callbacks)\u001b[0m\n\u001b[1;32m   1174\u001b[0m         )\n\u001b[1;32m   1175\u001b[0m \u001b[0;34m\u001b[0m\u001b[0m\n\u001b[0;32m-> 1176\u001b[0;31m         self._Booster = train(\n\u001b[0m\u001b[1;32m   1177\u001b[0m             \u001b[0mparams\u001b[0m\u001b[0;34m,\u001b[0m\u001b[0;34m\u001b[0m\u001b[0;34m\u001b[0m\u001b[0m\n\u001b[1;32m   1178\u001b[0m             \u001b[0mtrain_dmatrix\u001b[0m\u001b[0;34m,\u001b[0m\u001b[0;34m\u001b[0m\u001b[0;34m\u001b[0m\u001b[0m\n",
      "\u001b[0;32m/Library/Frameworks/Python.framework/Versions/3.9/lib/python3.9/site-packages/xgboost/training.py\u001b[0m in \u001b[0;36mtrain\u001b[0;34m(params, dtrain, num_boost_round, evals, obj, feval, maximize, early_stopping_rounds, evals_result, verbose_eval, xgb_model, callbacks)\u001b[0m\n\u001b[1;32m    187\u001b[0m     \u001b[0mBooster\u001b[0m \u001b[0;34m:\u001b[0m \u001b[0ma\u001b[0m \u001b[0mtrained\u001b[0m \u001b[0mbooster\u001b[0m \u001b[0mmodel\u001b[0m\u001b[0;34m\u001b[0m\u001b[0;34m\u001b[0m\u001b[0m\n\u001b[1;32m    188\u001b[0m     \"\"\"\n\u001b[0;32m--> 189\u001b[0;31m     bst = _train_internal(params, dtrain,\n\u001b[0m\u001b[1;32m    190\u001b[0m                           \u001b[0mnum_boost_round\u001b[0m\u001b[0;34m=\u001b[0m\u001b[0mnum_boost_round\u001b[0m\u001b[0;34m,\u001b[0m\u001b[0;34m\u001b[0m\u001b[0;34m\u001b[0m\u001b[0m\n\u001b[1;32m    191\u001b[0m                           \u001b[0mevals\u001b[0m\u001b[0;34m=\u001b[0m\u001b[0mevals\u001b[0m\u001b[0;34m,\u001b[0m\u001b[0;34m\u001b[0m\u001b[0;34m\u001b[0m\u001b[0m\n",
      "\u001b[0;32m/Library/Frameworks/Python.framework/Versions/3.9/lib/python3.9/site-packages/xgboost/training.py\u001b[0m in \u001b[0;36m_train_internal\u001b[0;34m(params, dtrain, num_boost_round, evals, obj, feval, xgb_model, callbacks, evals_result, maximize, verbose_eval, early_stopping_rounds)\u001b[0m\n\u001b[1;32m     80\u001b[0m             \u001b[0;32mbreak\u001b[0m\u001b[0;34m\u001b[0m\u001b[0;34m\u001b[0m\u001b[0m\n\u001b[1;32m     81\u001b[0m         \u001b[0mbst\u001b[0m\u001b[0;34m.\u001b[0m\u001b[0mupdate\u001b[0m\u001b[0;34m(\u001b[0m\u001b[0mdtrain\u001b[0m\u001b[0;34m,\u001b[0m \u001b[0mi\u001b[0m\u001b[0;34m,\u001b[0m \u001b[0mobj\u001b[0m\u001b[0;34m)\u001b[0m\u001b[0;34m\u001b[0m\u001b[0;34m\u001b[0m\u001b[0m\n\u001b[0;32m---> 82\u001b[0;31m         \u001b[0;32mif\u001b[0m \u001b[0mcallbacks\u001b[0m\u001b[0;34m.\u001b[0m\u001b[0mafter_iteration\u001b[0m\u001b[0;34m(\u001b[0m\u001b[0mbst\u001b[0m\u001b[0;34m,\u001b[0m \u001b[0mi\u001b[0m\u001b[0;34m,\u001b[0m \u001b[0mdtrain\u001b[0m\u001b[0;34m,\u001b[0m \u001b[0mevals\u001b[0m\u001b[0;34m)\u001b[0m\u001b[0;34m:\u001b[0m\u001b[0;34m\u001b[0m\u001b[0;34m\u001b[0m\u001b[0m\n\u001b[0m\u001b[1;32m     83\u001b[0m             \u001b[0;32mbreak\u001b[0m\u001b[0;34m\u001b[0m\u001b[0;34m\u001b[0m\u001b[0m\n\u001b[1;32m     84\u001b[0m \u001b[0;34m\u001b[0m\u001b[0m\n",
      "\u001b[0;32m/Library/Frameworks/Python.framework/Versions/3.9/lib/python3.9/site-packages/xgboost/callback.py\u001b[0m in \u001b[0;36mafter_iteration\u001b[0;34m(self, model, epoch, dtrain, evals)\u001b[0m\n\u001b[1;32m    430\u001b[0m             \u001b[0;32mfor\u001b[0m \u001b[0m_\u001b[0m\u001b[0;34m,\u001b[0m \u001b[0mname\u001b[0m \u001b[0;32min\u001b[0m \u001b[0mevals\u001b[0m\u001b[0;34m:\u001b[0m\u001b[0;34m\u001b[0m\u001b[0;34m\u001b[0m\u001b[0m\n\u001b[1;32m    431\u001b[0m                 \u001b[0;32massert\u001b[0m \u001b[0mname\u001b[0m\u001b[0;34m.\u001b[0m\u001b[0mfind\u001b[0m\u001b[0;34m(\u001b[0m\u001b[0;34m'-'\u001b[0m\u001b[0;34m)\u001b[0m \u001b[0;34m==\u001b[0m \u001b[0;34m-\u001b[0m\u001b[0;36m1\u001b[0m\u001b[0;34m,\u001b[0m \u001b[0;34m'Dataset name should not contain `-`'\u001b[0m\u001b[0;34m\u001b[0m\u001b[0;34m\u001b[0m\u001b[0m\n\u001b[0;32m--> 432\u001b[0;31m             \u001b[0mscore\u001b[0m \u001b[0;34m=\u001b[0m \u001b[0mmodel\u001b[0m\u001b[0;34m.\u001b[0m\u001b[0meval_set\u001b[0m\u001b[0;34m(\u001b[0m\u001b[0mevals\u001b[0m\u001b[0;34m,\u001b[0m \u001b[0mepoch\u001b[0m\u001b[0;34m,\u001b[0m \u001b[0mself\u001b[0m\u001b[0;34m.\u001b[0m\u001b[0mmetric\u001b[0m\u001b[0;34m)\u001b[0m\u001b[0;34m\u001b[0m\u001b[0;34m\u001b[0m\u001b[0m\n\u001b[0m\u001b[1;32m    433\u001b[0m             \u001b[0mscore\u001b[0m \u001b[0;34m=\u001b[0m \u001b[0mscore\u001b[0m\u001b[0;34m.\u001b[0m\u001b[0msplit\u001b[0m\u001b[0;34m(\u001b[0m\u001b[0;34m)\u001b[0m\u001b[0;34m[\u001b[0m\u001b[0;36m1\u001b[0m\u001b[0;34m:\u001b[0m\u001b[0;34m]\u001b[0m  \u001b[0;31m# into datasets\u001b[0m\u001b[0;34m\u001b[0m\u001b[0;34m\u001b[0m\u001b[0m\n\u001b[1;32m    434\u001b[0m             \u001b[0;31m# split up `test-error:0.1234`\u001b[0m\u001b[0;34m\u001b[0m\u001b[0;34m\u001b[0m\u001b[0;34m\u001b[0m\u001b[0m\n",
      "\u001b[0;32m/Library/Frameworks/Python.framework/Versions/3.9/lib/python3.9/site-packages/xgboost/core.py\u001b[0m in \u001b[0;36meval_set\u001b[0;34m(self, evals, iteration, feval)\u001b[0m\n\u001b[1;32m   1563\u001b[0m         \u001b[0mevnames\u001b[0m \u001b[0;34m=\u001b[0m \u001b[0mc_array\u001b[0m\u001b[0;34m(\u001b[0m\u001b[0mctypes\u001b[0m\u001b[0;34m.\u001b[0m\u001b[0mc_char_p\u001b[0m\u001b[0;34m,\u001b[0m \u001b[0;34m[\u001b[0m\u001b[0mc_str\u001b[0m\u001b[0;34m(\u001b[0m\u001b[0md\u001b[0m\u001b[0;34m[\u001b[0m\u001b[0;36m1\u001b[0m\u001b[0;34m]\u001b[0m\u001b[0;34m)\u001b[0m \u001b[0;32mfor\u001b[0m \u001b[0md\u001b[0m \u001b[0;32min\u001b[0m \u001b[0mevals\u001b[0m\u001b[0;34m]\u001b[0m\u001b[0;34m)\u001b[0m\u001b[0;34m\u001b[0m\u001b[0;34m\u001b[0m\u001b[0m\n\u001b[1;32m   1564\u001b[0m         \u001b[0mmsg\u001b[0m \u001b[0;34m=\u001b[0m \u001b[0mctypes\u001b[0m\u001b[0;34m.\u001b[0m\u001b[0mc_char_p\u001b[0m\u001b[0;34m(\u001b[0m\u001b[0;34m)\u001b[0m\u001b[0;34m\u001b[0m\u001b[0;34m\u001b[0m\u001b[0m\n\u001b[0;32m-> 1565\u001b[0;31m         _check_call(_LIB.XGBoosterEvalOneIter(self.handle,\n\u001b[0m\u001b[1;32m   1566\u001b[0m                                               \u001b[0mctypes\u001b[0m\u001b[0;34m.\u001b[0m\u001b[0mc_int\u001b[0m\u001b[0;34m(\u001b[0m\u001b[0miteration\u001b[0m\u001b[0;34m)\u001b[0m\u001b[0;34m,\u001b[0m\u001b[0;34m\u001b[0m\u001b[0;34m\u001b[0m\u001b[0m\n\u001b[1;32m   1567\u001b[0m                                               \u001b[0mdmats\u001b[0m\u001b[0;34m,\u001b[0m \u001b[0mevnames\u001b[0m\u001b[0;34m,\u001b[0m\u001b[0;34m\u001b[0m\u001b[0;34m\u001b[0m\u001b[0m\n",
      "\u001b[0;32m/Library/Frameworks/Python.framework/Versions/3.9/lib/python3.9/site-packages/xgboost/core.py\u001b[0m in \u001b[0;36m_check_call\u001b[0;34m(ret)\u001b[0m\n\u001b[1;32m    208\u001b[0m     \"\"\"\n\u001b[1;32m    209\u001b[0m     \u001b[0;32mif\u001b[0m \u001b[0mret\u001b[0m \u001b[0;34m!=\u001b[0m \u001b[0;36m0\u001b[0m\u001b[0;34m:\u001b[0m\u001b[0;34m\u001b[0m\u001b[0;34m\u001b[0m\u001b[0m\n\u001b[0;32m--> 210\u001b[0;31m         \u001b[0;32mraise\u001b[0m \u001b[0mXGBoostError\u001b[0m\u001b[0;34m(\u001b[0m\u001b[0mpy_str\u001b[0m\u001b[0;34m(\u001b[0m\u001b[0m_LIB\u001b[0m\u001b[0;34m.\u001b[0m\u001b[0mXGBGetLastError\u001b[0m\u001b[0;34m(\u001b[0m\u001b[0;34m)\u001b[0m\u001b[0;34m)\u001b[0m\u001b[0;34m)\u001b[0m\u001b[0;34m\u001b[0m\u001b[0;34m\u001b[0m\u001b[0m\n\u001b[0m\u001b[1;32m    211\u001b[0m \u001b[0;34m\u001b[0m\u001b[0m\n\u001b[1;32m    212\u001b[0m \u001b[0;34m\u001b[0m\u001b[0m\n",
      "\u001b[0;31mXGBoostError\u001b[0m: [12:02:49] /Users/travis/build/dmlc/xgboost/src/metric/rank_metric.cc:507: Check failed: preds.Size() == info.labels_.Size() (4444145 vs. 888829) : label size predict size not match\nStack trace:\n  [bt] (0) 1   libxgboost.dylib                    0x000000013efa8de4 dmlc::LogMessageFatal::~LogMessageFatal() + 116\n  [bt] (1) 2   libxgboost.dylib                    0x000000013f08e2b9 xgboost::metric::EvalAucPR::Eval(xgboost::HostDeviceVector<float> const&, xgboost::MetaInfo const&, bool) + 537\n  [bt] (2) 3   libxgboost.dylib                    0x000000013f05b983 xgboost::LearnerImpl::EvalOneIter(int, std::__1::vector<std::__1::shared_ptr<xgboost::DMatrix>, std::__1::allocator<std::__1::shared_ptr<xgboost::DMatrix> > > const&, std::__1::vector<std::__1::basic_string<char, std::__1::char_traits<char>, std::__1::allocator<char> >, std::__1::allocator<std::__1::basic_string<char, std::__1::char_traits<char>, std::__1::allocator<char> > > > const&) + 2355\n  [bt] (3) 4   libxgboost.dylib                    0x000000013efa022c XGBoosterEvalOneIter + 572\n  [bt] (4) 5   libffi.dylib                        0x00007fff2dbb08f5 ffi_call_unix64 + 85\n  [bt] (5) 6   ???                                 0x00007ffee78198e0 0x0 + 140732782450912\n\n"
     ]
    }
   ],
   "source": [
    "clf= xgb.XGBClassifier(objective='binary:logistic',seed=42,gamma=0.25,lear_rate=0.1,max_depth=6,reg_lambda=20,scale_pos_weight=3,subsample=0.9,colsample_bytree=0.5)\n",
    "clf.fit(X,y,verbose=True,early_stopping_rounds=10,eval_metric='aucpr',eval_set=[(X,y)])"
   ]
  },
  {
   "cell_type": "markdown",
   "id": "ab40da92-72a7-49c1-9829-ed3805a39719",
   "metadata": {},
   "source": [
    "### We should specify the features used in our model:"
   ]
  },
  {
   "cell_type": "code",
   "execution_count": 5,
   "id": "788f1273-8b7a-46bd-a099-1a471feeacc5",
   "metadata": {},
   "outputs": [
    {
     "name": "stdout",
     "output_type": "stream",
     "text": [
      "Data for Modeling: (755505, 20)\n",
      "Unseen Data For Predictions: (133324, 20)\n",
      "\n"
     ]
    }
   ],
   "source": [
    "# choose the features for the stellar base retention model\n",
    "features = [\"dimCustomerMasterId\",\n",
    "        \"inMarket\",\n",
    "        \"attendancePercent\",\n",
    "        \"renewedBeforeDays\",\n",
    "        \"source_tenure\",\n",
    "        \"tenure\",\n",
    "        \"distToVenue\",\n",
    "        \"totalGames\",\n",
    "        \"recency\",\n",
    "        \"click_link\",\n",
    "        \"fill_out_form\",\n",
    "        \"open_email\" ,\n",
    "        \"send_email\",\n",
    "        \"unsubscribe_email\",\n",
    "        \"openToSendRatio\",\n",
    "        \"clickToSendRatio\",\n",
    "        \"clickToOpenRatio\",\n",
    "        \"Tier\",\n",
    "        \"eventDay\",\n",
    "        \"year\"\n",
    "]\n",
    "\n",
    "# copy your main dataframe\n",
    "df_dataset = df\n",
    "\n",
    "# choose the features & train year & test year\n",
    "df_dataset = df_dataset[features]\n",
    "df_dataset[\"year\"] = pd.to_numeric(df_dataset[\"year\"])\n",
    "df_dataset = df_dataset.loc[df_dataset[\"year\"] <= 2019]\n",
    "#df_dataset = df_dataset[df_dataset[\"Tier\"] == {1,2,3} ]\n",
    "\n",
    "df_train = df_dataset.sample(frac=0.85, random_state=786)\n",
    "df_eval = df_dataset.drop(df_train.index)\n",
    "\n",
    "df_train.reset_index(drop=True, inplace=True)\n",
    "df_eval.reset_index(drop=True, inplace=True)\n",
    "\n",
    "# print out the number of records for training and eval\n",
    "print('Data for Modeling: ' + str(df_train.shape))\n",
    "print('Unseen Data For Predictions: ' + str(df_eval.shape), end=\"\\n\\n\")"
   ]
  },
  {
   "cell_type": "markdown",
   "id": "4f2da06d-9015-49fd-89b3-956c2ebf66e9",
   "metadata": {},
   "source": [
    "### Now we can model the data using a binary classification prediction for the isnextyear_buyer field to see how likely a customer is to re-purchase."
   ]
  },
  {
   "cell_type": "code",
   "execution_count": 6,
   "id": "23a69cdc-b3ec-48c8-9ce5-29f617779389",
   "metadata": {},
   "outputs": [],
   "source": [
    "setup(\n",
    "    data= df_train, \n",
    "    target=\"Tier\", \n",
    "    train_size = 0.80,\n",
    "    data_split_shuffle=True,\n",
    "    ignore_features=[\"dimCustomerMasterId\",\"year\"],\n",
    "    silent=True,\n",
    "    verbose=False,\n",
    "    numeric_features=[\"inMarket\",\n",
    "        \"attendancePercent\",\n",
    "        \"attendancePercent\",\n",
    "        \"renewedBeforeDays\",\n",
    "        \"source_tenure\",\n",
    "        \"tenure\",\n",
    "        \"distToVenue\",\n",
    "        \"totalGames\",\n",
    "        \"recency\",\n",
    "        \"eventDay\",\n",
    "        \"click_link\",\n",
    "        \"fill_out_form\",\n",
    "        \"open_email\" ,\n",
    "        \"send_email\",\n",
    "        \"unsubscribe_email\",\n",
    "        \"openToSendRatio\",\n",
    "        \"clickToSendRatio\",\n",
    "        \"clickToOpenRatio\"\n",
    "    ]\n",
    ");"
   ]
  },
  {
   "cell_type": "code",
   "execution_count": 7,
   "id": "ef2db9d2-02c2-45c0-b6bb-5cad42c373ce",
   "metadata": {},
   "outputs": [
    {
     "data": {
      "text/html": [
       "<style  type=\"text/css\" >\n",
       "    #T_be739_ th {\n",
       "          text-align: left;\n",
       "    }#T_be739_row0_col0,#T_be739_row0_col2,#T_be739_row0_col4,#T_be739_row1_col0,#T_be739_row1_col1,#T_be739_row1_col3,#T_be739_row1_col5,#T_be739_row1_col6,#T_be739_row1_col7,#T_be739_row2_col0,#T_be739_row2_col1,#T_be739_row2_col2,#T_be739_row2_col3,#T_be739_row2_col4,#T_be739_row2_col5,#T_be739_row2_col6,#T_be739_row2_col7,#T_be739_row3_col0,#T_be739_row3_col1,#T_be739_row3_col2,#T_be739_row3_col3,#T_be739_row3_col4,#T_be739_row3_col5,#T_be739_row3_col6,#T_be739_row3_col7,#T_be739_row4_col0,#T_be739_row4_col1,#T_be739_row4_col2,#T_be739_row4_col3,#T_be739_row4_col4,#T_be739_row4_col5,#T_be739_row4_col6,#T_be739_row4_col7{\n",
       "            text-align:  left;\n",
       "            text-align:  left;\n",
       "        }#T_be739_row0_col1,#T_be739_row0_col3,#T_be739_row0_col5,#T_be739_row0_col6,#T_be739_row0_col7,#T_be739_row1_col2,#T_be739_row1_col4{\n",
       "            text-align:  left;\n",
       "            text-align:  left;\n",
       "            background-color:  yellow;\n",
       "        }#T_be739_row0_col8,#T_be739_row1_col8,#T_be739_row3_col8,#T_be739_row4_col8{\n",
       "            text-align:  left;\n",
       "            text-align:  left;\n",
       "            background-color:  lightgrey;\n",
       "        }#T_be739_row2_col8{\n",
       "            text-align:  left;\n",
       "            text-align:  left;\n",
       "            background-color:  yellow;\n",
       "            background-color:  lightgrey;\n",
       "        }</style><table id=\"T_be739_\" ><thead>    <tr>        <th class=\"blank level0\" ></th>        <th class=\"col_heading level0 col0\" >Model</th>        <th class=\"col_heading level0 col1\" >Accuracy</th>        <th class=\"col_heading level0 col2\" >AUC</th>        <th class=\"col_heading level0 col3\" >Recall</th>        <th class=\"col_heading level0 col4\" >Prec.</th>        <th class=\"col_heading level0 col5\" >F1</th>        <th class=\"col_heading level0 col6\" >Kappa</th>        <th class=\"col_heading level0 col7\" >MCC</th>        <th class=\"col_heading level0 col8\" >TT (Sec)</th>    </tr></thead><tbody>\n",
       "                <tr>\n",
       "                        <th id=\"T_be739_level0_row0\" class=\"row_heading level0 row0\" >rf</th>\n",
       "                        <td id=\"T_be739_row0_col0\" class=\"data row0 col0\" >Random Forest Classifier</td>\n",
       "                        <td id=\"T_be739_row0_col1\" class=\"data row0 col1\" >0.6653</td>\n",
       "                        <td id=\"T_be739_row0_col2\" class=\"data row0 col2\" >0.8914</td>\n",
       "                        <td id=\"T_be739_row0_col3\" class=\"data row0 col3\" >0.6031</td>\n",
       "                        <td id=\"T_be739_row0_col4\" class=\"data row0 col4\" >0.6627</td>\n",
       "                        <td id=\"T_be739_row0_col5\" class=\"data row0 col5\" >0.6609</td>\n",
       "                        <td id=\"T_be739_row0_col6\" class=\"data row0 col6\" >0.5506</td>\n",
       "                        <td id=\"T_be739_row0_col7\" class=\"data row0 col7\" >0.5513</td>\n",
       "                        <td id=\"T_be739_row0_col8\" class=\"data row0 col8\" >42.6790</td>\n",
       "            </tr>\n",
       "            <tr>\n",
       "                        <th id=\"T_be739_level0_row1\" class=\"row_heading level0 row1\" >xgboost</th>\n",
       "                        <td id=\"T_be739_row1_col0\" class=\"data row1 col0\" >Extreme Gradient Boosting</td>\n",
       "                        <td id=\"T_be739_row1_col1\" class=\"data row1 col1\" >0.6595</td>\n",
       "                        <td id=\"T_be739_row1_col2\" class=\"data row1 col2\" >0.8950</td>\n",
       "                        <td id=\"T_be739_row1_col3\" class=\"data row1 col3\" >0.5916</td>\n",
       "                        <td id=\"T_be739_row1_col4\" class=\"data row1 col4\" >0.6634</td>\n",
       "                        <td id=\"T_be739_row1_col5\" class=\"data row1 col5\" >0.6534</td>\n",
       "                        <td id=\"T_be739_row1_col6\" class=\"data row1 col6\" >0.5418</td>\n",
       "                        <td id=\"T_be739_row1_col7\" class=\"data row1 col7\" >0.5431</td>\n",
       "                        <td id=\"T_be739_row1_col8\" class=\"data row1 col8\" >92.3950</td>\n",
       "            </tr>\n",
       "            <tr>\n",
       "                        <th id=\"T_be739_level0_row2\" class=\"row_heading level0 row2\" >lightgbm</th>\n",
       "                        <td id=\"T_be739_row2_col0\" class=\"data row2 col0\" >Light Gradient Boosting Machine</td>\n",
       "                        <td id=\"T_be739_row2_col1\" class=\"data row2 col1\" >0.6522</td>\n",
       "                        <td id=\"T_be739_row2_col2\" class=\"data row2 col2\" >0.8897</td>\n",
       "                        <td id=\"T_be739_row2_col3\" class=\"data row2 col3\" >0.5862</td>\n",
       "                        <td id=\"T_be739_row2_col4\" class=\"data row2 col4\" >0.6573</td>\n",
       "                        <td id=\"T_be739_row2_col5\" class=\"data row2 col5\" >0.6458</td>\n",
       "                        <td id=\"T_be739_row2_col6\" class=\"data row2 col6\" >0.5322</td>\n",
       "                        <td id=\"T_be739_row2_col7\" class=\"data row2 col7\" >0.5337</td>\n",
       "                        <td id=\"T_be739_row2_col8\" class=\"data row2 col8\" >7.1940</td>\n",
       "            </tr>\n",
       "            <tr>\n",
       "                        <th id=\"T_be739_level0_row3\" class=\"row_heading level0 row3\" >gbc</th>\n",
       "                        <td id=\"T_be739_row3_col0\" class=\"data row3 col0\" >Gradient Boosting Classifier</td>\n",
       "                        <td id=\"T_be739_row3_col1\" class=\"data row3 col1\" >0.5817</td>\n",
       "                        <td id=\"T_be739_row3_col2\" class=\"data row3 col2\" >0.8458</td>\n",
       "                        <td id=\"T_be739_row3_col3\" class=\"data row3 col3\" >0.5088</td>\n",
       "                        <td id=\"T_be739_row3_col4\" class=\"data row3 col4\" >0.5942</td>\n",
       "                        <td id=\"T_be739_row3_col5\" class=\"data row3 col5\" >0.5686</td>\n",
       "                        <td id=\"T_be739_row3_col6\" class=\"data row3 col6\" >0.4380</td>\n",
       "                        <td id=\"T_be739_row3_col7\" class=\"data row3 col7\" >0.4407</td>\n",
       "                        <td id=\"T_be739_row3_col8\" class=\"data row3 col8\" >146.1020</td>\n",
       "            </tr>\n",
       "            <tr>\n",
       "                        <th id=\"T_be739_level0_row4\" class=\"row_heading level0 row4\" >lr</th>\n",
       "                        <td id=\"T_be739_row4_col0\" class=\"data row4 col0\" >Logistic Regression</td>\n",
       "                        <td id=\"T_be739_row4_col1\" class=\"data row4 col1\" >0.4420</td>\n",
       "                        <td id=\"T_be739_row4_col2\" class=\"data row4 col2\" >0.7057</td>\n",
       "                        <td id=\"T_be739_row4_col3\" class=\"data row4 col3\" >0.3116</td>\n",
       "                        <td id=\"T_be739_row4_col4\" class=\"data row4 col4\" >0.4074</td>\n",
       "                        <td id=\"T_be739_row4_col5\" class=\"data row4 col5\" >0.3900</td>\n",
       "                        <td id=\"T_be739_row4_col6\" class=\"data row4 col6\" >0.2174</td>\n",
       "                        <td id=\"T_be739_row4_col7\" class=\"data row4 col7\" >0.2312</td>\n",
       "                        <td id=\"T_be739_row4_col8\" class=\"data row4 col8\" >51.8650</td>\n",
       "            </tr>\n",
       "    </tbody></table>"
      ],
      "text/plain": [
       "<pandas.io.formats.style.Styler at 0x7ffb0581fc40>"
      ]
     },
     "metadata": {},
     "output_type": "display_data"
    }
   ],
   "source": [
    "model_matrix = compare_models(\n",
    "    fold=10,\n",
    "    include=[\"gbc\", \"lightgbm\", \"lr\", \"rf\", \"xgboost\"]\n",
    ")"
   ]
  },
  {
   "cell_type": "code",
   "execution_count": 8,
   "id": "d9f030ed-4b6a-4a87-a01e-129dc49e0d4a",
   "metadata": {},
   "outputs": [
    {
     "data": {
      "text/html": [
       "<style  type=\"text/css\" >\n",
       "#T_e26bd_row10_col0,#T_e26bd_row10_col1,#T_e26bd_row10_col2,#T_e26bd_row10_col3,#T_e26bd_row10_col4,#T_e26bd_row10_col5,#T_e26bd_row10_col6{\n",
       "            background:  yellow;\n",
       "        }</style><table id=\"T_e26bd_\" ><thead>    <tr>        <th class=\"blank level0\" ></th>        <th class=\"col_heading level0 col0\" >Accuracy</th>        <th class=\"col_heading level0 col1\" >AUC</th>        <th class=\"col_heading level0 col2\" >Recall</th>        <th class=\"col_heading level0 col3\" >Prec.</th>        <th class=\"col_heading level0 col4\" >F1</th>        <th class=\"col_heading level0 col5\" >Kappa</th>        <th class=\"col_heading level0 col6\" >MCC</th>    </tr></thead><tbody>\n",
       "                <tr>\n",
       "                        <th id=\"T_e26bd_level0_row0\" class=\"row_heading level0 row0\" >0</th>\n",
       "                        <td id=\"T_e26bd_row0_col0\" class=\"data row0 col0\" >0.6656</td>\n",
       "                        <td id=\"T_e26bd_row0_col1\" class=\"data row0 col1\" >0.8924</td>\n",
       "                        <td id=\"T_e26bd_row0_col2\" class=\"data row0 col2\" >0.6028</td>\n",
       "                        <td id=\"T_e26bd_row0_col3\" class=\"data row0 col3\" >0.6633</td>\n",
       "                        <td id=\"T_e26bd_row0_col4\" class=\"data row0 col4\" >0.6613</td>\n",
       "                        <td id=\"T_e26bd_row0_col5\" class=\"data row0 col5\" >0.5508</td>\n",
       "                        <td id=\"T_e26bd_row0_col6\" class=\"data row0 col6\" >0.5515</td>\n",
       "            </tr>\n",
       "            <tr>\n",
       "                        <th id=\"T_e26bd_level0_row1\" class=\"row_heading level0 row1\" >1</th>\n",
       "                        <td id=\"T_e26bd_row1_col0\" class=\"data row1 col0\" >0.6624</td>\n",
       "                        <td id=\"T_e26bd_row1_col1\" class=\"data row1 col1\" >0.8908</td>\n",
       "                        <td id=\"T_e26bd_row1_col2\" class=\"data row1 col2\" >0.6022</td>\n",
       "                        <td id=\"T_e26bd_row1_col3\" class=\"data row1 col3\" >0.6598</td>\n",
       "                        <td id=\"T_e26bd_row1_col4\" class=\"data row1 col4\" >0.6582</td>\n",
       "                        <td id=\"T_e26bd_row1_col5\" class=\"data row1 col5\" >0.5469</td>\n",
       "                        <td id=\"T_e26bd_row1_col6\" class=\"data row1 col6\" >0.5476</td>\n",
       "            </tr>\n",
       "            <tr>\n",
       "                        <th id=\"T_e26bd_level0_row2\" class=\"row_heading level0 row2\" >2</th>\n",
       "                        <td id=\"T_e26bd_row2_col0\" class=\"data row2 col0\" >0.6660</td>\n",
       "                        <td id=\"T_e26bd_row2_col1\" class=\"data row2 col1\" >0.8918</td>\n",
       "                        <td id=\"T_e26bd_row2_col2\" class=\"data row2 col2\" >0.6047</td>\n",
       "                        <td id=\"T_e26bd_row2_col3\" class=\"data row2 col3\" >0.6636</td>\n",
       "                        <td id=\"T_e26bd_row2_col4\" class=\"data row2 col4\" >0.6619</td>\n",
       "                        <td id=\"T_e26bd_row2_col5\" class=\"data row2 col5\" >0.5518</td>\n",
       "                        <td id=\"T_e26bd_row2_col6\" class=\"data row2 col6\" >0.5524</td>\n",
       "            </tr>\n",
       "            <tr>\n",
       "                        <th id=\"T_e26bd_level0_row3\" class=\"row_heading level0 row3\" >3</th>\n",
       "                        <td id=\"T_e26bd_row3_col0\" class=\"data row3 col0\" >0.6656</td>\n",
       "                        <td id=\"T_e26bd_row3_col1\" class=\"data row3 col1\" >0.8912</td>\n",
       "                        <td id=\"T_e26bd_row3_col2\" class=\"data row3 col2\" >0.6034</td>\n",
       "                        <td id=\"T_e26bd_row3_col3\" class=\"data row3 col3\" >0.6626</td>\n",
       "                        <td id=\"T_e26bd_row3_col4\" class=\"data row3 col4\" >0.6614</td>\n",
       "                        <td id=\"T_e26bd_row3_col5\" class=\"data row3 col5\" >0.5510</td>\n",
       "                        <td id=\"T_e26bd_row3_col6\" class=\"data row3 col6\" >0.5517</td>\n",
       "            </tr>\n",
       "            <tr>\n",
       "                        <th id=\"T_e26bd_level0_row4\" class=\"row_heading level0 row4\" >4</th>\n",
       "                        <td id=\"T_e26bd_row4_col0\" class=\"data row4 col0\" >0.6693</td>\n",
       "                        <td id=\"T_e26bd_row4_col1\" class=\"data row4 col1\" >0.8918</td>\n",
       "                        <td id=\"T_e26bd_row4_col2\" class=\"data row4 col2\" >0.6075</td>\n",
       "                        <td id=\"T_e26bd_row4_col3\" class=\"data row4 col3\" >0.6667</td>\n",
       "                        <td id=\"T_e26bd_row4_col4\" class=\"data row4 col4\" >0.6651</td>\n",
       "                        <td id=\"T_e26bd_row4_col5\" class=\"data row4 col5\" >0.5561</td>\n",
       "                        <td id=\"T_e26bd_row4_col6\" class=\"data row4 col6\" >0.5568</td>\n",
       "            </tr>\n",
       "            <tr>\n",
       "                        <th id=\"T_e26bd_level0_row5\" class=\"row_heading level0 row5\" >5</th>\n",
       "                        <td id=\"T_e26bd_row5_col0\" class=\"data row5 col0\" >0.6641</td>\n",
       "                        <td id=\"T_e26bd_row5_col1\" class=\"data row5 col1\" >0.8920</td>\n",
       "                        <td id=\"T_e26bd_row5_col2\" class=\"data row5 col2\" >0.5997</td>\n",
       "                        <td id=\"T_e26bd_row5_col3\" class=\"data row5 col3\" >0.6616</td>\n",
       "                        <td id=\"T_e26bd_row5_col4\" class=\"data row5 col4\" >0.6597</td>\n",
       "                        <td id=\"T_e26bd_row5_col5\" class=\"data row5 col5\" >0.5489</td>\n",
       "                        <td id=\"T_e26bd_row5_col6\" class=\"data row5 col6\" >0.5496</td>\n",
       "            </tr>\n",
       "            <tr>\n",
       "                        <th id=\"T_e26bd_level0_row6\" class=\"row_heading level0 row6\" >6</th>\n",
       "                        <td id=\"T_e26bd_row6_col0\" class=\"data row6 col0\" >0.6650</td>\n",
       "                        <td id=\"T_e26bd_row6_col1\" class=\"data row6 col1\" >0.8916</td>\n",
       "                        <td id=\"T_e26bd_row6_col2\" class=\"data row6 col2\" >0.6036</td>\n",
       "                        <td id=\"T_e26bd_row6_col3\" class=\"data row6 col3\" >0.6621</td>\n",
       "                        <td id=\"T_e26bd_row6_col4\" class=\"data row6 col4\" >0.6607</td>\n",
       "                        <td id=\"T_e26bd_row6_col5\" class=\"data row6 col5\" >0.5503</td>\n",
       "                        <td id=\"T_e26bd_row6_col6\" class=\"data row6 col6\" >0.5509</td>\n",
       "            </tr>\n",
       "            <tr>\n",
       "                        <th id=\"T_e26bd_level0_row7\" class=\"row_heading level0 row7\" >7</th>\n",
       "                        <td id=\"T_e26bd_row7_col0\" class=\"data row7 col0\" >0.6625</td>\n",
       "                        <td id=\"T_e26bd_row7_col1\" class=\"data row7 col1\" >0.8904</td>\n",
       "                        <td id=\"T_e26bd_row7_col2\" class=\"data row7 col2\" >0.5992</td>\n",
       "                        <td id=\"T_e26bd_row7_col3\" class=\"data row7 col3\" >0.6599</td>\n",
       "                        <td id=\"T_e26bd_row7_col4\" class=\"data row7 col4\" >0.6578</td>\n",
       "                        <td id=\"T_e26bd_row7_col5\" class=\"data row7 col5\" >0.5467</td>\n",
       "                        <td id=\"T_e26bd_row7_col6\" class=\"data row7 col6\" >0.5475</td>\n",
       "            </tr>\n",
       "            <tr>\n",
       "                        <th id=\"T_e26bd_level0_row8\" class=\"row_heading level0 row8\" >8</th>\n",
       "                        <td id=\"T_e26bd_row8_col0\" class=\"data row8 col0\" >0.6664</td>\n",
       "                        <td id=\"T_e26bd_row8_col1\" class=\"data row8 col1\" >0.8913</td>\n",
       "                        <td id=\"T_e26bd_row8_col2\" class=\"data row8 col2\" >0.6037</td>\n",
       "                        <td id=\"T_e26bd_row8_col3\" class=\"data row8 col3\" >0.6638</td>\n",
       "                        <td id=\"T_e26bd_row8_col4\" class=\"data row8 col4\" >0.6618</td>\n",
       "                        <td id=\"T_e26bd_row8_col5\" class=\"data row8 col5\" >0.5519</td>\n",
       "                        <td id=\"T_e26bd_row8_col6\" class=\"data row8 col6\" >0.5526</td>\n",
       "            </tr>\n",
       "            <tr>\n",
       "                        <th id=\"T_e26bd_level0_row9\" class=\"row_heading level0 row9\" >9</th>\n",
       "                        <td id=\"T_e26bd_row9_col0\" class=\"data row9 col0\" >0.6657</td>\n",
       "                        <td id=\"T_e26bd_row9_col1\" class=\"data row9 col1\" >0.8907</td>\n",
       "                        <td id=\"T_e26bd_row9_col2\" class=\"data row9 col2\" >0.6040</td>\n",
       "                        <td id=\"T_e26bd_row9_col3\" class=\"data row9 col3\" >0.6633</td>\n",
       "                        <td id=\"T_e26bd_row9_col4\" class=\"data row9 col4\" >0.6613</td>\n",
       "                        <td id=\"T_e26bd_row9_col5\" class=\"data row9 col5\" >0.5511</td>\n",
       "                        <td id=\"T_e26bd_row9_col6\" class=\"data row9 col6\" >0.5518</td>\n",
       "            </tr>\n",
       "            <tr>\n",
       "                        <th id=\"T_e26bd_level0_row10\" class=\"row_heading level0 row10\" >Mean</th>\n",
       "                        <td id=\"T_e26bd_row10_col0\" class=\"data row10 col0\" >0.6653</td>\n",
       "                        <td id=\"T_e26bd_row10_col1\" class=\"data row10 col1\" >0.8914</td>\n",
       "                        <td id=\"T_e26bd_row10_col2\" class=\"data row10 col2\" >0.6031</td>\n",
       "                        <td id=\"T_e26bd_row10_col3\" class=\"data row10 col3\" >0.6627</td>\n",
       "                        <td id=\"T_e26bd_row10_col4\" class=\"data row10 col4\" >0.6609</td>\n",
       "                        <td id=\"T_e26bd_row10_col5\" class=\"data row10 col5\" >0.5506</td>\n",
       "                        <td id=\"T_e26bd_row10_col6\" class=\"data row10 col6\" >0.5513</td>\n",
       "            </tr>\n",
       "            <tr>\n",
       "                        <th id=\"T_e26bd_level0_row11\" class=\"row_heading level0 row11\" >SD</th>\n",
       "                        <td id=\"T_e26bd_row11_col0\" class=\"data row11 col0\" >0.0019</td>\n",
       "                        <td id=\"T_e26bd_row11_col1\" class=\"data row11 col1\" >0.0006</td>\n",
       "                        <td id=\"T_e26bd_row11_col2\" class=\"data row11 col2\" >0.0023</td>\n",
       "                        <td id=\"T_e26bd_row11_col3\" class=\"data row11 col3\" >0.0019</td>\n",
       "                        <td id=\"T_e26bd_row11_col4\" class=\"data row11 col4\" >0.0019</td>\n",
       "                        <td id=\"T_e26bd_row11_col5\" class=\"data row11 col5\" >0.0026</td>\n",
       "                        <td id=\"T_e26bd_row11_col6\" class=\"data row11 col6\" >0.0026</td>\n",
       "            </tr>\n",
       "    </tbody></table>"
      ],
      "text/plain": [
       "<pandas.io.formats.style.Styler at 0x7ffaf7c30ee0>"
      ]
     },
     "metadata": {},
     "output_type": "display_data"
    }
   ],
   "source": [
    "best_model = create_model(model_matrix)\n",
    "final_model = finalize_model(best_model)"
   ]
  },
  {
   "cell_type": "markdown",
   "id": "3aab9021-4462-423a-8e3c-fbe1f36c6110",
   "metadata": {},
   "source": [
    "### Let's load in our 2021 season data and get retention scores using the model:"
   ]
  },
  {
   "cell_type": "code",
   "execution_count": 9,
   "id": "c249a813-c882-4869-9490-6ab766a8c223",
   "metadata": {},
   "outputs": [
    {
     "data": {
      "text/plain": [
       "(176235, 46)"
      ]
     },
     "execution_count": 9,
     "metadata": {},
     "output_type": "execute_result"
    }
   ],
   "source": [
    "df_inference = df.loc[df[\"year\"] >= 2021]\n",
    "df_inference = df_inference.fillna(0)\n",
    "df_inference.shape"
   ]
  },
  {
   "cell_type": "code",
   "execution_count": 10,
   "id": "745b62fb-fb2e-4b4a-9c48-8ce4de472a83",
   "metadata": {},
   "outputs": [
    {
     "data": {
      "text/html": [
       "<div>\n",
       "<style scoped>\n",
       "    .dataframe tbody tr th:only-of-type {\n",
       "        vertical-align: middle;\n",
       "    }\n",
       "\n",
       "    .dataframe tbody tr th {\n",
       "        vertical-align: top;\n",
       "    }\n",
       "\n",
       "    .dataframe thead th {\n",
       "        text-align: right;\n",
       "    }\n",
       "</style>\n",
       "<table border=\"1\" class=\"dataframe\">\n",
       "  <thead>\n",
       "    <tr style=\"text-align: right;\">\n",
       "      <th></th>\n",
       "      <th>lkupClientId</th>\n",
       "      <th>dimCustomerMasterId</th>\n",
       "      <th>dimEventId</th>\n",
       "      <th>inMarket</th>\n",
       "      <th>customerNumber</th>\n",
       "      <th>year</th>\n",
       "      <th>productGrouping</th>\n",
       "      <th>Tier</th>\n",
       "      <th>eventDay</th>\n",
       "      <th>totalSpent</th>\n",
       "      <th>...</th>\n",
       "      <th>unknown</th>\n",
       "      <th>credits_after_refund</th>\n",
       "      <th>NumberofGamesPerSeason</th>\n",
       "      <th>isNextGameBuyer</th>\n",
       "      <th>Label</th>\n",
       "      <th>Score_1</th>\n",
       "      <th>Score_2</th>\n",
       "      <th>Score_3</th>\n",
       "      <th>Score_4</th>\n",
       "      <th>Score_5</th>\n",
       "    </tr>\n",
       "  </thead>\n",
       "  <tbody>\n",
       "    <tr>\n",
       "      <th>888829</th>\n",
       "      <td>53</td>\n",
       "      <td>162</td>\n",
       "      <td>866</td>\n",
       "      <td>False</td>\n",
       "      <td>10605279</td>\n",
       "      <td>2021</td>\n",
       "      <td>Online Individual Game</td>\n",
       "      <td>6</td>\n",
       "      <td>7</td>\n",
       "      <td>88.0</td>\n",
       "      <td>...</td>\n",
       "      <td>0</td>\n",
       "      <td>0.0</td>\n",
       "      <td>94</td>\n",
       "      <td>0</td>\n",
       "      <td>2</td>\n",
       "      <td>0.18</td>\n",
       "      <td>0.37</td>\n",
       "      <td>0.11</td>\n",
       "      <td>0.34</td>\n",
       "      <td>0.00</td>\n",
       "    </tr>\n",
       "    <tr>\n",
       "      <th>888830</th>\n",
       "      <td>53</td>\n",
       "      <td>174</td>\n",
       "      <td>904</td>\n",
       "      <td>True</td>\n",
       "      <td>11896281</td>\n",
       "      <td>2021</td>\n",
       "      <td>Online Individual Game</td>\n",
       "      <td>6</td>\n",
       "      <td>2</td>\n",
       "      <td>65.0</td>\n",
       "      <td>...</td>\n",
       "      <td>0</td>\n",
       "      <td>0.0</td>\n",
       "      <td>94</td>\n",
       "      <td>0</td>\n",
       "      <td>2</td>\n",
       "      <td>0.02</td>\n",
       "      <td>0.80</td>\n",
       "      <td>0.00</td>\n",
       "      <td>0.16</td>\n",
       "      <td>0.02</td>\n",
       "    </tr>\n",
       "    <tr>\n",
       "      <th>888831</th>\n",
       "      <td>53</td>\n",
       "      <td>439</td>\n",
       "      <td>913</td>\n",
       "      <td>True</td>\n",
       "      <td>1213275</td>\n",
       "      <td>2021</td>\n",
       "      <td>Online Individual Game</td>\n",
       "      <td>3</td>\n",
       "      <td>7</td>\n",
       "      <td>170.0</td>\n",
       "      <td>...</td>\n",
       "      <td>0</td>\n",
       "      <td>0.0</td>\n",
       "      <td>94</td>\n",
       "      <td>0</td>\n",
       "      <td>2</td>\n",
       "      <td>0.31</td>\n",
       "      <td>0.37</td>\n",
       "      <td>0.14</td>\n",
       "      <td>0.18</td>\n",
       "      <td>0.00</td>\n",
       "    </tr>\n",
       "    <tr>\n",
       "      <th>888832</th>\n",
       "      <td>53</td>\n",
       "      <td>439</td>\n",
       "      <td>1260</td>\n",
       "      <td>True</td>\n",
       "      <td>1213275</td>\n",
       "      <td>2021</td>\n",
       "      <td>Online Individual Game</td>\n",
       "      <td>6</td>\n",
       "      <td>3</td>\n",
       "      <td>0.0</td>\n",
       "      <td>...</td>\n",
       "      <td>0</td>\n",
       "      <td>0.0</td>\n",
       "      <td>94</td>\n",
       "      <td>0</td>\n",
       "      <td>5</td>\n",
       "      <td>0.01</td>\n",
       "      <td>0.05</td>\n",
       "      <td>0.03</td>\n",
       "      <td>0.37</td>\n",
       "      <td>0.54</td>\n",
       "    </tr>\n",
       "    <tr>\n",
       "      <th>888833</th>\n",
       "      <td>53</td>\n",
       "      <td>822</td>\n",
       "      <td>905</td>\n",
       "      <td>True</td>\n",
       "      <td>10605691</td>\n",
       "      <td>2021</td>\n",
       "      <td>Online Individual Game</td>\n",
       "      <td>4</td>\n",
       "      <td>7</td>\n",
       "      <td>660.0</td>\n",
       "      <td>...</td>\n",
       "      <td>0</td>\n",
       "      <td>0.0</td>\n",
       "      <td>94</td>\n",
       "      <td>0</td>\n",
       "      <td>2</td>\n",
       "      <td>0.15</td>\n",
       "      <td>0.31</td>\n",
       "      <td>0.27</td>\n",
       "      <td>0.27</td>\n",
       "      <td>0.00</td>\n",
       "    </tr>\n",
       "  </tbody>\n",
       "</table>\n",
       "<p>5 rows × 52 columns</p>\n",
       "</div>"
      ],
      "text/plain": [
       "        lkupClientId  dimCustomerMasterId  dimEventId inMarket customerNumber  \\\n",
       "888829            53                  162         866    False       10605279   \n",
       "888830            53                  174         904     True       11896281   \n",
       "888831            53                  439         913     True        1213275   \n",
       "888832            53                  439        1260     True        1213275   \n",
       "888833            53                  822         905     True       10605691   \n",
       "\n",
       "        year         productGrouping  Tier  eventDay  totalSpent  ... unknown  \\\n",
       "888829  2021  Online Individual Game     6         7        88.0  ...       0   \n",
       "888830  2021  Online Individual Game     6         2        65.0  ...       0   \n",
       "888831  2021  Online Individual Game     3         7       170.0  ...       0   \n",
       "888832  2021  Online Individual Game     6         3         0.0  ...       0   \n",
       "888833  2021  Online Individual Game     4         7       660.0  ...       0   \n",
       "\n",
       "        credits_after_refund  NumberofGamesPerSeason isNextGameBuyer  Label  \\\n",
       "888829                   0.0                      94               0      2   \n",
       "888830                   0.0                      94               0      2   \n",
       "888831                   0.0                      94               0      2   \n",
       "888832                   0.0                      94               0      5   \n",
       "888833                   0.0                      94               0      2   \n",
       "\n",
       "        Score_1  Score_2  Score_3  Score_4  Score_5  \n",
       "888829     0.18     0.37     0.11     0.34     0.00  \n",
       "888830     0.02     0.80     0.00     0.16     0.02  \n",
       "888831     0.31     0.37     0.14     0.18     0.00  \n",
       "888832     0.01     0.05     0.03     0.37     0.54  \n",
       "888833     0.15     0.31     0.27     0.27     0.00  \n",
       "\n",
       "[5 rows x 52 columns]"
      ]
     },
     "execution_count": 10,
     "metadata": {},
     "output_type": "execute_result"
    }
   ],
   "source": [
    "new_predictions = predict_model(final_model, data=df_inference, raw_score=True)\n",
    "new_predictions.head()"
   ]
  },
  {
   "cell_type": "code",
   "execution_count": 11,
   "id": "c98d3de4-966c-4d4a-af8f-e4a2d78eed38",
   "metadata": {},
   "outputs": [
    {
     "data": {
      "text/plain": [
       "4    49846\n",
       "3    44130\n",
       "2    39673\n",
       "1    32804\n",
       "5     9782\n",
       "Name: Label, dtype: int64"
      ]
     },
     "execution_count": 11,
     "metadata": {},
     "output_type": "execute_result"
    }
   ],
   "source": [
    "new_predictions[\"Label\"].value_counts()"
   ]
  },
  {
   "cell_type": "code",
   "execution_count": 20,
   "id": "4d540733-839c-44e3-acfa-0c7ebc3e822d",
   "metadata": {},
   "outputs": [
    {
     "data": {
      "text/plain": [
       "(-0.001, 0.2]    118629\n",
       "(0.2, 0.4]        34617\n",
       "(0.6, 0.8]        10306\n",
       "(0.4, 0.6]         7652\n",
       "(0.8, 1.0]         5031\n",
       "Name: Score_1, dtype: int64"
      ]
     },
     "execution_count": 20,
     "metadata": {},
     "output_type": "execute_result"
    }
   ],
   "source": [
    "new_predictions[\"Score_1\"].value_counts(bins=[0, 0.2, 0.4, 0.6, 0.8, 1.0])"
   ]
  },
  {
   "cell_type": "code",
   "execution_count": 12,
   "id": "95e96920-bc9c-4b50-837c-89e392d13449",
   "metadata": {},
   "outputs": [
    {
     "data": {
      "text/plain": [
       "(-0.001, 0.2]    75824\n",
       "(0.2, 0.4]       62596\n",
       "(0.4, 0.6]       22775\n",
       "(0.6, 0.8]       12413\n",
       "(0.8, 1.0]        2627\n",
       "Name: Score_2, dtype: int64"
      ]
     },
     "execution_count": 12,
     "metadata": {},
     "output_type": "execute_result"
    }
   ],
   "source": [
    "new_predictions[\"Score_2\"].value_counts(bins=[0, 0.2, 0.4, 0.6, 0.8, 1.0])"
   ]
  },
  {
   "cell_type": "code",
   "execution_count": 13,
   "id": "fe7a9d96-43a9-4e32-9b94-c18f15a6ab79",
   "metadata": {},
   "outputs": [
    {
     "data": {
      "text/plain": [
       "(-0.001, 0.2]    97783\n",
       "(0.2, 0.4]       41087\n",
       "(0.4, 0.6]       25100\n",
       "(0.6, 0.8]       11168\n",
       "(0.8, 1.0]        1097\n",
       "Name: Score_3, dtype: int64"
      ]
     },
     "execution_count": 13,
     "metadata": {},
     "output_type": "execute_result"
    }
   ],
   "source": [
    "new_predictions[\"Score_3\"].value_counts(bins=[0, 0.2, 0.4, 0.6, 0.8, 1.0])"
   ]
  },
  {
   "cell_type": "code",
   "execution_count": 14,
   "id": "f26f9ecd-2fb1-4712-bf56-ac2049728b40",
   "metadata": {},
   "outputs": [
    {
     "data": {
      "text/plain": [
       "(-0.001, 0.2]    102005\n",
       "(0.2, 0.4]        28625\n",
       "(0.4, 0.6]        21485\n",
       "(0.6, 0.8]        17240\n",
       "(0.8, 1.0]         6880\n",
       "Name: Score_4, dtype: int64"
      ]
     },
     "execution_count": 14,
     "metadata": {},
     "output_type": "execute_result"
    }
   ],
   "source": [
    "new_predictions[\"Score_4\"].value_counts(bins=[0, 0.2, 0.4, 0.6, 0.8, 1.0])"
   ]
  },
  {
   "cell_type": "code",
   "execution_count": 21,
   "id": "ce062137-8ee9-4eff-89d3-4589a4d8903e",
   "metadata": {},
   "outputs": [
    {
     "data": {
      "text/plain": [
       "(-0.001, 0.2]    152945\n",
       "(0.2, 0.4]        14071\n",
       "(0.4, 0.6]         7230\n",
       "(0.6, 0.8]         1632\n",
       "(0.8, 1.0]          357\n",
       "Name: Score_5, dtype: int64"
      ]
     },
     "execution_count": 21,
     "metadata": {},
     "output_type": "execute_result"
    }
   ],
   "source": [
    "new_predictions[\"Score_5\"].value_counts(bins=[0, 0.2, 0.4, 0.6, 0.8, 1.0])"
   ]
  },
  {
   "cell_type": "code",
   "execution_count": 22,
   "id": "ed5992e4-10d1-44de-aeda-072550c75086",
   "metadata": {},
   "outputs": [
    {
     "data": {
      "text/plain": [
       "array([[<AxesSubplot:title={'center':'Score_1'}>]], dtype=object)"
      ]
     },
     "execution_count": 22,
     "metadata": {},
     "output_type": "execute_result"
    },
    {
     "data": {
      "image/png": "[encoded data removed]",
      "text/plain": [
       "<Figure size 720x360 with 1 Axes>"
      ]
     },
     "metadata": {},
     "output_type": "display_data"
    }
   ],
   "source": [
    "new_predictions[new_predictions[\"Label\"]==1][[\"Score_1\"]].hist(bins=30, figsize=(10,5), range=[0,1])"
   ]
  },
  {
   "cell_type": "code",
   "execution_count": 15,
   "id": "3b4b1d51-1c33-489a-95f6-ab75e428c760",
   "metadata": {},
   "outputs": [
    {
     "data": {
      "text/plain": [
       "array([[<AxesSubplot:title={'center':'Score_2'}>]], dtype=object)"
      ]
     },
     "execution_count": 15,
     "metadata": {},
     "output_type": "execute_result"
    },
    {
     "data": {
      "image/png": "[encoded data removed]",
      "text/plain": [
       "<Figure size 720x360 with 1 Axes>"
      ]
     },
     "metadata": {
      "needs_background": "light"
     },
     "output_type": "display_data"
    }
   ],
   "source": [
    "new_predictions[new_predictions[\"Label\"]==2][[\"Score_2\"]].hist(bins=30, figsize=(10,5), range=[0,1])"
   ]
  },
  {
   "cell_type": "code",
   "execution_count": 16,
   "id": "9fc6d526-9131-489b-9b21-fed28d05cf09",
   "metadata": {},
   "outputs": [
    {
     "data": {
      "text/plain": [
       "array([[<AxesSubplot:title={'center':'Score_3'}>]], dtype=object)"
      ]
     },
     "execution_count": 16,
     "metadata": {},
     "output_type": "execute_result"
    },
    {
     "data": {
      "image/png": "[encoded data removed]",
      "text/plain": [
       "<Figure size 720x360 with 1 Axes>"
      ]
     },
     "metadata": {
      "needs_background": "light"
     },
     "output_type": "display_data"
    }
   ],
   "source": [
    "new_predictions[new_predictions[\"Label\"]==3][[\"Score_3\"]].hist(bins=30, figsize=(10,5), range=[0,1])"
   ]
  },
  {
   "cell_type": "code",
   "execution_count": 17,
   "id": "10850030-3cba-4dec-b449-abbb3af747dc",
   "metadata": {},
   "outputs": [
    {
     "data": {
      "text/plain": [
       "array([[<AxesSubplot:title={'center':'Score_4'}>]], dtype=object)"
      ]
     },
     "execution_count": 17,
     "metadata": {},
     "output_type": "execute_result"
    },
    {
     "data": {
      "image/png": "[encoded data removed]",
      "text/plain": [
       "<Figure size 720x360 with 1 Axes>"
      ]
     },
     "metadata": {
      "needs_background": "light"
     },
     "output_type": "display_data"
    }
   ],
   "source": [
    "new_predictions[new_predictions[\"Label\"]==4][[\"Score_4\"]].hist(bins=30, figsize=(10,5), range=[0,1])"
   ]
  },
  {
   "cell_type": "code",
   "execution_count": 23,
   "id": "016ce4cb-e80b-414c-b58b-2d5c23f3efef",
   "metadata": {},
   "outputs": [
    {
     "data": {
      "text/plain": [
       "array([[<AxesSubplot:title={'center':'Score_5'}>]], dtype=object)"
      ]
     },
     "execution_count": 23,
     "metadata": {},
     "output_type": "execute_result"
    },
    {
     "data": {
      "image/png": "[encoded data removed]",
      "text/plain": [
       "<Figure size 720x360 with 1 Axes>"
      ]
     },
     "metadata": {},
     "output_type": "display_data"
    }
   ],
   "source": [
    "new_predictions[new_predictions[\"Label\"]==5][[\"Score_5\"]].hist(bins=30, figsize=(10,5), range=[0,1])"
   ]
  },
  {
   "cell_type": "code",
   "execution_count": 18,
   "id": "144bd27b-9798-4f8b-a3a3-95298d8e2c01",
   "metadata": {},
   "outputs": [
    {
     "data": {
      "image/png": "[encoded data removed]",
      "text/plain": [
       "<Figure size 800x500 with 1 Axes>"
      ]
     },
     "metadata": {},
     "output_type": "display_data"
    }
   ],
   "source": [
    "plot_model(best_model, plot='feature')"
   ]
  },
  {
   "cell_type": "code",
   "execution_count": 19,
   "id": "79e34840-9a47-486f-a648-6d5d16d73b89",
   "metadata": {},
   "outputs": [
    {
     "data": {
      "image/png": "[encoded data removed]",
      "text/plain": [
       "<Figure size 576x396 with 1 Axes>"
      ]
     },
     "metadata": {},
     "output_type": "display_data"
    }
   ],
   "source": [
    "plot_model(best_model, plot='confusion_matrix')"
   ]
  },
  {
   "cell_type": "markdown",
   "id": "a439108b-7911-4384-b089-f7b31c825192",
   "metadata": {},
   "source": [
    "## Observations\n",
    "Here you can document some ideas on the results from above\n"
   ]
  },
  {
   "cell_type": "markdown",
   "id": "d2de91b5-a1e8-42a5-a087-8c31ff2e1db3",
   "metadata": {},
   "source": [
    "## Conclusions\n",
    "Here you can talk about next steps, did the experiment work? If yes, what to do next? If no, why?\n",
    "\n",
    "* We should ask CS/CI what they think the most significant factor towards a next game buyer is."
   ]
  },
  {
   "cell_type": "code",
   "execution_count": null,
   "id": "c1c6f293-c82c-4312-a374-1a530750ed52",
   "metadata": {},
   "outputs": [],
   "source": []
  }
 ],
 "metadata": {
  "kernelspec": {
   "display_name": "Python 3 (ipykernel)",
   "language": "python",
   "name": "python3"
  },
  "language_info": {
   "codemirror_mode": {
    "name": "ipython",
    "version": 3
   },
   "file_extension": ".py",
   "mimetype": "text/x-python",
   "name": "python",
   "nbconvert_exporter": "python",
   "pygments_lexer": "ipython3",
   "version": "3.9.4"
  }
 },
 "nbformat": 4,
 "nbformat_minor": 5
}
