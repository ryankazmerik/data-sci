{
 "cells": [
  {
   "cell_type": "markdown",
   "id": "6ee08766-25fd-4da1-91b8-b0c3e74db588",
   "metadata": {},
   "source": [
    "# Yankees - Propensity Event- eventDay\n",
    "* StelllarAlgo Data Science\n",
    "* Ryan Kazmerik & Nakisa Rad\n",
    "* Feb 03, 2022"
   ]
  },
  {
   "cell_type": "markdown",
   "id": "39108c8d-2e9f-4759-ade2-83071038dc56",
   "metadata": {},
   "source": [
    "## Hypothesis\n"
   ]
  },
  {
   "cell_type": "markdown",
   "id": "28142011-1f32-4cc7-816b-a6dae6f70c8c",
   "metadata": {},
   "source": [
    "## Experiment\n",
    "This section details our experiment including querying data, data transformations, feature selection and modelling."
   ]
  },
  {
   "cell_type": "code",
   "execution_count": 1,
   "id": "4c533efd-600e-4bce-8203-faffbddfa700",
   "metadata": {},
   "outputs": [],
   "source": [
    "import getpass\n",
    "import pyodbc\n",
    "import pandas as pd\n",
    "import warnings\n",
    "import matplotlib.pyplot as plt\n",
    "\n",
    "from pycaret.classification import *\n",
    "\n",
    "warnings.filterwarnings('ignore')"
   ]
  },
  {
   "cell_type": "markdown",
   "id": "b64ae7d5-84af-4915-bd13-1dd9d17098a3",
   "metadata": {},
   "source": [
    "### Let's connect to MSSQL and run a stored proc to get our dataset:"
   ]
  },
  {
   "cell_type": "code",
   "execution_count": 2,
   "id": "ae561eb4-f419-4d46-b5e0-12fac9b10db8",
   "metadata": {},
   "outputs": [],
   "source": [
    "# connect to SQL Server.\n",
    "SERVER = '54.164.224.129'  \n",
    "DATABASE = 'stlrRays' \n",
    "USERNAME = 'nrad' \n",
    "PASSWORD = 'Y34@PSc^n@JAG=4%p8194'#getpass.getpass(prompt='Enter your password')\n",
    "CNXN = pyodbc.connect('DRIVER={ODBC Driver 17 for SQL Server};SERVER='+SERVER+';DATABASE='+DATABASE+';UID='+USERNAME+';PWD='+ PASSWORD)"
   ]
  },
  {
   "cell_type": "code",
   "execution_count": 3,
   "id": "af1afe7d-a35b-494b-88f3-980fb0e3da30",
   "metadata": {},
   "outputs": [
    {
     "data": {
      "text/plain": [
       "(522555, 31)"
      ]
     },
     "execution_count": 3,
     "metadata": {},
     "output_type": "execute_result"
    }
   ],
   "source": [
    "lkupclientid = 53 # Yankees\n",
    "\n",
    "cursor = CNXN.cursor()\n",
    "\n",
    "storedProc = (\n",
    "    f\"\"\"Exec [stlrYankees].[ds].[getPropensityEventScoring_new] {lkupclientid}\"\"\"\n",
    ")\n",
    "\n",
    "df = pd.read_sql(storedProc, CNXN)\n",
    "\n",
    "# apply some data transformations\n",
    "df[\"year\"] = pd.to_numeric(df[\"year\"]) \n",
    "\n",
    "CNXN.commit()\n",
    "cursor.close()\n",
    "\n",
    "df.shape"
   ]
  },
  {
   "cell_type": "code",
   "execution_count": 4,
   "id": "11e97dcc-c69e-46c1-8dad-33f6291cb0c6",
   "metadata": {},
   "outputs": [
    {
     "name": "stdout",
     "output_type": "stream",
     "text": [
      "<class 'pandas.core.frame.DataFrame'>\n",
      "RangeIndex: 522555 entries, 0 to 522554\n",
      "Data columns (total 31 columns):\n",
      " #   Column                      Non-Null Count   Dtype         \n",
      "---  ------                      --------------   -----         \n",
      " 0   lkupClientId                522555 non-null  int64         \n",
      " 1   dimCustomerMasterId         522555 non-null  int64         \n",
      " 2   eventName                   522555 non-null  object        \n",
      " 3   inMarket                    522555 non-null  int64         \n",
      " 4   year                        522555 non-null  int64         \n",
      " 5   productGrouping             522555 non-null  object        \n",
      " 6   Tier                        522555 non-null  int64         \n",
      " 7   eventDay                    522555 non-null  int64         \n",
      " 8   totalSpent                  522555 non-null  float64       \n",
      " 9   recentDate                  522555 non-null  datetime64[ns]\n",
      " 10  attendancePercent           522555 non-null  float64       \n",
      " 11  renewedBeforeDays           522555 non-null  int64         \n",
      " 12  isBuyer                     522555 non-null  object        \n",
      " 13  source_tenure               522555 non-null  int64         \n",
      " 14  tenure                      522555 non-null  int64         \n",
      " 15  distToVenue                 522555 non-null  float64       \n",
      " 16  totalGames                  522555 non-null  int64         \n",
      " 17  recency                     522555 non-null  int64         \n",
      " 18  click_link                  522555 non-null  int64         \n",
      " 19  fill_out_form               522555 non-null  int64         \n",
      " 20  open_email                  522555 non-null  int64         \n",
      " 21  send_email                  522555 non-null  int64         \n",
      " 22  unsubscribe_email           522555 non-null  int64         \n",
      " 23  openToSendRatio             522555 non-null  float64       \n",
      " 24  clickToSendRatio            522555 non-null  float64       \n",
      " 25  clickToOpenRatio            522555 non-null  float64       \n",
      " 26  numWebEngagementActivities  38061 non-null   float64       \n",
      " 27  numAppViewsActivities       19220 non-null   float64       \n",
      " 28  credits_after_refund        522555 non-null  float64       \n",
      " 29  NumberofGamesPerSeason      522555 non-null  int64         \n",
      " 30  isNextGameBuyer             522555 non-null  int64         \n",
      "dtypes: datetime64[ns](1), float64(9), int64(18), object(3)\n",
      "memory usage: 123.6+ MB\n"
     ]
    }
   ],
   "source": [
    "df.info()"
   ]
  },
  {
   "cell_type": "markdown",
   "id": "ab40da92-72a7-49c1-9829-ed3805a39719",
   "metadata": {},
   "source": [
    "### We should specify the features used in our model:"
   ]
  },
  {
   "cell_type": "code",
   "execution_count": 5,
   "id": "788f1273-8b7a-46bd-a099-1a471feeacc5",
   "metadata": {},
   "outputs": [
    {
     "name": "stdout",
     "output_type": "stream",
     "text": [
      "Data for Modeling: (372952, 20)\n",
      "Unseen Data For Predictions: (65815, 20)\n",
      "\n"
     ]
    }
   ],
   "source": [
    "# choose the features for the stellar base retention model\n",
    "features = [\"dimCustomerMasterId\",\n",
    "        \"attendancePercent\",\n",
    "        \"renewedBeforeDays\",\n",
    "        \"source_tenure\",\n",
    "        \"tenure\",\n",
    "        \"distToVenue\",\n",
    "        \"totalGames\",\n",
    "        \"recency\",\n",
    "        \"click_link\",\n",
    "        \"fill_out_form\",\n",
    "        \"open_email\" ,\n",
    "        \"send_email\",\n",
    "        \"unsubscribe_email\",\n",
    "        \"openToSendRatio\",\n",
    "        \"clickToSendRatio\",\n",
    "        \"clickToOpenRatio\",\n",
    "        \"numWebEngagementActivities\",\n",
    "        \"numAppViewsActivities\",\n",
    "        \"eventDay\",\n",
    "        \"year\"\n",
    "]\n",
    "\n",
    "# copy your main dataframe\n",
    "df_dataset = df\n",
    "\n",
    "# choose the features & train year & test year\n",
    "df_dataset = df_dataset[features]\n",
    "df_dataset[\"year\"] = pd.to_numeric(df_dataset[\"year\"])\n",
    "df_dataset = df_dataset.loc[df_dataset[\"year\"] <= 2019]\n",
    "#df_dataset = df_dataset[df_dataset[\"Tier\"] == {1,2,3} ]\n",
    "\n",
    "df_train = df_dataset.sample(frac=0.85, random_state=786)\n",
    "df_eval = df_dataset.drop(df_train.index)\n",
    "\n",
    "df_train.reset_index(drop=True, inplace=True)\n",
    "df_eval.reset_index(drop=True, inplace=True)\n",
    "\n",
    "# print out the number of records for training and eval\n",
    "print('Data for Modeling: ' + str(df_train.shape))\n",
    "print('Unseen Data For Predictions: ' + str(df_eval.shape), end=\"\\n\\n\")"
   ]
  },
  {
   "cell_type": "markdown",
   "id": "4f2da06d-9015-49fd-89b3-956c2ebf66e9",
   "metadata": {},
   "source": [
    "### Now we can model the data using a binary classification prediction for the isnextyear_buyer field to see how likely a customer is to re-purchase."
   ]
  },
  {
   "cell_type": "code",
   "execution_count": 6,
   "id": "23a69cdc-b3ec-48c8-9ce5-29f617779389",
   "metadata": {},
   "outputs": [],
   "source": [
    "setup(\n",
    "    data= df_train, \n",
    "    target=\"eventDay\", \n",
    "    train_size = 0.80,\n",
    "    data_split_shuffle=True,\n",
    "    ignore_features=[\"dimCustomerMasterId\",\"year\"],\n",
    "    silent=True,\n",
    "    verbose=False,\n",
    "    numeric_features=[\n",
    "        \"attendancePercent\",\n",
    "        \"renewedBeforeDays\",\n",
    "        \"source_tenure\",\n",
    "        \"tenure\",\n",
    "        \"distToVenue\",\n",
    "        \"totalGames\",\n",
    "        \"recency\",\n",
    "        \"click_link\",\n",
    "        \"fill_out_form\",\n",
    "        \"open_email\" ,\n",
    "        \"send_email\",\n",
    "        \"unsubscribe_email\",\n",
    "        \"openToSendRatio\",\n",
    "        \"clickToSendRatio\",\n",
    "        \"clickToOpenRatio\",\n",
    "        \"numWebEngagementActivities\",\n",
    "        \"numAppViewsActivities\"\n",
    "    ]\n",
    ");"
   ]
  },
  {
   "cell_type": "code",
   "execution_count": 7,
   "id": "ef2db9d2-02c2-45c0-b6bb-5cad42c373ce",
   "metadata": {},
   "outputs": [
    {
     "data": {
      "text/html": [
       "<style  type=\"text/css\" >\n",
       "    #T_60e06_ th {\n",
       "          text-align: left;\n",
       "    }#T_60e06_row0_col0{\n",
       "            text-align:  left;\n",
       "            text-align:  left;\n",
       "        }#T_60e06_row0_col1,#T_60e06_row0_col2,#T_60e06_row0_col3,#T_60e06_row0_col4,#T_60e06_row0_col5,#T_60e06_row0_col6,#T_60e06_row0_col7{\n",
       "            text-align:  left;\n",
       "            text-align:  left;\n",
       "            background-color:  yellow;\n",
       "        }#T_60e06_row0_col8{\n",
       "            text-align:  left;\n",
       "            text-align:  left;\n",
       "            background-color:  yellow;\n",
       "            background-color:  lightgrey;\n",
       "        }</style><table id=\"T_60e06_\" ><thead>    <tr>        <th class=\"blank level0\" ></th>        <th class=\"col_heading level0 col0\" >Model</th>        <th class=\"col_heading level0 col1\" >Accuracy</th>        <th class=\"col_heading level0 col2\" >AUC</th>        <th class=\"col_heading level0 col3\" >Recall</th>        <th class=\"col_heading level0 col4\" >Prec.</th>        <th class=\"col_heading level0 col5\" >F1</th>        <th class=\"col_heading level0 col6\" >Kappa</th>        <th class=\"col_heading level0 col7\" >MCC</th>        <th class=\"col_heading level0 col8\" >TT (Sec)</th>    </tr></thead><tbody>\n",
       "                <tr>\n",
       "                        <th id=\"T_60e06_level0_row0\" class=\"row_heading level0 row0\" >xgboost</th>\n",
       "                        <td id=\"T_60e06_row0_col0\" class=\"data row0 col0\" >Extreme Gradient Boosting</td>\n",
       "                        <td id=\"T_60e06_row0_col1\" class=\"data row0 col1\" >0.3423</td>\n",
       "                        <td id=\"T_60e06_row0_col2\" class=\"data row0 col2\" >0.7168</td>\n",
       "                        <td id=\"T_60e06_row0_col3\" class=\"data row0 col3\" >0.3366</td>\n",
       "                        <td id=\"T_60e06_row0_col4\" class=\"data row0 col4\" >0.3628</td>\n",
       "                        <td id=\"T_60e06_row0_col5\" class=\"data row0 col5\" >0.3426</td>\n",
       "                        <td id=\"T_60e06_row0_col6\" class=\"data row0 col6\" >0.2267</td>\n",
       "                        <td id=\"T_60e06_row0_col7\" class=\"data row0 col7\" >0.2287</td>\n",
       "                        <td id=\"T_60e06_row0_col8\" class=\"data row0 col8\" >56.7300</td>\n",
       "            </tr>\n",
       "    </tbody></table>"
      ],
      "text/plain": [
       "<pandas.io.formats.style.Styler at 0x7fa7657ff370>"
      ]
     },
     "metadata": {},
     "output_type": "display_data"
    }
   ],
   "source": [
    "model_matrix = compare_models(\n",
    "    fold=10,\n",
    "    include=[\"xgboost\"]\n",
    ")"
   ]
  },
  {
   "cell_type": "code",
   "execution_count": 8,
   "id": "d9f030ed-4b6a-4a87-a01e-129dc49e0d4a",
   "metadata": {},
   "outputs": [
    {
     "data": {
      "text/html": [
       "<style  type=\"text/css\" >\n",
       "#T_919ba_row10_col0,#T_919ba_row10_col1,#T_919ba_row10_col2,#T_919ba_row10_col3,#T_919ba_row10_col4,#T_919ba_row10_col5,#T_919ba_row10_col6{\n",
       "            background:  yellow;\n",
       "        }</style><table id=\"T_919ba_\" ><thead>    <tr>        <th class=\"blank level0\" ></th>        <th class=\"col_heading level0 col0\" >Accuracy</th>        <th class=\"col_heading level0 col1\" >AUC</th>        <th class=\"col_heading level0 col2\" >Recall</th>        <th class=\"col_heading level0 col3\" >Prec.</th>        <th class=\"col_heading level0 col4\" >F1</th>        <th class=\"col_heading level0 col5\" >Kappa</th>        <th class=\"col_heading level0 col6\" >MCC</th>    </tr></thead><tbody>\n",
       "                <tr>\n",
       "                        <th id=\"T_919ba_level0_row0\" class=\"row_heading level0 row0\" >0</th>\n",
       "                        <td id=\"T_919ba_row0_col0\" class=\"data row0 col0\" >0.3390</td>\n",
       "                        <td id=\"T_919ba_row0_col1\" class=\"data row0 col1\" >0.7155</td>\n",
       "                        <td id=\"T_919ba_row0_col2\" class=\"data row0 col2\" >0.3332</td>\n",
       "                        <td id=\"T_919ba_row0_col3\" class=\"data row0 col3\" >0.3584</td>\n",
       "                        <td id=\"T_919ba_row0_col4\" class=\"data row0 col4\" >0.3389</td>\n",
       "                        <td id=\"T_919ba_row0_col5\" class=\"data row0 col5\" >0.2229</td>\n",
       "                        <td id=\"T_919ba_row0_col6\" class=\"data row0 col6\" >0.2249</td>\n",
       "            </tr>\n",
       "            <tr>\n",
       "                        <th id=\"T_919ba_level0_row1\" class=\"row_heading level0 row1\" >1</th>\n",
       "                        <td id=\"T_919ba_row1_col0\" class=\"data row1 col0\" >0.3398</td>\n",
       "                        <td id=\"T_919ba_row1_col1\" class=\"data row1 col1\" >0.7158</td>\n",
       "                        <td id=\"T_919ba_row1_col2\" class=\"data row1 col2\" >0.3347</td>\n",
       "                        <td id=\"T_919ba_row1_col3\" class=\"data row1 col3\" >0.3603</td>\n",
       "                        <td id=\"T_919ba_row1_col4\" class=\"data row1 col4\" >0.3406</td>\n",
       "                        <td id=\"T_919ba_row1_col5\" class=\"data row1 col5\" >0.2239</td>\n",
       "                        <td id=\"T_919ba_row1_col6\" class=\"data row1 col6\" >0.2258</td>\n",
       "            </tr>\n",
       "            <tr>\n",
       "                        <th id=\"T_919ba_level0_row2\" class=\"row_heading level0 row2\" >2</th>\n",
       "                        <td id=\"T_919ba_row2_col0\" class=\"data row2 col0\" >0.3459</td>\n",
       "                        <td id=\"T_919ba_row2_col1\" class=\"data row2 col1\" >0.7194</td>\n",
       "                        <td id=\"T_919ba_row2_col2\" class=\"data row2 col2\" >0.3407</td>\n",
       "                        <td id=\"T_919ba_row2_col3\" class=\"data row2 col3\" >0.3659</td>\n",
       "                        <td id=\"T_919ba_row2_col4\" class=\"data row2 col4\" >0.3463</td>\n",
       "                        <td id=\"T_919ba_row2_col5\" class=\"data row2 col5\" >0.2311</td>\n",
       "                        <td id=\"T_919ba_row2_col6\" class=\"data row2 col6\" >0.2331</td>\n",
       "            </tr>\n",
       "            <tr>\n",
       "                        <th id=\"T_919ba_level0_row3\" class=\"row_heading level0 row3\" >3</th>\n",
       "                        <td id=\"T_919ba_row3_col0\" class=\"data row3 col0\" >0.3412</td>\n",
       "                        <td id=\"T_919ba_row3_col1\" class=\"data row3 col1\" >0.7153</td>\n",
       "                        <td id=\"T_919ba_row3_col2\" class=\"data row3 col2\" >0.3359</td>\n",
       "                        <td id=\"T_919ba_row3_col3\" class=\"data row3 col3\" >0.3620</td>\n",
       "                        <td id=\"T_919ba_row3_col4\" class=\"data row3 col4\" >0.3421</td>\n",
       "                        <td id=\"T_919ba_row3_col5\" class=\"data row3 col5\" >0.2256</td>\n",
       "                        <td id=\"T_919ba_row3_col6\" class=\"data row3 col6\" >0.2276</td>\n",
       "            </tr>\n",
       "            <tr>\n",
       "                        <th id=\"T_919ba_level0_row4\" class=\"row_heading level0 row4\" >4</th>\n",
       "                        <td id=\"T_919ba_row4_col0\" class=\"data row4 col0\" >0.3445</td>\n",
       "                        <td id=\"T_919ba_row4_col1\" class=\"data row4 col1\" >0.7204</td>\n",
       "                        <td id=\"T_919ba_row4_col2\" class=\"data row4 col2\" >0.3390</td>\n",
       "                        <td id=\"T_919ba_row4_col3\" class=\"data row4 col3\" >0.3647</td>\n",
       "                        <td id=\"T_919ba_row4_col4\" class=\"data row4 col4\" >0.3447</td>\n",
       "                        <td id=\"T_919ba_row4_col5\" class=\"data row4 col5\" >0.2294</td>\n",
       "                        <td id=\"T_919ba_row4_col6\" class=\"data row4 col6\" >0.2315</td>\n",
       "            </tr>\n",
       "            <tr>\n",
       "                        <th id=\"T_919ba_level0_row5\" class=\"row_heading level0 row5\" >5</th>\n",
       "                        <td id=\"T_919ba_row5_col0\" class=\"data row5 col0\" >0.3434</td>\n",
       "                        <td id=\"T_919ba_row5_col1\" class=\"data row5 col1\" >0.7167</td>\n",
       "                        <td id=\"T_919ba_row5_col2\" class=\"data row5 col2\" >0.3375</td>\n",
       "                        <td id=\"T_919ba_row5_col3\" class=\"data row5 col3\" >0.3649</td>\n",
       "                        <td id=\"T_919ba_row5_col4\" class=\"data row5 col4\" >0.3438</td>\n",
       "                        <td id=\"T_919ba_row5_col5\" class=\"data row5 col5\" >0.2279</td>\n",
       "                        <td id=\"T_919ba_row5_col6\" class=\"data row5 col6\" >0.2300</td>\n",
       "            </tr>\n",
       "            <tr>\n",
       "                        <th id=\"T_919ba_level0_row6\" class=\"row_heading level0 row6\" >6</th>\n",
       "                        <td id=\"T_919ba_row6_col0\" class=\"data row6 col0\" >0.3435</td>\n",
       "                        <td id=\"T_919ba_row6_col1\" class=\"data row6 col1\" >0.7187</td>\n",
       "                        <td id=\"T_919ba_row6_col2\" class=\"data row6 col2\" >0.3374</td>\n",
       "                        <td id=\"T_919ba_row6_col3\" class=\"data row6 col3\" >0.3644</td>\n",
       "                        <td id=\"T_919ba_row6_col4\" class=\"data row6 col4\" >0.3434</td>\n",
       "                        <td id=\"T_919ba_row6_col5\" class=\"data row6 col5\" >0.2280</td>\n",
       "                        <td id=\"T_919ba_row6_col6\" class=\"data row6 col6\" >0.2301</td>\n",
       "            </tr>\n",
       "            <tr>\n",
       "                        <th id=\"T_919ba_level0_row7\" class=\"row_heading level0 row7\" >7</th>\n",
       "                        <td id=\"T_919ba_row7_col0\" class=\"data row7 col0\" >0.3389</td>\n",
       "                        <td id=\"T_919ba_row7_col1\" class=\"data row7 col1\" >0.7140</td>\n",
       "                        <td id=\"T_919ba_row7_col2\" class=\"data row7 col2\" >0.3328</td>\n",
       "                        <td id=\"T_919ba_row7_col3\" class=\"data row7 col3\" >0.3593</td>\n",
       "                        <td id=\"T_919ba_row7_col4\" class=\"data row7 col4\" >0.3389</td>\n",
       "                        <td id=\"T_919ba_row7_col5\" class=\"data row7 col5\" >0.2226</td>\n",
       "                        <td id=\"T_919ba_row7_col6\" class=\"data row7 col6\" >0.2246</td>\n",
       "            </tr>\n",
       "            <tr>\n",
       "                        <th id=\"T_919ba_level0_row8\" class=\"row_heading level0 row8\" >8</th>\n",
       "                        <td id=\"T_919ba_row8_col0\" class=\"data row8 col0\" >0.3423</td>\n",
       "                        <td id=\"T_919ba_row8_col1\" class=\"data row8 col1\" >0.7167</td>\n",
       "                        <td id=\"T_919ba_row8_col2\" class=\"data row8 col2\" >0.3364</td>\n",
       "                        <td id=\"T_919ba_row8_col3\" class=\"data row8 col3\" >0.3624</td>\n",
       "                        <td id=\"T_919ba_row8_col4\" class=\"data row8 col4\" >0.3426</td>\n",
       "                        <td id=\"T_919ba_row8_col5\" class=\"data row8 col5\" >0.2268</td>\n",
       "                        <td id=\"T_919ba_row8_col6\" class=\"data row8 col6\" >0.2287</td>\n",
       "            </tr>\n",
       "            <tr>\n",
       "                        <th id=\"T_919ba_level0_row9\" class=\"row_heading level0 row9\" >9</th>\n",
       "                        <td id=\"T_919ba_row9_col0\" class=\"data row9 col0\" >0.3441</td>\n",
       "                        <td id=\"T_919ba_row9_col1\" class=\"data row9 col1\" >0.7158</td>\n",
       "                        <td id=\"T_919ba_row9_col2\" class=\"data row9 col2\" >0.3382</td>\n",
       "                        <td id=\"T_919ba_row9_col3\" class=\"data row9 col3\" >0.3657</td>\n",
       "                        <td id=\"T_919ba_row9_col4\" class=\"data row9 col4\" >0.3444</td>\n",
       "                        <td id=\"T_919ba_row9_col5\" class=\"data row9 col5\" >0.2288</td>\n",
       "                        <td id=\"T_919ba_row9_col6\" class=\"data row9 col6\" >0.2309</td>\n",
       "            </tr>\n",
       "            <tr>\n",
       "                        <th id=\"T_919ba_level0_row10\" class=\"row_heading level0 row10\" >Mean</th>\n",
       "                        <td id=\"T_919ba_row10_col0\" class=\"data row10 col0\" >0.3423</td>\n",
       "                        <td id=\"T_919ba_row10_col1\" class=\"data row10 col1\" >0.7168</td>\n",
       "                        <td id=\"T_919ba_row10_col2\" class=\"data row10 col2\" >0.3366</td>\n",
       "                        <td id=\"T_919ba_row10_col3\" class=\"data row10 col3\" >0.3628</td>\n",
       "                        <td id=\"T_919ba_row10_col4\" class=\"data row10 col4\" >0.3426</td>\n",
       "                        <td id=\"T_919ba_row10_col5\" class=\"data row10 col5\" >0.2267</td>\n",
       "                        <td id=\"T_919ba_row10_col6\" class=\"data row10 col6\" >0.2287</td>\n",
       "            </tr>\n",
       "            <tr>\n",
       "                        <th id=\"T_919ba_level0_row11\" class=\"row_heading level0 row11\" >SD</th>\n",
       "                        <td id=\"T_919ba_row11_col0\" class=\"data row11 col0\" >0.0023</td>\n",
       "                        <td id=\"T_919ba_row11_col1\" class=\"data row11 col1\" >0.0019</td>\n",
       "                        <td id=\"T_919ba_row11_col2\" class=\"data row11 col2\" >0.0024</td>\n",
       "                        <td id=\"T_919ba_row11_col3\" class=\"data row11 col3\" >0.0026</td>\n",
       "                        <td id=\"T_919ba_row11_col4\" class=\"data row11 col4\" >0.0023</td>\n",
       "                        <td id=\"T_919ba_row11_col5\" class=\"data row11 col5\" >0.0027</td>\n",
       "                        <td id=\"T_919ba_row11_col6\" class=\"data row11 col6\" >0.0028</td>\n",
       "            </tr>\n",
       "    </tbody></table>"
      ],
      "text/plain": [
       "<pandas.io.formats.style.Styler at 0x7fa78288e280>"
      ]
     },
     "metadata": {},
     "output_type": "display_data"
    },
    {
     "name": "stderr",
     "output_type": "stream",
     "text": [
      "/Library/Frameworks/Python.framework/Versions/3.9/lib/python3.9/site-packages/xgboost/sklearn.py:1146: UserWarning: The use of label encoder in XGBClassifier is deprecated and will be removed in a future release. To remove this warning, do the following: 1) Pass option use_label_encoder=False when constructing XGBClassifier object; and 2) Encode your labels (y) as integers starting with 0, i.e. 0, 1, 2, ..., [num_class - 1].\n",
      "  warnings.warn(label_encoder_deprecation_msg, UserWarning)\n",
      "/Library/Frameworks/Python.framework/Versions/3.9/lib/python3.9/site-packages/xgboost/sklearn.py:1146: UserWarning: The use of label encoder in XGBClassifier is deprecated and will be removed in a future release. To remove this warning, do the following: 1) Pass option use_label_encoder=False when constructing XGBClassifier object; and 2) Encode your labels (y) as integers starting with 0, i.e. 0, 1, 2, ..., [num_class - 1].\n",
      "  warnings.warn(label_encoder_deprecation_msg, UserWarning)\n",
      "/Library/Frameworks/Python.framework/Versions/3.9/lib/python3.9/site-packages/xgboost/sklearn.py:1146: UserWarning: The use of label encoder in XGBClassifier is deprecated and will be removed in a future release. To remove this warning, do the following: 1) Pass option use_label_encoder=False when constructing XGBClassifier object; and 2) Encode your labels (y) as integers starting with 0, i.e. 0, 1, 2, ..., [num_class - 1].\n",
      "  warnings.warn(label_encoder_deprecation_msg, UserWarning)\n",
      "/Library/Frameworks/Python.framework/Versions/3.9/lib/python3.9/site-packages/xgboost/sklearn.py:1146: UserWarning: The use of label encoder in XGBClassifier is deprecated and will be removed in a future release. To remove this warning, do the following: 1) Pass option use_label_encoder=False when constructing XGBClassifier object; and 2) Encode your labels (y) as integers starting with 0, i.e. 0, 1, 2, ..., [num_class - 1].\n",
      "  warnings.warn(label_encoder_deprecation_msg, UserWarning)\n",
      "/Library/Frameworks/Python.framework/Versions/3.9/lib/python3.9/site-packages/xgboost/sklearn.py:1146: UserWarning: The use of label encoder in XGBClassifier is deprecated and will be removed in a future release. To remove this warning, do the following: 1) Pass option use_label_encoder=False when constructing XGBClassifier object; and 2) Encode your labels (y) as integers starting with 0, i.e. 0, 1, 2, ..., [num_class - 1].\n",
      "  warnings.warn(label_encoder_deprecation_msg, UserWarning)\n",
      "/Library/Frameworks/Python.framework/Versions/3.9/lib/python3.9/site-packages/xgboost/sklearn.py:1146: UserWarning: The use of label encoder in XGBClassifier is deprecated and will be removed in a future release. To remove this warning, do the following: 1) Pass option use_label_encoder=False when constructing XGBClassifier object; and 2) Encode your labels (y) as integers starting with 0, i.e. 0, 1, 2, ..., [num_class - 1].\n",
      "  warnings.warn(label_encoder_deprecation_msg, UserWarning)\n",
      "/Library/Frameworks/Python.framework/Versions/3.9/lib/python3.9/site-packages/xgboost/sklearn.py:1146: UserWarning: The use of label encoder in XGBClassifier is deprecated and will be removed in a future release. To remove this warning, do the following: 1) Pass option use_label_encoder=False when constructing XGBClassifier object; and 2) Encode your labels (y) as integers starting with 0, i.e. 0, 1, 2, ..., [num_class - 1].\n",
      "  warnings.warn(label_encoder_deprecation_msg, UserWarning)\n",
      "/Library/Frameworks/Python.framework/Versions/3.9/lib/python3.9/site-packages/xgboost/sklearn.py:1146: UserWarning: The use of label encoder in XGBClassifier is deprecated and will be removed in a future release. To remove this warning, do the following: 1) Pass option use_label_encoder=False when constructing XGBClassifier object; and 2) Encode your labels (y) as integers starting with 0, i.e. 0, 1, 2, ..., [num_class - 1].\n",
      "  warnings.warn(label_encoder_deprecation_msg, UserWarning)\n",
      "/Library/Frameworks/Python.framework/Versions/3.9/lib/python3.9/site-packages/xgboost/sklearn.py:1146: UserWarning: The use of label encoder in XGBClassifier is deprecated and will be removed in a future release. To remove this warning, do the following: 1) Pass option use_label_encoder=False when constructing XGBClassifier object; and 2) Encode your labels (y) as integers starting with 0, i.e. 0, 1, 2, ..., [num_class - 1].\n",
      "  warnings.warn(label_encoder_deprecation_msg, UserWarning)\n",
      "/Library/Frameworks/Python.framework/Versions/3.9/lib/python3.9/site-packages/xgboost/sklearn.py:1146: UserWarning: The use of label encoder in XGBClassifier is deprecated and will be removed in a future release. To remove this warning, do the following: 1) Pass option use_label_encoder=False when constructing XGBClassifier object; and 2) Encode your labels (y) as integers starting with 0, i.e. 0, 1, 2, ..., [num_class - 1].\n",
      "  warnings.warn(label_encoder_deprecation_msg, UserWarning)\n"
     ]
    }
   ],
   "source": [
    "best_model = create_model(model_matrix)\n",
    "final_model = finalize_model(best_model)"
   ]
  },
  {
   "cell_type": "markdown",
   "id": "3aab9021-4462-423a-8e3c-fbe1f36c6110",
   "metadata": {},
   "source": [
    "### Let's load in our 2021 season data and get retention scores using the model:"
   ]
  },
  {
   "cell_type": "code",
   "execution_count": 9,
   "id": "c249a813-c882-4869-9490-6ab766a8c223",
   "metadata": {},
   "outputs": [
    {
     "data": {
      "text/plain": [
       "(83788, 31)"
      ]
     },
     "execution_count": 9,
     "metadata": {},
     "output_type": "execute_result"
    }
   ],
   "source": [
    "df_inference = df.loc[df[\"year\"] >= 2021]\n",
    "df_inference = df_inference.fillna(0)\n",
    "df_inference.shape"
   ]
  },
  {
   "cell_type": "code",
   "execution_count": 10,
   "id": "745b62fb-fb2e-4b4a-9c48-8ce4de472a83",
   "metadata": {},
   "outputs": [
    {
     "data": {
      "text/html": [
       "<div>\n",
       "<style scoped>\n",
       "    .dataframe tbody tr th:only-of-type {\n",
       "        vertical-align: middle;\n",
       "    }\n",
       "\n",
       "    .dataframe tbody tr th {\n",
       "        vertical-align: top;\n",
       "    }\n",
       "\n",
       "    .dataframe thead th {\n",
       "        text-align: right;\n",
       "    }\n",
       "</style>\n",
       "<table border=\"1\" class=\"dataframe\">\n",
       "  <thead>\n",
       "    <tr style=\"text-align: right;\">\n",
       "      <th></th>\n",
       "      <th>lkupClientId</th>\n",
       "      <th>dimCustomerMasterId</th>\n",
       "      <th>eventName</th>\n",
       "      <th>inMarket</th>\n",
       "      <th>year</th>\n",
       "      <th>productGrouping</th>\n",
       "      <th>Tier</th>\n",
       "      <th>eventDay</th>\n",
       "      <th>totalSpent</th>\n",
       "      <th>recentDate</th>\n",
       "      <th>...</th>\n",
       "      <th>NumberofGamesPerSeason</th>\n",
       "      <th>isNextGameBuyer</th>\n",
       "      <th>Label</th>\n",
       "      <th>Score_1</th>\n",
       "      <th>Score_2</th>\n",
       "      <th>Score_3</th>\n",
       "      <th>Score_4</th>\n",
       "      <th>Score_5</th>\n",
       "      <th>Score_6</th>\n",
       "      <th>Score_7</th>\n",
       "    </tr>\n",
       "  </thead>\n",
       "  <tbody>\n",
       "    <tr>\n",
       "      <th>438767</th>\n",
       "      <td>53</td>\n",
       "      <td>51</td>\n",
       "      <td>20210527 - Toronto Blue Jays</td>\n",
       "      <td>1</td>\n",
       "      <td>2021</td>\n",
       "      <td>Online Individual Game</td>\n",
       "      <td>5</td>\n",
       "      <td>4</td>\n",
       "      <td>32.0</td>\n",
       "      <td>1970-01-01</td>\n",
       "      <td>...</td>\n",
       "      <td>94</td>\n",
       "      <td>0</td>\n",
       "      <td>7</td>\n",
       "      <td>0.0632</td>\n",
       "      <td>0.0979</td>\n",
       "      <td>0.1024</td>\n",
       "      <td>0.0589</td>\n",
       "      <td>0.2269</td>\n",
       "      <td>0.1272</td>\n",
       "      <td>0.3235</td>\n",
       "    </tr>\n",
       "    <tr>\n",
       "      <th>438768</th>\n",
       "      <td>53</td>\n",
       "      <td>76</td>\n",
       "      <td>20210401 - Toronto Blue Jays</td>\n",
       "      <td>1</td>\n",
       "      <td>2021</td>\n",
       "      <td>Online Individual Game</td>\n",
       "      <td>1</td>\n",
       "      <td>4</td>\n",
       "      <td>900.0</td>\n",
       "      <td>1970-01-01</td>\n",
       "      <td>...</td>\n",
       "      <td>94</td>\n",
       "      <td>1</td>\n",
       "      <td>6</td>\n",
       "      <td>0.0534</td>\n",
       "      <td>0.0210</td>\n",
       "      <td>0.0395</td>\n",
       "      <td>0.0314</td>\n",
       "      <td>0.0109</td>\n",
       "      <td>0.5996</td>\n",
       "      <td>0.2442</td>\n",
       "    </tr>\n",
       "    <tr>\n",
       "      <th>438769</th>\n",
       "      <td>53</td>\n",
       "      <td>360</td>\n",
       "      <td>20210817 - Boston Red Sox</td>\n",
       "      <td>1</td>\n",
       "      <td>2021</td>\n",
       "      <td>Online Individual Game</td>\n",
       "      <td>2</td>\n",
       "      <td>2</td>\n",
       "      <td>150.0</td>\n",
       "      <td>1970-01-01</td>\n",
       "      <td>...</td>\n",
       "      <td>94</td>\n",
       "      <td>0</td>\n",
       "      <td>5</td>\n",
       "      <td>0.1015</td>\n",
       "      <td>0.1210</td>\n",
       "      <td>0.1605</td>\n",
       "      <td>0.1765</td>\n",
       "      <td>0.1895</td>\n",
       "      <td>0.1580</td>\n",
       "      <td>0.0931</td>\n",
       "    </tr>\n",
       "    <tr>\n",
       "      <th>438770</th>\n",
       "      <td>53</td>\n",
       "      <td>360</td>\n",
       "      <td>20210903 - Baltimore Orioles</td>\n",
       "      <td>1</td>\n",
       "      <td>2021</td>\n",
       "      <td>Online Individual Game</td>\n",
       "      <td>5</td>\n",
       "      <td>5</td>\n",
       "      <td>0.0</td>\n",
       "      <td>1970-01-01</td>\n",
       "      <td>...</td>\n",
       "      <td>94</td>\n",
       "      <td>0</td>\n",
       "      <td>6</td>\n",
       "      <td>0.0644</td>\n",
       "      <td>0.0934</td>\n",
       "      <td>0.1547</td>\n",
       "      <td>0.0896</td>\n",
       "      <td>0.2021</td>\n",
       "      <td>0.2360</td>\n",
       "      <td>0.1599</td>\n",
       "    </tr>\n",
       "    <tr>\n",
       "      <th>438771</th>\n",
       "      <td>53</td>\n",
       "      <td>590</td>\n",
       "      <td>20210819 - Minnesota Twins</td>\n",
       "      <td>1</td>\n",
       "      <td>2021</td>\n",
       "      <td>Online Individual Game</td>\n",
       "      <td>7</td>\n",
       "      <td>4</td>\n",
       "      <td>122.0</td>\n",
       "      <td>1970-01-01</td>\n",
       "      <td>...</td>\n",
       "      <td>94</td>\n",
       "      <td>0</td>\n",
       "      <td>3</td>\n",
       "      <td>0.0470</td>\n",
       "      <td>0.0177</td>\n",
       "      <td>0.4321</td>\n",
       "      <td>0.0141</td>\n",
       "      <td>0.0163</td>\n",
       "      <td>0.3790</td>\n",
       "      <td>0.0937</td>\n",
       "    </tr>\n",
       "  </tbody>\n",
       "</table>\n",
       "<p>5 rows × 39 columns</p>\n",
       "</div>"
      ],
      "text/plain": [
       "        lkupClientId  dimCustomerMasterId                     eventName  \\\n",
       "438767            53                   51  20210527 - Toronto Blue Jays   \n",
       "438768            53                   76  20210401 - Toronto Blue Jays   \n",
       "438769            53                  360     20210817 - Boston Red Sox   \n",
       "438770            53                  360  20210903 - Baltimore Orioles   \n",
       "438771            53                  590    20210819 - Minnesota Twins   \n",
       "\n",
       "        inMarket  year         productGrouping  Tier  eventDay  totalSpent  \\\n",
       "438767         1  2021  Online Individual Game     5         4        32.0   \n",
       "438768         1  2021  Online Individual Game     1         4       900.0   \n",
       "438769         1  2021  Online Individual Game     2         2       150.0   \n",
       "438770         1  2021  Online Individual Game     5         5         0.0   \n",
       "438771         1  2021  Online Individual Game     7         4       122.0   \n",
       "\n",
       "       recentDate  ...  NumberofGamesPerSeason  isNextGameBuyer Label  \\\n",
       "438767 1970-01-01  ...                      94                0     7   \n",
       "438768 1970-01-01  ...                      94                1     6   \n",
       "438769 1970-01-01  ...                      94                0     5   \n",
       "438770 1970-01-01  ...                      94                0     6   \n",
       "438771 1970-01-01  ...                      94                0     3   \n",
       "\n",
       "        Score_1  Score_2  Score_3  Score_4  Score_5  Score_6  Score_7  \n",
       "438767   0.0632   0.0979   0.1024   0.0589   0.2269   0.1272   0.3235  \n",
       "438768   0.0534   0.0210   0.0395   0.0314   0.0109   0.5996   0.2442  \n",
       "438769   0.1015   0.1210   0.1605   0.1765   0.1895   0.1580   0.0931  \n",
       "438770   0.0644   0.0934   0.1547   0.0896   0.2021   0.2360   0.1599  \n",
       "438771   0.0470   0.0177   0.4321   0.0141   0.0163   0.3790   0.0937  \n",
       "\n",
       "[5 rows x 39 columns]"
      ]
     },
     "execution_count": 10,
     "metadata": {},
     "output_type": "execute_result"
    }
   ],
   "source": [
    "new_predictions = predict_model(final_model, data=df_inference, raw_score=True)\n",
    "new_predictions.head()"
   ]
  },
  {
   "cell_type": "code",
   "execution_count": 11,
   "id": "c98d3de4-966c-4d4a-af8f-e4a2d78eed38",
   "metadata": {},
   "outputs": [
    {
     "data": {
      "text/plain": [
       "7    28148\n",
       "6    23358\n",
       "2     9697\n",
       "3     7563\n",
       "1     6937\n",
       "5     6509\n",
       "4     1576\n",
       "Name: Label, dtype: int64"
      ]
     },
     "execution_count": 11,
     "metadata": {},
     "output_type": "execute_result"
    }
   ],
   "source": [
    "new_predictions[\"Label\"].value_counts()"
   ]
  },
  {
   "cell_type": "code",
   "execution_count": 12,
   "id": "4d540733-839c-44e3-acfa-0c7ebc3e822d",
   "metadata": {},
   "outputs": [
    {
     "data": {
      "text/plain": [
       "(-0.001, 0.2]    66831\n",
       "(0.2, 0.4]       15179\n",
       "(0.4, 0.6]        1351\n",
       "(0.6, 0.8]         320\n",
       "(0.8, 1.0]         107\n",
       "Name: Score_1, dtype: int64"
      ]
     },
     "execution_count": 12,
     "metadata": {},
     "output_type": "execute_result"
    }
   ],
   "source": [
    "new_predictions[\"Score_1\"].value_counts(bins=[0, 0.2, 0.4, 0.6, 0.8, 1.0])"
   ]
  },
  {
   "cell_type": "code",
   "execution_count": 13,
   "id": "95e96920-bc9c-4b50-837c-89e392d13449",
   "metadata": {},
   "outputs": [
    {
     "data": {
      "text/plain": [
       "(-0.001, 0.2]    67667\n",
       "(0.2, 0.4]       14979\n",
       "(0.4, 0.6]         949\n",
       "(0.6, 0.8]         159\n",
       "(0.8, 1.0]          34\n",
       "Name: Score_2, dtype: int64"
      ]
     },
     "execution_count": 13,
     "metadata": {},
     "output_type": "execute_result"
    }
   ],
   "source": [
    "new_predictions[\"Score_2\"].value_counts(bins=[0, 0.2, 0.4, 0.6, 0.8, 1.0])"
   ]
  },
  {
   "cell_type": "code",
   "execution_count": 14,
   "id": "fe7a9d96-43a9-4e32-9b94-c18f15a6ab79",
   "metadata": {},
   "outputs": [
    {
     "data": {
      "text/plain": [
       "(-0.001, 0.2]    71814\n",
       "(0.2, 0.4]       10380\n",
       "(0.4, 0.6]        1209\n",
       "(0.6, 0.8]         338\n",
       "(0.8, 1.0]          47\n",
       "Name: Score_3, dtype: int64"
      ]
     },
     "execution_count": 14,
     "metadata": {},
     "output_type": "execute_result"
    }
   ],
   "source": [
    "new_predictions[\"Score_3\"].value_counts(bins=[0, 0.2, 0.4, 0.6, 0.8, 1.0])"
   ]
  },
  {
   "cell_type": "code",
   "execution_count": 15,
   "id": "f26f9ecd-2fb1-4712-bf56-ac2049728b40",
   "metadata": {},
   "outputs": [
    {
     "data": {
      "text/plain": [
       "(-0.001, 0.2]    81557\n",
       "(0.2, 0.4]        1727\n",
       "(0.4, 0.6]         264\n",
       "(0.6, 0.8]         156\n",
       "(0.8, 1.0]          84\n",
       "Name: Score_4, dtype: int64"
      ]
     },
     "execution_count": 15,
     "metadata": {},
     "output_type": "execute_result"
    }
   ],
   "source": [
    "new_predictions[\"Score_4\"].value_counts(bins=[0, 0.2, 0.4, 0.6, 0.8, 1.0])"
   ]
  },
  {
   "cell_type": "code",
   "execution_count": 16,
   "id": "ce062137-8ee9-4eff-89d3-4589a4d8903e",
   "metadata": {},
   "outputs": [
    {
     "data": {
      "text/plain": [
       "(-0.001, 0.2]    73839\n",
       "(0.2, 0.4]        9699\n",
       "(0.4, 0.6]         236\n",
       "(0.6, 0.8]          14\n",
       "(0.8, 1.0]           0\n",
       "Name: Score_5, dtype: int64"
      ]
     },
     "execution_count": 16,
     "metadata": {},
     "output_type": "execute_result"
    }
   ],
   "source": [
    "new_predictions[\"Score_5\"].value_counts(bins=[0, 0.2, 0.4, 0.6, 0.8, 1.0])"
   ]
  },
  {
   "cell_type": "code",
   "execution_count": 24,
   "id": "9b3e0fed-2c0f-4711-a7d5-df4828e2d0fa",
   "metadata": {},
   "outputs": [
    {
     "data": {
      "text/plain": [
       "(-0.001, 0.2]    48317\n",
       "(0.2, 0.4]       22582\n",
       "(0.4, 0.6]        9330\n",
       "(0.6, 0.8]        3269\n",
       "(0.8, 1.0]         290\n",
       "Name: Score_6, dtype: int64"
      ]
     },
     "execution_count": 24,
     "metadata": {},
     "output_type": "execute_result"
    }
   ],
   "source": [
    "new_predictions[\"Score_6\"].value_counts(bins=[0, 0.2, 0.4, 0.6, 0.8, 1.0])"
   ]
  },
  {
   "cell_type": "code",
   "execution_count": 25,
   "id": "2a1bc606-37aa-4423-b207-bba94b24f187",
   "metadata": {},
   "outputs": [
    {
     "data": {
      "text/plain": [
       "(-0.001, 0.2]    47464\n",
       "(0.2, 0.4]       23000\n",
       "(0.8, 1.0]        5323\n",
       "(0.4, 0.6]        4718\n",
       "(0.6, 0.8]        3283\n",
       "Name: Score_7, dtype: int64"
      ]
     },
     "execution_count": 25,
     "metadata": {},
     "output_type": "execute_result"
    }
   ],
   "source": [
    "new_predictions[\"Score_7\"].value_counts(bins=[0, 0.2, 0.4, 0.6, 0.8, 1.0])"
   ]
  },
  {
   "cell_type": "code",
   "execution_count": 17,
   "id": "ed5992e4-10d1-44de-aeda-072550c75086",
   "metadata": {},
   "outputs": [
    {
     "data": {
      "text/plain": [
       "array([[<AxesSubplot:title={'center':'Score_1'}>]], dtype=object)"
      ]
     },
     "execution_count": 17,
     "metadata": {},
     "output_type": "execute_result"
    },
    {
     "data": {
      "image/png": "[encoded data removed]",
      "text/plain": [
       "<Figure size 720x360 with 1 Axes>"
      ]
     },
     "metadata": {
      "needs_background": "light"
     },
     "output_type": "display_data"
    }
   ],
   "source": [
    "new_predictions[new_predictions[\"Label\"]==1][[\"Score_1\"]].hist(bins=30, figsize=(10,5), range=[0,1])"
   ]
  },
  {
   "cell_type": "code",
   "execution_count": 18,
   "id": "3b4b1d51-1c33-489a-95f6-ab75e428c760",
   "metadata": {},
   "outputs": [
    {
     "data": {
      "text/plain": [
       "array([[<AxesSubplot:title={'center':'Score_2'}>]], dtype=object)"
      ]
     },
     "execution_count": 18,
     "metadata": {},
     "output_type": "execute_result"
    },
    {
     "data": {
      "image/png": "[encoded data removed]",
      "text/plain": [
       "<Figure size 720x360 with 1 Axes>"
      ]
     },
     "metadata": {
      "needs_background": "light"
     },
     "output_type": "display_data"
    }
   ],
   "source": [
    "new_predictions[new_predictions[\"Label\"]==2][[\"Score_2\"]].hist(bins=30, figsize=(10,5), range=[0,1])"
   ]
  },
  {
   "cell_type": "code",
   "execution_count": 19,
   "id": "9fc6d526-9131-489b-9b21-fed28d05cf09",
   "metadata": {},
   "outputs": [
    {
     "data": {
      "text/plain": [
       "array([[<AxesSubplot:title={'center':'Score_3'}>]], dtype=object)"
      ]
     },
     "execution_count": 19,
     "metadata": {},
     "output_type": "execute_result"
    },
    {
     "data": {
      "image/png": "[encoded data removed]",
      "text/plain": [
       "<Figure size 720x360 with 1 Axes>"
      ]
     },
     "metadata": {
      "needs_background": "light"
     },
     "output_type": "display_data"
    }
   ],
   "source": [
    "new_predictions[new_predictions[\"Label\"]==3][[\"Score_3\"]].hist(bins=30, figsize=(10,5), range=[0,1])"
   ]
  },
  {
   "cell_type": "code",
   "execution_count": 20,
   "id": "10850030-3cba-4dec-b449-abbb3af747dc",
   "metadata": {},
   "outputs": [
    {
     "data": {
      "text/plain": [
       "array([[<AxesSubplot:title={'center':'Score_4'}>]], dtype=object)"
      ]
     },
     "execution_count": 20,
     "metadata": {},
     "output_type": "execute_result"
    },
    {
     "data": {
      "image/png": "[encoded data removed]",
      "text/plain": [
       "<Figure size 720x360 with 1 Axes>"
      ]
     },
     "metadata": {
      "needs_background": "light"
     },
     "output_type": "display_data"
    }
   ],
   "source": [
    "new_predictions[new_predictions[\"Label\"]==4][[\"Score_4\"]].hist(bins=30, figsize=(10,5), range=[0,1])"
   ]
  },
  {
   "cell_type": "code",
   "execution_count": 21,
   "id": "016ce4cb-e80b-414c-b58b-2d5c23f3efef",
   "metadata": {},
   "outputs": [
    {
     "data": {
      "text/plain": [
       "array([[<AxesSubplot:title={'center':'Score_5'}>]], dtype=object)"
      ]
     },
     "execution_count": 21,
     "metadata": {},
     "output_type": "execute_result"
    },
    {
     "data": {
      "image/png": "[encoded data removed]",
      "text/plain": [
       "<Figure size 720x360 with 1 Axes>"
      ]
     },
     "metadata": {
      "needs_background": "light"
     },
     "output_type": "display_data"
    }
   ],
   "source": [
    "new_predictions[new_predictions[\"Label\"]==5][[\"Score_5\"]].hist(bins=30, figsize=(10,5), range=[0,1])"
   ]
  },
  {
   "cell_type": "code",
   "execution_count": 26,
   "id": "e0ddf30d-e847-42ec-b210-04a63e997dce",
   "metadata": {},
   "outputs": [
    {
     "data": {
      "text/plain": [
       "array([[<AxesSubplot:title={'center':'Score_6'}>]], dtype=object)"
      ]
     },
     "execution_count": 26,
     "metadata": {},
     "output_type": "execute_result"
    },
    {
     "data": {
      "image/png": "[encoded data removed]",
      "text/plain": [
       "<Figure size 720x360 with 1 Axes>"
      ]
     },
     "metadata": {},
     "output_type": "display_data"
    }
   ],
   "source": [
    "new_predictions[new_predictions[\"Label\"]==6][[\"Score_6\"]].hist(bins=30, figsize=(10,5), range=[0,1])"
   ]
  },
  {
   "cell_type": "code",
   "execution_count": 27,
   "id": "ab31a00e-f262-4d60-b532-7847b257d930",
   "metadata": {},
   "outputs": [
    {
     "data": {
      "text/plain": [
       "array([[<AxesSubplot:title={'center':'Score_7'}>]], dtype=object)"
      ]
     },
     "execution_count": 27,
     "metadata": {},
     "output_type": "execute_result"
    },
    {
     "data": {
      "image/png": "[encoded data removed]",
      "text/plain": [
       "<Figure size 720x360 with 1 Axes>"
      ]
     },
     "metadata": {},
     "output_type": "display_data"
    }
   ],
   "source": [
    "new_predictions[new_predictions[\"Label\"]==7][[\"Score_7\"]].hist(bins=30, figsize=(10,5), range=[0,1])"
   ]
  },
  {
   "cell_type": "code",
   "execution_count": 22,
   "id": "144bd27b-9798-4f8b-a3a3-95298d8e2c01",
   "metadata": {},
   "outputs": [
    {
     "data": {
      "image/png": "[encoded data removed]",
      "text/plain": [
       "<Figure size 800x500 with 1 Axes>"
      ]
     },
     "metadata": {},
     "output_type": "display_data"
    }
   ],
   "source": [
    "plot_model(best_model, plot='feature')"
   ]
  },
  {
   "cell_type": "code",
   "execution_count": 23,
   "id": "79e34840-9a47-486f-a648-6d5d16d73b89",
   "metadata": {},
   "outputs": [
    {
     "data": {
      "image/png": "[encoded data removed]",
      "text/plain": [
       "<Figure size 576x396 with 1 Axes>"
      ]
     },
     "metadata": {},
     "output_type": "display_data"
    }
   ],
   "source": [
    "plot_model(best_model, plot='confusion_matrix')"
   ]
  },
  {
   "cell_type": "markdown",
   "id": "a439108b-7911-4384-b089-f7b31c825192",
   "metadata": {},
   "source": [
    "## Observations\n",
    "Here you can document some ideas on the results from above\n"
   ]
  },
  {
   "cell_type": "markdown",
   "id": "d2de91b5-a1e8-42a5-a087-8c31ff2e1db3",
   "metadata": {},
   "source": [
    "## Conclusions\n",
    "Here you can talk about next steps, did the experiment work? If yes, what to do next? If no, why?\n",
    "\n",
    "* We should ask CS/CI what they think the most significant factor towards a next game buyer is."
   ]
  },
  {
   "cell_type": "code",
   "execution_count": null,
   "id": "c1c6f293-c82c-4312-a374-1a530750ed52",
   "metadata": {},
   "outputs": [],
   "source": []
  }
 ],
 "metadata": {
  "kernelspec": {
   "display_name": "Python 3 (ipykernel)",
   "language": "python",
   "name": "python3"
  },
  "language_info": {
   "codemirror_mode": {
    "name": "ipython",
    "version": 3
   },
   "file_extension": ".py",
   "mimetype": "text/x-python",
   "name": "python",
   "nbconvert_exporter": "python",
   "pygments_lexer": "ipython3",
   "version": "3.9.4"
  }
 },
 "nbformat": 4,
 "nbformat_minor": 5
}
