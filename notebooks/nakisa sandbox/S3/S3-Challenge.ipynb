{
 "cells": [
  {
   "cell_type": "code",
   "execution_count": 1,
   "id": "18db4bd4-c23e-4b43-9f91-4c93e47931c9",
   "metadata": {},
   "outputs": [],
   "source": [
    "import boto3"
   ]
  },
  {
   "cell_type": "code",
   "execution_count": 2,
   "id": "6a9d7d52-f059-4695-9bb5-c8cd6bfaf9b9",
   "metadata": {},
   "outputs": [
    {
     "name": "stdout",
     "output_type": "stream",
     "text": [
      "Attempting to automatically open the SSO authorization page in your default browser.\n",
      "If the browser does not open or you wish to use a different device to authorize this request, open the following URL:\n",
      "\n",
      "https://device.sso.us-east-1.amazonaws.com/\n",
      "\n",
      "Then enter the code:\n",
      "\n",
      "WFGC-KCVW\n",
      "Successully logged into Start URL: https://stellaralgo.awsapps.com/start#/\n"
     ]
    }
   ],
   "source": [
    "! aws sso login --profile Stellaralgo-DataScienceAdmin"
   ]
  },
  {
   "cell_type": "markdown",
   "id": "b788f643-4ae7-4e85-b8af-80e64d30d050",
   "metadata": {},
   "source": [
    "### List the contents of an S3 bucket"
   ]
  },
  {
   "cell_type": "code",
   "execution_count": 7,
   "id": "e2b55bbf-3fc6-4117-b8ed-af80f4c4c96e",
   "metadata": {},
   "outputs": [
    {
     "name": "stdout",
     "output_type": "stream",
     "text": [
      "nakisa-challenge/\n",
      "nakisa-challenge/DS-Data Dictionary (Missing Metadata).xlsx\n",
      "nakisa-challenge/_DONE\n"
     ]
    }
   ],
   "source": [
    "s3 = boto3.resource('s3')\n",
    "my_bucket = s3.Bucket('ai-experimentation-td4np7')\n",
    "for object_summary in my_bucket.objects.filter(Prefix=\"nakisa-challenge/\"):\n",
    "    print(object_summary.key)"
   ]
  },
  {
   "cell_type": "code",
   "execution_count": 4,
   "id": "1a377a55-3b18-4386-ad70-0d6f17538793",
   "metadata": {},
   "outputs": [
    {
     "data": {
      "text/plain": [
       "{'ResponseMetadata': {'RequestId': 'NB3NSK54S94DWWE5',\n",
       "  'HostId': 'LXwwjl93K80HSOPhnBop5e9JunNSrDRxhqtpJCbt9nZ7Il/fdKZeq3XAKkUhcdvo73spfC90rtU=',\n",
       "  'HTTPStatusCode': 200,\n",
       "  'HTTPHeaders': {'x-amz-id-2': 'LXwwjl93K80HSOPhnBop5e9JunNSrDRxhqtpJCbt9nZ7Il/fdKZeq3XAKkUhcdvo73spfC90rtU=',\n",
       "   'x-amz-request-id': 'NB3NSK54S94DWWE5',\n",
       "   'date': 'Tue, 24 May 2022 20:29:44 GMT',\n",
       "   'x-amz-bucket-region': 'us-east-1',\n",
       "   'content-type': 'application/xml',\n",
       "   'transfer-encoding': 'chunked',\n",
       "   'server': 'AmazonS3'},\n",
       "  'RetryAttempts': 0},\n",
       " 'IsTruncated': False,\n",
       " 'Marker': '',\n",
       " 'Contents': [{'Key': 'nakisa-challenge/',\n",
       "   'LastModified': datetime.datetime(2022, 5, 19, 19, 32, 3, tzinfo=tzutc()),\n",
       "   'ETag': '\"aebcb942361ade80b34a94d10475ab9d\"',\n",
       "   'Size': 0,\n",
       "   'StorageClass': 'STANDARD',\n",
       "   'Owner': {'DisplayName': 'aws-explore-us',\n",
       "    'ID': '61af456fe2e266d32985aaa9db6f6c8e1c89ef494b7ce27d839846fa53e36348'}},\n",
       "  {'Key': 'nakisa-challenge/DS-Data Dictionary (Missing Metadata).xlsx',\n",
       "   'LastModified': datetime.datetime(2022, 5, 20, 16, 8, 25, tzinfo=tzutc()),\n",
       "   'ETag': '\"cd6a89b9340a16e81677dab09cdc3523\"',\n",
       "   'Size': 15040,\n",
       "   'StorageClass': 'STANDARD',\n",
       "   'Owner': {'DisplayName': 'aws-explore-us',\n",
       "    'ID': '61af456fe2e266d32985aaa9db6f6c8e1c89ef494b7ce27d839846fa53e36348'}},\n",
       "  {'Key': 'nakisa-challenge/_DONE',\n",
       "   'LastModified': datetime.datetime(2022, 5, 20, 18, 52, 42, tzinfo=tzutc()),\n",
       "   'ETag': '\"7c94dae270fd60a4d03a72ca7802f8e5\"',\n",
       "   'Size': 0,\n",
       "   'StorageClass': 'STANDARD',\n",
       "   'Owner': {'DisplayName': 'aws-explore-us',\n",
       "    'ID': '61af456fe2e266d32985aaa9db6f6c8e1c89ef494b7ce27d839846fa53e36348'}}],\n",
       " 'Name': 'ai-experimentation-td4np7',\n",
       " 'Prefix': 'nakisa-challenge/',\n",
       " 'MaxKeys': 1000,\n",
       " 'EncodingType': 'url'}"
      ]
     },
     "execution_count": 4,
     "metadata": {},
     "output_type": "execute_result"
    }
   ],
   "source": [
    "session = boto3.setup_default_session(profile_name='Stellaralgo-DataScienceAdmin')\n",
    "s3 = boto3.client('s3')\n",
    "params = {\n",
    "    \"Bucket\": \"ai-experimentation-td4np7\",\n",
    "    \"Prefix\": \"nakisa-challenge/\"\n",
    "}\n",
    "\n",
    "happy_objects = s3.list_objects(**params)\n",
    "happy_objects"
   ]
  },
  {
   "cell_type": "markdown",
   "id": "04a35df3-84cb-476f-a72f-7f324c18eaef",
   "metadata": {},
   "source": [
    "### Write a file to an S3 bucket"
   ]
  },
  {
   "cell_type": "code",
   "execution_count": 5,
   "id": "ca9d906f-08c0-49dc-bfd4-4477eb4ea72d",
   "metadata": {},
   "outputs": [
    {
     "data": {
      "text/plain": [
       "{'ResponseMetadata': {'RequestId': 'M2W6SWE1KN65HC10',\n",
       "  'HostId': 'CkAMKaHTMjzg0P2uPIGaPceGpZjgrXqaehyp/L/kPipJ/V+hPELwpD1iyt3ghgBuiVhwBYYeTWY=',\n",
       "  'HTTPStatusCode': 200,\n",
       "  'HTTPHeaders': {'x-amz-id-2': 'CkAMKaHTMjzg0P2uPIGaPceGpZjgrXqaehyp/L/kPipJ/V+hPELwpD1iyt3ghgBuiVhwBYYeTWY=',\n",
       "   'x-amz-request-id': 'M2W6SWE1KN65HC10',\n",
       "   'date': 'Tue, 24 May 2022 20:30:04 GMT',\n",
       "   'x-amz-server-side-encryption': 'aws:kms',\n",
       "   'x-amz-server-side-encryption-aws-kms-key-id': 'arn:aws:kms:us-east-1:176624903806:key/cbe87dbe-99b5-4779-8fdc-2a91c284690b',\n",
       "   'etag': '\"d79aaa76a200627bd84eb830890bc409\"',\n",
       "   'server': 'AmazonS3',\n",
       "   'content-length': '0'},\n",
       "  'RetryAttempts': 0},\n",
       " 'ETag': '\"d79aaa76a200627bd84eb830890bc409\"',\n",
       " 'ServerSideEncryption': 'aws:kms',\n",
       " 'SSEKMSKeyId': 'arn:aws:kms:us-east-1:176624903806:key/cbe87dbe-99b5-4779-8fdc-2a91c284690b'}"
      ]
     },
     "execution_count": 5,
     "metadata": {},
     "output_type": "execute_result"
    }
   ],
   "source": [
    "# Creating an empty file called \"_DONE\" and putting it in the S3 bucket\n",
    "\n",
    "BUCKET_NAME = 'ai-experimentation-td4np7'\n",
    "PREFIX = 'nakisa-challenge/'\n",
    "s3insert = boto3.resource('s3')\n",
    "s3insert.Object(BUCKET_NAME, PREFIX + '_DONE').put(Body=\"\")"
   ]
  },
  {
   "cell_type": "markdown",
   "id": "e0abdf36-d30d-476f-80b2-5cee6e4e8faa",
   "metadata": {},
   "source": [
    "### Read a file from an S3 bucket"
   ]
  },
  {
   "cell_type": "code",
   "execution_count": 6,
   "id": "ca2daf38-9e20-46a1-8d6c-399b32c66e2d",
   "metadata": {},
   "outputs": [],
   "source": [
    "s3read = boto3.resource('s3')\n",
    "bucket = s3read.Bucket('ai-experimentation-td4np7')\n",
    "for obj in bucket.objects.filter(Prefix=\"nakisa-challenge/\"):\n",
    "    key = obj.key\n",
    "    body = obj.get()['Body'].read()\n",
    "    #print(body)"
   ]
  },
  {
   "cell_type": "code",
   "execution_count": null,
   "id": "a5b7fb33-efbc-48c4-b805-021e871fd4be",
   "metadata": {},
   "outputs": [],
   "source": []
  }
 ],
 "metadata": {
  "kernelspec": {
   "display_name": "Python 3 (ipykernel)",
   "language": "python",
   "name": "python3"
  },
  "language_info": {
   "codemirror_mode": {
    "name": "ipython",
    "version": 3
   },
   "file_extension": ".py",
   "mimetype": "text/x-python",
   "name": "python",
   "nbconvert_exporter": "python",
   "pygments_lexer": "ipython3",
   "version": "3.9.4"
  }
 },
 "nbformat": 4,
 "nbformat_minor": 5
}
