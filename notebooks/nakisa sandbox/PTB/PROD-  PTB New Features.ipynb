{
 "cells": [
  {
   "cell_type": "markdown",
   "id": "6ee08766-25fd-4da1-91b8-b0c3e74db588",
   "metadata": {},
   "source": [
    "# Portland Trail Blazers - Limited Feature Selection\n",
    "* StelllarAlgo Data Science\n",
    "* Ryan Kazmerik & Nakisa Rad\n",
    "* May 16, 2022"
   ]
  },
  {
   "cell_type": "markdown",
   "id": "39108c8d-2e9f-4759-ade2-83071038dc56",
   "metadata": {},
   "source": [
    "## Hypothesis\n",
    "Two very important components of a machine learning model are feature selection and feature engineering. Too few features can prevent the model from learning anything, too many features can create noise that degrades the models ability to make good predictions. Our idea is that the PTB model that uses 30+ features may perform just as well with less features. This notebook will test the performance of a smaller feature set and compare it with the larger feature set."
   ]
  },
  {
   "cell_type": "markdown",
   "id": "28142011-1f32-4cc7-816b-a6dae6f70c8c",
   "metadata": {},
   "source": [
    "## Experiment\n",
    "This section details our experiment including querying data, data transformations, feature selection and modelling."
   ]
  },
  {
   "cell_type": "code",
   "execution_count": 1,
   "id": "4c533efd-600e-4bce-8203-faffbddfa700",
   "metadata": {},
   "outputs": [],
   "source": [
    "import getpass\n",
    "import pyodbc\n",
    "import pandas as pd\n",
    "import warnings\n",
    "import matplotlib.pyplot as plt\n",
    "\n",
    "from pycaret.classification import *\n",
    "\n",
    "warnings.filterwarnings('ignore')"
   ]
  },
  {
   "cell_type": "markdown",
   "id": "b64ae7d5-84af-4915-bd13-1dd9d17098a3",
   "metadata": {},
   "source": [
    "### Let's connect to MSSQL and run a stored proc to get our dataset:"
   ]
  },
  {
   "cell_type": "code",
   "execution_count": 3,
   "id": "ae561eb4-f419-4d46-b5e0-12fac9b10db8",
   "metadata": {},
   "outputs": [],
   "source": [
    "# connect to SQL Server.\n",
    "SERVER = '34.206.73.189' \n",
    "DATABASE = 'datascience' \n",
    "USERNAME = 'dsAdminWrite' \n",
    "PASSWORD = getpass.getpass(prompt='Enter your password')\n",
    "CNXN = pyodbc.connect('DRIVER={ODBC Driver 17 for SQL Server};SERVER='+SERVER+';DATABASE='+DATABASE+';UID='+USERNAME+';PWD='+ PASSWORD)"
   ]
  },
  {
   "cell_type": "code",
   "execution_count": 4,
   "id": "af1afe7d-a35b-494b-88f3-980fb0e3da30",
   "metadata": {},
   "outputs": [
    {
     "data": {
      "text/plain": [
       "(27461, 53)"
      ]
     },
     "execution_count": 4,
     "metadata": {},
     "output_type": "execute_result"
    }
   ],
   "source": [
    "lkupclientid = 5 # blazers\n",
    "cursor = CNXN.cursor()\n",
    "\n",
    "storedProc = (\n",
    "    f\"\"\"Exec [stlrTrailBlazers].[ds].[getRetentionScoringModelData] {lkupclientid}\"\"\"\n",
    ")\n",
    "\n",
    "df = pd.read_sql(storedProc, CNXN)\n",
    "\n",
    "# apply some data transformations\n",
    "df[\"year\"] = pd.to_numeric(df[\"year\"])\n",
    "\n",
    "CNXN.commit()\n",
    "cursor.close()\n",
    "\n",
    "df.shape"
   ]
  },
  {
   "cell_type": "code",
   "execution_count": 5,
   "id": "11e97dcc-c69e-46c1-8dad-33f6291cb0c6",
   "metadata": {},
   "outputs": [
    {
     "name": "stdout",
     "output_type": "stream",
     "text": [
      "<class 'pandas.core.frame.DataFrame'>\n",
      "RangeIndex: 27461 entries, 0 to 27460\n",
      "Data columns (total 53 columns):\n",
      " #   Column                  Non-Null Count  Dtype  \n",
      "---  ------                  --------------  -----  \n",
      " 0   lkupClientId            27461 non-null  int64  \n",
      " 1   dimCustomerMasterId     27461 non-null  int64  \n",
      " 2   year                    27461 non-null  int64  \n",
      " 3   productGrouping         27461 non-null  object \n",
      " 4   totalSpent              27461 non-null  float64\n",
      " 5   recentDate              27461 non-null  object \n",
      " 6   attendancePercent       27461 non-null  float64\n",
      " 7   renewedBeforeDays       27461 non-null  int64  \n",
      " 8   isBuyer                 27461 non-null  object \n",
      " 9   source_tenure           27461 non-null  int64  \n",
      " 10  tenure                  27461 non-null  int64  \n",
      " 11  distToVenue             0 non-null      object \n",
      " 12  totalGames              27461 non-null  int64  \n",
      " 13  recency                 27461 non-null  int64  \n",
      " 14  missed_games_1          27461 non-null  int64  \n",
      " 15  missed_games_2          27461 non-null  int64  \n",
      " 16  missed_games_over_2     27461 non-null  int64  \n",
      " 17  click_link              27461 non-null  int64  \n",
      " 18  fill_out_form           27461 non-null  int64  \n",
      " 19  open_email              27461 non-null  int64  \n",
      " 20  send_email              27461 non-null  int64  \n",
      " 21  unsubscribe_email       27461 non-null  int64  \n",
      " 22  openToSendRatio         27461 non-null  float64\n",
      " 23  clickToSendRatio        27461 non-null  float64\n",
      " 24  clickToOpenRatio        27461 non-null  float64\n",
      " 25  posting_records         27461 non-null  int64  \n",
      " 26  resale_records          27461 non-null  int64  \n",
      " 27  resale_atp              27461 non-null  float64\n",
      " 28  forward_records         27461 non-null  int64  \n",
      " 29  cancel_records          27461 non-null  int64  \n",
      " 30  email                   27461 non-null  int64  \n",
      " 31  inbound_email           27461 non-null  int64  \n",
      " 32  inbound_phonecall       27461 non-null  int64  \n",
      " 33  inperson_contact        27461 non-null  int64  \n",
      " 34  internal_note           27461 non-null  int64  \n",
      " 35  left_message            27461 non-null  int64  \n",
      " 36  outbound_email          27461 non-null  int64  \n",
      " 37  outbound_phonecall      27461 non-null  int64  \n",
      " 38  phonecall               27461 non-null  int64  \n",
      " 39  text                    27461 non-null  int64  \n",
      " 40  unknown                 27461 non-null  int64  \n",
      " 41  gender                  27461 non-null  object \n",
      " 42  childrenPresentInHH     27461 non-null  int64  \n",
      " 43  maritalStatus           27461 non-null  int64  \n",
      " 44  lengthOfResidenceInYrs  0 non-null      object \n",
      " 45  annualHHIncome          0 non-null      object \n",
      " 46  education               0 non-null      object \n",
      " 47  urbanicity              0 non-null      object \n",
      " 48  credits_after_refund    27461 non-null  float64\n",
      " 49  is_Lockdown             27461 non-null  int64  \n",
      " 50  NumberofGamesPerSeason  27461 non-null  int64  \n",
      " 51  CNTPostponedGames       0 non-null      object \n",
      " 52  isNextYear_Buyer        27461 non-null  int64  \n",
      "dtypes: float64(7), int64(36), object(10)\n",
      "memory usage: 11.1+ MB\n"
     ]
    }
   ],
   "source": [
    "df.info()"
   ]
  },
  {
   "cell_type": "markdown",
   "id": "ab40da92-72a7-49c1-9829-ed3805a39719",
   "metadata": {},
   "source": [
    "### We should specify the features used in our model:"
   ]
  },
  {
   "cell_type": "code",
   "execution_count": 6,
   "id": "788f1273-8b7a-46bd-a099-1a471feeacc5",
   "metadata": {},
   "outputs": [
    {
     "name": "stdout",
     "output_type": "stream",
     "text": [
      "Data for Modeling: (18588, 18)\n",
      "Unseen Data For Predictions: (3280, 18)\n",
      "\n"
     ]
    }
   ],
   "source": [
    "# select a smaller set of features than the current PTB model\n",
    "features = [\n",
    "            \"attendancePercent\",\n",
    "            \"clickToOpenRatio\", \n",
    "            \"clickToSendRatio\",\n",
    "            \"distToVenue\",\n",
    "            \"forward_records\",\n",
    "            \"missed_games_1\",\n",
    "            \"missed_games_2\",\n",
    "            \"missed_games_over_2\",\n",
    "            \"openToSendRatio\",\n",
    "            \"recency\",\n",
    "            \"renewedBeforeDays\",\n",
    "            \"source_tenure\",\n",
    "            \"tenure\",\n",
    "            \"totalSpent\",\n",
    "            \"dimCustomerMasterId\",\n",
    "            \"isNextYear_Buyer\",\n",
    "            \"productGrouping\",\n",
    "            \"year\"\n",
    "]\n",
    "\n",
    "# copy your main dataframe\n",
    "df_dataset = df\n",
    "\n",
    "# choose the features & train year & test year\n",
    "df_dataset = df_dataset[features]\n",
    "df_dataset[\"year\"] = pd.to_numeric(df_dataset[\"year\"])\n",
    "df_dataset = df_dataset.loc[df_dataset[\"year\"] <= 2019]\n",
    "\n",
    "df_train = df_dataset.sample(frac=0.85, random_state=786)\n",
    "df_eval = df_dataset.drop(df_train.index)\n",
    "\n",
    "df_train.reset_index(drop=True, inplace=True)\n",
    "df_eval.reset_index(drop=True, inplace=True)\n",
    "\n",
    "# print out the number of records for training and eval\n",
    "print('Data for Modeling: ' + str(df_train.shape))\n",
    "print('Unseen Data For Predictions: ' + str(df_eval.shape), end=\"\\n\\n\")"
   ]
  },
  {
   "cell_type": "markdown",
   "id": "4f2da06d-9015-49fd-89b3-956c2ebf66e9",
   "metadata": {},
   "source": [
    "### Now we can model the data using a binary classification prediction for the isnextyear_buyer field to see how likely a customer is to re-purchase."
   ]
  },
  {
   "cell_type": "code",
   "execution_count": 7,
   "id": "23a69cdc-b3ec-48c8-9ce5-29f617779389",
   "metadata": {},
   "outputs": [],
   "source": [
    "setup(\n",
    "    data= df_train, \n",
    "    target=\"isNextYear_Buyer\", \n",
    "    train_size = 0.85,\n",
    "    data_split_shuffle=True,\n",
    "    ignore_features=[\"dimCustomerMasterId\",\"productGrouping\",\"year\"],\n",
    "    silent=True,\n",
    "    verbose=False,\n",
    "    numeric_features=[\n",
    "        \"attendancePercent\",\n",
    "            \"clickToOpenRatio\", \n",
    "            \"clickToSendRatio\",\n",
    "            \"distToVenue\",\n",
    "            \"forward_records\",\n",
    "            \"missed_games_1\",\n",
    "            \"missed_games_2\",\n",
    "            \"missed_games_over_2\",\n",
    "            \"openToSendRatio\",\n",
    "            \"recency\",\n",
    "            \"renewedBeforeDays\",\n",
    "            \"source_tenure\",\n",
    "            \"tenure\",\n",
    "            \"totalSpent\"\n",
    "    ]\n",
    ");"
   ]
  },
  {
   "cell_type": "code",
   "execution_count": 10,
   "id": "ef2db9d2-02c2-45c0-b6bb-5cad42c373ce",
   "metadata": {},
   "outputs": [
    {
     "data": {
      "text/html": [
       "<style type=\"text/css\">\n",
       "#T_afea8_ th {\n",
       "  text-align: left;\n",
       "}\n",
       "#T_afea8_row0_col0, #T_afea8_row1_col0, #T_afea8_row1_col1, #T_afea8_row1_col2, #T_afea8_row1_col3, #T_afea8_row1_col4, #T_afea8_row1_col5, #T_afea8_row1_col6, #T_afea8_row1_col7 {\n",
       "  text-align: left;\n",
       "}\n",
       "#T_afea8_row0_col1, #T_afea8_row0_col2, #T_afea8_row0_col3, #T_afea8_row0_col4, #T_afea8_row0_col5, #T_afea8_row0_col6, #T_afea8_row0_col7 {\n",
       "  text-align: left;\n",
       "  background-color: yellow;\n",
       "}\n",
       "#T_afea8_row0_col8 {\n",
       "  text-align: left;\n",
       "  background-color: lightgrey;\n",
       "}\n",
       "#T_afea8_row1_col8 {\n",
       "  text-align: left;\n",
       "  background-color: yellow;\n",
       "  background-color: lightgrey;\n",
       "}\n",
       "</style>\n",
       "<table id=\"T_afea8_\">\n",
       "  <thead>\n",
       "    <tr>\n",
       "      <th class=\"blank level0\" >&nbsp;</th>\n",
       "      <th class=\"col_heading level0 col0\" >Model</th>\n",
       "      <th class=\"col_heading level0 col1\" >Accuracy</th>\n",
       "      <th class=\"col_heading level0 col2\" >AUC</th>\n",
       "      <th class=\"col_heading level0 col3\" >Recall</th>\n",
       "      <th class=\"col_heading level0 col4\" >Prec.</th>\n",
       "      <th class=\"col_heading level0 col5\" >F1</th>\n",
       "      <th class=\"col_heading level0 col6\" >Kappa</th>\n",
       "      <th class=\"col_heading level0 col7\" >MCC</th>\n",
       "      <th class=\"col_heading level0 col8\" >TT (Sec)</th>\n",
       "    </tr>\n",
       "  </thead>\n",
       "  <tbody>\n",
       "    <tr>\n",
       "      <th id=\"T_afea8_level0_row0\" class=\"row_heading level0 row0\" >xgboost</th>\n",
       "      <td id=\"T_afea8_row0_col0\" class=\"data row0 col0\" >Extreme Gradient Boosting</td>\n",
       "      <td id=\"T_afea8_row0_col1\" class=\"data row0 col1\" >0.7966</td>\n",
       "      <td id=\"T_afea8_row0_col2\" class=\"data row0 col2\" >0.8614</td>\n",
       "      <td id=\"T_afea8_row0_col3\" class=\"data row0 col3\" >0.8733</td>\n",
       "      <td id=\"T_afea8_row0_col4\" class=\"data row0 col4\" >0.8203</td>\n",
       "      <td id=\"T_afea8_row0_col5\" class=\"data row0 col5\" >0.8459</td>\n",
       "      <td id=\"T_afea8_row0_col6\" class=\"data row0 col6\" >0.5475</td>\n",
       "      <td id=\"T_afea8_row0_col7\" class=\"data row0 col7\" >0.5500</td>\n",
       "      <td id=\"T_afea8_row0_col8\" class=\"data row0 col8\" >0.4850</td>\n",
       "    </tr>\n",
       "    <tr>\n",
       "      <th id=\"T_afea8_level0_row1\" class=\"row_heading level0 row1\" >lr</th>\n",
       "      <td id=\"T_afea8_row1_col0\" class=\"data row1 col0\" >Logistic Regression</td>\n",
       "      <td id=\"T_afea8_row1_col1\" class=\"data row1 col1\" >0.7602</td>\n",
       "      <td id=\"T_afea8_row1_col2\" class=\"data row1 col2\" >0.8162</td>\n",
       "      <td id=\"T_afea8_row1_col3\" class=\"data row1 col3\" >0.8620</td>\n",
       "      <td id=\"T_afea8_row1_col4\" class=\"data row1 col4\" >0.7844</td>\n",
       "      <td id=\"T_afea8_row1_col5\" class=\"data row1 col5\" >0.8213</td>\n",
       "      <td id=\"T_afea8_row1_col6\" class=\"data row1 col6\" >0.4594</td>\n",
       "      <td id=\"T_afea8_row1_col7\" class=\"data row1 col7\" >0.4642</td>\n",
       "      <td id=\"T_afea8_row1_col8\" class=\"data row1 col8\" >0.1400</td>\n",
       "    </tr>\n",
       "  </tbody>\n",
       "</table>\n"
      ],
      "text/plain": [
       "<pandas.io.formats.style.Styler at 0x7f93cd522160>"
      ]
     },
     "metadata": {},
     "output_type": "display_data"
    }
   ],
   "source": [
    "model_matrix = compare_models(\n",
    "    fold=10,\n",
    "    include=[\"lr\",\"xgboost\"]\n",
    ")"
   ]
  },
  {
   "cell_type": "code",
   "execution_count": null,
   "id": "d9f030ed-4b6a-4a87-a01e-129dc49e0d4a",
   "metadata": {},
   "outputs": [],
   "source": [
    "best_model = create_model(model_matrix)\n",
    "final_model = finalize_model(best_model)"
   ]
  },
  {
   "cell_type": "markdown",
   "id": "3aab9021-4462-423a-8e3c-fbe1f36c6110",
   "metadata": {},
   "source": [
    "### Let's load in our 2021 season data and get retention scores using the model:"
   ]
  },
  {
   "cell_type": "code",
   "execution_count": 12,
   "id": "c249a813-c882-4869-9490-6ab766a8c223",
   "metadata": {},
   "outputs": [
    {
     "data": {
      "text/plain": [
       "(5593, 53)"
      ]
     },
     "execution_count": 12,
     "metadata": {},
     "output_type": "execute_result"
    }
   ],
   "source": [
    "df_inference = df.loc[df[\"year\"] >= 2021]\n",
    "df_inference = df_inference.fillna(0)\n",
    "df_inference.shape"
   ]
  },
  {
   "cell_type": "code",
   "execution_count": 13,
   "id": "745b62fb-fb2e-4b4a-9c48-8ce4de472a83",
   "metadata": {},
   "outputs": [
    {
     "data": {
      "text/html": [
       "<div>\n",
       "<style scoped>\n",
       "    .dataframe tbody tr th:only-of-type {\n",
       "        vertical-align: middle;\n",
       "    }\n",
       "\n",
       "    .dataframe tbody tr th {\n",
       "        vertical-align: top;\n",
       "    }\n",
       "\n",
       "    .dataframe thead th {\n",
       "        text-align: right;\n",
       "    }\n",
       "</style>\n",
       "<table border=\"1\" class=\"dataframe\">\n",
       "  <thead>\n",
       "    <tr style=\"text-align: right;\">\n",
       "      <th></th>\n",
       "      <th>lkupClientId</th>\n",
       "      <th>dimCustomerMasterId</th>\n",
       "      <th>year</th>\n",
       "      <th>productGrouping</th>\n",
       "      <th>totalSpent</th>\n",
       "      <th>recentDate</th>\n",
       "      <th>attendancePercent</th>\n",
       "      <th>renewedBeforeDays</th>\n",
       "      <th>isBuyer</th>\n",
       "      <th>source_tenure</th>\n",
       "      <th>...</th>\n",
       "      <th>education</th>\n",
       "      <th>urbanicity</th>\n",
       "      <th>credits_after_refund</th>\n",
       "      <th>is_Lockdown</th>\n",
       "      <th>NumberofGamesPerSeason</th>\n",
       "      <th>CNTPostponedGames</th>\n",
       "      <th>isNextYear_Buyer</th>\n",
       "      <th>Label</th>\n",
       "      <th>Score_0</th>\n",
       "      <th>Score_1</th>\n",
       "    </tr>\n",
       "  </thead>\n",
       "  <tbody>\n",
       "    <tr>\n",
       "      <th>21868</th>\n",
       "      <td>5</td>\n",
       "      <td>1335</td>\n",
       "      <td>2021</td>\n",
       "      <td>Full Season</td>\n",
       "      <td>1388.9</td>\n",
       "      <td>2021-12-14</td>\n",
       "      <td>0.142857</td>\n",
       "      <td>269</td>\n",
       "      <td>TRUE</td>\n",
       "      <td>5475</td>\n",
       "      <td>...</td>\n",
       "      <td>0</td>\n",
       "      <td>0</td>\n",
       "      <td>0.0</td>\n",
       "      <td>1</td>\n",
       "      <td>194</td>\n",
       "      <td>0</td>\n",
       "      <td>1</td>\n",
       "      <td>1</td>\n",
       "      <td>0.3402</td>\n",
       "      <td>0.6598</td>\n",
       "    </tr>\n",
       "    <tr>\n",
       "      <th>21869</th>\n",
       "      <td>5</td>\n",
       "      <td>1358</td>\n",
       "      <td>2021</td>\n",
       "      <td>Full Season</td>\n",
       "      <td>2717.6</td>\n",
       "      <td>2022-04-10</td>\n",
       "      <td>0.107143</td>\n",
       "      <td>269</td>\n",
       "      <td>TRUE</td>\n",
       "      <td>16425</td>\n",
       "      <td>...</td>\n",
       "      <td>0</td>\n",
       "      <td>0</td>\n",
       "      <td>0.0</td>\n",
       "      <td>1</td>\n",
       "      <td>194</td>\n",
       "      <td>0</td>\n",
       "      <td>1</td>\n",
       "      <td>1</td>\n",
       "      <td>0.1070</td>\n",
       "      <td>0.8930</td>\n",
       "    </tr>\n",
       "    <tr>\n",
       "      <th>21870</th>\n",
       "      <td>5</td>\n",
       "      <td>2746</td>\n",
       "      <td>2021</td>\n",
       "      <td>Half Season</td>\n",
       "      <td>4914.0</td>\n",
       "      <td>2022-03-30</td>\n",
       "      <td>0.714286</td>\n",
       "      <td>269</td>\n",
       "      <td>TRUE</td>\n",
       "      <td>4745</td>\n",
       "      <td>...</td>\n",
       "      <td>0</td>\n",
       "      <td>0</td>\n",
       "      <td>0.0</td>\n",
       "      <td>1</td>\n",
       "      <td>194</td>\n",
       "      <td>0</td>\n",
       "      <td>1</td>\n",
       "      <td>1</td>\n",
       "      <td>0.0942</td>\n",
       "      <td>0.9058</td>\n",
       "    </tr>\n",
       "    <tr>\n",
       "      <th>21871</th>\n",
       "      <td>5</td>\n",
       "      <td>6322</td>\n",
       "      <td>2021</td>\n",
       "      <td>Half Season</td>\n",
       "      <td>1663.2</td>\n",
       "      <td>2022-04-10</td>\n",
       "      <td>0.300000</td>\n",
       "      <td>276</td>\n",
       "      <td>TRUE</td>\n",
       "      <td>4015</td>\n",
       "      <td>...</td>\n",
       "      <td>0</td>\n",
       "      <td>0</td>\n",
       "      <td>0.0</td>\n",
       "      <td>1</td>\n",
       "      <td>194</td>\n",
       "      <td>0</td>\n",
       "      <td>1</td>\n",
       "      <td>1</td>\n",
       "      <td>0.0348</td>\n",
       "      <td>0.9652</td>\n",
       "    </tr>\n",
       "    <tr>\n",
       "      <th>21872</th>\n",
       "      <td>5</td>\n",
       "      <td>6975</td>\n",
       "      <td>2021</td>\n",
       "      <td>Half Season</td>\n",
       "      <td>2772.0</td>\n",
       "      <td>2022-04-10</td>\n",
       "      <td>0.625000</td>\n",
       "      <td>237</td>\n",
       "      <td>TRUE</td>\n",
       "      <td>2920</td>\n",
       "      <td>...</td>\n",
       "      <td>0</td>\n",
       "      <td>0</td>\n",
       "      <td>0.0</td>\n",
       "      <td>1</td>\n",
       "      <td>194</td>\n",
       "      <td>0</td>\n",
       "      <td>1</td>\n",
       "      <td>1</td>\n",
       "      <td>0.3006</td>\n",
       "      <td>0.6994</td>\n",
       "    </tr>\n",
       "  </tbody>\n",
       "</table>\n",
       "<p>5 rows × 56 columns</p>\n",
       "</div>"
      ],
      "text/plain": [
       "       lkupClientId  dimCustomerMasterId  year productGrouping  totalSpent  \\\n",
       "21868             5                 1335  2021     Full Season      1388.9   \n",
       "21869             5                 1358  2021     Full Season      2717.6   \n",
       "21870             5                 2746  2021     Half Season      4914.0   \n",
       "21871             5                 6322  2021     Half Season      1663.2   \n",
       "21872             5                 6975  2021     Half Season      2772.0   \n",
       "\n",
       "       recentDate  attendancePercent  renewedBeforeDays isBuyer  \\\n",
       "21868  2021-12-14           0.142857                269    TRUE   \n",
       "21869  2022-04-10           0.107143                269    TRUE   \n",
       "21870  2022-03-30           0.714286                269    TRUE   \n",
       "21871  2022-04-10           0.300000                276    TRUE   \n",
       "21872  2022-04-10           0.625000                237    TRUE   \n",
       "\n",
       "       source_tenure  ...  education  urbanicity  credits_after_refund  \\\n",
       "21868           5475  ...          0           0                   0.0   \n",
       "21869          16425  ...          0           0                   0.0   \n",
       "21870           4745  ...          0           0                   0.0   \n",
       "21871           4015  ...          0           0                   0.0   \n",
       "21872           2920  ...          0           0                   0.0   \n",
       "\n",
       "       is_Lockdown  NumberofGamesPerSeason  CNTPostponedGames  \\\n",
       "21868            1                     194                  0   \n",
       "21869            1                     194                  0   \n",
       "21870            1                     194                  0   \n",
       "21871            1                     194                  0   \n",
       "21872            1                     194                  0   \n",
       "\n",
       "       isNextYear_Buyer  Label  Score_0  Score_1  \n",
       "21868                 1      1   0.3402   0.6598  \n",
       "21869                 1      1   0.1070   0.8930  \n",
       "21870                 1      1   0.0942   0.9058  \n",
       "21871                 1      1   0.0348   0.9652  \n",
       "21872                 1      1   0.3006   0.6994  \n",
       "\n",
       "[5 rows x 56 columns]"
      ]
     },
     "execution_count": 13,
     "metadata": {},
     "output_type": "execute_result"
    }
   ],
   "source": [
    "new_predictions = predict_model(final_model, data=df_inference, raw_score=True)\n",
    "new_predictions.head()"
   ]
  },
  {
   "cell_type": "code",
   "execution_count": 14,
   "id": "c98d3de4-966c-4d4a-af8f-e4a2d78eed38",
   "metadata": {},
   "outputs": [
    {
     "data": {
      "text/plain": [
       "1    3090\n",
       "0    2503\n",
       "Name: Label, dtype: int64"
      ]
     },
     "execution_count": 14,
     "metadata": {},
     "output_type": "execute_result"
    }
   ],
   "source": [
    "new_predictions[\"Label\"].value_counts()"
   ]
  },
  {
   "cell_type": "code",
   "execution_count": 15,
   "id": "3b4b1d51-1c33-489a-95f6-ab75e428c760",
   "metadata": {},
   "outputs": [
    {
     "data": {
      "text/plain": [
       "array([[<AxesSubplot:title={'center':'Score_1'}>]], dtype=object)"
      ]
     },
     "execution_count": 15,
     "metadata": {},
     "output_type": "execute_result"
    },
    {
     "data": {
      "image/png": "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",
      "text/plain": [
       "<Figure size 720x360 with 1 Axes>"
      ]
     },
     "metadata": {},
     "output_type": "display_data"
    }
   ],
   "source": [
    "new_predictions[new_predictions[\"Label\"]==1][[\"Score_1\"]].hist(bins=30, figsize=(10,5), range=[0,1])"
   ]
  },
  {
   "cell_type": "code",
   "execution_count": 16,
   "id": "144bd27b-9798-4f8b-a3a3-95298d8e2c01",
   "metadata": {},
   "outputs": [
    {
     "data": {
      "image/png": "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",
      "text/plain": [
       "<Figure size 800x500 with 1 Axes>"
      ]
     },
     "metadata": {},
     "output_type": "display_data"
    }
   ],
   "source": [
    "plot_model(best_model, plot='feature')"
   ]
  },
  {
   "cell_type": "code",
   "execution_count": 16,
   "id": "79e34840-9a47-486f-a648-6d5d16d73b89",
   "metadata": {},
   "outputs": [
    {
     "data": {
      "image/png": "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",
      "text/plain": [
       "<Figure size 576x396 with 1 Axes>"
      ]
     },
     "metadata": {},
     "output_type": "display_data"
    }
   ],
   "source": [
    "plot_model(best_model, plot='confusion_matrix')"
   ]
  },
  {
   "cell_type": "markdown",
   "id": "a439108b-7911-4384-b089-f7b31c825192",
   "metadata": {},
   "source": [
    "## Observations\n",
    "Nakisa: please add the following observations from this experiment:\n",
    "\n",
    "1. What was the accuracy of the PTB model that used the larger list of features, and how does it compare to the accuracy for this model?\n",
    "\n",
    "2. What were the top 10 feature importances of each model. Did they change order at all with the smaller set of features?\n",
    "\n",
    "3. Did the new model predict more buyers than the previous model, or less?"
   ]
  },
  {
   "cell_type": "markdown",
   "id": "d2de91b5-a1e8-42a5-a087-8c31ff2e1db3",
   "metadata": {},
   "source": [
    "## Conclusions\n",
<<<<<<< HEAD
    "* the distribution doesn't look normal\n",
    "* The ticketing data are in the top 4 feature importance\n",
    "* The model makes more predictions of customers who will buy\n",
    "* The accuracy and the AUC is the same compared to using all PTB features"
=======
    "\n",
    "Nakisa: based on your observations above, provide a recommendation on if we can use the smaller feature set or need to use the larger feature set."
>>>>>>> 45b4948275236073bc5aefed8593fdb8e34d360d
   ]
  },
  {
   "cell_type": "markdown",
   "id": "fe50917a",
   "metadata": {},
   "source": []
  }
 ],
 "metadata": {
  "interpreter": {
   "hash": "89f48dadab51a6b5b48ffc1a9e043c21cefe67453637c3444f3b86917b8aad16"
  },
  "kernelspec": {
   "display_name": "Python 3.8.5 ('stellar')",
   "language": "python",
   "name": "python3"
  },
  "language_info": {
   "codemirror_mode": {
    "name": "ipython",
    "version": 3
   },
   "file_extension": ".py",
   "mimetype": "text/x-python",
   "name": "python",
   "nbconvert_exporter": "python",
   "pygments_lexer": "ipython3",
   "version": "3.8.5"
  }
 },
 "nbformat": 4,
 "nbformat_minor": 5
}
