{
 "cells": [
  {
   "cell_type": "markdown",
   "id": "2980abb3-b3be-40a8-980d-c86e8b38f94e",
   "metadata": {},
   "source": [
    "# S3 - Challenge\n",
    "* StelllarAlgo Data Science\n",
    "* Ryan Kazmerik & Nakisa Rad\n",
    "* June 6, 2022"
   ]
  },
  {
   "cell_type": "markdown",
   "id": "7842c5f6-f8ad-4bce-a56b-4d0f6055d3d9",
   "metadata": {},
   "source": [
    "## What we want to do:\n",
    "1. Get a list the contents of an S3 bucket \n",
    "2. Write a file to an S3 bucket\n",
    "3. Read a file from an S3 bucket"
   ]
  },
  {
   "cell_type": "code",
   "execution_count": 8,
   "id": "18db4bd4-c23e-4b43-9f91-4c93e47931c9",
   "metadata": {},
   "outputs": [],
   "source": [
    "import boto3\n",
    "import pandas as pd"
   ]
  },
  {
   "cell_type": "code",
   "execution_count": 2,
   "id": "6a9d7d52-f059-4695-9bb5-c8cd6bfaf9b9",
   "metadata": {},
   "outputs": [
    {
     "name": "stdout",
     "output_type": "stream",
     "text": [
      "Attempting to automatically open the SSO authorization page in your default browser.\n",
      "If the browser does not open or you wish to use a different device to authorize this request, open the following URL:\n",
      "\n",
      "https://device.sso.us-east-1.amazonaws.com/\n",
      "\n",
      "Then enter the code:\n",
      "\n",
      "LZZR-TBHX\n",
      "Successully logged into Start URL: https://stellaralgo.awsapps.com/start#/\n"
     ]
    }
   ],
   "source": [
    "! aws sso login --profile Stellaralgo-DataScienceAdmin"
   ]
  },
  {
   "cell_type": "markdown",
   "id": "e68de085-d10e-48f2-925f-c359d075c69d",
   "metadata": {},
   "source": [
    "### Get a list of the Parameters we need"
   ]
  },
  {
   "cell_type": "code",
   "execution_count": 3,
   "id": "fde48ae2-7896-42d6-b9a3-ddf631418022",
   "metadata": {},
   "outputs": [],
   "source": [
    "PROFILE_NAME='Stellaralgo-DataScienceAdmin'\n",
    "BUCKET_NAME = 'ai-experimentation-td4np7'\n",
    "PREFIX = 'nakisa-challenge/'\n",
    "OBJECT_KEY = 'nakisa-challenge/DS-Data Dictionary (Missing Metadata).xlsx'"
   ]
  },
  {
   "cell_type": "code",
   "execution_count": 9,
   "id": "2803d7a1-df4f-4d28-9b09-eda50800804d",
   "metadata": {},
   "outputs": [],
   "source": [
    "# creating s3 client connection\n",
    "SESSION = boto3.setup_default_session(profile_name=PROFILE_NAME)\n",
    "CLIENT = boto3.client('s3')"
   ]
  },
  {
   "cell_type": "markdown",
   "id": "b788f643-4ae7-4e85-b8af-80e64d30d050",
   "metadata": {},
   "source": [
    "### List the contents of an S3 bucket"
   ]
  },
  {
   "cell_type": "code",
   "execution_count": 4,
   "id": "9a337f7b-863e-41e1-be35-ad315ba6b52b",
   "metadata": {},
   "outputs": [
    {
     "name": "stdout",
     "output_type": "stream",
     "text": [
      "nakisa-challenge/\n",
      "nakisa-challenge//Hello\n",
      "nakisa-challenge/DS-Data Dictionary (Missing Metadata).xlsx\n",
      "nakisa-challenge/Hello/\n",
      "nakisa-challenge/_DONE\n",
      "nakisa-challenge/_DONE1\n",
      "nakisa-challenge/_DONE2\n"
     ]
    }
   ],
   "source": [
    "response = CLIENT.list_objects(Bucket=BUCKET_NAME,Prefix=PREFIX)\n",
    "for content in response.get('Contents', []):\n",
    "    print(content['Key'])"
   ]
  },
  {
   "cell_type": "markdown",
   "id": "04a35df3-84cb-476f-a72f-7f324c18eaef",
   "metadata": {},
   "source": [
    "### Write a file to an S3 bucket"
   ]
  },
  {
   "cell_type": "code",
   "execution_count": 5,
   "id": "f03e7480-3bec-42d7-b462-5a697bae6cee",
   "metadata": {},
   "outputs": [
    {
     "data": {
      "text/plain": [
       "{'ResponseMetadata': {'RequestId': '34SE4H3RPTXN5XMY',\n",
       "  'HostId': '5CC3uWWOVY4ppHihlYfwbBQA/hY1/CnRY/nWwaGCDll3rbj2H4rJJQ+PbuNVEGvQUtFy91vLi8g=',\n",
       "  'HTTPStatusCode': 200,\n",
       "  'HTTPHeaders': {'x-amz-id-2': '5CC3uWWOVY4ppHihlYfwbBQA/hY1/CnRY/nWwaGCDll3rbj2H4rJJQ+PbuNVEGvQUtFy91vLi8g=',\n",
       "   'x-amz-request-id': '34SE4H3RPTXN5XMY',\n",
       "   'date': 'Mon, 06 Jun 2022 22:05:20 GMT',\n",
       "   'x-amz-server-side-encryption': 'aws:kms',\n",
       "   'x-amz-server-side-encryption-aws-kms-key-id': 'arn:aws:kms:us-east-1:176624903806:key/cbe87dbe-99b5-4779-8fdc-2a91c284690b',\n",
       "   'etag': '\"ef652e4c4ffe52201833ceb420f40ce3\"',\n",
       "   'server': 'AmazonS3',\n",
       "   'content-length': '0'},\n",
       "  'RetryAttempts': 0},\n",
       " 'ETag': '\"ef652e4c4ffe52201833ceb420f40ce3\"',\n",
       " 'ServerSideEncryption': 'aws:kms',\n",
       " 'SSEKMSKeyId': 'arn:aws:kms:us-east-1:176624903806:key/cbe87dbe-99b5-4779-8fdc-2a91c284690b'}"
      ]
     },
     "execution_count": 5,
     "metadata": {},
     "output_type": "execute_result"
    }
   ],
   "source": [
    "data = b'Hello World'\n",
    "CLIENT.put_object(Body=data, Bucket=BUCKET_NAME, Key=(PREFIX+'Hello'))"
   ]
  },
  {
   "cell_type": "markdown",
   "id": "e0abdf36-d30d-476f-80b2-5cee6e4e8faa",
   "metadata": {},
   "source": [
    "### Read a file from an S3 bucket"
   ]
  },
  {
   "cell_type": "code",
   "execution_count": 7,
   "id": "ca2daf38-9e20-46a1-8d6c-399b32c66e2d",
   "metadata": {},
   "outputs": [
    {
     "data": {
      "text/html": [
       "<div>\n",
       "<style scoped>\n",
       "    .dataframe tbody tr th:only-of-type {\n",
       "        vertical-align: middle;\n",
       "    }\n",
       "\n",
       "    .dataframe tbody tr th {\n",
       "        vertical-align: top;\n",
       "    }\n",
       "\n",
       "    .dataframe thead th {\n",
       "        text-align: right;\n",
       "    }\n",
       "</style>\n",
       "<table border=\"1\" class=\"dataframe\">\n",
       "  <thead>\n",
       "    <tr style=\"text-align: right;\">\n",
       "      <th></th>\n",
       "      <th>Model</th>\n",
       "      <th>Feature</th>\n",
       "      <th>Data Type</th>\n",
       "      <th>Current source table</th>\n",
       "      <th>Source</th>\n",
       "      <th>Source Table</th>\n",
       "      <th>Engineered or Non-Engineered</th>\n",
       "      <th>Description</th>\n",
       "    </tr>\n",
       "  </thead>\n",
       "  <tbody>\n",
       "    <tr>\n",
       "      <th>0</th>\n",
       "      <td>Retention Scoring</td>\n",
       "      <td>productGrouping</td>\n",
       "      <td>object</td>\n",
       "      <td>NaN</td>\n",
       "      <td>?</td>\n",
       "      <td>NaN</td>\n",
       "      <td>Non-Engineered</td>\n",
       "      <td>The product name of the ticket bought by customer</td>\n",
       "    </tr>\n",
       "    <tr>\n",
       "      <th>1</th>\n",
       "      <td>Retention Scoring</td>\n",
       "      <td>annualHHIncome</td>\n",
       "      <td>object</td>\n",
       "      <td>dimcustomer</td>\n",
       "      <td>Demographic Data</td>\n",
       "      <td>NaN</td>\n",
       "      <td>Engineered</td>\n",
       "      <td>Total amount of annual income in the household</td>\n",
       "    </tr>\n",
       "    <tr>\n",
       "      <th>2</th>\n",
       "      <td>Retention Scoring</td>\n",
       "      <td>childrenPresentInHH</td>\n",
       "      <td>int64</td>\n",
       "      <td>dimcustomer</td>\n",
       "      <td>Demographic Data</td>\n",
       "      <td>NaN</td>\n",
       "      <td>Non-Engineered</td>\n",
       "      <td>Total number of childerns in a household</td>\n",
       "    </tr>\n",
       "    <tr>\n",
       "      <th>3</th>\n",
       "      <td>Retention Scoring</td>\n",
       "      <td>education</td>\n",
       "      <td>object</td>\n",
       "      <td>dimcustomer</td>\n",
       "      <td>Demographic Data</td>\n",
       "      <td>NaN</td>\n",
       "      <td>Engineered</td>\n",
       "      <td>Education of the buyer</td>\n",
       "    </tr>\n",
       "    <tr>\n",
       "      <th>4</th>\n",
       "      <td>Retention Scoring</td>\n",
       "      <td>gender</td>\n",
       "      <td>object</td>\n",
       "      <td>dimcustomer</td>\n",
       "      <td>Demographic Data</td>\n",
       "      <td>NaN</td>\n",
       "      <td>Non-Engineered</td>\n",
       "      <td>Gender of the buyer</td>\n",
       "    </tr>\n",
       "  </tbody>\n",
       "</table>\n",
       "</div>"
      ],
      "text/plain": [
       "               Model              Feature Data Type Current source table  \\\n",
       "0  Retention Scoring      productGrouping    object                  NaN   \n",
       "1  Retention Scoring       annualHHIncome    object          dimcustomer   \n",
       "2  Retention Scoring  childrenPresentInHH     int64          dimcustomer   \n",
       "3  Retention Scoring            education    object          dimcustomer   \n",
       "4  Retention Scoring               gender    object          dimcustomer   \n",
       "\n",
       "             Source  Source Table Engineered or Non-Engineered  \\\n",
       "0                 ?           NaN               Non-Engineered   \n",
       "1  Demographic Data           NaN                   Engineered   \n",
       "2  Demographic Data           NaN               Non-Engineered   \n",
       "3  Demographic Data           NaN                   Engineered   \n",
       "4  Demographic Data           NaN               Non-Engineered   \n",
       "\n",
       "                                         Description  \n",
       "0  The product name of the ticket bought by customer  \n",
       "1     Total amount of annual income in the household  \n",
       "2           Total number of childerns in a household  \n",
       "3                             Education of the buyer  \n",
       "4                                Gender of the buyer  "
      ]
     },
     "execution_count": 7,
     "metadata": {},
     "output_type": "execute_result"
    }
   ],
   "source": [
    "obj = CLIENT.get_object(Bucket=BUCKET_NAME, Key=OBJECT_KEY)\n",
    "data = obj['Body'].read()\n",
    "df = pd.read_excel(data)\n",
    "df.head()"
   ]
  },
  {
   "cell_type": "code",
   "execution_count": null,
   "id": "239a1447-aeef-4422-8594-f319ffc333d1",
   "metadata": {},
   "outputs": [],
   "source": []
  }
 ],
 "metadata": {
  "kernelspec": {
   "display_name": "Python 3 (ipykernel)",
   "language": "python",
   "name": "python3"
  },
  "language_info": {
   "codemirror_mode": {
    "name": "ipython",
    "version": 3
   },
   "file_extension": ".py",
   "mimetype": "text/x-python",
   "name": "python",
   "nbconvert_exporter": "python",
   "pygments_lexer": "ipython3",
   "version": "3.9.4"
  }
 },
 "nbformat": 4,
 "nbformat_minor": 5
}
