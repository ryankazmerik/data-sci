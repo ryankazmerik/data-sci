{
 "cells": [
  {
   "cell_type": "markdown",
   "id": "2980abb3-b3be-40a8-980d-c86e8b38f94e",
   "metadata": {},
   "source": [
    "# Redshift - Challenge\n",
    "* StelllarAlgo Data Science\n",
    "* Ryan Kazmerik & Nakisa Rad\n",
    "* June 8, 2022"
   ]
  },
  {
   "cell_type": "markdown",
   "id": "7842c5f6-f8ad-4bce-a56b-4d0f6055d3d9",
   "metadata": {},
   "source": [
    "## What we want to do:\n",
    "1. Read the records from this table and display in a pandas dataframe\n",
    "2. Create a new record in the table, following the format of the other records, then display only the new record in a dataframe\n",
    "3. Update an existing record, then display the updated record in a dataframe\n",
    "4. Delete the new record you created, and display all records in a dataframe to ensure it was deleted."
   ]
  },
  {
   "cell_type": "code",
   "execution_count": 16,
   "id": "18db4bd4-c23e-4b43-9f91-4c93e47931c9",
   "metadata": {},
   "outputs": [],
   "source": [
    "import boto3\n",
    "import awswrangler as wr\n",
    "import pandas as pd"
   ]
  },
  {
   "cell_type": "code",
   "execution_count": 17,
   "id": "6a9d7d52-f059-4695-9bb5-c8cd6bfaf9b9",
   "metadata": {},
   "outputs": [
    {
     "name": "stdout",
     "output_type": "stream",
     "text": [
      "Attempting to automatically open the SSO authorization page in your default browser.\n",
      "If the browser does not open or you wish to use a different device to authorize this request, open the following URL:\n",
      "\n",
      "https://device.sso.us-east-1.amazonaws.com/\n",
      "\n",
      "Then enter the code:\n",
      "\n",
      "QGWH-JKTV\n",
      "Successully logged into Start URL: https://stellaralgo.awsapps.com/start#/\n"
     ]
    }
   ],
   "source": [
    "! aws sso login --profile Stellaralgo-DataScienceAdmin"
   ]
  },
  {
   "cell_type": "markdown",
   "id": "017e5fb0-c361-4adb-b8ff-1bd17766f968",
   "metadata": {},
   "source": [
    "### Connecting to Redshift QA-APP"
   ]
  },
  {
   "cell_type": "code",
   "execution_count": 30,
   "id": "a67bab62-820e-4384-a53e-60d7d9049e02",
   "metadata": {},
   "outputs": [
    {
     "name": "stdout",
     "output_type": "stream",
     "text": [
      "GOT CONNECTION TO DATABASE: qa-app datascience\n"
     ]
    }
   ],
   "source": [
    "session = boto3.session.Session(profile_name='Stellaralgo-DataScienceAdmin')\n",
    "client = session.client('redshift')\n",
    "\n",
    "CLUSTER = 'qa-app'\n",
    "DBNAME = 'datascience'\n",
    "USER = 'admin'\n",
    "\n",
    "conn = wr.data_api.redshift.connect(\n",
    "        cluster_id = CLUSTER,\n",
    "        database =  DBNAME,\n",
    "        db_user = USER\n",
    "    )\n",
    "\n",
    "print(f\"GOT CONNECTION TO DATABASE: {CLUSTER} {DBNAME}\")"
   ]
  },
  {
   "cell_type": "markdown",
   "id": "2f0b51bd-99bd-4b19-99fe-b9efc9e8cea8",
   "metadata": {},
   "source": [
    "### Read the records from this table and display in a pandas dataframe"
   ]
  },
  {
   "cell_type": "code",
   "execution_count": 31,
   "id": "39c58dd7-1f49-4243-b822-924bb04e1f33",
   "metadata": {},
   "outputs": [
    {
     "data": {
      "text/html": [
       "<div>\n",
       "<style scoped>\n",
       "    .dataframe tbody tr th:only-of-type {\n",
       "        vertical-align: middle;\n",
       "    }\n",
       "\n",
       "    .dataframe tbody tr th {\n",
       "        vertical-align: top;\n",
       "    }\n",
       "\n",
       "    .dataframe thead th {\n",
       "        text-align: right;\n",
       "    }\n",
       "</style>\n",
       "<table border=\"1\" class=\"dataframe\">\n",
       "  <thead>\n",
       "    <tr style=\"text-align: right;\">\n",
       "      <th></th>\n",
       "      <th>playerid</th>\n",
       "      <th>dob</th>\n",
       "      <th>gamesplayed</th>\n",
       "      <th>injured</th>\n",
       "      <th>position</th>\n",
       "      <th>name</th>\n",
       "      <th>numassists</th>\n",
       "      <th>numgoals</th>\n",
       "      <th>pointpercentage</th>\n",
       "    </tr>\n",
       "  </thead>\n",
       "  <tbody>\n",
       "    <tr>\n",
       "      <th>0</th>\n",
       "      <td>11</td>\n",
       "      <td>1988-08-04</td>\n",
       "      <td>20</td>\n",
       "      <td>false</td>\n",
       "      <td>RW</td>\n",
       "      <td>Dale</td>\n",
       "      <td>24</td>\n",
       "      <td>21</td>\n",
       "      <td>2.1</td>\n",
       "    </tr>\n",
       "    <tr>\n",
       "      <th>1</th>\n",
       "      <td>12</td>\n",
       "      <td>1985-06-05</td>\n",
       "      <td>20</td>\n",
       "      <td>false</td>\n",
       "      <td>C</td>\n",
       "      <td>Skip</td>\n",
       "      <td>15</td>\n",
       "      <td>36</td>\n",
       "      <td>2.5</td>\n",
       "    </tr>\n",
       "    <tr>\n",
       "      <th>2</th>\n",
       "      <td>13</td>\n",
       "      <td>1985-03-15</td>\n",
       "      <td>15</td>\n",
       "      <td>true</td>\n",
       "      <td>LW</td>\n",
       "      <td>Sanders</td>\n",
       "      <td>20</td>\n",
       "      <td>30</td>\n",
       "      <td>1.9</td>\n",
       "    </tr>\n",
       "    <tr>\n",
       "      <th>3</th>\n",
       "      <td>14</td>\n",
       "      <td>1983-02-20</td>\n",
       "      <td>20</td>\n",
       "      <td>false</td>\n",
       "      <td>LD</td>\n",
       "      <td>Patty</td>\n",
       "      <td>38</td>\n",
       "      <td>12</td>\n",
       "      <td>1.5</td>\n",
       "    </tr>\n",
       "    <tr>\n",
       "      <th>4</th>\n",
       "      <td>15</td>\n",
       "      <td>1987-08-04</td>\n",
       "      <td>18</td>\n",
       "      <td>false</td>\n",
       "      <td>RD</td>\n",
       "      <td>Reynolds</td>\n",
       "      <td>16</td>\n",
       "      <td>6</td>\n",
       "      <td>0.8</td>\n",
       "    </tr>\n",
       "  </tbody>\n",
       "</table>\n",
       "</div>"
      ],
      "text/plain": [
       "   playerid         dob  gamesplayed injured position      name  numassists  \\\n",
       "0        11  1988-08-04           20   false       RW      Dale          24   \n",
       "1        12  1985-06-05           20   false        C      Skip          15   \n",
       "2        13  1985-03-15           15    true       LW   Sanders          20   \n",
       "3        14  1983-02-20           20   false       LD     Patty          38   \n",
       "4        15  1987-08-04           18   false       RD  Reynolds          16   \n",
       "\n",
       "   numgoals  pointpercentage  \n",
       "0        21              2.1  \n",
       "1        36              2.5  \n",
       "2        30              1.9  \n",
       "3        12              1.5  \n",
       "4         6              0.8  "
      ]
     },
     "execution_count": 31,
     "metadata": {},
     "output_type": "execute_result"
    }
   ],
   "source": [
    "sql = f\"\"\"\n",
    "        SELECT *\n",
    "        FROM ds.dummytable\n",
    "    \"\"\"\n",
    "\n",
    "df = wr.data_api.redshift.read_sql_query(\n",
    "        sql = sql, \n",
    "        con = conn\n",
    "    )\n",
    "df.head()"
   ]
  },
  {
   "cell_type": "markdown",
   "id": "de349b64-9d85-480c-9625-4f65ef75450b",
   "metadata": {},
   "source": [
    "### Create a new record in the table, following the format of the other records"
   ]
  },
  {
   "cell_type": "code",
   "execution_count": 32,
   "id": "3341528b-a9c7-4c59-826b-00dda6e36a4e",
   "metadata": {},
   "outputs": [],
   "source": [
    "insert_record = f\"\"\"\n",
    "                INSERT INTO ds.dummytable (dob, gamesplayed, injured, position, name, numassists, numgoals, pointpercentage) \n",
    "                VALUES ('1992-08-23', 0, false, 'DS', 'Nakisa', 10, 18, 2.7)\n",
    "                \"\"\"\n",
    "df_insert_record = wr.data_api.redshift.read_sql_query(\n",
    "        sql = insert_record, \n",
    "        con = conn\n",
    "    )"
   ]
  },
  {
   "cell_type": "markdown",
   "id": "d5a616bd-f509-4805-8445-d9b6e46782e1",
   "metadata": {},
   "source": [
    "### Display only the new record in a dataframe"
   ]
  },
  {
   "cell_type": "code",
   "execution_count": 34,
   "id": "40ccdf50-5727-425d-8fa4-51accf310b2b",
   "metadata": {},
   "outputs": [
    {
     "data": {
      "text/html": [
       "<div>\n",
       "<style scoped>\n",
       "    .dataframe tbody tr th:only-of-type {\n",
       "        vertical-align: middle;\n",
       "    }\n",
       "\n",
       "    .dataframe tbody tr th {\n",
       "        vertical-align: top;\n",
       "    }\n",
       "\n",
       "    .dataframe thead th {\n",
       "        text-align: right;\n",
       "    }\n",
       "</style>\n",
       "<table border=\"1\" class=\"dataframe\">\n",
       "  <thead>\n",
       "    <tr style=\"text-align: right;\">\n",
       "      <th></th>\n",
       "      <th>playerid</th>\n",
       "      <th>dob</th>\n",
       "      <th>gamesplayed</th>\n",
       "      <th>injured</th>\n",
       "      <th>position</th>\n",
       "      <th>name</th>\n",
       "      <th>numassists</th>\n",
       "      <th>numgoals</th>\n",
       "      <th>pointpercentage</th>\n",
       "    </tr>\n",
       "  </thead>\n",
       "  <tbody>\n",
       "    <tr>\n",
       "      <th>0</th>\n",
       "      <td>19</td>\n",
       "      <td>1992-08-23</td>\n",
       "      <td>0</td>\n",
       "      <td>false</td>\n",
       "      <td>DS</td>\n",
       "      <td>Nakisa</td>\n",
       "      <td>10</td>\n",
       "      <td>18</td>\n",
       "      <td>2.7</td>\n",
       "    </tr>\n",
       "  </tbody>\n",
       "</table>\n",
       "</div>"
      ],
      "text/plain": [
       "   playerid         dob  gamesplayed injured position    name  numassists  \\\n",
       "0        19  1992-08-23            0   false       DS  Nakisa          10   \n",
       "\n",
       "   numgoals  pointpercentage  \n",
       "0        18              2.7  "
      ]
     },
     "execution_count": 34,
     "metadata": {},
     "output_type": "execute_result"
    }
   ],
   "source": [
    "new_record = f'SELECT * FROM ds.dummytable WHERE playerid = 19'\n",
    "\n",
    "df_new_record = wr.data_api.redshift.read_sql_query(\n",
    "        sql = new_record, \n",
    "        con = conn\n",
    "    )\n",
    "\n",
    "df_new_record"
   ]
  },
  {
   "cell_type": "markdown",
   "id": "c9025f09-4676-40f9-bee6-2a0df572dc75",
   "metadata": {},
   "source": [
    "### Update an existing record"
   ]
  },
  {
   "cell_type": "code",
   "execution_count": 36,
   "id": "85d7a5bf-197d-4c07-a559-69a0a425ac08",
   "metadata": {},
   "outputs": [],
   "source": [
    "update_statement = f\"\"\"\n",
    "        UPDATE ds.dummytable\n",
    "        SET numassists = 12\n",
    "        WHERE playerid = 19\n",
    "    \"\"\"\n",
    "\n",
    "df_update_statement = wr.data_api.redshift.read_sql_query(\n",
    "        sql = update_statement, \n",
    "        con = conn\n",
    "    )"
   ]
  },
  {
   "cell_type": "markdown",
   "id": "e7651c71-e29d-4849-aae6-bae84b84cb00",
   "metadata": {},
   "source": [
    "### Display the updated record in a dataframe"
   ]
  },
  {
   "cell_type": "code",
   "execution_count": 37,
   "id": "4530b62a-d5aa-420a-b608-35a70b10986c",
   "metadata": {},
   "outputs": [
    {
     "data": {
      "text/html": [
       "<div>\n",
       "<style scoped>\n",
       "    .dataframe tbody tr th:only-of-type {\n",
       "        vertical-align: middle;\n",
       "    }\n",
       "\n",
       "    .dataframe tbody tr th {\n",
       "        vertical-align: top;\n",
       "    }\n",
       "\n",
       "    .dataframe thead th {\n",
       "        text-align: right;\n",
       "    }\n",
       "</style>\n",
       "<table border=\"1\" class=\"dataframe\">\n",
       "  <thead>\n",
       "    <tr style=\"text-align: right;\">\n",
       "      <th></th>\n",
       "      <th>playerid</th>\n",
       "      <th>dob</th>\n",
       "      <th>gamesplayed</th>\n",
       "      <th>injured</th>\n",
       "      <th>position</th>\n",
       "      <th>name</th>\n",
       "      <th>numassists</th>\n",
       "      <th>numgoals</th>\n",
       "      <th>pointpercentage</th>\n",
       "    </tr>\n",
       "  </thead>\n",
       "  <tbody>\n",
       "    <tr>\n",
       "      <th>0</th>\n",
       "      <td>19</td>\n",
       "      <td>1992-08-23</td>\n",
       "      <td>0</td>\n",
       "      <td>false</td>\n",
       "      <td>DS</td>\n",
       "      <td>Nakisa</td>\n",
       "      <td>12</td>\n",
       "      <td>18</td>\n",
       "      <td>2.7</td>\n",
       "    </tr>\n",
       "  </tbody>\n",
       "</table>\n",
       "</div>"
      ],
      "text/plain": [
       "   playerid         dob  gamesplayed injured position    name  numassists  \\\n",
       "0        19  1992-08-23            0   false       DS  Nakisa          12   \n",
       "\n",
       "   numgoals  pointpercentage  \n",
       "0        18              2.7  "
      ]
     },
     "execution_count": 37,
     "metadata": {},
     "output_type": "execute_result"
    }
   ],
   "source": [
    "updated_record = f'SELECT * FROM ds.dummytable WHERE playerid = 19'\n",
    "\n",
    "df_updated_record = wr.data_api.redshift.read_sql_query(\n",
    "        sql = new_record, \n",
    "        con = conn\n",
    "    )\n",
    "\n",
    "df_updated_record"
   ]
  },
  {
   "cell_type": "markdown",
   "id": "cb88243e-d6f9-474b-a18e-b8364e43ad31",
   "metadata": {},
   "source": [
    "### Delete the new record you created"
   ]
  },
  {
   "cell_type": "code",
   "execution_count": 38,
   "id": "4caf22b0-7754-4c35-b214-8da71a4de2a7",
   "metadata": {},
   "outputs": [],
   "source": [
    "delete_statement = f\"\"\"\n",
    "        DELETE FROM ds.dummytable\n",
    "        WHERE playerid = 19\n",
    "    \"\"\"\n",
    "\n",
    "df_delete_statement = wr.data_api.redshift.read_sql_query(\n",
    "        sql = delete_statement, \n",
    "        con = conn\n",
    "    )"
   ]
  },
  {
   "cell_type": "markdown",
   "id": "e265a454-f11a-4d4c-81d3-41a165e972ae",
   "metadata": {},
   "source": [
    "### Display all records in a dataframe to ensure it was deleted"
   ]
  },
  {
   "cell_type": "code",
   "execution_count": 39,
   "id": "278b4de1-73fc-4016-9c2d-caa6057b46bf",
   "metadata": {},
   "outputs": [
    {
     "data": {
      "text/html": [
       "<div>\n",
       "<style scoped>\n",
       "    .dataframe tbody tr th:only-of-type {\n",
       "        vertical-align: middle;\n",
       "    }\n",
       "\n",
       "    .dataframe tbody tr th {\n",
       "        vertical-align: top;\n",
       "    }\n",
       "\n",
       "    .dataframe thead th {\n",
       "        text-align: right;\n",
       "    }\n",
       "</style>\n",
       "<table border=\"1\" class=\"dataframe\">\n",
       "  <thead>\n",
       "    <tr style=\"text-align: right;\">\n",
       "      <th></th>\n",
       "      <th>playerid</th>\n",
       "      <th>dob</th>\n",
       "      <th>gamesplayed</th>\n",
       "      <th>injured</th>\n",
       "      <th>position</th>\n",
       "      <th>name</th>\n",
       "      <th>numassists</th>\n",
       "      <th>numgoals</th>\n",
       "      <th>pointpercentage</th>\n",
       "    </tr>\n",
       "  </thead>\n",
       "  <tbody>\n",
       "    <tr>\n",
       "      <th>0</th>\n",
       "      <td>11</td>\n",
       "      <td>1988-08-04</td>\n",
       "      <td>20</td>\n",
       "      <td>false</td>\n",
       "      <td>RW</td>\n",
       "      <td>Dale</td>\n",
       "      <td>24</td>\n",
       "      <td>21</td>\n",
       "      <td>2.1</td>\n",
       "    </tr>\n",
       "    <tr>\n",
       "      <th>1</th>\n",
       "      <td>12</td>\n",
       "      <td>1985-06-05</td>\n",
       "      <td>20</td>\n",
       "      <td>false</td>\n",
       "      <td>C</td>\n",
       "      <td>Skip</td>\n",
       "      <td>15</td>\n",
       "      <td>36</td>\n",
       "      <td>2.5</td>\n",
       "    </tr>\n",
       "    <tr>\n",
       "      <th>2</th>\n",
       "      <td>13</td>\n",
       "      <td>1985-03-15</td>\n",
       "      <td>15</td>\n",
       "      <td>true</td>\n",
       "      <td>LW</td>\n",
       "      <td>Sanders</td>\n",
       "      <td>20</td>\n",
       "      <td>30</td>\n",
       "      <td>1.9</td>\n",
       "    </tr>\n",
       "    <tr>\n",
       "      <th>3</th>\n",
       "      <td>14</td>\n",
       "      <td>1983-02-20</td>\n",
       "      <td>20</td>\n",
       "      <td>false</td>\n",
       "      <td>LD</td>\n",
       "      <td>Patty</td>\n",
       "      <td>38</td>\n",
       "      <td>12</td>\n",
       "      <td>1.5</td>\n",
       "    </tr>\n",
       "    <tr>\n",
       "      <th>4</th>\n",
       "      <td>15</td>\n",
       "      <td>1987-08-04</td>\n",
       "      <td>18</td>\n",
       "      <td>false</td>\n",
       "      <td>RD</td>\n",
       "      <td>Reynolds</td>\n",
       "      <td>16</td>\n",
       "      <td>6</td>\n",
       "      <td>0.8</td>\n",
       "    </tr>\n",
       "  </tbody>\n",
       "</table>\n",
       "</div>"
      ],
      "text/plain": [
       "   playerid         dob  gamesplayed injured position      name  numassists  \\\n",
       "0        11  1988-08-04           20   false       RW      Dale          24   \n",
       "1        12  1985-06-05           20   false        C      Skip          15   \n",
       "2        13  1985-03-15           15    true       LW   Sanders          20   \n",
       "3        14  1983-02-20           20   false       LD     Patty          38   \n",
       "4        15  1987-08-04           18   false       RD  Reynolds          16   \n",
       "\n",
       "   numgoals  pointpercentage  \n",
       "0        21              2.1  \n",
       "1        36              2.5  \n",
       "2        30              1.9  \n",
       "3        12              1.5  \n",
       "4         6              0.8  "
      ]
     },
     "execution_count": 39,
     "metadata": {},
     "output_type": "execute_result"
    }
   ],
   "source": [
    "all_records = f'SELECT * FROM ds.dummytable'\n",
    "\n",
    "df_all_records = wr.data_api.redshift.read_sql_query(\n",
    "        sql = all_records, \n",
    "        con = conn\n",
    "    )\n",
    "\n",
    "df_all_records"
   ]
  },
  {
   "cell_type": "code",
   "execution_count": null,
   "id": "98a21bbf-d5a9-4d55-9f93-1f1a147374d5",
   "metadata": {},
   "outputs": [],
   "source": []
  }
 ],
 "metadata": {
  "kernelspec": {
   "display_name": "Python 3 (ipykernel)",
   "language": "python",
   "name": "python3"
  },
  "language_info": {
   "codemirror_mode": {
    "name": "ipython",
    "version": 3
   },
   "file_extension": ".py",
   "mimetype": "text/x-python",
   "name": "python",
   "nbconvert_exporter": "python",
   "pygments_lexer": "ipython3",
   "version": "3.9.4"
  }
 },
 "nbformat": 4,
 "nbformat_minor": 5
}
