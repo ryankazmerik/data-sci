{
 "cells": [
  {
   "cell_type": "markdown",
   "id": "2980abb3-b3be-40a8-980d-c86e8b38f94e",
   "metadata": {},
   "source": [
    "# S3 - Challenge\n",
    "* StelllarAlgo Data Science\n",
    "* Ryan Kazmerik & Nakisa Rad\n",
    "* June 7, 2022"
   ]
  },
  {
   "cell_type": "markdown",
   "id": "7842c5f6-f8ad-4bce-a56b-4d0f6055d3d9",
   "metadata": {},
   "source": [
    "## What we want to do:\n",
    "1. Read the value of the SSM parameter\n",
    "2. Use the values in the SSM parameter to form a connection string to the MSSQL database listed in the parameter\n",
    "3. Read the contents of the ds.customerScores table into a dataframe"
   ]
  },
  {
   "cell_type": "code",
   "execution_count": 1,
   "id": "18db4bd4-c23e-4b43-9f91-4c93e47931c9",
   "metadata": {},
   "outputs": [],
   "source": [
    "import boto3 \n",
    "import json\n",
    "import pandas as pd\n",
    "import pyodbc"
   ]
  },
  {
   "cell_type": "code",
   "execution_count": 2,
   "id": "6a9d7d52-f059-4695-9bb5-c8cd6bfaf9b9",
   "metadata": {},
   "outputs": [
    {
     "name": "stdout",
     "output_type": "stream",
     "text": [
      "Attempting to automatically open the SSO authorization page in your default browser.\n",
      "If the browser does not open or you wish to use a different device to authorize this request, open the following URL:\n",
      "\n",
      "https://device.sso.us-east-1.amazonaws.com/\n",
      "\n",
      "Then enter the code:\n",
      "\n",
      "GLTK-NLFB\n",
      "Successully logged into Start URL: https://stellaralgo.awsapps.com/start#/\n"
     ]
    }
   ],
   "source": [
    "! aws sso login --profile Stellaralgo-DataScienceAdmin"
   ]
  },
  {
   "cell_type": "markdown",
   "id": "e68de085-d10e-48f2-925f-c359d075c69d",
   "metadata": {},
   "source": [
    "### Get a list of the Parameters we need"
   ]
  },
  {
   "cell_type": "code",
   "execution_count": 3,
   "id": "f55dd2a6-60ca-468b-8411-cfc72c6c8871",
   "metadata": {},
   "outputs": [],
   "source": [
    "PROFILE_NAME='Stellaralgo-DataScienceAdmin'"
   ]
  },
  {
   "cell_type": "code",
   "execution_count": 4,
   "id": "3b08de5d-d3ca-4a9d-b392-a63e32ad4d23",
   "metadata": {},
   "outputs": [],
   "source": [
    "# creating s3 client connection\n",
    "SESSION = boto3.setup_default_session(profile_name=PROFILE_NAME)\n",
    "CLIENT = boto3.client('ssm')\n",
    "SSM_PARAM_NAME = '/customer/model-retention/ai/db-connections/data-sci-retention/database-read'"
   ]
  },
  {
   "cell_type": "markdown",
   "id": "b788f643-4ae7-4e85-b8af-80e64d30d050",
   "metadata": {},
   "source": [
    "### Read the value of the SSM parameter"
   ]
  },
  {
   "cell_type": "code",
   "execution_count": 5,
   "id": "9aea090c-6586-4c2f-bc2f-24a2dc85a83a",
   "metadata": {},
   "outputs": [],
   "source": [
    "response = CLIENT.get_parameter(Name= SSM_PARAM_NAME, WithDecryption=True)\n",
    "# we need to conver the result to dict because the actual reslut is string\n",
    "param_value = json.loads(response['Parameter']['Value'])"
   ]
  },
  {
   "cell_type": "markdown",
   "id": "04a35df3-84cb-476f-a72f-7f324c18eaef",
   "metadata": {
    "tags": []
   },
   "source": [
    "### Use the values in the SSM parameter to form a connection string to the MSSQL database listed in the parameter"
   ]
  },
  {
   "cell_type": "code",
   "execution_count": 6,
   "id": "861463fd-8e75-41bb-bf9e-cf45aeaabb51",
   "metadata": {},
   "outputs": [],
   "source": [
    "# connect to SQL Server.\n",
    "SERVER = '34.206.73.189' \n",
    "DATABASE = param_value['database'] \n",
    "USERNAME = param_value['username'] \n",
    "PASSWORD = param_value['password']\n",
    "CNXN = pyodbc.connect('DRIVER={ODBC Driver 17 for SQL Server};SERVER='+SERVER+';DATABASE='+DATABASE+';UID='+USERNAME+';PWD='+ PASSWORD)"
   ]
  },
  {
   "cell_type": "markdown",
   "id": "e0abdf36-d30d-476f-80b2-5cee6e4e8faa",
   "metadata": {},
   "source": [
    "### Read the contents of the ds.customerScores table into a dataframe"
   ]
  },
  {
   "cell_type": "code",
   "execution_count": 9,
   "id": "239a1447-aeef-4422-8594-f319ffc333d1",
   "metadata": {},
   "outputs": [
    {
     "data": {
      "text/html": [
       "<div>\n",
       "<style scoped>\n",
       "    .dataframe tbody tr th:only-of-type {\n",
       "        vertical-align: middle;\n",
       "    }\n",
       "\n",
       "    .dataframe tbody tr th {\n",
       "        vertical-align: top;\n",
       "    }\n",
       "\n",
       "    .dataframe thead th {\n",
       "        text-align: right;\n",
       "    }\n",
       "</style>\n",
       "<table border=\"1\" class=\"dataframe\">\n",
       "  <thead>\n",
       "    <tr style=\"text-align: right;\">\n",
       "      <th></th>\n",
       "      <th>dimcustomermasterid</th>\n",
       "      <th>buyer_score</th>\n",
       "      <th>tenuredays</th>\n",
       "      <th>attendancePercentage</th>\n",
       "      <th>mostRecentAttendance</th>\n",
       "      <th>year</th>\n",
       "      <th>lkupclientid</th>\n",
       "      <th>productGrouping</th>\n",
       "      <th>seasonYear</th>\n",
       "      <th>insertDate</th>\n",
       "    </tr>\n",
       "  </thead>\n",
       "  <tbody>\n",
       "    <tr>\n",
       "      <th>0</th>\n",
       "      <td>349335093</td>\n",
       "      <td>0.9115</td>\n",
       "      <td>2190</td>\n",
       "      <td>0.555556</td>\n",
       "      <td>2022-01-17</td>\n",
       "      <td>2021</td>\n",
       "      <td>33</td>\n",
       "      <td>Full Season</td>\n",
       "      <td>2021</td>\n",
       "      <td>01-22-2022 09:33:41</td>\n",
       "    </tr>\n",
       "    <tr>\n",
       "      <th>1</th>\n",
       "      <td>349335290</td>\n",
       "      <td>0.3554</td>\n",
       "      <td>1825</td>\n",
       "      <td>1.037037</td>\n",
       "      <td>2022-01-17</td>\n",
       "      <td>2021</td>\n",
       "      <td>33</td>\n",
       "      <td>Full Season</td>\n",
       "      <td>2021</td>\n",
       "      <td>01-22-2022 09:33:41</td>\n",
       "    </tr>\n",
       "    <tr>\n",
       "      <th>2</th>\n",
       "      <td>349335440</td>\n",
       "      <td>0.3491</td>\n",
       "      <td>1825</td>\n",
       "      <td>1.142857</td>\n",
       "      <td>2022-01-17</td>\n",
       "      <td>2021</td>\n",
       "      <td>33</td>\n",
       "      <td>Partial</td>\n",
       "      <td>2021</td>\n",
       "      <td>01-22-2022 09:33:41</td>\n",
       "    </tr>\n",
       "    <tr>\n",
       "      <th>3</th>\n",
       "      <td>349335508</td>\n",
       "      <td>0.359</td>\n",
       "      <td>2190</td>\n",
       "      <td>1.037037</td>\n",
       "      <td>2022-01-17</td>\n",
       "      <td>2021</td>\n",
       "      <td>33</td>\n",
       "      <td>Full Season</td>\n",
       "      <td>2021</td>\n",
       "      <td>01-22-2022 09:33:41</td>\n",
       "    </tr>\n",
       "    <tr>\n",
       "      <th>4</th>\n",
       "      <td>349344774</td>\n",
       "      <td>0.8677</td>\n",
       "      <td>1460</td>\n",
       "      <td>0.814815</td>\n",
       "      <td>2022-01-17</td>\n",
       "      <td>2021</td>\n",
       "      <td>33</td>\n",
       "      <td>Full Season</td>\n",
       "      <td>2021</td>\n",
       "      <td>01-22-2022 09:33:41</td>\n",
       "    </tr>\n",
       "  </tbody>\n",
       "</table>\n",
       "</div>"
      ],
      "text/plain": [
       "   dimcustomermasterid buyer_score  tenuredays  attendancePercentage  \\\n",
       "0            349335093      0.9115        2190              0.555556   \n",
       "1            349335290      0.3554        1825              1.037037   \n",
       "2            349335440      0.3491        1825              1.142857   \n",
       "3            349335508       0.359        2190              1.037037   \n",
       "4            349344774      0.8677        1460              0.814815   \n",
       "\n",
       "  mostRecentAttendance  year  lkupclientid productGrouping seasonYear  \\\n",
       "0           2022-01-17  2021            33     Full Season       2021   \n",
       "1           2022-01-17  2021            33     Full Season       2021   \n",
       "2           2022-01-17  2021            33         Partial       2021   \n",
       "3           2022-01-17  2021            33     Full Season       2021   \n",
       "4           2022-01-17  2021            33     Full Season       2021   \n",
       "\n",
       "            insertDate  \n",
       "0  01-22-2022 09:33:41  \n",
       "1  01-22-2022 09:33:41  \n",
       "2  01-22-2022 09:33:41  \n",
       "3  01-22-2022 09:33:41  \n",
       "4  01-22-2022 09:33:41  "
      ]
     },
     "execution_count": 9,
     "metadata": {},
     "output_type": "execute_result"
    }
   ],
   "source": [
    "cursor = CNXN.cursor()\n",
    "\n",
    "storedProc = (\n",
    "    f\"\"\"select top 10 * from ds.customerScores\"\"\"\n",
    ")\n",
    "\n",
    "df = pd.read_sql(storedProc, CNXN)\n",
    "\n",
    "CNXN.commit()\n",
    "cursor.close()\n",
    "\n",
    "df.head()"
   ]
  },
  {
   "cell_type": "code",
   "execution_count": null,
   "id": "a09bf976-77aa-4b67-8a93-a28c061d4783",
   "metadata": {},
   "outputs": [],
   "source": []
  }
 ],
 "metadata": {
  "kernelspec": {
   "display_name": "Python 3 (ipykernel)",
   "language": "python",
   "name": "python3"
  },
  "language_info": {
   "codemirror_mode": {
    "name": "ipython",
    "version": 3
   },
   "file_extension": ".py",
   "mimetype": "text/x-python",
   "name": "python",
   "nbconvert_exporter": "python",
   "pygments_lexer": "ipython3",
   "version": "3.9.4"
  }
 },
 "nbformat": 4,
 "nbformat_minor": 5
}
