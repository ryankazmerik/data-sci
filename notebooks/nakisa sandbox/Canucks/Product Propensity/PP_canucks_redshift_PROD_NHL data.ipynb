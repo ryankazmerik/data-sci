{
 "cells": [
  {
   "cell_type": "markdown",
   "id": "9575d83e",
   "metadata": {},
   "source": [
    "# PRODUCT PROPENSITY - PROD - Redshift - ALL NHL Data\n",
    "* StellarAlgo Data Science\n",
    "* Ryan Kazmerik & Nakisa Rad\n",
    "* July 14, 2022"
   ]
  },
  {
   "cell_type": "markdown",
   "id": "62d7c5a2",
   "metadata": {},
   "source": [
    "## Hypothesis\n",
    "This notebook will test the Product Propensity model features and the goal is to check how the accuracy and scores look when we train the model only with Canucks data compared to all NHL data."
   ]
  },
  {
   "cell_type": "markdown",
   "id": "c46403a5",
   "metadata": {},
   "source": [
    "## Experiment\n",
    "This section details our experiment including querying data, data transformations, feature selection and modelling."
   ]
  },
  {
   "cell_type": "code",
   "execution_count": 108,
   "id": "df2be620",
   "metadata": {},
   "outputs": [],
   "source": [
    "import boto3\n",
    "import pandas as pd\n",
    "import matplotlib.pyplot as plt\n",
    "from pandas_profiling import ProfileReport\n",
    "import psycopg2\n",
    "from shared_utilities import helpers\n",
    "from pycaret.classification import *"
   ]
  },
  {
   "cell_type": "code",
   "execution_count": 109,
   "id": "93720795",
   "metadata": {},
   "outputs": [
    {
     "name": "stdout",
     "output_type": "stream",
     "text": [
      "Attempting to automatically open the SSO authorization page in your default browser.\n",
      "If the browser does not open or you wish to use a different device to authorize this request, open the following URL:\n",
      "\n",
      "https://device.sso.us-east-1.amazonaws.com/\n",
      "\n",
      "Then enter the code:\n",
      "\n",
      "KKRX-WHXK\n",
      "Successully logged into Start URL: https://stellaralgo.awsapps.com/start#/\n"
     ]
    }
   ],
   "source": [
    "! aws sso login --profile Stellaralgo-DataScienceAdmin"
   ]
  },
  {
   "cell_type": "code",
   "execution_count": 110,
   "id": "35c1c1ec",
   "metadata": {},
   "outputs": [],
   "source": [
    "teams = [{'lkupclientid': 7, 'clientcode': 'canucks', 'stlrDBName': 'stlrcanucks'},\n",
    "         {'lkupclientid': 33, 'clientcode': 'vgk', 'stlrDBName': 'stlrvgk'},\n",
    "         {'lkupclientid': 36, 'clientcode': 'flames', 'stlrDBName': 'stlrflames'},\n",
    "         {'lkupclientid': 55, 'clientcode': 'coyotes', 'stlrDBName': 'stlrcoyotes'},\n",
    "         {'lkupclientid': 93, 'clientcode': 'nhlpanthers', 'stlrDBName': 'stlrnhlpanthers'}]\n",
    "\n",
    "all_data = []\n",
    "for team in teams:\n",
    "    conn = helpers.get_redshift_connection('prod-app', team['stlrDBName'])\n",
    "    \n",
    "    # call the stored proc to get data for the product propensity model\n",
    "    cur = conn.cursor()\n",
    "    cur.execute(f\"CALL {team['stlrDBName']}.ds.getproductpropensitymodeldata({team['lkupclientid']},2010, 2022, 'temp_cursor')\")\n",
    "\n",
    "    # create a named cursor based on the cursor name passed in above\n",
    "    named_cursor = conn.cursor('temp_cursor')\n",
    "    data = named_cursor.fetchall()\n",
    "\n",
    "    # load the data and columns into a data frame\n",
    "    cols = [row[0] for row in named_cursor.description]\n",
    "    df = pd.DataFrame(data=data, columns=cols)\n",
    "    all_data.append(df)\n",
    "    \n",
    "    conn.commit()\n",
    "\n",
    "    "
   ]
  },
  {
   "cell_type": "code",
   "execution_count": 111,
   "id": "f082c929-7d40-4ab2-ba59-28529ca21cf1",
   "metadata": {},
   "outputs": [],
   "source": [
    "dfObj = pd.DataFrame(columns=['lkupclientid',\n",
    "    'clientcode',\n",
    "    'dimcustomermasterid', \n",
    "    'distance',\n",
    "    'seasonyear',\n",
    "    'events_prior',\n",
    "    'attended_prior',\n",
    "    'events_last',\n",
    "    'attended_last',\n",
    "    'tenure',\n",
    "    'atp_last',\n",
    "    'product_current',\n",
    "    'product_last'])"
   ]
  },
  {
   "cell_type": "code",
   "execution_count": 112,
   "id": "36e0949a-e0c9-45df-a2b4-4eb98e32b7dd",
   "metadata": {},
   "outputs": [
    {
     "data": {
      "text/html": [
       "<div>\n",
       "<style scoped>\n",
       "    .dataframe tbody tr th:only-of-type {\n",
       "        vertical-align: middle;\n",
       "    }\n",
       "\n",
       "    .dataframe tbody tr th {\n",
       "        vertical-align: top;\n",
       "    }\n",
       "\n",
       "    .dataframe thead th {\n",
       "        text-align: right;\n",
       "    }\n",
       "</style>\n",
       "<table border=\"1\" class=\"dataframe\">\n",
       "  <thead>\n",
       "    <tr style=\"text-align: right;\">\n",
       "      <th></th>\n",
       "      <th>lkupclientid</th>\n",
       "      <th>clientcode</th>\n",
       "      <th>dimcustomermasterid</th>\n",
       "      <th>distance</th>\n",
       "      <th>seasonyear</th>\n",
       "      <th>events_prior</th>\n",
       "      <th>attended_prior</th>\n",
       "      <th>events_last</th>\n",
       "      <th>attended_last</th>\n",
       "      <th>tenure</th>\n",
       "      <th>atp_last</th>\n",
       "      <th>product_current</th>\n",
       "      <th>product_last</th>\n",
       "    </tr>\n",
       "  </thead>\n",
       "  <tbody>\n",
       "    <tr>\n",
       "      <th>0</th>\n",
       "      <td>7</td>\n",
       "      <td>CANUCKS</td>\n",
       "      <td>3</td>\n",
       "      <td>748.34</td>\n",
       "      <td>2018</td>\n",
       "      <td>1</td>\n",
       "      <td>1</td>\n",
       "      <td>1</td>\n",
       "      <td>1</td>\n",
       "      <td>0</td>\n",
       "      <td>119.75</td>\n",
       "      <td>None</td>\n",
       "      <td>Individual</td>\n",
       "    </tr>\n",
       "    <tr>\n",
       "      <th>1</th>\n",
       "      <td>7</td>\n",
       "      <td>CANUCKS</td>\n",
       "      <td>3</td>\n",
       "      <td>748.34</td>\n",
       "      <td>2019</td>\n",
       "      <td>1</td>\n",
       "      <td>1</td>\n",
       "      <td>0</td>\n",
       "      <td>0</td>\n",
       "      <td>1</td>\n",
       "      <td>0.0</td>\n",
       "      <td>None</td>\n",
       "      <td>None</td>\n",
       "    </tr>\n",
       "    <tr>\n",
       "      <th>2</th>\n",
       "      <td>7</td>\n",
       "      <td>CANUCKS</td>\n",
       "      <td>3</td>\n",
       "      <td>748.34</td>\n",
       "      <td>2021</td>\n",
       "      <td>1</td>\n",
       "      <td>1</td>\n",
       "      <td>0</td>\n",
       "      <td>0</td>\n",
       "      <td>3</td>\n",
       "      <td>0.0</td>\n",
       "      <td>None</td>\n",
       "      <td>None</td>\n",
       "    </tr>\n",
       "    <tr>\n",
       "      <th>3</th>\n",
       "      <td>7</td>\n",
       "      <td>CANUCKS</td>\n",
       "      <td>3</td>\n",
       "      <td>748.34</td>\n",
       "      <td>2022</td>\n",
       "      <td>1</td>\n",
       "      <td>1</td>\n",
       "      <td>0</td>\n",
       "      <td>0</td>\n",
       "      <td>4</td>\n",
       "      <td>0.0</td>\n",
       "      <td>None</td>\n",
       "      <td>None</td>\n",
       "    </tr>\n",
       "    <tr>\n",
       "      <th>4</th>\n",
       "      <td>7</td>\n",
       "      <td>CANUCKS</td>\n",
       "      <td>4</td>\n",
       "      <td>2.96</td>\n",
       "      <td>2022</td>\n",
       "      <td>1</td>\n",
       "      <td>1</td>\n",
       "      <td>1</td>\n",
       "      <td>1</td>\n",
       "      <td>0</td>\n",
       "      <td>115.34</td>\n",
       "      <td>None</td>\n",
       "      <td>None</td>\n",
       "    </tr>\n",
       "  </tbody>\n",
       "</table>\n",
       "</div>"
      ],
      "text/plain": [
       "  lkupclientid clientcode dimcustomermasterid distance seasonyear  \\\n",
       "0            7    CANUCKS                   3   748.34       2018   \n",
       "1            7    CANUCKS                   3   748.34       2019   \n",
       "2            7    CANUCKS                   3   748.34       2021   \n",
       "3            7    CANUCKS                   3   748.34       2022   \n",
       "4            7    CANUCKS                   4     2.96       2022   \n",
       "\n",
       "  events_prior attended_prior events_last attended_last tenure atp_last  \\\n",
       "0            1              1           1             1      0   119.75   \n",
       "1            1              1           0             0      1      0.0   \n",
       "2            1              1           0             0      3      0.0   \n",
       "3            1              1           0             0      4      0.0   \n",
       "4            1              1           1             1      0   115.34   \n",
       "\n",
       "  product_current product_last  \n",
       "0            None   Individual  \n",
       "1            None         None  \n",
       "2            None         None  \n",
       "3            None         None  \n",
       "4            None         None  "
      ]
     },
     "execution_count": 112,
     "metadata": {},
     "output_type": "execute_result"
    }
   ],
   "source": [
    "for data in all_data:\n",
    "    dfObj= dfObj.append(data)\n",
    "dfObj.head()"
   ]
  },
  {
   "cell_type": "code",
   "execution_count": 113,
   "id": "e0ebbe27-85a7-4807-b6cb-e54c9c13db8d",
   "metadata": {},
   "outputs": [
    {
     "data": {
      "text/plain": [
       "array(['CANUCKS', 'VGK', 'FLAMES', 'COYOTES', 'NHLPANTHERS'], dtype=object)"
      ]
     },
     "execution_count": 113,
     "metadata": {},
     "output_type": "execute_result"
    }
   ],
   "source": [
    "dfObj['clientcode'].unique()"
   ]
  },
  {
   "cell_type": "code",
   "execution_count": 114,
   "id": "1c8bad91-cdc3-40a7-8915-93f3048bfa53",
   "metadata": {},
   "outputs": [
    {
     "name": "stdout",
     "output_type": "stream",
     "text": [
      "Data for Modeling: (2206778, 13)\n",
      "Unseen Data For Predictions: (46171, 13)\n",
      "\n"
     ]
    }
   ],
   "source": [
    "# choose the features for the stellar base retention model\n",
    "features = [\n",
    "    \"lkupclientid\",\n",
    "    \"clientcode\",\n",
    "    \"dimcustomermasterid\", \n",
    "    \"distance\",\n",
    "    \"seasonyear\",\n",
    "    \"events_prior\",\n",
    "    \"attended_prior\",\n",
    "    \"events_last\",\n",
    "    \"attended_last\",\n",
    "    \"tenure\",\n",
    "    \"atp_last\",\n",
    "    \"product_current\",\n",
    "    \"product_last\"\n",
    "]\n",
    "\n",
    "# copy your main dataframe\n",
    "df_dataset = dfObj\n",
    "\n",
    "# choose the features & train year & test year\n",
    "df_dataset = df_dataset[features]\n",
    "df_dataset[\"seasonyear\"] = pd.to_numeric(df_dataset[\"seasonyear\"])\n",
    "df_dataset = df_dataset.loc[df_dataset[\"seasonyear\"] <= 2021]\n",
    "\n",
    "df_train = df_dataset.sample(frac=0.85, random_state=786)\n",
    "df_eval = df_dataset.drop(df_train.index)\n",
    "\n",
    "df_train.reset_index(drop=True, inplace=True)\n",
    "df_eval.reset_index(drop=True, inplace=True)\n",
    "\n",
    "# print out the number of records for training and eval\n",
    "print('Data for Modeling: ' + str(df_train.shape))\n",
    "print('Unseen Data For Predictions: ' + str(df_eval.shape), end=\"\\n\\n\")"
   ]
  },
  {
   "cell_type": "code",
   "execution_count": 115,
   "id": "3eabb279-56dd-4dbf-b7da-77bd2aa7cafa",
   "metadata": {},
   "outputs": [],
   "source": [
    "setup(\n",
    "    data= df_train, \n",
    "    target=\"product_current\", \n",
    "    train_size = 0.85,\n",
    "    data_split_shuffle=True,\n",
    "    silent=True,\n",
    "    verbose=False,\n",
    "    ignore_features=[\n",
    "        \"lkupclientid\",\n",
    "        \"clientcode\",\n",
    "        \"dimcustomermasterid\",\n",
    "        \"seasonyear\"\n",
    "    ],\n",
    "    numeric_features=[\n",
    "        \"distance\",\n",
    "    \"events_prior\",\n",
    "    \"attended_prior\",\n",
    "    \"events_last\",\n",
    "    \"attended_last\",\n",
    "    \"tenure\",\n",
    "    \"atp_last\"\n",
    "    ]\n",
    ");"
   ]
  },
  {
   "cell_type": "code",
   "execution_count": 116,
   "id": "05742a70-860c-477f-bea9-516a0a87c508",
   "metadata": {},
   "outputs": [
    {
     "data": {
      "text/html": [
       "<style type=\"text/css\">\n",
       "#T_648b3 th {\n",
       "  text-align: left;\n",
       "}\n",
       "#T_648b3_row0_col0 {\n",
       "  text-align: left;\n",
       "}\n",
       "#T_648b3_row0_col1, #T_648b3_row0_col2, #T_648b3_row0_col3, #T_648b3_row0_col4, #T_648b3_row0_col5, #T_648b3_row0_col6, #T_648b3_row0_col7 {\n",
       "  text-align: left;\n",
       "  background-color: yellow;\n",
       "}\n",
       "#T_648b3_row0_col8 {\n",
       "  text-align: left;\n",
       "  background-color: yellow;\n",
       "  background-color: lightgrey;\n",
       "}\n",
       "</style>\n",
       "<table id=\"T_648b3\">\n",
       "  <thead>\n",
       "    <tr>\n",
       "      <th class=\"blank level0\" >&nbsp;</th>\n",
       "      <th id=\"T_648b3_level0_col0\" class=\"col_heading level0 col0\" >Model</th>\n",
       "      <th id=\"T_648b3_level0_col1\" class=\"col_heading level0 col1\" >Accuracy</th>\n",
       "      <th id=\"T_648b3_level0_col2\" class=\"col_heading level0 col2\" >AUC</th>\n",
       "      <th id=\"T_648b3_level0_col3\" class=\"col_heading level0 col3\" >Recall</th>\n",
       "      <th id=\"T_648b3_level0_col4\" class=\"col_heading level0 col4\" >Prec.</th>\n",
       "      <th id=\"T_648b3_level0_col5\" class=\"col_heading level0 col5\" >F1</th>\n",
       "      <th id=\"T_648b3_level0_col6\" class=\"col_heading level0 col6\" >Kappa</th>\n",
       "      <th id=\"T_648b3_level0_col7\" class=\"col_heading level0 col7\" >MCC</th>\n",
       "      <th id=\"T_648b3_level0_col8\" class=\"col_heading level0 col8\" >TT (Sec)</th>\n",
       "    </tr>\n",
       "  </thead>\n",
       "  <tbody>\n",
       "    <tr>\n",
       "      <th id=\"T_648b3_level0_row0\" class=\"row_heading level0 row0\" >rf</th>\n",
       "      <td id=\"T_648b3_row0_col0\" class=\"data row0 col0\" >Random Forest Classifier</td>\n",
       "      <td id=\"T_648b3_row0_col1\" class=\"data row0 col1\" >0.9347</td>\n",
       "      <td id=\"T_648b3_row0_col2\" class=\"data row0 col2\" >0.8055</td>\n",
       "      <td id=\"T_648b3_row0_col3\" class=\"data row0 col3\" >0.3296</td>\n",
       "      <td id=\"T_648b3_row0_col4\" class=\"data row0 col4\" >0.9091</td>\n",
       "      <td id=\"T_648b3_row0_col5\" class=\"data row0 col5\" >0.9199</td>\n",
       "      <td id=\"T_648b3_row0_col6\" class=\"data row0 col6\" >0.4542</td>\n",
       "      <td id=\"T_648b3_row0_col7\" class=\"data row0 col7\" >0.4730</td>\n",
       "      <td id=\"T_648b3_row0_col8\" class=\"data row0 col8\" >116.9840</td>\n",
       "    </tr>\n",
       "  </tbody>\n",
       "</table>\n"
      ],
      "text/plain": [
       "<pandas.io.formats.style.Styler at 0x7f9c45d34b50>"
      ]
     },
     "metadata": {},
     "output_type": "display_data"
    }
   ],
   "source": [
    "model_matrix = compare_models(\n",
    "    fold=10,\n",
    "    include=[\"rf\"]\n",
    ")"
   ]
  },
  {
   "cell_type": "code",
   "execution_count": 117,
   "id": "9b4716b3-5a6b-4942-a32c-7ef3e9083509",
   "metadata": {},
   "outputs": [
    {
     "data": {
      "text/html": [
       "<style type=\"text/css\">\n",
       "#T_80df5_row10_col0, #T_80df5_row10_col1, #T_80df5_row10_col2, #T_80df5_row10_col3, #T_80df5_row10_col4, #T_80df5_row10_col5, #T_80df5_row10_col6 {\n",
       "  background: yellow;\n",
       "}\n",
       "</style>\n",
       "<table id=\"T_80df5\">\n",
       "  <thead>\n",
       "    <tr>\n",
       "      <th class=\"blank level0\" >&nbsp;</th>\n",
       "      <th id=\"T_80df5_level0_col0\" class=\"col_heading level0 col0\" >Accuracy</th>\n",
       "      <th id=\"T_80df5_level0_col1\" class=\"col_heading level0 col1\" >AUC</th>\n",
       "      <th id=\"T_80df5_level0_col2\" class=\"col_heading level0 col2\" >Recall</th>\n",
       "      <th id=\"T_80df5_level0_col3\" class=\"col_heading level0 col3\" >Prec.</th>\n",
       "      <th id=\"T_80df5_level0_col4\" class=\"col_heading level0 col4\" >F1</th>\n",
       "      <th id=\"T_80df5_level0_col5\" class=\"col_heading level0 col5\" >Kappa</th>\n",
       "      <th id=\"T_80df5_level0_col6\" class=\"col_heading level0 col6\" >MCC</th>\n",
       "    </tr>\n",
       "  </thead>\n",
       "  <tbody>\n",
       "    <tr>\n",
       "      <th id=\"T_80df5_level0_row0\" class=\"row_heading level0 row0\" >0</th>\n",
       "      <td id=\"T_80df5_row0_col0\" class=\"data row0 col0\" >0.9347</td>\n",
       "      <td id=\"T_80df5_row0_col1\" class=\"data row0 col1\" >0.8067</td>\n",
       "      <td id=\"T_80df5_row0_col2\" class=\"data row0 col2\" >0.3373</td>\n",
       "      <td id=\"T_80df5_row0_col3\" class=\"data row0 col3\" >0.9092</td>\n",
       "      <td id=\"T_80df5_row0_col4\" class=\"data row0 col4\" >0.9200</td>\n",
       "      <td id=\"T_80df5_row0_col5\" class=\"data row0 col5\" >0.4562</td>\n",
       "      <td id=\"T_80df5_row0_col6\" class=\"data row0 col6\" >0.4744</td>\n",
       "    </tr>\n",
       "    <tr>\n",
       "      <th id=\"T_80df5_level0_row1\" class=\"row_heading level0 row1\" >1</th>\n",
       "      <td id=\"T_80df5_row1_col0\" class=\"data row1 col0\" >0.9353</td>\n",
       "      <td id=\"T_80df5_row1_col1\" class=\"data row1 col1\" >0.8048</td>\n",
       "      <td id=\"T_80df5_row1_col2\" class=\"data row1 col2\" >0.3302</td>\n",
       "      <td id=\"T_80df5_row1_col3\" class=\"data row1 col3\" >0.9099</td>\n",
       "      <td id=\"T_80df5_row1_col4\" class=\"data row1 col4\" >0.9205</td>\n",
       "      <td id=\"T_80df5_row1_col5\" class=\"data row1 col5\" >0.4591</td>\n",
       "      <td id=\"T_80df5_row1_col6\" class=\"data row1 col6\" >0.4781</td>\n",
       "    </tr>\n",
       "    <tr>\n",
       "      <th id=\"T_80df5_level0_row2\" class=\"row_heading level0 row2\" >2</th>\n",
       "      <td id=\"T_80df5_row2_col0\" class=\"data row2 col0\" >0.9351</td>\n",
       "      <td id=\"T_80df5_row2_col1\" class=\"data row2 col1\" >0.8050</td>\n",
       "      <td id=\"T_80df5_row2_col2\" class=\"data row2 col2\" >0.3362</td>\n",
       "      <td id=\"T_80df5_row2_col3\" class=\"data row2 col3\" >0.9097</td>\n",
       "      <td id=\"T_80df5_row2_col4\" class=\"data row2 col4\" >0.9202</td>\n",
       "      <td id=\"T_80df5_row2_col5\" class=\"data row2 col5\" >0.4571</td>\n",
       "      <td id=\"T_80df5_row2_col6\" class=\"data row2 col6\" >0.4762</td>\n",
       "    </tr>\n",
       "    <tr>\n",
       "      <th id=\"T_80df5_level0_row3\" class=\"row_heading level0 row3\" >3</th>\n",
       "      <td id=\"T_80df5_row3_col0\" class=\"data row3 col0\" >0.9343</td>\n",
       "      <td id=\"T_80df5_row3_col1\" class=\"data row3 col1\" >0.8024</td>\n",
       "      <td id=\"T_80df5_row3_col2\" class=\"data row3 col2\" >0.3237</td>\n",
       "      <td id=\"T_80df5_row3_col3\" class=\"data row3 col3\" >0.9081</td>\n",
       "      <td id=\"T_80df5_row3_col4\" class=\"data row3 col4\" >0.9192</td>\n",
       "      <td id=\"T_80df5_row3_col5\" class=\"data row3 col5\" >0.4497</td>\n",
       "      <td id=\"T_80df5_row3_col6\" class=\"data row3 col6\" >0.4688</td>\n",
       "    </tr>\n",
       "    <tr>\n",
       "      <th id=\"T_80df5_level0_row4\" class=\"row_heading level0 row4\" >4</th>\n",
       "      <td id=\"T_80df5_row4_col0\" class=\"data row4 col0\" >0.9335</td>\n",
       "      <td id=\"T_80df5_row4_col1\" class=\"data row4 col1\" >0.8053</td>\n",
       "      <td id=\"T_80df5_row4_col2\" class=\"data row4 col2\" >0.3289</td>\n",
       "      <td id=\"T_80df5_row4_col3\" class=\"data row4 col3\" >0.9082</td>\n",
       "      <td id=\"T_80df5_row4_col4\" class=\"data row4 col4\" >0.9190</td>\n",
       "      <td id=\"T_80df5_row4_col5\" class=\"data row4 col5\" >0.4481</td>\n",
       "      <td id=\"T_80df5_row4_col6\" class=\"data row4 col6\" >0.4652</td>\n",
       "    </tr>\n",
       "    <tr>\n",
       "      <th id=\"T_80df5_level0_row5\" class=\"row_heading level0 row5\" >5</th>\n",
       "      <td id=\"T_80df5_row5_col0\" class=\"data row5 col0\" >0.9349</td>\n",
       "      <td id=\"T_80df5_row5_col1\" class=\"data row5 col1\" >0.8070</td>\n",
       "      <td id=\"T_80df5_row5_col2\" class=\"data row5 col2\" >0.3298</td>\n",
       "      <td id=\"T_80df5_row5_col3\" class=\"data row5 col3\" >0.9092</td>\n",
       "      <td id=\"T_80df5_row5_col4\" class=\"data row5 col4\" >0.9200</td>\n",
       "      <td id=\"T_80df5_row5_col5\" class=\"data row5 col5\" >0.4544</td>\n",
       "      <td id=\"T_80df5_row5_col6\" class=\"data row5 col6\" >0.4738</td>\n",
       "    </tr>\n",
       "    <tr>\n",
       "      <th id=\"T_80df5_level0_row6\" class=\"row_heading level0 row6\" >6</th>\n",
       "      <td id=\"T_80df5_row6_col0\" class=\"data row6 col0\" >0.9345</td>\n",
       "      <td id=\"T_80df5_row6_col1\" class=\"data row6 col1\" >0.8039</td>\n",
       "      <td id=\"T_80df5_row6_col2\" class=\"data row6 col2\" >0.3276</td>\n",
       "      <td id=\"T_80df5_row6_col3\" class=\"data row6 col3\" >0.9089</td>\n",
       "      <td id=\"T_80df5_row6_col4\" class=\"data row6 col4\" >0.9197</td>\n",
       "      <td id=\"T_80df5_row6_col5\" class=\"data row6 col5\" >0.4520</td>\n",
       "      <td id=\"T_80df5_row6_col6\" class=\"data row6 col6\" >0.4709</td>\n",
       "    </tr>\n",
       "    <tr>\n",
       "      <th id=\"T_80df5_level0_row7\" class=\"row_heading level0 row7\" >7</th>\n",
       "      <td id=\"T_80df5_row7_col0\" class=\"data row7 col0\" >0.9347</td>\n",
       "      <td id=\"T_80df5_row7_col1\" class=\"data row7 col1\" >0.8034</td>\n",
       "      <td id=\"T_80df5_row7_col2\" class=\"data row7 col2\" >0.3310</td>\n",
       "      <td id=\"T_80df5_row7_col3\" class=\"data row7 col3\" >0.9090</td>\n",
       "      <td id=\"T_80df5_row7_col4\" class=\"data row7 col4\" >0.9198</td>\n",
       "      <td id=\"T_80df5_row7_col5\" class=\"data row7 col5\" >0.4533</td>\n",
       "      <td id=\"T_80df5_row7_col6\" class=\"data row7 col6\" >0.4723</td>\n",
       "    </tr>\n",
       "    <tr>\n",
       "      <th id=\"T_80df5_level0_row8\" class=\"row_heading level0 row8\" >8</th>\n",
       "      <td id=\"T_80df5_row8_col0\" class=\"data row8 col0\" >0.9349</td>\n",
       "      <td id=\"T_80df5_row8_col1\" class=\"data row8 col1\" >0.8088</td>\n",
       "      <td id=\"T_80df5_row8_col2\" class=\"data row8 col2\" >0.3279</td>\n",
       "      <td id=\"T_80df5_row8_col3\" class=\"data row8 col3\" >0.9094</td>\n",
       "      <td id=\"T_80df5_row8_col4\" class=\"data row8 col4\" >0.9201</td>\n",
       "      <td id=\"T_80df5_row8_col5\" class=\"data row8 col5\" >0.4565</td>\n",
       "      <td id=\"T_80df5_row8_col6\" class=\"data row8 col6\" >0.4751</td>\n",
       "    </tr>\n",
       "    <tr>\n",
       "      <th id=\"T_80df5_level0_row9\" class=\"row_heading level0 row9\" >9</th>\n",
       "      <td id=\"T_80df5_row9_col0\" class=\"data row9 col0\" >0.9350</td>\n",
       "      <td id=\"T_80df5_row9_col1\" class=\"data row9 col1\" >0.8077</td>\n",
       "      <td id=\"T_80df5_row9_col2\" class=\"data row9 col2\" >0.3240</td>\n",
       "      <td id=\"T_80df5_row9_col3\" class=\"data row9 col3\" >0.9094</td>\n",
       "      <td id=\"T_80df5_row9_col4\" class=\"data row9 col4\" >0.9201</td>\n",
       "      <td id=\"T_80df5_row9_col5\" class=\"data row9 col5\" >0.4556</td>\n",
       "      <td id=\"T_80df5_row9_col6\" class=\"data row9 col6\" >0.4751</td>\n",
       "    </tr>\n",
       "    <tr>\n",
       "      <th id=\"T_80df5_level0_row10\" class=\"row_heading level0 row10\" >Mean</th>\n",
       "      <td id=\"T_80df5_row10_col0\" class=\"data row10 col0\" >0.9347</td>\n",
       "      <td id=\"T_80df5_row10_col1\" class=\"data row10 col1\" >0.8055</td>\n",
       "      <td id=\"T_80df5_row10_col2\" class=\"data row10 col2\" >0.3296</td>\n",
       "      <td id=\"T_80df5_row10_col3\" class=\"data row10 col3\" >0.9091</td>\n",
       "      <td id=\"T_80df5_row10_col4\" class=\"data row10 col4\" >0.9199</td>\n",
       "      <td id=\"T_80df5_row10_col5\" class=\"data row10 col5\" >0.4542</td>\n",
       "      <td id=\"T_80df5_row10_col6\" class=\"data row10 col6\" >0.4730</td>\n",
       "    </tr>\n",
       "    <tr>\n",
       "      <th id=\"T_80df5_level0_row11\" class=\"row_heading level0 row11\" >SD</th>\n",
       "      <td id=\"T_80df5_row11_col0\" class=\"data row11 col0\" >0.0005</td>\n",
       "      <td id=\"T_80df5_row11_col1\" class=\"data row11 col1\" >0.0019</td>\n",
       "      <td id=\"T_80df5_row11_col2\" class=\"data row11 col2\" >0.0042</td>\n",
       "      <td id=\"T_80df5_row11_col3\" class=\"data row11 col3\" >0.0006</td>\n",
       "      <td id=\"T_80df5_row11_col4\" class=\"data row11 col4\" >0.0004</td>\n",
       "      <td id=\"T_80df5_row11_col5\" class=\"data row11 col5\" >0.0033</td>\n",
       "      <td id=\"T_80df5_row11_col6\" class=\"data row11 col6\" >0.0036</td>\n",
       "    </tr>\n",
       "  </tbody>\n",
       "</table>\n"
      ],
      "text/plain": [
       "<pandas.io.formats.style.Styler at 0x7f9daa476940>"
      ]
     },
     "metadata": {},
     "output_type": "display_data"
    },
    {
     "name": "stderr",
     "output_type": "stream",
     "text": [
      "/Library/Frameworks/Python.framework/Versions/3.9/lib/python3.9/site-packages/sklearn/metrics/_classification.py:1221: UndefinedMetricWarning: Precision is ill-defined and being set to 0.0 in labels with no predicted samples. Use `zero_division` parameter to control this behavior.\n",
      "  _warn_prf(average, modifier, msg_start, len(result))\n",
      "/Library/Frameworks/Python.framework/Versions/3.9/lib/python3.9/site-packages/sklearn/metrics/_classification.py:1221: UndefinedMetricWarning: Precision is ill-defined and being set to 0.0 in labels with no predicted samples. Use `zero_division` parameter to control this behavior.\n",
      "  _warn_prf(average, modifier, msg_start, len(result))\n",
      "/Library/Frameworks/Python.framework/Versions/3.9/lib/python3.9/site-packages/sklearn/metrics/_classification.py:1221: UndefinedMetricWarning: Precision is ill-defined and being set to 0.0 in labels with no predicted samples. Use `zero_division` parameter to control this behavior.\n",
      "  _warn_prf(average, modifier, msg_start, len(result))\n",
      "/Library/Frameworks/Python.framework/Versions/3.9/lib/python3.9/site-packages/sklearn/metrics/_classification.py:1221: UndefinedMetricWarning: Precision is ill-defined and being set to 0.0 in labels with no predicted samples. Use `zero_division` parameter to control this behavior.\n",
      "  _warn_prf(average, modifier, msg_start, len(result))\n",
      "/Library/Frameworks/Python.framework/Versions/3.9/lib/python3.9/site-packages/sklearn/metrics/_classification.py:1221: UndefinedMetricWarning: Precision is ill-defined and being set to 0.0 in labels with no predicted samples. Use `zero_division` parameter to control this behavior.\n",
      "  _warn_prf(average, modifier, msg_start, len(result))\n",
      "/Library/Frameworks/Python.framework/Versions/3.9/lib/python3.9/site-packages/sklearn/metrics/_classification.py:1221: UndefinedMetricWarning: Precision is ill-defined and being set to 0.0 in labels with no predicted samples. Use `zero_division` parameter to control this behavior.\n",
      "  _warn_prf(average, modifier, msg_start, len(result))\n",
      "/Library/Frameworks/Python.framework/Versions/3.9/lib/python3.9/site-packages/sklearn/metrics/_classification.py:1221: UndefinedMetricWarning: Precision is ill-defined and being set to 0.0 in labels with no predicted samples. Use `zero_division` parameter to control this behavior.\n",
      "  _warn_prf(average, modifier, msg_start, len(result))\n",
      "/Library/Frameworks/Python.framework/Versions/3.9/lib/python3.9/site-packages/sklearn/metrics/_classification.py:1221: UndefinedMetricWarning: Precision is ill-defined and being set to 0.0 in labels with no predicted samples. Use `zero_division` parameter to control this behavior.\n",
      "  _warn_prf(average, modifier, msg_start, len(result))\n"
     ]
    }
   ],
   "source": [
    "best_model = create_model(model_matrix)\n",
    "final_model = finalize_model(best_model)"
   ]
  },
  {
   "cell_type": "code",
   "execution_count": 118,
   "id": "4487009f",
   "metadata": {},
   "outputs": [
    {
     "data": {
      "text/plain": [
       "(390563, 13)"
      ]
     },
     "execution_count": 118,
     "metadata": {},
     "output_type": "execute_result"
    }
   ],
   "source": [
    "df_inference_year = dfObj.loc[dfObj[\"seasonyear\"] >= 2022]\n",
    "df_inference = df_inference_year.loc[df_inference_year[\"clientcode\"] == 'CANUCKS']\n",
    "df_inference = df_inference.fillna(0)\n",
    "df_inference.shape"
   ]
  },
  {
   "cell_type": "code",
   "execution_count": 119,
   "id": "cc70b3f5-3585-4dec-9047-7db5c4c76fa7",
   "metadata": {},
   "outputs": [
    {
     "data": {
      "text/plain": [
       "array(['CANUCKS'], dtype=object)"
      ]
     },
     "execution_count": 119,
     "metadata": {},
     "output_type": "execute_result"
    }
   ],
   "source": [
    "df_inference[\"clientcode\"].unique()"
   ]
  },
  {
   "cell_type": "code",
   "execution_count": 120,
   "id": "174c51c0-5830-4cb1-b021-083e966c28a8",
   "metadata": {},
   "outputs": [
    {
     "data": {
      "text/plain": [
       "array([2022])"
      ]
     },
     "execution_count": 120,
     "metadata": {},
     "output_type": "execute_result"
    }
   ],
   "source": [
    "df_inference[\"seasonyear\"].unique()"
   ]
  },
  {
   "cell_type": "code",
   "execution_count": 121,
   "id": "3aa9448f",
   "metadata": {},
   "outputs": [
    {
     "data": {
      "text/html": [
       "<div>\n",
       "<style scoped>\n",
       "    .dataframe tbody tr th:only-of-type {\n",
       "        vertical-align: middle;\n",
       "    }\n",
       "\n",
       "    .dataframe tbody tr th {\n",
       "        vertical-align: top;\n",
       "    }\n",
       "\n",
       "    .dataframe thead th {\n",
       "        text-align: right;\n",
       "    }\n",
       "</style>\n",
       "<table border=\"1\" class=\"dataframe\">\n",
       "  <thead>\n",
       "    <tr style=\"text-align: right;\">\n",
       "      <th></th>\n",
       "      <th>lkupclientid</th>\n",
       "      <th>clientcode</th>\n",
       "      <th>dimcustomermasterid</th>\n",
       "      <th>distance</th>\n",
       "      <th>seasonyear</th>\n",
       "      <th>events_prior</th>\n",
       "      <th>attended_prior</th>\n",
       "      <th>events_last</th>\n",
       "      <th>attended_last</th>\n",
       "      <th>tenure</th>\n",
       "      <th>atp_last</th>\n",
       "      <th>product_current</th>\n",
       "      <th>product_last</th>\n",
       "      <th>Label</th>\n",
       "      <th>Score</th>\n",
       "    </tr>\n",
       "  </thead>\n",
       "  <tbody>\n",
       "    <tr>\n",
       "      <th>3</th>\n",
       "      <td>7</td>\n",
       "      <td>CANUCKS</td>\n",
       "      <td>3</td>\n",
       "      <td>748.34</td>\n",
       "      <td>2022</td>\n",
       "      <td>1</td>\n",
       "      <td>1</td>\n",
       "      <td>0</td>\n",
       "      <td>0</td>\n",
       "      <td>4</td>\n",
       "      <td>0.00</td>\n",
       "      <td>None</td>\n",
       "      <td>None</td>\n",
       "      <td>None</td>\n",
       "      <td>0.9610</td>\n",
       "    </tr>\n",
       "    <tr>\n",
       "      <th>4</th>\n",
       "      <td>7</td>\n",
       "      <td>CANUCKS</td>\n",
       "      <td>4</td>\n",
       "      <td>2.96</td>\n",
       "      <td>2022</td>\n",
       "      <td>1</td>\n",
       "      <td>1</td>\n",
       "      <td>1</td>\n",
       "      <td>1</td>\n",
       "      <td>0</td>\n",
       "      <td>115.34</td>\n",
       "      <td>None</td>\n",
       "      <td>None</td>\n",
       "      <td>None</td>\n",
       "      <td>0.9700</td>\n",
       "    </tr>\n",
       "    <tr>\n",
       "      <th>6</th>\n",
       "      <td>7</td>\n",
       "      <td>CANUCKS</td>\n",
       "      <td>6</td>\n",
       "      <td>251.56</td>\n",
       "      <td>2022</td>\n",
       "      <td>1</td>\n",
       "      <td>0</td>\n",
       "      <td>0</td>\n",
       "      <td>0</td>\n",
       "      <td>2</td>\n",
       "      <td>0.00</td>\n",
       "      <td>None</td>\n",
       "      <td>None</td>\n",
       "      <td>None</td>\n",
       "      <td>0.9897</td>\n",
       "    </tr>\n",
       "    <tr>\n",
       "      <th>11</th>\n",
       "      <td>7</td>\n",
       "      <td>CANUCKS</td>\n",
       "      <td>7</td>\n",
       "      <td>5.63</td>\n",
       "      <td>2022</td>\n",
       "      <td>1</td>\n",
       "      <td>1</td>\n",
       "      <td>0</td>\n",
       "      <td>0</td>\n",
       "      <td>5</td>\n",
       "      <td>0.00</td>\n",
       "      <td>None</td>\n",
       "      <td>None</td>\n",
       "      <td>None</td>\n",
       "      <td>0.9506</td>\n",
       "    </tr>\n",
       "    <tr>\n",
       "      <th>13</th>\n",
       "      <td>7</td>\n",
       "      <td>CANUCKS</td>\n",
       "      <td>8</td>\n",
       "      <td>251.56</td>\n",
       "      <td>2022</td>\n",
       "      <td>3</td>\n",
       "      <td>3</td>\n",
       "      <td>0</td>\n",
       "      <td>0</td>\n",
       "      <td>2</td>\n",
       "      <td>0.00</td>\n",
       "      <td>None</td>\n",
       "      <td>None</td>\n",
       "      <td>None</td>\n",
       "      <td>0.9671</td>\n",
       "    </tr>\n",
       "  </tbody>\n",
       "</table>\n",
       "</div>"
      ],
      "text/plain": [
       "    lkupclientid clientcode  dimcustomermasterid  distance  seasonyear  \\\n",
       "3              7    CANUCKS                    3    748.34        2022   \n",
       "4              7    CANUCKS                    4      2.96        2022   \n",
       "6              7    CANUCKS                    6    251.56        2022   \n",
       "11             7    CANUCKS                    7      5.63        2022   \n",
       "13             7    CANUCKS                    8    251.56        2022   \n",
       "\n",
       "    events_prior  attended_prior  events_last  attended_last  tenure  \\\n",
       "3              1               1            0              0       4   \n",
       "4              1               1            1              1       0   \n",
       "6              1               0            0              0       2   \n",
       "11             1               1            0              0       5   \n",
       "13             3               3            0              0       2   \n",
       "\n",
       "    atp_last product_current product_last Label   Score  \n",
       "3       0.00            None         None  None  0.9610  \n",
       "4     115.34            None         None  None  0.9700  \n",
       "6       0.00            None         None  None  0.9897  \n",
       "11      0.00            None         None  None  0.9506  \n",
       "13      0.00            None         None  None  0.9671  "
      ]
     },
     "execution_count": 121,
     "metadata": {},
     "output_type": "execute_result"
    }
   ],
   "source": [
    "new_predictions = predict_model(final_model, data=df_inference)\n",
    "new_predictions.head()"
   ]
  },
  {
   "cell_type": "code",
   "execution_count": 122,
   "id": "411e4d80",
   "metadata": {},
   "outputs": [
    {
     "data": {
      "text/plain": [
       "None                 383050\n",
       "Individual             2874\n",
       "Full Season            2698\n",
       "Quarter                 948\n",
       "Half Season             505\n",
       "Groups                  311\n",
       "Group                   111\n",
       "Partial Season           26\n",
       "Mini Pack                16\n",
       "Flex Plan                12\n",
       "Mini Plan                 5\n",
       "Partial                   4\n",
       "Premier/Core Plan         3\n",
       "Name: Label, dtype: int64"
      ]
     },
     "execution_count": 122,
     "metadata": {},
     "output_type": "execute_result"
    }
   ],
   "source": [
    "new_predictions[\"Label\"].value_counts()"
   ]
  },
  {
   "cell_type": "code",
   "execution_count": 123,
   "id": "bfeb9655",
   "metadata": {},
   "outputs": [
    {
     "data": {
      "image/png": "[encoded data removed]",
      "text/plain": [
       "<Figure size 576x396 with 1 Axes>"
      ]
     },
     "metadata": {},
     "output_type": "display_data"
    }
   ],
   "source": [
    "plt.hist(new_predictions[\"Score\"], bins=20, edgecolor='black')\n",
    "plt.title(\"Product Propensity Scores\")\n",
    "plt.ylabel(\"Num Fans\")\n",
    "plt.show()"
   ]
  },
  {
   "cell_type": "code",
   "execution_count": 124,
   "id": "7e22aece-548d-49e8-a88c-c276cecd27f6",
   "metadata": {},
   "outputs": [
    {
     "data": {
      "image/png": "[encoded data removed]",
      "text/plain": [
       "<Figure size 800x500 with 1 Axes>"
      ]
     },
     "metadata": {},
     "output_type": "display_data"
    }
   ],
   "source": [
    "plot_model(final_model, plot='feature')"
   ]
  },
  {
   "cell_type": "code",
   "execution_count": 125,
   "id": "1c4f2ff5-fdf2-464a-8e6b-94e5b4c688c5",
   "metadata": {},
   "outputs": [
    {
     "data": {
      "image/png": "[encoded data removed]",
      "text/plain": [
       "<Figure size 576x396 with 1 Axes>"
      ]
     },
     "metadata": {},
     "output_type": "display_data"
    }
   ],
   "source": [
    "plot_model(final_model, plot='confusion_matrix')"
   ]
  },
  {
   "cell_type": "code",
   "execution_count": 126,
   "id": "88ef2e16-8ae3-4618-9ecd-2a94754763fc",
   "metadata": {},
   "outputs": [
    {
     "data": {
      "image/png": "[encoded data removed]",
      "text/plain": [
       "<Figure size 576x396 with 1 Axes>"
      ]
     },
     "metadata": {},
     "output_type": "display_data"
    }
   ],
   "source": [
    "plot_model(final_model, plot='auc')"
   ]
  },
  {
   "cell_type": "code",
   "execution_count": 127,
   "id": "66bd5087-f9ba-446e-926d-521c30714882",
   "metadata": {},
   "outputs": [
    {
     "data": {
      "application/vnd.jupyter.widget-view+json": {
       "model_id": "3e5b916230044368a819bb879bedeb30",
       "version_major": 2,
       "version_minor": 0
      },
      "text/plain": [
       "Summarize dataset:   0%|          | 0/29 [00:00<?, ?it/s]"
      ]
     },
     "metadata": {},
     "output_type": "display_data"
    },
    {
     "data": {
      "application/vnd.jupyter.widget-view+json": {
       "model_id": "cfd4aa1b1197441c9109618def39b6a7",
       "version_major": 2,
       "version_minor": 0
      },
      "text/plain": [
       "Generate report structure:   0%|          | 0/1 [00:00<?, ?it/s]"
      ]
     },
     "metadata": {},
     "output_type": "display_data"
    },
    {
     "data": {
      "application/vnd.jupyter.widget-view+json": {
       "model_id": "2cfaaa93bee04564a7b56b33e47eeff2",
       "version_major": 2,
       "version_minor": 0
      },
      "text/plain": [
       "Render HTML:   0%|          | 0/1 [00:00<?, ?it/s]"
      ]
     },
     "metadata": {},
     "output_type": "display_data"
    },
    {
     "data": {
      "application/vnd.jupyter.widget-view+json": {
       "model_id": "33f4319476fe41f79eec28f34845a7d7",
       "version_major": 2,
       "version_minor": 0
      },
      "text/plain": [
       "Export report to file:   0%|          | 0/1 [00:00<?, ?it/s]"
      ]
     },
     "metadata": {},
     "output_type": "display_data"
    }
   ],
   "source": [
    "report = ProfileReport(new_predictions)\n",
    "report.to_file(\"NHL_data_PP_predictions.html\")"
   ]
  },
  {
   "cell_type": "code",
   "execution_count": 128,
   "id": "51803dee-5a3a-4f32-af8d-3ae0b9c78aca",
   "metadata": {},
   "outputs": [
    {
     "data": {
      "application/vnd.jupyter.widget-view+json": {
       "model_id": "0692d405cb374b0f9a00c6d8a48014eb",
       "version_major": 2,
       "version_minor": 0
      },
      "text/plain": [
       "Summarize dataset:   0%|          | 0/26 [00:00<?, ?it/s]"
      ]
     },
     "metadata": {},
     "output_type": "display_data"
    },
    {
     "data": {
      "application/vnd.jupyter.widget-view+json": {
       "model_id": "b6e5402b6b7f4968a2a7eecffbc81566",
       "version_major": 2,
       "version_minor": 0
      },
      "text/plain": [
       "Generate report structure:   0%|          | 0/1 [00:00<?, ?it/s]"
      ]
     },
     "metadata": {},
     "output_type": "display_data"
    },
    {
     "data": {
      "application/vnd.jupyter.widget-view+json": {
       "model_id": "c94500498171424cac38d0719e812921",
       "version_major": 2,
       "version_minor": 0
      },
      "text/plain": [
       "Render HTML:   0%|          | 0/1 [00:00<?, ?it/s]"
      ]
     },
     "metadata": {},
     "output_type": "display_data"
    },
    {
     "data": {
      "application/vnd.jupyter.widget-view+json": {
       "model_id": "d89ccabe54cb4903a4e770bde24d6964",
       "version_major": 2,
       "version_minor": 0
      },
      "text/plain": [
       "Export report to file:   0%|          | 0/1 [00:00<?, ?it/s]"
      ]
     },
     "metadata": {},
     "output_type": "display_data"
    }
   ],
   "source": [
    "report2 = ProfileReport(df)\n",
    "report2.to_file(\"NHL_data_PP_df.html\")"
   ]
  },
  {
   "cell_type": "markdown",
   "id": "7d74dabe-4ed6-4f54-b25b-35f5d4cb1cae",
   "metadata": {},
   "source": [
    "## Observations for using NHL data\n",
    "\n",
    "1. How accurate was this model? \n",
    "* The accuracy is 93% (1% more than using canucks data)\n",
    "\n",
    "2. How does the prediction looks for each package?\n",
    "* None:                 382891\n",
    "* Individual:             2904\n",
    "* Full Season:            2801\n",
    "* Quarter:                 963\n",
    "* Half Season:             510\n",
    "* Groups:                  317\n",
    "* Group:                   110\n",
    "* Partial Season:           25\n",
    "* Mini Pack:                15\n",
    "* Flex Plan:                12\n",
    "* Partial:                   7\n",
    "* Mini Plan:                 4\n",
    "* Premier/Core Plan:         3\n",
    "* Mini-Plan:                 1\n",
    "\n",
    "3. What were the most important features in making a correct prediction?\n",
    "*  distance, atp_last, product_last_full season are top 3 important features.\n"
   ]
  },
  {
   "cell_type": "markdown",
   "id": "71538730-5d53-468c-86c8-d4d7fc671786",
   "metadata": {},
   "source": [
    "### Done"
   ]
  }
 ],
 "metadata": {
  "kernelspec": {
   "display_name": "Python 3 (ipykernel)",
   "language": "python",
   "name": "python3"
  },
  "language_info": {
   "codemirror_mode": {
    "name": "ipython",
    "version": 3
   },
   "file_extension": ".py",
   "mimetype": "text/x-python",
   "name": "python",
   "nbconvert_exporter": "python",
   "pygments_lexer": "ipython3",
   "version": "3.9.4"
  },
  "vscode": {
   "interpreter": {
    "hash": "89f48dadab51a6b5b48ffc1a9e043c21cefe67453637c3444f3b86917b8aad16"
   }
  }
 },
 "nbformat": 4,
 "nbformat_minor": 5
}
