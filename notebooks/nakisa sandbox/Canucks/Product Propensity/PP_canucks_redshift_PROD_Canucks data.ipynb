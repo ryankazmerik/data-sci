{
 "cells": [
  {
   "cell_type": "markdown",
   "id": "9575d83e",
   "metadata": {},
   "source": [
    "# PRODUCT PROPENSITY - PROD - Redshift - Canucks Data\n",
    "* StellarAlgo Data Science\n",
    "* Ryan Kazmerik & Nakisa Rad\n",
    "* July 14, 2022"
   ]
  },
  {
   "cell_type": "markdown",
   "id": "62d7c5a2",
   "metadata": {},
   "source": [
    "## Hypothesis\n",
    "This notebook will test the Product Propensity model features and the goal is to check how the accuracy and scores look when we train the model only with Canucks data compared to all NHL data."
   ]
  },
  {
   "cell_type": "markdown",
   "id": "c46403a5",
   "metadata": {},
   "source": [
    "## Experiment\n",
    "This section details our experiment including querying data, data transformations, feature selection and modelling."
   ]
  },
  {
   "cell_type": "code",
   "execution_count": 27,
   "id": "df2be620",
   "metadata": {},
   "outputs": [],
   "source": [
    "import boto3\n",
    "import pandas as pd\n",
    "import matplotlib.pyplot as plt\n",
    "from pandas_profiling import ProfileReport\n",
    "import psycopg2\n",
    "from shared_utilities import helpers\n",
    "from pycaret.classification import *"
   ]
  },
  {
   "cell_type": "code",
   "execution_count": 28,
   "id": "93720795",
   "metadata": {},
   "outputs": [
    {
     "name": "stdout",
     "output_type": "stream",
     "text": [
      "Attempting to automatically open the SSO authorization page in your default browser.\n",
      "If the browser does not open or you wish to use a different device to authorize this request, open the following URL:\n",
      "\n",
      "https://device.sso.us-east-1.amazonaws.com/\n",
      "\n",
      "Then enter the code:\n",
      "\n",
      "BJFG-SKGT\n",
      "Successully logged into Start URL: https://stellaralgo.awsapps.com/start#/\n"
     ]
    }
   ],
   "source": [
    "! aws sso login --profile Stellaralgo-DataScienceAdmin"
   ]
  },
  {
   "cell_type": "code",
   "execution_count": 29,
   "id": "c9070e68-19f1-4cf1-8ee7-6cebec1ec5a8",
   "metadata": {},
   "outputs": [],
   "source": [
    "conn = helpers.get_redshift_connection('prod-app', 'stlrcanucks')"
   ]
  },
  {
   "cell_type": "code",
   "execution_count": 30,
   "id": "bf80cd96",
   "metadata": {},
   "outputs": [],
   "source": [
    "# call the stored proc to get data for the retention model\n",
    "cur = conn.cursor()\n",
    "cur.execute(f\"CALL ds.getproductpropensitymodeldata(7,2010, 2022, 'temp_cursor')\")\n",
    "\n",
    "# create a named cursor based on the cursor name passed in above\n",
    "named_cursor = conn.cursor('temp_cursor')\n",
    "data = named_cursor.fetchall()\n",
    "\n",
    "# load the data and columns into a data frame\n",
    "cols = [row[0] for row in named_cursor.description]\n",
    "df = pd.DataFrame(data=data, columns=cols)\n",
    "\n",
    "conn.commit()"
   ]
  },
  {
   "cell_type": "code",
   "execution_count": 31,
   "id": "fbe71a79",
   "metadata": {},
   "outputs": [
    {
     "name": "stdout",
     "output_type": "stream",
     "text": [
      "<class 'pandas.core.frame.DataFrame'>\n",
      "RangeIndex: 1089728 entries, 0 to 1089727\n",
      "Data columns (total 13 columns):\n",
      " #   Column               Non-Null Count    Dtype  \n",
      "---  ------               --------------    -----  \n",
      " 0   lkupclientid         1089728 non-null  int64  \n",
      " 1   clientcode           1089728 non-null  object \n",
      " 2   dimcustomermasterid  1089728 non-null  int64  \n",
      " 3   distance             1089728 non-null  float64\n",
      " 4   seasonyear           1089728 non-null  int64  \n",
      " 5   events_prior         1089728 non-null  int64  \n",
      " 6   attended_prior       1089728 non-null  int64  \n",
      " 7   events_last          1089728 non-null  int64  \n",
      " 8   attended_last        1089728 non-null  int64  \n",
      " 9   tenure               1089728 non-null  int64  \n",
      " 10  atp_last             1089728 non-null  float64\n",
      " 11  product_current      1089728 non-null  object \n",
      " 12  product_last         1089728 non-null  object \n",
      "dtypes: float64(2), int64(8), object(3)\n",
      "memory usage: 108.1+ MB\n"
     ]
    }
   ],
   "source": [
    "df.info()"
   ]
  },
  {
   "cell_type": "code",
   "execution_count": 32,
   "id": "1c8bad91-cdc3-40a7-8915-93f3048bfa53",
   "metadata": {},
   "outputs": [
    {
     "name": "stdout",
     "output_type": "stream",
     "text": [
      "Data for Modeling: (594290, 13)\n",
      "Unseen Data For Predictions: (104875, 13)\n",
      "\n"
     ]
    }
   ],
   "source": [
    "# choose the features for the stellar base retention model\n",
    "features = [\n",
    "    \"lkupclientid\",\n",
    "    \"clientcode\",\n",
    "    \"dimcustomermasterid\", \n",
    "    \"distance\",\n",
    "    \"seasonyear\",\n",
    "    \"events_prior\",\n",
    "    \"attended_prior\",\n",
    "    \"events_last\",\n",
    "    \"attended_last\",\n",
    "    \"tenure\",\n",
    "    \"atp_last\",\n",
    "    \"product_current\",\n",
    "    \"product_last\"\n",
    "]\n",
    "\n",
    "# copy your main dataframe\n",
    "df_dataset = df\n",
    "\n",
    "# choose the features & train year & test year\n",
    "df_dataset = df_dataset[features]\n",
    "df_dataset[\"seasonyear\"] = pd.to_numeric(df_dataset[\"seasonyear\"])\n",
    "df_dataset = df_dataset.loc[df_dataset[\"seasonyear\"] <= 2021]\n",
    "\n",
    "df_train = df_dataset.sample(frac=0.85, random_state=786)\n",
    "df_eval = df_dataset.drop(df_train.index)\n",
    "\n",
    "df_train.reset_index(drop=True, inplace=True)\n",
    "df_eval.reset_index(drop=True, inplace=True)\n",
    "\n",
    "# print out the number of records for training and eval\n",
    "print('Data for Modeling: ' + str(df_train.shape))\n",
    "print('Unseen Data For Predictions: ' + str(df_eval.shape), end=\"\\n\\n\")"
   ]
  },
  {
   "cell_type": "code",
   "execution_count": 33,
   "id": "3eabb279-56dd-4dbf-b7da-77bd2aa7cafa",
   "metadata": {},
   "outputs": [],
   "source": [
    "setup(\n",
    "    data= df_train, \n",
    "    target=\"product_current\", \n",
    "    train_size = 0.85,\n",
    "    data_split_shuffle=True,\n",
    "    silent=True,\n",
    "    verbose=False,\n",
    "    ignore_features=[\n",
    "        \"lkupclientid\",\n",
    "        \"clientcode\",\n",
    "        \"dimcustomermasterid\",\n",
    "        \"seasonyear\"\n",
    "    ],\n",
    "    numeric_features=[\n",
    "        \"distance\",\n",
    "    \"events_prior\",\n",
    "    \"attended_prior\",\n",
    "    \"events_last\",\n",
    "    \"attended_last\",\n",
    "    \"tenure\",\n",
    "    \"atp_last\"\n",
    "    ]\n",
    ");"
   ]
  },
  {
   "cell_type": "code",
   "execution_count": 34,
   "id": "05742a70-860c-477f-bea9-516a0a87c508",
   "metadata": {},
   "outputs": [
    {
     "data": {
      "text/html": [
       "<style type=\"text/css\">\n",
       "#T_3e3d8 th {\n",
       "  text-align: left;\n",
       "}\n",
       "#T_3e3d8_row0_col0 {\n",
       "  text-align: left;\n",
       "}\n",
       "#T_3e3d8_row0_col1, #T_3e3d8_row0_col2, #T_3e3d8_row0_col3, #T_3e3d8_row0_col4, #T_3e3d8_row0_col5, #T_3e3d8_row0_col6, #T_3e3d8_row0_col7 {\n",
       "  text-align: left;\n",
       "  background-color: yellow;\n",
       "}\n",
       "#T_3e3d8_row0_col8 {\n",
       "  text-align: left;\n",
       "  background-color: yellow;\n",
       "  background-color: lightgrey;\n",
       "}\n",
       "</style>\n",
       "<table id=\"T_3e3d8\">\n",
       "  <thead>\n",
       "    <tr>\n",
       "      <th class=\"blank level0\" >&nbsp;</th>\n",
       "      <th id=\"T_3e3d8_level0_col0\" class=\"col_heading level0 col0\" >Model</th>\n",
       "      <th id=\"T_3e3d8_level0_col1\" class=\"col_heading level0 col1\" >Accuracy</th>\n",
       "      <th id=\"T_3e3d8_level0_col2\" class=\"col_heading level0 col2\" >AUC</th>\n",
       "      <th id=\"T_3e3d8_level0_col3\" class=\"col_heading level0 col3\" >Recall</th>\n",
       "      <th id=\"T_3e3d8_level0_col4\" class=\"col_heading level0 col4\" >Prec.</th>\n",
       "      <th id=\"T_3e3d8_level0_col5\" class=\"col_heading level0 col5\" >F1</th>\n",
       "      <th id=\"T_3e3d8_level0_col6\" class=\"col_heading level0 col6\" >Kappa</th>\n",
       "      <th id=\"T_3e3d8_level0_col7\" class=\"col_heading level0 col7\" >MCC</th>\n",
       "      <th id=\"T_3e3d8_level0_col8\" class=\"col_heading level0 col8\" >TT (Sec)</th>\n",
       "    </tr>\n",
       "  </thead>\n",
       "  <tbody>\n",
       "    <tr>\n",
       "      <th id=\"T_3e3d8_level0_row0\" class=\"row_heading level0 row0\" >rf</th>\n",
       "      <td id=\"T_3e3d8_row0_col0\" class=\"data row0 col0\" >Random Forest Classifier</td>\n",
       "      <td id=\"T_3e3d8_row0_col1\" class=\"data row0 col1\" >0.9290</td>\n",
       "      <td id=\"T_3e3d8_row0_col2\" class=\"data row0 col2\" >0.7805</td>\n",
       "      <td id=\"T_3e3d8_row0_col3\" class=\"data row0 col3\" >0.4342</td>\n",
       "      <td id=\"T_3e3d8_row0_col4\" class=\"data row0 col4\" >0.9015</td>\n",
       "      <td id=\"T_3e3d8_row0_col5\" class=\"data row0 col5\" >0.9129</td>\n",
       "      <td id=\"T_3e3d8_row0_col6\" class=\"data row0 col6\" >0.4229</td>\n",
       "      <td id=\"T_3e3d8_row0_col7\" class=\"data row0 col7\" >0.4427</td>\n",
       "      <td id=\"T_3e3d8_row0_col8\" class=\"data row0 col8\" >15.0480</td>\n",
       "    </tr>\n",
       "  </tbody>\n",
       "</table>\n"
      ],
      "text/plain": [
       "<pandas.io.formats.style.Styler at 0x7fca6e6e59d0>"
      ]
     },
     "metadata": {},
     "output_type": "display_data"
    }
   ],
   "source": [
    "model_matrix = compare_models(\n",
    "    fold=10,\n",
    "    include=[\"rf\"]\n",
    ")"
   ]
  },
  {
   "cell_type": "code",
   "execution_count": 35,
   "id": "9b4716b3-5a6b-4942-a32c-7ef3e9083509",
   "metadata": {},
   "outputs": [
    {
     "data": {
      "text/html": [
       "<style type=\"text/css\">\n",
       "#T_c6408_row10_col0, #T_c6408_row10_col1, #T_c6408_row10_col2, #T_c6408_row10_col3, #T_c6408_row10_col4, #T_c6408_row10_col5, #T_c6408_row10_col6 {\n",
       "  background: yellow;\n",
       "}\n",
       "</style>\n",
       "<table id=\"T_c6408\">\n",
       "  <thead>\n",
       "    <tr>\n",
       "      <th class=\"blank level0\" >&nbsp;</th>\n",
       "      <th id=\"T_c6408_level0_col0\" class=\"col_heading level0 col0\" >Accuracy</th>\n",
       "      <th id=\"T_c6408_level0_col1\" class=\"col_heading level0 col1\" >AUC</th>\n",
       "      <th id=\"T_c6408_level0_col2\" class=\"col_heading level0 col2\" >Recall</th>\n",
       "      <th id=\"T_c6408_level0_col3\" class=\"col_heading level0 col3\" >Prec.</th>\n",
       "      <th id=\"T_c6408_level0_col4\" class=\"col_heading level0 col4\" >F1</th>\n",
       "      <th id=\"T_c6408_level0_col5\" class=\"col_heading level0 col5\" >Kappa</th>\n",
       "      <th id=\"T_c6408_level0_col6\" class=\"col_heading level0 col6\" >MCC</th>\n",
       "    </tr>\n",
       "  </thead>\n",
       "  <tbody>\n",
       "    <tr>\n",
       "      <th id=\"T_c6408_level0_row0\" class=\"row_heading level0 row0\" >0</th>\n",
       "      <td id=\"T_c6408_row0_col0\" class=\"data row0 col0\" >0.9293</td>\n",
       "      <td id=\"T_c6408_row0_col1\" class=\"data row0 col1\" >0.7845</td>\n",
       "      <td id=\"T_c6408_row0_col2\" class=\"data row0 col2\" >0.4374</td>\n",
       "      <td id=\"T_c6408_row0_col3\" class=\"data row0 col3\" >0.9022</td>\n",
       "      <td id=\"T_c6408_row0_col4\" class=\"data row0 col4\" >0.9134</td>\n",
       "      <td id=\"T_c6408_row0_col5\" class=\"data row0 col5\" >0.4272</td>\n",
       "      <td id=\"T_c6408_row0_col6\" class=\"data row0 col6\" >0.4465</td>\n",
       "    </tr>\n",
       "    <tr>\n",
       "      <th id=\"T_c6408_level0_row1\" class=\"row_heading level0 row1\" >1</th>\n",
       "      <td id=\"T_c6408_row1_col0\" class=\"data row1 col0\" >0.9281</td>\n",
       "      <td id=\"T_c6408_row1_col1\" class=\"data row1 col1\" >0.7790</td>\n",
       "      <td id=\"T_c6408_row1_col2\" class=\"data row1 col2\" >0.4414</td>\n",
       "      <td id=\"T_c6408_row1_col3\" class=\"data row1 col3\" >0.9008</td>\n",
       "      <td id=\"T_c6408_row1_col4\" class=\"data row1 col4\" >0.9123</td>\n",
       "      <td id=\"T_c6408_row1_col5\" class=\"data row1 col5\" >0.4201</td>\n",
       "      <td id=\"T_c6408_row1_col6\" class=\"data row1 col6\" >0.4383</td>\n",
       "    </tr>\n",
       "    <tr>\n",
       "      <th id=\"T_c6408_level0_row2\" class=\"row_heading level0 row2\" >2</th>\n",
       "      <td id=\"T_c6408_row2_col0\" class=\"data row2 col0\" >0.9298</td>\n",
       "      <td id=\"T_c6408_row2_col1\" class=\"data row2 col1\" >0.7823</td>\n",
       "      <td id=\"T_c6408_row2_col2\" class=\"data row2 col2\" >0.4356</td>\n",
       "      <td id=\"T_c6408_row2_col3\" class=\"data row2 col3\" >0.9022</td>\n",
       "      <td id=\"T_c6408_row2_col4\" class=\"data row2 col4\" >0.9135</td>\n",
       "      <td id=\"T_c6408_row2_col5\" class=\"data row2 col5\" >0.4272</td>\n",
       "      <td id=\"T_c6408_row2_col6\" class=\"data row2 col6\" >0.4481</td>\n",
       "    </tr>\n",
       "    <tr>\n",
       "      <th id=\"T_c6408_level0_row3\" class=\"row_heading level0 row3\" >3</th>\n",
       "      <td id=\"T_c6408_row3_col0\" class=\"data row3 col0\" >0.9298</td>\n",
       "      <td id=\"T_c6408_row3_col1\" class=\"data row3 col1\" >0.7825</td>\n",
       "      <td id=\"T_c6408_row3_col2\" class=\"data row3 col2\" >0.4438</td>\n",
       "      <td id=\"T_c6408_row3_col3\" class=\"data row3 col3\" >0.9030</td>\n",
       "      <td id=\"T_c6408_row3_col4\" class=\"data row3 col4\" >0.9141</td>\n",
       "      <td id=\"T_c6408_row3_col5\" class=\"data row3 col5\" >0.4314</td>\n",
       "      <td id=\"T_c6408_row3_col6\" class=\"data row3 col6\" >0.4511</td>\n",
       "    </tr>\n",
       "    <tr>\n",
       "      <th id=\"T_c6408_level0_row4\" class=\"row_heading level0 row4\" >4</th>\n",
       "      <td id=\"T_c6408_row4_col0\" class=\"data row4 col0\" >0.9287</td>\n",
       "      <td id=\"T_c6408_row4_col1\" class=\"data row4 col1\" >0.7745</td>\n",
       "      <td id=\"T_c6408_row4_col2\" class=\"data row4 col2\" >0.4361</td>\n",
       "      <td id=\"T_c6408_row4_col3\" class=\"data row4 col3\" >0.9016</td>\n",
       "      <td id=\"T_c6408_row4_col4\" class=\"data row4 col4\" >0.9127</td>\n",
       "      <td id=\"T_c6408_row4_col5\" class=\"data row4 col5\" >0.4219</td>\n",
       "      <td id=\"T_c6408_row4_col6\" class=\"data row4 col6\" >0.4412</td>\n",
       "    </tr>\n",
       "    <tr>\n",
       "      <th id=\"T_c6408_level0_row5\" class=\"row_heading level0 row5\" >5</th>\n",
       "      <td id=\"T_c6408_row5_col0\" class=\"data row5 col0\" >0.9284</td>\n",
       "      <td id=\"T_c6408_row5_col1\" class=\"data row5 col1\" >0.7815</td>\n",
       "      <td id=\"T_c6408_row5_col2\" class=\"data row5 col2\" >0.4220</td>\n",
       "      <td id=\"T_c6408_row5_col3\" class=\"data row5 col3\" >0.9003</td>\n",
       "      <td id=\"T_c6408_row5_col4\" class=\"data row5 col4\" >0.9123</td>\n",
       "      <td id=\"T_c6408_row5_col5\" class=\"data row5 col5\" >0.4178</td>\n",
       "      <td id=\"T_c6408_row5_col6\" class=\"data row5 col6\" >0.4376</td>\n",
       "    </tr>\n",
       "    <tr>\n",
       "      <th id=\"T_c6408_level0_row6\" class=\"row_heading level0 row6\" >6</th>\n",
       "      <td id=\"T_c6408_row6_col0\" class=\"data row6 col0\" >0.9296</td>\n",
       "      <td id=\"T_c6408_row6_col1\" class=\"data row6 col1\" >0.7795</td>\n",
       "      <td id=\"T_c6408_row6_col2\" class=\"data row6 col2\" >0.4356</td>\n",
       "      <td id=\"T_c6408_row6_col3\" class=\"data row6 col3\" >0.9025</td>\n",
       "      <td id=\"T_c6408_row6_col4\" class=\"data row6 col4\" >0.9134</td>\n",
       "      <td id=\"T_c6408_row6_col5\" class=\"data row6 col5\" >0.4264</td>\n",
       "      <td id=\"T_c6408_row6_col6\" class=\"data row6 col6\" >0.4468</td>\n",
       "    </tr>\n",
       "    <tr>\n",
       "      <th id=\"T_c6408_level0_row7\" class=\"row_heading level0 row7\" >7</th>\n",
       "      <td id=\"T_c6408_row7_col0\" class=\"data row7 col0\" >0.9290</td>\n",
       "      <td id=\"T_c6408_row7_col1\" class=\"data row7 col1\" >0.7788</td>\n",
       "      <td id=\"T_c6408_row7_col2\" class=\"data row7 col2\" >0.4275</td>\n",
       "      <td id=\"T_c6408_row7_col3\" class=\"data row7 col3\" >0.9007</td>\n",
       "      <td id=\"T_c6408_row7_col4\" class=\"data row7 col4\" >0.9126</td>\n",
       "      <td id=\"T_c6408_row7_col5\" class=\"data row7 col5\" >0.4196</td>\n",
       "      <td id=\"T_c6408_row7_col6\" class=\"data row7 col6\" >0.4403</td>\n",
       "    </tr>\n",
       "    <tr>\n",
       "      <th id=\"T_c6408_level0_row8\" class=\"row_heading level0 row8\" >8</th>\n",
       "      <td id=\"T_c6408_row8_col0\" class=\"data row8 col0\" >0.9289</td>\n",
       "      <td id=\"T_c6408_row8_col1\" class=\"data row8 col1\" >0.7830</td>\n",
       "      <td id=\"T_c6408_row8_col2\" class=\"data row8 col2\" >0.4301</td>\n",
       "      <td id=\"T_c6408_row8_col3\" class=\"data row8 col3\" >0.9000</td>\n",
       "      <td id=\"T_c6408_row8_col4\" class=\"data row8 col4\" >0.9124</td>\n",
       "      <td id=\"T_c6408_row8_col5\" class=\"data row8 col5\" >0.4177</td>\n",
       "      <td id=\"T_c6408_row8_col6\" class=\"data row8 col6\" >0.4388</td>\n",
       "    </tr>\n",
       "    <tr>\n",
       "      <th id=\"T_c6408_level0_row9\" class=\"row_heading level0 row9\" >9</th>\n",
       "      <td id=\"T_c6408_row9_col0\" class=\"data row9 col0\" >0.9282</td>\n",
       "      <td id=\"T_c6408_row9_col1\" class=\"data row9 col1\" >0.7795</td>\n",
       "      <td id=\"T_c6408_row9_col2\" class=\"data row9 col2\" >0.4331</td>\n",
       "      <td id=\"T_c6408_row9_col3\" class=\"data row9 col3\" >0.9014</td>\n",
       "      <td id=\"T_c6408_row9_col4\" class=\"data row9 col4\" >0.9126</td>\n",
       "      <td id=\"T_c6408_row9_col5\" class=\"data row9 col5\" >0.4193</td>\n",
       "      <td id=\"T_c6408_row9_col6\" class=\"data row9 col6\" >0.4379</td>\n",
       "    </tr>\n",
       "    <tr>\n",
       "      <th id=\"T_c6408_level0_row10\" class=\"row_heading level0 row10\" >Mean</th>\n",
       "      <td id=\"T_c6408_row10_col0\" class=\"data row10 col0\" >0.9290</td>\n",
       "      <td id=\"T_c6408_row10_col1\" class=\"data row10 col1\" >0.7805</td>\n",
       "      <td id=\"T_c6408_row10_col2\" class=\"data row10 col2\" >0.4342</td>\n",
       "      <td id=\"T_c6408_row10_col3\" class=\"data row10 col3\" >0.9015</td>\n",
       "      <td id=\"T_c6408_row10_col4\" class=\"data row10 col4\" >0.9129</td>\n",
       "      <td id=\"T_c6408_row10_col5\" class=\"data row10 col5\" >0.4229</td>\n",
       "      <td id=\"T_c6408_row10_col6\" class=\"data row10 col6\" >0.4427</td>\n",
       "    </tr>\n",
       "    <tr>\n",
       "      <th id=\"T_c6408_level0_row11\" class=\"row_heading level0 row11\" >SD</th>\n",
       "      <td id=\"T_c6408_row11_col0\" class=\"data row11 col0\" >0.0006</td>\n",
       "      <td id=\"T_c6408_row11_col1\" class=\"data row11 col1\" >0.0027</td>\n",
       "      <td id=\"T_c6408_row11_col2\" class=\"data row11 col2\" >0.0061</td>\n",
       "      <td id=\"T_c6408_row11_col3\" class=\"data row11 col3\" >0.0010</td>\n",
       "      <td id=\"T_c6408_row11_col4\" class=\"data row11 col4\" >0.0006</td>\n",
       "      <td id=\"T_c6408_row11_col5\" class=\"data row11 col5\" >0.0045</td>\n",
       "      <td id=\"T_c6408_row11_col6\" class=\"data row11 col6\" >0.0047</td>\n",
       "    </tr>\n",
       "  </tbody>\n",
       "</table>\n"
      ],
      "text/plain": [
       "<pandas.io.formats.style.Styler at 0x7fca6e65e2b0>"
      ]
     },
     "metadata": {},
     "output_type": "display_data"
    }
   ],
   "source": [
    "best_model = create_model(model_matrix)\n",
    "final_model = finalize_model(best_model)"
   ]
  },
  {
   "cell_type": "code",
   "execution_count": 36,
   "id": "4487009f",
   "metadata": {},
   "outputs": [
    {
     "data": {
      "text/plain": [
       "(390563, 13)"
      ]
     },
     "execution_count": 36,
     "metadata": {},
     "output_type": "execute_result"
    }
   ],
   "source": [
    "df_inference = df.loc[df[\"seasonyear\"] >= 2022]\n",
    "df_inference = df_inference.fillna(0)\n",
    "df_inference.shape"
   ]
  },
  {
   "cell_type": "code",
   "execution_count": 37,
   "id": "3aa9448f",
   "metadata": {},
   "outputs": [
    {
     "data": {
      "text/html": [
       "<div>\n",
       "<style scoped>\n",
       "    .dataframe tbody tr th:only-of-type {\n",
       "        vertical-align: middle;\n",
       "    }\n",
       "\n",
       "    .dataframe tbody tr th {\n",
       "        vertical-align: top;\n",
       "    }\n",
       "\n",
       "    .dataframe thead th {\n",
       "        text-align: right;\n",
       "    }\n",
       "</style>\n",
       "<table border=\"1\" class=\"dataframe\">\n",
       "  <thead>\n",
       "    <tr style=\"text-align: right;\">\n",
       "      <th></th>\n",
       "      <th>lkupclientid</th>\n",
       "      <th>clientcode</th>\n",
       "      <th>dimcustomermasterid</th>\n",
       "      <th>distance</th>\n",
       "      <th>seasonyear</th>\n",
       "      <th>events_prior</th>\n",
       "      <th>attended_prior</th>\n",
       "      <th>events_last</th>\n",
       "      <th>attended_last</th>\n",
       "      <th>tenure</th>\n",
       "      <th>atp_last</th>\n",
       "      <th>product_current</th>\n",
       "      <th>product_last</th>\n",
       "      <th>Label</th>\n",
       "      <th>Score</th>\n",
       "    </tr>\n",
       "  </thead>\n",
       "  <tbody>\n",
       "    <tr>\n",
       "      <th>3</th>\n",
       "      <td>7</td>\n",
       "      <td>CANUCKS</td>\n",
       "      <td>3</td>\n",
       "      <td>748.34</td>\n",
       "      <td>2022</td>\n",
       "      <td>1</td>\n",
       "      <td>1</td>\n",
       "      <td>0</td>\n",
       "      <td>0</td>\n",
       "      <td>4</td>\n",
       "      <td>0.00</td>\n",
       "      <td>None</td>\n",
       "      <td>None</td>\n",
       "      <td>None</td>\n",
       "      <td>0.9695</td>\n",
       "    </tr>\n",
       "    <tr>\n",
       "      <th>4</th>\n",
       "      <td>7</td>\n",
       "      <td>CANUCKS</td>\n",
       "      <td>4</td>\n",
       "      <td>2.96</td>\n",
       "      <td>2022</td>\n",
       "      <td>1</td>\n",
       "      <td>1</td>\n",
       "      <td>1</td>\n",
       "      <td>1</td>\n",
       "      <td>0</td>\n",
       "      <td>115.34</td>\n",
       "      <td>None</td>\n",
       "      <td>None</td>\n",
       "      <td>None</td>\n",
       "      <td>1.0000</td>\n",
       "    </tr>\n",
       "    <tr>\n",
       "      <th>6</th>\n",
       "      <td>7</td>\n",
       "      <td>CANUCKS</td>\n",
       "      <td>6</td>\n",
       "      <td>251.56</td>\n",
       "      <td>2022</td>\n",
       "      <td>1</td>\n",
       "      <td>0</td>\n",
       "      <td>0</td>\n",
       "      <td>0</td>\n",
       "      <td>2</td>\n",
       "      <td>0.00</td>\n",
       "      <td>None</td>\n",
       "      <td>None</td>\n",
       "      <td>None</td>\n",
       "      <td>0.9901</td>\n",
       "    </tr>\n",
       "    <tr>\n",
       "      <th>11</th>\n",
       "      <td>7</td>\n",
       "      <td>CANUCKS</td>\n",
       "      <td>7</td>\n",
       "      <td>5.63</td>\n",
       "      <td>2022</td>\n",
       "      <td>1</td>\n",
       "      <td>1</td>\n",
       "      <td>0</td>\n",
       "      <td>0</td>\n",
       "      <td>5</td>\n",
       "      <td>0.00</td>\n",
       "      <td>None</td>\n",
       "      <td>None</td>\n",
       "      <td>None</td>\n",
       "      <td>0.9530</td>\n",
       "    </tr>\n",
       "    <tr>\n",
       "      <th>13</th>\n",
       "      <td>7</td>\n",
       "      <td>CANUCKS</td>\n",
       "      <td>8</td>\n",
       "      <td>251.56</td>\n",
       "      <td>2022</td>\n",
       "      <td>3</td>\n",
       "      <td>3</td>\n",
       "      <td>0</td>\n",
       "      <td>0</td>\n",
       "      <td>2</td>\n",
       "      <td>0.00</td>\n",
       "      <td>None</td>\n",
       "      <td>None</td>\n",
       "      <td>None</td>\n",
       "      <td>0.9677</td>\n",
       "    </tr>\n",
       "  </tbody>\n",
       "</table>\n",
       "</div>"
      ],
      "text/plain": [
       "    lkupclientid clientcode  dimcustomermasterid  distance  seasonyear  \\\n",
       "3              7    CANUCKS                    3    748.34        2022   \n",
       "4              7    CANUCKS                    4      2.96        2022   \n",
       "6              7    CANUCKS                    6    251.56        2022   \n",
       "11             7    CANUCKS                    7      5.63        2022   \n",
       "13             7    CANUCKS                    8    251.56        2022   \n",
       "\n",
       "    events_prior  attended_prior  events_last  attended_last  tenure  \\\n",
       "3              1               1            0              0       4   \n",
       "4              1               1            1              1       0   \n",
       "6              1               0            0              0       2   \n",
       "11             1               1            0              0       5   \n",
       "13             3               3            0              0       2   \n",
       "\n",
       "    atp_last product_current product_last Label   Score  \n",
       "3       0.00            None         None  None  0.9695  \n",
       "4     115.34            None         None  None  1.0000  \n",
       "6       0.00            None         None  None  0.9901  \n",
       "11      0.00            None         None  None  0.9530  \n",
       "13      0.00            None         None  None  0.9677  "
      ]
     },
     "execution_count": 37,
     "metadata": {},
     "output_type": "execute_result"
    }
   ],
   "source": [
    "new_predictions = predict_model(final_model, data=df_inference)\n",
    "new_predictions.head()"
   ]
  },
  {
   "cell_type": "code",
   "execution_count": 38,
   "id": "411e4d80",
   "metadata": {},
   "outputs": [
    {
     "data": {
      "text/plain": [
       "None           383192\n",
       "Individual       2809\n",
       "Full Season      2648\n",
       "Quarter          1066\n",
       "Half Season       432\n",
       "Groups            395\n",
       "Mini Pack          21\n",
       "Name: Label, dtype: int64"
      ]
     },
     "execution_count": 38,
     "metadata": {},
     "output_type": "execute_result"
    }
   ],
   "source": [
    "new_predictions[\"Label\"].value_counts()"
   ]
  },
  {
   "cell_type": "code",
   "execution_count": 39,
   "id": "bfeb9655",
   "metadata": {},
   "outputs": [
    {
     "data": {
      "image/png": "[encoded data removed]",
      "text/plain": [
       "<Figure size 576x396 with 1 Axes>"
      ]
     },
     "metadata": {},
     "output_type": "display_data"
    }
   ],
   "source": [
    "plt.hist(new_predictions[\"Score\"], bins=20, edgecolor='black')\n",
    "plt.title(\"Product Propensity Scores\")\n",
    "plt.ylabel(\"Num Fans\")\n",
    "plt.show()"
   ]
  },
  {
   "cell_type": "code",
   "execution_count": 40,
   "id": "7e22aece-548d-49e8-a88c-c276cecd27f6",
   "metadata": {},
   "outputs": [
    {
     "data": {
      "image/png": "[encoded data removed]",
      "text/plain": [
       "<Figure size 800x500 with 1 Axes>"
      ]
     },
     "metadata": {},
     "output_type": "display_data"
    }
   ],
   "source": [
    "plot_model(final_model, plot='feature')"
   ]
  },
  {
   "cell_type": "code",
   "execution_count": 41,
   "id": "1c4f2ff5-fdf2-464a-8e6b-94e5b4c688c5",
   "metadata": {},
   "outputs": [
    {
     "data": {
      "image/png": "[encoded data removed]",
      "text/plain": [
       "<Figure size 576x396 with 1 Axes>"
      ]
     },
     "metadata": {},
     "output_type": "display_data"
    }
   ],
   "source": [
    "plot_model(final_model, plot='confusion_matrix')"
   ]
  },
  {
   "cell_type": "code",
   "execution_count": 42,
   "id": "88ef2e16-8ae3-4618-9ecd-2a94754763fc",
   "metadata": {},
   "outputs": [
    {
     "data": {
      "image/png": "[encoded data removed]",
      "text/plain": [
       "<Figure size 576x396 with 1 Axes>"
      ]
     },
     "metadata": {},
     "output_type": "display_data"
    }
   ],
   "source": [
    "plot_model(final_model, plot='auc')"
   ]
  },
  {
   "cell_type": "code",
   "execution_count": 43,
   "id": "9e75f38c-a239-42f2-a73a-5817140add51",
   "metadata": {},
   "outputs": [
    {
     "data": {
      "application/vnd.jupyter.widget-view+json": {
       "model_id": "e83ae4ebce6c4c8584f469f91905825d",
       "version_major": 2,
       "version_minor": 0
      },
      "text/plain": [
       "Summarize dataset:   0%|          | 0/29 [00:00<?, ?it/s]"
      ]
     },
     "metadata": {},
     "output_type": "display_data"
    },
    {
     "data": {
      "application/vnd.jupyter.widget-view+json": {
       "model_id": "bcd06aca43424964a37c559f9d6bcd37",
       "version_major": 2,
       "version_minor": 0
      },
      "text/plain": [
       "Generate report structure:   0%|          | 0/1 [00:00<?, ?it/s]"
      ]
     },
     "metadata": {},
     "output_type": "display_data"
    },
    {
     "data": {
      "application/vnd.jupyter.widget-view+json": {
       "model_id": "b242ce901f8b449f958e4117b619a725",
       "version_major": 2,
       "version_minor": 0
      },
      "text/plain": [
       "Render HTML:   0%|          | 0/1 [00:00<?, ?it/s]"
      ]
     },
     "metadata": {},
     "output_type": "display_data"
    },
    {
     "data": {
      "application/vnd.jupyter.widget-view+json": {
       "model_id": "12fb11a1537d4483b0f5083f2ef0f5c2",
       "version_major": 2,
       "version_minor": 0
      },
      "text/plain": [
       "Export report to file:   0%|          | 0/1 [00:00<?, ?it/s]"
      ]
     },
     "metadata": {},
     "output_type": "display_data"
    }
   ],
   "source": [
    "report = ProfileReport(new_predictions)\n",
    "report.to_file(\"canucks_data_PP_predictions.html\")"
   ]
  },
  {
   "cell_type": "code",
   "execution_count": 44,
   "id": "10cf9d26-344a-4633-bf1d-d2e498684af9",
   "metadata": {},
   "outputs": [
    {
     "data": {
      "application/vnd.jupyter.widget-view+json": {
       "model_id": "5b606703bfe24111995ae0a346c761ec",
       "version_major": 2,
       "version_minor": 0
      },
      "text/plain": [
       "Summarize dataset:   0%|          | 0/26 [00:00<?, ?it/s]"
      ]
     },
     "metadata": {},
     "output_type": "display_data"
    },
    {
     "data": {
      "application/vnd.jupyter.widget-view+json": {
       "model_id": "f8ea4d038f194c3da9333e532be1244b",
       "version_major": 2,
       "version_minor": 0
      },
      "text/plain": [
       "Generate report structure:   0%|          | 0/1 [00:00<?, ?it/s]"
      ]
     },
     "metadata": {},
     "output_type": "display_data"
    },
    {
     "data": {
      "application/vnd.jupyter.widget-view+json": {
       "model_id": "da264f9981e444668924aa327f20e3a9",
       "version_major": 2,
       "version_minor": 0
      },
      "text/plain": [
       "Render HTML:   0%|          | 0/1 [00:00<?, ?it/s]"
      ]
     },
     "metadata": {},
     "output_type": "display_data"
    },
    {
     "data": {
      "application/vnd.jupyter.widget-view+json": {
       "model_id": "955de97eb14c485bb56c398d5b7509a6",
       "version_major": 2,
       "version_minor": 0
      },
      "text/plain": [
       "Export report to file:   0%|          | 0/1 [00:00<?, ?it/s]"
      ]
     },
     "metadata": {},
     "output_type": "display_data"
    }
   ],
   "source": [
    "report2 = ProfileReport(df)\n",
    "report2.to_file(\"canucks_data_PP_df.html\")"
   ]
  },
  {
   "cell_type": "markdown",
   "id": "73884098-e875-4179-b945-d8563a4519b3",
   "metadata": {},
   "source": [
    "## Observations for using Canucks data\n",
    "\n",
    "1. How accurate was this model? \n",
    "* The accuracy is 92% (1% lower than using NHL data)\n",
    "\n",
    "2. How does the prediction looks for each package?\n",
    "* None:          383191\n",
    "* Individual:      2781\n",
    "* Full Season:     2745\n",
    "* Quarter:          997\n",
    "* Half Season:      430\n",
    "* Groups:           400\n",
    "* Mini Pack:         19\n",
    "\n",
    "3. What were the most important features in making a correct prediction?\n",
    "* atp_last, distance, events_last are top 3 important features.\n"
   ]
  },
  {
   "cell_type": "markdown",
   "id": "71538730-5d53-468c-86c8-d4d7fc671786",
   "metadata": {},
   "source": [
    "### Done"
   ]
  }
 ],
 "metadata": {
  "kernelspec": {
   "display_name": "Python 3 (ipykernel)",
   "language": "python",
   "name": "python3"
  },
  "language_info": {
   "codemirror_mode": {
    "name": "ipython",
    "version": 3
   },
   "file_extension": ".py",
   "mimetype": "text/x-python",
   "name": "python",
   "nbconvert_exporter": "python",
   "pygments_lexer": "ipython3",
   "version": "3.9.4"
  },
  "vscode": {
   "interpreter": {
    "hash": "89f48dadab51a6b5b48ffc1a9e043c21cefe67453637c3444f3b86917b8aad16"
   }
  }
 },
 "nbformat": 4,
 "nbformat_minor": 5
}
