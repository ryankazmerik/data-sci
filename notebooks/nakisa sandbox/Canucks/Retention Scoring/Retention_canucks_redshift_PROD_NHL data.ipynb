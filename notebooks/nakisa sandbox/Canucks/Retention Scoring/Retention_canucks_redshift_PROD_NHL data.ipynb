{
 "cells": [
  {
   "cell_type": "markdown",
   "id": "9575d83e",
   "metadata": {},
   "source": [
    "# Retention Scoring - PROD - Redshift - ALL NHL Data\n",
    "* StellarAlgo Data Science\n",
    "* Ryan Kazmerik & Nakisa Rad\n",
    "* July 14, 2022"
   ]
  },
  {
   "cell_type": "markdown",
   "id": "62d7c5a2",
   "metadata": {},
   "source": [
    "## Hypothesis\n",
    "This notebook will test the retention model features and the goal is to check how the accuracy and scores look when we train the model only with Canucks data compared to all NHL data."
   ]
  },
  {
   "cell_type": "markdown",
   "id": "c46403a5",
   "metadata": {},
   "source": [
    "## Experiment\n",
    "This section details our experiment including querying data, data transformations, feature selection and modelling."
   ]
  },
  {
   "cell_type": "code",
   "execution_count": 74,
   "id": "df2be620",
   "metadata": {},
   "outputs": [],
   "source": [
    "import boto3\n",
    "import pandas as pd\n",
    "import matplotlib.pyplot as plt\n",
    "from pandas_profiling import ProfileReport\n",
    "import psycopg2\n",
    "from shared_utilities import helpers\n",
    "from pycaret.classification import *"
   ]
  },
  {
   "cell_type": "code",
   "execution_count": 75,
   "id": "93720795",
   "metadata": {},
   "outputs": [
    {
     "name": "stdout",
     "output_type": "stream",
     "text": [
      "Attempting to automatically open the SSO authorization page in your default browser.\n",
      "If the browser does not open or you wish to use a different device to authorize this request, open the following URL:\n",
      "\n",
      "https://device.sso.us-east-1.amazonaws.com/\n",
      "\n",
      "Then enter the code:\n",
      "\n",
      "DCGL-WZTC\n",
      "Successully logged into Start URL: https://stellaralgo.awsapps.com/start#/\n"
     ]
    }
   ],
   "source": [
    "! aws sso login --profile Stellaralgo-DataScienceAdmin"
   ]
  },
  {
   "cell_type": "code",
   "execution_count": 76,
   "id": "35c1c1ec",
   "metadata": {},
   "outputs": [],
   "source": [
    "teams = [{'lkupclientid': 7, 'clientcode': 'canucks', 'stlrDBName': 'stlrcanucks'},\n",
    "         {'lkupclientid': 33, 'clientcode': 'vgk', 'stlrDBName': 'stlrvgk'},\n",
    "         {'lkupclientid': 36, 'clientcode': 'flames', 'stlrDBName': 'stlrflames'},\n",
    "         {'lkupclientid': 55, 'clientcode': 'coyotes', 'stlrDBName': 'stlrcoyotes'},\n",
    "         {'lkupclientid': 93, 'clientcode': 'nhlpanthers', 'stlrDBName': 'stlrnhlpanthers'}]\n",
    "\n",
    "all_data = []\n",
    "for team in teams:\n",
    "    conn = helpers.get_redshift_connection('prod-app', team['stlrDBName'])\n",
    "    \n",
    "    # call the stored proc to get data for the product propensity model\n",
    "    cur = conn.cursor()\n",
    "    cur.execute(f\"CALL {team['stlrDBName']}.ds.getretentionmodeldata({team['lkupclientid']},2010, 2022, 'temp_cursor')\")\n",
    "\n",
    "    # create a named cursor based on the cursor name passed in above\n",
    "    named_cursor = conn.cursor('temp_cursor')\n",
    "    data = named_cursor.fetchall()\n",
    "\n",
    "    # load the data and columns into a data frame\n",
    "    cols = [row[0] for row in named_cursor.description]\n",
    "    df = pd.DataFrame(data=data, columns=cols)\n",
    "    all_data.append(df)\n",
    "    \n",
    "    conn.commit()\n",
    "\n",
    "    "
   ]
  },
  {
   "cell_type": "code",
   "execution_count": 77,
   "id": "f082c929-7d40-4ab2-ba59-28529ca21cf1",
   "metadata": {},
   "outputs": [],
   "source": [
    "dfObj = pd.DataFrame(columns=[\"lkupclientid\",\n",
    "    \"dimcustomermasterid\",\n",
    "    \"year\", \n",
    "    \"productgrouping\",\n",
    "    \"recentdate\",\n",
    "    \"attendancepercent\",\n",
    "    \"recency\",\n",
    "    \"source_tenure\",\n",
    "    \"totalspent\",\n",
    "    \"isnextyear_buyer\"])"
   ]
  },
  {
   "cell_type": "code",
   "execution_count": 78,
   "id": "36e0949a-e0c9-45df-a2b4-4eb98e32b7dd",
   "metadata": {},
   "outputs": [
    {
     "data": {
      "text/html": [
       "<div>\n",
       "<style scoped>\n",
       "    .dataframe tbody tr th:only-of-type {\n",
       "        vertical-align: middle;\n",
       "    }\n",
       "\n",
       "    .dataframe tbody tr th {\n",
       "        vertical-align: top;\n",
       "    }\n",
       "\n",
       "    .dataframe thead th {\n",
       "        text-align: right;\n",
       "    }\n",
       "</style>\n",
       "<table border=\"1\" class=\"dataframe\">\n",
       "  <thead>\n",
       "    <tr style=\"text-align: right;\">\n",
       "      <th></th>\n",
       "      <th>lkupclientid</th>\n",
       "      <th>dimcustomermasterid</th>\n",
       "      <th>year</th>\n",
       "      <th>productgrouping</th>\n",
       "      <th>recentdate</th>\n",
       "      <th>attendancepercent</th>\n",
       "      <th>recency</th>\n",
       "      <th>source_tenure</th>\n",
       "      <th>totalspent</th>\n",
       "      <th>isnextyear_buyer</th>\n",
       "      <th>...</th>\n",
       "      <th>missed_games_1</th>\n",
       "      <th>missed_games_2</th>\n",
       "      <th>missed_games_over_2</th>\n",
       "      <th>forward_records</th>\n",
       "      <th>opentosendratio</th>\n",
       "      <th>clicktosendratio</th>\n",
       "      <th>clicktoopenratio</th>\n",
       "      <th>gender</th>\n",
       "      <th>phonecall</th>\n",
       "      <th>inperson_contact</th>\n",
       "    </tr>\n",
       "  </thead>\n",
       "  <tbody>\n",
       "    <tr>\n",
       "      <th>0</th>\n",
       "      <td>7</td>\n",
       "      <td>7556</td>\n",
       "      <td>2017</td>\n",
       "      <td>Quarter</td>\n",
       "      <td>2018-03-31 00:00:00</td>\n",
       "      <td>1.0</td>\n",
       "      <td>0</td>\n",
       "      <td>4380</td>\n",
       "      <td>2134.76</td>\n",
       "      <td>1</td>\n",
       "      <td>...</td>\n",
       "      <td>0</td>\n",
       "      <td>0</td>\n",
       "      <td>0</td>\n",
       "      <td>0.0</td>\n",
       "      <td>3.79</td>\n",
       "      <td>0.42</td>\n",
       "      <td>0.11</td>\n",
       "      <td>Male</td>\n",
       "      <td>0.0</td>\n",
       "      <td>0.0</td>\n",
       "    </tr>\n",
       "    <tr>\n",
       "      <th>1</th>\n",
       "      <td>7</td>\n",
       "      <td>17087</td>\n",
       "      <td>2019</td>\n",
       "      <td>Quarter</td>\n",
       "      <td>2020-03-04 00:00:00</td>\n",
       "      <td>0.8</td>\n",
       "      <td>0</td>\n",
       "      <td>5475</td>\n",
       "      <td>2670.6</td>\n",
       "      <td>0</td>\n",
       "      <td>...</td>\n",
       "      <td>2</td>\n",
       "      <td>0</td>\n",
       "      <td>0</td>\n",
       "      <td>0.0</td>\n",
       "      <td>1.68</td>\n",
       "      <td>0.52</td>\n",
       "      <td>0.31</td>\n",
       "      <td>Unknown</td>\n",
       "      <td>0.0</td>\n",
       "      <td>0.0</td>\n",
       "    </tr>\n",
       "    <tr>\n",
       "      <th>2</th>\n",
       "      <td>7</td>\n",
       "      <td>19065</td>\n",
       "      <td>2021</td>\n",
       "      <td>Full Season</td>\n",
       "      <td>2022-02-19 00:00:00</td>\n",
       "      <td>0.06</td>\n",
       "      <td>15</td>\n",
       "      <td>12410</td>\n",
       "      <td>10815.2</td>\n",
       "      <td>1</td>\n",
       "      <td>...</td>\n",
       "      <td>0</td>\n",
       "      <td>0</td>\n",
       "      <td>3</td>\n",
       "      <td>24.0</td>\n",
       "      <td>4.23</td>\n",
       "      <td>0.13</td>\n",
       "      <td>0.03</td>\n",
       "      <td>Unknown</td>\n",
       "      <td>0.0</td>\n",
       "      <td>0.0</td>\n",
       "    </tr>\n",
       "    <tr>\n",
       "      <th>3</th>\n",
       "      <td>7</td>\n",
       "      <td>4891</td>\n",
       "      <td>2019</td>\n",
       "      <td>Quarter</td>\n",
       "      <td>2020-03-04 00:00:00</td>\n",
       "      <td>0.9</td>\n",
       "      <td>0</td>\n",
       "      <td>1095</td>\n",
       "      <td>2135.7</td>\n",
       "      <td>0</td>\n",
       "      <td>...</td>\n",
       "      <td>1</td>\n",
       "      <td>0</td>\n",
       "      <td>0</td>\n",
       "      <td>0.0</td>\n",
       "      <td>2.72</td>\n",
       "      <td>0.38</td>\n",
       "      <td>0.14</td>\n",
       "      <td>Unknown</td>\n",
       "      <td>0.0</td>\n",
       "      <td>0.0</td>\n",
       "    </tr>\n",
       "    <tr>\n",
       "      <th>4</th>\n",
       "      <td>7</td>\n",
       "      <td>7961</td>\n",
       "      <td>2017</td>\n",
       "      <td>Full Season</td>\n",
       "      <td>2018-04-05 00:00:00</td>\n",
       "      <td>0.63</td>\n",
       "      <td>0</td>\n",
       "      <td>12410</td>\n",
       "      <td>13135.5</td>\n",
       "      <td>1</td>\n",
       "      <td>...</td>\n",
       "      <td>5</td>\n",
       "      <td>1</td>\n",
       "      <td>3</td>\n",
       "      <td>0.0</td>\n",
       "      <td>0.81</td>\n",
       "      <td>0.01</td>\n",
       "      <td>0.01</td>\n",
       "      <td>Unknown</td>\n",
       "      <td>0.0</td>\n",
       "      <td>0.0</td>\n",
       "    </tr>\n",
       "  </tbody>\n",
       "</table>\n",
       "<p>5 rows × 23 columns</p>\n",
       "</div>"
      ],
      "text/plain": [
       "  lkupclientid dimcustomermasterid  year productgrouping           recentdate  \\\n",
       "0            7                7556  2017         Quarter  2018-03-31 00:00:00   \n",
       "1            7               17087  2019         Quarter  2020-03-04 00:00:00   \n",
       "2            7               19065  2021     Full Season  2022-02-19 00:00:00   \n",
       "3            7                4891  2019         Quarter  2020-03-04 00:00:00   \n",
       "4            7                7961  2017     Full Season  2018-04-05 00:00:00   \n",
       "\n",
       "  attendancepercent recency source_tenure totalspent isnextyear_buyer  ...  \\\n",
       "0               1.0       0          4380    2134.76                1  ...   \n",
       "1               0.8       0          5475     2670.6                0  ...   \n",
       "2              0.06      15         12410    10815.2                1  ...   \n",
       "3               0.9       0          1095     2135.7                0  ...   \n",
       "4              0.63       0         12410    13135.5                1  ...   \n",
       "\n",
       "   missed_games_1  missed_games_2  missed_games_over_2 forward_records  \\\n",
       "0               0               0                    0             0.0   \n",
       "1               2               0                    0             0.0   \n",
       "2               0               0                    3            24.0   \n",
       "3               1               0                    0             0.0   \n",
       "4               5               1                    3             0.0   \n",
       "\n",
       "  opentosendratio clicktosendratio  clicktoopenratio   gender phonecall  \\\n",
       "0            3.79             0.42              0.11     Male       0.0   \n",
       "1            1.68             0.52              0.31  Unknown       0.0   \n",
       "2            4.23             0.13              0.03  Unknown       0.0   \n",
       "3            2.72             0.38              0.14  Unknown       0.0   \n",
       "4            0.81             0.01              0.01  Unknown       0.0   \n",
       "\n",
       "  inperson_contact  \n",
       "0              0.0  \n",
       "1              0.0  \n",
       "2              0.0  \n",
       "3              0.0  \n",
       "4              0.0  \n",
       "\n",
       "[5 rows x 23 columns]"
      ]
     },
     "execution_count": 78,
     "metadata": {},
     "output_type": "execute_result"
    }
   ],
   "source": [
    "for data in all_data:\n",
    "    dfObj= dfObj.append(data)\n",
    "dfObj.head()"
   ]
  },
  {
   "cell_type": "code",
   "execution_count": 79,
   "id": "e0ebbe27-85a7-4807-b6cb-e54c9c13db8d",
   "metadata": {},
   "outputs": [
    {
     "data": {
      "text/plain": [
       "array([7, 33, 36, 55, 93], dtype=object)"
      ]
     },
     "execution_count": 79,
     "metadata": {},
     "output_type": "execute_result"
    }
   ],
   "source": [
    "dfObj['lkupclientid'].unique()"
   ]
  },
  {
   "cell_type": "code",
   "execution_count": 80,
   "id": "1c8bad91-cdc3-40a7-8915-93f3048bfa53",
   "metadata": {},
   "outputs": [
    {
     "name": "stdout",
     "output_type": "stream",
     "text": [
      "Data for Modeling: (89202, 10)\n",
      "Unseen Data For Predictions: (1774, 10)\n",
      "\n"
     ]
    }
   ],
   "source": [
    "# choose the features for the stellar base retention model\n",
    "features = [\n",
    "    \"lkupclientid\",\n",
    "    \"dimcustomermasterid\",\n",
    "    \"year\", \n",
    "    \"productgrouping\",\n",
    "    \"recentdate\",\n",
    "    \"attendancepercent\",\n",
    "    \"recency\",\n",
    "    \"source_tenure\",\n",
    "    \"totalspent\",\n",
    "    \"isnextyear_buyer\"\n",
    "]\n",
    "\n",
    "# copy your main dataframe\n",
    "df_dataset = dfObj\n",
    "\n",
    "# choose the features & train year & test year\n",
    "df_dataset = df_dataset[features]\n",
    "df_dataset[\"year\"] = pd.to_numeric(df_dataset[\"year\"])\n",
    "df_dataset = df_dataset.loc[df_dataset[\"year\"] <= 2020]\n",
    "\n",
    "df_train = df_dataset.sample(frac=0.85, random_state=786)\n",
    "df_eval = df_dataset.drop(df_train.index)\n",
    "\n",
    "df_train.reset_index(drop=True, inplace=True)\n",
    "df_eval.reset_index(drop=True, inplace=True)\n",
    "\n",
    "# print out the number of records for training and eval\n",
    "print('Data for Modeling: ' + str(df_train.shape))\n",
    "print('Unseen Data For Predictions: ' + str(df_eval.shape), end=\"\\n\\n\")"
   ]
  },
  {
   "cell_type": "code",
   "execution_count": 81,
   "id": "3eabb279-56dd-4dbf-b7da-77bd2aa7cafa",
   "metadata": {},
   "outputs": [],
   "source": [
    "setup(\n",
    "    data= df_train, \n",
    "    target=\"isnextyear_buyer\", \n",
    "    train_size = 0.85,\n",
    "    data_split_shuffle=True,\n",
    "    ignore_features=[\n",
    "        \"dimcustomermasterid\",\n",
    "        \"lkupclientid\",\n",
    "        \"productgrouping\",\n",
    "        \"year\"\n",
    "    ],\n",
    "    silent=True,\n",
    "    verbose=False,\n",
    "    numeric_features=[\n",
    "        \"attendancepercent\",\n",
    "        \"recency\",\n",
    "        \"source_tenure\",\n",
    "        \"totalspent\"\n",
    "    ]\n",
    ");"
   ]
  },
  {
   "cell_type": "code",
   "execution_count": 82,
   "id": "05742a70-860c-477f-bea9-516a0a87c508",
   "metadata": {},
   "outputs": [
    {
     "data": {
      "text/html": [
       "<style type=\"text/css\">\n",
       "#T_d9ae4 th {\n",
       "  text-align: left;\n",
       "}\n",
       "#T_d9ae4_row0_col0 {\n",
       "  text-align: left;\n",
       "}\n",
       "#T_d9ae4_row0_col1, #T_d9ae4_row0_col2, #T_d9ae4_row0_col3, #T_d9ae4_row0_col4, #T_d9ae4_row0_col5, #T_d9ae4_row0_col6, #T_d9ae4_row0_col7 {\n",
       "  text-align: left;\n",
       "  background-color: yellow;\n",
       "}\n",
       "#T_d9ae4_row0_col8 {\n",
       "  text-align: left;\n",
       "  background-color: yellow;\n",
       "  background-color: lightgrey;\n",
       "}\n",
       "</style>\n",
       "<table id=\"T_d9ae4\">\n",
       "  <thead>\n",
       "    <tr>\n",
       "      <th class=\"blank level0\" >&nbsp;</th>\n",
       "      <th id=\"T_d9ae4_level0_col0\" class=\"col_heading level0 col0\" >Model</th>\n",
       "      <th id=\"T_d9ae4_level0_col1\" class=\"col_heading level0 col1\" >Accuracy</th>\n",
       "      <th id=\"T_d9ae4_level0_col2\" class=\"col_heading level0 col2\" >AUC</th>\n",
       "      <th id=\"T_d9ae4_level0_col3\" class=\"col_heading level0 col3\" >Recall</th>\n",
       "      <th id=\"T_d9ae4_level0_col4\" class=\"col_heading level0 col4\" >Prec.</th>\n",
       "      <th id=\"T_d9ae4_level0_col5\" class=\"col_heading level0 col5\" >F1</th>\n",
       "      <th id=\"T_d9ae4_level0_col6\" class=\"col_heading level0 col6\" >Kappa</th>\n",
       "      <th id=\"T_d9ae4_level0_col7\" class=\"col_heading level0 col7\" >MCC</th>\n",
       "      <th id=\"T_d9ae4_level0_col8\" class=\"col_heading level0 col8\" >TT (Sec)</th>\n",
       "    </tr>\n",
       "  </thead>\n",
       "  <tbody>\n",
       "    <tr>\n",
       "      <th id=\"T_d9ae4_level0_row0\" class=\"row_heading level0 row0\" >xgboost</th>\n",
       "      <td id=\"T_d9ae4_row0_col0\" class=\"data row0 col0\" >Extreme Gradient Boosting</td>\n",
       "      <td id=\"T_d9ae4_row0_col1\" class=\"data row0 col1\" >0.8275</td>\n",
       "      <td id=\"T_d9ae4_row0_col2\" class=\"data row0 col2\" >0.8954</td>\n",
       "      <td id=\"T_d9ae4_row0_col3\" class=\"data row0 col3\" >0.8890</td>\n",
       "      <td id=\"T_d9ae4_row0_col4\" class=\"data row0 col4\" >0.8217</td>\n",
       "      <td id=\"T_d9ae4_row0_col5\" class=\"data row0 col5\" >0.8540</td>\n",
       "      <td id=\"T_d9ae4_row0_col6\" class=\"data row0 col6\" >0.6440</td>\n",
       "      <td id=\"T_d9ae4_row0_col7\" class=\"data row0 col7\" >0.6471</td>\n",
       "      <td id=\"T_d9ae4_row0_col8\" class=\"data row0 col8\" >2.7480</td>\n",
       "    </tr>\n",
       "  </tbody>\n",
       "</table>\n"
      ],
      "text/plain": [
       "<pandas.io.formats.style.Styler at 0x7fdb3c3f9190>"
      ]
     },
     "metadata": {},
     "output_type": "display_data"
    }
   ],
   "source": [
    "model_matrix = compare_models(\n",
    "    fold=10,\n",
    "    include=[\"xgboost\"]\n",
    ")"
   ]
  },
  {
   "cell_type": "code",
   "execution_count": 83,
   "id": "9b4716b3-5a6b-4942-a32c-7ef3e9083509",
   "metadata": {},
   "outputs": [
    {
     "data": {
      "text/html": [
       "<style type=\"text/css\">\n",
       "#T_bab48_row10_col0, #T_bab48_row10_col1, #T_bab48_row10_col2, #T_bab48_row10_col3, #T_bab48_row10_col4, #T_bab48_row10_col5, #T_bab48_row10_col6 {\n",
       "  background: yellow;\n",
       "}\n",
       "</style>\n",
       "<table id=\"T_bab48\">\n",
       "  <thead>\n",
       "    <tr>\n",
       "      <th class=\"blank level0\" >&nbsp;</th>\n",
       "      <th id=\"T_bab48_level0_col0\" class=\"col_heading level0 col0\" >Accuracy</th>\n",
       "      <th id=\"T_bab48_level0_col1\" class=\"col_heading level0 col1\" >AUC</th>\n",
       "      <th id=\"T_bab48_level0_col2\" class=\"col_heading level0 col2\" >Recall</th>\n",
       "      <th id=\"T_bab48_level0_col3\" class=\"col_heading level0 col3\" >Prec.</th>\n",
       "      <th id=\"T_bab48_level0_col4\" class=\"col_heading level0 col4\" >F1</th>\n",
       "      <th id=\"T_bab48_level0_col5\" class=\"col_heading level0 col5\" >Kappa</th>\n",
       "      <th id=\"T_bab48_level0_col6\" class=\"col_heading level0 col6\" >MCC</th>\n",
       "    </tr>\n",
       "  </thead>\n",
       "  <tbody>\n",
       "    <tr>\n",
       "      <th id=\"T_bab48_level0_row0\" class=\"row_heading level0 row0\" >0</th>\n",
       "      <td id=\"T_bab48_row0_col0\" class=\"data row0 col0\" >0.8341</td>\n",
       "      <td id=\"T_bab48_row0_col1\" class=\"data row0 col1\" >0.9010</td>\n",
       "      <td id=\"T_bab48_row0_col2\" class=\"data row0 col2\" >0.8929</td>\n",
       "      <td id=\"T_bab48_row0_col3\" class=\"data row0 col3\" >0.8282</td>\n",
       "      <td id=\"T_bab48_row0_col4\" class=\"data row0 col4\" >0.8593</td>\n",
       "      <td id=\"T_bab48_row0_col5\" class=\"data row0 col5\" >0.6579</td>\n",
       "      <td id=\"T_bab48_row0_col6\" class=\"data row0 col6\" >0.6606</td>\n",
       "    </tr>\n",
       "    <tr>\n",
       "      <th id=\"T_bab48_level0_row1\" class=\"row_heading level0 row1\" >1</th>\n",
       "      <td id=\"T_bab48_row1_col0\" class=\"data row1 col0\" >0.8289</td>\n",
       "      <td id=\"T_bab48_row1_col1\" class=\"data row1 col1\" >0.9003</td>\n",
       "      <td id=\"T_bab48_row1_col2\" class=\"data row1 col2\" >0.8878</td>\n",
       "      <td id=\"T_bab48_row1_col3\" class=\"data row1 col3\" >0.8244</td>\n",
       "      <td id=\"T_bab48_row1_col4\" class=\"data row1 col4\" >0.8549</td>\n",
       "      <td id=\"T_bab48_row1_col5\" class=\"data row1 col5\" >0.6472</td>\n",
       "      <td id=\"T_bab48_row1_col6\" class=\"data row1 col6\" >0.6499</td>\n",
       "    </tr>\n",
       "    <tr>\n",
       "      <th id=\"T_bab48_level0_row2\" class=\"row_heading level0 row2\" >2</th>\n",
       "      <td id=\"T_bab48_row2_col0\" class=\"data row2 col0\" >0.8218</td>\n",
       "      <td id=\"T_bab48_row2_col1\" class=\"data row2 col1\" >0.8933</td>\n",
       "      <td id=\"T_bab48_row2_col2\" class=\"data row2 col2\" >0.8787</td>\n",
       "      <td id=\"T_bab48_row2_col3\" class=\"data row2 col3\" >0.8202</td>\n",
       "      <td id=\"T_bab48_row2_col4\" class=\"data row2 col4\" >0.8485</td>\n",
       "      <td id=\"T_bab48_row2_col5\" class=\"data row2 col5\" >0.6329</td>\n",
       "      <td id=\"T_bab48_row2_col6\" class=\"data row2 col6\" >0.6351</td>\n",
       "    </tr>\n",
       "    <tr>\n",
       "      <th id=\"T_bab48_level0_row3\" class=\"row_heading level0 row3\" >3</th>\n",
       "      <td id=\"T_bab48_row3_col0\" class=\"data row3 col0\" >0.8237</td>\n",
       "      <td id=\"T_bab48_row3_col1\" class=\"data row3 col1\" >0.8916</td>\n",
       "      <td id=\"T_bab48_row3_col2\" class=\"data row3 col2\" >0.8882</td>\n",
       "      <td id=\"T_bab48_row3_col3\" class=\"data row3 col3\" >0.8171</td>\n",
       "      <td id=\"T_bab48_row3_col4\" class=\"data row3 col4\" >0.8512</td>\n",
       "      <td id=\"T_bab48_row3_col5\" class=\"data row3 col5\" >0.6358</td>\n",
       "      <td id=\"T_bab48_row3_col6\" class=\"data row3 col6\" >0.6391</td>\n",
       "    </tr>\n",
       "    <tr>\n",
       "      <th id=\"T_bab48_level0_row4\" class=\"row_heading level0 row4\" >4</th>\n",
       "      <td id=\"T_bab48_row4_col0\" class=\"data row4 col0\" >0.8322</td>\n",
       "      <td id=\"T_bab48_row4_col1\" class=\"data row4 col1\" >0.8981</td>\n",
       "      <td id=\"T_bab48_row4_col2\" class=\"data row4 col2\" >0.8954</td>\n",
       "      <td id=\"T_bab48_row4_col3\" class=\"data row4 col3\" >0.8242</td>\n",
       "      <td id=\"T_bab48_row4_col4\" class=\"data row4 col4\" >0.8584</td>\n",
       "      <td id=\"T_bab48_row4_col5\" class=\"data row4 col5\" >0.6535</td>\n",
       "      <td id=\"T_bab48_row4_col6\" class=\"data row4 col6\" >0.6569</td>\n",
       "    </tr>\n",
       "    <tr>\n",
       "      <th id=\"T_bab48_level0_row5\" class=\"row_heading level0 row5\" >5</th>\n",
       "      <td id=\"T_bab48_row5_col0\" class=\"data row5 col0\" >0.8281</td>\n",
       "      <td id=\"T_bab48_row5_col1\" class=\"data row5 col1\" >0.8944</td>\n",
       "      <td id=\"T_bab48_row5_col2\" class=\"data row5 col2\" >0.8913</td>\n",
       "      <td id=\"T_bab48_row5_col3\" class=\"data row5 col3\" >0.8212</td>\n",
       "      <td id=\"T_bab48_row5_col4\" class=\"data row5 col4\" >0.8548</td>\n",
       "      <td id=\"T_bab48_row5_col5\" class=\"data row5 col5\" >0.6451</td>\n",
       "      <td id=\"T_bab48_row5_col6\" class=\"data row5 col6\" >0.6484</td>\n",
       "    </tr>\n",
       "    <tr>\n",
       "      <th id=\"T_bab48_level0_row6\" class=\"row_heading level0 row6\" >6</th>\n",
       "      <td id=\"T_bab48_row6_col0\" class=\"data row6 col0\" >0.8225</td>\n",
       "      <td id=\"T_bab48_row6_col1\" class=\"data row6 col1\" >0.8884</td>\n",
       "      <td id=\"T_bab48_row6_col2\" class=\"data row6 col2\" >0.8810</td>\n",
       "      <td id=\"T_bab48_row6_col3\" class=\"data row6 col3\" >0.8197</td>\n",
       "      <td id=\"T_bab48_row6_col4\" class=\"data row6 col4\" >0.8493</td>\n",
       "      <td id=\"T_bab48_row6_col5\" class=\"data row6 col5\" >0.6340</td>\n",
       "      <td id=\"T_bab48_row6_col6\" class=\"data row6 col6\" >0.6365</td>\n",
       "    </tr>\n",
       "    <tr>\n",
       "      <th id=\"T_bab48_level0_row7\" class=\"row_heading level0 row7\" >7</th>\n",
       "      <td id=\"T_bab48_row7_col0\" class=\"data row7 col0\" >0.8238</td>\n",
       "      <td id=\"T_bab48_row7_col1\" class=\"data row7 col1\" >0.8912</td>\n",
       "      <td id=\"T_bab48_row7_col2\" class=\"data row7 col2\" >0.8931</td>\n",
       "      <td id=\"T_bab48_row7_col3\" class=\"data row7 col3\" >0.8144</td>\n",
       "      <td id=\"T_bab48_row7_col4\" class=\"data row7 col4\" >0.8520</td>\n",
       "      <td id=\"T_bab48_row7_col5\" class=\"data row7 col5\" >0.6355</td>\n",
       "      <td id=\"T_bab48_row7_col6\" class=\"data row7 col6\" >0.6396</td>\n",
       "    </tr>\n",
       "    <tr>\n",
       "      <th id=\"T_bab48_level0_row8\" class=\"row_heading level0 row8\" >8</th>\n",
       "      <td id=\"T_bab48_row8_col0\" class=\"data row8 col0\" >0.8310</td>\n",
       "      <td id=\"T_bab48_row8_col1\" class=\"data row8 col1\" >0.9017</td>\n",
       "      <td id=\"T_bab48_row8_col2\" class=\"data row8 col2\" >0.8938</td>\n",
       "      <td id=\"T_bab48_row8_col3\" class=\"data row8 col3\" >0.8236</td>\n",
       "      <td id=\"T_bab48_row8_col4\" class=\"data row8 col4\" >0.8572</td>\n",
       "      <td id=\"T_bab48_row8_col5\" class=\"data row8 col5\" >0.6512</td>\n",
       "      <td id=\"T_bab48_row8_col6\" class=\"data row8 col6\" >0.6544</td>\n",
       "    </tr>\n",
       "    <tr>\n",
       "      <th id=\"T_bab48_level0_row9\" class=\"row_heading level0 row9\" >9</th>\n",
       "      <td id=\"T_bab48_row9_col0\" class=\"data row9 col0\" >0.8289</td>\n",
       "      <td id=\"T_bab48_row9_col1\" class=\"data row9 col1\" >0.8945</td>\n",
       "      <td id=\"T_bab48_row9_col2\" class=\"data row9 col2\" >0.8880</td>\n",
       "      <td id=\"T_bab48_row9_col3\" class=\"data row9 col3\" >0.8242</td>\n",
       "      <td id=\"T_bab48_row9_col4\" class=\"data row9 col4\" >0.8549</td>\n",
       "      <td id=\"T_bab48_row9_col5\" class=\"data row9 col5\" >0.6473</td>\n",
       "      <td id=\"T_bab48_row9_col6\" class=\"data row9 col6\" >0.6499</td>\n",
       "    </tr>\n",
       "    <tr>\n",
       "      <th id=\"T_bab48_level0_row10\" class=\"row_heading level0 row10\" >Mean</th>\n",
       "      <td id=\"T_bab48_row10_col0\" class=\"data row10 col0\" >0.8275</td>\n",
       "      <td id=\"T_bab48_row10_col1\" class=\"data row10 col1\" >0.8954</td>\n",
       "      <td id=\"T_bab48_row10_col2\" class=\"data row10 col2\" >0.8890</td>\n",
       "      <td id=\"T_bab48_row10_col3\" class=\"data row10 col3\" >0.8217</td>\n",
       "      <td id=\"T_bab48_row10_col4\" class=\"data row10 col4\" >0.8540</td>\n",
       "      <td id=\"T_bab48_row10_col5\" class=\"data row10 col5\" >0.6440</td>\n",
       "      <td id=\"T_bab48_row10_col6\" class=\"data row10 col6\" >0.6471</td>\n",
       "    </tr>\n",
       "    <tr>\n",
       "      <th id=\"T_bab48_level0_row11\" class=\"row_heading level0 row11\" >SD</th>\n",
       "      <td id=\"T_bab48_row11_col0\" class=\"data row11 col0\" >0.0041</td>\n",
       "      <td id=\"T_bab48_row11_col1\" class=\"data row11 col1\" >0.0044</td>\n",
       "      <td id=\"T_bab48_row11_col2\" class=\"data row11 col2\" >0.0052</td>\n",
       "      <td id=\"T_bab48_row11_col3\" class=\"data row11 col3\" >0.0038</td>\n",
       "      <td id=\"T_bab48_row11_col4\" class=\"data row11 col4\" >0.0035</td>\n",
       "      <td id=\"T_bab48_row11_col5\" class=\"data row11 col5\" >0.0085</td>\n",
       "      <td id=\"T_bab48_row11_col6\" class=\"data row11 col6\" >0.0085</td>\n",
       "    </tr>\n",
       "  </tbody>\n",
       "</table>\n"
      ],
      "text/plain": [
       "<pandas.io.formats.style.Styler at 0x7fdb24b52fd0>"
      ]
     },
     "metadata": {},
     "output_type": "display_data"
    },
    {
     "name": "stderr",
     "output_type": "stream",
     "text": [
      "/Library/Frameworks/Python.framework/Versions/3.9/lib/python3.9/site-packages/xgboost/sklearn.py:1146: UserWarning: The use of label encoder in XGBClassifier is deprecated and will be removed in a future release. To remove this warning, do the following: 1) Pass option use_label_encoder=False when constructing XGBClassifier object; and 2) Encode your labels (y) as integers starting with 0, i.e. 0, 1, 2, ..., [num_class - 1].\n",
      "  warnings.warn(label_encoder_deprecation_msg, UserWarning)\n",
      "/Library/Frameworks/Python.framework/Versions/3.9/lib/python3.9/site-packages/xgboost/sklearn.py:1146: UserWarning: The use of label encoder in XGBClassifier is deprecated and will be removed in a future release. To remove this warning, do the following: 1) Pass option use_label_encoder=False when constructing XGBClassifier object; and 2) Encode your labels (y) as integers starting with 0, i.e. 0, 1, 2, ..., [num_class - 1].\n",
      "  warnings.warn(label_encoder_deprecation_msg, UserWarning)\n",
      "/Library/Frameworks/Python.framework/Versions/3.9/lib/python3.9/site-packages/xgboost/sklearn.py:1146: UserWarning: The use of label encoder in XGBClassifier is deprecated and will be removed in a future release. To remove this warning, do the following: 1) Pass option use_label_encoder=False when constructing XGBClassifier object; and 2) Encode your labels (y) as integers starting with 0, i.e. 0, 1, 2, ..., [num_class - 1].\n",
      "  warnings.warn(label_encoder_deprecation_msg, UserWarning)\n",
      "/Library/Frameworks/Python.framework/Versions/3.9/lib/python3.9/site-packages/xgboost/sklearn.py:1146: UserWarning: The use of label encoder in XGBClassifier is deprecated and will be removed in a future release. To remove this warning, do the following: 1) Pass option use_label_encoder=False when constructing XGBClassifier object; and 2) Encode your labels (y) as integers starting with 0, i.e. 0, 1, 2, ..., [num_class - 1].\n",
      "  warnings.warn(label_encoder_deprecation_msg, UserWarning)\n",
      "/Library/Frameworks/Python.framework/Versions/3.9/lib/python3.9/site-packages/xgboost/sklearn.py:1146: UserWarning: The use of label encoder in XGBClassifier is deprecated and will be removed in a future release. To remove this warning, do the following: 1) Pass option use_label_encoder=False when constructing XGBClassifier object; and 2) Encode your labels (y) as integers starting with 0, i.e. 0, 1, 2, ..., [num_class - 1].\n",
      "  warnings.warn(label_encoder_deprecation_msg, UserWarning)\n",
      "/Library/Frameworks/Python.framework/Versions/3.9/lib/python3.9/site-packages/xgboost/data.py:208: FutureWarning: pandas.Int64Index is deprecated and will be removed from pandas in a future version. Use pandas.Index with the appropriate dtype instead.\n",
      "  from pandas import MultiIndex, Int64Index\n",
      "/Library/Frameworks/Python.framework/Versions/3.9/lib/python3.9/site-packages/xgboost/sklearn.py:1146: UserWarning: The use of label encoder in XGBClassifier is deprecated and will be removed in a future release. To remove this warning, do the following: 1) Pass option use_label_encoder=False when constructing XGBClassifier object; and 2) Encode your labels (y) as integers starting with 0, i.e. 0, 1, 2, ..., [num_class - 1].\n",
      "  warnings.warn(label_encoder_deprecation_msg, UserWarning)\n",
      "/Library/Frameworks/Python.framework/Versions/3.9/lib/python3.9/site-packages/xgboost/data.py:208: FutureWarning: pandas.Int64Index is deprecated and will be removed from pandas in a future version. Use pandas.Index with the appropriate dtype instead.\n",
      "  from pandas import MultiIndex, Int64Index\n",
      "/Library/Frameworks/Python.framework/Versions/3.9/lib/python3.9/site-packages/xgboost/data.py:208: FutureWarning: pandas.Int64Index is deprecated and will be removed from pandas in a future version. Use pandas.Index with the appropriate dtype instead.\n",
      "  from pandas import MultiIndex, Int64Index\n",
      "/Library/Frameworks/Python.framework/Versions/3.9/lib/python3.9/site-packages/xgboost/data.py:208: FutureWarning: pandas.Int64Index is deprecated and will be removed from pandas in a future version. Use pandas.Index with the appropriate dtype instead.\n",
      "  from pandas import MultiIndex, Int64Index\n",
      "/Library/Frameworks/Python.framework/Versions/3.9/lib/python3.9/site-packages/xgboost/data.py:208: FutureWarning: pandas.Int64Index is deprecated and will be removed from pandas in a future version. Use pandas.Index with the appropriate dtype instead.\n",
      "  from pandas import MultiIndex, Int64Index\n",
      "/Library/Frameworks/Python.framework/Versions/3.9/lib/python3.9/site-packages/xgboost/data.py:208: FutureWarning: pandas.Int64Index is deprecated and will be removed from pandas in a future version. Use pandas.Index with the appropriate dtype instead.\n",
      "  from pandas import MultiIndex, Int64Index\n",
      "/Library/Frameworks/Python.framework/Versions/3.9/lib/python3.9/site-packages/xgboost/sklearn.py:1146: UserWarning: The use of label encoder in XGBClassifier is deprecated and will be removed in a future release. To remove this warning, do the following: 1) Pass option use_label_encoder=False when constructing XGBClassifier object; and 2) Encode your labels (y) as integers starting with 0, i.e. 0, 1, 2, ..., [num_class - 1].\n",
      "  warnings.warn(label_encoder_deprecation_msg, UserWarning)\n",
      "/Library/Frameworks/Python.framework/Versions/3.9/lib/python3.9/site-packages/xgboost/sklearn.py:1146: UserWarning: The use of label encoder in XGBClassifier is deprecated and will be removed in a future release. To remove this warning, do the following: 1) Pass option use_label_encoder=False when constructing XGBClassifier object; and 2) Encode your labels (y) as integers starting with 0, i.e. 0, 1, 2, ..., [num_class - 1].\n",
      "  warnings.warn(label_encoder_deprecation_msg, UserWarning)\n",
      "/Library/Frameworks/Python.framework/Versions/3.9/lib/python3.9/site-packages/xgboost/data.py:208: FutureWarning: pandas.Int64Index is deprecated and will be removed from pandas in a future version. Use pandas.Index with the appropriate dtype instead.\n",
      "  from pandas import MultiIndex, Int64Index\n",
      "/Library/Frameworks/Python.framework/Versions/3.9/lib/python3.9/site-packages/xgboost/data.py:208: FutureWarning: pandas.Int64Index is deprecated and will be removed from pandas in a future version. Use pandas.Index with the appropriate dtype instead.\n",
      "  from pandas import MultiIndex, Int64Index\n",
      "/Library/Frameworks/Python.framework/Versions/3.9/lib/python3.9/site-packages/xgboost/sklearn.py:1146: UserWarning: The use of label encoder in XGBClassifier is deprecated and will be removed in a future release. To remove this warning, do the following: 1) Pass option use_label_encoder=False when constructing XGBClassifier object; and 2) Encode your labels (y) as integers starting with 0, i.e. 0, 1, 2, ..., [num_class - 1].\n",
      "  warnings.warn(label_encoder_deprecation_msg, UserWarning)\n",
      "/Library/Frameworks/Python.framework/Versions/3.9/lib/python3.9/site-packages/xgboost/data.py:208: FutureWarning: pandas.Int64Index is deprecated and will be removed from pandas in a future version. Use pandas.Index with the appropriate dtype instead.\n",
      "  from pandas import MultiIndex, Int64Index\n",
      "/Library/Frameworks/Python.framework/Versions/3.9/lib/python3.9/site-packages/xgboost/sklearn.py:1146: UserWarning: The use of label encoder in XGBClassifier is deprecated and will be removed in a future release. To remove this warning, do the following: 1) Pass option use_label_encoder=False when constructing XGBClassifier object; and 2) Encode your labels (y) as integers starting with 0, i.e. 0, 1, 2, ..., [num_class - 1].\n",
      "  warnings.warn(label_encoder_deprecation_msg, UserWarning)\n",
      "/Library/Frameworks/Python.framework/Versions/3.9/lib/python3.9/site-packages/xgboost/data.py:208: FutureWarning: pandas.Int64Index is deprecated and will be removed from pandas in a future version. Use pandas.Index with the appropriate dtype instead.\n",
      "  from pandas import MultiIndex, Int64Index\n"
     ]
    }
   ],
   "source": [
    "best_model = create_model(model_matrix)\n",
    "final_model = finalize_model(best_model)"
   ]
  },
  {
   "cell_type": "code",
   "execution_count": 84,
   "id": "4487009f",
   "metadata": {},
   "outputs": [
    {
     "data": {
      "text/plain": [
       "(5143, 23)"
      ]
     },
     "execution_count": 84,
     "metadata": {},
     "output_type": "execute_result"
    }
   ],
   "source": [
    "df_inference_year = dfObj.loc[dfObj[\"year\"] >= 2021]\n",
    "df_inference = df_inference_year.loc[df_inference_year[\"lkupclientid\"] == 7]\n",
    "df_inference = df_inference.fillna(0)\n",
    "df_inference.shape"
   ]
  },
  {
   "cell_type": "code",
   "execution_count": 85,
   "id": "3aa9448f",
   "metadata": {},
   "outputs": [
    {
     "data": {
      "text/html": [
       "<div>\n",
       "<style scoped>\n",
       "    .dataframe tbody tr th:only-of-type {\n",
       "        vertical-align: middle;\n",
       "    }\n",
       "\n",
       "    .dataframe tbody tr th {\n",
       "        vertical-align: top;\n",
       "    }\n",
       "\n",
       "    .dataframe thead th {\n",
       "        text-align: right;\n",
       "    }\n",
       "</style>\n",
       "<table border=\"1\" class=\"dataframe\">\n",
       "  <thead>\n",
       "    <tr style=\"text-align: right;\">\n",
       "      <th></th>\n",
       "      <th>lkupclientid</th>\n",
       "      <th>dimcustomermasterid</th>\n",
       "      <th>year</th>\n",
       "      <th>productgrouping</th>\n",
       "      <th>recentdate</th>\n",
       "      <th>attendancepercent</th>\n",
       "      <th>recency</th>\n",
       "      <th>source_tenure</th>\n",
       "      <th>totalspent</th>\n",
       "      <th>isnextyear_buyer</th>\n",
       "      <th>...</th>\n",
       "      <th>forward_records</th>\n",
       "      <th>opentosendratio</th>\n",
       "      <th>clicktosendratio</th>\n",
       "      <th>clicktoopenratio</th>\n",
       "      <th>gender</th>\n",
       "      <th>phonecall</th>\n",
       "      <th>inperson_contact</th>\n",
       "      <th>Label</th>\n",
       "      <th>Score_0</th>\n",
       "      <th>Score_1</th>\n",
       "    </tr>\n",
       "  </thead>\n",
       "  <tbody>\n",
       "    <tr>\n",
       "      <th>2</th>\n",
       "      <td>7</td>\n",
       "      <td>19065</td>\n",
       "      <td>2021</td>\n",
       "      <td>Full Season</td>\n",
       "      <td>2022-02-19</td>\n",
       "      <td>0.06</td>\n",
       "      <td>15</td>\n",
       "      <td>12410</td>\n",
       "      <td>10815.2</td>\n",
       "      <td>1</td>\n",
       "      <td>...</td>\n",
       "      <td>24.0</td>\n",
       "      <td>4.23</td>\n",
       "      <td>0.13</td>\n",
       "      <td>0.03</td>\n",
       "      <td>Unknown</td>\n",
       "      <td>0.0</td>\n",
       "      <td>0.0</td>\n",
       "      <td>1</td>\n",
       "      <td>0.1446</td>\n",
       "      <td>0.8554</td>\n",
       "    </tr>\n",
       "    <tr>\n",
       "      <th>8</th>\n",
       "      <td>7</td>\n",
       "      <td>46677</td>\n",
       "      <td>2021</td>\n",
       "      <td>Quarter</td>\n",
       "      <td>2022-04-14</td>\n",
       "      <td>1.00</td>\n",
       "      <td>0</td>\n",
       "      <td>6570</td>\n",
       "      <td>1578.5</td>\n",
       "      <td>0</td>\n",
       "      <td>...</td>\n",
       "      <td>0.0</td>\n",
       "      <td>3.95</td>\n",
       "      <td>0.33</td>\n",
       "      <td>0.08</td>\n",
       "      <td>Unknown</td>\n",
       "      <td>0.0</td>\n",
       "      <td>0.0</td>\n",
       "      <td>1</td>\n",
       "      <td>0.3185</td>\n",
       "      <td>0.6815</td>\n",
       "    </tr>\n",
       "    <tr>\n",
       "      <th>10</th>\n",
       "      <td>7</td>\n",
       "      <td>49754</td>\n",
       "      <td>2021</td>\n",
       "      <td>Half Season</td>\n",
       "      <td>2022-04-26</td>\n",
       "      <td>0.50</td>\n",
       "      <td>0</td>\n",
       "      <td>730</td>\n",
       "      <td>4692.4</td>\n",
       "      <td>0</td>\n",
       "      <td>...</td>\n",
       "      <td>10.0</td>\n",
       "      <td>1.81</td>\n",
       "      <td>0.71</td>\n",
       "      <td>0.39</td>\n",
       "      <td>Unknown</td>\n",
       "      <td>0.0</td>\n",
       "      <td>0.0</td>\n",
       "      <td>1</td>\n",
       "      <td>0.3694</td>\n",
       "      <td>0.6306</td>\n",
       "    </tr>\n",
       "    <tr>\n",
       "      <th>15</th>\n",
       "      <td>7</td>\n",
       "      <td>73433</td>\n",
       "      <td>2021</td>\n",
       "      <td>Quarter</td>\n",
       "      <td>2022-04-03</td>\n",
       "      <td>0.56</td>\n",
       "      <td>0</td>\n",
       "      <td>1460</td>\n",
       "      <td>4347.0</td>\n",
       "      <td>0</td>\n",
       "      <td>...</td>\n",
       "      <td>4.0</td>\n",
       "      <td>3.71</td>\n",
       "      <td>0.33</td>\n",
       "      <td>0.09</td>\n",
       "      <td>Unknown</td>\n",
       "      <td>0.0</td>\n",
       "      <td>0.0</td>\n",
       "      <td>1</td>\n",
       "      <td>0.3735</td>\n",
       "      <td>0.6265</td>\n",
       "    </tr>\n",
       "    <tr>\n",
       "      <th>36</th>\n",
       "      <td>7</td>\n",
       "      <td>11760</td>\n",
       "      <td>2021</td>\n",
       "      <td>Full Season</td>\n",
       "      <td>2022-04-14</td>\n",
       "      <td>0.20</td>\n",
       "      <td>2</td>\n",
       "      <td>365</td>\n",
       "      <td>7925.4</td>\n",
       "      <td>1</td>\n",
       "      <td>...</td>\n",
       "      <td>36.0</td>\n",
       "      <td>0.00</td>\n",
       "      <td>0.00</td>\n",
       "      <td>0.00</td>\n",
       "      <td>Unknown</td>\n",
       "      <td>0.0</td>\n",
       "      <td>0.0</td>\n",
       "      <td>1</td>\n",
       "      <td>0.2502</td>\n",
       "      <td>0.7498</td>\n",
       "    </tr>\n",
       "  </tbody>\n",
       "</table>\n",
       "<p>5 rows × 26 columns</p>\n",
       "</div>"
      ],
      "text/plain": [
       "    lkupclientid  dimcustomermasterid  year productgrouping recentdate  \\\n",
       "2              7                19065  2021     Full Season 2022-02-19   \n",
       "8              7                46677  2021         Quarter 2022-04-14   \n",
       "10             7                49754  2021     Half Season 2022-04-26   \n",
       "15             7                73433  2021         Quarter 2022-04-03   \n",
       "36             7                11760  2021     Full Season 2022-04-14   \n",
       "\n",
       "    attendancepercent  recency source_tenure  totalspent  isnextyear_buyer  \\\n",
       "2                0.06       15         12410     10815.2                 1   \n",
       "8                1.00        0          6570      1578.5                 0   \n",
       "10               0.50        0           730      4692.4                 0   \n",
       "15               0.56        0          1460      4347.0                 0   \n",
       "36               0.20        2           365      7925.4                 1   \n",
       "\n",
       "    ...  forward_records  opentosendratio  clicktosendratio clicktoopenratio  \\\n",
       "2   ...             24.0             4.23              0.13             0.03   \n",
       "8   ...              0.0             3.95              0.33             0.08   \n",
       "10  ...             10.0             1.81              0.71             0.39   \n",
       "15  ...              4.0             3.71              0.33             0.09   \n",
       "36  ...             36.0             0.00              0.00             0.00   \n",
       "\n",
       "     gender phonecall  inperson_contact Label Score_0 Score_1  \n",
       "2   Unknown       0.0               0.0     1  0.1446  0.8554  \n",
       "8   Unknown       0.0               0.0     1  0.3185  0.6815  \n",
       "10  Unknown       0.0               0.0     1  0.3694  0.6306  \n",
       "15  Unknown       0.0               0.0     1  0.3735  0.6265  \n",
       "36  Unknown       0.0               0.0     1  0.2502  0.7498  \n",
       "\n",
       "[5 rows x 26 columns]"
      ]
     },
     "execution_count": 85,
     "metadata": {},
     "output_type": "execute_result"
    }
   ],
   "source": [
    "new_predictions = predict_model(final_model, data=df_inference, raw_score=True)\n",
    "new_predictions.head()"
   ]
  },
  {
   "cell_type": "code",
   "execution_count": 86,
   "id": "411e4d80",
   "metadata": {},
   "outputs": [
    {
     "data": {
      "text/plain": [
       "1    3934\n",
       "0    1209\n",
       "Name: Label, dtype: int64"
      ]
     },
     "execution_count": 86,
     "metadata": {},
     "output_type": "execute_result"
    }
   ],
   "source": [
    "new_predictions[\"Label\"].value_counts()"
   ]
  },
  {
   "cell_type": "code",
   "execution_count": 87,
   "id": "bfeb9655",
   "metadata": {},
   "outputs": [
    {
     "data": {
      "image/png": "[encoded data removed]",
      "text/plain": [
       "<Figure size 576x396 with 1 Axes>"
      ]
     },
     "metadata": {},
     "output_type": "display_data"
    }
   ],
   "source": [
    "plt.hist(new_predictions[\"Score_1\"], bins=20, edgecolor='black')\n",
    "plt.title(\"Retention Scores\")\n",
    "plt.ylabel(\"Num Fans\")\n",
    "plt.xlabel(\"SA Buyer Score\")\n",
    "plt.show()"
   ]
  },
  {
   "cell_type": "code",
   "execution_count": 88,
   "id": "7e22aece-548d-49e8-a88c-c276cecd27f6",
   "metadata": {},
   "outputs": [
    {
     "data": {
      "image/png": "[encoded data removed]",
      "text/plain": [
       "<Figure size 800x500 with 1 Axes>"
      ]
     },
     "metadata": {},
     "output_type": "display_data"
    }
   ],
   "source": [
    "plot_model(final_model, plot='feature')"
   ]
  },
  {
   "cell_type": "code",
   "execution_count": 89,
   "id": "1c4f2ff5-fdf2-464a-8e6b-94e5b4c688c5",
   "metadata": {},
   "outputs": [
    {
     "data": {
      "image/png": "[encoded data removed]",
      "text/plain": [
       "<Figure size 576x396 with 1 Axes>"
      ]
     },
     "metadata": {},
     "output_type": "display_data"
    }
   ],
   "source": [
    "plot_model(final_model, plot='confusion_matrix')"
   ]
  },
  {
   "cell_type": "code",
   "execution_count": 90,
   "id": "88ef2e16-8ae3-4618-9ecd-2a94754763fc",
   "metadata": {},
   "outputs": [
    {
     "data": {
      "image/png": "[encoded data removed]",
      "text/plain": [
       "<Figure size 576x396 with 1 Axes>"
      ]
     },
     "metadata": {},
     "output_type": "display_data"
    }
   ],
   "source": [
    "plot_model(final_model, plot='auc')"
   ]
  },
  {
   "cell_type": "code",
   "execution_count": 91,
   "id": "b483aad7-8348-40a7-8221-8c415b6bf727",
   "metadata": {},
   "outputs": [
    {
     "data": {
      "application/vnd.jupyter.widget-view+json": {
       "model_id": "33d36935cdf3403b9daafcd05436ff05",
       "version_major": 2,
       "version_minor": 0
      },
      "text/plain": [
       "Summarize dataset:   0%|          | 0/40 [00:00<?, ?it/s]"
      ]
     },
     "metadata": {},
     "output_type": "display_data"
    },
    {
     "data": {
      "application/vnd.jupyter.widget-view+json": {
       "model_id": "265a4b30ce054b42b0744a7e4bd63c6f",
       "version_major": 2,
       "version_minor": 0
      },
      "text/plain": [
       "Generate report structure:   0%|          | 0/1 [00:00<?, ?it/s]"
      ]
     },
     "metadata": {},
     "output_type": "display_data"
    },
    {
     "data": {
      "application/vnd.jupyter.widget-view+json": {
       "model_id": "1bb19be93b6442e69fbe5bfc6ad442d8",
       "version_major": 2,
       "version_minor": 0
      },
      "text/plain": [
       "Render HTML:   0%|          | 0/1 [00:00<?, ?it/s]"
      ]
     },
     "metadata": {},
     "output_type": "display_data"
    },
    {
     "data": {
      "application/vnd.jupyter.widget-view+json": {
       "model_id": "0c6f9f454ede401ea277be839eadfcbe",
       "version_major": 2,
       "version_minor": 0
      },
      "text/plain": [
       "Export report to file:   0%|          | 0/1 [00:00<?, ?it/s]"
      ]
     },
     "metadata": {},
     "output_type": "display_data"
    }
   ],
   "source": [
    "report = ProfileReport(new_predictions)\n",
    "report.to_file(\"NHL_data_retention_predictions.html\")"
   ]
  },
  {
   "cell_type": "code",
   "execution_count": 92,
   "id": "7618bf87-b10c-47ab-90ac-3703b613fb05",
   "metadata": {},
   "outputs": [
    {
     "data": {
      "application/vnd.jupyter.widget-view+json": {
       "model_id": "620550ef1505492abfb09456e34b043b",
       "version_major": 2,
       "version_minor": 0
      },
      "text/plain": [
       "Summarize dataset:   0%|          | 0/36 [00:00<?, ?it/s]"
      ]
     },
     "metadata": {},
     "output_type": "display_data"
    },
    {
     "data": {
      "application/vnd.jupyter.widget-view+json": {
       "model_id": "40b72b1eb3994ec788e06cc7fbdcdf2a",
       "version_major": 2,
       "version_minor": 0
      },
      "text/plain": [
       "Generate report structure:   0%|          | 0/1 [00:00<?, ?it/s]"
      ]
     },
     "metadata": {},
     "output_type": "display_data"
    },
    {
     "data": {
      "application/vnd.jupyter.widget-view+json": {
       "model_id": "05523eb0081e43fab279d923327c032c",
       "version_major": 2,
       "version_minor": 0
      },
      "text/plain": [
       "Render HTML:   0%|          | 0/1 [00:00<?, ?it/s]"
      ]
     },
     "metadata": {},
     "output_type": "display_data"
    },
    {
     "data": {
      "application/vnd.jupyter.widget-view+json": {
       "model_id": "8eb85b76b421414da4192cf3f9d1cb8c",
       "version_major": 2,
       "version_minor": 0
      },
      "text/plain": [
       "Export report to file:   0%|          | 0/1 [00:00<?, ?it/s]"
      ]
     },
     "metadata": {},
     "output_type": "display_data"
    }
   ],
   "source": [
    "report2 = ProfileReport(df)\n",
    "report2.to_file(\"NHL_data_retention_df.html\")"
   ]
  },
  {
   "cell_type": "markdown",
   "id": "0f1e3b08-0aa4-4c97-93e1-c2ae4b2244eb",
   "metadata": {},
   "source": [
    "## Observations for using all NHL data\n",
    "\n",
    "1. How accurate was this model? \n",
    "* The accuracy is 84% (3% more than using canucks data)\n",
    "\n",
    "2. How many fans will buy ticket for 2022 season?\n",
    "* 905 fans out of 5143 (676 fans more than using canucks data)\n",
    "\n",
    "3. What were the most important features in making a correct prediction?\n",
    "* recentdate_month_4, recentdate_is_month_end_0, recentdate_weekday_1 are top 3 important features.\n"
   ]
  },
  {
   "cell_type": "markdown",
   "id": "71538730-5d53-468c-86c8-d4d7fc671786",
   "metadata": {},
   "source": [
    "### Done"
   ]
  }
 ],
 "metadata": {
  "kernelspec": {
   "display_name": "Python 3 (ipykernel)",
   "language": "python",
   "name": "python3"
  },
  "language_info": {
   "codemirror_mode": {
    "name": "ipython",
    "version": 3
   },
   "file_extension": ".py",
   "mimetype": "text/x-python",
   "name": "python",
   "nbconvert_exporter": "python",
   "pygments_lexer": "ipython3",
   "version": "3.9.4"
  },
  "vscode": {
   "interpreter": {
    "hash": "89f48dadab51a6b5b48ffc1a9e043c21cefe67453637c3444f3b86917b8aad16"
   }
  }
 },
 "nbformat": 4,
 "nbformat_minor": 5
}
