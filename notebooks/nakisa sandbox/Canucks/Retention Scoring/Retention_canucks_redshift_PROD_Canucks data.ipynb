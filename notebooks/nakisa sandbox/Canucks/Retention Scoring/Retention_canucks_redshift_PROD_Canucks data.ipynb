{
 "cells": [
  {
   "cell_type": "markdown",
   "id": "9575d83e",
   "metadata": {},
   "source": [
    "# Retention Scoring - PROD - Redshift - Canucks data\n",
    "* StellarAlgo Data Science\n",
    "* Ryan Kazmerik & Nakisa Rad\n",
    "* July 14, 2022"
   ]
  },
  {
   "cell_type": "markdown",
   "id": "62d7c5a2",
   "metadata": {},
   "source": [
    "## Hypothesis\n",
    "This notebook will test the retention model features and the goal is to check how the accuracy and scores look when we train the model only with Canucks data compared to all NHL data."
   ]
  },
  {
   "cell_type": "markdown",
   "id": "c46403a5",
   "metadata": {},
   "source": [
    "## Experiment\n",
    "This section details our experiment including querying data, data transformations, feature selection and modelling."
   ]
  },
  {
   "cell_type": "code",
   "execution_count": 1,
   "id": "df2be620",
   "metadata": {},
   "outputs": [],
   "source": [
    "import boto3\n",
    "import pandas as pd\n",
    "import matplotlib.pyplot as plt\n",
    "import psycopg2\n",
    "from pandas_profiling import ProfileReport\n",
    "from shared_utilities import helpers\n",
    "from pycaret.classification import *"
   ]
  },
  {
   "cell_type": "code",
   "execution_count": 2,
   "id": "93720795",
   "metadata": {},
   "outputs": [
    {
     "name": "stdout",
     "output_type": "stream",
     "text": [
      "Attempting to automatically open the SSO authorization page in your default browser.\n",
      "If the browser does not open or you wish to use a different device to authorize this request, open the following URL:\n",
      "\n",
      "https://device.sso.us-east-1.amazonaws.com/\n",
      "\n",
      "Then enter the code:\n",
      "\n",
      "PLND-RXQH\n",
      "Successully logged into Start URL: https://stellaralgo.awsapps.com/start#/\n"
     ]
    }
   ],
   "source": [
    "! aws sso login --profile Stellaralgo-DataScienceAdmin"
   ]
  },
  {
   "cell_type": "code",
   "execution_count": 3,
   "id": "c41cda76-a671-416c-9df2-5e8aeebe48a1",
   "metadata": {},
   "outputs": [],
   "source": [
    "conn = helpers.get_redshift_connection('prod-app', 'stlrcanucks')"
   ]
  },
  {
   "cell_type": "code",
   "execution_count": 4,
   "id": "bf80cd96",
   "metadata": {},
   "outputs": [],
   "source": [
    "# call the stored proc to get data for the retention model\n",
    "cur = conn.cursor()\n",
    "cur.execute(f\"CALL ds.getretentionmodeldata(7,2010, 2022, 'temp_cursor')\")\n",
    "\n",
    "# create a named cursor based on the cursor name passed in above\n",
    "named_cursor = conn.cursor('temp_cursor')\n",
    "data = named_cursor.fetchall()\n",
    "\n",
    "# load the data and columns into a data frame\n",
    "cols = [row[0] for row in named_cursor.description]\n",
    "df = pd.DataFrame(data=data, columns=cols)\n",
    "\n",
    "conn.commit()"
   ]
  },
  {
   "cell_type": "code",
   "execution_count": 5,
   "id": "fbe71a79",
   "metadata": {},
   "outputs": [
    {
     "name": "stdout",
     "output_type": "stream",
     "text": [
      "<class 'pandas.core.frame.DataFrame'>\n",
      "RangeIndex: 32849 entries, 0 to 32848\n",
      "Data columns (total 23 columns):\n",
      " #   Column               Non-Null Count  Dtype         \n",
      "---  ------               --------------  -----         \n",
      " 0   lkupclientid         32849 non-null  int64         \n",
      " 1   dimcustomermasterid  32849 non-null  int64         \n",
      " 2   year                 32849 non-null  int64         \n",
      " 3   productgrouping      32849 non-null  object        \n",
      " 4   totalspent           32849 non-null  float64       \n",
      " 5   recentdate           32849 non-null  datetime64[ns]\n",
      " 6   attendancepercent    32849 non-null  float64       \n",
      " 7   renewedbeforedays    32849 non-null  int64         \n",
      " 8   source_tenure        32849 non-null  object        \n",
      " 9   tenure               32849 non-null  int64         \n",
      " 10  disttovenue          32849 non-null  float64       \n",
      " 11  recency              32849 non-null  int64         \n",
      " 12  missed_games_1       32849 non-null  object        \n",
      " 13  missed_games_2       32849 non-null  object        \n",
      " 14  missed_games_over_2  32849 non-null  object        \n",
      " 15  forward_records      32849 non-null  int64         \n",
      " 16  opentosendratio      32849 non-null  object        \n",
      " 17  clicktosendratio     32849 non-null  object        \n",
      " 18  clicktoopenratio     32849 non-null  object        \n",
      " 19  gender               32849 non-null  object        \n",
      " 20  phonecall            32849 non-null  int64         \n",
      " 21  inperson_contact     32849 non-null  int64         \n",
      " 22  isnextyear_buyer     32849 non-null  int64         \n",
      "dtypes: datetime64[ns](1), float64(3), int64(10), object(9)\n",
      "memory usage: 5.8+ MB\n"
     ]
    }
   ],
   "source": [
    "df.info()"
   ]
  },
  {
   "cell_type": "code",
   "execution_count": 6,
   "id": "6262abab-c625-4c5a-9ed5-735fbcf0e622",
   "metadata": {},
   "outputs": [
    {
     "data": {
      "text/plain": [
       "(10000.0, 50000.0]         12006\n",
       "(1000.0, 5000.0]           11482\n",
       "(5000.0, 10000.0]           6735\n",
       "(100.0, 500.0]              1266\n",
       "(500.0, 1000.0]             1097\n",
       "(-0.001, 100.0]              135\n",
       "(50000.0, 100000.0]          117\n",
       "(100000.0, 500000.0]          11\n",
       "(500000.0, 1000000.0]          0\n",
       "(1000000.0, 10000000.0]        0\n",
       "Name: totalspent, dtype: int64"
      ]
     },
     "execution_count": 6,
     "metadata": {},
     "output_type": "execute_result"
    }
   ],
   "source": [
    "df[\"totalspent\"].value_counts(bins=[0,100,500,1000,5000,10000,50000,100000,500000,1000000,10000000])"
   ]
  },
  {
   "cell_type": "code",
   "execution_count": 7,
   "id": "033d4ef6-9ee2-445b-b13f-12b846fef195",
   "metadata": {},
   "outputs": [
    {
     "data": {
      "text/plain": [
       "(0.0, 100.0]       22314\n",
       "(200.0, 300.0]      6940\n",
       "(100.0, 200.0]      3384\n",
       "(-170.001, 0.0]      211\n",
       "Name: renewedbeforedays, dtype: int64"
      ]
     },
     "execution_count": 7,
     "metadata": {},
     "output_type": "execute_result"
    }
   ],
   "source": [
    "df[\"renewedbeforedays\"].value_counts(bins=[-170,0,100,200,300])"
   ]
  },
  {
   "cell_type": "code",
   "execution_count": 8,
   "id": "a92c3232-e21d-4aee-8fec-605b5576eddb",
   "metadata": {},
   "outputs": [
    {
     "data": {
      "text/html": [
       "<div>\n",
       "<style scoped>\n",
       "    .dataframe tbody tr th:only-of-type {\n",
       "        vertical-align: middle;\n",
       "    }\n",
       "\n",
       "    .dataframe tbody tr th {\n",
       "        vertical-align: top;\n",
       "    }\n",
       "\n",
       "    .dataframe thead th {\n",
       "        text-align: right;\n",
       "    }\n",
       "</style>\n",
       "<table border=\"1\" class=\"dataframe\">\n",
       "  <thead>\n",
       "    <tr style=\"text-align: right;\">\n",
       "      <th></th>\n",
       "      <th>lkupclientid</th>\n",
       "      <th>dimcustomermasterid</th>\n",
       "      <th>year</th>\n",
       "      <th>productgrouping</th>\n",
       "      <th>totalspent</th>\n",
       "      <th>recentdate</th>\n",
       "      <th>attendancepercent</th>\n",
       "      <th>renewedbeforedays</th>\n",
       "      <th>source_tenure</th>\n",
       "      <th>tenure</th>\n",
       "      <th>disttovenue</th>\n",
       "      <th>recency</th>\n",
       "      <th>missed_games_1</th>\n",
       "      <th>missed_games_2</th>\n",
       "      <th>missed_games_over_2</th>\n",
       "      <th>forward_records</th>\n",
       "      <th>opentosendratio</th>\n",
       "      <th>clicktosendratio</th>\n",
       "      <th>clicktoopenratio</th>\n",
       "      <th>gender</th>\n",
       "      <th>phonecall</th>\n",
       "      <th>inperson_contact</th>\n",
       "      <th>isnextyear_buyer</th>\n",
       "    </tr>\n",
       "  </thead>\n",
       "  <tbody>\n",
       "    <tr>\n",
       "      <th>680</th>\n",
       "      <td>7</td>\n",
       "      <td>371666</td>\n",
       "      <td>2019</td>\n",
       "      <td>Quarter</td>\n",
       "      <td>1694.20</td>\n",
       "      <td>2020-03-06</td>\n",
       "      <td>0.85</td>\n",
       "      <td>-7</td>\n",
       "      <td>2555</td>\n",
       "      <td>1629</td>\n",
       "      <td>3.05</td>\n",
       "      <td>0</td>\n",
       "      <td>0</td>\n",
       "      <td>1</td>\n",
       "      <td>0</td>\n",
       "      <td>0</td>\n",
       "      <td>7.09</td>\n",
       "      <td>0.16</td>\n",
       "      <td>0.02</td>\n",
       "      <td>Unknown</td>\n",
       "      <td>0</td>\n",
       "      <td>0</td>\n",
       "      <td>0</td>\n",
       "    </tr>\n",
       "    <tr>\n",
       "      <th>1629</th>\n",
       "      <td>7</td>\n",
       "      <td>224700</td>\n",
       "      <td>2017</td>\n",
       "      <td>Mini Pack</td>\n",
       "      <td>2527.08</td>\n",
       "      <td>2018-03-29</td>\n",
       "      <td>0.67</td>\n",
       "      <td>-2</td>\n",
       "      <td>2190</td>\n",
       "      <td>536</td>\n",
       "      <td>40.54</td>\n",
       "      <td>1</td>\n",
       "      <td>2</td>\n",
       "      <td>0</td>\n",
       "      <td>0</td>\n",
       "      <td>0</td>\n",
       "      <td>0.00</td>\n",
       "      <td>0.00</td>\n",
       "      <td>0.00</td>\n",
       "      <td>Unknown</td>\n",
       "      <td>0</td>\n",
       "      <td>0</td>\n",
       "      <td>0</td>\n",
       "    </tr>\n",
       "    <tr>\n",
       "      <th>3398</th>\n",
       "      <td>7</td>\n",
       "      <td>59151</td>\n",
       "      <td>2019</td>\n",
       "      <td>Full Season</td>\n",
       "      <td>7874.00</td>\n",
       "      <td>2020-03-10</td>\n",
       "      <td>0.56</td>\n",
       "      <td>-1</td>\n",
       "      <td>1095</td>\n",
       "      <td>488</td>\n",
       "      <td>38.68</td>\n",
       "      <td>0</td>\n",
       "      <td>8</td>\n",
       "      <td>0</td>\n",
       "      <td>2</td>\n",
       "      <td>0</td>\n",
       "      <td>0.54</td>\n",
       "      <td>0.10</td>\n",
       "      <td>0.19</td>\n",
       "      <td>Unknown</td>\n",
       "      <td>0</td>\n",
       "      <td>0</td>\n",
       "      <td>0</td>\n",
       "    </tr>\n",
       "    <tr>\n",
       "      <th>3566</th>\n",
       "      <td>7</td>\n",
       "      <td>161845</td>\n",
       "      <td>2019</td>\n",
       "      <td>Half Season</td>\n",
       "      <td>8093.30</td>\n",
       "      <td>2020-03-10</td>\n",
       "      <td>1.00</td>\n",
       "      <td>-1</td>\n",
       "      <td>6935</td>\n",
       "      <td>1644</td>\n",
       "      <td>1.30</td>\n",
       "      <td>0</td>\n",
       "      <td>1</td>\n",
       "      <td>0</td>\n",
       "      <td>0</td>\n",
       "      <td>0</td>\n",
       "      <td>0.72</td>\n",
       "      <td>0.08</td>\n",
       "      <td>0.12</td>\n",
       "      <td>Unknown</td>\n",
       "      <td>0</td>\n",
       "      <td>0</td>\n",
       "      <td>0</td>\n",
       "    </tr>\n",
       "    <tr>\n",
       "      <th>5978</th>\n",
       "      <td>7</td>\n",
       "      <td>281601</td>\n",
       "      <td>2016</td>\n",
       "      <td>Quarter</td>\n",
       "      <td>2879.94</td>\n",
       "      <td>2017-04-08</td>\n",
       "      <td>1.09</td>\n",
       "      <td>-30</td>\n",
       "      <td>3650</td>\n",
       "      <td>589</td>\n",
       "      <td>21.58</td>\n",
       "      <td>0</td>\n",
       "      <td>0</td>\n",
       "      <td>0</td>\n",
       "      <td>0</td>\n",
       "      <td>0</td>\n",
       "      <td>1.25</td>\n",
       "      <td>0.37</td>\n",
       "      <td>0.29</td>\n",
       "      <td>Unknown</td>\n",
       "      <td>0</td>\n",
       "      <td>0</td>\n",
       "      <td>1</td>\n",
       "    </tr>\n",
       "  </tbody>\n",
       "</table>\n",
       "</div>"
      ],
      "text/plain": [
       "      lkupclientid  dimcustomermasterid  year productgrouping  totalspent  \\\n",
       "680              7               371666  2019         Quarter     1694.20   \n",
       "1629             7               224700  2017       Mini Pack     2527.08   \n",
       "3398             7                59151  2019     Full Season     7874.00   \n",
       "3566             7               161845  2019     Half Season     8093.30   \n",
       "5978             7               281601  2016         Quarter     2879.94   \n",
       "\n",
       "     recentdate  attendancepercent  renewedbeforedays source_tenure  tenure  \\\n",
       "680  2020-03-06               0.85                 -7          2555    1629   \n",
       "1629 2018-03-29               0.67                 -2          2190     536   \n",
       "3398 2020-03-10               0.56                 -1          1095     488   \n",
       "3566 2020-03-10               1.00                 -1          6935    1644   \n",
       "5978 2017-04-08               1.09                -30          3650     589   \n",
       "\n",
       "      disttovenue  recency missed_games_1 missed_games_2 missed_games_over_2  \\\n",
       "680          3.05        0              0              1                   0   \n",
       "1629        40.54        1              2              0                   0   \n",
       "3398        38.68        0              8              0                   2   \n",
       "3566         1.30        0              1              0                   0   \n",
       "5978        21.58        0              0              0                   0   \n",
       "\n",
       "      forward_records opentosendratio clicktosendratio clicktoopenratio  \\\n",
       "680                 0            7.09             0.16             0.02   \n",
       "1629                0            0.00             0.00             0.00   \n",
       "3398                0            0.54             0.10             0.19   \n",
       "3566                0            0.72             0.08             0.12   \n",
       "5978                0            1.25             0.37             0.29   \n",
       "\n",
       "       gender  phonecall  inperson_contact  isnextyear_buyer  \n",
       "680   Unknown          0                 0                 0  \n",
       "1629  Unknown          0                 0                 0  \n",
       "3398  Unknown          0                 0                 0  \n",
       "3566  Unknown          0                 0                 0  \n",
       "5978  Unknown          0                 0                 1  "
      ]
     },
     "execution_count": 8,
     "metadata": {},
     "output_type": "execute_result"
    }
   ],
   "source": [
    "df_negative_renewedbeforedays = df[df[\"renewedbeforedays\"] < 0]\n",
    "df_negative_renewedbeforedays.head()"
   ]
  },
  {
   "cell_type": "code",
   "execution_count": 9,
   "id": "3e6cbed7-47c5-49ad-a1c2-2c0a2e70a774",
   "metadata": {},
   "outputs": [
    {
     "data": {
      "text/plain": [
       "(500.0, 1000.0]     10849\n",
       "(100.0, 500.0]       8937\n",
       "(1000.0, 2000.0]     8931\n",
       "(2000.0, 3000.0]     3465\n",
       "(0.0, 100.0]          660\n",
       "(-35.001, 0.0]          7\n",
       "Name: tenure, dtype: int64"
      ]
     },
     "execution_count": 9,
     "metadata": {},
     "output_type": "execute_result"
    }
   ],
   "source": [
    "df[\"tenure\"].value_counts(bins=[-35,0,100,500,1000,2000,3000])"
   ]
  },
  {
   "cell_type": "code",
   "execution_count": 10,
   "id": "9f52b5f3-d2a0-4721-a34c-85eeb572e08d",
   "metadata": {},
   "outputs": [
    {
     "data": {
      "text/html": [
       "<div>\n",
       "<style scoped>\n",
       "    .dataframe tbody tr th:only-of-type {\n",
       "        vertical-align: middle;\n",
       "    }\n",
       "\n",
       "    .dataframe tbody tr th {\n",
       "        vertical-align: top;\n",
       "    }\n",
       "\n",
       "    .dataframe thead th {\n",
       "        text-align: right;\n",
       "    }\n",
       "</style>\n",
       "<table border=\"1\" class=\"dataframe\">\n",
       "  <thead>\n",
       "    <tr style=\"text-align: right;\">\n",
       "      <th></th>\n",
       "      <th>lkupclientid</th>\n",
       "      <th>dimcustomermasterid</th>\n",
       "      <th>year</th>\n",
       "      <th>productgrouping</th>\n",
       "      <th>totalspent</th>\n",
       "      <th>recentdate</th>\n",
       "      <th>attendancepercent</th>\n",
       "      <th>renewedbeforedays</th>\n",
       "      <th>source_tenure</th>\n",
       "      <th>tenure</th>\n",
       "      <th>disttovenue</th>\n",
       "      <th>recency</th>\n",
       "      <th>missed_games_1</th>\n",
       "      <th>missed_games_2</th>\n",
       "      <th>missed_games_over_2</th>\n",
       "      <th>forward_records</th>\n",
       "      <th>opentosendratio</th>\n",
       "      <th>clicktosendratio</th>\n",
       "      <th>clicktoopenratio</th>\n",
       "      <th>gender</th>\n",
       "      <th>phonecall</th>\n",
       "      <th>inperson_contact</th>\n",
       "      <th>isnextyear_buyer</th>\n",
       "    </tr>\n",
       "  </thead>\n",
       "  <tbody>\n",
       "    <tr>\n",
       "      <th>6918</th>\n",
       "      <td>7</td>\n",
       "      <td>456586</td>\n",
       "      <td>2017</td>\n",
       "      <td>Half Season</td>\n",
       "      <td>379.04</td>\n",
       "      <td>1970-01-01</td>\n",
       "      <td>0.0</td>\n",
       "      <td>-34</td>\n",
       "      <td>1825</td>\n",
       "      <td>-34</td>\n",
       "      <td>414.25</td>\n",
       "      <td>0</td>\n",
       "      <td>1</td>\n",
       "      <td>0</td>\n",
       "      <td>0</td>\n",
       "      <td>0</td>\n",
       "      <td>0.17</td>\n",
       "      <td>0.00</td>\n",
       "      <td>0.00</td>\n",
       "      <td>Unknown</td>\n",
       "      <td>0</td>\n",
       "      <td>0</td>\n",
       "      <td>0</td>\n",
       "    </tr>\n",
       "    <tr>\n",
       "      <th>18277</th>\n",
       "      <td>7</td>\n",
       "      <td>344554</td>\n",
       "      <td>2015</td>\n",
       "      <td>Full Season</td>\n",
       "      <td>282.70</td>\n",
       "      <td>1970-01-01</td>\n",
       "      <td>0.0</td>\n",
       "      <td>-4</td>\n",
       "      <td>6935</td>\n",
       "      <td>-4</td>\n",
       "      <td>5.50</td>\n",
       "      <td>0</td>\n",
       "      <td>1</td>\n",
       "      <td>0</td>\n",
       "      <td>0</td>\n",
       "      <td>0</td>\n",
       "      <td>0.00</td>\n",
       "      <td>0.00</td>\n",
       "      <td>0.00</td>\n",
       "      <td>Unknown</td>\n",
       "      <td>0</td>\n",
       "      <td>0</td>\n",
       "      <td>0</td>\n",
       "    </tr>\n",
       "    <tr>\n",
       "      <th>25443</th>\n",
       "      <td>7</td>\n",
       "      <td>571482</td>\n",
       "      <td>2016</td>\n",
       "      <td>Mini Pack</td>\n",
       "      <td>158.00</td>\n",
       "      <td>2016-10-28</td>\n",
       "      <td>1.0</td>\n",
       "      <td>-24</td>\n",
       "      <td>1825</td>\n",
       "      <td>-24</td>\n",
       "      <td>43.08</td>\n",
       "      <td>0</td>\n",
       "      <td>0</td>\n",
       "      <td>0</td>\n",
       "      <td>0</td>\n",
       "      <td>0</td>\n",
       "      <td>2.74</td>\n",
       "      <td>0.65</td>\n",
       "      <td>0.24</td>\n",
       "      <td>Unknown</td>\n",
       "      <td>0</td>\n",
       "      <td>0</td>\n",
       "      <td>1</td>\n",
       "    </tr>\n",
       "  </tbody>\n",
       "</table>\n",
       "</div>"
      ],
      "text/plain": [
       "       lkupclientid  dimcustomermasterid  year productgrouping  totalspent  \\\n",
       "6918              7               456586  2017     Half Season      379.04   \n",
       "18277             7               344554  2015     Full Season      282.70   \n",
       "25443             7               571482  2016       Mini Pack      158.00   \n",
       "\n",
       "      recentdate  attendancepercent  renewedbeforedays source_tenure  tenure  \\\n",
       "6918  1970-01-01                0.0                -34          1825     -34   \n",
       "18277 1970-01-01                0.0                 -4          6935      -4   \n",
       "25443 2016-10-28                1.0                -24          1825     -24   \n",
       "\n",
       "       disttovenue  recency missed_games_1 missed_games_2 missed_games_over_2  \\\n",
       "6918        414.25        0              1              0                   0   \n",
       "18277         5.50        0              1              0                   0   \n",
       "25443        43.08        0              0              0                   0   \n",
       "\n",
       "       forward_records opentosendratio clicktosendratio clicktoopenratio  \\\n",
       "6918                 0            0.17             0.00             0.00   \n",
       "18277                0            0.00             0.00             0.00   \n",
       "25443                0            2.74             0.65             0.24   \n",
       "\n",
       "        gender  phonecall  inperson_contact  isnextyear_buyer  \n",
       "6918   Unknown          0                 0                 0  \n",
       "18277  Unknown          0                 0                 0  \n",
       "25443  Unknown          0                 0                 1  "
      ]
     },
     "execution_count": 10,
     "metadata": {},
     "output_type": "execute_result"
    }
   ],
   "source": [
    "df_negative_tenure = df[df[\"tenure\"] < 0]\n",
    "df_negative_tenure.head()"
   ]
  },
  {
   "cell_type": "code",
   "execution_count": 11,
   "id": "35a1a047-799b-4d6f-9361-dbfc4d9a1659",
   "metadata": {},
   "outputs": [
    {
     "data": {
      "text/html": [
       "<div>\n",
       "<style scoped>\n",
       "    .dataframe tbody tr th:only-of-type {\n",
       "        vertical-align: middle;\n",
       "    }\n",
       "\n",
       "    .dataframe tbody tr th {\n",
       "        vertical-align: top;\n",
       "    }\n",
       "\n",
       "    .dataframe thead th {\n",
       "        text-align: right;\n",
       "    }\n",
       "</style>\n",
       "<table border=\"1\" class=\"dataframe\">\n",
       "  <thead>\n",
       "    <tr style=\"text-align: right;\">\n",
       "      <th></th>\n",
       "      <th>lkupclientid</th>\n",
       "      <th>dimcustomermasterid</th>\n",
       "      <th>year</th>\n",
       "      <th>productgrouping</th>\n",
       "      <th>totalspent</th>\n",
       "      <th>recentdate</th>\n",
       "      <th>attendancepercent</th>\n",
       "      <th>renewedbeforedays</th>\n",
       "      <th>source_tenure</th>\n",
       "      <th>tenure</th>\n",
       "      <th>disttovenue</th>\n",
       "      <th>recency</th>\n",
       "      <th>missed_games_1</th>\n",
       "      <th>missed_games_2</th>\n",
       "      <th>missed_games_over_2</th>\n",
       "      <th>forward_records</th>\n",
       "      <th>opentosendratio</th>\n",
       "      <th>clicktosendratio</th>\n",
       "      <th>clicktoopenratio</th>\n",
       "      <th>gender</th>\n",
       "      <th>phonecall</th>\n",
       "      <th>inperson_contact</th>\n",
       "      <th>isnextyear_buyer</th>\n",
       "    </tr>\n",
       "  </thead>\n",
       "  <tbody>\n",
       "  </tbody>\n",
       "</table>\n",
       "</div>"
      ],
      "text/plain": [
       "Empty DataFrame\n",
       "Columns: [lkupclientid, dimcustomermasterid, year, productgrouping, totalspent, recentdate, attendancepercent, renewedbeforedays, source_tenure, tenure, disttovenue, recency, missed_games_1, missed_games_2, missed_games_over_2, forward_records, opentosendratio, clicktosendratio, clicktoopenratio, gender, phonecall, inperson_contact, isnextyear_buyer]\n",
       "Index: []"
      ]
     },
     "execution_count": 11,
     "metadata": {},
     "output_type": "execute_result"
    }
   ],
   "source": [
    "df_highspend = df[df[\"totalspent\"] >= 500000]\n",
    "df_highspend.head(20)"
   ]
  },
  {
   "cell_type": "code",
   "execution_count": 12,
   "id": "03558109-e6dc-4392-8dc3-9c47fb1f6eba",
   "metadata": {},
   "outputs": [
    {
     "data": {
      "text/plain": [
       "array([2017, 2018, 2019, 2016, 2021, 2015])"
      ]
     },
     "execution_count": 12,
     "metadata": {},
     "output_type": "execute_result"
    }
   ],
   "source": [
    "df[\"year\"].unique()"
   ]
  },
  {
   "cell_type": "code",
   "execution_count": 13,
   "id": "1c8bad91-cdc3-40a7-8915-93f3048bfa53",
   "metadata": {},
   "outputs": [
    {
     "name": "stdout",
     "output_type": "stream",
     "text": [
      "Data for Modeling: (23565, 10)\n",
      "Unseen Data For Predictions: (4158, 10)\n",
      "\n"
     ]
    }
   ],
   "source": [
    "# choose the features for the stellar base retention model\n",
    "features = [\n",
    "    \"lkupclientid\",\n",
    "    \"dimcustomermasterid\",\n",
    "    \"year\", \n",
    "    \"productgrouping\",\n",
    "    \"recentdate\",\n",
    "    \"attendancepercent\",\n",
    "    \"recency\",\n",
    "    \"source_tenure\",\n",
    "    \"totalspent\",\n",
    "    \"isnextyear_buyer\"\n",
    "]\n",
    "\n",
    "# copy your main dataframe\n",
    "df_dataset = df\n",
    "\n",
    "# choose the features & train year & test year\n",
    "df_dataset = df_dataset[features]\n",
    "df_dataset[\"year\"] = pd.to_numeric(df_dataset[\"year\"])\n",
    "df_dataset = df_dataset.loc[df_dataset[\"year\"] <= 2020]\n",
    "\n",
    "df_train = df_dataset.sample(frac=0.85, random_state=786)\n",
    "df_eval = df_dataset.drop(df_train.index)\n",
    "\n",
    "df_train.reset_index(drop=True, inplace=True)\n",
    "df_eval.reset_index(drop=True, inplace=True)\n",
    "\n",
    "# print out the number of records for training and eval\n",
    "print('Data for Modeling: ' + str(df_train.shape))\n",
    "print('Unseen Data For Predictions: ' + str(df_eval.shape), end=\"\\n\\n\")"
   ]
  },
  {
   "cell_type": "code",
   "execution_count": 14,
   "id": "3eabb279-56dd-4dbf-b7da-77bd2aa7cafa",
   "metadata": {},
   "outputs": [],
   "source": [
    "setup(\n",
    "    data= df_train, \n",
    "    target=\"isnextyear_buyer\", \n",
    "    train_size = 0.85,\n",
    "    data_split_shuffle=True,\n",
    "    ignore_features=[\n",
    "        \"dimcustomermasterid\",\n",
    "        \"lkupclientid\",\n",
    "        \"productgrouping\",\n",
    "        \"year\"\n",
    "    ],\n",
    "    silent=True,\n",
    "    verbose=False,\n",
    "    numeric_features=[\n",
    "        \"attendancepercent\",\n",
    "        \"recency\",\n",
    "        \"source_tenure\",\n",
    "        \"totalspent\"\n",
    "    ]\n",
    ");"
   ]
  },
  {
   "cell_type": "code",
   "execution_count": 15,
   "id": "05742a70-860c-477f-bea9-516a0a87c508",
   "metadata": {},
   "outputs": [
    {
     "data": {
      "text/html": [
       "<style type=\"text/css\">\n",
       "#T_eab23 th {\n",
       "  text-align: left;\n",
       "}\n",
       "#T_eab23_row0_col0 {\n",
       "  text-align: left;\n",
       "}\n",
       "#T_eab23_row0_col1, #T_eab23_row0_col2, #T_eab23_row0_col3, #T_eab23_row0_col4, #T_eab23_row0_col5, #T_eab23_row0_col6, #T_eab23_row0_col7 {\n",
       "  text-align: left;\n",
       "  background-color: yellow;\n",
       "}\n",
       "#T_eab23_row0_col8 {\n",
       "  text-align: left;\n",
       "  background-color: yellow;\n",
       "  background-color: lightgrey;\n",
       "}\n",
       "</style>\n",
       "<table id=\"T_eab23\">\n",
       "  <thead>\n",
       "    <tr>\n",
       "      <th class=\"blank level0\" >&nbsp;</th>\n",
       "      <th id=\"T_eab23_level0_col0\" class=\"col_heading level0 col0\" >Model</th>\n",
       "      <th id=\"T_eab23_level0_col1\" class=\"col_heading level0 col1\" >Accuracy</th>\n",
       "      <th id=\"T_eab23_level0_col2\" class=\"col_heading level0 col2\" >AUC</th>\n",
       "      <th id=\"T_eab23_level0_col3\" class=\"col_heading level0 col3\" >Recall</th>\n",
       "      <th id=\"T_eab23_level0_col4\" class=\"col_heading level0 col4\" >Prec.</th>\n",
       "      <th id=\"T_eab23_level0_col5\" class=\"col_heading level0 col5\" >F1</th>\n",
       "      <th id=\"T_eab23_level0_col6\" class=\"col_heading level0 col6\" >Kappa</th>\n",
       "      <th id=\"T_eab23_level0_col7\" class=\"col_heading level0 col7\" >MCC</th>\n",
       "      <th id=\"T_eab23_level0_col8\" class=\"col_heading level0 col8\" >TT (Sec)</th>\n",
       "    </tr>\n",
       "  </thead>\n",
       "  <tbody>\n",
       "    <tr>\n",
       "      <th id=\"T_eab23_level0_row0\" class=\"row_heading level0 row0\" >xgboost</th>\n",
       "      <td id=\"T_eab23_row0_col0\" class=\"data row0 col0\" >Extreme Gradient Boosting</td>\n",
       "      <td id=\"T_eab23_row0_col1\" class=\"data row0 col1\" >0.8156</td>\n",
       "      <td id=\"T_eab23_row0_col2\" class=\"data row0 col2\" >0.8910</td>\n",
       "      <td id=\"T_eab23_row0_col3\" class=\"data row0 col3\" >0.8433</td>\n",
       "      <td id=\"T_eab23_row0_col4\" class=\"data row0 col4\" >0.8083</td>\n",
       "      <td id=\"T_eab23_row0_col5\" class=\"data row0 col5\" >0.8254</td>\n",
       "      <td id=\"T_eab23_row0_col6\" class=\"data row0 col6\" >0.6303</td>\n",
       "      <td id=\"T_eab23_row0_col7\" class=\"data row0 col7\" >0.6310</td>\n",
       "      <td id=\"T_eab23_row0_col8\" class=\"data row0 col8\" >1.0490</td>\n",
       "    </tr>\n",
       "  </tbody>\n",
       "</table>\n"
      ],
      "text/plain": [
       "<pandas.io.formats.style.Styler at 0x7fb2c42ffa00>"
      ]
     },
     "metadata": {},
     "output_type": "display_data"
    }
   ],
   "source": [
    "model_matrix = compare_models(\n",
    "    fold=10,\n",
    "    include=[\"xgboost\"]\n",
    ")"
   ]
  },
  {
   "cell_type": "code",
   "execution_count": 16,
   "id": "9b4716b3-5a6b-4942-a32c-7ef3e9083509",
   "metadata": {},
   "outputs": [
    {
     "data": {
      "text/html": [
       "<style type=\"text/css\">\n",
       "#T_03faa_row10_col0, #T_03faa_row10_col1, #T_03faa_row10_col2, #T_03faa_row10_col3, #T_03faa_row10_col4, #T_03faa_row10_col5, #T_03faa_row10_col6 {\n",
       "  background: yellow;\n",
       "}\n",
       "</style>\n",
       "<table id=\"T_03faa\">\n",
       "  <thead>\n",
       "    <tr>\n",
       "      <th class=\"blank level0\" >&nbsp;</th>\n",
       "      <th id=\"T_03faa_level0_col0\" class=\"col_heading level0 col0\" >Accuracy</th>\n",
       "      <th id=\"T_03faa_level0_col1\" class=\"col_heading level0 col1\" >AUC</th>\n",
       "      <th id=\"T_03faa_level0_col2\" class=\"col_heading level0 col2\" >Recall</th>\n",
       "      <th id=\"T_03faa_level0_col3\" class=\"col_heading level0 col3\" >Prec.</th>\n",
       "      <th id=\"T_03faa_level0_col4\" class=\"col_heading level0 col4\" >F1</th>\n",
       "      <th id=\"T_03faa_level0_col5\" class=\"col_heading level0 col5\" >Kappa</th>\n",
       "      <th id=\"T_03faa_level0_col6\" class=\"col_heading level0 col6\" >MCC</th>\n",
       "    </tr>\n",
       "  </thead>\n",
       "  <tbody>\n",
       "    <tr>\n",
       "      <th id=\"T_03faa_level0_row0\" class=\"row_heading level0 row0\" >0</th>\n",
       "      <td id=\"T_03faa_row0_col0\" class=\"data row0 col0\" >0.8163</td>\n",
       "      <td id=\"T_03faa_row0_col1\" class=\"data row0 col1\" >0.8907</td>\n",
       "      <td id=\"T_03faa_row0_col2\" class=\"data row0 col2\" >0.8502</td>\n",
       "      <td id=\"T_03faa_row0_col3\" class=\"data row0 col3\" >0.8051</td>\n",
       "      <td id=\"T_03faa_row0_col4\" class=\"data row0 col4\" >0.8271</td>\n",
       "      <td id=\"T_03faa_row0_col5\" class=\"data row0 col5\" >0.6314</td>\n",
       "      <td id=\"T_03faa_row0_col6\" class=\"data row0 col6\" >0.6325</td>\n",
       "    </tr>\n",
       "    <tr>\n",
       "      <th id=\"T_03faa_level0_row1\" class=\"row_heading level0 row1\" >1</th>\n",
       "      <td id=\"T_03faa_row1_col0\" class=\"data row1 col0\" >0.8173</td>\n",
       "      <td id=\"T_03faa_row1_col1\" class=\"data row1 col1\" >0.8959</td>\n",
       "      <td id=\"T_03faa_row1_col2\" class=\"data row1 col2\" >0.8435</td>\n",
       "      <td id=\"T_03faa_row1_col3\" class=\"data row1 col3\" >0.8106</td>\n",
       "      <td id=\"T_03faa_row1_col4\" class=\"data row1 col4\" >0.8267</td>\n",
       "      <td id=\"T_03faa_row1_col5\" class=\"data row1 col5\" >0.6336</td>\n",
       "      <td id=\"T_03faa_row1_col6\" class=\"data row1 col6\" >0.6342</td>\n",
       "    </tr>\n",
       "    <tr>\n",
       "      <th id=\"T_03faa_level0_row2\" class=\"row_heading level0 row2\" >2</th>\n",
       "      <td id=\"T_03faa_row2_col0\" class=\"data row2 col0\" >0.8293</td>\n",
       "      <td id=\"T_03faa_row2_col1\" class=\"data row2 col1\" >0.9025</td>\n",
       "      <td id=\"T_03faa_row2_col2\" class=\"data row2 col2\" >0.8522</td>\n",
       "      <td id=\"T_03faa_row2_col3\" class=\"data row2 col3\" >0.8235</td>\n",
       "      <td id=\"T_03faa_row2_col4\" class=\"data row2 col4\" >0.8376</td>\n",
       "      <td id=\"T_03faa_row2_col5\" class=\"data row2 col5\" >0.6577</td>\n",
       "      <td id=\"T_03faa_row2_col6\" class=\"data row2 col6\" >0.6581</td>\n",
       "    </tr>\n",
       "    <tr>\n",
       "      <th id=\"T_03faa_level0_row3\" class=\"row_heading level0 row3\" >3</th>\n",
       "      <td id=\"T_03faa_row3_col0\" class=\"data row3 col0\" >0.8263</td>\n",
       "      <td id=\"T_03faa_row3_col1\" class=\"data row3 col1\" >0.8945</td>\n",
       "      <td id=\"T_03faa_row3_col2\" class=\"data row3 col2\" >0.8531</td>\n",
       "      <td id=\"T_03faa_row3_col3\" class=\"data row3 col3\" >0.8184</td>\n",
       "      <td id=\"T_03faa_row3_col4\" class=\"data row3 col4\" >0.8354</td>\n",
       "      <td id=\"T_03faa_row3_col5\" class=\"data row3 col5\" >0.6516</td>\n",
       "      <td id=\"T_03faa_row3_col6\" class=\"data row3 col6\" >0.6523</td>\n",
       "    </tr>\n",
       "    <tr>\n",
       "      <th id=\"T_03faa_level0_row4\" class=\"row_heading level0 row4\" >4</th>\n",
       "      <td id=\"T_03faa_row4_col0\" class=\"data row4 col0\" >0.8093</td>\n",
       "      <td id=\"T_03faa_row4_col1\" class=\"data row4 col1\" >0.8816</td>\n",
       "      <td id=\"T_03faa_row4_col2\" class=\"data row4 col2\" >0.8415</td>\n",
       "      <td id=\"T_03faa_row4_col3\" class=\"data row4 col3\" >0.7998</td>\n",
       "      <td id=\"T_03faa_row4_col4\" class=\"data row4 col4\" >0.8202</td>\n",
       "      <td id=\"T_03faa_row4_col5\" class=\"data row4 col5\" >0.6175</td>\n",
       "      <td id=\"T_03faa_row4_col6\" class=\"data row4 col6\" >0.6184</td>\n",
       "    </tr>\n",
       "    <tr>\n",
       "      <th id=\"T_03faa_level0_row5\" class=\"row_heading level0 row5\" >5</th>\n",
       "      <td id=\"T_03faa_row5_col0\" class=\"data row5 col0\" >0.8053</td>\n",
       "      <td id=\"T_03faa_row5_col1\" class=\"data row5 col1\" >0.8870</td>\n",
       "      <td id=\"T_03faa_row5_col2\" class=\"data row5 col2\" >0.8367</td>\n",
       "      <td id=\"T_03faa_row5_col3\" class=\"data row5 col3\" >0.7967</td>\n",
       "      <td id=\"T_03faa_row5_col4\" class=\"data row5 col4\" >0.8162</td>\n",
       "      <td id=\"T_03faa_row5_col5\" class=\"data row5 col5\" >0.6095</td>\n",
       "      <td id=\"T_03faa_row5_col6\" class=\"data row5 col6\" >0.6103</td>\n",
       "    </tr>\n",
       "    <tr>\n",
       "      <th id=\"T_03faa_level0_row6\" class=\"row_heading level0 row6\" >6</th>\n",
       "      <td id=\"T_03faa_row6_col0\" class=\"data row6 col0\" >0.8243</td>\n",
       "      <td id=\"T_03faa_row6_col1\" class=\"data row6 col1\" >0.8998</td>\n",
       "      <td id=\"T_03faa_row6_col2\" class=\"data row6 col2\" >0.8425</td>\n",
       "      <td id=\"T_03faa_row6_col3\" class=\"data row6 col3\" >0.8219</td>\n",
       "      <td id=\"T_03faa_row6_col4\" class=\"data row6 col4\" >0.8321</td>\n",
       "      <td id=\"T_03faa_row6_col5\" class=\"data row6 col5\" >0.6478</td>\n",
       "      <td id=\"T_03faa_row6_col6\" class=\"data row6 col6\" >0.6480</td>\n",
       "    </tr>\n",
       "    <tr>\n",
       "      <th id=\"T_03faa_level0_row7\" class=\"row_heading level0 row7\" >7</th>\n",
       "      <td id=\"T_03faa_row7_col0\" class=\"data row7 col0\" >0.7998</td>\n",
       "      <td id=\"T_03faa_row7_col1\" class=\"data row7 col1\" >0.8750</td>\n",
       "      <td id=\"T_03faa_row7_col2\" class=\"data row7 col2\" >0.8329</td>\n",
       "      <td id=\"T_03faa_row7_col3\" class=\"data row7 col3\" >0.7908</td>\n",
       "      <td id=\"T_03faa_row7_col4\" class=\"data row7 col4\" >0.8113</td>\n",
       "      <td id=\"T_03faa_row7_col5\" class=\"data row7 col5\" >0.5984</td>\n",
       "      <td id=\"T_03faa_row7_col6\" class=\"data row7 col6\" >0.5993</td>\n",
       "    </tr>\n",
       "    <tr>\n",
       "      <th id=\"T_03faa_level0_row8\" class=\"row_heading level0 row8\" >8</th>\n",
       "      <td id=\"T_03faa_row8_col0\" class=\"data row8 col0\" >0.8138</td>\n",
       "      <td id=\"T_03faa_row8_col1\" class=\"data row8 col1\" >0.8906</td>\n",
       "      <td id=\"T_03faa_row8_col2\" class=\"data row8 col2\" >0.8493</td>\n",
       "      <td id=\"T_03faa_row8_col3\" class=\"data row8 col3\" >0.8020</td>\n",
       "      <td id=\"T_03faa_row8_col4\" class=\"data row8 col4\" >0.8250</td>\n",
       "      <td id=\"T_03faa_row8_col5\" class=\"data row8 col5\" >0.6264</td>\n",
       "      <td id=\"T_03faa_row8_col6\" class=\"data row8 col6\" >0.6276</td>\n",
       "    </tr>\n",
       "    <tr>\n",
       "      <th id=\"T_03faa_level0_row9\" class=\"row_heading level0 row9\" >9</th>\n",
       "      <td id=\"T_03faa_row9_col0\" class=\"data row9 col0\" >0.8148</td>\n",
       "      <td id=\"T_03faa_row9_col1\" class=\"data row9 col1\" >0.8928</td>\n",
       "      <td id=\"T_03faa_row9_col2\" class=\"data row9 col2\" >0.8309</td>\n",
       "      <td id=\"T_03faa_row9_col3\" class=\"data row9 col3\" >0.8144</td>\n",
       "      <td id=\"T_03faa_row9_col4\" class=\"data row9 col4\" >0.8226</td>\n",
       "      <td id=\"T_03faa_row9_col5\" class=\"data row9 col5\" >0.6289</td>\n",
       "      <td id=\"T_03faa_row9_col6\" class=\"data row9 col6\" >0.6290</td>\n",
       "    </tr>\n",
       "    <tr>\n",
       "      <th id=\"T_03faa_level0_row10\" class=\"row_heading level0 row10\" >Mean</th>\n",
       "      <td id=\"T_03faa_row10_col0\" class=\"data row10 col0\" >0.8156</td>\n",
       "      <td id=\"T_03faa_row10_col1\" class=\"data row10 col1\" >0.8910</td>\n",
       "      <td id=\"T_03faa_row10_col2\" class=\"data row10 col2\" >0.8433</td>\n",
       "      <td id=\"T_03faa_row10_col3\" class=\"data row10 col3\" >0.8083</td>\n",
       "      <td id=\"T_03faa_row10_col4\" class=\"data row10 col4\" >0.8254</td>\n",
       "      <td id=\"T_03faa_row10_col5\" class=\"data row10 col5\" >0.6303</td>\n",
       "      <td id=\"T_03faa_row10_col6\" class=\"data row10 col6\" >0.6310</td>\n",
       "    </tr>\n",
       "    <tr>\n",
       "      <th id=\"T_03faa_level0_row11\" class=\"row_heading level0 row11\" >SD</th>\n",
       "      <td id=\"T_03faa_row11_col0\" class=\"data row11 col0\" >0.0088</td>\n",
       "      <td id=\"T_03faa_row11_col1\" class=\"data row11 col1\" >0.0078</td>\n",
       "      <td id=\"T_03faa_row11_col2\" class=\"data row11 col2\" >0.0075</td>\n",
       "      <td id=\"T_03faa_row11_col3\" class=\"data row11 col3\" >0.0106</td>\n",
       "      <td id=\"T_03faa_row11_col4\" class=\"data row11 col4\" >0.0079</td>\n",
       "      <td id=\"T_03faa_row11_col5\" class=\"data row11 col5\" >0.0178</td>\n",
       "      <td id=\"T_03faa_row11_col6\" class=\"data row11 col6\" >0.0176</td>\n",
       "    </tr>\n",
       "  </tbody>\n",
       "</table>\n"
      ],
      "text/plain": [
       "<pandas.io.formats.style.Styler at 0x7fb2bd996850>"
      ]
     },
     "metadata": {},
     "output_type": "display_data"
    },
    {
     "name": "stderr",
     "output_type": "stream",
     "text": [
      "/Library/Frameworks/Python.framework/Versions/3.9/lib/python3.9/site-packages/xgboost/sklearn.py:1146: UserWarning: The use of label encoder in XGBClassifier is deprecated and will be removed in a future release. To remove this warning, do the following: 1) Pass option use_label_encoder=False when constructing XGBClassifier object; and 2) Encode your labels (y) as integers starting with 0, i.e. 0, 1, 2, ..., [num_class - 1].\n",
      "  warnings.warn(label_encoder_deprecation_msg, UserWarning)\n",
      "/Library/Frameworks/Python.framework/Versions/3.9/lib/python3.9/site-packages/xgboost/sklearn.py:1146: UserWarning: The use of label encoder in XGBClassifier is deprecated and will be removed in a future release. To remove this warning, do the following: 1) Pass option use_label_encoder=False when constructing XGBClassifier object; and 2) Encode your labels (y) as integers starting with 0, i.e. 0, 1, 2, ..., [num_class - 1].\n",
      "  warnings.warn(label_encoder_deprecation_msg, UserWarning)\n",
      "/Library/Frameworks/Python.framework/Versions/3.9/lib/python3.9/site-packages/xgboost/data.py:208: FutureWarning: pandas.Int64Index is deprecated and will be removed from pandas in a future version. Use pandas.Index with the appropriate dtype instead.\n",
      "  from pandas import MultiIndex, Int64Index\n",
      "/Library/Frameworks/Python.framework/Versions/3.9/lib/python3.9/site-packages/xgboost/sklearn.py:1146: UserWarning: The use of label encoder in XGBClassifier is deprecated and will be removed in a future release. To remove this warning, do the following: 1) Pass option use_label_encoder=False when constructing XGBClassifier object; and 2) Encode your labels (y) as integers starting with 0, i.e. 0, 1, 2, ..., [num_class - 1].\n",
      "  warnings.warn(label_encoder_deprecation_msg, UserWarning)\n",
      "/Library/Frameworks/Python.framework/Versions/3.9/lib/python3.9/site-packages/xgboost/sklearn.py:1146: UserWarning: The use of label encoder in XGBClassifier is deprecated and will be removed in a future release. To remove this warning, do the following: 1) Pass option use_label_encoder=False when constructing XGBClassifier object; and 2) Encode your labels (y) as integers starting with 0, i.e. 0, 1, 2, ..., [num_class - 1].\n",
      "  warnings.warn(label_encoder_deprecation_msg, UserWarning)\n",
      "/Library/Frameworks/Python.framework/Versions/3.9/lib/python3.9/site-packages/xgboost/sklearn.py:1146: UserWarning: The use of label encoder in XGBClassifier is deprecated and will be removed in a future release. To remove this warning, do the following: 1) Pass option use_label_encoder=False when constructing XGBClassifier object; and 2) Encode your labels (y) as integers starting with 0, i.e. 0, 1, 2, ..., [num_class - 1].\n",
      "  warnings.warn(label_encoder_deprecation_msg, UserWarning)\n",
      "/Library/Frameworks/Python.framework/Versions/3.9/lib/python3.9/site-packages/xgboost/data.py:208: FutureWarning: pandas.Int64Index is deprecated and will be removed from pandas in a future version. Use pandas.Index with the appropriate dtype instead.\n",
      "  from pandas import MultiIndex, Int64Index\n",
      "/Library/Frameworks/Python.framework/Versions/3.9/lib/python3.9/site-packages/xgboost/data.py:208: FutureWarning: pandas.Int64Index is deprecated and will be removed from pandas in a future version. Use pandas.Index with the appropriate dtype instead.\n",
      "  from pandas import MultiIndex, Int64Index\n",
      "/Library/Frameworks/Python.framework/Versions/3.9/lib/python3.9/site-packages/xgboost/data.py:208: FutureWarning: pandas.Int64Index is deprecated and will be removed from pandas in a future version. Use pandas.Index with the appropriate dtype instead.\n",
      "  from pandas import MultiIndex, Int64Index\n",
      "/Library/Frameworks/Python.framework/Versions/3.9/lib/python3.9/site-packages/xgboost/data.py:208: FutureWarning: pandas.Int64Index is deprecated and will be removed from pandas in a future version. Use pandas.Index with the appropriate dtype instead.\n",
      "  from pandas import MultiIndex, Int64Index\n",
      "/Library/Frameworks/Python.framework/Versions/3.9/lib/python3.9/site-packages/xgboost/sklearn.py:1146: UserWarning: The use of label encoder in XGBClassifier is deprecated and will be removed in a future release. To remove this warning, do the following: 1) Pass option use_label_encoder=False when constructing XGBClassifier object; and 2) Encode your labels (y) as integers starting with 0, i.e. 0, 1, 2, ..., [num_class - 1].\n",
      "  warnings.warn(label_encoder_deprecation_msg, UserWarning)\n",
      "/Library/Frameworks/Python.framework/Versions/3.9/lib/python3.9/site-packages/xgboost/data.py:208: FutureWarning: pandas.Int64Index is deprecated and will be removed from pandas in a future version. Use pandas.Index with the appropriate dtype instead.\n",
      "  from pandas import MultiIndex, Int64Index\n",
      "/Library/Frameworks/Python.framework/Versions/3.9/lib/python3.9/site-packages/xgboost/sklearn.py:1146: UserWarning: The use of label encoder in XGBClassifier is deprecated and will be removed in a future release. To remove this warning, do the following: 1) Pass option use_label_encoder=False when constructing XGBClassifier object; and 2) Encode your labels (y) as integers starting with 0, i.e. 0, 1, 2, ..., [num_class - 1].\n",
      "  warnings.warn(label_encoder_deprecation_msg, UserWarning)\n",
      "/Library/Frameworks/Python.framework/Versions/3.9/lib/python3.9/site-packages/xgboost/data.py:208: FutureWarning: pandas.Int64Index is deprecated and will be removed from pandas in a future version. Use pandas.Index with the appropriate dtype instead.\n",
      "  from pandas import MultiIndex, Int64Index\n",
      "/Library/Frameworks/Python.framework/Versions/3.9/lib/python3.9/site-packages/xgboost/sklearn.py:1146: UserWarning: The use of label encoder in XGBClassifier is deprecated and will be removed in a future release. To remove this warning, do the following: 1) Pass option use_label_encoder=False when constructing XGBClassifier object; and 2) Encode your labels (y) as integers starting with 0, i.e. 0, 1, 2, ..., [num_class - 1].\n",
      "  warnings.warn(label_encoder_deprecation_msg, UserWarning)\n",
      "/Library/Frameworks/Python.framework/Versions/3.9/lib/python3.9/site-packages/xgboost/data.py:208: FutureWarning: pandas.Int64Index is deprecated and will be removed from pandas in a future version. Use pandas.Index with the appropriate dtype instead.\n",
      "  from pandas import MultiIndex, Int64Index\n",
      "/Library/Frameworks/Python.framework/Versions/3.9/lib/python3.9/site-packages/xgboost/sklearn.py:1146: UserWarning: The use of label encoder in XGBClassifier is deprecated and will be removed in a future release. To remove this warning, do the following: 1) Pass option use_label_encoder=False when constructing XGBClassifier object; and 2) Encode your labels (y) as integers starting with 0, i.e. 0, 1, 2, ..., [num_class - 1].\n",
      "  warnings.warn(label_encoder_deprecation_msg, UserWarning)\n",
      "/Library/Frameworks/Python.framework/Versions/3.9/lib/python3.9/site-packages/xgboost/data.py:208: FutureWarning: pandas.Int64Index is deprecated and will be removed from pandas in a future version. Use pandas.Index with the appropriate dtype instead.\n",
      "  from pandas import MultiIndex, Int64Index\n",
      "/Library/Frameworks/Python.framework/Versions/3.9/lib/python3.9/site-packages/xgboost/sklearn.py:1146: UserWarning: The use of label encoder in XGBClassifier is deprecated and will be removed in a future release. To remove this warning, do the following: 1) Pass option use_label_encoder=False when constructing XGBClassifier object; and 2) Encode your labels (y) as integers starting with 0, i.e. 0, 1, 2, ..., [num_class - 1].\n",
      "  warnings.warn(label_encoder_deprecation_msg, UserWarning)\n",
      "/Library/Frameworks/Python.framework/Versions/3.9/lib/python3.9/site-packages/xgboost/data.py:208: FutureWarning: pandas.Int64Index is deprecated and will be removed from pandas in a future version. Use pandas.Index with the appropriate dtype instead.\n",
      "  from pandas import MultiIndex, Int64Index\n"
     ]
    }
   ],
   "source": [
    "best_model = create_model(model_matrix)\n",
    "final_model = finalize_model(best_model)"
   ]
  },
  {
   "cell_type": "code",
   "execution_count": 17,
   "id": "4487009f",
   "metadata": {},
   "outputs": [
    {
     "data": {
      "text/plain": [
       "(5126, 23)"
      ]
     },
     "execution_count": 17,
     "metadata": {},
     "output_type": "execute_result"
    }
   ],
   "source": [
    "df_inference = df.loc[df[\"year\"] >= 2021]\n",
    "df_inference = df_inference.fillna(0)\n",
    "df_inference.shape"
   ]
  },
  {
   "cell_type": "code",
   "execution_count": 18,
   "id": "3aa9448f",
   "metadata": {},
   "outputs": [
    {
     "data": {
      "text/html": [
       "<div>\n",
       "<style scoped>\n",
       "    .dataframe tbody tr th:only-of-type {\n",
       "        vertical-align: middle;\n",
       "    }\n",
       "\n",
       "    .dataframe tbody tr th {\n",
       "        vertical-align: top;\n",
       "    }\n",
       "\n",
       "    .dataframe thead th {\n",
       "        text-align: right;\n",
       "    }\n",
       "</style>\n",
       "<table border=\"1\" class=\"dataframe\">\n",
       "  <thead>\n",
       "    <tr style=\"text-align: right;\">\n",
       "      <th></th>\n",
       "      <th>lkupclientid</th>\n",
       "      <th>dimcustomermasterid</th>\n",
       "      <th>year</th>\n",
       "      <th>productgrouping</th>\n",
       "      <th>totalspent</th>\n",
       "      <th>recentdate</th>\n",
       "      <th>attendancepercent</th>\n",
       "      <th>renewedbeforedays</th>\n",
       "      <th>source_tenure</th>\n",
       "      <th>tenure</th>\n",
       "      <th>...</th>\n",
       "      <th>opentosendratio</th>\n",
       "      <th>clicktosendratio</th>\n",
       "      <th>clicktoopenratio</th>\n",
       "      <th>gender</th>\n",
       "      <th>phonecall</th>\n",
       "      <th>inperson_contact</th>\n",
       "      <th>isnextyear_buyer</th>\n",
       "      <th>Label</th>\n",
       "      <th>Score_0</th>\n",
       "      <th>Score_1</th>\n",
       "    </tr>\n",
       "  </thead>\n",
       "  <tbody>\n",
       "    <tr>\n",
       "      <th>7</th>\n",
       "      <td>7</td>\n",
       "      <td>41091</td>\n",
       "      <td>2021</td>\n",
       "      <td>Full Season</td>\n",
       "      <td>7322.6</td>\n",
       "      <td>2022-04-09</td>\n",
       "      <td>0.20</td>\n",
       "      <td>45</td>\n",
       "      <td>365</td>\n",
       "      <td>252</td>\n",
       "      <td>...</td>\n",
       "      <td>4.70</td>\n",
       "      <td>0.47</td>\n",
       "      <td>0.10</td>\n",
       "      <td>Unknown</td>\n",
       "      <td>0</td>\n",
       "      <td>0</td>\n",
       "      <td>1</td>\n",
       "      <td>0</td>\n",
       "      <td>0.6834</td>\n",
       "      <td>0.3166</td>\n",
       "    </tr>\n",
       "    <tr>\n",
       "      <th>13</th>\n",
       "      <td>7</td>\n",
       "      <td>29334</td>\n",
       "      <td>2021</td>\n",
       "      <td>Quarter</td>\n",
       "      <td>887.6</td>\n",
       "      <td>2022-04-28</td>\n",
       "      <td>0.67</td>\n",
       "      <td>30</td>\n",
       "      <td>4380</td>\n",
       "      <td>2435</td>\n",
       "      <td>...</td>\n",
       "      <td>2.89</td>\n",
       "      <td>0.22</td>\n",
       "      <td>0.08</td>\n",
       "      <td>Male</td>\n",
       "      <td>0</td>\n",
       "      <td>0</td>\n",
       "      <td>0</td>\n",
       "      <td>0</td>\n",
       "      <td>0.8394</td>\n",
       "      <td>0.1606</td>\n",
       "    </tr>\n",
       "    <tr>\n",
       "      <th>15</th>\n",
       "      <td>7</td>\n",
       "      <td>42317</td>\n",
       "      <td>2021</td>\n",
       "      <td>Full Season</td>\n",
       "      <td>8655.5</td>\n",
       "      <td>2022-03-30</td>\n",
       "      <td>0.20</td>\n",
       "      <td>102</td>\n",
       "      <td>6205</td>\n",
       "      <td>2435</td>\n",
       "      <td>...</td>\n",
       "      <td>1.92</td>\n",
       "      <td>0.14</td>\n",
       "      <td>0.07</td>\n",
       "      <td>Unknown</td>\n",
       "      <td>0</td>\n",
       "      <td>0</td>\n",
       "      <td>1</td>\n",
       "      <td>0</td>\n",
       "      <td>0.8783</td>\n",
       "      <td>0.1217</td>\n",
       "    </tr>\n",
       "    <tr>\n",
       "      <th>21</th>\n",
       "      <td>7</td>\n",
       "      <td>80024</td>\n",
       "      <td>2021</td>\n",
       "      <td>Full Season</td>\n",
       "      <td>8256.7</td>\n",
       "      <td>1970-01-01</td>\n",
       "      <td>0.00</td>\n",
       "      <td>47</td>\n",
       "      <td>1460</td>\n",
       "      <td>1015</td>\n",
       "      <td>...</td>\n",
       "      <td>1.87</td>\n",
       "      <td>0.13</td>\n",
       "      <td>0.07</td>\n",
       "      <td>Unknown</td>\n",
       "      <td>0</td>\n",
       "      <td>0</td>\n",
       "      <td>0</td>\n",
       "      <td>0</td>\n",
       "      <td>0.9585</td>\n",
       "      <td>0.0415</td>\n",
       "    </tr>\n",
       "    <tr>\n",
       "      <th>24</th>\n",
       "      <td>7</td>\n",
       "      <td>115443</td>\n",
       "      <td>2021</td>\n",
       "      <td>Full Season</td>\n",
       "      <td>8967.9</td>\n",
       "      <td>2022-04-03</td>\n",
       "      <td>0.17</td>\n",
       "      <td>102</td>\n",
       "      <td>4745</td>\n",
       "      <td>2433</td>\n",
       "      <td>...</td>\n",
       "      <td>3.43</td>\n",
       "      <td>0.09</td>\n",
       "      <td>0.03</td>\n",
       "      <td>Unknown</td>\n",
       "      <td>0</td>\n",
       "      <td>0</td>\n",
       "      <td>1</td>\n",
       "      <td>1</td>\n",
       "      <td>0.1387</td>\n",
       "      <td>0.8613</td>\n",
       "    </tr>\n",
       "  </tbody>\n",
       "</table>\n",
       "<p>5 rows × 26 columns</p>\n",
       "</div>"
      ],
      "text/plain": [
       "    lkupclientid  dimcustomermasterid  year productgrouping  totalspent  \\\n",
       "7              7                41091  2021     Full Season      7322.6   \n",
       "13             7                29334  2021         Quarter       887.6   \n",
       "15             7                42317  2021     Full Season      8655.5   \n",
       "21             7                80024  2021     Full Season      8256.7   \n",
       "24             7               115443  2021     Full Season      8967.9   \n",
       "\n",
       "   recentdate  attendancepercent  renewedbeforedays source_tenure  tenure  \\\n",
       "7  2022-04-09               0.20                 45           365     252   \n",
       "13 2022-04-28               0.67                 30          4380    2435   \n",
       "15 2022-03-30               0.20                102          6205    2435   \n",
       "21 1970-01-01               0.00                 47          1460    1015   \n",
       "24 2022-04-03               0.17                102          4745    2433   \n",
       "\n",
       "    ...  opentosendratio  clicktosendratio clicktoopenratio   gender  \\\n",
       "7   ...             4.70              0.47             0.10  Unknown   \n",
       "13  ...             2.89              0.22             0.08     Male   \n",
       "15  ...             1.92              0.14             0.07  Unknown   \n",
       "21  ...             1.87              0.13             0.07  Unknown   \n",
       "24  ...             3.43              0.09             0.03  Unknown   \n",
       "\n",
       "   phonecall  inperson_contact isnextyear_buyer Label Score_0 Score_1  \n",
       "7          0                 0                1     0  0.6834  0.3166  \n",
       "13         0                 0                0     0  0.8394  0.1606  \n",
       "15         0                 0                1     0  0.8783  0.1217  \n",
       "21         0                 0                0     0  0.9585  0.0415  \n",
       "24         0                 0                1     1  0.1387  0.8613  \n",
       "\n",
       "[5 rows x 26 columns]"
      ]
     },
     "execution_count": 18,
     "metadata": {},
     "output_type": "execute_result"
    }
   ],
   "source": [
    "new_predictions = predict_model(final_model, data=df_inference, raw_score=True)\n",
    "new_predictions.head()"
   ]
  },
  {
   "cell_type": "code",
   "execution_count": 19,
   "id": "411e4d80",
   "metadata": {},
   "outputs": [
    {
     "data": {
      "text/plain": [
       "0    2685\n",
       "1    2441\n",
       "Name: Label, dtype: int64"
      ]
     },
     "execution_count": 19,
     "metadata": {},
     "output_type": "execute_result"
    }
   ],
   "source": [
    "new_predictions[\"Label\"].value_counts()"
   ]
  },
  {
   "cell_type": "code",
   "execution_count": 20,
   "id": "bfeb9655",
   "metadata": {},
   "outputs": [
    {
     "data": {
      "image/png": "[encoded data removed]",
      "text/plain": [
       "<Figure size 576x396 with 1 Axes>"
      ]
     },
     "metadata": {},
     "output_type": "display_data"
    }
   ],
   "source": [
    "plt.hist(new_predictions[\"Score_1\"], bins=20, edgecolor='black')\n",
    "plt.title(\"Retention Scores\")\n",
    "plt.ylabel(\"Num Fans\")\n",
    "plt.xlabel(\"SA Buyer Score\")\n",
    "plt.show()"
   ]
  },
  {
   "cell_type": "code",
   "execution_count": 21,
   "id": "7e22aece-548d-49e8-a88c-c276cecd27f6",
   "metadata": {},
   "outputs": [
    {
     "data": {
      "image/png": "[encoded data removed]",
      "text/plain": [
       "<Figure size 800x500 with 1 Axes>"
      ]
     },
     "metadata": {},
     "output_type": "display_data"
    }
   ],
   "source": [
    "plot_model(final_model, plot='feature')"
   ]
  },
  {
   "cell_type": "code",
   "execution_count": 22,
   "id": "1c4f2ff5-fdf2-464a-8e6b-94e5b4c688c5",
   "metadata": {},
   "outputs": [
    {
     "data": {
      "image/png": "[encoded data removed]",
      "text/plain": [
       "<Figure size 576x396 with 1 Axes>"
      ]
     },
     "metadata": {},
     "output_type": "display_data"
    }
   ],
   "source": [
    "plot_model(final_model, plot='confusion_matrix')"
   ]
  },
  {
   "cell_type": "code",
   "execution_count": 23,
   "id": "88ef2e16-8ae3-4618-9ecd-2a94754763fc",
   "metadata": {},
   "outputs": [
    {
     "data": {
      "image/png": "[encoded data removed]",
      "text/plain": [
       "<Figure size 576x396 with 1 Axes>"
      ]
     },
     "metadata": {},
     "output_type": "display_data"
    }
   ],
   "source": [
    "plot_model(final_model, plot='auc')"
   ]
  },
  {
   "cell_type": "code",
   "execution_count": 24,
   "id": "158b38a1-5941-4d1b-aad5-2945d0a4f4b7",
   "metadata": {},
   "outputs": [
    {
     "data": {
      "application/vnd.jupyter.widget-view+json": {
       "model_id": "885bff43776c434e988a2542551bacd1",
       "version_major": 2,
       "version_minor": 0
      },
      "text/plain": [
       "Summarize dataset:   0%|          | 0/36 [00:00<?, ?it/s]"
      ]
     },
     "metadata": {},
     "output_type": "display_data"
    },
    {
     "data": {
      "application/vnd.jupyter.widget-view+json": {
       "model_id": "24044fbb7fb745da929bcd94ce81ebbe",
       "version_major": 2,
       "version_minor": 0
      },
      "text/plain": [
       "Generate report structure:   0%|          | 0/1 [00:00<?, ?it/s]"
      ]
     },
     "metadata": {},
     "output_type": "display_data"
    },
    {
     "data": {
      "application/vnd.jupyter.widget-view+json": {
       "model_id": "2ab177c224214e8e975927cf76f60ffb",
       "version_major": 2,
       "version_minor": 0
      },
      "text/plain": [
       "Render HTML:   0%|          | 0/1 [00:00<?, ?it/s]"
      ]
     },
     "metadata": {},
     "output_type": "display_data"
    },
    {
     "data": {
      "application/vnd.jupyter.widget-view+json": {
       "model_id": "fca1ca1d2fc340038a144a58e88cb293",
       "version_major": 2,
       "version_minor": 0
      },
      "text/plain": [
       "Export report to file:   0%|          | 0/1 [00:00<?, ?it/s]"
      ]
     },
     "metadata": {},
     "output_type": "display_data"
    }
   ],
   "source": [
    "report2 = ProfileReport(df)\n",
    "report2.to_file(\"canucks_data_retention_df4.html\")"
   ]
  },
  {
   "cell_type": "markdown",
   "id": "b0cc0f66-425e-44f6-9c3f-08c12aea01c1",
   "metadata": {},
   "source": [
    "## Observations for using Canucks data\n",
    "\n",
    "1. How accurate was this model? \n",
    "* The accuracy is 80% (3% lower than using all NHL data)\n",
    "\n",
    "2. How many fans will buy ticket for 2022 season?\n",
    "* 2399 fans out of 5143 (676 fans lower than using all NHL data)\n",
    "\n",
    "3. What were the most important features in making a correct prediction?\n",
    "* recentdate_month_4, recentdate_weekday_5, recentdate_month_3 are top 3 important features.\n"
   ]
  },
  {
   "cell_type": "markdown",
   "id": "71538730-5d53-468c-86c8-d4d7fc671786",
   "metadata": {},
   "source": [
    "### Done"
   ]
  }
 ],
 "metadata": {
  "kernelspec": {
   "display_name": "Python 3 (ipykernel)",
   "language": "python",
   "name": "python3"
  },
  "language_info": {
   "codemirror_mode": {
    "name": "ipython",
    "version": 3
   },
   "file_extension": ".py",
   "mimetype": "text/x-python",
   "name": "python",
   "nbconvert_exporter": "python",
   "pygments_lexer": "ipython3",
   "version": "3.9.4"
  },
  "vscode": {
   "interpreter": {
    "hash": "89f48dadab51a6b5b48ffc1a9e043c21cefe67453637c3444f3b86917b8aad16"
   }
  }
 },
 "nbformat": 4,
 "nbformat_minor": 5
}
