{
 "cells": [
  {
   "cell_type": "markdown",
   "id": "9575d83e",
   "metadata": {},
   "source": [
    "# Retention Scoring - PROD - Redshift - Canucks data\n",
    "* StellarAlgo Data Science\n",
    "* Ryan Kazmerik & Nakisa Rad\n",
    "* July 14, 2022"
   ]
  },
  {
   "cell_type": "markdown",
   "id": "62d7c5a2",
   "metadata": {},
   "source": [
    "## Hypothesis\n",
    "This notebook will test the retention model features and the goal is to check how the accuracy and scores look when we train the model only with Canucks data compared to all NHL data."
   ]
  },
  {
   "cell_type": "markdown",
   "id": "c46403a5",
   "metadata": {},
   "source": [
    "## Experiment\n",
    "This section details our experiment including querying data, data transformations, feature selection and modelling."
   ]
  },
  {
   "cell_type": "code",
   "execution_count": 125,
   "id": "df2be620",
   "metadata": {},
   "outputs": [],
   "source": [
    "import boto3\n",
    "import pandas as pd\n",
    "import matplotlib.pyplot as plt\n",
    "import psycopg2\n",
    "from pandas_profiling import ProfileReport\n",
    "from shared_utilities import helpers\n",
    "from pycaret.classification import *"
   ]
  },
  {
   "cell_type": "code",
   "execution_count": 126,
   "id": "93720795",
   "metadata": {},
   "outputs": [
    {
     "name": "stdout",
     "output_type": "stream",
     "text": [
      "Attempting to automatically open the SSO authorization page in your default browser.\n",
      "If the browser does not open or you wish to use a different device to authorize this request, open the following URL:\n",
      "\n",
      "https://device.sso.us-east-1.amazonaws.com/\n",
      "\n",
      "Then enter the code:\n",
      "\n",
      "MKJC-JVTS\n",
      "Successully logged into Start URL: https://stellaralgo.awsapps.com/start#/\n"
     ]
    }
   ],
   "source": [
    "! aws sso login --profile Stellaralgo-DataScienceAdmin"
   ]
  },
  {
   "cell_type": "code",
   "execution_count": 127,
   "id": "c41cda76-a671-416c-9df2-5e8aeebe48a1",
   "metadata": {},
   "outputs": [],
   "source": [
    "conn = helpers.get_redshift_connection('prod-app', 'stlrcanucks')"
   ]
  },
  {
   "cell_type": "code",
   "execution_count": 128,
   "id": "bf80cd96",
   "metadata": {},
   "outputs": [],
   "source": [
    "# call the stored proc to get data for the retention model\n",
    "cur = conn.cursor()\n",
    "cur.execute(f\"CALL ds.getretentionmodeldata(7,2010, 2022, 'temp_cursor')\")\n",
    "\n",
    "# create a named cursor based on the cursor name passed in above\n",
    "named_cursor = conn.cursor('temp_cursor')\n",
    "data = named_cursor.fetchall()\n",
    "\n",
    "# load the data and columns into a data frame\n",
    "cols = [row[0] for row in named_cursor.description]\n",
    "df = pd.DataFrame(data=data, columns=cols)\n",
    "\n",
    "conn.commit()"
   ]
  },
  {
   "cell_type": "code",
   "execution_count": 129,
   "id": "fbe71a79",
   "metadata": {},
   "outputs": [
    {
     "name": "stdout",
     "output_type": "stream",
     "text": [
      "<class 'pandas.core.frame.DataFrame'>\n",
      "RangeIndex: 32937 entries, 0 to 32936\n",
      "Data columns (total 23 columns):\n",
      " #   Column               Non-Null Count  Dtype         \n",
      "---  ------               --------------  -----         \n",
      " 0   lkupclientid         32937 non-null  int64         \n",
      " 1   dimcustomermasterid  32937 non-null  int64         \n",
      " 2   year                 32937 non-null  int64         \n",
      " 3   productgrouping      32937 non-null  object        \n",
      " 4   totalspent           32937 non-null  float64       \n",
      " 5   recentdate           32937 non-null  datetime64[ns]\n",
      " 6   attendancepercent    32937 non-null  float64       \n",
      " 7   renewedbeforedays    32937 non-null  int64         \n",
      " 8   source_tenure        32937 non-null  object        \n",
      " 9   tenure               32937 non-null  int64         \n",
      " 10  disttovenue          32937 non-null  float64       \n",
      " 11  recency              32937 non-null  int64         \n",
      " 12  missed_games_1       32937 non-null  object        \n",
      " 13  missed_games_2       32937 non-null  object        \n",
      " 14  missed_games_over_2  32937 non-null  object        \n",
      " 15  forward_records      32937 non-null  int64         \n",
      " 16  opentosendratio      32937 non-null  object        \n",
      " 17  clicktosendratio     32937 non-null  object        \n",
      " 18  clicktoopenratio     32937 non-null  object        \n",
      " 19  gender               32937 non-null  object        \n",
      " 20  phonecall            32937 non-null  int64         \n",
      " 21  inperson_contact     32937 non-null  int64         \n",
      " 22  isnextyear_buyer     32937 non-null  int64         \n",
      "dtypes: datetime64[ns](1), float64(3), int64(10), object(9)\n",
      "memory usage: 5.8+ MB\n"
     ]
    }
   ],
   "source": [
    "df.info()"
   ]
  },
  {
   "cell_type": "code",
   "execution_count": 130,
   "id": "03558109-e6dc-4392-8dc3-9c47fb1f6eba",
   "metadata": {},
   "outputs": [
    {
     "data": {
      "text/plain": [
       "array([2016, 2021, 2018, 2019, 2017, 2015])"
      ]
     },
     "execution_count": 130,
     "metadata": {},
     "output_type": "execute_result"
    }
   ],
   "source": [
    "df[\"year\"].unique()"
   ]
  },
  {
   "cell_type": "code",
   "execution_count": 131,
   "id": "1c8bad91-cdc3-40a7-8915-93f3048bfa53",
   "metadata": {},
   "outputs": [
    {
     "name": "stdout",
     "output_type": "stream",
     "text": [
      "Data for Modeling: (23625, 10)\n",
      "Unseen Data For Predictions: (4169, 10)\n",
      "\n"
     ]
    }
   ],
   "source": [
    "# choose the features for the stellar base retention model\n",
    "features = [\n",
    "    \"lkupclientid\",\n",
    "    \"dimcustomermasterid\",\n",
    "    \"year\", \n",
    "    \"productgrouping\",\n",
    "    \"recentdate\",\n",
    "    \"attendancepercent\",\n",
    "    \"recency\",\n",
    "    \"source_tenure\",\n",
    "    \"totalspent\",\n",
    "    \"isnextyear_buyer\"\n",
    "]\n",
    "\n",
    "# copy your main dataframe\n",
    "df_dataset = df\n",
    "\n",
    "# choose the features & train year & test year\n",
    "df_dataset = df_dataset[features]\n",
    "df_dataset[\"year\"] = pd.to_numeric(df_dataset[\"year\"])\n",
    "df_dataset = df_dataset.loc[df_dataset[\"year\"] <= 2020]\n",
    "\n",
    "df_train = df_dataset.sample(frac=0.85, random_state=786)\n",
    "df_eval = df_dataset.drop(df_train.index)\n",
    "\n",
    "df_train.reset_index(drop=True, inplace=True)\n",
    "df_eval.reset_index(drop=True, inplace=True)\n",
    "\n",
    "# print out the number of records for training and eval\n",
    "print('Data for Modeling: ' + str(df_train.shape))\n",
    "print('Unseen Data For Predictions: ' + str(df_eval.shape), end=\"\\n\\n\")"
   ]
  },
  {
   "cell_type": "code",
   "execution_count": 132,
   "id": "3eabb279-56dd-4dbf-b7da-77bd2aa7cafa",
   "metadata": {},
   "outputs": [],
   "source": [
    "setup(\n",
    "    data= df_train, \n",
    "    target=\"isnextyear_buyer\", \n",
    "    train_size = 0.85,\n",
    "    data_split_shuffle=True,\n",
    "    ignore_features=[\n",
    "        \"dimcustomermasterid\",\n",
    "        \"lkupclientid\",\n",
    "        \"productgrouping\",\n",
    "        \"year\"\n",
    "    ],\n",
    "    silent=True,\n",
    "    verbose=False,\n",
    "    numeric_features=[\n",
    "        \"attendancepercent\",\n",
    "        \"recency\",\n",
    "        \"source_tenure\",\n",
    "        \"totalspent\"\n",
    "    ]\n",
    ");"
   ]
  },
  {
   "cell_type": "code",
   "execution_count": 133,
   "id": "05742a70-860c-477f-bea9-516a0a87c508",
   "metadata": {},
   "outputs": [
    {
     "data": {
      "text/html": [
       "<style type=\"text/css\">\n",
       "#T_190da th {\n",
       "  text-align: left;\n",
       "}\n",
       "#T_190da_row0_col0 {\n",
       "  text-align: left;\n",
       "}\n",
       "#T_190da_row0_col1, #T_190da_row0_col2, #T_190da_row0_col3, #T_190da_row0_col4, #T_190da_row0_col5, #T_190da_row0_col6, #T_190da_row0_col7 {\n",
       "  text-align: left;\n",
       "  background-color: yellow;\n",
       "}\n",
       "#T_190da_row0_col8 {\n",
       "  text-align: left;\n",
       "  background-color: yellow;\n",
       "  background-color: lightgrey;\n",
       "}\n",
       "</style>\n",
       "<table id=\"T_190da\">\n",
       "  <thead>\n",
       "    <tr>\n",
       "      <th class=\"blank level0\" >&nbsp;</th>\n",
       "      <th id=\"T_190da_level0_col0\" class=\"col_heading level0 col0\" >Model</th>\n",
       "      <th id=\"T_190da_level0_col1\" class=\"col_heading level0 col1\" >Accuracy</th>\n",
       "      <th id=\"T_190da_level0_col2\" class=\"col_heading level0 col2\" >AUC</th>\n",
       "      <th id=\"T_190da_level0_col3\" class=\"col_heading level0 col3\" >Recall</th>\n",
       "      <th id=\"T_190da_level0_col4\" class=\"col_heading level0 col4\" >Prec.</th>\n",
       "      <th id=\"T_190da_level0_col5\" class=\"col_heading level0 col5\" >F1</th>\n",
       "      <th id=\"T_190da_level0_col6\" class=\"col_heading level0 col6\" >Kappa</th>\n",
       "      <th id=\"T_190da_level0_col7\" class=\"col_heading level0 col7\" >MCC</th>\n",
       "      <th id=\"T_190da_level0_col8\" class=\"col_heading level0 col8\" >TT (Sec)</th>\n",
       "    </tr>\n",
       "  </thead>\n",
       "  <tbody>\n",
       "    <tr>\n",
       "      <th id=\"T_190da_level0_row0\" class=\"row_heading level0 row0\" >xgboost</th>\n",
       "      <td id=\"T_190da_row0_col0\" class=\"data row0 col0\" >Extreme Gradient Boosting</td>\n",
       "      <td id=\"T_190da_row0_col1\" class=\"data row0 col1\" >0.8091</td>\n",
       "      <td id=\"T_190da_row0_col2\" class=\"data row0 col2\" >0.8864</td>\n",
       "      <td id=\"T_190da_row0_col3\" class=\"data row0 col3\" >0.8432</td>\n",
       "      <td id=\"T_190da_row0_col4\" class=\"data row0 col4\" >0.7994</td>\n",
       "      <td id=\"T_190da_row0_col5\" class=\"data row0 col5\" >0.8207</td>\n",
       "      <td id=\"T_190da_row0_col6\" class=\"data row0 col6\" >0.6168</td>\n",
       "      <td id=\"T_190da_row0_col7\" class=\"data row0 col7\" >0.6181</td>\n",
       "      <td id=\"T_190da_row0_col8\" class=\"data row0 col8\" >1.2280</td>\n",
       "    </tr>\n",
       "  </tbody>\n",
       "</table>\n"
      ],
      "text/plain": [
       "<pandas.io.formats.style.Styler at 0x7f8c0309ef40>"
      ]
     },
     "metadata": {},
     "output_type": "display_data"
    }
   ],
   "source": [
    "model_matrix = compare_models(\n",
    "    fold=10,\n",
    "    include=[\"xgboost\"]\n",
    ")"
   ]
  },
  {
   "cell_type": "code",
   "execution_count": 134,
   "id": "9b4716b3-5a6b-4942-a32c-7ef3e9083509",
   "metadata": {},
   "outputs": [
    {
     "data": {
      "text/html": [
       "<style type=\"text/css\">\n",
       "#T_8fcc1_row10_col0, #T_8fcc1_row10_col1, #T_8fcc1_row10_col2, #T_8fcc1_row10_col3, #T_8fcc1_row10_col4, #T_8fcc1_row10_col5, #T_8fcc1_row10_col6 {\n",
       "  background: yellow;\n",
       "}\n",
       "</style>\n",
       "<table id=\"T_8fcc1\">\n",
       "  <thead>\n",
       "    <tr>\n",
       "      <th class=\"blank level0\" >&nbsp;</th>\n",
       "      <th id=\"T_8fcc1_level0_col0\" class=\"col_heading level0 col0\" >Accuracy</th>\n",
       "      <th id=\"T_8fcc1_level0_col1\" class=\"col_heading level0 col1\" >AUC</th>\n",
       "      <th id=\"T_8fcc1_level0_col2\" class=\"col_heading level0 col2\" >Recall</th>\n",
       "      <th id=\"T_8fcc1_level0_col3\" class=\"col_heading level0 col3\" >Prec.</th>\n",
       "      <th id=\"T_8fcc1_level0_col4\" class=\"col_heading level0 col4\" >F1</th>\n",
       "      <th id=\"T_8fcc1_level0_col5\" class=\"col_heading level0 col5\" >Kappa</th>\n",
       "      <th id=\"T_8fcc1_level0_col6\" class=\"col_heading level0 col6\" >MCC</th>\n",
       "    </tr>\n",
       "  </thead>\n",
       "  <tbody>\n",
       "    <tr>\n",
       "      <th id=\"T_8fcc1_level0_row0\" class=\"row_heading level0 row0\" >0</th>\n",
       "      <td id=\"T_8fcc1_row0_col0\" class=\"data row0 col0\" >0.8019</td>\n",
       "      <td id=\"T_8fcc1_row0_col1\" class=\"data row0 col1\" >0.8822</td>\n",
       "      <td id=\"T_8fcc1_row0_col2\" class=\"data row0 col2\" >0.8252</td>\n",
       "      <td id=\"T_8fcc1_row0_col3\" class=\"data row0 col3\" >0.7991</td>\n",
       "      <td id=\"T_8fcc1_row0_col4\" class=\"data row0 col4\" >0.8119</td>\n",
       "      <td id=\"T_8fcc1_row0_col5\" class=\"data row0 col5\" >0.6028</td>\n",
       "      <td id=\"T_8fcc1_row0_col6\" class=\"data row0 col6\" >0.6031</td>\n",
       "    </tr>\n",
       "    <tr>\n",
       "      <th id=\"T_8fcc1_level0_row1\" class=\"row_heading level0 row1\" >1</th>\n",
       "      <td id=\"T_8fcc1_row1_col0\" class=\"data row1 col0\" >0.8053</td>\n",
       "      <td id=\"T_8fcc1_row1_col1\" class=\"data row1 col1\" >0.8855</td>\n",
       "      <td id=\"T_8fcc1_row1_col2\" class=\"data row1 col2\" >0.8317</td>\n",
       "      <td id=\"T_8fcc1_row1_col3\" class=\"data row1 col3\" >0.8002</td>\n",
       "      <td id=\"T_8fcc1_row1_col4\" class=\"data row1 col4\" >0.8157</td>\n",
       "      <td id=\"T_8fcc1_row1_col5\" class=\"data row1 col5\" >0.6095</td>\n",
       "      <td id=\"T_8fcc1_row1_col6\" class=\"data row1 col6\" >0.6100</td>\n",
       "    </tr>\n",
       "    <tr>\n",
       "      <th id=\"T_8fcc1_level0_row2\" class=\"row_heading level0 row2\" >2</th>\n",
       "      <td id=\"T_8fcc1_row2_col0\" class=\"data row2 col0\" >0.8003</td>\n",
       "      <td id=\"T_8fcc1_row2_col1\" class=\"data row2 col1\" >0.8766</td>\n",
       "      <td id=\"T_8fcc1_row2_col2\" class=\"data row2 col2\" >0.8183</td>\n",
       "      <td id=\"T_8fcc1_row2_col3\" class=\"data row2 col3\" >0.8006</td>\n",
       "      <td id=\"T_8fcc1_row2_col4\" class=\"data row2 col4\" >0.8093</td>\n",
       "      <td id=\"T_8fcc1_row2_col5\" class=\"data row2 col5\" >0.5998</td>\n",
       "      <td id=\"T_8fcc1_row2_col6\" class=\"data row2 col6\" >0.5999</td>\n",
       "    </tr>\n",
       "    <tr>\n",
       "      <th id=\"T_8fcc1_level0_row3\" class=\"row_heading level0 row3\" >3</th>\n",
       "      <td id=\"T_8fcc1_row3_col0\" class=\"data row3 col0\" >0.8103</td>\n",
       "      <td id=\"T_8fcc1_row3_col1\" class=\"data row3 col1\" >0.8828</td>\n",
       "      <td id=\"T_8fcc1_row3_col2\" class=\"data row3 col2\" >0.8356</td>\n",
       "      <td id=\"T_8fcc1_row3_col3\" class=\"data row3 col3\" >0.8054</td>\n",
       "      <td id=\"T_8fcc1_row3_col4\" class=\"data row3 col4\" >0.8202</td>\n",
       "      <td id=\"T_8fcc1_row3_col5\" class=\"data row3 col5\" >0.6195</td>\n",
       "      <td id=\"T_8fcc1_row3_col6\" class=\"data row3 col6\" >0.6200</td>\n",
       "    </tr>\n",
       "    <tr>\n",
       "      <th id=\"T_8fcc1_level0_row4\" class=\"row_heading level0 row4\" >4</th>\n",
       "      <td id=\"T_8fcc1_row4_col0\" class=\"data row4 col0\" >0.8152</td>\n",
       "      <td id=\"T_8fcc1_row4_col1\" class=\"data row4 col1\" >0.8903</td>\n",
       "      <td id=\"T_8fcc1_row4_col2\" class=\"data row4 col2\" >0.8490</td>\n",
       "      <td id=\"T_8fcc1_row4_col3\" class=\"data row4 col3\" >0.8049</td>\n",
       "      <td id=\"T_8fcc1_row4_col4\" class=\"data row4 col4\" >0.8264</td>\n",
       "      <td id=\"T_8fcc1_row4_col5\" class=\"data row4 col5\" >0.6292</td>\n",
       "      <td id=\"T_8fcc1_row4_col6\" class=\"data row4 col6\" >0.6303</td>\n",
       "    </tr>\n",
       "    <tr>\n",
       "      <th id=\"T_8fcc1_level0_row5\" class=\"row_heading level0 row5\" >5</th>\n",
       "      <td id=\"T_8fcc1_row5_col0\" class=\"data row5 col0\" >0.8127</td>\n",
       "      <td id=\"T_8fcc1_row5_col1\" class=\"data row5 col1\" >0.8889</td>\n",
       "      <td id=\"T_8fcc1_row5_col2\" class=\"data row5 col2\" >0.8654</td>\n",
       "      <td id=\"T_8fcc1_row5_col3\" class=\"data row5 col3\" >0.7923</td>\n",
       "      <td id=\"T_8fcc1_row5_col4\" class=\"data row5 col4\" >0.8272</td>\n",
       "      <td id=\"T_8fcc1_row5_col5\" class=\"data row5 col5\" >0.6237</td>\n",
       "      <td id=\"T_8fcc1_row5_col6\" class=\"data row5 col6\" >0.6266</td>\n",
       "    </tr>\n",
       "    <tr>\n",
       "      <th id=\"T_8fcc1_level0_row6\" class=\"row_heading level0 row6\" >6</th>\n",
       "      <td id=\"T_8fcc1_row6_col0\" class=\"data row6 col0\" >0.8008</td>\n",
       "      <td id=\"T_8fcc1_row6_col1\" class=\"data row6 col1\" >0.8877</td>\n",
       "      <td id=\"T_8fcc1_row6_col2\" class=\"data row6 col2\" >0.8559</td>\n",
       "      <td id=\"T_8fcc1_row6_col3\" class=\"data row6 col3\" >0.7809</td>\n",
       "      <td id=\"T_8fcc1_row6_col4\" class=\"data row6 col4\" >0.8167</td>\n",
       "      <td id=\"T_8fcc1_row6_col5\" class=\"data row6 col5\" >0.5996</td>\n",
       "      <td id=\"T_8fcc1_row6_col6\" class=\"data row6 col6\" >0.6026</td>\n",
       "    </tr>\n",
       "    <tr>\n",
       "      <th id=\"T_8fcc1_level0_row7\" class=\"row_heading level0 row7\" >7</th>\n",
       "      <td id=\"T_8fcc1_row7_col0\" class=\"data row7 col0\" >0.8123</td>\n",
       "      <td id=\"T_8fcc1_row7_col1\" class=\"data row7 col1\" >0.8822</td>\n",
       "      <td id=\"T_8fcc1_row7_col2\" class=\"data row7 col2\" >0.8549</td>\n",
       "      <td id=\"T_8fcc1_row7_col3\" class=\"data row7 col3\" >0.7975</td>\n",
       "      <td id=\"T_8fcc1_row7_col4\" class=\"data row7 col4\" >0.8252</td>\n",
       "      <td id=\"T_8fcc1_row7_col5\" class=\"data row7 col5\" >0.6230</td>\n",
       "      <td id=\"T_8fcc1_row7_col6\" class=\"data row7 col6\" >0.6247</td>\n",
       "    </tr>\n",
       "    <tr>\n",
       "      <th id=\"T_8fcc1_level0_row8\" class=\"row_heading level0 row8\" >8</th>\n",
       "      <td id=\"T_8fcc1_row8_col0\" class=\"data row8 col0\" >0.8197</td>\n",
       "      <td id=\"T_8fcc1_row8_col1\" class=\"data row8 col1\" >0.8976</td>\n",
       "      <td id=\"T_8fcc1_row8_col2\" class=\"data row8 col2\" >0.8501</td>\n",
       "      <td id=\"T_8fcc1_row8_col3\" class=\"data row8 col3\" >0.8112</td>\n",
       "      <td id=\"T_8fcc1_row8_col4\" class=\"data row8 col4\" >0.8302</td>\n",
       "      <td id=\"T_8fcc1_row8_col5\" class=\"data row8 col5\" >0.6383</td>\n",
       "      <td id=\"T_8fcc1_row8_col6\" class=\"data row8 col6\" >0.6391</td>\n",
       "    </tr>\n",
       "    <tr>\n",
       "      <th id=\"T_8fcc1_level0_row9\" class=\"row_heading level0 row9\" >9</th>\n",
       "      <td id=\"T_8fcc1_row9_col0\" class=\"data row9 col0\" >0.8123</td>\n",
       "      <td id=\"T_8fcc1_row9_col1\" class=\"data row9 col1\" >0.8901</td>\n",
       "      <td id=\"T_8fcc1_row9_col2\" class=\"data row9 col2\" >0.8463</td>\n",
       "      <td id=\"T_8fcc1_row9_col3\" class=\"data row9 col3\" >0.8024</td>\n",
       "      <td id=\"T_8fcc1_row9_col4\" class=\"data row9 col4\" >0.8237</td>\n",
       "      <td id=\"T_8fcc1_row9_col5\" class=\"data row9 col5\" >0.6232</td>\n",
       "      <td id=\"T_8fcc1_row9_col6\" class=\"data row9 col6\" >0.6242</td>\n",
       "    </tr>\n",
       "    <tr>\n",
       "      <th id=\"T_8fcc1_level0_row10\" class=\"row_heading level0 row10\" >Mean</th>\n",
       "      <td id=\"T_8fcc1_row10_col0\" class=\"data row10 col0\" >0.8091</td>\n",
       "      <td id=\"T_8fcc1_row10_col1\" class=\"data row10 col1\" >0.8864</td>\n",
       "      <td id=\"T_8fcc1_row10_col2\" class=\"data row10 col2\" >0.8432</td>\n",
       "      <td id=\"T_8fcc1_row10_col3\" class=\"data row10 col3\" >0.7994</td>\n",
       "      <td id=\"T_8fcc1_row10_col4\" class=\"data row10 col4\" >0.8207</td>\n",
       "      <td id=\"T_8fcc1_row10_col5\" class=\"data row10 col5\" >0.6168</td>\n",
       "      <td id=\"T_8fcc1_row10_col6\" class=\"data row10 col6\" >0.6181</td>\n",
       "    </tr>\n",
       "    <tr>\n",
       "      <th id=\"T_8fcc1_level0_row11\" class=\"row_heading level0 row11\" >SD</th>\n",
       "      <td id=\"T_8fcc1_row11_col0\" class=\"data row11 col0\" >0.0063</td>\n",
       "      <td id=\"T_8fcc1_row11_col1\" class=\"data row11 col1\" >0.0055</td>\n",
       "      <td id=\"T_8fcc1_row11_col2\" class=\"data row11 col2\" >0.0142</td>\n",
       "      <td id=\"T_8fcc1_row11_col3\" class=\"data row11 col3\" >0.0078</td>\n",
       "      <td id=\"T_8fcc1_row11_col4\" class=\"data row11 col4\" >0.0067</td>\n",
       "      <td id=\"T_8fcc1_row11_col5\" class=\"data row11 col5\" >0.0126</td>\n",
       "      <td id=\"T_8fcc1_row11_col6\" class=\"data row11 col6\" >0.0127</td>\n",
       "    </tr>\n",
       "  </tbody>\n",
       "</table>\n"
      ],
      "text/plain": [
       "<pandas.io.formats.style.Styler at 0x7f8bfcc89310>"
      ]
     },
     "metadata": {},
     "output_type": "display_data"
    },
    {
     "name": "stderr",
     "output_type": "stream",
     "text": [
      "/Library/Frameworks/Python.framework/Versions/3.9/lib/python3.9/site-packages/xgboost/sklearn.py:1146: UserWarning: The use of label encoder in XGBClassifier is deprecated and will be removed in a future release. To remove this warning, do the following: 1) Pass option use_label_encoder=False when constructing XGBClassifier object; and 2) Encode your labels (y) as integers starting with 0, i.e. 0, 1, 2, ..., [num_class - 1].\n",
      "  warnings.warn(label_encoder_deprecation_msg, UserWarning)\n",
      "/Library/Frameworks/Python.framework/Versions/3.9/lib/python3.9/site-packages/xgboost/sklearn.py:1146: UserWarning: The use of label encoder in XGBClassifier is deprecated and will be removed in a future release. To remove this warning, do the following: 1) Pass option use_label_encoder=False when constructing XGBClassifier object; and 2) Encode your labels (y) as integers starting with 0, i.e. 0, 1, 2, ..., [num_class - 1].\n",
      "  warnings.warn(label_encoder_deprecation_msg, UserWarning)\n",
      "/Library/Frameworks/Python.framework/Versions/3.9/lib/python3.9/site-packages/xgboost/sklearn.py:1146: UserWarning: The use of label encoder in XGBClassifier is deprecated and will be removed in a future release. To remove this warning, do the following: 1) Pass option use_label_encoder=False when constructing XGBClassifier object; and 2) Encode your labels (y) as integers starting with 0, i.e. 0, 1, 2, ..., [num_class - 1].\n",
      "  warnings.warn(label_encoder_deprecation_msg, UserWarning)\n",
      "/Library/Frameworks/Python.framework/Versions/3.9/lib/python3.9/site-packages/xgboost/data.py:208: FutureWarning: pandas.Int64Index is deprecated and will be removed from pandas in a future version. Use pandas.Index with the appropriate dtype instead.\n",
      "  from pandas import MultiIndex, Int64Index\n",
      "/Library/Frameworks/Python.framework/Versions/3.9/lib/python3.9/site-packages/xgboost/data.py:208: FutureWarning: pandas.Int64Index is deprecated and will be removed from pandas in a future version. Use pandas.Index with the appropriate dtype instead.\n",
      "  from pandas import MultiIndex, Int64Index\n",
      "/Library/Frameworks/Python.framework/Versions/3.9/lib/python3.9/site-packages/xgboost/data.py:208: FutureWarning: pandas.Int64Index is deprecated and will be removed from pandas in a future version. Use pandas.Index with the appropriate dtype instead.\n",
      "  from pandas import MultiIndex, Int64Index\n",
      "/Library/Frameworks/Python.framework/Versions/3.9/lib/python3.9/site-packages/xgboost/sklearn.py:1146: UserWarning: The use of label encoder in XGBClassifier is deprecated and will be removed in a future release. To remove this warning, do the following: 1) Pass option use_label_encoder=False when constructing XGBClassifier object; and 2) Encode your labels (y) as integers starting with 0, i.e. 0, 1, 2, ..., [num_class - 1].\n",
      "  warnings.warn(label_encoder_deprecation_msg, UserWarning)\n",
      "/Library/Frameworks/Python.framework/Versions/3.9/lib/python3.9/site-packages/xgboost/data.py:208: FutureWarning: pandas.Int64Index is deprecated and will be removed from pandas in a future version. Use pandas.Index with the appropriate dtype instead.\n",
      "  from pandas import MultiIndex, Int64Index\n",
      "/Library/Frameworks/Python.framework/Versions/3.9/lib/python3.9/site-packages/xgboost/sklearn.py:1146: UserWarning: The use of label encoder in XGBClassifier is deprecated and will be removed in a future release. To remove this warning, do the following: 1) Pass option use_label_encoder=False when constructing XGBClassifier object; and 2) Encode your labels (y) as integers starting with 0, i.e. 0, 1, 2, ..., [num_class - 1].\n",
      "  warnings.warn(label_encoder_deprecation_msg, UserWarning)\n",
      "/Library/Frameworks/Python.framework/Versions/3.9/lib/python3.9/site-packages/xgboost/data.py:208: FutureWarning: pandas.Int64Index is deprecated and will be removed from pandas in a future version. Use pandas.Index with the appropriate dtype instead.\n",
      "  from pandas import MultiIndex, Int64Index\n",
      "/Library/Frameworks/Python.framework/Versions/3.9/lib/python3.9/site-packages/xgboost/sklearn.py:1146: UserWarning: The use of label encoder in XGBClassifier is deprecated and will be removed in a future release. To remove this warning, do the following: 1) Pass option use_label_encoder=False when constructing XGBClassifier object; and 2) Encode your labels (y) as integers starting with 0, i.e. 0, 1, 2, ..., [num_class - 1].\n",
      "  warnings.warn(label_encoder_deprecation_msg, UserWarning)\n",
      "/Library/Frameworks/Python.framework/Versions/3.9/lib/python3.9/site-packages/xgboost/data.py:208: FutureWarning: pandas.Int64Index is deprecated and will be removed from pandas in a future version. Use pandas.Index with the appropriate dtype instead.\n",
      "  from pandas import MultiIndex, Int64Index\n",
      "/Library/Frameworks/Python.framework/Versions/3.9/lib/python3.9/site-packages/xgboost/sklearn.py:1146: UserWarning: The use of label encoder in XGBClassifier is deprecated and will be removed in a future release. To remove this warning, do the following: 1) Pass option use_label_encoder=False when constructing XGBClassifier object; and 2) Encode your labels (y) as integers starting with 0, i.e. 0, 1, 2, ..., [num_class - 1].\n",
      "  warnings.warn(label_encoder_deprecation_msg, UserWarning)\n",
      "/Library/Frameworks/Python.framework/Versions/3.9/lib/python3.9/site-packages/xgboost/sklearn.py:1146: UserWarning: The use of label encoder in XGBClassifier is deprecated and will be removed in a future release. To remove this warning, do the following: 1) Pass option use_label_encoder=False when constructing XGBClassifier object; and 2) Encode your labels (y) as integers starting with 0, i.e. 0, 1, 2, ..., [num_class - 1].\n",
      "  warnings.warn(label_encoder_deprecation_msg, UserWarning)\n",
      "/Library/Frameworks/Python.framework/Versions/3.9/lib/python3.9/site-packages/xgboost/data.py:208: FutureWarning: pandas.Int64Index is deprecated and will be removed from pandas in a future version. Use pandas.Index with the appropriate dtype instead.\n",
      "  from pandas import MultiIndex, Int64Index\n",
      "/Library/Frameworks/Python.framework/Versions/3.9/lib/python3.9/site-packages/xgboost/data.py:208: FutureWarning: pandas.Int64Index is deprecated and will be removed from pandas in a future version. Use pandas.Index with the appropriate dtype instead.\n",
      "  from pandas import MultiIndex, Int64Index\n",
      "/Library/Frameworks/Python.framework/Versions/3.9/lib/python3.9/site-packages/xgboost/sklearn.py:1146: UserWarning: The use of label encoder in XGBClassifier is deprecated and will be removed in a future release. To remove this warning, do the following: 1) Pass option use_label_encoder=False when constructing XGBClassifier object; and 2) Encode your labels (y) as integers starting with 0, i.e. 0, 1, 2, ..., [num_class - 1].\n",
      "  warnings.warn(label_encoder_deprecation_msg, UserWarning)\n",
      "/Library/Frameworks/Python.framework/Versions/3.9/lib/python3.9/site-packages/xgboost/data.py:208: FutureWarning: pandas.Int64Index is deprecated and will be removed from pandas in a future version. Use pandas.Index with the appropriate dtype instead.\n",
      "  from pandas import MultiIndex, Int64Index\n",
      "/Library/Frameworks/Python.framework/Versions/3.9/lib/python3.9/site-packages/xgboost/sklearn.py:1146: UserWarning: The use of label encoder in XGBClassifier is deprecated and will be removed in a future release. To remove this warning, do the following: 1) Pass option use_label_encoder=False when constructing XGBClassifier object; and 2) Encode your labels (y) as integers starting with 0, i.e. 0, 1, 2, ..., [num_class - 1].\n",
      "  warnings.warn(label_encoder_deprecation_msg, UserWarning)\n",
      "/Library/Frameworks/Python.framework/Versions/3.9/lib/python3.9/site-packages/xgboost/data.py:208: FutureWarning: pandas.Int64Index is deprecated and will be removed from pandas in a future version. Use pandas.Index with the appropriate dtype instead.\n",
      "  from pandas import MultiIndex, Int64Index\n"
     ]
    }
   ],
   "source": [
    "best_model = create_model(model_matrix)\n",
    "final_model = finalize_model(best_model)"
   ]
  },
  {
   "cell_type": "code",
   "execution_count": 135,
   "id": "4487009f",
   "metadata": {},
   "outputs": [
    {
     "data": {
      "text/plain": [
       "(5143, 23)"
      ]
     },
     "execution_count": 135,
     "metadata": {},
     "output_type": "execute_result"
    }
   ],
   "source": [
    "df_inference = df.loc[df[\"year\"] >= 2021]\n",
    "df_inference = df_inference.fillna(0)\n",
    "df_inference.shape"
   ]
  },
  {
   "cell_type": "code",
   "execution_count": 136,
   "id": "3aa9448f",
   "metadata": {},
   "outputs": [
    {
     "data": {
      "text/html": [
       "<div>\n",
       "<style scoped>\n",
       "    .dataframe tbody tr th:only-of-type {\n",
       "        vertical-align: middle;\n",
       "    }\n",
       "\n",
       "    .dataframe tbody tr th {\n",
       "        vertical-align: top;\n",
       "    }\n",
       "\n",
       "    .dataframe thead th {\n",
       "        text-align: right;\n",
       "    }\n",
       "</style>\n",
       "<table border=\"1\" class=\"dataframe\">\n",
       "  <thead>\n",
       "    <tr style=\"text-align: right;\">\n",
       "      <th></th>\n",
       "      <th>lkupclientid</th>\n",
       "      <th>dimcustomermasterid</th>\n",
       "      <th>year</th>\n",
       "      <th>productgrouping</th>\n",
       "      <th>totalspent</th>\n",
       "      <th>recentdate</th>\n",
       "      <th>attendancepercent</th>\n",
       "      <th>renewedbeforedays</th>\n",
       "      <th>source_tenure</th>\n",
       "      <th>tenure</th>\n",
       "      <th>...</th>\n",
       "      <th>opentosendratio</th>\n",
       "      <th>clicktosendratio</th>\n",
       "      <th>clicktoopenratio</th>\n",
       "      <th>gender</th>\n",
       "      <th>phonecall</th>\n",
       "      <th>inperson_contact</th>\n",
       "      <th>isnextyear_buyer</th>\n",
       "      <th>Label</th>\n",
       "      <th>Score_0</th>\n",
       "      <th>Score_1</th>\n",
       "    </tr>\n",
       "  </thead>\n",
       "  <tbody>\n",
       "    <tr>\n",
       "      <th>1</th>\n",
       "      <td>7</td>\n",
       "      <td>8828</td>\n",
       "      <td>2021</td>\n",
       "      <td>Full Season</td>\n",
       "      <td>505.0</td>\n",
       "      <td>2022-04-28</td>\n",
       "      <td>2.00</td>\n",
       "      <td>0</td>\n",
       "      <td>1460</td>\n",
       "      <td>946</td>\n",
       "      <td>...</td>\n",
       "      <td>0.34</td>\n",
       "      <td>0.23</td>\n",
       "      <td>0.67</td>\n",
       "      <td>Unknown</td>\n",
       "      <td>0</td>\n",
       "      <td>0</td>\n",
       "      <td>0</td>\n",
       "      <td>0</td>\n",
       "      <td>0.9815</td>\n",
       "      <td>0.0185</td>\n",
       "    </tr>\n",
       "    <tr>\n",
       "      <th>4</th>\n",
       "      <td>7</td>\n",
       "      <td>9046</td>\n",
       "      <td>2021</td>\n",
       "      <td>Full Season</td>\n",
       "      <td>12330.8</td>\n",
       "      <td>1970-01-01</td>\n",
       "      <td>0.00</td>\n",
       "      <td>95</td>\n",
       "      <td>730</td>\n",
       "      <td>302</td>\n",
       "      <td>...</td>\n",
       "      <td>0.88</td>\n",
       "      <td>0.00</td>\n",
       "      <td>0.00</td>\n",
       "      <td>Unknown</td>\n",
       "      <td>0</td>\n",
       "      <td>0</td>\n",
       "      <td>1</td>\n",
       "      <td>0</td>\n",
       "      <td>0.9988</td>\n",
       "      <td>0.0012</td>\n",
       "    </tr>\n",
       "    <tr>\n",
       "      <th>5</th>\n",
       "      <td>7</td>\n",
       "      <td>11878</td>\n",
       "      <td>2021</td>\n",
       "      <td>Full Season</td>\n",
       "      <td>13266.9</td>\n",
       "      <td>2022-04-03</td>\n",
       "      <td>0.09</td>\n",
       "      <td>102</td>\n",
       "      <td>11315</td>\n",
       "      <td>2435</td>\n",
       "      <td>...</td>\n",
       "      <td>3.53</td>\n",
       "      <td>0.13</td>\n",
       "      <td>0.04</td>\n",
       "      <td>Unknown</td>\n",
       "      <td>0</td>\n",
       "      <td>0</td>\n",
       "      <td>1</td>\n",
       "      <td>1</td>\n",
       "      <td>0.0964</td>\n",
       "      <td>0.9036</td>\n",
       "    </tr>\n",
       "    <tr>\n",
       "      <th>7</th>\n",
       "      <td>7</td>\n",
       "      <td>6018</td>\n",
       "      <td>2021</td>\n",
       "      <td>Full Season</td>\n",
       "      <td>5820.5</td>\n",
       "      <td>2022-04-14</td>\n",
       "      <td>0.14</td>\n",
       "      <td>102</td>\n",
       "      <td>1825</td>\n",
       "      <td>1694</td>\n",
       "      <td>...</td>\n",
       "      <td>3.84</td>\n",
       "      <td>0.04</td>\n",
       "      <td>0.01</td>\n",
       "      <td>Unknown</td>\n",
       "      <td>0</td>\n",
       "      <td>0</td>\n",
       "      <td>1</td>\n",
       "      <td>0</td>\n",
       "      <td>0.6867</td>\n",
       "      <td>0.3133</td>\n",
       "    </tr>\n",
       "    <tr>\n",
       "      <th>8</th>\n",
       "      <td>7</td>\n",
       "      <td>18902</td>\n",
       "      <td>2021</td>\n",
       "      <td>Quarter</td>\n",
       "      <td>511.7</td>\n",
       "      <td>2022-04-14</td>\n",
       "      <td>1.00</td>\n",
       "      <td>20</td>\n",
       "      <td>1095</td>\n",
       "      <td>771</td>\n",
       "      <td>...</td>\n",
       "      <td>1.21</td>\n",
       "      <td>0.11</td>\n",
       "      <td>0.09</td>\n",
       "      <td>Unknown</td>\n",
       "      <td>0</td>\n",
       "      <td>0</td>\n",
       "      <td>0</td>\n",
       "      <td>0</td>\n",
       "      <td>0.9959</td>\n",
       "      <td>0.0041</td>\n",
       "    </tr>\n",
       "  </tbody>\n",
       "</table>\n",
       "<p>5 rows × 26 columns</p>\n",
       "</div>"
      ],
      "text/plain": [
       "   lkupclientid  dimcustomermasterid  year productgrouping  totalspent  \\\n",
       "1             7                 8828  2021     Full Season       505.0   \n",
       "4             7                 9046  2021     Full Season     12330.8   \n",
       "5             7                11878  2021     Full Season     13266.9   \n",
       "7             7                 6018  2021     Full Season      5820.5   \n",
       "8             7                18902  2021         Quarter       511.7   \n",
       "\n",
       "  recentdate  attendancepercent  renewedbeforedays source_tenure  tenure  ...  \\\n",
       "1 2022-04-28               2.00                  0          1460     946  ...   \n",
       "4 1970-01-01               0.00                 95           730     302  ...   \n",
       "5 2022-04-03               0.09                102         11315    2435  ...   \n",
       "7 2022-04-14               0.14                102          1825    1694  ...   \n",
       "8 2022-04-14               1.00                 20          1095     771  ...   \n",
       "\n",
       "   opentosendratio  clicktosendratio clicktoopenratio   gender phonecall  \\\n",
       "1             0.34              0.23             0.67  Unknown         0   \n",
       "4             0.88              0.00             0.00  Unknown         0   \n",
       "5             3.53              0.13             0.04  Unknown         0   \n",
       "7             3.84              0.04             0.01  Unknown         0   \n",
       "8             1.21              0.11             0.09  Unknown         0   \n",
       "\n",
       "   inperson_contact isnextyear_buyer Label Score_0 Score_1  \n",
       "1                 0                0     0  0.9815  0.0185  \n",
       "4                 0                1     0  0.9988  0.0012  \n",
       "5                 0                1     1  0.0964  0.9036  \n",
       "7                 0                1     0  0.6867  0.3133  \n",
       "8                 0                0     0  0.9959  0.0041  \n",
       "\n",
       "[5 rows x 26 columns]"
      ]
     },
     "execution_count": 136,
     "metadata": {},
     "output_type": "execute_result"
    }
   ],
   "source": [
    "new_predictions = predict_model(final_model, data=df_inference, raw_score=True)\n",
    "new_predictions.head()"
   ]
  },
  {
   "cell_type": "code",
   "execution_count": 137,
   "id": "411e4d80",
   "metadata": {},
   "outputs": [
    {
     "data": {
      "text/plain": [
       "0    2621\n",
       "1    2522\n",
       "Name: Label, dtype: int64"
      ]
     },
     "execution_count": 137,
     "metadata": {},
     "output_type": "execute_result"
    }
   ],
   "source": [
    "new_predictions[\"Label\"].value_counts()"
   ]
  },
  {
   "cell_type": "code",
   "execution_count": 138,
   "id": "bfeb9655",
   "metadata": {},
   "outputs": [
    {
     "data": {
      "image/png": "[encoded data removed]",
      "text/plain": [
       "<Figure size 576x396 with 1 Axes>"
      ]
     },
     "metadata": {},
     "output_type": "display_data"
    }
   ],
   "source": [
    "plt.hist(new_predictions[\"Score_1\"], bins=20, edgecolor='black')\n",
    "plt.title(\"Retention Scores\")\n",
    "plt.ylabel(\"Num Fans\")\n",
    "plt.xlabel(\"SA Buyer Score\")\n",
    "plt.show()"
   ]
  },
  {
   "cell_type": "code",
   "execution_count": 139,
   "id": "7e22aece-548d-49e8-a88c-c276cecd27f6",
   "metadata": {},
   "outputs": [
    {
     "data": {
      "image/png": "[encoded data removed]",
      "text/plain": [
       "<Figure size 800x500 with 1 Axes>"
      ]
     },
     "metadata": {},
     "output_type": "display_data"
    }
   ],
   "source": [
    "plot_model(final_model, plot='feature')"
   ]
  },
  {
   "cell_type": "code",
   "execution_count": 140,
   "id": "1c4f2ff5-fdf2-464a-8e6b-94e5b4c688c5",
   "metadata": {},
   "outputs": [
    {
     "data": {
      "image/png": "[encoded data removed]",
      "text/plain": [
       "<Figure size 576x396 with 1 Axes>"
      ]
     },
     "metadata": {},
     "output_type": "display_data"
    }
   ],
   "source": [
    "plot_model(final_model, plot='confusion_matrix')"
   ]
  },
  {
   "cell_type": "code",
   "execution_count": 141,
   "id": "88ef2e16-8ae3-4618-9ecd-2a94754763fc",
   "metadata": {},
   "outputs": [
    {
     "data": {
      "image/png": "[encoded data removed]",
      "text/plain": [
       "<Figure size 576x396 with 1 Axes>"
      ]
     },
     "metadata": {},
     "output_type": "display_data"
    }
   ],
   "source": [
    "plot_model(final_model, plot='auc')"
   ]
  },
  {
   "cell_type": "code",
   "execution_count": 142,
   "id": "608c7123-a675-4e58-b79b-9d809720fc0c",
   "metadata": {},
   "outputs": [
    {
     "data": {
      "application/vnd.jupyter.widget-view+json": {
       "model_id": "73e3f0e26d2a4ea28401c68de7c7e622",
       "version_major": 2,
       "version_minor": 0
      },
      "text/plain": [
       "Summarize dataset:   0%|          | 0/40 [00:00<?, ?it/s]"
      ]
     },
     "metadata": {},
     "output_type": "display_data"
    },
    {
     "data": {
      "application/vnd.jupyter.widget-view+json": {
       "model_id": "4cc489e150aa4e89970710f0102efdb9",
       "version_major": 2,
       "version_minor": 0
      },
      "text/plain": [
       "Generate report structure:   0%|          | 0/1 [00:00<?, ?it/s]"
      ]
     },
     "metadata": {},
     "output_type": "display_data"
    },
    {
     "data": {
      "application/vnd.jupyter.widget-view+json": {
       "model_id": "8293dd788e504cf2a0d0b940d6f4f358",
       "version_major": 2,
       "version_minor": 0
      },
      "text/plain": [
       "Render HTML:   0%|          | 0/1 [00:00<?, ?it/s]"
      ]
     },
     "metadata": {},
     "output_type": "display_data"
    },
    {
     "data": {
      "application/vnd.jupyter.widget-view+json": {
       "model_id": "5a952fb7c7f94f6ab16f1f6049956b19",
       "version_major": 2,
       "version_minor": 0
      },
      "text/plain": [
       "Export report to file:   0%|          | 0/1 [00:00<?, ?it/s]"
      ]
     },
     "metadata": {},
     "output_type": "display_data"
    }
   ],
   "source": [
    "report = ProfileReport(new_predictions)\n",
    "#report\n",
    "report.to_file(\"canucks_data_retention_predictions.html\")"
   ]
  },
  {
   "cell_type": "code",
   "execution_count": 143,
   "id": "158b38a1-5941-4d1b-aad5-2945d0a4f4b7",
   "metadata": {},
   "outputs": [
    {
     "data": {
      "application/vnd.jupyter.widget-view+json": {
       "model_id": "92345cfcf1de4e67826d67f2978dc754",
       "version_major": 2,
       "version_minor": 0
      },
      "text/plain": [
       "Summarize dataset:   0%|          | 0/36 [00:00<?, ?it/s]"
      ]
     },
     "metadata": {},
     "output_type": "display_data"
    },
    {
     "data": {
      "application/vnd.jupyter.widget-view+json": {
       "model_id": "e7161d92d29f437f944b1de340ab2ccb",
       "version_major": 2,
       "version_minor": 0
      },
      "text/plain": [
       "Generate report structure:   0%|          | 0/1 [00:00<?, ?it/s]"
      ]
     },
     "metadata": {},
     "output_type": "display_data"
    },
    {
     "data": {
      "application/vnd.jupyter.widget-view+json": {
       "model_id": "77f2b1e0ca634eb38a64c06f7ffe201a",
       "version_major": 2,
       "version_minor": 0
      },
      "text/plain": [
       "Render HTML:   0%|          | 0/1 [00:00<?, ?it/s]"
      ]
     },
     "metadata": {},
     "output_type": "display_data"
    },
    {
     "data": {
      "application/vnd.jupyter.widget-view+json": {
       "model_id": "77d8f9af92954300909d247d28851ed1",
       "version_major": 2,
       "version_minor": 0
      },
      "text/plain": [
       "Export report to file:   0%|          | 0/1 [00:00<?, ?it/s]"
      ]
     },
     "metadata": {},
     "output_type": "display_data"
    }
   ],
   "source": [
    "report2 = ProfileReport(df)\n",
    "report2.to_file(\"canucks_data_retention_df.html\")"
   ]
  },
  {
   "cell_type": "markdown",
   "id": "b0cc0f66-425e-44f6-9c3f-08c12aea01c1",
   "metadata": {},
   "source": [
    "## Observations for using Canucks data\n",
    "\n",
    "1. How accurate was this model? \n",
    "* The accuracy is 81% (3% lower than using all NHL data)\n",
    "\n",
    "2. How many fans will buy ticket for 2022 season?\n",
    "* 2571 fans out of 5143 (676 fans lower than using all NHL data)\n",
    "\n",
    "3. What were the most important features in making a correct prediction?\n",
    "* recentdate_month_4, recentdate_weekday_5, recentdate_month_3 are top 3 important features.\n"
   ]
  },
  {
   "cell_type": "markdown",
   "id": "71538730-5d53-468c-86c8-d4d7fc671786",
   "metadata": {},
   "source": [
    "### Done"
   ]
  }
 ],
 "metadata": {
  "kernelspec": {
   "display_name": "Python 3 (ipykernel)",
   "language": "python",
   "name": "python3"
  },
  "language_info": {
   "codemirror_mode": {
    "name": "ipython",
    "version": 3
   },
   "file_extension": ".py",
   "mimetype": "text/x-python",
   "name": "python",
   "nbconvert_exporter": "python",
   "pygments_lexer": "ipython3",
   "version": "3.9.4"
  },
  "vscode": {
   "interpreter": {
    "hash": "89f48dadab51a6b5b48ffc1a9e043c21cefe67453637c3444f3b86917b8aad16"
   }
  }
 },
 "nbformat": 4,
 "nbformat_minor": 5
}
