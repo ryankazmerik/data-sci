{
 "cells": [
  {
   "cell_type": "markdown",
   "id": "9575d83e",
   "metadata": {},
   "source": [
    "# Retention Scoring - PROD - Redshift - Canucks data\n",
    "* StellarAlgo Data Science\n",
    "* Ryan Kazmerik & Nakisa Rad\n",
    "* July 14, 2022"
   ]
  },
  {
   "cell_type": "markdown",
   "id": "62d7c5a2",
   "metadata": {},
   "source": [
    "## Hypothesis\n",
    "This notebook will test the retention model features and the goal is to check how the accuracy and scores look when we train the model only with Canucks data compared to all NHL data."
   ]
  },
  {
   "cell_type": "markdown",
   "id": "c46403a5",
   "metadata": {},
   "source": [
    "## Experiment\n",
    "This section details our experiment including querying data, data transformations, feature selection and modelling."
   ]
  },
  {
   "cell_type": "code",
   "execution_count": 60,
   "id": "df2be620",
   "metadata": {},
   "outputs": [],
   "source": [
    "import boto3\n",
    "import pandas as pd\n",
    "import matplotlib.pyplot as plt\n",
    "import psycopg2\n",
    "from shared_utilities import helpers\n",
    "from pycaret.classification import *"
   ]
  },
  {
   "cell_type": "code",
   "execution_count": 61,
   "id": "93720795",
   "metadata": {},
   "outputs": [
    {
     "name": "stdout",
     "output_type": "stream",
     "text": [
      "Attempting to automatically open the SSO authorization page in your default browser.\n",
      "If the browser does not open or you wish to use a different device to authorize this request, open the following URL:\n",
      "\n",
      "https://device.sso.us-east-1.amazonaws.com/\n",
      "\n",
      "Then enter the code:\n",
      "\n",
      "FWRD-WVTH\n",
      "Successully logged into Start URL: https://stellaralgo.awsapps.com/start#/\n"
     ]
    }
   ],
   "source": [
    "! aws sso login --profile Stellaralgo-DataScienceAdmin"
   ]
  },
  {
   "cell_type": "code",
   "execution_count": 62,
   "id": "c41cda76-a671-416c-9df2-5e8aeebe48a1",
   "metadata": {},
   "outputs": [],
   "source": [
    "conn = helpers.get_redshift_connection('prod-app', 'stlrcanucks')"
   ]
  },
  {
   "cell_type": "code",
   "execution_count": 63,
   "id": "bf80cd96",
   "metadata": {},
   "outputs": [],
   "source": [
    "# call the stored proc to get data for the retention model\n",
    "cur = conn.cursor()\n",
    "cur.execute(f\"CALL ds.getretentionmodeldata(7,2010, 2022, 'temp_cursor')\")\n",
    "\n",
    "# create a named cursor based on the cursor name passed in above\n",
    "named_cursor = conn.cursor('temp_cursor')\n",
    "data = named_cursor.fetchall()\n",
    "\n",
    "# load the data and columns into a data frame\n",
    "cols = [row[0] for row in named_cursor.description]\n",
    "df = pd.DataFrame(data=data, columns=cols)\n",
    "\n",
    "conn.commit()"
   ]
  },
  {
   "cell_type": "code",
   "execution_count": 64,
   "id": "fbe71a79",
   "metadata": {},
   "outputs": [
    {
     "name": "stdout",
     "output_type": "stream",
     "text": [
      "<class 'pandas.core.frame.DataFrame'>\n",
      "RangeIndex: 32937 entries, 0 to 32936\n",
      "Data columns (total 23 columns):\n",
      " #   Column               Non-Null Count  Dtype         \n",
      "---  ------               --------------  -----         \n",
      " 0   lkupclientid         32937 non-null  int64         \n",
      " 1   dimcustomermasterid  32937 non-null  int64         \n",
      " 2   year                 32937 non-null  int64         \n",
      " 3   productgrouping      32937 non-null  object        \n",
      " 4   totalspent           32937 non-null  float64       \n",
      " 5   recentdate           32937 non-null  datetime64[ns]\n",
      " 6   attendancepercent    32937 non-null  float64       \n",
      " 7   renewedbeforedays    32937 non-null  int64         \n",
      " 8   source_tenure        32937 non-null  object        \n",
      " 9   tenure               32937 non-null  int64         \n",
      " 10  disttovenue          32937 non-null  float64       \n",
      " 11  recency              32937 non-null  int64         \n",
      " 12  missed_games_1       32937 non-null  object        \n",
      " 13  missed_games_2       32937 non-null  object        \n",
      " 14  missed_games_over_2  32937 non-null  object        \n",
      " 15  forward_records      32937 non-null  int64         \n",
      " 16  opentosendratio      32937 non-null  object        \n",
      " 17  clicktosendratio     32937 non-null  object        \n",
      " 18  clicktoopenratio     32937 non-null  object        \n",
      " 19  gender               32937 non-null  object        \n",
      " 20  phonecall            32937 non-null  int64         \n",
      " 21  inperson_contact     32937 non-null  int64         \n",
      " 22  isnextyear_buyer     32937 non-null  int64         \n",
      "dtypes: datetime64[ns](1), float64(3), int64(10), object(9)\n",
      "memory usage: 5.8+ MB\n"
     ]
    }
   ],
   "source": [
    "df.info()"
   ]
  },
  {
   "cell_type": "code",
   "execution_count": 48,
   "id": "03558109-e6dc-4392-8dc3-9c47fb1f6eba",
   "metadata": {},
   "outputs": [
    {
     "data": {
      "text/plain": [
       "array([2017, 2016, 2021, 2019, 2018, 2015])"
      ]
     },
     "execution_count": 48,
     "metadata": {},
     "output_type": "execute_result"
    }
   ],
   "source": [
    "df[\"year\"].unique()"
   ]
  },
  {
   "cell_type": "code",
   "execution_count": 49,
   "id": "1c8bad91-cdc3-40a7-8915-93f3048bfa53",
   "metadata": {},
   "outputs": [
    {
     "name": "stdout",
     "output_type": "stream",
     "text": [
      "Data for Modeling: (23625, 23)\n",
      "Unseen Data For Predictions: (4169, 23)\n",
      "\n"
     ]
    }
   ],
   "source": [
    "# choose the features for the stellar base retention model\n",
    "features = [\n",
    "    \"lkupclientid\",\n",
    "    \"dimcustomermasterid\",\n",
    "    \"year\", \n",
    "    \"productgrouping\",\n",
    "    \"totalspent\",\n",
    "    \"recentdate\",\n",
    "    \"attendancepercent\",\n",
    "    \"renewedbeforedays\",\n",
    "    \"source_tenure\",\n",
    "    \"tenure\",\n",
    "    \"disttovenue\",\n",
    "    \"recency\",\n",
    "    \"missed_games_1\",\n",
    "    \"missed_games_2\",\n",
    "    \"missed_games_over_2\",\n",
    "    \"forward_records\",\n",
    "    \"opentosendratio\",\n",
    "    \"clicktosendratio\",\n",
    "    \"clicktoopenratio\",\n",
    "    \"gender\",\n",
    "    \"phonecall\",\n",
    "    \"inperson_contact\",\n",
    "    \"isnextyear_buyer\"\n",
    "]\n",
    "\n",
    "# copy your main dataframe\n",
    "df_dataset = df\n",
    "\n",
    "# choose the features & train year & test year\n",
    "df_dataset = df_dataset[features]\n",
    "df_dataset[\"year\"] = pd.to_numeric(df_dataset[\"year\"])\n",
    "df_dataset = df_dataset.loc[df_dataset[\"year\"] <= 2020]\n",
    "\n",
    "df_train = df_dataset.sample(frac=0.85, random_state=786)\n",
    "df_eval = df_dataset.drop(df_train.index)\n",
    "\n",
    "df_train.reset_index(drop=True, inplace=True)\n",
    "df_eval.reset_index(drop=True, inplace=True)\n",
    "\n",
    "# print out the number of records for training and eval\n",
    "print('Data for Modeling: ' + str(df_train.shape))\n",
    "print('Unseen Data For Predictions: ' + str(df_eval.shape), end=\"\\n\\n\")"
   ]
  },
  {
   "cell_type": "code",
   "execution_count": 50,
   "id": "3eabb279-56dd-4dbf-b7da-77bd2aa7cafa",
   "metadata": {},
   "outputs": [],
   "source": [
    "setup(\n",
    "    data= df_train, \n",
    "    target=\"isnextyear_buyer\", \n",
    "    train_size = 0.85,\n",
    "    data_split_shuffle=True,\n",
    "    ignore_features=[\n",
    "        \"dimcustomermasterid\",\n",
    "        \"lkupclientid\",\n",
    "        \"productgrouping\",\n",
    "        \"year\"\n",
    "    ],\n",
    "    silent=True,\n",
    "    verbose=False,\n",
    "    numeric_features=[\n",
    "        \"opentosendratio\",\n",
    "        \"clicktosendratio\",\n",
    "        \"clicktoopenratio\",\n",
    "        \"attendancepercent\",\n",
    "        \"forward_records\",\n",
    "        \"disttovenue\",\n",
    "        \"missed_games_1\",\n",
    "        \"missed_games_2\",\n",
    "        \"missed_games_over_2\",\n",
    "        \"recency\",\n",
    "        \"phonecall\",\n",
    "        \"renewedbeforedays\",\n",
    "        \"source_tenure\",\n",
    "        \"totalspent\"\n",
    "    ]\n",
    ");"
   ]
  },
  {
   "cell_type": "code",
   "execution_count": 51,
   "id": "05742a70-860c-477f-bea9-516a0a87c508",
   "metadata": {},
   "outputs": [
    {
     "data": {
      "text/html": [
       "<style type=\"text/css\">\n",
       "#T_fedbd th {\n",
       "  text-align: left;\n",
       "}\n",
       "#T_fedbd_row0_col0 {\n",
       "  text-align: left;\n",
       "}\n",
       "#T_fedbd_row0_col1, #T_fedbd_row0_col2, #T_fedbd_row0_col3, #T_fedbd_row0_col4, #T_fedbd_row0_col5, #T_fedbd_row0_col6, #T_fedbd_row0_col7 {\n",
       "  text-align: left;\n",
       "  background-color: yellow;\n",
       "}\n",
       "#T_fedbd_row0_col8 {\n",
       "  text-align: left;\n",
       "  background-color: yellow;\n",
       "  background-color: lightgrey;\n",
       "}\n",
       "</style>\n",
       "<table id=\"T_fedbd\">\n",
       "  <thead>\n",
       "    <tr>\n",
       "      <th class=\"blank level0\" >&nbsp;</th>\n",
       "      <th id=\"T_fedbd_level0_col0\" class=\"col_heading level0 col0\" >Model</th>\n",
       "      <th id=\"T_fedbd_level0_col1\" class=\"col_heading level0 col1\" >Accuracy</th>\n",
       "      <th id=\"T_fedbd_level0_col2\" class=\"col_heading level0 col2\" >AUC</th>\n",
       "      <th id=\"T_fedbd_level0_col3\" class=\"col_heading level0 col3\" >Recall</th>\n",
       "      <th id=\"T_fedbd_level0_col4\" class=\"col_heading level0 col4\" >Prec.</th>\n",
       "      <th id=\"T_fedbd_level0_col5\" class=\"col_heading level0 col5\" >F1</th>\n",
       "      <th id=\"T_fedbd_level0_col6\" class=\"col_heading level0 col6\" >Kappa</th>\n",
       "      <th id=\"T_fedbd_level0_col7\" class=\"col_heading level0 col7\" >MCC</th>\n",
       "      <th id=\"T_fedbd_level0_col8\" class=\"col_heading level0 col8\" >TT (Sec)</th>\n",
       "    </tr>\n",
       "  </thead>\n",
       "  <tbody>\n",
       "    <tr>\n",
       "      <th id=\"T_fedbd_level0_row0\" class=\"row_heading level0 row0\" >lightgbm</th>\n",
       "      <td id=\"T_fedbd_row0_col0\" class=\"data row0 col0\" >Light Gradient Boosting Machine</td>\n",
       "      <td id=\"T_fedbd_row0_col1\" class=\"data row0 col1\" >0.8264</td>\n",
       "      <td id=\"T_fedbd_row0_col2\" class=\"data row0 col2\" >0.9069</td>\n",
       "      <td id=\"T_fedbd_row0_col3\" class=\"data row0 col3\" >0.8593</td>\n",
       "      <td id=\"T_fedbd_row0_col4\" class=\"data row0 col4\" >0.8143</td>\n",
       "      <td id=\"T_fedbd_row0_col5\" class=\"data row0 col5\" >0.8362</td>\n",
       "      <td id=\"T_fedbd_row0_col6\" class=\"data row0 col6\" >0.6518</td>\n",
       "      <td id=\"T_fedbd_row0_col7\" class=\"data row0 col7\" >0.6530</td>\n",
       "      <td id=\"T_fedbd_row0_col8\" class=\"data row0 col8\" >0.3440</td>\n",
       "    </tr>\n",
       "  </tbody>\n",
       "</table>\n"
      ],
      "text/plain": [
       "<pandas.io.formats.style.Styler at 0x7f8bd6af50a0>"
      ]
     },
     "metadata": {},
     "output_type": "display_data"
    }
   ],
   "source": [
    "model_matrix = compare_models(\n",
    "    fold=10,\n",
    "    include=[\"lightgbm\"]\n",
    ")"
   ]
  },
  {
   "cell_type": "code",
   "execution_count": 52,
   "id": "9b4716b3-5a6b-4942-a32c-7ef3e9083509",
   "metadata": {},
   "outputs": [
    {
     "data": {
      "text/html": [
       "<style type=\"text/css\">\n",
       "#T_9a59a_row10_col0, #T_9a59a_row10_col1, #T_9a59a_row10_col2, #T_9a59a_row10_col3, #T_9a59a_row10_col4, #T_9a59a_row10_col5, #T_9a59a_row10_col6 {\n",
       "  background: yellow;\n",
       "}\n",
       "</style>\n",
       "<table id=\"T_9a59a\">\n",
       "  <thead>\n",
       "    <tr>\n",
       "      <th class=\"blank level0\" >&nbsp;</th>\n",
       "      <th id=\"T_9a59a_level0_col0\" class=\"col_heading level0 col0\" >Accuracy</th>\n",
       "      <th id=\"T_9a59a_level0_col1\" class=\"col_heading level0 col1\" >AUC</th>\n",
       "      <th id=\"T_9a59a_level0_col2\" class=\"col_heading level0 col2\" >Recall</th>\n",
       "      <th id=\"T_9a59a_level0_col3\" class=\"col_heading level0 col3\" >Prec.</th>\n",
       "      <th id=\"T_9a59a_level0_col4\" class=\"col_heading level0 col4\" >F1</th>\n",
       "      <th id=\"T_9a59a_level0_col5\" class=\"col_heading level0 col5\" >Kappa</th>\n",
       "      <th id=\"T_9a59a_level0_col6\" class=\"col_heading level0 col6\" >MCC</th>\n",
       "    </tr>\n",
       "  </thead>\n",
       "  <tbody>\n",
       "    <tr>\n",
       "      <th id=\"T_9a59a_level0_row0\" class=\"row_heading level0 row0\" >0</th>\n",
       "      <td id=\"T_9a59a_row0_col0\" class=\"data row0 col0\" >0.8228</td>\n",
       "      <td id=\"T_9a59a_row0_col1\" class=\"data row0 col1\" >0.9059</td>\n",
       "      <td id=\"T_9a59a_row0_col2\" class=\"data row0 col2\" >0.8523</td>\n",
       "      <td id=\"T_9a59a_row0_col3\" class=\"data row0 col3\" >0.8131</td>\n",
       "      <td id=\"T_9a59a_row0_col4\" class=\"data row0 col4\" >0.8322</td>\n",
       "      <td id=\"T_9a59a_row0_col5\" class=\"data row0 col5\" >0.6447</td>\n",
       "      <td id=\"T_9a59a_row0_col6\" class=\"data row0 col6\" >0.6455</td>\n",
       "    </tr>\n",
       "    <tr>\n",
       "      <th id=\"T_9a59a_level0_row1\" class=\"row_heading level0 row1\" >1</th>\n",
       "      <td id=\"T_9a59a_row1_col0\" class=\"data row1 col0\" >0.8302</td>\n",
       "      <td id=\"T_9a59a_row1_col1\" class=\"data row1 col1\" >0.9084</td>\n",
       "      <td id=\"T_9a59a_row1_col2\" class=\"data row1 col2\" >0.8687</td>\n",
       "      <td id=\"T_9a59a_row1_col3\" class=\"data row1 col3\" >0.8145</td>\n",
       "      <td id=\"T_9a59a_row1_col4\" class=\"data row1 col4\" >0.8407</td>\n",
       "      <td id=\"T_9a59a_row1_col5\" class=\"data row1 col5\" >0.6593</td>\n",
       "      <td id=\"T_9a59a_row1_col6\" class=\"data row1 col6\" >0.6608</td>\n",
       "    </tr>\n",
       "    <tr>\n",
       "      <th id=\"T_9a59a_level0_row2\" class=\"row_heading level0 row2\" >2</th>\n",
       "      <td id=\"T_9a59a_row2_col0\" class=\"data row2 col0\" >0.8262</td>\n",
       "      <td id=\"T_9a59a_row2_col1\" class=\"data row2 col1\" >0.9089</td>\n",
       "      <td id=\"T_9a59a_row2_col2\" class=\"data row2 col2\" >0.8629</td>\n",
       "      <td id=\"T_9a59a_row2_col3\" class=\"data row2 col3\" >0.8120</td>\n",
       "      <td id=\"T_9a59a_row2_col4\" class=\"data row2 col4\" >0.8367</td>\n",
       "      <td id=\"T_9a59a_row2_col5\" class=\"data row2 col5\" >0.6513</td>\n",
       "      <td id=\"T_9a59a_row2_col6\" class=\"data row2 col6\" >0.6527</td>\n",
       "    </tr>\n",
       "    <tr>\n",
       "      <th id=\"T_9a59a_level0_row3\" class=\"row_heading level0 row3\" >3</th>\n",
       "      <td id=\"T_9a59a_row3_col0\" class=\"data row3 col0\" >0.8232</td>\n",
       "      <td id=\"T_9a59a_row3_col1\" class=\"data row3 col1\" >0.9077</td>\n",
       "      <td id=\"T_9a59a_row3_col2\" class=\"data row3 col2\" >0.8456</td>\n",
       "      <td id=\"T_9a59a_row3_col3\" class=\"data row3 col3\" >0.8179</td>\n",
       "      <td id=\"T_9a59a_row3_col4\" class=\"data row3 col4\" >0.8315</td>\n",
       "      <td id=\"T_9a59a_row3_col5\" class=\"data row3 col5\" >0.6457</td>\n",
       "      <td id=\"T_9a59a_row3_col6\" class=\"data row3 col6\" >0.6461</td>\n",
       "    </tr>\n",
       "    <tr>\n",
       "      <th id=\"T_9a59a_level0_row4\" class=\"row_heading level0 row4\" >4</th>\n",
       "      <td id=\"T_9a59a_row4_col0\" class=\"data row4 col0\" >0.8372</td>\n",
       "      <td id=\"T_9a59a_row4_col1\" class=\"data row4 col1\" >0.9097</td>\n",
       "      <td id=\"T_9a59a_row4_col2\" class=\"data row4 col2\" >0.8784</td>\n",
       "      <td id=\"T_9a59a_row4_col3\" class=\"data row4 col3\" >0.8191</td>\n",
       "      <td id=\"T_9a59a_row4_col4\" class=\"data row4 col4\" >0.8477</td>\n",
       "      <td id=\"T_9a59a_row4_col5\" class=\"data row4 col5\" >0.6732</td>\n",
       "      <td id=\"T_9a59a_row4_col6\" class=\"data row4 col6\" >0.6751</td>\n",
       "    </tr>\n",
       "    <tr>\n",
       "      <th id=\"T_9a59a_level0_row5\" class=\"row_heading level0 row5\" >5</th>\n",
       "      <td id=\"T_9a59a_row5_col0\" class=\"data row5 col0\" >0.8247</td>\n",
       "      <td id=\"T_9a59a_row5_col1\" class=\"data row5 col1\" >0.9079</td>\n",
       "      <td id=\"T_9a59a_row5_col2\" class=\"data row5 col2\" >0.8473</td>\n",
       "      <td id=\"T_9a59a_row5_col3\" class=\"data row5 col3\" >0.8189</td>\n",
       "      <td id=\"T_9a59a_row5_col4\" class=\"data row5 col4\" >0.8329</td>\n",
       "      <td id=\"T_9a59a_row5_col5\" class=\"data row5 col5\" >0.6487</td>\n",
       "      <td id=\"T_9a59a_row5_col6\" class=\"data row5 col6\" >0.6491</td>\n",
       "    </tr>\n",
       "    <tr>\n",
       "      <th id=\"T_9a59a_level0_row6\" class=\"row_heading level0 row6\" >6</th>\n",
       "      <td id=\"T_9a59a_row6_col0\" class=\"data row6 col0\" >0.8182</td>\n",
       "      <td id=\"T_9a59a_row6_col1\" class=\"data row6 col1\" >0.8980</td>\n",
       "      <td id=\"T_9a59a_row6_col2\" class=\"data row6 col2\" >0.8609</td>\n",
       "      <td id=\"T_9a59a_row6_col3\" class=\"data row6 col3\" >0.8013</td>\n",
       "      <td id=\"T_9a59a_row6_col4\" class=\"data row6 col4\" >0.8300</td>\n",
       "      <td id=\"T_9a59a_row6_col5\" class=\"data row6 col5\" >0.6352</td>\n",
       "      <td id=\"T_9a59a_row6_col6\" class=\"data row6 col6\" >0.6371</td>\n",
       "    </tr>\n",
       "    <tr>\n",
       "      <th id=\"T_9a59a_level0_row7\" class=\"row_heading level0 row7\" >7</th>\n",
       "      <td id=\"T_9a59a_row7_col0\" class=\"data row7 col0\" >0.8282</td>\n",
       "      <td id=\"T_9a59a_row7_col1\" class=\"data row7 col1\" >0.9019</td>\n",
       "      <td id=\"T_9a59a_row7_col2\" class=\"data row7 col2\" >0.8676</td>\n",
       "      <td id=\"T_9a59a_row7_col3\" class=\"data row7 col3\" >0.8119</td>\n",
       "      <td id=\"T_9a59a_row7_col4\" class=\"data row7 col4\" >0.8389</td>\n",
       "      <td id=\"T_9a59a_row7_col5\" class=\"data row7 col5\" >0.6553</td>\n",
       "      <td id=\"T_9a59a_row7_col6\" class=\"data row7 col6\" >0.6569</td>\n",
       "    </tr>\n",
       "    <tr>\n",
       "      <th id=\"T_9a59a_level0_row8\" class=\"row_heading level0 row8\" >8</th>\n",
       "      <td id=\"T_9a59a_row8_col0\" class=\"data row8 col0\" >0.8088</td>\n",
       "      <td id=\"T_9a59a_row8_col1\" class=\"data row8 col1\" >0.9017</td>\n",
       "      <td id=\"T_9a59a_row8_col2\" class=\"data row8 col2\" >0.8290</td>\n",
       "      <td id=\"T_9a59a_row8_col3\" class=\"data row8 col3\" >0.8056</td>\n",
       "      <td id=\"T_9a59a_row8_col4\" class=\"data row8 col4\" >0.8171</td>\n",
       "      <td id=\"T_9a59a_row8_col5\" class=\"data row8 col5\" >0.6168</td>\n",
       "      <td id=\"T_9a59a_row8_col6\" class=\"data row8 col6\" >0.6171</td>\n",
       "    </tr>\n",
       "    <tr>\n",
       "      <th id=\"T_9a59a_level0_row9\" class=\"row_heading level0 row9\" >9</th>\n",
       "      <td id=\"T_9a59a_row9_col0\" class=\"data row9 col0\" >0.8446</td>\n",
       "      <td id=\"T_9a59a_row9_col1\" class=\"data row9 col1\" >0.9194</td>\n",
       "      <td id=\"T_9a59a_row9_col2\" class=\"data row9 col2\" >0.8802</td>\n",
       "      <td id=\"T_9a59a_row9_col3\" class=\"data row9 col3\" >0.8289</td>\n",
       "      <td id=\"T_9a59a_row9_col4\" class=\"data row9 col4\" >0.8538</td>\n",
       "      <td id=\"T_9a59a_row9_col5\" class=\"data row9 col5\" >0.6883</td>\n",
       "      <td id=\"T_9a59a_row9_col6\" class=\"data row9 col6\" >0.6897</td>\n",
       "    </tr>\n",
       "    <tr>\n",
       "      <th id=\"T_9a59a_level0_row10\" class=\"row_heading level0 row10\" >Mean</th>\n",
       "      <td id=\"T_9a59a_row10_col0\" class=\"data row10 col0\" >0.8264</td>\n",
       "      <td id=\"T_9a59a_row10_col1\" class=\"data row10 col1\" >0.9069</td>\n",
       "      <td id=\"T_9a59a_row10_col2\" class=\"data row10 col2\" >0.8593</td>\n",
       "      <td id=\"T_9a59a_row10_col3\" class=\"data row10 col3\" >0.8143</td>\n",
       "      <td id=\"T_9a59a_row10_col4\" class=\"data row10 col4\" >0.8362</td>\n",
       "      <td id=\"T_9a59a_row10_col5\" class=\"data row10 col5\" >0.6518</td>\n",
       "      <td id=\"T_9a59a_row10_col6\" class=\"data row10 col6\" >0.6530</td>\n",
       "    </tr>\n",
       "    <tr>\n",
       "      <th id=\"T_9a59a_level0_row11\" class=\"row_heading level0 row11\" >SD</th>\n",
       "      <td id=\"T_9a59a_row11_col0\" class=\"data row11 col0\" >0.0093</td>\n",
       "      <td id=\"T_9a59a_row11_col1\" class=\"data row11 col1\" >0.0055</td>\n",
       "      <td id=\"T_9a59a_row11_col2\" class=\"data row11 col2\" >0.0151</td>\n",
       "      <td id=\"T_9a59a_row11_col3\" class=\"data row11 col3\" >0.0073</td>\n",
       "      <td id=\"T_9a59a_row11_col4\" class=\"data row11 col4\" >0.0096</td>\n",
       "      <td id=\"T_9a59a_row11_col5\" class=\"data row11 col5\" >0.0186</td>\n",
       "      <td id=\"T_9a59a_row11_col6\" class=\"data row11 col6\" >0.0189</td>\n",
       "    </tr>\n",
       "  </tbody>\n",
       "</table>\n"
      ],
      "text/plain": [
       "<pandas.io.formats.style.Styler at 0x7f8bbb205940>"
      ]
     },
     "metadata": {},
     "output_type": "display_data"
    }
   ],
   "source": [
    "best_model = create_model(model_matrix)\n",
    "final_model = finalize_model(best_model)"
   ]
  },
  {
   "cell_type": "code",
   "execution_count": 53,
   "id": "4487009f",
   "metadata": {},
   "outputs": [
    {
     "data": {
      "text/plain": [
       "(5143, 23)"
      ]
     },
     "execution_count": 53,
     "metadata": {},
     "output_type": "execute_result"
    }
   ],
   "source": [
    "df_inference = df.loc[df[\"year\"] >= 2021]\n",
    "df_inference = df_inference.fillna(0)\n",
    "df_inference.shape"
   ]
  },
  {
   "cell_type": "code",
   "execution_count": 54,
   "id": "3aa9448f",
   "metadata": {},
   "outputs": [
    {
     "data": {
      "text/html": [
       "<div>\n",
       "<style scoped>\n",
       "    .dataframe tbody tr th:only-of-type {\n",
       "        vertical-align: middle;\n",
       "    }\n",
       "\n",
       "    .dataframe tbody tr th {\n",
       "        vertical-align: top;\n",
       "    }\n",
       "\n",
       "    .dataframe thead th {\n",
       "        text-align: right;\n",
       "    }\n",
       "</style>\n",
       "<table border=\"1\" class=\"dataframe\">\n",
       "  <thead>\n",
       "    <tr style=\"text-align: right;\">\n",
       "      <th></th>\n",
       "      <th>lkupclientid</th>\n",
       "      <th>dimcustomermasterid</th>\n",
       "      <th>year</th>\n",
       "      <th>productgrouping</th>\n",
       "      <th>totalspent</th>\n",
       "      <th>recentdate</th>\n",
       "      <th>attendancepercent</th>\n",
       "      <th>renewedbeforedays</th>\n",
       "      <th>source_tenure</th>\n",
       "      <th>tenure</th>\n",
       "      <th>...</th>\n",
       "      <th>opentosendratio</th>\n",
       "      <th>clicktosendratio</th>\n",
       "      <th>clicktoopenratio</th>\n",
       "      <th>gender</th>\n",
       "      <th>phonecall</th>\n",
       "      <th>inperson_contact</th>\n",
       "      <th>isnextyear_buyer</th>\n",
       "      <th>Label</th>\n",
       "      <th>Score_0</th>\n",
       "      <th>Score_1</th>\n",
       "    </tr>\n",
       "  </thead>\n",
       "  <tbody>\n",
       "    <tr>\n",
       "      <th>7</th>\n",
       "      <td>7</td>\n",
       "      <td>10025</td>\n",
       "      <td>2021</td>\n",
       "      <td>Half Season</td>\n",
       "      <td>3462.8</td>\n",
       "      <td>2022-03-19</td>\n",
       "      <td>0.28</td>\n",
       "      <td>26</td>\n",
       "      <td>1825</td>\n",
       "      <td>1854</td>\n",
       "      <td>...</td>\n",
       "      <td>0.40</td>\n",
       "      <td>0.12</td>\n",
       "      <td>0.29</td>\n",
       "      <td>Unknown</td>\n",
       "      <td>0</td>\n",
       "      <td>0</td>\n",
       "      <td>0</td>\n",
       "      <td>0</td>\n",
       "      <td>0.9996</td>\n",
       "      <td>0.0004</td>\n",
       "    </tr>\n",
       "    <tr>\n",
       "      <th>13</th>\n",
       "      <td>7</td>\n",
       "      <td>243202</td>\n",
       "      <td>2021</td>\n",
       "      <td>Full Season</td>\n",
       "      <td>3873.5</td>\n",
       "      <td>2022-04-28</td>\n",
       "      <td>0.46</td>\n",
       "      <td>46</td>\n",
       "      <td>4745</td>\n",
       "      <td>2435</td>\n",
       "      <td>...</td>\n",
       "      <td>1.71</td>\n",
       "      <td>0.25</td>\n",
       "      <td>0.14</td>\n",
       "      <td>Unknown</td>\n",
       "      <td>0</td>\n",
       "      <td>0</td>\n",
       "      <td>1</td>\n",
       "      <td>0</td>\n",
       "      <td>0.9975</td>\n",
       "      <td>0.0025</td>\n",
       "    </tr>\n",
       "    <tr>\n",
       "      <th>22</th>\n",
       "      <td>7</td>\n",
       "      <td>156280</td>\n",
       "      <td>2021</td>\n",
       "      <td>Full Season</td>\n",
       "      <td>11280.7</td>\n",
       "      <td>2022-04-28</td>\n",
       "      <td>0.24</td>\n",
       "      <td>102</td>\n",
       "      <td>5475</td>\n",
       "      <td>2435</td>\n",
       "      <td>...</td>\n",
       "      <td>0.82</td>\n",
       "      <td>0.13</td>\n",
       "      <td>0.16</td>\n",
       "      <td>Unknown</td>\n",
       "      <td>0</td>\n",
       "      <td>0</td>\n",
       "      <td>1</td>\n",
       "      <td>0</td>\n",
       "      <td>0.9963</td>\n",
       "      <td>0.0037</td>\n",
       "    </tr>\n",
       "    <tr>\n",
       "      <th>26</th>\n",
       "      <td>7</td>\n",
       "      <td>131172</td>\n",
       "      <td>2021</td>\n",
       "      <td>Half Season</td>\n",
       "      <td>6050.4</td>\n",
       "      <td>2022-04-28</td>\n",
       "      <td>0.76</td>\n",
       "      <td>34</td>\n",
       "      <td>1095</td>\n",
       "      <td>1022</td>\n",
       "      <td>...</td>\n",
       "      <td>2.31</td>\n",
       "      <td>0.21</td>\n",
       "      <td>0.09</td>\n",
       "      <td>Unknown</td>\n",
       "      <td>0</td>\n",
       "      <td>0</td>\n",
       "      <td>0</td>\n",
       "      <td>0</td>\n",
       "      <td>0.9301</td>\n",
       "      <td>0.0699</td>\n",
       "    </tr>\n",
       "    <tr>\n",
       "      <th>33</th>\n",
       "      <td>7</td>\n",
       "      <td>328580</td>\n",
       "      <td>2021</td>\n",
       "      <td>Quarter</td>\n",
       "      <td>2670.8</td>\n",
       "      <td>1970-01-01</td>\n",
       "      <td>0.00</td>\n",
       "      <td>46</td>\n",
       "      <td>1825</td>\n",
       "      <td>1681</td>\n",
       "      <td>...</td>\n",
       "      <td>3.00</td>\n",
       "      <td>0.42</td>\n",
       "      <td>0.14</td>\n",
       "      <td>Unknown</td>\n",
       "      <td>0</td>\n",
       "      <td>0</td>\n",
       "      <td>0</td>\n",
       "      <td>0</td>\n",
       "      <td>0.9997</td>\n",
       "      <td>0.0003</td>\n",
       "    </tr>\n",
       "  </tbody>\n",
       "</table>\n",
       "<p>5 rows × 26 columns</p>\n",
       "</div>"
      ],
      "text/plain": [
       "    lkupclientid  dimcustomermasterid  year productgrouping  totalspent  \\\n",
       "7              7                10025  2021     Half Season      3462.8   \n",
       "13             7               243202  2021     Full Season      3873.5   \n",
       "22             7               156280  2021     Full Season     11280.7   \n",
       "26             7               131172  2021     Half Season      6050.4   \n",
       "33             7               328580  2021         Quarter      2670.8   \n",
       "\n",
       "   recentdate  attendancepercent  renewedbeforedays source_tenure  tenure  \\\n",
       "7  2022-03-19               0.28                 26          1825    1854   \n",
       "13 2022-04-28               0.46                 46          4745    2435   \n",
       "22 2022-04-28               0.24                102          5475    2435   \n",
       "26 2022-04-28               0.76                 34          1095    1022   \n",
       "33 1970-01-01               0.00                 46          1825    1681   \n",
       "\n",
       "    ...  opentosendratio  clicktosendratio clicktoopenratio   gender  \\\n",
       "7   ...             0.40              0.12             0.29  Unknown   \n",
       "13  ...             1.71              0.25             0.14  Unknown   \n",
       "22  ...             0.82              0.13             0.16  Unknown   \n",
       "26  ...             2.31              0.21             0.09  Unknown   \n",
       "33  ...             3.00              0.42             0.14  Unknown   \n",
       "\n",
       "   phonecall  inperson_contact isnextyear_buyer Label Score_0 Score_1  \n",
       "7          0                 0                0     0  0.9996  0.0004  \n",
       "13         0                 0                1     0  0.9975  0.0025  \n",
       "22         0                 0                1     0  0.9963  0.0037  \n",
       "26         0                 0                0     0  0.9301  0.0699  \n",
       "33         0                 0                0     0  0.9997  0.0003  \n",
       "\n",
       "[5 rows x 26 columns]"
      ]
     },
     "execution_count": 54,
     "metadata": {},
     "output_type": "execute_result"
    }
   ],
   "source": [
    "new_predictions = predict_model(final_model, data=df_inference, raw_score=True)\n",
    "new_predictions.head()"
   ]
  },
  {
   "cell_type": "code",
   "execution_count": 55,
   "id": "411e4d80",
   "metadata": {},
   "outputs": [
    {
     "data": {
      "text/plain": [
       "0    4913\n",
       "1     230\n",
       "Name: Label, dtype: int64"
      ]
     },
     "execution_count": 55,
     "metadata": {},
     "output_type": "execute_result"
    }
   ],
   "source": [
    "new_predictions[\"Label\"].value_counts()"
   ]
  },
  {
   "cell_type": "code",
   "execution_count": 56,
   "id": "bfeb9655",
   "metadata": {},
   "outputs": [
    {
     "data": {
      "image/png": "[encoded data removed]",
      "text/plain": [
       "<Figure size 576x396 with 1 Axes>"
      ]
     },
     "metadata": {},
     "output_type": "display_data"
    }
   ],
   "source": [
    "plt.hist(new_predictions[\"Score_1\"], bins=20, edgecolor='black')\n",
    "plt.title(\"Retention Scores\")\n",
    "plt.ylabel(\"Num Fans\")\n",
    "plt.xlabel(\"SA Buyer Score\")\n",
    "plt.show()"
   ]
  },
  {
   "cell_type": "code",
   "execution_count": 57,
   "id": "7e22aece-548d-49e8-a88c-c276cecd27f6",
   "metadata": {},
   "outputs": [
    {
     "data": {
      "image/png": "[encoded data removed]",
      "text/plain": [
       "<Figure size 800x500 with 1 Axes>"
      ]
     },
     "metadata": {},
     "output_type": "display_data"
    }
   ],
   "source": [
    "plot_model(final_model, plot='feature')"
   ]
  },
  {
   "cell_type": "code",
   "execution_count": 58,
   "id": "1c4f2ff5-fdf2-464a-8e6b-94e5b4c688c5",
   "metadata": {},
   "outputs": [
    {
     "data": {
      "image/png": "[encoded data removed]",
      "text/plain": [
       "<Figure size 576x396 with 1 Axes>"
      ]
     },
     "metadata": {},
     "output_type": "display_data"
    }
   ],
   "source": [
    "plot_model(final_model, plot='confusion_matrix')"
   ]
  },
  {
   "cell_type": "code",
   "execution_count": 59,
   "id": "88ef2e16-8ae3-4618-9ecd-2a94754763fc",
   "metadata": {},
   "outputs": [
    {
     "data": {
      "image/png": "[encoded data removed]",
      "text/plain": [
       "<Figure size 576x396 with 1 Axes>"
      ]
     },
     "metadata": {},
     "output_type": "display_data"
    }
   ],
   "source": [
    "plot_model(final_model, plot='auc')"
   ]
  },
  {
   "cell_type": "markdown",
   "id": "71538730-5d53-468c-86c8-d4d7fc671786",
   "metadata": {},
   "source": [
    "### Done"
   ]
  }
 ],
 "metadata": {
  "kernelspec": {
   "display_name": "Python 3 (ipykernel)",
   "language": "python",
   "name": "python3"
  },
  "language_info": {
   "codemirror_mode": {
    "name": "ipython",
    "version": 3
   },
   "file_extension": ".py",
   "mimetype": "text/x-python",
   "name": "python",
   "nbconvert_exporter": "python",
   "pygments_lexer": "ipython3",
   "version": "3.9.4"
  },
  "vscode": {
   "interpreter": {
    "hash": "89f48dadab51a6b5b48ffc1a9e043c21cefe67453637c3444f3b86917b8aad16"
   }
  }
 },
 "nbformat": 4,
 "nbformat_minor": 5
}
