{
 "cells": [
  {
   "cell_type": "markdown",
   "id": "6ee08766-25fd-4da1-91b8-b0c3e74db588",
   "metadata": {},
   "source": [
    "# WSO Retention Model- dt\n",
    "* StelllarAlgo Data Science\n",
    "* Ryan Kazmerik & Nakisa Rad\n",
    "* May 18, 2022"
   ]
  },
  {
   "cell_type": "markdown",
   "id": "ad05e308",
   "metadata": {},
   "source": [
    "## Hypothesis\n",
    "This notebook will test the standard StellarAlgo retention model features and the goal is to check if our standard retention model works for WSO or not and how our accuracy and scores look. We are also checking if we have enough data for training the retention model effectively."
   ]
  },
  {
   "cell_type": "markdown",
   "id": "43aff0fd",
   "metadata": {},
   "source": [
    "## Experiment\n",
    "This section details our experiment including querying data, data transformations, feature selection and modelling."
   ]
  },
  {
   "cell_type": "code",
   "execution_count": 1,
   "id": "4c533efd-600e-4bce-8203-faffbddfa700",
   "metadata": {},
   "outputs": [],
   "source": [
    "import boto3\n",
    "import pandas as pd\n",
    "import psycopg2\n",
    "import matplotlib.pyplot as plt\n",
    "\n",
    "from pycaret.classification import *\n",
    "\n",
    "pd.options.display.max_columns = 100\n",
    "pd.options.display.max_rows = 100"
   ]
  },
  {
   "cell_type": "markdown",
   "id": "6d6c614f-288b-4a88-97dc-7ffc1d1c7ec9",
   "metadata": {},
   "source": [
    "### To connect to RedShift, we have to tell AWS which profile we'd like to login to, this will send us for a browser authentication trip:"
   ]
  },
  {
   "cell_type": "code",
   "execution_count": 2,
   "id": "79dd57e8-d578-4755-89fb-446362735a05",
   "metadata": {},
   "outputs": [
    {
     "name": "stdout",
     "output_type": "stream",
     "text": [
      "Attempting to automatically open the SSO authorization page in your default browser.\n",
      "If the browser does not open or you wish to use a different device to authorize this request, open the following URL:\n",
      "\n",
      "https://device.sso.us-east-1.amazonaws.com/\n",
      "\n",
      "Then enter the code:\n",
      "\n",
      "SGKJ-DBRP\n",
      "Successully logged into Start URL: https://stellaralgo.awsapps.com/start#/\n"
     ]
    }
   ],
   "source": [
    "! aws sso login --profile Stellaralgo-DataScienceAdmin"
   ]
  },
  {
   "cell_type": "markdown",
   "id": "e544dd2f-d867-4a37-a620-d5df62648b9b",
   "metadata": {},
   "source": [
    "### Now we can create a session and client to RedShift, and create a new connection using Psycopg2:"
   ]
  },
  {
   "cell_type": "code",
   "execution_count": 3,
   "id": "795c9342-b928-4e8d-aef9-36f2b1cf667c",
   "metadata": {},
   "outputs": [
    {
     "name": "stdout",
     "output_type": "stream",
     "text": [
      "GOT CONNECTION TO DATABASE: qa-app stlrwso\n"
     ]
    }
   ],
   "source": [
    "session = boto3.session.Session(profile_name='Stellaralgo-DataScienceAdmin')\n",
    "client = session.client('redshift')\n",
    "\n",
    "CLUSTER = 'qa-app'\n",
    "DBNAME = 'stlrwso'\n",
    "\n",
    "creds = client.get_cluster_credentials(                \n",
    "    ClusterIdentifier = CLUSTER,\n",
    "    DbUser = 'admin',\n",
    "    DbName = DBNAME,\n",
    "    DbGroups = ['admin_group'],\n",
    "    AutoCreate=True\n",
    ")\n",
    "\n",
    "print(f\"GOT CONNECTION TO DATABASE: {CLUSTER} {DBNAME}\")"
   ]
  },
  {
   "cell_type": "markdown",
   "id": "0f9b2c49-e6a7-4ad2-bb90-0316101a5174",
   "metadata": {},
   "source": [
    "### First we need to call the stored procedure, which will create a named cursor - then we can query the results produced by the stored proc using that named cursor:"
   ]
  },
  {
   "cell_type": "code",
   "execution_count": 4,
   "id": "0fb58a5d-1ae8-42f3-a425-b73ca0952115",
   "metadata": {},
   "outputs": [],
   "source": [
    "# create a connection & cursor and call the stored procedure\n",
    "conn = psycopg2.connect(\n",
    "    host = 'qa-app.ctjussvyafp4.us-east-1.redshift.amazonaws.com',\n",
    "    port = 5439,\n",
    "    user = creds['DbUser'],\n",
    "    password = creds['DbPassword'],\n",
    "    database = DBNAME\n",
    ")\n",
    "\n",
    "cur = conn.cursor()\n",
    "cur.execute(f\"CALL dw.getretentionmodeldata(14, 2010, 2021, 'rkcursor')\")\n",
    "\n",
    "# create a named cursor based on the cursor name passed in above\n",
    "named_cursor = conn.cursor('rkcursor')\n",
    "data = named_cursor.fetchall()\n",
    "\n",
    "# load the data and columns into a data frame\n",
    "cols = [row[0] for row in named_cursor.description]\n",
    "df = pd.DataFrame(data=data, columns=cols)\n",
    "\n",
    "conn.commit()"
   ]
  },
  {
   "cell_type": "code",
   "execution_count": 5,
   "id": "959e2063",
   "metadata": {},
   "outputs": [
    {
     "name": "stdout",
     "output_type": "stream",
     "text": [
      "<class 'pandas.core.frame.DataFrame'>\n",
      "RangeIndex: 12251 entries, 0 to 12250\n",
      "Data columns (total 23 columns):\n",
      " #   Column               Non-Null Count  Dtype         \n",
      "---  ------               --------------  -----         \n",
      " 0   lkupclientid         12251 non-null  int64         \n",
      " 1   dimcustomermasterid  12251 non-null  int64         \n",
      " 2   year                 12251 non-null  int64         \n",
      " 3   productgrouping      12251 non-null  object        \n",
      " 4   totalspent           12251 non-null  float64       \n",
      " 5   recentdate           12251 non-null  datetime64[ns]\n",
      " 6   attendancepercent    12251 non-null  float64       \n",
      " 7   renewedbeforedays    12251 non-null  int64         \n",
      " 8   source_tenure        12251 non-null  object        \n",
      " 9   tenure               12251 non-null  int64         \n",
      " 10  disttovenue          12251 non-null  float64       \n",
      " 11  recency              12251 non-null  int64         \n",
      " 12  missed_games_1       12251 non-null  object        \n",
      " 13  missed_games_2       12251 non-null  object        \n",
      " 14  missed_games_over_2  12251 non-null  object        \n",
      " 15  forward_records      12251 non-null  int64         \n",
      " 16  opentosendratio      12251 non-null  object        \n",
      " 17  clicktosendratio     12251 non-null  object        \n",
      " 18  clicktoopenratio     12251 non-null  object        \n",
      " 19  gender               12251 non-null  object        \n",
      " 20  phonecall            12251 non-null  int64         \n",
      " 21  inperson_contact     12251 non-null  int64         \n",
      " 22  isnextyear_buyer     12251 non-null  int64         \n",
      "dtypes: datetime64[ns](1), float64(3), int64(10), object(9)\n",
      "memory usage: 2.1+ MB\n"
     ]
    },
    {
     "data": {
      "text/html": [
       "<div>\n",
       "<style scoped>\n",
       "    .dataframe tbody tr th:only-of-type {\n",
       "        vertical-align: middle;\n",
       "    }\n",
       "\n",
       "    .dataframe tbody tr th {\n",
       "        vertical-align: top;\n",
       "    }\n",
       "\n",
       "    .dataframe thead th {\n",
       "        text-align: right;\n",
       "    }\n",
       "</style>\n",
       "<table border=\"1\" class=\"dataframe\">\n",
       "  <thead>\n",
       "    <tr style=\"text-align: right;\">\n",
       "      <th></th>\n",
       "      <th>lkupclientid</th>\n",
       "      <th>dimcustomermasterid</th>\n",
       "      <th>year</th>\n",
       "      <th>productgrouping</th>\n",
       "      <th>totalspent</th>\n",
       "      <th>recentdate</th>\n",
       "      <th>attendancepercent</th>\n",
       "      <th>renewedbeforedays</th>\n",
       "      <th>source_tenure</th>\n",
       "      <th>tenure</th>\n",
       "      <th>disttovenue</th>\n",
       "      <th>recency</th>\n",
       "      <th>missed_games_1</th>\n",
       "      <th>missed_games_2</th>\n",
       "      <th>missed_games_over_2</th>\n",
       "      <th>forward_records</th>\n",
       "      <th>opentosendratio</th>\n",
       "      <th>clicktosendratio</th>\n",
       "      <th>clicktoopenratio</th>\n",
       "      <th>gender</th>\n",
       "      <th>phonecall</th>\n",
       "      <th>inperson_contact</th>\n",
       "      <th>isnextyear_buyer</th>\n",
       "    </tr>\n",
       "  </thead>\n",
       "  <tbody>\n",
       "    <tr>\n",
       "      <th>0</th>\n",
       "      <td>14</td>\n",
       "      <td>278023796</td>\n",
       "      <td>2016</td>\n",
       "      <td>Full Series</td>\n",
       "      <td>100.00</td>\n",
       "      <td>2016-08-18</td>\n",
       "      <td>0.63</td>\n",
       "      <td>269</td>\n",
       "      <td>6570</td>\n",
       "      <td>277</td>\n",
       "      <td>41.83</td>\n",
       "      <td>3</td>\n",
       "      <td>0</td>\n",
       "      <td>0</td>\n",
       "      <td>3</td>\n",
       "      <td>0</td>\n",
       "      <td>0.00</td>\n",
       "      <td>0.00</td>\n",
       "      <td>0.00</td>\n",
       "      <td>Unknown</td>\n",
       "      <td>0</td>\n",
       "      <td>0</td>\n",
       "      <td>1</td>\n",
       "    </tr>\n",
       "    <tr>\n",
       "      <th>1</th>\n",
       "      <td>14</td>\n",
       "      <td>296601559</td>\n",
       "      <td>2016</td>\n",
       "      <td>Full Series</td>\n",
       "      <td>100.00</td>\n",
       "      <td>2016-08-18</td>\n",
       "      <td>0.17</td>\n",
       "      <td>267</td>\n",
       "      <td>8395</td>\n",
       "      <td>275</td>\n",
       "      <td>14.86</td>\n",
       "      <td>2</td>\n",
       "      <td>0</td>\n",
       "      <td>0</td>\n",
       "      <td>1</td>\n",
       "      <td>0</td>\n",
       "      <td>0.00</td>\n",
       "      <td>0.00</td>\n",
       "      <td>0.00</td>\n",
       "      <td>Unknown</td>\n",
       "      <td>0</td>\n",
       "      <td>0</td>\n",
       "      <td>1</td>\n",
       "    </tr>\n",
       "    <tr>\n",
       "      <th>2</th>\n",
       "      <td>14</td>\n",
       "      <td>296601842</td>\n",
       "      <td>2016</td>\n",
       "      <td>Full Series</td>\n",
       "      <td>100.00</td>\n",
       "      <td>2016-08-20</td>\n",
       "      <td>0.70</td>\n",
       "      <td>255</td>\n",
       "      <td>6935</td>\n",
       "      <td>263</td>\n",
       "      <td>10.69</td>\n",
       "      <td>4</td>\n",
       "      <td>0</td>\n",
       "      <td>0</td>\n",
       "      <td>3</td>\n",
       "      <td>0</td>\n",
       "      <td>0.00</td>\n",
       "      <td>0.00</td>\n",
       "      <td>0.00</td>\n",
       "      <td>Unknown</td>\n",
       "      <td>0</td>\n",
       "      <td>0</td>\n",
       "      <td>1</td>\n",
       "    </tr>\n",
       "    <tr>\n",
       "      <th>3</th>\n",
       "      <td>14</td>\n",
       "      <td>296574160</td>\n",
       "      <td>2016</td>\n",
       "      <td>Mini Plan</td>\n",
       "      <td>131.68</td>\n",
       "      <td>1970-01-01</td>\n",
       "      <td>0.57</td>\n",
       "      <td>149</td>\n",
       "      <td>2190</td>\n",
       "      <td>152</td>\n",
       "      <td>312.91</td>\n",
       "      <td>0</td>\n",
       "      <td>0</td>\n",
       "      <td>0</td>\n",
       "      <td>1</td>\n",
       "      <td>0</td>\n",
       "      <td>0.00</td>\n",
       "      <td>0.00</td>\n",
       "      <td>0.00</td>\n",
       "      <td>Unknown</td>\n",
       "      <td>0</td>\n",
       "      <td>0</td>\n",
       "      <td>0</td>\n",
       "    </tr>\n",
       "    <tr>\n",
       "      <th>4</th>\n",
       "      <td>14</td>\n",
       "      <td>296599302</td>\n",
       "      <td>2016</td>\n",
       "      <td>Full Series</td>\n",
       "      <td>377.52</td>\n",
       "      <td>2016-08-18</td>\n",
       "      <td>0.42</td>\n",
       "      <td>253</td>\n",
       "      <td>8760</td>\n",
       "      <td>261</td>\n",
       "      <td>13.02</td>\n",
       "      <td>0</td>\n",
       "      <td>0</td>\n",
       "      <td>0</td>\n",
       "      <td>1</td>\n",
       "      <td>0</td>\n",
       "      <td>0.00</td>\n",
       "      <td>0.00</td>\n",
       "      <td>0.00</td>\n",
       "      <td>Unknown</td>\n",
       "      <td>0</td>\n",
       "      <td>0</td>\n",
       "      <td>1</td>\n",
       "    </tr>\n",
       "  </tbody>\n",
       "</table>\n",
       "</div>"
      ],
      "text/plain": [
       "   lkupclientid  dimcustomermasterid  year productgrouping  totalspent  \\\n",
       "0            14            278023796  2016     Full Series      100.00   \n",
       "1            14            296601559  2016     Full Series      100.00   \n",
       "2            14            296601842  2016     Full Series      100.00   \n",
       "3            14            296574160  2016       Mini Plan      131.68   \n",
       "4            14            296599302  2016     Full Series      377.52   \n",
       "\n",
       "  recentdate  attendancepercent  renewedbeforedays source_tenure  tenure  \\\n",
       "0 2016-08-18               0.63                269          6570     277   \n",
       "1 2016-08-18               0.17                267          8395     275   \n",
       "2 2016-08-20               0.70                255          6935     263   \n",
       "3 1970-01-01               0.57                149          2190     152   \n",
       "4 2016-08-18               0.42                253          8760     261   \n",
       "\n",
       "   disttovenue  recency missed_games_1 missed_games_2 missed_games_over_2  \\\n",
       "0        41.83        3              0              0                   3   \n",
       "1        14.86        2              0              0                   1   \n",
       "2        10.69        4              0              0                   3   \n",
       "3       312.91        0              0              0                   1   \n",
       "4        13.02        0              0              0                   1   \n",
       "\n",
       "   forward_records opentosendratio clicktosendratio clicktoopenratio   gender  \\\n",
       "0                0            0.00             0.00             0.00  Unknown   \n",
       "1                0            0.00             0.00             0.00  Unknown   \n",
       "2                0            0.00             0.00             0.00  Unknown   \n",
       "3                0            0.00             0.00             0.00  Unknown   \n",
       "4                0            0.00             0.00             0.00  Unknown   \n",
       "\n",
       "   phonecall  inperson_contact  isnextyear_buyer  \n",
       "0          0                 0                 1  \n",
       "1          0                 0                 1  \n",
       "2          0                 0                 1  \n",
       "3          0                 0                 0  \n",
       "4          0                 0                 1  "
      ]
     },
     "execution_count": 5,
     "metadata": {},
     "output_type": "execute_result"
    }
   ],
   "source": [
    "df.info()\n",
    "df.head()"
   ]
  },
  {
   "cell_type": "code",
   "execution_count": 6,
   "id": "10337b21-d808-454e-a5b3-12133b56002c",
   "metadata": {},
   "outputs": [
    {
     "data": {
      "text/plain": [
       "Full Series    7205\n",
       "Mini Plan      5046\n",
       "Name: productgrouping, dtype: int64"
      ]
     },
     "execution_count": 6,
     "metadata": {},
     "output_type": "execute_result"
    }
   ],
   "source": [
    "df[\"productgrouping\"].value_counts()"
   ]
  },
  {
   "cell_type": "code",
   "execution_count": 7,
   "id": "0aad49db-c229-4f97-9728-4c61687b8480",
   "metadata": {},
   "outputs": [
    {
     "data": {
      "text/plain": [
       "102.50      494\n",
       "100.00      492\n",
       "1730.24     450\n",
       "120.00      322\n",
       "150.00      298\n",
       "           ... \n",
       "510.00        1\n",
       "14710.08      1\n",
       "24901.12      1\n",
       "1012.50       1\n",
       "2080.64       1\n",
       "Name: totalspent, Length: 1201, dtype: int64"
      ]
     },
     "execution_count": 7,
     "metadata": {},
     "output_type": "execute_result"
    }
   ],
   "source": [
    "df[\"totalspent\"].value_counts()"
   ]
  },
  {
   "cell_type": "code",
   "execution_count": 8,
   "id": "b4bfb5e1-093e-471b-834f-5919460806e9",
   "metadata": {},
   "outputs": [
    {
     "data": {
      "image/png": "[encoded data removed]",
      "text/plain": [
       "<Figure size 576x396 with 1 Axes>"
      ]
     },
     "metadata": {},
     "output_type": "display_data"
    }
   ],
   "source": [
    "plt.hist(df[\"totalspent\"], bins=20, edgecolor='black')\n",
    "plt.title(\"totalspent distribution\")\n",
    "plt.ylabel(\"Total number\")\n",
    "plt.xlabel(\"totalspent\")\n",
    "plt.show()"
   ]
  },
  {
   "cell_type": "code",
   "execution_count": 9,
   "id": "29aba4e2-f3dd-4889-8213-79a003d19e45",
   "metadata": {},
   "outputs": [
    {
     "data": {
      "text/plain": [
       "0.75    1277\n",
       "0.50    1207\n",
       "1.00    1154\n",
       "0.67     792\n",
       "0.60     438\n",
       "        ... \n",
       "0.02       1\n",
       "0.15       1\n",
       "0.11       1\n",
       "0.01       1\n",
       "1.21       1\n",
       "Name: attendancepercent, Length: 112, dtype: int64"
      ]
     },
     "execution_count": 9,
     "metadata": {},
     "output_type": "execute_result"
    }
   ],
   "source": [
    "df[\"attendancepercent\"].value_counts()"
   ]
  },
  {
   "cell_type": "code",
   "execution_count": 10,
   "id": "af19e84a-6053-45fd-a2f2-1840b5d5809c",
   "metadata": {},
   "outputs": [
    {
     "data": {
      "image/png": "[encoded data removed]",
      "text/plain": [
       "<Figure size 576x396 with 1 Axes>"
      ]
     },
     "metadata": {},
     "output_type": "display_data"
    }
   ],
   "source": [
    "plt.hist(df[\"attendancepercent\"], bins=20, edgecolor='black')\n",
    "plt.title(\"attendancepercent distribution\")\n",
    "plt.ylabel(\"Total number\")\n",
    "plt.xlabel(\"attendancepercent\")\n",
    "plt.show()"
   ]
  },
  {
   "cell_type": "code",
   "execution_count": 11,
   "id": "fc786ce6-30b3-4795-a9f0-28e80ea42c0e",
   "metadata": {},
   "outputs": [
    {
     "data": {
      "text/plain": [
       " 250    377\n",
       " 243    359\n",
       " 207    344\n",
       " 255    319\n",
       " 247    244\n",
       "       ... \n",
       " 272      1\n",
       " 216      1\n",
       " 230      1\n",
       "-1        1\n",
       "-101      1\n",
       "Name: renewedbeforedays, Length: 290, dtype: int64"
      ]
     },
     "execution_count": 11,
     "metadata": {},
     "output_type": "execute_result"
    }
   ],
   "source": [
    "df[\"renewedbeforedays\"].value_counts()"
   ]
  },
  {
   "cell_type": "code",
   "execution_count": 12,
   "id": "4d2e53f9-1270-4fb0-9e7e-7ace6d228c98",
   "metadata": {},
   "outputs": [
    {
     "data": {
      "image/png": "[encoded data removed]",
      "text/plain": [
       "<Figure size 576x396 with 1 Axes>"
      ]
     },
     "metadata": {},
     "output_type": "display_data"
    }
   ],
   "source": [
    "plt.hist(df[\"renewedbeforedays\"], bins=20, edgecolor='black')\n",
    "plt.title(\"renewedbeforedays distribution\")\n",
    "plt.ylabel(\"Total number\")\n",
    "plt.xlabel(\"renewedbeforedays\")\n",
    "plt.show()"
   ]
  },
  {
   "cell_type": "markdown",
   "id": "322a372b",
   "metadata": {},
   "source": [
    "### Let's see how much data we have for each year:"
   ]
  },
  {
   "cell_type": "code",
   "execution_count": 13,
   "id": "1d7e28f8",
   "metadata": {},
   "outputs": [
    {
     "data": {
      "text/plain": [
       "2021    2397\n",
       "2019    2389\n",
       "2018    2717\n",
       "2017    2412\n",
       "2016    2336\n",
       "Name: year, dtype: int64"
      ]
     },
     "execution_count": 13,
     "metadata": {},
     "output_type": "execute_result"
    }
   ],
   "source": [
    "df[\"year\"].value_counts().sort_index(ascending=False)"
   ]
  },
  {
   "cell_type": "markdown",
   "id": "a73808c3-3cf1-4d30-93f4-87a8a86c438a",
   "metadata": {},
   "source": [
    "### We should specify the features used in our model:"
   ]
  },
  {
   "cell_type": "code",
   "execution_count": 14,
   "id": "36da24a8-b15d-4086-8e42-f25976e7fc22",
   "metadata": {},
   "outputs": [
    {
     "name": "stdout",
     "output_type": "stream",
     "text": [
      "Data for Modeling: (8376, 8)\n",
      "Unseen Data For Predictions: (1478, 8)\n",
      "\n"
     ]
    }
   ],
   "source": [
    "# choose the features for the stellar base retention model\n",
    "features = [\n",
    "                \"dimcustomermasterid\",\n",
    "                \"attendancepercent\",\n",
    "                \"totalspent\",\n",
    "                \"source_tenure\",\n",
    "                \"renewedbeforedays\",\n",
    "                \"isnextyear_buyer\",\n",
    "                \"productgrouping\",\n",
    "                \"year\"\n",
    "]\n",
    "\n",
    "# copy your main dataframe\n",
    "df_dataset = df\n",
    "\n",
    "# choose the features & train year & test year\n",
    "df_dataset = df_dataset[features]\n",
    "df_dataset[\"year\"] = pd.to_numeric(df_dataset[\"year\"])\n",
    "df_dataset = df_dataset.loc[df_dataset[\"year\"] <= 2019]\n",
    "\n",
    "df_train = df_dataset.sample(frac=0.85, random_state=786)\n",
    "df_eval = df_dataset.drop(df_train.index)\n",
    "\n",
    "df_train.reset_index(drop=True, inplace=True)\n",
    "df_eval.reset_index(drop=True, inplace=True)\n",
    "\n",
    "# print out the number of records for training and eval\n",
    "print('Data for Modeling: ' + str(df_train.shape))\n",
    "print('Unseen Data For Predictions: ' + str(df_eval.shape), end=\"\\n\\n\")"
   ]
  },
  {
   "cell_type": "markdown",
   "id": "77edefba-cfff-477a-90ed-3c0a0295effa",
   "metadata": {},
   "source": [
    "### Now we can model the data using a binary classification prediction for the isnextyear_buyer field to see how likely a customer is to re-purchase."
   ]
  },
  {
   "cell_type": "code",
   "execution_count": 15,
   "id": "57d65f59-78f5-4d62-a110-17873059c742",
   "metadata": {},
   "outputs": [],
   "source": [
    "setup(\n",
    "    data= df_train, \n",
    "    target=\"isnextyear_buyer\", \n",
    "    train_size = 0.85,\n",
    "    data_split_shuffle=True,\n",
    "    ignore_features=[\"dimcustomermasterid\",\"productgrouping\",\"year\"],\n",
    "    silent=True,\n",
    "    verbose=False,\n",
    "    numeric_features=[\n",
    "                \"attendancepercent\",\n",
    "                \"totalspent\",\n",
    "                \"source_tenure\"\n",
    "                \n",
    "    ]\n",
    ");"
   ]
  },
  {
   "cell_type": "code",
   "execution_count": 17,
   "id": "4ce44415-dd53-41ae-8e95-060bc152831c",
   "metadata": {},
   "outputs": [
    {
     "data": {
      "text/html": [
       "<style  type=\"text/css\" >\n",
       "    #T_e7c5d_ th {\n",
       "          text-align: left;\n",
       "    }#T_e7c5d_row0_col0{\n",
       "            text-align:  left;\n",
       "            text-align:  left;\n",
       "        }#T_e7c5d_row0_col1,#T_e7c5d_row0_col2,#T_e7c5d_row0_col3,#T_e7c5d_row0_col4,#T_e7c5d_row0_col5,#T_e7c5d_row0_col6,#T_e7c5d_row0_col7{\n",
       "            text-align:  left;\n",
       "            text-align:  left;\n",
       "            background-color:  yellow;\n",
       "        }#T_e7c5d_row0_col8{\n",
       "            text-align:  left;\n",
       "            text-align:  left;\n",
       "            background-color:  yellow;\n",
       "            background-color:  lightgrey;\n",
       "        }</style><table id=\"T_e7c5d_\" ><thead>    <tr>        <th class=\"blank level0\" ></th>        <th class=\"col_heading level0 col0\" >Model</th>        <th class=\"col_heading level0 col1\" >Accuracy</th>        <th class=\"col_heading level0 col2\" >AUC</th>        <th class=\"col_heading level0 col3\" >Recall</th>        <th class=\"col_heading level0 col4\" >Prec.</th>        <th class=\"col_heading level0 col5\" >F1</th>        <th class=\"col_heading level0 col6\" >Kappa</th>        <th class=\"col_heading level0 col7\" >MCC</th>        <th class=\"col_heading level0 col8\" >TT (Sec)</th>    </tr></thead><tbody>\n",
       "                <tr>\n",
       "                        <th id=\"T_e7c5d_level0_row0\" class=\"row_heading level0 row0\" >dt</th>\n",
       "                        <td id=\"T_e7c5d_row0_col0\" class=\"data row0 col0\" >Decision Tree Classifier</td>\n",
       "                        <td id=\"T_e7c5d_row0_col1\" class=\"data row0 col1\" >0.7401</td>\n",
       "                        <td id=\"T_e7c5d_row0_col2\" class=\"data row0 col2\" >0.7406</td>\n",
       "                        <td id=\"T_e7c5d_row0_col3\" class=\"data row0 col3\" >0.7069</td>\n",
       "                        <td id=\"T_e7c5d_row0_col4\" class=\"data row0 col4\" >0.7127</td>\n",
       "                        <td id=\"T_e7c5d_row0_col5\" class=\"data row0 col5\" >0.7096</td>\n",
       "                        <td id=\"T_e7c5d_row0_col6\" class=\"data row0 col6\" >0.4745</td>\n",
       "                        <td id=\"T_e7c5d_row0_col7\" class=\"data row0 col7\" >0.4747</td>\n",
       "                        <td id=\"T_e7c5d_row0_col8\" class=\"data row0 col8\" >0.0190</td>\n",
       "            </tr>\n",
       "    </tbody></table>"
      ],
      "text/plain": [
       "<pandas.io.formats.style.Styler at 0x7f8a56bd3460>"
      ]
     },
     "metadata": {},
     "output_type": "display_data"
    }
   ],
   "source": [
    "model_matrix = compare_models(\n",
    "    fold=10,\n",
    "    include=[ \"dt\"]\n",
    ")\n",
    "# \"gbc\", \"lightgbm\", \"rf\", \"xgboost\""
   ]
  },
  {
   "cell_type": "code",
   "execution_count": 18,
   "id": "2a7a53fd-60c3-4e36-9c62-bc79969ff360",
   "metadata": {},
   "outputs": [
    {
     "data": {
      "text/html": [
       "<style  type=\"text/css\" >\n",
       "#T_302a1_row10_col0,#T_302a1_row10_col1,#T_302a1_row10_col2,#T_302a1_row10_col3,#T_302a1_row10_col4,#T_302a1_row10_col5,#T_302a1_row10_col6{\n",
       "            background:  yellow;\n",
       "        }</style><table id=\"T_302a1_\" ><thead>    <tr>        <th class=\"blank level0\" ></th>        <th class=\"col_heading level0 col0\" >Accuracy</th>        <th class=\"col_heading level0 col1\" >AUC</th>        <th class=\"col_heading level0 col2\" >Recall</th>        <th class=\"col_heading level0 col3\" >Prec.</th>        <th class=\"col_heading level0 col4\" >F1</th>        <th class=\"col_heading level0 col5\" >Kappa</th>        <th class=\"col_heading level0 col6\" >MCC</th>    </tr></thead><tbody>\n",
       "                <tr>\n",
       "                        <th id=\"T_302a1_level0_row0\" class=\"row_heading level0 row0\" >0</th>\n",
       "                        <td id=\"T_302a1_row0_col0\" class=\"data row0 col0\" >0.7275</td>\n",
       "                        <td id=\"T_302a1_row0_col1\" class=\"data row0 col1\" >0.7282</td>\n",
       "                        <td id=\"T_302a1_row0_col2\" class=\"data row0 col2\" >0.6906</td>\n",
       "                        <td id=\"T_302a1_row0_col3\" class=\"data row0 col3\" >0.6994</td>\n",
       "                        <td id=\"T_302a1_row0_col4\" class=\"data row0 col4\" >0.6950</td>\n",
       "                        <td id=\"T_302a1_row0_col5\" class=\"data row0 col5\" >0.4488</td>\n",
       "                        <td id=\"T_302a1_row0_col6\" class=\"data row0 col6\" >0.4488</td>\n",
       "            </tr>\n",
       "            <tr>\n",
       "                        <th id=\"T_302a1_level0_row1\" class=\"row_heading level0 row1\" >1</th>\n",
       "                        <td id=\"T_302a1_row1_col0\" class=\"data row1 col0\" >0.7514</td>\n",
       "                        <td id=\"T_302a1_row1_col1\" class=\"data row1 col1\" >0.7485</td>\n",
       "                        <td id=\"T_302a1_row1_col2\" class=\"data row1 col2\" >0.7156</td>\n",
       "                        <td id=\"T_302a1_row1_col3\" class=\"data row1 col3\" >0.7270</td>\n",
       "                        <td id=\"T_302a1_row1_col4\" class=\"data row1 col4\" >0.7213</td>\n",
       "                        <td id=\"T_302a1_row1_col5\" class=\"data row1 col5\" >0.4970</td>\n",
       "                        <td id=\"T_302a1_row1_col6\" class=\"data row1 col6\" >0.4970</td>\n",
       "            </tr>\n",
       "            <tr>\n",
       "                        <th id=\"T_302a1_level0_row2\" class=\"row_heading level0 row2\" >2</th>\n",
       "                        <td id=\"T_302a1_row2_col0\" class=\"data row2 col0\" >0.7514</td>\n",
       "                        <td id=\"T_302a1_row2_col1\" class=\"data row2 col1\" >0.7490</td>\n",
       "                        <td id=\"T_302a1_row2_col2\" class=\"data row2 col2\" >0.7125</td>\n",
       "                        <td id=\"T_302a1_row2_col3\" class=\"data row2 col3\" >0.7284</td>\n",
       "                        <td id=\"T_302a1_row2_col4\" class=\"data row2 col4\" >0.7204</td>\n",
       "                        <td id=\"T_302a1_row2_col5\" class=\"data row2 col5\" >0.4967</td>\n",
       "                        <td id=\"T_302a1_row2_col6\" class=\"data row2 col6\" >0.4968</td>\n",
       "            </tr>\n",
       "            <tr>\n",
       "                        <th id=\"T_302a1_level0_row3\" class=\"row_heading level0 row3\" >3</th>\n",
       "                        <td id=\"T_302a1_row3_col0\" class=\"data row3 col0\" >0.7458</td>\n",
       "                        <td id=\"T_302a1_row3_col1\" class=\"data row3 col1\" >0.7482</td>\n",
       "                        <td id=\"T_302a1_row3_col2\" class=\"data row3 col2\" >0.7375</td>\n",
       "                        <td id=\"T_302a1_row3_col3\" class=\"data row3 col3\" >0.7087</td>\n",
       "                        <td id=\"T_302a1_row3_col4\" class=\"data row3 col4\" >0.7228</td>\n",
       "                        <td id=\"T_302a1_row3_col5\" class=\"data row3 col5\" >0.4882</td>\n",
       "                        <td id=\"T_302a1_row3_col6\" class=\"data row3 col6\" >0.4886</td>\n",
       "            </tr>\n",
       "            <tr>\n",
       "                        <th id=\"T_302a1_level0_row4\" class=\"row_heading level0 row4\" >4</th>\n",
       "                        <td id=\"T_302a1_row4_col0\" class=\"data row4 col0\" >0.7163</td>\n",
       "                        <td id=\"T_302a1_row4_col1\" class=\"data row4 col1\" >0.7168</td>\n",
       "                        <td id=\"T_302a1_row4_col2\" class=\"data row4 col2\" >0.6781</td>\n",
       "                        <td id=\"T_302a1_row4_col3\" class=\"data row4 col3\" >0.6867</td>\n",
       "                        <td id=\"T_302a1_row4_col4\" class=\"data row4 col4\" >0.6824</td>\n",
       "                        <td id=\"T_302a1_row4_col5\" class=\"data row4 col5\" >0.4261</td>\n",
       "                        <td id=\"T_302a1_row4_col6\" class=\"data row4 col6\" >0.4261</td>\n",
       "            </tr>\n",
       "            <tr>\n",
       "                        <th id=\"T_302a1_level0_row5\" class=\"row_heading level0 row5\" >5</th>\n",
       "                        <td id=\"T_302a1_row5_col0\" class=\"data row5 col0\" >0.7430</td>\n",
       "                        <td id=\"T_302a1_row5_col1\" class=\"data row5 col1\" >0.7359</td>\n",
       "                        <td id=\"T_302a1_row5_col2\" class=\"data row5 col2\" >0.6812</td>\n",
       "                        <td id=\"T_302a1_row5_col3\" class=\"data row5 col3\" >0.7291</td>\n",
       "                        <td id=\"T_302a1_row5_col4\" class=\"data row5 col4\" >0.7044</td>\n",
       "                        <td id=\"T_302a1_row5_col5\" class=\"data row5 col5\" >0.4775</td>\n",
       "                        <td id=\"T_302a1_row5_col6\" class=\"data row5 col6\" >0.4784</td>\n",
       "            </tr>\n",
       "            <tr>\n",
       "                        <th id=\"T_302a1_level0_row6\" class=\"row_heading level0 row6\" >6</th>\n",
       "                        <td id=\"T_302a1_row6_col0\" class=\"data row6 col0\" >0.7570</td>\n",
       "                        <td id=\"T_302a1_row6_col1\" class=\"data row6 col1\" >0.7618</td>\n",
       "                        <td id=\"T_302a1_row6_col2\" class=\"data row6 col2\" >0.7375</td>\n",
       "                        <td id=\"T_302a1_row6_col3\" class=\"data row6 col3\" >0.7262</td>\n",
       "                        <td id=\"T_302a1_row6_col4\" class=\"data row6 col4\" >0.7318</td>\n",
       "                        <td id=\"T_302a1_row6_col5\" class=\"data row6 col5\" >0.5097</td>\n",
       "                        <td id=\"T_302a1_row6_col6\" class=\"data row6 col6\" >0.5098</td>\n",
       "            </tr>\n",
       "            <tr>\n",
       "                        <th id=\"T_302a1_level0_row7\" class=\"row_heading level0 row7\" >7</th>\n",
       "                        <td id=\"T_302a1_row7_col0\" class=\"data row7 col0\" >0.7177</td>\n",
       "                        <td id=\"T_302a1_row7_col1\" class=\"data row7 col1\" >0.7260</td>\n",
       "                        <td id=\"T_302a1_row7_col2\" class=\"data row7 col2\" >0.6750</td>\n",
       "                        <td id=\"T_302a1_row7_col3\" class=\"data row7 col3\" >0.6901</td>\n",
       "                        <td id=\"T_302a1_row7_col4\" class=\"data row7 col4\" >0.6825</td>\n",
       "                        <td id=\"T_302a1_row7_col5\" class=\"data row7 col5\" >0.4284</td>\n",
       "                        <td id=\"T_302a1_row7_col6\" class=\"data row7 col6\" >0.4285</td>\n",
       "            </tr>\n",
       "            <tr>\n",
       "                        <th id=\"T_302a1_level0_row8\" class=\"row_heading level0 row8\" >8</th>\n",
       "                        <td id=\"T_302a1_row8_col0\" class=\"data row8 col0\" >0.7346</td>\n",
       "                        <td id=\"T_302a1_row8_col1\" class=\"data row8 col1\" >0.7338</td>\n",
       "                        <td id=\"T_302a1_row8_col2\" class=\"data row8 col2\" >0.6906</td>\n",
       "                        <td id=\"T_302a1_row8_col3\" class=\"data row8 col3\" >0.7106</td>\n",
       "                        <td id=\"T_302a1_row8_col4\" class=\"data row8 col4\" >0.7005</td>\n",
       "                        <td id=\"T_302a1_row8_col5\" class=\"data row8 col5\" >0.4622</td>\n",
       "                        <td id=\"T_302a1_row8_col6\" class=\"data row8 col6\" >0.4624</td>\n",
       "            </tr>\n",
       "            <tr>\n",
       "                        <th id=\"T_302a1_level0_row9\" class=\"row_heading level0 row9\" >9</th>\n",
       "                        <td id=\"T_302a1_row9_col0\" class=\"data row9 col0\" >0.7567</td>\n",
       "                        <td id=\"T_302a1_row9_col1\" class=\"data row9 col1\" >0.7582</td>\n",
       "                        <td id=\"T_302a1_row9_col2\" class=\"data row9 col2\" >0.7500</td>\n",
       "                        <td id=\"T_302a1_row9_col3\" class=\"data row9 col3\" >0.7207</td>\n",
       "                        <td id=\"T_302a1_row9_col4\" class=\"data row9 col4\" >0.7351</td>\n",
       "                        <td id=\"T_302a1_row9_col5\" class=\"data row9 col5\" >0.5103</td>\n",
       "                        <td id=\"T_302a1_row9_col6\" class=\"data row9 col6\" >0.5106</td>\n",
       "            </tr>\n",
       "            <tr>\n",
       "                        <th id=\"T_302a1_level0_row10\" class=\"row_heading level0 row10\" >Mean</th>\n",
       "                        <td id=\"T_302a1_row10_col0\" class=\"data row10 col0\" >0.7401</td>\n",
       "                        <td id=\"T_302a1_row10_col1\" class=\"data row10 col1\" >0.7406</td>\n",
       "                        <td id=\"T_302a1_row10_col2\" class=\"data row10 col2\" >0.7069</td>\n",
       "                        <td id=\"T_302a1_row10_col3\" class=\"data row10 col3\" >0.7127</td>\n",
       "                        <td id=\"T_302a1_row10_col4\" class=\"data row10 col4\" >0.7096</td>\n",
       "                        <td id=\"T_302a1_row10_col5\" class=\"data row10 col5\" >0.4745</td>\n",
       "                        <td id=\"T_302a1_row10_col6\" class=\"data row10 col6\" >0.4747</td>\n",
       "            </tr>\n",
       "            <tr>\n",
       "                        <th id=\"T_302a1_level0_row11\" class=\"row_heading level0 row11\" >SD</th>\n",
       "                        <td id=\"T_302a1_row11_col0\" class=\"data row11 col0\" >0.0145</td>\n",
       "                        <td id=\"T_302a1_row11_col1\" class=\"data row11 col1\" >0.0140</td>\n",
       "                        <td id=\"T_302a1_row11_col2\" class=\"data row11 col2\" >0.0262</td>\n",
       "                        <td id=\"T_302a1_row11_col3\" class=\"data row11 col3\" >0.0153</td>\n",
       "                        <td id=\"T_302a1_row11_col4\" class=\"data row11 col4\" >0.0184</td>\n",
       "                        <td id=\"T_302a1_row11_col5\" class=\"data row11 col5\" >0.0300</td>\n",
       "                        <td id=\"T_302a1_row11_col6\" class=\"data row11 col6\" >0.0300</td>\n",
       "            </tr>\n",
       "    </tbody></table>"
      ],
      "text/plain": [
       "<pandas.io.formats.style.Styler at 0x7f8a56bb4100>"
      ]
     },
     "metadata": {},
     "output_type": "display_data"
    }
   ],
   "source": [
    "best_model = create_model(model_matrix)\n",
    "final_model = finalize_model(best_model)"
   ]
  },
  {
   "cell_type": "markdown",
   "id": "d4c96db1-cac7-4489-ae89-edcb2a013406",
   "metadata": {},
   "source": [
    "### Let's load in our 2021 season data and get retention scores using the model:"
   ]
  },
  {
   "cell_type": "code",
   "execution_count": 19,
   "id": "a10cd7c4-9c97-4d68-b8b9-b28a4bbcfc0b",
   "metadata": {},
   "outputs": [
    {
     "data": {
      "text/plain": [
       "(2397, 23)"
      ]
     },
     "execution_count": 19,
     "metadata": {},
     "output_type": "execute_result"
    }
   ],
   "source": [
    "df_inference = df.loc[df[\"year\"] >= 2021]\n",
    "df_inference = df_inference.fillna(0)\n",
    "df_inference.shape"
   ]
  },
  {
   "cell_type": "code",
   "execution_count": 20,
   "id": "172cf51f-2141-42bb-915d-9760e58cd12c",
   "metadata": {},
   "outputs": [
    {
     "data": {
      "text/html": [
       "<div>\n",
       "<style scoped>\n",
       "    .dataframe tbody tr th:only-of-type {\n",
       "        vertical-align: middle;\n",
       "    }\n",
       "\n",
       "    .dataframe tbody tr th {\n",
       "        vertical-align: top;\n",
       "    }\n",
       "\n",
       "    .dataframe thead th {\n",
       "        text-align: right;\n",
       "    }\n",
       "</style>\n",
       "<table border=\"1\" class=\"dataframe\">\n",
       "  <thead>\n",
       "    <tr style=\"text-align: right;\">\n",
       "      <th></th>\n",
       "      <th>lkupclientid</th>\n",
       "      <th>dimcustomermasterid</th>\n",
       "      <th>year</th>\n",
       "      <th>productgrouping</th>\n",
       "      <th>totalspent</th>\n",
       "      <th>recentdate</th>\n",
       "      <th>attendancepercent</th>\n",
       "      <th>renewedbeforedays</th>\n",
       "      <th>source_tenure</th>\n",
       "      <th>tenure</th>\n",
       "      <th>...</th>\n",
       "      <th>opentosendratio</th>\n",
       "      <th>clicktosendratio</th>\n",
       "      <th>clicktoopenratio</th>\n",
       "      <th>gender</th>\n",
       "      <th>phonecall</th>\n",
       "      <th>inperson_contact</th>\n",
       "      <th>isnextyear_buyer</th>\n",
       "      <th>Label</th>\n",
       "      <th>Score_0</th>\n",
       "      <th>Score_1</th>\n",
       "    </tr>\n",
       "  </thead>\n",
       "  <tbody>\n",
       "    <tr>\n",
       "      <th>1356</th>\n",
       "      <td>14</td>\n",
       "      <td>296598742</td>\n",
       "      <td>2021</td>\n",
       "      <td>Full Series</td>\n",
       "      <td>1250.08</td>\n",
       "      <td>2021-08-21</td>\n",
       "      <td>0.07</td>\n",
       "      <td>200</td>\n",
       "      <td>8760</td>\n",
       "      <td>2056</td>\n",
       "      <td>...</td>\n",
       "      <td>0.00</td>\n",
       "      <td>0.00</td>\n",
       "      <td>0.00</td>\n",
       "      <td>Unknown</td>\n",
       "      <td>0</td>\n",
       "      <td>0</td>\n",
       "      <td>0</td>\n",
       "      <td>0</td>\n",
       "      <td>1.0</td>\n",
       "      <td>0.0</td>\n",
       "    </tr>\n",
       "    <tr>\n",
       "      <th>1357</th>\n",
       "      <td>14</td>\n",
       "      <td>296599166</td>\n",
       "      <td>2021</td>\n",
       "      <td>Mini Plan</td>\n",
       "      <td>64.00</td>\n",
       "      <td>2021-08-15</td>\n",
       "      <td>0.33</td>\n",
       "      <td>4</td>\n",
       "      <td>1825</td>\n",
       "      <td>1385</td>\n",
       "      <td>...</td>\n",
       "      <td>0.00</td>\n",
       "      <td>0.00</td>\n",
       "      <td>0.00</td>\n",
       "      <td>Unknown</td>\n",
       "      <td>0</td>\n",
       "      <td>0</td>\n",
       "      <td>0</td>\n",
       "      <td>0</td>\n",
       "      <td>1.0</td>\n",
       "      <td>0.0</td>\n",
       "    </tr>\n",
       "    <tr>\n",
       "      <th>1358</th>\n",
       "      <td>14</td>\n",
       "      <td>296598642</td>\n",
       "      <td>2021</td>\n",
       "      <td>Full Series</td>\n",
       "      <td>2200.00</td>\n",
       "      <td>2021-08-21</td>\n",
       "      <td>0.83</td>\n",
       "      <td>200</td>\n",
       "      <td>2555</td>\n",
       "      <td>2046</td>\n",
       "      <td>...</td>\n",
       "      <td>0.00</td>\n",
       "      <td>0.00</td>\n",
       "      <td>0.00</td>\n",
       "      <td>Unknown</td>\n",
       "      <td>0</td>\n",
       "      <td>0</td>\n",
       "      <td>0</td>\n",
       "      <td>1</td>\n",
       "      <td>0.0</td>\n",
       "      <td>1.0</td>\n",
       "    </tr>\n",
       "    <tr>\n",
       "      <th>1359</th>\n",
       "      <td>14</td>\n",
       "      <td>296574631</td>\n",
       "      <td>2021</td>\n",
       "      <td>Mini Plan</td>\n",
       "      <td>156.00</td>\n",
       "      <td>1970-01-01</td>\n",
       "      <td>0.67</td>\n",
       "      <td>72</td>\n",
       "      <td>1460</td>\n",
       "      <td>1256</td>\n",
       "      <td>...</td>\n",
       "      <td>0.00</td>\n",
       "      <td>0.00</td>\n",
       "      <td>0.00</td>\n",
       "      <td>Unknown</td>\n",
       "      <td>0</td>\n",
       "      <td>0</td>\n",
       "      <td>0</td>\n",
       "      <td>0</td>\n",
       "      <td>1.0</td>\n",
       "      <td>0.0</td>\n",
       "    </tr>\n",
       "    <tr>\n",
       "      <th>1360</th>\n",
       "      <td>14</td>\n",
       "      <td>296599211</td>\n",
       "      <td>2021</td>\n",
       "      <td>Full Series</td>\n",
       "      <td>18400.00</td>\n",
       "      <td>2021-08-17</td>\n",
       "      <td>0.51</td>\n",
       "      <td>206</td>\n",
       "      <td>8760</td>\n",
       "      <td>2104</td>\n",
       "      <td>...</td>\n",
       "      <td>0.00</td>\n",
       "      <td>0.00</td>\n",
       "      <td>0.00</td>\n",
       "      <td>Unknown</td>\n",
       "      <td>0</td>\n",
       "      <td>0</td>\n",
       "      <td>0</td>\n",
       "      <td>0</td>\n",
       "      <td>1.0</td>\n",
       "      <td>0.0</td>\n",
       "    </tr>\n",
       "  </tbody>\n",
       "</table>\n",
       "<p>5 rows × 26 columns</p>\n",
       "</div>"
      ],
      "text/plain": [
       "      lkupclientid  dimcustomermasterid  year productgrouping  totalspent  \\\n",
       "1356            14            296598742  2021     Full Series     1250.08   \n",
       "1357            14            296599166  2021       Mini Plan       64.00   \n",
       "1358            14            296598642  2021     Full Series     2200.00   \n",
       "1359            14            296574631  2021       Mini Plan      156.00   \n",
       "1360            14            296599211  2021     Full Series    18400.00   \n",
       "\n",
       "     recentdate  attendancepercent  renewedbeforedays source_tenure  tenure  \\\n",
       "1356 2021-08-21               0.07                200          8760    2056   \n",
       "1357 2021-08-15               0.33                  4          1825    1385   \n",
       "1358 2021-08-21               0.83                200          2555    2046   \n",
       "1359 1970-01-01               0.67                 72          1460    1256   \n",
       "1360 2021-08-17               0.51                206          8760    2104   \n",
       "\n",
       "      ...  opentosendratio  clicktosendratio clicktoopenratio   gender  \\\n",
       "1356  ...             0.00              0.00             0.00  Unknown   \n",
       "1357  ...             0.00              0.00             0.00  Unknown   \n",
       "1358  ...             0.00              0.00             0.00  Unknown   \n",
       "1359  ...             0.00              0.00             0.00  Unknown   \n",
       "1360  ...             0.00              0.00             0.00  Unknown   \n",
       "\n",
       "     phonecall  inperson_contact isnextyear_buyer Label Score_0 Score_1  \n",
       "1356         0                 0                0     0     1.0     0.0  \n",
       "1357         0                 0                0     0     1.0     0.0  \n",
       "1358         0                 0                0     1     0.0     1.0  \n",
       "1359         0                 0                0     0     1.0     0.0  \n",
       "1360         0                 0                0     0     1.0     0.0  \n",
       "\n",
       "[5 rows x 26 columns]"
      ]
     },
     "execution_count": 20,
     "metadata": {},
     "output_type": "execute_result"
    }
   ],
   "source": [
    "new_predictions = predict_model(final_model, data=df_inference, raw_score=True)\n",
    "new_predictions.head()"
   ]
  },
  {
   "cell_type": "code",
   "execution_count": 21,
   "id": "b805c0ff-3d1c-469c-82a2-82b741d254fd",
   "metadata": {},
   "outputs": [
    {
     "data": {
      "text/plain": [
       "0    1991\n",
       "1     406\n",
       "Name: Label, dtype: int64"
      ]
     },
     "execution_count": 21,
     "metadata": {},
     "output_type": "execute_result"
    }
   ],
   "source": [
    "new_predictions[\"Label\"].value_counts()"
   ]
  },
  {
   "cell_type": "code",
   "execution_count": 22,
   "id": "24c265b3-cae9-46ba-840f-8bf95b3c342b",
   "metadata": {},
   "outputs": [
    {
     "data": {
      "text/plain": [
       "(-0.001, 0.4]    1989\n",
       "(0.7, 1.0]        405\n",
       "(0.4, 0.7]          3\n",
       "Name: Score_1, dtype: int64"
      ]
     },
     "execution_count": 22,
     "metadata": {},
     "output_type": "execute_result"
    }
   ],
   "source": [
    "new_predictions[\"Score_1\"].value_counts(bins=[0, 0.4, 0.7, 1.0])"
   ]
  },
  {
   "cell_type": "code",
   "execution_count": 23,
   "id": "b4d536ca-537d-4bd4-9752-3a78f99aa291",
   "metadata": {},
   "outputs": [
    {
     "data": {
      "image/png": "[encoded data removed]",
      "text/plain": [
       "<Figure size 576x396 with 1 Axes>"
      ]
     },
     "metadata": {},
     "output_type": "display_data"
    }
   ],
   "source": [
    "plt.hist(new_predictions[\"Score_1\"], bins=20, edgecolor='black')\n",
    "plt.title(\"Retention Scores\")\n",
    "plt.ylabel(\"Num Fans\")\n",
    "plt.xlabel(\"SA Buyer Score\")\n",
    "plt.show()"
   ]
  },
  {
   "cell_type": "code",
   "execution_count": 24,
   "id": "ce568037-74a9-446e-8b3b-ac1c734dae77",
   "metadata": {},
   "outputs": [
    {
     "data": {
      "image/png": "[encoded data removed]",
      "text/plain": [
       "<Figure size 800x500 with 1 Axes>"
      ]
     },
     "metadata": {},
     "output_type": "display_data"
    }
   ],
   "source": [
    "plot_model(best_model, plot='feature')"
   ]
  },
  {
   "cell_type": "code",
   "execution_count": 25,
   "id": "5ca36ba0-77b4-43c8-be52-83fc91ac03e7",
   "metadata": {},
   "outputs": [
    {
     "data": {
      "image/png": "[encoded data removed]",
      "text/plain": [
       "<Figure size 576x396 with 1 Axes>"
      ]
     },
     "metadata": {},
     "output_type": "display_data"
    }
   ],
   "source": [
    "plot_model(best_model, plot='confusion_matrix')"
   ]
  },
  {
   "cell_type": "markdown",
   "id": "1759436c-fc75-43d5-9900-5ca66ad5acae",
   "metadata": {},
   "source": [
    "### Observations:\n",
    "\n",
    "1. How much data did we have available to train the model, was it enough data?\n",
    "* We have 9,854 data for training (we selected data from 2016 to 2019 to train the model).\n",
    "\n",
    "2. How accurate was our retention model when applied to this tennis tournament dataset?\n",
    "* The accuracy is 74%, typically our retention model accuracy is over 90%.\n",
    "\n",
    "3. How many fans scored over 0.75 for the 2021 season? How does this compare with a retention model for a regular season \n",
    "* We have 405 of 2397 fans that scored over 0.75 for the 2021 season which is good.\n",
    "* typically our retention model scores the majority of fans over 0.5.\n",
    "\n",
    "4. What were the most important features in making a correct model prediction? Do they make sense for a tennis tournament?\n",
    "\n",
    "* Renewedbeforedays, totalspent, and attendancepercent are still important which makes sense in the context of a tennis tournament.\n"
   ]
  },
  {
   "cell_type": "markdown",
   "id": "713c1fb6",
   "metadata": {},
   "source": [
    "### Conclusion:"
   ]
  },
  {
   "cell_type": "markdown",
   "id": "5f9fe551",
   "metadata": {},
   "source": [
    "Based on our observations above we would not reccomend using this retention model for tournaments because eventhough it is 80% accurate it does not predict high enough number of buyers to be useful for the WSO."
   ]
  },
  {
   "cell_type": "code",
   "execution_count": null,
   "id": "7043f8d1-367c-419e-bfba-71fff56d80b1",
   "metadata": {},
   "outputs": [],
   "source": []
  }
 ],
 "metadata": {
  "interpreter": {
   "hash": "89f48dadab51a6b5b48ffc1a9e043c21cefe67453637c3444f3b86917b8aad16"
  },
  "kernelspec": {
   "display_name": "Python 3 (ipykernel)",
   "language": "python",
   "name": "python3"
  },
  "language_info": {
   "codemirror_mode": {
    "name": "ipython",
    "version": 3
   },
   "file_extension": ".py",
   "mimetype": "text/x-python",
   "name": "python",
   "nbconvert_exporter": "python",
   "pygments_lexer": "ipython3",
   "version": "3.9.4"
  }
 },
 "nbformat": 4,
 "nbformat_minor": 5
}
