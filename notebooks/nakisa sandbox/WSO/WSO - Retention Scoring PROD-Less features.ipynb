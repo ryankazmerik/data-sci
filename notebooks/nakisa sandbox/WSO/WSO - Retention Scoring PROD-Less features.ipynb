{
 "cells": [
  {
   "cell_type": "markdown",
   "id": "6ee08766-25fd-4da1-91b8-b0c3e74db588",
   "metadata": {},
   "source": [
    "# WSO - PROD Retention Score - Less features\n",
    "* StelllarAlgo Data Science\n",
    "* Ryan Kazmerik & Nakisa Rad\n",
    "* June 7, 2022"
   ]
  },
  {
   "cell_type": "markdown",
   "id": "39108c8d-2e9f-4759-ade2-83071038dc56",
   "metadata": {},
   "source": [
    "## Hypothesis\n"
   ]
  },
  {
   "cell_type": "markdown",
   "id": "28142011-1f32-4cc7-816b-a6dae6f70c8c",
   "metadata": {},
   "source": [
    "## Experiment\n",
    "This section details our experiment including querying data, data transformations, feature selection and modelling."
   ]
  },
  {
   "cell_type": "code",
   "execution_count": 1,
   "id": "4c533efd-600e-4bce-8203-faffbddfa700",
   "metadata": {},
   "outputs": [],
   "source": [
    "import getpass\n",
    "import pyodbc\n",
    "import pandas as pd\n",
    "import warnings\n",
    "import matplotlib.pyplot as plt\n",
    "\n",
    "from pycaret.classification import *\n",
    "\n",
    "warnings.filterwarnings('ignore')"
   ]
  },
  {
   "cell_type": "markdown",
   "id": "b64ae7d5-84af-4915-bd13-1dd9d17098a3",
   "metadata": {},
   "source": [
    "### Let's connect to MSSQL and run a stored proc to get our dataset:"
   ]
  },
  {
   "cell_type": "code",
   "execution_count": 2,
   "id": "ae561eb4-f419-4d46-b5e0-12fac9b10db8",
   "metadata": {},
   "outputs": [
    {
     "name": "stdin",
     "output_type": "stream",
     "text": [
      "Enter your password ··················\n"
     ]
    }
   ],
   "source": [
    "# connect to SQL Server.\n",
    "SERVER = '34.206.73.189' \n",
    "DATABASE = 'datascience' \n",
    "USERNAME = 'dsAdminWrite' \n",
    "PASSWORD = getpass.getpass(prompt='Enter your password')\n",
    "CNXN = pyodbc.connect('DRIVER={ODBC Driver 17 for SQL Server};SERVER='+SERVER+';DATABASE='+DATABASE+';UID='+USERNAME+';PWD='+ PASSWORD)"
   ]
  },
  {
   "cell_type": "code",
   "execution_count": 3,
   "id": "af1afe7d-a35b-494b-88f3-980fb0e3da30",
   "metadata": {},
   "outputs": [
    {
     "data": {
      "text/plain": [
       "(12539, 53)"
      ]
     },
     "execution_count": 3,
     "metadata": {},
     "output_type": "execute_result"
    }
   ],
   "source": [
    "lkupclientid = 14 # WSO\n",
    "cursor = CNXN.cursor()\n",
    "\n",
    "storedProc = (\n",
    "    f\"\"\"Exec [stlrWSO].[ds].[getRetentionScoringModelData] {lkupclientid}\"\"\"\n",
    ")\n",
    "\n",
    "df = pd.read_sql(storedProc, CNXN)\n",
    "\n",
    "# apply some data transformations\n",
    "df[\"year\"] = pd.to_numeric(df[\"year\"])\n",
    "\n",
    "CNXN.commit()\n",
    "cursor.close()\n",
    "\n",
    "df.shape"
   ]
  },
  {
   "cell_type": "code",
   "execution_count": 4,
   "id": "11e97dcc-c69e-46c1-8dad-33f6291cb0c6",
   "metadata": {},
   "outputs": [
    {
     "name": "stdout",
     "output_type": "stream",
     "text": [
      "<class 'pandas.core.frame.DataFrame'>\n",
      "RangeIndex: 12539 entries, 0 to 12538\n",
      "Data columns (total 53 columns):\n",
      " #   Column                  Non-Null Count  Dtype  \n",
      "---  ------                  --------------  -----  \n",
      " 0   lkupClientId            12539 non-null  int64  \n",
      " 1   dimCustomerMasterId     12539 non-null  int64  \n",
      " 2   year                    12539 non-null  int64  \n",
      " 3   productGrouping         12539 non-null  object \n",
      " 4   totalSpent              12539 non-null  float64\n",
      " 5   recentDate              12539 non-null  object \n",
      " 6   attendancePercent       12539 non-null  float64\n",
      " 7   renewedBeforeDays       12539 non-null  int64  \n",
      " 8   isBuyer                 12539 non-null  object \n",
      " 9   source_tenure           12539 non-null  int64  \n",
      " 10  tenure                  12539 non-null  int64  \n",
      " 11  distToVenue             12539 non-null  float64\n",
      " 12  totalGames              12539 non-null  int64  \n",
      " 13  recency                 12539 non-null  int64  \n",
      " 14  missed_games_1          12539 non-null  int64  \n",
      " 15  missed_games_2          12539 non-null  int64  \n",
      " 16  missed_games_over_2     12539 non-null  int64  \n",
      " 17  click_link              12539 non-null  int64  \n",
      " 18  fill_out_form           12539 non-null  int64  \n",
      " 19  open_email              12539 non-null  int64  \n",
      " 20  send_email              12539 non-null  int64  \n",
      " 21  unsubscribe_email       12539 non-null  int64  \n",
      " 22  openToSendRatio         12539 non-null  float64\n",
      " 23  clickToSendRatio        12539 non-null  float64\n",
      " 24  clickToOpenRatio        12539 non-null  float64\n",
      " 25  posting_records         12539 non-null  int64  \n",
      " 26  resale_records          12539 non-null  int64  \n",
      " 27  resale_atp              12539 non-null  float64\n",
      " 28  forward_records         12539 non-null  int64  \n",
      " 29  cancel_records          12539 non-null  int64  \n",
      " 30  email                   12539 non-null  int64  \n",
      " 31  inbound_email           12539 non-null  int64  \n",
      " 32  inbound_phonecall       12539 non-null  int64  \n",
      " 33  inperson_contact        12539 non-null  int64  \n",
      " 34  internal_note           12539 non-null  int64  \n",
      " 35  left_message            12539 non-null  int64  \n",
      " 36  outbound_email          12539 non-null  int64  \n",
      " 37  outbound_phonecall      12539 non-null  int64  \n",
      " 38  phonecall               12539 non-null  int64  \n",
      " 39  text                    12539 non-null  int64  \n",
      " 40  unknown                 12539 non-null  int64  \n",
      " 41  gender                  12539 non-null  object \n",
      " 42  childrenPresentInHH     12539 non-null  int64  \n",
      " 43  maritalStatus           12539 non-null  int64  \n",
      " 44  lengthOfResidenceInYrs  0 non-null      object \n",
      " 45  annualHHIncome          0 non-null      object \n",
      " 46  education               0 non-null      object \n",
      " 47  urbanicity              0 non-null      object \n",
      " 48  credits_after_refund    12539 non-null  float64\n",
      " 49  is_Lockdown             12539 non-null  int64  \n",
      " 50  NumberofGamesPerSeason  12539 non-null  int64  \n",
      " 51  CNTPostponedGames       0 non-null      object \n",
      " 52  isNextYear_Buyer        12539 non-null  int64  \n",
      "dtypes: float64(8), int64(36), object(9)\n",
      "memory usage: 5.1+ MB\n"
     ]
    }
   ],
   "source": [
    "df.info()"
   ]
  },
  {
   "cell_type": "markdown",
   "id": "ab40da92-72a7-49c1-9829-ed3805a39719",
   "metadata": {},
   "source": [
    "### We should specify the features used in our model:"
   ]
  },
  {
   "cell_type": "code",
   "execution_count": 5,
   "id": "788f1273-8b7a-46bd-a099-1a471feeacc5",
   "metadata": {},
   "outputs": [
    {
     "name": "stdout",
     "output_type": "stream",
     "text": [
      "Data for Modeling: (8621, 8)\n",
      "Unseen Data For Predictions: (1521, 8)\n",
      "\n"
     ]
    }
   ],
   "source": [
    "# choose the features for the stellar base retention model\n",
    "features = [\n",
    "                \"dimCustomerMasterId\",\n",
    "                \"attendancePercent\",\n",
    "                \"totalSpent\",\n",
    "                \"source_tenure\",\n",
    "                \"renewedBeforeDays\",\n",
    "                \"isNextYear_Buyer\",\n",
    "                \"productGrouping\",\n",
    "                \"year\"\n",
    "]\n",
    "\n",
    "# copy your main dataframe\n",
    "df_dataset = df\n",
    "\n",
    "# choose the features & train year & test year\n",
    "df_dataset = df_dataset[features]\n",
    "df_dataset[\"year\"] = pd.to_numeric(df_dataset[\"year\"])\n",
    "df_dataset = df_dataset.loc[df_dataset[\"year\"] <= 2019]\n",
    "\n",
    "df_train = df_dataset.sample(frac=0.85, random_state=786)\n",
    "df_eval = df_dataset.drop(df_train.index)\n",
    "\n",
    "df_train.reset_index(drop=True, inplace=True)\n",
    "df_eval.reset_index(drop=True, inplace=True)\n",
    "\n",
    "# print out the number of records for training and eval\n",
    "print('Data for Modeling: ' + str(df_train.shape))\n",
    "print('Unseen Data For Predictions: ' + str(df_eval.shape), end=\"\\n\\n\")"
   ]
  },
  {
   "cell_type": "markdown",
   "id": "4f2da06d-9015-49fd-89b3-956c2ebf66e9",
   "metadata": {},
   "source": [
    "### Now we can model the data using a binary classification prediction for the isnextyear_buyer field to see how likely a customer is to re-purchase."
   ]
  },
  {
   "cell_type": "code",
   "execution_count": 6,
   "id": "23a69cdc-b3ec-48c8-9ce5-29f617779389",
   "metadata": {},
   "outputs": [],
   "source": [
    "setup(\n",
    "    data= df_train, \n",
    "    target=\"isNextYear_Buyer\", \n",
    "    train_size = 0.85,\n",
    "    data_split_shuffle=True,\n",
    "    ignore_features=[\"dimCustomerMasterId\",\"productGrouping\",\"year\"],\n",
    "    silent=True,\n",
    "    verbose=False,\n",
    "    numeric_features=[\n",
    "                \"attendancePercent\",\n",
    "                \"totalSpent\",\n",
    "                \"source_tenure\",\n",
    "                \"renewedBeforeDays\",\n",
    "    ]\n",
    ");"
   ]
  },
  {
   "cell_type": "code",
   "execution_count": 7,
   "id": "ef2db9d2-02c2-45c0-b6bb-5cad42c373ce",
   "metadata": {},
   "outputs": [
    {
     "data": {
      "text/html": [
       "<style  type=\"text/css\" >\n",
       "    #T_2983b_ th {\n",
       "          text-align: left;\n",
       "    }#T_2983b_row0_col0{\n",
       "            text-align:  left;\n",
       "            text-align:  left;\n",
       "        }#T_2983b_row0_col1,#T_2983b_row0_col2,#T_2983b_row0_col3,#T_2983b_row0_col4,#T_2983b_row0_col5,#T_2983b_row0_col6,#T_2983b_row0_col7{\n",
       "            text-align:  left;\n",
       "            text-align:  left;\n",
       "            background-color:  yellow;\n",
       "        }#T_2983b_row0_col8{\n",
       "            text-align:  left;\n",
       "            text-align:  left;\n",
       "            background-color:  yellow;\n",
       "            background-color:  lightgrey;\n",
       "        }</style><table id=\"T_2983b_\" ><thead>    <tr>        <th class=\"blank level0\" ></th>        <th class=\"col_heading level0 col0\" >Model</th>        <th class=\"col_heading level0 col1\" >Accuracy</th>        <th class=\"col_heading level0 col2\" >AUC</th>        <th class=\"col_heading level0 col3\" >Recall</th>        <th class=\"col_heading level0 col4\" >Prec.</th>        <th class=\"col_heading level0 col5\" >F1</th>        <th class=\"col_heading level0 col6\" >Kappa</th>        <th class=\"col_heading level0 col7\" >MCC</th>        <th class=\"col_heading level0 col8\" >TT (Sec)</th>    </tr></thead><tbody>\n",
       "                <tr>\n",
       "                        <th id=\"T_2983b_level0_row0\" class=\"row_heading level0 row0\" >lr</th>\n",
       "                        <td id=\"T_2983b_row0_col0\" class=\"data row0 col0\" >Logistic Regression</td>\n",
       "                        <td id=\"T_2983b_row0_col1\" class=\"data row0 col1\" >0.7302</td>\n",
       "                        <td id=\"T_2983b_row0_col2\" class=\"data row0 col2\" >0.7996</td>\n",
       "                        <td id=\"T_2983b_row0_col3\" class=\"data row0 col3\" >0.7005</td>\n",
       "                        <td id=\"T_2983b_row0_col4\" class=\"data row0 col4\" >0.7075</td>\n",
       "                        <td id=\"T_2983b_row0_col5\" class=\"data row0 col5\" >0.7038</td>\n",
       "                        <td id=\"T_2983b_row0_col6\" class=\"data row0 col6\" >0.4561</td>\n",
       "                        <td id=\"T_2983b_row0_col7\" class=\"data row0 col7\" >0.4563</td>\n",
       "                        <td id=\"T_2983b_row0_col8\" class=\"data row0 col8\" >0.2570</td>\n",
       "            </tr>\n",
       "    </tbody></table>"
      ],
      "text/plain": [
       "<pandas.io.formats.style.Styler at 0x7fc63e22d460>"
      ]
     },
     "metadata": {},
     "output_type": "display_data"
    }
   ],
   "source": [
    "model_matrix = compare_models(\n",
    "    fold=10,\n",
    "    include=[\"lr\"]\n",
    ")"
   ]
  },
  {
   "cell_type": "code",
   "execution_count": 8,
   "id": "d9f030ed-4b6a-4a87-a01e-129dc49e0d4a",
   "metadata": {},
   "outputs": [
    {
     "data": {
      "text/html": [
       "<style  type=\"text/css\" >\n",
       "#T_b24be_row10_col0,#T_b24be_row10_col1,#T_b24be_row10_col2,#T_b24be_row10_col3,#T_b24be_row10_col4,#T_b24be_row10_col5,#T_b24be_row10_col6{\n",
       "            background:  yellow;\n",
       "        }</style><table id=\"T_b24be_\" ><thead>    <tr>        <th class=\"blank level0\" ></th>        <th class=\"col_heading level0 col0\" >Accuracy</th>        <th class=\"col_heading level0 col1\" >AUC</th>        <th class=\"col_heading level0 col2\" >Recall</th>        <th class=\"col_heading level0 col3\" >Prec.</th>        <th class=\"col_heading level0 col4\" >F1</th>        <th class=\"col_heading level0 col5\" >Kappa</th>        <th class=\"col_heading level0 col6\" >MCC</th>    </tr></thead><tbody>\n",
       "                <tr>\n",
       "                        <th id=\"T_b24be_level0_row0\" class=\"row_heading level0 row0\" >0</th>\n",
       "                        <td id=\"T_b24be_row0_col0\" class=\"data row0 col0\" >0.7244</td>\n",
       "                        <td id=\"T_b24be_row0_col1\" class=\"data row0 col1\" >0.7965</td>\n",
       "                        <td id=\"T_b24be_row0_col2\" class=\"data row0 col2\" >0.6756</td>\n",
       "                        <td id=\"T_b24be_row0_col3\" class=\"data row0 col3\" >0.7094</td>\n",
       "                        <td id=\"T_b24be_row0_col4\" class=\"data row0 col4\" >0.6921</td>\n",
       "                        <td id=\"T_b24be_row0_col5\" class=\"data row0 col5\" >0.4430</td>\n",
       "                        <td id=\"T_b24be_row0_col6\" class=\"data row0 col6\" >0.4434</td>\n",
       "            </tr>\n",
       "            <tr>\n",
       "                        <th id=\"T_b24be_level0_row1\" class=\"row_heading level0 row1\" >1</th>\n",
       "                        <td id=\"T_b24be_row1_col0\" class=\"data row1 col0\" >0.7353</td>\n",
       "                        <td id=\"T_b24be_row1_col1\" class=\"data row1 col1\" >0.8144</td>\n",
       "                        <td id=\"T_b24be_row1_col2\" class=\"data row1 col2\" >0.7292</td>\n",
       "                        <td id=\"T_b24be_row1_col3\" class=\"data row1 col3\" >0.7040</td>\n",
       "                        <td id=\"T_b24be_row1_col4\" class=\"data row1 col4\" >0.7164</td>\n",
       "                        <td id=\"T_b24be_row1_col5\" class=\"data row1 col5\" >0.4684</td>\n",
       "                        <td id=\"T_b24be_row1_col6\" class=\"data row1 col6\" >0.4687</td>\n",
       "            </tr>\n",
       "            <tr>\n",
       "                        <th id=\"T_b24be_level0_row2\" class=\"row_heading level0 row2\" >2</th>\n",
       "                        <td id=\"T_b24be_row2_col0\" class=\"data row2 col0\" >0.7422</td>\n",
       "                        <td id=\"T_b24be_row2_col1\" class=\"data row2 col1\" >0.8157</td>\n",
       "                        <td id=\"T_b24be_row2_col2\" class=\"data row2 col2\" >0.7194</td>\n",
       "                        <td id=\"T_b24be_row2_col3\" class=\"data row2 col3\" >0.7173</td>\n",
       "                        <td id=\"T_b24be_row2_col4\" class=\"data row2 col4\" >0.7183</td>\n",
       "                        <td id=\"T_b24be_row2_col5\" class=\"data row2 col5\" >0.4806</td>\n",
       "                        <td id=\"T_b24be_row2_col6\" class=\"data row2 col6\" >0.4806</td>\n",
       "            </tr>\n",
       "            <tr>\n",
       "                        <th id=\"T_b24be_level0_row3\" class=\"row_heading level0 row3\" >3</th>\n",
       "                        <td id=\"T_b24be_row3_col0\" class=\"data row3 col0\" >0.7285</td>\n",
       "                        <td id=\"T_b24be_row3_col1\" class=\"data row3 col1\" >0.7963</td>\n",
       "                        <td id=\"T_b24be_row3_col2\" class=\"data row3 col2\" >0.7134</td>\n",
       "                        <td id=\"T_b24be_row3_col3\" class=\"data row3 col3\" >0.6988</td>\n",
       "                        <td id=\"T_b24be_row3_col4\" class=\"data row3 col4\" >0.7061</td>\n",
       "                        <td id=\"T_b24be_row3_col5\" class=\"data row3 col5\" >0.4539</td>\n",
       "                        <td id=\"T_b24be_row3_col6\" class=\"data row3 col6\" >0.4540</td>\n",
       "            </tr>\n",
       "            <tr>\n",
       "                        <th id=\"T_b24be_level0_row4\" class=\"row_heading level0 row4\" >4</th>\n",
       "                        <td id=\"T_b24be_row4_col0\" class=\"data row4 col0\" >0.7353</td>\n",
       "                        <td id=\"T_b24be_row4_col1\" class=\"data row4 col1\" >0.8087</td>\n",
       "                        <td id=\"T_b24be_row4_col2\" class=\"data row4 col2\" >0.7075</td>\n",
       "                        <td id=\"T_b24be_row4_col3\" class=\"data row4 col3\" >0.7117</td>\n",
       "                        <td id=\"T_b24be_row4_col4\" class=\"data row4 col4\" >0.7096</td>\n",
       "                        <td id=\"T_b24be_row4_col5\" class=\"data row4 col5\" >0.4665</td>\n",
       "                        <td id=\"T_b24be_row4_col6\" class=\"data row4 col6\" >0.4665</td>\n",
       "            </tr>\n",
       "            <tr>\n",
       "                        <th id=\"T_b24be_level0_row5\" class=\"row_heading level0 row5\" >5</th>\n",
       "                        <td id=\"T_b24be_row5_col0\" class=\"data row5 col0\" >0.7299</td>\n",
       "                        <td id=\"T_b24be_row5_col1\" class=\"data row5 col1\" >0.7914</td>\n",
       "                        <td id=\"T_b24be_row5_col2\" class=\"data row5 col2\" >0.6925</td>\n",
       "                        <td id=\"T_b24be_row5_col3\" class=\"data row5 col3\" >0.7095</td>\n",
       "                        <td id=\"T_b24be_row5_col4\" class=\"data row5 col4\" >0.7009</td>\n",
       "                        <td id=\"T_b24be_row5_col5\" class=\"data row5 col5\" >0.4547</td>\n",
       "                        <td id=\"T_b24be_row5_col6\" class=\"data row5 col6\" >0.4548</td>\n",
       "            </tr>\n",
       "            <tr>\n",
       "                        <th id=\"T_b24be_level0_row6\" class=\"row_heading level0 row6\" >6</th>\n",
       "                        <td id=\"T_b24be_row6_col0\" class=\"data row6 col0\" >0.7449</td>\n",
       "                        <td id=\"T_b24be_row6_col1\" class=\"data row6 col1\" >0.8118</td>\n",
       "                        <td id=\"T_b24be_row6_col2\" class=\"data row6 col2\" >0.6836</td>\n",
       "                        <td id=\"T_b24be_row6_col3\" class=\"data row6 col3\" >0.7387</td>\n",
       "                        <td id=\"T_b24be_row6_col4\" class=\"data row6 col4\" >0.7101</td>\n",
       "                        <td id=\"T_b24be_row6_col5\" class=\"data row6 col5\" >0.4829</td>\n",
       "                        <td id=\"T_b24be_row6_col6\" class=\"data row6 col6\" >0.4841</td>\n",
       "            </tr>\n",
       "            <tr>\n",
       "                        <th id=\"T_b24be_level0_row7\" class=\"row_heading level0 row7\" >7</th>\n",
       "                        <td id=\"T_b24be_row7_col0\" class=\"data row7 col0\" >0.6954</td>\n",
       "                        <td id=\"T_b24be_row7_col1\" class=\"data row7 col1\" >0.7739</td>\n",
       "                        <td id=\"T_b24be_row7_col2\" class=\"data row7 col2\" >0.6866</td>\n",
       "                        <td id=\"T_b24be_row7_col3\" class=\"data row7 col3\" >0.6609</td>\n",
       "                        <td id=\"T_b24be_row7_col4\" class=\"data row7 col4\" >0.6735</td>\n",
       "                        <td id=\"T_b24be_row7_col5\" class=\"data row7 col5\" >0.3882</td>\n",
       "                        <td id=\"T_b24be_row7_col6\" class=\"data row7 col6\" >0.3884</td>\n",
       "            </tr>\n",
       "            <tr>\n",
       "                        <th id=\"T_b24be_level0_row8\" class=\"row_heading level0 row8\" >8</th>\n",
       "                        <td id=\"T_b24be_row8_col0\" class=\"data row8 col0\" >0.7500</td>\n",
       "                        <td id=\"T_b24be_row8_col1\" class=\"data row8 col1\" >0.8124</td>\n",
       "                        <td id=\"T_b24be_row8_col2\" class=\"data row8 col2\" >0.7134</td>\n",
       "                        <td id=\"T_b24be_row8_col3\" class=\"data row8 col3\" >0.7331</td>\n",
       "                        <td id=\"T_b24be_row8_col4\" class=\"data row8 col4\" >0.7231</td>\n",
       "                        <td id=\"T_b24be_row8_col5\" class=\"data row8 col5\" >0.4953</td>\n",
       "                        <td id=\"T_b24be_row8_col6\" class=\"data row8 col6\" >0.4955</td>\n",
       "            </tr>\n",
       "            <tr>\n",
       "                        <th id=\"T_b24be_level0_row9\" class=\"row_heading level0 row9\" >9</th>\n",
       "                        <td id=\"T_b24be_row9_col0\" class=\"data row9 col0\" >0.7158</td>\n",
       "                        <td id=\"T_b24be_row9_col1\" class=\"data row9 col1\" >0.7743</td>\n",
       "                        <td id=\"T_b24be_row9_col2\" class=\"data row9 col2\" >0.6836</td>\n",
       "                        <td id=\"T_b24be_row9_col3\" class=\"data row9 col3\" >0.6918</td>\n",
       "                        <td id=\"T_b24be_row9_col4\" class=\"data row9 col4\" >0.6877</td>\n",
       "                        <td id=\"T_b24be_row9_col5\" class=\"data row9 col5\" >0.4271</td>\n",
       "                        <td id=\"T_b24be_row9_col6\" class=\"data row9 col6\" >0.4271</td>\n",
       "            </tr>\n",
       "            <tr>\n",
       "                        <th id=\"T_b24be_level0_row10\" class=\"row_heading level0 row10\" >Mean</th>\n",
       "                        <td id=\"T_b24be_row10_col0\" class=\"data row10 col0\" >0.7302</td>\n",
       "                        <td id=\"T_b24be_row10_col1\" class=\"data row10 col1\" >0.7996</td>\n",
       "                        <td id=\"T_b24be_row10_col2\" class=\"data row10 col2\" >0.7005</td>\n",
       "                        <td id=\"T_b24be_row10_col3\" class=\"data row10 col3\" >0.7075</td>\n",
       "                        <td id=\"T_b24be_row10_col4\" class=\"data row10 col4\" >0.7038</td>\n",
       "                        <td id=\"T_b24be_row10_col5\" class=\"data row10 col5\" >0.4561</td>\n",
       "                        <td id=\"T_b24be_row10_col6\" class=\"data row10 col6\" >0.4563</td>\n",
       "            </tr>\n",
       "            <tr>\n",
       "                        <th id=\"T_b24be_level0_row11\" class=\"row_heading level0 row11\" >SD</th>\n",
       "                        <td id=\"T_b24be_row11_col0\" class=\"data row11 col0\" >0.0150</td>\n",
       "                        <td id=\"T_b24be_row11_col1\" class=\"data row11 col1\" >0.0150</td>\n",
       "                        <td id=\"T_b24be_row11_col2\" class=\"data row11 col2\" >0.0174</td>\n",
       "                        <td id=\"T_b24be_row11_col3\" class=\"data row11 col3\" >0.0206</td>\n",
       "                        <td id=\"T_b24be_row11_col4\" class=\"data row11 col4\" >0.0146</td>\n",
       "                        <td id=\"T_b24be_row11_col5\" class=\"data row11 col5\" >0.0296</td>\n",
       "                        <td id=\"T_b24be_row11_col6\" class=\"data row11 col6\" >0.0297</td>\n",
       "            </tr>\n",
       "    </tbody></table>"
      ],
      "text/plain": [
       "<pandas.io.formats.style.Styler at 0x7fc64551d580>"
      ]
     },
     "metadata": {},
     "output_type": "display_data"
    }
   ],
   "source": [
    "best_model = create_model(model_matrix)\n",
    "final_model = finalize_model(best_model)"
   ]
  },
  {
   "cell_type": "markdown",
   "id": "3aab9021-4462-423a-8e3c-fbe1f36c6110",
   "metadata": {},
   "source": [
    "### Let's load in our 2021 season data and get retention scores using the model:"
   ]
  },
  {
   "cell_type": "code",
   "execution_count": 9,
   "id": "c249a813-c882-4869-9490-6ab766a8c223",
   "metadata": {},
   "outputs": [
    {
     "data": {
      "text/plain": [
       "(2397, 53)"
      ]
     },
     "execution_count": 9,
     "metadata": {},
     "output_type": "execute_result"
    }
   ],
   "source": [
    "df_inference = df.loc[df[\"year\"] >= 2021]\n",
    "df_inference = df_inference.fillna(0)\n",
    "df_inference.shape"
   ]
  },
  {
   "cell_type": "code",
   "execution_count": 10,
   "id": "745b62fb-fb2e-4b4a-9c48-8ce4de472a83",
   "metadata": {},
   "outputs": [
    {
     "data": {
      "text/html": [
       "<div>\n",
       "<style scoped>\n",
       "    .dataframe tbody tr th:only-of-type {\n",
       "        vertical-align: middle;\n",
       "    }\n",
       "\n",
       "    .dataframe tbody tr th {\n",
       "        vertical-align: top;\n",
       "    }\n",
       "\n",
       "    .dataframe thead th {\n",
       "        text-align: right;\n",
       "    }\n",
       "</style>\n",
       "<table border=\"1\" class=\"dataframe\">\n",
       "  <thead>\n",
       "    <tr style=\"text-align: right;\">\n",
       "      <th></th>\n",
       "      <th>lkupClientId</th>\n",
       "      <th>dimCustomerMasterId</th>\n",
       "      <th>year</th>\n",
       "      <th>productGrouping</th>\n",
       "      <th>totalSpent</th>\n",
       "      <th>recentDate</th>\n",
       "      <th>attendancePercent</th>\n",
       "      <th>renewedBeforeDays</th>\n",
       "      <th>isBuyer</th>\n",
       "      <th>source_tenure</th>\n",
       "      <th>...</th>\n",
       "      <th>education</th>\n",
       "      <th>urbanicity</th>\n",
       "      <th>credits_after_refund</th>\n",
       "      <th>is_Lockdown</th>\n",
       "      <th>NumberofGamesPerSeason</th>\n",
       "      <th>CNTPostponedGames</th>\n",
       "      <th>isNextYear_Buyer</th>\n",
       "      <th>Label</th>\n",
       "      <th>Score_0</th>\n",
       "      <th>Score_1</th>\n",
       "    </tr>\n",
       "  </thead>\n",
       "  <tbody>\n",
       "    <tr>\n",
       "      <th>10142</th>\n",
       "      <td>14</td>\n",
       "      <td>326095979</td>\n",
       "      <td>2021</td>\n",
       "      <td>Mini Plan</td>\n",
       "      <td>271.00</td>\n",
       "      <td>2021-08-19</td>\n",
       "      <td>0.500000</td>\n",
       "      <td>217</td>\n",
       "      <td>TRUE</td>\n",
       "      <td>1095</td>\n",
       "      <td>...</td>\n",
       "      <td>0</td>\n",
       "      <td>0</td>\n",
       "      <td>0.0</td>\n",
       "      <td>1</td>\n",
       "      <td>16</td>\n",
       "      <td>0</td>\n",
       "      <td>0</td>\n",
       "      <td>0</td>\n",
       "      <td>0.6609</td>\n",
       "      <td>0.3391</td>\n",
       "    </tr>\n",
       "    <tr>\n",
       "      <th>10143</th>\n",
       "      <td>14</td>\n",
       "      <td>326096618</td>\n",
       "      <td>2021</td>\n",
       "      <td>Mini Plan</td>\n",
       "      <td>1072.00</td>\n",
       "      <td>2021-08-19</td>\n",
       "      <td>0.750000</td>\n",
       "      <td>74</td>\n",
       "      <td>TRUE</td>\n",
       "      <td>1095</td>\n",
       "      <td>...</td>\n",
       "      <td>0</td>\n",
       "      <td>0</td>\n",
       "      <td>0.0</td>\n",
       "      <td>1</td>\n",
       "      <td>16</td>\n",
       "      <td>0</td>\n",
       "      <td>0</td>\n",
       "      <td>0</td>\n",
       "      <td>0.9338</td>\n",
       "      <td>0.0662</td>\n",
       "    </tr>\n",
       "    <tr>\n",
       "      <th>10144</th>\n",
       "      <td>14</td>\n",
       "      <td>326096887</td>\n",
       "      <td>2021</td>\n",
       "      <td>Mini Plan</td>\n",
       "      <td>542.00</td>\n",
       "      <td>2021-08-19</td>\n",
       "      <td>0.750000</td>\n",
       "      <td>217</td>\n",
       "      <td>TRUE</td>\n",
       "      <td>1460</td>\n",
       "      <td>...</td>\n",
       "      <td>0</td>\n",
       "      <td>0</td>\n",
       "      <td>0.0</td>\n",
       "      <td>1</td>\n",
       "      <td>16</td>\n",
       "      <td>0</td>\n",
       "      <td>0</td>\n",
       "      <td>0</td>\n",
       "      <td>0.6509</td>\n",
       "      <td>0.3491</td>\n",
       "    </tr>\n",
       "    <tr>\n",
       "      <th>10145</th>\n",
       "      <td>14</td>\n",
       "      <td>342654559</td>\n",
       "      <td>2021</td>\n",
       "      <td>Mini Plan</td>\n",
       "      <td>112.02</td>\n",
       "      <td>2021-08-14</td>\n",
       "      <td>0.333333</td>\n",
       "      <td>72</td>\n",
       "      <td>TRUE</td>\n",
       "      <td>1095</td>\n",
       "      <td>...</td>\n",
       "      <td>0</td>\n",
       "      <td>0</td>\n",
       "      <td>0.0</td>\n",
       "      <td>1</td>\n",
       "      <td>16</td>\n",
       "      <td>0</td>\n",
       "      <td>0</td>\n",
       "      <td>0</td>\n",
       "      <td>0.9274</td>\n",
       "      <td>0.0726</td>\n",
       "    </tr>\n",
       "    <tr>\n",
       "      <th>10146</th>\n",
       "      <td>14</td>\n",
       "      <td>342669176</td>\n",
       "      <td>2021</td>\n",
       "      <td>Mini Plan</td>\n",
       "      <td>784.00</td>\n",
       "      <td>2021-08-17</td>\n",
       "      <td>0.875000</td>\n",
       "      <td>73</td>\n",
       "      <td>TRUE</td>\n",
       "      <td>1825</td>\n",
       "      <td>...</td>\n",
       "      <td>0</td>\n",
       "      <td>0</td>\n",
       "      <td>0.0</td>\n",
       "      <td>1</td>\n",
       "      <td>16</td>\n",
       "      <td>0</td>\n",
       "      <td>0</td>\n",
       "      <td>0</td>\n",
       "      <td>0.9214</td>\n",
       "      <td>0.0786</td>\n",
       "    </tr>\n",
       "  </tbody>\n",
       "</table>\n",
       "<p>5 rows × 56 columns</p>\n",
       "</div>"
      ],
      "text/plain": [
       "       lkupClientId  dimCustomerMasterId  year productGrouping  totalSpent  \\\n",
       "10142            14            326095979  2021       Mini Plan      271.00   \n",
       "10143            14            326096618  2021       Mini Plan     1072.00   \n",
       "10144            14            326096887  2021       Mini Plan      542.00   \n",
       "10145            14            342654559  2021       Mini Plan      112.02   \n",
       "10146            14            342669176  2021       Mini Plan      784.00   \n",
       "\n",
       "       recentDate  attendancePercent  renewedBeforeDays isBuyer  \\\n",
       "10142  2021-08-19           0.500000                217    TRUE   \n",
       "10143  2021-08-19           0.750000                 74    TRUE   \n",
       "10144  2021-08-19           0.750000                217    TRUE   \n",
       "10145  2021-08-14           0.333333                 72    TRUE   \n",
       "10146  2021-08-17           0.875000                 73    TRUE   \n",
       "\n",
       "       source_tenure  ...  education  urbanicity  credits_after_refund  \\\n",
       "10142           1095  ...          0           0                   0.0   \n",
       "10143           1095  ...          0           0                   0.0   \n",
       "10144           1460  ...          0           0                   0.0   \n",
       "10145           1095  ...          0           0                   0.0   \n",
       "10146           1825  ...          0           0                   0.0   \n",
       "\n",
       "       is_Lockdown  NumberofGamesPerSeason  CNTPostponedGames  \\\n",
       "10142            1                      16                  0   \n",
       "10143            1                      16                  0   \n",
       "10144            1                      16                  0   \n",
       "10145            1                      16                  0   \n",
       "10146            1                      16                  0   \n",
       "\n",
       "       isNextYear_Buyer  Label  Score_0  Score_1  \n",
       "10142                 0      0   0.6609   0.3391  \n",
       "10143                 0      0   0.9338   0.0662  \n",
       "10144                 0      0   0.6509   0.3491  \n",
       "10145                 0      0   0.9274   0.0726  \n",
       "10146                 0      0   0.9214   0.0786  \n",
       "\n",
       "[5 rows x 56 columns]"
      ]
     },
     "execution_count": 10,
     "metadata": {},
     "output_type": "execute_result"
    }
   ],
   "source": [
    "new_predictions = predict_model(final_model, data=df_inference, raw_score=True)\n",
    "new_predictions.head()"
   ]
  },
  {
   "cell_type": "code",
   "execution_count": 11,
   "id": "c98d3de4-966c-4d4a-af8f-e4a2d78eed38",
   "metadata": {},
   "outputs": [
    {
     "data": {
      "text/plain": [
       "0    2068\n",
       "1     329\n",
       "Name: Label, dtype: int64"
      ]
     },
     "execution_count": 11,
     "metadata": {},
     "output_type": "execute_result"
    }
   ],
   "source": [
    "new_predictions[\"Label\"].value_counts()"
   ]
  },
  {
   "cell_type": "code",
   "execution_count": 12,
   "id": "95e96920-bc9c-4b50-837c-89e392d13449",
   "metadata": {},
   "outputs": [
    {
     "data": {
      "text/plain": [
       "(-0.001, 0.2]    1425\n",
       "(0.2, 0.4]        459\n",
       "(0.4, 0.6]        315\n",
       "(0.6, 0.8]        198\n",
       "(0.8, 1.0]          0\n",
       "Name: Score_1, dtype: int64"
      ]
     },
     "execution_count": 12,
     "metadata": {},
     "output_type": "execute_result"
    }
   ],
   "source": [
    "new_predictions[\"Score_1\"].value_counts(bins=[0, 0.2, 0.4, 0.6, 0.8, 1.0])"
   ]
  },
  {
   "cell_type": "code",
   "execution_count": 13,
   "id": "3b4b1d51-1c33-489a-95f6-ab75e428c760",
   "metadata": {},
   "outputs": [
    {
     "data": {
      "image/png": "[encoded data removed]",
      "text/plain": [
       "<Figure size 576x396 with 1 Axes>"
      ]
     },
     "metadata": {},
     "output_type": "display_data"
    }
   ],
   "source": [
    "plt.hist(new_predictions[\"Score_1\"], bins=20, edgecolor='black')\n",
    "plt.title(\"Retention Scores\")\n",
    "plt.ylabel(\"Num Fans\")\n",
    "plt.xlabel(\"SA Buyer Score\")\n",
    "plt.show()"
   ]
  },
  {
   "cell_type": "code",
   "execution_count": 14,
   "id": "144bd27b-9798-4f8b-a3a3-95298d8e2c01",
   "metadata": {},
   "outputs": [
    {
     "data": {
      "image/png": "[encoded data removed]",
      "text/plain": [
       "<Figure size 800x500 with 1 Axes>"
      ]
     },
     "metadata": {},
     "output_type": "display_data"
    }
   ],
   "source": [
    "plot_model(best_model, plot='feature')"
   ]
  },
  {
   "cell_type": "code",
   "execution_count": 15,
   "id": "79e34840-9a47-486f-a648-6d5d16d73b89",
   "metadata": {},
   "outputs": [
    {
     "data": {
      "image/png": "[encoded data removed]",
      "text/plain": [
       "<Figure size 576x396 with 1 Axes>"
      ]
     },
     "metadata": {},
     "output_type": "display_data"
    }
   ],
   "source": [
    "plot_model(best_model, plot='confusion_matrix')"
   ]
  },
  {
   "cell_type": "markdown",
   "id": "a439108b-7911-4384-b089-f7b31c825192",
   "metadata": {},
   "source": [
    "## Observations\n",
    "Here you can document some ideas on the results from above"
   ]
  },
  {
   "cell_type": "code",
   "execution_count": null,
   "id": "ba105685-1873-4a6a-b739-cd2974c7a36f",
   "metadata": {},
   "outputs": [],
   "source": []
  }
 ],
 "metadata": {
  "kernelspec": {
   "display_name": "Python 3 (ipykernel)",
   "language": "python",
   "name": "python3"
  },
  "language_info": {
   "codemirror_mode": {
    "name": "ipython",
    "version": 3
   },
   "file_extension": ".py",
   "mimetype": "text/x-python",
   "name": "python",
   "nbconvert_exporter": "python",
   "pygments_lexer": "ipython3",
   "version": "3.9.4"
  }
 },
 "nbformat": 4,
 "nbformat_minor": 5
}
