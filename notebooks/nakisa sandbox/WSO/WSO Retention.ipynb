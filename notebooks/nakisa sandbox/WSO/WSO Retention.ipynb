{
 "cells": [
  {
   "cell_type": "markdown",
   "id": "6ee08766-25fd-4da1-91b8-b0c3e74db588",
   "metadata": {},
   "source": [
    "# WSO Retention Model\n",
    "* StelllarAlgo Data Science\n",
    "* Ryan Kazmerik & Nakisa Rad\n",
    "* May 18, 2022"
   ]
  },
  {
   "cell_type": "markdown",
   "id": "ad05e308",
   "metadata": {},
   "source": [
    "## Hypothesis\n",
    "This notebook will test the standard StellarAlgo retention model features and the goal is to check if our standard retention model works for WSO or not and how our accuracy and scores look. We are also checking if we have enough data for training the retention model effectively."
   ]
  },
  {
   "cell_type": "markdown",
   "id": "43aff0fd",
   "metadata": {},
   "source": [
    "## Experiment\n",
    "This section details our experiment including querying data, data transformations, feature selection and modelling."
   ]
  },
  {
   "cell_type": "code",
   "execution_count": 1,
   "id": "4c533efd-600e-4bce-8203-faffbddfa700",
   "metadata": {},
   "outputs": [],
   "source": [
    "import boto3\n",
    "import pandas as pd\n",
    "import psycopg2\n",
    "import matplotlib.pyplot as plt\n",
    "\n",
    "from pycaret.classification import *\n",
    "\n",
    "pd.options.display.max_columns = 100\n",
    "pd.options.display.max_rows = 100"
   ]
  },
  {
   "cell_type": "markdown",
   "id": "6d6c614f-288b-4a88-97dc-7ffc1d1c7ec9",
   "metadata": {},
   "source": [
    "### To connect to RedShift, we have to tell AWS which profile we'd like to login to, this will send us for a browser authentication trip:"
   ]
  },
  {
   "cell_type": "code",
   "execution_count": 2,
   "id": "79dd57e8-d578-4755-89fb-446362735a05",
   "metadata": {},
   "outputs": [
    {
     "name": "stdout",
     "output_type": "stream",
     "text": [
      "Attempting to automatically open the SSO authorization page in your default browser.\n",
      "If the browser does not open or you wish to use a different device to authorize this request, open the following URL:\n",
      "\n",
      "https://device.sso.us-east-1.amazonaws.com/\n",
      "\n",
      "Then enter the code:\n",
      "\n",
      "ZPQB-VVMP\n",
      "Successully logged into Start URL: https://stellaralgo.awsapps.com/start#/\n"
     ]
    }
   ],
   "source": [
    "! aws sso login --profile Stellaralgo-DataScienceAdmin"
   ]
  },
  {
   "cell_type": "markdown",
   "id": "e544dd2f-d867-4a37-a620-d5df62648b9b",
   "metadata": {},
   "source": [
    "### Now we can create a session and client to RedShift, and create a new connection using Psycopg2:"
   ]
  },
  {
   "cell_type": "code",
   "execution_count": 3,
   "id": "795c9342-b928-4e8d-aef9-36f2b1cf667c",
   "metadata": {},
   "outputs": [
    {
     "name": "stdout",
     "output_type": "stream",
     "text": [
      "GOT CONNECTION TO DATABASE: qa-app stlrwso\n"
     ]
    }
   ],
   "source": [
    "session = boto3.session.Session(profile_name='Stellaralgo-DataScienceAdmin')\n",
    "client = session.client('redshift')\n",
    "\n",
    "CLUSTER = 'qa-app'\n",
    "DBNAME = 'stlrwso'\n",
    "\n",
    "creds = client.get_cluster_credentials(                \n",
    "    ClusterIdentifier = CLUSTER,\n",
    "    DbUser = 'admin',\n",
    "    DbName = DBNAME,\n",
    "    DbGroups = ['admin_group'],\n",
    "    AutoCreate=True\n",
    ")\n",
    "\n",
    "print(f\"GOT CONNECTION TO DATABASE: {CLUSTER} {DBNAME}\")"
   ]
  },
  {
   "cell_type": "markdown",
   "id": "0f9b2c49-e6a7-4ad2-bb90-0316101a5174",
   "metadata": {},
   "source": [
    "### First we need to call the stored procedure, which will create a named cursor - then we can query the results produced by the stored proc using that named cursor:"
   ]
  },
  {
   "cell_type": "code",
   "execution_count": 4,
   "id": "0fb58a5d-1ae8-42f3-a425-b73ca0952115",
   "metadata": {},
   "outputs": [],
   "source": [
    "# create a connection & cursor and call the stored procedure\n",
    "conn = psycopg2.connect(\n",
    "    host = 'qa-app.ctjussvyafp4.us-east-1.redshift.amazonaws.com',\n",
    "    port = 5439,\n",
    "    user = creds['DbUser'],\n",
    "    password = creds['DbPassword'],\n",
    "    database = DBNAME\n",
    ")\n",
    "\n",
    "cur = conn.cursor()\n",
    "cur.execute(f\"CALL dw.getretentionmodeldata(14, 2010, 2021, 'rkcursor')\")\n",
    "\n",
    "# create a named cursor based on the cursor name passed in above\n",
    "named_cursor = conn.cursor('rkcursor')\n",
    "data = named_cursor.fetchall()\n",
    "\n",
    "# load the data and columns into a data frame\n",
    "cols = [row[0] for row in named_cursor.description]\n",
    "df = pd.DataFrame(data=data, columns=cols)\n",
    "\n",
    "conn.commit()"
   ]
  },
  {
   "cell_type": "code",
   "execution_count": 5,
   "id": "959e2063",
   "metadata": {},
   "outputs": [
    {
     "name": "stdout",
     "output_type": "stream",
     "text": [
      "<class 'pandas.core.frame.DataFrame'>\n",
      "RangeIndex: 12251 entries, 0 to 12250\n",
      "Data columns (total 23 columns):\n",
      " #   Column               Non-Null Count  Dtype         \n",
      "---  ------               --------------  -----         \n",
      " 0   lkupclientid         12251 non-null  int64         \n",
      " 1   dimcustomermasterid  12251 non-null  int64         \n",
      " 2   year                 12251 non-null  int64         \n",
      " 3   productgrouping      12251 non-null  object        \n",
      " 4   totalspent           12251 non-null  float64       \n",
      " 5   recentdate           12251 non-null  datetime64[ns]\n",
      " 6   attendancepercent    12251 non-null  float64       \n",
      " 7   renewedbeforedays    12251 non-null  int64         \n",
      " 8   source_tenure        12251 non-null  object        \n",
      " 9   tenure               12251 non-null  int64         \n",
      " 10  disttovenue          12251 non-null  float64       \n",
      " 11  recency              12251 non-null  int64         \n",
      " 12  missed_games_1       12251 non-null  object        \n",
      " 13  missed_games_2       12251 non-null  object        \n",
      " 14  missed_games_over_2  12251 non-null  object        \n",
      " 15  forward_records      12251 non-null  int64         \n",
      " 16  opentosendratio      12251 non-null  object        \n",
      " 17  clicktosendratio     12251 non-null  object        \n",
      " 18  clicktoopenratio     12251 non-null  object        \n",
      " 19  gender               12251 non-null  object        \n",
      " 20  phonecall            12251 non-null  int64         \n",
      " 21  inperson_contact     12251 non-null  int64         \n",
      " 22  isnextyear_buyer     12251 non-null  int64         \n",
      "dtypes: datetime64[ns](1), float64(3), int64(10), object(9)\n",
      "memory usage: 2.1+ MB\n"
     ]
    },
    {
     "data": {
      "text/html": [
       "<div>\n",
       "<style scoped>\n",
       "    .dataframe tbody tr th:only-of-type {\n",
       "        vertical-align: middle;\n",
       "    }\n",
       "\n",
       "    .dataframe tbody tr th {\n",
       "        vertical-align: top;\n",
       "    }\n",
       "\n",
       "    .dataframe thead th {\n",
       "        text-align: right;\n",
       "    }\n",
       "</style>\n",
       "<table border=\"1\" class=\"dataframe\">\n",
       "  <thead>\n",
       "    <tr style=\"text-align: right;\">\n",
       "      <th></th>\n",
       "      <th>lkupclientid</th>\n",
       "      <th>dimcustomermasterid</th>\n",
       "      <th>year</th>\n",
       "      <th>productgrouping</th>\n",
       "      <th>totalspent</th>\n",
       "      <th>recentdate</th>\n",
       "      <th>attendancepercent</th>\n",
       "      <th>renewedbeforedays</th>\n",
       "      <th>source_tenure</th>\n",
       "      <th>tenure</th>\n",
       "      <th>disttovenue</th>\n",
       "      <th>recency</th>\n",
       "      <th>missed_games_1</th>\n",
       "      <th>missed_games_2</th>\n",
       "      <th>missed_games_over_2</th>\n",
       "      <th>forward_records</th>\n",
       "      <th>opentosendratio</th>\n",
       "      <th>clicktosendratio</th>\n",
       "      <th>clicktoopenratio</th>\n",
       "      <th>gender</th>\n",
       "      <th>phonecall</th>\n",
       "      <th>inperson_contact</th>\n",
       "      <th>isnextyear_buyer</th>\n",
       "    </tr>\n",
       "  </thead>\n",
       "  <tbody>\n",
       "    <tr>\n",
       "      <th>0</th>\n",
       "      <td>14</td>\n",
       "      <td>278071209</td>\n",
       "      <td>2016</td>\n",
       "      <td>Full Series</td>\n",
       "      <td>62.5</td>\n",
       "      <td>1970-01-01</td>\n",
       "      <td>0.20</td>\n",
       "      <td>255</td>\n",
       "      <td>4015</td>\n",
       "      <td>263</td>\n",
       "      <td>26.32</td>\n",
       "      <td>0</td>\n",
       "      <td>0</td>\n",
       "      <td>0</td>\n",
       "      <td>1</td>\n",
       "      <td>0</td>\n",
       "      <td>0.00</td>\n",
       "      <td>0.00</td>\n",
       "      <td>0.00</td>\n",
       "      <td>Unknown</td>\n",
       "      <td>0</td>\n",
       "      <td>0</td>\n",
       "      <td>1</td>\n",
       "    </tr>\n",
       "    <tr>\n",
       "      <th>1</th>\n",
       "      <td>14</td>\n",
       "      <td>278045598</td>\n",
       "      <td>2016</td>\n",
       "      <td>Full Series</td>\n",
       "      <td>100.0</td>\n",
       "      <td>1970-01-01</td>\n",
       "      <td>0.67</td>\n",
       "      <td>212</td>\n",
       "      <td>2920</td>\n",
       "      <td>220</td>\n",
       "      <td>383.54</td>\n",
       "      <td>0</td>\n",
       "      <td>0</td>\n",
       "      <td>0</td>\n",
       "      <td>1</td>\n",
       "      <td>0</td>\n",
       "      <td>0.00</td>\n",
       "      <td>0.00</td>\n",
       "      <td>0.00</td>\n",
       "      <td>Unknown</td>\n",
       "      <td>0</td>\n",
       "      <td>0</td>\n",
       "      <td>0</td>\n",
       "    </tr>\n",
       "    <tr>\n",
       "      <th>2</th>\n",
       "      <td>14</td>\n",
       "      <td>277997076</td>\n",
       "      <td>2016</td>\n",
       "      <td>Full Series</td>\n",
       "      <td>175.0</td>\n",
       "      <td>2016-08-17</td>\n",
       "      <td>0.88</td>\n",
       "      <td>218</td>\n",
       "      <td>3650</td>\n",
       "      <td>226</td>\n",
       "      <td>13.02</td>\n",
       "      <td>0</td>\n",
       "      <td>0</td>\n",
       "      <td>0</td>\n",
       "      <td>1</td>\n",
       "      <td>0</td>\n",
       "      <td>0.00</td>\n",
       "      <td>0.00</td>\n",
       "      <td>0.00</td>\n",
       "      <td>Unknown</td>\n",
       "      <td>0</td>\n",
       "      <td>0</td>\n",
       "      <td>0</td>\n",
       "    </tr>\n",
       "    <tr>\n",
       "      <th>3</th>\n",
       "      <td>14</td>\n",
       "      <td>296602733</td>\n",
       "      <td>2016</td>\n",
       "      <td>Full Series</td>\n",
       "      <td>100.0</td>\n",
       "      <td>2016-08-19</td>\n",
       "      <td>0.37</td>\n",
       "      <td>250</td>\n",
       "      <td>8760</td>\n",
       "      <td>258</td>\n",
       "      <td>55.80</td>\n",
       "      <td>0</td>\n",
       "      <td>0</td>\n",
       "      <td>0</td>\n",
       "      <td>1</td>\n",
       "      <td>0</td>\n",
       "      <td>0.00</td>\n",
       "      <td>0.00</td>\n",
       "      <td>0.00</td>\n",
       "      <td>Unknown</td>\n",
       "      <td>0</td>\n",
       "      <td>0</td>\n",
       "      <td>1</td>\n",
       "    </tr>\n",
       "    <tr>\n",
       "      <th>4</th>\n",
       "      <td>14</td>\n",
       "      <td>278053908</td>\n",
       "      <td>2016</td>\n",
       "      <td>Full Series</td>\n",
       "      <td>100.0</td>\n",
       "      <td>2016-08-15</td>\n",
       "      <td>0.37</td>\n",
       "      <td>250</td>\n",
       "      <td>5840</td>\n",
       "      <td>258</td>\n",
       "      <td>206.56</td>\n",
       "      <td>0</td>\n",
       "      <td>0</td>\n",
       "      <td>0</td>\n",
       "      <td>1</td>\n",
       "      <td>0</td>\n",
       "      <td>0.00</td>\n",
       "      <td>0.00</td>\n",
       "      <td>0.00</td>\n",
       "      <td>Unknown</td>\n",
       "      <td>0</td>\n",
       "      <td>0</td>\n",
       "      <td>0</td>\n",
       "    </tr>\n",
       "  </tbody>\n",
       "</table>\n",
       "</div>"
      ],
      "text/plain": [
       "   lkupclientid  dimcustomermasterid  year productgrouping  totalspent  \\\n",
       "0            14            278071209  2016     Full Series        62.5   \n",
       "1            14            278045598  2016     Full Series       100.0   \n",
       "2            14            277997076  2016     Full Series       175.0   \n",
       "3            14            296602733  2016     Full Series       100.0   \n",
       "4            14            278053908  2016     Full Series       100.0   \n",
       "\n",
       "  recentdate  attendancepercent  renewedbeforedays source_tenure  tenure  \\\n",
       "0 1970-01-01               0.20                255          4015     263   \n",
       "1 1970-01-01               0.67                212          2920     220   \n",
       "2 2016-08-17               0.88                218          3650     226   \n",
       "3 2016-08-19               0.37                250          8760     258   \n",
       "4 2016-08-15               0.37                250          5840     258   \n",
       "\n",
       "   disttovenue  recency missed_games_1 missed_games_2 missed_games_over_2  \\\n",
       "0        26.32        0              0              0                   1   \n",
       "1       383.54        0              0              0                   1   \n",
       "2        13.02        0              0              0                   1   \n",
       "3        55.80        0              0              0                   1   \n",
       "4       206.56        0              0              0                   1   \n",
       "\n",
       "   forward_records opentosendratio clicktosendratio clicktoopenratio   gender  \\\n",
       "0                0            0.00             0.00             0.00  Unknown   \n",
       "1                0            0.00             0.00             0.00  Unknown   \n",
       "2                0            0.00             0.00             0.00  Unknown   \n",
       "3                0            0.00             0.00             0.00  Unknown   \n",
       "4                0            0.00             0.00             0.00  Unknown   \n",
       "\n",
       "   phonecall  inperson_contact  isnextyear_buyer  \n",
       "0          0                 0                 1  \n",
       "1          0                 0                 0  \n",
       "2          0                 0                 0  \n",
       "3          0                 0                 1  \n",
       "4          0                 0                 0  "
      ]
     },
     "execution_count": 5,
     "metadata": {},
     "output_type": "execute_result"
    }
   ],
   "source": [
    "df.info()\n",
    "df.head()"
   ]
  },
  {
   "cell_type": "code",
   "execution_count": 32,
   "id": "10337b21-d808-454e-a5b3-12133b56002c",
   "metadata": {},
   "outputs": [
    {
     "data": {
      "text/plain": [
       "Full Series    7205\n",
       "Mini Plan      5046\n",
       "Name: productgrouping, dtype: int64"
      ]
     },
     "execution_count": 32,
     "metadata": {},
     "output_type": "execute_result"
    }
   ],
   "source": [
    "df[\"productgrouping\"].value_counts()"
   ]
  },
  {
   "cell_type": "markdown",
   "id": "322a372b",
   "metadata": {},
   "source": [
    "### Let's see how much data we have for each year:"
   ]
  },
  {
   "cell_type": "code",
   "execution_count": 6,
   "id": "1d7e28f8",
   "metadata": {},
   "outputs": [
    {
     "data": {
      "text/plain": [
       "2021    2397\n",
       "2019    2389\n",
       "2018    2717\n",
       "2017    2412\n",
       "2016    2336\n",
       "Name: year, dtype: int64"
      ]
     },
     "execution_count": 6,
     "metadata": {},
     "output_type": "execute_result"
    }
   ],
   "source": [
    "df[\"year\"].value_counts().sort_index(ascending=False)"
   ]
  },
  {
   "cell_type": "markdown",
   "id": "a73808c3-3cf1-4d30-93f4-87a8a86c438a",
   "metadata": {},
   "source": [
    "### We should specify the features used in our model:"
   ]
  },
  {
   "cell_type": "code",
   "execution_count": null,
   "id": "36da24a8-b15d-4086-8e42-f25976e7fc22",
   "metadata": {},
   "outputs": [
    {
     "ename": "NameError",
     "evalue": "name 'df' is not defined",
     "output_type": "error",
     "traceback": [
      "\u001b[0;31m---------------------------------------------------------------------------\u001b[0m",
      "\u001b[0;31mNameError\u001b[0m                                 Traceback (most recent call last)",
      "\u001b[0;32m/var/folders/1z/ymtyx_zx7r168ctyc23cfmbh0000gn/T/ipykernel_78776/1923975726.py\u001b[0m in \u001b[0;36m<module>\u001b[0;34m\u001b[0m\n\u001b[1;32m     15\u001b[0m \u001b[0;34m\u001b[0m\u001b[0m\n\u001b[1;32m     16\u001b[0m \u001b[0;31m# copy your main dataframe\u001b[0m\u001b[0;34m\u001b[0m\u001b[0;34m\u001b[0m\u001b[0;34m\u001b[0m\u001b[0m\n\u001b[0;32m---> 17\u001b[0;31m \u001b[0mdf_dataset\u001b[0m \u001b[0;34m=\u001b[0m \u001b[0mdf\u001b[0m\u001b[0;34m\u001b[0m\u001b[0;34m\u001b[0m\u001b[0m\n\u001b[0m\u001b[1;32m     18\u001b[0m \u001b[0;34m\u001b[0m\u001b[0m\n\u001b[1;32m     19\u001b[0m \u001b[0;31m# choose the features & train year & test year\u001b[0m\u001b[0;34m\u001b[0m\u001b[0;34m\u001b[0m\u001b[0;34m\u001b[0m\u001b[0m\n",
      "\u001b[0;31mNameError\u001b[0m: name 'df' is not defined"
     ]
    }
   ],
   "source": [
    "# choose the features for the stellar base retention model\n",
    "features = [\n",
    "                \"dimcustomermasterid\",\n",
    "                \"attendancepercent\",\n",
    "                \"disttovenue\",\n",
    "                \"missed_games_1\",\n",
    "                \"missed_games_2\",\n",
    "                \"missed_games_over_2\",\n",
    "                \"totalspent\",\n",
    "                \"recency\",\n",
    "                \"source_tenure\",\n",
    "                \"renewedbeforedays\",\n",
    "                \"isnextyear_buyer\",\n",
    "                \"productgrouping\",\n",
    "                \"year\"\n",
    "]\n",
    "\n",
    "# copy your main dataframe\n",
    "df_dataset = df\n",
    "\n",
    "# choose the features & train year & test year\n",
    "df_dataset = df_dataset[features]\n",
    "df_dataset[\"year\"] = pd.to_numeric(df_dataset[\"year\"])\n",
    "df_dataset = df_dataset.loc[df_dataset[\"year\"] <= 2019]\n",
    "\n",
    "df_train = df_dataset.sample(frac=0.85, random_state=786)\n",
    "df_eval = df_dataset.drop(df_train.index)\n",
    "\n",
    "df_train.reset_index(drop=True, inplace=True)\n",
    "df_eval.reset_index(drop=True, inplace=True)\n",
    "\n",
    "# print out the number of records for training and eval\n",
    "print('Data for Modeling: ' + str(df_train.shape))\n",
    "print('Unseen Data For Predictions: ' + str(df_eval.shape), end=\"\\n\\n\")"
   ]
  },
  {
   "cell_type": "markdown",
   "id": "77edefba-cfff-477a-90ed-3c0a0295effa",
   "metadata": {},
   "source": [
    "### Now we can model the data using a binary classification prediction for the isnextyear_buyer field to see how likely a customer is to re-purchase."
   ]
  },
  {
   "cell_type": "code",
   "execution_count": 9,
   "id": "57d65f59-78f5-4d62-a110-17873059c742",
   "metadata": {},
   "outputs": [],
   "source": [
    "setup(\n",
    "    data= df_train, \n",
    "    target=\"isnextyear_buyer\", \n",
    "    train_size = 0.85,\n",
    "    data_split_shuffle=True,\n",
    "    ignore_features=[\"dimcustomermasterid\",\"productgrouping\",\"year\"],\n",
    "    silent=True,\n",
    "    verbose=False,\n",
    "    numeric_features=[\n",
    "                \"attendancepercent\",\n",
    "                \"disttovenue\",\n",
    "                \"missed_games_1\",\n",
    "                \"missed_games_2\",\n",
    "                \"missed_games_over_2\",\n",
    "                \"totalspent\",\n",
    "                \"recency\",\n",
    "                \"source_tenure\",\n",
    "                \"renewedbeforedays\"\n",
    "    ]\n",
    ");"
   ]
  },
  {
   "cell_type": "code",
   "execution_count": 20,
   "id": "4ce44415-dd53-41ae-8e95-060bc152831c",
   "metadata": {},
   "outputs": [
    {
     "data": {
      "text/html": [
       "<style  type=\"text/css\" >\n",
       "    #T_da9f2_ th {\n",
       "          text-align: left;\n",
       "    }#T_da9f2_row0_col0,#T_da9f2_row1_col0,#T_da9f2_row1_col1,#T_da9f2_row1_col2,#T_da9f2_row1_col3,#T_da9f2_row1_col4,#T_da9f2_row1_col5,#T_da9f2_row1_col6,#T_da9f2_row1_col7,#T_da9f2_row2_col0,#T_da9f2_row2_col1,#T_da9f2_row2_col2,#T_da9f2_row2_col3,#T_da9f2_row2_col4,#T_da9f2_row2_col5,#T_da9f2_row2_col6,#T_da9f2_row2_col7,#T_da9f2_row3_col0,#T_da9f2_row3_col1,#T_da9f2_row3_col2,#T_da9f2_row3_col3,#T_da9f2_row3_col4,#T_da9f2_row3_col5,#T_da9f2_row3_col6,#T_da9f2_row3_col7,#T_da9f2_row4_col0,#T_da9f2_row4_col1,#T_da9f2_row4_col2,#T_da9f2_row4_col3,#T_da9f2_row4_col4,#T_da9f2_row4_col5,#T_da9f2_row4_col6,#T_da9f2_row4_col7,#T_da9f2_row5_col0,#T_da9f2_row5_col1,#T_da9f2_row5_col2,#T_da9f2_row5_col3,#T_da9f2_row5_col4,#T_da9f2_row5_col5,#T_da9f2_row5_col6,#T_da9f2_row5_col7,#T_da9f2_row6_col0,#T_da9f2_row6_col1,#T_da9f2_row6_col2,#T_da9f2_row6_col3,#T_da9f2_row6_col4,#T_da9f2_row6_col5,#T_da9f2_row6_col6,#T_da9f2_row6_col7{\n",
       "            text-align:  left;\n",
       "            text-align:  left;\n",
       "        }#T_da9f2_row0_col1,#T_da9f2_row0_col2,#T_da9f2_row0_col3,#T_da9f2_row0_col4,#T_da9f2_row0_col5,#T_da9f2_row0_col6,#T_da9f2_row0_col7{\n",
       "            text-align:  left;\n",
       "            text-align:  left;\n",
       "            background-color:  yellow;\n",
       "        }#T_da9f2_row0_col8,#T_da9f2_row1_col8,#T_da9f2_row2_col8,#T_da9f2_row3_col8,#T_da9f2_row5_col8,#T_da9f2_row6_col8{\n",
       "            text-align:  left;\n",
       "            text-align:  left;\n",
       "            background-color:  lightgrey;\n",
       "        }#T_da9f2_row4_col8{\n",
       "            text-align:  left;\n",
       "            text-align:  left;\n",
       "            background-color:  yellow;\n",
       "            background-color:  lightgrey;\n",
       "        }</style><table id=\"T_da9f2_\" ><thead>    <tr>        <th class=\"blank level0\" ></th>        <th class=\"col_heading level0 col0\" >Model</th>        <th class=\"col_heading level0 col1\" >Accuracy</th>        <th class=\"col_heading level0 col2\" >AUC</th>        <th class=\"col_heading level0 col3\" >Recall</th>        <th class=\"col_heading level0 col4\" >Prec.</th>        <th class=\"col_heading level0 col5\" >F1</th>        <th class=\"col_heading level0 col6\" >Kappa</th>        <th class=\"col_heading level0 col7\" >MCC</th>        <th class=\"col_heading level0 col8\" >TT (Sec)</th>    </tr></thead><tbody>\n",
       "                <tr>\n",
       "                        <th id=\"T_da9f2_level0_row0\" class=\"row_heading level0 row0\" >lightgbm</th>\n",
       "                        <td id=\"T_da9f2_row0_col0\" class=\"data row0 col0\" >Light Gradient Boosting Machine</td>\n",
       "                        <td id=\"T_da9f2_row0_col1\" class=\"data row0 col1\" >0.8192</td>\n",
       "                        <td id=\"T_da9f2_row0_col2\" class=\"data row0 col2\" >0.8912</td>\n",
       "                        <td id=\"T_da9f2_row0_col3\" class=\"data row0 col3\" >0.7688</td>\n",
       "                        <td id=\"T_da9f2_row0_col4\" class=\"data row0 col4\" >0.8165</td>\n",
       "                        <td id=\"T_da9f2_row0_col5\" class=\"data row0 col5\" >0.7918</td>\n",
       "                        <td id=\"T_da9f2_row0_col6\" class=\"data row0 col6\" >0.6323</td>\n",
       "                        <td id=\"T_da9f2_row0_col7\" class=\"data row0 col7\" >0.6334</td>\n",
       "                        <td id=\"T_da9f2_row0_col8\" class=\"data row0 col8\" >0.0350</td>\n",
       "            </tr>\n",
       "            <tr>\n",
       "                        <th id=\"T_da9f2_level0_row1\" class=\"row_heading level0 row1\" >xgboost</th>\n",
       "                        <td id=\"T_da9f2_row1_col0\" class=\"data row1 col0\" >Extreme Gradient Boosting</td>\n",
       "                        <td id=\"T_da9f2_row1_col1\" class=\"data row1 col1\" >0.8105</td>\n",
       "                        <td id=\"T_da9f2_row1_col2\" class=\"data row1 col2\" >0.8840</td>\n",
       "                        <td id=\"T_da9f2_row1_col3\" class=\"data row1 col3\" >0.7685</td>\n",
       "                        <td id=\"T_da9f2_row1_col4\" class=\"data row1 col4\" >0.8001</td>\n",
       "                        <td id=\"T_da9f2_row1_col5\" class=\"data row1 col5\" >0.7838</td>\n",
       "                        <td id=\"T_da9f2_row1_col6\" class=\"data row1 col6\" >0.6153</td>\n",
       "                        <td id=\"T_da9f2_row1_col7\" class=\"data row1 col7\" >0.6159</td>\n",
       "                        <td id=\"T_da9f2_row1_col8\" class=\"data row1 col8\" >0.4520</td>\n",
       "            </tr>\n",
       "            <tr>\n",
       "                        <th id=\"T_da9f2_level0_row2\" class=\"row_heading level0 row2\" >gbc</th>\n",
       "                        <td id=\"T_da9f2_row2_col0\" class=\"data row2 col0\" >Gradient Boosting Classifier</td>\n",
       "                        <td id=\"T_da9f2_row2_col1\" class=\"data row2 col1\" >0.8087</td>\n",
       "                        <td id=\"T_da9f2_row2_col2\" class=\"data row2 col2\" >0.8839</td>\n",
       "                        <td id=\"T_da9f2_row2_col3\" class=\"data row2 col3\" >0.7387</td>\n",
       "                        <td id=\"T_da9f2_row2_col4\" class=\"data row2 col4\" >0.8161</td>\n",
       "                        <td id=\"T_da9f2_row2_col5\" class=\"data row2 col5\" >0.7753</td>\n",
       "                        <td id=\"T_da9f2_row2_col6\" class=\"data row2 col6\" >0.6095</td>\n",
       "                        <td id=\"T_da9f2_row2_col7\" class=\"data row2 col7\" >0.6119</td>\n",
       "                        <td id=\"T_da9f2_row2_col8\" class=\"data row2 col8\" >0.1460</td>\n",
       "            </tr>\n",
       "            <tr>\n",
       "                        <th id=\"T_da9f2_level0_row3\" class=\"row_heading level0 row3\" >rf</th>\n",
       "                        <td id=\"T_da9f2_row3_col0\" class=\"data row3 col0\" >Random Forest Classifier</td>\n",
       "                        <td id=\"T_da9f2_row3_col1\" class=\"data row3 col1\" >0.7955</td>\n",
       "                        <td id=\"T_da9f2_row3_col2\" class=\"data row3 col2\" >0.8710</td>\n",
       "                        <td id=\"T_da9f2_row3_col3\" class=\"data row3 col3\" >0.7352</td>\n",
       "                        <td id=\"T_da9f2_row3_col4\" class=\"data row3 col4\" >0.7926</td>\n",
       "                        <td id=\"T_da9f2_row3_col5\" class=\"data row3 col5\" >0.7627</td>\n",
       "                        <td id=\"T_da9f2_row3_col6\" class=\"data row3 col6\" >0.5835</td>\n",
       "                        <td id=\"T_da9f2_row3_col7\" class=\"data row3 col7\" >0.5849</td>\n",
       "                        <td id=\"T_da9f2_row3_col8\" class=\"data row3 col8\" >0.1950</td>\n",
       "            </tr>\n",
       "            <tr>\n",
       "                        <th id=\"T_da9f2_level0_row4\" class=\"row_heading level0 row4\" >dt</th>\n",
       "                        <td id=\"T_da9f2_row4_col0\" class=\"data row4 col0\" >Decision Tree Classifier</td>\n",
       "                        <td id=\"T_da9f2_row4_col1\" class=\"data row4 col1\" >0.7321</td>\n",
       "                        <td id=\"T_da9f2_row4_col2\" class=\"data row4 col2\" >0.7293</td>\n",
       "                        <td id=\"T_da9f2_row4_col3\" class=\"data row4 col3\" >0.7029</td>\n",
       "                        <td id=\"T_da9f2_row4_col4\" class=\"data row4 col4\" >0.6997</td>\n",
       "                        <td id=\"T_da9f2_row4_col5\" class=\"data row4 col5\" >0.7012</td>\n",
       "                        <td id=\"T_da9f2_row4_col6\" class=\"data row4 col6\" >0.4585</td>\n",
       "                        <td id=\"T_da9f2_row4_col7\" class=\"data row4 col7\" >0.4586</td>\n",
       "                        <td id=\"T_da9f2_row4_col8\" class=\"data row4 col8\" >0.0110</td>\n",
       "            </tr>\n",
       "            <tr>\n",
       "                        <th id=\"T_da9f2_level0_row5\" class=\"row_heading level0 row5\" >lr</th>\n",
       "                        <td id=\"T_da9f2_row5_col0\" class=\"data row5 col0\" >Logistic Regression</td>\n",
       "                        <td id=\"T_da9f2_row5_col1\" class=\"data row5 col1\" >0.7318</td>\n",
       "                        <td id=\"T_da9f2_row5_col2\" class=\"data row5 col2\" >0.8095</td>\n",
       "                        <td id=\"T_da9f2_row5_col3\" class=\"data row5 col3\" >0.7218</td>\n",
       "                        <td id=\"T_da9f2_row5_col4\" class=\"data row5 col4\" >0.6919</td>\n",
       "                        <td id=\"T_da9f2_row5_col5\" class=\"data row5 col5\" >0.7064</td>\n",
       "                        <td id=\"T_da9f2_row5_col6\" class=\"data row5 col6\" >0.4598</td>\n",
       "                        <td id=\"T_da9f2_row5_col7\" class=\"data row5 col7\" >0.4603</td>\n",
       "                        <td id=\"T_da9f2_row5_col8\" class=\"data row5 col8\" >0.0300</td>\n",
       "            </tr>\n",
       "            <tr>\n",
       "                        <th id=\"T_da9f2_level0_row6\" class=\"row_heading level0 row6\" >dummy</th>\n",
       "                        <td id=\"T_da9f2_row6_col0\" class=\"data row6 col0\" >Dummy Classifier</td>\n",
       "                        <td id=\"T_da9f2_row6_col1\" class=\"data row6 col1\" >0.5527</td>\n",
       "                        <td id=\"T_da9f2_row6_col2\" class=\"data row6 col2\" >0.5000</td>\n",
       "                        <td id=\"T_da9f2_row6_col3\" class=\"data row6 col3\" >0.0000</td>\n",
       "                        <td id=\"T_da9f2_row6_col4\" class=\"data row6 col4\" >0.0000</td>\n",
       "                        <td id=\"T_da9f2_row6_col5\" class=\"data row6 col5\" >0.0000</td>\n",
       "                        <td id=\"T_da9f2_row6_col6\" class=\"data row6 col6\" >0.0000</td>\n",
       "                        <td id=\"T_da9f2_row6_col7\" class=\"data row6 col7\" >0.0000</td>\n",
       "                        <td id=\"T_da9f2_row6_col8\" class=\"data row6 col8\" >0.2810</td>\n",
       "            </tr>\n",
       "    </tbody></table>"
      ],
      "text/plain": [
       "<pandas.io.formats.style.Styler at 0x7fe00a16cdf0>"
      ]
     },
     "metadata": {},
     "output_type": "display_data"
    }
   ],
   "source": [
    "model_matrix = compare_models(\n",
    "    fold=10,\n",
    "    include=[\"dummy\", \"dt\", \"gbc\", \"lightgbm\", \"lr\", \"rf\", \"xgboost\"]\n",
    ")"
   ]
  },
  {
   "cell_type": "code",
   "execution_count": 21,
   "id": "2a7a53fd-60c3-4e36-9c62-bc79969ff360",
   "metadata": {},
   "outputs": [
    {
     "data": {
      "text/html": [
       "<style  type=\"text/css\" >\n",
       "#T_ed4bc_row10_col0,#T_ed4bc_row10_col1,#T_ed4bc_row10_col2,#T_ed4bc_row10_col3,#T_ed4bc_row10_col4,#T_ed4bc_row10_col5,#T_ed4bc_row10_col6{\n",
       "            background:  yellow;\n",
       "        }</style><table id=\"T_ed4bc_\" ><thead>    <tr>        <th class=\"blank level0\" ></th>        <th class=\"col_heading level0 col0\" >Accuracy</th>        <th class=\"col_heading level0 col1\" >AUC</th>        <th class=\"col_heading level0 col2\" >Recall</th>        <th class=\"col_heading level0 col3\" >Prec.</th>        <th class=\"col_heading level0 col4\" >F1</th>        <th class=\"col_heading level0 col5\" >Kappa</th>        <th class=\"col_heading level0 col6\" >MCC</th>    </tr></thead><tbody>\n",
       "                <tr>\n",
       "                        <th id=\"T_ed4bc_level0_row0\" class=\"row_heading level0 row0\" >0</th>\n",
       "                        <td id=\"T_ed4bc_row0_col0\" class=\"data row0 col0\" >0.8301</td>\n",
       "                        <td id=\"T_ed4bc_row0_col1\" class=\"data row0 col1\" >0.8868</td>\n",
       "                        <td id=\"T_ed4bc_row0_col2\" class=\"data row0 col2\" >0.7931</td>\n",
       "                        <td id=\"T_ed4bc_row0_col3\" class=\"data row0 col3\" >0.8214</td>\n",
       "                        <td id=\"T_ed4bc_row0_col4\" class=\"data row0 col4\" >0.8070</td>\n",
       "                        <td id=\"T_ed4bc_row0_col5\" class=\"data row0 col5\" >0.6553</td>\n",
       "                        <td id=\"T_ed4bc_row0_col6\" class=\"data row0 col6\" >0.6556</td>\n",
       "            </tr>\n",
       "            <tr>\n",
       "                        <th id=\"T_ed4bc_level0_row1\" class=\"row_heading level0 row1\" >1</th>\n",
       "                        <td id=\"T_ed4bc_row1_col0\" class=\"data row1 col0\" >0.8076</td>\n",
       "                        <td id=\"T_ed4bc_row1_col1\" class=\"data row1 col1\" >0.8924</td>\n",
       "                        <td id=\"T_ed4bc_row1_col2\" class=\"data row1 col2\" >0.7398</td>\n",
       "                        <td id=\"T_ed4bc_row1_col3\" class=\"data row1 col3\" >0.8138</td>\n",
       "                        <td id=\"T_ed4bc_row1_col4\" class=\"data row1 col4\" >0.7750</td>\n",
       "                        <td id=\"T_ed4bc_row1_col5\" class=\"data row1 col5\" >0.6076</td>\n",
       "                        <td id=\"T_ed4bc_row1_col6\" class=\"data row1 col6\" >0.6097</td>\n",
       "            </tr>\n",
       "            <tr>\n",
       "                        <th id=\"T_ed4bc_level0_row2\" class=\"row_heading level0 row2\" >2</th>\n",
       "                        <td id=\"T_ed4bc_row2_col0\" class=\"data row2 col0\" >0.8202</td>\n",
       "                        <td id=\"T_ed4bc_row2_col1\" class=\"data row2 col1\" >0.8858</td>\n",
       "                        <td id=\"T_ed4bc_row2_col2\" class=\"data row2 col2\" >0.7649</td>\n",
       "                        <td id=\"T_ed4bc_row2_col3\" class=\"data row2 col3\" >0.8215</td>\n",
       "                        <td id=\"T_ed4bc_row2_col4\" class=\"data row2 col4\" >0.7922</td>\n",
       "                        <td id=\"T_ed4bc_row2_col5\" class=\"data row2 col5\" >0.6341</td>\n",
       "                        <td id=\"T_ed4bc_row2_col6\" class=\"data row2 col6\" >0.6354</td>\n",
       "            </tr>\n",
       "            <tr>\n",
       "                        <th id=\"T_ed4bc_level0_row3\" class=\"row_heading level0 row3\" >3</th>\n",
       "                        <td id=\"T_ed4bc_row3_col0\" class=\"data row3 col0\" >0.8244</td>\n",
       "                        <td id=\"T_ed4bc_row3_col1\" class=\"data row3 col1\" >0.8941</td>\n",
       "                        <td id=\"T_ed4bc_row3_col2\" class=\"data row3 col2\" >0.7649</td>\n",
       "                        <td id=\"T_ed4bc_row3_col3\" class=\"data row3 col3\" >0.8299</td>\n",
       "                        <td id=\"T_ed4bc_row3_col4\" class=\"data row3 col4\" >0.7961</td>\n",
       "                        <td id=\"T_ed4bc_row3_col5\" class=\"data row3 col5\" >0.6424</td>\n",
       "                        <td id=\"T_ed4bc_row3_col6\" class=\"data row3 col6\" >0.6441</td>\n",
       "            </tr>\n",
       "            <tr>\n",
       "                        <th id=\"T_ed4bc_level0_row4\" class=\"row_heading level0 row4\" >4</th>\n",
       "                        <td id=\"T_ed4bc_row4_col0\" class=\"data row4 col0\" >0.7963</td>\n",
       "                        <td id=\"T_ed4bc_row4_col1\" class=\"data row4 col1\" >0.8764</td>\n",
       "                        <td id=\"T_ed4bc_row4_col2\" class=\"data row4 col2\" >0.7736</td>\n",
       "                        <td id=\"T_ed4bc_row4_col3\" class=\"data row4 col3\" >0.7712</td>\n",
       "                        <td id=\"T_ed4bc_row4_col4\" class=\"data row4 col4\" >0.7724</td>\n",
       "                        <td id=\"T_ed4bc_row4_col5\" class=\"data row4 col5\" >0.5881</td>\n",
       "                        <td id=\"T_ed4bc_row4_col6\" class=\"data row4 col6\" >0.5881</td>\n",
       "            </tr>\n",
       "            <tr>\n",
       "                        <th id=\"T_ed4bc_level0_row5\" class=\"row_heading level0 row5\" >5</th>\n",
       "                        <td id=\"T_ed4bc_row5_col0\" class=\"data row5 col0\" >0.8160</td>\n",
       "                        <td id=\"T_ed4bc_row5_col1\" class=\"data row5 col1\" >0.8931</td>\n",
       "                        <td id=\"T_ed4bc_row5_col2\" class=\"data row5 col2\" >0.7484</td>\n",
       "                        <td id=\"T_ed4bc_row5_col3\" class=\"data row5 col3\" >0.8235</td>\n",
       "                        <td id=\"T_ed4bc_row5_col4\" class=\"data row5 col4\" >0.7842</td>\n",
       "                        <td id=\"T_ed4bc_row5_col5\" class=\"data row5 col5\" >0.6245</td>\n",
       "                        <td id=\"T_ed4bc_row5_col6\" class=\"data row5 col6\" >0.6266</td>\n",
       "            </tr>\n",
       "            <tr>\n",
       "                        <th id=\"T_ed4bc_level0_row6\" class=\"row_heading level0 row6\" >6</th>\n",
       "                        <td id=\"T_ed4bc_row6_col0\" class=\"data row6 col0\" >0.8427</td>\n",
       "                        <td id=\"T_ed4bc_row6_col1\" class=\"data row6 col1\" >0.9085</td>\n",
       "                        <td id=\"T_ed4bc_row6_col2\" class=\"data row6 col2\" >0.8113</td>\n",
       "                        <td id=\"T_ed4bc_row6_col3\" class=\"data row6 col3\" >0.8323</td>\n",
       "                        <td id=\"T_ed4bc_row6_col4\" class=\"data row6 col4\" >0.8217</td>\n",
       "                        <td id=\"T_ed4bc_row6_col5\" class=\"data row6 col5\" >0.6810</td>\n",
       "                        <td id=\"T_ed4bc_row6_col6\" class=\"data row6 col6\" >0.6812</td>\n",
       "            </tr>\n",
       "            <tr>\n",
       "                        <th id=\"T_ed4bc_level0_row7\" class=\"row_heading level0 row7\" >7</th>\n",
       "                        <td id=\"T_ed4bc_row7_col0\" class=\"data row7 col0\" >0.8048</td>\n",
       "                        <td id=\"T_ed4bc_row7_col1\" class=\"data row7 col1\" >0.8775</td>\n",
       "                        <td id=\"T_ed4bc_row7_col2\" class=\"data row7 col2\" >0.7453</td>\n",
       "                        <td id=\"T_ed4bc_row7_col3\" class=\"data row7 col3\" >0.8034</td>\n",
       "                        <td id=\"T_ed4bc_row7_col4\" class=\"data row7 col4\" >0.7732</td>\n",
       "                        <td id=\"T_ed4bc_row7_col5\" class=\"data row7 col5\" >0.6023</td>\n",
       "                        <td id=\"T_ed4bc_row7_col6\" class=\"data row7 col6\" >0.6036</td>\n",
       "            </tr>\n",
       "            <tr>\n",
       "                        <th id=\"T_ed4bc_level0_row8\" class=\"row_heading level0 row8\" >8</th>\n",
       "                        <td id=\"T_ed4bc_row8_col0\" class=\"data row8 col0\" >0.8399</td>\n",
       "                        <td id=\"T_ed4bc_row8_col1\" class=\"data row8 col1\" >0.9118</td>\n",
       "                        <td id=\"T_ed4bc_row8_col2\" class=\"data row8 col2\" >0.7925</td>\n",
       "                        <td id=\"T_ed4bc_row8_col3\" class=\"data row8 col3\" >0.8400</td>\n",
       "                        <td id=\"T_ed4bc_row8_col4\" class=\"data row8 col4\" >0.8155</td>\n",
       "                        <td id=\"T_ed4bc_row8_col5\" class=\"data row8 col5\" >0.6743</td>\n",
       "                        <td id=\"T_ed4bc_row8_col6\" class=\"data row8 col6\" >0.6752</td>\n",
       "            </tr>\n",
       "            <tr>\n",
       "                        <th id=\"T_ed4bc_level0_row9\" class=\"row_heading level0 row9\" >9</th>\n",
       "                        <td id=\"T_ed4bc_row9_col0\" class=\"data row9 col0\" >0.8101</td>\n",
       "                        <td id=\"T_ed4bc_row9_col1\" class=\"data row9 col1\" >0.8854</td>\n",
       "                        <td id=\"T_ed4bc_row9_col2\" class=\"data row9 col2\" >0.7547</td>\n",
       "                        <td id=\"T_ed4bc_row9_col3\" class=\"data row9 col3\" >0.8081</td>\n",
       "                        <td id=\"T_ed4bc_row9_col4\" class=\"data row9 col4\" >0.7805</td>\n",
       "                        <td id=\"T_ed4bc_row9_col5\" class=\"data row9 col5\" >0.6135</td>\n",
       "                        <td id=\"T_ed4bc_row9_col6\" class=\"data row9 col6\" >0.6147</td>\n",
       "            </tr>\n",
       "            <tr>\n",
       "                        <th id=\"T_ed4bc_level0_row10\" class=\"row_heading level0 row10\" >Mean</th>\n",
       "                        <td id=\"T_ed4bc_row10_col0\" class=\"data row10 col0\" >0.8192</td>\n",
       "                        <td id=\"T_ed4bc_row10_col1\" class=\"data row10 col1\" >0.8912</td>\n",
       "                        <td id=\"T_ed4bc_row10_col2\" class=\"data row10 col2\" >0.7688</td>\n",
       "                        <td id=\"T_ed4bc_row10_col3\" class=\"data row10 col3\" >0.8165</td>\n",
       "                        <td id=\"T_ed4bc_row10_col4\" class=\"data row10 col4\" >0.7918</td>\n",
       "                        <td id=\"T_ed4bc_row10_col5\" class=\"data row10 col5\" >0.6323</td>\n",
       "                        <td id=\"T_ed4bc_row10_col6\" class=\"data row10 col6\" >0.6334</td>\n",
       "            </tr>\n",
       "            <tr>\n",
       "                        <th id=\"T_ed4bc_level0_row11\" class=\"row_heading level0 row11\" >SD</th>\n",
       "                        <td id=\"T_ed4bc_row11_col0\" class=\"data row11 col0\" >0.0144</td>\n",
       "                        <td id=\"T_ed4bc_row11_col1\" class=\"data row11 col1\" >0.0111</td>\n",
       "                        <td id=\"T_ed4bc_row11_col2\" class=\"data row11 col2\" >0.0224</td>\n",
       "                        <td id=\"T_ed4bc_row11_col3\" class=\"data row11 col3\" >0.0184</td>\n",
       "                        <td id=\"T_ed4bc_row11_col4\" class=\"data row11 col4\" >0.0170</td>\n",
       "                        <td id=\"T_ed4bc_row11_col5\" class=\"data row11 col5\" >0.0294</td>\n",
       "                        <td id=\"T_ed4bc_row11_col6\" class=\"data row11 col6\" >0.0292</td>\n",
       "            </tr>\n",
       "    </tbody></table>"
      ],
      "text/plain": [
       "<pandas.io.formats.style.Styler at 0x7fe00b0b5ac0>"
      ]
     },
     "metadata": {},
     "output_type": "display_data"
    }
   ],
   "source": [
    "best_model = create_model(model_matrix)\n",
    "final_model = finalize_model(best_model)"
   ]
  },
  {
   "cell_type": "markdown",
   "id": "d4c96db1-cac7-4489-ae89-edcb2a013406",
   "metadata": {},
   "source": [
    "### Let's load in our 2021 season data and get retention scores using the model:"
   ]
  },
  {
   "cell_type": "code",
   "execution_count": 22,
   "id": "a10cd7c4-9c97-4d68-b8b9-b28a4bbcfc0b",
   "metadata": {},
   "outputs": [
    {
     "data": {
      "text/plain": [
       "(2397, 23)"
      ]
     },
     "execution_count": 22,
     "metadata": {},
     "output_type": "execute_result"
    }
   ],
   "source": [
    "df_inference = df.loc[df[\"year\"] >= 2021]\n",
    "df_inference = df_inference.fillna(0)\n",
    "df_inference.shape"
   ]
  },
  {
   "cell_type": "code",
   "execution_count": 31,
   "id": "172cf51f-2141-42bb-915d-9760e58cd12c",
   "metadata": {},
   "outputs": [
    {
     "data": {
      "text/html": [
       "<div>\n",
       "<style scoped>\n",
       "    .dataframe tbody tr th:only-of-type {\n",
       "        vertical-align: middle;\n",
       "    }\n",
       "\n",
       "    .dataframe tbody tr th {\n",
       "        vertical-align: top;\n",
       "    }\n",
       "\n",
       "    .dataframe thead th {\n",
       "        text-align: right;\n",
       "    }\n",
       "</style>\n",
       "<table border=\"1\" class=\"dataframe\">\n",
       "  <thead>\n",
       "    <tr style=\"text-align: right;\">\n",
       "      <th></th>\n",
       "      <th>lkupclientid</th>\n",
       "      <th>dimcustomermasterid</th>\n",
       "      <th>year</th>\n",
       "      <th>productgrouping</th>\n",
       "      <th>totalspent</th>\n",
       "      <th>recentdate</th>\n",
       "      <th>attendancepercent</th>\n",
       "      <th>renewedbeforedays</th>\n",
       "      <th>source_tenure</th>\n",
       "      <th>tenure</th>\n",
       "      <th>...</th>\n",
       "      <th>opentosendratio</th>\n",
       "      <th>clicktosendratio</th>\n",
       "      <th>clicktoopenratio</th>\n",
       "      <th>gender</th>\n",
       "      <th>phonecall</th>\n",
       "      <th>inperson_contact</th>\n",
       "      <th>isnextyear_buyer</th>\n",
       "      <th>Label</th>\n",
       "      <th>Score_0</th>\n",
       "      <th>Score_1</th>\n",
       "    </tr>\n",
       "  </thead>\n",
       "  <tbody>\n",
       "    <tr>\n",
       "      <th>947</th>\n",
       "      <td>14</td>\n",
       "      <td>296579806</td>\n",
       "      <td>2021</td>\n",
       "      <td>Mini Plan</td>\n",
       "      <td>192.0</td>\n",
       "      <td>1970-01-01</td>\n",
       "      <td>0.67</td>\n",
       "      <td>46</td>\n",
       "      <td>47</td>\n",
       "      <td>47</td>\n",
       "      <td>...</td>\n",
       "      <td>0.00</td>\n",
       "      <td>0.00</td>\n",
       "      <td>0.00</td>\n",
       "      <td>Unknown</td>\n",
       "      <td>0</td>\n",
       "      <td>0</td>\n",
       "      <td>0</td>\n",
       "      <td>0</td>\n",
       "      <td>0.9979</td>\n",
       "      <td>0.0021</td>\n",
       "    </tr>\n",
       "    <tr>\n",
       "      <th>948</th>\n",
       "      <td>14</td>\n",
       "      <td>296598646</td>\n",
       "      <td>2021</td>\n",
       "      <td>Full Series</td>\n",
       "      <td>7800.0</td>\n",
       "      <td>2021-08-15</td>\n",
       "      <td>0.37</td>\n",
       "      <td>207</td>\n",
       "      <td>3285</td>\n",
       "      <td>1942</td>\n",
       "      <td>...</td>\n",
       "      <td>0.00</td>\n",
       "      <td>0.00</td>\n",
       "      <td>0.00</td>\n",
       "      <td>Unknown</td>\n",
       "      <td>0</td>\n",
       "      <td>0</td>\n",
       "      <td>0</td>\n",
       "      <td>0</td>\n",
       "      <td>0.8600</td>\n",
       "      <td>0.1400</td>\n",
       "    </tr>\n",
       "    <tr>\n",
       "      <th>949</th>\n",
       "      <td>14</td>\n",
       "      <td>296573828</td>\n",
       "      <td>2021</td>\n",
       "      <td>Mini Plan</td>\n",
       "      <td>448.0</td>\n",
       "      <td>2021-08-15</td>\n",
       "      <td>0.36</td>\n",
       "      <td>72</td>\n",
       "      <td>1095</td>\n",
       "      <td>740</td>\n",
       "      <td>...</td>\n",
       "      <td>0.00</td>\n",
       "      <td>0.00</td>\n",
       "      <td>0.00</td>\n",
       "      <td>Unknown</td>\n",
       "      <td>0</td>\n",
       "      <td>0</td>\n",
       "      <td>0</td>\n",
       "      <td>0</td>\n",
       "      <td>0.9923</td>\n",
       "      <td>0.0077</td>\n",
       "    </tr>\n",
       "    <tr>\n",
       "      <th>950</th>\n",
       "      <td>14</td>\n",
       "      <td>296603164</td>\n",
       "      <td>2021</td>\n",
       "      <td>Mini Plan</td>\n",
       "      <td>117.0</td>\n",
       "      <td>1970-01-01</td>\n",
       "      <td>1.00</td>\n",
       "      <td>72</td>\n",
       "      <td>4380</td>\n",
       "      <td>73</td>\n",
       "      <td>...</td>\n",
       "      <td>0.00</td>\n",
       "      <td>0.00</td>\n",
       "      <td>0.00</td>\n",
       "      <td>Unknown</td>\n",
       "      <td>0</td>\n",
       "      <td>0</td>\n",
       "      <td>0</td>\n",
       "      <td>0</td>\n",
       "      <td>0.8063</td>\n",
       "      <td>0.1937</td>\n",
       "    </tr>\n",
       "    <tr>\n",
       "      <th>951</th>\n",
       "      <td>14</td>\n",
       "      <td>296589728</td>\n",
       "      <td>2021</td>\n",
       "      <td>Mini Plan</td>\n",
       "      <td>78.0</td>\n",
       "      <td>2021-08-15</td>\n",
       "      <td>0.33</td>\n",
       "      <td>72</td>\n",
       "      <td>1095</td>\n",
       "      <td>776</td>\n",
       "      <td>...</td>\n",
       "      <td>0.00</td>\n",
       "      <td>0.00</td>\n",
       "      <td>0.00</td>\n",
       "      <td>Unknown</td>\n",
       "      <td>0</td>\n",
       "      <td>0</td>\n",
       "      <td>0</td>\n",
       "      <td>0</td>\n",
       "      <td>0.9968</td>\n",
       "      <td>0.0032</td>\n",
       "    </tr>\n",
       "  </tbody>\n",
       "</table>\n",
       "<p>5 rows × 26 columns</p>\n",
       "</div>"
      ],
      "text/plain": [
       "     lkupclientid  dimcustomermasterid  year productgrouping  totalspent  \\\n",
       "947            14            296579806  2021       Mini Plan       192.0   \n",
       "948            14            296598646  2021     Full Series      7800.0   \n",
       "949            14            296573828  2021       Mini Plan       448.0   \n",
       "950            14            296603164  2021       Mini Plan       117.0   \n",
       "951            14            296589728  2021       Mini Plan        78.0   \n",
       "\n",
       "    recentdate  attendancepercent  renewedbeforedays source_tenure  tenure  \\\n",
       "947 1970-01-01               0.67                 46            47      47   \n",
       "948 2021-08-15               0.37                207          3285    1942   \n",
       "949 2021-08-15               0.36                 72          1095     740   \n",
       "950 1970-01-01               1.00                 72          4380      73   \n",
       "951 2021-08-15               0.33                 72          1095     776   \n",
       "\n",
       "     ...  opentosendratio  clicktosendratio clicktoopenratio   gender  \\\n",
       "947  ...             0.00              0.00             0.00  Unknown   \n",
       "948  ...             0.00              0.00             0.00  Unknown   \n",
       "949  ...             0.00              0.00             0.00  Unknown   \n",
       "950  ...             0.00              0.00             0.00  Unknown   \n",
       "951  ...             0.00              0.00             0.00  Unknown   \n",
       "\n",
       "    phonecall  inperson_contact isnextyear_buyer Label Score_0 Score_1  \n",
       "947         0                 0                0     0  0.9979  0.0021  \n",
       "948         0                 0                0     0  0.8600  0.1400  \n",
       "949         0                 0                0     0  0.9923  0.0077  \n",
       "950         0                 0                0     0  0.8063  0.1937  \n",
       "951         0                 0                0     0  0.9968  0.0032  \n",
       "\n",
       "[5 rows x 26 columns]"
      ]
     },
     "execution_count": 31,
     "metadata": {},
     "output_type": "execute_result"
    }
   ],
   "source": [
    "new_predictions = predict_model(final_model, data=df_inference, raw_score=True)\n",
    "new_predictions.head()"
   ]
  },
  {
   "cell_type": "code",
   "execution_count": 25,
   "id": "b805c0ff-3d1c-469c-82a2-82b741d254fd",
   "metadata": {},
   "outputs": [
    {
     "data": {
      "text/plain": [
       "0    2338\n",
       "1      59\n",
       "Name: Label, dtype: int64"
      ]
     },
     "execution_count": 25,
     "metadata": {},
     "output_type": "execute_result"
    }
   ],
   "source": [
    "new_predictions[\"Label\"].value_counts()"
   ]
  },
  {
   "cell_type": "code",
   "execution_count": 26,
   "id": "24c265b3-cae9-46ba-840f-8bf95b3c342b",
   "metadata": {},
   "outputs": [
    {
     "data": {
      "text/plain": [
       "(-0.001, 0.5]    2338\n",
       "(0.5, 0.75]        50\n",
       "(0.75, 1.0]         9\n",
       "Name: Score_1, dtype: int64"
      ]
     },
     "execution_count": 26,
     "metadata": {},
     "output_type": "execute_result"
    }
   ],
   "source": [
    "new_predictions[\"Score_1\"].value_counts(bins=[0, 0.5, 0.75, 1.0])"
   ]
  },
  {
   "cell_type": "code",
   "execution_count": 20,
   "id": "b4d536ca-537d-4bd4-9752-3a78f99aa291",
   "metadata": {},
   "outputs": [
    {
     "data": {
      "image/png": "[encoded data removed]",
      "text/plain": [
       "<Figure size 576x396 with 1 Axes>"
      ]
     },
     "metadata": {},
     "output_type": "display_data"
    }
   ],
   "source": [
    "plt.hist(new_predictions[\"Score_1\"], bins=20, edgecolor='black')\n",
    "plt.title(\"Retention Scores\")\n",
    "plt.ylabel(\"Num Fans\")\n",
    "plt.xlabel(\"SA Buyer Score\")\n",
    "plt.show()"
   ]
  },
  {
   "cell_type": "code",
   "execution_count": 23,
   "id": "ce568037-74a9-446e-8b3b-ac1c734dae77",
   "metadata": {},
   "outputs": [
    {
     "data": {
      "image/png": "[encoded data removed]",
      "text/plain": [
       "<Figure size 800x500 with 1 Axes>"
      ]
     },
     "metadata": {},
     "output_type": "display_data"
    }
   ],
   "source": [
    "plot_model(best_model, plot='feature')"
   ]
  },
  {
   "cell_type": "code",
   "execution_count": 24,
   "id": "5ca36ba0-77b4-43c8-be52-83fc91ac03e7",
   "metadata": {},
   "outputs": [
    {
     "data": {
      "image/png": "[encoded data removed]",
      "text/plain": [
       "<Figure size 576x396 with 1 Axes>"
      ]
     },
     "metadata": {},
     "output_type": "display_data"
    }
   ],
   "source": [
    "plot_model(best_model, plot='confusion_matrix')"
   ]
  },
  {
   "cell_type": "markdown",
   "id": "1759436c-fc75-43d5-9900-5ca66ad5acae",
   "metadata": {},
   "source": [
    "### Observations:\n",
    "\n",
    "1. How much data did we have available to train the model, was it enough data?\n",
    "* We have 9,854 data for training (we selected data from 2016 to 2019 to train the model).\n",
    "\n",
    "2. How accurate was our retention model when applied to this tennis tournament dataset?\n",
    "* The accuracy is 81%, typically our retention model accuracy is over 90%.\n",
    "\n",
    "3. How many fans scored over 0.75 for the 2021 season? How does this compare with a retention model for a regular season (ex. Flames)\n",
    "* We have 9 of 2397 fans that scored over 0.75 for the 2021 season which is quite low.\n",
    "* typically our retention model scores the majority of fans over 0.5.\n",
    "\n",
    "4. What were the most important features in making a correct model prediction? Do they make sense for a tennis tournament?\n",
    "\n",
    "* Renewedbeforedays, totalspent, and source_tenure are still important which makes sense in the context of a tennis tournament.\n",
    "* Disttovenue and recency are not significant features in the model which also makes sense in the context of a tennis tournament, fans would likely travel further for a tournament than a regular game, tournaments also happens once per year."
   ]
  },
  {
   "cell_type": "markdown",
   "id": "713c1fb6",
   "metadata": {},
   "source": [
    "### Conclusion:"
   ]
  },
  {
   "cell_type": "markdown",
   "id": "5f9fe551",
   "metadata": {},
   "source": [
    "Based on our observations above we would not reccomend using this retention model for tournaments because eventhough it is 80% accurate it does not predict high enough number of buyers to be useful for the WSO."
   ]
  },
  {
   "cell_type": "code",
   "execution_count": null,
   "id": "7043f8d1-367c-419e-bfba-71fff56d80b1",
   "metadata": {},
   "outputs": [],
   "source": []
  }
 ],
 "metadata": {
  "interpreter": {
   "hash": "89f48dadab51a6b5b48ffc1a9e043c21cefe67453637c3444f3b86917b8aad16"
  },
  "kernelspec": {
   "display_name": "Python 3 (ipykernel)",
   "language": "python",
   "name": "python3"
  },
  "language_info": {
   "codemirror_mode": {
    "name": "ipython",
    "version": 3
   },
   "file_extension": ".py",
   "mimetype": "text/x-python",
   "name": "python",
   "nbconvert_exporter": "python",
   "pygments_lexer": "ipython3",
   "version": "3.8.5"
  }
 },
 "nbformat": 4,
 "nbformat_minor": 5
}
