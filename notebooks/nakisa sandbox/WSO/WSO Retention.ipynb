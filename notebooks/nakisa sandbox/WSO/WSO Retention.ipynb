{
 "cells": [
  {
   "cell_type": "markdown",
   "id": "6ee08766-25fd-4da1-91b8-b0c3e74db588",
   "metadata": {},
   "source": [
    "# WSO Retention Model\n",
    "* StelllarAlgo Data Science\n",
    "* Ryan Kazmerik & Nakisa Rad\n",
    "* May 18, 2022\n",
    "\n",
    "This notebook provides example code of how to execute a RedShift stored procedure and get a result set back by connecting to the RedShift db directly using the psycodb2 package. The data and databases used are for demonstration purposes only:"
   ]
  },
  {
   "cell_type": "code",
   "execution_count": 12,
   "id": "4c533efd-600e-4bce-8203-faffbddfa700",
   "metadata": {},
   "outputs": [],
   "source": [
    "import boto3\n",
    "import pandas as pd\n",
    "import psycopg2\n",
    "import matplotlib.pyplot as plt\n",
    "\n",
    "from pycaret.classification import *\n",
    "\n",
    "pd.options.display.max_columns = 100\n",
    "pd.options.display.max_rows = 100"
   ]
  },
  {
   "cell_type": "markdown",
   "id": "6d6c614f-288b-4a88-97dc-7ffc1d1c7ec9",
   "metadata": {},
   "source": [
    "### To connect to RedShift, we have to tell AWS which profile we'd like to login to, this will send us for a browser authentication trip:"
   ]
  },
  {
   "cell_type": "code",
   "execution_count": 2,
   "id": "79dd57e8-d578-4755-89fb-446362735a05",
   "metadata": {},
   "outputs": [
    {
     "name": "stdout",
     "output_type": "stream",
     "text": [
      "Attempting to automatically open the SSO authorization page in your default browser.\n",
      "If the browser does not open or you wish to use a different device to authorize this request, open the following URL:\n",
      "\n",
      "https://device.sso.us-east-1.amazonaws.com/\n",
      "\n",
      "Then enter the code:\n",
      "\n",
      "BNSZ-FNCF\n",
      "Successully logged into Start URL: https://stellaralgo.awsapps.com/start#/\n"
     ]
    }
   ],
   "source": [
    "! aws sso login --profile Stellaralgo-DataScienceAdmin"
   ]
  },
  {
   "cell_type": "markdown",
   "id": "e544dd2f-d867-4a37-a620-d5df62648b9b",
   "metadata": {},
   "source": [
    "### Now we can create a session and client to RedShift (QA), and create a new connection using Psycopg2:"
   ]
  },
  {
   "cell_type": "code",
   "execution_count": 4,
   "id": "795c9342-b928-4e8d-aef9-36f2b1cf667c",
   "metadata": {},
   "outputs": [
    {
     "name": "stdout",
     "output_type": "stream",
     "text": [
      "GOT CONNECTION TO DATABASE: qa-app stlrwso\n"
     ]
    }
   ],
   "source": [
    "session = boto3.session.Session(profile_name='Stellaralgo-DataScienceAdmin')\n",
    "client = session.client('redshift')\n",
    "\n",
    "CLUSTER = 'qa-app'\n",
    "DBNAME = 'stlrwso'\n",
    "\n",
    "creds = client.get_cluster_credentials(                \n",
    "    ClusterIdentifier = CLUSTER,\n",
    "    DbUser = 'admin',\n",
    "    DbName = DBNAME,\n",
    "    DbGroups = ['admin_group'],\n",
    "    AutoCreate=True\n",
    ")\n",
    "\n",
    "print(f\"GOT CONNECTION TO DATABASE: {CLUSTER} {DBNAME}\")"
   ]
  },
  {
   "cell_type": "markdown",
   "id": "0f9b2c49-e6a7-4ad2-bb90-0316101a5174",
   "metadata": {},
   "source": [
    "### First we need to call the stored procedure, which will create a named cursor - then we can query the results produced by the stored proc using that named cursor:"
   ]
  },
  {
   "cell_type": "code",
   "execution_count": 5,
   "id": "0fb58a5d-1ae8-42f3-a425-b73ca0952115",
   "metadata": {},
   "outputs": [],
   "source": [
    "# create a connection & cursor and call the stored procedure\n",
    "conn = psycopg2.connect(\n",
    "    host = 'qa-app.ctjussvyafp4.us-east-1.redshift.amazonaws.com',\n",
    "    port = 5439,\n",
    "    user = creds['DbUser'],\n",
    "    password = creds['DbPassword'],\n",
    "    database = DBNAME\n",
    ")\n",
    "\n",
    "cur = conn.cursor()\n",
    "cur.execute(f\"CALL dw.getretentionmodeldata(14, 2010, 2021, 'rkcursor')\")\n",
    "\n",
    "# create a named cursor based on the cursor name passed in above\n",
    "named_cursor = conn.cursor('rkcursor')\n",
    "data = named_cursor.fetchall()\n",
    "\n",
    "# load the data and columns into a data frame\n",
    "cols = [row[0] for row in named_cursor.description]\n",
    "df = pd.DataFrame(data=data, columns=cols)\n",
    "\n",
    "conn.commit()"
   ]
  },
  {
   "cell_type": "code",
   "execution_count": 7,
   "id": "959e2063",
   "metadata": {},
   "outputs": [
    {
     "data": {
      "text/html": [
       "<div>\n",
       "<style scoped>\n",
       "    .dataframe tbody tr th:only-of-type {\n",
       "        vertical-align: middle;\n",
       "    }\n",
       "\n",
       "    .dataframe tbody tr th {\n",
       "        vertical-align: top;\n",
       "    }\n",
       "\n",
       "    .dataframe thead th {\n",
       "        text-align: right;\n",
       "    }\n",
       "</style>\n",
       "<table border=\"1\" class=\"dataframe\">\n",
       "  <thead>\n",
       "    <tr style=\"text-align: right;\">\n",
       "      <th></th>\n",
       "      <th>lkupclientid</th>\n",
       "      <th>dimcustomermasterid</th>\n",
       "      <th>year</th>\n",
       "      <th>productgrouping</th>\n",
       "      <th>totalspent</th>\n",
       "      <th>recentdate</th>\n",
       "      <th>attendancepercent</th>\n",
       "      <th>renewedbeforedays</th>\n",
       "      <th>source_tenure</th>\n",
       "      <th>tenure</th>\n",
       "      <th>disttovenue</th>\n",
       "      <th>recency</th>\n",
       "      <th>missed_games_1</th>\n",
       "      <th>missed_games_2</th>\n",
       "      <th>missed_games_over_2</th>\n",
       "      <th>forward_records</th>\n",
       "      <th>opentosendratio</th>\n",
       "      <th>clicktosendratio</th>\n",
       "      <th>clicktoopenratio</th>\n",
       "      <th>gender</th>\n",
       "      <th>phonecall</th>\n",
       "      <th>inperson_contact</th>\n",
       "      <th>isnextyear_buyer</th>\n",
       "    </tr>\n",
       "  </thead>\n",
       "  <tbody>\n",
       "    <tr>\n",
       "      <th>0</th>\n",
       "      <td>14</td>\n",
       "      <td>296599068</td>\n",
       "      <td>2016</td>\n",
       "      <td>Full Series</td>\n",
       "      <td>551.28</td>\n",
       "      <td>1970-01-01</td>\n",
       "      <td>0.63</td>\n",
       "      <td>243</td>\n",
       "      <td>8760</td>\n",
       "      <td>251</td>\n",
       "      <td>27.34</td>\n",
       "      <td>0</td>\n",
       "      <td>0</td>\n",
       "      <td>0</td>\n",
       "      <td>1</td>\n",
       "      <td>0</td>\n",
       "      <td>0.00</td>\n",
       "      <td>0.00</td>\n",
       "      <td>0.00</td>\n",
       "      <td>Unknown</td>\n",
       "      <td>0</td>\n",
       "      <td>0</td>\n",
       "      <td>1</td>\n",
       "    </tr>\n",
       "    <tr>\n",
       "      <th>1</th>\n",
       "      <td>14</td>\n",
       "      <td>296602184</td>\n",
       "      <td>2016</td>\n",
       "      <td>Full Series</td>\n",
       "      <td>2627.60</td>\n",
       "      <td>1970-01-01</td>\n",
       "      <td>0.57</td>\n",
       "      <td>255</td>\n",
       "      <td>8760</td>\n",
       "      <td>263</td>\n",
       "      <td>33.17</td>\n",
       "      <td>0</td>\n",
       "      <td>0</td>\n",
       "      <td>0</td>\n",
       "      <td>1</td>\n",
       "      <td>0</td>\n",
       "      <td>0.00</td>\n",
       "      <td>0.00</td>\n",
       "      <td>0.00</td>\n",
       "      <td>Unknown</td>\n",
       "      <td>0</td>\n",
       "      <td>0</td>\n",
       "      <td>1</td>\n",
       "    </tr>\n",
       "    <tr>\n",
       "      <th>2</th>\n",
       "      <td>14</td>\n",
       "      <td>296601800</td>\n",
       "      <td>2016</td>\n",
       "      <td>Full Series</td>\n",
       "      <td>100.00</td>\n",
       "      <td>1970-01-01</td>\n",
       "      <td>0.47</td>\n",
       "      <td>255</td>\n",
       "      <td>7665</td>\n",
       "      <td>263</td>\n",
       "      <td>159.39</td>\n",
       "      <td>0</td>\n",
       "      <td>0</td>\n",
       "      <td>0</td>\n",
       "      <td>1</td>\n",
       "      <td>0</td>\n",
       "      <td>0.00</td>\n",
       "      <td>0.00</td>\n",
       "      <td>0.00</td>\n",
       "      <td>Unknown</td>\n",
       "      <td>0</td>\n",
       "      <td>0</td>\n",
       "      <td>1</td>\n",
       "    </tr>\n",
       "    <tr>\n",
       "      <th>3</th>\n",
       "      <td>14</td>\n",
       "      <td>277993208</td>\n",
       "      <td>2016</td>\n",
       "      <td>Full Series</td>\n",
       "      <td>100.00</td>\n",
       "      <td>1970-01-01</td>\n",
       "      <td>0.47</td>\n",
       "      <td>211</td>\n",
       "      <td>2555</td>\n",
       "      <td>219</td>\n",
       "      <td>389.81</td>\n",
       "      <td>0</td>\n",
       "      <td>0</td>\n",
       "      <td>0</td>\n",
       "      <td>1</td>\n",
       "      <td>0</td>\n",
       "      <td>0.00</td>\n",
       "      <td>0.00</td>\n",
       "      <td>0.00</td>\n",
       "      <td>Unknown</td>\n",
       "      <td>0</td>\n",
       "      <td>0</td>\n",
       "      <td>0</td>\n",
       "    </tr>\n",
       "    <tr>\n",
       "      <th>4</th>\n",
       "      <td>14</td>\n",
       "      <td>278079621</td>\n",
       "      <td>2016</td>\n",
       "      <td>Full Series</td>\n",
       "      <td>100.00</td>\n",
       "      <td>1970-01-01</td>\n",
       "      <td>1.00</td>\n",
       "      <td>269</td>\n",
       "      <td>3650</td>\n",
       "      <td>277</td>\n",
       "      <td>19.16</td>\n",
       "      <td>0</td>\n",
       "      <td>0</td>\n",
       "      <td>0</td>\n",
       "      <td>1</td>\n",
       "      <td>0</td>\n",
       "      <td>0.00</td>\n",
       "      <td>0.00</td>\n",
       "      <td>0.00</td>\n",
       "      <td>Unknown</td>\n",
       "      <td>0</td>\n",
       "      <td>0</td>\n",
       "      <td>1</td>\n",
       "    </tr>\n",
       "  </tbody>\n",
       "</table>\n",
       "</div>"
      ],
      "text/plain": [
       "   lkupclientid  dimcustomermasterid  year productgrouping  totalspent  \\\n",
       "0            14            296599068  2016     Full Series      551.28   \n",
       "1            14            296602184  2016     Full Series     2627.60   \n",
       "2            14            296601800  2016     Full Series      100.00   \n",
       "3            14            277993208  2016     Full Series      100.00   \n",
       "4            14            278079621  2016     Full Series      100.00   \n",
       "\n",
       "  recentdate  attendancepercent  renewedbeforedays source_tenure  tenure  \\\n",
       "0 1970-01-01               0.63                243          8760     251   \n",
       "1 1970-01-01               0.57                255          8760     263   \n",
       "2 1970-01-01               0.47                255          7665     263   \n",
       "3 1970-01-01               0.47                211          2555     219   \n",
       "4 1970-01-01               1.00                269          3650     277   \n",
       "\n",
       "   disttovenue  recency missed_games_1 missed_games_2 missed_games_over_2  \\\n",
       "0        27.34        0              0              0                   1   \n",
       "1        33.17        0              0              0                   1   \n",
       "2       159.39        0              0              0                   1   \n",
       "3       389.81        0              0              0                   1   \n",
       "4        19.16        0              0              0                   1   \n",
       "\n",
       "   forward_records opentosendratio clicktosendratio clicktoopenratio   gender  \\\n",
       "0                0            0.00             0.00             0.00  Unknown   \n",
       "1                0            0.00             0.00             0.00  Unknown   \n",
       "2                0            0.00             0.00             0.00  Unknown   \n",
       "3                0            0.00             0.00             0.00  Unknown   \n",
       "4                0            0.00             0.00             0.00  Unknown   \n",
       "\n",
       "   phonecall  inperson_contact  isnextyear_buyer  \n",
       "0          0                 0                 1  \n",
       "1          0                 0                 1  \n",
       "2          0                 0                 1  \n",
       "3          0                 0                 0  \n",
       "4          0                 0                 1  "
      ]
     },
     "execution_count": 7,
     "metadata": {},
     "output_type": "execute_result"
    }
   ],
   "source": [
    "df.head()"
   ]
  },
  {
   "cell_type": "code",
   "execution_count": 8,
   "id": "2f47c219",
   "metadata": {},
   "outputs": [
    {
     "name": "stdout",
     "output_type": "stream",
     "text": [
      "<class 'pandas.core.frame.DataFrame'>\n",
      "RangeIndex: 12251 entries, 0 to 12250\n",
      "Data columns (total 23 columns):\n",
      " #   Column               Non-Null Count  Dtype         \n",
      "---  ------               --------------  -----         \n",
      " 0   lkupclientid         12251 non-null  int64         \n",
      " 1   dimcustomermasterid  12251 non-null  int64         \n",
      " 2   year                 12251 non-null  int64         \n",
      " 3   productgrouping      12251 non-null  object        \n",
      " 4   totalspent           12251 non-null  float64       \n",
      " 5   recentdate           12251 non-null  datetime64[ns]\n",
      " 6   attendancepercent    12251 non-null  float64       \n",
      " 7   renewedbeforedays    12251 non-null  int64         \n",
      " 8   source_tenure        12251 non-null  object        \n",
      " 9   tenure               12251 non-null  int64         \n",
      " 10  disttovenue          12251 non-null  float64       \n",
      " 11  recency              12251 non-null  int64         \n",
      " 12  missed_games_1       12251 non-null  object        \n",
      " 13  missed_games_2       12251 non-null  object        \n",
      " 14  missed_games_over_2  12251 non-null  object        \n",
      " 15  forward_records      12251 non-null  int64         \n",
      " 16  opentosendratio      12251 non-null  object        \n",
      " 17  clicktosendratio     12251 non-null  object        \n",
      " 18  clicktoopenratio     12251 non-null  object        \n",
      " 19  gender               12251 non-null  object        \n",
      " 20  phonecall            12251 non-null  int64         \n",
      " 21  inperson_contact     12251 non-null  int64         \n",
      " 22  isnextyear_buyer     12251 non-null  int64         \n",
      "dtypes: datetime64[ns](1), float64(3), int64(10), object(9)\n",
      "memory usage: 2.1+ MB\n"
     ]
    }
   ],
   "source": [
    "df.info()"
   ]
  },
  {
   "cell_type": "markdown",
   "id": "a73808c3-3cf1-4d30-93f4-87a8a86c438a",
   "metadata": {},
   "source": [
    "### We should specify the features used in our model:"
   ]
  },
  {
   "cell_type": "code",
   "execution_count": 10,
   "id": "36da24a8-b15d-4086-8e42-f25976e7fc22",
   "metadata": {},
   "outputs": [
    {
     "name": "stdout",
     "output_type": "stream",
     "text": [
      "Data for Modeling: (8376, 13)\n",
      "Unseen Data For Predictions: (1478, 13)\n",
      "\n"
     ]
    },
    {
     "name": "stderr",
     "output_type": "stream",
     "text": [
      "/var/folders/1z/ymtyx_zx7r168ctyc23cfmbh0000gn/T/ipykernel_11930/2048080078.py:23: SettingWithCopyWarning: \n",
      "A value is trying to be set on a copy of a slice from a DataFrame.\n",
      "Try using .loc[row_indexer,col_indexer] = value instead\n",
      "\n",
      "See the caveats in the documentation: https://pandas.pydata.org/pandas-docs/stable/user_guide/indexing.html#returning-a-view-versus-a-copy\n",
      "  df_dataset[\"year\"] = pd.to_numeric(df_dataset[\"year\"])\n"
     ]
    }
   ],
   "source": [
    "# choose the features for the stellar base retention model\n",
    "features = [\n",
    "                \"dimcustomermasterid\",\n",
    "                \"attendancepercent\",\n",
    "                \"disttovenue\",\n",
    "                \"missed_games_1\",\n",
    "                \"missed_games_2\",\n",
    "                \"missed_games_over_2\",\n",
    "                \"totalspent\",\n",
    "                \"recency\",\n",
    "                \"source_tenure\",\n",
    "                \"renewedbeforedays\",\n",
    "                \"isnextyear_buyer\",\n",
    "                \"productgrouping\",\n",
    "                \"year\"\n",
    "]\n",
    "\n",
    "# copy your main dataframe\n",
    "df_dataset = df\n",
    "\n",
    "# choose the features & train year & test year\n",
    "df_dataset = df_dataset[features]\n",
    "df_dataset[\"year\"] = pd.to_numeric(df_dataset[\"year\"])\n",
    "df_dataset = df_dataset.loc[df_dataset[\"year\"] <= 2019]\n",
    "\n",
    "df_train = df_dataset.sample(frac=0.85, random_state=786)\n",
    "df_eval = df_dataset.drop(df_train.index)\n",
    "\n",
    "df_train.reset_index(drop=True, inplace=True)\n",
    "df_eval.reset_index(drop=True, inplace=True)\n",
    "\n",
    "# print out the number of records for training and eval\n",
    "print('Data for Modeling: ' + str(df_train.shape))\n",
    "print('Unseen Data For Predictions: ' + str(df_eval.shape), end=\"\\n\\n\")"
   ]
  },
  {
   "cell_type": "markdown",
   "id": "77edefba-cfff-477a-90ed-3c0a0295effa",
   "metadata": {},
   "source": [
    "### Now we can model the data using a binary classification prediction for the isnextyear_buyer field to see how likely a customer is to re-purchase."
   ]
  },
  {
   "cell_type": "code",
   "execution_count": 13,
   "id": "57d65f59-78f5-4d62-a110-17873059c742",
   "metadata": {},
   "outputs": [],
   "source": [
    "setup(\n",
    "    data= df_train, \n",
    "    target=\"isnextyear_buyer\", \n",
    "    train_size = 0.85,\n",
    "    data_split_shuffle=True,\n",
    "    ignore_features=[\"dimcustomermasterid\",\"productgrouping\",\"year\"],\n",
    "    silent=True,\n",
    "    verbose=False,\n",
    "    numeric_features=[\n",
    "                \"attendancepercent\",\n",
    "                \"disttovenue\",\n",
    "                \"missed_games_1\",\n",
    "                \"missed_games_2\",\n",
    "                \"missed_games_over_2\",\n",
    "                \"totalspent\",\n",
    "                \"recency\",\n",
    "                \"source_tenure\",\n",
    "                \"renewedbeforedays\"\n",
    "    ]\n",
    ");"
   ]
  },
  {
   "cell_type": "code",
   "execution_count": 14,
   "id": "4ce44415-dd53-41ae-8e95-060bc152831c",
   "metadata": {},
   "outputs": [
    {
     "data": {
      "text/html": [
       "<style  type=\"text/css\" >\n",
       "    #T_958c2_ th {\n",
       "          text-align: left;\n",
       "    }#T_958c2_row0_col0,#T_958c2_row1_col0,#T_958c2_row1_col1,#T_958c2_row1_col2,#T_958c2_row1_col3,#T_958c2_row1_col4,#T_958c2_row1_col5,#T_958c2_row1_col6,#T_958c2_row1_col7{\n",
       "            text-align:  left;\n",
       "            text-align:  left;\n",
       "        }#T_958c2_row0_col1,#T_958c2_row0_col2,#T_958c2_row0_col3,#T_958c2_row0_col4,#T_958c2_row0_col5,#T_958c2_row0_col6,#T_958c2_row0_col7{\n",
       "            text-align:  left;\n",
       "            text-align:  left;\n",
       "            background-color:  yellow;\n",
       "        }#T_958c2_row0_col8{\n",
       "            text-align:  left;\n",
       "            text-align:  left;\n",
       "            background-color:  lightgrey;\n",
       "        }#T_958c2_row1_col8{\n",
       "            text-align:  left;\n",
       "            text-align:  left;\n",
       "            background-color:  yellow;\n",
       "            background-color:  lightgrey;\n",
       "        }</style><table id=\"T_958c2_\" ><thead>    <tr>        <th class=\"blank level0\" ></th>        <th class=\"col_heading level0 col0\" >Model</th>        <th class=\"col_heading level0 col1\" >Accuracy</th>        <th class=\"col_heading level0 col2\" >AUC</th>        <th class=\"col_heading level0 col3\" >Recall</th>        <th class=\"col_heading level0 col4\" >Prec.</th>        <th class=\"col_heading level0 col5\" >F1</th>        <th class=\"col_heading level0 col6\" >Kappa</th>        <th class=\"col_heading level0 col7\" >MCC</th>        <th class=\"col_heading level0 col8\" >TT (Sec)</th>    </tr></thead><tbody>\n",
       "                <tr>\n",
       "                        <th id=\"T_958c2_level0_row0\" class=\"row_heading level0 row0\" >xgboost</th>\n",
       "                        <td id=\"T_958c2_row0_col0\" class=\"data row0 col0\" >Extreme Gradient Boosting</td>\n",
       "                        <td id=\"T_958c2_row0_col1\" class=\"data row0 col1\" >0.8126</td>\n",
       "                        <td id=\"T_958c2_row0_col2\" class=\"data row0 col2\" >0.8860</td>\n",
       "                        <td id=\"T_958c2_row0_col3\" class=\"data row0 col3\" >0.7729</td>\n",
       "                        <td id=\"T_958c2_row0_col4\" class=\"data row0 col4\" >0.7992</td>\n",
       "                        <td id=\"T_958c2_row0_col5\" class=\"data row0 col5\" >0.7854</td>\n",
       "                        <td id=\"T_958c2_row0_col6\" class=\"data row0 col6\" >0.6192</td>\n",
       "                        <td id=\"T_958c2_row0_col7\" class=\"data row0 col7\" >0.6199</td>\n",
       "                        <td id=\"T_958c2_row0_col8\" class=\"data row0 col8\" >0.3640</td>\n",
       "            </tr>\n",
       "            <tr>\n",
       "                        <th id=\"T_958c2_level0_row1\" class=\"row_heading level0 row1\" >lr</th>\n",
       "                        <td id=\"T_958c2_row1_col0\" class=\"data row1 col0\" >Logistic Regression</td>\n",
       "                        <td id=\"T_958c2_row1_col1\" class=\"data row1 col1\" >0.7265</td>\n",
       "                        <td id=\"T_958c2_row1_col2\" class=\"data row1 col2\" >0.8018</td>\n",
       "                        <td id=\"T_958c2_row1_col3\" class=\"data row1 col3\" >0.7150</td>\n",
       "                        <td id=\"T_958c2_row1_col4\" class=\"data row1 col4\" >0.6836</td>\n",
       "                        <td id=\"T_958c2_row1_col5\" class=\"data row1 col5\" >0.6988</td>\n",
       "                        <td id=\"T_958c2_row1_col6\" class=\"data row1 col6\" >0.4486</td>\n",
       "                        <td id=\"T_958c2_row1_col7\" class=\"data row1 col7\" >0.4491</td>\n",
       "                        <td id=\"T_958c2_row1_col8\" class=\"data row1 col8\" >0.3300</td>\n",
       "            </tr>\n",
       "    </tbody></table>"
      ],
      "text/plain": [
       "<pandas.io.formats.style.Styler at 0x7fa9ae7ba6a0>"
      ]
     },
     "metadata": {},
     "output_type": "display_data"
    }
   ],
   "source": [
    "model_matrix = compare_models(\n",
    "    fold=10,\n",
    "    include=[\"lr\", \"xgboost\"]\n",
    ")"
   ]
  },
  {
   "cell_type": "code",
   "execution_count": 15,
   "id": "2a7a53fd-60c3-4e36-9c62-bc79969ff360",
   "metadata": {},
   "outputs": [
    {
     "data": {
      "text/html": [
       "<style  type=\"text/css\" >\n",
       "#T_6aeef_row10_col0,#T_6aeef_row10_col1,#T_6aeef_row10_col2,#T_6aeef_row10_col3,#T_6aeef_row10_col4,#T_6aeef_row10_col5,#T_6aeef_row10_col6{\n",
       "            background:  yellow;\n",
       "        }</style><table id=\"T_6aeef_\" ><thead>    <tr>        <th class=\"blank level0\" ></th>        <th class=\"col_heading level0 col0\" >Accuracy</th>        <th class=\"col_heading level0 col1\" >AUC</th>        <th class=\"col_heading level0 col2\" >Recall</th>        <th class=\"col_heading level0 col3\" >Prec.</th>        <th class=\"col_heading level0 col4\" >F1</th>        <th class=\"col_heading level0 col5\" >Kappa</th>        <th class=\"col_heading level0 col6\" >MCC</th>    </tr></thead><tbody>\n",
       "                <tr>\n",
       "                        <th id=\"T_6aeef_level0_row0\" class=\"row_heading level0 row0\" >0</th>\n",
       "                        <td id=\"T_6aeef_row0_col0\" class=\"data row0 col0\" >0.8357</td>\n",
       "                        <td id=\"T_6aeef_row0_col1\" class=\"data row0 col1\" >0.9086</td>\n",
       "                        <td id=\"T_6aeef_row0_col2\" class=\"data row0 col2\" >0.7848</td>\n",
       "                        <td id=\"T_6aeef_row0_col3\" class=\"data row0 col3\" >0.8350</td>\n",
       "                        <td id=\"T_6aeef_row0_col4\" class=\"data row0 col4\" >0.8091</td>\n",
       "                        <td id=\"T_6aeef_row0_col5\" class=\"data row0 col5\" >0.6651</td>\n",
       "                        <td id=\"T_6aeef_row0_col6\" class=\"data row0 col6\" >0.6661</td>\n",
       "            </tr>\n",
       "            <tr>\n",
       "                        <th id=\"T_6aeef_level0_row1\" class=\"row_heading level0 row1\" >1</th>\n",
       "                        <td id=\"T_6aeef_row1_col0\" class=\"data row1 col0\" >0.8048</td>\n",
       "                        <td id=\"T_6aeef_row1_col1\" class=\"data row1 col1\" >0.8736</td>\n",
       "                        <td id=\"T_6aeef_row1_col2\" class=\"data row1 col2\" >0.7880</td>\n",
       "                        <td id=\"T_6aeef_row1_col3\" class=\"data row1 col3\" >0.7757</td>\n",
       "                        <td id=\"T_6aeef_row1_col4\" class=\"data row1 col4\" >0.7818</td>\n",
       "                        <td id=\"T_6aeef_row1_col5\" class=\"data row1 col5\" >0.6052</td>\n",
       "                        <td id=\"T_6aeef_row1_col6\" class=\"data row1 col6\" >0.6053</td>\n",
       "            </tr>\n",
       "            <tr>\n",
       "                        <th id=\"T_6aeef_level0_row2\" class=\"row_heading level0 row2\" >2</th>\n",
       "                        <td id=\"T_6aeef_row2_col0\" class=\"data row2 col0\" >0.8343</td>\n",
       "                        <td id=\"T_6aeef_row2_col1\" class=\"data row2 col1\" >0.9125</td>\n",
       "                        <td id=\"T_6aeef_row2_col2\" class=\"data row2 col2\" >0.8196</td>\n",
       "                        <td id=\"T_6aeef_row2_col3\" class=\"data row2 col3\" >0.8094</td>\n",
       "                        <td id=\"T_6aeef_row2_col4\" class=\"data row2 col4\" >0.8145</td>\n",
       "                        <td id=\"T_6aeef_row2_col5\" class=\"data row2 col5\" >0.6647</td>\n",
       "                        <td id=\"T_6aeef_row2_col6\" class=\"data row2 col6\" >0.6648</td>\n",
       "            </tr>\n",
       "            <tr>\n",
       "                        <th id=\"T_6aeef_level0_row3\" class=\"row_heading level0 row3\" >3</th>\n",
       "                        <td id=\"T_6aeef_row3_col0\" class=\"data row3 col0\" >0.8048</td>\n",
       "                        <td id=\"T_6aeef_row3_col1\" class=\"data row3 col1\" >0.8848</td>\n",
       "                        <td id=\"T_6aeef_row3_col2\" class=\"data row3 col2\" >0.7911</td>\n",
       "                        <td id=\"T_6aeef_row3_col3\" class=\"data row3 col3\" >0.7740</td>\n",
       "                        <td id=\"T_6aeef_row3_col4\" class=\"data row3 col4\" >0.7825</td>\n",
       "                        <td id=\"T_6aeef_row3_col5\" class=\"data row3 col5\" >0.6054</td>\n",
       "                        <td id=\"T_6aeef_row3_col6\" class=\"data row3 col6\" >0.6056</td>\n",
       "            </tr>\n",
       "            <tr>\n",
       "                        <th id=\"T_6aeef_level0_row4\" class=\"row_heading level0 row4\" >4</th>\n",
       "                        <td id=\"T_6aeef_row4_col0\" class=\"data row4 col0\" >0.7963</td>\n",
       "                        <td id=\"T_6aeef_row4_col1\" class=\"data row4 col1\" >0.8705</td>\n",
       "                        <td id=\"T_6aeef_row4_col2\" class=\"data row4 col2\" >0.7595</td>\n",
       "                        <td id=\"T_6aeef_row4_col3\" class=\"data row4 col3\" >0.7767</td>\n",
       "                        <td id=\"T_6aeef_row4_col4\" class=\"data row4 col4\" >0.7680</td>\n",
       "                        <td id=\"T_6aeef_row4_col5\" class=\"data row4 col5\" >0.5866</td>\n",
       "                        <td id=\"T_6aeef_row4_col6\" class=\"data row4 col6\" >0.5867</td>\n",
       "            </tr>\n",
       "            <tr>\n",
       "                        <th id=\"T_6aeef_level0_row5\" class=\"row_heading level0 row5\" >5</th>\n",
       "                        <td id=\"T_6aeef_row5_col0\" class=\"data row5 col0\" >0.7992</td>\n",
       "                        <td id=\"T_6aeef_row5_col1\" class=\"data row5 col1\" >0.8732</td>\n",
       "                        <td id=\"T_6aeef_row5_col2\" class=\"data row5 col2\" >0.7563</td>\n",
       "                        <td id=\"T_6aeef_row5_col3\" class=\"data row5 col3\" >0.7836</td>\n",
       "                        <td id=\"T_6aeef_row5_col4\" class=\"data row5 col4\" >0.7697</td>\n",
       "                        <td id=\"T_6aeef_row5_col5\" class=\"data row5 col5\" >0.5917</td>\n",
       "                        <td id=\"T_6aeef_row5_col6\" class=\"data row5 col6\" >0.5920</td>\n",
       "            </tr>\n",
       "            <tr>\n",
       "                        <th id=\"T_6aeef_level0_row6\" class=\"row_heading level0 row6\" >6</th>\n",
       "                        <td id=\"T_6aeef_row6_col0\" class=\"data row6 col0\" >0.8020</td>\n",
       "                        <td id=\"T_6aeef_row6_col1\" class=\"data row6 col1\" >0.8732</td>\n",
       "                        <td id=\"T_6aeef_row6_col2\" class=\"data row6 col2\" >0.7247</td>\n",
       "                        <td id=\"T_6aeef_row6_col3\" class=\"data row6 col3\" >0.8092</td>\n",
       "                        <td id=\"T_6aeef_row6_col4\" class=\"data row6 col4\" >0.7646</td>\n",
       "                        <td id=\"T_6aeef_row6_col5\" class=\"data row6 col5\" >0.5946</td>\n",
       "                        <td id=\"T_6aeef_row6_col6\" class=\"data row6 col6\" >0.5973</td>\n",
       "            </tr>\n",
       "            <tr>\n",
       "                        <th id=\"T_6aeef_level0_row7\" class=\"row_heading level0 row7\" >7</th>\n",
       "                        <td id=\"T_6aeef_row7_col0\" class=\"data row7 col0\" >0.8301</td>\n",
       "                        <td id=\"T_6aeef_row7_col1\" class=\"data row7 col1\" >0.9030</td>\n",
       "                        <td id=\"T_6aeef_row7_col2\" class=\"data row7 col2\" >0.7722</td>\n",
       "                        <td id=\"T_6aeef_row7_col3\" class=\"data row7 col3\" >0.8328</td>\n",
       "                        <td id=\"T_6aeef_row7_col4\" class=\"data row7 col4\" >0.8013</td>\n",
       "                        <td id=\"T_6aeef_row7_col5\" class=\"data row7 col5\" >0.6532</td>\n",
       "                        <td id=\"T_6aeef_row7_col6\" class=\"data row7 col6\" >0.6546</td>\n",
       "            </tr>\n",
       "            <tr>\n",
       "                        <th id=\"T_6aeef_level0_row8\" class=\"row_heading level0 row8\" >8</th>\n",
       "                        <td id=\"T_6aeef_row8_col0\" class=\"data row8 col0\" >0.8188</td>\n",
       "                        <td id=\"T_6aeef_row8_col1\" class=\"data row8 col1\" >0.8782</td>\n",
       "                        <td id=\"T_6aeef_row8_col2\" class=\"data row8 col2\" >0.7855</td>\n",
       "                        <td id=\"T_6aeef_row8_col3\" class=\"data row8 col3\" >0.8032</td>\n",
       "                        <td id=\"T_6aeef_row8_col4\" class=\"data row8 col4\" >0.7943</td>\n",
       "                        <td id=\"T_6aeef_row8_col5\" class=\"data row8 col5\" >0.6324</td>\n",
       "                        <td id=\"T_6aeef_row8_col6\" class=\"data row8 col6\" >0.6326</td>\n",
       "            </tr>\n",
       "            <tr>\n",
       "                        <th id=\"T_6aeef_level0_row9\" class=\"row_heading level0 row9\" >9</th>\n",
       "                        <td id=\"T_6aeef_row9_col0\" class=\"data row9 col0\" >0.8003</td>\n",
       "                        <td id=\"T_6aeef_row9_col1\" class=\"data row9 col1\" >0.8826</td>\n",
       "                        <td id=\"T_6aeef_row9_col2\" class=\"data row9 col2\" >0.7468</td>\n",
       "                        <td id=\"T_6aeef_row9_col3\" class=\"data row9 col3\" >0.7919</td>\n",
       "                        <td id=\"T_6aeef_row9_col4\" class=\"data row9 col4\" >0.7687</td>\n",
       "                        <td id=\"T_6aeef_row9_col5\" class=\"data row9 col5\" >0.5933</td>\n",
       "                        <td id=\"T_6aeef_row9_col6\" class=\"data row9 col6\" >0.5940</td>\n",
       "            </tr>\n",
       "            <tr>\n",
       "                        <th id=\"T_6aeef_level0_row10\" class=\"row_heading level0 row10\" >Mean</th>\n",
       "                        <td id=\"T_6aeef_row10_col0\" class=\"data row10 col0\" >0.8126</td>\n",
       "                        <td id=\"T_6aeef_row10_col1\" class=\"data row10 col1\" >0.8860</td>\n",
       "                        <td id=\"T_6aeef_row10_col2\" class=\"data row10 col2\" >0.7729</td>\n",
       "                        <td id=\"T_6aeef_row10_col3\" class=\"data row10 col3\" >0.7992</td>\n",
       "                        <td id=\"T_6aeef_row10_col4\" class=\"data row10 col4\" >0.7854</td>\n",
       "                        <td id=\"T_6aeef_row10_col5\" class=\"data row10 col5\" >0.6192</td>\n",
       "                        <td id=\"T_6aeef_row10_col6\" class=\"data row10 col6\" >0.6199</td>\n",
       "            </tr>\n",
       "            <tr>\n",
       "                        <th id=\"T_6aeef_level0_row11\" class=\"row_heading level0 row11\" >SD</th>\n",
       "                        <td id=\"T_6aeef_row11_col0\" class=\"data row11 col0\" >0.0148</td>\n",
       "                        <td id=\"T_6aeef_row11_col1\" class=\"data row11 col1\" >0.0151</td>\n",
       "                        <td id=\"T_6aeef_row11_col2\" class=\"data row11 col2\" >0.0255</td>\n",
       "                        <td id=\"T_6aeef_row11_col3\" class=\"data row11 col3\" >0.0215</td>\n",
       "                        <td id=\"T_6aeef_row11_col4\" class=\"data row11 col4\" >0.0174</td>\n",
       "                        <td id=\"T_6aeef_row11_col5\" class=\"data row11 col5\" >0.0300</td>\n",
       "                        <td id=\"T_6aeef_row11_col6\" class=\"data row11 col6\" >0.0300</td>\n",
       "            </tr>\n",
       "    </tbody></table>"
      ],
      "text/plain": [
       "<pandas.io.formats.style.Styler at 0x7fa9b9626250>"
      ]
     },
     "metadata": {},
     "output_type": "display_data"
    },
    {
     "name": "stderr",
     "output_type": "stream",
     "text": [
      "/Library/Frameworks/Python.framework/Versions/3.9/lib/python3.9/site-packages/xgboost/sklearn.py:1146: UserWarning: The use of label encoder in XGBClassifier is deprecated and will be removed in a future release. To remove this warning, do the following: 1) Pass option use_label_encoder=False when constructing XGBClassifier object; and 2) Encode your labels (y) as integers starting with 0, i.e. 0, 1, 2, ..., [num_class - 1].\n",
      "  warnings.warn(label_encoder_deprecation_msg, UserWarning)\n",
      "/Library/Frameworks/Python.framework/Versions/3.9/lib/python3.9/site-packages/xgboost/sklearn.py:1146: UserWarning: The use of label encoder in XGBClassifier is deprecated and will be removed in a future release. To remove this warning, do the following: 1) Pass option use_label_encoder=False when constructing XGBClassifier object; and 2) Encode your labels (y) as integers starting with 0, i.e. 0, 1, 2, ..., [num_class - 1].\n",
      "  warnings.warn(label_encoder_deprecation_msg, UserWarning)\n",
      "/Library/Frameworks/Python.framework/Versions/3.9/lib/python3.9/site-packages/xgboost/sklearn.py:1146: UserWarning: The use of label encoder in XGBClassifier is deprecated and will be removed in a future release. To remove this warning, do the following: 1) Pass option use_label_encoder=False when constructing XGBClassifier object; and 2) Encode your labels (y) as integers starting with 0, i.e. 0, 1, 2, ..., [num_class - 1].\n",
      "  warnings.warn(label_encoder_deprecation_msg, UserWarning)\n",
      "/Library/Frameworks/Python.framework/Versions/3.9/lib/python3.9/site-packages/xgboost/sklearn.py:1146: UserWarning: The use of label encoder in XGBClassifier is deprecated and will be removed in a future release. To remove this warning, do the following: 1) Pass option use_label_encoder=False when constructing XGBClassifier object; and 2) Encode your labels (y) as integers starting with 0, i.e. 0, 1, 2, ..., [num_class - 1].\n",
      "  warnings.warn(label_encoder_deprecation_msg, UserWarning)\n",
      "/Library/Frameworks/Python.framework/Versions/3.9/lib/python3.9/site-packages/xgboost/sklearn.py:1146: UserWarning: The use of label encoder in XGBClassifier is deprecated and will be removed in a future release. To remove this warning, do the following: 1) Pass option use_label_encoder=False when constructing XGBClassifier object; and 2) Encode your labels (y) as integers starting with 0, i.e. 0, 1, 2, ..., [num_class - 1].\n",
      "  warnings.warn(label_encoder_deprecation_msg, UserWarning)\n",
      "/Library/Frameworks/Python.framework/Versions/3.9/lib/python3.9/site-packages/xgboost/sklearn.py:1146: UserWarning: The use of label encoder in XGBClassifier is deprecated and will be removed in a future release. To remove this warning, do the following: 1) Pass option use_label_encoder=False when constructing XGBClassifier object; and 2) Encode your labels (y) as integers starting with 0, i.e. 0, 1, 2, ..., [num_class - 1].\n",
      "  warnings.warn(label_encoder_deprecation_msg, UserWarning)\n",
      "/Library/Frameworks/Python.framework/Versions/3.9/lib/python3.9/site-packages/xgboost/sklearn.py:1146: UserWarning: The use of label encoder in XGBClassifier is deprecated and will be removed in a future release. To remove this warning, do the following: 1) Pass option use_label_encoder=False when constructing XGBClassifier object; and 2) Encode your labels (y) as integers starting with 0, i.e. 0, 1, 2, ..., [num_class - 1].\n",
      "  warnings.warn(label_encoder_deprecation_msg, UserWarning)\n",
      "/Library/Frameworks/Python.framework/Versions/3.9/lib/python3.9/site-packages/xgboost/sklearn.py:1146: UserWarning: The use of label encoder in XGBClassifier is deprecated and will be removed in a future release. To remove this warning, do the following: 1) Pass option use_label_encoder=False when constructing XGBClassifier object; and 2) Encode your labels (y) as integers starting with 0, i.e. 0, 1, 2, ..., [num_class - 1].\n",
      "  warnings.warn(label_encoder_deprecation_msg, UserWarning)\n",
      "/Library/Frameworks/Python.framework/Versions/3.9/lib/python3.9/site-packages/xgboost/sklearn.py:1146: UserWarning: The use of label encoder in XGBClassifier is deprecated and will be removed in a future release. To remove this warning, do the following: 1) Pass option use_label_encoder=False when constructing XGBClassifier object; and 2) Encode your labels (y) as integers starting with 0, i.e. 0, 1, 2, ..., [num_class - 1].\n",
      "  warnings.warn(label_encoder_deprecation_msg, UserWarning)\n",
      "/Library/Frameworks/Python.framework/Versions/3.9/lib/python3.9/site-packages/xgboost/sklearn.py:1146: UserWarning: The use of label encoder in XGBClassifier is deprecated and will be removed in a future release. To remove this warning, do the following: 1) Pass option use_label_encoder=False when constructing XGBClassifier object; and 2) Encode your labels (y) as integers starting with 0, i.e. 0, 1, 2, ..., [num_class - 1].\n",
      "  warnings.warn(label_encoder_deprecation_msg, UserWarning)\n"
     ]
    }
   ],
   "source": [
    "best_model = create_model(model_matrix)\n",
    "final_model = finalize_model(best_model)"
   ]
  },
  {
   "cell_type": "markdown",
   "id": "d4c96db1-cac7-4489-ae89-edcb2a013406",
   "metadata": {},
   "source": [
    "### Let's load in our 2021 season data and get retention scores using the model:"
   ]
  },
  {
   "cell_type": "code",
   "execution_count": 17,
   "id": "a10cd7c4-9c97-4d68-b8b9-b28a4bbcfc0b",
   "metadata": {},
   "outputs": [
    {
     "data": {
      "text/plain": [
       "(2397, 23)"
      ]
     },
     "execution_count": 17,
     "metadata": {},
     "output_type": "execute_result"
    }
   ],
   "source": [
    "df_inference = df.loc[df[\"year\"] >= 2021]\n",
    "df_inference = df_inference.fillna(0)\n",
    "df_inference.shape"
   ]
  },
  {
   "cell_type": "code",
   "execution_count": 18,
   "id": "172cf51f-2141-42bb-915d-9760e58cd12c",
   "metadata": {},
   "outputs": [
    {
     "data": {
      "text/html": [
       "<div>\n",
       "<style scoped>\n",
       "    .dataframe tbody tr th:only-of-type {\n",
       "        vertical-align: middle;\n",
       "    }\n",
       "\n",
       "    .dataframe tbody tr th {\n",
       "        vertical-align: top;\n",
       "    }\n",
       "\n",
       "    .dataframe thead th {\n",
       "        text-align: right;\n",
       "    }\n",
       "</style>\n",
       "<table border=\"1\" class=\"dataframe\">\n",
       "  <thead>\n",
       "    <tr style=\"text-align: right;\">\n",
       "      <th></th>\n",
       "      <th>lkupclientid</th>\n",
       "      <th>dimcustomermasterid</th>\n",
       "      <th>year</th>\n",
       "      <th>productgrouping</th>\n",
       "      <th>totalspent</th>\n",
       "      <th>recentdate</th>\n",
       "      <th>attendancepercent</th>\n",
       "      <th>renewedbeforedays</th>\n",
       "      <th>source_tenure</th>\n",
       "      <th>tenure</th>\n",
       "      <th>...</th>\n",
       "      <th>opentosendratio</th>\n",
       "      <th>clicktosendratio</th>\n",
       "      <th>clicktoopenratio</th>\n",
       "      <th>gender</th>\n",
       "      <th>phonecall</th>\n",
       "      <th>inperson_contact</th>\n",
       "      <th>isnextyear_buyer</th>\n",
       "      <th>Label</th>\n",
       "      <th>Score_0</th>\n",
       "      <th>Score_1</th>\n",
       "    </tr>\n",
       "  </thead>\n",
       "  <tbody>\n",
       "    <tr>\n",
       "      <th>1352</th>\n",
       "      <td>14</td>\n",
       "      <td>296599241</td>\n",
       "      <td>2021</td>\n",
       "      <td>Full Series</td>\n",
       "      <td>2200.00</td>\n",
       "      <td>2021-08-16</td>\n",
       "      <td>0.47</td>\n",
       "      <td>200</td>\n",
       "      <td>2190</td>\n",
       "      <td>1864</td>\n",
       "      <td>...</td>\n",
       "      <td>0.00</td>\n",
       "      <td>0.00</td>\n",
       "      <td>0.00</td>\n",
       "      <td>Unknown</td>\n",
       "      <td>0</td>\n",
       "      <td>0</td>\n",
       "      <td>0</td>\n",
       "      <td>0</td>\n",
       "      <td>0.9374</td>\n",
       "      <td>0.0626</td>\n",
       "    </tr>\n",
       "    <tr>\n",
       "      <th>1419</th>\n",
       "      <td>14</td>\n",
       "      <td>296599091</td>\n",
       "      <td>2021</td>\n",
       "      <td>Full Series</td>\n",
       "      <td>2500.00</td>\n",
       "      <td>1970-01-01</td>\n",
       "      <td>0.53</td>\n",
       "      <td>206</td>\n",
       "      <td>2920</td>\n",
       "      <td>2099</td>\n",
       "      <td>...</td>\n",
       "      <td>0.00</td>\n",
       "      <td>0.00</td>\n",
       "      <td>0.00</td>\n",
       "      <td>Unknown</td>\n",
       "      <td>0</td>\n",
       "      <td>0</td>\n",
       "      <td>0</td>\n",
       "      <td>0</td>\n",
       "      <td>0.9590</td>\n",
       "      <td>0.0410</td>\n",
       "    </tr>\n",
       "    <tr>\n",
       "      <th>1420</th>\n",
       "      <td>14</td>\n",
       "      <td>296598465</td>\n",
       "      <td>2021</td>\n",
       "      <td>Full Series</td>\n",
       "      <td>10500.00</td>\n",
       "      <td>1970-01-01</td>\n",
       "      <td>0.88</td>\n",
       "      <td>200</td>\n",
       "      <td>8760</td>\n",
       "      <td>2083</td>\n",
       "      <td>...</td>\n",
       "      <td>0.00</td>\n",
       "      <td>0.00</td>\n",
       "      <td>0.00</td>\n",
       "      <td>Unknown</td>\n",
       "      <td>0</td>\n",
       "      <td>0</td>\n",
       "      <td>0</td>\n",
       "      <td>0</td>\n",
       "      <td>0.9740</td>\n",
       "      <td>0.0260</td>\n",
       "    </tr>\n",
       "    <tr>\n",
       "      <th>1421</th>\n",
       "      <td>14</td>\n",
       "      <td>296599314</td>\n",
       "      <td>2021</td>\n",
       "      <td>Full Series</td>\n",
       "      <td>7800.00</td>\n",
       "      <td>2021-08-20</td>\n",
       "      <td>0.70</td>\n",
       "      <td>205</td>\n",
       "      <td>8395</td>\n",
       "      <td>2084</td>\n",
       "      <td>...</td>\n",
       "      <td>0.00</td>\n",
       "      <td>0.00</td>\n",
       "      <td>0.00</td>\n",
       "      <td>Unknown</td>\n",
       "      <td>0</td>\n",
       "      <td>0</td>\n",
       "      <td>0</td>\n",
       "      <td>0</td>\n",
       "      <td>0.7890</td>\n",
       "      <td>0.2110</td>\n",
       "    </tr>\n",
       "    <tr>\n",
       "      <th>1422</th>\n",
       "      <td>14</td>\n",
       "      <td>296599066</td>\n",
       "      <td>2021</td>\n",
       "      <td>Full Series</td>\n",
       "      <td>5500.16</td>\n",
       "      <td>1970-01-01</td>\n",
       "      <td>0.93</td>\n",
       "      <td>207</td>\n",
       "      <td>1095</td>\n",
       "      <td>913</td>\n",
       "      <td>...</td>\n",
       "      <td>0.00</td>\n",
       "      <td>0.00</td>\n",
       "      <td>0.00</td>\n",
       "      <td>Unknown</td>\n",
       "      <td>0</td>\n",
       "      <td>0</td>\n",
       "      <td>0</td>\n",
       "      <td>0</td>\n",
       "      <td>0.9942</td>\n",
       "      <td>0.0058</td>\n",
       "    </tr>\n",
       "  </tbody>\n",
       "</table>\n",
       "<p>5 rows × 26 columns</p>\n",
       "</div>"
      ],
      "text/plain": [
       "      lkupclientid  dimcustomermasterid  year productgrouping  totalspent  \\\n",
       "1352            14            296599241  2021     Full Series     2200.00   \n",
       "1419            14            296599091  2021     Full Series     2500.00   \n",
       "1420            14            296598465  2021     Full Series    10500.00   \n",
       "1421            14            296599314  2021     Full Series     7800.00   \n",
       "1422            14            296599066  2021     Full Series     5500.16   \n",
       "\n",
       "     recentdate  attendancepercent  renewedbeforedays source_tenure  tenure  \\\n",
       "1352 2021-08-16               0.47                200          2190    1864   \n",
       "1419 1970-01-01               0.53                206          2920    2099   \n",
       "1420 1970-01-01               0.88                200          8760    2083   \n",
       "1421 2021-08-20               0.70                205          8395    2084   \n",
       "1422 1970-01-01               0.93                207          1095     913   \n",
       "\n",
       "      ...  opentosendratio  clicktosendratio clicktoopenratio   gender  \\\n",
       "1352  ...             0.00              0.00             0.00  Unknown   \n",
       "1419  ...             0.00              0.00             0.00  Unknown   \n",
       "1420  ...             0.00              0.00             0.00  Unknown   \n",
       "1421  ...             0.00              0.00             0.00  Unknown   \n",
       "1422  ...             0.00              0.00             0.00  Unknown   \n",
       "\n",
       "     phonecall  inperson_contact isnextyear_buyer Label Score_0 Score_1  \n",
       "1352         0                 0                0     0  0.9374  0.0626  \n",
       "1419         0                 0                0     0  0.9590  0.0410  \n",
       "1420         0                 0                0     0  0.9740  0.0260  \n",
       "1421         0                 0                0     0  0.7890  0.2110  \n",
       "1422         0                 0                0     0  0.9942  0.0058  \n",
       "\n",
       "[5 rows x 26 columns]"
      ]
     },
     "execution_count": 18,
     "metadata": {},
     "output_type": "execute_result"
    }
   ],
   "source": [
    "new_predictions = predict_model(final_model, data=df_inference, raw_score=True)\n",
    "new_predictions.head()"
   ]
  },
  {
   "cell_type": "code",
   "execution_count": 19,
   "id": "b805c0ff-3d1c-469c-82a2-82b741d254fd",
   "metadata": {},
   "outputs": [
    {
     "data": {
      "text/plain": [
       "0    2324\n",
       "1      73\n",
       "Name: Label, dtype: int64"
      ]
     },
     "execution_count": 19,
     "metadata": {},
     "output_type": "execute_result"
    }
   ],
   "source": [
    "new_predictions[\"Label\"].value_counts()"
   ]
  },
  {
   "cell_type": "code",
   "execution_count": 20,
   "id": "24c265b3-cae9-46ba-840f-8bf95b3c342b",
   "metadata": {},
   "outputs": [
    {
     "data": {
      "text/plain": [
       "(-0.001, 0.2]    1989\n",
       "(0.2, 0.4]        278\n",
       "(0.4, 0.6]         95\n",
       "(0.6, 0.8]         31\n",
       "(0.8, 1.0]          4\n",
       "Name: Score_1, dtype: int64"
      ]
     },
     "execution_count": 20,
     "metadata": {},
     "output_type": "execute_result"
    }
   ],
   "source": [
    "new_predictions[\"Score_1\"].value_counts(bins=[0, 0.2, 0.4, 0.6, 0.8, 1.0])"
   ]
  },
  {
   "cell_type": "code",
   "execution_count": 21,
   "id": "b4d536ca-537d-4bd4-9752-3a78f99aa291",
   "metadata": {},
   "outputs": [
    {
     "data": {
      "text/plain": [
       "array([[<AxesSubplot:title={'center':'Score_1'}>]], dtype=object)"
      ]
     },
     "execution_count": 21,
     "metadata": {},
     "output_type": "execute_result"
    },
    {
     "data": {
      "image/png": "[encoded data removed]",
      "text/plain": [
       "<Figure size 720x360 with 1 Axes>"
      ]
     },
     "metadata": {},
     "output_type": "display_data"
    }
   ],
   "source": [
    "new_predictions[new_predictions[\"Label\"]==1][[\"Score_1\"]].hist(bins=30, figsize=(10,5), range=[0,1])"
   ]
  },
  {
   "cell_type": "code",
   "execution_count": 22,
   "id": "abb1914e-1c90-4a63-822f-76874f77f871",
   "metadata": {},
   "outputs": [
    {
     "data": {
      "text/plain": [
       "array([[<AxesSubplot:title={'center':'Score_0'}>]], dtype=object)"
      ]
     },
     "execution_count": 22,
     "metadata": {},
     "output_type": "execute_result"
    },
    {
     "data": {
      "image/png": "[encoded data removed]",
      "text/plain": [
       "<Figure size 720x360 with 1 Axes>"
      ]
     },
     "metadata": {},
     "output_type": "display_data"
    }
   ],
   "source": [
    "new_predictions[new_predictions[\"Label\"]==1][[\"Score_0\"]].hist(bins=30, figsize=(10,5), range=[0,1])"
   ]
  },
  {
   "cell_type": "code",
   "execution_count": 23,
   "id": "ce568037-74a9-446e-8b3b-ac1c734dae77",
   "metadata": {},
   "outputs": [
    {
     "data": {
      "image/png": "[encoded data removed]",
      "text/plain": [
       "<Figure size 800x500 with 1 Axes>"
      ]
     },
     "metadata": {},
     "output_type": "display_data"
    }
   ],
   "source": [
    "plot_model(best_model, plot='feature')"
   ]
  },
  {
   "cell_type": "code",
   "execution_count": 24,
   "id": "5ca36ba0-77b4-43c8-be52-83fc91ac03e7",
   "metadata": {},
   "outputs": [
    {
     "data": {
      "image/png": "[encoded data removed]",
      "text/plain": [
       "<Figure size 576x396 with 1 Axes>"
      ]
     },
     "metadata": {},
     "output_type": "display_data"
    }
   ],
   "source": [
    "plot_model(best_model, plot='confusion_matrix')"
   ]
  },
  {
   "cell_type": "code",
   "execution_count": null,
   "id": "1759436c-fc75-43d5-9900-5ca66ad5acae",
   "metadata": {},
   "outputs": [],
   "source": []
  }
 ],
 "metadata": {
  "interpreter": {
   "hash": "89f48dadab51a6b5b48ffc1a9e043c21cefe67453637c3444f3b86917b8aad16"
  },
  "kernelspec": {
   "display_name": "Python 3 (ipykernel)",
   "language": "python",
   "name": "python3"
  },
  "language_info": {
   "codemirror_mode": {
    "name": "ipython",
    "version": 3
   },
   "file_extension": ".py",
   "mimetype": "text/x-python",
   "name": "python",
   "nbconvert_exporter": "python",
   "pygments_lexer": "ipython3",
   "version": "3.9.4"
  }
 },
 "nbformat": 4,
 "nbformat_minor": 5
}
