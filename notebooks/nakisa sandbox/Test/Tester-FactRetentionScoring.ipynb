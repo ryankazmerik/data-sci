{
 "cells": [
  {
   "cell_type": "markdown",
   "id": "2327d72f-cc16-4361-8fbb-54e419b09ce9",
   "metadata": {},
   "source": [
    "# Retention Score Test\n",
    "* StelllarAlgo Data Science\n",
    "* Ryan Kazmerik & Nakisa Rad\n",
    "* Mar 15, 2022"
   ]
  },
  {
   "cell_type": "code",
   "execution_count": 1,
   "id": "51ecf989-c97c-4aca-a8e7-1cd992086aa5",
   "metadata": {},
   "outputs": [],
   "source": [
    "import getpass\n",
    "import pyodbc\n",
    "\n",
    "from datetime import datetime\n",
    "from termcolor import colored, cprint"
   ]
  },
  {
   "cell_type": "markdown",
   "id": "9f83516b-ae09-4451-9736-2d94418e2ad8",
   "metadata": {},
   "source": [
    "### Connect to SQL Server:"
   ]
  },
  {
   "cell_type": "code",
   "execution_count": 2,
   "id": "8ad8e7bb-9583-4698-b288-f240787a19fa",
   "metadata": {},
   "outputs": [],
   "source": [
    "def get_sql_connection(dbName):\n",
    "    \n",
    "    SERVER = '34.206.73.189' \n",
    "    DATABASE = dbName\n",
    "    USERNAME = 'dsAdminWrite' \n",
    "    PASSWORD = getpass.getpass(prompt='Enter your password')\n",
    "    CNXN = pyodbc.connect('DRIVER={ODBC Driver 17 for SQL Server};SERVER='+SERVER+';DATABASE='+DATABASE+';UID='+USERNAME+';PWD='+ PASSWORD)\n",
    "    \n",
    "    return CNXN"
   ]
  },
  {
   "cell_type": "markdown",
   "id": "2c918549-bad7-4d2e-af75-df71a057b111",
   "metadata": {},
   "source": [
    "### Create a dictionary of all teams that have retention scoring:"
   ]
  },
  {
   "cell_type": "code",
   "execution_count": 3,
   "id": "bb929498-58be-4d69-afa1-3786c0b489b8",
   "metadata": {},
   "outputs": [
    {
     "name": "stdout",
     "output_type": "stream",
     "text": [
      "Total teams: 38 \n",
      "Example team {'clientcode': '66ers', 'lkupclientid': 19, 'stlrDBName': 'stlrMILB', 'leagueName': 'MILB'} \n"
     ]
    }
   ],
   "source": [
    "CNXN = get_sql_connection(\"datascience\")\n",
    "cursor = CNXN.cursor()\n",
    "\n",
    "sql =  f\"\"\"\n",
    "    SELECT DISTINCT\n",
    "        clientcode,\n",
    "        lkupclientid,\n",
    "        stlrDBName,\n",
    "        leagueName\n",
    "    FROM \n",
    "        ds.productyear_all\n",
    "    \"\"\"\n",
    "\n",
    "cursor = CNXN.cursor().execute(sql)\n",
    "columns = [column[0] for column in cursor.description]\n",
    "\n",
    "teams = []\n",
    "for row in cursor.fetchall():\n",
    "    teams.append(dict(zip(columns, row)))\n",
    "\n",
    "print(f\"Total teams: {len(teams)} \")\n",
    "print(f\"Example team {teams[0]} \")"
   ]
  },
  {
   "cell_type": "markdown",
   "id": "2a535899-9541-4096-8c72-c3be102bb158",
   "metadata": {},
   "source": [
    "### Add two more fields to each teams dictionary (insertdate & count):"
   ]
  },
  {
   "cell_type": "code",
   "execution_count": 4,
   "id": "2699571c-f06f-47cd-992a-0a3bba8f136a",
   "metadata": {},
   "outputs": [
    {
     "name": "stdout",
     "output_type": "stream",
     "text": [
      "Example team {'clientcode': '66ers', 'lkupclientid': 19, 'stlrDBName': 'stlrMILB', 'leagueName': 'MILB', 'insertdate': '03-16-2022 10:38:57', 'count': 255} \n"
     ]
    }
   ],
   "source": [
    "cursor = CNXN.cursor()\n",
    "\n",
    "for team in teams:\n",
    "\n",
    "    sql = f\"\"\"\n",
    "            SELECT TOP (1) insertdate, count(*) as count\n",
    "            FROM [DataScience].[DS].[customerScores]\n",
    "            WHERE [lkupclientid] = {team['lkupclientid']}\n",
    "            GROUP BY insertDate\n",
    "            ORDER BY convert(datetime, insertdate) DESC\n",
    "        \"\"\"\n",
    "    \n",
    "    cursor = CNXN.cursor().execute(sql)\n",
    "\n",
    "    results = []\n",
    "    for row in cursor.fetchall():\n",
    "        team['insertdate'] = row[0]\n",
    "        team['count'] = row[1]\n",
    "\n",
    "print(f\"Example team {teams[0]} \")"
   ]
  },
  {
   "cell_type": "markdown",
   "id": "c50bf194-37e5-4890-b548-848540a16395",
   "metadata": {},
   "source": [
    "### Add another field to each team (dimdateid) from each teams STLR table:"
   ]
  },
  {
   "cell_type": "code",
   "execution_count": 5,
   "id": "5275fdbc-0019-4dd3-9cb9-3159457b1e17",
   "metadata": {},
   "outputs": [
    {
     "name": "stdout",
     "output_type": "stream",
     "text": [
      "Example team {'clientcode': '66ers', 'lkupclientid': 19, 'stlrDBName': 'stlrMILB', 'leagueName': 'MILB', 'insertdate': '03-16-2022 10:38:57', 'count': 255, 'dimdateid': 20220107} \n"
     ]
    }
   ],
   "source": [
    "for team in teams:\n",
    "    \n",
    "    if team['lkupclientid'] != 45: #exclude rays b/c they are in a diff db instance\n",
    "    \n",
    "        CNXN = get_sql_connection(team['stlrDBName'])\n",
    "        cursor = CNXN.cursor()\n",
    "\n",
    "        sql = f\"\"\"\n",
    "                SELECT TOP (1) dimdateid\n",
    "                FROM {team['stlrDBName']}.DW.factCustomerRetentionScore \n",
    "                WHERE [lkupclientid] = {team['lkupclientid']}\n",
    "                GROUP BY dimdateid\n",
    "                ORDER BY dimdateid DESC\n",
    "            \"\"\"\n",
    "\n",
    "        cursor = CNXN.cursor().execute(sql)\n",
    "\n",
    "        results = []\n",
    "        for row in cursor.fetchall():\n",
    "            team['dimdateid'] = row[0]\n",
    "        \n",
    "print(f\"Example team {teams[0]} \")"
   ]
  },
  {
   "cell_type": "code",
   "execution_count": 6,
   "id": "7a8eb043-7eb0-4090-9cfc-d3b8f79495de",
   "metadata": {},
   "outputs": [
    {
     "name": "stdout",
     "output_type": "stream",
     "text": [
      "SCORE REPORT FOR STLR faceCustomerRetentionScore TABLE:\n",
      "\u001b[31m ! 255 Scores NOT Updated: 66ers (19)\u001b[0m\n",
      "\u001b[31m ! 1635 Scores NOT Updated: admirals (16)\u001b[0m\n",
      "\u001b[31m ! 3265 Scores NOT Updated: bulls (11)\u001b[0m\n",
      "\u001b[31m ! 2296 Scores NOT Updated: drive (48)\u001b[0m\n",
      "\u001b[31m ! 931 Scores NOT Updated: elpaso (30)\u001b[0m\n",
      "\u001b[31m ! 325 Scores NOT Updated: fireflies (28)\u001b[0m\n",
      "\u001b[31m ! 105 Scores NOT Updated: grizzlies (27)\u001b[0m\n",
      "\u001b[31m ! 429 Scores NOT Updated: hartfordyardgoats (44)\u001b[0m\n",
      "\u001b[31m ! 931 Scores NOT Updated: hops (9)\u001b[0m\n",
      "\u001b[31m ! 249 Scores NOT Updated: kanecounty (51)\u001b[0m\n",
      "\u001b[31m ! 16 Scores NOT Updated: legends (26)\u001b[0m\n",
      "\u001b[31m ! 603 Scores NOT Updated: loons (20)\u001b[0m\n",
      "\u001b[31m ! 1525 Scores NOT Updated: okcdodgers (47)\u001b[0m\n",
      "\u001b[31m ! 842 Scores NOT Updated: rainiers (17)\u001b[0m\n",
      "\u001b[31m ! 415 Scores NOT Updated: rattlers (24)\u001b[0m\n",
      "\u001b[31m ! 1648 Scores NOT Updated: renoaces (40)\u001b[0m\n",
      "\u001b[31m ! 1068 Scores NOT Updated: rivercats (12)\u001b[0m\n",
      "\u001b[31m ! 712 Scores NOT Updated: roadrunners (56)\u001b[0m\n",
      "\u001b[31m ! 902 Scores NOT Updated: rrexpress (34)\u001b[0m\n",
      "\u001b[31m ! 36 Scores NOT Updated: sounders2 (18)\u001b[0m\n",
      "\u001b[31m ! 383 Scores NOT Updated: stormchasers (43)\u001b[0m\n",
      "\u001b[31m ! 608 Scores NOT Updated: stripers (49)\u001b[0m\n",
      "\u001b[31m ! 1040 Scores NOT Updated: toledomudhens (59)\u001b[0m\n"
     ]
    }
   ],
   "source": [
    "today = int(datetime.now().strftime(\"%Y%m%d\"))\n",
    "\n",
    "print(\"SCORE REPORT FOR STLR faceCustomerRetentionScore TABLE:\")\n",
    "for team in teams:\n",
    "    \n",
    "    if team['lkupclientid'] != 45: #exclude rays b/c they are in a diff db instance\n",
    "\n",
    "        if team['dimdateid'] < today:\n",
    "            print(colored(f\" ! {team['count']} Scores NOT Updated: {team['clientcode']} ({team['lkupclientid']})\", 'red'))"
   ]
  },
  {
   "cell_type": "code",
   "execution_count": null,
   "id": "1a9f066e-7599-4696-a60a-23d08c187fc2",
   "metadata": {},
   "outputs": [],
   "source": []
  }
 ],
 "metadata": {
  "kernelspec": {
   "display_name": "Python 3 (ipykernel)",
   "language": "python",
   "name": "python3"
  },
  "language_info": {
   "codemirror_mode": {
    "name": "ipython",
    "version": 3
   },
   "file_extension": ".py",
   "mimetype": "text/x-python",
   "name": "python",
   "nbconvert_exporter": "python",
   "pygments_lexer": "ipython3",
   "version": "3.9.4"
  }
 },
 "nbformat": 4,
 "nbformat_minor": 5
}
