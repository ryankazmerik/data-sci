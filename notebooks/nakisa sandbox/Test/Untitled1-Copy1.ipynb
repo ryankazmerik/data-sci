{
 "cells": [
  {
   "cell_type": "code",
   "execution_count": 8,
   "id": "48cffd2e-a8ec-4579-a015-25e046a70a54",
   "metadata": {},
   "outputs": [],
   "source": [
    "import getpass\n",
    "import pyodbc\n",
    "import pandas as pd\n",
    "import warnings\n",
    "import matplotlib.pyplot as plt\n",
    "\n",
    "import datetime\n",
    "\n",
    "\n",
    "from pytz import timezone\n",
    "from pycaret.classification import *\n",
    "\n",
    "warnings.filterwarnings('ignore')"
   ]
  },
  {
   "cell_type": "code",
   "execution_count": 9,
   "id": "a7f00290-882d-4d0c-a631-5aaf93bf7a4a",
   "metadata": {},
   "outputs": [],
   "source": [
    "def get_db_connection(dbEnvironment):\n",
    "    if dbEnvironment =='QA':\n",
    "        try:\n",
    "            # connect to SQL Server.\n",
    "            SERVER = '52.44.171.130' \n",
    "            DATABASE = 'datascience' \n",
    "            USERNAME = 'nrad' \n",
    "            PASSWORD = 'ThisIsQA123' #getpass.getpass(prompt='Enter your password')\n",
    "            CNXN = pyodbc.connect('DRIVER={ODBC Driver 17 for SQL Server};SERVER='+SERVER+';DATABASE='+DATABASE+';UID='+USERNAME+';PWD='+ PASSWORD)\n",
    "            print(\"The Connection to \"+dbEnvironment +\" was succesfull\")\n",
    "        except Exception as err:\n",
    "            print(\"The Connection to \"+dbEnvironment +\" wasn't succesfull\", err)\n",
    "    elif dbEnvironment =='PRD':\n",
    "        try:\n",
    "            # connect to SQL Server.\n",
    "            SERVER = '34.206.73.189' \n",
    "            DATABASE = 'datascience' \n",
    "            USERNAME = 'nrad' \n",
    "            PASSWORD = '83F25619-D272-4660-98A2-93AF5CC18D59' #getpass.getpass(prompt='Enter your password')\n",
    "            CNXN = pyodbc.connect('DRIVER={ODBC Driver 17 for SQL Server};SERVER='+SERVER+';DATABASE='+DATABASE+';UID='+USERNAME+';PWD='+ PASSWORD)\n",
    "            print(\"The Connection to \"+dbEnvironment +\" was succesfull\")\n",
    "        except Exception as err:\n",
    "            print(\"The Connection to \"+dbEnvironment +\" wasn't succesfull\", err)\n",
    "    return CNXN\n",
    "            "
   ]
  },
  {
   "cell_type": "code",
   "execution_count": 10,
   "id": "2e11f0c7-4ad4-4ba6-ba4a-eb915ecf8fdc",
   "metadata": {},
   "outputs": [],
   "source": [
    "def get_datetime():\n",
    "    today = datetime.datetime.now()\n",
    "    todaydate = today.strftime(\"%Y-%m-%d\")\n",
    "    todaydate_id = today.strftime(\"%Y%m%d\")\n",
    "    return todaydate\n",
    "    "
   ]
  },
  {
   "cell_type": "code",
   "execution_count": 14,
   "id": "aa508818-a187-420c-a387-13a3b637eb0e",
   "metadata": {},
   "outputs": [],
   "source": [
    "def get_ds_scores(connection,datetimeparam):\n",
    "    try:\n",
    "        \n",
    "        #today = datetime.datetime.now()\n",
    "        #today_date = today.strftime(\"%Y-%m-%d\")\n",
    "        cursor = connection.cursor()\n",
    "        clientid =  f'''select distinct lkupclientid, stlrDBName from ds.productyear_all;'''\n",
    "        clientid_df = pd.read_sql(clientid, connection)\n",
    "        lkupclientid = clientid_df['lkupclientid']\n",
    "        stlrdbname = clientid_df['stlrDBName']\n",
    "        for idx, m in enumerate(lkupclientid):\n",
    "            lkupclientid_value=lkupclientid[idx]\n",
    "            stlrdb_value= stlrdbname[idx]\n",
    "            numRecords =  f'''select count(*) as numRecords  from ds.customerScores where lkupclientid ={lkupclientid_value} and cast(insertDate as date) = {\"'\"+ str(datetimeparam) + \"'\"} group by lkupclientid;'''\n",
    "            cntTodayScores = pd.read_sql(numRecords, connection)\n",
    "            cntrecords= cntTodayScores['numRecords']\n",
    "            for idx, m in enumerate(cntrecords):\n",
    "                value=cntrecords[idx]\n",
    "                if value == 0:\n",
    "                    print(\"ds.customerScores is not updated for \" +str(lkupclientid_value))\n",
    "                elif value !=0:\n",
    "                    print(\"ds.customerScores table is updated and \" + str(value) + \" records been inserted on \" + str(datetimeparam) + \" for \"+ str(lkupclientid_value))\n",
    "        connection.commit()\n",
    "        cursor.close()\n",
    "    except Exception as err:\n",
    "            print(\"The Connection wasn't succesfull\", err)\n",
    "\n"
   ]
  },
  {
   "cell_type": "code",
   "execution_count": 5,
   "id": "6a38cbf1-dbbe-4484-aedf-82f6e04ffd16",
   "metadata": {},
   "outputs": [],
   "source": [
    "def get_stlr_scores(factconnection):\n",
    "    try:\n",
    "        \n",
    "        today = datetime.datetime.now()\n",
    "        today_date_id = today.strftime(\"%Y%m%d\")\n",
    "        cursor = factconnection.cursor()\n",
    "        clientid =  f'''select distinct lkupclientid, stlrDBName from ds.productyear_all;'''\n",
    "        clientid_df = pd.read_sql(clientid, factconnection)\n",
    "        lkupclientid = clientid_df['lkupclientid']\n",
    "        stlrdbname = clientid_df['stlrDBName']\n",
    "        for idx, m in enumerate(lkupclientid):\n",
    "            lkupclientid_value=lkupclientid[idx]\n",
    "            stlrdb_value= stlrdbname[idx] \n",
    "    \n",
    "            try:\n",
    "                SERVER = '34.206.73.189'\n",
    "                DATABASE = stlrdb_value \n",
    "                USERNAME = 'nrad' \n",
    "                PASSWORD = '83F25619-D272-4660-98A2-93AF5CC18D59' #getpass.getpass(prompt='Enter your password')\n",
    "                CNXN = pyodbc.connect('DRIVER={ODBC Driver 17 for SQL Server};SERVER='+SERVER+';DATABASE='+DATABASE+';UID='+USERNAME+';PWD='+ PASSWORD)\n",
    "                print(\"The Connection to was succesfull to \"+  stlrdb_value)\n",
    "                fact_numRecords =  f'''select count(*) as factnumRecords from dw.factCustomerretentionScore where lkupclientid ={lkupclientid_value} and cast(dimDateId as int) = {today_date_id};'''\n",
    "                cntTodayScores = pd.read_sql(fact_numRecords, CNXN)\n",
    "                cntrecords= cntTodayScores['factnumRecords']\n",
    "                for idx, m in enumerate(cntrecords):\n",
    "                    value=cntrecords[idx]\n",
    "                    if value == 0:\n",
    "                        print(\"dw.factCustomerretentionScore is not updated for \" +str(lkupclientid_value))\n",
    "                    elif value !=0:\n",
    "                        print(\"dw.factCustomerretentionScore table is updated and \" + str(value) + \" records been inserted on \" + str(today_date_id) + \" for \"+ str(lkupclientid_value))\n",
    "            except Exception as err:\n",
    "                print(\"The Connection to wasn't succesfull to \" + stlrdb_value, err)\n",
    "        factconnection.commit()\n",
    "        cursor.close()\n",
    "    except Exception as err:\n",
    "            print(\"The Connection wasn't succesfull\", err)"
   ]
  },
  {
   "cell_type": "code",
   "execution_count": 15,
   "id": "02a39cf1-8af9-4804-b014-5495f1c8a8dc",
   "metadata": {},
   "outputs": [
    {
     "name": "stdout",
     "output_type": "stream",
     "text": [
      "The Connection to PRD was succesfull\n"
     ]
    }
   ],
   "source": [
    "def main():\n",
    "    \n",
    "    conn = get_db_connection(\"PRD\")\n",
    "    today_date = get_datetime()\n",
    "    retention_scores = get_ds_scores(conn,today_date)\n",
    "    #fact_retention_scores = get_stlr_scores(conn)\n",
    "if __name__ == \"__main__\":\n",
    "    main()\n",
    "\n"
   ]
  },
  {
   "cell_type": "code",
   "execution_count": null,
   "id": "f805aa78-1407-4e23-9306-3daf905f119b",
   "metadata": {},
   "outputs": [],
   "source": []
  }
 ],
 "metadata": {
  "kernelspec": {
   "display_name": "Python 3 (ipykernel)",
   "language": "python",
   "name": "python3"
  },
  "language_info": {
   "codemirror_mode": {
    "name": "ipython",
    "version": 3
   },
   "file_extension": ".py",
   "mimetype": "text/x-python",
   "name": "python",
   "nbconvert_exporter": "python",
   "pygments_lexer": "ipython3",
   "version": "3.9.4"
  }
 },
 "nbformat": 4,
 "nbformat_minor": 5
}
