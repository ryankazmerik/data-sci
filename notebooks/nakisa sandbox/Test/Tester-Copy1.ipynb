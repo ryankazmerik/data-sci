{
 "cells": [
  {
   "cell_type": "markdown",
   "id": "2327d72f-cc16-4361-8fbb-54e419b09ce9",
   "metadata": {},
   "source": [
    "# Retention Score Test\n",
    "* StelllarAlgo Data Science\n",
    "* Ryan Kazmerik & Nakisa Rad\n",
    "* Mar 15, 2022"
   ]
  },
  {
   "cell_type": "code",
   "execution_count": 3,
   "id": "3024df94-ebf7-4747-899a-8d4ea3d33932",
   "metadata": {},
   "outputs": [],
   "source": [
    "import boto3\n",
    "import getpass\n",
    "\n",
    "from datetime import datetime\n",
    "from termcolor import colored, cprint\n",
    "import pandas as pd\n",
    "import awswrangler as wr\n",
    "import pyodbc"
   ]
  },
  {
   "cell_type": "markdown",
   "id": "3d36b3cd-3c3d-410d-af7a-dadcd3a4b99d",
   "metadata": {},
   "source": [
    "### First we have to tell AWS which profile we'd like to login to, this will send us for a browser authentication trip:"
   ]
  },
  {
   "cell_type": "code",
   "execution_count": 53,
   "id": "5839fde5-ced2-4733-ab1d-ea7d139a0d28",
   "metadata": {},
   "outputs": [
    {
     "name": "stdout",
     "output_type": "stream",
     "text": [
      "Attempting to automatically open the SSO authorization page in your default browser.\n",
      "If the browser does not open or you wish to use a different device to authorize this request, open the following URL:\n",
      "\n",
      "https://device.sso.us-east-1.amazonaws.com/\n",
      "\n",
      "Then enter the code:\n",
      "\n",
      "RSKW-WLRL\n",
      "Successully logged into Start URL: https://stellaralgo.awsapps.com/start\n"
     ]
    }
   ],
   "source": [
    "! aws sso login --profile Stellaralgo-DataScienceAdmin"
   ]
  },
  {
   "cell_type": "markdown",
   "id": "560406bc-a34f-404f-9713-3b394572271d",
   "metadata": {},
   "source": [
    "### Now we can create a connection to our datascience table in RedShift:"
   ]
  },
  {
   "cell_type": "code",
   "execution_count": 54,
   "id": "cc002618-3021-4ee8-81df-e2a81b11750e",
   "metadata": {},
   "outputs": [
    {
     "name": "stdout",
     "output_type": "stream",
     "text": [
      "CREDENTIALS RETRIEVED SUCCESSFULLY: <awswrangler.data_api.redshift.RedshiftDataApi object at 0x7fc8780cea00>\n"
     ]
    }
   ],
   "source": [
    "session = boto3.setup_default_session(profile_name='Stellaralgo-DataScienceAdmin')\n",
    "client = boto3.client('redshift')\n",
    "\n",
    "conn1 = wr.data_api.redshift.connect(\n",
    "    cluster_id=\"qa-app\",\n",
    "    database=\"datascience\",\n",
    "    db_user=\"admin\"\n",
    ")\n",
    "\n",
    "print(f\"CREDENTIALS RETRIEVED SUCCESSFULLY: {conn1}\")"
   ]
  },
  {
   "cell_type": "markdown",
   "id": "7ba138d3-8b71-448e-9915-5aa7d1ddbeb7",
   "metadata": {},
   "source": [
    "### Create a dictionary of all teams that have retention scoring:"
   ]
  },
  {
   "cell_type": "code",
   "execution_count": 55,
   "id": "90c6bbb8-234a-4383-9e6e-dabb2b3bf65c",
   "metadata": {},
   "outputs": [
    {
     "name": "stdout",
     "output_type": "stream",
     "text": [
      "Total teams: 38 \n",
      "Example team {'clientcode': 'hops', 'lkupclientid': 9, 'stlrdbname': 'stlrmilb', 'leaguename': 'MILB'} \n"
     ]
    }
   ],
   "source": [
    "sql1 =  f\"\"\"\n",
    "    SELECT DISTINCT\n",
    "        clientcode,\n",
    "        lkupclientid,\n",
    "        stlrdbname,\n",
    "        leagueName\n",
    "    FROM\n",
    "        datascience.ds.teamsconfig\n",
    "    \"\"\"\n",
    "\n",
    "df_teams = wr.data_api.redshift.read_sql_query(\n",
    "    sql = sql1, \n",
    "    con = conn1\n",
    ")\n",
    "\n",
    "columns = df.columns.values\n",
    "\n",
    "teams = []\n",
    "for index, row in df.iterrows():\n",
    "    teams.append(dict(zip(columns, row)))\n",
    "\n",
    "print(f\"Total teams: {len(teams)} \")\n",
    "print(f\"Example team {teams[0]} \")"
   ]
  },
  {
   "cell_type": "markdown",
   "id": "083c3311-7990-4c98-9dfd-eff2324381f5",
   "metadata": {},
   "source": [
    "### Add two more fields to each teams dictionary (insertdate & count):"
   ]
  },
  {
   "cell_type": "code",
   "execution_count": 57,
   "id": "bd3be7de-61ad-4231-a98c-066d918526c8",
   "metadata": {},
   "outputs": [
    {
     "name": "stdout",
     "output_type": "stream",
     "text": [
      "Example team {'clientcode': 'canucks', 'lkupclientid': 7, 'stlrdbname': 'stlrcanucks', 'leaguename': 'NHL', 'insertdate': 0} \n"
     ]
    }
   ],
   "source": [
    "for team in teams:\n",
    "        \n",
    "    conn2 = wr.data_api.redshift.connect(\n",
    "        cluster_id=\"qa-app\",\n",
    "        database= team['stlrdbname'],\n",
    "        db_user=\"admin\"\n",
    "    )\n",
    "\n",
    "    sql2 = f\"\"\"\n",
    "            SELECT insertdate\n",
    "            FROM {team['stlrdbname']}.dw.customerretentionscores\n",
    "            WHERE lkupclientid = {team['lkupclientid']}\n",
    "            GROUP BY insertDate\n",
    "            ORDER BY convert(datetime, insertdate) DESC\n",
    "            LIMIT 1\n",
    "        \"\"\"\n",
    "\n",
    "    df_customerretention = wr.data_api.redshift.read_sql_query(\n",
    "        sql = sql2, \n",
    "        con = conn2\n",
    "    )\n",
    "    \n",
    "    for row in df_customerretention.iterrows():\n",
    "        team['insertdate'] = row[0]\n",
    "                    \n",
    "print(f\"Example team {teams[25]} \")"
   ]
  },
  {
   "cell_type": "markdown",
   "id": "8bf009e0-2771-4a47-a291-883e5c25a9cc",
   "metadata": {},
   "source": [
    "### Write a test to see if insertdate is greater than todays date:"
   ]
  },
  {
   "cell_type": "code",
   "execution_count": 41,
   "id": "1dc75d16-dc1a-4595-b923-16f234efd3c5",
   "metadata": {},
   "outputs": [
    {
     "name": "stdout",
     "output_type": "stream",
     "text": [
      "SCORE REPORT FOR CUSTOMERRETENTIONSCORES TABLE:\n"
     ]
    },
    {
     "ename": "KeyError",
     "evalue": "'insertdate'",
     "output_type": "error",
     "traceback": [
      "\u001b[0;31m---------------------------------------------------------------------------\u001b[0m",
      "\u001b[0;31mKeyError\u001b[0m                                  Traceback (most recent call last)",
      "Input \u001b[0;32mIn [41]\u001b[0m, in \u001b[0;36m<cell line: 4>\u001b[0;34m()\u001b[0m\n\u001b[1;32m      3\u001b[0m \u001b[38;5;28mprint\u001b[39m(\u001b[38;5;124m\"\u001b[39m\u001b[38;5;124mSCORE REPORT FOR CUSTOMERRETENTIONSCORES TABLE:\u001b[39m\u001b[38;5;124m\"\u001b[39m)\n\u001b[1;32m      4\u001b[0m \u001b[38;5;28;01mfor\u001b[39;00m team \u001b[38;5;129;01min\u001b[39;00m teams:\n\u001b[0;32m----> 6\u001b[0m     \u001b[38;5;28mprint\u001b[39m(\u001b[43mteam\u001b[49m\u001b[43m[\u001b[49m\u001b[38;5;124;43m\"\u001b[39;49m\u001b[38;5;124;43minsertdate\u001b[39;49m\u001b[38;5;124;43m\"\u001b[39;49m\u001b[43m]\u001b[49m)\n\u001b[1;32m      8\u001b[0m     \u001b[38;5;28;01mif\u001b[39;00m team[\u001b[38;5;124m'\u001b[39m\u001b[38;5;124minsertdate\u001b[39m\u001b[38;5;124m'\u001b[39m] \u001b[38;5;241m>\u001b[39m today:\n\u001b[1;32m      9\u001b[0m         \u001b[38;5;28mprint\u001b[39m(colored(\u001b[38;5;124mf\u001b[39m\u001b[38;5;124m\"\u001b[39m\u001b[38;5;124m > \u001b[39m\u001b[38;5;132;01m{\u001b[39;00mteam[\u001b[38;5;124m'\u001b[39m\u001b[38;5;124mcount\u001b[39m\u001b[38;5;124m'\u001b[39m]\u001b[38;5;132;01m}\u001b[39;00m\u001b[38;5;124m Scores Updated: \u001b[39m\u001b[38;5;132;01m{\u001b[39;00mteam[\u001b[38;5;124m'\u001b[39m\u001b[38;5;124mclientcode\u001b[39m\u001b[38;5;124m'\u001b[39m]\u001b[38;5;132;01m}\u001b[39;00m\u001b[38;5;124m (\u001b[39m\u001b[38;5;132;01m{\u001b[39;00mteam[\u001b[38;5;124m'\u001b[39m\u001b[38;5;124mlkupclientid\u001b[39m\u001b[38;5;124m'\u001b[39m]\u001b[38;5;132;01m}\u001b[39;00m\u001b[38;5;124m)\u001b[39m\u001b[38;5;124m\"\u001b[39m, \u001b[38;5;124m'\u001b[39m\u001b[38;5;124mgreen\u001b[39m\u001b[38;5;124m'\u001b[39m))\n",
      "\u001b[0;31mKeyError\u001b[0m: 'insertdate'"
     ]
    }
   ],
   "source": [
    "today = datetime.now().strftime(\"%m-%d-%Y 00:00:00\")\n",
    "\n",
    "print(\"SCORE REPORT FOR CUSTOMERRETENTIONSCORES TABLE:\")\n",
    "for team in teams:\n",
    "    \n",
    "    print(team[\"insertdate\"])\n",
    "    \n",
    "    if team['insertdate'] > today:\n",
    "        print(colored(f\" > {team['count']} Scores Updated: {team['clientcode']} ({team['lkupclientid']})\", 'green'))\n",
    "    else:\n",
    "        print(colored(f\" ! {team['count']} Scores NOT Updated: {team['clientcode']} ({team['lkupclientid']})\", 'red'))"
   ]
  }
 ],
 "metadata": {
  "kernelspec": {
   "display_name": "Python 3 (ipykernel)",
   "language": "python",
   "name": "python3"
  },
  "language_info": {
   "codemirror_mode": {
    "name": "ipython",
    "version": 3
   },
   "file_extension": ".py",
   "mimetype": "text/x-python",
   "name": "python",
   "nbconvert_exporter": "python",
   "pygments_lexer": "ipython3",
   "version": "3.8.5"
  }
 },
 "nbformat": 4,
 "nbformat_minor": 5
}
