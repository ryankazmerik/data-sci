{
 "cells": [
  {
   "cell_type": "markdown",
   "id": "2327d72f-cc16-4361-8fbb-54e419b09ce9",
   "metadata": {},
   "source": [
    "# Retention Score Test\n",
    "* StelllarAlgo Data Science\n",
    "* Ryan Kazmerik & Nakisa Rad\n",
    "* Mar 15, 2022"
   ]
  },
  {
   "cell_type": "code",
   "execution_count": 1,
   "id": "3024df94-ebf7-4747-899a-8d4ea3d33932",
   "metadata": {},
   "outputs": [],
   "source": [
    "import boto3\n",
    "import getpass\n",
    "\n",
    "from datetime import datetime\n",
    "from termcolor import colored, cprint\n",
    "import pandas as pd\n",
    "import awswrangler as wr\n",
    "import pyodbc"
   ]
  },
  {
   "cell_type": "code",
   "execution_count": 2,
   "id": "5839fde5-ced2-4733-ab1d-ea7d139a0d28",
   "metadata": {},
   "outputs": [
    {
     "name": "stdout",
     "output_type": "stream",
     "text": [
      "Attempting to automatically open the SSO authorization page in your default browser.\n",
      "If the browser does not open or you wish to use a different device to authorize this request, open the following URL:\n",
      "\n",
      "https://device.sso.us-east-1.amazonaws.com/\n",
      "\n",
      "Then enter the code:\n",
      "\n",
      "LCTD-WRMQ\n",
      "Successully logged into Start URL: https://stellaralgo.awsapps.com/start#/\n"
     ]
    }
   ],
   "source": [
    "! aws sso login --profile Stellaralgo-DataScienceAdmin"
   ]
  },
  {
   "cell_type": "markdown",
   "id": "3d36b3cd-3c3d-410d-af7a-dadcd3a4b99d",
   "metadata": {},
   "source": [
    "### First we have to tell AWS which profile we'd like to login to, this will send us for a browser authentication trip:"
   ]
  },
  {
   "cell_type": "markdown",
   "id": "560406bc-a34f-404f-9713-3b394572271d",
   "metadata": {},
   "source": [
    "### Connect to SQL Server:"
   ]
  },
  {
   "cell_type": "code",
   "execution_count": 3,
   "id": "cc002618-3021-4ee8-81df-e2a81b11750e",
   "metadata": {},
   "outputs": [
    {
     "name": "stdout",
     "output_type": "stream",
     "text": [
      "CREDENTIALS RETRIEVED SUCCESSFULLY\n"
     ]
    }
   ],
   "source": [
    "try:\n",
    "    session = boto3.setup_default_session(profile_name='Stellaralgo-DataScienceAdmin')\n",
    "    client = boto3.client('redshift')\n",
    "\n",
    "    conn = wr.data_api.redshift.connect(\n",
    "        cluster_id=\"qa-app\",\n",
    "        database=\"datascience\",\n",
    "        db_user=\"admin\"\n",
    "    )\n",
    "    \n",
    "    print('CREDENTIALS RETRIEVED SUCCESSFULLY')\n",
    "    \n",
    "except Exception as err:\n",
    "    print('FAILED TO RETRIEVE CREDENTIALS!', err)\n"
   ]
  },
  {
   "cell_type": "markdown",
   "id": "7ba138d3-8b71-448e-9915-5aa7d1ddbeb7",
   "metadata": {},
   "source": [
    "### Create a dictionary of all teams that have retention scoring:"
   ]
  },
  {
   "cell_type": "code",
   "execution_count": 4,
   "id": "90c6bbb8-234a-4383-9e6e-dabb2b3bf65c",
   "metadata": {},
   "outputs": [
    {
     "name": "stdout",
     "output_type": "stream",
     "text": [
      "Total teams: 38 \n",
      "Example team {'clientcode': 'hops', 'lkupclientid': 9, 'stlrdbname': 'stlrmilb', 'leaguename': 'MILB'} \n"
     ]
    }
   ],
   "source": [
    "sqlcode =  f\"\"\"\n",
    "    SELECT DISTINCT\n",
    "        clientcode,\n",
    "        lkupclientid,\n",
    "        stlrdbname,\n",
    "        leagueName\n",
    "    FROM \n",
    "        datascience.ds.teamsconfig\n",
    "    \"\"\"\n",
    "df = wr.data_api.redshift.read_sql_query(\n",
    "            sql = sqlcode, \n",
    "            con = conn\n",
    "        )\n",
    "\n",
    "columns = df.columns.values\n",
    "\n",
    "teams = []\n",
    "for index, row in df.iterrows():\n",
    "    teams.append(dict(zip(columns, row)))\n",
    "\n",
    "\n",
    "print(f\"Total teams: {len(teams)} \")\n",
    "print(f\"Example team {teams[0]} \")"
   ]
  },
  {
   "cell_type": "code",
   "execution_count": 6,
   "id": "bd3be7de-61ad-4231-a98c-066d918526c8",
   "metadata": {},
   "outputs": [
    {
     "ename": "RedshiftDataApiFailedException",
     "evalue": "Request 79873841-afc8-4799-9d81-c82b69d84665 failed with status FAILED and error ERROR: syntax error at or near \"(\"\n  Position: 29",
     "output_type": "error",
     "traceback": [
      "\u001b[0;31m---------------------------------------------------------------------------\u001b[0m",
      "\u001b[0;31mRedshiftDataApiFailedException\u001b[0m            Traceback (most recent call last)",
      "\u001b[0;32m/var/folders/1z/ymtyx_zx7r168ctyc23cfmbh0000gn/T/ipykernel_9606/2943816859.py\u001b[0m in \u001b[0;36m<module>\u001b[0;34m\u001b[0m\n\u001b[1;32m     18\u001b[0m             \"\"\"\n\u001b[1;32m     19\u001b[0m \u001b[0;34m\u001b[0m\u001b[0m\n\u001b[0;32m---> 20\u001b[0;31m         df_customerretention = wr.data_api.redshift.read_sql_query(\n\u001b[0m\u001b[1;32m     21\u001b[0m             \u001b[0msql\u001b[0m \u001b[0;34m=\u001b[0m \u001b[0msql2\u001b[0m\u001b[0;34m,\u001b[0m\u001b[0;34m\u001b[0m\u001b[0;34m\u001b[0m\u001b[0m\n\u001b[1;32m     22\u001b[0m             \u001b[0mcon\u001b[0m \u001b[0;34m=\u001b[0m \u001b[0mconn\u001b[0m\u001b[0;34m\u001b[0m\u001b[0;34m\u001b[0m\u001b[0m\n",
      "\u001b[0;32m/Library/Frameworks/Python.framework/Versions/3.9/lib/python3.9/site-packages/awswrangler/data_api/redshift.py\u001b[0m in \u001b[0;36mread_sql_query\u001b[0;34m(sql, con, database)\u001b[0m\n\u001b[1;32m    202\u001b[0m     \u001b[0mA\u001b[0m \u001b[0mPandas\u001b[0m \u001b[0mdataframe\u001b[0m \u001b[0mcontaining\u001b[0m \u001b[0mthe\u001b[0m \u001b[0mquery\u001b[0m \u001b[0mresults\u001b[0m\u001b[0;34m.\u001b[0m\u001b[0;34m\u001b[0m\u001b[0;34m\u001b[0m\u001b[0m\n\u001b[1;32m    203\u001b[0m     \"\"\"\n\u001b[0;32m--> 204\u001b[0;31m     \u001b[0;32mreturn\u001b[0m \u001b[0mcon\u001b[0m\u001b[0;34m.\u001b[0m\u001b[0mexecute\u001b[0m\u001b[0;34m(\u001b[0m\u001b[0msql\u001b[0m\u001b[0;34m,\u001b[0m \u001b[0mdatabase\u001b[0m\u001b[0;34m=\u001b[0m\u001b[0mdatabase\u001b[0m\u001b[0;34m)\u001b[0m\u001b[0;34m\u001b[0m\u001b[0;34m\u001b[0m\u001b[0m\n\u001b[0m",
      "\u001b[0;32m/Library/Frameworks/Python.framework/Versions/3.9/lib/python3.9/site-packages/awswrangler/data_api/connector.py\u001b[0m in \u001b[0;36mexecute\u001b[0;34m(self, sql, database)\u001b[0m\n\u001b[1;32m     26\u001b[0m         \"\"\"\n\u001b[1;32m     27\u001b[0m         \u001b[0mrequest_id\u001b[0m\u001b[0;34m:\u001b[0m \u001b[0mstr\u001b[0m \u001b[0;34m=\u001b[0m \u001b[0mself\u001b[0m\u001b[0;34m.\u001b[0m\u001b[0m_execute_statement\u001b[0m\u001b[0;34m(\u001b[0m\u001b[0msql\u001b[0m\u001b[0;34m,\u001b[0m \u001b[0mdatabase\u001b[0m\u001b[0;34m=\u001b[0m\u001b[0mdatabase\u001b[0m\u001b[0;34m)\u001b[0m\u001b[0;34m\u001b[0m\u001b[0;34m\u001b[0m\u001b[0m\n\u001b[0;32m---> 28\u001b[0;31m         \u001b[0;32mreturn\u001b[0m \u001b[0mself\u001b[0m\u001b[0;34m.\u001b[0m\u001b[0m_get_statement_result\u001b[0m\u001b[0;34m(\u001b[0m\u001b[0mrequest_id\u001b[0m\u001b[0;34m)\u001b[0m\u001b[0;34m\u001b[0m\u001b[0;34m\u001b[0m\u001b[0m\n\u001b[0m\u001b[1;32m     29\u001b[0m \u001b[0;34m\u001b[0m\u001b[0m\n\u001b[1;32m     30\u001b[0m     \u001b[0;32mdef\u001b[0m \u001b[0m_execute_statement\u001b[0m\u001b[0;34m(\u001b[0m\u001b[0mself\u001b[0m\u001b[0;34m,\u001b[0m \u001b[0msql\u001b[0m\u001b[0;34m:\u001b[0m \u001b[0mstr\u001b[0m\u001b[0;34m,\u001b[0m \u001b[0mdatabase\u001b[0m\u001b[0;34m:\u001b[0m \u001b[0mOptional\u001b[0m\u001b[0;34m[\u001b[0m\u001b[0mstr\u001b[0m\u001b[0;34m]\u001b[0m \u001b[0;34m=\u001b[0m \u001b[0;32mNone\u001b[0m\u001b[0;34m)\u001b[0m \u001b[0;34m->\u001b[0m \u001b[0mstr\u001b[0m\u001b[0;34m:\u001b[0m\u001b[0;34m\u001b[0m\u001b[0;34m\u001b[0m\u001b[0m\n",
      "\u001b[0;32m/Library/Frameworks/Python.framework/Versions/3.9/lib/python3.9/site-packages/awswrangler/data_api/redshift.py\u001b[0m in \u001b[0;36m_get_statement_result\u001b[0;34m(self, request_id)\u001b[0m\n\u001b[1;32m     73\u001b[0m \u001b[0;34m\u001b[0m\u001b[0m\n\u001b[1;32m     74\u001b[0m     \u001b[0;32mdef\u001b[0m \u001b[0m_get_statement_result\u001b[0m\u001b[0;34m(\u001b[0m\u001b[0mself\u001b[0m\u001b[0;34m,\u001b[0m \u001b[0mrequest_id\u001b[0m\u001b[0;34m:\u001b[0m \u001b[0mstr\u001b[0m\u001b[0;34m)\u001b[0m \u001b[0;34m->\u001b[0m \u001b[0mpd\u001b[0m\u001b[0;34m.\u001b[0m\u001b[0mDataFrame\u001b[0m\u001b[0;34m:\u001b[0m\u001b[0;34m\u001b[0m\u001b[0;34m\u001b[0m\u001b[0m\n\u001b[0;32m---> 75\u001b[0;31m         \u001b[0mself\u001b[0m\u001b[0;34m.\u001b[0m\u001b[0mwaiter\u001b[0m\u001b[0;34m.\u001b[0m\u001b[0mwait\u001b[0m\u001b[0;34m(\u001b[0m\u001b[0mrequest_id\u001b[0m\u001b[0;34m)\u001b[0m\u001b[0;34m\u001b[0m\u001b[0;34m\u001b[0m\u001b[0m\n\u001b[0m\u001b[1;32m     76\u001b[0m         \u001b[0mresponse\u001b[0m\u001b[0;34m:\u001b[0m \u001b[0mDict\u001b[0m\u001b[0;34m[\u001b[0m\u001b[0mstr\u001b[0m\u001b[0;34m,\u001b[0m \u001b[0mAny\u001b[0m\u001b[0;34m]\u001b[0m\u001b[0;34m\u001b[0m\u001b[0;34m\u001b[0m\u001b[0m\n\u001b[1;32m     77\u001b[0m         \u001b[0mresponse\u001b[0m \u001b[0;34m=\u001b[0m \u001b[0mself\u001b[0m\u001b[0;34m.\u001b[0m\u001b[0mclient\u001b[0m\u001b[0;34m.\u001b[0m\u001b[0mdescribe_statement\u001b[0m\u001b[0;34m(\u001b[0m\u001b[0mId\u001b[0m\u001b[0;34m=\u001b[0m\u001b[0mrequest_id\u001b[0m\u001b[0;34m)\u001b[0m\u001b[0;34m\u001b[0m\u001b[0;34m\u001b[0m\u001b[0m\n",
      "\u001b[0;32m/Library/Frameworks/Python.framework/Versions/3.9/lib/python3.9/site-packages/awswrangler/data_api/redshift.py\u001b[0m in \u001b[0;36mwait\u001b[0;34m(self, request_id)\u001b[0m\n\u001b[1;32m    142\u001b[0m             \u001b[0;32mif\u001b[0m \u001b[0mstatus\u001b[0m \u001b[0;32min\u001b[0m \u001b[0;34m[\u001b[0m\u001b[0;34m\"ABORTED\"\u001b[0m\u001b[0;34m,\u001b[0m \u001b[0;34m\"FAILED\"\u001b[0m\u001b[0;34m]\u001b[0m\u001b[0;34m:\u001b[0m\u001b[0;34m\u001b[0m\u001b[0;34m\u001b[0m\u001b[0m\n\u001b[1;32m    143\u001b[0m                 \u001b[0merror\u001b[0m \u001b[0;34m=\u001b[0m \u001b[0mresponse\u001b[0m\u001b[0;34m[\u001b[0m\u001b[0;34m\"Error\"\u001b[0m\u001b[0;34m]\u001b[0m\u001b[0;34m\u001b[0m\u001b[0;34m\u001b[0m\u001b[0m\n\u001b[0;32m--> 144\u001b[0;31m                 raise RedshiftDataApiFailedException(\n\u001b[0m\u001b[1;32m    145\u001b[0m                     \u001b[0;34mf\"Request {request_id} failed with status {status} and error {error}\"\u001b[0m\u001b[0;34m\u001b[0m\u001b[0;34m\u001b[0m\u001b[0m\n\u001b[1;32m    146\u001b[0m                 )\n",
      "\u001b[0;31mRedshiftDataApiFailedException\u001b[0m: Request 79873841-afc8-4799-9d81-c82b69d84665 failed with status FAILED and error ERROR: syntax error at or near \"(\"\n  Position: 29"
     ]
    }
   ],
   "source": [
    "for team in teams:\n",
    "    \n",
    "    if team['lkupclientid'] != 45: #exclude rays b/c they are in a diff db instance\n",
    "        conn = wr.data_api.redshift.connect(\n",
    "        cluster_id=\"qa-app\",\n",
    "        database= team['stlrdbname'],\n",
    "        db_user=\"admin\"\n",
    "    )\n",
    "        \n",
    "\n",
    "\n",
    "        sql2 = f\"\"\"\n",
    "                SELECT TOP (1) insertdate, count(*) as count\n",
    "                FROM {team['stlrdbname']}.dw.customerretentionscores  \n",
    "                WHERE [lkupclientid] = {team['lkupclientid']}\n",
    "                GROUP BY insertDate\n",
    "                ORDER BY convert(datetime, insertdate) DESC\n",
    "            \"\"\"\n",
    "\n",
    "        df_customerretention = wr.data_api.redshift.read_sql_query(\n",
    "            sql = sql2, \n",
    "            con = conn\n",
    "        )\n",
    "\n",
    "        results = []\n",
    "        for row in df_customerretention.iterrows():\n",
    "            team['insertdate'] = row[0]\n",
    "            team['count'] = row[1]\n",
    "        \n",
    "print(f\"Example team {teams[0]} \")"
   ]
  },
  {
   "cell_type": "markdown",
   "id": "2a535899-9541-4096-8c72-c3be102bb158",
   "metadata": {},
   "source": [
    "### Add two more fields to each teams dictionary (insertdate & count):"
   ]
  },
  {
   "cell_type": "code",
   "execution_count": 93,
   "id": "2699571c-f06f-47cd-992a-0a3bba8f136a",
   "metadata": {},
   "outputs": [
    {
     "name": "stdout",
     "output_type": "stream",
     "text": [
      "Example team {'clientcode': '66ers', 'lkupclientid': 19, 'stlrDBName': 'stlrMILB', 'leagueName': 'MILB', 'insertdate': '03-15-2022 10:26:15', 'count': 255} \n"
     ]
    }
   ],
   "source": [
    "cursor = CNXN.cursor()\n",
    "\n",
    "for team in teams:\n",
    "\n",
    "    sql = f\"\"\"\n",
    "            SELECT TOP (1) insertdate, count(*) as count\n",
    "            FROM [DataScience].[DS].[customerScores]\n",
    "            WHERE [lkupclientid] = {team['lkupclientid']}\n",
    "            GROUP BY insertDate\n",
    "            ORDER BY convert(datetime, insertdate) DESC\n",
    "        \"\"\"\n",
    "    \n",
    "    cursor = CNXN.cursor().execute(sql)\n",
    "\n",
    "    results = []\n",
    "    for row in cursor.fetchall():\n",
    "        team['insertdate'] = row[0]\n",
    "        team['count'] = row[1]\n",
    "\n",
    "print(f\"Example team {teams[0]} \")"
   ]
  },
  {
   "cell_type": "markdown",
   "id": "8bf009e0-2771-4a47-a291-883e5c25a9cc",
   "metadata": {},
   "source": [
    "### Write a test to see if insertdate is greater than todays date:"
   ]
  },
  {
   "cell_type": "code",
   "execution_count": 94,
   "id": "1dc75d16-dc1a-4595-b923-16f234efd3c5",
   "metadata": {},
   "outputs": [
    {
     "name": "stdout",
     "output_type": "stream",
     "text": [
      "SCORE REPORT FOR DATASCIENCE customerScores TABLE:\n",
      "\u001b[31m ! 255 Scores NOT Updated: 66ers (19)\u001b[0m\n",
      "\u001b[31m ! 1634 Scores NOT Updated: admirals (16)\u001b[0m\n",
      "\u001b[31m ! 5622 Scores NOT Updated: blazers (5)\u001b[0m\n",
      "\u001b[31m ! 3265 Scores NOT Updated: bulls (11)\u001b[0m\n",
      "\u001b[31m ! 5130 Scores NOT Updated: canucks (7)\u001b[0m\n",
      "\u001b[31m ! 2648 Scores NOT Updated: coyotes (55)\u001b[0m\n",
      "\u001b[31m ! 2296 Scores NOT Updated: drive (48)\u001b[0m\n",
      "\u001b[31m ! 5187 Scores NOT Updated: dynamo (13)\u001b[0m\n",
      "\u001b[31m ! 931 Scores NOT Updated: elpaso (30)\u001b[0m\n",
      "\u001b[31m ! 325 Scores NOT Updated: fireflies (28)\u001b[0m\n",
      "\u001b[31m ! 5381 Scores NOT Updated: flames (36)\u001b[0m\n",
      "\u001b[31m ! 7936 Scores NOT Updated: galaxy (6)\u001b[0m\n",
      "\u001b[32m > 105 Scores Updated: grizzlies (27)\u001b[0m\n",
      "\u001b[31m ! 429 Scores NOT Updated: hartfordyardgoats (44)\u001b[0m\n",
      "\u001b[31m ! 777 Scores NOT Updated: hitmen (37)\u001b[0m\n",
      "\u001b[31m ! 931 Scores NOT Updated: hops (9)\u001b[0m\n",
      "\u001b[31m ! 249 Scores NOT Updated: kanecounty (51)\u001b[0m\n",
      "\u001b[31m ! 16 Scores NOT Updated: legends (26)\u001b[0m\n",
      "\u001b[31m ! 603 Scores NOT Updated: loons (20)\u001b[0m\n",
      "\u001b[31m ! 3686 Scores NOT Updated: nhlpanthers (93)\u001b[0m\n",
      "\u001b[31m ! 1525 Scores NOT Updated: okcdodgers (47)\u001b[0m\n",
      "\u001b[31m ! 842 Scores NOT Updated: rainiers (17)\u001b[0m\n",
      "\u001b[31m ! 415 Scores NOT Updated: rattlers (24)\u001b[0m\n",
      "\u001b[31m ! 264 Scores NOT Updated: rays (45)\u001b[0m\n",
      "\u001b[31m ! 1648 Scores NOT Updated: renoaces (40)\u001b[0m\n",
      "\u001b[31m ! 1068 Scores NOT Updated: rivercats (12)\u001b[0m\n",
      "\u001b[31m ! 712 Scores NOT Updated: roadrunners (56)\u001b[0m\n",
      "\u001b[31m ! 1276 Scores NOT Updated: roughnecks (8)\u001b[0m\n",
      "\u001b[31m ! 902 Scores NOT Updated: rrexpress (34)\u001b[0m\n",
      "\u001b[31m ! 2941 Scores NOT Updated: sacfc (31)\u001b[0m\n",
      "\u001b[32m > 36 Scores Updated: sounders2 (18)\u001b[0m\n",
      "\u001b[31m ! 5657 Scores NOT Updated: stamps (35)\u001b[0m\n",
      "\u001b[31m ! 383 Scores NOT Updated: stormchasers (43)\u001b[0m\n",
      "\u001b[31m ! 814 Scores NOT Updated: stripers (49)\u001b[0m\n",
      "\u001b[31m ! 1040 Scores NOT Updated: toledomudhens (59)\u001b[0m\n",
      "\u001b[31m ! 2291 Scores NOT Updated: toledowalleye (52)\u001b[0m\n",
      "\u001b[31m ! 1754 Scores NOT Updated: vegas51s (15)\u001b[0m\n",
      "\u001b[31m ! 5183 Scores NOT Updated: vgk (33)\u001b[0m\n"
     ]
    }
   ],
   "source": [
    "today = datetime.now().strftime(\"%m-%d-%Y 00:00:00\")\n",
    "\n",
    "print(\"SCORE REPORT FOR DATASCIENCE customerScores TABLE:\")\n",
    "for team in teams:\n",
    "    \n",
    "    if team['insertdate'] > today:\n",
    "        print(colored(f\" > {team['count']} Scores Updated: {team['clientcode']} ({team['lkupclientid']})\", 'green'))\n",
    "    else:\n",
    "        print(colored(f\" ! {team['count']} Scores NOT Updated: {team['clientcode']} ({team['lkupclientid']})\", 'red'))"
   ]
  },
  {
   "cell_type": "markdown",
   "id": "c50bf194-37e5-4890-b548-848540a16395",
   "metadata": {},
   "source": [
    "### Add another field to each team (dimdateid) from each teams STLR table:"
   ]
  },
  {
   "cell_type": "code",
   "execution_count": 80,
   "id": "5275fdbc-0019-4dd3-9cb9-3159457b1e17",
   "metadata": {},
   "outputs": [
    {
     "name": "stdout",
     "output_type": "stream",
     "text": [
      "Example team {'clientcode': '66ers', 'lkupclientid': 19, 'stlrDBName': 'stlrMILB', 'leagueName': 'MILB', 'insertdate': '03-15-2022 10:26:15', 'count': 255, 'dimdateid': 20220107} \n"
     ]
    }
   ],
   "source": [
    "for team in teams:\n",
    "    \n",
    "    if team['lkupclientid'] != 45: #exclude rays b/c they are in a diff db instance\n",
    "    \n",
    "        CNXN = get_sql_connection(team['stlrDBName'])\n",
    "        cursor = CNXN.cursor()\n",
    "\n",
    "        sql = f\"\"\"\n",
    "                SELECT TOP (1) dimdateid\n",
    "                FROM {team['stlrDBName']}.DW.factCustomerRetentionScore \n",
    "                WHERE [lkupclientid] = {team['lkupclientid']}\n",
    "                GROUP BY dimdateid\n",
    "                ORDER BY dimdateid DESC\n",
    "            \"\"\"\n",
    "\n",
    "        cursor = CNXN.cursor().execute(sql)\n",
    "\n",
    "        results = []\n",
    "        for row in cursor.fetchall():\n",
    "            team['dimdateid'] = row[0]\n",
    "        \n",
    "print(f\"Example team {teams[0]} \")"
   ]
  },
  {
   "cell_type": "code",
   "execution_count": 89,
   "id": "7a8eb043-7eb0-4090-9cfc-d3b8f79495de",
   "metadata": {},
   "outputs": [
    {
     "name": "stdout",
     "output_type": "stream",
     "text": [
      "SCORE REPORT FOR STLR faceCustomerRetentionScore TABLE:\n",
      "\u001b[31m ! 255 Scores NOT Updated: 66ers (19)\u001b[0m\n",
      "\u001b[31m ! 1634 Scores NOT Updated: admirals (16)\u001b[0m\n",
      "\u001b[32m > 5622 Scores Updated: blazers (5)\u001b[0m\n",
      "\u001b[31m ! 3265 Scores NOT Updated: bulls (11)\u001b[0m\n",
      "\u001b[32m > 5130 Scores Updated: canucks (7)\u001b[0m\n",
      "\u001b[32m > 2648 Scores Updated: coyotes (55)\u001b[0m\n",
      "\u001b[31m ! 2296 Scores NOT Updated: drive (48)\u001b[0m\n",
      "\u001b[32m > 5187 Scores Updated: dynamo (13)\u001b[0m\n",
      "\u001b[31m ! 931 Scores NOT Updated: elpaso (30)\u001b[0m\n",
      "\u001b[31m ! 325 Scores NOT Updated: fireflies (28)\u001b[0m\n",
      "\u001b[32m > 5381 Scores Updated: flames (36)\u001b[0m\n",
      "\u001b[32m > 7936 Scores Updated: galaxy (6)\u001b[0m\n",
      "\u001b[31m ! 105 Scores NOT Updated: grizzlies (27)\u001b[0m\n",
      "\u001b[31m ! 429 Scores NOT Updated: hartfordyardgoats (44)\u001b[0m\n",
      "\u001b[32m > 777 Scores Updated: hitmen (37)\u001b[0m\n",
      "\u001b[31m ! 931 Scores NOT Updated: hops (9)\u001b[0m\n",
      "\u001b[31m ! 249 Scores NOT Updated: kanecounty (51)\u001b[0m\n",
      "\u001b[31m ! 16 Scores NOT Updated: legends (26)\u001b[0m\n",
      "\u001b[31m ! 603 Scores NOT Updated: loons (20)\u001b[0m\n",
      "\u001b[31m ! 3686 Scores NOT Updated: nhlpanthers (93)\u001b[0m\n",
      "\u001b[31m ! 1525 Scores NOT Updated: okcdodgers (47)\u001b[0m\n",
      "\u001b[31m ! 842 Scores NOT Updated: rainiers (17)\u001b[0m\n",
      "\u001b[31m ! 415 Scores NOT Updated: rattlers (24)\u001b[0m\n",
      "\u001b[31m ! 1648 Scores NOT Updated: renoaces (40)\u001b[0m\n",
      "\u001b[31m ! 1068 Scores NOT Updated: rivercats (12)\u001b[0m\n",
      "\u001b[31m ! 712 Scores NOT Updated: roadrunners (56)\u001b[0m\n",
      "\u001b[32m > 1276 Scores Updated: roughnecks (8)\u001b[0m\n",
      "\u001b[31m ! 902 Scores NOT Updated: rrexpress (34)\u001b[0m\n",
      "\u001b[32m > 2941 Scores Updated: sacfc (31)\u001b[0m\n",
      "\u001b[31m ! 36 Scores NOT Updated: sounders2 (18)\u001b[0m\n",
      "\u001b[32m > 5657 Scores Updated: stamps (35)\u001b[0m\n",
      "\u001b[31m ! 383 Scores NOT Updated: stormchasers (43)\u001b[0m\n",
      "\u001b[31m ! 814 Scores NOT Updated: stripers (49)\u001b[0m\n",
      "\u001b[31m ! 1040 Scores NOT Updated: toledomudhens (59)\u001b[0m\n",
      "\u001b[32m > 2291 Scores Updated: toledowalleye (52)\u001b[0m\n",
      "\u001b[32m > 1754 Scores Updated: vegas51s (15)\u001b[0m\n",
      "\u001b[32m > 5183 Scores Updated: vgk (33)\u001b[0m\n"
     ]
    }
   ],
   "source": [
    "today = int(datetime.now().strftime(\"%Y%m%d\"))\n",
    "\n",
    "print(\"SCORE REPORT FOR STLR factCustomerRetentionScore TABLE:\")\n",
    "for team in teams:\n",
    "    \n",
    "    if team['lkupclientid'] != 45: #exclude rays b/c they are in a diff db instance\n",
    "\n",
    "        if team['dimdateid'] >= today:\n",
    "            print(colored(f\" > {team['count']} Scores Updated: {team['clientcode']} ({team['lkupclientid']})\", 'green'))\n",
    "        else:\n",
    "            print(colored(f\" ! {team['count']} Scores NOT Updated: {team['clientcode']} ({team['lkupclientid']})\", 'red'))"
   ]
  }
 ],
 "metadata": {
  "kernelspec": {
   "display_name": "Python 3 (ipykernel)",
   "language": "python",
   "name": "python3"
  },
  "language_info": {
   "codemirror_mode": {
    "name": "ipython",
    "version": 3
   },
   "file_extension": ".py",
   "mimetype": "text/x-python",
   "name": "python",
   "nbconvert_exporter": "python",
   "pygments_lexer": "ipython3",
   "version": "3.9.4"
  }
 },
 "nbformat": 4,
 "nbformat_minor": 5
}
