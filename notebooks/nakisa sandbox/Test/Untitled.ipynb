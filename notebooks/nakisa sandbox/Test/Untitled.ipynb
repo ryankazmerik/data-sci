{
 "cells": [
  {
   "cell_type": "code",
   "execution_count": 47,
   "id": "694a92ef-76bb-4a1f-bf26-5f5a3a423beb",
   "metadata": {},
   "outputs": [],
   "source": [
    "import getpass\n",
    "import pyodbc\n",
    "import pandas as pd\n",
    "import warnings\n",
    "import matplotlib.pyplot as plt\n",
    "\n",
    "import datetime\n",
    "\n",
    "\n",
    "from pytz import timezone\n",
    "from pycaret.classification import *\n",
    "\n",
    "warnings.filterwarnings('ignore')"
   ]
  },
  {
   "cell_type": "code",
   "execution_count": 35,
   "id": "111950ad-f64a-4ff5-ac87-f730a533da3c",
   "metadata": {},
   "outputs": [],
   "source": [
    "def get_db_connection(dbEnvironment):\n",
    "    if dbEnvironment =='QA':\n",
    "        try:\n",
    "            # connect to SQL Server.\n",
    "            SERVER = '52.44.171.130' \n",
    "            DATABASE = 'datascience' \n",
    "            USERNAME = 'nrad' \n",
    "            PASSWORD = 'ThisIsQA123' #getpass.getpass(prompt='Enter your password')\n",
    "            CNXN = pyodbc.connect('DRIVER={ODBC Driver 17 for SQL Server};SERVER='+SERVER+';DATABASE='+DATABASE+';UID='+USERNAME+';PWD='+ PASSWORD)\n",
    "            print(\"The Connection to \"+dbEnvironment +\" was succesfull\")\n",
    "        except Exception as err:\n",
    "            print(\"The Connection to \"+dbEnvironment +\" wasn't succesfull\", err)\n",
    "    elif dbEnvironment =='PRD':\n",
    "        try:\n",
    "            # connect to SQL Server.\n",
    "            SERVER = '34.206.73.189' \n",
    "            DATABASE = 'datascience' \n",
    "            USERNAME = 'nrad' \n",
    "            PASSWORD = '83F25619-D272-4660-98A2-93AF5CC18D59' #getpass.getpass(prompt='Enter your password')\n",
    "            CNXN = pyodbc.connect('DRIVER={ODBC Driver 17 for SQL Server};SERVER='+SERVER+';DATABASE='+DATABASE+';UID='+USERNAME+';PWD='+ PASSWORD)\n",
    "            print(\"The Connection to \"+dbEnvironment +\" was succesfull\")\n",
    "        except Exception as err:\n",
    "            print(\"The Connection to \"+dbEnvironment +\" wasn't succesfull\", err)\n",
    "    return CNXN\n",
    "            "
   ]
  },
  {
   "cell_type": "code",
   "execution_count": 75,
   "id": "8673e2cb-444a-4f41-b91e-01f1045be104",
   "metadata": {},
   "outputs": [],
   "source": [
    "def get_ds_scores(connection):\n",
    "    try:\n",
    "        \n",
    "        lkupclientid = 36 # flames\n",
    "        today = datetime.datetime.now()\n",
    "        today_date = today.strftime(\"%Y-%m-%d\")\n",
    "        cursor = connection.cursor()\n",
    "        numRecords =  f'''select count(*) as numRecords from ds.customerScores where lkupclientid ={lkupclientid} and cast(insertDate as date) = {\"'\"+ str(today_date) + \"'\"};'''\n",
    "        cntTodayScores = pd.read_sql(numRecords, connection)\n",
    "        cntrecords= cntTodayScores['numRecords']\n",
    "        cnt_records=cntrecords[0]\n",
    "        if cnt_records == 0:\n",
    "            print(\"ds.customerScores is not updated\")\n",
    "        elif cnt_records != 0:\n",
    "            print(cnt_records + \" records been inserted in ds.customerScores table on \" + today_date)\n",
    "        connection.commit()\n",
    "        cursor.close()\n",
    "    except Exception as err:\n",
    "            print(\"The Connection wasn't succesfull\", err)\n"
   ]
  },
  {
   "cell_type": "code",
   "execution_count": 95,
   "id": "429311c0-19d8-462e-9f1a-8676424acb5b",
   "metadata": {},
   "outputs": [],
   "source": [
    "def get_stlr_scores(factconnection):\n",
    "    try:\n",
    "        \n",
    "        lkupclientid = 36 # flames\n",
    "        today = datetime.datetime.now()\n",
    "        today_date_id = today.strftime(\"%Y%m%d\")\n",
    "        cursor = factconnection.cursor()\n",
    "        fact_numRecords =  f'''select count(*) as factnumRecords from stlrflames.dw.factCustomerretentionScore where lkupclientid ={lkupclientid} and cast(dimDateId as int) = {today_date_id};'''\n",
    "        fact_cntTodayScores = pd.read_sql(fact_numRecords, factconnection)\n",
    "        fact_cntrecords= fact_cntTodayScores['factnumRecords']\n",
    "        fact_cnt_records=fact_cntrecords[0]\n",
    "        #print(fact_cnt_records)\n",
    "        if fact_cnt_records == 0:\n",
    "            print(\"dw.factCustomerretentionScore is not updated\")\n",
    "        elif fact_cnt_records != 0:\n",
    "            print(fact_cnt_records + \" records been inserted in dw.factCustomerretentionScore table on \" + today_date_id)\n",
    "        factconnection.commit()\n",
    "        cursor.close()\n",
    "    except Exception as err:\n",
    "            print(\"The Connection wasn't succesfull\", err)"
   ]
  },
  {
   "cell_type": "code",
   "execution_count": 97,
   "id": "1b4cb3ea-d1ea-4803-b380-fbf40a928af3",
   "metadata": {},
   "outputs": [
    {
     "name": "stdout",
     "output_type": "stream",
     "text": [
      "The Connection to QA was succesfull\n",
      "ds.customerScores is not updated\n",
      "dw.factCustomerretentionScore is not updated\n"
     ]
    }
   ],
   "source": [
    "def main():\n",
    "    conn= get_db_connection(\"QA\")\n",
    "    retention_scores = get_ds_scores(conn)\n",
    "    fact_retention_scores = get_stlr_scores(conn)\n",
    "\n",
    "if __name__ == \"__main__\":\n",
    "    main()\n"
   ]
  },
  {
   "cell_type": "code",
   "execution_count": null,
   "id": "14598135-a301-4805-be77-28b6ea7c6656",
   "metadata": {},
   "outputs": [],
   "source": []
  }
 ],
 "metadata": {
  "kernelspec": {
   "display_name": "Python 3 (ipykernel)",
   "language": "python",
   "name": "python3"
  },
  "language_info": {
   "codemirror_mode": {
    "name": "ipython",
    "version": 3
   },
   "file_extension": ".py",
   "mimetype": "text/x-python",
   "name": "python",
   "nbconvert_exporter": "python",
   "pygments_lexer": "ipython3",
   "version": "3.9.4"
  }
 },
 "nbformat": 4,
 "nbformat_minor": 5
}
