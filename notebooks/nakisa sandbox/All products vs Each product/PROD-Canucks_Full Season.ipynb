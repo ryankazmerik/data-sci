{
 "cells": [
  {
   "cell_type": "markdown",
   "id": "6ee08766-25fd-4da1-91b8-b0c3e74db588",
   "metadata": {},
   "source": [
    "# Canucks - Full Season\n",
    "* StelllarAlgo Data Science\n",
    "* Ryan Kazmerik & Nakisa Rad\n",
    "* Jan 20, 2022"
   ]
  },
  {
   "cell_type": "markdown",
   "id": "39108c8d-2e9f-4759-ade2-83071038dc56",
   "metadata": {},
   "source": [
    "## Hypothesis\n",
    "Two very important components of a machine learning model are feature selection and feature engineering. Our idea is that adding some more features to the StellarAlgo retention model could improve performance of the model. This notebook will test the standard StellarAlgo retention model features."
   ]
  },
  {
   "cell_type": "markdown",
   "id": "28142011-1f32-4cc7-816b-a6dae6f70c8c",
   "metadata": {},
   "source": [
    "## Experiment\n",
    "This section details our experiment including querying data, data transformations, feature selection and modelling."
   ]
  },
  {
   "cell_type": "code",
   "execution_count": 1,
   "id": "4c533efd-600e-4bce-8203-faffbddfa700",
   "metadata": {},
   "outputs": [],
   "source": [
    "import getpass\n",
    "import pyodbc\n",
    "import pandas as pd\n",
    "import warnings\n",
    "import matplotlib.pyplot as plt\n",
    "\n",
    "from pycaret.classification import *\n",
    "\n",
    "warnings.filterwarnings('ignore')"
   ]
  },
  {
   "cell_type": "markdown",
   "id": "b64ae7d5-84af-4915-bd13-1dd9d17098a3",
   "metadata": {},
   "source": [
    "### Let's connect to MSSQL and run a stored proc to get our dataset:"
   ]
  },
  {
   "cell_type": "code",
   "execution_count": 2,
   "id": "ae561eb4-f419-4d46-b5e0-12fac9b10db8",
   "metadata": {},
   "outputs": [],
   "source": [
    "# connect to SQL Server.\n",
    "SERVER = '34.206.73.189' \n",
    "DATABASE = 'datascience' \n",
    "USERNAME = 'nrad' \n",
    "PASSWORD = '83F25619-D272-4660-98A2-93AF5CC18D59'\n",
    "#getpass.getpass(prompt='Enter your password')\n",
    "CNXN = pyodbc.connect('DRIVER={ODBC Driver 17 for SQL Server};SERVER='+SERVER+';DATABASE='+DATABASE+';UID='+USERNAME+';PWD='+ PASSWORD)"
   ]
  },
  {
   "cell_type": "code",
   "execution_count": 3,
   "id": "af1afe7d-a35b-494b-88f3-980fb0e3da30",
   "metadata": {},
   "outputs": [
    {
     "data": {
      "text/plain": [
       "(32923, 54)"
      ]
     },
     "execution_count": 3,
     "metadata": {},
     "output_type": "execute_result"
    }
   ],
   "source": [
    "lkupclientid = 7 # Canucks\n",
    "cursor = CNXN.cursor()\n",
    "\n",
    "storedProc = (\n",
    "    f\"\"\"Exec [stlrCanucks].[ds].[getRetentionScoringModelData] {lkupclientid}\"\"\"\n",
    ")\n",
    "\n",
    "df = pd.read_sql(storedProc, CNXN)\n",
    "\n",
    "# apply some data transformations\n",
    "df[\"year\"] = pd.to_numeric(df[\"year\"])\n",
    "\n",
    "CNXN.commit()\n",
    "cursor.close()\n",
    "\n",
    "df.shape"
   ]
  },
  {
   "cell_type": "code",
   "execution_count": 4,
   "id": "11e97dcc-c69e-46c1-8dad-33f6291cb0c6",
   "metadata": {},
   "outputs": [
    {
     "name": "stdout",
     "output_type": "stream",
     "text": [
      "<class 'pandas.core.frame.DataFrame'>\n",
      "RangeIndex: 32923 entries, 0 to 32922\n",
      "Data columns (total 54 columns):\n",
      " #   Column                  Non-Null Count  Dtype  \n",
      "---  ------                  --------------  -----  \n",
      " 0   lkupClientId            32923 non-null  int64  \n",
      " 1   dimCustomerMasterId     32923 non-null  int64  \n",
      " 2   customerNumber          32923 non-null  object \n",
      " 3   year                    32923 non-null  int64  \n",
      " 4   productGrouping         32923 non-null  object \n",
      " 5   totalSpent              32923 non-null  float64\n",
      " 6   recentDate              32923 non-null  object \n",
      " 7   attendancePercent       32923 non-null  float64\n",
      " 8   renewedBeforeDays       32923 non-null  int64  \n",
      " 9   isBuyer                 32923 non-null  object \n",
      " 10  source_tenure           32923 non-null  int64  \n",
      " 11  tenure                  32923 non-null  int64  \n",
      " 12  distToVenue             32923 non-null  float64\n",
      " 13  totalGames              32923 non-null  int64  \n",
      " 14  recency                 32923 non-null  int64  \n",
      " 15  missed_games_1          32923 non-null  int64  \n",
      " 16  missed_games_2          32923 non-null  int64  \n",
      " 17  missed_games_over_2     32923 non-null  int64  \n",
      " 18  click_link              32923 non-null  int64  \n",
      " 19  fill_out_form           32923 non-null  int64  \n",
      " 20  open_email              32923 non-null  int64  \n",
      " 21  send_email              32923 non-null  int64  \n",
      " 22  unsubscribe_email       32923 non-null  int64  \n",
      " 23  openToSendRatio         32923 non-null  float64\n",
      " 24  clickToSendRatio        32923 non-null  float64\n",
      " 25  clickToOpenRatio        32923 non-null  float64\n",
      " 26  posting_records         32923 non-null  int64  \n",
      " 27  resale_records          32923 non-null  int64  \n",
      " 28  resale_atp              32923 non-null  float64\n",
      " 29  forward_records         32923 non-null  int64  \n",
      " 30  cancel_records          32923 non-null  int64  \n",
      " 31  email                   32923 non-null  int64  \n",
      " 32  inbound_email           32923 non-null  int64  \n",
      " 33  inbound_phonecall       32923 non-null  int64  \n",
      " 34  inperson_contact        32923 non-null  int64  \n",
      " 35  internal_note           32923 non-null  int64  \n",
      " 36  left_message            32923 non-null  int64  \n",
      " 37  outbound_email          32923 non-null  int64  \n",
      " 38  outbound_phonecall      32923 non-null  int64  \n",
      " 39  phonecall               32923 non-null  int64  \n",
      " 40  text                    32923 non-null  int64  \n",
      " 41  unknown                 32923 non-null  int64  \n",
      " 42  gender                  32923 non-null  object \n",
      " 43  childrenPresentInHH     32923 non-null  int64  \n",
      " 44  maritalStatus           32923 non-null  int64  \n",
      " 45  lengthOfResidenceInYrs  0 non-null      object \n",
      " 46  annualHHIncome          0 non-null      object \n",
      " 47  education               0 non-null      object \n",
      " 48  urbanicity              0 non-null      object \n",
      " 49  credits_after_refund    32923 non-null  float64\n",
      " 50  is_Lockdown             32923 non-null  int64  \n",
      " 51  NumberofGamesPerSeason  32923 non-null  int64  \n",
      " 52  CNTPostponedGames       32923 non-null  int64  \n",
      " 53  isNextYear_Buyer        32923 non-null  int64  \n",
      "dtypes: float64(8), int64(37), object(9)\n",
      "memory usage: 13.6+ MB\n"
     ]
    }
   ],
   "source": [
    "df.info()"
   ]
  },
  {
   "cell_type": "markdown",
   "id": "ab40da92-72a7-49c1-9829-ed3805a39719",
   "metadata": {},
   "source": [
    "### We should specify the features used in our model:"
   ]
  },
  {
   "cell_type": "code",
   "execution_count": 5,
   "id": "788f1273-8b7a-46bd-a099-1a471feeacc5",
   "metadata": {},
   "outputs": [
    {
     "name": "stdout",
     "output_type": "stream",
     "text": [
      "Data for Modeling: (13554, 10)\n",
      "Unseen Data For Predictions: (2392, 10)\n",
      "\n"
     ]
    }
   ],
   "source": [
    "# choose the features for the stellar base retention model\n",
    "features = [\n",
    "                \"dimCustomerMasterId\",\n",
    "                \"attendancePercent\",\n",
    "                \"distToVenue\",\n",
    "                \"totalSpent\",\n",
    "                \"recency\",\n",
    "                \"source_tenure\",\n",
    "                \"renewedBeforeDays\",\n",
    "                \"isNextYear_Buyer\",\n",
    "                \"productGrouping\",\n",
    "                \"year\"\n",
    "]\n",
    "\n",
    "# copy your main dataframe\n",
    "df_dataset = df\n",
    "\n",
    "# choose the features & train year & test year\n",
    "df_dataset = df_dataset[features]\n",
    "df_dataset[\"year\"] = pd.to_numeric(df_dataset[\"year\"])\n",
    "df_dataset = df_dataset.loc[df_dataset[\"year\"] <= 2019]\n",
    "df_dataset = df_dataset[df_dataset[\"productGrouping\"] ==  'Full Season' ]\n",
    "\n",
    "df_train = df_dataset.sample(frac=0.85, random_state=786)\n",
    "df_eval = df_dataset.drop(df_train.index)\n",
    "\n",
    "df_train.reset_index(drop=True, inplace=True)\n",
    "df_eval.reset_index(drop=True, inplace=True)\n",
    "\n",
    "# print out the number of records for training and eval\n",
    "print('Data for Modeling: ' + str(df_train.shape))\n",
    "print('Unseen Data For Predictions: ' + str(df_eval.shape), end=\"\\n\\n\")"
   ]
  },
  {
   "cell_type": "markdown",
   "id": "4f2da06d-9015-49fd-89b3-956c2ebf66e9",
   "metadata": {},
   "source": [
    "### Now we can model the data using a binary classification prediction for the isnextyear_buyer field to see how likely a customer is to re-purchase."
   ]
  },
  {
   "cell_type": "code",
   "execution_count": 6,
   "id": "23a69cdc-b3ec-48c8-9ce5-29f617779389",
   "metadata": {},
   "outputs": [],
   "source": [
    "setup(\n",
    "    data= df_train, \n",
    "    target=\"isNextYear_Buyer\", \n",
    "    train_size = 0.85,\n",
    "    data_split_shuffle=True,\n",
    "    ignore_features=[\"dimCustomerMasterId\",\"productGrouping\",\"year\"],\n",
    "    silent=True,\n",
    "    verbose=False,\n",
    "    numeric_features=[\n",
    "        \"attendancePercent\",\n",
    "                \"distToVenue\",\n",
    "                \"totalSpent\",\n",
    "                \"recency\",\n",
    "                \"source_tenure\",\n",
    "                \"renewedBeforeDays\"\n",
    "    ]\n",
    ");"
   ]
  },
  {
   "cell_type": "code",
   "execution_count": 7,
   "id": "ef2db9d2-02c2-45c0-b6bb-5cad42c373ce",
   "metadata": {},
   "outputs": [
    {
     "data": {
      "text/html": [
       "<style  type=\"text/css\" >\n",
       "    #T_cd073_ th {\n",
       "          text-align: left;\n",
       "    }#T_cd073_row0_col0,#T_cd073_row1_col0,#T_cd073_row1_col1,#T_cd073_row1_col2,#T_cd073_row1_col3,#T_cd073_row1_col4,#T_cd073_row1_col5,#T_cd073_row1_col6,#T_cd073_row1_col7{\n",
       "            text-align:  left;\n",
       "            text-align:  left;\n",
       "        }#T_cd073_row0_col1,#T_cd073_row0_col2,#T_cd073_row0_col3,#T_cd073_row0_col4,#T_cd073_row0_col5,#T_cd073_row0_col6,#T_cd073_row0_col7{\n",
       "            text-align:  left;\n",
       "            text-align:  left;\n",
       "            background-color:  yellow;\n",
       "        }#T_cd073_row0_col8{\n",
       "            text-align:  left;\n",
       "            text-align:  left;\n",
       "            background-color:  lightgrey;\n",
       "        }#T_cd073_row1_col8{\n",
       "            text-align:  left;\n",
       "            text-align:  left;\n",
       "            background-color:  yellow;\n",
       "            background-color:  lightgrey;\n",
       "        }</style><table id=\"T_cd073_\" ><thead>    <tr>        <th class=\"blank level0\" ></th>        <th class=\"col_heading level0 col0\" >Model</th>        <th class=\"col_heading level0 col1\" >Accuracy</th>        <th class=\"col_heading level0 col2\" >AUC</th>        <th class=\"col_heading level0 col3\" >Recall</th>        <th class=\"col_heading level0 col4\" >Prec.</th>        <th class=\"col_heading level0 col5\" >F1</th>        <th class=\"col_heading level0 col6\" >Kappa</th>        <th class=\"col_heading level0 col7\" >MCC</th>        <th class=\"col_heading level0 col8\" >TT (Sec)</th>    </tr></thead><tbody>\n",
       "                <tr>\n",
       "                        <th id=\"T_cd073_level0_row0\" class=\"row_heading level0 row0\" >xgboost</th>\n",
       "                        <td id=\"T_cd073_row0_col0\" class=\"data row0 col0\" >Extreme Gradient Boosting</td>\n",
       "                        <td id=\"T_cd073_row0_col1\" class=\"data row0 col1\" >0.8518</td>\n",
       "                        <td id=\"T_cd073_row0_col2\" class=\"data row0 col2\" >0.9022</td>\n",
       "                        <td id=\"T_cd073_row0_col3\" class=\"data row0 col3\" >0.9293</td>\n",
       "                        <td id=\"T_cd073_row0_col4\" class=\"data row0 col4\" >0.8524</td>\n",
       "                        <td id=\"T_cd073_row0_col5\" class=\"data row0 col5\" >0.8891</td>\n",
       "                        <td id=\"T_cd073_row0_col6\" class=\"data row0 col6\" >0.6671</td>\n",
       "                        <td id=\"T_cd073_row0_col7\" class=\"data row0 col7\" >0.6730</td>\n",
       "                        <td id=\"T_cd073_row0_col8\" class=\"data row0 col8\" >0.3790</td>\n",
       "            </tr>\n",
       "            <tr>\n",
       "                        <th id=\"T_cd073_level0_row1\" class=\"row_heading level0 row1\" >lr</th>\n",
       "                        <td id=\"T_cd073_row1_col0\" class=\"data row1 col0\" >Logistic Regression</td>\n",
       "                        <td id=\"T_cd073_row1_col1\" class=\"data row1 col1\" >0.6637</td>\n",
       "                        <td id=\"T_cd073_row1_col2\" class=\"data row1 col2\" >0.6889</td>\n",
       "                        <td id=\"T_cd073_row1_col3\" class=\"data row1 col3\" >0.8675</td>\n",
       "                        <td id=\"T_cd073_row1_col4\" class=\"data row1 col4\" >0.6880</td>\n",
       "                        <td id=\"T_cd073_row1_col5\" class=\"data row1 col5\" >0.7673</td>\n",
       "                        <td id=\"T_cd073_row1_col6\" class=\"data row1 col6\" >0.1890</td>\n",
       "                        <td id=\"T_cd073_row1_col7\" class=\"data row1 col7\" >0.2065</td>\n",
       "                        <td id=\"T_cd073_row1_col8\" class=\"data row1 col8\" >0.2750</td>\n",
       "            </tr>\n",
       "    </tbody></table>"
      ],
      "text/plain": [
       "<pandas.io.formats.style.Styler at 0x7fa6bb573940>"
      ]
     },
     "metadata": {},
     "output_type": "display_data"
    }
   ],
   "source": [
    "model_matrix = compare_models(\n",
    "    fold=10,\n",
    "    include=[\"lr\", \"xgboost\"]\n",
    ")"
   ]
  },
  {
   "cell_type": "code",
   "execution_count": 8,
   "id": "d9f030ed-4b6a-4a87-a01e-129dc49e0d4a",
   "metadata": {},
   "outputs": [
    {
     "data": {
      "text/html": [
       "<style  type=\"text/css\" >\n",
       "#T_f3f63_row10_col0,#T_f3f63_row10_col1,#T_f3f63_row10_col2,#T_f3f63_row10_col3,#T_f3f63_row10_col4,#T_f3f63_row10_col5,#T_f3f63_row10_col6{\n",
       "            background:  yellow;\n",
       "        }</style><table id=\"T_f3f63_\" ><thead>    <tr>        <th class=\"blank level0\" ></th>        <th class=\"col_heading level0 col0\" >Accuracy</th>        <th class=\"col_heading level0 col1\" >AUC</th>        <th class=\"col_heading level0 col2\" >Recall</th>        <th class=\"col_heading level0 col3\" >Prec.</th>        <th class=\"col_heading level0 col4\" >F1</th>        <th class=\"col_heading level0 col5\" >Kappa</th>        <th class=\"col_heading level0 col6\" >MCC</th>    </tr></thead><tbody>\n",
       "                <tr>\n",
       "                        <th id=\"T_f3f63_level0_row0\" class=\"row_heading level0 row0\" >0</th>\n",
       "                        <td id=\"T_f3f63_row0_col0\" class=\"data row0 col0\" >0.8585</td>\n",
       "                        <td id=\"T_f3f63_row0_col1\" class=\"data row0 col1\" >0.8999</td>\n",
       "                        <td id=\"T_f3f63_row0_col2\" class=\"data row0 col2\" >0.9375</td>\n",
       "                        <td id=\"T_f3f63_row0_col3\" class=\"data row0 col3\" >0.8550</td>\n",
       "                        <td id=\"T_f3f63_row0_col4\" class=\"data row0 col4\" >0.8944</td>\n",
       "                        <td id=\"T_f3f63_row0_col5\" class=\"data row0 col5\" >0.6815</td>\n",
       "                        <td id=\"T_f3f63_row0_col6\" class=\"data row0 col6\" >0.6882</td>\n",
       "            </tr>\n",
       "            <tr>\n",
       "                        <th id=\"T_f3f63_level0_row1\" class=\"row_heading level0 row1\" >1</th>\n",
       "                        <td id=\"T_f3f63_row1_col0\" class=\"data row1 col0\" >0.8594</td>\n",
       "                        <td id=\"T_f3f63_row1_col1\" class=\"data row1 col1\" >0.9164</td>\n",
       "                        <td id=\"T_f3f63_row1_col2\" class=\"data row1 col2\" >0.9266</td>\n",
       "                        <td id=\"T_f3f63_row1_col3\" class=\"data row1 col3\" >0.8633</td>\n",
       "                        <td id=\"T_f3f63_row1_col4\" class=\"data row1 col4\" >0.8938</td>\n",
       "                        <td id=\"T_f3f63_row1_col5\" class=\"data row1 col5\" >0.6864</td>\n",
       "                        <td id=\"T_f3f63_row1_col6\" class=\"data row1 col6\" >0.6902</td>\n",
       "            </tr>\n",
       "            <tr>\n",
       "                        <th id=\"T_f3f63_level0_row2\" class=\"row_heading level0 row2\" >2</th>\n",
       "                        <td id=\"T_f3f63_row2_col0\" class=\"data row2 col0\" >0.8533</td>\n",
       "                        <td id=\"T_f3f63_row2_col1\" class=\"data row2 col1\" >0.9015</td>\n",
       "                        <td id=\"T_f3f63_row2_col2\" class=\"data row2 col2\" >0.9429</td>\n",
       "                        <td id=\"T_f3f63_row2_col3\" class=\"data row2 col3\" >0.8453</td>\n",
       "                        <td id=\"T_f3f63_row2_col4\" class=\"data row2 col4\" >0.8915</td>\n",
       "                        <td id=\"T_f3f63_row2_col5\" class=\"data row2 col5\" >0.6673</td>\n",
       "                        <td id=\"T_f3f63_row2_col6\" class=\"data row2 col6\" >0.6768</td>\n",
       "            </tr>\n",
       "            <tr>\n",
       "                        <th id=\"T_f3f63_level0_row3\" class=\"row_heading level0 row3\" >3</th>\n",
       "                        <td id=\"T_f3f63_row3_col0\" class=\"data row3 col0\" >0.8620</td>\n",
       "                        <td id=\"T_f3f63_row3_col1\" class=\"data row3 col1\" >0.9135</td>\n",
       "                        <td id=\"T_f3f63_row3_col2\" class=\"data row3 col2\" >0.9443</td>\n",
       "                        <td id=\"T_f3f63_row3_col3\" class=\"data row3 col3\" >0.8549</td>\n",
       "                        <td id=\"T_f3f63_row3_col4\" class=\"data row3 col4\" >0.8974</td>\n",
       "                        <td id=\"T_f3f63_row3_col5\" class=\"data row3 col5\" >0.6883</td>\n",
       "                        <td id=\"T_f3f63_row3_col6\" class=\"data row3 col6\" >0.6963</td>\n",
       "            </tr>\n",
       "            <tr>\n",
       "                        <th id=\"T_f3f63_level0_row4\" class=\"row_heading level0 row4\" >4</th>\n",
       "                        <td id=\"T_f3f63_row4_col0\" class=\"data row4 col0\" >0.8429</td>\n",
       "                        <td id=\"T_f3f63_row4_col1\" class=\"data row4 col1\" >0.8892</td>\n",
       "                        <td id=\"T_f3f63_row4_col2\" class=\"data row4 col2\" >0.9171</td>\n",
       "                        <td id=\"T_f3f63_row4_col3\" class=\"data row4 col3\" >0.8491</td>\n",
       "                        <td id=\"T_f3f63_row4_col4\" class=\"data row4 col4\" >0.8818</td>\n",
       "                        <td id=\"T_f3f63_row4_col5\" class=\"data row4 col5\" >0.6487</td>\n",
       "                        <td id=\"T_f3f63_row4_col6\" class=\"data row4 col6\" >0.6530</td>\n",
       "            </tr>\n",
       "            <tr>\n",
       "                        <th id=\"T_f3f63_level0_row5\" class=\"row_heading level0 row5\" >5</th>\n",
       "                        <td id=\"T_f3f63_row5_col0\" class=\"data row5 col0\" >0.8498</td>\n",
       "                        <td id=\"T_f3f63_row5_col1\" class=\"data row5 col1\" >0.9036</td>\n",
       "                        <td id=\"T_f3f63_row5_col2\" class=\"data row5 col2\" >0.9281</td>\n",
       "                        <td id=\"T_f3f63_row5_col3\" class=\"data row5 col3\" >0.8507</td>\n",
       "                        <td id=\"T_f3f63_row5_col4\" class=\"data row5 col4\" >0.8877</td>\n",
       "                        <td id=\"T_f3f63_row5_col5\" class=\"data row5 col5\" >0.6623</td>\n",
       "                        <td id=\"T_f3f63_row5_col6\" class=\"data row5 col6\" >0.6680</td>\n",
       "            </tr>\n",
       "            <tr>\n",
       "                        <th id=\"T_f3f63_level0_row6\" class=\"row_heading level0 row6\" >6</th>\n",
       "                        <td id=\"T_f3f63_row6_col0\" class=\"data row6 col0\" >0.8568</td>\n",
       "                        <td id=\"T_f3f63_row6_col1\" class=\"data row6 col1\" >0.9089</td>\n",
       "                        <td id=\"T_f3f63_row6_col2\" class=\"data row6 col2\" >0.9294</td>\n",
       "                        <td id=\"T_f3f63_row6_col3\" class=\"data row6 col3\" >0.8584</td>\n",
       "                        <td id=\"T_f3f63_row6_col4\" class=\"data row6 col4\" >0.8925</td>\n",
       "                        <td id=\"T_f3f63_row6_col5\" class=\"data row6 col5\" >0.6790</td>\n",
       "                        <td id=\"T_f3f63_row6_col6\" class=\"data row6 col6\" >0.6838</td>\n",
       "            </tr>\n",
       "            <tr>\n",
       "                        <th id=\"T_f3f63_level0_row7\" class=\"row_heading level0 row7\" >7</th>\n",
       "                        <td id=\"T_f3f63_row7_col0\" class=\"data row7 col0\" >0.8403</td>\n",
       "                        <td id=\"T_f3f63_row7_col1\" class=\"data row7 col1\" >0.8903</td>\n",
       "                        <td id=\"T_f3f63_row7_col2\" class=\"data row7 col2\" >0.9322</td>\n",
       "                        <td id=\"T_f3f63_row7_col3\" class=\"data row7 col3\" >0.8368</td>\n",
       "                        <td id=\"T_f3f63_row7_col4\" class=\"data row7 col4\" >0.8819</td>\n",
       "                        <td id=\"T_f3f63_row7_col5\" class=\"data row7 col5\" >0.6375</td>\n",
       "                        <td id=\"T_f3f63_row7_col6\" class=\"data row7 col6\" >0.6464</td>\n",
       "            </tr>\n",
       "            <tr>\n",
       "                        <th id=\"T_f3f63_level0_row8\" class=\"row_heading level0 row8\" >8</th>\n",
       "                        <td id=\"T_f3f63_row8_col0\" class=\"data row8 col0\" >0.8446</td>\n",
       "                        <td id=\"T_f3f63_row8_col1\" class=\"data row8 col1\" >0.9006</td>\n",
       "                        <td id=\"T_f3f63_row8_col2\" class=\"data row8 col2\" >0.9172</td>\n",
       "                        <td id=\"T_f3f63_row8_col3\" class=\"data row8 col3\" >0.8514</td>\n",
       "                        <td id=\"T_f3f63_row8_col4\" class=\"data row8 col4\" >0.8831</td>\n",
       "                        <td id=\"T_f3f63_row8_col5\" class=\"data row8 col5\" >0.6525</td>\n",
       "                        <td id=\"T_f3f63_row8_col6\" class=\"data row8 col6\" >0.6565</td>\n",
       "            </tr>\n",
       "            <tr>\n",
       "                        <th id=\"T_f3f63_level0_row9\" class=\"row_heading level0 row9\" >9</th>\n",
       "                        <td id=\"T_f3f63_row9_col0\" class=\"data row9 col0\" >0.8507</td>\n",
       "                        <td id=\"T_f3f63_row9_col1\" class=\"data row9 col1\" >0.8980</td>\n",
       "                        <td id=\"T_f3f63_row9_col2\" class=\"data row9 col2\" >0.9172</td>\n",
       "                        <td id=\"T_f3f63_row9_col3\" class=\"data row9 col3\" >0.8590</td>\n",
       "                        <td id=\"T_f3f63_row9_col4\" class=\"data row9 col4\" >0.8871</td>\n",
       "                        <td id=\"T_f3f63_row9_col5\" class=\"data row9 col5\" >0.6673</td>\n",
       "                        <td id=\"T_f3f63_row9_col6\" class=\"data row9 col6\" >0.6705</td>\n",
       "            </tr>\n",
       "            <tr>\n",
       "                        <th id=\"T_f3f63_level0_row10\" class=\"row_heading level0 row10\" >Mean</th>\n",
       "                        <td id=\"T_f3f63_row10_col0\" class=\"data row10 col0\" >0.8518</td>\n",
       "                        <td id=\"T_f3f63_row10_col1\" class=\"data row10 col1\" >0.9022</td>\n",
       "                        <td id=\"T_f3f63_row10_col2\" class=\"data row10 col2\" >0.9293</td>\n",
       "                        <td id=\"T_f3f63_row10_col3\" class=\"data row10 col3\" >0.8524</td>\n",
       "                        <td id=\"T_f3f63_row10_col4\" class=\"data row10 col4\" >0.8891</td>\n",
       "                        <td id=\"T_f3f63_row10_col5\" class=\"data row10 col5\" >0.6671</td>\n",
       "                        <td id=\"T_f3f63_row10_col6\" class=\"data row10 col6\" >0.6730</td>\n",
       "            </tr>\n",
       "            <tr>\n",
       "                        <th id=\"T_f3f63_level0_row11\" class=\"row_heading level0 row11\" >SD</th>\n",
       "                        <td id=\"T_f3f63_row11_col0\" class=\"data row11 col0\" >0.0071</td>\n",
       "                        <td id=\"T_f3f63_row11_col1\" class=\"data row11 col1\" >0.0084</td>\n",
       "                        <td id=\"T_f3f63_row11_col2\" class=\"data row11 col2\" >0.0097</td>\n",
       "                        <td id=\"T_f3f63_row11_col3\" class=\"data row11 col3\" >0.0072</td>\n",
       "                        <td id=\"T_f3f63_row11_col4\" class=\"data row11 col4\" >0.0053</td>\n",
       "                        <td id=\"T_f3f63_row11_col5\" class=\"data row11 col5\" >0.0162</td>\n",
       "                        <td id=\"T_f3f63_row11_col6\" class=\"data row11 col6\" >0.0162</td>\n",
       "            </tr>\n",
       "    </tbody></table>"
      ],
      "text/plain": [
       "<pandas.io.formats.style.Styler at 0x7fa6b96b38e0>"
      ]
     },
     "metadata": {},
     "output_type": "display_data"
    },
    {
     "name": "stderr",
     "output_type": "stream",
     "text": [
      "/Library/Frameworks/Python.framework/Versions/3.9/lib/python3.9/site-packages/xgboost/sklearn.py:1146: UserWarning: The use of label encoder in XGBClassifier is deprecated and will be removed in a future release. To remove this warning, do the following: 1) Pass option use_label_encoder=False when constructing XGBClassifier object; and 2) Encode your labels (y) as integers starting with 0, i.e. 0, 1, 2, ..., [num_class - 1].\n",
      "  warnings.warn(label_encoder_deprecation_msg, UserWarning)\n",
      "/Library/Frameworks/Python.framework/Versions/3.9/lib/python3.9/site-packages/xgboost/sklearn.py:1146: UserWarning: The use of label encoder in XGBClassifier is deprecated and will be removed in a future release. To remove this warning, do the following: 1) Pass option use_label_encoder=False when constructing XGBClassifier object; and 2) Encode your labels (y) as integers starting with 0, i.e. 0, 1, 2, ..., [num_class - 1].\n",
      "  warnings.warn(label_encoder_deprecation_msg, UserWarning)\n",
      "/Library/Frameworks/Python.framework/Versions/3.9/lib/python3.9/site-packages/xgboost/sklearn.py:1146: UserWarning: The use of label encoder in XGBClassifier is deprecated and will be removed in a future release. To remove this warning, do the following: 1) Pass option use_label_encoder=False when constructing XGBClassifier object; and 2) Encode your labels (y) as integers starting with 0, i.e. 0, 1, 2, ..., [num_class - 1].\n",
      "  warnings.warn(label_encoder_deprecation_msg, UserWarning)\n",
      "/Library/Frameworks/Python.framework/Versions/3.9/lib/python3.9/site-packages/xgboost/sklearn.py:1146: UserWarning: The use of label encoder in XGBClassifier is deprecated and will be removed in a future release. To remove this warning, do the following: 1) Pass option use_label_encoder=False when constructing XGBClassifier object; and 2) Encode your labels (y) as integers starting with 0, i.e. 0, 1, 2, ..., [num_class - 1].\n",
      "  warnings.warn(label_encoder_deprecation_msg, UserWarning)\n",
      "/Library/Frameworks/Python.framework/Versions/3.9/lib/python3.9/site-packages/xgboost/sklearn.py:1146: UserWarning: The use of label encoder in XGBClassifier is deprecated and will be removed in a future release. To remove this warning, do the following: 1) Pass option use_label_encoder=False when constructing XGBClassifier object; and 2) Encode your labels (y) as integers starting with 0, i.e. 0, 1, 2, ..., [num_class - 1].\n",
      "  warnings.warn(label_encoder_deprecation_msg, UserWarning)\n",
      "/Library/Frameworks/Python.framework/Versions/3.9/lib/python3.9/site-packages/xgboost/sklearn.py:1146: UserWarning: The use of label encoder in XGBClassifier is deprecated and will be removed in a future release. To remove this warning, do the following: 1) Pass option use_label_encoder=False when constructing XGBClassifier object; and 2) Encode your labels (y) as integers starting with 0, i.e. 0, 1, 2, ..., [num_class - 1].\n",
      "  warnings.warn(label_encoder_deprecation_msg, UserWarning)\n",
      "/Library/Frameworks/Python.framework/Versions/3.9/lib/python3.9/site-packages/xgboost/sklearn.py:1146: UserWarning: The use of label encoder in XGBClassifier is deprecated and will be removed in a future release. To remove this warning, do the following: 1) Pass option use_label_encoder=False when constructing XGBClassifier object; and 2) Encode your labels (y) as integers starting with 0, i.e. 0, 1, 2, ..., [num_class - 1].\n",
      "  warnings.warn(label_encoder_deprecation_msg, UserWarning)\n",
      "/Library/Frameworks/Python.framework/Versions/3.9/lib/python3.9/site-packages/xgboost/sklearn.py:1146: UserWarning: The use of label encoder in XGBClassifier is deprecated and will be removed in a future release. To remove this warning, do the following: 1) Pass option use_label_encoder=False when constructing XGBClassifier object; and 2) Encode your labels (y) as integers starting with 0, i.e. 0, 1, 2, ..., [num_class - 1].\n",
      "  warnings.warn(label_encoder_deprecation_msg, UserWarning)\n",
      "/Library/Frameworks/Python.framework/Versions/3.9/lib/python3.9/site-packages/xgboost/sklearn.py:1146: UserWarning: The use of label encoder in XGBClassifier is deprecated and will be removed in a future release. To remove this warning, do the following: 1) Pass option use_label_encoder=False when constructing XGBClassifier object; and 2) Encode your labels (y) as integers starting with 0, i.e. 0, 1, 2, ..., [num_class - 1].\n",
      "  warnings.warn(label_encoder_deprecation_msg, UserWarning)\n",
      "/Library/Frameworks/Python.framework/Versions/3.9/lib/python3.9/site-packages/xgboost/sklearn.py:1146: UserWarning: The use of label encoder in XGBClassifier is deprecated and will be removed in a future release. To remove this warning, do the following: 1) Pass option use_label_encoder=False when constructing XGBClassifier object; and 2) Encode your labels (y) as integers starting with 0, i.e. 0, 1, 2, ..., [num_class - 1].\n",
      "  warnings.warn(label_encoder_deprecation_msg, UserWarning)\n"
     ]
    }
   ],
   "source": [
    "best_model = create_model(model_matrix)\n",
    "final_model = finalize_model(best_model)"
   ]
  },
  {
   "cell_type": "markdown",
   "id": "3aab9021-4462-423a-8e3c-fbe1f36c6110",
   "metadata": {},
   "source": [
    "### Let's load in our 2021 season data and get retention scores using the model:"
   ]
  },
  {
   "cell_type": "code",
   "execution_count": 9,
   "id": "c249a813-c882-4869-9490-6ab766a8c223",
   "metadata": {},
   "outputs": [
    {
     "data": {
      "text/plain": [
       "(3074, 54)"
      ]
     },
     "execution_count": 9,
     "metadata": {},
     "output_type": "execute_result"
    }
   ],
   "source": [
    "df_inference = df.loc[df[\"year\"] >= 2021]\n",
    "df_inference = df_inference[df_inference[\"productGrouping\"] ==  'Full Season' ]\n",
    "df_inference = df_inference.fillna(0)\n",
    "df_inference.shape"
   ]
  },
  {
   "cell_type": "code",
   "execution_count": 10,
   "id": "745b62fb-fb2e-4b4a-9c48-8ce4de472a83",
   "metadata": {},
   "outputs": [
    {
     "data": {
      "text/html": [
       "<div>\n",
       "<style scoped>\n",
       "    .dataframe tbody tr th:only-of-type {\n",
       "        vertical-align: middle;\n",
       "    }\n",
       "\n",
       "    .dataframe tbody tr th {\n",
       "        vertical-align: top;\n",
       "    }\n",
       "\n",
       "    .dataframe thead th {\n",
       "        text-align: right;\n",
       "    }\n",
       "</style>\n",
       "<table border=\"1\" class=\"dataframe\">\n",
       "  <thead>\n",
       "    <tr style=\"text-align: right;\">\n",
       "      <th></th>\n",
       "      <th>lkupClientId</th>\n",
       "      <th>dimCustomerMasterId</th>\n",
       "      <th>customerNumber</th>\n",
       "      <th>year</th>\n",
       "      <th>productGrouping</th>\n",
       "      <th>totalSpent</th>\n",
       "      <th>recentDate</th>\n",
       "      <th>attendancePercent</th>\n",
       "      <th>renewedBeforeDays</th>\n",
       "      <th>isBuyer</th>\n",
       "      <th>...</th>\n",
       "      <th>education</th>\n",
       "      <th>urbanicity</th>\n",
       "      <th>credits_after_refund</th>\n",
       "      <th>is_Lockdown</th>\n",
       "      <th>NumberofGamesPerSeason</th>\n",
       "      <th>CNTPostponedGames</th>\n",
       "      <th>isNextYear_Buyer</th>\n",
       "      <th>Label</th>\n",
       "      <th>Score_0</th>\n",
       "      <th>Score_1</th>\n",
       "    </tr>\n",
       "  </thead>\n",
       "  <tbody>\n",
       "    <tr>\n",
       "      <th>27816</th>\n",
       "      <td>7</td>\n",
       "      <td>6453</td>\n",
       "      <td>1668905</td>\n",
       "      <td>2021</td>\n",
       "      <td>Full Season</td>\n",
       "      <td>8428.6</td>\n",
       "      <td>2021-12-14</td>\n",
       "      <td>0.888889</td>\n",
       "      <td>102</td>\n",
       "      <td>TRUE</td>\n",
       "      <td>...</td>\n",
       "      <td>0</td>\n",
       "      <td>0</td>\n",
       "      <td>0.0</td>\n",
       "      <td>1</td>\n",
       "      <td>46</td>\n",
       "      <td>0</td>\n",
       "      <td>0</td>\n",
       "      <td>0</td>\n",
       "      <td>0.9506</td>\n",
       "      <td>0.0494</td>\n",
       "    </tr>\n",
       "    <tr>\n",
       "      <th>27817</th>\n",
       "      <td>7</td>\n",
       "      <td>6661</td>\n",
       "      <td>415265</td>\n",
       "      <td>2021</td>\n",
       "      <td>Full Season</td>\n",
       "      <td>12784.4</td>\n",
       "      <td>2021-12-14</td>\n",
       "      <td>1.000000</td>\n",
       "      <td>102</td>\n",
       "      <td>TRUE</td>\n",
       "      <td>...</td>\n",
       "      <td>0</td>\n",
       "      <td>0</td>\n",
       "      <td>0.0</td>\n",
       "      <td>1</td>\n",
       "      <td>46</td>\n",
       "      <td>0</td>\n",
       "      <td>0</td>\n",
       "      <td>0</td>\n",
       "      <td>0.9336</td>\n",
       "      <td>0.0664</td>\n",
       "    </tr>\n",
       "    <tr>\n",
       "      <th>27818</th>\n",
       "      <td>7</td>\n",
       "      <td>7032</td>\n",
       "      <td>141998</td>\n",
       "      <td>2021</td>\n",
       "      <td>Full Season</td>\n",
       "      <td>9448.3</td>\n",
       "      <td>2021-12-14</td>\n",
       "      <td>1.055556</td>\n",
       "      <td>102</td>\n",
       "      <td>TRUE</td>\n",
       "      <td>...</td>\n",
       "      <td>0</td>\n",
       "      <td>0</td>\n",
       "      <td>0.0</td>\n",
       "      <td>1</td>\n",
       "      <td>46</td>\n",
       "      <td>0</td>\n",
       "      <td>0</td>\n",
       "      <td>0</td>\n",
       "      <td>0.9203</td>\n",
       "      <td>0.0797</td>\n",
       "    </tr>\n",
       "    <tr>\n",
       "      <th>27819</th>\n",
       "      <td>7</td>\n",
       "      <td>9986</td>\n",
       "      <td>123188</td>\n",
       "      <td>2021</td>\n",
       "      <td>Full Season</td>\n",
       "      <td>11806.0</td>\n",
       "      <td>2021-12-14</td>\n",
       "      <td>0.916667</td>\n",
       "      <td>102</td>\n",
       "      <td>TRUE</td>\n",
       "      <td>...</td>\n",
       "      <td>0</td>\n",
       "      <td>0</td>\n",
       "      <td>0.0</td>\n",
       "      <td>1</td>\n",
       "      <td>46</td>\n",
       "      <td>0</td>\n",
       "      <td>0</td>\n",
       "      <td>0</td>\n",
       "      <td>0.9954</td>\n",
       "      <td>0.0046</td>\n",
       "    </tr>\n",
       "    <tr>\n",
       "      <th>27820</th>\n",
       "      <td>7</td>\n",
       "      <td>10003</td>\n",
       "      <td>13048325</td>\n",
       "      <td>2021</td>\n",
       "      <td>Full Season</td>\n",
       "      <td>7993.4</td>\n",
       "      <td>2021-12-14</td>\n",
       "      <td>1.055556</td>\n",
       "      <td>45</td>\n",
       "      <td>TRUE</td>\n",
       "      <td>...</td>\n",
       "      <td>0</td>\n",
       "      <td>0</td>\n",
       "      <td>0.0</td>\n",
       "      <td>1</td>\n",
       "      <td>46</td>\n",
       "      <td>0</td>\n",
       "      <td>0</td>\n",
       "      <td>0</td>\n",
       "      <td>0.8435</td>\n",
       "      <td>0.1565</td>\n",
       "    </tr>\n",
       "  </tbody>\n",
       "</table>\n",
       "<p>5 rows × 57 columns</p>\n",
       "</div>"
      ],
      "text/plain": [
       "       lkupClientId  dimCustomerMasterId customerNumber  year productGrouping  \\\n",
       "27816             7                 6453        1668905  2021     Full Season   \n",
       "27817             7                 6661         415265  2021     Full Season   \n",
       "27818             7                 7032         141998  2021     Full Season   \n",
       "27819             7                 9986         123188  2021     Full Season   \n",
       "27820             7                10003       13048325  2021     Full Season   \n",
       "\n",
       "       totalSpent  recentDate  attendancePercent  renewedBeforeDays isBuyer  \\\n",
       "27816      8428.6  2021-12-14           0.888889                102    TRUE   \n",
       "27817     12784.4  2021-12-14           1.000000                102    TRUE   \n",
       "27818      9448.3  2021-12-14           1.055556                102    TRUE   \n",
       "27819     11806.0  2021-12-14           0.916667                102    TRUE   \n",
       "27820      7993.4  2021-12-14           1.055556                 45    TRUE   \n",
       "\n",
       "       ...  education  urbanicity  credits_after_refund  is_Lockdown  \\\n",
       "27816  ...          0           0                   0.0            1   \n",
       "27817  ...          0           0                   0.0            1   \n",
       "27818  ...          0           0                   0.0            1   \n",
       "27819  ...          0           0                   0.0            1   \n",
       "27820  ...          0           0                   0.0            1   \n",
       "\n",
       "       NumberofGamesPerSeason  CNTPostponedGames  isNextYear_Buyer  Label  \\\n",
       "27816                      46                  0                 0      0   \n",
       "27817                      46                  0                 0      0   \n",
       "27818                      46                  0                 0      0   \n",
       "27819                      46                  0                 0      0   \n",
       "27820                      46                  0                 0      0   \n",
       "\n",
       "       Score_0  Score_1  \n",
       "27816   0.9506   0.0494  \n",
       "27817   0.9336   0.0664  \n",
       "27818   0.9203   0.0797  \n",
       "27819   0.9954   0.0046  \n",
       "27820   0.8435   0.1565  \n",
       "\n",
       "[5 rows x 57 columns]"
      ]
     },
     "execution_count": 10,
     "metadata": {},
     "output_type": "execute_result"
    }
   ],
   "source": [
    "new_predictions = predict_model(final_model, data=df_inference, raw_score=True)\n",
    "new_predictions.head()"
   ]
  },
  {
   "cell_type": "code",
   "execution_count": 11,
   "id": "c98d3de4-966c-4d4a-af8f-e4a2d78eed38",
   "metadata": {},
   "outputs": [
    {
     "data": {
      "text/plain": [
       "0    2726\n",
       "1     348\n",
       "Name: Label, dtype: int64"
      ]
     },
     "execution_count": 11,
     "metadata": {},
     "output_type": "execute_result"
    }
   ],
   "source": [
    "new_predictions[\"Label\"].value_counts()"
   ]
  },
  {
   "cell_type": "code",
   "execution_count": 12,
   "id": "95e96920-bc9c-4b50-837c-89e392d13449",
   "metadata": {},
   "outputs": [
    {
     "data": {
      "text/plain": [
       "(-0.001, 0.2]    2161\n",
       "(0.2, 0.4]        439\n",
       "(0.4, 0.6]        235\n",
       "(0.6, 0.8]        127\n",
       "(0.8, 1.0]        112\n",
       "Name: Score_1, dtype: int64"
      ]
     },
     "execution_count": 12,
     "metadata": {},
     "output_type": "execute_result"
    }
   ],
   "source": [
    "new_predictions[\"Score_1\"].value_counts(bins=[0, 0.2, 0.4, 0.6, 0.8, 1.0])"
   ]
  },
  {
   "cell_type": "code",
   "execution_count": 13,
   "id": "3b4b1d51-1c33-489a-95f6-ab75e428c760",
   "metadata": {},
   "outputs": [
    {
     "data": {
      "text/plain": [
       "array([[<AxesSubplot:title={'center':'Score_1'}>]], dtype=object)"
      ]
     },
     "execution_count": 13,
     "metadata": {},
     "output_type": "execute_result"
    },
    {
     "data": {
      "image/png": "[encoded data removed]",
      "text/plain": [
       "<Figure size 720x360 with 1 Axes>"
      ]
     },
     "metadata": {
      "needs_background": "light"
     },
     "output_type": "display_data"
    }
   ],
   "source": [
    "new_predictions[new_predictions[\"Label\"]==1][[\"Score_1\"]].hist(bins=30, figsize=(10,5), range=[0,1])"
   ]
  },
  {
   "cell_type": "code",
   "execution_count": 14,
   "id": "144bd27b-9798-4f8b-a3a3-95298d8e2c01",
   "metadata": {},
   "outputs": [
    {
     "data": {
      "image/png": "[encoded data removed]",
      "text/plain": [
       "<Figure size 800x500 with 1 Axes>"
      ]
     },
     "metadata": {},
     "output_type": "display_data"
    }
   ],
   "source": [
    "plot_model(best_model, plot='feature')"
   ]
  },
  {
   "cell_type": "code",
   "execution_count": 15,
   "id": "79e34840-9a47-486f-a648-6d5d16d73b89",
   "metadata": {},
   "outputs": [
    {
     "data": {
      "image/png": "[encoded data removed]",
      "text/plain": [
       "<Figure size 576x396 with 1 Axes>"
      ]
     },
     "metadata": {},
     "output_type": "display_data"
    }
   ],
   "source": [
    "plot_model(best_model, plot='confusion_matrix')"
   ]
  },
  {
   "cell_type": "markdown",
   "id": "a439108b-7911-4384-b089-f7b31c825192",
   "metadata": {},
   "source": [
    "## Observations\n",
    "Here you can document some ideas on the results from above"
   ]
  },
  {
   "cell_type": "markdown",
   "id": "d2de91b5-a1e8-42a5-a087-8c31ff2e1db3",
   "metadata": {},
   "source": [
    "## Conclusions\n",
    "Here you can talk about next steps, did the experiment work? If yes, what to do next? If no, why?"
   ]
  },
  {
   "cell_type": "code",
   "execution_count": null,
   "id": "ea239da3-8648-4883-a4a7-2be9f665c05e",
   "metadata": {},
   "outputs": [],
   "source": []
  }
 ],
 "metadata": {
  "kernelspec": {
   "display_name": "Python 3 (ipykernel)",
   "language": "python",
   "name": "python3"
  },
  "language_info": {
   "codemirror_mode": {
    "name": "ipython",
    "version": 3
   },
   "file_extension": ".py",
   "mimetype": "text/x-python",
   "name": "python",
   "nbconvert_exporter": "python",
   "pygments_lexer": "ipython3",
   "version": "3.9.4"
  }
 },
 "nbformat": 4,
 "nbformat_minor": 5
}
