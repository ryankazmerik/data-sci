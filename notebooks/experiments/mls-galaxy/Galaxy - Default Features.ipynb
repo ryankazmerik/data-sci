{
 "cells": [
  {
   "cell_type": "markdown",
   "id": "6ee08766-25fd-4da1-91b8-b0c3e74db588",
   "metadata": {},
   "source": [
    "# LA Galaxy - Default Retention Model\n",
    "* StelllarAlgo Data Science\n",
    "* Ryan Kazmerik & Nakisa Rad\n",
    "* Jan 14, 2022"
   ]
  },
  {
   "cell_type": "markdown",
   "id": "39108c8d-2e9f-4759-ade2-83071038dc56",
   "metadata": {},
   "source": [
    "## Hypothesis\n",
    "This notebook contains the data pre-processing, model training and evaluation of the Coyotes retention model with the default StellarAlgo features. We think that the distToVenue feature could be a significant indicator for Full Season ticket buyers."
   ]
  },
  {
   "cell_type": "markdown",
   "id": "28142011-1f32-4cc7-816b-a6dae6f70c8c",
   "metadata": {},
   "source": [
    "## Experiment\n",
    "This section details our experiment including querying data, data transformations, feature selection and modelling."
   ]
  },
  {
   "cell_type": "code",
   "execution_count": 1,
   "id": "4c533efd-600e-4bce-8203-faffbddfa700",
   "metadata": {},
   "outputs": [],
   "source": [
    "import getpass\n",
    "import pyodbc\n",
    "import pandas as pd\n",
    "import warnings\n",
    "import matplotlib.pyplot as plt\n",
    "\n",
    "from pycaret.classification import *\n",
    "from ngboost import NGBClassifier\n",
    "\n",
    "warnings.filterwarnings('ignore')\n",
    "warnings.simplefilter('ignore')"
   ]
  },
  {
   "cell_type": "markdown",
   "id": "b64ae7d5-84af-4915-bd13-1dd9d17098a3",
   "metadata": {},
   "source": [
    "### Let's connect to MSSQL and run a stored proc to get our dataset:"
   ]
  },
  {
   "cell_type": "code",
   "execution_count": 2,
   "id": "ae561eb4-f419-4d46-b5e0-12fac9b10db8",
   "metadata": {},
   "outputs": [
    {
     "name": "stdin",
     "output_type": "stream",
     "text": [
      "Enter your password ··················\n"
     ]
    }
   ],
   "source": [
    "# connect to SQL Server.\n",
    "SERVER = '34.206.73.189' \n",
    "DATABASE = 'datascience' \n",
    "USERNAME = 'dsAdminWrite' \n",
    "PASSWORD = getpass.getpass(prompt='Enter your password')\n",
    "CNXN = pyodbc.connect('DRIVER={ODBC Driver 17 for SQL Server};SERVER='+SERVER+';DATABASE='+DATABASE+';UID='+USERNAME+';PWD='+ PASSWORD)"
   ]
  },
  {
   "cell_type": "code",
   "execution_count": 3,
   "id": "af1afe7d-a35b-494b-88f3-980fb0e3da30",
   "metadata": {},
   "outputs": [
    {
     "data": {
      "text/plain": [
       "(25743, 54)"
      ]
     },
     "execution_count": 3,
     "metadata": {},
     "output_type": "execute_result"
    }
   ],
   "source": [
    "lkupclientid = 6 # galaxy\n",
    "cursor = CNXN.cursor()\n",
    "\n",
    "storedProc = (\n",
    "    f\"\"\"Exec [stlrMLS].[ds].[getRetentionScoringModelData] {lkupclientid}\"\"\"\n",
    ")\n",
    "\n",
    "df = pd.read_sql(storedProc, CNXN)\n",
    "\n",
    "# apply some data transformations\n",
    "df[\"year\"] = pd.to_numeric(df[\"year\"])\n",
    "\n",
    "CNXN.commit()\n",
    "cursor.close()\n",
    "\n",
    "df.shape"
   ]
  },
  {
   "cell_type": "markdown",
   "id": "ab40da92-72a7-49c1-9829-ed3805a39719",
   "metadata": {},
   "source": [
    "### Let's specify the default SA features for our model:"
   ]
  },
  {
   "cell_type": "code",
   "execution_count": 4,
   "id": "788f1273-8b7a-46bd-a099-1a471feeacc5",
   "metadata": {},
   "outputs": [
    {
     "name": "stdout",
     "output_type": "stream",
     "text": [
      "Data for Modeling: (14111, 9)\n",
      "Unseen Data For Predictions: (2490, 9)\n",
      "\n"
     ]
    }
   ],
   "source": [
    "# choose the features for the stellar base retention model\n",
    "features = [\n",
    "    \"dimCustomerMasterId\",\n",
    "    \"attendancePercent\",\n",
    "    \"distToVenue\",\n",
    "    \"isNextYear_Buyer\",\n",
    "    \"productGrouping\",\n",
    "    \"recency\",\n",
    "    \"source_tenure\",\n",
    "    \"totalSpent\",\n",
    "    \"year\"\n",
    "]\n",
    "\n",
    "# copy your main dataframe\n",
    "df_dataset = df\n",
    "\n",
    "# choose the features & train year & test year\n",
    "df_dataset = df_dataset[features]\n",
    "df_dataset = df_dataset.loc[df_dataset[\"year\"] <= 2019]\n",
    "\n",
    "df_train = df_dataset.sample(frac=0.85, random_state=786)\n",
    "df_eval = df_dataset.drop(df_train.index)\n",
    "\n",
    "df_train.reset_index(drop=True, inplace=True)\n",
    "df_eval.reset_index(drop=True, inplace=True)\n",
    "\n",
    "# print out the number of records for training and eval\n",
    "print('Data for Modeling: ' + str(df_train.shape))\n",
    "print('Unseen Data For Predictions: ' + str(df_eval.shape), end=\"\\n\\n\")"
   ]
  },
  {
   "cell_type": "markdown",
   "id": "4f2da06d-9015-49fd-89b3-956c2ebf66e9",
   "metadata": {},
   "source": [
    "### Now we can model the data using a binary classification prediction for the isnextyear_buyer field to see how likely a customer is to re-purchase."
   ]
  },
  {
   "cell_type": "code",
   "execution_count": 5,
   "id": "23a69cdc-b3ec-48c8-9ce5-29f617779389",
   "metadata": {},
   "outputs": [],
   "source": [
    "setup(\n",
    "    data= df_train, \n",
    "    target=\"isNextYear_Buyer\", \n",
    "    train_size = 0.85,\n",
    "    data_split_shuffle=True,\n",
    "    ignore_features=[\"dimCustomerMasterId\",\"productGrouping\",\"year\"],\n",
    "    silent=True,\n",
    "    verbose=False,\n",
    "    numeric_features=[\n",
    "        \"attendancePercent\",\n",
    "        \"distToVenue\",\n",
    "        \"recency\",\n",
    "        \"source_tenure\",\n",
    "        \"totalSpent\"\n",
    "    ]\n",
    ");"
   ]
  },
  {
   "cell_type": "markdown",
   "id": "6e1e33e8-ed5f-4e84-abb2-a2fc8370905c",
   "metadata": {},
   "source": [
    "### Let's compare all models to evaluate performance. The output prints a score grid that shows average Accuracy, AUC, Recall, Precision, F1 and Kappa accross the folds (10 by default) along with training time:"
   ]
  },
  {
   "cell_type": "code",
   "execution_count": 6,
   "id": "ef2db9d2-02c2-45c0-b6bb-5cad42c373ce",
   "metadata": {},
   "outputs": [
    {
     "data": {
      "text/html": [
       "<style  type=\"text/css\" >\n",
       "    #T_d0326_ th {\n",
       "          text-align: left;\n",
       "    }#T_d0326_row0_col0,#T_d0326_row0_col3,#T_d0326_row1_col0,#T_d0326_row1_col1,#T_d0326_row1_col2,#T_d0326_row1_col3,#T_d0326_row1_col4,#T_d0326_row1_col5,#T_d0326_row1_col6,#T_d0326_row1_col7,#T_d0326_row2_col0,#T_d0326_row2_col1,#T_d0326_row2_col2,#T_d0326_row2_col4,#T_d0326_row2_col5,#T_d0326_row2_col6,#T_d0326_row2_col7,#T_d0326_row3_col0,#T_d0326_row3_col1,#T_d0326_row3_col2,#T_d0326_row3_col3,#T_d0326_row3_col4,#T_d0326_row3_col5,#T_d0326_row3_col6,#T_d0326_row3_col7,#T_d0326_row4_col0,#T_d0326_row4_col1,#T_d0326_row4_col2,#T_d0326_row4_col3,#T_d0326_row4_col4,#T_d0326_row4_col5,#T_d0326_row4_col6,#T_d0326_row4_col7,#T_d0326_row5_col0,#T_d0326_row5_col1,#T_d0326_row5_col2,#T_d0326_row5_col3,#T_d0326_row5_col4,#T_d0326_row5_col5,#T_d0326_row5_col6,#T_d0326_row5_col7,#T_d0326_row6_col0,#T_d0326_row6_col1,#T_d0326_row6_col2,#T_d0326_row6_col3,#T_d0326_row6_col4,#T_d0326_row6_col5,#T_d0326_row6_col6,#T_d0326_row6_col7,#T_d0326_row7_col0,#T_d0326_row7_col1,#T_d0326_row7_col2,#T_d0326_row7_col3,#T_d0326_row7_col4,#T_d0326_row7_col5,#T_d0326_row7_col6,#T_d0326_row7_col7,#T_d0326_row8_col0,#T_d0326_row8_col1,#T_d0326_row8_col2,#T_d0326_row8_col3,#T_d0326_row8_col4,#T_d0326_row8_col5,#T_d0326_row8_col6,#T_d0326_row8_col7,#T_d0326_row9_col0,#T_d0326_row9_col1,#T_d0326_row9_col2,#T_d0326_row9_col3,#T_d0326_row9_col4,#T_d0326_row9_col5,#T_d0326_row9_col6,#T_d0326_row9_col7,#T_d0326_row10_col0,#T_d0326_row10_col1,#T_d0326_row10_col2,#T_d0326_row10_col3,#T_d0326_row10_col4,#T_d0326_row10_col5,#T_d0326_row10_col6,#T_d0326_row10_col7,#T_d0326_row11_col0,#T_d0326_row11_col1,#T_d0326_row11_col2,#T_d0326_row11_col3,#T_d0326_row11_col4,#T_d0326_row11_col5,#T_d0326_row11_col6,#T_d0326_row11_col7{\n",
       "            text-align:  left;\n",
       "            text-align:  left;\n",
       "        }#T_d0326_row0_col1,#T_d0326_row0_col2,#T_d0326_row0_col4,#T_d0326_row0_col5,#T_d0326_row0_col6,#T_d0326_row0_col7,#T_d0326_row2_col3{\n",
       "            text-align:  left;\n",
       "            text-align:  left;\n",
       "            background-color:  yellow;\n",
       "        }#T_d0326_row0_col8,#T_d0326_row1_col8,#T_d0326_row2_col8,#T_d0326_row3_col8,#T_d0326_row4_col8,#T_d0326_row5_col8,#T_d0326_row6_col8,#T_d0326_row7_col8,#T_d0326_row9_col8,#T_d0326_row10_col8,#T_d0326_row11_col8{\n",
       "            text-align:  left;\n",
       "            text-align:  left;\n",
       "            background-color:  lightgrey;\n",
       "        }#T_d0326_row8_col8{\n",
       "            text-align:  left;\n",
       "            text-align:  left;\n",
       "            background-color:  yellow;\n",
       "            background-color:  lightgrey;\n",
       "        }</style><table id=\"T_d0326_\" ><thead>    <tr>        <th class=\"blank level0\" ></th>        <th class=\"col_heading level0 col0\" >Model</th>        <th class=\"col_heading level0 col1\" >Accuracy</th>        <th class=\"col_heading level0 col2\" >AUC</th>        <th class=\"col_heading level0 col3\" >Recall</th>        <th class=\"col_heading level0 col4\" >Prec.</th>        <th class=\"col_heading level0 col5\" >F1</th>        <th class=\"col_heading level0 col6\" >Kappa</th>        <th class=\"col_heading level0 col7\" >MCC</th>        <th class=\"col_heading level0 col8\" >TT (Sec)</th>    </tr></thead><tbody>\n",
       "                <tr>\n",
       "                        <th id=\"T_d0326_level0_row0\" class=\"row_heading level0 row0\" >lightgbm</th>\n",
       "                        <td id=\"T_d0326_row0_col0\" class=\"data row0 col0\" >Light Gradient Boosting Machine</td>\n",
       "                        <td id=\"T_d0326_row0_col1\" class=\"data row0 col1\" >0.7490</td>\n",
       "                        <td id=\"T_d0326_row0_col2\" class=\"data row0 col2\" >0.8122</td>\n",
       "                        <td id=\"T_d0326_row0_col3\" class=\"data row0 col3\" >0.8484</td>\n",
       "                        <td id=\"T_d0326_row0_col4\" class=\"data row0 col4\" >0.7515</td>\n",
       "                        <td id=\"T_d0326_row0_col5\" class=\"data row0 col5\" >0.7970</td>\n",
       "                        <td id=\"T_d0326_row0_col6\" class=\"data row0 col6\" >0.4713</td>\n",
       "                        <td id=\"T_d0326_row0_col7\" class=\"data row0 col7\" >0.4774</td>\n",
       "                        <td id=\"T_d0326_row0_col8\" class=\"data row0 col8\" >0.5180</td>\n",
       "            </tr>\n",
       "            <tr>\n",
       "                        <th id=\"T_d0326_level0_row1\" class=\"row_heading level0 row1\" >gbc</th>\n",
       "                        <td id=\"T_d0326_row1_col0\" class=\"data row1 col0\" >Gradient Boosting Classifier</td>\n",
       "                        <td id=\"T_d0326_row1_col1\" class=\"data row1 col1\" >0.7449</td>\n",
       "                        <td id=\"T_d0326_row1_col2\" class=\"data row1 col2\" >0.8115</td>\n",
       "                        <td id=\"T_d0326_row1_col3\" class=\"data row1 col3\" >0.8547</td>\n",
       "                        <td id=\"T_d0326_row1_col4\" class=\"data row1 col4\" >0.7442</td>\n",
       "                        <td id=\"T_d0326_row1_col5\" class=\"data row1 col5\" >0.7956</td>\n",
       "                        <td id=\"T_d0326_row1_col6\" class=\"data row1 col6\" >0.4605</td>\n",
       "                        <td id=\"T_d0326_row1_col7\" class=\"data row1 col7\" >0.4685</td>\n",
       "                        <td id=\"T_d0326_row1_col8\" class=\"data row1 col8\" >0.1100</td>\n",
       "            </tr>\n",
       "            <tr>\n",
       "                        <th id=\"T_d0326_level0_row2\" class=\"row_heading level0 row2\" >ada</th>\n",
       "                        <td id=\"T_d0326_row2_col0\" class=\"data row2 col0\" >Ada Boost Classifier</td>\n",
       "                        <td id=\"T_d0326_row2_col1\" class=\"data row2 col1\" >0.7415</td>\n",
       "                        <td id=\"T_d0326_row2_col2\" class=\"data row2 col2\" >0.8012</td>\n",
       "                        <td id=\"T_d0326_row2_col3\" class=\"data row2 col3\" >0.8580</td>\n",
       "                        <td id=\"T_d0326_row2_col4\" class=\"data row2 col4\" >0.7390</td>\n",
       "                        <td id=\"T_d0326_row2_col5\" class=\"data row2 col5\" >0.7941</td>\n",
       "                        <td id=\"T_d0326_row2_col6\" class=\"data row2 col6\" >0.4522</td>\n",
       "                        <td id=\"T_d0326_row2_col7\" class=\"data row2 col7\" >0.4615</td>\n",
       "                        <td id=\"T_d0326_row2_col8\" class=\"data row2 col8\" >0.0440</td>\n",
       "            </tr>\n",
       "            <tr>\n",
       "                        <th id=\"T_d0326_level0_row3\" class=\"row_heading level0 row3\" >xgboost</th>\n",
       "                        <td id=\"T_d0326_row3_col0\" class=\"data row3 col0\" >Extreme Gradient Boosting</td>\n",
       "                        <td id=\"T_d0326_row3_col1\" class=\"data row3 col1\" >0.7398</td>\n",
       "                        <td id=\"T_d0326_row3_col2\" class=\"data row3 col2\" >0.8031</td>\n",
       "                        <td id=\"T_d0326_row3_col3\" class=\"data row3 col3\" >0.8330</td>\n",
       "                        <td id=\"T_d0326_row3_col4\" class=\"data row3 col4\" >0.7478</td>\n",
       "                        <td id=\"T_d0326_row3_col5\" class=\"data row3 col5\" >0.7881</td>\n",
       "                        <td id=\"T_d0326_row3_col6\" class=\"data row3 col6\" >0.4536</td>\n",
       "                        <td id=\"T_d0326_row3_col7\" class=\"data row3 col7\" >0.4582</td>\n",
       "                        <td id=\"T_d0326_row3_col8\" class=\"data row3 col8\" >0.3650</td>\n",
       "            </tr>\n",
       "            <tr>\n",
       "                        <th id=\"T_d0326_level0_row4\" class=\"row_heading level0 row4\" >rf</th>\n",
       "                        <td id=\"T_d0326_row4_col0\" class=\"data row4 col0\" >Random Forest Classifier</td>\n",
       "                        <td id=\"T_d0326_row4_col1\" class=\"data row4 col1\" >0.7309</td>\n",
       "                        <td id=\"T_d0326_row4_col2\" class=\"data row4 col2\" >0.7945</td>\n",
       "                        <td id=\"T_d0326_row4_col3\" class=\"data row4 col3\" >0.8171</td>\n",
       "                        <td id=\"T_d0326_row4_col4\" class=\"data row4 col4\" >0.7445</td>\n",
       "                        <td id=\"T_d0326_row4_col5\" class=\"data row4 col5\" >0.7791</td>\n",
       "                        <td id=\"T_d0326_row4_col6\" class=\"data row4 col6\" >0.4367</td>\n",
       "                        <td id=\"T_d0326_row4_col7\" class=\"data row4 col7\" >0.4399</td>\n",
       "                        <td id=\"T_d0326_row4_col8\" class=\"data row4 col8\" >0.2320</td>\n",
       "            </tr>\n",
       "            <tr>\n",
       "                        <th id=\"T_d0326_level0_row5\" class=\"row_heading level0 row5\" >et</th>\n",
       "                        <td id=\"T_d0326_row5_col0\" class=\"data row5 col0\" >Extra Trees Classifier</td>\n",
       "                        <td id=\"T_d0326_row5_col1\" class=\"data row5 col1\" >0.7251</td>\n",
       "                        <td id=\"T_d0326_row5_col2\" class=\"data row5 col2\" >0.7827</td>\n",
       "                        <td id=\"T_d0326_row5_col3\" class=\"data row5 col3\" >0.8073</td>\n",
       "                        <td id=\"T_d0326_row5_col4\" class=\"data row5 col4\" >0.7422</td>\n",
       "                        <td id=\"T_d0326_row5_col5\" class=\"data row5 col5\" >0.7734</td>\n",
       "                        <td id=\"T_d0326_row5_col6\" class=\"data row5 col6\" >0.4257</td>\n",
       "                        <td id=\"T_d0326_row5_col7\" class=\"data row5 col7\" >0.4282</td>\n",
       "                        <td id=\"T_d0326_row5_col8\" class=\"data row5 col8\" >0.1850</td>\n",
       "            </tr>\n",
       "            <tr>\n",
       "                        <th id=\"T_d0326_level0_row6\" class=\"row_heading level0 row6\" >lr</th>\n",
       "                        <td id=\"T_d0326_row6_col0\" class=\"data row6 col0\" >Logistic Regression</td>\n",
       "                        <td id=\"T_d0326_row6_col1\" class=\"data row6 col1\" >0.6920</td>\n",
       "                        <td id=\"T_d0326_row6_col2\" class=\"data row6 col2\" >0.7374</td>\n",
       "                        <td id=\"T_d0326_row6_col3\" class=\"data row6 col3\" >0.7900</td>\n",
       "                        <td id=\"T_d0326_row6_col4\" class=\"data row6 col4\" >0.7117</td>\n",
       "                        <td id=\"T_d0326_row6_col5\" class=\"data row6 col5\" >0.7486</td>\n",
       "                        <td id=\"T_d0326_row6_col6\" class=\"data row6 col6\" >0.3537</td>\n",
       "                        <td id=\"T_d0326_row6_col7\" class=\"data row6 col7\" >0.3574</td>\n",
       "                        <td id=\"T_d0326_row6_col8\" class=\"data row6 col8\" >0.1270</td>\n",
       "            </tr>\n",
       "            <tr>\n",
       "                        <th id=\"T_d0326_level0_row7\" class=\"row_heading level0 row7\" >knn</th>\n",
       "                        <td id=\"T_d0326_row7_col0\" class=\"data row7 col0\" >K Neighbors Classifier</td>\n",
       "                        <td id=\"T_d0326_row7_col1\" class=\"data row7 col1\" >0.6849</td>\n",
       "                        <td id=\"T_d0326_row7_col2\" class=\"data row7 col2\" >0.7183</td>\n",
       "                        <td id=\"T_d0326_row7_col3\" class=\"data row7 col3\" >0.7880</td>\n",
       "                        <td id=\"T_d0326_row7_col4\" class=\"data row7 col4\" >0.7047</td>\n",
       "                        <td id=\"T_d0326_row7_col5\" class=\"data row7 col5\" >0.7439</td>\n",
       "                        <td id=\"T_d0326_row7_col6\" class=\"data row7 col6\" >0.3378</td>\n",
       "                        <td id=\"T_d0326_row7_col7\" class=\"data row7 col7\" >0.3415</td>\n",
       "                        <td id=\"T_d0326_row7_col8\" class=\"data row7 col8\" >0.1440</td>\n",
       "            </tr>\n",
       "            <tr>\n",
       "                        <th id=\"T_d0326_level0_row8\" class=\"row_heading level0 row8\" >ridge</th>\n",
       "                        <td id=\"T_d0326_row8_col0\" class=\"data row8 col0\" >Ridge Classifier</td>\n",
       "                        <td id=\"T_d0326_row8_col1\" class=\"data row8 col1\" >0.6845</td>\n",
       "                        <td id=\"T_d0326_row8_col2\" class=\"data row8 col2\" >0.0000</td>\n",
       "                        <td id=\"T_d0326_row8_col3\" class=\"data row8 col3\" >0.7753</td>\n",
       "                        <td id=\"T_d0326_row8_col4\" class=\"data row8 col4\" >0.7089</td>\n",
       "                        <td id=\"T_d0326_row8_col5\" class=\"data row8 col5\" >0.7406</td>\n",
       "                        <td id=\"T_d0326_row8_col6\" class=\"data row8 col6\" >0.3401</td>\n",
       "                        <td id=\"T_d0326_row8_col7\" class=\"data row8 col7\" >0.3425</td>\n",
       "                        <td id=\"T_d0326_row8_col8\" class=\"data row8 col8\" >0.0050</td>\n",
       "            </tr>\n",
       "            <tr>\n",
       "                        <th id=\"T_d0326_level0_row9\" class=\"row_heading level0 row9\" >nb</th>\n",
       "                        <td id=\"T_d0326_row9_col0\" class=\"data row9 col0\" >Naive Bayes</td>\n",
       "                        <td id=\"T_d0326_row9_col1\" class=\"data row9 col1\" >0.6697</td>\n",
       "                        <td id=\"T_d0326_row9_col2\" class=\"data row9 col2\" >0.7264</td>\n",
       "                        <td id=\"T_d0326_row9_col3\" class=\"data row9 col3\" >0.8570</td>\n",
       "                        <td id=\"T_d0326_row9_col4\" class=\"data row9 col4\" >0.6718</td>\n",
       "                        <td id=\"T_d0326_row9_col5\" class=\"data row9 col5\" >0.7483</td>\n",
       "                        <td id=\"T_d0326_row9_col6\" class=\"data row9 col6\" >0.2820</td>\n",
       "                        <td id=\"T_d0326_row9_col7\" class=\"data row9 col7\" >0.3119</td>\n",
       "                        <td id=\"T_d0326_row9_col8\" class=\"data row9 col8\" >0.0100</td>\n",
       "            </tr>\n",
       "            <tr>\n",
       "                        <th id=\"T_d0326_level0_row10\" class=\"row_heading level0 row10\" >dt</th>\n",
       "                        <td id=\"T_d0326_row10_col0\" class=\"data row10 col0\" >Decision Tree Classifier</td>\n",
       "                        <td id=\"T_d0326_row10_col1\" class=\"data row10 col1\" >0.6595</td>\n",
       "                        <td id=\"T_d0326_row10_col2\" class=\"data row10 col2\" >0.6510</td>\n",
       "                        <td id=\"T_d0326_row10_col3\" class=\"data row10 col3\" >0.7044</td>\n",
       "                        <td id=\"T_d0326_row10_col4\" class=\"data row10 col4\" >0.7079</td>\n",
       "                        <td id=\"T_d0326_row10_col5\" class=\"data row10 col5\" >0.7061</td>\n",
       "                        <td id=\"T_d0326_row10_col6\" class=\"data row10 col6\" >0.3014</td>\n",
       "                        <td id=\"T_d0326_row10_col7\" class=\"data row10 col7\" >0.3015</td>\n",
       "                        <td id=\"T_d0326_row10_col8\" class=\"data row10 col8\" >0.0100</td>\n",
       "            </tr>\n",
       "            <tr>\n",
       "                        <th id=\"T_d0326_level0_row11\" class=\"row_heading level0 row11\" >svm</th>\n",
       "                        <td id=\"T_d0326_row11_col0\" class=\"data row11 col0\" >SVM - Linear Kernel</td>\n",
       "                        <td id=\"T_d0326_row11_col1\" class=\"data row11 col1\" >0.5399</td>\n",
       "                        <td id=\"T_d0326_row11_col2\" class=\"data row11 col2\" >0.0000</td>\n",
       "                        <td id=\"T_d0326_row11_col3\" class=\"data row11 col3\" >0.5539</td>\n",
       "                        <td id=\"T_d0326_row11_col4\" class=\"data row11 col4\" >0.4704</td>\n",
       "                        <td id=\"T_d0326_row11_col5\" class=\"data row11 col5\" >0.4611</td>\n",
       "                        <td id=\"T_d0326_row11_col6\" class=\"data row11 col6\" >0.0795</td>\n",
       "                        <td id=\"T_d0326_row11_col7\" class=\"data row11 col7\" >0.1088</td>\n",
       "                        <td id=\"T_d0326_row11_col8\" class=\"data row11 col8\" >0.0080</td>\n",
       "            </tr>\n",
       "    </tbody></table>"
      ],
      "text/plain": [
       "<pandas.io.formats.style.Styler at 0x7fe51b2cfad0>"
      ]
     },
     "metadata": {},
     "output_type": "display_data"
    },
    {
     "name": "stdout",
     "output_type": "stream",
     "text": [
      "[iter 0] loss=0.6800 val_loss=0.0000 scale=2.0000 norm=4.0000\n",
      "[iter 100] loss=0.5415 val_loss=0.0000 scale=2.0000 norm=3.7059\n",
      "[iter 200] loss=0.5213 val_loss=0.0000 scale=2.0000 norm=3.7813\n",
      "[iter 300] loss=0.5146 val_loss=0.0000 scale=2.0000 norm=3.8112\n",
      "[iter 400] loss=0.5119 val_loss=0.0000 scale=2.0000 norm=3.8288\n"
     ]
    },
    {
     "name": "stderr",
     "output_type": "stream",
     "text": [
      "/opt/miniconda3/envs/stellar/lib/python3.7/site-packages/sklearn/utils/deprecation.py:101: FutureWarning: Attribute standard_coef_ was deprecated in version 0.23 and will be removed in 0.25.\n",
      "  warnings.warn(msg, category=FutureWarning)\n",
      "/opt/miniconda3/envs/stellar/lib/python3.7/site-packages/sklearn/utils/deprecation.py:101: FutureWarning: Attribute standard_intercept_ was deprecated in version 0.23 and will be removed in 0.25.\n",
      "  warnings.warn(msg, category=FutureWarning)\n",
      "/opt/miniconda3/envs/stellar/lib/python3.7/site-packages/sklearn/utils/deprecation.py:101: FutureWarning: Attribute average_coef_ was deprecated in version 0.23 and will be removed in 0.25.\n",
      "  warnings.warn(msg, category=FutureWarning)\n",
      "/opt/miniconda3/envs/stellar/lib/python3.7/site-packages/sklearn/utils/deprecation.py:101: FutureWarning: Attribute average_intercept_ was deprecated in version 0.23 and will be removed in 0.25.\n",
      "  warnings.warn(msg, category=FutureWarning)\n",
      "/opt/miniconda3/envs/stellar/lib/python3.7/site-packages/sklearn/linear_model/_ridge.py:148: LinAlgWarning: Ill-conditioned matrix (rcond=1.86187e-09): result may not be accurate.\n",
      "  overwrite_a=True).T\n",
      "/opt/miniconda3/envs/stellar/lib/python3.7/site-packages/sklearn/linear_model/_ridge.py:148: LinAlgWarning: Ill-conditioned matrix (rcond=1.80423e-09): result may not be accurate.\n",
      "  overwrite_a=True).T\n",
      "/opt/miniconda3/envs/stellar/lib/python3.7/site-packages/xgboost/sklearn.py:1146: UserWarning: The use of label encoder in XGBClassifier is deprecated and will be removed in a future release. To remove this warning, do the following: 1) Pass option use_label_encoder=False when constructing XGBClassifier object; and 2) Encode your labels (y) as integers starting with 0, i.e. 0, 1, 2, ..., [num_class - 1].\n",
      "  warnings.warn(label_encoder_deprecation_msg, UserWarning)\n"
     ]
    },
    {
     "name": "stdout",
     "output_type": "stream",
     "text": [
      "[iter 0] loss=0.6800 val_loss=0.0000 scale=2.0000 norm=4.0000\n",
      "[iter 100] loss=0.5410 val_loss=0.0000 scale=2.0000 norm=3.7042\n",
      "[iter 200] loss=0.5199 val_loss=0.0000 scale=1.0000 norm=1.8910\n",
      "[iter 300] loss=0.5140 val_loss=0.0000 scale=2.0000 norm=3.8061\n",
      "[iter 400] loss=0.5108 val_loss=0.0000 scale=1.0000 norm=1.9125\n"
     ]
    },
    {
     "name": "stderr",
     "output_type": "stream",
     "text": [
      "/opt/miniconda3/envs/stellar/lib/python3.7/site-packages/sklearn/utils/deprecation.py:101: FutureWarning: Attribute standard_coef_ was deprecated in version 0.23 and will be removed in 0.25.\n",
      "  warnings.warn(msg, category=FutureWarning)\n",
      "/opt/miniconda3/envs/stellar/lib/python3.7/site-packages/sklearn/utils/deprecation.py:101: FutureWarning: Attribute standard_intercept_ was deprecated in version 0.23 and will be removed in 0.25.\n",
      "  warnings.warn(msg, category=FutureWarning)\n",
      "/opt/miniconda3/envs/stellar/lib/python3.7/site-packages/sklearn/utils/deprecation.py:101: FutureWarning: Attribute average_coef_ was deprecated in version 0.23 and will be removed in 0.25.\n",
      "  warnings.warn(msg, category=FutureWarning)\n",
      "/opt/miniconda3/envs/stellar/lib/python3.7/site-packages/sklearn/utils/deprecation.py:101: FutureWarning: Attribute average_intercept_ was deprecated in version 0.23 and will be removed in 0.25.\n",
      "  warnings.warn(msg, category=FutureWarning)\n",
      "/opt/miniconda3/envs/stellar/lib/python3.7/site-packages/sklearn/utils/deprecation.py:101: FutureWarning: Attribute standard_coef_ was deprecated in version 0.23 and will be removed in 0.25.\n",
      "  warnings.warn(msg, category=FutureWarning)\n",
      "/opt/miniconda3/envs/stellar/lib/python3.7/site-packages/sklearn/utils/deprecation.py:101: FutureWarning: Attribute standard_intercept_ was deprecated in version 0.23 and will be removed in 0.25.\n",
      "  warnings.warn(msg, category=FutureWarning)\n",
      "/opt/miniconda3/envs/stellar/lib/python3.7/site-packages/sklearn/utils/deprecation.py:101: FutureWarning: Attribute average_coef_ was deprecated in version 0.23 and will be removed in 0.25.\n",
      "  warnings.warn(msg, category=FutureWarning)\n",
      "/opt/miniconda3/envs/stellar/lib/python3.7/site-packages/sklearn/utils/deprecation.py:101: FutureWarning: Attribute average_intercept_ was deprecated in version 0.23 and will be removed in 0.25.\n",
      "  warnings.warn(msg, category=FutureWarning)\n",
      "/opt/miniconda3/envs/stellar/lib/python3.7/site-packages/sklearn/linear_model/_ridge.py:148: LinAlgWarning: Ill-conditioned matrix (rcond=2.15917e-09): result may not be accurate.\n",
      "  overwrite_a=True).T\n",
      "/opt/miniconda3/envs/stellar/lib/python3.7/site-packages/xgboost/sklearn.py:1146: UserWarning: The use of label encoder in XGBClassifier is deprecated and will be removed in a future release. To remove this warning, do the following: 1) Pass option use_label_encoder=False when constructing XGBClassifier object; and 2) Encode your labels (y) as integers starting with 0, i.e. 0, 1, 2, ..., [num_class - 1].\n",
      "  warnings.warn(label_encoder_deprecation_msg, UserWarning)\n"
     ]
    },
    {
     "name": "stdout",
     "output_type": "stream",
     "text": [
      "[iter 0] loss=0.6800 val_loss=0.0000 scale=2.0000 norm=4.0000\n",
      "[iter 100] loss=0.5395 val_loss=0.0000 scale=2.0000 norm=3.6993\n",
      "[iter 200] loss=0.5201 val_loss=0.0000 scale=2.0000 norm=3.7662\n",
      "[iter 300] loss=0.5143 val_loss=0.0000 scale=2.0000 norm=3.7951\n",
      "[iter 400] loss=0.5113 val_loss=0.0000 scale=2.0000 norm=3.8128\n",
      "[iter 0] loss=0.6801 val_loss=0.0000 scale=2.0000 norm=4.0000\n",
      "[iter 100] loss=0.5417 val_loss=0.0000 scale=2.0000 norm=3.7055\n",
      "[iter 200] loss=0.5213 val_loss=0.0000 scale=1.0000 norm=1.8920\n",
      "[iter 300] loss=0.5149 val_loss=0.0000 scale=1.0000 norm=1.9084\n",
      "[iter 400] loss=0.5131 val_loss=0.0000 scale=0.5000 norm=0.9582\n"
     ]
    },
    {
     "name": "stderr",
     "output_type": "stream",
     "text": [
      "/opt/miniconda3/envs/stellar/lib/python3.7/site-packages/sklearn/utils/deprecation.py:101: FutureWarning: Attribute standard_coef_ was deprecated in version 0.23 and will be removed in 0.25.\n",
      "  warnings.warn(msg, category=FutureWarning)\n",
      "/opt/miniconda3/envs/stellar/lib/python3.7/site-packages/sklearn/utils/deprecation.py:101: FutureWarning: Attribute standard_intercept_ was deprecated in version 0.23 and will be removed in 0.25.\n",
      "  warnings.warn(msg, category=FutureWarning)\n",
      "/opt/miniconda3/envs/stellar/lib/python3.7/site-packages/sklearn/utils/deprecation.py:101: FutureWarning: Attribute average_coef_ was deprecated in version 0.23 and will be removed in 0.25.\n",
      "  warnings.warn(msg, category=FutureWarning)\n",
      "/opt/miniconda3/envs/stellar/lib/python3.7/site-packages/sklearn/utils/deprecation.py:101: FutureWarning: Attribute average_intercept_ was deprecated in version 0.23 and will be removed in 0.25.\n",
      "  warnings.warn(msg, category=FutureWarning)\n",
      "/opt/miniconda3/envs/stellar/lib/python3.7/site-packages/sklearn/utils/deprecation.py:101: FutureWarning: Attribute standard_coef_ was deprecated in version 0.23 and will be removed in 0.25.\n",
      "  warnings.warn(msg, category=FutureWarning)\n",
      "/opt/miniconda3/envs/stellar/lib/python3.7/site-packages/sklearn/utils/deprecation.py:101: FutureWarning: Attribute standard_intercept_ was deprecated in version 0.23 and will be removed in 0.25.\n",
      "  warnings.warn(msg, category=FutureWarning)\n",
      "/opt/miniconda3/envs/stellar/lib/python3.7/site-packages/sklearn/utils/deprecation.py:101: FutureWarning: Attribute average_coef_ was deprecated in version 0.23 and will be removed in 0.25.\n",
      "  warnings.warn(msg, category=FutureWarning)\n",
      "/opt/miniconda3/envs/stellar/lib/python3.7/site-packages/sklearn/utils/deprecation.py:101: FutureWarning: Attribute average_intercept_ was deprecated in version 0.23 and will be removed in 0.25.\n",
      "  warnings.warn(msg, category=FutureWarning)\n"
     ]
    },
    {
     "name": "stdout",
     "output_type": "stream",
     "text": [
      "[iter 0] loss=0.6800 val_loss=0.0000 scale=2.0000 norm=4.0000\n",
      "[iter 100] loss=0.5377 val_loss=0.0000 scale=2.0000 norm=3.6954\n",
      "[iter 200] loss=0.5175 val_loss=0.0000 scale=2.0000 norm=3.7738\n",
      "[iter 300] loss=0.5118 val_loss=0.0000 scale=1.0000 norm=1.9035\n",
      "[iter 400] loss=0.5086 val_loss=0.0000 scale=1.0000 norm=1.9116\n"
     ]
    },
    {
     "name": "stderr",
     "output_type": "stream",
     "text": [
      "/opt/miniconda3/envs/stellar/lib/python3.7/site-packages/sklearn/utils/deprecation.py:101: FutureWarning: Attribute standard_coef_ was deprecated in version 0.23 and will be removed in 0.25.\n",
      "  warnings.warn(msg, category=FutureWarning)\n",
      "/opt/miniconda3/envs/stellar/lib/python3.7/site-packages/sklearn/utils/deprecation.py:101: FutureWarning: Attribute standard_intercept_ was deprecated in version 0.23 and will be removed in 0.25.\n",
      "  warnings.warn(msg, category=FutureWarning)\n",
      "/opt/miniconda3/envs/stellar/lib/python3.7/site-packages/sklearn/utils/deprecation.py:101: FutureWarning: Attribute average_coef_ was deprecated in version 0.23 and will be removed in 0.25.\n",
      "  warnings.warn(msg, category=FutureWarning)\n",
      "/opt/miniconda3/envs/stellar/lib/python3.7/site-packages/sklearn/utils/deprecation.py:101: FutureWarning: Attribute average_intercept_ was deprecated in version 0.23 and will be removed in 0.25.\n",
      "  warnings.warn(msg, category=FutureWarning)\n",
      "/opt/miniconda3/envs/stellar/lib/python3.7/site-packages/sklearn/metrics/_classification.py:1221: UndefinedMetricWarning: Precision is ill-defined and being set to 0.0 due to no predicted samples. Use `zero_division` parameter to control this behavior.\n",
      "  _warn_prf(average, modifier, msg_start, len(result))\n",
      "/opt/miniconda3/envs/stellar/lib/python3.7/site-packages/sklearn/metrics/_classification.py:846: RuntimeWarning: invalid value encountered in double_scalars\n",
      "  mcc = cov_ytyp / np.sqrt(cov_ytyt * cov_ypyp)\n",
      "/opt/miniconda3/envs/stellar/lib/python3.7/site-packages/sklearn/linear_model/_ridge.py:148: LinAlgWarning: Ill-conditioned matrix (rcond=1.74639e-09): result may not be accurate.\n",
      "  overwrite_a=True).T\n",
      "/opt/miniconda3/envs/stellar/lib/python3.7/site-packages/xgboost/sklearn.py:1146: UserWarning: The use of label encoder in XGBClassifier is deprecated and will be removed in a future release. To remove this warning, do the following: 1) Pass option use_label_encoder=False when constructing XGBClassifier object; and 2) Encode your labels (y) as integers starting with 0, i.e. 0, 1, 2, ..., [num_class - 1].\n",
      "  warnings.warn(label_encoder_deprecation_msg, UserWarning)\n",
      "/opt/miniconda3/envs/stellar/lib/python3.7/site-packages/sklearn/linear_model/_ridge.py:148: LinAlgWarning: Ill-conditioned matrix (rcond=1.77531e-09): result may not be accurate.\n",
      "  overwrite_a=True).T\n",
      "/opt/miniconda3/envs/stellar/lib/python3.7/site-packages/xgboost/sklearn.py:1146: UserWarning: The use of label encoder in XGBClassifier is deprecated and will be removed in a future release. To remove this warning, do the following: 1) Pass option use_label_encoder=False when constructing XGBClassifier object; and 2) Encode your labels (y) as integers starting with 0, i.e. 0, 1, 2, ..., [num_class - 1].\n",
      "  warnings.warn(label_encoder_deprecation_msg, UserWarning)\n"
     ]
    },
    {
     "name": "stdout",
     "output_type": "stream",
     "text": [
      "[iter 0] loss=0.6800 val_loss=0.0000 scale=2.0000 norm=4.0000\n",
      "[iter 100] loss=0.5399 val_loss=0.0000 scale=2.0000 norm=3.7035\n",
      "[iter 200] loss=0.5187 val_loss=0.0000 scale=2.0000 norm=3.7814\n",
      "[iter 300] loss=0.5130 val_loss=0.0000 scale=2.0000 norm=3.8219\n",
      "[iter 400] loss=0.5111 val_loss=0.0000 scale=0.5000 norm=0.9593\n"
     ]
    },
    {
     "name": "stderr",
     "output_type": "stream",
     "text": [
      "/opt/miniconda3/envs/stellar/lib/python3.7/site-packages/sklearn/linear_model/_ridge.py:148: LinAlgWarning: Ill-conditioned matrix (rcond=1.84e-09): result may not be accurate.\n",
      "  overwrite_a=True).T\n",
      "/opt/miniconda3/envs/stellar/lib/python3.7/site-packages/xgboost/sklearn.py:1146: UserWarning: The use of label encoder in XGBClassifier is deprecated and will be removed in a future release. To remove this warning, do the following: 1) Pass option use_label_encoder=False when constructing XGBClassifier object; and 2) Encode your labels (y) as integers starting with 0, i.e. 0, 1, 2, ..., [num_class - 1].\n",
      "  warnings.warn(label_encoder_deprecation_msg, UserWarning)\n"
     ]
    },
    {
     "name": "stdout",
     "output_type": "stream",
     "text": [
      "[iter 0] loss=0.6800 val_loss=0.0000 scale=2.0000 norm=4.0000\n",
      "[iter 100] loss=0.5389 val_loss=0.0000 scale=2.0000 norm=3.6983\n",
      "[iter 200] loss=0.5184 val_loss=0.0000 scale=1.0000 norm=1.8841\n",
      "[iter 300] loss=0.5108 val_loss=0.0000 scale=1.0000 norm=1.8997\n",
      "[iter 400] loss=0.5075 val_loss=0.0000 scale=1.0000 norm=1.9080\n"
     ]
    },
    {
     "name": "stderr",
     "output_type": "stream",
     "text": [
      "/opt/miniconda3/envs/stellar/lib/python3.7/site-packages/xgboost/sklearn.py:1146: UserWarning: The use of label encoder in XGBClassifier is deprecated and will be removed in a future release. To remove this warning, do the following: 1) Pass option use_label_encoder=False when constructing XGBClassifier object; and 2) Encode your labels (y) as integers starting with 0, i.e. 0, 1, 2, ..., [num_class - 1].\n",
      "  warnings.warn(label_encoder_deprecation_msg, UserWarning)\n",
      "/opt/miniconda3/envs/stellar/lib/python3.7/site-packages/sklearn/utils/deprecation.py:101: FutureWarning: Attribute standard_coef_ was deprecated in version 0.23 and will be removed in 0.25.\n",
      "  warnings.warn(msg, category=FutureWarning)\n",
      "/opt/miniconda3/envs/stellar/lib/python3.7/site-packages/sklearn/utils/deprecation.py:101: FutureWarning: Attribute standard_intercept_ was deprecated in version 0.23 and will be removed in 0.25.\n",
      "  warnings.warn(msg, category=FutureWarning)\n",
      "/opt/miniconda3/envs/stellar/lib/python3.7/site-packages/sklearn/utils/deprecation.py:101: FutureWarning: Attribute average_coef_ was deprecated in version 0.23 and will be removed in 0.25.\n",
      "  warnings.warn(msg, category=FutureWarning)\n",
      "/opt/miniconda3/envs/stellar/lib/python3.7/site-packages/sklearn/utils/deprecation.py:101: FutureWarning: Attribute average_intercept_ was deprecated in version 0.23 and will be removed in 0.25.\n",
      "  warnings.warn(msg, category=FutureWarning)\n",
      "/opt/miniconda3/envs/stellar/lib/python3.7/site-packages/sklearn/metrics/_classification.py:1221: UndefinedMetricWarning: Precision is ill-defined and being set to 0.0 due to no predicted samples. Use `zero_division` parameter to control this behavior.\n",
      "  _warn_prf(average, modifier, msg_start, len(result))\n",
      "/opt/miniconda3/envs/stellar/lib/python3.7/site-packages/sklearn/metrics/_classification.py:846: RuntimeWarning: invalid value encountered in double_scalars\n",
      "  mcc = cov_ytyp / np.sqrt(cov_ytyt * cov_ypyp)\n",
      "/opt/miniconda3/envs/stellar/lib/python3.7/site-packages/xgboost/sklearn.py:1146: UserWarning: The use of label encoder in XGBClassifier is deprecated and will be removed in a future release. To remove this warning, do the following: 1) Pass option use_label_encoder=False when constructing XGBClassifier object; and 2) Encode your labels (y) as integers starting with 0, i.e. 0, 1, 2, ..., [num_class - 1].\n",
      "  warnings.warn(label_encoder_deprecation_msg, UserWarning)\n",
      "/opt/miniconda3/envs/stellar/lib/python3.7/site-packages/sklearn/utils/deprecation.py:101: FutureWarning: Attribute standard_coef_ was deprecated in version 0.23 and will be removed in 0.25.\n",
      "  warnings.warn(msg, category=FutureWarning)\n",
      "/opt/miniconda3/envs/stellar/lib/python3.7/site-packages/sklearn/utils/deprecation.py:101: FutureWarning: Attribute standard_intercept_ was deprecated in version 0.23 and will be removed in 0.25.\n",
      "  warnings.warn(msg, category=FutureWarning)\n",
      "/opt/miniconda3/envs/stellar/lib/python3.7/site-packages/sklearn/utils/deprecation.py:101: FutureWarning: Attribute average_coef_ was deprecated in version 0.23 and will be removed in 0.25.\n",
      "  warnings.warn(msg, category=FutureWarning)\n",
      "/opt/miniconda3/envs/stellar/lib/python3.7/site-packages/sklearn/utils/deprecation.py:101: FutureWarning: Attribute average_intercept_ was deprecated in version 0.23 and will be removed in 0.25.\n",
      "  warnings.warn(msg, category=FutureWarning)\n",
      "/opt/miniconda3/envs/stellar/lib/python3.7/site-packages/sklearn/linear_model/_ridge.py:148: LinAlgWarning: Ill-conditioned matrix (rcond=2.2603e-09): result may not be accurate.\n",
      "  overwrite_a=True).T\n",
      "/opt/miniconda3/envs/stellar/lib/python3.7/site-packages/sklearn/linear_model/_ridge.py:148: LinAlgWarning: Ill-conditioned matrix (rcond=2.18649e-09): result may not be accurate.\n",
      "  overwrite_a=True).T\n",
      "/opt/miniconda3/envs/stellar/lib/python3.7/site-packages/xgboost/sklearn.py:1146: UserWarning: The use of label encoder in XGBClassifier is deprecated and will be removed in a future release. To remove this warning, do the following: 1) Pass option use_label_encoder=False when constructing XGBClassifier object; and 2) Encode your labels (y) as integers starting with 0, i.e. 0, 1, 2, ..., [num_class - 1].\n",
      "  warnings.warn(label_encoder_deprecation_msg, UserWarning)\n"
     ]
    },
    {
     "name": "stdout",
     "output_type": "stream",
     "text": [
      "[iter 0] loss=0.6800 val_loss=0.0000 scale=2.0000 norm=4.0000\n",
      "[iter 100] loss=0.5404 val_loss=0.0000 scale=2.0000 norm=3.7012\n",
      "[iter 200] loss=0.5201 val_loss=0.0000 scale=2.0000 norm=3.7798\n",
      "[iter 300] loss=0.5137 val_loss=0.0000 scale=1.0000 norm=1.9021\n",
      "[iter 400] loss=0.5105 val_loss=0.0000 scale=1.0000 norm=1.9097\n",
      "[iter 0] loss=0.6800 val_loss=0.0000 scale=2.0000 norm=4.0000\n",
      "[iter 100] loss=0.5414 val_loss=0.0000 scale=2.0000 norm=3.7038\n",
      "[iter 200] loss=0.5203 val_loss=0.0000 scale=2.0000 norm=3.7858\n",
      "[iter 300] loss=0.5143 val_loss=0.0000 scale=1.0000 norm=1.9042\n",
      "[iter 400] loss=0.5113 val_loss=0.0000 scale=1.0000 norm=1.9120\n"
     ]
    },
    {
     "name": "stderr",
     "output_type": "stream",
     "text": [
      "/opt/miniconda3/envs/stellar/lib/python3.7/site-packages/sklearn/utils/deprecation.py:101: FutureWarning: Attribute standard_coef_ was deprecated in version 0.23 and will be removed in 0.25.\n",
      "  warnings.warn(msg, category=FutureWarning)\n",
      "/opt/miniconda3/envs/stellar/lib/python3.7/site-packages/sklearn/utils/deprecation.py:101: FutureWarning: Attribute standard_intercept_ was deprecated in version 0.23 and will be removed in 0.25.\n",
      "  warnings.warn(msg, category=FutureWarning)\n",
      "/opt/miniconda3/envs/stellar/lib/python3.7/site-packages/sklearn/utils/deprecation.py:101: FutureWarning: Attribute average_coef_ was deprecated in version 0.23 and will be removed in 0.25.\n",
      "  warnings.warn(msg, category=FutureWarning)\n",
      "/opt/miniconda3/envs/stellar/lib/python3.7/site-packages/sklearn/utils/deprecation.py:101: FutureWarning: Attribute average_intercept_ was deprecated in version 0.23 and will be removed in 0.25.\n",
      "  warnings.warn(msg, category=FutureWarning)\n",
      "/opt/miniconda3/envs/stellar/lib/python3.7/site-packages/xgboost/sklearn.py:1146: UserWarning: The use of label encoder in XGBClassifier is deprecated and will be removed in a future release. To remove this warning, do the following: 1) Pass option use_label_encoder=False when constructing XGBClassifier object; and 2) Encode your labels (y) as integers starting with 0, i.e. 0, 1, 2, ..., [num_class - 1].\n",
      "  warnings.warn(label_encoder_deprecation_msg, UserWarning)\n"
     ]
    },
    {
     "name": "stdout",
     "output_type": "stream",
     "text": [
      "[iter 0] loss=0.6801 val_loss=0.0000 scale=2.0000 norm=4.0000\n",
      "[iter 100] loss=0.5401 val_loss=0.0000 scale=2.0000 norm=3.7030\n",
      "[iter 200] loss=0.5197 val_loss=0.0000 scale=2.0000 norm=3.7880\n",
      "[iter 300] loss=0.5131 val_loss=0.0000 scale=2.0000 norm=3.8125\n",
      "[iter 400] loss=0.5105 val_loss=0.0000 scale=0.5000 norm=0.9566\n"
     ]
    },
    {
     "name": "stderr",
     "output_type": "stream",
     "text": [
      "/opt/miniconda3/envs/stellar/lib/python3.7/site-packages/sklearn/utils/deprecation.py:101: FutureWarning: Attribute standard_coef_ was deprecated in version 0.23 and will be removed in 0.25.\n",
      "  warnings.warn(msg, category=FutureWarning)\n",
      "/opt/miniconda3/envs/stellar/lib/python3.7/site-packages/sklearn/utils/deprecation.py:101: FutureWarning: Attribute standard_intercept_ was deprecated in version 0.23 and will be removed in 0.25.\n",
      "  warnings.warn(msg, category=FutureWarning)\n",
      "/opt/miniconda3/envs/stellar/lib/python3.7/site-packages/sklearn/utils/deprecation.py:101: FutureWarning: Attribute average_coef_ was deprecated in version 0.23 and will be removed in 0.25.\n",
      "  warnings.warn(msg, category=FutureWarning)\n",
      "/opt/miniconda3/envs/stellar/lib/python3.7/site-packages/sklearn/utils/deprecation.py:101: FutureWarning: Attribute average_intercept_ was deprecated in version 0.23 and will be removed in 0.25.\n",
      "  warnings.warn(msg, category=FutureWarning)\n",
      "/opt/miniconda3/envs/stellar/lib/python3.7/site-packages/sklearn/linear_model/_ridge.py:148: LinAlgWarning: Ill-conditioned matrix (rcond=1.79735e-09): result may not be accurate.\n",
      "  overwrite_a=True).T\n",
      "/opt/miniconda3/envs/stellar/lib/python3.7/site-packages/sklearn/linear_model/_ridge.py:148: LinAlgWarning: Ill-conditioned matrix (rcond=1.92741e-09): result may not be accurate.\n",
      "  overwrite_a=True).T\n",
      "/opt/miniconda3/envs/stellar/lib/python3.7/site-packages/xgboost/sklearn.py:1146: UserWarning: The use of label encoder in XGBClassifier is deprecated and will be removed in a future release. To remove this warning, do the following: 1) Pass option use_label_encoder=False when constructing XGBClassifier object; and 2) Encode your labels (y) as integers starting with 0, i.e. 0, 1, 2, ..., [num_class - 1].\n",
      "  warnings.warn(label_encoder_deprecation_msg, UserWarning)\n"
     ]
    }
   ],
   "source": [
    "# adding an extra classifier ngboost\n",
    "ngc = NGBClassifier()\n",
    "ngboost = create_model(ngc)\n",
    "\n",
    "model_matrix = compare_models(\n",
    "    fold=10,\n",
    "    exclude=[\"lda\",\"qda\"]\n",
    ")"
   ]
  },
  {
   "cell_type": "markdown",
   "id": "2cd3cab6-1ea4-46fc-a572-d368f75cd6c4",
   "metadata": {},
   "source": [
    "### Now that we have the best performing model, we can finalize it:"
   ]
  },
  {
   "cell_type": "code",
   "execution_count": 7,
   "id": "d9f030ed-4b6a-4a87-a01e-129dc49e0d4a",
   "metadata": {},
   "outputs": [
    {
     "data": {
      "text/html": [
       "<style  type=\"text/css\" >\n",
       "#T_0d1b0_row10_col0,#T_0d1b0_row10_col1,#T_0d1b0_row10_col2,#T_0d1b0_row10_col3,#T_0d1b0_row10_col4,#T_0d1b0_row10_col5,#T_0d1b0_row10_col6{\n",
       "            background:  yellow;\n",
       "        }</style><table id=\"T_0d1b0_\" ><thead>    <tr>        <th class=\"blank level0\" ></th>        <th class=\"col_heading level0 col0\" >Accuracy</th>        <th class=\"col_heading level0 col1\" >AUC</th>        <th class=\"col_heading level0 col2\" >Recall</th>        <th class=\"col_heading level0 col3\" >Prec.</th>        <th class=\"col_heading level0 col4\" >F1</th>        <th class=\"col_heading level0 col5\" >Kappa</th>        <th class=\"col_heading level0 col6\" >MCC</th>    </tr></thead><tbody>\n",
       "                <tr>\n",
       "                        <th id=\"T_0d1b0_level0_row0\" class=\"row_heading level0 row0\" >0</th>\n",
       "                        <td id=\"T_0d1b0_row0_col0\" class=\"data row0 col0\" >0.7633</td>\n",
       "                        <td id=\"T_0d1b0_row0_col1\" class=\"data row0 col1\" >0.8269</td>\n",
       "                        <td id=\"T_0d1b0_row0_col2\" class=\"data row0 col2\" >0.8637</td>\n",
       "                        <td id=\"T_0d1b0_row0_col3\" class=\"data row0 col3\" >0.7611</td>\n",
       "                        <td id=\"T_0d1b0_row0_col4\" class=\"data row0 col4\" >0.8091</td>\n",
       "                        <td id=\"T_0d1b0_row0_col5\" class=\"data row0 col5\" >0.5010</td>\n",
       "                        <td id=\"T_0d1b0_row0_col6\" class=\"data row0 col6\" >0.5080</td>\n",
       "            </tr>\n",
       "            <tr>\n",
       "                        <th id=\"T_0d1b0_level0_row1\" class=\"row_heading level0 row1\" >1</th>\n",
       "                        <td id=\"T_0d1b0_row1_col0\" class=\"data row1 col0\" >0.7442</td>\n",
       "                        <td id=\"T_0d1b0_row1_col1\" class=\"data row1 col1\" >0.8212</td>\n",
       "                        <td id=\"T_0d1b0_row1_col2\" class=\"data row1 col2\" >0.8508</td>\n",
       "                        <td id=\"T_0d1b0_row1_col3\" class=\"data row1 col3\" >0.7450</td>\n",
       "                        <td id=\"T_0d1b0_row1_col4\" class=\"data row1 col4\" >0.7944</td>\n",
       "                        <td id=\"T_0d1b0_row1_col5\" class=\"data row1 col5\" >0.4598</td>\n",
       "                        <td id=\"T_0d1b0_row1_col6\" class=\"data row1 col6\" >0.4669</td>\n",
       "            </tr>\n",
       "            <tr>\n",
       "                        <th id=\"T_0d1b0_level0_row2\" class=\"row_heading level0 row2\" >2</th>\n",
       "                        <td id=\"T_0d1b0_row2_col0\" class=\"data row2 col0\" >0.7392</td>\n",
       "                        <td id=\"T_0d1b0_row2_col1\" class=\"data row2 col1\" >0.8085</td>\n",
       "                        <td id=\"T_0d1b0_row2_col2\" class=\"data row2 col2\" >0.8393</td>\n",
       "                        <td id=\"T_0d1b0_row2_col3\" class=\"data row2 col3\" >0.7443</td>\n",
       "                        <td id=\"T_0d1b0_row2_col4\" class=\"data row2 col4\" >0.7889</td>\n",
       "                        <td id=\"T_0d1b0_row2_col5\" class=\"data row2 col5\" >0.4508</td>\n",
       "                        <td id=\"T_0d1b0_row2_col6\" class=\"data row2 col6\" >0.4564</td>\n",
       "            </tr>\n",
       "            <tr>\n",
       "                        <th id=\"T_0d1b0_level0_row3\" class=\"row_heading level0 row3\" >3</th>\n",
       "                        <td id=\"T_0d1b0_row3_col0\" class=\"data row3 col0\" >0.7567</td>\n",
       "                        <td id=\"T_0d1b0_row3_col1\" class=\"data row3 col1\" >0.8138</td>\n",
       "                        <td id=\"T_0d1b0_row3_col2\" class=\"data row3 col2\" >0.8407</td>\n",
       "                        <td id=\"T_0d1b0_row3_col3\" class=\"data row3 col3\" >0.7640</td>\n",
       "                        <td id=\"T_0d1b0_row3_col4\" class=\"data row3 col4\" >0.8005</td>\n",
       "                        <td id=\"T_0d1b0_row3_col5\" class=\"data row3 col5\" >0.4904</td>\n",
       "                        <td id=\"T_0d1b0_row3_col6\" class=\"data row3 col6\" >0.4941</td>\n",
       "            </tr>\n",
       "            <tr>\n",
       "                        <th id=\"T_0d1b0_level0_row4\" class=\"row_heading level0 row4\" >4</th>\n",
       "                        <td id=\"T_0d1b0_row4_col0\" class=\"data row4 col0\" >0.7515</td>\n",
       "                        <td id=\"T_0d1b0_row4_col1\" class=\"data row4 col1\" >0.8116</td>\n",
       "                        <td id=\"T_0d1b0_row4_col2\" class=\"data row4 col2\" >0.8451</td>\n",
       "                        <td id=\"T_0d1b0_row4_col3\" class=\"data row4 col3\" >0.7561</td>\n",
       "                        <td id=\"T_0d1b0_row4_col4\" class=\"data row4 col4\" >0.7981</td>\n",
       "                        <td id=\"T_0d1b0_row4_col5\" class=\"data row4 col5\" >0.4775</td>\n",
       "                        <td id=\"T_0d1b0_row4_col6\" class=\"data row4 col6\" >0.4825</td>\n",
       "            </tr>\n",
       "            <tr>\n",
       "                        <th id=\"T_0d1b0_level0_row5\" class=\"row_heading level0 row5\" >5</th>\n",
       "                        <td id=\"T_0d1b0_row5_col0\" class=\"data row5 col0\" >0.7640</td>\n",
       "                        <td id=\"T_0d1b0_row5_col1\" class=\"data row5 col1\" >0.8231</td>\n",
       "                        <td id=\"T_0d1b0_row5_col2\" class=\"data row5 col2\" >0.8752</td>\n",
       "                        <td id=\"T_0d1b0_row5_col3\" class=\"data row5 col3\" >0.7568</td>\n",
       "                        <td id=\"T_0d1b0_row5_col4\" class=\"data row5 col4\" >0.8117</td>\n",
       "                        <td id=\"T_0d1b0_row5_col5\" class=\"data row5 col5\" >0.4999</td>\n",
       "                        <td id=\"T_0d1b0_row5_col6\" class=\"data row5 col6\" >0.5095</td>\n",
       "            </tr>\n",
       "            <tr>\n",
       "                        <th id=\"T_0d1b0_level0_row6\" class=\"row_heading level0 row6\" >6</th>\n",
       "                        <td id=\"T_0d1b0_row6_col0\" class=\"data row6 col0\" >0.7506</td>\n",
       "                        <td id=\"T_0d1b0_row6_col1\" class=\"data row6 col1\" >0.8126</td>\n",
       "                        <td id=\"T_0d1b0_row6_col2\" class=\"data row6 col2\" >0.8362</td>\n",
       "                        <td id=\"T_0d1b0_row6_col3\" class=\"data row6 col3\" >0.7588</td>\n",
       "                        <td id=\"T_0d1b0_row6_col4\" class=\"data row6 col4\" >0.7956</td>\n",
       "                        <td id=\"T_0d1b0_row6_col5\" class=\"data row6 col5\" >0.4778</td>\n",
       "                        <td id=\"T_0d1b0_row6_col6\" class=\"data row6 col6\" >0.4815</td>\n",
       "            </tr>\n",
       "            <tr>\n",
       "                        <th id=\"T_0d1b0_level0_row7\" class=\"row_heading level0 row7\" >7</th>\n",
       "                        <td id=\"T_0d1b0_row7_col0\" class=\"data row7 col0\" >0.7314</td>\n",
       "                        <td id=\"T_0d1b0_row7_col1\" class=\"data row7 col1\" >0.7939</td>\n",
       "                        <td id=\"T_0d1b0_row7_col2\" class=\"data row7 col2\" >0.8348</td>\n",
       "                        <td id=\"T_0d1b0_row7_col3\" class=\"data row7 col3\" >0.7373</td>\n",
       "                        <td id=\"T_0d1b0_row7_col4\" class=\"data row7 col4\" >0.7830</td>\n",
       "                        <td id=\"T_0d1b0_row7_col5\" class=\"data row7 col5\" >0.4343</td>\n",
       "                        <td id=\"T_0d1b0_row7_col6\" class=\"data row7 col6\" >0.4400</td>\n",
       "            </tr>\n",
       "            <tr>\n",
       "                        <th id=\"T_0d1b0_level0_row8\" class=\"row_heading level0 row8\" >8</th>\n",
       "                        <td id=\"T_0d1b0_row8_col0\" class=\"data row8 col0\" >0.7548</td>\n",
       "                        <td id=\"T_0d1b0_row8_col1\" class=\"data row8 col1\" >0.8155</td>\n",
       "                        <td id=\"T_0d1b0_row8_col2\" class=\"data row8 col2\" >0.8491</td>\n",
       "                        <td id=\"T_0d1b0_row8_col3\" class=\"data row8 col3\" >0.7577</td>\n",
       "                        <td id=\"T_0d1b0_row8_col4\" class=\"data row8 col4\" >0.8008</td>\n",
       "                        <td id=\"T_0d1b0_row8_col5\" class=\"data row8 col5\" >0.4846</td>\n",
       "                        <td id=\"T_0d1b0_row8_col6\" class=\"data row8 col6\" >0.4900</td>\n",
       "            </tr>\n",
       "            <tr>\n",
       "                        <th id=\"T_0d1b0_level0_row9\" class=\"row_heading level0 row9\" >9</th>\n",
       "                        <td id=\"T_0d1b0_row9_col0\" class=\"data row9 col0\" >0.7339</td>\n",
       "                        <td id=\"T_0d1b0_row9_col1\" class=\"data row9 col1\" >0.7944</td>\n",
       "                        <td id=\"T_0d1b0_row9_col2\" class=\"data row9 col2\" >0.8491</td>\n",
       "                        <td id=\"T_0d1b0_row9_col3\" class=\"data row9 col3\" >0.7342</td>\n",
       "                        <td id=\"T_0d1b0_row9_col4\" class=\"data row9 col4\" >0.7875</td>\n",
       "                        <td id=\"T_0d1b0_row9_col5\" class=\"data row9 col5\" >0.4368</td>\n",
       "                        <td id=\"T_0d1b0_row9_col6\" class=\"data row9 col6\" >0.4451</td>\n",
       "            </tr>\n",
       "            <tr>\n",
       "                        <th id=\"T_0d1b0_level0_row10\" class=\"row_heading level0 row10\" >Mean</th>\n",
       "                        <td id=\"T_0d1b0_row10_col0\" class=\"data row10 col0\" >0.7490</td>\n",
       "                        <td id=\"T_0d1b0_row10_col1\" class=\"data row10 col1\" >0.8122</td>\n",
       "                        <td id=\"T_0d1b0_row10_col2\" class=\"data row10 col2\" >0.8484</td>\n",
       "                        <td id=\"T_0d1b0_row10_col3\" class=\"data row10 col3\" >0.7515</td>\n",
       "                        <td id=\"T_0d1b0_row10_col4\" class=\"data row10 col4\" >0.7970</td>\n",
       "                        <td id=\"T_0d1b0_row10_col5\" class=\"data row10 col5\" >0.4713</td>\n",
       "                        <td id=\"T_0d1b0_row10_col6\" class=\"data row10 col6\" >0.4774</td>\n",
       "            </tr>\n",
       "            <tr>\n",
       "                        <th id=\"T_0d1b0_level0_row11\" class=\"row_heading level0 row11\" >SD</th>\n",
       "                        <td id=\"T_0d1b0_row11_col0\" class=\"data row11 col0\" >0.0109</td>\n",
       "                        <td id=\"T_0d1b0_row11_col1\" class=\"data row11 col1\" >0.0105</td>\n",
       "                        <td id=\"T_0d1b0_row11_col2\" class=\"data row11 col2\" >0.0120</td>\n",
       "                        <td id=\"T_0d1b0_row11_col3\" class=\"data row11 col3\" >0.0099</td>\n",
       "                        <td id=\"T_0d1b0_row11_col4\" class=\"data row11 col4\" >0.0087</td>\n",
       "                        <td id=\"T_0d1b0_row11_col5\" class=\"data row11 col5\" >0.0233</td>\n",
       "                        <td id=\"T_0d1b0_row11_col6\" class=\"data row11 col6\" >0.0233</td>\n",
       "            </tr>\n",
       "    </tbody></table>"
      ],
      "text/plain": [
       "<pandas.io.formats.style.Styler at 0x7fe5392e2610>"
      ]
     },
     "metadata": {},
     "output_type": "display_data"
    }
   ],
   "source": [
    "best_model = create_model(model_matrix)\n",
    "final_model = finalize_model(best_model)"
   ]
  },
  {
   "cell_type": "markdown",
   "id": "3aab9021-4462-423a-8e3c-fbe1f36c6110",
   "metadata": {},
   "source": [
    "### Let's load in our 2021 season data and get retention scores using the model:"
   ]
  },
  {
   "cell_type": "code",
   "execution_count": 8,
   "id": "c249a813-c882-4869-9490-6ab766a8c223",
   "metadata": {},
   "outputs": [
    {
     "data": {
      "text/plain": [
       "(4932, 54)"
      ]
     },
     "execution_count": 8,
     "metadata": {},
     "output_type": "execute_result"
    }
   ],
   "source": [
    "df_inference = df.loc[df[\"year\"] >= 2021]\n",
    "df_inference = df_inference.fillna(0)\n",
    "df_inference.shape"
   ]
  },
  {
   "cell_type": "code",
   "execution_count": 9,
   "id": "745b62fb-fb2e-4b4a-9c48-8ce4de472a83",
   "metadata": {},
   "outputs": [
    {
     "data": {
      "text/html": [
       "<div>\n",
       "<style scoped>\n",
       "    .dataframe tbody tr th:only-of-type {\n",
       "        vertical-align: middle;\n",
       "    }\n",
       "\n",
       "    .dataframe tbody tr th {\n",
       "        vertical-align: top;\n",
       "    }\n",
       "\n",
       "    .dataframe thead th {\n",
       "        text-align: right;\n",
       "    }\n",
       "</style>\n",
       "<table border=\"1\" class=\"dataframe\">\n",
       "  <thead>\n",
       "    <tr style=\"text-align: right;\">\n",
       "      <th></th>\n",
       "      <th>lkupClientId</th>\n",
       "      <th>dimCustomerMasterId</th>\n",
       "      <th>customerNumber</th>\n",
       "      <th>year</th>\n",
       "      <th>productGrouping</th>\n",
       "      <th>totalSpent</th>\n",
       "      <th>recentDate</th>\n",
       "      <th>attendancePercent</th>\n",
       "      <th>renewedBeforeDays</th>\n",
       "      <th>isBuyer</th>\n",
       "      <th>...</th>\n",
       "      <th>education</th>\n",
       "      <th>urbanicity</th>\n",
       "      <th>credits_after_refund</th>\n",
       "      <th>is_Lockdown</th>\n",
       "      <th>NumberofGamesPerSeason</th>\n",
       "      <th>CNTPostponedGames</th>\n",
       "      <th>isNextYear_Buyer</th>\n",
       "      <th>Label</th>\n",
       "      <th>Score_0</th>\n",
       "      <th>Score_1</th>\n",
       "    </tr>\n",
       "  </thead>\n",
       "  <tbody>\n",
       "    <tr>\n",
       "      <th>20811</th>\n",
       "      <td>6</td>\n",
       "      <td>450019493</td>\n",
       "      <td>98920122</td>\n",
       "      <td>2021</td>\n",
       "      <td>Full Season</td>\n",
       "      <td>461.5</td>\n",
       "      <td>2021-11-07</td>\n",
       "      <td>0.750000</td>\n",
       "      <td>290.0</td>\n",
       "      <td>TRUE</td>\n",
       "      <td>...</td>\n",
       "      <td>Completed High School</td>\n",
       "      <td>0</td>\n",
       "      <td>0.0</td>\n",
       "      <td>1</td>\n",
       "      <td>24</td>\n",
       "      <td>0</td>\n",
       "      <td>0</td>\n",
       "      <td>1</td>\n",
       "      <td>0.4625</td>\n",
       "      <td>0.5375</td>\n",
       "    </tr>\n",
       "    <tr>\n",
       "      <th>20812</th>\n",
       "      <td>6</td>\n",
       "      <td>450019565</td>\n",
       "      <td>9228651</td>\n",
       "      <td>2021</td>\n",
       "      <td>Full Season</td>\n",
       "      <td>585.0</td>\n",
       "      <td>2021-11-07</td>\n",
       "      <td>1.083333</td>\n",
       "      <td>290.0</td>\n",
       "      <td>TRUE</td>\n",
       "      <td>...</td>\n",
       "      <td>Completed High School</td>\n",
       "      <td>0</td>\n",
       "      <td>0.0</td>\n",
       "      <td>1</td>\n",
       "      <td>24</td>\n",
       "      <td>0</td>\n",
       "      <td>1</td>\n",
       "      <td>0</td>\n",
       "      <td>0.5366</td>\n",
       "      <td>0.4634</td>\n",
       "    </tr>\n",
       "    <tr>\n",
       "      <th>20813</th>\n",
       "      <td>6</td>\n",
       "      <td>450019566</td>\n",
       "      <td>20769777</td>\n",
       "      <td>2021</td>\n",
       "      <td>Full Season</td>\n",
       "      <td>3081.0</td>\n",
       "      <td>2021-11-07</td>\n",
       "      <td>1.000000</td>\n",
       "      <td>290.0</td>\n",
       "      <td>TRUE</td>\n",
       "      <td>...</td>\n",
       "      <td>Completed High School</td>\n",
       "      <td>0</td>\n",
       "      <td>0.0</td>\n",
       "      <td>1</td>\n",
       "      <td>24</td>\n",
       "      <td>0</td>\n",
       "      <td>1</td>\n",
       "      <td>1</td>\n",
       "      <td>0.2444</td>\n",
       "      <td>0.7556</td>\n",
       "    </tr>\n",
       "    <tr>\n",
       "      <th>20814</th>\n",
       "      <td>6</td>\n",
       "      <td>450019977</td>\n",
       "      <td>8036052</td>\n",
       "      <td>2021</td>\n",
       "      <td>Full Season</td>\n",
       "      <td>0.0</td>\n",
       "      <td>1970-01-01</td>\n",
       "      <td>0.000000</td>\n",
       "      <td>0.0</td>\n",
       "      <td>FALSE</td>\n",
       "      <td>...</td>\n",
       "      <td>Completed High School</td>\n",
       "      <td>0</td>\n",
       "      <td>0.0</td>\n",
       "      <td>1</td>\n",
       "      <td>24</td>\n",
       "      <td>0</td>\n",
       "      <td>1</td>\n",
       "      <td>0</td>\n",
       "      <td>0.9763</td>\n",
       "      <td>0.0237</td>\n",
       "    </tr>\n",
       "    <tr>\n",
       "      <th>20815</th>\n",
       "      <td>6</td>\n",
       "      <td>450020766</td>\n",
       "      <td>8238647, 68989503</td>\n",
       "      <td>2021</td>\n",
       "      <td>Full Season</td>\n",
       "      <td>3575.0</td>\n",
       "      <td>2021-11-07</td>\n",
       "      <td>0.864583</td>\n",
       "      <td>290.0</td>\n",
       "      <td>TRUE</td>\n",
       "      <td>...</td>\n",
       "      <td>Completed College</td>\n",
       "      <td>0</td>\n",
       "      <td>0.0</td>\n",
       "      <td>1</td>\n",
       "      <td>24</td>\n",
       "      <td>0</td>\n",
       "      <td>1</td>\n",
       "      <td>1</td>\n",
       "      <td>0.4769</td>\n",
       "      <td>0.5231</td>\n",
       "    </tr>\n",
       "  </tbody>\n",
       "</table>\n",
       "<p>5 rows × 57 columns</p>\n",
       "</div>"
      ],
      "text/plain": [
       "       lkupClientId  dimCustomerMasterId     customerNumber  year  \\\n",
       "20811             6            450019493           98920122  2021   \n",
       "20812             6            450019565            9228651  2021   \n",
       "20813             6            450019566           20769777  2021   \n",
       "20814             6            450019977            8036052  2021   \n",
       "20815             6            450020766  8238647, 68989503  2021   \n",
       "\n",
       "      productGrouping  totalSpent  recentDate  attendancePercent  \\\n",
       "20811     Full Season       461.5  2021-11-07           0.750000   \n",
       "20812     Full Season       585.0  2021-11-07           1.083333   \n",
       "20813     Full Season      3081.0  2021-11-07           1.000000   \n",
       "20814     Full Season         0.0  1970-01-01           0.000000   \n",
       "20815     Full Season      3575.0  2021-11-07           0.864583   \n",
       "\n",
       "       renewedBeforeDays isBuyer  ...              education  urbanicity  \\\n",
       "20811              290.0    TRUE  ...  Completed High School           0   \n",
       "20812              290.0    TRUE  ...  Completed High School           0   \n",
       "20813              290.0    TRUE  ...  Completed High School           0   \n",
       "20814                0.0   FALSE  ...  Completed High School           0   \n",
       "20815              290.0    TRUE  ...      Completed College           0   \n",
       "\n",
       "       credits_after_refund  is_Lockdown  NumberofGamesPerSeason  \\\n",
       "20811                   0.0            1                      24   \n",
       "20812                   0.0            1                      24   \n",
       "20813                   0.0            1                      24   \n",
       "20814                   0.0            1                      24   \n",
       "20815                   0.0            1                      24   \n",
       "\n",
       "       CNTPostponedGames  isNextYear_Buyer  Label  Score_0  Score_1  \n",
       "20811                  0                 0      1   0.4625   0.5375  \n",
       "20812                  0                 1      0   0.5366   0.4634  \n",
       "20813                  0                 1      1   0.2444   0.7556  \n",
       "20814                  0                 1      0   0.9763   0.0237  \n",
       "20815                  0                 1      1   0.4769   0.5231  \n",
       "\n",
       "[5 rows x 57 columns]"
      ]
     },
     "execution_count": 9,
     "metadata": {},
     "output_type": "execute_result"
    }
   ],
   "source": [
    "new_predictions = predict_model(final_model, data=df_inference, raw_score=True)\n",
    "new_predictions.head()"
   ]
  },
  {
   "cell_type": "code",
   "execution_count": 10,
   "id": "7253ba2d-b37b-4fda-aa3c-0b61a67b3fab",
   "metadata": {},
   "outputs": [
    {
     "data": {
      "text/plain": [
       "1    3092\n",
       "0    1840\n",
       "Name: Label, dtype: int64"
      ]
     },
     "execution_count": 10,
     "metadata": {},
     "output_type": "execute_result"
    }
   ],
   "source": [
    "new_predictions['Label'].value_counts()"
   ]
  },
  {
   "cell_type": "markdown",
   "id": "2add324c-f0bb-4fd2-bde1-2bee98d5b8c0",
   "metadata": {},
   "source": [
    "### We can plot the scores using a histogram to see the score distribution for buyers:"
   ]
  },
  {
   "cell_type": "code",
   "execution_count": 11,
   "id": "95e96920-bc9c-4b50-837c-89e392d13449",
   "metadata": {},
   "outputs": [
    {
     "data": {
      "text/plain": [
       "array([[<AxesSubplot:title={'center':'Score_1'}>]], dtype=object)"
      ]
     },
     "execution_count": 11,
     "metadata": {},
     "output_type": "execute_result"
    },
    {
     "data": {
      "image/png": "[encoded data removed]",
      "text/plain": [
       "<Figure size 720x360 with 1 Axes>"
      ]
     },
     "metadata": {
      "needs_background": "light"
     },
     "output_type": "display_data"
    }
   ],
   "source": [
    "new_predictions = new_predictions.loc[new_predictions[\"productGrouping\"] == \"Full Season\"]\n",
    "new_predictions[new_predictions[\"Label\"]==1][[\"Score_1\"]].hist(bins=30, figsize=(10,5), range=[0,1])"
   ]
  },
  {
   "cell_type": "markdown",
   "id": "0f491238-04c7-46ad-af0c-141a0fdedf72",
   "metadata": {},
   "source": [
    "### Let's plot the feature importances to see what features in the model are most predictive:"
   ]
  },
  {
   "cell_type": "code",
   "execution_count": 12,
   "id": "144bd27b-9798-4f8b-a3a3-95298d8e2c01",
   "metadata": {},
   "outputs": [
    {
     "data": {
      "image/png": "[encoded data removed]",
      "text/plain": [
       "<Figure size 800x500 with 1 Axes>"
      ]
     },
     "metadata": {},
     "output_type": "display_data"
    }
   ],
   "source": [
    "plot_model(best_model, plot='feature')"
   ]
  },
  {
   "cell_type": "markdown",
   "id": "6e4ca6b2-6035-4ff9-baa2-a810f0739b17",
   "metadata": {},
   "source": [
    "### Using a confusion matrix can also help us understand where the model is predicting correctly and where it's missing:"
   ]
  },
  {
   "cell_type": "code",
   "execution_count": 23,
   "id": "ce6cb80d-9ee1-49e9-97f3-b9aa67ef4b76",
   "metadata": {},
   "outputs": [
    {
     "data": {
      "image/png": "[encoded data removed]",
      "text/plain": [
       "<Figure size 576x396 with 1 Axes>"
      ]
     },
     "metadata": {},
     "output_type": "display_data"
    }
   ],
   "source": [
    "plot_model(best_model, plot='confusion_matrix')"
   ]
  },
  {
   "cell_type": "markdown",
   "id": "553decfe-1e2a-45f4-a48a-c04ac6d0a26c",
   "metadata": {},
   "source": [
    "### Let's also visualize the AUC (area under the curve) to get a sense of how our model is performing:"
   ]
  },
  {
   "cell_type": "code",
   "execution_count": 76,
   "id": "d549c83b-79df-401c-b3a8-0a32510105f8",
   "metadata": {},
   "outputs": [
    {
     "data": {
      "image/png": "[encoded data removed]",
      "text/plain": [
       "<Figure size 576x396 with 1 Axes>"
      ]
     },
     "metadata": {},
     "output_type": "display_data"
    }
   ],
   "source": [
    "plot_model(best_model, plot=\"auc\")"
   ]
  },
  {
   "cell_type": "markdown",
   "id": "71f34d81-878f-489e-be42-921567784974",
   "metadata": {},
   "source": [
    "## Observations\n",
    "\n",
    "* The model predictions are ~ 75% accurate \n",
    "\n",
    "* The Full Season ticket buyers fall into a Normal Distribution, as is expected.\n",
    "\n",
    "* distToVenue is the third most important feature, with a variable importance ~ 75%\n",
    "\n",
    "* The model made 3x as many correct predictions vs. incorrect predictions"
   ]
  },
  {
   "cell_type": "markdown",
   "id": "998e2ae8-33b0-4783-8dde-5d442b68d39e",
   "metadata": {},
   "source": [
    "## Conclusions\n",
    "\n",
    "The distToVenue feature did prove to be a useful feature for model predictions. The next experiment will focus on altering the distToVenue feature to understand the impact (or non-impact) on model performance (i.e. does adding distance to the feature improve accuracy or have little to no impact)."
   ]
  }
 ],
 "metadata": {
  "kernelspec": {
   "display_name": "Python 3 (ipykernel)",
   "language": "python",
   "name": "python3"
  },
  "language_info": {
   "codemirror_mode": {
    "name": "ipython",
    "version": 3
   },
   "file_extension": ".py",
   "mimetype": "text/x-python",
   "name": "python",
   "nbconvert_exporter": "python",
   "pygments_lexer": "ipython3",
   "version": "3.7.10"
  }
 },
 "nbformat": 4,
 "nbformat_minor": 5
}
