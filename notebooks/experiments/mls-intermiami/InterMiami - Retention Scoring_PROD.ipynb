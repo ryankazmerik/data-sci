{
 "cells": [
  {
   "cell_type": "markdown",
   "id": "6ee08766-25fd-4da1-91b8-b0c3e74db588",
   "metadata": {},
   "source": [
    "# Inter-Maimi - PROD Retention Score\n",
    "* StelllarAlgo Data Science\n",
    "* Ryan Kazmerik & Nakisa Rad\n",
    "* June 20, 2022"
   ]
  },
  {
   "cell_type": "markdown",
   "id": "39108c8d-2e9f-4759-ade2-83071038dc56",
   "metadata": {},
   "source": [
    "## Hypothesis\n"
   ]
  },
  {
   "cell_type": "markdown",
   "id": "28142011-1f32-4cc7-816b-a6dae6f70c8c",
   "metadata": {},
   "source": [
    "## Experiment\n",
    "This section details our experiment including querying data, data transformations, feature selection and modelling."
   ]
  },
  {
   "cell_type": "code",
   "execution_count": 2,
   "id": "4c533efd-600e-4bce-8203-faffbddfa700",
   "metadata": {},
   "outputs": [],
   "source": [
    "import getpass\n",
    "import pyodbc\n",
    "import pandas as pd\n",
    "import matplotlib.pyplot as plt\n",
    "\n",
    "from pycaret.classification import *"
   ]
  },
  {
   "cell_type": "markdown",
   "id": "b64ae7d5-84af-4915-bd13-1dd9d17098a3",
   "metadata": {},
   "source": [
    "### Let's connect to MSSQL and run a stored proc to get our dataset:"
   ]
  },
  {
   "cell_type": "code",
   "execution_count": 3,
   "id": "ae561eb4-f419-4d46-b5e0-12fac9b10db8",
   "metadata": {},
   "outputs": [
    {
     "name": "stdin",
     "output_type": "stream",
     "text": [
      "Enter your password ··················\n"
     ]
    }
   ],
   "source": [
    "# connect to SQL Server.\n",
    "SERVER = '34.206.73.189' \n",
    "DATABASE = 'datascience' \n",
    "USERNAME = 'dsAdminWrite' \n",
    "PASSWORD = getpass.getpass(prompt='Enter your password')\n",
    "CNXN = pyodbc.connect('DRIVER={ODBC Driver 17 for SQL Server};SERVER='+SERVER+';DATABASE='+DATABASE+';UID='+USERNAME+';PWD='+ PASSWORD)"
   ]
  },
  {
   "cell_type": "code",
   "execution_count": 4,
   "id": "af1afe7d-a35b-494b-88f3-980fb0e3da30",
   "metadata": {},
   "outputs": [
    {
     "data": {
      "text/plain": [
       "(3947, 15)"
      ]
     },
     "execution_count": 4,
     "metadata": {},
     "output_type": "execute_result"
    }
   ],
   "source": [
    "cursor = CNXN.cursor()\n",
    "\n",
    "storedProc = (\n",
    "    f\"\"\"Exec [stlrMLS].[ds].[getRetentionScoringModelData_staging2] \"\"\"\n",
    ")\n",
    "\n",
    "df = pd.read_sql(storedProc, CNXN)\n",
    "\n",
    "# apply some data transformations\n",
    "df[\"year\"] = pd.to_numeric(df[\"year\"])\n",
    "\n",
    "CNXN.commit()\n",
    "cursor.close()\n",
    "\n",
    "df.shape"
   ]
  },
  {
   "cell_type": "code",
   "execution_count": 5,
   "id": "11e97dcc-c69e-46c1-8dad-33f6291cb0c6",
   "metadata": {},
   "outputs": [
    {
     "name": "stdout",
     "output_type": "stream",
     "text": [
      "<class 'pandas.core.frame.DataFrame'>\n",
      "RangeIndex: 3947 entries, 0 to 3946\n",
      "Data columns (total 15 columns):\n",
      " #   Column               Non-Null Count  Dtype  \n",
      "---  ------               --------------  -----  \n",
      " 0   dimCustomerMasterId  3947 non-null   int64  \n",
      " 1   year                 3947 non-null   int64  \n",
      " 2   productGrouping      3947 non-null   object \n",
      " 3   totalSpent           3947 non-null   float64\n",
      " 4   recentDate           3947 non-null   object \n",
      " 5   attendancePercent    3947 non-null   float64\n",
      " 6   renewedBeforeDays    3947 non-null   int64  \n",
      " 7   source_tenure        3947 non-null   int64  \n",
      " 8   tenure               3947 non-null   int64  \n",
      " 9   distToVenue          3805 non-null   float64\n",
      " 10  recency              3947 non-null   int64  \n",
      " 11  missed_games_1       3947 non-null   int64  \n",
      " 12  missed_games_2       3947 non-null   int64  \n",
      " 13  missed_games_over_2  3947 non-null   int64  \n",
      " 14  isNextYear_Buyer     3947 non-null   int64  \n",
      "dtypes: float64(3), int64(10), object(2)\n",
      "memory usage: 462.7+ KB\n"
     ]
    }
   ],
   "source": [
    "df.info()"
   ]
  },
  {
   "cell_type": "markdown",
   "id": "ab40da92-72a7-49c1-9829-ed3805a39719",
   "metadata": {},
   "source": [
    "### We should specify the features used in our model:"
   ]
  },
  {
   "cell_type": "code",
   "execution_count": 6,
   "id": "788f1273-8b7a-46bd-a099-1a471feeacc5",
   "metadata": {},
   "outputs": [
    {
     "name": "stdout",
     "output_type": "stream",
     "text": [
      "Data for Modeling: (2412, 15)\n",
      "Unseen Data For Predictions: (426, 15)\n",
      "\n"
     ]
    }
   ],
   "source": [
    "# choose the features for the stellar base retention model\n",
    "features = [\n",
    "            \"dimCustomerMasterId\",\n",
    "            \"year\",\n",
    "            \"productGrouping\", \n",
    "            \"totalSpent\", \n",
    "            \"recentDate\",\n",
    "            \"attendancePercent\", \n",
    "            \"renewedBeforeDays\",\n",
    "            \"source_tenure\",\n",
    "            \"tenure\",\n",
    "            \"distToVenue\",\n",
    "            \"recency\",\n",
    "            \"missed_games_1\",\n",
    "            \"missed_games_2\",\n",
    "            \"missed_games_over_2\",\n",
    "            \"isNextYear_Buyer\"\n",
    "]\n",
    "\n",
    "# copy your main dataframe\n",
    "df_dataset = df\n",
    "\n",
    "# choose the features & train year & test year\n",
    "df_dataset = df_dataset[features]\n",
    "df_dataset[\"year\"] = pd.to_numeric(df_dataset[\"year\"])\n",
    "df_dataset = df_dataset.loc[df_dataset[\"year\"] <= 2021]\n",
    "\n",
    "df_train = df_dataset.sample(frac=0.85, random_state=786)\n",
    "df_eval = df_dataset.drop(df_train.index)\n",
    "\n",
    "df_train.reset_index(drop=True, inplace=True)\n",
    "df_eval.reset_index(drop=True, inplace=True)\n",
    "\n",
    "# print out the number of records for training and eval\n",
    "print('Data for Modeling: ' + str(df_train.shape))\n",
    "print('Unseen Data For Predictions: ' + str(df_eval.shape), end=\"\\n\\n\")"
   ]
  },
  {
   "cell_type": "markdown",
   "id": "4f2da06d-9015-49fd-89b3-956c2ebf66e9",
   "metadata": {},
   "source": [
    "### Now we can model the data using a binary classification prediction for the isnextyear_buyer field to see how likely a customer is to re-purchase."
   ]
  },
  {
   "cell_type": "code",
   "execution_count": 7,
   "id": "23a69cdc-b3ec-48c8-9ce5-29f617779389",
   "metadata": {},
   "outputs": [],
   "source": [
    "setup(\n",
    "    data= df_train, \n",
    "    target=\"isNextYear_Buyer\", \n",
    "    train_size = 0.85,\n",
    "    data_split_shuffle=True,\n",
    "    ignore_features=[\"dimCustomerMasterId\",\"productGrouping\",\"year\"],\n",
    "    silent=True,\n",
    "    verbose=False,\n",
    "    numeric_features=[\n",
    "    \"totalSpent\", \n",
    "            \"attendancePercent\", \n",
    "            \"renewedBeforeDays\",\n",
    "            \"source_tenure\",\n",
    "            \"tenure\",\n",
    "            \"distToVenue\",\n",
    "            \"recency\",\n",
    "            \"missed_games_1\",\n",
    "            \"missed_games_2\",\n",
    "            \"missed_games_over_2\"\n",
    "    ]\n",
    ");"
   ]
  },
  {
   "cell_type": "code",
   "execution_count": 8,
   "id": "e2497c34-221f-42b3-a838-6b30c6c5fc39",
   "metadata": {},
   "outputs": [
    {
     "data": {
      "text/html": [
       "<div>\n",
       "<style scoped>\n",
       "    .dataframe tbody tr th:only-of-type {\n",
       "        vertical-align: middle;\n",
       "    }\n",
       "\n",
       "    .dataframe tbody tr th {\n",
       "        vertical-align: top;\n",
       "    }\n",
       "\n",
       "    .dataframe thead th {\n",
       "        text-align: right;\n",
       "    }\n",
       "</style>\n",
       "<table border=\"1\" class=\"dataframe\">\n",
       "  <thead>\n",
       "    <tr style=\"text-align: right;\">\n",
       "      <th></th>\n",
       "      <th>Name</th>\n",
       "      <th>Reference</th>\n",
       "      <th>Turbo</th>\n",
       "    </tr>\n",
       "    <tr>\n",
       "      <th>ID</th>\n",
       "      <th></th>\n",
       "      <th></th>\n",
       "      <th></th>\n",
       "    </tr>\n",
       "  </thead>\n",
       "  <tbody>\n",
       "    <tr>\n",
       "      <th>lr</th>\n",
       "      <td>Logistic Regression</td>\n",
       "      <td>sklearn.linear_model._logistic.LogisticRegression</td>\n",
       "      <td>True</td>\n",
       "    </tr>\n",
       "    <tr>\n",
       "      <th>knn</th>\n",
       "      <td>K Neighbors Classifier</td>\n",
       "      <td>sklearn.neighbors._classification.KNeighborsCl...</td>\n",
       "      <td>True</td>\n",
       "    </tr>\n",
       "    <tr>\n",
       "      <th>nb</th>\n",
       "      <td>Naive Bayes</td>\n",
       "      <td>sklearn.naive_bayes.GaussianNB</td>\n",
       "      <td>True</td>\n",
       "    </tr>\n",
       "    <tr>\n",
       "      <th>dt</th>\n",
       "      <td>Decision Tree Classifier</td>\n",
       "      <td>sklearn.tree._classes.DecisionTreeClassifier</td>\n",
       "      <td>True</td>\n",
       "    </tr>\n",
       "    <tr>\n",
       "      <th>svm</th>\n",
       "      <td>SVM - Linear Kernel</td>\n",
       "      <td>sklearn.linear_model._stochastic_gradient.SGDC...</td>\n",
       "      <td>True</td>\n",
       "    </tr>\n",
       "    <tr>\n",
       "      <th>rbfsvm</th>\n",
       "      <td>SVM - Radial Kernel</td>\n",
       "      <td>sklearn.svm._classes.SVC</td>\n",
       "      <td>False</td>\n",
       "    </tr>\n",
       "    <tr>\n",
       "      <th>gpc</th>\n",
       "      <td>Gaussian Process Classifier</td>\n",
       "      <td>sklearn.gaussian_process._gpc.GaussianProcessC...</td>\n",
       "      <td>False</td>\n",
       "    </tr>\n",
       "    <tr>\n",
       "      <th>mlp</th>\n",
       "      <td>MLP Classifier</td>\n",
       "      <td>sklearn.neural_network._multilayer_perceptron....</td>\n",
       "      <td>False</td>\n",
       "    </tr>\n",
       "    <tr>\n",
       "      <th>ridge</th>\n",
       "      <td>Ridge Classifier</td>\n",
       "      <td>sklearn.linear_model._ridge.RidgeClassifier</td>\n",
       "      <td>True</td>\n",
       "    </tr>\n",
       "    <tr>\n",
       "      <th>rf</th>\n",
       "      <td>Random Forest Classifier</td>\n",
       "      <td>sklearn.ensemble._forest.RandomForestClassifier</td>\n",
       "      <td>True</td>\n",
       "    </tr>\n",
       "    <tr>\n",
       "      <th>qda</th>\n",
       "      <td>Quadratic Discriminant Analysis</td>\n",
       "      <td>sklearn.discriminant_analysis.QuadraticDiscrim...</td>\n",
       "      <td>True</td>\n",
       "    </tr>\n",
       "    <tr>\n",
       "      <th>ada</th>\n",
       "      <td>Ada Boost Classifier</td>\n",
       "      <td>sklearn.ensemble._weight_boosting.AdaBoostClas...</td>\n",
       "      <td>True</td>\n",
       "    </tr>\n",
       "    <tr>\n",
       "      <th>gbc</th>\n",
       "      <td>Gradient Boosting Classifier</td>\n",
       "      <td>sklearn.ensemble._gb.GradientBoostingClassifier</td>\n",
       "      <td>True</td>\n",
       "    </tr>\n",
       "    <tr>\n",
       "      <th>lda</th>\n",
       "      <td>Linear Discriminant Analysis</td>\n",
       "      <td>sklearn.discriminant_analysis.LinearDiscrimina...</td>\n",
       "      <td>True</td>\n",
       "    </tr>\n",
       "    <tr>\n",
       "      <th>et</th>\n",
       "      <td>Extra Trees Classifier</td>\n",
       "      <td>sklearn.ensemble._forest.ExtraTreesClassifier</td>\n",
       "      <td>True</td>\n",
       "    </tr>\n",
       "    <tr>\n",
       "      <th>xgboost</th>\n",
       "      <td>Extreme Gradient Boosting</td>\n",
       "      <td>xgboost.sklearn.XGBClassifier</td>\n",
       "      <td>True</td>\n",
       "    </tr>\n",
       "    <tr>\n",
       "      <th>lightgbm</th>\n",
       "      <td>Light Gradient Boosting Machine</td>\n",
       "      <td>lightgbm.sklearn.LGBMClassifier</td>\n",
       "      <td>True</td>\n",
       "    </tr>\n",
       "    <tr>\n",
       "      <th>dummy</th>\n",
       "      <td>Dummy Classifier</td>\n",
       "      <td>sklearn.dummy.DummyClassifier</td>\n",
       "      <td>True</td>\n",
       "    </tr>\n",
       "  </tbody>\n",
       "</table>\n",
       "</div>"
      ],
      "text/plain": [
       "                                     Name  \\\n",
       "ID                                          \n",
       "lr                    Logistic Regression   \n",
       "knn                K Neighbors Classifier   \n",
       "nb                            Naive Bayes   \n",
       "dt               Decision Tree Classifier   \n",
       "svm                   SVM - Linear Kernel   \n",
       "rbfsvm                SVM - Radial Kernel   \n",
       "gpc           Gaussian Process Classifier   \n",
       "mlp                        MLP Classifier   \n",
       "ridge                    Ridge Classifier   \n",
       "rf               Random Forest Classifier   \n",
       "qda       Quadratic Discriminant Analysis   \n",
       "ada                  Ada Boost Classifier   \n",
       "gbc          Gradient Boosting Classifier   \n",
       "lda          Linear Discriminant Analysis   \n",
       "et                 Extra Trees Classifier   \n",
       "xgboost         Extreme Gradient Boosting   \n",
       "lightgbm  Light Gradient Boosting Machine   \n",
       "dummy                    Dummy Classifier   \n",
       "\n",
       "                                                  Reference  Turbo  \n",
       "ID                                                                  \n",
       "lr        sklearn.linear_model._logistic.LogisticRegression   True  \n",
       "knn       sklearn.neighbors._classification.KNeighborsCl...   True  \n",
       "nb                           sklearn.naive_bayes.GaussianNB   True  \n",
       "dt             sklearn.tree._classes.DecisionTreeClassifier   True  \n",
       "svm       sklearn.linear_model._stochastic_gradient.SGDC...   True  \n",
       "rbfsvm                             sklearn.svm._classes.SVC  False  \n",
       "gpc       sklearn.gaussian_process._gpc.GaussianProcessC...  False  \n",
       "mlp       sklearn.neural_network._multilayer_perceptron....  False  \n",
       "ridge           sklearn.linear_model._ridge.RidgeClassifier   True  \n",
       "rf          sklearn.ensemble._forest.RandomForestClassifier   True  \n",
       "qda       sklearn.discriminant_analysis.QuadraticDiscrim...   True  \n",
       "ada       sklearn.ensemble._weight_boosting.AdaBoostClas...   True  \n",
       "gbc         sklearn.ensemble._gb.GradientBoostingClassifier   True  \n",
       "lda       sklearn.discriminant_analysis.LinearDiscrimina...   True  \n",
       "et            sklearn.ensemble._forest.ExtraTreesClassifier   True  \n",
       "xgboost                       xgboost.sklearn.XGBClassifier   True  \n",
       "lightgbm                    lightgbm.sklearn.LGBMClassifier   True  \n",
       "dummy                         sklearn.dummy.DummyClassifier   True  "
      ]
     },
     "execution_count": 8,
     "metadata": {},
     "output_type": "execute_result"
    }
   ],
   "source": [
    "models()"
   ]
  },
  {
   "cell_type": "code",
   "execution_count": 9,
   "id": "ef2db9d2-02c2-45c0-b6bb-5cad42c373ce",
   "metadata": {},
   "outputs": [
    {
     "data": {
      "text/html": [
       "<style type=\"text/css\">\n",
       "#T_72bd8 th {\n",
       "  text-align: left;\n",
       "}\n",
       "#T_72bd8_row0_col0, #T_72bd8_row0_col2, #T_72bd8_row0_col3, #T_72bd8_row0_col4, #T_72bd8_row0_col5, #T_72bd8_row0_col6, #T_72bd8_row0_col7, #T_72bd8_row1_col0, #T_72bd8_row1_col1, #T_72bd8_row1_col3, #T_72bd8_row1_col5, #T_72bd8_row2_col0, #T_72bd8_row2_col1, #T_72bd8_row2_col2, #T_72bd8_row2_col4, #T_72bd8_row2_col6, #T_72bd8_row2_col7 {\n",
       "  text-align: left;\n",
       "}\n",
       "#T_72bd8_row0_col1, #T_72bd8_row1_col2, #T_72bd8_row1_col4, #T_72bd8_row1_col6, #T_72bd8_row1_col7, #T_72bd8_row2_col3, #T_72bd8_row2_col5 {\n",
       "  text-align: left;\n",
       "  background-color: yellow;\n",
       "}\n",
       "#T_72bd8_row0_col8 {\n",
       "  text-align: left;\n",
       "  background-color: yellow;\n",
       "  background-color: lightgrey;\n",
       "}\n",
       "#T_72bd8_row1_col8, #T_72bd8_row2_col8 {\n",
       "  text-align: left;\n",
       "  background-color: lightgrey;\n",
       "}\n",
       "</style>\n",
       "<table id=\"T_72bd8\">\n",
       "  <thead>\n",
       "    <tr>\n",
       "      <th class=\"blank level0\" >&nbsp;</th>\n",
       "      <th id=\"T_72bd8_level0_col0\" class=\"col_heading level0 col0\" >Model</th>\n",
       "      <th id=\"T_72bd8_level0_col1\" class=\"col_heading level0 col1\" >Accuracy</th>\n",
       "      <th id=\"T_72bd8_level0_col2\" class=\"col_heading level0 col2\" >AUC</th>\n",
       "      <th id=\"T_72bd8_level0_col3\" class=\"col_heading level0 col3\" >Recall</th>\n",
       "      <th id=\"T_72bd8_level0_col4\" class=\"col_heading level0 col4\" >Prec.</th>\n",
       "      <th id=\"T_72bd8_level0_col5\" class=\"col_heading level0 col5\" >F1</th>\n",
       "      <th id=\"T_72bd8_level0_col6\" class=\"col_heading level0 col6\" >Kappa</th>\n",
       "      <th id=\"T_72bd8_level0_col7\" class=\"col_heading level0 col7\" >MCC</th>\n",
       "      <th id=\"T_72bd8_level0_col8\" class=\"col_heading level0 col8\" >TT (Sec)</th>\n",
       "    </tr>\n",
       "  </thead>\n",
       "  <tbody>\n",
       "    <tr>\n",
       "      <th id=\"T_72bd8_level0_row0\" class=\"row_heading level0 row0\" >lr</th>\n",
       "      <td id=\"T_72bd8_row0_col0\" class=\"data row0 col0\" >Logistic Regression</td>\n",
       "      <td id=\"T_72bd8_row0_col1\" class=\"data row0 col1\" >0.6859</td>\n",
       "      <td id=\"T_72bd8_row0_col2\" class=\"data row0 col2\" >0.6333</td>\n",
       "      <td id=\"T_72bd8_row0_col3\" class=\"data row0 col3\" >0.0159</td>\n",
       "      <td id=\"T_72bd8_row0_col4\" class=\"data row0 col4\" >0.2851</td>\n",
       "      <td id=\"T_72bd8_row0_col5\" class=\"data row0 col5\" >0.0293</td>\n",
       "      <td id=\"T_72bd8_row0_col6\" class=\"data row0 col6\" >-0.0023</td>\n",
       "      <td id=\"T_72bd8_row0_col7\" class=\"data row0 col7\" >-0.0066</td>\n",
       "      <td id=\"T_72bd8_row0_col8\" class=\"data row0 col8\" >0.0720</td>\n",
       "    </tr>\n",
       "    <tr>\n",
       "      <th id=\"T_72bd8_level0_row1\" class=\"row_heading level0 row1\" >lightgbm</th>\n",
       "      <td id=\"T_72bd8_row1_col0\" class=\"data row1 col0\" >Light Gradient Boosting Machine</td>\n",
       "      <td id=\"T_72bd8_row1_col1\" class=\"data row1 col1\" >0.6678</td>\n",
       "      <td id=\"T_72bd8_row1_col2\" class=\"data row1 col2\" >0.6599</td>\n",
       "      <td id=\"T_72bd8_row1_col3\" class=\"data row1 col3\" >0.2940</td>\n",
       "      <td id=\"T_72bd8_row1_col4\" class=\"data row1 col4\" >0.4354</td>\n",
       "      <td id=\"T_72bd8_row1_col5\" class=\"data row1 col5\" >0.3498</td>\n",
       "      <td id=\"T_72bd8_row1_col6\" class=\"data row1 col6\" >0.1391</td>\n",
       "      <td id=\"T_72bd8_row1_col7\" class=\"data row1 col7\" >0.1439</td>\n",
       "      <td id=\"T_72bd8_row1_col8\" class=\"data row1 col8\" >0.7110</td>\n",
       "    </tr>\n",
       "    <tr>\n",
       "      <th id=\"T_72bd8_level0_row2\" class=\"row_heading level0 row2\" >xgboost</th>\n",
       "      <td id=\"T_72bd8_row2_col0\" class=\"data row2 col0\" >Extreme Gradient Boosting</td>\n",
       "      <td id=\"T_72bd8_row2_col1\" class=\"data row2 col1\" >0.6600</td>\n",
       "      <td id=\"T_72bd8_row2_col2\" class=\"data row2 col2\" >0.6500</td>\n",
       "      <td id=\"T_72bd8_row2_col3\" class=\"data row2 col3\" >0.3148</td>\n",
       "      <td id=\"T_72bd8_row2_col4\" class=\"data row2 col4\" >0.4255</td>\n",
       "      <td id=\"T_72bd8_row2_col5\" class=\"data row2 col5\" >0.3610</td>\n",
       "      <td id=\"T_72bd8_row2_col6\" class=\"data row2 col6\" >0.1371</td>\n",
       "      <td id=\"T_72bd8_row2_col7\" class=\"data row2 col7\" >0.1401</td>\n",
       "      <td id=\"T_72bd8_row2_col8\" class=\"data row2 col8\" >3.6920</td>\n",
       "    </tr>\n",
       "  </tbody>\n",
       "</table>\n"
      ],
      "text/plain": [
       "<pandas.io.formats.style.Styler at 0x7fe799090820>"
      ]
     },
     "metadata": {},
     "output_type": "display_data"
    }
   ],
   "source": [
    "model_matrix = compare_models(\n",
    "    fold=10,\n",
    "    include=[\"lightgbm\",\"lr\",\"xgboost\"]\n",
    ")"
   ]
  },
  {
   "cell_type": "code",
   "execution_count": 10,
   "id": "85416b8a",
   "metadata": {},
   "outputs": [
    {
     "data": {
      "text/html": [
       "<style type=\"text/css\">\n",
       "#T_7bee0_row10_col0, #T_7bee0_row10_col1, #T_7bee0_row10_col2, #T_7bee0_row10_col3, #T_7bee0_row10_col4, #T_7bee0_row10_col5, #T_7bee0_row10_col6 {\n",
       "  background: yellow;\n",
       "}\n",
       "</style>\n",
       "<table id=\"T_7bee0\">\n",
       "  <thead>\n",
       "    <tr>\n",
       "      <th class=\"blank level0\" >&nbsp;</th>\n",
       "      <th id=\"T_7bee0_level0_col0\" class=\"col_heading level0 col0\" >Accuracy</th>\n",
       "      <th id=\"T_7bee0_level0_col1\" class=\"col_heading level0 col1\" >AUC</th>\n",
       "      <th id=\"T_7bee0_level0_col2\" class=\"col_heading level0 col2\" >Recall</th>\n",
       "      <th id=\"T_7bee0_level0_col3\" class=\"col_heading level0 col3\" >Prec.</th>\n",
       "      <th id=\"T_7bee0_level0_col4\" class=\"col_heading level0 col4\" >F1</th>\n",
       "      <th id=\"T_7bee0_level0_col5\" class=\"col_heading level0 col5\" >Kappa</th>\n",
       "      <th id=\"T_7bee0_level0_col6\" class=\"col_heading level0 col6\" >MCC</th>\n",
       "    </tr>\n",
       "  </thead>\n",
       "  <tbody>\n",
       "    <tr>\n",
       "      <th id=\"T_7bee0_level0_row0\" class=\"row_heading level0 row0\" >0</th>\n",
       "      <td id=\"T_7bee0_row0_col0\" class=\"data row0 col0\" >0.6683</td>\n",
       "      <td id=\"T_7bee0_row0_col1\" class=\"data row0 col1\" >0.6502</td>\n",
       "      <td id=\"T_7bee0_row0_col2\" class=\"data row0 col2\" >0.3226</td>\n",
       "      <td id=\"T_7bee0_row0_col3\" class=\"data row0 col3\" >0.4348</td>\n",
       "      <td id=\"T_7bee0_row0_col4\" class=\"data row0 col4\" >0.3704</td>\n",
       "      <td id=\"T_7bee0_row0_col5\" class=\"data row0 col5\" >0.1519</td>\n",
       "      <td id=\"T_7bee0_row0_col6\" class=\"data row0 col6\" >0.1550</td>\n",
       "    </tr>\n",
       "    <tr>\n",
       "      <th id=\"T_7bee0_level0_row1\" class=\"row_heading level0 row1\" >1</th>\n",
       "      <td id=\"T_7bee0_row1_col0\" class=\"data row1 col0\" >0.6683</td>\n",
       "      <td id=\"T_7bee0_row1_col1\" class=\"data row1 col1\" >0.6017</td>\n",
       "      <td id=\"T_7bee0_row1_col2\" class=\"data row1 col2\" >0.2540</td>\n",
       "      <td id=\"T_7bee0_row1_col3\" class=\"data row1 col3\" >0.4324</td>\n",
       "      <td id=\"T_7bee0_row1_col4\" class=\"data row1 col4\" >0.3200</td>\n",
       "      <td id=\"T_7bee0_row1_col5\" class=\"data row1 col5\" >0.1198</td>\n",
       "      <td id=\"T_7bee0_row1_col6\" class=\"data row1 col6\" >0.1273</td>\n",
       "    </tr>\n",
       "    <tr>\n",
       "      <th id=\"T_7bee0_level0_row2\" class=\"row_heading level0 row2\" >2</th>\n",
       "      <td id=\"T_7bee0_row2_col0\" class=\"data row2 col0\" >0.6634</td>\n",
       "      <td id=\"T_7bee0_row2_col1\" class=\"data row2 col1\" >0.6711</td>\n",
       "      <td id=\"T_7bee0_row2_col2\" class=\"data row2 col2\" >0.3492</td>\n",
       "      <td id=\"T_7bee0_row2_col3\" class=\"data row2 col3\" >0.4400</td>\n",
       "      <td id=\"T_7bee0_row2_col4\" class=\"data row2 col4\" >0.3894</td>\n",
       "      <td id=\"T_7bee0_row2_col5\" class=\"data row2 col5\" >0.1613</td>\n",
       "      <td id=\"T_7bee0_row2_col6\" class=\"data row2 col6\" >0.1633</td>\n",
       "    </tr>\n",
       "    <tr>\n",
       "      <th id=\"T_7bee0_level0_row3\" class=\"row_heading level0 row3\" >3</th>\n",
       "      <td id=\"T_7bee0_row3_col0\" class=\"data row3 col0\" >0.6683</td>\n",
       "      <td id=\"T_7bee0_row3_col1\" class=\"data row3 col1\" >0.6994</td>\n",
       "      <td id=\"T_7bee0_row3_col2\" class=\"data row3 col2\" >0.3492</td>\n",
       "      <td id=\"T_7bee0_row3_col3\" class=\"data row3 col3\" >0.4490</td>\n",
       "      <td id=\"T_7bee0_row3_col4\" class=\"data row3 col4\" >0.3929</td>\n",
       "      <td id=\"T_7bee0_row3_col5\" class=\"data row3 col5\" >0.1695</td>\n",
       "      <td id=\"T_7bee0_row3_col6\" class=\"data row3 col6\" >0.1721</td>\n",
       "    </tr>\n",
       "    <tr>\n",
       "      <th id=\"T_7bee0_level0_row4\" class=\"row_heading level0 row4\" >4</th>\n",
       "      <td id=\"T_7bee0_row4_col0\" class=\"data row4 col0\" >0.6488</td>\n",
       "      <td id=\"T_7bee0_row4_col1\" class=\"data row4 col1\" >0.6363</td>\n",
       "      <td id=\"T_7bee0_row4_col2\" class=\"data row4 col2\" >0.2698</td>\n",
       "      <td id=\"T_7bee0_row4_col3\" class=\"data row4 col3\" >0.3953</td>\n",
       "      <td id=\"T_7bee0_row4_col4\" class=\"data row4 col4\" >0.3208</td>\n",
       "      <td id=\"T_7bee0_row4_col5\" class=\"data row4 col5\" >0.0951</td>\n",
       "      <td id=\"T_7bee0_row4_col6\" class=\"data row4 col6\" >0.0983</td>\n",
       "    </tr>\n",
       "    <tr>\n",
       "      <th id=\"T_7bee0_level0_row5\" class=\"row_heading level0 row5\" >5</th>\n",
       "      <td id=\"T_7bee0_row5_col0\" class=\"data row5 col0\" >0.6537</td>\n",
       "      <td id=\"T_7bee0_row5_col1\" class=\"data row5 col1\" >0.6450</td>\n",
       "      <td id=\"T_7bee0_row5_col2\" class=\"data row5 col2\" >0.2857</td>\n",
       "      <td id=\"T_7bee0_row5_col3\" class=\"data row5 col3\" >0.4091</td>\n",
       "      <td id=\"T_7bee0_row5_col4\" class=\"data row5 col4\" >0.3364</td>\n",
       "      <td id=\"T_7bee0_row5_col5\" class=\"data row5 col5\" >0.1120</td>\n",
       "      <td id=\"T_7bee0_row5_col6\" class=\"data row5 col6\" >0.1153</td>\n",
       "    </tr>\n",
       "    <tr>\n",
       "      <th id=\"T_7bee0_level0_row6\" class=\"row_heading level0 row6\" >6</th>\n",
       "      <td id=\"T_7bee0_row6_col0\" class=\"data row6 col0\" >0.6439</td>\n",
       "      <td id=\"T_7bee0_row6_col1\" class=\"data row6 col1\" >0.6288</td>\n",
       "      <td id=\"T_7bee0_row6_col2\" class=\"data row6 col2\" >0.2698</td>\n",
       "      <td id=\"T_7bee0_row6_col3\" class=\"data row6 col3\" >0.3864</td>\n",
       "      <td id=\"T_7bee0_row6_col4\" class=\"data row6 col4\" >0.3178</td>\n",
       "      <td id=\"T_7bee0_row6_col5\" class=\"data row6 col5\" >0.0870</td>\n",
       "      <td id=\"T_7bee0_row6_col6\" class=\"data row6 col6\" >0.0896</td>\n",
       "    </tr>\n",
       "    <tr>\n",
       "      <th id=\"T_7bee0_level0_row7\" class=\"row_heading level0 row7\" >7</th>\n",
       "      <td id=\"T_7bee0_row7_col0\" class=\"data row7 col0\" >0.6683</td>\n",
       "      <td id=\"T_7bee0_row7_col1\" class=\"data row7 col1\" >0.6094</td>\n",
       "      <td id=\"T_7bee0_row7_col2\" class=\"data row7 col2\" >0.3492</td>\n",
       "      <td id=\"T_7bee0_row7_col3\" class=\"data row7 col3\" >0.4490</td>\n",
       "      <td id=\"T_7bee0_row7_col4\" class=\"data row7 col4\" >0.3929</td>\n",
       "      <td id=\"T_7bee0_row7_col5\" class=\"data row7 col5\" >0.1695</td>\n",
       "      <td id=\"T_7bee0_row7_col6\" class=\"data row7 col6\" >0.1721</td>\n",
       "    </tr>\n",
       "    <tr>\n",
       "      <th id=\"T_7bee0_level0_row8\" class=\"row_heading level0 row8\" >8</th>\n",
       "      <td id=\"T_7bee0_row8_col0\" class=\"data row8 col0\" >0.6488</td>\n",
       "      <td id=\"T_7bee0_row8_col1\" class=\"data row8 col1\" >0.6602</td>\n",
       "      <td id=\"T_7bee0_row8_col2\" class=\"data row8 col2\" >0.3016</td>\n",
       "      <td id=\"T_7bee0_row8_col3\" class=\"data row8 col3\" >0.4043</td>\n",
       "      <td id=\"T_7bee0_row8_col4\" class=\"data row8 col4\" >0.3455</td>\n",
       "      <td id=\"T_7bee0_row8_col5\" class=\"data row8 col5\" >0.1123</td>\n",
       "      <td id=\"T_7bee0_row8_col6\" class=\"data row8 col6\" >0.1146</td>\n",
       "    </tr>\n",
       "    <tr>\n",
       "      <th id=\"T_7bee0_level0_row9\" class=\"row_heading level0 row9\" >9</th>\n",
       "      <td id=\"T_7bee0_row9_col0\" class=\"data row9 col0\" >0.6683</td>\n",
       "      <td id=\"T_7bee0_row9_col1\" class=\"data row9 col1\" >0.6977</td>\n",
       "      <td id=\"T_7bee0_row9_col2\" class=\"data row9 col2\" >0.3968</td>\n",
       "      <td id=\"T_7bee0_row9_col3\" class=\"data row9 col3\" >0.4545</td>\n",
       "      <td id=\"T_7bee0_row9_col4\" class=\"data row9 col4\" >0.4237</td>\n",
       "      <td id=\"T_7bee0_row9_col5\" class=\"data row9 col5\" >0.1924</td>\n",
       "      <td id=\"T_7bee0_row9_col6\" class=\"data row9 col6\" >0.1932</td>\n",
       "    </tr>\n",
       "    <tr>\n",
       "      <th id=\"T_7bee0_level0_row10\" class=\"row_heading level0 row10\" >Mean</th>\n",
       "      <td id=\"T_7bee0_row10_col0\" class=\"data row10 col0\" >0.6600</td>\n",
       "      <td id=\"T_7bee0_row10_col1\" class=\"data row10 col1\" >0.6500</td>\n",
       "      <td id=\"T_7bee0_row10_col2\" class=\"data row10 col2\" >0.3148</td>\n",
       "      <td id=\"T_7bee0_row10_col3\" class=\"data row10 col3\" >0.4255</td>\n",
       "      <td id=\"T_7bee0_row10_col4\" class=\"data row10 col4\" >0.3610</td>\n",
       "      <td id=\"T_7bee0_row10_col5\" class=\"data row10 col5\" >0.1371</td>\n",
       "      <td id=\"T_7bee0_row10_col6\" class=\"data row10 col6\" >0.1401</td>\n",
       "    </tr>\n",
       "    <tr>\n",
       "      <th id=\"T_7bee0_level0_row11\" class=\"row_heading level0 row11\" >SD</th>\n",
       "      <td id=\"T_7bee0_row11_col0\" class=\"data row11 col0\" >0.0095</td>\n",
       "      <td id=\"T_7bee0_row11_col1\" class=\"data row11 col1\" >0.0315</td>\n",
       "      <td id=\"T_7bee0_row11_col2\" class=\"data row11 col2\" >0.0437</td>\n",
       "      <td id=\"T_7bee0_row11_col3\" class=\"data row11 col3\" >0.0233</td>\n",
       "      <td id=\"T_7bee0_row11_col4\" class=\"data row11 col4\" >0.0359</td>\n",
       "      <td id=\"T_7bee0_row11_col5\" class=\"data row11 col5\" >0.0343</td>\n",
       "      <td id=\"T_7bee0_row11_col6\" class=\"data row11 col6\" >0.0337</td>\n",
       "    </tr>\n",
       "  </tbody>\n",
       "</table>\n"
      ],
      "text/plain": [
       "<pandas.io.formats.style.Styler at 0x7fe79921de20>"
      ]
     },
     "metadata": {},
     "output_type": "display_data"
    }
   ],
   "source": [
    "lightgbm_model = create_model('lightgbm')\n",
    "lr_model = create_model('lr')\n",
    "xgboost_model = create_model('xgboost')"
   ]
  },
  {
   "cell_type": "markdown",
   "id": "3aab9021-4462-423a-8e3c-fbe1f36c6110",
   "metadata": {},
   "source": [
    "### Let's load in our 2021 season data and get retention scores using the model:"
   ]
  },
  {
   "cell_type": "code",
   "execution_count": 11,
   "id": "c249a813-c882-4869-9490-6ab766a8c223",
   "metadata": {},
   "outputs": [
    {
     "data": {
      "text/plain": [
       "(1109, 15)"
      ]
     },
     "execution_count": 11,
     "metadata": {},
     "output_type": "execute_result"
    }
   ],
   "source": [
    "df_inference = df.loc[df[\"year\"] >= 2022]\n",
    "df_inference = df_inference.fillna(0)\n",
    "df_inference.shape"
   ]
  },
  {
   "cell_type": "code",
   "execution_count": 12,
   "id": "745b62fb-fb2e-4b4a-9c48-8ce4de472a83",
   "metadata": {},
   "outputs": [],
   "source": [
    "lightgbm_predictions = predict_model(lightgbm_model, data=df_inference, raw_score=True)\n",
    "lr_predictions = predict_model(lr_model, data=df_inference, raw_score=True)\n",
    "xgboost_predictions = predict_model(xgboost_model, data=df_inference, raw_score=True)"
   ]
  },
  {
   "cell_type": "code",
   "execution_count": 13,
   "id": "32e17282",
   "metadata": {},
   "outputs": [
    {
     "name": "stdout",
     "output_type": "stream",
     "text": [
      "lightgbm:\n",
      " 0    926\n",
      "1    183\n",
      "Name: Label, dtype: int64\n",
      "log reg:\n",
      " 0    1109\n",
      "Name: Label, dtype: int64\n",
      "xgboost:\n",
      " 0    924\n",
      "1    185\n",
      "Name: Label, dtype: int64\n"
     ]
    }
   ],
   "source": [
    "print(f\"lightgbm:\\n {lightgbm_predictions.Label.value_counts()}\")\n",
    "print(f\"log reg:\\n {lr_predictions.Label.value_counts()}\")\n",
    "print(f\"xgboost:\\n {xgboost_predictions.Label.value_counts()}\")"
   ]
  },
  {
   "cell_type": "code",
   "execution_count": 14,
   "id": "1d13bb4d",
   "metadata": {},
   "outputs": [
    {
     "name": "stdout",
     "output_type": "stream",
     "text": [
      "lightgbm:\n",
      " (-0.001, 0.25]    621\n",
      "(0.25, 0.5]       305\n",
      "(0.5, 0.75]       130\n",
      "(0.75, 1.0]        53\n",
      "Name: Score_1, dtype: int64\n",
      "lr:\n",
      " (-0.001, 0.25]    755\n",
      "(0.25, 0.5]       354\n",
      "(0.5, 0.75]         0\n",
      "(0.75, 1.0]         0\n",
      "Name: Score_1, dtype: int64\n",
      "xgboost:\n",
      " (-0.001, 0.25]    743\n",
      "(0.25, 0.5]       181\n",
      "(0.5, 0.75]       113\n",
      "(0.75, 1.0]        72\n",
      "Name: Score_1, dtype: int64\n"
     ]
    }
   ],
   "source": [
    "print(f\"lightgbm:\\n {lightgbm_predictions.Score_1.value_counts(bins=[0, 0.25, 0.5, 0.75, 1])}\")\n",
    "print(f\"lr:\\n {lr_predictions.Score_1.value_counts(bins=[0, 0.25, 0.5, 0.75, 1])}\")\n",
    "print(f\"xgboost:\\n {xgboost_predictions.Score_1.value_counts(bins=[0, 0.25, 0.5, 0.75, 1])}\")"
   ]
  },
  {
   "cell_type": "code",
   "execution_count": 15,
   "id": "3b4b1d51-1c33-489a-95f6-ab75e428c760",
   "metadata": {},
   "outputs": [
    {
     "data": {
      "image/png": "[encoded data removed]",
      "text/plain": [
       "<Figure size 576x396 with 3 Axes>"
      ]
     },
     "metadata": {},
     "output_type": "display_data"
    }
   ],
   "source": [
    "model_predictions = [lightgbm_predictions, lr_predictions, xgboost_predictions]\n",
    "\n",
    "for idx, df_predictions in enumerate(model_predictions):\n",
    "\n",
    "    plt.subplot(1, 3, idx+1)\n",
    "\n",
    "    plt.hist(df_predictions[\"Score_1\"], bins=20, edgecolor='black')\n",
    "    plt.title(\"Retention Scores\")\n",
    "    plt.ylabel(\"Num Fans\")\n",
    "    plt.xlabel(\"SA Buyer Score\")\n",
    "\n",
    "plt.rcParams[\"figure.figsize\"] = (20,4)\n",
    "plt.show()"
   ]
  },
  {
   "cell_type": "code",
   "execution_count": 16,
   "id": "144bd27b-9798-4f8b-a3a3-95298d8e2c01",
   "metadata": {},
   "outputs": [
    {
     "data": {
      "image/png": "[encoded data removed]",
      "text/plain": [
       "<Figure size 800x500 with 1 Axes>"
      ]
     },
     "metadata": {},
     "output_type": "display_data"
    }
   ],
   "source": [
    "plot_model(lightgbm_model, plot='feature')"
   ]
  },
  {
   "cell_type": "code",
   "execution_count": 17,
   "id": "9f654c30",
   "metadata": {},
   "outputs": [
    {
     "data": {
      "image/png": "[encoded data removed]",
      "text/plain": [
       "<Figure size 800x500 with 1 Axes>"
      ]
     },
     "metadata": {},
     "output_type": "display_data"
    }
   ],
   "source": [
    "plot_model(lr_model, plot='feature')"
   ]
  },
  {
   "cell_type": "code",
   "execution_count": 18,
   "id": "bd48a8ff",
   "metadata": {},
   "outputs": [
    {
     "data": {
      "image/png": "[encoded data removed]",
      "text/plain": [
       "<Figure size 800x500 with 1 Axes>"
      ]
     },
     "metadata": {},
     "output_type": "display_data"
    }
   ],
   "source": [
    "plot_model(xgboost_model, plot='feature')"
   ]
  },
  {
   "cell_type": "code",
   "execution_count": 19,
   "id": "79e34840-9a47-486f-a648-6d5d16d73b89",
   "metadata": {},
   "outputs": [
    {
     "data": {
      "image/png": "[encoded data removed]",
      "text/plain": [
       "<Figure size 1440x288 with 1 Axes>"
      ]
     },
     "metadata": {},
     "output_type": "display_data"
    }
   ],
   "source": [
    "plot_model(lightgbm_model, plot='confusion_matrix')"
   ]
  },
  {
   "cell_type": "code",
   "execution_count": 20,
   "id": "f5c8ef3b",
   "metadata": {},
   "outputs": [
    {
     "data": {
      "image/png": "[encoded data removed]",
      "text/plain": [
       "<Figure size 1440x288 with 1 Axes>"
      ]
     },
     "metadata": {},
     "output_type": "display_data"
    }
   ],
   "source": [
    "plot_model(lr_model, plot='confusion_matrix')"
   ]
  },
  {
   "cell_type": "code",
   "execution_count": 21,
   "id": "96ecfd08",
   "metadata": {},
   "outputs": [
    {
     "data": {
      "image/png": "[encoded data removed]",
      "text/plain": [
       "<Figure size 1440x288 with 1 Axes>"
      ]
     },
     "metadata": {},
     "output_type": "display_data"
    }
   ],
   "source": [
    "plot_model(xgboost_model, plot='confusion_matrix')"
   ]
  },
  {
   "cell_type": "code",
   "execution_count": 22,
   "id": "171892bc-494c-4012-a740-b49556073858",
   "metadata": {},
   "outputs": [
    {
     "data": {
      "text/html": [
       "<div>\n",
       "<style scoped>\n",
       "    .dataframe tbody tr th:only-of-type {\n",
       "        vertical-align: middle;\n",
       "    }\n",
       "\n",
       "    .dataframe tbody tr th {\n",
       "        vertical-align: top;\n",
       "    }\n",
       "\n",
       "    .dataframe thead th {\n",
       "        text-align: right;\n",
       "    }\n",
       "</style>\n",
       "<table border=\"1\" class=\"dataframe\">\n",
       "  <thead>\n",
       "    <tr style=\"text-align: right;\">\n",
       "      <th></th>\n",
       "      <th>dimCustomerMasterId</th>\n",
       "      <th>year</th>\n",
       "      <th>productGrouping</th>\n",
       "      <th>totalSpent</th>\n",
       "      <th>recentDate</th>\n",
       "      <th>attendancePercent</th>\n",
       "      <th>renewedBeforeDays</th>\n",
       "      <th>source_tenure</th>\n",
       "      <th>tenure</th>\n",
       "      <th>distToVenue</th>\n",
       "      <th>recency</th>\n",
       "      <th>missed_games_1</th>\n",
       "      <th>missed_games_2</th>\n",
       "      <th>missed_games_over_2</th>\n",
       "      <th>isNextYear_Buyer</th>\n",
       "      <th>Label</th>\n",
       "      <th>Score_0</th>\n",
       "      <th>Score_1</th>\n",
       "    </tr>\n",
       "  </thead>\n",
       "  <tbody>\n",
       "    <tr>\n",
       "      <th>0</th>\n",
       "      <td>42</td>\n",
       "      <td>2022</td>\n",
       "      <td>Flex Plan</td>\n",
       "      <td>312.00</td>\n",
       "      <td>2022-06-25</td>\n",
       "      <td>0.38</td>\n",
       "      <td>10</td>\n",
       "      <td>730</td>\n",
       "      <td>150</td>\n",
       "      <td>38.20</td>\n",
       "      <td>1</td>\n",
       "      <td>1</td>\n",
       "      <td>0</td>\n",
       "      <td>0</td>\n",
       "      <td>0</td>\n",
       "      <td>0</td>\n",
       "      <td>0.9737</td>\n",
       "      <td>0.0263</td>\n",
       "    </tr>\n",
       "    <tr>\n",
       "      <th>4</th>\n",
       "      <td>238</td>\n",
       "      <td>2022</td>\n",
       "      <td>Half Season</td>\n",
       "      <td>466.00</td>\n",
       "      <td>2022-05-14</td>\n",
       "      <td>0.60</td>\n",
       "      <td>6</td>\n",
       "      <td>365</td>\n",
       "      <td>217</td>\n",
       "      <td>14.62</td>\n",
       "      <td>2</td>\n",
       "      <td>0</td>\n",
       "      <td>1</td>\n",
       "      <td>0</td>\n",
       "      <td>0</td>\n",
       "      <td>0</td>\n",
       "      <td>0.9303</td>\n",
       "      <td>0.0697</td>\n",
       "    </tr>\n",
       "    <tr>\n",
       "      <th>6</th>\n",
       "      <td>313</td>\n",
       "      <td>2022</td>\n",
       "      <td>Full Season</td>\n",
       "      <td>1267.50</td>\n",
       "      <td>2022-03-12</td>\n",
       "      <td>1.00</td>\n",
       "      <td>103</td>\n",
       "      <td>365</td>\n",
       "      <td>103</td>\n",
       "      <td>3764.39</td>\n",
       "      <td>0</td>\n",
       "      <td>0</td>\n",
       "      <td>0</td>\n",
       "      <td>0</td>\n",
       "      <td>0</td>\n",
       "      <td>0</td>\n",
       "      <td>0.9555</td>\n",
       "      <td>0.0445</td>\n",
       "    </tr>\n",
       "    <tr>\n",
       "      <th>8</th>\n",
       "      <td>322</td>\n",
       "      <td>2022</td>\n",
       "      <td>Full Season</td>\n",
       "      <td>875.50</td>\n",
       "      <td>2022-06-25</td>\n",
       "      <td>0.60</td>\n",
       "      <td>159</td>\n",
       "      <td>1095</td>\n",
       "      <td>1054</td>\n",
       "      <td>29.38</td>\n",
       "      <td>1</td>\n",
       "      <td>2</td>\n",
       "      <td>1</td>\n",
       "      <td>0</td>\n",
       "      <td>0</td>\n",
       "      <td>0</td>\n",
       "      <td>0.9330</td>\n",
       "      <td>0.0670</td>\n",
       "    </tr>\n",
       "    <tr>\n",
       "      <th>15</th>\n",
       "      <td>454</td>\n",
       "      <td>2022</td>\n",
       "      <td>Full Season</td>\n",
       "      <td>700.40</td>\n",
       "      <td>2022-06-25</td>\n",
       "      <td>0.30</td>\n",
       "      <td>162</td>\n",
       "      <td>1095</td>\n",
       "      <td>1087</td>\n",
       "      <td>23.14</td>\n",
       "      <td>1</td>\n",
       "      <td>1</td>\n",
       "      <td>0</td>\n",
       "      <td>1</td>\n",
       "      <td>0</td>\n",
       "      <td>0</td>\n",
       "      <td>0.9254</td>\n",
       "      <td>0.0746</td>\n",
       "    </tr>\n",
       "    <tr>\n",
       "      <th>...</th>\n",
       "      <td>...</td>\n",
       "      <td>...</td>\n",
       "      <td>...</td>\n",
       "      <td>...</td>\n",
       "      <td>...</td>\n",
       "      <td>...</td>\n",
       "      <td>...</td>\n",
       "      <td>...</td>\n",
       "      <td>...</td>\n",
       "      <td>...</td>\n",
       "      <td>...</td>\n",
       "      <td>...</td>\n",
       "      <td>...</td>\n",
       "      <td>...</td>\n",
       "      <td>...</td>\n",
       "      <td>...</td>\n",
       "      <td>...</td>\n",
       "      <td>...</td>\n",
       "    </tr>\n",
       "    <tr>\n",
       "      <th>3939</th>\n",
       "      <td>235740</td>\n",
       "      <td>2022</td>\n",
       "      <td>Full Season</td>\n",
       "      <td>405.00</td>\n",
       "      <td>2022-04-24</td>\n",
       "      <td>1.00</td>\n",
       "      <td>0</td>\n",
       "      <td>365</td>\n",
       "      <td>59</td>\n",
       "      <td>50.84</td>\n",
       "      <td>0</td>\n",
       "      <td>0</td>\n",
       "      <td>0</td>\n",
       "      <td>0</td>\n",
       "      <td>0</td>\n",
       "      <td>0</td>\n",
       "      <td>0.9984</td>\n",
       "      <td>0.0016</td>\n",
       "    </tr>\n",
       "    <tr>\n",
       "      <th>3940</th>\n",
       "      <td>238726</td>\n",
       "      <td>2022</td>\n",
       "      <td>Full Season</td>\n",
       "      <td>1912.72</td>\n",
       "      <td>2022-06-25</td>\n",
       "      <td>0.58</td>\n",
       "      <td>1</td>\n",
       "      <td>0</td>\n",
       "      <td>135</td>\n",
       "      <td>8.55</td>\n",
       "      <td>1</td>\n",
       "      <td>1</td>\n",
       "      <td>0</td>\n",
       "      <td>0</td>\n",
       "      <td>0</td>\n",
       "      <td>0</td>\n",
       "      <td>0.8750</td>\n",
       "      <td>0.1250</td>\n",
       "    </tr>\n",
       "    <tr>\n",
       "      <th>3942</th>\n",
       "      <td>241919</td>\n",
       "      <td>2022</td>\n",
       "      <td>Full Season</td>\n",
       "      <td>3187.32</td>\n",
       "      <td>2022-06-25</td>\n",
       "      <td>0.75</td>\n",
       "      <td>5</td>\n",
       "      <td>0</td>\n",
       "      <td>145</td>\n",
       "      <td>56.49</td>\n",
       "      <td>1</td>\n",
       "      <td>1</td>\n",
       "      <td>0</td>\n",
       "      <td>0</td>\n",
       "      <td>0</td>\n",
       "      <td>0</td>\n",
       "      <td>0.8613</td>\n",
       "      <td>0.1387</td>\n",
       "    </tr>\n",
       "    <tr>\n",
       "      <th>3944</th>\n",
       "      <td>244313</td>\n",
       "      <td>2022</td>\n",
       "      <td>Full Season</td>\n",
       "      <td>1575.90</td>\n",
       "      <td>2022-05-14</td>\n",
       "      <td>0.30</td>\n",
       "      <td>162</td>\n",
       "      <td>1095</td>\n",
       "      <td>1094</td>\n",
       "      <td>38.86</td>\n",
       "      <td>4</td>\n",
       "      <td>0</td>\n",
       "      <td>0</td>\n",
       "      <td>2</td>\n",
       "      <td>0</td>\n",
       "      <td>0</td>\n",
       "      <td>0.7460</td>\n",
       "      <td>0.2540</td>\n",
       "    </tr>\n",
       "    <tr>\n",
       "      <th>3946</th>\n",
       "      <td>246898</td>\n",
       "      <td>2022</td>\n",
       "      <td>Full Season</td>\n",
       "      <td>2276.30</td>\n",
       "      <td>2022-06-25</td>\n",
       "      <td>0.80</td>\n",
       "      <td>162</td>\n",
       "      <td>1095</td>\n",
       "      <td>1087</td>\n",
       "      <td>18.51</td>\n",
       "      <td>1</td>\n",
       "      <td>2</td>\n",
       "      <td>0</td>\n",
       "      <td>0</td>\n",
       "      <td>0</td>\n",
       "      <td>0</td>\n",
       "      <td>0.6815</td>\n",
       "      <td>0.3185</td>\n",
       "    </tr>\n",
       "  </tbody>\n",
       "</table>\n",
       "<p>1109 rows × 18 columns</p>\n",
       "</div>"
      ],
      "text/plain": [
       "      dimCustomerMasterId  year productGrouping  totalSpent  recentDate  \\\n",
       "0                      42  2022       Flex Plan      312.00  2022-06-25   \n",
       "4                     238  2022     Half Season      466.00  2022-05-14   \n",
       "6                     313  2022     Full Season     1267.50  2022-03-12   \n",
       "8                     322  2022     Full Season      875.50  2022-06-25   \n",
       "15                    454  2022     Full Season      700.40  2022-06-25   \n",
       "...                   ...   ...             ...         ...         ...   \n",
       "3939               235740  2022     Full Season      405.00  2022-04-24   \n",
       "3940               238726  2022     Full Season     1912.72  2022-06-25   \n",
       "3942               241919  2022     Full Season     3187.32  2022-06-25   \n",
       "3944               244313  2022     Full Season     1575.90  2022-05-14   \n",
       "3946               246898  2022     Full Season     2276.30  2022-06-25   \n",
       "\n",
       "      attendancePercent  renewedBeforeDays  source_tenure  tenure  \\\n",
       "0                  0.38                 10            730     150   \n",
       "4                  0.60                  6            365     217   \n",
       "6                  1.00                103            365     103   \n",
       "8                  0.60                159           1095    1054   \n",
       "15                 0.30                162           1095    1087   \n",
       "...                 ...                ...            ...     ...   \n",
       "3939               1.00                  0            365      59   \n",
       "3940               0.58                  1              0     135   \n",
       "3942               0.75                  5              0     145   \n",
       "3944               0.30                162           1095    1094   \n",
       "3946               0.80                162           1095    1087   \n",
       "\n",
       "      distToVenue  recency  missed_games_1  missed_games_2  \\\n",
       "0           38.20        1               1               0   \n",
       "4           14.62        2               0               1   \n",
       "6         3764.39        0               0               0   \n",
       "8           29.38        1               2               1   \n",
       "15          23.14        1               1               0   \n",
       "...           ...      ...             ...             ...   \n",
       "3939        50.84        0               0               0   \n",
       "3940         8.55        1               1               0   \n",
       "3942        56.49        1               1               0   \n",
       "3944        38.86        4               0               0   \n",
       "3946        18.51        1               2               0   \n",
       "\n",
       "      missed_games_over_2  isNextYear_Buyer  Label  Score_0  Score_1  \n",
       "0                       0                 0      0   0.9737   0.0263  \n",
       "4                       0                 0      0   0.9303   0.0697  \n",
       "6                       0                 0      0   0.9555   0.0445  \n",
       "8                       0                 0      0   0.9330   0.0670  \n",
       "15                      1                 0      0   0.9254   0.0746  \n",
       "...                   ...               ...    ...      ...      ...  \n",
       "3939                    0                 0      0   0.9984   0.0016  \n",
       "3940                    0                 0      0   0.8750   0.1250  \n",
       "3942                    0                 0      0   0.8613   0.1387  \n",
       "3944                    2                 0      0   0.7460   0.2540  \n",
       "3946                    0                 0      0   0.6815   0.3185  \n",
       "\n",
       "[1109 rows x 18 columns]"
      ]
     },
     "execution_count": 22,
     "metadata": {},
     "output_type": "execute_result"
    }
   ],
   "source": [
    "lightgbm_predictions"
   ]
  },
  {
   "cell_type": "code",
   "execution_count": 24,
   "id": "a97ef2ea-4b7c-4200-ad25-76e92c596b21",
   "metadata": {},
   "outputs": [],
   "source": [
    "from datetime import datetime\n",
    "current_date = datetime.today().strftime('%Y-%m-%d')\n",
    "lightgbm_predictions.to_csv(f\"Results/InterMaimi_Scores_{current_date}.csv\", index=False)"
   ]
  },
  {
   "cell_type": "markdown",
   "id": "a439108b-7911-4384-b089-f7b31c825192",
   "metadata": {},
   "source": [
    "## Observations\n",
    "Here you can document some ideas on the results from above"
   ]
  },
  {
   "cell_type": "code",
   "execution_count": null,
   "id": "e2bc4907",
   "metadata": {},
   "outputs": [],
   "source": []
  }
 ],
 "metadata": {
  "kernelspec": {
   "display_name": "Python 3 (ipykernel)",
   "language": "python",
   "name": "python3"
  },
  "language_info": {
   "codemirror_mode": {
    "name": "ipython",
    "version": 3
   },
   "file_extension": ".py",
   "mimetype": "text/x-python",
   "name": "python",
   "nbconvert_exporter": "python",
   "pygments_lexer": "ipython3",
   "version": "3.9.4"
  },
  "vscode": {
   "interpreter": {
    "hash": "89f48dadab51a6b5b48ffc1a9e043c21cefe67453637c3444f3b86917b8aad16"
   }
  }
 },
 "nbformat": 4,
 "nbformat_minor": 5
}
