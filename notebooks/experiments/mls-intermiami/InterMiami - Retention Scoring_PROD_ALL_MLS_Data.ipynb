{
 "cells": [
  {
   "cell_type": "markdown",
   "id": "6ee08766-25fd-4da1-91b8-b0c3e74db588",
   "metadata": {},
   "source": [
    "# Inter-Maimi - PROD Retention Score _ all teams\n",
    "* StelllarAlgo Data Science\n",
    "* Ryan Kazmerik & Nakisa Rad\n",
    "* June 20, 2022"
   ]
  },
  {
   "cell_type": "markdown",
   "id": "39108c8d-2e9f-4759-ade2-83071038dc56",
   "metadata": {},
   "source": [
    "## Hypothesis\n"
   ]
  },
  {
   "cell_type": "markdown",
   "id": "28142011-1f32-4cc7-816b-a6dae6f70c8c",
   "metadata": {},
   "source": [
    "## Experiment\n",
    "This section details our experiment including querying data, data transformations, feature selection and modelling."
   ]
  },
  {
   "cell_type": "code",
   "execution_count": 11,
   "id": "4c533efd-600e-4bce-8203-faffbddfa700",
   "metadata": {},
   "outputs": [],
   "source": [
    "import getpass\n",
    "import pyodbc\n",
    "import pandas as pd\n",
    "import matplotlib.pyplot as plt\n",
    "from datetime import datetime\n",
    "from pycaret.classification import *"
   ]
  },
  {
   "cell_type": "markdown",
   "id": "b64ae7d5-84af-4915-bd13-1dd9d17098a3",
   "metadata": {},
   "source": [
    "### Let's connect to MSSQL and run a stored proc to get our dataset:"
   ]
  },
  {
   "cell_type": "code",
   "execution_count": 12,
   "id": "ae561eb4-f419-4d46-b5e0-12fac9b10db8",
   "metadata": {},
   "outputs": [
    {
     "name": "stdout",
     "output_type": "stream",
     "text": [
      "Enter your password ··················\n"
     ]
    }
   ],
   "source": [
    "# connect to SQL Server.\n",
    "SERVER = '34.206.73.189' \n",
    "DATABASE = 'datascience' \n",
    "USERNAME = 'dsAdminWrite' \n",
    "PASSWORD = getpass.getpass(prompt='Enter your password')\n",
    "CNXN = pyodbc.connect('DRIVER={ODBC Driver 17 for SQL Server};SERVER='+SERVER+';DATABASE='+DATABASE+';UID='+USERNAME+';PWD='+ PASSWORD)"
   ]
  },
  {
   "cell_type": "code",
   "execution_count": 3,
   "id": "af1afe7d-a35b-494b-88f3-980fb0e3da30",
   "metadata": {},
   "outputs": [
    {
     "data": {
      "text/plain": [
       "(59989, 52)"
      ]
     },
     "execution_count": 3,
     "metadata": {},
     "output_type": "execute_result"
    }
   ],
   "source": [
    "cursor = CNXN.cursor()\n",
    "\n",
    "storedProc = (\n",
    "    f\"\"\"Exec [stlrMLS].[ds].[getRetentionScoringModelData_all_teams] \"\"\"\n",
    ")\n",
    "\n",
    "df = pd.read_sql(storedProc, CNXN)\n",
    "\n",
    "# apply some data transformations\n",
    "df[\"year\"] = pd.to_numeric(df[\"year\"])\n",
    "\n",
    "CNXN.commit()\n",
    "cursor.close()\n",
    "\n",
    "df.shape"
   ]
  },
  {
   "cell_type": "code",
   "execution_count": 4,
   "id": "11e97dcc-c69e-46c1-8dad-33f6291cb0c6",
   "metadata": {},
   "outputs": [
    {
     "name": "stdout",
     "output_type": "stream",
     "text": [
      "<class 'pandas.core.frame.DataFrame'>\n",
      "RangeIndex: 59989 entries, 0 to 59988\n",
      "Data columns (total 52 columns):\n",
      " #   Column                  Non-Null Count  Dtype  \n",
      "---  ------                  --------------  -----  \n",
      " 0   dimCustomerMasterId     59989 non-null  int64  \n",
      " 1   year                    59989 non-null  int64  \n",
      " 2   productGrouping         59989 non-null  object \n",
      " 3   totalSpent              59989 non-null  float64\n",
      " 4   recentDate              59989 non-null  object \n",
      " 5   attendancePercent       59989 non-null  float64\n",
      " 6   renewedBeforeDays       59968 non-null  float64\n",
      " 7   isBuyer                 59989 non-null  object \n",
      " 8   source_tenure           59968 non-null  float64\n",
      " 9   tenure                  59968 non-null  float64\n",
      " 10  distToVenue             59989 non-null  float64\n",
      " 11  totalGames              59989 non-null  int64  \n",
      " 12  recency                 59989 non-null  int64  \n",
      " 13  missed_games_1          59989 non-null  int64  \n",
      " 14  missed_games_2          59989 non-null  int64  \n",
      " 15  missed_games_over_2     59989 non-null  int64  \n",
      " 16  click_link              59989 non-null  int64  \n",
      " 17  fill_out_form           59989 non-null  int64  \n",
      " 18  open_email              59989 non-null  int64  \n",
      " 19  send_email              59989 non-null  int64  \n",
      " 20  unsubscribe_email       59989 non-null  int64  \n",
      " 21  openToSendRatio         59989 non-null  float64\n",
      " 22  clickToSendRatio        59989 non-null  float64\n",
      " 23  clickToOpenRatio        59989 non-null  float64\n",
      " 24  posting_records         59989 non-null  int64  \n",
      " 25  resale_records          59989 non-null  int64  \n",
      " 26  resale_atp              59989 non-null  float64\n",
      " 27  forward_records         59989 non-null  int64  \n",
      " 28  cancel_records          59989 non-null  int64  \n",
      " 29  email                   59989 non-null  int64  \n",
      " 30  inbound_email           59989 non-null  int64  \n",
      " 31  inbound_phonecall       59989 non-null  int64  \n",
      " 32  inperson_contact        59989 non-null  int64  \n",
      " 33  internal_note           59989 non-null  int64  \n",
      " 34  left_message            59989 non-null  int64  \n",
      " 35  outbound_email          59989 non-null  int64  \n",
      " 36  outbound_phonecall      59989 non-null  int64  \n",
      " 37  phonecall               59989 non-null  int64  \n",
      " 38  text                    59989 non-null  int64  \n",
      " 39  unknown                 59989 non-null  int64  \n",
      " 40  gender                  59989 non-null  object \n",
      " 41  childrenPresentInHH     59989 non-null  int64  \n",
      " 42  maritalStatus           59989 non-null  int64  \n",
      " 43  lengthOfResidenceInYrs  0 non-null      object \n",
      " 44  annualHHIncome          59989 non-null  object \n",
      " 45  education               59989 non-null  object \n",
      " 46  urbanicity              0 non-null      object \n",
      " 47  credits_after_refund    59989 non-null  float64\n",
      " 48  is_Lockdown             59989 non-null  int64  \n",
      " 49  NumberofGamesPerSeason  59989 non-null  int64  \n",
      " 50  CNTPostponedGames       0 non-null      object \n",
      " 51  isNextYear_Buyer        59989 non-null  int64  \n",
      "dtypes: float64(11), int64(32), object(9)\n",
      "memory usage: 23.8+ MB\n"
     ]
    }
   ],
   "source": [
    "df.info()"
   ]
  },
  {
   "cell_type": "markdown",
   "id": "ab40da92-72a7-49c1-9829-ed3805a39719",
   "metadata": {},
   "source": [
    "### We should specify the features used in our model:"
   ]
  },
  {
   "cell_type": "code",
   "execution_count": 5,
   "id": "788f1273-8b7a-46bd-a099-1a471feeacc5",
   "metadata": {},
   "outputs": [
    {
     "name": "stdout",
     "output_type": "stream",
     "text": [
      "Data for Modeling: (43284, 15)\n",
      "Unseen Data For Predictions: (7638, 15)\n",
      "\n"
     ]
    }
   ],
   "source": [
    "# choose the features for the stellar base retention model\n",
    "features = [\n",
    "            \"dimCustomerMasterId\",\n",
    "            \"year\",\n",
    "            \"productGrouping\", \n",
    "            \"totalSpent\", \n",
    "            \"recentDate\",\n",
    "            \"attendancePercent\", \n",
    "            \"renewedBeforeDays\",\n",
    "            \"source_tenure\",\n",
    "            \"tenure\",\n",
    "            \"distToVenue\",\n",
    "            \"recency\",\n",
    "            \"missed_games_1\",\n",
    "            \"missed_games_2\",\n",
    "            \"missed_games_over_2\",\n",
    "            \"isNextYear_Buyer\"\n",
    "]\n",
    "\n",
    "# copy your main dataframe\n",
    "df_dataset = df\n",
    "\n",
    "# choose the features & train year & test year\n",
    "df_dataset = df_dataset[features]\n",
    "df_dataset[\"year\"] = pd.to_numeric(df_dataset[\"year\"])\n",
    "df_dataset = df_dataset.loc[df_dataset[\"year\"] <= 2021]\n",
    "\n",
    "df_train = df_dataset.sample(frac=0.85, random_state=786)\n",
    "df_eval = df_dataset.drop(df_train.index)\n",
    "\n",
    "df_train.reset_index(drop=True, inplace=True)\n",
    "df_eval.reset_index(drop=True, inplace=True)\n",
    "\n",
    "# print out the number of records for training and eval\n",
    "print('Data for Modeling: ' + str(df_train.shape))\n",
    "print('Unseen Data For Predictions: ' + str(df_eval.shape), end=\"\\n\\n\")"
   ]
  },
  {
   "cell_type": "markdown",
   "id": "4f2da06d-9015-49fd-89b3-956c2ebf66e9",
   "metadata": {},
   "source": [
    "### Now we can model the data using a binary classification prediction for the isnextyear_buyer field to see how likely a customer is to re-purchase."
   ]
  },
  {
   "cell_type": "code",
   "execution_count": 6,
   "id": "23a69cdc-b3ec-48c8-9ce5-29f617779389",
   "metadata": {},
   "outputs": [],
   "source": [
    "setup(\n",
    "    data= df_train, \n",
    "    target=\"isNextYear_Buyer\", \n",
    "    train_size = 0.85,\n",
    "    data_split_shuffle=True,\n",
    "    ignore_features=[\"dimCustomerMasterId\",\"productGrouping\",\"year\"],\n",
    "    silent=True,\n",
    "    verbose=False,\n",
    "    numeric_features=[\n",
    "    \"totalSpent\", \n",
    "            \"attendancePercent\", \n",
    "            \"renewedBeforeDays\",\n",
    "            \"source_tenure\",\n",
    "            \"tenure\",\n",
    "            \"distToVenue\",\n",
    "            \"recency\",\n",
    "            \"missed_games_1\",\n",
    "            \"missed_games_2\",\n",
    "            \"missed_games_over_2\"\n",
    "    ]\n",
    ");"
   ]
  },
  {
   "cell_type": "code",
   "execution_count": 7,
   "id": "ef2db9d2-02c2-45c0-b6bb-5cad42c373ce",
   "metadata": {},
   "outputs": [
    {
     "data": {
      "text/html": [
       "<style type=\"text/css\">\n",
       "#T_7a9d1 th {\n",
       "  text-align: left;\n",
       "}\n",
       "#T_7a9d1_row0_col0, #T_7a9d1_row0_col4, #T_7a9d1_row1_col0, #T_7a9d1_row1_col1, #T_7a9d1_row1_col2, #T_7a9d1_row1_col3, #T_7a9d1_row1_col5, #T_7a9d1_row1_col6, #T_7a9d1_row1_col7, #T_7a9d1_row2_col0, #T_7a9d1_row2_col1, #T_7a9d1_row2_col2, #T_7a9d1_row2_col3, #T_7a9d1_row2_col4, #T_7a9d1_row2_col5, #T_7a9d1_row2_col6, #T_7a9d1_row2_col7 {\n",
       "  text-align: left;\n",
       "}\n",
       "#T_7a9d1_row0_col1, #T_7a9d1_row0_col2, #T_7a9d1_row0_col3, #T_7a9d1_row0_col5, #T_7a9d1_row0_col6, #T_7a9d1_row0_col7, #T_7a9d1_row1_col4 {\n",
       "  text-align: left;\n",
       "  background-color: yellow;\n",
       "}\n",
       "#T_7a9d1_row0_col8 {\n",
       "  text-align: left;\n",
       "  background-color: yellow;\n",
       "  background-color: lightgrey;\n",
       "}\n",
       "#T_7a9d1_row1_col8, #T_7a9d1_row2_col8 {\n",
       "  text-align: left;\n",
       "  background-color: lightgrey;\n",
       "}\n",
       "</style>\n",
       "<table id=\"T_7a9d1\">\n",
       "  <thead>\n",
       "    <tr>\n",
       "      <th class=\"blank level0\" >&nbsp;</th>\n",
       "      <th id=\"T_7a9d1_level0_col0\" class=\"col_heading level0 col0\" >Model</th>\n",
       "      <th id=\"T_7a9d1_level0_col1\" class=\"col_heading level0 col1\" >Accuracy</th>\n",
       "      <th id=\"T_7a9d1_level0_col2\" class=\"col_heading level0 col2\" >AUC</th>\n",
       "      <th id=\"T_7a9d1_level0_col3\" class=\"col_heading level0 col3\" >Recall</th>\n",
       "      <th id=\"T_7a9d1_level0_col4\" class=\"col_heading level0 col4\" >Prec.</th>\n",
       "      <th id=\"T_7a9d1_level0_col5\" class=\"col_heading level0 col5\" >F1</th>\n",
       "      <th id=\"T_7a9d1_level0_col6\" class=\"col_heading level0 col6\" >Kappa</th>\n",
       "      <th id=\"T_7a9d1_level0_col7\" class=\"col_heading level0 col7\" >MCC</th>\n",
       "      <th id=\"T_7a9d1_level0_col8\" class=\"col_heading level0 col8\" >TT (Sec)</th>\n",
       "    </tr>\n",
       "  </thead>\n",
       "  <tbody>\n",
       "    <tr>\n",
       "      <th id=\"T_7a9d1_level0_row0\" class=\"row_heading level0 row0\" >lightgbm</th>\n",
       "      <td id=\"T_7a9d1_row0_col0\" class=\"data row0 col0\" >Light Gradient Boosting Machine</td>\n",
       "      <td id=\"T_7a9d1_row0_col1\" class=\"data row0 col1\" >0.7789</td>\n",
       "      <td id=\"T_7a9d1_row0_col2\" class=\"data row0 col2\" >0.8268</td>\n",
       "      <td id=\"T_7a9d1_row0_col3\" class=\"data row0 col3\" >0.8971</td>\n",
       "      <td id=\"T_7a9d1_row0_col4\" class=\"data row0 col4\" >0.7861</td>\n",
       "      <td id=\"T_7a9d1_row0_col5\" class=\"data row0 col5\" >0.8379</td>\n",
       "      <td id=\"T_7a9d1_row0_col6\" class=\"data row0 col6\" >0.4950</td>\n",
       "      <td id=\"T_7a9d1_row0_col7\" class=\"data row0 col7\" >0.5059</td>\n",
       "      <td id=\"T_7a9d1_row0_col8\" class=\"data row0 col8\" >0.3780</td>\n",
       "    </tr>\n",
       "    <tr>\n",
       "      <th id=\"T_7a9d1_level0_row1\" class=\"row_heading level0 row1\" >xgboost</th>\n",
       "      <td id=\"T_7a9d1_row1_col0\" class=\"data row1 col0\" >Extreme Gradient Boosting</td>\n",
       "      <td id=\"T_7a9d1_row1_col1\" class=\"data row1 col1\" >0.7765</td>\n",
       "      <td id=\"T_7a9d1_row1_col2\" class=\"data row1 col2\" >0.8241</td>\n",
       "      <td id=\"T_7a9d1_row1_col3\" class=\"data row1 col3\" >0.8868</td>\n",
       "      <td id=\"T_7a9d1_row1_col4\" class=\"data row1 col4\" >0.7887</td>\n",
       "      <td id=\"T_7a9d1_row1_col5\" class=\"data row1 col5\" >0.8349</td>\n",
       "      <td id=\"T_7a9d1_row1_col6\" class=\"data row1 col6\" >0.4929</td>\n",
       "      <td id=\"T_7a9d1_row1_col7\" class=\"data row1 col7\" >0.5011</td>\n",
       "      <td id=\"T_7a9d1_row1_col8\" class=\"data row1 col8\" >1.6890</td>\n",
       "    </tr>\n",
       "    <tr>\n",
       "      <th id=\"T_7a9d1_level0_row2\" class=\"row_heading level0 row2\" >lr</th>\n",
       "      <td id=\"T_7a9d1_row2_col0\" class=\"data row2 col0\" >Logistic Regression</td>\n",
       "      <td id=\"T_7a9d1_row2_col1\" class=\"data row2 col1\" >0.7352</td>\n",
       "      <td id=\"T_7a9d1_row2_col2\" class=\"data row2 col2\" >0.7572</td>\n",
       "      <td id=\"T_7a9d1_row2_col3\" class=\"data row2 col3\" >0.8880</td>\n",
       "      <td id=\"T_7a9d1_row2_col4\" class=\"data row2 col4\" >0.7453</td>\n",
       "      <td id=\"T_7a9d1_row2_col5\" class=\"data row2 col5\" >0.8103</td>\n",
       "      <td id=\"T_7a9d1_row2_col6\" class=\"data row2 col6\" >0.3826</td>\n",
       "      <td id=\"T_7a9d1_row2_col7\" class=\"data row2 col7\" >0.3995</td>\n",
       "      <td id=\"T_7a9d1_row2_col8\" class=\"data row2 col8\" >1.0020</td>\n",
       "    </tr>\n",
       "  </tbody>\n",
       "</table>\n"
      ],
      "text/plain": [
       "<pandas.io.formats.style.Styler at 0x7ff5880bcd60>"
      ]
     },
     "metadata": {},
     "output_type": "display_data"
    }
   ],
   "source": [
    "model_matrix = compare_models(\n",
    "    fold=10,\n",
    "    include=[\"lightgbm\",\"lr\",\"xgboost\"]\n",
    ")"
   ]
  },
  {
   "cell_type": "code",
   "execution_count": 8,
   "id": "85416b8a",
   "metadata": {},
   "outputs": [
    {
     "data": {
      "text/html": [
       "<style type=\"text/css\">\n",
       "#T_ba5f4_row10_col0, #T_ba5f4_row10_col1, #T_ba5f4_row10_col2, #T_ba5f4_row10_col3, #T_ba5f4_row10_col4, #T_ba5f4_row10_col5, #T_ba5f4_row10_col6 {\n",
       "  background: yellow;\n",
       "}\n",
       "</style>\n",
       "<table id=\"T_ba5f4\">\n",
       "  <thead>\n",
       "    <tr>\n",
       "      <th class=\"blank level0\" >&nbsp;</th>\n",
       "      <th id=\"T_ba5f4_level0_col0\" class=\"col_heading level0 col0\" >Accuracy</th>\n",
       "      <th id=\"T_ba5f4_level0_col1\" class=\"col_heading level0 col1\" >AUC</th>\n",
       "      <th id=\"T_ba5f4_level0_col2\" class=\"col_heading level0 col2\" >Recall</th>\n",
       "      <th id=\"T_ba5f4_level0_col3\" class=\"col_heading level0 col3\" >Prec.</th>\n",
       "      <th id=\"T_ba5f4_level0_col4\" class=\"col_heading level0 col4\" >F1</th>\n",
       "      <th id=\"T_ba5f4_level0_col5\" class=\"col_heading level0 col5\" >Kappa</th>\n",
       "      <th id=\"T_ba5f4_level0_col6\" class=\"col_heading level0 col6\" >MCC</th>\n",
       "    </tr>\n",
       "  </thead>\n",
       "  <tbody>\n",
       "    <tr>\n",
       "      <th id=\"T_ba5f4_level0_row0\" class=\"row_heading level0 row0\" >0</th>\n",
       "      <td id=\"T_ba5f4_row0_col0\" class=\"data row0 col0\" >0.7799</td>\n",
       "      <td id=\"T_ba5f4_row0_col1\" class=\"data row0 col1\" >0.8273</td>\n",
       "      <td id=\"T_ba5f4_row0_col2\" class=\"data row0 col2\" >0.8852</td>\n",
       "      <td id=\"T_ba5f4_row0_col3\" class=\"data row0 col3\" >0.7932</td>\n",
       "      <td id=\"T_ba5f4_row0_col4\" class=\"data row0 col4\" >0.8367</td>\n",
       "      <td id=\"T_ba5f4_row0_col5\" class=\"data row0 col5\" >0.5023</td>\n",
       "      <td id=\"T_ba5f4_row0_col6\" class=\"data row0 col6\" >0.5095</td>\n",
       "    </tr>\n",
       "    <tr>\n",
       "      <th id=\"T_ba5f4_level0_row1\" class=\"row_heading level0 row1\" >1</th>\n",
       "      <td id=\"T_ba5f4_row1_col0\" class=\"data row1 col0\" >0.7668</td>\n",
       "      <td id=\"T_ba5f4_row1_col1\" class=\"data row1 col1\" >0.8214</td>\n",
       "      <td id=\"T_ba5f4_row1_col2\" class=\"data row1 col2\" >0.8788</td>\n",
       "      <td id=\"T_ba5f4_row1_col3\" class=\"data row1 col3\" >0.7820</td>\n",
       "      <td id=\"T_ba5f4_row1_col4\" class=\"data row1 col4\" >0.8276</td>\n",
       "      <td id=\"T_ba5f4_row1_col5\" class=\"data row1 col5\" >0.4711</td>\n",
       "      <td id=\"T_ba5f4_row1_col6\" class=\"data row1 col6\" >0.4788</td>\n",
       "    </tr>\n",
       "    <tr>\n",
       "      <th id=\"T_ba5f4_level0_row2\" class=\"row_heading level0 row2\" >2</th>\n",
       "      <td id=\"T_ba5f4_row2_col0\" class=\"data row2 col0\" >0.7752</td>\n",
       "      <td id=\"T_ba5f4_row2_col1\" class=\"data row2 col1\" >0.8250</td>\n",
       "      <td id=\"T_ba5f4_row2_col2\" class=\"data row2 col2\" >0.8856</td>\n",
       "      <td id=\"T_ba5f4_row2_col3\" class=\"data row2 col3\" >0.7878</td>\n",
       "      <td id=\"T_ba5f4_row2_col4\" class=\"data row2 col4\" >0.8338</td>\n",
       "      <td id=\"T_ba5f4_row2_col5\" class=\"data row2 col5\" >0.4901</td>\n",
       "      <td id=\"T_ba5f4_row2_col6\" class=\"data row2 col6\" >0.4982</td>\n",
       "    </tr>\n",
       "    <tr>\n",
       "      <th id=\"T_ba5f4_level0_row3\" class=\"row_heading level0 row3\" >3</th>\n",
       "      <td id=\"T_ba5f4_row3_col0\" class=\"data row3 col0\" >0.7728</td>\n",
       "      <td id=\"T_ba5f4_row3_col1\" class=\"data row3 col1\" >0.8194</td>\n",
       "      <td id=\"T_ba5f4_row3_col2\" class=\"data row3 col2\" >0.8873</td>\n",
       "      <td id=\"T_ba5f4_row3_col3\" class=\"data row3 col3\" >0.7842</td>\n",
       "      <td id=\"T_ba5f4_row3_col4\" class=\"data row3 col4\" >0.8326</td>\n",
       "      <td id=\"T_ba5f4_row3_col5\" class=\"data row3 col5\" >0.4831</td>\n",
       "      <td id=\"T_ba5f4_row3_col6\" class=\"data row3 col6\" >0.4921</td>\n",
       "    </tr>\n",
       "    <tr>\n",
       "      <th id=\"T_ba5f4_level0_row4\" class=\"row_heading level0 row4\" >4</th>\n",
       "      <td id=\"T_ba5f4_row4_col0\" class=\"data row4 col0\" >0.7782</td>\n",
       "      <td id=\"T_ba5f4_row4_col1\" class=\"data row4 col1\" >0.8251</td>\n",
       "      <td id=\"T_ba5f4_row4_col2\" class=\"data row4 col2\" >0.8835</td>\n",
       "      <td id=\"T_ba5f4_row4_col3\" class=\"data row4 col3\" >0.7923</td>\n",
       "      <td id=\"T_ba5f4_row4_col4\" class=\"data row4 col4\" >0.8354</td>\n",
       "      <td id=\"T_ba5f4_row4_col5\" class=\"data row4 col5\" >0.4985</td>\n",
       "      <td id=\"T_ba5f4_row4_col6\" class=\"data row4 col6\" >0.5055</td>\n",
       "    </tr>\n",
       "    <tr>\n",
       "      <th id=\"T_ba5f4_level0_row5\" class=\"row_heading level0 row5\" >5</th>\n",
       "      <td id=\"T_ba5f4_row5_col0\" class=\"data row5 col0\" >0.7850</td>\n",
       "      <td id=\"T_ba5f4_row5_col1\" class=\"data row5 col1\" >0.8311</td>\n",
       "      <td id=\"T_ba5f4_row5_col2\" class=\"data row5 col2\" >0.8959</td>\n",
       "      <td id=\"T_ba5f4_row5_col3\" class=\"data row5 col3\" >0.7934</td>\n",
       "      <td id=\"T_ba5f4_row5_col4\" class=\"data row5 col4\" >0.8415</td>\n",
       "      <td id=\"T_ba5f4_row5_col5\" class=\"data row5 col5\" >0.5111</td>\n",
       "      <td id=\"T_ba5f4_row5_col6\" class=\"data row5 col6\" >0.5203</td>\n",
       "    </tr>\n",
       "    <tr>\n",
       "      <th id=\"T_ba5f4_level0_row6\" class=\"row_heading level0 row6\" >6</th>\n",
       "      <td id=\"T_ba5f4_row6_col0\" class=\"data row6 col0\" >0.7711</td>\n",
       "      <td id=\"T_ba5f4_row6_col1\" class=\"data row6 col1\" >0.8153</td>\n",
       "      <td id=\"T_ba5f4_row6_col2\" class=\"data row6 col2\" >0.8788</td>\n",
       "      <td id=\"T_ba5f4_row6_col3\" class=\"data row6 col3\" >0.7869</td>\n",
       "      <td id=\"T_ba5f4_row6_col4\" class=\"data row6 col4\" >0.8303</td>\n",
       "      <td id=\"T_ba5f4_row6_col5\" class=\"data row6 col5\" >0.4822</td>\n",
       "      <td id=\"T_ba5f4_row6_col6\" class=\"data row6 col6\" >0.4892</td>\n",
       "    </tr>\n",
       "    <tr>\n",
       "      <th id=\"T_ba5f4_level0_row7\" class=\"row_heading level0 row7\" >7</th>\n",
       "      <td id=\"T_ba5f4_row7_col0\" class=\"data row7 col0\" >0.7744</td>\n",
       "      <td id=\"T_ba5f4_row7_col1\" class=\"data row7 col1\" >0.8249</td>\n",
       "      <td id=\"T_ba5f4_row7_col2\" class=\"data row7 col2\" >0.8882</td>\n",
       "      <td id=\"T_ba5f4_row7_col3\" class=\"data row7 col3\" >0.7857</td>\n",
       "      <td id=\"T_ba5f4_row7_col4\" class=\"data row7 col4\" >0.8338</td>\n",
       "      <td id=\"T_ba5f4_row7_col5\" class=\"data row7 col5\" >0.4868</td>\n",
       "      <td id=\"T_ba5f4_row7_col6\" class=\"data row7 col6\" >0.4957</td>\n",
       "    </tr>\n",
       "    <tr>\n",
       "      <th id=\"T_ba5f4_level0_row8\" class=\"row_heading level0 row8\" >8</th>\n",
       "      <td id=\"T_ba5f4_row8_col0\" class=\"data row8 col0\" >0.7869</td>\n",
       "      <td id=\"T_ba5f4_row8_col1\" class=\"data row8 col1\" >0.8309</td>\n",
       "      <td id=\"T_ba5f4_row8_col2\" class=\"data row8 col2\" >0.8963</td>\n",
       "      <td id=\"T_ba5f4_row8_col3\" class=\"data row8 col3\" >0.7952</td>\n",
       "      <td id=\"T_ba5f4_row8_col4\" class=\"data row8 col4\" >0.8428</td>\n",
       "      <td id=\"T_ba5f4_row8_col5\" class=\"data row8 col5\" >0.5159</td>\n",
       "      <td id=\"T_ba5f4_row8_col6\" class=\"data row8 col6\" >0.5248</td>\n",
       "    </tr>\n",
       "    <tr>\n",
       "      <th id=\"T_ba5f4_level0_row9\" class=\"row_heading level0 row9\" >9</th>\n",
       "      <td id=\"T_ba5f4_row9_col0\" class=\"data row9 col0\" >0.7749</td>\n",
       "      <td id=\"T_ba5f4_row9_col1\" class=\"data row9 col1\" >0.8202</td>\n",
       "      <td id=\"T_ba5f4_row9_col2\" class=\"data row9 col2\" >0.8882</td>\n",
       "      <td id=\"T_ba5f4_row9_col3\" class=\"data row9 col3\" >0.7863</td>\n",
       "      <td id=\"T_ba5f4_row9_col4\" class=\"data row9 col4\" >0.8341</td>\n",
       "      <td id=\"T_ba5f4_row9_col5\" class=\"data row9 col5\" >0.4882</td>\n",
       "      <td id=\"T_ba5f4_row9_col6\" class=\"data row9 col6\" >0.4970</td>\n",
       "    </tr>\n",
       "    <tr>\n",
       "      <th id=\"T_ba5f4_level0_row10\" class=\"row_heading level0 row10\" >Mean</th>\n",
       "      <td id=\"T_ba5f4_row10_col0\" class=\"data row10 col0\" >0.7765</td>\n",
       "      <td id=\"T_ba5f4_row10_col1\" class=\"data row10 col1\" >0.8241</td>\n",
       "      <td id=\"T_ba5f4_row10_col2\" class=\"data row10 col2\" >0.8868</td>\n",
       "      <td id=\"T_ba5f4_row10_col3\" class=\"data row10 col3\" >0.7887</td>\n",
       "      <td id=\"T_ba5f4_row10_col4\" class=\"data row10 col4\" >0.8349</td>\n",
       "      <td id=\"T_ba5f4_row10_col5\" class=\"data row10 col5\" >0.4929</td>\n",
       "      <td id=\"T_ba5f4_row10_col6\" class=\"data row10 col6\" >0.5011</td>\n",
       "    </tr>\n",
       "    <tr>\n",
       "      <th id=\"T_ba5f4_level0_row11\" class=\"row_heading level0 row11\" >SD</th>\n",
       "      <td id=\"T_ba5f4_row11_col0\" class=\"data row11 col0\" >0.0058</td>\n",
       "      <td id=\"T_ba5f4_row11_col1\" class=\"data row11 col1\" >0.0048</td>\n",
       "      <td id=\"T_ba5f4_row11_col2\" class=\"data row11 col2\" >0.0057</td>\n",
       "      <td id=\"T_ba5f4_row11_col3\" class=\"data row11 col3\" >0.0043</td>\n",
       "      <td id=\"T_ba5f4_row11_col4\" class=\"data row11 col4\" >0.0044</td>\n",
       "      <td id=\"T_ba5f4_row11_col5\" class=\"data row11 col5\" >0.0132</td>\n",
       "      <td id=\"T_ba5f4_row11_col6\" class=\"data row11 col6\" >0.0134</td>\n",
       "    </tr>\n",
       "  </tbody>\n",
       "</table>\n"
      ],
      "text/plain": [
       "<pandas.io.formats.style.Styler at 0x7ff588097520>"
      ]
     },
     "metadata": {},
     "output_type": "display_data"
    }
   ],
   "source": [
    "lightgbm_model = create_model('lightgbm')\n",
    "lr_model = create_model('lr')\n",
    "xgboost_model = create_model('xgboost')"
   ]
  },
  {
   "cell_type": "markdown",
   "id": "3aab9021-4462-423a-8e3c-fbe1f36c6110",
   "metadata": {},
   "source": [
    "### Let's load in our 2021 season data and get retention scores using the model:"
   ]
  },
  {
   "cell_type": "code",
   "execution_count": null,
   "id": "493400d1-d773-4d32-823a-c79d69396059",
   "metadata": {},
   "outputs": [],
   "source": [
    "cursor = CNXN.cursor()\n",
    "\n",
    "storedProc_scoring = (\n",
    "    f\"\"\"Exec [stlrMLS].[ds].[getRetentionScoringModelData_staging2] \"\"\"\n",
    ")\n",
    "\n",
    "df_scoring = pd.read_sql(storedProc_scoring, CNXN)\n",
    "\n",
    "# apply some data transformations\n",
    "df_scoring[\"year\"] = pd.to_numeric(df_scoring[\"year\"])\n",
    "\n",
    "CNXN.commit()\n",
    "cursor.close()\n",
    "\n",
    "df_scoring.shape"
   ]
  },
  {
   "cell_type": "code",
   "execution_count": null,
   "id": "c249a813-c882-4869-9490-6ab766a8c223",
   "metadata": {},
   "outputs": [],
   "source": [
    "df_inference = df_scoring.loc[df_scoring[\"year\"] >= 2022]\n",
    "df_inference = df_inference.fillna(0)\n",
    "df_inference.shape"
   ]
  },
  {
   "cell_type": "code",
   "execution_count": null,
   "id": "745b62fb-fb2e-4b4a-9c48-8ce4de472a83",
   "metadata": {},
   "outputs": [],
   "source": [
    "lightgbm_predictions = predict_model(lightgbm_model, data=df_inference, raw_score=True)\n",
    "lr_predictions = predict_model(lr_model, data=df_inference, raw_score=True)\n",
    "xgboost_predictions = predict_model(xgboost_model, data=df_inference, raw_score=True)"
   ]
  },
  {
   "cell_type": "code",
   "execution_count": null,
   "id": "32e17282",
   "metadata": {},
   "outputs": [],
   "source": [
    "print(f\"lightgbm:\\n {lightgbm_predictions.Label.value_counts()}\")\n",
    "print(f\"log reg:\\n {lr_predictions.Label.value_counts()}\")\n",
    "print(f\"xgboost:\\n {xgboost_predictions.Label.value_counts()}\")"
   ]
  },
  {
   "cell_type": "code",
   "execution_count": null,
   "id": "1d13bb4d",
   "metadata": {},
   "outputs": [],
   "source": [
    "print(f\"lightgbm:\\n {lightgbm_predictions.Score_1.value_counts(bins=[0, 0.25, 0.5, 0.75, 1])}\")\n",
    "print(f\"lr:\\n {lr_predictions.Score_1.value_counts(bins=[0, 0.25, 0.5, 0.75, 1])}\")\n",
    "print(f\"xgboost:\\n {xgboost_predictions.Score_1.value_counts(bins=[0, 0.25, 0.5, 0.75, 1])}\")"
   ]
  },
  {
   "cell_type": "code",
   "execution_count": null,
   "id": "3b4b1d51-1c33-489a-95f6-ab75e428c760",
   "metadata": {},
   "outputs": [
    {
     "data": {
      "image/png": "[encoded data removed]",
      "text/plain": [
       "<Figure size 1440x288 with 3 Axes>"
      ]
     },
     "metadata": {},
     "output_type": "display_data"
    }
   ],
   "source": [
    "model_predictions = [lightgbm_predictions, lr_predictions, xgboost_predictions]\n",
    "\n",
    "for idx, df_predictions in enumerate(model_predictions):\n",
    "\n",
    "    plt.subplot(1, 3, idx+1)\n",
    "\n",
    "    plt.hist(df_predictions[\"Score_1\"], bins=20, edgecolor='black')\n",
    "    plt.title(\"Retention Scores\")\n",
    "    plt.ylabel(\"Num Fans\")\n",
    "    plt.xlabel(\"SA Buyer Score\")\n",
    "\n",
    "plt.rcParams[\"figure.figsize\"] = (20,4)\n",
    "plt.show()"
   ]
  },
  {
   "cell_type": "code",
   "execution_count": null,
   "id": "144bd27b-9798-4f8b-a3a3-95298d8e2c01",
   "metadata": {},
   "outputs": [
    {
     "data": {
      "image/png": "[encoded data removed]",
      "text/plain": [
       "<Figure size 800x500 with 1 Axes>"
      ]
     },
     "metadata": {},
     "output_type": "display_data"
    }
   ],
   "source": [
    "plot_model(lightgbm_model, plot='feature')"
   ]
  },
  {
   "cell_type": "code",
   "execution_count": null,
   "id": "9f654c30",
   "metadata": {},
   "outputs": [],
   "source": [
    "plot_model(lr_model, plot='feature')"
   ]
  },
  {
   "cell_type": "code",
   "execution_count": null,
   "id": "bd48a8ff",
   "metadata": {},
   "outputs": [],
   "source": [
    "plot_model(xgboost_model, plot='feature')"
   ]
  },
  {
   "cell_type": "code",
   "execution_count": null,
   "id": "79e34840-9a47-486f-a648-6d5d16d73b89",
   "metadata": {},
   "outputs": [],
   "source": [
    "plot_model(lightgbm_model, plot='confusion_matrix')"
   ]
  },
  {
   "cell_type": "code",
   "execution_count": null,
   "id": "f5c8ef3b",
   "metadata": {},
   "outputs": [],
   "source": [
    "plot_model(lr_model, plot='confusion_matrix')"
   ]
  },
  {
   "cell_type": "code",
   "execution_count": null,
   "id": "96ecfd08",
   "metadata": {},
   "outputs": [
    {
     "data": {
      "image/png": "[encoded data removed]",
      "text/plain": [
       "<Figure size 1440x288 with 1 Axes>"
      ]
     },
     "metadata": {},
     "output_type": "display_data"
    }
   ],
   "source": [
    "plot_model(xgboost_model, plot='confusion_matrix')"
   ]
  },
  {
   "cell_type": "code",
   "execution_count": null,
   "id": "e1d45d5e-ff32-4ace-a74b-5d77d5b3ba78",
   "metadata": {},
   "outputs": [],
   "source": [
    "lightgbm_predictions"
   ]
  },
  {
   "cell_type": "code",
   "execution_count": null,
   "id": "f46a4bd3-4f2b-4b1c-92bf-1f384c1b2b91",
   "metadata": {},
   "outputs": [],
   "source": [
    "\n",
    "current_date = datetime.today().strftime('%Y-%m-%d')\n",
    "lightgbm_predictions.to_csv(f\"results/InterMiami_Retention_Scores_{current_date}.csv\", index=False)"
   ]
  },
  {
   "cell_type": "markdown",
   "id": "a439108b-7911-4384-b089-f7b31c825192",
   "metadata": {},
   "source": [
    "## Observations\n",
    "Here you can document some ideas on the results from above"
   ]
  },
  {
   "cell_type": "code",
   "execution_count": null,
   "id": "e2bc4907",
   "metadata": {},
   "outputs": [],
   "source": []
  }
 ],
 "metadata": {
  "kernelspec": {
   "display_name": "Python 3 (ipykernel)",
   "language": "python",
   "name": "python3"
  },
  "language_info": {
   "codemirror_mode": {
    "name": "ipython",
    "version": 3
   },
   "file_extension": ".py",
   "mimetype": "text/x-python",
   "name": "python",
   "nbconvert_exporter": "python",
   "pygments_lexer": "ipython3",
   "version": "3.9.4"
  },
  "vscode": {
   "interpreter": {
    "hash": "89f48dadab51a6b5b48ffc1a9e043c21cefe67453637c3444f3b86917b8aad16"
   }
  }
 },
 "nbformat": 4,
 "nbformat_minor": 5
}
