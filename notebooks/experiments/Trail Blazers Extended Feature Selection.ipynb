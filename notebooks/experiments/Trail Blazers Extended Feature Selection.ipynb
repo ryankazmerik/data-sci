{
 "cells": [
  {
   "cell_type": "markdown",
   "id": "9575d83e",
   "metadata": {},
   "source": [
    "# Portland Trail Blazers - Feature Selection\n",
    "* StellarAlgo Data Science\n",
    "* Ryan Kazmerik & Nakisa Rad\n",
    "* October 8, 2021"
   ]
  },
  {
   "cell_type": "markdown",
   "id": "62d7c5a2",
   "metadata": {},
   "source": [
    "## Hypothesis\n",
    "Two very important components of a machine learning model are feature selection and feature engineering. Our idea is that adding some more features to the StellarAlgo retention model could improve performance of the model."
   ]
  },
  {
   "cell_type": "markdown",
   "id": "c46403a5",
   "metadata": {},
   "source": [
    "## Experiment\n",
    "This section details our experiment including querying data, data transformations, feature selection and modelling."
   ]
  },
  {
   "cell_type": "code",
   "execution_count": 1,
   "id": "df2be620",
   "metadata": {},
   "outputs": [],
   "source": [
    "import getpass\n",
    "import pyodbc\n",
    "import pandas as pd\n",
    "import warnings\n",
    "\n",
    "from pycaret.classification import *\n",
    "from ngboost import NGBClassifier\n",
    "\n",
    "warnings.filterwarnings('ignore')"
   ]
  },
  {
   "cell_type": "markdown",
   "id": "5872346a",
   "metadata": {},
   "source": [
    "### Let's connect to MSSQL and run a stored proc to get our dataset:"
   ]
  },
  {
   "cell_type": "code",
   "execution_count": 2,
   "id": "c060d5cf",
   "metadata": {},
   "outputs": [
    {
     "name": "stdin",
     "output_type": "stream",
     "text": [
      "Enter your password ··················\n"
     ]
    }
   ],
   "source": [
    "SERVER = '34.206.73.189' \n",
    "DATABASE = 'datascience' \n",
    "USERNAME = 'dsAdminWrite' \n",
    "PASSWORD = getpass.getpass(prompt='Enter your password')\n",
    "CNXN = pyodbc.connect('DRIVER={ODBC Driver 17 for SQL Server};SERVER='+SERVER+';DATABASE='+DATABASE+';UID='+USERNAME+';PWD='+ PASSWORD)"
   ]
  },
  {
   "cell_type": "code",
   "execution_count": 3,
   "id": "b9615e8a",
   "metadata": {},
   "outputs": [],
   "source": [
    "lkupclientid = 5 # Portland Trail Blazers\n",
    "\n",
    "cursor = CNXN.cursor()\n",
    "\n",
    "storedProc = (\n",
    "    f\"\"\"Exec [stlrTrailBlazers].[ds].[getRetentionScoringModelData] {lkupclientid}\"\"\"\n",
    ")\n",
    "\n",
    "df = pd.read_sql(storedProc, CNXN)\n",
    "\n",
    "CNXN.commit()\n",
    "cursor.close()"
   ]
  },
  {
   "cell_type": "markdown",
   "id": "4b4e7b71",
   "metadata": {},
   "source": [
    "### Let's drop the features that have lots of null values, as these won't be useful to our model:"
   ]
  },
  {
   "cell_type": "code",
   "execution_count": 4,
   "id": "6fbd8c9b",
   "metadata": {},
   "outputs": [],
   "source": [
    "df.drop([\n",
    "    'urbanicity', \n",
    "    'isnextyear_buyer', \n",
    "    'isnextyear_samepkg_buyer',\n",
    "    'pkgupgrade_status',\n",
    "    'auto_renewal'],\n",
    "    axis=1, \n",
    "    inplace=True\n",
    ")"
   ]
  },
  {
   "cell_type": "markdown",
   "id": "cbfa1a4e",
   "metadata": {},
   "source": [
    "### In order to compare two sets of features, we need to create some datasets for training and evalution:"
   ]
  },
  {
   "cell_type": "code",
   "execution_count": 5,
   "id": "82651c96",
   "metadata": {},
   "outputs": [
    {
     "name": "stdout",
     "output_type": "stream",
     "text": [
      "Data for Modeling: (9896, 21)\n",
      "Unseen Data For Predictions: (1100, 21)\n",
      "\n"
     ]
    }
   ],
   "source": [
    "# choose the features for the stellar base retention model\n",
    "features = [\n",
    "    \"dimCustomerMasterId\",\n",
    "    \"attendancePercent\",\n",
    "    \"distToVenue\",\n",
    "    \"education\",\n",
    "    \"fill_out_form\",\n",
    "    \"forward_records\",\n",
    "    \"gender\",\n",
    "    \"isNextYear_Buyer\",\n",
    "    \"missed_games_1\",\n",
    "    \"missed_games_2\",\n",
    "    \"missed_games_over_2\",\n",
    "    \"posting_records\",\n",
    "    \"productGrouping\",\n",
    "    \"recency\",\n",
    "    \"renewedBeforeDays\",\n",
    "    \"resale_atp\",\n",
    "    \"resale_records\",\n",
    "    \"source_tenure\",\n",
    "    \"totalSpent\",\n",
    "    \"tenure\",\n",
    "    \"year\"\n",
    "]\n",
    "\n",
    "# select 90% of the data for training\n",
    "df_train = df.sample(frac=0.9, random_state=786).reset_index(drop=True)\n",
    "\n",
    "# create the eval datasets for A and B\n",
    "df_eval = df.drop(df_train.index).reset_index(drop=True)\n",
    "\n",
    "# choose features for each train dataset\n",
    "df_train = df_train[features]\n",
    "\n",
    "# choose features for each train dataset\n",
    "df_eval = df_eval[features]\n",
    "\n",
    "# print out the number of records for training and eval\n",
    "print('Data for Modeling: ' + str(df_train.shape))\n",
    "print('Unseen Data For Predictions: ' + str(df_eval.shape), end=\"\\n\\n\")"
   ]
  },
  {
   "cell_type": "markdown",
   "id": "9f34eb03-b49b-49e5-bce8-7caaa29c5dd7",
   "metadata": {},
   "source": [
    "## Now we can model the data using a binary classification prediction for the isnextyear_buyer field to see how likely a customer is to re-purchase."
   ]
  },
  {
   "cell_type": "code",
   "execution_count": null,
   "id": "3eabb279-56dd-4dbf-b7da-77bd2aa7cafa",
   "metadata": {},
   "outputs": [],
   "source": [
    "setup(\n",
    "    data= df_train, \n",
    "    target=\"isNextYear_Buyer\", \n",
    "    train_size = 0.80,\n",
    "    data_split_shuffle=True,\n",
    "    silent=True,\n",
    "    ignore_features=[\"dimCustomerMasterId\",\"productGrouping\",\"year\"],\n",
    "    numeric_features=[\n",
    "        \"attendancePercent\",\n",
    "        \"distToVenue\",\n",
    "        \"fill_out_form\",\n",
    "        \"forward_records\",\n",
    "        \"missed_games_1\",\n",
    "        \"missed_games_2\",\n",
    "        \"missed_games_over_2\",\n",
    "        \"posting_records\",\n",
    "        \"recency\",\n",
    "        \"renewedBeforeDays\",\n",
    "        \"resale_atp\",\n",
    "        \"resale_records\",\n",
    "        \"source_tenure\",\n",
    "        \"totalSpent\"\n",
    "    ]\n",
    ")"
   ]
  },
  {
   "cell_type": "code",
   "execution_count": 7,
   "id": "05742a70-860c-477f-bea9-516a0a87c508",
   "metadata": {},
   "outputs": [
    {
     "data": {
      "text/html": [
       "<style  type=\"text/css\" >\n",
       "    #T_fcdb8_ th {\n",
       "          text-align: left;\n",
       "    }#T_fcdb8_row0_col0,#T_fcdb8_row0_col3,#T_fcdb8_row0_col4,#T_fcdb8_row0_col5,#T_fcdb8_row0_col7,#T_fcdb8_row1_col0,#T_fcdb8_row1_col1,#T_fcdb8_row1_col2,#T_fcdb8_row1_col4,#T_fcdb8_row1_col6,#T_fcdb8_row2_col0,#T_fcdb8_row2_col1,#T_fcdb8_row2_col2,#T_fcdb8_row2_col3,#T_fcdb8_row2_col4,#T_fcdb8_row2_col5,#T_fcdb8_row2_col6,#T_fcdb8_row2_col7,#T_fcdb8_row3_col0,#T_fcdb8_row3_col1,#T_fcdb8_row3_col2,#T_fcdb8_row3_col3,#T_fcdb8_row3_col4,#T_fcdb8_row3_col5,#T_fcdb8_row3_col6,#T_fcdb8_row3_col7,#T_fcdb8_row4_col0,#T_fcdb8_row4_col1,#T_fcdb8_row4_col2,#T_fcdb8_row4_col3,#T_fcdb8_row4_col4,#T_fcdb8_row4_col5,#T_fcdb8_row4_col6,#T_fcdb8_row4_col7,#T_fcdb8_row5_col0,#T_fcdb8_row5_col1,#T_fcdb8_row5_col2,#T_fcdb8_row5_col3,#T_fcdb8_row5_col5,#T_fcdb8_row5_col6,#T_fcdb8_row5_col7,#T_fcdb8_row6_col0,#T_fcdb8_row6_col1,#T_fcdb8_row6_col2,#T_fcdb8_row6_col3,#T_fcdb8_row6_col4,#T_fcdb8_row6_col5,#T_fcdb8_row6_col6,#T_fcdb8_row6_col7,#T_fcdb8_row7_col0,#T_fcdb8_row7_col1,#T_fcdb8_row7_col2,#T_fcdb8_row7_col3,#T_fcdb8_row7_col4,#T_fcdb8_row7_col5,#T_fcdb8_row7_col6,#T_fcdb8_row7_col7,#T_fcdb8_row8_col0,#T_fcdb8_row8_col1,#T_fcdb8_row8_col2,#T_fcdb8_row8_col3,#T_fcdb8_row8_col4,#T_fcdb8_row8_col5,#T_fcdb8_row8_col6,#T_fcdb8_row8_col7,#T_fcdb8_row9_col0,#T_fcdb8_row9_col1,#T_fcdb8_row9_col2,#T_fcdb8_row9_col3,#T_fcdb8_row9_col4,#T_fcdb8_row9_col5,#T_fcdb8_row9_col6,#T_fcdb8_row9_col7{\n",
       "            text-align:  left;\n",
       "            text-align:  left;\n",
       "        }#T_fcdb8_row0_col1,#T_fcdb8_row0_col2,#T_fcdb8_row0_col6,#T_fcdb8_row1_col3,#T_fcdb8_row1_col5,#T_fcdb8_row1_col7,#T_fcdb8_row5_col4{\n",
       "            text-align:  left;\n",
       "            text-align:  left;\n",
       "            background-color:  yellow;\n",
       "        }#T_fcdb8_row0_col8,#T_fcdb8_row1_col8,#T_fcdb8_row2_col8,#T_fcdb8_row3_col8,#T_fcdb8_row4_col8,#T_fcdb8_row5_col8,#T_fcdb8_row6_col8,#T_fcdb8_row8_col8,#T_fcdb8_row9_col8{\n",
       "            text-align:  left;\n",
       "            text-align:  left;\n",
       "            background-color:  lightgrey;\n",
       "        }#T_fcdb8_row7_col8{\n",
       "            text-align:  left;\n",
       "            text-align:  left;\n",
       "            background-color:  yellow;\n",
       "            background-color:  lightgrey;\n",
       "        }</style><table id=\"T_fcdb8_\" ><thead>    <tr>        <th class=\"blank level0\" ></th>        <th class=\"col_heading level0 col0\" >Model</th>        <th class=\"col_heading level0 col1\" >Accuracy</th>        <th class=\"col_heading level0 col2\" >AUC</th>        <th class=\"col_heading level0 col3\" >Recall</th>        <th class=\"col_heading level0 col4\" >Prec.</th>        <th class=\"col_heading level0 col5\" >F1</th>        <th class=\"col_heading level0 col6\" >Kappa</th>        <th class=\"col_heading level0 col7\" >MCC</th>        <th class=\"col_heading level0 col8\" >TT (Sec)</th>    </tr></thead><tbody>\n",
       "                <tr>\n",
       "                        <th id=\"T_fcdb8_level0_row0\" class=\"row_heading level0 row0\" >2</th>\n",
       "                        <td id=\"T_fcdb8_row0_col0\" class=\"data row0 col0\" >Gradient Boosting Classifier</td>\n",
       "                        <td id=\"T_fcdb8_row0_col1\" class=\"data row0 col1\" >0.9169</td>\n",
       "                        <td id=\"T_fcdb8_row0_col2\" class=\"data row0 col2\" >0.9609</td>\n",
       "                        <td id=\"T_fcdb8_row0_col3\" class=\"data row0 col3\" >0.9693</td>\n",
       "                        <td id=\"T_fcdb8_row0_col4\" class=\"data row0 col4\" >0.8162</td>\n",
       "                        <td id=\"T_fcdb8_row0_col5\" class=\"data row0 col5\" >0.8861</td>\n",
       "                        <td id=\"T_fcdb8_row0_col6\" class=\"data row0 col6\" >0.8215</td>\n",
       "                        <td id=\"T_fcdb8_row0_col7\" class=\"data row0 col7\" >0.8291</td>\n",
       "                        <td id=\"T_fcdb8_row0_col8\" class=\"data row0 col8\" >0.0860</td>\n",
       "            </tr>\n",
       "            <tr>\n",
       "                        <th id=\"T_fcdb8_level0_row1\" class=\"row_heading level0 row1\" >8</th>\n",
       "                        <td id=\"T_fcdb8_row1_col0\" class=\"data row1 col0\" >NGBClassifier</td>\n",
       "                        <td id=\"T_fcdb8_row1_col1\" class=\"data row1 col1\" >0.9157</td>\n",
       "                        <td id=\"T_fcdb8_row1_col2\" class=\"data row1 col2\" >0.9597</td>\n",
       "                        <td id=\"T_fcdb8_row1_col3\" class=\"data row1 col3\" >0.9826</td>\n",
       "                        <td id=\"T_fcdb8_row1_col4\" class=\"data row1 col4\" >0.8070</td>\n",
       "                        <td id=\"T_fcdb8_row1_col5\" class=\"data row1 col5\" >0.8862</td>\n",
       "                        <td id=\"T_fcdb8_row1_col6\" class=\"data row1 col6\" >0.8203</td>\n",
       "                        <td id=\"T_fcdb8_row1_col7\" class=\"data row1 col7\" >0.8304</td>\n",
       "                        <td id=\"T_fcdb8_row1_col8\" class=\"data row1 col8\" >1.5430</td>\n",
       "            </tr>\n",
       "            <tr>\n",
       "                        <th id=\"T_fcdb8_level0_row2\" class=\"row_heading level0 row2\" >0</th>\n",
       "                        <td id=\"T_fcdb8_row2_col0\" class=\"data row2 col0\" >Ada Boost Classifier</td>\n",
       "                        <td id=\"T_fcdb8_row2_col1\" class=\"data row2 col1\" >0.9156</td>\n",
       "                        <td id=\"T_fcdb8_row2_col2\" class=\"data row2 col2\" >0.9602</td>\n",
       "                        <td id=\"T_fcdb8_row2_col3\" class=\"data row2 col3\" >0.9655</td>\n",
       "                        <td id=\"T_fcdb8_row2_col4\" class=\"data row2 col4\" >0.8157</td>\n",
       "                        <td id=\"T_fcdb8_row2_col5\" class=\"data row2 col5\" >0.8842</td>\n",
       "                        <td id=\"T_fcdb8_row2_col6\" class=\"data row2 col6\" >0.8186</td>\n",
       "                        <td id=\"T_fcdb8_row2_col7\" class=\"data row2 col7\" >0.8259</td>\n",
       "                        <td id=\"T_fcdb8_row2_col8\" class=\"data row2 col8\" >0.2270</td>\n",
       "            </tr>\n",
       "            <tr>\n",
       "                        <th id=\"T_fcdb8_level0_row3\" class=\"row_heading level0 row3\" >5</th>\n",
       "                        <td id=\"T_fcdb8_row3_col0\" class=\"data row3 col0\" >Light Gradient Boosting Machine</td>\n",
       "                        <td id=\"T_fcdb8_row3_col1\" class=\"data row3 col1\" >0.9146</td>\n",
       "                        <td id=\"T_fcdb8_row3_col2\" class=\"data row3 col2\" >0.9603</td>\n",
       "                        <td id=\"T_fcdb8_row3_col3\" class=\"data row3 col3\" >0.9409</td>\n",
       "                        <td id=\"T_fcdb8_row3_col4\" class=\"data row3 col4\" >0.8271</td>\n",
       "                        <td id=\"T_fcdb8_row3_col5\" class=\"data row3 col5\" >0.8802</td>\n",
       "                        <td id=\"T_fcdb8_row3_col6\" class=\"data row3 col6\" >0.8143</td>\n",
       "                        <td id=\"T_fcdb8_row3_col7\" class=\"data row3 col7\" >0.8185</td>\n",
       "                        <td id=\"T_fcdb8_row3_col8\" class=\"data row3 col8\" >0.0260</td>\n",
       "            </tr>\n",
       "            <tr>\n",
       "                        <th id=\"T_fcdb8_level0_row4\" class=\"row_heading level0 row4\" >9</th>\n",
       "                        <td id=\"T_fcdb8_row4_col0\" class=\"data row4 col0\" >Extreme Gradient Boosting</td>\n",
       "                        <td id=\"T_fcdb8_row4_col1\" class=\"data row4 col1\" >0.9112</td>\n",
       "                        <td id=\"T_fcdb8_row4_col2\" class=\"data row4 col2\" >0.9600</td>\n",
       "                        <td id=\"T_fcdb8_row4_col3\" class=\"data row4 col3\" >0.9284</td>\n",
       "                        <td id=\"T_fcdb8_row4_col4\" class=\"data row4 col4\" >0.8269</td>\n",
       "                        <td id=\"T_fcdb8_row4_col5\" class=\"data row4 col5\" >0.8746</td>\n",
       "                        <td id=\"T_fcdb8_row4_col6\" class=\"data row4 col6\" >0.8062</td>\n",
       "                        <td id=\"T_fcdb8_row4_col7\" class=\"data row4 col7\" >0.8096</td>\n",
       "                        <td id=\"T_fcdb8_row4_col8\" class=\"data row4 col8\" >0.3640</td>\n",
       "            </tr>\n",
       "            <tr>\n",
       "                        <th id=\"T_fcdb8_level0_row5\" class=\"row_heading level0 row5\" >7</th>\n",
       "                        <td id=\"T_fcdb8_row5_col0\" class=\"data row5 col0\" >Random Forest Classifier</td>\n",
       "                        <td id=\"T_fcdb8_row5_col1\" class=\"data row5 col1\" >0.9074</td>\n",
       "                        <td id=\"T_fcdb8_row5_col2\" class=\"data row5 col2\" >0.9571</td>\n",
       "                        <td id=\"T_fcdb8_row5_col3\" class=\"data row5 col3\" >0.9064</td>\n",
       "                        <td id=\"T_fcdb8_row5_col4\" class=\"data row5 col4\" >0.8312</td>\n",
       "                        <td id=\"T_fcdb8_row5_col5\" class=\"data row5 col5\" >0.8671</td>\n",
       "                        <td id=\"T_fcdb8_row5_col6\" class=\"data row5 col6\" >0.7963</td>\n",
       "                        <td id=\"T_fcdb8_row5_col7\" class=\"data row5 col7\" >0.7981</td>\n",
       "                        <td id=\"T_fcdb8_row5_col8\" class=\"data row5 col8\" >0.1400</td>\n",
       "            </tr>\n",
       "            <tr>\n",
       "                        <th id=\"T_fcdb8_level0_row6\" class=\"row_heading level0 row6\" >3</th>\n",
       "                        <td id=\"T_fcdb8_row6_col0\" class=\"data row6 col0\" >Extra Trees Classifier</td>\n",
       "                        <td id=\"T_fcdb8_row6_col1\" class=\"data row6 col1\" >0.9010</td>\n",
       "                        <td id=\"T_fcdb8_row6_col2\" class=\"data row6 col2\" >0.9517</td>\n",
       "                        <td id=\"T_fcdb8_row6_col3\" class=\"data row6 col3\" >0.8883</td>\n",
       "                        <td id=\"T_fcdb8_row6_col4\" class=\"data row6 col4\" >0.8276</td>\n",
       "                        <td id=\"T_fcdb8_row6_col5\" class=\"data row6 col5\" >0.8568</td>\n",
       "                        <td id=\"T_fcdb8_row6_col6\" class=\"data row6 col6\" >0.7812</td>\n",
       "                        <td id=\"T_fcdb8_row6_col7\" class=\"data row6 col7\" >0.7825</td>\n",
       "                        <td id=\"T_fcdb8_row6_col8\" class=\"data row6 col8\" >0.1380</td>\n",
       "            </tr>\n",
       "            <tr>\n",
       "                        <th id=\"T_fcdb8_level0_row7\" class=\"row_heading level0 row7\" >1</th>\n",
       "                        <td id=\"T_fcdb8_row7_col0\" class=\"data row7 col0\" >Decision Tree Classifier</td>\n",
       "                        <td id=\"T_fcdb8_row7_col1\" class=\"data row7 col1\" >0.8808</td>\n",
       "                        <td id=\"T_fcdb8_row7_col2\" class=\"data row7 col2\" >0.8663</td>\n",
       "                        <td id=\"T_fcdb8_row7_col3\" class=\"data row7 col3\" >0.8136</td>\n",
       "                        <td id=\"T_fcdb8_row7_col4\" class=\"data row7 col4\" >0.8265</td>\n",
       "                        <td id=\"T_fcdb8_row7_col5\" class=\"data row7 col5\" >0.8199</td>\n",
       "                        <td id=\"T_fcdb8_row7_col6\" class=\"data row7 col6\" >0.7308</td>\n",
       "                        <td id=\"T_fcdb8_row7_col7\" class=\"data row7 col7\" >0.7310</td>\n",
       "                        <td id=\"T_fcdb8_row7_col8\" class=\"data row7 col8\" >0.0110</td>\n",
       "            </tr>\n",
       "            <tr>\n",
       "                        <th id=\"T_fcdb8_level0_row8\" class=\"row_heading level0 row8\" >6</th>\n",
       "                        <td id=\"T_fcdb8_row8_col0\" class=\"data row8 col0\" >Logistic Regression</td>\n",
       "                        <td id=\"T_fcdb8_row8_col1\" class=\"data row8 col1\" >0.8613</td>\n",
       "                        <td id=\"T_fcdb8_row8_col2\" class=\"data row8 col2\" >0.9186</td>\n",
       "                        <td id=\"T_fcdb8_row8_col3\" class=\"data row8 col3\" >0.8712</td>\n",
       "                        <td id=\"T_fcdb8_row8_col4\" class=\"data row8 col4\" >0.7367</td>\n",
       "                        <td id=\"T_fcdb8_row8_col5\" class=\"data row8 col5\" >0.7920</td>\n",
       "                        <td id=\"T_fcdb8_row8_col6\" class=\"data row8 col6\" >0.6905</td>\n",
       "                        <td id=\"T_fcdb8_row8_col7\" class=\"data row8 col7\" >0.7012</td>\n",
       "                        <td id=\"T_fcdb8_row8_col8\" class=\"data row8 col8\" >0.1300</td>\n",
       "            </tr>\n",
       "            <tr>\n",
       "                        <th id=\"T_fcdb8_level0_row9\" class=\"row_heading level0 row9\" >4</th>\n",
       "                        <td id=\"T_fcdb8_row9_col0\" class=\"data row9 col0\" >K Neighbors Classifier</td>\n",
       "                        <td id=\"T_fcdb8_row9_col1\" class=\"data row9 col1\" >0.8485</td>\n",
       "                        <td id=\"T_fcdb8_row9_col2\" class=\"data row9 col2\" >0.9113</td>\n",
       "                        <td id=\"T_fcdb8_row9_col3\" class=\"data row9 col3\" >0.8504</td>\n",
       "                        <td id=\"T_fcdb8_row9_col4\" class=\"data row9 col4\" >0.7365</td>\n",
       "                        <td id=\"T_fcdb8_row9_col5\" class=\"data row9 col5\" >0.7893</td>\n",
       "                        <td id=\"T_fcdb8_row9_col6\" class=\"data row9 col6\" >0.6720</td>\n",
       "                        <td id=\"T_fcdb8_row9_col7\" class=\"data row9 col7\" >0.6764</td>\n",
       "                        <td id=\"T_fcdb8_row9_col8\" class=\"data row9 col8\" >0.0330</td>\n",
       "            </tr>\n",
       "    </tbody></table>"
      ],
      "text/plain": [
       "<pandas.io.formats.style.Styler at 0x7f8eeb3538d0>"
      ]
     },
     "metadata": {},
     "output_type": "display_data"
    }
   ],
   "source": [
    "# adding an extra classifier ngboost\n",
    "ngc = NGBClassifier()\n",
    "ngboost = create_model(ngc)\n",
    "\n",
    "model_matrix = compare_models(\n",
    "    fold=10,\n",
    "    include=[\"ada\",\"dt\",\"gbc\",\"et\",\"knn\",\"lightgbm\",\"lr\",\"rf\",ngboost,\"xgboost\"]\n",
    ")"
   ]
  },
  {
   "cell_type": "markdown",
   "id": "03df160e-ac51-4adb-a131-91201fdd8358",
   "metadata": {},
   "source": [
    "### The top model is performing well, so let's compare it against our unseen eval dataset:"
   ]
  },
  {
   "cell_type": "code",
   "execution_count": 8,
   "id": "9b4716b3-5a6b-4942-a32c-7ef3e9083509",
   "metadata": {},
   "outputs": [
    {
     "data": {
      "text/html": [
       "<style  type=\"text/css\" >\n",
       "#T_f9e72_row10_col0,#T_f9e72_row10_col1,#T_f9e72_row10_col2,#T_f9e72_row10_col3,#T_f9e72_row10_col4,#T_f9e72_row10_col5,#T_f9e72_row10_col6{\n",
       "            background:  yellow;\n",
       "        }</style><table id=\"T_f9e72_\" ><thead>    <tr>        <th class=\"blank level0\" ></th>        <th class=\"col_heading level0 col0\" >Accuracy</th>        <th class=\"col_heading level0 col1\" >AUC</th>        <th class=\"col_heading level0 col2\" >Recall</th>        <th class=\"col_heading level0 col3\" >Prec.</th>        <th class=\"col_heading level0 col4\" >F1</th>        <th class=\"col_heading level0 col5\" >Kappa</th>        <th class=\"col_heading level0 col6\" >MCC</th>    </tr></thead><tbody>\n",
       "                <tr>\n",
       "                        <th id=\"T_f9e72_level0_row0\" class=\"row_heading level0 row0\" >0</th>\n",
       "                        <td id=\"T_f9e72_row0_col0\" class=\"data row0 col0\" >0.9242</td>\n",
       "                        <td id=\"T_f9e72_row0_col1\" class=\"data row0 col1\" >0.9609</td>\n",
       "                        <td id=\"T_f9e72_row0_col2\" class=\"data row0 col2\" >0.9659</td>\n",
       "                        <td id=\"T_f9e72_row0_col3\" class=\"data row0 col3\" >0.8333</td>\n",
       "                        <td id=\"T_f9e72_row0_col4\" class=\"data row0 col4\" >0.8947</td>\n",
       "                        <td id=\"T_f9e72_row0_col5\" class=\"data row0 col5\" >0.8361</td>\n",
       "                        <td id=\"T_f9e72_row0_col6\" class=\"data row0 col6\" >0.8416</td>\n",
       "            </tr>\n",
       "            <tr>\n",
       "                        <th id=\"T_f9e72_level0_row1\" class=\"row_heading level0 row1\" >1</th>\n",
       "                        <td id=\"T_f9e72_row1_col0\" class=\"data row1 col0\" >0.9129</td>\n",
       "                        <td id=\"T_f9e72_row1_col1\" class=\"data row1 col1\" >0.9573</td>\n",
       "                        <td id=\"T_f9e72_row1_col2\" class=\"data row1 col2\" >0.9470</td>\n",
       "                        <td id=\"T_f9e72_row1_col3\" class=\"data row1 col3\" >0.8197</td>\n",
       "                        <td id=\"T_f9e72_row1_col4\" class=\"data row1 col4\" >0.8787</td>\n",
       "                        <td id=\"T_f9e72_row1_col5\" class=\"data row1 col5\" >0.8113</td>\n",
       "                        <td id=\"T_f9e72_row1_col6\" class=\"data row1 col6\" >0.8165</td>\n",
       "            </tr>\n",
       "            <tr>\n",
       "                        <th id=\"T_f9e72_level0_row2\" class=\"row_heading level0 row2\" >2</th>\n",
       "                        <td id=\"T_f9e72_row2_col0\" class=\"data row2 col0\" >0.9040</td>\n",
       "                        <td id=\"T_f9e72_row2_col1\" class=\"data row2 col1\" >0.9542</td>\n",
       "                        <td id=\"T_f9e72_row2_col2\" class=\"data row2 col2\" >0.9659</td>\n",
       "                        <td id=\"T_f9e72_row2_col3\" class=\"data row2 col3\" >0.7919</td>\n",
       "                        <td id=\"T_f9e72_row2_col4\" class=\"data row2 col4\" >0.8703</td>\n",
       "                        <td id=\"T_f9e72_row2_col5\" class=\"data row2 col5\" >0.7953</td>\n",
       "                        <td id=\"T_f9e72_row2_col6\" class=\"data row2 col6\" >0.8052</td>\n",
       "            </tr>\n",
       "            <tr>\n",
       "                        <th id=\"T_f9e72_level0_row3\" class=\"row_heading level0 row3\" >3</th>\n",
       "                        <td id=\"T_f9e72_row3_col0\" class=\"data row3 col0\" >0.9217</td>\n",
       "                        <td id=\"T_f9e72_row3_col1\" class=\"data row3 col1\" >0.9589</td>\n",
       "                        <td id=\"T_f9e72_row3_col2\" class=\"data row3 col2\" >0.9697</td>\n",
       "                        <td id=\"T_f9e72_row3_col3\" class=\"data row3 col3\" >0.8258</td>\n",
       "                        <td id=\"T_f9e72_row3_col4\" class=\"data row3 col4\" >0.8920</td>\n",
       "                        <td id=\"T_f9e72_row3_col5\" class=\"data row3 col5\" >0.8312</td>\n",
       "                        <td id=\"T_f9e72_row3_col6\" class=\"data row3 col6\" >0.8378</td>\n",
       "            </tr>\n",
       "            <tr>\n",
       "                        <th id=\"T_f9e72_level0_row4\" class=\"row_heading level0 row4\" >4</th>\n",
       "                        <td id=\"T_f9e72_row4_col0\" class=\"data row4 col0\" >0.9028</td>\n",
       "                        <td id=\"T_f9e72_row4_col1\" class=\"data row4 col1\" >0.9545</td>\n",
       "                        <td id=\"T_f9e72_row4_col2\" class=\"data row4 col2\" >0.9545</td>\n",
       "                        <td id=\"T_f9e72_row4_col3\" class=\"data row4 col3\" >0.7950</td>\n",
       "                        <td id=\"T_f9e72_row4_col4\" class=\"data row4 col4\" >0.8675</td>\n",
       "                        <td id=\"T_f9e72_row4_col5\" class=\"data row4 col5\" >0.7917</td>\n",
       "                        <td id=\"T_f9e72_row4_col6\" class=\"data row4 col6\" >0.8000</td>\n",
       "            </tr>\n",
       "            <tr>\n",
       "                        <th id=\"T_f9e72_level0_row5\" class=\"row_heading level0 row5\" >5</th>\n",
       "                        <td id=\"T_f9e72_row5_col0\" class=\"data row5 col0\" >0.9230</td>\n",
       "                        <td id=\"T_f9e72_row5_col1\" class=\"data row5 col1\" >0.9694</td>\n",
       "                        <td id=\"T_f9e72_row5_col2\" class=\"data row5 col2\" >0.9848</td>\n",
       "                        <td id=\"T_f9e72_row5_col3\" class=\"data row5 col3\" >0.8202</td>\n",
       "                        <td id=\"T_f9e72_row5_col4\" class=\"data row5 col4\" >0.8950</td>\n",
       "                        <td id=\"T_f9e72_row5_col5\" class=\"data row5 col5\" >0.8350</td>\n",
       "                        <td id=\"T_f9e72_row5_col6\" class=\"data row5 col6\" >0.8437</td>\n",
       "            </tr>\n",
       "            <tr>\n",
       "                        <th id=\"T_f9e72_level0_row6\" class=\"row_heading level0 row6\" >6</th>\n",
       "                        <td id=\"T_f9e72_row6_col0\" class=\"data row6 col0\" >0.9343</td>\n",
       "                        <td id=\"T_f9e72_row6_col1\" class=\"data row6 col1\" >0.9686</td>\n",
       "                        <td id=\"T_f9e72_row6_col2\" class=\"data row6 col2\" >0.9886</td>\n",
       "                        <td id=\"T_f9e72_row6_col3\" class=\"data row6 col3\" >0.8419</td>\n",
       "                        <td id=\"T_f9e72_row6_col4\" class=\"data row6 col4\" >0.9094</td>\n",
       "                        <td id=\"T_f9e72_row6_col5\" class=\"data row6 col5\" >0.8583</td>\n",
       "                        <td id=\"T_f9e72_row6_col6\" class=\"data row6 col6\" >0.8652</td>\n",
       "            </tr>\n",
       "            <tr>\n",
       "                        <th id=\"T_f9e72_level0_row7\" class=\"row_heading level0 row7\" >7</th>\n",
       "                        <td id=\"T_f9e72_row7_col0\" class=\"data row7 col0\" >0.9254</td>\n",
       "                        <td id=\"T_f9e72_row7_col1\" class=\"data row7 col1\" >0.9730</td>\n",
       "                        <td id=\"T_f9e72_row7_col2\" class=\"data row7 col2\" >0.9773</td>\n",
       "                        <td id=\"T_f9e72_row7_col3\" class=\"data row7 col3\" >0.8296</td>\n",
       "                        <td id=\"T_f9e72_row7_col4\" class=\"data row7 col4\" >0.8974</td>\n",
       "                        <td id=\"T_f9e72_row7_col5\" class=\"data row7 col5\" >0.8394</td>\n",
       "                        <td id=\"T_f9e72_row7_col6\" class=\"data row7 col6\" >0.8464</td>\n",
       "            </tr>\n",
       "            <tr>\n",
       "                        <th id=\"T_f9e72_level0_row8\" class=\"row_heading level0 row8\" >8</th>\n",
       "                        <td id=\"T_f9e72_row8_col0\" class=\"data row8 col0\" >0.9115</td>\n",
       "                        <td id=\"T_f9e72_row8_col1\" class=\"data row8 col1\" >0.9547</td>\n",
       "                        <td id=\"T_f9e72_row8_col2\" class=\"data row8 col2\" >0.9659</td>\n",
       "                        <td id=\"T_f9e72_row8_col3\" class=\"data row8 col3\" >0.8070</td>\n",
       "                        <td id=\"T_f9e72_row8_col4\" class=\"data row8 col4\" >0.8793</td>\n",
       "                        <td id=\"T_f9e72_row8_col5\" class=\"data row8 col5\" >0.8103</td>\n",
       "                        <td id=\"T_f9e72_row8_col6\" class=\"data row8 col6\" >0.8185</td>\n",
       "            </tr>\n",
       "            <tr>\n",
       "                        <th id=\"T_f9e72_level0_row9\" class=\"row_heading level0 row9\" >9</th>\n",
       "                        <td id=\"T_f9e72_row9_col0\" class=\"data row9 col0\" >0.9090</td>\n",
       "                        <td id=\"T_f9e72_row9_col1\" class=\"data row9 col1\" >0.9577</td>\n",
       "                        <td id=\"T_f9e72_row9_col2\" class=\"data row9 col2\" >0.9735</td>\n",
       "                        <td id=\"T_f9e72_row9_col3\" class=\"data row9 col3\" >0.7981</td>\n",
       "                        <td id=\"T_f9e72_row9_col4\" class=\"data row9 col4\" >0.8771</td>\n",
       "                        <td id=\"T_f9e72_row9_col5\" class=\"data row9 col5\" >0.8060</td>\n",
       "                        <td id=\"T_f9e72_row9_col6\" class=\"data row9 col6\" >0.8160</td>\n",
       "            </tr>\n",
       "            <tr>\n",
       "                        <th id=\"T_f9e72_level0_row10\" class=\"row_heading level0 row10\" >Mean</th>\n",
       "                        <td id=\"T_f9e72_row10_col0\" class=\"data row10 col0\" >0.9169</td>\n",
       "                        <td id=\"T_f9e72_row10_col1\" class=\"data row10 col1\" >0.9609</td>\n",
       "                        <td id=\"T_f9e72_row10_col2\" class=\"data row10 col2\" >0.9693</td>\n",
       "                        <td id=\"T_f9e72_row10_col3\" class=\"data row10 col3\" >0.8162</td>\n",
       "                        <td id=\"T_f9e72_row10_col4\" class=\"data row10 col4\" >0.8861</td>\n",
       "                        <td id=\"T_f9e72_row10_col5\" class=\"data row10 col5\" >0.8215</td>\n",
       "                        <td id=\"T_f9e72_row10_col6\" class=\"data row10 col6\" >0.8291</td>\n",
       "            </tr>\n",
       "            <tr>\n",
       "                        <th id=\"T_f9e72_level0_row11\" class=\"row_heading level0 row11\" >SD</th>\n",
       "                        <td id=\"T_f9e72_row11_col0\" class=\"data row11 col0\" >0.0098</td>\n",
       "                        <td id=\"T_f9e72_row11_col1\" class=\"data row11 col1\" >0.0066</td>\n",
       "                        <td id=\"T_f9e72_row11_col2\" class=\"data row11 col2\" >0.0120</td>\n",
       "                        <td id=\"T_f9e72_row11_col3\" class=\"data row11 col3\" >0.0165</td>\n",
       "                        <td id=\"T_f9e72_row11_col4\" class=\"data row11 col4\" >0.0128</td>\n",
       "                        <td id=\"T_f9e72_row11_col5\" class=\"data row11 col5\" >0.0205</td>\n",
       "                        <td id=\"T_f9e72_row11_col6\" class=\"data row11 col6\" >0.0198</td>\n",
       "            </tr>\n",
       "    </tbody></table>"
      ],
      "text/plain": [
       "<pandas.io.formats.style.Styler at 0x7f8eeb32c110>"
      ]
     },
     "metadata": {},
     "output_type": "display_data"
    }
   ],
   "source": [
    "best_model = create_model(model_matrix)\n",
    "\n",
    "unseen_predictions = predict_model(best_model, data=df_eval)"
   ]
  },
  {
   "cell_type": "code",
   "execution_count": 9,
   "id": "41adb8a7-ebb9-4e10-adc7-0c376447646c",
   "metadata": {},
   "outputs": [
    {
     "data": {
      "image/png": "[encoded data removed]",
      "text/plain": [
       "<Figure size 800x500 with 1 Axes>"
      ]
     },
     "metadata": {},
     "output_type": "display_data"
    }
   ],
   "source": [
    "plot_model(best_model, plot='feature')"
   ]
  },
  {
   "cell_type": "code",
   "execution_count": null,
   "id": "809993df-4a01-4866-9413-fb5b1dc1554a",
   "metadata": {},
   "outputs": [],
   "source": [
    "plot_model(best_model, plot='confusion_matrix')"
   ]
  },
  {
   "cell_type": "markdown",
   "id": "f403c988",
   "metadata": {},
   "source": [
    "## Results"
   ]
  },
  {
   "cell_type": "markdown",
   "id": "22e76df0",
   "metadata": {},
   "source": [
    "## Observations\n",
    "Here you can document some ideas on the results from above"
   ]
  },
  {
   "cell_type": "markdown",
   "id": "abda0dfd",
   "metadata": {},
   "source": [
    "## Conclusions\n",
    "Here you can talk about next steps, did the experiment work? If yes, what to do next? If no, why?"
   ]
  }
 ],
 "metadata": {
  "kernelspec": {
   "display_name": "Python 3 (ipykernel)",
   "language": "python",
   "name": "python3"
  },
  "language_info": {
   "codemirror_mode": {
    "name": "ipython",
    "version": 3
   },
   "file_extension": ".py",
   "mimetype": "text/x-python",
   "name": "python",
   "nbconvert_exporter": "python",
   "pygments_lexer": "ipython3",
   "version": "3.7.10"
  }
 },
 "nbformat": 4,
 "nbformat_minor": 5
}
