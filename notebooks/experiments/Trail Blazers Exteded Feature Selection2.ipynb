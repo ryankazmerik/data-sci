{
 "cells": [
  {
   "cell_type": "markdown",
   "id": "9575d83e",
   "metadata": {},
   "source": [
    "# Portland Trail Blazers - Feature Selection\n",
    "* StellarAlgo Data Science\n",
    "* Ryan Kazmerik & Nakisa Rad\n",
    "* October 8, 2021"
   ]
  },
  {
   "cell_type": "markdown",
   "id": "62d7c5a2",
   "metadata": {},
   "source": [
    "## Hypothesis\n",
    "Two very important components of a machine learning model are feature selection and feature engineering. Our idea is that adding some more features to the StellarAlgo retention model could improve performance of the model."
   ]
  },
  {
   "cell_type": "markdown",
   "id": "c46403a5",
   "metadata": {},
   "source": [
    "## Experiment\n",
    "This section details our experiment including querying data, data transformations, feature selection and modelling"
   ]
  },
  {
   "cell_type": "code",
   "execution_count": 1,
   "id": "df2be620",
   "metadata": {},
   "outputs": [],
   "source": [
    "import getpass\n",
    "import pyodbc\n",
    "import pandas as pd\n",
    "import warnings\n",
    "\n",
    "from pycaret.classification import *\n",
    "from ngboost import NGBClassifier\n",
    "\n",
    "warnings.filterwarnings('ignore')"
   ]
  },
  {
   "cell_type": "markdown",
   "id": "5872346a",
   "metadata": {},
   "source": [
    "### Let's connect to MSSQL and run a stored proc to get our dataset:"
   ]
  },
  {
   "cell_type": "code",
   "execution_count": 2,
   "id": "c060d5cf",
   "metadata": {},
   "outputs": [
    {
     "name": "stdin",
     "output_type": "stream",
     "text": [
      "Enter your password ··················\n"
     ]
    }
   ],
   "source": [
    "SERVER = '34.206.73.189' \n",
    "DATABASE = 'datascience' \n",
    "USERNAME = 'dsAdminWrite' \n",
    "PASSWORD = getpass.getpass(prompt='Enter your password')\n",
    "CNXN = pyodbc.connect('DRIVER={ODBC Driver 17 for SQL Server};SERVER='+SERVER+';DATABASE='+DATABASE+';UID='+USERNAME+';PWD='+ PASSWORD)"
   ]
  },
  {
   "cell_type": "code",
   "execution_count": 3,
   "id": "b9615e8a",
   "metadata": {},
   "outputs": [],
   "source": [
    "lkupclientid = 5 # Portland Trail Blazers\n",
    "\n",
    "cursor = CNXN.cursor()\n",
    "\n",
    "storedProc = (\n",
    "    f\"\"\"Exec [stlrTrailBlazers].[ds].[getRetentionScoringModelData] {lkupclientid}\"\"\"\n",
    ")\n",
    "\n",
    "df = pd.read_sql(storedProc, CNXN)\n",
    "\n",
    "CNXN.commit()\n",
    "cursor.close()"
   ]
  },
  {
   "cell_type": "markdown",
   "id": "4b4e7b71",
   "metadata": {},
   "source": [
    "### Let's drop the features that have lots of null values, as these won't be useful to our model:"
   ]
  },
  {
   "cell_type": "code",
   "execution_count": 4,
   "id": "6fbd8c9b",
   "metadata": {},
   "outputs": [],
   "source": [
    "df.drop([\n",
    "    'urbanicity', \n",
    "    'isnextyear_buyer', \n",
    "    'isnextyear_samepkg_buyer',\n",
    "    'pkgupgrade_status',\n",
    "    'auto_renewal'],\n",
    "    axis=1, \n",
    "    inplace=True\n",
    ")"
   ]
  },
  {
   "cell_type": "markdown",
   "id": "cbfa1a4e",
   "metadata": {},
   "source": [
    "### In order to compare two sets of features, we need to create some datasets for training and evalution:"
   ]
  },
  {
   "cell_type": "code",
   "execution_count": 5,
   "id": "82651c96",
   "metadata": {},
   "outputs": [
    {
     "name": "stdout",
     "output_type": "stream",
     "text": [
      "Data for Modeling: (9896, 4)\n",
      "Unseen Data For Predictions: (1100, 4)\n",
      "\n"
     ]
    }
   ],
   "source": [
    "# choose the features that include the extended stellar retention features\n",
    "features = [\n",
    "    \"dimCustomerMasterId\",\n",
    "    \"attendancePercent\",\n",
    "    \"distToVenue\",\n",
    "    \"education\",\n",
    "    \"fill_out_form\",\n",
    "    \"forward_records\",\n",
    "    \"gender\",\n",
    "    \"isNextYear_Buyer\",\n",
    "    \"missed_games_1\",\n",
    "    \"missed_games_2\",\n",
    "    \"missed_games_over_2\",\n",
    "    \"posting_records\",\n",
    "    \"productGrouping\",\n",
    "    \"recency\",\n",
    "    \"renewedBeforeDays\",\n",
    "    \"resale_atp\",\n",
    "    \"resale_records\",\n",
    "    \"source_tenure\",\n",
    "    \"totalSpent\",\n",
    "    \"tenure\",\n",
    "    \"year\"\n",
    "]\n",
    "\n",
    "features = [\n",
    "    \"dimCustomerMasterId\",\n",
    "    \"attendancePercent\",\n",
    "    \"distToVenue\",\n",
    "    \"isNextYear_Buyer\"\n",
    "]\n",
    "\n",
    "# select 90% of the data for training\n",
    "df_train = df.sample(frac=0.9, random_state=786).reset_index(drop=True)\n",
    "\n",
    "# create the eval datasets for A and B\n",
    "df_eval = df.drop(df_train.index).reset_index(drop=True)\n",
    "\n",
    "# choose features for each train dataset\n",
    "df_train = df_train[features]\n",
    "\n",
    "# choose features for each train dataset\n",
    "df_eval = df_eval[features]\n",
    "\n",
    "# print out the number of records for training and eval\n",
    "print('Data for Modeling: ' + str(df_train.shape))\n",
    "print('Unseen Data For Predictions: ' + str(df_eval.shape), end=\"\\n\\n\")"
   ]
  },
  {
   "cell_type": "markdown",
   "id": "9f34eb03-b49b-49e5-bce8-7caaa29c5dd7",
   "metadata": {},
   "source": [
    "## Now we can model the data using a binary classification prediction for the isnextyear_buyer field to see how likely a customer is to re-purchase."
   ]
  },
  {
   "cell_type": "code",
   "execution_count": null,
   "id": "a3127c2e-7f0a-4ebc-b2a9-719d664ee799",
   "metadata": {},
   "outputs": [],
   "source": [
    "setup(\n",
    "    data= df_train, \n",
    "    target=\"isNextYear_Buyer\", \n",
    "    train_size = 0.80,\n",
    "    data_split_shuffle=True,\n",
    "    silent=True,\n",
    "    ignore_features=[\"dimCustomerMasterId\"],\n",
    "    numeric_features=[\n",
    "        \"attendancePercent\",\n",
    "        \"distToVenue\"\n",
    "    ]\n",
    ")"
   ]
  },
  {
   "cell_type": "code",
   "execution_count": 7,
   "id": "7fbe69d0-1256-440c-8cb8-efb88904eaf7",
   "metadata": {},
   "outputs": [
    {
     "data": {
      "text/html": [
       "<style  type=\"text/css\" >\n",
       "    #T_d7337_ th {\n",
       "          text-align: left;\n",
       "    }#T_d7337_row0_col0,#T_d7337_row0_col3,#T_d7337_row0_col5,#T_d7337_row1_col0,#T_d7337_row1_col1,#T_d7337_row1_col2,#T_d7337_row1_col3,#T_d7337_row1_col4,#T_d7337_row1_col5,#T_d7337_row1_col6,#T_d7337_row1_col7,#T_d7337_row2_col0,#T_d7337_row2_col1,#T_d7337_row2_col2,#T_d7337_row2_col3,#T_d7337_row2_col4,#T_d7337_row2_col5,#T_d7337_row2_col6,#T_d7337_row2_col7,#T_d7337_row3_col0,#T_d7337_row3_col1,#T_d7337_row3_col2,#T_d7337_row3_col3,#T_d7337_row3_col4,#T_d7337_row3_col5,#T_d7337_row3_col6,#T_d7337_row3_col7,#T_d7337_row4_col0,#T_d7337_row4_col1,#T_d7337_row4_col2,#T_d7337_row4_col3,#T_d7337_row4_col4,#T_d7337_row4_col5,#T_d7337_row4_col6,#T_d7337_row4_col7,#T_d7337_row5_col0,#T_d7337_row5_col1,#T_d7337_row5_col2,#T_d7337_row5_col3,#T_d7337_row5_col4,#T_d7337_row5_col5,#T_d7337_row5_col6,#T_d7337_row5_col7,#T_d7337_row6_col0,#T_d7337_row6_col1,#T_d7337_row6_col2,#T_d7337_row6_col3,#T_d7337_row6_col4,#T_d7337_row6_col5,#T_d7337_row6_col6,#T_d7337_row6_col7,#T_d7337_row7_col0,#T_d7337_row7_col1,#T_d7337_row7_col2,#T_d7337_row7_col3,#T_d7337_row7_col4,#T_d7337_row7_col5,#T_d7337_row7_col6,#T_d7337_row7_col7,#T_d7337_row8_col0,#T_d7337_row8_col1,#T_d7337_row8_col2,#T_d7337_row8_col3,#T_d7337_row8_col4,#T_d7337_row8_col5,#T_d7337_row8_col6,#T_d7337_row8_col7,#T_d7337_row9_col0,#T_d7337_row9_col1,#T_d7337_row9_col2,#T_d7337_row9_col4,#T_d7337_row9_col6,#T_d7337_row9_col7{\n",
       "            text-align:  left;\n",
       "            text-align:  left;\n",
       "        }#T_d7337_row0_col1,#T_d7337_row0_col2,#T_d7337_row0_col4,#T_d7337_row0_col6,#T_d7337_row0_col7,#T_d7337_row9_col3,#T_d7337_row9_col5{\n",
       "            text-align:  left;\n",
       "            text-align:  left;\n",
       "            background-color:  yellow;\n",
       "        }#T_d7337_row0_col8,#T_d7337_row1_col8,#T_d7337_row2_col8,#T_d7337_row3_col8,#T_d7337_row5_col8,#T_d7337_row7_col8,#T_d7337_row8_col8,#T_d7337_row9_col8{\n",
       "            text-align:  left;\n",
       "            text-align:  left;\n",
       "            background-color:  lightgrey;\n",
       "        }#T_d7337_row4_col8,#T_d7337_row6_col8{\n",
       "            text-align:  left;\n",
       "            text-align:  left;\n",
       "            background-color:  yellow;\n",
       "            background-color:  lightgrey;\n",
       "        }</style><table id=\"T_d7337_\" ><thead>    <tr>        <th class=\"blank level0\" ></th>        <th class=\"col_heading level0 col0\" >Model</th>        <th class=\"col_heading level0 col1\" >Accuracy</th>        <th class=\"col_heading level0 col2\" >AUC</th>        <th class=\"col_heading level0 col3\" >Recall</th>        <th class=\"col_heading level0 col4\" >Prec.</th>        <th class=\"col_heading level0 col5\" >F1</th>        <th class=\"col_heading level0 col6\" >Kappa</th>        <th class=\"col_heading level0 col7\" >MCC</th>        <th class=\"col_heading level0 col8\" >TT (Sec)</th>    </tr></thead><tbody>\n",
       "                <tr>\n",
       "                        <th id=\"T_d7337_level0_row0\" class=\"row_heading level0 row0\" >8</th>\n",
       "                        <td id=\"T_d7337_row0_col0\" class=\"data row0 col0\" >NGBClassifier</td>\n",
       "                        <td id=\"T_d7337_row0_col1\" class=\"data row0 col1\" >0.6741</td>\n",
       "                        <td id=\"T_d7337_row0_col2\" class=\"data row0 col2\" >0.5168</td>\n",
       "                        <td id=\"T_d7337_row0_col3\" class=\"data row0 col3\" >0.0396</td>\n",
       "                        <td id=\"T_d7337_row0_col4\" class=\"data row0 col4\" >0.7685</td>\n",
       "                        <td id=\"T_d7337_row0_col5\" class=\"data row0 col5\" >0.0751</td>\n",
       "                        <td id=\"T_d7337_row0_col6\" class=\"data row0 col6\" >0.0440</td>\n",
       "                        <td id=\"T_d7337_row0_col7\" class=\"data row0 col7\" >0.1211</td>\n",
       "                        <td id=\"T_d7337_row0_col8\" class=\"data row0 col8\" >0.9660</td>\n",
       "            </tr>\n",
       "            <tr>\n",
       "                        <th id=\"T_d7337_level0_row1\" class=\"row_heading level0 row1\" >0</th>\n",
       "                        <td id=\"T_d7337_row1_col0\" class=\"data row1 col0\" >Ada Boost Classifier</td>\n",
       "                        <td id=\"T_d7337_row1_col1\" class=\"data row1 col1\" >0.6729</td>\n",
       "                        <td id=\"T_d7337_row1_col2\" class=\"data row1 col2\" >0.5067</td>\n",
       "                        <td id=\"T_d7337_row1_col3\" class=\"data row1 col3\" >0.0392</td>\n",
       "                        <td id=\"T_d7337_row1_col4\" class=\"data row1 col4\" >0.7309</td>\n",
       "                        <td id=\"T_d7337_row1_col5\" class=\"data row1 col5\" >0.0742</td>\n",
       "                        <td id=\"T_d7337_row1_col6\" class=\"data row1 col6\" >0.0415</td>\n",
       "                        <td id=\"T_d7337_row1_col7\" class=\"data row1 col7\" >0.1123</td>\n",
       "                        <td id=\"T_d7337_row1_col8\" class=\"data row1 col8\" >0.1520</td>\n",
       "            </tr>\n",
       "            <tr>\n",
       "                        <th id=\"T_d7337_level0_row2\" class=\"row_heading level0 row2\" >2</th>\n",
       "                        <td id=\"T_d7337_row2_col0\" class=\"data row2 col0\" >Gradient Boosting Classifier</td>\n",
       "                        <td id=\"T_d7337_row2_col1\" class=\"data row2 col1\" >0.6713</td>\n",
       "                        <td id=\"T_d7337_row2_col2\" class=\"data row2 col2\" >0.5021</td>\n",
       "                        <td id=\"T_d7337_row2_col3\" class=\"data row2 col3\" >0.0365</td>\n",
       "                        <td id=\"T_d7337_row2_col4\" class=\"data row2 col4\" >0.6889</td>\n",
       "                        <td id=\"T_d7337_row2_col5\" class=\"data row2 col5\" >0.0693</td>\n",
       "                        <td id=\"T_d7337_row2_col6\" class=\"data row2 col6\" >0.0366</td>\n",
       "                        <td id=\"T_d7337_row2_col7\" class=\"data row2 col7\" >0.0999</td>\n",
       "                        <td id=\"T_d7337_row2_col8\" class=\"data row2 col8\" >0.0340</td>\n",
       "            </tr>\n",
       "            <tr>\n",
       "                        <th id=\"T_d7337_level0_row3\" class=\"row_heading level0 row3\" >5</th>\n",
       "                        <td id=\"T_d7337_row3_col0\" class=\"data row3 col0\" >Light Gradient Boosting Machine</td>\n",
       "                        <td id=\"T_d7337_row3_col1\" class=\"data row3 col1\" >0.6699</td>\n",
       "                        <td id=\"T_d7337_row3_col2\" class=\"data row3 col2\" >0.4954</td>\n",
       "                        <td id=\"T_d7337_row3_col3\" class=\"data row3 col3\" >0.0377</td>\n",
       "                        <td id=\"T_d7337_row3_col4\" class=\"data row3 col4\" >0.6448</td>\n",
       "                        <td id=\"T_d7337_row3_col5\" class=\"data row3 col5\" >0.0709</td>\n",
       "                        <td id=\"T_d7337_row3_col6\" class=\"data row3 col6\" >0.0345</td>\n",
       "                        <td id=\"T_d7337_row3_col7\" class=\"data row3 col7\" >0.0904</td>\n",
       "                        <td id=\"T_d7337_row3_col8\" class=\"data row3 col8\" >0.0220</td>\n",
       "            </tr>\n",
       "            <tr>\n",
       "                        <th id=\"T_d7337_level0_row4\" class=\"row_heading level0 row4\" >6</th>\n",
       "                        <td id=\"T_d7337_row4_col0\" class=\"data row4 col0\" >Logistic Regression</td>\n",
       "                        <td id=\"T_d7337_row4_col1\" class=\"data row4 col1\" >0.6647</td>\n",
       "                        <td id=\"T_d7337_row4_col2\" class=\"data row4 col2\" >0.4902</td>\n",
       "                        <td id=\"T_d7337_row4_col3\" class=\"data row4 col3\" >0.0000</td>\n",
       "                        <td id=\"T_d7337_row4_col4\" class=\"data row4 col4\" >0.0000</td>\n",
       "                        <td id=\"T_d7337_row4_col5\" class=\"data row4 col5\" >0.0000</td>\n",
       "                        <td id=\"T_d7337_row4_col6\" class=\"data row4 col6\" >0.0000</td>\n",
       "                        <td id=\"T_d7337_row4_col7\" class=\"data row4 col7\" >0.0000</td>\n",
       "                        <td id=\"T_d7337_row4_col8\" class=\"data row4 col8\" >0.0090</td>\n",
       "            </tr>\n",
       "            <tr>\n",
       "                        <th id=\"T_d7337_level0_row5\" class=\"row_heading level0 row5\" >9</th>\n",
       "                        <td id=\"T_d7337_row5_col0\" class=\"data row5 col0\" >Extreme Gradient Boosting</td>\n",
       "                        <td id=\"T_d7337_row5_col1\" class=\"data row5 col1\" >0.6644</td>\n",
       "                        <td id=\"T_d7337_row5_col2\" class=\"data row5 col2\" >0.4880</td>\n",
       "                        <td id=\"T_d7337_row5_col3\" class=\"data row5 col3\" >0.0309</td>\n",
       "                        <td id=\"T_d7337_row5_col4\" class=\"data row5 col4\" >0.5211</td>\n",
       "                        <td id=\"T_d7337_row5_col5\" class=\"data row5 col5\" >0.0578</td>\n",
       "                        <td id=\"T_d7337_row5_col6\" class=\"data row5 col6\" >0.0192</td>\n",
       "                        <td id=\"T_d7337_row5_col7\" class=\"data row5 col7\" >0.0512</td>\n",
       "                        <td id=\"T_d7337_row5_col8\" class=\"data row5 col8\" >0.2570</td>\n",
       "            </tr>\n",
       "            <tr>\n",
       "                        <th id=\"T_d7337_level0_row6\" class=\"row_heading level0 row6\" >1</th>\n",
       "                        <td id=\"T_d7337_row6_col0\" class=\"data row6 col0\" >Decision Tree Classifier</td>\n",
       "                        <td id=\"T_d7337_row6_col1\" class=\"data row6 col1\" >0.6585</td>\n",
       "                        <td id=\"T_d7337_row6_col2\" class=\"data row6 col2\" >0.4774</td>\n",
       "                        <td id=\"T_d7337_row6_col3\" class=\"data row6 col3\" >0.0298</td>\n",
       "                        <td id=\"T_d7337_row6_col4\" class=\"data row6 col4\" >0.3818</td>\n",
       "                        <td id=\"T_d7337_row6_col5\" class=\"data row6 col5\" >0.0550</td>\n",
       "                        <td id=\"T_d7337_row6_col6\" class=\"data row6 col6\" >0.0070</td>\n",
       "                        <td id=\"T_d7337_row6_col7\" class=\"data row6 col7\" >0.0159</td>\n",
       "                        <td id=\"T_d7337_row6_col8\" class=\"data row6 col8\" >0.0090</td>\n",
       "            </tr>\n",
       "            <tr>\n",
       "                        <th id=\"T_d7337_level0_row7\" class=\"row_heading level0 row7\" >3</th>\n",
       "                        <td id=\"T_d7337_row7_col0\" class=\"data row7 col0\" >Extra Trees Classifier</td>\n",
       "                        <td id=\"T_d7337_row7_col1\" class=\"data row7 col1\" >0.6585</td>\n",
       "                        <td id=\"T_d7337_row7_col2\" class=\"data row7 col2\" >0.4789</td>\n",
       "                        <td id=\"T_d7337_row7_col3\" class=\"data row7 col3\" >0.0309</td>\n",
       "                        <td id=\"T_d7337_row7_col4\" class=\"data row7 col4\" >0.3884</td>\n",
       "                        <td id=\"T_d7337_row7_col5\" class=\"data row7 col5\" >0.0571</td>\n",
       "                        <td id=\"T_d7337_row7_col6\" class=\"data row7 col6\" >0.0078</td>\n",
       "                        <td id=\"T_d7337_row7_col7\" class=\"data row7 col7\" >0.0179</td>\n",
       "                        <td id=\"T_d7337_row7_col8\" class=\"data row7 col8\" >0.1090</td>\n",
       "            </tr>\n",
       "            <tr>\n",
       "                        <th id=\"T_d7337_level0_row8\" class=\"row_heading level0 row8\" >7</th>\n",
       "                        <td id=\"T_d7337_row8_col0\" class=\"data row8 col0\" >Random Forest Classifier</td>\n",
       "                        <td id=\"T_d7337_row8_col1\" class=\"data row8 col1\" >0.6539</td>\n",
       "                        <td id=\"T_d7337_row8_col2\" class=\"data row8 col2\" >0.4815</td>\n",
       "                        <td id=\"T_d7337_row8_col3\" class=\"data row8 col3\" >0.0366</td>\n",
       "                        <td id=\"T_d7337_row8_col4\" class=\"data row8 col4\" >0.3490</td>\n",
       "                        <td id=\"T_d7337_row8_col5\" class=\"data row8 col5\" >0.0657</td>\n",
       "                        <td id=\"T_d7337_row8_col6\" class=\"data row8 col6\" >0.0023</td>\n",
       "                        <td id=\"T_d7337_row8_col7\" class=\"data row8 col7\" >0.0048</td>\n",
       "                        <td id=\"T_d7337_row8_col8\" class=\"data row8 col8\" >0.1360</td>\n",
       "            </tr>\n",
       "            <tr>\n",
       "                        <th id=\"T_d7337_level0_row9\" class=\"row_heading level0 row9\" >4</th>\n",
       "                        <td id=\"T_d7337_row9_col0\" class=\"data row9 col0\" >K Neighbors Classifier</td>\n",
       "                        <td id=\"T_d7337_row9_col1\" class=\"data row9 col1\" >0.5814</td>\n",
       "                        <td id=\"T_d7337_row9_col2\" class=\"data row9 col2\" >0.4979</td>\n",
       "                        <td id=\"T_d7337_row9_col3\" class=\"data row9 col3\" >0.2399</td>\n",
       "                        <td id=\"T_d7337_row9_col4\" class=\"data row9 col4\" >0.3309</td>\n",
       "                        <td id=\"T_d7337_row9_col5\" class=\"data row9 col5\" >0.2743</td>\n",
       "                        <td id=\"T_d7337_row9_col6\" class=\"data row9 col6\" >-0.0065</td>\n",
       "                        <td id=\"T_d7337_row9_col7\" class=\"data row9 col7\" >-0.0065</td>\n",
       "                        <td id=\"T_d7337_row9_col8\" class=\"data row9 col8\" >0.0300</td>\n",
       "            </tr>\n",
       "    </tbody></table>"
      ],
      "text/plain": [
       "<pandas.io.formats.style.Styler at 0x7f82642172d0>"
      ]
     },
     "metadata": {},
     "output_type": "display_data"
    }
   ],
   "source": [
    "# adding an extra classifier ngboost\n",
    "ngc = NGBClassifier()\n",
    "ngboost = create_model(ngc)\n",
    "\n",
    "model_matrix = compare_models(\n",
    "    fold=10,\n",
    "    include=[\"ada\",\"dt\",\"gbc\",\"et\",\"knn\",\"lightgbm\",\"lr\",\"rf\",ngboost,\"xgboost\"]\n",
    ")"
   ]
  },
  {
   "cell_type": "markdown",
   "id": "e74b0805-f950-415f-9f01-5b5a2c11ee40",
   "metadata": {},
   "source": [
    "### The top model is performing well, so hypertune the parameters and then compare it against our unseen eval dataset:"
   ]
  },
  {
   "cell_type": "code",
   "execution_count": 8,
   "id": "d2fa83b5-8e3b-48bd-bc9b-a61a5cbb0cfc",
   "metadata": {},
   "outputs": [
    {
     "data": {
      "text/html": [
       "<style  type=\"text/css\" >\n",
       "#T_58a0b_row10_col0,#T_58a0b_row10_col1,#T_58a0b_row10_col2,#T_58a0b_row10_col3,#T_58a0b_row10_col4,#T_58a0b_row10_col5,#T_58a0b_row10_col6{\n",
       "            background:  yellow;\n",
       "        }</style><table id=\"T_58a0b_\" ><thead>    <tr>        <th class=\"blank level0\" ></th>        <th class=\"col_heading level0 col0\" >Accuracy</th>        <th class=\"col_heading level0 col1\" >AUC</th>        <th class=\"col_heading level0 col2\" >Recall</th>        <th class=\"col_heading level0 col3\" >Prec.</th>        <th class=\"col_heading level0 col4\" >F1</th>        <th class=\"col_heading level0 col5\" >Kappa</th>        <th class=\"col_heading level0 col6\" >MCC</th>    </tr></thead><tbody>\n",
       "                <tr>\n",
       "                        <th id=\"T_58a0b_level0_row0\" class=\"row_heading level0 row0\" >0</th>\n",
       "                        <td id=\"T_58a0b_row0_col0\" class=\"data row0 col0\" >0.6705</td>\n",
       "                        <td id=\"T_58a0b_row0_col1\" class=\"data row0 col1\" >0.5166</td>\n",
       "                        <td id=\"T_58a0b_row0_col2\" class=\"data row0 col2\" >0.0302</td>\n",
       "                        <td id=\"T_58a0b_row0_col3\" class=\"data row0 col3\" >0.6667</td>\n",
       "                        <td id=\"T_58a0b_row0_col4\" class=\"data row0 col4\" >0.0578</td>\n",
       "                        <td id=\"T_58a0b_row0_col5\" class=\"data row0 col5\" >0.0296</td>\n",
       "                        <td id=\"T_58a0b_row0_col6\" class=\"data row0 col6\" >0.0873</td>\n",
       "            </tr>\n",
       "            <tr>\n",
       "                        <th id=\"T_58a0b_level0_row1\" class=\"row_heading level0 row1\" >1</th>\n",
       "                        <td id=\"T_58a0b_row1_col0\" class=\"data row1 col0\" >0.6793</td>\n",
       "                        <td id=\"T_58a0b_row1_col1\" class=\"data row1 col1\" >0.5163</td>\n",
       "                        <td id=\"T_58a0b_row1_col2\" class=\"data row1 col2\" >0.0491</td>\n",
       "                        <td id=\"T_58a0b_row1_col3\" class=\"data row1 col3\" >0.8667</td>\n",
       "                        <td id=\"T_58a0b_row1_col4\" class=\"data row1 col4\" >0.0929</td>\n",
       "                        <td id=\"T_58a0b_row1_col5\" class=\"data row1 col5\" >0.0591</td>\n",
       "                        <td id=\"T_58a0b_row1_col6\" class=\"data row1 col6\" >0.1567</td>\n",
       "            </tr>\n",
       "            <tr>\n",
       "                        <th id=\"T_58a0b_level0_row2\" class=\"row_heading level0 row2\" >2</th>\n",
       "                        <td id=\"T_58a0b_row2_col0\" class=\"data row2 col0\" >0.6705</td>\n",
       "                        <td id=\"T_58a0b_row2_col1\" class=\"data row2 col1\" >0.5344</td>\n",
       "                        <td id=\"T_58a0b_row2_col2\" class=\"data row2 col2\" >0.0451</td>\n",
       "                        <td id=\"T_58a0b_row2_col3\" class=\"data row2 col3\" >0.6316</td>\n",
       "                        <td id=\"T_58a0b_row2_col4\" class=\"data row2 col4\" >0.0842</td>\n",
       "                        <td id=\"T_58a0b_row2_col5\" class=\"data row2 col5\" >0.0413</td>\n",
       "                        <td id=\"T_58a0b_row2_col6\" class=\"data row2 col6\" >0.0982</td>\n",
       "            </tr>\n",
       "            <tr>\n",
       "                        <th id=\"T_58a0b_level0_row3\" class=\"row_heading level0 row3\" >3</th>\n",
       "                        <td id=\"T_58a0b_row3_col0\" class=\"data row3 col0\" >0.6705</td>\n",
       "                        <td id=\"T_58a0b_row3_col1\" class=\"data row3 col1\" >0.4916</td>\n",
       "                        <td id=\"T_58a0b_row3_col2\" class=\"data row3 col2\" >0.0263</td>\n",
       "                        <td id=\"T_58a0b_row3_col3\" class=\"data row3 col3\" >0.7778</td>\n",
       "                        <td id=\"T_58a0b_row3_col4\" class=\"data row3 col4\" >0.0509</td>\n",
       "                        <td id=\"T_58a0b_row3_col5\" class=\"data row3 col5\" >0.0296</td>\n",
       "                        <td id=\"T_58a0b_row3_col6\" class=\"data row3 col6\" >0.1003</td>\n",
       "            </tr>\n",
       "            <tr>\n",
       "                        <th id=\"T_58a0b_level0_row4\" class=\"row_heading level0 row4\" >4</th>\n",
       "                        <td id=\"T_58a0b_row4_col0\" class=\"data row4 col0\" >0.6793</td>\n",
       "                        <td id=\"T_58a0b_row4_col1\" class=\"data row4 col1\" >0.5328</td>\n",
       "                        <td id=\"T_58a0b_row4_col2\" class=\"data row4 col2\" >0.0489</td>\n",
       "                        <td id=\"T_58a0b_row4_col3\" class=\"data row4 col3\" >0.9286</td>\n",
       "                        <td id=\"T_58a0b_row4_col4\" class=\"data row4 col4\" >0.0929</td>\n",
       "                        <td id=\"T_58a0b_row4_col5\" class=\"data row4 col5\" >0.0613</td>\n",
       "                        <td id=\"T_58a0b_row4_col6\" class=\"data row4 col6\" >0.1683</td>\n",
       "            </tr>\n",
       "            <tr>\n",
       "                        <th id=\"T_58a0b_level0_row5\" class=\"row_heading level0 row5\" >5</th>\n",
       "                        <td id=\"T_58a0b_row5_col0\" class=\"data row5 col0\" >0.6717</td>\n",
       "                        <td id=\"T_58a0b_row5_col1\" class=\"data row5 col1\" >0.5311</td>\n",
       "                        <td id=\"T_58a0b_row5_col2\" class=\"data row5 col2\" >0.0338</td>\n",
       "                        <td id=\"T_58a0b_row5_col3\" class=\"data row5 col3\" >0.7500</td>\n",
       "                        <td id=\"T_58a0b_row5_col4\" class=\"data row5 col4\" >0.0647</td>\n",
       "                        <td id=\"T_58a0b_row5_col5\" class=\"data row5 col5\" >0.0368</td>\n",
       "                        <td id=\"T_58a0b_row5_col6\" class=\"data row5 col6\" >0.1088</td>\n",
       "            </tr>\n",
       "            <tr>\n",
       "                        <th id=\"T_58a0b_level0_row6\" class=\"row_heading level0 row6\" >6</th>\n",
       "                        <td id=\"T_58a0b_row6_col0\" class=\"data row6 col0\" >0.6814</td>\n",
       "                        <td id=\"T_58a0b_row6_col1\" class=\"data row6 col1\" >0.5269</td>\n",
       "                        <td id=\"T_58a0b_row6_col2\" class=\"data row6 col2\" >0.0604</td>\n",
       "                        <td id=\"T_58a0b_row6_col3\" class=\"data row6 col3\" >0.8421</td>\n",
       "                        <td id=\"T_58a0b_row6_col4\" class=\"data row6 col4\" >0.1127</td>\n",
       "                        <td id=\"T_58a0b_row6_col5\" class=\"data row6 col5\" >0.0710</td>\n",
       "                        <td id=\"T_58a0b_row6_col6\" class=\"data row6 col6\" >0.1685</td>\n",
       "            </tr>\n",
       "            <tr>\n",
       "                        <th id=\"T_58a0b_level0_row7\" class=\"row_heading level0 row7\" >7</th>\n",
       "                        <td id=\"T_58a0b_row7_col0\" class=\"data row7 col0\" >0.6751</td>\n",
       "                        <td id=\"T_58a0b_row7_col1\" class=\"data row7 col1\" >0.5278</td>\n",
       "                        <td id=\"T_58a0b_row7_col2\" class=\"data row7 col2\" >0.0415</td>\n",
       "                        <td id=\"T_58a0b_row7_col3\" class=\"data row7 col3\" >0.7857</td>\n",
       "                        <td id=\"T_58a0b_row7_col4\" class=\"data row7 col4\" >0.0789</td>\n",
       "                        <td id=\"T_58a0b_row7_col5\" class=\"data row7 col5\" >0.0468</td>\n",
       "                        <td id=\"T_58a0b_row7_col6\" class=\"data row7 col6\" >0.1282</td>\n",
       "            </tr>\n",
       "            <tr>\n",
       "                        <th id=\"T_58a0b_level0_row8\" class=\"row_heading level0 row8\" >8</th>\n",
       "                        <td id=\"T_58a0b_row8_col0\" class=\"data row8 col0\" >0.6738</td>\n",
       "                        <td id=\"T_58a0b_row8_col1\" class=\"data row8 col1\" >0.4732</td>\n",
       "                        <td id=\"T_58a0b_row8_col2\" class=\"data row8 col2\" >0.0377</td>\n",
       "                        <td id=\"T_58a0b_row8_col3\" class=\"data row8 col3\" >0.7692</td>\n",
       "                        <td id=\"T_58a0b_row8_col4\" class=\"data row8 col4\" >0.0719</td>\n",
       "                        <td id=\"T_58a0b_row8_col5\" class=\"data row8 col5\" >0.0419</td>\n",
       "                        <td id=\"T_58a0b_row8_col6\" class=\"data row8 col6\" >0.1189</td>\n",
       "            </tr>\n",
       "            <tr>\n",
       "                        <th id=\"T_58a0b_level0_row9\" class=\"row_heading level0 row9\" >9</th>\n",
       "                        <td id=\"T_58a0b_row9_col0\" class=\"data row9 col0\" >0.6688</td>\n",
       "                        <td id=\"T_58a0b_row9_col1\" class=\"data row9 col1\" >0.5170</td>\n",
       "                        <td id=\"T_58a0b_row9_col2\" class=\"data row9 col2\" >0.0226</td>\n",
       "                        <td id=\"T_58a0b_row9_col3\" class=\"data row9 col3\" >0.6667</td>\n",
       "                        <td id=\"T_58a0b_row9_col4\" class=\"data row9 col4\" >0.0438</td>\n",
       "                        <td id=\"T_58a0b_row9_col5\" class=\"data row9 col5\" >0.0223</td>\n",
       "                        <td id=\"T_58a0b_row9_col6\" class=\"data row9 col6\" >0.0754</td>\n",
       "            </tr>\n",
       "            <tr>\n",
       "                        <th id=\"T_58a0b_level0_row10\" class=\"row_heading level0 row10\" >Mean</th>\n",
       "                        <td id=\"T_58a0b_row10_col0\" class=\"data row10 col0\" >0.6741</td>\n",
       "                        <td id=\"T_58a0b_row10_col1\" class=\"data row10 col1\" >0.5168</td>\n",
       "                        <td id=\"T_58a0b_row10_col2\" class=\"data row10 col2\" >0.0396</td>\n",
       "                        <td id=\"T_58a0b_row10_col3\" class=\"data row10 col3\" >0.7685</td>\n",
       "                        <td id=\"T_58a0b_row10_col4\" class=\"data row10 col4\" >0.0751</td>\n",
       "                        <td id=\"T_58a0b_row10_col5\" class=\"data row10 col5\" >0.0440</td>\n",
       "                        <td id=\"T_58a0b_row10_col6\" class=\"data row10 col6\" >0.1211</td>\n",
       "            </tr>\n",
       "            <tr>\n",
       "                        <th id=\"T_58a0b_level0_row11\" class=\"row_heading level0 row11\" >SD</th>\n",
       "                        <td id=\"T_58a0b_row11_col0\" class=\"data row11 col0\" >0.0043</td>\n",
       "                        <td id=\"T_58a0b_row11_col1\" class=\"data row11 col1\" >0.0188</td>\n",
       "                        <td id=\"T_58a0b_row11_col2\" class=\"data row11 col2\" >0.0111</td>\n",
       "                        <td id=\"T_58a0b_row11_col3\" class=\"data row11 col3\" >0.0899</td>\n",
       "                        <td id=\"T_58a0b_row11_col4\" class=\"data row11 col4\" >0.0203</td>\n",
       "                        <td id=\"T_58a0b_row11_col5\" class=\"data row11 col5\" >0.0149</td>\n",
       "                        <td id=\"T_58a0b_row11_col6\" class=\"data row11 col6\" >0.0319</td>\n",
       "            </tr>\n",
       "    </tbody></table>"
      ],
      "text/plain": [
       "<pandas.io.formats.style.Styler at 0x7f8282ed33d0>"
      ]
     },
     "metadata": {},
     "output_type": "display_data"
    }
   ],
   "source": [
    "best_model = create_model(model_matrix)\n",
    "\n",
    "unseen_predictions = predict_model(best_model, data=df_eval)"
   ]
  },
  {
   "cell_type": "code",
   "execution_count": 9,
   "id": "767fa473-f893-4e5f-88ce-ebe996f5751e",
   "metadata": {},
   "outputs": [
    {
     "data": {
      "application/vnd.jupyter.widget-view+json": {
       "model_id": "6b02447467614a10828ff2b7ba64f327",
       "version_major": 2,
       "version_minor": 0
      },
      "text/plain": [
       "IntProgress(value=0, description='Processing: ', max=5)"
      ]
     },
     "metadata": {},
     "output_type": "display_data"
    },
    {
     "ename": "ValueError",
     "evalue": "Data must be 1-dimensional",
     "output_type": "error",
     "traceback": [
      "\u001b[0;31m---------------------------------------------------------------------------\u001b[0m",
      "\u001b[0;31mValueError\u001b[0m                                Traceback (most recent call last)",
      "\u001b[0;32m/var/folders/kp/vwm5bxcd72j3yf54l1xtsts80000gp/T/ipykernel_15340/1755578719.py\u001b[0m in \u001b[0;36m<module>\u001b[0;34m\u001b[0m\n\u001b[0;32m----> 1\u001b[0;31m \u001b[0mplot_model\u001b[0m\u001b[0;34m(\u001b[0m\u001b[0mbest_model\u001b[0m\u001b[0;34m,\u001b[0m \u001b[0mplot\u001b[0m\u001b[0;34m=\u001b[0m\u001b[0;34m'feature'\u001b[0m\u001b[0;34m)\u001b[0m\u001b[0;34m\u001b[0m\u001b[0;34m\u001b[0m\u001b[0m\n\u001b[0m",
      "\u001b[0;32m/opt/miniconda3/envs/stellar/lib/python3.7/site-packages/pycaret/classification.py\u001b[0m in \u001b[0;36mplot_model\u001b[0;34m(estimator, plot, scale, save, fold, fit_kwargs, groups, use_train_data, verbose, display_format)\u001b[0m\n\u001b[1;32m   1549\u001b[0m         \u001b[0muse_train_data\u001b[0m\u001b[0;34m=\u001b[0m\u001b[0muse_train_data\u001b[0m\u001b[0;34m,\u001b[0m\u001b[0;34m\u001b[0m\u001b[0;34m\u001b[0m\u001b[0m\n\u001b[1;32m   1550\u001b[0m         \u001b[0msystem\u001b[0m\u001b[0;34m=\u001b[0m\u001b[0;32mTrue\u001b[0m\u001b[0;34m,\u001b[0m\u001b[0;34m\u001b[0m\u001b[0;34m\u001b[0m\u001b[0m\n\u001b[0;32m-> 1551\u001b[0;31m         \u001b[0mdisplay_format\u001b[0m\u001b[0;34m=\u001b[0m\u001b[0mdisplay_format\u001b[0m\u001b[0;34m,\u001b[0m\u001b[0;34m\u001b[0m\u001b[0;34m\u001b[0m\u001b[0m\n\u001b[0m\u001b[1;32m   1552\u001b[0m     )\n\u001b[1;32m   1553\u001b[0m \u001b[0;34m\u001b[0m\u001b[0m\n",
      "\u001b[0;32m/opt/miniconda3/envs/stellar/lib/python3.7/site-packages/pycaret/internal/tabular.py\u001b[0m in \u001b[0;36mplot_model\u001b[0;34m(estimator, plot, scale, save, fold, fit_kwargs, groups, feature_name, label, use_train_data, verbose, system, display, display_format, is_in_evaluate)\u001b[0m\n\u001b[1;32m   7252\u001b[0m \u001b[0;34m\u001b[0m\u001b[0m\n\u001b[1;32m   7253\u001b[0m         \u001b[0;31m# execute the plot method\u001b[0m\u001b[0;34m\u001b[0m\u001b[0;34m\u001b[0m\u001b[0;34m\u001b[0m\u001b[0m\n\u001b[0;32m-> 7254\u001b[0;31m         \u001b[0mret\u001b[0m \u001b[0;34m=\u001b[0m \u001b[0mlocals\u001b[0m\u001b[0;34m(\u001b[0m\u001b[0;34m)\u001b[0m\u001b[0;34m[\u001b[0m\u001b[0mplot\u001b[0m\u001b[0;34m]\u001b[0m\u001b[0;34m(\u001b[0m\u001b[0;34m)\u001b[0m\u001b[0;34m\u001b[0m\u001b[0;34m\u001b[0m\u001b[0m\n\u001b[0m\u001b[1;32m   7255\u001b[0m         \u001b[0;32mif\u001b[0m \u001b[0mret\u001b[0m\u001b[0;34m:\u001b[0m\u001b[0;34m\u001b[0m\u001b[0;34m\u001b[0m\u001b[0m\n\u001b[1;32m   7256\u001b[0m             \u001b[0mplot_filename\u001b[0m \u001b[0;34m=\u001b[0m \u001b[0mret\u001b[0m\u001b[0;34m\u001b[0m\u001b[0;34m\u001b[0m\u001b[0m\n",
      "\u001b[0;32m/opt/miniconda3/envs/stellar/lib/python3.7/site-packages/pycaret/internal/tabular.py\u001b[0m in \u001b[0;36mfeature\u001b[0;34m()\u001b[0m\n\u001b[1;32m   7164\u001b[0m \u001b[0;34m\u001b[0m\u001b[0m\n\u001b[1;32m   7165\u001b[0m         \u001b[0;32mdef\u001b[0m \u001b[0mfeature\u001b[0m\u001b[0;34m(\u001b[0m\u001b[0;34m)\u001b[0m\u001b[0;34m:\u001b[0m\u001b[0;34m\u001b[0m\u001b[0;34m\u001b[0m\u001b[0m\n\u001b[0;32m-> 7166\u001b[0;31m             \u001b[0m_feature\u001b[0m\u001b[0;34m(\u001b[0m\u001b[0;36m10\u001b[0m\u001b[0;34m)\u001b[0m\u001b[0;34m\u001b[0m\u001b[0;34m\u001b[0m\u001b[0m\n\u001b[0m\u001b[1;32m   7167\u001b[0m \u001b[0;34m\u001b[0m\u001b[0m\n\u001b[1;32m   7168\u001b[0m         \u001b[0;32mdef\u001b[0m \u001b[0mfeature_all\u001b[0m\u001b[0;34m(\u001b[0m\u001b[0;34m)\u001b[0m\u001b[0;34m:\u001b[0m\u001b[0;34m\u001b[0m\u001b[0;34m\u001b[0m\u001b[0m\n",
      "\u001b[0;32m/opt/miniconda3/envs/stellar/lib/python3.7/site-packages/pycaret/internal/tabular.py\u001b[0m in \u001b[0;36m_feature\u001b[0;34m(n)\u001b[0m\n\u001b[1;32m   7185\u001b[0m                 \u001b[0mlogger\u001b[0m\u001b[0;34m.\u001b[0m\u001b[0mwarning\u001b[0m\u001b[0;34m(\u001b[0m\u001b[0;34m\"No coef_ found. Trying feature_importances_\"\u001b[0m\u001b[0;34m)\u001b[0m\u001b[0;34m\u001b[0m\u001b[0;34m\u001b[0m\u001b[0m\n\u001b[1;32m   7186\u001b[0m                 \u001b[0mvariables\u001b[0m \u001b[0;34m=\u001b[0m \u001b[0mabs\u001b[0m\u001b[0;34m(\u001b[0m\u001b[0mtemp_model\u001b[0m\u001b[0;34m.\u001b[0m\u001b[0mfeature_importances_\u001b[0m\u001b[0;34m)\u001b[0m\u001b[0;34m\u001b[0m\u001b[0;34m\u001b[0m\u001b[0m\n\u001b[0;32m-> 7187\u001b[0;31m             \u001b[0mcoef_df\u001b[0m \u001b[0;34m=\u001b[0m \u001b[0mpd\u001b[0m\u001b[0;34m.\u001b[0m\u001b[0mDataFrame\u001b[0m\u001b[0;34m(\u001b[0m\u001b[0;34m{\u001b[0m\u001b[0;34m\"Variable\"\u001b[0m\u001b[0;34m:\u001b[0m \u001b[0mdata_X\u001b[0m\u001b[0;34m.\u001b[0m\u001b[0mcolumns\u001b[0m\u001b[0;34m,\u001b[0m \u001b[0;34m\"Value\"\u001b[0m\u001b[0;34m:\u001b[0m \u001b[0mvariables\u001b[0m\u001b[0;34m}\u001b[0m\u001b[0;34m)\u001b[0m\u001b[0;34m\u001b[0m\u001b[0;34m\u001b[0m\u001b[0m\n\u001b[0m\u001b[1;32m   7188\u001b[0m             sorted_df = (\n\u001b[1;32m   7189\u001b[0m                 \u001b[0mcoef_df\u001b[0m\u001b[0;34m.\u001b[0m\u001b[0msort_values\u001b[0m\u001b[0;34m(\u001b[0m\u001b[0mby\u001b[0m\u001b[0;34m=\u001b[0m\u001b[0;34m\"Value\"\u001b[0m\u001b[0;34m,\u001b[0m \u001b[0mascending\u001b[0m\u001b[0;34m=\u001b[0m\u001b[0;32mFalse\u001b[0m\u001b[0;34m)\u001b[0m\u001b[0;34m\u001b[0m\u001b[0;34m\u001b[0m\u001b[0m\n",
      "\u001b[0;32m/opt/miniconda3/envs/stellar/lib/python3.7/site-packages/pandas/core/frame.py\u001b[0m in \u001b[0;36m__init__\u001b[0;34m(self, data, index, columns, dtype, copy)\u001b[0m\n\u001b[1;32m    527\u001b[0m \u001b[0;34m\u001b[0m\u001b[0m\n\u001b[1;32m    528\u001b[0m         \u001b[0;32melif\u001b[0m \u001b[0misinstance\u001b[0m\u001b[0;34m(\u001b[0m\u001b[0mdata\u001b[0m\u001b[0;34m,\u001b[0m \u001b[0mdict\u001b[0m\u001b[0;34m)\u001b[0m\u001b[0;34m:\u001b[0m\u001b[0;34m\u001b[0m\u001b[0;34m\u001b[0m\u001b[0m\n\u001b[0;32m--> 529\u001b[0;31m             \u001b[0mmgr\u001b[0m \u001b[0;34m=\u001b[0m \u001b[0minit_dict\u001b[0m\u001b[0;34m(\u001b[0m\u001b[0mdata\u001b[0m\u001b[0;34m,\u001b[0m \u001b[0mindex\u001b[0m\u001b[0;34m,\u001b[0m \u001b[0mcolumns\u001b[0m\u001b[0;34m,\u001b[0m \u001b[0mdtype\u001b[0m\u001b[0;34m=\u001b[0m\u001b[0mdtype\u001b[0m\u001b[0;34m)\u001b[0m\u001b[0;34m\u001b[0m\u001b[0;34m\u001b[0m\u001b[0m\n\u001b[0m\u001b[1;32m    530\u001b[0m         \u001b[0;32melif\u001b[0m \u001b[0misinstance\u001b[0m\u001b[0;34m(\u001b[0m\u001b[0mdata\u001b[0m\u001b[0;34m,\u001b[0m \u001b[0mma\u001b[0m\u001b[0;34m.\u001b[0m\u001b[0mMaskedArray\u001b[0m\u001b[0;34m)\u001b[0m\u001b[0;34m:\u001b[0m\u001b[0;34m\u001b[0m\u001b[0;34m\u001b[0m\u001b[0m\n\u001b[1;32m    531\u001b[0m             \u001b[0;32mimport\u001b[0m \u001b[0mnumpy\u001b[0m\u001b[0;34m.\u001b[0m\u001b[0mma\u001b[0m\u001b[0;34m.\u001b[0m\u001b[0mmrecords\u001b[0m \u001b[0;32mas\u001b[0m \u001b[0mmrecords\u001b[0m\u001b[0;34m\u001b[0m\u001b[0;34m\u001b[0m\u001b[0m\n",
      "\u001b[0;32m/opt/miniconda3/envs/stellar/lib/python3.7/site-packages/pandas/core/internals/construction.py\u001b[0m in \u001b[0;36minit_dict\u001b[0;34m(data, index, columns, dtype)\u001b[0m\n\u001b[1;32m    285\u001b[0m             \u001b[0marr\u001b[0m \u001b[0;32mif\u001b[0m \u001b[0;32mnot\u001b[0m \u001b[0mis_datetime64tz_dtype\u001b[0m\u001b[0;34m(\u001b[0m\u001b[0marr\u001b[0m\u001b[0;34m)\u001b[0m \u001b[0;32melse\u001b[0m \u001b[0marr\u001b[0m\u001b[0;34m.\u001b[0m\u001b[0mcopy\u001b[0m\u001b[0;34m(\u001b[0m\u001b[0;34m)\u001b[0m \u001b[0;32mfor\u001b[0m \u001b[0marr\u001b[0m \u001b[0;32min\u001b[0m \u001b[0marrays\u001b[0m\u001b[0;34m\u001b[0m\u001b[0;34m\u001b[0m\u001b[0m\n\u001b[1;32m    286\u001b[0m         ]\n\u001b[0;32m--> 287\u001b[0;31m     \u001b[0;32mreturn\u001b[0m \u001b[0marrays_to_mgr\u001b[0m\u001b[0;34m(\u001b[0m\u001b[0marrays\u001b[0m\u001b[0;34m,\u001b[0m \u001b[0mdata_names\u001b[0m\u001b[0;34m,\u001b[0m \u001b[0mindex\u001b[0m\u001b[0;34m,\u001b[0m \u001b[0mcolumns\u001b[0m\u001b[0;34m,\u001b[0m \u001b[0mdtype\u001b[0m\u001b[0;34m=\u001b[0m\u001b[0mdtype\u001b[0m\u001b[0;34m)\u001b[0m\u001b[0;34m\u001b[0m\u001b[0;34m\u001b[0m\u001b[0m\n\u001b[0m\u001b[1;32m    288\u001b[0m \u001b[0;34m\u001b[0m\u001b[0m\n\u001b[1;32m    289\u001b[0m \u001b[0;34m\u001b[0m\u001b[0m\n",
      "\u001b[0;32m/opt/miniconda3/envs/stellar/lib/python3.7/site-packages/pandas/core/internals/construction.py\u001b[0m in \u001b[0;36marrays_to_mgr\u001b[0;34m(arrays, arr_names, index, columns, dtype, verify_integrity)\u001b[0m\n\u001b[1;32m     83\u001b[0m \u001b[0;34m\u001b[0m\u001b[0m\n\u001b[1;32m     84\u001b[0m         \u001b[0;31m# don't force copy because getting jammed in an ndarray anyway\u001b[0m\u001b[0;34m\u001b[0m\u001b[0;34m\u001b[0m\u001b[0;34m\u001b[0m\u001b[0m\n\u001b[0;32m---> 85\u001b[0;31m         \u001b[0marrays\u001b[0m \u001b[0;34m=\u001b[0m \u001b[0m_homogenize\u001b[0m\u001b[0;34m(\u001b[0m\u001b[0marrays\u001b[0m\u001b[0;34m,\u001b[0m \u001b[0mindex\u001b[0m\u001b[0;34m,\u001b[0m \u001b[0mdtype\u001b[0m\u001b[0;34m)\u001b[0m\u001b[0;34m\u001b[0m\u001b[0;34m\u001b[0m\u001b[0m\n\u001b[0m\u001b[1;32m     86\u001b[0m \u001b[0;34m\u001b[0m\u001b[0m\n\u001b[1;32m     87\u001b[0m         \u001b[0mcolumns\u001b[0m \u001b[0;34m=\u001b[0m \u001b[0mensure_index\u001b[0m\u001b[0;34m(\u001b[0m\u001b[0mcolumns\u001b[0m\u001b[0;34m)\u001b[0m\u001b[0;34m\u001b[0m\u001b[0;34m\u001b[0m\u001b[0m\n",
      "\u001b[0;32m/opt/miniconda3/envs/stellar/lib/python3.7/site-packages/pandas/core/internals/construction.py\u001b[0m in \u001b[0;36m_homogenize\u001b[0;34m(data, index, dtype)\u001b[0m\n\u001b[1;32m    354\u001b[0m                 \u001b[0mval\u001b[0m \u001b[0;34m=\u001b[0m \u001b[0mlib\u001b[0m\u001b[0;34m.\u001b[0m\u001b[0mfast_multiget\u001b[0m\u001b[0;34m(\u001b[0m\u001b[0mval\u001b[0m\u001b[0;34m,\u001b[0m \u001b[0moindex\u001b[0m\u001b[0;34m.\u001b[0m\u001b[0m_values\u001b[0m\u001b[0;34m,\u001b[0m \u001b[0mdefault\u001b[0m\u001b[0;34m=\u001b[0m\u001b[0mnp\u001b[0m\u001b[0;34m.\u001b[0m\u001b[0mnan\u001b[0m\u001b[0;34m)\u001b[0m\u001b[0;34m\u001b[0m\u001b[0;34m\u001b[0m\u001b[0m\n\u001b[1;32m    355\u001b[0m             val = sanitize_array(\n\u001b[0;32m--> 356\u001b[0;31m                 \u001b[0mval\u001b[0m\u001b[0;34m,\u001b[0m \u001b[0mindex\u001b[0m\u001b[0;34m,\u001b[0m \u001b[0mdtype\u001b[0m\u001b[0;34m=\u001b[0m\u001b[0mdtype\u001b[0m\u001b[0;34m,\u001b[0m \u001b[0mcopy\u001b[0m\u001b[0;34m=\u001b[0m\u001b[0;32mFalse\u001b[0m\u001b[0;34m,\u001b[0m \u001b[0mraise_cast_failure\u001b[0m\u001b[0;34m=\u001b[0m\u001b[0;32mFalse\u001b[0m\u001b[0;34m\u001b[0m\u001b[0;34m\u001b[0m\u001b[0m\n\u001b[0m\u001b[1;32m    357\u001b[0m             )\n\u001b[1;32m    358\u001b[0m \u001b[0;34m\u001b[0m\u001b[0m\n",
      "\u001b[0;32m/opt/miniconda3/envs/stellar/lib/python3.7/site-packages/pandas/core/construction.py\u001b[0m in \u001b[0;36msanitize_array\u001b[0;34m(data, index, dtype, copy, raise_cast_failure)\u001b[0m\n\u001b[1;32m    527\u001b[0m     \u001b[0;32melif\u001b[0m \u001b[0msubarr\u001b[0m\u001b[0;34m.\u001b[0m\u001b[0mndim\u001b[0m \u001b[0;34m>\u001b[0m \u001b[0;36m1\u001b[0m\u001b[0;34m:\u001b[0m\u001b[0;34m\u001b[0m\u001b[0;34m\u001b[0m\u001b[0m\n\u001b[1;32m    528\u001b[0m         \u001b[0;32mif\u001b[0m \u001b[0misinstance\u001b[0m\u001b[0;34m(\u001b[0m\u001b[0mdata\u001b[0m\u001b[0;34m,\u001b[0m \u001b[0mnp\u001b[0m\u001b[0;34m.\u001b[0m\u001b[0mndarray\u001b[0m\u001b[0;34m)\u001b[0m\u001b[0;34m:\u001b[0m\u001b[0;34m\u001b[0m\u001b[0;34m\u001b[0m\u001b[0m\n\u001b[0;32m--> 529\u001b[0;31m             \u001b[0;32mraise\u001b[0m \u001b[0mValueError\u001b[0m\u001b[0;34m(\u001b[0m\u001b[0;34m\"Data must be 1-dimensional\"\u001b[0m\u001b[0;34m)\u001b[0m\u001b[0;34m\u001b[0m\u001b[0;34m\u001b[0m\u001b[0m\n\u001b[0m\u001b[1;32m    530\u001b[0m         \u001b[0;32melse\u001b[0m\u001b[0;34m:\u001b[0m\u001b[0;34m\u001b[0m\u001b[0;34m\u001b[0m\u001b[0m\n\u001b[1;32m    531\u001b[0m             \u001b[0msubarr\u001b[0m \u001b[0;34m=\u001b[0m \u001b[0mcom\u001b[0m\u001b[0;34m.\u001b[0m\u001b[0masarray_tuplesafe\u001b[0m\u001b[0;34m(\u001b[0m\u001b[0mdata\u001b[0m\u001b[0;34m,\u001b[0m \u001b[0mdtype\u001b[0m\u001b[0;34m=\u001b[0m\u001b[0mdtype\u001b[0m\u001b[0;34m)\u001b[0m\u001b[0;34m\u001b[0m\u001b[0;34m\u001b[0m\u001b[0m\n",
      "\u001b[0;31mValueError\u001b[0m: Data must be 1-dimensional"
     ]
    }
   ],
   "source": [
    "plot_model(best_model, plot='feature')\n"
   ]
  },
  {
   "cell_type": "markdown",
   "id": "f403c988",
   "metadata": {},
   "source": [
    "## Results"
   ]
  },
  {
   "cell_type": "markdown",
   "id": "22e76df0",
   "metadata": {},
   "source": [
    "## Observations\n",
    "Here you can document some ideas on the results from above"
   ]
  },
  {
   "cell_type": "markdown",
   "id": "abda0dfd",
   "metadata": {},
   "source": [
    "## Conclusions\n",
    "Here you can talk about next steps, did the experiment work? If yes, what to do next? If no, why?"
   ]
  }
 ],
 "metadata": {
  "kernelspec": {
   "display_name": "Python 3 (ipykernel)",
   "language": "python",
   "name": "python3"
  },
  "language_info": {
   "codemirror_mode": {
    "name": "ipython",
    "version": 3
   },
   "file_extension": ".py",
   "mimetype": "text/x-python",
   "name": "python",
   "nbconvert_exporter": "python",
   "pygments_lexer": "ipython3",
   "version": "3.7.10"
  }
 },
 "nbformat": 4,
 "nbformat_minor": 5
}
