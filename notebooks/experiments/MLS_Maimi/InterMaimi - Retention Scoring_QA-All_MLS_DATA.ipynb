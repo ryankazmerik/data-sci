{
 "cells": [
  {
   "cell_type": "markdown",
   "id": "6ee08766-25fd-4da1-91b8-b0c3e74db588",
   "metadata": {},
   "source": [
    "# Inter-Maimi - PROD Retention Score - Trained with all MLS data\n",
    "* StelllarAlgo Data Science\n",
    "* Ryan Kazmerik & Nakisa Rad\n",
    "* June 20, 2022"
   ]
  },
  {
   "cell_type": "markdown",
   "id": "39108c8d-2e9f-4759-ade2-83071038dc56",
   "metadata": {},
   "source": [
    "## Hypothesis\n"
   ]
  },
  {
   "cell_type": "markdown",
   "id": "28142011-1f32-4cc7-816b-a6dae6f70c8c",
   "metadata": {},
   "source": [
    "## Experiment\n",
    "This section details our experiment including querying data, data transformations, feature selection and modelling."
   ]
  },
  {
   "cell_type": "code",
   "execution_count": 1,
   "id": "4c533efd-600e-4bce-8203-faffbddfa700",
   "metadata": {},
   "outputs": [],
   "source": [
    "import getpass\n",
    "import pyodbc\n",
    "import pandas as pd\n",
    "import warnings\n",
    "import matplotlib.pyplot as plt\n",
    "\n",
    "from pycaret.classification import *\n",
    "\n",
    "warnings.filterwarnings('ignore')"
   ]
  },
  {
   "cell_type": "markdown",
   "id": "b64ae7d5-84af-4915-bd13-1dd9d17098a3",
   "metadata": {},
   "source": [
    "### Let's connect to MSSQL and run a stored proc to get our dataset:"
   ]
  },
  {
   "cell_type": "code",
   "execution_count": 2,
   "id": "ae561eb4-f419-4d46-b5e0-12fac9b10db8",
   "metadata": {},
   "outputs": [
    {
     "name": "stdin",
     "output_type": "stream",
     "text": [
      "Enter your password ····················\n"
     ]
    }
   ],
   "source": [
    "# connect to SQL Server.\n",
    "SERVER = '52.44.171.130' \n",
    "DATABASE = 'datascience' \n",
    "USERNAME = 'dsAdminWrite' \n",
    "PASSWORD = getpass.getpass(prompt='Enter your password')\n",
    "CNXN = pyodbc.connect('DRIVER={ODBC Driver 17 for SQL Server};SERVER='+SERVER+';DATABASE='+DATABASE+';UID='+USERNAME+';PWD='+ PASSWORD)"
   ]
  },
  {
   "cell_type": "code",
   "execution_count": 3,
   "id": "af1afe7d-a35b-494b-88f3-980fb0e3da30",
   "metadata": {},
   "outputs": [
    {
     "data": {
      "text/plain": [
       "(59791, 52)"
      ]
     },
     "execution_count": 3,
     "metadata": {},
     "output_type": "execute_result"
    }
   ],
   "source": [
    "cursor = CNXN.cursor()\n",
    "\n",
    "storedProc = (\n",
    "    f\"\"\"Exec [stlrMLS].[ds].[getRetentionScoringModelData_all_teams] \"\"\"\n",
    ")\n",
    "\n",
    "df = pd.read_sql(storedProc, CNXN)\n",
    "\n",
    "# apply some data transformations\n",
    "df[\"year\"] = pd.to_numeric(df[\"year\"])\n",
    "\n",
    "CNXN.commit()\n",
    "cursor.close()\n",
    "\n",
    "df.shape"
   ]
  },
  {
   "cell_type": "code",
   "execution_count": 4,
   "id": "11e97dcc-c69e-46c1-8dad-33f6291cb0c6",
   "metadata": {},
   "outputs": [
    {
     "name": "stdout",
     "output_type": "stream",
     "text": [
      "<class 'pandas.core.frame.DataFrame'>\n",
      "RangeIndex: 59791 entries, 0 to 59790\n",
      "Data columns (total 52 columns):\n",
      " #   Column                  Non-Null Count  Dtype  \n",
      "---  ------                  --------------  -----  \n",
      " 0   dimCustomerMasterId     59791 non-null  int64  \n",
      " 1   year                    59791 non-null  int64  \n",
      " 2   productGrouping         59791 non-null  object \n",
      " 3   totalSpent              59791 non-null  float64\n",
      " 4   recentDate              59791 non-null  object \n",
      " 5   attendancePercent       59779 non-null  float64\n",
      " 6   renewedBeforeDays       59770 non-null  float64\n",
      " 7   isBuyer                 59791 non-null  object \n",
      " 8   source_tenure           59770 non-null  float64\n",
      " 9   tenure                  59770 non-null  float64\n",
      " 10  distToVenue             59791 non-null  float64\n",
      " 11  totalGames              59791 non-null  int64  \n",
      " 12  recency                 59791 non-null  int64  \n",
      " 13  missed_games_1          59791 non-null  int64  \n",
      " 14  missed_games_2          59791 non-null  int64  \n",
      " 15  missed_games_over_2     59791 non-null  int64  \n",
      " 16  click_link              59791 non-null  int64  \n",
      " 17  fill_out_form           59791 non-null  int64  \n",
      " 18  open_email              59791 non-null  int64  \n",
      " 19  send_email              59791 non-null  int64  \n",
      " 20  unsubscribe_email       59791 non-null  int64  \n",
      " 21  openToSendRatio         59791 non-null  float64\n",
      " 22  clickToSendRatio        59791 non-null  float64\n",
      " 23  clickToOpenRatio        59791 non-null  float64\n",
      " 24  posting_records         59791 non-null  int64  \n",
      " 25  resale_records          59791 non-null  int64  \n",
      " 26  resale_atp              59791 non-null  float64\n",
      " 27  forward_records         59791 non-null  int64  \n",
      " 28  cancel_records          59791 non-null  int64  \n",
      " 29  email                   59791 non-null  int64  \n",
      " 30  inbound_email           59791 non-null  int64  \n",
      " 31  inbound_phonecall       59791 non-null  int64  \n",
      " 32  inperson_contact        59791 non-null  int64  \n",
      " 33  internal_note           59791 non-null  int64  \n",
      " 34  left_message            59791 non-null  int64  \n",
      " 35  outbound_email          59791 non-null  int64  \n",
      " 36  outbound_phonecall      59791 non-null  int64  \n",
      " 37  phonecall               59791 non-null  int64  \n",
      " 38  text                    59791 non-null  int64  \n",
      " 39  unknown                 59791 non-null  int64  \n",
      " 40  gender                  59791 non-null  object \n",
      " 41  childrenPresentInHH     59791 non-null  int64  \n",
      " 42  maritalStatus           59791 non-null  int64  \n",
      " 43  lengthOfResidenceInYrs  0 non-null      object \n",
      " 44  annualHHIncome          59791 non-null  object \n",
      " 45  education               59791 non-null  object \n",
      " 46  urbanicity              0 non-null      object \n",
      " 47  credits_after_refund    59791 non-null  float64\n",
      " 48  is_Lockdown             59791 non-null  int64  \n",
      " 49  NumberofGamesPerSeason  59791 non-null  int64  \n",
      " 50  CNTPostponedGames       0 non-null      object \n",
      " 51  isNextYear_Buyer        59791 non-null  int64  \n",
      "dtypes: float64(11), int64(32), object(9)\n",
      "memory usage: 23.7+ MB\n"
     ]
    }
   ],
   "source": [
    "df.info()"
   ]
  },
  {
   "cell_type": "markdown",
   "id": "ab40da92-72a7-49c1-9829-ed3805a39719",
   "metadata": {},
   "source": [
    "### We should specify the features used in our model:"
   ]
  },
  {
   "cell_type": "code",
   "execution_count": 5,
   "id": "788f1273-8b7a-46bd-a099-1a471feeacc5",
   "metadata": {},
   "outputs": [
    {
     "name": "stdout",
     "output_type": "stream",
     "text": [
      "Data for Modeling: (43283, 15)\n",
      "Unseen Data For Predictions: (7638, 15)\n",
      "\n"
     ]
    }
   ],
   "source": [
    "# choose the features for the stellar base retention model\n",
    "features = [\n",
    "            \"dimCustomerMasterId\",\n",
    "            \"year\",\n",
    "            \"productGrouping\", \n",
    "            \"totalSpent\", \n",
    "            \"recentDate\",\n",
    "            \"attendancePercent\", \n",
    "            \"renewedBeforeDays\",\n",
    "            \"source_tenure\",\n",
    "            \"tenure\",\n",
    "            \"distToVenue\",\n",
    "            \"recency\",\n",
    "            \"missed_games_1\",\n",
    "            \"missed_games_2\",\n",
    "            \"missed_games_over_2\",\n",
    "            \"isNextYear_Buyer\"\n",
    "]\n",
    "\n",
    "# copy your main dataframe\n",
    "df_dataset = df\n",
    "\n",
    "# choose the features & train year & test year\n",
    "df_dataset = df_dataset[features]\n",
    "df_dataset[\"year\"] = pd.to_numeric(df_dataset[\"year\"])\n",
    "df_dataset = df_dataset.loc[df_dataset[\"year\"] <= 2021]\n",
    "\n",
    "df_train = df_dataset.sample(frac=0.85, random_state=786)\n",
    "df_eval = df_dataset.drop(df_train.index)\n",
    "\n",
    "df_train.reset_index(drop=True, inplace=True)\n",
    "df_eval.reset_index(drop=True, inplace=True)\n",
    "\n",
    "# print out the number of records for training and eval\n",
    "print('Data for Modeling: ' + str(df_train.shape))\n",
    "print('Unseen Data For Predictions: ' + str(df_eval.shape), end=\"\\n\\n\")"
   ]
  },
  {
   "cell_type": "markdown",
   "id": "4f2da06d-9015-49fd-89b3-956c2ebf66e9",
   "metadata": {},
   "source": [
    "### Now we can model the data using a binary classification prediction for the isnextyear_buyer field to see how likely a customer is to re-purchase."
   ]
  },
  {
   "cell_type": "code",
   "execution_count": 6,
   "id": "23a69cdc-b3ec-48c8-9ce5-29f617779389",
   "metadata": {},
   "outputs": [],
   "source": [
    "setup(\n",
    "    data= df_train, \n",
    "    target=\"isNextYear_Buyer\", \n",
    "    train_size = 0.85,\n",
    "    data_split_shuffle=True,\n",
    "    ignore_features=[\"dimCustomerMasterId\",\"productGrouping\",\"year\"],\n",
    "    silent=True,\n",
    "    verbose=False,\n",
    "    numeric_features=[\n",
    "    \"totalSpent\", \n",
    "            \"attendancePercent\", \n",
    "            \"renewedBeforeDays\",\n",
    "            \"source_tenure\",\n",
    "            \"tenure\",\n",
    "            \"distToVenue\",\n",
    "            \"recency\",\n",
    "            \"missed_games_1\",\n",
    "            \"missed_games_2\",\n",
    "            \"missed_games_over_2\"\n",
    "    ]\n",
    ");"
   ]
  },
  {
   "cell_type": "code",
   "execution_count": 7,
   "id": "ef2db9d2-02c2-45c0-b6bb-5cad42c373ce",
   "metadata": {},
   "outputs": [
    {
     "data": {
      "text/html": [
       "<style type=\"text/css\">\n",
       "#T_b57d4 th {\n",
       "  text-align: left;\n",
       "}\n",
       "#T_b57d4_row0_col0, #T_b57d4_row0_col4, #T_b57d4_row1_col0, #T_b57d4_row1_col1, #T_b57d4_row1_col2, #T_b57d4_row1_col3, #T_b57d4_row1_col4, #T_b57d4_row1_col5, #T_b57d4_row1_col6, #T_b57d4_row1_col7, #T_b57d4_row2_col0, #T_b57d4_row2_col1, #T_b57d4_row2_col2, #T_b57d4_row2_col3, #T_b57d4_row2_col5, #T_b57d4_row2_col6, #T_b57d4_row2_col7, #T_b57d4_row3_col0, #T_b57d4_row3_col1, #T_b57d4_row3_col2, #T_b57d4_row3_col3, #T_b57d4_row3_col4, #T_b57d4_row3_col5, #T_b57d4_row3_col6, #T_b57d4_row3_col7 {\n",
       "  text-align: left;\n",
       "}\n",
       "#T_b57d4_row0_col1, #T_b57d4_row0_col2, #T_b57d4_row0_col3, #T_b57d4_row0_col5, #T_b57d4_row0_col6, #T_b57d4_row0_col7, #T_b57d4_row2_col4 {\n",
       "  text-align: left;\n",
       "  background-color: yellow;\n",
       "}\n",
       "#T_b57d4_row0_col8 {\n",
       "  text-align: left;\n",
       "  background-color: yellow;\n",
       "  background-color: lightgrey;\n",
       "}\n",
       "#T_b57d4_row1_col8, #T_b57d4_row2_col8, #T_b57d4_row3_col8 {\n",
       "  text-align: left;\n",
       "  background-color: lightgrey;\n",
       "}\n",
       "</style>\n",
       "<table id=\"T_b57d4\">\n",
       "  <thead>\n",
       "    <tr>\n",
       "      <th class=\"blank level0\" >&nbsp;</th>\n",
       "      <th id=\"T_b57d4_level0_col0\" class=\"col_heading level0 col0\" >Model</th>\n",
       "      <th id=\"T_b57d4_level0_col1\" class=\"col_heading level0 col1\" >Accuracy</th>\n",
       "      <th id=\"T_b57d4_level0_col2\" class=\"col_heading level0 col2\" >AUC</th>\n",
       "      <th id=\"T_b57d4_level0_col3\" class=\"col_heading level0 col3\" >Recall</th>\n",
       "      <th id=\"T_b57d4_level0_col4\" class=\"col_heading level0 col4\" >Prec.</th>\n",
       "      <th id=\"T_b57d4_level0_col5\" class=\"col_heading level0 col5\" >F1</th>\n",
       "      <th id=\"T_b57d4_level0_col6\" class=\"col_heading level0 col6\" >Kappa</th>\n",
       "      <th id=\"T_b57d4_level0_col7\" class=\"col_heading level0 col7\" >MCC</th>\n",
       "      <th id=\"T_b57d4_level0_col8\" class=\"col_heading level0 col8\" >TT (Sec)</th>\n",
       "    </tr>\n",
       "  </thead>\n",
       "  <tbody>\n",
       "    <tr>\n",
       "      <th id=\"T_b57d4_level0_row0\" class=\"row_heading level0 row0\" >lightgbm</th>\n",
       "      <td id=\"T_b57d4_row0_col0\" class=\"data row0 col0\" >Light Gradient Boosting Machine</td>\n",
       "      <td id=\"T_b57d4_row0_col1\" class=\"data row0 col1\" >0.7810</td>\n",
       "      <td id=\"T_b57d4_row0_col2\" class=\"data row0 col2\" >0.8251</td>\n",
       "      <td id=\"T_b57d4_row0_col3\" class=\"data row0 col3\" >0.9039</td>\n",
       "      <td id=\"T_b57d4_row0_col4\" class=\"data row0 col4\" >0.7841</td>\n",
       "      <td id=\"T_b57d4_row0_col5\" class=\"data row0 col5\" >0.8397</td>\n",
       "      <td id=\"T_b57d4_row0_col6\" class=\"data row0 col6\" >0.4994</td>\n",
       "      <td id=\"T_b57d4_row0_col7\" class=\"data row0 col7\" >0.5122</td>\n",
       "      <td id=\"T_b57d4_row0_col8\" class=\"data row0 col8\" >0.8420</td>\n",
       "    </tr>\n",
       "    <tr>\n",
       "      <th id=\"T_b57d4_level0_row1\" class=\"row_heading level0 row1\" >xgboost</th>\n",
       "      <td id=\"T_b57d4_row1_col0\" class=\"data row1 col0\" >Extreme Gradient Boosting</td>\n",
       "      <td id=\"T_b57d4_row1_col1\" class=\"data row1 col1\" >0.7784</td>\n",
       "      <td id=\"T_b57d4_row1_col2\" class=\"data row1 col2\" >0.8222</td>\n",
       "      <td id=\"T_b57d4_row1_col3\" class=\"data row1 col3\" >0.8930</td>\n",
       "      <td id=\"T_b57d4_row1_col4\" class=\"data row1 col4\" >0.7868</td>\n",
       "      <td id=\"T_b57d4_row1_col5\" class=\"data row1 col5\" >0.8365</td>\n",
       "      <td id=\"T_b57d4_row1_col6\" class=\"data row1 col6\" >0.4970</td>\n",
       "      <td id=\"T_b57d4_row1_col7\" class=\"data row1 col7\" >0.5067</td>\n",
       "      <td id=\"T_b57d4_row1_col8\" class=\"data row1 col8\" >1.9870</td>\n",
       "    </tr>\n",
       "    <tr>\n",
       "      <th id=\"T_b57d4_level0_row2\" class=\"row_heading level0 row2\" >rf</th>\n",
       "      <td id=\"T_b57d4_row2_col0\" class=\"data row2 col0\" >Random Forest Classifier</td>\n",
       "      <td id=\"T_b57d4_row2_col1\" class=\"data row2 col1\" >0.7723</td>\n",
       "      <td id=\"T_b57d4_row2_col2\" class=\"data row2 col2\" >0.8140</td>\n",
       "      <td id=\"T_b57d4_row2_col3\" class=\"data row2 col3\" >0.8754</td>\n",
       "      <td id=\"T_b57d4_row2_col4\" class=\"data row2 col4\" >0.7890</td>\n",
       "      <td id=\"T_b57d4_row2_col5\" class=\"data row2 col5\" >0.8300</td>\n",
       "      <td id=\"T_b57d4_row2_col6\" class=\"data row2 col6\" >0.4882</td>\n",
       "      <td id=\"T_b57d4_row2_col7\" class=\"data row2 col7\" >0.4944</td>\n",
       "      <td id=\"T_b57d4_row2_col8\" class=\"data row2 col8\" >0.9480</td>\n",
       "    </tr>\n",
       "    <tr>\n",
       "      <th id=\"T_b57d4_level0_row3\" class=\"row_heading level0 row3\" >lr</th>\n",
       "      <td id=\"T_b57d4_row3_col0\" class=\"data row3 col0\" >Logistic Regression</td>\n",
       "      <td id=\"T_b57d4_row3_col1\" class=\"data row3 col1\" >0.7342</td>\n",
       "      <td id=\"T_b57d4_row3_col2\" class=\"data row3 col2\" >0.7532</td>\n",
       "      <td id=\"T_b57d4_row3_col3\" class=\"data row3 col3\" >0.8951</td>\n",
       "      <td id=\"T_b57d4_row3_col4\" class=\"data row3 col4\" >0.7405</td>\n",
       "      <td id=\"T_b57d4_row3_col5\" class=\"data row3 col5\" >0.8104</td>\n",
       "      <td id=\"T_b57d4_row3_col6\" class=\"data row3 col6\" >0.3788</td>\n",
       "      <td id=\"T_b57d4_row3_col7\" class=\"data row3 col7\" >0.3986</td>\n",
       "      <td id=\"T_b57d4_row3_col8\" class=\"data row3 col8\" >1.1700</td>\n",
       "    </tr>\n",
       "  </tbody>\n",
       "</table>\n"
      ],
      "text/plain": [
       "<pandas.io.formats.style.Styler at 0x7fc9665457c0>"
      ]
     },
     "metadata": {},
     "output_type": "display_data"
    }
   ],
   "source": [
    "model_matrix = compare_models(\n",
    "    fold=10,\n",
    "    include=[\"lr\",\"rf\",\"xgboost\",\"lightgbm\"]\n",
    ")"
   ]
  },
  {
   "cell_type": "code",
   "execution_count": 8,
   "id": "d9f030ed-4b6a-4a87-a01e-129dc49e0d4a",
   "metadata": {},
   "outputs": [
    {
     "data": {
      "text/html": [
       "<style type=\"text/css\">\n",
       "#T_345bc_row10_col0, #T_345bc_row10_col1, #T_345bc_row10_col2, #T_345bc_row10_col3, #T_345bc_row10_col4, #T_345bc_row10_col5, #T_345bc_row10_col6 {\n",
       "  background: yellow;\n",
       "}\n",
       "</style>\n",
       "<table id=\"T_345bc\">\n",
       "  <thead>\n",
       "    <tr>\n",
       "      <th class=\"blank level0\" >&nbsp;</th>\n",
       "      <th id=\"T_345bc_level0_col0\" class=\"col_heading level0 col0\" >Accuracy</th>\n",
       "      <th id=\"T_345bc_level0_col1\" class=\"col_heading level0 col1\" >AUC</th>\n",
       "      <th id=\"T_345bc_level0_col2\" class=\"col_heading level0 col2\" >Recall</th>\n",
       "      <th id=\"T_345bc_level0_col3\" class=\"col_heading level0 col3\" >Prec.</th>\n",
       "      <th id=\"T_345bc_level0_col4\" class=\"col_heading level0 col4\" >F1</th>\n",
       "      <th id=\"T_345bc_level0_col5\" class=\"col_heading level0 col5\" >Kappa</th>\n",
       "      <th id=\"T_345bc_level0_col6\" class=\"col_heading level0 col6\" >MCC</th>\n",
       "    </tr>\n",
       "  </thead>\n",
       "  <tbody>\n",
       "    <tr>\n",
       "      <th id=\"T_345bc_level0_row0\" class=\"row_heading level0 row0\" >0</th>\n",
       "      <td id=\"T_345bc_row0_col0\" class=\"data row0 col0\" >0.7790</td>\n",
       "      <td id=\"T_345bc_row0_col1\" class=\"data row0 col1\" >0.8239</td>\n",
       "      <td id=\"T_345bc_row0_col2\" class=\"data row0 col2\" >0.9032</td>\n",
       "      <td id=\"T_345bc_row0_col3\" class=\"data row0 col3\" >0.7823</td>\n",
       "      <td id=\"T_345bc_row0_col4\" class=\"data row0 col4\" >0.8384</td>\n",
       "      <td id=\"T_345bc_row0_col5\" class=\"data row0 col5\" >0.4947</td>\n",
       "      <td id=\"T_345bc_row0_col6\" class=\"data row0 col6\" >0.5076</td>\n",
       "    </tr>\n",
       "    <tr>\n",
       "      <th id=\"T_345bc_level0_row1\" class=\"row_heading level0 row1\" >1</th>\n",
       "      <td id=\"T_345bc_row1_col0\" class=\"data row1 col0\" >0.7806</td>\n",
       "      <td id=\"T_345bc_row1_col1\" class=\"data row1 col1\" >0.8255</td>\n",
       "      <td id=\"T_345bc_row1_col2\" class=\"data row1 col2\" >0.9019</td>\n",
       "      <td id=\"T_345bc_row1_col3\" class=\"data row1 col3\" >0.7846</td>\n",
       "      <td id=\"T_345bc_row1_col4\" class=\"data row1 col4\" >0.8392</td>\n",
       "      <td id=\"T_345bc_row1_col5\" class=\"data row1 col5\" >0.4994</td>\n",
       "      <td id=\"T_345bc_row1_col6\" class=\"data row1 col6\" >0.5115</td>\n",
       "    </tr>\n",
       "    <tr>\n",
       "      <th id=\"T_345bc_level0_row2\" class=\"row_heading level0 row2\" >2</th>\n",
       "      <td id=\"T_345bc_row2_col0\" class=\"data row2 col0\" >0.7820</td>\n",
       "      <td id=\"T_345bc_row2_col1\" class=\"data row2 col1\" >0.8279</td>\n",
       "      <td id=\"T_345bc_row2_col2\" class=\"data row2 col2\" >0.9109</td>\n",
       "      <td id=\"T_345bc_row2_col3\" class=\"data row2 col3\" >0.7817</td>\n",
       "      <td id=\"T_345bc_row2_col4\" class=\"data row2 col4\" >0.8414</td>\n",
       "      <td id=\"T_345bc_row2_col5\" class=\"data row2 col5\" >0.4994</td>\n",
       "      <td id=\"T_345bc_row2_col6\" class=\"data row2 col6\" >0.5146</td>\n",
       "    </tr>\n",
       "    <tr>\n",
       "      <th id=\"T_345bc_level0_row3\" class=\"row_heading level0 row3\" >3</th>\n",
       "      <td id=\"T_345bc_row3_col0\" class=\"data row3 col0\" >0.7771</td>\n",
       "      <td id=\"T_345bc_row3_col1\" class=\"data row3 col1\" >0.8191</td>\n",
       "      <td id=\"T_345bc_row3_col2\" class=\"data row3 col2\" >0.9019</td>\n",
       "      <td id=\"T_345bc_row3_col3\" class=\"data row3 col3\" >0.7809</td>\n",
       "      <td id=\"T_345bc_row3_col4\" class=\"data row3 col4\" >0.8370</td>\n",
       "      <td id=\"T_345bc_row3_col5\" class=\"data row3 col5\" >0.4902</td>\n",
       "      <td id=\"T_345bc_row3_col6\" class=\"data row3 col6\" >0.5031</td>\n",
       "    </tr>\n",
       "    <tr>\n",
       "      <th id=\"T_345bc_level0_row4\" class=\"row_heading level0 row4\" >4</th>\n",
       "      <td id=\"T_345bc_row4_col0\" class=\"data row4 col0\" >0.7719</td>\n",
       "      <td id=\"T_345bc_row4_col1\" class=\"data row4 col1\" >0.8211</td>\n",
       "      <td id=\"T_345bc_row4_col2\" class=\"data row4 col2\" >0.8908</td>\n",
       "      <td id=\"T_345bc_row4_col3\" class=\"data row4 col3\" >0.7809</td>\n",
       "      <td id=\"T_345bc_row4_col4\" class=\"data row4 col4\" >0.8322</td>\n",
       "      <td id=\"T_345bc_row4_col5\" class=\"data row4 col5\" >0.4810</td>\n",
       "      <td id=\"T_345bc_row4_col6\" class=\"data row4 col6\" >0.4913</td>\n",
       "    </tr>\n",
       "    <tr>\n",
       "      <th id=\"T_345bc_level0_row5\" class=\"row_heading level0 row5\" >5</th>\n",
       "      <td id=\"T_345bc_row5_col0\" class=\"data row5 col0\" >0.7858</td>\n",
       "      <td id=\"T_345bc_row5_col1\" class=\"data row5 col1\" >0.8313</td>\n",
       "      <td id=\"T_345bc_row5_col2\" class=\"data row5 col2\" >0.9058</td>\n",
       "      <td id=\"T_345bc_row5_col3\" class=\"data row5 col3\" >0.7884</td>\n",
       "      <td id=\"T_345bc_row5_col4\" class=\"data row5 col4\" >0.8430</td>\n",
       "      <td id=\"T_345bc_row5_col5\" class=\"data row5 col5\" >0.5110</td>\n",
       "      <td id=\"T_345bc_row5_col6\" class=\"data row5 col6\" >0.5234</td>\n",
       "    </tr>\n",
       "    <tr>\n",
       "      <th id=\"T_345bc_level0_row6\" class=\"row_heading level0 row6\" >6</th>\n",
       "      <td id=\"T_345bc_row6_col0\" class=\"data row6 col0\" >0.7817</td>\n",
       "      <td id=\"T_345bc_row6_col1\" class=\"data row6 col1\" >0.8283</td>\n",
       "      <td id=\"T_345bc_row6_col2\" class=\"data row6 col2\" >0.9067</td>\n",
       "      <td id=\"T_345bc_row6_col3\" class=\"data row6 col3\" >0.7836</td>\n",
       "      <td id=\"T_345bc_row6_col4\" class=\"data row6 col4\" >0.8406</td>\n",
       "      <td id=\"T_345bc_row6_col5\" class=\"data row6 col5\" >0.5001</td>\n",
       "      <td id=\"T_345bc_row6_col6\" class=\"data row6 col6\" >0.5137</td>\n",
       "    </tr>\n",
       "    <tr>\n",
       "      <th id=\"T_345bc_level0_row7\" class=\"row_heading level0 row7\" >7</th>\n",
       "      <td id=\"T_345bc_row7_col0\" class=\"data row7 col0\" >0.7823</td>\n",
       "      <td id=\"T_345bc_row7_col1\" class=\"data row7 col1\" >0.8145</td>\n",
       "      <td id=\"T_345bc_row7_col2\" class=\"data row7 col2\" >0.9041</td>\n",
       "      <td id=\"T_345bc_row7_col3\" class=\"data row7 col3\" >0.7854</td>\n",
       "      <td id=\"T_345bc_row7_col4\" class=\"data row7 col4\" >0.8406</td>\n",
       "      <td id=\"T_345bc_row7_col5\" class=\"data row7 col5\" >0.5025</td>\n",
       "      <td id=\"T_345bc_row7_col6\" class=\"data row7 col6\" >0.5151</td>\n",
       "    </tr>\n",
       "    <tr>\n",
       "      <th id=\"T_345bc_level0_row8\" class=\"row_heading level0 row8\" >8</th>\n",
       "      <td id=\"T_345bc_row8_col0\" class=\"data row8 col0\" >0.7836</td>\n",
       "      <td id=\"T_345bc_row8_col1\" class=\"data row8 col1\" >0.8267</td>\n",
       "      <td id=\"T_345bc_row8_col2\" class=\"data row8 col2\" >0.9080</td>\n",
       "      <td id=\"T_345bc_row8_col3\" class=\"data row8 col3\" >0.7850</td>\n",
       "      <td id=\"T_345bc_row8_col4\" class=\"data row8 col4\" >0.8420</td>\n",
       "      <td id=\"T_345bc_row8_col5\" class=\"data row8 col5\" >0.5046</td>\n",
       "      <td id=\"T_345bc_row8_col6\" class=\"data row8 col6\" >0.5182</td>\n",
       "    </tr>\n",
       "    <tr>\n",
       "      <th id=\"T_345bc_level0_row9\" class=\"row_heading level0 row9\" >9</th>\n",
       "      <td id=\"T_345bc_row9_col0\" class=\"data row9 col0\" >0.7858</td>\n",
       "      <td id=\"T_345bc_row9_col1\" class=\"data row9 col1\" >0.8329</td>\n",
       "      <td id=\"T_345bc_row9_col2\" class=\"data row9 col2\" >0.9054</td>\n",
       "      <td id=\"T_345bc_row9_col3\" class=\"data row9 col3\" >0.7886</td>\n",
       "      <td id=\"T_345bc_row9_col4\" class=\"data row9 col4\" >0.8430</td>\n",
       "      <td id=\"T_345bc_row9_col5\" class=\"data row9 col5\" >0.5112</td>\n",
       "      <td id=\"T_345bc_row9_col6\" class=\"data row9 col6\" >0.5234</td>\n",
       "    </tr>\n",
       "    <tr>\n",
       "      <th id=\"T_345bc_level0_row10\" class=\"row_heading level0 row10\" >Mean</th>\n",
       "      <td id=\"T_345bc_row10_col0\" class=\"data row10 col0\" >0.7810</td>\n",
       "      <td id=\"T_345bc_row10_col1\" class=\"data row10 col1\" >0.8251</td>\n",
       "      <td id=\"T_345bc_row10_col2\" class=\"data row10 col2\" >0.9039</td>\n",
       "      <td id=\"T_345bc_row10_col3\" class=\"data row10 col3\" >0.7841</td>\n",
       "      <td id=\"T_345bc_row10_col4\" class=\"data row10 col4\" >0.8397</td>\n",
       "      <td id=\"T_345bc_row10_col5\" class=\"data row10 col5\" >0.4994</td>\n",
       "      <td id=\"T_345bc_row10_col6\" class=\"data row10 col6\" >0.5122</td>\n",
       "    </tr>\n",
       "    <tr>\n",
       "      <th id=\"T_345bc_level0_row11\" class=\"row_heading level0 row11\" >SD</th>\n",
       "      <td id=\"T_345bc_row11_col0\" class=\"data row11 col0\" >0.0040</td>\n",
       "      <td id=\"T_345bc_row11_col1\" class=\"data row11 col1\" >0.0053</td>\n",
       "      <td id=\"T_345bc_row11_col2\" class=\"data row11 col2\" >0.0051</td>\n",
       "      <td id=\"T_345bc_row11_col3\" class=\"data row11 col3\" >0.0027</td>\n",
       "      <td id=\"T_345bc_row11_col4\" class=\"data row11 col4\" >0.0031</td>\n",
       "      <td id=\"T_345bc_row11_col5\" class=\"data row11 col5\" >0.0087</td>\n",
       "      <td id=\"T_345bc_row11_col6\" class=\"data row11 col6\" >0.0092</td>\n",
       "    </tr>\n",
       "  </tbody>\n",
       "</table>\n"
      ],
      "text/plain": [
       "<pandas.io.formats.style.Styler at 0x7fc948d20880>"
      ]
     },
     "metadata": {},
     "output_type": "display_data"
    }
   ],
   "source": [
    "best_model = create_model(model_matrix)\n",
    "final_model = finalize_model(best_model)"
   ]
  },
  {
   "cell_type": "markdown",
   "id": "3aab9021-4462-423a-8e3c-fbe1f36c6110",
   "metadata": {},
   "source": [
    "### Let's load in our 2021 season data and get retention scores using the model:"
   ]
  },
  {
   "cell_type": "code",
   "execution_count": 9,
   "id": "61c509ed-d20b-40aa-9772-768edf0dc719",
   "metadata": {},
   "outputs": [
    {
     "data": {
      "text/plain": [
       "(6909, 15)"
      ]
     },
     "execution_count": 9,
     "metadata": {},
     "output_type": "execute_result"
    }
   ],
   "source": [
    "cursor = CNXN.cursor()\n",
    "\n",
    "storedProc_scoring = (\n",
    "    f\"\"\"Exec [stlrMLS].[ds].[getRetentionScoringModelData_staging2] \"\"\"\n",
    ")\n",
    "\n",
    "df_scoring = pd.read_sql(storedProc_scoring, CNXN)\n",
    "\n",
    "# apply some data transformations\n",
    "df_scoring[\"year\"] = pd.to_numeric(df_scoring[\"year\"])\n",
    "\n",
    "CNXN.commit()\n",
    "cursor.close()\n",
    "\n",
    "df_scoring.shape"
   ]
  },
  {
   "cell_type": "code",
   "execution_count": 10,
   "id": "c249a813-c882-4869-9490-6ab766a8c223",
   "metadata": {},
   "outputs": [
    {
     "data": {
      "text/plain": [
       "(2679, 15)"
      ]
     },
     "execution_count": 10,
     "metadata": {},
     "output_type": "execute_result"
    }
   ],
   "source": [
    "df_inference = df_scoring.loc[df_scoring[\"year\"] >= 2022]\n",
    "df_inference = df_inference.fillna(0)\n",
    "df_inference.shape"
   ]
  },
  {
   "cell_type": "code",
   "execution_count": 11,
   "id": "745b62fb-fb2e-4b4a-9c48-8ce4de472a83",
   "metadata": {},
   "outputs": [
    {
     "data": {
      "text/html": [
       "<div>\n",
       "<style scoped>\n",
       "    .dataframe tbody tr th:only-of-type {\n",
       "        vertical-align: middle;\n",
       "    }\n",
       "\n",
       "    .dataframe tbody tr th {\n",
       "        vertical-align: top;\n",
       "    }\n",
       "\n",
       "    .dataframe thead th {\n",
       "        text-align: right;\n",
       "    }\n",
       "</style>\n",
       "<table border=\"1\" class=\"dataframe\">\n",
       "  <thead>\n",
       "    <tr style=\"text-align: right;\">\n",
       "      <th></th>\n",
       "      <th>dimCustomerMasterId</th>\n",
       "      <th>year</th>\n",
       "      <th>productGrouping</th>\n",
       "      <th>totalSpent</th>\n",
       "      <th>recentDate</th>\n",
       "      <th>attendancePercent</th>\n",
       "      <th>renewedBeforeDays</th>\n",
       "      <th>source_tenure</th>\n",
       "      <th>tenure</th>\n",
       "      <th>distToVenue</th>\n",
       "      <th>recency</th>\n",
       "      <th>missed_games_1</th>\n",
       "      <th>missed_games_2</th>\n",
       "      <th>missed_games_over_2</th>\n",
       "      <th>isNextYear_Buyer</th>\n",
       "      <th>Label</th>\n",
       "      <th>Score_0</th>\n",
       "      <th>Score_1</th>\n",
       "    </tr>\n",
       "  </thead>\n",
       "  <tbody>\n",
       "    <tr>\n",
       "      <th>0</th>\n",
       "      <td>42</td>\n",
       "      <td>2022</td>\n",
       "      <td>Flex Plan</td>\n",
       "      <td>312.0</td>\n",
       "      <td>1970-01-01</td>\n",
       "      <td>0.00</td>\n",
       "      <td>10</td>\n",
       "      <td>730</td>\n",
       "      <td>150</td>\n",
       "      <td>38.20</td>\n",
       "      <td>0</td>\n",
       "      <td>0</td>\n",
       "      <td>0</td>\n",
       "      <td>0</td>\n",
       "      <td>0</td>\n",
       "      <td>0</td>\n",
       "      <td>0.7325</td>\n",
       "      <td>0.2675</td>\n",
       "    </tr>\n",
       "    <tr>\n",
       "      <th>2</th>\n",
       "      <td>96</td>\n",
       "      <td>2022</td>\n",
       "      <td>Full Season</td>\n",
       "      <td>12257.0</td>\n",
       "      <td>2022-05-28</td>\n",
       "      <td>0.57</td>\n",
       "      <td>162</td>\n",
       "      <td>730</td>\n",
       "      <td>949</td>\n",
       "      <td>48.37</td>\n",
       "      <td>0</td>\n",
       "      <td>0</td>\n",
       "      <td>0</td>\n",
       "      <td>1</td>\n",
       "      <td>0</td>\n",
       "      <td>0</td>\n",
       "      <td>0.7753</td>\n",
       "      <td>0.2247</td>\n",
       "    </tr>\n",
       "    <tr>\n",
       "      <th>5</th>\n",
       "      <td>107</td>\n",
       "      <td>2022</td>\n",
       "      <td>Full Season</td>\n",
       "      <td>875.5</td>\n",
       "      <td>2022-05-14</td>\n",
       "      <td>0.43</td>\n",
       "      <td>159</td>\n",
       "      <td>730</td>\n",
       "      <td>950</td>\n",
       "      <td>57.52</td>\n",
       "      <td>1</td>\n",
       "      <td>2</td>\n",
       "      <td>1</td>\n",
       "      <td>0</td>\n",
       "      <td>0</td>\n",
       "      <td>0</td>\n",
       "      <td>0.8737</td>\n",
       "      <td>0.1263</td>\n",
       "    </tr>\n",
       "    <tr>\n",
       "      <th>7</th>\n",
       "      <td>138</td>\n",
       "      <td>2022</td>\n",
       "      <td>Full Season</td>\n",
       "      <td>850.0</td>\n",
       "      <td>2022-05-28</td>\n",
       "      <td>0.86</td>\n",
       "      <td>33</td>\n",
       "      <td>1095</td>\n",
       "      <td>1095</td>\n",
       "      <td>17.84</td>\n",
       "      <td>0</td>\n",
       "      <td>2</td>\n",
       "      <td>0</td>\n",
       "      <td>0</td>\n",
       "      <td>0</td>\n",
       "      <td>0</td>\n",
       "      <td>0.9038</td>\n",
       "      <td>0.0962</td>\n",
       "    </tr>\n",
       "    <tr>\n",
       "      <th>9</th>\n",
       "      <td>152</td>\n",
       "      <td>2022</td>\n",
       "      <td>Full Season</td>\n",
       "      <td>595.0</td>\n",
       "      <td>2022-05-28</td>\n",
       "      <td>1.00</td>\n",
       "      <td>101</td>\n",
       "      <td>730</td>\n",
       "      <td>1073</td>\n",
       "      <td>52.21</td>\n",
       "      <td>0</td>\n",
       "      <td>1</td>\n",
       "      <td>0</td>\n",
       "      <td>0</td>\n",
       "      <td>0</td>\n",
       "      <td>0</td>\n",
       "      <td>0.8817</td>\n",
       "      <td>0.1183</td>\n",
       "    </tr>\n",
       "  </tbody>\n",
       "</table>\n",
       "</div>"
      ],
      "text/plain": [
       "   dimCustomerMasterId  year productGrouping  totalSpent  recentDate  \\\n",
       "0                   42  2022       Flex Plan       312.0  1970-01-01   \n",
       "2                   96  2022     Full Season     12257.0  2022-05-28   \n",
       "5                  107  2022     Full Season       875.5  2022-05-14   \n",
       "7                  138  2022     Full Season       850.0  2022-05-28   \n",
       "9                  152  2022     Full Season       595.0  2022-05-28   \n",
       "\n",
       "   attendancePercent  renewedBeforeDays  source_tenure  tenure  distToVenue  \\\n",
       "0               0.00                 10            730     150        38.20   \n",
       "2               0.57                162            730     949        48.37   \n",
       "5               0.43                159            730     950        57.52   \n",
       "7               0.86                 33           1095    1095        17.84   \n",
       "9               1.00                101            730    1073        52.21   \n",
       "\n",
       "   recency  missed_games_1  missed_games_2  missed_games_over_2  \\\n",
       "0        0               0               0                    0   \n",
       "2        0               0               0                    1   \n",
       "5        1               2               1                    0   \n",
       "7        0               2               0                    0   \n",
       "9        0               1               0                    0   \n",
       "\n",
       "   isNextYear_Buyer  Label  Score_0  Score_1  \n",
       "0                 0      0   0.7325   0.2675  \n",
       "2                 0      0   0.7753   0.2247  \n",
       "5                 0      0   0.8737   0.1263  \n",
       "7                 0      0   0.9038   0.0962  \n",
       "9                 0      0   0.8817   0.1183  "
      ]
     },
     "execution_count": 11,
     "metadata": {},
     "output_type": "execute_result"
    }
   ],
   "source": [
    "new_predictions = predict_model(final_model, data=df_inference, raw_score=True)\n",
    "new_predictions.head()"
   ]
  },
  {
   "cell_type": "code",
   "execution_count": 12,
   "id": "c98d3de4-966c-4d4a-af8f-e4a2d78eed38",
   "metadata": {},
   "outputs": [
    {
     "data": {
      "text/plain": [
       "0    2363\n",
       "1     316\n",
       "Name: Label, dtype: int64"
      ]
     },
     "execution_count": 12,
     "metadata": {},
     "output_type": "execute_result"
    }
   ],
   "source": [
    "new_predictions[\"Label\"].value_counts()"
   ]
  },
  {
   "cell_type": "code",
   "execution_count": 13,
   "id": "95e96920-bc9c-4b50-837c-89e392d13449",
   "metadata": {},
   "outputs": [
    {
     "data": {
      "text/plain": [
       "(-0.001, 0.2]    1837\n",
       "(0.2, 0.4]        401\n",
       "(0.4, 0.6]        268\n",
       "(0.6, 0.8]        170\n",
       "(0.8, 1.0]          3\n",
       "Name: Score_1, dtype: int64"
      ]
     },
     "execution_count": 13,
     "metadata": {},
     "output_type": "execute_result"
    }
   ],
   "source": [
    "new_predictions[\"Score_1\"].value_counts(bins=[0, 0.2, 0.4, 0.6, 0.8, 1.0])"
   ]
  },
  {
   "cell_type": "code",
   "execution_count": 14,
   "id": "3b4b1d51-1c33-489a-95f6-ab75e428c760",
   "metadata": {},
   "outputs": [
    {
     "data": {
      "image/png": "[encoded data removed]",
      "text/plain": [
       "<Figure size 576x396 with 1 Axes>"
      ]
     },
     "metadata": {},
     "output_type": "display_data"
    }
   ],
   "source": [
    "plt.hist(new_predictions[\"Score_1\"], bins=100, edgecolor='black')\n",
    "plt.title(\"Retention Scores\")\n",
    "plt.ylabel(\"Num Fans\")\n",
    "plt.xlabel(\"SA Buyer Score\")\n",
    "plt.show()"
   ]
  },
  {
   "cell_type": "code",
   "execution_count": 15,
   "id": "144bd27b-9798-4f8b-a3a3-95298d8e2c01",
   "metadata": {},
   "outputs": [
    {
     "data": {
      "image/png": "[encoded data removed]",
      "text/plain": [
       "<Figure size 800x500 with 1 Axes>"
      ]
     },
     "metadata": {},
     "output_type": "display_data"
    }
   ],
   "source": [
    "plot_model(best_model, plot='feature')"
   ]
  },
  {
   "cell_type": "code",
   "execution_count": 16,
   "id": "79e34840-9a47-486f-a648-6d5d16d73b89",
   "metadata": {},
   "outputs": [
    {
     "data": {
      "image/png": "[encoded data removed]",
      "text/plain": [
       "<Figure size 576x396 with 1 Axes>"
      ]
     },
     "metadata": {},
     "output_type": "display_data"
    }
   ],
   "source": [
    "plot_model(best_model, plot='confusion_matrix')"
   ]
  },
  {
   "cell_type": "markdown",
   "id": "a439108b-7911-4384-b089-f7b31c825192",
   "metadata": {},
   "source": [
    "## Observations\n",
    "Here you can document some ideas on the results from above"
   ]
  },
  {
   "cell_type": "code",
   "execution_count": null,
   "id": "ba105685-1873-4a6a-b739-cd2974c7a36f",
   "metadata": {},
   "outputs": [],
   "source": []
  }
 ],
 "metadata": {
  "kernelspec": {
   "display_name": "Python 3 (ipykernel)",
   "language": "python",
   "name": "python3"
  },
  "language_info": {
   "codemirror_mode": {
    "name": "ipython",
    "version": 3
   },
   "file_extension": ".py",
   "mimetype": "text/x-python",
   "name": "python",
   "nbconvert_exporter": "python",
   "pygments_lexer": "ipython3",
   "version": "3.9.4"
  }
 },
 "nbformat": 4,
 "nbformat_minor": 5
}
