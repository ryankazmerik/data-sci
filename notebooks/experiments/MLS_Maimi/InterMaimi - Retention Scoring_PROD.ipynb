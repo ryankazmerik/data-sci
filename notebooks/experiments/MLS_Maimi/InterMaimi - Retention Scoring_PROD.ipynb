{
 "cells": [
  {
   "cell_type": "markdown",
   "id": "6ee08766-25fd-4da1-91b8-b0c3e74db588",
   "metadata": {},
   "source": [
    "# Inter-Maimi - PROD Retention Score\n",
    "* StelllarAlgo Data Science\n",
    "* Ryan Kazmerik & Nakisa Rad\n",
    "* June 20, 2022"
   ]
  },
  {
   "cell_type": "markdown",
   "id": "39108c8d-2e9f-4759-ade2-83071038dc56",
   "metadata": {},
   "source": [
    "## Hypothesis\n"
   ]
  },
  {
   "cell_type": "markdown",
   "id": "28142011-1f32-4cc7-816b-a6dae6f70c8c",
   "metadata": {},
   "source": [
    "## Experiment\n",
    "This section details our experiment including querying data, data transformations, feature selection and modelling."
   ]
  },
  {
   "cell_type": "code",
   "execution_count": 2,
   "id": "4c533efd-600e-4bce-8203-faffbddfa700",
   "metadata": {},
   "outputs": [],
   "source": [
    "import getpass\n",
    "import pyodbc\n",
    "import pandas as pd\n",
    "import warnings\n",
    "import matplotlib.pyplot as plt\n",
    "\n",
    "from pycaret.classification import *\n",
    "\n",
    "warnings.filterwarnings('ignore')"
   ]
  },
  {
   "cell_type": "markdown",
   "id": "b64ae7d5-84af-4915-bd13-1dd9d17098a3",
   "metadata": {},
   "source": [
    "### Let's connect to MSSQL and run a stored proc to get our dataset:"
   ]
  },
  {
   "cell_type": "code",
   "execution_count": 3,
   "id": "ae561eb4-f419-4d46-b5e0-12fac9b10db8",
   "metadata": {},
   "outputs": [
    {
     "name": "stdin",
     "output_type": "stream",
     "text": [
      "Enter your password ··················\n"
     ]
    }
   ],
   "source": [
    "# connect to SQL Server.\n",
    "SERVER = '34.206.73.189' \n",
    "DATABASE = 'datascience' \n",
    "USERNAME = 'dsAdminWrite' \n",
    "PASSWORD = getpass.getpass(prompt='Enter your password')\n",
    "CNXN = pyodbc.connect('DRIVER={ODBC Driver 17 for SQL Server};SERVER='+SERVER+';DATABASE='+DATABASE+';UID='+USERNAME+';PWD='+ PASSWORD)"
   ]
  },
  {
   "cell_type": "code",
   "execution_count": 4,
   "id": "af1afe7d-a35b-494b-88f3-980fb0e3da30",
   "metadata": {},
   "outputs": [
    {
     "data": {
      "text/plain": [
       "(6906, 15)"
      ]
     },
     "execution_count": 4,
     "metadata": {},
     "output_type": "execute_result"
    }
   ],
   "source": [
    "cursor = CNXN.cursor()\n",
    "\n",
    "storedProc = (\n",
    "    f\"\"\"Exec [stlrMLS].[ds].[getRetentionScoringModelData_staging2] \"\"\"\n",
    ")\n",
    "\n",
    "df = pd.read_sql(storedProc, CNXN)\n",
    "\n",
    "# apply some data transformations\n",
    "df[\"year\"] = pd.to_numeric(df[\"year\"])\n",
    "\n",
    "CNXN.commit()\n",
    "cursor.close()\n",
    "\n",
    "df.shape"
   ]
  },
  {
   "cell_type": "code",
   "execution_count": 5,
   "id": "11e97dcc-c69e-46c1-8dad-33f6291cb0c6",
   "metadata": {},
   "outputs": [
    {
     "name": "stdout",
     "output_type": "stream",
     "text": [
      "<class 'pandas.core.frame.DataFrame'>\n",
      "RangeIndex: 6906 entries, 0 to 6905\n",
      "Data columns (total 15 columns):\n",
      " #   Column               Non-Null Count  Dtype  \n",
      "---  ------               --------------  -----  \n",
      " 0   dimCustomerMasterId  6906 non-null   int64  \n",
      " 1   year                 6906 non-null   int64  \n",
      " 2   productGrouping      6906 non-null   object \n",
      " 3   totalSpent           6906 non-null   float64\n",
      " 4   recentDate           6906 non-null   object \n",
      " 5   attendancePercent    6906 non-null   float64\n",
      " 6   renewedBeforeDays    6906 non-null   int64  \n",
      " 7   source_tenure        6906 non-null   int64  \n",
      " 8   tenure               6906 non-null   int64  \n",
      " 9   distToVenue          6670 non-null   float64\n",
      " 10  recency              6906 non-null   int64  \n",
      " 11  missed_games_1       6906 non-null   int64  \n",
      " 12  missed_games_2       6906 non-null   int64  \n",
      " 13  missed_games_over_2  6906 non-null   int64  \n",
      " 14  isNextYear_Buyer     6906 non-null   int64  \n",
      "dtypes: float64(3), int64(10), object(2)\n",
      "memory usage: 809.4+ KB\n"
     ]
    }
   ],
   "source": [
    "df.info()"
   ]
  },
  {
   "cell_type": "markdown",
   "id": "ab40da92-72a7-49c1-9829-ed3805a39719",
   "metadata": {},
   "source": [
    "### We should specify the features used in our model:"
   ]
  },
  {
   "cell_type": "code",
   "execution_count": 6,
   "id": "788f1273-8b7a-46bd-a099-1a471feeacc5",
   "metadata": {},
   "outputs": [
    {
     "name": "stdout",
     "output_type": "stream",
     "text": [
      "Data for Modeling: (3596, 15)\n",
      "Unseen Data For Predictions: (635, 15)\n",
      "\n"
     ]
    }
   ],
   "source": [
    "# choose the features for the stellar base retention model\n",
    "features = [\n",
    "            \"dimCustomerMasterId\",\n",
    "            \"year\",\n",
    "            \"productGrouping\", \n",
    "            \"totalSpent\", \n",
    "            \"recentDate\",\n",
    "            \"attendancePercent\", \n",
    "            \"renewedBeforeDays\",\n",
    "            \"source_tenure\",\n",
    "            \"tenure\",\n",
    "            \"distToVenue\",\n",
    "            \"recency\",\n",
    "            \"missed_games_1\",\n",
    "            \"missed_games_2\",\n",
    "            \"missed_games_over_2\",\n",
    "            \"isNextYear_Buyer\"\n",
    "]\n",
    "\n",
    "# copy your main dataframe\n",
    "df_dataset = df\n",
    "\n",
    "# choose the features & train year & test year\n",
    "df_dataset = df_dataset[features]\n",
    "df_dataset[\"year\"] = pd.to_numeric(df_dataset[\"year\"])\n",
    "df_dataset = df_dataset.loc[df_dataset[\"year\"] <= 2021]\n",
    "\n",
    "df_train = df_dataset.sample(frac=0.85, random_state=786)\n",
    "df_eval = df_dataset.drop(df_train.index)\n",
    "\n",
    "df_train.reset_index(drop=True, inplace=True)\n",
    "df_eval.reset_index(drop=True, inplace=True)\n",
    "\n",
    "# print out the number of records for training and eval\n",
    "print('Data for Modeling: ' + str(df_train.shape))\n",
    "print('Unseen Data For Predictions: ' + str(df_eval.shape), end=\"\\n\\n\")"
   ]
  },
  {
   "cell_type": "markdown",
   "id": "4f2da06d-9015-49fd-89b3-956c2ebf66e9",
   "metadata": {},
   "source": [
    "### Now we can model the data using a binary classification prediction for the isnextyear_buyer field to see how likely a customer is to re-purchase."
   ]
  },
  {
   "cell_type": "code",
   "execution_count": 8,
   "id": "23a69cdc-b3ec-48c8-9ce5-29f617779389",
   "metadata": {},
   "outputs": [],
   "source": [
    "setup(\n",
    "    data= df_train, \n",
    "    target=\"isNextYear_Buyer\", \n",
    "    train_size = 0.85,\n",
    "    data_split_shuffle=True,\n",
    "    ignore_features=[\"dimCustomerMasterId\",\"productGrouping\",\"year\"],\n",
    "    silent=True,\n",
    "    verbose=False,\n",
    "    numeric_features=[\n",
    "    \"totalSpent\", \n",
    "            \"attendancePercent\", \n",
    "            \"renewedBeforeDays\",\n",
    "            \"source_tenure\",\n",
    "            \"tenure\",\n",
    "            \"distToVenue\",\n",
    "            \"recency\",\n",
    "            \"missed_games_1\",\n",
    "            \"missed_games_2\",\n",
    "            \"missed_games_over_2\"\n",
    "    ]\n",
    ");"
   ]
  },
  {
   "cell_type": "code",
   "execution_count": 9,
   "id": "e2497c34-221f-42b3-a838-6b30c6c5fc39",
   "metadata": {},
   "outputs": [
    {
     "data": {
      "text/html": [
       "<div>\n",
       "<style scoped>\n",
       "    .dataframe tbody tr th:only-of-type {\n",
       "        vertical-align: middle;\n",
       "    }\n",
       "\n",
       "    .dataframe tbody tr th {\n",
       "        vertical-align: top;\n",
       "    }\n",
       "\n",
       "    .dataframe thead th {\n",
       "        text-align: right;\n",
       "    }\n",
       "</style>\n",
       "<table border=\"1\" class=\"dataframe\">\n",
       "  <thead>\n",
       "    <tr style=\"text-align: right;\">\n",
       "      <th></th>\n",
       "      <th>Name</th>\n",
       "      <th>Reference</th>\n",
       "      <th>Turbo</th>\n",
       "    </tr>\n",
       "    <tr>\n",
       "      <th>ID</th>\n",
       "      <th></th>\n",
       "      <th></th>\n",
       "      <th></th>\n",
       "    </tr>\n",
       "  </thead>\n",
       "  <tbody>\n",
       "    <tr>\n",
       "      <th>lr</th>\n",
       "      <td>Logistic Regression</td>\n",
       "      <td>sklearn.linear_model._logistic.LogisticRegression</td>\n",
       "      <td>True</td>\n",
       "    </tr>\n",
       "    <tr>\n",
       "      <th>knn</th>\n",
       "      <td>K Neighbors Classifier</td>\n",
       "      <td>sklearn.neighbors._classification.KNeighborsCl...</td>\n",
       "      <td>True</td>\n",
       "    </tr>\n",
       "    <tr>\n",
       "      <th>nb</th>\n",
       "      <td>Naive Bayes</td>\n",
       "      <td>sklearn.naive_bayes.GaussianNB</td>\n",
       "      <td>True</td>\n",
       "    </tr>\n",
       "    <tr>\n",
       "      <th>dt</th>\n",
       "      <td>Decision Tree Classifier</td>\n",
       "      <td>sklearn.tree._classes.DecisionTreeClassifier</td>\n",
       "      <td>True</td>\n",
       "    </tr>\n",
       "    <tr>\n",
       "      <th>svm</th>\n",
       "      <td>SVM - Linear Kernel</td>\n",
       "      <td>sklearn.linear_model._stochastic_gradient.SGDC...</td>\n",
       "      <td>True</td>\n",
       "    </tr>\n",
       "    <tr>\n",
       "      <th>rbfsvm</th>\n",
       "      <td>SVM - Radial Kernel</td>\n",
       "      <td>sklearn.svm._classes.SVC</td>\n",
       "      <td>False</td>\n",
       "    </tr>\n",
       "    <tr>\n",
       "      <th>gpc</th>\n",
       "      <td>Gaussian Process Classifier</td>\n",
       "      <td>sklearn.gaussian_process._gpc.GaussianProcessC...</td>\n",
       "      <td>False</td>\n",
       "    </tr>\n",
       "    <tr>\n",
       "      <th>mlp</th>\n",
       "      <td>MLP Classifier</td>\n",
       "      <td>sklearn.neural_network._multilayer_perceptron....</td>\n",
       "      <td>False</td>\n",
       "    </tr>\n",
       "    <tr>\n",
       "      <th>ridge</th>\n",
       "      <td>Ridge Classifier</td>\n",
       "      <td>sklearn.linear_model._ridge.RidgeClassifier</td>\n",
       "      <td>True</td>\n",
       "    </tr>\n",
       "    <tr>\n",
       "      <th>rf</th>\n",
       "      <td>Random Forest Classifier</td>\n",
       "      <td>sklearn.ensemble._forest.RandomForestClassifier</td>\n",
       "      <td>True</td>\n",
       "    </tr>\n",
       "    <tr>\n",
       "      <th>qda</th>\n",
       "      <td>Quadratic Discriminant Analysis</td>\n",
       "      <td>sklearn.discriminant_analysis.QuadraticDiscrim...</td>\n",
       "      <td>True</td>\n",
       "    </tr>\n",
       "    <tr>\n",
       "      <th>ada</th>\n",
       "      <td>Ada Boost Classifier</td>\n",
       "      <td>sklearn.ensemble._weight_boosting.AdaBoostClas...</td>\n",
       "      <td>True</td>\n",
       "    </tr>\n",
       "    <tr>\n",
       "      <th>gbc</th>\n",
       "      <td>Gradient Boosting Classifier</td>\n",
       "      <td>sklearn.ensemble._gb.GradientBoostingClassifier</td>\n",
       "      <td>True</td>\n",
       "    </tr>\n",
       "    <tr>\n",
       "      <th>lda</th>\n",
       "      <td>Linear Discriminant Analysis</td>\n",
       "      <td>sklearn.discriminant_analysis.LinearDiscrimina...</td>\n",
       "      <td>True</td>\n",
       "    </tr>\n",
       "    <tr>\n",
       "      <th>et</th>\n",
       "      <td>Extra Trees Classifier</td>\n",
       "      <td>sklearn.ensemble._forest.ExtraTreesClassifier</td>\n",
       "      <td>True</td>\n",
       "    </tr>\n",
       "    <tr>\n",
       "      <th>xgboost</th>\n",
       "      <td>Extreme Gradient Boosting</td>\n",
       "      <td>xgboost.sklearn.XGBClassifier</td>\n",
       "      <td>True</td>\n",
       "    </tr>\n",
       "    <tr>\n",
       "      <th>lightgbm</th>\n",
       "      <td>Light Gradient Boosting Machine</td>\n",
       "      <td>lightgbm.sklearn.LGBMClassifier</td>\n",
       "      <td>True</td>\n",
       "    </tr>\n",
       "    <tr>\n",
       "      <th>dummy</th>\n",
       "      <td>Dummy Classifier</td>\n",
       "      <td>sklearn.dummy.DummyClassifier</td>\n",
       "      <td>True</td>\n",
       "    </tr>\n",
       "  </tbody>\n",
       "</table>\n",
       "</div>"
      ],
      "text/plain": [
       "                                     Name  \\\n",
       "ID                                          \n",
       "lr                    Logistic Regression   \n",
       "knn                K Neighbors Classifier   \n",
       "nb                            Naive Bayes   \n",
       "dt               Decision Tree Classifier   \n",
       "svm                   SVM - Linear Kernel   \n",
       "rbfsvm                SVM - Radial Kernel   \n",
       "gpc           Gaussian Process Classifier   \n",
       "mlp                        MLP Classifier   \n",
       "ridge                    Ridge Classifier   \n",
       "rf               Random Forest Classifier   \n",
       "qda       Quadratic Discriminant Analysis   \n",
       "ada                  Ada Boost Classifier   \n",
       "gbc          Gradient Boosting Classifier   \n",
       "lda          Linear Discriminant Analysis   \n",
       "et                 Extra Trees Classifier   \n",
       "xgboost         Extreme Gradient Boosting   \n",
       "lightgbm  Light Gradient Boosting Machine   \n",
       "dummy                    Dummy Classifier   \n",
       "\n",
       "                                                  Reference  Turbo  \n",
       "ID                                                                  \n",
       "lr        sklearn.linear_model._logistic.LogisticRegression   True  \n",
       "knn       sklearn.neighbors._classification.KNeighborsCl...   True  \n",
       "nb                           sklearn.naive_bayes.GaussianNB   True  \n",
       "dt             sklearn.tree._classes.DecisionTreeClassifier   True  \n",
       "svm       sklearn.linear_model._stochastic_gradient.SGDC...   True  \n",
       "rbfsvm                             sklearn.svm._classes.SVC  False  \n",
       "gpc       sklearn.gaussian_process._gpc.GaussianProcessC...  False  \n",
       "mlp       sklearn.neural_network._multilayer_perceptron....  False  \n",
       "ridge           sklearn.linear_model._ridge.RidgeClassifier   True  \n",
       "rf          sklearn.ensemble._forest.RandomForestClassifier   True  \n",
       "qda       sklearn.discriminant_analysis.QuadraticDiscrim...   True  \n",
       "ada       sklearn.ensemble._weight_boosting.AdaBoostClas...   True  \n",
       "gbc         sklearn.ensemble._gb.GradientBoostingClassifier   True  \n",
       "lda       sklearn.discriminant_analysis.LinearDiscrimina...   True  \n",
       "et            sklearn.ensemble._forest.ExtraTreesClassifier   True  \n",
       "xgboost                       xgboost.sklearn.XGBClassifier   True  \n",
       "lightgbm                    lightgbm.sklearn.LGBMClassifier   True  \n",
       "dummy                         sklearn.dummy.DummyClassifier   True  "
      ]
     },
     "execution_count": 9,
     "metadata": {},
     "output_type": "execute_result"
    }
   ],
   "source": [
    "models()"
   ]
  },
  {
   "cell_type": "code",
   "execution_count": 10,
   "id": "ef2db9d2-02c2-45c0-b6bb-5cad42c373ce",
   "metadata": {},
   "outputs": [
    {
     "data": {
      "text/html": [
       "<style type=\"text/css\">\n",
       "#T_735e3 th {\n",
       "  text-align: left;\n",
       "}\n",
       "#T_735e3_row0_col0, #T_735e3_row0_col3, #T_735e3_row1_col0, #T_735e3_row1_col1, #T_735e3_row1_col2, #T_735e3_row1_col3, #T_735e3_row1_col4, #T_735e3_row1_col5, #T_735e3_row1_col6, #T_735e3_row1_col7, #T_735e3_row2_col0, #T_735e3_row2_col1, #T_735e3_row2_col2, #T_735e3_row2_col3, #T_735e3_row2_col4, #T_735e3_row2_col5, #T_735e3_row2_col6, #T_735e3_row2_col7, #T_735e3_row3_col0, #T_735e3_row3_col1, #T_735e3_row3_col2, #T_735e3_row3_col4, #T_735e3_row3_col5, #T_735e3_row3_col6, #T_735e3_row3_col7 {\n",
       "  text-align: left;\n",
       "}\n",
       "#T_735e3_row0_col1, #T_735e3_row0_col2, #T_735e3_row0_col4, #T_735e3_row0_col5, #T_735e3_row0_col6, #T_735e3_row0_col7, #T_735e3_row3_col3 {\n",
       "  text-align: left;\n",
       "  background-color: yellow;\n",
       "}\n",
       "#T_735e3_row0_col8, #T_735e3_row1_col8, #T_735e3_row3_col8 {\n",
       "  text-align: left;\n",
       "  background-color: lightgrey;\n",
       "}\n",
       "#T_735e3_row2_col8 {\n",
       "  text-align: left;\n",
       "  background-color: yellow;\n",
       "  background-color: lightgrey;\n",
       "}\n",
       "</style>\n",
       "<table id=\"T_735e3\">\n",
       "  <thead>\n",
       "    <tr>\n",
       "      <th class=\"blank level0\" >&nbsp;</th>\n",
       "      <th id=\"T_735e3_level0_col0\" class=\"col_heading level0 col0\" >Model</th>\n",
       "      <th id=\"T_735e3_level0_col1\" class=\"col_heading level0 col1\" >Accuracy</th>\n",
       "      <th id=\"T_735e3_level0_col2\" class=\"col_heading level0 col2\" >AUC</th>\n",
       "      <th id=\"T_735e3_level0_col3\" class=\"col_heading level0 col3\" >Recall</th>\n",
       "      <th id=\"T_735e3_level0_col4\" class=\"col_heading level0 col4\" >Prec.</th>\n",
       "      <th id=\"T_735e3_level0_col5\" class=\"col_heading level0 col5\" >F1</th>\n",
       "      <th id=\"T_735e3_level0_col6\" class=\"col_heading level0 col6\" >Kappa</th>\n",
       "      <th id=\"T_735e3_level0_col7\" class=\"col_heading level0 col7\" >MCC</th>\n",
       "      <th id=\"T_735e3_level0_col8\" class=\"col_heading level0 col8\" >TT (Sec)</th>\n",
       "    </tr>\n",
       "  </thead>\n",
       "  <tbody>\n",
       "    <tr>\n",
       "      <th id=\"T_735e3_level0_row0\" class=\"row_heading level0 row0\" >lightgbm</th>\n",
       "      <td id=\"T_735e3_row0_col0\" class=\"data row0 col0\" >Light Gradient Boosting Machine</td>\n",
       "      <td id=\"T_735e3_row0_col1\" class=\"data row0 col1\" >0.6554</td>\n",
       "      <td id=\"T_735e3_row0_col2\" class=\"data row0 col2\" >0.7188</td>\n",
       "      <td id=\"T_735e3_row0_col3\" class=\"data row0 col3\" >0.7070</td>\n",
       "      <td id=\"T_735e3_row0_col4\" class=\"data row0 col4\" >0.6371</td>\n",
       "      <td id=\"T_735e3_row0_col5\" class=\"data row0 col5\" >0.6700</td>\n",
       "      <td id=\"T_735e3_row0_col6\" class=\"data row0 col6\" >0.3116</td>\n",
       "      <td id=\"T_735e3_row0_col7\" class=\"data row0 col7\" >0.3136</td>\n",
       "      <td id=\"T_735e3_row0_col8\" class=\"data row0 col8\" >0.5520</td>\n",
       "    </tr>\n",
       "    <tr>\n",
       "      <th id=\"T_735e3_level0_row1\" class=\"row_heading level0 row1\" >xgboost</th>\n",
       "      <td id=\"T_735e3_row1_col0\" class=\"data row1 col0\" >Extreme Gradient Boosting</td>\n",
       "      <td id=\"T_735e3_row1_col1\" class=\"data row1 col1\" >0.6459</td>\n",
       "      <td id=\"T_735e3_row1_col2\" class=\"data row1 col2\" >0.7153</td>\n",
       "      <td id=\"T_735e3_row1_col3\" class=\"data row1 col3\" >0.6792</td>\n",
       "      <td id=\"T_735e3_row1_col4\" class=\"data row1 col4\" >0.6332</td>\n",
       "      <td id=\"T_735e3_row1_col5\" class=\"data row1 col5\" >0.6549</td>\n",
       "      <td id=\"T_735e3_row1_col6\" class=\"data row1 col6\" >0.2923</td>\n",
       "      <td id=\"T_735e3_row1_col7\" class=\"data row1 col7\" >0.2935</td>\n",
       "      <td id=\"T_735e3_row1_col8\" class=\"data row1 col8\" >0.3350</td>\n",
       "    </tr>\n",
       "    <tr>\n",
       "      <th id=\"T_735e3_level0_row2\" class=\"row_heading level0 row2\" >rf</th>\n",
       "      <td id=\"T_735e3_row2_col0\" class=\"data row2 col0\" >Random Forest Classifier</td>\n",
       "      <td id=\"T_735e3_row2_col1\" class=\"data row2 col1\" >0.6414</td>\n",
       "      <td id=\"T_735e3_row2_col2\" class=\"data row2 col2\" >0.7046</td>\n",
       "      <td id=\"T_735e3_row2_col3\" class=\"data row2 col3\" >0.6872</td>\n",
       "      <td id=\"T_735e3_row2_col4\" class=\"data row2 col4\" >0.6256</td>\n",
       "      <td id=\"T_735e3_row2_col5\" class=\"data row2 col5\" >0.6547</td>\n",
       "      <td id=\"T_735e3_row2_col6\" class=\"data row2 col6\" >0.2834</td>\n",
       "      <td id=\"T_735e3_row2_col7\" class=\"data row2 col7\" >0.2849</td>\n",
       "      <td id=\"T_735e3_row2_col8\" class=\"data row2 col8\" >0.1200</td>\n",
       "    </tr>\n",
       "    <tr>\n",
       "      <th id=\"T_735e3_level0_row3\" class=\"row_heading level0 row3\" >lr</th>\n",
       "      <td id=\"T_735e3_row3_col0\" class=\"data row3 col0\" >Logistic Regression</td>\n",
       "      <td id=\"T_735e3_row3_col1\" class=\"data row3 col1\" >0.6355</td>\n",
       "      <td id=\"T_735e3_row3_col2\" class=\"data row3 col2\" >0.6882</td>\n",
       "      <td id=\"T_735e3_row3_col3\" class=\"data row3 col3\" >0.7242</td>\n",
       "      <td id=\"T_735e3_row3_col4\" class=\"data row3 col4\" >0.6113</td>\n",
       "      <td id=\"T_735e3_row3_col5\" class=\"data row3 col5\" >0.6625</td>\n",
       "      <td id=\"T_735e3_row3_col6\" class=\"data row3 col6\" >0.2723</td>\n",
       "      <td id=\"T_735e3_row3_col7\" class=\"data row3 col7\" >0.2776</td>\n",
       "      <td id=\"T_735e3_row3_col8\" class=\"data row3 col8\" >0.4130</td>\n",
       "    </tr>\n",
       "  </tbody>\n",
       "</table>\n"
      ],
      "text/plain": [
       "<pandas.io.formats.style.Styler at 0x7fbf5ecf2580>"
      ]
     },
     "metadata": {},
     "output_type": "display_data"
    }
   ],
   "source": [
    "model_matrix = compare_models(\n",
    "    fold=10,\n",
    "    include=[\"lr\",\"rf\",\"xgboost\",\"lightgbm\"]\n",
    ")"
   ]
  },
  {
   "cell_type": "code",
   "execution_count": 11,
   "id": "d9f030ed-4b6a-4a87-a01e-129dc49e0d4a",
   "metadata": {},
   "outputs": [
    {
     "data": {
      "text/html": [
       "<style type=\"text/css\">\n",
       "#T_9a6d1_row10_col0, #T_9a6d1_row10_col1, #T_9a6d1_row10_col2, #T_9a6d1_row10_col3, #T_9a6d1_row10_col4, #T_9a6d1_row10_col5, #T_9a6d1_row10_col6 {\n",
       "  background: yellow;\n",
       "}\n",
       "</style>\n",
       "<table id=\"T_9a6d1\">\n",
       "  <thead>\n",
       "    <tr>\n",
       "      <th class=\"blank level0\" >&nbsp;</th>\n",
       "      <th id=\"T_9a6d1_level0_col0\" class=\"col_heading level0 col0\" >Accuracy</th>\n",
       "      <th id=\"T_9a6d1_level0_col1\" class=\"col_heading level0 col1\" >AUC</th>\n",
       "      <th id=\"T_9a6d1_level0_col2\" class=\"col_heading level0 col2\" >Recall</th>\n",
       "      <th id=\"T_9a6d1_level0_col3\" class=\"col_heading level0 col3\" >Prec.</th>\n",
       "      <th id=\"T_9a6d1_level0_col4\" class=\"col_heading level0 col4\" >F1</th>\n",
       "      <th id=\"T_9a6d1_level0_col5\" class=\"col_heading level0 col5\" >Kappa</th>\n",
       "      <th id=\"T_9a6d1_level0_col6\" class=\"col_heading level0 col6\" >MCC</th>\n",
       "    </tr>\n",
       "  </thead>\n",
       "  <tbody>\n",
       "    <tr>\n",
       "      <th id=\"T_9a6d1_level0_row0\" class=\"row_heading level0 row0\" >0</th>\n",
       "      <td id=\"T_9a6d1_row0_col0\" class=\"data row0 col0\" >0.6895</td>\n",
       "      <td id=\"T_9a6d1_row0_col1\" class=\"data row0 col1\" >0.7278</td>\n",
       "      <td id=\"T_9a6d1_row0_col2\" class=\"data row0 col2\" >0.7500</td>\n",
       "      <td id=\"T_9a6d1_row0_col3\" class=\"data row0 col3\" >0.6667</td>\n",
       "      <td id=\"T_9a6d1_row0_col4\" class=\"data row0 col4\" >0.7059</td>\n",
       "      <td id=\"T_9a6d1_row0_col5\" class=\"data row0 col5\" >0.3796</td>\n",
       "      <td id=\"T_9a6d1_row0_col6\" class=\"data row0 col6\" >0.3825</td>\n",
       "    </tr>\n",
       "    <tr>\n",
       "      <th id=\"T_9a6d1_level0_row1\" class=\"row_heading level0 row1\" >1</th>\n",
       "      <td id=\"T_9a6d1_row1_col0\" class=\"data row1 col0\" >0.6601</td>\n",
       "      <td id=\"T_9a6d1_row1_col1\" class=\"data row1 col1\" >0.7388</td>\n",
       "      <td id=\"T_9a6d1_row1_col2\" class=\"data row1 col2\" >0.6776</td>\n",
       "      <td id=\"T_9a6d1_row1_col3\" class=\"data row1 col3\" >0.6519</td>\n",
       "      <td id=\"T_9a6d1_row1_col4\" class=\"data row1 col4\" >0.6645</td>\n",
       "      <td id=\"T_9a6d1_row1_col5\" class=\"data row1 col5\" >0.3204</td>\n",
       "      <td id=\"T_9a6d1_row1_col6\" class=\"data row1 col6\" >0.3207</td>\n",
       "    </tr>\n",
       "    <tr>\n",
       "      <th id=\"T_9a6d1_level0_row2\" class=\"row_heading level0 row2\" >2</th>\n",
       "      <td id=\"T_9a6d1_row2_col0\" class=\"data row2 col0\" >0.6307</td>\n",
       "      <td id=\"T_9a6d1_row2_col1\" class=\"data row2 col1\" >0.6896</td>\n",
       "      <td id=\"T_9a6d1_row2_col2\" class=\"data row2 col2\" >0.6689</td>\n",
       "      <td id=\"T_9a6d1_row2_col3\" class=\"data row2 col3\" >0.6159</td>\n",
       "      <td id=\"T_9a6d1_row2_col4\" class=\"data row2 col4\" >0.6413</td>\n",
       "      <td id=\"T_9a6d1_row2_col5\" class=\"data row2 col5\" >0.2621</td>\n",
       "      <td id=\"T_9a6d1_row2_col6\" class=\"data row2 col6\" >0.2631</td>\n",
       "    </tr>\n",
       "    <tr>\n",
       "      <th id=\"T_9a6d1_level0_row3\" class=\"row_heading level0 row3\" >3</th>\n",
       "      <td id=\"T_9a6d1_row3_col0\" class=\"data row3 col0\" >0.5980</td>\n",
       "      <td id=\"T_9a6d1_row3_col1\" class=\"data row3 col1\" >0.6846</td>\n",
       "      <td id=\"T_9a6d1_row3_col2\" class=\"data row3 col2\" >0.6556</td>\n",
       "      <td id=\"T_9a6d1_row3_col3\" class=\"data row3 col3\" >0.5824</td>\n",
       "      <td id=\"T_9a6d1_row3_col4\" class=\"data row3 col4\" >0.6168</td>\n",
       "      <td id=\"T_9a6d1_row3_col5\" class=\"data row3 col5\" >0.1972</td>\n",
       "      <td id=\"T_9a6d1_row3_col6\" class=\"data row3 col6\" >0.1988</td>\n",
       "    </tr>\n",
       "    <tr>\n",
       "      <th id=\"T_9a6d1_level0_row4\" class=\"row_heading level0 row4\" >4</th>\n",
       "      <td id=\"T_9a6d1_row4_col0\" class=\"data row4 col0\" >0.6732</td>\n",
       "      <td id=\"T_9a6d1_row4_col1\" class=\"data row4 col1\" >0.7267</td>\n",
       "      <td id=\"T_9a6d1_row4_col2\" class=\"data row4 col2\" >0.7351</td>\n",
       "      <td id=\"T_9a6d1_row4_col3\" class=\"data row4 col3\" >0.6491</td>\n",
       "      <td id=\"T_9a6d1_row4_col4\" class=\"data row4 col4\" >0.6894</td>\n",
       "      <td id=\"T_9a6d1_row4_col5\" class=\"data row4 col5\" >0.3474</td>\n",
       "      <td id=\"T_9a6d1_row4_col6\" class=\"data row4 col6\" >0.3504</td>\n",
       "    </tr>\n",
       "    <tr>\n",
       "      <th id=\"T_9a6d1_level0_row5\" class=\"row_heading level0 row5\" >5</th>\n",
       "      <td id=\"T_9a6d1_row5_col0\" class=\"data row5 col0\" >0.6961</td>\n",
       "      <td id=\"T_9a6d1_row5_col1\" class=\"data row5 col1\" >0.7688</td>\n",
       "      <td id=\"T_9a6d1_row5_col2\" class=\"data row5 col2\" >0.7351</td>\n",
       "      <td id=\"T_9a6d1_row5_col3\" class=\"data row5 col3\" >0.6768</td>\n",
       "      <td id=\"T_9a6d1_row5_col4\" class=\"data row5 col4\" >0.7048</td>\n",
       "      <td id=\"T_9a6d1_row5_col5\" class=\"data row5 col5\" >0.3927</td>\n",
       "      <td id=\"T_9a6d1_row5_col6\" class=\"data row5 col6\" >0.3942</td>\n",
       "    </tr>\n",
       "    <tr>\n",
       "      <th id=\"T_9a6d1_level0_row6\" class=\"row_heading level0 row6\" >6</th>\n",
       "      <td id=\"T_9a6d1_row6_col0\" class=\"data row6 col0\" >0.6164</td>\n",
       "      <td id=\"T_9a6d1_row6_col1\" class=\"data row6 col1\" >0.6762</td>\n",
       "      <td id=\"T_9a6d1_row6_col2\" class=\"data row6 col2\" >0.7020</td>\n",
       "      <td id=\"T_9a6d1_row6_col3\" class=\"data row6 col3\" >0.5955</td>\n",
       "      <td id=\"T_9a6d1_row6_col4\" class=\"data row6 col4\" >0.6444</td>\n",
       "      <td id=\"T_9a6d1_row6_col5\" class=\"data row6 col5\" >0.2340</td>\n",
       "      <td id=\"T_9a6d1_row6_col6\" class=\"data row6 col6\" >0.2378</td>\n",
       "    </tr>\n",
       "    <tr>\n",
       "      <th id=\"T_9a6d1_level0_row7\" class=\"row_heading level0 row7\" >7</th>\n",
       "      <td id=\"T_9a6d1_row7_col0\" class=\"data row7 col0\" >0.6852</td>\n",
       "      <td id=\"T_9a6d1_row7_col1\" class=\"data row7 col1\" >0.7338</td>\n",
       "      <td id=\"T_9a6d1_row7_col2\" class=\"data row7 col2\" >0.7483</td>\n",
       "      <td id=\"T_9a6d1_row7_col3\" class=\"data row7 col3\" >0.6608</td>\n",
       "      <td id=\"T_9a6d1_row7_col4\" class=\"data row7 col4\" >0.7019</td>\n",
       "      <td id=\"T_9a6d1_row7_col5\" class=\"data row7 col5\" >0.3712</td>\n",
       "      <td id=\"T_9a6d1_row7_col6\" class=\"data row7 col6\" >0.3745</td>\n",
       "    </tr>\n",
       "    <tr>\n",
       "      <th id=\"T_9a6d1_level0_row8\" class=\"row_heading level0 row8\" >8</th>\n",
       "      <td id=\"T_9a6d1_row8_col0\" class=\"data row8 col0\" >0.6393</td>\n",
       "      <td id=\"T_9a6d1_row8_col1\" class=\"data row8 col1\" >0.7060</td>\n",
       "      <td id=\"T_9a6d1_row8_col2\" class=\"data row8 col2\" >0.6954</td>\n",
       "      <td id=\"T_9a6d1_row8_col3\" class=\"data row8 col3\" >0.6213</td>\n",
       "      <td id=\"T_9a6d1_row8_col4\" class=\"data row8 col4\" >0.6562</td>\n",
       "      <td id=\"T_9a6d1_row8_col5\" class=\"data row8 col5\" >0.2795</td>\n",
       "      <td id=\"T_9a6d1_row8_col6\" class=\"data row8 col6\" >0.2814</td>\n",
       "    </tr>\n",
       "    <tr>\n",
       "      <th id=\"T_9a6d1_level0_row9\" class=\"row_heading level0 row9\" >9</th>\n",
       "      <td id=\"T_9a6d1_row9_col0\" class=\"data row9 col0\" >0.6656</td>\n",
       "      <td id=\"T_9a6d1_row9_col1\" class=\"data row9 col1\" >0.7357</td>\n",
       "      <td id=\"T_9a6d1_row9_col2\" class=\"data row9 col2\" >0.7020</td>\n",
       "      <td id=\"T_9a6d1_row9_col3\" class=\"data row9 col3\" >0.6503</td>\n",
       "      <td id=\"T_9a6d1_row9_col4\" class=\"data row9 col4\" >0.6752</td>\n",
       "      <td id=\"T_9a6d1_row9_col5\" class=\"data row9 col5\" >0.3316</td>\n",
       "      <td id=\"T_9a6d1_row9_col6\" class=\"data row9 col6\" >0.3326</td>\n",
       "    </tr>\n",
       "    <tr>\n",
       "      <th id=\"T_9a6d1_level0_row10\" class=\"row_heading level0 row10\" >Mean</th>\n",
       "      <td id=\"T_9a6d1_row10_col0\" class=\"data row10 col0\" >0.6554</td>\n",
       "      <td id=\"T_9a6d1_row10_col1\" class=\"data row10 col1\" >0.7188</td>\n",
       "      <td id=\"T_9a6d1_row10_col2\" class=\"data row10 col2\" >0.7070</td>\n",
       "      <td id=\"T_9a6d1_row10_col3\" class=\"data row10 col3\" >0.6371</td>\n",
       "      <td id=\"T_9a6d1_row10_col4\" class=\"data row10 col4\" >0.6700</td>\n",
       "      <td id=\"T_9a6d1_row10_col5\" class=\"data row10 col5\" >0.3116</td>\n",
       "      <td id=\"T_9a6d1_row10_col6\" class=\"data row10 col6\" >0.3136</td>\n",
       "    </tr>\n",
       "    <tr>\n",
       "      <th id=\"T_9a6d1_level0_row11\" class=\"row_heading level0 row11\" >SD</th>\n",
       "      <td id=\"T_9a6d1_row11_col0\" class=\"data row11 col0\" >0.0314</td>\n",
       "      <td id=\"T_9a6d1_row11_col1\" class=\"data row11 col1\" >0.0275</td>\n",
       "      <td id=\"T_9a6d1_row11_col2\" class=\"data row11 col2\" >0.0321</td>\n",
       "      <td id=\"T_9a6d1_row11_col3\" class=\"data row11 col3\" >0.0300</td>\n",
       "      <td id=\"T_9a6d1_row11_col4\" class=\"data row11 col4\" >0.0291</td>\n",
       "      <td id=\"T_9a6d1_row11_col5\" class=\"data row11 col5\" >0.0625</td>\n",
       "      <td id=\"T_9a6d1_row11_col6\" class=\"data row11 col6\" >0.0626</td>\n",
       "    </tr>\n",
       "  </tbody>\n",
       "</table>\n"
      ],
      "text/plain": [
       "<pandas.io.formats.style.Styler at 0x7fbf63ecab50>"
      ]
     },
     "metadata": {},
     "output_type": "display_data"
    }
   ],
   "source": [
    "best_model = create_model(model_matrix)\n",
    "final_model = finalize_model(best_model)"
   ]
  },
  {
   "cell_type": "markdown",
   "id": "3aab9021-4462-423a-8e3c-fbe1f36c6110",
   "metadata": {},
   "source": [
    "### Let's load in our 2021 season data and get retention scores using the model:"
   ]
  },
  {
   "cell_type": "code",
   "execution_count": 12,
   "id": "c249a813-c882-4869-9490-6ab766a8c223",
   "metadata": {},
   "outputs": [
    {
     "data": {
      "text/plain": [
       "(2675, 15)"
      ]
     },
     "execution_count": 12,
     "metadata": {},
     "output_type": "execute_result"
    }
   ],
   "source": [
    "df_inference = df.loc[df[\"year\"] >= 2022]\n",
    "df_inference = df_inference.fillna(0)\n",
    "df_inference.shape"
   ]
  },
  {
   "cell_type": "code",
   "execution_count": 13,
   "id": "745b62fb-fb2e-4b4a-9c48-8ce4de472a83",
   "metadata": {},
   "outputs": [
    {
     "data": {
      "text/html": [
       "<div>\n",
       "<style scoped>\n",
       "    .dataframe tbody tr th:only-of-type {\n",
       "        vertical-align: middle;\n",
       "    }\n",
       "\n",
       "    .dataframe tbody tr th {\n",
       "        vertical-align: top;\n",
       "    }\n",
       "\n",
       "    .dataframe thead th {\n",
       "        text-align: right;\n",
       "    }\n",
       "</style>\n",
       "<table border=\"1\" class=\"dataframe\">\n",
       "  <thead>\n",
       "    <tr style=\"text-align: right;\">\n",
       "      <th></th>\n",
       "      <th>dimCustomerMasterId</th>\n",
       "      <th>year</th>\n",
       "      <th>productGrouping</th>\n",
       "      <th>totalSpent</th>\n",
       "      <th>recentDate</th>\n",
       "      <th>attendancePercent</th>\n",
       "      <th>renewedBeforeDays</th>\n",
       "      <th>source_tenure</th>\n",
       "      <th>tenure</th>\n",
       "      <th>distToVenue</th>\n",
       "      <th>recency</th>\n",
       "      <th>missed_games_1</th>\n",
       "      <th>missed_games_2</th>\n",
       "      <th>missed_games_over_2</th>\n",
       "      <th>isNextYear_Buyer</th>\n",
       "      <th>Label</th>\n",
       "      <th>Score_0</th>\n",
       "      <th>Score_1</th>\n",
       "    </tr>\n",
       "  </thead>\n",
       "  <tbody>\n",
       "    <tr>\n",
       "      <th>0</th>\n",
       "      <td>42</td>\n",
       "      <td>2022</td>\n",
       "      <td>Flex Plan</td>\n",
       "      <td>312.0</td>\n",
       "      <td>1970-01-01</td>\n",
       "      <td>0.00</td>\n",
       "      <td>10</td>\n",
       "      <td>730</td>\n",
       "      <td>150</td>\n",
       "      <td>38.20</td>\n",
       "      <td>0</td>\n",
       "      <td>0</td>\n",
       "      <td>0</td>\n",
       "      <td>0</td>\n",
       "      <td>0</td>\n",
       "      <td>0</td>\n",
       "      <td>0.9852</td>\n",
       "      <td>0.0148</td>\n",
       "    </tr>\n",
       "    <tr>\n",
       "      <th>3</th>\n",
       "      <td>96</td>\n",
       "      <td>2022</td>\n",
       "      <td>Full Season</td>\n",
       "      <td>12257.0</td>\n",
       "      <td>2022-05-28</td>\n",
       "      <td>0.57</td>\n",
       "      <td>162</td>\n",
       "      <td>730</td>\n",
       "      <td>949</td>\n",
       "      <td>48.37</td>\n",
       "      <td>0</td>\n",
       "      <td>0</td>\n",
       "      <td>0</td>\n",
       "      <td>1</td>\n",
       "      <td>0</td>\n",
       "      <td>1</td>\n",
       "      <td>0.3017</td>\n",
       "      <td>0.6983</td>\n",
       "    </tr>\n",
       "    <tr>\n",
       "      <th>6</th>\n",
       "      <td>107</td>\n",
       "      <td>2022</td>\n",
       "      <td>Full Season</td>\n",
       "      <td>875.5</td>\n",
       "      <td>2022-05-14</td>\n",
       "      <td>0.43</td>\n",
       "      <td>159</td>\n",
       "      <td>730</td>\n",
       "      <td>950</td>\n",
       "      <td>57.52</td>\n",
       "      <td>1</td>\n",
       "      <td>2</td>\n",
       "      <td>1</td>\n",
       "      <td>0</td>\n",
       "      <td>0</td>\n",
       "      <td>0</td>\n",
       "      <td>0.5888</td>\n",
       "      <td>0.4112</td>\n",
       "    </tr>\n",
       "    <tr>\n",
       "      <th>8</th>\n",
       "      <td>138</td>\n",
       "      <td>2022</td>\n",
       "      <td>Full Season</td>\n",
       "      <td>850.0</td>\n",
       "      <td>2022-05-28</td>\n",
       "      <td>0.86</td>\n",
       "      <td>33</td>\n",
       "      <td>1095</td>\n",
       "      <td>1095</td>\n",
       "      <td>17.84</td>\n",
       "      <td>0</td>\n",
       "      <td>2</td>\n",
       "      <td>0</td>\n",
       "      <td>0</td>\n",
       "      <td>0</td>\n",
       "      <td>0</td>\n",
       "      <td>0.9091</td>\n",
       "      <td>0.0909</td>\n",
       "    </tr>\n",
       "    <tr>\n",
       "      <th>10</th>\n",
       "      <td>152</td>\n",
       "      <td>2022</td>\n",
       "      <td>Full Season</td>\n",
       "      <td>595.0</td>\n",
       "      <td>2022-05-28</td>\n",
       "      <td>1.00</td>\n",
       "      <td>101</td>\n",
       "      <td>730</td>\n",
       "      <td>1073</td>\n",
       "      <td>52.21</td>\n",
       "      <td>0</td>\n",
       "      <td>1</td>\n",
       "      <td>0</td>\n",
       "      <td>0</td>\n",
       "      <td>0</td>\n",
       "      <td>1</td>\n",
       "      <td>0.4543</td>\n",
       "      <td>0.5457</td>\n",
       "    </tr>\n",
       "  </tbody>\n",
       "</table>\n",
       "</div>"
      ],
      "text/plain": [
       "    dimCustomerMasterId  year productGrouping  totalSpent  recentDate  \\\n",
       "0                    42  2022       Flex Plan       312.0  1970-01-01   \n",
       "3                    96  2022     Full Season     12257.0  2022-05-28   \n",
       "6                   107  2022     Full Season       875.5  2022-05-14   \n",
       "8                   138  2022     Full Season       850.0  2022-05-28   \n",
       "10                  152  2022     Full Season       595.0  2022-05-28   \n",
       "\n",
       "    attendancePercent  renewedBeforeDays  source_tenure  tenure  distToVenue  \\\n",
       "0                0.00                 10            730     150        38.20   \n",
       "3                0.57                162            730     949        48.37   \n",
       "6                0.43                159            730     950        57.52   \n",
       "8                0.86                 33           1095    1095        17.84   \n",
       "10               1.00                101            730    1073        52.21   \n",
       "\n",
       "    recency  missed_games_1  missed_games_2  missed_games_over_2  \\\n",
       "0         0               0               0                    0   \n",
       "3         0               0               0                    1   \n",
       "6         1               2               1                    0   \n",
       "8         0               2               0                    0   \n",
       "10        0               1               0                    0   \n",
       "\n",
       "    isNextYear_Buyer  Label  Score_0  Score_1  \n",
       "0                  0      0   0.9852   0.0148  \n",
       "3                  0      1   0.3017   0.6983  \n",
       "6                  0      0   0.5888   0.4112  \n",
       "8                  0      0   0.9091   0.0909  \n",
       "10                 0      1   0.4543   0.5457  "
      ]
     },
     "execution_count": 13,
     "metadata": {},
     "output_type": "execute_result"
    }
   ],
   "source": [
    "new_predictions = predict_model(final_model, data=df_inference, raw_score=True)\n",
    "new_predictions.head()"
   ]
  },
  {
   "cell_type": "code",
   "execution_count": 14,
   "id": "c98d3de4-966c-4d4a-af8f-e4a2d78eed38",
   "metadata": {},
   "outputs": [
    {
     "data": {
      "text/plain": [
       "0    1906\n",
       "1     769\n",
       "Name: Label, dtype: int64"
      ]
     },
     "execution_count": 14,
     "metadata": {},
     "output_type": "execute_result"
    }
   ],
   "source": [
    "new_predictions[\"Label\"].value_counts()"
   ]
  },
  {
   "cell_type": "code",
   "execution_count": 15,
   "id": "95e96920-bc9c-4b50-837c-89e392d13449",
   "metadata": {},
   "outputs": [
    {
     "data": {
      "text/plain": [
       "(0.2, 0.4]       850\n",
       "(0.4, 0.6]       767\n",
       "(-0.001, 0.2]    630\n",
       "(0.6, 0.8]       378\n",
       "(0.8, 1.0]        50\n",
       "Name: Score_1, dtype: int64"
      ]
     },
     "execution_count": 15,
     "metadata": {},
     "output_type": "execute_result"
    }
   ],
   "source": [
    "new_predictions[\"Score_1\"].value_counts(bins=[0, 0.2, 0.4, 0.6, 0.8, 1.0])"
   ]
  },
  {
   "cell_type": "code",
   "execution_count": 17,
   "id": "3b4b1d51-1c33-489a-95f6-ab75e428c760",
   "metadata": {},
   "outputs": [
    {
     "data": {
      "image/png": "[encoded data removed]",
      "text/plain": [
       "<Figure size 576x396 with 1 Axes>"
      ]
     },
     "metadata": {},
     "output_type": "display_data"
    }
   ],
   "source": [
    "plt.hist(new_predictions[\"Score_1\"], bins=100, edgecolor='black')\n",
    "plt.title(\"Retention Scores\")\n",
    "plt.ylabel(\"Num Fans\")\n",
    "plt.xlabel(\"SA Buyer Score\")\n",
    "plt.show()"
   ]
  },
  {
   "cell_type": "code",
   "execution_count": 18,
   "id": "144bd27b-9798-4f8b-a3a3-95298d8e2c01",
   "metadata": {},
   "outputs": [
    {
     "data": {
      "image/png": "[encoded data removed]",
      "text/plain": [
       "<Figure size 800x500 with 1 Axes>"
      ]
     },
     "metadata": {},
     "output_type": "display_data"
    }
   ],
   "source": [
    "plot_model(best_model, plot='feature')"
   ]
  },
  {
   "cell_type": "code",
   "execution_count": 19,
   "id": "79e34840-9a47-486f-a648-6d5d16d73b89",
   "metadata": {},
   "outputs": [
    {
     "data": {
      "image/png": "[encoded data removed]",
      "text/plain": [
       "<Figure size 576x396 with 1 Axes>"
      ]
     },
     "metadata": {},
     "output_type": "display_data"
    }
   ],
   "source": [
    "plot_model(best_model, plot='confusion_matrix')"
   ]
  },
  {
   "cell_type": "markdown",
   "id": "a439108b-7911-4384-b089-f7b31c825192",
   "metadata": {},
   "source": [
    "## Observations\n",
    "Here you can document some ideas on the results from above"
   ]
  },
  {
   "cell_type": "code",
   "execution_count": null,
   "id": "ba105685-1873-4a6a-b739-cd2974c7a36f",
   "metadata": {},
   "outputs": [],
   "source": []
  }
 ],
 "metadata": {
  "kernelspec": {
   "display_name": "Python 3 (ipykernel)",
   "language": "python",
   "name": "python3"
  },
  "language_info": {
   "codemirror_mode": {
    "name": "ipython",
    "version": 3
   },
   "file_extension": ".py",
   "mimetype": "text/x-python",
   "name": "python",
   "nbconvert_exporter": "python",
   "pygments_lexer": "ipython3",
   "version": "3.9.4"
  }
 },
 "nbformat": 4,
 "nbformat_minor": 5
}
