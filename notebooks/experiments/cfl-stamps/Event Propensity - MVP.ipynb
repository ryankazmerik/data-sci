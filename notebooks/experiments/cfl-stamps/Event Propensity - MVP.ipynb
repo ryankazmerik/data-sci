{
 "cells": [
  {
   "cell_type": "markdown",
   "metadata": {},
   "source": [
    "# Calgary Stampeders - Event Propensity MVP\n",
    "* StellarAlgo Data Science\n",
    "* Nakisa Rad & Ryan Kazmerik\n",
    "* May 26, 2022"
   ]
  },
  {
   "cell_type": "markdown",
   "metadata": {},
   "source": [
    "## Hypothesis\n",
    "We think that using our Stellar Event Propensity model, we can produce a list of fans that have higher probability to purchase a individual ticket to a game based on their previous purchasing and engagement behaviour."
   ]
  },
  {
   "cell_type": "markdown",
   "metadata": {},
   "source": [
    "## Experiment\n",
    "This section details our experiment including querying data, data transformations, feature selection and modelling."
   ]
  },
  {
   "cell_type": "code",
   "execution_count": 2,
   "metadata": {},
   "outputs": [],
   "source": [
    "import boto3\n",
    "import getpass\n",
    "import pyodbc\n",
    "import pandas as pd\n",
    "import psycopg2\n",
    "import matplotlib.pyplot as plt\n",
    "\n",
    "from pycaret.classification import *\n",
    "\n",
    "pd.options.display.max_columns = 100\n",
    "pd.options.display.max_rows = 100"
   ]
  },
  {
   "cell_type": "markdown",
   "metadata": {},
   "source": [
    "### Let's connect to MSSQL and run a stored proc to get our dataset:"
   ]
  },
  {
   "cell_type": "code",
   "execution_count": 3,
   "metadata": {},
   "outputs": [
    {
     "name": "stdin",
     "output_type": "stream",
     "text": [
      "Enter your password ··················\n"
     ]
    }
   ],
   "source": [
    "# connect to SQL Server.\n",
    "SERVER = '34.206.73.189' \n",
    "DATABASE = 'datascience' \n",
    "USERNAME = 'dsAdminWrite' \n",
    "PASSWORD = getpass.getpass(prompt='Enter your password')\n",
    "CNXN = pyodbc.connect('DRIVER={ODBC Driver 17 for SQL Server};SERVER='+SERVER+';DATABASE='+DATABASE+';UID='+USERNAME+';PWD='+ PASSWORD)"
   ]
  },
  {
   "cell_type": "code",
   "execution_count": 4,
   "metadata": {},
   "outputs": [
    {
     "data": {
      "text/plain": [
       "(16924, 17)"
      ]
     },
     "execution_count": 4,
     "metadata": {},
     "output_type": "execute_result"
    }
   ],
   "source": [
    "lkupclientid = 35 # stamps\n",
    "cursor = CNXN.cursor()\n",
    "\n",
    "storedProc = (\n",
    "    f\"\"\"Exec [stlrCFL].[ds].[PropensityEventTraining] {lkupclientid}\"\"\"\n",
    ")\n",
    "\n",
    "df = pd.read_sql(storedProc, CNXN)\n",
    "\n",
    "CNXN.commit()\n",
    "cursor.close()\n",
    "\n",
    "df.shape"
   ]
  },
  {
   "cell_type": "code",
   "execution_count": 5,
   "metadata": {},
   "outputs": [
    {
     "name": "stdout",
     "output_type": "stream",
     "text": [
      "<class 'pandas.core.frame.DataFrame'>\n",
      "RangeIndex: 16924 entries, 0 to 16923\n",
      "Data columns (total 17 columns):\n",
      " #   Column               Non-Null Count  Dtype         \n",
      "---  ------               --------------  -----         \n",
      " 0   daysOut              16924 non-null  object        \n",
      " 1   minDaysOut           16924 non-null  int64         \n",
      " 2   maxDaysOut           10459 non-null  float64       \n",
      " 3   dimCustomerMasterId  16924 non-null  int64         \n",
      " 4   recent_openRate      16924 non-null  float64       \n",
      " 5   recent_clickRate     16924 non-null  float64       \n",
      " 6   eventDate            16924 non-null  datetime64[ns]\n",
      " 7   eventName            16924 non-null  object        \n",
      " 8   inMarket             14163 non-null  object        \n",
      " 9   distanceToVenue      14163 non-null  float64       \n",
      " 10  tenure               16924 non-null  int64         \n",
      " 11  did_purchase         16924 non-null  int64         \n",
      " 12  events_purchased     16924 non-null  int64         \n",
      " 13  frequency_opponent   16924 non-null  float64       \n",
      " 14  frequency_eventDay   16924 non-null  float64       \n",
      " 15  frequency_eventTime  16924 non-null  float64       \n",
      " 16  count_merchOwned     16924 non-null  int64         \n",
      "dtypes: datetime64[ns](1), float64(7), int64(6), object(3)\n",
      "memory usage: 2.2+ MB\n"
     ]
    }
   ],
   "source": [
    "df.info()"
   ]
  },
  {
   "cell_type": "code",
   "execution_count": 6,
   "metadata": {},
   "outputs": [
    {
     "name": "stdout",
     "output_type": "stream",
     "text": [
      "Data for Modeling: (14385, 13)\n",
      "Unseen Data For Predictions: (2539, 13)\n",
      "\n"
     ]
    }
   ],
   "source": [
    "# choose the features for the stellar base retention model\n",
    "features = [\n",
    "                \"daysOut\",\n",
    "                #\"minDaysOut\",\n",
    "                #\"maxDaysOut\",\n",
    "                \"dimCustomerMasterId\",\n",
    "                \"recent_openRate\",\n",
    "                \"recent_clickRate\",\n",
    "                \"eventDate\",\n",
    "                #\"eventName\",\n",
    "                \"inMarket\",\n",
    "                \"distanceToVenue\",\n",
    "                \"tenure\",\n",
    "                \"did_purchase\",\n",
    "                \"events_purchased\",\n",
    "                \"frequency_opponent\",\n",
    "                \"frequency_eventDay\",\n",
    "                \"frequency_eventTime\"\n",
    "                #\"count_merchOwned\"\n",
    "]\n",
    "\n",
    "# copy your main dataframe\n",
    "df_dataset = df\n",
    "\n",
    "#creating the training and evaluation dataframe\n",
    "df_dataset = df_dataset[features]\n",
    "\n",
    "df_train = df_dataset.sample(frac=0.85, random_state=786)\n",
    "df_eval = df_dataset.drop(df_train.index)\n",
    "\n",
    "df_train.reset_index(drop=True, inplace=True)\n",
    "df_eval.reset_index(drop=True, inplace=True)\n",
    "\n",
    "# print out the number of records for training and eval\n",
    "print('Data for Modeling: ' + str(df_train.shape))\n",
    "print('Unseen Data For Predictions: ' + str(df_eval.shape), end=\"\\n\\n\")"
   ]
  },
  {
   "cell_type": "markdown",
   "metadata": {},
   "source": [
    "### Now we can model the data using a binary classification prediction for the did_purchase field to see how likely a customer is to re-purchase."
   ]
  },
  {
   "cell_type": "code",
   "execution_count": 7,
   "metadata": {},
   "outputs": [],
   "source": [
    "setup(\n",
    "    data= df_train, \n",
    "    target=\"did_purchase\", \n",
    "    train_size = 0.85,\n",
    "    data_split_shuffle=True,\n",
    "    ignore_features=[\"dimCustomerMasterId\"],\n",
    "    silent=True,\n",
    "    verbose=False,\n",
    "    numeric_features=[\n",
    "                #\"minDaysOut\",\n",
    "               # \"maxDaysOut\",\n",
    "                \"recent_openRate\",\n",
    "                \"recent_clickRate\",\n",
    "                \"distanceToVenue\",\n",
    "                \"tenure\",\n",
    "                \"events_purchased\",\n",
    "                \"frequency_opponent\",\n",
    "                \"frequency_eventDay\",\n",
    "                \"frequency_eventTime\"\n",
    "                #\"count_merchOwned\"\n",
    "    ]\n",
    ");"
   ]
  },
  {
   "cell_type": "code",
   "execution_count": 8,
   "metadata": {},
   "outputs": [
    {
     "data": {
      "text/html": [
       "<style  type=\"text/css\" >\n",
       "    #T_bf96d_ th {\n",
       "          text-align: left;\n",
       "    }#T_bf96d_row0_col0,#T_bf96d_row0_col3,#T_bf96d_row1_col0,#T_bf96d_row1_col1,#T_bf96d_row1_col2,#T_bf96d_row1_col3,#T_bf96d_row1_col4,#T_bf96d_row1_col5,#T_bf96d_row1_col6,#T_bf96d_row1_col7,#T_bf96d_row2_col0,#T_bf96d_row2_col1,#T_bf96d_row2_col2,#T_bf96d_row2_col4,#T_bf96d_row2_col5,#T_bf96d_row2_col6,#T_bf96d_row2_col7,#T_bf96d_row3_col0,#T_bf96d_row3_col1,#T_bf96d_row3_col2,#T_bf96d_row3_col3,#T_bf96d_row3_col4,#T_bf96d_row3_col5,#T_bf96d_row3_col6,#T_bf96d_row3_col7,#T_bf96d_row4_col0,#T_bf96d_row4_col1,#T_bf96d_row4_col2,#T_bf96d_row4_col3,#T_bf96d_row4_col4,#T_bf96d_row4_col5,#T_bf96d_row4_col6,#T_bf96d_row4_col7,#T_bf96d_row5_col0,#T_bf96d_row5_col1,#T_bf96d_row5_col2,#T_bf96d_row5_col3,#T_bf96d_row5_col4,#T_bf96d_row5_col5,#T_bf96d_row5_col6,#T_bf96d_row5_col7{\n",
       "            text-align:  left;\n",
       "            text-align:  left;\n",
       "        }#T_bf96d_row0_col1,#T_bf96d_row0_col2,#T_bf96d_row0_col4,#T_bf96d_row0_col5,#T_bf96d_row0_col6,#T_bf96d_row0_col7,#T_bf96d_row2_col3{\n",
       "            text-align:  left;\n",
       "            text-align:  left;\n",
       "            background-color:  yellow;\n",
       "        }#T_bf96d_row0_col8{\n",
       "            text-align:  left;\n",
       "            text-align:  left;\n",
       "            background-color:  yellow;\n",
       "            background-color:  lightgrey;\n",
       "        }#T_bf96d_row1_col8,#T_bf96d_row2_col8,#T_bf96d_row3_col8,#T_bf96d_row4_col8,#T_bf96d_row5_col8{\n",
       "            text-align:  left;\n",
       "            text-align:  left;\n",
       "            background-color:  lightgrey;\n",
       "        }</style><table id=\"T_bf96d_\" ><thead>    <tr>        <th class=\"blank level0\" ></th>        <th class=\"col_heading level0 col0\" >Model</th>        <th class=\"col_heading level0 col1\" >Accuracy</th>        <th class=\"col_heading level0 col2\" >AUC</th>        <th class=\"col_heading level0 col3\" >Recall</th>        <th class=\"col_heading level0 col4\" >Prec.</th>        <th class=\"col_heading level0 col5\" >F1</th>        <th class=\"col_heading level0 col6\" >Kappa</th>        <th class=\"col_heading level0 col7\" >MCC</th>        <th class=\"col_heading level0 col8\" >TT (Sec)</th>    </tr></thead><tbody>\n",
       "                <tr>\n",
       "                        <th id=\"T_bf96d_level0_row0\" class=\"row_heading level0 row0\" >lightgbm</th>\n",
       "                        <td id=\"T_bf96d_row0_col0\" class=\"data row0 col0\" >Light Gradient Boosting Machine</td>\n",
       "                        <td id=\"T_bf96d_row0_col1\" class=\"data row0 col1\" >0.7320</td>\n",
       "                        <td id=\"T_bf96d_row0_col2\" class=\"data row0 col2\" >0.8130</td>\n",
       "                        <td id=\"T_bf96d_row0_col3\" class=\"data row0 col3\" >0.7078</td>\n",
       "                        <td id=\"T_bf96d_row0_col4\" class=\"data row0 col4\" >0.7431</td>\n",
       "                        <td id=\"T_bf96d_row0_col5\" class=\"data row0 col5\" >0.7250</td>\n",
       "                        <td id=\"T_bf96d_row0_col6\" class=\"data row0 col6\" >0.4639</td>\n",
       "                        <td id=\"T_bf96d_row0_col7\" class=\"data row0 col7\" >0.4645</td>\n",
       "                        <td id=\"T_bf96d_row0_col8\" class=\"data row0 col8\" >0.0670</td>\n",
       "            </tr>\n",
       "            <tr>\n",
       "                        <th id=\"T_bf96d_level0_row1\" class=\"row_heading level0 row1\" >gbc</th>\n",
       "                        <td id=\"T_bf96d_row1_col0\" class=\"data row1 col0\" >Gradient Boosting Classifier</td>\n",
       "                        <td id=\"T_bf96d_row1_col1\" class=\"data row1 col1\" >0.7227</td>\n",
       "                        <td id=\"T_bf96d_row1_col2\" class=\"data row1 col2\" >0.8041</td>\n",
       "                        <td id=\"T_bf96d_row1_col3\" class=\"data row1 col3\" >0.7013</td>\n",
       "                        <td id=\"T_bf96d_row1_col4\" class=\"data row1 col4\" >0.7322</td>\n",
       "                        <td id=\"T_bf96d_row1_col5\" class=\"data row1 col5\" >0.7163</td>\n",
       "                        <td id=\"T_bf96d_row1_col6\" class=\"data row1 col6\" >0.4454</td>\n",
       "                        <td id=\"T_bf96d_row1_col7\" class=\"data row1 col7\" >0.4459</td>\n",
       "                        <td id=\"T_bf96d_row1_col8\" class=\"data row1 col8\" >0.2680</td>\n",
       "            </tr>\n",
       "            <tr>\n",
       "                        <th id=\"T_bf96d_level0_row2\" class=\"row_heading level0 row2\" >xgboost</th>\n",
       "                        <td id=\"T_bf96d_row2_col0\" class=\"data row2 col0\" >Extreme Gradient Boosting</td>\n",
       "                        <td id=\"T_bf96d_row2_col1\" class=\"data row2 col1\" >0.7218</td>\n",
       "                        <td id=\"T_bf96d_row2_col2\" class=\"data row2 col2\" >0.8028</td>\n",
       "                        <td id=\"T_bf96d_row2_col3\" class=\"data row2 col3\" >0.7093</td>\n",
       "                        <td id=\"T_bf96d_row2_col4\" class=\"data row2 col4\" >0.7269</td>\n",
       "                        <td id=\"T_bf96d_row2_col5\" class=\"data row2 col5\" >0.7179</td>\n",
       "                        <td id=\"T_bf96d_row2_col6\" class=\"data row2 col6\" >0.4437</td>\n",
       "                        <td id=\"T_bf96d_row2_col7\" class=\"data row2 col7\" >0.4439</td>\n",
       "                        <td id=\"T_bf96d_row2_col8\" class=\"data row2 col8\" >0.7240</td>\n",
       "            </tr>\n",
       "            <tr>\n",
       "                        <th id=\"T_bf96d_level0_row3\" class=\"row_heading level0 row3\" >rf</th>\n",
       "                        <td id=\"T_bf96d_row3_col0\" class=\"data row3 col0\" >Random Forest Classifier</td>\n",
       "                        <td id=\"T_bf96d_row3_col1\" class=\"data row3 col1\" >0.6992</td>\n",
       "                        <td id=\"T_bf96d_row3_col2\" class=\"data row3 col2\" >0.7799</td>\n",
       "                        <td id=\"T_bf96d_row3_col3\" class=\"data row3 col3\" >0.6836</td>\n",
       "                        <td id=\"T_bf96d_row3_col4\" class=\"data row3 col4\" >0.7049</td>\n",
       "                        <td id=\"T_bf96d_row3_col5\" class=\"data row3 col5\" >0.6940</td>\n",
       "                        <td id=\"T_bf96d_row3_col6\" class=\"data row3 col6\" >0.3983</td>\n",
       "                        <td id=\"T_bf96d_row3_col7\" class=\"data row3 col7\" >0.3986</td>\n",
       "                        <td id=\"T_bf96d_row3_col8\" class=\"data row3 col8\" >0.2670</td>\n",
       "            </tr>\n",
       "            <tr>\n",
       "                        <th id=\"T_bf96d_level0_row4\" class=\"row_heading level0 row4\" >lr</th>\n",
       "                        <td id=\"T_bf96d_row4_col0\" class=\"data row4 col0\" >Logistic Regression</td>\n",
       "                        <td id=\"T_bf96d_row4_col1\" class=\"data row4 col1\" >0.6933</td>\n",
       "                        <td id=\"T_bf96d_row4_col2\" class=\"data row4 col2\" >0.7646</td>\n",
       "                        <td id=\"T_bf96d_row4_col3\" class=\"data row4 col3\" >0.6595</td>\n",
       "                        <td id=\"T_bf96d_row4_col4\" class=\"data row4 col4\" >0.7065</td>\n",
       "                        <td id=\"T_bf96d_row4_col5\" class=\"data row4 col5\" >0.6822</td>\n",
       "                        <td id=\"T_bf96d_row4_col6\" class=\"data row4 col6\" >0.3865</td>\n",
       "                        <td id=\"T_bf96d_row4_col7\" class=\"data row4 col7\" >0.3874</td>\n",
       "                        <td id=\"T_bf96d_row4_col8\" class=\"data row4 col8\" >0.1630</td>\n",
       "            </tr>\n",
       "            <tr>\n",
       "                        <th id=\"T_bf96d_level0_row5\" class=\"row_heading level0 row5\" >dt</th>\n",
       "                        <td id=\"T_bf96d_row5_col0\" class=\"data row5 col0\" >Decision Tree Classifier</td>\n",
       "                        <td id=\"T_bf96d_row5_col1\" class=\"data row5 col1\" >0.6482</td>\n",
       "                        <td id=\"T_bf96d_row5_col2\" class=\"data row5 col2\" >0.6484</td>\n",
       "                        <td id=\"T_bf96d_row5_col3\" class=\"data row5 col3\" >0.6392</td>\n",
       "                        <td id=\"T_bf96d_row5_col4\" class=\"data row5 col4\" >0.6503</td>\n",
       "                        <td id=\"T_bf96d_row5_col5\" class=\"data row5 col5\" >0.6445</td>\n",
       "                        <td id=\"T_bf96d_row5_col6\" class=\"data row5 col6\" >0.2964</td>\n",
       "                        <td id=\"T_bf96d_row5_col7\" class=\"data row5 col7\" >0.2966</td>\n",
       "                        <td id=\"T_bf96d_row5_col8\" class=\"data row5 col8\" >0.3430</td>\n",
       "            </tr>\n",
       "    </tbody></table>"
      ],
      "text/plain": [
       "<pandas.io.formats.style.Styler at 0x7fd01ba5a8e0>"
      ]
     },
     "metadata": {},
     "output_type": "display_data"
    }
   ],
   "source": [
    "model_matrix = compare_models(\n",
    "    fold=10,\n",
    "    include=[\"dt\", \"gbc\", \"lightgbm\", \"lr\", \"rf\", \"xgboost\"]\n",
    ")"
   ]
  },
  {
   "cell_type": "code",
   "execution_count": 9,
   "metadata": {},
   "outputs": [
    {
     "data": {
      "text/html": [
       "<style  type=\"text/css\" >\n",
       "#T_1196a_row10_col0,#T_1196a_row10_col1,#T_1196a_row10_col2,#T_1196a_row10_col3,#T_1196a_row10_col4,#T_1196a_row10_col5,#T_1196a_row10_col6{\n",
       "            background:  yellow;\n",
       "        }</style><table id=\"T_1196a_\" ><thead>    <tr>        <th class=\"blank level0\" ></th>        <th class=\"col_heading level0 col0\" >Accuracy</th>        <th class=\"col_heading level0 col1\" >AUC</th>        <th class=\"col_heading level0 col2\" >Recall</th>        <th class=\"col_heading level0 col3\" >Prec.</th>        <th class=\"col_heading level0 col4\" >F1</th>        <th class=\"col_heading level0 col5\" >Kappa</th>        <th class=\"col_heading level0 col6\" >MCC</th>    </tr></thead><tbody>\n",
       "                <tr>\n",
       "                        <th id=\"T_1196a_level0_row0\" class=\"row_heading level0 row0\" >0</th>\n",
       "                        <td id=\"T_1196a_row0_col0\" class=\"data row0 col0\" >0.7310</td>\n",
       "                        <td id=\"T_1196a_row0_col1\" class=\"data row0 col1\" >0.8237</td>\n",
       "                        <td id=\"T_1196a_row0_col2\" class=\"data row0 col2\" >0.7016</td>\n",
       "                        <td id=\"T_1196a_row0_col3\" class=\"data row0 col3\" >0.7443</td>\n",
       "                        <td id=\"T_1196a_row0_col4\" class=\"data row0 col4\" >0.7224</td>\n",
       "                        <td id=\"T_1196a_row0_col5\" class=\"data row0 col5\" >0.4619</td>\n",
       "                        <td id=\"T_1196a_row0_col6\" class=\"data row0 col6\" >0.4627</td>\n",
       "            </tr>\n",
       "            <tr>\n",
       "                        <th id=\"T_1196a_level0_row1\" class=\"row_heading level0 row1\" >1</th>\n",
       "                        <td id=\"T_1196a_row1_col0\" class=\"data row1 col0\" >0.7195</td>\n",
       "                        <td id=\"T_1196a_row1_col1\" class=\"data row1 col1\" >0.7994</td>\n",
       "                        <td id=\"T_1196a_row1_col2\" class=\"data row1 col2\" >0.6984</td>\n",
       "                        <td id=\"T_1196a_row1_col3\" class=\"data row1 col3\" >0.7282</td>\n",
       "                        <td id=\"T_1196a_row1_col4\" class=\"data row1 col4\" >0.7130</td>\n",
       "                        <td id=\"T_1196a_row1_col5\" class=\"data row1 col5\" >0.4390</td>\n",
       "                        <td id=\"T_1196a_row1_col6\" class=\"data row1 col6\" >0.4394</td>\n",
       "            </tr>\n",
       "            <tr>\n",
       "                        <th id=\"T_1196a_level0_row2\" class=\"row_heading level0 row2\" >2</th>\n",
       "                        <td id=\"T_1196a_row2_col0\" class=\"data row2 col0\" >0.7326</td>\n",
       "                        <td id=\"T_1196a_row2_col1\" class=\"data row2 col1\" >0.8185</td>\n",
       "                        <td id=\"T_1196a_row2_col2\" class=\"data row2 col2\" >0.7066</td>\n",
       "                        <td id=\"T_1196a_row2_col3\" class=\"data row2 col3\" >0.7444</td>\n",
       "                        <td id=\"T_1196a_row2_col4\" class=\"data row2 col4\" >0.7250</td>\n",
       "                        <td id=\"T_1196a_row2_col5\" class=\"data row2 col5\" >0.4652</td>\n",
       "                        <td id=\"T_1196a_row2_col6\" class=\"data row2 col6\" >0.4658</td>\n",
       "            </tr>\n",
       "            <tr>\n",
       "                        <th id=\"T_1196a_level0_row3\" class=\"row_heading level0 row3\" >3</th>\n",
       "                        <td id=\"T_1196a_row3_col0\" class=\"data row3 col0\" >0.7326</td>\n",
       "                        <td id=\"T_1196a_row3_col1\" class=\"data row3 col1\" >0.7992</td>\n",
       "                        <td id=\"T_1196a_row3_col2\" class=\"data row3 col2\" >0.7115</td>\n",
       "                        <td id=\"T_1196a_row3_col3\" class=\"data row3 col3\" >0.7419</td>\n",
       "                        <td id=\"T_1196a_row3_col4\" class=\"data row3 col4\" >0.7264</td>\n",
       "                        <td id=\"T_1196a_row3_col5\" class=\"data row3 col5\" >0.4652</td>\n",
       "                        <td id=\"T_1196a_row3_col6\" class=\"data row3 col6\" >0.4656</td>\n",
       "            </tr>\n",
       "            <tr>\n",
       "                        <th id=\"T_1196a_level0_row4\" class=\"row_heading level0 row4\" >4</th>\n",
       "                        <td id=\"T_1196a_row4_col0\" class=\"data row4 col0\" >0.7318</td>\n",
       "                        <td id=\"T_1196a_row4_col1\" class=\"data row4 col1\" >0.8243</td>\n",
       "                        <td id=\"T_1196a_row4_col2\" class=\"data row4 col2\" >0.6956</td>\n",
       "                        <td id=\"T_1196a_row4_col3\" class=\"data row4 col3\" >0.7496</td>\n",
       "                        <td id=\"T_1196a_row4_col4\" class=\"data row4 col4\" >0.7216</td>\n",
       "                        <td id=\"T_1196a_row4_col5\" class=\"data row4 col5\" >0.4636</td>\n",
       "                        <td id=\"T_1196a_row4_col6\" class=\"data row4 col6\" >0.4648</td>\n",
       "            </tr>\n",
       "            <tr>\n",
       "                        <th id=\"T_1196a_level0_row5\" class=\"row_heading level0 row5\" >5</th>\n",
       "                        <td id=\"T_1196a_row5_col0\" class=\"data row5 col0\" >0.7441</td>\n",
       "                        <td id=\"T_1196a_row5_col1\" class=\"data row5 col1\" >0.8103</td>\n",
       "                        <td id=\"T_1196a_row5_col2\" class=\"data row5 col2\" >0.7234</td>\n",
       "                        <td id=\"T_1196a_row5_col3\" class=\"data row5 col3\" >0.7543</td>\n",
       "                        <td id=\"T_1196a_row5_col4\" class=\"data row5 col4\" >0.7385</td>\n",
       "                        <td id=\"T_1196a_row5_col5\" class=\"data row5 col5\" >0.4881</td>\n",
       "                        <td id=\"T_1196a_row5_col6\" class=\"data row5 col6\" >0.4885</td>\n",
       "            </tr>\n",
       "            <tr>\n",
       "                        <th id=\"T_1196a_level0_row6\" class=\"row_heading level0 row6\" >6</th>\n",
       "                        <td id=\"T_1196a_row6_col0\" class=\"data row6 col0\" >0.7367</td>\n",
       "                        <td id=\"T_1196a_row6_col1\" class=\"data row6 col1\" >0.8130</td>\n",
       "                        <td id=\"T_1196a_row6_col2\" class=\"data row6 col2\" >0.7152</td>\n",
       "                        <td id=\"T_1196a_row6_col3\" class=\"data row6 col3\" >0.7470</td>\n",
       "                        <td id=\"T_1196a_row6_col4\" class=\"data row6 col4\" >0.7308</td>\n",
       "                        <td id=\"T_1196a_row6_col5\" class=\"data row6 col5\" >0.4734</td>\n",
       "                        <td id=\"T_1196a_row6_col6\" class=\"data row6 col6\" >0.4738</td>\n",
       "            </tr>\n",
       "            <tr>\n",
       "                        <th id=\"T_1196a_level0_row7\" class=\"row_heading level0 row7\" >7</th>\n",
       "                        <td id=\"T_1196a_row7_col0\" class=\"data row7 col0\" >0.7373</td>\n",
       "                        <td id=\"T_1196a_row7_col1\" class=\"data row7 col1\" >0.8162</td>\n",
       "                        <td id=\"T_1196a_row7_col2\" class=\"data row7 col2\" >0.7033</td>\n",
       "                        <td id=\"T_1196a_row7_col3\" class=\"data row7 col3\" >0.7540</td>\n",
       "                        <td id=\"T_1196a_row7_col4\" class=\"data row7 col4\" >0.7277</td>\n",
       "                        <td id=\"T_1196a_row7_col5\" class=\"data row7 col5\" >0.4746</td>\n",
       "                        <td id=\"T_1196a_row7_col6\" class=\"data row7 col6\" >0.4756</td>\n",
       "            </tr>\n",
       "            <tr>\n",
       "                        <th id=\"T_1196a_level0_row8\" class=\"row_heading level0 row8\" >8</th>\n",
       "                        <td id=\"T_1196a_row8_col0\" class=\"data row8 col0\" >0.7226</td>\n",
       "                        <td id=\"T_1196a_row8_col1\" class=\"data row8 col1\" >0.8176</td>\n",
       "                        <td id=\"T_1196a_row8_col2\" class=\"data row8 col2\" >0.7016</td>\n",
       "                        <td id=\"T_1196a_row8_col3\" class=\"data row8 col3\" >0.7316</td>\n",
       "                        <td id=\"T_1196a_row8_col4\" class=\"data row8 col4\" >0.7163</td>\n",
       "                        <td id=\"T_1196a_row8_col5\" class=\"data row8 col5\" >0.4451</td>\n",
       "                        <td id=\"T_1196a_row8_col6\" class=\"data row8 col6\" >0.4455</td>\n",
       "            </tr>\n",
       "            <tr>\n",
       "                        <th id=\"T_1196a_level0_row9\" class=\"row_heading level0 row9\" >9</th>\n",
       "                        <td id=\"T_1196a_row9_col0\" class=\"data row9 col0\" >0.7316</td>\n",
       "                        <td id=\"T_1196a_row9_col1\" class=\"data row9 col1\" >0.8084</td>\n",
       "                        <td id=\"T_1196a_row9_col2\" class=\"data row9 col2\" >0.7213</td>\n",
       "                        <td id=\"T_1196a_row9_col3\" class=\"data row9 col3\" >0.7358</td>\n",
       "                        <td id=\"T_1196a_row9_col4\" class=\"data row9 col4\" >0.7285</td>\n",
       "                        <td id=\"T_1196a_row9_col5\" class=\"data row9 col5\" >0.4632</td>\n",
       "                        <td id=\"T_1196a_row9_col6\" class=\"data row9 col6\" >0.4632</td>\n",
       "            </tr>\n",
       "            <tr>\n",
       "                        <th id=\"T_1196a_level0_row10\" class=\"row_heading level0 row10\" >Mean</th>\n",
       "                        <td id=\"T_1196a_row10_col0\" class=\"data row10 col0\" >0.7320</td>\n",
       "                        <td id=\"T_1196a_row10_col1\" class=\"data row10 col1\" >0.8130</td>\n",
       "                        <td id=\"T_1196a_row10_col2\" class=\"data row10 col2\" >0.7078</td>\n",
       "                        <td id=\"T_1196a_row10_col3\" class=\"data row10 col3\" >0.7431</td>\n",
       "                        <td id=\"T_1196a_row10_col4\" class=\"data row10 col4\" >0.7250</td>\n",
       "                        <td id=\"T_1196a_row10_col5\" class=\"data row10 col5\" >0.4639</td>\n",
       "                        <td id=\"T_1196a_row10_col6\" class=\"data row10 col6\" >0.4645</td>\n",
       "            </tr>\n",
       "            <tr>\n",
       "                        <th id=\"T_1196a_level0_row11\" class=\"row_heading level0 row11\" >SD</th>\n",
       "                        <td id=\"T_1196a_row11_col0\" class=\"data row11 col0\" >0.0066</td>\n",
       "                        <td id=\"T_1196a_row11_col1\" class=\"data row11 col1\" >0.0084</td>\n",
       "                        <td id=\"T_1196a_row11_col2\" class=\"data row11 col2\" >0.0091</td>\n",
       "                        <td id=\"T_1196a_row11_col3\" class=\"data row11 col3\" >0.0084</td>\n",
       "                        <td id=\"T_1196a_row11_col4\" class=\"data row11 col4\" >0.0069</td>\n",
       "                        <td id=\"T_1196a_row11_col5\" class=\"data row11 col5\" >0.0133</td>\n",
       "                        <td id=\"T_1196a_row11_col6\" class=\"data row11 col6\" >0.0134</td>\n",
       "            </tr>\n",
       "    </tbody></table>"
      ],
      "text/plain": [
       "<pandas.io.formats.style.Styler at 0x7fd01df13820>"
      ]
     },
     "metadata": {},
     "output_type": "display_data"
    }
   ],
   "source": [
    "best_model = create_model(model_matrix)\n",
    "final_model = finalize_model(best_model)"
   ]
  },
  {
   "cell_type": "code",
   "execution_count": 10,
   "metadata": {},
   "outputs": [
    {
     "data": {
      "image/png": "[encoded data removed]",
      "text/plain": [
       "<Figure size 800x500 with 1 Axes>"
      ]
     },
     "metadata": {},
     "output_type": "display_data"
    }
   ],
   "source": [
    "plot_model(final_model, plot='feature')"
   ]
  },
  {
   "cell_type": "code",
   "execution_count": 11,
   "metadata": {},
   "outputs": [
    {
     "data": {
      "image/png": "[encoded data removed]",
      "text/plain": [
       "<Figure size 576x396 with 1 Axes>"
      ]
     },
     "metadata": {},
     "output_type": "display_data"
    }
   ],
   "source": [
    "plot_model(final_model, plot='confusion_matrix')"
   ]
  },
  {
   "cell_type": "markdown",
   "metadata": {},
   "source": [
    "### To connect to RedShift, we have to tell AWS which profile we'd like to login to, this will send us for a browser authentication trip:"
   ]
  },
  {
   "cell_type": "code",
   "execution_count": 12,
   "metadata": {},
   "outputs": [
    {
     "name": "stdout",
     "output_type": "stream",
     "text": [
      "Attempting to automatically open the SSO authorization page in your default browser.\n",
      "If the browser does not open or you wish to use a different device to authorize this request, open the following URL:\n",
      "\n",
      "https://device.sso.us-east-1.amazonaws.com/\n",
      "\n",
      "Then enter the code:\n",
      "\n",
      "MXDN-DCPZ\n",
      "Successully logged into Start URL: https://stellaralgo.awsapps.com/start#/\n"
     ]
    }
   ],
   "source": [
    "! aws sso login --profile Stellaralgo-DataScienceAdmin"
   ]
  },
  {
   "cell_type": "markdown",
   "metadata": {},
   "source": [
    "### Now we can create a session and client to RedShift, and create a new connection using Psycopg2:"
   ]
  },
  {
   "cell_type": "code",
   "execution_count": 13,
   "metadata": {},
   "outputs": [
    {
     "name": "stdout",
     "output_type": "stream",
     "text": [
      "GOT CONNECTION TO DATABASE: qa-app stlrcfl\n"
     ]
    }
   ],
   "source": [
    "session = boto3.session.Session(profile_name='Stellaralgo-DataScienceAdmin')\n",
    "client = session.client('redshift')\n",
    "\n",
    "CLUSTER = 'qa-app'\n",
    "DBNAME = 'stlrcfl'\n",
    "\n",
    "creds = client.get_cluster_credentials(                \n",
    "    ClusterIdentifier = CLUSTER,\n",
    "    DbUser = 'admin',\n",
    "    DbName = DBNAME,\n",
    "    DbGroups = ['admin_group'],\n",
    "    AutoCreate=True\n",
    ")\n",
    "\n",
    "# create a connection & cursor and call the stored procedure\n",
    "conn = psycopg2.connect(\n",
    "    host = 'qa-app.ctjussvyafp4.us-east-1.redshift.amazonaws.com',\n",
    "    port = 5439,\n",
    "    user = creds['DbUser'],\n",
    "    password = creds['DbPassword'],\n",
    "    database = DBNAME\n",
    ")\n",
    "\n",
    "print(f\"GOT CONNECTION TO DATABASE: {CLUSTER} {DBNAME}\")"
   ]
  },
  {
   "cell_type": "markdown",
   "metadata": {},
   "source": [
    "### First we need to call the stored procedure, which will create a named cursor - then we can query the results produced by the stored proc using that named cursor to create scoring dataframe:"
   ]
  },
  {
   "cell_type": "code",
   "execution_count": 14,
   "metadata": {},
   "outputs": [],
   "source": [
    "# create a list of games dates \n",
    "game_dates= ['2022-06-09','2022-06-25','2022-07-30','2022-08-13','2022-09-05','2022-09-17','2022-10-01','2022-10-14','2022-10-29']\n",
    "\n",
    "predictions =[]\n",
    "for game_date in game_dates:\n",
    "    \n",
    "    cur = conn.cursor()\n",
    "    cur.execute(f\"CALL dw.geteventpropensityscoringmodeldata(35, '{game_date}', 'rkcursor')\")\n",
    "\n",
    "    # create a named cursor based on the cursor name passed in above\n",
    "    named_cursor = conn.cursor('rkcursor')\n",
    "    data = named_cursor.fetchall()\n",
    "\n",
    "    # load the data and columns into a data frame\n",
    "    cols = [row[0] for row in named_cursor.description]\n",
    "    df_scoring = pd.DataFrame(data=data, columns=cols)\n",
    "    df_scoring = df_scoring.fillna(0)\n",
    "    \n",
    "    # get predictions from the model for each game\n",
    "    new_predictions = predict_model(final_model, data=df_scoring, raw_score=True)\n",
    "    predictions.append(new_predictions)\n",
    "    \n",
    "    conn.commit()"
   ]
  },
  {
   "cell_type": "code",
   "execution_count": 15,
   "metadata": {},
   "outputs": [
    {
     "data": {
      "image/png": "[encoded data removed]",
      "text/plain": [
       "<Figure size 576x396 with 9 Axes>"
      ]
     },
     "metadata": {},
     "output_type": "display_data"
    }
   ],
   "source": [
    "\n",
    "for idx, df_game in enumerate(predictions):    \n",
    "    \n",
    "    \n",
    "    plt.subplot(3, 3, idx+1)\n",
    "\n",
    "    event_date = df_game['eventDate'].unique()[0].strftime(\"%m-%d-%Y\")\n",
    "\n",
    "    plt.title(\"Game Date : \" + event_date, fontsize=16)\n",
    "    plt.xlabel('Score')\n",
    "    plt.ylabel('Num Fans')\n",
    "    plt.hist(df_game['Score_1'], bins=20, edgecolor=\"black\")\n",
    "\n",
    "\n",
    "plt.tight_layout()\n",
    "plt.show()"
   ]
  },
  {
   "cell_type": "code",
   "execution_count": 18,
   "metadata": {},
   "outputs": [
    {
     "name": "stdout",
     "output_type": "stream",
     "text": [
      "2022-06-09    83720\n",
      "Name: eventDate, dtype: int64\n",
      "2022-06-25    83720\n",
      "Name: eventDate, dtype: int64\n",
      "2022-07-30    83720\n",
      "Name: eventDate, dtype: int64\n",
      "2022-08-13    83720\n",
      "Name: eventDate, dtype: int64\n",
      "2022-09-05    83720\n",
      "Name: eventDate, dtype: int64\n",
      "2022-09-17    83720\n",
      "Name: eventDate, dtype: int64\n",
      "2022-10-01    83720\n",
      "Name: eventDate, dtype: int64\n",
      "2022-10-14    83720\n",
      "Name: eventDate, dtype: int64\n",
      "2022-10-29    83720\n",
      "Name: eventDate, dtype: int64\n"
     ]
    }
   ],
   "source": [
    "for df_game in predictions:\n",
    "    print(df_game[\"eventDate\"].value_counts().sort_index(ascending=False))"
   ]
  },
  {
   "cell_type": "code",
   "execution_count": 17,
   "metadata": {},
   "outputs": [
    {
     "name": "stdout",
     "output_type": "stream",
     "text": [
      "06-09-2022\n",
      "(-0.001, 0.5]    62969\n",
      "(0.5, 0.8]       19203\n",
      "(0.8, 1.0]        1548\n",
      "Name: Score_1, dtype: int64\n",
      "06-25-2022\n",
      "(-0.001, 0.5]    60613\n",
      "(0.5, 0.8]       19731\n",
      "(0.8, 1.0]        3376\n",
      "Name: Score_1, dtype: int64\n",
      "07-30-2022\n",
      "(-0.001, 0.5]    60773\n",
      "(0.5, 0.8]       20267\n",
      "(0.8, 1.0]        2680\n",
      "Name: Score_1, dtype: int64\n",
      "08-13-2022\n",
      "(-0.001, 0.5]    58954\n",
      "(0.5, 0.8]       21050\n",
      "(0.8, 1.0]        3716\n",
      "Name: Score_1, dtype: int64\n",
      "09-05-2022\n",
      "(-0.001, 0.5]    49442\n",
      "(0.5, 0.8]       30585\n",
      "(0.8, 1.0]        3693\n",
      "Name: Score_1, dtype: int64\n",
      "09-17-2022\n",
      "(-0.001, 0.5]    57628\n",
      "(0.5, 0.8]       21825\n",
      "(0.8, 1.0]        4267\n",
      "Name: Score_1, dtype: int64\n",
      "10-01-2022\n",
      "(-0.001, 0.5]    59640\n",
      "(0.5, 0.8]       20542\n",
      "(0.8, 1.0]        3538\n",
      "Name: Score_1, dtype: int64\n",
      "10-14-2022\n",
      "(-0.001, 0.5]    56120\n",
      "(0.5, 0.8]       25026\n",
      "(0.8, 1.0]        2574\n",
      "Name: Score_1, dtype: int64\n",
      "10-29-2022\n",
      "(-0.001, 0.5]    57278\n",
      "(0.5, 0.8]       21381\n",
      "(0.8, 1.0]        5061\n",
      "Name: Score_1, dtype: int64\n"
     ]
    }
   ],
   "source": [
    "for df_game in predictions:\n",
    "    print(str(df_game['eventDate'].unique()[0].strftime(\"%m-%d-%Y\")) + '\\n' + str(df_game[\"Score_1\"].value_counts(bins=[0, 0.5, 0.8, 1.0])))"
   ]
  },
  {
   "cell_type": "markdown",
   "metadata": {},
   "source": [
    "### Save the results in for each game in a csv file"
   ]
  },
  {
   "cell_type": "code",
   "execution_count": 16,
   "metadata": {},
   "outputs": [],
   "source": [
    "for df_game in predictions:\n",
    "\n",
    "    event_date = df_game['eventDate'].unique()[0].strftime(\"%m-%d-%Y\")\n",
    "    df_game.to_csv(f\"results/stamps_ep_scores_{event_date}.csv\", index=False)"
   ]
  },
  {
   "cell_type": "markdown",
   "metadata": {},
   "source": [
    "## Observations\n",
    "\n",
    "1. How accurate was this model? \n",
    "* The accuracy is 72% \n",
    "\n",
    "2. How many fans scored over 0.80 for the 2022 season?\n",
    "* 06-09-2022 : 3,806 out of 83720\n",
    "* 06-25-2022 : 5,336 out of 83720\n",
    "* 07-30-2022 : 5,717 out of 83720\n",
    "* 08-13-2022 : 7,202 out of 83720\n",
    "* 09-05-2022 : 6,940 out of 83720\n",
    "* 09-17-2022 : 3,288 out of 83720\n",
    "* 10-01-2022 : 8,273 out of 83720\n",
    "* 10-14-2022 : 5,503 out of 83720\n",
    "* 10-29-2022 : 11,898 out of 83720\n",
    "\n",
    "3. What were the most important features in making a correct prediction?\n",
    "* tenure, distanceToVenue, frequency_eventTime are top 3 important features which makes sense.\n"
   ]
  },
  {
   "cell_type": "markdown",
   "metadata": {},
   "source": [
    "## Conclusion"
   ]
  },
  {
   "cell_type": "markdown",
   "metadata": {},
   "source": [
    "Based on our observations above we reccomend using this event propensity model because we get enough number of buyers that have score above 80% for each game that can be useful for Stamps."
   ]
  },
  {
   "cell_type": "code",
   "execution_count": null,
   "metadata": {},
   "outputs": [],
   "source": []
  }
 ],
 "metadata": {
  "interpreter": {
   "hash": "89f48dadab51a6b5b48ffc1a9e043c21cefe67453637c3444f3b86917b8aad16"
  },
  "kernelspec": {
   "display_name": "Python 3 (ipykernel)",
   "language": "python",
   "name": "python3"
  },
  "language_info": {
   "codemirror_mode": {
    "name": "ipython",
    "version": 3
   },
   "file_extension": ".py",
   "mimetype": "text/x-python",
   "name": "python",
   "nbconvert_exporter": "python",
   "pygments_lexer": "ipython3",
   "version": "3.9.4"
  }
 },
 "nbformat": 4,
 "nbformat_minor": 4
}
