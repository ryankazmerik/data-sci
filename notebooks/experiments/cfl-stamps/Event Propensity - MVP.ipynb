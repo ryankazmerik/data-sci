{
 "cells": [
  {
   "cell_type": "markdown",
   "metadata": {},
   "source": [
    "# Calgary Stampeders - Event Propensity MVP\n",
    "* StellarAlgo Data Science\n",
    "* Nakisa Rad & Ryan Kazmerik\n",
    "* May 26, 2022"
   ]
  },
  {
   "cell_type": "markdown",
   "metadata": {},
   "source": [
    "## Hypothesis\n",
    "We think that using our Stellar Event Propensity model, we can produce a list of fans that have higher probability to purchase a individual ticket to a game based on their previous purchasing and engagement behaviour."
   ]
  },
  {
   "cell_type": "markdown",
   "metadata": {},
   "source": [
    "## Experiment\n",
    "This section details our experiment including querying data, data transformations, feature selection and modelling."
   ]
  },
  {
   "cell_type": "code",
   "execution_count": null,
   "metadata": {},
   "outputs": [],
   "source": [
    "import boto3\n",
    "import pandas as pd\n",
    "import psycopg2\n",
    "import matplotlib.pyplot as plt\n",
    "\n",
    "from pycaret.classification import *\n",
    "\n",
    "pd.options.display.max_columns = 100\n",
    "pd.options.display.max_rows = 100"
   ]
  },
  {
   "cell_type": "code",
   "execution_count": null,
   "metadata": {},
   "outputs": [],
   "source": [
    "# get dataset for training from MSSQL stored proc ([ds].[PropensityEventTraining])\n",
    "\n",
    "# convert any numeric fields \n",
    "\n",
    "# create df_train and df_eval datasets\n",
    "\n",
    "# setup your model\n",
    "\n",
    "# test different algorithms for perforamnce & distribution (looking for ~1000 fans between 0.5 and 1.0)\n",
    "\n",
    "# choose best model and finalize model\n",
    "\n",
    "# plot feature importances\n",
    "\n",
    "# plot confusion matrix\n",
    "\n",
    "# create a connection to RedShift\n",
    "\n",
    "# get a list of the 9 stampeder game days\n",
    "\n",
    "# loop through each game day\n",
    "\n",
    "    # get inference dataset for inference from RS stored proc (dw.geteventpropensitymodeldata)\n",
    "\n",
    "    # use the model to make predictions on the inference dataset\n",
    "\n",
    "    # plot histogram of predicted buyers (Score_1)\n",
    "    #(going to have 9 different charts, use subplot to display 3x3 grid)\n",
    "\n",
    "    # export the df_scores dataframe to csv (create a results folder)\n",
    "\n",
    "\n"
   ]
  },
  {
   "cell_type": "markdown",
   "metadata": {},
   "source": [
    "## Observations\n",
    "\n",
    "1. How accurate was this model? \n",
    "2. How many fans scored over 0.80 for the 2022 season?\n",
    "3. What were the most important features in making a correct prediction?"
   ]
  },
  {
   "cell_type": "markdown",
   "metadata": {},
   "source": [
    "## Conclusion"
   ]
  },
  {
   "cell_type": "markdown",
   "metadata": {},
   "source": [
    "Make a recommendation on if and how we should use these scores."
   ]
  },
  {
   "cell_type": "markdown",
   "metadata": {},
   "source": []
  }
 ],
 "metadata": {
  "language_info": {
   "name": "python"
  },
  "orig_nbformat": 4
 },
 "nbformat": 4,
 "nbformat_minor": 2
}
