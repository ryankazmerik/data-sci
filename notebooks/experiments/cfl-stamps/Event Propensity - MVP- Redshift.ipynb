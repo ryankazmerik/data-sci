{
 "cells": [
  {
   "cell_type": "markdown",
   "metadata": {},
   "source": [
    "# Calgary Stampeders - Event Propensity MVP\n",
    "* StellarAlgo Data Science\n",
    "* Nakisa Rad & Ryan Kazmerik\n",
    "* May 26, 2022"
   ]
  },
  {
   "cell_type": "markdown",
   "metadata": {},
   "source": [
    "## Hypothesis\n",
    "We think that using our Stellar Event Propensity model, we can produce a list of fans that have higher probability to purchase a individual ticket to a game based on their previous purchasing and engagement behaviour."
   ]
  },
  {
   "cell_type": "markdown",
   "metadata": {},
   "source": [
    "## Experiment\n",
    "This section details our experiment including querying data, data transformations, feature selection and modelling."
   ]
  },
  {
   "cell_type": "code",
   "execution_count": 117,
   "metadata": {},
   "outputs": [],
   "source": [
    "import boto3\n",
    "import getpass\n",
    "import pyodbc\n",
    "import pandas as pd\n",
    "import psycopg2\n",
    "import matplotlib.pyplot as plt\n",
    "\n",
    "from pycaret.classification import *\n",
    "\n",
    "pd.options.display.max_columns = 100\n",
    "pd.options.display.max_rows = 100"
   ]
  },
  {
   "cell_type": "markdown",
   "metadata": {},
   "source": [
    "### To connect to RedShift, we have to tell AWS which profile we'd like to login to, this will send us for a browser authentication trip:"
   ]
  },
  {
   "cell_type": "code",
   "execution_count": 118,
   "metadata": {},
   "outputs": [
    {
     "name": "stdout",
     "output_type": "stream",
     "text": [
      "Attempting to automatically open the SSO authorization page in your default browser.\n",
      "If the browser does not open or you wish to use a different device to authorize this request, open the following URL:\n",
      "\n",
      "https://device.sso.us-east-1.amazonaws.com/\n",
      "\n",
      "Then enter the code:\n",
      "\n",
      "TFFV-VBBL\n",
      "Successully logged into Start URL: https://stellaralgo.awsapps.com/start#/\n"
     ]
    }
   ],
   "source": [
    "! aws sso login --profile Stellaralgo-DataScienceAdmin"
   ]
  },
  {
   "cell_type": "markdown",
   "metadata": {},
   "source": [
    "### Now we can create a session and client to RedShift, and create a new connection using Psycopg2:"
   ]
  },
  {
   "cell_type": "code",
   "execution_count": 119,
   "metadata": {},
   "outputs": [
    {
     "name": "stdout",
     "output_type": "stream",
     "text": [
      "GOT CONNECTION TO DATABASE: prod-app stlrcfl\n"
     ]
    }
   ],
   "source": [
    "session = boto3.session.Session(profile_name='Stellaralgo-DataScienceAdmin')\n",
    "client = session.client('redshift')\n",
    "\n",
    "CLUSTER = 'prod-app'\n",
    "DBNAME = 'stlrcfl'\n",
    "\n",
    "creds = client.get_cluster_credentials(                \n",
    "    ClusterIdentifier = CLUSTER,\n",
    "    DbUser = 'admin',\n",
    "    DbName = DBNAME,\n",
    "    DbGroups = ['admin_group'],\n",
    "    AutoCreate=True\n",
    ")\n",
    "\n",
    "# create a connection & cursor and call the stored procedure\n",
    "conn = psycopg2.connect(\n",
    "    host = 'prod-app.ctjussvyafp4.us-east-1.redshift.amazonaws.com',\n",
    "    port = 5439,\n",
    "    user = creds['DbUser'],\n",
    "    password = creds['DbPassword'],\n",
    "    database = DBNAME\n",
    ")\n",
    "\n",
    "print(f\"GOT CONNECTION TO DATABASE: {CLUSTER} {DBNAME}\")"
   ]
  },
  {
   "cell_type": "markdown",
   "metadata": {},
   "source": [
    "### Let's connect to Redshift and run a stored proc to get our dataset:"
   ]
  },
  {
   "cell_type": "code",
   "execution_count": 120,
   "metadata": {},
   "outputs": [],
   "source": [
    "cur = conn.cursor()\n",
    "cur.execute(f\"CALL ds.geteventpropensitytrainingdata(35, 2010, 2022, 'rkcursor')\")\n",
    "\n",
    "# create a named cursor based on the cursor name passed in above\n",
    "named_cursor = conn.cursor('rkcursor')\n",
    "data = named_cursor.fetchall()\n",
    "\n",
    "# load the data and columns into a data frame\n",
    "cols = [row[0] for row in named_cursor.description]\n",
    "df = pd.DataFrame(data=data, columns=cols)\n",
    "\n",
    "conn.commit()"
   ]
  },
  {
   "cell_type": "code",
   "execution_count": 121,
   "metadata": {},
   "outputs": [
    {
     "name": "stdout",
     "output_type": "stream",
     "text": [
      "<class 'pandas.core.frame.DataFrame'>\n",
      "RangeIndex: 18028 entries, 0 to 18027\n",
      "Data columns (total 17 columns):\n",
      " #   Column               Non-Null Count  Dtype         \n",
      "---  ------               --------------  -----         \n",
      " 0   daysout              18028 non-null  object        \n",
      " 1   mindaysout           18028 non-null  int64         \n",
      " 2   maxdaysout           11282 non-null  float64       \n",
      " 3   dimcustomermasterid  18028 non-null  int64         \n",
      " 4   recent_openrate      18028 non-null  float64       \n",
      " 5   recent_clickrate     18028 non-null  float64       \n",
      " 6   eventdate            18028 non-null  datetime64[ns]\n",
      " 7   eventname            18028 non-null  object        \n",
      " 8   inmarket             16359 non-null  object        \n",
      " 9   distancetovenue      16359 non-null  float64       \n",
      " 10  tenure               18028 non-null  int64         \n",
      " 11  did_purchase         18028 non-null  int64         \n",
      " 12  events_purchased     18028 non-null  int64         \n",
      " 13  frequency_opponent   18028 non-null  float64       \n",
      " 14  frequency_eventday   18028 non-null  float64       \n",
      " 15  frequency_eventtime  18028 non-null  float64       \n",
      " 16  count_merchowned     18028 non-null  int64         \n",
      "dtypes: datetime64[ns](1), float64(7), int64(6), object(3)\n",
      "memory usage: 2.3+ MB\n"
     ]
    }
   ],
   "source": [
    "df.info()"
   ]
  },
  {
   "cell_type": "code",
   "execution_count": 122,
   "metadata": {},
   "outputs": [
    {
     "name": "stdout",
     "output_type": "stream",
     "text": [
      "Data for Modeling: (15324, 13)\n",
      "Unseen Data For Predictions: (2704, 13)\n",
      "\n"
     ]
    }
   ],
   "source": [
    "# choose the features for the stellar base retention model\n",
    "features = [\n",
    "                \"daysout\",\n",
    "                #\"mindaysout\",\n",
    "                #\"maxdaysout\",\n",
    "                \"dimcustomermasterid\",\n",
    "                \"recent_openrate\",\n",
    "                \"recent_clickrate\",\n",
    "                \"eventdate\",\n",
    "                #\"eventname\",\n",
    "                \"inmarket\",\n",
    "                \"distancetovenue\",\n",
    "                \"tenure\",\n",
    "                \"did_purchase\",\n",
    "                \"events_purchased\",\n",
    "                \"frequency_opponent\",\n",
    "                \"frequency_eventday\",\n",
    "                \"frequency_eventtime\"\n",
    "                #\"count_merchowned\"\n",
    "]\n",
    "\n",
    "# copy your main dataframe\n",
    "df_dataset = df\n",
    "\n",
    "#creating the training and evaluation dataframe\n",
    "df_dataset = df_dataset[features]\n",
    "\n",
    "df_train = df_dataset.sample(frac=0.85, random_state=786)\n",
    "df_eval = df_dataset.drop(df_train.index)\n",
    "\n",
    "df_train.reset_index(drop=True, inplace=True)\n",
    "df_eval.reset_index(drop=True, inplace=True)\n",
    "\n",
    "# print out the number of records for training and eval\n",
    "print('Data for Modeling: ' + str(df_train.shape))\n",
    "print('Unseen Data For Predictions: ' + str(df_eval.shape), end=\"\\n\\n\")"
   ]
  },
  {
   "cell_type": "markdown",
   "metadata": {},
   "source": [
    "### Now we can model the data using a binary classification prediction for the did_purchase field to see how likely a customer is to re-purchase."
   ]
  },
  {
   "cell_type": "code",
   "execution_count": 123,
   "metadata": {},
   "outputs": [
    {
     "name": "stderr",
     "output_type": "stream",
     "text": [
      "INFO:logs:PyCaret Supervised Module\n",
      "INFO:logs:ML Usecase: classification\n",
      "INFO:logs:version 2.3.5\n",
      "INFO:logs:Initializing setup()\n",
      "INFO:logs:setup(target=did_purchase, ml_usecase=classification, available_plots={'parameter': 'Hyperparameters', 'auc': 'AUC', 'confusion_matrix': 'Confusion Matrix', 'threshold': 'Threshold', 'pr': 'Precision Recall', 'error': 'Prediction Error', 'class_report': 'Class Report', 'rfe': 'Feature Selection', 'learning': 'Learning Curve', 'manifold': 'Manifold Learning', 'calibration': 'Calibration Curve', 'vc': 'Validation Curve', 'dimension': 'Dimensions', 'feature': 'Feature Importance', 'feature_all': 'Feature Importance (All)', 'boundary': 'Decision Boundary', 'lift': 'Lift Chart', 'gain': 'Gain Chart', 'tree': 'Decision Tree', 'ks': 'KS Statistic Plot'}, train_size=0.85, test_data=None, preprocess=True, imputation_type=simple, iterative_imputation_iters=5, categorical_features=None, categorical_imputation=constant, categorical_iterative_imputer=lightgbm, ordinal_features=None, high_cardinality_features=None, high_cardinality_method=frequency, numeric_features=['recent_openrate', 'recent_clickrate', 'distancetovenue', 'tenure', 'events_purchased', 'frequency_opponent', 'frequency_eventday', 'frequency_eventtime'], numeric_imputation=mean, numeric_iterative_imputer=lightgbm, date_features=None, ignore_features=['dimcustomermasterid'], normalize=False, normalize_method=zscore, transformation=False, transformation_method=yeo-johnson, handle_unknown_categorical=True, unknown_categorical_method=least_frequent, pca=False, pca_method=linear, pca_components=None, ignore_low_variance=False, combine_rare_levels=False, rare_level_threshold=0.1, bin_numeric_features=None, remove_outliers=False, outliers_threshold=0.05, remove_multicollinearity=False, multicollinearity_threshold=0.9, remove_perfect_collinearity=True, create_clusters=False, cluster_iter=20, polynomial_features=False, polynomial_degree=2, trigonometry_features=False, polynomial_threshold=0.1, group_features=None, group_names=None, feature_selection=False, feature_selection_threshold=0.8, feature_selection_method=classic, feature_interaction=False, feature_ratio=False, interaction_threshold=0.01, fix_imbalance=False, fix_imbalance_method=None, transform_target=False, transform_target_method=box-cox, data_split_shuffle=True, data_split_stratify=False, fold_strategy=stratifiedkfold, fold=10, fold_shuffle=False, fold_groups=None, n_jobs=-1, use_gpu=False, custom_pipeline=None, html=True, session_id=None, log_experiment=False, experiment_name=None, log_plots=False, log_profile=False, log_data=False, silent=True, verbose=False, profile=False, profile_kwargs=None, display=None)\n",
      "INFO:logs:Checking environment\n",
      "INFO:logs:python_version: 3.9.4\n",
      "INFO:logs:python_build: ('v3.9.4:1f2e3088f3', 'Apr  4 2021 12:32:44')\n",
      "INFO:logs:machine: x86_64\n",
      "INFO:logs:platform: macOS-10.16-x86_64-i386-64bit\n",
      "WARNING:logs:cannot find psutil installation. memory not traceable. Install psutil using pip to enable memory logging.\n",
      "INFO:logs:Checking libraries\n",
      "INFO:logs:pd==1.4.1\n",
      "INFO:logs:numpy==1.19.5\n",
      "INFO:logs:sklearn==0.23.2\n",
      "INFO:logs:lightgbm==3.2.1\n",
      "WARNING:logs:catboost not found\n",
      "INFO:logs:xgboost==1.4.2\n",
      "INFO:logs:mlflow==1.20.1\n",
      "INFO:logs:Checking Exceptions\n",
      "INFO:logs:Declaring global variables\n",
      "INFO:logs:USI: 5b04\n",
      "INFO:logs:pycaret_globals: {'stratify_param', 'html_param', '_gpu_n_jobs_param', 'fold_generator', 'seed', 'pycaret_globals', 'fold_groups_param_full', 'display_container', '_available_plots', 'transform_target_param', 'fix_imbalance_param', 'X_test', '_all_metrics', 'exp_name_log', 'prep_pipe', 'imputation_classifier', 'y', 'X_train', 'create_model_container', 'fix_imbalance_method_param', '_ml_usecase', 'data_before_preprocess', 'USI', 'fold_shuffle_param', 'logging_param', 'n_jobs_param', 'transform_target_method_param', 'master_model_container', 'y_test', 'gpu_param', 'fold_groups_param', '_internal_pipeline', '_all_models_internal', 'target_param', 'imputation_regressor', 'experiment__', 'iterative_imputation_iters_param', 'log_plots_param', 'y_train', '_all_models', 'fold_param', 'X'}\n",
      "INFO:logs:Preparing display monitor\n",
      "INFO:logs:Importing libraries\n",
      "INFO:logs:Copying data for preprocessing\n",
      "INFO:logs:Declaring preprocessing parameters\n",
      "INFO:logs:Creating preprocessing pipeline\n",
      "INFO:logs:Preprocessing pipeline created successfully\n",
      "ERROR:logs:(Process Exit): setup has been interupted with user command 'quit'. setup must rerun.\n",
      "INFO:logs:Creating global containers\n",
      "INFO:logs:Internal pipeline: Pipeline(memory=None, steps=[('empty_step', 'passthrough')], verbose=False)\n",
      "WARNING:logs:Couldn't import catboost.CatBoostClassifier\n",
      "WARNING:logs:Couldn't import catboost.CatBoostClassifier\n",
      "INFO:logs:Creating grid variables\n",
      "INFO:logs:create_model_container: 0\n",
      "INFO:logs:master_model_container: 0\n",
      "INFO:logs:display_container: 1\n",
      "INFO:logs:Pipeline(memory=None,\n",
      "         steps=[('dtypes',\n",
      "                 DataTypes_Auto_infer(categorical_features=[],\n",
      "                                      display_types=False,\n",
      "                                      features_todrop=['dimcustomermasterid'],\n",
      "                                      id_columns=[],\n",
      "                                      ml_usecase='classification',\n",
      "                                      numerical_features=['recent_openrate',\n",
      "                                                          'recent_clickrate',\n",
      "                                                          'distancetovenue',\n",
      "                                                          'tenure',\n",
      "                                                          'events_purchased',\n",
      "                                                          'frequency_opponent',\n",
      "                                                          'frequency_eventday',\n",
      "                                                          'frequency_eventtime...\n",
      "                ('scaling', 'passthrough'), ('P_transform', 'passthrough'),\n",
      "                ('binn', 'passthrough'), ('rem_outliers', 'passthrough'),\n",
      "                ('cluster_all', 'passthrough'),\n",
      "                ('dummy', Dummify(target='did_purchase')),\n",
      "                ('fix_perfect', Remove_100(target='did_purchase')),\n",
      "                ('clean_names', Clean_Colum_Names()),\n",
      "                ('feature_select', 'passthrough'), ('fix_multi', 'passthrough'),\n",
      "                ('dfs', 'passthrough'), ('pca', 'passthrough')],\n",
      "         verbose=False)\n",
      "INFO:logs:setup() succesfully completed......................................\n"
     ]
    }
   ],
   "source": [
    "setup(\n",
    "    data= df_train, \n",
    "    target=\"did_purchase\", \n",
    "    train_size = 0.85,\n",
    "    data_split_shuffle=True,\n",
    "    ignore_features=[\"dimcustomermasterid\"],\n",
    "    silent=True,\n",
    "    verbose=False,\n",
    "    numeric_features=[\n",
    "        \n",
    "                #\"mindaysout\",\n",
    "                #\"maxdaysout\",\n",
    "                \"recent_openrate\",\n",
    "                \"recent_clickrate\",\n",
    "                \"distancetovenue\",\n",
    "                \"tenure\",\n",
    "                \"events_purchased\",\n",
    "                \"frequency_opponent\",\n",
    "                \"frequency_eventday\",\n",
    "                \"frequency_eventtime\"\n",
    "                #\"count_merchowned\"\n",
    "    ]\n",
    ");"
   ]
  },
  {
   "cell_type": "code",
   "execution_count": 124,
   "metadata": {},
   "outputs": [
    {
     "data": {
      "text/html": [
       "<style type=\"text/css\">\n",
       "#T_7abcd th {\n",
       "  text-align: left;\n",
       "}\n",
       "#T_7abcd_row0_col0 {\n",
       "  text-align: left;\n",
       "}\n",
       "#T_7abcd_row0_col1, #T_7abcd_row0_col2, #T_7abcd_row0_col3, #T_7abcd_row0_col4, #T_7abcd_row0_col5, #T_7abcd_row0_col6, #T_7abcd_row0_col7 {\n",
       "  text-align: left;\n",
       "  background-color: yellow;\n",
       "}\n",
       "#T_7abcd_row0_col8 {\n",
       "  text-align: left;\n",
       "  background-color: yellow;\n",
       "  background-color: lightgrey;\n",
       "}\n",
       "</style>\n",
       "<table id=\"T_7abcd\">\n",
       "  <thead>\n",
       "    <tr>\n",
       "      <th class=\"blank level0\" >&nbsp;</th>\n",
       "      <th id=\"T_7abcd_level0_col0\" class=\"col_heading level0 col0\" >Model</th>\n",
       "      <th id=\"T_7abcd_level0_col1\" class=\"col_heading level0 col1\" >Accuracy</th>\n",
       "      <th id=\"T_7abcd_level0_col2\" class=\"col_heading level0 col2\" >AUC</th>\n",
       "      <th id=\"T_7abcd_level0_col3\" class=\"col_heading level0 col3\" >Recall</th>\n",
       "      <th id=\"T_7abcd_level0_col4\" class=\"col_heading level0 col4\" >Prec.</th>\n",
       "      <th id=\"T_7abcd_level0_col5\" class=\"col_heading level0 col5\" >F1</th>\n",
       "      <th id=\"T_7abcd_level0_col6\" class=\"col_heading level0 col6\" >Kappa</th>\n",
       "      <th id=\"T_7abcd_level0_col7\" class=\"col_heading level0 col7\" >MCC</th>\n",
       "      <th id=\"T_7abcd_level0_col8\" class=\"col_heading level0 col8\" >TT (Sec)</th>\n",
       "    </tr>\n",
       "  </thead>\n",
       "  <tbody>\n",
       "    <tr>\n",
       "      <th id=\"T_7abcd_level0_row0\" class=\"row_heading level0 row0\" >lightgbm</th>\n",
       "      <td id=\"T_7abcd_row0_col0\" class=\"data row0 col0\" >Light Gradient Boosting Machine</td>\n",
       "      <td id=\"T_7abcd_row0_col1\" class=\"data row0 col1\" >0.8187</td>\n",
       "      <td id=\"T_7abcd_row0_col2\" class=\"data row0 col2\" >0.9089</td>\n",
       "      <td id=\"T_7abcd_row0_col3\" class=\"data row0 col3\" >0.8192</td>\n",
       "      <td id=\"T_7abcd_row0_col4\" class=\"data row0 col4\" >0.8169</td>\n",
       "      <td id=\"T_7abcd_row0_col5\" class=\"data row0 col5\" >0.8180</td>\n",
       "      <td id=\"T_7abcd_row0_col6\" class=\"data row0 col6\" >0.6375</td>\n",
       "      <td id=\"T_7abcd_row0_col7\" class=\"data row0 col7\" >0.6376</td>\n",
       "      <td id=\"T_7abcd_row0_col8\" class=\"data row0 col8\" >0.0700</td>\n",
       "    </tr>\n",
       "  </tbody>\n",
       "</table>\n"
      ],
      "text/plain": [
       "<pandas.io.formats.style.Styler at 0x7f9eafcb4eb0>"
      ]
     },
     "metadata": {},
     "output_type": "display_data"
    },
    {
     "name": "stderr",
     "output_type": "stream",
     "text": [
      "INFO:logs:create_model_container: 1\n",
      "INFO:logs:master_model_container: 1\n",
      "INFO:logs:display_container: 2\n",
      "INFO:logs:LGBMClassifier(boosting_type='gbdt', class_weight=None, colsample_bytree=1.0,\n",
      "               importance_type='split', learning_rate=0.1, max_depth=-1,\n",
      "               min_child_samples=20, min_child_weight=0.001, min_split_gain=0.0,\n",
      "               n_estimators=100, n_jobs=-1, num_leaves=31, objective=None,\n",
      "               random_state=7266, reg_alpha=0.0, reg_lambda=0.0, silent=True,\n",
      "               subsample=1.0, subsample_for_bin=200000, subsample_freq=0)\n",
      "INFO:logs:compare_models() succesfully completed......................................\n"
     ]
    }
   ],
   "source": [
    "model_matrix = compare_models(\n",
    "    fold=10,\n",
    "    include=[ \"lightgbm\"]\n",
    ")"
   ]
  },
  {
   "cell_type": "code",
   "execution_count": 125,
   "metadata": {},
   "outputs": [
    {
     "data": {
      "text/html": [
       "<style type=\"text/css\">\n",
       "#T_fa510_row10_col0, #T_fa510_row10_col1, #T_fa510_row10_col2, #T_fa510_row10_col3, #T_fa510_row10_col4, #T_fa510_row10_col5, #T_fa510_row10_col6 {\n",
       "  background: yellow;\n",
       "}\n",
       "</style>\n",
       "<table id=\"T_fa510\">\n",
       "  <thead>\n",
       "    <tr>\n",
       "      <th class=\"blank level0\" >&nbsp;</th>\n",
       "      <th id=\"T_fa510_level0_col0\" class=\"col_heading level0 col0\" >Accuracy</th>\n",
       "      <th id=\"T_fa510_level0_col1\" class=\"col_heading level0 col1\" >AUC</th>\n",
       "      <th id=\"T_fa510_level0_col2\" class=\"col_heading level0 col2\" >Recall</th>\n",
       "      <th id=\"T_fa510_level0_col3\" class=\"col_heading level0 col3\" >Prec.</th>\n",
       "      <th id=\"T_fa510_level0_col4\" class=\"col_heading level0 col4\" >F1</th>\n",
       "      <th id=\"T_fa510_level0_col5\" class=\"col_heading level0 col5\" >Kappa</th>\n",
       "      <th id=\"T_fa510_level0_col6\" class=\"col_heading level0 col6\" >MCC</th>\n",
       "    </tr>\n",
       "  </thead>\n",
       "  <tbody>\n",
       "    <tr>\n",
       "      <th id=\"T_fa510_level0_row0\" class=\"row_heading level0 row0\" >0</th>\n",
       "      <td id=\"T_fa510_row0_col0\" class=\"data row0 col0\" >0.8273</td>\n",
       "      <td id=\"T_fa510_row0_col1\" class=\"data row0 col1\" >0.9151</td>\n",
       "      <td id=\"T_fa510_row0_col2\" class=\"data row0 col2\" >0.8210</td>\n",
       "      <td id=\"T_fa510_row0_col3\" class=\"data row0 col3\" >0.8300</td>\n",
       "      <td id=\"T_fa510_row0_col4\" class=\"data row0 col4\" >0.8254</td>\n",
       "      <td id=\"T_fa510_row0_col5\" class=\"data row0 col5\" >0.6546</td>\n",
       "      <td id=\"T_fa510_row0_col6\" class=\"data row0 col6\" >0.6547</td>\n",
       "    </tr>\n",
       "    <tr>\n",
       "      <th id=\"T_fa510_level0_row1\" class=\"row_heading level0 row1\" >1</th>\n",
       "      <td id=\"T_fa510_row1_col0\" class=\"data row1 col0\" >0.8181</td>\n",
       "      <td id=\"T_fa510_row1_col1\" class=\"data row1 col1\" >0.9130</td>\n",
       "      <td id=\"T_fa510_row1_col2\" class=\"data row1 col2\" >0.8194</td>\n",
       "      <td id=\"T_fa510_row1_col3\" class=\"data row1 col3\" >0.8157</td>\n",
       "      <td id=\"T_fa510_row1_col4\" class=\"data row1 col4\" >0.8176</td>\n",
       "      <td id=\"T_fa510_row1_col5\" class=\"data row1 col5\" >0.6362</td>\n",
       "      <td id=\"T_fa510_row1_col6\" class=\"data row1 col6\" >0.6362</td>\n",
       "    </tr>\n",
       "    <tr>\n",
       "      <th id=\"T_fa510_level0_row2\" class=\"row_heading level0 row2\" >2</th>\n",
       "      <td id=\"T_fa510_row2_col0\" class=\"data row2 col0\" >0.8342</td>\n",
       "      <td id=\"T_fa510_row2_col1\" class=\"data row2 col1\" >0.9088</td>\n",
       "      <td id=\"T_fa510_row2_col2\" class=\"data row2 col2\" >0.8349</td>\n",
       "      <td id=\"T_fa510_row2_col3\" class=\"data row2 col3\" >0.8323</td>\n",
       "      <td id=\"T_fa510_row2_col4\" class=\"data row2 col4\" >0.8336</td>\n",
       "      <td id=\"T_fa510_row2_col5\" class=\"data row2 col5\" >0.6685</td>\n",
       "      <td id=\"T_fa510_row2_col6\" class=\"data row2 col6\" >0.6685</td>\n",
       "    </tr>\n",
       "    <tr>\n",
       "      <th id=\"T_fa510_level0_row3\" class=\"row_heading level0 row3\" >3</th>\n",
       "      <td id=\"T_fa510_row3_col0\" class=\"data row3 col0\" >0.8219</td>\n",
       "      <td id=\"T_fa510_row3_col1\" class=\"data row3 col1\" >0.9171</td>\n",
       "      <td id=\"T_fa510_row3_col2\" class=\"data row3 col2\" >0.8086</td>\n",
       "      <td id=\"T_fa510_row3_col3\" class=\"data row3 col3\" >0.8291</td>\n",
       "      <td id=\"T_fa510_row3_col4\" class=\"data row3 col4\" >0.8188</td>\n",
       "      <td id=\"T_fa510_row3_col5\" class=\"data row3 col5\" >0.6438</td>\n",
       "      <td id=\"T_fa510_row3_col6\" class=\"data row3 col6\" >0.6440</td>\n",
       "    </tr>\n",
       "    <tr>\n",
       "      <th id=\"T_fa510_level0_row4\" class=\"row_heading level0 row4\" >4</th>\n",
       "      <td id=\"T_fa510_row4_col0\" class=\"data row4 col0\" >0.8043</td>\n",
       "      <td id=\"T_fa510_row4_col1\" class=\"data row4 col1\" >0.8949</td>\n",
       "      <td id=\"T_fa510_row4_col2\" class=\"data row4 col2\" >0.7963</td>\n",
       "      <td id=\"T_fa510_row4_col3\" class=\"data row4 col3\" >0.8075</td>\n",
       "      <td id=\"T_fa510_row4_col4\" class=\"data row4 col4\" >0.8019</td>\n",
       "      <td id=\"T_fa510_row4_col5\" class=\"data row4 col5\" >0.6086</td>\n",
       "      <td id=\"T_fa510_row4_col6\" class=\"data row4 col6\" >0.6086</td>\n",
       "    </tr>\n",
       "    <tr>\n",
       "      <th id=\"T_fa510_level0_row5\" class=\"row_heading level0 row5\" >5</th>\n",
       "      <td id=\"T_fa510_row5_col0\" class=\"data row5 col0\" >0.8141</td>\n",
       "      <td id=\"T_fa510_row5_col1\" class=\"data row5 col1\" >0.9067</td>\n",
       "      <td id=\"T_fa510_row5_col2\" class=\"data row5 col2\" >0.8068</td>\n",
       "      <td id=\"T_fa510_row5_col3\" class=\"data row5 col3\" >0.8169</td>\n",
       "      <td id=\"T_fa510_row5_col4\" class=\"data row5 col4\" >0.8118</td>\n",
       "      <td id=\"T_fa510_row5_col5\" class=\"data row5 col5\" >0.6282</td>\n",
       "      <td id=\"T_fa510_row5_col6\" class=\"data row5 col6\" >0.6283</td>\n",
       "    </tr>\n",
       "    <tr>\n",
       "      <th id=\"T_fa510_level0_row6\" class=\"row_heading level0 row6\" >6</th>\n",
       "      <td id=\"T_fa510_row6_col0\" class=\"data row6 col0\" >0.8072</td>\n",
       "      <td id=\"T_fa510_row6_col1\" class=\"data row6 col1\" >0.9058</td>\n",
       "      <td id=\"T_fa510_row6_col2\" class=\"data row6 col2\" >0.8068</td>\n",
       "      <td id=\"T_fa510_row6_col3\" class=\"data row6 col3\" >0.8056</td>\n",
       "      <td id=\"T_fa510_row6_col4\" class=\"data row6 col4\" >0.8062</td>\n",
       "      <td id=\"T_fa510_row6_col5\" class=\"data row6 col5\" >0.6144</td>\n",
       "      <td id=\"T_fa510_row6_col6\" class=\"data row6 col6\" >0.6144</td>\n",
       "    </tr>\n",
       "    <tr>\n",
       "      <th id=\"T_fa510_level0_row7\" class=\"row_heading level0 row7\" >7</th>\n",
       "      <td id=\"T_fa510_row7_col0\" class=\"data row7 col0\" >0.8172</td>\n",
       "      <td id=\"T_fa510_row7_col1\" class=\"data row7 col1\" >0.9095</td>\n",
       "      <td id=\"T_fa510_row7_col2\" class=\"data row7 col2\" >0.8192</td>\n",
       "      <td id=\"T_fa510_row7_col3\" class=\"data row7 col3\" >0.8141</td>\n",
       "      <td id=\"T_fa510_row7_col4\" class=\"data row7 col4\" >0.8166</td>\n",
       "      <td id=\"T_fa510_row7_col5\" class=\"data row7 col5\" >0.6344</td>\n",
       "      <td id=\"T_fa510_row7_col6\" class=\"data row7 col6\" >0.6344</td>\n",
       "    </tr>\n",
       "    <tr>\n",
       "      <th id=\"T_fa510_level0_row8\" class=\"row_heading level0 row8\" >8</th>\n",
       "      <td id=\"T_fa510_row8_col0\" class=\"data row8 col0\" >0.8164</td>\n",
       "      <td id=\"T_fa510_row8_col1\" class=\"data row8 col1\" >0.9051</td>\n",
       "      <td id=\"T_fa510_row8_col2\" class=\"data row8 col2\" >0.8470</td>\n",
       "      <td id=\"T_fa510_row8_col3\" class=\"data row8 col3\" >0.7965</td>\n",
       "      <td id=\"T_fa510_row8_col4\" class=\"data row8 col4\" >0.8210</td>\n",
       "      <td id=\"T_fa510_row8_col5\" class=\"data row8 col5\" >0.6330</td>\n",
       "      <td id=\"T_fa510_row8_col6\" class=\"data row8 col6\" >0.6343</td>\n",
       "    </tr>\n",
       "    <tr>\n",
       "      <th id=\"T_fa510_level0_row9\" class=\"row_heading level0 row9\" >9</th>\n",
       "      <td id=\"T_fa510_row9_col0\" class=\"data row9 col0\" >0.8264</td>\n",
       "      <td id=\"T_fa510_row9_col1\" class=\"data row9 col1\" >0.9131</td>\n",
       "      <td id=\"T_fa510_row9_col2\" class=\"data row9 col2\" >0.8318</td>\n",
       "      <td id=\"T_fa510_row9_col3\" class=\"data row9 col3\" >0.8216</td>\n",
       "      <td id=\"T_fa510_row9_col4\" class=\"data row9 col4\" >0.8267</td>\n",
       "      <td id=\"T_fa510_row9_col5\" class=\"data row9 col5\" >0.6529</td>\n",
       "      <td id=\"T_fa510_row9_col6\" class=\"data row9 col6\" >0.6529</td>\n",
       "    </tr>\n",
       "    <tr>\n",
       "      <th id=\"T_fa510_level0_row10\" class=\"row_heading level0 row10\" >Mean</th>\n",
       "      <td id=\"T_fa510_row10_col0\" class=\"data row10 col0\" >0.8187</td>\n",
       "      <td id=\"T_fa510_row10_col1\" class=\"data row10 col1\" >0.9089</td>\n",
       "      <td id=\"T_fa510_row10_col2\" class=\"data row10 col2\" >0.8192</td>\n",
       "      <td id=\"T_fa510_row10_col3\" class=\"data row10 col3\" >0.8169</td>\n",
       "      <td id=\"T_fa510_row10_col4\" class=\"data row10 col4\" >0.8180</td>\n",
       "      <td id=\"T_fa510_row10_col5\" class=\"data row10 col5\" >0.6375</td>\n",
       "      <td id=\"T_fa510_row10_col6\" class=\"data row10 col6\" >0.6376</td>\n",
       "    </tr>\n",
       "    <tr>\n",
       "      <th id=\"T_fa510_level0_row11\" class=\"row_heading level0 row11\" >SD</th>\n",
       "      <td id=\"T_fa510_row11_col0\" class=\"data row11 col0\" >0.0087</td>\n",
       "      <td id=\"T_fa510_row11_col1\" class=\"data row11 col1\" >0.0060</td>\n",
       "      <td id=\"T_fa510_row11_col2\" class=\"data row11 col2\" >0.0146</td>\n",
       "      <td id=\"T_fa510_row11_col3\" class=\"data row11 col3\" >0.0111</td>\n",
       "      <td id=\"T_fa510_row11_col4\" class=\"data row11 col4\" >0.0091</td>\n",
       "      <td id=\"T_fa510_row11_col5\" class=\"data row11 col5\" >0.0174</td>\n",
       "      <td id=\"T_fa510_row11_col6\" class=\"data row11 col6\" >0.0173</td>\n",
       "    </tr>\n",
       "  </tbody>\n",
       "</table>\n"
      ],
      "text/plain": [
       "<pandas.io.formats.style.Styler at 0x7f9e999d4cd0>"
      ]
     },
     "metadata": {},
     "output_type": "display_data"
    },
    {
     "name": "stderr",
     "output_type": "stream",
     "text": [
      "INFO:logs:create_model_container: 2\n",
      "INFO:logs:master_model_container: 2\n",
      "INFO:logs:display_container: 3\n",
      "INFO:logs:LGBMClassifier(boosting_type='gbdt', class_weight=None, colsample_bytree=1.0,\n",
      "               importance_type='split', learning_rate=0.1, max_depth=-1,\n",
      "               min_child_samples=20, min_child_weight=0.001, min_split_gain=0.0,\n",
      "               n_estimators=100, n_jobs=-1, num_leaves=31, objective=None,\n",
      "               random_state=7266, reg_alpha=0.0, reg_lambda=0.0, silent=True,\n",
      "               subsample=1.0, subsample_for_bin=200000, subsample_freq=0)\n",
      "INFO:logs:create_model() succesfully completed......................................\n",
      "INFO:logs:Initializing finalize_model()\n",
      "INFO:logs:finalize_model(estimator=LGBMClassifier(boosting_type='gbdt', class_weight=None, colsample_bytree=1.0,\n",
      "               importance_type='split', learning_rate=0.1, max_depth=-1,\n",
      "               min_child_samples=20, min_child_weight=0.001, min_split_gain=0.0,\n",
      "               n_estimators=100, n_jobs=-1, num_leaves=31, objective=None,\n",
      "               random_state=7266, reg_alpha=0.0, reg_lambda=0.0, silent=True,\n",
      "               subsample=1.0, subsample_for_bin=200000, subsample_freq=0), fit_kwargs=None, groups=None, model_only=True, display=None)\n",
      "INFO:logs:Finalizing LGBMClassifier(boosting_type='gbdt', class_weight=None, colsample_bytree=1.0,\n",
      "               importance_type='split', learning_rate=0.1, max_depth=-1,\n",
      "               min_child_samples=20, min_child_weight=0.001, min_split_gain=0.0,\n",
      "               n_estimators=100, n_jobs=-1, num_leaves=31, objective=None,\n",
      "               random_state=7266, reg_alpha=0.0, reg_lambda=0.0, silent=True,\n",
      "               subsample=1.0, subsample_for_bin=200000, subsample_freq=0)\n",
      "INFO:logs:Initializing create_model()\n",
      "INFO:logs:create_model(estimator=LGBMClassifier(boosting_type='gbdt', class_weight=None, colsample_bytree=1.0,\n",
      "               importance_type='split', learning_rate=0.1, max_depth=-1,\n",
      "               min_child_samples=20, min_child_weight=0.001, min_split_gain=0.0,\n",
      "               n_estimators=100, n_jobs=-1, num_leaves=31, objective=None,\n",
      "               random_state=7266, reg_alpha=0.0, reg_lambda=0.0, silent=True,\n",
      "               subsample=1.0, subsample_for_bin=200000, subsample_freq=0), fold=None, round=4, cross_validation=True, predict=True, fit_kwargs={}, groups=None, refit=True, verbose=False, system=False, metrics=None, add_to_model_list=False, probability_threshold=None, display=None, kwargs={})\n",
      "INFO:logs:Checking exceptions\n",
      "INFO:logs:Importing libraries\n",
      "INFO:logs:Copying training dataset\n",
      "INFO:logs:Defining folds\n",
      "INFO:logs:Declaring metric variables\n",
      "INFO:logs:Importing untrained model\n",
      "INFO:logs:Declaring custom model\n",
      "INFO:logs:Light Gradient Boosting Machine Imported succesfully\n",
      "INFO:logs:Starting cross validation\n",
      "INFO:logs:Cross validating with StratifiedKFold(n_splits=10, random_state=None, shuffle=False), n_jobs=-1\n",
      "INFO:logs:Calculating mean and std\n",
      "INFO:logs:Creating metrics dataframe\n",
      "INFO:logs:Finalizing model\n",
      "INFO:logs:create_model_container: 2\n",
      "INFO:logs:master_model_container: 2\n",
      "INFO:logs:display_container: 4\n",
      "INFO:logs:LGBMClassifier(boosting_type='gbdt', class_weight=None, colsample_bytree=1.0,\n",
      "               importance_type='split', learning_rate=0.1, max_depth=-1,\n",
      "               min_child_samples=20, min_child_weight=0.001, min_split_gain=0.0,\n",
      "               n_estimators=100, n_jobs=-1, num_leaves=31, objective=None,\n",
      "               random_state=7266, reg_alpha=0.0, reg_lambda=0.0, silent=True,\n",
      "               subsample=1.0, subsample_for_bin=200000, subsample_freq=0)\n",
      "INFO:logs:create_model() succesfully completed......................................\n",
      "INFO:logs:create_model_container: 2\n",
      "INFO:logs:master_model_container: 2\n",
      "INFO:logs:display_container: 3\n",
      "INFO:logs:LGBMClassifier(boosting_type='gbdt', class_weight=None, colsample_bytree=1.0,\n",
      "               importance_type='split', learning_rate=0.1, max_depth=-1,\n",
      "               min_child_samples=20, min_child_weight=0.001, min_split_gain=0.0,\n",
      "               n_estimators=100, n_jobs=-1, num_leaves=31, objective=None,\n",
      "               random_state=7266, reg_alpha=0.0, reg_lambda=0.0, silent=True,\n",
      "               subsample=1.0, subsample_for_bin=200000, subsample_freq=0)\n",
      "INFO:logs:finalize_model() succesfully completed......................................\n"
     ]
    }
   ],
   "source": [
    "best_model = create_model(model_matrix)\n",
    "final_model = finalize_model(best_model)"
   ]
  },
  {
   "cell_type": "code",
   "execution_count": 126,
   "metadata": {},
   "outputs": [
    {
     "data": {
      "image/png": "[encoded data removed]",
      "text/plain": [
       "<Figure size 800x500 with 1 Axes>"
      ]
     },
     "metadata": {},
     "output_type": "display_data"
    },
    {
     "name": "stderr",
     "output_type": "stream",
     "text": [
      "INFO:logs:Visual Rendered Successfully\n",
      "INFO:logs:plot_model() succesfully completed......................................\n"
     ]
    }
   ],
   "source": [
    "plot_model(final_model, plot='feature')"
   ]
  },
  {
   "cell_type": "code",
   "execution_count": 127,
   "metadata": {},
   "outputs": [
    {
     "data": {
      "image/png": "[encoded data removed]",
      "text/plain": [
       "<Figure size 576x396 with 1 Axes>"
      ]
     },
     "metadata": {},
     "output_type": "display_data"
    },
    {
     "name": "stderr",
     "output_type": "stream",
     "text": [
      "INFO:logs:Visual Rendered Successfully\n",
      "INFO:logs:plot_model() succesfully completed......................................\n"
     ]
    }
   ],
   "source": [
    "plot_model(final_model, plot='confusion_matrix')"
   ]
  },
  {
   "cell_type": "markdown",
   "metadata": {},
   "source": [
    "### First we need to call the stored procedure, which will create a named cursor - then we can query the results produced by the stored proc using that named cursor to create scoring dataframe:"
   ]
  },
  {
   "cell_type": "code",
   "execution_count": 128,
   "metadata": {},
   "outputs": [
    {
     "name": "stdout",
     "output_type": "stream",
     "text": [
      "GOT CONNECTION TO DATABASE: prod-app stlrcfl\n"
     ]
    }
   ],
   "source": [
    "session = boto3.session.Session(profile_name='Stellaralgo-DataScienceAdmin')\n",
    "client = session.client('redshift')\n",
    "\n",
    "CLUSTER = 'prod-app'\n",
    "DBNAME = 'stlrcfl'\n",
    "\n",
    "creds2 = client.get_cluster_credentials(                \n",
    "    ClusterIdentifier = CLUSTER,\n",
    "    DbUser = 'admin',\n",
    "    DbName = DBNAME,\n",
    "    DbGroups = ['admin_group'],\n",
    "    AutoCreate=True\n",
    ")\n",
    "\n",
    "# create a connection & cursor and call the stored procedure\n",
    "conn2 = psycopg2.connect(\n",
    "    host = 'prod-app.ctjussvyafp4.us-east-1.redshift.amazonaws.com',\n",
    "    port = 5439,\n",
    "    user = creds2['DbUser'],\n",
    "    password = creds2['DbPassword'],\n",
    "    database = DBNAME\n",
    ")\n",
    "\n",
    "print(f\"GOT CONNECTION TO DATABASE: {CLUSTER} {DBNAME}\")"
   ]
  },
  {
   "cell_type": "code",
   "execution_count": 129,
   "metadata": {},
   "outputs": [
    {
     "name": "stderr",
     "output_type": "stream",
     "text": [
      "INFO:logs:Initializing predict_model()\n",
      "INFO:logs:predict_model(estimator=LGBMClassifier(boosting_type='gbdt', class_weight=None, colsample_bytree=1.0,\n",
      "               importance_type='split', learning_rate=0.1, max_depth=-1,\n",
      "               min_child_samples=20, min_child_weight=0.001, min_split_gain=0.0,\n",
      "               n_estimators=100, n_jobs=-1, num_leaves=31, objective=None,\n",
      "               random_state=7266, reg_alpha=0.0, reg_lambda=0.0, silent=True,\n",
      "               subsample=1.0, subsample_for_bin=200000, subsample_freq=0), probability_threshold=None, encoded_labels=False, raw_score=True, round=4, verbose=True, ml_usecase=MLUsecase.CLASSIFICATION, display=None)\n",
      "INFO:logs:Checking exceptions\n",
      "INFO:logs:Preloading libraries\n",
      "INFO:logs:Preparing display monitor\n",
      "INFO:logs:Initializing predict_model()\n",
      "INFO:logs:predict_model(estimator=LGBMClassifier(boosting_type='gbdt', class_weight=None, colsample_bytree=1.0,\n",
      "               importance_type='split', learning_rate=0.1, max_depth=-1,\n",
      "               min_child_samples=20, min_child_weight=0.001, min_split_gain=0.0,\n",
      "               n_estimators=100, n_jobs=-1, num_leaves=31, objective=None,\n",
      "               random_state=7266, reg_alpha=0.0, reg_lambda=0.0, silent=True,\n",
      "               subsample=1.0, subsample_for_bin=200000, subsample_freq=0), probability_threshold=None, encoded_labels=False, raw_score=True, round=4, verbose=True, ml_usecase=MLUsecase.CLASSIFICATION, display=None)\n",
      "INFO:logs:Checking exceptions\n",
      "INFO:logs:Preloading libraries\n",
      "INFO:logs:Preparing display monitor\n",
      "INFO:logs:Initializing predict_model()\n",
      "INFO:logs:predict_model(estimator=LGBMClassifier(boosting_type='gbdt', class_weight=None, colsample_bytree=1.0,\n",
      "               importance_type='split', learning_rate=0.1, max_depth=-1,\n",
      "               min_child_samples=20, min_child_weight=0.001, min_split_gain=0.0,\n",
      "               n_estimators=100, n_jobs=-1, num_leaves=31, objective=None,\n",
      "               random_state=7266, reg_alpha=0.0, reg_lambda=0.0, silent=True,\n",
      "               subsample=1.0, subsample_for_bin=200000, subsample_freq=0), probability_threshold=None, encoded_labels=False, raw_score=True, round=4, verbose=True, ml_usecase=MLUsecase.CLASSIFICATION, display=None)\n",
      "INFO:logs:Checking exceptions\n",
      "INFO:logs:Preloading libraries\n",
      "INFO:logs:Preparing display monitor\n",
      "INFO:logs:Initializing predict_model()\n",
      "INFO:logs:predict_model(estimator=LGBMClassifier(boosting_type='gbdt', class_weight=None, colsample_bytree=1.0,\n",
      "               importance_type='split', learning_rate=0.1, max_depth=-1,\n",
      "               min_child_samples=20, min_child_weight=0.001, min_split_gain=0.0,\n",
      "               n_estimators=100, n_jobs=-1, num_leaves=31, objective=None,\n",
      "               random_state=7266, reg_alpha=0.0, reg_lambda=0.0, silent=True,\n",
      "               subsample=1.0, subsample_for_bin=200000, subsample_freq=0), probability_threshold=None, encoded_labels=False, raw_score=True, round=4, verbose=True, ml_usecase=MLUsecase.CLASSIFICATION, display=None)\n",
      "INFO:logs:Checking exceptions\n",
      "INFO:logs:Preloading libraries\n",
      "INFO:logs:Preparing display monitor\n",
      "INFO:logs:Initializing predict_model()\n",
      "INFO:logs:predict_model(estimator=LGBMClassifier(boosting_type='gbdt', class_weight=None, colsample_bytree=1.0,\n",
      "               importance_type='split', learning_rate=0.1, max_depth=-1,\n",
      "               min_child_samples=20, min_child_weight=0.001, min_split_gain=0.0,\n",
      "               n_estimators=100, n_jobs=-1, num_leaves=31, objective=None,\n",
      "               random_state=7266, reg_alpha=0.0, reg_lambda=0.0, silent=True,\n",
      "               subsample=1.0, subsample_for_bin=200000, subsample_freq=0), probability_threshold=None, encoded_labels=False, raw_score=True, round=4, verbose=True, ml_usecase=MLUsecase.CLASSIFICATION, display=None)\n",
      "INFO:logs:Checking exceptions\n",
      "INFO:logs:Preloading libraries\n",
      "INFO:logs:Preparing display monitor\n",
      "INFO:logs:Initializing predict_model()\n",
      "INFO:logs:predict_model(estimator=LGBMClassifier(boosting_type='gbdt', class_weight=None, colsample_bytree=1.0,\n",
      "               importance_type='split', learning_rate=0.1, max_depth=-1,\n",
      "               min_child_samples=20, min_child_weight=0.001, min_split_gain=0.0,\n",
      "               n_estimators=100, n_jobs=-1, num_leaves=31, objective=None,\n",
      "               random_state=7266, reg_alpha=0.0, reg_lambda=0.0, silent=True,\n",
      "               subsample=1.0, subsample_for_bin=200000, subsample_freq=0), probability_threshold=None, encoded_labels=False, raw_score=True, round=4, verbose=True, ml_usecase=MLUsecase.CLASSIFICATION, display=None)\n",
      "INFO:logs:Checking exceptions\n",
      "INFO:logs:Preloading libraries\n",
      "INFO:logs:Preparing display monitor\n",
      "INFO:logs:Initializing predict_model()\n",
      "INFO:logs:predict_model(estimator=LGBMClassifier(boosting_type='gbdt', class_weight=None, colsample_bytree=1.0,\n",
      "               importance_type='split', learning_rate=0.1, max_depth=-1,\n",
      "               min_child_samples=20, min_child_weight=0.001, min_split_gain=0.0,\n",
      "               n_estimators=100, n_jobs=-1, num_leaves=31, objective=None,\n",
      "               random_state=7266, reg_alpha=0.0, reg_lambda=0.0, silent=True,\n",
      "               subsample=1.0, subsample_for_bin=200000, subsample_freq=0), probability_threshold=None, encoded_labels=False, raw_score=True, round=4, verbose=True, ml_usecase=MLUsecase.CLASSIFICATION, display=None)\n",
      "INFO:logs:Checking exceptions\n",
      "INFO:logs:Preloading libraries\n",
      "INFO:logs:Preparing display monitor\n",
      "INFO:logs:Initializing predict_model()\n",
      "INFO:logs:predict_model(estimator=LGBMClassifier(boosting_type='gbdt', class_weight=None, colsample_bytree=1.0,\n",
      "               importance_type='split', learning_rate=0.1, max_depth=-1,\n",
      "               min_child_samples=20, min_child_weight=0.001, min_split_gain=0.0,\n",
      "               n_estimators=100, n_jobs=-1, num_leaves=31, objective=None,\n",
      "               random_state=7266, reg_alpha=0.0, reg_lambda=0.0, silent=True,\n",
      "               subsample=1.0, subsample_for_bin=200000, subsample_freq=0), probability_threshold=None, encoded_labels=False, raw_score=True, round=4, verbose=True, ml_usecase=MLUsecase.CLASSIFICATION, display=None)\n",
      "INFO:logs:Checking exceptions\n",
      "INFO:logs:Preloading libraries\n",
      "INFO:logs:Preparing display monitor\n",
      "INFO:logs:Initializing predict_model()\n",
      "INFO:logs:predict_model(estimator=LGBMClassifier(boosting_type='gbdt', class_weight=None, colsample_bytree=1.0,\n",
      "               importance_type='split', learning_rate=0.1, max_depth=-1,\n",
      "               min_child_samples=20, min_child_weight=0.001, min_split_gain=0.0,\n",
      "               n_estimators=100, n_jobs=-1, num_leaves=31, objective=None,\n",
      "               random_state=7266, reg_alpha=0.0, reg_lambda=0.0, silent=True,\n",
      "               subsample=1.0, subsample_for_bin=200000, subsample_freq=0), probability_threshold=None, encoded_labels=False, raw_score=True, round=4, verbose=True, ml_usecase=MLUsecase.CLASSIFICATION, display=None)\n",
      "INFO:logs:Checking exceptions\n",
      "INFO:logs:Preloading libraries\n",
      "INFO:logs:Preparing display monitor\n"
     ]
    }
   ],
   "source": [
    "# create a list of games dates \n",
    "game_dates= ['2022-06-09','2022-06-25','2022-07-30','2022-08-13','2022-09-05','2022-09-17','2022-10-01','2022-10-14','2022-10-29']\n",
    "\n",
    "predictions =[]\n",
    "for game_date in game_dates:\n",
    "    \n",
    "    cur2 = conn2.cursor()\n",
    "    cur2.execute(f\"CALL ds.geteventpropensityscoringdata(35, '{game_date}', 'result')\")\n",
    "\n",
    "    # create a named cursor based on the cursor name passed in above\n",
    "    named_cursor = conn2.cursor('result')\n",
    "    data = named_cursor.fetchall()\n",
    "\n",
    "    # load the data and columns into a data frame\n",
    "    cols = [row[0] for row in named_cursor.description]\n",
    "    df_scoring = pd.DataFrame(data=data, columns=cols)\n",
    "    df_scoring = df_scoring.fillna(0)\n",
    "    #print(df_scoring)\n",
    "    \n",
    "    # get predictions from the model for each game\n",
    "    new_predictions = predict_model(final_model, data=df_scoring, raw_score=True)\n",
    "    predictions.append(new_predictions)\n",
    "    \n",
    "    conn2.commit()"
   ]
  },
  {
   "cell_type": "code",
   "execution_count": 130,
   "metadata": {},
   "outputs": [],
   "source": [
    "#predictions"
   ]
  },
  {
   "cell_type": "code",
   "execution_count": 131,
   "metadata": {},
   "outputs": [
    {
     "name": "stdout",
     "output_type": "stream",
     "text": [
      "06-09-2022\n",
      "(0.8, 1.0]       35611\n",
      "(0.5, 0.8]       32778\n",
      "(-0.001, 0.5]    17811\n",
      "Name: Score_1, dtype: int64\n",
      "06-25-2022\n",
      "(0.8, 1.0]       49816\n",
      "(0.5, 0.8]       27796\n",
      "(-0.001, 0.5]     8588\n",
      "Name: Score_1, dtype: int64\n",
      "07-30-2022\n",
      "(-0.001, 0.5]    41761\n",
      "(0.5, 0.8]       29000\n",
      "(0.8, 1.0]       15439\n",
      "Name: Score_1, dtype: int64\n",
      "08-13-2022\n",
      "(0.8, 1.0]       38147\n",
      "(0.5, 0.8]       30443\n",
      "(-0.001, 0.5]    17610\n",
      "Name: Score_1, dtype: int64\n",
      "09-05-2022\n",
      "(0.5, 0.8]       36865\n",
      "(0.8, 1.0]       28216\n",
      "(-0.001, 0.5]    21119\n",
      "Name: Score_1, dtype: int64\n",
      "09-17-2022\n",
      "(0.8, 1.0]       35621\n",
      "(0.5, 0.8]       28600\n",
      "(-0.001, 0.5]    21979\n",
      "Name: Score_1, dtype: int64\n",
      "10-01-2022\n",
      "(-0.001, 0.5]    64494\n",
      "(0.5, 0.8]       19469\n",
      "(0.8, 1.0]        2237\n",
      "Name: Score_1, dtype: int64\n",
      "10-14-2022\n",
      "(0.8, 1.0]       54318\n",
      "(0.5, 0.8]       16487\n",
      "(-0.001, 0.5]    15395\n",
      "Name: Score_1, dtype: int64\n",
      "10-29-2022\n",
      "(0.8, 1.0]       60794\n",
      "(0.5, 0.8]       14995\n",
      "(-0.001, 0.5]    10411\n",
      "Name: Score_1, dtype: int64\n"
     ]
    }
   ],
   "source": [
    "for df_game in predictions:\n",
    "    print(str(df_game['eventdate'].unique()[0].strftime(\"%m-%d-%Y\")) + '\\n' + str(df_game[\"Score_1\"].value_counts(bins=[0, 0.5, 0.8, 1.0])))"
   ]
  },
  {
   "cell_type": "code",
   "execution_count": 132,
   "metadata": {},
   "outputs": [
    {
     "data": {
      "image/png": "[encoded data removed]",
      "text/plain": [
       "<Figure size 576x396 with 9 Axes>"
      ]
     },
     "metadata": {},
     "output_type": "display_data"
    }
   ],
   "source": [
    "for idx, df_game in enumerate(predictions):\n",
    "    \n",
    "    plt.subplot(3, 3, idx+1)\n",
    "    \n",
    "    event_date = df_game['eventdate'].unique()[0].strftime(\"%m-%d-%Y\")\n",
    "    \n",
    "    plt.title(event_date, fontsize = 12)\n",
    "    plt.xlabel(\"Event Date\")\n",
    "    plt.ylabel(\"Score_1\")\n",
    "    plt.hist(df_game['Score_1'], bins= 20, edgecolor = \"black\")\n",
    "plt.tight_layout()\n",
    "plt.show()"
   ]
  },
  {
   "cell_type": "code",
   "execution_count": 133,
   "metadata": {},
   "outputs": [
    {
     "name": "stdout",
     "output_type": "stream",
     "text": [
      "2022-06-09    86200\n",
      "Name: eventdate, dtype: int64\n",
      "2022-06-25    86200\n",
      "Name: eventdate, dtype: int64\n",
      "2022-07-30    86200\n",
      "Name: eventdate, dtype: int64\n",
      "2022-08-13    86200\n",
      "Name: eventdate, dtype: int64\n",
      "2022-09-05    86200\n",
      "Name: eventdate, dtype: int64\n",
      "2022-09-17    86200\n",
      "Name: eventdate, dtype: int64\n",
      "2022-10-01    86200\n",
      "Name: eventdate, dtype: int64\n",
      "2022-10-14    86200\n",
      "Name: eventdate, dtype: int64\n",
      "2022-10-29    86200\n",
      "Name: eventdate, dtype: int64\n"
     ]
    }
   ],
   "source": [
    "for df_game in predictions:\n",
    "    print(df_game[\"eventdate\"].value_counts().sort_index(ascending=False))"
   ]
  },
  {
   "cell_type": "markdown",
   "metadata": {},
   "source": [
    "### Save the results in for each game in a csv file"
   ]
  },
  {
   "cell_type": "code",
   "execution_count": 134,
   "metadata": {},
   "outputs": [],
   "source": [
    "for df_game in predictions:\n",
    "\n",
    "    event_date = df_game['eventdate'].unique()[0].strftime(\"%m-%d-%Y\")\n",
    "    df_game.to_csv(f\"prod_results_redshift/stamps_ep_scores_{event_date}.csv\", index=False)"
   ]
  },
  {
   "cell_type": "markdown",
   "metadata": {
    "tags": []
   },
   "source": [
    "## Observations\n",
    "\n",
    "1. How accurate was this model? \n",
    "* The accuracy is 80% \n",
    "\n",
    "2. How many fans scored over 0.80 for the 2022 season?\n",
    "* 06-09-2022 : 35,923 out of 86200\n",
    "* 06-25-2022 : 54,642 out of 86200\n",
    "* 07-30-2022 : 42,361 out of 86200\n",
    "* 08-13-2022 : 50,992 out of 86200\n",
    "* 09-05-2022 : 36,389 out of 86200\n",
    "* 09-17-2022 : 40,720 out of 86200\n",
    "* 10-01-2022 : 75,649 out of 86200\n",
    "* 10-14-2022 : 44,672 out of 86200\n",
    "* 10-29-2022 : 58,814 out of 86200\n",
    "\n",
    "3. What were the most important features in making a correct prediction?\n",
    "* distancetovenue, tenure , frequency_eventTime are top 3 important features which makes sense.\n"
   ]
  },
  {
   "cell_type": "markdown",
   "metadata": {},
   "source": [
    "Current training dataset size of 2021 data: 16928\n",
    "Current training dataset size of 2022 data: 16928\n"
   ]
  },
  {
   "cell_type": "markdown",
   "metadata": {},
   "source": [
    "## Conclusion"
   ]
  },
  {
   "cell_type": "markdown",
   "metadata": {},
   "source": [
    "Based on our observations above we reccomend using this event propensity model because we get enough number of buyers that have score above 80% for each game that can be useful for Stamps."
   ]
  },
  {
   "cell_type": "code",
   "execution_count": null,
   "metadata": {},
   "outputs": [],
   "source": []
  }
 ],
 "metadata": {
  "interpreter": {
   "hash": "89f48dadab51a6b5b48ffc1a9e043c21cefe67453637c3444f3b86917b8aad16"
  },
  "kernelspec": {
   "display_name": "Python 3 (ipykernel)",
   "language": "python",
   "name": "python3"
  },
  "language_info": {
   "codemirror_mode": {
    "name": "ipython",
    "version": 3
   },
   "file_extension": ".py",
   "mimetype": "text/x-python",
   "name": "python",
   "nbconvert_exporter": "python",
   "pygments_lexer": "ipython3",
   "version": "3.9.4"
  }
 },
 "nbformat": 4,
 "nbformat_minor": 4
}
