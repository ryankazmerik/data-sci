{
 "cells": [
  {
   "cell_type": "markdown",
   "metadata": {},
   "source": [
    "# Calgary Stampeders - Event Propensity MVP\n",
    "* StellarAlgo Data Science\n",
    "* Nakisa Rad & Ryan Kazmerik\n",
    "* May 26, 2022"
   ]
  },
  {
   "cell_type": "markdown",
   "metadata": {},
   "source": [
    "## Hypothesis\n",
    "We think that using our Stellar Event Propensity model, we can produce a list of fans that have higher probability to purchase a individual ticket to a game based on their previous purchasing and engagement behaviour."
   ]
  },
  {
   "cell_type": "markdown",
   "metadata": {},
   "source": [
    "## Experiment\n",
    "This section details our experiment including querying data, data transformations, feature selection and modelling."
   ]
  },
  {
   "cell_type": "code",
   "execution_count": 1,
   "metadata": {},
   "outputs": [],
   "source": [
    "import boto3\n",
    "import getpass\n",
    "import pyodbc\n",
    "import pandas as pd\n",
    "import psycopg2\n",
    "import matplotlib.pyplot as plt\n",
    "\n",
    "from pycaret.classification import *\n",
    "\n",
    "pd.options.display.max_columns = 100\n",
    "pd.options.display.max_rows = 100"
   ]
  },
  {
   "cell_type": "code",
   "execution_count": 2,
   "metadata": {},
   "outputs": [
    {
     "name": "stdout",
     "output_type": "stream",
     "text": [
      "Attempting to automatically open the SSO authorization page in your default browser.\n",
      "If the browser does not open or you wish to use a different device to authorize this request, open the following URL:\n",
      "\n",
      "https://device.sso.us-east-1.amazonaws.com/\n",
      "\n",
      "Then enter the code:\n",
      "\n",
      "MZNX-CQQN\n",
      "Successully logged into Start URL: https://stellaralgo.awsapps.com/start#/\n"
     ]
    }
   ],
   "source": [
    "! aws sso login --profile Stellaralgo-DataScienceAdmin"
   ]
  },
  {
   "cell_type": "code",
   "execution_count": 3,
   "metadata": {},
   "outputs": [
    {
     "name": "stdout",
     "output_type": "stream",
     "text": [
      "GOT CONNECTION TO DATABASE: prod-app stlrcfl\n"
     ]
    }
   ],
   "source": [
    "session = boto3.session.Session(profile_name='Stellaralgo-DataScienceAdmin')\n",
    "client = session.client('redshift')\n",
    "\n",
    "CLUSTER = 'prod-app'\n",
    "DBNAME = 'stlrcfl'\n",
    "\n",
    "creds = client.get_cluster_credentials(                \n",
    "    ClusterIdentifier = CLUSTER,\n",
    "    DbUser = 'admin',\n",
    "    DbName = DBNAME,\n",
    "    DbGroups = ['admin_group'],\n",
    "    AutoCreate=True\n",
    ")\n",
    "\n",
    "# create a connection & cursor and call the stored procedure\n",
    "conn = psycopg2.connect(\n",
    "    host = 'prod-app.ctjussvyafp4.us-east-1.redshift.amazonaws.com',\n",
    "    port = 5439,\n",
    "    user = creds['DbUser'],\n",
    "    password = creds['DbPassword'],\n",
    "    database = DBNAME\n",
    ")\n",
    "\n",
    "print(f\"GOT CONNECTION TO DATABASE: {CLUSTER} {DBNAME}\")"
   ]
  },
  {
   "cell_type": "markdown",
   "metadata": {},
   "source": [
    "### Let's connect to Redshift and run a stored proc to get our dataset:"
   ]
  },
  {
   "cell_type": "code",
   "execution_count": 4,
   "metadata": {},
   "outputs": [],
   "source": [
    "cur = conn.cursor()\n",
    "cur.execute(f\"CALL ds.geteventpropensitytrainingdata(35, 2010, 2021, 'rkcursor')\")\n",
    "\n",
    "# create a named cursor based on the cursor name passed in above\n",
    "named_cursor = conn.cursor('rkcursor')\n",
    "data = named_cursor.fetchall()\n",
    "\n",
    "# load the data and columns into a data frame\n",
    "cols = [row[0] for row in named_cursor.description]\n",
    "df = pd.DataFrame(data=data, columns=cols)\n",
    "\n",
    "conn.commit()"
   ]
  },
  {
   "cell_type": "code",
   "execution_count": 5,
   "metadata": {},
   "outputs": [
    {
     "name": "stdout",
     "output_type": "stream",
     "text": [
      "<class 'pandas.core.frame.DataFrame'>\n",
      "RangeIndex: 16928 entries, 0 to 16927\n",
      "Data columns (total 17 columns):\n",
      " #   Column               Non-Null Count  Dtype         \n",
      "---  ------               --------------  -----         \n",
      " 0   daysout              16928 non-null  object        \n",
      " 1   mindaysout           16928 non-null  int64         \n",
      " 2   maxdaysout           10451 non-null  float64       \n",
      " 3   dimcustomermasterid  16928 non-null  int64         \n",
      " 4   recent_openrate      16928 non-null  float64       \n",
      " 5   recent_clickrate     16928 non-null  float64       \n",
      " 6   eventdate            16928 non-null  datetime64[ns]\n",
      " 7   eventname            16928 non-null  object        \n",
      " 8   inmarket             15417 non-null  object        \n",
      " 9   distancetovenue      15417 non-null  float64       \n",
      " 10  tenure               16928 non-null  int64         \n",
      " 11  did_purchase         16928 non-null  int64         \n",
      " 12  events_purchased     16928 non-null  int64         \n",
      " 13  frequency_opponent   16928 non-null  float64       \n",
      " 14  frequency_eventday   16928 non-null  float64       \n",
      " 15  frequency_eventtime  16928 non-null  float64       \n",
      " 16  count_merchowned     16928 non-null  int64         \n",
      "dtypes: datetime64[ns](1), float64(7), int64(6), object(3)\n",
      "memory usage: 2.2+ MB\n"
     ]
    }
   ],
   "source": [
    "df.info()"
   ]
  },
  {
   "cell_type": "code",
   "execution_count": 6,
   "metadata": {},
   "outputs": [
    {
     "name": "stdout",
     "output_type": "stream",
     "text": [
      "Data for Modeling: (14389, 13)\n",
      "Unseen Data For Predictions: (2539, 13)\n",
      "\n"
     ]
    }
   ],
   "source": [
    "# choose the features for the stellar base retention model\n",
    "features = [\n",
    "                \"daysout\",\n",
    "                #\"mindaysout\",\n",
    "                #\"maxdaysout\",\n",
    "                \"dimcustomermasterid\",\n",
    "                \"recent_openrate\",\n",
    "                \"recent_clickrate\",\n",
    "                \"eventdate\",\n",
    "                #\"eventname\",\n",
    "                \"inmarket\",\n",
    "                \"distancetovenue\",\n",
    "                \"tenure\",\n",
    "                \"did_purchase\",\n",
    "                \"events_purchased\",\n",
    "                \"frequency_opponent\",\n",
    "                \"frequency_eventday\",\n",
    "                \"frequency_eventtime\"\n",
    "                #\"count_merchowned\"\n",
    "]\n",
    "\n",
    "# copy your main dataframe\n",
    "df_dataset = df\n",
    "\n",
    "#creating the training and evaluation dataframe\n",
    "df_dataset = df_dataset[features]\n",
    "\n",
    "df_train = df_dataset.sample(frac=0.85, random_state=786)\n",
    "df_eval = df_dataset.drop(df_train.index)\n",
    "\n",
    "df_train.reset_index(drop=True, inplace=True)\n",
    "df_eval.reset_index(drop=True, inplace=True)\n",
    "\n",
    "# print out the number of records for training and eval\n",
    "print('Data for Modeling: ' + str(df_train.shape))\n",
    "print('Unseen Data For Predictions: ' + str(df_eval.shape), end=\"\\n\\n\")"
   ]
  },
  {
   "cell_type": "markdown",
   "metadata": {},
   "source": [
    "### Now we can model the data using a binary classification prediction for the did_purchase field to see how likely a customer is to re-purchase."
   ]
  },
  {
   "cell_type": "code",
   "execution_count": 7,
   "metadata": {},
   "outputs": [],
   "source": [
    "setup(\n",
    "    data= df_train, \n",
    "    target=\"did_purchase\", \n",
    "    train_size = 0.85,\n",
    "    data_split_shuffle=True,\n",
    "    ignore_features=[\"dimcustomermasterid\"],\n",
    "    silent=True,\n",
    "    verbose=False,\n",
    "    numeric_features=[\n",
    "        \n",
    "                #\"mindaysout\",\n",
    "                #\"maxdaysout\",\n",
    "                \"recent_openrate\",\n",
    "                \"recent_clickrate\",\n",
    "                \"distancetovenue\",\n",
    "                \"tenure\",\n",
    "                \"events_purchased\",\n",
    "                \"frequency_opponent\",\n",
    "                \"frequency_eventday\",\n",
    "                \"frequency_eventtime\"\n",
    "                #\"count_merchowned\"\n",
    "    ]\n",
    ");"
   ]
  },
  {
   "cell_type": "code",
   "execution_count": 8,
   "metadata": {},
   "outputs": [
    {
     "data": {
      "text/html": [
       "<style  type=\"text/css\" >\n",
       "    #T_69186_ th {\n",
       "          text-align: left;\n",
       "    }#T_69186_row0_col0,#T_69186_row1_col0,#T_69186_row1_col1,#T_69186_row1_col2,#T_69186_row1_col3,#T_69186_row1_col4,#T_69186_row1_col5,#T_69186_row1_col6,#T_69186_row1_col7,#T_69186_row2_col0,#T_69186_row2_col1,#T_69186_row2_col2,#T_69186_row2_col3,#T_69186_row2_col4,#T_69186_row2_col5,#T_69186_row2_col6,#T_69186_row2_col7,#T_69186_row3_col0,#T_69186_row3_col1,#T_69186_row3_col2,#T_69186_row3_col3,#T_69186_row3_col4,#T_69186_row3_col5,#T_69186_row3_col6,#T_69186_row3_col7,#T_69186_row4_col0,#T_69186_row4_col1,#T_69186_row4_col2,#T_69186_row4_col3,#T_69186_row4_col4,#T_69186_row4_col5,#T_69186_row4_col6,#T_69186_row4_col7,#T_69186_row5_col0,#T_69186_row5_col1,#T_69186_row5_col2,#T_69186_row5_col3,#T_69186_row5_col4,#T_69186_row5_col5,#T_69186_row5_col6,#T_69186_row5_col7{\n",
       "            text-align:  left;\n",
       "            text-align:  left;\n",
       "        }#T_69186_row0_col1,#T_69186_row0_col2,#T_69186_row0_col3,#T_69186_row0_col4,#T_69186_row0_col5,#T_69186_row0_col6,#T_69186_row0_col7{\n",
       "            text-align:  left;\n",
       "            text-align:  left;\n",
       "            background-color:  yellow;\n",
       "        }#T_69186_row0_col8,#T_69186_row2_col8,#T_69186_row3_col8,#T_69186_row4_col8,#T_69186_row5_col8{\n",
       "            text-align:  left;\n",
       "            text-align:  left;\n",
       "            background-color:  lightgrey;\n",
       "        }#T_69186_row1_col8{\n",
       "            text-align:  left;\n",
       "            text-align:  left;\n",
       "            background-color:  yellow;\n",
       "            background-color:  lightgrey;\n",
       "        }</style><table id=\"T_69186_\" ><thead>    <tr>        <th class=\"blank level0\" ></th>        <th class=\"col_heading level0 col0\" >Model</th>        <th class=\"col_heading level0 col1\" >Accuracy</th>        <th class=\"col_heading level0 col2\" >AUC</th>        <th class=\"col_heading level0 col3\" >Recall</th>        <th class=\"col_heading level0 col4\" >Prec.</th>        <th class=\"col_heading level0 col5\" >F1</th>        <th class=\"col_heading level0 col6\" >Kappa</th>        <th class=\"col_heading level0 col7\" >MCC</th>        <th class=\"col_heading level0 col8\" >TT (Sec)</th>    </tr></thead><tbody>\n",
       "                <tr>\n",
       "                        <th id=\"T_69186_level0_row0\" class=\"row_heading level0 row0\" >xgboost</th>\n",
       "                        <td id=\"T_69186_row0_col0\" class=\"data row0 col0\" >Extreme Gradient Boosting</td>\n",
       "                        <td id=\"T_69186_row0_col1\" class=\"data row0 col1\" >0.8065</td>\n",
       "                        <td id=\"T_69186_row0_col2\" class=\"data row0 col2\" >0.8886</td>\n",
       "                        <td id=\"T_69186_row0_col3\" class=\"data row0 col3\" >0.7813</td>\n",
       "                        <td id=\"T_69186_row0_col4\" class=\"data row0 col4\" >0.8216</td>\n",
       "                        <td id=\"T_69186_row0_col5\" class=\"data row0 col5\" >0.8007</td>\n",
       "                        <td id=\"T_69186_row0_col6\" class=\"data row0 col6\" >0.6130</td>\n",
       "                        <td id=\"T_69186_row0_col7\" class=\"data row0 col7\" >0.6140</td>\n",
       "                        <td id=\"T_69186_row0_col8\" class=\"data row0 col8\" >0.8030</td>\n",
       "            </tr>\n",
       "            <tr>\n",
       "                        <th id=\"T_69186_level0_row1\" class=\"row_heading level0 row1\" >lightgbm</th>\n",
       "                        <td id=\"T_69186_row1_col0\" class=\"data row1 col0\" >Light Gradient Boosting Machine</td>\n",
       "                        <td id=\"T_69186_row1_col1\" class=\"data row1 col1\" >0.7817</td>\n",
       "                        <td id=\"T_69186_row1_col2\" class=\"data row1 col2\" >0.8689</td>\n",
       "                        <td id=\"T_69186_row1_col3\" class=\"data row1 col3\" >0.7616</td>\n",
       "                        <td id=\"T_69186_row1_col4\" class=\"data row1 col4\" >0.7926</td>\n",
       "                        <td id=\"T_69186_row1_col5\" class=\"data row1 col5\" >0.7765</td>\n",
       "                        <td id=\"T_69186_row1_col6\" class=\"data row1 col6\" >0.5633</td>\n",
       "                        <td id=\"T_69186_row1_col7\" class=\"data row1 col7\" >0.5641</td>\n",
       "                        <td id=\"T_69186_row1_col8\" class=\"data row1 col8\" >0.0710</td>\n",
       "            </tr>\n",
       "            <tr>\n",
       "                        <th id=\"T_69186_level0_row2\" class=\"row_heading level0 row2\" >gbc</th>\n",
       "                        <td id=\"T_69186_row2_col0\" class=\"data row2 col0\" >Gradient Boosting Classifier</td>\n",
       "                        <td id=\"T_69186_row2_col1\" class=\"data row2 col1\" >0.7414</td>\n",
       "                        <td id=\"T_69186_row2_col2\" class=\"data row2 col2\" >0.8234</td>\n",
       "                        <td id=\"T_69186_row2_col3\" class=\"data row2 col3\" >0.7177</td>\n",
       "                        <td id=\"T_69186_row2_col4\" class=\"data row2 col4\" >0.7517</td>\n",
       "                        <td id=\"T_69186_row2_col5\" class=\"data row2 col5\" >0.7342</td>\n",
       "                        <td id=\"T_69186_row2_col6\" class=\"data row2 col6\" >0.4826</td>\n",
       "                        <td id=\"T_69186_row2_col7\" class=\"data row2 col7\" >0.4832</td>\n",
       "                        <td id=\"T_69186_row2_col8\" class=\"data row2 col8\" >0.2850</td>\n",
       "            </tr>\n",
       "            <tr>\n",
       "                        <th id=\"T_69186_level0_row3\" class=\"row_heading level0 row3\" >rf</th>\n",
       "                        <td id=\"T_69186_row3_col0\" class=\"data row3 col0\" >Random Forest Classifier</td>\n",
       "                        <td id=\"T_69186_row3_col1\" class=\"data row3 col1\" >0.7310</td>\n",
       "                        <td id=\"T_69186_row3_col2\" class=\"data row3 col2\" >0.8114</td>\n",
       "                        <td id=\"T_69186_row3_col3\" class=\"data row3 col3\" >0.7005</td>\n",
       "                        <td id=\"T_69186_row3_col4\" class=\"data row3 col4\" >0.7442</td>\n",
       "                        <td id=\"T_69186_row3_col5\" class=\"data row3 col5\" >0.7216</td>\n",
       "                        <td id=\"T_69186_row3_col6\" class=\"data row3 col6\" >0.4618</td>\n",
       "                        <td id=\"T_69186_row3_col7\" class=\"data row3 col7\" >0.4627</td>\n",
       "                        <td id=\"T_69186_row3_col8\" class=\"data row3 col8\" >0.3120</td>\n",
       "            </tr>\n",
       "            <tr>\n",
       "                        <th id=\"T_69186_level0_row4\" class=\"row_heading level0 row4\" >dt</th>\n",
       "                        <td id=\"T_69186_row4_col0\" class=\"data row4 col0\" >Decision Tree Classifier</td>\n",
       "                        <td id=\"T_69186_row4_col1\" class=\"data row4 col1\" >0.7081</td>\n",
       "                        <td id=\"T_69186_row4_col2\" class=\"data row4 col2\" >0.7085</td>\n",
       "                        <td id=\"T_69186_row4_col3\" class=\"data row4 col3\" >0.6834</td>\n",
       "                        <td id=\"T_69186_row4_col4\" class=\"data row4 col4\" >0.7171</td>\n",
       "                        <td id=\"T_69186_row4_col5\" class=\"data row4 col5\" >0.6998</td>\n",
       "                        <td id=\"T_69186_row4_col6\" class=\"data row4 col6\" >0.4160</td>\n",
       "                        <td id=\"T_69186_row4_col7\" class=\"data row4 col7\" >0.4166</td>\n",
       "                        <td id=\"T_69186_row4_col8\" class=\"data row4 col8\" >0.3400</td>\n",
       "            </tr>\n",
       "            <tr>\n",
       "                        <th id=\"T_69186_level0_row5\" class=\"row_heading level0 row5\" >lr</th>\n",
       "                        <td id=\"T_69186_row5_col0\" class=\"data row5 col0\" >Logistic Regression</td>\n",
       "                        <td id=\"T_69186_row5_col1\" class=\"data row5 col1\" >0.6894</td>\n",
       "                        <td id=\"T_69186_row5_col2\" class=\"data row5 col2\" >0.7630</td>\n",
       "                        <td id=\"T_69186_row5_col3\" class=\"data row5 col3\" >0.6563</td>\n",
       "                        <td id=\"T_69186_row5_col4\" class=\"data row5 col4\" >0.7007</td>\n",
       "                        <td id=\"T_69186_row5_col5\" class=\"data row5 col5\" >0.6777</td>\n",
       "                        <td id=\"T_69186_row5_col6\" class=\"data row5 col6\" >0.3785</td>\n",
       "                        <td id=\"T_69186_row5_col7\" class=\"data row5 col7\" >0.3794</td>\n",
       "                        <td id=\"T_69186_row5_col8\" class=\"data row5 col8\" >0.1470</td>\n",
       "            </tr>\n",
       "    </tbody></table>"
      ],
      "text/plain": [
       "<pandas.io.formats.style.Styler at 0x7fc0b337c850>"
      ]
     },
     "metadata": {},
     "output_type": "display_data"
    }
   ],
   "source": [
    "model_matrix = compare_models(\n",
    "    fold=10,\n",
    "    include=[\"dt\", \"gbc\", \"lightgbm\", \"lr\", \"rf\", \"xgboost\"]\n",
    ")"
   ]
  },
  {
   "cell_type": "code",
   "execution_count": 9,
   "metadata": {},
   "outputs": [
    {
     "data": {
      "text/html": [
       "<style  type=\"text/css\" >\n",
       "#T_7d739_row10_col0,#T_7d739_row10_col1,#T_7d739_row10_col2,#T_7d739_row10_col3,#T_7d739_row10_col4,#T_7d739_row10_col5,#T_7d739_row10_col6{\n",
       "            background:  yellow;\n",
       "        }</style><table id=\"T_7d739_\" ><thead>    <tr>        <th class=\"blank level0\" ></th>        <th class=\"col_heading level0 col0\" >Accuracy</th>        <th class=\"col_heading level0 col1\" >AUC</th>        <th class=\"col_heading level0 col2\" >Recall</th>        <th class=\"col_heading level0 col3\" >Prec.</th>        <th class=\"col_heading level0 col4\" >F1</th>        <th class=\"col_heading level0 col5\" >Kappa</th>        <th class=\"col_heading level0 col6\" >MCC</th>    </tr></thead><tbody>\n",
       "                <tr>\n",
       "                        <th id=\"T_7d739_level0_row0\" class=\"row_heading level0 row0\" >0</th>\n",
       "                        <td id=\"T_7d739_row0_col0\" class=\"data row0 col0\" >0.7997</td>\n",
       "                        <td id=\"T_7d739_row0_col1\" class=\"data row0 col1\" >0.8834</td>\n",
       "                        <td id=\"T_7d739_row0_col2\" class=\"data row0 col2\" >0.7816</td>\n",
       "                        <td id=\"T_7d739_row0_col3\" class=\"data row0 col3\" >0.8095</td>\n",
       "                        <td id=\"T_7d739_row0_col4\" class=\"data row0 col4\" >0.7953</td>\n",
       "                        <td id=\"T_7d739_row0_col5\" class=\"data row0 col5\" >0.5993</td>\n",
       "                        <td id=\"T_7d739_row0_col6\" class=\"data row0 col6\" >0.5996</td>\n",
       "            </tr>\n",
       "            <tr>\n",
       "                        <th id=\"T_7d739_level0_row1\" class=\"row_heading level0 row1\" >1</th>\n",
       "                        <td id=\"T_7d739_row1_col0\" class=\"data row1 col0\" >0.8324</td>\n",
       "                        <td id=\"T_7d739_row1_col1\" class=\"data row1 col1\" >0.9123</td>\n",
       "                        <td id=\"T_7d739_row1_col2\" class=\"data row1 col2\" >0.7964</td>\n",
       "                        <td id=\"T_7d739_row1_col3\" class=\"data row1 col3\" >0.8569</td>\n",
       "                        <td id=\"T_7d739_row1_col4\" class=\"data row1 col4\" >0.8255</td>\n",
       "                        <td id=\"T_7d739_row1_col5\" class=\"data row1 col5\" >0.6647</td>\n",
       "                        <td id=\"T_7d739_row1_col6\" class=\"data row1 col6\" >0.6663</td>\n",
       "            </tr>\n",
       "            <tr>\n",
       "                        <th id=\"T_7d739_level0_row2\" class=\"row_heading level0 row2\" >2</th>\n",
       "                        <td id=\"T_7d739_row2_col0\" class=\"data row2 col0\" >0.8005</td>\n",
       "                        <td id=\"T_7d739_row2_col1\" class=\"data row2 col1\" >0.8789</td>\n",
       "                        <td id=\"T_7d739_row2_col2\" class=\"data row2 col2\" >0.7865</td>\n",
       "                        <td id=\"T_7d739_row2_col3\" class=\"data row2 col3\" >0.8078</td>\n",
       "                        <td id=\"T_7d739_row2_col4\" class=\"data row2 col4\" >0.7970</td>\n",
       "                        <td id=\"T_7d739_row2_col5\" class=\"data row2 col5\" >0.6009</td>\n",
       "                        <td id=\"T_7d739_row2_col6\" class=\"data row2 col6\" >0.6011</td>\n",
       "            </tr>\n",
       "            <tr>\n",
       "                        <th id=\"T_7d739_level0_row3\" class=\"row_heading level0 row3\" >3</th>\n",
       "                        <td id=\"T_7d739_row3_col0\" class=\"data row3 col0\" >0.8029</td>\n",
       "                        <td id=\"T_7d739_row3_col1\" class=\"data row3 col1\" >0.8863</td>\n",
       "                        <td id=\"T_7d739_row3_col2\" class=\"data row3 col2\" >0.7964</td>\n",
       "                        <td id=\"T_7d739_row3_col3\" class=\"data row3 col3\" >0.8056</td>\n",
       "                        <td id=\"T_7d739_row3_col4\" class=\"data row3 col4\" >0.8010</td>\n",
       "                        <td id=\"T_7d739_row3_col5\" class=\"data row3 col5\" >0.6059</td>\n",
       "                        <td id=\"T_7d739_row3_col6\" class=\"data row3 col6\" >0.6059</td>\n",
       "            </tr>\n",
       "            <tr>\n",
       "                        <th id=\"T_7d739_level0_row4\" class=\"row_heading level0 row4\" >4</th>\n",
       "                        <td id=\"T_7d739_row4_col0\" class=\"data row4 col0\" >0.8038</td>\n",
       "                        <td id=\"T_7d739_row4_col1\" class=\"data row4 col1\" >0.8824</td>\n",
       "                        <td id=\"T_7d739_row4_col2\" class=\"data row4 col2\" >0.7833</td>\n",
       "                        <td id=\"T_7d739_row4_col3\" class=\"data row4 col3\" >0.8154</td>\n",
       "                        <td id=\"T_7d739_row4_col4\" class=\"data row4 col4\" >0.7990</td>\n",
       "                        <td id=\"T_7d739_row4_col5\" class=\"data row4 col5\" >0.6075</td>\n",
       "                        <td id=\"T_7d739_row4_col6\" class=\"data row4 col6\" >0.6079</td>\n",
       "            </tr>\n",
       "            <tr>\n",
       "                        <th id=\"T_7d739_level0_row5\" class=\"row_heading level0 row5\" >5</th>\n",
       "                        <td id=\"T_7d739_row5_col0\" class=\"data row5 col0\" >0.8021</td>\n",
       "                        <td id=\"T_7d739_row5_col1\" class=\"data row5 col1\" >0.8834</td>\n",
       "                        <td id=\"T_7d739_row5_col2\" class=\"data row5 col2\" >0.7931</td>\n",
       "                        <td id=\"T_7d739_row5_col3\" class=\"data row5 col3\" >0.8063</td>\n",
       "                        <td id=\"T_7d739_row5_col4\" class=\"data row5 col4\" >0.7997</td>\n",
       "                        <td id=\"T_7d739_row5_col5\" class=\"data row5 col5\" >0.6042</td>\n",
       "                        <td id=\"T_7d739_row5_col6\" class=\"data row5 col6\" >0.6043</td>\n",
       "            </tr>\n",
       "            <tr>\n",
       "                        <th id=\"T_7d739_level0_row6\" class=\"row_heading level0 row6\" >6</th>\n",
       "                        <td id=\"T_7d739_row6_col0\" class=\"data row6 col0\" >0.8201</td>\n",
       "                        <td id=\"T_7d739_row6_col1\" class=\"data row6 col1\" >0.8977</td>\n",
       "                        <td id=\"T_7d739_row6_col2\" class=\"data row6 col2\" >0.7714</td>\n",
       "                        <td id=\"T_7d739_row6_col3\" class=\"data row6 col3\" >0.8527</td>\n",
       "                        <td id=\"T_7d739_row6_col4\" class=\"data row6 col4\" >0.8100</td>\n",
       "                        <td id=\"T_7d739_row6_col5\" class=\"data row6 col5\" >0.6400</td>\n",
       "                        <td id=\"T_7d739_row6_col6\" class=\"data row6 col6\" >0.6429</td>\n",
       "            </tr>\n",
       "            <tr>\n",
       "                        <th id=\"T_7d739_level0_row7\" class=\"row_heading level0 row7\" >7</th>\n",
       "                        <td id=\"T_7d739_row7_col0\" class=\"data row7 col0\" >0.8095</td>\n",
       "                        <td id=\"T_7d739_row7_col1\" class=\"data row7 col1\" >0.8919</td>\n",
       "                        <td id=\"T_7d739_row7_col2\" class=\"data row7 col2\" >0.7928</td>\n",
       "                        <td id=\"T_7d739_row7_col3\" class=\"data row7 col3\" >0.8183</td>\n",
       "                        <td id=\"T_7d739_row7_col4\" class=\"data row7 col4\" >0.8053</td>\n",
       "                        <td id=\"T_7d739_row7_col5\" class=\"data row7 col5\" >0.6189</td>\n",
       "                        <td id=\"T_7d739_row7_col6\" class=\"data row7 col6\" >0.6192</td>\n",
       "            </tr>\n",
       "            <tr>\n",
       "                        <th id=\"T_7d739_level0_row8\" class=\"row_heading level0 row8\" >8</th>\n",
       "                        <td id=\"T_7d739_row8_col0\" class=\"data row8 col0\" >0.8078</td>\n",
       "                        <td id=\"T_7d739_row8_col1\" class=\"data row8 col1\" >0.8898</td>\n",
       "                        <td id=\"T_7d739_row8_col2\" class=\"data row8 col2\" >0.7796</td>\n",
       "                        <td id=\"T_7d739_row8_col3\" class=\"data row8 col3\" >0.8243</td>\n",
       "                        <td id=\"T_7d739_row8_col4\" class=\"data row8 col4\" >0.8014</td>\n",
       "                        <td id=\"T_7d739_row8_col5\" class=\"data row8 col5\" >0.6156</td>\n",
       "                        <td id=\"T_7d739_row8_col6\" class=\"data row8 col6\" >0.6165</td>\n",
       "            </tr>\n",
       "            <tr>\n",
       "                        <th id=\"T_7d739_level0_row9\" class=\"row_heading level0 row9\" >9</th>\n",
       "                        <td id=\"T_7d739_row9_col0\" class=\"data row9 col0\" >0.7866</td>\n",
       "                        <td id=\"T_7d739_row9_col1\" class=\"data row9 col1\" >0.8802</td>\n",
       "                        <td id=\"T_7d739_row9_col2\" class=\"data row9 col2\" >0.7319</td>\n",
       "                        <td id=\"T_7d739_row9_col3\" class=\"data row9 col3\" >0.8195</td>\n",
       "                        <td id=\"T_7d739_row9_col4\" class=\"data row9 col4\" >0.7732</td>\n",
       "                        <td id=\"T_7d739_row9_col5\" class=\"data row9 col5\" >0.5729</td>\n",
       "                        <td id=\"T_7d739_row9_col6\" class=\"data row9 col6\" >0.5762</td>\n",
       "            </tr>\n",
       "            <tr>\n",
       "                        <th id=\"T_7d739_level0_row10\" class=\"row_heading level0 row10\" >Mean</th>\n",
       "                        <td id=\"T_7d739_row10_col0\" class=\"data row10 col0\" >0.8065</td>\n",
       "                        <td id=\"T_7d739_row10_col1\" class=\"data row10 col1\" >0.8886</td>\n",
       "                        <td id=\"T_7d739_row10_col2\" class=\"data row10 col2\" >0.7813</td>\n",
       "                        <td id=\"T_7d739_row10_col3\" class=\"data row10 col3\" >0.8216</td>\n",
       "                        <td id=\"T_7d739_row10_col4\" class=\"data row10 col4\" >0.8007</td>\n",
       "                        <td id=\"T_7d739_row10_col5\" class=\"data row10 col5\" >0.6130</td>\n",
       "                        <td id=\"T_7d739_row10_col6\" class=\"data row10 col6\" >0.6140</td>\n",
       "            </tr>\n",
       "            <tr>\n",
       "                        <th id=\"T_7d739_level0_row11\" class=\"row_heading level0 row11\" >SD</th>\n",
       "                        <td id=\"T_7d739_row11_col0\" class=\"data row11 col0\" >0.0118</td>\n",
       "                        <td id=\"T_7d739_row11_col1\" class=\"data row11 col1\" >0.0096</td>\n",
       "                        <td id=\"T_7d739_row11_col2\" class=\"data row11 col2\" >0.0182</td>\n",
       "                        <td id=\"T_7d739_row11_col3\" class=\"data row11 col3\" >0.0176</td>\n",
       "                        <td id=\"T_7d739_row11_col4\" class=\"data row11 col4\" >0.0124</td>\n",
       "                        <td id=\"T_7d739_row11_col5\" class=\"data row11 col5\" >0.0235</td>\n",
       "                        <td id=\"T_7d739_row11_col6\" class=\"data row11 col6\" >0.0237</td>\n",
       "            </tr>\n",
       "    </tbody></table>"
      ],
      "text/plain": [
       "<pandas.io.formats.style.Styler at 0x7fc0b33baaf0>"
      ]
     },
     "metadata": {},
     "output_type": "display_data"
    },
    {
     "name": "stderr",
     "output_type": "stream",
     "text": [
      "/Library/Frameworks/Python.framework/Versions/3.9/lib/python3.9/site-packages/xgboost/sklearn.py:1146: UserWarning: The use of label encoder in XGBClassifier is deprecated and will be removed in a future release. To remove this warning, do the following: 1) Pass option use_label_encoder=False when constructing XGBClassifier object; and 2) Encode your labels (y) as integers starting with 0, i.e. 0, 1, 2, ..., [num_class - 1].\n",
      "  warnings.warn(label_encoder_deprecation_msg, UserWarning)\n",
      "/Library/Frameworks/Python.framework/Versions/3.9/lib/python3.9/site-packages/xgboost/sklearn.py:1146: UserWarning: The use of label encoder in XGBClassifier is deprecated and will be removed in a future release. To remove this warning, do the following: 1) Pass option use_label_encoder=False when constructing XGBClassifier object; and 2) Encode your labels (y) as integers starting with 0, i.e. 0, 1, 2, ..., [num_class - 1].\n",
      "  warnings.warn(label_encoder_deprecation_msg, UserWarning)\n",
      "/Library/Frameworks/Python.framework/Versions/3.9/lib/python3.9/site-packages/xgboost/sklearn.py:1146: UserWarning: The use of label encoder in XGBClassifier is deprecated and will be removed in a future release. To remove this warning, do the following: 1) Pass option use_label_encoder=False when constructing XGBClassifier object; and 2) Encode your labels (y) as integers starting with 0, i.e. 0, 1, 2, ..., [num_class - 1].\n",
      "  warnings.warn(label_encoder_deprecation_msg, UserWarning)\n",
      "/Library/Frameworks/Python.framework/Versions/3.9/lib/python3.9/site-packages/xgboost/sklearn.py:1146: UserWarning: The use of label encoder in XGBClassifier is deprecated and will be removed in a future release. To remove this warning, do the following: 1) Pass option use_label_encoder=False when constructing XGBClassifier object; and 2) Encode your labels (y) as integers starting with 0, i.e. 0, 1, 2, ..., [num_class - 1].\n",
      "  warnings.warn(label_encoder_deprecation_msg, UserWarning)\n",
      "/Library/Frameworks/Python.framework/Versions/3.9/lib/python3.9/site-packages/xgboost/sklearn.py:1146: UserWarning: The use of label encoder in XGBClassifier is deprecated and will be removed in a future release. To remove this warning, do the following: 1) Pass option use_label_encoder=False when constructing XGBClassifier object; and 2) Encode your labels (y) as integers starting with 0, i.e. 0, 1, 2, ..., [num_class - 1].\n",
      "  warnings.warn(label_encoder_deprecation_msg, UserWarning)\n",
      "/Library/Frameworks/Python.framework/Versions/3.9/lib/python3.9/site-packages/xgboost/sklearn.py:1146: UserWarning: The use of label encoder in XGBClassifier is deprecated and will be removed in a future release. To remove this warning, do the following: 1) Pass option use_label_encoder=False when constructing XGBClassifier object; and 2) Encode your labels (y) as integers starting with 0, i.e. 0, 1, 2, ..., [num_class - 1].\n",
      "  warnings.warn(label_encoder_deprecation_msg, UserWarning)\n",
      "/Library/Frameworks/Python.framework/Versions/3.9/lib/python3.9/site-packages/xgboost/sklearn.py:1146: UserWarning: The use of label encoder in XGBClassifier is deprecated and will be removed in a future release. To remove this warning, do the following: 1) Pass option use_label_encoder=False when constructing XGBClassifier object; and 2) Encode your labels (y) as integers starting with 0, i.e. 0, 1, 2, ..., [num_class - 1].\n",
      "  warnings.warn(label_encoder_deprecation_msg, UserWarning)\n",
      "/Library/Frameworks/Python.framework/Versions/3.9/lib/python3.9/site-packages/xgboost/sklearn.py:1146: UserWarning: The use of label encoder in XGBClassifier is deprecated and will be removed in a future release. To remove this warning, do the following: 1) Pass option use_label_encoder=False when constructing XGBClassifier object; and 2) Encode your labels (y) as integers starting with 0, i.e. 0, 1, 2, ..., [num_class - 1].\n",
      "  warnings.warn(label_encoder_deprecation_msg, UserWarning)\n",
      "/Library/Frameworks/Python.framework/Versions/3.9/lib/python3.9/site-packages/xgboost/sklearn.py:1146: UserWarning: The use of label encoder in XGBClassifier is deprecated and will be removed in a future release. To remove this warning, do the following: 1) Pass option use_label_encoder=False when constructing XGBClassifier object; and 2) Encode your labels (y) as integers starting with 0, i.e. 0, 1, 2, ..., [num_class - 1].\n",
      "  warnings.warn(label_encoder_deprecation_msg, UserWarning)\n",
      "/Library/Frameworks/Python.framework/Versions/3.9/lib/python3.9/site-packages/xgboost/sklearn.py:1146: UserWarning: The use of label encoder in XGBClassifier is deprecated and will be removed in a future release. To remove this warning, do the following: 1) Pass option use_label_encoder=False when constructing XGBClassifier object; and 2) Encode your labels (y) as integers starting with 0, i.e. 0, 1, 2, ..., [num_class - 1].\n",
      "  warnings.warn(label_encoder_deprecation_msg, UserWarning)\n"
     ]
    }
   ],
   "source": [
    "best_model = create_model(model_matrix)\n",
    "final_model = finalize_model(best_model)"
   ]
  },
  {
   "cell_type": "code",
   "execution_count": 10,
   "metadata": {},
   "outputs": [
    {
     "data": {
      "image/png": "[encoded data removed]",
      "text/plain": [
       "<Figure size 800x500 with 1 Axes>"
      ]
     },
     "metadata": {},
     "output_type": "display_data"
    }
   ],
   "source": [
    "plot_model(final_model, plot='feature')"
   ]
  },
  {
   "cell_type": "code",
   "execution_count": 11,
   "metadata": {},
   "outputs": [
    {
     "data": {
      "image/png": "[encoded data removed]",
      "text/plain": [
       "<Figure size 576x396 with 1 Axes>"
      ]
     },
     "metadata": {},
     "output_type": "display_data"
    }
   ],
   "source": [
    "plot_model(final_model, plot='confusion_matrix')"
   ]
  },
  {
   "cell_type": "markdown",
   "metadata": {},
   "source": [
    "### To connect to RedShift, we have to tell AWS which profile we'd like to login to, this will send us for a browser authentication trip:"
   ]
  },
  {
   "cell_type": "markdown",
   "metadata": {},
   "source": [
    "### Now we can create a session and client to RedShift, and create a new connection using Psycopg2:"
   ]
  },
  {
   "cell_type": "markdown",
   "metadata": {},
   "source": [
    "### First we need to call the stored procedure, which will create a named cursor - then we can query the results produced by the stored proc using that named cursor to create scoring dataframe:"
   ]
  },
  {
   "cell_type": "code",
   "execution_count": 31,
   "metadata": {},
   "outputs": [
    {
     "name": "stdout",
     "output_type": "stream",
     "text": [
      "GOT CONNECTION TO DATABASE: prod-app stlrcfl\n"
     ]
    }
   ],
   "source": [
    "session = boto3.session.Session(profile_name='Stellaralgo-DataScienceAdmin')\n",
    "client = session.client('redshift')\n",
    "\n",
    "CLUSTER = 'prod-app'\n",
    "DBNAME = 'stlrcfl'\n",
    "\n",
    "creds2 = client.get_cluster_credentials(                \n",
    "    ClusterIdentifier = CLUSTER,\n",
    "    DbUser = 'admin',\n",
    "    DbName = DBNAME,\n",
    "    DbGroups = ['admin_group'],\n",
    "    AutoCreate=True\n",
    ")\n",
    "\n",
    "# create a connection & cursor and call the stored procedure\n",
    "conn2 = psycopg2.connect(\n",
    "    host = 'prod-app.ctjussvyafp4.us-east-1.redshift.amazonaws.com',\n",
    "    port = 5439,\n",
    "    user = creds2['DbUser'],\n",
    "    password = creds2['DbPassword'],\n",
    "    database = DBNAME\n",
    ")\n",
    "\n",
    "print(f\"GOT CONNECTION TO DATABASE: {CLUSTER} {DBNAME}\")"
   ]
  },
  {
   "cell_type": "code",
   "execution_count": 32,
   "metadata": {},
   "outputs": [],
   "source": [
    "# create a list of games dates \n",
    "game_dates= ['2022-06-09','2022-06-25','2022-07-30','2022-08-13','2022-09-05','2022-09-17','2022-10-01','2022-10-14','2022-10-29']\n",
    "\n",
    "predictions =[]\n",
    "for game_date in game_dates:\n",
    "    \n",
    "    cur2 = conn2.cursor()\n",
    "    cur2.execute(f\"CALL ds.geteventpropensityscoringdata(35, '{game_date}', 'result')\")\n",
    "\n",
    "    # create a named cursor based on the cursor name passed in above\n",
    "    named_cursor = conn2.cursor('result')\n",
    "    data = named_cursor.fetchall()\n",
    "\n",
    "    # load the data and columns into a data frame\n",
    "    cols = [row[0] for row in named_cursor.description]\n",
    "    df_scoring = pd.DataFrame(data=data, columns=cols)\n",
    "    df_scoring = df_scoring.fillna(0)\n",
    "    #print(df_scoring)\n",
    "    \n",
    "    # get predictions from the model for each game\n",
    "    new_predictions = predict_model(final_model, data=df_scoring, raw_score=True)\n",
    "    predictions.append(new_predictions)\n",
    "    \n",
    "    conn2.commit()"
   ]
  },
  {
   "cell_type": "code",
   "execution_count": 34,
   "metadata": {},
   "outputs": [
    {
     "name": "stdout",
     "output_type": "stream",
     "text": [
      "06-09-2022\n",
      "(0.8, 1.0]       41863\n",
      "(-0.001, 0.5]    20615\n",
      "(0.5, 0.8]       20026\n",
      "Name: Score_1, dtype: int64\n",
      "06-25-2022\n",
      "(0.8, 1.0]       55365\n",
      "(0.5, 0.8]       15540\n",
      "(-0.001, 0.5]    11599\n",
      "Name: Score_1, dtype: int64\n",
      "07-30-2022\n",
      "(0.8, 1.0]       52939\n",
      "(0.5, 0.8]       16601\n",
      "(-0.001, 0.5]    12964\n",
      "Name: Score_1, dtype: int64\n",
      "08-13-2022\n",
      "(0.8, 1.0]       57521\n",
      "(0.5, 0.8]       13881\n",
      "(-0.001, 0.5]    11102\n",
      "Name: Score_1, dtype: int64\n",
      "09-05-2022\n",
      "(0.8, 1.0]       47560\n",
      "(0.5, 0.8]       20810\n",
      "(-0.001, 0.5]    14134\n",
      "Name: Score_1, dtype: int64\n",
      "09-17-2022\n",
      "(0.8, 1.0]       53613\n",
      "(0.5, 0.8]       16211\n",
      "(-0.001, 0.5]    12680\n",
      "Name: Score_1, dtype: int64\n",
      "10-01-2022\n",
      "(0.8, 1.0]       62893\n",
      "(0.5, 0.8]       11095\n",
      "(-0.001, 0.5]     8516\n",
      "Name: Score_1, dtype: int64\n",
      "10-14-2022\n",
      "(0.8, 1.0]       53641\n",
      "(0.5, 0.8]       15366\n",
      "(-0.001, 0.5]    13497\n",
      "Name: Score_1, dtype: int64\n",
      "10-29-2022\n",
      "(0.8, 1.0]       63827\n",
      "(0.5, 0.8]       10609\n",
      "(-0.001, 0.5]     8068\n",
      "Name: Score_1, dtype: int64\n"
     ]
    }
   ],
   "source": [
    "for df_game in predictions:\n",
    "    print(str(df_game['eventdate'].unique()[0].strftime(\"%m-%d-%Y\")) + '\\n' + str(df_game[\"Score_1\"].value_counts(bins=[0, 0.5, 0.8, 1.0])))"
   ]
  },
  {
   "cell_type": "code",
   "execution_count": 36,
   "metadata": {},
   "outputs": [
    {
     "data": {
      "image/png": "[encoded data removed]",
      "text/plain": [
       "<Figure size 576x396 with 9 Axes>"
      ]
     },
     "metadata": {},
     "output_type": "display_data"
    }
   ],
   "source": [
    "for idx, df_game in enumerate(predictions):\n",
    "    \n",
    "    plt.subplot(3, 3, idx+1)\n",
    "    \n",
    "    event_date = df_game['eventdate'].unique()[0].strftime(\"%m-%d-%Y\")\n",
    "    \n",
    "    plt.title(event_date, fontsize = 12)\n",
    "    plt.xlabel(\"Event Date\")\n",
    "    plt.ylabel(\"Score_1\")\n",
    "    plt.hist(df_game['Score_1'], bins= 20, edgecolor = \"black\")\n",
    "plt.tight_layout()\n",
    "plt.show()"
   ]
  },
  {
   "cell_type": "code",
   "execution_count": 38,
   "metadata": {},
   "outputs": [
    {
     "name": "stdout",
     "output_type": "stream",
     "text": [
      "2022-06-09    82504\n",
      "Name: eventdate, dtype: int64\n",
      "2022-06-25    82504\n",
      "Name: eventdate, dtype: int64\n",
      "2022-07-30    82504\n",
      "Name: eventdate, dtype: int64\n",
      "2022-08-13    82504\n",
      "Name: eventdate, dtype: int64\n",
      "2022-09-05    82504\n",
      "Name: eventdate, dtype: int64\n",
      "2022-09-17    82504\n",
      "Name: eventdate, dtype: int64\n",
      "2022-10-01    82504\n",
      "Name: eventdate, dtype: int64\n",
      "2022-10-14    82504\n",
      "Name: eventdate, dtype: int64\n",
      "2022-10-29    82504\n",
      "Name: eventdate, dtype: int64\n"
     ]
    }
   ],
   "source": [
    "for df_game in predictions:\n",
    "    print(df_game[\"eventdate\"].value_counts().sort_index(ascending=False))"
   ]
  },
  {
   "cell_type": "markdown",
   "metadata": {},
   "source": [
    "### Save the results in for each game in a csv file"
   ]
  },
  {
   "cell_type": "code",
   "execution_count": 39,
   "metadata": {},
   "outputs": [],
   "source": [
    "for df_game in predictions:\n",
    "\n",
    "    event_date = df_game['eventdate'].unique()[0].strftime(\"%m-%d-%Y\")\n",
    "    df_game.to_csv(f\"prod_results_redshift/stamps_ep_scores_{event_date}.csv\", index=False)"
   ]
  },
  {
   "cell_type": "markdown",
   "metadata": {},
   "source": [
    "## Observations\n",
    "\n",
    "1. How accurate was this model? \n",
    "* The accuracy is 80% \n",
    "\n",
    "2. How many fans scored over 0.80 for the 2022 season?\n",
    "* 06-09-2022 : 3,806 out of 83720\n",
    "* 06-25-2022 : 5,336 out of 83720\n",
    "* 07-30-2022 : 5,717 out of 83720\n",
    "* 08-13-2022 : 7,202 out of 83720\n",
    "* 09-05-2022 : 6,940 out of 83720\n",
    "* 09-17-2022 : 3,288 out of 83720\n",
    "* 10-01-2022 : 8,273 out of 83720\n",
    "* 10-14-2022 : 5,503 out of 83720\n",
    "* 10-29-2022 : 11,898 out of 83720\n",
    "\n",
    "3. What were the most important features in making a correct prediction?\n",
    "* tenure, distanceToVenue, frequency_eventTime are top 3 important features which makes sense.\n"
   ]
  },
  {
   "cell_type": "markdown",
   "metadata": {},
   "source": [
    "## Conclusion"
   ]
  },
  {
   "cell_type": "markdown",
   "metadata": {},
   "source": [
    "Based on our observations above we reccomend using this event propensity model because we get enough number of buyers that have score above 80% for each game that can be useful for Stamps."
   ]
  },
  {
   "cell_type": "code",
   "execution_count": null,
   "metadata": {},
   "outputs": [],
   "source": []
  }
 ],
 "metadata": {
  "interpreter": {
   "hash": "89f48dadab51a6b5b48ffc1a9e043c21cefe67453637c3444f3b86917b8aad16"
  },
  "kernelspec": {
   "display_name": "Python 3 (ipykernel)",
   "language": "python",
   "name": "python3"
  },
  "language_info": {
   "codemirror_mode": {
    "name": "ipython",
    "version": 3
   },
   "file_extension": ".py",
   "mimetype": "text/x-python",
   "name": "python",
   "nbconvert_exporter": "python",
   "pygments_lexer": "ipython3",
   "version": "3.9.4"
  }
 },
 "nbformat": 4,
 "nbformat_minor": 4
}
