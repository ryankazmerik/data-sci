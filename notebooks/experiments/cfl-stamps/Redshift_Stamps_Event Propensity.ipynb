{
 "cells": [
  {
   "cell_type": "markdown",
   "id": "0c641235-d720-4fa1-bec2-acccdef2ee7a",
   "metadata": {},
   "source": [
    "# Calgary Stampeders - Event Propensity MVP\n",
    "* StellarAlgo Data Science\n",
    "* Nakisa Rad & Ryan Kazmerik\n",
    "* May 26, 2022"
   ]
  },
  {
   "cell_type": "markdown",
   "id": "3f34f4ab-3b22-4fc7-8339-9fa6e35a70ff",
   "metadata": {},
   "source": [
    "## Hypothesis\n",
    "We think that using our Stellar Event Propensity model, we can produce a list of fans that have higher probability to purchase a individual ticket to a game based on their previous purchasing and engagement behaviour."
   ]
  },
  {
   "cell_type": "markdown",
   "id": "da26a746-c7fc-4f64-b002-b03fa2469bb3",
   "metadata": {},
   "source": [
    "## Experiment\n",
    "This section details our experiment including querying data, data transformations, feature selection and modelling."
   ]
  },
  {
   "cell_type": "code",
   "execution_count": 1,
   "id": "f6c78855-d3da-4d9e-bea1-341eb207f1ba",
   "metadata": {},
   "outputs": [],
   "source": [
    "import boto3\n",
    "import getpass\n",
    "import pyodbc\n",
    "import pandas as pd\n",
    "import psycopg2\n",
    "import matplotlib.pyplot as plt\n",
    "\n",
    "from pycaret.classification import *\n",
    "\n",
    "pd.options.display.max_columns = 100\n",
    "pd.options.display.max_rows = 100"
   ]
  },
  {
   "cell_type": "markdown",
   "id": "c99f24c8-98dc-4196-860a-6c04ea079e80",
   "metadata": {},
   "source": [
    "### To connect to RedShift, we have to tell AWS which profile we'd like to login to, this will send us for a browser authentication trip:"
   ]
  },
  {
   "cell_type": "code",
   "execution_count": 2,
   "id": "409d552b-0ab1-4f41-9fdb-ee1dbbad674d",
   "metadata": {},
   "outputs": [
    {
     "name": "stdout",
     "output_type": "stream",
     "text": [
      "Attempting to automatically open the SSO authorization page in your default browser.\n",
      "If the browser does not open or you wish to use a different device to authorize this request, open the following URL:\n",
      "\n",
      "https://device.sso.us-east-1.amazonaws.com/\n",
      "\n",
      "Then enter the code:\n",
      "\n",
      "WHZV-WRTL\n",
      "Successully logged into Start URL: https://stellaralgo.awsapps.com/start#/\n"
     ]
    }
   ],
   "source": [
    "! aws sso login --profile Stellaralgo-DataScienceAdmin"
   ]
  },
  {
   "cell_type": "markdown",
   "id": "89f4ead3-8f80-4b35-8e88-9f590abbcf0b",
   "metadata": {},
   "source": [
    "### Now we can create a session and client to RedShift, and create a new connection using Psycopg2:"
   ]
  },
  {
   "cell_type": "code",
   "execution_count": 3,
   "id": "429d43a1-93ff-40c5-a9e7-e25b7d625876",
   "metadata": {},
   "outputs": [
    {
     "name": "stdout",
     "output_type": "stream",
     "text": [
      "GOT CONNECTION TO DATABASE: prod-app stlrcfl\n"
     ]
    }
   ],
   "source": [
    "session = boto3.session.Session(profile_name='Stellaralgo-DataScienceAdmin')\n",
    "client = session.client('redshift')\n",
    "\n",
    "CLUSTER = 'prod-app'\n",
    "DBNAME = 'stlrcfl'\n",
    "\n",
    "creds = client.get_cluster_credentials(                \n",
    "    ClusterIdentifier = CLUSTER,\n",
    "    DbUser = 'admin',\n",
    "    DbName = DBNAME,\n",
    "    DbGroups = ['admin_group'],\n",
    "    AutoCreate=True\n",
    ")\n",
    "\n",
    "# create a connection & cursor and call the stored procedure\n",
    "conn = psycopg2.connect(\n",
    "    host = 'prod-app.ctjussvyafp4.us-east-1.redshift.amazonaws.com',\n",
    "    port = 5439,\n",
    "    user = creds['DbUser'],\n",
    "    password = creds['DbPassword'],\n",
    "    database = DBNAME\n",
    ")\n",
    "\n",
    "print(f\"GOT CONNECTION TO DATABASE: {CLUSTER} {DBNAME}\")"
   ]
  },
  {
   "cell_type": "markdown",
   "id": "49ee78fb-7ab3-42f2-865f-24d036d67fa4",
   "metadata": {},
   "source": [
    "### Let's connect to Redshift and run a stored proc to get our dataset:"
   ]
  },
  {
   "cell_type": "code",
   "execution_count": 4,
   "id": "3d011399-3162-4e61-af30-92a4900563f2",
   "metadata": {},
   "outputs": [],
   "source": [
    "cur = conn.cursor()\n",
    "cur.execute(f\"CALL ds.geteventpropensitytrainingdata(35, 2010, 2022, 'rkcursor')\")\n",
    "\n",
    "# create a named cursor based on the cursor name passed in above\n",
    "named_cursor = conn.cursor('rkcursor')\n",
    "data = named_cursor.fetchall()\n",
    "\n",
    "# load the data and columns into a data frame\n",
    "cols = [row[0] for row in named_cursor.description]\n",
    "df = pd.DataFrame(data=data, columns=cols)\n",
    "\n",
    "conn.commit()"
   ]
  },
  {
   "cell_type": "code",
   "execution_count": 5,
   "id": "cebb52ff-b073-4fad-b78b-e9ec92013a4b",
   "metadata": {},
   "outputs": [
    {
     "name": "stdout",
     "output_type": "stream",
     "text": [
      "<class 'pandas.core.frame.DataFrame'>\n",
      "RangeIndex: 18026 entries, 0 to 18025\n",
      "Data columns (total 17 columns):\n",
      " #   Column               Non-Null Count  Dtype         \n",
      "---  ------               --------------  -----         \n",
      " 0   daysout              18026 non-null  object        \n",
      " 1   mindaysout           18026 non-null  int64         \n",
      " 2   maxdaysout           11205 non-null  float64       \n",
      " 3   dimcustomermasterid  18026 non-null  int64         \n",
      " 4   recent_openrate      18026 non-null  float64       \n",
      " 5   recent_clickrate     18026 non-null  float64       \n",
      " 6   eventdate            18026 non-null  datetime64[ns]\n",
      " 7   eventname            18026 non-null  object        \n",
      " 8   inmarket             16288 non-null  object        \n",
      " 9   distancetovenue      16288 non-null  float64       \n",
      " 10  tenure               18026 non-null  int64         \n",
      " 11  did_purchase         18026 non-null  int64         \n",
      " 12  events_purchased     18026 non-null  int64         \n",
      " 13  frequency_opponent   18026 non-null  float64       \n",
      " 14  frequency_eventday   18026 non-null  float64       \n",
      " 15  frequency_eventtime  18026 non-null  float64       \n",
      " 16  count_merchowned     18026 non-null  int64         \n",
      "dtypes: datetime64[ns](1), float64(7), int64(6), object(3)\n",
      "memory usage: 2.3+ MB\n"
     ]
    }
   ],
   "source": [
    "df.info()"
   ]
  },
  {
   "cell_type": "code",
   "execution_count": 6,
   "id": "ca09017a-34f7-4130-8611-aae7bbdf26ad",
   "metadata": {},
   "outputs": [
    {
     "name": "stdout",
     "output_type": "stream",
     "text": [
      "Data for Modeling: (15322, 13)\n",
      "Unseen Data For Predictions: (2704, 13)\n",
      "\n"
     ]
    }
   ],
   "source": [
    "# choose the features for the stellar base retention model\n",
    "features = [\n",
    "                \"daysout\",\n",
    "                #\"mindaysout\",\n",
    "                #\"maxdaysout\",\n",
    "                \"dimcustomermasterid\",\n",
    "                \"recent_openrate\",\n",
    "                \"recent_clickrate\",\n",
    "                \"eventdate\",\n",
    "                #\"eventname\",\n",
    "                \"inmarket\",\n",
    "                \"distancetovenue\",\n",
    "                \"tenure\",\n",
    "                \"did_purchase\",\n",
    "                \"events_purchased\",\n",
    "                \"frequency_opponent\",\n",
    "                \"frequency_eventday\",\n",
    "                \"frequency_eventtime\"\n",
    "                #\"count_merchowned\"\n",
    "]\n",
    "\n",
    "# copy your main dataframe\n",
    "df_dataset = df\n",
    "\n",
    "#creating the training and evaluation dataframe\n",
    "df_dataset = df_dataset[features]\n",
    "\n",
    "df_train = df_dataset.sample(frac=0.85, random_state=786)\n",
    "df_eval = df_dataset.drop(df_train.index)\n",
    "\n",
    "df_train.reset_index(drop=True, inplace=True)\n",
    "df_eval.reset_index(drop=True, inplace=True)\n",
    "\n",
    "# print out the number of records for training and eval\n",
    "print('Data for Modeling: ' + str(df_train.shape))\n",
    "print('Unseen Data For Predictions: ' + str(df_eval.shape), end=\"\\n\\n\")"
   ]
  },
  {
   "cell_type": "markdown",
   "id": "9e50e1ec-1749-4177-8f3f-3d3db64542f9",
   "metadata": {},
   "source": [
    "### Now we can model the data using a binary classification prediction for the did_purchase field to see how likely a customer is to re-purchase."
   ]
  },
  {
   "cell_type": "code",
   "execution_count": 7,
   "id": "ca1804c6-68e5-43dd-ac50-7ac52f8fe6a0",
   "metadata": {},
   "outputs": [],
   "source": [
    "setup(\n",
    "    data= df_train, \n",
    "    target=\"did_purchase\", \n",
    "    train_size = 0.85,\n",
    "    data_split_shuffle=True,\n",
    "    ignore_features=[\"dimcustomermasterid\"],\n",
    "    silent=True,\n",
    "    verbose=False,\n",
    "    numeric_features=[\n",
    "        \n",
    "                #\"mindaysout\",\n",
    "                #\"maxdaysout\",\n",
    "                \"recent_openrate\",\n",
    "                \"recent_clickrate\",\n",
    "                \"distancetovenue\",\n",
    "                \"tenure\",\n",
    "                \"events_purchased\",\n",
    "                \"frequency_opponent\",\n",
    "                \"frequency_eventday\",\n",
    "                \"frequency_eventtime\"\n",
    "                #\"count_merchowned\"\n",
    "    ]\n",
    ");"
   ]
  },
  {
   "cell_type": "code",
   "execution_count": 8,
   "id": "82e1d72b-ea9c-467c-b938-9e07f009a04a",
   "metadata": {},
   "outputs": [
    {
     "data": {
      "text/html": [
       "<style type=\"text/css\">\n",
       "#T_e9e47 th {\n",
       "  text-align: left;\n",
       "}\n",
       "#T_e9e47_row0_col0, #T_e9e47_row1_col0, #T_e9e47_row1_col1, #T_e9e47_row1_col2, #T_e9e47_row1_col3, #T_e9e47_row1_col4, #T_e9e47_row1_col5, #T_e9e47_row1_col6, #T_e9e47_row1_col7, #T_e9e47_row2_col0, #T_e9e47_row2_col1, #T_e9e47_row2_col2, #T_e9e47_row2_col3, #T_e9e47_row2_col4, #T_e9e47_row2_col5, #T_e9e47_row2_col6, #T_e9e47_row2_col7, #T_e9e47_row3_col0, #T_e9e47_row3_col1, #T_e9e47_row3_col2, #T_e9e47_row3_col3, #T_e9e47_row3_col4, #T_e9e47_row3_col5, #T_e9e47_row3_col6, #T_e9e47_row3_col7, #T_e9e47_row4_col0, #T_e9e47_row4_col1, #T_e9e47_row4_col2, #T_e9e47_row4_col3, #T_e9e47_row4_col4, #T_e9e47_row4_col5, #T_e9e47_row4_col6, #T_e9e47_row4_col7, #T_e9e47_row5_col0, #T_e9e47_row5_col1, #T_e9e47_row5_col2, #T_e9e47_row5_col3, #T_e9e47_row5_col4, #T_e9e47_row5_col5, #T_e9e47_row5_col6, #T_e9e47_row5_col7 {\n",
       "  text-align: left;\n",
       "}\n",
       "#T_e9e47_row0_col1, #T_e9e47_row0_col2, #T_e9e47_row0_col3, #T_e9e47_row0_col4, #T_e9e47_row0_col5, #T_e9e47_row0_col6, #T_e9e47_row0_col7 {\n",
       "  text-align: left;\n",
       "  background-color: yellow;\n",
       "}\n",
       "#T_e9e47_row0_col8, #T_e9e47_row2_col8, #T_e9e47_row3_col8, #T_e9e47_row4_col8, #T_e9e47_row5_col8 {\n",
       "  text-align: left;\n",
       "  background-color: lightgrey;\n",
       "}\n",
       "#T_e9e47_row1_col8 {\n",
       "  text-align: left;\n",
       "  background-color: yellow;\n",
       "  background-color: lightgrey;\n",
       "}\n",
       "</style>\n",
       "<table id=\"T_e9e47\">\n",
       "  <thead>\n",
       "    <tr>\n",
       "      <th class=\"blank level0\" >&nbsp;</th>\n",
       "      <th id=\"T_e9e47_level0_col0\" class=\"col_heading level0 col0\" >Model</th>\n",
       "      <th id=\"T_e9e47_level0_col1\" class=\"col_heading level0 col1\" >Accuracy</th>\n",
       "      <th id=\"T_e9e47_level0_col2\" class=\"col_heading level0 col2\" >AUC</th>\n",
       "      <th id=\"T_e9e47_level0_col3\" class=\"col_heading level0 col3\" >Recall</th>\n",
       "      <th id=\"T_e9e47_level0_col4\" class=\"col_heading level0 col4\" >Prec.</th>\n",
       "      <th id=\"T_e9e47_level0_col5\" class=\"col_heading level0 col5\" >F1</th>\n",
       "      <th id=\"T_e9e47_level0_col6\" class=\"col_heading level0 col6\" >Kappa</th>\n",
       "      <th id=\"T_e9e47_level0_col7\" class=\"col_heading level0 col7\" >MCC</th>\n",
       "      <th id=\"T_e9e47_level0_col8\" class=\"col_heading level0 col8\" >TT (Sec)</th>\n",
       "    </tr>\n",
       "  </thead>\n",
       "  <tbody>\n",
       "    <tr>\n",
       "      <th id=\"T_e9e47_level0_row0\" class=\"row_heading level0 row0\" >xgboost</th>\n",
       "      <td id=\"T_e9e47_row0_col0\" class=\"data row0 col0\" >Extreme Gradient Boosting</td>\n",
       "      <td id=\"T_e9e47_row0_col1\" class=\"data row0 col1\" >0.8478</td>\n",
       "      <td id=\"T_e9e47_row0_col2\" class=\"data row0 col2\" >0.9310</td>\n",
       "      <td id=\"T_e9e47_row0_col3\" class=\"data row0 col3\" >0.8297</td>\n",
       "      <td id=\"T_e9e47_row0_col4\" class=\"data row0 col4\" >0.8599</td>\n",
       "      <td id=\"T_e9e47_row0_col5\" class=\"data row0 col5\" >0.8444</td>\n",
       "      <td id=\"T_e9e47_row0_col6\" class=\"data row0 col6\" >0.6956</td>\n",
       "      <td id=\"T_e9e47_row0_col7\" class=\"data row0 col7\" >0.6962</td>\n",
       "      <td id=\"T_e9e47_row0_col8\" class=\"data row0 col8\" >0.8130</td>\n",
       "    </tr>\n",
       "    <tr>\n",
       "      <th id=\"T_e9e47_level0_row1\" class=\"row_heading level0 row1\" >lightgbm</th>\n",
       "      <td id=\"T_e9e47_row1_col0\" class=\"data row1 col0\" >Light Gradient Boosting Machine</td>\n",
       "      <td id=\"T_e9e47_row1_col1\" class=\"data row1 col1\" >0.8287</td>\n",
       "      <td id=\"T_e9e47_row1_col2\" class=\"data row1 col2\" >0.9152</td>\n",
       "      <td id=\"T_e9e47_row1_col3\" class=\"data row1 col3\" >0.8228</td>\n",
       "      <td id=\"T_e9e47_row1_col4\" class=\"data row1 col4\" >0.8314</td>\n",
       "      <td id=\"T_e9e47_row1_col5\" class=\"data row1 col5\" >0.8270</td>\n",
       "      <td id=\"T_e9e47_row1_col6\" class=\"data row1 col6\" >0.6574</td>\n",
       "      <td id=\"T_e9e47_row1_col7\" class=\"data row1 col7\" >0.6575</td>\n",
       "      <td id=\"T_e9e47_row1_col8\" class=\"data row1 col8\" >0.0760</td>\n",
       "    </tr>\n",
       "    <tr>\n",
       "      <th id=\"T_e9e47_level0_row2\" class=\"row_heading level0 row2\" >rf</th>\n",
       "      <td id=\"T_e9e47_row2_col0\" class=\"data row2 col0\" >Random Forest Classifier</td>\n",
       "      <td id=\"T_e9e47_row2_col1\" class=\"data row2 col1\" >0.7769</td>\n",
       "      <td id=\"T_e9e47_row2_col2\" class=\"data row2 col2\" >0.8634</td>\n",
       "      <td id=\"T_e9e47_row2_col3\" class=\"data row2 col3\" >0.7611</td>\n",
       "      <td id=\"T_e9e47_row2_col4\" class=\"data row2 col4\" >0.7846</td>\n",
       "      <td id=\"T_e9e47_row2_col5\" class=\"data row2 col5\" >0.7725</td>\n",
       "      <td id=\"T_e9e47_row2_col6\" class=\"data row2 col6\" >0.5538</td>\n",
       "      <td id=\"T_e9e47_row2_col7\" class=\"data row2 col7\" >0.5542</td>\n",
       "      <td id=\"T_e9e47_row2_col8\" class=\"data row2 col8\" >0.3010</td>\n",
       "    </tr>\n",
       "    <tr>\n",
       "      <th id=\"T_e9e47_level0_row3\" class=\"row_heading level0 row3\" >gbc</th>\n",
       "      <td id=\"T_e9e47_row3_col0\" class=\"data row3 col0\" >Gradient Boosting Classifier</td>\n",
       "      <td id=\"T_e9e47_row3_col1\" class=\"data row3 col1\" >0.7690</td>\n",
       "      <td id=\"T_e9e47_row3_col2\" class=\"data row3 col2\" >0.8568</td>\n",
       "      <td id=\"T_e9e47_row3_col3\" class=\"data row3 col3\" >0.7800</td>\n",
       "      <td id=\"T_e9e47_row3_col4\" class=\"data row3 col4\" >0.7619</td>\n",
       "      <td id=\"T_e9e47_row3_col5\" class=\"data row3 col5\" >0.7707</td>\n",
       "      <td id=\"T_e9e47_row3_col6\" class=\"data row3 col6\" >0.5381</td>\n",
       "      <td id=\"T_e9e47_row3_col7\" class=\"data row3 col7\" >0.5384</td>\n",
       "      <td id=\"T_e9e47_row3_col8\" class=\"data row3 col8\" >0.3610</td>\n",
       "    </tr>\n",
       "    <tr>\n",
       "      <th id=\"T_e9e47_level0_row4\" class=\"row_heading level0 row4\" >dt</th>\n",
       "      <td id=\"T_e9e47_row4_col0\" class=\"data row4 col0\" >Decision Tree Classifier</td>\n",
       "      <td id=\"T_e9e47_row4_col1\" class=\"data row4 col1\" >0.7564</td>\n",
       "      <td id=\"T_e9e47_row4_col2\" class=\"data row4 col2\" >0.7567</td>\n",
       "      <td id=\"T_e9e47_row4_col3\" class=\"data row4 col3\" >0.7330</td>\n",
       "      <td id=\"T_e9e47_row4_col4\" class=\"data row4 col4\" >0.7676</td>\n",
       "      <td id=\"T_e9e47_row4_col5\" class=\"data row4 col5\" >0.7498</td>\n",
       "      <td id=\"T_e9e47_row4_col6\" class=\"data row4 col6\" >0.5128</td>\n",
       "      <td id=\"T_e9e47_row4_col7\" class=\"data row4 col7\" >0.5134</td>\n",
       "      <td id=\"T_e9e47_row4_col8\" class=\"data row4 col8\" >0.3480</td>\n",
       "    </tr>\n",
       "    <tr>\n",
       "      <th id=\"T_e9e47_level0_row5\" class=\"row_heading level0 row5\" >lr</th>\n",
       "      <td id=\"T_e9e47_row5_col0\" class=\"data row5 col0\" >Logistic Regression</td>\n",
       "      <td id=\"T_e9e47_row5_col1\" class=\"data row5 col1\" >0.7098</td>\n",
       "      <td id=\"T_e9e47_row5_col2\" class=\"data row5 col2\" >0.7906</td>\n",
       "      <td id=\"T_e9e47_row5_col3\" class=\"data row5 col3\" >0.6943</td>\n",
       "      <td id=\"T_e9e47_row5_col4\" class=\"data row5 col4\" >0.7147</td>\n",
       "      <td id=\"T_e9e47_row5_col5\" class=\"data row5 col5\" >0.7043</td>\n",
       "      <td id=\"T_e9e47_row5_col6\" class=\"data row5 col6\" >0.4196</td>\n",
       "      <td id=\"T_e9e47_row5_col7\" class=\"data row5 col7\" >0.4198</td>\n",
       "      <td id=\"T_e9e47_row5_col8\" class=\"data row5 col8\" >0.3550</td>\n",
       "    </tr>\n",
       "  </tbody>\n",
       "</table>\n"
      ],
      "text/plain": [
       "<pandas.io.formats.style.Styler at 0x7fb8823696a0>"
      ]
     },
     "metadata": {},
     "output_type": "display_data"
    }
   ],
   "source": [
    "model_matrix = compare_models(\n",
    "    fold=10,\n",
    "    include=[\"dt\", \"gbc\", \"lightgbm\", \"lr\", \"rf\", \"xgboost\"]\n",
    ")"
   ]
  },
  {
   "cell_type": "code",
   "execution_count": 9,
   "id": "15fb4277-f8af-44e3-a897-305241f5f12b",
   "metadata": {},
   "outputs": [
    {
     "data": {
      "text/html": [
       "<style type=\"text/css\">\n",
       "#T_a3e05_row10_col0, #T_a3e05_row10_col1, #T_a3e05_row10_col2, #T_a3e05_row10_col3, #T_a3e05_row10_col4, #T_a3e05_row10_col5, #T_a3e05_row10_col6 {\n",
       "  background: yellow;\n",
       "}\n",
       "</style>\n",
       "<table id=\"T_a3e05\">\n",
       "  <thead>\n",
       "    <tr>\n",
       "      <th class=\"blank level0\" >&nbsp;</th>\n",
       "      <th id=\"T_a3e05_level0_col0\" class=\"col_heading level0 col0\" >Accuracy</th>\n",
       "      <th id=\"T_a3e05_level0_col1\" class=\"col_heading level0 col1\" >AUC</th>\n",
       "      <th id=\"T_a3e05_level0_col2\" class=\"col_heading level0 col2\" >Recall</th>\n",
       "      <th id=\"T_a3e05_level0_col3\" class=\"col_heading level0 col3\" >Prec.</th>\n",
       "      <th id=\"T_a3e05_level0_col4\" class=\"col_heading level0 col4\" >F1</th>\n",
       "      <th id=\"T_a3e05_level0_col5\" class=\"col_heading level0 col5\" >Kappa</th>\n",
       "      <th id=\"T_a3e05_level0_col6\" class=\"col_heading level0 col6\" >MCC</th>\n",
       "    </tr>\n",
       "  </thead>\n",
       "  <tbody>\n",
       "    <tr>\n",
       "      <th id=\"T_a3e05_level0_row0\" class=\"row_heading level0 row0\" >0</th>\n",
       "      <td id=\"T_a3e05_row0_col0\" class=\"data row0 col0\" >0.8419</td>\n",
       "      <td id=\"T_a3e05_row0_col1\" class=\"data row0 col1\" >0.9250</td>\n",
       "      <td id=\"T_a3e05_row0_col2\" class=\"data row0 col2\" >0.8259</td>\n",
       "      <td id=\"T_a3e05_row0_col3\" class=\"data row0 col3\" >0.8521</td>\n",
       "      <td id=\"T_a3e05_row0_col4\" class=\"data row0 col4\" >0.8388</td>\n",
       "      <td id=\"T_a3e05_row0_col5\" class=\"data row0 col5\" >0.6838</td>\n",
       "      <td id=\"T_a3e05_row0_col6\" class=\"data row0 col6\" >0.6841</td>\n",
       "    </tr>\n",
       "    <tr>\n",
       "      <th id=\"T_a3e05_level0_row1\" class=\"row_heading level0 row1\" >1</th>\n",
       "      <td id=\"T_a3e05_row1_col0\" class=\"data row1 col0\" >0.8565</td>\n",
       "      <td id=\"T_a3e05_row1_col1\" class=\"data row1 col1\" >0.9378</td>\n",
       "      <td id=\"T_a3e05_row1_col2\" class=\"data row1 col2\" >0.8290</td>\n",
       "      <td id=\"T_a3e05_row1_col3\" class=\"data row1 col3\" >0.8762</td>\n",
       "      <td id=\"T_a3e05_row1_col4\" class=\"data row1 col4\" >0.8519</td>\n",
       "      <td id=\"T_a3e05_row1_col5\" class=\"data row1 col5\" >0.7129</td>\n",
       "      <td id=\"T_a3e05_row1_col6\" class=\"data row1 col6\" >0.7139</td>\n",
       "    </tr>\n",
       "    <tr>\n",
       "      <th id=\"T_a3e05_level0_row2\" class=\"row_heading level0 row2\" >2</th>\n",
       "      <td id=\"T_a3e05_row2_col0\" class=\"data row2 col0\" >0.8480</td>\n",
       "      <td id=\"T_a3e05_row2_col1\" class=\"data row2 col1\" >0.9398</td>\n",
       "      <td id=\"T_a3e05_row2_col2\" class=\"data row2 col2\" >0.8320</td>\n",
       "      <td id=\"T_a3e05_row2_col3\" class=\"data row2 col3\" >0.8585</td>\n",
       "      <td id=\"T_a3e05_row2_col4\" class=\"data row2 col4\" >0.8451</td>\n",
       "      <td id=\"T_a3e05_row2_col5\" class=\"data row2 col5\" >0.6960</td>\n",
       "      <td id=\"T_a3e05_row2_col6\" class=\"data row2 col6\" >0.6964</td>\n",
       "    </tr>\n",
       "    <tr>\n",
       "      <th id=\"T_a3e05_level0_row3\" class=\"row_heading level0 row3\" >3</th>\n",
       "      <td id=\"T_a3e05_row3_col0\" class=\"data row3 col0\" >0.8433</td>\n",
       "      <td id=\"T_a3e05_row3_col1\" class=\"data row3 col1\" >0.9278</td>\n",
       "      <td id=\"T_a3e05_row3_col2\" class=\"data row3 col2\" >0.8472</td>\n",
       "      <td id=\"T_a3e05_row3_col3\" class=\"data row3 col3\" >0.8394</td>\n",
       "      <td id=\"T_a3e05_row3_col4\" class=\"data row3 col4\" >0.8433</td>\n",
       "      <td id=\"T_a3e05_row3_col5\" class=\"data row3 col5\" >0.6866</td>\n",
       "      <td id=\"T_a3e05_row3_col6\" class=\"data row3 col6\" >0.6867</td>\n",
       "    </tr>\n",
       "    <tr>\n",
       "      <th id=\"T_a3e05_level0_row4\" class=\"row_heading level0 row4\" >4</th>\n",
       "      <td id=\"T_a3e05_row4_col0\" class=\"data row4 col0\" >0.8479</td>\n",
       "      <td id=\"T_a3e05_row4_col1\" class=\"data row4 col1\" >0.9282</td>\n",
       "      <td id=\"T_a3e05_row4_col2\" class=\"data row4 col2\" >0.8210</td>\n",
       "      <td id=\"T_a3e05_row4_col3\" class=\"data row4 col3\" >0.8664</td>\n",
       "      <td id=\"T_a3e05_row4_col4\" class=\"data row4 col4\" >0.8431</td>\n",
       "      <td id=\"T_a3e05_row4_col5\" class=\"data row4 col5\" >0.6958</td>\n",
       "      <td id=\"T_a3e05_row4_col6\" class=\"data row4 col6\" >0.6967</td>\n",
       "    </tr>\n",
       "    <tr>\n",
       "      <th id=\"T_a3e05_level0_row5\" class=\"row_heading level0 row5\" >5</th>\n",
       "      <td id=\"T_a3e05_row5_col0\" class=\"data row5 col0\" >0.8379</td>\n",
       "      <td id=\"T_a3e05_row5_col1\" class=\"data row5 col1\" >0.9284</td>\n",
       "      <td id=\"T_a3e05_row5_col2\" class=\"data row5 col2\" >0.7948</td>\n",
       "      <td id=\"T_a3e05_row5_col3\" class=\"data row5 col3\" >0.8685</td>\n",
       "      <td id=\"T_a3e05_row5_col4\" class=\"data row5 col4\" >0.8300</td>\n",
       "      <td id=\"T_a3e05_row5_col5\" class=\"data row5 col5\" >0.6758</td>\n",
       "      <td id=\"T_a3e05_row5_col6\" class=\"data row5 col6\" >0.6782</td>\n",
       "    </tr>\n",
       "    <tr>\n",
       "      <th id=\"T_a3e05_level0_row6\" class=\"row_heading level0 row6\" >6</th>\n",
       "      <td id=\"T_a3e05_row6_col0\" class=\"data row6 col0\" >0.8441</td>\n",
       "      <td id=\"T_a3e05_row6_col1\" class=\"data row6 col1\" >0.9269</td>\n",
       "      <td id=\"T_a3e05_row6_col2\" class=\"data row6 col2\" >0.8318</td>\n",
       "      <td id=\"T_a3e05_row6_col3\" class=\"data row6 col3\" >0.8515</td>\n",
       "      <td id=\"T_a3e05_row6_col4\" class=\"data row6 col4\" >0.8415</td>\n",
       "      <td id=\"T_a3e05_row6_col5\" class=\"data row6 col5\" >0.6881</td>\n",
       "      <td id=\"T_a3e05_row6_col6\" class=\"data row6 col6\" >0.6883</td>\n",
       "    </tr>\n",
       "    <tr>\n",
       "      <th id=\"T_a3e05_level0_row7\" class=\"row_heading level0 row7\" >7</th>\n",
       "      <td id=\"T_a3e05_row7_col0\" class=\"data row7 col0\" >0.8479</td>\n",
       "      <td id=\"T_a3e05_row7_col1\" class=\"data row7 col1\" >0.9270</td>\n",
       "      <td id=\"T_a3e05_row7_col2\" class=\"data row7 col2\" >0.8210</td>\n",
       "      <td id=\"T_a3e05_row7_col3\" class=\"data row7 col3\" >0.8664</td>\n",
       "      <td id=\"T_a3e05_row7_col4\" class=\"data row7 col4\" >0.8431</td>\n",
       "      <td id=\"T_a3e05_row7_col5\" class=\"data row7 col5\" >0.6958</td>\n",
       "      <td id=\"T_a3e05_row7_col6\" class=\"data row7 col6\" >0.6967</td>\n",
       "    </tr>\n",
       "    <tr>\n",
       "      <th id=\"T_a3e05_level0_row8\" class=\"row_heading level0 row8\" >8</th>\n",
       "      <td id=\"T_a3e05_row8_col0\" class=\"data row8 col0\" >0.8456</td>\n",
       "      <td id=\"T_a3e05_row8_col1\" class=\"data row8 col1\" >0.9324</td>\n",
       "      <td id=\"T_a3e05_row8_col2\" class=\"data row8 col2\" >0.8287</td>\n",
       "      <td id=\"T_a3e05_row8_col3\" class=\"data row8 col3\" >0.8565</td>\n",
       "      <td id=\"T_a3e05_row8_col4\" class=\"data row8 col4\" >0.8424</td>\n",
       "      <td id=\"T_a3e05_row8_col5\" class=\"data row8 col5\" >0.6912</td>\n",
       "      <td id=\"T_a3e05_row8_col6\" class=\"data row8 col6\" >0.6916</td>\n",
       "    </tr>\n",
       "    <tr>\n",
       "      <th id=\"T_a3e05_level0_row9\" class=\"row_heading level0 row9\" >9</th>\n",
       "      <td id=\"T_a3e05_row9_col0\" class=\"data row9 col0\" >0.8648</td>\n",
       "      <td id=\"T_a3e05_row9_col1\" class=\"data row9 col1\" >0.9365</td>\n",
       "      <td id=\"T_a3e05_row9_col2\" class=\"data row9 col2\" >0.8657</td>\n",
       "      <td id=\"T_a3e05_row9_col3\" class=\"data row9 col3\" >0.8631</td>\n",
       "      <td id=\"T_a3e05_row9_col4\" class=\"data row9 col4\" >0.8644</td>\n",
       "      <td id=\"T_a3e05_row9_col5\" class=\"data row9 col5\" >0.7296</td>\n",
       "      <td id=\"T_a3e05_row9_col6\" class=\"data row9 col6\" >0.7296</td>\n",
       "    </tr>\n",
       "    <tr>\n",
       "      <th id=\"T_a3e05_level0_row10\" class=\"row_heading level0 row10\" >Mean</th>\n",
       "      <td id=\"T_a3e05_row10_col0\" class=\"data row10 col0\" >0.8478</td>\n",
       "      <td id=\"T_a3e05_row10_col1\" class=\"data row10 col1\" >0.9310</td>\n",
       "      <td id=\"T_a3e05_row10_col2\" class=\"data row10 col2\" >0.8297</td>\n",
       "      <td id=\"T_a3e05_row10_col3\" class=\"data row10 col3\" >0.8599</td>\n",
       "      <td id=\"T_a3e05_row10_col4\" class=\"data row10 col4\" >0.8444</td>\n",
       "      <td id=\"T_a3e05_row10_col5\" class=\"data row10 col5\" >0.6956</td>\n",
       "      <td id=\"T_a3e05_row10_col6\" class=\"data row10 col6\" >0.6962</td>\n",
       "    </tr>\n",
       "    <tr>\n",
       "      <th id=\"T_a3e05_level0_row11\" class=\"row_heading level0 row11\" >SD</th>\n",
       "      <td id=\"T_a3e05_row11_col0\" class=\"data row11 col0\" >0.0073</td>\n",
       "      <td id=\"T_a3e05_row11_col1\" class=\"data row11 col1\" >0.0050</td>\n",
       "      <td id=\"T_a3e05_row11_col2\" class=\"data row11 col2\" >0.0173</td>\n",
       "      <td id=\"T_a3e05_row11_col3\" class=\"data row11 col3\" >0.0100</td>\n",
       "      <td id=\"T_a3e05_row11_col4\" class=\"data row11 col4\" >0.0084</td>\n",
       "      <td id=\"T_a3e05_row11_col5\" class=\"data row11 col5\" >0.0147</td>\n",
       "      <td id=\"T_a3e05_row11_col6\" class=\"data row11 col6\" >0.0144</td>\n",
       "    </tr>\n",
       "  </tbody>\n",
       "</table>\n"
      ],
      "text/plain": [
       "<pandas.io.formats.style.Styler at 0x7fb863a02d60>"
      ]
     },
     "metadata": {},
     "output_type": "display_data"
    },
    {
     "name": "stderr",
     "output_type": "stream",
     "text": [
      "/Library/Frameworks/Python.framework/Versions/3.9/lib/python3.9/site-packages/xgboost/sklearn.py:1146: UserWarning: The use of label encoder in XGBClassifier is deprecated and will be removed in a future release. To remove this warning, do the following: 1) Pass option use_label_encoder=False when constructing XGBClassifier object; and 2) Encode your labels (y) as integers starting with 0, i.e. 0, 1, 2, ..., [num_class - 1].\n",
      "  warnings.warn(label_encoder_deprecation_msg, UserWarning)\n",
      "/Library/Frameworks/Python.framework/Versions/3.9/lib/python3.9/site-packages/xgboost/data.py:208: FutureWarning: pandas.Int64Index is deprecated and will be removed from pandas in a future version. Use pandas.Index with the appropriate dtype instead.\n",
      "  from pandas import MultiIndex, Int64Index\n",
      "/Library/Frameworks/Python.framework/Versions/3.9/lib/python3.9/site-packages/xgboost/sklearn.py:1146: UserWarning: The use of label encoder in XGBClassifier is deprecated and will be removed in a future release. To remove this warning, do the following: 1) Pass option use_label_encoder=False when constructing XGBClassifier object; and 2) Encode your labels (y) as integers starting with 0, i.e. 0, 1, 2, ..., [num_class - 1].\n",
      "  warnings.warn(label_encoder_deprecation_msg, UserWarning)\n",
      "/Library/Frameworks/Python.framework/Versions/3.9/lib/python3.9/site-packages/xgboost/data.py:208: FutureWarning: pandas.Int64Index is deprecated and will be removed from pandas in a future version. Use pandas.Index with the appropriate dtype instead.\n",
      "  from pandas import MultiIndex, Int64Index\n",
      "/Library/Frameworks/Python.framework/Versions/3.9/lib/python3.9/site-packages/xgboost/sklearn.py:1146: UserWarning: The use of label encoder in XGBClassifier is deprecated and will be removed in a future release. To remove this warning, do the following: 1) Pass option use_label_encoder=False when constructing XGBClassifier object; and 2) Encode your labels (y) as integers starting with 0, i.e. 0, 1, 2, ..., [num_class - 1].\n",
      "  warnings.warn(label_encoder_deprecation_msg, UserWarning)\n",
      "/Library/Frameworks/Python.framework/Versions/3.9/lib/python3.9/site-packages/xgboost/data.py:208: FutureWarning: pandas.Int64Index is deprecated and will be removed from pandas in a future version. Use pandas.Index with the appropriate dtype instead.\n",
      "  from pandas import MultiIndex, Int64Index\n",
      "/Library/Frameworks/Python.framework/Versions/3.9/lib/python3.9/site-packages/xgboost/sklearn.py:1146: UserWarning: The use of label encoder in XGBClassifier is deprecated and will be removed in a future release. To remove this warning, do the following: 1) Pass option use_label_encoder=False when constructing XGBClassifier object; and 2) Encode your labels (y) as integers starting with 0, i.e. 0, 1, 2, ..., [num_class - 1].\n",
      "  warnings.warn(label_encoder_deprecation_msg, UserWarning)\n",
      "/Library/Frameworks/Python.framework/Versions/3.9/lib/python3.9/site-packages/xgboost/sklearn.py:1146: UserWarning: The use of label encoder in XGBClassifier is deprecated and will be removed in a future release. To remove this warning, do the following: 1) Pass option use_label_encoder=False when constructing XGBClassifier object; and 2) Encode your labels (y) as integers starting with 0, i.e. 0, 1, 2, ..., [num_class - 1].\n",
      "  warnings.warn(label_encoder_deprecation_msg, UserWarning)\n",
      "/Library/Frameworks/Python.framework/Versions/3.9/lib/python3.9/site-packages/xgboost/sklearn.py:1146: UserWarning: The use of label encoder in XGBClassifier is deprecated and will be removed in a future release. To remove this warning, do the following: 1) Pass option use_label_encoder=False when constructing XGBClassifier object; and 2) Encode your labels (y) as integers starting with 0, i.e. 0, 1, 2, ..., [num_class - 1].\n",
      "  warnings.warn(label_encoder_deprecation_msg, UserWarning)\n",
      "/Library/Frameworks/Python.framework/Versions/3.9/lib/python3.9/site-packages/xgboost/sklearn.py:1146: UserWarning: The use of label encoder in XGBClassifier is deprecated and will be removed in a future release. To remove this warning, do the following: 1) Pass option use_label_encoder=False when constructing XGBClassifier object; and 2) Encode your labels (y) as integers starting with 0, i.e. 0, 1, 2, ..., [num_class - 1].\n",
      "  warnings.warn(label_encoder_deprecation_msg, UserWarning)\n",
      "/Library/Frameworks/Python.framework/Versions/3.9/lib/python3.9/site-packages/xgboost/data.py:208: FutureWarning: pandas.Int64Index is deprecated and will be removed from pandas in a future version. Use pandas.Index with the appropriate dtype instead.\n",
      "  from pandas import MultiIndex, Int64Index\n",
      "/Library/Frameworks/Python.framework/Versions/3.9/lib/python3.9/site-packages/xgboost/data.py:208: FutureWarning: pandas.Int64Index is deprecated and will be removed from pandas in a future version. Use pandas.Index with the appropriate dtype instead.\n",
      "  from pandas import MultiIndex, Int64Index\n",
      "/Library/Frameworks/Python.framework/Versions/3.9/lib/python3.9/site-packages/xgboost/data.py:208: FutureWarning: pandas.Int64Index is deprecated and will be removed from pandas in a future version. Use pandas.Index with the appropriate dtype instead.\n",
      "  from pandas import MultiIndex, Int64Index\n",
      "/Library/Frameworks/Python.framework/Versions/3.9/lib/python3.9/site-packages/xgboost/data.py:208: FutureWarning: pandas.Int64Index is deprecated and will be removed from pandas in a future version. Use pandas.Index with the appropriate dtype instead.\n",
      "  from pandas import MultiIndex, Int64Index\n",
      "/Library/Frameworks/Python.framework/Versions/3.9/lib/python3.9/site-packages/xgboost/sklearn.py:1146: UserWarning: The use of label encoder in XGBClassifier is deprecated and will be removed in a future release. To remove this warning, do the following: 1) Pass option use_label_encoder=False when constructing XGBClassifier object; and 2) Encode your labels (y) as integers starting with 0, i.e. 0, 1, 2, ..., [num_class - 1].\n",
      "  warnings.warn(label_encoder_deprecation_msg, UserWarning)\n",
      "/Library/Frameworks/Python.framework/Versions/3.9/lib/python3.9/site-packages/xgboost/data.py:208: FutureWarning: pandas.Int64Index is deprecated and will be removed from pandas in a future version. Use pandas.Index with the appropriate dtype instead.\n",
      "  from pandas import MultiIndex, Int64Index\n",
      "/Library/Frameworks/Python.framework/Versions/3.9/lib/python3.9/site-packages/xgboost/sklearn.py:1146: UserWarning: The use of label encoder in XGBClassifier is deprecated and will be removed in a future release. To remove this warning, do the following: 1) Pass option use_label_encoder=False when constructing XGBClassifier object; and 2) Encode your labels (y) as integers starting with 0, i.e. 0, 1, 2, ..., [num_class - 1].\n",
      "  warnings.warn(label_encoder_deprecation_msg, UserWarning)\n",
      "/Library/Frameworks/Python.framework/Versions/3.9/lib/python3.9/site-packages/xgboost/data.py:208: FutureWarning: pandas.Int64Index is deprecated and will be removed from pandas in a future version. Use pandas.Index with the appropriate dtype instead.\n",
      "  from pandas import MultiIndex, Int64Index\n",
      "/Library/Frameworks/Python.framework/Versions/3.9/lib/python3.9/site-packages/xgboost/sklearn.py:1146: UserWarning: The use of label encoder in XGBClassifier is deprecated and will be removed in a future release. To remove this warning, do the following: 1) Pass option use_label_encoder=False when constructing XGBClassifier object; and 2) Encode your labels (y) as integers starting with 0, i.e. 0, 1, 2, ..., [num_class - 1].\n",
      "  warnings.warn(label_encoder_deprecation_msg, UserWarning)\n",
      "/Library/Frameworks/Python.framework/Versions/3.9/lib/python3.9/site-packages/xgboost/data.py:208: FutureWarning: pandas.Int64Index is deprecated and will be removed from pandas in a future version. Use pandas.Index with the appropriate dtype instead.\n",
      "  from pandas import MultiIndex, Int64Index\n"
     ]
    }
   ],
   "source": [
    "best_model = create_model(model_matrix)\n",
    "final_model = finalize_model(best_model)"
   ]
  },
  {
   "cell_type": "code",
   "execution_count": 10,
   "id": "ffa0b49a-98d6-40ea-ab40-75cd243cc4cc",
   "metadata": {},
   "outputs": [
    {
     "data": {
      "image/png": "[encoded data removed]",
      "text/plain": [
       "<Figure size 800x500 with 1 Axes>"
      ]
     },
     "metadata": {},
     "output_type": "display_data"
    }
   ],
   "source": [
    "plot_model(final_model, plot='feature')"
   ]
  },
  {
   "cell_type": "code",
   "execution_count": 11,
   "id": "46dc9353-dc57-4b2e-94f0-a6042aa84480",
   "metadata": {},
   "outputs": [
    {
     "data": {
      "image/png": "[encoded data removed]",
      "text/plain": [
       "<Figure size 576x396 with 1 Axes>"
      ]
     },
     "metadata": {},
     "output_type": "display_data"
    }
   ],
   "source": [
    "plot_model(final_model, plot='confusion_matrix')"
   ]
  },
  {
   "cell_type": "markdown",
   "id": "62dd6bf1-5642-4024-abf7-dbff985e62b1",
   "metadata": {},
   "source": [
    "### First we need to call the stored procedure, which will create a named cursor - then we can query the results produced by the stored proc using that named cursor to create scoring dataframe:"
   ]
  },
  {
   "cell_type": "code",
   "execution_count": 12,
   "id": "ab34ae12-8094-428a-8e95-97b0e134a5e5",
   "metadata": {},
   "outputs": [
    {
     "name": "stdout",
     "output_type": "stream",
     "text": [
      "GOT CONNECTION TO DATABASE: prod-app stlrcfl\n"
     ]
    }
   ],
   "source": [
    "session = boto3.session.Session(profile_name='Stellaralgo-DataScienceAdmin')\n",
    "client = session.client('redshift')\n",
    "\n",
    "CLUSTER = 'prod-app'\n",
    "DBNAME = 'stlrcfl'\n",
    "\n",
    "creds2 = client.get_cluster_credentials(                \n",
    "    ClusterIdentifier = CLUSTER,\n",
    "    DbUser = 'admin',\n",
    "    DbName = DBNAME,\n",
    "    DbGroups = ['admin_group'],\n",
    "    AutoCreate=True\n",
    ")\n",
    "\n",
    "# create a connection & cursor and call the stored procedure\n",
    "conn2 = psycopg2.connect(\n",
    "    host = 'prod-app.ctjussvyafp4.us-east-1.redshift.amazonaws.com',\n",
    "    port = 5439,\n",
    "    user = creds2['DbUser'],\n",
    "    password = creds2['DbPassword'],\n",
    "    database = DBNAME\n",
    ")\n",
    "\n",
    "print(f\"GOT CONNECTION TO DATABASE: {CLUSTER} {DBNAME}\")"
   ]
  },
  {
   "cell_type": "code",
   "execution_count": 13,
   "id": "6ac59e54-076d-451e-a8f3-ec2be126fedf",
   "metadata": {},
   "outputs": [],
   "source": [
    "# create a list of games dates \n",
    "game_dates= ['2022-06-09','2022-06-25','2022-07-30','2022-08-13','2022-09-05','2022-09-17','2022-10-01','2022-10-14','2022-10-29']\n",
    "\n",
    "predictions =[]\n",
    "for game_date in game_dates:\n",
    "    \n",
    "    cur2 = conn2.cursor()\n",
    "    cur2.execute(f\"CALL ds.geteventpropensityscoringdata(35, '{game_date}', 'result')\")\n",
    "\n",
    "    # create a named cursor based on the cursor name passed in above\n",
    "    named_cursor = conn2.cursor('result')\n",
    "    data = named_cursor.fetchall()\n",
    "\n",
    "    # load the data and columns into a data frame\n",
    "    cols = [row[0] for row in named_cursor.description]\n",
    "    df_scoring = pd.DataFrame(data=data, columns=cols)\n",
    "    df_scoring = df_scoring.fillna(0)\n",
    "    #print(df_scoring)\n",
    "    \n",
    "    # get predictions from the model for each game\n",
    "    new_predictions = predict_model(final_model, data=df_scoring, raw_score=True)\n",
    "    predictions.append(new_predictions)\n",
    "    \n",
    "    conn2.commit()"
   ]
  },
  {
   "cell_type": "code",
   "execution_count": 14,
   "id": "0a2f126a-4482-4619-86ef-02961418a17f",
   "metadata": {},
   "outputs": [
    {
     "name": "stdout",
     "output_type": "stream",
     "text": [
      "06-09-2022\n",
      "(0.8, 1.0]       62286\n",
      "(0.5, 0.8]       14868\n",
      "(-0.001, 0.5]     9042\n",
      "Name: Score_1, dtype: int64\n",
      "06-25-2022\n",
      "(0.8, 1.0]       74279\n",
      "(0.5, 0.8]        8743\n",
      "(-0.001, 0.5]     3174\n",
      "Name: Score_1, dtype: int64\n",
      "07-30-2022\n",
      "(0.8, 1.0]       47258\n",
      "(-0.001, 0.5]    22810\n",
      "(0.5, 0.8]       16128\n",
      "Name: Score_1, dtype: int64\n",
      "08-13-2022\n",
      "(0.8, 1.0]       72277\n",
      "(0.5, 0.8]        9282\n",
      "(-0.001, 0.5]     4637\n",
      "Name: Score_1, dtype: int64\n",
      "09-05-2022\n",
      "(0.8, 1.0]       53997\n",
      "(-0.001, 0.5]    16115\n",
      "(0.5, 0.8]       16084\n",
      "Name: Score_1, dtype: int64\n",
      "09-17-2022\n",
      "(0.8, 1.0]       61608\n",
      "(0.5, 0.8]       13153\n",
      "(-0.001, 0.5]    11435\n",
      "Name: Score_1, dtype: int64\n",
      "10-01-2022\n",
      "(-0.001, 0.5]    45392\n",
      "(0.8, 1.0]       25057\n",
      "(0.5, 0.8]       15747\n",
      "Name: Score_1, dtype: int64\n",
      "10-14-2022\n",
      "(0.8, 1.0]       62885\n",
      "(0.5, 0.8]       12103\n",
      "(-0.001, 0.5]    11208\n",
      "Name: Score_1, dtype: int64\n",
      "10-29-2022\n",
      "(0.8, 1.0]       71500\n",
      "(0.5, 0.8]        8990\n",
      "(-0.001, 0.5]     5706\n",
      "Name: Score_1, dtype: int64\n"
     ]
    }
   ],
   "source": [
    "for df_game in predictions:\n",
    "    print(str(df_game['eventdate'].unique()[0].strftime(\"%m-%d-%Y\")) + '\\n' + str(df_game[\"Score_1\"].value_counts(bins=[0, 0.5, 0.8, 1.0])))"
   ]
  },
  {
   "cell_type": "code",
   "execution_count": 15,
   "id": "83fc6838-bfc7-419f-b41b-30b933f6f98a",
   "metadata": {},
   "outputs": [
    {
     "data": {
      "image/png": "[encoded data removed]",
      "text/plain": [
       "<Figure size 576x396 with 9 Axes>"
      ]
     },
     "metadata": {},
     "output_type": "display_data"
    }
   ],
   "source": [
    "for idx, df_game in enumerate(predictions):\n",
    "    \n",
    "    plt.subplot(3, 3, idx+1)\n",
    "    \n",
    "    event_date = df_game['eventdate'].unique()[0].strftime(\"%m-%d-%Y\")\n",
    "    \n",
    "    plt.title(event_date, fontsize = 12)\n",
    "    plt.xlabel(\"Event Date\")\n",
    "    plt.ylabel(\"Score_1\")\n",
    "    plt.hist(df_game['Score_1'], bins= 20, edgecolor = \"black\")\n",
    "plt.tight_layout()\n",
    "plt.show()"
   ]
  },
  {
   "cell_type": "code",
   "execution_count": 16,
   "id": "b58d32cc-50ce-44bb-b46a-491ac89d9ae1",
   "metadata": {},
   "outputs": [
    {
     "name": "stdout",
     "output_type": "stream",
     "text": [
      "2022-06-09    86196\n",
      "Name: eventdate, dtype: int64\n",
      "2022-06-25    86196\n",
      "Name: eventdate, dtype: int64\n",
      "2022-07-30    86196\n",
      "Name: eventdate, dtype: int64\n",
      "2022-08-13    86196\n",
      "Name: eventdate, dtype: int64\n",
      "2022-09-05    86196\n",
      "Name: eventdate, dtype: int64\n",
      "2022-09-17    86196\n",
      "Name: eventdate, dtype: int64\n",
      "2022-10-01    86196\n",
      "Name: eventdate, dtype: int64\n",
      "2022-10-14    86196\n",
      "Name: eventdate, dtype: int64\n",
      "2022-10-29    86196\n",
      "Name: eventdate, dtype: int64\n"
     ]
    }
   ],
   "source": [
    "for df_game in predictions:\n",
    "    print(df_game[\"eventdate\"].value_counts().sort_index(ascending=False))"
   ]
  },
  {
   "cell_type": "code",
   "execution_count": 17,
   "id": "a8362212-1def-424a-b8df-a81cd25293ee",
   "metadata": {},
   "outputs": [],
   "source": [
    "for df_game in predictions:\n",
    "\n",
    "    event_date = df_game['eventdate'].unique()[0].strftime(\"%m-%d-%Y\")\n",
    "    df_game.to_csv(f\"prod_results_redshift/stamps_ep_scores_{event_date}.csv\", index=False)"
   ]
  },
  {
   "cell_type": "markdown",
   "id": "e6533aa6-7d87-4fa2-94ba-4163b6968186",
   "metadata": {},
   "source": [
    "## Observations\n",
    "\n",
    "1. How accurate was this model? \n",
    "* The accuracy is 80% \n",
    "\n",
    "2. How many fans scored over 0.80 for the 2022 season?\n",
    "* 06-09-2022 : 41,863 out of 82504\n",
    "* 06-25-2022 : 55,365 out of 82504\n",
    "* 07-30-2022 : 52,939 out of 82504\n",
    "* 08-13-2022 : 57,521 out of 82504\n",
    "* 09-05-2022 : 47,560 out of 82504\n",
    "* 09-17-2022 : 53,613 out of 82504\n",
    "* 10-01-2022 : 62,893 out of 82504\n",
    "* 10-14-2022 : 53,641 out of 82504\n",
    "* 10-29-2022 : 63,827 out of 82504\n",
    "\n",
    "3. What were the most important features in making a correct prediction?\n",
    "* daysou_ over a week, eventdsate_month 11 (makes sense because that's when CFL championship games are), frequency_eventTime are top 3 important features which makes sense.\n"
   ]
  },
  {
   "cell_type": "markdown",
   "id": "8bacf5e1-b90c-4697-9112-21b2b4c8069a",
   "metadata": {},
   "source": [
    "## Conclusion"
   ]
  },
  {
   "cell_type": "markdown",
   "id": "ebdf3318-34c0-49e8-8e5c-589ed8775678",
   "metadata": {},
   "source": [
    "Based on our observations above we reccomend using this event propensity model because we get enough number of buyers that have score above 80% for each game that can be useful for Stamps."
   ]
  },
  {
   "cell_type": "code",
   "execution_count": null,
   "id": "f493db3c-8a24-46dc-a21e-28a5ca32cd97",
   "metadata": {},
   "outputs": [],
   "source": []
  }
 ],
 "metadata": {
  "kernelspec": {
   "display_name": "Python 3 (ipykernel)",
   "language": "python",
   "name": "python3"
  },
  "language_info": {
   "codemirror_mode": {
    "name": "ipython",
    "version": 3
   },
   "file_extension": ".py",
   "mimetype": "text/x-python",
   "name": "python",
   "nbconvert_exporter": "python",
   "pygments_lexer": "ipython3",
   "version": "3.9.4"
  }
 },
 "nbformat": 4,
 "nbformat_minor": 5
}
