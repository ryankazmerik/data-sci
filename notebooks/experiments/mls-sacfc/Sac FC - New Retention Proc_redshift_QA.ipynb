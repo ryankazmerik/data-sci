{
 "cells": [
  {
   "cell_type": "markdown",
   "id": "9575d83e",
   "metadata": {},
   "source": [
    "# MLS Republic - New RS Retention Stored Procedure - QA\n",
    "* StellarAlgo Data Science\n",
    "* Ryan Kazmerik & Nakisa Rad\n",
    "* June 14, 2022"
   ]
  },
  {
   "cell_type": "markdown",
   "id": "62d7c5a2",
   "metadata": {},
   "source": [
    "## Hypothesis\n",
    "Recently the stored procedure that pulls data for training and scoring the retention model was migrated to RedShift. We are asuming that the logic is still valid and that the data can be used with our existing retention model."
   ]
  },
  {
   "cell_type": "markdown",
   "id": "c46403a5",
   "metadata": {},
   "source": [
    "## Experiment\n",
    "This section details our experiment including querying data, data transformations, feature selection and modelling."
   ]
  },
  {
   "cell_type": "code",
   "execution_count": 18,
   "id": "df2be620",
   "metadata": {},
   "outputs": [],
   "source": [
    "import boto3\n",
    "import pandas as pd\n",
    "import matplotlib.pyplot as plt\n",
    "import psycopg2\n",
    "\n",
    "from pycaret.classification import *"
   ]
  },
  {
   "cell_type": "code",
   "execution_count": 19,
   "id": "93720795",
   "metadata": {},
   "outputs": [
    {
     "name": "stdout",
     "output_type": "stream",
     "text": [
      "Attempting to automatically open the SSO authorization page in your default browser.\n",
      "If the browser does not open or you wish to use a different device to authorize this request, open the following URL:\n",
      "\n",
      "https://device.sso.us-east-1.amazonaws.com/\n",
      "\n",
      "Then enter the code:\n",
      "\n",
      "WBTW-LCBC\n",
      "Successully logged into Start URL: https://stellaralgo.awsapps.com/start#/\n"
     ]
    }
   ],
   "source": [
    "! aws sso login --profile Stellaralgo-DataScienceAdmin"
   ]
  },
  {
   "cell_type": "code",
   "execution_count": 20,
   "id": "35c1c1ec",
   "metadata": {},
   "outputs": [
    {
     "name": "stdout",
     "output_type": "stream",
     "text": [
      "GOT CONNECTION TO DATABASE: qa-app stlrmls\n"
     ]
    }
   ],
   "source": [
    "session = boto3.session.Session(profile_name='Stellaralgo-DataScienceAdmin')\n",
    "client = session.client('redshift')\n",
    "\n",
    "CLUSTER = 'qa-app'\n",
    "DBNAME = 'stlrmls'\n",
    "\n",
    "creds = client.get_cluster_credentials(                \n",
    "    ClusterIdentifier = CLUSTER,\n",
    "    DbUser = 'admin',\n",
    "    DbName = DBNAME,\n",
    "    DbGroups = ['admin_group'],\n",
    "    AutoCreate=True\n",
    ")\n",
    "\n",
    "# create a connection & cursor and call the stored procedure\n",
    "conn = psycopg2.connect(\n",
    "    host = 'qa-app.ctjussvyafp4.us-east-1.redshift.amazonaws.com',\n",
    "    port = 5439,\n",
    "    user = creds['DbUser'],\n",
    "    password = creds['DbPassword'],\n",
    "    database = DBNAME\n",
    ")\n",
    "\n",
    "print(f\"GOT CONNECTION TO DATABASE: {CLUSTER} {DBNAME}\")"
   ]
  },
  {
   "cell_type": "code",
   "execution_count": 21,
   "id": "bf80cd96",
   "metadata": {},
   "outputs": [],
   "source": [
    "# call the stored proc to get data for the retention model\n",
    "cur = conn.cursor()\n",
    "cur.execute(f\"CALL dw.getretentionmodeldata(31, 2010, 2022, 'temp_cursor')\")\n",
    "\n",
    "# create a named cursor based on the cursor name passed in above\n",
    "named_cursor = conn.cursor('temp_cursor')\n",
    "data = named_cursor.fetchall()\n",
    "\n",
    "# load the data and columns into a data frame\n",
    "cols = [row[0] for row in named_cursor.description]\n",
    "df = pd.DataFrame(data=data, columns=cols)\n",
    "\n",
    "conn.commit()"
   ]
  },
  {
   "cell_type": "code",
   "execution_count": 22,
   "id": "fbe71a79",
   "metadata": {},
   "outputs": [
    {
     "name": "stdout",
     "output_type": "stream",
     "text": [
      "<class 'pandas.core.frame.DataFrame'>\n",
      "RangeIndex: 11815 entries, 0 to 11814\n",
      "Data columns (total 23 columns):\n",
      " #   Column               Non-Null Count  Dtype         \n",
      "---  ------               --------------  -----         \n",
      " 0   lkupclientid         11815 non-null  int64         \n",
      " 1   dimcustomermasterid  11815 non-null  int64         \n",
      " 2   year                 11815 non-null  int64         \n",
      " 3   productgrouping      11815 non-null  object        \n",
      " 4   totalspent           11815 non-null  float64       \n",
      " 5   recentdate           11815 non-null  datetime64[ns]\n",
      " 6   attendancepercent    11815 non-null  float64       \n",
      " 7   renewedbeforedays    11815 non-null  int64         \n",
      " 8   source_tenure        11815 non-null  object        \n",
      " 9   tenure               11815 non-null  int64         \n",
      " 10  disttovenue          11815 non-null  float64       \n",
      " 11  recency              11815 non-null  int64         \n",
      " 12  missed_games_1       11815 non-null  object        \n",
      " 13  missed_games_2       11815 non-null  object        \n",
      " 14  missed_games_over_2  11815 non-null  object        \n",
      " 15  forward_records      11815 non-null  int64         \n",
      " 16  opentosendratio      11815 non-null  object        \n",
      " 17  clicktosendratio     11815 non-null  object        \n",
      " 18  clicktoopenratio     11815 non-null  object        \n",
      " 19  gender               11815 non-null  object        \n",
      " 20  phonecall            11815 non-null  int64         \n",
      " 21  inperson_contact     11815 non-null  int64         \n",
      " 22  isnextyear_buyer     11815 non-null  int64         \n",
      "dtypes: datetime64[ns](1), float64(3), int64(10), object(9)\n",
      "memory usage: 2.1+ MB\n"
     ]
    }
   ],
   "source": [
    "df.info()"
   ]
  },
  {
   "cell_type": "code",
   "execution_count": 23,
   "id": "1c8bad91-cdc3-40a7-8915-93f3048bfa53",
   "metadata": {},
   "outputs": [
    {
     "name": "stdout",
     "output_type": "stream",
     "text": [
      "Data for Modeling: (8559, 18)\n",
      "Unseen Data For Predictions: (1510, 18)\n",
      "\n"
     ]
    }
   ],
   "source": [
    "# choose the features for the stellar base retention model\n",
    "features = [\n",
    "    \"dimcustomermasterid\",\n",
    "    \"attendancepercent\",\n",
    "    \"clicktoopenratio\", \n",
    "    \"clicktosendratio\",\n",
    "    \"disttovenue\",\n",
    "    \"inperson_contact\",\n",
    "    \"isnextyear_buyer\",\n",
    "    \"lkupclientid\",\n",
    "    \"missed_games_1\",\n",
    "    \"missed_games_2\",\n",
    "    \"missed_games_over_2\",\n",
    "    \"opentosendratio\",\n",
    "    \"productgrouping\",\n",
    "    \"recency\",\n",
    "    \"renewedbeforedays\",\n",
    "    \"source_tenure\",\n",
    "    \"totalspent\",\n",
    "    \"year\"\n",
    "]\n",
    "\n",
    "# copy your main dataframe\n",
    "df_dataset = df\n",
    "\n",
    "# choose the features & train year & test year\n",
    "df_dataset = df_dataset[features]\n",
    "df_dataset[\"year\"] = pd.to_numeric(df_dataset[\"year\"])\n",
    "df_dataset = df_dataset.loc[df_dataset[\"year\"] <= 2021]\n",
    "\n",
    "df_train = df_dataset.sample(frac=0.85, random_state=786)\n",
    "df_eval = df_dataset.drop(df_train.index)\n",
    "\n",
    "df_train.reset_index(drop=True, inplace=True)\n",
    "df_eval.reset_index(drop=True, inplace=True)\n",
    "\n",
    "# print out the number of records for training and eval\n",
    "print('Data for Modeling: ' + str(df_train.shape))\n",
    "print('Unseen Data For Predictions: ' + str(df_eval.shape), end=\"\\n\\n\")"
   ]
  },
  {
   "cell_type": "code",
   "execution_count": 24,
   "id": "3eabb279-56dd-4dbf-b7da-77bd2aa7cafa",
   "metadata": {},
   "outputs": [],
   "source": [
    "setup(\n",
    "    data= df_train, \n",
    "    target=\"isnextyear_buyer\", \n",
    "    train_size = 0.85,\n",
    "    data_split_shuffle=True,\n",
    "    ignore_features=[\n",
    "        \"dimcustomermasterid\",\n",
    "        \"lkupclientid\",\n",
    "        \"productgrouping\",\n",
    "        \"year\"\n",
    "    ],\n",
    "    silent=True,\n",
    "    verbose=False,\n",
    "    numeric_features=[\n",
    "        \"attendancepercent\",\n",
    "        \"disttovenue\",\n",
    "        \"missed_games_1\",\n",
    "        \"missed_games_2\",\n",
    "        \"missed_games_over_2\",\n",
    "        \"recency\",\n",
    "        \"renewedbeforedays\",\n",
    "        \"source_tenure\",\n",
    "        \"totalspent\"\n",
    "    ]\n",
    ");"
   ]
  },
  {
   "cell_type": "code",
   "execution_count": 25,
   "id": "05742a70-860c-477f-bea9-516a0a87c508",
   "metadata": {},
   "outputs": [
    {
     "data": {
      "text/html": [
       "<style type=\"text/css\">\n",
       "#T_8d153 th {\n",
       "  text-align: left;\n",
       "}\n",
       "#T_8d153_row0_col0 {\n",
       "  text-align: left;\n",
       "}\n",
       "#T_8d153_row0_col1, #T_8d153_row0_col2, #T_8d153_row0_col3, #T_8d153_row0_col4, #T_8d153_row0_col5, #T_8d153_row0_col6, #T_8d153_row0_col7 {\n",
       "  text-align: left;\n",
       "  background-color: yellow;\n",
       "}\n",
       "#T_8d153_row0_col8 {\n",
       "  text-align: left;\n",
       "  background-color: yellow;\n",
       "  background-color: lightgrey;\n",
       "}\n",
       "</style>\n",
       "<table id=\"T_8d153\">\n",
       "  <thead>\n",
       "    <tr>\n",
       "      <th class=\"blank level0\" >&nbsp;</th>\n",
       "      <th id=\"T_8d153_level0_col0\" class=\"col_heading level0 col0\" >Model</th>\n",
       "      <th id=\"T_8d153_level0_col1\" class=\"col_heading level0 col1\" >Accuracy</th>\n",
       "      <th id=\"T_8d153_level0_col2\" class=\"col_heading level0 col2\" >AUC</th>\n",
       "      <th id=\"T_8d153_level0_col3\" class=\"col_heading level0 col3\" >Recall</th>\n",
       "      <th id=\"T_8d153_level0_col4\" class=\"col_heading level0 col4\" >Prec.</th>\n",
       "      <th id=\"T_8d153_level0_col5\" class=\"col_heading level0 col5\" >F1</th>\n",
       "      <th id=\"T_8d153_level0_col6\" class=\"col_heading level0 col6\" >Kappa</th>\n",
       "      <th id=\"T_8d153_level0_col7\" class=\"col_heading level0 col7\" >MCC</th>\n",
       "      <th id=\"T_8d153_level0_col8\" class=\"col_heading level0 col8\" >TT (Sec)</th>\n",
       "    </tr>\n",
       "  </thead>\n",
       "  <tbody>\n",
       "    <tr>\n",
       "      <th id=\"T_8d153_level0_row0\" class=\"row_heading level0 row0\" >lightgbm</th>\n",
       "      <td id=\"T_8d153_row0_col0\" class=\"data row0 col0\" >Light Gradient Boosting Machine</td>\n",
       "      <td id=\"T_8d153_row0_col1\" class=\"data row0 col1\" >0.7863</td>\n",
       "      <td id=\"T_8d153_row0_col2\" class=\"data row0 col2\" >0.7755</td>\n",
       "      <td id=\"T_8d153_row0_col3\" class=\"data row0 col3\" >0.9263</td>\n",
       "      <td id=\"T_8d153_row0_col4\" class=\"data row0 col4\" >0.8153</td>\n",
       "      <td id=\"T_8d153_row0_col5\" class=\"data row0 col5\" >0.8672</td>\n",
       "      <td id=\"T_8d153_row0_col6\" class=\"data row0 col6\" >0.3304</td>\n",
       "      <td id=\"T_8d153_row0_col7\" class=\"data row0 col7\" >0.3496</td>\n",
       "      <td id=\"T_8d153_row0_col8\" class=\"data row0 col8\" >0.3650</td>\n",
       "    </tr>\n",
       "  </tbody>\n",
       "</table>\n"
      ],
      "text/plain": [
       "<pandas.io.formats.style.Styler at 0x7f8d7916ccd0>"
      ]
     },
     "metadata": {},
     "output_type": "display_data"
    }
   ],
   "source": [
    "model_matrix = compare_models(\n",
    "    fold=10,\n",
    "    include=[\"lightgbm\"]\n",
    ")"
   ]
  },
  {
   "cell_type": "code",
   "execution_count": 26,
   "id": "9b4716b3-5a6b-4942-a32c-7ef3e9083509",
   "metadata": {},
   "outputs": [
    {
     "data": {
      "text/html": [
       "<style type=\"text/css\">\n",
       "#T_e03c6_row10_col0, #T_e03c6_row10_col1, #T_e03c6_row10_col2, #T_e03c6_row10_col3, #T_e03c6_row10_col4, #T_e03c6_row10_col5, #T_e03c6_row10_col6 {\n",
       "  background: yellow;\n",
       "}\n",
       "</style>\n",
       "<table id=\"T_e03c6\">\n",
       "  <thead>\n",
       "    <tr>\n",
       "      <th class=\"blank level0\" >&nbsp;</th>\n",
       "      <th id=\"T_e03c6_level0_col0\" class=\"col_heading level0 col0\" >Accuracy</th>\n",
       "      <th id=\"T_e03c6_level0_col1\" class=\"col_heading level0 col1\" >AUC</th>\n",
       "      <th id=\"T_e03c6_level0_col2\" class=\"col_heading level0 col2\" >Recall</th>\n",
       "      <th id=\"T_e03c6_level0_col3\" class=\"col_heading level0 col3\" >Prec.</th>\n",
       "      <th id=\"T_e03c6_level0_col4\" class=\"col_heading level0 col4\" >F1</th>\n",
       "      <th id=\"T_e03c6_level0_col5\" class=\"col_heading level0 col5\" >Kappa</th>\n",
       "      <th id=\"T_e03c6_level0_col6\" class=\"col_heading level0 col6\" >MCC</th>\n",
       "    </tr>\n",
       "  </thead>\n",
       "  <tbody>\n",
       "    <tr>\n",
       "      <th id=\"T_e03c6_level0_row0\" class=\"row_heading level0 row0\" >0</th>\n",
       "      <td id=\"T_e03c6_row0_col0\" class=\"data row0 col0\" >0.7747</td>\n",
       "      <td id=\"T_e03c6_row0_col1\" class=\"data row0 col1\" >0.7632</td>\n",
       "      <td id=\"T_e03c6_row0_col2\" class=\"data row0 col2\" >0.9016</td>\n",
       "      <td id=\"T_e03c6_row0_col3\" class=\"data row0 col3\" >0.8182</td>\n",
       "      <td id=\"T_e03c6_row0_col4\" class=\"data row0 col4\" >0.8579</td>\n",
       "      <td id=\"T_e03c6_row0_col5\" class=\"data row0 col5\" >0.3209</td>\n",
       "      <td id=\"T_e03c6_row0_col6\" class=\"data row0 col6\" >0.3299</td>\n",
       "    </tr>\n",
       "    <tr>\n",
       "      <th id=\"T_e03c6_level0_row1\" class=\"row_heading level0 row1\" >1</th>\n",
       "      <td id=\"T_e03c6_row1_col0\" class=\"data row1 col0\" >0.7898</td>\n",
       "      <td id=\"T_e03c6_row1_col1\" class=\"data row1 col1\" >0.7669</td>\n",
       "      <td id=\"T_e03c6_row1_col2\" class=\"data row1 col2\" >0.9144</td>\n",
       "      <td id=\"T_e03c6_row1_col3\" class=\"data row1 col3\" >0.8257</td>\n",
       "      <td id=\"T_e03c6_row1_col4\" class=\"data row1 col4\" >0.8678</td>\n",
       "      <td id=\"T_e03c6_row1_col5\" class=\"data row1 col5\" >0.3625</td>\n",
       "      <td id=\"T_e03c6_row1_col6\" class=\"data row1 col6\" >0.3739</td>\n",
       "    </tr>\n",
       "    <tr>\n",
       "      <th id=\"T_e03c6_level0_row2\" class=\"row_heading level0 row2\" >2</th>\n",
       "      <td id=\"T_e03c6_row2_col0\" class=\"data row2 col0\" >0.7843</td>\n",
       "      <td id=\"T_e03c6_row2_col1\" class=\"data row2 col1\" >0.7785</td>\n",
       "      <td id=\"T_e03c6_row2_col2\" class=\"data row2 col2\" >0.9215</td>\n",
       "      <td id=\"T_e03c6_row2_col3\" class=\"data row2 col3\" >0.8158</td>\n",
       "      <td id=\"T_e03c6_row2_col4\" class=\"data row2 col4\" >0.8655</td>\n",
       "      <td id=\"T_e03c6_row2_col5\" class=\"data row2 col5\" >0.3322</td>\n",
       "      <td id=\"T_e03c6_row2_col6\" class=\"data row2 col6\" >0.3485</td>\n",
       "    </tr>\n",
       "    <tr>\n",
       "      <th id=\"T_e03c6_level0_row3\" class=\"row_heading level0 row3\" >3</th>\n",
       "      <td id=\"T_e03c6_row3_col0\" class=\"data row3 col0\" >0.7775</td>\n",
       "      <td id=\"T_e03c6_row3_col1\" class=\"data row3 col1\" >0.7848</td>\n",
       "      <td id=\"T_e03c6_row3_col2\" class=\"data row3 col2\" >0.9361</td>\n",
       "      <td id=\"T_e03c6_row3_col3\" class=\"data row3 col3\" >0.8016</td>\n",
       "      <td id=\"T_e03c6_row3_col4\" class=\"data row3 col4\" >0.8636</td>\n",
       "      <td id=\"T_e03c6_row3_col5\" class=\"data row3 col5\" >0.2783</td>\n",
       "      <td id=\"T_e03c6_row3_col6\" class=\"data row3 col6\" >0.3051</td>\n",
       "    </tr>\n",
       "    <tr>\n",
       "      <th id=\"T_e03c6_level0_row4\" class=\"row_heading level0 row4\" >4</th>\n",
       "      <td id=\"T_e03c6_row4_col0\" class=\"data row4 col0\" >0.7953</td>\n",
       "      <td id=\"T_e03c6_row4_col1\" class=\"data row4 col1\" >0.7794</td>\n",
       "      <td id=\"T_e03c6_row4_col2\" class=\"data row4 col2\" >0.9307</td>\n",
       "      <td id=\"T_e03c6_row4_col3\" class=\"data row4 col3\" >0.8213</td>\n",
       "      <td id=\"T_e03c6_row4_col4\" class=\"data row4 col4\" >0.8725</td>\n",
       "      <td id=\"T_e03c6_row4_col5\" class=\"data row4 col5\" >0.3635</td>\n",
       "      <td id=\"T_e03c6_row4_col6\" class=\"data row4 col6\" >0.3826</td>\n",
       "    </tr>\n",
       "    <tr>\n",
       "      <th id=\"T_e03c6_level0_row5\" class=\"row_heading level0 row5\" >5</th>\n",
       "      <td id=\"T_e03c6_row5_col0\" class=\"data row5 col0\" >0.7813</td>\n",
       "      <td id=\"T_e03c6_row5_col1\" class=\"data row5 col1\" >0.7895</td>\n",
       "      <td id=\"T_e03c6_row5_col2\" class=\"data row5 col2\" >0.9197</td>\n",
       "      <td id=\"T_e03c6_row5_col3\" class=\"data row5 col3\" >0.8142</td>\n",
       "      <td id=\"T_e03c6_row5_col4\" class=\"data row5 col4\" >0.8638</td>\n",
       "      <td id=\"T_e03c6_row5_col5\" class=\"data row5 col5\" >0.3200</td>\n",
       "      <td id=\"T_e03c6_row5_col6\" class=\"data row5 col6\" >0.3358</td>\n",
       "    </tr>\n",
       "    <tr>\n",
       "      <th id=\"T_e03c6_level0_row6\" class=\"row_heading level0 row6\" >6</th>\n",
       "      <td id=\"T_e03c6_row6_col0\" class=\"data row6 col0\" >0.7937</td>\n",
       "      <td id=\"T_e03c6_row6_col1\" class=\"data row6 col1\" >0.7756</td>\n",
       "      <td id=\"T_e03c6_row6_col2\" class=\"data row6 col2\" >0.9380</td>\n",
       "      <td id=\"T_e03c6_row6_col3\" class=\"data row6 col3\" >0.8159</td>\n",
       "      <td id=\"T_e03c6_row6_col4\" class=\"data row6 col4\" >0.8727</td>\n",
       "      <td id=\"T_e03c6_row6_col5\" class=\"data row6 col5\" >0.3428</td>\n",
       "      <td id=\"T_e03c6_row6_col6\" class=\"data row6 col6\" >0.3673</td>\n",
       "    </tr>\n",
       "    <tr>\n",
       "      <th id=\"T_e03c6_level0_row7\" class=\"row_heading level0 row7\" >7</th>\n",
       "      <td id=\"T_e03c6_row7_col0\" class=\"data row7 col0\" >0.7895</td>\n",
       "      <td id=\"T_e03c6_row7_col1\" class=\"data row7 col1\" >0.7750</td>\n",
       "      <td id=\"T_e03c6_row7_col2\" class=\"data row7 col2\" >0.9234</td>\n",
       "      <td id=\"T_e03c6_row7_col3\" class=\"data row7 col3\" >0.8201</td>\n",
       "      <td id=\"T_e03c6_row7_col4\" class=\"data row7 col4\" >0.8687</td>\n",
       "      <td id=\"T_e03c6_row7_col5\" class=\"data row7 col5\" >0.3485</td>\n",
       "      <td id=\"T_e03c6_row7_col6\" class=\"data row7 col6\" >0.3646</td>\n",
       "    </tr>\n",
       "    <tr>\n",
       "      <th id=\"T_e03c6_level0_row8\" class=\"row_heading level0 row8\" >8</th>\n",
       "      <td id=\"T_e03c6_row8_col0\" class=\"data row8 col0\" >0.7895</td>\n",
       "      <td id=\"T_e03c6_row8_col1\" class=\"data row8 col1\" >0.7595</td>\n",
       "      <td id=\"T_e03c6_row8_col2\" class=\"data row8 col2\" >0.9380</td>\n",
       "      <td id=\"T_e03c6_row8_col3\" class=\"data row8 col3\" >0.8120</td>\n",
       "      <td id=\"T_e03c6_row8_col4\" class=\"data row8 col4\" >0.8704</td>\n",
       "      <td id=\"T_e03c6_row8_col5\" class=\"data row8 col5\" >0.3251</td>\n",
       "      <td id=\"T_e03c6_row8_col6\" class=\"data row8 col6\" >0.3507</td>\n",
       "    </tr>\n",
       "    <tr>\n",
       "      <th id=\"T_e03c6_level0_row9\" class=\"row_heading level0 row9\" >9</th>\n",
       "      <td id=\"T_e03c6_row9_col0\" class=\"data row9 col0\" >0.7868</td>\n",
       "      <td id=\"T_e03c6_row9_col1\" class=\"data row9 col1\" >0.7829</td>\n",
       "      <td id=\"T_e03c6_row9_col2\" class=\"data row9 col2\" >0.9398</td>\n",
       "      <td id=\"T_e03c6_row9_col3\" class=\"data row9 col3\" >0.8085</td>\n",
       "      <td id=\"T_e03c6_row9_col4\" class=\"data row9 col4\" >0.8692</td>\n",
       "      <td id=\"T_e03c6_row9_col5\" class=\"data row9 col5\" >0.3101</td>\n",
       "      <td id=\"T_e03c6_row9_col6\" class=\"data row9 col6\" >0.3378</td>\n",
       "    </tr>\n",
       "    <tr>\n",
       "      <th id=\"T_e03c6_level0_row10\" class=\"row_heading level0 row10\" >Mean</th>\n",
       "      <td id=\"T_e03c6_row10_col0\" class=\"data row10 col0\" >0.7863</td>\n",
       "      <td id=\"T_e03c6_row10_col1\" class=\"data row10 col1\" >0.7755</td>\n",
       "      <td id=\"T_e03c6_row10_col2\" class=\"data row10 col2\" >0.9263</td>\n",
       "      <td id=\"T_e03c6_row10_col3\" class=\"data row10 col3\" >0.8153</td>\n",
       "      <td id=\"T_e03c6_row10_col4\" class=\"data row10 col4\" >0.8672</td>\n",
       "      <td id=\"T_e03c6_row10_col5\" class=\"data row10 col5\" >0.3304</td>\n",
       "      <td id=\"T_e03c6_row10_col6\" class=\"data row10 col6\" >0.3496</td>\n",
       "    </tr>\n",
       "    <tr>\n",
       "      <th id=\"T_e03c6_level0_row11\" class=\"row_heading level0 row11\" >SD</th>\n",
       "      <td id=\"T_e03c6_row11_col0\" class=\"data row11 col0\" >0.0064</td>\n",
       "      <td id=\"T_e03c6_row11_col1\" class=\"data row11 col1\" >0.0092</td>\n",
       "      <td id=\"T_e03c6_row11_col2\" class=\"data row11 col2\" >0.0118</td>\n",
       "      <td id=\"T_e03c6_row11_col3\" class=\"data row11 col3\" >0.0065</td>\n",
       "      <td id=\"T_e03c6_row11_col4\" class=\"data row11 col4\" >0.0044</td>\n",
       "      <td id=\"T_e03c6_row11_col5\" class=\"data row11 col5\" >0.0244</td>\n",
       "      <td id=\"T_e03c6_row11_col6\" class=\"data row11 col6\" >0.0222</td>\n",
       "    </tr>\n",
       "  </tbody>\n",
       "</table>\n"
      ],
      "text/plain": [
       "<pandas.io.formats.style.Styler at 0x7f8d980ec4c0>"
      ]
     },
     "metadata": {},
     "output_type": "display_data"
    }
   ],
   "source": [
    "best_model = create_model(model_matrix)\n",
    "final_model = finalize_model(best_model)"
   ]
  },
  {
   "cell_type": "code",
   "execution_count": 27,
   "id": "4487009f",
   "metadata": {},
   "outputs": [
    {
     "data": {
      "text/plain": [
       "(1746, 23)"
      ]
     },
     "execution_count": 27,
     "metadata": {},
     "output_type": "execute_result"
    }
   ],
   "source": [
    "df_inference = df.loc[df[\"year\"] >= 2022]\n",
    "df_inference = df_inference.fillna(0)\n",
    "df_inference.shape"
   ]
  },
  {
   "cell_type": "code",
   "execution_count": 28,
   "id": "3aa9448f",
   "metadata": {},
   "outputs": [
    {
     "data": {
      "text/html": [
       "<div>\n",
       "<style scoped>\n",
       "    .dataframe tbody tr th:only-of-type {\n",
       "        vertical-align: middle;\n",
       "    }\n",
       "\n",
       "    .dataframe tbody tr th {\n",
       "        vertical-align: top;\n",
       "    }\n",
       "\n",
       "    .dataframe thead th {\n",
       "        text-align: right;\n",
       "    }\n",
       "</style>\n",
       "<table border=\"1\" class=\"dataframe\">\n",
       "  <thead>\n",
       "    <tr style=\"text-align: right;\">\n",
       "      <th></th>\n",
       "      <th>lkupclientid</th>\n",
       "      <th>dimcustomermasterid</th>\n",
       "      <th>year</th>\n",
       "      <th>productgrouping</th>\n",
       "      <th>totalspent</th>\n",
       "      <th>recentdate</th>\n",
       "      <th>attendancepercent</th>\n",
       "      <th>renewedbeforedays</th>\n",
       "      <th>source_tenure</th>\n",
       "      <th>tenure</th>\n",
       "      <th>...</th>\n",
       "      <th>opentosendratio</th>\n",
       "      <th>clicktosendratio</th>\n",
       "      <th>clicktoopenratio</th>\n",
       "      <th>gender</th>\n",
       "      <th>phonecall</th>\n",
       "      <th>inperson_contact</th>\n",
       "      <th>isnextyear_buyer</th>\n",
       "      <th>Label</th>\n",
       "      <th>Score_0</th>\n",
       "      <th>Score_1</th>\n",
       "    </tr>\n",
       "  </thead>\n",
       "  <tbody>\n",
       "    <tr>\n",
       "      <th>182</th>\n",
       "      <td>31</td>\n",
       "      <td>441626301</td>\n",
       "      <td>2022</td>\n",
       "      <td>Full Season</td>\n",
       "      <td>864.0</td>\n",
       "      <td>1970-01-01</td>\n",
       "      <td>0.86</td>\n",
       "      <td>193</td>\n",
       "      <td>1460</td>\n",
       "      <td>1596</td>\n",
       "      <td>...</td>\n",
       "      <td>1.28</td>\n",
       "      <td>0.04</td>\n",
       "      <td>0.03</td>\n",
       "      <td>Female</td>\n",
       "      <td>14</td>\n",
       "      <td>0</td>\n",
       "      <td>0</td>\n",
       "      <td>1</td>\n",
       "      <td>0.0293</td>\n",
       "      <td>0.9707</td>\n",
       "    </tr>\n",
       "    <tr>\n",
       "      <th>183</th>\n",
       "      <td>31</td>\n",
       "      <td>480354821</td>\n",
       "      <td>2022</td>\n",
       "      <td>Half Season</td>\n",
       "      <td>1095.0</td>\n",
       "      <td>1970-01-01</td>\n",
       "      <td>0.67</td>\n",
       "      <td>31</td>\n",
       "      <td>1460</td>\n",
       "      <td>1521</td>\n",
       "      <td>...</td>\n",
       "      <td>2.49</td>\n",
       "      <td>0.02</td>\n",
       "      <td>0.01</td>\n",
       "      <td>Female</td>\n",
       "      <td>4</td>\n",
       "      <td>0</td>\n",
       "      <td>0</td>\n",
       "      <td>1</td>\n",
       "      <td>0.4871</td>\n",
       "      <td>0.5129</td>\n",
       "    </tr>\n",
       "    <tr>\n",
       "      <th>184</th>\n",
       "      <td>31</td>\n",
       "      <td>480354821</td>\n",
       "      <td>2022</td>\n",
       "      <td>Full Season</td>\n",
       "      <td>2700.0</td>\n",
       "      <td>1970-01-01</td>\n",
       "      <td>0.00</td>\n",
       "      <td>193</td>\n",
       "      <td>1460</td>\n",
       "      <td>1521</td>\n",
       "      <td>...</td>\n",
       "      <td>2.49</td>\n",
       "      <td>0.02</td>\n",
       "      <td>0.01</td>\n",
       "      <td>Female</td>\n",
       "      <td>4</td>\n",
       "      <td>0</td>\n",
       "      <td>0</td>\n",
       "      <td>1</td>\n",
       "      <td>0.1540</td>\n",
       "      <td>0.8460</td>\n",
       "    </tr>\n",
       "    <tr>\n",
       "      <th>185</th>\n",
       "      <td>31</td>\n",
       "      <td>441549664</td>\n",
       "      <td>2022</td>\n",
       "      <td>Full Season</td>\n",
       "      <td>1450.0</td>\n",
       "      <td>1970-01-01</td>\n",
       "      <td>0.14</td>\n",
       "      <td>193</td>\n",
       "      <td>365</td>\n",
       "      <td>613</td>\n",
       "      <td>...</td>\n",
       "      <td>0.00</td>\n",
       "      <td>0.00</td>\n",
       "      <td>0.00</td>\n",
       "      <td>Female</td>\n",
       "      <td>9</td>\n",
       "      <td>0</td>\n",
       "      <td>0</td>\n",
       "      <td>1</td>\n",
       "      <td>0.2469</td>\n",
       "      <td>0.7531</td>\n",
       "    </tr>\n",
       "    <tr>\n",
       "      <th>186</th>\n",
       "      <td>31</td>\n",
       "      <td>441552049</td>\n",
       "      <td>2022</td>\n",
       "      <td>Full Season</td>\n",
       "      <td>576.0</td>\n",
       "      <td>1970-01-01</td>\n",
       "      <td>0.43</td>\n",
       "      <td>32</td>\n",
       "      <td>2555</td>\n",
       "      <td>2817</td>\n",
       "      <td>...</td>\n",
       "      <td>0.41</td>\n",
       "      <td>0.13</td>\n",
       "      <td>0.32</td>\n",
       "      <td>Male</td>\n",
       "      <td>5</td>\n",
       "      <td>0</td>\n",
       "      <td>0</td>\n",
       "      <td>0</td>\n",
       "      <td>0.5619</td>\n",
       "      <td>0.4381</td>\n",
       "    </tr>\n",
       "  </tbody>\n",
       "</table>\n",
       "<p>5 rows × 26 columns</p>\n",
       "</div>"
      ],
      "text/plain": [
       "     lkupclientid  dimcustomermasterid  year productgrouping  totalspent  \\\n",
       "182            31            441626301  2022     Full Season       864.0   \n",
       "183            31            480354821  2022     Half Season      1095.0   \n",
       "184            31            480354821  2022     Full Season      2700.0   \n",
       "185            31            441549664  2022     Full Season      1450.0   \n",
       "186            31            441552049  2022     Full Season       576.0   \n",
       "\n",
       "    recentdate  attendancepercent  renewedbeforedays source_tenure  tenure  \\\n",
       "182 1970-01-01               0.86                193          1460    1596   \n",
       "183 1970-01-01               0.67                 31          1460    1521   \n",
       "184 1970-01-01               0.00                193          1460    1521   \n",
       "185 1970-01-01               0.14                193           365     613   \n",
       "186 1970-01-01               0.43                 32          2555    2817   \n",
       "\n",
       "     ...  opentosendratio  clicktosendratio clicktoopenratio  gender  \\\n",
       "182  ...             1.28              0.04             0.03  Female   \n",
       "183  ...             2.49              0.02             0.01  Female   \n",
       "184  ...             2.49              0.02             0.01  Female   \n",
       "185  ...             0.00              0.00             0.00  Female   \n",
       "186  ...             0.41              0.13             0.32    Male   \n",
       "\n",
       "    phonecall  inperson_contact isnextyear_buyer Label Score_0 Score_1  \n",
       "182        14                 0                0     1  0.0293  0.9707  \n",
       "183         4                 0                0     1  0.4871  0.5129  \n",
       "184         4                 0                0     1  0.1540  0.8460  \n",
       "185         9                 0                0     1  0.2469  0.7531  \n",
       "186         5                 0                0     0  0.5619  0.4381  \n",
       "\n",
       "[5 rows x 26 columns]"
      ]
     },
     "execution_count": 28,
     "metadata": {},
     "output_type": "execute_result"
    }
   ],
   "source": [
    "new_predictions = predict_model(final_model, data=df_inference, raw_score=True)\n",
    "new_predictions.head()"
   ]
  },
  {
   "cell_type": "code",
   "execution_count": 29,
   "id": "411e4d80",
   "metadata": {},
   "outputs": [
    {
     "data": {
      "text/plain": [
       "1    1533\n",
       "0     213\n",
       "Name: Label, dtype: int64"
      ]
     },
     "execution_count": 29,
     "metadata": {},
     "output_type": "execute_result"
    }
   ],
   "source": [
    "new_predictions[\"Label\"].value_counts()"
   ]
  },
  {
   "cell_type": "code",
   "execution_count": 30,
   "id": "bfeb9655",
   "metadata": {},
   "outputs": [
    {
     "data": {
      "image/png": "[encoded data removed]",
      "text/plain": [
       "<Figure size 576x396 with 1 Axes>"
      ]
     },
     "metadata": {},
     "output_type": "display_data"
    }
   ],
   "source": [
    "plt.hist(new_predictions[\"Score_1\"], bins=20, edgecolor='black')\n",
    "plt.title(\"Retention Scores\")\n",
    "plt.ylabel(\"Num Fans\")\n",
    "plt.xlabel(\"SA Buyer Score\")\n",
    "plt.show()"
   ]
  },
  {
   "cell_type": "code",
   "execution_count": 31,
   "id": "7e22aece-548d-49e8-a88c-c276cecd27f6",
   "metadata": {},
   "outputs": [
    {
     "data": {
      "image/png": "[encoded data removed]",
      "text/plain": [
       "<Figure size 800x500 with 1 Axes>"
      ]
     },
     "metadata": {},
     "output_type": "display_data"
    }
   ],
   "source": [
    "plot_model(final_model, plot='feature')"
   ]
  },
  {
   "cell_type": "code",
   "execution_count": 32,
   "id": "1c4f2ff5-fdf2-464a-8e6b-94e5b4c688c5",
   "metadata": {},
   "outputs": [
    {
     "data": {
      "image/png": "[encoded data removed]",
      "text/plain": [
       "<Figure size 576x396 with 1 Axes>"
      ]
     },
     "metadata": {},
     "output_type": "display_data"
    }
   ],
   "source": [
    "plot_model(final_model, plot='confusion_matrix')"
   ]
  },
  {
   "cell_type": "code",
   "execution_count": 33,
   "id": "88ef2e16-8ae3-4618-9ecd-2a94754763fc",
   "metadata": {},
   "outputs": [
    {
     "data": {
      "image/png": "[encoded data removed]",
      "text/plain": [
       "<Figure size 576x396 with 1 Axes>"
      ]
     },
     "metadata": {},
     "output_type": "display_data"
    }
   ],
   "source": [
    "plot_model(final_model, plot='auc')"
   ]
  },
  {
   "cell_type": "markdown",
   "id": "71538730-5d53-468c-86c8-d4d7fc671786",
   "metadata": {},
   "source": [
    "### Done"
   ]
  }
 ],
 "metadata": {
  "kernelspec": {
   "display_name": "Python 3 (ipykernel)",
   "language": "python",
   "name": "python3"
  },
  "language_info": {
   "codemirror_mode": {
    "name": "ipython",
    "version": 3
   },
   "file_extension": ".py",
   "mimetype": "text/x-python",
   "name": "python",
   "nbconvert_exporter": "python",
   "pygments_lexer": "ipython3",
   "version": "3.9.4"
  },
  "vscode": {
   "interpreter": {
    "hash": "89f48dadab51a6b5b48ffc1a9e043c21cefe67453637c3444f3b86917b8aad16"
   }
  }
 },
 "nbformat": 4,
 "nbformat_minor": 5
}
