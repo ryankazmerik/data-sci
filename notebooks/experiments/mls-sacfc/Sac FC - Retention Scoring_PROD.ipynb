{
 "cells": [
  {
   "cell_type": "markdown",
   "id": "6ee08766-25fd-4da1-91b8-b0c3e74db588",
   "metadata": {},
   "source": [
    "# SacFC - PROD Retention Score\n",
    "* StelllarAlgo Data Science\n",
    "* Ryan Kazmerik & Nakisa Rad\n",
    "* June 6, 2022"
   ]
  },
  {
   "cell_type": "markdown",
   "id": "39108c8d-2e9f-4759-ade2-83071038dc56",
   "metadata": {},
   "source": [
    "## Hypothesis\n"
   ]
  },
  {
   "cell_type": "markdown",
   "id": "28142011-1f32-4cc7-816b-a6dae6f70c8c",
   "metadata": {},
   "source": [
    "## Experiment\n",
    "This section details our experiment including querying data, data transformations, feature selection and modelling."
   ]
  },
  {
   "cell_type": "code",
   "execution_count": 2,
   "id": "4c533efd-600e-4bce-8203-faffbddfa700",
   "metadata": {},
   "outputs": [],
   "source": [
    "import getpass\n",
    "import pyodbc\n",
    "import pandas as pd\n",
    "import warnings\n",
    "import matplotlib.pyplot as plt\n",
    "\n",
    "from pycaret.classification import *\n",
    "\n",
    "warnings.filterwarnings('ignore')"
   ]
  },
  {
   "cell_type": "markdown",
   "id": "b64ae7d5-84af-4915-bd13-1dd9d17098a3",
   "metadata": {},
   "source": [
    "### Let's connect to MSSQL and run a stored proc to get our dataset:"
   ]
  },
  {
   "cell_type": "code",
   "execution_count": 3,
   "id": "ae561eb4-f419-4d46-b5e0-12fac9b10db8",
   "metadata": {},
   "outputs": [
    {
     "name": "stdin",
     "output_type": "stream",
     "text": [
      "Enter your password ··················\n"
     ]
    }
   ],
   "source": [
    "# connect to SQL Server.\n",
    "SERVER = '34.206.73.189' \n",
    "DATABASE = 'datascience' \n",
    "USERNAME = 'dsAdminWrite' \n",
    "PASSWORD = getpass.getpass(prompt='Enter your password')\n",
    "CNXN = pyodbc.connect('DRIVER={ODBC Driver 17 for SQL Server};SERVER='+SERVER+';DATABASE='+DATABASE+';UID='+USERNAME+';PWD='+ PASSWORD)"
   ]
  },
  {
   "cell_type": "code",
   "execution_count": 4,
   "id": "af1afe7d-a35b-494b-88f3-980fb0e3da30",
   "metadata": {},
   "outputs": [
    {
     "data": {
      "text/plain": [
       "(12176, 53)"
      ]
     },
     "execution_count": 4,
     "metadata": {},
     "output_type": "execute_result"
    }
   ],
   "source": [
    "lkupclientid = 31 # SACFC\n",
    "cursor = CNXN.cursor()\n",
    "\n",
    "storedProc = (\n",
    "    f\"\"\"Exec [stlrMLS].[ds].[getRetentionScoringModelData] {lkupclientid}\"\"\"\n",
    ")\n",
    "\n",
    "df = pd.read_sql(storedProc, CNXN)\n",
    "\n",
    "# apply some data transformations\n",
    "df[\"year\"] = pd.to_numeric(df[\"year\"])\n",
    "\n",
    "CNXN.commit()\n",
    "cursor.close()\n",
    "\n",
    "df.shape"
   ]
  },
  {
   "cell_type": "code",
   "execution_count": 5,
   "id": "11e97dcc-c69e-46c1-8dad-33f6291cb0c6",
   "metadata": {},
   "outputs": [
    {
     "name": "stdout",
     "output_type": "stream",
     "text": [
      "<class 'pandas.core.frame.DataFrame'>\n",
      "RangeIndex: 12176 entries, 0 to 12175\n",
      "Data columns (total 53 columns):\n",
      " #   Column                  Non-Null Count  Dtype  \n",
      "---  ------                  --------------  -----  \n",
      " 0   lkupClientId            12176 non-null  int64  \n",
      " 1   dimCustomerMasterId     12176 non-null  int64  \n",
      " 2   year                    12176 non-null  int64  \n",
      " 3   productGrouping         12176 non-null  object \n",
      " 4   totalSpent              12176 non-null  float64\n",
      " 5   recentDate              12176 non-null  object \n",
      " 6   attendancePercent       12176 non-null  float64\n",
      " 7   renewedBeforeDays       12176 non-null  int64  \n",
      " 8   isBuyer                 12176 non-null  object \n",
      " 9   source_tenure           12176 non-null  int64  \n",
      " 10  tenure                  12176 non-null  int64  \n",
      " 11  distToVenue             0 non-null      object \n",
      " 12  totalGames              12176 non-null  int64  \n",
      " 13  recency                 12176 non-null  int64  \n",
      " 14  missed_games_1          12176 non-null  int64  \n",
      " 15  missed_games_2          12176 non-null  int64  \n",
      " 16  missed_games_over_2     12176 non-null  int64  \n",
      " 17  click_link              12176 non-null  int64  \n",
      " 18  fill_out_form           12176 non-null  int64  \n",
      " 19  open_email              12176 non-null  int64  \n",
      " 20  send_email              12176 non-null  int64  \n",
      " 21  unsubscribe_email       12176 non-null  int64  \n",
      " 22  openToSendRatio         12176 non-null  float64\n",
      " 23  clickToSendRatio        12176 non-null  float64\n",
      " 24  clickToOpenRatio        12176 non-null  float64\n",
      " 25  posting_records         12176 non-null  int64  \n",
      " 26  resale_records          12176 non-null  int64  \n",
      " 27  resale_atp              12176 non-null  float64\n",
      " 28  forward_records         12176 non-null  int64  \n",
      " 29  cancel_records          12176 non-null  int64  \n",
      " 30  email                   12176 non-null  int64  \n",
      " 31  inbound_email           12176 non-null  int64  \n",
      " 32  inbound_phonecall       12176 non-null  int64  \n",
      " 33  inperson_contact        12176 non-null  int64  \n",
      " 34  internal_note           12176 non-null  int64  \n",
      " 35  left_message            12176 non-null  int64  \n",
      " 36  outbound_email          12176 non-null  int64  \n",
      " 37  outbound_phonecall      12176 non-null  int64  \n",
      " 38  phonecall               12176 non-null  int64  \n",
      " 39  text                    12176 non-null  int64  \n",
      " 40  unknown                 12176 non-null  int64  \n",
      " 41  gender                  12176 non-null  object \n",
      " 42  childrenPresentInHH     12176 non-null  int64  \n",
      " 43  maritalStatus           12176 non-null  int64  \n",
      " 44  lengthOfResidenceInYrs  0 non-null      object \n",
      " 45  annualHHIncome          0 non-null      object \n",
      " 46  education               0 non-null      object \n",
      " 47  urbanicity              0 non-null      object \n",
      " 48  credits_after_refund    12176 non-null  float64\n",
      " 49  is_Lockdown             12176 non-null  int64  \n",
      " 50  NumberofGamesPerSeason  12176 non-null  int64  \n",
      " 51  CNTPostponedGames       0 non-null      object \n",
      " 52  isNextYear_Buyer        12176 non-null  int64  \n",
      "dtypes: float64(7), int64(36), object(10)\n",
      "memory usage: 4.9+ MB\n"
     ]
    }
   ],
   "source": [
    "df.info()"
   ]
  },
  {
   "cell_type": "markdown",
   "id": "ab40da92-72a7-49c1-9829-ed3805a39719",
   "metadata": {},
   "source": [
    "### We should specify the features used in our model:"
   ]
  },
  {
   "cell_type": "code",
   "execution_count": 6,
   "id": "788f1273-8b7a-46bd-a099-1a471feeacc5",
   "metadata": {},
   "outputs": [
    {
     "name": "stdout",
     "output_type": "stream",
     "text": [
      "Data for Modeling: (8848, 18)\n",
      "Unseen Data For Predictions: (1561, 18)\n",
      "\n"
     ]
    }
   ],
   "source": [
    "# choose the features for the stellar base retention model\n",
    "features = [\n",
    "            \"dimCustomerMasterId\",\n",
    "            \"attendancePercent\",\n",
    "            \"clickToOpenRatio\", \n",
    "            \"clickToSendRatio\", \n",
    "            \"distToVenue\",\n",
    "            \"inperson_contact\", \n",
    "            \"missed_games_1\",\n",
    "            \"missed_games_2\",\n",
    "            \"missed_games_over_2\",\n",
    "            \"openToSendRatio\",\n",
    "            \"phonecall\",\n",
    "            \"recency\",\n",
    "            \"source_tenure\",\n",
    "            \"totalSpent\",\n",
    "            \"recentDate\",\n",
    "            \"isNextYear_Buyer\",\n",
    "            \"productGrouping\",\n",
    "            \"year\"\n",
    "]\n",
    "\n",
    "# copy your main dataframe\n",
    "df_dataset = df\n",
    "\n",
    "# choose the features & train year & test year\n",
    "df_dataset = df_dataset[features]\n",
    "df_dataset[\"year\"] = pd.to_numeric(df_dataset[\"year\"])\n",
    "df_dataset = df_dataset.loc[df_dataset[\"year\"] <= 2021]\n",
    "\n",
    "df_train = df_dataset.sample(frac=0.85, random_state=786)\n",
    "df_eval = df_dataset.drop(df_train.index)\n",
    "\n",
    "df_train.reset_index(drop=True, inplace=True)\n",
    "df_eval.reset_index(drop=True, inplace=True)\n",
    "\n",
    "# print out the number of records for training and eval\n",
    "print('Data for Modeling: ' + str(df_train.shape))\n",
    "print('Unseen Data For Predictions: ' + str(df_eval.shape), end=\"\\n\\n\")"
   ]
  },
  {
   "cell_type": "markdown",
   "id": "4f2da06d-9015-49fd-89b3-956c2ebf66e9",
   "metadata": {},
   "source": [
    "### Now we can model the data using a binary classification prediction for the isnextyear_buyer field to see how likely a customer is to re-purchase."
   ]
  },
  {
   "cell_type": "code",
   "execution_count": 7,
   "id": "23a69cdc-b3ec-48c8-9ce5-29f617779389",
   "metadata": {},
   "outputs": [],
   "source": [
    "setup(\n",
    "    data= df_train, \n",
    "    target=\"isNextYear_Buyer\", \n",
    "    train_size = 0.85,\n",
    "    data_split_shuffle=True,\n",
    "    ignore_features=[\"dimCustomerMasterId\",\"productGrouping\",\"year\"],\n",
    "    silent=True,\n",
    "    verbose=False,\n",
    "    numeric_features=[\n",
    "    \"attendancePercent\",\n",
    "        \"clickToOpenRatio\", \n",
    "            \"clickToSendRatio\", \n",
    "            \"distToVenue\",\n",
    "            \"inperson_contact\", \n",
    "            \"missed_games_1\",\n",
    "            \"missed_games_2\",\n",
    "            \"missed_games_over_2\",\n",
    "            \"openToSendRatio\",\n",
    "            \"phonecall\",\n",
    "            \"recency\",\n",
    "            \"source_tenure\",\n",
    "            \"totalSpent\"\n",
    "    ]\n",
    ");"
   ]
  },
  {
   "cell_type": "code",
   "execution_count": 8,
   "id": "ef2db9d2-02c2-45c0-b6bb-5cad42c373ce",
   "metadata": {},
   "outputs": [
    {
     "data": {
      "text/html": [
       "<style  type=\"text/css\" >\n",
       "    #T_61cf6_ th {\n",
       "          text-align: left;\n",
       "    }#T_61cf6_row0_col0{\n",
       "            text-align:  left;\n",
       "            text-align:  left;\n",
       "        }#T_61cf6_row0_col1,#T_61cf6_row0_col2,#T_61cf6_row0_col3,#T_61cf6_row0_col4,#T_61cf6_row0_col5,#T_61cf6_row0_col6,#T_61cf6_row0_col7{\n",
       "            text-align:  left;\n",
       "            text-align:  left;\n",
       "            background-color:  yellow;\n",
       "        }#T_61cf6_row0_col8{\n",
       "            text-align:  left;\n",
       "            text-align:  left;\n",
       "            background-color:  yellow;\n",
       "            background-color:  lightgrey;\n",
       "        }</style><table id=\"T_61cf6_\" ><thead>    <tr>        <th class=\"blank level0\" ></th>        <th class=\"col_heading level0 col0\" >Model</th>        <th class=\"col_heading level0 col1\" >Accuracy</th>        <th class=\"col_heading level0 col2\" >AUC</th>        <th class=\"col_heading level0 col3\" >Recall</th>        <th class=\"col_heading level0 col4\" >Prec.</th>        <th class=\"col_heading level0 col5\" >F1</th>        <th class=\"col_heading level0 col6\" >Kappa</th>        <th class=\"col_heading level0 col7\" >MCC</th>        <th class=\"col_heading level0 col8\" >TT (Sec)</th>    </tr></thead><tbody>\n",
       "                <tr>\n",
       "                        <th id=\"T_61cf6_level0_row0\" class=\"row_heading level0 row0\" >lightgbm</th>\n",
       "                        <td id=\"T_61cf6_row0_col0\" class=\"data row0 col0\" >Light Gradient Boosting Machine</td>\n",
       "                        <td id=\"T_61cf6_row0_col1\" class=\"data row0 col1\" >0.8053</td>\n",
       "                        <td id=\"T_61cf6_row0_col2\" class=\"data row0 col2\" >0.8134</td>\n",
       "                        <td id=\"T_61cf6_row0_col3\" class=\"data row0 col3\" >0.9288</td>\n",
       "                        <td id=\"T_61cf6_row0_col4\" class=\"data row0 col4\" >0.8318</td>\n",
       "                        <td id=\"T_61cf6_row0_col5\" class=\"data row0 col5\" >0.8776</td>\n",
       "                        <td id=\"T_61cf6_row0_col6\" class=\"data row0 col6\" >0.4088</td>\n",
       "                        <td id=\"T_61cf6_row0_col7\" class=\"data row0 col7\" >0.4246</td>\n",
       "                        <td id=\"T_61cf6_row0_col8\" class=\"data row0 col8\" >0.3470</td>\n",
       "            </tr>\n",
       "    </tbody></table>"
      ],
      "text/plain": [
       "<pandas.io.formats.style.Styler at 0x7fc072b47580>"
      ]
     },
     "metadata": {},
     "output_type": "display_data"
    }
   ],
   "source": [
    "model_matrix = compare_models(\n",
    "    fold=10,\n",
    "    include=[\"lightgbm\"]\n",
    ")"
   ]
  },
  {
   "cell_type": "code",
   "execution_count": 9,
   "id": "d9f030ed-4b6a-4a87-a01e-129dc49e0d4a",
   "metadata": {},
   "outputs": [
    {
     "data": {
      "text/html": [
       "<style  type=\"text/css\" >\n",
       "#T_0c24a_row10_col0,#T_0c24a_row10_col1,#T_0c24a_row10_col2,#T_0c24a_row10_col3,#T_0c24a_row10_col4,#T_0c24a_row10_col5,#T_0c24a_row10_col6{\n",
       "            background:  yellow;\n",
       "        }</style><table id=\"T_0c24a_\" ><thead>    <tr>        <th class=\"blank level0\" ></th>        <th class=\"col_heading level0 col0\" >Accuracy</th>        <th class=\"col_heading level0 col1\" >AUC</th>        <th class=\"col_heading level0 col2\" >Recall</th>        <th class=\"col_heading level0 col3\" >Prec.</th>        <th class=\"col_heading level0 col4\" >F1</th>        <th class=\"col_heading level0 col5\" >Kappa</th>        <th class=\"col_heading level0 col6\" >MCC</th>    </tr></thead><tbody>\n",
       "                <tr>\n",
       "                        <th id=\"T_0c24a_level0_row0\" class=\"row_heading level0 row0\" >0</th>\n",
       "                        <td id=\"T_0c24a_row0_col0\" class=\"data row0 col0\" >0.7992</td>\n",
       "                        <td id=\"T_0c24a_row0_col1\" class=\"data row0 col1\" >0.8116</td>\n",
       "                        <td id=\"T_0c24a_row0_col2\" class=\"data row0 col2\" >0.9363</td>\n",
       "                        <td id=\"T_0c24a_row0_col3\" class=\"data row0 col3\" >0.8214</td>\n",
       "                        <td id=\"T_0c24a_row0_col4\" class=\"data row0 col4\" >0.8751</td>\n",
       "                        <td id=\"T_0c24a_row0_col5\" class=\"data row0 col5\" >0.3742</td>\n",
       "                        <td id=\"T_0c24a_row0_col6\" class=\"data row0 col6\" >0.3960</td>\n",
       "            </tr>\n",
       "            <tr>\n",
       "                        <th id=\"T_0c24a_level0_row1\" class=\"row_heading level0 row1\" >1</th>\n",
       "                        <td id=\"T_0c24a_row1_col0\" class=\"data row1 col0\" >0.8072</td>\n",
       "                        <td id=\"T_0c24a_row1_col1\" class=\"data row1 col1\" >0.8239</td>\n",
       "                        <td id=\"T_0c24a_row1_col2\" class=\"data row1 col2\" >0.9345</td>\n",
       "                        <td id=\"T_0c24a_row1_col3\" class=\"data row1 col3\" >0.8302</td>\n",
       "                        <td id=\"T_0c24a_row1_col4\" class=\"data row1 col4\" >0.8793</td>\n",
       "                        <td id=\"T_0c24a_row1_col5\" class=\"data row1 col5\" >0.4089</td>\n",
       "                        <td id=\"T_0c24a_row1_col6\" class=\"data row1 col6\" >0.4272</td>\n",
       "            </tr>\n",
       "            <tr>\n",
       "                        <th id=\"T_0c24a_level0_row2\" class=\"row_heading level0 row2\" >2</th>\n",
       "                        <td id=\"T_0c24a_row2_col0\" class=\"data row2 col0\" >0.8245</td>\n",
       "                        <td id=\"T_0c24a_row2_col1\" class=\"data row2 col1\" >0.8038</td>\n",
       "                        <td id=\"T_0c24a_row2_col2\" class=\"data row2 col2\" >0.9416</td>\n",
       "                        <td id=\"T_0c24a_row2_col3\" class=\"data row2 col3\" >0.8431</td>\n",
       "                        <td id=\"T_0c24a_row2_col4\" class=\"data row2 col4\" >0.8896</td>\n",
       "                        <td id=\"T_0c24a_row2_col5\" class=\"data row2 col5\" >0.4674</td>\n",
       "                        <td id=\"T_0c24a_row2_col6\" class=\"data row2 col6\" >0.4849</td>\n",
       "            </tr>\n",
       "            <tr>\n",
       "                        <th id=\"T_0c24a_level0_row3\" class=\"row_heading level0 row3\" >3</th>\n",
       "                        <td id=\"T_0c24a_row3_col0\" class=\"data row3 col0\" >0.8098</td>\n",
       "                        <td id=\"T_0c24a_row3_col1\" class=\"data row3 col1\" >0.8357</td>\n",
       "                        <td id=\"T_0c24a_row3_col2\" class=\"data row3 col2\" >0.9257</td>\n",
       "                        <td id=\"T_0c24a_row3_col3\" class=\"data row3 col3\" >0.8381</td>\n",
       "                        <td id=\"T_0c24a_row3_col4\" class=\"data row3 col4\" >0.8797</td>\n",
       "                        <td id=\"T_0c24a_row3_col5\" class=\"data row3 col5\" >0.4311</td>\n",
       "                        <td id=\"T_0c24a_row3_col6\" class=\"data row3 col6\" >0.4434</td>\n",
       "            </tr>\n",
       "            <tr>\n",
       "                        <th id=\"T_0c24a_level0_row4\" class=\"row_heading level0 row4\" >4</th>\n",
       "                        <td id=\"T_0c24a_row4_col0\" class=\"data row4 col0\" >0.8059</td>\n",
       "                        <td id=\"T_0c24a_row4_col1\" class=\"data row4 col1\" >0.8020</td>\n",
       "                        <td id=\"T_0c24a_row4_col2\" class=\"data row4 col2\" >0.9345</td>\n",
       "                        <td id=\"T_0c24a_row4_col3\" class=\"data row4 col3\" >0.8289</td>\n",
       "                        <td id=\"T_0c24a_row4_col4\" class=\"data row4 col4\" >0.8785</td>\n",
       "                        <td id=\"T_0c24a_row4_col5\" class=\"data row4 col5\" >0.4036</td>\n",
       "                        <td id=\"T_0c24a_row4_col6\" class=\"data row4 col6\" >0.4223</td>\n",
       "            </tr>\n",
       "            <tr>\n",
       "                        <th id=\"T_0c24a_level0_row5\" class=\"row_heading level0 row5\" >5</th>\n",
       "                        <td id=\"T_0c24a_row5_col0\" class=\"data row5 col0\" >0.8059</td>\n",
       "                        <td id=\"T_0c24a_row5_col1\" class=\"data row5 col1\" >0.8111</td>\n",
       "                        <td id=\"T_0c24a_row5_col2\" class=\"data row5 col2\" >0.9345</td>\n",
       "                        <td id=\"T_0c24a_row5_col3\" class=\"data row5 col3\" >0.8289</td>\n",
       "                        <td id=\"T_0c24a_row5_col4\" class=\"data row5 col4\" >0.8785</td>\n",
       "                        <td id=\"T_0c24a_row5_col5\" class=\"data row5 col5\" >0.4036</td>\n",
       "                        <td id=\"T_0c24a_row5_col6\" class=\"data row5 col6\" >0.4223</td>\n",
       "            </tr>\n",
       "            <tr>\n",
       "                        <th id=\"T_0c24a_level0_row6\" class=\"row_heading level0 row6\" >6</th>\n",
       "                        <td id=\"T_0c24a_row6_col0\" class=\"data row6 col0\" >0.8032</td>\n",
       "                        <td id=\"T_0c24a_row6_col1\" class=\"data row6 col1\" >0.8168</td>\n",
       "                        <td id=\"T_0c24a_row6_col2\" class=\"data row6 col2\" >0.9097</td>\n",
       "                        <td id=\"T_0c24a_row6_col3\" class=\"data row6 col3\" >0.8412</td>\n",
       "                        <td id=\"T_0c24a_row6_col4\" class=\"data row6 col4\" >0.8741</td>\n",
       "                        <td id=\"T_0c24a_row6_col5\" class=\"data row6 col5\" >0.4261</td>\n",
       "                        <td id=\"T_0c24a_row6_col6\" class=\"data row6 col6\" >0.4330</td>\n",
       "            </tr>\n",
       "            <tr>\n",
       "                        <th id=\"T_0c24a_level0_row7\" class=\"row_heading level0 row7\" >7</th>\n",
       "                        <td id=\"T_0c24a_row7_col0\" class=\"data row7 col0\" >0.7926</td>\n",
       "                        <td id=\"T_0c24a_row7_col1\" class=\"data row7 col1\" >0.8086</td>\n",
       "                        <td id=\"T_0c24a_row7_col2\" class=\"data row7 col2\" >0.9292</td>\n",
       "                        <td id=\"T_0c24a_row7_col3\" class=\"data row7 col3\" >0.8190</td>\n",
       "                        <td id=\"T_0c24a_row7_col4\" class=\"data row7 col4\" >0.8706</td>\n",
       "                        <td id=\"T_0c24a_row7_col5\" class=\"data row7 col5\" >0.3575</td>\n",
       "                        <td id=\"T_0c24a_row7_col6\" class=\"data row7 col6\" >0.3764</td>\n",
       "            </tr>\n",
       "            <tr>\n",
       "                        <th id=\"T_0c24a_level0_row8\" class=\"row_heading level0 row8\" >8</th>\n",
       "                        <td id=\"T_0c24a_row8_col0\" class=\"data row8 col0\" >0.7952</td>\n",
       "                        <td id=\"T_0c24a_row8_col1\" class=\"data row8 col1\" >0.7939</td>\n",
       "                        <td id=\"T_0c24a_row8_col2\" class=\"data row8 col2\" >0.9257</td>\n",
       "                        <td id=\"T_0c24a_row8_col3\" class=\"data row8 col3\" >0.8236</td>\n",
       "                        <td id=\"T_0c24a_row8_col4\" class=\"data row8 col4\" >0.8717</td>\n",
       "                        <td id=\"T_0c24a_row8_col5\" class=\"data row8 col5\" >0.3735</td>\n",
       "                        <td id=\"T_0c24a_row8_col6\" class=\"data row8 col6\" >0.3896</td>\n",
       "            </tr>\n",
       "            <tr>\n",
       "                        <th id=\"T_0c24a_level0_row9\" class=\"row_heading level0 row9\" >9</th>\n",
       "                        <td id=\"T_0c24a_row9_col0\" class=\"data row9 col0\" >0.8098</td>\n",
       "                        <td id=\"T_0c24a_row9_col1\" class=\"data row9 col1\" >0.8262</td>\n",
       "                        <td id=\"T_0c24a_row9_col2\" class=\"data row9 col2\" >0.9168</td>\n",
       "                        <td id=\"T_0c24a_row9_col3\" class=\"data row9 col3\" >0.8436</td>\n",
       "                        <td id=\"T_0c24a_row9_col4\" class=\"data row9 col4\" >0.8787</td>\n",
       "                        <td id=\"T_0c24a_row9_col5\" class=\"data row9 col5\" >0.4422</td>\n",
       "                        <td id=\"T_0c24a_row9_col6\" class=\"data row9 col6\" >0.4505</td>\n",
       "            </tr>\n",
       "            <tr>\n",
       "                        <th id=\"T_0c24a_level0_row10\" class=\"row_heading level0 row10\" >Mean</th>\n",
       "                        <td id=\"T_0c24a_row10_col0\" class=\"data row10 col0\" >0.8053</td>\n",
       "                        <td id=\"T_0c24a_row10_col1\" class=\"data row10 col1\" >0.8134</td>\n",
       "                        <td id=\"T_0c24a_row10_col2\" class=\"data row10 col2\" >0.9288</td>\n",
       "                        <td id=\"T_0c24a_row10_col3\" class=\"data row10 col3\" >0.8318</td>\n",
       "                        <td id=\"T_0c24a_row10_col4\" class=\"data row10 col4\" >0.8776</td>\n",
       "                        <td id=\"T_0c24a_row10_col5\" class=\"data row10 col5\" >0.4088</td>\n",
       "                        <td id=\"T_0c24a_row10_col6\" class=\"data row10 col6\" >0.4246</td>\n",
       "            </tr>\n",
       "            <tr>\n",
       "                        <th id=\"T_0c24a_level0_row11\" class=\"row_heading level0 row11\" >SD</th>\n",
       "                        <td id=\"T_0c24a_row11_col0\" class=\"data row11 col0\" >0.0085</td>\n",
       "                        <td id=\"T_0c24a_row11_col1\" class=\"data row11 col1\" >0.0119</td>\n",
       "                        <td id=\"T_0c24a_row11_col2\" class=\"data row11 col2\" >0.0092</td>\n",
       "                        <td id=\"T_0c24a_row11_col3\" class=\"data row11 col3\" >0.0087</td>\n",
       "                        <td id=\"T_0c24a_row11_col4\" class=\"data row11 col4\" >0.0051</td>\n",
       "                        <td id=\"T_0c24a_row11_col5\" class=\"data row11 col5\" >0.0324</td>\n",
       "                        <td id=\"T_0c24a_row11_col6\" class=\"data row11 col6\" >0.0302</td>\n",
       "            </tr>\n",
       "    </tbody></table>"
      ],
      "text/plain": [
       "<pandas.io.formats.style.Styler at 0x7fc073566910>"
      ]
     },
     "metadata": {},
     "output_type": "display_data"
    }
   ],
   "source": [
    "best_model = create_model(model_matrix)\n",
    "final_model = finalize_model(best_model)"
   ]
  },
  {
   "cell_type": "markdown",
   "id": "3aab9021-4462-423a-8e3c-fbe1f36c6110",
   "metadata": {},
   "source": [
    "### Let's load in our 2021 season data and get retention scores using the model:"
   ]
  },
  {
   "cell_type": "code",
   "execution_count": 10,
   "id": "c249a813-c882-4869-9490-6ab766a8c223",
   "metadata": {},
   "outputs": [
    {
     "data": {
      "text/plain": [
       "(1767, 53)"
      ]
     },
     "execution_count": 10,
     "metadata": {},
     "output_type": "execute_result"
    }
   ],
   "source": [
    "df_inference = df.loc[df[\"year\"] >= 2022]\n",
    "df_inference = df_inference.fillna(0)\n",
    "df_inference.shape"
   ]
  },
  {
   "cell_type": "code",
   "execution_count": 11,
   "id": "745b62fb-fb2e-4b4a-9c48-8ce4de472a83",
   "metadata": {},
   "outputs": [
    {
     "data": {
      "text/html": [
       "<div>\n",
       "<style scoped>\n",
       "    .dataframe tbody tr th:only-of-type {\n",
       "        vertical-align: middle;\n",
       "    }\n",
       "\n",
       "    .dataframe tbody tr th {\n",
       "        vertical-align: top;\n",
       "    }\n",
       "\n",
       "    .dataframe thead th {\n",
       "        text-align: right;\n",
       "    }\n",
       "</style>\n",
       "<table border=\"1\" class=\"dataframe\">\n",
       "  <thead>\n",
       "    <tr style=\"text-align: right;\">\n",
       "      <th></th>\n",
       "      <th>lkupClientId</th>\n",
       "      <th>dimCustomerMasterId</th>\n",
       "      <th>year</th>\n",
       "      <th>productGrouping</th>\n",
       "      <th>totalSpent</th>\n",
       "      <th>recentDate</th>\n",
       "      <th>attendancePercent</th>\n",
       "      <th>renewedBeforeDays</th>\n",
       "      <th>isBuyer</th>\n",
       "      <th>source_tenure</th>\n",
       "      <th>...</th>\n",
       "      <th>education</th>\n",
       "      <th>urbanicity</th>\n",
       "      <th>credits_after_refund</th>\n",
       "      <th>is_Lockdown</th>\n",
       "      <th>NumberofGamesPerSeason</th>\n",
       "      <th>CNTPostponedGames</th>\n",
       "      <th>isNextYear_Buyer</th>\n",
       "      <th>Label</th>\n",
       "      <th>Score_0</th>\n",
       "      <th>Score_1</th>\n",
       "    </tr>\n",
       "  </thead>\n",
       "  <tbody>\n",
       "    <tr>\n",
       "      <th>10409</th>\n",
       "      <td>31</td>\n",
       "      <td>457921203</td>\n",
       "      <td>2022</td>\n",
       "      <td>Full Season</td>\n",
       "      <td>3660.00</td>\n",
       "      <td>2022-04-30</td>\n",
       "      <td>0.333333</td>\n",
       "      <td>193</td>\n",
       "      <td>TRUE</td>\n",
       "      <td>2920</td>\n",
       "      <td>...</td>\n",
       "      <td>0</td>\n",
       "      <td>0</td>\n",
       "      <td>0.0</td>\n",
       "      <td>0</td>\n",
       "      <td>22</td>\n",
       "      <td>0</td>\n",
       "      <td>0</td>\n",
       "      <td>0</td>\n",
       "      <td>0.5262</td>\n",
       "      <td>0.4738</td>\n",
       "    </tr>\n",
       "    <tr>\n",
       "      <th>10410</th>\n",
       "      <td>31</td>\n",
       "      <td>457921626</td>\n",
       "      <td>2022</td>\n",
       "      <td>Full Season</td>\n",
       "      <td>576.00</td>\n",
       "      <td>2022-04-02</td>\n",
       "      <td>0.500000</td>\n",
       "      <td>193</td>\n",
       "      <td>TRUE</td>\n",
       "      <td>1825</td>\n",
       "      <td>...</td>\n",
       "      <td>0</td>\n",
       "      <td>0</td>\n",
       "      <td>0.0</td>\n",
       "      <td>0</td>\n",
       "      <td>22</td>\n",
       "      <td>0</td>\n",
       "      <td>0</td>\n",
       "      <td>0</td>\n",
       "      <td>0.7676</td>\n",
       "      <td>0.2324</td>\n",
       "    </tr>\n",
       "    <tr>\n",
       "      <th>10411</th>\n",
       "      <td>31</td>\n",
       "      <td>457925326</td>\n",
       "      <td>2022</td>\n",
       "      <td>Full Season</td>\n",
       "      <td>725.00</td>\n",
       "      <td>2022-06-04</td>\n",
       "      <td>1.166667</td>\n",
       "      <td>193</td>\n",
       "      <td>TRUE</td>\n",
       "      <td>2920</td>\n",
       "      <td>...</td>\n",
       "      <td>0</td>\n",
       "      <td>0</td>\n",
       "      <td>0.0</td>\n",
       "      <td>0</td>\n",
       "      <td>22</td>\n",
       "      <td>0</td>\n",
       "      <td>0</td>\n",
       "      <td>1</td>\n",
       "      <td>0.2947</td>\n",
       "      <td>0.7053</td>\n",
       "    </tr>\n",
       "    <tr>\n",
       "      <th>10412</th>\n",
       "      <td>31</td>\n",
       "      <td>457925600</td>\n",
       "      <td>2022</td>\n",
       "      <td>Half Season</td>\n",
       "      <td>353.76</td>\n",
       "      <td>2022-04-30</td>\n",
       "      <td>0.500000</td>\n",
       "      <td>45</td>\n",
       "      <td>TRUE</td>\n",
       "      <td>1460</td>\n",
       "      <td>...</td>\n",
       "      <td>0</td>\n",
       "      <td>0</td>\n",
       "      <td>0.0</td>\n",
       "      <td>0</td>\n",
       "      <td>22</td>\n",
       "      <td>0</td>\n",
       "      <td>0</td>\n",
       "      <td>0</td>\n",
       "      <td>0.6437</td>\n",
       "      <td>0.3563</td>\n",
       "    </tr>\n",
       "    <tr>\n",
       "      <th>10413</th>\n",
       "      <td>31</td>\n",
       "      <td>457927559</td>\n",
       "      <td>2022</td>\n",
       "      <td>Full Season</td>\n",
       "      <td>10880.00</td>\n",
       "      <td>1970-01-01</td>\n",
       "      <td>0.000000</td>\n",
       "      <td>193</td>\n",
       "      <td>TRUE</td>\n",
       "      <td>2920</td>\n",
       "      <td>...</td>\n",
       "      <td>0</td>\n",
       "      <td>0</td>\n",
       "      <td>0.0</td>\n",
       "      <td>0</td>\n",
       "      <td>22</td>\n",
       "      <td>0</td>\n",
       "      <td>0</td>\n",
       "      <td>1</td>\n",
       "      <td>0.1194</td>\n",
       "      <td>0.8806</td>\n",
       "    </tr>\n",
       "  </tbody>\n",
       "</table>\n",
       "<p>5 rows × 56 columns</p>\n",
       "</div>"
      ],
      "text/plain": [
       "       lkupClientId  dimCustomerMasterId  year productGrouping  totalSpent  \\\n",
       "10409            31            457921203  2022     Full Season     3660.00   \n",
       "10410            31            457921626  2022     Full Season      576.00   \n",
       "10411            31            457925326  2022     Full Season      725.00   \n",
       "10412            31            457925600  2022     Half Season      353.76   \n",
       "10413            31            457927559  2022     Full Season    10880.00   \n",
       "\n",
       "       recentDate  attendancePercent  renewedBeforeDays isBuyer  \\\n",
       "10409  2022-04-30           0.333333                193    TRUE   \n",
       "10410  2022-04-02           0.500000                193    TRUE   \n",
       "10411  2022-06-04           1.166667                193    TRUE   \n",
       "10412  2022-04-30           0.500000                 45    TRUE   \n",
       "10413  1970-01-01           0.000000                193    TRUE   \n",
       "\n",
       "       source_tenure  ...  education  urbanicity  credits_after_refund  \\\n",
       "10409           2920  ...          0           0                   0.0   \n",
       "10410           1825  ...          0           0                   0.0   \n",
       "10411           2920  ...          0           0                   0.0   \n",
       "10412           1460  ...          0           0                   0.0   \n",
       "10413           2920  ...          0           0                   0.0   \n",
       "\n",
       "       is_Lockdown  NumberofGamesPerSeason  CNTPostponedGames  \\\n",
       "10409            0                      22                  0   \n",
       "10410            0                      22                  0   \n",
       "10411            0                      22                  0   \n",
       "10412            0                      22                  0   \n",
       "10413            0                      22                  0   \n",
       "\n",
       "       isNextYear_Buyer  Label  Score_0  Score_1  \n",
       "10409                 0      0   0.5262   0.4738  \n",
       "10410                 0      0   0.7676   0.2324  \n",
       "10411                 0      1   0.2947   0.7053  \n",
       "10412                 0      0   0.6437   0.3563  \n",
       "10413                 0      1   0.1194   0.8806  \n",
       "\n",
       "[5 rows x 56 columns]"
      ]
     },
     "execution_count": 11,
     "metadata": {},
     "output_type": "execute_result"
    }
   ],
   "source": [
    "new_predictions = predict_model(final_model, data=df_inference, raw_score=True)\n",
    "new_predictions.head()"
   ]
  },
  {
   "cell_type": "code",
   "execution_count": 12,
   "id": "c98d3de4-966c-4d4a-af8f-e4a2d78eed38",
   "metadata": {},
   "outputs": [
    {
     "data": {
      "text/plain": [
       "1    894\n",
       "0    873\n",
       "Name: Label, dtype: int64"
      ]
     },
     "execution_count": 12,
     "metadata": {},
     "output_type": "execute_result"
    }
   ],
   "source": [
    "new_predictions[\"Label\"].value_counts()"
   ]
  },
  {
   "cell_type": "code",
   "execution_count": 13,
   "id": "95e96920-bc9c-4b50-837c-89e392d13449",
   "metadata": {},
   "outputs": [
    {
     "data": {
      "text/plain": [
       "(0.6, 0.8]       440\n",
       "(0.2, 0.4]       436\n",
       "(0.4, 0.6]       395\n",
       "(0.8, 1.0]       256\n",
       "(-0.001, 0.2]    240\n",
       "Name: Score_1, dtype: int64"
      ]
     },
     "execution_count": 13,
     "metadata": {},
     "output_type": "execute_result"
    }
   ],
   "source": [
    "new_predictions[\"Score_1\"].value_counts(bins=[0, 0.2, 0.4, 0.6, 0.8, 1.0])"
   ]
  },
  {
   "cell_type": "code",
   "execution_count": 14,
   "id": "3b4b1d51-1c33-489a-95f6-ab75e428c760",
   "metadata": {},
   "outputs": [
    {
     "data": {
      "image/png": "[encoded data removed]",
      "text/plain": [
       "<Figure size 576x396 with 1 Axes>"
      ]
     },
     "metadata": {},
     "output_type": "display_data"
    }
   ],
   "source": [
    "plt.hist(new_predictions[\"Score_1\"], bins=20, edgecolor='black')\n",
    "plt.title(\"Retention Scores\")\n",
    "plt.ylabel(\"Num Fans\")\n",
    "plt.xlabel(\"SA Buyer Score\")\n",
    "plt.show()"
   ]
  },
  {
   "cell_type": "code",
   "execution_count": 15,
   "id": "144bd27b-9798-4f8b-a3a3-95298d8e2c01",
   "metadata": {},
   "outputs": [
    {
     "data": {
      "image/png": "[encoded data removed]",
      "text/plain": [
       "<Figure size 800x500 with 1 Axes>"
      ]
     },
     "metadata": {},
     "output_type": "display_data"
    }
   ],
   "source": [
    "plot_model(best_model, plot='feature')"
   ]
  },
  {
   "cell_type": "code",
   "execution_count": 16,
   "id": "79e34840-9a47-486f-a648-6d5d16d73b89",
   "metadata": {},
   "outputs": [
    {
     "data": {
      "image/png": "[encoded data removed]",
      "text/plain": [
       "<Figure size 576x396 with 1 Axes>"
      ]
     },
     "metadata": {},
     "output_type": "display_data"
    }
   ],
   "source": [
    "plot_model(best_model, plot='confusion_matrix')"
   ]
  },
  {
   "cell_type": "markdown",
   "id": "a439108b-7911-4384-b089-f7b31c825192",
   "metadata": {},
   "source": [
    "## Observations\n",
    "Here you can document some ideas on the results from above"
   ]
  },
  {
   "cell_type": "code",
   "execution_count": null,
   "id": "ba105685-1873-4a6a-b739-cd2974c7a36f",
   "metadata": {},
   "outputs": [],
   "source": []
  }
 ],
 "metadata": {
  "kernelspec": {
   "display_name": "Python 3 (ipykernel)",
   "language": "python",
   "name": "python3"
  },
  "language_info": {
   "codemirror_mode": {
    "name": "ipython",
    "version": 3
   },
   "file_extension": ".py",
   "mimetype": "text/x-python",
   "name": "python",
   "nbconvert_exporter": "python",
   "pygments_lexer": "ipython3",
   "version": "3.9.4"
  }
 },
 "nbformat": 4,
 "nbformat_minor": 5
}
