{
 "cells": [
  {
   "cell_type": "markdown",
   "id": "9575d83e",
   "metadata": {},
   "source": [
    "# Tampa Bay Rays - New RS Retention Stored Procedure\n",
    "* StellarAlgo Data Science\n",
    "* Ryan Kazmerik & Nakisa Rad\n",
    "* June 14, 2022"
   ]
  },
  {
   "cell_type": "markdown",
   "id": "62d7c5a2",
   "metadata": {},
   "source": [
    "## Hypothesis\n",
    "Recently the stored procedure that pulls data for training and scoring the retention model was migrated to RedShift. We are asuming that the logic is still valid and that the data can be used with our existing retention model."
   ]
  },
  {
   "cell_type": "markdown",
   "id": "c46403a5",
   "metadata": {},
   "source": [
    "## Experiment\n",
    "This section details our experiment including querying data, data transformations, feature selection and modelling."
   ]
  },
  {
   "cell_type": "code",
   "execution_count": 2,
   "id": "df2be620",
   "metadata": {},
   "outputs": [],
   "source": [
    "import boto3\n",
    "import pandas as pd\n",
    "import matplotlib.pyplot as plt\n",
    "import psycopg2\n",
    "\n",
    "from pycaret.classification import *"
   ]
  },
  {
   "cell_type": "code",
   "execution_count": 3,
   "id": "93720795",
   "metadata": {},
   "outputs": [
    {
     "name": "stdout",
     "output_type": "stream",
     "text": [
      "Attempting to automatically open the SSO authorization page in your default browser.\n",
      "If the browser does not open or you wish to use a different device to authorize this request, open the following URL:\n",
      "\n",
      "https://device.sso.us-east-1.amazonaws.com/\n",
      "\n",
      "Then enter the code:\n",
      "\n",
      "HDCQ-SHKH\n",
      "Successfully logged into Start URL: https://stellaralgo.awsapps.com/start\n"
     ]
    }
   ],
   "source": [
    "! aws sso login --profile Stellaralgo-DataScienceAdmin"
   ]
  },
  {
   "cell_type": "code",
   "execution_count": 14,
   "id": "35c1c1ec",
   "metadata": {},
   "outputs": [
    {
     "name": "stdout",
     "output_type": "stream",
     "text": [
      "GOT CONNECTION TO DATABASE: qa-app stlrmls\n"
     ]
    }
   ],
   "source": [
    "session = boto3.session.Session(profile_name='Stellaralgo-DataScienceAdmin')\n",
    "client = session.client('redshift')\n",
    "\n",
    "CLUSTER = 'qa-app'\n",
    "DBNAME = 'stlrmls'\n",
    "\n",
    "creds = client.get_cluster_credentials(                \n",
    "    ClusterIdentifier = CLUSTER,\n",
    "    DbUser = 'admin',\n",
    "    DbName = DBNAME,\n",
    "    DbGroups = ['admin_group'],\n",
    "    AutoCreate=True\n",
    ")\n",
    "\n",
    "# create a connection & cursor and call the stored procedure\n",
    "conn = psycopg2.connect(\n",
    "    host = 'qa-app.ctjussvyafp4.us-east-1.redshift.amazonaws.com',\n",
    "    port = 5439,\n",
    "    user = creds['DbUser'],\n",
    "    password = creds['DbPassword'],\n",
    "    database = DBNAME\n",
    ")\n",
    "\n",
    "print(f\"GOT CONNECTION TO DATABASE: {CLUSTER} {DBNAME}\")"
   ]
  },
  {
   "cell_type": "code",
   "execution_count": 15,
   "id": "bf80cd96",
   "metadata": {},
   "outputs": [],
   "source": [
    "# call the stored proc to get data for the retention model\n",
    "cur = conn.cursor()\n",
    "cur.execute(f\"CALL dw.getretentionmodeldata(31, 2010, 2021, 'temp_cursor')\")\n",
    "\n",
    "# create a named cursor based on the cursor name passed in above\n",
    "named_cursor = conn.cursor('temp_cursor')\n",
    "data = named_cursor.fetchall()\n",
    "\n",
    "# load the data and columns into a data frame\n",
    "cols = [row[0] for row in named_cursor.description]\n",
    "df = pd.DataFrame(data=data, columns=cols)\n",
    "\n",
    "conn.commit()"
   ]
  },
  {
   "cell_type": "code",
   "execution_count": 16,
   "id": "fbe71a79",
   "metadata": {},
   "outputs": [
    {
     "name": "stdout",
     "output_type": "stream",
     "text": [
      "<class 'pandas.core.frame.DataFrame'>\n",
      "RangeIndex: 10069 entries, 0 to 10068\n",
      "Data columns (total 23 columns):\n",
      " #   Column               Non-Null Count  Dtype         \n",
      "---  ------               --------------  -----         \n",
      " 0   lkupclientid         10069 non-null  int64         \n",
      " 1   dimcustomermasterid  10069 non-null  int64         \n",
      " 2   year                 10069 non-null  int64         \n",
      " 3   productgrouping      10069 non-null  object        \n",
      " 4   totalspent           10069 non-null  float64       \n",
      " 5   recentdate           10069 non-null  datetime64[ns]\n",
      " 6   attendancepercent    10069 non-null  float64       \n",
      " 7   renewedbeforedays    10069 non-null  int64         \n",
      " 8   source_tenure        10069 non-null  object        \n",
      " 9   tenure               10069 non-null  int64         \n",
      " 10  disttovenue          10069 non-null  float64       \n",
      " 11  recency              10069 non-null  int64         \n",
      " 12  missed_games_1       10069 non-null  object        \n",
      " 13  missed_games_2       10069 non-null  object        \n",
      " 14  missed_games_over_2  10069 non-null  object        \n",
      " 15  forward_records      10069 non-null  int64         \n",
      " 16  opentosendratio      10069 non-null  object        \n",
      " 17  clicktosendratio     10069 non-null  object        \n",
      " 18  clicktoopenratio     10069 non-null  object        \n",
      " 19  gender               10069 non-null  object        \n",
      " 20  phonecall            10069 non-null  int64         \n",
      " 21  inperson_contact     10069 non-null  int64         \n",
      " 22  isnextyear_buyer     10069 non-null  int64         \n",
      "dtypes: datetime64[ns](1), float64(3), int64(10), object(9)\n",
      "memory usage: 1.8+ MB\n"
     ]
    }
   ],
   "source": [
    "df.info()"
   ]
  },
  {
   "cell_type": "code",
   "execution_count": 17,
   "id": "1c8bad91-cdc3-40a7-8915-93f3048bfa53",
   "metadata": {},
   "outputs": [
    {
     "name": "stdout",
     "output_type": "stream",
     "text": [
      "Data for Modeling: (5182, 18)\n",
      "Unseen Data For Predictions: (914, 18)\n",
      "\n"
     ]
    }
   ],
   "source": [
    "# choose the features for the stellar base retention model\n",
    "features = [\n",
    "    \"dimcustomermasterid\",\n",
    "    \"attendancepercent\",\n",
    "    \"clicktoopenratio\", \n",
    "    \"clicktosendratio\",\n",
    "    \"disttovenue\",\n",
    "    \"inperson_contact\",\n",
    "    \"isnextyear_buyer\",\n",
    "    \"lkupclientid\",\n",
    "    \"missed_games_1\",\n",
    "    \"missed_games_2\",\n",
    "    \"missed_games_over_2\",\n",
    "    \"opentosendratio\",\n",
    "    \"productgrouping\",\n",
    "    \"recency\",\n",
    "    \"renewedbeforedays\",\n",
    "    \"source_tenure\",\n",
    "    \"totalspent\",\n",
    "    \"year\"\n",
    "]\n",
    "\n",
    "# copy your main dataframe\n",
    "df_dataset = df\n",
    "\n",
    "# choose the features & train year & test year\n",
    "df_dataset = df_dataset[features]\n",
    "df_dataset[\"year\"] = pd.to_numeric(df_dataset[\"year\"])\n",
    "df_dataset = df_dataset.loc[df_dataset[\"year\"] <= 2019]\n",
    "\n",
    "df_train = df_dataset.sample(frac=0.85, random_state=786)\n",
    "df_eval = df_dataset.drop(df_train.index)\n",
    "\n",
    "df_train.reset_index(drop=True, inplace=True)\n",
    "df_eval.reset_index(drop=True, inplace=True)\n",
    "\n",
    "# print out the number of records for training and eval\n",
    "print('Data for Modeling: ' + str(df_train.shape))\n",
    "print('Unseen Data For Predictions: ' + str(df_eval.shape), end=\"\\n\\n\")"
   ]
  },
  {
   "cell_type": "code",
   "execution_count": 18,
   "id": "3eabb279-56dd-4dbf-b7da-77bd2aa7cafa",
   "metadata": {},
   "outputs": [],
   "source": [
    "setup(\n",
    "    data= df_train, \n",
    "    target=\"isnextyear_buyer\", \n",
    "    train_size = 0.85,\n",
    "    data_split_shuffle=True,\n",
    "    ignore_features=[\n",
    "        \"dimcustomermasterid\",\n",
    "        \"lkupclientid\",\n",
    "        \"productgrouping\",\n",
    "        \"year\"\n",
    "    ],\n",
    "    silent=True,\n",
    "    verbose=False,\n",
    "    numeric_features=[\n",
    "        \"attendancepercent\",\n",
    "        \"disttovenue\",\n",
    "        \"missed_games_1\",\n",
    "        \"missed_games_2\",\n",
    "        \"missed_games_over_2\",\n",
    "        \"recency\",\n",
    "        \"renewedbeforedays\",\n",
    "        \"source_tenure\",\n",
    "        \"totalspent\"\n",
    "    ]\n",
    ");"
   ]
  },
  {
   "cell_type": "code",
   "execution_count": 19,
   "id": "05742a70-860c-477f-bea9-516a0a87c508",
   "metadata": {},
   "outputs": [
    {
     "data": {
      "text/html": [
       "<style type=\"text/css\">\n",
       "#T_55101_ th {\n",
       "  text-align: left;\n",
       "}\n",
       "#T_55101_row0_col0 {\n",
       "  text-align: left;\n",
       "}\n",
       "#T_55101_row0_col1, #T_55101_row0_col2, #T_55101_row0_col3, #T_55101_row0_col4, #T_55101_row0_col5, #T_55101_row0_col6, #T_55101_row0_col7 {\n",
       "  text-align: left;\n",
       "  background-color: yellow;\n",
       "}\n",
       "#T_55101_row0_col8 {\n",
       "  text-align: left;\n",
       "  background-color: yellow;\n",
       "  background-color: lightgrey;\n",
       "}\n",
       "</style>\n",
       "<table id=\"T_55101_\">\n",
       "  <thead>\n",
       "    <tr>\n",
       "      <th class=\"blank level0\" >&nbsp;</th>\n",
       "      <th class=\"col_heading level0 col0\" >Model</th>\n",
       "      <th class=\"col_heading level0 col1\" >Accuracy</th>\n",
       "      <th class=\"col_heading level0 col2\" >AUC</th>\n",
       "      <th class=\"col_heading level0 col3\" >Recall</th>\n",
       "      <th class=\"col_heading level0 col4\" >Prec.</th>\n",
       "      <th class=\"col_heading level0 col5\" >F1</th>\n",
       "      <th class=\"col_heading level0 col6\" >Kappa</th>\n",
       "      <th class=\"col_heading level0 col7\" >MCC</th>\n",
       "      <th class=\"col_heading level0 col8\" >TT (Sec)</th>\n",
       "    </tr>\n",
       "  </thead>\n",
       "  <tbody>\n",
       "    <tr>\n",
       "      <th id=\"T_55101_level0_row0\" class=\"row_heading level0 row0\" >lightgbm</th>\n",
       "      <td id=\"T_55101_row0_col0\" class=\"data row0 col0\" >Light Gradient Boosting Machine</td>\n",
       "      <td id=\"T_55101_row0_col1\" class=\"data row0 col1\" >0.7727</td>\n",
       "      <td id=\"T_55101_row0_col2\" class=\"data row0 col2\" >0.7724</td>\n",
       "      <td id=\"T_55101_row0_col3\" class=\"data row0 col3\" >0.9070</td>\n",
       "      <td id=\"T_55101_row0_col4\" class=\"data row0 col4\" >0.8068</td>\n",
       "      <td id=\"T_55101_row0_col5\" class=\"data row0 col5\" >0.8539</td>\n",
       "      <td id=\"T_55101_row0_col6\" class=\"data row0 col6\" >0.3497</td>\n",
       "      <td id=\"T_55101_row0_col7\" class=\"data row0 col7\" >0.3632</td>\n",
       "      <td id=\"T_55101_row0_col8\" class=\"data row0 col8\" >0.7020</td>\n",
       "    </tr>\n",
       "  </tbody>\n",
       "</table>\n"
      ],
      "text/plain": [
       "<pandas.io.formats.style.Styler at 0x7fb67bbb7a60>"
      ]
     },
     "metadata": {},
     "output_type": "display_data"
    }
   ],
   "source": [
    "model_matrix = compare_models(\n",
    "    fold=10,\n",
    "    include=[\"lightgbm\"]\n",
    ")"
   ]
  },
  {
   "cell_type": "code",
   "execution_count": 23,
   "id": "9b4716b3-5a6b-4942-a32c-7ef3e9083509",
   "metadata": {},
   "outputs": [
    {
     "data": {
      "text/html": [
       "<style type=\"text/css\">\n",
       "#T_5d1ee_row10_col0, #T_5d1ee_row10_col1, #T_5d1ee_row10_col2, #T_5d1ee_row10_col3, #T_5d1ee_row10_col4, #T_5d1ee_row10_col5, #T_5d1ee_row10_col6 {\n",
       "  background: yellow;\n",
       "}\n",
       "</style>\n",
       "<table id=\"T_5d1ee_\">\n",
       "  <thead>\n",
       "    <tr>\n",
       "      <th class=\"blank level0\" >&nbsp;</th>\n",
       "      <th class=\"col_heading level0 col0\" >Accuracy</th>\n",
       "      <th class=\"col_heading level0 col1\" >AUC</th>\n",
       "      <th class=\"col_heading level0 col2\" >Recall</th>\n",
       "      <th class=\"col_heading level0 col3\" >Prec.</th>\n",
       "      <th class=\"col_heading level0 col4\" >F1</th>\n",
       "      <th class=\"col_heading level0 col5\" >Kappa</th>\n",
       "      <th class=\"col_heading level0 col6\" >MCC</th>\n",
       "    </tr>\n",
       "  </thead>\n",
       "  <tbody>\n",
       "    <tr>\n",
       "      <th id=\"T_5d1ee_level0_row0\" class=\"row_heading level0 row0\" >0</th>\n",
       "      <td id=\"T_5d1ee_row0_col0\" class=\"data row0 col0\" >0.7800</td>\n",
       "      <td id=\"T_5d1ee_row0_col1\" class=\"data row0 col1\" >0.7656</td>\n",
       "      <td id=\"T_5d1ee_row0_col2\" class=\"data row0 col2\" >0.9195</td>\n",
       "      <td id=\"T_5d1ee_row0_col3\" class=\"data row0 col3\" >0.8071</td>\n",
       "      <td id=\"T_5d1ee_row0_col4\" class=\"data row0 col4\" >0.8596</td>\n",
       "      <td id=\"T_5d1ee_row0_col5\" class=\"data row0 col5\" >0.3616</td>\n",
       "      <td id=\"T_5d1ee_row0_col6\" class=\"data row0 col6\" >0.3786</td>\n",
       "    </tr>\n",
       "    <tr>\n",
       "      <th id=\"T_5d1ee_level0_row1\" class=\"row_heading level0 row1\" >1</th>\n",
       "      <td id=\"T_5d1ee_row1_col0\" class=\"data row1 col0\" >0.7959</td>\n",
       "      <td id=\"T_5d1ee_row1_col1\" class=\"data row1 col1\" >0.8222</td>\n",
       "      <td id=\"T_5d1ee_row1_col2\" class=\"data row1 col2\" >0.9350</td>\n",
       "      <td id=\"T_5d1ee_row1_col3\" class=\"data row1 col3\" >0.8140</td>\n",
       "      <td id=\"T_5d1ee_row1_col4\" class=\"data row1 col4\" >0.8703</td>\n",
       "      <td id=\"T_5d1ee_row1_col5\" class=\"data row1 col5\" >0.4022</td>\n",
       "      <td id=\"T_5d1ee_row1_col6\" class=\"data row1 col6\" >0.4243</td>\n",
       "    </tr>\n",
       "    <tr>\n",
       "      <th id=\"T_5d1ee_level0_row2\" class=\"row_heading level0 row2\" >2</th>\n",
       "      <td id=\"T_5d1ee_row2_col0\" class=\"data row2 col0\" >0.7914</td>\n",
       "      <td id=\"T_5d1ee_row2_col1\" class=\"data row2 col1\" >0.8003</td>\n",
       "      <td id=\"T_5d1ee_row2_col2\" class=\"data row2 col2\" >0.9288</td>\n",
       "      <td id=\"T_5d1ee_row2_col3\" class=\"data row2 col3\" >0.8130</td>\n",
       "      <td id=\"T_5d1ee_row2_col4\" class=\"data row2 col4\" >0.8671</td>\n",
       "      <td id=\"T_5d1ee_row2_col5\" class=\"data row2 col5\" >0.3926</td>\n",
       "      <td id=\"T_5d1ee_row2_col6\" class=\"data row2 col6\" >0.4121</td>\n",
       "    </tr>\n",
       "    <tr>\n",
       "      <th id=\"T_5d1ee_level0_row3\" class=\"row_heading level0 row3\" >3</th>\n",
       "      <td id=\"T_5d1ee_row3_col0\" class=\"data row3 col0\" >0.7528</td>\n",
       "      <td id=\"T_5d1ee_row3_col1\" class=\"data row3 col1\" >0.7511</td>\n",
       "      <td id=\"T_5d1ee_row3_col2\" class=\"data row3 col2\" >0.9040</td>\n",
       "      <td id=\"T_5d1ee_row3_col3\" class=\"data row3 col3\" >0.7892</td>\n",
       "      <td id=\"T_5d1ee_row3_col4\" class=\"data row3 col4\" >0.8427</td>\n",
       "      <td id=\"T_5d1ee_row3_col5\" class=\"data row3 col5\" >0.2782</td>\n",
       "      <td id=\"T_5d1ee_row3_col6\" class=\"data row3 col6\" >0.2927</td>\n",
       "    </tr>\n",
       "    <tr>\n",
       "      <th id=\"T_5d1ee_level0_row4\" class=\"row_heading level0 row4\" >4</th>\n",
       "      <td id=\"T_5d1ee_row4_col0\" class=\"data row4 col0\" >0.7500</td>\n",
       "      <td id=\"T_5d1ee_row4_col1\" class=\"data row4 col1\" >0.7272</td>\n",
       "      <td id=\"T_5d1ee_row4_col2\" class=\"data row4 col2\" >0.8700</td>\n",
       "      <td id=\"T_5d1ee_row4_col3\" class=\"data row4 col3\" >0.8052</td>\n",
       "      <td id=\"T_5d1ee_row4_col4\" class=\"data row4 col4\" >0.8363</td>\n",
       "      <td id=\"T_5d1ee_row4_col5\" class=\"data row4 col5\" >0.3108</td>\n",
       "      <td id=\"T_5d1ee_row4_col6\" class=\"data row4 col6\" >0.3150</td>\n",
       "    </tr>\n",
       "    <tr>\n",
       "      <th id=\"T_5d1ee_level0_row5\" class=\"row_heading level0 row5\" >5</th>\n",
       "      <td id=\"T_5d1ee_row5_col0\" class=\"data row5 col0\" >0.7682</td>\n",
       "      <td id=\"T_5d1ee_row5_col1\" class=\"data row5 col1\" >0.7947</td>\n",
       "      <td id=\"T_5d1ee_row5_col2\" class=\"data row5 col2\" >0.8978</td>\n",
       "      <td id=\"T_5d1ee_row5_col3\" class=\"data row5 col3\" >0.8078</td>\n",
       "      <td id=\"T_5d1ee_row5_col4\" class=\"data row5 col4\" >0.8504</td>\n",
       "      <td id=\"T_5d1ee_row5_col5\" class=\"data row5 col5\" >0.3416</td>\n",
       "      <td id=\"T_5d1ee_row5_col6\" class=\"data row5 col6\" >0.3512</td>\n",
       "    </tr>\n",
       "    <tr>\n",
       "      <th id=\"T_5d1ee_level0_row6\" class=\"row_heading level0 row6\" >6</th>\n",
       "      <td id=\"T_5d1ee_row6_col0\" class=\"data row6 col0\" >0.7682</td>\n",
       "      <td id=\"T_5d1ee_row6_col1\" class=\"data row6 col1\" >0.7519</td>\n",
       "      <td id=\"T_5d1ee_row6_col2\" class=\"data row6 col2\" >0.8789</td>\n",
       "      <td id=\"T_5d1ee_row6_col3\" class=\"data row6 col3\" >0.8179</td>\n",
       "      <td id=\"T_5d1ee_row6_col4\" class=\"data row6 col4\" >0.8473</td>\n",
       "      <td id=\"T_5d1ee_row6_col5\" class=\"data row6 col5\" >0.3687</td>\n",
       "      <td id=\"T_5d1ee_row6_col6\" class=\"data row6 col6\" >0.3729</td>\n",
       "    </tr>\n",
       "    <tr>\n",
       "      <th id=\"T_5d1ee_level0_row7\" class=\"row_heading level0 row7\" >7</th>\n",
       "      <td id=\"T_5d1ee_row7_col0\" class=\"data row7 col0\" >0.7773</td>\n",
       "      <td id=\"T_5d1ee_row7_col1\" class=\"data row7 col1\" >0.7743</td>\n",
       "      <td id=\"T_5d1ee_row7_col2\" class=\"data row7 col2\" >0.9161</td>\n",
       "      <td id=\"T_5d1ee_row7_col3\" class=\"data row7 col3\" >0.8060</td>\n",
       "      <td id=\"T_5d1ee_row7_col4\" class=\"data row7 col4\" >0.8576</td>\n",
       "      <td id=\"T_5d1ee_row7_col5\" class=\"data row7 col5\" >0.3566</td>\n",
       "      <td id=\"T_5d1ee_row7_col6\" class=\"data row7 col6\" >0.3725</td>\n",
       "    </tr>\n",
       "    <tr>\n",
       "      <th id=\"T_5d1ee_level0_row8\" class=\"row_heading level0 row8\" >8</th>\n",
       "      <td id=\"T_5d1ee_row8_col0\" class=\"data row8 col0\" >0.7614</td>\n",
       "      <td id=\"T_5d1ee_row8_col1\" class=\"data row8 col1\" >0.7464</td>\n",
       "      <td id=\"T_5d1ee_row8_col2\" class=\"data row8 col2\" >0.9130</td>\n",
       "      <td id=\"T_5d1ee_row8_col3\" class=\"data row8 col3\" >0.7925</td>\n",
       "      <td id=\"T_5d1ee_row8_col4\" class=\"data row8 col4\" >0.8485</td>\n",
       "      <td id=\"T_5d1ee_row8_col5\" class=\"data row8 col5\" >0.3000</td>\n",
       "      <td id=\"T_5d1ee_row8_col6\" class=\"data row8 col6\" >0.3174</td>\n",
       "    </tr>\n",
       "    <tr>\n",
       "      <th id=\"T_5d1ee_level0_row9\" class=\"row_heading level0 row9\" >9</th>\n",
       "      <td id=\"T_5d1ee_row9_col0\" class=\"data row9 col0\" >0.7818</td>\n",
       "      <td id=\"T_5d1ee_row9_col1\" class=\"data row9 col1\" >0.7899</td>\n",
       "      <td id=\"T_5d1ee_row9_col2\" class=\"data row9 col2\" >0.9068</td>\n",
       "      <td id=\"T_5d1ee_row9_col3\" class=\"data row9 col3\" >0.8156</td>\n",
       "      <td id=\"T_5d1ee_row9_col4\" class=\"data row9 col4\" >0.8588</td>\n",
       "      <td id=\"T_5d1ee_row9_col5\" class=\"data row9 col5\" >0.3847</td>\n",
       "      <td id=\"T_5d1ee_row9_col6\" class=\"data row9 col6\" >0.3954</td>\n",
       "    </tr>\n",
       "    <tr>\n",
       "      <th id=\"T_5d1ee_level0_row10\" class=\"row_heading level0 row10\" >Mean</th>\n",
       "      <td id=\"T_5d1ee_row10_col0\" class=\"data row10 col0\" >0.7727</td>\n",
       "      <td id=\"T_5d1ee_row10_col1\" class=\"data row10 col1\" >0.7724</td>\n",
       "      <td id=\"T_5d1ee_row10_col2\" class=\"data row10 col2\" >0.9070</td>\n",
       "      <td id=\"T_5d1ee_row10_col3\" class=\"data row10 col3\" >0.8068</td>\n",
       "      <td id=\"T_5d1ee_row10_col4\" class=\"data row10 col4\" >0.8539</td>\n",
       "      <td id=\"T_5d1ee_row10_col5\" class=\"data row10 col5\" >0.3497</td>\n",
       "      <td id=\"T_5d1ee_row10_col6\" class=\"data row10 col6\" >0.3632</td>\n",
       "    </tr>\n",
       "    <tr>\n",
       "      <th id=\"T_5d1ee_level0_row11\" class=\"row_heading level0 row11\" >SD</th>\n",
       "      <td id=\"T_5d1ee_row11_col0\" class=\"data row11 col0\" >0.0146</td>\n",
       "      <td id=\"T_5d1ee_row11_col1\" class=\"data row11 col1\" >0.0277</td>\n",
       "      <td id=\"T_5d1ee_row11_col2\" class=\"data row11 col2\" >0.0195</td>\n",
       "      <td id=\"T_5d1ee_row11_col3\" class=\"data row11 col3\" >0.0090</td>\n",
       "      <td id=\"T_5d1ee_row11_col4\" class=\"data row11 col4\" >0.0102</td>\n",
       "      <td id=\"T_5d1ee_row11_col5\" class=\"data row11 col5\" >0.0394</td>\n",
       "      <td id=\"T_5d1ee_row11_col6\" class=\"data row11 col6\" >0.0414</td>\n",
       "    </tr>\n",
       "  </tbody>\n",
       "</table>\n"
      ],
      "text/plain": [
       "<pandas.io.formats.style.Styler at 0x7fb67bb6aa60>"
      ]
     },
     "metadata": {},
     "output_type": "display_data"
    }
   ],
   "source": [
    "best_model = create_model(model_matrix)\n",
    "final_model = finalize_model(best_model)"
   ]
  },
  {
   "cell_type": "code",
   "execution_count": 24,
   "id": "4487009f",
   "metadata": {},
   "outputs": [
    {
     "data": {
      "text/plain": [
       "(2073, 23)"
      ]
     },
     "execution_count": 24,
     "metadata": {},
     "output_type": "execute_result"
    }
   ],
   "source": [
    "df_inference = df.loc[df[\"year\"] >= 2021]\n",
    "df_inference = df_inference.fillna(0)\n",
    "df_inference.shape"
   ]
  },
  {
   "cell_type": "code",
   "execution_count": 25,
   "id": "3aa9448f",
   "metadata": {},
   "outputs": [
    {
     "data": {
      "text/html": [
       "<div>\n",
       "<style scoped>\n",
       "    .dataframe tbody tr th:only-of-type {\n",
       "        vertical-align: middle;\n",
       "    }\n",
       "\n",
       "    .dataframe tbody tr th {\n",
       "        vertical-align: top;\n",
       "    }\n",
       "\n",
       "    .dataframe thead th {\n",
       "        text-align: right;\n",
       "    }\n",
       "</style>\n",
       "<table border=\"1\" class=\"dataframe\">\n",
       "  <thead>\n",
       "    <tr style=\"text-align: right;\">\n",
       "      <th></th>\n",
       "      <th>lkupclientid</th>\n",
       "      <th>dimcustomermasterid</th>\n",
       "      <th>year</th>\n",
       "      <th>productgrouping</th>\n",
       "      <th>totalspent</th>\n",
       "      <th>recentdate</th>\n",
       "      <th>attendancepercent</th>\n",
       "      <th>renewedbeforedays</th>\n",
       "      <th>source_tenure</th>\n",
       "      <th>tenure</th>\n",
       "      <th>...</th>\n",
       "      <th>opentosendratio</th>\n",
       "      <th>clicktosendratio</th>\n",
       "      <th>clicktoopenratio</th>\n",
       "      <th>gender</th>\n",
       "      <th>phonecall</th>\n",
       "      <th>inperson_contact</th>\n",
       "      <th>isnextyear_buyer</th>\n",
       "      <th>Label</th>\n",
       "      <th>Score_0</th>\n",
       "      <th>Score_1</th>\n",
       "    </tr>\n",
       "  </thead>\n",
       "  <tbody>\n",
       "    <tr>\n",
       "      <th>1</th>\n",
       "      <td>31</td>\n",
       "      <td>441548651</td>\n",
       "      <td>2021</td>\n",
       "      <td>Mini/Flex Plan</td>\n",
       "      <td>246.00</td>\n",
       "      <td>1970-01-01</td>\n",
       "      <td>3.00</td>\n",
       "      <td>-40</td>\n",
       "      <td>2555</td>\n",
       "      <td>2356</td>\n",
       "      <td>...</td>\n",
       "      <td>1.19</td>\n",
       "      <td>0.07</td>\n",
       "      <td>0.06</td>\n",
       "      <td>Female</td>\n",
       "      <td>11</td>\n",
       "      <td>0</td>\n",
       "      <td>0</td>\n",
       "      <td>0</td>\n",
       "      <td>0.6972</td>\n",
       "      <td>0.3028</td>\n",
       "    </tr>\n",
       "    <tr>\n",
       "      <th>2</th>\n",
       "      <td>31</td>\n",
       "      <td>441546675</td>\n",
       "      <td>2021</td>\n",
       "      <td>Full Season</td>\n",
       "      <td>906.96</td>\n",
       "      <td>1970-01-01</td>\n",
       "      <td>0.18</td>\n",
       "      <td>38</td>\n",
       "      <td>365</td>\n",
       "      <td>227</td>\n",
       "      <td>...</td>\n",
       "      <td>0.72</td>\n",
       "      <td>0.05</td>\n",
       "      <td>0.07</td>\n",
       "      <td>Male</td>\n",
       "      <td>7</td>\n",
       "      <td>0</td>\n",
       "      <td>0</td>\n",
       "      <td>1</td>\n",
       "      <td>0.4917</td>\n",
       "      <td>0.5083</td>\n",
       "    </tr>\n",
       "    <tr>\n",
       "      <th>13</th>\n",
       "      <td>31</td>\n",
       "      <td>441559595</td>\n",
       "      <td>2021</td>\n",
       "      <td>Full Season</td>\n",
       "      <td>1210.36</td>\n",
       "      <td>2021-05-29</td>\n",
       "      <td>1.00</td>\n",
       "      <td>374</td>\n",
       "      <td>0</td>\n",
       "      <td>2696</td>\n",
       "      <td>...</td>\n",
       "      <td>2.81</td>\n",
       "      <td>0.34</td>\n",
       "      <td>0.12</td>\n",
       "      <td>Male</td>\n",
       "      <td>11</td>\n",
       "      <td>0</td>\n",
       "      <td>0</td>\n",
       "      <td>1</td>\n",
       "      <td>0.0138</td>\n",
       "      <td>0.9862</td>\n",
       "    </tr>\n",
       "    <tr>\n",
       "      <th>45</th>\n",
       "      <td>31</td>\n",
       "      <td>441591150</td>\n",
       "      <td>2021</td>\n",
       "      <td>Full Season</td>\n",
       "      <td>1219.92</td>\n",
       "      <td>2021-09-18</td>\n",
       "      <td>0.27</td>\n",
       "      <td>402</td>\n",
       "      <td>2920</td>\n",
       "      <td>1508</td>\n",
       "      <td>...</td>\n",
       "      <td>1.96</td>\n",
       "      <td>0.19</td>\n",
       "      <td>0.10</td>\n",
       "      <td>Male</td>\n",
       "      <td>13</td>\n",
       "      <td>0</td>\n",
       "      <td>0</td>\n",
       "      <td>1</td>\n",
       "      <td>0.1112</td>\n",
       "      <td>0.8888</td>\n",
       "    </tr>\n",
       "    <tr>\n",
       "      <th>50</th>\n",
       "      <td>31</td>\n",
       "      <td>441596788</td>\n",
       "      <td>2021</td>\n",
       "      <td>Full Season</td>\n",
       "      <td>1467.44</td>\n",
       "      <td>2021-07-31</td>\n",
       "      <td>0.20</td>\n",
       "      <td>357</td>\n",
       "      <td>1460</td>\n",
       "      <td>1242</td>\n",
       "      <td>...</td>\n",
       "      <td>1.41</td>\n",
       "      <td>0.19</td>\n",
       "      <td>0.13</td>\n",
       "      <td>Female</td>\n",
       "      <td>22</td>\n",
       "      <td>0</td>\n",
       "      <td>0</td>\n",
       "      <td>1</td>\n",
       "      <td>0.0658</td>\n",
       "      <td>0.9342</td>\n",
       "    </tr>\n",
       "  </tbody>\n",
       "</table>\n",
       "<p>5 rows × 26 columns</p>\n",
       "</div>"
      ],
      "text/plain": [
       "    lkupclientid  dimcustomermasterid  year productgrouping  totalspent  \\\n",
       "1             31            441548651  2021  Mini/Flex Plan      246.00   \n",
       "2             31            441546675  2021     Full Season      906.96   \n",
       "13            31            441559595  2021     Full Season     1210.36   \n",
       "45            31            441591150  2021     Full Season     1219.92   \n",
       "50            31            441596788  2021     Full Season     1467.44   \n",
       "\n",
       "   recentdate  attendancepercent  renewedbeforedays source_tenure  tenure  \\\n",
       "1  1970-01-01               3.00                -40          2555    2356   \n",
       "2  1970-01-01               0.18                 38           365     227   \n",
       "13 2021-05-29               1.00                374             0    2696   \n",
       "45 2021-09-18               0.27                402          2920    1508   \n",
       "50 2021-07-31               0.20                357          1460    1242   \n",
       "\n",
       "    ...  opentosendratio  clicktosendratio clicktoopenratio  gender phonecall  \\\n",
       "1   ...             1.19              0.07             0.06  Female        11   \n",
       "2   ...             0.72              0.05             0.07    Male         7   \n",
       "13  ...             2.81              0.34             0.12    Male        11   \n",
       "45  ...             1.96              0.19             0.10    Male        13   \n",
       "50  ...             1.41              0.19             0.13  Female        22   \n",
       "\n",
       "    inperson_contact isnextyear_buyer Label Score_0 Score_1  \n",
       "1                  0                0     0  0.6972  0.3028  \n",
       "2                  0                0     1  0.4917  0.5083  \n",
       "13                 0                0     1  0.0138  0.9862  \n",
       "45                 0                0     1  0.1112  0.8888  \n",
       "50                 0                0     1  0.0658  0.9342  \n",
       "\n",
       "[5 rows x 26 columns]"
      ]
     },
     "execution_count": 25,
     "metadata": {},
     "output_type": "execute_result"
    }
   ],
   "source": [
    "new_predictions = predict_model(final_model, data=df_inference, raw_score=True)\n",
    "new_predictions.head()"
   ]
  },
  {
   "cell_type": "code",
   "execution_count": 26,
   "id": "411e4d80",
   "metadata": {},
   "outputs": [
    {
     "data": {
      "text/plain": [
       "1    1632\n",
       "0     441\n",
       "Name: Label, dtype: int64"
      ]
     },
     "execution_count": 26,
     "metadata": {},
     "output_type": "execute_result"
    }
   ],
   "source": [
    "new_predictions[\"Label\"].value_counts()"
   ]
  },
  {
   "cell_type": "code",
   "execution_count": 27,
   "id": "bfeb9655",
   "metadata": {},
   "outputs": [
    {
     "data": {
      "image/png": "[encoded data removed]",
      "text/plain": [
       "<Figure size 576x396 with 1 Axes>"
      ]
     },
     "metadata": {},
     "output_type": "display_data"
    }
   ],
   "source": [
    "plt.hist(new_predictions[\"Score_1\"], bins=20, edgecolor='black')\n",
    "plt.title(\"Retention Scores\")\n",
    "plt.ylabel(\"Num Fans\")\n",
    "plt.xlabel(\"SA Buyer Score\")\n",
    "plt.show()"
   ]
  },
  {
   "cell_type": "code",
   "execution_count": 28,
   "id": "7e22aece-548d-49e8-a88c-c276cecd27f6",
   "metadata": {},
   "outputs": [
    {
     "data": {
      "image/png": "[encoded data removed]",
      "text/plain": [
       "<Figure size 800x500 with 1 Axes>"
      ]
     },
     "metadata": {},
     "output_type": "display_data"
    }
   ],
   "source": [
    "plot_model(final_model, plot='feature')"
   ]
  },
  {
   "cell_type": "code",
   "execution_count": 29,
   "id": "1c4f2ff5-fdf2-464a-8e6b-94e5b4c688c5",
   "metadata": {},
   "outputs": [
    {
     "data": {
      "image/png": "[encoded data removed]",
      "text/plain": [
       "<Figure size 576x396 with 1 Axes>"
      ]
     },
     "metadata": {},
     "output_type": "display_data"
    }
   ],
   "source": [
    "plot_model(final_model, plot='confusion_matrix')"
   ]
  },
  {
   "cell_type": "code",
   "execution_count": 30,
   "id": "88ef2e16-8ae3-4618-9ecd-2a94754763fc",
   "metadata": {},
   "outputs": [
    {
     "data": {
      "image/png": "[encoded data removed]",
      "text/plain": [
       "<Figure size 576x396 with 1 Axes>"
      ]
     },
     "metadata": {},
     "output_type": "display_data"
    }
   ],
   "source": [
    "plot_model(final_model, plot='auc')"
   ]
  },
  {
   "cell_type": "markdown",
   "id": "71538730-5d53-468c-86c8-d4d7fc671786",
   "metadata": {},
   "source": [
    "### Done"
   ]
  }
 ],
 "metadata": {
  "kernelspec": {
   "display_name": "Python 3.8.5 ('stellar')",
   "language": "python",
   "name": "python3"
  },
  "language_info": {
   "codemirror_mode": {
    "name": "ipython",
    "version": 3
   },
   "file_extension": ".py",
   "mimetype": "text/x-python",
   "name": "python",
   "nbconvert_exporter": "python",
   "pygments_lexer": "ipython3",
   "version": "3.8.5"
  },
  "vscode": {
   "interpreter": {
    "hash": "89f48dadab51a6b5b48ffc1a9e043c21cefe67453637c3444f3b86917b8aad16"
   }
  }
 },
 "nbformat": 4,
 "nbformat_minor": 5
}
