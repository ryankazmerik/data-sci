{
 "cells": [
  {
   "cell_type": "markdown",
   "id": "6ee08766-25fd-4da1-91b8-b0c3e74db588",
   "metadata": {},
   "source": [
    "# Yankees - Event Propensity - Next Event Buyer Scoring\n",
    "* Ryan Kazmerik, Nakisa Rad, Joey Lai, Shawn Sutherland, Matt Bahler, Pat Faith\n",
    "* Feb 22, 2022"
   ]
  },
  {
   "cell_type": "code",
   "execution_count": 1,
   "id": "4c533efd-600e-4bce-8203-faffbddfa700",
   "metadata": {},
   "outputs": [],
   "source": [
    "import boto3\n",
    "import json\n",
    "import matplotlib.pyplot as plt\n",
    "import pandas as pd\n",
    "import warnings\n",
    "\n",
    "from pandas_profiling import ProfileReport\n",
    "from pycaret.classification import *\n",
    "\n",
    "boto3.setup_default_session(profile_name='Legacy-DataScienceAdmin')\n",
    "\n",
    "warnings.filterwarnings('ignore')\n",
    "%config InlineBackend.figure_format = 'retina'"
   ]
  },
  {
   "cell_type": "markdown",
   "id": "745243f5-ac83-4da6-bcda-c4b7bcddcb06",
   "metadata": {
    "tags": []
   },
   "source": [
    "### Let's get some data from S3 and convert the CSV files into a single dataframe. There should be 4 files per game, with the game date included in the filename:"
   ]
  },
  {
   "cell_type": "code",
   "execution_count": 10,
   "id": "ee3b3822-5d70-4eac-a9b8-bd773a15c841",
   "metadata": {},
   "outputs": [],
   "source": [
    "s3 = boto3.client('s3')\n",
    "obj = s3.get_object(Bucket='stellar-redshift-etl', Key='hold/ml_data/game2022-04-070000_part_00')\n",
    "df_prev_games = pd.read_csv(obj['Body'])"
   ]
  },
  {
   "cell_type": "code",
   "execution_count": 11,
   "id": "25610ac1-b664-4471-a546-0b0cc48b0941",
   "metadata": {},
   "outputs": [
    {
     "name": "stdout",
     "output_type": "stream",
     "text": [
      "<class 'pandas.core.frame.DataFrame'>\n",
      "RangeIndex: 573332 entries, 0 to 573331\n",
      "Data columns (total 12 columns):\n",
      " #   Column               Non-Null Count   Dtype  \n",
      "---  ------               --------------   -----  \n",
      " 0   daysOut              573332 non-null  object \n",
      " 1   eventDate            573332 non-null  object \n",
      " 2   tenure               573332 non-null  int64  \n",
      " 3   dimCustomerMasterId  573332 non-null  int64  \n",
      " 4   events_purchased     573332 non-null  int64  \n",
      " 5   frequency_opponent   129392 non-null  float64\n",
      " 6   frequency_eventDay   85552 non-null   float64\n",
      " 7   frequency_eventTime  291792 non-null  float64\n",
      " 8   inMarket             554600 non-null  object \n",
      " 9   distanceToVenue      490400 non-null  float64\n",
      " 10  recent_openRate      0 non-null       float64\n",
      " 11  recent_clickRate     0 non-null       float64\n",
      "dtypes: float64(6), int64(3), object(3)\n",
      "memory usage: 52.5+ MB\n"
     ]
    }
   ],
   "source": [
    "df_prev_games.info()"
   ]
  },
  {
   "cell_type": "markdown",
   "id": "fb272845-a597-4290-ad64-52366dd20fc9",
   "metadata": {},
   "source": [
    "### We need to replace some NaN values with 0, except for the distanceToVenue column:"
   ]
  },
  {
   "cell_type": "code",
   "execution_count": 12,
   "id": "6b5cb459-c451-4550-bde3-231ebd462842",
   "metadata": {},
   "outputs": [],
   "source": [
    "for col in df_prev_games.columns:\n",
    "    if col != 'distanceToVenue':\n",
    "        df_inference[col].fillna(0, inplace=True)"
   ]
  },
  {
   "cell_type": "markdown",
   "id": "6d1c7ee4-eddb-4703-9c8e-48bc349a8a9d",
   "metadata": {},
   "source": [
    "### Let's load up the saved event propensity model from the model directory:"
   ]
  },
  {
   "cell_type": "code",
   "execution_count": 13,
   "id": "e89a3f0d-19ab-46b4-82a7-157f391cd391",
   "metadata": {},
   "outputs": [
    {
     "name": "stdout",
     "output_type": "stream",
     "text": [
      "Transformation Pipeline and Model Successfully Loaded\n"
     ]
    }
   ],
   "source": [
    "saved_model= load_model('./models/MLB Yankees - Event Propensity (22Feb2022)')"
   ]
  },
  {
   "cell_type": "markdown",
   "id": "4f2da06d-9015-49fd-89b3-956c2ebf66e9",
   "metadata": {},
   "source": [
    "### Now we can model the data using a binary classification prediction for the target field to see how likely a customer is to purchase:"
   ]
  },
  {
   "cell_type": "code",
   "execution_count": 15,
   "id": "28dc3553-b21b-4ce3-a210-47f74f26154f",
   "metadata": {},
   "outputs": [
    {
     "name": "stdout",
     "output_type": "stream",
     "text": [
      "<class 'pandas.core.frame.DataFrame'>\n",
      "RangeIndex: 573332 entries, 0 to 573331\n",
      "Data columns (total 15 columns):\n",
      " #   Column               Non-Null Count   Dtype  \n",
      "---  ------               --------------   -----  \n",
      " 0   daysOut              573332 non-null  object \n",
      " 1   eventDate            573332 non-null  object \n",
      " 2   tenure               573332 non-null  int64  \n",
      " 3   dimCustomerMasterId  573332 non-null  int64  \n",
      " 4   events_purchased     573332 non-null  int64  \n",
      " 5   frequency_opponent   129392 non-null  float64\n",
      " 6   frequency_eventDay   85552 non-null   float64\n",
      " 7   frequency_eventTime  291792 non-null  float64\n",
      " 8   inMarket             554600 non-null  object \n",
      " 9   distanceToVenue      490400 non-null  float64\n",
      " 10  recent_openRate      0 non-null       float64\n",
      " 11  recent_clickRate     0 non-null       float64\n",
      " 12  Label                573332 non-null  int64  \n",
      " 13  Score_0              573332 non-null  float64\n",
      " 14  Score_1              573332 non-null  float64\n",
      "dtypes: float64(8), int64(4), object(3)\n",
      "memory usage: 65.6+ MB\n"
     ]
    }
   ],
   "source": [
    "df_inference = predict_model(saved_model, data=df_prev_scores, raw_score=True)\n",
    "df_inference.head()"
   ]
  },
  {
   "cell_type": "markdown",
   "id": "745907c8-8fb5-499e-990e-cd4293531cb7",
   "metadata": {},
   "source": [
    "### Included are some metrics on did and did_not purchase:"
   ]
  },
  {
   "cell_type": "code",
   "execution_count": 16,
   "id": "d16eaf01-23fb-48d0-a562-a3d6b1e3497c",
   "metadata": {},
   "outputs": [
    {
     "name": "stdout",
     "output_type": "stream",
     "text": [
      "Would purchase: 193672\n",
      "Would not purchase: 379660\n",
      "Purchase percentage: 34.0\n"
     ]
    }
   ],
   "source": [
    "did_purchase = df_inference[\"Label\"].value_counts()[1]\n",
    "did_not_purchase = df_inference[\"Label\"].value_counts()[0]\n",
    "total_rows = df_inference[\"Label\"].count()\n",
    "purchase_percentage = round((did_purchase / total_rows), 2) * 100\n",
    "\n",
    "print(\"Would purchase:\", did_purchase)\n",
    "print(\"Would not purchase:\", did_not_purchase)\n",
    "print(\"Purchase percentage:\", purchase_percentage)"
   ]
  },
  {
   "cell_type": "markdown",
   "id": "e9868868-4347-486b-89e5-fc7a882e637e",
   "metadata": {},
   "source": [
    "### Let's sort the scores to find the top prospects for each fan:"
   ]
  },
  {
   "cell_type": "code",
   "execution_count": 18,
   "id": "0e271531-c5c0-444c-8b68-d7201f92d5b8",
   "metadata": {},
   "outputs": [],
   "source": [
    "scoring_dict = df_inference.to_dict('records')"
   ]
  },
  {
   "cell_type": "code",
   "execution_count": 19,
   "id": "be131f91-2a30-4370-b3c0-1323f3fe2955",
   "metadata": {},
   "outputs": [],
   "source": [
    "max_dict = {}\n",
    "for record in scoring_dict:\n",
    "    if record['dimCustomerMasterId'] not in max_dict:\n",
    "        max_dict[record['dimCustomerMasterId']] = 0\n",
    "    \n",
    "    if record['Score_1'] > max_dict[record['dimCustomerMasterId']]:\n",
    "        max_dict[record['dimCustomerMasterId']] = record['Score_1']\n",
    "        \n",
    "max_scores = [{'id': k, 'score': v} for k, v in max_dict.items()]\n",
    "max_scores.sort(key = lambda v: -v[\"score\"])"
   ]
  },
  {
   "cell_type": "markdown",
   "id": "3f4969aa-c2c7-4cd8-bf0d-24f6443844ab",
   "metadata": {},
   "source": [
    "### Exporting to CSV for further analysis against past purchase percentages:"
   ]
  },
  {
   "cell_type": "code",
   "execution_count": 20,
   "id": "cc6d86fd-0322-42cd-b264-c8876a41c969",
   "metadata": {},
   "outputs": [],
   "source": [
    "df_max_scores = pd.DataFrame(max_scores)\n",
    "df_max_scores.head()\n",
    "\n",
    "df_max_scores.to_csv('./data/game2022-04-070000_part_00_results.csv')"
   ]
  },
  {
   "cell_type": "markdown",
   "id": "d2de91b5-a1e8-42a5-a087-8c31ff2e1db3",
   "metadata": {},
   "source": [
    "## Observations\n",
    "Here you can talk about next steps, did the experiment work? If yes, what to do next? If no, why?"
   ]
  }
 ],
 "metadata": {
  "kernelspec": {
   "display_name": "Python 3 (ipykernel)",
   "language": "python",
   "name": "python3"
  },
  "language_info": {
   "codemirror_mode": {
    "name": "ipython",
    "version": 3
   },
   "file_extension": ".py",
   "mimetype": "text/x-python",
   "name": "python",
   "nbconvert_exporter": "python",
   "pygments_lexer": "ipython3",
   "version": "3.7.10"
  }
 },
 "nbformat": 4,
 "nbformat_minor": 5
}
