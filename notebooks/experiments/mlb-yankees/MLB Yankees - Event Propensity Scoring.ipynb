{
 "cells": [
  {
   "cell_type": "markdown",
   "id": "6ee08766-25fd-4da1-91b8-b0c3e74db588",
   "metadata": {},
   "source": [
    "# Yankees - Event Propensity - Next Event Buyer Scoring\n",
    "* Ryan Kazmerik, Nakisa Rad, Joey Lai, Shawn Sutherland, Matt Bahler, Pat Faith\n",
    "* Feb 22, 2022"
   ]
  },
  {
   "cell_type": "code",
   "execution_count": 18,
   "id": "4c533efd-600e-4bce-8203-faffbddfa700",
   "metadata": {},
   "outputs": [],
   "source": [
    "import boto3\n",
    "import json\n",
    "import pandas as pd\n",
    "import os\n",
    "\n",
    "from pycaret.classification import *\n",
    "\n",
    "boto3.setup_default_session(profile_name='Legacy-DataScienceAdmin')"
   ]
  },
  {
   "cell_type": "code",
   "execution_count": 19,
   "id": "bb0e2ef9-30d5-4b0c-8ccd-6fdee1b59ba9",
   "metadata": {},
   "outputs": [],
   "source": [
    "def get_file_list(bucket):\n",
    "    \n",
    "    file_list = []\n",
    "    for object_summary in my_bucket.objects.filter(Prefix=\"hold/ml_data/game2022\"):\n",
    "        file_list.append(object_summary.key)\n",
    "\n",
    "    return file_list"
   ]
  },
  {
   "cell_type": "code",
   "execution_count": 20,
   "id": "bc2be4df-bbad-4539-b246-bf9c2822bad7",
   "metadata": {},
   "outputs": [],
   "source": [
    "def generate_dataframe(date, num):\n",
    "    \n",
    "    s3 = boto3.client('s3')\n",
    "    bucket = \"stellar-redshift-etl\"\n",
    "    key = f\"hold/ml_data/game{date}000{num}_part_00\"\n",
    "    \n",
    "    obj = s3.get_object(Bucket=bucket, Key=key)\n",
    "    df_prev_game = pd.read_csv(obj['Body'])\n",
    "    \n",
    "    df_prev_game[\"game date\"] = date\n",
    "    \n",
    "    return df_prev_game"
   ]
  },
  {
   "cell_type": "code",
   "execution_count": 21,
   "id": "0df33bab-91d8-435b-b10b-8d59088e5657",
   "metadata": {},
   "outputs": [],
   "source": [
    "def get_scores(df_prev_game):\n",
    "    \n",
    "    for col in df_prev_game.columns:\n",
    "        if col != 'distanceToVenue':\n",
    "            df_prev_game[col].fillna(0, inplace=True)\n",
    "\n",
    "    saved_model= load_model('./models/MLB Yankees - Event Propensity (22Feb2022)')\n",
    "    \n",
    "    df_inference = predict_model(saved_model, data=df_prev_game, raw_score=True)\n",
    "\n",
    "    return df_inference"
   ]
  },
  {
   "cell_type": "code",
   "execution_count": 22,
   "id": "b2f27cc3-853b-41b8-b211-c4102fbb8455",
   "metadata": {},
   "outputs": [],
   "source": [
    "def get_top_scores(df_inference):\n",
    "    \n",
    "    scoring_dict = df_inference.to_dict('records')\n",
    "    \n",
    "    max_dict = {}\n",
    "    for record in scoring_dict:\n",
    "        if record['dimCustomerMasterId'] not in max_dict:\n",
    "            max_dict[record['dimCustomerMasterId']] = 0\n",
    "    \n",
    "        if record['Score_1'] > max_dict[record['dimCustomerMasterId']]:\n",
    "            max_dict[record['dimCustomerMasterId']] = record['Score_1']\n",
    "        \n",
    "    top_scores = [{'id': k, 'score': v} for k, v in max_dict.items()]\n",
    "    top_scores.sort(key = lambda v: -v[\"score\"])\n",
    "\n",
    "    return top_scores"
   ]
  },
  {
   "cell_type": "code",
   "execution_count": 23,
   "id": "be131f91-2a30-4370-b3c0-1323f3fe2955",
   "metadata": {},
   "outputs": [],
   "source": [
    "def export_scores(top_scores, date, num):\n",
    "    \n",
    "    df_max_scores = pd.DataFrame(top_scores)\n",
    "    \n",
    "    parent_dir = \"./results\"\n",
    "    directory = date\n",
    "    path = os.path.join(parent_dir, directory)\n",
    "    \n",
    "    if not os.path.exists(path):\n",
    "        os.makedirs(path)\n",
    "        \n",
    "    df_max_scores.to_csv(f\"{path}/{date}000{num}_part_00-results.csv\")"
   ]
  },
  {
   "cell_type": "markdown",
   "id": "596b9a3e-a740-41f5-a4af-af825a210e45",
   "metadata": {},
   "source": [
    "### Main Function"
   ]
  },
  {
   "cell_type": "code",
   "execution_count": 24,
   "id": "f2316beb-cb9f-4ff1-a641-21b69aee2f03",
   "metadata": {},
   "outputs": [],
   "source": [
    "s3 = boto3.resource('s3')\n",
    "my_bucket = s3.Bucket('stellar-redshift-etl')\n",
    "\n",
    "file_list = get_file_list(my_bucket)\n",
    "\n",
    "for filename in file_list[211:328]:\n",
    "    \n",
    "    date = filename[17:27]\n",
    "    num = filename[30:31]\n",
    "    \n",
    "    df_prev_game = generate_dataframe(date, num)\n",
    "    df_inference = get_scores(df_prev_game)\n",
    "    top_scores = get_top_scores(df_inference)\n",
    "\n",
    "    export_scores(top_scores, date, num)\n",
    "    print(f\"Scores generated successfully: results/{date}/{date}000{num}_part_00\", end=\"\\n\\n\")    "
   ]
  }
 ],
 "metadata": {
  "kernelspec": {
   "display_name": "Python 3 (ipykernel)",
   "language": "python",
   "name": "python3"
  },
  "language_info": {
   "codemirror_mode": {
    "name": "ipython",
    "version": 3
   },
   "file_extension": ".py",
   "mimetype": "text/x-python",
   "name": "python",
   "nbconvert_exporter": "python",
   "pygments_lexer": "ipython3",
   "version": "3.7.10"
  }
 },
 "nbformat": 4,
 "nbformat_minor": 5
}
