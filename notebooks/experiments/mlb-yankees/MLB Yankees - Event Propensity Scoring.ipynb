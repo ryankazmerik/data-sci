{
 "cells": [
  {
   "cell_type": "markdown",
   "id": "5bab5d4a",
   "metadata": {},
   "source": [
    "# Yankees - Event Propensity - Next Event Buyer Scoring\n",
    "* Ryan Kazmerik, Nakisa Rad, Joey Lai, Shawn Sutherland, Matt Bahler, Pat Faith\n",
    "* Feb 22, 2022"
   ]
  },
  {
   "cell_type": "code",
   "execution_count": null,
   "id": "542ca5be",
   "metadata": {},
   "outputs": [],
   "source": [
    "import boto3\n",
    "import json\n",
    "import pandas as pd\n",
    "import os\n",
    "\n",
    "from pycaret.classification import *\n",
    "\n",
    "boto3.setup_default_session(profile_name='Stellaralgo-DataScienceAdmin')"
   ]
  },
  {
   "cell_type": "code",
   "execution_count": null,
   "id": "ad3341f5",
   "metadata": {},
   "outputs": [],
   "source": [
    "def get_file_list(bucket):\n",
    "    \n",
    "    file_list = []\n",
    "    for object_summary in my_bucket.objects.filter(Prefix=\"hold/ml_data/game2022\"):\n",
    "        file_list.append(object_summary.key)\n",
    "\n",
    "    return file_list"
   ]
  },
  {
   "cell_type": "code",
   "execution_count": null,
   "id": "d015fad0",
   "metadata": {},
   "outputs": [],
   "source": [
    "def generate_dataframe(date, num):\n",
    "    \n",
    "    s3 = boto3.client('s3')\n",
    "    bucket = \"stellar-redshift-etl\"\n",
    "    key = f\"hold/ml_data/game{date}000{num}_part_00\"\n",
    "    \n",
    "    obj = s3.get_object(Bucket=bucket, Key=key)\n",
    "    df_prev_game = pd.read_csv(obj['Body'])\n",
    "    \n",
    "    df_prev_game[\"game date\"] = date\n",
    "    \n",
    "    return df_prev_game"
   ]
  },
  {
   "cell_type": "code",
   "execution_count": null,
   "id": "314b1308",
   "metadata": {},
   "outputs": [],
   "source": [
    "def get_scores(df_prev_game):\n",
    "    \n",
    "    for col in df_prev_game.columns:\n",
    "        if col != 'distanceToVenue':\n",
    "            df_prev_game[col].fillna(0, inplace=True)\n",
    "\n",
    "    saved_model= load_model('./models/MLB Yankees - Event Propensity (22Feb2022)')\n",
    "    \n",
    "    df_inference = predict_model(saved_model, data=df_prev_game, raw_score=True)\n",
    "\n",
    "    return df_inference"
   ]
  },
  {
   "cell_type": "code",
   "execution_count": null,
   "id": "1ca3e1a6",
   "metadata": {},
   "outputs": [],
   "source": [
    "def get_top_scores(df_inference):\n",
    "    \n",
    "    scoring_dict = df_inference.to_dict('records')\n",
    "    \n",
    "    max_dict = {}\n",
    "    for record in scoring_dict:\n",
    "        if record['dimCustomerMasterId'] not in max_dict:\n",
    "            max_dict[record['dimCustomerMasterId']] = 0\n",
    "    \n",
    "        if record['Score_1'] > max_dict[record['dimCustomerMasterId']]:\n",
    "            max_dict[record['dimCustomerMasterId']] = record['Score_1']\n",
    "        \n",
    "    top_scores = [{'id': k, 'score': v} for k, v in max_dict.items()]\n",
    "    top_scores.sort(key = lambda v: -v[\"score\"])\n",
    "\n",
    "    return top_scores"
   ]
  },
  {
   "cell_type": "code",
   "execution_count": null,
   "id": "1dd22198",
   "metadata": {},
   "outputs": [],
   "source": [
    "def export_scores(top_scores, date, num):\n",
    "    \n",
    "    df_max_scores = pd.DataFrame(top_scores)\n",
    "    \n",
    "    parent_dir = \"./results\"\n",
    "    directory = date\n",
    "    path = os.path.join(parent_dir, directory)\n",
    "    \n",
    "    if not os.path.exists(path):\n",
    "        os.makedirs(path)\n",
    "        \n",
    "    df_max_scores.to_csv(f\"{path}/{date}000{num}_part_00-results.csv\")"
   ]
  },
  {
   "cell_type": "markdown",
   "id": "da15a9b7",
   "metadata": {},
   "source": [
    "### Main Function"
   ]
  },
  {
   "cell_type": "code",
   "execution_count": null,
   "id": "7e1fa79f",
   "metadata": {},
   "outputs": [
    {
     "name": "stdout",
     "output_type": "stream",
     "text": [
      "Transformation Pipeline and Model Successfully Loaded\n",
      "Scores generated successfully: results/2022-04-07/2022-04-070000_part_00\n",
      "\n",
      "Transformation Pipeline and Model Successfully Loaded\n",
      "Scores generated successfully: results/2022-04-07/2022-04-070001_part_00\n",
      "\n",
      "Transformation Pipeline and Model Successfully Loaded\n",
      "Scores generated successfully: results/2022-04-07/2022-04-070002_part_00\n",
      "\n",
      "Transformation Pipeline and Model Successfully Loaded\n",
      "Scores generated successfully: results/2022-04-07/2022-04-070003_part_00\n",
      "\n",
      "Transformation Pipeline and Model Successfully Loaded\n",
      "Scores generated successfully: results/2022-04-09/2022-04-090000_part_00\n",
      "\n",
      "Transformation Pipeline and Model Successfully Loaded\n",
      "Scores generated successfully: results/2022-04-09/2022-04-090001_part_00\n",
      "\n",
      "Transformation Pipeline and Model Successfully Loaded\n",
      "Scores generated successfully: results/2022-04-09/2022-04-090002_part_00\n",
      "\n",
      "Transformation Pipeline and Model Successfully Loaded\n",
      "Scores generated successfully: results/2022-04-09/2022-04-090003_part_00\n",
      "\n",
      "Transformation Pipeline and Model Successfully Loaded\n",
      "Scores generated successfully: results/2022-04-10/2022-04-100000_part_00\n",
      "\n",
      "Transformation Pipeline and Model Successfully Loaded\n",
      "Scores generated successfully: results/2022-04-10/2022-04-100001_part_00\n",
      "\n",
      "Transformation Pipeline and Model Successfully Loaded\n",
      "Scores generated successfully: results/2022-04-10/2022-04-100002_part_00\n",
      "\n",
      "Transformation Pipeline and Model Successfully Loaded\n",
      "Scores generated successfully: results/2022-04-10/2022-04-100003_part_00\n",
      "\n",
      "Transformation Pipeline and Model Successfully Loaded\n",
      "Scores generated successfully: results/2022-04-11/2022-04-110000_part_00\n",
      "\n",
      "Transformation Pipeline and Model Successfully Loaded\n",
      "Scores generated successfully: results/2022-04-11/2022-04-110001_part_00\n",
      "\n",
      "Transformation Pipeline and Model Successfully Loaded\n",
      "Scores generated successfully: results/2022-04-11/2022-04-110002_part_00\n",
      "\n",
      "Transformation Pipeline and Model Successfully Loaded\n",
      "Scores generated successfully: results/2022-04-11/2022-04-110003_part_00\n",
      "\n",
      "Transformation Pipeline and Model Successfully Loaded\n"
     ]
    },
    {
     "ename": "KeyboardInterrupt",
     "evalue": "",
     "output_type": "error",
     "traceback": [
      "\u001b[0;31m---------------------------------------------------------------------------\u001b[0m",
      "\u001b[0;31mKeyboardInterrupt\u001b[0m                         Traceback (most recent call last)",
      "\u001b[0;32m<ipython-input-17-cb21154f4275>\u001b[0m in \u001b[0;36m<module>\u001b[0;34m\u001b[0m\n\u001b[1;32m     10\u001b[0m \u001b[0;34m\u001b[0m\u001b[0m\n\u001b[1;32m     11\u001b[0m     \u001b[0mdf_prev_game\u001b[0m \u001b[0;34m=\u001b[0m \u001b[0mgenerate_dataframe\u001b[0m\u001b[0;34m(\u001b[0m\u001b[0mdate\u001b[0m\u001b[0;34m,\u001b[0m \u001b[0mnum\u001b[0m\u001b[0;34m)\u001b[0m\u001b[0;34m\u001b[0m\u001b[0;34m\u001b[0m\u001b[0m\n\u001b[0;32m---> 12\u001b[0;31m     \u001b[0mdf_inference\u001b[0m \u001b[0;34m=\u001b[0m \u001b[0mget_scores\u001b[0m\u001b[0;34m(\u001b[0m\u001b[0mdf_prev_game\u001b[0m\u001b[0;34m)\u001b[0m\u001b[0;34m\u001b[0m\u001b[0;34m\u001b[0m\u001b[0m\n\u001b[0m\u001b[1;32m     13\u001b[0m     \u001b[0mtop_scores\u001b[0m \u001b[0;34m=\u001b[0m \u001b[0mget_top_scores\u001b[0m\u001b[0;34m(\u001b[0m\u001b[0mdf_inference\u001b[0m\u001b[0;34m)\u001b[0m\u001b[0;34m\u001b[0m\u001b[0;34m\u001b[0m\u001b[0m\n\u001b[1;32m     14\u001b[0m \u001b[0;34m\u001b[0m\u001b[0m\n",
      "\u001b[0;32m<ipython-input-14-6f9185c6ed1f>\u001b[0m in \u001b[0;36mget_scores\u001b[0;34m(df_prev_game)\u001b[0m\n\u001b[1;32m      7\u001b[0m     \u001b[0msaved_model\u001b[0m\u001b[0;34m=\u001b[0m \u001b[0mload_model\u001b[0m\u001b[0;34m(\u001b[0m\u001b[0;34m'./models/MLB Yankees - Event Propensity (22Feb2022)'\u001b[0m\u001b[0;34m)\u001b[0m\u001b[0;34m\u001b[0m\u001b[0;34m\u001b[0m\u001b[0m\n\u001b[1;32m      8\u001b[0m \u001b[0;34m\u001b[0m\u001b[0m\n\u001b[0;32m----> 9\u001b[0;31m     \u001b[0mdf_inference\u001b[0m \u001b[0;34m=\u001b[0m \u001b[0mpredict_model\u001b[0m\u001b[0;34m(\u001b[0m\u001b[0msaved_model\u001b[0m\u001b[0;34m,\u001b[0m \u001b[0mdata\u001b[0m\u001b[0;34m=\u001b[0m\u001b[0mdf_prev_game\u001b[0m\u001b[0;34m,\u001b[0m \u001b[0mraw_score\u001b[0m\u001b[0;34m=\u001b[0m\u001b[0;32mTrue\u001b[0m\u001b[0;34m)\u001b[0m\u001b[0;34m\u001b[0m\u001b[0;34m\u001b[0m\u001b[0m\n\u001b[0m\u001b[1;32m     10\u001b[0m \u001b[0;34m\u001b[0m\u001b[0m\n\u001b[1;32m     11\u001b[0m     \u001b[0;32mreturn\u001b[0m \u001b[0mdf_inference\u001b[0m\u001b[0;34m\u001b[0m\u001b[0;34m\u001b[0m\u001b[0m\n",
      "\u001b[0;32m~/anaconda3/envs/python3/lib/python3.6/site-packages/pycaret/classification.py\u001b[0m in \u001b[0;36mpredict_model\u001b[0;34m(estimator, data, probability_threshold, encoded_labels, raw_score, round, verbose)\u001b[0m\n\u001b[1;32m   1952\u001b[0m         \u001b[0mround\u001b[0m\u001b[0;34m=\u001b[0m\u001b[0mround\u001b[0m\u001b[0;34m,\u001b[0m\u001b[0;34m\u001b[0m\u001b[0;34m\u001b[0m\u001b[0m\n\u001b[1;32m   1953\u001b[0m         \u001b[0mverbose\u001b[0m\u001b[0;34m=\u001b[0m\u001b[0mverbose\u001b[0m\u001b[0;34m,\u001b[0m\u001b[0;34m\u001b[0m\u001b[0;34m\u001b[0m\u001b[0m\n\u001b[0;32m-> 1954\u001b[0;31m         \u001b[0mml_usecase\u001b[0m\u001b[0;34m=\u001b[0m\u001b[0mMLUsecase\u001b[0m\u001b[0;34m.\u001b[0m\u001b[0mCLASSIFICATION\u001b[0m\u001b[0;34m,\u001b[0m\u001b[0;34m\u001b[0m\u001b[0;34m\u001b[0m\u001b[0m\n\u001b[0m\u001b[1;32m   1955\u001b[0m     )\n\u001b[1;32m   1956\u001b[0m \u001b[0;34m\u001b[0m\u001b[0m\n",
      "\u001b[0;32m~/anaconda3/envs/python3/lib/python3.6/site-packages/pycaret/internal/tabular.py\u001b[0m in \u001b[0;36mpredict_model\u001b[0;34m(estimator, data, probability_threshold, encoded_labels, raw_score, round, verbose, ml_usecase, display)\u001b[0m\n\u001b[1;32m   8571\u001b[0m     \u001b[0;31m# prediction starts here\u001b[0m\u001b[0;34m\u001b[0m\u001b[0;34m\u001b[0m\u001b[0;34m\u001b[0m\u001b[0m\n\u001b[1;32m   8572\u001b[0m \u001b[0;34m\u001b[0m\u001b[0m\n\u001b[0;32m-> 8573\u001b[0;31m     \u001b[0mpred\u001b[0m \u001b[0;34m=\u001b[0m \u001b[0mnp\u001b[0m\u001b[0;34m.\u001b[0m\u001b[0mnan_to_num\u001b[0m\u001b[0;34m(\u001b[0m\u001b[0mestimator\u001b[0m\u001b[0;34m.\u001b[0m\u001b[0mpredict\u001b[0m\u001b[0;34m(\u001b[0m\u001b[0mX_test_\u001b[0m\u001b[0;34m)\u001b[0m\u001b[0;34m)\u001b[0m\u001b[0;34m\u001b[0m\u001b[0;34m\u001b[0m\u001b[0m\n\u001b[0m\u001b[1;32m   8574\u001b[0m \u001b[0;34m\u001b[0m\u001b[0m\n\u001b[1;32m   8575\u001b[0m     \u001b[0;32mtry\u001b[0m\u001b[0;34m:\u001b[0m\u001b[0;34m\u001b[0m\u001b[0;34m\u001b[0m\u001b[0m\n",
      "\u001b[0;32m~/anaconda3/envs/python3/lib/python3.6/site-packages/sklearn/utils/metaestimators.py\u001b[0m in \u001b[0;36m<lambda>\u001b[0;34m(*args, **kwargs)\u001b[0m\n\u001b[1;32m    117\u001b[0m \u001b[0;34m\u001b[0m\u001b[0m\n\u001b[1;32m    118\u001b[0m         \u001b[0;31m# lambda, but not partial, allows help() to work with update_wrapper\u001b[0m\u001b[0;34m\u001b[0m\u001b[0;34m\u001b[0m\u001b[0;34m\u001b[0m\u001b[0m\n\u001b[0;32m--> 119\u001b[0;31m         \u001b[0mout\u001b[0m \u001b[0;34m=\u001b[0m \u001b[0;32mlambda\u001b[0m \u001b[0;34m*\u001b[0m\u001b[0margs\u001b[0m\u001b[0;34m,\u001b[0m \u001b[0;34m**\u001b[0m\u001b[0mkwargs\u001b[0m\u001b[0;34m:\u001b[0m \u001b[0mself\u001b[0m\u001b[0;34m.\u001b[0m\u001b[0mfn\u001b[0m\u001b[0;34m(\u001b[0m\u001b[0mobj\u001b[0m\u001b[0;34m,\u001b[0m \u001b[0;34m*\u001b[0m\u001b[0margs\u001b[0m\u001b[0;34m,\u001b[0m \u001b[0;34m**\u001b[0m\u001b[0mkwargs\u001b[0m\u001b[0;34m)\u001b[0m\u001b[0;34m\u001b[0m\u001b[0;34m\u001b[0m\u001b[0m\n\u001b[0m\u001b[1;32m    120\u001b[0m         \u001b[0;31m# update the docstring of the returned function\u001b[0m\u001b[0;34m\u001b[0m\u001b[0;34m\u001b[0m\u001b[0;34m\u001b[0m\u001b[0m\n\u001b[1;32m    121\u001b[0m         \u001b[0mupdate_wrapper\u001b[0m\u001b[0;34m(\u001b[0m\u001b[0mout\u001b[0m\u001b[0;34m,\u001b[0m \u001b[0mself\u001b[0m\u001b[0;34m.\u001b[0m\u001b[0mfn\u001b[0m\u001b[0;34m)\u001b[0m\u001b[0;34m\u001b[0m\u001b[0;34m\u001b[0m\u001b[0m\n",
      "\u001b[0;32m~/anaconda3/envs/python3/lib/python3.6/site-packages/sklearn/pipeline.py\u001b[0m in \u001b[0;36mpredict\u001b[0;34m(self, X, **predict_params)\u001b[0m\n\u001b[1;32m    405\u001b[0m         \u001b[0mXt\u001b[0m \u001b[0;34m=\u001b[0m \u001b[0mX\u001b[0m\u001b[0;34m\u001b[0m\u001b[0;34m\u001b[0m\u001b[0m\n\u001b[1;32m    406\u001b[0m         \u001b[0;32mfor\u001b[0m \u001b[0m_\u001b[0m\u001b[0;34m,\u001b[0m \u001b[0mname\u001b[0m\u001b[0;34m,\u001b[0m \u001b[0mtransform\u001b[0m \u001b[0;32min\u001b[0m \u001b[0mself\u001b[0m\u001b[0;34m.\u001b[0m\u001b[0m_iter\u001b[0m\u001b[0;34m(\u001b[0m\u001b[0mwith_final\u001b[0m\u001b[0;34m=\u001b[0m\u001b[0;32mFalse\u001b[0m\u001b[0;34m)\u001b[0m\u001b[0;34m:\u001b[0m\u001b[0;34m\u001b[0m\u001b[0;34m\u001b[0m\u001b[0m\n\u001b[0;32m--> 407\u001b[0;31m             \u001b[0mXt\u001b[0m \u001b[0;34m=\u001b[0m \u001b[0mtransform\u001b[0m\u001b[0;34m.\u001b[0m\u001b[0mtransform\u001b[0m\u001b[0;34m(\u001b[0m\u001b[0mXt\u001b[0m\u001b[0;34m)\u001b[0m\u001b[0;34m\u001b[0m\u001b[0;34m\u001b[0m\u001b[0m\n\u001b[0m\u001b[1;32m    408\u001b[0m         \u001b[0;32mreturn\u001b[0m \u001b[0mself\u001b[0m\u001b[0;34m.\u001b[0m\u001b[0msteps\u001b[0m\u001b[0;34m[\u001b[0m\u001b[0;34m-\u001b[0m\u001b[0;36m1\u001b[0m\u001b[0;34m]\u001b[0m\u001b[0;34m[\u001b[0m\u001b[0;34m-\u001b[0m\u001b[0;36m1\u001b[0m\u001b[0;34m]\u001b[0m\u001b[0;34m.\u001b[0m\u001b[0mpredict\u001b[0m\u001b[0;34m(\u001b[0m\u001b[0mXt\u001b[0m\u001b[0;34m,\u001b[0m \u001b[0;34m**\u001b[0m\u001b[0mpredict_params\u001b[0m\u001b[0;34m)\u001b[0m\u001b[0;34m\u001b[0m\u001b[0;34m\u001b[0m\u001b[0m\n\u001b[1;32m    409\u001b[0m \u001b[0;34m\u001b[0m\u001b[0m\n",
      "\u001b[0;32m~/anaconda3/envs/python3/lib/python3.6/site-packages/pycaret/internal/preprocess.py\u001b[0m in \u001b[0;36mtransform\u001b[0;34m(self, data, y)\u001b[0m\n\u001b[1;32m   1127\u001b[0m         \u001b[0;32mfor\u001b[0m \u001b[0mi\u001b[0m \u001b[0;32min\u001b[0m \u001b[0mself\u001b[0m\u001b[0;34m.\u001b[0m\u001b[0mph_test_level\u001b[0m\u001b[0;34m.\u001b[0m\u001b[0mcolumns\u001b[0m\u001b[0;34m:\u001b[0m\u001b[0;34m\u001b[0m\u001b[0;34m\u001b[0m\u001b[0m\n\u001b[1;32m   1128\u001b[0m             self.ph_test_level.loc[0, i] = list(\n\u001b[0;32m-> 1129\u001b[0;31m                 \u001b[0mdata\u001b[0m\u001b[0;34m[\u001b[0m\u001b[0mi\u001b[0m\u001b[0;34m]\u001b[0m\u001b[0;34m.\u001b[0m\u001b[0mvalue_counts\u001b[0m\u001b[0;34m(\u001b[0m\u001b[0;34m)\u001b[0m\u001b[0;34m.\u001b[0m\u001b[0msort_values\u001b[0m\u001b[0;34m(\u001b[0m\u001b[0;34m)\u001b[0m\u001b[0;34m.\u001b[0m\u001b[0mindex\u001b[0m\u001b[0;34m\u001b[0m\u001b[0;34m\u001b[0m\u001b[0m\n\u001b[0m\u001b[1;32m   1130\u001b[0m             )\n\u001b[1;32m   1131\u001b[0m \u001b[0;34m\u001b[0m\u001b[0m\n",
      "\u001b[0;32m~/anaconda3/envs/python3/lib/python3.6/site-packages/pandas/core/base.py\u001b[0m in \u001b[0;36mvalue_counts\u001b[0;34m(self, normalize, sort, ascending, bins, dropna)\u001b[0m\n\u001b[1;32m   1249\u001b[0m             \u001b[0mnormalize\u001b[0m\u001b[0;34m=\u001b[0m\u001b[0mnormalize\u001b[0m\u001b[0;34m,\u001b[0m\u001b[0;34m\u001b[0m\u001b[0;34m\u001b[0m\u001b[0m\n\u001b[1;32m   1250\u001b[0m             \u001b[0mbins\u001b[0m\u001b[0;34m=\u001b[0m\u001b[0mbins\u001b[0m\u001b[0;34m,\u001b[0m\u001b[0;34m\u001b[0m\u001b[0;34m\u001b[0m\u001b[0m\n\u001b[0;32m-> 1251\u001b[0;31m             \u001b[0mdropna\u001b[0m\u001b[0;34m=\u001b[0m\u001b[0mdropna\u001b[0m\u001b[0;34m,\u001b[0m\u001b[0;34m\u001b[0m\u001b[0;34m\u001b[0m\u001b[0m\n\u001b[0m\u001b[1;32m   1252\u001b[0m         )\n\u001b[1;32m   1253\u001b[0m         \u001b[0;32mreturn\u001b[0m \u001b[0mresult\u001b[0m\u001b[0;34m\u001b[0m\u001b[0;34m\u001b[0m\u001b[0m\n",
      "\u001b[0;32m~/anaconda3/envs/python3/lib/python3.6/site-packages/pandas/core/algorithms.py\u001b[0m in \u001b[0;36mvalue_counts\u001b[0;34m(values, sort, ascending, normalize, bins, dropna)\u001b[0m\n\u001b[1;32m    795\u001b[0m \u001b[0;34m\u001b[0m\u001b[0m\n\u001b[1;32m    796\u001b[0m         \u001b[0;32melse\u001b[0m\u001b[0;34m:\u001b[0m\u001b[0;34m\u001b[0m\u001b[0;34m\u001b[0m\u001b[0m\n\u001b[0;32m--> 797\u001b[0;31m             \u001b[0mkeys\u001b[0m\u001b[0;34m,\u001b[0m \u001b[0mcounts\u001b[0m \u001b[0;34m=\u001b[0m \u001b[0m_value_counts_arraylike\u001b[0m\u001b[0;34m(\u001b[0m\u001b[0mvalues\u001b[0m\u001b[0;34m,\u001b[0m \u001b[0mdropna\u001b[0m\u001b[0;34m)\u001b[0m\u001b[0;34m\u001b[0m\u001b[0;34m\u001b[0m\u001b[0m\n\u001b[0m\u001b[1;32m    798\u001b[0m \u001b[0;34m\u001b[0m\u001b[0m\n\u001b[1;32m    799\u001b[0m             \u001b[0mresult\u001b[0m \u001b[0;34m=\u001b[0m \u001b[0mSeries\u001b[0m\u001b[0;34m(\u001b[0m\u001b[0mcounts\u001b[0m\u001b[0;34m,\u001b[0m \u001b[0mindex\u001b[0m\u001b[0;34m=\u001b[0m\u001b[0mkeys\u001b[0m\u001b[0;34m,\u001b[0m \u001b[0mname\u001b[0m\u001b[0;34m=\u001b[0m\u001b[0mname\u001b[0m\u001b[0;34m)\u001b[0m\u001b[0;34m\u001b[0m\u001b[0;34m\u001b[0m\u001b[0m\n",
      "\u001b[0;32m~/anaconda3/envs/python3/lib/python3.6/site-packages/pandas/core/algorithms.py\u001b[0m in \u001b[0;36m_value_counts_arraylike\u001b[0;34m(values, dropna)\u001b[0m\n\u001b[1;32m    840\u001b[0m         \u001b[0;31m# TODO: handle uint8\u001b[0m\u001b[0;34m\u001b[0m\u001b[0;34m\u001b[0m\u001b[0;34m\u001b[0m\u001b[0m\n\u001b[1;32m    841\u001b[0m         \u001b[0mf\u001b[0m \u001b[0;34m=\u001b[0m \u001b[0mgetattr\u001b[0m\u001b[0;34m(\u001b[0m\u001b[0mhtable\u001b[0m\u001b[0;34m,\u001b[0m \u001b[0;34mf\"value_count_{ndtype}\"\u001b[0m\u001b[0;34m)\u001b[0m\u001b[0;34m\u001b[0m\u001b[0;34m\u001b[0m\u001b[0m\n\u001b[0;32m--> 842\u001b[0;31m         \u001b[0mkeys\u001b[0m\u001b[0;34m,\u001b[0m \u001b[0mcounts\u001b[0m \u001b[0;34m=\u001b[0m \u001b[0mf\u001b[0m\u001b[0;34m(\u001b[0m\u001b[0mvalues\u001b[0m\u001b[0;34m,\u001b[0m \u001b[0mdropna\u001b[0m\u001b[0;34m)\u001b[0m\u001b[0;34m\u001b[0m\u001b[0;34m\u001b[0m\u001b[0m\n\u001b[0m\u001b[1;32m    843\u001b[0m \u001b[0;34m\u001b[0m\u001b[0m\n\u001b[1;32m    844\u001b[0m         \u001b[0mmask\u001b[0m \u001b[0;34m=\u001b[0m \u001b[0misna\u001b[0m\u001b[0;34m(\u001b[0m\u001b[0mvalues\u001b[0m\u001b[0;34m)\u001b[0m\u001b[0;34m\u001b[0m\u001b[0;34m\u001b[0m\u001b[0m\n",
      "\u001b[0;31mKeyboardInterrupt\u001b[0m: "
     ]
    }
   ],
   "source": [
    "s3 = boto3.resource('s3')\n",
    "my_bucket = s3.Bucket('stellar-redshift-etl')\n",
    "\n",
    "file_list = get_file_list(my_bucket)\n",
    "\n",
    "for filename in file_list:\n",
    "    \n",
    "    date = filename[17:27]\n",
    "    num = filename[30:31]\n",
    "    \n",
    "    df_prev_game = generate_dataframe(date, num)\n",
    "    df_inference = get_scores(df_prev_game)\n",
    "    top_scores = get_top_scores(df_inference)\n",
    "\n",
    "    export_scores(top_scores, date, num)\n",
    "    print(f\"Scores generated successfully: results/{date}/{date}000{num}_part_00\", end=\"\\n\\n\")    "
   ]
  },
  {
   "cell_type": "code",
   "execution_count": null,
   "id": "8f3a16de",
   "metadata": {},
   "outputs": [],
   "source": []
  }
 ],
 "metadata": {
  "kernelspec": {
   "display_name": "conda_python3",
   "language": "python",
   "name": "conda_python3"
  },
  "language_info": {
   "codemirror_mode": {
    "name": "ipython",
    "version": 3
   },
   "file_extension": ".py",
   "mimetype": "text/x-python",
   "name": "python",
   "nbconvert_exporter": "python",
   "pygments_lexer": "ipython3",
   "version": "3.6.13"
  }
 },
 "nbformat": 4,
 "nbformat_minor": 5
}
