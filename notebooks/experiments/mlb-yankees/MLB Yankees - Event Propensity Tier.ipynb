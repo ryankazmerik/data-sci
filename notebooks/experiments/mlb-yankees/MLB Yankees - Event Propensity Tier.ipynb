{
 "cells": [
  {
   "cell_type": "markdown",
   "id": "6ee08766-25fd-4da1-91b8-b0c3e74db588",
   "metadata": {},
   "source": [
    "# Yankees - Event Propensity - Next Tier Buyer\n",
    "* StelllarAlgo Data Science\n",
    "* Ryan Kazmerik & Nakisa Rad\n",
    "* Feb 03, 2022"
   ]
  },
  {
   "cell_type": "markdown",
   "id": "39108c8d-2e9f-4759-ade2-83071038dc56",
   "metadata": {},
   "source": [
    "## Hypothesis\n",
    "Each team has different tier (or quality) of games, based on day of the week, time of the season, opponent, etc. We think that by using previous buyer behaviour we can make a prediction on which tier the fan is likely to purchase for the next season."
   ]
  },
  {
   "cell_type": "markdown",
   "id": "28142011-1f32-4cc7-816b-a6dae6f70c8c",
   "metadata": {},
   "source": [
    "## Experiment\n",
    "This section details our experiment including querying data, data transformations, feature selection and modelling."
   ]
  },
  {
   "cell_type": "code",
   "execution_count": 1,
   "id": "4c533efd-600e-4bce-8203-faffbddfa700",
   "metadata": {},
   "outputs": [],
   "source": [
    "import getpass\n",
    "import matplotlib.pyplot as plt\n",
    "import pyodbc\n",
    "import pandas as pd\n",
    "import warnings\n",
    "\n",
    "from pandas_profiling import ProfileReport\n",
    "from pycaret.classification import *\n",
    "\n",
    "warnings.filterwarnings('ignore')"
   ]
  },
  {
   "cell_type": "markdown",
   "id": "b64ae7d5-84af-4915-bd13-1dd9d17098a3",
   "metadata": {},
   "source": [
    "### Let's connect to MSSQL and run a stored proc to get our dataset:"
   ]
  },
  {
   "cell_type": "code",
   "execution_count": 2,
   "id": "ae561eb4-f419-4d46-b5e0-12fac9b10db8",
   "metadata": {},
   "outputs": [
    {
     "name": "stdin",
     "output_type": "stream",
     "text": [
      "Enter your password ·····················\n"
     ]
    }
   ],
   "source": [
    "# connect to SQL Server.\n",
    "SERVER = '54.164.224.129'  \n",
    "DATABASE = 'stlrRays' \n",
    "USERNAME = 'nrad' \n",
    "PASSWORD = getpass.getpass(prompt='Enter your password')\n",
    "CNXN = pyodbc.connect('DRIVER={ODBC Driver 17 for SQL Server};SERVER='+SERVER+';DATABASE='+DATABASE+';UID='+USERNAME+';PWD='+ PASSWORD)"
   ]
  },
  {
   "cell_type": "code",
   "execution_count": null,
   "id": "af1afe7d-a35b-494b-88f3-980fb0e3da30",
   "metadata": {},
   "outputs": [],
   "source": [
    "lkupclientid = 53 # Yankees\n",
    "\n",
    "cursor = CNXN.cursor()\n",
    "\n",
    "storedProc = (f\"\"\"Exec [stlrYankees].[ds].[getPropensityEventScoring_new] {lkupclientid}\"\"\")\n",
    "\n",
    "df = pd.read_sql(storedProc, CNXN)\n",
    "\n",
    "# apply some data transformations\n",
    "df[\"year\"] = pd.to_numeric(df[\"year\"]) \n",
    "\n",
    "CNXN.commit()\n",
    "cursor.close()\n",
    "\n",
    "df.shape"
   ]
  },
  {
   "cell_type": "code",
   "execution_count": 167,
   "id": "85350ebe-b8f8-4fe5-ac99-7f87de7a9e0f",
   "metadata": {},
   "outputs": [
    {
     "data": {
      "text/plain": [
       "(522560, 33)"
      ]
     },
     "execution_count": 167,
     "metadata": {},
     "output_type": "execute_result"
    }
   ],
   "source": [
    "df = pd.read_csv('./yankees-data-export-tier.csv')\n",
    "df.shape"
   ]
  },
  {
   "cell_type": "code",
   "execution_count": 168,
   "id": "11e97dcc-c69e-46c1-8dad-33f6291cb0c6",
   "metadata": {},
   "outputs": [
    {
     "name": "stdout",
     "output_type": "stream",
     "text": [
      "<class 'pandas.core.frame.DataFrame'>\n",
      "RangeIndex: 522560 entries, 0 to 522559\n",
      "Data columns (total 33 columns):\n",
      " #   Column                      Non-Null Count   Dtype  \n",
      "---  ------                      --------------   -----  \n",
      " 0   Unnamed: 0                  522560 non-null  int64  \n",
      " 1   lkupClientId                522560 non-null  int64  \n",
      " 2   dimCustomerMasterId         522560 non-null  int64  \n",
      " 3   eventName                   522560 non-null  object \n",
      " 4   inMarket                    522560 non-null  int64  \n",
      " 5   year                        522560 non-null  int64  \n",
      " 6   productGrouping             522560 non-null  object \n",
      " 7   Tier                        522560 non-null  int64  \n",
      " 8   eventDay                    522560 non-null  int64  \n",
      " 9   totalSpent                  522560 non-null  float64\n",
      " 10  recentDate                  522560 non-null  object \n",
      " 11  attendancePercent           522560 non-null  float64\n",
      " 12  renewedBeforeDays           522560 non-null  int64  \n",
      " 13  isBuyer                     522560 non-null  bool   \n",
      " 14  source_tenure               522560 non-null  int64  \n",
      " 15  tenure                      522560 non-null  int64  \n",
      " 16  distToVenue                 522560 non-null  float64\n",
      " 17  totalGames                  522560 non-null  int64  \n",
      " 18  recency                     522560 non-null  int64  \n",
      " 19  click_link                  522560 non-null  int64  \n",
      " 20  fill_out_form               522560 non-null  int64  \n",
      " 21  open_email                  522560 non-null  int64  \n",
      " 22  send_email                  522560 non-null  int64  \n",
      " 23  unsubscribe_email           522560 non-null  int64  \n",
      " 24  openToSendRatio             522560 non-null  float64\n",
      " 25  clickToSendRatio            522560 non-null  float64\n",
      " 26  clickToOpenRatio            522560 non-null  float64\n",
      " 27  numWebEngagementActivities  38057 non-null   float64\n",
      " 28  numAppViewsActivities       19222 non-null   float64\n",
      " 29  credits_after_refund        522560 non-null  float64\n",
      " 30  NumberofGamesPerSeason      522560 non-null  int64  \n",
      " 31  isNextGameBuyer             522560 non-null  int64  \n",
      " 32  nextYearTier                522560 non-null  int64  \n",
      "dtypes: bool(1), float64(9), int64(20), object(3)\n",
      "memory usage: 128.1+ MB\n"
     ]
    }
   ],
   "source": [
    "df.info()"
   ]
  },
  {
   "cell_type": "code",
   "execution_count": 169,
   "id": "0ea5e4c8-583c-42c0-9ef8-a7ffa632da45",
   "metadata": {},
   "outputs": [],
   "source": [
    "#profile = ProfileReport(df, minimal=True)\n",
    "#profile.to_file(output_file=\"yankees_pandas_profile.html\")"
   ]
  },
  {
   "cell_type": "markdown",
   "id": "ab40da92-72a7-49c1-9829-ed3805a39719",
   "metadata": {},
   "source": [
    "### We should specify the features used in our model:"
   ]
  },
  {
   "cell_type": "code",
   "execution_count": 170,
   "id": "788f1273-8b7a-46bd-a099-1a471feeacc5",
   "metadata": {},
   "outputs": [
    {
     "name": "stdout",
     "output_type": "stream",
     "text": [
      "Data for Modeling: (64082, 24)\n",
      "Unseen Data For Predictions: (11308, 24)\n",
      "\n"
     ]
    }
   ],
   "source": [
    "# choose the features for the stellar base retention model\n",
    "features = [\"dimCustomerMasterId\",\n",
    "        \"attendancePercent\",\n",
    "        \"click_link\",\n",
    "        \"clickToSendRatio\",\n",
    "        \"clickToOpenRatio\",\n",
    "        \"distToVenue\",\n",
    "        \"eventDay\",\n",
    "        \"isBuyer\",\n",
    "        \"isNextGameBuyer\",\n",
    "        \"open_email\" ,\n",
    "        \"openToSendRatio\",\n",
    "        \"numAppViewsActivities\",\n",
    "        \"numWebEngagementActivities\",\n",
    "        \"recency\",\n",
    "        \"recentDate\",\n",
    "        \"renewedBeforeDays\",\n",
    "        \"send_email\",\n",
    "        \"source_tenure\",\n",
    "        #\"Tier\",\n",
    "        \"tenure\",\n",
    "        \"totalGames\",\n",
    "        \"totalSpent\",\n",
    "        \"unsubscribe_email\",\n",
    "        \"nextYearTier\",\n",
    "        \"year\"\n",
    "]\n",
    "\n",
    "# copy your main dataframe\n",
    "df_dataset = df.sample(frac =0.25)\n",
    "\n",
    "# choose the features & train year & test year\n",
    "df_dataset = df_dataset[features]\n",
    "df_dataset[\"year\"] = pd.to_numeric(df_dataset[\"year\"])\n",
    "df_dataset = df_dataset.loc[df_dataset[\"year\"] <= 2019]\n",
    "\n",
    "df_train = df_dataset.sample(frac=0.85, random_state=786)\n",
    "df_eval = df_dataset.drop(df_train.index)\n",
    "\n",
    "df_train.reset_index(drop=True)\n",
    "df_eval.reset_index(drop=True)\n",
    "\n",
    "# print out the number of records for training and eval\n",
    "print('Data for Modeling: ' + str(df_train.shape))\n",
    "print('Unseen Data For Predictions: ' + str(df_eval.shape), end=\"\\n\\n\")"
   ]
  },
  {
   "cell_type": "markdown",
   "id": "4f2da06d-9015-49fd-89b3-956c2ebf66e9",
   "metadata": {},
   "source": [
    "### Now we can model the data using a binary classification prediction for the isnextyear_buyer field to see how likely a customer is to re-purchase."
   ]
  },
  {
   "cell_type": "code",
   "execution_count": 171,
   "id": "23a69cdc-b3ec-48c8-9ce5-29f617779389",
   "metadata": {},
   "outputs": [],
   "source": [
    "setup(\n",
    "    data= df_train, \n",
    "    target=\"nextYearTier\", \n",
    "    train_size = 0.80,\n",
    "    data_split_shuffle=True,\n",
    "    date_features=[\"recentDate\"],\n",
    "    ignore_features=[\"dimCustomerMasterId\",\"year\"],\n",
    "    silent=True,\n",
    "    verbose=False,\n",
    "    numeric_features=[\n",
    "        \"attendancePercent\",\n",
    "        \"eventDay\",\n",
    "        \"renewedBeforeDays\",\n",
    "        \"source_tenure\",\n",
    "        \"tenure\",\n",
    "        \"distToVenue\",\n",
    "        \"totalGames\",\n",
    "        \"isNextGameBuyer\",\n",
    "        \"recency\",\n",
    "        \"click_link\",\n",
    "        \"open_email\",\n",
    "        \"numAppViewsActivities\",\n",
    "        \"numWebEngagementActivities\",\n",
    "        \"send_email\",\n",
    "        #\"Tier\",\n",
    "        \"totalGames\",\n",
    "        \"totalSpent\",\n",
    "        \"unsubscribe_email\",\n",
    "        \"openToSendRatio\",\n",
    "        \"clickToSendRatio\",\n",
    "        \"clickToOpenRatio\"\n",
    "    ]\n",
    ");"
   ]
  },
  {
   "cell_type": "code",
   "execution_count": 172,
   "id": "91782d96-072e-46dd-a6aa-2ca1359f1e7d",
   "metadata": {},
   "outputs": [
    {
     "data": {
      "text/plain": [
       "0    43286\n",
       "4     7955\n",
       "2     5986\n",
       "3     4289\n",
       "5     1582\n",
       "1      984\n",
       "Name: nextYearTier, dtype: int64"
      ]
     },
     "execution_count": 172,
     "metadata": {},
     "output_type": "execute_result"
    }
   ],
   "source": [
    "df_train['nextYearTier'].value_counts()"
   ]
  },
  {
   "cell_type": "code",
   "execution_count": 154,
   "id": "5e91014c-f63c-45de-9768-b9aa53ba0b53",
   "metadata": {},
   "outputs": [
    {
     "name": "stdout",
     "output_type": "stream",
     "text": [
      "<class 'pandas.core.frame.DataFrame'>\n",
      "Int64Index: 256689 entries, 31546 to 38096\n",
      "Data columns (total 24 columns):\n",
      " #   Column                      Non-Null Count   Dtype  \n",
      "---  ------                      --------------   -----  \n",
      " 0   dimCustomerMasterId         256689 non-null  int64  \n",
      " 1   attendancePercent           256689 non-null  float64\n",
      " 2   click_link                  256689 non-null  int64  \n",
      " 3   clickToSendRatio            256689 non-null  float64\n",
      " 4   clickToOpenRatio            256689 non-null  float64\n",
      " 5   distToVenue                 256689 non-null  float64\n",
      " 6   eventDay                    256689 non-null  int64  \n",
      " 7   isBuyer                     256689 non-null  bool   \n",
      " 8   isNextGameBuyer             256689 non-null  int64  \n",
      " 9   open_email                  256689 non-null  int64  \n",
      " 10  openToSendRatio             256689 non-null  float64\n",
      " 11  numAppViewsActivities       7090 non-null    float64\n",
      " 12  numWebEngagementActivities  12953 non-null   float64\n",
      " 13  recency                     256689 non-null  int64  \n",
      " 14  recentDate                  256689 non-null  object \n",
      " 15  renewedBeforeDays           256689 non-null  int64  \n",
      " 16  send_email                  256689 non-null  int64  \n",
      " 17  source_tenure               256689 non-null  int64  \n",
      " 18  tenure                      256689 non-null  int64  \n",
      " 19  totalGames                  256689 non-null  int64  \n",
      " 20  totalSpent                  256689 non-null  float64\n",
      " 21  unsubscribe_email           256689 non-null  int64  \n",
      " 22  nextYearTier                256689 non-null  int64  \n",
      " 23  year                        256689 non-null  int64  \n",
      "dtypes: bool(1), float64(8), int64(14), object(1)\n",
      "memory usage: 47.2+ MB\n"
     ]
    }
   ],
   "source": [
    "#df_train = df_train.sort_values('nextYearTier').reset_index()\n",
    "#df_train = df_train.iloc[:,1000:]\n",
    "\n",
    "#df_train['nextYearTier'].value_counts()\n",
    "\n",
    "df_train.info()"
   ]
  },
  {
   "cell_type": "code",
   "execution_count": 180,
   "id": "ef2db9d2-02c2-45c0-b6bb-5cad42c373ce",
   "metadata": {},
   "outputs": [
    {
     "data": {
      "text/html": [
       "<style  type=\"text/css\" >\n",
       "    #T_cb8c3_ th {\n",
       "          text-align: left;\n",
       "    }#T_cb8c3_row0_col0,#T_cb8c3_row0_col1,#T_cb8c3_row0_col3,#T_cb8c3_row0_col4,#T_cb8c3_row0_col5,#T_cb8c3_row0_col6,#T_cb8c3_row0_col7,#T_cb8c3_row1_col0,#T_cb8c3_row1_col2{\n",
       "            text-align:  left;\n",
       "            text-align:  left;\n",
       "        }#T_cb8c3_row0_col2,#T_cb8c3_row1_col1,#T_cb8c3_row1_col3,#T_cb8c3_row1_col4,#T_cb8c3_row1_col5,#T_cb8c3_row1_col6,#T_cb8c3_row1_col7{\n",
       "            text-align:  left;\n",
       "            text-align:  left;\n",
       "            background-color:  yellow;\n",
       "        }#T_cb8c3_row0_col8{\n",
       "            text-align:  left;\n",
       "            text-align:  left;\n",
       "            background-color:  yellow;\n",
       "            background-color:  lightgrey;\n",
       "        }#T_cb8c3_row1_col8{\n",
       "            text-align:  left;\n",
       "            text-align:  left;\n",
       "            background-color:  lightgrey;\n",
       "        }</style><table id=\"T_cb8c3_\" ><thead>    <tr>        <th class=\"blank level0\" ></th>        <th class=\"col_heading level0 col0\" >Model</th>        <th class=\"col_heading level0 col1\" >Accuracy</th>        <th class=\"col_heading level0 col2\" >AUC</th>        <th class=\"col_heading level0 col3\" >Recall</th>        <th class=\"col_heading level0 col4\" >Prec.</th>        <th class=\"col_heading level0 col5\" >F1</th>        <th class=\"col_heading level0 col6\" >Kappa</th>        <th class=\"col_heading level0 col7\" >MCC</th>        <th class=\"col_heading level0 col8\" >TT (Sec)</th>    </tr></thead><tbody>\n",
       "                <tr>\n",
       "                        <th id=\"T_cb8c3_level0_row0\" class=\"row_heading level0 row0\" >lightgbm</th>\n",
       "                        <td id=\"T_cb8c3_row0_col0\" class=\"data row0 col0\" >Light Gradient Boosting Machine</td>\n",
       "                        <td id=\"T_cb8c3_row0_col1\" class=\"data row0 col1\" >0.7212</td>\n",
       "                        <td id=\"T_cb8c3_row0_col2\" class=\"data row0 col2\" >0.8093</td>\n",
       "                        <td id=\"T_cb8c3_row0_col3\" class=\"data row0 col3\" >0.2961</td>\n",
       "                        <td id=\"T_cb8c3_row0_col4\" class=\"data row0 col4\" >0.6700</td>\n",
       "                        <td id=\"T_cb8c3_row0_col5\" class=\"data row0 col5\" >0.6633</td>\n",
       "                        <td id=\"T_cb8c3_row0_col6\" class=\"data row0 col6\" >0.3287</td>\n",
       "                        <td id=\"T_cb8c3_row0_col7\" class=\"data row0 col7\" >0.3611</td>\n",
       "                        <td id=\"T_cb8c3_row0_col8\" class=\"data row0 col8\" >0.6980</td>\n",
       "            </tr>\n",
       "            <tr>\n",
       "                        <th id=\"T_cb8c3_level0_row1\" class=\"row_heading level0 row1\" >xgboost</th>\n",
       "                        <td id=\"T_cb8c3_row1_col0\" class=\"data row1 col0\" >Extreme Gradient Boosting</td>\n",
       "                        <td id=\"T_cb8c3_row1_col1\" class=\"data row1 col1\" >0.7252</td>\n",
       "                        <td id=\"T_cb8c3_row1_col2\" class=\"data row1 col2\" >0.8087</td>\n",
       "                        <td id=\"T_cb8c3_row1_col3\" class=\"data row1 col3\" >0.3091</td>\n",
       "                        <td id=\"T_cb8c3_row1_col4\" class=\"data row1 col4\" >0.6800</td>\n",
       "                        <td id=\"T_cb8c3_row1_col5\" class=\"data row1 col5\" >0.6718</td>\n",
       "                        <td id=\"T_cb8c3_row1_col6\" class=\"data row1 col6\" >0.3437</td>\n",
       "                        <td id=\"T_cb8c3_row1_col7\" class=\"data row1 col7\" >0.3743</td>\n",
       "                        <td id=\"T_cb8c3_row1_col8\" class=\"data row1 col8\" >11.5530</td>\n",
       "            </tr>\n",
       "    </tbody></table>"
      ],
      "text/plain": [
       "<pandas.io.formats.style.Styler at 0x7fcc83967cd0>"
      ]
     },
     "metadata": {},
     "output_type": "display_data"
    }
   ],
   "source": [
    "model_matrix = compare_models(\n",
    "    fold=10,\n",
    "    include=[\"lightgbm\",\"xgboost\"],\n",
    "    sort=\"auc\"\n",
    ")"
   ]
  },
  {
   "cell_type": "code",
   "execution_count": 181,
   "id": "d9f030ed-4b6a-4a87-a01e-129dc49e0d4a",
   "metadata": {},
   "outputs": [
    {
     "data": {
      "text/html": [
       "<style  type=\"text/css\" >\n",
       "#T_ee99a_row10_col0,#T_ee99a_row10_col1,#T_ee99a_row10_col2,#T_ee99a_row10_col3,#T_ee99a_row10_col4,#T_ee99a_row10_col5,#T_ee99a_row10_col6{\n",
       "            background:  yellow;\n",
       "        }</style><table id=\"T_ee99a_\" ><thead>    <tr>        <th class=\"blank level0\" ></th>        <th class=\"col_heading level0 col0\" >Accuracy</th>        <th class=\"col_heading level0 col1\" >AUC</th>        <th class=\"col_heading level0 col2\" >Recall</th>        <th class=\"col_heading level0 col3\" >Prec.</th>        <th class=\"col_heading level0 col4\" >F1</th>        <th class=\"col_heading level0 col5\" >Kappa</th>        <th class=\"col_heading level0 col6\" >MCC</th>    </tr></thead><tbody>\n",
       "                <tr>\n",
       "                        <th id=\"T_ee99a_level0_row0\" class=\"row_heading level0 row0\" >0</th>\n",
       "                        <td id=\"T_ee99a_row0_col0\" class=\"data row0 col0\" >0.7205</td>\n",
       "                        <td id=\"T_ee99a_row0_col1\" class=\"data row0 col1\" >0.8109</td>\n",
       "                        <td id=\"T_ee99a_row0_col2\" class=\"data row0 col2\" >0.2883</td>\n",
       "                        <td id=\"T_ee99a_row0_col3\" class=\"data row0 col3\" >0.6639</td>\n",
       "                        <td id=\"T_ee99a_row0_col4\" class=\"data row0 col4\" >0.6603</td>\n",
       "                        <td id=\"T_ee99a_row0_col5\" class=\"data row0 col5\" >0.3240</td>\n",
       "                        <td id=\"T_ee99a_row0_col6\" class=\"data row0 col6\" >0.3576</td>\n",
       "            </tr>\n",
       "            <tr>\n",
       "                        <th id=\"T_ee99a_level0_row1\" class=\"row_heading level0 row1\" >1</th>\n",
       "                        <td id=\"T_ee99a_row1_col0\" class=\"data row1 col0\" >0.7213</td>\n",
       "                        <td id=\"T_ee99a_row1_col1\" class=\"data row1 col1\" >0.8060</td>\n",
       "                        <td id=\"T_ee99a_row1_col2\" class=\"data row1 col2\" >0.2966</td>\n",
       "                        <td id=\"T_ee99a_row1_col3\" class=\"data row1 col3\" >0.6667</td>\n",
       "                        <td id=\"T_ee99a_row1_col4\" class=\"data row1 col4\" >0.6603</td>\n",
       "                        <td id=\"T_ee99a_row1_col5\" class=\"data row1 col5\" >0.3211</td>\n",
       "                        <td id=\"T_ee99a_row1_col6\" class=\"data row1 col6\" >0.3573</td>\n",
       "            </tr>\n",
       "            <tr>\n",
       "                        <th id=\"T_ee99a_level0_row2\" class=\"row_heading level0 row2\" >2</th>\n",
       "                        <td id=\"T_ee99a_row2_col0\" class=\"data row2 col0\" >0.7182</td>\n",
       "                        <td id=\"T_ee99a_row2_col1\" class=\"data row2 col1\" >0.8086</td>\n",
       "                        <td id=\"T_ee99a_row2_col2\" class=\"data row2 col2\" >0.2910</td>\n",
       "                        <td id=\"T_ee99a_row2_col3\" class=\"data row2 col3\" >0.6646</td>\n",
       "                        <td id=\"T_ee99a_row2_col4\" class=\"data row2 col4\" >0.6609</td>\n",
       "                        <td id=\"T_ee99a_row2_col5\" class=\"data row2 col5\" >0.3257</td>\n",
       "                        <td id=\"T_ee99a_row2_col6\" class=\"data row2 col6\" >0.3555</td>\n",
       "            </tr>\n",
       "            <tr>\n",
       "                        <th id=\"T_ee99a_level0_row3\" class=\"row_heading level0 row3\" >3</th>\n",
       "                        <td id=\"T_ee99a_row3_col0\" class=\"data row3 col0\" >0.7158</td>\n",
       "                        <td id=\"T_ee99a_row3_col1\" class=\"data row3 col1\" >0.8096</td>\n",
       "                        <td id=\"T_ee99a_row3_col2\" class=\"data row3 col2\" >0.2890</td>\n",
       "                        <td id=\"T_ee99a_row3_col3\" class=\"data row3 col3\" >0.6523</td>\n",
       "                        <td id=\"T_ee99a_row3_col4\" class=\"data row3 col4\" >0.6568</td>\n",
       "                        <td id=\"T_ee99a_row3_col5\" class=\"data row3 col5\" >0.3174</td>\n",
       "                        <td id=\"T_ee99a_row3_col6\" class=\"data row3 col6\" >0.3479</td>\n",
       "            </tr>\n",
       "            <tr>\n",
       "                        <th id=\"T_ee99a_level0_row4\" class=\"row_heading level0 row4\" >4</th>\n",
       "                        <td id=\"T_ee99a_row4_col0\" class=\"data row4 col0\" >0.7254</td>\n",
       "                        <td id=\"T_ee99a_row4_col1\" class=\"data row4 col1\" >0.8142</td>\n",
       "                        <td id=\"T_ee99a_row4_col2\" class=\"data row4 col2\" >0.3014</td>\n",
       "                        <td id=\"T_ee99a_row4_col3\" class=\"data row4 col3\" >0.6754</td>\n",
       "                        <td id=\"T_ee99a_row4_col4\" class=\"data row4 col4\" >0.6688</td>\n",
       "                        <td id=\"T_ee99a_row4_col5\" class=\"data row4 col5\" >0.3408</td>\n",
       "                        <td id=\"T_ee99a_row4_col6\" class=\"data row4 col6\" >0.3733</td>\n",
       "            </tr>\n",
       "            <tr>\n",
       "                        <th id=\"T_ee99a_level0_row5\" class=\"row_heading level0 row5\" >5</th>\n",
       "                        <td id=\"T_ee99a_row5_col0\" class=\"data row5 col0\" >0.7183</td>\n",
       "                        <td id=\"T_ee99a_row5_col1\" class=\"data row5 col1\" >0.8058</td>\n",
       "                        <td id=\"T_ee99a_row5_col2\" class=\"data row5 col2\" >0.2962</td>\n",
       "                        <td id=\"T_ee99a_row5_col3\" class=\"data row5 col3\" >0.6729</td>\n",
       "                        <td id=\"T_ee99a_row5_col4\" class=\"data row5 col4\" >0.6602</td>\n",
       "                        <td id=\"T_ee99a_row5_col5\" class=\"data row5 col5\" >0.3198</td>\n",
       "                        <td id=\"T_ee99a_row5_col6\" class=\"data row5 col6\" >0.3523</td>\n",
       "            </tr>\n",
       "            <tr>\n",
       "                        <th id=\"T_ee99a_level0_row6\" class=\"row_heading level0 row6\" >6</th>\n",
       "                        <td id=\"T_ee99a_row6_col0\" class=\"data row6 col0\" >0.7263</td>\n",
       "                        <td id=\"T_ee99a_row6_col1\" class=\"data row6 col1\" >0.8063</td>\n",
       "                        <td id=\"T_ee99a_row6_col2\" class=\"data row6 col2\" >0.3070</td>\n",
       "                        <td id=\"T_ee99a_row6_col3\" class=\"data row6 col3\" >0.6828</td>\n",
       "                        <td id=\"T_ee99a_row6_col4\" class=\"data row6 col4\" >0.6698</td>\n",
       "                        <td id=\"T_ee99a_row6_col5\" class=\"data row6 col5\" >0.3406</td>\n",
       "                        <td id=\"T_ee99a_row6_col6\" class=\"data row6 col6\" >0.3742</td>\n",
       "            </tr>\n",
       "            <tr>\n",
       "                        <th id=\"T_ee99a_level0_row7\" class=\"row_heading level0 row7\" >7</th>\n",
       "                        <td id=\"T_ee99a_row7_col0\" class=\"data row7 col0\" >0.7204</td>\n",
       "                        <td id=\"T_ee99a_row7_col1\" class=\"data row7 col1\" >0.8063</td>\n",
       "                        <td id=\"T_ee99a_row7_col2\" class=\"data row7 col2\" >0.2896</td>\n",
       "                        <td id=\"T_ee99a_row7_col3\" class=\"data row7 col3\" >0.6630</td>\n",
       "                        <td id=\"T_ee99a_row7_col4\" class=\"data row7 col4\" >0.6624</td>\n",
       "                        <td id=\"T_ee99a_row7_col5\" class=\"data row7 col5\" >0.3272</td>\n",
       "                        <td id=\"T_ee99a_row7_col6\" class=\"data row7 col6\" >0.3592</td>\n",
       "            </tr>\n",
       "            <tr>\n",
       "                        <th id=\"T_ee99a_level0_row8\" class=\"row_heading level0 row8\" >8</th>\n",
       "                        <td id=\"T_ee99a_row8_col0\" class=\"data row8 col0\" >0.7234</td>\n",
       "                        <td id=\"T_ee99a_row8_col1\" class=\"data row8 col1\" >0.8165</td>\n",
       "                        <td id=\"T_ee99a_row8_col2\" class=\"data row8 col2\" >0.3055</td>\n",
       "                        <td id=\"T_ee99a_row8_col3\" class=\"data row8 col3\" >0.6762</td>\n",
       "                        <td id=\"T_ee99a_row8_col4\" class=\"data row8 col4\" >0.6692</td>\n",
       "                        <td id=\"T_ee99a_row8_col5\" class=\"data row8 col5\" >0.3402</td>\n",
       "                        <td id=\"T_ee99a_row8_col6\" class=\"data row8 col6\" >0.3699</td>\n",
       "            </tr>\n",
       "            <tr>\n",
       "                        <th id=\"T_ee99a_level0_row9\" class=\"row_heading level0 row9\" >9</th>\n",
       "                        <td id=\"T_ee99a_row9_col0\" class=\"data row9 col0\" >0.7226</td>\n",
       "                        <td id=\"T_ee99a_row9_col1\" class=\"data row9 col1\" >0.8090</td>\n",
       "                        <td id=\"T_ee99a_row9_col2\" class=\"data row9 col2\" >0.2966</td>\n",
       "                        <td id=\"T_ee99a_row9_col3\" class=\"data row9 col3\" >0.6824</td>\n",
       "                        <td id=\"T_ee99a_row9_col4\" class=\"data row9 col4\" >0.6639</td>\n",
       "                        <td id=\"T_ee99a_row9_col5\" class=\"data row9 col5\" >0.3302</td>\n",
       "                        <td id=\"T_ee99a_row9_col6\" class=\"data row9 col6\" >0.3638</td>\n",
       "            </tr>\n",
       "            <tr>\n",
       "                        <th id=\"T_ee99a_level0_row10\" class=\"row_heading level0 row10\" >Mean</th>\n",
       "                        <td id=\"T_ee99a_row10_col0\" class=\"data row10 col0\" >0.7212</td>\n",
       "                        <td id=\"T_ee99a_row10_col1\" class=\"data row10 col1\" >0.8093</td>\n",
       "                        <td id=\"T_ee99a_row10_col2\" class=\"data row10 col2\" >0.2961</td>\n",
       "                        <td id=\"T_ee99a_row10_col3\" class=\"data row10 col3\" >0.6700</td>\n",
       "                        <td id=\"T_ee99a_row10_col4\" class=\"data row10 col4\" >0.6633</td>\n",
       "                        <td id=\"T_ee99a_row10_col5\" class=\"data row10 col5\" >0.3287</td>\n",
       "                        <td id=\"T_ee99a_row10_col6\" class=\"data row10 col6\" >0.3611</td>\n",
       "            </tr>\n",
       "            <tr>\n",
       "                        <th id=\"T_ee99a_level0_row11\" class=\"row_heading level0 row11\" >SD</th>\n",
       "                        <td id=\"T_ee99a_row11_col0\" class=\"data row11 col0\" >0.0031</td>\n",
       "                        <td id=\"T_ee99a_row11_col1\" class=\"data row11 col1\" >0.0035</td>\n",
       "                        <td id=\"T_ee99a_row11_col2\" class=\"data row11 col2\" >0.0064</td>\n",
       "                        <td id=\"T_ee99a_row11_col3\" class=\"data row11 col3\" >0.0091</td>\n",
       "                        <td id=\"T_ee99a_row11_col4\" class=\"data row11 col4\" >0.0043</td>\n",
       "                        <td id=\"T_ee99a_row11_col5\" class=\"data row11 col5\" >0.0085</td>\n",
       "                        <td id=\"T_ee99a_row11_col6\" class=\"data row11 col6\" >0.0085</td>\n",
       "            </tr>\n",
       "    </tbody></table>"
      ],
      "text/plain": [
       "<pandas.io.formats.style.Styler at 0x7fcc810b96d0>"
      ]
     },
     "metadata": {},
     "output_type": "display_data"
    }
   ],
   "source": [
    "best_model = create_model(model_matrix)\n",
    "final_model = finalize_model(best_model)"
   ]
  },
  {
   "cell_type": "markdown",
   "id": "3aab9021-4462-423a-8e3c-fbe1f36c6110",
   "metadata": {},
   "source": [
    "### Let's load in our 2021/2022 season data and get retention scores using the model:"
   ]
  },
  {
   "cell_type": "code",
   "execution_count": 182,
   "id": "c249a813-c882-4869-9490-6ab766a8c223",
   "metadata": {},
   "outputs": [
    {
     "data": {
      "text/plain": [
       "(83789, 32)"
      ]
     },
     "execution_count": 182,
     "metadata": {},
     "output_type": "execute_result"
    }
   ],
   "source": [
    "df_inference = df.loc[df[\"year\"] >= 2021].reset_index(drop=True)\n",
    "df_inference = df_inference.fillna(0)\n",
    "df_inference.drop(columns=df_inference.columns[0],axis=1,inplace=True)\n",
    "\n",
    "df_inference.shape"
   ]
  },
  {
   "cell_type": "code",
   "execution_count": 183,
   "id": "745b62fb-fb2e-4b4a-9c48-8ce4de472a83",
   "metadata": {},
   "outputs": [
    {
     "data": {
      "text/html": [
       "<div>\n",
       "<style scoped>\n",
       "    .dataframe tbody tr th:only-of-type {\n",
       "        vertical-align: middle;\n",
       "    }\n",
       "\n",
       "    .dataframe tbody tr th {\n",
       "        vertical-align: top;\n",
       "    }\n",
       "\n",
       "    .dataframe thead th {\n",
       "        text-align: right;\n",
       "    }\n",
       "</style>\n",
       "<table border=\"1\" class=\"dataframe\">\n",
       "  <thead>\n",
       "    <tr style=\"text-align: right;\">\n",
       "      <th></th>\n",
       "      <th>lkupClientId</th>\n",
       "      <th>dimCustomerMasterId</th>\n",
       "      <th>eventName</th>\n",
       "      <th>inMarket</th>\n",
       "      <th>year</th>\n",
       "      <th>productGrouping</th>\n",
       "      <th>Tier</th>\n",
       "      <th>eventDay</th>\n",
       "      <th>totalSpent</th>\n",
       "      <th>recentDate</th>\n",
       "      <th>...</th>\n",
       "      <th>NumberofGamesPerSeason</th>\n",
       "      <th>isNextGameBuyer</th>\n",
       "      <th>nextYearTier</th>\n",
       "      <th>Label</th>\n",
       "      <th>Score_0</th>\n",
       "      <th>Score_1</th>\n",
       "      <th>Score_2</th>\n",
       "      <th>Score_3</th>\n",
       "      <th>Score_4</th>\n",
       "      <th>Score_5</th>\n",
       "    </tr>\n",
       "  </thead>\n",
       "  <tbody>\n",
       "    <tr>\n",
       "      <th>0</th>\n",
       "      <td>53</td>\n",
       "      <td>51</td>\n",
       "      <td>20210527 - Toronto Blue Jays</td>\n",
       "      <td>1</td>\n",
       "      <td>2021</td>\n",
       "      <td>Online Individual Game</td>\n",
       "      <td>5</td>\n",
       "      <td>4</td>\n",
       "      <td>32.0</td>\n",
       "      <td>1970-01-01</td>\n",
       "      <td>...</td>\n",
       "      <td>94</td>\n",
       "      <td>0</td>\n",
       "      <td>0</td>\n",
       "      <td>0</td>\n",
       "      <td>0.4048</td>\n",
       "      <td>0.3971</td>\n",
       "      <td>0.1427</td>\n",
       "      <td>0.0154</td>\n",
       "      <td>0.0233</td>\n",
       "      <td>0.0166</td>\n",
       "    </tr>\n",
       "    <tr>\n",
       "      <th>1</th>\n",
       "      <td>53</td>\n",
       "      <td>76</td>\n",
       "      <td>20210401 - Toronto Blue Jays</td>\n",
       "      <td>1</td>\n",
       "      <td>2021</td>\n",
       "      <td>Online Individual Game</td>\n",
       "      <td>1</td>\n",
       "      <td>4</td>\n",
       "      <td>900.0</td>\n",
       "      <td>1970-01-01</td>\n",
       "      <td>...</td>\n",
       "      <td>94</td>\n",
       "      <td>1</td>\n",
       "      <td>0</td>\n",
       "      <td>4</td>\n",
       "      <td>0.1464</td>\n",
       "      <td>0.1202</td>\n",
       "      <td>0.2714</td>\n",
       "      <td>0.0864</td>\n",
       "      <td>0.3000</td>\n",
       "      <td>0.0757</td>\n",
       "    </tr>\n",
       "    <tr>\n",
       "      <th>2</th>\n",
       "      <td>53</td>\n",
       "      <td>360</td>\n",
       "      <td>20210817 - Boston Red Sox</td>\n",
       "      <td>1</td>\n",
       "      <td>2021</td>\n",
       "      <td>Online Individual Game</td>\n",
       "      <td>2</td>\n",
       "      <td>2</td>\n",
       "      <td>150.0</td>\n",
       "      <td>1970-01-01</td>\n",
       "      <td>...</td>\n",
       "      <td>94</td>\n",
       "      <td>0</td>\n",
       "      <td>0</td>\n",
       "      <td>0</td>\n",
       "      <td>0.5072</td>\n",
       "      <td>0.0441</td>\n",
       "      <td>0.1414</td>\n",
       "      <td>0.1029</td>\n",
       "      <td>0.1491</td>\n",
       "      <td>0.0552</td>\n",
       "    </tr>\n",
       "    <tr>\n",
       "      <th>3</th>\n",
       "      <td>53</td>\n",
       "      <td>360</td>\n",
       "      <td>20210903 - Baltimore Orioles</td>\n",
       "      <td>1</td>\n",
       "      <td>2021</td>\n",
       "      <td>Online Individual Game</td>\n",
       "      <td>5</td>\n",
       "      <td>5</td>\n",
       "      <td>0.0</td>\n",
       "      <td>1970-01-01</td>\n",
       "      <td>...</td>\n",
       "      <td>94</td>\n",
       "      <td>0</td>\n",
       "      <td>0</td>\n",
       "      <td>0</td>\n",
       "      <td>0.4449</td>\n",
       "      <td>0.0034</td>\n",
       "      <td>0.3221</td>\n",
       "      <td>0.1170</td>\n",
       "      <td>0.0659</td>\n",
       "      <td>0.0467</td>\n",
       "    </tr>\n",
       "    <tr>\n",
       "      <th>4</th>\n",
       "      <td>53</td>\n",
       "      <td>590</td>\n",
       "      <td>20210819 - Minnesota Twins</td>\n",
       "      <td>1</td>\n",
       "      <td>2021</td>\n",
       "      <td>Online Individual Game</td>\n",
       "      <td>7</td>\n",
       "      <td>4</td>\n",
       "      <td>122.0</td>\n",
       "      <td>1970-01-01</td>\n",
       "      <td>...</td>\n",
       "      <td>94</td>\n",
       "      <td>0</td>\n",
       "      <td>0</td>\n",
       "      <td>0</td>\n",
       "      <td>0.5952</td>\n",
       "      <td>0.0706</td>\n",
       "      <td>0.1533</td>\n",
       "      <td>0.1021</td>\n",
       "      <td>0.0533</td>\n",
       "      <td>0.0255</td>\n",
       "    </tr>\n",
       "  </tbody>\n",
       "</table>\n",
       "<p>5 rows × 39 columns</p>\n",
       "</div>"
      ],
      "text/plain": [
       "   lkupClientId  dimCustomerMasterId                     eventName  inMarket  \\\n",
       "0            53                   51  20210527 - Toronto Blue Jays         1   \n",
       "1            53                   76  20210401 - Toronto Blue Jays         1   \n",
       "2            53                  360     20210817 - Boston Red Sox         1   \n",
       "3            53                  360  20210903 - Baltimore Orioles         1   \n",
       "4            53                  590    20210819 - Minnesota Twins         1   \n",
       "\n",
       "   year         productGrouping  Tier  eventDay  totalSpent  recentDate  ...  \\\n",
       "0  2021  Online Individual Game     5         4        32.0  1970-01-01  ...   \n",
       "1  2021  Online Individual Game     1         4       900.0  1970-01-01  ...   \n",
       "2  2021  Online Individual Game     2         2       150.0  1970-01-01  ...   \n",
       "3  2021  Online Individual Game     5         5         0.0  1970-01-01  ...   \n",
       "4  2021  Online Individual Game     7         4       122.0  1970-01-01  ...   \n",
       "\n",
       "   NumberofGamesPerSeason  isNextGameBuyer  nextYearTier  Label  Score_0  \\\n",
       "0                      94                0             0      0   0.4048   \n",
       "1                      94                1             0      4   0.1464   \n",
       "2                      94                0             0      0   0.5072   \n",
       "3                      94                0             0      0   0.4449   \n",
       "4                      94                0             0      0   0.5952   \n",
       "\n",
       "   Score_1  Score_2  Score_3  Score_4  Score_5  \n",
       "0   0.3971   0.1427   0.0154   0.0233   0.0166  \n",
       "1   0.1202   0.2714   0.0864   0.3000   0.0757  \n",
       "2   0.0441   0.1414   0.1029   0.1491   0.0552  \n",
       "3   0.0034   0.3221   0.1170   0.0659   0.0467  \n",
       "4   0.0706   0.1533   0.1021   0.0533   0.0255  \n",
       "\n",
       "[5 rows x 39 columns]"
      ]
     },
     "execution_count": 183,
     "metadata": {},
     "output_type": "execute_result"
    }
   ],
   "source": [
    "df_inference = predict_model(final_model, data=df_inference, raw_score=True)\n",
    "\n",
    "df_inference.head()"
   ]
  },
  {
   "cell_type": "code",
   "execution_count": 184,
   "id": "b7596c84-8422-44ba-828c-4bb38d1244ab",
   "metadata": {},
   "outputs": [
    {
     "data": {
      "text/plain": [
       "(0.099, 1.0]    105528\n",
       "dtype: int64"
      ]
     },
     "execution_count": 184,
     "metadata": {},
     "output_type": "execute_result"
    }
   ],
   "source": [
    "df_inference['Score_1'].value_counts(bins=[0.1, 1.0])+df_inference['Score_2'].value_counts(bins=[0.1, 1.0])+df_inference['Score_3'].value_counts(bins=[0.1, 1.0])+df_inference['Score_4'].value_counts(bins=[0.1, 1.0])+df_inference['Score_5'].value_counts(bins=[0.1, 1.0])"
   ]
  },
  {
   "cell_type": "code",
   "execution_count": 185,
   "id": "ed5992e4-10d1-44de-aeda-072550c75086",
   "metadata": {},
   "outputs": [
    {
     "data": {
      "image/png": "[encoded data removed]",
      "text/plain": [
       "<Figure size 2160x360 with 6 Axes>"
      ]
     },
     "metadata": {},
     "output_type": "display_data"
    }
   ],
   "source": [
    "df_inference.hist(column=['Score_0', 'Score_1', 'Score_2', 'Score_3', 'Score_4', 'Score_5'], figsize=(30,5), layout=(1,6));"
   ]
  },
  {
   "cell_type": "code",
   "execution_count": 186,
   "id": "144bd27b-9798-4f8b-a3a3-95298d8e2c01",
   "metadata": {},
   "outputs": [
    {
     "data": {
      "image/png": "[encoded data removed]",
      "text/plain": [
       "<Figure size 800x500 with 1 Axes>"
      ]
     },
     "metadata": {},
     "output_type": "display_data"
    }
   ],
   "source": [
    "plot_model(best_model, plot='feature')"
   ]
  },
  {
   "cell_type": "code",
   "execution_count": 188,
   "id": "79e34840-9a47-486f-a648-6d5d16d73b89",
   "metadata": {},
   "outputs": [
    {
     "data": {
      "image/png": "[encoded data removed]",
      "text/plain": [
       "<Figure size 576x396 with 1 Axes>"
      ]
     },
     "metadata": {},
     "output_type": "display_data"
    }
   ],
   "source": [
    "plot_model(best_model, plot='confusion_matrix')"
   ]
  },
  {
   "cell_type": "markdown",
   "id": "a439108b-7911-4384-b089-f7b31c825192",
   "metadata": {},
   "source": [
    "## Observations\n",
    "Here you can document some ideas on the results from above\n"
   ]
  },
  {
   "cell_type": "markdown",
   "id": "d2de91b5-a1e8-42a5-a087-8c31ff2e1db3",
   "metadata": {},
   "source": [
    "## Conclusions\n",
    "Here you can talk about next steps, did the experiment work? If yes, what to do next? If no, why?"
   ]
  }
 ],
 "metadata": {
  "kernelspec": {
   "display_name": "Python 3 (ipykernel)",
   "language": "python",
   "name": "python3"
  },
  "language_info": {
   "codemirror_mode": {
    "name": "ipython",
    "version": 3
   },
   "file_extension": ".py",
   "mimetype": "text/x-python",
   "name": "python",
   "nbconvert_exporter": "python",
   "pygments_lexer": "ipython3",
   "version": "3.8.5"
  }
 },
 "nbformat": 4,
 "nbformat_minor": 5
}
