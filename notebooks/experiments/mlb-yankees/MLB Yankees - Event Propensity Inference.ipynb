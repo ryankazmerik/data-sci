{
 "cells": [
  {
   "cell_type": "markdown",
   "id": "f38d7ac2",
   "metadata": {},
   "source": [
    "# Yankees - Event Propensity - Next Event Buyer Scoring\n",
    "* Ryan Kazmerik, Nakisa Rad, Joey Lai, Shawn Sutherland, Matt Bahler, Pat Faith\n",
    "* Feb 22, 2022"
   ]
  },
  {
   "cell_type": "code",
   "execution_count": null,
   "id": "95edfe94",
   "metadata": {},
   "outputs": [],
   "source": [
    "import boto3\n",
    "import json\n",
    "import pandas as pd\n",
    "import os\n",
    "\n",
    "from pycaret.classification import *\n",
    "\n",
    "boto3.setup_default_session(profile_name='Stellaralgo-DataScienceAdmin')"
   ]
  },
  {
   "cell_type": "code",
   "execution_count": null,
   "id": "3492d5c7",
   "metadata": {},
   "outputs": [],
   "source": [
    "def get_file_list(bucket):\n",
    "    \n",
    "    file_list = []\n",
    "    for object_summary in my_bucket.objects.filter(Prefix=\"hold/ml_data/game2022\"):\n",
    "        file_list.append(object_summary.key)\n",
    "\n",
    "    return file_list"
   ]
  },
  {
   "cell_type": "code",
   "execution_count": null,
   "id": "9601cea9",
   "metadata": {},
   "outputs": [],
   "source": [
    "def generate_dataframe(date, num):\n",
    "    \n",
    "    s3 = boto3.client('s3')\n",
    "    bucket = \"stellar-redshift-etl\"\n",
    "    key = f\"hold/ml_data/game{date}000{num}_part_00\"\n",
    "    \n",
    "    obj = s3.get_object(Bucket=bucket, Key=key)\n",
    "    df_prev_game = pd.read_csv(obj['Body'])\n",
    "    \n",
    "    df_prev_game[\"game date\"] = date\n",
    "    \n",
    "    return df_prev_game"
   ]
  },
  {
   "cell_type": "code",
   "execution_count": null,
   "id": "d9b8541a",
   "metadata": {},
   "outputs": [],
   "source": [
    "def get_scores(df_prev_game):\n",
    "    \n",
    "    for col in df_prev_game.columns:\n",
    "        if col != 'distanceToVenue':\n",
    "            df_prev_game[col].fillna(0, inplace=True)\n",
    "\n",
    "    saved_model= load_model('./models/MLB Yankees - Event Propensity (22Feb2022)')\n",
    "    \n",
    "    df_inference = predict_model(saved_model, data=df_prev_game, raw_score=True)\n",
    "\n",
    "    return df_inference"
   ]
  },
  {
   "cell_type": "code",
   "execution_count": null,
   "id": "7a5ba571",
   "metadata": {},
   "outputs": [],
   "source": [
    "def get_top_scores(df_inference):\n",
    "    \n",
    "    scoring_dict = df_inference.to_dict('records')\n",
    "    \n",
    "    max_dict = {}\n",
    "    for record in scoring_dict:\n",
    "        if record['dimCustomerMasterId'] not in max_dict:\n",
    "            max_dict[record['dimCustomerMasterId']] = 0\n",
    "    \n",
    "        if record['Score_1'] > max_dict[record['dimCustomerMasterId']]:\n",
    "            max_dict[record['dimCustomerMasterId']] = record['Score_1']\n",
    "        \n",
    "    top_scores = [{'id': k, 'score': v} for k, v in max_dict.items()]\n",
    "    top_scores.sort(key = lambda v: -v[\"score\"])\n",
    "\n",
    "    return top_scores"
   ]
  },
  {
   "cell_type": "code",
   "execution_count": null,
   "id": "bd3217de",
   "metadata": {},
   "outputs": [],
   "source": [
    "def export_scores(top_scores, date, num):\n",
    "    \n",
    "    df_max_scores = pd.DataFrame(top_scores)\n",
    "    \n",
    "    parent_dir = \"./results\"\n",
    "    directory = date\n",
    "    path = os.path.join(parent_dir, directory)\n",
    "    \n",
    "    if not os.path.exists(path):\n",
    "        os.makedirs(path)\n",
    "        \n",
    "    df_max_scores.to_csv(f\"{path}/{date}000{num}_part_00-results.csv\")"
   ]
  },
  {
   "cell_type": "markdown",
   "id": "0d43d349",
   "metadata": {},
   "source": [
    "### Main Function"
   ]
  },
  {
   "cell_type": "code",
   "execution_count": null,
   "id": "b4f50182",
   "metadata": {},
   "outputs": [],
   "source": [
    "s3 = boto3.resource('s3')\n",
    "my_bucket = s3.Bucket('stellar-redshift-etl')\n",
    "\n",
    "file_list = get_file_list(my_bucket)\n",
    "\n",
    "for filename in file_list:\n",
    "    \n",
    "    date = filename[17:27]\n",
    "    num = filename[30:31]\n",
    "    \n",
    "    df_prev_game = generate_dataframe(date, num)\n",
    "    df_inference = get_scores(df_prev_game)\n",
    "    top_scores = get_top_scores(df_inference)\n",
    "\n",
    "    export_scores(top_scores, date, num)\n",
    "    print(f\"Scores generated successfully: results/{date}/{date}000{num}_part_00\", end=\"\\n\\n\")    "
   ]
  }
 ],
 "metadata": {
  "kernelspec": {
   "display_name": "Python 3 (ipykernel)",
   "language": "python",
   "name": "python3"
  },
  "language_info": {
   "codemirror_mode": {
    "name": "ipython",
    "version": 3
   },
   "file_extension": ".py",
   "mimetype": "text/x-python",
   "name": "python",
   "nbconvert_exporter": "python",
   "pygments_lexer": "ipython3",
   "version": "3.8.5"
  }
 },
 "nbformat": 4,
 "nbformat_minor": 5
}
