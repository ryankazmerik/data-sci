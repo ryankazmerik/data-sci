{
 "cells": [
  {
   "cell_type": "markdown",
   "id": "c8064d8c",
   "metadata": {},
   "source": [
    "# Yankees - Event Propensity - Next Event Buyer\n",
    "* StelllarAlgo Data Science\n",
    "* Ryan Kazmerik, Nakisa Rad, Joey Lai, Shawn Sutherland, Matt Bahler, Pat Faith\n",
    "* Feb 09, 2022"
   ]
  },
  {
   "cell_type": "markdown",
   "id": "98c3bebf",
   "metadata": {},
   "source": [
    "## Hypothesis\n",
    "Each team has different tier (or quality) of games, based on day of the week, time of the season, opponent, etc. We think that by using previous buyer behaviour we can make a prediction on whether the fan will purchase for the next game or not."
   ]
  },
  {
   "cell_type": "markdown",
   "id": "43fb0935",
   "metadata": {},
   "source": [
    "## Experiment\n",
    "This section details our experiment including querying data, data transformations, feature selection and modelling."
   ]
  },
  {
   "cell_type": "code",
   "execution_count": null,
   "id": "d892e64e",
   "metadata": {},
   "outputs": [],
   "source": [
    "import getpass\n",
    "import matplotlib.pyplot as plt\n",
    "import pyodbc\n",
    "import pandas as pd\n",
    "import warnings\n",
    "\n",
    "from pycaret.classification import *\n",
    "\n",
    "warnings.filterwarnings('ignore')\n",
    "%config InlineBackend.figure_format = 'retina'"
   ]
  },
  {
   "cell_type": "code",
   "execution_count": null,
   "id": "14623413",
   "metadata": {},
   "outputs": [],
   "source": [
    "pip install pycaret==2.3.3"
   ]
  },
  {
   "cell_type": "markdown",
   "id": "09930610",
   "metadata": {},
   "source": [
    "### Let's connect to MSSQL and run a stored proc to get our dataset:"
   ]
  },
  {
   "cell_type": "code",
   "execution_count": null,
   "id": "814a3ef7",
   "metadata": {},
   "outputs": [],
   "source": [
    "# connect to SQL Server.\n",
    "SERVER = '54.164.224.129'  \n",
    "DATABASE = 'stlrYankees' \n",
    "USERNAME = 'dsAdminWrite' \n",
    "PASSWORD = getpass.getpass(prompt='Enter your password')\n",
    "CNXN = pyodbc.connect('DRIVER={ODBC Driver 17 for SQL Server};SERVER='+SERVER+';DATABASE='+DATABASE+';UID='+USERNAME+';PWD='+ PASSWORD)"
   ]
  },
  {
   "cell_type": "code",
   "execution_count": null,
   "id": "90abc68b",
   "metadata": {},
   "outputs": [],
   "source": [
    "cursor = CNXN.cursor()\n",
    "\n",
    "query =  f\"\"\"\n",
    "    select * FROM datascience.yankees.event_propensity_training_noFirstPurchases2\n",
    "    \"\"\"\n",
    "    \n",
    "df = pd.read_sql(query, CNXN)\n",
    "    \n",
    "CNXN.commit()\n",
    "cursor.close()"
   ]
  },
  {
   "cell_type": "code",
   "execution_count": null,
   "id": "902a4b86",
   "metadata": {},
   "outputs": [],
   "source": [
    "cor = df.corr()\n",
    "\n",
    "corr = df_correlated.corr()\n",
    "corr.style.background_gradient(cmap='coolwarm').set_precision(2)"
   ]
  },
  {
   "cell_type": "code",
   "execution_count": null,
   "id": "cf210d7b",
   "metadata": {},
   "outputs": [],
   "source": [
    "df.info()"
   ]
  },
  {
   "cell_type": "code",
   "execution_count": null,
   "id": "f990b76c",
   "metadata": {},
   "outputs": [],
   "source": [
    "#profile = ProfileReport(df, minimal=True)\n",
    "#profile.to_file(output_file=\"yankees_pandas_profile_events.html\")"
   ]
  },
  {
   "cell_type": "markdown",
   "id": "78af6209",
   "metadata": {},
   "source": [
    "### We should specify the features used in our model:"
   ]
  },
  {
   "cell_type": "code",
   "execution_count": null,
   "id": "ba22affe",
   "metadata": {},
   "outputs": [],
   "source": [
    "# copy your main dataframe\n",
    "df_dataset = df\n",
    "\n",
    "df_train = df_dataset.sample(frac=0.85, random_state=786)\n",
    "df_eval = df_dataset.drop(df_train.index)\n",
    "\n",
    "df_train.reset_index(drop=True)\n",
    "df_eval.reset_index(drop=True)\n",
    "\n",
    "# print out the number of records for training and eval\n",
    "print('Data for Modeling: ' + str(df_train.shape))\n",
    "print('Unseen Data For Predictions: ' + str(df_eval.shape), end=\"\\n\\n\")"
   ]
  },
  {
   "cell_type": "code",
   "execution_count": null,
   "id": "6f1ec07f",
   "metadata": {},
   "outputs": [],
   "source": [
    "df_train.head()"
   ]
  },
  {
   "cell_type": "markdown",
   "id": "d5072414",
   "metadata": {},
   "source": [
    "### Now we can model the data using a binary classification prediction for the target field to see how likely a customer is to purchase:"
   ]
  },
  {
   "cell_type": "code",
   "execution_count": null,
   "id": "e6b4ccb0",
   "metadata": {},
   "outputs": [],
   "source": [
    "setup(\n",
    "    data= df_train, \n",
    "    target=\"did_purchase\", \n",
    "    train_size = 0.80,\n",
    "    data_split_shuffle=True,\n",
    "    categorical_features=[\"inMarket\"],\n",
    "    date_features=[\"eventDate\"],\n",
    "    ignore_features=[\"dimCustomerMasterId\",\"minDaysOut\",\"maxDaysOut\"],\n",
    "    silent=True,\n",
    "    verbose=False,\n",
    "    numeric_features=[\n",
    "        \"distanceToVenue\",\n",
    "        \"events_purchased\",\n",
    "        \"frequency_eventDay\",\n",
    "        \"frequency_opponent\",\n",
    "        \"frequency_eventTime\",\n",
    "        \"recent_clickRate\",\n",
    "        \"recent_openRate\"\n",
    "    ]\n",
    ");"
   ]
  },
  {
   "cell_type": "code",
   "execution_count": null,
   "id": "bd663b4a",
   "metadata": {},
   "outputs": [],
   "source": [
    "model_matrix = compare_models(\n",
    "    fold=10,\n",
    "    include=[\"xgboost\"]\n",
    ")"
   ]
  },
  {
   "cell_type": "markdown",
   "id": "ac6ca7f8",
   "metadata": {},
   "source": [
    "### Let's load in our evaluation data and get propensity scores using the model:"
   ]
  },
  {
   "cell_type": "code",
   "execution_count": null,
   "id": "61fb0133",
   "metadata": {},
   "outputs": [],
   "source": [
    "df_inference = predict_model(final_model, data=df_eval, raw_score=True)\n",
    "df_inference.head()"
   ]
  },
  {
   "cell_type": "code",
   "execution_count": null,
   "id": "f2ffc9d2",
   "metadata": {},
   "outputs": [],
   "source": [
    "did_purchase = df_inference[\"Label\"].value_counts()[1]\n",
    "did_not_purchase = df_inference[\"Label\"].value_counts()[0]\n",
    "total_rows = df_inference[\"Label\"].count()\n",
    "purchase_percentage = round((did_purchase / total_rows), 2) * 100\n",
    "\n",
    "print(\"Would purchase:\", did_purchase)\n",
    "print(\"Would not purchase:\", did_not_purchase)\n",
    "print(\"Purchase percentage:\", purchase_percentage)"
   ]
  },
  {
   "cell_type": "markdown",
   "id": "a98e3f09",
   "metadata": {},
   "source": [
    "### Score_0 = Did Not Purchase, Score_1 = Did Purchase"
   ]
  },
  {
   "cell_type": "code",
   "execution_count": null,
   "id": "adddaf27",
   "metadata": {},
   "outputs": [],
   "source": [
    "df_inference.hist(column=['Score_0', 'Score_1'], figsize=(30,5), layout=(1,3));"
   ]
  },
  {
   "cell_type": "code",
   "execution_count": null,
   "id": "1282c989",
   "metadata": {},
   "outputs": [],
   "source": [
    "plot_model(best_model, plot='feature')"
   ]
  },
  {
   "cell_type": "code",
   "execution_count": null,
   "id": "23e8fb64",
   "metadata": {},
   "outputs": [],
   "source": [
    "plot_model(best_model, plot='confusion_matrix')"
   ]
  },
  {
   "cell_type": "markdown",
   "id": "78354a57",
   "metadata": {},
   "source": [
    "## Observations\n",
    "Here you can document some ideas on the results from above\n"
   ]
  },
  {
   "cell_type": "markdown",
   "id": "793a40e7",
   "metadata": {},
   "source": [
    "## Conclusions\n",
    "Here you can talk about next steps, did the experiment work? If yes, what to do next? If no, why?"
   ]
  }
 ],
 "metadata": {
  "kernelspec": {
   "display_name": "conda_python3",
   "language": "python",
   "name": "conda_python3"
  },
  "language_info": {
   "codemirror_mode": {
    "name": "ipython",
    "version": 3
   },
   "file_extension": ".py",
   "mimetype": "text/x-python",
   "name": "python",
   "nbconvert_exporter": "python",
   "pygments_lexer": "ipython3",
   "version": "3.6.13"
  }
 },
 "nbformat": 4,
 "nbformat_minor": 5
}
