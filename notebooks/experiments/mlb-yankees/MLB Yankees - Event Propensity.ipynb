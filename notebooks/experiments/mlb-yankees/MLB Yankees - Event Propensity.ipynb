{
 "cells": [
  {
   "cell_type": "markdown",
   "id": "3908e389",
   "metadata": {},
   "source": [
    "# Yankees - Event Propensity - Next Event Buyer Model\n",
    "* StellarAlgo Data Science\n",
    "* Ryan Kazmerik, Nakisa Rad, Joey Lai, Shawn Sutherland, Matt Bahler, Pat Faith\n",
    "* Feb 09, 2022"
   ]
  },
  {
   "cell_type": "markdown",
   "id": "f521757a",
   "metadata": {},
   "source": [
    "## Hypothesis\n",
    "Each team has different tier (or quality) of games, based on day of the week, time of the season, opponent, etc. We think that by using previous buyer behaviour we can make a prediction on whether the fan will purchase for the next game or not."
   ]
  },
  {
   "cell_type": "markdown",
   "id": "2d3c3ef3",
   "metadata": {},
   "source": [
    "## Experiment\n",
    "This section details our experiment including querying data, data transformations, feature selection and modelling."
   ]
  },
  {
   "cell_type": "code",
   "execution_count": 5,
   "id": "3ba83d58",
   "metadata": {},
   "outputs": [],
   "source": [
    "import getpass\n",
    "import matplotlib.pyplot as plt\n",
    "import pyodbc\n",
    "import pandas as pd\n",
    "import warnings\n",
    "\n",
    "from pycaret.classification import *\n",
    "\n",
    "warnings.filterwarnings('ignore')\n",
    "%config InlineBackend.figure_format = 'retina'"
   ]
  },
  {
   "cell_type": "markdown",
   "id": "151ce38d",
   "metadata": {},
   "source": [
    "### Let's connect to MSSQL and run a stored proc to get our dataset:"
   ]
  },
  {
   "cell_type": "code",
   "execution_count": null,
   "id": "550ae624",
   "metadata": {},
   "outputs": [],
   "source": [
    "# connect to SQL Server.\n",
    "SERVER = '54.164.224.129'  \n",
    "DATABASE = 'stlrYankees' \n",
    "USERNAME = 'dsAdminWrite' \n",
    "PASSWORD = getpass.getpass(prompt='Enter your password')\n",
    "CNXN = pyodbc.connect('DRIVER={ODBC Driver 17 for SQL Server};SERVER='+SERVER+';DATABASE='+DATABASE+';UID='+USERNAME+';PWD='+ PASSWORD)"
   ]
  },
  {
   "cell_type": "code",
   "execution_count": 3,
   "id": "649151a1",
   "metadata": {},
   "outputs": [],
   "source": [
    "cursor = CNXN.cursor()\n",
    "\n",
    "query = \"SELECT * FROM datascience.yankees.event_propensity_training_noFirstPurchases2\"\n",
    "    \n",
    "df = pd.read_sql(query, CNXN)\n",
    "    \n",
    "CNXN.commit()\n",
    "cursor.close()"
   ]
  },
  {
   "cell_type": "code",
   "execution_count": 4,
   "id": "f671a24f",
   "metadata": {},
   "outputs": [
    {
     "name": "stdout",
     "output_type": "stream",
     "text": [
      "<class 'pandas.core.frame.DataFrame'>\n",
      "RangeIndex: 266386 entries, 0 to 266385\n",
      "Data columns (total 16 columns):\n",
      " #   Column               Non-Null Count   Dtype         \n",
      "---  ------               --------------   -----         \n",
      " 0   daysOut              266386 non-null  object        \n",
      " 1   minDaysOut           266386 non-null  int64         \n",
      " 2   maxDaysOut           147819 non-null  float64       \n",
      " 3   dimCustomerMasterId  266386 non-null  int64         \n",
      " 4   recent_openRate      266386 non-null  float64       \n",
      " 5   recent_clickRate     266386 non-null  float64       \n",
      " 6   eventDate            266386 non-null  datetime64[ns]\n",
      " 7   eventName            266386 non-null  object        \n",
      " 8   inMarket             242800 non-null  object        \n",
      " 9   distanceToVenue      242800 non-null  float64       \n",
      " 10  tenure               266386 non-null  int64         \n",
      " 11  did_purchase         266386 non-null  int64         \n",
      " 12  events_purchased     266386 non-null  int64         \n",
      " 13  frequency_opponent   266386 non-null  float64       \n",
      " 14  frequency_eventDay   266386 non-null  float64       \n",
      " 15  frequency_eventTime  266386 non-null  float64       \n",
      "dtypes: datetime64[ns](1), float64(7), int64(5), object(3)\n",
      "memory usage: 32.5+ MB\n"
     ]
    }
   ],
   "source": [
    "df.info()"
   ]
  },
  {
   "cell_type": "markdown",
   "id": "1e18bbff",
   "metadata": {},
   "source": [
    "### We should create separate out some data for training the model and some for evaluating:"
   ]
  },
  {
   "cell_type": "code",
   "execution_count": 5,
   "id": "d1cc0277",
   "metadata": {},
   "outputs": [
    {
     "name": "stdout",
     "output_type": "stream",
     "text": [
      "Data for Modeling: (226428, 16)\n",
      "Unseen Data For Predictions: (39958, 16)\n",
      "\n",
      "<class 'pandas.core.frame.DataFrame'>\n",
      "Int64Index: 226428 entries, 158559 to 178255\n",
      "Data columns (total 16 columns):\n",
      " #   Column               Non-Null Count   Dtype         \n",
      "---  ------               --------------   -----         \n",
      " 0   daysOut              226428 non-null  object        \n",
      " 1   minDaysOut           226428 non-null  int64         \n",
      " 2   maxDaysOut           125558 non-null  float64       \n",
      " 3   dimCustomerMasterId  226428 non-null  int64         \n",
      " 4   recent_openRate      226428 non-null  float64       \n",
      " 5   recent_clickRate     226428 non-null  float64       \n",
      " 6   eventDate            226428 non-null  datetime64[ns]\n",
      " 7   eventName            226428 non-null  object        \n",
      " 8   inMarket             206404 non-null  object        \n",
      " 9   distanceToVenue      206404 non-null  float64       \n",
      " 10  tenure               226428 non-null  int64         \n",
      " 11  did_purchase         226428 non-null  int64         \n",
      " 12  events_purchased     226428 non-null  int64         \n",
      " 13  frequency_opponent   226428 non-null  float64       \n",
      " 14  frequency_eventDay   226428 non-null  float64       \n",
      " 15  frequency_eventTime  226428 non-null  float64       \n",
      "dtypes: datetime64[ns](1), float64(7), int64(5), object(3)\n",
      "memory usage: 29.4+ MB\n"
     ]
    }
   ],
   "source": [
    "# copy your main dataframe\n",
    "df_dataset = df\n",
    "\n",
    "df_train = df_dataset.sample(frac=0.85, random_state=786)\n",
    "df_eval = df_dataset.drop(df_train.index)\n",
    "\n",
    "df_train.reset_index(drop=True)\n",
    "df_eval.reset_index(drop=True)\n",
    "\n",
    "# print out the number of records for training and eval\n",
    "print('Data for Modeling: ' + str(df_train.shape))\n",
    "print('Unseen Data For Predictions: ' + str(df_eval.shape), end=\"\\n\\n\")\n",
    "\n",
    "df_train.info()"
   ]
  },
  {
   "cell_type": "markdown",
   "id": "cb77b700",
   "metadata": {},
   "source": [
    "### Now we can model the data using a binary classification prediction for the target field to see how likely a customer is to purchase:"
   ]
  },
  {
   "cell_type": "code",
   "execution_count": 6,
   "id": "7b149a3c",
   "metadata": {},
   "outputs": [],
   "source": [
    "setup(\n",
    "    data= df_train, \n",
    "    target=\"did_purchase\", \n",
    "    train_size = 0.80,\n",
    "    data_split_shuffle=True,\n",
    "    categorical_features=[\"inMarket\"],\n",
    "    date_features=[\"eventDate\"],\n",
    "    ignore_features=[\n",
    "        \"dimCustomerMasterId\",\n",
    "        \"eventName\",\n",
    "        \"minDaysOut\",\n",
    "        \"maxDaysOut\"\n",
    "    ],\n",
    "    silent=True,\n",
    "    verbose=False,\n",
    "    numeric_features=[\n",
    "        \"distanceToVenue\",\n",
    "        \"events_purchased\",\n",
    "        \"frequency_eventDay\",\n",
    "        \"frequency_opponent\",\n",
    "        \"frequency_eventTime\",\n",
    "        \"recent_clickRate\",\n",
    "        \"recent_openRate\",\n",
    "        \"tenure\"\n",
    "    ]\n",
    ");"
   ]
  },
  {
   "cell_type": "code",
   "execution_count": 7,
   "id": "edc32cdf",
   "metadata": {},
   "outputs": [
    {
     "data": {
      "text/html": [
       "<style  type=\"text/css\" >\n",
       "    #T_349c8_ th {\n",
       "          text-align: left;\n",
       "    }#T_349c8_row0_col0{\n",
       "            text-align:  left;\n",
       "            text-align:  left;\n",
       "        }#T_349c8_row0_col1,#T_349c8_row0_col2,#T_349c8_row0_col3,#T_349c8_row0_col4,#T_349c8_row0_col5,#T_349c8_row0_col6,#T_349c8_row0_col7{\n",
       "            text-align:  left;\n",
       "            text-align:  left;\n",
       "            background-color:  yellow;\n",
       "        }#T_349c8_row0_col8{\n",
       "            text-align:  left;\n",
       "            text-align:  left;\n",
       "            background-color:  yellow;\n",
       "            background-color:  lightgrey;\n",
       "        }</style><table id=\"T_349c8_\" ><thead>    <tr>        <th class=\"blank level0\" ></th>        <th class=\"col_heading level0 col0\" >Model</th>        <th class=\"col_heading level0 col1\" >Accuracy</th>        <th class=\"col_heading level0 col2\" >AUC</th>        <th class=\"col_heading level0 col3\" >Recall</th>        <th class=\"col_heading level0 col4\" >Prec.</th>        <th class=\"col_heading level0 col5\" >F1</th>        <th class=\"col_heading level0 col6\" >Kappa</th>        <th class=\"col_heading level0 col7\" >MCC</th>        <th class=\"col_heading level0 col8\" >TT (Sec)</th>    </tr></thead><tbody>\n",
       "                <tr>\n",
       "                        <th id=\"T_349c8_level0_row0\" class=\"row_heading level0 row0\" >lr</th>\n",
       "                        <td id=\"T_349c8_row0_col0\" class=\"data row0 col0\" >Logistic Regression</td>\n",
       "                        <td id=\"T_349c8_row0_col1\" class=\"data row0 col1\" >0.8017</td>\n",
       "                        <td id=\"T_349c8_row0_col2\" class=\"data row0 col2\" >0.8787</td>\n",
       "                        <td id=\"T_349c8_row0_col3\" class=\"data row0 col3\" >0.7834</td>\n",
       "                        <td id=\"T_349c8_row0_col4\" class=\"data row0 col4\" >0.8132</td>\n",
       "                        <td id=\"T_349c8_row0_col5\" class=\"data row0 col5\" >0.7980</td>\n",
       "                        <td id=\"T_349c8_row0_col6\" class=\"data row0 col6\" >0.6035</td>\n",
       "                        <td id=\"T_349c8_row0_col7\" class=\"data row0 col7\" >0.6039</td>\n",
       "                        <td id=\"T_349c8_row0_col8\" class=\"data row0 col8\" >4.9570</td>\n",
       "            </tr>\n",
       "    </tbody></table>"
      ],
      "text/plain": [
       "<pandas.io.formats.style.Styler at 0x7fe901985d50>"
      ]
     },
     "metadata": {},
     "output_type": "display_data"
    }
   ],
   "source": [
    "model_matrix = compare_models(\n",
    "    fold= 10, \n",
    "    include= [\"lr\"]\n",
    ")"
   ]
  },
  {
   "cell_type": "markdown",
   "id": "4c5c5641",
   "metadata": {},
   "source": [
    "### Let's choose the best performing model from our model matrix:"
   ]
  },
  {
   "cell_type": "code",
   "execution_count": 8,
   "id": "dced4d0b",
   "metadata": {},
   "outputs": [
    {
     "data": {
      "text/html": [
       "<style  type=\"text/css\" >\n",
       "#T_4a080_row10_col0,#T_4a080_row10_col1,#T_4a080_row10_col2,#T_4a080_row10_col3,#T_4a080_row10_col4,#T_4a080_row10_col5,#T_4a080_row10_col6{\n",
       "            background:  yellow;\n",
       "        }</style><table id=\"T_4a080_\" ><thead>    <tr>        <th class=\"blank level0\" ></th>        <th class=\"col_heading level0 col0\" >Accuracy</th>        <th class=\"col_heading level0 col1\" >AUC</th>        <th class=\"col_heading level0 col2\" >Recall</th>        <th class=\"col_heading level0 col3\" >Prec.</th>        <th class=\"col_heading level0 col4\" >F1</th>        <th class=\"col_heading level0 col5\" >Kappa</th>        <th class=\"col_heading level0 col6\" >MCC</th>    </tr></thead><tbody>\n",
       "                <tr>\n",
       "                        <th id=\"T_4a080_level0_row0\" class=\"row_heading level0 row0\" >0</th>\n",
       "                        <td id=\"T_4a080_row0_col0\" class=\"data row0 col0\" >0.8026</td>\n",
       "                        <td id=\"T_4a080_row0_col1\" class=\"data row0 col1\" >0.8780</td>\n",
       "                        <td id=\"T_4a080_row0_col2\" class=\"data row0 col2\" >0.7809</td>\n",
       "                        <td id=\"T_4a080_row0_col3\" class=\"data row0 col3\" >0.8163</td>\n",
       "                        <td id=\"T_4a080_row0_col4\" class=\"data row0 col4\" >0.7982</td>\n",
       "                        <td id=\"T_4a080_row0_col5\" class=\"data row0 col5\" >0.6052</td>\n",
       "                        <td id=\"T_4a080_row0_col6\" class=\"data row0 col6\" >0.6058</td>\n",
       "            </tr>\n",
       "            <tr>\n",
       "                        <th id=\"T_4a080_level0_row1\" class=\"row_heading level0 row1\" >1</th>\n",
       "                        <td id=\"T_4a080_row1_col0\" class=\"data row1 col0\" >0.8029</td>\n",
       "                        <td id=\"T_4a080_row1_col1\" class=\"data row1 col1\" >0.8796</td>\n",
       "                        <td id=\"T_4a080_row1_col2\" class=\"data row1 col2\" >0.7860</td>\n",
       "                        <td id=\"T_4a080_row1_col3\" class=\"data row1 col3\" >0.8134</td>\n",
       "                        <td id=\"T_4a080_row1_col4\" class=\"data row1 col4\" >0.7995</td>\n",
       "                        <td id=\"T_4a080_row1_col5\" class=\"data row1 col5\" >0.6057</td>\n",
       "                        <td id=\"T_4a080_row1_col6\" class=\"data row1 col6\" >0.6061</td>\n",
       "            </tr>\n",
       "            <tr>\n",
       "                        <th id=\"T_4a080_level0_row2\" class=\"row_heading level0 row2\" >2</th>\n",
       "                        <td id=\"T_4a080_row2_col0\" class=\"data row2 col0\" >0.7997</td>\n",
       "                        <td id=\"T_4a080_row2_col1\" class=\"data row2 col1\" >0.8777</td>\n",
       "                        <td id=\"T_4a080_row2_col2\" class=\"data row2 col2\" >0.7768</td>\n",
       "                        <td id=\"T_4a080_row2_col3\" class=\"data row2 col3\" >0.8140</td>\n",
       "                        <td id=\"T_4a080_row2_col4\" class=\"data row2 col4\" >0.7950</td>\n",
       "                        <td id=\"T_4a080_row2_col5\" class=\"data row2 col5\" >0.5993</td>\n",
       "                        <td id=\"T_4a080_row2_col6\" class=\"data row2 col6\" >0.5999</td>\n",
       "            </tr>\n",
       "            <tr>\n",
       "                        <th id=\"T_4a080_level0_row3\" class=\"row_heading level0 row3\" >3</th>\n",
       "                        <td id=\"T_4a080_row3_col0\" class=\"data row3 col0\" >0.8032</td>\n",
       "                        <td id=\"T_4a080_row3_col1\" class=\"data row3 col1\" >0.8802</td>\n",
       "                        <td id=\"T_4a080_row3_col2\" class=\"data row3 col2\" >0.7881</td>\n",
       "                        <td id=\"T_4a080_row3_col3\" class=\"data row3 col3\" >0.8127</td>\n",
       "                        <td id=\"T_4a080_row3_col4\" class=\"data row3 col4\" >0.8002</td>\n",
       "                        <td id=\"T_4a080_row3_col5\" class=\"data row3 col5\" >0.6065</td>\n",
       "                        <td id=\"T_4a080_row3_col6\" class=\"data row3 col6\" >0.6068</td>\n",
       "            </tr>\n",
       "            <tr>\n",
       "                        <th id=\"T_4a080_level0_row4\" class=\"row_heading level0 row4\" >4</th>\n",
       "                        <td id=\"T_4a080_row4_col0\" class=\"data row4 col0\" >0.7945</td>\n",
       "                        <td id=\"T_4a080_row4_col1\" class=\"data row4 col1\" >0.8759</td>\n",
       "                        <td id=\"T_4a080_row4_col2\" class=\"data row4 col2\" >0.7801</td>\n",
       "                        <td id=\"T_4a080_row4_col3\" class=\"data row4 col3\" >0.8031</td>\n",
       "                        <td id=\"T_4a080_row4_col4\" class=\"data row4 col4\" >0.7915</td>\n",
       "                        <td id=\"T_4a080_row4_col5\" class=\"data row4 col5\" >0.5889</td>\n",
       "                        <td id=\"T_4a080_row4_col6\" class=\"data row4 col6\" >0.5892</td>\n",
       "            </tr>\n",
       "            <tr>\n",
       "                        <th id=\"T_4a080_level0_row5\" class=\"row_heading level0 row5\" >5</th>\n",
       "                        <td id=\"T_4a080_row5_col0\" class=\"data row5 col0\" >0.7981</td>\n",
       "                        <td id=\"T_4a080_row5_col1\" class=\"data row5 col1\" >0.8752</td>\n",
       "                        <td id=\"T_4a080_row5_col2\" class=\"data row5 col2\" >0.7815</td>\n",
       "                        <td id=\"T_4a080_row5_col3\" class=\"data row5 col3\" >0.8082</td>\n",
       "                        <td id=\"T_4a080_row5_col4\" class=\"data row5 col4\" >0.7946</td>\n",
       "                        <td id=\"T_4a080_row5_col5\" class=\"data row5 col5\" >0.5961</td>\n",
       "                        <td id=\"T_4a080_row5_col6\" class=\"data row5 col6\" >0.5964</td>\n",
       "            </tr>\n",
       "            <tr>\n",
       "                        <th id=\"T_4a080_level0_row6\" class=\"row_heading level0 row6\" >6</th>\n",
       "                        <td id=\"T_4a080_row6_col0\" class=\"data row6 col0\" >0.8090</td>\n",
       "                        <td id=\"T_4a080_row6_col1\" class=\"data row6 col1\" >0.8819</td>\n",
       "                        <td id=\"T_4a080_row6_col2\" class=\"data row6 col2\" >0.7909</td>\n",
       "                        <td id=\"T_4a080_row6_col3\" class=\"data row6 col3\" >0.8205</td>\n",
       "                        <td id=\"T_4a080_row6_col4\" class=\"data row6 col4\" >0.8054</td>\n",
       "                        <td id=\"T_4a080_row6_col5\" class=\"data row6 col5\" >0.6180</td>\n",
       "                        <td id=\"T_4a080_row6_col6\" class=\"data row6 col6\" >0.6184</td>\n",
       "            </tr>\n",
       "            <tr>\n",
       "                        <th id=\"T_4a080_level0_row7\" class=\"row_heading level0 row7\" >7</th>\n",
       "                        <td id=\"T_4a080_row7_col0\" class=\"data row7 col0\" >0.8066</td>\n",
       "                        <td id=\"T_4a080_row7_col1\" class=\"data row7 col1\" >0.8836</td>\n",
       "                        <td id=\"T_4a080_row7_col2\" class=\"data row7 col2\" >0.7846</td>\n",
       "                        <td id=\"T_4a080_row7_col3\" class=\"data row7 col3\" >0.8206</td>\n",
       "                        <td id=\"T_4a080_row7_col4\" class=\"data row7 col4\" >0.8022</td>\n",
       "                        <td id=\"T_4a080_row7_col5\" class=\"data row7 col5\" >0.6132</td>\n",
       "                        <td id=\"T_4a080_row7_col6\" class=\"data row7 col6\" >0.6138</td>\n",
       "            </tr>\n",
       "            <tr>\n",
       "                        <th id=\"T_4a080_level0_row8\" class=\"row_heading level0 row8\" >8</th>\n",
       "                        <td id=\"T_4a080_row8_col0\" class=\"data row8 col0\" >0.7989</td>\n",
       "                        <td id=\"T_4a080_row8_col1\" class=\"data row8 col1\" >0.8760</td>\n",
       "                        <td id=\"T_4a080_row8_col2\" class=\"data row8 col2\" >0.7798</td>\n",
       "                        <td id=\"T_4a080_row8_col3\" class=\"data row8 col3\" >0.8107</td>\n",
       "                        <td id=\"T_4a080_row8_col4\" class=\"data row8 col4\" >0.7949</td>\n",
       "                        <td id=\"T_4a080_row8_col5\" class=\"data row8 col5\" >0.5978</td>\n",
       "                        <td id=\"T_4a080_row8_col6\" class=\"data row8 col6\" >0.5982</td>\n",
       "            </tr>\n",
       "            <tr>\n",
       "                        <th id=\"T_4a080_level0_row9\" class=\"row_heading level0 row9\" >9</th>\n",
       "                        <td id=\"T_4a080_row9_col0\" class=\"data row9 col0\" >0.8020</td>\n",
       "                        <td id=\"T_4a080_row9_col1\" class=\"data row9 col1\" >0.8789</td>\n",
       "                        <td id=\"T_4a080_row9_col2\" class=\"data row9 col2\" >0.7853</td>\n",
       "                        <td id=\"T_4a080_row9_col3\" class=\"data row9 col3\" >0.8124</td>\n",
       "                        <td id=\"T_4a080_row9_col4\" class=\"data row9 col4\" >0.7986</td>\n",
       "                        <td id=\"T_4a080_row9_col5\" class=\"data row9 col5\" >0.6041</td>\n",
       "                        <td id=\"T_4a080_row9_col6\" class=\"data row9 col6\" >0.6044</td>\n",
       "            </tr>\n",
       "            <tr>\n",
       "                        <th id=\"T_4a080_level0_row10\" class=\"row_heading level0 row10\" >Mean</th>\n",
       "                        <td id=\"T_4a080_row10_col0\" class=\"data row10 col0\" >0.8017</td>\n",
       "                        <td id=\"T_4a080_row10_col1\" class=\"data row10 col1\" >0.8787</td>\n",
       "                        <td id=\"T_4a080_row10_col2\" class=\"data row10 col2\" >0.7834</td>\n",
       "                        <td id=\"T_4a080_row10_col3\" class=\"data row10 col3\" >0.8132</td>\n",
       "                        <td id=\"T_4a080_row10_col4\" class=\"data row10 col4\" >0.7980</td>\n",
       "                        <td id=\"T_4a080_row10_col5\" class=\"data row10 col5\" >0.6035</td>\n",
       "                        <td id=\"T_4a080_row10_col6\" class=\"data row10 col6\" >0.6039</td>\n",
       "            </tr>\n",
       "            <tr>\n",
       "                        <th id=\"T_4a080_level0_row11\" class=\"row_heading level0 row11\" >SD</th>\n",
       "                        <td id=\"T_4a080_row11_col0\" class=\"data row11 col0\" >0.0040</td>\n",
       "                        <td id=\"T_4a080_row11_col1\" class=\"data row11 col1\" >0.0026</td>\n",
       "                        <td id=\"T_4a080_row11_col2\" class=\"data row11 col2\" >0.0041</td>\n",
       "                        <td id=\"T_4a080_row11_col3\" class=\"data row11 col3\" >0.0050</td>\n",
       "                        <td id=\"T_4a080_row11_col4\" class=\"data row11 col4\" >0.0039</td>\n",
       "                        <td id=\"T_4a080_row11_col5\" class=\"data row11 col5\" >0.0080</td>\n",
       "                        <td id=\"T_4a080_row11_col6\" class=\"data row11 col6\" >0.0080</td>\n",
       "            </tr>\n",
       "    </tbody></table>"
      ],
      "text/plain": [
       "<pandas.io.formats.style.Styler at 0x7fe8f9b8fb10>"
      ]
     },
     "metadata": {},
     "output_type": "display_data"
    }
   ],
   "source": [
    "best_model = create_model(\n",
    "    model_matrix, \n",
    "    fold= 10\n",
    ")"
   ]
  }
 ],
 "metadata": {
  "kernelspec": {
   "display_name": "Python 3 (ipykernel)",
   "language": "python",
   "name": "python3"
  },
  "language_info": {
   "codemirror_mode": {
    "name": "ipython",
    "version": 3
   },
   "file_extension": ".py",
   "mimetype": "text/x-python",
   "name": "python",
   "nbconvert_exporter": "python",
   "pygments_lexer": "ipython3",
   "version": "3.8.5"
  }
 },
 "nbformat": 4,
 "nbformat_minor": 5
}
