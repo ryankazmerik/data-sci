{
 "cells": [
  {
   "cell_type": "markdown",
   "id": "6ee08766-25fd-4da1-91b8-b0c3e74db588",
   "metadata": {},
   "source": [
    "# Yankees - Event Propensity - Next Event Buyer\n",
    "* StelllarAlgo Data Science\n",
    "* Ryan Kazmerik, Nakisa Rad, Joey Lai, Shawn Sutherland, Matt Bahler, Pat Faith\n",
    "* Feb 09, 2022"
   ]
  },
  {
   "cell_type": "markdown",
   "id": "39108c8d-2e9f-4759-ade2-83071038dc56",
   "metadata": {},
   "source": [
    "## Hypothesis\n",
    "Each team has different tier (or quality) of games, based on day of the week, time of the season, opponent, etc. We think that by using previous buyer behaviour we can make a prediction on whether the fan will purchase for the next game or not."
   ]
  },
  {
   "cell_type": "markdown",
   "id": "28142011-1f32-4cc7-816b-a6dae6f70c8c",
   "metadata": {},
   "source": [
    "## Experiment\n",
    "This section details our experiment including querying data, data transformations, feature selection and modelling."
   ]
  },
  {
   "cell_type": "code",
   "execution_count": 3,
   "id": "4c533efd-600e-4bce-8203-faffbddfa700",
   "metadata": {},
   "outputs": [],
   "source": [
    "import getpass\n",
    "import matplotlib.pyplot as plt\n",
    "import pyodbc\n",
    "import pandas as pd\n",
    "import warnings\n",
    "\n",
    "from pandas_profiling import ProfileReport\n",
    "from pycaret.classification import *\n",
    "\n",
    "warnings.filterwarnings('ignore')"
   ]
  },
  {
   "cell_type": "markdown",
   "id": "b64ae7d5-84af-4915-bd13-1dd9d17098a3",
   "metadata": {},
   "source": [
    "### Let's connect to MSSQL and run a stored proc to get our dataset:"
   ]
  },
  {
   "cell_type": "code",
   "execution_count": 4,
   "id": "ae561eb4-f419-4d46-b5e0-12fac9b10db8",
   "metadata": {},
   "outputs": [
    {
     "name": "stdin",
     "output_type": "stream",
     "text": [
      "Enter your password ·····················\n"
     ]
    }
   ],
   "source": [
    "# connect to SQL Server.\n",
    "SERVER = '54.164.224.129'  \n",
    "DATABASE = 'stlrRays' \n",
    "USERNAME = 'nrad' \n",
    "PASSWORD = getpass.getpass(prompt='Enter your password')\n",
    "CNXN = pyodbc.connect('DRIVER={ODBC Driver 17 for SQL Server};SERVER='+SERVER+';DATABASE='+DATABASE+';UID='+USERNAME+';PWD='+ PASSWORD)"
   ]
  },
  {
   "cell_type": "code",
   "execution_count": 11,
   "id": "af1afe7d-a35b-494b-88f3-980fb0e3da30",
   "metadata": {},
   "outputs": [],
   "source": [
    "cursor = CNXN.cursor()\n",
    "\n",
    "query =  f\"\"\"\n",
    "    SELECT\n",
    "        daysOut,\n",
    "        dimCustomerMasterId,\n",
    "        recent_openRate,\n",
    "        recent_clickRate,\n",
    "        eventDate,\n",
    "        inMarket,\n",
    "        distanceToVenue,\n",
    "        tenure,\n",
    "        did_purchase,\n",
    "        events_purchased,\n",
    "        frequency_opponent,\n",
    "        frequency_eventDay,\n",
    "        frequency_eventTime\n",
    "    FROM DataScience.yankees.event_propensity_training\n",
    "    \"\"\"\n",
    "    \n",
    "df = pd.read_sql(query, CNXN)\n",
    "    \n",
    "CNXN.commit()\n",
    "cursor.close()"
   ]
  },
  {
   "cell_type": "code",
   "execution_count": 12,
   "id": "11e97dcc-c69e-46c1-8dad-33f6291cb0c6",
   "metadata": {},
   "outputs": [
    {
     "name": "stdout",
     "output_type": "stream",
     "text": [
      "<class 'pandas.core.frame.DataFrame'>\n",
      "RangeIndex: 341266 entries, 0 to 341265\n",
      "Data columns (total 13 columns):\n",
      " #   Column               Non-Null Count   Dtype         \n",
      "---  ------               --------------   -----         \n",
      " 0   daysOut              341266 non-null  object        \n",
      " 1   dimCustomerMasterId  341266 non-null  int64         \n",
      " 2   recent_openRate      341266 non-null  float64       \n",
      " 3   recent_clickRate     341266 non-null  float64       \n",
      " 4   eventDate            341266 non-null  datetime64[ns]\n",
      " 5   inMarket             299741 non-null  object        \n",
      " 6   distanceToVenue      299741 non-null  float64       \n",
      " 7   tenure               341266 non-null  int64         \n",
      " 8   did_purchase         341266 non-null  int64         \n",
      " 9   events_purchased     341266 non-null  int64         \n",
      " 10  frequency_opponent   341266 non-null  float64       \n",
      " 11  frequency_eventDay   341266 non-null  float64       \n",
      " 12  frequency_eventTime  341266 non-null  float64       \n",
      "dtypes: datetime64[ns](1), float64(6), int64(4), object(2)\n",
      "memory usage: 33.8+ MB\n"
     ]
    }
   ],
   "source": [
    "df.info()"
   ]
  },
  {
   "cell_type": "code",
   "execution_count": 13,
   "id": "0ea5e4c8-583c-42c0-9ef8-a7ffa632da45",
   "metadata": {},
   "outputs": [
    {
     "data": {
      "application/vnd.jupyter.widget-view+json": {
       "model_id": "d2b827846b934e41b663caea10eff04c",
       "version_major": 2,
       "version_minor": 0
      },
      "text/plain": [
       "Summarize dataset:   0%|          | 0/21 [00:00<?, ?it/s]"
      ]
     },
     "metadata": {},
     "output_type": "display_data"
    },
    {
     "data": {
      "application/vnd.jupyter.widget-view+json": {
       "model_id": "a60c9d99693843a99cadf2504b0f767b",
       "version_major": 2,
       "version_minor": 0
      },
      "text/plain": [
       "Generate report structure:   0%|          | 0/1 [00:00<?, ?it/s]"
      ]
     },
     "metadata": {},
     "output_type": "display_data"
    },
    {
     "data": {
      "application/vnd.jupyter.widget-view+json": {
       "model_id": "d79100b1a16a48e5a84e0e57ee3a79cb",
       "version_major": 2,
       "version_minor": 0
      },
      "text/plain": [
       "Render HTML:   0%|          | 0/1 [00:00<?, ?it/s]"
      ]
     },
     "metadata": {},
     "output_type": "display_data"
    },
    {
     "data": {
      "application/vnd.jupyter.widget-view+json": {
       "model_id": "b65e69126aac4355b44ce8b73c0800f2",
       "version_major": 2,
       "version_minor": 0
      },
      "text/plain": [
       "Export report to file:   0%|          | 0/1 [00:00<?, ?it/s]"
      ]
     },
     "metadata": {},
     "output_type": "display_data"
    }
   ],
   "source": [
    "profile = ProfileReport(df, minimal=True)\n",
    "profile.to_file(output_file=\"yankees_pandas_profile_events.html\")"
   ]
  },
  {
   "cell_type": "markdown",
   "id": "ab40da92-72a7-49c1-9829-ed3805a39719",
   "metadata": {},
   "source": [
    "### We should specify the features used in our model:"
   ]
  },
  {
   "cell_type": "code",
   "execution_count": 14,
   "id": "788f1273-8b7a-46bd-a099-1a471feeacc5",
   "metadata": {},
   "outputs": [
    {
     "name": "stdout",
     "output_type": "stream",
     "text": [
      "Data for Modeling: (290076, 13)\n",
      "Unseen Data For Predictions: (51190, 13)\n",
      "\n"
     ]
    }
   ],
   "source": [
    "# copy your main dataframe\n",
    "df_dataset = df\n",
    "\n",
    "df_train = df_dataset.sample(frac=0.85, random_state=786)\n",
    "df_eval = df_dataset.drop(df_train.index)\n",
    "\n",
    "df_train.reset_index(drop=True)\n",
    "df_eval.reset_index(drop=True)\n",
    "\n",
    "# print out the number of records for training and eval\n",
    "print('Data for Modeling: ' + str(df_train.shape))\n",
    "print('Unseen Data For Predictions: ' + str(df_eval.shape), end=\"\\n\\n\")"
   ]
  },
  {
   "cell_type": "code",
   "execution_count": 15,
   "id": "c13ccf6c-c182-4fa5-abb9-3bd20f93cfb6",
   "metadata": {},
   "outputs": [
    {
     "data": {
      "text/html": [
       "<div>\n",
       "<style scoped>\n",
       "    .dataframe tbody tr th:only-of-type {\n",
       "        vertical-align: middle;\n",
       "    }\n",
       "\n",
       "    .dataframe tbody tr th {\n",
       "        vertical-align: top;\n",
       "    }\n",
       "\n",
       "    .dataframe thead th {\n",
       "        text-align: right;\n",
       "    }\n",
       "</style>\n",
       "<table border=\"1\" class=\"dataframe\">\n",
       "  <thead>\n",
       "    <tr style=\"text-align: right;\">\n",
       "      <th></th>\n",
       "      <th>daysOut</th>\n",
       "      <th>dimCustomerMasterId</th>\n",
       "      <th>recent_openRate</th>\n",
       "      <th>recent_clickRate</th>\n",
       "      <th>eventDate</th>\n",
       "      <th>inMarket</th>\n",
       "      <th>distanceToVenue</th>\n",
       "      <th>tenure</th>\n",
       "      <th>did_purchase</th>\n",
       "      <th>events_purchased</th>\n",
       "      <th>frequency_opponent</th>\n",
       "      <th>frequency_eventDay</th>\n",
       "      <th>frequency_eventTime</th>\n",
       "    </tr>\n",
       "  </thead>\n",
       "  <tbody>\n",
       "    <tr>\n",
       "      <th>141211</th>\n",
       "      <td>4 to 7 Days Out</td>\n",
       "      <td>23861648</td>\n",
       "      <td>0.0</td>\n",
       "      <td>0.0</td>\n",
       "      <td>2019-09-20</td>\n",
       "      <td>True</td>\n",
       "      <td>47.50</td>\n",
       "      <td>0</td>\n",
       "      <td>1</td>\n",
       "      <td>3</td>\n",
       "      <td>0.00</td>\n",
       "      <td>0.000000</td>\n",
       "      <td>0.000000</td>\n",
       "    </tr>\n",
       "    <tr>\n",
       "      <th>124283</th>\n",
       "      <td>4 to 7 Days Out</td>\n",
       "      <td>3067056</td>\n",
       "      <td>0.0</td>\n",
       "      <td>0.0</td>\n",
       "      <td>2019-09-18</td>\n",
       "      <td>None</td>\n",
       "      <td>NaN</td>\n",
       "      <td>461</td>\n",
       "      <td>0</td>\n",
       "      <td>123</td>\n",
       "      <td>0.00</td>\n",
       "      <td>0.000000</td>\n",
       "      <td>0.014085</td>\n",
       "    </tr>\n",
       "    <tr>\n",
       "      <th>216305</th>\n",
       "      <td>Over a Week</td>\n",
       "      <td>700267</td>\n",
       "      <td>0.0</td>\n",
       "      <td>0.0</td>\n",
       "      <td>2019-09-03</td>\n",
       "      <td>True</td>\n",
       "      <td>9.54</td>\n",
       "      <td>444</td>\n",
       "      <td>0</td>\n",
       "      <td>118</td>\n",
       "      <td>0.00</td>\n",
       "      <td>0.000000</td>\n",
       "      <td>0.000000</td>\n",
       "    </tr>\n",
       "    <tr>\n",
       "      <th>226455</th>\n",
       "      <td>Over a Week</td>\n",
       "      <td>1055646</td>\n",
       "      <td>0.0</td>\n",
       "      <td>0.0</td>\n",
       "      <td>2017-08-01</td>\n",
       "      <td>False</td>\n",
       "      <td>3263.22</td>\n",
       "      <td>92</td>\n",
       "      <td>0</td>\n",
       "      <td>36</td>\n",
       "      <td>0.00</td>\n",
       "      <td>0.166667</td>\n",
       "      <td>0.041667</td>\n",
       "    </tr>\n",
       "    <tr>\n",
       "      <th>269684</th>\n",
       "      <td>Over a Week</td>\n",
       "      <td>2009681</td>\n",
       "      <td>0.0</td>\n",
       "      <td>0.0</td>\n",
       "      <td>2019-06-11</td>\n",
       "      <td>True</td>\n",
       "      <td>30.32</td>\n",
       "      <td>415</td>\n",
       "      <td>1</td>\n",
       "      <td>103</td>\n",
       "      <td>0.25</td>\n",
       "      <td>0.066667</td>\n",
       "      <td>0.000000</td>\n",
       "    </tr>\n",
       "  </tbody>\n",
       "</table>\n",
       "</div>"
      ],
      "text/plain": [
       "                daysOut  dimCustomerMasterId  recent_openRate  \\\n",
       "141211  4 to 7 Days Out             23861648              0.0   \n",
       "124283  4 to 7 Days Out              3067056              0.0   \n",
       "216305      Over a Week               700267              0.0   \n",
       "226455      Over a Week              1055646              0.0   \n",
       "269684      Over a Week              2009681              0.0   \n",
       "\n",
       "        recent_clickRate  eventDate inMarket  distanceToVenue  tenure  \\\n",
       "141211               0.0 2019-09-20     True            47.50       0   \n",
       "124283               0.0 2019-09-18     None              NaN     461   \n",
       "216305               0.0 2019-09-03     True             9.54     444   \n",
       "226455               0.0 2017-08-01    False          3263.22      92   \n",
       "269684               0.0 2019-06-11     True            30.32     415   \n",
       "\n",
       "        did_purchase  events_purchased  frequency_opponent  \\\n",
       "141211             1                 3                0.00   \n",
       "124283             0               123                0.00   \n",
       "216305             0               118                0.00   \n",
       "226455             0                36                0.00   \n",
       "269684             1               103                0.25   \n",
       "\n",
       "        frequency_eventDay  frequency_eventTime  \n",
       "141211            0.000000             0.000000  \n",
       "124283            0.000000             0.014085  \n",
       "216305            0.000000             0.000000  \n",
       "226455            0.166667             0.041667  \n",
       "269684            0.066667             0.000000  "
      ]
     },
     "execution_count": 15,
     "metadata": {},
     "output_type": "execute_result"
    }
   ],
   "source": [
    "df_train.head()"
   ]
  },
  {
   "cell_type": "markdown",
   "id": "4f2da06d-9015-49fd-89b3-956c2ebf66e9",
   "metadata": {},
   "source": [
    "### Now we can model the data using a binary classification prediction for the target field to see how likely a customer is to purchase:"
   ]
  },
  {
   "cell_type": "code",
   "execution_count": 22,
   "id": "23a69cdc-b3ec-48c8-9ce5-29f617779389",
   "metadata": {},
   "outputs": [],
   "source": [
    "setup(\n",
    "    data= df_train, \n",
    "    target=\"did_purchase\", \n",
    "    train_size = 0.80,\n",
    "    data_split_shuffle=True,\n",
    "    categorical_features=[\"daysOut\", \"inMarket\"],\n",
    "    date_features=[\"eventDate\"],\n",
    "    ignore_features=[\"dimCustomerMasterId\"],\n",
    "    silent=True,\n",
    "    verbose=False,\n",
    "    numeric_features=[\n",
    "        \"distanceToVenue\",\n",
    "        \"events_purchased\",\n",
    "        \"frequency_eventDay\",\n",
    "        \"frequency_opponent\",\n",
    "        \"frequency_eventTime\",\n",
    "        \"recent_clickRate\",\n",
    "        \"recent_openRate\",\n",
    "        \"tenure\"\n",
    "    ]\n",
    ");"
   ]
  },
  {
   "cell_type": "code",
   "execution_count": 24,
   "id": "ef2db9d2-02c2-45c0-b6bb-5cad42c373ce",
   "metadata": {},
   "outputs": [
    {
     "data": {
      "text/html": [
       "<style  type=\"text/css\" >\n",
       "    #T_dfda0_ th {\n",
       "          text-align: left;\n",
       "    }#T_dfda0_row0_col0,#T_dfda0_row0_col4,#T_dfda0_row1_col0,#T_dfda0_row1_col1,#T_dfda0_row1_col2,#T_dfda0_row1_col3,#T_dfda0_row1_col4,#T_dfda0_row1_col5,#T_dfda0_row1_col6,#T_dfda0_row1_col7,#T_dfda0_row2_col0,#T_dfda0_row2_col1,#T_dfda0_row2_col2,#T_dfda0_row2_col3,#T_dfda0_row2_col4,#T_dfda0_row2_col5,#T_dfda0_row2_col6,#T_dfda0_row2_col7,#T_dfda0_row3_col0,#T_dfda0_row3_col1,#T_dfda0_row3_col2,#T_dfda0_row3_col3,#T_dfda0_row3_col5,#T_dfda0_row3_col6,#T_dfda0_row3_col7,#T_dfda0_row4_col0,#T_dfda0_row4_col1,#T_dfda0_row4_col2,#T_dfda0_row4_col3,#T_dfda0_row4_col4,#T_dfda0_row4_col5,#T_dfda0_row4_col6,#T_dfda0_row4_col7,#T_dfda0_row5_col0,#T_dfda0_row5_col1,#T_dfda0_row5_col2,#T_dfda0_row5_col3,#T_dfda0_row5_col4,#T_dfda0_row5_col5,#T_dfda0_row5_col6,#T_dfda0_row5_col7,#T_dfda0_row6_col0,#T_dfda0_row6_col1,#T_dfda0_row6_col2,#T_dfda0_row6_col3,#T_dfda0_row6_col4,#T_dfda0_row6_col5,#T_dfda0_row6_col6,#T_dfda0_row6_col7,#T_dfda0_row7_col0,#T_dfda0_row7_col1,#T_dfda0_row7_col2,#T_dfda0_row7_col3,#T_dfda0_row7_col4,#T_dfda0_row7_col5,#T_dfda0_row7_col6,#T_dfda0_row7_col7,#T_dfda0_row8_col0,#T_dfda0_row8_col1,#T_dfda0_row8_col2,#T_dfda0_row8_col3,#T_dfda0_row8_col4,#T_dfda0_row8_col5,#T_dfda0_row8_col6,#T_dfda0_row8_col7,#T_dfda0_row9_col0,#T_dfda0_row9_col1,#T_dfda0_row9_col2,#T_dfda0_row9_col3,#T_dfda0_row9_col4,#T_dfda0_row9_col5,#T_dfda0_row9_col6,#T_dfda0_row9_col7,#T_dfda0_row10_col0,#T_dfda0_row10_col1,#T_dfda0_row10_col2,#T_dfda0_row10_col3,#T_dfda0_row10_col4,#T_dfda0_row10_col5,#T_dfda0_row10_col6,#T_dfda0_row10_col7,#T_dfda0_row11_col0,#T_dfda0_row11_col1,#T_dfda0_row11_col2,#T_dfda0_row11_col3,#T_dfda0_row11_col4,#T_dfda0_row11_col5,#T_dfda0_row11_col6,#T_dfda0_row11_col7,#T_dfda0_row12_col0,#T_dfda0_row12_col1,#T_dfda0_row12_col2,#T_dfda0_row12_col3,#T_dfda0_row12_col4,#T_dfda0_row12_col5,#T_dfda0_row12_col6,#T_dfda0_row12_col7,#T_dfda0_row13_col0,#T_dfda0_row13_col1,#T_dfda0_row13_col2,#T_dfda0_row13_col3,#T_dfda0_row13_col4,#T_dfda0_row13_col5,#T_dfda0_row13_col6,#T_dfda0_row13_col7{\n",
       "            text-align:  left;\n",
       "            text-align:  left;\n",
       "        }#T_dfda0_row0_col1,#T_dfda0_row0_col2,#T_dfda0_row0_col3,#T_dfda0_row0_col5,#T_dfda0_row0_col6,#T_dfda0_row0_col7,#T_dfda0_row3_col4{\n",
       "            text-align:  left;\n",
       "            text-align:  left;\n",
       "            background-color:  yellow;\n",
       "        }#T_dfda0_row0_col8,#T_dfda0_row1_col8,#T_dfda0_row2_col8,#T_dfda0_row3_col8,#T_dfda0_row4_col8,#T_dfda0_row5_col8,#T_dfda0_row6_col8,#T_dfda0_row7_col8,#T_dfda0_row8_col8,#T_dfda0_row9_col8,#T_dfda0_row10_col8,#T_dfda0_row11_col8,#T_dfda0_row12_col8{\n",
       "            text-align:  left;\n",
       "            text-align:  left;\n",
       "            background-color:  lightgrey;\n",
       "        }#T_dfda0_row13_col8{\n",
       "            text-align:  left;\n",
       "            text-align:  left;\n",
       "            background-color:  yellow;\n",
       "            background-color:  lightgrey;\n",
       "        }</style><table id=\"T_dfda0_\" ><thead>    <tr>        <th class=\"blank level0\" ></th>        <th class=\"col_heading level0 col0\" >Model</th>        <th class=\"col_heading level0 col1\" >Accuracy</th>        <th class=\"col_heading level0 col2\" >AUC</th>        <th class=\"col_heading level0 col3\" >Recall</th>        <th class=\"col_heading level0 col4\" >Prec.</th>        <th class=\"col_heading level0 col5\" >F1</th>        <th class=\"col_heading level0 col6\" >Kappa</th>        <th class=\"col_heading level0 col7\" >MCC</th>        <th class=\"col_heading level0 col8\" >TT (Sec)</th>    </tr></thead><tbody>\n",
       "                <tr>\n",
       "                        <th id=\"T_dfda0_level0_row0\" class=\"row_heading level0 row0\" >xgboost</th>\n",
       "                        <td id=\"T_dfda0_row0_col0\" class=\"data row0 col0\" >Extreme Gradient Boosting</td>\n",
       "                        <td id=\"T_dfda0_row0_col1\" class=\"data row0 col1\" >0.9096</td>\n",
       "                        <td id=\"T_dfda0_row0_col2\" class=\"data row0 col2\" >0.9684</td>\n",
       "                        <td id=\"T_dfda0_row0_col3\" class=\"data row0 col3\" >0.8830</td>\n",
       "                        <td id=\"T_dfda0_row0_col4\" class=\"data row0 col4\" >0.9327</td>\n",
       "                        <td id=\"T_dfda0_row0_col5\" class=\"data row0 col5\" >0.9072</td>\n",
       "                        <td id=\"T_dfda0_row0_col6\" class=\"data row0 col6\" >0.8193</td>\n",
       "                        <td id=\"T_dfda0_row0_col7\" class=\"data row0 col7\" >0.8205</td>\n",
       "                        <td id=\"T_dfda0_row0_col8\" class=\"data row0 col8\" >6.3240</td>\n",
       "            </tr>\n",
       "            <tr>\n",
       "                        <th id=\"T_dfda0_level0_row1\" class=\"row_heading level0 row1\" >lightgbm</th>\n",
       "                        <td id=\"T_dfda0_row1_col0\" class=\"data row1 col0\" >Light Gradient Boosting Machine</td>\n",
       "                        <td id=\"T_dfda0_row1_col1\" class=\"data row1 col1\" >0.9080</td>\n",
       "                        <td id=\"T_dfda0_row1_col2\" class=\"data row1 col2\" >0.9677</td>\n",
       "                        <td id=\"T_dfda0_row1_col3\" class=\"data row1 col3\" >0.8798</td>\n",
       "                        <td id=\"T_dfda0_row1_col4\" class=\"data row1 col4\" >0.9324</td>\n",
       "                        <td id=\"T_dfda0_row1_col5\" class=\"data row1 col5\" >0.9053</td>\n",
       "                        <td id=\"T_dfda0_row1_col6\" class=\"data row1 col6\" >0.8159</td>\n",
       "                        <td id=\"T_dfda0_row1_col7\" class=\"data row1 col7\" >0.8172</td>\n",
       "                        <td id=\"T_dfda0_row1_col8\" class=\"data row1 col8\" >1.2770</td>\n",
       "            </tr>\n",
       "            <tr>\n",
       "                        <th id=\"T_dfda0_level0_row2\" class=\"row_heading level0 row2\" >rf</th>\n",
       "                        <td id=\"T_dfda0_row2_col0\" class=\"data row2 col0\" >Random Forest Classifier</td>\n",
       "                        <td id=\"T_dfda0_row2_col1\" class=\"data row2 col1\" >0.9073</td>\n",
       "                        <td id=\"T_dfda0_row2_col2\" class=\"data row2 col2\" >0.9649</td>\n",
       "                        <td id=\"T_dfda0_row2_col3\" class=\"data row2 col3\" >0.8805</td>\n",
       "                        <td id=\"T_dfda0_row2_col4\" class=\"data row2 col4\" >0.9304</td>\n",
       "                        <td id=\"T_dfda0_row2_col5\" class=\"data row2 col5\" >0.9048</td>\n",
       "                        <td id=\"T_dfda0_row2_col6\" class=\"data row2 col6\" >0.8147</td>\n",
       "                        <td id=\"T_dfda0_row2_col7\" class=\"data row2 col7\" >0.8159</td>\n",
       "                        <td id=\"T_dfda0_row2_col8\" class=\"data row2 col8\" >6.6090</td>\n",
       "            </tr>\n",
       "            <tr>\n",
       "                        <th id=\"T_dfda0_level0_row3\" class=\"row_heading level0 row3\" >gbc</th>\n",
       "                        <td id=\"T_dfda0_row3_col0\" class=\"data row3 col0\" >Gradient Boosting Classifier</td>\n",
       "                        <td id=\"T_dfda0_row3_col1\" class=\"data row3 col1\" >0.9020</td>\n",
       "                        <td id=\"T_dfda0_row3_col2\" class=\"data row3 col2\" >0.9637</td>\n",
       "                        <td id=\"T_dfda0_row3_col3\" class=\"data row3 col3\" >0.8649</td>\n",
       "                        <td id=\"T_dfda0_row3_col4\" class=\"data row3 col4\" >0.9342</td>\n",
       "                        <td id=\"T_dfda0_row3_col5\" class=\"data row3 col5\" >0.8982</td>\n",
       "                        <td id=\"T_dfda0_row3_col6\" class=\"data row3 col6\" >0.8040</td>\n",
       "                        <td id=\"T_dfda0_row3_col7\" class=\"data row3 col7\" >0.8062</td>\n",
       "                        <td id=\"T_dfda0_row3_col8\" class=\"data row3 col8\" >8.4450</td>\n",
       "            </tr>\n",
       "            <tr>\n",
       "                        <th id=\"T_dfda0_level0_row4\" class=\"row_heading level0 row4\" >et</th>\n",
       "                        <td id=\"T_dfda0_row4_col0\" class=\"data row4 col0\" >Extra Trees Classifier</td>\n",
       "                        <td id=\"T_dfda0_row4_col1\" class=\"data row4 col1\" >0.8978</td>\n",
       "                        <td id=\"T_dfda0_row4_col2\" class=\"data row4 col2\" >0.9603</td>\n",
       "                        <td id=\"T_dfda0_row4_col3\" class=\"data row4 col3\" >0.8782</td>\n",
       "                        <td id=\"T_dfda0_row4_col4\" class=\"data row4 col4\" >0.9140</td>\n",
       "                        <td id=\"T_dfda0_row4_col5\" class=\"data row4 col5\" >0.8958</td>\n",
       "                        <td id=\"T_dfda0_row4_col6\" class=\"data row4 col6\" >0.7956</td>\n",
       "                        <td id=\"T_dfda0_row4_col7\" class=\"data row4 col7\" >0.7962</td>\n",
       "                        <td id=\"T_dfda0_row4_col8\" class=\"data row4 col8\" >8.6170</td>\n",
       "            </tr>\n",
       "            <tr>\n",
       "                        <th id=\"T_dfda0_level0_row5\" class=\"row_heading level0 row5\" >ada</th>\n",
       "                        <td id=\"T_dfda0_row5_col0\" class=\"data row5 col0\" >Ada Boost Classifier</td>\n",
       "                        <td id=\"T_dfda0_row5_col1\" class=\"data row5 col1\" >0.8934</td>\n",
       "                        <td id=\"T_dfda0_row5_col2\" class=\"data row5 col2\" >0.9575</td>\n",
       "                        <td id=\"T_dfda0_row5_col3\" class=\"data row5 col3\" >0.8542</td>\n",
       "                        <td id=\"T_dfda0_row5_col4\" class=\"data row5 col4\" >0.9269</td>\n",
       "                        <td id=\"T_dfda0_row5_col5\" class=\"data row5 col5\" >0.8891</td>\n",
       "                        <td id=\"T_dfda0_row5_col6\" class=\"data row5 col6\" >0.7869</td>\n",
       "                        <td id=\"T_dfda0_row5_col7\" class=\"data row5 col7\" >0.7893</td>\n",
       "                        <td id=\"T_dfda0_row5_col8\" class=\"data row5 col8\" >1.8890</td>\n",
       "            </tr>\n",
       "            <tr>\n",
       "                        <th id=\"T_dfda0_level0_row6\" class=\"row_heading level0 row6\" >knn</th>\n",
       "                        <td id=\"T_dfda0_row6_col0\" class=\"data row6 col0\" >K Neighbors Classifier</td>\n",
       "                        <td id=\"T_dfda0_row6_col1\" class=\"data row6 col1\" >0.8232</td>\n",
       "                        <td id=\"T_dfda0_row6_col2\" class=\"data row6 col2\" >0.9002</td>\n",
       "                        <td id=\"T_dfda0_row6_col3\" class=\"data row6 col3\" >0.7972</td>\n",
       "                        <td id=\"T_dfda0_row6_col4\" class=\"data row6 col4\" >0.8409</td>\n",
       "                        <td id=\"T_dfda0_row6_col5\" class=\"data row6 col5\" >0.8185</td>\n",
       "                        <td id=\"T_dfda0_row6_col6\" class=\"data row6 col6\" >0.6464</td>\n",
       "                        <td id=\"T_dfda0_row6_col7\" class=\"data row6 col7\" >0.6473</td>\n",
       "                        <td id=\"T_dfda0_row6_col8\" class=\"data row6 col8\" >3.3490</td>\n",
       "            </tr>\n",
       "            <tr>\n",
       "                        <th id=\"T_dfda0_level0_row7\" class=\"row_heading level0 row7\" >lr</th>\n",
       "                        <td id=\"T_dfda0_row7_col0\" class=\"data row7 col0\" >Logistic Regression</td>\n",
       "                        <td id=\"T_dfda0_row7_col1\" class=\"data row7 col1\" >0.7995</td>\n",
       "                        <td id=\"T_dfda0_row7_col2\" class=\"data row7 col2\" >0.8740</td>\n",
       "                        <td id=\"T_dfda0_row7_col3\" class=\"data row7 col3\" >0.8178</td>\n",
       "                        <td id=\"T_dfda0_row7_col4\" class=\"data row7 col4\" >0.7889</td>\n",
       "                        <td id=\"T_dfda0_row7_col5\" class=\"data row7 col5\" >0.8031</td>\n",
       "                        <td id=\"T_dfda0_row7_col6\" class=\"data row7 col6\" >0.5989</td>\n",
       "                        <td id=\"T_dfda0_row7_col7\" class=\"data row7 col7\" >0.5994</td>\n",
       "                        <td id=\"T_dfda0_row7_col8\" class=\"data row7 col8\" >4.5810</td>\n",
       "            </tr>\n",
       "            <tr>\n",
       "                        <th id=\"T_dfda0_level0_row8\" class=\"row_heading level0 row8\" >lda</th>\n",
       "                        <td id=\"T_dfda0_row8_col0\" class=\"data row8 col0\" >Linear Discriminant Analysis</td>\n",
       "                        <td id=\"T_dfda0_row8_col1\" class=\"data row8 col1\" >0.7966</td>\n",
       "                        <td id=\"T_dfda0_row8_col2\" class=\"data row8 col2\" >0.8705</td>\n",
       "                        <td id=\"T_dfda0_row8_col3\" class=\"data row8 col3\" >0.8150</td>\n",
       "                        <td id=\"T_dfda0_row8_col4\" class=\"data row8 col4\" >0.7861</td>\n",
       "                        <td id=\"T_dfda0_row8_col5\" class=\"data row8 col5\" >0.8003</td>\n",
       "                        <td id=\"T_dfda0_row8_col6\" class=\"data row8 col6\" >0.5933</td>\n",
       "                        <td id=\"T_dfda0_row8_col7\" class=\"data row8 col7\" >0.5937</td>\n",
       "                        <td id=\"T_dfda0_row8_col8\" class=\"data row8 col8\" >0.5080</td>\n",
       "            </tr>\n",
       "            <tr>\n",
       "                        <th id=\"T_dfda0_level0_row9\" class=\"row_heading level0 row9\" >dt</th>\n",
       "                        <td id=\"T_dfda0_row9_col0\" class=\"data row9 col0\" >Decision Tree Classifier</td>\n",
       "                        <td id=\"T_dfda0_row9_col1\" class=\"data row9 col1\" >0.8684</td>\n",
       "                        <td id=\"T_dfda0_row9_col2\" class=\"data row9 col2\" >0.8683</td>\n",
       "                        <td id=\"T_dfda0_row9_col3\" class=\"data row9 col3\" >0.8732</td>\n",
       "                        <td id=\"T_dfda0_row9_col4\" class=\"data row9 col4\" >0.8649</td>\n",
       "                        <td id=\"T_dfda0_row9_col5\" class=\"data row9 col5\" >0.8690</td>\n",
       "                        <td id=\"T_dfda0_row9_col6\" class=\"data row9 col6\" >0.7367</td>\n",
       "                        <td id=\"T_dfda0_row9_col7\" class=\"data row9 col7\" >0.7368</td>\n",
       "                        <td id=\"T_dfda0_row9_col8\" class=\"data row9 col8\" >0.3790</td>\n",
       "            </tr>\n",
       "            <tr>\n",
       "                        <th id=\"T_dfda0_level0_row10\" class=\"row_heading level0 row10\" >nb</th>\n",
       "                        <td id=\"T_dfda0_row10_col0\" class=\"data row10 col0\" >Naive Bayes</td>\n",
       "                        <td id=\"T_dfda0_row10_col1\" class=\"data row10 col1\" >0.7218</td>\n",
       "                        <td id=\"T_dfda0_row10_col2\" class=\"data row10 col2\" >0.8435</td>\n",
       "                        <td id=\"T_dfda0_row10_col3\" class=\"data row10 col3\" >0.5514</td>\n",
       "                        <td id=\"T_dfda0_row10_col4\" class=\"data row10 col4\" >0.8364</td>\n",
       "                        <td id=\"T_dfda0_row10_col5\" class=\"data row10 col5\" >0.6644</td>\n",
       "                        <td id=\"T_dfda0_row10_col6\" class=\"data row10 col6\" >0.4435</td>\n",
       "                        <td id=\"T_dfda0_row10_col7\" class=\"data row10 col7\" >0.4718</td>\n",
       "                        <td id=\"T_dfda0_row10_col8\" class=\"data row10 col8\" >0.1020</td>\n",
       "            </tr>\n",
       "            <tr>\n",
       "                        <th id=\"T_dfda0_level0_row11\" class=\"row_heading level0 row11\" >qda</th>\n",
       "                        <td id=\"T_dfda0_row11_col0\" class=\"data row11 col0\" >Quadratic Discriminant Analysis</td>\n",
       "                        <td id=\"T_dfda0_row11_col1\" class=\"data row11 col1\" >0.5172</td>\n",
       "                        <td id=\"T_dfda0_row11_col2\" class=\"data row11 col2\" >0.5173</td>\n",
       "                        <td id=\"T_dfda0_row11_col3\" class=\"data row11 col3\" >0.5055</td>\n",
       "                        <td id=\"T_dfda0_row11_col4\" class=\"data row11 col4\" >0.5280</td>\n",
       "                        <td id=\"T_dfda0_row11_col5\" class=\"data row11 col5\" >0.4930</td>\n",
       "                        <td id=\"T_dfda0_row11_col6\" class=\"data row11 col6\" >0.0345</td>\n",
       "                        <td id=\"T_dfda0_row11_col7\" class=\"data row11 col7\" >0.0380</td>\n",
       "                        <td id=\"T_dfda0_row11_col8\" class=\"data row11 col8\" >0.4080</td>\n",
       "            </tr>\n",
       "            <tr>\n",
       "                        <th id=\"T_dfda0_level0_row12\" class=\"row_heading level0 row12\" >svm</th>\n",
       "                        <td id=\"T_dfda0_row12_col0\" class=\"data row12 col0\" >SVM - Linear Kernel</td>\n",
       "                        <td id=\"T_dfda0_row12_col1\" class=\"data row12 col1\" >0.7323</td>\n",
       "                        <td id=\"T_dfda0_row12_col2\" class=\"data row12 col2\" >0.0000</td>\n",
       "                        <td id=\"T_dfda0_row12_col3\" class=\"data row12 col3\" >0.7011</td>\n",
       "                        <td id=\"T_dfda0_row12_col4\" class=\"data row12 col4\" >0.7690</td>\n",
       "                        <td id=\"T_dfda0_row12_col5\" class=\"data row12 col5\" >0.7171</td>\n",
       "                        <td id=\"T_dfda0_row12_col6\" class=\"data row12 col6\" >0.4645</td>\n",
       "                        <td id=\"T_dfda0_row12_col7\" class=\"data row12 col7\" >0.4819</td>\n",
       "                        <td id=\"T_dfda0_row12_col8\" class=\"data row12 col8\" >2.5440</td>\n",
       "            </tr>\n",
       "            <tr>\n",
       "                        <th id=\"T_dfda0_level0_row13\" class=\"row_heading level0 row13\" >ridge</th>\n",
       "                        <td id=\"T_dfda0_row13_col0\" class=\"data row13 col0\" >Ridge Classifier</td>\n",
       "                        <td id=\"T_dfda0_row13_col1\" class=\"data row13 col1\" >0.7966</td>\n",
       "                        <td id=\"T_dfda0_row13_col2\" class=\"data row13 col2\" >0.0000</td>\n",
       "                        <td id=\"T_dfda0_row13_col3\" class=\"data row13 col3\" >0.8150</td>\n",
       "                        <td id=\"T_dfda0_row13_col4\" class=\"data row13 col4\" >0.7861</td>\n",
       "                        <td id=\"T_dfda0_row13_col5\" class=\"data row13 col5\" >0.8003</td>\n",
       "                        <td id=\"T_dfda0_row13_col6\" class=\"data row13 col6\" >0.5933</td>\n",
       "                        <td id=\"T_dfda0_row13_col7\" class=\"data row13 col7\" >0.5937</td>\n",
       "                        <td id=\"T_dfda0_row13_col8\" class=\"data row13 col8\" >0.0920</td>\n",
       "            </tr>\n",
       "    </tbody></table>"
      ],
      "text/plain": [
       "<pandas.io.formats.style.Styler at 0x7ff051e35710>"
      ]
     },
     "metadata": {},
     "output_type": "display_data"
    }
   ],
   "source": [
    "model_matrix = compare_models(\n",
    "    fold=10,\n",
    "    #include=[\"lightgbm\",\"xgboost\"]\n",
    "    sort=\"auc\"\n",
    ")"
   ]
  },
  {
   "cell_type": "code",
   "execution_count": 25,
   "id": "d9f030ed-4b6a-4a87-a01e-129dc49e0d4a",
   "metadata": {},
   "outputs": [
    {
     "data": {
      "text/html": [
       "<style  type=\"text/css\" >\n",
       "#T_a6a9b_row10_col0,#T_a6a9b_row10_col1,#T_a6a9b_row10_col2,#T_a6a9b_row10_col3,#T_a6a9b_row10_col4,#T_a6a9b_row10_col5,#T_a6a9b_row10_col6{\n",
       "            background:  yellow;\n",
       "        }</style><table id=\"T_a6a9b_\" ><thead>    <tr>        <th class=\"blank level0\" ></th>        <th class=\"col_heading level0 col0\" >Accuracy</th>        <th class=\"col_heading level0 col1\" >AUC</th>        <th class=\"col_heading level0 col2\" >Recall</th>        <th class=\"col_heading level0 col3\" >Prec.</th>        <th class=\"col_heading level0 col4\" >F1</th>        <th class=\"col_heading level0 col5\" >Kappa</th>        <th class=\"col_heading level0 col6\" >MCC</th>    </tr></thead><tbody>\n",
       "                <tr>\n",
       "                        <th id=\"T_a6a9b_level0_row0\" class=\"row_heading level0 row0\" >0</th>\n",
       "                        <td id=\"T_a6a9b_row0_col0\" class=\"data row0 col0\" >0.9128</td>\n",
       "                        <td id=\"T_a6a9b_row0_col1\" class=\"data row0 col1\" >0.9691</td>\n",
       "                        <td id=\"T_a6a9b_row0_col2\" class=\"data row0 col2\" >0.8838</td>\n",
       "                        <td id=\"T_a6a9b_row0_col3\" class=\"data row0 col3\" >0.9382</td>\n",
       "                        <td id=\"T_a6a9b_row0_col4\" class=\"data row0 col4\" >0.9102</td>\n",
       "                        <td id=\"T_a6a9b_row0_col5\" class=\"data row0 col5\" >0.8256</td>\n",
       "                        <td id=\"T_a6a9b_row0_col6\" class=\"data row0 col6\" >0.8269</td>\n",
       "            </tr>\n",
       "            <tr>\n",
       "                        <th id=\"T_a6a9b_level0_row1\" class=\"row_heading level0 row1\" >1</th>\n",
       "                        <td id=\"T_a6a9b_row1_col0\" class=\"data row1 col0\" >0.9086</td>\n",
       "                        <td id=\"T_a6a9b_row1_col1\" class=\"data row1 col1\" >0.9673</td>\n",
       "                        <td id=\"T_a6a9b_row1_col2\" class=\"data row1 col2\" >0.8830</td>\n",
       "                        <td id=\"T_a6a9b_row1_col3\" class=\"data row1 col3\" >0.9307</td>\n",
       "                        <td id=\"T_a6a9b_row1_col4\" class=\"data row1 col4\" >0.9062</td>\n",
       "                        <td id=\"T_a6a9b_row1_col5\" class=\"data row1 col5\" >0.8173</td>\n",
       "                        <td id=\"T_a6a9b_row1_col6\" class=\"data row1 col6\" >0.8184</td>\n",
       "            </tr>\n",
       "            <tr>\n",
       "                        <th id=\"T_a6a9b_level0_row2\" class=\"row_heading level0 row2\" >2</th>\n",
       "                        <td id=\"T_a6a9b_row2_col0\" class=\"data row2 col0\" >0.9107</td>\n",
       "                        <td id=\"T_a6a9b_row2_col1\" class=\"data row2 col1\" >0.9696</td>\n",
       "                        <td id=\"T_a6a9b_row2_col2\" class=\"data row2 col2\" >0.8815</td>\n",
       "                        <td id=\"T_a6a9b_row2_col3\" class=\"data row2 col3\" >0.9361</td>\n",
       "                        <td id=\"T_a6a9b_row2_col4\" class=\"data row2 col4\" >0.9080</td>\n",
       "                        <td id=\"T_a6a9b_row2_col5\" class=\"data row2 col5\" >0.8213</td>\n",
       "                        <td id=\"T_a6a9b_row2_col6\" class=\"data row2 col6\" >0.8227</td>\n",
       "            </tr>\n",
       "            <tr>\n",
       "                        <th id=\"T_a6a9b_level0_row3\" class=\"row_heading level0 row3\" >3</th>\n",
       "                        <td id=\"T_a6a9b_row3_col0\" class=\"data row3 col0\" >0.9099</td>\n",
       "                        <td id=\"T_a6a9b_row3_col1\" class=\"data row3 col1\" >0.9680</td>\n",
       "                        <td id=\"T_a6a9b_row3_col2\" class=\"data row3 col2\" >0.8844</td>\n",
       "                        <td id=\"T_a6a9b_row3_col3\" class=\"data row3 col3\" >0.9318</td>\n",
       "                        <td id=\"T_a6a9b_row3_col4\" class=\"data row3 col4\" >0.9075</td>\n",
       "                        <td id=\"T_a6a9b_row3_col5\" class=\"data row3 col5\" >0.8197</td>\n",
       "                        <td id=\"T_a6a9b_row3_col6\" class=\"data row3 col6\" >0.8208</td>\n",
       "            </tr>\n",
       "            <tr>\n",
       "                        <th id=\"T_a6a9b_level0_row4\" class=\"row_heading level0 row4\" >4</th>\n",
       "                        <td id=\"T_a6a9b_row4_col0\" class=\"data row4 col0\" >0.9092</td>\n",
       "                        <td id=\"T_a6a9b_row4_col1\" class=\"data row4 col1\" >0.9687</td>\n",
       "                        <td id=\"T_a6a9b_row4_col2\" class=\"data row4 col2\" >0.8817</td>\n",
       "                        <td id=\"T_a6a9b_row4_col3\" class=\"data row4 col3\" >0.9329</td>\n",
       "                        <td id=\"T_a6a9b_row4_col4\" class=\"data row4 col4\" >0.9066</td>\n",
       "                        <td id=\"T_a6a9b_row4_col5\" class=\"data row4 col5\" >0.8183</td>\n",
       "                        <td id=\"T_a6a9b_row4_col6\" class=\"data row4 col6\" >0.8196</td>\n",
       "            </tr>\n",
       "            <tr>\n",
       "                        <th id=\"T_a6a9b_level0_row5\" class=\"row_heading level0 row5\" >5</th>\n",
       "                        <td id=\"T_a6a9b_row5_col0\" class=\"data row5 col0\" >0.9114</td>\n",
       "                        <td id=\"T_a6a9b_row5_col1\" class=\"data row5 col1\" >0.9690</td>\n",
       "                        <td id=\"T_a6a9b_row5_col2\" class=\"data row5 col2\" >0.8843</td>\n",
       "                        <td id=\"T_a6a9b_row5_col3\" class=\"data row5 col3\" >0.9350</td>\n",
       "                        <td id=\"T_a6a9b_row5_col4\" class=\"data row5 col4\" >0.9089</td>\n",
       "                        <td id=\"T_a6a9b_row5_col5\" class=\"data row5 col5\" >0.8228</td>\n",
       "                        <td id=\"T_a6a9b_row5_col6\" class=\"data row5 col6\" >0.8240</td>\n",
       "            </tr>\n",
       "            <tr>\n",
       "                        <th id=\"T_a6a9b_level0_row6\" class=\"row_heading level0 row6\" >6</th>\n",
       "                        <td id=\"T_a6a9b_row6_col0\" class=\"data row6 col0\" >0.9086</td>\n",
       "                        <td id=\"T_a6a9b_row6_col1\" class=\"data row6 col1\" >0.9685</td>\n",
       "                        <td id=\"T_a6a9b_row6_col2\" class=\"data row6 col2\" >0.8855</td>\n",
       "                        <td id=\"T_a6a9b_row6_col3\" class=\"data row6 col3\" >0.9284</td>\n",
       "                        <td id=\"T_a6a9b_row6_col4\" class=\"data row6 col4\" >0.9065</td>\n",
       "                        <td id=\"T_a6a9b_row6_col5\" class=\"data row6 col5\" >0.8173</td>\n",
       "                        <td id=\"T_a6a9b_row6_col6\" class=\"data row6 col6\" >0.8182</td>\n",
       "            </tr>\n",
       "            <tr>\n",
       "                        <th id=\"T_a6a9b_level0_row7\" class=\"row_heading level0 row7\" >7</th>\n",
       "                        <td id=\"T_a6a9b_row7_col0\" class=\"data row7 col0\" >0.9099</td>\n",
       "                        <td id=\"T_a6a9b_row7_col1\" class=\"data row7 col1\" >0.9690</td>\n",
       "                        <td id=\"T_a6a9b_row7_col2\" class=\"data row7 col2\" >0.8824</td>\n",
       "                        <td id=\"T_a6a9b_row7_col3\" class=\"data row7 col3\" >0.9338</td>\n",
       "                        <td id=\"T_a6a9b_row7_col4\" class=\"data row7 col4\" >0.9073</td>\n",
       "                        <td id=\"T_a6a9b_row7_col5\" class=\"data row7 col5\" >0.8198</td>\n",
       "                        <td id=\"T_a6a9b_row7_col6\" class=\"data row7 col6\" >0.8210</td>\n",
       "            </tr>\n",
       "            <tr>\n",
       "                        <th id=\"T_a6a9b_level0_row8\" class=\"row_heading level0 row8\" >8</th>\n",
       "                        <td id=\"T_a6a9b_row8_col0\" class=\"data row8 col0\" >0.9050</td>\n",
       "                        <td id=\"T_a6a9b_row8_col1\" class=\"data row8 col1\" >0.9662</td>\n",
       "                        <td id=\"T_a6a9b_row8_col2\" class=\"data row8 col2\" >0.8781</td>\n",
       "                        <td id=\"T_a6a9b_row8_col3\" class=\"data row8 col3\" >0.9280</td>\n",
       "                        <td id=\"T_a6a9b_row8_col4\" class=\"data row8 col4\" >0.9024</td>\n",
       "                        <td id=\"T_a6a9b_row8_col5\" class=\"data row8 col5\" >0.8100</td>\n",
       "                        <td id=\"T_a6a9b_row8_col6\" class=\"data row8 col6\" >0.8112</td>\n",
       "            </tr>\n",
       "            <tr>\n",
       "                        <th id=\"T_a6a9b_level0_row9\" class=\"row_heading level0 row9\" >9</th>\n",
       "                        <td id=\"T_a6a9b_row9_col0\" class=\"data row9 col0\" >0.9103</td>\n",
       "                        <td id=\"T_a6a9b_row9_col1\" class=\"data row9 col1\" >0.9683</td>\n",
       "                        <td id=\"T_a6a9b_row9_col2\" class=\"data row9 col2\" >0.8850</td>\n",
       "                        <td id=\"T_a6a9b_row9_col3\" class=\"data row9 col3\" >0.9322</td>\n",
       "                        <td id=\"T_a6a9b_row9_col4\" class=\"data row9 col4\" >0.9080</td>\n",
       "                        <td id=\"T_a6a9b_row9_col5\" class=\"data row9 col5\" >0.8206</td>\n",
       "                        <td id=\"T_a6a9b_row9_col6\" class=\"data row9 col6\" >0.8217</td>\n",
       "            </tr>\n",
       "            <tr>\n",
       "                        <th id=\"T_a6a9b_level0_row10\" class=\"row_heading level0 row10\" >Mean</th>\n",
       "                        <td id=\"T_a6a9b_row10_col0\" class=\"data row10 col0\" >0.9096</td>\n",
       "                        <td id=\"T_a6a9b_row10_col1\" class=\"data row10 col1\" >0.9684</td>\n",
       "                        <td id=\"T_a6a9b_row10_col2\" class=\"data row10 col2\" >0.8830</td>\n",
       "                        <td id=\"T_a6a9b_row10_col3\" class=\"data row10 col3\" >0.9327</td>\n",
       "                        <td id=\"T_a6a9b_row10_col4\" class=\"data row10 col4\" >0.9072</td>\n",
       "                        <td id=\"T_a6a9b_row10_col5\" class=\"data row10 col5\" >0.8193</td>\n",
       "                        <td id=\"T_a6a9b_row10_col6\" class=\"data row10 col6\" >0.8205</td>\n",
       "            </tr>\n",
       "            <tr>\n",
       "                        <th id=\"T_a6a9b_level0_row11\" class=\"row_heading level0 row11\" >SD</th>\n",
       "                        <td id=\"T_a6a9b_row11_col0\" class=\"data row11 col0\" >0.0020</td>\n",
       "                        <td id=\"T_a6a9b_row11_col1\" class=\"data row11 col1\" >0.0009</td>\n",
       "                        <td id=\"T_a6a9b_row11_col2\" class=\"data row11 col2\" >0.0021</td>\n",
       "                        <td id=\"T_a6a9b_row11_col3\" class=\"data row11 col3\" >0.0030</td>\n",
       "                        <td id=\"T_a6a9b_row11_col4\" class=\"data row11 col4\" >0.0019</td>\n",
       "                        <td id=\"T_a6a9b_row11_col5\" class=\"data row11 col5\" >0.0039</td>\n",
       "                        <td id=\"T_a6a9b_row11_col6\" class=\"data row11 col6\" >0.0040</td>\n",
       "            </tr>\n",
       "    </tbody></table>"
      ],
      "text/plain": [
       "<pandas.io.formats.style.Styler at 0x7ff05739d390>"
      ]
     },
     "metadata": {},
     "output_type": "display_data"
    }
   ],
   "source": [
    "best_model = create_model(model_matrix)\n",
    "final_model = finalize_model(best_model)"
   ]
  },
  {
   "cell_type": "markdown",
   "id": "3aab9021-4462-423a-8e3c-fbe1f36c6110",
   "metadata": {},
   "source": [
    "### Let's load in our evaluation data and get propensity scores using the model:"
   ]
  },
  {
   "cell_type": "code",
   "execution_count": 27,
   "id": "745b62fb-fb2e-4b4a-9c48-8ce4de472a83",
   "metadata": {},
   "outputs": [
    {
     "data": {
      "text/html": [
       "<div>\n",
       "<style scoped>\n",
       "    .dataframe tbody tr th:only-of-type {\n",
       "        vertical-align: middle;\n",
       "    }\n",
       "\n",
       "    .dataframe tbody tr th {\n",
       "        vertical-align: top;\n",
       "    }\n",
       "\n",
       "    .dataframe thead th {\n",
       "        text-align: right;\n",
       "    }\n",
       "</style>\n",
       "<table border=\"1\" class=\"dataframe\">\n",
       "  <thead>\n",
       "    <tr style=\"text-align: right;\">\n",
       "      <th></th>\n",
       "      <th>daysOut</th>\n",
       "      <th>dimCustomerMasterId</th>\n",
       "      <th>recent_openRate</th>\n",
       "      <th>recent_clickRate</th>\n",
       "      <th>eventDate</th>\n",
       "      <th>inMarket</th>\n",
       "      <th>distanceToVenue</th>\n",
       "      <th>tenure</th>\n",
       "      <th>did_purchase</th>\n",
       "      <th>events_purchased</th>\n",
       "      <th>frequency_opponent</th>\n",
       "      <th>frequency_eventDay</th>\n",
       "      <th>frequency_eventTime</th>\n",
       "      <th>Label</th>\n",
       "      <th>Score_0</th>\n",
       "      <th>Score_1</th>\n",
       "    </tr>\n",
       "  </thead>\n",
       "  <tbody>\n",
       "    <tr>\n",
       "      <th>8</th>\n",
       "      <td>1 to 3 Days Out</td>\n",
       "      <td>3654</td>\n",
       "      <td>0.0</td>\n",
       "      <td>0.000000</td>\n",
       "      <td>2018-05-09</td>\n",
       "      <td>True</td>\n",
       "      <td>81.90</td>\n",
       "      <td>364</td>\n",
       "      <td>0</td>\n",
       "      <td>84</td>\n",
       "      <td>0.000000</td>\n",
       "      <td>0.0</td>\n",
       "      <td>0.000000</td>\n",
       "      <td>0</td>\n",
       "      <td>0.9383</td>\n",
       "      <td>0.0617</td>\n",
       "    </tr>\n",
       "    <tr>\n",
       "      <th>15</th>\n",
       "      <td>1 to 3 Days Out</td>\n",
       "      <td>5249</td>\n",
       "      <td>0.6</td>\n",
       "      <td>0.333333</td>\n",
       "      <td>2018-05-25</td>\n",
       "      <td>True</td>\n",
       "      <td>29.99</td>\n",
       "      <td>321</td>\n",
       "      <td>0</td>\n",
       "      <td>63</td>\n",
       "      <td>0.000000</td>\n",
       "      <td>0.0</td>\n",
       "      <td>0.000000</td>\n",
       "      <td>0</td>\n",
       "      <td>0.5571</td>\n",
       "      <td>0.4429</td>\n",
       "    </tr>\n",
       "    <tr>\n",
       "      <th>29</th>\n",
       "      <td>1 to 3 Days Out</td>\n",
       "      <td>9482</td>\n",
       "      <td>0.0</td>\n",
       "      <td>0.000000</td>\n",
       "      <td>2019-05-18</td>\n",
       "      <td>True</td>\n",
       "      <td>12.15</td>\n",
       "      <td>0</td>\n",
       "      <td>1</td>\n",
       "      <td>0</td>\n",
       "      <td>0.000000</td>\n",
       "      <td>0.0</td>\n",
       "      <td>0.000000</td>\n",
       "      <td>1</td>\n",
       "      <td>0.0001</td>\n",
       "      <td>0.9999</td>\n",
       "    </tr>\n",
       "    <tr>\n",
       "      <th>33</th>\n",
       "      <td>1 to 3 Days Out</td>\n",
       "      <td>10150</td>\n",
       "      <td>2.5</td>\n",
       "      <td>0.300000</td>\n",
       "      <td>2018-04-25</td>\n",
       "      <td>True</td>\n",
       "      <td>37.99</td>\n",
       "      <td>0</td>\n",
       "      <td>1</td>\n",
       "      <td>2</td>\n",
       "      <td>0.000000</td>\n",
       "      <td>0.0</td>\n",
       "      <td>0.000000</td>\n",
       "      <td>1</td>\n",
       "      <td>0.0002</td>\n",
       "      <td>0.9998</td>\n",
       "    </tr>\n",
       "    <tr>\n",
       "      <th>41</th>\n",
       "      <td>1 to 3 Days Out</td>\n",
       "      <td>12001</td>\n",
       "      <td>1.5</td>\n",
       "      <td>0.000000</td>\n",
       "      <td>2021-07-18</td>\n",
       "      <td>True</td>\n",
       "      <td>8.76</td>\n",
       "      <td>1575</td>\n",
       "      <td>0</td>\n",
       "      <td>305</td>\n",
       "      <td>0.029412</td>\n",
       "      <td>0.0</td>\n",
       "      <td>0.057471</td>\n",
       "      <td>0</td>\n",
       "      <td>0.7288</td>\n",
       "      <td>0.2712</td>\n",
       "    </tr>\n",
       "  </tbody>\n",
       "</table>\n",
       "</div>"
      ],
      "text/plain": [
       "            daysOut  dimCustomerMasterId  recent_openRate  recent_clickRate  \\\n",
       "8   1 to 3 Days Out                 3654              0.0          0.000000   \n",
       "15  1 to 3 Days Out                 5249              0.6          0.333333   \n",
       "29  1 to 3 Days Out                 9482              0.0          0.000000   \n",
       "33  1 to 3 Days Out                10150              2.5          0.300000   \n",
       "41  1 to 3 Days Out                12001              1.5          0.000000   \n",
       "\n",
       "    eventDate inMarket  distanceToVenue  tenure  did_purchase  \\\n",
       "8  2018-05-09     True            81.90     364             0   \n",
       "15 2018-05-25     True            29.99     321             0   \n",
       "29 2019-05-18     True            12.15       0             1   \n",
       "33 2018-04-25     True            37.99       0             1   \n",
       "41 2021-07-18     True             8.76    1575             0   \n",
       "\n",
       "    events_purchased  frequency_opponent  frequency_eventDay  \\\n",
       "8                 84            0.000000                 0.0   \n",
       "15                63            0.000000                 0.0   \n",
       "29                 0            0.000000                 0.0   \n",
       "33                 2            0.000000                 0.0   \n",
       "41               305            0.029412                 0.0   \n",
       "\n",
       "    frequency_eventTime  Label  Score_0  Score_1  \n",
       "8              0.000000      0   0.9383   0.0617  \n",
       "15             0.000000      0   0.5571   0.4429  \n",
       "29             0.000000      1   0.0001   0.9999  \n",
       "33             0.000000      1   0.0002   0.9998  \n",
       "41             0.057471      0   0.7288   0.2712  "
      ]
     },
     "execution_count": 27,
     "metadata": {},
     "output_type": "execute_result"
    }
   ],
   "source": [
    "df_inference = predict_model(final_model, data=df_eval, raw_score=True)\n",
    "\n",
    "df_inference.head()"
   ]
  },
  {
   "cell_type": "code",
   "execution_count": 30,
   "id": "b7596c84-8422-44ba-828c-4bb38d1244ab",
   "metadata": {},
   "outputs": [
    {
     "name": "stdout",
     "output_type": "stream",
     "text": [
      "Would not purchase: 27012\n",
      "Would purchase: 24178\n"
     ]
    }
   ],
   "source": [
    "print(\"Would not purchase:\", df_inference[\"Label\"].value_counts()[0])\n",
    "print(\"Would purchase:\", df_inference[\"Label\"].value_counts()[1])"
   ]
  },
  {
   "cell_type": "markdown",
   "id": "b31174ce-5ec1-42c7-8856-e96840071c6e",
   "metadata": {},
   "source": [
    "### Score_0 = Would not purchase, Score_1 = Would purchase"
   ]
  },
  {
   "cell_type": "code",
   "execution_count": 35,
   "id": "ed5992e4-10d1-44de-aeda-072550c75086",
   "metadata": {},
   "outputs": [
    {
     "data": {
      "image/png": "[encoded data removed]",
      "text/plain": [
       "<Figure size 2160x360 with 3 Axes>"
      ]
     },
     "metadata": {
      "needs_background": "light"
     },
     "output_type": "display_data"
    }
   ],
   "source": [
    "df_inference.hist(column=['Score_0', 'Score_1'], figsize=(30,5), layout=(1,3));"
   ]
  },
  {
   "cell_type": "code",
   "execution_count": 36,
   "id": "144bd27b-9798-4f8b-a3a3-95298d8e2c01",
   "metadata": {},
   "outputs": [
    {
     "data": {
      "image/png": "[encoded data removed]",
      "text/plain": [
       "<Figure size 800x500 with 1 Axes>"
      ]
     },
     "metadata": {},
     "output_type": "display_data"
    }
   ],
   "source": [
    "plot_model(best_model, plot='feature')"
   ]
  },
  {
   "cell_type": "code",
   "execution_count": 37,
   "id": "79e34840-9a47-486f-a648-6d5d16d73b89",
   "metadata": {},
   "outputs": [
    {
     "data": {
      "image/png": "[encoded data removed]",
      "text/plain": [
       "<Figure size 576x396 with 1 Axes>"
      ]
     },
     "metadata": {},
     "output_type": "display_data"
    }
   ],
   "source": [
    "plot_model(best_model, plot='confusion_matrix')"
   ]
  },
  {
   "cell_type": "markdown",
   "id": "a439108b-7911-4384-b089-f7b31c825192",
   "metadata": {},
   "source": [
    "## Observations\n",
    "Here you can document some ideas on the results from above\n"
   ]
  },
  {
   "cell_type": "markdown",
   "id": "d2de91b5-a1e8-42a5-a087-8c31ff2e1db3",
   "metadata": {},
   "source": [
    "## Conclusions\n",
    "Here you can talk about next steps, did the experiment work? If yes, what to do next? If no, why?\n",
    "\n",
    "* We should ask CS/CI what they think the most significant factor towards a next game buyer is."
   ]
  }
 ],
 "metadata": {
  "kernelspec": {
   "display_name": "Python 3 (ipykernel)",
   "language": "python",
   "name": "python3"
  },
  "language_info": {
   "codemirror_mode": {
    "name": "ipython",
    "version": 3
   },
   "file_extension": ".py",
   "mimetype": "text/x-python",
   "name": "python",
   "nbconvert_exporter": "python",
   "pygments_lexer": "ipython3",
   "version": "3.7.10"
  }
 },
 "nbformat": 4,
 "nbformat_minor": 5
}
