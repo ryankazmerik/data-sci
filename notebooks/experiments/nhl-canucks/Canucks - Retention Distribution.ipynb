{
 "cells": [
  {
   "cell_type": "markdown",
   "id": "6ee08766-25fd-4da1-91b8-b0c3e74db588",
   "metadata": {},
   "source": [
    "# NHL Canucks - Retention Score Distribution\n",
    "* StelllarAlgo Data Science\n",
    "* Ryan Kazmerik & Nakisa Rad\n",
    "* Feb 28, 2022"
   ]
  },
  {
   "cell_type": "code",
   "execution_count": 42,
   "id": "4c533efd-600e-4bce-8203-faffbddfa700",
   "metadata": {},
   "outputs": [],
   "source": [
    "import getpass\n",
    "import pyodbc\n",
    "import pandas as pd\n",
    "import warnings\n",
    "import matplotlib.pyplot as plt\n",
    "\n",
    "from datetime import datetime\n",
    "from pytz import timezone\n",
    "from pycaret.classification import *\n",
    "\n",
    "warnings.filterwarnings('ignore')"
   ]
  },
  {
   "cell_type": "markdown",
   "id": "b64ae7d5-84af-4915-bd13-1dd9d17098a3",
   "metadata": {},
   "source": [
    "### Let's connect to MSSQL and run a stored proc to get our dataset:"
   ]
  },
  {
   "cell_type": "code",
   "execution_count": 65,
   "id": "ae561eb4-f419-4d46-b5e0-12fac9b10db8",
   "metadata": {},
   "outputs": [
    {
     "name": "stdin",
     "output_type": "stream",
     "text": [
      "Enter your password ····················\n"
     ]
    }
   ],
   "source": [
    "# connect to SQL Server.\n",
    "SERVER = '52.44.171.130' \n",
    "DATABASE = 'datascience' \n",
    "USERNAME = 'dsAdminWrite' \n",
    "PASSWORD = getpass.getpass(prompt='Enter your password')\n",
    "CNXN = pyodbc.connect('DRIVER={ODBC Driver 17 for SQL Server};SERVER='+SERVER+';DATABASE='+DATABASE+';UID='+USERNAME+';PWD='+ PASSWORD)"
   ]
  },
  {
   "cell_type": "code",
   "execution_count": 67,
   "id": "af1afe7d-a35b-494b-88f3-980fb0e3da30",
   "metadata": {},
   "outputs": [
    {
     "data": {
      "text/plain": [
       "(32939, 54)"
      ]
     },
     "execution_count": 67,
     "metadata": {},
     "output_type": "execute_result"
    }
   ],
   "source": [
    "lkupclientid = 7 # canucks\n",
    "cursor = CNXN.cursor()\n",
    "\n",
    "storedProc = (\n",
    "    f\"\"\"Exec [stlrCanucks].[ds].[getRetentionScoringModelData] {lkupclientid}\"\"\"\n",
    ")\n",
    "\n",
    "df = pd.read_sql(storedProc, CNXN)\n",
    "\n",
    "# apply some data transformations\n",
    "df[\"year\"] = pd.to_numeric(df[\"year\"])\n",
    "\n",
    "CNXN.commit()\n",
    "cursor.close()\n",
    "\n",
    "df.shape"
   ]
  },
  {
   "cell_type": "markdown",
   "id": "ab40da92-72a7-49c1-9829-ed3805a39719",
   "metadata": {},
   "source": [
    "### We should specify the features used in our model:"
   ]
  },
  {
   "cell_type": "code",
   "execution_count": 68,
   "id": "788f1273-8b7a-46bd-a099-1a471feeacc5",
   "metadata": {},
   "outputs": [
    {
     "name": "stdout",
     "output_type": "stream",
     "text": [
      "Data for Modeling: (23643, 10)\n",
      "Unseen Data For Predictions: (4172, 10)\n",
      "\n"
     ]
    }
   ],
   "source": [
    "# choose the features for the stellar base retention model\n",
    "features = [\n",
    "    \"dimCustomerMasterId\",\n",
    "    \"attendancePercent\",\n",
    "    \"distToVenue\",\n",
    "    \"isNextYear_Buyer\",\n",
    "    \"productGrouping\",\n",
    "    \"recency\",\n",
    "    \"recentDate\",\n",
    "    \"source_tenure\",\n",
    "    \"totalSpent\",\n",
    "    \"year\"\n",
    "]\n",
    "\n",
    "# copy your main dataframe\n",
    "df_dataset = df\n",
    "\n",
    "# choose the features & train year & test year\n",
    "df_dataset = df_dataset[features]\n",
    "df_dataset[\"year\"] = pd.to_numeric(df_dataset[\"year\"])\n",
    "df_dataset = df_dataset.loc[df_dataset[\"year\"] <= 2019]\n",
    "\n",
    "df_train = df_dataset.sample(frac=0.85, random_state=786)\n",
    "df_eval = df_dataset.drop(df_train.index)\n",
    "\n",
    "df_train.reset_index(drop=True, inplace=True)\n",
    "df_eval.reset_index(drop=True, inplace=True)\n",
    "\n",
    "# print out the number of records for training and eval\n",
    "print('Data for Modeling: ' + str(df_train.shape))\n",
    "print('Unseen Data For Predictions: ' + str(df_eval.shape), end=\"\\n\\n\")"
   ]
  },
  {
   "cell_type": "markdown",
   "id": "4f2da06d-9015-49fd-89b3-956c2ebf66e9",
   "metadata": {},
   "source": [
    "### Now we can model the data using a binary classification prediction for the isnextyear_buyer field to see how likely a customer is to re-purchase."
   ]
  },
  {
   "cell_type": "code",
   "execution_count": 69,
   "id": "23a69cdc-b3ec-48c8-9ce5-29f617779389",
   "metadata": {},
   "outputs": [],
   "source": [
    "setup(\n",
    "    data= df_train, \n",
    "    target=\"isNextYear_Buyer\", \n",
    "    train_size = 0.85,\n",
    "    data_split_shuffle=True,\n",
    "    ignore_features=[\n",
    "        \"dimCustomerMasterId\",\n",
    "        \"productGrouping\",\n",
    "        \"recentDate\",\n",
    "        \"year\"\n",
    "    ],\n",
    "    silent=True,\n",
    "    verbose=False,\n",
    "    numeric_features=[\n",
    "        \"attendancePercent\",\n",
    "        \"distToVenue\",\n",
    "        \"recency\",\n",
    "        \"source_tenure\",\n",
    "        \"totalSpent\"\n",
    "    ]\n",
    ");"
   ]
  },
  {
   "cell_type": "markdown",
   "id": "6e1e33e8-ed5f-4e84-abb2-a2fc8370905c",
   "metadata": {},
   "source": [
    "### The evaluation output prints a score grid that shows average Accuracy, AUC, Recall, Precision, F1 and Kappa accross the folds (10 by default) along with training time:"
   ]
  },
  {
   "cell_type": "code",
   "execution_count": 85,
   "id": "ef2db9d2-02c2-45c0-b6bb-5cad42c373ce",
   "metadata": {},
   "outputs": [
    {
     "data": {
      "text/html": [
       "<style  type=\"text/css\" >\n",
       "    #T_388b2_ th {\n",
       "          text-align: left;\n",
       "    }#T_388b2_row0_col0,#T_388b2_row0_col4,#T_388b2_row1_col0,#T_388b2_row1_col1,#T_388b2_row1_col2,#T_388b2_row1_col3,#T_388b2_row1_col4,#T_388b2_row1_col5,#T_388b2_row1_col6,#T_388b2_row1_col7,#T_388b2_row2_col0,#T_388b2_row2_col1,#T_388b2_row2_col2,#T_388b2_row2_col3,#T_388b2_row2_col5,#T_388b2_row2_col6,#T_388b2_row2_col7,#T_388b2_row3_col0,#T_388b2_row3_col1,#T_388b2_row3_col2,#T_388b2_row3_col3,#T_388b2_row3_col4,#T_388b2_row3_col5,#T_388b2_row3_col6,#T_388b2_row3_col7{\n",
       "            text-align:  left;\n",
       "            text-align:  left;\n",
       "        }#T_388b2_row0_col1,#T_388b2_row0_col2,#T_388b2_row0_col3,#T_388b2_row0_col5,#T_388b2_row0_col6,#T_388b2_row0_col7,#T_388b2_row2_col4{\n",
       "            text-align:  left;\n",
       "            text-align:  left;\n",
       "            background-color:  yellow;\n",
       "        }#T_388b2_row0_col8,#T_388b2_row1_col8,#T_388b2_row2_col8{\n",
       "            text-align:  left;\n",
       "            text-align:  left;\n",
       "            background-color:  lightgrey;\n",
       "        }#T_388b2_row3_col8{\n",
       "            text-align:  left;\n",
       "            text-align:  left;\n",
       "            background-color:  yellow;\n",
       "            background-color:  lightgrey;\n",
       "        }</style><table id=\"T_388b2_\" ><thead>    <tr>        <th class=\"blank level0\" ></th>        <th class=\"col_heading level0 col0\" >Model</th>        <th class=\"col_heading level0 col1\" >Accuracy</th>        <th class=\"col_heading level0 col2\" >AUC</th>        <th class=\"col_heading level0 col3\" >Recall</th>        <th class=\"col_heading level0 col4\" >Prec.</th>        <th class=\"col_heading level0 col5\" >F1</th>        <th class=\"col_heading level0 col6\" >Kappa</th>        <th class=\"col_heading level0 col7\" >MCC</th>        <th class=\"col_heading level0 col8\" >TT (Sec)</th>    </tr></thead><tbody>\n",
       "                <tr>\n",
       "                        <th id=\"T_388b2_level0_row0\" class=\"row_heading level0 row0\" >xgboost</th>\n",
       "                        <td id=\"T_388b2_row0_col0\" class=\"data row0 col0\" >Extreme Gradient Boosting</td>\n",
       "                        <td id=\"T_388b2_row0_col1\" class=\"data row0 col1\" >0.7135</td>\n",
       "                        <td id=\"T_388b2_row0_col2\" class=\"data row0 col2\" >0.8620</td>\n",
       "                        <td id=\"T_388b2_row0_col3\" class=\"data row0 col3\" >0.5214</td>\n",
       "                        <td id=\"T_388b2_row0_col4\" class=\"data row0 col4\" >0.8766</td>\n",
       "                        <td id=\"T_388b2_row0_col5\" class=\"data row0 col5\" >0.6535</td>\n",
       "                        <td id=\"T_388b2_row0_col6\" class=\"data row0 col6\" >0.4352</td>\n",
       "                        <td id=\"T_388b2_row0_col7\" class=\"data row0 col7\" >0.4783</td>\n",
       "                        <td id=\"T_388b2_row0_col8\" class=\"data row0 col8\" >0.2860</td>\n",
       "            </tr>\n",
       "            <tr>\n",
       "                        <th id=\"T_388b2_level0_row1\" class=\"row_heading level0 row1\" >lightgbm</th>\n",
       "                        <td id=\"T_388b2_row1_col0\" class=\"data row1 col0\" >Light Gradient Boosting Machine</td>\n",
       "                        <td id=\"T_388b2_row1_col1\" class=\"data row1 col1\" >0.6916</td>\n",
       "                        <td id=\"T_388b2_row1_col2\" class=\"data row1 col2\" >0.8500</td>\n",
       "                        <td id=\"T_388b2_row1_col3\" class=\"data row1 col3\" >0.4677</td>\n",
       "                        <td id=\"T_388b2_row1_col4\" class=\"data row1 col4\" >0.8830</td>\n",
       "                        <td id=\"T_388b2_row1_col5\" class=\"data row1 col5\" >0.6112</td>\n",
       "                        <td id=\"T_388b2_row1_col6\" class=\"data row1 col6\" >0.3935</td>\n",
       "                        <td id=\"T_388b2_row1_col7\" class=\"data row1 col7\" >0.4486</td>\n",
       "                        <td id=\"T_388b2_row1_col8\" class=\"data row1 col8\" >0.6030</td>\n",
       "            </tr>\n",
       "            <tr>\n",
       "                        <th id=\"T_388b2_level0_row2\" class=\"row_heading level0 row2\" >gbc</th>\n",
       "                        <td id=\"T_388b2_row2_col0\" class=\"data row2 col0\" >Gradient Boosting Classifier</td>\n",
       "                        <td id=\"T_388b2_row2_col1\" class=\"data row2 col1\" >0.6356</td>\n",
       "                        <td id=\"T_388b2_row2_col2\" class=\"data row2 col2\" >0.8195</td>\n",
       "                        <td id=\"T_388b2_row2_col3\" class=\"data row2 col3\" >0.3427</td>\n",
       "                        <td id=\"T_388b2_row2_col4\" class=\"data row2 col4\" >0.8846</td>\n",
       "                        <td id=\"T_388b2_row2_col5\" class=\"data row2 col5\" >0.4936</td>\n",
       "                        <td id=\"T_388b2_row2_col6\" class=\"data row2 col6\" >0.2874</td>\n",
       "                        <td id=\"T_388b2_row2_col7\" class=\"data row2 col7\" >0.3669</td>\n",
       "                        <td id=\"T_388b2_row2_col8\" class=\"data row2 col8\" >0.1300</td>\n",
       "            </tr>\n",
       "            <tr>\n",
       "                        <th id=\"T_388b2_level0_row3\" class=\"row_heading level0 row3\" >lr</th>\n",
       "                        <td id=\"T_388b2_row3_col0\" class=\"data row3 col0\" >Logistic Regression</td>\n",
       "                        <td id=\"T_388b2_row3_col1\" class=\"data row3 col1\" >0.5428</td>\n",
       "                        <td id=\"T_388b2_row3_col2\" class=\"data row3 col2\" >0.6941</td>\n",
       "                        <td id=\"T_388b2_row3_col3\" class=\"data row3 col3\" >0.1530</td>\n",
       "                        <td id=\"T_388b2_row3_col4\" class=\"data row3 col4\" >0.8178</td>\n",
       "                        <td id=\"T_388b2_row3_col5\" class=\"data row3 col5\" >0.2573</td>\n",
       "                        <td id=\"T_388b2_row3_col6\" class=\"data row3 col6\" >0.1126</td>\n",
       "                        <td id=\"T_388b2_row3_col7\" class=\"data row3 col7\" >0.1959</td>\n",
       "                        <td id=\"T_388b2_row3_col8\" class=\"data row3 col8\" >0.0140</td>\n",
       "            </tr>\n",
       "    </tbody></table>"
      ],
      "text/plain": [
       "<pandas.io.formats.style.Styler at 0x7fc1f2e5ff10>"
      ]
     },
     "metadata": {},
     "output_type": "display_data"
    }
   ],
   "source": [
    "model_matrix = compare_models(\n",
    "    fold= 10,\n",
    "    include= [\"gbc\",\"lightgbm\",\"lr\",\"xgboost\"],\n",
    "    n_select= 4,\n",
    "    probability_threshold= 0.75\n",
    ")\n",
    "results = pull()"
   ]
  },
  {
   "cell_type": "code",
   "execution_count": 86,
   "id": "8ed845ef-c221-4614-8d8a-ae6fded75d5a",
   "metadata": {},
   "outputs": [
    {
     "data": {
      "text/html": [
       "<style  type=\"text/css\" >\n",
       "#T_34ce4_row10_col0,#T_34ce4_row10_col1,#T_34ce4_row10_col2,#T_34ce4_row10_col3,#T_34ce4_row10_col4,#T_34ce4_row10_col5,#T_34ce4_row10_col6{\n",
       "            background:  yellow;\n",
       "        }</style><table id=\"T_34ce4_\" ><thead>    <tr>        <th class=\"blank level0\" ></th>        <th class=\"col_heading level0 col0\" >Accuracy</th>        <th class=\"col_heading level0 col1\" >AUC</th>        <th class=\"col_heading level0 col2\" >Recall</th>        <th class=\"col_heading level0 col3\" >Prec.</th>        <th class=\"col_heading level0 col4\" >F1</th>        <th class=\"col_heading level0 col5\" >Kappa</th>        <th class=\"col_heading level0 col6\" >MCC</th>    </tr></thead><tbody>\n",
       "                <tr>\n",
       "                        <th id=\"T_34ce4_level0_row0\" class=\"row_heading level0 row0\" >0</th>\n",
       "                        <td id=\"T_34ce4_row0_col0\" class=\"data row0 col0\" >0.5562</td>\n",
       "                        <td id=\"T_34ce4_row0_col1\" class=\"data row0 col1\" >0.6943</td>\n",
       "                        <td id=\"T_34ce4_row0_col2\" class=\"data row0 col2\" >0.1774</td>\n",
       "                        <td id=\"T_34ce4_row0_col3\" class=\"data row0 col3\" >0.8447</td>\n",
       "                        <td id=\"T_34ce4_row0_col4\" class=\"data row0 col4\" >0.2932</td>\n",
       "                        <td id=\"T_34ce4_row0_col5\" class=\"data row0 col5\" >0.1379</td>\n",
       "                        <td id=\"T_34ce4_row0_col6\" class=\"data row0 col6\" >0.2280</td>\n",
       "            </tr>\n",
       "            <tr>\n",
       "                        <th id=\"T_34ce4_level0_row1\" class=\"row_heading level0 row1\" >1</th>\n",
       "                        <td id=\"T_34ce4_row1_col0\" class=\"data row1 col0\" >0.5239</td>\n",
       "                        <td id=\"T_34ce4_row1_col1\" class=\"data row1 col1\" >0.7024</td>\n",
       "                        <td id=\"T_34ce4_row1_col2\" class=\"data row1 col2\" >0.1160</td>\n",
       "                        <td id=\"T_34ce4_row1_col3\" class=\"data row1 col3\" >0.7756</td>\n",
       "                        <td id=\"T_34ce4_row1_col4\" class=\"data row1 col4\" >0.2018</td>\n",
       "                        <td id=\"T_34ce4_row1_col5\" class=\"data row1 col5\" >0.0772</td>\n",
       "                        <td id=\"T_34ce4_row1_col6\" class=\"data row1 col6\" >0.1491</td>\n",
       "            </tr>\n",
       "            <tr>\n",
       "                        <th id=\"T_34ce4_level0_row2\" class=\"row_heading level0 row2\" >2</th>\n",
       "                        <td id=\"T_34ce4_row2_col0\" class=\"data row2 col0\" >0.5483</td>\n",
       "                        <td id=\"T_34ce4_row2_col1\" class=\"data row2 col1\" >0.6839</td>\n",
       "                        <td id=\"T_34ce4_row2_col2\" class=\"data row2 col2\" >0.1659</td>\n",
       "                        <td id=\"T_34ce4_row2_col3\" class=\"data row2 col3\" >0.8199</td>\n",
       "                        <td id=\"T_34ce4_row2_col4\" class=\"data row2 col4\" >0.2759</td>\n",
       "                        <td id=\"T_34ce4_row2_col5\" class=\"data row2 col5\" >0.1227</td>\n",
       "                        <td id=\"T_34ce4_row2_col6\" class=\"data row2 col6\" >0.2063</td>\n",
       "            </tr>\n",
       "            <tr>\n",
       "                        <th id=\"T_34ce4_level0_row3\" class=\"row_heading level0 row3\" >3</th>\n",
       "                        <td id=\"T_34ce4_row3_col0\" class=\"data row3 col0\" >0.5463</td>\n",
       "                        <td id=\"T_34ce4_row3_col1\" class=\"data row3 col1\" >0.6731</td>\n",
       "                        <td id=\"T_34ce4_row3_col2\" class=\"data row3 col2\" >0.1592</td>\n",
       "                        <td id=\"T_34ce4_row3_col3\" class=\"data row3 col3\" >0.8259</td>\n",
       "                        <td id=\"T_34ce4_row3_col4\" class=\"data row3 col4\" >0.2669</td>\n",
       "                        <td id=\"T_34ce4_row3_col5\" class=\"data row3 col5\" >0.1192</td>\n",
       "                        <td id=\"T_34ce4_row3_col6\" class=\"data row3 col6\" >0.2048</td>\n",
       "            </tr>\n",
       "            <tr>\n",
       "                        <th id=\"T_34ce4_level0_row4\" class=\"row_heading level0 row4\" >4</th>\n",
       "                        <td id=\"T_34ce4_row4_col0\" class=\"data row4 col0\" >0.5393</td>\n",
       "                        <td id=\"T_34ce4_row4_col1\" class=\"data row4 col1\" >0.7049</td>\n",
       "                        <td id=\"T_34ce4_row4_col2\" class=\"data row4 col2\" >0.1524</td>\n",
       "                        <td id=\"T_34ce4_row4_col3\" class=\"data row4 col3\" >0.7910</td>\n",
       "                        <td id=\"T_34ce4_row4_col4\" class=\"data row4 col4\" >0.2556</td>\n",
       "                        <td id=\"T_34ce4_row4_col5\" class=\"data row4 col5\" >0.1057</td>\n",
       "                        <td id=\"T_34ce4_row4_col6\" class=\"data row4 col6\" >0.1816</td>\n",
       "            </tr>\n",
       "            <tr>\n",
       "                        <th id=\"T_34ce4_level0_row5\" class=\"row_heading level0 row5\" >5</th>\n",
       "                        <td id=\"T_34ce4_row5_col0\" class=\"data row5 col0\" >0.5473</td>\n",
       "                        <td id=\"T_34ce4_row5_col1\" class=\"data row5 col1\" >0.6842</td>\n",
       "                        <td id=\"T_34ce4_row5_col2\" class=\"data row5 col2\" >0.1697</td>\n",
       "                        <td id=\"T_34ce4_row5_col3\" class=\"data row5 col3\" >0.8009</td>\n",
       "                        <td id=\"T_34ce4_row5_col4\" class=\"data row5 col4\" >0.2801</td>\n",
       "                        <td id=\"T_34ce4_row5_col5\" class=\"data row5 col5\" >0.1205</td>\n",
       "                        <td id=\"T_34ce4_row5_col6\" class=\"data row5 col6\" >0.1984</td>\n",
       "            </tr>\n",
       "            <tr>\n",
       "                        <th id=\"T_34ce4_level0_row6\" class=\"row_heading level0 row6\" >6</th>\n",
       "                        <td id=\"T_34ce4_row6_col0\" class=\"data row6 col0\" >0.5455</td>\n",
       "                        <td id=\"T_34ce4_row6_col1\" class=\"data row6 col1\" >0.7035</td>\n",
       "                        <td id=\"T_34ce4_row6_col2\" class=\"data row6 col2\" >0.1449</td>\n",
       "                        <td id=\"T_34ce4_row6_col3\" class=\"data row6 col3\" >0.8728</td>\n",
       "                        <td id=\"T_34ce4_row6_col4\" class=\"data row6 col4\" >0.2486</td>\n",
       "                        <td id=\"T_34ce4_row6_col5\" class=\"data row6 col5\" >0.1183</td>\n",
       "                        <td id=\"T_34ce4_row6_col6\" class=\"data row6 col6\" >0.2176</td>\n",
       "            </tr>\n",
       "            <tr>\n",
       "                        <th id=\"T_34ce4_level0_row7\" class=\"row_heading level0 row7\" >7</th>\n",
       "                        <td id=\"T_34ce4_row7_col0\" class=\"data row7 col0\" >0.5401</td>\n",
       "                        <td id=\"T_34ce4_row7_col1\" class=\"data row7 col1\" >0.7135</td>\n",
       "                        <td id=\"T_34ce4_row7_col2\" class=\"data row7 col2\" >0.1411</td>\n",
       "                        <td id=\"T_34ce4_row7_col3\" class=\"data row7 col3\" >0.8352</td>\n",
       "                        <td id=\"T_34ce4_row7_col4\" class=\"data row7 col4\" >0.2414</td>\n",
       "                        <td id=\"T_34ce4_row7_col5\" class=\"data row7 col5\" >0.1076</td>\n",
       "                        <td id=\"T_34ce4_row7_col6\" class=\"data row7 col6\" >0.1963</td>\n",
       "            </tr>\n",
       "            <tr>\n",
       "                        <th id=\"T_34ce4_level0_row8\" class=\"row_heading level0 row8\" >8</th>\n",
       "                        <td id=\"T_34ce4_row8_col0\" class=\"data row8 col0\" >0.5416</td>\n",
       "                        <td id=\"T_34ce4_row8_col1\" class=\"data row8 col1\" >0.6684</td>\n",
       "                        <td id=\"T_34ce4_row8_col2\" class=\"data row8 col2\" >0.1603</td>\n",
       "                        <td id=\"T_34ce4_row8_col3\" class=\"data row8 col3\" >0.7840</td>\n",
       "                        <td id=\"T_34ce4_row8_col4\" class=\"data row8 col4\" >0.2661</td>\n",
       "                        <td id=\"T_34ce4_row8_col5\" class=\"data row8 col5\" >0.1093</td>\n",
       "                        <td id=\"T_34ce4_row8_col6\" class=\"data row8 col6\" >0.1829</td>\n",
       "            </tr>\n",
       "            <tr>\n",
       "                        <th id=\"T_34ce4_level0_row9\" class=\"row_heading level0 row9\" >9</th>\n",
       "                        <td id=\"T_34ce4_row9_col0\" class=\"data row9 col0\" >0.5396</td>\n",
       "                        <td id=\"T_34ce4_row9_col1\" class=\"data row9 col1\" >0.7132</td>\n",
       "                        <td id=\"T_34ce4_row9_col2\" class=\"data row9 col2\" >0.1429</td>\n",
       "                        <td id=\"T_34ce4_row9_col3\" class=\"data row9 col3\" >0.8278</td>\n",
       "                        <td id=\"T_34ce4_row9_col4\" class=\"data row9 col4\" >0.2437</td>\n",
       "                        <td id=\"T_34ce4_row9_col5\" class=\"data row9 col5\" >0.1072</td>\n",
       "                        <td id=\"T_34ce4_row9_col6\" class=\"data row9 col6\" >0.1938</td>\n",
       "            </tr>\n",
       "            <tr>\n",
       "                        <th id=\"T_34ce4_level0_row10\" class=\"row_heading level0 row10\" >Mean</th>\n",
       "                        <td id=\"T_34ce4_row10_col0\" class=\"data row10 col0\" >0.5428</td>\n",
       "                        <td id=\"T_34ce4_row10_col1\" class=\"data row10 col1\" >0.6941</td>\n",
       "                        <td id=\"T_34ce4_row10_col2\" class=\"data row10 col2\" >0.1530</td>\n",
       "                        <td id=\"T_34ce4_row10_col3\" class=\"data row10 col3\" >0.8178</td>\n",
       "                        <td id=\"T_34ce4_row10_col4\" class=\"data row10 col4\" >0.2573</td>\n",
       "                        <td id=\"T_34ce4_row10_col5\" class=\"data row10 col5\" >0.1126</td>\n",
       "                        <td id=\"T_34ce4_row10_col6\" class=\"data row10 col6\" >0.1959</td>\n",
       "            </tr>\n",
       "            <tr>\n",
       "                        <th id=\"T_34ce4_level0_row11\" class=\"row_heading level0 row11\" >SD</th>\n",
       "                        <td id=\"T_34ce4_row11_col0\" class=\"data row11 col0\" >0.0080</td>\n",
       "                        <td id=\"T_34ce4_row11_col1\" class=\"data row11 col1\" >0.0152</td>\n",
       "                        <td id=\"T_34ce4_row11_col2\" class=\"data row11 col2\" >0.0168</td>\n",
       "                        <td id=\"T_34ce4_row11_col3\" class=\"data row11 col3\" >0.0285</td>\n",
       "                        <td id=\"T_34ce4_row11_col4\" class=\"data row11 col4\" >0.0243</td>\n",
       "                        <td id=\"T_34ce4_row11_col5\" class=\"data row11 col5\" >0.0150</td>\n",
       "                        <td id=\"T_34ce4_row11_col6\" class=\"data row11 col6\" >0.0207</td>\n",
       "            </tr>\n",
       "    </tbody></table>"
      ],
      "text/plain": [
       "<pandas.io.formats.style.Styler at 0x7fc210b995d0>"
      ]
     },
     "metadata": {},
     "output_type": "display_data"
    }
   ],
   "source": [
    "models = []\n",
    "for idx, m in enumerate(model_matrix):\n",
    "    \n",
    "    model = create_model(m)\n",
    "    final_model = finalize_model(model)\n",
    "    \n",
    "    models.append({\n",
    "        \"name\": str(results.iloc[idx][\"Model\"]),\n",
    "        \"model\": final_model\n",
    "    })"
   ]
  },
  {
   "cell_type": "markdown",
   "id": "3aab9021-4462-423a-8e3c-fbe1f36c6110",
   "metadata": {},
   "source": [
    "### Let's load in our 2021 season data and get retention scores using the model:"
   ]
  },
  {
   "cell_type": "code",
   "execution_count": 87,
   "id": "c249a813-c882-4869-9490-6ab766a8c223",
   "metadata": {},
   "outputs": [
    {
     "data": {
      "text/plain": [
       "(5124, 10)"
      ]
     },
     "execution_count": 87,
     "metadata": {},
     "output_type": "execute_result"
    }
   ],
   "source": [
    "df_inference = df.loc[df[\"year\"] >= 2021]\n",
    "df_inference = df_inference.fillna(0)\n",
    "df_inference = df_inference[features]\n",
    "\n",
    "df_inference.shape"
   ]
  },
  {
   "cell_type": "code",
   "execution_count": 88,
   "id": "658464e2-ba98-4875-a7f2-c8f0ba581d89",
   "metadata": {},
   "outputs": [],
   "source": [
    "predictions = []\n",
    "for idx, final_m in enumerate(models):\n",
    "    \n",
    "    df_predictions = (predict_model(final_m['model'], data=df_inference, raw_score=True))\n",
    "    df_predictions = df_predictions[df_predictions[\"Score_1\"] >= 0.025]\n",
    "    final_m[\"predictions\"] = df_predictions"
   ]
  },
  {
   "cell_type": "markdown",
   "id": "12e0b1a1-f440-43f9-ab6a-374134eb4684",
   "metadata": {},
   "source": [
    "### We can create some histograms to visualize each model distribution:"
   ]
  },
  {
   "cell_type": "code",
   "execution_count": 89,
   "id": "d815f4f6-4f04-47b0-972b-a708ecf8a772",
   "metadata": {},
   "outputs": [
    {
     "data": {
      "image/png": "[encoded data removed]",
      "text/plain": [
       "<Figure size 1800x288 with 4 Axes>"
      ]
     },
     "metadata": {},
     "output_type": "display_data"
    }
   ],
   "source": [
    "for idx, model in enumerate(models):\n",
    "    \n",
    "    plt.subplot(1, 4, idx+1)\n",
    "    plt.title(model[\"name\"])\n",
    "    plt.ylabel(\"Num Fans\")\n",
    "    plt.xlabel(\"SA Buyer Score\")\n",
    "    plt.hist(model[\"predictions\"][\"Score_1\"], bins=20, edgecolor=\"black\", range=(0,1))\n",
    "                            \n",
    "plt.rcParams[\"figure.figsize\"] = (25,4)\n",
    "plt.show()"
   ]
  },
  {
   "cell_type": "markdown",
   "id": "c5d007b0-fe2b-401a-9445-383f1626a0df",
   "metadata": {},
   "source": [
    "### We can also see how many purchases there are in each range of scores:"
   ]
  },
  {
   "cell_type": "code",
   "execution_count": null,
   "id": "6ee7faec-29ba-47b1-8eb2-3166d81a9b08",
   "metadata": {},
   "outputs": [],
   "source": [
    "df_new = pd.DataFrame()\n",
    "\n",
    "for idx, model in enumerate(models):\n",
    "    df_new[\"Score\"] = df_new.index\n",
    "    df_new[str(models[idx][\"name\"])] = models[idx][\"predictions\"][\"Score_1\"].value_counts(bins=np.arange(0, 1.05, 0.05)).sort_index(ascending=False)\n",
    "\n",
    "df_new.reset_index(inplace=True, drop=True)\n",
    "df_new"
   ]
  },
  {
   "cell_type": "markdown",
   "id": "9fae23b9-1851-4368-98b8-edb87b16314e",
   "metadata": {},
   "source": [
    "### Select the model you would like to use for updating scores:"
   ]
  },
  {
   "cell_type": "code",
   "execution_count": 82,
   "id": "d03a9c76-6b5d-4d78-bde6-399594e8851a",
   "metadata": {},
   "outputs": [
    {
     "name": "stdout",
     "output_type": "stream",
     "text": [
      "<class 'pandas.core.frame.DataFrame'>\n",
      "Int64Index: 4478 entries, 27815 to 32938\n",
      "Data columns (total 13 columns):\n",
      " #   Column               Non-Null Count  Dtype  \n",
      "---  ------               --------------  -----  \n",
      " 0   dimCustomerMasterId  4478 non-null   int64  \n",
      " 1   attendancePercent    4478 non-null   float64\n",
      " 2   distToVenue          4478 non-null   float64\n",
      " 3   isNextYear_Buyer     4478 non-null   int64  \n",
      " 4   productGrouping      4478 non-null   object \n",
      " 5   recency              4478 non-null   int64  \n",
      " 6   recentDate           4478 non-null   object \n",
      " 7   source_tenure        4478 non-null   int64  \n",
      " 8   totalSpent           4478 non-null   float64\n",
      " 9   year                 4478 non-null   int64  \n",
      " 10  Label                4478 non-null   int64  \n",
      " 11  Score_0              4478 non-null   float32\n",
      " 12  Score_1              4478 non-null   float32\n",
      "dtypes: float32(2), float64(3), int64(6), object(2)\n",
      "memory usage: 454.8+ KB\n"
     ]
    }
   ],
   "source": [
    "selected_model = \"Extreme Gradient Boosting\"\n",
    "\n",
    "for model in models:\n",
    "    if model[\"name\"] == selected_model:\n",
    "\n",
    "        df_scores = model[\"predictions\"]\n",
    "                                 \n",
    "df_scores.info()"
   ]
  },
  {
   "cell_type": "markdown",
   "id": "6d6c614f-288b-4a88-97dc-7ffc1d1c7ec9",
   "metadata": {},
   "source": [
    "### Optionally we can push these scores into QA so that we can see what the new scoring looks like in the CDP:"
   ]
  },
  {
   "cell_type": "code",
   "execution_count": 83,
   "id": "b26584d9-fb0e-4923-9cf1-e7c0df1c75c3",
   "metadata": {},
   "outputs": [
    {
     "name": "stdout",
     "output_type": "stream",
     "text": [
      " > BATCH 1 ROWS: 100-109 | 20.0% COMPLETED\n",
      " > BATCH 1 ROWS: 200-209 | 40.0% COMPLETED\n",
      " > BATCH 1 ROWS: 300-309 | 60.0% COMPLETED\n",
      " > BATCH 1 ROWS: 400-409 | 80.0% COMPLETED\n",
      " > BATCH 1 ROWS: 500-509 | 100.0% COMPLETED\n",
      "BATCH 1 PROCESSED\n",
      "\n",
      " > BATCH 2 ROWS: 100-109 | 20.0% COMPLETED\n",
      " > BATCH 2 ROWS: 200-209 | 40.0% COMPLETED\n",
      " > BATCH 2 ROWS: 300-309 | 60.0% COMPLETED\n",
      " > BATCH 2 ROWS: 400-409 | 80.0% COMPLETED\n",
      " > BATCH 2 ROWS: 500-509 | 100.0% COMPLETED\n",
      "BATCH 2 PROCESSED\n",
      "\n",
      " > BATCH 3 ROWS: 100-109 | 20.0% COMPLETED\n",
      " > BATCH 3 ROWS: 200-209 | 40.0% COMPLETED\n",
      " > BATCH 3 ROWS: 300-309 | 60.0% COMPLETED\n",
      " > BATCH 3 ROWS: 400-409 | 80.0% COMPLETED\n",
      " > BATCH 3 ROWS: 500-509 | 100.0% COMPLETED\n",
      "BATCH 3 PROCESSED\n",
      "\n",
      " > BATCH 4 ROWS: 100-109 | 20.0% COMPLETED\n",
      " > BATCH 4 ROWS: 200-209 | 40.0% COMPLETED\n",
      " > BATCH 4 ROWS: 300-309 | 60.0% COMPLETED\n",
      " > BATCH 4 ROWS: 400-409 | 80.0% COMPLETED\n",
      " > BATCH 4 ROWS: 500-509 | 100.0% COMPLETED\n",
      "BATCH 4 PROCESSED\n",
      "\n",
      " > BATCH 5 ROWS: 100-109 | 20.0% COMPLETED\n",
      " > BATCH 5 ROWS: 200-209 | 40.0% COMPLETED\n",
      " > BATCH 5 ROWS: 300-309 | 60.0% COMPLETED\n",
      " > BATCH 5 ROWS: 400-409 | 80.0% COMPLETED\n",
      " > BATCH 5 ROWS: 500-509 | 100.0% COMPLETED\n",
      "BATCH 5 PROCESSED\n",
      "\n",
      " > BATCH 6 ROWS: 100-109 | 20.0% COMPLETED\n",
      " > BATCH 6 ROWS: 200-209 | 40.0% COMPLETED\n",
      " > BATCH 6 ROWS: 300-309 | 60.0% COMPLETED\n",
      " > BATCH 6 ROWS: 400-409 | 80.0% COMPLETED\n",
      " > BATCH 6 ROWS: 500-509 | 100.0% COMPLETED\n",
      "BATCH 6 PROCESSED\n",
      "\n",
      " > BATCH 7 ROWS: 100-109 | 20.0% COMPLETED\n",
      " > BATCH 7 ROWS: 200-209 | 40.0% COMPLETED\n",
      " > BATCH 7 ROWS: 300-309 | 60.0% COMPLETED\n",
      " > BATCH 7 ROWS: 400-409 | 80.0% COMPLETED\n",
      " > BATCH 7 ROWS: 500-509 | 100.0% COMPLETED\n",
      "BATCH 7 PROCESSED\n",
      "\n",
      " > BATCH 8 ROWS: 100-109 | 20.0% COMPLETED\n",
      " > BATCH 8 ROWS: 200-209 | 40.0% COMPLETED\n",
      " > BATCH 8 ROWS: 300-309 | 60.0% COMPLETED\n",
      " > BATCH 8 ROWS: 400-409 | 80.0% COMPLETED\n",
      " > BATCH 8 ROWS: 500-509 | 100.0% COMPLETED\n",
      "BATCH 8 PROCESSED\n",
      "\n",
      " > BATCH 9 ROWS: 100-109 | 21.0% COMPLETED\n",
      " > BATCH 9 ROWS: 200-209 | 42.0% COMPLETED\n",
      " > BATCH 9 ROWS: 300-309 | 63.0% COMPLETED\n",
      " > BATCH 9 ROWS: 400-409 | 84.0% COMPLETED\n",
      "BATCH 9 PROCESSED\n",
      "\n",
      "RETENTION SCORES WRITTEN TO DATABASE\n",
      "SQL CONNECTION HAS BEEN CLOSED\n"
     ]
    }
   ],
   "source": [
    "try:\n",
    "    # connect to SQL Server.\n",
    "    cnxn = pyodbc.connect('DRIVER={ODBC Driver 17 for SQL Server};SERVER='+SERVER+';DATABASE='+DATABASE+';UID='+USERNAME+';PWD='+ PASSWORD)\n",
    "    cursor = cnxn.cursor()\n",
    "    \n",
    "    date_time_now = datetime.now().strftime(\"%m-%d-%Y %H:%M:%S\")\n",
    "    \n",
    "    # create batches of dataframes based on batch size\n",
    "    batch_size = 500\n",
    "    df_scores_list = [\n",
    "        df_scores[i:i + batch_size]\n",
    "        for i in range(0, df_scores.shape[0], batch_size)\n",
    "    ]\n",
    "\n",
    "    # iterate through each batch and process retention scores\n",
    "    for idx, scores in enumerate(df_scores_list):\n",
    "\n",
    "        fields = f\"\"\"\n",
    "            INSERT INTO ds.customerScores (\n",
    "                dimCustomerMasterId,\n",
    "                buyer_score,\n",
    "                tenuredays,\n",
    "                attendancePercentage,\n",
    "                mostrecentattendance,\n",
    "                year,\n",
    "                lkupclientid,\n",
    "                productgrouping,\n",
    "                seasonYear,\n",
    "                insertDate\n",
    "            ) VALUES \n",
    "        \"\"\"\n",
    "\n",
    "        values_list = []\n",
    "        for i, (index, row) in enumerate(scores.iterrows()):   \n",
    "\n",
    "            values = f\"\"\"\n",
    "                (\n",
    "                    {str(row.dimCustomerMasterId)},\n",
    "                    {str(round(row.Score_1,4))},\n",
    "                    {str(row.source_tenure)},\n",
    "                    {str(row.attendancePercent)},\n",
    "                    '{str(row.recentDate)}',\n",
    "                    {str(row.year)},\n",
    "                    {str(lkupclientid)},\n",
    "                    '{str(row.productGrouping)}',\n",
    "                    {str(row.year)},\n",
    "                    '{str(date_time_now)}'\n",
    "                )\n",
    "            \"\"\"\n",
    "\n",
    "            values_list.append(values)\n",
    "\n",
    "            if((i+1)%100 == 0):\n",
    "                print(f\" > BATCH {idx+1} ROWS: {i+1}-{i+10} | {round(100*(i+1)/len(scores),0)}% COMPLETED\")\n",
    "\n",
    "        insert_statement = fields + \",\".join(values_list)+\";\"\n",
    "\n",
    "        cursor.execute(insert_statement)\n",
    "        cnxn.commit()\n",
    "        \n",
    "        print(f\"BATCH {idx+1} PROCESSED\", end=\"\\n\\n\")\n",
    "    \n",
    "    print(\"RETENTION SCORES WRITTEN TO DATABASE\")\n",
    "\n",
    "except Exception as err:\n",
    "    print(\"ERROR INSERTING RETENTION SCORES TO DATABASE:\", err)\n",
    "\n",
    "finally:\n",
    "    if cnxn:\n",
    "        #cursor.close()\n",
    "        #conn.close()\n",
    "        print(\"SQL CONNECTION HAS BEEN CLOSED\")\n",
    "    "
   ]
  },
  {
   "cell_type": "markdown",
   "id": "838264dd-90c0-4513-baa2-3f788f81eab7",
   "metadata": {},
   "source": [
    "### Run the stored procedure to push scores from Data Science table to Stlr table:"
   ]
  },
  {
   "cell_type": "code",
   "execution_count": 84,
   "id": "8e925a7d-8a22-4c42-ac02-8d9a92ce0f1a",
   "metadata": {},
   "outputs": [],
   "source": [
    "cnxn = pyodbc.connect('DRIVER={ODBC Driver 17 for SQL Server};SERVER='+SERVER+';DATABASE='+DATABASE+';UID='+USERNAME+';PWD='+ PASSWORD)\n",
    "cursor = cnxn.cursor()\n",
    "\n",
    "try:\n",
    "    cursor.execute(\n",
    "        f\"Exec [DataScience].[DW].[factCustomerretention_INCR_LOAD_procVersion] {lkupclientid}, 2021\"\n",
    "    )\n",
    "    cnxn.commit()\n",
    "\n",
    "except Exception as err:\n",
    "    print(\"ERROR RUNNING RETENTION SCORE STORED PROCEDURE:\", err)"
   ]
  },
  {
   "cell_type": "code",
   "execution_count": null,
   "id": "368e9a68-7d9c-4ff0-a2d9-68c478f7ab92",
   "metadata": {},
   "outputs": [],
   "source": []
  }
 ],
 "metadata": {
  "kernelspec": {
   "display_name": "Python 3 (ipykernel)",
   "language": "python",
   "name": "python3"
  },
  "language_info": {
   "codemirror_mode": {
    "name": "ipython",
    "version": 3
   },
   "file_extension": ".py",
   "mimetype": "text/x-python",
   "name": "python",
   "nbconvert_exporter": "python",
   "pygments_lexer": "ipython3",
   "version": "3.7.10"
  }
 },
 "nbformat": 4,
 "nbformat_minor": 5
}
