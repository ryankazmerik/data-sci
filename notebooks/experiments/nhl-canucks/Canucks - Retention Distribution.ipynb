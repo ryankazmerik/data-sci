{
 "cells": [
  {
   "cell_type": "markdown",
   "id": "6ee08766-25fd-4da1-91b8-b0c3e74db588",
   "metadata": {},
   "source": [
    "# NHL Canucks - Retention Score Distribution\n",
    "* StelllarAlgo Data Science\n",
    "* Ryan Kazmerik & Nakisa Rad\n",
    "* Feb 28, 2022"
   ]
  },
  {
   "cell_type": "code",
   "execution_count": 4,
   "id": "4c533efd-600e-4bce-8203-faffbddfa700",
   "metadata": {},
   "outputs": [],
   "source": [
    "import getpass\n",
    "import pyodbc\n",
    "import pandas as pd\n",
    "import warnings\n",
    "import matplotlib.pyplot as plt\n",
    "\n",
    "from pycaret.classification import *\n",
    "\n",
    "warnings.filterwarnings('ignore')"
   ]
  },
  {
   "cell_type": "markdown",
   "id": "b64ae7d5-84af-4915-bd13-1dd9d17098a3",
   "metadata": {},
   "source": [
    "### Let's connect to MSSQL and run a stored proc to get our dataset:"
   ]
  },
  {
   "cell_type": "code",
   "execution_count": 5,
   "id": "ae561eb4-f419-4d46-b5e0-12fac9b10db8",
   "metadata": {},
   "outputs": [
    {
     "name": "stdin",
     "output_type": "stream",
     "text": [
      "Enter your password ····················\n"
     ]
    }
   ],
   "source": [
    "# connect to SQL Server.\n",
    "SERVER = '52.44.171.130' \n",
    "DATABASE = 'datascience' \n",
    "USERNAME = 'dsAdminWrite' \n",
    "PASSWORD = getpass.getpass(prompt='Enter your password')\n",
    "CNXN = pyodbc.connect('DRIVER={ODBC Driver 17 for SQL Server};SERVER='+SERVER+';DATABASE='+DATABASE+';UID='+USERNAME+';PWD='+ PASSWORD)"
   ]
  },
  {
   "cell_type": "code",
   "execution_count": 6,
   "id": "af1afe7d-a35b-494b-88f3-980fb0e3da30",
   "metadata": {},
   "outputs": [
    {
     "data": {
      "text/plain": [
       "(32913, 54)"
      ]
     },
     "execution_count": 6,
     "metadata": {},
     "output_type": "execute_result"
    }
   ],
   "source": [
    "lkupclientid = 7 # canucks\n",
    "cursor = CNXN.cursor()\n",
    "\n",
    "storedProc = (\n",
    "    f\"\"\"Exec [stlrCanucks].[ds].[getRetentionScoringModelData] {lkupclientid}\"\"\"\n",
    ")\n",
    "\n",
    "df = pd.read_sql(storedProc, CNXN)\n",
    "\n",
    "# apply some data transformations\n",
    "df[\"year\"] = pd.to_numeric(df[\"year\"])\n",
    "\n",
    "CNXN.commit()\n",
    "cursor.close()\n",
    "\n",
    "df.shape"
   ]
  },
  {
   "cell_type": "markdown",
   "id": "ab40da92-72a7-49c1-9829-ed3805a39719",
   "metadata": {},
   "source": [
    "### We should specify the features used in our model:"
   ]
  },
  {
   "cell_type": "code",
   "execution_count": 7,
   "id": "788f1273-8b7a-46bd-a099-1a471feeacc5",
   "metadata": {},
   "outputs": [
    {
     "name": "stdout",
     "output_type": "stream",
     "text": [
      "Data for Modeling: (23643, 9)\n",
      "Unseen Data For Predictions: (4172, 9)\n",
      "\n"
     ]
    }
   ],
   "source": [
    "# choose the features for the stellar base retention model\n",
    "features = [\n",
    "    \"dimCustomerMasterId\",\n",
    "    \"attendancePercent\",\n",
    "    \"distToVenue\",\n",
    "    \"isNextYear_Buyer\",\n",
    "    \"productGrouping\",\n",
    "    \"recency\",\n",
    "    \"source_tenure\",\n",
    "    \"totalSpent\",\n",
    "    \"year\"\n",
    "]\n",
    "\n",
    "# copy your main dataframe\n",
    "df_dataset = df\n",
    "\n",
    "# choose the features & train year & test year\n",
    "df_dataset = df_dataset[features]\n",
    "df_dataset[\"year\"] = pd.to_numeric(df_dataset[\"year\"])\n",
    "df_dataset = df_dataset.loc[df_dataset[\"year\"] <= 2019]\n",
    "\n",
    "df_train = df_dataset.sample(frac=0.85, random_state=786)\n",
    "df_eval = df_dataset.drop(df_train.index)\n",
    "\n",
    "df_train.reset_index(drop=True, inplace=True)\n",
    "df_eval.reset_index(drop=True, inplace=True)\n",
    "\n",
    "# print out the number of records for training and eval\n",
    "print('Data for Modeling: ' + str(df_train.shape))\n",
    "print('Unseen Data For Predictions: ' + str(df_eval.shape), end=\"\\n\\n\")"
   ]
  },
  {
   "cell_type": "markdown",
   "id": "4f2da06d-9015-49fd-89b3-956c2ebf66e9",
   "metadata": {},
   "source": [
    "### Now we can model the data using a binary classification prediction for the isnextyear_buyer field to see how likely a customer is to re-purchase."
   ]
  },
  {
   "cell_type": "code",
   "execution_count": 8,
   "id": "23a69cdc-b3ec-48c8-9ce5-29f617779389",
   "metadata": {},
   "outputs": [],
   "source": [
    "setup(\n",
    "    data= df_train, \n",
    "    target=\"isNextYear_Buyer\", \n",
    "    train_size = 0.85,\n",
    "    data_split_shuffle=True,\n",
    "    ignore_features=[\"dimCustomerMasterId\",\"productGrouping\",\"year\"],\n",
    "    silent=True,\n",
    "    verbose=False,\n",
    "    numeric_features=[\n",
    "        \"attendancePercent\",\n",
    "        \"distToVenue\",\n",
    "        \"recency\",\n",
    "        \"source_tenure\",\n",
    "        \"totalSpent\"\n",
    "    ]\n",
    ");"
   ]
  },
  {
   "cell_type": "markdown",
   "id": "6e1e33e8-ed5f-4e84-abb2-a2fc8370905c",
   "metadata": {},
   "source": [
    "### The evaluation output prints a score grid that shows average Accuracy, AUC, Recall, Precision, F1 and Kappa accross the folds (10 by default) along with training time:"
   ]
  },
  {
   "cell_type": "code",
   "execution_count": 9,
   "id": "ef2db9d2-02c2-45c0-b6bb-5cad42c373ce",
   "metadata": {},
   "outputs": [
    {
     "data": {
      "text/html": [
       "<style  type=\"text/css\" >\n",
       "    #T_266d1_ th {\n",
       "          text-align: left;\n",
       "    }#T_266d1_row0_col0,#T_266d1_row1_col0,#T_266d1_row1_col1,#T_266d1_row1_col2,#T_266d1_row1_col3,#T_266d1_row1_col4,#T_266d1_row1_col5,#T_266d1_row1_col6,#T_266d1_row1_col7,#T_266d1_row2_col0,#T_266d1_row2_col1,#T_266d1_row2_col2,#T_266d1_row2_col3,#T_266d1_row2_col4,#T_266d1_row2_col5,#T_266d1_row2_col6,#T_266d1_row2_col7,#T_266d1_row3_col0,#T_266d1_row3_col1,#T_266d1_row3_col2,#T_266d1_row3_col3,#T_266d1_row3_col4,#T_266d1_row3_col5,#T_266d1_row3_col6,#T_266d1_row3_col7{\n",
       "            text-align:  left;\n",
       "            text-align:  left;\n",
       "        }#T_266d1_row0_col1,#T_266d1_row0_col2,#T_266d1_row0_col3,#T_266d1_row0_col4,#T_266d1_row0_col5,#T_266d1_row0_col6,#T_266d1_row0_col7{\n",
       "            text-align:  left;\n",
       "            text-align:  left;\n",
       "            background-color:  yellow;\n",
       "        }#T_266d1_row0_col8,#T_266d1_row1_col8,#T_266d1_row2_col8{\n",
       "            text-align:  left;\n",
       "            text-align:  left;\n",
       "            background-color:  lightgrey;\n",
       "        }#T_266d1_row3_col8{\n",
       "            text-align:  left;\n",
       "            text-align:  left;\n",
       "            background-color:  yellow;\n",
       "            background-color:  lightgrey;\n",
       "        }</style><table id=\"T_266d1_\" ><thead>    <tr>        <th class=\"blank level0\" ></th>        <th class=\"col_heading level0 col0\" >Model</th>        <th class=\"col_heading level0 col1\" >Accuracy</th>        <th class=\"col_heading level0 col2\" >AUC</th>        <th class=\"col_heading level0 col3\" >Recall</th>        <th class=\"col_heading level0 col4\" >Prec.</th>        <th class=\"col_heading level0 col5\" >F1</th>        <th class=\"col_heading level0 col6\" >Kappa</th>        <th class=\"col_heading level0 col7\" >MCC</th>        <th class=\"col_heading level0 col8\" >TT (Sec)</th>    </tr></thead><tbody>\n",
       "                <tr>\n",
       "                        <th id=\"T_266d1_level0_row0\" class=\"row_heading level0 row0\" >xgboost</th>\n",
       "                        <td id=\"T_266d1_row0_col0\" class=\"data row0 col0\" >Extreme Gradient Boosting</td>\n",
       "                        <td id=\"T_266d1_row0_col1\" class=\"data row0 col1\" >0.7827</td>\n",
       "                        <td id=\"T_266d1_row0_col2\" class=\"data row0 col2\" >0.8624</td>\n",
       "                        <td id=\"T_266d1_row0_col3\" class=\"data row0 col3\" >0.8077</td>\n",
       "                        <td id=\"T_266d1_row0_col4\" class=\"data row0 col4\" >0.7801</td>\n",
       "                        <td id=\"T_266d1_row0_col5\" class=\"data row0 col5\" >0.7937</td>\n",
       "                        <td id=\"T_266d1_row0_col6\" class=\"data row0 col6\" >0.5643</td>\n",
       "                        <td id=\"T_266d1_row0_col7\" class=\"data row0 col7\" >0.5647</td>\n",
       "                        <td id=\"T_266d1_row0_col8\" class=\"data row0 col8\" >0.3470</td>\n",
       "            </tr>\n",
       "            <tr>\n",
       "                        <th id=\"T_266d1_level0_row1\" class=\"row_heading level0 row1\" >lightgbm</th>\n",
       "                        <td id=\"T_266d1_row1_col0\" class=\"data row1 col0\" >Light Gradient Boosting Machine</td>\n",
       "                        <td id=\"T_266d1_row1_col1\" class=\"data row1 col1\" >0.7687</td>\n",
       "                        <td id=\"T_266d1_row1_col2\" class=\"data row1 col2\" >0.8495</td>\n",
       "                        <td id=\"T_266d1_row1_col3\" class=\"data row1 col3\" >0.7832</td>\n",
       "                        <td id=\"T_266d1_row1_col4\" class=\"data row1 col4\" >0.7728</td>\n",
       "                        <td id=\"T_266d1_row1_col5\" class=\"data row1 col5\" >0.7779</td>\n",
       "                        <td id=\"T_266d1_row1_col6\" class=\"data row1 col6\" >0.5366</td>\n",
       "                        <td id=\"T_266d1_row1_col7\" class=\"data row1 col7\" >0.5368</td>\n",
       "                        <td id=\"T_266d1_row1_col8\" class=\"data row1 col8\" >0.1590</td>\n",
       "            </tr>\n",
       "            <tr>\n",
       "                        <th id=\"T_266d1_level0_row2\" class=\"row_heading level0 row2\" >gbc</th>\n",
       "                        <td id=\"T_266d1_row2_col0\" class=\"data row2 col0\" >Gradient Boosting Classifier</td>\n",
       "                        <td id=\"T_266d1_row2_col1\" class=\"data row2 col1\" >0.7432</td>\n",
       "                        <td id=\"T_266d1_row2_col2\" class=\"data row2 col2\" >0.8171</td>\n",
       "                        <td id=\"T_266d1_row2_col3\" class=\"data row2 col3\" >0.7346</td>\n",
       "                        <td id=\"T_266d1_row2_col4\" class=\"data row2 col4\" >0.7609</td>\n",
       "                        <td id=\"T_266d1_row2_col5\" class=\"data row2 col5\" >0.7474</td>\n",
       "                        <td id=\"T_266d1_row2_col6\" class=\"data row2 col6\" >0.4865</td>\n",
       "                        <td id=\"T_266d1_row2_col7\" class=\"data row2 col7\" >0.4869</td>\n",
       "                        <td id=\"T_266d1_row2_col8\" class=\"data row2 col8\" >0.3900</td>\n",
       "            </tr>\n",
       "            <tr>\n",
       "                        <th id=\"T_266d1_level0_row3\" class=\"row_heading level0 row3\" >lr</th>\n",
       "                        <td id=\"T_266d1_row3_col0\" class=\"data row3 col0\" >Logistic Regression</td>\n",
       "                        <td id=\"T_266d1_row3_col1\" class=\"data row3 col1\" >0.6417</td>\n",
       "                        <td id=\"T_266d1_row3_col2\" class=\"data row3 col2\" >0.6975</td>\n",
       "                        <td id=\"T_266d1_row3_col3\" class=\"data row3 col3\" >0.6133</td>\n",
       "                        <td id=\"T_266d1_row3_col4\" class=\"data row3 col4\" >0.6673</td>\n",
       "                        <td id=\"T_266d1_row3_col5\" class=\"data row3 col5\" >0.6391</td>\n",
       "                        <td id=\"T_266d1_row3_col6\" class=\"data row3 col6\" >0.2847</td>\n",
       "                        <td id=\"T_266d1_row3_col7\" class=\"data row3 col7\" >0.2857</td>\n",
       "                        <td id=\"T_266d1_row3_col8\" class=\"data row3 col8\" >0.0170</td>\n",
       "            </tr>\n",
       "    </tbody></table>"
      ],
      "text/plain": [
       "<pandas.io.formats.style.Styler at 0x7f9f8d4559d0>"
      ]
     },
     "metadata": {},
     "output_type": "display_data"
    }
   ],
   "source": [
    "model_matrix = compare_models(\n",
    "    fold=10,\n",
    "    include=[\"gbc\",\"lightgbm\",\"lr\",\"xgboost\"],\n",
    "    sort=\"AUC\"\n",
    ")"
   ]
  },
  {
   "cell_type": "code",
   "execution_count": 10,
   "id": "77d55e9b-2f4a-490b-97a1-991613fead88",
   "metadata": {},
   "outputs": [
    {
     "data": {
      "text/html": [
       "<style  type=\"text/css\" >\n",
       "#T_7f702_row10_col0,#T_7f702_row10_col1,#T_7f702_row10_col2,#T_7f702_row10_col3,#T_7f702_row10_col4,#T_7f702_row10_col5,#T_7f702_row10_col6{\n",
       "            background:  yellow;\n",
       "        }</style><table id=\"T_7f702_\" ><thead>    <tr>        <th class=\"blank level0\" ></th>        <th class=\"col_heading level0 col0\" >Accuracy</th>        <th class=\"col_heading level0 col1\" >AUC</th>        <th class=\"col_heading level0 col2\" >Recall</th>        <th class=\"col_heading level0 col3\" >Prec.</th>        <th class=\"col_heading level0 col4\" >F1</th>        <th class=\"col_heading level0 col5\" >Kappa</th>        <th class=\"col_heading level0 col6\" >MCC</th>    </tr></thead><tbody>\n",
       "                <tr>\n",
       "                        <th id=\"T_7f702_level0_row0\" class=\"row_heading level0 row0\" >0</th>\n",
       "                        <td id=\"T_7f702_row0_col0\" class=\"data row0 col0\" >0.7771</td>\n",
       "                        <td id=\"T_7f702_row0_col1\" class=\"data row0 col1\" >0.8578</td>\n",
       "                        <td id=\"T_7f702_row0_col2\" class=\"data row0 col2\" >0.8048</td>\n",
       "                        <td id=\"T_7f702_row0_col3\" class=\"data row0 col3\" >0.7736</td>\n",
       "                        <td id=\"T_7f702_row0_col4\" class=\"data row0 col4\" >0.7889</td>\n",
       "                        <td id=\"T_7f702_row0_col5\" class=\"data row0 col5\" >0.5530</td>\n",
       "                        <td id=\"T_7f702_row0_col6\" class=\"data row0 col6\" >0.5535</td>\n",
       "            </tr>\n",
       "            <tr>\n",
       "                        <th id=\"T_7f702_level0_row1\" class=\"row_heading level0 row1\" >1</th>\n",
       "                        <td id=\"T_7f702_row1_col0\" class=\"data row1 col0\" >0.7766</td>\n",
       "                        <td id=\"T_7f702_row1_col1\" class=\"data row1 col1\" >0.8558</td>\n",
       "                        <td id=\"T_7f702_row1_col2\" class=\"data row1 col2\" >0.8144</td>\n",
       "                        <td id=\"T_7f702_row1_col3\" class=\"data row1 col3\" >0.7679</td>\n",
       "                        <td id=\"T_7f702_row1_col4\" class=\"data row1 col4\" >0.7905</td>\n",
       "                        <td id=\"T_7f702_row1_col5\" class=\"data row1 col5\" >0.5517</td>\n",
       "                        <td id=\"T_7f702_row1_col6\" class=\"data row1 col6\" >0.5528</td>\n",
       "            </tr>\n",
       "            <tr>\n",
       "                        <th id=\"T_7f702_level0_row2\" class=\"row_heading level0 row2\" >2</th>\n",
       "                        <td id=\"T_7f702_row2_col0\" class=\"data row2 col0\" >0.7826</td>\n",
       "                        <td id=\"T_7f702_row2_col1\" class=\"data row2 col1\" >0.8654</td>\n",
       "                        <td id=\"T_7f702_row2_col2\" class=\"data row2 col2\" >0.8029</td>\n",
       "                        <td id=\"T_7f702_row2_col3\" class=\"data row2 col3\" >0.7826</td>\n",
       "                        <td id=\"T_7f702_row2_col4\" class=\"data row2 col4\" >0.7926</td>\n",
       "                        <td id=\"T_7f702_row2_col5\" class=\"data row2 col5\" >0.5642</td>\n",
       "                        <td id=\"T_7f702_row2_col6\" class=\"data row2 col6\" >0.5644</td>\n",
       "            </tr>\n",
       "            <tr>\n",
       "                        <th id=\"T_7f702_level0_row3\" class=\"row_heading level0 row3\" >3</th>\n",
       "                        <td id=\"T_7f702_row3_col0\" class=\"data row3 col0\" >0.7886</td>\n",
       "                        <td id=\"T_7f702_row3_col1\" class=\"data row3 col1\" >0.8730</td>\n",
       "                        <td id=\"T_7f702_row3_col2\" class=\"data row3 col2\" >0.8144</td>\n",
       "                        <td id=\"T_7f702_row3_col3\" class=\"data row3 col3\" >0.7850</td>\n",
       "                        <td id=\"T_7f702_row3_col4\" class=\"data row3 col4\" >0.7994</td>\n",
       "                        <td id=\"T_7f702_row3_col5\" class=\"data row3 col5\" >0.5760</td>\n",
       "                        <td id=\"T_7f702_row3_col6\" class=\"data row3 col6\" >0.5765</td>\n",
       "            </tr>\n",
       "            <tr>\n",
       "                        <th id=\"T_7f702_level0_row4\" class=\"row_heading level0 row4\" >4</th>\n",
       "                        <td id=\"T_7f702_row4_col0\" class=\"data row4 col0\" >0.7990</td>\n",
       "                        <td id=\"T_7f702_row4_col1\" class=\"data row4 col1\" >0.8682</td>\n",
       "                        <td id=\"T_7f702_row4_col2\" class=\"data row4 col2\" >0.8260</td>\n",
       "                        <td id=\"T_7f702_row4_col3\" class=\"data row4 col3\" >0.7939</td>\n",
       "                        <td id=\"T_7f702_row4_col4\" class=\"data row4 col4\" >0.8096</td>\n",
       "                        <td id=\"T_7f702_row4_col5\" class=\"data row4 col5\" >0.5969</td>\n",
       "                        <td id=\"T_7f702_row4_col6\" class=\"data row4 col6\" >0.5975</td>\n",
       "            </tr>\n",
       "            <tr>\n",
       "                        <th id=\"T_7f702_level0_row5\" class=\"row_heading level0 row5\" >5</th>\n",
       "                        <td id=\"T_7f702_row5_col0\" class=\"data row5 col0\" >0.7816</td>\n",
       "                        <td id=\"T_7f702_row5_col1\" class=\"data row5 col1\" >0.8633</td>\n",
       "                        <td id=\"T_7f702_row5_col2\" class=\"data row5 col2\" >0.8038</td>\n",
       "                        <td id=\"T_7f702_row5_col3\" class=\"data row5 col3\" >0.7806</td>\n",
       "                        <td id=\"T_7f702_row5_col4\" class=\"data row5 col4\" >0.7920</td>\n",
       "                        <td id=\"T_7f702_row5_col5\" class=\"data row5 col5\" >0.5622</td>\n",
       "                        <td id=\"T_7f702_row5_col6\" class=\"data row5 col6\" >0.5625</td>\n",
       "            </tr>\n",
       "            <tr>\n",
       "                        <th id=\"T_7f702_level0_row6\" class=\"row_heading level0 row6\" >6</th>\n",
       "                        <td id=\"T_7f702_row6_col0\" class=\"data row6 col0\" >0.7805</td>\n",
       "                        <td id=\"T_7f702_row6_col1\" class=\"data row6 col1\" >0.8604</td>\n",
       "                        <td id=\"T_7f702_row6_col2\" class=\"data row6 col2\" >0.8087</td>\n",
       "                        <td id=\"T_7f702_row6_col3\" class=\"data row6 col3\" >0.7765</td>\n",
       "                        <td id=\"T_7f702_row6_col4\" class=\"data row6 col4\" >0.7923</td>\n",
       "                        <td id=\"T_7f702_row6_col5\" class=\"data row6 col5\" >0.5598</td>\n",
       "                        <td id=\"T_7f702_row6_col6\" class=\"data row6 col6\" >0.5603</td>\n",
       "            </tr>\n",
       "            <tr>\n",
       "                        <th id=\"T_7f702_level0_row7\" class=\"row_heading level0 row7\" >7</th>\n",
       "                        <td id=\"T_7f702_row7_col0\" class=\"data row7 col0\" >0.7850</td>\n",
       "                        <td id=\"T_7f702_row7_col1\" class=\"data row7 col1\" >0.8660</td>\n",
       "                        <td id=\"T_7f702_row7_col2\" class=\"data row7 col2\" >0.8058</td>\n",
       "                        <td id=\"T_7f702_row7_col3\" class=\"data row7 col3\" >0.7846</td>\n",
       "                        <td id=\"T_7f702_row7_col4\" class=\"data row7 col4\" >0.7951</td>\n",
       "                        <td id=\"T_7f702_row7_col5\" class=\"data row7 col5\" >0.5690</td>\n",
       "                        <td id=\"T_7f702_row7_col6\" class=\"data row7 col6\" >0.5692</td>\n",
       "            </tr>\n",
       "            <tr>\n",
       "                        <th id=\"T_7f702_level0_row8\" class=\"row_heading level0 row8\" >8</th>\n",
       "                        <td id=\"T_7f702_row8_col0\" class=\"data row8 col0\" >0.7850</td>\n",
       "                        <td id=\"T_7f702_row8_col1\" class=\"data row8 col1\" >0.8652</td>\n",
       "                        <td id=\"T_7f702_row8_col2\" class=\"data row8 col2\" >0.8104</td>\n",
       "                        <td id=\"T_7f702_row8_col3\" class=\"data row8 col3\" >0.7818</td>\n",
       "                        <td id=\"T_7f702_row8_col4\" class=\"data row8 col4\" >0.7958</td>\n",
       "                        <td id=\"T_7f702_row8_col5\" class=\"data row8 col5\" >0.5689</td>\n",
       "                        <td id=\"T_7f702_row8_col6\" class=\"data row8 col6\" >0.5693</td>\n",
       "            </tr>\n",
       "            <tr>\n",
       "                        <th id=\"T_7f702_level0_row9\" class=\"row_heading level0 row9\" >9</th>\n",
       "                        <td id=\"T_7f702_row9_col0\" class=\"data row9 col0\" >0.7710</td>\n",
       "                        <td id=\"T_7f702_row9_col1\" class=\"data row9 col1\" >0.8486</td>\n",
       "                        <td id=\"T_7f702_row9_col2\" class=\"data row9 col2\" >0.7863</td>\n",
       "                        <td id=\"T_7f702_row9_col3\" class=\"data row9 col3\" >0.7744</td>\n",
       "                        <td id=\"T_7f702_row9_col4\" class=\"data row9 col4\" >0.7803</td>\n",
       "                        <td id=\"T_7f702_row9_col5\" class=\"data row9 col5\" >0.5413</td>\n",
       "                        <td id=\"T_7f702_row9_col6\" class=\"data row9 col6\" >0.5413</td>\n",
       "            </tr>\n",
       "            <tr>\n",
       "                        <th id=\"T_7f702_level0_row10\" class=\"row_heading level0 row10\" >Mean</th>\n",
       "                        <td id=\"T_7f702_row10_col0\" class=\"data row10 col0\" >0.7827</td>\n",
       "                        <td id=\"T_7f702_row10_col1\" class=\"data row10 col1\" >0.8624</td>\n",
       "                        <td id=\"T_7f702_row10_col2\" class=\"data row10 col2\" >0.8077</td>\n",
       "                        <td id=\"T_7f702_row10_col3\" class=\"data row10 col3\" >0.7801</td>\n",
       "                        <td id=\"T_7f702_row10_col4\" class=\"data row10 col4\" >0.7937</td>\n",
       "                        <td id=\"T_7f702_row10_col5\" class=\"data row10 col5\" >0.5643</td>\n",
       "                        <td id=\"T_7f702_row10_col6\" class=\"data row10 col6\" >0.5647</td>\n",
       "            </tr>\n",
       "            <tr>\n",
       "                        <th id=\"T_7f702_level0_row11\" class=\"row_heading level0 row11\" >SD</th>\n",
       "                        <td id=\"T_7f702_row11_col0\" class=\"data row11 col0\" >0.0072</td>\n",
       "                        <td id=\"T_7f702_row11_col1\" class=\"data row11 col1\" >0.0066</td>\n",
       "                        <td id=\"T_7f702_row11_col2\" class=\"data row11 col2\" >0.0097</td>\n",
       "                        <td id=\"T_7f702_row11_col3\" class=\"data row11 col3\" >0.0069</td>\n",
       "                        <td id=\"T_7f702_row11_col4\" class=\"data row11 col4\" >0.0071</td>\n",
       "                        <td id=\"T_7f702_row11_col5\" class=\"data row11 col5\" >0.0144</td>\n",
       "                        <td id=\"T_7f702_row11_col6\" class=\"data row11 col6\" >0.0145</td>\n",
       "            </tr>\n",
       "    </tbody></table>"
      ],
      "text/plain": [
       "<pandas.io.formats.style.Styler at 0x7f9f8d47fa50>"
      ]
     },
     "metadata": {},
     "output_type": "display_data"
    }
   ],
   "source": [
    "best_model = create_model(model_matrix)\n",
    "final_model = finalize_model(best_model)"
   ]
  },
  {
   "cell_type": "markdown",
   "id": "3aab9021-4462-423a-8e3c-fbe1f36c6110",
   "metadata": {},
   "source": [
    "### Let's load in our 2021 season data and get retention scores using the model:"
   ]
  },
  {
   "cell_type": "code",
   "execution_count": 11,
   "id": "c249a813-c882-4869-9490-6ab766a8c223",
   "metadata": {},
   "outputs": [
    {
     "data": {
      "text/plain": [
       "(5098, 54)"
      ]
     },
     "execution_count": 11,
     "metadata": {},
     "output_type": "execute_result"
    }
   ],
   "source": [
    "df_inference = df.loc[df[\"year\"] >= 2021]\n",
    "df_inference = df_inference.fillna(0)\n",
    "df_inference.shape"
   ]
  },
  {
   "cell_type": "code",
   "execution_count": 12,
   "id": "658464e2-ba98-4875-a7f2-c8f0ba581d89",
   "metadata": {},
   "outputs": [
    {
     "data": {
      "text/html": [
       "<div>\n",
       "<style scoped>\n",
       "    .dataframe tbody tr th:only-of-type {\n",
       "        vertical-align: middle;\n",
       "    }\n",
       "\n",
       "    .dataframe tbody tr th {\n",
       "        vertical-align: top;\n",
       "    }\n",
       "\n",
       "    .dataframe thead th {\n",
       "        text-align: right;\n",
       "    }\n",
       "</style>\n",
       "<table border=\"1\" class=\"dataframe\">\n",
       "  <thead>\n",
       "    <tr style=\"text-align: right;\">\n",
       "      <th></th>\n",
       "      <th>lkupClientId</th>\n",
       "      <th>dimCustomerMasterId</th>\n",
       "      <th>customerNumber</th>\n",
       "      <th>year</th>\n",
       "      <th>productGrouping</th>\n",
       "      <th>totalSpent</th>\n",
       "      <th>recentDate</th>\n",
       "      <th>attendancePercent</th>\n",
       "      <th>renewedBeforeDays</th>\n",
       "      <th>isBuyer</th>\n",
       "      <th>...</th>\n",
       "      <th>education</th>\n",
       "      <th>urbanicity</th>\n",
       "      <th>credits_after_refund</th>\n",
       "      <th>is_Lockdown</th>\n",
       "      <th>NumberofGamesPerSeason</th>\n",
       "      <th>CNTPostponedGames</th>\n",
       "      <th>isNextYear_Buyer</th>\n",
       "      <th>Label</th>\n",
       "      <th>Score_0</th>\n",
       "      <th>Score_1</th>\n",
       "    </tr>\n",
       "  </thead>\n",
       "  <tbody>\n",
       "    <tr>\n",
       "      <th>27815</th>\n",
       "      <td>7</td>\n",
       "      <td>2933</td>\n",
       "      <td>1857357</td>\n",
       "      <td>2021</td>\n",
       "      <td>Quarter</td>\n",
       "      <td>2054.4</td>\n",
       "      <td>2021-12-12</td>\n",
       "      <td>1.000000</td>\n",
       "      <td>46</td>\n",
       "      <td>TRUE</td>\n",
       "      <td>...</td>\n",
       "      <td>0</td>\n",
       "      <td>0</td>\n",
       "      <td>0.0</td>\n",
       "      <td>1</td>\n",
       "      <td>46</td>\n",
       "      <td>0</td>\n",
       "      <td>0</td>\n",
       "      <td>0</td>\n",
       "      <td>0.5947</td>\n",
       "      <td>0.4053</td>\n",
       "    </tr>\n",
       "    <tr>\n",
       "      <th>27816</th>\n",
       "      <td>7</td>\n",
       "      <td>5582</td>\n",
       "      <td>5332293</td>\n",
       "      <td>2021</td>\n",
       "      <td>Quarter</td>\n",
       "      <td>3625.3</td>\n",
       "      <td>2021-12-06</td>\n",
       "      <td>1.000000</td>\n",
       "      <td>22</td>\n",
       "      <td>TRUE</td>\n",
       "      <td>...</td>\n",
       "      <td>0</td>\n",
       "      <td>0</td>\n",
       "      <td>0.0</td>\n",
       "      <td>1</td>\n",
       "      <td>46</td>\n",
       "      <td>0</td>\n",
       "      <td>0</td>\n",
       "      <td>0</td>\n",
       "      <td>0.5776</td>\n",
       "      <td>0.4224</td>\n",
       "    </tr>\n",
       "    <tr>\n",
       "      <th>27817</th>\n",
       "      <td>7</td>\n",
       "      <td>6251</td>\n",
       "      <td>6081655</td>\n",
       "      <td>2021</td>\n",
       "      <td>Full Season</td>\n",
       "      <td>7254.7</td>\n",
       "      <td>2022-02-24</td>\n",
       "      <td>0.947368</td>\n",
       "      <td>95</td>\n",
       "      <td>TRUE</td>\n",
       "      <td>...</td>\n",
       "      <td>0</td>\n",
       "      <td>0</td>\n",
       "      <td>0.0</td>\n",
       "      <td>1</td>\n",
       "      <td>46</td>\n",
       "      <td>0</td>\n",
       "      <td>0</td>\n",
       "      <td>0</td>\n",
       "      <td>0.6978</td>\n",
       "      <td>0.3022</td>\n",
       "    </tr>\n",
       "    <tr>\n",
       "      <th>27818</th>\n",
       "      <td>7</td>\n",
       "      <td>6857</td>\n",
       "      <td>2173063</td>\n",
       "      <td>2021</td>\n",
       "      <td>Half Season</td>\n",
       "      <td>11888.6</td>\n",
       "      <td>2021-12-12</td>\n",
       "      <td>0.861111</td>\n",
       "      <td>33</td>\n",
       "      <td>TRUE</td>\n",
       "      <td>...</td>\n",
       "      <td>0</td>\n",
       "      <td>0</td>\n",
       "      <td>0.0</td>\n",
       "      <td>1</td>\n",
       "      <td>46</td>\n",
       "      <td>0</td>\n",
       "      <td>0</td>\n",
       "      <td>0</td>\n",
       "      <td>0.7996</td>\n",
       "      <td>0.2004</td>\n",
       "    </tr>\n",
       "    <tr>\n",
       "      <th>27819</th>\n",
       "      <td>7</td>\n",
       "      <td>7570</td>\n",
       "      <td>6905653</td>\n",
       "      <td>2021</td>\n",
       "      <td>Full Season</td>\n",
       "      <td>12818.7</td>\n",
       "      <td>2022-02-24</td>\n",
       "      <td>1.052632</td>\n",
       "      <td>102</td>\n",
       "      <td>TRUE</td>\n",
       "      <td>...</td>\n",
       "      <td>0</td>\n",
       "      <td>0</td>\n",
       "      <td>0.0</td>\n",
       "      <td>1</td>\n",
       "      <td>46</td>\n",
       "      <td>0</td>\n",
       "      <td>0</td>\n",
       "      <td>0</td>\n",
       "      <td>0.6691</td>\n",
       "      <td>0.3309</td>\n",
       "    </tr>\n",
       "  </tbody>\n",
       "</table>\n",
       "<p>5 rows × 57 columns</p>\n",
       "</div>"
      ],
      "text/plain": [
       "       lkupClientId  dimCustomerMasterId customerNumber  year productGrouping  \\\n",
       "27815             7                 2933        1857357  2021         Quarter   \n",
       "27816             7                 5582        5332293  2021         Quarter   \n",
       "27817             7                 6251        6081655  2021     Full Season   \n",
       "27818             7                 6857        2173063  2021     Half Season   \n",
       "27819             7                 7570        6905653  2021     Full Season   \n",
       "\n",
       "       totalSpent  recentDate  attendancePercent  renewedBeforeDays isBuyer  \\\n",
       "27815      2054.4  2021-12-12           1.000000                 46    TRUE   \n",
       "27816      3625.3  2021-12-06           1.000000                 22    TRUE   \n",
       "27817      7254.7  2022-02-24           0.947368                 95    TRUE   \n",
       "27818     11888.6  2021-12-12           0.861111                 33    TRUE   \n",
       "27819     12818.7  2022-02-24           1.052632                102    TRUE   \n",
       "\n",
       "       ...  education  urbanicity  credits_after_refund  is_Lockdown  \\\n",
       "27815  ...          0           0                   0.0            1   \n",
       "27816  ...          0           0                   0.0            1   \n",
       "27817  ...          0           0                   0.0            1   \n",
       "27818  ...          0           0                   0.0            1   \n",
       "27819  ...          0           0                   0.0            1   \n",
       "\n",
       "       NumberofGamesPerSeason  CNTPostponedGames  isNextYear_Buyer  Label  \\\n",
       "27815                      46                  0                 0      0   \n",
       "27816                      46                  0                 0      0   \n",
       "27817                      46                  0                 0      0   \n",
       "27818                      46                  0                 0      0   \n",
       "27819                      46                  0                 0      0   \n",
       "\n",
       "       Score_0  Score_1  \n",
       "27815   0.5947   0.4053  \n",
       "27816   0.5776   0.4224  \n",
       "27817   0.6978   0.3022  \n",
       "27818   0.7996   0.2004  \n",
       "27819   0.6691   0.3309  \n",
       "\n",
       "[5 rows x 57 columns]"
      ]
     },
     "execution_count": 12,
     "metadata": {},
     "output_type": "execute_result"
    }
   ],
   "source": [
    "new_predictions = predict_model(final_model, data=df_inference, raw_score=True)\n",
    "new_predictions.head()"
   ]
  },
  {
   "cell_type": "markdown",
   "id": "c5d007b0-fe2b-401a-9445-383f1626a0df",
   "metadata": {},
   "source": [
    "### We can see how many purchases there are in each probability bucket:"
   ]
  },
  {
   "cell_type": "code",
   "execution_count": null,
   "id": "6ee7faec-29ba-47b1-8eb2-3166d81a9b08",
   "metadata": {},
   "outputs": [],
   "source": [
    "#new_predictions = new_predictions[new_predictions[\"productGrouping\"] == \"Full Season\"]\n",
    "new_predictions[\"Score_1\"].value_counts(bins=[0.5,0.6,0.7,0.8,0.9,1])"
   ]
  },
  {
   "cell_type": "code",
   "execution_count": 14,
   "id": "450e87f7-0118-4090-aae6-bac1ff1d14a3",
   "metadata": {},
   "outputs": [
    {
     "data": {
      "image/png": "[encoded data removed]",
      "text/plain": [
       "<Figure size 1440x216 with 1 Axes>"
      ]
     },
     "metadata": {
      "needs_background": "light"
     },
     "output_type": "display_data"
    }
   ],
   "source": [
    "plt.subplot(1, 2, 1) #two rows, 1 column, index 1\n",
    "plt.title(\"Retention Buyers\")\n",
    "plt.hist(new_predictions[\"Score_1\"], bins=20, edgecolor=\"black\", range=(0.05,1.0))\n",
    "plt.ylabel(\"Num Fans\")\n",
    "plt.xlabel(\"SA Buyer Score\")\n",
    "\n",
    "plt.rcParams[\"figure.figsize\"] = (20,2)\n",
    "plt.show()"
   ]
  },
  {
   "cell_type": "markdown",
   "id": "eeadb1d0-27fc-4ba4-afe4-cffcd0b873eb",
   "metadata": {},
   "source": [
    "### Now let's load in the retention scores from SageMaker and compare the results:"
   ]
  },
  {
   "cell_type": "code",
   "execution_count": 23,
   "id": "02b4188b-0f03-445f-a18e-9ffdbea05ec3",
   "metadata": {},
   "outputs": [
    {
     "name": "stdout",
     "output_type": "stream",
     "text": [
      "<class 'pandas.core.frame.DataFrame'>\n",
      "RangeIndex: 5094 entries, 0 to 5093\n",
      "Data columns (total 11 columns):\n",
      " #   Column               Non-Null Count  Dtype  \n",
      "---  ------               --------------  -----  \n",
      " 0   attendancePercent    5094 non-null   float64\n",
      " 1   isNextYear_Buyer     5094 non-null   float64\n",
      " 2   clientcode           5094 non-null   object \n",
      " 3   dimCustomerMasterId  5094 non-null   int64  \n",
      " 4   lkupclientid         5094 non-null   int64  \n",
      " 5   productGrouping      5094 non-null   object \n",
      " 6   recency              5094 non-null   int64  \n",
      " 7   recentDate           5094 non-null   object \n",
      " 8   source_tenure        5094 non-null   int64  \n",
      " 9   totalSpent           5094 non-null   float64\n",
      " 10  year                 5094 non-null   int64  \n",
      "dtypes: float64(3), int64(5), object(3)\n",
      "memory usage: 437.9+ KB\n"
     ]
    },
    {
     "data": {
      "text/html": [
       "<div>\n",
       "<style scoped>\n",
       "    .dataframe tbody tr th:only-of-type {\n",
       "        vertical-align: middle;\n",
       "    }\n",
       "\n",
       "    .dataframe tbody tr th {\n",
       "        vertical-align: top;\n",
       "    }\n",
       "\n",
       "    .dataframe thead th {\n",
       "        text-align: right;\n",
       "    }\n",
       "</style>\n",
       "<table border=\"1\" class=\"dataframe\">\n",
       "  <thead>\n",
       "    <tr style=\"text-align: right;\">\n",
       "      <th></th>\n",
       "      <th>attendancePercent</th>\n",
       "      <th>isNextYear_Buyer</th>\n",
       "      <th>clientcode</th>\n",
       "      <th>dimCustomerMasterId</th>\n",
       "      <th>lkupclientid</th>\n",
       "      <th>productGrouping</th>\n",
       "      <th>recency</th>\n",
       "      <th>recentDate</th>\n",
       "      <th>source_tenure</th>\n",
       "      <th>totalSpent</th>\n",
       "      <th>year</th>\n",
       "    </tr>\n",
       "  </thead>\n",
       "  <tbody>\n",
       "    <tr>\n",
       "      <th>0</th>\n",
       "      <td>1.000000</td>\n",
       "      <td>0.1217</td>\n",
       "      <td>canucks</td>\n",
       "      <td>992</td>\n",
       "      <td>7</td>\n",
       "      <td>Quarter</td>\n",
       "      <td>0</td>\n",
       "      <td>2021-12-12</td>\n",
       "      <td>2555</td>\n",
       "      <td>1375.0</td>\n",
       "      <td>2021</td>\n",
       "    </tr>\n",
       "    <tr>\n",
       "      <th>1</th>\n",
       "      <td>1.090909</td>\n",
       "      <td>0.0581</td>\n",
       "      <td>canucks</td>\n",
       "      <td>3533</td>\n",
       "      <td>7</td>\n",
       "      <td>Half Season</td>\n",
       "      <td>0</td>\n",
       "      <td>2022-02-24</td>\n",
       "      <td>6935</td>\n",
       "      <td>3282.1</td>\n",
       "      <td>2021</td>\n",
       "    </tr>\n",
       "    <tr>\n",
       "      <th>2</th>\n",
       "      <td>1.000000</td>\n",
       "      <td>0.1109</td>\n",
       "      <td>canucks</td>\n",
       "      <td>4583</td>\n",
       "      <td>7</td>\n",
       "      <td>Quarter</td>\n",
       "      <td>0</td>\n",
       "      <td>2022-02-19</td>\n",
       "      <td>2555</td>\n",
       "      <td>1451.4</td>\n",
       "      <td>2021</td>\n",
       "    </tr>\n",
       "    <tr>\n",
       "      <th>3</th>\n",
       "      <td>1.000000</td>\n",
       "      <td>0.2816</td>\n",
       "      <td>canucks</td>\n",
       "      <td>5145</td>\n",
       "      <td>7</td>\n",
       "      <td>Quarter</td>\n",
       "      <td>0</td>\n",
       "      <td>2021-12-10</td>\n",
       "      <td>2555</td>\n",
       "      <td>887.6</td>\n",
       "      <td>2021</td>\n",
       "    </tr>\n",
       "    <tr>\n",
       "      <th>4</th>\n",
       "      <td>1.250000</td>\n",
       "      <td>0.0054</td>\n",
       "      <td>canucks</td>\n",
       "      <td>6324</td>\n",
       "      <td>7</td>\n",
       "      <td>Quarter</td>\n",
       "      <td>0</td>\n",
       "      <td>2022-02-24</td>\n",
       "      <td>365</td>\n",
       "      <td>1407.1</td>\n",
       "      <td>2021</td>\n",
       "    </tr>\n",
       "  </tbody>\n",
       "</table>\n",
       "</div>"
      ],
      "text/plain": [
       "   attendancePercent  isNextYear_Buyer clientcode  dimCustomerMasterId  \\\n",
       "0           1.000000            0.1217    canucks                  992   \n",
       "1           1.090909            0.0581    canucks                 3533   \n",
       "2           1.000000            0.1109    canucks                 4583   \n",
       "3           1.000000            0.2816    canucks                 5145   \n",
       "4           1.250000            0.0054    canucks                 6324   \n",
       "\n",
       "   lkupclientid productGrouping  recency  recentDate  source_tenure  \\\n",
       "0             7         Quarter        0  2021-12-12           2555   \n",
       "1             7     Half Season        0  2022-02-24           6935   \n",
       "2             7         Quarter        0  2022-02-19           2555   \n",
       "3             7         Quarter        0  2021-12-10           2555   \n",
       "4             7         Quarter        0  2022-02-24            365   \n",
       "\n",
       "   totalSpent  year  \n",
       "0      1375.0  2021  \n",
       "1      3282.1  2021  \n",
       "2      1451.4  2021  \n",
       "3       887.6  2021  \n",
       "4      1407.1  2021  "
      ]
     },
     "execution_count": 23,
     "metadata": {},
     "output_type": "execute_result"
    }
   ],
   "source": [
    "df_sagemaker_scores = pd.read_json(\"inference_data (02-28-2022).csv\", lines=True)\n",
    "df_sagemaker_scores.info()\n",
    "\n",
    "df_sagemaker_scores.head()"
   ]
  },
  {
   "cell_type": "code",
   "execution_count": 24,
   "id": "79855490-70f1-4e9f-80e3-8288852cdd67",
   "metadata": {},
   "outputs": [
    {
     "data": {
      "text/plain": [
       "(0.499, 0.6]    27\n",
       "(0.6, 0.7]      10\n",
       "(0.7, 0.8]       2\n",
       "(0.8, 0.9]       0\n",
       "(0.9, 1.0]       0\n",
       "Name: isNextYear_Buyer, dtype: int64"
      ]
     },
     "execution_count": 24,
     "metadata": {},
     "output_type": "execute_result"
    }
   ],
   "source": [
    "df_sagemaker_scores[\"isNextYear_Buyer\"].value_counts(bins=[0.5,0.6,0.7,0.8,0.9,1])"
   ]
  },
  {
   "cell_type": "code",
   "execution_count": 25,
   "id": "af33df8c-7174-440e-ace9-416da51700fd",
   "metadata": {},
   "outputs": [
    {
     "data": {
      "image/png": "[encoded data removed]",
      "text/plain": [
       "<Figure size 1440x144 with 1 Axes>"
      ]
     },
     "metadata": {
      "needs_background": "light"
     },
     "output_type": "display_data"
    }
   ],
   "source": [
    "plt.subplot(1, 2, 1) #two rows, 1 column, index 1\n",
    "plt.title(\"Retention Buyers\")\n",
    "plt.hist(df_sagemaker_scores[\"isNextYear_Buyer\"], bins=20, edgecolor=\"black\", range=(0.05,1.0))\n",
    "plt.ylabel(\"Num Fans\")\n",
    "plt.xlabel(\"SA Buyer Score\")\n",
    "\n",
    "plt.rcParams[\"figure.figsize\"] = (20,2)\n",
    "plt.show()"
   ]
  },
  {
   "cell_type": "code",
   "execution_count": null,
   "id": "d896b28e-6169-4265-8d08-da80f3c0485c",
   "metadata": {},
   "outputs": [],
   "source": []
  }
 ],
 "metadata": {
  "kernelspec": {
   "display_name": "Python 3 (ipykernel)",
   "language": "python",
   "name": "python3"
  },
  "language_info": {
   "codemirror_mode": {
    "name": "ipython",
    "version": 3
   },
   "file_extension": ".py",
   "mimetype": "text/x-python",
   "name": "python",
   "nbconvert_exporter": "python",
   "pygments_lexer": "ipython3",
   "version": "3.7.10"
  }
 },
 "nbformat": 4,
 "nbformat_minor": 5
}
