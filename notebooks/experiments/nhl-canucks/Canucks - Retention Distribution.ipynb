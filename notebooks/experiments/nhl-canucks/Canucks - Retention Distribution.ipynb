{
 "cells": [
  {
   "cell_type": "markdown",
   "id": "6ee08766-25fd-4da1-91b8-b0c3e74db588",
   "metadata": {},
   "source": [
    "# Score Distribution Example\n",
    "* StelllarAlgo Data Science\n",
    "* Ryan Kazmerik & Nakisa Rad\n",
    "* Dec 20, 2021"
   ]
  },
  {
   "cell_type": "code",
   "execution_count": 2,
   "id": "4c533efd-600e-4bce-8203-faffbddfa700",
   "metadata": {},
   "outputs": [],
   "source": [
    "import getpass\n",
    "import pyodbc\n",
    "import pandas as pd\n",
    "import warnings\n",
    "import matplotlib.pyplot as plt\n",
    "\n",
    "from pycaret.classification import *\n",
    "\n",
    "warnings.filterwarnings('ignore')"
   ]
  },
  {
   "cell_type": "markdown",
   "id": "b64ae7d5-84af-4915-bd13-1dd9d17098a3",
   "metadata": {},
   "source": [
    "### Let's connect to MSSQL and run a stored proc to get our dataset:"
   ]
  },
  {
   "cell_type": "code",
   "execution_count": 4,
   "id": "ae561eb4-f419-4d46-b5e0-12fac9b10db8",
   "metadata": {},
   "outputs": [
    {
     "name": "stdin",
     "output_type": "stream",
     "text": [
      "Enter your password ····················\n"
     ]
    }
   ],
   "source": [
    "# connect to SQL Server.\n",
    "SERVER = '52.44.171.130' \n",
    "DATABASE = 'datascience' \n",
    "USERNAME = 'dsAdminWrite' \n",
    "PASSWORD = getpass.getpass(prompt='Enter your password')\n",
    "CNXN = pyodbc.connect('DRIVER={ODBC Driver 17 for SQL Server};SERVER='+SERVER+';DATABASE='+DATABASE+';UID='+USERNAME+';PWD='+ PASSWORD)"
   ]
  },
  {
   "cell_type": "code",
   "execution_count": 5,
   "id": "af1afe7d-a35b-494b-88f3-980fb0e3da30",
   "metadata": {},
   "outputs": [
    {
     "data": {
      "text/plain": [
       "(32909, 54)"
      ]
     },
     "execution_count": 5,
     "metadata": {},
     "output_type": "execute_result"
    }
   ],
   "source": [
    "lkupclientid = 7 # canucks\n",
    "cursor = CNXN.cursor()\n",
    "\n",
    "storedProc = (\n",
    "    f\"\"\"Exec [stlrCanucks].[ds].[getRetentionScoringModelData] {lkupclientid}\"\"\"\n",
    ")\n",
    "\n",
    "df = pd.read_sql(storedProc, CNXN)\n",
    "\n",
    "# apply some data transformations\n",
    "df[\"year\"] = pd.to_numeric(df[\"year\"])\n",
    "\n",
    "CNXN.commit()\n",
    "cursor.close()\n",
    "\n",
    "df.shape"
   ]
  },
  {
   "cell_type": "markdown",
   "id": "ab40da92-72a7-49c1-9829-ed3805a39719",
   "metadata": {},
   "source": [
    "### We should specify the features used in our model:"
   ]
  },
  {
   "cell_type": "code",
   "execution_count": 7,
   "id": "788f1273-8b7a-46bd-a099-1a471feeacc5",
   "metadata": {},
   "outputs": [
    {
     "name": "stdout",
     "output_type": "stream",
     "text": [
      "Data for Modeling: (23643, 9)\n",
      "Unseen Data For Predictions: (4172, 9)\n",
      "\n"
     ]
    }
   ],
   "source": [
    "# choose the features for the stellar base retention model\n",
    "features = [\n",
    "    \"dimCustomerMasterId\",\n",
    "    \"attendancePercent\",\n",
    "    \"distToVenue\",\n",
    "    \"isNextYear_Buyer\",\n",
    "    \"productGrouping\",\n",
    "    \"recency\",\n",
    "    \"source_tenure\",\n",
    "    \"totalSpent\",\n",
    "    \"year\"\n",
    "]\n",
    "\n",
    "# copy your main dataframe\n",
    "df_dataset = df\n",
    "\n",
    "# choose the features & train year & test year\n",
    "df_dataset = df_dataset[features]\n",
    "df_dataset[\"year\"] = pd.to_numeric(df_dataset[\"year\"])\n",
    "df_dataset = df_dataset.loc[df_dataset[\"year\"] <= 2019]\n",
    "\n",
    "df_train = df_dataset.sample(frac=0.85, random_state=786)\n",
    "df_eval = df_dataset.drop(df_train.index)\n",
    "\n",
    "df_train.reset_index(drop=True, inplace=True)\n",
    "df_eval.reset_index(drop=True, inplace=True)\n",
    "\n",
    "# print out the number of records for training and eval\n",
    "print('Data for Modeling: ' + str(df_train.shape))\n",
    "print('Unseen Data For Predictions: ' + str(df_eval.shape), end=\"\\n\\n\")"
   ]
  },
  {
   "cell_type": "markdown",
   "id": "4f2da06d-9015-49fd-89b3-956c2ebf66e9",
   "metadata": {},
   "source": [
    "### Now we can model the data using a binary classification prediction for the isnextyear_buyer field to see how likely a customer is to re-purchase."
   ]
  },
  {
   "cell_type": "code",
   "execution_count": 9,
   "id": "23a69cdc-b3ec-48c8-9ce5-29f617779389",
   "metadata": {},
   "outputs": [],
   "source": [
    "setup(\n",
    "    data= df_train, \n",
    "    target=\"isNextYear_Buyer\", \n",
    "    train_size = 0.85,\n",
    "    data_split_shuffle=True,\n",
    "    ignore_features=[\"dimCustomerMasterId\",\"productGrouping\",\"year\"],\n",
    "    silent=True,\n",
    "    verbose=False,\n",
    "    numeric_features=[\n",
    "        \"attendancePercent\",\n",
    "        \"distToVenue\",\n",
    "        \"recency\",\n",
    "        \"source_tenure\",\n",
    "        \"totalSpent\"\n",
    "    ]\n",
    ");"
   ]
  },
  {
   "cell_type": "markdown",
   "id": "6e1e33e8-ed5f-4e84-abb2-a2fc8370905c",
   "metadata": {},
   "source": [
    "### The evaluation output prints a score grid that shows average Accuracy, AUC, Recall, Precision, F1 and Kappa accross the folds (10 by default) along with training time:"
   ]
  },
  {
   "cell_type": "code",
   "execution_count": 143,
   "id": "ef2db9d2-02c2-45c0-b6bb-5cad42c373ce",
   "metadata": {},
   "outputs": [
    {
     "data": {
      "text/html": [
       "<style  type=\"text/css\" >\n",
       "    #T_1fac0_ th {\n",
       "          text-align: left;\n",
       "    }#T_1fac0_row0_col0,#T_1fac0_row1_col0,#T_1fac0_row1_col1,#T_1fac0_row1_col2,#T_1fac0_row1_col3,#T_1fac0_row1_col4,#T_1fac0_row1_col5,#T_1fac0_row1_col6,#T_1fac0_row1_col7,#T_1fac0_row2_col0,#T_1fac0_row2_col1,#T_1fac0_row2_col2,#T_1fac0_row2_col3,#T_1fac0_row2_col4,#T_1fac0_row2_col5,#T_1fac0_row2_col6,#T_1fac0_row2_col7{\n",
       "            text-align:  left;\n",
       "            text-align:  left;\n",
       "        }#T_1fac0_row0_col1,#T_1fac0_row0_col2,#T_1fac0_row0_col3,#T_1fac0_row0_col4,#T_1fac0_row0_col5,#T_1fac0_row0_col6,#T_1fac0_row0_col7{\n",
       "            text-align:  left;\n",
       "            text-align:  left;\n",
       "            background-color:  yellow;\n",
       "        }#T_1fac0_row0_col8,#T_1fac0_row1_col8{\n",
       "            text-align:  left;\n",
       "            text-align:  left;\n",
       "            background-color:  lightgrey;\n",
       "        }#T_1fac0_row2_col8{\n",
       "            text-align:  left;\n",
       "            text-align:  left;\n",
       "            background-color:  yellow;\n",
       "            background-color:  lightgrey;\n",
       "        }</style><table id=\"T_1fac0_\" ><thead>    <tr>        <th class=\"blank level0\" ></th>        <th class=\"col_heading level0 col0\" >Model</th>        <th class=\"col_heading level0 col1\" >Accuracy</th>        <th class=\"col_heading level0 col2\" >AUC</th>        <th class=\"col_heading level0 col3\" >Recall</th>        <th class=\"col_heading level0 col4\" >Prec.</th>        <th class=\"col_heading level0 col5\" >F1</th>        <th class=\"col_heading level0 col6\" >Kappa</th>        <th class=\"col_heading level0 col7\" >MCC</th>        <th class=\"col_heading level0 col8\" >TT (Sec)</th>    </tr></thead><tbody>\n",
       "                <tr>\n",
       "                        <th id=\"T_1fac0_level0_row0\" class=\"row_heading level0 row0\" >xgboost</th>\n",
       "                        <td id=\"T_1fac0_row0_col0\" class=\"data row0 col0\" >Extreme Gradient Boosting</td>\n",
       "                        <td id=\"T_1fac0_row0_col1\" class=\"data row0 col1\" >0.7810</td>\n",
       "                        <td id=\"T_1fac0_row0_col2\" class=\"data row0 col2\" >0.8598</td>\n",
       "                        <td id=\"T_1fac0_row0_col3\" class=\"data row0 col3\" >0.8093</td>\n",
       "                        <td id=\"T_1fac0_row0_col4\" class=\"data row0 col4\" >0.7799</td>\n",
       "                        <td id=\"T_1fac0_row0_col5\" class=\"data row0 col5\" >0.7943</td>\n",
       "                        <td id=\"T_1fac0_row0_col6\" class=\"data row0 col6\" >0.5603</td>\n",
       "                        <td id=\"T_1fac0_row0_col7\" class=\"data row0 col7\" >0.5609</td>\n",
       "                        <td id=\"T_1fac0_row0_col8\" class=\"data row0 col8\" >0.3310</td>\n",
       "            </tr>\n",
       "            <tr>\n",
       "                        <th id=\"T_1fac0_level0_row1\" class=\"row_heading level0 row1\" >lightgbm</th>\n",
       "                        <td id=\"T_1fac0_row1_col0\" class=\"data row1 col0\" >Light Gradient Boosting Machine</td>\n",
       "                        <td id=\"T_1fac0_row1_col1\" class=\"data row1 col1\" >0.7689</td>\n",
       "                        <td id=\"T_1fac0_row1_col2\" class=\"data row1 col2\" >0.8486</td>\n",
       "                        <td id=\"T_1fac0_row1_col3\" class=\"data row1 col3\" >0.7858</td>\n",
       "                        <td id=\"T_1fac0_row1_col4\" class=\"data row1 col4\" >0.7751</td>\n",
       "                        <td id=\"T_1fac0_row1_col5\" class=\"data row1 col5\" >0.7804</td>\n",
       "                        <td id=\"T_1fac0_row1_col6\" class=\"data row1 col6\" >0.5366</td>\n",
       "                        <td id=\"T_1fac0_row1_col7\" class=\"data row1 col7\" >0.5368</td>\n",
       "                        <td id=\"T_1fac0_row1_col8\" class=\"data row1 col8\" >0.5100</td>\n",
       "            </tr>\n",
       "            <tr>\n",
       "                        <th id=\"T_1fac0_level0_row2\" class=\"row_heading level0 row2\" >lr</th>\n",
       "                        <td id=\"T_1fac0_row2_col0\" class=\"data row2 col0\" >Logistic Regression</td>\n",
       "                        <td id=\"T_1fac0_row2_col1\" class=\"data row2 col1\" >0.6437</td>\n",
       "                        <td id=\"T_1fac0_row2_col2\" class=\"data row2 col2\" >0.7009</td>\n",
       "                        <td id=\"T_1fac0_row2_col3\" class=\"data row2 col3\" >0.6233</td>\n",
       "                        <td id=\"T_1fac0_row2_col4\" class=\"data row2 col4\" >0.6713</td>\n",
       "                        <td id=\"T_1fac0_row2_col5\" class=\"data row2 col5\" >0.6463</td>\n",
       "                        <td id=\"T_1fac0_row2_col6\" class=\"data row2 col6\" >0.2884</td>\n",
       "                        <td id=\"T_1fac0_row2_col7\" class=\"data row2 col7\" >0.2892</td>\n",
       "                        <td id=\"T_1fac0_row2_col8\" class=\"data row2 col8\" >0.0150</td>\n",
       "            </tr>\n",
       "    </tbody></table>"
      ],
      "text/plain": [
       "<pandas.io.formats.style.Styler at 0x7f95e71bcbd0>"
      ]
     },
     "metadata": {},
     "output_type": "display_data"
    }
   ],
   "source": [
    "model_matrix = compare_models(\n",
    "    fold=10,\n",
    "    include=[\"lightgbm\",\"lr\",\"xgboost\"],\n",
    "    sort=\"AUC\"\n",
    ")"
   ]
  },
  {
   "cell_type": "code",
   "execution_count": 144,
   "id": "77d55e9b-2f4a-490b-97a1-991613fead88",
   "metadata": {},
   "outputs": [],
   "source": [
    "lr_predictions = predict_model(models.get('lr'), data=df_inference, raw_score=True)\n",
    "lightgbm_predictions = predict_model(models.get('lightgbm'), data=df_inference, raw_score=True)\n",
    "xgboost_predictions = predict_model(models.get('xgboost'), data=df_inference, raw_score=True)"
   ]
  },
  {
   "cell_type": "markdown",
   "id": "3aab9021-4462-423a-8e3c-fbe1f36c6110",
   "metadata": {},
   "source": [
    "### Let's load in our 2021 season data and get retention scores using the model:"
   ]
  },
  {
   "cell_type": "code",
   "execution_count": 145,
   "id": "c249a813-c882-4869-9490-6ab766a8c223",
   "metadata": {},
   "outputs": [
    {
     "data": {
      "text/plain": [
       "(5094, 9)"
      ]
     },
     "execution_count": 145,
     "metadata": {},
     "output_type": "execute_result"
    }
   ],
   "source": [
    "df_inference = df.loc[df[\"year\"] >= 2021]\n",
    "df_inference = df_inference.fillna(0)\n",
    "df_inference = df_inference[features]\n",
    "\n",
    "df_inference.shape"
   ]
  },
  {
   "cell_type": "markdown",
   "id": "0642f6b4-829d-4d95-8794-84fbc8efb654",
   "metadata": {},
   "source": [
    "### Algorithm: Light Gradient Boosting Machine"
   ]
  },
  {
   "cell_type": "code",
   "execution_count": 146,
   "id": "cd00c5c4-ecc5-48b8-8f03-4516fb0778c5",
   "metadata": {},
   "outputs": [
    {
     "data": {
      "text/plain": [
       "(0.499, 0.6]    697\n",
       "(0.7, 0.8]      648\n",
       "(0.6, 0.7]      554\n",
       "(0.8, 0.9]      293\n",
       "(0.9, 1.0]      120\n",
       "Name: Score_1, dtype: int64"
      ]
     },
     "execution_count": 146,
     "metadata": {},
     "output_type": "execute_result"
    }
   ],
   "source": [
    "#lightgbm_predictions = lightgbm_predictions[lightgbm_predictions[\"productGrouping\"] == \"Full Season\"]\n",
    "lightgbm_predictions[\"Score_1\"].value_counts(bins=[0.5,0.6,0.7,0.8,0.9,1.0])"
   ]
  },
  {
   "cell_type": "code",
   "execution_count": 157,
   "id": "f31f4d3a-133a-45d9-a665-d8ac6d384d05",
   "metadata": {},
   "outputs": [
    {
     "data": {
      "image/png": "[encoded data removed]",
      "text/plain": [
       "<Figure size 1440x288 with 2 Axes>"
      ]
     },
     "metadata": {
      "needs_background": "light"
     },
     "output_type": "display_data"
    }
   ],
   "source": [
    "plt.subplot(1, 2, 1) #two rows, 1 column, index 1\n",
    "plt.title(\"Retention Buyers\")\n",
    "plt.hist(lightgbm_predictions[\"Score_1\"], bins=20, edgecolor=\"black\", range=(0.05,1.0))\n",
    "plt.ylabel(\"Num Fans\")\n",
    "plt.xlabel(\"SA Buyer Score\")\n",
    "\n",
    "plt.subplot(1, 2, 2) #two rows, 1 column, index 2\n",
    "plt.title(\"Retention Non-Buyers\")\n",
    "plt.hist(lightgbm_predictions[\"Score_0\"], bins=20, edgecolor=\"black\", range=(0.,0.95))\n",
    "plt.ylabel(\"Num Fans\")\n",
    "plt.xlabel(\"SA Buyer Score\")\n",
    "\n",
    "plt.rcParams[\"figure.figsize\"] = (20,5)\n",
    "plt.show()"
   ]
  },
  {
   "cell_type": "markdown",
   "id": "bf0a2dd8-1fc8-4603-bbea-4794a9aed493",
   "metadata": {},
   "source": [
    "### Algorithm: Logistic Regression"
   ]
  },
  {
   "cell_type": "code",
   "execution_count": 159,
   "id": "3ea647b6-98f1-48d4-b53b-584bfb5ed824",
   "metadata": {},
   "outputs": [
    {
     "data": {
      "text/plain": [
       "(0.499, 0.6]    805\n",
       "(0.6, 0.7]      591\n",
       "(0.7, 0.8]      477\n",
       "(0.8, 0.9]      134\n",
       "(0.9, 1.0]       34\n",
       "Name: Score_1, dtype: int64"
      ]
     },
     "execution_count": 159,
     "metadata": {},
     "output_type": "execute_result"
    }
   ],
   "source": [
    "#lr_predictions = lr_predictions[lr_predictions[\"productGrouping\"] == \"Full Season\"]\n",
    "lr_predictions[\"Score_1\"].value_counts(bins=[0.5,0.6,0.7,0.8,0.9,1])"
   ]
  },
  {
   "cell_type": "code",
   "execution_count": 161,
   "id": "b4a2ea52-e9ce-43bc-81a2-0f9f9bcb94b5",
   "metadata": {},
   "outputs": [
    {
     "data": {
      "image/png": "[encoded data removed]",
      "text/plain": [
       "<Figure size 1440x360 with 2 Axes>"
      ]
     },
     "metadata": {
      "needs_background": "light"
     },
     "output_type": "display_data"
    }
   ],
   "source": [
    "plt.subplot(1, 2, 1) #two rows, 1 column, index 1\n",
    "plt.title(\"Retention Buyers\")\n",
    "plt.hist(lr_predictions[\"Score_1\"], bins=20, edgecolor=\"black\", range=(0.05,1.0))\n",
    "plt.ylabel(\"Num Fans\")\n",
    "plt.xlabel(\"SA Buyer Score\")\n",
    "\n",
    "plt.subplot(1, 2, 2) #two rows, 1 column, index 2\n",
    "plt.title(\"Retention Non-Buyers\")\n",
    "plt.hist(lr_predictions[\"Score_0\"], bins=20, edgecolor=\"black\", range=(0.,0.95))\n",
    "plt.ylabel(\"Num Fans\")\n",
    "plt.xlabel(\"SA Buyer Score\")\n",
    "\n",
    "plt.rcParams[\"figure.figsize\"] = (20,5)\n",
    "plt.show()"
   ]
  },
  {
   "cell_type": "markdown",
   "id": "ba206461-625f-499a-8dea-433ec2fb2a58",
   "metadata": {},
   "source": [
    "### Algorithm: XG Boost"
   ]
  },
  {
   "cell_type": "code",
   "execution_count": 164,
   "id": "6ee7faec-29ba-47b1-8eb2-3166d81a9b08",
   "metadata": {},
   "outputs": [
    {
     "data": {
      "text/plain": [
       "(0.499, 0.6]    560\n",
       "(0.7, 0.8]      498\n",
       "(0.6, 0.7]      461\n",
       "(0.8, 0.9]      453\n",
       "(0.9, 1.0]      226\n",
       "Name: Score_1, dtype: int64"
      ]
     },
     "execution_count": 164,
     "metadata": {},
     "output_type": "execute_result"
    }
   ],
   "source": [
    "#xgboost_predictions = xgboost_predictions[xgboost_predictions[\"productGrouping\"] == \"Full Season\"]\n",
    "xgboost_predictions[\"Score_1\"].value_counts(bins=[0.5,0.6,0.7,0.8,0.9,1])"
   ]
  },
  {
   "cell_type": "code",
   "execution_count": 163,
   "id": "450e87f7-0118-4090-aae6-bac1ff1d14a3",
   "metadata": {},
   "outputs": [
    {
     "data": {
      "image/png": "[encoded data removed]",
      "text/plain": [
       "<Figure size 1440x360 with 2 Axes>"
      ]
     },
     "metadata": {
      "needs_background": "light"
     },
     "output_type": "display_data"
    }
   ],
   "source": [
    "plt.subplot(1, 2, 1) #two rows, 1 column, index 1\n",
    "plt.title(\"Retention Buyers\")\n",
    "plt.hist(xgboost_predictions[\"Score_1\"], bins=20, edgecolor=\"black\", range=(0.05,1.0))\n",
    "plt.ylabel(\"Num Fans\")\n",
    "plt.xlabel(\"SA Buyer Score\")\n",
    "\n",
    "plt.subplot(1, 2, 2) #two rows, 1 column, index 2\n",
    "plt.title(\"Retention Non-Buyers\")\n",
    "plt.hist(xgboost_predictions[\"Score_0\"], bins=20, edgecolor=\"black\", range=(0.,0.95))\n",
    "plt.ylabel(\"Num Fans\")\n",
    "plt.xlabel(\"SA Buyer Score\")\n",
    "\n",
    "plt.rcParams[\"figure.figsize\"] = (20,5)\n",
    "plt.show()"
   ]
  }
 ],
 "metadata": {
  "kernelspec": {
   "display_name": "Python 3 (ipykernel)",
   "language": "python",
   "name": "python3"
  },
  "language_info": {
   "codemirror_mode": {
    "name": "ipython",
    "version": 3
   },
   "file_extension": ".py",
   "mimetype": "text/x-python",
   "name": "python",
   "nbconvert_exporter": "python",
   "pygments_lexer": "ipython3",
   "version": "3.7.10"
  }
 },
 "nbformat": 4,
 "nbformat_minor": 5
}
