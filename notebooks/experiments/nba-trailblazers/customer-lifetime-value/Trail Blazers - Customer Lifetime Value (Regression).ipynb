{
 "cells": [
  {
   "cell_type": "markdown",
   "id": "61037526-75ba-4674-a31e-d5e2e805f26b",
   "metadata": {},
   "source": [
    "# Portland Trail Blazers - Customer Lifetime Value\n",
    "* StelllarAlgo Data Science\n",
    "* Ryan Kazmerik\n",
    "* Jul 14, 2022"
   ]
  },
  {
   "cell_type": "code",
   "execution_count": 2,
   "id": "573b8578-5434-4dae-9311-eb051fb342f2",
   "metadata": {},
   "outputs": [],
   "source": [
    "import getpass\n",
    "import pyodbc\n",
    "\n",
    "import pandas as pd\n",
    "import matplotlib.pyplot as plt\n",
    "\n",
    "from pycaret.regression import *"
   ]
  },
  {
   "cell_type": "markdown",
   "id": "e560e143-a7a9-44eb-bae1-5b1f8170eca8",
   "metadata": {},
   "source": [
    "## Hypothesis:\n",
    "\n",
    "**Customer Lifetime Value (CLTV)** represents the total amount of money a customer is expected to spend in a business during his/her lifetime. This is an important metric to monitor because it helps to make decisions about how much money to invest in acquiring new customers and retaining existing ones.\n",
    "\n",
    "We propose to build a CLTV regression model trained on RFM data from past season that is capable of predicting future CLTV for the next season."
   ]
  },
  {
   "cell_type": "code",
   "execution_count": 6,
   "id": "5cf07a70-9e64-48e6-9108-79795ca445b8",
   "metadata": {},
   "outputs": [
    {
     "name": "stdout",
     "output_type": "stream",
     "text": [
      "<class 'pandas.core.frame.DataFrame'>\n",
      "RangeIndex: 3949410 entries, 0 to 3949409\n",
      "Data columns (total 8 columns):\n",
      " #   Column               Dtype  \n",
      "---  ------               -----  \n",
      " 0   dimcustomermasterid  int64  \n",
      " 1   purchasedate         object \n",
      " 2   ticketcount          int64  \n",
      " 3   revenue              float64\n",
      " 4   isplanproduct        bool   \n",
      " 5   producttype          object \n",
      " 6   subproductname       object \n",
      " 7   seasonyear           int64  \n",
      "dtypes: bool(1), float64(1), int64(3), object(3)\n",
      "memory usage: 214.7+ MB\n"
     ]
    }
   ],
   "source": [
    "df = pd.read_parquet(\"./data/ptb_ticket_purchases_all.parquet\")\n",
    "df.info()"
   ]
  },
  {
   "cell_type": "code",
   "execution_count": 7,
   "id": "7a1e3978",
   "metadata": {},
   "outputs": [
    {
     "data": {
      "text/html": [
       "<div>\n",
       "<style scoped>\n",
       "    .dataframe tbody tr th:only-of-type {\n",
       "        vertical-align: middle;\n",
       "    }\n",
       "\n",
       "    .dataframe tbody tr th {\n",
       "        vertical-align: top;\n",
       "    }\n",
       "\n",
       "    .dataframe thead th {\n",
       "        text-align: right;\n",
       "    }\n",
       "</style>\n",
       "<table border=\"1\" class=\"dataframe\">\n",
       "  <thead>\n",
       "    <tr style=\"text-align: right;\">\n",
       "      <th></th>\n",
       "      <th>dimcustomermasterid</th>\n",
       "      <th>purchasedate</th>\n",
       "      <th>ticketcount</th>\n",
       "      <th>revenue</th>\n",
       "      <th>isplanproduct</th>\n",
       "      <th>producttype</th>\n",
       "      <th>subproductname</th>\n",
       "      <th>seasonyear</th>\n",
       "    </tr>\n",
       "  </thead>\n",
       "  <tbody>\n",
       "    <tr>\n",
       "      <th>0</th>\n",
       "      <td>3</td>\n",
       "      <td>2017-11-21</td>\n",
       "      <td>3</td>\n",
       "      <td>75.0</td>\n",
       "      <td>False</td>\n",
       "      <td>Other</td>\n",
       "      <td>Group</td>\n",
       "      <td>2017</td>\n",
       "    </tr>\n",
       "    <tr>\n",
       "      <th>1</th>\n",
       "      <td>16</td>\n",
       "      <td>2018-02-02</td>\n",
       "      <td>2</td>\n",
       "      <td>85.0</td>\n",
       "      <td>True</td>\n",
       "      <td>Package</td>\n",
       "      <td>Half Season</td>\n",
       "      <td>2017</td>\n",
       "    </tr>\n",
       "    <tr>\n",
       "      <th>2</th>\n",
       "      <td>16</td>\n",
       "      <td>2018-02-02</td>\n",
       "      <td>2</td>\n",
       "      <td>85.0</td>\n",
       "      <td>True</td>\n",
       "      <td>Package</td>\n",
       "      <td>Half Season</td>\n",
       "      <td>2017</td>\n",
       "    </tr>\n",
       "    <tr>\n",
       "      <th>3</th>\n",
       "      <td>48</td>\n",
       "      <td>2019-02-05</td>\n",
       "      <td>1</td>\n",
       "      <td>10.0</td>\n",
       "      <td>False</td>\n",
       "      <td>Individual</td>\n",
       "      <td>Individual</td>\n",
       "      <td>2018</td>\n",
       "    </tr>\n",
       "    <tr>\n",
       "      <th>4</th>\n",
       "      <td>87</td>\n",
       "      <td>2021-05-28</td>\n",
       "      <td>2</td>\n",
       "      <td>144.0</td>\n",
       "      <td>False</td>\n",
       "      <td>Individual</td>\n",
       "      <td>Individual</td>\n",
       "      <td>2020</td>\n",
       "    </tr>\n",
       "  </tbody>\n",
       "</table>\n",
       "</div>"
      ],
      "text/plain": [
       "   dimcustomermasterid purchasedate  ticketcount  revenue  isplanproduct  \\\n",
       "0                    3   2017-11-21            3     75.0          False   \n",
       "1                   16   2018-02-02            2     85.0           True   \n",
       "2                   16   2018-02-02            2     85.0           True   \n",
       "3                   48   2019-02-05            1     10.0          False   \n",
       "4                   87   2021-05-28            2    144.0          False   \n",
       "\n",
       "  producttype subproductname  seasonyear  \n",
       "0       Other          Group        2017  \n",
       "1     Package    Half Season        2017  \n",
       "2     Package    Half Season        2017  \n",
       "3  Individual     Individual        2018  \n",
       "4  Individual     Individual        2020  "
      ]
     },
     "execution_count": 7,
     "metadata": {},
     "output_type": "execute_result"
    }
   ],
   "source": [
    "df.head()"
   ]
  },
  {
   "cell_type": "markdown",
   "id": "10f35c85-4ba4-4bdd-8238-3dc41da2cb5a",
   "metadata": {},
   "source": [
    "### Exploratory Data Analysis (EDA)\n",
    "\n",
    "Let's have a look at the data and decide whether we need any data cleaning and data transformation for further analysis."
   ]
  },
  {
   "cell_type": "markdown",
   "id": "4b8c8591",
   "metadata": {},
   "source": [
    "By reading the profiling report, we can see that the following actions should be taken to improve the dataset quality:\n",
    "* Remove missing values from revenue (23.3%)\n",
    "* Remove zero values from revenue (6.8%)"
   ]
  },
  {
   "cell_type": "code",
   "execution_count": null,
   "id": "fb7630f5",
   "metadata": {},
   "outputs": [],
   "source": [
    "df.dropna(subset=['revenue'], inplace=True)"
   ]
  },
  {
   "cell_type": "markdown",
   "id": "96055091",
   "metadata": {},
   "source": [
    "Let's check NULL records in the revenue column"
   ]
  },
  {
   "cell_type": "code",
   "execution_count": null,
   "id": "4839d073",
   "metadata": {},
   "outputs": [],
   "source": [
    "df['revenue'].isnull().sum()"
   ]
  },
  {
   "cell_type": "markdown",
   "id": "0c61392c",
   "metadata": {},
   "source": [
    "Let's also drop any rows where revenue = 0, and then check the value counts to ensure the zero values are gone"
   ]
  },
  {
   "cell_type": "code",
   "execution_count": null,
   "id": "f8308914",
   "metadata": {},
   "outputs": [],
   "source": [
    "df = df[df['revenue'] > 0]\n",
    "df['revenue'].value_counts(bins=[0, 1000, 10000, 100000])"
   ]
  },
  {
   "cell_type": "markdown",
   "id": "52e37e52",
   "metadata": {},
   "source": [
    "### Data Types\n",
    "\n",
    "Let's look at the data types in our dataframe to see if we need to convert any values to a different type"
   ]
  },
  {
   "cell_type": "code",
   "execution_count": null,
   "id": "bd104e2f",
   "metadata": {},
   "outputs": [],
   "source": [
    "df.dtypes"
   ]
  },
  {
   "cell_type": "markdown",
   "id": "d6d5d591",
   "metadata": {},
   "source": [
    "Purchase date should be a datetime not an object (string), all of the other inferred data types look correct"
   ]
  },
  {
   "cell_type": "code",
   "execution_count": null,
   "id": "1344b285",
   "metadata": {},
   "outputs": [],
   "source": [
    "df['purchasedate'] =  pd.to_datetime(df['purchasedate'], format='%Y-%m-%d')"
   ]
  },
  {
   "cell_type": "markdown",
   "id": "c6d228c9-3072-44b6-9d98-b2c8429a276f",
   "metadata": {},
   "source": [
    "### Distributions\n",
    "\n",
    "Let's look at the distributions for our three key fields: purchasedate, ticketcount and revenue"
   ]
  },
  {
   "cell_type": "code",
   "execution_count": null,
   "id": "23d1e73c-a8e1-4cfe-a9d4-67d21be502b8",
   "metadata": {},
   "outputs": [],
   "source": [
    "plt.hist(df[\"purchasedate\"], bins=20, color='dodgerblue', edgecolor='black')\n",
    "plt.title(\"Recency\", fontsize=16)\n",
    "plt.xlabel(\"Year\", fontsize=14)\n",
    "plt.ylabel(\"Fans\", fontsize=14)"
   ]
  },
  {
   "cell_type": "markdown",
   "id": "ddf24286",
   "metadata": {},
   "source": [
    "### Period of Time"
   ]
  },
  {
   "cell_type": "code",
   "execution_count": null,
   "id": "dcea2104",
   "metadata": {},
   "outputs": [],
   "source": [
    "print(f\"Start Date: {df['purchasedate'].min()}\")\n",
    "print(f\"End Date: {df['purchasedate'].max()}\")"
   ]
  },
  {
   "cell_type": "markdown",
   "id": "e82daef2",
   "metadata": {},
   "source": [
    "There was abnormally low purchasing during the 2020 season because of stadium closures due to the COVID-19 pandemic. There are also some outlier purchases from before 2017\n",
    "\n",
    "We may want to remove these from our training dataset, but let's leave them in for now"
   ]
  },
  {
   "cell_type": "code",
   "execution_count": null,
   "id": "b394ae2f",
   "metadata": {},
   "outputs": [],
   "source": [
    "plt.hist(df[\"ticketcount\"], bins=20, color='dodgerblue', edgecolor='black')\n",
    "plt.title(\"Ticket Count\", fontsize=16)\n",
    "plt.xlabel(\"No. Tickets\", fontsize=14)\n",
    "plt.ylabel(\"Fans\", fontsize=14)"
   ]
  },
  {
   "cell_type": "code",
   "execution_count": null,
   "id": "e4123cd5",
   "metadata": {},
   "outputs": [],
   "source": [
    "df['ticketcount'].value_counts(bins=[0, 5, 10, 50, 100, 10000])"
   ]
  },
  {
   "cell_type": "markdown",
   "id": "90765e23",
   "metadata": {},
   "source": [
    "We can see that ticket count is highly skewed toward 1 ticket, we may want to remove the outliers here but let's leave it for now"
   ]
  },
  {
   "cell_type": "code",
   "execution_count": null,
   "id": "f097fff3",
   "metadata": {},
   "outputs": [],
   "source": [
    "plt.hist(df[\"revenue\"], bins=20, color='dodgerblue', edgecolor='black')\n",
    "plt.title(\"Revenue\", fontsize=16)\n",
    "plt.xlabel(\"Spend ($)\", fontsize=14)\n",
    "plt.ylabel(\"Fans\", fontsize=14)"
   ]
  },
  {
   "cell_type": "code",
   "execution_count": null,
   "id": "bc8ce892",
   "metadata": {},
   "outputs": [],
   "source": [
    "df.revenue.value_counts(bins=[0, 100, 1000, 10000, 100000, 1000000])"
   ]
  },
  {
   "cell_type": "code",
   "execution_count": null,
   "id": "7cc1a4fb",
   "metadata": {},
   "outputs": [],
   "source": [
    "df_big_spenders = df[df['revenue'] > 10000]\n",
    "df_big_spenders.head()"
   ]
  },
  {
   "cell_type": "markdown",
   "id": "e0dd4632",
   "metadata": {},
   "source": [
    "Most fans spend between 1 and 1000 dollars on a purchase, but some spend much more (df_big_spenders), we may want to remove these outliers but let's leave them in for now"
   ]
  },
  {
   "cell_type": "markdown",
   "id": "39e03043-262f-4d91-ab34-ae494bbc4e86",
   "metadata": {},
   "source": [
    "### Data Preprocessing\n",
    "\n",
    "We are going to build a model, which predicts CLTV for 3 months. First, let us slice the data into chunks with 3-month data each and take the last chunk as the target for predictions."
   ]
  },
  {
   "cell_type": "code",
   "execution_count": null,
   "id": "d144877f",
   "metadata": {},
   "outputs": [],
   "source": [
    "def groupby_mean(x):\n",
    "    return x.mean()\n",
    "\n",
    "def groupby_count(x):\n",
    "    return x.count()\n",
    "\n",
    "groupby_mean.__name__ = 'avg'\n",
    "groupby_count.__name__ = 'count'"
   ]
  },
  {
   "cell_type": "code",
   "execution_count": null,
   "id": "08bbdc10",
   "metadata": {},
   "outputs": [],
   "source": [
    "clv_freq = '3M'\n",
    "\n",
    "df_data = df.groupby(\n",
    "    ['dimcustomermasterid',pd.Grouper(key='purchasedate', freq=clv_freq)]\n",
    ").agg({\n",
    "    'revenue': [sum, groupby_mean, groupby_count]\n",
    "})"
   ]
  },
  {
   "cell_type": "code",
   "execution_count": null,
   "id": "5373c811",
   "metadata": {},
   "outputs": [],
   "source": [
    "df_data.columns = ['_'.join(col).lower() for col in df_data.columns]\n",
    "df_data = df_data.reset_index()\n",
    "\n",
    "df_data.info()"
   ]
  },
  {
   "cell_type": "code",
   "execution_count": null,
   "id": "02e9c6b8",
   "metadata": {},
   "outputs": [],
   "source": [
    "df_data.head()"
   ]
  },
  {
   "cell_type": "markdown",
   "id": "49f17803",
   "metadata": {},
   "source": [
    "### Model Training\n",
    "We need to create training and evaluation datasets to train our regression model and evaluate the model performance against unseen data points\n"
   ]
  },
  {
   "cell_type": "code",
   "execution_count": null,
   "id": "81bf29d3",
   "metadata": {},
   "outputs": [],
   "source": [
    "df_dataset = df\n",
    "\n",
    "df_train = df_dataset.sample(frac=0.85, random_state=786)\n",
    "df_eval = df_dataset.drop(df_train.index)\n",
    "\n",
    "df_train.reset_index(drop=True, inplace=True)\n",
    "df_eval.reset_index(drop=True, inplace=True)\n",
    "\n",
    "print('Data for Modeling: ' + str(df_train.shape))\n",
    "print('Unseen Data For Predictions: ' + str(df_eval.shape), end=\"\\n\\n\")"
   ]
  },
  {
   "cell_type": "code",
   "execution_count": null,
   "id": "87620c5f",
   "metadata": {},
   "outputs": [],
   "source": [
    "setup(\n",
    "    data = df_train, \n",
    "    date_features=[\"purchasedate\"],\n",
    "    ignore_features=[\"dimCustomerMasterId\",\"lkupClientId\",\"scoreDate\", \"type\"],\n",
    "    target='monetary', \n",
    "    silent=True,\n",
    "    verbose=True,\n",
    "    session_id=123\n",
    ");"
   ]
  },
  {
   "cell_type": "markdown",
   "id": "f733a049",
   "metadata": {},
   "source": [
    "Let's look at the regression models we can experiment with"
   ]
  },
  {
   "cell_type": "code",
   "execution_count": null,
   "id": "5dd0afc3",
   "metadata": {},
   "outputs": [],
   "source": [
    "models()"
   ]
  },
  {
   "cell_type": "markdown",
   "id": "81cc945f",
   "metadata": {},
   "source": [
    "We could experiment with different model types, but for now let's choose linear regression."
   ]
  },
  {
   "cell_type": "code",
   "execution_count": null,
   "id": "a8f63ab9",
   "metadata": {},
   "outputs": [],
   "source": [
    "model_matrix = compare_models(\n",
    "    fold=10,\n",
    "    include=[\"lr\"]\n",
    ")"
   ]
  },
  {
   "cell_type": "code",
   "execution_count": null,
   "id": "71fd31a4",
   "metadata": {},
   "outputs": [],
   "source": [
    "best_model = create_model(model_matrix)"
   ]
  },
  {
   "cell_type": "markdown",
   "id": "c2f89885",
   "metadata": {},
   "source": [
    "We can see the model performance, the R2 metric is a measure of how well the model fits our dataset on a scale of 0 (not good at all) to 1 (very good, possibly overfit)\n",
    "\n",
    "We can plot the results of the model line of best fit, vs. the predicted values line of best fit"
   ]
  },
  {
   "cell_type": "code",
   "execution_count": null,
   "id": "83b89841",
   "metadata": {},
   "outputs": [],
   "source": [
    "plot_model(best_model, plot = 'error')"
   ]
  },
  {
   "cell_type": "markdown",
   "id": "3d657d41",
   "metadata": {},
   "source": [
    "We can also plot the feature importance to see what features are impacting model prediction the most"
   ]
  },
  {
   "cell_type": "code",
   "execution_count": null,
   "id": "565da2fd",
   "metadata": {},
   "outputs": [],
   "source": [
    "plot_model(best_model, plot='feature')"
   ]
  },
  {
   "cell_type": "markdown",
   "id": "8fa6fc1e",
   "metadata": {},
   "source": [
    "### Observations\n",
    "\n",
    "* Observation 1\n",
    "* Observation 2\n",
    "* Observation 3"
   ]
  },
  {
   "cell_type": "markdown",
   "id": "401b8337",
   "metadata": {},
   "source": [
    "### Conclusion\n",
    "\n",
    "Add a conclusion to the experiment here"
   ]
  },
  {
   "cell_type": "markdown",
   "id": "3b5619cc",
   "metadata": {},
   "source": []
  }
 ],
 "metadata": {
  "kernelspec": {
   "display_name": "Python 3.8.5 ('stellar')",
   "language": "python",
   "name": "python3"
  },
  "language_info": {
   "codemirror_mode": {
    "name": "ipython",
    "version": 3
   },
   "file_extension": ".py",
   "mimetype": "text/x-python",
   "name": "python",
   "nbconvert_exporter": "python",
   "pygments_lexer": "ipython3",
   "version": "3.8.5"
  },
  "vscode": {
   "interpreter": {
    "hash": "89f48dadab51a6b5b48ffc1a9e043c21cefe67453637c3444f3b86917b8aad16"
   }
  }
 },
 "nbformat": 4,
 "nbformat_minor": 5
}
