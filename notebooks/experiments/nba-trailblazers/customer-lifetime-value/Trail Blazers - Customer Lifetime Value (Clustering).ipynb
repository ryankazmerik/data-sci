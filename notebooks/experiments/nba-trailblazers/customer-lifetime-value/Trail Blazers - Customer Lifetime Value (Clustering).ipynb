{
 "cells": [
  {
   "cell_type": "markdown",
   "id": "61037526-75ba-4674-a31e-d5e2e805f26b",
   "metadata": {},
   "source": [
    "# Portland Trail Blazers - Customer Lifetime Value (Clustering)\n",
    "* StelllarAlgo Data Science\n",
    "* Ryan Kazmerik\n",
    "* Jul 15, 2022"
   ]
  },
  {
   "cell_type": "code",
   "execution_count": 1,
   "id": "573b8578-5434-4dae-9311-eb051fb342f2",
   "metadata": {},
   "outputs": [],
   "source": [
    "import pandas as pd\n",
    "import matplotlib.pyplot as plt\n",
    "\n",
    "#from pandas_profiling import ProfileReport"
   ]
  },
  {
   "cell_type": "markdown",
   "id": "e560e143-a7a9-44eb-bae1-5b1f8170eca8",
   "metadata": {},
   "source": [
    "**Customer Lifetime Value (CLTV)** represents the total amount of money a customer is expected to spend in a business during his/her lifetime. This is an important metric to monitor because it helps to make decisions about how much money to invest in acquiring new customers and retaining existing ones."
   ]
  },
  {
   "cell_type": "markdown",
   "id": "d98242dd",
   "metadata": {},
   "source": [
    "## Data Preprocessing\n",
    "\n"
   ]
  },
  {
   "cell_type": "code",
   "execution_count": 2,
   "id": "5cf07a70-9e64-48e6-9108-79795ca445b8",
   "metadata": {},
   "outputs": [
    {
     "name": "stdout",
     "output_type": "stream",
     "text": [
      "<class 'pandas.core.frame.DataFrame'>\n",
      "RangeIndex: 3949410 entries, 0 to 3949409\n",
      "Data columns (total 8 columns):\n",
      " #   Column               Dtype  \n",
      "---  ------               -----  \n",
      " 0   dimcustomermasterid  int64  \n",
      " 1   purchasedate         object \n",
      " 2   ticketcount          int64  \n",
      " 3   revenue              float64\n",
      " 4   isplanproduct        bool   \n",
      " 5   producttype          object \n",
      " 6   subproductname       object \n",
      " 7   seasonyear           int64  \n",
      "dtypes: bool(1), float64(1), int64(3), object(3)\n",
      "memory usage: 214.7+ MB\n"
     ]
    }
   ],
   "source": [
    "df = pd.read_parquet(\"./data/ptb_ticket_purchases_all.parquet\")\n",
    "df.info()"
   ]
  },
  {
   "cell_type": "code",
   "execution_count": 3,
   "id": "7a1e3978",
   "metadata": {},
   "outputs": [
    {
     "data": {
      "text/html": [
       "<div>\n",
       "<style scoped>\n",
       "    .dataframe tbody tr th:only-of-type {\n",
       "        vertical-align: middle;\n",
       "    }\n",
       "\n",
       "    .dataframe tbody tr th {\n",
       "        vertical-align: top;\n",
       "    }\n",
       "\n",
       "    .dataframe thead th {\n",
       "        text-align: right;\n",
       "    }\n",
       "</style>\n",
       "<table border=\"1\" class=\"dataframe\">\n",
       "  <thead>\n",
       "    <tr style=\"text-align: right;\">\n",
       "      <th></th>\n",
       "      <th>dimcustomermasterid</th>\n",
       "      <th>purchasedate</th>\n",
       "      <th>ticketcount</th>\n",
       "      <th>revenue</th>\n",
       "      <th>isplanproduct</th>\n",
       "      <th>producttype</th>\n",
       "      <th>subproductname</th>\n",
       "      <th>seasonyear</th>\n",
       "    </tr>\n",
       "  </thead>\n",
       "  <tbody>\n",
       "    <tr>\n",
       "      <th>0</th>\n",
       "      <td>3</td>\n",
       "      <td>2017-11-21</td>\n",
       "      <td>3</td>\n",
       "      <td>75.0</td>\n",
       "      <td>False</td>\n",
       "      <td>Other</td>\n",
       "      <td>Group</td>\n",
       "      <td>2017</td>\n",
       "    </tr>\n",
       "    <tr>\n",
       "      <th>1</th>\n",
       "      <td>16</td>\n",
       "      <td>2018-02-02</td>\n",
       "      <td>2</td>\n",
       "      <td>85.0</td>\n",
       "      <td>True</td>\n",
       "      <td>Package</td>\n",
       "      <td>Half Season</td>\n",
       "      <td>2017</td>\n",
       "    </tr>\n",
       "    <tr>\n",
       "      <th>2</th>\n",
       "      <td>16</td>\n",
       "      <td>2018-02-02</td>\n",
       "      <td>2</td>\n",
       "      <td>85.0</td>\n",
       "      <td>True</td>\n",
       "      <td>Package</td>\n",
       "      <td>Half Season</td>\n",
       "      <td>2017</td>\n",
       "    </tr>\n",
       "    <tr>\n",
       "      <th>3</th>\n",
       "      <td>48</td>\n",
       "      <td>2019-02-05</td>\n",
       "      <td>1</td>\n",
       "      <td>10.0</td>\n",
       "      <td>False</td>\n",
       "      <td>Individual</td>\n",
       "      <td>Individual</td>\n",
       "      <td>2018</td>\n",
       "    </tr>\n",
       "    <tr>\n",
       "      <th>4</th>\n",
       "      <td>87</td>\n",
       "      <td>2021-05-28</td>\n",
       "      <td>2</td>\n",
       "      <td>144.0</td>\n",
       "      <td>False</td>\n",
       "      <td>Individual</td>\n",
       "      <td>Individual</td>\n",
       "      <td>2020</td>\n",
       "    </tr>\n",
       "  </tbody>\n",
       "</table>\n",
       "</div>"
      ],
      "text/plain": [
       "   dimcustomermasterid purchasedate  ticketcount  revenue  isplanproduct  \\\n",
       "0                    3   2017-11-21            3     75.0          False   \n",
       "1                   16   2018-02-02            2     85.0           True   \n",
       "2                   16   2018-02-02            2     85.0           True   \n",
       "3                   48   2019-02-05            1     10.0          False   \n",
       "4                   87   2021-05-28            2    144.0          False   \n",
       "\n",
       "  producttype subproductname  seasonyear  \n",
       "0       Other          Group        2017  \n",
       "1     Package    Half Season        2017  \n",
       "2     Package    Half Season        2017  \n",
       "3  Individual     Individual        2018  \n",
       "4  Individual     Individual        2020  "
      ]
     },
     "execution_count": 3,
     "metadata": {},
     "output_type": "execute_result"
    }
   ],
   "source": [
    "df.head()"
   ]
  },
  {
   "cell_type": "markdown",
   "id": "ea0f7929",
   "metadata": {},
   "source": [
    "For our analysis we will only consider **non-package buyers**, let's see how much data we have for NP buyers and what sub-products are included:"
   ]
  },
  {
   "cell_type": "code",
   "execution_count": 4,
   "id": "2caadb5a",
   "metadata": {},
   "outputs": [
    {
     "data": {
      "text/plain": [
       "False    2931853\n",
       "True     1017557\n",
       "Name: isplanproduct, dtype: int64"
      ]
     },
     "execution_count": 4,
     "metadata": {},
     "output_type": "execute_result"
    }
   ],
   "source": [
    "df['isplanproduct'].value_counts()"
   ]
  },
  {
   "cell_type": "markdown",
   "id": "9d116b0b",
   "metadata": {},
   "source": [
    "Remove the rows where isplanproduct = True:"
   ]
  },
  {
   "cell_type": "code",
   "execution_count": 5,
   "id": "77c5240d",
   "metadata": {},
   "outputs": [
    {
     "name": "stdout",
     "output_type": "stream",
     "text": [
      "<class 'pandas.core.frame.DataFrame'>\n",
      "Int64Index: 2931853 entries, 0 to 3949409\n",
      "Data columns (total 7 columns):\n",
      " #   Column               Dtype  \n",
      "---  ------               -----  \n",
      " 0   dimcustomermasterid  int64  \n",
      " 1   purchasedate         object \n",
      " 2   ticketcount          int64  \n",
      " 3   revenue              float64\n",
      " 4   producttype          object \n",
      " 5   subproductname       object \n",
      " 6   seasonyear           int64  \n",
      "dtypes: float64(1), int64(3), object(3)\n",
      "memory usage: 178.9+ MB\n"
     ]
    }
   ],
   "source": [
    "df = df[df['isplanproduct'] == False]\n",
    "\n",
    "df.drop(columns=[\"isplanproduct\"], inplace=True)\n",
    "\n",
    "df.info()"
   ]
  },
  {
   "cell_type": "markdown",
   "id": "5c8d230e",
   "metadata": {},
   "source": [
    "Let's include data from 2018 to present in our analysis:"
   ]
  },
  {
   "cell_type": "code",
   "execution_count": 6,
   "id": "8dad8040",
   "metadata": {},
   "outputs": [
    {
     "data": {
      "text/plain": [
       "(2471314, 7)"
      ]
     },
     "execution_count": 6,
     "metadata": {},
     "output_type": "execute_result"
    }
   ],
   "source": [
    "df = df[df[\"seasonyear\"] >= 2018]\n",
    "df.shape"
   ]
  },
  {
   "cell_type": "markdown",
   "id": "87cb9674",
   "metadata": {},
   "source": [
    "We'll also have a look at the included product and subproduct types:"
   ]
  },
  {
   "cell_type": "code",
   "execution_count": 7,
   "id": "4ac8ec5e",
   "metadata": {},
   "outputs": [
    {
     "data": {
      "text/plain": [
       "Individual    2246352\n",
       "Comp           142473\n",
       "Other           82489\n",
       "Name: producttype, dtype: int64"
      ]
     },
     "execution_count": 7,
     "metadata": {},
     "output_type": "execute_result"
    }
   ],
   "source": [
    "df[\"producttype\"].value_counts()"
   ]
  },
  {
   "cell_type": "code",
   "execution_count": 8,
   "id": "18fb76ca",
   "metadata": {},
   "outputs": [
    {
     "data": {
      "text/plain": [
       "Individual           2245724\n",
       "Comp                  141707\n",
       "Suite                  39145\n",
       "Group                  38697\n",
       "Deposit                 1842\n",
       "Group Broker            1459\n",
       "Suite Broker            1345\n",
       "Comp Broker              766\n",
       "Individual Broker        628\n",
       "Deposit Broker             1\n",
       "Name: subproductname, dtype: int64"
      ]
     },
     "execution_count": 8,
     "metadata": {},
     "output_type": "execute_result"
    }
   ],
   "source": [
    "df[\"subproductname\"].value_counts()"
   ]
  },
  {
   "cell_type": "markdown",
   "id": "6e607771",
   "metadata": {},
   "source": [
    "Let's remove the broker records so we are looking at actual customers:"
   ]
  },
  {
   "cell_type": "code",
   "execution_count": 9,
   "id": "f2915acd",
   "metadata": {},
   "outputs": [
    {
     "data": {
      "text/plain": [
       "Individual    2245724\n",
       "Comp           141707\n",
       "Suite           39145\n",
       "Group           38697\n",
       "Deposit          1842\n",
       "Name: subproductname, dtype: int64"
      ]
     },
     "execution_count": 9,
     "metadata": {},
     "output_type": "execute_result"
    }
   ],
   "source": [
    "df = df[df[\"subproductname\"].isin([\"Individual\", \"Comp\", \"Suite\", \"Group\", \"Deposit\"])]\n",
    "df.reset_index(drop=True, inplace=True)\n",
    "\n",
    "df[\"subproductname\"].value_counts()"
   ]
  },
  {
   "cell_type": "code",
   "execution_count": 10,
   "id": "c72ea2d4",
   "metadata": {},
   "outputs": [
    {
     "data": {
      "text/html": [
       "<div>\n",
       "<style scoped>\n",
       "    .dataframe tbody tr th:only-of-type {\n",
       "        vertical-align: middle;\n",
       "    }\n",
       "\n",
       "    .dataframe tbody tr th {\n",
       "        vertical-align: top;\n",
       "    }\n",
       "\n",
       "    .dataframe thead th {\n",
       "        text-align: right;\n",
       "    }\n",
       "</style>\n",
       "<table border=\"1\" class=\"dataframe\">\n",
       "  <thead>\n",
       "    <tr style=\"text-align: right;\">\n",
       "      <th></th>\n",
       "      <th>dimcustomermasterid</th>\n",
       "      <th>purchasedate</th>\n",
       "      <th>ticketcount</th>\n",
       "      <th>revenue</th>\n",
       "      <th>producttype</th>\n",
       "      <th>subproductname</th>\n",
       "      <th>seasonyear</th>\n",
       "    </tr>\n",
       "  </thead>\n",
       "  <tbody>\n",
       "    <tr>\n",
       "      <th>0</th>\n",
       "      <td>48</td>\n",
       "      <td>2019-02-05</td>\n",
       "      <td>1</td>\n",
       "      <td>10.0</td>\n",
       "      <td>Individual</td>\n",
       "      <td>Individual</td>\n",
       "      <td>2018</td>\n",
       "    </tr>\n",
       "    <tr>\n",
       "      <th>1</th>\n",
       "      <td>87</td>\n",
       "      <td>2021-05-28</td>\n",
       "      <td>2</td>\n",
       "      <td>144.0</td>\n",
       "      <td>Individual</td>\n",
       "      <td>Individual</td>\n",
       "      <td>2020</td>\n",
       "    </tr>\n",
       "    <tr>\n",
       "      <th>2</th>\n",
       "      <td>95</td>\n",
       "      <td>2021-05-24</td>\n",
       "      <td>4</td>\n",
       "      <td>160.0</td>\n",
       "      <td>Individual</td>\n",
       "      <td>Individual</td>\n",
       "      <td>2020</td>\n",
       "    </tr>\n",
       "    <tr>\n",
       "      <th>3</th>\n",
       "      <td>35</td>\n",
       "      <td>2020-02-08</td>\n",
       "      <td>5</td>\n",
       "      <td>90.0</td>\n",
       "      <td>Individual</td>\n",
       "      <td>Individual</td>\n",
       "      <td>2019</td>\n",
       "    </tr>\n",
       "    <tr>\n",
       "      <th>4</th>\n",
       "      <td>70</td>\n",
       "      <td>2019-03-27</td>\n",
       "      <td>1</td>\n",
       "      <td>116.5</td>\n",
       "      <td>Individual</td>\n",
       "      <td>Individual</td>\n",
       "      <td>2018</td>\n",
       "    </tr>\n",
       "    <tr>\n",
       "      <th>5</th>\n",
       "      <td>20</td>\n",
       "      <td>2019-02-27</td>\n",
       "      <td>8</td>\n",
       "      <td>112.0</td>\n",
       "      <td>Individual</td>\n",
       "      <td>Individual</td>\n",
       "      <td>2018</td>\n",
       "    </tr>\n",
       "    <tr>\n",
       "      <th>6</th>\n",
       "      <td>48</td>\n",
       "      <td>2019-02-05</td>\n",
       "      <td>1</td>\n",
       "      <td>10.0</td>\n",
       "      <td>Individual</td>\n",
       "      <td>Individual</td>\n",
       "      <td>2018</td>\n",
       "    </tr>\n",
       "    <tr>\n",
       "      <th>7</th>\n",
       "      <td>95</td>\n",
       "      <td>2021-05-06</td>\n",
       "      <td>2</td>\n",
       "      <td>134.0</td>\n",
       "      <td>Individual</td>\n",
       "      <td>Individual</td>\n",
       "      <td>2020</td>\n",
       "    </tr>\n",
       "    <tr>\n",
       "      <th>8</th>\n",
       "      <td>95</td>\n",
       "      <td>2021-05-24</td>\n",
       "      <td>5</td>\n",
       "      <td>200.0</td>\n",
       "      <td>Individual</td>\n",
       "      <td>Individual</td>\n",
       "      <td>2020</td>\n",
       "    </tr>\n",
       "    <tr>\n",
       "      <th>9</th>\n",
       "      <td>41</td>\n",
       "      <td>2021-09-15</td>\n",
       "      <td>2</td>\n",
       "      <td>242.0</td>\n",
       "      <td>Individual</td>\n",
       "      <td>Individual</td>\n",
       "      <td>2021</td>\n",
       "    </tr>\n",
       "  </tbody>\n",
       "</table>\n",
       "</div>"
      ],
      "text/plain": [
       "   dimcustomermasterid purchasedate  ticketcount  revenue producttype  \\\n",
       "0                   48   2019-02-05            1     10.0  Individual   \n",
       "1                   87   2021-05-28            2    144.0  Individual   \n",
       "2                   95   2021-05-24            4    160.0  Individual   \n",
       "3                   35   2020-02-08            5     90.0  Individual   \n",
       "4                   70   2019-03-27            1    116.5  Individual   \n",
       "5                   20   2019-02-27            8    112.0  Individual   \n",
       "6                   48   2019-02-05            1     10.0  Individual   \n",
       "7                   95   2021-05-06            2    134.0  Individual   \n",
       "8                   95   2021-05-24            5    200.0  Individual   \n",
       "9                   41   2021-09-15            2    242.0  Individual   \n",
       "\n",
       "  subproductname  seasonyear  \n",
       "0     Individual        2018  \n",
       "1     Individual        2020  \n",
       "2     Individual        2020  \n",
       "3     Individual        2019  \n",
       "4     Individual        2018  \n",
       "5     Individual        2018  \n",
       "6     Individual        2018  \n",
       "7     Individual        2020  \n",
       "8     Individual        2020  \n",
       "9     Individual        2021  "
      ]
     },
     "execution_count": 10,
     "metadata": {},
     "output_type": "execute_result"
    }
   ],
   "source": [
    "df.head(10)"
   ]
  },
  {
   "cell_type": "markdown",
   "id": "10f35c85-4ba4-4bdd-8238-3dc41da2cb5a",
   "metadata": {},
   "source": [
    "## Exploratory Data Analysis (EDA)\n",
    "\n",
    "Let's have a look at the data and decide whether we need any data cleaning and data transformation for further analysis."
   ]
  },
  {
   "cell_type": "code",
   "execution_count": 11,
   "id": "17e6bdb6",
   "metadata": {},
   "outputs": [],
   "source": [
    "#profile = ProfileReport(df, minimal=True)\n",
    "#profile.to_file(\"pandas-profile-report.html\")"
   ]
  },
  {
   "cell_type": "markdown",
   "id": "4b8c8591",
   "metadata": {},
   "source": [
    "By reading the profiling report, we can see that the following actions should be taken to improve the dataset quality:\n",
    "* Remove missing values from revenue (33.3%)\n",
    "* Remove zero values from revenue (7.4%)"
   ]
  },
  {
   "cell_type": "code",
   "execution_count": 12,
   "id": "fb7630f5",
   "metadata": {},
   "outputs": [
    {
     "data": {
      "text/plain": [
       "0"
      ]
     },
     "execution_count": 12,
     "metadata": {},
     "output_type": "execute_result"
    }
   ],
   "source": [
    "df.dropna(subset=['revenue'], inplace=True)\n",
    "df['revenue'].isnull().sum()"
   ]
  },
  {
   "cell_type": "markdown",
   "id": "0c61392c",
   "metadata": {},
   "source": [
    "Let's also drop any rows where revenue = 0, and then check the value counts to ensure the zero values are gone"
   ]
  },
  {
   "cell_type": "code",
   "execution_count": 13,
   "id": "f8308914",
   "metadata": {},
   "outputs": [
    {
     "data": {
      "text/plain": [
       "(-0.001, 1000.0]       1424893\n",
       "(1000.0, 10000.0]        28898\n",
       "(10000.0, 100000.0]        208\n",
       "Name: revenue, dtype: int64"
      ]
     },
     "execution_count": 13,
     "metadata": {},
     "output_type": "execute_result"
    }
   ],
   "source": [
    "df = df[df['revenue'] > 0]\n",
    "df['revenue'].value_counts(bins=[0, 1000, 10000, 100000])"
   ]
  },
  {
   "cell_type": "markdown",
   "id": "52e37e52",
   "metadata": {},
   "source": [
    "### Data Types\n",
    "\n",
    "Let's look at the data types in our dataframe to see if we need to convert any values to a different type"
   ]
  },
  {
   "cell_type": "code",
   "execution_count": 14,
   "id": "bd104e2f",
   "metadata": {},
   "outputs": [
    {
     "data": {
      "text/plain": [
       "dimcustomermasterid      int64\n",
       "purchasedate            object\n",
       "ticketcount              int64\n",
       "revenue                float64\n",
       "producttype             object\n",
       "subproductname          object\n",
       "seasonyear               int64\n",
       "dtype: object"
      ]
     },
     "execution_count": 14,
     "metadata": {},
     "output_type": "execute_result"
    }
   ],
   "source": [
    "df.dtypes"
   ]
  },
  {
   "cell_type": "markdown",
   "id": "d6d5d591",
   "metadata": {},
   "source": [
    "Purchase date should be a datetime not an object (string), all of the other inferred data types look correct"
   ]
  },
  {
   "cell_type": "code",
   "execution_count": 15,
   "id": "1344b285",
   "metadata": {},
   "outputs": [],
   "source": [
    "df['purchasedate'] =  pd.to_datetime(df['purchasedate'], format='%Y-%m-%d')"
   ]
  },
  {
   "cell_type": "markdown",
   "id": "c6d228c9-3072-44b6-9d98-b2c8429a276f",
   "metadata": {},
   "source": [
    "### Distributions\n",
    "\n",
    "Let's look at the distributions for our three key fields: purchasedate, ticketcount and revenue"
   ]
  },
  {
   "cell_type": "code",
   "execution_count": 16,
   "id": "23d1e73c-a8e1-4cfe-a9d4-67d21be502b8",
   "metadata": {},
   "outputs": [
    {
     "data": {
      "text/plain": [
       "Text(0, 0.5, 'Fans')"
      ]
     },
     "execution_count": 16,
     "metadata": {},
     "output_type": "execute_result"
    },
    {
     "data": {
      "image/png": "[encoded data removed]",
      "text/plain": [
       "<Figure size 432x288 with 1 Axes>"
      ]
     },
     "metadata": {
      "needs_background": "light"
     },
     "output_type": "display_data"
    }
   ],
   "source": [
    "plt.hist(df[\"purchasedate\"], color='dodgerblue', edgecolor='black')\n",
    "plt.title(\"Recency\", fontsize=16)\n",
    "plt.xlabel(\"Year\", fontsize=14)\n",
    "plt.ylabel(\"Fans\", fontsize=14)"
   ]
  },
  {
   "cell_type": "markdown",
   "id": "e82daef2",
   "metadata": {},
   "source": [
    "There was abnormally low purchasing during the 2020 season because of stadium closures due to the COVID-19 pandemic. There are also some outlier purchases from before 2017\n",
    "\n",
    "We may want to remove these from our training dataset, but let's leave them in for now"
   ]
  },
  {
   "cell_type": "code",
   "execution_count": 17,
   "id": "b394ae2f",
   "metadata": {},
   "outputs": [
    {
     "data": {
      "text/plain": [
       "Text(0, 0.5, 'Fans')"
      ]
     },
     "execution_count": 17,
     "metadata": {},
     "output_type": "execute_result"
    },
    {
     "data": {
      "image/png": "[encoded data removed]",
      "text/plain": [
       "<Figure size 432x288 with 1 Axes>"
      ]
     },
     "metadata": {
      "needs_background": "light"
     },
     "output_type": "display_data"
    }
   ],
   "source": [
    "plt.hist(df[\"ticketcount\"], color='dodgerblue', edgecolor='black')\n",
    "plt.title(\"Ticket Count\", fontsize=16)\n",
    "plt.xlabel(\"No. Tickets\", fontsize=14)\n",
    "plt.ylabel(\"Fans\", fontsize=14)"
   ]
  },
  {
   "cell_type": "code",
   "execution_count": 18,
   "id": "e4123cd5",
   "metadata": {},
   "outputs": [
    {
     "data": {
      "text/plain": [
       "(-0.001, 5.0]       1397196\n",
       "(5.0, 10.0]           43389\n",
       "(10.0, 50.0]          12528\n",
       "(50.0, 100.0]           579\n",
       "(100.0, 10000.0]        307\n",
       "Name: ticketcount, dtype: int64"
      ]
     },
     "execution_count": 18,
     "metadata": {},
     "output_type": "execute_result"
    }
   ],
   "source": [
    "df[\"ticketcount\"].value_counts(bins=[0, 5, 10, 50, 100, 10000])"
   ]
  },
  {
   "cell_type": "markdown",
   "id": "90765e23",
   "metadata": {},
   "source": [
    "We can see that ticket count is highly skewed toward 1 ticket, we may want to remove the outliers here but let's leave it for now"
   ]
  },
  {
   "cell_type": "code",
   "execution_count": 19,
   "id": "f097fff3",
   "metadata": {},
   "outputs": [
    {
     "data": {
      "text/plain": [
       "Text(0, 0.5, 'Fans')"
      ]
     },
     "execution_count": 19,
     "metadata": {},
     "output_type": "execute_result"
    },
    {
     "data": {
      "image/png": "[encoded data removed]",
      "text/plain": [
       "<Figure size 432x288 with 1 Axes>"
      ]
     },
     "metadata": {
      "needs_background": "light"
     },
     "output_type": "display_data"
    }
   ],
   "source": [
    "plt.hist(df[\"revenue\"], color='dodgerblue', edgecolor='black')\n",
    "plt.title(\"Revenue\", fontsize=16)\n",
    "plt.xlabel(\"Spend ($)\", fontsize=14)\n",
    "plt.ylabel(\"Fans\", fontsize=14)"
   ]
  },
  {
   "cell_type": "code",
   "execution_count": 20,
   "id": "bc8ce892",
   "metadata": {},
   "outputs": [
    {
     "data": {
      "text/plain": [
       "(100.0, 1000.0]        733893\n",
       "(-0.001, 100.0]        691000\n",
       "(1000.0, 10000.0]       28898\n",
       "(10000.0, 100000.0]       208\n",
       "Name: revenue, dtype: int64"
      ]
     },
     "execution_count": 20,
     "metadata": {},
     "output_type": "execute_result"
    }
   ],
   "source": [
    "df[\"revenue\"].value_counts(bins=[0, 100, 1000, 10000, 100000])"
   ]
  },
  {
   "cell_type": "markdown",
   "id": "e0dd4632",
   "metadata": {},
   "source": [
    "Most fans spend between 1 and 1000 dollars on a purchase, but some spend much more, we may want to remove these outliers but let's leave them in for now"
   ]
  },
  {
   "cell_type": "markdown",
   "id": "5c789725",
   "metadata": {},
   "source": [
    "## Customer Segmentation\n",
    "\n",
    "**RFM** stands for Recency - Frequency - Monetary Value. Theoretically we will have segments like below:\n",
    "\n",
    "* Low Value: Customers who are less active than others, not very frequent buyer/visitor and generates very low - zero - maybe negative revenue.\n",
    "\n",
    "* Mid Value: In the middle of everything. Often purchasing (but not as much as our High Values), fairly frequent and generates moderate revenue.\n",
    "\n",
    "* High Value: The group we don’t want to lose. High Revenue, Frequency and low Inactivity."
   ]
  },
  {
   "cell_type": "markdown",
   "id": "96c59e92",
   "metadata": {},
   "source": [
    "### Recency\n",
    "\n",
    "To calculate recency, we need to find out most recent purchase date of each customer and see how many days they are inactive for. After having no. of inactive days for each customer, we will apply K-means* clustering to assign customers a recency score."
   ]
  },
  {
   "cell_type": "code",
   "execution_count": 21,
   "id": "6ded0fac",
   "metadata": {},
   "outputs": [
    {
     "data": {
      "text/html": [
       "<div>\n",
       "<style scoped>\n",
       "    .dataframe tbody tr th:only-of-type {\n",
       "        vertical-align: middle;\n",
       "    }\n",
       "\n",
       "    .dataframe tbody tr th {\n",
       "        vertical-align: top;\n",
       "    }\n",
       "\n",
       "    .dataframe thead th {\n",
       "        text-align: right;\n",
       "    }\n",
       "</style>\n",
       "<table border=\"1\" class=\"dataframe\">\n",
       "  <thead>\n",
       "    <tr style=\"text-align: right;\">\n",
       "      <th></th>\n",
       "      <th>dimcustomermasterid</th>\n",
       "      <th>recency</th>\n",
       "    </tr>\n",
       "  </thead>\n",
       "  <tbody>\n",
       "    <tr>\n",
       "      <th>0</th>\n",
       "      <td>48</td>\n",
       "      <td>1255</td>\n",
       "    </tr>\n",
       "    <tr>\n",
       "      <th>1</th>\n",
       "      <td>87</td>\n",
       "      <td>412</td>\n",
       "    </tr>\n",
       "    <tr>\n",
       "      <th>2</th>\n",
       "      <td>95</td>\n",
       "      <td>416</td>\n",
       "    </tr>\n",
       "    <tr>\n",
       "      <th>3</th>\n",
       "      <td>35</td>\n",
       "      <td>887</td>\n",
       "    </tr>\n",
       "    <tr>\n",
       "      <th>4</th>\n",
       "      <td>70</td>\n",
       "      <td>916</td>\n",
       "    </tr>\n",
       "  </tbody>\n",
       "</table>\n",
       "</div>"
      ],
      "text/plain": [
       "   dimcustomermasterid  recency\n",
       "0                   48     1255\n",
       "1                   87      412\n",
       "2                   95      416\n",
       "3                   35      887\n",
       "4                   70      916"
      ]
     },
     "execution_count": 21,
     "metadata": {},
     "output_type": "execute_result"
    }
   ],
   "source": [
    "# create a generic user dataframe to keep dimcustomermasterid and new segmentation scores\n",
    "df_customer = pd.DataFrame(df['dimcustomermasterid'].unique())\n",
    "df_customer.columns = ['dimcustomermasterid']\n",
    "\n",
    "# get the max purchase date for each customer and create a dataframe with it\n",
    "df_max_purchase = df.groupby('dimcustomermasterid')[\"purchasedate\"].max().reset_index()\n",
    "df_max_purchase.columns = ['dimcustomermasterid','maxpurchasedate']\n",
    "\n",
    "# we take our observation point as the max invoice date in our dataset\n",
    "df_max_purchase['recency'] = (df_max_purchase['maxpurchasedate'].max() - df_max_purchase['maxpurchasedate']).dt.days\n",
    "\n",
    "#merge this dataframe to our new user dataframe\n",
    "df_customer = pd.merge(df_customer, df_max_purchase[['dimcustomermasterid','recency']], on='dimcustomermasterid')\n",
    "\n",
    "df_customer.head()"
   ]
  },
  {
   "cell_type": "code",
   "execution_count": 22,
   "id": "7498fc94",
   "metadata": {},
   "outputs": [
    {
     "data": {
      "text/plain": [
       "count    685468.000000\n",
       "mean        809.971895\n",
       "std         543.306111\n",
       "min           0.000000\n",
       "25%         236.000000\n",
       "50%         953.000000\n",
       "75%        1266.000000\n",
       "max        1884.000000\n",
       "Name: recency, dtype: float64"
      ]
     },
     "execution_count": 22,
     "metadata": {},
     "output_type": "execute_result"
    }
   ],
   "source": [
    "df_customer[\"recency\"].describe()"
   ]
  },
  {
   "cell_type": "code",
   "execution_count": 23,
   "id": "ef1f287d",
   "metadata": {},
   "outputs": [
    {
     "data": {
      "image/png": "[encoded data removed]",
      "text/plain": [
       "<Figure size 432x288 with 1 Axes>"
      ]
     },
     "metadata": {
      "needs_background": "light"
     },
     "output_type": "display_data"
    }
   ],
   "source": [
    "plt.hist(df_customer[\"recency\"], bins=50, color=\"dodgerblue\", edgecolor=\"black\")\n",
    "plt.title(\"Recency by Customer\")\n",
    "plt.ylabel(\"No. Customers\")\n",
    "plt.xlabel(\"Recency (days)\")\n",
    "plt.rcParams[\"figure.figsize\"] = (20,5)\n",
    "\n",
    "plt.show()"
   ]
  },
  {
   "cell_type": "markdown",
   "id": "c88f58f2",
   "metadata": {},
   "source": [
    "We can observe a large gap in purchasing behaviour between ~850 - 500 days ago, which aligns with when COVID-19 was declared a global pandemic."
   ]
  },
  {
   "cell_type": "markdown",
   "id": "0901453c",
   "metadata": {},
   "source": [
    "### Clustering Recency\n",
    "\n",
    "We are going to apply K-means clustering to assign a recency score. We will use the elbow method to determine how many clusters we need:"
   ]
  },
  {
   "cell_type": "code",
   "execution_count": 24,
   "id": "a6fb7741",
   "metadata": {},
   "outputs": [
    {
     "data": {
      "image/png": "[encoded data removed]",
      "text/plain": [
       "<Figure size 1440x360 with 1 Axes>"
      ]
     },
     "metadata": {
      "needs_background": "light"
     },
     "output_type": "display_data"
    }
   ],
   "source": [
    "from sklearn.cluster import KMeans\n",
    "\n",
    "cluster_dict={}\n",
    "df_recency = df_customer[['recency']]\n",
    "\n",
    "for k in range(1, 10):\n",
    "    kmeans = KMeans(n_clusters=k, max_iter=1000).fit(df_recency)\n",
    "    df_recency[\"clusters\"] = kmeans.labels_\n",
    "    cluster_dict[k] = kmeans.inertia_ \n",
    "\n",
    "plt.figure()\n",
    "plt.plot(list(cluster_dict.keys()), list(cluster_dict.values()))\n",
    "plt.xlabel(\"Number of cluster\")\n",
    "plt.show()"
   ]
  },
  {
   "cell_type": "markdown",
   "id": "ab1ef142",
   "metadata": {},
   "source": [
    "Here it looks like 3 is the optimal number of clusters"
   ]
  },
  {
   "cell_type": "code",
   "execution_count": 25,
   "id": "210060ba",
   "metadata": {},
   "outputs": [],
   "source": [
    "# build 3 clusters for recency and add it to dataframe\n",
    "kmeans = KMeans(n_clusters=3)\n",
    "kmeans.fit(df_customer[['recency']])\n",
    "df_customer['recencycluster'] = kmeans.predict(df_customer[['recency']])\n",
    "\n",
    "#function for ordering clusters from worst to best\n",
    "def order_cluster(cluster_field_name, target_field_name,df,ascending):\n",
    "    \n",
    "    df_new = df.groupby(cluster_field_name)[target_field_name].mean().reset_index()\n",
    "    df_new = df_new.sort_values(by=target_field_name,ascending=ascending).reset_index(drop=True)\n",
    "    df_new['index'] = df_new.index\n",
    "    df_final = pd.merge(df,df_new[[cluster_field_name,'index']], on=cluster_field_name)\n",
    "    df_final = df_final.drop([cluster_field_name],axis=1)\n",
    "    df_final = df_final.rename(columns={\"index\":cluster_field_name})\n",
    "    \n",
    "    return df_final\n",
    "\n",
    "df_customer = order_cluster('recencycluster', 'recency', df_customer, False)"
   ]
  },
  {
   "cell_type": "code",
   "execution_count": 26,
   "id": "bad2e278",
   "metadata": {},
   "outputs": [
    {
     "data": {
      "text/html": [
       "<div>\n",
       "<style scoped>\n",
       "    .dataframe tbody tr th:only-of-type {\n",
       "        vertical-align: middle;\n",
       "    }\n",
       "\n",
       "    .dataframe tbody tr th {\n",
       "        vertical-align: top;\n",
       "    }\n",
       "\n",
       "    .dataframe thead th {\n",
       "        text-align: right;\n",
       "    }\n",
       "</style>\n",
       "<table border=\"1\" class=\"dataframe\">\n",
       "  <thead>\n",
       "    <tr style=\"text-align: right;\">\n",
       "      <th></th>\n",
       "      <th>count</th>\n",
       "      <th>mean</th>\n",
       "      <th>std</th>\n",
       "      <th>min</th>\n",
       "      <th>25%</th>\n",
       "      <th>50%</th>\n",
       "      <th>75%</th>\n",
       "      <th>max</th>\n",
       "    </tr>\n",
       "    <tr>\n",
       "      <th>recencycluster</th>\n",
       "      <th></th>\n",
       "      <th></th>\n",
       "      <th></th>\n",
       "      <th></th>\n",
       "      <th></th>\n",
       "      <th></th>\n",
       "      <th></th>\n",
       "      <th></th>\n",
       "    </tr>\n",
       "  </thead>\n",
       "  <tbody>\n",
       "    <tr>\n",
       "      <th>0</th>\n",
       "      <td>175764.0</td>\n",
       "      <td>1454.542984</td>\n",
       "      <td>142.972970</td>\n",
       "      <td>1258.0</td>\n",
       "      <td>1334.0</td>\n",
       "      <td>1406.0</td>\n",
       "      <td>1592.0</td>\n",
       "      <td>1884.0</td>\n",
       "    </tr>\n",
       "    <tr>\n",
       "      <th>1</th>\n",
       "      <td>230561.0</td>\n",
       "      <td>1056.238063</td>\n",
       "      <td>128.076892</td>\n",
       "      <td>630.0</td>\n",
       "      <td>944.0</td>\n",
       "      <td>1039.0</td>\n",
       "      <td>1179.0</td>\n",
       "      <td>1257.0</td>\n",
       "    </tr>\n",
       "    <tr>\n",
       "      <th>2</th>\n",
       "      <td>279143.0</td>\n",
       "      <td>200.707945</td>\n",
       "      <td>124.631394</td>\n",
       "      <td>0.0</td>\n",
       "      <td>100.0</td>\n",
       "      <td>197.0</td>\n",
       "      <td>277.0</td>\n",
       "      <td>629.0</td>\n",
       "    </tr>\n",
       "  </tbody>\n",
       "</table>\n",
       "</div>"
      ],
      "text/plain": [
       "                   count         mean         std     min     25%     50%  \\\n",
       "recencycluster                                                              \n",
       "0               175764.0  1454.542984  142.972970  1258.0  1334.0  1406.0   \n",
       "1               230561.0  1056.238063  128.076892   630.0   944.0  1039.0   \n",
       "2               279143.0   200.707945  124.631394     0.0   100.0   197.0   \n",
       "\n",
       "                   75%     max  \n",
       "recencycluster                  \n",
       "0               1592.0  1884.0  \n",
       "1               1179.0  1257.0  \n",
       "2                277.0   629.0  "
      ]
     },
     "execution_count": 26,
     "metadata": {},
     "output_type": "execute_result"
    }
   ],
   "source": [
    "df_customer.groupby('recencycluster')[\"recency\"].describe()"
   ]
  },
  {
   "cell_type": "markdown",
   "id": "b342c25c",
   "metadata": {},
   "source": [
    "### Frequency\n",
    "\n",
    "To create frequency clusters, we first need to find total number orders for each customer:"
   ]
  },
  {
   "cell_type": "code",
   "execution_count": 27,
   "id": "62b26f6a",
   "metadata": {},
   "outputs": [],
   "source": [
    "#get order counts for each user and create a dataframe with it\n",
    "df_frequency = df.groupby('dimcustomermasterid')[\"purchasedate\"].count().reset_index()\n",
    "df_frequency.columns = ['dimcustomermasterid','frequency']\n",
    "\n",
    "#add this data to our main dataframe\n",
    "df_customer = pd.merge(df_customer, df_frequency, on=\"dimcustomermasterid\")"
   ]
  },
  {
   "cell_type": "code",
   "execution_count": 31,
   "id": "d4d7df03",
   "metadata": {},
   "outputs": [
    {
     "data": {
      "text/plain": [
       "count    685468.000000\n",
       "mean          2.121177\n",
       "std          11.006631\n",
       "min           1.000000\n",
       "25%           1.000000\n",
       "50%           1.000000\n",
       "75%           2.000000\n",
       "max        7162.000000\n",
       "Name: frequency, dtype: float64"
      ]
     },
     "execution_count": 31,
     "metadata": {},
     "output_type": "execute_result"
    }
   ],
   "source": [
    "df_customer[\"frequency\"].describe()"
   ]
  },
  {
   "cell_type": "code",
   "execution_count": 29,
   "id": "082ab79c",
   "metadata": {},
   "outputs": [
    {
     "data": {
      "image/png": "[encoded data removed]",
      "text/plain": [
       "<Figure size 1440x360 with 1 Axes>"
      ]
     },
     "metadata": {
      "needs_background": "light"
     },
     "output_type": "display_data"
    }
   ],
   "source": [
    "plt.hist(df_customer[\"frequency\"], color=\"dodgerblue\", edgecolor=\"black\")\n",
    "plt.title(\"Frequency by Customer\")\n",
    "plt.ylabel(\"No. Customers\")\n",
    "plt.xlabel(\"No. Purchases\")\n",
    "plt.rcParams[\"figure.figsize\"] = (20,5)\n",
    "\n",
    "plt.show()"
   ]
  },
  {
   "cell_type": "code",
   "execution_count": 32,
   "id": "d65719c8",
   "metadata": {},
   "outputs": [],
   "source": [
    "# build 3 clusters for frequency and add it to dataframe\n",
    "kmeans = KMeans(n_clusters=3)\n",
    "kmeans.fit(df_customer[['frequency']])\n",
    "df_customer['frequencycluster'] = kmeans.predict(df_customer[['frequency']])\n",
    "\n",
    "df_customer = order_cluster('frequencycluster', 'frequency', df_customer, False)"
   ]
  },
  {
   "cell_type": "code",
   "execution_count": 33,
   "id": "406b95e1",
   "metadata": {},
   "outputs": [
    {
     "data": {
      "text/html": [
       "<div>\n",
       "<style scoped>\n",
       "    .dataframe tbody tr th:only-of-type {\n",
       "        vertical-align: middle;\n",
       "    }\n",
       "\n",
       "    .dataframe tbody tr th {\n",
       "        vertical-align: top;\n",
       "    }\n",
       "\n",
       "    .dataframe thead th {\n",
       "        text-align: right;\n",
       "    }\n",
       "</style>\n",
       "<table border=\"1\" class=\"dataframe\">\n",
       "  <thead>\n",
       "    <tr style=\"text-align: right;\">\n",
       "      <th></th>\n",
       "      <th>count</th>\n",
       "      <th>mean</th>\n",
       "      <th>std</th>\n",
       "      <th>min</th>\n",
       "      <th>25%</th>\n",
       "      <th>50%</th>\n",
       "      <th>75%</th>\n",
       "      <th>max</th>\n",
       "    </tr>\n",
       "    <tr>\n",
       "      <th>frequencycluster</th>\n",
       "      <th></th>\n",
       "      <th></th>\n",
       "      <th></th>\n",
       "      <th></th>\n",
       "      <th></th>\n",
       "      <th></th>\n",
       "      <th></th>\n",
       "      <th></th>\n",
       "    </tr>\n",
       "  </thead>\n",
       "  <tbody>\n",
       "    <tr>\n",
       "      <th>0</th>\n",
       "      <td>1.0</td>\n",
       "      <td>7162.000000</td>\n",
       "      <td>NaN</td>\n",
       "      <td>7162.0</td>\n",
       "      <td>7162.0</td>\n",
       "      <td>7162.0</td>\n",
       "      <td>7162.0</td>\n",
       "      <td>7162.0</td>\n",
       "    </tr>\n",
       "    <tr>\n",
       "      <th>1</th>\n",
       "      <td>892.0</td>\n",
       "      <td>148.672646</td>\n",
       "      <td>97.093198</td>\n",
       "      <td>76.0</td>\n",
       "      <td>101.0</td>\n",
       "      <td>142.0</td>\n",
       "      <td>154.0</td>\n",
       "      <td>1743.0</td>\n",
       "    </tr>\n",
       "    <tr>\n",
       "      <th>2</th>\n",
       "      <td>684575.0</td>\n",
       "      <td>1.919762</td>\n",
       "      <td>2.474744</td>\n",
       "      <td>1.0</td>\n",
       "      <td>1.0</td>\n",
       "      <td>1.0</td>\n",
       "      <td>2.0</td>\n",
       "      <td>75.0</td>\n",
       "    </tr>\n",
       "  </tbody>\n",
       "</table>\n",
       "</div>"
      ],
      "text/plain": [
       "                     count         mean        std     min     25%     50%  \\\n",
       "frequencycluster                                                             \n",
       "0                      1.0  7162.000000        NaN  7162.0  7162.0  7162.0   \n",
       "1                    892.0   148.672646  97.093198    76.0   101.0   142.0   \n",
       "2                 684575.0     1.919762   2.474744     1.0     1.0     1.0   \n",
       "\n",
       "                     75%     max  \n",
       "frequencycluster                  \n",
       "0                 7162.0  7162.0  \n",
       "1                  154.0  1743.0  \n",
       "2                    2.0    75.0  "
      ]
     },
     "execution_count": 33,
     "metadata": {},
     "output_type": "execute_result"
    }
   ],
   "source": [
    "df_customer.groupby('frequencycluster')[\"frequency\"].describe()"
   ]
  },
  {
   "cell_type": "markdown",
   "id": "44a24b0b",
   "metadata": {},
   "source": [
    "### Revenue\n",
    "\n",
    "Let’s add revenue to our dataset and cluster based on revenue:"
   ]
  },
  {
   "cell_type": "code",
   "execution_count": 35,
   "id": "df384364",
   "metadata": {},
   "outputs": [],
   "source": [
    "df_revenue = df.groupby(\"dimcustomermasterid\")[\"revenue\"].sum().reset_index()\n",
    "\n",
    "df_customer = pd.merge(df_customer, df_revenue, on=\"dimcustomermasterid\")"
   ]
  },
  {
   "cell_type": "code",
   "execution_count": 39,
   "id": "465be908",
   "metadata": {},
   "outputs": [
    {
     "data": {
      "text/plain": [
       "count    6.854680e+05\n",
       "mean     4.129896e+02\n",
       "std      4.762904e+03\n",
       "min      1.000000e+00\n",
       "25%      9.600000e+01\n",
       "50%      1.850000e+02\n",
       "75%      3.665000e+02\n",
       "max      2.174712e+06\n",
       "Name: revenue, dtype: float64"
      ]
     },
     "execution_count": 39,
     "metadata": {},
     "output_type": "execute_result"
    }
   ],
   "source": [
    "df_customer[\"revenue\"].describe()"
   ]
  },
  {
   "cell_type": "code",
   "execution_count": 38,
   "id": "14150420",
   "metadata": {},
   "outputs": [
    {
     "data": {
      "image/png": "[encoded data removed]",
      "text/plain": [
       "<Figure size 1440x360 with 1 Axes>"
      ]
     },
     "metadata": {
      "needs_background": "light"
     },
     "output_type": "display_data"
    }
   ],
   "source": [
    "plt.hist(df_customer[\"revenue\"], bins=50, color=\"dodgerblue\", edgecolor=\"black\")\n",
    "plt.title(\"Revenue by Customer\")\n",
    "plt.ylabel(\"No. Customers\")\n",
    "plt.xlabel(\"Revenue ($)\")\n",
    "plt.rcParams[\"figure.figsize\"] = (20,5)\n",
    "\n",
    "plt.show()"
   ]
  },
  {
   "cell_type": "code",
   "execution_count": 40,
   "id": "d55df6a6",
   "metadata": {},
   "outputs": [],
   "source": [
    "# build 3 clusters for revenue and add it to dataframe\n",
    "kmeans = KMeans(n_clusters=3)\n",
    "kmeans.fit(df_customer[['revenue']])\n",
    "df_customer['revenuecluster'] = kmeans.predict(df_customer[['revenue']])\n",
    "\n",
    "df_customer = order_cluster('revenuecluster', 'revenue', df_customer, False)"
   ]
  },
  {
   "cell_type": "code",
   "execution_count": 41,
   "id": "0dc2c945",
   "metadata": {},
   "outputs": [
    {
     "data": {
      "text/html": [
       "<div>\n",
       "<style scoped>\n",
       "    .dataframe tbody tr th:only-of-type {\n",
       "        vertical-align: middle;\n",
       "    }\n",
       "\n",
       "    .dataframe tbody tr th {\n",
       "        vertical-align: top;\n",
       "    }\n",
       "\n",
       "    .dataframe thead th {\n",
       "        text-align: right;\n",
       "    }\n",
       "</style>\n",
       "<table border=\"1\" class=\"dataframe\">\n",
       "  <thead>\n",
       "    <tr style=\"text-align: right;\">\n",
       "      <th></th>\n",
       "      <th>count</th>\n",
       "      <th>mean</th>\n",
       "      <th>std</th>\n",
       "      <th>min</th>\n",
       "      <th>25%</th>\n",
       "      <th>50%</th>\n",
       "      <th>75%</th>\n",
       "      <th>max</th>\n",
       "    </tr>\n",
       "    <tr>\n",
       "      <th>revenuecluster</th>\n",
       "      <th></th>\n",
       "      <th></th>\n",
       "      <th></th>\n",
       "      <th></th>\n",
       "      <th></th>\n",
       "      <th></th>\n",
       "      <th></th>\n",
       "      <th></th>\n",
       "    </tr>\n",
       "  </thead>\n",
       "  <tbody>\n",
       "    <tr>\n",
       "      <th>0</th>\n",
       "      <td>1.0</td>\n",
       "      <td>2.174712e+06</td>\n",
       "      <td>NaN</td>\n",
       "      <td>2174711.94</td>\n",
       "      <td>2174711.94</td>\n",
       "      <td>2174711.94</td>\n",
       "      <td>2174711.94</td>\n",
       "      <td>2174711.94</td>\n",
       "    </tr>\n",
       "    <tr>\n",
       "      <th>1</th>\n",
       "      <td>63.0</td>\n",
       "      <td>3.466170e+05</td>\n",
       "      <td>167032.467820</td>\n",
       "      <td>175432.15</td>\n",
       "      <td>214752.32</td>\n",
       "      <td>301498.27</td>\n",
       "      <td>472967.36</td>\n",
       "      <td>936195.82</td>\n",
       "    </tr>\n",
       "    <tr>\n",
       "      <th>2</th>\n",
       "      <td>685404.0</td>\n",
       "      <td>3.779954e+02</td>\n",
       "      <td>1499.331137</td>\n",
       "      <td>1.00</td>\n",
       "      <td>96.00</td>\n",
       "      <td>185.00</td>\n",
       "      <td>366.00</td>\n",
       "      <td>162102.00</td>\n",
       "    </tr>\n",
       "  </tbody>\n",
       "</table>\n",
       "</div>"
      ],
      "text/plain": [
       "                   count          mean            std         min         25%  \\\n",
       "revenuecluster                                                                  \n",
       "0                    1.0  2.174712e+06            NaN  2174711.94  2174711.94   \n",
       "1                   63.0  3.466170e+05  167032.467820   175432.15   214752.32   \n",
       "2               685404.0  3.779954e+02    1499.331137        1.00       96.00   \n",
       "\n",
       "                       50%         75%         max  \n",
       "revenuecluster                                      \n",
       "0               2174711.94  2174711.94  2174711.94  \n",
       "1                301498.27   472967.36   936195.82  \n",
       "2                   185.00      366.00   162102.00  "
      ]
     },
     "execution_count": 41,
     "metadata": {},
     "output_type": "execute_result"
    }
   ],
   "source": [
    "df_customer.groupby(\"revenuecluster\")[\"revenue\"].describe()"
   ]
  },
  {
   "cell_type": "markdown",
   "id": "b2bad9a2",
   "metadata": {},
   "source": [
    "### Overall Score\n",
    "\n",
    "We have scores (cluster numbers) for recency, frequency & revenue. Let’s create an overall score out of them:"
   ]
  },
  {
   "cell_type": "code",
   "execution_count": 43,
   "id": "3223973e",
   "metadata": {},
   "outputs": [
    {
     "name": "stderr",
     "output_type": "stream",
     "text": [
      "/var/folders/kp/vwm5bxcd72j3yf54l1xtsts80000gp/T/ipykernel_68084/874267582.py:3: FutureWarning: Indexing with multiple keys (implicitly converted to a tuple of keys) will be deprecated, use a list instead.\n",
      "  df_customer.groupby('score')['recency','frequency','revenue'].mean()\n"
     ]
    },
    {
     "data": {
      "text/html": [
       "<div>\n",
       "<style scoped>\n",
       "    .dataframe tbody tr th:only-of-type {\n",
       "        vertical-align: middle;\n",
       "    }\n",
       "\n",
       "    .dataframe tbody tr th {\n",
       "        vertical-align: top;\n",
       "    }\n",
       "\n",
       "    .dataframe thead th {\n",
       "        text-align: right;\n",
       "    }\n",
       "</style>\n",
       "<table border=\"1\" class=\"dataframe\">\n",
       "  <thead>\n",
       "    <tr style=\"text-align: right;\">\n",
       "      <th></th>\n",
       "      <th>recency</th>\n",
       "      <th>frequency</th>\n",
       "      <th>revenue</th>\n",
       "    </tr>\n",
       "    <tr>\n",
       "      <th>score</th>\n",
       "      <th></th>\n",
       "      <th></th>\n",
       "      <th></th>\n",
       "    </tr>\n",
       "  </thead>\n",
       "  <tbody>\n",
       "    <tr>\n",
       "      <th>2</th>\n",
       "      <td>31.000000</td>\n",
       "      <td>7162.000000</td>\n",
       "      <td>2.174712e+06</td>\n",
       "    </tr>\n",
       "    <tr>\n",
       "      <th>3</th>\n",
       "      <td>1134.785714</td>\n",
       "      <td>118.428571</td>\n",
       "      <td>1.630800e+05</td>\n",
       "    </tr>\n",
       "    <tr>\n",
       "      <th>4</th>\n",
       "      <td>1453.855822</td>\n",
       "      <td>1.592660</td>\n",
       "      <td>3.885283e+02</td>\n",
       "    </tr>\n",
       "    <tr>\n",
       "      <th>5</th>\n",
       "      <td>1053.711926</td>\n",
       "      <td>2.302972</td>\n",
       "      <td>3.747723e+02</td>\n",
       "    </tr>\n",
       "    <tr>\n",
       "      <th>6</th>\n",
       "      <td>200.691013</td>\n",
       "      <td>2.272723</td>\n",
       "      <td>4.441838e+02</td>\n",
       "    </tr>\n",
       "  </tbody>\n",
       "</table>\n",
       "</div>"
      ],
      "text/plain": [
       "           recency    frequency       revenue\n",
       "score                                        \n",
       "2        31.000000  7162.000000  2.174712e+06\n",
       "3      1134.785714   118.428571  1.630800e+05\n",
       "4      1453.855822     1.592660  3.885283e+02\n",
       "5      1053.711926     2.302972  3.747723e+02\n",
       "6       200.691013     2.272723  4.441838e+02"
      ]
     },
     "execution_count": 43,
     "metadata": {},
     "output_type": "execute_result"
    }
   ],
   "source": [
    "#calculate overall score and use mean() to see details\n",
    "df_customer['score'] = df_customer['recencycluster'] + df_customer['frequencycluster'] + df_customer['revenuecluster']\n",
    "df_customer.groupby('score')['recency','frequency','revenue'].mean()"
   ]
  },
  {
   "cell_type": "markdown",
   "id": "4cc854ab",
   "metadata": {},
   "source": [
    "These scores are a bit hard to interpret, mostly because a few really large spenders are skewing the scoring process"
   ]
  },
  {
   "cell_type": "markdown",
   "id": "92be6a0a",
   "metadata": {},
   "source": [
    "### Visualization"
   ]
  },
  {
   "cell_type": "markdown",
   "id": "ea2db2eb",
   "metadata": {},
   "source": []
  }
 ],
 "metadata": {
  "kernelspec": {
   "display_name": "Python 3.8.5 ('stellar')",
   "language": "python",
   "name": "python3"
  },
  "language_info": {
   "codemirror_mode": {
    "name": "ipython",
    "version": 3
   },
   "file_extension": ".py",
   "mimetype": "text/x-python",
   "name": "python",
   "nbconvert_exporter": "python",
   "pygments_lexer": "ipython3",
   "version": "3.8.5"
  },
  "vscode": {
   "interpreter": {
    "hash": "89f48dadab51a6b5b48ffc1a9e043c21cefe67453637c3444f3b86917b8aad16"
   }
  }
 },
 "nbformat": 4,
 "nbformat_minor": 5
}
