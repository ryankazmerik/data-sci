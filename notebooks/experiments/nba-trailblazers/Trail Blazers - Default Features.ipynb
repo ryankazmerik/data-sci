{
 "cells": [
  {
   "cell_type": "markdown",
   "id": "9575d83e",
   "metadata": {},
   "source": [
    "# Portland Trail Blazers - Feature Selection\n",
    "* StellarAlgo Data Science\n",
    "* Ryan Kazmerik & Nakisa Rad\n",
    "* October 8, 2021"
   ]
  },
  {
   "cell_type": "markdown",
   "id": "62d7c5a2",
   "metadata": {},
   "source": [
    "## Hypothesis\n",
    "Two very important components of a machine learning model are feature selection and feature engineering. Our idea is that adding some more features to the StellarAlgo retention model could improve performance of the model."
   ]
  },
  {
   "cell_type": "markdown",
   "id": "c46403a5",
   "metadata": {},
   "source": [
    "## Experiment\n",
    "This section details our experiment including querying data, data transformations, feature selection and modelling."
   ]
  },
  {
   "cell_type": "code",
   "execution_count": null,
   "id": "df2be620",
   "metadata": {},
   "outputs": [],
   "source": [
    "import getpass\n",
    "import pyodbc\n",
    "import pandas as pd\n",
    "import warnings\n",
    "\n",
    "from pycaret.classification import *\n",
    "from ngboost import NGBClassifier\n",
    "\n",
    "warnings.filterwarnings('ignore')"
   ]
  },
  {
   "cell_type": "markdown",
   "id": "5872346a",
   "metadata": {},
   "source": [
    "### Let's connect to MSSQL and run a stored proc to get our dataset:"
   ]
  },
  {
   "cell_type": "code",
   "execution_count": null,
   "id": "c060d5cf",
   "metadata": {},
   "outputs": [
    {
     "name": "stdin",
     "output_type": "stream",
     "text": [
      "Enter your password ··················\n"
     ]
    }
   ],
   "source": [
    "SERVER = '34.206.73.189' \n",
    "DATABASE = 'datascience' \n",
    "USERNAME = 'dsAdminWrite' \n",
    "PASSWORD = getpass.getpass(prompt='Enter your password')\n",
    "CNXN = pyodbc.connect('DRIVER={ODBC Driver 17 for SQL Server};SERVER='+SERVER+';DATABASE='+DATABASE+';UID='+USERNAME+';PWD='+ PASSWORD)"
   ]
  },
  {
   "cell_type": "code",
   "execution_count": null,
   "id": "b9615e8a",
   "metadata": {},
   "outputs": [],
   "source": [
    "lkupclientid = 5 # Portland Trail Blazers\n",
    "\n",
    "cursor = CNXN.cursor()\n",
    "\n",
    "storedProc = (\n",
    "    f\"\"\"Exec [stlrTrailBlazers].[ds].[getRetentionScoringModelData] {lkupclientid}\"\"\"\n",
    ")\n",
    "\n",
    "df = pd.read_sql(storedProc, CNXN)\n",
    "\n",
    "CNXN.commit()\n",
    "cursor.close()"
   ]
  },
  {
   "cell_type": "markdown",
   "id": "4b4e7b71",
   "metadata": {},
   "source": [
    "### Let's drop the features that have lots of null values, as these won't be useful to our model:"
   ]
  },
  {
   "cell_type": "code",
   "execution_count": null,
   "id": "6fbd8c9b",
   "metadata": {},
   "outputs": [],
   "source": [
    "df.drop([\n",
    "    'urbanicity', \n",
    "    'isnextyear_buyer', \n",
    "    'isnextyear_samepkg_buyer',\n",
    "    'pkgupgrade_status',\n",
    "    'auto_renewal'],\n",
    "    axis=1, \n",
    "    inplace=True\n",
    ")"
   ]
  },
  {
   "cell_type": "markdown",
   "id": "cbfa1a4e",
   "metadata": {},
   "source": [
    "### In order to compare two sets of features, we need to create some datasets for training and evalution:"
   ]
  },
  {
   "cell_type": "code",
   "execution_count": 5,
   "id": "82651c96",
   "metadata": {},
   "outputs": [
    {
     "name": "stdout",
     "output_type": "stream",
     "text": [
      "Data for Modeling: (9896, 13)\n",
      "Unseen Data For Predictions: (1100, 13)\n",
      "\n"
     ]
    }
   ],
   "source": [
    "# choose the features for the stellar base retention model\n",
    "features = [\n",
    "    \"dimCustomerMasterId\",\n",
    "    \"attendancePercent\",\n",
    "    \"distToVenue\",\n",
    "    \"isNextYear_Buyer\",\n",
    "    \"missed_games_1\",\n",
    "    \"missed_games_2\",\n",
    "    \"missed_games_over_2\",\n",
    "    \"productGrouping\",\n",
    "    \"recency\",\n",
    "    \"renewedBeforeDays\",\n",
    "    \"source_tenure\",\n",
    "    \"totalSpent\",\n",
    "    \"year\"\n",
    "]\n",
    "\n",
    "# select 90% of the data for training\n",
    "df_train = df.sample(frac=0.9, random_state=786).reset_index(drop=True)\n",
    "\n",
    "# create the eval datasets for A and B\n",
    "df_eval = df.drop(df_train.index).reset_index(drop=True)\n",
    "\n",
    "# choose features for each train dataset\n",
    "df_train = df_train[features]\n",
    "\n",
    "# choose features for each train dataset\n",
    "df_eval = df_eval[features]\n",
    "\n",
    "# print out the number of records for training and eval\n",
    "print('Data for Modeling: ' + str(df_train.shape))\n",
    "print('Unseen Data For Predictions: ' + str(df_eval.shape), end=\"\\n\\n\")"
   ]
  },
  {
   "cell_type": "markdown",
   "id": "9f34eb03-b49b-49e5-bce8-7caaa29c5dd7",
   "metadata": {},
   "source": [
    "## Now we can model the data using a binary classification prediction for the isnextyear_buyer field to see how likely a customer is to re-purchase."
   ]
  },
  {
   "cell_type": "code",
   "execution_count": null,
   "id": "3eabb279-56dd-4dbf-b7da-77bd2aa7cafa",
   "metadata": {},
   "outputs": [],
   "source": [
    "setup(\n",
    "    data= df_train, \n",
    "    target=\"isNextYear_Buyer\", \n",
    "    train_size = 0.80,\n",
    "    data_split_shuffle=True,\n",
    "    silent=True,\n",
    "    verbose=False,\n",
    "    ignore_features=[\"dimCustomerMasterId\",\"productGrouping\",\"year\"],\n",
    "    numeric_features=[\n",
    "        \"attendancePercent\",\n",
    "        \"distToVenue\",\n",
    "        \"missed_games_1\",\n",
    "        \"missed_games_2\",\n",
    "        \"missed_games_over_2\",\n",
    "        \"recency\",\n",
    "        \"renewedBeforeDays\",\n",
    "        \"source_tenure\",\n",
    "        \"totalSpent\"\n",
    "    ]\n",
    ");"
   ]
  },
  {
   "cell_type": "code",
   "execution_count": 7,
   "id": "05742a70-860c-477f-bea9-516a0a87c508",
   "metadata": {},
   "outputs": [
    {
     "data": {
      "text/html": [
       "<style  type=\"text/css\" >\n",
       "    #T_413a7_ th {\n",
       "          text-align: left;\n",
       "    }#T_413a7_row0_col0,#T_413a7_row0_col3,#T_413a7_row0_col4,#T_413a7_row0_col5,#T_413a7_row0_col6,#T_413a7_row0_col7,#T_413a7_row1_col0,#T_413a7_row1_col1,#T_413a7_row1_col2,#T_413a7_row1_col3,#T_413a7_row1_col4,#T_413a7_row1_col5,#T_413a7_row1_col6,#T_413a7_row1_col7,#T_413a7_row2_col0,#T_413a7_row2_col1,#T_413a7_row2_col2,#T_413a7_row2_col3,#T_413a7_row2_col4,#T_413a7_row2_col5,#T_413a7_row2_col6,#T_413a7_row2_col7,#T_413a7_row3_col0,#T_413a7_row3_col1,#T_413a7_row3_col2,#T_413a7_row3_col4,#T_413a7_row4_col0,#T_413a7_row4_col1,#T_413a7_row4_col2,#T_413a7_row4_col3,#T_413a7_row4_col5,#T_413a7_row4_col6,#T_413a7_row4_col7,#T_413a7_row5_col0,#T_413a7_row5_col1,#T_413a7_row5_col2,#T_413a7_row5_col3,#T_413a7_row5_col4,#T_413a7_row5_col5,#T_413a7_row5_col6,#T_413a7_row5_col7,#T_413a7_row6_col0,#T_413a7_row6_col1,#T_413a7_row6_col2,#T_413a7_row6_col3,#T_413a7_row6_col4,#T_413a7_row6_col5,#T_413a7_row6_col6,#T_413a7_row6_col7,#T_413a7_row7_col0,#T_413a7_row7_col1,#T_413a7_row7_col2,#T_413a7_row7_col3,#T_413a7_row7_col4,#T_413a7_row7_col5,#T_413a7_row7_col6,#T_413a7_row7_col7,#T_413a7_row8_col0,#T_413a7_row8_col1,#T_413a7_row8_col2,#T_413a7_row8_col3,#T_413a7_row8_col4,#T_413a7_row8_col5,#T_413a7_row8_col6,#T_413a7_row8_col7,#T_413a7_row9_col0,#T_413a7_row9_col1,#T_413a7_row9_col2,#T_413a7_row9_col3,#T_413a7_row9_col4,#T_413a7_row9_col5,#T_413a7_row9_col6,#T_413a7_row9_col7{\n",
       "            text-align:  left;\n",
       "            text-align:  left;\n",
       "        }#T_413a7_row0_col1,#T_413a7_row0_col2,#T_413a7_row3_col3,#T_413a7_row3_col5,#T_413a7_row3_col6,#T_413a7_row3_col7,#T_413a7_row4_col4{\n",
       "            text-align:  left;\n",
       "            text-align:  left;\n",
       "            background-color:  yellow;\n",
       "        }#T_413a7_row0_col8,#T_413a7_row1_col8,#T_413a7_row2_col8,#T_413a7_row3_col8,#T_413a7_row4_col8,#T_413a7_row5_col8,#T_413a7_row6_col8,#T_413a7_row7_col8,#T_413a7_row9_col8{\n",
       "            text-align:  left;\n",
       "            text-align:  left;\n",
       "            background-color:  lightgrey;\n",
       "        }#T_413a7_row8_col8{\n",
       "            text-align:  left;\n",
       "            text-align:  left;\n",
       "            background-color:  yellow;\n",
       "            background-color:  lightgrey;\n",
       "        }</style><table id=\"T_413a7_\" ><thead>    <tr>        <th class=\"blank level0\" ></th>        <th class=\"col_heading level0 col0\" >Model</th>        <th class=\"col_heading level0 col1\" >Accuracy</th>        <th class=\"col_heading level0 col2\" >AUC</th>        <th class=\"col_heading level0 col3\" >Recall</th>        <th class=\"col_heading level0 col4\" >Prec.</th>        <th class=\"col_heading level0 col5\" >F1</th>        <th class=\"col_heading level0 col6\" >Kappa</th>        <th class=\"col_heading level0 col7\" >MCC</th>        <th class=\"col_heading level0 col8\" >TT (Sec)</th>    </tr></thead><tbody>\n",
       "                <tr>\n",
       "                        <th id=\"T_413a7_level0_row0\" class=\"row_heading level0 row0\" >2</th>\n",
       "                        <td id=\"T_413a7_row0_col0\" class=\"data row0 col0\" >Gradient Boosting Classifier</td>\n",
       "                        <td id=\"T_413a7_row0_col1\" class=\"data row0 col1\" >0.8829</td>\n",
       "                        <td id=\"T_413a7_row0_col2\" class=\"data row0 col2\" >0.9436</td>\n",
       "                        <td id=\"T_413a7_row0_col3\" class=\"data row0 col3\" >0.9328</td>\n",
       "                        <td id=\"T_413a7_row0_col4\" class=\"data row0 col4\" >0.7696</td>\n",
       "                        <td id=\"T_413a7_row0_col5\" class=\"data row0 col5\" >0.8431</td>\n",
       "                        <td id=\"T_413a7_row0_col6\" class=\"data row0 col6\" >0.7511</td>\n",
       "                        <td id=\"T_413a7_row0_col7\" class=\"data row0 col7\" >0.7603</td>\n",
       "                        <td id=\"T_413a7_row0_col8\" class=\"data row0 col8\" >0.0740</td>\n",
       "            </tr>\n",
       "            <tr>\n",
       "                        <th id=\"T_413a7_level0_row1\" class=\"row_heading level0 row1\" >0</th>\n",
       "                        <td id=\"T_413a7_row1_col0\" class=\"data row1 col0\" >Ada Boost Classifier</td>\n",
       "                        <td id=\"T_413a7_row1_col1\" class=\"data row1 col1\" >0.8826</td>\n",
       "                        <td id=\"T_413a7_row1_col2\" class=\"data row1 col2\" >0.9415</td>\n",
       "                        <td id=\"T_413a7_row1_col3\" class=\"data row1 col3\" >0.9385</td>\n",
       "                        <td id=\"T_413a7_row1_col4\" class=\"data row1 col4\" >0.7664</td>\n",
       "                        <td id=\"T_413a7_row1_col5\" class=\"data row1 col5\" >0.8436</td>\n",
       "                        <td id=\"T_413a7_row1_col6\" class=\"data row1 col6\" >0.7513</td>\n",
       "                        <td id=\"T_413a7_row1_col7\" class=\"data row1 col7\" >0.7613</td>\n",
       "                        <td id=\"T_413a7_row1_col8\" class=\"data row1 col8\" >0.2490</td>\n",
       "            </tr>\n",
       "            <tr>\n",
       "                        <th id=\"T_413a7_level0_row2\" class=\"row_heading level0 row2\" >5</th>\n",
       "                        <td id=\"T_413a7_row2_col0\" class=\"data row2 col0\" >Light Gradient Boosting Machine</td>\n",
       "                        <td id=\"T_413a7_row2_col1\" class=\"data row2 col1\" >0.8825</td>\n",
       "                        <td id=\"T_413a7_row2_col2\" class=\"data row2 col2\" >0.9412</td>\n",
       "                        <td id=\"T_413a7_row2_col3\" class=\"data row2 col3\" >0.9111</td>\n",
       "                        <td id=\"T_413a7_row2_col4\" class=\"data row2 col4\" >0.7785</td>\n",
       "                        <td id=\"T_413a7_row2_col5\" class=\"data row2 col5\" >0.8394</td>\n",
       "                        <td id=\"T_413a7_row2_col6\" class=\"data row2 col6\" >0.7477</td>\n",
       "                        <td id=\"T_413a7_row2_col7\" class=\"data row2 col7\" >0.7537</td>\n",
       "                        <td id=\"T_413a7_row2_col8\" class=\"data row2 col8\" >0.0240</td>\n",
       "            </tr>\n",
       "            <tr>\n",
       "                        <th id=\"T_413a7_level0_row3\" class=\"row_heading level0 row3\" >8</th>\n",
       "                        <td id=\"T_413a7_row3_col0\" class=\"data row3 col0\" >NGBClassifier</td>\n",
       "                        <td id=\"T_413a7_row3_col1\" class=\"data row3 col1\" >0.8824</td>\n",
       "                        <td id=\"T_413a7_row3_col2\" class=\"data row3 col2\" >0.9417</td>\n",
       "                        <td id=\"T_413a7_row3_col3\" class=\"data row3 col3\" >0.9910</td>\n",
       "                        <td id=\"T_413a7_row3_col4\" class=\"data row3 col4\" >0.7450</td>\n",
       "                        <td id=\"T_413a7_row3_col5\" class=\"data row3 col5\" >0.8504</td>\n",
       "                        <td id=\"T_413a7_row3_col6\" class=\"data row3 col6\" >0.7567</td>\n",
       "                        <td id=\"T_413a7_row3_col7\" class=\"data row3 col7\" >0.7779</td>\n",
       "                        <td id=\"T_413a7_row3_col8\" class=\"data row3 col8\" >1.9680</td>\n",
       "            </tr>\n",
       "            <tr>\n",
       "                        <th id=\"T_413a7_level0_row4\" class=\"row_heading level0 row4\" >9</th>\n",
       "                        <td id=\"T_413a7_row4_col0\" class=\"data row4 col0\" >Extreme Gradient Boosting</td>\n",
       "                        <td id=\"T_413a7_row4_col1\" class=\"data row4 col1\" >0.8797</td>\n",
       "                        <td id=\"T_413a7_row4_col2\" class=\"data row4 col2\" >0.9395</td>\n",
       "                        <td id=\"T_413a7_row4_col3\" class=\"data row4 col3\" >0.8908</td>\n",
       "                        <td id=\"T_413a7_row4_col4\" class=\"data row4 col4\" >0.7827</td>\n",
       "                        <td id=\"T_413a7_row4_col5\" class=\"data row4 col5\" >0.8331</td>\n",
       "                        <td id=\"T_413a7_row4_col6\" class=\"data row4 col6\" >0.7398</td>\n",
       "                        <td id=\"T_413a7_row4_col7\" class=\"data row4 col7\" >0.7437</td>\n",
       "                        <td id=\"T_413a7_row4_col8\" class=\"data row4 col8\" >0.3540</td>\n",
       "            </tr>\n",
       "            <tr>\n",
       "                        <th id=\"T_413a7_level0_row5\" class=\"row_heading level0 row5\" >7</th>\n",
       "                        <td id=\"T_413a7_row5_col0\" class=\"data row5 col0\" >Random Forest Classifier</td>\n",
       "                        <td id=\"T_413a7_row5_col1\" class=\"data row5 col1\" >0.8662</td>\n",
       "                        <td id=\"T_413a7_row5_col2\" class=\"data row5 col2\" >0.9368</td>\n",
       "                        <td id=\"T_413a7_row5_col3\" class=\"data row5 col3\" >0.8511</td>\n",
       "                        <td id=\"T_413a7_row5_col4\" class=\"data row5 col4\" >0.7750</td>\n",
       "                        <td id=\"T_413a7_row5_col5\" class=\"data row5 col5\" >0.8109</td>\n",
       "                        <td id=\"T_413a7_row5_col6\" class=\"data row5 col6\" >0.7078</td>\n",
       "                        <td id=\"T_413a7_row5_col7\" class=\"data row5 col7\" >0.7100</td>\n",
       "                        <td id=\"T_413a7_row5_col8\" class=\"data row5 col8\" >0.1530</td>\n",
       "            </tr>\n",
       "            <tr>\n",
       "                        <th id=\"T_413a7_level0_row6\" class=\"row_heading level0 row6\" >3</th>\n",
       "                        <td id=\"T_413a7_row6_col0\" class=\"data row6 col0\" >Extra Trees Classifier</td>\n",
       "                        <td id=\"T_413a7_row6_col1\" class=\"data row6 col1\" >0.8590</td>\n",
       "                        <td id=\"T_413a7_row6_col2\" class=\"data row6 col2\" >0.9270</td>\n",
       "                        <td id=\"T_413a7_row6_col3\" class=\"data row6 col3\" >0.8245</td>\n",
       "                        <td id=\"T_413a7_row6_col4\" class=\"data row6 col4\" >0.7733</td>\n",
       "                        <td id=\"T_413a7_row6_col5\" class=\"data row6 col5\" >0.7977</td>\n",
       "                        <td id=\"T_413a7_row6_col6\" class=\"data row6 col6\" >0.6897</td>\n",
       "                        <td id=\"T_413a7_row6_col7\" class=\"data row6 col7\" >0.6910</td>\n",
       "                        <td id=\"T_413a7_row6_col8\" class=\"data row6 col8\" >0.1390</td>\n",
       "            </tr>\n",
       "            <tr>\n",
       "                        <th id=\"T_413a7_level0_row7\" class=\"row_heading level0 row7\" >4</th>\n",
       "                        <td id=\"T_413a7_row7_col0\" class=\"data row7 col0\" >K Neighbors Classifier</td>\n",
       "                        <td id=\"T_413a7_row7_col1\" class=\"data row7 col1\" >0.8487</td>\n",
       "                        <td id=\"T_413a7_row7_col2\" class=\"data row7 col2\" >0.9143</td>\n",
       "                        <td id=\"T_413a7_row7_col3\" class=\"data row7 col3\" >0.8488</td>\n",
       "                        <td id=\"T_413a7_row7_col4\" class=\"data row7 col4\" >0.7408</td>\n",
       "                        <td id=\"T_413a7_row7_col5\" class=\"data row7 col5\" >0.7908</td>\n",
       "                        <td id=\"T_413a7_row7_col6\" class=\"data row7 col6\" >0.6732</td>\n",
       "                        <td id=\"T_413a7_row7_col7\" class=\"data row7 col7\" >0.6774</td>\n",
       "                        <td id=\"T_413a7_row7_col8\" class=\"data row7 col8\" >0.0310</td>\n",
       "            </tr>\n",
       "            <tr>\n",
       "                        <th id=\"T_413a7_level0_row8\" class=\"row_heading level0 row8\" >1</th>\n",
       "                        <td id=\"T_413a7_row8_col0\" class=\"data row8 col0\" >Decision Tree Classifier</td>\n",
       "                        <td id=\"T_413a7_row8_col1\" class=\"data row8 col1\" >0.8407</td>\n",
       "                        <td id=\"T_413a7_row8_col2\" class=\"data row8 col2\" >0.8246</td>\n",
       "                        <td id=\"T_413a7_row8_col3\" class=\"data row8 col3\" >0.7562</td>\n",
       "                        <td id=\"T_413a7_row8_col4\" class=\"data row8 col4\" >0.7681</td>\n",
       "                        <td id=\"T_413a7_row8_col5\" class=\"data row8 col5\" >0.7619</td>\n",
       "                        <td id=\"T_413a7_row8_col6\" class=\"data row8 col6\" >0.6422</td>\n",
       "                        <td id=\"T_413a7_row8_col7\" class=\"data row8 col7\" >0.6425</td>\n",
       "                        <td id=\"T_413a7_row8_col8\" class=\"data row8 col8\" >0.0100</td>\n",
       "            </tr>\n",
       "            <tr>\n",
       "                        <th id=\"T_413a7_level0_row9\" class=\"row_heading level0 row9\" >6</th>\n",
       "                        <td id=\"T_413a7_row9_col0\" class=\"data row9 col0\" >Logistic Regression</td>\n",
       "                        <td id=\"T_413a7_row9_col1\" class=\"data row9 col1\" >0.8145</td>\n",
       "                        <td id=\"T_413a7_row9_col2\" class=\"data row9 col2\" >0.8748</td>\n",
       "                        <td id=\"T_413a7_row9_col3\" class=\"data row9 col3\" >0.8464</td>\n",
       "                        <td id=\"T_413a7_row9_col4\" class=\"data row9 col4\" >0.6326</td>\n",
       "                        <td id=\"T_413a7_row9_col5\" class=\"data row9 col5\" >0.7217</td>\n",
       "                        <td id=\"T_413a7_row9_col6\" class=\"data row9 col6\" >0.5908</td>\n",
       "                        <td id=\"T_413a7_row9_col7\" class=\"data row9 col7\" >0.6052</td>\n",
       "                        <td id=\"T_413a7_row9_col8\" class=\"data row9 col8\" >0.0250</td>\n",
       "            </tr>\n",
       "    </tbody></table>"
      ],
      "text/plain": [
       "<pandas.io.formats.style.Styler at 0x7fe6733b3b90>"
      ]
     },
     "metadata": {},
     "output_type": "display_data"
    }
   ],
   "source": [
    "# adding an extra classifier ngboost\n",
    "ngc = NGBClassifier()\n",
    "ngboost = create_model(ngc)\n",
    "\n",
    "model_matrix = compare_models(\n",
    "    fold=10,\n",
    "    include=[\"ada\",\"dt\",\"gbc\",\"et\",\"knn\",\"lightgbm\",\"lr\",\"rf\",ngboost,\"xgboost\"]\n",
    ")"
   ]
  },
  {
   "cell_type": "markdown",
   "id": "03df160e-ac51-4adb-a131-91201fdd8358",
   "metadata": {},
   "source": [
    "### The top model is performing well, so let's compare it against our unseen eval dataset:"
   ]
  },
  {
   "cell_type": "code",
   "execution_count": 8,
   "id": "9b4716b3-5a6b-4942-a32c-7ef3e9083509",
   "metadata": {},
   "outputs": [
    {
     "data": {
      "text/html": [
       "<style  type=\"text/css\" >\n",
       "#T_3bd7a_row10_col0,#T_3bd7a_row10_col1,#T_3bd7a_row10_col2,#T_3bd7a_row10_col3,#T_3bd7a_row10_col4,#T_3bd7a_row10_col5,#T_3bd7a_row10_col6{\n",
       "            background:  yellow;\n",
       "        }</style><table id=\"T_3bd7a_\" ><thead>    <tr>        <th class=\"blank level0\" ></th>        <th class=\"col_heading level0 col0\" >Accuracy</th>        <th class=\"col_heading level0 col1\" >AUC</th>        <th class=\"col_heading level0 col2\" >Recall</th>        <th class=\"col_heading level0 col3\" >Prec.</th>        <th class=\"col_heading level0 col4\" >F1</th>        <th class=\"col_heading level0 col5\" >Kappa</th>        <th class=\"col_heading level0 col6\" >MCC</th>    </tr></thead><tbody>\n",
       "                <tr>\n",
       "                        <th id=\"T_3bd7a_level0_row0\" class=\"row_heading level0 row0\" >0</th>\n",
       "                        <td id=\"T_3bd7a_row0_col0\" class=\"data row0 col0\" >0.9040</td>\n",
       "                        <td id=\"T_3bd7a_row0_col1\" class=\"data row0 col1\" >0.9541</td>\n",
       "                        <td id=\"T_3bd7a_row0_col2\" class=\"data row0 col2\" >0.9251</td>\n",
       "                        <td id=\"T_3bd7a_row0_col3\" class=\"data row0 col3\" >0.8152</td>\n",
       "                        <td id=\"T_3bd7a_row0_col4\" class=\"data row0 col4\" >0.8667</td>\n",
       "                        <td id=\"T_3bd7a_row0_col5\" class=\"data row0 col5\" >0.7922</td>\n",
       "                        <td id=\"T_3bd7a_row0_col6\" class=\"data row0 col6\" >0.7960</td>\n",
       "            </tr>\n",
       "            <tr>\n",
       "                        <th id=\"T_3bd7a_level0_row1\" class=\"row_heading level0 row1\" >1</th>\n",
       "                        <td id=\"T_3bd7a_row1_col0\" class=\"data row1 col0\" >0.8889</td>\n",
       "                        <td id=\"T_3bd7a_row1_col1\" class=\"data row1 col1\" >0.9527</td>\n",
       "                        <td id=\"T_3bd7a_row1_col2\" class=\"data row1 col2\" >0.9476</td>\n",
       "                        <td id=\"T_3bd7a_row1_col3\" class=\"data row1 col3\" >0.7737</td>\n",
       "                        <td id=\"T_3bd7a_row1_col4\" class=\"data row1 col4\" >0.8519</td>\n",
       "                        <td id=\"T_3bd7a_row1_col5\" class=\"data row1 col5\" >0.7644</td>\n",
       "                        <td id=\"T_3bd7a_row1_col6\" class=\"data row1 col6\" >0.7745</td>\n",
       "            </tr>\n",
       "            <tr>\n",
       "                        <th id=\"T_3bd7a_level0_row2\" class=\"row_heading level0 row2\" >2</th>\n",
       "                        <td id=\"T_3bd7a_row2_col0\" class=\"data row2 col0\" >0.8851</td>\n",
       "                        <td id=\"T_3bd7a_row2_col1\" class=\"data row2 col1\" >0.9492</td>\n",
       "                        <td id=\"T_3bd7a_row2_col2\" class=\"data row2 col2\" >0.9438</td>\n",
       "                        <td id=\"T_3bd7a_row2_col3\" class=\"data row2 col3\" >0.7683</td>\n",
       "                        <td id=\"T_3bd7a_row2_col4\" class=\"data row2 col4\" >0.8471</td>\n",
       "                        <td id=\"T_3bd7a_row2_col5\" class=\"data row2 col5\" >0.7566</td>\n",
       "                        <td id=\"T_3bd7a_row2_col6\" class=\"data row2 col6\" >0.7669</td>\n",
       "            </tr>\n",
       "            <tr>\n",
       "                        <th id=\"T_3bd7a_level0_row3\" class=\"row_heading level0 row3\" >3</th>\n",
       "                        <td id=\"T_3bd7a_row3_col0\" class=\"data row3 col0\" >0.8851</td>\n",
       "                        <td id=\"T_3bd7a_row3_col1\" class=\"data row3 col1\" >0.9446</td>\n",
       "                        <td id=\"T_3bd7a_row3_col2\" class=\"data row3 col2\" >0.9476</td>\n",
       "                        <td id=\"T_3bd7a_row3_col3\" class=\"data row3 col3\" >0.7667</td>\n",
       "                        <td id=\"T_3bd7a_row3_col4\" class=\"data row3 col4\" >0.8476</td>\n",
       "                        <td id=\"T_3bd7a_row3_col5\" class=\"data row3 col5\" >0.7570</td>\n",
       "                        <td id=\"T_3bd7a_row3_col6\" class=\"data row3 col6\" >0.7680</td>\n",
       "            </tr>\n",
       "            <tr>\n",
       "                        <th id=\"T_3bd7a_level0_row4\" class=\"row_heading level0 row4\" >4</th>\n",
       "                        <td id=\"T_3bd7a_row4_col0\" class=\"data row4 col0\" >0.8687</td>\n",
       "                        <td id=\"T_3bd7a_row4_col1\" class=\"data row4 col1\" >0.9422</td>\n",
       "                        <td id=\"T_3bd7a_row4_col2\" class=\"data row4 col2\" >0.9401</td>\n",
       "                        <td id=\"T_3bd7a_row4_col3\" class=\"data row4 col3\" >0.7404</td>\n",
       "                        <td id=\"T_3bd7a_row4_col4\" class=\"data row4 col4\" >0.8284</td>\n",
       "                        <td id=\"T_3bd7a_row4_col5\" class=\"data row4 col5\" >0.7245</td>\n",
       "                        <td id=\"T_3bd7a_row4_col6\" class=\"data row4 col6\" >0.7380</td>\n",
       "            </tr>\n",
       "            <tr>\n",
       "                        <th id=\"T_3bd7a_level0_row5\" class=\"row_heading level0 row5\" >5</th>\n",
       "                        <td id=\"T_3bd7a_row5_col0\" class=\"data row5 col0\" >0.8864</td>\n",
       "                        <td id=\"T_3bd7a_row5_col1\" class=\"data row5 col1\" >0.9361</td>\n",
       "                        <td id=\"T_3bd7a_row5_col2\" class=\"data row5 col2\" >0.9251</td>\n",
       "                        <td id=\"T_3bd7a_row5_col3\" class=\"data row5 col3\" >0.7792</td>\n",
       "                        <td id=\"T_3bd7a_row5_col4\" class=\"data row5 col4\" >0.8459</td>\n",
       "                        <td id=\"T_3bd7a_row5_col5\" class=\"data row5 col5\" >0.7569</td>\n",
       "                        <td id=\"T_3bd7a_row5_col6\" class=\"data row5 col6\" >0.7639</td>\n",
       "            </tr>\n",
       "            <tr>\n",
       "                        <th id=\"T_3bd7a_level0_row6\" class=\"row_heading level0 row6\" >6</th>\n",
       "                        <td id=\"T_3bd7a_row6_col0\" class=\"data row6 col0\" >0.8951</td>\n",
       "                        <td id=\"T_3bd7a_row6_col1\" class=\"data row6 col1\" >0.9588</td>\n",
       "                        <td id=\"T_3bd7a_row6_col2\" class=\"data row6 col2\" >0.9211</td>\n",
       "                        <td id=\"T_3bd7a_row6_col3\" class=\"data row6 col3\" >0.7980</td>\n",
       "                        <td id=\"T_3bd7a_row6_col4\" class=\"data row6 col4\" >0.8551</td>\n",
       "                        <td id=\"T_3bd7a_row6_col5\" class=\"data row6 col5\" >0.7735</td>\n",
       "                        <td id=\"T_3bd7a_row6_col6\" class=\"data row6 col6\" >0.7784</td>\n",
       "            </tr>\n",
       "            <tr>\n",
       "                        <th id=\"T_3bd7a_level0_row7\" class=\"row_heading level0 row7\" >7</th>\n",
       "                        <td id=\"T_3bd7a_row7_col0\" class=\"data row7 col0\" >0.8812</td>\n",
       "                        <td id=\"T_3bd7a_row7_col1\" class=\"data row7 col1\" >0.9401</td>\n",
       "                        <td id=\"T_3bd7a_row7_col2\" class=\"data row7 col2\" >0.9398</td>\n",
       "                        <td id=\"T_3bd7a_row7_col3\" class=\"data row7 col3\" >0.7622</td>\n",
       "                        <td id=\"T_3bd7a_row7_col4\" class=\"data row7 col4\" >0.8418</td>\n",
       "                        <td id=\"T_3bd7a_row7_col5\" class=\"data row7 col5\" >0.7483</td>\n",
       "                        <td id=\"T_3bd7a_row7_col6\" class=\"data row7 col6\" >0.7588</td>\n",
       "            </tr>\n",
       "            <tr>\n",
       "                        <th id=\"T_3bd7a_level0_row8\" class=\"row_heading level0 row8\" >8</th>\n",
       "                        <td id=\"T_3bd7a_row8_col0\" class=\"data row8 col0\" >0.8774</td>\n",
       "                        <td id=\"T_3bd7a_row8_col1\" class=\"data row8 col1\" >0.9399</td>\n",
       "                        <td id=\"T_3bd7a_row8_col2\" class=\"data row8 col2\" >0.9135</td>\n",
       "                        <td id=\"T_3bd7a_row8_col3\" class=\"data row8 col3\" >0.7666</td>\n",
       "                        <td id=\"T_3bd7a_row8_col4\" class=\"data row8 col4\" >0.8336</td>\n",
       "                        <td id=\"T_3bd7a_row8_col5\" class=\"data row8 col5\" >0.7377</td>\n",
       "                        <td id=\"T_3bd7a_row8_col6\" class=\"data row8 col6\" >0.7448</td>\n",
       "            </tr>\n",
       "            <tr>\n",
       "                        <th id=\"T_3bd7a_level0_row9\" class=\"row_heading level0 row9\" >9</th>\n",
       "                        <td id=\"T_3bd7a_row9_col0\" class=\"data row9 col0\" >0.8571</td>\n",
       "                        <td id=\"T_3bd7a_row9_col1\" class=\"data row9 col1\" >0.9186</td>\n",
       "                        <td id=\"T_3bd7a_row9_col2\" class=\"data row9 col2\" >0.9248</td>\n",
       "                        <td id=\"T_3bd7a_row9_col3\" class=\"data row9 col3\" >0.7257</td>\n",
       "                        <td id=\"T_3bd7a_row9_col4\" class=\"data row9 col4\" >0.8132</td>\n",
       "                        <td id=\"T_3bd7a_row9_col5\" class=\"data row9 col5\" >0.7003</td>\n",
       "                        <td id=\"T_3bd7a_row9_col6\" class=\"data row9 col6\" >0.7138</td>\n",
       "            </tr>\n",
       "            <tr>\n",
       "                        <th id=\"T_3bd7a_level0_row10\" class=\"row_heading level0 row10\" >Mean</th>\n",
       "                        <td id=\"T_3bd7a_row10_col0\" class=\"data row10 col0\" >0.8829</td>\n",
       "                        <td id=\"T_3bd7a_row10_col1\" class=\"data row10 col1\" >0.9436</td>\n",
       "                        <td id=\"T_3bd7a_row10_col2\" class=\"data row10 col2\" >0.9328</td>\n",
       "                        <td id=\"T_3bd7a_row10_col3\" class=\"data row10 col3\" >0.7696</td>\n",
       "                        <td id=\"T_3bd7a_row10_col4\" class=\"data row10 col4\" >0.8431</td>\n",
       "                        <td id=\"T_3bd7a_row10_col5\" class=\"data row10 col5\" >0.7511</td>\n",
       "                        <td id=\"T_3bd7a_row10_col6\" class=\"data row10 col6\" >0.7603</td>\n",
       "            </tr>\n",
       "            <tr>\n",
       "                        <th id=\"T_3bd7a_level0_row11\" class=\"row_heading level0 row11\" >SD</th>\n",
       "                        <td id=\"T_3bd7a_row11_col0\" class=\"data row11 col0\" >0.0125</td>\n",
       "                        <td id=\"T_3bd7a_row11_col1\" class=\"data row11 col1\" >0.0108</td>\n",
       "                        <td id=\"T_3bd7a_row11_col2\" class=\"data row11 col2\" >0.0116</td>\n",
       "                        <td id=\"T_3bd7a_row11_col3\" class=\"data row11 col3\" >0.0242</td>\n",
       "                        <td id=\"T_3bd7a_row11_col4\" class=\"data row11 col4\" >0.0142</td>\n",
       "                        <td id=\"T_3bd7a_row11_col5\" class=\"data row11 col5\" >0.0244</td>\n",
       "                        <td id=\"T_3bd7a_row11_col6\" class=\"data row11 col6\" >0.0220</td>\n",
       "            </tr>\n",
       "    </tbody></table>"
      ],
      "text/plain": [
       "<pandas.io.formats.style.Styler at 0x7fe672db9250>"
      ]
     },
     "metadata": {},
     "output_type": "display_data"
    }
   ],
   "source": [
    "best_model = create_model(model_matrix)\n",
    "\n",
    "unseen_predictions = predict_model(best_model, data=df_eval)"
   ]
  },
  {
   "cell_type": "code",
   "execution_count": 9,
   "id": "7e22aece-548d-49e8-a88c-c276cecd27f6",
   "metadata": {},
   "outputs": [
    {
     "data": {
      "image/png": "[encoded data removed]",
      "text/plain": [
       "<Figure size 800x500 with 1 Axes>"
      ]
     },
     "metadata": {},
     "output_type": "display_data"
    }
   ],
   "source": [
    "plot_model(best_model, plot='feature')"
   ]
  },
  {
   "cell_type": "code",
   "execution_count": null,
   "id": "92d355a2-c3e5-4084-8a4c-86b2778273b2",
   "metadata": {},
   "outputs": [],
   "source": [
    "plot_model(best_model, plot='confusion_matrix')"
   ]
  },
  {
   "cell_type": "markdown",
   "id": "f403c988",
   "metadata": {},
   "source": [
    "## Results"
   ]
  },
  {
   "cell_type": "markdown",
   "id": "22e76df0",
   "metadata": {},
   "source": [
    "## Observations\n",
    "Here you can document some ideas on the results from above"
   ]
  },
  {
   "cell_type": "markdown",
   "id": "abda0dfd",
   "metadata": {},
   "source": [
    "## Conclusions\n",
    "Here you can talk about next steps, did the experiment work? If yes, what to do next? If no, why?"
   ]
  }
 ],
 "metadata": {
  "kernelspec": {
   "display_name": "Python 3 (ipykernel)",
   "language": "python",
   "name": "python3"
  },
  "language_info": {
   "codemirror_mode": {
    "name": "ipython",
    "version": 3
   },
   "file_extension": ".py",
   "mimetype": "text/x-python",
   "name": "python",
   "nbconvert_exporter": "python",
   "pygments_lexer": "ipython3",
   "version": "3.7.10"
  }
 },
 "nbformat": 4,
 "nbformat_minor": 5
}
