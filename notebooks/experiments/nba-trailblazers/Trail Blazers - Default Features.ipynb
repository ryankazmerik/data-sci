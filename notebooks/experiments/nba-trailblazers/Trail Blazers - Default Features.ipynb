{
 "cells": [
  {
   "cell_type": "markdown",
   "id": "9575d83e",
   "metadata": {},
   "source": [
    "# Portland Trail Blazers - Feature Selection\n",
    "* StellarAlgo Data Science\n",
    "* Ryan Kazmerik & Nakisa Rad\n",
    "* Nov 27, 2021"
   ]
  },
  {
   "cell_type": "markdown",
   "id": "62d7c5a2",
   "metadata": {},
   "source": [
    "## Hypothesis\n",
    "Two very important components of a machine learning model are feature selection and feature engineering. Our idea is that adding some more features to the StellarAlgo retention model could improve performance of the model. This notebook will test the standard StellarAlgo retention model features."
   ]
  },
  {
   "cell_type": "markdown",
   "id": "c46403a5",
   "metadata": {},
   "source": [
    "## Experiment\n",
    "This section details our experiment including querying data, data transformations, feature selection and modelling."
   ]
  },
  {
   "cell_type": "code",
   "execution_count": 1,
   "id": "df2be620",
   "metadata": {},
   "outputs": [],
   "source": [
    "import getpass\n",
    "import pyodbc\n",
    "import pandas as pd\n",
    "import warnings\n",
    "\n",
    "from pycaret.classification import *\n",
    "from ngboost import NGBClassifier\n",
    "\n",
    "warnings.filterwarnings('ignore')"
   ]
  },
  {
   "cell_type": "markdown",
   "id": "5872346a",
   "metadata": {},
   "source": [
    "### Let's connect to MSSQL and run a stored proc to get our dataset:"
   ]
  },
  {
   "cell_type": "code",
   "execution_count": 2,
   "id": "c060d5cf",
   "metadata": {},
   "outputs": [
    {
     "name": "stdin",
     "output_type": "stream",
     "text": [
      "Enter your password ··················\n"
     ]
    }
   ],
   "source": [
    "SERVER = '34.206.73.189' \n",
    "DATABASE = 'datascience' \n",
    "USERNAME = 'dsAdminWrite' \n",
    "PASSWORD = getpass.getpass(prompt='Enter your password')\n",
    "CNXN = pyodbc.connect('DRIVER={ODBC Driver 17 for SQL Server};SERVER='+SERVER+';DATABASE='+DATABASE+';UID='+USERNAME+';PWD='+ PASSWORD)"
   ]
  },
  {
   "cell_type": "code",
   "execution_count": 15,
   "id": "b9615e8a",
   "metadata": {},
   "outputs": [],
   "source": [
    "lkupclientid = 5 # Portland Trail Blazers\n",
    "\n",
    "cursor = CNXN.cursor()\n",
    "\n",
    "storedProc = (\n",
    "    f\"\"\"Exec [stlrTrailBlazers].[ds].[getRetentionScoringModelData] {lkupclientid}\"\"\"\n",
    ")\n",
    "\n",
    "df = pd.read_sql(storedProc, CNXN)\n",
    "\n",
    "CNXN.commit()\n",
    "cursor.close()"
   ]
  },
  {
   "cell_type": "code",
   "execution_count": 16,
   "id": "95f37a6e-1fc4-4086-af61-102708e201df",
   "metadata": {},
   "outputs": [
    {
     "name": "stdout",
     "output_type": "stream",
     "text": [
      "<class 'pandas.core.frame.DataFrame'>\n",
      "RangeIndex: 11118 entries, 0 to 11117\n",
      "Data columns (total 55 columns):\n",
      " #   Column                    Non-Null Count  Dtype  \n",
      "---  ------                    --------------  -----  \n",
      " 0   lkupClientId              11118 non-null  int64  \n",
      " 1   dimCustomerMasterId       11118 non-null  int64  \n",
      " 2   customerNumber            11118 non-null  object \n",
      " 3   year                      11118 non-null  object \n",
      " 4   productGrouping           11118 non-null  object \n",
      " 5   totalSpent                11118 non-null  float64\n",
      " 6   recentDate                11118 non-null  object \n",
      " 7   attendancePercent         11118 non-null  float64\n",
      " 8   renewedBeforeDays         11118 non-null  int64  \n",
      " 9   isBuyer                   11118 non-null  object \n",
      " 10  source_tenure             11118 non-null  int64  \n",
      " 11  tenure                    11118 non-null  int64  \n",
      " 12  distToVenue               11118 non-null  float64\n",
      " 13  totalGames                11118 non-null  int64  \n",
      " 14  recency                   11118 non-null  int64  \n",
      " 15  missed_games_1            11118 non-null  int64  \n",
      " 16  missed_games_2            11118 non-null  int64  \n",
      " 17  missed_games_over_2       11118 non-null  int64  \n",
      " 18  click_link                11118 non-null  int64  \n",
      " 19  fill_out_form             11118 non-null  int64  \n",
      " 20  open_email                11118 non-null  int64  \n",
      " 21  send_email                11118 non-null  int64  \n",
      " 22  unsubscribe_email         11118 non-null  int64  \n",
      " 23  openToSendRatio           11118 non-null  float64\n",
      " 24  clickToSendRatio          11118 non-null  float64\n",
      " 25  clickToOpenRatio          11118 non-null  float64\n",
      " 26  posting_records           11118 non-null  int64  \n",
      " 27  resale_records            11118 non-null  int64  \n",
      " 28  resale_atp                11118 non-null  float64\n",
      " 29  forward_records           11118 non-null  int64  \n",
      " 30  cancel_records            11118 non-null  int64  \n",
      " 31  email                     11118 non-null  int64  \n",
      " 32  inbound_email             11118 non-null  int64  \n",
      " 33  inbound_phonecall         11118 non-null  int64  \n",
      " 34  inperson_contact          11118 non-null  int64  \n",
      " 35  internal_note             11118 non-null  int64  \n",
      " 36  left_message              11118 non-null  int64  \n",
      " 37  outbound_email            11118 non-null  int64  \n",
      " 38  outbound_phonecall        11118 non-null  int64  \n",
      " 39  phonecall                 11118 non-null  int64  \n",
      " 40  text                      11118 non-null  int64  \n",
      " 41  unknown                   11118 non-null  int64  \n",
      " 42  gender                    11118 non-null  object \n",
      " 43  childrenPresentInHH       11118 non-null  int64  \n",
      " 44  maritalStatus             11118 non-null  int64  \n",
      " 45  lengthOfResidenceInYrs    11118 non-null  float64\n",
      " 46  annualHHIncome            11118 non-null  object \n",
      " 47  education                 11118 non-null  object \n",
      " 48  urbanicity                0 non-null      object \n",
      " 49  isnextyear_buyer          0 non-null      object \n",
      " 50  isnextyear_samepkg_buyer  0 non-null      object \n",
      " 51  pkgupgrade_status         0 non-null      object \n",
      " 52  auto_renewal              0 non-null      object \n",
      " 53  credits_after_refund      11118 non-null  float64\n",
      " 54  isNextYear_Buyer          11118 non-null  int64  \n",
      "dtypes: float64(9), int64(33), object(13)\n",
      "memory usage: 4.7+ MB\n"
     ]
    }
   ],
   "source": [
    "df.info()"
   ]
  },
  {
   "cell_type": "markdown",
   "id": "cbfa1a4e",
   "metadata": {},
   "source": [
    "### In order to compare two sets of features, we need to create some datasets for training and evalution:"
   ]
  },
  {
   "cell_type": "code",
   "execution_count": 19,
   "id": "82651c96",
   "metadata": {},
   "outputs": [
    {
     "name": "stdout",
     "output_type": "stream",
     "text": [
      "Data for Modeling: (8894, 13)\n",
      "Unseen Data For Predictions: (2224, 13)\n",
      "\n"
     ]
    }
   ],
   "source": [
    "# choose the features for the stellar base retention model\n",
    "features = [\n",
    "    \"dimCustomerMasterId\",\n",
    "    \"attendancePercent\",\n",
    "    \"distToVenue\",\n",
    "    \"isNextYear_Buyer\",\n",
    "    \"missed_games_1\",\n",
    "    \"missed_games_2\",\n",
    "    \"missed_games_over_2\",\n",
    "    \"productGrouping\",\n",
    "    \"recency\",\n",
    "    \"renewedBeforeDays\",\n",
    "    \"source_tenure\",\n",
    "    \"totalSpent\",\n",
    "    \"year\"\n",
    "]\n",
    "\n",
    "# select 90% of the data for training\n",
    "df_train = df.sample(frac=0.8, random_state=786).reset_index(drop=True)\n",
    "\n",
    "# create the eval datasets for A and B\n",
    "df_eval = df.drop(df_train.index).reset_index(drop=True)\n",
    "\n",
    "# choose features for each train dataset\n",
    "df_train = df_train[features]\n",
    "\n",
    "# choose features for each train dataset\n",
    "df_eval = df_eval[features]\n",
    "\n",
    "# print out the number of records for training and eval\n",
    "print('Data for Modeling: ' + str(df_train.shape))\n",
    "print('Unseen Data For Predictions: ' + str(df_eval.shape), end=\"\\n\\n\")"
   ]
  },
  {
   "cell_type": "markdown",
   "id": "9f34eb03-b49b-49e5-bce8-7caaa29c5dd7",
   "metadata": {},
   "source": [
    "## Now we can model the data using a binary classification prediction for the isnextyear_buyer field to see how likely a customer is to re-purchase."
   ]
  },
  {
   "cell_type": "code",
   "execution_count": 20,
   "id": "3eabb279-56dd-4dbf-b7da-77bd2aa7cafa",
   "metadata": {},
   "outputs": [],
   "source": [
    "setup(\n",
    "    data= df_train, \n",
    "    target=\"isNextYear_Buyer\", \n",
    "    train_size = 0.80,\n",
    "    data_split_shuffle=True,\n",
    "    silent=True,\n",
    "    verbose=False,\n",
    "    ignore_features=[\"dimCustomerMasterId\",\"productGrouping\",\"year\"],\n",
    "    numeric_features=[\n",
    "        \"attendancePercent\",\n",
    "        \"distToVenue\",\n",
    "        \"missed_games_1\",\n",
    "        \"missed_games_2\",\n",
    "        \"missed_games_over_2\",\n",
    "        \"recency\",\n",
    "        \"renewedBeforeDays\",\n",
    "        \"source_tenure\",\n",
    "        \"totalSpent\"\n",
    "    ]\n",
    ");"
   ]
  },
  {
   "cell_type": "code",
   "execution_count": 21,
   "id": "05742a70-860c-477f-bea9-516a0a87c508",
   "metadata": {},
   "outputs": [
    {
     "data": {
      "text/html": [
       "<style  type=\"text/css\" >\n",
       "    #T_f587f_ th {\n",
       "          text-align: left;\n",
       "    }#T_f587f_row0_col0,#T_f587f_row0_col2,#T_f587f_row0_col3,#T_f587f_row0_col4,#T_f587f_row0_col5,#T_f587f_row0_col6,#T_f587f_row0_col7,#T_f587f_row1_col0,#T_f587f_row1_col1,#T_f587f_row1_col2,#T_f587f_row1_col3,#T_f587f_row1_col5,#T_f587f_row1_col6,#T_f587f_row1_col7,#T_f587f_row2_col0,#T_f587f_row2_col1,#T_f587f_row2_col3,#T_f587f_row2_col4,#T_f587f_row2_col5,#T_f587f_row2_col6,#T_f587f_row2_col7,#T_f587f_row3_col0,#T_f587f_row3_col1,#T_f587f_row3_col2,#T_f587f_row3_col3,#T_f587f_row3_col4,#T_f587f_row3_col5,#T_f587f_row3_col6,#T_f587f_row3_col7,#T_f587f_row4_col0,#T_f587f_row4_col1,#T_f587f_row4_col2,#T_f587f_row4_col4,#T_f587f_row5_col0,#T_f587f_row5_col1,#T_f587f_row5_col2,#T_f587f_row5_col3,#T_f587f_row5_col4,#T_f587f_row5_col5,#T_f587f_row5_col6,#T_f587f_row5_col7,#T_f587f_row6_col0,#T_f587f_row6_col1,#T_f587f_row6_col2,#T_f587f_row6_col3,#T_f587f_row6_col4,#T_f587f_row6_col5,#T_f587f_row6_col6,#T_f587f_row6_col7,#T_f587f_row7_col0,#T_f587f_row7_col1,#T_f587f_row7_col2,#T_f587f_row7_col3,#T_f587f_row7_col4,#T_f587f_row7_col5,#T_f587f_row7_col6,#T_f587f_row7_col7,#T_f587f_row8_col0,#T_f587f_row8_col1,#T_f587f_row8_col2,#T_f587f_row8_col3,#T_f587f_row8_col4,#T_f587f_row8_col5,#T_f587f_row8_col6,#T_f587f_row8_col7,#T_f587f_row9_col0,#T_f587f_row9_col1,#T_f587f_row9_col2,#T_f587f_row9_col3,#T_f587f_row9_col4,#T_f587f_row9_col5,#T_f587f_row9_col6,#T_f587f_row9_col7{\n",
       "            text-align:  left;\n",
       "            text-align:  left;\n",
       "        }#T_f587f_row0_col1,#T_f587f_row1_col4,#T_f587f_row2_col2,#T_f587f_row4_col3,#T_f587f_row4_col5,#T_f587f_row4_col6,#T_f587f_row4_col7{\n",
       "            text-align:  left;\n",
       "            text-align:  left;\n",
       "            background-color:  yellow;\n",
       "        }#T_f587f_row0_col8,#T_f587f_row1_col8,#T_f587f_row2_col8,#T_f587f_row3_col8,#T_f587f_row4_col8,#T_f587f_row5_col8,#T_f587f_row6_col8,#T_f587f_row7_col8,#T_f587f_row9_col8{\n",
       "            text-align:  left;\n",
       "            text-align:  left;\n",
       "            background-color:  lightgrey;\n",
       "        }#T_f587f_row8_col8{\n",
       "            text-align:  left;\n",
       "            text-align:  left;\n",
       "            background-color:  yellow;\n",
       "            background-color:  lightgrey;\n",
       "        }</style><table id=\"T_f587f_\" ><thead>    <tr>        <th class=\"blank level0\" ></th>        <th class=\"col_heading level0 col0\" >Model</th>        <th class=\"col_heading level0 col1\" >Accuracy</th>        <th class=\"col_heading level0 col2\" >AUC</th>        <th class=\"col_heading level0 col3\" >Recall</th>        <th class=\"col_heading level0 col4\" >Prec.</th>        <th class=\"col_heading level0 col5\" >F1</th>        <th class=\"col_heading level0 col6\" >Kappa</th>        <th class=\"col_heading level0 col7\" >MCC</th>        <th class=\"col_heading level0 col8\" >TT (Sec)</th>    </tr></thead><tbody>\n",
       "                <tr>\n",
       "                        <th id=\"T_f587f_level0_row0\" class=\"row_heading level0 row0\" >5</th>\n",
       "                        <td id=\"T_f587f_row0_col0\" class=\"data row0 col0\" >Light Gradient Boosting Machine</td>\n",
       "                        <td id=\"T_f587f_row0_col1\" class=\"data row0 col1\" >0.8825</td>\n",
       "                        <td id=\"T_f587f_row0_col2\" class=\"data row0 col2\" >0.9385</td>\n",
       "                        <td id=\"T_f587f_row0_col3\" class=\"data row0 col3\" >0.9043</td>\n",
       "                        <td id=\"T_f587f_row0_col4\" class=\"data row0 col4\" >0.7720</td>\n",
       "                        <td id=\"T_f587f_row0_col5\" class=\"data row0 col5\" >0.8327</td>\n",
       "                        <td id=\"T_f587f_row0_col6\" class=\"data row0 col6\" >0.7430</td>\n",
       "                        <td id=\"T_f587f_row0_col7\" class=\"data row0 col7\" >0.7489</td>\n",
       "                        <td id=\"T_f587f_row0_col8\" class=\"data row0 col8\" >0.0270</td>\n",
       "            </tr>\n",
       "            <tr>\n",
       "                        <th id=\"T_f587f_level0_row1\" class=\"row_heading level0 row1\" >9</th>\n",
       "                        <td id=\"T_f587f_row1_col0\" class=\"data row1 col0\" >Extreme Gradient Boosting</td>\n",
       "                        <td id=\"T_f587f_row1_col1\" class=\"data row1 col1\" >0.8822</td>\n",
       "                        <td id=\"T_f587f_row1_col2\" class=\"data row1 col2\" >0.9374</td>\n",
       "                        <td id=\"T_f587f_row1_col3\" class=\"data row1 col3\" >0.8960</td>\n",
       "                        <td id=\"T_f587f_row1_col4\" class=\"data row1 col4\" >0.7757</td>\n",
       "                        <td id=\"T_f587f_row1_col5\" class=\"data row1 col5\" >0.8311</td>\n",
       "                        <td id=\"T_f587f_row1_col6\" class=\"data row1 col6\" >0.7415</td>\n",
       "                        <td id=\"T_f587f_row1_col7\" class=\"data row1 col7\" >0.7465</td>\n",
       "                        <td id=\"T_f587f_row1_col8\" class=\"data row1 col8\" >1.2700</td>\n",
       "            </tr>\n",
       "            <tr>\n",
       "                        <th id=\"T_f587f_level0_row2\" class=\"row_heading level0 row2\" >2</th>\n",
       "                        <td id=\"T_f587f_row2_col0\" class=\"data row2 col0\" >Gradient Boosting Classifier</td>\n",
       "                        <td id=\"T_f587f_row2_col1\" class=\"data row2 col1\" >0.8817</td>\n",
       "                        <td id=\"T_f587f_row2_col2\" class=\"data row2 col2\" >0.9416</td>\n",
       "                        <td id=\"T_f587f_row2_col3\" class=\"data row2 col3\" >0.9078</td>\n",
       "                        <td id=\"T_f587f_row2_col4\" class=\"data row2 col4\" >0.7689</td>\n",
       "                        <td id=\"T_f587f_row2_col5\" class=\"data row2 col5\" >0.8322</td>\n",
       "                        <td id=\"T_f587f_row2_col6\" class=\"data row2 col6\" >0.7418</td>\n",
       "                        <td id=\"T_f587f_row2_col7\" class=\"data row2 col7\" >0.7484</td>\n",
       "                        <td id=\"T_f587f_row2_col8\" class=\"data row2 col8\" >0.0770</td>\n",
       "            </tr>\n",
       "            <tr>\n",
       "                        <th id=\"T_f587f_level0_row3\" class=\"row_heading level0 row3\" >0</th>\n",
       "                        <td id=\"T_f587f_row3_col0\" class=\"data row3 col0\" >Ada Boost Classifier</td>\n",
       "                        <td id=\"T_f587f_row3_col1\" class=\"data row3 col1\" >0.8790</td>\n",
       "                        <td id=\"T_f587f_row3_col2\" class=\"data row3 col2\" >0.9382</td>\n",
       "                        <td id=\"T_f587f_row3_col3\" class=\"data row3 col3\" >0.9213</td>\n",
       "                        <td id=\"T_f587f_row3_col4\" class=\"data row3 col4\" >0.7580</td>\n",
       "                        <td id=\"T_f587f_row3_col5\" class=\"data row3 col5\" >0.8309</td>\n",
       "                        <td id=\"T_f587f_row3_col6\" class=\"data row3 col6\" >0.7381</td>\n",
       "                        <td id=\"T_f587f_row3_col7\" class=\"data row3 col7\" >0.7477</td>\n",
       "                        <td id=\"T_f587f_row3_col8\" class=\"data row3 col8\" >0.2150</td>\n",
       "            </tr>\n",
       "            <tr>\n",
       "                        <th id=\"T_f587f_level0_row4\" class=\"row_heading level0 row4\" >8</th>\n",
       "                        <td id=\"T_f587f_row4_col0\" class=\"data row4 col0\" >NGBClassifier</td>\n",
       "                        <td id=\"T_f587f_row4_col1\" class=\"data row4 col1\" >0.8787</td>\n",
       "                        <td id=\"T_f587f_row4_col2\" class=\"data row4 col2\" >0.9389</td>\n",
       "                        <td id=\"T_f587f_row4_col3\" class=\"data row4 col3\" >0.9804</td>\n",
       "                        <td id=\"T_f587f_row4_col4\" class=\"data row4 col4\" >0.7341</td>\n",
       "                        <td id=\"T_f587f_row4_col5\" class=\"data row4 col5\" >0.8394</td>\n",
       "                        <td id=\"T_f587f_row4_col6\" class=\"data row4 col6\" >0.7452</td>\n",
       "                        <td id=\"T_f587f_row4_col7\" class=\"data row4 col7\" >0.7655</td>\n",
       "                        <td id=\"T_f587f_row4_col8\" class=\"data row4 col8\" >1.8050</td>\n",
       "            </tr>\n",
       "            <tr>\n",
       "                        <th id=\"T_f587f_level0_row5\" class=\"row_heading level0 row5\" >7</th>\n",
       "                        <td id=\"T_f587f_row5_col0\" class=\"data row5 col0\" >Random Forest Classifier</td>\n",
       "                        <td id=\"T_f587f_row5_col1\" class=\"data row5 col1\" >0.8729</td>\n",
       "                        <td id=\"T_f587f_row5_col2\" class=\"data row5 col2\" >0.9367</td>\n",
       "                        <td id=\"T_f587f_row5_col3\" class=\"data row5 col3\" >0.8551</td>\n",
       "                        <td id=\"T_f587f_row5_col4\" class=\"data row5 col4\" >0.7755</td>\n",
       "                        <td id=\"T_f587f_row5_col5\" class=\"data row5 col5\" >0.8131</td>\n",
       "                        <td id=\"T_f587f_row5_col6\" class=\"data row5 col6\" >0.7172</td>\n",
       "                        <td id=\"T_f587f_row5_col7\" class=\"data row5 col7\" >0.7195</td>\n",
       "                        <td id=\"T_f587f_row5_col8\" class=\"data row5 col8\" >0.1570</td>\n",
       "            </tr>\n",
       "            <tr>\n",
       "                        <th id=\"T_f587f_level0_row6\" class=\"row_heading level0 row6\" >3</th>\n",
       "                        <td id=\"T_f587f_row6_col0\" class=\"data row6 col0\" >Extra Trees Classifier</td>\n",
       "                        <td id=\"T_f587f_row6_col1\" class=\"data row6 col1\" >0.8630</td>\n",
       "                        <td id=\"T_f587f_row6_col2\" class=\"data row6 col2\" >0.9290</td>\n",
       "                        <td id=\"T_f587f_row6_col3\" class=\"data row6 col3\" >0.8225</td>\n",
       "                        <td id=\"T_f587f_row6_col4\" class=\"data row6 col4\" >0.7698</td>\n",
       "                        <td id=\"T_f587f_row6_col5\" class=\"data row6 col5\" >0.7950</td>\n",
       "                        <td id=\"T_f587f_row6_col6\" class=\"data row6 col6\" >0.6923</td>\n",
       "                        <td id=\"T_f587f_row6_col7\" class=\"data row6 col7\" >0.6935</td>\n",
       "                        <td id=\"T_f587f_row6_col8\" class=\"data row6 col8\" >0.1480</td>\n",
       "            </tr>\n",
       "            <tr>\n",
       "                        <th id=\"T_f587f_level0_row7\" class=\"row_heading level0 row7\" >4</th>\n",
       "                        <td id=\"T_f587f_row7_col0\" class=\"data row7 col0\" >K Neighbors Classifier</td>\n",
       "                        <td id=\"T_f587f_row7_col1\" class=\"data row7 col1\" >0.8530</td>\n",
       "                        <td id=\"T_f587f_row7_col2\" class=\"data row7 col2\" >0.9140</td>\n",
       "                        <td id=\"T_f587f_row7_col3\" class=\"data row7 col3\" >0.8499</td>\n",
       "                        <td id=\"T_f587f_row7_col4\" class=\"data row7 col4\" >0.7363</td>\n",
       "                        <td id=\"T_f587f_row7_col5\" class=\"data row7 col5\" >0.7888</td>\n",
       "                        <td id=\"T_f587f_row7_col6\" class=\"data row7 col6\" >0.6770</td>\n",
       "                        <td id=\"T_f587f_row7_col7\" class=\"data row7 col7\" >0.6814</td>\n",
       "                        <td id=\"T_f587f_row7_col8\" class=\"data row7 col8\" >0.0310</td>\n",
       "            </tr>\n",
       "            <tr>\n",
       "                        <th id=\"T_f587f_level0_row8\" class=\"row_heading level0 row8\" >1</th>\n",
       "                        <td id=\"T_f587f_row8_col0\" class=\"data row8 col0\" >Decision Tree Classifier</td>\n",
       "                        <td id=\"T_f587f_row8_col1\" class=\"data row8 col1\" >0.8395</td>\n",
       "                        <td id=\"T_f587f_row8_col2\" class=\"data row8 col2\" >0.8189</td>\n",
       "                        <td id=\"T_f587f_row8_col3\" class=\"data row8 col3\" >0.7386</td>\n",
       "                        <td id=\"T_f587f_row8_col4\" class=\"data row8 col4\" >0.7590</td>\n",
       "                        <td id=\"T_f587f_row8_col5\" class=\"data row8 col5\" >0.7482</td>\n",
       "                        <td id=\"T_f587f_row8_col6\" class=\"data row8 col6\" >0.6305</td>\n",
       "                        <td id=\"T_f587f_row8_col7\" class=\"data row8 col7\" >0.6310</td>\n",
       "                        <td id=\"T_f587f_row8_col8\" class=\"data row8 col8\" >0.0130</td>\n",
       "            </tr>\n",
       "            <tr>\n",
       "                        <th id=\"T_f587f_level0_row9\" class=\"row_heading level0 row9\" >6</th>\n",
       "                        <td id=\"T_f587f_row9_col0\" class=\"data row9 col0\" >Logistic Regression</td>\n",
       "                        <td id=\"T_f587f_row9_col1\" class=\"data row9 col1\" >0.6045</td>\n",
       "                        <td id=\"T_f587f_row9_col2\" class=\"data row9 col2\" >0.7409</td>\n",
       "                        <td id=\"T_f587f_row9_col3\" class=\"data row9 col3\" >0.0148</td>\n",
       "                        <td id=\"T_f587f_row9_col4\" class=\"data row9 col4\" >0.0647</td>\n",
       "                        <td id=\"T_f587f_row9_col5\" class=\"data row9 col5\" >0.0239</td>\n",
       "                        <td id=\"T_f587f_row9_col6\" class=\"data row9 col6\" >-0.1229</td>\n",
       "                        <td id=\"T_f587f_row9_col7\" class=\"data row9 col7\" >-0.1671</td>\n",
       "                        <td id=\"T_f587f_row9_col8\" class=\"data row9 col8\" >0.0160</td>\n",
       "            </tr>\n",
       "    </tbody></table>"
      ],
      "text/plain": [
       "<pandas.io.formats.style.Styler at 0x7fc2dbb72290>"
      ]
     },
     "metadata": {},
     "output_type": "display_data"
    }
   ],
   "source": [
    "# adding an extra classifier ngboost\n",
    "ngc = NGBClassifier()\n",
    "ngboost = create_model(ngc)\n",
    "\n",
    "model_matrix = compare_models(\n",
    "    fold=10,\n",
    "    include=[\"ada\",\"dt\",\"gbc\",\"et\",\"knn\",\"lightgbm\",\"lr\",\"rf\",ngboost,\"xgboost\"]\n",
    ")"
   ]
  },
  {
   "cell_type": "markdown",
   "id": "03df160e-ac51-4adb-a131-91201fdd8358",
   "metadata": {},
   "source": [
    "### The top model is performing well, so let's compare it against our unseen eval dataset:"
   ]
  },
  {
   "cell_type": "code",
   "execution_count": 22,
   "id": "9b4716b3-5a6b-4942-a32c-7ef3e9083509",
   "metadata": {},
   "outputs": [
    {
     "data": {
      "text/html": [
       "<style  type=\"text/css\" >\n",
       "#T_6c5c2_row10_col0,#T_6c5c2_row10_col1,#T_6c5c2_row10_col2,#T_6c5c2_row10_col3,#T_6c5c2_row10_col4,#T_6c5c2_row10_col5,#T_6c5c2_row10_col6{\n",
       "            background:  yellow;\n",
       "        }</style><table id=\"T_6c5c2_\" ><thead>    <tr>        <th class=\"blank level0\" ></th>        <th class=\"col_heading level0 col0\" >Accuracy</th>        <th class=\"col_heading level0 col1\" >AUC</th>        <th class=\"col_heading level0 col2\" >Recall</th>        <th class=\"col_heading level0 col3\" >Prec.</th>        <th class=\"col_heading level0 col4\" >F1</th>        <th class=\"col_heading level0 col5\" >Kappa</th>        <th class=\"col_heading level0 col6\" >MCC</th>    </tr></thead><tbody>\n",
       "                <tr>\n",
       "                        <th id=\"T_6c5c2_level0_row0\" class=\"row_heading level0 row0\" >0</th>\n",
       "                        <td id=\"T_6c5c2_row0_col0\" class=\"data row0 col0\" >0.8975</td>\n",
       "                        <td id=\"T_6c5c2_row0_col1\" class=\"data row0 col1\" >0.9498</td>\n",
       "                        <td id=\"T_6c5c2_row0_col2\" class=\"data row0 col2\" >0.9000</td>\n",
       "                        <td id=\"T_6c5c2_row0_col3\" class=\"data row0 col3\" >0.8054</td>\n",
       "                        <td id=\"T_6c5c2_row0_col4\" class=\"data row0 col4\" >0.8501</td>\n",
       "                        <td id=\"T_6c5c2_row0_col5\" class=\"data row0 col5\" >0.7726</td>\n",
       "                        <td id=\"T_6c5c2_row0_col6\" class=\"data row0 col6\" >0.7753</td>\n",
       "            </tr>\n",
       "            <tr>\n",
       "                        <th id=\"T_6c5c2_level0_row1\" class=\"row_heading level0 row1\" >1</th>\n",
       "                        <td id=\"T_6c5c2_row1_col0\" class=\"data row1 col0\" >0.8736</td>\n",
       "                        <td id=\"T_6c5c2_row1_col1\" class=\"data row1 col1\" >0.9339</td>\n",
       "                        <td id=\"T_6c5c2_row1_col2\" class=\"data row1 col2\" >0.9043</td>\n",
       "                        <td id=\"T_6c5c2_row1_col3\" class=\"data row1 col3\" >0.7536</td>\n",
       "                        <td id=\"T_6c5c2_row1_col4\" class=\"data row1 col4\" >0.8221</td>\n",
       "                        <td id=\"T_6c5c2_row1_col5\" class=\"data row1 col5\" >0.7253</td>\n",
       "                        <td id=\"T_6c5c2_row1_col6\" class=\"data row1 col6\" >0.7326</td>\n",
       "            </tr>\n",
       "            <tr>\n",
       "                        <th id=\"T_6c5c2_level0_row2\" class=\"row_heading level0 row2\" >2</th>\n",
       "                        <td id=\"T_6c5c2_row2_col0\" class=\"data row2 col0\" >0.8890</td>\n",
       "                        <td id=\"T_6c5c2_row2_col1\" class=\"data row2 col1\" >0.9388</td>\n",
       "                        <td id=\"T_6c5c2_row2_col2\" class=\"data row2 col2\" >0.9217</td>\n",
       "                        <td id=\"T_6c5c2_row2_col3\" class=\"data row2 col3\" >0.7766</td>\n",
       "                        <td id=\"T_6c5c2_row2_col4\" class=\"data row2 col4\" >0.8429</td>\n",
       "                        <td id=\"T_6c5c2_row2_col5\" class=\"data row2 col5\" >0.7581</td>\n",
       "                        <td id=\"T_6c5c2_row2_col6\" class=\"data row2 col6\" >0.7648</td>\n",
       "            </tr>\n",
       "            <tr>\n",
       "                        <th id=\"T_6c5c2_level0_row3\" class=\"row_heading level0 row3\" >3</th>\n",
       "                        <td id=\"T_6c5c2_row3_col0\" class=\"data row3 col0\" >0.8708</td>\n",
       "                        <td id=\"T_6c5c2_row3_col1\" class=\"data row3 col1\" >0.9287</td>\n",
       "                        <td id=\"T_6c5c2_row3_col2\" class=\"data row3 col2\" >0.8913</td>\n",
       "                        <td id=\"T_6c5c2_row3_col3\" class=\"data row3 col3\" >0.7537</td>\n",
       "                        <td id=\"T_6c5c2_row3_col4\" class=\"data row3 col4\" >0.8167</td>\n",
       "                        <td id=\"T_6c5c2_row3_col5\" class=\"data row3 col5\" >0.7180</td>\n",
       "                        <td id=\"T_6c5c2_row3_col6\" class=\"data row3 col6\" >0.7240</td>\n",
       "            </tr>\n",
       "            <tr>\n",
       "                        <th id=\"T_6c5c2_level0_row4\" class=\"row_heading level0 row4\" >4</th>\n",
       "                        <td id=\"T_6c5c2_row4_col0\" class=\"data row4 col0\" >0.8722</td>\n",
       "                        <td id=\"T_6c5c2_row4_col1\" class=\"data row4 col1\" >0.9396</td>\n",
       "                        <td id=\"T_6c5c2_row4_col2\" class=\"data row4 col2\" >0.8957</td>\n",
       "                        <td id=\"T_6c5c2_row4_col3\" class=\"data row4 col3\" >0.7546</td>\n",
       "                        <td id=\"T_6c5c2_row4_col4\" class=\"data row4 col4\" >0.8191</td>\n",
       "                        <td id=\"T_6c5c2_row4_col5\" class=\"data row4 col5\" >0.7214</td>\n",
       "                        <td id=\"T_6c5c2_row4_col6\" class=\"data row4 col6\" >0.7277</td>\n",
       "            </tr>\n",
       "            <tr>\n",
       "                        <th id=\"T_6c5c2_level0_row5\" class=\"row_heading level0 row5\" >5</th>\n",
       "                        <td id=\"T_6c5c2_row5_col0\" class=\"data row5 col0\" >0.8889</td>\n",
       "                        <td id=\"T_6c5c2_row5_col1\" class=\"data row5 col1\" >0.9326</td>\n",
       "                        <td id=\"T_6c5c2_row5_col2\" class=\"data row5 col2\" >0.9217</td>\n",
       "                        <td id=\"T_6c5c2_row5_col3\" class=\"data row5 col3\" >0.7766</td>\n",
       "                        <td id=\"T_6c5c2_row5_col4\" class=\"data row5 col4\" >0.8429</td>\n",
       "                        <td id=\"T_6c5c2_row5_col5\" class=\"data row5 col5\" >0.7579</td>\n",
       "                        <td id=\"T_6c5c2_row5_col6\" class=\"data row5 col6\" >0.7646</td>\n",
       "            </tr>\n",
       "            <tr>\n",
       "                        <th id=\"T_6c5c2_level0_row6\" class=\"row_heading level0 row6\" >6</th>\n",
       "                        <td id=\"T_6c5c2_row6_col0\" class=\"data row6 col0\" >0.8903</td>\n",
       "                        <td id=\"T_6c5c2_row6_col1\" class=\"data row6 col1\" >0.9401</td>\n",
       "                        <td id=\"T_6c5c2_row6_col2\" class=\"data row6 col2\" >0.9522</td>\n",
       "                        <td id=\"T_6c5c2_row6_col3\" class=\"data row6 col3\" >0.7657</td>\n",
       "                        <td id=\"T_6c5c2_row6_col4\" class=\"data row6 col4\" >0.8488</td>\n",
       "                        <td id=\"T_6c5c2_row6_col5\" class=\"data row6 col5\" >0.7643</td>\n",
       "                        <td id=\"T_6c5c2_row6_col6\" class=\"data row6 col6\" >0.7755</td>\n",
       "            </tr>\n",
       "            <tr>\n",
       "                        <th id=\"T_6c5c2_level0_row7\" class=\"row_heading level0 row7\" >7</th>\n",
       "                        <td id=\"T_6c5c2_row7_col0\" class=\"data row7 col0\" >0.8945</td>\n",
       "                        <td id=\"T_6c5c2_row7_col1\" class=\"data row7 col1\" >0.9435</td>\n",
       "                        <td id=\"T_6c5c2_row7_col2\" class=\"data row7 col2\" >0.9043</td>\n",
       "                        <td id=\"T_6c5c2_row7_col3\" class=\"data row7 col3\" >0.7969</td>\n",
       "                        <td id=\"T_6c5c2_row7_col4\" class=\"data row7 col4\" >0.8473</td>\n",
       "                        <td id=\"T_6c5c2_row7_col5\" class=\"data row7 col5\" >0.7672</td>\n",
       "                        <td id=\"T_6c5c2_row7_col6\" class=\"data row7 col6\" >0.7708</td>\n",
       "            </tr>\n",
       "            <tr>\n",
       "                        <th id=\"T_6c5c2_level0_row8\" class=\"row_heading level0 row8\" >8</th>\n",
       "                        <td id=\"T_6c5c2_row8_col0\" class=\"data row8 col0\" >0.8889</td>\n",
       "                        <td id=\"T_6c5c2_row8_col1\" class=\"data row8 col1\" >0.9443</td>\n",
       "                        <td id=\"T_6c5c2_row8_col2\" class=\"data row8 col2\" >0.8739</td>\n",
       "                        <td id=\"T_6c5c2_row8_col3\" class=\"data row8 col3\" >0.8008</td>\n",
       "                        <td id=\"T_6c5c2_row8_col4\" class=\"data row8 col4\" >0.8358</td>\n",
       "                        <td id=\"T_6c5c2_row8_col5\" class=\"data row8 col5\" >0.7520</td>\n",
       "                        <td id=\"T_6c5c2_row8_col6\" class=\"data row8 col6\" >0.7537</td>\n",
       "            </tr>\n",
       "            <tr>\n",
       "                        <th id=\"T_6c5c2_level0_row9\" class=\"row_heading level0 row9\" >9</th>\n",
       "                        <td id=\"T_6c5c2_row9_col0\" class=\"data row9 col0\" >0.8594</td>\n",
       "                        <td id=\"T_6c5c2_row9_col1\" class=\"data row9 col1\" >0.9337</td>\n",
       "                        <td id=\"T_6c5c2_row9_col2\" class=\"data row9 col2\" >0.8777</td>\n",
       "                        <td id=\"T_6c5c2_row9_col3\" class=\"data row9 col3\" >0.7363</td>\n",
       "                        <td id=\"T_6c5c2_row9_col4\" class=\"data row9 col4\" >0.8008</td>\n",
       "                        <td id=\"T_6c5c2_row9_col5\" class=\"data row9 col5\" >0.6934</td>\n",
       "                        <td id=\"T_6c5c2_row9_col6\" class=\"data row9 col6\" >0.6998</td>\n",
       "            </tr>\n",
       "            <tr>\n",
       "                        <th id=\"T_6c5c2_level0_row10\" class=\"row_heading level0 row10\" >Mean</th>\n",
       "                        <td id=\"T_6c5c2_row10_col0\" class=\"data row10 col0\" >0.8825</td>\n",
       "                        <td id=\"T_6c5c2_row10_col1\" class=\"data row10 col1\" >0.9385</td>\n",
       "                        <td id=\"T_6c5c2_row10_col2\" class=\"data row10 col2\" >0.9043</td>\n",
       "                        <td id=\"T_6c5c2_row10_col3\" class=\"data row10 col3\" >0.7720</td>\n",
       "                        <td id=\"T_6c5c2_row10_col4\" class=\"data row10 col4\" >0.8327</td>\n",
       "                        <td id=\"T_6c5c2_row10_col5\" class=\"data row10 col5\" >0.7430</td>\n",
       "                        <td id=\"T_6c5c2_row10_col6\" class=\"data row10 col6\" >0.7489</td>\n",
       "            </tr>\n",
       "            <tr>\n",
       "                        <th id=\"T_6c5c2_level0_row11\" class=\"row_heading level0 row11\" >SD</th>\n",
       "                        <td id=\"T_6c5c2_row11_col0\" class=\"data row11 col0\" >0.0119</td>\n",
       "                        <td id=\"T_6c5c2_row11_col1\" class=\"data row11 col1\" >0.0060</td>\n",
       "                        <td id=\"T_6c5c2_row11_col2\" class=\"data row11 col2\" >0.0219</td>\n",
       "                        <td id=\"T_6c5c2_row11_col3\" class=\"data row11 col3\" >0.0221</td>\n",
       "                        <td id=\"T_6c5c2_row11_col4\" class=\"data row11 col4\" >0.0160</td>\n",
       "                        <td id=\"T_6c5c2_row11_col5\" class=\"data row11 col5\" >0.0251</td>\n",
       "                        <td id=\"T_6c5c2_row11_col6\" class=\"data row11 col6\" >0.0248</td>\n",
       "            </tr>\n",
       "    </tbody></table>"
      ],
      "text/plain": [
       "<pandas.io.formats.style.Styler at 0x7fc2dc6f2710>"
      ]
     },
     "metadata": {},
     "output_type": "display_data"
    }
   ],
   "source": [
    "best_model = create_model(model_matrix)\n",
    "\n",
    "unseen_predictions = predict_model(best_model, data=df_eval)"
   ]
  },
  {
   "cell_type": "code",
   "execution_count": 23,
   "id": "7e22aece-548d-49e8-a88c-c276cecd27f6",
   "metadata": {},
   "outputs": [
    {
     "data": {
      "image/png": "[encoded data removed]",
      "text/plain": [
       "<Figure size 800x500 with 1 Axes>"
      ]
     },
     "metadata": {},
     "output_type": "display_data"
    }
   ],
   "source": [
    "plot_model(best_model, plot='feature')"
   ]
  },
  {
   "cell_type": "code",
   "execution_count": 25,
   "id": "92d355a2-c3e5-4084-8a4c-86b2778273b2",
   "metadata": {},
   "outputs": [
    {
     "data": {
      "image/png": "[encoded data removed]",
      "text/plain": [
       "<Figure size 576x396 with 1 Axes>"
      ]
     },
     "metadata": {},
     "output_type": "display_data"
    }
   ],
   "source": [
    "plot_model(best_model, plot='confusion_matrix')"
   ]
  },
  {
   "cell_type": "markdown",
   "id": "22e76df0",
   "metadata": {},
   "source": [
    "## Observations\n",
    "* Compared to the extended PTB feature list, the standard StellarAlgo features lost accuracy from 0.9098 to 0.8825\n",
    "* Distance to venue and total spent register as important features on both models.\n",
    "* The standard feature model was better at predicting buyers who will buy."
   ]
  },
  {
   "cell_type": "markdown",
   "id": "abda0dfd",
   "metadata": {},
   "source": [
    "## Conclusions\n",
    "Here you can talk about next steps, did the experiment work? If yes, what to do next? If no, why?"
   ]
  }
 ],
 "metadata": {
  "kernelspec": {
   "display_name": "Python 3 (ipykernel)",
   "language": "python",
   "name": "python3"
  },
  "language_info": {
   "codemirror_mode": {
    "name": "ipython",
    "version": 3
   },
   "file_extension": ".py",
   "mimetype": "text/x-python",
   "name": "python",
   "nbconvert_exporter": "python",
   "pygments_lexer": "ipython3",
   "version": "3.7.10"
  }
 },
 "nbformat": 4,
 "nbformat_minor": 5
}
