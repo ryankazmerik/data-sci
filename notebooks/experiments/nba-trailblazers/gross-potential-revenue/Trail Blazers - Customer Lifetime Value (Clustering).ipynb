{
 "cells": [
  {
   "cell_type": "markdown",
   "id": "61037526-75ba-4674-a31e-d5e2e805f26b",
   "metadata": {},
   "source": [
    "# Portland Trail Blazers - Customer Lifetime Value (Clustering)\n",
    "* StelllarAlgo Data Science\n",
    "* Ryan Kazmerik\n",
    "* Jul 15, 2022"
   ]
  },
  {
   "cell_type": "code",
   "execution_count": 1,
   "id": "573b8578-5434-4dae-9311-eb051fb342f2",
   "metadata": {},
   "outputs": [],
   "source": [
    "import matplotlib.pyplot as plt\n",
    "import numpy as np \n",
    "import pandas as pd\n",
    "\n",
    "#from pandas_profiling import ProfileReport"
   ]
  },
  {
   "cell_type": "markdown",
   "id": "5dab8fed",
   "metadata": {},
   "source": [
    "## Data Wrangling\n",
    "\n",
    "For our experiment, we need two datasets:\n",
    "1. Fans who have bought tickets to a Trail Blazers game. We can get this from our Trail Blazers StellarAlgo tables.\n",
    "2. Fans who have engaged with the Trail Blazers via streaming, or gaming data. This we can get from our dataset provided by the NBA."
   ]
  },
  {
   "cell_type": "markdown",
   "id": "726e120d",
   "metadata": {},
   "source": [
    "### PTB Ticketing Dataset"
   ]
  },
  {
   "cell_type": "code",
   "execution_count": 2,
   "id": "5cf07a70-9e64-48e6-9108-79795ca445b8",
   "metadata": {},
   "outputs": [
    {
     "name": "stdout",
     "output_type": "stream",
     "text": [
      "<class 'pandas.core.frame.DataFrame'>\n",
      "RangeIndex: 1975722 entries, 0 to 1975721\n",
      "Data columns (total 12 columns):\n",
      " #   Column                 Dtype  \n",
      "---  ------                 -----  \n",
      " 0   dimcustomermasterid    int64  \n",
      " 1   purchasedate           object \n",
      " 2   ticketcount            int64  \n",
      " 3   revenue                float64\n",
      " 4   isplanproduct          bool   \n",
      " 5   producttype            object \n",
      " 6   subproductname         object \n",
      " 7   seasonyear             int64  \n",
      " 8   dimcustomermasterid.1  int64  \n",
      " 9   county                 object \n",
      " 10  stateprovince          object \n",
      " 11  zippostal              object \n",
      "dtypes: bool(1), float64(1), int64(4), object(6)\n",
      "memory usage: 167.7+ MB\n"
     ]
    }
   ],
   "source": [
    "\"\"\"\n",
    "    data/ptb_cohort_purchase.csv contains data from the following query:\n",
    "\n",
    "    SELECT p.dimcustomermasterid, p.purchasedate, p.ticketcount, p.revenue, p.isplanproduct, p.producttype, p.subproductname, p.seasonyear,\n",
    "       c.dimcustomermasterid, c.county, c.stateprovince, c.zippostal \n",
    "    FROM \"ptb_cohort_purchase\"  p \n",
    "    INNER JOIN \"ptb_dim_customer_master\" c\n",
    "    ON p.dimcustomermasterid = c.dimcustomermasterid\n",
    "\"\"\"\n",
    "\n",
    "df = pd.read_csv(\"./data/ptb_cohort_purchase.csv\")\n",
    "df.info()"
   ]
  },
  {
   "cell_type": "code",
   "execution_count": 3,
   "id": "7a1e3978",
   "metadata": {},
   "outputs": [
    {
     "data": {
      "text/html": [
       "<div>\n",
       "<style scoped>\n",
       "    .dataframe tbody tr th:only-of-type {\n",
       "        vertical-align: middle;\n",
       "    }\n",
       "\n",
       "    .dataframe tbody tr th {\n",
       "        vertical-align: top;\n",
       "    }\n",
       "\n",
       "    .dataframe thead th {\n",
       "        text-align: right;\n",
       "    }\n",
       "</style>\n",
       "<table border=\"1\" class=\"dataframe\">\n",
       "  <thead>\n",
       "    <tr style=\"text-align: right;\">\n",
       "      <th></th>\n",
       "      <th>dimcustomermasterid</th>\n",
       "      <th>purchasedate</th>\n",
       "      <th>ticketcount</th>\n",
       "      <th>revenue</th>\n",
       "      <th>isplanproduct</th>\n",
       "      <th>producttype</th>\n",
       "      <th>subproductname</th>\n",
       "      <th>seasonyear</th>\n",
       "      <th>dimcustomermasterid.1</th>\n",
       "      <th>county</th>\n",
       "      <th>stateprovince</th>\n",
       "      <th>zippostal</th>\n",
       "    </tr>\n",
       "  </thead>\n",
       "  <tbody>\n",
       "    <tr>\n",
       "      <th>0</th>\n",
       "      <td>608002</td>\n",
       "      <td>2018-05-08</td>\n",
       "      <td>2</td>\n",
       "      <td>124.00</td>\n",
       "      <td>True</td>\n",
       "      <td>Package</td>\n",
       "      <td>Quarter Season</td>\n",
       "      <td>2018</td>\n",
       "      <td>608002</td>\n",
       "      <td>Washington</td>\n",
       "      <td>OR</td>\n",
       "      <td>97223</td>\n",
       "    </tr>\n",
       "    <tr>\n",
       "      <th>1</th>\n",
       "      <td>608002</td>\n",
       "      <td>2019-05-21</td>\n",
       "      <td>2</td>\n",
       "      <td>136.00</td>\n",
       "      <td>True</td>\n",
       "      <td>Package</td>\n",
       "      <td>Quarter Season</td>\n",
       "      <td>2019</td>\n",
       "      <td>608002</td>\n",
       "      <td>Washington</td>\n",
       "      <td>OR</td>\n",
       "      <td>97223</td>\n",
       "    </tr>\n",
       "    <tr>\n",
       "      <th>2</th>\n",
       "      <td>608067</td>\n",
       "      <td>2019-03-18</td>\n",
       "      <td>4</td>\n",
       "      <td>252.00</td>\n",
       "      <td>False</td>\n",
       "      <td>Individual</td>\n",
       "      <td>Individual</td>\n",
       "      <td>2018</td>\n",
       "      <td>608067</td>\n",
       "      <td>Lane</td>\n",
       "      <td>OR</td>\n",
       "      <td>97477</td>\n",
       "    </tr>\n",
       "    <tr>\n",
       "      <th>3</th>\n",
       "      <td>563826</td>\n",
       "      <td>2018-02-28</td>\n",
       "      <td>2</td>\n",
       "      <td>111.72</td>\n",
       "      <td>True</td>\n",
       "      <td>Package</td>\n",
       "      <td>Full Season</td>\n",
       "      <td>2018</td>\n",
       "      <td>563826</td>\n",
       "      <td>Multnomah</td>\n",
       "      <td>OR</td>\n",
       "      <td>97219-7281</td>\n",
       "    </tr>\n",
       "    <tr>\n",
       "      <th>4</th>\n",
       "      <td>563826</td>\n",
       "      <td>2018-02-28</td>\n",
       "      <td>2</td>\n",
       "      <td>111.72</td>\n",
       "      <td>True</td>\n",
       "      <td>Package</td>\n",
       "      <td>Full Season</td>\n",
       "      <td>2018</td>\n",
       "      <td>563826</td>\n",
       "      <td>Multnomah</td>\n",
       "      <td>OR</td>\n",
       "      <td>97219-7281</td>\n",
       "    </tr>\n",
       "  </tbody>\n",
       "</table>\n",
       "</div>"
      ],
      "text/plain": [
       "   dimcustomermasterid purchasedate  ticketcount  revenue  isplanproduct  \\\n",
       "0               608002   2018-05-08            2   124.00           True   \n",
       "1               608002   2019-05-21            2   136.00           True   \n",
       "2               608067   2019-03-18            4   252.00          False   \n",
       "3               563826   2018-02-28            2   111.72           True   \n",
       "4               563826   2018-02-28            2   111.72           True   \n",
       "\n",
       "  producttype  subproductname  seasonyear  dimcustomermasterid.1      county  \\\n",
       "0     Package  Quarter Season        2018                 608002  Washington   \n",
       "1     Package  Quarter Season        2019                 608002  Washington   \n",
       "2  Individual      Individual        2018                 608067        Lane   \n",
       "3     Package     Full Season        2018                 563826   Multnomah   \n",
       "4     Package     Full Season        2018                 563826   Multnomah   \n",
       "\n",
       "  stateprovince   zippostal  \n",
       "0            OR       97223  \n",
       "1            OR       97223  \n",
       "2            OR       97477  \n",
       "3            OR  97219-7281  \n",
       "4            OR  97219-7281  "
      ]
     },
     "execution_count": 3,
     "metadata": {},
     "output_type": "execute_result"
    }
   ],
   "source": [
    "df.head()"
   ]
  },
  {
   "cell_type": "markdown",
   "id": "d25bb5f5",
   "metadata": {},
   "source": [
    "### PTB Engagement Dataset"
   ]
  },
  {
   "cell_type": "code",
   "execution_count": 4,
   "id": "36992be0",
   "metadata": {},
   "outputs": [
    {
     "name": "stdout",
     "output_type": "stream",
     "text": [
      "<class 'pandas.core.frame.DataFrame'>\n",
      "RangeIndex: 1671077 entries, 0 to 1671076\n",
      "Data columns (total 2 columns):\n",
      " #   Column               Non-Null Count    Dtype \n",
      "---  ------               --------------    ----- \n",
      " 0   dimcustomermasterid  1671077 non-null  int64 \n",
      " 1   entity_source        402626 non-null   object\n",
      "dtypes: int64(1), object(1)\n",
      "memory usage: 25.5+ MB\n"
     ]
    }
   ],
   "source": [
    "\"\"\"\n",
    "  data/ptb_nba_engagement.parquet contains data from the following query:\n",
    "\n",
    "  SELECT dimcustomermasterid, entity_source\n",
    "  FROM \"league-nba-poc\".\"tagged_customer_master\";\n",
    "\"\"\"\n",
    "\n",
    "df2 = pd.read_csv(\"./data/ptb_nba_engagement.csv\")\n",
    "df2.info()"
   ]
  },
  {
   "cell_type": "markdown",
   "id": "d98242dd",
   "metadata": {},
   "source": [
    "## Data Preprocessing"
   ]
  },
  {
   "cell_type": "markdown",
   "id": "ea0f7929",
   "metadata": {},
   "source": [
    "For our analysis we will only consider **non-package buyers**, let's see how much data we have for NP buyers and what sub-products are included:"
   ]
  },
  {
   "cell_type": "code",
   "execution_count": 5,
   "id": "2caadb5a",
   "metadata": {},
   "outputs": [
    {
     "data": {
      "text/plain": [
       "True     1017544\n",
       "False     958178\n",
       "Name: isplanproduct, dtype: int64"
      ]
     },
     "execution_count": 5,
     "metadata": {},
     "output_type": "execute_result"
    }
   ],
   "source": [
    "df['isplanproduct'].value_counts()"
   ]
  },
  {
   "cell_type": "markdown",
   "id": "9d116b0b",
   "metadata": {},
   "source": [
    "Remove the rows where isplanproduct = True:"
   ]
  },
  {
   "cell_type": "code",
   "execution_count": 6,
   "id": "77c5240d",
   "metadata": {},
   "outputs": [
    {
     "name": "stdout",
     "output_type": "stream",
     "text": [
      "<class 'pandas.core.frame.DataFrame'>\n",
      "Int64Index: 958178 entries, 2 to 1975721\n",
      "Data columns (total 11 columns):\n",
      " #   Column                 Non-Null Count   Dtype  \n",
      "---  ------                 --------------   -----  \n",
      " 0   dimcustomermasterid    958178 non-null  int64  \n",
      " 1   purchasedate           958178 non-null  object \n",
      " 2   ticketcount            958178 non-null  int64  \n",
      " 3   revenue                411459 non-null  float64\n",
      " 4   producttype            958178 non-null  object \n",
      " 5   subproductname         958178 non-null  object \n",
      " 6   seasonyear             958178 non-null  int64  \n",
      " 7   dimcustomermasterid.1  958178 non-null  int64  \n",
      " 8   county                 692788 non-null  object \n",
      " 9   stateprovince          608520 non-null  object \n",
      " 10  zippostal              707654 non-null  object \n",
      "dtypes: float64(1), int64(4), object(6)\n",
      "memory usage: 87.7+ MB\n"
     ]
    }
   ],
   "source": [
    "df = df[df['isplanproduct'] == False]\n",
    "\n",
    "df.drop(columns=[\"isplanproduct\"], inplace=True)\n",
    "\n",
    "df.info()"
   ]
  },
  {
   "cell_type": "markdown",
   "id": "5c8d230e",
   "metadata": {},
   "source": [
    "Let's include data from 2018 to present in our analysis:"
   ]
  },
  {
   "cell_type": "code",
   "execution_count": 7,
   "id": "8dad8040",
   "metadata": {},
   "outputs": [
    {
     "data": {
      "text/plain": [
       "(799757, 11)"
      ]
     },
     "execution_count": 7,
     "metadata": {},
     "output_type": "execute_result"
    }
   ],
   "source": [
    "df = df[df[\"seasonyear\"] >= 2018]\n",
    "df.shape"
   ]
  },
  {
   "cell_type": "markdown",
   "id": "87cb9674",
   "metadata": {},
   "source": [
    "We'll also have a look at the included product and subproduct types:"
   ]
  },
  {
   "cell_type": "code",
   "execution_count": 8,
   "id": "4ac8ec5e",
   "metadata": {},
   "outputs": [
    {
     "data": {
      "text/plain": [
       "Individual    691929\n",
       "Comp           58778\n",
       "Other          49050\n",
       "Name: producttype, dtype: int64"
      ]
     },
     "execution_count": 8,
     "metadata": {},
     "output_type": "execute_result"
    }
   ],
   "source": [
    "df[\"producttype\"].value_counts()"
   ]
  },
  {
   "cell_type": "code",
   "execution_count": 9,
   "id": "18fb76ca",
   "metadata": {},
   "outputs": [
    {
     "data": {
      "text/plain": [
       "Individual           691301\n",
       "Comp                  58012\n",
       "Group                 31173\n",
       "Suite                 13225\n",
       "Deposit                1847\n",
       "Group Broker           1459\n",
       "Suite Broker           1345\n",
       "Comp Broker             766\n",
       "Individual Broker       628\n",
       "Deposit Broker            1\n",
       "Name: subproductname, dtype: int64"
      ]
     },
     "execution_count": 9,
     "metadata": {},
     "output_type": "execute_result"
    }
   ],
   "source": [
    "df[\"subproductname\"].value_counts()"
   ]
  },
  {
   "cell_type": "markdown",
   "id": "6e607771",
   "metadata": {},
   "source": [
    "Let's remove the broker records so we are looking at actual customers:"
   ]
  },
  {
   "cell_type": "code",
   "execution_count": 10,
   "id": "f2915acd",
   "metadata": {},
   "outputs": [
    {
     "data": {
      "text/plain": [
       "Individual    691301\n",
       "Name: subproductname, dtype: int64"
      ]
     },
     "execution_count": 10,
     "metadata": {},
     "output_type": "execute_result"
    }
   ],
   "source": [
    "df = df[df[\"subproductname\"].isin([\"Individual\"])]\n",
    "df.reset_index(drop=True, inplace=True)\n",
    "\n",
    "df[\"subproductname\"].value_counts()"
   ]
  },
  {
   "cell_type": "code",
   "execution_count": 11,
   "id": "c72ea2d4",
   "metadata": {},
   "outputs": [
    {
     "data": {
      "text/html": [
       "<div>\n",
       "<style scoped>\n",
       "    .dataframe tbody tr th:only-of-type {\n",
       "        vertical-align: middle;\n",
       "    }\n",
       "\n",
       "    .dataframe tbody tr th {\n",
       "        vertical-align: top;\n",
       "    }\n",
       "\n",
       "    .dataframe thead th {\n",
       "        text-align: right;\n",
       "    }\n",
       "</style>\n",
       "<table border=\"1\" class=\"dataframe\">\n",
       "  <thead>\n",
       "    <tr style=\"text-align: right;\">\n",
       "      <th></th>\n",
       "      <th>dimcustomermasterid</th>\n",
       "      <th>purchasedate</th>\n",
       "      <th>ticketcount</th>\n",
       "      <th>revenue</th>\n",
       "      <th>producttype</th>\n",
       "      <th>subproductname</th>\n",
       "      <th>seasonyear</th>\n",
       "      <th>dimcustomermasterid.1</th>\n",
       "      <th>county</th>\n",
       "      <th>stateprovince</th>\n",
       "      <th>zippostal</th>\n",
       "    </tr>\n",
       "  </thead>\n",
       "  <tbody>\n",
       "    <tr>\n",
       "      <th>0</th>\n",
       "      <td>608067</td>\n",
       "      <td>2019-03-18</td>\n",
       "      <td>4</td>\n",
       "      <td>252.00</td>\n",
       "      <td>Individual</td>\n",
       "      <td>Individual</td>\n",
       "      <td>2018</td>\n",
       "      <td>608067</td>\n",
       "      <td>Lane</td>\n",
       "      <td>OR</td>\n",
       "      <td>97477</td>\n",
       "    </tr>\n",
       "    <tr>\n",
       "      <th>1</th>\n",
       "      <td>595882</td>\n",
       "      <td>2018-11-06</td>\n",
       "      <td>2</td>\n",
       "      <td>149.00</td>\n",
       "      <td>Individual</td>\n",
       "      <td>Individual</td>\n",
       "      <td>2018</td>\n",
       "      <td>595882</td>\n",
       "      <td>NaN</td>\n",
       "      <td>BC</td>\n",
       "      <td>V1M1Z8</td>\n",
       "    </tr>\n",
       "    <tr>\n",
       "      <th>2</th>\n",
       "      <td>595927</td>\n",
       "      <td>2019-10-25</td>\n",
       "      <td>3</td>\n",
       "      <td>37.50</td>\n",
       "      <td>Individual</td>\n",
       "      <td>Individual</td>\n",
       "      <td>2019</td>\n",
       "      <td>595927</td>\n",
       "      <td>Washington</td>\n",
       "      <td>OR</td>\n",
       "      <td>97124</td>\n",
       "    </tr>\n",
       "    <tr>\n",
       "      <th>3</th>\n",
       "      <td>575448</td>\n",
       "      <td>2020-02-06</td>\n",
       "      <td>2</td>\n",
       "      <td>133.56</td>\n",
       "      <td>Individual</td>\n",
       "      <td>Individual</td>\n",
       "      <td>2019</td>\n",
       "      <td>575448</td>\n",
       "      <td>Clackamas</td>\n",
       "      <td>OR</td>\n",
       "      <td>97034</td>\n",
       "    </tr>\n",
       "    <tr>\n",
       "      <th>4</th>\n",
       "      <td>608129</td>\n",
       "      <td>2021-05-25</td>\n",
       "      <td>2</td>\n",
       "      <td>100.00</td>\n",
       "      <td>Individual</td>\n",
       "      <td>Individual</td>\n",
       "      <td>2020</td>\n",
       "      <td>608129</td>\n",
       "      <td>Washington</td>\n",
       "      <td>OR</td>\n",
       "      <td>97123</td>\n",
       "    </tr>\n",
       "    <tr>\n",
       "      <th>5</th>\n",
       "      <td>624738</td>\n",
       "      <td>2021-10-26</td>\n",
       "      <td>2</td>\n",
       "      <td>10.00</td>\n",
       "      <td>Individual</td>\n",
       "      <td>Individual</td>\n",
       "      <td>2021</td>\n",
       "      <td>624738</td>\n",
       "      <td>Multnomah</td>\n",
       "      <td>OR</td>\n",
       "      <td>97212</td>\n",
       "    </tr>\n",
       "    <tr>\n",
       "      <th>6</th>\n",
       "      <td>624764</td>\n",
       "      <td>2021-05-25</td>\n",
       "      <td>1</td>\n",
       "      <td>62.00</td>\n",
       "      <td>Individual</td>\n",
       "      <td>Individual</td>\n",
       "      <td>2020</td>\n",
       "      <td>624764</td>\n",
       "      <td>Multnomah</td>\n",
       "      <td>OR</td>\n",
       "      <td>97211</td>\n",
       "    </tr>\n",
       "    <tr>\n",
       "      <th>7</th>\n",
       "      <td>565870</td>\n",
       "      <td>2018-10-12</td>\n",
       "      <td>3</td>\n",
       "      <td>48.75</td>\n",
       "      <td>Individual</td>\n",
       "      <td>Individual</td>\n",
       "      <td>2018</td>\n",
       "      <td>565870</td>\n",
       "      <td>Clark</td>\n",
       "      <td>WA</td>\n",
       "      <td>98685</td>\n",
       "    </tr>\n",
       "    <tr>\n",
       "      <th>8</th>\n",
       "      <td>575451</td>\n",
       "      <td>2019-02-14</td>\n",
       "      <td>4</td>\n",
       "      <td>120.00</td>\n",
       "      <td>Individual</td>\n",
       "      <td>Individual</td>\n",
       "      <td>2018</td>\n",
       "      <td>575451</td>\n",
       "      <td>NaN</td>\n",
       "      <td>NaN</td>\n",
       "      <td>NaN</td>\n",
       "    </tr>\n",
       "    <tr>\n",
       "      <th>9</th>\n",
       "      <td>575451</td>\n",
       "      <td>2021-10-26</td>\n",
       "      <td>2</td>\n",
       "      <td>10.00</td>\n",
       "      <td>Individual</td>\n",
       "      <td>Individual</td>\n",
       "      <td>2021</td>\n",
       "      <td>575451</td>\n",
       "      <td>NaN</td>\n",
       "      <td>NaN</td>\n",
       "      <td>NaN</td>\n",
       "    </tr>\n",
       "  </tbody>\n",
       "</table>\n",
       "</div>"
      ],
      "text/plain": [
       "   dimcustomermasterid purchasedate  ticketcount  revenue producttype  \\\n",
       "0               608067   2019-03-18            4   252.00  Individual   \n",
       "1               595882   2018-11-06            2   149.00  Individual   \n",
       "2               595927   2019-10-25            3    37.50  Individual   \n",
       "3               575448   2020-02-06            2   133.56  Individual   \n",
       "4               608129   2021-05-25            2   100.00  Individual   \n",
       "5               624738   2021-10-26            2    10.00  Individual   \n",
       "6               624764   2021-05-25            1    62.00  Individual   \n",
       "7               565870   2018-10-12            3    48.75  Individual   \n",
       "8               575451   2019-02-14            4   120.00  Individual   \n",
       "9               575451   2021-10-26            2    10.00  Individual   \n",
       "\n",
       "  subproductname  seasonyear  dimcustomermasterid.1      county stateprovince  \\\n",
       "0     Individual        2018                 608067        Lane            OR   \n",
       "1     Individual        2018                 595882         NaN            BC   \n",
       "2     Individual        2019                 595927  Washington            OR   \n",
       "3     Individual        2019                 575448   Clackamas            OR   \n",
       "4     Individual        2020                 608129  Washington            OR   \n",
       "5     Individual        2021                 624738   Multnomah            OR   \n",
       "6     Individual        2020                 624764   Multnomah            OR   \n",
       "7     Individual        2018                 565870       Clark            WA   \n",
       "8     Individual        2018                 575451         NaN           NaN   \n",
       "9     Individual        2021                 575451         NaN           NaN   \n",
       "\n",
       "  zippostal  \n",
       "0     97477  \n",
       "1    V1M1Z8  \n",
       "2     97124  \n",
       "3     97034  \n",
       "4     97123  \n",
       "5     97212  \n",
       "6     97211  \n",
       "7     98685  \n",
       "8       NaN  \n",
       "9       NaN  "
      ]
     },
     "execution_count": 11,
     "metadata": {},
     "output_type": "execute_result"
    }
   ],
   "source": [
    "df.head(10)"
   ]
  },
  {
   "cell_type": "markdown",
   "id": "10f35c85-4ba4-4bdd-8238-3dc41da2cb5a",
   "metadata": {},
   "source": [
    "## Exploratory Data Analysis (EDA)\n",
    "\n",
    "Let's have a look at the data and decide whether we need any data cleaning and data transformation for further analysis."
   ]
  },
  {
   "cell_type": "code",
   "execution_count": 12,
   "id": "17e6bdb6",
   "metadata": {},
   "outputs": [],
   "source": [
    "#profile = ProfileReport(df, minimal=True)\n",
    "#profile.to_file(\"pandas-profile-report.html\")"
   ]
  },
  {
   "cell_type": "markdown",
   "id": "4b8c8591",
   "metadata": {},
   "source": [
    "By reading the profiling report, we can see that the following actions should be taken to improve the dataset quality:\n",
    "* Remove missing values from revenue (33.3%)\n",
    "* Remove zero values from revenue (7.4%)"
   ]
  },
  {
   "cell_type": "code",
   "execution_count": 13,
   "id": "fb7630f5",
   "metadata": {},
   "outputs": [
    {
     "data": {
      "text/plain": [
       "0"
      ]
     },
     "execution_count": 13,
     "metadata": {},
     "output_type": "execute_result"
    }
   ],
   "source": [
    "df.dropna(subset=['revenue'], inplace=True)\n",
    "df['revenue'].isnull().sum()"
   ]
  },
  {
   "cell_type": "markdown",
   "id": "0c61392c",
   "metadata": {},
   "source": [
    "Let's also drop any rows where revenue = 0, and then check the value counts to ensure the zero values are gone"
   ]
  },
  {
   "cell_type": "code",
   "execution_count": 14,
   "id": "f8308914",
   "metadata": {},
   "outputs": [
    {
     "data": {
      "text/plain": [
       "(-0.001, 1000.0]       198888\n",
       "(1000.0, 10000.0]        4225\n",
       "(10000.0, 100000.0]        17\n",
       "Name: revenue, dtype: int64"
      ]
     },
     "execution_count": 14,
     "metadata": {},
     "output_type": "execute_result"
    }
   ],
   "source": [
    "df = df[df['revenue'] > 0]\n",
    "df['revenue'].value_counts(bins=[0, 1000, 10000, 100000])"
   ]
  },
  {
   "cell_type": "markdown",
   "id": "52e37e52",
   "metadata": {},
   "source": [
    "### Data Types\n",
    "\n",
    "Let's look at the data types in our dataframe to see if we need to convert any values to a different type"
   ]
  },
  {
   "cell_type": "code",
   "execution_count": 15,
   "id": "bd104e2f",
   "metadata": {},
   "outputs": [
    {
     "data": {
      "text/plain": [
       "dimcustomermasterid        int64\n",
       "purchasedate              object\n",
       "ticketcount                int64\n",
       "revenue                  float64\n",
       "producttype               object\n",
       "subproductname            object\n",
       "seasonyear                 int64\n",
       "dimcustomermasterid.1      int64\n",
       "county                    object\n",
       "stateprovince             object\n",
       "zippostal                 object\n",
       "dtype: object"
      ]
     },
     "execution_count": 15,
     "metadata": {},
     "output_type": "execute_result"
    }
   ],
   "source": [
    "df.dtypes"
   ]
  },
  {
   "cell_type": "markdown",
   "id": "d6d5d591",
   "metadata": {},
   "source": [
    "Purchase date should be a datetime not an object (string), all of the other inferred data types look correct"
   ]
  },
  {
   "cell_type": "code",
   "execution_count": 16,
   "id": "1344b285",
   "metadata": {},
   "outputs": [],
   "source": [
    "df['purchasedate'] =  pd.to_datetime(df['purchasedate'], format='%Y-%m-%d')"
   ]
  },
  {
   "cell_type": "markdown",
   "id": "5c789725",
   "metadata": {},
   "source": [
    "## Customer Segmentation\n",
    "\n",
    "**RFM** stands for Recency - Frequency - Monetary Value. Theoretically we will have segments like below:\n",
    "\n",
    "* Low Value: Customers who are less active than others, not very frequent buyer/visitor and generates very low - zero - maybe negative revenue.\n",
    "\n",
    "* Mid Value: In the middle of everything. Often purchasing (but not as much as our High Values), fairly frequent and generates moderate revenue.\n",
    "\n",
    "* High Value: The group we don’t want to lose. High Revenue, Frequency and low Inactivity."
   ]
  },
  {
   "cell_type": "markdown",
   "id": "96c59e92",
   "metadata": {},
   "source": [
    "### Recency\n",
    "\n",
    "To calculate recency, we need to find out most recent purchase date of each customer and see how many days they are inactive for. After having no. of inactive days for each customer, we will apply K-means* clustering to assign customers a recency score."
   ]
  },
  {
   "cell_type": "code",
   "execution_count": 17,
   "id": "6ded0fac",
   "metadata": {},
   "outputs": [
    {
     "data": {
      "text/html": [
       "<div>\n",
       "<style scoped>\n",
       "    .dataframe tbody tr th:only-of-type {\n",
       "        vertical-align: middle;\n",
       "    }\n",
       "\n",
       "    .dataframe tbody tr th {\n",
       "        vertical-align: top;\n",
       "    }\n",
       "\n",
       "    .dataframe thead th {\n",
       "        text-align: right;\n",
       "    }\n",
       "</style>\n",
       "<table border=\"1\" class=\"dataframe\">\n",
       "  <thead>\n",
       "    <tr style=\"text-align: right;\">\n",
       "      <th></th>\n",
       "      <th>dimcustomermasterid</th>\n",
       "      <th>recency</th>\n",
       "    </tr>\n",
       "  </thead>\n",
       "  <tbody>\n",
       "    <tr>\n",
       "      <th>0</th>\n",
       "      <td>608067</td>\n",
       "      <td>1120</td>\n",
       "    </tr>\n",
       "    <tr>\n",
       "      <th>1</th>\n",
       "      <td>595882</td>\n",
       "      <td>1252</td>\n",
       "    </tr>\n",
       "    <tr>\n",
       "      <th>2</th>\n",
       "      <td>595927</td>\n",
       "      <td>899</td>\n",
       "    </tr>\n",
       "    <tr>\n",
       "      <th>3</th>\n",
       "      <td>575448</td>\n",
       "      <td>96</td>\n",
       "    </tr>\n",
       "    <tr>\n",
       "      <th>4</th>\n",
       "      <td>608129</td>\n",
       "      <td>321</td>\n",
       "    </tr>\n",
       "  </tbody>\n",
       "</table>\n",
       "</div>"
      ],
      "text/plain": [
       "   dimcustomermasterid  recency\n",
       "0               608067     1120\n",
       "1               595882     1252\n",
       "2               595927      899\n",
       "3               575448       96\n",
       "4               608129      321"
      ]
     },
     "execution_count": 17,
     "metadata": {},
     "output_type": "execute_result"
    }
   ],
   "source": [
    "# create a generic user dataframe to keep dimcustomermasterid and new segmentation scores\n",
    "df_customer = pd.DataFrame(df['dimcustomermasterid'].unique())\n",
    "df_customer.columns = ['dimcustomermasterid']\n",
    "\n",
    "# get the max purchase date for each customer and create a dataframe with it\n",
    "df_max_purchase = df.groupby('dimcustomermasterid')[\"purchasedate\"].max().reset_index()\n",
    "df_max_purchase.columns = ['dimcustomermasterid','maxpurchasedate']\n",
    "\n",
    "# we take our observation point as the max invoice date in our dataset\n",
    "df_max_purchase['recency'] = (df_max_purchase['maxpurchasedate'].max() - df_max_purchase['maxpurchasedate']).dt.days\n",
    "\n",
    "#merge this dataframe to our new user dataframe\n",
    "df_customer = pd.merge(df_customer, df_max_purchase[['dimcustomermasterid','recency']], on='dimcustomermasterid')\n",
    "\n",
    "df_customer.head()"
   ]
  },
  {
   "cell_type": "code",
   "execution_count": 18,
   "id": "7498fc94",
   "metadata": {},
   "outputs": [
    {
     "data": {
      "text/plain": [
       "count    122337.000000\n",
       "mean        661.077254\n",
       "std         464.529627\n",
       "min           0.000000\n",
       "25%         149.000000\n",
       "50%         820.000000\n",
       "75%        1134.000000\n",
       "max        1406.000000\n",
       "Name: recency, dtype: float64"
      ]
     },
     "execution_count": 18,
     "metadata": {},
     "output_type": "execute_result"
    }
   ],
   "source": [
    "df_customer[\"recency\"].describe()"
   ]
  },
  {
   "cell_type": "code",
   "execution_count": 19,
   "id": "ef1f287d",
   "metadata": {},
   "outputs": [
    {
     "data": {
      "image/png": "[encoded data removed]",
      "text/plain": [
       "<Figure size 432x288 with 1 Axes>"
      ]
     },
     "metadata": {
      "needs_background": "light"
     },
     "output_type": "display_data"
    }
   ],
   "source": [
    "plt.hist(df_customer[\"recency\"], bins=50, color=\"dodgerblue\", edgecolor=\"black\")\n",
    "plt.title(\"Recency by Customer\")\n",
    "plt.ylabel(\"No. Customers\")\n",
    "plt.xlabel(\"Recency (days)\")\n",
    "plt.rcParams[\"figure.figsize\"] = (20,5)\n",
    "\n",
    "plt.show()"
   ]
  },
  {
   "cell_type": "markdown",
   "id": "c88f58f2",
   "metadata": {},
   "source": [
    "We can observe a large gap in purchasing behaviour between ~850 - 500 days ago, which aligns with when COVID-19 was declared a global pandemic. There's not much we can do to fill in that gap."
   ]
  },
  {
   "cell_type": "markdown",
   "id": "0901453c",
   "metadata": {},
   "source": [
    "### Clustering Recency\n",
    "\n",
    "We are going to apply K-means clustering to assign a recency score. We will use the elbow method to determine how many clusters we need:"
   ]
  },
  {
   "cell_type": "code",
   "execution_count": 20,
   "id": "a6fb7741",
   "metadata": {},
   "outputs": [
    {
     "data": {
      "image/png": "[encoded data removed]",
      "text/plain": [
       "<Figure size 1440x360 with 1 Axes>"
      ]
     },
     "metadata": {
      "needs_background": "light"
     },
     "output_type": "display_data"
    }
   ],
   "source": [
    "from sklearn.cluster import KMeans\n",
    "\n",
    "cluster_dict={}\n",
    "df_recency = df_customer[['recency']]\n",
    "\n",
    "for k in range(1, 10):\n",
    "    kmeans = KMeans(n_clusters=k, max_iter=1000).fit(df_recency)\n",
    "    df_recency[\"clusters\"] = kmeans.labels_\n",
    "    cluster_dict[k] = kmeans.inertia_ \n",
    "\n",
    "plt.figure()\n",
    "plt.plot(list(cluster_dict.keys()), list(cluster_dict.values()))\n",
    "plt.xlabel(\"Number of cluster\")\n",
    "plt.show()"
   ]
  },
  {
   "cell_type": "markdown",
   "id": "ab1ef142",
   "metadata": {},
   "source": [
    "Here it looks like 3 is the optimal number of clusters"
   ]
  },
  {
   "cell_type": "code",
   "execution_count": 21,
   "id": "210060ba",
   "metadata": {},
   "outputs": [],
   "source": [
    "# build 3 clusters for recency and add it to dataframe\n",
    "kmeans = KMeans(n_clusters=3)\n",
    "kmeans.fit(df_customer[['recency']])\n",
    "df_customer['recencycluster'] = kmeans.predict(df_customer[['recency']])\n",
    "\n",
    "#function for ordering clusters from worst to best\n",
    "def order_cluster(cluster_field_name, target_field_name,df,ascending):\n",
    "    \n",
    "    df_new = df.groupby(cluster_field_name)[target_field_name].mean().reset_index()\n",
    "    df_new = df_new.sort_values(by=target_field_name,ascending=ascending).reset_index(drop=True)\n",
    "    df_new['index'] = df_new.index\n",
    "    df_final = pd.merge(df,df_new[[cluster_field_name,'index']], on=cluster_field_name)\n",
    "    df_final = df_final.drop([cluster_field_name],axis=1)\n",
    "    df_final = df_final.rename(columns={\"index\":cluster_field_name})\n",
    "    \n",
    "    return df_final\n",
    "\n",
    "df_customer = order_cluster('recencycluster', 'recency', df_customer, False)"
   ]
  },
  {
   "cell_type": "code",
   "execution_count": 22,
   "id": "bad2e278",
   "metadata": {},
   "outputs": [
    {
     "data": {
      "text/html": [
       "<div>\n",
       "<style scoped>\n",
       "    .dataframe tbody tr th:only-of-type {\n",
       "        vertical-align: middle;\n",
       "    }\n",
       "\n",
       "    .dataframe tbody tr th {\n",
       "        vertical-align: top;\n",
       "    }\n",
       "\n",
       "    .dataframe thead th {\n",
       "        text-align: right;\n",
       "    }\n",
       "</style>\n",
       "<table border=\"1\" class=\"dataframe\">\n",
       "  <thead>\n",
       "    <tr style=\"text-align: right;\">\n",
       "      <th></th>\n",
       "      <th>count</th>\n",
       "      <th>mean</th>\n",
       "      <th>std</th>\n",
       "      <th>min</th>\n",
       "      <th>25%</th>\n",
       "      <th>50%</th>\n",
       "      <th>75%</th>\n",
       "      <th>max</th>\n",
       "    </tr>\n",
       "    <tr>\n",
       "      <th>recencycluster</th>\n",
       "      <th></th>\n",
       "      <th></th>\n",
       "      <th></th>\n",
       "      <th></th>\n",
       "      <th></th>\n",
       "      <th></th>\n",
       "      <th></th>\n",
       "      <th></th>\n",
       "    </tr>\n",
       "  </thead>\n",
       "  <tbody>\n",
       "    <tr>\n",
       "      <th>0</th>\n",
       "      <td>35344.0</td>\n",
       "      <td>1210.681247</td>\n",
       "      <td>56.618952</td>\n",
       "      <td>1096.0</td>\n",
       "      <td>1170.0</td>\n",
       "      <td>1212.0</td>\n",
       "      <td>1254.0</td>\n",
       "      <td>1406.0</td>\n",
       "    </tr>\n",
       "    <tr>\n",
       "      <th>1</th>\n",
       "      <td>36065.0</td>\n",
       "      <td>855.958686</td>\n",
       "      <td>56.434789</td>\n",
       "      <td>502.0</td>\n",
       "      <td>812.0</td>\n",
       "      <td>855.0</td>\n",
       "      <td>895.0</td>\n",
       "      <td>978.0</td>\n",
       "    </tr>\n",
       "    <tr>\n",
       "      <th>2</th>\n",
       "      <td>50928.0</td>\n",
       "      <td>141.645853</td>\n",
       "      <td>86.805924</td>\n",
       "      <td>0.0</td>\n",
       "      <td>76.0</td>\n",
       "      <td>133.0</td>\n",
       "      <td>175.0</td>\n",
       "      <td>497.0</td>\n",
       "    </tr>\n",
       "  </tbody>\n",
       "</table>\n",
       "</div>"
      ],
      "text/plain": [
       "                  count         mean        std     min     25%     50%  \\\n",
       "recencycluster                                                            \n",
       "0               35344.0  1210.681247  56.618952  1096.0  1170.0  1212.0   \n",
       "1               36065.0   855.958686  56.434789   502.0   812.0   855.0   \n",
       "2               50928.0   141.645853  86.805924     0.0    76.0   133.0   \n",
       "\n",
       "                   75%     max  \n",
       "recencycluster                  \n",
       "0               1254.0  1406.0  \n",
       "1                895.0   978.0  \n",
       "2                175.0   497.0  "
      ]
     },
     "execution_count": 22,
     "metadata": {},
     "output_type": "execute_result"
    }
   ],
   "source": [
    "df_customer.groupby('recencycluster')[\"recency\"].describe()"
   ]
  },
  {
   "cell_type": "markdown",
   "id": "b342c25c",
   "metadata": {},
   "source": [
    "### Frequency\n",
    "\n",
    "To create frequency clusters, we first need to find total number orders for each customer:"
   ]
  },
  {
   "cell_type": "code",
   "execution_count": 23,
   "id": "62b26f6a",
   "metadata": {},
   "outputs": [],
   "source": [
    "#get order counts for each user and create a dataframe with it\n",
    "df_frequency = df.groupby('dimcustomermasterid')[\"purchasedate\"].count().reset_index()\n",
    "df_frequency.columns = ['dimcustomermasterid','frequency']\n",
    "\n",
    "#add this data to our main dataframe\n",
    "df_customer = pd.merge(df_customer, df_frequency, on=\"dimcustomermasterid\")"
   ]
  },
  {
   "cell_type": "code",
   "execution_count": 24,
   "id": "082ab79c",
   "metadata": {},
   "outputs": [
    {
     "data": {
      "image/png": "[encoded data removed]",
      "text/plain": [
       "<Figure size 1440x360 with 1 Axes>"
      ]
     },
     "metadata": {
      "needs_background": "light"
     },
     "output_type": "display_data"
    }
   ],
   "source": [
    "plt.hist(df_customer[\"frequency\"], color=\"dodgerblue\", edgecolor=\"black\")\n",
    "plt.title(\"Frequency by Customer\")\n",
    "plt.ylabel(\"No. Customers\")\n",
    "plt.xlabel(\"No. Purchases\")\n",
    "plt.rcParams[\"figure.figsize\"] = (20,5)\n",
    "\n",
    "plt.show()"
   ]
  },
  {
   "cell_type": "code",
   "execution_count": 25,
   "id": "889ebcb3",
   "metadata": {},
   "outputs": [
    {
     "data": {
      "text/plain": [
       "(-0.001, 5.0]      118992\n",
       "(5.0, 10.0]          2487\n",
       "(10.0, 100.0]         843\n",
       "(100.0, 1000.0]        14\n",
       "Name: frequency, dtype: int64"
      ]
     },
     "execution_count": 25,
     "metadata": {},
     "output_type": "execute_result"
    }
   ],
   "source": [
    "df_customer[\"frequency\"].value_counts(bins=[0, 5, 10, 100, 1000])"
   ]
  },
  {
   "cell_type": "markdown",
   "id": "e10ef7b0",
   "metadata": {},
   "source": [
    "Most customers have a lower frequency, but a few big purchasers are also present in the data. Because this analysis is focused on the typical individual ticket buyer, let's remove these outliers:"
   ]
  },
  {
   "cell_type": "code",
   "execution_count": 26,
   "id": "ee017dc0",
   "metadata": {},
   "outputs": [],
   "source": [
    "df_customer = df_customer[df_customer[\"frequency\"] <= 10]"
   ]
  },
  {
   "cell_type": "code",
   "execution_count": 27,
   "id": "d4d7df03",
   "metadata": {},
   "outputs": [
    {
     "data": {
      "text/plain": [
       "count    121479.000000\n",
       "mean          1.482388\n",
       "std           1.158215\n",
       "min           1.000000\n",
       "25%           1.000000\n",
       "50%           1.000000\n",
       "75%           1.000000\n",
       "max          10.000000\n",
       "Name: frequency, dtype: float64"
      ]
     },
     "execution_count": 27,
     "metadata": {},
     "output_type": "execute_result"
    }
   ],
   "source": [
    "df_customer[\"frequency\"].describe()"
   ]
  },
  {
   "cell_type": "code",
   "execution_count": 28,
   "id": "d65719c8",
   "metadata": {},
   "outputs": [],
   "source": [
    "# build 3 clusters for frequency and add it to dataframe\n",
    "kmeans = KMeans(n_clusters=3)\n",
    "kmeans.fit(df_customer[['frequency']])\n",
    "df_customer['frequencycluster'] = kmeans.predict(df_customer[['frequency']])\n",
    "\n",
    "df_customer = order_cluster('frequencycluster', 'frequency', df_customer, True)"
   ]
  },
  {
   "cell_type": "code",
   "execution_count": 29,
   "id": "406b95e1",
   "metadata": {},
   "outputs": [
    {
     "data": {
      "text/html": [
       "<div>\n",
       "<style scoped>\n",
       "    .dataframe tbody tr th:only-of-type {\n",
       "        vertical-align: middle;\n",
       "    }\n",
       "\n",
       "    .dataframe tbody tr th {\n",
       "        vertical-align: top;\n",
       "    }\n",
       "\n",
       "    .dataframe thead th {\n",
       "        text-align: right;\n",
       "    }\n",
       "</style>\n",
       "<table border=\"1\" class=\"dataframe\">\n",
       "  <thead>\n",
       "    <tr style=\"text-align: right;\">\n",
       "      <th></th>\n",
       "      <th>count</th>\n",
       "      <th>mean</th>\n",
       "      <th>std</th>\n",
       "      <th>min</th>\n",
       "      <th>25%</th>\n",
       "      <th>50%</th>\n",
       "      <th>75%</th>\n",
       "      <th>max</th>\n",
       "    </tr>\n",
       "    <tr>\n",
       "      <th>frequencycluster</th>\n",
       "      <th></th>\n",
       "      <th></th>\n",
       "      <th></th>\n",
       "      <th></th>\n",
       "      <th></th>\n",
       "      <th></th>\n",
       "      <th></th>\n",
       "      <th></th>\n",
       "    </tr>\n",
       "  </thead>\n",
       "  <tbody>\n",
       "    <tr>\n",
       "      <th>0</th>\n",
       "      <td>91502.0</td>\n",
       "      <td>1.000000</td>\n",
       "      <td>0.000000</td>\n",
       "      <td>1.0</td>\n",
       "      <td>1.0</td>\n",
       "      <td>1.0</td>\n",
       "      <td>1.0</td>\n",
       "      <td>1.0</td>\n",
       "    </tr>\n",
       "    <tr>\n",
       "      <th>1</th>\n",
       "      <td>23448.0</td>\n",
       "      <td>2.249062</td>\n",
       "      <td>0.432479</td>\n",
       "      <td>2.0</td>\n",
       "      <td>2.0</td>\n",
       "      <td>2.0</td>\n",
       "      <td>2.0</td>\n",
       "      <td>3.0</td>\n",
       "    </tr>\n",
       "    <tr>\n",
       "      <th>2</th>\n",
       "      <td>6529.0</td>\n",
       "      <td>5.489508</td>\n",
       "      <td>1.690766</td>\n",
       "      <td>4.0</td>\n",
       "      <td>4.0</td>\n",
       "      <td>5.0</td>\n",
       "      <td>6.0</td>\n",
       "      <td>10.0</td>\n",
       "    </tr>\n",
       "  </tbody>\n",
       "</table>\n",
       "</div>"
      ],
      "text/plain": [
       "                    count      mean       std  min  25%  50%  75%   max\n",
       "frequencycluster                                                       \n",
       "0                 91502.0  1.000000  0.000000  1.0  1.0  1.0  1.0   1.0\n",
       "1                 23448.0  2.249062  0.432479  2.0  2.0  2.0  2.0   3.0\n",
       "2                  6529.0  5.489508  1.690766  4.0  4.0  5.0  6.0  10.0"
      ]
     },
     "execution_count": 29,
     "metadata": {},
     "output_type": "execute_result"
    }
   ],
   "source": [
    "df_customer.groupby('frequencycluster')[\"frequency\"].describe()"
   ]
  },
  {
   "cell_type": "markdown",
   "id": "44a24b0b",
   "metadata": {},
   "source": [
    "### Revenue\n",
    "\n",
    "Let’s add revenue to our dataset and cluster based on revenue:"
   ]
  },
  {
   "cell_type": "code",
   "execution_count": 30,
   "id": "df384364",
   "metadata": {},
   "outputs": [],
   "source": [
    "df_revenue = df.groupby(\"dimcustomermasterid\")[\"revenue\"].sum().reset_index()\n",
    "\n",
    "df_customer = pd.merge(df_customer, df_revenue, on=\"dimcustomermasterid\")"
   ]
  },
  {
   "cell_type": "code",
   "execution_count": 31,
   "id": "14150420",
   "metadata": {},
   "outputs": [
    {
     "data": {
      "image/png": "[encoded data removed]",
      "text/plain": [
       "<Figure size 1440x360 with 1 Axes>"
      ]
     },
     "metadata": {
      "needs_background": "light"
     },
     "output_type": "display_data"
    }
   ],
   "source": [
    "plt.hist(df_customer[\"revenue\"], color=\"dodgerblue\", edgecolor=\"black\")\n",
    "plt.title(\"Revenue by Customer\")\n",
    "plt.ylabel(\"No. Customers\")\n",
    "plt.xlabel(\"Revenue ($)\")\n",
    "plt.rcParams[\"figure.figsize\"] = (20,5)\n",
    "\n",
    "plt.show()"
   ]
  },
  {
   "cell_type": "code",
   "execution_count": 32,
   "id": "e78b8d83",
   "metadata": {},
   "outputs": [
    {
     "data": {
      "text/plain": [
       "(100.0, 500.0]       64412\n",
       "(50.0, 100.0]        20217\n",
       "(-0.001, 50.0]       17315\n",
       "(500.0, 1000.0]      13260\n",
       "(1000.0, 5000.0]      6089\n",
       "(5000.0, 10000.0]      147\n",
       "Name: revenue, dtype: int64"
      ]
     },
     "execution_count": 32,
     "metadata": {},
     "output_type": "execute_result"
    }
   ],
   "source": [
    "df_customer[\"revenue\"].value_counts(bins=[0, 50, 100, 500, 1000, 5000, 10000])"
   ]
  },
  {
   "cell_type": "markdown",
   "id": "bc080a31",
   "metadata": {},
   "source": [
    "Again, a few big spenders are present in the dataset. Let's remove the outlier customers who spend generate significantly more revenue than most:"
   ]
  },
  {
   "cell_type": "code",
   "execution_count": 33,
   "id": "591da81d",
   "metadata": {},
   "outputs": [],
   "source": [
    "df_customer = df_customer[df_customer[\"revenue\"] <= 5000]"
   ]
  },
  {
   "cell_type": "code",
   "execution_count": 34,
   "id": "465be908",
   "metadata": {},
   "outputs": [
    {
     "data": {
      "text/plain": [
       "count    121293.000000\n",
       "mean        303.314970\n",
       "std         408.684054\n",
       "min           1.000000\n",
       "25%          80.280000\n",
       "50%         176.000000\n",
       "75%         357.020000\n",
       "max        5000.000000\n",
       "Name: revenue, dtype: float64"
      ]
     },
     "execution_count": 34,
     "metadata": {},
     "output_type": "execute_result"
    }
   ],
   "source": [
    "df_customer[\"revenue\"].describe()"
   ]
  },
  {
   "cell_type": "code",
   "execution_count": 35,
   "id": "d55df6a6",
   "metadata": {},
   "outputs": [],
   "source": [
    "# build 3 clusters for revenue and add it to dataframe\n",
    "kmeans = KMeans(n_clusters=3)\n",
    "kmeans.fit(df_customer[['revenue']])\n",
    "df_customer['revenuecluster'] = kmeans.predict(df_customer[['revenue']])\n",
    "\n",
    "df_customer = order_cluster('revenuecluster', 'revenue', df_customer, True)"
   ]
  },
  {
   "cell_type": "code",
   "execution_count": 36,
   "id": "0dc2c945",
   "metadata": {},
   "outputs": [
    {
     "data": {
      "text/html": [
       "<div>\n",
       "<style scoped>\n",
       "    .dataframe tbody tr th:only-of-type {\n",
       "        vertical-align: middle;\n",
       "    }\n",
       "\n",
       "    .dataframe tbody tr th {\n",
       "        vertical-align: top;\n",
       "    }\n",
       "\n",
       "    .dataframe thead th {\n",
       "        text-align: right;\n",
       "    }\n",
       "</style>\n",
       "<table border=\"1\" class=\"dataframe\">\n",
       "  <thead>\n",
       "    <tr style=\"text-align: right;\">\n",
       "      <th></th>\n",
       "      <th>count</th>\n",
       "      <th>mean</th>\n",
       "      <th>std</th>\n",
       "      <th>min</th>\n",
       "      <th>25%</th>\n",
       "      <th>50%</th>\n",
       "      <th>75%</th>\n",
       "      <th>max</th>\n",
       "    </tr>\n",
       "    <tr>\n",
       "      <th>revenuecluster</th>\n",
       "      <th></th>\n",
       "      <th></th>\n",
       "      <th></th>\n",
       "      <th></th>\n",
       "      <th></th>\n",
       "      <th></th>\n",
       "      <th></th>\n",
       "      <th></th>\n",
       "    </tr>\n",
       "  </thead>\n",
       "  <tbody>\n",
       "    <tr>\n",
       "      <th>0</th>\n",
       "      <td>100606.0</td>\n",
       "      <td>167.458861</td>\n",
       "      <td>119.646774</td>\n",
       "      <td>1.00</td>\n",
       "      <td>68.000</td>\n",
       "      <td>136.00</td>\n",
       "      <td>245.32</td>\n",
       "      <td>477.20</td>\n",
       "    </tr>\n",
       "    <tr>\n",
       "      <th>1</th>\n",
       "      <td>18387.0</td>\n",
       "      <td>785.751368</td>\n",
       "      <td>273.277499</td>\n",
       "      <td>477.22</td>\n",
       "      <td>565.000</td>\n",
       "      <td>698.00</td>\n",
       "      <td>938.01</td>\n",
       "      <td>1588.89</td>\n",
       "    </tr>\n",
       "    <tr>\n",
       "      <th>2</th>\n",
       "      <td>2300.0</td>\n",
       "      <td>2389.133052</td>\n",
       "      <td>752.672597</td>\n",
       "      <td>1589.60</td>\n",
       "      <td>1807.945</td>\n",
       "      <td>2131.37</td>\n",
       "      <td>2748.96</td>\n",
       "      <td>5000.00</td>\n",
       "    </tr>\n",
       "  </tbody>\n",
       "</table>\n",
       "</div>"
      ],
      "text/plain": [
       "                   count         mean         std      min       25%      50%  \\\n",
       "revenuecluster                                                                  \n",
       "0               100606.0   167.458861  119.646774     1.00    68.000   136.00   \n",
       "1                18387.0   785.751368  273.277499   477.22   565.000   698.00   \n",
       "2                 2300.0  2389.133052  752.672597  1589.60  1807.945  2131.37   \n",
       "\n",
       "                    75%      max  \n",
       "revenuecluster                    \n",
       "0                245.32   477.20  \n",
       "1                938.01  1588.89  \n",
       "2               2748.96  5000.00  "
      ]
     },
     "execution_count": 36,
     "metadata": {},
     "output_type": "execute_result"
    }
   ],
   "source": [
    "df_customer.groupby(\"revenuecluster\")[\"revenue\"].describe()"
   ]
  },
  {
   "cell_type": "markdown",
   "id": "94a1c86d",
   "metadata": {},
   "source": [
    "### Engagement\n",
    "\n",
    "Let's add a flag to show whether the fan has engaged with the team via purchasing a streaming subscription, or video game engagement provided by via the NBA dataset:"
   ]
  },
  {
   "cell_type": "code",
   "execution_count": 37,
   "id": "6ba44a60",
   "metadata": {},
   "outputs": [
    {
     "data": {
      "text/plain": [
       "0    118122\n",
       "1      3171\n",
       "Name: is_engaged, dtype: int64"
      ]
     },
     "execution_count": 37,
     "metadata": {},
     "output_type": "execute_result"
    }
   ],
   "source": [
    "\n",
    "# merge the NBA dataset with our customer dataset\n",
    "df_customer = pd.merge(df_customer, df2, on=\"dimcustomermasterid\")\n",
    "\n",
    "# create a flag based on the source of the record\n",
    "df_customer[\"is_engaged\"] = np.where(df_customer[\"entity_source\"] == \"PTB\", 1, 0)\n",
    "\n",
    "df_customer[\"is_engaged\"].value_counts()\n"
   ]
  },
  {
   "cell_type": "markdown",
   "id": "b2bad9a2",
   "metadata": {},
   "source": [
    "### Overall Score\n",
    "\n",
    "We have scores (cluster numbers) for recency, frequency & revenue. Let’s create an overall score out of them:"
   ]
  },
  {
   "cell_type": "code",
   "execution_count": 38,
   "id": "3223973e",
   "metadata": {},
   "outputs": [
    {
     "name": "stderr",
     "output_type": "stream",
     "text": [
      "/var/folders/kp/vwm5bxcd72j3yf54l1xtsts80000gp/T/ipykernel_91887/2921998907.py:3: FutureWarning: Indexing with multiple keys (implicitly converted to a tuple of keys) will be deprecated, use a list instead.\n",
      "  df_customer.groupby(\"score\")[\"recency\",\"frequency\",\"revenue\",\"is_engaged\"].mean()\n"
     ]
    },
    {
     "data": {
      "text/html": [
       "<div>\n",
       "<style scoped>\n",
       "    .dataframe tbody tr th:only-of-type {\n",
       "        vertical-align: middle;\n",
       "    }\n",
       "\n",
       "    .dataframe tbody tr th {\n",
       "        vertical-align: top;\n",
       "    }\n",
       "\n",
       "    .dataframe thead th {\n",
       "        text-align: right;\n",
       "    }\n",
       "</style>\n",
       "<table border=\"1\" class=\"dataframe\">\n",
       "  <thead>\n",
       "    <tr style=\"text-align: right;\">\n",
       "      <th></th>\n",
       "      <th>recency</th>\n",
       "      <th>frequency</th>\n",
       "      <th>revenue</th>\n",
       "      <th>is_engaged</th>\n",
       "    </tr>\n",
       "    <tr>\n",
       "      <th>score</th>\n",
       "      <th></th>\n",
       "      <th></th>\n",
       "      <th></th>\n",
       "      <th></th>\n",
       "    </tr>\n",
       "  </thead>\n",
       "  <tbody>\n",
       "    <tr>\n",
       "      <th>0</th>\n",
       "      <td>1211.837921</td>\n",
       "      <td>1.000000</td>\n",
       "      <td>151.542762</td>\n",
       "      <td>0.000000</td>\n",
       "    </tr>\n",
       "    <tr>\n",
       "      <th>1</th>\n",
       "      <td>930.449403</td>\n",
       "      <td>1.110368</td>\n",
       "      <td>219.656423</td>\n",
       "      <td>0.016737</td>\n",
       "    </tr>\n",
       "    <tr>\n",
       "      <th>2</th>\n",
       "      <td>325.161502</td>\n",
       "      <td>1.191660</td>\n",
       "      <td>230.133196</td>\n",
       "      <td>0.015480</td>\n",
       "    </tr>\n",
       "    <tr>\n",
       "      <th>3</th>\n",
       "      <td>300.819798</td>\n",
       "      <td>2.054781</td>\n",
       "      <td>452.111166</td>\n",
       "      <td>0.060926</td>\n",
       "    </tr>\n",
       "    <tr>\n",
       "      <th>4</th>\n",
       "      <td>258.634853</td>\n",
       "      <td>3.245173</td>\n",
       "      <td>764.415741</td>\n",
       "      <td>0.085787</td>\n",
       "    </tr>\n",
       "    <tr>\n",
       "      <th>5</th>\n",
       "      <td>213.369205</td>\n",
       "      <td>4.994371</td>\n",
       "      <td>1140.917460</td>\n",
       "      <td>0.119868</td>\n",
       "    </tr>\n",
       "    <tr>\n",
       "      <th>6</th>\n",
       "      <td>184.826531</td>\n",
       "      <td>6.221088</td>\n",
       "      <td>2197.953617</td>\n",
       "      <td>0.219955</td>\n",
       "    </tr>\n",
       "    <tr>\n",
       "      <th>7</th>\n",
       "      <td>168.545455</td>\n",
       "      <td>6.600000</td>\n",
       "      <td>2563.874364</td>\n",
       "      <td>1.000000</td>\n",
       "    </tr>\n",
       "  </tbody>\n",
       "</table>\n",
       "</div>"
      ],
      "text/plain": [
       "           recency  frequency      revenue  is_engaged\n",
       "score                                                 \n",
       "0      1211.837921   1.000000   151.542762    0.000000\n",
       "1       930.449403   1.110368   219.656423    0.016737\n",
       "2       325.161502   1.191660   230.133196    0.015480\n",
       "3       300.819798   2.054781   452.111166    0.060926\n",
       "4       258.634853   3.245173   764.415741    0.085787\n",
       "5       213.369205   4.994371  1140.917460    0.119868\n",
       "6       184.826531   6.221088  2197.953617    0.219955\n",
       "7       168.545455   6.600000  2563.874364    1.000000"
      ]
     },
     "execution_count": 38,
     "metadata": {},
     "output_type": "execute_result"
    }
   ],
   "source": [
    "# calculate overall score and use mean() to see details\n",
    "df_customer[\"score\"] = df_customer[\"recencycluster\"]+df_customer[\"frequencycluster\"]+df_customer[\"revenuecluster\"]+df_customer[\"is_engaged\"]\n",
    "df_customer.groupby(\"score\")[\"recency\",\"frequency\",\"revenue\",\"is_engaged\"].mean()"
   ]
  },
  {
   "cell_type": "markdown",
   "id": "4cc854ab",
   "metadata": {},
   "source": [
    "As we can see, the higher the score, the higher value a fan (more recent purchase, higher frequency, higher revenue, more engagement)"
   ]
  },
  {
   "cell_type": "markdown",
   "id": "92be6a0a",
   "metadata": {},
   "source": [
    "### Visualization"
   ]
  },
  {
   "cell_type": "code",
   "execution_count": 43,
   "id": "ea2db2eb",
   "metadata": {},
   "outputs": [
    {
     "data": {
      "image/png": "[encoded data removed]",
      "text/plain": [
       "<Figure size 864x360 with 1 Axes>"
      ]
     },
     "metadata": {
      "needs_background": "light"
     },
     "output_type": "display_data"
    }
   ],
   "source": [
    "colors = {0:'red', 1:'green', 2:'blue', 3:'yellow', 4:'cyan', 5:'purple', 6:'orange', 7:'pink'}\n",
    "\n",
    "fig = plt.scatter(df_customer[\"score\"], df_customer[\"revenue\"], c=df_customer[\"score\"].map(colors), edgecolors=\"black\", s=50, alpha=.5)\n",
    "plt.title(\"RMFE Score v. Revenue\")\n",
    "plt.ylabel(\"Revenue ($)\")\n",
    "plt.xlabel(\"RFME Score\")\n",
    "plt.rcParams[\"figure.figsize\"] = (12,5)\n",
    "\n",
    "plt.show()"
   ]
  },
  {
   "cell_type": "markdown",
   "id": "c6bdae7b",
   "metadata": {},
   "source": [
    "## TODO:\n",
    "* calculate silhouette score for clusters\n",
    "* change clustering to Pycaret\n",
    "* clustering on distToVenue to create segments\n",
    "* add metric to RFM score (RFM+E)\n",
    "    SELECT * FROM \"league-nba-poc\".\"tagged_customer_master\" WHERE entity_source = 'PTB';\n",
    "    - match records on dimcustomermasterid\n",
    "    - any record that matches this dataset means they have engagement (streaming, favourite team, favourite player)\n",
    "\n",
    "* Ouput metric = GPR per RMF group\n",
    "* For each segment, calculate overall GPR (for all fans), divide by num fans to get Avg GPR/fan of the segment.\n",
    "\n",
    "Seg 1 -> Avg GPR/fan = $1000\n",
    "Seg 2 -> Avg GPR/fan = $500\n",
    "Seg 3 -> Avg GPR/fan = $50\n",
    "\n",
    "\n",
    "* For creating NBA segments:\n",
    "    - Segment 1 (In-market): country= USA, state=[\"OR\",\"WA\"] or zipcode starts with [97, 98] \n",
    "    - Segment 2 (US Out-of-market): country= USA, state!=[\"OR\",\"WA\"] or zipcode not starts with [97, 98] \n",
    "    - Segment 3 (International): country!= USA\n",
    "\n",
    "* For creating PTB segments:\n",
    "    - Follow same segment logic\n",
    "    - joing to dw.cohortcustomer to get state, country, zip\n",
    "\n",
    "FFV = FUTURE FAN VALUE\n",
    "PFV = PRESENT FAN VALUE\n"
   ]
  }
 ],
 "metadata": {
  "kernelspec": {
   "display_name": "Python 3.8.5 ('stellar')",
   "language": "python",
   "name": "python3"
  },
  "language_info": {
   "codemirror_mode": {
    "name": "ipython",
    "version": 3
   },
   "file_extension": ".py",
   "mimetype": "text/x-python",
   "name": "python",
   "nbconvert_exporter": "python",
   "pygments_lexer": "ipython3",
   "version": "3.8.5"
  },
  "vscode": {
   "interpreter": {
    "hash": "89f48dadab51a6b5b48ffc1a9e043c21cefe67453637c3444f3b86917b8aad16"
   }
  }
 },
 "nbformat": 4,
 "nbformat_minor": 5
}
