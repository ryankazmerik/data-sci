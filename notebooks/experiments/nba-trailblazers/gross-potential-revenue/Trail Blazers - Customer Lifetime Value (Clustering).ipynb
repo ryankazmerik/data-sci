{
 "cells": [
  {
   "cell_type": "markdown",
   "id": "61037526-75ba-4674-a31e-d5e2e805f26b",
   "metadata": {},
   "source": [
    "# Portland Trail Blazers - Customer Lifetime Value (Clustering)\n",
    "* StelllarAlgo Data Science\n",
    "* Ryan Kazmerik\n",
    "* Jul 15, 2022"
   ]
  },
  {
   "cell_type": "code",
   "execution_count": 1,
   "id": "573b8578-5434-4dae-9311-eb051fb342f2",
   "metadata": {},
   "outputs": [],
   "source": [
    "import matplotlib.pyplot as plt\n",
    "import numpy as np \n",
    "import pandas as pd\n",
    "\n",
    "#from pandas_profiling import ProfileReport"
   ]
  },
  {
   "cell_type": "markdown",
   "id": "5dab8fed",
   "metadata": {},
   "source": [
    "## Data Wrangling\n",
    "\n",
    "For our experiment, we need two datasets:\n",
    "1. Fans who have bought tickets to a Trail Blazers game. We can get this from our Trail Blazers StellarAlgo tables.\n",
    "2. Fans who have engaged with the Trail Blazers via streaming, or gaming data. This we can get from our dataset provided by the NBA."
   ]
  },
  {
   "cell_type": "markdown",
   "id": "726e120d",
   "metadata": {},
   "source": [
    "### PTB Ticketing Dataset"
   ]
  },
  {
   "cell_type": "code",
   "execution_count": 2,
   "id": "5cf07a70-9e64-48e6-9108-79795ca445b8",
   "metadata": {},
   "outputs": [
    {
     "name": "stdout",
     "output_type": "stream",
     "text": [
      "<class 'pandas.core.frame.DataFrame'>\n",
      "RangeIndex: 1975722 entries, 0 to 1975721\n",
      "Data columns (total 11 columns):\n",
      " #   Column               Dtype  \n",
      "---  ------               -----  \n",
      " 0   dimcustomermasterid  int64  \n",
      " 1   purchasedate         object \n",
      " 2   ticketcount          int64  \n",
      " 3   revenue              float64\n",
      " 4   isplanproduct        bool   \n",
      " 5   producttype          object \n",
      " 6   subproductname       object \n",
      " 7   seasonyear           int64  \n",
      " 8   country              object \n",
      " 9   stateprovince        object \n",
      " 10  zippostal            object \n",
      "dtypes: bool(1), float64(1), int64(3), object(6)\n",
      "memory usage: 152.6+ MB\n"
     ]
    }
   ],
   "source": [
    "\"\"\"\n",
    "    data/ptb_cohort_purchase.csv contains data from the following query:\n",
    "\n",
    "    SELECT p.dimcustomermasterid, p.purchasedate, p.ticketcount, p.revenue, p.isplanproduct, p.producttype, p.subproductname, p.seasonyear,\n",
    "       c.dimcustomermasterid, c.country, c.stateprovince, c.zippostal \n",
    "    FROM \"ptb_cohort_purchase\"  p \n",
    "    INNER JOIN \"ptb_dim_customer_master\" c\n",
    "    ON p.dimcustomermasterid = c.dimcustomermasterid\n",
    "\"\"\"\n",
    "\n",
    "df = pd.read_csv(\"./data/ptb_cohort_purchase.csv\")\n",
    "df.info()"
   ]
  },
  {
   "cell_type": "code",
   "execution_count": 3,
   "id": "7a1e3978",
   "metadata": {},
   "outputs": [
    {
     "data": {
      "text/html": [
       "<div>\n",
       "<style scoped>\n",
       "    .dataframe tbody tr th:only-of-type {\n",
       "        vertical-align: middle;\n",
       "    }\n",
       "\n",
       "    .dataframe tbody tr th {\n",
       "        vertical-align: top;\n",
       "    }\n",
       "\n",
       "    .dataframe thead th {\n",
       "        text-align: right;\n",
       "    }\n",
       "</style>\n",
       "<table border=\"1\" class=\"dataframe\">\n",
       "  <thead>\n",
       "    <tr style=\"text-align: right;\">\n",
       "      <th></th>\n",
       "      <th>dimcustomermasterid</th>\n",
       "      <th>purchasedate</th>\n",
       "      <th>ticketcount</th>\n",
       "      <th>revenue</th>\n",
       "      <th>isplanproduct</th>\n",
       "      <th>producttype</th>\n",
       "      <th>subproductname</th>\n",
       "      <th>seasonyear</th>\n",
       "      <th>country</th>\n",
       "      <th>stateprovince</th>\n",
       "      <th>zippostal</th>\n",
       "    </tr>\n",
       "  </thead>\n",
       "  <tbody>\n",
       "    <tr>\n",
       "      <th>0</th>\n",
       "      <td>702748196</td>\n",
       "      <td>2017-02-06</td>\n",
       "      <td>2</td>\n",
       "      <td>68.0</td>\n",
       "      <td>True</td>\n",
       "      <td>Package</td>\n",
       "      <td>Full Season</td>\n",
       "      <td>2017</td>\n",
       "      <td>USA</td>\n",
       "      <td>OR</td>\n",
       "      <td>97123-4016</td>\n",
       "    </tr>\n",
       "    <tr>\n",
       "      <th>1</th>\n",
       "      <td>702748196</td>\n",
       "      <td>2017-02-06</td>\n",
       "      <td>2</td>\n",
       "      <td>68.0</td>\n",
       "      <td>True</td>\n",
       "      <td>Package</td>\n",
       "      <td>Full Season</td>\n",
       "      <td>2017</td>\n",
       "      <td>USA</td>\n",
       "      <td>OR</td>\n",
       "      <td>97123-4016</td>\n",
       "    </tr>\n",
       "    <tr>\n",
       "      <th>2</th>\n",
       "      <td>702748196</td>\n",
       "      <td>2017-02-06</td>\n",
       "      <td>2</td>\n",
       "      <td>68.0</td>\n",
       "      <td>True</td>\n",
       "      <td>Package</td>\n",
       "      <td>Full Season</td>\n",
       "      <td>2017</td>\n",
       "      <td>USA</td>\n",
       "      <td>OR</td>\n",
       "      <td>97123-4016</td>\n",
       "    </tr>\n",
       "    <tr>\n",
       "      <th>3</th>\n",
       "      <td>702748196</td>\n",
       "      <td>2017-02-06</td>\n",
       "      <td>2</td>\n",
       "      <td>302.4</td>\n",
       "      <td>True</td>\n",
       "      <td>Package</td>\n",
       "      <td>Full Season</td>\n",
       "      <td>2017</td>\n",
       "      <td>USA</td>\n",
       "      <td>OR</td>\n",
       "      <td>97123-4016</td>\n",
       "    </tr>\n",
       "    <tr>\n",
       "      <th>4</th>\n",
       "      <td>702748196</td>\n",
       "      <td>2017-02-06</td>\n",
       "      <td>2</td>\n",
       "      <td>68.0</td>\n",
       "      <td>True</td>\n",
       "      <td>Package</td>\n",
       "      <td>Full Season</td>\n",
       "      <td>2017</td>\n",
       "      <td>USA</td>\n",
       "      <td>OR</td>\n",
       "      <td>97123-4016</td>\n",
       "    </tr>\n",
       "  </tbody>\n",
       "</table>\n",
       "</div>"
      ],
      "text/plain": [
       "   dimcustomermasterid purchasedate  ticketcount  revenue  isplanproduct  \\\n",
       "0            702748196   2017-02-06            2     68.0           True   \n",
       "1            702748196   2017-02-06            2     68.0           True   \n",
       "2            702748196   2017-02-06            2     68.0           True   \n",
       "3            702748196   2017-02-06            2    302.4           True   \n",
       "4            702748196   2017-02-06            2     68.0           True   \n",
       "\n",
       "  producttype subproductname  seasonyear country stateprovince   zippostal  \n",
       "0     Package    Full Season        2017     USA            OR  97123-4016  \n",
       "1     Package    Full Season        2017     USA            OR  97123-4016  \n",
       "2     Package    Full Season        2017     USA            OR  97123-4016  \n",
       "3     Package    Full Season        2017     USA            OR  97123-4016  \n",
       "4     Package    Full Season        2017     USA            OR  97123-4016  "
      ]
     },
     "execution_count": 3,
     "metadata": {},
     "output_type": "execute_result"
    }
   ],
   "source": [
    "df.head()"
   ]
  },
  {
   "cell_type": "markdown",
   "id": "d25bb5f5",
   "metadata": {},
   "source": [
    "### PTB Engagement Dataset"
   ]
  },
  {
   "cell_type": "code",
   "execution_count": 4,
   "id": "36992be0",
   "metadata": {},
   "outputs": [
    {
     "name": "stdout",
     "output_type": "stream",
     "text": [
      "<class 'pandas.core.frame.DataFrame'>\n",
      "RangeIndex: 1671077 entries, 0 to 1671076\n",
      "Data columns (total 2 columns):\n",
      " #   Column               Non-Null Count    Dtype \n",
      "---  ------               --------------    ----- \n",
      " 0   dimcustomermasterid  1671077 non-null  int64 \n",
      " 1   entity_source        402626 non-null   object\n",
      "dtypes: int64(1), object(1)\n",
      "memory usage: 25.5+ MB\n"
     ]
    }
   ],
   "source": [
    "\"\"\"\n",
    "  data/ptb_nba_engagement.parquet contains data from the following query:\n",
    "\n",
    "  SELECT dimcustomermasterid, entity_source\n",
    "  FROM \"league-nba-poc\".\"tagged_customer_master\";\n",
    "\"\"\"\n",
    "\n",
    "df2 = pd.read_csv(\"./data/ptb_nba_engagement.csv\")\n",
    "df2.info()"
   ]
  },
  {
   "cell_type": "markdown",
   "id": "d98242dd",
   "metadata": {},
   "source": [
    "## Data Preprocessing"
   ]
  },
  {
   "cell_type": "markdown",
   "id": "ea0f7929",
   "metadata": {},
   "source": [
    "For our analysis we will only consider **non-package buyers**, let's see how much data we have for NP buyers and what sub-products are included:"
   ]
  },
  {
   "cell_type": "code",
   "execution_count": 5,
   "id": "2caadb5a",
   "metadata": {},
   "outputs": [
    {
     "data": {
      "text/plain": [
       "True     1017544\n",
       "False     958178\n",
       "Name: isplanproduct, dtype: int64"
      ]
     },
     "execution_count": 5,
     "metadata": {},
     "output_type": "execute_result"
    }
   ],
   "source": [
    "df['isplanproduct'].value_counts()"
   ]
  },
  {
   "cell_type": "markdown",
   "id": "9d116b0b",
   "metadata": {},
   "source": [
    "Remove the rows where isplanproduct = True:"
   ]
  },
  {
   "cell_type": "code",
   "execution_count": 6,
   "id": "77c5240d",
   "metadata": {},
   "outputs": [
    {
     "name": "stdout",
     "output_type": "stream",
     "text": [
      "<class 'pandas.core.frame.DataFrame'>\n",
      "Int64Index: 958178 entries, 20 to 1975699\n",
      "Data columns (total 10 columns):\n",
      " #   Column               Non-Null Count   Dtype  \n",
      "---  ------               --------------   -----  \n",
      " 0   dimcustomermasterid  958178 non-null  int64  \n",
      " 1   purchasedate         958178 non-null  object \n",
      " 2   ticketcount          958178 non-null  int64  \n",
      " 3   revenue              411459 non-null  float64\n",
      " 4   producttype          958178 non-null  object \n",
      " 5   subproductname       958178 non-null  object \n",
      " 6   seasonyear           958178 non-null  int64  \n",
      " 7   country              936062 non-null  object \n",
      " 8   stateprovince        608520 non-null  object \n",
      " 9   zippostal            707654 non-null  object \n",
      "dtypes: float64(1), int64(3), object(6)\n",
      "memory usage: 80.4+ MB\n"
     ]
    }
   ],
   "source": [
    "df = df[df['isplanproduct'] == False]\n",
    "\n",
    "df.drop(columns=[\"isplanproduct\"], inplace=True)\n",
    "\n",
    "df.info()"
   ]
  },
  {
   "cell_type": "markdown",
   "id": "5c8d230e",
   "metadata": {},
   "source": [
    "Let's include data from 2018 to present in our analysis:"
   ]
  },
  {
   "cell_type": "code",
   "execution_count": 7,
   "id": "8dad8040",
   "metadata": {},
   "outputs": [
    {
     "data": {
      "text/plain": [
       "(799757, 10)"
      ]
     },
     "execution_count": 7,
     "metadata": {},
     "output_type": "execute_result"
    }
   ],
   "source": [
    "df = df[df[\"seasonyear\"] >= 2018]\n",
    "df.shape"
   ]
  },
  {
   "cell_type": "markdown",
   "id": "87cb9674",
   "metadata": {},
   "source": [
    "We'll also have a look at the included product and subproduct types:"
   ]
  },
  {
   "cell_type": "code",
   "execution_count": 8,
   "id": "4ac8ec5e",
   "metadata": {},
   "outputs": [
    {
     "data": {
      "text/plain": [
       "Individual    691929\n",
       "Comp           58778\n",
       "Other          49050\n",
       "Name: producttype, dtype: int64"
      ]
     },
     "execution_count": 8,
     "metadata": {},
     "output_type": "execute_result"
    }
   ],
   "source": [
    "df[\"producttype\"].value_counts()"
   ]
  },
  {
   "cell_type": "code",
   "execution_count": 9,
   "id": "18fb76ca",
   "metadata": {},
   "outputs": [
    {
     "data": {
      "text/plain": [
       "Individual           691301\n",
       "Comp                  58012\n",
       "Group                 31173\n",
       "Suite                 13225\n",
       "Deposit                1847\n",
       "Group Broker           1459\n",
       "Suite Broker           1345\n",
       "Comp Broker             766\n",
       "Individual Broker       628\n",
       "Deposit Broker            1\n",
       "Name: subproductname, dtype: int64"
      ]
     },
     "execution_count": 9,
     "metadata": {},
     "output_type": "execute_result"
    }
   ],
   "source": [
    "df[\"subproductname\"].value_counts()"
   ]
  },
  {
   "cell_type": "markdown",
   "id": "6e607771",
   "metadata": {},
   "source": [
    "Let's remove the broker records so we are looking at actual customers:"
   ]
  },
  {
   "cell_type": "code",
   "execution_count": 10,
   "id": "f2915acd",
   "metadata": {},
   "outputs": [
    {
     "data": {
      "text/plain": [
       "Individual    691301\n",
       "Name: subproductname, dtype: int64"
      ]
     },
     "execution_count": 10,
     "metadata": {},
     "output_type": "execute_result"
    }
   ],
   "source": [
    "df = df[df[\"subproductname\"].isin([\"Individual\"])]\n",
    "df.reset_index(drop=True, inplace=True)\n",
    "\n",
    "df[\"subproductname\"].value_counts()"
   ]
  },
  {
   "cell_type": "code",
   "execution_count": 11,
   "id": "c72ea2d4",
   "metadata": {},
   "outputs": [
    {
     "data": {
      "text/html": [
       "<div>\n",
       "<style scoped>\n",
       "    .dataframe tbody tr th:only-of-type {\n",
       "        vertical-align: middle;\n",
       "    }\n",
       "\n",
       "    .dataframe tbody tr th {\n",
       "        vertical-align: top;\n",
       "    }\n",
       "\n",
       "    .dataframe thead th {\n",
       "        text-align: right;\n",
       "    }\n",
       "</style>\n",
       "<table border=\"1\" class=\"dataframe\">\n",
       "  <thead>\n",
       "    <tr style=\"text-align: right;\">\n",
       "      <th></th>\n",
       "      <th>dimcustomermasterid</th>\n",
       "      <th>purchasedate</th>\n",
       "      <th>ticketcount</th>\n",
       "      <th>revenue</th>\n",
       "      <th>producttype</th>\n",
       "      <th>subproductname</th>\n",
       "      <th>seasonyear</th>\n",
       "      <th>country</th>\n",
       "      <th>stateprovince</th>\n",
       "      <th>zippostal</th>\n",
       "    </tr>\n",
       "  </thead>\n",
       "  <tbody>\n",
       "    <tr>\n",
       "      <th>0</th>\n",
       "      <td>486156197</td>\n",
       "      <td>2021-10-06</td>\n",
       "      <td>2</td>\n",
       "      <td>61.2</td>\n",
       "      <td>Individual</td>\n",
       "      <td>Individual</td>\n",
       "      <td>2021</td>\n",
       "      <td>USA</td>\n",
       "      <td>OR</td>\n",
       "      <td>97086</td>\n",
       "    </tr>\n",
       "    <tr>\n",
       "      <th>1</th>\n",
       "      <td>612548146</td>\n",
       "      <td>2021-10-21</td>\n",
       "      <td>2</td>\n",
       "      <td>276.0</td>\n",
       "      <td>Individual</td>\n",
       "      <td>Individual</td>\n",
       "      <td>2021</td>\n",
       "      <td>US</td>\n",
       "      <td>IL</td>\n",
       "      <td>60069</td>\n",
       "    </tr>\n",
       "    <tr>\n",
       "      <th>2</th>\n",
       "      <td>612743431</td>\n",
       "      <td>2019-09-06</td>\n",
       "      <td>4</td>\n",
       "      <td>712.0</td>\n",
       "      <td>Individual</td>\n",
       "      <td>Individual</td>\n",
       "      <td>2019</td>\n",
       "      <td>CA</td>\n",
       "      <td>BC</td>\n",
       "      <td>V5V2K8</td>\n",
       "    </tr>\n",
       "    <tr>\n",
       "      <th>3</th>\n",
       "      <td>612750999</td>\n",
       "      <td>2021-12-09</td>\n",
       "      <td>2</td>\n",
       "      <td>110.0</td>\n",
       "      <td>Individual</td>\n",
       "      <td>Individual</td>\n",
       "      <td>2021</td>\n",
       "      <td>US</td>\n",
       "      <td>WA</td>\n",
       "      <td>98270-3559</td>\n",
       "    </tr>\n",
       "    <tr>\n",
       "      <th>4</th>\n",
       "      <td>616770053</td>\n",
       "      <td>2021-10-29</td>\n",
       "      <td>4</td>\n",
       "      <td>20.0</td>\n",
       "      <td>Individual</td>\n",
       "      <td>Individual</td>\n",
       "      <td>2021</td>\n",
       "      <td>USA</td>\n",
       "      <td>NaN</td>\n",
       "      <td>97128</td>\n",
       "    </tr>\n",
       "    <tr>\n",
       "      <th>5</th>\n",
       "      <td>619838265</td>\n",
       "      <td>2021-10-06</td>\n",
       "      <td>3</td>\n",
       "      <td>351.0</td>\n",
       "      <td>Individual</td>\n",
       "      <td>Individual</td>\n",
       "      <td>2021</td>\n",
       "      <td>US</td>\n",
       "      <td>CA</td>\n",
       "      <td>95233</td>\n",
       "    </tr>\n",
       "    <tr>\n",
       "      <th>6</th>\n",
       "      <td>376854573</td>\n",
       "      <td>2021-10-25</td>\n",
       "      <td>4</td>\n",
       "      <td>176.0</td>\n",
       "      <td>Individual</td>\n",
       "      <td>Individual</td>\n",
       "      <td>2021</td>\n",
       "      <td>US</td>\n",
       "      <td>OR</td>\n",
       "      <td>97206</td>\n",
       "    </tr>\n",
       "    <tr>\n",
       "      <th>7</th>\n",
       "      <td>472433859</td>\n",
       "      <td>2019-09-06</td>\n",
       "      <td>2</td>\n",
       "      <td>12.0</td>\n",
       "      <td>Individual</td>\n",
       "      <td>Individual</td>\n",
       "      <td>2019</td>\n",
       "      <td>USA</td>\n",
       "      <td>OR</td>\n",
       "      <td>97236</td>\n",
       "    </tr>\n",
       "    <tr>\n",
       "      <th>8</th>\n",
       "      <td>472439529</td>\n",
       "      <td>2022-02-04</td>\n",
       "      <td>4</td>\n",
       "      <td>76.0</td>\n",
       "      <td>Individual</td>\n",
       "      <td>Individual</td>\n",
       "      <td>2021</td>\n",
       "      <td>USA</td>\n",
       "      <td>OR</td>\n",
       "      <td>97006</td>\n",
       "    </tr>\n",
       "    <tr>\n",
       "      <th>9</th>\n",
       "      <td>472441684</td>\n",
       "      <td>2022-03-24</td>\n",
       "      <td>3</td>\n",
       "      <td>15.0</td>\n",
       "      <td>Individual</td>\n",
       "      <td>Individual</td>\n",
       "      <td>2021</td>\n",
       "      <td>US</td>\n",
       "      <td>OR</td>\n",
       "      <td>97106</td>\n",
       "    </tr>\n",
       "  </tbody>\n",
       "</table>\n",
       "</div>"
      ],
      "text/plain": [
       "   dimcustomermasterid purchasedate  ticketcount  revenue producttype  \\\n",
       "0            486156197   2021-10-06            2     61.2  Individual   \n",
       "1            612548146   2021-10-21            2    276.0  Individual   \n",
       "2            612743431   2019-09-06            4    712.0  Individual   \n",
       "3            612750999   2021-12-09            2    110.0  Individual   \n",
       "4            616770053   2021-10-29            4     20.0  Individual   \n",
       "5            619838265   2021-10-06            3    351.0  Individual   \n",
       "6            376854573   2021-10-25            4    176.0  Individual   \n",
       "7            472433859   2019-09-06            2     12.0  Individual   \n",
       "8            472439529   2022-02-04            4     76.0  Individual   \n",
       "9            472441684   2022-03-24            3     15.0  Individual   \n",
       "\n",
       "  subproductname  seasonyear country stateprovince   zippostal  \n",
       "0     Individual        2021     USA            OR       97086  \n",
       "1     Individual        2021      US            IL       60069  \n",
       "2     Individual        2019      CA            BC      V5V2K8  \n",
       "3     Individual        2021      US            WA  98270-3559  \n",
       "4     Individual        2021     USA           NaN       97128  \n",
       "5     Individual        2021      US            CA       95233  \n",
       "6     Individual        2021      US            OR       97206  \n",
       "7     Individual        2019     USA            OR       97236  \n",
       "8     Individual        2021     USA            OR       97006  \n",
       "9     Individual        2021      US            OR       97106  "
      ]
     },
     "execution_count": 11,
     "metadata": {},
     "output_type": "execute_result"
    }
   ],
   "source": [
    "df.head(10)"
   ]
  },
  {
   "cell_type": "markdown",
   "id": "10f35c85-4ba4-4bdd-8238-3dc41da2cb5a",
   "metadata": {},
   "source": [
    "## Exploratory Data Analysis (EDA)\n",
    "\n",
    "Let's have a look at the data and decide whether we need any data cleaning and data transformation for further analysis."
   ]
  },
  {
   "cell_type": "code",
   "execution_count": 12,
   "id": "17e6bdb6",
   "metadata": {},
   "outputs": [],
   "source": [
    "#profile = ProfileReport(df, minimal=True)\n",
    "#profile.to_file(\"pandas-profile-report.html\")"
   ]
  },
  {
   "cell_type": "markdown",
   "id": "4b8c8591",
   "metadata": {},
   "source": [
    "By reading the profiling report, we can see that the following actions should be taken to improve the dataset quality:\n",
    "* Remove missing values from revenue (33.3%)\n",
    "* Remove zero values from revenue (7.4%)"
   ]
  },
  {
   "cell_type": "code",
   "execution_count": 13,
   "id": "fb7630f5",
   "metadata": {},
   "outputs": [
    {
     "data": {
      "text/plain": [
       "0"
      ]
     },
     "execution_count": 13,
     "metadata": {},
     "output_type": "execute_result"
    }
   ],
   "source": [
    "df.dropna(subset=['revenue'], inplace=True)\n",
    "df['revenue'].isnull().sum()"
   ]
  },
  {
   "cell_type": "markdown",
   "id": "0c61392c",
   "metadata": {},
   "source": [
    "Let's also drop any rows where revenue = 0, and then check the value counts to ensure the zero values are gone"
   ]
  },
  {
   "cell_type": "code",
   "execution_count": 14,
   "id": "f8308914",
   "metadata": {},
   "outputs": [
    {
     "data": {
      "text/plain": [
       "(-0.001, 1000.0]       198888\n",
       "(1000.0, 10000.0]        4225\n",
       "(10000.0, 100000.0]        17\n",
       "Name: revenue, dtype: int64"
      ]
     },
     "execution_count": 14,
     "metadata": {},
     "output_type": "execute_result"
    }
   ],
   "source": [
    "df = df[df['revenue'] > 0]\n",
    "df['revenue'].value_counts(bins=[0, 1000, 10000, 100000])"
   ]
  },
  {
   "cell_type": "markdown",
   "id": "52e37e52",
   "metadata": {},
   "source": [
    "### Data Types\n",
    "\n",
    "Let's look at the data types in our dataframe to see if we need to convert any values to a different type"
   ]
  },
  {
   "cell_type": "code",
   "execution_count": 15,
   "id": "bd104e2f",
   "metadata": {},
   "outputs": [
    {
     "data": {
      "text/plain": [
       "dimcustomermasterid      int64\n",
       "purchasedate            object\n",
       "ticketcount              int64\n",
       "revenue                float64\n",
       "producttype             object\n",
       "subproductname          object\n",
       "seasonyear               int64\n",
       "country                 object\n",
       "stateprovince           object\n",
       "zippostal               object\n",
       "dtype: object"
      ]
     },
     "execution_count": 15,
     "metadata": {},
     "output_type": "execute_result"
    }
   ],
   "source": [
    "df.dtypes"
   ]
  },
  {
   "cell_type": "markdown",
   "id": "d6d5d591",
   "metadata": {},
   "source": [
    "Purchase date should be a datetime not an object (string), all of the other inferred data types look correct"
   ]
  },
  {
   "cell_type": "code",
   "execution_count": 16,
   "id": "1344b285",
   "metadata": {},
   "outputs": [],
   "source": [
    "df['purchasedate'] =  pd.to_datetime(df['purchasedate'], format='%Y-%m-%d')"
   ]
  },
  {
   "cell_type": "markdown",
   "id": "5c789725",
   "metadata": {},
   "source": [
    "## Customer Segmentation\n",
    "\n",
    "**RFM** stands for Recency - Frequency - Monetary Value. Theoretically we will have segments like below:\n",
    "\n",
    "* Low Value: Customers who are less active than others, not very frequent buyer/visitor and generates very low - zero - maybe negative revenue.\n",
    "\n",
    "* Mid Value: In the middle of everything. Often purchasing (but not as much as our High Values), fairly frequent and generates moderate revenue.\n",
    "\n",
    "* High Value: The group we don’t want to lose. High Revenue, Frequency and low Inactivity."
   ]
  },
  {
   "cell_type": "markdown",
   "id": "96c59e92",
   "metadata": {},
   "source": [
    "### Recency\n",
    "\n",
    "To calculate recency, we need to find out most recent purchase date of each customer and see how many days they are inactive for. After having no. of inactive days for each customer, we will apply K-means* clustering to assign customers a recency score."
   ]
  },
  {
   "cell_type": "code",
   "execution_count": 17,
   "id": "6ded0fac",
   "metadata": {},
   "outputs": [
    {
     "data": {
      "text/html": [
       "<div>\n",
       "<style scoped>\n",
       "    .dataframe tbody tr th:only-of-type {\n",
       "        vertical-align: middle;\n",
       "    }\n",
       "\n",
       "    .dataframe tbody tr th {\n",
       "        vertical-align: top;\n",
       "    }\n",
       "\n",
       "    .dataframe thead th {\n",
       "        text-align: right;\n",
       "    }\n",
       "</style>\n",
       "<table border=\"1\" class=\"dataframe\">\n",
       "  <thead>\n",
       "    <tr style=\"text-align: right;\">\n",
       "      <th></th>\n",
       "      <th>dimcustomermasterid</th>\n",
       "      <th>recency</th>\n",
       "    </tr>\n",
       "  </thead>\n",
       "  <tbody>\n",
       "    <tr>\n",
       "      <th>0</th>\n",
       "      <td>486156197</td>\n",
       "      <td>105</td>\n",
       "    </tr>\n",
       "    <tr>\n",
       "      <th>1</th>\n",
       "      <td>612548146</td>\n",
       "      <td>172</td>\n",
       "    </tr>\n",
       "    <tr>\n",
       "      <th>2</th>\n",
       "      <td>612743431</td>\n",
       "      <td>948</td>\n",
       "    </tr>\n",
       "    <tr>\n",
       "      <th>3</th>\n",
       "      <td>612750999</td>\n",
       "      <td>123</td>\n",
       "    </tr>\n",
       "    <tr>\n",
       "      <th>4</th>\n",
       "      <td>616770053</td>\n",
       "      <td>164</td>\n",
       "    </tr>\n",
       "  </tbody>\n",
       "</table>\n",
       "</div>"
      ],
      "text/plain": [
       "   dimcustomermasterid  recency\n",
       "0            486156197      105\n",
       "1            612548146      172\n",
       "2            612743431      948\n",
       "3            612750999      123\n",
       "4            616770053      164"
      ]
     },
     "execution_count": 17,
     "metadata": {},
     "output_type": "execute_result"
    }
   ],
   "source": [
    "# create a generic user dataframe to keep dimcustomermasterid and new segmentation scores\n",
    "df_customer = pd.DataFrame(df['dimcustomermasterid'].unique())\n",
    "df_customer.columns = ['dimcustomermasterid']\n",
    "\n",
    "# get the max purchase date for each customer and create a dataframe with it\n",
    "df_max_purchase = df.groupby('dimcustomermasterid')[\"purchasedate\"].max().reset_index()\n",
    "df_max_purchase.columns = ['dimcustomermasterid','maxpurchasedate']\n",
    "\n",
    "# we take our observation point as the max invoice date in our dataset\n",
    "df_max_purchase['recency'] = (df_max_purchase['maxpurchasedate'].max() - df_max_purchase['maxpurchasedate']).dt.days\n",
    "\n",
    "#merge this dataframe to our new user dataframe\n",
    "df_customer = pd.merge(df_customer, df_max_purchase[['dimcustomermasterid','recency']], on='dimcustomermasterid')\n",
    "\n",
    "df_customer.head()"
   ]
  },
  {
   "cell_type": "code",
   "execution_count": 18,
   "id": "7498fc94",
   "metadata": {},
   "outputs": [
    {
     "data": {
      "text/plain": [
       "count    122337.000000\n",
       "mean        661.077254\n",
       "std         464.529627\n",
       "min           0.000000\n",
       "25%         149.000000\n",
       "50%         820.000000\n",
       "75%        1134.000000\n",
       "max        1406.000000\n",
       "Name: recency, dtype: float64"
      ]
     },
     "execution_count": 18,
     "metadata": {},
     "output_type": "execute_result"
    }
   ],
   "source": [
    "df_customer[\"recency\"].describe()"
   ]
  },
  {
   "cell_type": "code",
   "execution_count": 19,
   "id": "ef1f287d",
   "metadata": {},
   "outputs": [
    {
     "data": {
      "image/png": "[encoded data removed]",
      "text/plain": [
       "<Figure size 432x288 with 1 Axes>"
      ]
     },
     "metadata": {
      "needs_background": "light"
     },
     "output_type": "display_data"
    }
   ],
   "source": [
    "plt.hist(df_customer[\"recency\"], bins=50, color=\"dodgerblue\", edgecolor=\"black\")\n",
    "plt.title(\"Recency by Customer\")\n",
    "plt.ylabel(\"No. Customers\")\n",
    "plt.xlabel(\"Recency (days)\")\n",
    "plt.rcParams[\"figure.figsize\"] = (20,5)\n",
    "\n",
    "plt.show()"
   ]
  },
  {
   "cell_type": "markdown",
   "id": "c88f58f2",
   "metadata": {},
   "source": [
    "We can observe a large gap in purchasing behaviour between ~850 - 500 days ago, which aligns with when COVID-19 was declared a global pandemic. There's not much we can do to fill in that gap."
   ]
  },
  {
   "cell_type": "markdown",
   "id": "0901453c",
   "metadata": {},
   "source": [
    "### Clustering Recency\n",
    "\n",
    "We are going to apply K-means clustering to assign a recency score. We will use the elbow method to determine how many clusters we need:"
   ]
  },
  {
   "cell_type": "code",
   "execution_count": 20,
   "id": "a6fb7741",
   "metadata": {},
   "outputs": [
    {
     "data": {
      "image/png": "[encoded data removed]",
      "text/plain": [
       "<Figure size 1440x360 with 1 Axes>"
      ]
     },
     "metadata": {
      "needs_background": "light"
     },
     "output_type": "display_data"
    }
   ],
   "source": [
    "from sklearn.cluster import KMeans\n",
    "\n",
    "cluster_dict={}\n",
    "df_recency = df_customer[['recency']]\n",
    "\n",
    "for k in range(1, 10):\n",
    "    kmeans = KMeans(n_clusters=k, max_iter=1000).fit(df_recency)\n",
    "    df_recency[\"clusters\"] = kmeans.labels_\n",
    "    cluster_dict[k] = kmeans.inertia_ \n",
    "\n",
    "plt.figure()\n",
    "plt.plot(list(cluster_dict.keys()), list(cluster_dict.values()))\n",
    "plt.xlabel(\"Number of cluster\")\n",
    "plt.show()"
   ]
  },
  {
   "cell_type": "markdown",
   "id": "ab1ef142",
   "metadata": {},
   "source": [
    "Here it looks like 3 is the optimal number of clusters"
   ]
  },
  {
   "cell_type": "code",
   "execution_count": 21,
   "id": "210060ba",
   "metadata": {},
   "outputs": [],
   "source": [
    "# build 3 clusters for recency and add it to dataframe\n",
    "kmeans = KMeans(n_clusters=3)\n",
    "kmeans.fit(df_customer[['recency']])\n",
    "df_customer['recencycluster'] = kmeans.predict(df_customer[['recency']])\n",
    "\n",
    "#function for ordering clusters from worst to best\n",
    "def order_cluster(cluster_field_name, target_field_name,df,ascending):\n",
    "    \n",
    "    df_new = df.groupby(cluster_field_name)[target_field_name].mean().reset_index()\n",
    "    df_new = df_new.sort_values(by=target_field_name,ascending=ascending).reset_index(drop=True)\n",
    "    df_new['index'] = df_new.index\n",
    "    df_final = pd.merge(df,df_new[[cluster_field_name,'index']], on=cluster_field_name)\n",
    "    df_final = df_final.drop([cluster_field_name],axis=1)\n",
    "    df_final = df_final.rename(columns={\"index\":cluster_field_name})\n",
    "    \n",
    "    return df_final\n",
    "\n",
    "df_customer = order_cluster('recencycluster', 'recency', df_customer, False)"
   ]
  },
  {
   "cell_type": "code",
   "execution_count": 22,
   "id": "bad2e278",
   "metadata": {},
   "outputs": [
    {
     "data": {
      "text/html": [
       "<div>\n",
       "<style scoped>\n",
       "    .dataframe tbody tr th:only-of-type {\n",
       "        vertical-align: middle;\n",
       "    }\n",
       "\n",
       "    .dataframe tbody tr th {\n",
       "        vertical-align: top;\n",
       "    }\n",
       "\n",
       "    .dataframe thead th {\n",
       "        text-align: right;\n",
       "    }\n",
       "</style>\n",
       "<table border=\"1\" class=\"dataframe\">\n",
       "  <thead>\n",
       "    <tr style=\"text-align: right;\">\n",
       "      <th></th>\n",
       "      <th>count</th>\n",
       "      <th>mean</th>\n",
       "      <th>std</th>\n",
       "      <th>min</th>\n",
       "      <th>25%</th>\n",
       "      <th>50%</th>\n",
       "      <th>75%</th>\n",
       "      <th>max</th>\n",
       "    </tr>\n",
       "    <tr>\n",
       "      <th>recencycluster</th>\n",
       "      <th></th>\n",
       "      <th></th>\n",
       "      <th></th>\n",
       "      <th></th>\n",
       "      <th></th>\n",
       "      <th></th>\n",
       "      <th></th>\n",
       "      <th></th>\n",
       "    </tr>\n",
       "  </thead>\n",
       "  <tbody>\n",
       "    <tr>\n",
       "      <th>0</th>\n",
       "      <td>35344.0</td>\n",
       "      <td>1210.681247</td>\n",
       "      <td>56.618952</td>\n",
       "      <td>1096.0</td>\n",
       "      <td>1170.0</td>\n",
       "      <td>1212.0</td>\n",
       "      <td>1254.0</td>\n",
       "      <td>1406.0</td>\n",
       "    </tr>\n",
       "    <tr>\n",
       "      <th>1</th>\n",
       "      <td>36065.0</td>\n",
       "      <td>855.958686</td>\n",
       "      <td>56.434789</td>\n",
       "      <td>502.0</td>\n",
       "      <td>812.0</td>\n",
       "      <td>855.0</td>\n",
       "      <td>895.0</td>\n",
       "      <td>978.0</td>\n",
       "    </tr>\n",
       "    <tr>\n",
       "      <th>2</th>\n",
       "      <td>50928.0</td>\n",
       "      <td>141.645853</td>\n",
       "      <td>86.805924</td>\n",
       "      <td>0.0</td>\n",
       "      <td>76.0</td>\n",
       "      <td>133.0</td>\n",
       "      <td>175.0</td>\n",
       "      <td>497.0</td>\n",
       "    </tr>\n",
       "  </tbody>\n",
       "</table>\n",
       "</div>"
      ],
      "text/plain": [
       "                  count         mean        std     min     25%     50%  \\\n",
       "recencycluster                                                            \n",
       "0               35344.0  1210.681247  56.618952  1096.0  1170.0  1212.0   \n",
       "1               36065.0   855.958686  56.434789   502.0   812.0   855.0   \n",
       "2               50928.0   141.645853  86.805924     0.0    76.0   133.0   \n",
       "\n",
       "                   75%     max  \n",
       "recencycluster                  \n",
       "0               1254.0  1406.0  \n",
       "1                895.0   978.0  \n",
       "2                175.0   497.0  "
      ]
     },
     "execution_count": 22,
     "metadata": {},
     "output_type": "execute_result"
    }
   ],
   "source": [
    "df_customer.groupby('recencycluster')[\"recency\"].describe()"
   ]
  },
  {
   "cell_type": "markdown",
   "id": "b342c25c",
   "metadata": {},
   "source": [
    "### Frequency\n",
    "\n",
    "To create frequency clusters, we first need to find total number orders for each customer:"
   ]
  },
  {
   "cell_type": "code",
   "execution_count": 23,
   "id": "62b26f6a",
   "metadata": {},
   "outputs": [],
   "source": [
    "#get order counts for each user and create a dataframe with it\n",
    "df_frequency = df.groupby('dimcustomermasterid')[\"purchasedate\"].count().reset_index()\n",
    "df_frequency.columns = ['dimcustomermasterid','frequency']\n",
    "\n",
    "#add this data to our main dataframe\n",
    "df_customer = pd.merge(df_customer, df_frequency, on=\"dimcustomermasterid\")"
   ]
  },
  {
   "cell_type": "code",
   "execution_count": 24,
   "id": "082ab79c",
   "metadata": {},
   "outputs": [
    {
     "data": {
      "image/png": "[encoded data removed]",
      "text/plain": [
       "<Figure size 1440x360 with 1 Axes>"
      ]
     },
     "metadata": {
      "needs_background": "light"
     },
     "output_type": "display_data"
    }
   ],
   "source": [
    "plt.hist(df_customer[\"frequency\"], color=\"dodgerblue\", edgecolor=\"black\")\n",
    "plt.title(\"Frequency by Customer\")\n",
    "plt.ylabel(\"No. Customers\")\n",
    "plt.xlabel(\"No. Purchases\")\n",
    "plt.rcParams[\"figure.figsize\"] = (20,5)\n",
    "\n",
    "plt.show()"
   ]
  },
  {
   "cell_type": "code",
   "execution_count": 25,
   "id": "889ebcb3",
   "metadata": {},
   "outputs": [
    {
     "data": {
      "text/plain": [
       "(-0.001, 5.0]      118992\n",
       "(5.0, 10.0]          2487\n",
       "(10.0, 100.0]         843\n",
       "(100.0, 1000.0]        14\n",
       "Name: frequency, dtype: int64"
      ]
     },
     "execution_count": 25,
     "metadata": {},
     "output_type": "execute_result"
    }
   ],
   "source": [
    "df_customer[\"frequency\"].value_counts(bins=[0, 5, 10, 100, 1000])"
   ]
  },
  {
   "cell_type": "markdown",
   "id": "e10ef7b0",
   "metadata": {},
   "source": [
    "Most customers have a lower frequency, but a few big purchasers are also present in the data. Because this analysis is focused on the typical individual ticket buyer, let's remove these outliers:"
   ]
  },
  {
   "cell_type": "code",
   "execution_count": 26,
   "id": "ee017dc0",
   "metadata": {},
   "outputs": [],
   "source": [
    "df_customer = df_customer[df_customer[\"frequency\"] <= 10]"
   ]
  },
  {
   "cell_type": "code",
   "execution_count": 27,
   "id": "d4d7df03",
   "metadata": {},
   "outputs": [
    {
     "data": {
      "text/plain": [
       "count    121479.000000\n",
       "mean          1.482388\n",
       "std           1.158215\n",
       "min           1.000000\n",
       "25%           1.000000\n",
       "50%           1.000000\n",
       "75%           1.000000\n",
       "max          10.000000\n",
       "Name: frequency, dtype: float64"
      ]
     },
     "execution_count": 27,
     "metadata": {},
     "output_type": "execute_result"
    }
   ],
   "source": [
    "df_customer[\"frequency\"].describe()"
   ]
  },
  {
   "cell_type": "code",
   "execution_count": 28,
   "id": "d65719c8",
   "metadata": {},
   "outputs": [],
   "source": [
    "# build 3 clusters for frequency and add it to dataframe\n",
    "kmeans = KMeans(n_clusters=3)\n",
    "kmeans.fit(df_customer[['frequency']])\n",
    "df_customer['frequencycluster'] = kmeans.predict(df_customer[['frequency']])\n",
    "\n",
    "df_customer = order_cluster('frequencycluster', 'frequency', df_customer, True)"
   ]
  },
  {
   "cell_type": "code",
   "execution_count": 29,
   "id": "406b95e1",
   "metadata": {},
   "outputs": [
    {
     "data": {
      "text/html": [
       "<div>\n",
       "<style scoped>\n",
       "    .dataframe tbody tr th:only-of-type {\n",
       "        vertical-align: middle;\n",
       "    }\n",
       "\n",
       "    .dataframe tbody tr th {\n",
       "        vertical-align: top;\n",
       "    }\n",
       "\n",
       "    .dataframe thead th {\n",
       "        text-align: right;\n",
       "    }\n",
       "</style>\n",
       "<table border=\"1\" class=\"dataframe\">\n",
       "  <thead>\n",
       "    <tr style=\"text-align: right;\">\n",
       "      <th></th>\n",
       "      <th>count</th>\n",
       "      <th>mean</th>\n",
       "      <th>std</th>\n",
       "      <th>min</th>\n",
       "      <th>25%</th>\n",
       "      <th>50%</th>\n",
       "      <th>75%</th>\n",
       "      <th>max</th>\n",
       "    </tr>\n",
       "    <tr>\n",
       "      <th>frequencycluster</th>\n",
       "      <th></th>\n",
       "      <th></th>\n",
       "      <th></th>\n",
       "      <th></th>\n",
       "      <th></th>\n",
       "      <th></th>\n",
       "      <th></th>\n",
       "      <th></th>\n",
       "    </tr>\n",
       "  </thead>\n",
       "  <tbody>\n",
       "    <tr>\n",
       "      <th>0</th>\n",
       "      <td>91502.0</td>\n",
       "      <td>1.000000</td>\n",
       "      <td>0.000000</td>\n",
       "      <td>1.0</td>\n",
       "      <td>1.0</td>\n",
       "      <td>1.0</td>\n",
       "      <td>1.0</td>\n",
       "      <td>1.0</td>\n",
       "    </tr>\n",
       "    <tr>\n",
       "      <th>1</th>\n",
       "      <td>25996.0</td>\n",
       "      <td>2.420680</td>\n",
       "      <td>0.663141</td>\n",
       "      <td>2.0</td>\n",
       "      <td>2.0</td>\n",
       "      <td>2.0</td>\n",
       "      <td>3.0</td>\n",
       "      <td>4.0</td>\n",
       "    </tr>\n",
       "    <tr>\n",
       "      <th>2</th>\n",
       "      <td>3981.0</td>\n",
       "      <td>6.442854</td>\n",
       "      <td>1.536021</td>\n",
       "      <td>5.0</td>\n",
       "      <td>5.0</td>\n",
       "      <td>6.0</td>\n",
       "      <td>7.0</td>\n",
       "      <td>10.0</td>\n",
       "    </tr>\n",
       "  </tbody>\n",
       "</table>\n",
       "</div>"
      ],
      "text/plain": [
       "                    count      mean       std  min  25%  50%  75%   max\n",
       "frequencycluster                                                       \n",
       "0                 91502.0  1.000000  0.000000  1.0  1.0  1.0  1.0   1.0\n",
       "1                 25996.0  2.420680  0.663141  2.0  2.0  2.0  3.0   4.0\n",
       "2                  3981.0  6.442854  1.536021  5.0  5.0  6.0  7.0  10.0"
      ]
     },
     "execution_count": 29,
     "metadata": {},
     "output_type": "execute_result"
    }
   ],
   "source": [
    "df_customer.groupby('frequencycluster')[\"frequency\"].describe()"
   ]
  },
  {
   "cell_type": "markdown",
   "id": "44a24b0b",
   "metadata": {},
   "source": [
    "### Revenue\n",
    "\n",
    "Let’s add revenue to our dataset and cluster based on revenue:"
   ]
  },
  {
   "cell_type": "code",
   "execution_count": 30,
   "id": "df384364",
   "metadata": {},
   "outputs": [],
   "source": [
    "df_revenue = df.groupby(\"dimcustomermasterid\")[\"revenue\"].sum().reset_index()\n",
    "\n",
    "df_customer = pd.merge(df_customer, df_revenue, on=\"dimcustomermasterid\")"
   ]
  },
  {
   "cell_type": "code",
   "execution_count": 31,
   "id": "14150420",
   "metadata": {},
   "outputs": [
    {
     "data": {
      "image/png": "[encoded data removed]",
      "text/plain": [
       "<Figure size 1440x360 with 1 Axes>"
      ]
     },
     "metadata": {},
     "output_type": "display_data"
    }
   ],
   "source": [
    "plt.style.use('dark_background')\n",
    "plt.hist(df_customer[\"revenue\"], color=\"dodgerblue\", edgecolor=\"black\")\n",
    "plt.title(\"Revenue by Customer\")\n",
    "plt.ylabel(\"No. Customers\")\n",
    "plt.xlabel(\"Revenue ($)\")\n",
    "plt.rcParams[\"figure.figsize\"] = (20,5)\n",
    "\n",
    "plt.show()"
   ]
  },
  {
   "cell_type": "code",
   "execution_count": 32,
   "id": "e78b8d83",
   "metadata": {},
   "outputs": [
    {
     "data": {
      "text/plain": [
       "(100.0, 500.0]       64412\n",
       "(50.0, 100.0]        20217\n",
       "(-0.001, 50.0]       17315\n",
       "(500.0, 1000.0]      13260\n",
       "(1000.0, 5000.0]      6089\n",
       "(5000.0, 10000.0]      147\n",
       "Name: revenue, dtype: int64"
      ]
     },
     "execution_count": 32,
     "metadata": {},
     "output_type": "execute_result"
    }
   ],
   "source": [
    "df_customer[\"revenue\"].value_counts(bins=[0, 50, 100, 500, 1000, 5000, 10000])"
   ]
  },
  {
   "cell_type": "markdown",
   "id": "bc080a31",
   "metadata": {},
   "source": [
    "Again, a few big spenders are present in the dataset. Let's remove the outlier customers who spend generate significantly more revenue than most:"
   ]
  },
  {
   "cell_type": "code",
   "execution_count": 33,
   "id": "591da81d",
   "metadata": {},
   "outputs": [],
   "source": [
    "df_customer = df_customer[df_customer[\"revenue\"] <= 5000]"
   ]
  },
  {
   "cell_type": "code",
   "execution_count": 34,
   "id": "465be908",
   "metadata": {},
   "outputs": [
    {
     "data": {
      "text/plain": [
       "count    121293.000000\n",
       "mean        303.314970\n",
       "std         408.684054\n",
       "min           1.000000\n",
       "25%          80.280000\n",
       "50%         176.000000\n",
       "75%         357.020000\n",
       "max        5000.000000\n",
       "Name: revenue, dtype: float64"
      ]
     },
     "execution_count": 34,
     "metadata": {},
     "output_type": "execute_result"
    }
   ],
   "source": [
    "df_customer[\"revenue\"].describe()"
   ]
  },
  {
   "cell_type": "code",
   "execution_count": 35,
   "id": "d55df6a6",
   "metadata": {},
   "outputs": [],
   "source": [
    "# build 3 clusters for revenue and add it to dataframe\n",
    "kmeans = KMeans(n_clusters=3)\n",
    "kmeans.fit(df_customer[['revenue']])\n",
    "df_customer['revenuecluster'] = kmeans.predict(df_customer[['revenue']])\n",
    "\n",
    "df_customer = order_cluster('revenuecluster', 'revenue', df_customer, True)"
   ]
  },
  {
   "cell_type": "code",
   "execution_count": 36,
   "id": "0dc2c945",
   "metadata": {},
   "outputs": [
    {
     "data": {
      "text/html": [
       "<div>\n",
       "<style scoped>\n",
       "    .dataframe tbody tr th:only-of-type {\n",
       "        vertical-align: middle;\n",
       "    }\n",
       "\n",
       "    .dataframe tbody tr th {\n",
       "        vertical-align: top;\n",
       "    }\n",
       "\n",
       "    .dataframe thead th {\n",
       "        text-align: right;\n",
       "    }\n",
       "</style>\n",
       "<table border=\"1\" class=\"dataframe\">\n",
       "  <thead>\n",
       "    <tr style=\"text-align: right;\">\n",
       "      <th></th>\n",
       "      <th>count</th>\n",
       "      <th>mean</th>\n",
       "      <th>std</th>\n",
       "      <th>min</th>\n",
       "      <th>25%</th>\n",
       "      <th>50%</th>\n",
       "      <th>75%</th>\n",
       "      <th>max</th>\n",
       "    </tr>\n",
       "    <tr>\n",
       "      <th>revenuecluster</th>\n",
       "      <th></th>\n",
       "      <th></th>\n",
       "      <th></th>\n",
       "      <th></th>\n",
       "      <th></th>\n",
       "      <th></th>\n",
       "      <th></th>\n",
       "      <th></th>\n",
       "    </tr>\n",
       "  </thead>\n",
       "  <tbody>\n",
       "    <tr>\n",
       "      <th>0</th>\n",
       "      <td>100527.0</td>\n",
       "      <td>167.216214</td>\n",
       "      <td>119.380146</td>\n",
       "      <td>1.00</td>\n",
       "      <td>68.00</td>\n",
       "      <td>136.00</td>\n",
       "      <td>245.3</td>\n",
       "      <td>475.8</td>\n",
       "    </tr>\n",
       "    <tr>\n",
       "      <th>1</th>\n",
       "      <td>18461.0</td>\n",
       "      <td>784.209470</td>\n",
       "      <td>273.156402</td>\n",
       "      <td>476.00</td>\n",
       "      <td>564.00</td>\n",
       "      <td>695.76</td>\n",
       "      <td>936.6</td>\n",
       "      <td>1587.3</td>\n",
       "    </tr>\n",
       "    <tr>\n",
       "      <th>2</th>\n",
       "      <td>2305.0</td>\n",
       "      <td>2387.395766</td>\n",
       "      <td>752.778572</td>\n",
       "      <td>1587.78</td>\n",
       "      <td>1807.39</td>\n",
       "      <td>2129.66</td>\n",
       "      <td>2748.0</td>\n",
       "      <td>5000.0</td>\n",
       "    </tr>\n",
       "  </tbody>\n",
       "</table>\n",
       "</div>"
      ],
      "text/plain": [
       "                   count         mean         std      min      25%      50%  \\\n",
       "revenuecluster                                                                 \n",
       "0               100527.0   167.216214  119.380146     1.00    68.00   136.00   \n",
       "1                18461.0   784.209470  273.156402   476.00   564.00   695.76   \n",
       "2                 2305.0  2387.395766  752.778572  1587.78  1807.39  2129.66   \n",
       "\n",
       "                   75%     max  \n",
       "revenuecluster                  \n",
       "0                245.3   475.8  \n",
       "1                936.6  1587.3  \n",
       "2               2748.0  5000.0  "
      ]
     },
     "execution_count": 36,
     "metadata": {},
     "output_type": "execute_result"
    }
   ],
   "source": [
    "df_customer.groupby(\"revenuecluster\")[\"revenue\"].describe()"
   ]
  },
  {
   "cell_type": "markdown",
   "id": "94a1c86d",
   "metadata": {},
   "source": [
    "### Engagement\n",
    "\n",
    "Let's add a flag to show whether the fan has engaged with the team via purchasing a streaming subscription, or video game engagement provided by via the NBA dataset:"
   ]
  },
  {
   "cell_type": "code",
   "execution_count": 37,
   "id": "6ba44a60",
   "metadata": {},
   "outputs": [
    {
     "data": {
      "text/plain": [
       "0    118122\n",
       "1      3171\n",
       "Name: is_engaged, dtype: int64"
      ]
     },
     "execution_count": 37,
     "metadata": {},
     "output_type": "execute_result"
    }
   ],
   "source": [
    "\n",
    "# merge the NBA dataset with our customer dataset\n",
    "df_customer = pd.merge(df_customer, df2, on=\"dimcustomermasterid\")\n",
    "\n",
    "# create a flag based on the source of the record\n",
    "df_customer[\"is_engaged\"] = np.where(df_customer[\"entity_source\"] == \"PTB\", 1, 0)\n",
    "df_customer[\"is_engaged\"].value_counts()\n"
   ]
  },
  {
   "cell_type": "markdown",
   "id": "b2bad9a2",
   "metadata": {},
   "source": [
    "### Overall Score\n",
    "\n",
    "We have scores (cluster numbers) for recency, frequency & revenue, and our engagement score. Let’s create an overall score out of them:"
   ]
  },
  {
   "cell_type": "code",
   "execution_count": 38,
   "id": "3223973e",
   "metadata": {},
   "outputs": [
    {
     "name": "stderr",
     "output_type": "stream",
     "text": [
      "/var/folders/kp/vwm5bxcd72j3yf54l1xtsts80000gp/T/ipykernel_1726/1682559041.py:3: FutureWarning: Indexing with multiple keys (implicitly converted to a tuple of keys) will be deprecated, use a list instead.\n",
      "  df_customer.groupby(\"score\")[\"recency\",\"frequency\",\"revenue\",\"is_engaged\"].mean()\n"
     ]
    },
    {
     "data": {
      "text/html": [
       "<div>\n",
       "<style scoped>\n",
       "    .dataframe tbody tr th:only-of-type {\n",
       "        vertical-align: middle;\n",
       "    }\n",
       "\n",
       "    .dataframe tbody tr th {\n",
       "        vertical-align: top;\n",
       "    }\n",
       "\n",
       "    .dataframe thead th {\n",
       "        text-align: right;\n",
       "    }\n",
       "</style>\n",
       "<table border=\"1\" class=\"dataframe\">\n",
       "  <thead>\n",
       "    <tr style=\"text-align: right;\">\n",
       "      <th></th>\n",
       "      <th>recency</th>\n",
       "      <th>frequency</th>\n",
       "      <th>revenue</th>\n",
       "      <th>is_engaged</th>\n",
       "    </tr>\n",
       "    <tr>\n",
       "      <th>score</th>\n",
       "      <th></th>\n",
       "      <th></th>\n",
       "      <th></th>\n",
       "      <th></th>\n",
       "    </tr>\n",
       "  </thead>\n",
       "  <tbody>\n",
       "    <tr>\n",
       "      <th>1</th>\n",
       "      <td>1211.838601</td>\n",
       "      <td>1.000000</td>\n",
       "      <td>151.519126</td>\n",
       "      <td>0.000000</td>\n",
       "    </tr>\n",
       "    <tr>\n",
       "      <th>2</th>\n",
       "      <td>931.334740</td>\n",
       "      <td>1.121535</td>\n",
       "      <td>219.667210</td>\n",
       "      <td>0.016640</td>\n",
       "    </tr>\n",
       "    <tr>\n",
       "      <th>3</th>\n",
       "      <td>328.463984</td>\n",
       "      <td>1.210354</td>\n",
       "      <td>231.154898</td>\n",
       "      <td>0.015472</td>\n",
       "    </tr>\n",
       "    <tr>\n",
       "      <th>4</th>\n",
       "      <td>289.316481</td>\n",
       "      <td>2.125666</td>\n",
       "      <td>453.746655</td>\n",
       "      <td>0.059312</td>\n",
       "    </tr>\n",
       "    <tr>\n",
       "      <th>5</th>\n",
       "      <td>239.633837</td>\n",
       "      <td>3.228149</td>\n",
       "      <td>835.783130</td>\n",
       "      <td>0.094152</td>\n",
       "    </tr>\n",
       "    <tr>\n",
       "      <th>6</th>\n",
       "      <td>207.955319</td>\n",
       "      <td>5.279574</td>\n",
       "      <td>1294.370277</td>\n",
       "      <td>0.149787</td>\n",
       "    </tr>\n",
       "    <tr>\n",
       "      <th>7</th>\n",
       "      <td>182.891583</td>\n",
       "      <td>6.794579</td>\n",
       "      <td>2243.182996</td>\n",
       "      <td>0.221113</td>\n",
       "    </tr>\n",
       "    <tr>\n",
       "      <th>8</th>\n",
       "      <td>158.555556</td>\n",
       "      <td>7.177778</td>\n",
       "      <td>2547.605111</td>\n",
       "      <td>1.000000</td>\n",
       "    </tr>\n",
       "  </tbody>\n",
       "</table>\n",
       "</div>"
      ],
      "text/plain": [
       "           recency  frequency      revenue  is_engaged\n",
       "score                                                 \n",
       "1      1211.838601   1.000000   151.519126    0.000000\n",
       "2       931.334740   1.121535   219.667210    0.016640\n",
       "3       328.463984   1.210354   231.154898    0.015472\n",
       "4       289.316481   2.125666   453.746655    0.059312\n",
       "5       239.633837   3.228149   835.783130    0.094152\n",
       "6       207.955319   5.279574  1294.370277    0.149787\n",
       "7       182.891583   6.794579  2243.182996    0.221113\n",
       "8       158.555556   7.177778  2547.605111    1.000000"
      ]
     },
     "execution_count": 38,
     "metadata": {},
     "output_type": "execute_result"
    }
   ],
   "source": [
    "# calculate overall score and use mean() to see details\n",
    "df_customer[\"score\"] = df_customer[\"recencycluster\"]+df_customer[\"frequencycluster\"]+df_customer[\"revenuecluster\"]+df_customer[\"is_engaged\"]+1\n",
    "df_customer.groupby(\"score\")[\"recency\",\"frequency\",\"revenue\",\"is_engaged\"].mean()"
   ]
  },
  {
   "cell_type": "markdown",
   "id": "4cc854ab",
   "metadata": {},
   "source": [
    "As we can see, the higher the score, the higher value a fan (more recent purchase, higher frequency, higher revenue, more engagement)"
   ]
  },
  {
   "cell_type": "code",
   "execution_count": 39,
   "id": "ea2db2eb",
   "metadata": {},
   "outputs": [
    {
     "data": {
      "image/png": "[encoded data removed]",
      "text/plain": [
       "<Figure size 1440x360 with 1 Axes>"
      ]
     },
     "metadata": {},
     "output_type": "display_data"
    }
   ],
   "source": [
    "colors = {1:'tab:blue', 2:'tab:orange', 3:'tab:green', 4:'tab:red', 5:'tab:purple', 6:'tab:pink', 7:'tab:olive', 8:'tab:cyan'}\n",
    "\n",
    "plt.scatter(df_customer[\"revenue\"], df_customer[\"score\"], c=df_customer[\"score\"].map(colors), edgecolors=\"black\", s=150, alpha=.5)\n",
    "plt.title(\"Revenue by RFME Score\", fontsize=16)\n",
    "plt.ylabel(\"RFME Score\", fontsize=14)\n",
    "plt.xlabel(\"Revenue ($)\", fontsize=14)\n",
    "plt.rcParams[\"figure.figsize\"] = (20,5)\n",
    "plt.show()"
   ]
  },
  {
   "cell_type": "markdown",
   "id": "7cb9832e",
   "metadata": {},
   "source": [
    "## Segmentation\n",
    "\n",
    "In order to understand our fans further, we can create three categories, and then observe thier AGR (Average Gross Revenue):\n",
    "* Segment 1: In-Market US Fans\n",
    "* Segment 2: Out-of-Market US Fans\n",
    "* Segment 3: International Fans"
   ]
  },
  {
   "cell_type": "markdown",
   "id": "2438d909",
   "metadata": {},
   "source": [
    "Let's add a segment to each customer in our dataset:"
   ]
  },
  {
   "cell_type": "code",
   "execution_count": 40,
   "id": "434ab8f6",
   "metadata": {},
   "outputs": [],
   "source": [
    "# join df_customer back with our original df to get our location columns\n",
    "df_customer = pd.merge(df_customer, df[[\"dimcustomermasterid\", \"country\", \"stateprovince\"]], on=\"dimcustomermasterid\")"
   ]
  },
  {
   "cell_type": "code",
   "execution_count": 41,
   "id": "04dd8bd8",
   "metadata": {},
   "outputs": [],
   "source": [
    "# populate a segment column based on conditions\n",
    "conditions  = [\n",
    "    df_customer[\"country\"].isin([\"US\",\"USA\",\"Uni\"]) & ~df_customer[\"stateprovince\"].isin([\"OR\",\"WA\",\"Orego\",\"OREGO\",\"Washi\",\"WASHI\"]), \n",
    "    df_customer[\"country\"].isin([\"US\",\"USA\",\"Uni\"]) & df_customer[\"stateprovince\"].isin([\"OR\",\"WA\",\"Orego\",\"OREGO\",\"Washi\",\"WASHI\"]), \n",
    "    ~df_customer[\"country\"].isin([\"US\",\"USA\",\"Uni\"]) & ~df_customer[\"stateprovince\"].isin([\"OR\",\"WA\",\"Orego\",\"OREGO\",\"Washi\",\"WASHI\"])\n",
    "]\n",
    "\n",
    "choices = [\"Out-of-Market US\", \"In-Market US\", \"International\"]\n",
    "    \n",
    "df_customer[\"segment\"] = np.select(conditions, choices, default=\"In-Market US\")"
   ]
  },
  {
   "cell_type": "markdown",
   "id": "a6968644",
   "metadata": {},
   "source": [
    "### Calculating AGR (Average Gross Revenue)\n",
    "\n",
    "Let's use our RFME scores to calculate an Average Gross Revenue for each segment:"
   ]
  },
  {
   "cell_type": "code",
   "execution_count": 66,
   "id": "2a35c6ef",
   "metadata": {},
   "outputs": [
    {
     "data": {
      "text/html": [
       "<div>\n",
       "<style scoped>\n",
       "    .dataframe tbody tr th:only-of-type {\n",
       "        vertical-align: middle;\n",
       "    }\n",
       "\n",
       "    .dataframe tbody tr th {\n",
       "        vertical-align: top;\n",
       "    }\n",
       "\n",
       "    .dataframe thead th {\n",
       "        text-align: right;\n",
       "    }\n",
       "</style>\n",
       "<table border=\"1\" class=\"dataframe\">\n",
       "  <thead>\n",
       "    <tr style=\"text-align: right;\">\n",
       "      <th></th>\n",
       "      <th>segment</th>\n",
       "      <th>score</th>\n",
       "      <th>revenue_avg</th>\n",
       "      <th>fan_count</th>\n",
       "      <th>total_agr</th>\n",
       "    </tr>\n",
       "  </thead>\n",
       "  <tbody>\n",
       "    <tr>\n",
       "      <th>0</th>\n",
       "      <td>In-Market US</td>\n",
       "      <td>1</td>\n",
       "      <td>153.021086</td>\n",
       "      <td>11712</td>\n",
       "      <td>1792182.96</td>\n",
       "    </tr>\n",
       "    <tr>\n",
       "      <th>1</th>\n",
       "      <td>In-Market US</td>\n",
       "      <td>2</td>\n",
       "      <td>203.142216</td>\n",
       "      <td>19369</td>\n",
       "      <td>3934661.58</td>\n",
       "    </tr>\n",
       "    <tr>\n",
       "      <th>2</th>\n",
       "      <td>In-Market US</td>\n",
       "      <td>3</td>\n",
       "      <td>253.675666</td>\n",
       "      <td>26925</td>\n",
       "      <td>6830217.30</td>\n",
       "    </tr>\n",
       "    <tr>\n",
       "      <th>3</th>\n",
       "      <td>In-Market US</td>\n",
       "      <td>4</td>\n",
       "      <td>413.834561</td>\n",
       "      <td>22073</td>\n",
       "      <td>9134570.27</td>\n",
       "    </tr>\n",
       "    <tr>\n",
       "      <th>4</th>\n",
       "      <td>In-Market US</td>\n",
       "      <td>5</td>\n",
       "      <td>764.069674</td>\n",
       "      <td>14539</td>\n",
       "      <td>11108808.99</td>\n",
       "    </tr>\n",
       "    <tr>\n",
       "      <th>5</th>\n",
       "      <td>In-Market US</td>\n",
       "      <td>6</td>\n",
       "      <td>1172.726267</td>\n",
       "      <td>10296</td>\n",
       "      <td>12074389.65</td>\n",
       "    </tr>\n",
       "    <tr>\n",
       "      <th>6</th>\n",
       "      <td>In-Market US</td>\n",
       "      <td>7</td>\n",
       "      <td>2269.144318</td>\n",
       "      <td>4273</td>\n",
       "      <td>9696053.67</td>\n",
       "    </tr>\n",
       "    <tr>\n",
       "      <th>7</th>\n",
       "      <td>In-Market US</td>\n",
       "      <td>8</td>\n",
       "      <td>2681.987933</td>\n",
       "      <td>300</td>\n",
       "      <td>804596.38</td>\n",
       "    </tr>\n",
       "    <tr>\n",
       "      <th>8</th>\n",
       "      <td>International</td>\n",
       "      <td>1</td>\n",
       "      <td>129.667838</td>\n",
       "      <td>3191</td>\n",
       "      <td>413770.07</td>\n",
       "    </tr>\n",
       "    <tr>\n",
       "      <th>9</th>\n",
       "      <td>International</td>\n",
       "      <td>2</td>\n",
       "      <td>189.257889</td>\n",
       "      <td>3894</td>\n",
       "      <td>736970.22</td>\n",
       "    </tr>\n",
       "    <tr>\n",
       "      <th>10</th>\n",
       "      <td>International</td>\n",
       "      <td>3</td>\n",
       "      <td>223.919024</td>\n",
       "      <td>5789</td>\n",
       "      <td>1296267.23</td>\n",
       "    </tr>\n",
       "    <tr>\n",
       "      <th>11</th>\n",
       "      <td>International</td>\n",
       "      <td>4</td>\n",
       "      <td>441.368033</td>\n",
       "      <td>2237</td>\n",
       "      <td>987340.29</td>\n",
       "    </tr>\n",
       "    <tr>\n",
       "      <th>12</th>\n",
       "      <td>International</td>\n",
       "      <td>5</td>\n",
       "      <td>798.365229</td>\n",
       "      <td>742</td>\n",
       "      <td>592387.00</td>\n",
       "    </tr>\n",
       "    <tr>\n",
       "      <th>13</th>\n",
       "      <td>International</td>\n",
       "      <td>6</td>\n",
       "      <td>1412.540446</td>\n",
       "      <td>202</td>\n",
       "      <td>285333.17</td>\n",
       "    </tr>\n",
       "    <tr>\n",
       "      <th>14</th>\n",
       "      <td>International</td>\n",
       "      <td>7</td>\n",
       "      <td>2183.970435</td>\n",
       "      <td>23</td>\n",
       "      <td>50231.32</td>\n",
       "    </tr>\n",
       "    <tr>\n",
       "      <th>15</th>\n",
       "      <td>Out-of-Market US</td>\n",
       "      <td>1</td>\n",
       "      <td>155.658916</td>\n",
       "      <td>12594</td>\n",
       "      <td>1960368.39</td>\n",
       "    </tr>\n",
       "    <tr>\n",
       "      <th>16</th>\n",
       "      <td>Out-of-Market US</td>\n",
       "      <td>2</td>\n",
       "      <td>253.219727</td>\n",
       "      <td>10235</td>\n",
       "      <td>2591703.91</td>\n",
       "    </tr>\n",
       "    <tr>\n",
       "      <th>17</th>\n",
       "      <td>Out-of-Market US</td>\n",
       "      <td>3</td>\n",
       "      <td>239.363722</td>\n",
       "      <td>14301</td>\n",
       "      <td>3423140.59</td>\n",
       "    </tr>\n",
       "    <tr>\n",
       "      <th>18</th>\n",
       "      <td>Out-of-Market US</td>\n",
       "      <td>4</td>\n",
       "      <td>405.217663</td>\n",
       "      <td>9199</td>\n",
       "      <td>3727597.28</td>\n",
       "    </tr>\n",
       "    <tr>\n",
       "      <th>19</th>\n",
       "      <td>Out-of-Market US</td>\n",
       "      <td>5</td>\n",
       "      <td>735.067539</td>\n",
       "      <td>4811</td>\n",
       "      <td>3536409.93</td>\n",
       "    </tr>\n",
       "    <tr>\n",
       "      <th>20</th>\n",
       "      <td>Out-of-Market US</td>\n",
       "      <td>6</td>\n",
       "      <td>1253.481692</td>\n",
       "      <td>1909</td>\n",
       "      <td>2392896.55</td>\n",
       "    </tr>\n",
       "    <tr>\n",
       "      <th>21</th>\n",
       "      <td>Out-of-Market US</td>\n",
       "      <td>7</td>\n",
       "      <td>2255.118801</td>\n",
       "      <td>467</td>\n",
       "      <td>1053140.48</td>\n",
       "    </tr>\n",
       "    <tr>\n",
       "      <th>22</th>\n",
       "      <td>Out-of-Market US</td>\n",
       "      <td>8</td>\n",
       "      <td>1827.756522</td>\n",
       "      <td>23</td>\n",
       "      <td>42038.40</td>\n",
       "    </tr>\n",
       "  </tbody>\n",
       "</table>\n",
       "</div>"
      ],
      "text/plain": [
       "             segment  score  revenue_avg  fan_count    total_agr\n",
       "0       In-Market US      1   153.021086      11712   1792182.96\n",
       "1       In-Market US      2   203.142216      19369   3934661.58\n",
       "2       In-Market US      3   253.675666      26925   6830217.30\n",
       "3       In-Market US      4   413.834561      22073   9134570.27\n",
       "4       In-Market US      5   764.069674      14539  11108808.99\n",
       "5       In-Market US      6  1172.726267      10296  12074389.65\n",
       "6       In-Market US      7  2269.144318       4273   9696053.67\n",
       "7       In-Market US      8  2681.987933        300    804596.38\n",
       "8      International      1   129.667838       3191    413770.07\n",
       "9      International      2   189.257889       3894    736970.22\n",
       "10     International      3   223.919024       5789   1296267.23\n",
       "11     International      4   441.368033       2237    987340.29\n",
       "12     International      5   798.365229        742    592387.00\n",
       "13     International      6  1412.540446        202    285333.17\n",
       "14     International      7  2183.970435         23     50231.32\n",
       "15  Out-of-Market US      1   155.658916      12594   1960368.39\n",
       "16  Out-of-Market US      2   253.219727      10235   2591703.91\n",
       "17  Out-of-Market US      3   239.363722      14301   3423140.59\n",
       "18  Out-of-Market US      4   405.217663       9199   3727597.28\n",
       "19  Out-of-Market US      5   735.067539       4811   3536409.93\n",
       "20  Out-of-Market US      6  1253.481692       1909   2392896.55\n",
       "21  Out-of-Market US      7  2255.118801        467   1053140.48\n",
       "22  Out-of-Market US      8  1827.756522         23     42038.40"
      ]
     },
     "execution_count": 66,
     "metadata": {},
     "output_type": "execute_result"
    }
   ],
   "source": [
    "# populate an agr column based on conditions\n",
    "df_agr = df_customer.groupby([\"segment\", \"score\"]).agg(\n",
    "    {\n",
    "        \"revenue\": [\"mean\"],\n",
    "        \"segment\": [\"count\"]\n",
    "    })\n",
    "\n",
    "df_agr.columns = ['revenue_avg', 'fan_count']\n",
    "df_agr = df_agr.reset_index()\n",
    "\n",
    "# calculate total agr for segment\n",
    "df_agr[\"total_agr\"] = df_agr[\"revenue_avg\"] * df_agr[\"fan_count\"]\n",
    "\n",
    "df_agr"
   ]
  },
  {
   "cell_type": "code",
   "execution_count": 67,
   "id": "d37629b7",
   "metadata": {},
   "outputs": [
    {
     "data": {
      "image/png": "[encoded data removed]",
      "text/plain": [
       "<Figure size 1440x360 with 1 Axes>"
      ]
     },
     "metadata": {},
     "output_type": "display_data"
    }
   ],
   "source": [
    "df_agr.pivot(\"segment\", \"score\", \"total_agr\").plot(kind='bar')\n",
    "plt.title(\"Score Groups by Segment\", fontsize=16)\n",
    "plt.xlabel(\"Segment\", fontsize=14)\n",
    "plt.xticks(rotation = 0)\n",
    "plt.ylabel(\"Avg Gross Revenue ($ millions)\", fontsize=14)\n",
    "plt.show()"
   ]
  },
  {
   "cell_type": "code",
   "execution_count": 68,
   "id": "1287d6ea",
   "metadata": {},
   "outputs": [
    {
     "data": {
      "text/html": [
       "<div>\n",
       "<style scoped>\n",
       "    .dataframe tbody tr th:only-of-type {\n",
       "        vertical-align: middle;\n",
       "    }\n",
       "\n",
       "    .dataframe tbody tr th {\n",
       "        vertical-align: top;\n",
       "    }\n",
       "\n",
       "    .dataframe thead th {\n",
       "        text-align: right;\n",
       "    }\n",
       "</style>\n",
       "<table border=\"1\" class=\"dataframe\">\n",
       "  <thead>\n",
       "    <tr style=\"text-align: right;\">\n",
       "      <th></th>\n",
       "      <th>segment</th>\n",
       "      <th>sum_agr</th>\n",
       "      <th>mean_agr</th>\n",
       "    </tr>\n",
       "  </thead>\n",
       "  <tbody>\n",
       "    <tr>\n",
       "      <th>0</th>\n",
       "      <td>In-Market US</td>\n",
       "      <td>55375480.80000</td>\n",
       "      <td>6921935.10000</td>\n",
       "    </tr>\n",
       "    <tr>\n",
       "      <th>1</th>\n",
       "      <td>International</td>\n",
       "      <td>4362299.30000</td>\n",
       "      <td>623185.61429</td>\n",
       "    </tr>\n",
       "    <tr>\n",
       "      <th>2</th>\n",
       "      <td>Out-of-Market US</td>\n",
       "      <td>18727295.53000</td>\n",
       "      <td>2340911.94125</td>\n",
       "    </tr>\n",
       "  </tbody>\n",
       "</table>\n",
       "</div>"
      ],
      "text/plain": [
       "            segment        sum_agr      mean_agr\n",
       "0      In-Market US 55375480.80000 6921935.10000\n",
       "1     International  4362299.30000  623185.61429\n",
       "2  Out-of-Market US 18727295.53000 2340911.94125"
      ]
     },
     "execution_count": 68,
     "metadata": {},
     "output_type": "execute_result"
    }
   ],
   "source": [
    "df_agr = df_agr.groupby(\"segment\").agg({\n",
    "    \"total_agr\":[\"sum\", \"mean\"]\n",
    "})\n",
    "\n",
    "df_agr.columns = [\"sum_agr\",\"mean_agr\"]\n",
    "\n",
    "df_agr = df_agr.reset_index()"
   ]
  },
  {
   "cell_type": "code",
   "execution_count": 70,
   "id": "463f8951",
   "metadata": {},
   "outputs": [
    {
     "data": {
      "text/html": [
       "<div>\n",
       "<style scoped>\n",
       "    .dataframe tbody tr th:only-of-type {\n",
       "        vertical-align: middle;\n",
       "    }\n",
       "\n",
       "    .dataframe tbody tr th {\n",
       "        vertical-align: top;\n",
       "    }\n",
       "\n",
       "    .dataframe thead th {\n",
       "        text-align: right;\n",
       "    }\n",
       "</style>\n",
       "<table border=\"1\" class=\"dataframe\">\n",
       "  <thead>\n",
       "    <tr style=\"text-align: right;\">\n",
       "      <th></th>\n",
       "      <th>segment</th>\n",
       "      <th>sum_agr</th>\n",
       "      <th>mean_agr</th>\n",
       "    </tr>\n",
       "  </thead>\n",
       "  <tbody>\n",
       "    <tr>\n",
       "      <th>0</th>\n",
       "      <td>In-Market US</td>\n",
       "      <td>55375481</td>\n",
       "      <td>6921935</td>\n",
       "    </tr>\n",
       "    <tr>\n",
       "      <th>1</th>\n",
       "      <td>International</td>\n",
       "      <td>4362299</td>\n",
       "      <td>623186</td>\n",
       "    </tr>\n",
       "    <tr>\n",
       "      <th>2</th>\n",
       "      <td>Out-of-Market US</td>\n",
       "      <td>18727296</td>\n",
       "      <td>2340912</td>\n",
       "    </tr>\n",
       "  </tbody>\n",
       "</table>\n",
       "</div>"
      ],
      "text/plain": [
       "            segment  sum_agr  mean_agr\n",
       "0      In-Market US 55375481   6921935\n",
       "1     International  4362299    623186\n",
       "2  Out-of-Market US 18727296   2340912"
      ]
     },
     "execution_count": 70,
     "metadata": {},
     "output_type": "execute_result"
    }
   ],
   "source": [
    "pd.set_option('display.float_format', lambda x: '%.0f' % x)\n",
    "\n",
    "df_agr.head()"
   ]
  },
  {
   "cell_type": "markdown",
   "id": "c6bdae7b",
   "metadata": {},
   "source": [
    "## TODO:\n",
    "* \n",
    "* calculate silhouette score for clusters\n",
    "* change clustering to Pycaret\n",
    "* add some more documentation\n",
    "    - include the venn diagram\n",
    "    \n",
    "FFV = FUTURE FAN VALUE\n",
    "PFV = PRESENT FAN VALUE\n"
   ]
  },
  {
   "cell_type": "markdown",
   "id": "5993c9bf",
   "metadata": {},
   "source": []
  }
 ],
 "metadata": {
  "kernelspec": {
   "display_name": "Python 3.8.5 ('stellar')",
   "language": "python",
   "name": "python3"
  },
  "language_info": {
   "codemirror_mode": {
    "name": "ipython",
    "version": 3
   },
   "file_extension": ".py",
   "mimetype": "text/x-python",
   "name": "python",
   "nbconvert_exporter": "python",
   "pygments_lexer": "ipython3",
   "version": "3.8.5"
  },
  "vscode": {
   "interpreter": {
    "hash": "89f48dadab51a6b5b48ffc1a9e043c21cefe67453637c3444f3b86917b8aad16"
   }
  }
 },
 "nbformat": 4,
 "nbformat_minor": 5
}
