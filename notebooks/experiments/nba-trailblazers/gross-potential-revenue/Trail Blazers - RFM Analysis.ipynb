{
 "cells": [
  {
   "cell_type": "markdown",
   "id": "61037526-75ba-4674-a31e-d5e2e805f26b",
   "metadata": {},
   "source": [
    "# Portland Trail Blazers - RFM Clustering\n",
    "* StelllarAlgo Data Science\n",
    "* Ryan Kazmerik\n",
    "* Jul 15, 2022"
   ]
  },
  {
   "cell_type": "markdown",
   "metadata": {},
   "source": [
    "## Hypothesis\n",
    "\n",
    "The NBA has provided StellarAlgo with a dataset containing ~400,000 fans who are engaging with the Portland Trail Blazers team through various channels, but are unknown to the team as they have not yet purchased a ticket.\n",
    "\n",
    "***We estimate that by calculating RFM (recency, frequency, monetary) metrics for known PTB fans, we can approximate the Potential Gross Revenue of the unknown fans.***\n",
    "\n",
    "This experiment will start with some exploratory data analysis, then calculate and cluster the known fans based on the RFM metrics. Then we'll segment the known fans into three groups and calculate the **Total Gross Revenue** of each group.\n",
    "\n",
    "The same segmentation is applied to the unknown fans provided by the NBA, allowing us to approximate the **Potential Gross Revenue** for each segment."
   ]
  },
  {
   "cell_type": "code",
   "execution_count": 1,
   "id": "573b8578-5434-4dae-9311-eb051fb342f2",
   "metadata": {},
   "outputs": [],
   "source": [
    "import matplotlib.pyplot as plt\n",
    "import numpy as np \n",
    "import pandas as pd\n",
    "\n",
    "from sklearn.cluster import KMeans\n",
    "\n",
    "plt.style.use('dark_background') \n",
    "pd.set_option('display.float_format', lambda x: '%.2f' % x)\n",
    "\n",
    "#from pandas_profiling import ProfileReport"
   ]
  },
  {
   "cell_type": "markdown",
   "id": "5dab8fed",
   "metadata": {},
   "source": [
    "## Data Wrangling"
   ]
  },
  {
   "cell_type": "markdown",
   "id": "0eb5cbda",
   "metadata": {},
   "source": [
    "For our experiment, we need two datasets:\n",
    "1. Fans who have bought tickets to a Trail Blazers game. We can get this from our Trail Blazers StellarAlgo tables.\n",
    "2. Fans who have engaged with the Trail Blazers via streaming, or gaming data. This we can get from our dataset provided by the NBA."
   ]
  },
  {
   "cell_type": "markdown",
   "id": "726e120d",
   "metadata": {},
   "source": [
    "### PTB Ticketing Dataset"
   ]
  },
  {
   "cell_type": "code",
   "execution_count": 2,
   "id": "5cf07a70-9e64-48e6-9108-79795ca445b8",
   "metadata": {},
   "outputs": [
    {
     "name": "stdout",
     "output_type": "stream",
     "text": [
      "<class 'pandas.core.frame.DataFrame'>\n",
      "RangeIndex: 1975722 entries, 0 to 1975721\n",
      "Data columns (total 11 columns):\n",
      " #   Column               Dtype  \n",
      "---  ------               -----  \n",
      " 0   dimcustomermasterid  int64  \n",
      " 1   purchasedate         object \n",
      " 2   ticketcount          int64  \n",
      " 3   revenue              float64\n",
      " 4   isplanproduct        bool   \n",
      " 5   producttype          object \n",
      " 6   subproductname       object \n",
      " 7   seasonyear           int64  \n",
      " 8   country              object \n",
      " 9   stateprovince        object \n",
      " 10  zippostal            object \n",
      "dtypes: bool(1), float64(1), int64(3), object(6)\n",
      "memory usage: 152.6+ MB\n"
     ]
    }
   ],
   "source": [
    "\"\"\"\n",
    "    data/ptb_cohort_purchase.csv contains data from the following query:\n",
    "\n",
    "    SELECT p.dimcustomermasterid, p.purchasedate, p.ticketcount, p.revenue, p.isplanproduct, p.producttype, p.subproductname, p.seasonyear,\n",
    "       c.dimcustomermasterid, c.country, c.stateprovince, c.zippostal \n",
    "    FROM \"ptb_cohort_purchase\"  p \n",
    "    INNER JOIN \"ptb_dim_customer_master\" c\n",
    "    ON p.dimcustomermasterid = c.dimcustomermasterid\n",
    "\"\"\"\n",
    "\n",
    "df = pd.read_csv(\"./data/ptb_cohort_purchase.csv\")\n",
    "df.info()"
   ]
  },
  {
   "cell_type": "code",
   "execution_count": 3,
   "id": "7a1e3978",
   "metadata": {},
   "outputs": [
    {
     "data": {
      "text/html": [
       "<div>\n",
       "<style scoped>\n",
       "    .dataframe tbody tr th:only-of-type {\n",
       "        vertical-align: middle;\n",
       "    }\n",
       "\n",
       "    .dataframe tbody tr th {\n",
       "        vertical-align: top;\n",
       "    }\n",
       "\n",
       "    .dataframe thead th {\n",
       "        text-align: right;\n",
       "    }\n",
       "</style>\n",
       "<table border=\"1\" class=\"dataframe\">\n",
       "  <thead>\n",
       "    <tr style=\"text-align: right;\">\n",
       "      <th></th>\n",
       "      <th>dimcustomermasterid</th>\n",
       "      <th>purchasedate</th>\n",
       "      <th>ticketcount</th>\n",
       "      <th>revenue</th>\n",
       "      <th>isplanproduct</th>\n",
       "      <th>producttype</th>\n",
       "      <th>subproductname</th>\n",
       "      <th>seasonyear</th>\n",
       "      <th>country</th>\n",
       "      <th>stateprovince</th>\n",
       "      <th>zippostal</th>\n",
       "    </tr>\n",
       "  </thead>\n",
       "  <tbody>\n",
       "    <tr>\n",
       "      <th>0</th>\n",
       "      <td>702748196</td>\n",
       "      <td>2017-02-06</td>\n",
       "      <td>2</td>\n",
       "      <td>68.00</td>\n",
       "      <td>True</td>\n",
       "      <td>Package</td>\n",
       "      <td>Full Season</td>\n",
       "      <td>2017</td>\n",
       "      <td>USA</td>\n",
       "      <td>OR</td>\n",
       "      <td>97123-4016</td>\n",
       "    </tr>\n",
       "    <tr>\n",
       "      <th>1</th>\n",
       "      <td>702748196</td>\n",
       "      <td>2017-02-06</td>\n",
       "      <td>2</td>\n",
       "      <td>68.00</td>\n",
       "      <td>True</td>\n",
       "      <td>Package</td>\n",
       "      <td>Full Season</td>\n",
       "      <td>2017</td>\n",
       "      <td>USA</td>\n",
       "      <td>OR</td>\n",
       "      <td>97123-4016</td>\n",
       "    </tr>\n",
       "    <tr>\n",
       "      <th>2</th>\n",
       "      <td>702748196</td>\n",
       "      <td>2017-02-06</td>\n",
       "      <td>2</td>\n",
       "      <td>68.00</td>\n",
       "      <td>True</td>\n",
       "      <td>Package</td>\n",
       "      <td>Full Season</td>\n",
       "      <td>2017</td>\n",
       "      <td>USA</td>\n",
       "      <td>OR</td>\n",
       "      <td>97123-4016</td>\n",
       "    </tr>\n",
       "    <tr>\n",
       "      <th>3</th>\n",
       "      <td>702748196</td>\n",
       "      <td>2017-02-06</td>\n",
       "      <td>2</td>\n",
       "      <td>302.40</td>\n",
       "      <td>True</td>\n",
       "      <td>Package</td>\n",
       "      <td>Full Season</td>\n",
       "      <td>2017</td>\n",
       "      <td>USA</td>\n",
       "      <td>OR</td>\n",
       "      <td>97123-4016</td>\n",
       "    </tr>\n",
       "    <tr>\n",
       "      <th>4</th>\n",
       "      <td>702748196</td>\n",
       "      <td>2017-02-06</td>\n",
       "      <td>2</td>\n",
       "      <td>68.00</td>\n",
       "      <td>True</td>\n",
       "      <td>Package</td>\n",
       "      <td>Full Season</td>\n",
       "      <td>2017</td>\n",
       "      <td>USA</td>\n",
       "      <td>OR</td>\n",
       "      <td>97123-4016</td>\n",
       "    </tr>\n",
       "  </tbody>\n",
       "</table>\n",
       "</div>"
      ],
      "text/plain": [
       "   dimcustomermasterid purchasedate  ticketcount  revenue  isplanproduct  \\\n",
       "0            702748196   2017-02-06            2    68.00           True   \n",
       "1            702748196   2017-02-06            2    68.00           True   \n",
       "2            702748196   2017-02-06            2    68.00           True   \n",
       "3            702748196   2017-02-06            2   302.40           True   \n",
       "4            702748196   2017-02-06            2    68.00           True   \n",
       "\n",
       "  producttype subproductname  seasonyear country stateprovince   zippostal  \n",
       "0     Package    Full Season        2017     USA            OR  97123-4016  \n",
       "1     Package    Full Season        2017     USA            OR  97123-4016  \n",
       "2     Package    Full Season        2017     USA            OR  97123-4016  \n",
       "3     Package    Full Season        2017     USA            OR  97123-4016  \n",
       "4     Package    Full Season        2017     USA            OR  97123-4016  "
      ]
     },
     "execution_count": 3,
     "metadata": {},
     "output_type": "execute_result"
    }
   ],
   "source": [
    "df.head()"
   ]
  },
  {
   "cell_type": "markdown",
   "id": "d25bb5f5",
   "metadata": {},
   "source": [
    "### NBA Engagement Dataset"
   ]
  },
  {
   "cell_type": "code",
   "execution_count": 4,
   "id": "36992be0",
   "metadata": {},
   "outputs": [
    {
     "name": "stdout",
     "output_type": "stream",
     "text": [
      "<class 'pandas.core.frame.DataFrame'>\n",
      "RangeIndex: 1671077 entries, 0 to 1671076\n",
      "Data columns (total 2 columns):\n",
      " #   Column               Non-Null Count    Dtype \n",
      "---  ------               --------------    ----- \n",
      " 0   dimcustomermasterid  1671077 non-null  int64 \n",
      " 1   entity_source        402626 non-null   object\n",
      "dtypes: int64(1), object(1)\n",
      "memory usage: 25.5+ MB\n"
     ]
    }
   ],
   "source": [
    "\"\"\"\n",
    "  data/ptb_nba_engagement.csv contains data from the following query:\n",
    "\n",
    "  SELECT dimcustomermasterid, entity_source\n",
    "  FROM \"league-nba-poc\".\"tagged_customer_master\";\n",
    "\"\"\"\n",
    "\n",
    "df2 = pd.read_csv(\"./data/ptb_nba_engagement.csv\")\n",
    "df2.info()"
   ]
  },
  {
   "cell_type": "markdown",
   "id": "d98242dd",
   "metadata": {},
   "source": [
    "## Data Preprocessing"
   ]
  },
  {
   "cell_type": "markdown",
   "id": "ea0f7929",
   "metadata": {},
   "source": [
    "For our analysis we will only consider **non-package buyers**, because we are interested in modelling the typical individual ticket buyer. Let's see how much data we have for NP buyers and what sub-products are included:"
   ]
  },
  {
   "cell_type": "code",
   "execution_count": 5,
   "id": "2caadb5a",
   "metadata": {},
   "outputs": [
    {
     "data": {
      "text/plain": [
       "True     1017544\n",
       "False     958178\n",
       "Name: isplanproduct, dtype: int64"
      ]
     },
     "execution_count": 5,
     "metadata": {},
     "output_type": "execute_result"
    }
   ],
   "source": [
    "df['isplanproduct'].value_counts()"
   ]
  },
  {
   "cell_type": "markdown",
   "id": "9d116b0b",
   "metadata": {},
   "source": [
    "Remove the rows where isplanproduct = True:"
   ]
  },
  {
   "cell_type": "code",
   "execution_count": 6,
   "id": "77c5240d",
   "metadata": {},
   "outputs": [
    {
     "name": "stdout",
     "output_type": "stream",
     "text": [
      "<class 'pandas.core.frame.DataFrame'>\n",
      "Int64Index: 958178 entries, 20 to 1975699\n",
      "Data columns (total 10 columns):\n",
      " #   Column               Non-Null Count   Dtype  \n",
      "---  ------               --------------   -----  \n",
      " 0   dimcustomermasterid  958178 non-null  int64  \n",
      " 1   purchasedate         958178 non-null  object \n",
      " 2   ticketcount          958178 non-null  int64  \n",
      " 3   revenue              411459 non-null  float64\n",
      " 4   producttype          958178 non-null  object \n",
      " 5   subproductname       958178 non-null  object \n",
      " 6   seasonyear           958178 non-null  int64  \n",
      " 7   country              936062 non-null  object \n",
      " 8   stateprovince        608520 non-null  object \n",
      " 9   zippostal            707654 non-null  object \n",
      "dtypes: float64(1), int64(3), object(6)\n",
      "memory usage: 80.4+ MB\n"
     ]
    }
   ],
   "source": [
    "df = df[df['isplanproduct'] == False]\n",
    "df.drop(columns=[\"isplanproduct\"], inplace=True)\n",
    "\n",
    "df.info()"
   ]
  },
  {
   "cell_type": "markdown",
   "id": "5c8d230e",
   "metadata": {},
   "source": [
    "Let's include data from 2018 to present in our analysis, so we'll remove data from seasons prior to 2018:"
   ]
  },
  {
   "cell_type": "code",
   "execution_count": 7,
   "id": "8dad8040",
   "metadata": {},
   "outputs": [
    {
     "data": {
      "text/plain": [
       "(799757, 10)"
      ]
     },
     "execution_count": 7,
     "metadata": {},
     "output_type": "execute_result"
    }
   ],
   "source": [
    "df = df[df[\"seasonyear\"] >= 2018]\n",
    "df.shape"
   ]
  },
  {
   "cell_type": "markdown",
   "id": "87cb9674",
   "metadata": {},
   "source": [
    "We'll also have a look at the included product and subproduct types:"
   ]
  },
  {
   "cell_type": "code",
   "execution_count": 8,
   "id": "4ac8ec5e",
   "metadata": {},
   "outputs": [
    {
     "data": {
      "text/plain": [
       "Individual    691929\n",
       "Comp           58778\n",
       "Other          49050\n",
       "Name: producttype, dtype: int64"
      ]
     },
     "execution_count": 8,
     "metadata": {},
     "output_type": "execute_result"
    }
   ],
   "source": [
    "df[\"producttype\"].value_counts()"
   ]
  },
  {
   "cell_type": "code",
   "execution_count": 9,
   "id": "18fb76ca",
   "metadata": {},
   "outputs": [
    {
     "data": {
      "text/plain": [
       "Individual           691301\n",
       "Comp                  58012\n",
       "Group                 31173\n",
       "Suite                 13225\n",
       "Deposit                1847\n",
       "Group Broker           1459\n",
       "Suite Broker           1345\n",
       "Comp Broker             766\n",
       "Individual Broker       628\n",
       "Deposit Broker            1\n",
       "Name: subproductname, dtype: int64"
      ]
     },
     "execution_count": 9,
     "metadata": {},
     "output_type": "execute_result"
    }
   ],
   "source": [
    "df[\"subproductname\"].value_counts()"
   ]
  },
  {
   "cell_type": "markdown",
   "id": "6e607771",
   "metadata": {},
   "source": [
    "Let's remove the broker records so we are looking at actual customer behaviour:"
   ]
  },
  {
   "cell_type": "code",
   "execution_count": 10,
   "id": "f2915acd",
   "metadata": {},
   "outputs": [
    {
     "data": {
      "text/plain": [
       "Individual    691301\n",
       "Name: subproductname, dtype: int64"
      ]
     },
     "execution_count": 10,
     "metadata": {},
     "output_type": "execute_result"
    }
   ],
   "source": [
    "df = df[df[\"subproductname\"].isin([\"Individual\"])]\n",
    "df.reset_index(drop=True, inplace=True)\n",
    "\n",
    "df[\"subproductname\"].value_counts()"
   ]
  },
  {
   "cell_type": "code",
   "execution_count": 11,
   "id": "c72ea2d4",
   "metadata": {},
   "outputs": [
    {
     "data": {
      "text/html": [
       "<div>\n",
       "<style scoped>\n",
       "    .dataframe tbody tr th:only-of-type {\n",
       "        vertical-align: middle;\n",
       "    }\n",
       "\n",
       "    .dataframe tbody tr th {\n",
       "        vertical-align: top;\n",
       "    }\n",
       "\n",
       "    .dataframe thead th {\n",
       "        text-align: right;\n",
       "    }\n",
       "</style>\n",
       "<table border=\"1\" class=\"dataframe\">\n",
       "  <thead>\n",
       "    <tr style=\"text-align: right;\">\n",
       "      <th></th>\n",
       "      <th>dimcustomermasterid</th>\n",
       "      <th>purchasedate</th>\n",
       "      <th>ticketcount</th>\n",
       "      <th>revenue</th>\n",
       "      <th>producttype</th>\n",
       "      <th>subproductname</th>\n",
       "      <th>seasonyear</th>\n",
       "      <th>country</th>\n",
       "      <th>stateprovince</th>\n",
       "      <th>zippostal</th>\n",
       "    </tr>\n",
       "  </thead>\n",
       "  <tbody>\n",
       "    <tr>\n",
       "      <th>0</th>\n",
       "      <td>486156197</td>\n",
       "      <td>2021-10-06</td>\n",
       "      <td>2</td>\n",
       "      <td>61.20</td>\n",
       "      <td>Individual</td>\n",
       "      <td>Individual</td>\n",
       "      <td>2021</td>\n",
       "      <td>USA</td>\n",
       "      <td>OR</td>\n",
       "      <td>97086</td>\n",
       "    </tr>\n",
       "    <tr>\n",
       "      <th>1</th>\n",
       "      <td>612548146</td>\n",
       "      <td>2021-10-21</td>\n",
       "      <td>2</td>\n",
       "      <td>276.00</td>\n",
       "      <td>Individual</td>\n",
       "      <td>Individual</td>\n",
       "      <td>2021</td>\n",
       "      <td>US</td>\n",
       "      <td>IL</td>\n",
       "      <td>60069</td>\n",
       "    </tr>\n",
       "    <tr>\n",
       "      <th>2</th>\n",
       "      <td>612743431</td>\n",
       "      <td>2019-09-06</td>\n",
       "      <td>4</td>\n",
       "      <td>712.00</td>\n",
       "      <td>Individual</td>\n",
       "      <td>Individual</td>\n",
       "      <td>2019</td>\n",
       "      <td>CA</td>\n",
       "      <td>BC</td>\n",
       "      <td>V5V2K8</td>\n",
       "    </tr>\n",
       "    <tr>\n",
       "      <th>3</th>\n",
       "      <td>612750999</td>\n",
       "      <td>2021-12-09</td>\n",
       "      <td>2</td>\n",
       "      <td>110.00</td>\n",
       "      <td>Individual</td>\n",
       "      <td>Individual</td>\n",
       "      <td>2021</td>\n",
       "      <td>US</td>\n",
       "      <td>WA</td>\n",
       "      <td>98270-3559</td>\n",
       "    </tr>\n",
       "    <tr>\n",
       "      <th>4</th>\n",
       "      <td>616770053</td>\n",
       "      <td>2021-10-29</td>\n",
       "      <td>4</td>\n",
       "      <td>20.00</td>\n",
       "      <td>Individual</td>\n",
       "      <td>Individual</td>\n",
       "      <td>2021</td>\n",
       "      <td>USA</td>\n",
       "      <td>NaN</td>\n",
       "      <td>97128</td>\n",
       "    </tr>\n",
       "  </tbody>\n",
       "</table>\n",
       "</div>"
      ],
      "text/plain": [
       "   dimcustomermasterid purchasedate  ticketcount  revenue producttype  \\\n",
       "0            486156197   2021-10-06            2    61.20  Individual   \n",
       "1            612548146   2021-10-21            2   276.00  Individual   \n",
       "2            612743431   2019-09-06            4   712.00  Individual   \n",
       "3            612750999   2021-12-09            2   110.00  Individual   \n",
       "4            616770053   2021-10-29            4    20.00  Individual   \n",
       "\n",
       "  subproductname  seasonyear country stateprovince   zippostal  \n",
       "0     Individual        2021     USA            OR       97086  \n",
       "1     Individual        2021      US            IL       60069  \n",
       "2     Individual        2019      CA            BC      V5V2K8  \n",
       "3     Individual        2021      US            WA  98270-3559  \n",
       "4     Individual        2021     USA           NaN       97128  "
      ]
     },
     "execution_count": 11,
     "metadata": {},
     "output_type": "execute_result"
    }
   ],
   "source": [
    "df.head()"
   ]
  },
  {
   "cell_type": "markdown",
   "id": "10f35c85-4ba4-4bdd-8238-3dc41da2cb5a",
   "metadata": {},
   "source": [
    "## Exploratory Data Analysis (EDA)"
   ]
  },
  {
   "cell_type": "markdown",
   "id": "f1a7073f",
   "metadata": {},
   "source": [
    "Let's have a closer look at the data and decide whether we need any data cleaning and data transformation for further analysis:"
   ]
  },
  {
   "cell_type": "code",
   "execution_count": 12,
   "id": "17e6bdb6",
   "metadata": {},
   "outputs": [],
   "source": [
    "# generate a pandas profile report on the ptb dataset\n",
    "#profile = ProfileReport(df, minimal=True)\n",
    "#profile.to_file(\"pandas-profile-report.html\")"
   ]
  },
  {
   "cell_type": "markdown",
   "id": "4b8c8591",
   "metadata": {},
   "source": [
    "By reading the profiling report, we can see that the following actions should be taken to improve the dataset quality:\n",
    "* Remove missing values from revenue (33.3%)\n",
    "* Remove zero values from revenue (7.4%)"
   ]
  },
  {
   "cell_type": "code",
   "execution_count": 13,
   "id": "fb7630f5",
   "metadata": {},
   "outputs": [
    {
     "data": {
      "text/plain": [
       "0"
      ]
     },
     "execution_count": 13,
     "metadata": {},
     "output_type": "execute_result"
    }
   ],
   "source": [
    "df.dropna(subset=['revenue'], inplace=True)\n",
    "df['revenue'].isnull().sum()"
   ]
  },
  {
   "cell_type": "markdown",
   "id": "0c61392c",
   "metadata": {},
   "source": [
    "Let's also drop any rows where revenue = 0, and then check the value counts to ensure the zero values are gone:"
   ]
  },
  {
   "cell_type": "code",
   "execution_count": 14,
   "id": "f8308914",
   "metadata": {},
   "outputs": [
    {
     "data": {
      "text/plain": [
       "(-0.001, 1000.0]       198888\n",
       "(1000.0, 10000.0]        4225\n",
       "(10000.0, 100000.0]        17\n",
       "Name: revenue, dtype: int64"
      ]
     },
     "execution_count": 14,
     "metadata": {},
     "output_type": "execute_result"
    }
   ],
   "source": [
    "df = df[df['revenue'] > 0]\n",
    "df['revenue'].value_counts(bins=[0, 1000, 10000, 100000])"
   ]
  },
  {
   "cell_type": "markdown",
   "id": "52e37e52",
   "metadata": {},
   "source": [
    "### Data Types\n",
    "\n",
    "Let's look at the data types in our dataframe to see if we need to convert any values to a different type"
   ]
  },
  {
   "cell_type": "code",
   "execution_count": 15,
   "id": "bd104e2f",
   "metadata": {},
   "outputs": [
    {
     "data": {
      "text/plain": [
       "dimcustomermasterid      int64\n",
       "purchasedate            object\n",
       "ticketcount              int64\n",
       "revenue                float64\n",
       "producttype             object\n",
       "subproductname          object\n",
       "seasonyear               int64\n",
       "country                 object\n",
       "stateprovince           object\n",
       "zippostal               object\n",
       "dtype: object"
      ]
     },
     "execution_count": 15,
     "metadata": {},
     "output_type": "execute_result"
    }
   ],
   "source": [
    "df.dtypes"
   ]
  },
  {
   "cell_type": "markdown",
   "id": "d6d5d591",
   "metadata": {},
   "source": [
    "Purchase date should be a datetime not an object (string), all of the other inferred data types look correct:"
   ]
  },
  {
   "cell_type": "code",
   "execution_count": 16,
   "id": "1344b285",
   "metadata": {},
   "outputs": [],
   "source": [
    "df['purchasedate'] =  pd.to_datetime(df['purchasedate'], format='%Y-%m-%d')"
   ]
  },
  {
   "cell_type": "markdown",
   "id": "e436a89c",
   "metadata": {},
   "source": [
    "Our cleaned up dataset is ready for the next step, calculating RFM metrics:"
   ]
  },
  {
   "cell_type": "code",
   "execution_count": 17,
   "id": "68b44fa1",
   "metadata": {},
   "outputs": [
    {
     "name": "stdout",
     "output_type": "stream",
     "text": [
      "<class 'pandas.core.frame.DataFrame'>\n",
      "Int64Index: 203130 entries, 0 to 691300\n",
      "Data columns (total 10 columns):\n",
      " #   Column               Non-Null Count   Dtype         \n",
      "---  ------               --------------   -----         \n",
      " 0   dimcustomermasterid  203130 non-null  int64         \n",
      " 1   purchasedate         203130 non-null  datetime64[ns]\n",
      " 2   ticketcount          203130 non-null  int64         \n",
      " 3   revenue              203130 non-null  float64       \n",
      " 4   producttype          203130 non-null  object        \n",
      " 5   subproductname       203130 non-null  object        \n",
      " 6   seasonyear           203130 non-null  int64         \n",
      " 7   country              191477 non-null  object        \n",
      " 8   stateprovince        150470 non-null  object        \n",
      " 9   zippostal            163306 non-null  object        \n",
      "dtypes: datetime64[ns](1), float64(1), int64(3), object(5)\n",
      "memory usage: 17.0+ MB\n"
     ]
    }
   ],
   "source": [
    "df.info()"
   ]
  },
  {
   "cell_type": "code",
   "execution_count": 18,
   "id": "e120aba2",
   "metadata": {},
   "outputs": [
    {
     "data": {
      "text/html": [
       "<div>\n",
       "<style scoped>\n",
       "    .dataframe tbody tr th:only-of-type {\n",
       "        vertical-align: middle;\n",
       "    }\n",
       "\n",
       "    .dataframe tbody tr th {\n",
       "        vertical-align: top;\n",
       "    }\n",
       "\n",
       "    .dataframe thead th {\n",
       "        text-align: right;\n",
       "    }\n",
       "</style>\n",
       "<table border=\"1\" class=\"dataframe\">\n",
       "  <thead>\n",
       "    <tr style=\"text-align: right;\">\n",
       "      <th></th>\n",
       "      <th>dimcustomermasterid</th>\n",
       "      <th>purchasedate</th>\n",
       "      <th>ticketcount</th>\n",
       "      <th>revenue</th>\n",
       "      <th>producttype</th>\n",
       "      <th>subproductname</th>\n",
       "      <th>seasonyear</th>\n",
       "      <th>country</th>\n",
       "      <th>stateprovince</th>\n",
       "      <th>zippostal</th>\n",
       "    </tr>\n",
       "  </thead>\n",
       "  <tbody>\n",
       "    <tr>\n",
       "      <th>0</th>\n",
       "      <td>486156197</td>\n",
       "      <td>2021-10-06</td>\n",
       "      <td>2</td>\n",
       "      <td>61.20</td>\n",
       "      <td>Individual</td>\n",
       "      <td>Individual</td>\n",
       "      <td>2021</td>\n",
       "      <td>USA</td>\n",
       "      <td>OR</td>\n",
       "      <td>97086</td>\n",
       "    </tr>\n",
       "    <tr>\n",
       "      <th>1</th>\n",
       "      <td>612548146</td>\n",
       "      <td>2021-10-21</td>\n",
       "      <td>2</td>\n",
       "      <td>276.00</td>\n",
       "      <td>Individual</td>\n",
       "      <td>Individual</td>\n",
       "      <td>2021</td>\n",
       "      <td>US</td>\n",
       "      <td>IL</td>\n",
       "      <td>60069</td>\n",
       "    </tr>\n",
       "    <tr>\n",
       "      <th>2</th>\n",
       "      <td>612743431</td>\n",
       "      <td>2019-09-06</td>\n",
       "      <td>4</td>\n",
       "      <td>712.00</td>\n",
       "      <td>Individual</td>\n",
       "      <td>Individual</td>\n",
       "      <td>2019</td>\n",
       "      <td>CA</td>\n",
       "      <td>BC</td>\n",
       "      <td>V5V2K8</td>\n",
       "    </tr>\n",
       "    <tr>\n",
       "      <th>3</th>\n",
       "      <td>612750999</td>\n",
       "      <td>2021-12-09</td>\n",
       "      <td>2</td>\n",
       "      <td>110.00</td>\n",
       "      <td>Individual</td>\n",
       "      <td>Individual</td>\n",
       "      <td>2021</td>\n",
       "      <td>US</td>\n",
       "      <td>WA</td>\n",
       "      <td>98270-3559</td>\n",
       "    </tr>\n",
       "    <tr>\n",
       "      <th>4</th>\n",
       "      <td>616770053</td>\n",
       "      <td>2021-10-29</td>\n",
       "      <td>4</td>\n",
       "      <td>20.00</td>\n",
       "      <td>Individual</td>\n",
       "      <td>Individual</td>\n",
       "      <td>2021</td>\n",
       "      <td>USA</td>\n",
       "      <td>NaN</td>\n",
       "      <td>97128</td>\n",
       "    </tr>\n",
       "  </tbody>\n",
       "</table>\n",
       "</div>"
      ],
      "text/plain": [
       "   dimcustomermasterid purchasedate  ticketcount  revenue producttype  \\\n",
       "0            486156197   2021-10-06            2    61.20  Individual   \n",
       "1            612548146   2021-10-21            2   276.00  Individual   \n",
       "2            612743431   2019-09-06            4   712.00  Individual   \n",
       "3            612750999   2021-12-09            2   110.00  Individual   \n",
       "4            616770053   2021-10-29            4    20.00  Individual   \n",
       "\n",
       "  subproductname  seasonyear country stateprovince   zippostal  \n",
       "0     Individual        2021     USA            OR       97086  \n",
       "1     Individual        2021      US            IL       60069  \n",
       "2     Individual        2019      CA            BC      V5V2K8  \n",
       "3     Individual        2021      US            WA  98270-3559  \n",
       "4     Individual        2021     USA           NaN       97128  "
      ]
     },
     "execution_count": 18,
     "metadata": {},
     "output_type": "execute_result"
    }
   ],
   "source": [
    "df.head()"
   ]
  },
  {
   "cell_type": "markdown",
   "id": "5c789725",
   "metadata": {},
   "source": [
    "## Calculating RFM Metrics"
   ]
  },
  {
   "cell_type": "markdown",
   "id": "1d7eac49",
   "metadata": {},
   "source": [
    "**RFM** stands for Recency - Frequency - Monetary Value. Theoretically we will have segments like below:\n",
    "\n",
    "* Low Value: Customers who are less active than others, not very frequent buyer/visitor and generates low revenue.\n",
    "\n",
    "* Mid Value: In the middle of everything. Often purchasing (but not as much as our High Values), fairly frequent and generates moderate revenue.\n",
    "\n",
    "* High Value: The group we don’t want to lose. High Revenue, Frequency and low Inactivity."
   ]
  },
  {
   "cell_type": "markdown",
   "id": "96c59e92",
   "metadata": {},
   "source": [
    "### Recency\n",
    "\n",
    "To calculate recency, we need to find out most recent purchase date of each customer and see how many days they are inactive for. After having no. of inactive days for each customer, we will apply K-means* clustering to assign customers a recency score:"
   ]
  },
  {
   "cell_type": "code",
   "execution_count": 19,
   "id": "6ded0fac",
   "metadata": {},
   "outputs": [
    {
     "data": {
      "text/html": [
       "<div>\n",
       "<style scoped>\n",
       "    .dataframe tbody tr th:only-of-type {\n",
       "        vertical-align: middle;\n",
       "    }\n",
       "\n",
       "    .dataframe tbody tr th {\n",
       "        vertical-align: top;\n",
       "    }\n",
       "\n",
       "    .dataframe thead th {\n",
       "        text-align: right;\n",
       "    }\n",
       "</style>\n",
       "<table border=\"1\" class=\"dataframe\">\n",
       "  <thead>\n",
       "    <tr style=\"text-align: right;\">\n",
       "      <th></th>\n",
       "      <th>dimcustomermasterid</th>\n",
       "      <th>recency</th>\n",
       "    </tr>\n",
       "  </thead>\n",
       "  <tbody>\n",
       "    <tr>\n",
       "      <th>0</th>\n",
       "      <td>486156197</td>\n",
       "      <td>105</td>\n",
       "    </tr>\n",
       "    <tr>\n",
       "      <th>1</th>\n",
       "      <td>612548146</td>\n",
       "      <td>172</td>\n",
       "    </tr>\n",
       "    <tr>\n",
       "      <th>2</th>\n",
       "      <td>612743431</td>\n",
       "      <td>948</td>\n",
       "    </tr>\n",
       "    <tr>\n",
       "      <th>3</th>\n",
       "      <td>612750999</td>\n",
       "      <td>123</td>\n",
       "    </tr>\n",
       "    <tr>\n",
       "      <th>4</th>\n",
       "      <td>616770053</td>\n",
       "      <td>164</td>\n",
       "    </tr>\n",
       "  </tbody>\n",
       "</table>\n",
       "</div>"
      ],
      "text/plain": [
       "   dimcustomermasterid  recency\n",
       "0            486156197      105\n",
       "1            612548146      172\n",
       "2            612743431      948\n",
       "3            612750999      123\n",
       "4            616770053      164"
      ]
     },
     "execution_count": 19,
     "metadata": {},
     "output_type": "execute_result"
    }
   ],
   "source": [
    "# create a generic user dataframe to keep dimcustomermasterid and new segmentation scores\n",
    "df_customer = pd.DataFrame(df['dimcustomermasterid'].unique())\n",
    "df_customer.columns = ['dimcustomermasterid']\n",
    "\n",
    "# get the max purchase date for each customer and create a dataframe with it\n",
    "df_max_purchase = df.groupby('dimcustomermasterid')[\"purchasedate\"].max().reset_index()\n",
    "df_max_purchase.columns = ['dimcustomermasterid','maxpurchasedate']\n",
    "\n",
    "# we take our observation point as the max invoice date in our dataset\n",
    "df_max_purchase['recency'] = (df_max_purchase['maxpurchasedate'].max() - df_max_purchase['maxpurchasedate']).dt.days\n",
    "\n",
    "#merge this dataframe to our new user dataframe\n",
    "df_customer = pd.merge(df_customer, df_max_purchase[['dimcustomermasterid','recency']], on='dimcustomermasterid')\n",
    "\n",
    "df_customer.head()"
   ]
  },
  {
   "cell_type": "markdown",
   "id": "e719064c",
   "metadata": {},
   "source": [
    "Let's have a look at the standard statistics for the recency metric, specifically the mean, min and max values help us to understand the range of values in this metric:"
   ]
  },
  {
   "cell_type": "code",
   "execution_count": 20,
   "id": "7498fc94",
   "metadata": {},
   "outputs": [
    {
     "data": {
      "text/plain": [
       "count   122337.00\n",
       "mean       661.08\n",
       "std        464.53\n",
       "min          0.00\n",
       "25%        149.00\n",
       "50%        820.00\n",
       "75%       1134.00\n",
       "max       1406.00\n",
       "Name: recency, dtype: float64"
      ]
     },
     "execution_count": 20,
     "metadata": {},
     "output_type": "execute_result"
    }
   ],
   "source": [
    "df_customer[\"recency\"].describe()"
   ]
  },
  {
   "cell_type": "markdown",
   "id": "25c532da",
   "metadata": {},
   "source": [
    "Let's have a look at the distribution to see if there are any outlier datapoints affecting the range of values:"
   ]
  },
  {
   "cell_type": "code",
   "execution_count": 21,
   "id": "ef1f287d",
   "metadata": {},
   "outputs": [
    {
     "data": {
      "image/png": "[encoded data removed]",
      "text/plain": [
       "<Figure size 432x288 with 1 Axes>"
      ]
     },
     "metadata": {},
     "output_type": "display_data"
    }
   ],
   "source": [
    "plt.hist(df_customer[\"recency\"], bins=50, color=\"dodgerblue\", edgecolor=\"black\")\n",
    "plt.title(\"Recency by Customer\", fontsize=16)\n",
    "plt.ylabel(\"No. Customers\", fontsize=14)\n",
    "plt.xlabel(\"Recency (days)\", fontsize=14)\n",
    "plt.rcParams[\"figure.figsize\"] = (20,5)\n",
    "\n",
    "plt.show()"
   ]
  },
  {
   "cell_type": "markdown",
   "id": "c88f58f2",
   "metadata": {},
   "source": [
    "We can observe a large gap in purchasing behaviour between ~850 - 500 days ago, which aligns with when COVID-19 was declared a global pandemic. There's not much we can do to fill in that gap, so we'll leave the data as is."
   ]
  },
  {
   "cell_type": "markdown",
   "id": "0901453c",
   "metadata": {},
   "source": [
    "### Clustering Recency\n",
    "\n",
    "We are going to apply K-means clustering to assign a recency score. We will use the elbow method to determine how many clusters we need:"
   ]
  },
  {
   "cell_type": "code",
   "execution_count": 22,
   "id": "a6fb7741",
   "metadata": {},
   "outputs": [
    {
     "data": {
      "image/png": "[encoded data removed]",
      "text/plain": [
       "<Figure size 1440x360 with 1 Axes>"
      ]
     },
     "metadata": {},
     "output_type": "display_data"
    }
   ],
   "source": [
    "cluster_dict={}\n",
    "df_recency = df_customer[['recency']]\n",
    "\n",
    "for k in range(1, 10):\n",
    "    kmeans = KMeans(n_clusters=k, max_iter=1000).fit(df_recency)\n",
    "    df_recency[\"clusters\"] = kmeans.labels_\n",
    "    cluster_dict[k] = kmeans.inertia_ \n",
    "\n",
    "plt.figure()\n",
    "plt.plot(list(cluster_dict.keys()), list(cluster_dict.values()), color=\"dodgerblue\")\n",
    "plt.xlabel(\"Num Clusters\", fontsize=14)\n",
    "plt.show()"
   ]
  },
  {
   "cell_type": "markdown",
   "id": "ab1ef142",
   "metadata": {},
   "source": [
    "Here it looks like 3 is the optimal number of clusters as we don't get any increase in learning beyond 3 clusters."
   ]
  },
  {
   "cell_type": "code",
   "execution_count": 23,
   "id": "210060ba",
   "metadata": {},
   "outputs": [],
   "source": [
    "# build 3 clusters for recency and add it to dataframe\n",
    "kmeans = KMeans(n_clusters=3)\n",
    "kmeans.fit(df_customer[['recency']])\n",
    "df_customer['recencycluster'] = kmeans.predict(df_customer[['recency']])\n",
    "\n",
    "#function for ordering clusters from worst to best\n",
    "def order_cluster(cluster_field_name, target_field_name,df,ascending):\n",
    "    \n",
    "    df_new = df.groupby(cluster_field_name)[target_field_name].mean().reset_index()\n",
    "    df_new = df_new.sort_values(by=target_field_name,ascending=ascending).reset_index(drop=True)\n",
    "    df_new['index'] = df_new.index\n",
    "    df_final = pd.merge(df,df_new[[cluster_field_name,'index']], on=cluster_field_name)\n",
    "    df_final = df_final.drop([cluster_field_name],axis=1)\n",
    "    df_final = df_final.rename(columns={\"index\":cluster_field_name})\n",
    "    \n",
    "    return df_final\n",
    "\n",
    "df_customer = order_cluster('recencycluster', 'recency', df_customer, False)"
   ]
  },
  {
   "cell_type": "code",
   "execution_count": 24,
   "id": "bad2e278",
   "metadata": {},
   "outputs": [
    {
     "data": {
      "text/html": [
       "<div>\n",
       "<style scoped>\n",
       "    .dataframe tbody tr th:only-of-type {\n",
       "        vertical-align: middle;\n",
       "    }\n",
       "\n",
       "    .dataframe tbody tr th {\n",
       "        vertical-align: top;\n",
       "    }\n",
       "\n",
       "    .dataframe thead th {\n",
       "        text-align: right;\n",
       "    }\n",
       "</style>\n",
       "<table border=\"1\" class=\"dataframe\">\n",
       "  <thead>\n",
       "    <tr style=\"text-align: right;\">\n",
       "      <th></th>\n",
       "      <th>count</th>\n",
       "      <th>mean</th>\n",
       "      <th>std</th>\n",
       "      <th>min</th>\n",
       "      <th>25%</th>\n",
       "      <th>50%</th>\n",
       "      <th>75%</th>\n",
       "      <th>max</th>\n",
       "    </tr>\n",
       "    <tr>\n",
       "      <th>recencycluster</th>\n",
       "      <th></th>\n",
       "      <th></th>\n",
       "      <th></th>\n",
       "      <th></th>\n",
       "      <th></th>\n",
       "      <th></th>\n",
       "      <th></th>\n",
       "      <th></th>\n",
       "    </tr>\n",
       "  </thead>\n",
       "  <tbody>\n",
       "    <tr>\n",
       "      <th>0</th>\n",
       "      <td>35344.00</td>\n",
       "      <td>1210.68</td>\n",
       "      <td>56.62</td>\n",
       "      <td>1096.00</td>\n",
       "      <td>1170.00</td>\n",
       "      <td>1212.00</td>\n",
       "      <td>1254.00</td>\n",
       "      <td>1406.00</td>\n",
       "    </tr>\n",
       "    <tr>\n",
       "      <th>1</th>\n",
       "      <td>36065.00</td>\n",
       "      <td>855.96</td>\n",
       "      <td>56.43</td>\n",
       "      <td>502.00</td>\n",
       "      <td>812.00</td>\n",
       "      <td>855.00</td>\n",
       "      <td>895.00</td>\n",
       "      <td>978.00</td>\n",
       "    </tr>\n",
       "    <tr>\n",
       "      <th>2</th>\n",
       "      <td>50928.00</td>\n",
       "      <td>141.65</td>\n",
       "      <td>86.81</td>\n",
       "      <td>0.00</td>\n",
       "      <td>76.00</td>\n",
       "      <td>133.00</td>\n",
       "      <td>175.00</td>\n",
       "      <td>497.00</td>\n",
       "    </tr>\n",
       "  </tbody>\n",
       "</table>\n",
       "</div>"
      ],
      "text/plain": [
       "                  count    mean   std     min     25%     50%     75%     max\n",
       "recencycluster                                                               \n",
       "0              35344.00 1210.68 56.62 1096.00 1170.00 1212.00 1254.00 1406.00\n",
       "1              36065.00  855.96 56.43  502.00  812.00  855.00  895.00  978.00\n",
       "2              50928.00  141.65 86.81    0.00   76.00  133.00  175.00  497.00"
      ]
     },
     "execution_count": 24,
     "metadata": {},
     "output_type": "execute_result"
    }
   ],
   "source": [
    "df_customer.groupby('recencycluster')[\"recency\"].describe()"
   ]
  },
  {
   "cell_type": "markdown",
   "id": "2a75348c",
   "metadata": {},
   "source": [
    "We can see that cluser 0 contains the lower value fans, that have not purchased in a longer period of time compared to the higher value fans in cluster 2 that have purchased between 0 and 497 days ago."
   ]
  },
  {
   "cell_type": "markdown",
   "id": "b342c25c",
   "metadata": {},
   "source": [
    "### Frequency\n",
    "\n",
    "To create frequency clusters, we first need to find total number of purchases for each customer:"
   ]
  },
  {
   "cell_type": "code",
   "execution_count": 25,
   "id": "62b26f6a",
   "metadata": {},
   "outputs": [],
   "source": [
    "#get order counts for each user and create a dataframe with it\n",
    "df_frequency = df.groupby('dimcustomermasterid')[\"purchasedate\"].count().reset_index()\n",
    "df_frequency.columns = ['dimcustomermasterid','frequency']\n",
    "\n",
    "#add this data to our main dataframe\n",
    "df_customer = pd.merge(df_customer, df_frequency, on=\"dimcustomermasterid\")"
   ]
  },
  {
   "cell_type": "code",
   "execution_count": 26,
   "id": "f7709aa3",
   "metadata": {},
   "outputs": [
    {
     "data": {
      "text/html": [
       "<div>\n",
       "<style scoped>\n",
       "    .dataframe tbody tr th:only-of-type {\n",
       "        vertical-align: middle;\n",
       "    }\n",
       "\n",
       "    .dataframe tbody tr th {\n",
       "        vertical-align: top;\n",
       "    }\n",
       "\n",
       "    .dataframe thead th {\n",
       "        text-align: right;\n",
       "    }\n",
       "</style>\n",
       "<table border=\"1\" class=\"dataframe\">\n",
       "  <thead>\n",
       "    <tr style=\"text-align: right;\">\n",
       "      <th></th>\n",
       "      <th>dimcustomermasterid</th>\n",
       "      <th>recency</th>\n",
       "      <th>recencycluster</th>\n",
       "      <th>frequency</th>\n",
       "    </tr>\n",
       "  </thead>\n",
       "  <tbody>\n",
       "    <tr>\n",
       "      <th>0</th>\n",
       "      <td>486156197</td>\n",
       "      <td>105</td>\n",
       "      <td>2</td>\n",
       "      <td>20</td>\n",
       "    </tr>\n",
       "    <tr>\n",
       "      <th>1</th>\n",
       "      <td>612548146</td>\n",
       "      <td>172</td>\n",
       "      <td>2</td>\n",
       "      <td>1</td>\n",
       "    </tr>\n",
       "    <tr>\n",
       "      <th>2</th>\n",
       "      <td>612750999</td>\n",
       "      <td>123</td>\n",
       "      <td>2</td>\n",
       "      <td>1</td>\n",
       "    </tr>\n",
       "    <tr>\n",
       "      <th>3</th>\n",
       "      <td>616770053</td>\n",
       "      <td>164</td>\n",
       "      <td>2</td>\n",
       "      <td>2</td>\n",
       "    </tr>\n",
       "    <tr>\n",
       "      <th>4</th>\n",
       "      <td>619838265</td>\n",
       "      <td>187</td>\n",
       "      <td>2</td>\n",
       "      <td>1</td>\n",
       "    </tr>\n",
       "  </tbody>\n",
       "</table>\n",
       "</div>"
      ],
      "text/plain": [
       "   dimcustomermasterid  recency  recencycluster  frequency\n",
       "0            486156197      105               2         20\n",
       "1            612548146      172               2          1\n",
       "2            612750999      123               2          1\n",
       "3            616770053      164               2          2\n",
       "4            619838265      187               2          1"
      ]
     },
     "execution_count": 26,
     "metadata": {},
     "output_type": "execute_result"
    }
   ],
   "source": [
    "df_customer.head()"
   ]
  },
  {
   "cell_type": "markdown",
   "id": "c730941c",
   "metadata": {},
   "source": [
    "Let's plot the distribution on frequency to see the range of values:"
   ]
  },
  {
   "cell_type": "code",
   "execution_count": 27,
   "id": "082ab79c",
   "metadata": {},
   "outputs": [
    {
     "data": {
      "image/png": "[encoded data removed]",
      "text/plain": [
       "<Figure size 1440x360 with 1 Axes>"
      ]
     },
     "metadata": {},
     "output_type": "display_data"
    }
   ],
   "source": [
    "plt.hist(df_customer[\"frequency\"], color=\"dodgerblue\", edgecolor=\"black\")\n",
    "plt.title(\"Frequency by Customer\")\n",
    "plt.ylabel(\"No. Customers\")\n",
    "plt.xlabel(\"No. Purchases\")\n",
    "plt.rcParams[\"figure.figsize\"] = (20,5)\n",
    "\n",
    "plt.show()"
   ]
  },
  {
   "cell_type": "code",
   "execution_count": 28,
   "id": "889ebcb3",
   "metadata": {},
   "outputs": [
    {
     "data": {
      "text/plain": [
       "(-0.001, 5.0]       118992\n",
       "(5.0, 10.0]           2487\n",
       "(10.0, 100.0]          843\n",
       "(100.0, 1000.0]         14\n",
       "(1000.0, 5000.0]         1\n",
       "Name: frequency, dtype: int64"
      ]
     },
     "execution_count": 28,
     "metadata": {},
     "output_type": "execute_result"
    }
   ],
   "source": [
    "df_customer[\"frequency\"].value_counts(bins=[0, 5, 10, 100, 1000, 5000])"
   ]
  },
  {
   "cell_type": "markdown",
   "id": "e10ef7b0",
   "metadata": {},
   "source": [
    "Most customers have a lower frequency, but a few big purchasers are also present in the data. Because this analysis is focused on the typical individual ticket buyer, let's remove these outliers:"
   ]
  },
  {
   "cell_type": "code",
   "execution_count": 29,
   "id": "ee017dc0",
   "metadata": {},
   "outputs": [],
   "source": [
    "df_customer = df_customer[df_customer[\"frequency\"] <= 10]"
   ]
  },
  {
   "cell_type": "markdown",
   "id": "5d68fcc6",
   "metadata": {},
   "source": [
    "Let's observe the standard statistics for the frequency metric now that we have removed the outliers:"
   ]
  },
  {
   "cell_type": "code",
   "execution_count": 30,
   "id": "d4d7df03",
   "metadata": {},
   "outputs": [
    {
     "data": {
      "text/plain": [
       "count   121479.00\n",
       "mean         1.48\n",
       "std          1.16\n",
       "min          1.00\n",
       "25%          1.00\n",
       "50%          1.00\n",
       "75%          1.00\n",
       "max         10.00\n",
       "Name: frequency, dtype: float64"
      ]
     },
     "execution_count": 30,
     "metadata": {},
     "output_type": "execute_result"
    }
   ],
   "source": [
    "df_customer[\"frequency\"].describe()"
   ]
  },
  {
   "cell_type": "markdown",
   "id": "5da121c3",
   "metadata": {},
   "source": [
    "We could experiment with limiting frequency even further to < 5 games, but let's leave the limit at 10 games for now."
   ]
  },
  {
   "cell_type": "markdown",
   "id": "d8e7d421",
   "metadata": {},
   "source": [
    "### Clustering Frequency"
   ]
  },
  {
   "cell_type": "markdown",
   "id": "a2cdddfa",
   "metadata": {},
   "source": [
    "Let's apply the same k-means clustering with 3 clusters to assign a frequency cluster to each fan:"
   ]
  },
  {
   "cell_type": "code",
   "execution_count": 31,
   "id": "d65719c8",
   "metadata": {},
   "outputs": [],
   "source": [
    "# build 3 clusters for frequency and add it to dataframe\n",
    "kmeans = KMeans(n_clusters=3)\n",
    "kmeans.fit(df_customer[['frequency']])\n",
    "df_customer['frequencycluster'] = kmeans.predict(df_customer[['frequency']])\n",
    "\n",
    "df_customer = order_cluster('frequencycluster', 'frequency', df_customer, True)"
   ]
  },
  {
   "cell_type": "code",
   "execution_count": 32,
   "id": "406b95e1",
   "metadata": {},
   "outputs": [
    {
     "data": {
      "text/html": [
       "<div>\n",
       "<style scoped>\n",
       "    .dataframe tbody tr th:only-of-type {\n",
       "        vertical-align: middle;\n",
       "    }\n",
       "\n",
       "    .dataframe tbody tr th {\n",
       "        vertical-align: top;\n",
       "    }\n",
       "\n",
       "    .dataframe thead th {\n",
       "        text-align: right;\n",
       "    }\n",
       "</style>\n",
       "<table border=\"1\" class=\"dataframe\">\n",
       "  <thead>\n",
       "    <tr style=\"text-align: right;\">\n",
       "      <th></th>\n",
       "      <th>count</th>\n",
       "      <th>mean</th>\n",
       "      <th>std</th>\n",
       "      <th>min</th>\n",
       "      <th>25%</th>\n",
       "      <th>50%</th>\n",
       "      <th>75%</th>\n",
       "      <th>max</th>\n",
       "    </tr>\n",
       "    <tr>\n",
       "      <th>frequencycluster</th>\n",
       "      <th></th>\n",
       "      <th></th>\n",
       "      <th></th>\n",
       "      <th></th>\n",
       "      <th></th>\n",
       "      <th></th>\n",
       "      <th></th>\n",
       "      <th></th>\n",
       "    </tr>\n",
       "  </thead>\n",
       "  <tbody>\n",
       "    <tr>\n",
       "      <th>0</th>\n",
       "      <td>91502.00</td>\n",
       "      <td>1.00</td>\n",
       "      <td>0.00</td>\n",
       "      <td>1.00</td>\n",
       "      <td>1.00</td>\n",
       "      <td>1.00</td>\n",
       "      <td>1.00</td>\n",
       "      <td>1.00</td>\n",
       "    </tr>\n",
       "    <tr>\n",
       "      <th>1</th>\n",
       "      <td>23448.00</td>\n",
       "      <td>2.25</td>\n",
       "      <td>0.43</td>\n",
       "      <td>2.00</td>\n",
       "      <td>2.00</td>\n",
       "      <td>2.00</td>\n",
       "      <td>2.00</td>\n",
       "      <td>3.00</td>\n",
       "    </tr>\n",
       "    <tr>\n",
       "      <th>2</th>\n",
       "      <td>6529.00</td>\n",
       "      <td>5.49</td>\n",
       "      <td>1.69</td>\n",
       "      <td>4.00</td>\n",
       "      <td>4.00</td>\n",
       "      <td>5.00</td>\n",
       "      <td>6.00</td>\n",
       "      <td>10.00</td>\n",
       "    </tr>\n",
       "  </tbody>\n",
       "</table>\n",
       "</div>"
      ],
      "text/plain": [
       "                    count  mean  std  min  25%  50%  75%   max\n",
       "frequencycluster                                              \n",
       "0                91502.00  1.00 0.00 1.00 1.00 1.00 1.00  1.00\n",
       "1                23448.00  2.25 0.43 2.00 2.00 2.00 2.00  3.00\n",
       "2                 6529.00  5.49 1.69 4.00 4.00 5.00 6.00 10.00"
      ]
     },
     "execution_count": 32,
     "metadata": {},
     "output_type": "execute_result"
    }
   ],
   "source": [
    "df_customer.groupby('frequencycluster')[\"frequency\"].describe()"
   ]
  },
  {
   "cell_type": "markdown",
   "id": "2d31da85",
   "metadata": {},
   "source": [
    "Again, we see the lower value fans in cluster 0 that have only purchased for 1 event, compared to the higher value fans in cluster 2 who purchase on average 5.4 events."
   ]
  },
  {
   "cell_type": "markdown",
   "id": "44a24b0b",
   "metadata": {},
   "source": [
    "### Revenue\n",
    "\n",
    "Let’s add revenue to our dataset and cluster based on revenue:"
   ]
  },
  {
   "cell_type": "code",
   "execution_count": 33,
   "id": "df384364",
   "metadata": {},
   "outputs": [],
   "source": [
    "df_revenue = df.groupby(\"dimcustomermasterid\")[\"revenue\"].sum().reset_index()\n",
    "\n",
    "#df_customer.drop(columns=[\"revenue\"], inplace=True)\n",
    "df_customer = pd.merge(df_customer, df_revenue, on=\"dimcustomermasterid\")\n"
   ]
  },
  {
   "cell_type": "code",
   "execution_count": 34,
   "id": "14150420",
   "metadata": {},
   "outputs": [
    {
     "data": {
      "image/png": "[encoded data removed]",
      "text/plain": [
       "<Figure size 1440x360 with 1 Axes>"
      ]
     },
     "metadata": {},
     "output_type": "display_data"
    }
   ],
   "source": [
    "plt.style.use('dark_background')\n",
    "plt.hist(df_customer[\"revenue\"], color=\"dodgerblue\", edgecolor=\"black\")\n",
    "plt.title(\"Revenue by Customer\")\n",
    "plt.ylabel(\"No. Customers\")\n",
    "plt.xlabel(\"Revenue ($)\")\n",
    "plt.rcParams[\"figure.figsize\"] = (20,5)\n",
    "\n",
    "plt.show()"
   ]
  },
  {
   "cell_type": "code",
   "execution_count": 35,
   "id": "e78b8d83",
   "metadata": {},
   "outputs": [
    {
     "data": {
      "text/plain": [
       "(100.0, 500.0]       64412\n",
       "(50.0, 100.0]        20217\n",
       "(-0.001, 50.0]       17315\n",
       "(500.0, 1000.0]      13260\n",
       "(1000.0, 5000.0]      6089\n",
       "(5000.0, 10000.0]      147\n",
       "Name: revenue, dtype: int64"
      ]
     },
     "execution_count": 35,
     "metadata": {},
     "output_type": "execute_result"
    }
   ],
   "source": [
    "df_customer[\"revenue\"].value_counts(bins=[0, 50, 100, 500, 1000, 5000, 10000])"
   ]
  },
  {
   "cell_type": "markdown",
   "id": "bc080a31",
   "metadata": {},
   "source": [
    "Again, a few big spenders are present in the dataset. Let's remove the outlier customers who spend generate significantly more revenue than most:"
   ]
  },
  {
   "cell_type": "code",
   "execution_count": 36,
   "id": "591da81d",
   "metadata": {},
   "outputs": [],
   "source": [
    "df_customer = df_customer[df_customer[\"revenue\"] <= 5000]"
   ]
  },
  {
   "cell_type": "code",
   "execution_count": 37,
   "id": "465be908",
   "metadata": {},
   "outputs": [
    {
     "data": {
      "text/plain": [
       "count   121293.00\n",
       "mean       303.31\n",
       "std        408.68\n",
       "min          1.00\n",
       "25%         80.28\n",
       "50%        176.00\n",
       "75%        357.02\n",
       "max       5000.00\n",
       "Name: revenue, dtype: float64"
      ]
     },
     "execution_count": 37,
     "metadata": {},
     "output_type": "execute_result"
    }
   ],
   "source": [
    "df_customer[\"revenue\"].describe()"
   ]
  },
  {
   "cell_type": "markdown",
   "id": "f6c7b95a",
   "metadata": {},
   "source": [
    "# ! Remove dollar tickets (outlier at low end)"
   ]
  },
  {
   "cell_type": "markdown",
   "id": "bda3ba56",
   "metadata": {},
   "source": [
    "These stats look reasonable, the min of $1 revenue may need some more investigation, but we can proceed with clustering the revenue for now."
   ]
  },
  {
   "cell_type": "markdown",
   "id": "9433f207",
   "metadata": {},
   "source": [
    "### Clustering Revenue"
   ]
  },
  {
   "cell_type": "markdown",
   "id": "33bfb278",
   "metadata": {},
   "source": [
    "Let's apply the same k-means clustering with 3 clusters to assign a revenue cluster to each fan:"
   ]
  },
  {
   "cell_type": "code",
   "execution_count": 38,
   "id": "d55df6a6",
   "metadata": {},
   "outputs": [],
   "source": [
    "# build 3 clusters for revenue and add it to dataframe\n",
    "kmeans = KMeans(n_clusters=3)\n",
    "kmeans.fit(df_customer[['revenue']])\n",
    "df_customer['revenuecluster'] = kmeans.predict(df_customer[['revenue']])\n",
    "\n",
    "df_customer = order_cluster('revenuecluster', 'revenue', df_customer, True)"
   ]
  },
  {
   "cell_type": "code",
   "execution_count": 39,
   "id": "0dc2c945",
   "metadata": {},
   "outputs": [
    {
     "data": {
      "text/html": [
       "<div>\n",
       "<style scoped>\n",
       "    .dataframe tbody tr th:only-of-type {\n",
       "        vertical-align: middle;\n",
       "    }\n",
       "\n",
       "    .dataframe tbody tr th {\n",
       "        vertical-align: top;\n",
       "    }\n",
       "\n",
       "    .dataframe thead th {\n",
       "        text-align: right;\n",
       "    }\n",
       "</style>\n",
       "<table border=\"1\" class=\"dataframe\">\n",
       "  <thead>\n",
       "    <tr style=\"text-align: right;\">\n",
       "      <th></th>\n",
       "      <th>count</th>\n",
       "      <th>mean</th>\n",
       "      <th>std</th>\n",
       "      <th>min</th>\n",
       "      <th>25%</th>\n",
       "      <th>50%</th>\n",
       "      <th>75%</th>\n",
       "      <th>max</th>\n",
       "    </tr>\n",
       "    <tr>\n",
       "      <th>revenuecluster</th>\n",
       "      <th></th>\n",
       "      <th></th>\n",
       "      <th></th>\n",
       "      <th></th>\n",
       "      <th></th>\n",
       "      <th></th>\n",
       "      <th></th>\n",
       "      <th></th>\n",
       "    </tr>\n",
       "  </thead>\n",
       "  <tbody>\n",
       "    <tr>\n",
       "      <th>0</th>\n",
       "      <td>100606.00</td>\n",
       "      <td>167.46</td>\n",
       "      <td>119.65</td>\n",
       "      <td>1.00</td>\n",
       "      <td>68.00</td>\n",
       "      <td>136.00</td>\n",
       "      <td>245.32</td>\n",
       "      <td>477.20</td>\n",
       "    </tr>\n",
       "    <tr>\n",
       "      <th>1</th>\n",
       "      <td>18387.00</td>\n",
       "      <td>785.75</td>\n",
       "      <td>273.28</td>\n",
       "      <td>477.22</td>\n",
       "      <td>565.00</td>\n",
       "      <td>698.00</td>\n",
       "      <td>938.01</td>\n",
       "      <td>1588.89</td>\n",
       "    </tr>\n",
       "    <tr>\n",
       "      <th>2</th>\n",
       "      <td>2300.00</td>\n",
       "      <td>2389.13</td>\n",
       "      <td>752.67</td>\n",
       "      <td>1589.60</td>\n",
       "      <td>1807.94</td>\n",
       "      <td>2131.37</td>\n",
       "      <td>2748.96</td>\n",
       "      <td>5000.00</td>\n",
       "    </tr>\n",
       "  </tbody>\n",
       "</table>\n",
       "</div>"
      ],
      "text/plain": [
       "                   count    mean    std     min     25%     50%     75%  \\\n",
       "revenuecluster                                                            \n",
       "0              100606.00  167.46 119.65    1.00   68.00  136.00  245.32   \n",
       "1               18387.00  785.75 273.28  477.22  565.00  698.00  938.01   \n",
       "2                2300.00 2389.13 752.67 1589.60 1807.94 2131.37 2748.96   \n",
       "\n",
       "                   max  \n",
       "revenuecluster          \n",
       "0               477.20  \n",
       "1              1588.89  \n",
       "2              5000.00  "
      ]
     },
     "execution_count": 39,
     "metadata": {},
     "output_type": "execute_result"
    }
   ],
   "source": [
    "df_customer.groupby(\"revenuecluster\")[\"revenue\"].describe()"
   ]
  },
  {
   "cell_type": "markdown",
   "id": "a6401d3b",
   "metadata": {},
   "source": [
    "Once again, the clusters are ordered from low-high value with cluster 0 averaging ~$150 in revenue compared to ~$2000 in cluster 2."
   ]
  },
  {
   "cell_type": "markdown",
   "id": "94a1c86d",
   "metadata": {},
   "source": [
    "### Engagement\n",
    "\n",
    "Let's add a flag to show whether the fan has engaged with the team via purchasing a streaming subscription, or video game engagement provided by via the NBA dataset:"
   ]
  },
  {
   "cell_type": "code",
   "execution_count": 40,
   "id": "6ba44a60",
   "metadata": {},
   "outputs": [
    {
     "data": {
      "text/plain": [
       "0    118122\n",
       "1      3171\n",
       "Name: is_engaged, dtype: int64"
      ]
     },
     "execution_count": 40,
     "metadata": {},
     "output_type": "execute_result"
    }
   ],
   "source": [
    "\n",
    "# merge the NBA dataset with our customer dataset\n",
    "df_customer = pd.merge(df_customer, df2, on=\"dimcustomermasterid\")\n",
    "\n",
    "# create a flag based on the source of the record\n",
    "df_customer[\"is_engaged\"] = np.where(df_customer[\"entity_source\"] == \"PTB\", 1, 0)\n",
    "df_customer[\"is_engaged\"].value_counts()\n"
   ]
  },
  {
   "cell_type": "markdown",
   "id": "8b53657e",
   "metadata": {},
   "source": [
    "Because this metric is binary (either 0 or 1) we don't need to cluster this metric."
   ]
  },
  {
   "cell_type": "markdown",
   "id": "b2bad9a2",
   "metadata": {},
   "source": [
    "### Overall Score\n",
    "\n",
    "We have scores (cluster numbers) for recency, frequency & revenue, and our engagement score. Let’s create an overall score out of them:"
   ]
  },
  {
   "cell_type": "code",
   "execution_count": 41,
   "id": "3223973e",
   "metadata": {},
   "outputs": [
    {
     "data": {
      "text/html": [
       "<div>\n",
       "<style scoped>\n",
       "    .dataframe tbody tr th:only-of-type {\n",
       "        vertical-align: middle;\n",
       "    }\n",
       "\n",
       "    .dataframe tbody tr th {\n",
       "        vertical-align: top;\n",
       "    }\n",
       "\n",
       "    .dataframe thead th {\n",
       "        text-align: right;\n",
       "    }\n",
       "</style>\n",
       "<table border=\"1\" class=\"dataframe\">\n",
       "  <thead>\n",
       "    <tr style=\"text-align: right;\">\n",
       "      <th></th>\n",
       "      <th>recency</th>\n",
       "      <th>frequency</th>\n",
       "      <th>revenue</th>\n",
       "      <th>is_engaged</th>\n",
       "    </tr>\n",
       "    <tr>\n",
       "      <th>score</th>\n",
       "      <th></th>\n",
       "      <th></th>\n",
       "      <th></th>\n",
       "      <th></th>\n",
       "    </tr>\n",
       "  </thead>\n",
       "  <tbody>\n",
       "    <tr>\n",
       "      <th>1</th>\n",
       "      <td>1211.84</td>\n",
       "      <td>1.00</td>\n",
       "      <td>151.54</td>\n",
       "      <td>0.00</td>\n",
       "    </tr>\n",
       "    <tr>\n",
       "      <th>2</th>\n",
       "      <td>930.45</td>\n",
       "      <td>1.11</td>\n",
       "      <td>219.66</td>\n",
       "      <td>0.02</td>\n",
       "    </tr>\n",
       "    <tr>\n",
       "      <th>3</th>\n",
       "      <td>325.16</td>\n",
       "      <td>1.19</td>\n",
       "      <td>230.13</td>\n",
       "      <td>0.02</td>\n",
       "    </tr>\n",
       "    <tr>\n",
       "      <th>4</th>\n",
       "      <td>300.82</td>\n",
       "      <td>2.05</td>\n",
       "      <td>452.11</td>\n",
       "      <td>0.06</td>\n",
       "    </tr>\n",
       "    <tr>\n",
       "      <th>5</th>\n",
       "      <td>258.63</td>\n",
       "      <td>3.25</td>\n",
       "      <td>764.42</td>\n",
       "      <td>0.09</td>\n",
       "    </tr>\n",
       "    <tr>\n",
       "      <th>6</th>\n",
       "      <td>213.37</td>\n",
       "      <td>4.99</td>\n",
       "      <td>1140.92</td>\n",
       "      <td>0.12</td>\n",
       "    </tr>\n",
       "    <tr>\n",
       "      <th>7</th>\n",
       "      <td>184.83</td>\n",
       "      <td>6.22</td>\n",
       "      <td>2197.95</td>\n",
       "      <td>0.22</td>\n",
       "    </tr>\n",
       "    <tr>\n",
       "      <th>8</th>\n",
       "      <td>168.55</td>\n",
       "      <td>6.60</td>\n",
       "      <td>2563.87</td>\n",
       "      <td>1.00</td>\n",
       "    </tr>\n",
       "  </tbody>\n",
       "</table>\n",
       "</div>"
      ],
      "text/plain": [
       "       recency  frequency  revenue  is_engaged\n",
       "score                                         \n",
       "1      1211.84       1.00   151.54        0.00\n",
       "2       930.45       1.11   219.66        0.02\n",
       "3       325.16       1.19   230.13        0.02\n",
       "4       300.82       2.05   452.11        0.06\n",
       "5       258.63       3.25   764.42        0.09\n",
       "6       213.37       4.99  1140.92        0.12\n",
       "7       184.83       6.22  2197.95        0.22\n",
       "8       168.55       6.60  2563.87        1.00"
      ]
     },
     "execution_count": 41,
     "metadata": {},
     "output_type": "execute_result"
    }
   ],
   "source": [
    "# calculate overall score and use mean() to see details\n",
    "df_customer[\"score\"] = df_customer[\"recencycluster\"]+df_customer[\"frequencycluster\"]+df_customer[\"revenuecluster\"]+df_customer[\"is_engaged\"]+1\n",
    "\n",
    "df_customer.groupby(\"score\").agg({\n",
    "    \"recency\": \"mean\",\n",
    "    \"frequency\": \"mean\",\n",
    "    \"revenue\": \"mean\",\n",
    "    \"is_engaged\": \"mean\"\n",
    "})"
   ]
  },
  {
   "cell_type": "markdown",
   "id": "4cc854ab",
   "metadata": {},
   "source": [
    "As we can see, the higher the score, the higher value a fan (more recent purchase, higher frequency, higher revenue, more engagement). Let's plot each score group to see the distribution of fans across the revenue spectrum:"
   ]
  },
  {
   "cell_type": "code",
   "execution_count": 42,
   "id": "ea2db2eb",
   "metadata": {},
   "outputs": [
    {
     "data": {
      "image/png": "[encoded data removed]",
      "text/plain": [
       "<Figure size 1440x360 with 1 Axes>"
      ]
     },
     "metadata": {},
     "output_type": "display_data"
    }
   ],
   "source": [
    "colors = {1:'tab:blue', 2:'tab:orange', 3:'tab:green', 4:'tab:red', 5:'tab:purple', 6:'tab:pink', 7:'tab:olive', 8:'tab:cyan'}\n",
    "\n",
    "plt.scatter(df_customer[\"revenue\"], df_customer[\"score\"], c=df_customer[\"score\"].map(colors), edgecolors=\"black\", s=150, alpha=.5)\n",
    "plt.title(\"Revenue by RFME Score\", fontsize=16)\n",
    "plt.ylabel(\"RFME Score\", fontsize=14)\n",
    "plt.xlabel(\"Revenue ($)\", fontsize=14)\n",
    "plt.rcParams[\"figure.figsize\"] = (20,5)\n",
    "plt.show()"
   ]
  },
  {
   "cell_type": "markdown",
   "id": "332afa8b",
   "metadata": {},
   "source": [
    "Some Observations:\n",
    "* RFME Score=1 fans are tightly clustered, likely have only attended a single event and generate less than $500 in revenue.\n",
    "* RFME Score=3, 4, 5 and 6 span almost the entire revenue range, some additional segmentation could benefit distinguishing these groups.\n",
    "* RFME Score=7 are higher value, steady fans, not generating the highest spend, but likely generating the most revenue overall.\n",
    "* RFME Score=8 are high spend fans, who may not demonstrate regular attendance, but spend a lot when they do."
   ]
  },
  {
   "cell_type": "markdown",
   "id": "7cb9832e",
   "metadata": {},
   "source": [
    "## Segmentation"
   ]
  },
  {
   "cell_type": "markdown",
   "id": "2438d909",
   "metadata": {},
   "source": [
    "Let's add a segment to each customer in our dataset:"
   ]
  },
  {
   "cell_type": "code",
   "execution_count": 43,
   "id": "434ab8f6",
   "metadata": {},
   "outputs": [
    {
     "data": {
      "text/html": [
       "<div>\n",
       "<style scoped>\n",
       "    .dataframe tbody tr th:only-of-type {\n",
       "        vertical-align: middle;\n",
       "    }\n",
       "\n",
       "    .dataframe tbody tr th {\n",
       "        vertical-align: top;\n",
       "    }\n",
       "\n",
       "    .dataframe thead th {\n",
       "        text-align: right;\n",
       "    }\n",
       "</style>\n",
       "<table border=\"1\" class=\"dataframe\">\n",
       "  <thead>\n",
       "    <tr style=\"text-align: right;\">\n",
       "      <th></th>\n",
       "      <th>dimcustomermasterid</th>\n",
       "      <th>recency</th>\n",
       "      <th>recencycluster</th>\n",
       "      <th>frequency</th>\n",
       "      <th>frequencycluster</th>\n",
       "      <th>revenue</th>\n",
       "      <th>revenuecluster</th>\n",
       "      <th>entity_source</th>\n",
       "      <th>is_engaged</th>\n",
       "      <th>score</th>\n",
       "      <th>country</th>\n",
       "      <th>stateprovince</th>\n",
       "    </tr>\n",
       "  </thead>\n",
       "  <tbody>\n",
       "    <tr>\n",
       "      <th>0</th>\n",
       "      <td>612548146</td>\n",
       "      <td>172</td>\n",
       "      <td>2</td>\n",
       "      <td>1</td>\n",
       "      <td>0</td>\n",
       "      <td>276.00</td>\n",
       "      <td>0</td>\n",
       "      <td>NaN</td>\n",
       "      <td>0</td>\n",
       "      <td>3</td>\n",
       "      <td>US</td>\n",
       "      <td>IL</td>\n",
       "    </tr>\n",
       "    <tr>\n",
       "      <th>1</th>\n",
       "      <td>612750999</td>\n",
       "      <td>123</td>\n",
       "      <td>2</td>\n",
       "      <td>1</td>\n",
       "      <td>0</td>\n",
       "      <td>110.00</td>\n",
       "      <td>0</td>\n",
       "      <td>NaN</td>\n",
       "      <td>0</td>\n",
       "      <td>3</td>\n",
       "      <td>US</td>\n",
       "      <td>WA</td>\n",
       "    </tr>\n",
       "    <tr>\n",
       "      <th>2</th>\n",
       "      <td>619838265</td>\n",
       "      <td>187</td>\n",
       "      <td>2</td>\n",
       "      <td>1</td>\n",
       "      <td>0</td>\n",
       "      <td>351.00</td>\n",
       "      <td>0</td>\n",
       "      <td>NaN</td>\n",
       "      <td>0</td>\n",
       "      <td>3</td>\n",
       "      <td>US</td>\n",
       "      <td>CA</td>\n",
       "    </tr>\n",
       "    <tr>\n",
       "      <th>3</th>\n",
       "      <td>376854573</td>\n",
       "      <td>168</td>\n",
       "      <td>2</td>\n",
       "      <td>1</td>\n",
       "      <td>0</td>\n",
       "      <td>176.00</td>\n",
       "      <td>0</td>\n",
       "      <td>NaN</td>\n",
       "      <td>0</td>\n",
       "      <td>3</td>\n",
       "      <td>US</td>\n",
       "      <td>OR</td>\n",
       "    </tr>\n",
       "    <tr>\n",
       "      <th>4</th>\n",
       "      <td>472439529</td>\n",
       "      <td>66</td>\n",
       "      <td>2</td>\n",
       "      <td>1</td>\n",
       "      <td>0</td>\n",
       "      <td>76.00</td>\n",
       "      <td>0</td>\n",
       "      <td>NaN</td>\n",
       "      <td>0</td>\n",
       "      <td>3</td>\n",
       "      <td>USA</td>\n",
       "      <td>OR</td>\n",
       "    </tr>\n",
       "  </tbody>\n",
       "</table>\n",
       "</div>"
      ],
      "text/plain": [
       "   dimcustomermasterid  recency  recencycluster  frequency  frequencycluster  \\\n",
       "0            612548146      172               2          1                 0   \n",
       "1            612750999      123               2          1                 0   \n",
       "2            619838265      187               2          1                 0   \n",
       "3            376854573      168               2          1                 0   \n",
       "4            472439529       66               2          1                 0   \n",
       "\n",
       "   revenue  revenuecluster entity_source  is_engaged  score country  \\\n",
       "0   276.00               0           NaN           0      3      US   \n",
       "1   110.00               0           NaN           0      3      US   \n",
       "2   351.00               0           NaN           0      3      US   \n",
       "3   176.00               0           NaN           0      3      US   \n",
       "4    76.00               0           NaN           0      3     USA   \n",
       "\n",
       "  stateprovince  \n",
       "0            IL  \n",
       "1            WA  \n",
       "2            CA  \n",
       "3            OR  \n",
       "4            OR  "
      ]
     },
     "execution_count": 43,
     "metadata": {},
     "output_type": "execute_result"
    }
   ],
   "source": [
    "# join df_customer back with our original df to get our location columns\n",
    "df_customer = pd.merge(df_customer, df[[\"dimcustomermasterid\", \"country\", \"stateprovince\"]], on=\"dimcustomermasterid\")\n",
    "\n",
    "df_customer.head()"
   ]
  },
  {
   "cell_type": "code",
   "execution_count": 44,
   "id": "04dd8bd8",
   "metadata": {},
   "outputs": [
    {
     "data": {
      "text/plain": [
       "In-Market US        109487\n",
       "Out-of-Market US     53539\n",
       "International        16078\n",
       "Name: segment, dtype: int64"
      ]
     },
     "execution_count": 44,
     "metadata": {},
     "output_type": "execute_result"
    }
   ],
   "source": [
    "# populate a segment column based on conditions\n",
    "conditions  = [\n",
    "    df_customer[\"country\"].isin([\"US\",\"USA\",\"Uni\"]) & ~df_customer[\"stateprovince\"].isin([\"OR\",\"WA\",\"Orego\",\"OREGO\",\"Washi\",\"WASHI\"]), \n",
    "    df_customer[\"country\"].isin([\"US\",\"USA\",\"Uni\"]) & df_customer[\"stateprovince\"].isin([\"OR\",\"WA\",\"Orego\",\"OREGO\",\"Washi\",\"WASHI\"]), \n",
    "    ~df_customer[\"country\"].isin([\"US\",\"USA\",\"Uni\"]) & ~df_customer[\"stateprovince\"].isin([\"OR\",\"WA\",\"Orego\",\"OREGO\",\"Washi\",\"WASHI\"])\n",
    "]\n",
    "\n",
    "choices = [\"Out-of-Market US\", \"In-Market US\", \"International\"]\n",
    "    \n",
    "df_customer[\"segment\"] = np.select(conditions, choices, default=\"In-Market US\")\n",
    "\n",
    "df_customer[\"segment\"].value_counts()"
   ]
  },
  {
   "cell_type": "code",
   "execution_count": 45,
   "id": "87a1d0c9",
   "metadata": {},
   "outputs": [
    {
     "data": {
      "text/html": [
       "<div>\n",
       "<style scoped>\n",
       "    .dataframe tbody tr th:only-of-type {\n",
       "        vertical-align: middle;\n",
       "    }\n",
       "\n",
       "    .dataframe tbody tr th {\n",
       "        vertical-align: top;\n",
       "    }\n",
       "\n",
       "    .dataframe thead th {\n",
       "        text-align: right;\n",
       "    }\n",
       "</style>\n",
       "<table border=\"1\" class=\"dataframe\">\n",
       "  <thead>\n",
       "    <tr style=\"text-align: right;\">\n",
       "      <th></th>\n",
       "      <th>dimcustomermasterid</th>\n",
       "      <th>recency</th>\n",
       "      <th>recencycluster</th>\n",
       "      <th>frequency</th>\n",
       "      <th>frequencycluster</th>\n",
       "      <th>revenue</th>\n",
       "      <th>revenuecluster</th>\n",
       "      <th>entity_source</th>\n",
       "      <th>is_engaged</th>\n",
       "      <th>score</th>\n",
       "      <th>country</th>\n",
       "      <th>stateprovince</th>\n",
       "      <th>segment</th>\n",
       "    </tr>\n",
       "  </thead>\n",
       "  <tbody>\n",
       "    <tr>\n",
       "      <th>0</th>\n",
       "      <td>612548146</td>\n",
       "      <td>172</td>\n",
       "      <td>2</td>\n",
       "      <td>1</td>\n",
       "      <td>0</td>\n",
       "      <td>276.00</td>\n",
       "      <td>0</td>\n",
       "      <td>NaN</td>\n",
       "      <td>0</td>\n",
       "      <td>3</td>\n",
       "      <td>US</td>\n",
       "      <td>IL</td>\n",
       "      <td>Out-of-Market US</td>\n",
       "    </tr>\n",
       "    <tr>\n",
       "      <th>1</th>\n",
       "      <td>612750999</td>\n",
       "      <td>123</td>\n",
       "      <td>2</td>\n",
       "      <td>1</td>\n",
       "      <td>0</td>\n",
       "      <td>110.00</td>\n",
       "      <td>0</td>\n",
       "      <td>NaN</td>\n",
       "      <td>0</td>\n",
       "      <td>3</td>\n",
       "      <td>US</td>\n",
       "      <td>WA</td>\n",
       "      <td>In-Market US</td>\n",
       "    </tr>\n",
       "    <tr>\n",
       "      <th>2</th>\n",
       "      <td>619838265</td>\n",
       "      <td>187</td>\n",
       "      <td>2</td>\n",
       "      <td>1</td>\n",
       "      <td>0</td>\n",
       "      <td>351.00</td>\n",
       "      <td>0</td>\n",
       "      <td>NaN</td>\n",
       "      <td>0</td>\n",
       "      <td>3</td>\n",
       "      <td>US</td>\n",
       "      <td>CA</td>\n",
       "      <td>Out-of-Market US</td>\n",
       "    </tr>\n",
       "    <tr>\n",
       "      <th>3</th>\n",
       "      <td>376854573</td>\n",
       "      <td>168</td>\n",
       "      <td>2</td>\n",
       "      <td>1</td>\n",
       "      <td>0</td>\n",
       "      <td>176.00</td>\n",
       "      <td>0</td>\n",
       "      <td>NaN</td>\n",
       "      <td>0</td>\n",
       "      <td>3</td>\n",
       "      <td>US</td>\n",
       "      <td>OR</td>\n",
       "      <td>In-Market US</td>\n",
       "    </tr>\n",
       "    <tr>\n",
       "      <th>4</th>\n",
       "      <td>472439529</td>\n",
       "      <td>66</td>\n",
       "      <td>2</td>\n",
       "      <td>1</td>\n",
       "      <td>0</td>\n",
       "      <td>76.00</td>\n",
       "      <td>0</td>\n",
       "      <td>NaN</td>\n",
       "      <td>0</td>\n",
       "      <td>3</td>\n",
       "      <td>USA</td>\n",
       "      <td>OR</td>\n",
       "      <td>In-Market US</td>\n",
       "    </tr>\n",
       "  </tbody>\n",
       "</table>\n",
       "</div>"
      ],
      "text/plain": [
       "   dimcustomermasterid  recency  recencycluster  frequency  frequencycluster  \\\n",
       "0            612548146      172               2          1                 0   \n",
       "1            612750999      123               2          1                 0   \n",
       "2            619838265      187               2          1                 0   \n",
       "3            376854573      168               2          1                 0   \n",
       "4            472439529       66               2          1                 0   \n",
       "\n",
       "   revenue  revenuecluster entity_source  is_engaged  score country  \\\n",
       "0   276.00               0           NaN           0      3      US   \n",
       "1   110.00               0           NaN           0      3      US   \n",
       "2   351.00               0           NaN           0      3      US   \n",
       "3   176.00               0           NaN           0      3      US   \n",
       "4    76.00               0           NaN           0      3     USA   \n",
       "\n",
       "  stateprovince           segment  \n",
       "0            IL  Out-of-Market US  \n",
       "1            WA      In-Market US  \n",
       "2            CA  Out-of-Market US  \n",
       "3            OR      In-Market US  \n",
       "4            OR      In-Market US  "
      ]
     },
     "execution_count": 45,
     "metadata": {},
     "output_type": "execute_result"
    }
   ],
   "source": [
    "df_customer.head()"
   ]
  },
  {
   "cell_type": "markdown",
   "id": "a6968644",
   "metadata": {},
   "source": [
    "### Calculating TGR (Total Gross Revenue)\n",
    "\n",
    "Let's use our RFME scores to calculate a Total Gross Revenue for each segment:"
   ]
  },
  {
   "cell_type": "code",
   "execution_count": null,
   "id": "2a35c6ef",
   "metadata": {},
   "outputs": [],
   "source": [
    "# calculate metrics used for tgr calc\n",
    "df_tgr = df_customer.groupby([\"segment\", \"score\"]).agg(\n",
    "    {\n",
    "        \"revenue\": [\"mean\",\"sum\"],\n",
    "        \"segment\": [\"count\"]\n",
    "    })\n",
    "\n",
    "df_tgr.columns = ['revenue_avg', 'revenue_sum', 'fan_count']\n",
    "df_tgr = df_tgr.reset_index()"
   ]
  },
  {
   "cell_type": "code",
   "execution_count": 49,
   "id": "3d0f1974",
   "metadata": {},
   "outputs": [
    {
     "data": {
      "text/html": [
       "<div>\n",
       "<style scoped>\n",
       "    .dataframe tbody tr th:only-of-type {\n",
       "        vertical-align: middle;\n",
       "    }\n",
       "\n",
       "    .dataframe tbody tr th {\n",
       "        vertical-align: top;\n",
       "    }\n",
       "\n",
       "    .dataframe thead th {\n",
       "        text-align: right;\n",
       "    }\n",
       "</style>\n",
       "<table border=\"1\" class=\"dataframe\">\n",
       "  <thead>\n",
       "    <tr style=\"text-align: right;\">\n",
       "      <th></th>\n",
       "      <th>segment</th>\n",
       "      <th>score</th>\n",
       "      <th>revenue_avg</th>\n",
       "      <th>revenue_sum</th>\n",
       "      <th>fan_count</th>\n",
       "    </tr>\n",
       "  </thead>\n",
       "  <tbody>\n",
       "    <tr>\n",
       "      <th>0</th>\n",
       "      <td>In-Market US</td>\n",
       "      <td>1</td>\n",
       "      <td>153.08</td>\n",
       "      <td>1793135.96</td>\n",
       "      <td>11714</td>\n",
       "    </tr>\n",
       "    <tr>\n",
       "      <th>1</th>\n",
       "      <td>In-Market US</td>\n",
       "      <td>2</td>\n",
       "      <td>202.71</td>\n",
       "      <td>3878097.22</td>\n",
       "      <td>19131</td>\n",
       "    </tr>\n",
       "    <tr>\n",
       "      <th>2</th>\n",
       "      <td>In-Market US</td>\n",
       "      <td>3</td>\n",
       "      <td>248.60</td>\n",
       "      <td>6537002.52</td>\n",
       "      <td>26295</td>\n",
       "    </tr>\n",
       "    <tr>\n",
       "      <th>3</th>\n",
       "      <td>In-Market US</td>\n",
       "      <td>4</td>\n",
       "      <td>406.74</td>\n",
       "      <td>8258031.36</td>\n",
       "      <td>20303</td>\n",
       "    </tr>\n",
       "    <tr>\n",
       "      <th>4</th>\n",
       "      <td>In-Market US</td>\n",
       "      <td>5</td>\n",
       "      <td>678.95</td>\n",
       "      <td>9792520.89</td>\n",
       "      <td>14423</td>\n",
       "    </tr>\n",
       "    <tr>\n",
       "      <th>5</th>\n",
       "      <td>In-Market US</td>\n",
       "      <td>6</td>\n",
       "      <td>1076.89</td>\n",
       "      <td>13426667.80</td>\n",
       "      <td>12468</td>\n",
       "    </tr>\n",
       "    <tr>\n",
       "      <th>6</th>\n",
       "      <td>In-Market US</td>\n",
       "      <td>7</td>\n",
       "      <td>2241.44</td>\n",
       "      <td>10797027.07</td>\n",
       "      <td>4817</td>\n",
       "    </tr>\n",
       "    <tr>\n",
       "      <th>7</th>\n",
       "      <td>In-Market US</td>\n",
       "      <td>8</td>\n",
       "      <td>2657.73</td>\n",
       "      <td>892997.98</td>\n",
       "      <td>336</td>\n",
       "    </tr>\n",
       "    <tr>\n",
       "      <th>8</th>\n",
       "      <td>International</td>\n",
       "      <td>1</td>\n",
       "      <td>129.67</td>\n",
       "      <td>413770.07</td>\n",
       "      <td>3191</td>\n",
       "    </tr>\n",
       "    <tr>\n",
       "      <th>9</th>\n",
       "      <td>International</td>\n",
       "      <td>2</td>\n",
       "      <td>189.18</td>\n",
       "      <td>735357.21</td>\n",
       "      <td>3887</td>\n",
       "    </tr>\n",
       "    <tr>\n",
       "      <th>10</th>\n",
       "      <td>International</td>\n",
       "      <td>3</td>\n",
       "      <td>222.17</td>\n",
       "      <td>1276371.80</td>\n",
       "      <td>5745</td>\n",
       "    </tr>\n",
       "    <tr>\n",
       "      <th>11</th>\n",
       "      <td>International</td>\n",
       "      <td>4</td>\n",
       "      <td>435.30</td>\n",
       "      <td>923276.17</td>\n",
       "      <td>2121</td>\n",
       "    </tr>\n",
       "    <tr>\n",
       "      <th>12</th>\n",
       "      <td>International</td>\n",
       "      <td>5</td>\n",
       "      <td>699.44</td>\n",
       "      <td>549059.32</td>\n",
       "      <td>785</td>\n",
       "    </tr>\n",
       "    <tr>\n",
       "      <th>13</th>\n",
       "      <td>International</td>\n",
       "      <td>6</td>\n",
       "      <td>1222.12</td>\n",
       "      <td>359301.85</td>\n",
       "      <td>294</td>\n",
       "    </tr>\n",
       "    <tr>\n",
       "      <th>14</th>\n",
       "      <td>International</td>\n",
       "      <td>7</td>\n",
       "      <td>1912.05</td>\n",
       "      <td>105162.88</td>\n",
       "      <td>55</td>\n",
       "    </tr>\n",
       "    <tr>\n",
       "      <th>15</th>\n",
       "      <td>Out-of-Market US</td>\n",
       "      <td>1</td>\n",
       "      <td>155.66</td>\n",
       "      <td>1960368.39</td>\n",
       "      <td>12594</td>\n",
       "    </tr>\n",
       "    <tr>\n",
       "      <th>16</th>\n",
       "      <td>Out-of-Market US</td>\n",
       "      <td>2</td>\n",
       "      <td>254.06</td>\n",
       "      <td>2545972.35</td>\n",
       "      <td>10021</td>\n",
       "    </tr>\n",
       "    <tr>\n",
       "      <th>17</th>\n",
       "      <td>Out-of-Market US</td>\n",
       "      <td>3</td>\n",
       "      <td>236.79</td>\n",
       "      <td>3313818.73</td>\n",
       "      <td>13995</td>\n",
       "    </tr>\n",
       "    <tr>\n",
       "      <th>18</th>\n",
       "      <td>Out-of-Market US</td>\n",
       "      <td>4</td>\n",
       "      <td>401.04</td>\n",
       "      <td>3477427.70</td>\n",
       "      <td>8671</td>\n",
       "    </tr>\n",
       "    <tr>\n",
       "      <th>19</th>\n",
       "      <td>Out-of-Market US</td>\n",
       "      <td>5</td>\n",
       "      <td>647.58</td>\n",
       "      <td>3428912.77</td>\n",
       "      <td>5295</td>\n",
       "    </tr>\n",
       "    <tr>\n",
       "      <th>20</th>\n",
       "      <td>Out-of-Market US</td>\n",
       "      <td>6</td>\n",
       "      <td>1111.57</td>\n",
       "      <td>2579944.59</td>\n",
       "      <td>2321</td>\n",
       "    </tr>\n",
       "    <tr>\n",
       "      <th>21</th>\n",
       "      <td>Out-of-Market US</td>\n",
       "      <td>7</td>\n",
       "      <td>2214.20</td>\n",
       "      <td>1361730.76</td>\n",
       "      <td>615</td>\n",
       "    </tr>\n",
       "    <tr>\n",
       "      <th>22</th>\n",
       "      <td>Out-of-Market US</td>\n",
       "      <td>8</td>\n",
       "      <td>2189.64</td>\n",
       "      <td>59120.24</td>\n",
       "      <td>27</td>\n",
       "    </tr>\n",
       "  </tbody>\n",
       "</table>\n",
       "</div>"
      ],
      "text/plain": [
       "             segment  score  revenue_avg  revenue_sum  fan_count\n",
       "0       In-Market US      1       153.08   1793135.96      11714\n",
       "1       In-Market US      2       202.71   3878097.22      19131\n",
       "2       In-Market US      3       248.60   6537002.52      26295\n",
       "3       In-Market US      4       406.74   8258031.36      20303\n",
       "4       In-Market US      5       678.95   9792520.89      14423\n",
       "5       In-Market US      6      1076.89  13426667.80      12468\n",
       "6       In-Market US      7      2241.44  10797027.07       4817\n",
       "7       In-Market US      8      2657.73    892997.98        336\n",
       "8      International      1       129.67    413770.07       3191\n",
       "9      International      2       189.18    735357.21       3887\n",
       "10     International      3       222.17   1276371.80       5745\n",
       "11     International      4       435.30    923276.17       2121\n",
       "12     International      5       699.44    549059.32        785\n",
       "13     International      6      1222.12    359301.85        294\n",
       "14     International      7      1912.05    105162.88         55\n",
       "15  Out-of-Market US      1       155.66   1960368.39      12594\n",
       "16  Out-of-Market US      2       254.06   2545972.35      10021\n",
       "17  Out-of-Market US      3       236.79   3313818.73      13995\n",
       "18  Out-of-Market US      4       401.04   3477427.70       8671\n",
       "19  Out-of-Market US      5       647.58   3428912.77       5295\n",
       "20  Out-of-Market US      6      1111.57   2579944.59       2321\n",
       "21  Out-of-Market US      7      2214.20   1361730.76        615\n",
       "22  Out-of-Market US      8      2189.64     59120.24         27"
      ]
     },
     "execution_count": 49,
     "metadata": {},
     "output_type": "execute_result"
    }
   ],
   "source": [
    "df_tgr"
   ]
  },
  {
   "cell_type": "markdown",
   "id": "f940ae87",
   "metadata": {},
   "source": [
    "Let's plot the total_agr for each segment to see the spread across score groups and total revenue generated by each segement:"
   ]
  },
  {
   "cell_type": "code",
   "execution_count": 47,
   "id": "d37629b7",
   "metadata": {},
   "outputs": [
    {
     "data": {
      "image/png": "[encoded data removed]",
      "text/plain": [
       "<Figure size 1440x360 with 1 Axes>"
      ]
     },
     "metadata": {},
     "output_type": "display_data"
    }
   ],
   "source": [
    "df_tgr.pivot(\"segment\", \"score\", \"revenue_sum\").plot(kind='bar')\n",
    "plt.title(\"Score Groups by Segment\", fontsize=16)\n",
    "plt.xlabel(\"Segment\", fontsize=14)\n",
    "plt.xticks(rotation = 0)\n",
    "plt.ylabel(\"Avg Gross Revenue ($ millions)\", fontsize=14)\n",
    "plt.show()"
   ]
  },
  {
   "cell_type": "markdown",
   "id": "605bc3f7",
   "metadata": {},
   "source": [
    "Observations:\n",
    "* The In-Market US segment generates the most revenue by a large margin\n",
    "* Both US markets contain fans from all score groups (low value to high value)\n",
    "* The International segment does not contain any very high value fans (RFME Score=8), and a very small amount of RFME=7 fans\n",
    "* For In-Market US, the highest RMFE Score fans generate the least amount of total revenue (less than RFME=1)"
   ]
  },
  {
   "cell_type": "markdown",
   "id": "c6bdae7b",
   "metadata": {},
   "source": [
    "## TODO:\n",
    "* calculate silhouette score for clusters\n",
    "* change clustering to Pycaret\n",
    "* break out clustering into own section?\n",
    "* investiage event buyers > 100\n",
    "* apply TGR to NBA segments\n",
    "    - segment the NBA fans (in-market, out-of-market, international)\n",
    "    - use the same distribution for clusters among segments to estimate fans/segment cluster\n",
    "    - use the avg revenue per fan to aprx project gross revenue per segment/cluster\n",
    "\n",
    "Questions:\n",
    "1. Of package buyers, how much potential revenue is there ?\n",
    "2. At what rate do indy buyers convert to package buyers ?\n",
    "Let's add this (revenue * conv_rate) to the NBA Potential Gross Revenue\n",
    "    "
   ]
  }
 ],
 "metadata": {
  "kernelspec": {
   "display_name": "Python 3.8.5 ('stellar')",
   "language": "python",
   "name": "python3"
  },
  "language_info": {
   "codemirror_mode": {
    "name": "ipython",
    "version": 3
   },
   "file_extension": ".py",
   "mimetype": "text/x-python",
   "name": "python",
   "nbconvert_exporter": "python",
   "pygments_lexer": "ipython3",
   "version": "3.8.5"
  },
  "vscode": {
   "interpreter": {
    "hash": "89f48dadab51a6b5b48ffc1a9e043c21cefe67453637c3444f3b86917b8aad16"
   }
  }
 },
 "nbformat": 4,
 "nbformat_minor": 5
}
