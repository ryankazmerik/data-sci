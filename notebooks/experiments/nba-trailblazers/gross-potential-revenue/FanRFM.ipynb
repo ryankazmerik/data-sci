{
 "cells": [
  {
   "cell_type": "markdown",
   "id": "61037526-75ba-4674-a31e-d5e2e805f26b",
   "metadata": {},
   "source": [
    "# RFM _ Engagement models\n",
    "* StelllarAlgo Data Science\n",
    "* Ryan Kazmerik, Nakisa Rad, Joey Lai\n",
    "* Jul 11, 2022"
   ]
  },
  {
   "cell_type": "code",
   "execution_count": 1,
   "id": "573b8578-5434-4dae-9311-eb051fb342f2",
   "metadata": {},
   "outputs": [],
   "source": [
    "import getpass\n",
    "import pyodbc\n",
    "import pandas as pd\n",
    "import matplotlib.pyplot as plt\n",
    "from pandas_profiling import ProfileReport\n",
    "from datetime import datetime\n",
    "from pycaret.classification import *"
   ]
  },
  {
   "cell_type": "code",
   "execution_count": 2,
   "id": "7a43ea9f-e746-4e31-ae24-f6f6de170976",
   "metadata": {},
   "outputs": [
    {
     "name": "stdin",
     "output_type": "stream",
     "text": [
      "Enter your password ··················\n"
     ]
    }
   ],
   "source": [
    "# connect to SQL Server.\n",
    "SERVER = '34.206.73.189' \n",
    "DATABASE = 'datascience' \n",
    "USERNAME = 'dsAdminWrite' \n",
    "PASSWORD = getpass.getpass(prompt='Enter your password')\n",
    "CNXN = pyodbc.connect('DRIVER={ODBC Driver 17 for SQL Server};SERVER='+SERVER+';DATABASE='+DATABASE+';UID='+USERNAME+';PWD='+ PASSWORD)"
   ]
  },
  {
   "cell_type": "code",
   "execution_count": 3,
   "id": "c278bce3-0c58-4f2c-92be-361b5a134574",
   "metadata": {},
   "outputs": [
    {
     "data": {
      "text/plain": [
       "(244310, 17)"
      ]
     },
     "execution_count": 3,
     "metadata": {},
     "output_type": "execute_result"
    }
   ],
   "source": [
    "lkupclientid = 5 # ptb\n",
    "cursor = CNXN.cursor()\n",
    "\n",
    "storedProc = (\n",
    "    f\"\"\"SELECT * FROM [stlrTrailblazers].[dw].[factfanrfm] WHERE lkupclientid = {lkupclientid} AND date_effective_end IS NULL \"\"\"\n",
    ")\n",
    "\n",
    "df = pd.read_sql(storedProc, CNXN)\n",
    "\n",
    "CNXN.commit()\n",
    "cursor.close()\n",
    "\n",
    "df.shape"
   ]
  },
  {
   "cell_type": "code",
   "execution_count": 4,
   "id": "fc7d02a6-9a35-465f-b8a6-1273eb1af5f0",
   "metadata": {},
   "outputs": [
    {
     "data": {
      "text/html": [
       "<div>\n",
       "<style scoped>\n",
       "    .dataframe tbody tr th:only-of-type {\n",
       "        vertical-align: middle;\n",
       "    }\n",
       "\n",
       "    .dataframe tbody tr th {\n",
       "        vertical-align: top;\n",
       "    }\n",
       "\n",
       "    .dataframe thead th {\n",
       "        text-align: right;\n",
       "    }\n",
       "</style>\n",
       "<table border=\"1\" class=\"dataframe\">\n",
       "  <thead>\n",
       "    <tr style=\"text-align: right;\">\n",
       "      <th></th>\n",
       "      <th>factFanRFMId</th>\n",
       "      <th>lkupClientId</th>\n",
       "      <th>dimCustomerMasterId</th>\n",
       "      <th>scoreDate</th>\n",
       "      <th>recency</th>\n",
       "      <th>frequency</th>\n",
       "      <th>monetary</th>\n",
       "      <th>recency_tier</th>\n",
       "      <th>frequency_tier</th>\n",
       "      <th>monetary_tier</th>\n",
       "      <th>type</th>\n",
       "      <th>recency_label</th>\n",
       "      <th>frequency_label</th>\n",
       "      <th>monetary_label</th>\n",
       "      <th>date_effective_start</th>\n",
       "      <th>date_effective_end</th>\n",
       "      <th>isDeleted</th>\n",
       "    </tr>\n",
       "  </thead>\n",
       "  <tbody>\n",
       "    <tr>\n",
       "      <th>0</th>\n",
       "      <td>-9223372036495451819</td>\n",
       "      <td>5</td>\n",
       "      <td>3</td>\n",
       "      <td>2022-07-17</td>\n",
       "      <td>2017-11-21</td>\n",
       "      <td>1</td>\n",
       "      <td>275.0</td>\n",
       "      <td>1</td>\n",
       "      <td>1</td>\n",
       "      <td>2</td>\n",
       "      <td>ticketing</td>\n",
       "      <td>Tier 1: &gt; 3 Months</td>\n",
       "      <td>Tier 1: 1 Purchase</td>\n",
       "      <td>Tier 2: $150 - $300</td>\n",
       "      <td>2022-07-17</td>\n",
       "      <td>None</td>\n",
       "      <td>False</td>\n",
       "    </tr>\n",
       "    <tr>\n",
       "      <th>1</th>\n",
       "      <td>-9223372036495543630</td>\n",
       "      <td>5</td>\n",
       "      <td>3</td>\n",
       "      <td>2022-07-17</td>\n",
       "      <td>2017-11-21</td>\n",
       "      <td>1</td>\n",
       "      <td>275.0</td>\n",
       "      <td>1</td>\n",
       "      <td>1</td>\n",
       "      <td>2</td>\n",
       "      <td>overall</td>\n",
       "      <td>Tier 1: &gt; 3 Months</td>\n",
       "      <td>Tier 1: 1 Purchase</td>\n",
       "      <td>Tier 2: $150 - $300</td>\n",
       "      <td>2022-07-17</td>\n",
       "      <td>None</td>\n",
       "      <td>False</td>\n",
       "    </tr>\n",
       "    <tr>\n",
       "      <th>2</th>\n",
       "      <td>-9223372036495538165</td>\n",
       "      <td>5</td>\n",
       "      <td>16</td>\n",
       "      <td>2022-07-17</td>\n",
       "      <td>2018-02-02</td>\n",
       "      <td>1</td>\n",
       "      <td>1457.2</td>\n",
       "      <td>1</td>\n",
       "      <td>1</td>\n",
       "      <td>5</td>\n",
       "      <td>ticketing</td>\n",
       "      <td>Tier 1: &gt; 3 Months</td>\n",
       "      <td>Tier 1: 1 Purchase</td>\n",
       "      <td>Tier 5: &gt; $1000</td>\n",
       "      <td>2022-07-17</td>\n",
       "      <td>None</td>\n",
       "      <td>False</td>\n",
       "    </tr>\n",
       "    <tr>\n",
       "      <th>3</th>\n",
       "      <td>-9223372036495455911</td>\n",
       "      <td>5</td>\n",
       "      <td>16</td>\n",
       "      <td>2022-07-17</td>\n",
       "      <td>2018-02-02</td>\n",
       "      <td>1</td>\n",
       "      <td>1457.2</td>\n",
       "      <td>1</td>\n",
       "      <td>1</td>\n",
       "      <td>5</td>\n",
       "      <td>overall</td>\n",
       "      <td>Tier 1: &gt; 3 Months</td>\n",
       "      <td>Tier 1: 1 Purchase</td>\n",
       "      <td>Tier 5: &gt; $1000</td>\n",
       "      <td>2022-07-17</td>\n",
       "      <td>None</td>\n",
       "      <td>False</td>\n",
       "    </tr>\n",
       "    <tr>\n",
       "      <th>4</th>\n",
       "      <td>-9223372036495632415</td>\n",
       "      <td>5</td>\n",
       "      <td>19</td>\n",
       "      <td>2022-07-17</td>\n",
       "      <td>2018-10-17</td>\n",
       "      <td>1</td>\n",
       "      <td>220.0</td>\n",
       "      <td>1</td>\n",
       "      <td>1</td>\n",
       "      <td>2</td>\n",
       "      <td>ticketing</td>\n",
       "      <td>Tier 1: &gt; 3 Months</td>\n",
       "      <td>Tier 1: 1 Purchase</td>\n",
       "      <td>Tier 2: $150 - $300</td>\n",
       "      <td>2022-07-17</td>\n",
       "      <td>None</td>\n",
       "      <td>False</td>\n",
       "    </tr>\n",
       "  </tbody>\n",
       "</table>\n",
       "</div>"
      ],
      "text/plain": [
       "          factFanRFMId  lkupClientId  dimCustomerMasterId   scoreDate  \\\n",
       "0 -9223372036495451819             5                    3  2022-07-17   \n",
       "1 -9223372036495543630             5                    3  2022-07-17   \n",
       "2 -9223372036495538165             5                   16  2022-07-17   \n",
       "3 -9223372036495455911             5                   16  2022-07-17   \n",
       "4 -9223372036495632415             5                   19  2022-07-17   \n",
       "\n",
       "      recency  frequency  monetary recency_tier frequency_tier monetary_tier  \\\n",
       "0  2017-11-21          1     275.0            1              1             2   \n",
       "1  2017-11-21          1     275.0            1              1             2   \n",
       "2  2018-02-02          1    1457.2            1              1             5   \n",
       "3  2018-02-02          1    1457.2            1              1             5   \n",
       "4  2018-10-17          1     220.0            1              1             2   \n",
       "\n",
       "        type       recency_label     frequency_label       monetary_label  \\\n",
       "0  ticketing  Tier 1: > 3 Months  Tier 1: 1 Purchase  Tier 2: $150 - $300   \n",
       "1    overall  Tier 1: > 3 Months  Tier 1: 1 Purchase  Tier 2: $150 - $300   \n",
       "2  ticketing  Tier 1: > 3 Months  Tier 1: 1 Purchase      Tier 5: > $1000   \n",
       "3    overall  Tier 1: > 3 Months  Tier 1: 1 Purchase      Tier 5: > $1000   \n",
       "4  ticketing  Tier 1: > 3 Months  Tier 1: 1 Purchase  Tier 2: $150 - $300   \n",
       "\n",
       "  date_effective_start date_effective_end  isDeleted  \n",
       "0           2022-07-17               None      False  \n",
       "1           2022-07-17               None      False  \n",
       "2           2022-07-17               None      False  \n",
       "3           2022-07-17               None      False  \n",
       "4           2022-07-17               None      False  "
      ]
     },
     "execution_count": 4,
     "metadata": {},
     "output_type": "execute_result"
    }
   ],
   "source": [
    "df.head()"
   ]
  },
  {
   "cell_type": "code",
   "execution_count": 5,
   "id": "799891d7-1830-417e-b9f9-383aa94e47b6",
   "metadata": {},
   "outputs": [
    {
     "data": {
      "application/vnd.jupyter.widget-view+json": {
       "model_id": "c7dc1e818e944ae2bac7894ce2ef806c",
       "version_major": 2,
       "version_minor": 0
      },
      "text/plain": [
       "Summarize dataset:   0%|          | 0/30 [00:00<?, ?it/s]"
      ]
     },
     "metadata": {},
     "output_type": "display_data"
    },
    {
     "data": {
      "application/vnd.jupyter.widget-view+json": {
       "model_id": "be141b63e979427ead44870b9840d265",
       "version_major": 2,
       "version_minor": 0
      },
      "text/plain": [
       "Generate report structure:   0%|          | 0/1 [00:00<?, ?it/s]"
      ]
     },
     "metadata": {},
     "output_type": "display_data"
    },
    {
     "data": {
      "application/vnd.jupyter.widget-view+json": {
       "model_id": "4bafd850cdeb4e03a0c97c46c386dfa8",
       "version_major": 2,
       "version_minor": 0
      },
      "text/plain": [
       "Render HTML:   0%|          | 0/1 [00:00<?, ?it/s]"
      ]
     },
     "metadata": {},
     "output_type": "display_data"
    },
    {
     "data": {
      "application/vnd.jupyter.widget-view+json": {
       "model_id": "1198ee340143432f883e98de445976c3",
       "version_major": 2,
       "version_minor": 0
      },
      "text/plain": [
       "Export report to file:   0%|          | 0/1 [00:00<?, ?it/s]"
      ]
     },
     "metadata": {},
     "output_type": "display_data"
    }
   ],
   "source": [
    "report = ProfileReport(df)\n",
    "report.to_file(\"FanRFM.html\")"
   ]
  },
  {
   "cell_type": "code",
   "execution_count": null,
   "id": "cb4b0af1-a844-4b48-866c-e2d2bffbc65f",
   "metadata": {},
   "outputs": [],
   "source": []
  }
 ],
 "metadata": {
  "kernelspec": {
   "display_name": "Python 3 (ipykernel)",
   "language": "python",
   "name": "python3"
  },
  "language_info": {
   "codemirror_mode": {
    "name": "ipython",
    "version": 3
   },
   "file_extension": ".py",
   "mimetype": "text/x-python",
   "name": "python",
   "nbconvert_exporter": "python",
   "pygments_lexer": "ipython3",
   "version": "3.9.4"
  }
 },
 "nbformat": 4,
 "nbformat_minor": 5
}
