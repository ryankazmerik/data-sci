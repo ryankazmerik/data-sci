{
 "cells": [
  {
   "cell_type": "markdown",
   "id": "61037526-75ba-4674-a31e-d5e2e805f26b",
   "metadata": {},
   "source": [
    "# Fan Avidity\n",
    "* StelllarAlgo Data Science\n",
    "* Ryan Kazmerik, Nakisa Rad, Joey Lai\n",
    "* Jul 11, 2022"
   ]
  },
  {
   "cell_type": "code",
   "execution_count": 1,
   "id": "573b8578-5434-4dae-9311-eb051fb342f2",
   "metadata": {},
   "outputs": [],
   "source": [
    "import getpass\n",
    "import pyodbc\n",
    "import pandas as pd\n",
    "from pandas_profiling import ProfileReport\n",
    "import matplotlib.pyplot as plt\n",
    "from datetime import datetime\n",
    "from pycaret.classification import *"
   ]
  },
  {
   "cell_type": "code",
   "execution_count": 2,
   "id": "7a43ea9f-e746-4e31-ae24-f6f6de170976",
   "metadata": {},
   "outputs": [
    {
     "name": "stdin",
     "output_type": "stream",
     "text": [
      "Enter your password ··················\n"
     ]
    }
   ],
   "source": [
    "# connect to SQL Server.\n",
    "SERVER = '34.206.73.189' \n",
    "DATABASE = 'datascience' \n",
    "USERNAME = 'dsAdminWrite' \n",
    "PASSWORD = getpass.getpass(prompt='Enter your password')\n",
    "CNXN = pyodbc.connect('DRIVER={ODBC Driver 17 for SQL Server};SERVER='+SERVER+';DATABASE='+DATABASE+';UID='+USERNAME+';PWD='+ PASSWORD)"
   ]
  },
  {
   "cell_type": "code",
   "execution_count": 3,
   "id": "c278bce3-0c58-4f2c-92be-361b5a134574",
   "metadata": {},
   "outputs": [
    {
     "data": {
      "text/plain": [
       "(609308, 9)"
      ]
     },
     "execution_count": 3,
     "metadata": {},
     "output_type": "execute_result"
    }
   ],
   "source": [
    "lkupclientid = 5 # ptb\n",
    "cursor = CNXN.cursor()\n",
    "\n",
    "storedProc = (\n",
    "    f\"\"\"SELECT * FROM [stlrTrailblazers].[dw].[factfanavidity] WHERE lkupclientid = {lkupclientid} AND date_effective_end IS NULL \"\"\"\n",
    ")\n",
    "\n",
    "df = pd.read_sql(storedProc, CNXN)\n",
    "\n",
    "CNXN.commit()\n",
    "cursor.close()\n",
    "\n",
    "df.shape"
   ]
  },
  {
   "cell_type": "code",
   "execution_count": 4,
   "id": "64bda516-2ef0-4119-987a-6a195a2d9387",
   "metadata": {},
   "outputs": [
    {
     "data": {
      "text/html": [
       "<div>\n",
       "<style scoped>\n",
       "    .dataframe tbody tr th:only-of-type {\n",
       "        vertical-align: middle;\n",
       "    }\n",
       "\n",
       "    .dataframe tbody tr th {\n",
       "        vertical-align: top;\n",
       "    }\n",
       "\n",
       "    .dataframe thead th {\n",
       "        text-align: right;\n",
       "    }\n",
       "</style>\n",
       "<table border=\"1\" class=\"dataframe\">\n",
       "  <thead>\n",
       "    <tr style=\"text-align: right;\">\n",
       "      <th></th>\n",
       "      <th>factFanAvidityId</th>\n",
       "      <th>lkupClientId</th>\n",
       "      <th>dimCustomerMasterId</th>\n",
       "      <th>avidityDate</th>\n",
       "      <th>avidity</th>\n",
       "      <th>avidityBucket</th>\n",
       "      <th>date_effective_start</th>\n",
       "      <th>date_effective_end</th>\n",
       "      <th>isDeleted</th>\n",
       "    </tr>\n",
       "  </thead>\n",
       "  <tbody>\n",
       "    <tr>\n",
       "      <th>0</th>\n",
       "      <td>-9223372036398322313</td>\n",
       "      <td>5</td>\n",
       "      <td>991092</td>\n",
       "      <td>2022-02-20</td>\n",
       "      <td>0.063287</td>\n",
       "      <td>Casual</td>\n",
       "      <td>2022-02-20</td>\n",
       "      <td>None</td>\n",
       "      <td>False</td>\n",
       "    </tr>\n",
       "    <tr>\n",
       "      <th>1</th>\n",
       "      <td>-9223372036398274996</td>\n",
       "      <td>5</td>\n",
       "      <td>252276493</td>\n",
       "      <td>2022-02-20</td>\n",
       "      <td>0.035867</td>\n",
       "      <td>Casual</td>\n",
       "      <td>2022-02-20</td>\n",
       "      <td>None</td>\n",
       "      <td>False</td>\n",
       "    </tr>\n",
       "    <tr>\n",
       "      <th>2</th>\n",
       "      <td>-9223372036398328139</td>\n",
       "      <td>5</td>\n",
       "      <td>283240388</td>\n",
       "      <td>2022-02-20</td>\n",
       "      <td>0.062199</td>\n",
       "      <td>Casual</td>\n",
       "      <td>2022-02-20</td>\n",
       "      <td>None</td>\n",
       "      <td>False</td>\n",
       "    </tr>\n",
       "    <tr>\n",
       "      <th>3</th>\n",
       "      <td>-9223372036404080612</td>\n",
       "      <td>5</td>\n",
       "      <td>86791713</td>\n",
       "      <td>2022-01-16</td>\n",
       "      <td>0.037539</td>\n",
       "      <td>Casual</td>\n",
       "      <td>2022-01-16</td>\n",
       "      <td>None</td>\n",
       "      <td>False</td>\n",
       "    </tr>\n",
       "    <tr>\n",
       "      <th>4</th>\n",
       "      <td>-9223372036397353981</td>\n",
       "      <td>5</td>\n",
       "      <td>426223</td>\n",
       "      <td>2022-02-27</td>\n",
       "      <td>0.043582</td>\n",
       "      <td>Casual</td>\n",
       "      <td>2022-02-27</td>\n",
       "      <td>None</td>\n",
       "      <td>False</td>\n",
       "    </tr>\n",
       "  </tbody>\n",
       "</table>\n",
       "</div>"
      ],
      "text/plain": [
       "      factFanAvidityId  lkupClientId  dimCustomerMasterId avidityDate  \\\n",
       "0 -9223372036398322313             5               991092  2022-02-20   \n",
       "1 -9223372036398274996             5            252276493  2022-02-20   \n",
       "2 -9223372036398328139             5            283240388  2022-02-20   \n",
       "3 -9223372036404080612             5             86791713  2022-01-16   \n",
       "4 -9223372036397353981             5               426223  2022-02-27   \n",
       "\n",
       "    avidity avidityBucket date_effective_start date_effective_end  isDeleted  \n",
       "0  0.063287        Casual           2022-02-20               None      False  \n",
       "1  0.035867        Casual           2022-02-20               None      False  \n",
       "2  0.062199        Casual           2022-02-20               None      False  \n",
       "3  0.037539        Casual           2022-01-16               None      False  \n",
       "4  0.043582        Casual           2022-02-27               None      False  "
      ]
     },
     "execution_count": 4,
     "metadata": {},
     "output_type": "execute_result"
    }
   ],
   "source": [
    "df.head()"
   ]
  },
  {
   "cell_type": "code",
   "execution_count": 5,
   "id": "b0ab3508-ed5f-4306-9378-30f6729f6032",
   "metadata": {},
   "outputs": [
    {
     "data": {
      "application/vnd.jupyter.widget-view+json": {
       "model_id": "d5b92ed229214660ad9e4ddbdbadfc0a",
       "version_major": 2,
       "version_minor": 0
      },
      "text/plain": [
       "Summarize dataset:   0%|          | 0/22 [00:00<?, ?it/s]"
      ]
     },
     "metadata": {},
     "output_type": "display_data"
    },
    {
     "data": {
      "application/vnd.jupyter.widget-view+json": {
       "model_id": "d7d41842e2194ad585adca3732bbc225",
       "version_major": 2,
       "version_minor": 0
      },
      "text/plain": [
       "Generate report structure:   0%|          | 0/1 [00:00<?, ?it/s]"
      ]
     },
     "metadata": {},
     "output_type": "display_data"
    },
    {
     "data": {
      "application/vnd.jupyter.widget-view+json": {
       "model_id": "0d5ca4e604674ed684adaeb5a4d0bd42",
       "version_major": 2,
       "version_minor": 0
      },
      "text/plain": [
       "Render HTML:   0%|          | 0/1 [00:00<?, ?it/s]"
      ]
     },
     "metadata": {},
     "output_type": "display_data"
    },
    {
     "data": {
      "application/vnd.jupyter.widget-view+json": {
       "model_id": "46703db1ecd6436785c72e26dd3530bc",
       "version_major": 2,
       "version_minor": 0
      },
      "text/plain": [
       "Export report to file:   0%|          | 0/1 [00:00<?, ?it/s]"
      ]
     },
     "metadata": {},
     "output_type": "display_data"
    }
   ],
   "source": [
    "report = ProfileReport(df)\n",
    "report.to_file(\"FanAvidity.html\")"
   ]
  },
  {
   "cell_type": "code",
   "execution_count": null,
   "id": "94d32b5e-da21-43a8-9138-b91cb194f0ee",
   "metadata": {},
   "outputs": [],
   "source": []
  }
 ],
 "metadata": {
  "kernelspec": {
   "display_name": "Python 3 (ipykernel)",
   "language": "python",
   "name": "python3"
  },
  "language_info": {
   "codemirror_mode": {
    "name": "ipython",
    "version": 3
   },
   "file_extension": ".py",
   "mimetype": "text/x-python",
   "name": "python",
   "nbconvert_exporter": "python",
   "pygments_lexer": "ipython3",
   "version": "3.9.4"
  }
 },
 "nbformat": 4,
 "nbformat_minor": 5
}
