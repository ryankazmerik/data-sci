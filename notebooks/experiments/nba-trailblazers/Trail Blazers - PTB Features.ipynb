{
 "cells": [
  {
   "cell_type": "markdown",
   "id": "9575d83e",
   "metadata": {},
   "source": [
    "# Portland Trail Blazers - Extended Feature Selection\n",
    "* StellarAlgo Data Science\n",
    "* Ryan Kazmerik & Nakisa Rad\n",
    "* October 8, 2021"
   ]
  },
  {
   "cell_type": "markdown",
   "id": "62d7c5a2",
   "metadata": {},
   "source": [
    "## Hypothesis\n",
    "Two very important components of a machine learning model are feature selection and feature engineering. Our idea is that adding some more features to the StellarAlgo retention model could improve performance of the model. This notebook will test the extended list of PTB features."
   ]
  },
  {
   "cell_type": "markdown",
   "id": "c46403a5",
   "metadata": {},
   "source": [
    "## Experiment\n",
    "This section details our experiment including querying data, data transformations, feature selection and modelling."
   ]
  },
  {
   "cell_type": "code",
   "execution_count": 1,
   "id": "df2be620",
   "metadata": {},
   "outputs": [],
   "source": [
    "import getpass\n",
    "import pyodbc\n",
    "import pandas as pd\n",
    "import warnings\n",
    "\n",
    "from pycaret.classification import *\n",
    "from ngboost import NGBClassifier\n",
    "\n",
    "warnings.filterwarnings('ignore')"
   ]
  },
  {
   "cell_type": "markdown",
   "id": "5872346a",
   "metadata": {},
   "source": [
    "### Let's connect to MSSQL and run a stored proc to get our dataset:"
   ]
  },
  {
   "cell_type": "code",
   "execution_count": 2,
   "id": "c060d5cf",
   "metadata": {},
   "outputs": [
    {
     "name": "stdin",
     "output_type": "stream",
     "text": [
      "Enter your password ··················\n"
     ]
    }
   ],
   "source": [
    "SERVER = '34.206.73.189' \n",
    "DATABASE = 'datascience' \n",
    "USERNAME = 'dsAdminWrite' \n",
    "PASSWORD = getpass.getpass(prompt='Enter your password')\n",
    "CNXN = pyodbc.connect('DRIVER={ODBC Driver 17 for SQL Server};SERVER='+SERVER+';DATABASE='+DATABASE+';UID='+USERNAME+';PWD='+ PASSWORD)"
   ]
  },
  {
   "cell_type": "code",
   "execution_count": 3,
   "id": "b9615e8a",
   "metadata": {},
   "outputs": [],
   "source": [
    "lkupclientid = 5 # Portland Trail Blazers\n",
    "\n",
    "cursor = CNXN.cursor()\n",
    "\n",
    "storedProc = (\n",
    "    f\"\"\"Exec [stlrTrailBlazers].[ds].[getRetentionScoringModelData] {lkupclientid}\"\"\"\n",
    ")\n",
    "\n",
    "df = pd.read_sql(storedProc, CNXN)\n",
    "\n",
    "CNXN.commit()\n",
    "cursor.close()"
   ]
  },
  {
   "cell_type": "code",
   "execution_count": 4,
   "id": "a7426326-25ec-4e85-8f2f-ce732a33be93",
   "metadata": {},
   "outputs": [
    {
     "name": "stdout",
     "output_type": "stream",
     "text": [
      "<class 'pandas.core.frame.DataFrame'>\n",
      "RangeIndex: 11118 entries, 0 to 11117\n",
      "Data columns (total 55 columns):\n",
      " #   Column                    Non-Null Count  Dtype  \n",
      "---  ------                    --------------  -----  \n",
      " 0   lkupClientId              11118 non-null  int64  \n",
      " 1   dimCustomerMasterId       11118 non-null  int64  \n",
      " 2   customerNumber            11118 non-null  object \n",
      " 3   year                      11118 non-null  object \n",
      " 4   productGrouping           11118 non-null  object \n",
      " 5   totalSpent                11118 non-null  float64\n",
      " 6   recentDate                11118 non-null  object \n",
      " 7   attendancePercent         11118 non-null  float64\n",
      " 8   renewedBeforeDays         11118 non-null  int64  \n",
      " 9   isBuyer                   11118 non-null  object \n",
      " 10  source_tenure             11118 non-null  int64  \n",
      " 11  tenure                    11118 non-null  int64  \n",
      " 12  distToVenue               11118 non-null  float64\n",
      " 13  totalGames                11118 non-null  int64  \n",
      " 14  recency                   11118 non-null  int64  \n",
      " 15  missed_games_1            11118 non-null  int64  \n",
      " 16  missed_games_2            11118 non-null  int64  \n",
      " 17  missed_games_over_2       11118 non-null  int64  \n",
      " 18  click_link                11118 non-null  int64  \n",
      " 19  fill_out_form             11118 non-null  int64  \n",
      " 20  open_email                11118 non-null  int64  \n",
      " 21  send_email                11118 non-null  int64  \n",
      " 22  unsubscribe_email         11118 non-null  int64  \n",
      " 23  openToSendRatio           11118 non-null  float64\n",
      " 24  clickToSendRatio          11118 non-null  float64\n",
      " 25  clickToOpenRatio          11118 non-null  float64\n",
      " 26  posting_records           11118 non-null  int64  \n",
      " 27  resale_records            11118 non-null  int64  \n",
      " 28  resale_atp                11118 non-null  float64\n",
      " 29  forward_records           11118 non-null  int64  \n",
      " 30  cancel_records            11118 non-null  int64  \n",
      " 31  email                     11118 non-null  int64  \n",
      " 32  inbound_email             11118 non-null  int64  \n",
      " 33  inbound_phonecall         11118 non-null  int64  \n",
      " 34  inperson_contact          11118 non-null  int64  \n",
      " 35  internal_note             11118 non-null  int64  \n",
      " 36  left_message              11118 non-null  int64  \n",
      " 37  outbound_email            11118 non-null  int64  \n",
      " 38  outbound_phonecall        11118 non-null  int64  \n",
      " 39  phonecall                 11118 non-null  int64  \n",
      " 40  text                      11118 non-null  int64  \n",
      " 41  unknown                   11118 non-null  int64  \n",
      " 42  gender                    11118 non-null  object \n",
      " 43  childrenPresentInHH       11118 non-null  int64  \n",
      " 44  maritalStatus             11118 non-null  int64  \n",
      " 45  lengthOfResidenceInYrs    11118 non-null  float64\n",
      " 46  annualHHIncome            11118 non-null  object \n",
      " 47  education                 11118 non-null  object \n",
      " 48  urbanicity                0 non-null      object \n",
      " 49  isnextyear_buyer          0 non-null      object \n",
      " 50  isnextyear_samepkg_buyer  0 non-null      object \n",
      " 51  pkgupgrade_status         0 non-null      object \n",
      " 52  auto_renewal              0 non-null      object \n",
      " 53  credits_after_refund      11118 non-null  float64\n",
      " 54  isNextYear_Buyer          11118 non-null  int64  \n",
      "dtypes: float64(9), int64(33), object(13)\n",
      "memory usage: 4.7+ MB\n"
     ]
    }
   ],
   "source": [
    "df.info()"
   ]
  },
  {
   "cell_type": "markdown",
   "id": "cbfa1a4e",
   "metadata": {},
   "source": [
    "### In order to compare two sets of features, we need to create some datasets for training and evalution:"
   ]
  },
  {
   "cell_type": "code",
   "execution_count": 8,
   "id": "82651c96",
   "metadata": {},
   "outputs": [
    {
     "name": "stdout",
     "output_type": "stream",
     "text": [
      "Data for Modeling: (8894, 29)\n",
      "Unseen Data For Predictions: (2224, 29)\n",
      "\n"
     ]
    }
   ],
   "source": [
    "# choose the features for the ptb extended retention model\n",
    "features = [\n",
    "    \"attendancePercent\",\n",
    "    \"cancel_records\",\n",
    "    \"childrenPresentInHH\", \n",
    "    \"clickToOpenRatio\", \n",
    "    \"clickToSendRatio\",\n",
    "    \"dimCustomerMasterId\",\n",
    "    \"distToVenue\",\n",
    "    \"education\",\n",
    "    \"fill_out_form\",\n",
    "    \"forward_records\",\n",
    "    \"gender\",\n",
    "    \"isNextYear_Buyer\",\n",
    "    \"lengthOfResidenceInYrs\",\n",
    "    \"maritalStatus\",\n",
    "    \"missed_games_1\",\n",
    "    \"missed_games_2\",\n",
    "    \"missed_games_over_2\",\n",
    "    \"openToSendRatio\",\n",
    "    \"posting_records\",\n",
    "    \"productGrouping\",\n",
    "    \"recentDate\",\n",
    "    \"recency\",\n",
    "    \"renewedBeforeDays\",\n",
    "    \"resale_atp\",\n",
    "    \"resale_records\",\n",
    "    \"source_tenure\",\n",
    "    \"tenure\",\n",
    "    \"totalSpent\",\n",
    "    \"year\"\n",
    "]\n",
    "\n",
    "# select % of the data for training\n",
    "df_train = df.sample(frac=0.8, random_state=786).reset_index(drop=True)\n",
    "\n",
    "# create the eval datasets for A and B\n",
    "df_eval = df.drop(df_train.index).reset_index(drop=True)\n",
    "\n",
    "# choose features for each train dataset\n",
    "df_train = df_train[features]\n",
    "\n",
    "# choose features for each train dataset\n",
    "df_eval = df_eval[features]\n",
    "\n",
    "# print out the number of records for training and eval\n",
    "print('Data for Modeling: ' + str(df_train.shape))\n",
    "print('Unseen Data For Predictions: ' + str(df_eval.shape), end=\"\\n\\n\")"
   ]
  },
  {
   "cell_type": "markdown",
   "id": "9f34eb03-b49b-49e5-bce8-7caaa29c5dd7",
   "metadata": {},
   "source": [
    "## Now we can model the data using a binary classification prediction for the isnextyear_buyer field to see how likely a customer is to re-purchase."
   ]
  },
  {
   "cell_type": "code",
   "execution_count": 42,
   "id": "3eabb279-56dd-4dbf-b7da-77bd2aa7cafa",
   "metadata": {},
   "outputs": [],
   "source": [
    "setup(\n",
    "    data= df_train, \n",
    "    target=\"isNextYear_Buyer\", \n",
    "    train_size = 0.80,\n",
    "    data_split_shuffle=True,\n",
    "    silent=True,\n",
    "    verbose=False,\n",
    "    ignore_features=[\"dimCustomerMasterId\",\"productGrouping\",\"year\"],\n",
    "    numeric_features=[\n",
    "        \"attendancePercent\",\n",
    "        \"cancel_records\",\n",
    "        \"childrenPresentInHH\", \n",
    "        \"clickToOpenRatio\", \n",
    "        \"clickToSendRatio\",\n",
    "        \"distToVenue\",\n",
    "        \"fill_out_form\",\n",
    "        \"forward_records\",\n",
    "        \"lengthOfResidenceInYrs\",\n",
    "        \"missed_games_1\",\n",
    "        \"missed_games_2\",\n",
    "        \"missed_games_over_2\",\n",
    "        \"openToSendRatio\",\n",
    "        \"posting_records\",\n",
    "        \"recency\",\n",
    "        \"renewedBeforeDays\",\n",
    "        \"resale_atp\",\n",
    "        \"resale_records\",\n",
    "        \"source_tenure\",\n",
    "        \"tenure\",\n",
    "        \"totalSpent\"\n",
    "    ]\n",
    ");"
   ]
  },
  {
   "cell_type": "code",
   "execution_count": 43,
   "id": "05742a70-860c-477f-bea9-516a0a87c508",
   "metadata": {},
   "outputs": [
    {
     "data": {
      "text/html": [
       "<style  type=\"text/css\" >\n",
       "    #T_9c470_ th {\n",
       "          text-align: left;\n",
       "    }#T_9c470_row0_col0,#T_9c470_row0_col2,#T_9c470_row0_col3,#T_9c470_row0_col4,#T_9c470_row0_col5,#T_9c470_row0_col6,#T_9c470_row0_col7,#T_9c470_row1_col0,#T_9c470_row1_col1,#T_9c470_row1_col3,#T_9c470_row1_col4,#T_9c470_row1_col5,#T_9c470_row1_col6,#T_9c470_row1_col7,#T_9c470_row2_col0,#T_9c470_row2_col1,#T_9c470_row2_col2,#T_9c470_row2_col3,#T_9c470_row2_col5,#T_9c470_row2_col6,#T_9c470_row2_col7,#T_9c470_row3_col0,#T_9c470_row3_col1,#T_9c470_row3_col2,#T_9c470_row3_col4,#T_9c470_row4_col0,#T_9c470_row4_col1,#T_9c470_row4_col2,#T_9c470_row4_col3,#T_9c470_row4_col4,#T_9c470_row4_col5,#T_9c470_row4_col6,#T_9c470_row4_col7,#T_9c470_row5_col0,#T_9c470_row5_col1,#T_9c470_row5_col2,#T_9c470_row5_col3,#T_9c470_row5_col4,#T_9c470_row5_col5,#T_9c470_row5_col6,#T_9c470_row5_col7,#T_9c470_row6_col0,#T_9c470_row6_col1,#T_9c470_row6_col2,#T_9c470_row6_col3,#T_9c470_row6_col4,#T_9c470_row6_col5,#T_9c470_row6_col6,#T_9c470_row6_col7,#T_9c470_row7_col0,#T_9c470_row7_col1,#T_9c470_row7_col2,#T_9c470_row7_col3,#T_9c470_row7_col4,#T_9c470_row7_col5,#T_9c470_row7_col6,#T_9c470_row7_col7,#T_9c470_row8_col0,#T_9c470_row8_col1,#T_9c470_row8_col2,#T_9c470_row8_col3,#T_9c470_row8_col4,#T_9c470_row8_col5,#T_9c470_row8_col6,#T_9c470_row8_col7,#T_9c470_row9_col0,#T_9c470_row9_col1,#T_9c470_row9_col2,#T_9c470_row9_col3,#T_9c470_row9_col4,#T_9c470_row9_col5,#T_9c470_row9_col6,#T_9c470_row9_col7{\n",
       "            text-align:  left;\n",
       "            text-align:  left;\n",
       "        }#T_9c470_row0_col1,#T_9c470_row1_col2,#T_9c470_row2_col4,#T_9c470_row3_col3,#T_9c470_row3_col5,#T_9c470_row3_col6,#T_9c470_row3_col7{\n",
       "            text-align:  left;\n",
       "            text-align:  left;\n",
       "            background-color:  yellow;\n",
       "        }#T_9c470_row0_col8,#T_9c470_row1_col8,#T_9c470_row2_col8,#T_9c470_row3_col8,#T_9c470_row4_col8,#T_9c470_row5_col8,#T_9c470_row6_col8,#T_9c470_row8_col8,#T_9c470_row9_col8{\n",
       "            text-align:  left;\n",
       "            text-align:  left;\n",
       "            background-color:  lightgrey;\n",
       "        }#T_9c470_row7_col8{\n",
       "            text-align:  left;\n",
       "            text-align:  left;\n",
       "            background-color:  yellow;\n",
       "            background-color:  lightgrey;\n",
       "        }</style><table id=\"T_9c470_\" ><thead>    <tr>        <th class=\"blank level0\" ></th>        <th class=\"col_heading level0 col0\" >Model</th>        <th class=\"col_heading level0 col1\" >Accuracy</th>        <th class=\"col_heading level0 col2\" >AUC</th>        <th class=\"col_heading level0 col3\" >Recall</th>        <th class=\"col_heading level0 col4\" >Prec.</th>        <th class=\"col_heading level0 col5\" >F1</th>        <th class=\"col_heading level0 col6\" >Kappa</th>        <th class=\"col_heading level0 col7\" >MCC</th>        <th class=\"col_heading level0 col8\" >TT (Sec)</th>    </tr></thead><tbody>\n",
       "                <tr>\n",
       "                        <th id=\"T_9c470_level0_row0\" class=\"row_heading level0 row0\" >0</th>\n",
       "                        <td id=\"T_9c470_row0_col0\" class=\"data row0 col0\" >Ada Boost Classifier</td>\n",
       "                        <td id=\"T_9c470_row0_col1\" class=\"data row0 col1\" >0.9098</td>\n",
       "                        <td id=\"T_9c470_row0_col2\" class=\"data row0 col2\" >0.9581</td>\n",
       "                        <td id=\"T_9c470_row0_col3\" class=\"data row0 col3\" >0.9549</td>\n",
       "                        <td id=\"T_9c470_row0_col4\" class=\"data row0 col4\" >0.8062</td>\n",
       "                        <td id=\"T_9c470_row0_col5\" class=\"data row0 col5\" >0.8740</td>\n",
       "                        <td id=\"T_9c470_row0_col6\" class=\"data row0 col6\" >0.8046</td>\n",
       "                        <td id=\"T_9c470_row0_col7\" class=\"data row0 col7\" >0.8118</td>\n",
       "                        <td id=\"T_9c470_row0_col8\" class=\"data row0 col8\" >0.0660</td>\n",
       "            </tr>\n",
       "            <tr>\n",
       "                        <th id=\"T_9c470_level0_row1\" class=\"row_heading level0 row1\" >2</th>\n",
       "                        <td id=\"T_9c470_row1_col0\" class=\"data row1 col0\" >Gradient Boosting Classifier</td>\n",
       "                        <td id=\"T_9c470_row1_col1\" class=\"data row1 col1\" >0.9088</td>\n",
       "                        <td id=\"T_9c470_row1_col2\" class=\"data row1 col2\" >0.9602</td>\n",
       "                        <td id=\"T_9c470_row1_col3\" class=\"data row1 col3\" >0.9450</td>\n",
       "                        <td id=\"T_9c470_row1_col4\" class=\"data row1 col4\" >0.8096</td>\n",
       "                        <td id=\"T_9c470_row1_col5\" class=\"data row1 col5\" >0.8717</td>\n",
       "                        <td id=\"T_9c470_row1_col6\" class=\"data row1 col6\" >0.8016</td>\n",
       "                        <td id=\"T_9c470_row1_col7\" class=\"data row1 col7\" >0.8079</td>\n",
       "                        <td id=\"T_9c470_row1_col8\" class=\"data row1 col8\" >0.1330</td>\n",
       "            </tr>\n",
       "            <tr>\n",
       "                        <th id=\"T_9c470_level0_row2\" class=\"row_heading level0 row2\" >5</th>\n",
       "                        <td id=\"T_9c470_row2_col0\" class=\"data row2 col0\" >Light Gradient Boosting Machine</td>\n",
       "                        <td id=\"T_9c470_row2_col1\" class=\"data row2 col1\" >0.9088</td>\n",
       "                        <td id=\"T_9c470_row2_col2\" class=\"data row2 col2\" >0.9601</td>\n",
       "                        <td id=\"T_9c470_row2_col3\" class=\"data row2 col3\" >0.9261</td>\n",
       "                        <td id=\"T_9c470_row2_col4\" class=\"data row2 col4\" >0.8195</td>\n",
       "                        <td id=\"T_9c470_row2_col5\" class=\"data row2 col5\" >0.8693</td>\n",
       "                        <td id=\"T_9c470_row2_col6\" class=\"data row2 col6\" >0.7997</td>\n",
       "                        <td id=\"T_9c470_row2_col7\" class=\"data row2 col7\" >0.8035</td>\n",
       "                        <td id=\"T_9c470_row2_col8\" class=\"data row2 col8\" >0.5930</td>\n",
       "            </tr>\n",
       "            <tr>\n",
       "                        <th id=\"T_9c470_level0_row3\" class=\"row_heading level0 row3\" >8</th>\n",
       "                        <td id=\"T_9c470_row3_col0\" class=\"data row3 col0\" >NGBClassifier</td>\n",
       "                        <td id=\"T_9c470_row3_col1\" class=\"data row3 col1\" >0.9085</td>\n",
       "                        <td id=\"T_9c470_row3_col2\" class=\"data row3 col2\" >0.9592</td>\n",
       "                        <td id=\"T_9c470_row3_col3\" class=\"data row3 col3\" >0.9863</td>\n",
       "                        <td id=\"T_9c470_row3_col4\" class=\"data row3 col4\" >0.7885</td>\n",
       "                        <td id=\"T_9c470_row3_col5\" class=\"data row3 col5\" >0.8761</td>\n",
       "                        <td id=\"T_9c470_row3_col6\" class=\"data row3 col6\" >0.8051</td>\n",
       "                        <td id=\"T_9c470_row3_col7\" class=\"data row3 col7\" >0.8180</td>\n",
       "                        <td id=\"T_9c470_row3_col8\" class=\"data row3 col8\" >1.7580</td>\n",
       "            </tr>\n",
       "            <tr>\n",
       "                        <th id=\"T_9c470_level0_row4\" class=\"row_heading level0 row4\" >7</th>\n",
       "                        <td id=\"T_9c470_row4_col0\" class=\"data row4 col0\" >Random Forest Classifier</td>\n",
       "                        <td id=\"T_9c470_row4_col1\" class=\"data row4 col1\" >0.9077</td>\n",
       "                        <td id=\"T_9c470_row4_col2\" class=\"data row4 col2\" >0.9579</td>\n",
       "                        <td id=\"T_9c470_row4_col3\" class=\"data row4 col3\" >0.9231</td>\n",
       "                        <td id=\"T_9c470_row4_col4\" class=\"data row4 col4\" >0.8190</td>\n",
       "                        <td id=\"T_9c470_row4_col5\" class=\"data row4 col5\" >0.8676</td>\n",
       "                        <td id=\"T_9c470_row4_col6\" class=\"data row4 col6\" >0.7972</td>\n",
       "                        <td id=\"T_9c470_row4_col7\" class=\"data row4 col7\" >0.8009</td>\n",
       "                        <td id=\"T_9c470_row4_col8\" class=\"data row4 col8\" >0.1670</td>\n",
       "            </tr>\n",
       "            <tr>\n",
       "                        <th id=\"T_9c470_level0_row5\" class=\"row_heading level0 row5\" >3</th>\n",
       "                        <td id=\"T_9c470_row5_col0\" class=\"data row5 col0\" >Extra Trees Classifier</td>\n",
       "                        <td id=\"T_9c470_row5_col1\" class=\"data row5 col1\" >0.9054</td>\n",
       "                        <td id=\"T_9c470_row5_col2\" class=\"data row5 col2\" >0.9559</td>\n",
       "                        <td id=\"T_9c470_row5_col3\" class=\"data row5 col3\" >0.9206</td>\n",
       "                        <td id=\"T_9c470_row5_col4\" class=\"data row5 col4\" >0.8155</td>\n",
       "                        <td id=\"T_9c470_row5_col5\" class=\"data row5 col5\" >0.8645</td>\n",
       "                        <td id=\"T_9c470_row5_col6\" class=\"data row5 col6\" >0.7923</td>\n",
       "                        <td id=\"T_9c470_row5_col7\" class=\"data row5 col7\" >0.7961</td>\n",
       "                        <td id=\"T_9c470_row5_col8\" class=\"data row5 col8\" >0.1530</td>\n",
       "            </tr>\n",
       "            <tr>\n",
       "                        <th id=\"T_9c470_level0_row6\" class=\"row_heading level0 row6\" >9</th>\n",
       "                        <td id=\"T_9c470_row6_col0\" class=\"data row6 col0\" >Extreme Gradient Boosting</td>\n",
       "                        <td id=\"T_9c470_row6_col1\" class=\"data row6 col1\" >0.9041</td>\n",
       "                        <td id=\"T_9c470_row6_col2\" class=\"data row6 col2\" >0.9587</td>\n",
       "                        <td id=\"T_9c470_row6_col3\" class=\"data row6 col3\" >0.9115</td>\n",
       "                        <td id=\"T_9c470_row6_col4\" class=\"data row6 col4\" >0.8174</td>\n",
       "                        <td id=\"T_9c470_row6_col5\" class=\"data row6 col5\" >0.8616</td>\n",
       "                        <td id=\"T_9c470_row6_col6\" class=\"data row6 col6\" >0.7887</td>\n",
       "                        <td id=\"T_9c470_row6_col7\" class=\"data row6 col7\" >0.7918</td>\n",
       "                        <td id=\"T_9c470_row6_col8\" class=\"data row6 col8\" >0.4610</td>\n",
       "            </tr>\n",
       "            <tr>\n",
       "                        <th id=\"T_9c470_level0_row7\" class=\"row_heading level0 row7\" >1</th>\n",
       "                        <td id=\"T_9c470_row7_col0\" class=\"data row7 col0\" >Decision Tree Classifier</td>\n",
       "                        <td id=\"T_9c470_row7_col1\" class=\"data row7 col1\" >0.8722</td>\n",
       "                        <td id=\"T_9c470_row7_col2\" class=\"data row7 col2\" >0.8537</td>\n",
       "                        <td id=\"T_9c470_row7_col3\" class=\"data row7 col3\" >0.7999</td>\n",
       "                        <td id=\"T_9c470_row7_col4\" class=\"data row7 col4\" >0.8083</td>\n",
       "                        <td id=\"T_9c470_row7_col5\" class=\"data row7 col5\" >0.8039</td>\n",
       "                        <td id=\"T_9c470_row7_col6\" class=\"data row7 col6\" >0.7092</td>\n",
       "                        <td id=\"T_9c470_row7_col7\" class=\"data row7 col7\" >0.7094</td>\n",
       "                        <td id=\"T_9c470_row7_col8\" class=\"data row7 col8\" >0.0230</td>\n",
       "            </tr>\n",
       "            <tr>\n",
       "                        <th id=\"T_9c470_level0_row8\" class=\"row_heading level0 row8\" >4</th>\n",
       "                        <td id=\"T_9c470_row8_col0\" class=\"data row8 col0\" >K Neighbors Classifier</td>\n",
       "                        <td id=\"T_9c470_row8_col1\" class=\"data row8 col1\" >0.8457</td>\n",
       "                        <td id=\"T_9c470_row8_col2\" class=\"data row8 col2\" >0.9082</td>\n",
       "                        <td id=\"T_9c470_row8_col3\" class=\"data row8 col3\" >0.8527</td>\n",
       "                        <td id=\"T_9c470_row8_col4\" class=\"data row8 col4\" >0.7251</td>\n",
       "                        <td id=\"T_9c470_row8_col5\" class=\"data row8 col5\" >0.7834</td>\n",
       "                        <td id=\"T_9c470_row8_col6\" class=\"data row8 col6\" >0.6648</td>\n",
       "                        <td id=\"T_9c470_row8_col7\" class=\"data row8 col7\" >0.6705</td>\n",
       "                        <td id=\"T_9c470_row8_col8\" class=\"data row8 col8\" >0.0490</td>\n",
       "            </tr>\n",
       "            <tr>\n",
       "                        <th id=\"T_9c470_level0_row9\" class=\"row_heading level0 row9\" >6</th>\n",
       "                        <td id=\"T_9c470_row9_col0\" class=\"data row9 col0\" >Logistic Regression</td>\n",
       "                        <td id=\"T_9c470_row9_col1\" class=\"data row9 col1\" >0.6673</td>\n",
       "                        <td id=\"T_9c470_row9_col2\" class=\"data row9 col2\" >0.7714</td>\n",
       "                        <td id=\"T_9c470_row9_col3\" class=\"data row9 col3\" >0.1748</td>\n",
       "                        <td id=\"T_9c470_row9_col4\" class=\"data row9 col4\" >0.4772</td>\n",
       "                        <td id=\"T_9c470_row9_col5\" class=\"data row9 col5\" >0.2554</td>\n",
       "                        <td id=\"T_9c470_row9_col6\" class=\"data row9 col6\" >0.0976</td>\n",
       "                        <td id=\"T_9c470_row9_col7\" class=\"data row9 col7\" >0.1179</td>\n",
       "                        <td id=\"T_9c470_row9_col8\" class=\"data row9 col8\" >0.0570</td>\n",
       "            </tr>\n",
       "    </tbody></table>"
      ],
      "text/plain": [
       "<pandas.io.formats.style.Styler at 0x7fc148d90f90>"
      ]
     },
     "metadata": {},
     "output_type": "display_data"
    }
   ],
   "source": [
    "# adding an extra classifier ngboost\n",
    "ngc = NGBClassifier()\n",
    "ngboost = create_model(ngc)\n",
    "\n",
    "model_matrix = compare_models(\n",
    "    fold=10,\n",
    "    include=[\"ada\",\"dt\",\"gbc\",\"et\",\"knn\",\"lightgbm\",\"lr\",\"rf\",ngboost,\"xgboost\"]\n",
    ")"
   ]
  },
  {
   "cell_type": "markdown",
   "id": "03df160e-ac51-4adb-a131-91201fdd8358",
   "metadata": {},
   "source": [
    "### The top model is performing well, so let's compare it against our unseen eval dataset:"
   ]
  },
  {
   "cell_type": "code",
   "execution_count": 44,
   "id": "9b4716b3-5a6b-4942-a32c-7ef3e9083509",
   "metadata": {},
   "outputs": [
    {
     "data": {
      "text/html": [
       "<style  type=\"text/css\" >\n",
       "#T_76597_row10_col0,#T_76597_row10_col1,#T_76597_row10_col2,#T_76597_row10_col3,#T_76597_row10_col4,#T_76597_row10_col5,#T_76597_row10_col6{\n",
       "            background:  yellow;\n",
       "        }</style><table id=\"T_76597_\" ><thead>    <tr>        <th class=\"blank level0\" ></th>        <th class=\"col_heading level0 col0\" >Accuracy</th>        <th class=\"col_heading level0 col1\" >AUC</th>        <th class=\"col_heading level0 col2\" >Recall</th>        <th class=\"col_heading level0 col3\" >Prec.</th>        <th class=\"col_heading level0 col4\" >F1</th>        <th class=\"col_heading level0 col5\" >Kappa</th>        <th class=\"col_heading level0 col6\" >MCC</th>    </tr></thead><tbody>\n",
       "                <tr>\n",
       "                        <th id=\"T_76597_level0_row0\" class=\"row_heading level0 row0\" >0</th>\n",
       "                        <td id=\"T_76597_row0_col0\" class=\"data row0 col0\" >0.9059</td>\n",
       "                        <td id=\"T_76597_row0_col1\" class=\"data row0 col1\" >0.9549</td>\n",
       "                        <td id=\"T_76597_row0_col2\" class=\"data row0 col2\" >0.9657</td>\n",
       "                        <td id=\"T_76597_row0_col3\" class=\"data row0 col3\" >0.7923</td>\n",
       "                        <td id=\"T_76597_row0_col4\" class=\"data row0 col4\" >0.8704</td>\n",
       "                        <td id=\"T_76597_row0_col5\" class=\"data row0 col5\" >0.7977</td>\n",
       "                        <td id=\"T_76597_row0_col6\" class=\"data row0 col6\" >0.8073</td>\n",
       "            </tr>\n",
       "            <tr>\n",
       "                        <th id=\"T_76597_level0_row1\" class=\"row_heading level0 row1\" >1</th>\n",
       "                        <td id=\"T_76597_row1_col0\" class=\"data row1 col0\" >0.9157</td>\n",
       "                        <td id=\"T_76597_row1_col1\" class=\"data row1 col1\" >0.9633</td>\n",
       "                        <td id=\"T_76597_row1_col2\" class=\"data row1 col2\" >0.9442</td>\n",
       "                        <td id=\"T_76597_row1_col3\" class=\"data row1 col3\" >0.8240</td>\n",
       "                        <td id=\"T_76597_row1_col4\" class=\"data row1 col4\" >0.8800</td>\n",
       "                        <td id=\"T_76597_row1_col5\" class=\"data row1 col5\" >0.8155</td>\n",
       "                        <td id=\"T_76597_row1_col6\" class=\"data row1 col6\" >0.8200</td>\n",
       "            </tr>\n",
       "            <tr>\n",
       "                        <th id=\"T_76597_level0_row2\" class=\"row_heading level0 row2\" >2</th>\n",
       "                        <td id=\"T_76597_row2_col0\" class=\"data row2 col0\" >0.9171</td>\n",
       "                        <td id=\"T_76597_row2_col1\" class=\"data row2 col1\" >0.9638</td>\n",
       "                        <td id=\"T_76597_row2_col2\" class=\"data row2 col2\" >0.9399</td>\n",
       "                        <td id=\"T_76597_row2_col3\" class=\"data row2 col3\" >0.8295</td>\n",
       "                        <td id=\"T_76597_row2_col4\" class=\"data row2 col4\" >0.8813</td>\n",
       "                        <td id=\"T_76597_row2_col5\" class=\"data row2 col5\" >0.8180</td>\n",
       "                        <td id=\"T_76597_row2_col6\" class=\"data row2 col6\" >0.8218</td>\n",
       "            </tr>\n",
       "            <tr>\n",
       "                        <th id=\"T_76597_level0_row3\" class=\"row_heading level0 row3\" >3</th>\n",
       "                        <td id=\"T_76597_row3_col0\" class=\"data row3 col0\" >0.8961</td>\n",
       "                        <td id=\"T_76597_row3_col1\" class=\"data row3 col1\" >0.9506</td>\n",
       "                        <td id=\"T_76597_row3_col2\" class=\"data row3 col2\" >0.9442</td>\n",
       "                        <td id=\"T_76597_row3_col3\" class=\"data row3 col3\" >0.7829</td>\n",
       "                        <td id=\"T_76597_row3_col4\" class=\"data row3 col4\" >0.8560</td>\n",
       "                        <td id=\"T_76597_row3_col5\" class=\"data row3 col5\" >0.7758</td>\n",
       "                        <td id=\"T_76597_row3_col6\" class=\"data row3 col6\" >0.7842</td>\n",
       "            </tr>\n",
       "            <tr>\n",
       "                        <th id=\"T_76597_level0_row4\" class=\"row_heading level0 row4\" >4</th>\n",
       "                        <td id=\"T_76597_row4_col0\" class=\"data row4 col0\" >0.9185</td>\n",
       "                        <td id=\"T_76597_row4_col1\" class=\"data row4 col1\" >0.9655</td>\n",
       "                        <td id=\"T_76597_row4_col2\" class=\"data row4 col2\" >0.9571</td>\n",
       "                        <td id=\"T_76597_row4_col3\" class=\"data row4 col3\" >0.8229</td>\n",
       "                        <td id=\"T_76597_row4_col4\" class=\"data row4 col4\" >0.8849</td>\n",
       "                        <td id=\"T_76597_row4_col5\" class=\"data row4 col5\" >0.8224</td>\n",
       "                        <td id=\"T_76597_row4_col6\" class=\"data row4 col6\" >0.8281</td>\n",
       "            </tr>\n",
       "            <tr>\n",
       "                        <th id=\"T_76597_level0_row5\" class=\"row_heading level0 row5\" >5</th>\n",
       "                        <td id=\"T_76597_row5_col0\" class=\"data row5 col0\" >0.8973</td>\n",
       "                        <td id=\"T_76597_row5_col1\" class=\"data row5 col1\" >0.9508</td>\n",
       "                        <td id=\"T_76597_row5_col2\" class=\"data row5 col2\" >0.9440</td>\n",
       "                        <td id=\"T_76597_row5_col3\" class=\"data row5 col3\" >0.7849</td>\n",
       "                        <td id=\"T_76597_row5_col4\" class=\"data row5 col4\" >0.8571</td>\n",
       "                        <td id=\"T_76597_row5_col5\" class=\"data row5 col5\" >0.7781</td>\n",
       "                        <td id=\"T_76597_row5_col6\" class=\"data row5 col6\" >0.7861</td>\n",
       "            </tr>\n",
       "            <tr>\n",
       "                        <th id=\"T_76597_level0_row6\" class=\"row_heading level0 row6\" >6</th>\n",
       "                        <td id=\"T_76597_row6_col0\" class=\"data row6 col0\" >0.9269</td>\n",
       "                        <td id=\"T_76597_row6_col1\" class=\"data row6 col1\" >0.9618</td>\n",
       "                        <td id=\"T_76597_row6_col2\" class=\"data row6 col2\" >0.9700</td>\n",
       "                        <td id=\"T_76597_row6_col3\" class=\"data row6 col3\" >0.8339</td>\n",
       "                        <td id=\"T_76597_row6_col4\" class=\"data row6 col4\" >0.8968</td>\n",
       "                        <td id=\"T_76597_row6_col5\" class=\"data row6 col5\" >0.8407</td>\n",
       "                        <td id=\"T_76597_row6_col6\" class=\"data row6 col6\" >0.8464</td>\n",
       "            </tr>\n",
       "            <tr>\n",
       "                        <th id=\"T_76597_level0_row7\" class=\"row_heading level0 row7\" >7</th>\n",
       "                        <td id=\"T_76597_row7_col0\" class=\"data row7 col0\" >0.8973</td>\n",
       "                        <td id=\"T_76597_row7_col1\" class=\"data row7 col1\" >0.9465</td>\n",
       "                        <td id=\"T_76597_row7_col2\" class=\"data row7 col2\" >0.9742</td>\n",
       "                        <td id=\"T_76597_row7_col3\" class=\"data row7 col3\" >0.7721</td>\n",
       "                        <td id=\"T_76597_row7_col4\" class=\"data row7 col4\" >0.8615</td>\n",
       "                        <td id=\"T_76597_row7_col5\" class=\"data row7 col5\" >0.7816</td>\n",
       "                        <td id=\"T_76597_row7_col6\" class=\"data row7 col6\" >0.7950</td>\n",
       "            </tr>\n",
       "            <tr>\n",
       "                        <th id=\"T_76597_level0_row8\" class=\"row_heading level0 row8\" >8</th>\n",
       "                        <td id=\"T_76597_row8_col0\" class=\"data row8 col0\" >0.9044</td>\n",
       "                        <td id=\"T_76597_row8_col1\" class=\"data row8 col1\" >0.9573</td>\n",
       "                        <td id=\"T_76597_row8_col2\" class=\"data row8 col2\" >0.9614</td>\n",
       "                        <td id=\"T_76597_row8_col3\" class=\"data row8 col3\" >0.7915</td>\n",
       "                        <td id=\"T_76597_row8_col4\" class=\"data row8 col4\" >0.8682</td>\n",
       "                        <td id=\"T_76597_row8_col5\" class=\"data row8 col5\" >0.7943</td>\n",
       "                        <td id=\"T_76597_row8_col6\" class=\"data row8 col6\" >0.8035</td>\n",
       "            </tr>\n",
       "            <tr>\n",
       "                        <th id=\"T_76597_level0_row9\" class=\"row_heading level0 row9\" >9</th>\n",
       "                        <td id=\"T_76597_row9_col0\" class=\"data row9 col0\" >0.9184</td>\n",
       "                        <td id=\"T_76597_row9_col1\" class=\"data row9 col1\" >0.9665</td>\n",
       "                        <td id=\"T_76597_row9_col2\" class=\"data row9 col2\" >0.9485</td>\n",
       "                        <td id=\"T_76597_row9_col3\" class=\"data row9 col3\" >0.8277</td>\n",
       "                        <td id=\"T_76597_row9_col4\" class=\"data row9 col4\" >0.8840</td>\n",
       "                        <td id=\"T_76597_row9_col5\" class=\"data row9 col5\" >0.8215</td>\n",
       "                        <td id=\"T_76597_row9_col6\" class=\"data row9 col6\" >0.8261</td>\n",
       "            </tr>\n",
       "            <tr>\n",
       "                        <th id=\"T_76597_level0_row10\" class=\"row_heading level0 row10\" >Mean</th>\n",
       "                        <td id=\"T_76597_row10_col0\" class=\"data row10 col0\" >0.9098</td>\n",
       "                        <td id=\"T_76597_row10_col1\" class=\"data row10 col1\" >0.9581</td>\n",
       "                        <td id=\"T_76597_row10_col2\" class=\"data row10 col2\" >0.9549</td>\n",
       "                        <td id=\"T_76597_row10_col3\" class=\"data row10 col3\" >0.8062</td>\n",
       "                        <td id=\"T_76597_row10_col4\" class=\"data row10 col4\" >0.8740</td>\n",
       "                        <td id=\"T_76597_row10_col5\" class=\"data row10 col5\" >0.8046</td>\n",
       "                        <td id=\"T_76597_row10_col6\" class=\"data row10 col6\" >0.8118</td>\n",
       "            </tr>\n",
       "            <tr>\n",
       "                        <th id=\"T_76597_level0_row11\" class=\"row_heading level0 row11\" >SD</th>\n",
       "                        <td id=\"T_76597_row11_col0\" class=\"data row11 col0\" >0.0104</td>\n",
       "                        <td id=\"T_76597_row11_col1\" class=\"data row11 col1\" >0.0067</td>\n",
       "                        <td id=\"T_76597_row11_col2\" class=\"data row11 col2\" >0.0117</td>\n",
       "                        <td id=\"T_76597_row11_col3\" class=\"data row11 col3\" >0.0222</td>\n",
       "                        <td id=\"T_76597_row11_col4\" class=\"data row11 col4\" >0.0128</td>\n",
       "                        <td id=\"T_76597_row11_col5\" class=\"data row11 col5\" >0.0210</td>\n",
       "                        <td id=\"T_76597_row11_col6\" class=\"data row11 col6\" >0.0191</td>\n",
       "            </tr>\n",
       "    </tbody></table>"
      ],
      "text/plain": [
       "<pandas.io.formats.style.Styler at 0x7fc12fafa990>"
      ]
     },
     "metadata": {},
     "output_type": "display_data"
    }
   ],
   "source": [
    "best_model = create_model(model_matrix)\n",
    "\n",
    "unseen_predictions = predict_model(best_model, data=df_eval)"
   ]
  },
  {
   "cell_type": "code",
   "execution_count": 45,
   "id": "41adb8a7-ebb9-4e10-adc7-0c376447646c",
   "metadata": {},
   "outputs": [
    {
     "data": {
      "image/png": "[encoded data removed]",
      "text/plain": [
       "<Figure size 800x500 with 1 Axes>"
      ]
     },
     "metadata": {},
     "output_type": "display_data"
    }
   ],
   "source": [
    "plot_model(best_model, plot='feature')"
   ]
  },
  {
   "cell_type": "code",
   "execution_count": 47,
   "id": "809993df-4a01-4866-9413-fb5b1dc1554a",
   "metadata": {},
   "outputs": [
    {
     "data": {
      "image/png": "[encoded data removed]",
      "text/plain": [
       "<Figure size 576x396 with 1 Axes>"
      ]
     },
     "metadata": {},
     "output_type": "display_data"
    }
   ],
   "source": [
    "plot_model(best_model, plot='confusion_matrix')"
   ]
  },
  {
   "cell_type": "markdown",
   "id": "22e76df0",
   "metadata": {},
   "source": [
    "## Observations\n",
    "* Compared to the standard StellarAlgo retention features, the extended PTB features increased accuracy from 0.8825 to 0.9098.\n",
    "* An additional feature (clickToOpenRatio) registers as the highest feature along with tenure for retention prediction.\n",
    "* The extended feature model was better at predicting buyers who don't renew."
   ]
  },
  {
   "cell_type": "markdown",
   "id": "abda0dfd",
   "metadata": {},
   "source": [
    "## Conclusions\n",
    "Here you can talk about next steps, did the experiment work? If yes, what to do next? If no, why?"
   ]
  }
 ],
 "metadata": {
  "kernelspec": {
   "display_name": "Python 3 (ipykernel)",
   "language": "python",
   "name": "python3"
  },
  "language_info": {
   "codemirror_mode": {
    "name": "ipython",
    "version": 3
   },
   "file_extension": ".py",
   "mimetype": "text/x-python",
   "name": "python",
   "nbconvert_exporter": "python",
   "pygments_lexer": "ipython3",
   "version": "3.7.10"
  }
 },
 "nbformat": 4,
 "nbformat_minor": 5
}
