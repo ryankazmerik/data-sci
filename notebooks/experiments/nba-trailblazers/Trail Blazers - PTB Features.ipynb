{
 "cells": [
  {
   "cell_type": "markdown",
   "id": "9575d83e",
   "metadata": {},
   "source": [
    "# Portland Trail Blazers - Feature Selection\n",
    "* StellarAlgo Data Science\n",
    "* Ryan Kazmerik & Nakisa Rad\n",
    "* October 8, 2021"
   ]
  },
  {
   "cell_type": "markdown",
   "id": "62d7c5a2",
   "metadata": {},
   "source": [
    "## Hypothesis\n",
    "Two very important components of a machine learning model are feature selection and feature engineering. Our idea is that adding some more features to the StellarAlgo retention model could improve performance of the model."
   ]
  },
  {
   "cell_type": "markdown",
   "id": "c46403a5",
   "metadata": {},
   "source": [
    "## Experiment\n",
    "This section details our experiment including querying data, data transformations, feature selection and modelling."
   ]
  },
  {
   "cell_type": "code",
   "execution_count": 49,
   "id": "df2be620",
   "metadata": {},
   "outputs": [],
   "source": [
    "import getpass\n",
    "import pyodbc\n",
    "import pandas as pd\n",
    "import warnings\n",
    "\n",
    "from pycaret.classification import *\n",
    "from ngboost import NGBClassifier\n",
    "\n",
    "warnings.filterwarnings('ignore')"
   ]
  },
  {
   "cell_type": "markdown",
   "id": "5872346a",
   "metadata": {},
   "source": [
    "### Let's connect to MSSQL and run a stored proc to get our dataset:"
   ]
  },
  {
   "cell_type": "code",
   "execution_count": 50,
   "id": "c060d5cf",
   "metadata": {},
   "outputs": [
    {
     "name": "stdin",
     "output_type": "stream",
     "text": [
      "Enter your password ··················\n"
     ]
    }
   ],
   "source": [
    "SERVER = '34.206.73.189' \n",
    "DATABASE = 'datascience' \n",
    "USERNAME = 'dsAdminWrite' \n",
    "PASSWORD = getpass.getpass(prompt='Enter your password')\n",
    "CNXN = pyodbc.connect('DRIVER={ODBC Driver 17 for SQL Server};SERVER='+SERVER+';DATABASE='+DATABASE+';UID='+USERNAME+';PWD='+ PASSWORD)"
   ]
  },
  {
   "cell_type": "code",
   "execution_count": 51,
   "id": "b9615e8a",
   "metadata": {},
   "outputs": [],
   "source": [
    "lkupclientid = 5 # Portland Trail Blazers\n",
    "\n",
    "cursor = CNXN.cursor()\n",
    "\n",
    "storedProc = (\n",
    "    f\"\"\"Exec [stlrTrailBlazers].[ds].[getRetentionScoringModelData] {lkupclientid}\"\"\"\n",
    ")\n",
    "\n",
    "df = pd.read_sql(storedProc, CNXN)\n",
    "\n",
    "CNXN.commit()\n",
    "cursor.close()"
   ]
  },
  {
   "cell_type": "markdown",
   "id": "4b4e7b71",
   "metadata": {},
   "source": [
    "### Let's drop the features that have lots of null values, as these won't be useful to our model:"
   ]
  },
  {
   "cell_type": "code",
   "execution_count": 52,
   "id": "6fbd8c9b",
   "metadata": {},
   "outputs": [],
   "source": [
    "df.drop([\n",
    "    'dimCustomerMasterId',\n",
    "    'source_tenure',\n",
    "    'urbanicity', \n",
    "    'isnextyear_buyer', \n",
    "    'isnextyear_samepkg_buyer',\n",
    "    'pkgupgrade_status',\n",
    "    'auto_renewal'],\n",
    "    axis=1, \n",
    "    inplace=True\n",
    ")"
   ]
  },
  {
   "cell_type": "markdown",
   "id": "492a5cf6-ff41-4110-99f4-7a227d36984a",
   "metadata": {},
   "source": [
    "### Let's also drop the features that only have a single value, as they won't add much differentiation to our model:"
   ]
  },
  {
   "cell_type": "code",
   "execution_count": 53,
   "id": "4d9ea626-fc5d-4e13-b150-932815b9f399",
   "metadata": {},
   "outputs": [
    {
     "data": {
      "text/plain": [
       "(11004, 30)"
      ]
     },
     "execution_count": 53,
     "metadata": {},
     "output_type": "execute_result"
    }
   ],
   "source": [
    "for col in df.columns:\n",
    "    if len(df[col].unique()) == 1:\n",
    "        df.drop(col,inplace=True,axis=1)\n",
    "        \n",
    "df.shape"
   ]
  },
  {
   "cell_type": "markdown",
   "id": "cbfa1a4e",
   "metadata": {},
   "source": [
    "### In order to compare two sets of features, we need to create some datasets for training and evalution:"
   ]
  },
  {
   "cell_type": "code",
   "execution_count": 54,
   "id": "82651c96",
   "metadata": {},
   "outputs": [
    {
     "name": "stdout",
     "output_type": "stream",
     "text": [
      "Data for Modeling: (8803, 15)\n",
      "Unseen Data For Predictions: (2201, 15)\n",
      "\n"
     ]
    }
   ],
   "source": [
    "# choose the features for the stellar base retention model\n",
    "features = [\n",
    "    \"attendancePercent\",\n",
    "    \"distToVenue\",\n",
    "    \"education\",\n",
    "    \"fill_out_form\",\n",
    "    \"gender\",\n",
    "    \"isNextYear_Buyer\",\n",
    "    \"missed_games_1\",\n",
    "    \"missed_games_2\",\n",
    "    \"missed_games_over_2\",\n",
    "    \"recency\",\n",
    "    \"renewedBeforeDays\",\n",
    "    \"resale_atp\",\n",
    "    \"resale_records\",\n",
    "    \"totalSpent\",\n",
    "    \"tenure\"\n",
    "]\n",
    "\n",
    "# select % of the data for training\n",
    "df_train = df.sample(frac=0.8, random_state=786).reset_index(drop=True)\n",
    "\n",
    "# create the eval datasets for A and B\n",
    "df_eval = df.drop(df_train.index).reset_index(drop=True)\n",
    "\n",
    "# choose features for each train dataset\n",
    "df_train = df_train[features]\n",
    "\n",
    "# choose features for each train dataset\n",
    "df_eval = df_eval[features]\n",
    "\n",
    "# print out the number of records for training and eval\n",
    "print('Data for Modeling: ' + str(df_train.shape))\n",
    "print('Unseen Data For Predictions: ' + str(df_eval.shape), end=\"\\n\\n\")"
   ]
  },
  {
   "cell_type": "markdown",
   "id": "9f34eb03-b49b-49e5-bce8-7caaa29c5dd7",
   "metadata": {},
   "source": [
    "## Now we can model the data using a binary classification prediction for the isnextyear_buyer field to see how likely a customer is to re-purchase."
   ]
  },
  {
   "cell_type": "code",
   "execution_count": null,
   "id": "3eabb279-56dd-4dbf-b7da-77bd2aa7cafa",
   "metadata": {},
   "outputs": [],
   "source": [
    "setup(\n",
    "    data= df_train, \n",
    "    target=\"isNextYear_Buyer\", \n",
    "    train_size = 0.80,\n",
    "    data_split_shuffle=True,\n",
    "    silent=True,\n",
    "    numeric_features=[\n",
    "        \"attendancePercent\",\n",
    "        \"distToVenue\",\n",
    "        \"fill_out_form\",\n",
    "        \"missed_games_1\",\n",
    "        \"missed_games_2\",\n",
    "        \"missed_games_over_2\",\n",
    "        \"recency\",\n",
    "        \"renewedBeforeDays\",\n",
    "        \"resale_atp\",\n",
    "        \"resale_records\",\n",
    "        \"tenure\",\n",
    "        \"totalSpent\"\n",
    "    ]\n",
    ")"
   ]
  },
  {
   "cell_type": "code",
   "execution_count": 56,
   "id": "05742a70-860c-477f-bea9-516a0a87c508",
   "metadata": {},
   "outputs": [
    {
     "data": {
      "text/html": [
       "<style  type=\"text/css\" >\n",
       "    #T_f1eaa_ th {\n",
       "          text-align: left;\n",
       "    }#T_f1eaa_row0_col0,#T_f1eaa_row0_col2,#T_f1eaa_row0_col4,#T_f1eaa_row1_col0,#T_f1eaa_row1_col1,#T_f1eaa_row1_col3,#T_f1eaa_row1_col4,#T_f1eaa_row1_col5,#T_f1eaa_row1_col6,#T_f1eaa_row1_col7,#T_f1eaa_row2_col0,#T_f1eaa_row2_col1,#T_f1eaa_row2_col2,#T_f1eaa_row2_col3,#T_f1eaa_row2_col4,#T_f1eaa_row2_col5,#T_f1eaa_row2_col6,#T_f1eaa_row2_col7,#T_f1eaa_row3_col0,#T_f1eaa_row3_col1,#T_f1eaa_row3_col2,#T_f1eaa_row3_col3,#T_f1eaa_row3_col4,#T_f1eaa_row3_col5,#T_f1eaa_row3_col6,#T_f1eaa_row3_col7,#T_f1eaa_row4_col0,#T_f1eaa_row4_col1,#T_f1eaa_row4_col2,#T_f1eaa_row4_col3,#T_f1eaa_row4_col5,#T_f1eaa_row4_col6,#T_f1eaa_row4_col7,#T_f1eaa_row5_col0,#T_f1eaa_row5_col1,#T_f1eaa_row5_col2,#T_f1eaa_row5_col3,#T_f1eaa_row5_col4,#T_f1eaa_row5_col5,#T_f1eaa_row5_col6,#T_f1eaa_row5_col7,#T_f1eaa_row6_col0,#T_f1eaa_row6_col1,#T_f1eaa_row6_col2,#T_f1eaa_row6_col3,#T_f1eaa_row6_col4,#T_f1eaa_row6_col5,#T_f1eaa_row6_col6,#T_f1eaa_row6_col7,#T_f1eaa_row7_col0,#T_f1eaa_row7_col1,#T_f1eaa_row7_col2,#T_f1eaa_row7_col3,#T_f1eaa_row7_col4,#T_f1eaa_row7_col5,#T_f1eaa_row7_col6,#T_f1eaa_row7_col7,#T_f1eaa_row8_col0,#T_f1eaa_row8_col1,#T_f1eaa_row8_col2,#T_f1eaa_row8_col3,#T_f1eaa_row8_col4,#T_f1eaa_row8_col5,#T_f1eaa_row8_col6,#T_f1eaa_row8_col7,#T_f1eaa_row9_col0,#T_f1eaa_row9_col1,#T_f1eaa_row9_col2,#T_f1eaa_row9_col3,#T_f1eaa_row9_col4,#T_f1eaa_row9_col5,#T_f1eaa_row9_col6,#T_f1eaa_row9_col7{\n",
       "            text-align:  left;\n",
       "            text-align:  left;\n",
       "        }#T_f1eaa_row0_col1,#T_f1eaa_row0_col3,#T_f1eaa_row0_col5,#T_f1eaa_row0_col6,#T_f1eaa_row0_col7,#T_f1eaa_row1_col2,#T_f1eaa_row4_col4{\n",
       "            text-align:  left;\n",
       "            text-align:  left;\n",
       "            background-color:  yellow;\n",
       "        }#T_f1eaa_row0_col8,#T_f1eaa_row1_col8,#T_f1eaa_row2_col8,#T_f1eaa_row3_col8,#T_f1eaa_row4_col8,#T_f1eaa_row5_col8,#T_f1eaa_row6_col8,#T_f1eaa_row7_col8,#T_f1eaa_row9_col8{\n",
       "            text-align:  left;\n",
       "            text-align:  left;\n",
       "            background-color:  lightgrey;\n",
       "        }#T_f1eaa_row8_col8{\n",
       "            text-align:  left;\n",
       "            text-align:  left;\n",
       "            background-color:  yellow;\n",
       "            background-color:  lightgrey;\n",
       "        }</style><table id=\"T_f1eaa_\" ><thead>    <tr>        <th class=\"blank level0\" ></th>        <th class=\"col_heading level0 col0\" >Model</th>        <th class=\"col_heading level0 col1\" >Accuracy</th>        <th class=\"col_heading level0 col2\" >AUC</th>        <th class=\"col_heading level0 col3\" >Recall</th>        <th class=\"col_heading level0 col4\" >Prec.</th>        <th class=\"col_heading level0 col5\" >F1</th>        <th class=\"col_heading level0 col6\" >Kappa</th>        <th class=\"col_heading level0 col7\" >MCC</th>        <th class=\"col_heading level0 col8\" >TT (Sec)</th>    </tr></thead><tbody>\n",
       "                <tr>\n",
       "                        <th id=\"T_f1eaa_level0_row0\" class=\"row_heading level0 row0\" >8</th>\n",
       "                        <td id=\"T_f1eaa_row0_col0\" class=\"data row0 col0\" >NGBClassifier</td>\n",
       "                        <td id=\"T_f1eaa_row0_col1\" class=\"data row0 col1\" >0.9125</td>\n",
       "                        <td id=\"T_f1eaa_row0_col2\" class=\"data row0 col2\" >0.9591</td>\n",
       "                        <td id=\"T_f1eaa_row0_col3\" class=\"data row0 col3\" >0.9819</td>\n",
       "                        <td id=\"T_f1eaa_row0_col4\" class=\"data row0 col4\" >0.7991</td>\n",
       "                        <td id=\"T_f1eaa_row0_col5\" class=\"data row0 col5\" >0.8810</td>\n",
       "                        <td id=\"T_f1eaa_row0_col6\" class=\"data row0 col6\" >0.8130</td>\n",
       "                        <td id=\"T_f1eaa_row0_col7\" class=\"data row0 col7\" >0.8239</td>\n",
       "                        <td id=\"T_f1eaa_row0_col8\" class=\"data row0 col8\" >1.4330</td>\n",
       "            </tr>\n",
       "            <tr>\n",
       "                        <th id=\"T_f1eaa_level0_row1\" class=\"row_heading level0 row1\" >2</th>\n",
       "                        <td id=\"T_f1eaa_row1_col0\" class=\"data row1 col0\" >Gradient Boosting Classifier</td>\n",
       "                        <td id=\"T_f1eaa_row1_col1\" class=\"data row1 col1\" >0.9121</td>\n",
       "                        <td id=\"T_f1eaa_row1_col2\" class=\"data row1 col2\" >0.9595</td>\n",
       "                        <td id=\"T_f1eaa_row1_col3\" class=\"data row1 col3\" >0.9591</td>\n",
       "                        <td id=\"T_f1eaa_row1_col4\" class=\"data row1 col4\" >0.8098</td>\n",
       "                        <td id=\"T_f1eaa_row1_col5\" class=\"data row1 col5\" >0.8780</td>\n",
       "                        <td id=\"T_f1eaa_row1_col6\" class=\"data row1 col6\" >0.8101</td>\n",
       "                        <td id=\"T_f1eaa_row1_col7\" class=\"data row1 col7\" >0.8173</td>\n",
       "                        <td id=\"T_f1eaa_row1_col8\" class=\"data row1 col8\" >0.0780</td>\n",
       "            </tr>\n",
       "            <tr>\n",
       "                        <th id=\"T_f1eaa_level0_row2\" class=\"row_heading level0 row2\" >0</th>\n",
       "                        <td id=\"T_f1eaa_row2_col0\" class=\"data row2 col0\" >Ada Boost Classifier</td>\n",
       "                        <td id=\"T_f1eaa_row2_col1\" class=\"data row2 col1\" >0.9094</td>\n",
       "                        <td id=\"T_f1eaa_row2_col2\" class=\"data row2 col2\" >0.9552</td>\n",
       "                        <td id=\"T_f1eaa_row2_col3\" class=\"data row2 col3\" >0.9474</td>\n",
       "                        <td id=\"T_f1eaa_row2_col4\" class=\"data row2 col4\" >0.8103</td>\n",
       "                        <td id=\"T_f1eaa_row2_col5\" class=\"data row2 col5\" >0.8734</td>\n",
       "                        <td id=\"T_f1eaa_row2_col6\" class=\"data row2 col6\" >0.8035</td>\n",
       "                        <td id=\"T_f1eaa_row2_col7\" class=\"data row2 col7\" >0.8097</td>\n",
       "                        <td id=\"T_f1eaa_row2_col8\" class=\"data row2 col8\" >0.0430</td>\n",
       "            </tr>\n",
       "            <tr>\n",
       "                        <th id=\"T_f1eaa_level0_row3\" class=\"row_heading level0 row3\" >5</th>\n",
       "                        <td id=\"T_f1eaa_row3_col0\" class=\"data row3 col0\" >Light Gradient Boosting Machine</td>\n",
       "                        <td id=\"T_f1eaa_row3_col1\" class=\"data row3 col1\" >0.9074</td>\n",
       "                        <td id=\"T_f1eaa_row3_col2\" class=\"data row3 col2\" >0.9564</td>\n",
       "                        <td id=\"T_f1eaa_row3_col3\" class=\"data row3 col3\" >0.9306</td>\n",
       "                        <td id=\"T_f1eaa_row3_col4\" class=\"data row3 col4\" >0.8151</td>\n",
       "                        <td id=\"T_f1eaa_row3_col5\" class=\"data row3 col5\" >0.8689</td>\n",
       "                        <td id=\"T_f1eaa_row3_col6\" class=\"data row3 col6\" >0.7978</td>\n",
       "                        <td id=\"T_f1eaa_row3_col7\" class=\"data row3 col7\" >0.8022</td>\n",
       "                        <td id=\"T_f1eaa_row3_col8\" class=\"data row3 col8\" >0.7310</td>\n",
       "            </tr>\n",
       "            <tr>\n",
       "                        <th id=\"T_f1eaa_level0_row4\" class=\"row_heading level0 row4\" >7</th>\n",
       "                        <td id=\"T_f1eaa_row4_col0\" class=\"data row4 col0\" >Random Forest Classifier</td>\n",
       "                        <td id=\"T_f1eaa_row4_col1\" class=\"data row4 col1\" >0.9064</td>\n",
       "                        <td id=\"T_f1eaa_row4_col2\" class=\"data row4 col2\" >0.9563</td>\n",
       "                        <td id=\"T_f1eaa_row4_col3\" class=\"data row4 col3\" >0.9087</td>\n",
       "                        <td id=\"T_f1eaa_row4_col4\" class=\"data row4 col4\" >0.8253</td>\n",
       "                        <td id=\"T_f1eaa_row4_col5\" class=\"data row4 col5\" >0.8649</td>\n",
       "                        <td id=\"T_f1eaa_row4_col6\" class=\"data row4 col6\" >0.7936</td>\n",
       "                        <td id=\"T_f1eaa_row4_col7\" class=\"data row4 col7\" >0.7958</td>\n",
       "                        <td id=\"T_f1eaa_row4_col8\" class=\"data row4 col8\" >0.1470</td>\n",
       "            </tr>\n",
       "            <tr>\n",
       "                        <th id=\"T_f1eaa_level0_row5\" class=\"row_heading level0 row5\" >9</th>\n",
       "                        <td id=\"T_f1eaa_row5_col0\" class=\"data row5 col0\" >Extreme Gradient Boosting</td>\n",
       "                        <td id=\"T_f1eaa_row5_col1\" class=\"data row5 col1\" >0.9061</td>\n",
       "                        <td id=\"T_f1eaa_row5_col2\" class=\"data row5 col2\" >0.9554</td>\n",
       "                        <td id=\"T_f1eaa_row5_col3\" class=\"data row5 col3\" >0.9216</td>\n",
       "                        <td id=\"T_f1eaa_row5_col4\" class=\"data row5 col4\" >0.8173</td>\n",
       "                        <td id=\"T_f1eaa_row5_col5\" class=\"data row5 col5\" >0.8662</td>\n",
       "                        <td id=\"T_f1eaa_row5_col6\" class=\"data row5 col6\" >0.7943</td>\n",
       "                        <td id=\"T_f1eaa_row5_col7\" class=\"data row5 col7\" >0.7979</td>\n",
       "                        <td id=\"T_f1eaa_row5_col8\" class=\"data row5 col8\" >0.3210</td>\n",
       "            </tr>\n",
       "            <tr>\n",
       "                        <th id=\"T_f1eaa_level0_row6\" class=\"row_heading level0 row6\" >3</th>\n",
       "                        <td id=\"T_f1eaa_row6_col0\" class=\"data row6 col0\" >Extra Trees Classifier</td>\n",
       "                        <td id=\"T_f1eaa_row6_col1\" class=\"data row6 col1\" >0.8996</td>\n",
       "                        <td id=\"T_f1eaa_row6_col2\" class=\"data row6 col2\" >0.9491</td>\n",
       "                        <td id=\"T_f1eaa_row6_col3\" class=\"data row6 col3\" >0.8944</td>\n",
       "                        <td id=\"T_f1eaa_row6_col4\" class=\"data row6 col4\" >0.8180</td>\n",
       "                        <td id=\"T_f1eaa_row6_col5\" class=\"data row6 col5\" >0.8545</td>\n",
       "                        <td id=\"T_f1eaa_row6_col6\" class=\"data row6 col6\" >0.7781</td>\n",
       "                        <td id=\"T_f1eaa_row6_col7\" class=\"data row6 col7\" >0.7800</td>\n",
       "                        <td id=\"T_f1eaa_row6_col8\" class=\"data row6 col8\" >0.1280</td>\n",
       "            </tr>\n",
       "            <tr>\n",
       "                        <th id=\"T_f1eaa_level0_row7\" class=\"row_heading level0 row7\" >6</th>\n",
       "                        <td id=\"T_f1eaa_row7_col0\" class=\"data row7 col0\" >Logistic Regression</td>\n",
       "                        <td id=\"T_f1eaa_row7_col1\" class=\"data row7 col1\" >0.8894</td>\n",
       "                        <td id=\"T_f1eaa_row7_col2\" class=\"data row7 col2\" >0.9413</td>\n",
       "                        <td id=\"T_f1eaa_row7_col3\" class=\"data row7 col3\" >0.9362</td>\n",
       "                        <td id=\"T_f1eaa_row7_col4\" class=\"data row7 col4\" >0.7760</td>\n",
       "                        <td id=\"T_f1eaa_row7_col5\" class=\"data row7 col5\" >0.8483</td>\n",
       "                        <td id=\"T_f1eaa_row7_col6\" class=\"data row7 col6\" >0.7626</td>\n",
       "                        <td id=\"T_f1eaa_row7_col7\" class=\"data row7 col7\" >0.7712</td>\n",
       "                        <td id=\"T_f1eaa_row7_col8\" class=\"data row7 col8\" >0.1200</td>\n",
       "            </tr>\n",
       "            <tr>\n",
       "                        <th id=\"T_f1eaa_level0_row8\" class=\"row_heading level0 row8\" >1</th>\n",
       "                        <td id=\"T_f1eaa_row8_col0\" class=\"data row8 col0\" >Decision Tree Classifier</td>\n",
       "                        <td id=\"T_f1eaa_row8_col1\" class=\"data row8 col1\" >0.8757</td>\n",
       "                        <td id=\"T_f1eaa_row8_col2\" class=\"data row8 col2\" >0.8596</td>\n",
       "                        <td id=\"T_f1eaa_row8_col3\" class=\"data row8 col3\" >0.8022</td>\n",
       "                        <td id=\"T_f1eaa_row8_col4\" class=\"data row8 col4\" >0.8175</td>\n",
       "                        <td id=\"T_f1eaa_row8_col5\" class=\"data row8 col5\" >0.8096</td>\n",
       "                        <td id=\"T_f1eaa_row8_col6\" class=\"data row8 col6\" >0.7174</td>\n",
       "                        <td id=\"T_f1eaa_row8_col7\" class=\"data row8 col7\" >0.7177</td>\n",
       "                        <td id=\"T_f1eaa_row8_col8\" class=\"data row8 col8\" >0.0090</td>\n",
       "            </tr>\n",
       "            <tr>\n",
       "                        <th id=\"T_f1eaa_level0_row9\" class=\"row_heading level0 row9\" >4</th>\n",
       "                        <td id=\"T_f1eaa_row9_col0\" class=\"data row9 col0\" >K Neighbors Classifier</td>\n",
       "                        <td id=\"T_f1eaa_row9_col1\" class=\"data row9 col1\" >0.8418</td>\n",
       "                        <td id=\"T_f1eaa_row9_col2\" class=\"data row9 col2\" >0.9086</td>\n",
       "                        <td id=\"T_f1eaa_row9_col3\" class=\"data row9 col3\" >0.8388</td>\n",
       "                        <td id=\"T_f1eaa_row9_col4\" class=\"data row9 col4\" >0.7251</td>\n",
       "                        <td id=\"T_f1eaa_row9_col5\" class=\"data row9 col5\" >0.7776</td>\n",
       "                        <td id=\"T_f1eaa_row9_col6\" class=\"data row9 col6\" >0.6559</td>\n",
       "                        <td id=\"T_f1eaa_row9_col7\" class=\"data row9 col7\" >0.6604</td>\n",
       "                        <td id=\"T_f1eaa_row9_col8\" class=\"data row9 col8\" >0.0320</td>\n",
       "            </tr>\n",
       "    </tbody></table>"
      ],
      "text/plain": [
       "<pandas.io.formats.style.Styler at 0x7f8c38d780d0>"
      ]
     },
     "metadata": {},
     "output_type": "display_data"
    }
   ],
   "source": [
    "# adding an extra classifier ngboost\n",
    "ngc = NGBClassifier()\n",
    "ngboost = create_model(ngc)\n",
    "\n",
    "model_matrix = compare_models(\n",
    "    fold=10,\n",
    "    include=[\"ada\",\"dt\",\"gbc\",\"et\",\"knn\",\"lightgbm\",\"lr\",\"rf\",ngboost,\"xgboost\"]\n",
    ")"
   ]
  },
  {
   "cell_type": "markdown",
   "id": "03df160e-ac51-4adb-a131-91201fdd8358",
   "metadata": {},
   "source": [
    "### The top model is performing well, so let's compare it against our unseen eval dataset:"
   ]
  },
  {
   "cell_type": "code",
   "execution_count": 57,
   "id": "9b4716b3-5a6b-4942-a32c-7ef3e9083509",
   "metadata": {},
   "outputs": [
    {
     "data": {
      "text/html": [
       "<style  type=\"text/css\" >\n",
       "#T_92c7e_row10_col0,#T_92c7e_row10_col1,#T_92c7e_row10_col2,#T_92c7e_row10_col3,#T_92c7e_row10_col4,#T_92c7e_row10_col5,#T_92c7e_row10_col6{\n",
       "            background:  yellow;\n",
       "        }</style><table id=\"T_92c7e_\" ><thead>    <tr>        <th class=\"blank level0\" ></th>        <th class=\"col_heading level0 col0\" >Accuracy</th>        <th class=\"col_heading level0 col1\" >AUC</th>        <th class=\"col_heading level0 col2\" >Recall</th>        <th class=\"col_heading level0 col3\" >Prec.</th>        <th class=\"col_heading level0 col4\" >F1</th>        <th class=\"col_heading level0 col5\" >Kappa</th>        <th class=\"col_heading level0 col6\" >MCC</th>    </tr></thead><tbody>\n",
       "                <tr>\n",
       "                        <th id=\"T_92c7e_level0_row0\" class=\"row_heading level0 row0\" >0</th>\n",
       "                        <td id=\"T_92c7e_row0_col0\" class=\"data row0 col0\" >0.9035</td>\n",
       "                        <td id=\"T_92c7e_row0_col1\" class=\"data row0 col1\" >0.9553</td>\n",
       "                        <td id=\"T_92c7e_row0_col2\" class=\"data row0 col2\" >0.9871</td>\n",
       "                        <td id=\"T_92c7e_row0_col3\" class=\"data row0 col3\" >0.7789</td>\n",
       "                        <td id=\"T_92c7e_row0_col4\" class=\"data row0 col4\" >0.8707</td>\n",
       "                        <td id=\"T_92c7e_row0_col5\" class=\"data row0 col5\" >0.7955</td>\n",
       "                        <td id=\"T_92c7e_row0_col6\" class=\"data row0 col6\" >0.8097</td>\n",
       "            </tr>\n",
       "            <tr>\n",
       "                        <th id=\"T_92c7e_level0_row1\" class=\"row_heading level0 row1\" >1</th>\n",
       "                        <td id=\"T_92c7e_row1_col0\" class=\"data row1 col0\" >0.9092</td>\n",
       "                        <td id=\"T_92c7e_row1_col1\" class=\"data row1 col1\" >0.9593</td>\n",
       "                        <td id=\"T_92c7e_row1_col2\" class=\"data row1 col2\" >0.9871</td>\n",
       "                        <td id=\"T_92c7e_row1_col3\" class=\"data row1 col3\" >0.7904</td>\n",
       "                        <td id=\"T_92c7e_row1_col4\" class=\"data row1 col4\" >0.8779</td>\n",
       "                        <td id=\"T_92c7e_row1_col5\" class=\"data row1 col5\" >0.8070</td>\n",
       "                        <td id=\"T_92c7e_row1_col6\" class=\"data row1 col6\" >0.8197</td>\n",
       "            </tr>\n",
       "            <tr>\n",
       "                        <th id=\"T_92c7e_level0_row2\" class=\"row_heading level0 row2\" >2</th>\n",
       "                        <td id=\"T_92c7e_row2_col0\" class=\"data row2 col0\" >0.9020</td>\n",
       "                        <td id=\"T_92c7e_row2_col1\" class=\"data row2 col1\" >0.9519</td>\n",
       "                        <td id=\"T_92c7e_row2_col2\" class=\"data row2 col2\" >0.9914</td>\n",
       "                        <td id=\"T_92c7e_row2_col3\" class=\"data row2 col3\" >0.7744</td>\n",
       "                        <td id=\"T_92c7e_row2_col4\" class=\"data row2 col4\" >0.8696</td>\n",
       "                        <td id=\"T_92c7e_row2_col5\" class=\"data row2 col5\" >0.7929</td>\n",
       "                        <td id=\"T_92c7e_row2_col6\" class=\"data row2 col6\" >0.8085</td>\n",
       "            </tr>\n",
       "            <tr>\n",
       "                        <th id=\"T_92c7e_level0_row3\" class=\"row_heading level0 row3\" >3</th>\n",
       "                        <td id=\"T_92c7e_row3_col0\" class=\"data row3 col0\" >0.9162</td>\n",
       "                        <td id=\"T_92c7e_row3_col1\" class=\"data row3 col1\" >0.9517</td>\n",
       "                        <td id=\"T_92c7e_row3_col2\" class=\"data row3 col2\" >0.9828</td>\n",
       "                        <td id=\"T_92c7e_row3_col3\" class=\"data row3 col3\" >0.8057</td>\n",
       "                        <td id=\"T_92c7e_row3_col4\" class=\"data row3 col4\" >0.8854</td>\n",
       "                        <td id=\"T_92c7e_row3_col5\" class=\"data row3 col5\" >0.8204</td>\n",
       "                        <td id=\"T_92c7e_row3_col6\" class=\"data row3 col6\" >0.8305</td>\n",
       "            </tr>\n",
       "            <tr>\n",
       "                        <th id=\"T_92c7e_level0_row4\" class=\"row_heading level0 row4\" >4</th>\n",
       "                        <td id=\"T_92c7e_row4_col0\" class=\"data row4 col0\" >0.9176</td>\n",
       "                        <td id=\"T_92c7e_row4_col1\" class=\"data row4 col1\" >0.9652</td>\n",
       "                        <td id=\"T_92c7e_row4_col2\" class=\"data row4 col2\" >0.9871</td>\n",
       "                        <td id=\"T_92c7e_row4_col3\" class=\"data row4 col3\" >0.8063</td>\n",
       "                        <td id=\"T_92c7e_row4_col4\" class=\"data row4 col4\" >0.8876</td>\n",
       "                        <td id=\"T_92c7e_row4_col5\" class=\"data row4 col5\" >0.8236</td>\n",
       "                        <td id=\"T_92c7e_row4_col6\" class=\"data row4 col6\" >0.8341</td>\n",
       "            </tr>\n",
       "            <tr>\n",
       "                        <th id=\"T_92c7e_level0_row5\" class=\"row_heading level0 row5\" >5</th>\n",
       "                        <td id=\"T_92c7e_row5_col0\" class=\"data row5 col0\" >0.9134</td>\n",
       "                        <td id=\"T_92c7e_row5_col1\" class=\"data row5 col1\" >0.9588</td>\n",
       "                        <td id=\"T_92c7e_row5_col2\" class=\"data row5 col2\" >0.9828</td>\n",
       "                        <td id=\"T_92c7e_row5_col3\" class=\"data row5 col3\" >0.8000</td>\n",
       "                        <td id=\"T_92c7e_row5_col4\" class=\"data row5 col4\" >0.8820</td>\n",
       "                        <td id=\"T_92c7e_row5_col5\" class=\"data row5 col5\" >0.8147</td>\n",
       "                        <td id=\"T_92c7e_row5_col6\" class=\"data row5 col6\" >0.8254</td>\n",
       "            </tr>\n",
       "            <tr>\n",
       "                        <th id=\"T_92c7e_level0_row6\" class=\"row_heading level0 row6\" >6</th>\n",
       "                        <td id=\"T_92c7e_row6_col0\" class=\"data row6 col0\" >0.9119</td>\n",
       "                        <td id=\"T_92c7e_row6_col1\" class=\"data row6 col1\" >0.9621</td>\n",
       "                        <td id=\"T_92c7e_row6_col2\" class=\"data row6 col2\" >0.9655</td>\n",
       "                        <td id=\"T_92c7e_row6_col3\" class=\"data row6 col3\" >0.8058</td>\n",
       "                        <td id=\"T_92c7e_row6_col4\" class=\"data row6 col4\" >0.8784</td>\n",
       "                        <td id=\"T_92c7e_row6_col5\" class=\"data row6 col5\" >0.8103</td>\n",
       "                        <td id=\"T_92c7e_row6_col6\" class=\"data row6 col6\" >0.8184</td>\n",
       "            </tr>\n",
       "            <tr>\n",
       "                        <th id=\"T_92c7e_level0_row7\" class=\"row_heading level0 row7\" >7</th>\n",
       "                        <td id=\"T_92c7e_row7_col0\" class=\"data row7 col0\" >0.9247</td>\n",
       "                        <td id=\"T_92c7e_row7_col1\" class=\"data row7 col1\" >0.9585</td>\n",
       "                        <td id=\"T_92c7e_row7_col2\" class=\"data row7 col2\" >0.9828</td>\n",
       "                        <td id=\"T_92c7e_row7_col3\" class=\"data row7 col3\" >0.8231</td>\n",
       "                        <td id=\"T_92c7e_row7_col4\" class=\"data row7 col4\" >0.8959</td>\n",
       "                        <td id=\"T_92c7e_row7_col5\" class=\"data row7 col5\" >0.8376</td>\n",
       "                        <td id=\"T_92c7e_row7_col6\" class=\"data row7 col6\" >0.8457</td>\n",
       "            </tr>\n",
       "            <tr>\n",
       "                        <th id=\"T_92c7e_level0_row8\" class=\"row_heading level0 row8\" >8</th>\n",
       "                        <td id=\"T_92c7e_row8_col0\" class=\"data row8 col0\" >0.9077</td>\n",
       "                        <td id=\"T_92c7e_row8_col1\" class=\"data row8 col1\" >0.9589</td>\n",
       "                        <td id=\"T_92c7e_row8_col2\" class=\"data row8 col2\" >0.9698</td>\n",
       "                        <td id=\"T_92c7e_row8_col3\" class=\"data row8 col3\" >0.7951</td>\n",
       "                        <td id=\"T_92c7e_row8_col4\" class=\"data row8 col4\" >0.8738</td>\n",
       "                        <td id=\"T_92c7e_row8_col5\" class=\"data row8 col5\" >0.8021</td>\n",
       "                        <td id=\"T_92c7e_row8_col6\" class=\"data row8 col6\" >0.8120</td>\n",
       "            </tr>\n",
       "            <tr>\n",
       "                        <th id=\"T_92c7e_level0_row9\" class=\"row_heading level0 row9\" >9</th>\n",
       "                        <td id=\"T_92c7e_row9_col0\" class=\"data row9 col0\" >0.9190</td>\n",
       "                        <td id=\"T_92c7e_row9_col1\" class=\"data row9 col1\" >0.9693</td>\n",
       "                        <td id=\"T_92c7e_row9_col2\" class=\"data row9 col2\" >0.9828</td>\n",
       "                        <td id=\"T_92c7e_row9_col3\" class=\"data row9 col3\" >0.8114</td>\n",
       "                        <td id=\"T_92c7e_row9_col4\" class=\"data row9 col4\" >0.8889</td>\n",
       "                        <td id=\"T_92c7e_row9_col5\" class=\"data row9 col5\" >0.8261</td>\n",
       "                        <td id=\"T_92c7e_row9_col6\" class=\"data row9 col6\" >0.8355</td>\n",
       "            </tr>\n",
       "            <tr>\n",
       "                        <th id=\"T_92c7e_level0_row10\" class=\"row_heading level0 row10\" >Mean</th>\n",
       "                        <td id=\"T_92c7e_row10_col0\" class=\"data row10 col0\" >0.9125</td>\n",
       "                        <td id=\"T_92c7e_row10_col1\" class=\"data row10 col1\" >0.9591</td>\n",
       "                        <td id=\"T_92c7e_row10_col2\" class=\"data row10 col2\" >0.9819</td>\n",
       "                        <td id=\"T_92c7e_row10_col3\" class=\"data row10 col3\" >0.7991</td>\n",
       "                        <td id=\"T_92c7e_row10_col4\" class=\"data row10 col4\" >0.8810</td>\n",
       "                        <td id=\"T_92c7e_row10_col5\" class=\"data row10 col5\" >0.8130</td>\n",
       "                        <td id=\"T_92c7e_row10_col6\" class=\"data row10 col6\" >0.8239</td>\n",
       "            </tr>\n",
       "            <tr>\n",
       "                        <th id=\"T_92c7e_level0_row11\" class=\"row_heading level0 row11\" >SD</th>\n",
       "                        <td id=\"T_92c7e_row11_col0\" class=\"data row11 col0\" >0.0068</td>\n",
       "                        <td id=\"T_92c7e_row11_col1\" class=\"data row11 col1\" >0.0052</td>\n",
       "                        <td id=\"T_92c7e_row11_col2\" class=\"data row11 col2\" >0.0077</td>\n",
       "                        <td id=\"T_92c7e_row11_col3\" class=\"data row11 col3\" >0.0141</td>\n",
       "                        <td id=\"T_92c7e_row11_col4\" class=\"data row11 col4\" >0.0081</td>\n",
       "                        <td id=\"T_92c7e_row11_col5\" class=\"data row11 col5\" >0.0135</td>\n",
       "                        <td id=\"T_92c7e_row11_col6\" class=\"data row11 col6\" >0.0118</td>\n",
       "            </tr>\n",
       "    </tbody></table>"
      ],
      "text/plain": [
       "<pandas.io.formats.style.Styler at 0x7f8c37ff4ed0>"
      ]
     },
     "metadata": {},
     "output_type": "display_data"
    }
   ],
   "source": [
    "best_model = create_model(model_matrix)\n",
    "\n",
    "unseen_predictions = predict_model(best_model, data=df_eval)"
   ]
  },
  {
   "cell_type": "code",
   "execution_count": null,
   "id": "41adb8a7-ebb9-4e10-adc7-0c376447646c",
   "metadata": {},
   "outputs": [],
   "source": [
    "plot_model(best_model, plot='feature')"
   ]
  },
  {
   "cell_type": "code",
   "execution_count": null,
   "id": "809993df-4a01-4866-9413-fb5b1dc1554a",
   "metadata": {},
   "outputs": [],
   "source": [
    "plot_model(best_model, plot='confusion_matrix')"
   ]
  },
  {
   "cell_type": "markdown",
   "id": "f403c988",
   "metadata": {},
   "source": [
    "## Results"
   ]
  },
  {
   "cell_type": "markdown",
   "id": "22e76df0",
   "metadata": {},
   "source": [
    "## Observations\n",
    "Here you can document some ideas on the results from above"
   ]
  },
  {
   "cell_type": "markdown",
   "id": "abda0dfd",
   "metadata": {},
   "source": [
    "## Conclusions\n",
    "Here you can talk about next steps, did the experiment work? If yes, what to do next? If no, why?"
   ]
  }
 ],
 "metadata": {
  "kernelspec": {
   "display_name": "Python 3 (ipykernel)",
   "language": "python",
   "name": "python3"
  },
  "language_info": {
   "codemirror_mode": {
    "name": "ipython",
    "version": 3
   },
   "file_extension": ".py",
   "mimetype": "text/x-python",
   "name": "python",
   "nbconvert_exporter": "python",
   "pygments_lexer": "ipython3",
   "version": "3.7.10"
  }
 },
 "nbformat": 4,
 "nbformat_minor": 5
}
