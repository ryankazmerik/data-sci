{
 "cells": [
  {
   "cell_type": "markdown",
   "id": "6ee08766-25fd-4da1-91b8-b0c3e74db588",
   "metadata": {},
   "source": [
    "# Arizona Coyotes - Default Retention Model\n",
    "* StelllarAlgo Data Science\n",
    "* Ryan Kazmerik & Nakisa Rad\n",
    "* Jan 14, 2022"
   ]
  },
  {
   "cell_type": "markdown",
   "id": "39108c8d-2e9f-4759-ade2-83071038dc56",
   "metadata": {},
   "source": [
    "## Hypothesis\n",
    "This notebook contains the data pre-processing, model training and evaluation of the Coyotes retention model with the default StellarAlgo features. We think that the distToVenue feature could be a significant indicator for Full Season ticket buyers."
   ]
  },
  {
   "cell_type": "markdown",
   "id": "28142011-1f32-4cc7-816b-a6dae6f70c8c",
   "metadata": {},
   "source": [
    "## Experiment\n",
    "This section details our experiment including querying data, data transformations, feature selection and modelling."
   ]
  },
  {
   "cell_type": "code",
   "execution_count": 1,
   "id": "4c533efd-600e-4bce-8203-faffbddfa700",
   "metadata": {},
   "outputs": [
    {
     "ename": "NameError",
     "evalue": "name '_all_models_internal' is not defined",
     "output_type": "error",
     "traceback": [
      "\u001b[0;31m---------------------------------------------------------------------------\u001b[0m",
      "\u001b[0;31mNameError\u001b[0m                                 Traceback (most recent call last)",
      "\u001b[0;32m/var/folders/kp/vwm5bxcd72j3yf54l1xtsts80000gp/T/ipykernel_8407/1162767715.py\u001b[0m in \u001b[0;36m<module>\u001b[0;34m\u001b[0m\n\u001b[1;32m      9\u001b[0m \u001b[0;34m\u001b[0m\u001b[0m\n\u001b[1;32m     10\u001b[0m \u001b[0mngc\u001b[0m \u001b[0;34m=\u001b[0m \u001b[0mNGBClassifier\u001b[0m\u001b[0;34m(\u001b[0m\u001b[0;34m)\u001b[0m\u001b[0;34m\u001b[0m\u001b[0;34m\u001b[0m\u001b[0m\n\u001b[0;32m---> 11\u001b[0;31m \u001b[0mngboost\u001b[0m \u001b[0;34m=\u001b[0m \u001b[0mcreate_model\u001b[0m\u001b[0;34m(\u001b[0m\u001b[0mngc\u001b[0m\u001b[0;34m)\u001b[0m\u001b[0;34m\u001b[0m\u001b[0;34m\u001b[0m\u001b[0m\n\u001b[0m\u001b[1;32m     12\u001b[0m \u001b[0;34m\u001b[0m\u001b[0m\n\u001b[1;32m     13\u001b[0m \u001b[0mwarnings\u001b[0m\u001b[0;34m.\u001b[0m\u001b[0mfilterwarnings\u001b[0m\u001b[0;34m(\u001b[0m\u001b[0;34m'ignore'\u001b[0m\u001b[0;34m)\u001b[0m\u001b[0;34m\u001b[0m\u001b[0;34m\u001b[0m\u001b[0m\n",
      "\u001b[0;32m/opt/miniconda3/envs/stellar/lib/python3.7/site-packages/pycaret/classification.py\u001b[0m in \u001b[0;36mcreate_model\u001b[0;34m(estimator, fold, round, cross_validation, fit_kwargs, groups, verbose, **kwargs)\u001b[0m\n\u001b[1;32m    896\u001b[0m         \u001b[0mgroups\u001b[0m\u001b[0;34m=\u001b[0m\u001b[0mgroups\u001b[0m\u001b[0;34m,\u001b[0m\u001b[0;34m\u001b[0m\u001b[0;34m\u001b[0m\u001b[0m\n\u001b[1;32m    897\u001b[0m         \u001b[0mverbose\u001b[0m\u001b[0;34m=\u001b[0m\u001b[0mverbose\u001b[0m\u001b[0;34m,\u001b[0m\u001b[0;34m\u001b[0m\u001b[0;34m\u001b[0m\u001b[0m\n\u001b[0;32m--> 898\u001b[0;31m         \u001b[0;34m**\u001b[0m\u001b[0mkwargs\u001b[0m\u001b[0;34m,\u001b[0m\u001b[0;34m\u001b[0m\u001b[0;34m\u001b[0m\u001b[0m\n\u001b[0m\u001b[1;32m    899\u001b[0m     )\n\u001b[1;32m    900\u001b[0m \u001b[0;34m\u001b[0m\u001b[0m\n",
      "\u001b[0;32m/opt/miniconda3/envs/stellar/lib/python3.7/site-packages/pycaret/internal/tabular.py\u001b[0m in \u001b[0;36mcreate_model_supervised\u001b[0;34m(estimator, fold, round, cross_validation, predict, fit_kwargs, groups, refit, verbose, system, X_train_data, y_train_data, metrics, display, **kwargs)\u001b[0m\n\u001b[1;32m   2891\u001b[0m     \u001b[0mruntime_start\u001b[0m \u001b[0;34m=\u001b[0m \u001b[0mtime\u001b[0m\u001b[0;34m.\u001b[0m\u001b[0mtime\u001b[0m\u001b[0;34m(\u001b[0m\u001b[0;34m)\u001b[0m\u001b[0;34m\u001b[0m\u001b[0;34m\u001b[0m\u001b[0m\n\u001b[1;32m   2892\u001b[0m \u001b[0;34m\u001b[0m\u001b[0m\n\u001b[0;32m-> 2893\u001b[0;31m     \u001b[0mavailable_estimators\u001b[0m \u001b[0;34m=\u001b[0m \u001b[0mset\u001b[0m\u001b[0;34m(\u001b[0m\u001b[0m_all_models_internal\u001b[0m\u001b[0;34m.\u001b[0m\u001b[0mkeys\u001b[0m\u001b[0;34m(\u001b[0m\u001b[0;34m)\u001b[0m\u001b[0;34m)\u001b[0m\u001b[0;34m\u001b[0m\u001b[0;34m\u001b[0m\u001b[0m\n\u001b[0m\u001b[1;32m   2894\u001b[0m \u001b[0;34m\u001b[0m\u001b[0m\n\u001b[1;32m   2895\u001b[0m     \u001b[0;32mif\u001b[0m \u001b[0;32mnot\u001b[0m \u001b[0mfit_kwargs\u001b[0m\u001b[0;34m:\u001b[0m\u001b[0;34m\u001b[0m\u001b[0;34m\u001b[0m\u001b[0m\n",
      "\u001b[0;31mNameError\u001b[0m: name '_all_models_internal' is not defined"
     ]
    }
   ],
   "source": [
    "import getpass\n",
    "import pyodbc\n",
    "import pandas as pd\n",
    "import warnings\n",
    "import matplotlib.pyplot as plt\n",
    "\n",
    "from pycaret.classification import *\n",
    "from ngboost import NGBClassifier\n",
    "\n",
    "warnings.filterwarnings('ignore')\n",
    "warnings.simplefilter('ignore')"
   ]
  },
  {
   "cell_type": "markdown",
   "id": "b64ae7d5-84af-4915-bd13-1dd9d17098a3",
   "metadata": {},
   "source": [
    "### Let's connect to MSSQL and run a stored proc to get our dataset:"
   ]
  },
  {
   "cell_type": "code",
   "execution_count": 3,
   "id": "ae561eb4-f419-4d46-b5e0-12fac9b10db8",
   "metadata": {},
   "outputs": [
    {
     "name": "stdin",
     "output_type": "stream",
     "text": [
      "Enter your password ··················\n"
     ]
    }
   ],
   "source": [
    "# connect to SQL Server.\n",
    "SERVER = '34.206.73.189' \n",
    "DATABASE = 'datascience' \n",
    "USERNAME = 'dsAdminWrite' \n",
    "PASSWORD = getpass.getpass(prompt='Enter your password')\n",
    "CNXN = pyodbc.connect('DRIVER={ODBC Driver 17 for SQL Server};SERVER='+SERVER+';DATABASE='+DATABASE+';UID='+USERNAME+';PWD='+ PASSWORD)"
   ]
  },
  {
   "cell_type": "code",
   "execution_count": 14,
   "id": "af1afe7d-a35b-494b-88f3-980fb0e3da30",
   "metadata": {},
   "outputs": [
    {
     "data": {
      "text/plain": [
       "(17441, 54)"
      ]
     },
     "execution_count": 14,
     "metadata": {},
     "output_type": "execute_result"
    }
   ],
   "source": [
    "lkupclientid = 55 # coyotes\n",
    "cursor = CNXN.cursor()\n",
    "\n",
    "storedProc = (\n",
    "    f\"\"\"Exec [stlrCoyotes].[ds].[getRetentionScoringModelData] {lkupclientid}\"\"\"\n",
    ")\n",
    "\n",
    "df = pd.read_sql(storedProc, CNXN)\n",
    "\n",
    "# apply some data transformations\n",
    "df[\"year\"] = pd.to_numeric(df[\"year\"])\n",
    "\n",
    "CNXN.commit()\n",
    "cursor.close()\n",
    "\n",
    "df.shape"
   ]
  },
  {
   "cell_type": "markdown",
   "id": "ab40da92-72a7-49c1-9829-ed3805a39719",
   "metadata": {},
   "source": [
    "### Let's specify the default SA features for our model:"
   ]
  },
  {
   "cell_type": "code",
   "execution_count": 15,
   "id": "788f1273-8b7a-46bd-a099-1a471feeacc5",
   "metadata": {},
   "outputs": [
    {
     "name": "stdout",
     "output_type": "stream",
     "text": [
      "Data for Modeling: (11598, 9)\n",
      "Unseen Data For Predictions: (2047, 9)\n",
      "\n"
     ]
    }
   ],
   "source": [
    "# choose the features for the stellar base retention model\n",
    "features = [\n",
    "    \"dimCustomerMasterId\",\n",
    "    \"attendancePercent\",\n",
    "    \"distToVenue\",\n",
    "    \"isNextYear_Buyer\",\n",
    "    \"productGrouping\",\n",
    "    \"recency\",\n",
    "    \"source_tenure\",\n",
    "    \"totalSpent\",\n",
    "    \"year\"\n",
    "]\n",
    "\n",
    "# copy your main dataframe\n",
    "df_dataset = df\n",
    "\n",
    "# choose the features & train year & test year\n",
    "df_dataset = df_dataset[features]\n",
    "df_dataset = df_dataset.loc[df_dataset[\"year\"] <= 2019]\n",
    "\n",
    "df_train = df_dataset.sample(frac=0.85, random_state=786)\n",
    "df_eval = df_dataset.drop(df_train.index)\n",
    "\n",
    "df_train.reset_index(drop=True, inplace=True)\n",
    "df_eval.reset_index(drop=True, inplace=True)\n",
    "\n",
    "# print out the number of records for training and eval\n",
    "print('Data for Modeling: ' + str(df_train.shape))\n",
    "print('Unseen Data For Predictions: ' + str(df_eval.shape), end=\"\\n\\n\")"
   ]
  },
  {
   "cell_type": "markdown",
   "id": "4f2da06d-9015-49fd-89b3-956c2ebf66e9",
   "metadata": {},
   "source": [
    "### Now we can model the data using a binary classification prediction for the isnextyear_buyer field to see how likely a customer is to re-purchase."
   ]
  },
  {
   "cell_type": "code",
   "execution_count": 16,
   "id": "23a69cdc-b3ec-48c8-9ce5-29f617779389",
   "metadata": {},
   "outputs": [],
   "source": [
    "setup(\n",
    "    data= df_train, \n",
    "    target=\"isNextYear_Buyer\", \n",
    "    train_size = 0.85,\n",
    "    data_split_shuffle=True,\n",
    "    ignore_features=[\"dimCustomerMasterId\",\"productGrouping\",\"year\"],\n",
    "    silent=True,\n",
    "    verbose=False,\n",
    "    numeric_features=[\n",
    "        \"attendancePercent\",\n",
    "        \"distToVenue\",\n",
    "        \"recency\",\n",
    "        \"source_tenure\",\n",
    "        \"totalSpent\"\n",
    "    ]\n",
    ");"
   ]
  },
  {
   "cell_type": "markdown",
   "id": "6e1e33e8-ed5f-4e84-abb2-a2fc8370905c",
   "metadata": {},
   "source": [
    "### Let's compare all models to evaluate performance. The output prints a score grid that shows average Accuracy, AUC, Recall, Precision, F1 and Kappa accross the folds (10 by default) along with training time:"
   ]
  },
  {
   "cell_type": "code",
   "execution_count": 17,
   "id": "ef2db9d2-02c2-45c0-b6bb-5cad42c373ce",
   "metadata": {},
   "outputs": [
    {
     "data": {
      "text/html": [
       "<style  type=\"text/css\" >\n",
       "    #T_45dbc_ th {\n",
       "          text-align: left;\n",
       "    }#T_45dbc_row0_col0,#T_45dbc_row0_col3,#T_45dbc_row1_col0,#T_45dbc_row1_col1,#T_45dbc_row1_col2,#T_45dbc_row1_col4,#T_45dbc_row1_col5,#T_45dbc_row1_col6,#T_45dbc_row1_col7,#T_45dbc_row2_col0,#T_45dbc_row2_col1,#T_45dbc_row2_col2,#T_45dbc_row2_col3,#T_45dbc_row2_col4,#T_45dbc_row2_col5,#T_45dbc_row2_col6,#T_45dbc_row2_col7,#T_45dbc_row3_col0,#T_45dbc_row3_col1,#T_45dbc_row3_col2,#T_45dbc_row3_col3,#T_45dbc_row3_col4,#T_45dbc_row3_col5,#T_45dbc_row3_col6,#T_45dbc_row3_col7,#T_45dbc_row4_col0,#T_45dbc_row4_col1,#T_45dbc_row4_col2,#T_45dbc_row4_col3,#T_45dbc_row4_col4,#T_45dbc_row4_col5,#T_45dbc_row4_col6,#T_45dbc_row4_col7,#T_45dbc_row5_col0,#T_45dbc_row5_col1,#T_45dbc_row5_col2,#T_45dbc_row5_col3,#T_45dbc_row5_col4,#T_45dbc_row5_col5,#T_45dbc_row5_col6,#T_45dbc_row5_col7,#T_45dbc_row6_col0,#T_45dbc_row6_col1,#T_45dbc_row6_col2,#T_45dbc_row6_col3,#T_45dbc_row6_col4,#T_45dbc_row6_col5,#T_45dbc_row6_col6,#T_45dbc_row6_col7,#T_45dbc_row7_col0,#T_45dbc_row7_col1,#T_45dbc_row7_col2,#T_45dbc_row7_col3,#T_45dbc_row7_col4,#T_45dbc_row7_col5,#T_45dbc_row7_col6,#T_45dbc_row7_col7,#T_45dbc_row8_col0,#T_45dbc_row8_col1,#T_45dbc_row8_col2,#T_45dbc_row8_col3,#T_45dbc_row8_col4,#T_45dbc_row8_col5,#T_45dbc_row8_col6,#T_45dbc_row8_col7,#T_45dbc_row9_col0,#T_45dbc_row9_col1,#T_45dbc_row9_col2,#T_45dbc_row9_col3,#T_45dbc_row9_col4,#T_45dbc_row9_col5,#T_45dbc_row9_col6,#T_45dbc_row9_col7,#T_45dbc_row10_col0,#T_45dbc_row10_col1,#T_45dbc_row10_col2,#T_45dbc_row10_col3,#T_45dbc_row10_col4,#T_45dbc_row10_col5,#T_45dbc_row10_col6,#T_45dbc_row10_col7,#T_45dbc_row11_col0,#T_45dbc_row11_col1,#T_45dbc_row11_col2,#T_45dbc_row11_col3,#T_45dbc_row11_col4,#T_45dbc_row11_col5,#T_45dbc_row11_col6,#T_45dbc_row11_col7{\n",
       "            text-align:  left;\n",
       "            text-align:  left;\n",
       "        }#T_45dbc_row0_col1,#T_45dbc_row0_col2,#T_45dbc_row0_col4,#T_45dbc_row0_col5,#T_45dbc_row0_col6,#T_45dbc_row0_col7,#T_45dbc_row1_col3{\n",
       "            text-align:  left;\n",
       "            text-align:  left;\n",
       "            background-color:  yellow;\n",
       "        }#T_45dbc_row0_col8,#T_45dbc_row1_col8,#T_45dbc_row2_col8,#T_45dbc_row3_col8,#T_45dbc_row4_col8,#T_45dbc_row5_col8,#T_45dbc_row6_col8,#T_45dbc_row7_col8,#T_45dbc_row9_col8,#T_45dbc_row10_col8,#T_45dbc_row11_col8{\n",
       "            text-align:  left;\n",
       "            text-align:  left;\n",
       "            background-color:  lightgrey;\n",
       "        }#T_45dbc_row8_col8{\n",
       "            text-align:  left;\n",
       "            text-align:  left;\n",
       "            background-color:  yellow;\n",
       "            background-color:  lightgrey;\n",
       "        }</style><table id=\"T_45dbc_\" ><thead>    <tr>        <th class=\"blank level0\" ></th>        <th class=\"col_heading level0 col0\" >Model</th>        <th class=\"col_heading level0 col1\" >Accuracy</th>        <th class=\"col_heading level0 col2\" >AUC</th>        <th class=\"col_heading level0 col3\" >Recall</th>        <th class=\"col_heading level0 col4\" >Prec.</th>        <th class=\"col_heading level0 col5\" >F1</th>        <th class=\"col_heading level0 col6\" >Kappa</th>        <th class=\"col_heading level0 col7\" >MCC</th>        <th class=\"col_heading level0 col8\" >TT (Sec)</th>    </tr></thead><tbody>\n",
       "                <tr>\n",
       "                        <th id=\"T_45dbc_level0_row0\" class=\"row_heading level0 row0\" >lightgbm</th>\n",
       "                        <td id=\"T_45dbc_row0_col0\" class=\"data row0 col0\" >Light Gradient Boosting Machine</td>\n",
       "                        <td id=\"T_45dbc_row0_col1\" class=\"data row0 col1\" >0.7199</td>\n",
       "                        <td id=\"T_45dbc_row0_col2\" class=\"data row0 col2\" >0.7655</td>\n",
       "                        <td id=\"T_45dbc_row0_col3\" class=\"data row0 col3\" >0.5733</td>\n",
       "                        <td id=\"T_45dbc_row0_col4\" class=\"data row0 col4\" >0.6702</td>\n",
       "                        <td id=\"T_45dbc_row0_col5\" class=\"data row0 col5\" >0.6176</td>\n",
       "                        <td id=\"T_45dbc_row0_col6\" class=\"data row0 col6\" >0.3989</td>\n",
       "                        <td id=\"T_45dbc_row0_col7\" class=\"data row0 col7\" >0.4021</td>\n",
       "                        <td id=\"T_45dbc_row0_col8\" class=\"data row0 col8\" >0.5580</td>\n",
       "            </tr>\n",
       "            <tr>\n",
       "                        <th id=\"T_45dbc_level0_row1\" class=\"row_heading level0 row1\" >gbc</th>\n",
       "                        <td id=\"T_45dbc_row1_col0\" class=\"data row1 col0\" >Gradient Boosting Classifier</td>\n",
       "                        <td id=\"T_45dbc_row1_col1\" class=\"data row1 col1\" >0.7153</td>\n",
       "                        <td id=\"T_45dbc_row1_col2\" class=\"data row1 col2\" >0.7644</td>\n",
       "                        <td id=\"T_45dbc_row1_col3\" class=\"data row1 col3\" >0.5818</td>\n",
       "                        <td id=\"T_45dbc_row1_col4\" class=\"data row1 col4\" >0.6579</td>\n",
       "                        <td id=\"T_45dbc_row1_col5\" class=\"data row1 col5\" >0.6171</td>\n",
       "                        <td id=\"T_45dbc_row1_col6\" class=\"data row1 col6\" >0.3919</td>\n",
       "                        <td id=\"T_45dbc_row1_col7\" class=\"data row1 col7\" >0.3941</td>\n",
       "                        <td id=\"T_45dbc_row1_col8\" class=\"data row1 col8\" >0.0950</td>\n",
       "            </tr>\n",
       "            <tr>\n",
       "                        <th id=\"T_45dbc_level0_row2\" class=\"row_heading level0 row2\" >xgboost</th>\n",
       "                        <td id=\"T_45dbc_row2_col0\" class=\"data row2 col0\" >Extreme Gradient Boosting</td>\n",
       "                        <td id=\"T_45dbc_row2_col1\" class=\"data row2 col1\" >0.7131</td>\n",
       "                        <td id=\"T_45dbc_row2_col2\" class=\"data row2 col2\" >0.7592</td>\n",
       "                        <td id=\"T_45dbc_row2_col3\" class=\"data row2 col3\" >0.5690</td>\n",
       "                        <td id=\"T_45dbc_row2_col4\" class=\"data row2 col4\" >0.6583</td>\n",
       "                        <td id=\"T_45dbc_row2_col5\" class=\"data row2 col5\" >0.6100</td>\n",
       "                        <td id=\"T_45dbc_row2_col6\" class=\"data row2 col6\" >0.3851</td>\n",
       "                        <td id=\"T_45dbc_row2_col7\" class=\"data row2 col7\" >0.3879</td>\n",
       "                        <td id=\"T_45dbc_row2_col8\" class=\"data row2 col8\" >0.3330</td>\n",
       "            </tr>\n",
       "            <tr>\n",
       "                        <th id=\"T_45dbc_level0_row3\" class=\"row_heading level0 row3\" >ada</th>\n",
       "                        <td id=\"T_45dbc_row3_col0\" class=\"data row3 col0\" >Ada Boost Classifier</td>\n",
       "                        <td id=\"T_45dbc_row3_col1\" class=\"data row3 col1\" >0.7047</td>\n",
       "                        <td id=\"T_45dbc_row3_col2\" class=\"data row3 col2\" >0.7487</td>\n",
       "                        <td id=\"T_45dbc_row3_col3\" class=\"data row3 col3\" >0.5723</td>\n",
       "                        <td id=\"T_45dbc_row3_col4\" class=\"data row3 col4\" >0.6415</td>\n",
       "                        <td id=\"T_45dbc_row3_col5\" class=\"data row3 col5\" >0.6048</td>\n",
       "                        <td id=\"T_45dbc_row3_col6\" class=\"data row3 col6\" >0.3703</td>\n",
       "                        <td id=\"T_45dbc_row3_col7\" class=\"data row3 col7\" >0.3720</td>\n",
       "                        <td id=\"T_45dbc_row3_col8\" class=\"data row3 col8\" >0.0390</td>\n",
       "            </tr>\n",
       "            <tr>\n",
       "                        <th id=\"T_45dbc_level0_row4\" class=\"row_heading level0 row4\" >rf</th>\n",
       "                        <td id=\"T_45dbc_row4_col0\" class=\"data row4 col0\" >Random Forest Classifier</td>\n",
       "                        <td id=\"T_45dbc_row4_col1\" class=\"data row4 col1\" >0.6898</td>\n",
       "                        <td id=\"T_45dbc_row4_col2\" class=\"data row4 col2\" >0.7381</td>\n",
       "                        <td id=\"T_45dbc_row4_col3\" class=\"data row4 col3\" >0.5595</td>\n",
       "                        <td id=\"T_45dbc_row4_col4\" class=\"data row4 col4\" >0.6187</td>\n",
       "                        <td id=\"T_45dbc_row4_col5\" class=\"data row4 col5\" >0.5873</td>\n",
       "                        <td id=\"T_45dbc_row4_col6\" class=\"data row4 col6\" >0.3399</td>\n",
       "                        <td id=\"T_45dbc_row4_col7\" class=\"data row4 col7\" >0.3412</td>\n",
       "                        <td id=\"T_45dbc_row4_col8\" class=\"data row4 col8\" >0.2030</td>\n",
       "            </tr>\n",
       "            <tr>\n",
       "                        <th id=\"T_45dbc_level0_row5\" class=\"row_heading level0 row5\" >knn</th>\n",
       "                        <td id=\"T_45dbc_row5_col0\" class=\"data row5 col0\" >K Neighbors Classifier</td>\n",
       "                        <td id=\"T_45dbc_row5_col1\" class=\"data row5 col1\" >0.6667</td>\n",
       "                        <td id=\"T_45dbc_row5_col2\" class=\"data row5 col2\" >0.6862</td>\n",
       "                        <td id=\"T_45dbc_row5_col3\" class=\"data row5 col3\" >0.5441</td>\n",
       "                        <td id=\"T_45dbc_row5_col4\" class=\"data row5 col4\" >0.5844</td>\n",
       "                        <td id=\"T_45dbc_row5_col5\" class=\"data row5 col5\" >0.5633</td>\n",
       "                        <td id=\"T_45dbc_row5_col6\" class=\"data row5 col6\" >0.2943</td>\n",
       "                        <td id=\"T_45dbc_row5_col7\" class=\"data row5 col7\" >0.2950</td>\n",
       "                        <td id=\"T_45dbc_row5_col8\" class=\"data row5 col8\" >0.0330</td>\n",
       "            </tr>\n",
       "            <tr>\n",
       "                        <th id=\"T_45dbc_level0_row6\" class=\"row_heading level0 row6\" >et</th>\n",
       "                        <td id=\"T_45dbc_row6_col0\" class=\"data row6 col0\" >Extra Trees Classifier</td>\n",
       "                        <td id=\"T_45dbc_row6_col1\" class=\"data row6 col1\" >0.6641</td>\n",
       "                        <td id=\"T_45dbc_row6_col2\" class=\"data row6 col2\" >0.7039</td>\n",
       "                        <td id=\"T_45dbc_row6_col3\" class=\"data row6 col3\" >0.5461</td>\n",
       "                        <td id=\"T_45dbc_row6_col4\" class=\"data row6 col4\" >0.5798</td>\n",
       "                        <td id=\"T_45dbc_row6_col5\" class=\"data row6 col5\" >0.5622</td>\n",
       "                        <td id=\"T_45dbc_row6_col6\" class=\"data row6 col6\" >0.2902</td>\n",
       "                        <td id=\"T_45dbc_row6_col7\" class=\"data row6 col7\" >0.2907</td>\n",
       "                        <td id=\"T_45dbc_row6_col8\" class=\"data row6 col8\" >0.1820</td>\n",
       "            </tr>\n",
       "            <tr>\n",
       "                        <th id=\"T_45dbc_level0_row7\" class=\"row_heading level0 row7\" >lr</th>\n",
       "                        <td id=\"T_45dbc_row7_col0\" class=\"data row7 col0\" >Logistic Regression</td>\n",
       "                        <td id=\"T_45dbc_row7_col1\" class=\"data row7 col1\" >0.6461</td>\n",
       "                        <td id=\"T_45dbc_row7_col2\" class=\"data row7 col2\" >0.6645</td>\n",
       "                        <td id=\"T_45dbc_row7_col3\" class=\"data row7 col3\" >0.3637</td>\n",
       "                        <td id=\"T_45dbc_row7_col4\" class=\"data row7 col4\" >0.5830</td>\n",
       "                        <td id=\"T_45dbc_row7_col5\" class=\"data row7 col5\" >0.4476</td>\n",
       "                        <td id=\"T_45dbc_row7_col6\" class=\"data row7 col6\" >0.2075</td>\n",
       "                        <td id=\"T_45dbc_row7_col7\" class=\"data row7 col7\" >0.2201</td>\n",
       "                        <td id=\"T_45dbc_row7_col8\" class=\"data row7 col8\" >0.1280</td>\n",
       "            </tr>\n",
       "            <tr>\n",
       "                        <th id=\"T_45dbc_level0_row8\" class=\"row_heading level0 row8\" >ridge</th>\n",
       "                        <td id=\"T_45dbc_row8_col0\" class=\"data row8 col0\" >Ridge Classifier</td>\n",
       "                        <td id=\"T_45dbc_row8_col1\" class=\"data row8 col1\" >0.6384</td>\n",
       "                        <td id=\"T_45dbc_row8_col2\" class=\"data row8 col2\" >0.0000</td>\n",
       "                        <td id=\"T_45dbc_row8_col3\" class=\"data row8 col3\" >0.3591</td>\n",
       "                        <td id=\"T_45dbc_row8_col4\" class=\"data row8 col4\" >0.5664</td>\n",
       "                        <td id=\"T_45dbc_row8_col5\" class=\"data row8 col5\" >0.4393</td>\n",
       "                        <td id=\"T_45dbc_row8_col6\" class=\"data row8 col6\" >0.1919</td>\n",
       "                        <td id=\"T_45dbc_row8_col7\" class=\"data row8 col7\" >0.2028</td>\n",
       "                        <td id=\"T_45dbc_row8_col8\" class=\"data row8 col8\" >0.0060</td>\n",
       "            </tr>\n",
       "            <tr>\n",
       "                        <th id=\"T_45dbc_level0_row9\" class=\"row_heading level0 row9\" >nb</th>\n",
       "                        <td id=\"T_45dbc_row9_col0\" class=\"data row9 col0\" >Naive Bayes</td>\n",
       "                        <td id=\"T_45dbc_row9_col1\" class=\"data row9 col1\" >0.6367</td>\n",
       "                        <td id=\"T_45dbc_row9_col2\" class=\"data row9 col2\" >0.6590</td>\n",
       "                        <td id=\"T_45dbc_row9_col3\" class=\"data row9 col3\" >0.3771</td>\n",
       "                        <td id=\"T_45dbc_row9_col4\" class=\"data row9 col4\" >0.5595</td>\n",
       "                        <td id=\"T_45dbc_row9_col5\" class=\"data row9 col5\" >0.4462</td>\n",
       "                        <td id=\"T_45dbc_row9_col6\" class=\"data row9 col6\" >0.1935</td>\n",
       "                        <td id=\"T_45dbc_row9_col7\" class=\"data row9 col7\" >0.2027</td>\n",
       "                        <td id=\"T_45dbc_row9_col8\" class=\"data row9 col8\" >0.0070</td>\n",
       "            </tr>\n",
       "            <tr>\n",
       "                        <th id=\"T_45dbc_level0_row10\" class=\"row_heading level0 row10\" >dt</th>\n",
       "                        <td id=\"T_45dbc_row10_col0\" class=\"data row10 col0\" >Decision Tree Classifier</td>\n",
       "                        <td id=\"T_45dbc_row10_col1\" class=\"data row10 col1\" >0.6253</td>\n",
       "                        <td id=\"T_45dbc_row10_col2\" class=\"data row10 col2\" >0.6120</td>\n",
       "                        <td id=\"T_45dbc_row10_col3\" class=\"data row10 col3\" >0.5492</td>\n",
       "                        <td id=\"T_45dbc_row10_col4\" class=\"data row10 col4\" >0.5242</td>\n",
       "                        <td id=\"T_45dbc_row10_col5\" class=\"data row10 col5\" >0.5363</td>\n",
       "                        <td id=\"T_45dbc_row10_col6\" class=\"data row10 col6\" >0.2222</td>\n",
       "                        <td id=\"T_45dbc_row10_col7\" class=\"data row10 col7\" >0.2225</td>\n",
       "                        <td id=\"T_45dbc_row10_col8\" class=\"data row10 col8\" >0.0090</td>\n",
       "            </tr>\n",
       "            <tr>\n",
       "                        <th id=\"T_45dbc_level0_row11\" class=\"row_heading level0 row11\" >svm</th>\n",
       "                        <td id=\"T_45dbc_row11_col0\" class=\"data row11 col0\" >SVM - Linear Kernel</td>\n",
       "                        <td id=\"T_45dbc_row11_col1\" class=\"data row11 col1\" >0.4966</td>\n",
       "                        <td id=\"T_45dbc_row11_col2\" class=\"data row11 col2\" >0.0000</td>\n",
       "                        <td id=\"T_45dbc_row11_col3\" class=\"data row11 col3\" >0.5682</td>\n",
       "                        <td id=\"T_45dbc_row11_col4\" class=\"data row11 col4\" >0.4018</td>\n",
       "                        <td id=\"T_45dbc_row11_col5\" class=\"data row11 col5\" >0.4511</td>\n",
       "                        <td id=\"T_45dbc_row11_col6\" class=\"data row11 col6\" >0.0147</td>\n",
       "                        <td id=\"T_45dbc_row11_col7\" class=\"data row11 col7\" >0.0262</td>\n",
       "                        <td id=\"T_45dbc_row11_col8\" class=\"data row11 col8\" >0.0080</td>\n",
       "            </tr>\n",
       "    </tbody></table>"
      ],
      "text/plain": [
       "<pandas.io.formats.style.Styler at 0x7fdfc9e07510>"
      ]
     },
     "metadata": {},
     "output_type": "display_data"
    },
    {
     "name": "stderr",
     "output_type": "stream",
     "text": [
      "/opt/miniconda3/envs/stellar/lib/python3.7/site-packages/sklearn/linear_model/_ridge.py:148: LinAlgWarning: Ill-conditioned matrix (rcond=1.54418e-10): result may not be accurate.\n",
      "  overwrite_a=True).T\n"
     ]
    },
    {
     "name": "stdout",
     "output_type": "stream",
     "text": [
      "[iter 0] loss=0.6709 val_loss=0.0000 scale=2.0000 norm=4.0000\n",
      "[iter 100] loss=0.5751 val_loss=0.0000 scale=2.0000 norm=3.8179\n",
      "[iter 200] loss=0.5618 val_loss=0.0000 scale=2.0000 norm=3.8566\n",
      "[iter 300] loss=0.5583 val_loss=0.0000 scale=2.0000 norm=3.8670\n",
      "[iter 400] loss=0.5560 val_loss=0.0000 scale=2.0000 norm=3.8705\n"
     ]
    },
    {
     "name": "stderr",
     "output_type": "stream",
     "text": [
      "/opt/miniconda3/envs/stellar/lib/python3.7/site-packages/sklearn/utils/deprecation.py:101: FutureWarning: Attribute standard_coef_ was deprecated in version 0.23 and will be removed in 0.25.\n",
      "  warnings.warn(msg, category=FutureWarning)\n",
      "/opt/miniconda3/envs/stellar/lib/python3.7/site-packages/sklearn/utils/deprecation.py:101: FutureWarning: Attribute standard_intercept_ was deprecated in version 0.23 and will be removed in 0.25.\n",
      "  warnings.warn(msg, category=FutureWarning)\n",
      "/opt/miniconda3/envs/stellar/lib/python3.7/site-packages/sklearn/utils/deprecation.py:101: FutureWarning: Attribute average_coef_ was deprecated in version 0.23 and will be removed in 0.25.\n",
      "  warnings.warn(msg, category=FutureWarning)\n",
      "/opt/miniconda3/envs/stellar/lib/python3.7/site-packages/sklearn/utils/deprecation.py:101: FutureWarning: Attribute average_intercept_ was deprecated in version 0.23 and will be removed in 0.25.\n",
      "  warnings.warn(msg, category=FutureWarning)\n",
      "/opt/miniconda3/envs/stellar/lib/python3.7/site-packages/xgboost/sklearn.py:1146: UserWarning: The use of label encoder in XGBClassifier is deprecated and will be removed in a future release. To remove this warning, do the following: 1) Pass option use_label_encoder=False when constructing XGBClassifier object; and 2) Encode your labels (y) as integers starting with 0, i.e. 0, 1, 2, ..., [num_class - 1].\n",
      "  warnings.warn(label_encoder_deprecation_msg, UserWarning)\n"
     ]
    },
    {
     "name": "stdout",
     "output_type": "stream",
     "text": [
      "[iter 0] loss=0.6709 val_loss=0.0000 scale=2.0000 norm=4.0000\n",
      "[iter 100] loss=0.5746 val_loss=0.0000 scale=2.0000 norm=3.8146\n",
      "[iter 200] loss=0.5631 val_loss=0.0000 scale=2.0000 norm=3.8571\n",
      "[iter 300] loss=0.5582 val_loss=0.0000 scale=2.0000 norm=3.8609\n",
      "[iter 400] loss=0.5560 val_loss=0.0000 scale=1.0000 norm=1.9325\n"
     ]
    },
    {
     "name": "stderr",
     "output_type": "stream",
     "text": [
      "/opt/miniconda3/envs/stellar/lib/python3.7/site-packages/sklearn/utils/deprecation.py:101: FutureWarning: Attribute standard_coef_ was deprecated in version 0.23 and will be removed in 0.25.\n",
      "  warnings.warn(msg, category=FutureWarning)\n",
      "/opt/miniconda3/envs/stellar/lib/python3.7/site-packages/sklearn/utils/deprecation.py:101: FutureWarning: Attribute standard_intercept_ was deprecated in version 0.23 and will be removed in 0.25.\n",
      "  warnings.warn(msg, category=FutureWarning)\n",
      "/opt/miniconda3/envs/stellar/lib/python3.7/site-packages/sklearn/utils/deprecation.py:101: FutureWarning: Attribute average_coef_ was deprecated in version 0.23 and will be removed in 0.25.\n",
      "  warnings.warn(msg, category=FutureWarning)\n",
      "/opt/miniconda3/envs/stellar/lib/python3.7/site-packages/sklearn/utils/deprecation.py:101: FutureWarning: Attribute average_intercept_ was deprecated in version 0.23 and will be removed in 0.25.\n",
      "  warnings.warn(msg, category=FutureWarning)\n",
      "/opt/miniconda3/envs/stellar/lib/python3.7/site-packages/sklearn/utils/deprecation.py:101: FutureWarning: Attribute standard_coef_ was deprecated in version 0.23 and will be removed in 0.25.\n",
      "  warnings.warn(msg, category=FutureWarning)\n",
      "/opt/miniconda3/envs/stellar/lib/python3.7/site-packages/sklearn/utils/deprecation.py:101: FutureWarning: Attribute standard_intercept_ was deprecated in version 0.23 and will be removed in 0.25.\n",
      "  warnings.warn(msg, category=FutureWarning)\n",
      "/opt/miniconda3/envs/stellar/lib/python3.7/site-packages/sklearn/utils/deprecation.py:101: FutureWarning: Attribute average_coef_ was deprecated in version 0.23 and will be removed in 0.25.\n",
      "  warnings.warn(msg, category=FutureWarning)\n",
      "/opt/miniconda3/envs/stellar/lib/python3.7/site-packages/sklearn/utils/deprecation.py:101: FutureWarning: Attribute average_intercept_ was deprecated in version 0.23 and will be removed in 0.25.\n",
      "  warnings.warn(msg, category=FutureWarning)\n",
      "/opt/miniconda3/envs/stellar/lib/python3.7/site-packages/sklearn/linear_model/_ridge.py:148: LinAlgWarning: Ill-conditioned matrix (rcond=1.57345e-10): result may not be accurate.\n",
      "  overwrite_a=True).T\n",
      "/opt/miniconda3/envs/stellar/lib/python3.7/site-packages/sklearn/linear_model/_ridge.py:148: LinAlgWarning: Ill-conditioned matrix (rcond=1.47017e-10): result may not be accurate.\n",
      "  overwrite_a=True).T\n",
      "/opt/miniconda3/envs/stellar/lib/python3.7/site-packages/xgboost/sklearn.py:1146: UserWarning: The use of label encoder in XGBClassifier is deprecated and will be removed in a future release. To remove this warning, do the following: 1) Pass option use_label_encoder=False when constructing XGBClassifier object; and 2) Encode your labels (y) as integers starting with 0, i.e. 0, 1, 2, ..., [num_class - 1].\n",
      "  warnings.warn(label_encoder_deprecation_msg, UserWarning)\n",
      "/opt/miniconda3/envs/stellar/lib/python3.7/site-packages/sklearn/utils/deprecation.py:101: FutureWarning: Attribute standard_coef_ was deprecated in version 0.23 and will be removed in 0.25.\n",
      "  warnings.warn(msg, category=FutureWarning)\n",
      "/opt/miniconda3/envs/stellar/lib/python3.7/site-packages/sklearn/utils/deprecation.py:101: FutureWarning: Attribute standard_intercept_ was deprecated in version 0.23 and will be removed in 0.25.\n",
      "  warnings.warn(msg, category=FutureWarning)\n",
      "/opt/miniconda3/envs/stellar/lib/python3.7/site-packages/sklearn/utils/deprecation.py:101: FutureWarning: Attribute average_coef_ was deprecated in version 0.23 and will be removed in 0.25.\n",
      "  warnings.warn(msg, category=FutureWarning)\n",
      "/opt/miniconda3/envs/stellar/lib/python3.7/site-packages/sklearn/utils/deprecation.py:101: FutureWarning: Attribute average_intercept_ was deprecated in version 0.23 and will be removed in 0.25.\n",
      "  warnings.warn(msg, category=FutureWarning)\n",
      "/opt/miniconda3/envs/stellar/lib/python3.7/site-packages/xgboost/sklearn.py:1146: UserWarning: The use of label encoder in XGBClassifier is deprecated and will be removed in a future release. To remove this warning, do the following: 1) Pass option use_label_encoder=False when constructing XGBClassifier object; and 2) Encode your labels (y) as integers starting with 0, i.e. 0, 1, 2, ..., [num_class - 1].\n",
      "  warnings.warn(label_encoder_deprecation_msg, UserWarning)\n"
     ]
    },
    {
     "name": "stdout",
     "output_type": "stream",
     "text": [
      "[iter 0] loss=0.6709 val_loss=0.0000 scale=2.0000 norm=4.0000\n",
      "[iter 100] loss=0.5769 val_loss=0.0000 scale=2.0000 norm=3.8157\n",
      "[iter 200] loss=0.5640 val_loss=0.0000 scale=2.0000 norm=3.8556\n",
      "[iter 300] loss=0.5601 val_loss=0.0000 scale=2.0000 norm=3.8599\n",
      "[iter 400] loss=0.5586 val_loss=0.0000 scale=1.0000 norm=1.9318\n"
     ]
    },
    {
     "name": "stderr",
     "output_type": "stream",
     "text": [
      "/opt/miniconda3/envs/stellar/lib/python3.7/site-packages/sklearn/utils/deprecation.py:101: FutureWarning: Attribute standard_coef_ was deprecated in version 0.23 and will be removed in 0.25.\n",
      "  warnings.warn(msg, category=FutureWarning)\n",
      "/opt/miniconda3/envs/stellar/lib/python3.7/site-packages/sklearn/utils/deprecation.py:101: FutureWarning: Attribute standard_intercept_ was deprecated in version 0.23 and will be removed in 0.25.\n",
      "  warnings.warn(msg, category=FutureWarning)\n",
      "/opt/miniconda3/envs/stellar/lib/python3.7/site-packages/sklearn/utils/deprecation.py:101: FutureWarning: Attribute average_coef_ was deprecated in version 0.23 and will be removed in 0.25.\n",
      "  warnings.warn(msg, category=FutureWarning)\n",
      "/opt/miniconda3/envs/stellar/lib/python3.7/site-packages/sklearn/utils/deprecation.py:101: FutureWarning: Attribute average_intercept_ was deprecated in version 0.23 and will be removed in 0.25.\n",
      "  warnings.warn(msg, category=FutureWarning)\n",
      "/opt/miniconda3/envs/stellar/lib/python3.7/site-packages/sklearn/linear_model/_ridge.py:148: LinAlgWarning: Ill-conditioned matrix (rcond=1.52015e-10): result may not be accurate.\n",
      "  overwrite_a=True).T\n",
      "/opt/miniconda3/envs/stellar/lib/python3.7/site-packages/sklearn/linear_model/_ridge.py:148: LinAlgWarning: Ill-conditioned matrix (rcond=1.54405e-10): result may not be accurate.\n",
      "  overwrite_a=True).T\n",
      "/opt/miniconda3/envs/stellar/lib/python3.7/site-packages/xgboost/sklearn.py:1146: UserWarning: The use of label encoder in XGBClassifier is deprecated and will be removed in a future release. To remove this warning, do the following: 1) Pass option use_label_encoder=False when constructing XGBClassifier object; and 2) Encode your labels (y) as integers starting with 0, i.e. 0, 1, 2, ..., [num_class - 1].\n",
      "  warnings.warn(label_encoder_deprecation_msg, UserWarning)\n"
     ]
    },
    {
     "name": "stdout",
     "output_type": "stream",
     "text": [
      "[iter 0] loss=0.6709 val_loss=0.0000 scale=2.0000 norm=4.0000\n",
      "[iter 100] loss=0.5779 val_loss=0.0000 scale=2.0000 norm=3.8184\n",
      "[iter 200] loss=0.5652 val_loss=0.0000 scale=1.0000 norm=1.9277\n",
      "[iter 300] loss=0.5603 val_loss=0.0000 scale=1.0000 norm=1.9320\n",
      "[iter 400] loss=0.5577 val_loss=0.0000 scale=1.0000 norm=1.9352\n",
      "[iter 0] loss=0.6709 val_loss=0.0000 scale=2.0000 norm=4.0000\n",
      "[iter 100] loss=0.5756 val_loss=0.0000 scale=2.0000 norm=3.8189\n",
      "[iter 200] loss=0.5621 val_loss=0.0000 scale=2.0000 norm=3.8572\n",
      "[iter 300] loss=0.5578 val_loss=0.0000 scale=2.0000 norm=3.8654\n",
      "[iter 400] loss=0.5554 val_loss=0.0000 scale=1.0000 norm=1.9332\n"
     ]
    },
    {
     "name": "stderr",
     "output_type": "stream",
     "text": [
      "/opt/miniconda3/envs/stellar/lib/python3.7/site-packages/sklearn/utils/deprecation.py:101: FutureWarning: Attribute standard_coef_ was deprecated in version 0.23 and will be removed in 0.25.\n",
      "  warnings.warn(msg, category=FutureWarning)\n",
      "/opt/miniconda3/envs/stellar/lib/python3.7/site-packages/sklearn/utils/deprecation.py:101: FutureWarning: Attribute standard_intercept_ was deprecated in version 0.23 and will be removed in 0.25.\n",
      "  warnings.warn(msg, category=FutureWarning)\n",
      "/opt/miniconda3/envs/stellar/lib/python3.7/site-packages/sklearn/utils/deprecation.py:101: FutureWarning: Attribute average_coef_ was deprecated in version 0.23 and will be removed in 0.25.\n",
      "  warnings.warn(msg, category=FutureWarning)\n",
      "/opt/miniconda3/envs/stellar/lib/python3.7/site-packages/sklearn/utils/deprecation.py:101: FutureWarning: Attribute average_intercept_ was deprecated in version 0.23 and will be removed in 0.25.\n",
      "  warnings.warn(msg, category=FutureWarning)\n",
      "/opt/miniconda3/envs/stellar/lib/python3.7/site-packages/sklearn/linear_model/_ridge.py:148: LinAlgWarning: Ill-conditioned matrix (rcond=1.52909e-10): result may not be accurate.\n",
      "  overwrite_a=True).T\n",
      "/opt/miniconda3/envs/stellar/lib/python3.7/site-packages/sklearn/linear_model/_ridge.py:148: LinAlgWarning: Ill-conditioned matrix (rcond=1.54049e-10): result may not be accurate.\n",
      "  overwrite_a=True).T\n",
      "/opt/miniconda3/envs/stellar/lib/python3.7/site-packages/xgboost/sklearn.py:1146: UserWarning: The use of label encoder in XGBClassifier is deprecated and will be removed in a future release. To remove this warning, do the following: 1) Pass option use_label_encoder=False when constructing XGBClassifier object; and 2) Encode your labels (y) as integers starting with 0, i.e. 0, 1, 2, ..., [num_class - 1].\n",
      "  warnings.warn(label_encoder_deprecation_msg, UserWarning)\n"
     ]
    },
    {
     "name": "stdout",
     "output_type": "stream",
     "text": [
      "[iter 0] loss=0.6709 val_loss=0.0000 scale=2.0000 norm=4.0000\n",
      "[iter 100] loss=0.5750 val_loss=0.0000 scale=2.0000 norm=3.8165\n",
      "[iter 200] loss=0.5632 val_loss=0.0000 scale=2.0000 norm=3.8599\n",
      "[iter 300] loss=0.5597 val_loss=0.0000 scale=2.0000 norm=3.8673\n",
      "[iter 400] loss=0.5578 val_loss=0.0000 scale=2.0000 norm=3.8709\n"
     ]
    },
    {
     "name": "stderr",
     "output_type": "stream",
     "text": [
      "/opt/miniconda3/envs/stellar/lib/python3.7/site-packages/xgboost/sklearn.py:1146: UserWarning: The use of label encoder in XGBClassifier is deprecated and will be removed in a future release. To remove this warning, do the following: 1) Pass option use_label_encoder=False when constructing XGBClassifier object; and 2) Encode your labels (y) as integers starting with 0, i.e. 0, 1, 2, ..., [num_class - 1].\n",
      "  warnings.warn(label_encoder_deprecation_msg, UserWarning)\n"
     ]
    },
    {
     "name": "stdout",
     "output_type": "stream",
     "text": [
      "[iter 0] loss=0.6709 val_loss=0.0000 scale=2.0000 norm=4.0000\n",
      "[iter 100] loss=0.5757 val_loss=0.0000 scale=2.0000 norm=3.8203\n",
      "[iter 200] loss=0.5639 val_loss=0.0000 scale=1.0000 norm=1.9302\n",
      "[iter 300] loss=0.5603 val_loss=0.0000 scale=2.0000 norm=3.8664\n",
      "[iter 400] loss=0.5580 val_loss=0.0000 scale=1.0000 norm=1.9347\n"
     ]
    },
    {
     "name": "stderr",
     "output_type": "stream",
     "text": [
      "/opt/miniconda3/envs/stellar/lib/python3.7/site-packages/sklearn/linear_model/_ridge.py:148: LinAlgWarning: Ill-conditioned matrix (rcond=1.57275e-10): result may not be accurate.\n",
      "  overwrite_a=True).T\n",
      "/opt/miniconda3/envs/stellar/lib/python3.7/site-packages/sklearn/linear_model/_ridge.py:148: LinAlgWarning: Ill-conditioned matrix (rcond=1.95879e-10): result may not be accurate.\n",
      "  overwrite_a=True).T\n",
      "/opt/miniconda3/envs/stellar/lib/python3.7/site-packages/xgboost/sklearn.py:1146: UserWarning: The use of label encoder in XGBClassifier is deprecated and will be removed in a future release. To remove this warning, do the following: 1) Pass option use_label_encoder=False when constructing XGBClassifier object; and 2) Encode your labels (y) as integers starting with 0, i.e. 0, 1, 2, ..., [num_class - 1].\n",
      "  warnings.warn(label_encoder_deprecation_msg, UserWarning)\n"
     ]
    },
    {
     "name": "stdout",
     "output_type": "stream",
     "text": [
      "[iter 0] loss=0.6709 val_loss=0.0000 scale=2.0000 norm=4.0000\n",
      "[iter 100] loss=0.5767 val_loss=0.0000 scale=2.0000 norm=3.8206\n",
      "[iter 200] loss=0.5633 val_loss=0.0000 scale=2.0000 norm=3.8592\n",
      "[iter 300] loss=0.5575 val_loss=0.0000 scale=1.0000 norm=1.9315\n",
      "[iter 400] loss=0.5552 val_loss=0.0000 scale=2.0000 norm=3.8655\n"
     ]
    },
    {
     "name": "stderr",
     "output_type": "stream",
     "text": [
      "/opt/miniconda3/envs/stellar/lib/python3.7/site-packages/sklearn/utils/deprecation.py:101: FutureWarning: Attribute standard_coef_ was deprecated in version 0.23 and will be removed in 0.25.\n",
      "  warnings.warn(msg, category=FutureWarning)\n",
      "/opt/miniconda3/envs/stellar/lib/python3.7/site-packages/sklearn/utils/deprecation.py:101: FutureWarning: Attribute standard_intercept_ was deprecated in version 0.23 and will be removed in 0.25.\n",
      "  warnings.warn(msg, category=FutureWarning)\n",
      "/opt/miniconda3/envs/stellar/lib/python3.7/site-packages/sklearn/utils/deprecation.py:101: FutureWarning: Attribute average_coef_ was deprecated in version 0.23 and will be removed in 0.25.\n",
      "  warnings.warn(msg, category=FutureWarning)\n",
      "/opt/miniconda3/envs/stellar/lib/python3.7/site-packages/sklearn/utils/deprecation.py:101: FutureWarning: Attribute average_intercept_ was deprecated in version 0.23 and will be removed in 0.25.\n",
      "  warnings.warn(msg, category=FutureWarning)\n",
      "/opt/miniconda3/envs/stellar/lib/python3.7/site-packages/sklearn/metrics/_classification.py:846: RuntimeWarning: invalid value encountered in double_scalars\n",
      "  mcc = cov_ytyp / np.sqrt(cov_ytyt * cov_ypyp)\n",
      "/opt/miniconda3/envs/stellar/lib/python3.7/site-packages/xgboost/sklearn.py:1146: UserWarning: The use of label encoder in XGBClassifier is deprecated and will be removed in a future release. To remove this warning, do the following: 1) Pass option use_label_encoder=False when constructing XGBClassifier object; and 2) Encode your labels (y) as integers starting with 0, i.e. 0, 1, 2, ..., [num_class - 1].\n",
      "  warnings.warn(label_encoder_deprecation_msg, UserWarning)\n",
      "/opt/miniconda3/envs/stellar/lib/python3.7/site-packages/sklearn/utils/deprecation.py:101: FutureWarning: Attribute standard_coef_ was deprecated in version 0.23 and will be removed in 0.25.\n",
      "  warnings.warn(msg, category=FutureWarning)\n",
      "/opt/miniconda3/envs/stellar/lib/python3.7/site-packages/sklearn/utils/deprecation.py:101: FutureWarning: Attribute standard_intercept_ was deprecated in version 0.23 and will be removed in 0.25.\n",
      "  warnings.warn(msg, category=FutureWarning)\n",
      "/opt/miniconda3/envs/stellar/lib/python3.7/site-packages/sklearn/utils/deprecation.py:101: FutureWarning: Attribute average_coef_ was deprecated in version 0.23 and will be removed in 0.25.\n",
      "  warnings.warn(msg, category=FutureWarning)\n",
      "/opt/miniconda3/envs/stellar/lib/python3.7/site-packages/sklearn/utils/deprecation.py:101: FutureWarning: Attribute average_intercept_ was deprecated in version 0.23 and will be removed in 0.25.\n",
      "  warnings.warn(msg, category=FutureWarning)\n",
      "/opt/miniconda3/envs/stellar/lib/python3.7/site-packages/sklearn/linear_model/_ridge.py:148: LinAlgWarning: Ill-conditioned matrix (rcond=1.69473e-10): result may not be accurate.\n",
      "  overwrite_a=True).T\n",
      "/opt/miniconda3/envs/stellar/lib/python3.7/site-packages/xgboost/sklearn.py:1146: UserWarning: The use of label encoder in XGBClassifier is deprecated and will be removed in a future release. To remove this warning, do the following: 1) Pass option use_label_encoder=False when constructing XGBClassifier object; and 2) Encode your labels (y) as integers starting with 0, i.e. 0, 1, 2, ..., [num_class - 1].\n",
      "  warnings.warn(label_encoder_deprecation_msg, UserWarning)\n"
     ]
    },
    {
     "name": "stdout",
     "output_type": "stream",
     "text": [
      "[iter 0] loss=0.6709 val_loss=0.0000 scale=2.0000 norm=4.0000\n",
      "[iter 100] loss=0.5766 val_loss=0.0000 scale=2.0000 norm=3.8142\n",
      "[iter 200] loss=0.5643 val_loss=0.0000 scale=2.0000 norm=3.8545\n",
      "[iter 300] loss=0.5601 val_loss=0.0000 scale=1.0000 norm=1.9302\n",
      "[iter 400] loss=0.5574 val_loss=0.0000 scale=1.0000 norm=1.9322\n"
     ]
    },
    {
     "name": "stderr",
     "output_type": "stream",
     "text": [
      "/opt/miniconda3/envs/stellar/lib/python3.7/site-packages/sklearn/utils/deprecation.py:101: FutureWarning: Attribute standard_coef_ was deprecated in version 0.23 and will be removed in 0.25.\n",
      "  warnings.warn(msg, category=FutureWarning)\n",
      "/opt/miniconda3/envs/stellar/lib/python3.7/site-packages/sklearn/utils/deprecation.py:101: FutureWarning: Attribute standard_intercept_ was deprecated in version 0.23 and will be removed in 0.25.\n",
      "  warnings.warn(msg, category=FutureWarning)\n",
      "/opt/miniconda3/envs/stellar/lib/python3.7/site-packages/sklearn/utils/deprecation.py:101: FutureWarning: Attribute average_coef_ was deprecated in version 0.23 and will be removed in 0.25.\n",
      "  warnings.warn(msg, category=FutureWarning)\n",
      "/opt/miniconda3/envs/stellar/lib/python3.7/site-packages/sklearn/utils/deprecation.py:101: FutureWarning: Attribute average_intercept_ was deprecated in version 0.23 and will be removed in 0.25.\n",
      "  warnings.warn(msg, category=FutureWarning)\n",
      "/opt/miniconda3/envs/stellar/lib/python3.7/site-packages/sklearn/utils/deprecation.py:101: FutureWarning: Attribute standard_coef_ was deprecated in version 0.23 and will be removed in 0.25.\n",
      "  warnings.warn(msg, category=FutureWarning)\n",
      "/opt/miniconda3/envs/stellar/lib/python3.7/site-packages/sklearn/utils/deprecation.py:101: FutureWarning: Attribute standard_intercept_ was deprecated in version 0.23 and will be removed in 0.25.\n",
      "  warnings.warn(msg, category=FutureWarning)\n",
      "/opt/miniconda3/envs/stellar/lib/python3.7/site-packages/sklearn/utils/deprecation.py:101: FutureWarning: Attribute average_coef_ was deprecated in version 0.23 and will be removed in 0.25.\n",
      "  warnings.warn(msg, category=FutureWarning)\n",
      "/opt/miniconda3/envs/stellar/lib/python3.7/site-packages/sklearn/utils/deprecation.py:101: FutureWarning: Attribute average_intercept_ was deprecated in version 0.23 and will be removed in 0.25.\n",
      "  warnings.warn(msg, category=FutureWarning)\n",
      "/opt/miniconda3/envs/stellar/lib/python3.7/site-packages/xgboost/sklearn.py:1146: UserWarning: The use of label encoder in XGBClassifier is deprecated and will be removed in a future release. To remove this warning, do the following: 1) Pass option use_label_encoder=False when constructing XGBClassifier object; and 2) Encode your labels (y) as integers starting with 0, i.e. 0, 1, 2, ..., [num_class - 1].\n",
      "  warnings.warn(label_encoder_deprecation_msg, UserWarning)\n"
     ]
    },
    {
     "name": "stdout",
     "output_type": "stream",
     "text": [
      "[iter 0] loss=0.6709 val_loss=0.0000 scale=2.0000 norm=4.0000\n",
      "[iter 100] loss=0.5780 val_loss=0.0000 scale=2.0000 norm=3.8212\n",
      "[iter 200] loss=0.5660 val_loss=0.0000 scale=2.0000 norm=3.8612\n",
      "[iter 300] loss=0.5614 val_loss=0.0000 scale=2.0000 norm=3.8666\n",
      "[iter 400] loss=0.5599 val_loss=0.0000 scale=1.0000 norm=1.9350\n"
     ]
    }
   ],
   "source": [
    "# adding an extra classifier ngboost\n",
    "ngc = NGBClassifier()\n",
    "ngboost = create_model(ngc)\n",
    "\n",
    "model_matrix = compare_models(\n",
    "    fold=10,\n",
    "    exclude=[\"lda\",\"qda\"]\n",
    ")"
   ]
  },
  {
   "cell_type": "markdown",
   "id": "2cd3cab6-1ea4-46fc-a572-d368f75cd6c4",
   "metadata": {},
   "source": [
    "### Now that we have the best performing model, we can finalize it:"
   ]
  },
  {
   "cell_type": "code",
   "execution_count": 18,
   "id": "d9f030ed-4b6a-4a87-a01e-129dc49e0d4a",
   "metadata": {},
   "outputs": [
    {
     "data": {
      "text/html": [
       "<style  type=\"text/css\" >\n",
       "#T_d32f3_row10_col0,#T_d32f3_row10_col1,#T_d32f3_row10_col2,#T_d32f3_row10_col3,#T_d32f3_row10_col4,#T_d32f3_row10_col5,#T_d32f3_row10_col6{\n",
       "            background:  yellow;\n",
       "        }</style><table id=\"T_d32f3_\" ><thead>    <tr>        <th class=\"blank level0\" ></th>        <th class=\"col_heading level0 col0\" >Accuracy</th>        <th class=\"col_heading level0 col1\" >AUC</th>        <th class=\"col_heading level0 col2\" >Recall</th>        <th class=\"col_heading level0 col3\" >Prec.</th>        <th class=\"col_heading level0 col4\" >F1</th>        <th class=\"col_heading level0 col5\" >Kappa</th>        <th class=\"col_heading level0 col6\" >MCC</th>    </tr></thead><tbody>\n",
       "                <tr>\n",
       "                        <th id=\"T_d32f3_level0_row0\" class=\"row_heading level0 row0\" >0</th>\n",
       "                        <td id=\"T_d32f3_row0_col0\" class=\"data row0 col0\" >0.7272</td>\n",
       "                        <td id=\"T_d32f3_row0_col1\" class=\"data row0 col1\" >0.7700</td>\n",
       "                        <td id=\"T_d32f3_row0_col2\" class=\"data row0 col2\" >0.5527</td>\n",
       "                        <td id=\"T_d32f3_row0_col3\" class=\"data row0 col3\" >0.6935</td>\n",
       "                        <td id=\"T_d32f3_row0_col4\" class=\"data row0 col4\" >0.6152</td>\n",
       "                        <td id=\"T_d32f3_row0_col5\" class=\"data row0 col5\" >0.4080</td>\n",
       "                        <td id=\"T_d32f3_row0_col6\" class=\"data row0 col6\" >0.4143</td>\n",
       "            </tr>\n",
       "            <tr>\n",
       "                        <th id=\"T_d32f3_level0_row1\" class=\"row_heading level0 row1\" >1</th>\n",
       "                        <td id=\"T_d32f3_row1_col0\" class=\"data row1 col0\" >0.7201</td>\n",
       "                        <td id=\"T_d32f3_row1_col1\" class=\"data row1 col1\" >0.7716</td>\n",
       "                        <td id=\"T_d32f3_row1_col2\" class=\"data row1 col2\" >0.5656</td>\n",
       "                        <td id=\"T_d32f3_row1_col3\" class=\"data row1 col3\" >0.6728</td>\n",
       "                        <td id=\"T_d32f3_row1_col4\" class=\"data row1 col4\" >0.6145</td>\n",
       "                        <td id=\"T_d32f3_row1_col5\" class=\"data row1 col5\" >0.3974</td>\n",
       "                        <td id=\"T_d32f3_row1_col6\" class=\"data row1 col6\" >0.4010</td>\n",
       "            </tr>\n",
       "            <tr>\n",
       "                        <th id=\"T_d32f3_level0_row2\" class=\"row_heading level0 row2\" >2</th>\n",
       "                        <td id=\"T_d32f3_row2_col0\" class=\"data row2 col0\" >0.7211</td>\n",
       "                        <td id=\"T_d32f3_row2_col1\" class=\"data row2 col1\" >0.7701</td>\n",
       "                        <td id=\"T_d32f3_row2_col2\" class=\"data row2 col2\" >0.6118</td>\n",
       "                        <td id=\"T_d32f3_row2_col3\" class=\"data row2 col3\" >0.6575</td>\n",
       "                        <td id=\"T_d32f3_row2_col4\" class=\"data row2 col4\" >0.6338</td>\n",
       "                        <td id=\"T_d32f3_row2_col5\" class=\"data row2 col5\" >0.4091</td>\n",
       "                        <td id=\"T_d32f3_row2_col6\" class=\"data row2 col6\" >0.4098</td>\n",
       "            </tr>\n",
       "            <tr>\n",
       "                        <th id=\"T_d32f3_level0_row3\" class=\"row_heading level0 row3\" >3</th>\n",
       "                        <td id=\"T_d32f3_row3_col0\" class=\"data row3 col0\" >0.7272</td>\n",
       "                        <td id=\"T_d32f3_row3_col1\" class=\"data row3 col1\" >0.7791</td>\n",
       "                        <td id=\"T_d32f3_row3_col2\" class=\"data row3 col2\" >0.5656</td>\n",
       "                        <td id=\"T_d32f3_row3_col3\" class=\"data row3 col3\" >0.6875</td>\n",
       "                        <td id=\"T_d32f3_row3_col4\" class=\"data row3 col4\" >0.6206</td>\n",
       "                        <td id=\"T_d32f3_row3_col5\" class=\"data row3 col5\" >0.4107</td>\n",
       "                        <td id=\"T_d32f3_row3_col6\" class=\"data row3 col6\" >0.4155</td>\n",
       "            </tr>\n",
       "            <tr>\n",
       "                        <th id=\"T_d32f3_level0_row4\" class=\"row_heading level0 row4\" >4</th>\n",
       "                        <td id=\"T_d32f3_row4_col0\" class=\"data row4 col0\" >0.7069</td>\n",
       "                        <td id=\"T_d32f3_row4_col1\" class=\"data row4 col1\" >0.7466</td>\n",
       "                        <td id=\"T_d32f3_row4_col2\" class=\"data row4 col2\" >0.5630</td>\n",
       "                        <td id=\"T_d32f3_row4_col3\" class=\"data row4 col3\" >0.6479</td>\n",
       "                        <td id=\"T_d32f3_row4_col4\" class=\"data row4 col4\" >0.6025</td>\n",
       "                        <td id=\"T_d32f3_row4_col5\" class=\"data row4 col5\" >0.3722</td>\n",
       "                        <td id=\"T_d32f3_row4_col6\" class=\"data row4 col6\" >0.3745</td>\n",
       "            </tr>\n",
       "            <tr>\n",
       "                        <th id=\"T_d32f3_level0_row5\" class=\"row_heading level0 row5\" >5</th>\n",
       "                        <td id=\"T_d32f3_row5_col0\" class=\"data row5 col0\" >0.7241</td>\n",
       "                        <td id=\"T_d32f3_row5_col1\" class=\"data row5 col1\" >0.7633</td>\n",
       "                        <td id=\"T_d32f3_row5_col2\" class=\"data row5 col2\" >0.5718</td>\n",
       "                        <td id=\"T_d32f3_row5_col3\" class=\"data row5 col3\" >0.6799</td>\n",
       "                        <td id=\"T_d32f3_row5_col4\" class=\"data row5 col4\" >0.6212</td>\n",
       "                        <td id=\"T_d32f3_row5_col5\" class=\"data row5 col5\" >0.4068</td>\n",
       "                        <td id=\"T_d32f3_row5_col6\" class=\"data row5 col6\" >0.4106</td>\n",
       "            </tr>\n",
       "            <tr>\n",
       "                        <th id=\"T_d32f3_level0_row6\" class=\"row_heading level0 row6\" >6</th>\n",
       "                        <td id=\"T_d32f3_row6_col0\" class=\"data row6 col0\" >0.7241</td>\n",
       "                        <td id=\"T_d32f3_row6_col1\" class=\"data row6 col1\" >0.7781</td>\n",
       "                        <td id=\"T_d32f3_row6_col2\" class=\"data row6 col2\" >0.5872</td>\n",
       "                        <td id=\"T_d32f3_row6_col3\" class=\"data row6 col3\" >0.6735</td>\n",
       "                        <td id=\"T_d32f3_row6_col4\" class=\"data row6 col4\" >0.6274</td>\n",
       "                        <td id=\"T_d32f3_row6_col5\" class=\"data row6 col5\" >0.4100</td>\n",
       "                        <td id=\"T_d32f3_row6_col6\" class=\"data row6 col6\" >0.4125</td>\n",
       "            </tr>\n",
       "            <tr>\n",
       "                        <th id=\"T_d32f3_level0_row7\" class=\"row_heading level0 row7\" >7</th>\n",
       "                        <td id=\"T_d32f3_row7_col0\" class=\"data row7 col0\" >0.7252</td>\n",
       "                        <td id=\"T_d32f3_row7_col1\" class=\"data row7 col1\" >0.7708</td>\n",
       "                        <td id=\"T_d32f3_row7_col2\" class=\"data row7 col2\" >0.6026</td>\n",
       "                        <td id=\"T_d32f3_row7_col3\" class=\"data row7 col3\" >0.6695</td>\n",
       "                        <td id=\"T_d32f3_row7_col4\" class=\"data row7 col4\" >0.6343</td>\n",
       "                        <td id=\"T_d32f3_row7_col5\" class=\"data row7 col5\" >0.4151</td>\n",
       "                        <td id=\"T_d32f3_row7_col6\" class=\"data row7 col6\" >0.4166</td>\n",
       "            </tr>\n",
       "            <tr>\n",
       "                        <th id=\"T_d32f3_level0_row8\" class=\"row_heading level0 row8\" >8</th>\n",
       "                        <td id=\"T_d32f3_row8_col0\" class=\"data row8 col0\" >0.7178</td>\n",
       "                        <td id=\"T_d32f3_row8_col1\" class=\"data row8 col1\" >0.7568</td>\n",
       "                        <td id=\"T_d32f3_row8_col2\" class=\"data row8 col2\" >0.5887</td>\n",
       "                        <td id=\"T_d32f3_row8_col3\" class=\"data row8 col3\" >0.6599</td>\n",
       "                        <td id=\"T_d32f3_row8_col4\" class=\"data row8 col4\" >0.6223</td>\n",
       "                        <td id=\"T_d32f3_row8_col5\" class=\"data row8 col5\" >0.3982</td>\n",
       "                        <td id=\"T_d32f3_row8_col6\" class=\"data row8 col6\" >0.3998</td>\n",
       "            </tr>\n",
       "            <tr>\n",
       "                        <th id=\"T_d32f3_level0_row9\" class=\"row_heading level0 row9\" >9</th>\n",
       "                        <td id=\"T_d32f3_row9_col0\" class=\"data row9 col0\" >0.7056</td>\n",
       "                        <td id=\"T_d32f3_row9_col1\" class=\"data row9 col1\" >0.7489</td>\n",
       "                        <td id=\"T_d32f3_row9_col2\" class=\"data row9 col2\" >0.5244</td>\n",
       "                        <td id=\"T_d32f3_row9_col3\" class=\"data row9 col3\" >0.6602</td>\n",
       "                        <td id=\"T_d32f3_row9_col4\" class=\"data row9 col4\" >0.5845</td>\n",
       "                        <td id=\"T_d32f3_row9_col5\" class=\"data row9 col5\" >0.3611</td>\n",
       "                        <td id=\"T_d32f3_row9_col6\" class=\"data row9 col6\" >0.3669</td>\n",
       "            </tr>\n",
       "            <tr>\n",
       "                        <th id=\"T_d32f3_level0_row10\" class=\"row_heading level0 row10\" >Mean</th>\n",
       "                        <td id=\"T_d32f3_row10_col0\" class=\"data row10 col0\" >0.7199</td>\n",
       "                        <td id=\"T_d32f3_row10_col1\" class=\"data row10 col1\" >0.7655</td>\n",
       "                        <td id=\"T_d32f3_row10_col2\" class=\"data row10 col2\" >0.5733</td>\n",
       "                        <td id=\"T_d32f3_row10_col3\" class=\"data row10 col3\" >0.6702</td>\n",
       "                        <td id=\"T_d32f3_row10_col4\" class=\"data row10 col4\" >0.6176</td>\n",
       "                        <td id=\"T_d32f3_row10_col5\" class=\"data row10 col5\" >0.3989</td>\n",
       "                        <td id=\"T_d32f3_row10_col6\" class=\"data row10 col6\" >0.4021</td>\n",
       "            </tr>\n",
       "            <tr>\n",
       "                        <th id=\"T_d32f3_level0_row11\" class=\"row_heading level0 row11\" >SD</th>\n",
       "                        <td id=\"T_d32f3_row11_col0\" class=\"data row11 col0\" >0.0074</td>\n",
       "                        <td id=\"T_d32f3_row11_col1\" class=\"data row11 col1\" >0.0108</td>\n",
       "                        <td id=\"T_d32f3_row11_col2\" class=\"data row11 col2\" >0.0241</td>\n",
       "                        <td id=\"T_d32f3_row11_col3\" class=\"data row11 col3\" >0.0135</td>\n",
       "                        <td id=\"T_d32f3_row11_col4\" class=\"data row11 col4\" >0.0142</td>\n",
       "                        <td id=\"T_d32f3_row11_col5\" class=\"data row11 col5\" >0.0171</td>\n",
       "                        <td id=\"T_d32f3_row11_col6\" class=\"data row11 col6\" >0.0167</td>\n",
       "            </tr>\n",
       "    </tbody></table>"
      ],
      "text/plain": [
       "<pandas.io.formats.style.Styler at 0x7fdfc9e14810>"
      ]
     },
     "metadata": {},
     "output_type": "display_data"
    }
   ],
   "source": [
    "best_model = create_model(model_matrix)\n",
    "final_model = finalize_model(best_model)"
   ]
  },
  {
   "cell_type": "markdown",
   "id": "3aab9021-4462-423a-8e3c-fbe1f36c6110",
   "metadata": {},
   "source": [
    "### Let's load in our 2021 season data and get retention scores using the model:"
   ]
  },
  {
   "cell_type": "code",
   "execution_count": 19,
   "id": "c249a813-c882-4869-9490-6ab766a8c223",
   "metadata": {},
   "outputs": [
    {
     "data": {
      "text/plain": [
       "(2460, 54)"
      ]
     },
     "execution_count": 19,
     "metadata": {},
     "output_type": "execute_result"
    }
   ],
   "source": [
    "df_inference = df.loc[df[\"year\"] >= 2021]\n",
    "df_inference = df_inference.fillna(0)\n",
    "df_inference.shape"
   ]
  },
  {
   "cell_type": "code",
   "execution_count": 20,
   "id": "745b62fb-fb2e-4b4a-9c48-8ce4de472a83",
   "metadata": {},
   "outputs": [
    {
     "data": {
      "text/html": [
       "<div>\n",
       "<style scoped>\n",
       "    .dataframe tbody tr th:only-of-type {\n",
       "        vertical-align: middle;\n",
       "    }\n",
       "\n",
       "    .dataframe tbody tr th {\n",
       "        vertical-align: top;\n",
       "    }\n",
       "\n",
       "    .dataframe thead th {\n",
       "        text-align: right;\n",
       "    }\n",
       "</style>\n",
       "<table border=\"1\" class=\"dataframe\">\n",
       "  <thead>\n",
       "    <tr style=\"text-align: right;\">\n",
       "      <th></th>\n",
       "      <th>lkupClientId</th>\n",
       "      <th>dimCustomerMasterId</th>\n",
       "      <th>customerNumber</th>\n",
       "      <th>year</th>\n",
       "      <th>productGrouping</th>\n",
       "      <th>totalSpent</th>\n",
       "      <th>recentDate</th>\n",
       "      <th>attendancePercent</th>\n",
       "      <th>renewedBeforeDays</th>\n",
       "      <th>isBuyer</th>\n",
       "      <th>...</th>\n",
       "      <th>education</th>\n",
       "      <th>urbanicity</th>\n",
       "      <th>credits_after_refund</th>\n",
       "      <th>is_Lockdown</th>\n",
       "      <th>NumberofGamesPerSeason</th>\n",
       "      <th>CNTPostponedGames</th>\n",
       "      <th>isNextYear_Buyer</th>\n",
       "      <th>Label</th>\n",
       "      <th>Score_0</th>\n",
       "      <th>Score_1</th>\n",
       "    </tr>\n",
       "  </thead>\n",
       "  <tbody>\n",
       "    <tr>\n",
       "      <th>14981</th>\n",
       "      <td>55</td>\n",
       "      <td>1270</td>\n",
       "      <td>10875294</td>\n",
       "      <td>2021</td>\n",
       "      <td>Partial Season</td>\n",
       "      <td>2292.00</td>\n",
       "      <td>2022-01-17</td>\n",
       "      <td>1.000000</td>\n",
       "      <td>92</td>\n",
       "      <td>TRUE</td>\n",
       "      <td>...</td>\n",
       "      <td>0</td>\n",
       "      <td>0</td>\n",
       "      <td>0.0</td>\n",
       "      <td>1</td>\n",
       "      <td>52</td>\n",
       "      <td>0</td>\n",
       "      <td>0</td>\n",
       "      <td>1</td>\n",
       "      <td>0.4710</td>\n",
       "      <td>0.5290</td>\n",
       "    </tr>\n",
       "    <tr>\n",
       "      <th>14982</th>\n",
       "      <td>55</td>\n",
       "      <td>1985</td>\n",
       "      <td>9526418</td>\n",
       "      <td>2021</td>\n",
       "      <td>Half Season</td>\n",
       "      <td>378.75</td>\n",
       "      <td>2022-01-29</td>\n",
       "      <td>0.928571</td>\n",
       "      <td>74</td>\n",
       "      <td>TRUE</td>\n",
       "      <td>...</td>\n",
       "      <td>0</td>\n",
       "      <td>0</td>\n",
       "      <td>0.0</td>\n",
       "      <td>1</td>\n",
       "      <td>52</td>\n",
       "      <td>0</td>\n",
       "      <td>0</td>\n",
       "      <td>0</td>\n",
       "      <td>0.7058</td>\n",
       "      <td>0.2942</td>\n",
       "    </tr>\n",
       "    <tr>\n",
       "      <th>14983</th>\n",
       "      <td>55</td>\n",
       "      <td>2294</td>\n",
       "      <td>15384148</td>\n",
       "      <td>2021</td>\n",
       "      <td>Half Season</td>\n",
       "      <td>1110.90</td>\n",
       "      <td>2022-01-29</td>\n",
       "      <td>0.666667</td>\n",
       "      <td>8</td>\n",
       "      <td>TRUE</td>\n",
       "      <td>...</td>\n",
       "      <td>0</td>\n",
       "      <td>0</td>\n",
       "      <td>0.0</td>\n",
       "      <td>1</td>\n",
       "      <td>52</td>\n",
       "      <td>0</td>\n",
       "      <td>0</td>\n",
       "      <td>0</td>\n",
       "      <td>0.9375</td>\n",
       "      <td>0.0625</td>\n",
       "    </tr>\n",
       "    <tr>\n",
       "      <th>14984</th>\n",
       "      <td>55</td>\n",
       "      <td>5252</td>\n",
       "      <td>15766087</td>\n",
       "      <td>2021</td>\n",
       "      <td>Partial Season</td>\n",
       "      <td>1243.00</td>\n",
       "      <td>2022-01-29</td>\n",
       "      <td>0.583333</td>\n",
       "      <td>55</td>\n",
       "      <td>TRUE</td>\n",
       "      <td>...</td>\n",
       "      <td>0</td>\n",
       "      <td>0</td>\n",
       "      <td>0.0</td>\n",
       "      <td>1</td>\n",
       "      <td>52</td>\n",
       "      <td>0</td>\n",
       "      <td>0</td>\n",
       "      <td>0</td>\n",
       "      <td>0.9453</td>\n",
       "      <td>0.0547</td>\n",
       "    </tr>\n",
       "    <tr>\n",
       "      <th>14985</th>\n",
       "      <td>55</td>\n",
       "      <td>7137</td>\n",
       "      <td>427849</td>\n",
       "      <td>2021</td>\n",
       "      <td>Half Season</td>\n",
       "      <td>7286.25</td>\n",
       "      <td>2022-01-29</td>\n",
       "      <td>0.880952</td>\n",
       "      <td>74</td>\n",
       "      <td>TRUE</td>\n",
       "      <td>...</td>\n",
       "      <td>0</td>\n",
       "      <td>0</td>\n",
       "      <td>11302.0</td>\n",
       "      <td>1</td>\n",
       "      <td>52</td>\n",
       "      <td>0</td>\n",
       "      <td>0</td>\n",
       "      <td>1</td>\n",
       "      <td>0.3865</td>\n",
       "      <td>0.6135</td>\n",
       "    </tr>\n",
       "  </tbody>\n",
       "</table>\n",
       "<p>5 rows × 57 columns</p>\n",
       "</div>"
      ],
      "text/plain": [
       "       lkupClientId  dimCustomerMasterId customerNumber  year productGrouping  \\\n",
       "14981            55                 1270       10875294  2021  Partial Season   \n",
       "14982            55                 1985        9526418  2021     Half Season   \n",
       "14983            55                 2294       15384148  2021     Half Season   \n",
       "14984            55                 5252       15766087  2021  Partial Season   \n",
       "14985            55                 7137         427849  2021     Half Season   \n",
       "\n",
       "       totalSpent  recentDate  attendancePercent  renewedBeforeDays isBuyer  \\\n",
       "14981     2292.00  2022-01-17           1.000000                 92    TRUE   \n",
       "14982      378.75  2022-01-29           0.928571                 74    TRUE   \n",
       "14983     1110.90  2022-01-29           0.666667                  8    TRUE   \n",
       "14984     1243.00  2022-01-29           0.583333                 55    TRUE   \n",
       "14985     7286.25  2022-01-29           0.880952                 74    TRUE   \n",
       "\n",
       "       ...  education  urbanicity  credits_after_refund  is_Lockdown  \\\n",
       "14981  ...          0           0                   0.0            1   \n",
       "14982  ...          0           0                   0.0            1   \n",
       "14983  ...          0           0                   0.0            1   \n",
       "14984  ...          0           0                   0.0            1   \n",
       "14985  ...          0           0               11302.0            1   \n",
       "\n",
       "       NumberofGamesPerSeason  CNTPostponedGames  isNextYear_Buyer  Label  \\\n",
       "14981                      52                  0                 0      1   \n",
       "14982                      52                  0                 0      0   \n",
       "14983                      52                  0                 0      0   \n",
       "14984                      52                  0                 0      0   \n",
       "14985                      52                  0                 0      1   \n",
       "\n",
       "       Score_0  Score_1  \n",
       "14981   0.4710   0.5290  \n",
       "14982   0.7058   0.2942  \n",
       "14983   0.9375   0.0625  \n",
       "14984   0.9453   0.0547  \n",
       "14985   0.3865   0.6135  \n",
       "\n",
       "[5 rows x 57 columns]"
      ]
     },
     "execution_count": 20,
     "metadata": {},
     "output_type": "execute_result"
    }
   ],
   "source": [
    "new_predictions = predict_model(final_model, data=df_inference, raw_score=True)\n",
    "new_predictions.head()"
   ]
  },
  {
   "cell_type": "code",
   "execution_count": 21,
   "id": "7253ba2d-b37b-4fda-aa3c-0b61a67b3fab",
   "metadata": {},
   "outputs": [
    {
     "data": {
      "text/plain": [
       "0    1634\n",
       "1     826\n",
       "Name: Label, dtype: int64"
      ]
     },
     "execution_count": 21,
     "metadata": {},
     "output_type": "execute_result"
    }
   ],
   "source": [
    "new_predictions['Label'].value_counts()"
   ]
  },
  {
   "cell_type": "markdown",
   "id": "2add324c-f0bb-4fd2-bde1-2bee98d5b8c0",
   "metadata": {},
   "source": [
    "### We can plot the scores using a histogram to see the score distribution for buyers:"
   ]
  },
  {
   "cell_type": "code",
   "execution_count": 22,
   "id": "95e96920-bc9c-4b50-837c-89e392d13449",
   "metadata": {},
   "outputs": [
    {
     "data": {
      "text/plain": [
       "array([[<AxesSubplot:title={'center':'Score_1'}>]], dtype=object)"
      ]
     },
     "execution_count": 22,
     "metadata": {},
     "output_type": "execute_result"
    },
    {
     "data": {
      "image/png": "[encoded data removed]",
      "text/plain": [
       "<Figure size 720x360 with 1 Axes>"
      ]
     },
     "metadata": {
      "needs_background": "light"
     },
     "output_type": "display_data"
    }
   ],
   "source": [
    "new_predictions = new_predictions.loc[new_predictions[\"productGrouping\"] == \"Full Season\"]\n",
    "new_predictions[new_predictions[\"Label\"]==1][[\"Score_1\"]].hist(bins=30, figsize=(10,5), range=[0,1])"
   ]
  },
  {
   "cell_type": "markdown",
   "id": "0f491238-04c7-46ad-af0c-141a0fdedf72",
   "metadata": {},
   "source": [
    "### Let's plot the feature importances to see what features in the model are most predictive:"
   ]
  },
  {
   "cell_type": "code",
   "execution_count": 23,
   "id": "144bd27b-9798-4f8b-a3a3-95298d8e2c01",
   "metadata": {},
   "outputs": [
    {
     "data": {
      "image/png": "[encoded data removed]",
      "text/plain": [
       "<Figure size 800x500 with 1 Axes>"
      ]
     },
     "metadata": {},
     "output_type": "display_data"
    }
   ],
   "source": [
    "plot_model(best_model, plot='feature')"
   ]
  },
  {
   "cell_type": "markdown",
   "id": "6e4ca6b2-6035-4ff9-baa2-a810f0739b17",
   "metadata": {},
   "source": [
    "### Using a confusion matrix can also help us understand where the model is predicting correctly and where it's missing:"
   ]
  },
  {
   "cell_type": "code",
   "execution_count": 24,
   "id": "ce6cb80d-9ee1-49e9-97f3-b9aa67ef4b76",
   "metadata": {},
   "outputs": [
    {
     "data": {
      "image/png": "[encoded data removed]",
      "text/plain": [
       "<Figure size 576x396 with 1 Axes>"
      ]
     },
     "metadata": {},
     "output_type": "display_data"
    }
   ],
   "source": [
    "plot_model(best_model, plot='confusion_matrix')"
   ]
  },
  {
   "cell_type": "markdown",
   "id": "553decfe-1e2a-45f4-a48a-c04ac6d0a26c",
   "metadata": {},
   "source": [
    "### Let's also visualize the AUC (area under the curve) to get a sense of how our model is performing:"
   ]
  },
  {
   "cell_type": "code",
   "execution_count": 25,
   "id": "d549c83b-79df-401c-b3a8-0a32510105f8",
   "metadata": {},
   "outputs": [
    {
     "data": {
      "image/png": "[encoded data removed]",
      "text/plain": [
       "<Figure size 576x396 with 1 Axes>"
      ]
     },
     "metadata": {},
     "output_type": "display_data"
    }
   ],
   "source": [
    "plot_model(best_model, plot=\"auc\")"
   ]
  },
  {
   "cell_type": "markdown",
   "id": "71f34d81-878f-489e-be42-921567784974",
   "metadata": {},
   "source": [
    "## Observations\n",
    "\n",
    "* The model predictions are ~ 75% accurate \n",
    "\n",
    "* The Full Season ticket buyers fall into a Normal Distribution, as is expected.\n",
    "\n",
    "* distToVenue is the third most important feature, with a variable importance ~ 75%\n",
    "\n",
    "* The model made 3x as many correct predictions vs. incorrect predictions"
   ]
  },
  {
   "cell_type": "markdown",
   "id": "998e2ae8-33b0-4783-8dde-5d442b68d39e",
   "metadata": {},
   "source": [
    "## Conclusions\n",
    "\n",
    "The distToVenue feature did prove to be a useful feature for model predictions. The next experiment will focus on altering the distToVenue feature to understand the impact (or non-impact) on model performance (i.e. does adding distance to the feature improve accuracy or have little to no impact)."
   ]
  }
 ],
 "metadata": {
  "kernelspec": {
   "display_name": "Python 3 (ipykernel)",
   "language": "python",
   "name": "python3"
  },
  "language_info": {
   "codemirror_mode": {
    "name": "ipython",
    "version": 3
   },
   "file_extension": ".py",
   "mimetype": "text/x-python",
   "name": "python",
   "nbconvert_exporter": "python",
   "pygments_lexer": "ipython3",
   "version": "3.7.10"
  }
 },
 "nbformat": 4,
 "nbformat_minor": 5
}
