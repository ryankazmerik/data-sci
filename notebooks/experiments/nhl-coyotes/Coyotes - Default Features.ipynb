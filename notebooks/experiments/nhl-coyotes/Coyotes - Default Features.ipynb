{
 "cells": [
  {
   "cell_type": "markdown",
   "id": "6ee08766-25fd-4da1-91b8-b0c3e74db588",
   "metadata": {},
   "source": [
    "# Arizona Coyotes - Default Retention Model\n",
    "* StelllarAlgo Data Science\n",
    "* Ryan Kazmerik & Nakisa Rad\n",
    "* Jan 14, 2022"
   ]
  },
  {
   "cell_type": "markdown",
   "id": "39108c8d-2e9f-4759-ade2-83071038dc56",
   "metadata": {},
   "source": [
    "## Hypothesis\n",
    "This notebook contains the data pre-processing, model training and evaluation of the Coyotes retention model with the default StellarAlgo features. We think that the distToVenue feature could be a significant indicator for Full Season ticket buyers."
   ]
  },
  {
   "cell_type": "markdown",
   "id": "28142011-1f32-4cc7-816b-a6dae6f70c8c",
   "metadata": {},
   "source": [
    "## Experiment\n",
    "This section details our experiment including querying data, data transformations, feature selection and modelling."
   ]
  },
  {
   "cell_type": "code",
   "execution_count": 32,
   "id": "4c533efd-600e-4bce-8203-faffbddfa700",
   "metadata": {},
   "outputs": [],
   "source": [
    "import getpass\n",
    "import pyodbc\n",
    "import pandas as pd\n",
    "import warnings\n",
    "import matplotlib.pyplot as plt\n",
    "\n",
    "from pycaret.classification import *\n",
    "from ngboost import NGBClassifier\n",
    "\n",
    "warnings.filterwarnings('ignore')\n",
    "warnings.simplefilter('ignore')"
   ]
  },
  {
   "cell_type": "markdown",
   "id": "b64ae7d5-84af-4915-bd13-1dd9d17098a3",
   "metadata": {},
   "source": [
    "### Let's connect to MSSQL and run a stored proc to get our dataset:"
   ]
  },
  {
   "cell_type": "code",
   "execution_count": 34,
   "id": "ae561eb4-f419-4d46-b5e0-12fac9b10db8",
   "metadata": {},
   "outputs": [
    {
     "name": "stdin",
     "output_type": "stream",
     "text": [
      "Enter your password ··················\n"
     ]
    }
   ],
   "source": [
    "# connect to SQL Server.\n",
    "SERVER = '34.206.73.189' \n",
    "DATABASE = 'datascience' \n",
    "USERNAME = 'dsAdminWrite' \n",
    "PASSWORD = getpass.getpass(prompt='Enter your password')\n",
    "CNXN = pyodbc.connect('DRIVER={ODBC Driver 17 for SQL Server};SERVER='+SERVER+';DATABASE='+DATABASE+';UID='+USERNAME+';PWD='+ PASSWORD)"
   ]
  },
  {
   "cell_type": "code",
   "execution_count": 35,
   "id": "af1afe7d-a35b-494b-88f3-980fb0e3da30",
   "metadata": {},
   "outputs": [
    {
     "data": {
      "text/plain": [
       "(17399, 55)"
      ]
     },
     "execution_count": 35,
     "metadata": {},
     "output_type": "execute_result"
    }
   ],
   "source": [
    "lkupclientid = 55 # coyotes\n",
    "cursor = CNXN.cursor()\n",
    "\n",
    "storedProc = (\n",
    "    f\"\"\"Exec [stlrCoyotes].[ds].[getRetentionScoringModelData] {lkupclientid}\"\"\"\n",
    ")\n",
    "\n",
    "df = pd.read_sql(storedProc, CNXN)\n",
    "\n",
    "# apply some data transformations\n",
    "df[\"year\"] = pd.to_numeric(df[\"year\"])\n",
    "\n",
    "CNXN.commit()\n",
    "cursor.close()\n",
    "\n",
    "df.shape"
   ]
  },
  {
   "cell_type": "markdown",
   "id": "ab40da92-72a7-49c1-9829-ed3805a39719",
   "metadata": {},
   "source": [
    "### Let's specify the default SA features for our model:"
   ]
  },
  {
   "cell_type": "code",
   "execution_count": 64,
   "id": "788f1273-8b7a-46bd-a099-1a471feeacc5",
   "metadata": {},
   "outputs": [
    {
     "name": "stdout",
     "output_type": "stream",
     "text": [
      "Data for Modeling: (11598, 9)\n",
      "Unseen Data For Predictions: (2047, 9)\n",
      "\n"
     ]
    }
   ],
   "source": [
    "# choose the features for the stellar base retention model\n",
    "features = [\n",
    "    \"dimCustomerMasterId\",\n",
    "    \"attendancePercent\",\n",
    "    \"distToVenue\",\n",
    "    \"isNextYear_Buyer\",\n",
    "    \"productGrouping\",\n",
    "    \"recency\",\n",
    "    \"source_tenure\",\n",
    "    \"totalSpent\",\n",
    "    \"year\"\n",
    "]\n",
    "\n",
    "# copy your main dataframe\n",
    "df_dataset = df\n",
    "\n",
    "# choose the features & train year & test year\n",
    "df_dataset = df_dataset[features]\n",
    "df_dataset = df_dataset.loc[df_dataset[\"year\"] <= 2019]\n",
    "\n",
    "df_train = df_dataset.sample(frac=0.85, random_state=786)\n",
    "df_eval = df_dataset.drop(df_train.index)\n",
    "\n",
    "df_train.reset_index(drop=True, inplace=True)\n",
    "df_eval.reset_index(drop=True, inplace=True)\n",
    "\n",
    "# print out the number of records for training and eval\n",
    "print('Data for Modeling: ' + str(df_train.shape))\n",
    "print('Unseen Data For Predictions: ' + str(df_eval.shape), end=\"\\n\\n\")"
   ]
  },
  {
   "cell_type": "markdown",
   "id": "4f2da06d-9015-49fd-89b3-956c2ebf66e9",
   "metadata": {},
   "source": [
    "### Now we can model the data using a binary classification prediction for the isnextyear_buyer field to see how likely a customer is to re-purchase."
   ]
  },
  {
   "cell_type": "code",
   "execution_count": 65,
   "id": "23a69cdc-b3ec-48c8-9ce5-29f617779389",
   "metadata": {},
   "outputs": [],
   "source": [
    "setup(\n",
    "    data= df_train, \n",
    "    target=\"isNextYear_Buyer\", \n",
    "    train_size = 0.85,\n",
    "    data_split_shuffle=True,\n",
    "    ignore_features=[\"dimCustomerMasterId\",\"productGrouping\",\"year\"],\n",
    "    silent=True,\n",
    "    verbose=False,\n",
    "    numeric_features=[\n",
    "        \"attendancePercent\",\n",
    "        \"distToVenue\",\n",
    "        \"recency\",\n",
    "        \"source_tenure\",\n",
    "        \"totalSpent\"\n",
    "    ]\n",
    ");"
   ]
  },
  {
   "cell_type": "markdown",
   "id": "6e1e33e8-ed5f-4e84-abb2-a2fc8370905c",
   "metadata": {},
   "source": [
    "### Let's compare all models to evaluate performance. The output prints a score grid that shows average Accuracy, AUC, Recall, Precision, F1 and Kappa accross the folds (10 by default) along with training time:"
   ]
  },
  {
   "cell_type": "code",
   "execution_count": 67,
   "id": "ef2db9d2-02c2-45c0-b6bb-5cad42c373ce",
   "metadata": {},
   "outputs": [
    {
     "data": {
      "text/html": [
       "<style  type=\"text/css\" >\n",
       "    #T_1506f_ th {\n",
       "          text-align: left;\n",
       "    }#T_1506f_row0_col0,#T_1506f_row0_col3,#T_1506f_row0_col5,#T_1506f_row1_col0,#T_1506f_row1_col1,#T_1506f_row1_col2,#T_1506f_row1_col4,#T_1506f_row1_col6,#T_1506f_row1_col7,#T_1506f_row2_col0,#T_1506f_row2_col1,#T_1506f_row2_col2,#T_1506f_row2_col3,#T_1506f_row2_col4,#T_1506f_row2_col5,#T_1506f_row2_col6,#T_1506f_row2_col7,#T_1506f_row3_col0,#T_1506f_row3_col1,#T_1506f_row3_col2,#T_1506f_row3_col3,#T_1506f_row3_col4,#T_1506f_row3_col5,#T_1506f_row3_col6,#T_1506f_row3_col7,#T_1506f_row4_col0,#T_1506f_row4_col1,#T_1506f_row4_col2,#T_1506f_row4_col3,#T_1506f_row4_col4,#T_1506f_row4_col5,#T_1506f_row4_col6,#T_1506f_row4_col7,#T_1506f_row5_col0,#T_1506f_row5_col1,#T_1506f_row5_col2,#T_1506f_row5_col3,#T_1506f_row5_col4,#T_1506f_row5_col5,#T_1506f_row5_col6,#T_1506f_row5_col7{\n",
       "            text-align:  left;\n",
       "            text-align:  left;\n",
       "        }#T_1506f_row0_col1,#T_1506f_row0_col2,#T_1506f_row0_col4,#T_1506f_row0_col6,#T_1506f_row0_col7,#T_1506f_row1_col3,#T_1506f_row1_col5{\n",
       "            text-align:  left;\n",
       "            text-align:  left;\n",
       "            background-color:  yellow;\n",
       "        }#T_1506f_row0_col8,#T_1506f_row1_col8,#T_1506f_row2_col8,#T_1506f_row3_col8,#T_1506f_row4_col8{\n",
       "            text-align:  left;\n",
       "            text-align:  left;\n",
       "            background-color:  lightgrey;\n",
       "        }#T_1506f_row5_col8{\n",
       "            text-align:  left;\n",
       "            text-align:  left;\n",
       "            background-color:  yellow;\n",
       "            background-color:  lightgrey;\n",
       "        }</style><table id=\"T_1506f_\" ><thead>    <tr>        <th class=\"blank level0\" ></th>        <th class=\"col_heading level0 col0\" >Model</th>        <th class=\"col_heading level0 col1\" >Accuracy</th>        <th class=\"col_heading level0 col2\" >AUC</th>        <th class=\"col_heading level0 col3\" >Recall</th>        <th class=\"col_heading level0 col4\" >Prec.</th>        <th class=\"col_heading level0 col5\" >F1</th>        <th class=\"col_heading level0 col6\" >Kappa</th>        <th class=\"col_heading level0 col7\" >MCC</th>        <th class=\"col_heading level0 col8\" >TT (Sec)</th>    </tr></thead><tbody>\n",
       "                <tr>\n",
       "                        <th id=\"T_1506f_level0_row0\" class=\"row_heading level0 row0\" >1</th>\n",
       "                        <td id=\"T_1506f_row0_col0\" class=\"data row0 col0\" >Light Gradient Boosting Machine</td>\n",
       "                        <td id=\"T_1506f_row0_col1\" class=\"data row0 col1\" >0.7159</td>\n",
       "                        <td id=\"T_1506f_row0_col2\" class=\"data row0 col2\" >0.7623</td>\n",
       "                        <td id=\"T_1506f_row0_col3\" class=\"data row0 col3\" >0.5612</td>\n",
       "                        <td id=\"T_1506f_row0_col4\" class=\"data row0 col4\" >0.6649</td>\n",
       "                        <td id=\"T_1506f_row0_col5\" class=\"data row0 col5\" >0.6085</td>\n",
       "                        <td id=\"T_1506f_row0_col6\" class=\"data row0 col6\" >0.3881</td>\n",
       "                        <td id=\"T_1506f_row0_col7\" class=\"data row0 col7\" >0.3916</td>\n",
       "                        <td id=\"T_1506f_row0_col8\" class=\"data row0 col8\" >0.5880</td>\n",
       "            </tr>\n",
       "            <tr>\n",
       "                        <th id=\"T_1506f_level0_row1\" class=\"row_heading level0 row1\" >0</th>\n",
       "                        <td id=\"T_1506f_row1_col0\" class=\"data row1 col0\" >Gradient Boosting Classifier</td>\n",
       "                        <td id=\"T_1506f_row1_col1\" class=\"data row1 col1\" >0.7118</td>\n",
       "                        <td id=\"T_1506f_row1_col2\" class=\"data row1 col2\" >0.7597</td>\n",
       "                        <td id=\"T_1506f_row1_col3\" class=\"data row1 col3\" >0.5692</td>\n",
       "                        <td id=\"T_1506f_row1_col4\" class=\"data row1 col4\" >0.6543</td>\n",
       "                        <td id=\"T_1506f_row1_col5\" class=\"data row1 col5\" >0.6086</td>\n",
       "                        <td id=\"T_1506f_row1_col6\" class=\"data row1 col6\" >0.3823</td>\n",
       "                        <td id=\"T_1506f_row1_col7\" class=\"data row1 col7\" >0.3848</td>\n",
       "                        <td id=\"T_1506f_row1_col8\" class=\"data row1 col8\" >0.0900</td>\n",
       "            </tr>\n",
       "            <tr>\n",
       "                        <th id=\"T_1506f_level0_row2\" class=\"row_heading level0 row2\" >5</th>\n",
       "                        <td id=\"T_1506f_row2_col0\" class=\"data row2 col0\" >Extreme Gradient Boosting</td>\n",
       "                        <td id=\"T_1506f_row2_col1\" class=\"data row2 col1\" >0.7119</td>\n",
       "                        <td id=\"T_1506f_row2_col2\" class=\"data row2 col2\" >0.7584</td>\n",
       "                        <td id=\"T_1506f_row2_col3\" class=\"data row2 col3\" >0.5597</td>\n",
       "                        <td id=\"T_1506f_row2_col4\" class=\"data row2 col4\" >0.6578</td>\n",
       "                        <td id=\"T_1506f_row2_col5\" class=\"data row2 col5\" >0.6046</td>\n",
       "                        <td id=\"T_1506f_row2_col6\" class=\"data row2 col6\" >0.3803</td>\n",
       "                        <td id=\"T_1506f_row2_col7\" class=\"data row2 col7\" >0.3835</td>\n",
       "                        <td id=\"T_1506f_row2_col8\" class=\"data row2 col8\" >0.3240</td>\n",
       "            </tr>\n",
       "            <tr>\n",
       "                        <th id=\"T_1506f_level0_row3\" class=\"row_heading level0 row3\" >3</th>\n",
       "                        <td id=\"T_1506f_row3_col0\" class=\"data row3 col0\" >NGBClassifier</td>\n",
       "                        <td id=\"T_1506f_row3_col1\" class=\"data row3 col1\" >0.7061</td>\n",
       "                        <td id=\"T_1506f_row3_col2\" class=\"data row3 col2\" >0.7521</td>\n",
       "                        <td id=\"T_1506f_row3_col3\" class=\"data row3 col3\" >0.5643</td>\n",
       "                        <td id=\"T_1506f_row3_col4\" class=\"data row3 col4\" >0.6451</td>\n",
       "                        <td id=\"T_1506f_row3_col5\" class=\"data row3 col5\" >0.6018</td>\n",
       "                        <td id=\"T_1506f_row3_col6\" class=\"data row3 col6\" >0.3706</td>\n",
       "                        <td id=\"T_1506f_row3_col7\" class=\"data row3 col7\" >0.3728</td>\n",
       "                        <td id=\"T_1506f_row3_col8\" class=\"data row3 col8\" >1.5670</td>\n",
       "            </tr>\n",
       "            <tr>\n",
       "                        <th id=\"T_1506f_level0_row4\" class=\"row_heading level0 row4\" >4</th>\n",
       "                        <td id=\"T_1506f_row4_col0\" class=\"data row4 col0\" >Random Forest Classifier</td>\n",
       "                        <td id=\"T_1506f_row4_col1\" class=\"data row4 col1\" >0.6900</td>\n",
       "                        <td id=\"T_1506f_row4_col2\" class=\"data row4 col2\" >0.7357</td>\n",
       "                        <td id=\"T_1506f_row4_col3\" class=\"data row4 col3\" >0.5491</td>\n",
       "                        <td id=\"T_1506f_row4_col4\" class=\"data row4 col4\" >0.6198</td>\n",
       "                        <td id=\"T_1506f_row4_col5\" class=\"data row4 col5\" >0.5822</td>\n",
       "                        <td id=\"T_1506f_row4_col6\" class=\"data row4 col6\" >0.3373</td>\n",
       "                        <td id=\"T_1506f_row4_col7\" class=\"data row4 col7\" >0.3389</td>\n",
       "                        <td id=\"T_1506f_row4_col8\" class=\"data row4 col8\" >0.2230</td>\n",
       "            </tr>\n",
       "            <tr>\n",
       "                        <th id=\"T_1506f_level0_row5\" class=\"row_heading level0 row5\" >2</th>\n",
       "                        <td id=\"T_1506f_row5_col0\" class=\"data row5 col0\" >Logistic Regression</td>\n",
       "                        <td id=\"T_1506f_row5_col1\" class=\"data row5 col1\" >0.6314</td>\n",
       "                        <td id=\"T_1506f_row5_col2\" class=\"data row5 col2\" >0.5950</td>\n",
       "                        <td id=\"T_1506f_row5_col3\" class=\"data row5 col3\" >0.2321</td>\n",
       "                        <td id=\"T_1506f_row5_col4\" class=\"data row5 col4\" >0.5729</td>\n",
       "                        <td id=\"T_1506f_row5_col5\" class=\"data row5 col5\" >0.3051</td>\n",
       "                        <td id=\"T_1506f_row5_col6\" class=\"data row5 col6\" >0.1335</td>\n",
       "                        <td id=\"T_1506f_row5_col7\" class=\"data row5 col7\" >0.1568</td>\n",
       "                        <td id=\"T_1506f_row5_col8\" class=\"data row5 col8\" >0.0120</td>\n",
       "            </tr>\n",
       "    </tbody></table>"
      ],
      "text/plain": [
       "<pandas.io.formats.style.Styler at 0x7ff00c539590>"
      ]
     },
     "metadata": {},
     "output_type": "display_data"
    }
   ],
   "source": [
    "# adding an extra classifier ngboost\n",
    "ngc = NGBClassifier()\n",
    "ngboost = create_model(ngc)\n",
    "\n",
    "model_matrix = compare_models(\n",
    "    fold=10,\n",
    "    include=[\"gbc\", \"lightgbm\", \"lr\", ngboost, \"rf\", \"xgboost\"],\n",
    "    sort=\"AUC\"\n",
    ")"
   ]
  },
  {
   "cell_type": "markdown",
   "id": "2cd3cab6-1ea4-46fc-a572-d368f75cd6c4",
   "metadata": {},
   "source": [
    "### Now that we have the best performing model, we can finalize it:"
   ]
  },
  {
   "cell_type": "code",
   "execution_count": 68,
   "id": "d9f030ed-4b6a-4a87-a01e-129dc49e0d4a",
   "metadata": {},
   "outputs": [
    {
     "data": {
      "text/html": [
       "<style  type=\"text/css\" >\n",
       "#T_96b84_row10_col0,#T_96b84_row10_col1,#T_96b84_row10_col2,#T_96b84_row10_col3,#T_96b84_row10_col4,#T_96b84_row10_col5,#T_96b84_row10_col6{\n",
       "            background:  yellow;\n",
       "        }</style><table id=\"T_96b84_\" ><thead>    <tr>        <th class=\"blank level0\" ></th>        <th class=\"col_heading level0 col0\" >Accuracy</th>        <th class=\"col_heading level0 col1\" >AUC</th>        <th class=\"col_heading level0 col2\" >Recall</th>        <th class=\"col_heading level0 col3\" >Prec.</th>        <th class=\"col_heading level0 col4\" >F1</th>        <th class=\"col_heading level0 col5\" >Kappa</th>        <th class=\"col_heading level0 col6\" >MCC</th>    </tr></thead><tbody>\n",
       "                <tr>\n",
       "                        <th id=\"T_96b84_level0_row0\" class=\"row_heading level0 row0\" >0</th>\n",
       "                        <td id=\"T_96b84_row0_col0\" class=\"data row0 col0\" >0.7008</td>\n",
       "                        <td id=\"T_96b84_row0_col1\" class=\"data row0 col1\" >0.7604</td>\n",
       "                        <td id=\"T_96b84_row0_col2\" class=\"data row0 col2\" >0.5270</td>\n",
       "                        <td id=\"T_96b84_row0_col3\" class=\"data row0 col3\" >0.6487</td>\n",
       "                        <td id=\"T_96b84_row0_col4\" class=\"data row0 col4\" >0.5816</td>\n",
       "                        <td id=\"T_96b84_row0_col5\" class=\"data row0 col5\" >0.3526</td>\n",
       "                        <td id=\"T_96b84_row0_col6\" class=\"data row0 col6\" >0.3572</td>\n",
       "            </tr>\n",
       "            <tr>\n",
       "                        <th id=\"T_96b84_level0_row1\" class=\"row_heading level0 row1\" >1</th>\n",
       "                        <td id=\"T_96b84_row1_col0\" class=\"data row1 col0\" >0.7028</td>\n",
       "                        <td id=\"T_96b84_row1_col1\" class=\"data row1 col1\" >0.7519</td>\n",
       "                        <td id=\"T_96b84_row1_col2\" class=\"data row1 col2\" >0.5541</td>\n",
       "                        <td id=\"T_96b84_row1_col3\" class=\"data row1 col3\" >0.6418</td>\n",
       "                        <td id=\"T_96b84_row1_col4\" class=\"data row1 col4\" >0.5947</td>\n",
       "                        <td id=\"T_96b84_row1_col5\" class=\"data row1 col5\" >0.3621</td>\n",
       "                        <td id=\"T_96b84_row1_col6\" class=\"data row1 col6\" >0.3646</td>\n",
       "            </tr>\n",
       "            <tr>\n",
       "                        <th id=\"T_96b84_level0_row2\" class=\"row_heading level0 row2\" >2</th>\n",
       "                        <td id=\"T_96b84_row2_col0\" class=\"data row2 col0\" >0.7170</td>\n",
       "                        <td id=\"T_96b84_row2_col1\" class=\"data row2 col1\" >0.7500</td>\n",
       "                        <td id=\"T_96b84_row2_col2\" class=\"data row2 col2\" >0.5515</td>\n",
       "                        <td id=\"T_96b84_row2_col3\" class=\"data row2 col3\" >0.6708</td>\n",
       "                        <td id=\"T_96b84_row2_col4\" class=\"data row2 col4\" >0.6054</td>\n",
       "                        <td id=\"T_96b84_row2_col5\" class=\"data row2 col5\" >0.3881</td>\n",
       "                        <td id=\"T_96b84_row2_col6\" class=\"data row2 col6\" >0.3926</td>\n",
       "            </tr>\n",
       "            <tr>\n",
       "                        <th id=\"T_96b84_level0_row3\" class=\"row_heading level0 row3\" >3</th>\n",
       "                        <td id=\"T_96b84_row3_col0\" class=\"data row3 col0\" >0.7333</td>\n",
       "                        <td id=\"T_96b84_row3_col1\" class=\"data row3 col1\" >0.7715</td>\n",
       "                        <td id=\"T_96b84_row3_col2\" class=\"data row3 col2\" >0.5902</td>\n",
       "                        <td id=\"T_96b84_row3_col3\" class=\"data row3 col3\" >0.6877</td>\n",
       "                        <td id=\"T_96b84_row3_col4\" class=\"data row3 col4\" >0.6352</td>\n",
       "                        <td id=\"T_96b84_row3_col5\" class=\"data row3 col5\" >0.4269</td>\n",
       "                        <td id=\"T_96b84_row3_col6\" class=\"data row3 col6\" >0.4300</td>\n",
       "            </tr>\n",
       "            <tr>\n",
       "                        <th id=\"T_96b84_level0_row4\" class=\"row_heading level0 row4\" >4</th>\n",
       "                        <td id=\"T_96b84_row4_col0\" class=\"data row4 col0\" >0.7150</td>\n",
       "                        <td id=\"T_96b84_row4_col1\" class=\"data row4 col1\" >0.7558</td>\n",
       "                        <td id=\"T_96b84_row4_col2\" class=\"data row4 col2\" >0.5464</td>\n",
       "                        <td id=\"T_96b84_row4_col3\" class=\"data row4 col3\" >0.6688</td>\n",
       "                        <td id=\"T_96b84_row4_col4\" class=\"data row4 col4\" >0.6014</td>\n",
       "                        <td id=\"T_96b84_row4_col5\" class=\"data row4 col5\" >0.3831</td>\n",
       "                        <td id=\"T_96b84_row4_col6\" class=\"data row4 col6\" >0.3879</td>\n",
       "            </tr>\n",
       "            <tr>\n",
       "                        <th id=\"T_96b84_level0_row5\" class=\"row_heading level0 row5\" >5</th>\n",
       "                        <td id=\"T_96b84_row5_col0\" class=\"data row5 col0\" >0.7353</td>\n",
       "                        <td id=\"T_96b84_row5_col1\" class=\"data row5 col1\" >0.7774</td>\n",
       "                        <td id=\"T_96b84_row5_col2\" class=\"data row5 col2\" >0.6134</td>\n",
       "                        <td id=\"T_96b84_row5_col3\" class=\"data row5 col3\" >0.6819</td>\n",
       "                        <td id=\"T_96b84_row5_col4\" class=\"data row5 col4\" >0.6459</td>\n",
       "                        <td id=\"T_96b84_row5_col5\" class=\"data row5 col5\" >0.4355</td>\n",
       "                        <td id=\"T_96b84_row5_col6\" class=\"data row5 col6\" >0.4370</td>\n",
       "            </tr>\n",
       "            <tr>\n",
       "                        <th id=\"T_96b84_level0_row6\" class=\"row_heading level0 row6\" >6</th>\n",
       "                        <td id=\"T_96b84_row6_col0\" class=\"data row6 col0\" >0.7231</td>\n",
       "                        <td id=\"T_96b84_row6_col1\" class=\"data row6 col1\" >0.7650</td>\n",
       "                        <td id=\"T_96b84_row6_col2\" class=\"data row6 col2\" >0.5515</td>\n",
       "                        <td id=\"T_96b84_row6_col3\" class=\"data row6 col3\" >0.6837</td>\n",
       "                        <td id=\"T_96b84_row6_col4\" class=\"data row6 col4\" >0.6106</td>\n",
       "                        <td id=\"T_96b84_row6_col5\" class=\"data row6 col5\" >0.3996</td>\n",
       "                        <td id=\"T_96b84_row6_col6\" class=\"data row6 col6\" >0.4051</td>\n",
       "            </tr>\n",
       "            <tr>\n",
       "                        <th id=\"T_96b84_level0_row7\" class=\"row_heading level0 row7\" >7</th>\n",
       "                        <td id=\"T_96b84_row7_col0\" class=\"data row7 col0\" >0.7170</td>\n",
       "                        <td id=\"T_96b84_row7_col1\" class=\"data row7 col1\" >0.7668</td>\n",
       "                        <td id=\"T_96b84_row7_col2\" class=\"data row7 col2\" >0.5567</td>\n",
       "                        <td id=\"T_96b84_row7_col3\" class=\"data row7 col3\" >0.6687</td>\n",
       "                        <td id=\"T_96b84_row7_col4\" class=\"data row7 col4\" >0.6076</td>\n",
       "                        <td id=\"T_96b84_row7_col5\" class=\"data row7 col5\" >0.3892</td>\n",
       "                        <td id=\"T_96b84_row7_col6\" class=\"data row7 col6\" >0.3932</td>\n",
       "            </tr>\n",
       "            <tr>\n",
       "                        <th id=\"T_96b84_level0_row8\" class=\"row_heading level0 row8\" >8</th>\n",
       "                        <td id=\"T_96b84_row8_col0\" class=\"data row8 col0\" >0.7046</td>\n",
       "                        <td id=\"T_96b84_row8_col1\" class=\"data row8 col1\" >0.7623</td>\n",
       "                        <td id=\"T_96b84_row8_col2\" class=\"data row8 col2\" >0.5619</td>\n",
       "                        <td id=\"T_96b84_row8_col3\" class=\"data row8 col3\" >0.6431</td>\n",
       "                        <td id=\"T_96b84_row8_col4\" class=\"data row8 col4\" >0.5997</td>\n",
       "                        <td id=\"T_96b84_row8_col5\" class=\"data row8 col5\" >0.3673</td>\n",
       "                        <td id=\"T_96b84_row8_col6\" class=\"data row8 col6\" >0.3694</td>\n",
       "            </tr>\n",
       "            <tr>\n",
       "                        <th id=\"T_96b84_level0_row9\" class=\"row_heading level0 row9\" >9</th>\n",
       "                        <td id=\"T_96b84_row9_col0\" class=\"data row9 col0\" >0.7096</td>\n",
       "                        <td id=\"T_96b84_row9_col1\" class=\"data row9 col1\" >0.7617</td>\n",
       "                        <td id=\"T_96b84_row9_col2\" class=\"data row9 col2\" >0.5593</td>\n",
       "                        <td id=\"T_96b84_row9_col3\" class=\"data row9 col3\" >0.6536</td>\n",
       "                        <td id=\"T_96b84_row9_col4\" class=\"data row9 col4\" >0.6028</td>\n",
       "                        <td id=\"T_96b84_row9_col5\" class=\"data row9 col5\" >0.3762</td>\n",
       "                        <td id=\"T_96b84_row9_col6\" class=\"data row9 col6\" >0.3790</td>\n",
       "            </tr>\n",
       "            <tr>\n",
       "                        <th id=\"T_96b84_level0_row10\" class=\"row_heading level0 row10\" >Mean</th>\n",
       "                        <td id=\"T_96b84_row10_col0\" class=\"data row10 col0\" >0.7159</td>\n",
       "                        <td id=\"T_96b84_row10_col1\" class=\"data row10 col1\" >0.7623</td>\n",
       "                        <td id=\"T_96b84_row10_col2\" class=\"data row10 col2\" >0.5612</td>\n",
       "                        <td id=\"T_96b84_row10_col3\" class=\"data row10 col3\" >0.6649</td>\n",
       "                        <td id=\"T_96b84_row10_col4\" class=\"data row10 col4\" >0.6085</td>\n",
       "                        <td id=\"T_96b84_row10_col5\" class=\"data row10 col5\" >0.3881</td>\n",
       "                        <td id=\"T_96b84_row10_col6\" class=\"data row10 col6\" >0.3916</td>\n",
       "            </tr>\n",
       "            <tr>\n",
       "                        <th id=\"T_96b84_level0_row11\" class=\"row_heading level0 row11\" >SD</th>\n",
       "                        <td id=\"T_96b84_row11_col0\" class=\"data row11 col0\" >0.0114</td>\n",
       "                        <td id=\"T_96b84_row11_col1\" class=\"data row11 col1\" >0.0080</td>\n",
       "                        <td id=\"T_96b84_row11_col2\" class=\"data row11 col2\" >0.0228</td>\n",
       "                        <td id=\"T_96b84_row11_col3\" class=\"data row11 col3\" >0.0162</td>\n",
       "                        <td id=\"T_96b84_row11_col4\" class=\"data row11 col4\" >0.0179</td>\n",
       "                        <td id=\"T_96b84_row11_col5\" class=\"data row11 col5\" >0.0253</td>\n",
       "                        <td id=\"T_96b84_row11_col6\" class=\"data row11 col6\" >0.0251</td>\n",
       "            </tr>\n",
       "    </tbody></table>"
      ],
      "text/plain": [
       "<pandas.io.formats.style.Styler at 0x7ff00babc250>"
      ]
     },
     "metadata": {},
     "output_type": "display_data"
    }
   ],
   "source": [
    "best_model = create_model(model_matrix)\n",
    "final_model = finalize_model(best_model)"
   ]
  },
  {
   "cell_type": "markdown",
   "id": "3aab9021-4462-423a-8e3c-fbe1f36c6110",
   "metadata": {},
   "source": [
    "### Let's load in our 2021 season data and get retention scores using the model:"
   ]
  },
  {
   "cell_type": "code",
   "execution_count": 69,
   "id": "c249a813-c882-4869-9490-6ab766a8c223",
   "metadata": {},
   "outputs": [
    {
     "data": {
      "text/plain": [
       "(2418, 55)"
      ]
     },
     "execution_count": 69,
     "metadata": {},
     "output_type": "execute_result"
    }
   ],
   "source": [
    "df_inference = df.loc[df[\"year\"] >= 2021]\n",
    "df_inference = df_inference.fillna(0)\n",
    "df_inference.shape"
   ]
  },
  {
   "cell_type": "code",
   "execution_count": 70,
   "id": "745b62fb-fb2e-4b4a-9c48-8ce4de472a83",
   "metadata": {},
   "outputs": [
    {
     "data": {
      "text/html": [
       "<div>\n",
       "<style scoped>\n",
       "    .dataframe tbody tr th:only-of-type {\n",
       "        vertical-align: middle;\n",
       "    }\n",
       "\n",
       "    .dataframe tbody tr th {\n",
       "        vertical-align: top;\n",
       "    }\n",
       "\n",
       "    .dataframe thead th {\n",
       "        text-align: right;\n",
       "    }\n",
       "</style>\n",
       "<table border=\"1\" class=\"dataframe\">\n",
       "  <thead>\n",
       "    <tr style=\"text-align: right;\">\n",
       "      <th></th>\n",
       "      <th>lkupClientId</th>\n",
       "      <th>dimCustomerMasterId</th>\n",
       "      <th>customerNumber</th>\n",
       "      <th>year</th>\n",
       "      <th>productGrouping</th>\n",
       "      <th>totalSpent</th>\n",
       "      <th>recentDate</th>\n",
       "      <th>attendancePercent</th>\n",
       "      <th>renewedBeforeDays</th>\n",
       "      <th>isBuyer</th>\n",
       "      <th>...</th>\n",
       "      <th>urbanicity</th>\n",
       "      <th>isnextyear_buyer</th>\n",
       "      <th>isnextyear_samepkg_buyer</th>\n",
       "      <th>pkgupgrade_status</th>\n",
       "      <th>auto_renewal</th>\n",
       "      <th>credits_after_refund</th>\n",
       "      <th>isNextYear_Buyer</th>\n",
       "      <th>Label</th>\n",
       "      <th>Score_0</th>\n",
       "      <th>Score_1</th>\n",
       "    </tr>\n",
       "  </thead>\n",
       "  <tbody>\n",
       "    <tr>\n",
       "      <th>14981</th>\n",
       "      <td>55</td>\n",
       "      <td>3424</td>\n",
       "      <td>15630773</td>\n",
       "      <td>2021</td>\n",
       "      <td>Partial Season</td>\n",
       "      <td>1314.0</td>\n",
       "      <td>2022-01-08</td>\n",
       "      <td>0.722222</td>\n",
       "      <td>80</td>\n",
       "      <td>TRUE</td>\n",
       "      <td>...</td>\n",
       "      <td>0</td>\n",
       "      <td>0</td>\n",
       "      <td>0</td>\n",
       "      <td>0</td>\n",
       "      <td>0</td>\n",
       "      <td>0.0</td>\n",
       "      <td>0</td>\n",
       "      <td>0</td>\n",
       "      <td>0.9650</td>\n",
       "      <td>0.0350</td>\n",
       "    </tr>\n",
       "    <tr>\n",
       "      <th>14982</th>\n",
       "      <td>55</td>\n",
       "      <td>9878</td>\n",
       "      <td>15425074</td>\n",
       "      <td>2021</td>\n",
       "      <td>Partial Season</td>\n",
       "      <td>1469.0</td>\n",
       "      <td>2022-01-06</td>\n",
       "      <td>0.833333</td>\n",
       "      <td>82</td>\n",
       "      <td>TRUE</td>\n",
       "      <td>...</td>\n",
       "      <td>0</td>\n",
       "      <td>0</td>\n",
       "      <td>0</td>\n",
       "      <td>0</td>\n",
       "      <td>0</td>\n",
       "      <td>0.0</td>\n",
       "      <td>0</td>\n",
       "      <td>0</td>\n",
       "      <td>0.8910</td>\n",
       "      <td>0.1090</td>\n",
       "    </tr>\n",
       "    <tr>\n",
       "      <th>14983</th>\n",
       "      <td>55</td>\n",
       "      <td>10694</td>\n",
       "      <td>16478295</td>\n",
       "      <td>2021</td>\n",
       "      <td>Partial Season</td>\n",
       "      <td>1452.0</td>\n",
       "      <td>2021-12-10</td>\n",
       "      <td>0.800000</td>\n",
       "      <td>62</td>\n",
       "      <td>TRUE</td>\n",
       "      <td>...</td>\n",
       "      <td>0</td>\n",
       "      <td>0</td>\n",
       "      <td>0</td>\n",
       "      <td>0</td>\n",
       "      <td>0</td>\n",
       "      <td>0.0</td>\n",
       "      <td>0</td>\n",
       "      <td>0</td>\n",
       "      <td>0.9466</td>\n",
       "      <td>0.0534</td>\n",
       "    </tr>\n",
       "    <tr>\n",
       "      <th>14984</th>\n",
       "      <td>55</td>\n",
       "      <td>15650</td>\n",
       "      <td>9406219</td>\n",
       "      <td>2021</td>\n",
       "      <td>Partial Season</td>\n",
       "      <td>2007.5</td>\n",
       "      <td>2021-12-15</td>\n",
       "      <td>0.600000</td>\n",
       "      <td>62</td>\n",
       "      <td>TRUE</td>\n",
       "      <td>...</td>\n",
       "      <td>0</td>\n",
       "      <td>0</td>\n",
       "      <td>0</td>\n",
       "      <td>0</td>\n",
       "      <td>0</td>\n",
       "      <td>0.0</td>\n",
       "      <td>0</td>\n",
       "      <td>0</td>\n",
       "      <td>0.7710</td>\n",
       "      <td>0.2290</td>\n",
       "    </tr>\n",
       "    <tr>\n",
       "      <th>14985</th>\n",
       "      <td>55</td>\n",
       "      <td>16906</td>\n",
       "      <td>16628977</td>\n",
       "      <td>2021</td>\n",
       "      <td>Half Season</td>\n",
       "      <td>3407.5</td>\n",
       "      <td>2022-01-08</td>\n",
       "      <td>0.916667</td>\n",
       "      <td>77</td>\n",
       "      <td>TRUE</td>\n",
       "      <td>...</td>\n",
       "      <td>0</td>\n",
       "      <td>0</td>\n",
       "      <td>0</td>\n",
       "      <td>0</td>\n",
       "      <td>0</td>\n",
       "      <td>0.0</td>\n",
       "      <td>0</td>\n",
       "      <td>0</td>\n",
       "      <td>0.7773</td>\n",
       "      <td>0.2227</td>\n",
       "    </tr>\n",
       "  </tbody>\n",
       "</table>\n",
       "<p>5 rows × 58 columns</p>\n",
       "</div>"
      ],
      "text/plain": [
       "       lkupClientId  dimCustomerMasterId customerNumber  year productGrouping  \\\n",
       "14981            55                 3424       15630773  2021  Partial Season   \n",
       "14982            55                 9878       15425074  2021  Partial Season   \n",
       "14983            55                10694       16478295  2021  Partial Season   \n",
       "14984            55                15650        9406219  2021  Partial Season   \n",
       "14985            55                16906       16628977  2021     Half Season   \n",
       "\n",
       "       totalSpent  recentDate  attendancePercent  renewedBeforeDays isBuyer  \\\n",
       "14981      1314.0  2022-01-08           0.722222                 80    TRUE   \n",
       "14982      1469.0  2022-01-06           0.833333                 82    TRUE   \n",
       "14983      1452.0  2021-12-10           0.800000                 62    TRUE   \n",
       "14984      2007.5  2021-12-15           0.600000                 62    TRUE   \n",
       "14985      3407.5  2022-01-08           0.916667                 77    TRUE   \n",
       "\n",
       "       ...  urbanicity  isnextyear_buyer  isnextyear_samepkg_buyer  \\\n",
       "14981  ...           0                 0                         0   \n",
       "14982  ...           0                 0                         0   \n",
       "14983  ...           0                 0                         0   \n",
       "14984  ...           0                 0                         0   \n",
       "14985  ...           0                 0                         0   \n",
       "\n",
       "       pkgupgrade_status  auto_renewal  credits_after_refund  \\\n",
       "14981                  0             0                   0.0   \n",
       "14982                  0             0                   0.0   \n",
       "14983                  0             0                   0.0   \n",
       "14984                  0             0                   0.0   \n",
       "14985                  0             0                   0.0   \n",
       "\n",
       "       isNextYear_Buyer  Label  Score_0  Score_1  \n",
       "14981                 0      0   0.9650   0.0350  \n",
       "14982                 0      0   0.8910   0.1090  \n",
       "14983                 0      0   0.9466   0.0534  \n",
       "14984                 0      0   0.7710   0.2290  \n",
       "14985                 0      0   0.7773   0.2227  \n",
       "\n",
       "[5 rows x 58 columns]"
      ]
     },
     "execution_count": 70,
     "metadata": {},
     "output_type": "execute_result"
    }
   ],
   "source": [
    "new_predictions = predict_model(final_model, data=df_inference, raw_score=True)\n",
    "new_predictions.head()"
   ]
  },
  {
   "cell_type": "code",
   "execution_count": 75,
   "id": "7253ba2d-b37b-4fda-aa3c-0b61a67b3fab",
   "metadata": {},
   "outputs": [
    {
     "data": {
      "text/plain": [
       "0    601\n",
       "1    559\n",
       "Name: Label, dtype: int64"
      ]
     },
     "execution_count": 75,
     "metadata": {},
     "output_type": "execute_result"
    }
   ],
   "source": [
    "new_predictions['Label'].value_counts()"
   ]
  },
  {
   "cell_type": "markdown",
   "id": "2add324c-f0bb-4fd2-bde1-2bee98d5b8c0",
   "metadata": {},
   "source": [
    "### We can plot the scores using a histogram to see the score distribution for buyers:"
   ]
  },
  {
   "cell_type": "code",
   "execution_count": 72,
   "id": "95e96920-bc9c-4b50-837c-89e392d13449",
   "metadata": {},
   "outputs": [
    {
     "data": {
      "text/plain": [
       "array([[<AxesSubplot:title={'center':'Score_1'}>]], dtype=object)"
      ]
     },
     "execution_count": 72,
     "metadata": {},
     "output_type": "execute_result"
    },
    {
     "data": {
      "image/png": "[encoded data removed]",
      "text/plain": [
       "<Figure size 720x360 with 1 Axes>"
      ]
     },
     "metadata": {},
     "output_type": "display_data"
    }
   ],
   "source": [
    "new_predictions = new_predictions.loc[new_predictions[\"productGrouping\"] == \"Full Season\"]\n",
    "new_predictions[new_predictions[\"Label\"]==1][[\"Score_1\"]].hist(bins=30, figsize=(10,5), range=[0,1])"
   ]
  },
  {
   "cell_type": "markdown",
   "id": "0f491238-04c7-46ad-af0c-141a0fdedf72",
   "metadata": {},
   "source": [
    "### Let's plot the feature importances to see what features in the model are most predictive:"
   ]
  },
  {
   "cell_type": "code",
   "execution_count": 73,
   "id": "144bd27b-9798-4f8b-a3a3-95298d8e2c01",
   "metadata": {},
   "outputs": [
    {
     "data": {
      "image/png": "[encoded data removed]",
      "text/plain": [
       "<Figure size 800x500 with 1 Axes>"
      ]
     },
     "metadata": {},
     "output_type": "display_data"
    }
   ],
   "source": [
    "plot_model(best_model, plot='feature')"
   ]
  },
  {
   "cell_type": "markdown",
   "id": "6e4ca6b2-6035-4ff9-baa2-a810f0739b17",
   "metadata": {},
   "source": [
    "### Using a confusion matrix can also help us understand where the model is predicting correctly and where it's missing:"
   ]
  },
  {
   "cell_type": "code",
   "execution_count": 23,
   "id": "ce6cb80d-9ee1-49e9-97f3-b9aa67ef4b76",
   "metadata": {},
   "outputs": [
    {
     "data": {
      "image/png": "[encoded data removed]",
      "text/plain": [
       "<Figure size 576x396 with 1 Axes>"
      ]
     },
     "metadata": {},
     "output_type": "display_data"
    }
   ],
   "source": [
    "plot_model(best_model, plot='confusion_matrix')"
   ]
  },
  {
   "cell_type": "markdown",
   "id": "553decfe-1e2a-45f4-a48a-c04ac6d0a26c",
   "metadata": {},
   "source": [
    "### Let's also visualize the AUC (area under the curve) to get a sense of how our model is performing:"
   ]
  },
  {
   "cell_type": "code",
   "execution_count": 76,
   "id": "d549c83b-79df-401c-b3a8-0a32510105f8",
   "metadata": {},
   "outputs": [
    {
     "data": {
      "image/png": "[encoded data removed]",
      "text/plain": [
       "<Figure size 576x396 with 1 Axes>"
      ]
     },
     "metadata": {},
     "output_type": "display_data"
    }
   ],
   "source": [
    "plot_model(best_model, plot=\"auc\")"
   ]
  },
  {
   "cell_type": "markdown",
   "id": "71f34d81-878f-489e-be42-921567784974",
   "metadata": {},
   "source": [
    "## Observations\n",
    "\n",
    "* The model predictions are ~ 75% accurate \n",
    "\n",
    "* The Full Season ticket buyers fall into a Normal Distribution, as is expected.\n",
    "\n",
    "* distToVenue is the third most important feature, with a variable importance ~ 75%\n",
    "\n",
    "* The model made 3x as many correct predictions vs. incorrect predictions"
   ]
  },
  {
   "cell_type": "markdown",
   "id": "998e2ae8-33b0-4783-8dde-5d442b68d39e",
   "metadata": {},
   "source": [
    "## Conclusions\n",
    "\n",
    "The distToVenue feature did prove to be a useful feature for model predictions. The next experiment will focus on altering the distToVenue feature to understand the impact (or non-impact) on model performance (i.e. does adding distance to the feature improve accuracy or have little to no impact)."
   ]
  },
  {
   "cell_type": "code",
   "execution_count": null,
   "id": "55eec17b-7c11-4da4-b3c2-e0e7a8856539",
   "metadata": {},
   "outputs": [],
   "source": []
  }
 ],
 "metadata": {
  "kernelspec": {
   "display_name": "Python 3 (ipykernel)",
   "language": "python",
   "name": "python3"
  },
  "language_info": {
   "codemirror_mode": {
    "name": "ipython",
    "version": 3
   },
   "file_extension": ".py",
   "mimetype": "text/x-python",
   "name": "python",
   "nbconvert_exporter": "python",
   "pygments_lexer": "ipython3",
   "version": "3.7.10"
  }
 },
 "nbformat": 4,
 "nbformat_minor": 5
}
