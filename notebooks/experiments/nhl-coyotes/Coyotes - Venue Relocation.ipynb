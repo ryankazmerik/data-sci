{
 "cells": [
  {
   "cell_type": "markdown",
   "id": "6ee08766-25fd-4da1-91b8-b0c3e74db588",
   "metadata": {},
   "source": [
    "# Arizona Coyotes - Venue Relocation\n",
    "* StelllarAlgo Data Science\n",
    "* Ryan Kazmerik & Nakisa Rad\n",
    "* Jan 14, 2022"
   ]
  },
  {
   "cell_type": "markdown",
   "id": "39108c8d-2e9f-4759-ade2-83071038dc56",
   "metadata": {},
   "source": [
    "## Hypothesis\n",
    "With the Coyotes undergoing a venue relocation, we think that the distToVenue feature could have a significant impact on Full Season buyers. This notebook will simulate a venue relocation and compare against current retention scores."
   ]
  },
  {
   "cell_type": "markdown",
   "id": "28142011-1f32-4cc7-816b-a6dae6f70c8c",
   "metadata": {},
   "source": [
    "## Experiment\n",
    "This section details our experiment including querying data, data transformations, feature selection and modelling."
   ]
  },
  {
   "cell_type": "code",
   "execution_count": 1,
   "id": "4c533efd-600e-4bce-8203-faffbddfa700",
   "metadata": {},
   "outputs": [],
   "source": [
    "import getpass\n",
    "import pyodbc\n",
    "import pandas as pd\n",
    "import warnings\n",
    "import matplotlib.pyplot as plt\n",
    "\n",
    "from pycaret.classification import *\n",
    "from ngboost import NGBClassifier\n",
    "\n",
    "warnings.filterwarnings('ignore')\n",
    "warnings.simplefilter('ignore')"
   ]
  },
  {
   "cell_type": "markdown",
   "id": "b64ae7d5-84af-4915-bd13-1dd9d17098a3",
   "metadata": {},
   "source": [
    "### Let's connect to MSSQL and run a stored proc to get our dataset:"
   ]
  },
  {
   "cell_type": "code",
   "execution_count": 2,
   "id": "ae561eb4-f419-4d46-b5e0-12fac9b10db8",
   "metadata": {},
   "outputs": [
    {
     "name": "stdin",
     "output_type": "stream",
     "text": [
      "Enter your password ··················\n"
     ]
    }
   ],
   "source": [
    "# connect to SQL Server.\n",
    "SERVER = '34.206.73.189' \n",
    "DATABASE = 'datascience' \n",
    "USERNAME = 'dsAdminWrite' \n",
    "PASSWORD = getpass.getpass(prompt='Enter your password')\n",
    "CNXN = pyodbc.connect('DRIVER={ODBC Driver 17 for SQL Server};SERVER='+SERVER+';DATABASE='+DATABASE+';UID='+USERNAME+';PWD='+ PASSWORD)"
   ]
  },
  {
   "cell_type": "code",
   "execution_count": 3,
   "id": "af1afe7d-a35b-494b-88f3-980fb0e3da30",
   "metadata": {},
   "outputs": [
    {
     "data": {
      "text/plain": [
       "(17399, 55)"
      ]
     },
     "execution_count": 3,
     "metadata": {},
     "output_type": "execute_result"
    }
   ],
   "source": [
    "lkupclientid = 55 # coyotes\n",
    "cursor = CNXN.cursor()\n",
    "\n",
    "storedProc = (\n",
    "    f\"\"\"Exec [stlrCoyotes].[ds].[getRetentionScoringModelData] {lkupclientid}\"\"\"\n",
    ")\n",
    "\n",
    "df = pd.read_sql(storedProc, CNXN)\n",
    "\n",
    "# apply some data transformations\n",
    "df[\"year\"] = pd.to_numeric(df[\"year\"])\n",
    "\n",
    "CNXN.commit()\n",
    "cursor.close()\n",
    "\n",
    "df.shape"
   ]
  },
  {
   "cell_type": "markdown",
   "id": "ab40da92-72a7-49c1-9829-ed3805a39719",
   "metadata": {},
   "source": [
    "### Let's specify the default SA features for our model:"
   ]
  },
  {
   "cell_type": "code",
   "execution_count": 23,
   "id": "788f1273-8b7a-46bd-a099-1a471feeacc5",
   "metadata": {},
   "outputs": [
    {
     "name": "stdout",
     "output_type": "stream",
     "text": [
      "Data for Modeling: (11598, 9)\n",
      "Unseen Data For Predictions: (2047, 9)\n",
      "\n"
     ]
    }
   ],
   "source": [
    "# choose the features for the stellar base retention model\n",
    "features = [\n",
    "    \"dimCustomerMasterId\",\n",
    "    \"attendancePercent\",\n",
    "    \"distToVenue\",\n",
    "    \"isNextYear_Buyer\",\n",
    "    \"productGrouping\",\n",
    "    \"recency\",\n",
    "    \"source_tenure\",\n",
    "    \"totalSpent\",\n",
    "    \"year\"\n",
    "]\n",
    "\n",
    "# copy your main dataframe\n",
    "df_dataset = df\n",
    "\n",
    "# choose the features & train year & test year\n",
    "df_dataset = df_dataset[features]\n",
    "df_dataset = df_dataset.loc[df_dataset[\"year\"] <= 2019]\n",
    "\n",
    "df_train = df_dataset.sample(frac=0.85, random_state=786)\n",
    "df_eval = df_dataset.drop(df_train.index)\n",
    "\n",
    "df_train.reset_index(drop=True, inplace=True)\n",
    "df_eval.reset_index(drop=True, inplace=True)\n",
    "\n",
    "# print out the number of records for training and eval\n",
    "print('Data for Modeling: ' + str(df_train.shape))\n",
    "print('Unseen Data For Predictions: ' + str(df_eval.shape), end=\"\\n\\n\")"
   ]
  },
  {
   "cell_type": "markdown",
   "id": "f8810096-ae56-434d-8625-76b37ccbe7a1",
   "metadata": {
    "tags": []
   },
   "source": [
    "### Let's isolate just Full Season buyers and measure their distToVenue:"
   ]
  },
  {
   "cell_type": "code",
   "execution_count": 27,
   "id": "419b1225-0d6c-4525-a494-330e59f2bbcb",
   "metadata": {},
   "outputs": [
    {
     "data": {
      "text/plain": [
       "(4589, 9)"
      ]
     },
     "execution_count": 27,
     "metadata": {},
     "output_type": "execute_result"
    }
   ],
   "source": [
    "df_full_season = df_train.loc[df_train[\"productGrouping\"] == \"Full Season\"]\n",
    "df_full_season.shape"
   ]
  },
  {
   "cell_type": "code",
   "execution_count": null,
   "id": "d197314a-2e2b-4048-b25a-7f140f0e1802",
   "metadata": {},
   "outputs": [],
   "source": []
  },
  {
   "cell_type": "markdown",
   "id": "4f2da06d-9015-49fd-89b3-956c2ebf66e9",
   "metadata": {},
   "source": [
    "### Now we can model the data using a binary classification prediction for the isnextyear_buyer field to see how likely a customer is to re-purchase."
   ]
  },
  {
   "cell_type": "code",
   "execution_count": 10,
   "id": "23a69cdc-b3ec-48c8-9ce5-29f617779389",
   "metadata": {},
   "outputs": [],
   "source": [
    "setup(\n",
    "    data= df_train, \n",
    "    target=\"isNextYear_Buyer\", \n",
    "    train_size = 0.85,\n",
    "    data_split_shuffle=True,\n",
    "    ignore_features=[\"dimCustomerMasterId\",\"productGrouping\",\"year\"],\n",
    "    silent=True,\n",
    "    verbose=False,\n",
    "    numeric_features=[\n",
    "        \"attendancePercent\",\n",
    "        \"distToVenue\",\n",
    "        \"recency\",\n",
    "        \"source_tenure\",\n",
    "        \"totalSpent\"\n",
    "    ]\n",
    ");"
   ]
  },
  {
   "cell_type": "markdown",
   "id": "6e1e33e8-ed5f-4e84-abb2-a2fc8370905c",
   "metadata": {},
   "source": [
    "### Let's compare all models to evaluate performance. The output prints a score grid that shows average Accuracy, AUC, Recall, Precision, F1 and Kappa accross the folds (10 by default) along with training time:"
   ]
  },
  {
   "cell_type": "code",
   "execution_count": 11,
   "id": "ef2db9d2-02c2-45c0-b6bb-5cad42c373ce",
   "metadata": {},
   "outputs": [
    {
     "data": {
      "text/html": [
       "<style  type=\"text/css\" >\n",
       "    #T_a1843_ th {\n",
       "          text-align: left;\n",
       "    }#T_a1843_row0_col0,#T_a1843_row0_col3,#T_a1843_row0_col5,#T_a1843_row1_col0,#T_a1843_row1_col1,#T_a1843_row1_col2,#T_a1843_row1_col4,#T_a1843_row1_col6,#T_a1843_row1_col7,#T_a1843_row2_col0,#T_a1843_row2_col1,#T_a1843_row2_col2,#T_a1843_row2_col3,#T_a1843_row2_col4,#T_a1843_row2_col5,#T_a1843_row2_col6,#T_a1843_row2_col7,#T_a1843_row3_col0,#T_a1843_row3_col1,#T_a1843_row3_col2,#T_a1843_row3_col3,#T_a1843_row3_col4,#T_a1843_row3_col5,#T_a1843_row3_col6,#T_a1843_row3_col7,#T_a1843_row4_col0,#T_a1843_row4_col1,#T_a1843_row4_col2,#T_a1843_row4_col3,#T_a1843_row4_col4,#T_a1843_row4_col5,#T_a1843_row4_col6,#T_a1843_row4_col7,#T_a1843_row5_col0,#T_a1843_row5_col1,#T_a1843_row5_col2,#T_a1843_row5_col3,#T_a1843_row5_col4,#T_a1843_row5_col5,#T_a1843_row5_col6,#T_a1843_row5_col7{\n",
       "            text-align:  left;\n",
       "            text-align:  left;\n",
       "        }#T_a1843_row0_col1,#T_a1843_row0_col2,#T_a1843_row0_col4,#T_a1843_row0_col6,#T_a1843_row0_col7,#T_a1843_row1_col3,#T_a1843_row1_col5{\n",
       "            text-align:  left;\n",
       "            text-align:  left;\n",
       "            background-color:  yellow;\n",
       "        }#T_a1843_row0_col8,#T_a1843_row1_col8,#T_a1843_row2_col8,#T_a1843_row3_col8,#T_a1843_row4_col8{\n",
       "            text-align:  left;\n",
       "            text-align:  left;\n",
       "            background-color:  lightgrey;\n",
       "        }#T_a1843_row5_col8{\n",
       "            text-align:  left;\n",
       "            text-align:  left;\n",
       "            background-color:  yellow;\n",
       "            background-color:  lightgrey;\n",
       "        }</style><table id=\"T_a1843_\" ><thead>    <tr>        <th class=\"blank level0\" ></th>        <th class=\"col_heading level0 col0\" >Model</th>        <th class=\"col_heading level0 col1\" >Accuracy</th>        <th class=\"col_heading level0 col2\" >AUC</th>        <th class=\"col_heading level0 col3\" >Recall</th>        <th class=\"col_heading level0 col4\" >Prec.</th>        <th class=\"col_heading level0 col5\" >F1</th>        <th class=\"col_heading level0 col6\" >Kappa</th>        <th class=\"col_heading level0 col7\" >MCC</th>        <th class=\"col_heading level0 col8\" >TT (Sec)</th>    </tr></thead><tbody>\n",
       "                <tr>\n",
       "                        <th id=\"T_a1843_level0_row0\" class=\"row_heading level0 row0\" >1</th>\n",
       "                        <td id=\"T_a1843_row0_col0\" class=\"data row0 col0\" >Light Gradient Boosting Machine</td>\n",
       "                        <td id=\"T_a1843_row0_col1\" class=\"data row0 col1\" >0.7159</td>\n",
       "                        <td id=\"T_a1843_row0_col2\" class=\"data row0 col2\" >0.7661</td>\n",
       "                        <td id=\"T_a1843_row0_col3\" class=\"data row0 col3\" >0.5663</td>\n",
       "                        <td id=\"T_a1843_row0_col4\" class=\"data row0 col4\" >0.6620</td>\n",
       "                        <td id=\"T_a1843_row0_col5\" class=\"data row0 col5\" >0.6102</td>\n",
       "                        <td id=\"T_a1843_row0_col6\" class=\"data row0 col6\" >0.3888</td>\n",
       "                        <td id=\"T_a1843_row0_col7\" class=\"data row0 col7\" >0.3919</td>\n",
       "                        <td id=\"T_a1843_row0_col8\" class=\"data row0 col8\" >0.0300</td>\n",
       "            </tr>\n",
       "            <tr>\n",
       "                        <th id=\"T_a1843_level0_row1\" class=\"row_heading level0 row1\" >0</th>\n",
       "                        <td id=\"T_a1843_row1_col0\" class=\"data row1 col0\" >Gradient Boosting Classifier</td>\n",
       "                        <td id=\"T_a1843_row1_col1\" class=\"data row1 col1\" >0.7141</td>\n",
       "                        <td id=\"T_a1843_row1_col2\" class=\"data row1 col2\" >0.7635</td>\n",
       "                        <td id=\"T_a1843_row1_col3\" class=\"data row1 col3\" >0.5782</td>\n",
       "                        <td id=\"T_a1843_row1_col4\" class=\"data row1 col4\" >0.6545</td>\n",
       "                        <td id=\"T_a1843_row1_col5\" class=\"data row1 col5\" >0.6138</td>\n",
       "                        <td id=\"T_a1843_row1_col6\" class=\"data row1 col6\" >0.3883</td>\n",
       "                        <td id=\"T_a1843_row1_col7\" class=\"data row1 col7\" >0.3903</td>\n",
       "                        <td id=\"T_a1843_row1_col8\" class=\"data row1 col8\" >0.2740</td>\n",
       "            </tr>\n",
       "            <tr>\n",
       "                        <th id=\"T_a1843_level0_row2\" class=\"row_heading level0 row2\" >5</th>\n",
       "                        <td id=\"T_a1843_row2_col0\" class=\"data row2 col0\" >Extreme Gradient Boosting</td>\n",
       "                        <td id=\"T_a1843_row2_col1\" class=\"data row2 col1\" >0.7134</td>\n",
       "                        <td id=\"T_a1843_row2_col2\" class=\"data row2 col2\" >0.7610</td>\n",
       "                        <td id=\"T_a1843_row2_col3\" class=\"data row2 col3\" >0.5630</td>\n",
       "                        <td id=\"T_a1843_row2_col4\" class=\"data row2 col4\" >0.6586</td>\n",
       "                        <td id=\"T_a1843_row2_col5\" class=\"data row2 col5\" >0.6068</td>\n",
       "                        <td id=\"T_a1843_row2_col6\" class=\"data row2 col6\" >0.3836</td>\n",
       "                        <td id=\"T_a1843_row2_col7\" class=\"data row2 col7\" >0.3867</td>\n",
       "                        <td id=\"T_a1843_row2_col8\" class=\"data row2 col8\" >0.3630</td>\n",
       "            </tr>\n",
       "            <tr>\n",
       "                        <th id=\"T_a1843_level0_row3\" class=\"row_heading level0 row3\" >3</th>\n",
       "                        <td id=\"T_a1843_row3_col0\" class=\"data row3 col0\" >NGBClassifier</td>\n",
       "                        <td id=\"T_a1843_row3_col1\" class=\"data row3 col1\" >0.7024</td>\n",
       "                        <td id=\"T_a1843_row3_col2\" class=\"data row3 col2\" >0.7541</td>\n",
       "                        <td id=\"T_a1843_row3_col3\" class=\"data row3 col3\" >0.5777</td>\n",
       "                        <td id=\"T_a1843_row3_col4\" class=\"data row3 col4\" >0.6329</td>\n",
       "                        <td id=\"T_a1843_row3_col5\" class=\"data row3 col5\" >0.6039</td>\n",
       "                        <td id=\"T_a1843_row3_col6\" class=\"data row3 col6\" >0.3664</td>\n",
       "                        <td id=\"T_a1843_row3_col7\" class=\"data row3 col7\" >0.3674</td>\n",
       "                        <td id=\"T_a1843_row3_col8\" class=\"data row3 col8\" >1.6190</td>\n",
       "            </tr>\n",
       "            <tr>\n",
       "                        <th id=\"T_a1843_level0_row4\" class=\"row_heading level0 row4\" >4</th>\n",
       "                        <td id=\"T_a1843_row4_col0\" class=\"data row4 col0\" >Random Forest Classifier</td>\n",
       "                        <td id=\"T_a1843_row4_col1\" class=\"data row4 col1\" >0.6946</td>\n",
       "                        <td id=\"T_a1843_row4_col2\" class=\"data row4 col2\" >0.7403</td>\n",
       "                        <td id=\"T_a1843_row4_col3\" class=\"data row4 col3\" >0.5653</td>\n",
       "                        <td id=\"T_a1843_row4_col4\" class=\"data row4 col4\" >0.6233</td>\n",
       "                        <td id=\"T_a1843_row4_col5\" class=\"data row4 col5\" >0.5926</td>\n",
       "                        <td id=\"T_a1843_row4_col6\" class=\"data row4 col6\" >0.3493</td>\n",
       "                        <td id=\"T_a1843_row4_col7\" class=\"data row4 col7\" >0.3505</td>\n",
       "                        <td id=\"T_a1843_row4_col8\" class=\"data row4 col8\" >0.2340</td>\n",
       "            </tr>\n",
       "            <tr>\n",
       "                        <th id=\"T_a1843_level0_row5\" class=\"row_heading level0 row5\" >2</th>\n",
       "                        <td id=\"T_a1843_row5_col0\" class=\"data row5 col0\" >Logistic Regression</td>\n",
       "                        <td id=\"T_a1843_row5_col1\" class=\"data row5 col1\" >0.6435</td>\n",
       "                        <td id=\"T_a1843_row5_col2\" class=\"data row5 col2\" >0.6385</td>\n",
       "                        <td id=\"T_a1843_row5_col3\" class=\"data row5 col3\" >0.3034</td>\n",
       "                        <td id=\"T_a1843_row5_col4\" class=\"data row5 col4\" >0.5891</td>\n",
       "                        <td id=\"T_a1843_row5_col5\" class=\"data row5 col5\" >0.3839</td>\n",
       "                        <td id=\"T_a1843_row5_col6\" class=\"data row5 col6\" >0.1803</td>\n",
       "                        <td id=\"T_a1843_row5_col7\" class=\"data row5 col7\" >0.1998</td>\n",
       "                        <td id=\"T_a1843_row5_col8\" class=\"data row5 col8\" >0.0150</td>\n",
       "            </tr>\n",
       "    </tbody></table>"
      ],
      "text/plain": [
       "<pandas.io.formats.style.Styler at 0x7fb04153fb90>"
      ]
     },
     "metadata": {},
     "output_type": "display_data"
    }
   ],
   "source": [
    "# adding an extra classifier ngboost\n",
    "ngc = NGBClassifier()\n",
    "ngboost = create_model(ngc)\n",
    "\n",
    "model_matrix = compare_models(\n",
    "    fold=10,\n",
    "    include=[\"gbc\", \"lightgbm\", \"lr\", ngboost, \"rf\", \"xgboost\"],\n",
    "    sort=\"AUC\"\n",
    ")"
   ]
  },
  {
   "cell_type": "markdown",
   "id": "2cd3cab6-1ea4-46fc-a572-d368f75cd6c4",
   "metadata": {},
   "source": [
    "### Now that we have the best performing model, we can finalize it:"
   ]
  },
  {
   "cell_type": "code",
   "execution_count": 12,
   "id": "d9f030ed-4b6a-4a87-a01e-129dc49e0d4a",
   "metadata": {},
   "outputs": [
    {
     "data": {
      "text/html": [
       "<style  type=\"text/css\" >\n",
       "#T_53371_row10_col0,#T_53371_row10_col1,#T_53371_row10_col2,#T_53371_row10_col3,#T_53371_row10_col4,#T_53371_row10_col5,#T_53371_row10_col6{\n",
       "            background:  yellow;\n",
       "        }</style><table id=\"T_53371_\" ><thead>    <tr>        <th class=\"blank level0\" ></th>        <th class=\"col_heading level0 col0\" >Accuracy</th>        <th class=\"col_heading level0 col1\" >AUC</th>        <th class=\"col_heading level0 col2\" >Recall</th>        <th class=\"col_heading level0 col3\" >Prec.</th>        <th class=\"col_heading level0 col4\" >F1</th>        <th class=\"col_heading level0 col5\" >Kappa</th>        <th class=\"col_heading level0 col6\" >MCC</th>    </tr></thead><tbody>\n",
       "                <tr>\n",
       "                        <th id=\"T_53371_level0_row0\" class=\"row_heading level0 row0\" >0</th>\n",
       "                        <td id=\"T_53371_row0_col0\" class=\"data row0 col0\" >0.7312</td>\n",
       "                        <td id=\"T_53371_row0_col1\" class=\"data row0 col1\" >0.7804</td>\n",
       "                        <td id=\"T_53371_row0_col2\" class=\"data row0 col2\" >0.5995</td>\n",
       "                        <td id=\"T_53371_row0_col3\" class=\"data row0 col3\" >0.6784</td>\n",
       "                        <td id=\"T_53371_row0_col4\" class=\"data row0 col4\" >0.6365</td>\n",
       "                        <td id=\"T_53371_row0_col5\" class=\"data row0 col5\" >0.4246</td>\n",
       "                        <td id=\"T_53371_row0_col6\" class=\"data row0 col6\" >0.4266</td>\n",
       "            </tr>\n",
       "            <tr>\n",
       "                        <th id=\"T_53371_level0_row1\" class=\"row_heading level0 row1\" >1</th>\n",
       "                        <td id=\"T_53371_row1_col0\" class=\"data row1 col0\" >0.7079</td>\n",
       "                        <td id=\"T_53371_row1_col1\" class=\"data row1 col1\" >0.7680</td>\n",
       "                        <td id=\"T_53371_row1_col2\" class=\"data row1 col2\" >0.5323</td>\n",
       "                        <td id=\"T_53371_row1_col3\" class=\"data row1 col3\" >0.6581</td>\n",
       "                        <td id=\"T_53371_row1_col4\" class=\"data row1 col4\" >0.5886</td>\n",
       "                        <td id=\"T_53371_row1_col5\" class=\"data row1 col5\" >0.3661</td>\n",
       "                        <td id=\"T_53371_row1_col6\" class=\"data row1 col6\" >0.3710</td>\n",
       "            </tr>\n",
       "            <tr>\n",
       "                        <th id=\"T_53371_level0_row2\" class=\"row_heading level0 row2\" >2</th>\n",
       "                        <td id=\"T_53371_row2_col0\" class=\"data row2 col0\" >0.7099</td>\n",
       "                        <td id=\"T_53371_row2_col1\" class=\"data row2 col1\" >0.7388</td>\n",
       "                        <td id=\"T_53371_row2_col2\" class=\"data row2 col2\" >0.5478</td>\n",
       "                        <td id=\"T_53371_row2_col3\" class=\"data row2 col3\" >0.6563</td>\n",
       "                        <td id=\"T_53371_row2_col4\" class=\"data row2 col4\" >0.5972</td>\n",
       "                        <td id=\"T_53371_row2_col5\" class=\"data row2 col5\" >0.3734</td>\n",
       "                        <td id=\"T_53371_row2_col6\" class=\"data row2 col6\" >0.3771</td>\n",
       "            </tr>\n",
       "            <tr>\n",
       "                        <th id=\"T_53371_level0_row3\" class=\"row_heading level0 row3\" >3</th>\n",
       "                        <td id=\"T_53371_row3_col0\" class=\"data row3 col0\" >0.7170</td>\n",
       "                        <td id=\"T_53371_row3_col1\" class=\"data row3 col1\" >0.7694</td>\n",
       "                        <td id=\"T_53371_row3_col2\" class=\"data row3 col2\" >0.5401</td>\n",
       "                        <td id=\"T_53371_row3_col3\" class=\"data row3 col3\" >0.6742</td>\n",
       "                        <td id=\"T_53371_row3_col4\" class=\"data row3 col4\" >0.5997</td>\n",
       "                        <td id=\"T_53371_row3_col5\" class=\"data row3 col5\" >0.3850</td>\n",
       "                        <td id=\"T_53371_row3_col6\" class=\"data row3 col6\" >0.3907</td>\n",
       "            </tr>\n",
       "            <tr>\n",
       "                        <th id=\"T_53371_level0_row4\" class=\"row_heading level0 row4\" >4</th>\n",
       "                        <td id=\"T_53371_row4_col0\" class=\"data row4 col0\" >0.7373</td>\n",
       "                        <td id=\"T_53371_row4_col1\" class=\"data row4 col1\" >0.7889</td>\n",
       "                        <td id=\"T_53371_row4_col2\" class=\"data row4 col2\" >0.5954</td>\n",
       "                        <td id=\"T_53371_row4_col3\" class=\"data row4 col3\" >0.6937</td>\n",
       "                        <td id=\"T_53371_row4_col4\" class=\"data row4 col4\" >0.6408</td>\n",
       "                        <td id=\"T_53371_row4_col5\" class=\"data row4 col5\" >0.4356</td>\n",
       "                        <td id=\"T_53371_row4_col6\" class=\"data row4 col6\" >0.4388</td>\n",
       "            </tr>\n",
       "            <tr>\n",
       "                        <th id=\"T_53371_level0_row5\" class=\"row_heading level0 row5\" >5</th>\n",
       "                        <td id=\"T_53371_row5_col0\" class=\"data row5 col0\" >0.7018</td>\n",
       "                        <td id=\"T_53371_row5_col1\" class=\"data row5 col1\" >0.7576</td>\n",
       "                        <td id=\"T_53371_row5_col2\" class=\"data row5 col2\" >0.5464</td>\n",
       "                        <td id=\"T_53371_row5_col3\" class=\"data row5 col3\" >0.6424</td>\n",
       "                        <td id=\"T_53371_row5_col4\" class=\"data row5 col4\" >0.5905</td>\n",
       "                        <td id=\"T_53371_row5_col5\" class=\"data row5 col5\" >0.3585</td>\n",
       "                        <td id=\"T_53371_row5_col6\" class=\"data row5 col6\" >0.3614</td>\n",
       "            </tr>\n",
       "            <tr>\n",
       "                        <th id=\"T_53371_level0_row6\" class=\"row_heading level0 row6\" >6</th>\n",
       "                        <td id=\"T_53371_row6_col0\" class=\"data row6 col0\" >0.7181</td>\n",
       "                        <td id=\"T_53371_row6_col1\" class=\"data row6 col1\" >0.7754</td>\n",
       "                        <td id=\"T_53371_row6_col2\" class=\"data row6 col2\" >0.5954</td>\n",
       "                        <td id=\"T_53371_row6_col3\" class=\"data row6 col3\" >0.6562</td>\n",
       "                        <td id=\"T_53371_row6_col4\" class=\"data row6 col4\" >0.6243</td>\n",
       "                        <td id=\"T_53371_row6_col5\" class=\"data row6 col5\" >0.3995</td>\n",
       "                        <td id=\"T_53371_row6_col6\" class=\"data row6 col6\" >0.4007</td>\n",
       "            </tr>\n",
       "            <tr>\n",
       "                        <th id=\"T_53371_level0_row7\" class=\"row_heading level0 row7\" >7</th>\n",
       "                        <td id=\"T_53371_row7_col0\" class=\"data row7 col0\" >0.7110</td>\n",
       "                        <td id=\"T_53371_row7_col1\" class=\"data row7 col1\" >0.7688</td>\n",
       "                        <td id=\"T_53371_row7_col2\" class=\"data row7 col2\" >0.5515</td>\n",
       "                        <td id=\"T_53371_row7_col3\" class=\"data row7 col3\" >0.6585</td>\n",
       "                        <td id=\"T_53371_row7_col4\" class=\"data row7 col4\" >0.6003</td>\n",
       "                        <td id=\"T_53371_row7_col5\" class=\"data row7 col5\" >0.3767</td>\n",
       "                        <td id=\"T_53371_row7_col6\" class=\"data row7 col6\" >0.3803</td>\n",
       "            </tr>\n",
       "            <tr>\n",
       "                        <th id=\"T_53371_level0_row8\" class=\"row_heading level0 row8\" >8</th>\n",
       "                        <td id=\"T_53371_row8_col0\" class=\"data row8 col0\" >0.7239</td>\n",
       "                        <td id=\"T_53371_row8_col1\" class=\"data row8 col1\" >0.7808</td>\n",
       "                        <td id=\"T_53371_row8_col2\" class=\"data row8 col2\" >0.5840</td>\n",
       "                        <td id=\"T_53371_row8_col3\" class=\"data row8 col3\" >0.6706</td>\n",
       "                        <td id=\"T_53371_row8_col4\" class=\"data row8 col4\" >0.6243</td>\n",
       "                        <td id=\"T_53371_row8_col5\" class=\"data row8 col5\" >0.4077</td>\n",
       "                        <td id=\"T_53371_row8_col6\" class=\"data row8 col6\" >0.4101</td>\n",
       "            </tr>\n",
       "            <tr>\n",
       "                        <th id=\"T_53371_level0_row9\" class=\"row_heading level0 row9\" >9</th>\n",
       "                        <td id=\"T_53371_row9_col0\" class=\"data row9 col0\" >0.7005</td>\n",
       "                        <td id=\"T_53371_row9_col1\" class=\"data row9 col1\" >0.7334</td>\n",
       "                        <td id=\"T_53371_row9_col2\" class=\"data row9 col2\" >0.5711</td>\n",
       "                        <td id=\"T_53371_row9_col3\" class=\"data row9 col3\" >0.6314</td>\n",
       "                        <td id=\"T_53371_row9_col4\" class=\"data row9 col4\" >0.5997</td>\n",
       "                        <td id=\"T_53371_row9_col5\" class=\"data row9 col5\" >0.3614</td>\n",
       "                        <td id=\"T_53371_row9_col6\" class=\"data row9 col6\" >0.3626</td>\n",
       "            </tr>\n",
       "            <tr>\n",
       "                        <th id=\"T_53371_level0_row10\" class=\"row_heading level0 row10\" >Mean</th>\n",
       "                        <td id=\"T_53371_row10_col0\" class=\"data row10 col0\" >0.7159</td>\n",
       "                        <td id=\"T_53371_row10_col1\" class=\"data row10 col1\" >0.7661</td>\n",
       "                        <td id=\"T_53371_row10_col2\" class=\"data row10 col2\" >0.5663</td>\n",
       "                        <td id=\"T_53371_row10_col3\" class=\"data row10 col3\" >0.6620</td>\n",
       "                        <td id=\"T_53371_row10_col4\" class=\"data row10 col4\" >0.6102</td>\n",
       "                        <td id=\"T_53371_row10_col5\" class=\"data row10 col5\" >0.3888</td>\n",
       "                        <td id=\"T_53371_row10_col6\" class=\"data row10 col6\" >0.3919</td>\n",
       "            </tr>\n",
       "            <tr>\n",
       "                        <th id=\"T_53371_level0_row11\" class=\"row_heading level0 row11\" >SD</th>\n",
       "                        <td id=\"T_53371_row11_col0\" class=\"data row11 col0\" >0.0115</td>\n",
       "                        <td id=\"T_53371_row11_col1\" class=\"data row11 col1\" >0.0171</td>\n",
       "                        <td id=\"T_53371_row11_col2\" class=\"data row11 col2\" >0.0243</td>\n",
       "                        <td id=\"T_53371_row11_col3\" class=\"data row11 col3\" >0.0170</td>\n",
       "                        <td id=\"T_53371_row11_col4\" class=\"data row11 col4\" >0.0183</td>\n",
       "                        <td id=\"T_53371_row11_col5\" class=\"data row11 col5\" >0.0255</td>\n",
       "                        <td id=\"T_53371_row11_col6\" class=\"data row11 col6\" >0.0253</td>\n",
       "            </tr>\n",
       "    </tbody></table>"
      ],
      "text/plain": [
       "<pandas.io.formats.style.Styler at 0x7fb041880dd0>"
      ]
     },
     "metadata": {},
     "output_type": "display_data"
    }
   ],
   "source": [
    "best_model = create_model(model_matrix)\n",
    "final_model = finalize_model(best_model)"
   ]
  },
  {
   "cell_type": "code",
   "execution_count": null,
   "id": "8b909fec-8b61-47a1-8b0d-f82e7d3eee4f",
   "metadata": {},
   "outputs": [],
   "source": []
  },
  {
   "cell_type": "markdown",
   "id": "3aab9021-4462-423a-8e3c-fbe1f36c6110",
   "metadata": {},
   "source": [
    "### Let's load in our 2021 season data and get retention scores using the model:"
   ]
  },
  {
   "cell_type": "code",
   "execution_count": null,
   "id": "c249a813-c882-4869-9490-6ab766a8c223",
   "metadata": {},
   "outputs": [
    {
     "data": {
      "text/plain": [
       "(2418, 55)"
      ]
     },
     "execution_count": 13,
     "metadata": {},
     "output_type": "execute_result"
    }
   ],
   "source": [
    "df_inference = df.loc[df[\"year\"] >= 2021]\n",
    "df_inference = df_inference.fillna(0)\n",
    "df_inference.shape"
   ]
  },
  {
   "cell_type": "code",
   "execution_count": null,
   "id": "2e2fce1a-14a5-4357-9d70-dd00b2ff19c1",
   "metadata": {},
   "outputs": [],
   "source": [
    "#new_predictions = new_predictions.loc[new_predictions[\"productGrouping\"] == \"Full Season\"]"
   ]
  },
  {
   "cell_type": "code",
   "execution_count": null,
   "id": "745b62fb-fb2e-4b4a-9c48-8ce4de472a83",
   "metadata": {},
   "outputs": [
    {
     "data": {
      "text/html": [
       "<div>\n",
       "<style scoped>\n",
       "    .dataframe tbody tr th:only-of-type {\n",
       "        vertical-align: middle;\n",
       "    }\n",
       "\n",
       "    .dataframe tbody tr th {\n",
       "        vertical-align: top;\n",
       "    }\n",
       "\n",
       "    .dataframe thead th {\n",
       "        text-align: right;\n",
       "    }\n",
       "</style>\n",
       "<table border=\"1\" class=\"dataframe\">\n",
       "  <thead>\n",
       "    <tr style=\"text-align: right;\">\n",
       "      <th></th>\n",
       "      <th>lkupClientId</th>\n",
       "      <th>dimCustomerMasterId</th>\n",
       "      <th>customerNumber</th>\n",
       "      <th>year</th>\n",
       "      <th>productGrouping</th>\n",
       "      <th>totalSpent</th>\n",
       "      <th>recentDate</th>\n",
       "      <th>attendancePercent</th>\n",
       "      <th>renewedBeforeDays</th>\n",
       "      <th>isBuyer</th>\n",
       "      <th>...</th>\n",
       "      <th>urbanicity</th>\n",
       "      <th>isnextyear_buyer</th>\n",
       "      <th>isnextyear_samepkg_buyer</th>\n",
       "      <th>pkgupgrade_status</th>\n",
       "      <th>auto_renewal</th>\n",
       "      <th>credits_after_refund</th>\n",
       "      <th>isNextYear_Buyer</th>\n",
       "      <th>Label</th>\n",
       "      <th>Score_0</th>\n",
       "      <th>Score_1</th>\n",
       "    </tr>\n",
       "  </thead>\n",
       "  <tbody>\n",
       "    <tr>\n",
       "      <th>14981</th>\n",
       "      <td>55</td>\n",
       "      <td>2588</td>\n",
       "      <td>113499</td>\n",
       "      <td>2021</td>\n",
       "      <td>Full Season</td>\n",
       "      <td>5688.9</td>\n",
       "      <td>2022-01-08</td>\n",
       "      <td>0.625000</td>\n",
       "      <td>54</td>\n",
       "      <td>TRUE</td>\n",
       "      <td>...</td>\n",
       "      <td>0</td>\n",
       "      <td>0</td>\n",
       "      <td>0</td>\n",
       "      <td>0</td>\n",
       "      <td>0</td>\n",
       "      <td>1389.0</td>\n",
       "      <td>0</td>\n",
       "      <td>1</td>\n",
       "      <td>0.1631</td>\n",
       "      <td>0.8369</td>\n",
       "    </tr>\n",
       "    <tr>\n",
       "      <th>14982</th>\n",
       "      <td>55</td>\n",
       "      <td>3424</td>\n",
       "      <td>15630773</td>\n",
       "      <td>2021</td>\n",
       "      <td>Partial Season</td>\n",
       "      <td>1314.0</td>\n",
       "      <td>2022-01-08</td>\n",
       "      <td>0.722222</td>\n",
       "      <td>80</td>\n",
       "      <td>TRUE</td>\n",
       "      <td>...</td>\n",
       "      <td>0</td>\n",
       "      <td>0</td>\n",
       "      <td>0</td>\n",
       "      <td>0</td>\n",
       "      <td>0</td>\n",
       "      <td>0.0</td>\n",
       "      <td>0</td>\n",
       "      <td>0</td>\n",
       "      <td>0.9608</td>\n",
       "      <td>0.0392</td>\n",
       "    </tr>\n",
       "    <tr>\n",
       "      <th>14983</th>\n",
       "      <td>55</td>\n",
       "      <td>9878</td>\n",
       "      <td>15425074</td>\n",
       "      <td>2021</td>\n",
       "      <td>Partial Season</td>\n",
       "      <td>1469.0</td>\n",
       "      <td>2022-01-06</td>\n",
       "      <td>0.833333</td>\n",
       "      <td>82</td>\n",
       "      <td>TRUE</td>\n",
       "      <td>...</td>\n",
       "      <td>0</td>\n",
       "      <td>0</td>\n",
       "      <td>0</td>\n",
       "      <td>0</td>\n",
       "      <td>0</td>\n",
       "      <td>0.0</td>\n",
       "      <td>0</td>\n",
       "      <td>0</td>\n",
       "      <td>0.8531</td>\n",
       "      <td>0.1469</td>\n",
       "    </tr>\n",
       "    <tr>\n",
       "      <th>14984</th>\n",
       "      <td>55</td>\n",
       "      <td>10694</td>\n",
       "      <td>16478295</td>\n",
       "      <td>2021</td>\n",
       "      <td>Partial Season</td>\n",
       "      <td>1452.0</td>\n",
       "      <td>2021-12-10</td>\n",
       "      <td>0.800000</td>\n",
       "      <td>62</td>\n",
       "      <td>TRUE</td>\n",
       "      <td>...</td>\n",
       "      <td>0</td>\n",
       "      <td>0</td>\n",
       "      <td>0</td>\n",
       "      <td>0</td>\n",
       "      <td>0</td>\n",
       "      <td>0.0</td>\n",
       "      <td>0</td>\n",
       "      <td>0</td>\n",
       "      <td>0.9382</td>\n",
       "      <td>0.0618</td>\n",
       "    </tr>\n",
       "    <tr>\n",
       "      <th>14985</th>\n",
       "      <td>55</td>\n",
       "      <td>14576</td>\n",
       "      <td>16981634</td>\n",
       "      <td>2021</td>\n",
       "      <td>Full Season</td>\n",
       "      <td>6755.3</td>\n",
       "      <td>2022-01-08</td>\n",
       "      <td>0.937500</td>\n",
       "      <td>48</td>\n",
       "      <td>TRUE</td>\n",
       "      <td>...</td>\n",
       "      <td>0</td>\n",
       "      <td>0</td>\n",
       "      <td>0</td>\n",
       "      <td>0</td>\n",
       "      <td>0</td>\n",
       "      <td>0.0</td>\n",
       "      <td>0</td>\n",
       "      <td>0</td>\n",
       "      <td>0.6422</td>\n",
       "      <td>0.3578</td>\n",
       "    </tr>\n",
       "  </tbody>\n",
       "</table>\n",
       "<p>5 rows × 58 columns</p>\n",
       "</div>"
      ],
      "text/plain": [
       "       lkupClientId  dimCustomerMasterId customerNumber  year productGrouping  \\\n",
       "14981            55                 2588         113499  2021     Full Season   \n",
       "14982            55                 3424       15630773  2021  Partial Season   \n",
       "14983            55                 9878       15425074  2021  Partial Season   \n",
       "14984            55                10694       16478295  2021  Partial Season   \n",
       "14985            55                14576       16981634  2021     Full Season   \n",
       "\n",
       "       totalSpent  recentDate  attendancePercent  renewedBeforeDays isBuyer  \\\n",
       "14981      5688.9  2022-01-08           0.625000                 54    TRUE   \n",
       "14982      1314.0  2022-01-08           0.722222                 80    TRUE   \n",
       "14983      1469.0  2022-01-06           0.833333                 82    TRUE   \n",
       "14984      1452.0  2021-12-10           0.800000                 62    TRUE   \n",
       "14985      6755.3  2022-01-08           0.937500                 48    TRUE   \n",
       "\n",
       "       ...  urbanicity  isnextyear_buyer  isnextyear_samepkg_buyer  \\\n",
       "14981  ...           0                 0                         0   \n",
       "14982  ...           0                 0                         0   \n",
       "14983  ...           0                 0                         0   \n",
       "14984  ...           0                 0                         0   \n",
       "14985  ...           0                 0                         0   \n",
       "\n",
       "       pkgupgrade_status  auto_renewal  credits_after_refund  \\\n",
       "14981                  0             0                1389.0   \n",
       "14982                  0             0                   0.0   \n",
       "14983                  0             0                   0.0   \n",
       "14984                  0             0                   0.0   \n",
       "14985                  0             0                   0.0   \n",
       "\n",
       "       isNextYear_Buyer  Label  Score_0  Score_1  \n",
       "14981                 0      1   0.1631   0.8369  \n",
       "14982                 0      0   0.9608   0.0392  \n",
       "14983                 0      0   0.8531   0.1469  \n",
       "14984                 0      0   0.9382   0.0618  \n",
       "14985                 0      0   0.6422   0.3578  \n",
       "\n",
       "[5 rows x 58 columns]"
      ]
     },
     "execution_count": 14,
     "metadata": {},
     "output_type": "execute_result"
    }
   ],
   "source": [
    "new_predictions = predict_model(final_model, data=df_inference, raw_score=True)\n",
    "new_predictions.head()"
   ]
  },
  {
   "cell_type": "code",
   "execution_count": 15,
   "id": "7253ba2d-b37b-4fda-aa3c-0b61a67b3fab",
   "metadata": {},
   "outputs": [
    {
     "data": {
      "text/plain": [
       "0    1687\n",
       "1     731\n",
       "Name: Label, dtype: int64"
      ]
     },
     "execution_count": 15,
     "metadata": {},
     "output_type": "execute_result"
    }
   ],
   "source": [
    "new_predictions['Label'].value_counts()"
   ]
  },
  {
   "cell_type": "markdown",
   "id": "2add324c-f0bb-4fd2-bde1-2bee98d5b8c0",
   "metadata": {},
   "source": [
    "### We can plot the scores using a histogram to see the score distribution for buyers:"
   ]
  },
  {
   "cell_type": "code",
   "execution_count": 29,
   "id": "95e96920-bc9c-4b50-837c-89e392d13449",
   "metadata": {},
   "outputs": [
    {
     "data": {
      "text/plain": [
       "array([[<AxesSubplot:title={'center':'Score_1'}>]], dtype=object)"
      ]
     },
     "execution_count": 29,
     "metadata": {},
     "output_type": "execute_result"
    },
    {
     "data": {
      "image/png": "[encoded data removed]",
      "text/plain": [
       "<Figure size 720x360 with 1 Axes>"
      ]
     },
     "metadata": {},
     "output_type": "display_data"
    }
   ],
   "source": [
    "\n",
    "new_predictions[new_predictions[\"Label\"]==1][[\"Score_1\"]].hist(bins=30, figsize=(10,5), range=[0,1])"
   ]
  },
  {
   "cell_type": "markdown",
   "id": "0f491238-04c7-46ad-af0c-141a0fdedf72",
   "metadata": {},
   "source": [
    "### Let's plot the feature importances to see what features in the model are most predictive:"
   ]
  },
  {
   "cell_type": "code",
   "execution_count": 28,
   "id": "144bd27b-9798-4f8b-a3a3-95298d8e2c01",
   "metadata": {},
   "outputs": [
    {
     "data": {
      "image/png": "[encoded data removed]",
      "text/plain": [
       "<Figure size 800x500 with 1 Axes>"
      ]
     },
     "metadata": {},
     "output_type": "display_data"
    }
   ],
   "source": [
    "plot_model(best_model, plot='feature')"
   ]
  },
  {
   "cell_type": "markdown",
   "id": "6e4ca6b2-6035-4ff9-baa2-a810f0739b17",
   "metadata": {},
   "source": [
    "### Using a confusion matrix can also help us understand where the model is predicting correctly and where it's missing:"
   ]
  },
  {
   "cell_type": "code",
   "execution_count": 18,
   "id": "ce6cb80d-9ee1-49e9-97f3-b9aa67ef4b76",
   "metadata": {},
   "outputs": [
    {
     "data": {
      "image/png": "[encoded data removed]",
      "text/plain": [
       "<Figure size 576x396 with 1 Axes>"
      ]
     },
     "metadata": {},
     "output_type": "display_data"
    }
   ],
   "source": [
    "plot_model(best_model, plot='confusion_matrix')"
   ]
  },
  {
   "cell_type": "markdown",
   "id": "553decfe-1e2a-45f4-a48a-c04ac6d0a26c",
   "metadata": {},
   "source": [
    "### Let's also visualize the AUC (area under the curve) to get a sense of how our model is performing:"
   ]
  },
  {
   "cell_type": "code",
   "execution_count": 19,
   "id": "d549c83b-79df-401c-b3a8-0a32510105f8",
   "metadata": {},
   "outputs": [
    {
     "data": {
      "image/png": "[encoded data removed]",
      "text/plain": [
       "<Figure size 576x396 with 1 Axes>"
      ]
     },
     "metadata": {},
     "output_type": "display_data"
    }
   ],
   "source": [
    "plot_model(best_model, plot=\"auc\")"
   ]
  },
  {
   "cell_type": "markdown",
   "id": "71f34d81-878f-489e-be42-921567784974",
   "metadata": {},
   "source": [
    "## Observations\n",
    "\n",
    "* The model predictions are ~ 75% accurate \n",
    "\n",
    "* The Full Season ticket buyers fall into a Normal Distribution, as is expected.\n",
    "\n",
    "* distToVenue is the third most important feature, with a variable importance ~ 75%\n",
    "\n",
    "* The model made 3x as many correct predictions vs. incorrect predictions"
   ]
  },
  {
   "cell_type": "markdown",
   "id": "998e2ae8-33b0-4783-8dde-5d442b68d39e",
   "metadata": {},
   "source": [
    "## Conclusions\n",
    "\n",
    "The distToVenue feature did prove to be a useful feature for model predictions. The next experiment will focus on altering the distToVenue feature to understand the impact (or non-impact) on model performance (i.e. does adding distance to the feature improve accuracy or have little to no impact)."
   ]
  }
 ],
 "metadata": {
  "kernelspec": {
   "display_name": "Python 3 (ipykernel)",
   "language": "python",
   "name": "python3"
  },
  "language_info": {
   "codemirror_mode": {
    "name": "ipython",
    "version": 3
   },
   "file_extension": ".py",
   "mimetype": "text/x-python",
   "name": "python",
   "nbconvert_exporter": "python",
   "pygments_lexer": "ipython3",
   "version": "3.7.10"
  }
 },
 "nbformat": 4,
 "nbformat_minor": 5
}
