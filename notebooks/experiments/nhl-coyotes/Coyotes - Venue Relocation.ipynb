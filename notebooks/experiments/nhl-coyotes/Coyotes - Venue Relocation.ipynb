{
 "cells": [
  {
   "cell_type": "markdown",
   "id": "6ee08766-25fd-4da1-91b8-b0c3e74db588",
   "metadata": {},
   "source": [
    "# Arizona Coyotes - Venue Relocation\n",
    "* StelllarAlgo Data Science\n",
    "* Ryan Kazmerik & Nakisa Rad\n",
    "* Mar 11, 2022"
   ]
  },
  {
   "cell_type": "markdown",
   "id": "39108c8d-2e9f-4759-ade2-83071038dc56",
   "metadata": {},
   "source": [
    "## Hypothesis\n",
    "With the Coyotes undergoing a venue relocation, we think that the distToVenue feature could have a significant impact on package buyers. This notebook will measure the importance of the distToVenue (distance to venue) feature according to the SA product propensity model"
   ]
  },
  {
   "cell_type": "markdown",
   "id": "28142011-1f32-4cc7-816b-a6dae6f70c8c",
   "metadata": {},
   "source": [
    "## Experiment\n",
    "This section details our experiment including querying data, data transformations, feature selection and modelling."
   ]
  },
  {
   "cell_type": "code",
   "execution_count": 1,
   "id": "4c533efd-600e-4bce-8203-faffbddfa700",
   "metadata": {},
   "outputs": [],
   "source": [
    "import getpass\n",
    "import pyodbc\n",
    "import pandas as pd\n",
    "import matplotlib.pyplot as plt\n",
    "import warnings\n",
    "\n",
    "from pycaret.classification import *\n",
    "\n",
    "warnings.filterwarnings('ignore')\n",
    "%config InlineBackend.figure_format = 'retina'"
   ]
  },
  {
   "cell_type": "markdown",
   "id": "b64ae7d5-84af-4915-bd13-1dd9d17098a3",
   "metadata": {},
   "source": [
    "### Let's connect to MSSQL and run a stored proc to get our dataset:"
   ]
  },
  {
   "cell_type": "code",
   "execution_count": 2,
   "id": "ae561eb4-f419-4d46-b5e0-12fac9b10db8",
   "metadata": {},
   "outputs": [
    {
     "name": "stdin",
     "output_type": "stream",
     "text": [
      "Enter your password ··················\n"
     ]
    }
   ],
   "source": [
    "# connect to SQL Server.\n",
    "SERVER = '34.206.73.189' \n",
    "DATABASE = 'datascience' \n",
    "USERNAME = 'dsAdminWrite' \n",
    "PASSWORD = getpass.getpass(prompt='Enter your password')\n",
    "CNXN = pyodbc.connect('DRIVER={ODBC Driver 17 for SQL Server};SERVER='+SERVER+';DATABASE='+DATABASE+';UID='+USERNAME+';PWD='+ PASSWORD)"
   ]
  },
  {
   "cell_type": "code",
   "execution_count": null,
   "id": "af1afe7d-a35b-494b-88f3-980fb0e3da30",
   "metadata": {},
   "outputs": [],
   "source": [
    "#lkupclientid = 55 # coyotes\n",
    "#cursor = CNXN.cursor()\n",
    "\n",
    "#storedProc = (\n",
    "#    f\"\"\"Exec [stlrCoyotes].[ds].[getRetentionScoringModelData] {lkupclientid}\"\"\"\n",
    "#)\n",
    "\n",
    "#df = pd.read_sql(storedProc, CNXN)\n",
    "\n",
    "# apply some data transformations\n",
    "#df[\"year\"] = pd.to_numeric(df[\"year\"])\n",
    "\n",
    "#CNXN.commit()\n",
    "#cursor.close()\n",
    "\n",
    "#df.shape"
   ]
  },
  {
   "cell_type": "code",
   "execution_count": 3,
   "id": "68263b29-256e-4eaf-a8b7-7db9f13e4b4f",
   "metadata": {},
   "outputs": [
    {
     "name": "stdout",
     "output_type": "stream",
     "text": [
      "<class 'pandas.core.frame.DataFrame'>\n",
      "RangeIndex: 333265 entries, 0 to 333264\n",
      "Data columns (total 10 columns):\n",
      " #   Column               Non-Null Count   Dtype  \n",
      "---  ------               --------------   -----  \n",
      " 0   dimCustomerMasterId  333265 non-null  int64  \n",
      " 1   distance             333265 non-null  float64\n",
      " 2   seasonYear           333265 non-null  int64  \n",
      " 3   events_prior         333265 non-null  int64  \n",
      " 4   attended_prior       333265 non-null  int64  \n",
      " 5   events_last          333265 non-null  int64  \n",
      " 6   attended_last        333265 non-null  int64  \n",
      " 7   tenure               333265 non-null  int64  \n",
      " 8   atp_last             333265 non-null  float64\n",
      " 9   product_current      333265 non-null  object \n",
      "dtypes: float64(2), int64(7), object(1)\n",
      "memory usage: 25.4+ MB\n"
     ]
    }
   ],
   "source": [
    "df = pd.read_csv(\"./2022 Coyotes Product Propensity Training Data.csv\")\n",
    "\n",
    "df.info()"
   ]
  },
  {
   "cell_type": "markdown",
   "id": "ab40da92-72a7-49c1-9829-ed3805a39719",
   "metadata": {},
   "source": [
    "### Let's specify the default SA features for our model:"
   ]
  },
  {
   "cell_type": "code",
   "execution_count": 4,
   "id": "788f1273-8b7a-46bd-a099-1a471feeacc5",
   "metadata": {},
   "outputs": [
    {
     "name": "stdout",
     "output_type": "stream",
     "text": [
      "Data for Modeling: (187008, 10)\n",
      "Unseen Data For Predictions: (33001, 10)\n",
      "\n"
     ]
    }
   ],
   "source": [
    "# choose the features for the stellar base retention model\n",
    "features = [\n",
    "    \"atp_last\", \n",
    "    \"attended_last\", \n",
    "    \"attended_prior\", \n",
    "    \"dimCustomerMasterId\",\n",
    "    \"distance\", \n",
    "    \"events_prior\", \n",
    "    \"events_last\", \n",
    "    \"product_current\", \n",
    "    \"seasonYear\",\n",
    "    \"tenure\"\n",
    "]\n",
    "\n",
    "# copy your main dataframe\n",
    "df_dataset = df\n",
    "\n",
    "# choose the features & train year & test year\n",
    "df_dataset = df_dataset[features]\n",
    "df_dataset = df_dataset.loc[df_dataset[\"seasonYear\"] <= 2019]\n",
    "\n",
    "df_train = df_dataset.sample(frac=0.85, random_state=786)\n",
    "df_eval = df_dataset.drop(df_train.index)\n",
    "\n",
    "df_train.reset_index(drop=True, inplace=True)\n",
    "df_eval.reset_index(drop=True, inplace=True)\n",
    "\n",
    "# print out the number of records for training and eval\n",
    "print('Data for Modeling: ' + str(df_train.shape))\n",
    "print('Unseen Data For Predictions: ' + str(df_eval.shape), end=\"\\n\\n\")"
   ]
  },
  {
   "cell_type": "code",
   "execution_count": null,
   "id": "7739556d-d1c2-420d-9f44-a468e8ebb471",
   "metadata": {},
   "outputs": [],
   "source": [
    "df_train.head()"
   ]
  },
  {
   "cell_type": "markdown",
   "id": "4f2da06d-9015-49fd-89b3-956c2ebf66e9",
   "metadata": {},
   "source": [
    "### Now we can model the data using a multiclass classification prediction for the isnextyear_buyer field to see how likely a customer is to re-purchase."
   ]
  },
  {
   "cell_type": "code",
   "execution_count": 11,
   "id": "23a69cdc-b3ec-48c8-9ce5-29f617779389",
   "metadata": {},
   "outputs": [],
   "source": [
    "setup(\n",
    "    data= df_train, \n",
    "    fix_imbalance=True,\n",
    "    silent=True,\n",
    "    ignore_features=[\"dimCustomerMasterId\",\"seasonYear\"],\n",
    "    numeric_features=[\n",
    "        \"atp_last\",\n",
    "        \"attended_last\",\n",
    "        \"attended_prior\",\n",
    "        \"distance\",\n",
    "        \"events_prior\",\n",
    "        \"events_last\",\n",
    "        \"tenure\"\n",
    "    ],\n",
    "    target=\"product_current\", \n",
    "    train_size = 0.85,\n",
    "    verbose=False\n",
    ");"
   ]
  },
  {
   "cell_type": "code",
   "execution_count": null,
   "id": "ef2db9d2-02c2-45c0-b6bb-5cad42c373ce",
   "metadata": {},
   "outputs": [
    {
     "data": {
      "application/vnd.jupyter.widget-view+json": {
       "model_id": "2d5b8e262d234d14864c3bfb88adde4f",
       "version_major": 2,
       "version_minor": 0
      },
      "text/plain": [
       "IntProgress(value=0, description='Processing: ', max=9)"
      ]
     },
     "metadata": {},
     "output_type": "display_data"
    },
    {
     "data": {
      "text/html": [
       "<div>\n",
       "<style scoped>\n",
       "    .dataframe tbody tr th:only-of-type {\n",
       "        vertical-align: middle;\n",
       "    }\n",
       "\n",
       "    .dataframe tbody tr th {\n",
       "        vertical-align: top;\n",
       "    }\n",
       "\n",
       "    .dataframe thead th {\n",
       "        text-align: right;\n",
       "    }\n",
       "</style>\n",
       "<table border=\"1\" class=\"dataframe\">\n",
       "  <thead>\n",
       "    <tr style=\"text-align: right;\">\n",
       "      <th></th>\n",
       "      <th></th>\n",
       "      <th></th>\n",
       "    </tr>\n",
       "    <tr>\n",
       "      <th></th>\n",
       "      <th></th>\n",
       "      <th></th>\n",
       "    </tr>\n",
       "  </thead>\n",
       "  <tbody>\n",
       "    <tr>\n",
       "      <th>Initiated</th>\n",
       "      <td>. . . . . . . . . . . . . . . . . .</td>\n",
       "      <td>08:52:04</td>\n",
       "    </tr>\n",
       "    <tr>\n",
       "      <th>Status</th>\n",
       "      <td>. . . . . . . . . . . . . . . . . .</td>\n",
       "      <td>Fitting 10 Folds</td>\n",
       "    </tr>\n",
       "    <tr>\n",
       "      <th>Estimator</th>\n",
       "      <td>. . . . . . . . . . . . . . . . . .</td>\n",
       "      <td>Gradient Boosting Classifier</td>\n",
       "    </tr>\n",
       "  </tbody>\n",
       "</table>\n",
       "</div>"
      ],
      "text/plain": [
       "                                                                            \n",
       "                                                                            \n",
       "Initiated  . . . . . . . . . . . . . . . . . .                      08:52:04\n",
       "Status     . . . . . . . . . . . . . . . . . .              Fitting 10 Folds\n",
       "Estimator  . . . . . . . . . . . . . . . . . .  Gradient Boosting Classifier"
      ]
     },
     "metadata": {},
     "output_type": "display_data"
    },
    {
     "data": {
      "text/html": [
       "<div>\n",
       "<style scoped>\n",
       "    .dataframe tbody tr th:only-of-type {\n",
       "        vertical-align: middle;\n",
       "    }\n",
       "\n",
       "    .dataframe tbody tr th {\n",
       "        vertical-align: top;\n",
       "    }\n",
       "\n",
       "    .dataframe thead th {\n",
       "        text-align: right;\n",
       "    }\n",
       "</style>\n",
       "<table border=\"1\" class=\"dataframe\">\n",
       "  <thead>\n",
       "    <tr style=\"text-align: right;\">\n",
       "      <th></th>\n",
       "      <th>Model</th>\n",
       "      <th>Accuracy</th>\n",
       "      <th>AUC</th>\n",
       "      <th>Recall</th>\n",
       "      <th>Prec.</th>\n",
       "      <th>F1</th>\n",
       "      <th>Kappa</th>\n",
       "      <th>MCC</th>\n",
       "      <th>TT (Sec)</th>\n",
       "    </tr>\n",
       "  </thead>\n",
       "  <tbody>\n",
       "  </tbody>\n",
       "</table>\n",
       "</div>"
      ],
      "text/plain": [
       "Empty DataFrame\n",
       "Columns: [Model, Accuracy, AUC, Recall, Prec., F1, Kappa, MCC, TT (Sec)]\n",
       "Index: []"
      ]
     },
     "metadata": {},
     "output_type": "display_data"
    }
   ],
   "source": [
    "model_matrix = compare_models(\n",
    "    fold=10,\n",
    "    include=[\"gbc\"]\n",
    ")"
   ]
  },
  {
   "cell_type": "markdown",
   "id": "2cd3cab6-1ea4-46fc-a572-d368f75cd6c4",
   "metadata": {},
   "source": [
    "### Now that we have the best performing model, we can finalize it:"
   ]
  },
  {
   "cell_type": "code",
   "execution_count": null,
   "id": "12680f97-98bf-4bfd-9b06-152983a45759",
   "metadata": {},
   "outputs": [],
   "source": [
    "best_model = create_model(\n",
    "    model_matrix, \n",
    "    fold= 10\n",
    ")"
   ]
  },
  {
   "cell_type": "markdown",
   "id": "180ecb91-464c-4fcf-aebf-711b36876d40",
   "metadata": {},
   "source": [
    "### We can see the correlation between the features and the target variable:"
   ]
  },
  {
   "cell_type": "code",
   "execution_count": null,
   "id": "503ce0e1-66ff-434f-9695-fcdb7469ebdb",
   "metadata": {},
   "outputs": [],
   "source": [
    "cor = df.corr()\n",
    "\n",
    "df_correlated = df\n",
    "\n",
    "corr = df_correlated.corr()\n",
    "corr.style.background_gradient(cmap='coolwarm').set_precision(2)"
   ]
  },
  {
   "cell_type": "markdown",
   "id": "01220c23-d4c2-4866-af16-b0a2423458ae",
   "metadata": {},
   "source": [
    "### This plot lists the most important features for a correct prediction made by the model:"
   ]
  },
  {
   "cell_type": "code",
   "execution_count": null,
   "id": "144bd27b-9798-4f8b-a3a3-95298d8e2c01",
   "metadata": {},
   "outputs": [],
   "source": [
    "plot_model(best_model, plot='feature')"
   ]
  },
  {
   "cell_type": "markdown",
   "id": "6e4ca6b2-6035-4ff9-baa2-a810f0739b17",
   "metadata": {
    "tags": []
   },
   "source": [
    "### Using a confusion matrix can also help us understand where the model is predicting correctly and where it's missing:"
   ]
  },
  {
   "cell_type": "code",
   "execution_count": null,
   "id": "ce6cb80d-9ee1-49e9-97f3-b9aa67ef4b76",
   "metadata": {},
   "outputs": [],
   "source": [
    "plot_model(best_model, plot='confusion_matrix')"
   ]
  },
  {
   "cell_type": "markdown",
   "id": "553decfe-1e2a-45f4-a48a-c04ac6d0a26c",
   "metadata": {},
   "source": [
    "### The AUC curve tells how much the model is capable of distinguishing between classes. The higher the curve, the better the model is at distiguishing classes:"
   ]
  },
  {
   "cell_type": "code",
   "execution_count": null,
   "id": "d549c83b-79df-401c-b3a8-0a32510105f8",
   "metadata": {},
   "outputs": [],
   "source": [
    "plot_model(best_model, plot=\"auc\")"
   ]
  },
  {
   "cell_type": "markdown",
   "id": "19b52ebc-0437-45f3-8dad-9649ff9bbc4f",
   "metadata": {},
   "source": [
    "### Let's load in our evaluation data and get product propensity scores using the model:"
   ]
  },
  {
   "cell_type": "code",
   "execution_count": null,
   "id": "36cf4c4f-78c5-4ecc-80d3-bc33e2523861",
   "metadata": {},
   "outputs": [],
   "source": [
    "df_inference = predict_model(best_model, data=df_eval, raw_score=True)\n",
    "df_inference.head()"
   ]
  },
  {
   "cell_type": "markdown",
   "id": "61e2e517-c97d-4b94-a8c0-606dabba18ab",
   "metadata": {},
   "source": [
    "### Included are some metrics on how many packages would be purchased:"
   ]
  },
  {
   "cell_type": "code",
   "execution_count": null,
   "id": "afd380bc-1c48-4116-88ea-a81a8d123a92",
   "metadata": {},
   "outputs": [],
   "source": [
    "df_inference[\"Label\"].value_counts()"
   ]
  },
  {
   "cell_type": "markdown",
   "id": "71f34d81-878f-489e-be42-921567784974",
   "metadata": {},
   "source": [
    "## Observations"
   ]
  },
  {
   "cell_type": "code",
   "execution_count": null,
   "id": "011ba5e0-dbf3-4ebf-b5fa-4fd1657f0e1c",
   "metadata": {},
   "outputs": [],
   "source": []
  }
 ],
 "metadata": {
  "kernelspec": {
   "display_name": "Python 3 (ipykernel)",
   "language": "python",
   "name": "python3"
  },
  "language_info": {
   "codemirror_mode": {
    "name": "ipython",
    "version": 3
   },
   "file_extension": ".py",
   "mimetype": "text/x-python",
   "name": "python",
   "nbconvert_exporter": "python",
   "pygments_lexer": "ipython3",
   "version": "3.7.10"
  }
 },
 "nbformat": 4,
 "nbformat_minor": 5
}
