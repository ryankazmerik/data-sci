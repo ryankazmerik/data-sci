{
 "cells": [
  {
   "cell_type": "markdown",
   "id": "9575d83e",
   "metadata": {},
   "source": [
    "# Florida Panthers Feature Selection\n",
    "* StellarAlgo Data Science\n",
    "* Ryan Kazmerik & Nakisa Rad\n",
    "* October 15, 2021"
   ]
  },
  {
   "cell_type": "markdown",
   "id": "62d7c5a2",
   "metadata": {},
   "source": [
    "## Hypothesis\n",
    "Write about the hunch you have and why you're running this experiment."
   ]
  },
  {
   "cell_type": "markdown",
   "id": "c46403a5",
   "metadata": {},
   "source": [
    "## Experiment\n",
    "Document the experiment including selecting data, data transformations, feature engineering and modelling"
   ]
  },
  {
   "cell_type": "code",
   "execution_count": 1,
   "id": "987d49a1-4759-4f18-8ea4-a4eb39220658",
   "metadata": {},
   "outputs": [],
   "source": [
    "import getpass\n",
    "import pyodbc\n",
    "import pandas as pd\n",
    "import warnings\n",
    "\n",
    "from pycaret.classification import *\n",
    "\n",
    "warnings.filterwarnings('ignore')"
   ]
  },
  {
   "cell_type": "markdown",
   "id": "9871ef74-0f15-4ac0-b238-991a1b7588c4",
   "metadata": {},
   "source": [
    "### Let's connect to MSSQL and run a stored proc to get our dataset:"
   ]
  },
  {
   "cell_type": "code",
   "execution_count": 6,
   "id": "1d53bb02-3685-4cee-9246-7a9444b3f5f2",
   "metadata": {},
   "outputs": [
    {
     "name": "stdin",
     "output_type": "stream",
     "text": [
      "Enter your password ··················\n"
     ]
    }
   ],
   "source": [
    "SERVER = '34.206.73.189' \n",
    "DATABASE = 'datascience' \n",
    "USERNAME = 'dsAdminWrite' \n",
    "PASSWORD = getpass.getpass(prompt='Enter your password')\n",
    "CNXN = pyodbc.connect('DRIVER={ODBC Driver 17 for SQL Server};SERVER='+SERVER+';DATABASE='+DATABASE+';UID='+USERNAME+';PWD='+ PASSWORD)"
   ]
  },
  {
   "cell_type": "code",
   "execution_count": 7,
   "id": "2691f9e5-334a-483a-87bf-7083e4e14f17",
   "metadata": {},
   "outputs": [
    {
     "name": "stdout",
     "output_type": "stream",
     "text": [
      "<class 'pandas.core.frame.DataFrame'>\n",
      "RangeIndex: 14067 entries, 0 to 14066\n",
      "Data columns (total 55 columns):\n",
      " #   Column                    Non-Null Count  Dtype  \n",
      "---  ------                    --------------  -----  \n",
      " 0   lkupClientId              14067 non-null  int64  \n",
      " 1   dimCustomerMasterId       14067 non-null  int64  \n",
      " 2   customerNumber            14067 non-null  object \n",
      " 3   year                      14067 non-null  object \n",
      " 4   productGrouping           14067 non-null  object \n",
      " 5   totalSpent                14067 non-null  float64\n",
      " 6   recentDate                14067 non-null  object \n",
      " 7   attendancePercent         14067 non-null  float64\n",
      " 8   renewedBeforeDays         14067 non-null  int64  \n",
      " 9   isBuyer                   14067 non-null  object \n",
      " 10  source_tenure             14067 non-null  int64  \n",
      " 11  tenure                    14067 non-null  int64  \n",
      " 12  distToVenue               0 non-null      object \n",
      " 13  totalGames                14067 non-null  int64  \n",
      " 14  recency                   14067 non-null  int64  \n",
      " 15  missed_games_1            14067 non-null  int64  \n",
      " 16  missed_games_2            14067 non-null  int64  \n",
      " 17  missed_games_over_2       14067 non-null  int64  \n",
      " 18  click_link                14067 non-null  int64  \n",
      " 19  fill_out_form             14067 non-null  int64  \n",
      " 20  open_email                14067 non-null  int64  \n",
      " 21  send_email                14067 non-null  int64  \n",
      " 22  unsubscribe_email         14067 non-null  int64  \n",
      " 23  openToSendRatio           14067 non-null  float64\n",
      " 24  clickToSendRatio          14067 non-null  float64\n",
      " 25  clickToOpenRatio          14067 non-null  float64\n",
      " 26  posting_records           14067 non-null  int64  \n",
      " 27  resale_records            14067 non-null  int64  \n",
      " 28  resale_atp                14067 non-null  float64\n",
      " 29  forward_records           14067 non-null  int64  \n",
      " 30  cancel_records            14067 non-null  int64  \n",
      " 31  email                     14067 non-null  int64  \n",
      " 32  inbound_email             14067 non-null  int64  \n",
      " 33  inbound_phonecall         14067 non-null  int64  \n",
      " 34  inperson_contact          14067 non-null  int64  \n",
      " 35  internal_note             14067 non-null  int64  \n",
      " 36  left_message              14067 non-null  int64  \n",
      " 37  outbound_email            14067 non-null  int64  \n",
      " 38  outbound_phonecall        14067 non-null  int64  \n",
      " 39  phonecall                 14067 non-null  int64  \n",
      " 40  text                      14067 non-null  int64  \n",
      " 41  unknown                   14067 non-null  int64  \n",
      " 42  gender                    14067 non-null  object \n",
      " 43  childrenPresentInHH       14067 non-null  int64  \n",
      " 44  maritalStatus             14067 non-null  int64  \n",
      " 45  lengthOfResidenceInYrs    0 non-null      object \n",
      " 46  annualHHIncome            0 non-null      object \n",
      " 47  education                 0 non-null      object \n",
      " 48  urbanicity                0 non-null      object \n",
      " 49  isnextyear_buyer          0 non-null      object \n",
      " 50  isnextyear_samepkg_buyer  0 non-null      object \n",
      " 51  pkgupgrade_status         0 non-null      object \n",
      " 52  auto_renewal              0 non-null      object \n",
      " 53  credits_after_refund      14067 non-null  float64\n",
      " 54  isNextYear_Buyer          14067 non-null  int64  \n",
      "dtypes: float64(7), int64(33), object(15)\n",
      "memory usage: 5.9+ MB\n"
     ]
    }
   ],
   "source": [
    "lkupclientid = 93 # Florida Panthers\n",
    "\n",
    "cursor = CNXN.cursor()\n",
    "\n",
    "storedProc = (\n",
    "    f\"\"\"Exec [stlrNHLPanthers].[ds].[getRetentionScoringModelData] {lkupclientid}\"\"\"\n",
    ")\n",
    "\n",
    "df = pd.read_sql(storedProc, CNXN)\n",
    "\n",
    "CNXN.commit()\n",
    "cursor.close()\n",
    "\n",
    "df.head()\n",
    "df.info()"
   ]
  },
  {
   "cell_type": "markdown",
   "id": "1f7193e3-4bd2-4112-b446-8a1144cd988a",
   "metadata": {},
   "source": [
    "### Let's drop the features that have lots of null values:"
   ]
  },
  {
   "cell_type": "code",
   "execution_count": 4,
   "id": "0b9668cc-80d6-4ef8-b160-5a06ad0653a4",
   "metadata": {},
   "outputs": [
    {
     "name": "stdout",
     "output_type": "stream",
     "text": [
      "<class 'pandas.core.frame.DataFrame'>\n",
      "RangeIndex: 15391 entries, 0 to 15390\n",
      "Data columns (total 46 columns):\n",
      " #   Column                Non-Null Count  Dtype  \n",
      "---  ------                --------------  -----  \n",
      " 0   lkupClientId          15391 non-null  int64  \n",
      " 1   dimCustomerMasterId   15391 non-null  int64  \n",
      " 2   customerNumber        15391 non-null  object \n",
      " 3   year                  15391 non-null  object \n",
      " 4   productGrouping       15391 non-null  object \n",
      " 5   totalSpent            15391 non-null  float64\n",
      " 6   recentDate            15391 non-null  object \n",
      " 7   attendancePercent     15391 non-null  float64\n",
      " 8   renewedBeforeDays     15391 non-null  int64  \n",
      " 9   isBuyer               15391 non-null  object \n",
      " 10  source_tenure         15391 non-null  int64  \n",
      " 11  tenure                15391 non-null  int64  \n",
      " 12  totalGames            15391 non-null  int64  \n",
      " 13  recency               15391 non-null  int64  \n",
      " 14  missed_games_1        15391 non-null  int64  \n",
      " 15  missed_games_2        15391 non-null  int64  \n",
      " 16  missed_games_over_2   15391 non-null  int64  \n",
      " 17  click_link            15391 non-null  int64  \n",
      " 18  fill_out_form         15391 non-null  int64  \n",
      " 19  open_email            15391 non-null  int64  \n",
      " 20  send_email            15391 non-null  int64  \n",
      " 21  unsubscribe_email     15391 non-null  int64  \n",
      " 22  openToSendRatio       15391 non-null  float64\n",
      " 23  clickToSendRatio      15391 non-null  float64\n",
      " 24  clickToOpenRatio      15391 non-null  float64\n",
      " 25  posting_records       15391 non-null  int64  \n",
      " 26  resale_records        15391 non-null  int64  \n",
      " 27  resale_atp            15391 non-null  float64\n",
      " 28  forward_records       15391 non-null  int64  \n",
      " 29  cancel_records        15391 non-null  int64  \n",
      " 30  email                 15391 non-null  int64  \n",
      " 31  inbound_email         15391 non-null  int64  \n",
      " 32  inbound_phonecall     15391 non-null  int64  \n",
      " 33  inperson_contact      15391 non-null  int64  \n",
      " 34  internal_note         15391 non-null  int64  \n",
      " 35  left_message          15391 non-null  int64  \n",
      " 36  outbound_email        15391 non-null  int64  \n",
      " 37  outbound_phonecall    15391 non-null  int64  \n",
      " 38  phonecall             15391 non-null  int64  \n",
      " 39  text                  15391 non-null  int64  \n",
      " 40  unknown               15391 non-null  int64  \n",
      " 41  gender                15391 non-null  object \n",
      " 42  childrenPresentInHH   15391 non-null  int64  \n",
      " 43  maritalStatus         15391 non-null  int64  \n",
      " 44  credits_after_refund  15391 non-null  float64\n",
      " 45  isNextYear_Buyer      15391 non-null  int64  \n",
      "dtypes: float64(7), int64(33), object(6)\n",
      "memory usage: 5.4+ MB\n"
     ]
    }
   ],
   "source": [
    "df.drop([\n",
    "    'distToVenue', \n",
    "    'lengthOfResidenceInYrs',\n",
    "    'annualHHIncome',\n",
    "    'education',\n",
    "    'urbanicity',\n",
    "    'isnextyear_buyer',\n",
    "    'isnextyear_samepkg_buyer',\n",
    "    'pkgupgrade_status',\n",
    "    'auto_renewal'],\n",
    "    axis=1, \n",
    "    inplace=True\n",
    ")\n",
    "\n",
    "df.info()"
   ]
  },
  {
   "cell_type": "markdown",
   "id": "e577911a-7373-4969-b5c9-539d0e5de462",
   "metadata": {},
   "source": [
    "### In order to compare two sets of features, we need to create some datasets for training and evalution:"
   ]
  },
  {
   "cell_type": "code",
   "execution_count": 8,
   "id": "73d5b449-dc92-4c2e-9bd1-43c38b3afe2e",
   "metadata": {},
   "outputs": [
    {
     "name": "stdout",
     "output_type": "stream",
     "text": [
      "Data for Modeling (A Class): (12660, 55)\n",
      "Unseen Data For Predictions: (1407, 55)\n",
      "Data for Modeling (A Class): (12660, 55)\n",
      "Unseen Data For Predictions: (1407, 55)\n"
     ]
    }
   ],
   "source": [
    "df_train_A = df.sample(frac=0.9, random_state=786)\n",
    "df_train_B = df.sample(frac=0.9, random_state=786)\n",
    "\n",
    "df_eval_A = df.drop(df_train_A.index)\n",
    "df_eval_B = df.drop(df_train_B.index)\n",
    "\n",
    "print('Data for Modeling (A Class): ' + str(df_train_A.shape))\n",
    "print('Unseen Data For Predictions: ' + str(df_eval_A.shape))\n",
    "\n",
    "print('Data for Modeling (A Class): ' + str(df_train_A.shape))\n",
    "print('Unseen Data For Predictions: ' + str(df_eval_A.shape))"
   ]
  },
  {
   "cell_type": "markdown",
   "id": "22e76df0",
   "metadata": {},
   "source": [
    "### In order to compare two sets of features, we need to create some datasets for training and evalution:## Observations\n",
    "Here you can document some ideas on the results from above"
   ]
  },
  {
   "cell_type": "markdown",
   "id": "abda0dfd",
   "metadata": {},
   "source": [
    "## Conclusions\n",
    "Here you can talk about next steps, did the experiment work? If yes, what to do next? If no, why?"
   ]
  }
 ],
 "metadata": {
  "kernelspec": {
   "display_name": "Python 3 (ipykernel)",
   "language": "python",
   "name": "python3"
  },
  "language_info": {
   "codemirror_mode": {
    "name": "ipython",
    "version": 3
   },
   "file_extension": ".py",
   "mimetype": "text/x-python",
   "name": "python",
   "nbconvert_exporter": "python",
   "pygments_lexer": "ipython3",
   "version": "3.7.10"
  }
 },
 "nbformat": 4,
 "nbformat_minor": 5
}
