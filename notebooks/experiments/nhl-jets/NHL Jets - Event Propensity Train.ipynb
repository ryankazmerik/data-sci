{
 "cells": [
  {
   "cell_type": "markdown",
   "id": "d7b7988b",
   "metadata": {},
   "source": [
    "# NHL Jets - Event Propensity - Next Event Buyer Model\n",
    "* Ryan Kazmerik, Nakisa Rad, Joey Lai, Shawn Sutherland, Matt Bahler, Pat Faith\n",
    "* Mar 03, 2022"
   ]
  },
  {
   "cell_type": "markdown",
   "id": "7865690a",
   "metadata": {},
   "source": [
    "## Hypothesis\n",
    "Each team has different tier (or quality) of games, based on day of the week, time of the season, opponent, etc. We think that by using previous buyer behaviour we can make a prediction on whether the fan will purchase for the next game or not."
   ]
  },
  {
   "cell_type": "markdown",
   "id": "821b419c",
   "metadata": {},
   "source": [
    "## Experiment\n",
    "This section details our experiment including querying data, data transformations, feature selection and modelling."
   ]
  },
  {
   "cell_type": "code",
   "execution_count": 1,
   "id": "8a7c59e4",
   "metadata": {},
   "outputs": [],
   "source": [
    "import boto3\n",
    "import getpass\n",
    "import json\n",
    "import matplotlib.pyplot as plt\n",
    "import pyodbc\n",
    "import pandas as pd\n",
    "import awswrangler as wr\n",
    "import warnings\n",
    "\n",
    "from pycaret.classification import *\n",
    "\n",
    "warnings.filterwarnings('ignore')\n",
    "%config InlineBackend.figure_format = 'retina'"
   ]
  },
  {
   "cell_type": "markdown",
   "id": "bb84cb39",
   "metadata": {},
   "source": [
    "### Let's connect to MSSQL and run a stored proc to get our training dataset:"
   ]
  },
  {
   "cell_type": "code",
   "execution_count": 5,
   "id": "35b582d6",
   "metadata": {},
   "outputs": [
    {
     "name": "stdin",
     "output_type": "stream",
     "text": [
      "Enter your password ··················\n"
     ]
    }
   ],
   "source": [
    "# connect to SQL Server.\n",
    "SERVER = '34.206.73.189' \n",
    "DATABASE = 'datascience' \n",
    "USERNAME = 'dsAdminWrite' \n",
    "PASSWORD = getpass.getpass(prompt='Enter your password')\n",
    "CNXN = pyodbc.connect('DRIVER={ODBC Driver 17 for SQL Server};SERVER='+SERVER+';DATABASE='+DATABASE+';UID='+USERNAME+';PWD='+ PASSWORD)"
   ]
  },
  {
   "cell_type": "code",
   "execution_count": 6,
   "id": "4b40910d",
   "metadata": {},
   "outputs": [
    {
     "data": {
      "text/plain": [
       "(63646, 17)"
      ]
     },
     "execution_count": 6,
     "metadata": {},
     "output_type": "execute_result"
    }
   ],
   "source": [
    "cursor = CNXN.cursor()\n",
    "\n",
    "lkupclientid = 92\n",
    "storedProc = (\n",
    "    f\"\"\"Exec [stlrNHLJets].[ds].[PropensityEventTraining] {lkupclientid}\"\"\"\n",
    ")\n",
    "\n",
    "df = pd.read_sql(storedProc, CNXN)\n",
    "    \n",
    "CNXN.commit()\n",
    "cursor.close()\n",
    "\n",
    "df.shape"
   ]
  },
  {
   "cell_type": "code",
   "execution_count": 64,
   "id": "5bf72420-88b2-4efb-b0f3-b31ae830dbb3",
   "metadata": {},
   "outputs": [
    {
     "data": {
      "text/html": [
       "<div>\n",
       "<style scoped>\n",
       "    .dataframe tbody tr th:only-of-type {\n",
       "        vertical-align: middle;\n",
       "    }\n",
       "\n",
       "    .dataframe tbody tr th {\n",
       "        vertical-align: top;\n",
       "    }\n",
       "\n",
       "    .dataframe thead th {\n",
       "        text-align: right;\n",
       "    }\n",
       "</style>\n",
       "<table border=\"1\" class=\"dataframe\">\n",
       "  <thead>\n",
       "    <tr style=\"text-align: right;\">\n",
       "      <th></th>\n",
       "      <th>daysOut</th>\n",
       "      <th>minDaysOut</th>\n",
       "      <th>maxDaysOut</th>\n",
       "      <th>dimCustomerMasterId</th>\n",
       "      <th>recent_openRate</th>\n",
       "      <th>recent_clickRate</th>\n",
       "      <th>eventDate</th>\n",
       "      <th>eventName</th>\n",
       "      <th>inMarket</th>\n",
       "      <th>distanceToVenue</th>\n",
       "      <th>tenure</th>\n",
       "      <th>did_purchase</th>\n",
       "      <th>events_purchased</th>\n",
       "      <th>frequency_opponent</th>\n",
       "      <th>frequency_eventDay</th>\n",
       "      <th>frequency_eventTime</th>\n",
       "      <th>count_merchOwned</th>\n",
       "    </tr>\n",
       "  </thead>\n",
       "  <tbody>\n",
       "    <tr>\n",
       "      <th>0</th>\n",
       "      <td>1 to 3 Days Out</td>\n",
       "      <td>1</td>\n",
       "      <td>4.0</td>\n",
       "      <td>86</td>\n",
       "      <td>0.0</td>\n",
       "      <td>0.0</td>\n",
       "      <td>2017-10-20</td>\n",
       "      <td>20171020 - Minnesota Wild</td>\n",
       "      <td>False</td>\n",
       "      <td>606.79</td>\n",
       "      <td>208</td>\n",
       "      <td>1</td>\n",
       "      <td>10</td>\n",
       "      <td>0.0</td>\n",
       "      <td>0.000000</td>\n",
       "      <td>0.000000</td>\n",
       "      <td>0</td>\n",
       "    </tr>\n",
       "    <tr>\n",
       "      <th>1</th>\n",
       "      <td>1 to 3 Days Out</td>\n",
       "      <td>1</td>\n",
       "      <td>4.0</td>\n",
       "      <td>157</td>\n",
       "      <td>0.0</td>\n",
       "      <td>0.0</td>\n",
       "      <td>2013-11-18</td>\n",
       "      <td>20131118 - Calgary Flames</td>\n",
       "      <td>False</td>\n",
       "      <td>189.20</td>\n",
       "      <td>58</td>\n",
       "      <td>0</td>\n",
       "      <td>14</td>\n",
       "      <td>0.0</td>\n",
       "      <td>0.000000</td>\n",
       "      <td>0.076923</td>\n",
       "      <td>0</td>\n",
       "    </tr>\n",
       "    <tr>\n",
       "      <th>2</th>\n",
       "      <td>1 to 3 Days Out</td>\n",
       "      <td>1</td>\n",
       "      <td>4.0</td>\n",
       "      <td>235</td>\n",
       "      <td>0.0</td>\n",
       "      <td>0.0</td>\n",
       "      <td>2019-10-15</td>\n",
       "      <td>20191015 - Arizona Coyotes</td>\n",
       "      <td>True</td>\n",
       "      <td>6.97</td>\n",
       "      <td>2135</td>\n",
       "      <td>0</td>\n",
       "      <td>253</td>\n",
       "      <td>0.0</td>\n",
       "      <td>0.000000</td>\n",
       "      <td>0.000000</td>\n",
       "      <td>0</td>\n",
       "    </tr>\n",
       "    <tr>\n",
       "      <th>3</th>\n",
       "      <td>1 to 3 Days Out</td>\n",
       "      <td>1</td>\n",
       "      <td>4.0</td>\n",
       "      <td>659</td>\n",
       "      <td>0.0</td>\n",
       "      <td>0.0</td>\n",
       "      <td>2019-02-05</td>\n",
       "      <td>20190205 - San Jose Sharks</td>\n",
       "      <td>True</td>\n",
       "      <td>106.44</td>\n",
       "      <td>1520</td>\n",
       "      <td>0</td>\n",
       "      <td>193</td>\n",
       "      <td>0.0</td>\n",
       "      <td>0.000000</td>\n",
       "      <td>0.005780</td>\n",
       "      <td>0</td>\n",
       "    </tr>\n",
       "    <tr>\n",
       "      <th>4</th>\n",
       "      <td>1 to 3 Days Out</td>\n",
       "      <td>1</td>\n",
       "      <td>4.0</td>\n",
       "      <td>1165</td>\n",
       "      <td>0.0</td>\n",
       "      <td>0.0</td>\n",
       "      <td>2015-12-27</td>\n",
       "      <td>20151227 - Pittsburgh Penguins</td>\n",
       "      <td>False</td>\n",
       "      <td>189.20</td>\n",
       "      <td>464</td>\n",
       "      <td>0</td>\n",
       "      <td>64</td>\n",
       "      <td>0.0</td>\n",
       "      <td>0.090909</td>\n",
       "      <td>0.018182</td>\n",
       "      <td>0</td>\n",
       "    </tr>\n",
       "  </tbody>\n",
       "</table>\n",
       "</div>"
      ],
      "text/plain": [
       "           daysOut  minDaysOut  maxDaysOut  dimCustomerMasterId  \\\n",
       "0  1 to 3 Days Out           1         4.0                   86   \n",
       "1  1 to 3 Days Out           1         4.0                  157   \n",
       "2  1 to 3 Days Out           1         4.0                  235   \n",
       "3  1 to 3 Days Out           1         4.0                  659   \n",
       "4  1 to 3 Days Out           1         4.0                 1165   \n",
       "\n",
       "   recent_openRate  recent_clickRate  eventDate  \\\n",
       "0              0.0               0.0 2017-10-20   \n",
       "1              0.0               0.0 2013-11-18   \n",
       "2              0.0               0.0 2019-10-15   \n",
       "3              0.0               0.0 2019-02-05   \n",
       "4              0.0               0.0 2015-12-27   \n",
       "\n",
       "                        eventName inMarket  distanceToVenue  tenure  \\\n",
       "0       20171020 - Minnesota Wild    False           606.79     208   \n",
       "1       20131118 - Calgary Flames    False           189.20      58   \n",
       "2      20191015 - Arizona Coyotes     True             6.97    2135   \n",
       "3      20190205 - San Jose Sharks     True           106.44    1520   \n",
       "4  20151227 - Pittsburgh Penguins    False           189.20     464   \n",
       "\n",
       "   did_purchase  events_purchased  frequency_opponent  frequency_eventDay  \\\n",
       "0             1                10                 0.0            0.000000   \n",
       "1             0                14                 0.0            0.000000   \n",
       "2             0               253                 0.0            0.000000   \n",
       "3             0               193                 0.0            0.000000   \n",
       "4             0                64                 0.0            0.090909   \n",
       "\n",
       "   frequency_eventTime  count_merchOwned  \n",
       "0             0.000000                 0  \n",
       "1             0.076923                 0  \n",
       "2             0.000000                 0  \n",
       "3             0.005780                 0  \n",
       "4             0.018182                 0  "
      ]
     },
     "execution_count": 64,
     "metadata": {},
     "output_type": "execute_result"
    }
   ],
   "source": [
    "df.head()"
   ]
  },
  {
   "cell_type": "markdown",
   "id": "97170a3f",
   "metadata": {},
   "source": [
    "### We should create separate out some data for training the model and some for evaluating:"
   ]
  },
  {
   "cell_type": "code",
   "execution_count": 8,
   "id": "f6e3eb33",
   "metadata": {},
   "outputs": [
    {
     "name": "stdout",
     "output_type": "stream",
     "text": [
      "Data for Modeling: (54099, 17)\n",
      "Unseen Data For Predictions: (9547, 17)\n",
      "\n"
     ]
    }
   ],
   "source": [
    "# copy your main dataframe\n",
    "df_dataset = df\n",
    "\n",
    "df_train = df_dataset.sample(frac=0.85, random_state=786)\n",
    "df_eval = df_dataset.drop(df_train.index)\n",
    "\n",
    "df_train.reset_index(drop=True)\n",
    "df_eval.reset_index(drop=True)\n",
    "\n",
    "# print out the number of records for training and eval\n",
    "print('Data for Modeling: ' + str(df_train.shape))\n",
    "print('Unseen Data For Predictions: ' + str(df_eval.shape), end=\"\\n\\n\")"
   ]
  },
  {
   "cell_type": "markdown",
   "id": "e00232e4",
   "metadata": {},
   "source": [
    "### Now we can model the data using a binary classification prediction for the target field to see how likely a customer is to purchase:"
   ]
  },
  {
   "cell_type": "code",
   "execution_count": 9,
   "id": "596c8351",
   "metadata": {},
   "outputs": [],
   "source": [
    "setup(\n",
    "    data= df_train, \n",
    "    target=\"did_purchase\", \n",
    "    train_size = 0.85,\n",
    "    data_split_shuffle=True,\n",
    "    categorical_features=[\"inMarket\"],\n",
    "    date_features=[\"eventDate\"],\n",
    "    ignore_features=[\n",
    "        \"dimCustomerMasterId\",\n",
    "        \"eventName\",\n",
    "        \"minDaysOut\",\n",
    "        \"maxDaysOut\"\n",
    "    ],\n",
    "    silent=True,\n",
    "    verbose=False,\n",
    "    numeric_features=[\n",
    "        \"distanceToVenue\",\n",
    "        \"events_purchased\",\n",
    "        \"frequency_eventDay\",\n",
    "        \"frequency_opponent\",\n",
    "        \"frequency_eventTime\",\n",
    "        \"recent_clickRate\",\n",
    "        \"recent_openRate\",\n",
    "        \"tenure\"\n",
    "    ]\n",
    ");"
   ]
  },
  {
   "cell_type": "code",
   "execution_count": 10,
   "id": "61204d28",
   "metadata": {},
   "outputs": [
    {
     "data": {
      "text/html": [
       "<style type=\"text/css\">\n",
       "#T_3d8ad_ th {\n",
       "  text-align: left;\n",
       "}\n",
       "#T_3d8ad_row0_col0, #T_3d8ad_row0_col3, #T_3d8ad_row1_col0, #T_3d8ad_row1_col1, #T_3d8ad_row1_col2, #T_3d8ad_row1_col4, #T_3d8ad_row1_col5, #T_3d8ad_row1_col6, #T_3d8ad_row1_col7, #T_3d8ad_row2_col0, #T_3d8ad_row2_col1, #T_3d8ad_row2_col2, #T_3d8ad_row2_col3, #T_3d8ad_row2_col4, #T_3d8ad_row2_col5, #T_3d8ad_row2_col6, #T_3d8ad_row2_col7, #T_3d8ad_row3_col0, #T_3d8ad_row3_col1, #T_3d8ad_row3_col2, #T_3d8ad_row3_col3, #T_3d8ad_row3_col4, #T_3d8ad_row3_col5, #T_3d8ad_row3_col6, #T_3d8ad_row3_col7 {\n",
       "  text-align: left;\n",
       "}\n",
       "#T_3d8ad_row0_col1, #T_3d8ad_row0_col2, #T_3d8ad_row0_col4, #T_3d8ad_row0_col5, #T_3d8ad_row0_col6, #T_3d8ad_row0_col7, #T_3d8ad_row1_col3 {\n",
       "  text-align: left;\n",
       "  background-color: yellow;\n",
       "}\n",
       "#T_3d8ad_row0_col8 {\n",
       "  text-align: left;\n",
       "  background-color: yellow;\n",
       "  background-color: lightgrey;\n",
       "}\n",
       "#T_3d8ad_row1_col8, #T_3d8ad_row2_col8, #T_3d8ad_row3_col8 {\n",
       "  text-align: left;\n",
       "  background-color: lightgrey;\n",
       "}\n",
       "</style>\n",
       "<table id=\"T_3d8ad_\">\n",
       "  <thead>\n",
       "    <tr>\n",
       "      <th class=\"blank level0\" >&nbsp;</th>\n",
       "      <th class=\"col_heading level0 col0\" >Model</th>\n",
       "      <th class=\"col_heading level0 col1\" >Accuracy</th>\n",
       "      <th class=\"col_heading level0 col2\" >AUC</th>\n",
       "      <th class=\"col_heading level0 col3\" >Recall</th>\n",
       "      <th class=\"col_heading level0 col4\" >Prec.</th>\n",
       "      <th class=\"col_heading level0 col5\" >F1</th>\n",
       "      <th class=\"col_heading level0 col6\" >Kappa</th>\n",
       "      <th class=\"col_heading level0 col7\" >MCC</th>\n",
       "      <th class=\"col_heading level0 col8\" >TT (Sec)</th>\n",
       "    </tr>\n",
       "  </thead>\n",
       "  <tbody>\n",
       "    <tr>\n",
       "      <th id=\"T_3d8ad_level0_row0\" class=\"row_heading level0 row0\" >lightgbm</th>\n",
       "      <td id=\"T_3d8ad_row0_col0\" class=\"data row0 col0\" >Light Gradient Boosting Machine</td>\n",
       "      <td id=\"T_3d8ad_row0_col1\" class=\"data row0 col1\" >0.8011</td>\n",
       "      <td id=\"T_3d8ad_row0_col2\" class=\"data row0 col2\" >0.8853</td>\n",
       "      <td id=\"T_3d8ad_row0_col3\" class=\"data row0 col3\" >0.7798</td>\n",
       "      <td id=\"T_3d8ad_row0_col4\" class=\"data row0 col4\" >0.8151</td>\n",
       "      <td id=\"T_3d8ad_row0_col5\" class=\"data row0 col5\" >0.7970</td>\n",
       "      <td id=\"T_3d8ad_row0_col6\" class=\"data row0 col6\" >0.6022</td>\n",
       "      <td id=\"T_3d8ad_row0_col7\" class=\"data row0 col7\" >0.6027</td>\n",
       "      <td id=\"T_3d8ad_row0_col8\" class=\"data row0 col8\" >0.2340</td>\n",
       "    </tr>\n",
       "    <tr>\n",
       "      <th id=\"T_3d8ad_level0_row1\" class=\"row_heading level0 row1\" >xgboost</th>\n",
       "      <td id=\"T_3d8ad_row1_col0\" class=\"data row1 col0\" >Extreme Gradient Boosting</td>\n",
       "      <td id=\"T_3d8ad_row1_col1\" class=\"data row1 col1\" >0.7999</td>\n",
       "      <td id=\"T_3d8ad_row1_col2\" class=\"data row1 col2\" >0.8847</td>\n",
       "      <td id=\"T_3d8ad_row1_col3\" class=\"data row1 col3\" >0.7821</td>\n",
       "      <td id=\"T_3d8ad_row1_col4\" class=\"data row1 col4\" >0.8117</td>\n",
       "      <td id=\"T_3d8ad_row1_col5\" class=\"data row1 col5\" >0.7966</td>\n",
       "      <td id=\"T_3d8ad_row1_col6\" class=\"data row1 col6\" >0.5998</td>\n",
       "      <td id=\"T_3d8ad_row1_col7\" class=\"data row1 col7\" >0.6003</td>\n",
       "      <td id=\"T_3d8ad_row1_col8\" class=\"data row1 col8\" >1.2710</td>\n",
       "    </tr>\n",
       "    <tr>\n",
       "      <th id=\"T_3d8ad_level0_row2\" class=\"row_heading level0 row2\" >gbc</th>\n",
       "      <td id=\"T_3d8ad_row2_col0\" class=\"data row2 col0\" >Gradient Boosting Classifier</td>\n",
       "      <td id=\"T_3d8ad_row2_col1\" class=\"data row2 col1\" >0.7919</td>\n",
       "      <td id=\"T_3d8ad_row2_col2\" class=\"data row2 col2\" >0.8753</td>\n",
       "      <td id=\"T_3d8ad_row2_col3\" class=\"data row2 col3\" >0.7570</td>\n",
       "      <td id=\"T_3d8ad_row2_col4\" class=\"data row2 col4\" >0.8144</td>\n",
       "      <td id=\"T_3d8ad_row2_col5\" class=\"data row2 col5\" >0.7846</td>\n",
       "      <td id=\"T_3d8ad_row2_col6\" class=\"data row2 col6\" >0.5838</td>\n",
       "      <td id=\"T_3d8ad_row2_col7\" class=\"data row2 col7\" >0.5853</td>\n",
       "      <td id=\"T_3d8ad_row2_col8\" class=\"data row2 col8\" >1.0980</td>\n",
       "    </tr>\n",
       "    <tr>\n",
       "      <th id=\"T_3d8ad_level0_row3\" class=\"row_heading level0 row3\" >lr</th>\n",
       "      <td id=\"T_3d8ad_row3_col0\" class=\"data row3 col0\" >Logistic Regression</td>\n",
       "      <td id=\"T_3d8ad_row3_col1\" class=\"data row3 col1\" >0.7617</td>\n",
       "      <td id=\"T_3d8ad_row3_col2\" class=\"data row3 col2\" >0.8395</td>\n",
       "      <td id=\"T_3d8ad_row3_col3\" class=\"data row3 col3\" >0.7390</td>\n",
       "      <td id=\"T_3d8ad_row3_col4\" class=\"data row3 col4\" >0.7749</td>\n",
       "      <td id=\"T_3d8ad_row3_col5\" class=\"data row3 col5\" >0.7565</td>\n",
       "      <td id=\"T_3d8ad_row3_col6\" class=\"data row3 col6\" >0.5234</td>\n",
       "      <td id=\"T_3d8ad_row3_col7\" class=\"data row3 col7\" >0.5240</td>\n",
       "      <td id=\"T_3d8ad_row3_col8\" class=\"data row3 col8\" >1.4200</td>\n",
       "    </tr>\n",
       "  </tbody>\n",
       "</table>\n"
      ],
      "text/plain": [
       "<pandas.io.formats.style.Styler at 0x7f988dba4310>"
      ]
     },
     "metadata": {},
     "output_type": "display_data"
    }
   ],
   "source": [
    "model_matrix = compare_models(\n",
    "    fold= 10,\n",
    "    include= [\"gbc\",\"lightgbm\",\"lr\",\"xgboost\"],\n",
    "    n_select= 4,\n",
    "    sort= \"AUC\"\n",
    ")\n",
    "results = pull()"
   ]
  },
  {
   "cell_type": "markdown",
   "id": "9d2257d7-005e-4d02-8025-071d39e6f3fd",
   "metadata": {},
   "source": [
    "### Let's create a collection of our models so we can compare them against actual game purchases:"
   ]
  },
  {
   "cell_type": "code",
   "execution_count": 12,
   "id": "2c941684-eead-46f4-86e1-617fed4c852b",
   "metadata": {},
   "outputs": [
    {
     "data": {
      "text/html": [
       "<style type=\"text/css\">\n",
       "#T_e114c_row10_col0, #T_e114c_row10_col1, #T_e114c_row10_col2, #T_e114c_row10_col3, #T_e114c_row10_col4, #T_e114c_row10_col5, #T_e114c_row10_col6 {\n",
       "  background: yellow;\n",
       "}\n",
       "</style>\n",
       "<table id=\"T_e114c_\">\n",
       "  <thead>\n",
       "    <tr>\n",
       "      <th class=\"blank level0\" >&nbsp;</th>\n",
       "      <th class=\"col_heading level0 col0\" >Accuracy</th>\n",
       "      <th class=\"col_heading level0 col1\" >AUC</th>\n",
       "      <th class=\"col_heading level0 col2\" >Recall</th>\n",
       "      <th class=\"col_heading level0 col3\" >Prec.</th>\n",
       "      <th class=\"col_heading level0 col4\" >F1</th>\n",
       "      <th class=\"col_heading level0 col5\" >Kappa</th>\n",
       "      <th class=\"col_heading level0 col6\" >MCC</th>\n",
       "    </tr>\n",
       "  </thead>\n",
       "  <tbody>\n",
       "    <tr>\n",
       "      <th id=\"T_e114c_level0_row0\" class=\"row_heading level0 row0\" >0</th>\n",
       "      <td id=\"T_e114c_row0_col0\" class=\"data row0 col0\" >0.7571</td>\n",
       "      <td id=\"T_e114c_row0_col1\" class=\"data row0 col1\" >0.8361</td>\n",
       "      <td id=\"T_e114c_row0_col2\" class=\"data row0 col2\" >0.7240</td>\n",
       "      <td id=\"T_e114c_row0_col3\" class=\"data row0 col3\" >0.7762</td>\n",
       "      <td id=\"T_e114c_row0_col4\" class=\"data row0 col4\" >0.7492</td>\n",
       "      <td id=\"T_e114c_row0_col5\" class=\"data row0 col5\" >0.5143</td>\n",
       "      <td id=\"T_e114c_row0_col6\" class=\"data row0 col6\" >0.5155</td>\n",
       "    </tr>\n",
       "    <tr>\n",
       "      <th id=\"T_e114c_level0_row1\" class=\"row_heading level0 row1\" >1</th>\n",
       "      <td id=\"T_e114c_row1_col0\" class=\"data row1 col0\" >0.7591</td>\n",
       "      <td id=\"T_e114c_row1_col1\" class=\"data row1 col1\" >0.8307</td>\n",
       "      <td id=\"T_e114c_row1_col2\" class=\"data row1 col2\" >0.7322</td>\n",
       "      <td id=\"T_e114c_row1_col3\" class=\"data row1 col3\" >0.7746</td>\n",
       "      <td id=\"T_e114c_row1_col4\" class=\"data row1 col4\" >0.7528</td>\n",
       "      <td id=\"T_e114c_row1_col5\" class=\"data row1 col5\" >0.5182</td>\n",
       "      <td id=\"T_e114c_row1_col6\" class=\"data row1 col6\" >0.5190</td>\n",
       "    </tr>\n",
       "    <tr>\n",
       "      <th id=\"T_e114c_level0_row2\" class=\"row_heading level0 row2\" >2</th>\n",
       "      <td id=\"T_e114c_row2_col0\" class=\"data row2 col0\" >0.7613</td>\n",
       "      <td id=\"T_e114c_row2_col1\" class=\"data row2 col1\" >0.8373</td>\n",
       "      <td id=\"T_e114c_row2_col2\" class=\"data row2 col2\" >0.7326</td>\n",
       "      <td id=\"T_e114c_row2_col3\" class=\"data row2 col3\" >0.7779</td>\n",
       "      <td id=\"T_e114c_row2_col4\" class=\"data row2 col4\" >0.7546</td>\n",
       "      <td id=\"T_e114c_row2_col5\" class=\"data row2 col5\" >0.5226</td>\n",
       "      <td id=\"T_e114c_row2_col6\" class=\"data row2 col6\" >0.5234</td>\n",
       "    </tr>\n",
       "    <tr>\n",
       "      <th id=\"T_e114c_level0_row3\" class=\"row_heading level0 row3\" >3</th>\n",
       "      <td id=\"T_e114c_row3_col0\" class=\"data row3 col0\" >0.7606</td>\n",
       "      <td id=\"T_e114c_row3_col1\" class=\"data row3 col1\" >0.8386</td>\n",
       "      <td id=\"T_e114c_row3_col2\" class=\"data row3 col2\" >0.7270</td>\n",
       "      <td id=\"T_e114c_row3_col3\" class=\"data row3 col3\" >0.7802</td>\n",
       "      <td id=\"T_e114c_row3_col4\" class=\"data row3 col4\" >0.7526</td>\n",
       "      <td id=\"T_e114c_row3_col5\" class=\"data row3 col5\" >0.5213</td>\n",
       "      <td id=\"T_e114c_row3_col6\" class=\"data row3 col6\" >0.5225</td>\n",
       "    </tr>\n",
       "    <tr>\n",
       "      <th id=\"T_e114c_level0_row4\" class=\"row_heading level0 row4\" >4</th>\n",
       "      <td id=\"T_e114c_row4_col0\" class=\"data row4 col0\" >0.7649</td>\n",
       "      <td id=\"T_e114c_row4_col1\" class=\"data row4 col1\" >0.8407</td>\n",
       "      <td id=\"T_e114c_row4_col2\" class=\"data row4 col2\" >0.7491</td>\n",
       "      <td id=\"T_e114c_row4_col3\" class=\"data row4 col3\" >0.7743</td>\n",
       "      <td id=\"T_e114c_row4_col4\" class=\"data row4 col4\" >0.7615</td>\n",
       "      <td id=\"T_e114c_row4_col5\" class=\"data row4 col5\" >0.5298</td>\n",
       "      <td id=\"T_e114c_row4_col6\" class=\"data row4 col6\" >0.5301</td>\n",
       "    </tr>\n",
       "    <tr>\n",
       "      <th id=\"T_e114c_level0_row5\" class=\"row_heading level0 row5\" >5</th>\n",
       "      <td id=\"T_e114c_row5_col0\" class=\"data row5 col0\" >0.7629</td>\n",
       "      <td id=\"T_e114c_row5_col1\" class=\"data row5 col1\" >0.8428</td>\n",
       "      <td id=\"T_e114c_row5_col2\" class=\"data row5 col2\" >0.7447</td>\n",
       "      <td id=\"T_e114c_row5_col3\" class=\"data row5 col3\" >0.7736</td>\n",
       "      <td id=\"T_e114c_row5_col4\" class=\"data row5 col4\" >0.7588</td>\n",
       "      <td id=\"T_e114c_row5_col5\" class=\"data row5 col5\" >0.5259</td>\n",
       "      <td id=\"T_e114c_row5_col6\" class=\"data row5 col6\" >0.5263</td>\n",
       "    </tr>\n",
       "    <tr>\n",
       "      <th id=\"T_e114c_level0_row6\" class=\"row_heading level0 row6\" >6</th>\n",
       "      <td id=\"T_e114c_row6_col0\" class=\"data row6 col0\" >0.7560</td>\n",
       "      <td id=\"T_e114c_row6_col1\" class=\"data row6 col1\" >0.8391</td>\n",
       "      <td id=\"T_e114c_row6_col2\" class=\"data row6 col2\" >0.7408</td>\n",
       "      <td id=\"T_e114c_row6_col3\" class=\"data row6 col3\" >0.7647</td>\n",
       "      <td id=\"T_e114c_row6_col4\" class=\"data row6 col4\" >0.7525</td>\n",
       "      <td id=\"T_e114c_row6_col5\" class=\"data row6 col5\" >0.5120</td>\n",
       "      <td id=\"T_e114c_row6_col6\" class=\"data row6 col6\" >0.5122</td>\n",
       "    </tr>\n",
       "    <tr>\n",
       "      <th id=\"T_e114c_level0_row7\" class=\"row_heading level0 row7\" >7</th>\n",
       "      <td id=\"T_e114c_row7_col0\" class=\"data row7 col0\" >0.7562</td>\n",
       "      <td id=\"T_e114c_row7_col1\" class=\"data row7 col1\" >0.8364</td>\n",
       "      <td id=\"T_e114c_row7_col2\" class=\"data row7 col2\" >0.7464</td>\n",
       "      <td id=\"T_e114c_row7_col3\" class=\"data row7 col3\" >0.7620</td>\n",
       "      <td id=\"T_e114c_row7_col4\" class=\"data row7 col4\" >0.7541</td>\n",
       "      <td id=\"T_e114c_row7_col5\" class=\"data row7 col5\" >0.5124</td>\n",
       "      <td id=\"T_e114c_row7_col6\" class=\"data row7 col6\" >0.5125</td>\n",
       "    </tr>\n",
       "    <tr>\n",
       "      <th id=\"T_e114c_level0_row8\" class=\"row_heading level0 row8\" >8</th>\n",
       "      <td id=\"T_e114c_row8_col0\" class=\"data row8 col0\" >0.7756</td>\n",
       "      <td id=\"T_e114c_row8_col1\" class=\"data row8 col1\" >0.8515</td>\n",
       "      <td id=\"T_e114c_row8_col2\" class=\"data row8 col2\" >0.7529</td>\n",
       "      <td id=\"T_e114c_row8_col3\" class=\"data row8 col3\" >0.7893</td>\n",
       "      <td id=\"T_e114c_row8_col4\" class=\"data row8 col4\" >0.7707</td>\n",
       "      <td id=\"T_e114c_row8_col5\" class=\"data row8 col5\" >0.5511</td>\n",
       "      <td id=\"T_e114c_row8_col6\" class=\"data row8 col6\" >0.5517</td>\n",
       "    </tr>\n",
       "    <tr>\n",
       "      <th id=\"T_e114c_level0_row9\" class=\"row_heading level0 row9\" >9</th>\n",
       "      <td id=\"T_e114c_row9_col0\" class=\"data row9 col0\" >0.7632</td>\n",
       "      <td id=\"T_e114c_row9_col1\" class=\"data row9 col1\" >0.8414</td>\n",
       "      <td id=\"T_e114c_row9_col2\" class=\"data row9 col2\" >0.7403</td>\n",
       "      <td id=\"T_e114c_row9_col3\" class=\"data row9 col3\" >0.7764</td>\n",
       "      <td id=\"T_e114c_row9_col4\" class=\"data row9 col4\" >0.7579</td>\n",
       "      <td id=\"T_e114c_row9_col5\" class=\"data row9 col5\" >0.5264</td>\n",
       "      <td id=\"T_e114c_row9_col6\" class=\"data row9 col6\" >0.5269</td>\n",
       "    </tr>\n",
       "    <tr>\n",
       "      <th id=\"T_e114c_level0_row10\" class=\"row_heading level0 row10\" >Mean</th>\n",
       "      <td id=\"T_e114c_row10_col0\" class=\"data row10 col0\" >0.7617</td>\n",
       "      <td id=\"T_e114c_row10_col1\" class=\"data row10 col1\" >0.8395</td>\n",
       "      <td id=\"T_e114c_row10_col2\" class=\"data row10 col2\" >0.7390</td>\n",
       "      <td id=\"T_e114c_row10_col3\" class=\"data row10 col3\" >0.7749</td>\n",
       "      <td id=\"T_e114c_row10_col4\" class=\"data row10 col4\" >0.7565</td>\n",
       "      <td id=\"T_e114c_row10_col5\" class=\"data row10 col5\" >0.5234</td>\n",
       "      <td id=\"T_e114c_row10_col6\" class=\"data row10 col6\" >0.5240</td>\n",
       "    </tr>\n",
       "    <tr>\n",
       "      <th id=\"T_e114c_level0_row11\" class=\"row_heading level0 row11\" >SD</th>\n",
       "      <td id=\"T_e114c_row11_col0\" class=\"data row11 col0\" >0.0055</td>\n",
       "      <td id=\"T_e114c_row11_col1\" class=\"data row11 col1\" >0.0052</td>\n",
       "      <td id=\"T_e114c_row11_col2\" class=\"data row11 col2\" >0.0092</td>\n",
       "      <td id=\"T_e114c_row11_col3\" class=\"data row11 col3\" >0.0072</td>\n",
       "      <td id=\"T_e114c_row11_col4\" class=\"data row11 col4\" >0.0058</td>\n",
       "      <td id=\"T_e114c_row11_col5\" class=\"data row11 col5\" >0.0109</td>\n",
       "      <td id=\"T_e114c_row11_col6\" class=\"data row11 col6\" >0.0109</td>\n",
       "    </tr>\n",
       "  </tbody>\n",
       "</table>\n"
      ],
      "text/plain": [
       "<pandas.io.formats.style.Styler at 0x7f988e386760>"
      ]
     },
     "metadata": {},
     "output_type": "display_data"
    }
   ],
   "source": [
    "models = []\n",
    "for idx, m in enumerate(model_matrix):\n",
    "    \n",
    "    model = create_model(m)\n",
    "    final_model = finalize_model(model)\n",
    "    \n",
    "    models.append({\n",
    "        \"name\": str(results.iloc[idx][\"Model\"]),\n",
    "        \"model\": final_model\n",
    "    })"
   ]
  },
  {
   "cell_type": "markdown",
   "id": "075c618f-ab75-4cb1-ab03-6285d180af5e",
   "metadata": {},
   "source": [
    "### Let's get all games from 2021 forward and score them using our models:"
   ]
  },
  {
   "cell_type": "code",
   "execution_count": 13,
   "id": "c249a813-c882-4869-9490-6ab766a8c223",
   "metadata": {},
   "outputs": [
    {
     "data": {
      "text/plain": [
       "(10656, 17)"
      ]
     },
     "execution_count": 13,
     "metadata": {},
     "output_type": "execute_result"
    }
   ],
   "source": [
    "df_inference = df.loc[df[\"eventDate\"] >= '2021-01-01']\n",
    "df_inference = df_inference.fillna(0)\n",
    "\n",
    "df_inference.shape"
   ]
  },
  {
   "cell_type": "code",
   "execution_count": 14,
   "id": "cc21f132-913a-4999-a4cc-3c40d45d5743",
   "metadata": {},
   "outputs": [],
   "source": [
    "predictions = []\n",
    "for idx, model in enumerate(models):\n",
    "    \n",
    "    df_predictions = (predict_model(model['model'], data=df_inference, raw_score=True))\n",
    "    model[\"predictions\"] = df_predictions"
   ]
  },
  {
   "cell_type": "markdown",
   "id": "b959fd7e-b8da-4f56-a989-1e2dd9b39e6c",
   "metadata": {},
   "source": [
    "### We can create some histograms to visualize each model distribution:"
   ]
  },
  {
   "cell_type": "code",
   "execution_count": 16,
   "id": "a63d7a77-5d03-45d1-a367-5ef70422987b",
   "metadata": {},
   "outputs": [
    {
     "data": {
      "image/png": "[encoded data removed]",
      "text/plain": [
       "<Figure size 1800x288 with 4 Axes>"
      ]
     },
     "metadata": {
      "image/png": {
       "height": 277,
       "width": 1452
      }
     },
     "output_type": "display_data"
    }
   ],
   "source": [
    "for idx, model in enumerate(models):\n",
    "    \n",
    "    plt.subplot(1, 4, idx+1)\n",
    "    plt.title(model[\"name\"])\n",
    "    plt.ylabel(\"Num Fans\")\n",
    "    plt.xlabel(\"SA Buyer Score\")\n",
    "    plt.hist(model[\"predictions\"][\"Score_1\"], bins=20, edgecolor=\"black\", range=(0,1))\n",
    "                            \n",
    "plt.rcParams[\"figure.figsize\"] = (25,4)\n",
    "plt.show()"
   ]
  },
  {
   "cell_type": "markdown",
   "id": "80c5d422-c1b5-4002-99bb-f197c9d5428b",
   "metadata": {},
   "source": [
    "### Select the model you would like to use for updating scores:"
   ]
  },
  {
   "cell_type": "code",
   "execution_count": 45,
   "id": "9af16f0f-138a-4762-b6ea-32536ebb270e",
   "metadata": {},
   "outputs": [],
   "source": [
    "selected_model = \"Extreme Gradient Boosting\"\n",
    "\n",
    "for model in models:\n",
    "    if model[\"name\"] == selected_model:\n",
    "\n",
    "        df_predictions = model[\"predictions\"]"
   ]
  },
  {
   "cell_type": "markdown",
   "id": "e7208a67-3025-4152-91c0-877a3159aa7f",
   "metadata": {},
   "source": [
    "# *** NEED TO PULL SCORING FROM STORED PROC, NOT FROM TRAINING DF ***"
   ]
  },
  {
   "cell_type": "markdown",
   "id": "a8895568-0ceb-49c5-b43e-205d5e84f9f0",
   "metadata": {},
   "source": [
    "### Let's create some buckets of customers who got scored at different probabilities:"
   ]
  },
  {
   "cell_type": "code",
   "execution_count": 173,
   "id": "4dd77470-4c06-47a5-86af-f7f794cd45b5",
   "metadata": {},
   "outputs": [
    {
     "name": "stdout",
     "output_type": "stream",
     "text": [
      "10656\n",
      "10656\n"
     ]
    }
   ],
   "source": [
    "df_baseline = np.array_split(df_predictions, 1)\n",
    "leads = np.array_split(df_predictions.sort_values(by=\"Score_1\", ascending=False), 1)\n",
    "\n",
    "df_baseline = df_baseline[0]\n",
    "df_top_leads= leads[0]\n",
    "\n",
    "print(len(df_baseline))\n",
    "print(len(df_top_leads))"
   ]
  },
  {
   "cell_type": "code",
   "execution_count": 174,
   "id": "e3e9cf5b-7747-4637-8c29-c0bd1e21ba3d",
   "metadata": {},
   "outputs": [
    {
     "data": {
      "image/png": "[encoded data removed]",
      "text/plain": [
       "<Figure size 1800x288 with 1 Axes>"
      ]
     },
     "metadata": {
      "image/png": {
       "height": 277,
       "width": 1452
      }
     },
     "output_type": "display_data"
    }
   ],
   "source": [
    "plt.title(f\"Top Leads\")\n",
    "plt.ylabel(\"Num Fans\")\n",
    "plt.xlabel(\"EP Score\")\n",
    "plt.hist(df_top_leads[\"Score_1\"], bins=20, edgecolor=\"black\", range=(0,1))\n",
    "                            \n",
    "plt.rcParams[\"figure.figsize\"] = (25,4)\n",
    "plt.show()"
   ]
  },
  {
   "cell_type": "markdown",
   "id": "b77069c1-a9fc-4e82-bc5a-7815fa02740f",
   "metadata": {},
   "source": [
    "### Let's choose specific game and pull the actual ticket purchases:"
   ]
  },
  {
   "cell_type": "code",
   "execution_count": 175,
   "id": "9416d896-a740-46e3-bde8-b87d5cbd4655",
   "metadata": {},
   "outputs": [
    {
     "name": "stdout",
     "output_type": "stream",
     "text": [
      "Attempting to automatically open the SSO authorization page in your default browser.\n",
      "If the browser does not open or you wish to use a different device to authorize this request, open the following URL:\n",
      "\n",
      "https://device.sso.us-east-1.amazonaws.com/\n",
      "\n",
      "Then enter the code:\n",
      "\n",
      "MLGP-JJQB\n",
      "Successully logged into Start URL: https://stellaralgo.awsapps.com/start\n"
     ]
    }
   ],
   "source": [
    "! aws sso login --profile Stellaralgo-DataScienceAdmin"
   ]
  },
  {
   "cell_type": "code",
   "execution_count": 176,
   "id": "069b355d-108c-4af9-b677-ac1ff0c748c0",
   "metadata": {},
   "outputs": [
    {
     "name": "stdout",
     "output_type": "stream",
     "text": [
      "CREATED CONNECTION TO DATABASE\n"
     ]
    }
   ],
   "source": [
    "session = boto3.setup_default_session(profile_name='Stellaralgo-DataScienceAdmin')\n",
    "client = boto3.client('redshift')\n",
    "\n",
    "cluster = 'qa-app'\n",
    "dbname = 'stlrnhljets'\n",
    "schema = 'dw'\n",
    "table = 'cohortpurchase'\n",
    "    \n",
    "conn = wr.data_api.redshift.connect(\n",
    "    cluster_id = cluster,\n",
    "    database = dbname,\n",
    "    db_user = \"admin\"\n",
    ")\n",
    "\n",
    "print(\"CREATED CONNECTION TO DATABASE\")"
   ]
  },
  {
   "cell_type": "code",
   "execution_count": 177,
   "id": "4df612e1-5af3-4858-9515-07a887745c90",
   "metadata": {},
   "outputs": [
    {
     "name": "stdout",
     "output_type": "stream",
     "text": [
      "EVENT NAME: 20220427 - Philadelphia Flyers\n",
      "TICKETS SOLD: 7887\n"
     ]
    }
   ],
   "source": [
    "#target_event = '20220429 - Calgary Flames'\n",
    "target_event = '20220427 - Philadelphia Flyers'\n",
    "#target_event = '20220413 - Seattle Kraken'\n",
    "#target_event = '20220424 - Colorado Avalanche'\n",
    "#target_event = '20220406 - Detroit Red Wings'\n",
    "\n",
    "select_statement = f\"\"\"\n",
    "    SELECT *\n",
    "    FROM {dbname}.{schema}.{table}\n",
    "    WHERE eventname = '{target_event}'\n",
    "\"\"\"\n",
    "\n",
    "#ADD and productGrouping = Individual\n",
    "\n",
    "df_target_game = wr.data_api.redshift.read_sql_query(\n",
    "    sql = select_statement, \n",
    "    con = conn\n",
    ")\n",
    "\n",
    "print(f\"EVENT NAME: {target_event}\")\n",
    "print(f\"TICKETS SOLD: {len(df_target_game)}\")"
   ]
  },
  {
   "cell_type": "markdown",
   "id": "7d3d4f59-9fba-4fc5-85b2-da63de3cfb0b",
   "metadata": {},
   "source": [
    "### Let's see if any of our top leads bought a ticket to our target game:"
   ]
  },
  {
   "cell_type": "code",
   "execution_count": 178,
   "id": "e20b2878-2afb-4233-87d6-b5ed7794ef74",
   "metadata": {},
   "outputs": [
    {
     "name": "stdout",
     "output_type": "stream",
     "text": [
      "TICKETS MATCHED:\n",
      " 169 - Baseline\n",
      " 169 -  Top Leads\n",
      "\n",
      "CONVERSION RATE:\n",
      " +0.0 %\n"
     ]
    }
   ],
   "source": [
    "df_target_game['dimCustomerMasterId'] = df_target_game['dimcustomermasterid']\n",
    "\n",
    "df_merged_baseline = pd.merge(df_baseline, df_target_game, on=['dimCustomerMasterId'], how='inner')\n",
    "df_merged_top_leads = pd.merge(df_top_leads, df_target_game, on=['dimCustomerMasterId'], how='inner')\n",
    "\n",
    "print(\"TICKETS MATCHED:\")\n",
    "print(f\" {df_merged_baseline.shape[0]} - Baseline\")\n",
    "print(f\" {df_merged_top_leads.shape[0]} -  Top Leads\", end=\"\\n\\n\")\n",
    "      \n",
    "print(\"CONVERSION RATE:\")\n",
    "print(f\" +{((df_merged_top_leads.shape[0] - df_merged_baseline.shape[0]) / df_merged_baseline.shape[0]) * 100} %\")\n"
   ]
  },
  {
   "cell_type": "code",
   "execution_count": null,
   "id": "a8bae8d8-5b9f-4980-b97c-5d4c5d71c6b5",
   "metadata": {},
   "outputs": [],
   "source": []
  }
 ],
 "metadata": {
  "kernelspec": {
   "display_name": "Python 3 (ipykernel)",
   "language": "python",
   "name": "python3"
  },
  "language_info": {
   "codemirror_mode": {
    "name": "ipython",
    "version": 3
   },
   "file_extension": ".py",
   "mimetype": "text/x-python",
   "name": "python",
   "nbconvert_exporter": "python",
   "pygments_lexer": "ipython3",
   "version": "3.8.5"
  }
 },
 "nbformat": 4,
 "nbformat_minor": 5
}
