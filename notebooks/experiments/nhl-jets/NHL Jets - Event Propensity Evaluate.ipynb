{
 "cells": [
  {
   "cell_type": "markdown",
   "id": "e56a5fd8",
   "metadata": {},
   "source": [
    "# Yankees - Event Propensity - Next Event Buyer Evaluation\n",
    "* Ryan Kazmerik, Nakisa Rad, Joey Lai, Shawn Sutherland, Matt Bahler, Pat Faith\n",
    "* Feb 22, 2022"
   ]
  },
  {
   "cell_type": "code",
   "execution_count": 21,
   "id": "17880c1d",
   "metadata": {},
   "outputs": [],
   "source": [
    "import boto3\n",
    "import json\n",
    "import pandas as pd\n",
    "import os\n",
    "\n",
    "from pycaret.classification import *\n",
    "\n",
    "boto3.setup_default_session(profile_name='Legacy-DataScienceAdmin')\n",
    "\n",
    "%config InlineBackend.figure_format = 'retina'"
   ]
  },
  {
   "cell_type": "markdown",
   "id": "b6e78e6f",
   "metadata": {},
   "source": [
    "### Let's load a previously played game as our test dataset:"
   ]
  },
  {
   "cell_type": "code",
   "execution_count": 9,
   "id": "0048c537",
   "metadata": {},
   "outputs": [
    {
     "name": "stdout",
     "output_type": "stream",
     "text": [
      "<class 'pandas.core.frame.DataFrame'>\n",
      "RangeIndex: 573332 entries, 0 to 573331\n",
      "Data columns (total 12 columns):\n",
      " #   Column               Non-Null Count   Dtype  \n",
      "---  ------               --------------   -----  \n",
      " 0   daysOut              573332 non-null  object \n",
      " 1   eventDate            573332 non-null  object \n",
      " 2   tenure               573332 non-null  int64  \n",
      " 3   dimCustomerMasterId  573332 non-null  int64  \n",
      " 4   events_purchased     573332 non-null  int64  \n",
      " 5   frequency_opponent   45620 non-null   float64\n",
      " 6   frequency_eventDay   108136 non-null  float64\n",
      " 7   frequency_eventTime  291792 non-null  float64\n",
      " 8   inMarket             554600 non-null  object \n",
      " 9   distanceToVenue      490400 non-null  float64\n",
      " 10  recent_openRate      0 non-null       float64\n",
      " 11  recent_clickRate     0 non-null       float64\n",
      "dtypes: float64(6), int64(3), object(3)\n",
      "memory usage: 52.5+ MB\n"
     ]
    }
   ],
   "source": [
    "df_testgame = pd.read_csv(\"./data/game2022-08-030000_part_00.csv\")\n",
    "df_testgame.info()"
   ]
  },
  {
   "cell_type": "markdown",
   "id": "3ae58d9b",
   "metadata": {},
   "source": [
    "### We should fill in an NaN values with 0 with the exception of the distanceToVenue feature:"
   ]
  },
  {
   "cell_type": "code",
   "execution_count": 8,
   "id": "c5456335",
   "metadata": {},
   "outputs": [
    {
     "data": {
      "text/html": [
       "<div>\n",
       "<style scoped>\n",
       "    .dataframe tbody tr th:only-of-type {\n",
       "        vertical-align: middle;\n",
       "    }\n",
       "\n",
       "    .dataframe tbody tr th {\n",
       "        vertical-align: top;\n",
       "    }\n",
       "\n",
       "    .dataframe thead th {\n",
       "        text-align: right;\n",
       "    }\n",
       "</style>\n",
       "<table border=\"1\" class=\"dataframe\">\n",
       "  <thead>\n",
       "    <tr style=\"text-align: right;\">\n",
       "      <th></th>\n",
       "      <th>daysOut</th>\n",
       "      <th>eventDate</th>\n",
       "      <th>tenure</th>\n",
       "      <th>dimCustomerMasterId</th>\n",
       "      <th>events_purchased</th>\n",
       "      <th>frequency_opponent</th>\n",
       "      <th>frequency_eventDay</th>\n",
       "      <th>frequency_eventTime</th>\n",
       "      <th>inMarket</th>\n",
       "      <th>distanceToVenue</th>\n",
       "      <th>recent_openRate</th>\n",
       "      <th>recent_clickRate</th>\n",
       "    </tr>\n",
       "  </thead>\n",
       "  <tbody>\n",
       "    <tr>\n",
       "      <th>0</th>\n",
       "      <td>Day Of</td>\n",
       "      <td>2022-08-03</td>\n",
       "      <td>1762</td>\n",
       "      <td>3283824</td>\n",
       "      <td>2</td>\n",
       "      <td>0.0</td>\n",
       "      <td>0.0</td>\n",
       "      <td>0.0</td>\n",
       "      <td>t</td>\n",
       "      <td>69.81</td>\n",
       "      <td>0.0</td>\n",
       "      <td>0.0</td>\n",
       "    </tr>\n",
       "    <tr>\n",
       "      <th>1</th>\n",
       "      <td>1 to 3 Days Out</td>\n",
       "      <td>2022-08-03</td>\n",
       "      <td>1762</td>\n",
       "      <td>3283824</td>\n",
       "      <td>2</td>\n",
       "      <td>0.0</td>\n",
       "      <td>0.0</td>\n",
       "      <td>0.0</td>\n",
       "      <td>t</td>\n",
       "      <td>69.81</td>\n",
       "      <td>0.0</td>\n",
       "      <td>0.0</td>\n",
       "    </tr>\n",
       "    <tr>\n",
       "      <th>2</th>\n",
       "      <td>4 to 7 Days Out</td>\n",
       "      <td>2022-08-03</td>\n",
       "      <td>1762</td>\n",
       "      <td>3283824</td>\n",
       "      <td>2</td>\n",
       "      <td>0.0</td>\n",
       "      <td>0.0</td>\n",
       "      <td>0.0</td>\n",
       "      <td>t</td>\n",
       "      <td>69.81</td>\n",
       "      <td>0.0</td>\n",
       "      <td>0.0</td>\n",
       "    </tr>\n",
       "    <tr>\n",
       "      <th>3</th>\n",
       "      <td>Over a Week</td>\n",
       "      <td>2022-08-03</td>\n",
       "      <td>1762</td>\n",
       "      <td>3283824</td>\n",
       "      <td>2</td>\n",
       "      <td>0.0</td>\n",
       "      <td>0.0</td>\n",
       "      <td>0.0</td>\n",
       "      <td>t</td>\n",
       "      <td>69.81</td>\n",
       "      <td>0.0</td>\n",
       "      <td>0.0</td>\n",
       "    </tr>\n",
       "    <tr>\n",
       "      <th>4</th>\n",
       "      <td>Day Of</td>\n",
       "      <td>2022-08-03</td>\n",
       "      <td>1803</td>\n",
       "      <td>2436396</td>\n",
       "      <td>44</td>\n",
       "      <td>1.0</td>\n",
       "      <td>1.0</td>\n",
       "      <td>1.0</td>\n",
       "      <td>f</td>\n",
       "      <td>337.85</td>\n",
       "      <td>0.0</td>\n",
       "      <td>0.0</td>\n",
       "    </tr>\n",
       "  </tbody>\n",
       "</table>\n",
       "</div>"
      ],
      "text/plain": [
       "           daysOut   eventDate  tenure  dimCustomerMasterId  events_purchased  \\\n",
       "0           Day Of  2022-08-03    1762              3283824                 2   \n",
       "1  1 to 3 Days Out  2022-08-03    1762              3283824                 2   \n",
       "2  4 to 7 Days Out  2022-08-03    1762              3283824                 2   \n",
       "3      Over a Week  2022-08-03    1762              3283824                 2   \n",
       "4           Day Of  2022-08-03    1803              2436396                44   \n",
       "\n",
       "   frequency_opponent  frequency_eventDay  frequency_eventTime inMarket  \\\n",
       "0                 0.0                 0.0                  0.0        t   \n",
       "1                 0.0                 0.0                  0.0        t   \n",
       "2                 0.0                 0.0                  0.0        t   \n",
       "3                 0.0                 0.0                  0.0        t   \n",
       "4                 1.0                 1.0                  1.0        f   \n",
       "\n",
       "   distanceToVenue  recent_openRate  recent_clickRate  \n",
       "0            69.81              0.0               0.0  \n",
       "1            69.81              0.0               0.0  \n",
       "2            69.81              0.0               0.0  \n",
       "3            69.81              0.0               0.0  \n",
       "4           337.85              0.0               0.0  "
      ]
     },
     "execution_count": 8,
     "metadata": {},
     "output_type": "execute_result"
    }
   ],
   "source": [
    "for col in df_test.columns:\n",
    "    if col != 'distanceToVenue':\n",
    "        df_testgame[col].fillna(0, inplace=True)\n",
    "        \n",
    "df_testgame.head()"
   ]
  },
  {
   "cell_type": "markdown",
   "id": "574dc266",
   "metadata": {},
   "source": [
    "### Now let's load the model and run the test game dataframe against it for predictions:"
   ]
  },
  {
   "cell_type": "code",
   "execution_count": 13,
   "id": "cfbf1e80",
   "metadata": {},
   "outputs": [
    {
     "name": "stdout",
     "output_type": "stream",
     "text": [
      "Transformation Pipeline and Model Successfully Loaded\n",
      "Predictions ran successfully for df_testgame\n"
     ]
    }
   ],
   "source": [
    "saved_model= load_model('./models/MLB Yankees - Event Propensity (22Feb2022)')\n",
    "\n",
    "df_inference = predict_model(saved_model, data=df_testgame, raw_score=True)\n",
    "\n",
    "print(\"Predictions ran successfully for df_testgame\")"
   ]
  },
  {
   "cell_type": "markdown",
   "id": "7c18ad7b",
   "metadata": {},
   "source": [
    "### We can evaluate some metrics on who did and did_not purchase:"
   ]
  },
  {
   "cell_type": "code",
   "execution_count": 16,
   "id": "4c2d3220",
   "metadata": {},
   "outputs": [
    {
     "name": "stdout",
     "output_type": "stream",
     "text": [
      "Would purchase: 165882\n",
      "Would not purchase: 407450\n",
      "Purchase percentage: 28.93\n"
     ]
    }
   ],
   "source": [
    "did_purchase = df_inference[\"Label\"].value_counts()[1]\n",
    "did_not_purchase = df_inference[\"Label\"].value_counts()[0]\n",
    "total_rows = df_inference[\"Label\"].count()\n",
    "purchase_percentage = round((did_purchase / total_rows)*100, 2)\n",
    "\n",
    "print(\"Would purchase:\", did_purchase)\n",
    "print(\"Would not purchase:\", did_not_purchase)\n",
    "print(\"Purchase percentage:\", purchase_percentage)"
   ]
  },
  {
   "cell_type": "markdown",
   "id": "3ff2abcf",
   "metadata": {},
   "source": [
    "### Here we can see the distribution of fans who did and did not purchase : Score_0 = Did Not Purchase, Score_1 = Did Purchase:"
   ]
  },
  {
   "cell_type": "code",
   "execution_count": 19,
   "id": "12a3ded0",
   "metadata": {},
   "outputs": [
    {
     "data": {
      "image/png": "[encoded data removed]",
      "text/plain": [
       "<Figure size 2160x360 with 3 Axes>"
      ]
     },
     "metadata": {
      "needs_background": "light"
     },
     "output_type": "display_data"
    }
   ],
   "source": [
    "df_inference.hist(column=['Score_0', 'Score_1'], figsize=(30,5), layout=(1,3));"
   ]
  }
 ],
 "metadata": {
  "kernelspec": {
   "display_name": "conda_python3",
   "language": "python",
   "name": "conda_python3"
  },
  "language_info": {
   "codemirror_mode": {
    "name": "ipython",
    "version": 3
   },
   "file_extension": ".py",
   "mimetype": "text/x-python",
   "name": "python",
   "nbconvert_exporter": "python",
   "pygments_lexer": "ipython3",
   "version": "3.6.13"
  }
 },
 "nbformat": 4,
 "nbformat_minor": 5
}
