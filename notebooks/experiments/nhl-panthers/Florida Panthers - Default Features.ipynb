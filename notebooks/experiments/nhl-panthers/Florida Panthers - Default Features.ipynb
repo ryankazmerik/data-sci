{
 "cells": [
  {
   "cell_type": "markdown",
   "id": "9575d83e",
   "metadata": {},
   "source": [
    "# Florida Panthers - Feature Selection\n",
    "* StellarAlgo Data Science\n",
    "* Ryan Kazmerik & Nakisa Rad\n",
    "* October 8, 2021"
   ]
  },
  {
   "cell_type": "markdown",
   "id": "62d7c5a2",
   "metadata": {},
   "source": [
    "## Hypothesis\n",
    "Two very important components of a machine learning model are feature selection and feature engineering. Our idea is that adding some more features to the StellarAlgo retention model could improve performance of the model."
   ]
  },
  {
   "cell_type": "markdown",
   "id": "c46403a5",
   "metadata": {},
   "source": [
    "## Experiment\n",
    "This section details our experiment including querying data, data transformations, feature selection and modelling."
   ]
  },
  {
   "cell_type": "code",
   "execution_count": 1,
   "id": "df2be620",
   "metadata": {},
   "outputs": [],
   "source": [
    "import getpass\n",
    "import pyodbc\n",
    "import pandas as pd\n",
    "import warnings\n",
    "import matplotlib.pyplot as plt\n",
    "\n",
    "from pycaret.classification import *\n",
    "from ngboost import NGBClassifier\n",
    "\n",
    "warnings.filterwarnings('ignore')"
   ]
  },
  {
   "cell_type": "markdown",
   "id": "5872346a",
   "metadata": {},
   "source": [
    "### Let's connect to MSSQL and run a stored proc to get our dataset:"
   ]
  },
  {
   "cell_type": "code",
   "execution_count": 2,
   "id": "c060d5cf",
   "metadata": {},
   "outputs": [
    {
     "name": "stdin",
     "output_type": "stream",
     "text": [
      "Enter your password ··················\n"
     ]
    }
   ],
   "source": [
    "# connect to SQL Server.\n",
    "SERVER = '34.206.73.189' \n",
    "DATABASE = 'datascience' \n",
    "USERNAME = 'dsAdminWrite' \n",
    "PASSWORD = getpass.getpass(prompt='Enter your password')\n",
    "CNXN = pyodbc.connect('DRIVER={ODBC Driver 17 for SQL Server};SERVER='+SERVER+';DATABASE='+DATABASE+';UID='+USERNAME+';PWD='+ PASSWORD)"
   ]
  },
  {
   "cell_type": "code",
   "execution_count": 15,
   "id": "b9615e8a",
   "metadata": {},
   "outputs": [
    {
     "data": {
      "text/plain": [
       "(15660, 55)"
      ]
     },
     "execution_count": 15,
     "metadata": {},
     "output_type": "execute_result"
    }
   ],
   "source": [
    "lkupclientid = 93 # panthers\n",
    "\n",
    "cursor = CNXN.cursor()\n",
    "\n",
    "storedProc = (\n",
    "    f\"\"\"Exec [stlrNHLPanthers].[ds].[getRetentionScoringModelData] {lkupclientid}\"\"\"\n",
    ")\n",
    "\n",
    "df = pd.read_sql(storedProc, CNXN)\n",
    "\n",
    "CNXN.commit()\n",
    "cursor.close()\n",
    "\n",
    "df.shape"
   ]
  },
  {
   "cell_type": "markdown",
   "id": "11953aff-440c-4596-afc7-fa28cda1ce74",
   "metadata": {},
   "source": [
    "### In order to compare two sets of features, we need to create some datasets for training and evalution:"
   ]
  },
  {
   "cell_type": "code",
   "execution_count": 16,
   "id": "1c8bad91-cdc3-40a7-8915-93f3048bfa53",
   "metadata": {},
   "outputs": [
    {
     "name": "stdout",
     "output_type": "stream",
     "text": [
      "Data for Modeling: (14094, 13)\n",
      "Unseen Data For Predictions: (1566, 13)\n",
      "\n"
     ]
    }
   ],
   "source": [
    "# choose the features for the stellar base retention model\n",
    "features = [\n",
    "    \"dimCustomerMasterId\",\n",
    "    \"attendancePercent\",\n",
    "    \"distToVenue\",\n",
    "    \"isNextYear_Buyer\",\n",
    "    \"missed_games_1\",\n",
    "    \"missed_games_2\",\n",
    "    \"missed_games_over_2\",\n",
    "    \"productGrouping\",\n",
    "    \"recency\",\n",
    "    \"renewedBeforeDays\",\n",
    "    \"source_tenure\",\n",
    "    \"totalSpent\",\n",
    "    \"year\"\n",
    "]\n",
    "\n",
    "# select 90% of the data for training\n",
    "df_train = df.sample(frac=0.9, random_state=786).reset_index(drop=True)\n",
    "\n",
    "# create the eval datasets for A and B\n",
    "df_eval = df.drop(df_train.index).reset_index(drop=True)\n",
    "\n",
    "# choose features for each train dataset\n",
    "df_train = df_train[features]\n",
    "\n",
    "# choose features for each train dataset\n",
    "df_eval = df_eval[features]\n",
    "\n",
    "# print out the number of records for training and eval\n",
    "print('Data for Modeling: ' + str(df_train.shape))\n",
    "print('Unseen Data For Predictions: ' + str(df_eval.shape), end=\"\\n\\n\")"
   ]
  },
  {
   "cell_type": "code",
   "execution_count": 17,
   "id": "d73b2f1b-f27a-44fc-936b-da62d7dbe9e2",
   "metadata": {},
   "outputs": [
    {
     "data": {
      "text/html": [
       "<div>\n",
       "<style scoped>\n",
       "    .dataframe tbody tr th:only-of-type {\n",
       "        vertical-align: middle;\n",
       "    }\n",
       "\n",
       "    .dataframe tbody tr th {\n",
       "        vertical-align: top;\n",
       "    }\n",
       "\n",
       "    .dataframe thead th {\n",
       "        text-align: right;\n",
       "    }\n",
       "</style>\n",
       "<table border=\"1\" class=\"dataframe\">\n",
       "  <thead>\n",
       "    <tr style=\"text-align: right;\">\n",
       "      <th></th>\n",
       "      <th>dimCustomerMasterId</th>\n",
       "      <th>attendancePercent</th>\n",
       "      <th>distToVenue</th>\n",
       "      <th>isNextYear_Buyer</th>\n",
       "      <th>missed_games_1</th>\n",
       "      <th>missed_games_2</th>\n",
       "      <th>missed_games_over_2</th>\n",
       "      <th>productGrouping</th>\n",
       "      <th>recency</th>\n",
       "      <th>renewedBeforeDays</th>\n",
       "      <th>source_tenure</th>\n",
       "      <th>totalSpent</th>\n",
       "      <th>year</th>\n",
       "    </tr>\n",
       "  </thead>\n",
       "  <tbody>\n",
       "    <tr>\n",
       "      <th>0</th>\n",
       "      <td>688534</td>\n",
       "      <td>0.916667</td>\n",
       "      <td>None</td>\n",
       "      <td>0</td>\n",
       "      <td>4</td>\n",
       "      <td>0</td>\n",
       "      <td>0</td>\n",
       "      <td>Full Season</td>\n",
       "      <td>0</td>\n",
       "      <td>68</td>\n",
       "      <td>4745</td>\n",
       "      <td>1036.0</td>\n",
       "      <td>2019</td>\n",
       "    </tr>\n",
       "    <tr>\n",
       "      <th>1</th>\n",
       "      <td>158979</td>\n",
       "      <td>1.000000</td>\n",
       "      <td>None</td>\n",
       "      <td>1</td>\n",
       "      <td>2</td>\n",
       "      <td>0</td>\n",
       "      <td>0</td>\n",
       "      <td>Full Season</td>\n",
       "      <td>0</td>\n",
       "      <td>69</td>\n",
       "      <td>3285</td>\n",
       "      <td>5272.0</td>\n",
       "      <td>2019</td>\n",
       "    </tr>\n",
       "    <tr>\n",
       "      <th>2</th>\n",
       "      <td>433921</td>\n",
       "      <td>1.000000</td>\n",
       "      <td>None</td>\n",
       "      <td>0</td>\n",
       "      <td>0</td>\n",
       "      <td>0</td>\n",
       "      <td>0</td>\n",
       "      <td>Half Season</td>\n",
       "      <td>0</td>\n",
       "      <td>212</td>\n",
       "      <td>2190</td>\n",
       "      <td>2604.0</td>\n",
       "      <td>2021</td>\n",
       "    </tr>\n",
       "    <tr>\n",
       "      <th>3</th>\n",
       "      <td>202879</td>\n",
       "      <td>0.491667</td>\n",
       "      <td>None</td>\n",
       "      <td>1</td>\n",
       "      <td>0</td>\n",
       "      <td>0</td>\n",
       "      <td>1</td>\n",
       "      <td>Full Season</td>\n",
       "      <td>0</td>\n",
       "      <td>49</td>\n",
       "      <td>8030</td>\n",
       "      <td>64001.2</td>\n",
       "      <td>2017</td>\n",
       "    </tr>\n",
       "    <tr>\n",
       "      <th>4</th>\n",
       "      <td>150189</td>\n",
       "      <td>0.647059</td>\n",
       "      <td>None</td>\n",
       "      <td>0</td>\n",
       "      <td>6</td>\n",
       "      <td>3</td>\n",
       "      <td>0</td>\n",
       "      <td>Full Season</td>\n",
       "      <td>0</td>\n",
       "      <td>185</td>\n",
       "      <td>1825</td>\n",
       "      <td>2040.0</td>\n",
       "      <td>2017</td>\n",
       "    </tr>\n",
       "  </tbody>\n",
       "</table>\n",
       "</div>"
      ],
      "text/plain": [
       "   dimCustomerMasterId  attendancePercent distToVenue  isNextYear_Buyer  \\\n",
       "0               688534           0.916667        None                 0   \n",
       "1               158979           1.000000        None                 1   \n",
       "2               433921           1.000000        None                 0   \n",
       "3               202879           0.491667        None                 1   \n",
       "4               150189           0.647059        None                 0   \n",
       "\n",
       "   missed_games_1  missed_games_2  missed_games_over_2 productGrouping  \\\n",
       "0               4               0                    0     Full Season   \n",
       "1               2               0                    0     Full Season   \n",
       "2               0               0                    0     Half Season   \n",
       "3               0               0                    1     Full Season   \n",
       "4               6               3                    0     Full Season   \n",
       "\n",
       "   recency  renewedBeforeDays  source_tenure  totalSpent  year  \n",
       "0        0                 68           4745      1036.0  2019  \n",
       "1        0                 69           3285      5272.0  2019  \n",
       "2        0                212           2190      2604.0  2021  \n",
       "3        0                 49           8030     64001.2  2017  \n",
       "4        0                185           1825      2040.0  2017  "
      ]
     },
     "execution_count": 17,
     "metadata": {},
     "output_type": "execute_result"
    }
   ],
   "source": [
    "df_train.head()"
   ]
  },
  {
   "cell_type": "markdown",
   "id": "9f34eb03-b49b-49e5-bce8-7caaa29c5dd7",
   "metadata": {},
   "source": [
    "## Now we can model the data using a binary classification prediction for the isnextyear_buyer field to see how likely a customer is to re-purchase."
   ]
  },
  {
   "cell_type": "code",
   "execution_count": null,
   "id": "3eabb279-56dd-4dbf-b7da-77bd2aa7cafa",
   "metadata": {},
   "outputs": [],
   "source": [
    "setup(\n",
    "    data= df_train, \n",
    "    target=\"isNextYear_Buyer\", \n",
    "    train_size = 0.80,\n",
    "    data_split_shuffle=True,\n",
    "    ignore_features=[\"dimCustomerMasterId\",\"productGrouping\",\"year\"],\n",
    "    silent=True,\n",
    "    verbose=False,\n",
    "    numeric_features=[\n",
    "        \"attendancePercent\",\n",
    "        \"distToVenue\",\n",
    "        \"missed_games_1\",\n",
    "        \"missed_games_2\",\n",
    "        \"missed_games_over_2\",\n",
    "        \"recency\",\n",
    "        \"renewedBeforeDays\",\n",
    "        \"source_tenure\",\n",
    "        \"totalSpent\"\n",
    "    ]\n",
    ");"
   ]
  },
  {
   "cell_type": "markdown",
   "id": "12cf8c2d-dbbd-470d-b2c1-babd7fd10a15",
   "metadata": {},
   "source": [
    "### Let's add one extra model not included in the default pycaret algorithms (ngboost), then we can execute each model and see the performance metrics:"
   ]
  },
  {
   "cell_type": "code",
   "execution_count": 23,
   "id": "05742a70-860c-477f-bea9-516a0a87c508",
   "metadata": {},
   "outputs": [
    {
     "data": {
      "text/html": [
       "<style  type=\"text/css\" >\n",
       "    #T_c3424_ th {\n",
       "          text-align: left;\n",
       "    }#T_c3424_row0_col0,#T_c3424_row1_col0,#T_c3424_row1_col1,#T_c3424_row1_col2,#T_c3424_row1_col3,#T_c3424_row1_col4,#T_c3424_row1_col5,#T_c3424_row1_col6,#T_c3424_row1_col7,#T_c3424_row2_col0,#T_c3424_row2_col1,#T_c3424_row2_col2,#T_c3424_row2_col3,#T_c3424_row2_col4,#T_c3424_row2_col5,#T_c3424_row2_col6,#T_c3424_row2_col7,#T_c3424_row3_col0,#T_c3424_row3_col1,#T_c3424_row3_col2,#T_c3424_row3_col3,#T_c3424_row3_col4,#T_c3424_row3_col5,#T_c3424_row3_col6,#T_c3424_row3_col7,#T_c3424_row4_col0,#T_c3424_row4_col1,#T_c3424_row4_col2,#T_c3424_row4_col3,#T_c3424_row4_col4,#T_c3424_row4_col5,#T_c3424_row4_col6,#T_c3424_row4_col7,#T_c3424_row5_col0,#T_c3424_row5_col1,#T_c3424_row5_col2,#T_c3424_row5_col3,#T_c3424_row5_col4,#T_c3424_row5_col5,#T_c3424_row5_col6,#T_c3424_row5_col7,#T_c3424_row6_col0,#T_c3424_row6_col1,#T_c3424_row6_col2,#T_c3424_row6_col3,#T_c3424_row6_col4,#T_c3424_row6_col5,#T_c3424_row6_col6,#T_c3424_row6_col7,#T_c3424_row7_col0,#T_c3424_row7_col1,#T_c3424_row7_col2,#T_c3424_row7_col3,#T_c3424_row7_col4,#T_c3424_row7_col5,#T_c3424_row7_col6,#T_c3424_row7_col7,#T_c3424_row8_col0,#T_c3424_row8_col1,#T_c3424_row8_col2,#T_c3424_row8_col3,#T_c3424_row8_col4,#T_c3424_row8_col5,#T_c3424_row8_col6,#T_c3424_row8_col7,#T_c3424_row9_col0,#T_c3424_row9_col1,#T_c3424_row9_col2,#T_c3424_row9_col3,#T_c3424_row9_col4,#T_c3424_row9_col5,#T_c3424_row9_col6,#T_c3424_row9_col7{\n",
       "            text-align:  left;\n",
       "            text-align:  left;\n",
       "        }#T_c3424_row0_col1,#T_c3424_row0_col2,#T_c3424_row0_col3,#T_c3424_row0_col4,#T_c3424_row0_col5,#T_c3424_row0_col6,#T_c3424_row0_col7{\n",
       "            text-align:  left;\n",
       "            text-align:  left;\n",
       "            background-color:  yellow;\n",
       "        }#T_c3424_row0_col8,#T_c3424_row1_col8,#T_c3424_row2_col8,#T_c3424_row3_col8,#T_c3424_row4_col8,#T_c3424_row5_col8,#T_c3424_row6_col8,#T_c3424_row7_col8,#T_c3424_row8_col8{\n",
       "            text-align:  left;\n",
       "            text-align:  left;\n",
       "            background-color:  lightgrey;\n",
       "        }#T_c3424_row9_col8{\n",
       "            text-align:  left;\n",
       "            text-align:  left;\n",
       "            background-color:  yellow;\n",
       "            background-color:  lightgrey;\n",
       "        }</style><table id=\"T_c3424_\" ><thead>    <tr>        <th class=\"blank level0\" ></th>        <th class=\"col_heading level0 col0\" >Model</th>        <th class=\"col_heading level0 col1\" >Accuracy</th>        <th class=\"col_heading level0 col2\" >AUC</th>        <th class=\"col_heading level0 col3\" >Recall</th>        <th class=\"col_heading level0 col4\" >Prec.</th>        <th class=\"col_heading level0 col5\" >F1</th>        <th class=\"col_heading level0 col6\" >Kappa</th>        <th class=\"col_heading level0 col7\" >MCC</th>        <th class=\"col_heading level0 col8\" >TT (Sec)</th>    </tr></thead><tbody>\n",
       "                <tr>\n",
       "                        <th id=\"T_c3424_level0_row0\" class=\"row_heading level0 row0\" >5</th>\n",
       "                        <td id=\"T_c3424_row0_col0\" class=\"data row0 col0\" >Light Gradient Boosting Machine</td>\n",
       "                        <td id=\"T_c3424_row0_col1\" class=\"data row0 col1\" >0.7771</td>\n",
       "                        <td id=\"T_c3424_row0_col2\" class=\"data row0 col2\" >0.8493</td>\n",
       "                        <td id=\"T_c3424_row0_col3\" class=\"data row0 col3\" >0.8221</td>\n",
       "                        <td id=\"T_c3424_row0_col4\" class=\"data row0 col4\" >0.7620</td>\n",
       "                        <td id=\"T_c3424_row0_col5\" class=\"data row0 col5\" >0.7909</td>\n",
       "                        <td id=\"T_c3424_row0_col6\" class=\"data row0 col6\" >0.5530</td>\n",
       "                        <td id=\"T_c3424_row0_col7\" class=\"data row0 col7\" >0.5550</td>\n",
       "                        <td id=\"T_c3424_row0_col8\" class=\"data row0 col8\" >0.0310</td>\n",
       "            </tr>\n",
       "            <tr>\n",
       "                        <th id=\"T_c3424_level0_row1\" class=\"row_heading level0 row1\" >7</th>\n",
       "                        <td id=\"T_c3424_row1_col0\" class=\"data row1 col0\" >Random Forest Classifier</td>\n",
       "                        <td id=\"T_c3424_row1_col1\" class=\"data row1 col1\" >0.7659</td>\n",
       "                        <td id=\"T_c3424_row1_col2\" class=\"data row1 col2\" >0.8383</td>\n",
       "                        <td id=\"T_c3424_row1_col3\" class=\"data row1 col3\" >0.8055</td>\n",
       "                        <td id=\"T_c3424_row1_col4\" class=\"data row1 col4\" >0.7544</td>\n",
       "                        <td id=\"T_c3424_row1_col5\" class=\"data row1 col5\" >0.7791</td>\n",
       "                        <td id=\"T_c3424_row1_col6\" class=\"data row1 col6\" >0.5306</td>\n",
       "                        <td id=\"T_c3424_row1_col7\" class=\"data row1 col7\" >0.5320</td>\n",
       "                        <td id=\"T_c3424_row1_col8\" class=\"data row1 col8\" >0.2210</td>\n",
       "            </tr>\n",
       "            <tr>\n",
       "                        <th id=\"T_c3424_level0_row2\" class=\"row_heading level0 row2\" >9</th>\n",
       "                        <td id=\"T_c3424_row2_col0\" class=\"data row2 col0\" >Extreme Gradient Boosting</td>\n",
       "                        <td id=\"T_c3424_row2_col1\" class=\"data row2 col1\" >0.7653</td>\n",
       "                        <td id=\"T_c3424_row2_col2\" class=\"data row2 col2\" >0.8434</td>\n",
       "                        <td id=\"T_c3424_row2_col3\" class=\"data row2 col3\" >0.7991</td>\n",
       "                        <td id=\"T_c3424_row2_col4\" class=\"data row2 col4\" >0.7569</td>\n",
       "                        <td id=\"T_c3424_row2_col5\" class=\"data row2 col5\" >0.7773</td>\n",
       "                        <td id=\"T_c3424_row2_col6\" class=\"data row2 col6\" >0.5297</td>\n",
       "                        <td id=\"T_c3424_row2_col7\" class=\"data row2 col7\" >0.5307</td>\n",
       "                        <td id=\"T_c3424_row2_col8\" class=\"data row2 col8\" >0.4390</td>\n",
       "            </tr>\n",
       "            <tr>\n",
       "                        <th id=\"T_c3424_level0_row3\" class=\"row_heading level0 row3\" >2</th>\n",
       "                        <td id=\"T_c3424_row3_col0\" class=\"data row3 col0\" >Gradient Boosting Classifier</td>\n",
       "                        <td id=\"T_c3424_row3_col1\" class=\"data row3 col1\" >0.7584</td>\n",
       "                        <td id=\"T_c3424_row3_col2\" class=\"data row3 col2\" >0.8328</td>\n",
       "                        <td id=\"T_c3424_row3_col3\" class=\"data row3 col3\" >0.8080</td>\n",
       "                        <td id=\"T_c3424_row3_col4\" class=\"data row3 col4\" >0.7432</td>\n",
       "                        <td id=\"T_c3424_row3_col5\" class=\"data row3 col5\" >0.7741</td>\n",
       "                        <td id=\"T_c3424_row3_col6\" class=\"data row3 col6\" >0.5154</td>\n",
       "                        <td id=\"T_c3424_row3_col7\" class=\"data row3 col7\" >0.5177</td>\n",
       "                        <td id=\"T_c3424_row3_col8\" class=\"data row3 col8\" >0.1250</td>\n",
       "            </tr>\n",
       "            <tr>\n",
       "                        <th id=\"T_c3424_level0_row4\" class=\"row_heading level0 row4\" >3</th>\n",
       "                        <td id=\"T_c3424_row4_col0\" class=\"data row4 col0\" >Extra Trees Classifier</td>\n",
       "                        <td id=\"T_c3424_row4_col1\" class=\"data row4 col1\" >0.7478</td>\n",
       "                        <td id=\"T_c3424_row4_col2\" class=\"data row4 col2\" >0.8162</td>\n",
       "                        <td id=\"T_c3424_row4_col3\" class=\"data row4 col3\" >0.7874</td>\n",
       "                        <td id=\"T_c3424_row4_col4\" class=\"data row4 col4\" >0.7383</td>\n",
       "                        <td id=\"T_c3424_row4_col5\" class=\"data row4 col5\" >0.7619</td>\n",
       "                        <td id=\"T_c3424_row4_col6\" class=\"data row4 col6\" >0.4945</td>\n",
       "                        <td id=\"T_c3424_row4_col7\" class=\"data row4 col7\" >0.4959</td>\n",
       "                        <td id=\"T_c3424_row4_col8\" class=\"data row4 col8\" >0.2050</td>\n",
       "            </tr>\n",
       "            <tr>\n",
       "                        <th id=\"T_c3424_level0_row5\" class=\"row_heading level0 row5\" >8</th>\n",
       "                        <td id=\"T_c3424_row5_col0\" class=\"data row5 col0\" >NGBClassifier</td>\n",
       "                        <td id=\"T_c3424_row5_col1\" class=\"data row5 col1\" >0.7256</td>\n",
       "                        <td id=\"T_c3424_row5_col2\" class=\"data row5 col2\" >0.8024</td>\n",
       "                        <td id=\"T_c3424_row5_col3\" class=\"data row5 col3\" >0.7905</td>\n",
       "                        <td id=\"T_c3424_row5_col4\" class=\"data row5 col4\" >0.7081</td>\n",
       "                        <td id=\"T_c3424_row5_col5\" class=\"data row5 col5\" >0.7469</td>\n",
       "                        <td id=\"T_c3424_row5_col6\" class=\"data row5 col6\" >0.4492</td>\n",
       "                        <td id=\"T_c3424_row5_col7\" class=\"data row5 col7\" >0.4527</td>\n",
       "                        <td id=\"T_c3424_row5_col8\" class=\"data row5 col8\" >1.9140</td>\n",
       "            </tr>\n",
       "            <tr>\n",
       "                        <th id=\"T_c3424_level0_row6\" class=\"row_heading level0 row6\" >0</th>\n",
       "                        <td id=\"T_c3424_row6_col0\" class=\"data row6 col0\" >Ada Boost Classifier</td>\n",
       "                        <td id=\"T_c3424_row6_col1\" class=\"data row6 col1\" >0.7228</td>\n",
       "                        <td id=\"T_c3424_row6_col2\" class=\"data row6 col2\" >0.7968</td>\n",
       "                        <td id=\"T_c3424_row6_col3\" class=\"data row6 col3\" >0.7791</td>\n",
       "                        <td id=\"T_c3424_row6_col4\" class=\"data row6 col4\" >0.7092</td>\n",
       "                        <td id=\"T_c3424_row6_col5\" class=\"data row6 col5\" >0.7423</td>\n",
       "                        <td id=\"T_c3424_row6_col6\" class=\"data row6 col6\" >0.4439</td>\n",
       "                        <td id=\"T_c3424_row6_col7\" class=\"data row6 col7\" >0.4464</td>\n",
       "                        <td id=\"T_c3424_row6_col8\" class=\"data row6 col8\" >0.1950</td>\n",
       "            </tr>\n",
       "            <tr>\n",
       "                        <th id=\"T_c3424_level0_row7\" class=\"row_heading level0 row7\" >1</th>\n",
       "                        <td id=\"T_c3424_row7_col0\" class=\"data row7 col0\" >Decision Tree Classifier</td>\n",
       "                        <td id=\"T_c3424_row7_col1\" class=\"data row7 col1\" >0.6943</td>\n",
       "                        <td id=\"T_c3424_row7_col2\" class=\"data row7 col2\" >0.6943</td>\n",
       "                        <td id=\"T_c3424_row7_col3\" class=\"data row7 col3\" >0.6960</td>\n",
       "                        <td id=\"T_c3424_row7_col4\" class=\"data row7 col4\" >0.7041</td>\n",
       "                        <td id=\"T_c3424_row7_col5\" class=\"data row7 col5\" >0.7000</td>\n",
       "                        <td id=\"T_c3424_row7_col6\" class=\"data row7 col6\" >0.3884</td>\n",
       "                        <td id=\"T_c3424_row7_col7\" class=\"data row7 col7\" >0.3885</td>\n",
       "                        <td id=\"T_c3424_row7_col8\" class=\"data row7 col8\" >0.0160</td>\n",
       "            </tr>\n",
       "            <tr>\n",
       "                        <th id=\"T_c3424_level0_row8\" class=\"row_heading level0 row8\" >4</th>\n",
       "                        <td id=\"T_c3424_row8_col0\" class=\"data row8 col0\" >K Neighbors Classifier</td>\n",
       "                        <td id=\"T_c3424_row8_col1\" class=\"data row8 col1\" >0.6157</td>\n",
       "                        <td id=\"T_c3424_row8_col2\" class=\"data row8 col2\" >0.6530</td>\n",
       "                        <td id=\"T_c3424_row8_col3\" class=\"data row8 col3\" >0.6389</td>\n",
       "                        <td id=\"T_c3424_row8_col4\" class=\"data row8 col4\" >0.6217</td>\n",
       "                        <td id=\"T_c3424_row8_col5\" class=\"data row8 col5\" >0.6301</td>\n",
       "                        <td id=\"T_c3424_row8_col6\" class=\"data row8 col6\" >0.2304</td>\n",
       "                        <td id=\"T_c3424_row8_col7\" class=\"data row8 col7\" >0.2306</td>\n",
       "                        <td id=\"T_c3424_row8_col8\" class=\"data row8 col8\" >0.0330</td>\n",
       "            </tr>\n",
       "            <tr>\n",
       "                        <th id=\"T_c3424_level0_row9\" class=\"row_heading level0 row9\" >6</th>\n",
       "                        <td id=\"T_c3424_row9_col0\" class=\"data row9 col0\" >Logistic Regression</td>\n",
       "                        <td id=\"T_c3424_row9_col1\" class=\"data row9 col1\" >0.5787</td>\n",
       "                        <td id=\"T_c3424_row9_col2\" class=\"data row9 col2\" >0.6355</td>\n",
       "                        <td id=\"T_c3424_row9_col3\" class=\"data row9 col3\" >0.7939</td>\n",
       "                        <td id=\"T_c3424_row9_col4\" class=\"data row9 col4\" >0.5719</td>\n",
       "                        <td id=\"T_c3424_row9_col5\" class=\"data row9 col5\" >0.6601</td>\n",
       "                        <td id=\"T_c3424_row9_col6\" class=\"data row9 col6\" >0.1472</td>\n",
       "                        <td id=\"T_c3424_row9_col7\" class=\"data row9 col7\" >0.1582</td>\n",
       "                        <td id=\"T_c3424_row9_col8\" class=\"data row9 col8\" >0.0140</td>\n",
       "            </tr>\n",
       "    </tbody></table>"
      ],
      "text/plain": [
       "<pandas.io.formats.style.Styler at 0x7fa4a21fd210>"
      ]
     },
     "metadata": {},
     "output_type": "display_data"
    }
   ],
   "source": [
    "# adding an extra classifier ngboost\n",
    "ngc = NGBClassifier()\n",
    "ngboost = create_model(ngc)\n",
    "\n",
    "model_matrix = compare_models(\n",
    "    fold=10,\n",
    "    include=[\"ada\",\"dt\",\"gbc\",\"et\",\"knn\",\"lightgbm\",\"lr\",\"rf\",ngboost,\"xgboost\"]\n",
    ")"
   ]
  },
  {
   "cell_type": "markdown",
   "id": "f403c988",
   "metadata": {},
   "source": [
    "## Results"
   ]
  },
  {
   "cell_type": "markdown",
   "id": "03df160e-ac51-4adb-a131-91201fdd8358",
   "metadata": {},
   "source": [
    "### The top model is performing well, so let's compare it against our unseen evaluation dataset:"
   ]
  },
  {
   "cell_type": "code",
   "execution_count": 24,
   "id": "9b4716b3-5a6b-4942-a32c-7ef3e9083509",
   "metadata": {},
   "outputs": [
    {
     "data": {
      "text/html": [
       "<style  type=\"text/css\" >\n",
       "#T_7fe40_row10_col0,#T_7fe40_row10_col1,#T_7fe40_row10_col2,#T_7fe40_row10_col3,#T_7fe40_row10_col4,#T_7fe40_row10_col5,#T_7fe40_row10_col6{\n",
       "            background:  yellow;\n",
       "        }</style><table id=\"T_7fe40_\" ><thead>    <tr>        <th class=\"blank level0\" ></th>        <th class=\"col_heading level0 col0\" >Accuracy</th>        <th class=\"col_heading level0 col1\" >AUC</th>        <th class=\"col_heading level0 col2\" >Recall</th>        <th class=\"col_heading level0 col3\" >Prec.</th>        <th class=\"col_heading level0 col4\" >F1</th>        <th class=\"col_heading level0 col5\" >Kappa</th>        <th class=\"col_heading level0 col6\" >MCC</th>    </tr></thead><tbody>\n",
       "                <tr>\n",
       "                        <th id=\"T_7fe40_level0_row0\" class=\"row_heading level0 row0\" >0</th>\n",
       "                        <td id=\"T_7fe40_row0_col0\" class=\"data row0 col0\" >0.7748</td>\n",
       "                        <td id=\"T_7fe40_row0_col1\" class=\"data row0 col1\" >0.8451</td>\n",
       "                        <td id=\"T_7fe40_row0_col2\" class=\"data row0 col2\" >0.8149</td>\n",
       "                        <td id=\"T_7fe40_row0_col3\" class=\"data row0 col3\" >0.7621</td>\n",
       "                        <td id=\"T_7fe40_row0_col4\" class=\"data row0 col4\" >0.7876</td>\n",
       "                        <td id=\"T_7fe40_row0_col5\" class=\"data row0 col5\" >0.5486</td>\n",
       "                        <td id=\"T_7fe40_row0_col6\" class=\"data row0 col6\" >0.5500</td>\n",
       "            </tr>\n",
       "            <tr>\n",
       "                        <th id=\"T_7fe40_level0_row1\" class=\"row_heading level0 row1\" >1</th>\n",
       "                        <td id=\"T_7fe40_row1_col0\" class=\"data row1 col0\" >0.7677</td>\n",
       "                        <td id=\"T_7fe40_row1_col1\" class=\"data row1 col1\" >0.8491</td>\n",
       "                        <td id=\"T_7fe40_row1_col2\" class=\"data row1 col2\" >0.7941</td>\n",
       "                        <td id=\"T_7fe40_row1_col3\" class=\"data row1 col3\" >0.7625</td>\n",
       "                        <td id=\"T_7fe40_row1_col4\" class=\"data row1 col4\" >0.7780</td>\n",
       "                        <td id=\"T_7fe40_row1_col5\" class=\"data row1 col5\" >0.5347</td>\n",
       "                        <td id=\"T_7fe40_row1_col6\" class=\"data row1 col6\" >0.5352</td>\n",
       "            </tr>\n",
       "            <tr>\n",
       "                        <th id=\"T_7fe40_level0_row2\" class=\"row_heading level0 row2\" >2</th>\n",
       "                        <td id=\"T_7fe40_row2_col0\" class=\"data row2 col0\" >0.7872</td>\n",
       "                        <td id=\"T_7fe40_row2_col1\" class=\"data row2 col1\" >0.8568</td>\n",
       "                        <td id=\"T_7fe40_row2_col2\" class=\"data row2 col2\" >0.8460</td>\n",
       "                        <td id=\"T_7fe40_row2_col3\" class=\"data row2 col3\" >0.7641</td>\n",
       "                        <td id=\"T_7fe40_row2_col4\" class=\"data row2 col4\" >0.8030</td>\n",
       "                        <td id=\"T_7fe40_row2_col5\" class=\"data row2 col5\" >0.5730</td>\n",
       "                        <td id=\"T_7fe40_row2_col6\" class=\"data row2 col6\" >0.5766</td>\n",
       "            </tr>\n",
       "            <tr>\n",
       "                        <th id=\"T_7fe40_level0_row3\" class=\"row_heading level0 row3\" >3</th>\n",
       "                        <td id=\"T_7fe40_row3_col0\" class=\"data row3 col0\" >0.7704</td>\n",
       "                        <td id=\"T_7fe40_row3_col1\" class=\"data row3 col1\" >0.8506</td>\n",
       "                        <td id=\"T_7fe40_row3_col2\" class=\"data row3 col2\" >0.8391</td>\n",
       "                        <td id=\"T_7fe40_row3_col3\" class=\"data row3 col3\" >0.7450</td>\n",
       "                        <td id=\"T_7fe40_row3_col4\" class=\"data row3 col4\" >0.7893</td>\n",
       "                        <td id=\"T_7fe40_row3_col5\" class=\"data row3 col5\" >0.5390</td>\n",
       "                        <td id=\"T_7fe40_row3_col6\" class=\"data row3 col6\" >0.5436</td>\n",
       "            </tr>\n",
       "            <tr>\n",
       "                        <th id=\"T_7fe40_level0_row4\" class=\"row_heading level0 row4\" >4</th>\n",
       "                        <td id=\"T_7fe40_row4_col0\" class=\"data row4 col0\" >0.7890</td>\n",
       "                        <td id=\"T_7fe40_row4_col1\" class=\"data row4 col1\" >0.8532</td>\n",
       "                        <td id=\"T_7fe40_row4_col2\" class=\"data row4 col2\" >0.8287</td>\n",
       "                        <td id=\"T_7fe40_row4_col3\" class=\"data row4 col3\" >0.7751</td>\n",
       "                        <td id=\"T_7fe40_row4_col4\" class=\"data row4 col4\" >0.8010</td>\n",
       "                        <td id=\"T_7fe40_row4_col5\" class=\"data row4 col5\" >0.5770</td>\n",
       "                        <td id=\"T_7fe40_row4_col6\" class=\"data row4 col6\" >0.5785</td>\n",
       "            </tr>\n",
       "            <tr>\n",
       "                        <th id=\"T_7fe40_level0_row5\" class=\"row_heading level0 row5\" >5</th>\n",
       "                        <td id=\"T_7fe40_row5_col0\" class=\"data row5 col0\" >0.7879</td>\n",
       "                        <td id=\"T_7fe40_row5_col1\" class=\"data row5 col1\" >0.8522</td>\n",
       "                        <td id=\"T_7fe40_row5_col2\" class=\"data row5 col2\" >0.8391</td>\n",
       "                        <td id=\"T_7fe40_row5_col3\" class=\"data row5 col3\" >0.7686</td>\n",
       "                        <td id=\"T_7fe40_row5_col4\" class=\"data row5 col4\" >0.8023</td>\n",
       "                        <td id=\"T_7fe40_row5_col5\" class=\"data row5 col5\" >0.5746</td>\n",
       "                        <td id=\"T_7fe40_row5_col6\" class=\"data row5 col6\" >0.5771</td>\n",
       "            </tr>\n",
       "            <tr>\n",
       "                        <th id=\"T_7fe40_level0_row6\" class=\"row_heading level0 row6\" >6</th>\n",
       "                        <td id=\"T_7fe40_row6_col0\" class=\"data row6 col0\" >0.7879</td>\n",
       "                        <td id=\"T_7fe40_row6_col1\" class=\"data row6 col1\" >0.8560</td>\n",
       "                        <td id=\"T_7fe40_row6_col2\" class=\"data row6 col2\" >0.8201</td>\n",
       "                        <td id=\"T_7fe40_row6_col3\" class=\"data row6 col3\" >0.7783</td>\n",
       "                        <td id=\"T_7fe40_row6_col4\" class=\"data row6 col4\" >0.7987</td>\n",
       "                        <td id=\"T_7fe40_row6_col5\" class=\"data row6 col5\" >0.5750</td>\n",
       "                        <td id=\"T_7fe40_row6_col6\" class=\"data row6 col6\" >0.5759</td>\n",
       "            </tr>\n",
       "            <tr>\n",
       "                        <th id=\"T_7fe40_level0_row7\" class=\"row_heading level0 row7\" >7</th>\n",
       "                        <td id=\"T_7fe40_row7_col0\" class=\"data row7 col0\" >0.7675</td>\n",
       "                        <td id=\"T_7fe40_row7_col1\" class=\"data row7 col1\" >0.8483</td>\n",
       "                        <td id=\"T_7fe40_row7_col2\" class=\"data row7 col2\" >0.8097</td>\n",
       "                        <td id=\"T_7fe40_row7_col3\" class=\"data row7 col3\" >0.7548</td>\n",
       "                        <td id=\"T_7fe40_row7_col4\" class=\"data row7 col4\" >0.7813</td>\n",
       "                        <td id=\"T_7fe40_row7_col5\" class=\"data row7 col5\" >0.5338</td>\n",
       "                        <td id=\"T_7fe40_row7_col6\" class=\"data row7 col6\" >0.5353</td>\n",
       "            </tr>\n",
       "            <tr>\n",
       "                        <th id=\"T_7fe40_level0_row8\" class=\"row_heading level0 row8\" >8</th>\n",
       "                        <td id=\"T_7fe40_row8_col0\" class=\"data row8 col0\" >0.7551</td>\n",
       "                        <td id=\"T_7fe40_row8_col1\" class=\"data row8 col1\" >0.8245</td>\n",
       "                        <td id=\"T_7fe40_row8_col2\" class=\"data row8 col2\" >0.8028</td>\n",
       "                        <td id=\"T_7fe40_row8_col3\" class=\"data row8 col3\" >0.7412</td>\n",
       "                        <td id=\"T_7fe40_row8_col4\" class=\"data row8 col4\" >0.7708</td>\n",
       "                        <td id=\"T_7fe40_row8_col5\" class=\"data row8 col5\" >0.5088</td>\n",
       "                        <td id=\"T_7fe40_row8_col6\" class=\"data row8 col6\" >0.5107</td>\n",
       "            </tr>\n",
       "            <tr>\n",
       "                        <th id=\"T_7fe40_level0_row9\" class=\"row_heading level0 row9\" >9</th>\n",
       "                        <td id=\"T_7fe40_row9_col0\" class=\"data row9 col0\" >0.7835</td>\n",
       "                        <td id=\"T_7fe40_row9_col1\" class=\"data row9 col1\" >0.8576</td>\n",
       "                        <td id=\"T_7fe40_row9_col2\" class=\"data row9 col2\" >0.8270</td>\n",
       "                        <td id=\"T_7fe40_row9_col3\" class=\"data row9 col3\" >0.7685</td>\n",
       "                        <td id=\"T_7fe40_row9_col4\" class=\"data row9 col4\" >0.7967</td>\n",
       "                        <td id=\"T_7fe40_row9_col5\" class=\"data row9 col5\" >0.5658</td>\n",
       "                        <td id=\"T_7fe40_row9_col6\" class=\"data row9 col6\" >0.5676</td>\n",
       "            </tr>\n",
       "            <tr>\n",
       "                        <th id=\"T_7fe40_level0_row10\" class=\"row_heading level0 row10\" >Mean</th>\n",
       "                        <td id=\"T_7fe40_row10_col0\" class=\"data row10 col0\" >0.7771</td>\n",
       "                        <td id=\"T_7fe40_row10_col1\" class=\"data row10 col1\" >0.8493</td>\n",
       "                        <td id=\"T_7fe40_row10_col2\" class=\"data row10 col2\" >0.8221</td>\n",
       "                        <td id=\"T_7fe40_row10_col3\" class=\"data row10 col3\" >0.7620</td>\n",
       "                        <td id=\"T_7fe40_row10_col4\" class=\"data row10 col4\" >0.7909</td>\n",
       "                        <td id=\"T_7fe40_row10_col5\" class=\"data row10 col5\" >0.5530</td>\n",
       "                        <td id=\"T_7fe40_row10_col6\" class=\"data row10 col6\" >0.5550</td>\n",
       "            </tr>\n",
       "            <tr>\n",
       "                        <th id=\"T_7fe40_level0_row11\" class=\"row_heading level0 row11\" >SD</th>\n",
       "                        <td id=\"T_7fe40_row11_col0\" class=\"data row11 col0\" >0.0111</td>\n",
       "                        <td id=\"T_7fe40_row11_col1\" class=\"data row11 col1\" >0.0091</td>\n",
       "                        <td id=\"T_7fe40_row11_col2\" class=\"data row11 col2\" >0.0161</td>\n",
       "                        <td id=\"T_7fe40_row11_col3\" class=\"data row11 col3\" >0.0114</td>\n",
       "                        <td id=\"T_7fe40_row11_col4\" class=\"data row11 col4\" >0.0107</td>\n",
       "                        <td id=\"T_7fe40_row11_col5\" class=\"data row11 col5\" >0.0223</td>\n",
       "                        <td id=\"T_7fe40_row11_col6\" class=\"data row11 col6\" >0.0224</td>\n",
       "            </tr>\n",
       "    </tbody></table>"
      ],
      "text/plain": [
       "<pandas.io.formats.style.Styler at 0x7fa4a22b6d50>"
      ]
     },
     "metadata": {},
     "output_type": "display_data"
    }
   ],
   "source": [
    "best_model = create_model(model_matrix)\n",
    "\n",
    "unseen_predictions = predict_model(best_model, data=df_eval)"
   ]
  },
  {
   "cell_type": "code",
   "execution_count": 25,
   "id": "7e22aece-548d-49e8-a88c-c276cecd27f6",
   "metadata": {},
   "outputs": [
    {
     "data": {
      "image/png": "[encoded data removed]",
      "text/plain": [
       "<Figure size 800x500 with 1 Axes>"
      ]
     },
     "metadata": {},
     "output_type": "display_data"
    }
   ],
   "source": [
    "plot_model(best_model, plot='feature')"
   ]
  },
  {
   "cell_type": "code",
   "execution_count": 26,
   "id": "92d355a2-c3e5-4084-8a4c-86b2778273b2",
   "metadata": {},
   "outputs": [
    {
     "data": {
      "image/png": "[encoded data removed]",
      "text/plain": [
       "<Figure size 576x396 with 1 Axes>"
      ]
     },
     "metadata": {},
     "output_type": "display_data"
    }
   ],
   "source": [
    "plot_model(best_model, plot='confusion_matrix')"
   ]
  },
  {
   "cell_type": "markdown",
   "id": "22e76df0",
   "metadata": {},
   "source": [
    "## Observations\n",
    "Here you can document some ideas on the results from above"
   ]
  },
  {
   "cell_type": "markdown",
   "id": "abda0dfd",
   "metadata": {},
   "source": [
    "## Conclusions\n",
    "Here you can talk about next steps, did the experiment work? If yes, what to do next? If no, why?"
   ]
  }
 ],
 "metadata": {
  "kernelspec": {
   "display_name": "Python 3 (ipykernel)",
   "language": "python",
   "name": "python3"
  },
  "language_info": {
   "codemirror_mode": {
    "name": "ipython",
    "version": 3
   },
   "file_extension": ".py",
   "mimetype": "text/x-python",
   "name": "python",
   "nbconvert_exporter": "python",
   "pygments_lexer": "ipython3",
   "version": "3.7.10"
  }
 },
 "nbformat": 4,
 "nbformat_minor": 5
}
