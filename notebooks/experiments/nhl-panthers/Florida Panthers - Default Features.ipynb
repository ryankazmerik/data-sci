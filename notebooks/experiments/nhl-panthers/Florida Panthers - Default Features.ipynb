{
 "cells": [
  {
   "cell_type": "markdown",
   "id": "9575d83e",
   "metadata": {},
   "source": [
    "# Florida Panthers - Feature Selection\n",
    "* StellarAlgo Data Science\n",
    "* Ryan Kazmerik & Nakisa Rad\n",
    "* October 8, 2021"
   ]
  },
  {
   "cell_type": "markdown",
   "id": "62d7c5a2",
   "metadata": {},
   "source": [
    "## Hypothesis\n",
    "Two very important components of a machine learning model are feature selection and feature engineering. Our idea is that adding some more features to the StellarAlgo retention model could improve performance of the model. This notebook will test the standard features used by the StellarAlgo retention model."
   ]
  },
  {
   "cell_type": "markdown",
   "id": "c46403a5",
   "metadata": {},
   "source": [
    "## Experiment\n",
    "This section details our experiment including querying data, data transformations, feature selection and modelling."
   ]
  },
  {
   "cell_type": "code",
   "execution_count": 2,
   "id": "df2be620",
   "metadata": {},
   "outputs": [],
   "source": [
    "import getpass\n",
    "import pyodbc\n",
    "import pandas as pd\n",
    "import warnings\n",
    "import matplotlib.pyplot as plt\n",
    "\n",
    "from pycaret.classification import *\n",
    "from ngboost import NGBClassifier\n",
    "\n",
    "warnings.filterwarnings('ignore')"
   ]
  },
  {
   "cell_type": "markdown",
   "id": "5872346a",
   "metadata": {},
   "source": [
    "### Let's connect to MSSQL and run a stored proc to get our dataset:"
   ]
  },
  {
   "cell_type": "code",
   "execution_count": 3,
   "id": "c060d5cf",
   "metadata": {},
   "outputs": [
    {
     "name": "stdin",
     "output_type": "stream",
     "text": [
      "Enter your password ··················\n"
     ]
    }
   ],
   "source": [
    "# connect to SQL Server.\n",
    "SERVER = '34.206.73.189' \n",
    "DATABASE = 'datascience' \n",
    "USERNAME = 'dsAdminWrite' \n",
    "PASSWORD = getpass.getpass(prompt='Enter your password')\n",
    "CNXN = pyodbc.connect('DRIVER={ODBC Driver 17 for SQL Server};SERVER='+SERVER+';DATABASE='+DATABASE+';UID='+USERNAME+';PWD='+ PASSWORD)"
   ]
  },
  {
   "cell_type": "code",
   "execution_count": 4,
   "id": "b9615e8a",
   "metadata": {},
   "outputs": [
    {
     "data": {
      "text/plain": [
       "(15842, 55)"
      ]
     },
     "execution_count": 4,
     "metadata": {},
     "output_type": "execute_result"
    }
   ],
   "source": [
    "lkupclientid = 93 # panthers\n",
    "\n",
    "cursor = CNXN.cursor()\n",
    "\n",
    "storedProc = (\n",
    "    f\"\"\"Exec [stlrNHLPanthers].[ds].[getRetentionScoringModelData] {lkupclientid}\"\"\"\n",
    ")\n",
    "\n",
    "df = pd.read_sql(storedProc, CNXN)\n",
    "\n",
    "CNXN.commit()\n",
    "cursor.close()\n",
    "\n",
    "df.shape"
   ]
  },
  {
   "cell_type": "markdown",
   "id": "11953aff-440c-4596-afc7-fa28cda1ce74",
   "metadata": {},
   "source": [
    "### In order to compare two sets of features, we need to create some datasets for training and evalution:"
   ]
  },
  {
   "cell_type": "code",
   "execution_count": 6,
   "id": "1c8bad91-cdc3-40a7-8915-93f3048bfa53",
   "metadata": {},
   "outputs": [
    {
     "name": "stdout",
     "output_type": "stream",
     "text": [
      "Data for Modeling: (12674, 13)\n",
      "Unseen Data For Predictions: (3168, 13)\n",
      "\n"
     ]
    }
   ],
   "source": [
    "# choose the features for the stellar base retention model\n",
    "features = [\n",
    "    \"dimCustomerMasterId\",\n",
    "    \"attendancePercent\",\n",
    "    \"distToVenue\",\n",
    "    \"isNextYear_Buyer\",\n",
    "    \"missed_games_1\",\n",
    "    \"missed_games_2\",\n",
    "    \"missed_games_over_2\",\n",
    "    \"productGrouping\",\n",
    "    \"recency\",\n",
    "    \"renewedBeforeDays\",\n",
    "    \"source_tenure\",\n",
    "    \"totalSpent\",\n",
    "    \"year\"\n",
    "]\n",
    "\n",
    "# select 90% of the data for training\n",
    "df_train = df.sample(frac=0.8, random_state=786).reset_index(drop=True)\n",
    "\n",
    "# create the eval datasets for A and B\n",
    "df_eval = df.drop(df_train.index).reset_index(drop=True)\n",
    "\n",
    "# choose features for each train dataset\n",
    "df_train = df_train[features]\n",
    "\n",
    "# choose features for each train dataset\n",
    "df_eval = df_eval[features]\n",
    "\n",
    "# print out the number of records for training and eval\n",
    "print('Data for Modeling: ' + str(df_train.shape))\n",
    "print('Unseen Data For Predictions: ' + str(df_eval.shape), end=\"\\n\\n\")"
   ]
  },
  {
   "cell_type": "markdown",
   "id": "9f34eb03-b49b-49e5-bce8-7caaa29c5dd7",
   "metadata": {},
   "source": [
    "### Now we can model the data using a binary classification prediction for the isnextyear_buyer field to see how likely a customer is to re-purchase."
   ]
  },
  {
   "cell_type": "code",
   "execution_count": 7,
   "id": "3eabb279-56dd-4dbf-b7da-77bd2aa7cafa",
   "metadata": {},
   "outputs": [],
   "source": [
    "setup(\n",
    "    data= df_train, \n",
    "    target=\"isNextYear_Buyer\", \n",
    "    train_size = 0.80,\n",
    "    data_split_shuffle=True,\n",
    "    ignore_features=[\"dimCustomerMasterId\",\"productGrouping\",\"year\"],\n",
    "    silent=True,\n",
    "    verbose=False,\n",
    "    numeric_features=[\n",
    "        \"attendancePercent\",\n",
    "        \"distToVenue\",\n",
    "        \"missed_games_1\",\n",
    "        \"missed_games_2\",\n",
    "        \"missed_games_over_2\",\n",
    "        \"recency\",\n",
    "        \"renewedBeforeDays\",\n",
    "        \"source_tenure\",\n",
    "        \"totalSpent\"\n",
    "    ]\n",
    ");"
   ]
  },
  {
   "cell_type": "markdown",
   "id": "12cf8c2d-dbbd-470d-b2c1-babd7fd10a15",
   "metadata": {},
   "source": [
    "### Let's add one extra model not included in the default pycaret algorithms (ngboost), then we can execute each model and see the performance metrics:"
   ]
  },
  {
   "cell_type": "code",
   "execution_count": 8,
   "id": "05742a70-860c-477f-bea9-516a0a87c508",
   "metadata": {},
   "outputs": [
    {
     "data": {
      "text/html": [
       "<style  type=\"text/css\" >\n",
       "    #T_33eb5_ th {\n",
       "          text-align: left;\n",
       "    }#T_33eb5_row0_col0,#T_33eb5_row1_col0,#T_33eb5_row1_col1,#T_33eb5_row1_col2,#T_33eb5_row1_col3,#T_33eb5_row1_col4,#T_33eb5_row1_col5,#T_33eb5_row1_col6,#T_33eb5_row1_col7,#T_33eb5_row2_col0,#T_33eb5_row2_col1,#T_33eb5_row2_col2,#T_33eb5_row2_col3,#T_33eb5_row2_col4,#T_33eb5_row2_col5,#T_33eb5_row2_col6,#T_33eb5_row2_col7,#T_33eb5_row3_col0,#T_33eb5_row3_col1,#T_33eb5_row3_col2,#T_33eb5_row3_col3,#T_33eb5_row3_col4,#T_33eb5_row3_col5,#T_33eb5_row3_col6,#T_33eb5_row3_col7,#T_33eb5_row4_col0,#T_33eb5_row4_col1,#T_33eb5_row4_col2,#T_33eb5_row4_col3,#T_33eb5_row4_col4,#T_33eb5_row4_col5,#T_33eb5_row4_col6,#T_33eb5_row4_col7,#T_33eb5_row5_col0,#T_33eb5_row5_col1,#T_33eb5_row5_col2,#T_33eb5_row5_col3,#T_33eb5_row5_col4,#T_33eb5_row5_col5,#T_33eb5_row5_col6,#T_33eb5_row5_col7,#T_33eb5_row6_col0,#T_33eb5_row6_col1,#T_33eb5_row6_col2,#T_33eb5_row6_col3,#T_33eb5_row6_col4,#T_33eb5_row6_col5,#T_33eb5_row6_col6,#T_33eb5_row6_col7,#T_33eb5_row7_col0,#T_33eb5_row7_col1,#T_33eb5_row7_col2,#T_33eb5_row7_col3,#T_33eb5_row7_col4,#T_33eb5_row7_col5,#T_33eb5_row7_col6,#T_33eb5_row7_col7,#T_33eb5_row8_col0,#T_33eb5_row8_col1,#T_33eb5_row8_col2,#T_33eb5_row8_col3,#T_33eb5_row8_col4,#T_33eb5_row8_col5,#T_33eb5_row8_col6,#T_33eb5_row8_col7,#T_33eb5_row9_col0,#T_33eb5_row9_col1,#T_33eb5_row9_col2,#T_33eb5_row9_col3,#T_33eb5_row9_col4,#T_33eb5_row9_col5,#T_33eb5_row9_col6,#T_33eb5_row9_col7{\n",
       "            text-align:  left;\n",
       "            text-align:  left;\n",
       "        }#T_33eb5_row0_col1,#T_33eb5_row0_col2,#T_33eb5_row0_col3,#T_33eb5_row0_col4,#T_33eb5_row0_col5,#T_33eb5_row0_col6,#T_33eb5_row0_col7{\n",
       "            text-align:  left;\n",
       "            text-align:  left;\n",
       "            background-color:  yellow;\n",
       "        }#T_33eb5_row0_col8,#T_33eb5_row1_col8,#T_33eb5_row2_col8,#T_33eb5_row3_col8,#T_33eb5_row4_col8,#T_33eb5_row5_col8,#T_33eb5_row6_col8,#T_33eb5_row8_col8,#T_33eb5_row9_col8{\n",
       "            text-align:  left;\n",
       "            text-align:  left;\n",
       "            background-color:  lightgrey;\n",
       "        }#T_33eb5_row7_col8{\n",
       "            text-align:  left;\n",
       "            text-align:  left;\n",
       "            background-color:  yellow;\n",
       "            background-color:  lightgrey;\n",
       "        }</style><table id=\"T_33eb5_\" ><thead>    <tr>        <th class=\"blank level0\" ></th>        <th class=\"col_heading level0 col0\" >Model</th>        <th class=\"col_heading level0 col1\" >Accuracy</th>        <th class=\"col_heading level0 col2\" >AUC</th>        <th class=\"col_heading level0 col3\" >Recall</th>        <th class=\"col_heading level0 col4\" >Prec.</th>        <th class=\"col_heading level0 col5\" >F1</th>        <th class=\"col_heading level0 col6\" >Kappa</th>        <th class=\"col_heading level0 col7\" >MCC</th>        <th class=\"col_heading level0 col8\" >TT (Sec)</th>    </tr></thead><tbody>\n",
       "                <tr>\n",
       "                        <th id=\"T_33eb5_level0_row0\" class=\"row_heading level0 row0\" >5</th>\n",
       "                        <td id=\"T_33eb5_row0_col0\" class=\"data row0 col0\" >Light Gradient Boosting Machine</td>\n",
       "                        <td id=\"T_33eb5_row0_col1\" class=\"data row0 col1\" >0.7635</td>\n",
       "                        <td id=\"T_33eb5_row0_col2\" class=\"data row0 col2\" >0.8443</td>\n",
       "                        <td id=\"T_33eb5_row0_col3\" class=\"data row0 col3\" >0.8009</td>\n",
       "                        <td id=\"T_33eb5_row0_col4\" class=\"data row0 col4\" >0.7487</td>\n",
       "                        <td id=\"T_33eb5_row0_col5\" class=\"data row0 col5\" >0.7738</td>\n",
       "                        <td id=\"T_33eb5_row0_col6\" class=\"data row0 col6\" >0.5266</td>\n",
       "                        <td id=\"T_33eb5_row0_col7\" class=\"data row0 col7\" >0.5280</td>\n",
       "                        <td id=\"T_33eb5_row0_col8\" class=\"data row0 col8\" >0.0460</td>\n",
       "            </tr>\n",
       "            <tr>\n",
       "                        <th id=\"T_33eb5_level0_row1\" class=\"row_heading level0 row1\" >9</th>\n",
       "                        <td id=\"T_33eb5_row1_col0\" class=\"data row1 col0\" >Extreme Gradient Boosting</td>\n",
       "                        <td id=\"T_33eb5_row1_col1\" class=\"data row1 col1\" >0.7590</td>\n",
       "                        <td id=\"T_33eb5_row1_col2\" class=\"data row1 col2\" >0.8372</td>\n",
       "                        <td id=\"T_33eb5_row1_col3\" class=\"data row1 col3\" >0.7889</td>\n",
       "                        <td id=\"T_33eb5_row1_col4\" class=\"data row1 col4\" >0.7479</td>\n",
       "                        <td id=\"T_33eb5_row1_col5\" class=\"data row1 col5\" >0.7678</td>\n",
       "                        <td id=\"T_33eb5_row1_col6\" class=\"data row1 col6\" >0.5176</td>\n",
       "                        <td id=\"T_33eb5_row1_col7\" class=\"data row1 col7\" >0.5185</td>\n",
       "                        <td id=\"T_33eb5_row1_col8\" class=\"data row1 col8\" >0.8280</td>\n",
       "            </tr>\n",
       "            <tr>\n",
       "                        <th id=\"T_33eb5_level0_row2\" class=\"row_heading level0 row2\" >7</th>\n",
       "                        <td id=\"T_33eb5_row2_col0\" class=\"data row2 col0\" >Random Forest Classifier</td>\n",
       "                        <td id=\"T_33eb5_row2_col1\" class=\"data row2 col1\" >0.7534</td>\n",
       "                        <td id=\"T_33eb5_row2_col2\" class=\"data row2 col2\" >0.8315</td>\n",
       "                        <td id=\"T_33eb5_row2_col3\" class=\"data row2 col3\" >0.7811</td>\n",
       "                        <td id=\"T_33eb5_row2_col4\" class=\"data row2 col4\" >0.7438</td>\n",
       "                        <td id=\"T_33eb5_row2_col5\" class=\"data row2 col5\" >0.7619</td>\n",
       "                        <td id=\"T_33eb5_row2_col6\" class=\"data row2 col6\" >0.5065</td>\n",
       "                        <td id=\"T_33eb5_row2_col7\" class=\"data row2 col7\" >0.5073</td>\n",
       "                        <td id=\"T_33eb5_row2_col8\" class=\"data row2 col8\" >0.3190</td>\n",
       "            </tr>\n",
       "            <tr>\n",
       "                        <th id=\"T_33eb5_level0_row3\" class=\"row_heading level0 row3\" >2</th>\n",
       "                        <td id=\"T_33eb5_row3_col0\" class=\"data row3 col0\" >Gradient Boosting Classifier</td>\n",
       "                        <td id=\"T_33eb5_row3_col1\" class=\"data row3 col1\" >0.7470</td>\n",
       "                        <td id=\"T_33eb5_row3_col2\" class=\"data row3 col2\" >0.8217</td>\n",
       "                        <td id=\"T_33eb5_row3_col3\" class=\"data row3 col3\" >0.7774</td>\n",
       "                        <td id=\"T_33eb5_row3_col4\" class=\"data row3 col4\" >0.7366</td>\n",
       "                        <td id=\"T_33eb5_row3_col5\" class=\"data row3 col5\" >0.7564</td>\n",
       "                        <td id=\"T_33eb5_row3_col6\" class=\"data row3 col6\" >0.4937</td>\n",
       "                        <td id=\"T_33eb5_row3_col7\" class=\"data row3 col7\" >0.4945</td>\n",
       "                        <td id=\"T_33eb5_row3_col8\" class=\"data row3 col8\" >0.1310</td>\n",
       "            </tr>\n",
       "            <tr>\n",
       "                        <th id=\"T_33eb5_level0_row4\" class=\"row_heading level0 row4\" >3</th>\n",
       "                        <td id=\"T_33eb5_row4_col0\" class=\"data row4 col0\" >Extra Trees Classifier</td>\n",
       "                        <td id=\"T_33eb5_row4_col1\" class=\"data row4 col1\" >0.7329</td>\n",
       "                        <td id=\"T_33eb5_row4_col2\" class=\"data row4 col2\" >0.8069</td>\n",
       "                        <td id=\"T_33eb5_row4_col3\" class=\"data row4 col3\" >0.7624</td>\n",
       "                        <td id=\"T_33eb5_row4_col4\" class=\"data row4 col4\" >0.7238</td>\n",
       "                        <td id=\"T_33eb5_row4_col5\" class=\"data row4 col5\" >0.7425</td>\n",
       "                        <td id=\"T_33eb5_row4_col6\" class=\"data row4 col6\" >0.4655</td>\n",
       "                        <td id=\"T_33eb5_row4_col7\" class=\"data row4 col7\" >0.4663</td>\n",
       "                        <td id=\"T_33eb5_row4_col8\" class=\"data row4 col8\" >0.2130</td>\n",
       "            </tr>\n",
       "            <tr>\n",
       "                        <th id=\"T_33eb5_level0_row5\" class=\"row_heading level0 row5\" >0</th>\n",
       "                        <td id=\"T_33eb5_row5_col0\" class=\"data row5 col0\" >Ada Boost Classifier</td>\n",
       "                        <td id=\"T_33eb5_row5_col1\" class=\"data row5 col1\" >0.7141</td>\n",
       "                        <td id=\"T_33eb5_row5_col2\" class=\"data row5 col2\" >0.7863</td>\n",
       "                        <td id=\"T_33eb5_row5_col3\" class=\"data row5 col3\" >0.7456</td>\n",
       "                        <td id=\"T_33eb5_row5_col4\" class=\"data row5 col4\" >0.7052</td>\n",
       "                        <td id=\"T_33eb5_row5_col5\" class=\"data row5 col5\" >0.7248</td>\n",
       "                        <td id=\"T_33eb5_row5_col6\" class=\"data row5 col6\" >0.4277</td>\n",
       "                        <td id=\"T_33eb5_row5_col7\" class=\"data row5 col7\" >0.4285</td>\n",
       "                        <td id=\"T_33eb5_row5_col8\" class=\"data row5 col8\" >0.2650</td>\n",
       "            </tr>\n",
       "            <tr>\n",
       "                        <th id=\"T_33eb5_level0_row6\" class=\"row_heading level0 row6\" >8</th>\n",
       "                        <td id=\"T_33eb5_row6_col0\" class=\"data row6 col0\" >NGBClassifier</td>\n",
       "                        <td id=\"T_33eb5_row6_col1\" class=\"data row6 col1\" >0.7074</td>\n",
       "                        <td id=\"T_33eb5_row6_col2\" class=\"data row6 col2\" >0.7875</td>\n",
       "                        <td id=\"T_33eb5_row6_col3\" class=\"data row6 col3\" >0.7536</td>\n",
       "                        <td id=\"T_33eb5_row6_col4\" class=\"data row6 col4\" >0.6938</td>\n",
       "                        <td id=\"T_33eb5_row6_col5\" class=\"data row6 col5\" >0.7224</td>\n",
       "                        <td id=\"T_33eb5_row6_col6\" class=\"data row6 col6\" >0.4141</td>\n",
       "                        <td id=\"T_33eb5_row6_col7\" class=\"data row6 col7\" >0.4158</td>\n",
       "                        <td id=\"T_33eb5_row6_col8\" class=\"data row6 col8\" >3.5340</td>\n",
       "            </tr>\n",
       "            <tr>\n",
       "                        <th id=\"T_33eb5_level0_row7\" class=\"row_heading level0 row7\" >1</th>\n",
       "                        <td id=\"T_33eb5_row7_col0\" class=\"data row7 col0\" >Decision Tree Classifier</td>\n",
       "                        <td id=\"T_33eb5_row7_col1\" class=\"data row7 col1\" >0.6786</td>\n",
       "                        <td id=\"T_33eb5_row7_col2\" class=\"data row7 col2\" >0.6786</td>\n",
       "                        <td id=\"T_33eb5_row7_col3\" class=\"data row7 col3\" >0.6777</td>\n",
       "                        <td id=\"T_33eb5_row7_col4\" class=\"data row7 col4\" >0.6838</td>\n",
       "                        <td id=\"T_33eb5_row7_col5\" class=\"data row7 col5\" >0.6805</td>\n",
       "                        <td id=\"T_33eb5_row7_col6\" class=\"data row7 col6\" >0.3571</td>\n",
       "                        <td id=\"T_33eb5_row7_col7\" class=\"data row7 col7\" >0.3573</td>\n",
       "                        <td id=\"T_33eb5_row7_col8\" class=\"data row7 col8\" >0.0170</td>\n",
       "            </tr>\n",
       "            <tr>\n",
       "                        <th id=\"T_33eb5_level0_row8\" class=\"row_heading level0 row8\" >4</th>\n",
       "                        <td id=\"T_33eb5_row8_col0\" class=\"data row8 col0\" >K Neighbors Classifier</td>\n",
       "                        <td id=\"T_33eb5_row8_col1\" class=\"data row8 col1\" >0.6154</td>\n",
       "                        <td id=\"T_33eb5_row8_col2\" class=\"data row8 col2\" >0.6560</td>\n",
       "                        <td id=\"T_33eb5_row8_col3\" class=\"data row8 col3\" >0.6259</td>\n",
       "                        <td id=\"T_33eb5_row8_col4\" class=\"data row8 col4\" >0.6181</td>\n",
       "                        <td id=\"T_33eb5_row8_col5\" class=\"data row8 col5\" >0.6218</td>\n",
       "                        <td id=\"T_33eb5_row8_col6\" class=\"data row8 col6\" >0.2307</td>\n",
       "                        <td id=\"T_33eb5_row8_col7\" class=\"data row8 col7\" >0.2309</td>\n",
       "                        <td id=\"T_33eb5_row8_col8\" class=\"data row8 col8\" >0.0370</td>\n",
       "            </tr>\n",
       "            <tr>\n",
       "                        <th id=\"T_33eb5_level0_row9\" class=\"row_heading level0 row9\" >6</th>\n",
       "                        <td id=\"T_33eb5_row9_col0\" class=\"data row9 col0\" >Logistic Regression</td>\n",
       "                        <td id=\"T_33eb5_row9_col1\" class=\"data row9 col1\" >0.5585</td>\n",
       "                        <td id=\"T_33eb5_row9_col2\" class=\"data row9 col2\" >0.6200</td>\n",
       "                        <td id=\"T_33eb5_row9_col3\" class=\"data row9 col3\" >0.7790</td>\n",
       "                        <td id=\"T_33eb5_row9_col4\" class=\"data row9 col4\" >0.5500</td>\n",
       "                        <td id=\"T_33eb5_row9_col5\" class=\"data row9 col5\" >0.6409</td>\n",
       "                        <td id=\"T_33eb5_row9_col6\" class=\"data row9 col6\" >0.1128</td>\n",
       "                        <td id=\"T_33eb5_row9_col7\" class=\"data row9 col7\" >0.1245</td>\n",
       "                        <td id=\"T_33eb5_row9_col8\" class=\"data row9 col8\" >0.0240</td>\n",
       "            </tr>\n",
       "    </tbody></table>"
      ],
      "text/plain": [
       "<pandas.io.formats.style.Styler at 0x7fdf21a5d590>"
      ]
     },
     "metadata": {},
     "output_type": "display_data"
    }
   ],
   "source": [
    "# adding an extra classifier ngboost\n",
    "ngc = NGBClassifier()\n",
    "ngboost = create_model(ngc)\n",
    "\n",
    "model_matrix = compare_models(\n",
    "    fold=10,\n",
    "    include=[\"ada\",\"dt\",\"gbc\",\"et\",\"knn\",\"lightgbm\",\"lr\",\"rf\",ngboost,\"xgboost\"]\n",
    ")"
   ]
  },
  {
   "cell_type": "markdown",
   "id": "03df160e-ac51-4adb-a131-91201fdd8358",
   "metadata": {},
   "source": [
    "### The top model is performing well, so let's compare it against our unseen evaluation dataset:"
   ]
  },
  {
   "cell_type": "code",
   "execution_count": 9,
   "id": "9b4716b3-5a6b-4942-a32c-7ef3e9083509",
   "metadata": {},
   "outputs": [
    {
     "data": {
      "text/html": [
       "<style  type=\"text/css\" >\n",
       "#T_f1273_row10_col0,#T_f1273_row10_col1,#T_f1273_row10_col2,#T_f1273_row10_col3,#T_f1273_row10_col4,#T_f1273_row10_col5,#T_f1273_row10_col6{\n",
       "            background:  yellow;\n",
       "        }</style><table id=\"T_f1273_\" ><thead>    <tr>        <th class=\"blank level0\" ></th>        <th class=\"col_heading level0 col0\" >Accuracy</th>        <th class=\"col_heading level0 col1\" >AUC</th>        <th class=\"col_heading level0 col2\" >Recall</th>        <th class=\"col_heading level0 col3\" >Prec.</th>        <th class=\"col_heading level0 col4\" >F1</th>        <th class=\"col_heading level0 col5\" >Kappa</th>        <th class=\"col_heading level0 col6\" >MCC</th>    </tr></thead><tbody>\n",
       "                <tr>\n",
       "                        <th id=\"T_f1273_level0_row0\" class=\"row_heading level0 row0\" >0</th>\n",
       "                        <td id=\"T_f1273_row0_col0\" class=\"data row0 col0\" >0.7623</td>\n",
       "                        <td id=\"T_f1273_row0_col1\" class=\"data row0 col1\" >0.8472</td>\n",
       "                        <td id=\"T_f1273_row0_col2\" class=\"data row0 col2\" >0.7856</td>\n",
       "                        <td id=\"T_f1273_row0_col3\" class=\"data row0 col3\" >0.7547</td>\n",
       "                        <td id=\"T_f1273_row0_col4\" class=\"data row0 col4\" >0.7698</td>\n",
       "                        <td id=\"T_f1273_row0_col5\" class=\"data row0 col5\" >0.5244</td>\n",
       "                        <td id=\"T_f1273_row0_col6\" class=\"data row0 col6\" >0.5248</td>\n",
       "            </tr>\n",
       "            <tr>\n",
       "                        <th id=\"T_f1273_level0_row1\" class=\"row_heading level0 row1\" >1</th>\n",
       "                        <td id=\"T_f1273_row1_col0\" class=\"data row1 col0\" >0.7564</td>\n",
       "                        <td id=\"T_f1273_row1_col1\" class=\"data row1 col1\" >0.8386</td>\n",
       "                        <td id=\"T_f1273_row1_col2\" class=\"data row1 col2\" >0.7953</td>\n",
       "                        <td id=\"T_f1273_row1_col3\" class=\"data row1 col3\" >0.7418</td>\n",
       "                        <td id=\"T_f1273_row1_col4\" class=\"data row1 col4\" >0.7676</td>\n",
       "                        <td id=\"T_f1273_row1_col5\" class=\"data row1 col5\" >0.5123</td>\n",
       "                        <td id=\"T_f1273_row1_col6\" class=\"data row1 col6\" >0.5137</td>\n",
       "            </tr>\n",
       "            <tr>\n",
       "                        <th id=\"T_f1273_level0_row2\" class=\"row_heading level0 row2\" >2</th>\n",
       "                        <td id=\"T_f1273_row2_col0\" class=\"data row2 col0\" >0.7653</td>\n",
       "                        <td id=\"T_f1273_row2_col1\" class=\"data row2 col1\" >0.8369</td>\n",
       "                        <td id=\"T_f1273_row2_col2\" class=\"data row2 col2\" >0.8164</td>\n",
       "                        <td id=\"T_f1273_row2_col3\" class=\"data row2 col3\" >0.7438</td>\n",
       "                        <td id=\"T_f1273_row2_col4\" class=\"data row2 col4\" >0.7784</td>\n",
       "                        <td id=\"T_f1273_row2_col5\" class=\"data row2 col5\" >0.5301</td>\n",
       "                        <td id=\"T_f1273_row2_col6\" class=\"data row2 col6\" >0.5327</td>\n",
       "            </tr>\n",
       "            <tr>\n",
       "                        <th id=\"T_f1273_level0_row3\" class=\"row_heading level0 row3\" >3</th>\n",
       "                        <td id=\"T_f1273_row3_col0\" class=\"data row3 col0\" >0.7495</td>\n",
       "                        <td id=\"T_f1273_row3_col1\" class=\"data row3 col1\" >0.8314</td>\n",
       "                        <td id=\"T_f1273_row3_col2\" class=\"data row3 col2\" >0.8027</td>\n",
       "                        <td id=\"T_f1273_row3_col3\" class=\"data row3 col3\" >0.7287</td>\n",
       "                        <td id=\"T_f1273_row3_col4\" class=\"data row3 col4\" >0.7639</td>\n",
       "                        <td id=\"T_f1273_row3_col5\" class=\"data row3 col5\" >0.4985</td>\n",
       "                        <td id=\"T_f1273_row3_col6\" class=\"data row3 col6\" >0.5011</td>\n",
       "            </tr>\n",
       "            <tr>\n",
       "                        <th id=\"T_f1273_level0_row4\" class=\"row_heading level0 row4\" >4</th>\n",
       "                        <td id=\"T_f1273_row4_col0\" class=\"data row4 col0\" >0.7781</td>\n",
       "                        <td id=\"T_f1273_row4_col1\" class=\"data row4 col1\" >0.8523</td>\n",
       "                        <td id=\"T_f1273_row4_col2\" class=\"data row4 col2\" >0.8164</td>\n",
       "                        <td id=\"T_f1273_row4_col3\" class=\"data row4 col3\" >0.7614</td>\n",
       "                        <td id=\"T_f1273_row4_col4\" class=\"data row4 col4\" >0.7879</td>\n",
       "                        <td id=\"T_f1273_row4_col5\" class=\"data row4 col5\" >0.5559</td>\n",
       "                        <td id=\"T_f1273_row4_col6\" class=\"data row4 col6\" >0.5573</td>\n",
       "            </tr>\n",
       "            <tr>\n",
       "                        <th id=\"T_f1273_level0_row5\" class=\"row_heading level0 row5\" >5</th>\n",
       "                        <td id=\"T_f1273_row5_col0\" class=\"data row5 col0\" >0.7732</td>\n",
       "                        <td id=\"T_f1273_row5_col1\" class=\"data row5 col1\" >0.8529</td>\n",
       "                        <td id=\"T_f1273_row5_col2\" class=\"data row5 col2\" >0.8008</td>\n",
       "                        <td id=\"T_f1273_row5_col3\" class=\"data row5 col3\" >0.7621</td>\n",
       "                        <td id=\"T_f1273_row5_col4\" class=\"data row5 col4\" >0.7810</td>\n",
       "                        <td id=\"T_f1273_row5_col5\" class=\"data row5 col5\" >0.5461</td>\n",
       "                        <td id=\"T_f1273_row5_col6\" class=\"data row5 col6\" >0.5468</td>\n",
       "            </tr>\n",
       "            <tr>\n",
       "                        <th id=\"T_f1273_level0_row6\" class=\"row_heading level0 row6\" >6</th>\n",
       "                        <td id=\"T_f1273_row6_col0\" class=\"data row6 col0\" >0.7623</td>\n",
       "                        <td id=\"T_f1273_row6_col1\" class=\"data row6 col1\" >0.8452</td>\n",
       "                        <td id=\"T_f1273_row6_col2\" class=\"data row6 col2\" >0.7910</td>\n",
       "                        <td id=\"T_f1273_row6_col3\" class=\"data row6 col3\" >0.7514</td>\n",
       "                        <td id=\"T_f1273_row6_col4\" class=\"data row6 col4\" >0.7707</td>\n",
       "                        <td id=\"T_f1273_row6_col5\" class=\"data row6 col5\" >0.5244</td>\n",
       "                        <td id=\"T_f1273_row6_col6\" class=\"data row6 col6\" >0.5251</td>\n",
       "            </tr>\n",
       "            <tr>\n",
       "                        <th id=\"T_f1273_level0_row7\" class=\"row_heading level0 row7\" >7</th>\n",
       "                        <td id=\"T_f1273_row7_col0\" class=\"data row7 col0\" >0.7594</td>\n",
       "                        <td id=\"T_f1273_row7_col1\" class=\"data row7 col1\" >0.8475</td>\n",
       "                        <td id=\"T_f1273_row7_col2\" class=\"data row7 col2\" >0.7910</td>\n",
       "                        <td id=\"T_f1273_row7_col3\" class=\"data row7 col3\" >0.7472</td>\n",
       "                        <td id=\"T_f1273_row7_col4\" class=\"data row7 col4\" >0.7685</td>\n",
       "                        <td id=\"T_f1273_row7_col5\" class=\"data row7 col5\" >0.5184</td>\n",
       "                        <td id=\"T_f1273_row7_col6\" class=\"data row7 col6\" >0.5193</td>\n",
       "            </tr>\n",
       "            <tr>\n",
       "                        <th id=\"T_f1273_level0_row8\" class=\"row_heading level0 row8\" >8</th>\n",
       "                        <td id=\"T_f1273_row8_col0\" class=\"data row8 col0\" >0.7682</td>\n",
       "                        <td id=\"T_f1273_row8_col1\" class=\"data row8 col1\" >0.8438</td>\n",
       "                        <td id=\"T_f1273_row8_col2\" class=\"data row8 col2\" >0.8242</td>\n",
       "                        <td id=\"T_f1273_row8_col3\" class=\"data row8 col3\" >0.7443</td>\n",
       "                        <td id=\"T_f1273_row8_col4\" class=\"data row8 col4\" >0.7822</td>\n",
       "                        <td id=\"T_f1273_row8_col5\" class=\"data row8 col5\" >0.5359</td>\n",
       "                        <td id=\"T_f1273_row8_col6\" class=\"data row8 col6\" >0.5391</td>\n",
       "            </tr>\n",
       "            <tr>\n",
       "                        <th id=\"T_f1273_level0_row9\" class=\"row_heading level0 row9\" >9</th>\n",
       "                        <td id=\"T_f1273_row9_col0\" class=\"data row9 col0\" >0.7601</td>\n",
       "                        <td id=\"T_f1273_row9_col1\" class=\"data row9 col1\" >0.8476</td>\n",
       "                        <td id=\"T_f1273_row9_col2\" class=\"data row9 col2\" >0.7852</td>\n",
       "                        <td id=\"T_f1273_row9_col3\" class=\"data row9 col3\" >0.7514</td>\n",
       "                        <td id=\"T_f1273_row9_col4\" class=\"data row9 col4\" >0.7679</td>\n",
       "                        <td id=\"T_f1273_row9_col5\" class=\"data row9 col5\" >0.5199</td>\n",
       "                        <td id=\"T_f1273_row9_col6\" class=\"data row9 col6\" >0.5205</td>\n",
       "            </tr>\n",
       "            <tr>\n",
       "                        <th id=\"T_f1273_level0_row10\" class=\"row_heading level0 row10\" >Mean</th>\n",
       "                        <td id=\"T_f1273_row10_col0\" class=\"data row10 col0\" >0.7635</td>\n",
       "                        <td id=\"T_f1273_row10_col1\" class=\"data row10 col1\" >0.8443</td>\n",
       "                        <td id=\"T_f1273_row10_col2\" class=\"data row10 col2\" >0.8009</td>\n",
       "                        <td id=\"T_f1273_row10_col3\" class=\"data row10 col3\" >0.7487</td>\n",
       "                        <td id=\"T_f1273_row10_col4\" class=\"data row10 col4\" >0.7738</td>\n",
       "                        <td id=\"T_f1273_row10_col5\" class=\"data row10 col5\" >0.5266</td>\n",
       "                        <td id=\"T_f1273_row10_col6\" class=\"data row10 col6\" >0.5280</td>\n",
       "            </tr>\n",
       "            <tr>\n",
       "                        <th id=\"T_f1273_level0_row11\" class=\"row_heading level0 row11\" >SD</th>\n",
       "                        <td id=\"T_f1273_row11_col0\" class=\"data row11 col0\" >0.0078</td>\n",
       "                        <td id=\"T_f1273_row11_col1\" class=\"data row11 col1\" >0.0065</td>\n",
       "                        <td id=\"T_f1273_row11_col2\" class=\"data row11 col2\" >0.0132</td>\n",
       "                        <td id=\"T_f1273_row11_col3\" class=\"data row11 col3\" >0.0094</td>\n",
       "                        <td id=\"T_f1273_row11_col4\" class=\"data row11 col4\" >0.0075</td>\n",
       "                        <td id=\"T_f1273_row11_col5\" class=\"data row11 col5\" >0.0157</td>\n",
       "                        <td id=\"T_f1273_row11_col6\" class=\"data row11 col6\" >0.0156</td>\n",
       "            </tr>\n",
       "    </tbody></table>"
      ],
      "text/plain": [
       "<pandas.io.formats.style.Styler at 0x7fdf211a0810>"
      ]
     },
     "metadata": {},
     "output_type": "display_data"
    }
   ],
   "source": [
    "best_model = create_model(model_matrix)\n",
    "\n",
    "unseen_predictions = predict_model(best_model, data=df_eval)"
   ]
  },
  {
   "cell_type": "markdown",
   "id": "ab2e9ab2-b26a-4fd0-a51d-37c199f4d70a",
   "metadata": {},
   "source": [
    "### Let's plot the features to see what attributes were the most important to an accurate prediction"
   ]
  },
  {
   "cell_type": "code",
   "execution_count": 10,
   "id": "7e22aece-548d-49e8-a88c-c276cecd27f6",
   "metadata": {},
   "outputs": [
    {
     "data": {
      "image/png": "[encoded data removed]",
      "text/plain": [
       "<Figure size 800x500 with 1 Axes>"
      ]
     },
     "metadata": {},
     "output_type": "display_data"
    }
   ],
   "source": [
    "plot_model(best_model, plot='feature')"
   ]
  },
  {
   "cell_type": "markdown",
   "id": "f31dbc1d-5239-4500-bae4-ade200701181",
   "metadata": {},
   "source": [
    "### Let's also plot a confusion matrix to understand the spread of our predictions"
   ]
  },
  {
   "cell_type": "code",
   "execution_count": 12,
   "id": "92d355a2-c3e5-4084-8a4c-86b2778273b2",
   "metadata": {},
   "outputs": [
    {
     "data": {
      "image/png": "[encoded data removed]",
      "text/plain": [
       "<Figure size 576x396 with 1 Axes>"
      ]
     },
     "metadata": {},
     "output_type": "display_data"
    }
   ],
   "source": [
    "plot_model(best_model, plot='confusion_matrix')"
   ]
  },
  {
   "cell_type": "markdown",
   "id": "22e76df0",
   "metadata": {},
   "source": [
    "## Observations\n",
    "* There was a slight decline in accuracy by using the standard features (0.7665 to 0.7635).\n",
    "* Compared to the extended retention features, the standard StellarAlgo features predicted less overall buyers.\n",
    "* Compared to the extended retention features, the standard StellarAlgo features did a better job of idenfying buyers who would not rebuy."
   ]
  },
  {
   "cell_type": "markdown",
   "id": "abda0dfd",
   "metadata": {},
   "source": [
    "## Conclusions\n",
    "Here you can talk about next steps, did the experiment work? If yes, what to do next? If no, why?"
   ]
  }
 ],
 "metadata": {
  "kernelspec": {
   "display_name": "Python 3 (ipykernel)",
   "language": "python",
   "name": "python3"
  },
  "language_info": {
   "codemirror_mode": {
    "name": "ipython",
    "version": 3
   },
   "file_extension": ".py",
   "mimetype": "text/x-python",
   "name": "python",
   "nbconvert_exporter": "python",
   "pygments_lexer": "ipython3",
   "version": "3.7.10"
  }
 },
 "nbformat": 4,
 "nbformat_minor": 5
}
