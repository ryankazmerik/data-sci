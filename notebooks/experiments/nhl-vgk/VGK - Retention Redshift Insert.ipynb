{
 "cells": [
  {
   "cell_type": "markdown",
   "id": "6ee08766-25fd-4da1-91b8-b0c3e74db588",
   "metadata": {},
   "source": [
    "# NHL Vegas Golden Knights - Retention Redshift Insert\n",
    "* StelllarAlgo Data Science\n",
    "* Ryan Kazmerik & Nakisa Rad\n",
    "* Mar 7, 2022"
   ]
  },
  {
   "cell_type": "code",
   "execution_count": 1,
   "id": "4c533efd-600e-4bce-8203-faffbddfa700",
   "metadata": {},
   "outputs": [],
   "source": [
    "import boto3\n",
    "import getpass\n",
    "import pyodbc\n",
    "import psycopg2\n",
    "import pandas as pd\n",
    "import matplotlib.pyplot as plt\n",
    "\n",
    "from datetime import datetime\n",
    "from pytz import timezone\n",
    "from pycaret.classification import *"
   ]
  },
  {
   "cell_type": "markdown",
   "id": "b64ae7d5-84af-4915-bd13-1dd9d17098a3",
   "metadata": {},
   "source": [
    "### Let's connect to MSSQL and run a stored proc to get our dataset:"
   ]
  },
  {
   "cell_type": "code",
   "execution_count": 2,
   "id": "ae561eb4-f419-4d46-b5e0-12fac9b10db8",
   "metadata": {},
   "outputs": [
    {
     "name": "stdin",
     "output_type": "stream",
     "text": [
      "Enter your password ····················\n"
     ]
    }
   ],
   "source": [
    "# connect to SQL Server.\n",
    "SERVER = '52.44.171.130' \n",
    "DATABASE = 'datascience' \n",
    "USERNAME = 'dsAdminWrite' \n",
    "PASSWORD = getpass.getpass(prompt='Enter your password')\n",
    "CNXN = pyodbc.connect('DRIVER={ODBC Driver 17 for SQL Server};SERVER='+SERVER+';DATABASE='+DATABASE+';UID='+USERNAME+';PWD='+ PASSWORD)"
   ]
  },
  {
   "cell_type": "code",
   "execution_count": 3,
   "id": "af1afe7d-a35b-494b-88f3-980fb0e3da30",
   "metadata": {},
   "outputs": [
    {
     "data": {
      "text/plain": [
       "(21317, 54)"
      ]
     },
     "execution_count": 3,
     "metadata": {},
     "output_type": "execute_result"
    }
   ],
   "source": [
    "lkupclientid = 33 # vegas golden knights\n",
    "cursor = CNXN.cursor()\n",
    "\n",
    "storedProc = (\n",
    "    f\"\"\"Exec [stlrVGK].[ds].[getRetentionScoringModelData] {lkupclientid}\"\"\"\n",
    ")\n",
    "\n",
    "df = pd.read_sql(storedProc, CNXN)\n",
    "\n",
    "# apply some data transformations\n",
    "df[\"year\"] = pd.to_numeric(df[\"year\"])\n",
    "\n",
    "CNXN.commit()\n",
    "cursor.close()\n",
    "\n",
    "df.shape"
   ]
  },
  {
   "cell_type": "code",
   "execution_count": 4,
   "id": "2b085b86-1cd3-4da8-8ae7-fe877ad97751",
   "metadata": {},
   "outputs": [
    {
     "name": "stdout",
     "output_type": "stream",
     "text": [
      "<class 'pandas.core.frame.DataFrame'>\n",
      "RangeIndex: 21317 entries, 0 to 21316\n",
      "Data columns (total 54 columns):\n",
      " #   Column                  Non-Null Count  Dtype  \n",
      "---  ------                  --------------  -----  \n",
      " 0   lkupClientId            21317 non-null  int64  \n",
      " 1   dimCustomerMasterId     21317 non-null  int64  \n",
      " 2   customerNumber          21317 non-null  object \n",
      " 3   year                    21317 non-null  int64  \n",
      " 4   productGrouping         21317 non-null  object \n",
      " 5   totalSpent              21317 non-null  float64\n",
      " 6   recentDate              21317 non-null  object \n",
      " 7   attendancePercent       21317 non-null  float64\n",
      " 8   renewedBeforeDays       21317 non-null  int64  \n",
      " 9   isBuyer                 21317 non-null  object \n",
      " 10  source_tenure           21317 non-null  int64  \n",
      " 11  tenure                  21317 non-null  int64  \n",
      " 12  distToVenue             21317 non-null  float64\n",
      " 13  totalGames              21317 non-null  int64  \n",
      " 14  recency                 21317 non-null  int64  \n",
      " 15  missed_games_1          21317 non-null  int64  \n",
      " 16  missed_games_2          21317 non-null  int64  \n",
      " 17  missed_games_over_2     21317 non-null  int64  \n",
      " 18  click_link              21317 non-null  int64  \n",
      " 19  fill_out_form           21317 non-null  int64  \n",
      " 20  open_email              21317 non-null  int64  \n",
      " 21  send_email              21317 non-null  int64  \n",
      " 22  unsubscribe_email       21317 non-null  int64  \n",
      " 23  openToSendRatio         21317 non-null  float64\n",
      " 24  clickToSendRatio        21317 non-null  float64\n",
      " 25  clickToOpenRatio        21317 non-null  float64\n",
      " 26  posting_records         21317 non-null  int64  \n",
      " 27  resale_records          21317 non-null  int64  \n",
      " 28  resale_atp              21317 non-null  float64\n",
      " 29  forward_records         21317 non-null  int64  \n",
      " 30  cancel_records          21317 non-null  int64  \n",
      " 31  email                   21317 non-null  int64  \n",
      " 32  inbound_email           21317 non-null  int64  \n",
      " 33  inbound_phonecall       21317 non-null  int64  \n",
      " 34  inperson_contact        21317 non-null  int64  \n",
      " 35  internal_note           21317 non-null  int64  \n",
      " 36  left_message            21317 non-null  int64  \n",
      " 37  outbound_email          21317 non-null  int64  \n",
      " 38  outbound_phonecall      21317 non-null  int64  \n",
      " 39  phonecall               21317 non-null  int64  \n",
      " 40  text                    21317 non-null  int64  \n",
      " 41  unknown                 21317 non-null  int64  \n",
      " 42  gender                  21317 non-null  object \n",
      " 43  childrenPresentInHH     21317 non-null  int64  \n",
      " 44  maritalStatus           21317 non-null  int64  \n",
      " 45  lengthOfResidenceInYrs  0 non-null      object \n",
      " 46  annualHHIncome          21317 non-null  object \n",
      " 47  education               21317 non-null  object \n",
      " 48  urbanicity              0 non-null      object \n",
      " 49  credits_after_refund    21317 non-null  float64\n",
      " 50  is_Lockdown             21317 non-null  int64  \n",
      " 51  NumberofGamesPerSeason  21317 non-null  int64  \n",
      " 52  CNTPostponedGames       0 non-null      object \n",
      " 53  isNextYear_Buyer        21317 non-null  int64  \n",
      "dtypes: float64(8), int64(36), object(10)\n",
      "memory usage: 8.8+ MB\n"
     ]
    }
   ],
   "source": [
    "df.info()"
   ]
  },
  {
   "cell_type": "markdown",
   "id": "ab40da92-72a7-49c1-9829-ed3805a39719",
   "metadata": {},
   "source": [
    "### We should specify the features used in our model:"
   ]
  },
  {
   "cell_type": "code",
   "execution_count": 5,
   "id": "788f1273-8b7a-46bd-a099-1a471feeacc5",
   "metadata": {},
   "outputs": [
    {
     "name": "stdout",
     "output_type": "stream",
     "text": [
      "Data for Modeling: (13714, 11)\n",
      "Unseen Data For Predictions: (2420, 11)\n",
      "\n"
     ]
    }
   ],
   "source": [
    "# choose the features for the stellar base retention model\n",
    "features = [\n",
    "    \"dimCustomerMasterId\",\n",
    "    \"attendancePercent\",\n",
    "    \"distToVenue\",\n",
    "    \"isNextYear_Buyer\",\n",
    "    \"lkupClientId\",\n",
    "    \"productGrouping\",\n",
    "    \"recency\",\n",
    "    \"recentDate\",\n",
    "    \"source_tenure\",\n",
    "    \"totalSpent\",\n",
    "    \"year\"\n",
    "]\n",
    "\n",
    "# copy your main dataframe\n",
    "df_dataset = df\n",
    "\n",
    "# choose the features & train year & test year\n",
    "df_dataset = df_dataset[features]\n",
    "df_dataset[\"year\"] = pd.to_numeric(df_dataset[\"year\"])\n",
    "df_dataset = df_dataset.loc[df_dataset[\"year\"] <= 2019]\n",
    "\n",
    "df_train = df_dataset.sample(frac=0.85, random_state=786)\n",
    "df_eval = df_dataset.drop(df_train.index)\n",
    "\n",
    "df_train.reset_index(drop=True, inplace=True)\n",
    "df_eval.reset_index(drop=True, inplace=True)\n",
    "\n",
    "# print out the number of records for training and eval\n",
    "print('Data for Modeling: ' + str(df_train.shape))\n",
    "print('Unseen Data For Predictions: ' + str(df_eval.shape), end=\"\\n\\n\")"
   ]
  },
  {
   "cell_type": "markdown",
   "id": "4f2da06d-9015-49fd-89b3-956c2ebf66e9",
   "metadata": {},
   "source": [
    "### Now we can model the data using a binary classification prediction for the isnextyear_buyer field to see how likely a customer is to re-purchase."
   ]
  },
  {
   "cell_type": "code",
   "execution_count": 6,
   "id": "23a69cdc-b3ec-48c8-9ce5-29f617779389",
   "metadata": {},
   "outputs": [],
   "source": [
    "setup(\n",
    "    data= df_train, \n",
    "    target=\"isNextYear_Buyer\", \n",
    "    train_size = 0.85,\n",
    "    data_split_shuffle=True,\n",
    "    ignore_features=[\n",
    "        \"dimCustomerMasterId\",\n",
    "        \"lkupClientId\",\n",
    "        \"productGrouping\",\n",
    "        \"recentDate\",\n",
    "        \"year\"\n",
    "    ],\n",
    "    silent=True,\n",
    "    verbose=False,\n",
    "    numeric_features=[\n",
    "        \"attendancePercent\",\n",
    "        \"distToVenue\",\n",
    "        \"recency\",\n",
    "        \"source_tenure\",\n",
    "        \"totalSpent\"\n",
    "    ]\n",
    ");"
   ]
  },
  {
   "cell_type": "markdown",
   "id": "6e1e33e8-ed5f-4e84-abb2-a2fc8370905c",
   "metadata": {},
   "source": [
    "### The evaluation output prints a score grid that shows average Accuracy, AUC, Recall, Precision, F1 and Kappa accross the folds (10 by default) along with training time:"
   ]
  },
  {
   "cell_type": "code",
   "execution_count": 15,
   "id": "ef2db9d2-02c2-45c0-b6bb-5cad42c373ce",
   "metadata": {},
   "outputs": [
    {
     "data": {
      "text/html": [
       "<style  type=\"text/css\" >\n",
       "    #T_32bfe_ th {\n",
       "          text-align: left;\n",
       "    }#T_32bfe_row0_col0,#T_32bfe_row0_col4,#T_32bfe_row1_col0,#T_32bfe_row1_col1,#T_32bfe_row1_col2,#T_32bfe_row1_col3,#T_32bfe_row1_col4,#T_32bfe_row1_col5,#T_32bfe_row1_col6,#T_32bfe_row1_col7,#T_32bfe_row2_col0,#T_32bfe_row2_col1,#T_32bfe_row2_col2,#T_32bfe_row2_col3,#T_32bfe_row2_col5,#T_32bfe_row2_col6,#T_32bfe_row2_col7,#T_32bfe_row3_col0,#T_32bfe_row3_col1,#T_32bfe_row3_col2,#T_32bfe_row3_col3,#T_32bfe_row3_col4,#T_32bfe_row3_col5,#T_32bfe_row3_col6,#T_32bfe_row3_col7{\n",
       "            text-align:  left;\n",
       "            text-align:  left;\n",
       "        }#T_32bfe_row0_col1,#T_32bfe_row0_col2,#T_32bfe_row0_col3,#T_32bfe_row0_col5,#T_32bfe_row0_col6,#T_32bfe_row0_col7,#T_32bfe_row2_col4{\n",
       "            text-align:  left;\n",
       "            text-align:  left;\n",
       "            background-color:  yellow;\n",
       "        }#T_32bfe_row0_col8,#T_32bfe_row1_col8,#T_32bfe_row2_col8{\n",
       "            text-align:  left;\n",
       "            text-align:  left;\n",
       "            background-color:  lightgrey;\n",
       "        }#T_32bfe_row3_col8{\n",
       "            text-align:  left;\n",
       "            text-align:  left;\n",
       "            background-color:  yellow;\n",
       "            background-color:  lightgrey;\n",
       "        }</style><table id=\"T_32bfe_\" ><thead>    <tr>        <th class=\"blank level0\" ></th>        <th class=\"col_heading level0 col0\" >Model</th>        <th class=\"col_heading level0 col1\" >Accuracy</th>        <th class=\"col_heading level0 col2\" >AUC</th>        <th class=\"col_heading level0 col3\" >Recall</th>        <th class=\"col_heading level0 col4\" >Prec.</th>        <th class=\"col_heading level0 col5\" >F1</th>        <th class=\"col_heading level0 col6\" >Kappa</th>        <th class=\"col_heading level0 col7\" >MCC</th>        <th class=\"col_heading level0 col8\" >TT (Sec)</th>    </tr></thead><tbody>\n",
       "                <tr>\n",
       "                        <th id=\"T_32bfe_level0_row0\" class=\"row_heading level0 row0\" >xgboost</th>\n",
       "                        <td id=\"T_32bfe_row0_col0\" class=\"data row0 col0\" >Extreme Gradient Boosting</td>\n",
       "                        <td id=\"T_32bfe_row0_col1\" class=\"data row0 col1\" >0.7816</td>\n",
       "                        <td id=\"T_32bfe_row0_col2\" class=\"data row0 col2\" >0.9109</td>\n",
       "                        <td id=\"T_32bfe_row0_col3\" class=\"data row0 col3\" >0.6297</td>\n",
       "                        <td id=\"T_32bfe_row0_col4\" class=\"data row0 col4\" >0.8919</td>\n",
       "                        <td id=\"T_32bfe_row0_col5\" class=\"data row0 col5\" >0.7379</td>\n",
       "                        <td id=\"T_32bfe_row0_col6\" class=\"data row0 col6\" >0.5601</td>\n",
       "                        <td id=\"T_32bfe_row0_col7\" class=\"data row0 col7\" >0.5853</td>\n",
       "                        <td id=\"T_32bfe_row0_col8\" class=\"data row0 col8\" >0.2955</td>\n",
       "            </tr>\n",
       "            <tr>\n",
       "                        <th id=\"T_32bfe_level0_row1\" class=\"row_heading level0 row1\" >lightgbm</th>\n",
       "                        <td id=\"T_32bfe_row1_col0\" class=\"data row1 col0\" >Light Gradient Boosting Machine</td>\n",
       "                        <td id=\"T_32bfe_row1_col1\" class=\"data row1 col1\" >0.7603</td>\n",
       "                        <td id=\"T_32bfe_row1_col2\" class=\"data row1 col2\" >0.9102</td>\n",
       "                        <td id=\"T_32bfe_row1_col3\" class=\"data row1 col3\" >0.5701</td>\n",
       "                        <td id=\"T_32bfe_row1_col4\" class=\"data row1 col4\" >0.9044</td>\n",
       "                        <td id=\"T_32bfe_row1_col5\" class=\"data row1 col5\" >0.6991</td>\n",
       "                        <td id=\"T_32bfe_row1_col6\" class=\"data row1 col6\" >0.5164</td>\n",
       "                        <td id=\"T_32bfe_row1_col7\" class=\"data row1 col7\" >0.5547</td>\n",
       "                        <td id=\"T_32bfe_row1_col8\" class=\"data row1 col8\" >0.6250</td>\n",
       "            </tr>\n",
       "            <tr>\n",
       "                        <th id=\"T_32bfe_level0_row2\" class=\"row_heading level0 row2\" >gbc</th>\n",
       "                        <td id=\"T_32bfe_row2_col0\" class=\"data row2 col0\" >Gradient Boosting Classifier</td>\n",
       "                        <td id=\"T_32bfe_row2_col1\" class=\"data row2 col1\" >0.6626</td>\n",
       "                        <td id=\"T_32bfe_row2_col2\" class=\"data row2 col2\" >0.8766</td>\n",
       "                        <td id=\"T_32bfe_row2_col3\" class=\"data row2 col3\" >0.3352</td>\n",
       "                        <td id=\"T_32bfe_row2_col4\" class=\"data row2 col4\" >0.9289</td>\n",
       "                        <td id=\"T_32bfe_row2_col5\" class=\"data row2 col5\" >0.4920</td>\n",
       "                        <td id=\"T_32bfe_row2_col6\" class=\"data row2 col6\" >0.3151</td>\n",
       "                        <td id=\"T_32bfe_row2_col7\" class=\"data row2 col7\" >0.4074</td>\n",
       "                        <td id=\"T_32bfe_row2_col8\" class=\"data row2 col8\" >0.0820</td>\n",
       "            </tr>\n",
       "            <tr>\n",
       "                        <th id=\"T_32bfe_level0_row3\" class=\"row_heading level0 row3\" >lr</th>\n",
       "                        <td id=\"T_32bfe_row3_col0\" class=\"data row3 col0\" >Logistic Regression</td>\n",
       "                        <td id=\"T_32bfe_row3_col1\" class=\"data row3 col1\" >0.5113</td>\n",
       "                        <td id=\"T_32bfe_row3_col2\" class=\"data row3 col2\" >0.6043</td>\n",
       "                        <td id=\"T_32bfe_row3_col3\" class=\"data row3 col3\" >0.0000</td>\n",
       "                        <td id=\"T_32bfe_row3_col4\" class=\"data row3 col4\" >0.0000</td>\n",
       "                        <td id=\"T_32bfe_row3_col5\" class=\"data row3 col5\" >0.0000</td>\n",
       "                        <td id=\"T_32bfe_row3_col6\" class=\"data row3 col6\" >0.0000</td>\n",
       "                        <td id=\"T_32bfe_row3_col7\" class=\"data row3 col7\" >0.0000</td>\n",
       "                        <td id=\"T_32bfe_row3_col8\" class=\"data row3 col8\" >0.0100</td>\n",
       "            </tr>\n",
       "    </tbody></table>"
      ],
      "text/plain": [
       "<pandas.io.formats.style.Styler at 0x7fce72ca8610>"
      ]
     },
     "metadata": {},
     "output_type": "display_data"
    }
   ],
   "source": [
    "model_matrix = compare_models(\n",
    "    fold= 20,\n",
    "    include= [\"gbc\",\"lightgbm\",\"lr\",\"xgboost\"],\n",
    "    n_select= 4,\n",
    "    probability_threshold= 0.75\n",
    ")\n",
    "results = pull()"
   ]
  },
  {
   "cell_type": "code",
   "execution_count": null,
   "id": "8ed845ef-c221-4614-8d8a-ae6fded75d5a",
   "metadata": {},
   "outputs": [],
   "source": [
    "models = []\n",
    "for idx, m in enumerate(model_matrix):\n",
    "    \n",
    "    model = create_model(m)\n",
    "    final_model = finalize_model(model)\n",
    "    \n",
    "    models.append({\n",
    "        \"name\": str(results.iloc[idx][\"Model\"]),\n",
    "        \"model\": final_model\n",
    "    })"
   ]
  },
  {
   "cell_type": "markdown",
   "id": "3aab9021-4462-423a-8e3c-fbe1f36c6110",
   "metadata": {},
   "source": [
    "### Let's load in our 2021 season data and get retention scores using the model:"
   ]
  },
  {
   "cell_type": "code",
   "execution_count": 18,
   "id": "c249a813-c882-4869-9490-6ab766a8c223",
   "metadata": {},
   "outputs": [
    {
     "data": {
      "text/plain": [
       "(5183, 11)"
      ]
     },
     "execution_count": 18,
     "metadata": {},
     "output_type": "execute_result"
    }
   ],
   "source": [
    "df_inference = df.loc[df[\"year\"] >= 2021]\n",
    "df_inference = df_inference.fillna(0)\n",
    "df_inference = df_inference[features]\n",
    "\n",
    "df_inference.shape"
   ]
  },
  {
   "cell_type": "code",
   "execution_count": 19,
   "id": "658464e2-ba98-4875-a7f2-c8f0ba581d89",
   "metadata": {},
   "outputs": [],
   "source": [
    "predictions = []\n",
    "for idx, final_m in enumerate(models):\n",
    "    \n",
    "    df_predictions = (predict_model(final_m['model'], data=df_inference, raw_score=True))\n",
    "    df_predictions = df_predictions[df_predictions[\"Score_1\"] >= 0.025]\n",
    "    final_m[\"predictions\"] = df_predictions"
   ]
  },
  {
   "cell_type": "markdown",
   "id": "12e0b1a1-f440-43f9-ab6a-374134eb4684",
   "metadata": {},
   "source": [
    "### We can create some histograms to visualize each model distribution:"
   ]
  },
  {
   "cell_type": "code",
   "execution_count": 20,
   "id": "d815f4f6-4f04-47b0-972b-a708ecf8a772",
   "metadata": {},
   "outputs": [
    {
     "data": {
      "image/png": "[encoded data removed]",
      "text/plain": [
       "<Figure size 1800x288 with 4 Axes>"
      ]
     },
     "metadata": {},
     "output_type": "display_data"
    }
   ],
   "source": [
    "for idx, model in enumerate(models):\n",
    "    \n",
    "    plt.subplot(1, 4, idx+1)\n",
    "    plt.title(model[\"name\"])\n",
    "    plt.ylabel(\"Num Fans\")\n",
    "    plt.xlabel(\"SA Buyer Score\")\n",
    "    plt.hist(model[\"predictions\"][\"Score_1\"], bins=20, edgecolor=\"black\", range=(0,1))\n",
    "                            \n",
    "plt.rcParams[\"figure.figsize\"] = (25,4)\n",
    "plt.show()"
   ]
  },
  {
   "cell_type": "markdown",
   "id": "c5d007b0-fe2b-401a-9445-383f1626a0df",
   "metadata": {},
   "source": [
    "### We can also see how many purchases there are in each range of scores:"
   ]
  },
  {
   "cell_type": "code",
   "execution_count": 21,
   "id": "6ee7faec-29ba-47b1-8eb2-3166d81a9b08",
   "metadata": {},
   "outputs": [
    {
     "data": {
      "text/html": [
       "<div>\n",
       "<style scoped>\n",
       "    .dataframe tbody tr th:only-of-type {\n",
       "        vertical-align: middle;\n",
       "    }\n",
       "\n",
       "    .dataframe tbody tr th {\n",
       "        vertical-align: top;\n",
       "    }\n",
       "\n",
       "    .dataframe thead th {\n",
       "        text-align: right;\n",
       "    }\n",
       "</style>\n",
       "<table border=\"1\" class=\"dataframe\">\n",
       "  <thead>\n",
       "    <tr style=\"text-align: right;\">\n",
       "      <th></th>\n",
       "      <th>Score</th>\n",
       "      <th>Extreme Gradient Boosting</th>\n",
       "      <th>Light Gradient Boosting Machine</th>\n",
       "      <th>Gradient Boosting Classifier</th>\n",
       "      <th>Logistic Regression</th>\n",
       "    </tr>\n",
       "  </thead>\n",
       "  <tbody>\n",
       "    <tr>\n",
       "      <th>0</th>\n",
       "      <td>(0.95, 1.0]</td>\n",
       "      <td>0</td>\n",
       "      <td>0</td>\n",
       "      <td>0</td>\n",
       "      <td>0</td>\n",
       "    </tr>\n",
       "    <tr>\n",
       "      <th>1</th>\n",
       "      <td>(0.9, 0.95]</td>\n",
       "      <td>23</td>\n",
       "      <td>2</td>\n",
       "      <td>1</td>\n",
       "      <td>0</td>\n",
       "    </tr>\n",
       "    <tr>\n",
       "      <th>2</th>\n",
       "      <td>(0.85, 0.9]</td>\n",
       "      <td>75</td>\n",
       "      <td>12</td>\n",
       "      <td>0</td>\n",
       "      <td>0</td>\n",
       "    </tr>\n",
       "    <tr>\n",
       "      <th>3</th>\n",
       "      <td>(0.8, 0.85]</td>\n",
       "      <td>173</td>\n",
       "      <td>95</td>\n",
       "      <td>0</td>\n",
       "      <td>0</td>\n",
       "    </tr>\n",
       "    <tr>\n",
       "      <th>4</th>\n",
       "      <td>(0.75, 0.8]</td>\n",
       "      <td>194</td>\n",
       "      <td>158</td>\n",
       "      <td>0</td>\n",
       "      <td>0</td>\n",
       "    </tr>\n",
       "    <tr>\n",
       "      <th>5</th>\n",
       "      <td>(0.7, 0.75]</td>\n",
       "      <td>266</td>\n",
       "      <td>260</td>\n",
       "      <td>18</td>\n",
       "      <td>0</td>\n",
       "    </tr>\n",
       "    <tr>\n",
       "      <th>6</th>\n",
       "      <td>(0.65, 0.7]</td>\n",
       "      <td>339</td>\n",
       "      <td>321</td>\n",
       "      <td>190</td>\n",
       "      <td>0</td>\n",
       "    </tr>\n",
       "    <tr>\n",
       "      <th>7</th>\n",
       "      <td>(0.6, 0.65]</td>\n",
       "      <td>396</td>\n",
       "      <td>372</td>\n",
       "      <td>537</td>\n",
       "      <td>0</td>\n",
       "    </tr>\n",
       "    <tr>\n",
       "      <th>8</th>\n",
       "      <td>(0.55, 0.6]</td>\n",
       "      <td>371</td>\n",
       "      <td>440</td>\n",
       "      <td>682</td>\n",
       "      <td>0</td>\n",
       "    </tr>\n",
       "    <tr>\n",
       "      <th>9</th>\n",
       "      <td>(0.5, 0.55]</td>\n",
       "      <td>283</td>\n",
       "      <td>364</td>\n",
       "      <td>470</td>\n",
       "      <td>4556</td>\n",
       "    </tr>\n",
       "    <tr>\n",
       "      <th>10</th>\n",
       "      <td>(0.45, 0.5]</td>\n",
       "      <td>310</td>\n",
       "      <td>361</td>\n",
       "      <td>413</td>\n",
       "      <td>374</td>\n",
       "    </tr>\n",
       "    <tr>\n",
       "      <th>11</th>\n",
       "      <td>(0.4, 0.45]</td>\n",
       "      <td>313</td>\n",
       "      <td>331</td>\n",
       "      <td>374</td>\n",
       "      <td>96</td>\n",
       "    </tr>\n",
       "    <tr>\n",
       "      <th>12</th>\n",
       "      <td>(0.35, 0.4]</td>\n",
       "      <td>278</td>\n",
       "      <td>357</td>\n",
       "      <td>319</td>\n",
       "      <td>99</td>\n",
       "    </tr>\n",
       "    <tr>\n",
       "      <th>13</th>\n",
       "      <td>(0.3, 0.35]</td>\n",
       "      <td>243</td>\n",
       "      <td>271</td>\n",
       "      <td>617</td>\n",
       "      <td>54</td>\n",
       "    </tr>\n",
       "    <tr>\n",
       "      <th>14</th>\n",
       "      <td>(0.25, 0.3]</td>\n",
       "      <td>225</td>\n",
       "      <td>250</td>\n",
       "      <td>216</td>\n",
       "      <td>3</td>\n",
       "    </tr>\n",
       "    <tr>\n",
       "      <th>15</th>\n",
       "      <td>(0.2, 0.25]</td>\n",
       "      <td>214</td>\n",
       "      <td>222</td>\n",
       "      <td>114</td>\n",
       "      <td>0</td>\n",
       "    </tr>\n",
       "    <tr>\n",
       "      <th>16</th>\n",
       "      <td>(0.15, 0.2]</td>\n",
       "      <td>176</td>\n",
       "      <td>224</td>\n",
       "      <td>194</td>\n",
       "      <td>0</td>\n",
       "    </tr>\n",
       "    <tr>\n",
       "      <th>17</th>\n",
       "      <td>(0.1, 0.15]</td>\n",
       "      <td>180</td>\n",
       "      <td>149</td>\n",
       "      <td>91</td>\n",
       "      <td>1</td>\n",
       "    </tr>\n",
       "    <tr>\n",
       "      <th>18</th>\n",
       "      <td>(0.05, 0.1]</td>\n",
       "      <td>115</td>\n",
       "      <td>60</td>\n",
       "      <td>386</td>\n",
       "      <td>0</td>\n",
       "    </tr>\n",
       "    <tr>\n",
       "      <th>19</th>\n",
       "      <td>(-0.001, 0.05]</td>\n",
       "      <td>63</td>\n",
       "      <td>47</td>\n",
       "      <td>497</td>\n",
       "      <td>0</td>\n",
       "    </tr>\n",
       "  </tbody>\n",
       "</table>\n",
       "</div>"
      ],
      "text/plain": [
       "             Score  Extreme Gradient Boosting  \\\n",
       "0      (0.95, 1.0]                          0   \n",
       "1      (0.9, 0.95]                         23   \n",
       "2      (0.85, 0.9]                         75   \n",
       "3      (0.8, 0.85]                        173   \n",
       "4      (0.75, 0.8]                        194   \n",
       "5      (0.7, 0.75]                        266   \n",
       "6      (0.65, 0.7]                        339   \n",
       "7      (0.6, 0.65]                        396   \n",
       "8      (0.55, 0.6]                        371   \n",
       "9      (0.5, 0.55]                        283   \n",
       "10     (0.45, 0.5]                        310   \n",
       "11     (0.4, 0.45]                        313   \n",
       "12     (0.35, 0.4]                        278   \n",
       "13     (0.3, 0.35]                        243   \n",
       "14     (0.25, 0.3]                        225   \n",
       "15     (0.2, 0.25]                        214   \n",
       "16     (0.15, 0.2]                        176   \n",
       "17     (0.1, 0.15]                        180   \n",
       "18     (0.05, 0.1]                        115   \n",
       "19  (-0.001, 0.05]                         63   \n",
       "\n",
       "    Light Gradient Boosting Machine  Gradient Boosting Classifier  \\\n",
       "0                                 0                             0   \n",
       "1                                 2                             1   \n",
       "2                                12                             0   \n",
       "3                                95                             0   \n",
       "4                               158                             0   \n",
       "5                               260                            18   \n",
       "6                               321                           190   \n",
       "7                               372                           537   \n",
       "8                               440                           682   \n",
       "9                               364                           470   \n",
       "10                              361                           413   \n",
       "11                              331                           374   \n",
       "12                              357                           319   \n",
       "13                              271                           617   \n",
       "14                              250                           216   \n",
       "15                              222                           114   \n",
       "16                              224                           194   \n",
       "17                              149                            91   \n",
       "18                               60                           386   \n",
       "19                               47                           497   \n",
       "\n",
       "    Logistic Regression  \n",
       "0                     0  \n",
       "1                     0  \n",
       "2                     0  \n",
       "3                     0  \n",
       "4                     0  \n",
       "5                     0  \n",
       "6                     0  \n",
       "7                     0  \n",
       "8                     0  \n",
       "9                  4556  \n",
       "10                  374  \n",
       "11                   96  \n",
       "12                   99  \n",
       "13                   54  \n",
       "14                    3  \n",
       "15                    0  \n",
       "16                    0  \n",
       "17                    1  \n",
       "18                    0  \n",
       "19                    0  "
      ]
     },
     "execution_count": 21,
     "metadata": {},
     "output_type": "execute_result"
    }
   ],
   "source": [
    "df_new = pd.DataFrame()\n",
    "\n",
    "for idx, model in enumerate(models):\n",
    "    df_new[\"Score\"] = df_new.index\n",
    "    df_new[str(models[idx][\"name\"])] = models[idx][\"predictions\"][\"Score_1\"].value_counts(bins=np.arange(0, 1.05, 0.05)).sort_index(ascending=False)\n",
    "\n",
    "df_new.reset_index(inplace=True, drop=True)\n",
    "df_new"
   ]
  },
  {
   "cell_type": "markdown",
   "id": "9fae23b9-1851-4368-98b8-edb87b16314e",
   "metadata": {},
   "source": [
    "### Select the model you would like to use for updating scores:"
   ]
  },
  {
   "cell_type": "code",
   "execution_count": 22,
   "id": "d03a9c76-6b5d-4d78-bde6-399594e8851a",
   "metadata": {},
   "outputs": [
    {
     "name": "stdout",
     "output_type": "stream",
     "text": [
      "<class 'pandas.core.frame.DataFrame'>\n",
      "Int64Index: 4237 entries, 16134 to 21316\n",
      "Data columns (total 14 columns):\n",
      " #   Column               Non-Null Count  Dtype  \n",
      "---  ------               --------------  -----  \n",
      " 0   dimCustomerMasterId  4237 non-null   int64  \n",
      " 1   attendancePercent    4237 non-null   float64\n",
      " 2   distToVenue          4237 non-null   float64\n",
      " 3   isNextYear_Buyer     4237 non-null   int64  \n",
      " 4   lkupClientId         4237 non-null   int64  \n",
      " 5   productGrouping      4237 non-null   object \n",
      " 6   recency              4237 non-null   int64  \n",
      " 7   recentDate           4237 non-null   object \n",
      " 8   source_tenure        4237 non-null   int64  \n",
      " 9   totalSpent           4237 non-null   float64\n",
      " 10  year                 4237 non-null   int64  \n",
      " 11  Label                4237 non-null   int64  \n",
      " 12  Score_0              4237 non-null   float32\n",
      " 13  Score_1              4237 non-null   float32\n",
      "dtypes: float32(2), float64(3), int64(7), object(2)\n",
      "memory usage: 463.4+ KB\n"
     ]
    }
   ],
   "source": [
    "selected_model = \"Extreme Gradient Boosting\"\n",
    "\n",
    "for model in models:\n",
    "    if model[\"name\"] == selected_model:\n",
    "\n",
    "        df_scores = model[\"predictions\"]\n",
    "                                 \n",
    "df_scores.info()"
   ]
  },
  {
   "cell_type": "markdown",
   "id": "6d6c614f-288b-4a88-97dc-7ffc1d1c7ec9",
   "metadata": {},
   "source": [
    "### Now we can push these scores into RedShift so that we can see what the new scoring looks like in the CDP:"
   ]
  },
  {
   "cell_type": "code",
   "execution_count": 24,
   "id": "76d8f80d-99be-4cba-abf2-42f3cebfe25d",
   "metadata": {},
   "outputs": [
    {
     "name": "stdout",
     "output_type": "stream",
     "text": [
      "Attempting to automatically open the SSO authorization page in your default browser.\n",
      "If the browser does not open or you wish to use a different device to authorize this request, open the following URL:\n",
      "\n",
      "https://device.sso.us-east-1.amazonaws.com/\n",
      "\n",
      "Then enter the code:\n",
      "\n",
      "WXZG-PLJR\n",
      "Successully logged into Start URL: https://stellaralgo.awsapps.com/start\n"
     ]
    }
   ],
   "source": [
    "!aws sso login --profile Stellaralgo-DataScienceAdmin"
   ]
  },
  {
   "cell_type": "code",
   "execution_count": 67,
   "id": "795c9342-b928-4e8d-aef9-36f2b1cf667c",
   "metadata": {},
   "outputs": [
    {
     "name": "stdout",
     "output_type": "stream",
     "text": [
      "CLUSTER CREDENTIALS RETRIEVED\n"
     ]
    }
   ],
   "source": [
    "# Create a new session and connect to RedShift\n",
    "try:\n",
    "    session = boto3.session.Session(profile_name='Stellaralgo-DataScienceAdmin')\n",
    "    client = session.client('redshift')\n",
    "\n",
    "    cluster_creds = client.get_cluster_credentials(\n",
    "        DbUser='StellarDataScienceAdmin',\n",
    "        DbName='stlrvgk',\n",
    "        DbGroups=['admin_group'],\n",
    "        ClusterIdentifier='qa-app',\n",
    "        AutoCreate=True\n",
    "    )\n",
    "    print(\"CLUSTER CREDENTIALS RETRIEVED\")\n",
    "\n",
    "except Exception as err:\n",
    "  print('FAILED TO RETRIEVE CLUSTER CREDS!', err)"
   ]
  },
  {
   "cell_type": "markdown",
   "id": "73505aed-8784-4cbc-b60d-6a53aba6b00f",
   "metadata": {},
   "source": [
    "### Insert the new scores into the customerRetentionScores table:"
   ]
  },
  {
   "cell_type": "code",
   "execution_count": 75,
   "id": "0fb58a5d-1ae8-42f3-a425-b73ca0952115",
   "metadata": {},
   "outputs": [
    {
     "name": "stdout",
     "output_type": "stream",
     "text": [
      "CREATED CONNECTION TO DATABASE\n",
      " > INSERTED ROWS: 1-10 | 0.02% COMPLETED\n",
      "REDSHIFT CONNECTION HAS BEEN CLOSED\n"
     ]
    },
    {
     "ename": "KeyboardInterrupt",
     "evalue": "",
     "output_type": "error",
     "traceback": [
      "\u001b[0;31m---------------------------------------------------------------------------\u001b[0m",
      "\u001b[0;31mKeyboardInterrupt\u001b[0m                         Traceback (most recent call last)",
      "\u001b[0;32m/var/folders/kp/vwm5bxcd72j3yf54l1xtsts80000gp/T/ipykernel_26948/1813034094.py\u001b[0m in \u001b[0;36m<module>\u001b[0;34m\u001b[0m\n\u001b[1;32m     47\u001b[0m \u001b[0;34m\u001b[0m\u001b[0m\n\u001b[1;32m     48\u001b[0m         \u001b[0mcursor\u001b[0m\u001b[0;34m.\u001b[0m\u001b[0mexecute\u001b[0m\u001b[0;34m(\u001b[0m\u001b[0minsert_statement\u001b[0m\u001b[0;34m)\u001b[0m\u001b[0;34m\u001b[0m\u001b[0;34m\u001b[0m\u001b[0m\n\u001b[0;32m---> 49\u001b[0;31m         \u001b[0mconn\u001b[0m\u001b[0;34m.\u001b[0m\u001b[0mcommit\u001b[0m\u001b[0;34m(\u001b[0m\u001b[0;34m)\u001b[0m\u001b[0;34m\u001b[0m\u001b[0;34m\u001b[0m\u001b[0m\n\u001b[0m\u001b[1;32m     50\u001b[0m \u001b[0;34m\u001b[0m\u001b[0m\n\u001b[1;32m     51\u001b[0m         \u001b[0;32mif\u001b[0m\u001b[0;34m(\u001b[0m\u001b[0mi\u001b[0m\u001b[0;34m%\u001b[0m\u001b[0;36m10\u001b[0m \u001b[0;34m==\u001b[0m \u001b[0;36m0\u001b[0m\u001b[0;34m)\u001b[0m\u001b[0;34m:\u001b[0m\u001b[0;34m\u001b[0m\u001b[0;34m\u001b[0m\u001b[0m\n",
      "\u001b[0;31mKeyboardInterrupt\u001b[0m: "
     ]
    }
   ],
   "source": [
    "try:\n",
    "    # Create connection to RedShift\n",
    "    conn = psycopg2.connect(\n",
    "        host='qa-app.ctjussvyafp4.us-east-1.redshift.amazonaws.com',\n",
    "        port=5439,\n",
    "        user=cluster_creds['DbUser'],\n",
    "        password=cluster_creds['DbPassword'],\n",
    "        database='stlrvgk'\n",
    "    )\n",
    "    print('CREATED CONNECTION TO DATABASE')\n",
    "    \n",
    "    cursor = conn.cursor()\n",
    "\n",
    "    # Insert Dataframe into SQL Server:\n",
    "    for i, (index, row) in enumerate(df_scores.iterrows()):\n",
    "        \n",
    "        fields = f\"\"\"\n",
    "            INSERT INTO dw.customerretentionscores (\n",
    "                attendancePercentage,\n",
    "                currversnflag,\n",
    "                dimcustomermasterid,\n",
    "                insertdate,\n",
    "                lkupclientid,\n",
    "                mostrecentattendance,\n",
    "                product,\n",
    "                sascore,\n",
    "                seasonYear,\n",
    "                tenuredays\n",
    "            )\n",
    "        \"\"\"\n",
    "        \n",
    "        values = f\"\"\"\n",
    "            VALUES(\n",
    "                {str(row.attendancePercent)},\n",
    "                {str(0)},\n",
    "                {str(row.dimCustomerMasterId)},\n",
    "                '{str(datetime.now().strftime(\"%Y-%m-%d %H:%M:%S\"))}',\n",
    "                {str(lkupclientid)},\n",
    "                '{str(row.recentDate)}',\n",
    "                '{str(row.productGrouping)}',\n",
    "                {str(round(row.Score_1,4))},\n",
    "                {str(row.year)},\n",
    "                {str(row.source_tenure)}\n",
    "            )\"\"\"\n",
    "        \n",
    "        insert_statement = fields + values\n",
    "        \n",
    "        cursor.execute(insert_statement)\n",
    "        conn.commit()\n",
    "        \n",
    "        if(i%10 == 0):\n",
    "            print(f\" > INSERTED ROWS: {i+1}-{i+10} | {round(100*(i+1)/len(df_scores),2)}% COMPLETED\")\n",
    "        \n",
    "    print(\"RETENTION SCORE INSERTS COMPLETED\")\n",
    "\n",
    "except Exception as err:\n",
    "    cursor.execute(\"rollback\")\n",
    "    print(\"ERROR WHILE INSERTING RETENTION SCORES TO DATABASE:\", err)\n",
    "\n",
    "finally:\n",
    "    if conn:\n",
    "        #cursor.close()\n",
    "        #conn.close()\n",
    "        print(\"REDSHIFT CONNECTION HAS BEEN CLOSED\")"
   ]
  },
  {
   "cell_type": "markdown",
   "id": "2e3383ab-7855-46fb-b563-ecd3367cbcb5",
   "metadata": {},
   "source": [
    "### Let's query RedShift to make sure our records go into the database:"
   ]
  },
  {
   "cell_type": "code",
   "execution_count": 78,
   "id": "20ac33c3-3f9e-4a09-91c8-08dfbfdcd09f",
   "metadata": {},
   "outputs": [
    {
     "name": "stdout",
     "output_type": "stream",
     "text": [
      "ERROR SELECTING RETENTION SCORES FROM DATABASE: 'NoneType' object has no attribute 'head'\n",
      "REDSHIFT CONNECTION HAS BEEN CLOSED\n"
     ]
    }
   ],
   "source": [
    "try:\n",
    "    cursor = conn.cursor()\n",
    "    \n",
    "    records = cursor.execute(\"select * from dw.customerRetentionScores;\")\n",
    "    print(records.head())\n",
    "\n",
    "except Exception as err:\n",
    "    print(\"ERROR SELECTING RETENTION SCORES FROM DATABASE:\", err)\n",
    "    \n",
    "finally:\n",
    "    if conn:\n",
    "        #cursor.close()\n",
    "        print(\"REDSHIFT CONNECTION HAS BEEN CLOSED\")"
   ]
  },
  {
   "cell_type": "markdown",
   "id": "781f97cf-be36-4d64-a0e8-2b39cedec439",
   "metadata": {},
   "source": [
    "### Delete records from DB (for testing):"
   ]
  },
  {
   "cell_type": "code",
   "execution_count": 77,
   "id": "671fcea7-d713-49b1-b335-7d833860106a",
   "metadata": {},
   "outputs": [
    {
     "name": "stdout",
     "output_type": "stream",
     "text": [
      "42 RECORDS DELETED SUCCESSFULLY\n",
      "Result  []\n",
      "RETENTION SCORES DELETED FROM DATABASE\n"
     ]
    }
   ],
   "source": [
    "try:\n",
    "    delete_query = \"\"\"DELETE FROM dw.customerretentionscores where currversnflag = false\"\"\"\n",
    "    cursor.execute(delete_query)\n",
    "    conn.commit()\n",
    "\n",
    "    count = cursor.rowcount\n",
    "    print(count, \"RECORDS DELETED SUCCESSFULLY\")\n",
    "\n",
    "    # Fetch result\n",
    "    cursor.execute(\"SELECT * FROM dw.customerretentionscores\")\n",
    "    print(\"Result \", cursor.fetchall())\n",
    "    \n",
    "    print(\"RETENTION SCORES DELETED FROM DATABASE\")\n",
    "    \n",
    "except Exception as err:\n",
    "    cursor.execute(\"rollback\")\n",
    "    print(\"ERROR DELETING RETENTION SCORES TO DATABASE:\", err)"
   ]
  },
  {
   "cell_type": "code",
   "execution_count": null,
   "id": "0c3f832b-7b0d-4506-94d3-e1f70f1350de",
   "metadata": {},
   "outputs": [],
   "source": [
    "cursor = connection.cursor()\n",
    "\n",
    "# Executing a SQL query to insert data into  table\n",
    "insert_query = \"\"\" INSERT INTO mobile (ID, MODEL, PRICE) VALUES (1, 'Iphone12', 1100)\"\"\"\n",
    "cursor.execute(insert_query)\n",
    "connection.commit()\n",
    "print(\"1 Record inserted successfully\")\n",
    "\n",
    "# Fetch result\n",
    "cursor.execute(\"SELECT * from mobile\")\n",
    "record = cursor.fetchall()\n",
    "print(\"Result \", record)"
   ]
  },
  {
   "cell_type": "code",
   "execution_count": null,
   "id": "312a0364-71d0-4311-8a87-02a1ad2e4d0f",
   "metadata": {},
   "outputs": [],
   "source": [
    "# get IAM role from AWS\n",
    "\n",
    "\n",
    "# connect to RedShift Server\n",
    "conn = psycopg2.connect(\n",
    "    dbname = 'datascience',\n",
    "    host = 'qa-app.ctjussvyafp4.us-east-1.redshift.amazonaws.com:5439/dev',\n",
    "    port = 5439,\n",
    "    user = 'dsAdmin',\n",
    "    #password=getpass.getpass(prompt='Enter your password'),\n",
    "    sslmode='require'\n",
    ")"
   ]
  },
  {
   "cell_type": "code",
   "execution_count": null,
   "id": "b26584d9-fb0e-4923-9cf1-e7c0df1c75c3",
   "metadata": {},
   "outputs": [],
   "source": [
    "# connect to SQL Server\n",
    "cnxn = pyodbc.connect('DRIVER={ODBC Driver 17 for SQL Server};SERVER='+SERVER+';DATABASE='+DATABASE+';UID='+USERNAME+';PWD='+ PASSWORD)\n",
    "cursor = cnxn.cursor()\n",
    "\n",
    "date_time_now = datetime.now().strftime(\"%m-%d-%Y %H:%M:%S\")\n",
    "\n",
    "try:\n",
    "    # Insert Dataframe into SQL Server:\n",
    "    for index, row in df_scores.iterrows():\n",
    "        \n",
    "        fields = f\"\"\"\n",
    "            INSERT INTO ds.customerScores (\n",
    "                dimCustomerMasterId,\n",
    "                buyer_score,\n",
    "                tenuredays,\n",
    "                attendancePercentage,\n",
    "                mostrecentattendance,\n",
    "                year,\n",
    "                lkupclientid,\n",
    "                productgrouping,\n",
    "                seasonYear,\n",
    "                insertDate\n",
    "            )\n",
    "        \"\"\"\n",
    "        \n",
    "        values = f\"\"\"\n",
    "            VALUES(\n",
    "                {str(row.dimCustomerMasterId)},\n",
    "                {str(round(row.Score_1,4))},\n",
    "                {str(row.source_tenure)},\n",
    "                {str(row.attendancePercent)},\n",
    "                '{str(row.recentDate)}',\n",
    "                {str(row.year)},\n",
    "                {str(lkupclientid)},\n",
    "                '{str(row.productGrouping)}',\n",
    "                {str(row.year)},\n",
    "                '{str(date_time_now)}'\n",
    "            )\"\"\"\n",
    "        \n",
    "        insert_statement = fields + values\n",
    "        \n",
    "        cursor.execute(insert_statement)\n",
    "        cnxn.commit()\n",
    "\n",
    "except Exception as err:\n",
    "    print(\"ERROR INSERTING RETENTION SCORES TO DATABASE:\", err)\n",
    "        \n",
    "cursor.close()\n",
    "print(\"RETENTION SCORES WRITTEN TO DATABASE\")"
   ]
  },
  {
   "cell_type": "code",
   "execution_count": null,
   "id": "d531876a-8f3a-4166-bf85-e0ac239f1aea",
   "metadata": {},
   "outputs": [],
   "source": []
  }
 ],
 "metadata": {
  "kernelspec": {
   "display_name": "Python 3 (ipykernel)",
   "language": "python",
   "name": "python3"
  },
  "language_info": {
   "codemirror_mode": {
    "name": "ipython",
    "version": 3
   },
   "file_extension": ".py",
   "mimetype": "text/x-python",
   "name": "python",
   "nbconvert_exporter": "python",
   "pygments_lexer": "ipython3",
   "version": "3.7.10"
  }
 },
 "nbformat": 4,
 "nbformat_minor": 5
}
