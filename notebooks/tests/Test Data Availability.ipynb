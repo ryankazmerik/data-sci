{
 "cells": [
  {
   "cell_type": "markdown",
   "metadata": {},
   "source": [
    "# Test - Data Availability\n",
    "* StelllarAlgo Data Science\n",
    "* Ryan Kazmerik & Nakisa Rad\n",
    "* Apr 26, 2022"
   ]
  },
  {
   "cell_type": "code",
   "execution_count": 1,
   "metadata": {},
   "outputs": [],
   "source": [
    "import getpass\n",
    "import pandas as pd\n",
    "import pyodbc"
   ]
  },
  {
   "cell_type": "markdown",
   "metadata": {},
   "source": [
    "### Create a connection to MSSQL PROD:"
   ]
  },
  {
   "cell_type": "code",
   "execution_count": 9,
   "metadata": {},
   "outputs": [],
   "source": [
    "# connect to SQL Server.\n",
    "SERVER = '34.206.73.189' \n",
    "DATABASE = 'datascience' \n",
    "USERNAME = 'dsAdminWrite' \n",
    "PASSWORD = getpass.getpass(prompt='Enter your password')\n",
    "CNXN = pyodbc.connect('DRIVER={ODBC Driver 17 for SQL Server};SERVER='+SERVER+';DATABASE='+DATABASE+';UID='+USERNAME+';PWD='+ PASSWORD)"
   ]
  },
  {
   "cell_type": "markdown",
   "metadata": {},
   "source": [
    "### Now we can run our stored proc to get retention training and inference datasets:"
   ]
  },
  {
   "cell_type": "code",
   "execution_count": 10,
   "metadata": {},
   "outputs": [
    {
     "name": "stdout",
     "output_type": "stream",
     "text": [
      "TOTAL ROWS: 16153\n"
     ]
    },
    {
     "data": {
      "text/html": [
       "<div>\n",
       "<style scoped>\n",
       "    .dataframe tbody tr th:only-of-type {\n",
       "        vertical-align: middle;\n",
       "    }\n",
       "\n",
       "    .dataframe tbody tr th {\n",
       "        vertical-align: top;\n",
       "    }\n",
       "\n",
       "    .dataframe thead th {\n",
       "        text-align: right;\n",
       "    }\n",
       "</style>\n",
       "<table border=\"1\" class=\"dataframe\">\n",
       "  <thead>\n",
       "    <tr style=\"text-align: right;\">\n",
       "      <th></th>\n",
       "      <th>lkupClientId</th>\n",
       "      <th>dimCustomerMasterId</th>\n",
       "      <th>customerNumber</th>\n",
       "      <th>year</th>\n",
       "      <th>productGrouping</th>\n",
       "      <th>totalSpent</th>\n",
       "      <th>recentDate</th>\n",
       "      <th>attendancePercent</th>\n",
       "      <th>renewedBeforeDays</th>\n",
       "      <th>isBuyer</th>\n",
       "      <th>...</th>\n",
       "      <th>maritalStatus</th>\n",
       "      <th>lengthOfResidenceInYrs</th>\n",
       "      <th>annualHHIncome</th>\n",
       "      <th>education</th>\n",
       "      <th>urbanicity</th>\n",
       "      <th>credits_after_refund</th>\n",
       "      <th>is_Lockdown</th>\n",
       "      <th>NumberofGamesPerSeason</th>\n",
       "      <th>CNTPostponedGames</th>\n",
       "      <th>isNextYear_Buyer</th>\n",
       "    </tr>\n",
       "  </thead>\n",
       "  <tbody>\n",
       "    <tr>\n",
       "      <th>0</th>\n",
       "      <td>13</td>\n",
       "      <td>463639507</td>\n",
       "      <td>AXS-9063648</td>\n",
       "      <td>2017</td>\n",
       "      <td>Full Season</td>\n",
       "      <td>774.0</td>\n",
       "      <td>2017-10-22</td>\n",
       "      <td>0.764706</td>\n",
       "      <td>120</td>\n",
       "      <td>TRUE</td>\n",
       "      <td>...</td>\n",
       "      <td>1</td>\n",
       "      <td>None</td>\n",
       "      <td>None</td>\n",
       "      <td>None</td>\n",
       "      <td>None</td>\n",
       "      <td>0.0</td>\n",
       "      <td>0</td>\n",
       "      <td>17</td>\n",
       "      <td>None</td>\n",
       "      <td>1</td>\n",
       "    </tr>\n",
       "    <tr>\n",
       "      <th>1</th>\n",
       "      <td>13</td>\n",
       "      <td>463639520</td>\n",
       "      <td>AXS-8026589</td>\n",
       "      <td>2017</td>\n",
       "      <td>Full Season</td>\n",
       "      <td>1026.0</td>\n",
       "      <td>2017-10-22</td>\n",
       "      <td>0.823529</td>\n",
       "      <td>215</td>\n",
       "      <td>TRUE</td>\n",
       "      <td>...</td>\n",
       "      <td>1</td>\n",
       "      <td>None</td>\n",
       "      <td>None</td>\n",
       "      <td>None</td>\n",
       "      <td>None</td>\n",
       "      <td>0.0</td>\n",
       "      <td>0</td>\n",
       "      <td>17</td>\n",
       "      <td>None</td>\n",
       "      <td>1</td>\n",
       "    </tr>\n",
       "    <tr>\n",
       "      <th>2</th>\n",
       "      <td>13</td>\n",
       "      <td>463639568</td>\n",
       "      <td>AXS-8026390</td>\n",
       "      <td>2017</td>\n",
       "      <td>Full Season</td>\n",
       "      <td>1359.0</td>\n",
       "      <td>2017-10-11</td>\n",
       "      <td>0.588235</td>\n",
       "      <td>215</td>\n",
       "      <td>TRUE</td>\n",
       "      <td>...</td>\n",
       "      <td>1</td>\n",
       "      <td>None</td>\n",
       "      <td>None</td>\n",
       "      <td>None</td>\n",
       "      <td>None</td>\n",
       "      <td>0.0</td>\n",
       "      <td>0</td>\n",
       "      <td>17</td>\n",
       "      <td>None</td>\n",
       "      <td>1</td>\n",
       "    </tr>\n",
       "    <tr>\n",
       "      <th>3</th>\n",
       "      <td>13</td>\n",
       "      <td>463639948</td>\n",
       "      <td>AXS-8026663</td>\n",
       "      <td>2017</td>\n",
       "      <td>Full Season</td>\n",
       "      <td>1732.5</td>\n",
       "      <td>2017-10-22</td>\n",
       "      <td>0.941176</td>\n",
       "      <td>229</td>\n",
       "      <td>TRUE</td>\n",
       "      <td>...</td>\n",
       "      <td>1</td>\n",
       "      <td>None</td>\n",
       "      <td>None</td>\n",
       "      <td>None</td>\n",
       "      <td>None</td>\n",
       "      <td>0.0</td>\n",
       "      <td>0</td>\n",
       "      <td>17</td>\n",
       "      <td>None</td>\n",
       "      <td>1</td>\n",
       "    </tr>\n",
       "    <tr>\n",
       "      <th>4</th>\n",
       "      <td>13</td>\n",
       "      <td>463640455</td>\n",
       "      <td>AXS-10548666</td>\n",
       "      <td>2017</td>\n",
       "      <td>Full Season</td>\n",
       "      <td>474.0</td>\n",
       "      <td>2017-09-30</td>\n",
       "      <td>1.000000</td>\n",
       "      <td>3</td>\n",
       "      <td>TRUE</td>\n",
       "      <td>...</td>\n",
       "      <td>1</td>\n",
       "      <td>None</td>\n",
       "      <td>None</td>\n",
       "      <td>None</td>\n",
       "      <td>None</td>\n",
       "      <td>0.0</td>\n",
       "      <td>0</td>\n",
       "      <td>17</td>\n",
       "      <td>None</td>\n",
       "      <td>0</td>\n",
       "    </tr>\n",
       "  </tbody>\n",
       "</table>\n",
       "<p>5 rows × 54 columns</p>\n",
       "</div>"
      ],
      "text/plain": [
       "   lkupClientId  dimCustomerMasterId customerNumber  year productGrouping  \\\n",
       "0            13            463639507    AXS-9063648  2017     Full Season   \n",
       "1            13            463639520    AXS-8026589  2017     Full Season   \n",
       "2            13            463639568    AXS-8026390  2017     Full Season   \n",
       "3            13            463639948    AXS-8026663  2017     Full Season   \n",
       "4            13            463640455   AXS-10548666  2017     Full Season   \n",
       "\n",
       "   totalSpent  recentDate  attendancePercent  renewedBeforeDays isBuyer  ...  \\\n",
       "0       774.0  2017-10-22           0.764706                120    TRUE  ...   \n",
       "1      1026.0  2017-10-22           0.823529                215    TRUE  ...   \n",
       "2      1359.0  2017-10-11           0.588235                215    TRUE  ...   \n",
       "3      1732.5  2017-10-22           0.941176                229    TRUE  ...   \n",
       "4       474.0  2017-09-30           1.000000                  3    TRUE  ...   \n",
       "\n",
       "   maritalStatus  lengthOfResidenceInYrs  annualHHIncome  education  \\\n",
       "0              1                    None            None       None   \n",
       "1              1                    None            None       None   \n",
       "2              1                    None            None       None   \n",
       "3              1                    None            None       None   \n",
       "4              1                    None            None       None   \n",
       "\n",
       "   urbanicity  credits_after_refund  is_Lockdown  NumberofGamesPerSeason  \\\n",
       "0        None                   0.0            0                      17   \n",
       "1        None                   0.0            0                      17   \n",
       "2        None                   0.0            0                      17   \n",
       "3        None                   0.0            0                      17   \n",
       "4        None                   0.0            0                      17   \n",
       "\n",
       "   CNTPostponedGames  isNextYear_Buyer  \n",
       "0               None                 1  \n",
       "1               None                 1  \n",
       "2               None                 1  \n",
       "3               None                 1  \n",
       "4               None                 0  \n",
       "\n",
       "[5 rows x 54 columns]"
      ]
     },
     "execution_count": 10,
     "metadata": {},
     "output_type": "execute_result"
    }
   ],
   "source": [
    "lkupclientid = 13\n",
    "dbname = 'stlrMLS'\n",
    "\n",
    "cursor = CNXN.cursor()\n",
    "\n",
    "storedProc = (\n",
    "    f\"\"\"Exec {dbname}.[ds].[getRetentionScoringModelData] {lkupclientid}\"\"\"\n",
    ")\n",
    "\n",
    "df = pd.read_sql(storedProc, CNXN)\n",
    "\n",
    "CNXN.commit()\n",
    "cursor.close()\n",
    "\n",
    "print(f\"TOTAL ROWS: {df.shape[0]}\")\n",
    "df.head()"
   ]
  },
  {
   "cell_type": "markdown",
   "metadata": {},
   "source": [
    "### Let's check how much data we have for each season:"
   ]
  },
  {
   "cell_type": "code",
   "execution_count": 11,
   "metadata": {},
   "outputs": [
    {
     "data": {
      "text/plain": [
       "2018    3164\n",
       "2017    3098\n",
       "2022    2654\n",
       "2021    2633\n",
       "2020    2498\n",
       "2019    2106\n",
       "Name: year, dtype: int64"
      ]
     },
     "execution_count": 11,
     "metadata": {},
     "output_type": "execute_result"
    }
   ],
   "source": [
    "df[\"year\"].value_counts()"
   ]
  },
  {
   "cell_type": "markdown",
   "metadata": {},
   "source": [
    "### Done"
   ]
  },
  {
   "cell_type": "markdown",
   "metadata": {},
   "source": []
  }
 ],
 "metadata": {
  "interpreter": {
   "hash": "89f48dadab51a6b5b48ffc1a9e043c21cefe67453637c3444f3b86917b8aad16"
  },
  "kernelspec": {
   "display_name": "Python 3.8.5 ('stellar')",
   "language": "python",
   "name": "python3"
  },
  "language_info": {
   "codemirror_mode": {
    "name": "ipython",
    "version": 3
   },
   "file_extension": ".py",
   "mimetype": "text/x-python",
   "name": "python",
   "nbconvert_exporter": "python",
   "pygments_lexer": "ipython3",
   "version": "3.8.5"
  },
  "orig_nbformat": 4
 },
 "nbformat": 4,
 "nbformat_minor": 2
}
