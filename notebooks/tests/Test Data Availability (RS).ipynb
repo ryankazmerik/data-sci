{
 "cells": [
  {
   "cell_type": "markdown",
   "id": "7794715f",
   "metadata": {},
   "source": [
    "# Test - Data Availability (RS)\n",
    "* StelllarAlgo Data Science\n",
    "* Ryan Kazmerik & Nakisa Rad\n",
    "* May 13, 2022"
   ]
  },
  {
   "cell_type": "code",
<<<<<<< HEAD
   "execution_count": 1,
=======
   "execution_count": 9,
>>>>>>> 45b4948275236073bc5aefed8593fdb8e34d360d
   "id": "9bb20612",
   "metadata": {},
   "outputs": [],
   "source": [
    "import boto3 \n",
    "import pandas as pd\n",
    "import psycopg2\n",
    "\n",
    "pd.options.display.max_columns = 100\n",
    "pd.options.display.max_rows = 100"
   ]
  },
  {
   "cell_type": "markdown",
   "id": "ee1c2041",
   "metadata": {},
   "source": [
    "### Create a connection to RedShift PROD:"
   ]
  },
  {
   "cell_type": "code",
<<<<<<< HEAD
   "execution_count": 20,
=======
   "execution_count": 10,
>>>>>>> 45b4948275236073bc5aefed8593fdb8e34d360d
   "id": "0dba11fa",
   "metadata": {},
   "outputs": [
    {
     "name": "stdout",
     "output_type": "stream",
     "text": [
      "Attempting to automatically open the SSO authorization page in your default browser.\n",
      "If the browser does not open or you wish to use a different device to authorize this request, open the following URL:\n",
      "\n",
      "https://device.sso.us-east-1.amazonaws.com/\n",
      "\n",
      "Then enter the code:\n",
      "\n",
<<<<<<< HEAD
      "PCVJ-GVKQ\n",
      "Successully logged into Start URL: https://stellaralgo.awsapps.com/start#/\n"
=======
      "GSLT-TRZX\n",
      "Successully logged into Start URL: https://stellaralgo.awsapps.com/start\n"
>>>>>>> 45b4948275236073bc5aefed8593fdb8e34d360d
     ]
    }
   ],
   "source": [
    "! aws sso login --profile Stellaralgo-DataScienceAdmin"
   ]
  },
  {
   "cell_type": "code",
<<<<<<< HEAD
   "execution_count": 22,
=======
   "execution_count": 13,
>>>>>>> 45b4948275236073bc5aefed8593fdb8e34d360d
   "id": "b69dae93",
   "metadata": {},
   "outputs": [
    {
     "name": "stdout",
     "output_type": "stream",
     "text": [
<<<<<<< HEAD
      "GOT CONNECTION TO DATABASE: qa-app stlrahl\n"
=======
      "GOT CONNECTION TO DATABASE: prod-app stlrahl\n"
>>>>>>> 45b4948275236073bc5aefed8593fdb8e34d360d
     ]
    }
   ],
   "source": [
    "session = boto3.session.Session(profile_name='Stellaralgo-DataScienceAdmin')\n",
    "client = session.client('redshift')\n",
    "\n",
<<<<<<< HEAD
    "CLUSTER = 'qa-app'\n",
    "DBNAME = 'stlrahl'\n",
=======
    "CLUSTER = 'prod-app'\n",
    "DBNAME = 'stlrahl'\n",
    "#HOST = 'qa-app.ctjussvyafp4.us-east-1.redshift.amazonaws.com'\n",
    "HOST = 'prod-app.ctjussvyafp4.us-east-1.redshift.amazonaws.com'\n",
>>>>>>> 45b4948275236073bc5aefed8593fdb8e34d360d
    "\n",
    "creds = client.get_cluster_credentials(                \n",
    "    ClusterIdentifier = CLUSTER,\n",
    "    DbUser = 'admin',\n",
    "    DbName = DBNAME,\n",
    "    DbGroups = ['admin_group'],\n",
    "    AutoCreate=True\n",
    ")\n",
    "\n",
    "print(f\"GOT CONNECTION TO DATABASE: {CLUSTER} {DBNAME}\")"
   ]
  },
  {
   "cell_type": "markdown",
   "id": "7cab863c",
   "metadata": {},
   "source": [
    "### Run the stored proc to get retention training and inference datasets: (! NEEDS ROLE ASSUMPTION !)"
   ]
  },
  {
   "cell_type": "code",
<<<<<<< HEAD
   "execution_count": 17,
=======
   "execution_count": 15,
>>>>>>> 45b4948275236073bc5aefed8593fdb8e34d360d
   "id": "6f77a831",
   "metadata": {},
   "outputs": [
    {
     "ename": "UndefinedFunction",
     "evalue": "procedure dw.getretentionmodeldata(integer, integer, integer, \"unknown\") does not exist\nHINT:  No procedure matches the given name and argument types. You may need to add explicit type casts.\n",
     "output_type": "error",
     "traceback": [
      "\u001b[0;31m---------------------------------------------------------------------------\u001b[0m",
      "\u001b[0;31mUndefinedFunction\u001b[0m                         Traceback (most recent call last)",
      "\u001b[1;32m/Users/ryankazmerik/Git/data-sci/notebooks/tests/Test Data Availability (RS).ipynb Cell 7'\u001b[0m in \u001b[0;36m<cell line: 11>\u001b[0;34m()\u001b[0m\n\u001b[1;32m      <a href='vscode-notebook-cell:/Users/ryankazmerik/Git/data-sci/notebooks/tests/Test%20Data%20Availability%20%28RS%29.ipynb#ch0000006?line=1'>2</a>\u001b[0m conn \u001b[39m=\u001b[39m psycopg2\u001b[39m.\u001b[39mconnect(\n\u001b[1;32m      <a href='vscode-notebook-cell:/Users/ryankazmerik/Git/data-sci/notebooks/tests/Test%20Data%20Availability%20%28RS%29.ipynb#ch0000006?line=2'>3</a>\u001b[0m     host \u001b[39m=\u001b[39m HOST,\n\u001b[1;32m      <a href='vscode-notebook-cell:/Users/ryankazmerik/Git/data-sci/notebooks/tests/Test%20Data%20Availability%20%28RS%29.ipynb#ch0000006?line=3'>4</a>\u001b[0m     port \u001b[39m=\u001b[39m \u001b[39m5439\u001b[39m,\n\u001b[0;32m   (...)\u001b[0m\n\u001b[1;32m      <a href='vscode-notebook-cell:/Users/ryankazmerik/Git/data-sci/notebooks/tests/Test%20Data%20Availability%20%28RS%29.ipynb#ch0000006?line=6'>7</a>\u001b[0m     database \u001b[39m=\u001b[39m DBNAME\n\u001b[1;32m      <a href='vscode-notebook-cell:/Users/ryankazmerik/Git/data-sci/notebooks/tests/Test%20Data%20Availability%20%28RS%29.ipynb#ch0000006?line=7'>8</a>\u001b[0m )\n\u001b[1;32m     <a href='vscode-notebook-cell:/Users/ryankazmerik/Git/data-sci/notebooks/tests/Test%20Data%20Availability%20%28RS%29.ipynb#ch0000006?line=9'>10</a>\u001b[0m cur \u001b[39m=\u001b[39m conn\u001b[39m.\u001b[39mcursor()\n\u001b[0;32m---> <a href='vscode-notebook-cell:/Users/ryankazmerik/Git/data-sci/notebooks/tests/Test%20Data%20Availability%20%28RS%29.ipynb#ch0000006?line=10'>11</a>\u001b[0m cur\u001b[39m.\u001b[39;49mexecute(\u001b[39mf\u001b[39;49m\u001b[39m\"\u001b[39;49m\u001b[39mCALL dw.getretentionmodeldata(31, 2020, 2022, \u001b[39;49m\u001b[39m'\u001b[39;49m\u001b[39mrkcursor\u001b[39;49m\u001b[39m'\u001b[39;49m\u001b[39m)\u001b[39;49m\u001b[39m\"\u001b[39;49m)\n\u001b[1;32m     <a href='vscode-notebook-cell:/Users/ryankazmerik/Git/data-sci/notebooks/tests/Test%20Data%20Availability%20%28RS%29.ipynb#ch0000006?line=12'>13</a>\u001b[0m \u001b[39m# create a named cursor based on the cursor name passed in above\u001b[39;00m\n\u001b[1;32m     <a href='vscode-notebook-cell:/Users/ryankazmerik/Git/data-sci/notebooks/tests/Test%20Data%20Availability%20%28RS%29.ipynb#ch0000006?line=13'>14</a>\u001b[0m named_cursor \u001b[39m=\u001b[39m conn\u001b[39m.\u001b[39mcursor(\u001b[39m'\u001b[39m\u001b[39mrkcursor\u001b[39m\u001b[39m'\u001b[39m)\n",
      "\u001b[0;31mUndefinedFunction\u001b[0m: procedure dw.getretentionmodeldata(integer, integer, integer, \"unknown\") does not exist\nHINT:  No procedure matches the given name and argument types. You may need to add explicit type casts.\n"
     ]
    }
   ],
   "source": [
    "# create a connection & cursor and call the stored procedure\n",
    "conn = psycopg2.connect(\n",
    "    host = HOST,\n",
    "    port = 5439,\n",
    "    user = creds['DbUser'],\n",
    "    password = creds['DbPassword'],\n",
    "    database = DBNAME\n",
    ")\n",
    "\n",
    "cur = conn.cursor()\n",
    "cur.execute(f\"CALL dw.getretentionmodeldata(16, 2010, 2022, 'rkcursor')\")\n",
    "\n",
    "# create a named cursor based on the cursor name passed in above\n",
    "named_cursor = conn.cursor('rkcursor')\n",
    "data = named_cursor.fetchall()\n",
    "\n",
    "# load the data and columns into a data frame\n",
    "cols = [row[0] for row in named_cursor.description]\n",
    "df = pd.DataFrame(data=data, columns=cols)\n",
    "\n",
    "conn.commit()"
   ]
  },
  {
   "cell_type": "markdown",
   "id": "03d6dd9a",
   "metadata": {},
   "source": [
    "### Check how much data we have for each season:"
   ]
  },
  {
   "cell_type": "code",
   "execution_count": 18,
   "id": "903ad80d",
   "metadata": {},
   "outputs": [
    {
     "name": "stdout",
     "output_type": "stream",
     "text": [
      "DATA AVAILABILITY REPORT:\n",
      " > qa-app stlrahl\n"
     ]
    },
    {
     "data": {
      "text/plain": [
       "2021    1265\n",
       "2019    1091\n",
       "2018     554\n",
       "2017     553\n",
       "2016     424\n",
       "2015     482\n",
       "2014     452\n",
       "Name: year, dtype: int64"
      ]
     },
     "execution_count": 18,
     "metadata": {},
     "output_type": "execute_result"
    }
   ],
   "source": [
    "print(f\"DATA AVAILABILITY REPORT:\")\n",
    "print(f\" > {CLUSTER} {DBNAME}\")\n",
    "df[\"year\"].value_counts().sort_index(ascending=False)"
   ]
  },
  {
   "cell_type": "markdown",
   "id": "3e93b50a",
   "metadata": {},
   "source": [
    "### Done"
   ]
  }
 ],
 "metadata": {
  "interpreter": {
   "hash": "89f48dadab51a6b5b48ffc1a9e043c21cefe67453637c3444f3b86917b8aad16"
  },
  "kernelspec": {
   "display_name": "Python 3 (ipykernel)",
   "language": "python",
   "name": "python3"
  },
  "language_info": {
   "codemirror_mode": {
    "name": "ipython",
    "version": 3
   },
   "file_extension": ".py",
   "mimetype": "text/x-python",
   "name": "python",
   "nbconvert_exporter": "python",
   "pygments_lexer": "ipython3",
   "version": "3.9.4"
  }
 },
 "nbformat": 4,
 "nbformat_minor": 5
}
