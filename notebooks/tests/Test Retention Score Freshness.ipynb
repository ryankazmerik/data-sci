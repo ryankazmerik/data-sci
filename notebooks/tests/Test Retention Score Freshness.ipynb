{
       "cells": [
        {
         "cell_type": "markdown",
         "id": "7794715f",
         "metadata": {},
         "source": [
          "# Test - Check Retention Score Dates\n",
          "* StelllarAlgo Data Science\n",
          "* Ryan Kazmerik & Nakisa Rad\n",
          "* Apr 30, 2022"
         ]
        },
        {
         "cell_type": "code",
         "execution_count": 9,
         "id": "9bb20612",
         "metadata": {},
         "outputs": [],
         "source": [
          "import awswrangler as wr\n",
          "import boto3 \n",
          "import json\n",
          "import pandas as pd\n",
          "import pytz\n",
          "\n",
          "from datetime import datetime, timedelta\n",
          "\n",
          "pd.options.display.max_columns = 100\n",
          "pd.options.display.max_rows = 100"
         ]
        },
        {
         "cell_type": "code",
         "execution_count": 10,
         "id": "0dba11fa",
         "metadata": {},
         "outputs": [
          {
           "name": "stdout",
           "output_type": "stream",
           "text": [
            "Attempting to automatically open the SSO authorization page in your default browser.\n",
            "If the browser does not open or you wish to use a different device to authorize this request, open the following URL:\n",
            "\n",
            "https://device.sso.us-east-1.amazonaws.com/\n",
            "\n",
            "Then enter the code:\n",
            "\n",
            "VVVD-ZBZD\n",
            "Successully logged into Start URL: https://stellaralgo.awsapps.com/start\n"
           ]
          }
         ],
         "source": [
          "! aws sso login --profile Stellaralgo-DataScienceAdmin"
         ]
        },
        {
         "cell_type": "code",
         "execution_count": 3,
         "id": "b69dae93",
         "metadata": {},
         "outputs": [],
         "source": [
          "session = boto3.setup_default_session(profile_name='Stellaralgo-DataScienceAdmin')\n",
          "client = boto3.client('redshift')"
         ]
        },
        {
         "cell_type": "markdown",
         "id": "8f7451e2",
         "metadata": {},
         "source": [
          "### Let's create a list of team db's that we'd like to check for fresh scores:"
         ]
        },
        {
         "cell_type": "code",
         "execution_count": 11,
         "id": "dc0486db",
         "metadata": {},
         "outputs": [],
         "source": [
          "SCHEMA = \"dw\"\n",
          "TABLE = \"customerretentionscores\"\n",
          "TEAMS = json.load(open('../../teamsconfig.json'))\n",
          "USER = \"admin\""
         ]
        },
        {
         "cell_type": "markdown",
         "id": "e6263e6f",
         "metadata": {},
         "source": [
          "### Now we can loop through each datatbase, connect to it and check the retention scores:"
         ]
        },
        {
         "cell_type": "code",
         "execution_count": 12,
         "id": "1fde9af7",
         "metadata": {},
         "outputs": [
          {
           "name": "stdout",
           "output_type": "stream",
           "text": [
            "CHECKING RETENTION SCORES\n",
            " > NO RETENTION SCORES FOUND FOR: Portland Sea Dogs - milbseadogs (100)\n"
           ]
          },
          {
           "data": {
            "text/plain": [
             "(37, 6)"
            ]
           },
           "execution_count": 12,
           "metadata": {},
           "output_type": "execute_result"
          }
         ],
         "source": [
          "print(f\"CHECKING RETENTION SCORES\")\n",
          "\n",
          "results = []\n",
          "for team in TEAMS:\n",
          "\n",
          "    conn = wr.data_api.redshift.connect(\n",
          "        cluster_id = team['cluster'],\n",
          "        database =  team['dbname'].lower(),\n",
          "        db_user = USER\n",
          "    )\n",
          "\n",
          "    sql = f\"\"\"\n",
          "        SELECT count(*), lkupclientid, MAX(scoredate) as max_score_date\n",
          "        FROM {team['dbname'].lower()}.{SCHEMA}.{TABLE} \n",
          "        WHERE lkupclientid = {team['lkupclientid']}\n",
          "        GROUP BY lkupclientid\n",
          "    \"\"\"\n",
          "\n",
          "    df = wr.data_api.redshift.read_sql_query(\n",
          "        sql = sql, \n",
          "        con = conn\n",
          "    )\n",
          "\n",
          "\n",
          "    df[\"cluster\"] = team[\"cluster\"]\n",
          "    df[\"dbname\"] = team[\"dbname\"]\n",
          "    df[\"lkupclientid\"] = team[\"lkupclientid\"]\n",
          "    df[\"name\"] = team[\"name\"]\n",
          "\n",
          "    if len(df) > 0:\n",
          "        results.append(df)\n",
          "    else:\n",
          "        print(f\" > NO RETENTION SCORES FOUND FOR: {team['name']} - {team['clientcode']} ({team['lkupclientid']})\")\n",
          "\n",
          "df_results = pd.concat(results)\n",
          "\n",
          "df_results[\"count\"] = pd.to_numeric(df_results[\"count\"])\n",
          "df_results[\"max_score_date\"] = pd.to_datetime(df_results[\"max_score_date\"])\n",
          "\n",
          "df_results.shape\n"
         ]
        },
        {
         "cell_type": "code",
         "execution_count": 15,
         "id": "da641df1",
         "metadata": {},
         "outputs": [
          {
           "name": "stdout",
           "output_type": "stream",
           "text": [
            "STALE TEAMS: 0\n",
            "TARGET DAY: 2022-05-25\n"
           ]
          },
          {
           "data": {
            "text/html": [
             "<div>\n",
             "<style scoped>\n",
             "    .dataframe tbody tr th:only-of-type {\n",
             "        vertical-align: middle;\n",
             "    }\n",
             "\n",
             "    .dataframe tbody tr th {\n",
             "        vertical-align: top;\n",
             "    }\n",
             "\n",
             "    .dataframe thead th {\n",
             "        text-align: right;\n",
             "    }\n",
             "</style>\n",
             "<table border=\"1\" class=\"dataframe\">\n",
             "  <thead>\n",
             "    <tr style=\"text-align: right;\">\n",
             "      <th></th>\n",
             "      <th>count</th>\n",
             "      <th>lkupclientid</th>\n",
             "      <th>max_score_date</th>\n",
             "      <th>cluster</th>\n",
             "      <th>dbname</th>\n",
             "      <th>name</th>\n",
             "    </tr>\n",
             "  </thead>\n",
             "  <tbody>\n",
             "  </tbody>\n",
             "</table>\n",
             "</div>"
            ],
            "text/plain": [
             "Empty DataFrame\n",
             "Columns: [count, lkupclientid, max_score_date, cluster, dbname, name]\n",
             "Index: []"
            ]
           },
           "execution_count": 15,
           "metadata": {},
           "output_type": "execute_result"
          }
         ],
         "source": [
          "today = datetime.now(pytz.timezone(\"MST\")).strftime(\"%Y-%m-%d\")\n",
          "\n",
          "days_to_sub = 1\n",
          "target_day = (datetime.today() - timedelta(days_to_sub)).strftime(\"%Y-%m-%d\")\n",
          "\n",
          "df_stale = df_results[df_results[\"max_score_date\"] < target_day]\n",
          "df_stale = df_stale.sort_values(by='name')\n",
          "\n",
          "print(f\"STALE TEAMS: {len(df_stale)}\")\n",
          "print(f\"TARGET DAY: {target_day}\")\n",
          "df_stale"
         ]
        },
        {
         "cell_type": "markdown",
         "id": "3e93b50a",
         "metadata": {},
         "source": [
          "### Done"
         ]
        },
        {
         "cell_type": "markdown",
         "id": "691de83a",
         "metadata": {},
         "source": []
        }
       ],
       "metadata": {
        "interpreter": {
         "hash": "89f48dadab51a6b5b48ffc1a9e043c21cefe67453637c3444f3b86917b8aad16"
        },
        "kernelspec": {
         "display_name": "Python 3 (ipykernel)",
         "language": "python",
         "name": "python3"
        },
        "language_info": {
         "codemirror_mode": {
          "name": "ipython",
          "version": 3
         },
         "file_extension": ".py",
         "mimetype": "text/x-python",
         "name": "python",
         "nbconvert_exporter": "python",
         "pygments_lexer": "ipython3",
         "version": "3.8.5"
        }
       },
       "nbformat": 4,
       "nbformat_minor": 5
      }