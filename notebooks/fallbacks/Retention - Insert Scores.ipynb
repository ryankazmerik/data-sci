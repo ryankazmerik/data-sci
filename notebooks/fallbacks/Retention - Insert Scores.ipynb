{
 "cells": [
  {
   "cell_type": "markdown",
   "id": "6ee08766-25fd-4da1-91b8-b0c3e74db588",
   "metadata": {},
   "source": [
    "# Retention Insert Scores Fallback\n",
    "* StelllarAlgo Data Science\n",
    "* Ryan Kazmerik & Nakisa Rad\n",
    "* Mar 7, 2022"
   ]
  },
  {
   "cell_type": "code",
   "execution_count": 35,
   "id": "4c533efd-600e-4bce-8203-faffbddfa700",
   "metadata": {},
   "outputs": [],
   "source": [
    "import boto3\n",
    "import getpass\n",
    "import pandas as pd\n",
    "import pyodbc\n",
    "import matplotlib.pyplot as plt\n",
    "import awswrangler as wr\n",
    "import warnings\n",
    "\n",
    "from datetime import datetime\n",
    "from pytz import timezone\n",
    "from pycaret.classification import *\n",
    "\n",
    "warnings.filterwarnings('ignore')"
   ]
  },
  {
   "cell_type": "markdown",
   "id": "b64ae7d5-84af-4915-bd13-1dd9d17098a3",
   "metadata": {},
   "source": [
    "### Let's connect to MSSQL and run a stored proc to get our dataset:"
   ]
  },
  {
   "cell_type": "code",
   "execution_count": 36,
   "id": "ae561eb4-f419-4d46-b5e0-12fac9b10db8",
   "metadata": {},
   "outputs": [
    {
     "name": "stdin",
     "output_type": "stream",
     "text": [
      "Enter your password ····················\n"
     ]
    }
   ],
   "source": [
    "# connect to SQL Server.\n",
    "SERVER = '52.44.171.130' \n",
    "DATABASE = 'datascience' \n",
    "USERNAME = 'dsAdminWrite' \n",
    "PASSWORD = getpass.getpass(prompt='Enter your password')\n",
    "CNXN = pyodbc.connect('DRIVER={ODBC Driver 17 for SQL Server};SERVER='+SERVER+';DATABASE='+DATABASE+';UID='+USERNAME+';PWD='+ PASSWORD)"
   ]
  },
  {
   "cell_type": "code",
   "execution_count": 88,
   "id": "af1afe7d-a35b-494b-88f3-980fb0e3da30",
   "metadata": {},
   "outputs": [
    {
     "name": "stdout",
     "output_type": "stream",
     "text": [
      "<class 'pandas.core.frame.DataFrame'>\n",
      "RangeIndex: 27466 entries, 0 to 27465\n",
      "Data columns (total 54 columns):\n",
      " #   Column                  Non-Null Count  Dtype  \n",
      "---  ------                  --------------  -----  \n",
      " 0   lkupClientId            27466 non-null  int64  \n",
      " 1   dimCustomerMasterId     27466 non-null  int64  \n",
      " 2   customerNumber          27463 non-null  object \n",
      " 3   year                    27466 non-null  int64  \n",
      " 4   productGrouping         27466 non-null  object \n",
      " 5   totalSpent              27466 non-null  float64\n",
      " 6   recentDate              27466 non-null  object \n",
      " 7   attendancePercent       27466 non-null  float64\n",
      " 8   renewedBeforeDays       27466 non-null  int64  \n",
      " 9   isBuyer                 27466 non-null  object \n",
      " 10  source_tenure           27466 non-null  int64  \n",
      " 11  tenure                  27466 non-null  int64  \n",
      " 12  distToVenue             27466 non-null  float64\n",
      " 13  totalGames              27466 non-null  int64  \n",
      " 14  recency                 27466 non-null  int64  \n",
      " 15  missed_games_1          27466 non-null  int64  \n",
      " 16  missed_games_2          27466 non-null  int64  \n",
      " 17  missed_games_over_2     27466 non-null  int64  \n",
      " 18  click_link              27466 non-null  int64  \n",
      " 19  fill_out_form           27466 non-null  int64  \n",
      " 20  open_email              27466 non-null  int64  \n",
      " 21  send_email              27466 non-null  int64  \n",
      " 22  unsubscribe_email       27466 non-null  int64  \n",
      " 23  openToSendRatio         27466 non-null  float64\n",
      " 24  clickToSendRatio        27466 non-null  float64\n",
      " 25  clickToOpenRatio        27466 non-null  float64\n",
      " 26  posting_records         27466 non-null  int64  \n",
      " 27  resale_records          27466 non-null  int64  \n",
      " 28  resale_atp              27466 non-null  float64\n",
      " 29  forward_records         27466 non-null  int64  \n",
      " 30  cancel_records          27466 non-null  int64  \n",
      " 31  email                   27466 non-null  int64  \n",
      " 32  inbound_email           27466 non-null  int64  \n",
      " 33  inbound_phonecall       27466 non-null  int64  \n",
      " 34  inperson_contact        27466 non-null  int64  \n",
      " 35  internal_note           27466 non-null  int64  \n",
      " 36  left_message            27466 non-null  int64  \n",
      " 37  outbound_email          27466 non-null  int64  \n",
      " 38  outbound_phonecall      27466 non-null  int64  \n",
      " 39  phonecall               27466 non-null  int64  \n",
      " 40  text                    27466 non-null  int64  \n",
      " 41  unknown                 27466 non-null  int64  \n",
      " 42  gender                  27466 non-null  object \n",
      " 43  childrenPresentInHH     27466 non-null  int64  \n",
      " 44  maritalStatus           27466 non-null  int64  \n",
      " 45  lengthOfResidenceInYrs  0 non-null      object \n",
      " 46  annualHHIncome          0 non-null      object \n",
      " 47  education               0 non-null      object \n",
      " 48  urbanicity              0 non-null      object \n",
      " 49  credits_after_refund    27466 non-null  float64\n",
      " 50  is_Lockdown             27466 non-null  int64  \n",
      " 51  NumberofGamesPerSeason  27466 non-null  int64  \n",
      " 52  CNTPostponedGames       0 non-null      object \n",
      " 53  isNextYear_Buyer        27466 non-null  int64  \n",
      "dtypes: float64(8), int64(36), object(10)\n",
      "memory usage: 11.3+ MB\n"
     ]
    }
   ],
   "source": [
    "lkupclientid = 5\n",
    "dbname = 'stlrtrailblazers'\n",
    "\n",
    "cursor = CNXN.cursor()\n",
    "\n",
    "storedProc = (\n",
    "    f\"\"\"Exec {dbname}.[ds].[getRetentionScoringModelData] {lkupclientid}\"\"\"\n",
    ")\n",
    "\n",
    "df = pd.read_sql(storedProc, CNXN)\n",
    "\n",
    "# apply some data transformations\n",
    "df[\"year\"] = pd.to_numeric(df[\"year\"])\n",
    "\n",
    "CNXN.commit()\n",
    "cursor.close()\n",
    "\n",
    "df.info()"
   ]
  },
  {
   "cell_type": "markdown",
   "id": "ab40da92-72a7-49c1-9829-ed3805a39719",
   "metadata": {},
   "source": [
    "### We should specify the features used in our model:"
   ]
  },
  {
   "cell_type": "code",
   "execution_count": 89,
   "id": "788f1273-8b7a-46bd-a099-1a471feeacc5",
   "metadata": {},
   "outputs": [
    {
     "name": "stdout",
     "output_type": "stream",
     "text": [
      "Data for Modeling: (18586, 11)\n",
      "Unseen Data For Predictions: (3280, 11)\n",
      "\n"
     ]
    }
   ],
   "source": [
    "# choose the features for the stellar base retention model\n",
    "features = [\n",
    "    \"dimCustomerMasterId\",\n",
    "    \"attendancePercent\",\n",
    "    \"distToVenue\",\n",
    "    \"isNextYear_Buyer\",\n",
    "    \"lkupClientId\",\n",
    "    \"productGrouping\",\n",
    "    \"recency\",\n",
    "    \"recentDate\",\n",
    "    \"source_tenure\",\n",
    "    \"totalSpent\",\n",
    "    \"year\"\n",
    "]\n",
    "\n",
    "# copy your main dataframe\n",
    "df_dataset = df\n",
    "\n",
    "# choose the features & train year & test year\n",
    "df_dataset = df_dataset[features]\n",
    "df_dataset[\"year\"] = pd.to_numeric(df_dataset[\"year\"])\n",
    "df_dataset = df_dataset.loc[df_dataset[\"year\"] <= 2019]\n",
    "\n",
    "df_train = df_dataset.sample(frac=0.85, random_state=786)\n",
    "df_eval = df_dataset.drop(df_train.index)\n",
    "\n",
    "df_train.reset_index(drop=True, inplace=True)\n",
    "df_eval.reset_index(drop=True, inplace=True)\n",
    "\n",
    "# print out the number of records for training and eval\n",
    "print('Data for Modeling: ' + str(df_train.shape))\n",
    "print('Unseen Data For Predictions: ' + str(df_eval.shape), end=\"\\n\\n\")"
   ]
  },
  {
   "cell_type": "markdown",
   "id": "4f2da06d-9015-49fd-89b3-956c2ebf66e9",
   "metadata": {},
   "source": [
    "### Now we can model the data using a binary classification prediction for the isnextyear_buyer field to see how likely a customer is to re-purchase."
   ]
  },
  {
   "cell_type": "code",
   "execution_count": 90,
   "id": "23a69cdc-b3ec-48c8-9ce5-29f617779389",
   "metadata": {},
   "outputs": [],
   "source": [
    "setup(\n",
    "    data= df_train, \n",
    "    target=\"isNextYear_Buyer\", \n",
    "    train_size = 0.85,\n",
    "    data_split_shuffle=True,\n",
    "    ignore_features=[\n",
    "        \"dimCustomerMasterId\",\n",
    "        \"lkupClientId\",\n",
    "        \"productGrouping\",\n",
    "        \"recentDate\",\n",
    "        \"year\"\n",
    "    ],\n",
    "    silent=True,\n",
    "    verbose=False,\n",
    "    numeric_features=[\n",
    "        \"attendancePercent\",\n",
    "        \"distToVenue\",\n",
    "        \"recency\",\n",
    "        \"source_tenure\",\n",
    "        \"totalSpent\"\n",
    "    ]\n",
    ");"
   ]
  },
  {
   "cell_type": "markdown",
   "id": "6e1e33e8-ed5f-4e84-abb2-a2fc8370905c",
   "metadata": {},
   "source": [
    "### The evaluation output prints a score grid that shows average Accuracy, AUC, Recall, Precision, F1 and Kappa accross the folds (10 by default) along with training time:"
   ]
  },
  {
   "cell_type": "code",
   "execution_count": 91,
   "id": "ef2db9d2-02c2-45c0-b6bb-5cad42c373ce",
   "metadata": {},
   "outputs": [
    {
     "data": {
      "text/html": [
       "<style type=\"text/css\">\n",
       "#T_7a451_ th {\n",
       "  text-align: left;\n",
       "}\n",
       "#T_7a451_row0_col0 {\n",
       "  text-align: left;\n",
       "}\n",
       "#T_7a451_row0_col1, #T_7a451_row0_col2, #T_7a451_row0_col3, #T_7a451_row0_col4, #T_7a451_row0_col5, #T_7a451_row0_col6, #T_7a451_row0_col7 {\n",
       "  text-align: left;\n",
       "  background-color: yellow;\n",
       "}\n",
       "#T_7a451_row0_col8 {\n",
       "  text-align: left;\n",
       "  background-color: yellow;\n",
       "  background-color: lightgrey;\n",
       "}\n",
       "</style>\n",
       "<table id=\"T_7a451_\">\n",
       "  <thead>\n",
       "    <tr>\n",
       "      <th class=\"blank level0\" >&nbsp;</th>\n",
       "      <th class=\"col_heading level0 col0\" >Model</th>\n",
       "      <th class=\"col_heading level0 col1\" >Accuracy</th>\n",
       "      <th class=\"col_heading level0 col2\" >AUC</th>\n",
       "      <th class=\"col_heading level0 col3\" >Recall</th>\n",
       "      <th class=\"col_heading level0 col4\" >Prec.</th>\n",
       "      <th class=\"col_heading level0 col5\" >F1</th>\n",
       "      <th class=\"col_heading level0 col6\" >Kappa</th>\n",
       "      <th class=\"col_heading level0 col7\" >MCC</th>\n",
       "      <th class=\"col_heading level0 col8\" >TT (Sec)</th>\n",
       "    </tr>\n",
       "  </thead>\n",
       "  <tbody>\n",
       "    <tr>\n",
       "      <th id=\"T_7a451_level0_row0\" class=\"row_heading level0 row0\" >xgboost</th>\n",
       "      <td id=\"T_7a451_row0_col0\" class=\"data row0 col0\" >Extreme Gradient Boosting</td>\n",
       "      <td id=\"T_7a451_row0_col1\" class=\"data row0 col1\" >0.7153</td>\n",
       "      <td id=\"T_7a451_row0_col2\" class=\"data row0 col2\" >0.8276</td>\n",
       "      <td id=\"T_7a451_row0_col3\" class=\"data row0 col3\" >0.6308</td>\n",
       "      <td id=\"T_7a451_row0_col4\" class=\"data row0 col4\" >0.8908</td>\n",
       "      <td id=\"T_7a451_row0_col5\" class=\"data row0 col5\" >0.7384</td>\n",
       "      <td id=\"T_7a451_row0_col6\" class=\"data row0 col6\" >0.4454</td>\n",
       "      <td id=\"T_7a451_row0_col7\" class=\"data row0 col7\" >0.4780</td>\n",
       "      <td id=\"T_7a451_row0_col8\" class=\"data row0 col8\" >0.6000</td>\n",
       "    </tr>\n",
       "  </tbody>\n",
       "</table>\n"
      ],
      "text/plain": [
       "<pandas.io.formats.style.Styler at 0x7fb6b7817d30>"
      ]
     },
     "metadata": {},
     "output_type": "display_data"
    }
   ],
   "source": [
    "model_matrix = compare_models(\n",
    "    fold= 10,\n",
    "    include= [\"xgboost\"],\n",
    "    probability_threshold= 0.75\n",
    ")\n",
    "\n",
    "final_model = finalize_model(model_matrix)"
   ]
  },
  {
   "cell_type": "markdown",
   "id": "3aab9021-4462-423a-8e3c-fbe1f36c6110",
   "metadata": {},
   "source": [
    "### Let's load in our 2021 season data and get retention scores using the model:"
   ]
  },
  {
   "cell_type": "code",
   "execution_count": 92,
   "id": "c249a813-c882-4869-9490-6ab766a8c223",
   "metadata": {},
   "outputs": [
    {
     "data": {
      "text/plain": [
       "(5600, 11)"
      ]
     },
     "execution_count": 92,
     "metadata": {},
     "output_type": "execute_result"
    }
   ],
   "source": [
    "df_inference = df.loc[df[\"year\"] >= 2021]\n",
    "df_inference = df_inference.fillna(0)\n",
    "df_inference = df_inference[features]\n",
    "\n",
    "df_inference.shape"
   ]
  },
  {
   "cell_type": "code",
   "execution_count": 93,
   "id": "658464e2-ba98-4875-a7f2-c8f0ba581d89",
   "metadata": {},
   "outputs": [],
   "source": [
    "df_predictions = (predict_model(final_model, data=df_inference, raw_score=True))\n",
    "df_predictions = df_predictions[df_predictions[\"Score_1\"] >= 0.025]"
   ]
  },
  {
   "cell_type": "markdown",
   "id": "12e0b1a1-f440-43f9-ab6a-374134eb4684",
   "metadata": {},
   "source": [
    "### We can create some histograms to visualize each model distribution:"
   ]
  },
  {
   "cell_type": "code",
   "execution_count": 94,
   "id": "d815f4f6-4f04-47b0-972b-a708ecf8a772",
   "metadata": {},
   "outputs": [
    {
     "data": {
      "image/png": "[encoded data removed]",
      "text/plain": [
       "<Figure size 576x396 with 1 Axes>"
      ]
     },
     "metadata": {},
     "output_type": "display_data"
    }
   ],
   "source": [
    "plt.title(\"Retention Scores\")\n",
    "plt.ylabel(\"Num Fans\")\n",
    "plt.xlabel(\"SA Buyer Score\")\n",
    "plt.hist(df_predictions[\"Score_1\"], bins=20, edgecolor=\"black\", range=(0,1))\n",
    "                            \n",
    "plt.show()"
   ]
  },
  {
   "cell_type": "markdown",
   "id": "c5d007b0-fe2b-401a-9445-383f1626a0df",
   "metadata": {},
   "source": [
    "### We can also see how many purchases there are in each range of scores:"
   ]
  },
  {
   "cell_type": "code",
   "execution_count": 95,
   "id": "6ee7faec-29ba-47b1-8eb2-3166d81a9b08",
   "metadata": {},
   "outputs": [
    {
     "data": {
      "text/plain": [
       "(0.95, 1.0]       420\n",
       "(0.9, 0.95]       645\n",
       "(0.85, 0.9]       491\n",
       "(0.8, 0.85]       358\n",
       "(0.75, 0.8]       250\n",
       "(0.7, 0.75]       227\n",
       "(0.65, 0.7]       202\n",
       "(0.6, 0.65]       237\n",
       "(0.55, 0.6]       254\n",
       "(0.5, 0.55]       267\n",
       "(0.45, 0.5]       246\n",
       "(0.4, 0.45]       239\n",
       "(0.35, 0.4]       223\n",
       "(0.3, 0.35]       200\n",
       "(0.25, 0.3]       192\n",
       "(0.2, 0.25]       166\n",
       "(0.15, 0.2]       188\n",
       "(0.1, 0.15]       178\n",
       "(0.05, 0.1]       227\n",
       "(-0.001, 0.05]    153\n",
       "Name: Score_1, dtype: int64"
      ]
     },
     "execution_count": 95,
     "metadata": {},
     "output_type": "execute_result"
    }
   ],
   "source": [
    "df_predictions[\"Score_1\"].value_counts(bins=np.arange(0, 1.05, 0.05)).sort_index(ascending=False)"
   ]
  },
  {
   "cell_type": "markdown",
   "id": "6d6c614f-288b-4a88-97dc-7ffc1d1c7ec9",
   "metadata": {},
   "source": [
    "### First we have to tell AWS which profile we'd like to login to, this will send us for a browser authentication trip:"
   ]
  },
  {
   "cell_type": "code",
   "execution_count": 45,
   "id": "79dd57e8-d578-4755-89fb-446362735a05",
   "metadata": {},
   "outputs": [
    {
     "name": "stdout",
     "output_type": "stream",
     "text": [
      "Attempting to automatically open the SSO authorization page in your default browser.\n",
      "If the browser does not open or you wish to use a different device to authorize this request, open the following URL:\n",
      "\n",
      "https://device.sso.us-east-1.amazonaws.com/\n",
      "\n",
      "Then enter the code:\n",
      "\n",
      "BJSC-ZSRN\n",
      "Successully logged into Start URL: https://stellaralgo.awsapps.com/start\n"
     ]
    }
   ],
   "source": [
    "! aws sso login --profile Stellaralgo-DataScienceAdmin"
   ]
  },
  {
   "cell_type": "markdown",
   "id": "86107c38-fad6-46ef-82ca-59aee70e49b3",
   "metadata": {},
   "source": [
    "### Now we can create a session and client to RedShift, and create a new connection using AWS wrangler:"
   ]
  },
  {
   "cell_type": "code",
   "execution_count": 97,
   "id": "cf384e2d-a506-4df0-a61d-275ce0c5fcb9",
   "metadata": {},
   "outputs": [
    {
     "name": "stdout",
     "output_type": "stream",
     "text": [
      "CREDENTIALS RETRIEVED SUCCESSFULLY!\n"
     ]
    }
   ],
   "source": [
    "session = boto3.setup_default_session(profile_name='Stellaralgo-DataScienceAdmin')\n",
    "client = boto3.client('redshift')\n",
    "    \n",
    "conn = wr.data_api.redshift.connect(\n",
    "    cluster_id = \"qa-app\",\n",
    "    database = dbname,\n",
    "    db_user = \"admin\"\n",
    ")\n",
    "\n",
    "print(\"CREDENTIALS RETRIEVED SUCCESSFULLY!\")"
   ]
  },
  {
   "cell_type": "markdown",
   "id": "8b3004ed-7ee4-4436-a405-0d1f1d37b836",
   "metadata": {},
   "source": [
    "### Before we insert new scores, let's grab a list of the most recent scores (currVersnFlag=1) so we can update them after the new scores are pushed:"
   ]
  },
  {
   "cell_type": "code",
   "execution_count": 80,
   "id": "27541f6b-b658-4cb9-b013-85aee1f70da8",
   "metadata": {},
   "outputs": [
    {
     "name": "stdout",
     "output_type": "stream",
     "text": [
      "TOTAL RECORDS: 0\n"
     ]
    }
   ],
   "source": [
    "sql_statement = f\"\"\"\n",
    "    SELECT *\n",
    "    FROM {dbname}.dw.customerretentionscores\n",
    "    WHERE currversnflag = 1\n",
    "\"\"\"\n",
    "\n",
    "df_recent_scores = wr.data_api.redshift.read_sql_query(\n",
    "    sql = sql_statement, \n",
    "    con = conn\n",
    ")\n",
    "\n",
    "print(f\"TOTAL RECORDS: {df_recent_scores.shape[0]}\")"
   ]
  },
  {
   "cell_type": "markdown",
   "id": "73505aed-8784-4cbc-b60d-6a53aba6b00f",
   "metadata": {},
   "source": [
    "### Insert the new scores into the customerRetentionScores table:"
   ]
  },
  {
   "cell_type": "code",
   "execution_count": 99,
   "id": "8db0541b-3ced-4f3d-a2d8-a90f632fd144",
   "metadata": {},
   "outputs": [],
   "source": [
    "# create batches of dataframes based on batch size\n",
    "batch_size = 250\n",
    "df_predictions_list = [\n",
    "    df_predictions[i:i + batch_size]\n",
    "    for i in range(0, df_predictions.shape[0], batch_size)\n",
    "]"
   ]
  },
  {
   "cell_type": "code",
   "execution_count": null,
   "id": "0fb58a5d-1ae8-42f3-a425-b73ca0952115",
   "metadata": {},
   "outputs": [],
   "source": [
    "print(f\"INSERTING {len(df_predictions)} NEW RETENTION SCORES TO DATABASE:\")\n",
    "\n",
    "fields = f\"\"\"\n",
    "INSERT INTO {dbname}.dw.customerretentionscores (\n",
    "    attendancePercentage,\n",
    "    currversnflag,\n",
    "    dimcustomermasterid,\n",
    "    insertdate,\n",
    "    lkupclientid,\n",
    "    mostrecentattendance,\n",
    "    product,\n",
    "    sascore,\n",
    "    seasonYear,\n",
    "    tenuredays\n",
    ") VALUES \"\"\"\n",
    "\n",
    "\n",
    "for i, df_prediction_batch in enumerate(df_predictions_list):\n",
    "\n",
    "    values_list = []\n",
    "    for index, row in (df_prediction_batch.iterrows()):\n",
    "        \n",
    "        values = f\"\"\"\n",
    "            (\n",
    "                {str(row.attendancePercent)},\n",
    "                {str(1)},\n",
    "                {str(row.dimCustomerMasterId)},\n",
    "                '{str(datetime.now().strftime(\"%Y-%m-%d %H:%M:%S\"))}',\n",
    "                {str(lkupclientid)},\n",
    "                '{str(row.recentDate)}',\n",
    "                '{str(row.productGrouping)}',\n",
    "                {str(round((row.Score_1*100),4))},\n",
    "                {str(row.year)},\n",
    "                {str(row.source_tenure)}\n",
    "            )\"\"\"\n",
    "\n",
    "        values_list.append(values)\n",
    "\n",
    "    insert_statement = fields + \",\".join(values_list)+\";\"\n",
    "\n",
    "    wr.data_api.redshift.read_sql_query(\n",
    "        sql = insert_statement, \n",
    "        con = conn\n",
    "    )\n",
    "    \n",
    "    print(f\" > INSERTED BATCH {i+1} : ROWS {i*batch_size + 1} - {i*batch_size + len(values_list)}\")\n",
    "\n",
    "print(\"RETENTION SCORE INSERTS COMPLETED\")"
   ]
  },
  {
   "cell_type": "markdown",
   "id": "ea366591-69d2-43a9-b4ea-49fa7cb95898",
   "metadata": {},
   "source": [
    "### Now let's update the old scores to currVersFlag = 0"
   ]
  },
  {
   "cell_type": "code",
   "execution_count": 68,
   "id": "7804beff-78be-436e-bcfb-f2586d8d66e6",
   "metadata": {},
   "outputs": [
    {
     "name": "stdout",
     "output_type": "stream",
     "text": [
      "UPDATING 4504 OLD RETENTION SCORES IN DATABASE:\n",
      "UPDATED 4504 SUCCESSFULLY\n"
     ]
    }
   ],
   "source": [
    "print(f\"UPDATING {len(df_recent_scores)} OLD RETENTION SCORES IN DATABASE:\")\n",
    "\n",
    "df_recent_scores['currversnflag'] = False\n",
    "ids = ', '.join(map(str, list(df_recent_scores['customerretentionscoreid'])))\n",
    "\n",
    "update_statement = f\"\"\"\n",
    "    UPDATE {dbname}.dw.customerretentionscores\n",
    "    SET currversnflag = 0\n",
    "    WHERE lkupclientid = {lkupclientid}\n",
    "    AND customerretentionscoreid IN ({ids})\n",
    "\"\"\"\n",
    "\n",
    "wr.data_api.redshift.read_sql_query(\n",
    "    sql = update_statement, \n",
    "    con = conn\n",
    ")\n",
    "\n",
    "print(f\"UPDATED {len(df_recent_scores)} SUCCESSFULLY\")"
   ]
  },
  {
   "cell_type": "markdown",
   "id": "2e3383ab-7855-46fb-b563-ecd3367cbcb5",
   "metadata": {},
   "source": [
    "### Let's query RedShift to make sure our records got into the database:"
   ]
  },
  {
   "cell_type": "code",
   "execution_count": null,
   "id": "20ac33c3-3f9e-4a09-91c8-08dfbfdcd09f",
   "metadata": {},
   "outputs": [],
   "source": [
    "select_statement = f\"\"\"\n",
    "    SELECT *\n",
    "    FROM {dbname}.dw.customerretentionscores\n",
    "    WHERE lkupclientid = {lkupclientid}\n",
    "\"\"\"\n",
    "\n",
    "df_scores = wr.data_api.redshift.read_sql_query(\n",
    "    sql = select_statement, \n",
    "    con = conn\n",
    ")\n",
    "\n",
    "df_current_scores = df_scores[df_scores['currversnflag'] == 'true']\n",
    "\n",
    "print(f\"TOTAL RECORDS: {df_current_scores.shape[0]}\")\n",
    "df_scores['currversnflag'].value_counts()"
   ]
  },
  {
   "cell_type": "markdown",
   "id": "781f97cf-be36-4d64-a0e8-2b39cedec439",
   "metadata": {},
   "source": [
    "### We can also use the API to delete records from the database:"
   ]
  },
  {
   "cell_type": "code",
   "execution_count": 98,
   "id": "671fcea7-d713-49b1-b335-7d833860106a",
   "metadata": {},
   "outputs": [
    {
     "name": "stdout",
     "output_type": "stream",
     "text": [
      "DELETED ALL RECORDS SUCCESSFULLY\n"
     ]
    }
   ],
   "source": [
    "delete_statement = f\"\"\"\n",
    "    DELETE \n",
    "    FROM {dbname}.dw.customerretentionscores\n",
    "    WHERE lkupclientid = {lkupclientid}\n",
    "\"\"\"\n",
    "\n",
    "wr.data_api.redshift.read_sql_query(\n",
    "    sql = delete_statement, \n",
    "    con = conn\n",
    ")\n",
    "\n",
    "print(f\"DELETED ALL RECORDS SUCCESSFULLY\")"
   ]
  },
  {
   "cell_type": "code",
   "execution_count": null,
   "id": "f793c9c0-e812-4c81-a4ec-e7c093870442",
   "metadata": {},
   "outputs": [],
   "source": []
  }
 ],
 "metadata": {
  "kernelspec": {
   "display_name": "Python 3 (ipykernel)",
   "language": "python",
   "name": "python3"
  },
  "language_info": {
   "codemirror_mode": {
    "name": "ipython",
    "version": 3
   },
   "file_extension": ".py",
   "mimetype": "text/x-python",
   "name": "python",
   "nbconvert_exporter": "python",
   "pygments_lexer": "ipython3",
   "version": "3.8.5"
  }
 },
 "nbformat": 4,
 "nbformat_minor": 5
}
