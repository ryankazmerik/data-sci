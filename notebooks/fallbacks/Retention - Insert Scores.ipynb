{
 "cells": [
  {
   "cell_type": "markdown",
   "id": "6ee08766-25fd-4da1-91b8-b0c3e74db588",
   "metadata": {},
   "source": [
    "# Retention Insert Scores Fallback\n",
    "* StelllarAlgo Data Science\n",
    "* Ryan Kazmerik & Nakisa Rad\n",
    "* Mar 7, 2022"
   ]
  },
  {
   "cell_type": "code",
   "execution_count": 42,
   "id": "4c533efd-600e-4bce-8203-faffbddfa700",
   "metadata": {},
   "outputs": [
    {
     "name": "stdout",
     "output_type": "stream",
     "text": [
      "Attempting to automatically open the SSO authorization page in your default browser.\n",
      "If the browser does not open or you wish to use a different device to authorize this request, open the following URL:\n",
      "\n",
      "https://device.sso.us-east-1.amazonaws.com/\n",
      "\n",
      "Then enter the code:\n",
      "\n",
      "LVXG-KZXD\n",
      "Successully logged into Start URL: https://stellaralgo.awsapps.com/start\n"
     ]
    }
   ],
   "source": [
    "import boto3\n",
    "import getpass\n",
    "import pandas as pd\n",
    "import pyodbc\n",
    "import matplotlib.pyplot as plt\n",
    "import awswrangler as wr\n",
    "import warnings\n",
    "\n",
    "from datetime import datetime\n",
    "from pytz import timezone\n",
    "from pycaret.classification import *\n",
    "\n",
    "warnings.filterwarnings('ignore')\n",
    "\n",
    "! aws sso login --profile Stellaralgo-DataScienceAdmin"
   ]
  },
  {
   "cell_type": "markdown",
   "id": "b64ae7d5-84af-4915-bd13-1dd9d17098a3",
   "metadata": {},
   "source": [
    "### Let's connect to MSSQL and run a stored proc to get our dataset:"
   ]
  },
  {
   "cell_type": "code",
   "execution_count": 43,
   "id": "ae561eb4-f419-4d46-b5e0-12fac9b10db8",
   "metadata": {},
   "outputs": [],
   "source": [
    "# connect to SQL Server.\n",
    "SERVER = '54.164.224.129' \n",
    "DATABASE = 'datascience' \n",
    "USERNAME = 'dsAdminWrite' \n",
    "PASSWORD = getpass.getpass(prompt='Enter your password')\n",
    "CNXN = pyodbc.connect('DRIVER={ODBC Driver 17 for SQL Server};SERVER='+SERVER+';DATABASE='+DATABASE+';UID='+USERNAME+';PWD='+ PASSWORD)"
   ]
  },
  {
   "cell_type": "code",
   "execution_count": 44,
   "id": "af1afe7d-a35b-494b-88f3-980fb0e3da30",
   "metadata": {},
   "outputs": [
    {
     "name": "stdout",
     "output_type": "stream",
     "text": [
      "TOTAL ROWS: 12391\n"
     ]
    },
    {
     "data": {
      "text/html": [
       "<div>\n",
       "<style scoped>\n",
       "    .dataframe tbody tr th:only-of-type {\n",
       "        vertical-align: middle;\n",
       "    }\n",
       "\n",
       "    .dataframe tbody tr th {\n",
       "        vertical-align: top;\n",
       "    }\n",
       "\n",
       "    .dataframe thead th {\n",
       "        text-align: right;\n",
       "    }\n",
       "</style>\n",
       "<table border=\"1\" class=\"dataframe\">\n",
       "  <thead>\n",
       "    <tr style=\"text-align: right;\">\n",
       "      <th></th>\n",
       "      <th>lkupClientId</th>\n",
       "      <th>dimCustomerMasterId</th>\n",
       "      <th>customerNumber</th>\n",
       "      <th>year</th>\n",
       "      <th>productGrouping</th>\n",
       "      <th>totalSpent</th>\n",
       "      <th>recentDate</th>\n",
       "      <th>attendancePercent</th>\n",
       "      <th>renewedBeforeDays</th>\n",
       "      <th>isBuyer</th>\n",
       "      <th>...</th>\n",
       "      <th>maritalStatus</th>\n",
       "      <th>lengthOfResidenceInYrs</th>\n",
       "      <th>annualHHIncome</th>\n",
       "      <th>education</th>\n",
       "      <th>urbanicity</th>\n",
       "      <th>credits_after_refund</th>\n",
       "      <th>is_Lockdown</th>\n",
       "      <th>NumberofGamesPerSeason</th>\n",
       "      <th>CNTPostponedGames</th>\n",
       "      <th>isNextYear_Buyer</th>\n",
       "    </tr>\n",
       "  </thead>\n",
       "  <tbody>\n",
       "    <tr>\n",
       "      <th>0</th>\n",
       "      <td>45</td>\n",
       "      <td>28367424</td>\n",
       "      <td>123987</td>\n",
       "      <td>2016</td>\n",
       "      <td>Full Season</td>\n",
       "      <td>19220.0</td>\n",
       "      <td>2016-09-25</td>\n",
       "      <td>0.796875</td>\n",
       "      <td>81</td>\n",
       "      <td>TRUE</td>\n",
       "      <td>...</td>\n",
       "      <td>1</td>\n",
       "      <td>None</td>\n",
       "      <td>None</td>\n",
       "      <td>None</td>\n",
       "      <td>None</td>\n",
       "      <td>0.0</td>\n",
       "      <td>0</td>\n",
       "      <td>81</td>\n",
       "      <td>None</td>\n",
       "      <td>1</td>\n",
       "    </tr>\n",
       "    <tr>\n",
       "      <th>1</th>\n",
       "      <td>45</td>\n",
       "      <td>28367705</td>\n",
       "      <td>312728</td>\n",
       "      <td>2016</td>\n",
       "      <td>Full Season</td>\n",
       "      <td>14226.0</td>\n",
       "      <td>2016-09-25</td>\n",
       "      <td>0.825000</td>\n",
       "      <td>81</td>\n",
       "      <td>TRUE</td>\n",
       "      <td>...</td>\n",
       "      <td>1</td>\n",
       "      <td>None</td>\n",
       "      <td>None</td>\n",
       "      <td>None</td>\n",
       "      <td>None</td>\n",
       "      <td>0.0</td>\n",
       "      <td>0</td>\n",
       "      <td>81</td>\n",
       "      <td>None</td>\n",
       "      <td>1</td>\n",
       "    </tr>\n",
       "    <tr>\n",
       "      <th>2</th>\n",
       "      <td>45</td>\n",
       "      <td>28368680</td>\n",
       "      <td>9196196</td>\n",
       "      <td>2016</td>\n",
       "      <td>Full Season</td>\n",
       "      <td>7124.0</td>\n",
       "      <td>2016-09-25</td>\n",
       "      <td>0.631250</td>\n",
       "      <td>81</td>\n",
       "      <td>TRUE</td>\n",
       "      <td>...</td>\n",
       "      <td>1</td>\n",
       "      <td>None</td>\n",
       "      <td>None</td>\n",
       "      <td>None</td>\n",
       "      <td>None</td>\n",
       "      <td>0.0</td>\n",
       "      <td>0</td>\n",
       "      <td>81</td>\n",
       "      <td>None</td>\n",
       "      <td>0</td>\n",
       "    </tr>\n",
       "    <tr>\n",
       "      <th>3</th>\n",
       "      <td>45</td>\n",
       "      <td>28368997</td>\n",
       "      <td>100271479</td>\n",
       "      <td>2016</td>\n",
       "      <td>Full Season</td>\n",
       "      <td>7124.0</td>\n",
       "      <td>2016-09-23</td>\n",
       "      <td>0.562500</td>\n",
       "      <td>81</td>\n",
       "      <td>TRUE</td>\n",
       "      <td>...</td>\n",
       "      <td>1</td>\n",
       "      <td>None</td>\n",
       "      <td>None</td>\n",
       "      <td>None</td>\n",
       "      <td>None</td>\n",
       "      <td>0.0</td>\n",
       "      <td>0</td>\n",
       "      <td>81</td>\n",
       "      <td>None</td>\n",
       "      <td>0</td>\n",
       "    </tr>\n",
       "    <tr>\n",
       "      <th>4</th>\n",
       "      <td>45</td>\n",
       "      <td>28375130</td>\n",
       "      <td>3240689</td>\n",
       "      <td>2016</td>\n",
       "      <td>Full Season</td>\n",
       "      <td>2408.0</td>\n",
       "      <td>2016-09-25</td>\n",
       "      <td>0.525000</td>\n",
       "      <td>81</td>\n",
       "      <td>TRUE</td>\n",
       "      <td>...</td>\n",
       "      <td>1</td>\n",
       "      <td>None</td>\n",
       "      <td>None</td>\n",
       "      <td>None</td>\n",
       "      <td>None</td>\n",
       "      <td>0.0</td>\n",
       "      <td>0</td>\n",
       "      <td>81</td>\n",
       "      <td>None</td>\n",
       "      <td>0</td>\n",
       "    </tr>\n",
       "  </tbody>\n",
       "</table>\n",
       "<p>5 rows × 54 columns</p>\n",
       "</div>"
      ],
      "text/plain": [
       "   lkupClientId  dimCustomerMasterId customerNumber  year productGrouping  \\\n",
       "0            45             28367424         123987  2016     Full Season   \n",
       "1            45             28367705         312728  2016     Full Season   \n",
       "2            45             28368680        9196196  2016     Full Season   \n",
       "3            45             28368997      100271479  2016     Full Season   \n",
       "4            45             28375130        3240689  2016     Full Season   \n",
       "\n",
       "   totalSpent  recentDate  attendancePercent  renewedBeforeDays isBuyer  ...  \\\n",
       "0     19220.0  2016-09-25           0.796875                 81    TRUE  ...   \n",
       "1     14226.0  2016-09-25           0.825000                 81    TRUE  ...   \n",
       "2      7124.0  2016-09-25           0.631250                 81    TRUE  ...   \n",
       "3      7124.0  2016-09-23           0.562500                 81    TRUE  ...   \n",
       "4      2408.0  2016-09-25           0.525000                 81    TRUE  ...   \n",
       "\n",
       "   maritalStatus  lengthOfResidenceInYrs  annualHHIncome  education  \\\n",
       "0              1                    None            None       None   \n",
       "1              1                    None            None       None   \n",
       "2              1                    None            None       None   \n",
       "3              1                    None            None       None   \n",
       "4              1                    None            None       None   \n",
       "\n",
       "   urbanicity  credits_after_refund  is_Lockdown  NumberofGamesPerSeason  \\\n",
       "0        None                   0.0            0                      81   \n",
       "1        None                   0.0            0                      81   \n",
       "2        None                   0.0            0                      81   \n",
       "3        None                   0.0            0                      81   \n",
       "4        None                   0.0            0                      81   \n",
       "\n",
       "   CNTPostponedGames  isNextYear_Buyer  \n",
       "0               None                 1  \n",
       "1               None                 1  \n",
       "2               None                 0  \n",
       "3               None                 0  \n",
       "4               None                 0  \n",
       "\n",
       "[5 rows x 54 columns]"
      ]
     },
     "execution_count": 44,
     "metadata": {},
     "output_type": "execute_result"
    }
   ],
   "source": [
    "lkupclientid = 45\n",
    "dbname = 'stlrrays'\n",
    "\n",
    "cursor = CNXN.cursor()\n",
    "\n",
    "storedProc = (\n",
    "    f\"\"\"Exec {dbname}.[ds].[getRetentionScoringModelData] {lkupclientid}\"\"\"\n",
    ")\n",
    "\n",
    "df = pd.read_sql(storedProc, CNXN)\n",
    "\n",
    "# apply some data transformations\n",
    "df[\"year\"] = pd.to_numeric(df[\"year\"])\n",
    "\n",
    "CNXN.commit()\n",
    "cursor.close()\n",
    "\n",
    "print(f\"TOTAL ROWS: {df.shape[0]}\")\n",
    "df.head()"
   ]
  },
  {
   "cell_type": "markdown",
   "id": "ab40da92-72a7-49c1-9829-ed3805a39719",
   "metadata": {},
   "source": [
    "### We should specify the features used in our model:"
   ]
  },
  {
   "cell_type": "code",
   "execution_count": 45,
   "id": "788f1273-8b7a-46bd-a099-1a471feeacc5",
   "metadata": {},
   "outputs": [
    {
     "name": "stdout",
     "output_type": "stream",
     "text": [
      "Data for Modeling: (8698, 11)\n",
      "Unseen Data For Predictions: (1535, 11)\n",
      "\n"
     ]
    }
   ],
   "source": [
    "# choose the features for the stellar base retention model\n",
    "features = [\n",
    "    \"dimCustomerMasterId\",\n",
    "    \"attendancePercent\",\n",
    "    \"distToVenue\",\n",
    "    \"isNextYear_Buyer\",\n",
    "    \"lkupClientId\",\n",
    "    \"productGrouping\",\n",
    "    \"recency\",\n",
    "    \"recentDate\",\n",
    "    \"source_tenure\",\n",
    "    \"totalSpent\",\n",
    "    \"year\"\n",
    "]\n",
    "\n",
    "# copy your main dataframe\n",
    "df_dataset = df\n",
    "\n",
    "# choose the features & train year & test year\n",
    "df_dataset = df_dataset[features]\n",
    "df_dataset[\"year\"] = pd.to_numeric(df_dataset[\"year\"])\n",
    "df_dataset = df_dataset.loc[df_dataset[\"year\"] <= 2021]\n",
    "\n",
    "df_train = df_dataset.sample(frac=0.85, random_state=786)\n",
    "df_eval = df_dataset.drop(df_train.index)\n",
    "\n",
    "df_train.reset_index(drop=True, inplace=True)\n",
    "df_eval.reset_index(drop=True, inplace=True)\n",
    "\n",
    "# print out the number of records for training and eval\n",
    "print('Data for Modeling: ' + str(df_train.shape))\n",
    "print('Unseen Data For Predictions: ' + str(df_eval.shape), end=\"\\n\\n\")"
   ]
  },
  {
   "cell_type": "markdown",
   "id": "4f2da06d-9015-49fd-89b3-956c2ebf66e9",
   "metadata": {},
   "source": [
    "### Now we can model the data using a binary classification prediction for the isnextyear_buyer field to see how likely a customer is to re-purchase."
   ]
  },
  {
   "cell_type": "code",
   "execution_count": 46,
   "id": "23a69cdc-b3ec-48c8-9ce5-29f617779389",
   "metadata": {},
   "outputs": [],
   "source": [
    "setup(\n",
    "    data= df_train, \n",
    "    target=\"isNextYear_Buyer\", \n",
    "    train_size = 0.85,\n",
    "    data_split_shuffle=True,\n",
    "    ignore_features=[\n",
    "        \"dimCustomerMasterId\",\n",
    "        \"lkupClientId\",\n",
    "        \"productGrouping\",\n",
    "        \"recentDate\",\n",
    "        \"year\"\n",
    "    ],\n",
    "    silent=True,\n",
    "    verbose=False,\n",
    "    numeric_features=[\n",
    "        \"attendancePercent\",\n",
    "        \"distToVenue\",\n",
    "        \"recency\",\n",
    "        \"source_tenure\",\n",
    "        \"totalSpent\"\n",
    "    ]\n",
    ");"
   ]
  },
  {
   "cell_type": "markdown",
   "id": "6e1e33e8-ed5f-4e84-abb2-a2fc8370905c",
   "metadata": {},
   "source": [
    "### The evaluation output prints a score grid that shows average Accuracy, AUC, Recall, Precision, F1 and Kappa accross the folds (10 by default) along with training time:"
   ]
  },
  {
   "cell_type": "code",
   "execution_count": null,
   "id": "ef2db9d2-02c2-45c0-b6bb-5cad42c373ce",
   "metadata": {},
   "outputs": [],
   "source": [
    "model_matrix = compare_models(\n",
    "    fold= 10,\n",
    "    include= [\"xgboost\"],\n",
    "    probability_threshold= 0.75\n",
    ")\n",
    "\n",
    "final_model = finalize_model(model_matrix)"
   ]
  },
  {
   "cell_type": "markdown",
   "id": "3aab9021-4462-423a-8e3c-fbe1f36c6110",
   "metadata": {},
   "source": [
    "### Let's load in our 2021 season data and get retention scores using the model:"
   ]
  },
  {
   "cell_type": "code",
   "execution_count": 48,
   "id": "c249a813-c882-4869-9490-6ab766a8c223",
   "metadata": {},
   "outputs": [
    {
     "data": {
      "text/plain": [
       "(2158, 11)"
      ]
     },
     "execution_count": 48,
     "metadata": {},
     "output_type": "execute_result"
    }
   ],
   "source": [
    "df_inference = df.loc[df[\"year\"] >= 2022]\n",
    "df_inference = df_inference.fillna(0)\n",
    "df_inference = df_inference[features]\n",
    "\n",
    "df_inference.shape"
   ]
  },
  {
   "cell_type": "code",
   "execution_count": 49,
   "id": "658464e2-ba98-4875-a7f2-c8f0ba581d89",
   "metadata": {},
   "outputs": [],
   "source": [
    "df_predictions = (predict_model(final_model, data=df_inference, raw_score=True))\n",
    "df_predictions = df_predictions[df_predictions[\"Score_1\"] >= 0.025]"
   ]
  },
  {
   "cell_type": "markdown",
   "id": "12e0b1a1-f440-43f9-ab6a-374134eb4684",
   "metadata": {},
   "source": [
    "### We can create some histograms to visualize each model distribution:"
   ]
  },
  {
   "cell_type": "code",
   "execution_count": 50,
   "id": "d815f4f6-4f04-47b0-972b-a708ecf8a772",
   "metadata": {},
   "outputs": [
    {
     "data": {
      "image/png": "[encoded data removed]",
      "text/plain": [
       "<Figure size 576x396 with 1 Axes>"
      ]
     },
     "metadata": {},
     "output_type": "display_data"
    }
   ],
   "source": [
    "plt.title(\"Retention Scores\")\n",
    "plt.ylabel(\"Num Fans\")\n",
    "plt.xlabel(\"SA Buyer Score\")\n",
    "plt.hist(df_predictions[\"Score_1\"], bins=20, edgecolor=\"black\", range=(0,1))\n",
    "                            \n",
    "plt.show()"
   ]
  },
  {
   "cell_type": "markdown",
   "id": "c5d007b0-fe2b-401a-9445-383f1626a0df",
   "metadata": {},
   "source": [
    "### We can also see how many purchases there are in each range of scores:"
   ]
  },
  {
   "cell_type": "code",
   "execution_count": 51,
   "id": "6ee7faec-29ba-47b1-8eb2-3166d81a9b08",
   "metadata": {},
   "outputs": [
    {
     "data": {
      "text/plain": [
       "(0.95, 1.0]         3\n",
       "(0.9, 0.95]         8\n",
       "(0.85, 0.9]        26\n",
       "(0.8, 0.85]        35\n",
       "(0.75, 0.8]        55\n",
       "(0.7, 0.75]        35\n",
       "(0.65, 0.7]        63\n",
       "(0.6, 0.65]        78\n",
       "(0.55, 0.6]        86\n",
       "(0.5, 0.55]       102\n",
       "(0.45, 0.5]       111\n",
       "(0.4, 0.45]       184\n",
       "(0.35, 0.4]       281\n",
       "(0.3, 0.35]       275\n",
       "(0.25, 0.3]       213\n",
       "(0.2, 0.25]       162\n",
       "(0.15, 0.2]       148\n",
       "(0.1, 0.15]       131\n",
       "(0.05, 0.1]       105\n",
       "(-0.001, 0.05]     43\n",
       "Name: Score_1, dtype: int64"
      ]
     },
     "execution_count": 51,
     "metadata": {},
     "output_type": "execute_result"
    }
   ],
   "source": [
    "df_predictions[\"Score_1\"].value_counts(bins=np.arange(0, 1.05, 0.05)).sort_index(ascending=False)"
   ]
  },
  {
   "cell_type": "markdown",
   "id": "86107c38-fad6-46ef-82ca-59aee70e49b3",
   "metadata": {},
   "source": [
    "### Now we can create a session and client to RedShift, and create a new connection using AWS wrangler:"
   ]
  },
  {
   "cell_type": "code",
   "execution_count": 52,
   "id": "cf384e2d-a506-4df0-a61d-275ce0c5fcb9",
   "metadata": {},
   "outputs": [
    {
     "name": "stdout",
     "output_type": "stream",
     "text": [
      "CREDENTIALS RETRIEVED SUCCESSFULLY!\n"
     ]
    }
   ],
   "source": [
    "session = boto3.setup_default_session(profile_name='Stellaralgo-DataScienceAdmin')\n",
    "client = boto3.client('redshift')\n",
    "    \n",
    "conn = wr.data_api.redshift.connect(\n",
    "    cluster_id = \"qa-app\",\n",
    "    database = dbname,\n",
    "    db_user = \"admin\"\n",
    ")\n",
    "\n",
    "print(\"CREDENTIALS RETRIEVED SUCCESSFULLY!\")"
   ]
  },
  {
   "cell_type": "markdown",
   "id": "8b3004ed-7ee4-4436-a405-0d1f1d37b836",
   "metadata": {},
   "source": [
    "### Before we insert new scores, let's grab a list of the most recent scores (currVersnFlag=1) so we can update them after the new scores are pushed:"
   ]
  },
  {
   "cell_type": "code",
   "execution_count": 53,
   "id": "27541f6b-b658-4cb9-b013-85aee1f70da8",
   "metadata": {},
   "outputs": [
    {
     "name": "stdout",
     "output_type": "stream",
     "text": [
      "TOTAL RECORDS: 2914\n"
     ]
    }
   ],
   "source": [
    "sql_statement = f\"\"\"\n",
    "    SELECT *\n",
    "    FROM {dbname}.dw.customerretentionscores \n",
    "    WHERE currversnflag = 1\n",
    "    AND lkupclientid = {lkupclientid}\n",
    "\"\"\"\n",
    "\n",
    "df_recent_scores = wr.data_api.redshift.read_sql_query(\n",
    "    sql = sql_statement, \n",
    "    con = conn\n",
    ")\n",
    "\n",
    "print(f\"TOTAL RECORDS: {df_recent_scores.shape[0]}\")"
   ]
  },
  {
   "cell_type": "markdown",
   "id": "73505aed-8784-4cbc-b60d-6a53aba6b00f",
   "metadata": {},
   "source": [
    "### Insert the new scores into the customerretentionscores table in batches:"
   ]
  },
  {
   "cell_type": "code",
   "execution_count": 54,
   "id": "0fb58a5d-1ae8-42f3-a425-b73ca0952115",
   "metadata": {},
   "outputs": [
    {
     "name": "stdout",
     "output_type": "stream",
     "text": [
      "INSERTING 2144 NEW RETENTION SCORES TO DATABASE: stlrrays (45)\n",
      " > INSERTED BATCH 1 : ROWS 1 - 100\n",
      " > INSERTED BATCH 2 : ROWS 101 - 200\n",
      " > INSERTED BATCH 3 : ROWS 201 - 300\n",
      " > INSERTED BATCH 4 : ROWS 301 - 400\n",
      " > INSERTED BATCH 5 : ROWS 401 - 500\n",
      " > INSERTED BATCH 6 : ROWS 501 - 600\n",
      " > INSERTED BATCH 7 : ROWS 601 - 700\n",
      " > INSERTED BATCH 8 : ROWS 701 - 800\n",
      " > INSERTED BATCH 9 : ROWS 801 - 900\n",
      " > INSERTED BATCH 10 : ROWS 901 - 1000\n",
      " > INSERTED BATCH 11 : ROWS 1001 - 1100\n",
      " > INSERTED BATCH 12 : ROWS 1101 - 1200\n",
      " > INSERTED BATCH 13 : ROWS 1201 - 1300\n",
      " > INSERTED BATCH 14 : ROWS 1301 - 1400\n",
      " > INSERTED BATCH 15 : ROWS 1401 - 1500\n",
      " > INSERTED BATCH 16 : ROWS 1501 - 1600\n",
      " > INSERTED BATCH 17 : ROWS 1601 - 1700\n",
      " > INSERTED BATCH 18 : ROWS 1701 - 1800\n",
      " > INSERTED BATCH 19 : ROWS 1801 - 1900\n",
      " > INSERTED BATCH 20 : ROWS 1901 - 2000\n",
      " > INSERTED BATCH 21 : ROWS 2001 - 2100\n",
      " > INSERTED BATCH 22 : ROWS 2101 - 2144\n",
      "RETENTION SCORE INSERTS COMPLETED\n"
     ]
    }
   ],
   "source": [
    "batch_size = 100\n",
    "df_predictions_list = [\n",
    "    df_predictions[i:i + batch_size]\n",
    "    for i in range(0, df_predictions.shape[0], batch_size)\n",
    "]\n",
    "\n",
    "print(f\"INSERTING {len(df_predictions)} NEW RETENTION SCORES TO DATABASE: {dbname} ({lkupclientid})\")\n",
    "\n",
    "fields = f\"\"\"\n",
    "INSERT INTO {dbname}.dw.customerretentionscores (\n",
    "    attendancePercentage,\n",
    "    currversnflag,\n",
    "    dimcustomermasterid,\n",
    "    insertdate,\n",
    "    lkupclientid,\n",
    "    mostrecentattendance,\n",
    "    product,\n",
    "    sascore,\n",
    "    seasonYear,\n",
    "    tenuredays\n",
    ") VALUES \"\"\"\n",
    "\n",
    "\n",
    "for i, df_prediction_batch in enumerate(df_predictions_list):\n",
    "\n",
    "    values_list = []\n",
    "    for index, row in (df_prediction_batch.iterrows()):\n",
    "        \n",
    "        values = f\"\"\"\n",
    "            (\n",
    "                {str(row.attendancePercent)},\n",
    "                {str(1)},\n",
    "                {str(row.dimCustomerMasterId)},\n",
    "                '{str(datetime.now().strftime(\"%Y-%m-%d %H:%M:%S\"))}',\n",
    "                {str(lkupclientid)},\n",
    "                '{str(row.recentDate)}',\n",
    "                '{str(row.productGrouping)}',\n",
    "                {str(round((row.Score_1*100),4))},\n",
    "                {str(row.year)},\n",
    "                {str(row.source_tenure)}\n",
    "            )\"\"\"\n",
    "\n",
    "        values_list.append(values)\n",
    "\n",
    "    insert_statement = fields + \",\".join(values_list)+\";\"\n",
    "\n",
    "    wr.data_api.redshift.read_sql_query(\n",
    "        sql = insert_statement, \n",
    "        con = conn\n",
    "    )\n",
    "        \n",
    "    print(f\" > INSERTED BATCH {i+1} : ROWS {i*batch_size + 1} - {i*batch_size + len(values_list)}\")\n",
    "\n",
    "print(\"RETENTION SCORE INSERTS COMPLETED\")"
   ]
  },
  {
   "cell_type": "markdown",
   "id": "ea366591-69d2-43a9-b4ea-49fa7cb95898",
   "metadata": {},
   "source": [
    "### Now let's update the old scores to currVersFlag = 0"
   ]
  },
  {
   "cell_type": "code",
   "execution_count": 55,
   "id": "7804beff-78be-436e-bcfb-f2586d8d66e6",
   "metadata": {},
   "outputs": [
    {
     "name": "stdout",
     "output_type": "stream",
     "text": [
      "UPDATING 2914 OLD RETENTION SCORES IN DATABASE:\n",
      "UPDATED 2914 SUCCESSFULLY\n"
     ]
    }
   ],
   "source": [
    "print(f\"UPDATING {len(df_recent_scores)} OLD RETENTION SCORES IN DATABASE:\")\n",
    "\n",
    "ids = ', '.join(map(str, list(df_recent_scores['customerretentionscoreid'])))\n",
    "if len(ids) > 0:\n",
    "    \n",
    "    update_statement = f\"\"\"\n",
    "        UPDATE {dbname}.dw.customerretentionscores\n",
    "        SET currversnflag = 0 \n",
    "        WHERE customerretentionscoreid IN ({ids})\n",
    "        AND lkupclientid = {lkupclientid}\n",
    "    \"\"\"\n",
    "\n",
    "    wr.data_api.redshift.read_sql_query(\n",
    "        sql = update_statement, \n",
    "        con = conn\n",
    "    )\n",
    "\n",
    "    print(f\"UPDATED {len(df_recent_scores)} SUCCESSFULLY\")\n",
    "    \n",
    "else:\n",
    "    print(f\"NO OLD SCORES TO UPDATE\")"
   ]
  },
  {
   "cell_type": "markdown",
   "id": "2e3383ab-7855-46fb-b563-ecd3367cbcb5",
   "metadata": {},
   "source": [
    "### Let's query RedShift to make sure our records got into the database:"
   ]
  },
  {
   "cell_type": "code",
   "execution_count": 56,
   "id": "20ac33c3-3f9e-4a09-91c8-08dfbfdcd09f",
   "metadata": {},
   "outputs": [
    {
     "name": "stdout",
     "output_type": "stream",
     "text": [
      "TOTAL RECORDS: 2144\n"
     ]
    },
    {
     "data": {
      "text/plain": [
       "false    276915\n",
       "true       2144\n",
       "Name: currversnflag, dtype: int64"
      ]
     },
     "execution_count": 56,
     "metadata": {},
     "output_type": "execute_result"
    }
   ],
   "source": [
    "select_statement = f\"\"\"\n",
    "    SELECT *\n",
    "    FROM {dbname}.dw.customerretentionscores\n",
    "    WHERE lkupclientid = {lkupclientid}\n",
    "\"\"\"\n",
    "\n",
    "df_scores = wr.data_api.redshift.read_sql_query(\n",
    "    sql = select_statement, \n",
    "    con = conn\n",
    ")\n",
    "\n",
    "df_current_scores = df_scores[df_scores['currversnflag'] == 'true']\n",
    "\n",
    "print(f\"TOTAL RECORDS: {df_current_scores.shape[0]}\")\n",
    "df_scores['currversnflag'].value_counts()"
   ]
  },
  {
   "cell_type": "code",
   "execution_count": null,
   "id": "f793c9c0-e812-4c81-a4ec-e7c093870442",
   "metadata": {},
   "outputs": [],
   "source": []
  }
 ],
 "metadata": {
  "kernelspec": {
   "display_name": "Python 3 (ipykernel)",
   "language": "python",
   "name": "python3"
  },
  "language_info": {
   "codemirror_mode": {
    "name": "ipython",
    "version": 3
   },
   "file_extension": ".py",
   "mimetype": "text/x-python",
   "name": "python",
   "nbconvert_exporter": "python",
   "pygments_lexer": "ipython3",
   "version": "3.8.5"
  }
 },
 "nbformat": 4,
 "nbformat_minor": 5
}
