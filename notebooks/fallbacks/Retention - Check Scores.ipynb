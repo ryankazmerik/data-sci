{
 "cells": [
  {
   "cell_type": "markdown",
   "id": "2327d72f-cc16-4361-8fbb-54e419b09ce9",
   "metadata": {},
   "source": [
    "# Retention Score Test - Redshift\n",
    "* StelllarAlgo Data Science\n",
    "* Ryan Kazmerik & Nakisa Rad\n",
    "* Mar 23, 2022"
   ]
  },
  {
   "cell_type": "code",
   "execution_count": 92,
   "id": "3024df94-ebf7-4747-899a-8d4ea3d33932",
   "metadata": {},
   "outputs": [
    {
     "name": "stdout",
     "output_type": "stream",
     "text": [
      "Attempting to automatically open the SSO authorization page in your default browser.\n",
      "If the browser does not open or you wish to use a different device to authorize this request, open the following URL:\n",
      "\n",
      "https://device.sso.us-east-1.amazonaws.com/\n",
      "\n",
      "Then enter the code:\n",
      "\n",
      "VXQV-DSPJ\n",
      "Successully logged into Start URL: https://stellaralgo.awsapps.com/start\n"
     ]
    }
   ],
   "source": [
    "import awswrangler as wr\n",
    "import boto3\n",
    "import pandas as pd\n",
    "from datetime import datetime\n",
    "from termcolor import colored\n",
    "\n",
    "! aws sso login --profile Stellaralgo-DataScienceAdmin"
   ]
  },
  {
   "cell_type": "code",
   "execution_count": 110,
   "id": "ac742be7",
   "metadata": {},
   "outputs": [
    {
     "name": "stdout",
     "output_type": "stream",
     "text": [
      "CREDENTIALS RETRIEVED SUCCESSFULLY: qa-app : admin\n"
     ]
    }
   ],
   "source": [
    "CLUSTER = \"qa-app\"\n",
    "USER = \"admin\"\n",
    "\n",
    "try:\n",
    "    session = boto3.setup_default_session(profile_name='Stellaralgo-DataScienceAdmin')\n",
    "    client = boto3.client('redshift')\n",
    "\n",
    "    conn = wr.data_api.redshift.connect(\n",
    "        cluster_id = CLUSTER,\n",
    "        database = \"datascience\",\n",
    "        db_user = USER\n",
    "    )\n",
    "    \n",
    "    print(f\"CREDENTIALS RETRIEVED SUCCESSFULLY: {CLUSTER} : {USER}\")\n",
    "    \n",
    "except Exception as err:\n",
    "    print(f\"FAILED TO RETRIEVE CREDENTIALS! {err} \")"
   ]
  },
  {
   "cell_type": "markdown",
   "id": "7ba138d3-8b71-448e-9915-5aa7d1ddbeb7",
   "metadata": {},
   "source": [
    "### Create a dictionary of all teams that have retention scoring:"
   ]
  },
  {
   "cell_type": "code",
   "execution_count": 111,
   "id": "0aa3c277",
   "metadata": {},
   "outputs": [
    {
     "name": "stdout",
     "output_type": "stream",
     "text": [
      "Total teams: 37 \n",
      "Example team {'clientcode': 'hops', 'lkupclientid': 9, 'dbname': 'stlrmilb', 'leaguename': 'MILB'} \n"
     ]
    }
   ],
   "source": [
    "sqlcode =  f\"\"\"\n",
    "    SELECT DISTINCT\n",
    "        clientcode,\n",
    "        lkupclientid,\n",
    "        dbname,\n",
    "        leagueName\n",
    "    FROM \n",
    "        datascience.ds.teamsconfig\n",
    "    \"\"\"\n",
    "    \n",
    "df = wr.data_api.redshift.read_sql_query(\n",
    "            sql = sqlcode, \n",
    "            con = conn\n",
    "        )\n",
    "\n",
    "columns = df.columns.values\n",
    "\n",
    "teams = []\n",
    "for index, row in df.iterrows():\n",
    "    teams.append(dict(zip(columns, row)))\n",
    "\n",
    "\n",
    "print(f\"Total teams: {len(teams)} \")\n",
    "print(f\"Example team {teams[0]} \")"
   ]
  },
  {
   "cell_type": "markdown",
   "id": "a9b1ae68",
   "metadata": {},
   "source": [
    "### Query the customerretentionscores table to see when the last time the retention scores were updated and add that property to each team, along with the count of records:"
   ]
  },
  {
   "cell_type": "code",
   "execution_count": 112,
   "id": "8e3d23b6-d5a0-4a41-bdb6-1a284a0d1e04",
   "metadata": {},
   "outputs": [
    {
     "name": "stdout",
     "output_type": "stream",
     "text": [
      "Example team {'clientcode': 'hops', 'lkupclientid': 9, 'dbname': 'stlrmilb', 'leaguename': 'MILB', 'insertdate': True, 'count': 1773} \n"
     ]
    }
   ],
   "source": [
    "for team in teams:\n",
    "    \n",
    "    conn = wr.data_api.redshift.connect(\n",
    "        cluster_id = CLUSTER,\n",
    "        database= team['dbname'],\n",
    "        db_user = USER\n",
    "    )\n",
    "\n",
    "    sql = f\"\"\"\n",
    "            SELECT TOP 1 insertdate, count(*)\n",
    "            FROM {team['dbname']}.dw.customerretentionscores  \n",
    "            WHERE lkupclientid = {team['lkupclientid']}\n",
    "            GROUP BY insertdate \n",
    "            ORDER BY insertdate DESC\n",
    "        \"\"\"\n",
    "\n",
    "    df_customerretention = wr.data_api.redshift.read_sql_query(\n",
    "        sql = sql, \n",
    "        con = conn\n",
    "    )\n",
    "    \n",
    "    try:\n",
    "        team['insertdate'] = df_customerretention.iloc[0]['insertdate']\n",
    "        team['count'] = df_customerretention.iloc[0]['count']\n",
    "\n",
    "    except Exception as err:\n",
    "        team['insertdate'] = None\n",
    "\n",
    "            \n",
    "print(f\"Example team {teams[0]} \")"
   ]
  },
  {
   "cell_type": "markdown",
   "id": "8bf009e0-2771-4a47-a291-883e5c25a9cc",
   "metadata": {},
   "source": [
    "### Write a test to see if insertdate is greater than todays date:"
   ]
  },
  {
   "cell_type": "code",
   "execution_count": 117,
   "id": "1dc75d16-dc1a-4595-b923-16f234efd3c5",
   "metadata": {},
   "outputs": [
    {
     "name": "stdout",
     "output_type": "stream",
     "text": [
      "RETENTION SCORES REPORT FOR: qa-app\n",
      "True\n",
      "True\n",
      "None\n",
      "True\n",
      "True\n",
      "True\n",
      "True\n",
      "True\n",
      "None\n",
      "True\n",
      "True\n",
      "True\n",
      "True\n",
      "True\n",
      "None\n",
      "True\n",
      "True\n",
      "True\n",
      "True\n",
      "True\n",
      "2022-04-11 08:28:57\n",
      "2022-04-11 08:15:21\n",
      "2022-04-11 08:27:48\n",
      "2022-04-11 08:37:16\n",
      "2022-04-11 08:34:56\n",
      "2022-04-11 08:43:53\n",
      "2022-04-11 08:42:09\n",
      "2022-03-23 22:09:04\n",
      "2022-04-11 08:35:39\n",
      "2022-04-11 08:20:50\n",
      "2022-04-11 08:18:24\n",
      "2022-04-11 08:36:14\n",
      "2022-04-11 08:24:24\n",
      "2022-04-11 08:24:24\n",
      "None\n",
      "2022-04-11 09:14:56\n",
      "None\n"
     ]
    },
    {
     "data": {
      "text/plain": [
       "'         insert_date = datetime.strptime(team[\\'insertdate\\'], \\'%Y-%m-%d %H:%M:%S\\')\\n        days_old = (int((insert_date - today).days)+1)*-1\\n\\n        if days_old == 0: fresh_teams.append(team)\\n        else: stale_teams.append(team)\\n    \\nprint(colored(f\"NO RETENTION SCORES EXIST:\", \\'red\\'))\\ndf_null_teams = pd.DataFrame.from_dict(null_teams)\\nprint(colored(df_null_teams, \\'red\\'))\\n\\nprint(colored(f\"RETENTION SCORES STALE:\", \\'yellow\\'))\\ndf_stale_teams = pd.DataFrame.from_dict(stale_teams)\\nprint(colored(df_stale_teams, \\'yellow\\'))\\n\\nprint(colored(f\"RETENTION SCORES FRESH:\", \\'green\\'))\\ndf_fresh_teams = pd.DataFrame.from_dict(fresh_teams)\\nprint(colored(df_fresh_teams, \\'green\\'))\\n '"
      ]
     },
     "execution_count": 117,
     "metadata": {},
     "output_type": "execute_result"
    }
   ],
   "source": [
    "today = datetime.strptime(datetime.now().strftime(\"%Y-%m-%d %H:%M:%S\"), '%Y-%m-%d %H:%M:%S')\n",
    "\n",
    "print(f\"RETENTION SCORES REPORT FOR: {CLUSTER}\")\n",
    "\n",
    "fresh_teams = []\n",
    "stale_teams = []\n",
    "null_teams = []\n",
    "\n",
    "for team in teams:\n",
    "\n",
    "    print(team['insertdate'])\n",
    "    \n",
    "\"\"\"         insert_date = datetime.strptime(team['insertdate'], '%Y-%m-%d %H:%M:%S')\n",
    "        days_old = (int((insert_date - today).days)+1)*-1\n",
    "\n",
    "        if days_old == 0: fresh_teams.append(team)\n",
    "        else: stale_teams.append(team)\n",
    "    \n",
    "print(colored(f\"NO RETENTION SCORES EXIST:\", 'red'))\n",
    "df_null_teams = pd.DataFrame.from_dict(null_teams)\n",
    "print(colored(df_null_teams, 'red'))\n",
    "\n",
    "print(colored(f\"RETENTION SCORES STALE:\", 'yellow'))\n",
    "df_stale_teams = pd.DataFrame.from_dict(stale_teams)\n",
    "print(colored(df_stale_teams, 'yellow'))\n",
    "\n",
    "print(colored(f\"RETENTION SCORES FRESH:\", 'green'))\n",
    "df_fresh_teams = pd.DataFrame.from_dict(fresh_teams)\n",
    "print(colored(df_fresh_teams, 'green'))\n",
    " \"\"\"\n"
   ]
  },
  {
   "cell_type": "code",
   "execution_count": null,
   "id": "dd526759",
   "metadata": {},
   "outputs": [],
   "source": []
  }
 ],
 "metadata": {
  "kernelspec": {
   "display_name": "Python 3 (ipykernel)",
   "language": "python",
   "name": "python3"
  },
  "language_info": {
   "codemirror_mode": {
    "name": "ipython",
    "version": 3
   },
   "file_extension": ".py",
   "mimetype": "text/x-python",
   "name": "python",
   "nbconvert_exporter": "python",
   "pygments_lexer": "ipython3",
   "version": "3.8.5"
  }
 },
 "nbformat": 4,
 "nbformat_minor": 5
}
