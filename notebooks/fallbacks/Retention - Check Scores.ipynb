{
 "cells": [
  {
   "cell_type": "markdown",
   "id": "7ac13926-5552-47b1-b6b7-0ff49c07a8f8",
   "metadata": {},
   "source": [
    "# Data Sci - Retention Testing Fallback\n",
    "* Ryan Kazmerik, Nakisa Rad\n",
    "* Mar 7, 2022"
   ]
  },
  {
   "cell_type": "code",
   "execution_count": null,
   "id": "7ab58fd6-a6c2-4c54-a47a-a72f62a4574c",
   "metadata": {},
   "outputs": [],
   "source": [
    "# define a function called get_db_connection\n",
    "# tip: pass in a variable so we can use this function for QA or PRD\n",
    "\n",
    "# if variable is equal to QA:\n",
    "    # try:\n",
    "\n",
    "        # write your code to connect to the database here\n",
    "\n",
    "        # if the connection works, print a success message\n",
    "\n",
    "    # except Exception as err\n",
    "\n",
    "        # print an error message along with the err\n",
    "        \n",
    "# if variable is equal to PRD:\n",
    "\n",
    "    # try:\n",
    "\n",
    "        # write your code to connect to the database here\n",
    "\n",
    "        # if the connection works, print a success message\n",
    "\n",
    "    # except Exception as err\n",
    "\n",
    "        # print an error message along with the err\n",
    "        \n",
    "# return the connection"
   ]
  },
  {
   "cell_type": "code",
   "execution_count": 3,
   "id": "8590b223-15e3-44b9-bcbd-10b21e5e8eee",
   "metadata": {},
   "outputs": [],
   "source": [
    "# define a function called get_ds_scores\n",
    "# tip: pass in your connection as a variable\n",
    "\n",
    "# try:\n",
    "\n",
    "    # write your code here to check if there are new scores that match todays date\n",
    "    # in the Data Science database\n",
    "    \n",
    "    # also get how many records were written today\n",
    "    \n",
    "    # if the connection works, print a success message \n",
    "    \n",
    "# except Exception as err\n",
    "\n",
    "    # print an error message along with the err"
   ]
  },
  {
   "cell_type": "code",
   "execution_count": 4,
   "id": "d4a70447-cd78-4793-a352-49fcaf7c8951",
   "metadata": {},
   "outputs": [],
   "source": [
    "# define a function called get_stlr_scores\n",
    "# tip: pass in your connection as a variable\n",
    "\n",
    "# try:\n",
    "\n",
    "    # write your code here to check if there are new scores that match todays date\n",
    "    # in the Stlr team databases\n",
    "    \n",
    "    # also get how many records were written today\n",
    "    \n",
    "    # if the connection works, print a success message \n",
    "    \n",
    "# except Exception as err\n",
    "\n",
    "    # print an error message along with the err"
   ]
  },
  {
   "cell_type": "markdown",
   "id": "69471682-613e-4c6a-a11c-b0be240cc64d",
   "metadata": {},
   "source": [
    "### Main Function"
   ]
  },
  {
   "cell_type": "code",
   "execution_count": null,
   "id": "b6e356f8-cbeb-4e04-88ef-7e78f4175476",
   "metadata": {},
   "outputs": [],
   "source": [
    "# create a list of lkupclientids\n",
    "\n",
    "# write a for loop to loop through each id\n",
    "\n",
    "# call the above three functions for each id, passing in the db connection"
   ]
  }
 ],
 "metadata": {
  "kernelspec": {
   "display_name": "Python 3 (ipykernel)",
   "language": "python",
   "name": "python3"
  },
  "language_info": {
   "codemirror_mode": {
    "name": "ipython",
    "version": 3
   },
   "file_extension": ".py",
   "mimetype": "text/x-python",
   "name": "python",
   "nbconvert_exporter": "python",
   "pygments_lexer": "ipython3",
   "version": "3.8.5"
  }
 },
 "nbformat": 4,
 "nbformat_minor": 5
}
