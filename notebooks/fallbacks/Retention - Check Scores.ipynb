{
 "cells": [
  {
   "cell_type": "markdown",
   "id": "2327d72f-cc16-4361-8fbb-54e419b09ce9",
   "metadata": {},
   "source": [
    "# Retention Check Scores Fallback\n",
    "* StelllarAlgo Data Science\n",
    "* Ryan Kazmerik & Nakisa Rad\n",
    "* Mar 15, 2022"
   ]
  },
  {
   "cell_type": "code",
   "execution_count": 1,
   "id": "3024df94-ebf7-4747-899a-8d4ea3d33932",
   "metadata": {},
   "outputs": [],
   "source": [
    "import boto3\n",
    "import getpass\n",
    "\n",
    "from datetime import datetime\n",
    "from termcolor import colored, cprint\n",
    "import pandas as pd\n",
    "import awswrangler as wr\n",
    "import pyodbc"
   ]
  },
  {
   "cell_type": "markdown",
   "id": "3d36b3cd-3c3d-410d-af7a-dadcd3a4b99d",
   "metadata": {},
   "source": [
    "### First we have to tell AWS which profile we'd like to login to, this will send us for a browser authentication trip:"
   ]
  },
  {
   "cell_type": "code",
   "execution_count": 2,
   "id": "5839fde5-ced2-4733-ab1d-ea7d139a0d28",
   "metadata": {},
   "outputs": [
    {
     "name": "stdout",
     "output_type": "stream",
     "text": [
      "Attempting to automatically open the SSO authorization page in your default browser.\n",
      "If the browser does not open or you wish to use a different device to authorize this request, open the following URL:\n",
      "\n",
      "https://device.sso.us-east-1.amazonaws.com/\n",
      "\n",
      "Then enter the code:\n",
      "\n",
      "GQJT-ZLTQ\n",
      "Successully logged into Start URL: https://stellaralgo.awsapps.com/start#/\n"
     ]
    }
   ],
   "source": [
    "! aws sso login --profile Stellaralgo-DataScienceAdmin"
   ]
  },
  {
   "cell_type": "markdown",
   "id": "560406bc-a34f-404f-9713-3b394572271d",
   "metadata": {},
   "source": [
    "### Now we can create a connection to our datascience table in RedShift:"
   ]
  },
  {
   "cell_type": "code",
   "execution_count": 3,
   "id": "cc002618-3021-4ee8-81df-e2a81b11750e",
   "metadata": {},
   "outputs": [
    {
     "name": "stdout",
     "output_type": "stream",
     "text": [
      "CREDENTIALS RETRIEVED SUCCESSFULLY: <awswrangler.data_api.redshift.RedshiftDataApi object at 0x7f88c3dd9640>\n"
     ]
    }
   ],
   "source": [
    "session = boto3.setup_default_session(profile_name='Stellaralgo-DataScienceAdmin')\n",
    "client = boto3.client('redshift')\n",
    "\n",
    "conn1 = wr.data_api.redshift.connect(\n",
    "    cluster_id=\"qa-app\",\n",
    "    database=\"datascience\",\n",
    "    db_user=\"admin\"\n",
    ")\n",
    "\n",
    "print(f\"CREDENTIALS RETRIEVED SUCCESSFULLY: {conn1}\")"
   ]
  },
  {
   "cell_type": "markdown",
   "id": "7ba138d3-8b71-448e-9915-5aa7d1ddbeb7",
   "metadata": {},
   "source": [
    "### Create a dictionary of all teams that have retention scoring:"
   ]
  },
  {
   "cell_type": "code",
   "execution_count": 6,
   "id": "90c6bbb8-234a-4383-9e6e-dabb2b3bf65c",
   "metadata": {},
   "outputs": [
    {
     "name": "stdout",
     "output_type": "stream",
     "text": [
      "Total teams: 38 \n",
      "Example team {'clientcode': 'hops', 'lkupclientid': 9, 'dbname': 'stlrmilb', 'leaguename': 'MILB'} \n"
     ]
    }
   ],
   "source": [
    "sql1 =  f\"\"\"\n",
    "    SELECT DISTINCT\n",
    "        clientcode,\n",
    "        lkupclientid,\n",
    "        dbname,\n",
    "        leagueName\n",
    "    FROM\n",
    "        datascience.ds.teamsconfig\n",
    "    \"\"\"\n",
    "\n",
    "df_teams = wr.data_api.redshift.read_sql_query(\n",
    "    sql = sql1, \n",
    "    con = conn1\n",
    ")\n",
    "\n",
    "columns = df_teams.columns.values\n",
    "\n",
    "teams = []\n",
    "for index, row in df_teams.iterrows():\n",
    "    teams.append(dict(zip(columns, row)))\n",
    "\n",
    "print(f\"Total teams: {len(teams)} \")\n",
    "print(f\"Example team {teams[0]} \")"
   ]
  },
  {
   "cell_type": "markdown",
   "id": "083c3311-7990-4c98-9dfd-eff2324381f5",
   "metadata": {},
   "source": [
    "### Add two more fields to each teams dictionary (insertdate & count):"
   ]
  },
  {
   "cell_type": "code",
   "execution_count": 9,
   "id": "bd3be7de-61ad-4231-a98c-066d918526c8",
   "metadata": {},
   "outputs": [
    {
     "name": "stdout",
     "output_type": "stream",
     "text": [
      "Example team {'clientcode': 'canucks', 'lkupclientid': 7, 'dbname': 'stlrcanucks', 'leaguename': 'NHL', 'insertdate': 0} \n"
     ]
    }
   ],
   "source": [
    "for team in teams:\n",
    "        \n",
    "    conn2 = wr.data_api.redshift.connect(\n",
    "        cluster_id=\"qa-app\",\n",
    "        database= team['dbname'],\n",
    "        db_user=\"admin\"\n",
    "    )\n",
    "\n",
    "    sql2 = f\"\"\"\n",
    "            SELECT insertdate\n",
    "            FROM {team['dbname']}.dw.customerretentionscores\n",
    "            WHERE lkupclientid = {team['lkupclientid']}\n",
    "            GROUP BY insertDate\n",
    "            ORDER BY convert(datetime, insertdate) DESC\n",
    "            LIMIT 1\n",
    "        \"\"\"\n",
    "\n",
    "    df_customerretention = wr.data_api.redshift.read_sql_query(\n",
    "        sql = sql2, \n",
    "        con = conn2\n",
    "    )\n",
    "    \n",
    "    for row in df_customerretention.iterrows():\n",
    "        team['insertdate'] = row[0]\n",
    "                    \n",
    "print(f\"Example team {teams[25]} \")"
   ]
  },
  {
   "cell_type": "markdown",
   "id": "8bf009e0-2771-4a47-a291-883e5c25a9cc",
   "metadata": {},
   "source": [
    "### Write a test to see if insertdate is greater than todays date:"
   ]
  },
  {
   "cell_type": "code",
   "execution_count": 10,
   "id": "1dc75d16-dc1a-4595-b923-16f234efd3c5",
   "metadata": {},
   "outputs": [
    {
     "name": "stdout",
     "output_type": "stream",
     "text": [
      "SCORE REPORT FOR CUSTOMERRETENTIONSCORES TABLE:\n",
      "0\n"
     ]
    },
    {
     "ename": "TypeError",
     "evalue": "'>' not supported between instances of 'int' and 'str'",
     "output_type": "error",
     "traceback": [
      "\u001b[0;31m---------------------------------------------------------------------------\u001b[0m",
      "\u001b[0;31mTypeError\u001b[0m                                 Traceback (most recent call last)",
      "\u001b[0;32m/var/folders/1z/ymtyx_zx7r168ctyc23cfmbh0000gn/T/ipykernel_96409/2340922084.py\u001b[0m in \u001b[0;36m<module>\u001b[0;34m\u001b[0m\n\u001b[1;32m      6\u001b[0m     \u001b[0mprint\u001b[0m\u001b[0;34m(\u001b[0m\u001b[0mteam\u001b[0m\u001b[0;34m[\u001b[0m\u001b[0;34m\"insertdate\"\u001b[0m\u001b[0;34m]\u001b[0m\u001b[0;34m)\u001b[0m\u001b[0;34m\u001b[0m\u001b[0;34m\u001b[0m\u001b[0m\n\u001b[1;32m      7\u001b[0m \u001b[0;34m\u001b[0m\u001b[0m\n\u001b[0;32m----> 8\u001b[0;31m     \u001b[0;32mif\u001b[0m \u001b[0mteam\u001b[0m\u001b[0;34m[\u001b[0m\u001b[0;34m'insertdate'\u001b[0m\u001b[0;34m]\u001b[0m \u001b[0;34m>\u001b[0m \u001b[0mtoday\u001b[0m\u001b[0;34m:\u001b[0m\u001b[0;34m\u001b[0m\u001b[0;34m\u001b[0m\u001b[0m\n\u001b[0m\u001b[1;32m      9\u001b[0m         \u001b[0mprint\u001b[0m\u001b[0;34m(\u001b[0m\u001b[0mcolored\u001b[0m\u001b[0;34m(\u001b[0m\u001b[0;34mf\" > {team['count']} Scores Updated: {team['clientcode']} ({team['lkupclientid']})\"\u001b[0m\u001b[0;34m,\u001b[0m \u001b[0;34m'green'\u001b[0m\u001b[0;34m)\u001b[0m\u001b[0;34m)\u001b[0m\u001b[0;34m\u001b[0m\u001b[0;34m\u001b[0m\u001b[0m\n\u001b[1;32m     10\u001b[0m     \u001b[0;32melse\u001b[0m\u001b[0;34m:\u001b[0m\u001b[0;34m\u001b[0m\u001b[0;34m\u001b[0m\u001b[0m\n",
      "\u001b[0;31mTypeError\u001b[0m: '>' not supported between instances of 'int' and 'str'"
     ]
    }
   ],
   "source": [
    "today = datetime.now().strftime(\"%m-%d-%Y 00:00:00\")\n",
    "\n",
    "print(\"SCORE REPORT FOR CUSTOMERRETENTIONSCORES TABLE:\")\n",
    "for team in teams:\n",
    "    \n",
    "    print(team[\"insertdate\"])\n",
    "    \n",
    "    if team['insertdate'] > today:\n",
    "        print(colored(f\" > {team['count']} Scores Updated: {team['clientcode']} ({team['lkupclientid']})\", 'green'))\n",
    "    else:\n",
    "        print(colored(f\" ! {team['count']} Scores NOT Updated: {team['clientcode']} ({team['lkupclientid']})\", 'red'))"
   ]
  },
  {
   "cell_type": "code",
   "execution_count": null,
   "id": "1a3000e7-da7c-4dd1-9871-3ccf992db025",
   "metadata": {},
   "outputs": [],
   "source": []
  }
 ],
 "metadata": {
  "kernelspec": {
   "display_name": "Python 3 (ipykernel)",
   "language": "python",
   "name": "python3"
  },
  "language_info": {
   "codemirror_mode": {
    "name": "ipython",
    "version": 3
   },
   "file_extension": ".py",
   "mimetype": "text/x-python",
   "name": "python",
   "nbconvert_exporter": "python",
   "pygments_lexer": "ipython3",
   "version": "3.9.4"
  }
 },
 "nbformat": 4,
 "nbformat_minor": 5
}
