{
 "cells": [
  {
   "cell_type": "markdown",
   "id": "2327d72f-cc16-4361-8fbb-54e419b09ce9",
   "metadata": {},
   "source": [
    "# Retention Score Test - Redshift\n",
    "* StelllarAlgo Data Science\n",
    "* Ryan Kazmerik & Nakisa Rad\n",
    "* Mar 23, 2022"
   ]
  },
  {
   "cell_type": "code",
   "execution_count": 1,
   "id": "3024df94-ebf7-4747-899a-8d4ea3d33932",
   "metadata": {},
   "outputs": [
    {
     "name": "stdout",
     "output_type": "stream",
     "text": [
      "Attempting to automatically open the SSO authorization page in your default browser.\n",
      "If the browser does not open or you wish to use a different device to authorize this request, open the following URL:\n",
      "\n",
      "https://device.sso.us-east-1.amazonaws.com/\n",
      "\n",
      "Then enter the code:\n",
      "\n",
      "QTGM-XWHJ\n",
      "Successully logged into Start URL: https://stellaralgo.awsapps.com/start\n"
     ]
    }
   ],
   "source": [
    "import awswrangler as wr\n",
    "import boto3\n",
    "from datetime import datetime\n",
    "from termcolor import colored\n",
    "\n",
    "! aws sso login --profile Stellaralgo-DataScienceAdmin"
   ]
  },
  {
   "cell_type": "code",
   "execution_count": 2,
   "id": "ac742be7",
   "metadata": {},
   "outputs": [],
   "source": [
    "CLUSTER = \"qa-app\"\n",
    "USER = \"admin\""
   ]
  },
  {
   "cell_type": "markdown",
   "id": "560406bc-a34f-404f-9713-3b394572271d",
   "metadata": {},
   "source": [
    "### Connect to Redshift:"
   ]
  },
  {
   "cell_type": "code",
   "execution_count": 3,
   "id": "cc002618-3021-4ee8-81df-e2a81b11750e",
   "metadata": {},
   "outputs": [
    {
     "name": "stdout",
     "output_type": "stream",
     "text": [
      "CREDENTIALS RETRIEVED SUCCESSFULLY\n"
     ]
    }
   ],
   "source": [
    "try:\n",
    "    session = boto3.setup_default_session(profile_name='Stellaralgo-DataScienceAdmin')\n",
    "    client = boto3.client('redshift')\n",
    "\n",
    "    conn = wr.data_api.redshift.connect(\n",
    "        cluster_id = CLUSTER,\n",
    "        database = \"datascience\",\n",
    "        db_user = USER\n",
    "    )\n",
    "    \n",
    "    print('CREDENTIALS RETRIEVED SUCCESSFULLY')\n",
    "    \n",
    "except Exception as err:\n",
    "    print('FAILED TO RETRIEVE CREDENTIALS!', err)"
   ]
  },
  {
   "cell_type": "code",
   "execution_count": 4,
   "id": "0aa3c277",
   "metadata": {},
   "outputs": [
    {
     "name": "stdout",
     "output_type": "stream",
     "text": [
      "Total teams: 39 \n",
      "Example team {'clientcode': 'hops', 'lkupclientid': 9, 'dbname': 'stlrmilb', 'leaguename': 'MILB'} \n"
     ]
    }
   ],
   "source": [
    "sqlcode =  f\"\"\"\n",
    "    SELECT DISTINCT\n",
    "        clientcode,\n",
    "        lkupclientid,\n",
    "        dbname,\n",
    "        leagueName\n",
    "    FROM \n",
    "        datascience.ds.teamsconfig\n",
    "    \"\"\"\n",
    "    \n",
    "df = wr.data_api.redshift.read_sql_query(\n",
    "            sql = sqlcode, \n",
    "            con = conn\n",
    "        )\n",
    "\n",
    "columns = df.columns.values\n",
    "\n",
    "teams = []\n",
    "for index, row in df.iterrows():\n",
    "    teams.append(dict(zip(columns, row)))\n",
    "\n",
    "\n",
    "print(f\"Total teams: {len(teams)} \")\n",
    "print(f\"Example team {teams[0]} \")"
   ]
  },
  {
   "cell_type": "markdown",
   "id": "7ba138d3-8b71-448e-9915-5aa7d1ddbeb7",
   "metadata": {},
   "source": [
    "### Create a dictionary of all teams that have retention scoring:"
   ]
  },
  {
   "cell_type": "code",
   "execution_count": 5,
   "id": "8e3d23b6-d5a0-4a41-bdb6-1a284a0d1e04",
   "metadata": {},
   "outputs": [
    {
     "name": "stdout",
     "output_type": "stream",
     "text": [
      "Example team {'clientcode': 'hops', 'lkupclientid': 9, 'dbname': 'stlrmilb', 'leaguename': 'MILB', 'insertdate': True, 'count': 931} \n"
     ]
    }
   ],
   "source": [
    "for team in teams:\n",
    "    \n",
    "    conn = wr.data_api.redshift.connect(\n",
    "        cluster_id = CLUSTER,\n",
    "        database= team['dbname'],\n",
    "        db_user = USER\n",
    "    )\n",
    "\n",
    "    sql = f\"\"\"\n",
    "            SELECT TOP 1 insertdate, count(*) as count\n",
    "            FROM {team['dbname']}.dw.customerretentionscores  \n",
    "            WHERE [lkupclientid] = {team['lkupclientid']}\n",
    "            GROUP BY insertdate \n",
    "            ORDER BY convert(datetime, insertdate) DESC\n",
    "        \"\"\"\n",
    "\n",
    "    df_customerretention = wr.data_api.redshift.read_sql_query(\n",
    "        sql = sql, \n",
    "        con = conn\n",
    "    )\n",
    "    \n",
    "    for row in df_customerretention.iterrows():\n",
    "        team['insertdate'] = row[1]['insertdate']\n",
    "        team['count'] = row[1]['count']\n",
    "        \n",
    "print(f\"Example team {teams[0]} \")"
   ]
  },
  {
   "cell_type": "markdown",
   "id": "8bf009e0-2771-4a47-a291-883e5c25a9cc",
   "metadata": {},
   "source": [
    "### Write a test to see if insertdate is greater than todays date:"
   ]
  },
  {
   "cell_type": "code",
   "execution_count": 6,
   "id": "1dc75d16-dc1a-4595-b923-16f234efd3c5",
   "metadata": {},
   "outputs": [
    {
     "name": "stdout",
     "output_type": "stream",
     "text": [
      "SCORE REPORT FOR DATASCIENCE customerScores TABLE:\n",
      "2022-04-05 16:04:20\n",
      "True\n",
      "\n",
      "2022-04-05 16:04:20\n",
      "True\n",
      "\n",
      "2022-04-05 16:04:20\n",
      "ERROR: 'insertdate'\n",
      "\n",
      "2022-04-05 16:04:20\n",
      "True\n",
      "\n",
      "2022-04-05 16:04:20\n",
      "True\n",
      "\n",
      "2022-04-05 16:04:20\n",
      "True\n",
      "\n",
      "2022-04-05 16:04:20\n",
      "True\n",
      "\n",
      "2022-04-05 16:04:20\n",
      "True\n",
      "\n",
      "2022-04-05 16:04:20\n",
      "True\n",
      "\n",
      "2022-04-05 16:04:20\n",
      "ERROR: 'insertdate'\n",
      "\n",
      "2022-04-05 16:04:20\n",
      "True\n",
      "\n",
      "2022-04-05 16:04:20\n",
      "True\n",
      "\n",
      "2022-04-05 16:04:20\n",
      "True\n",
      "\n",
      "2022-04-05 16:04:20\n",
      "True\n",
      "\n",
      "2022-04-05 16:04:20\n",
      "True\n",
      "\n",
      "2022-04-05 16:04:20\n",
      "ERROR: 'insertdate'\n",
      "\n",
      "2022-04-05 16:04:20\n",
      "True\n",
      "\n",
      "2022-04-05 16:04:20\n",
      "True\n",
      "\n",
      "2022-04-05 16:04:20\n",
      "True\n",
      "\n",
      "2022-04-05 16:04:20\n",
      "True\n",
      "\n",
      "2022-04-05 16:04:20\n",
      "True\n",
      "\n",
      "2022-04-05 16:04:20\n",
      "2022-04-04 09:26:58\n",
      "\n",
      "2022-04-05 16:04:20\n",
      "2022-04-05 09:14:45\n",
      "\n",
      "2022-04-05 16:04:20\n",
      "2022-04-05 09:15:39\n",
      "\n",
      "2022-04-05 16:04:20\n",
      "2022-04-05 09:28:35\n",
      "\n",
      "2022-04-05 16:04:20\n",
      "2022-04-05 09:34:20\n",
      "\n",
      "2022-04-05 16:04:20\n",
      "2022-04-05 09:38:14\n",
      "\n",
      "2022-04-05 16:04:20\n",
      "2022-04-05 09:48:49\n",
      "\n",
      "2022-04-05 16:04:20\n",
      "2022-03-23 22:09:04\n",
      "\n",
      "2022-04-05 16:04:20\n",
      "ERROR: 'insertdate'\n",
      "\n",
      "2022-04-05 16:04:20\n",
      "2022-04-05 09:35:41\n",
      "\n",
      "2022-04-05 16:04:20\n",
      "2022-04-05 09:21:41\n",
      "\n",
      "2022-04-05 16:04:20\n",
      "2022-04-04 13:18:40\n",
      "\n",
      "2022-04-05 16:04:20\n",
      "2022-04-04 13:27:28\n",
      "\n",
      "2022-04-05 16:04:20\n",
      "2022-04-05 09:23:27\n",
      "\n",
      "2022-04-05 16:04:20\n",
      "2022-04-05 09:23:27\n",
      "\n",
      "2022-04-05 16:04:20\n",
      "ERROR: 'insertdate'\n",
      "\n",
      "2022-04-05 16:04:20\n",
      "2022-04-05 10:38:32\n",
      "\n",
      "2022-04-05 16:04:20\n",
      "ERROR: 'insertdate'\n",
      "\n"
     ]
    }
   ],
   "source": [
    "today = datetime.strptime(datetime.now().strftime(\"%Y-%m-%d %H:%M:%S\"), '%Y-%m-%d %H:%M:%S')\n",
    "\n",
    "print(\"SCORE REPORT FOR DATASCIENCE customerScores TABLE:\")\n",
    "for team in teams:\n",
    "\n",
    "    try:\n",
    "        print(today)\n",
    "        print(team['insertdate'])\n",
    "        print()\n",
    "\n",
    "    #try:\n",
    "    #    insert_date = datetime.strptime(teams[0]['insertdate'], '%Y-%m-%d %H:%M:%S')\n",
    "\n",
    "    #    if insert_date > today:\n",
    "    #        print(colored(f\" > {team['count']} SCORES UPDATED: {team['clientcode']} ({team['lkupclientid']})\", 'green'))\n",
    "    #    else:\n",
    "    #        print(colored(f\" ! {team['count']} SCORES NOTE UPDATED: {team['clientcode']} ({team['lkupclientid']})\", 'yellow'))\n",
    "    \n",
    "    except Exception as err:\n",
    "\n",
    "    #    print(colored(f\" ! NO RETENTION SCORES EXIST: {team['clientcode']} ({team['lkupclientid']})\", 'red'))\n",
    "        print(f\"ERROR: {err}\")\n",
    "        print()\n"
   ]
  },
  {
   "cell_type": "code",
   "execution_count": null,
   "id": "dd526759",
   "metadata": {},
   "outputs": [],
   "source": []
  }
 ],
 "metadata": {
  "kernelspec": {
   "display_name": "Python 3 (ipykernel)",
   "language": "python",
   "name": "python3"
  },
  "language_info": {
   "codemirror_mode": {
    "name": "ipython",
    "version": 3
   },
   "file_extension": ".py",
   "mimetype": "text/x-python",
   "name": "python",
   "nbconvert_exporter": "python",
   "pygments_lexer": "ipython3",
   "version": "3.8.5"
  }
 },
 "nbformat": 4,
 "nbformat_minor": 5
}
