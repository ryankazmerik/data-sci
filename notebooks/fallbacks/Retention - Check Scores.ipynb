{
 "cells": [
  {
   "cell_type": "markdown",
   "id": "2327d72f-cc16-4361-8fbb-54e419b09ce9",
   "metadata": {},
   "source": [
    "# Retention Score Test - Redshift\n",
    "* StelllarAlgo Data Science\n",
    "* Ryan Kazmerik & Nakisa Rad\n",
    "* Mar 23, 2022"
   ]
  },
  {
   "cell_type": "code",
   "execution_count": 2,
   "id": "3024df94-ebf7-4747-899a-8d4ea3d33932",
   "metadata": {},
   "outputs": [],
   "source": [
    "import boto3\n",
    "from datetime import datetime\n",
    "from termcolor import colored, cprint\n",
    "import pandas as pd\n",
    "import awswrangler as wr\n",
    "import pyodbc"
   ]
  },
  {
   "cell_type": "markdown",
   "id": "3d36b3cd-3c3d-410d-af7a-dadcd3a4b99d",
   "metadata": {},
   "source": [
    "### First we have to tell AWS which profile we'd like to login to, this will send us for a browser authentication trip:"
   ]
  },
  {
   "cell_type": "code",
   "execution_count": 3,
   "id": "5839fde5-ced2-4733-ab1d-ea7d139a0d28",
   "metadata": {},
   "outputs": [
    {
     "name": "stdout",
     "output_type": "stream",
     "text": [
      "Attempting to automatically open the SSO authorization page in your default browser.\n",
      "If the browser does not open or you wish to use a different device to authorize this request, open the following URL:\n",
      "\n",
      "https://device.sso.us-east-1.amazonaws.com/\n",
      "\n",
      "Then enter the code:\n",
      "\n",
      "HBCN-DNSX\n",
      "Successully logged into Start URL: https://stellaralgo.awsapps.com/start\n"
     ]
    }
   ],
   "source": [
    "! aws sso login --profile Stellaralgo-DataScienceAdmin"
   ]
  },
  {
   "cell_type": "markdown",
   "id": "560406bc-a34f-404f-9713-3b394572271d",
   "metadata": {},
   "source": [
    "### Connect to Redshift:"
   ]
  },
  {
   "cell_type": "code",
   "execution_count": 4,
   "id": "cc002618-3021-4ee8-81df-e2a81b11750e",
   "metadata": {},
   "outputs": [
    {
     "name": "stdout",
     "output_type": "stream",
     "text": [
      "CREDENTIALS RETRIEVED SUCCESSFULLY\n"
     ]
    }
   ],
   "source": [
    "try:\n",
    "    session = boto3.setup_default_session(profile_name='Stellaralgo-DataScienceAdmin')\n",
    "    client = boto3.client('redshift')\n",
    "\n",
    "    conn = wr.data_api.redshift.connect(\n",
    "        cluster_id=\"qa-app\",\n",
    "        database=\"datascience\",\n",
    "        db_user=\"admin\"\n",
    "    )\n",
    "    \n",
    "    print('CREDENTIALS RETRIEVED SUCCESSFULLY')\n",
    "    \n",
    "except Exception as err:\n",
    "    print('FAILED TO RETRIEVE CREDENTIALS!', err)"
   ]
  },
  {
   "cell_type": "code",
   "execution_count": 5,
   "id": "0aa3c277",
   "metadata": {},
   "outputs": [
    {
     "name": "stdout",
     "output_type": "stream",
     "text": [
      "Total teams: 39 \n",
      "Example team {'clientcode': 'hops', 'lkupclientid': 9, 'dbname': 'stlrmilb', 'leaguename': 'MILB'} \n"
     ]
    }
   ],
   "source": [
    "sqlcode =  f\"\"\"\n",
    "    SELECT DISTINCT\n",
    "        clientcode,\n",
    "        lkupclientid,\n",
    "        dbname,\n",
    "        leagueName\n",
    "    FROM \n",
    "        datascience.ds.teamsconfig\n",
    "    \"\"\"\n",
    "df = wr.data_api.redshift.read_sql_query(\n",
    "            sql = sqlcode, \n",
    "            con = conn\n",
    "        )\n",
    "\n",
    "columns = df.columns.values\n",
    "\n",
    "teams = []\n",
    "for index, row in df.iterrows():\n",
    "    teams.append(dict(zip(columns, row)))\n",
    "\n",
    "\n",
    "print(f\"Total teams: {len(teams)} \")\n",
    "print(f\"Example team {teams[0]} \")"
   ]
  },
  {
   "cell_type": "markdown",
   "id": "7ba138d3-8b71-448e-9915-5aa7d1ddbeb7",
   "metadata": {},
   "source": [
    "### Create a dictionary of all teams that have retention scoring:"
   ]
  },
  {
   "cell_type": "code",
   "execution_count": 6,
   "id": "8e3d23b6-d5a0-4a41-bdb6-1a284a0d1e04",
   "metadata": {},
   "outputs": [
    {
     "name": "stdout",
     "output_type": "stream",
     "text": [
      "Example team {'clientcode': 'hops', 'lkupclientid': 9, 'dbname': 'stlrmilb', 'leaguename': 'MILB', 'insertdate': '2022-04-01 10:23:16', 'count': 931} \n"
     ]
    }
   ],
   "source": [
    "for team in teams:\n",
    "    \n",
    "    conn = wr.data_api.redshift.connect(\n",
    "        cluster_id=\"qa-app\",\n",
    "        database= team['dbname'],\n",
    "        db_user=\"admin\"\n",
    "    )\n",
    "\n",
    "    sql = f\"\"\"\n",
    "            SELECT TOP 1 insertdate, count(*) as count\n",
    "            FROM {team['dbname']}.dw.customerretentionscores  \n",
    "            WHERE [lkupclientid] = {team['lkupclientid']}\n",
    "            GROUP BY insertdate \n",
    "            ORDER BY convert(datetime, insertdate) DESC\n",
    "        \"\"\"\n",
    "\n",
    "    df_customerretention = wr.data_api.redshift.read_sql_query(\n",
    "        sql = sql, \n",
    "        con = conn\n",
    "    )\n",
    "    \n",
    "    for row in df_customerretention.iterrows():\n",
    "        team['insertdate'] = row[1]['insertdate']\n",
    "        team['count'] = row[1]['count']\n",
    "        \n",
    "print(f\"Example team {teams[0]} \")"
   ]
  },
  {
   "cell_type": "markdown",
   "id": "8bf009e0-2771-4a47-a291-883e5c25a9cc",
   "metadata": {},
   "source": [
    "### Write a test to see if insertdate is greater than todays date:"
   ]
  },
  {
   "cell_type": "code",
   "execution_count": 7,
   "id": "1dc75d16-dc1a-4595-b923-16f234efd3c5",
   "metadata": {},
   "outputs": [
    {
     "name": "stdout",
     "output_type": "stream",
     "text": [
      "SCORE REPORT FOR DATASCIENCE customerScores TABLE:\n",
      "\u001b[32m > 931 SCORES UPDATED: hops (9)\u001b[0m\n",
      "\u001b[32m > 3581 SCORES UPDATED: bulls (11)\u001b[0m\n",
      "\u001b[31m ! NO RETENTION SCORES EXIST: rivercats (12)\u001b[0m\n",
      "\u001b[32m > 1755 SCORES UPDATED: vegas51s (15)\u001b[0m\n",
      "\u001b[32m > 111 SCORES UPDATED: rainiers (17)\u001b[0m\n",
      "\u001b[32m > 247 SCORES UPDATED: 66ers (19)\u001b[0m\n",
      "\u001b[32m > 603 SCORES UPDATED: loons (20)\u001b[0m\n",
      "\u001b[32m > 408 SCORES UPDATED: rattlers (24)\u001b[0m\n",
      "\u001b[32m > 16 SCORES UPDATED: legends (26)\u001b[0m\n",
      "\u001b[31m ! NO RETENTION SCORES EXIST: grizzlies (27)\u001b[0m\n",
      "\u001b[32m > 325 SCORES UPDATED: fireflies (28)\u001b[0m\n",
      "\u001b[32m > 931 SCORES UPDATED: elpaso (30)\u001b[0m\n",
      "\u001b[32m > 902 SCORES UPDATED: rrexpress (34)\u001b[0m\n",
      "\u001b[32m > 1591 SCORES UPDATED: renoaces (40)\u001b[0m\n",
      "\u001b[32m > 384 SCORES UPDATED: stormchasers (43)\u001b[0m\n",
      "\u001b[31m ! NO RETENTION SCORES EXIST: hartfordyardgoats (44)\u001b[0m\n",
      "\u001b[32m > 1762 SCORES UPDATED: okcdodgers (47)\u001b[0m\n",
      "\u001b[32m > 2296 SCORES UPDATED: drive (48)\u001b[0m\n",
      "\u001b[32m > 814 SCORES UPDATED: stripers (49)\u001b[0m\n",
      "\u001b[32m > 249 SCORES UPDATED: kanecounty (51)\u001b[0m\n",
      "\u001b[32m > 1042 SCORES UPDATED: toledomudhens (59)\u001b[0m\n",
      "\u001b[32m > 5651 SCORES UPDATED: stamps (35)\u001b[0m\n",
      "\u001b[32m > 1276 SCORES UPDATED: roughnecks (8)\u001b[0m\n",
      "\u001b[32m > 777 SCORES UPDATED: hitmen (37)\u001b[0m\n",
      "\u001b[32m > 9 SCORES UPDATED: nhlpanthers (93)\u001b[0m\n",
      "\u001b[32m > 8 SCORES UPDATED: canucks (7)\u001b[0m\n",
      "\u001b[32m > 5600 SCORES UPDATED: blazers (5)\u001b[0m\n",
      "\u001b[32m > 54 SCORES UPDATED: flames (36)\u001b[0m\n",
      "\u001b[32m > 2914 SCORES UPDATED: rays (45)\u001b[0m\n",
      "\u001b[31m ! NO RETENTION SCORES EXIST: sounders2 (18)\u001b[0m\n",
      "\u001b[32m > 8063 SCORES UPDATED: galaxy (6)\u001b[0m\n",
      "\u001b[32m > 2722 SCORES UPDATED: dynamo (13)\u001b[0m\n",
      "\u001b[32m > 32 SCORES UPDATED: sacfc (31)\u001b[0m\n",
      "\u001b[32m > 42 SCORES UPDATED: vgk (33)\u001b[0m\n",
      "\u001b[32m > 716 SCORES UPDATED: roadrunners (56)\u001b[0m\n",
      "\u001b[32m > 2320 SCORES UPDATED: toledowalleye (52)\u001b[0m\n",
      "\u001b[31m ! NO RETENTION SCORES EXIST: admirals (16)\u001b[0m\n",
      "\u001b[32m > 63 SCORES UPDATED: coyotes (55)\u001b[0m\n",
      "\u001b[31m ! NO RETENTION SCORES EXIST: nhljets (92)\u001b[0m\n"
     ]
    }
   ],
   "source": [
    "today = datetime.now().strftime(\"%m-%d-%Y 00:00:00\")\n",
    "\n",
    "print(\"SCORE REPORT FOR DATASCIENCE customerScores TABLE:\")\n",
    "for team in teams:\n",
    "\n",
    "    try:\n",
    "        if team['insertdate'] > today:\n",
    "            print(colored(f\" > {team['count']} SCORES UPDATED: {team['clientcode']} ({team['lkupclientid']})\", 'green'))\n",
    "        else:\n",
    "            print(colored(f\" ! {team['count']} SCORES NOTE UPDATED: {team['clientcode']} ({team['lkupclientid']})\", 'yellow'))\n",
    "    \n",
    "    except Exception as err:\n",
    "        print(colored(f\" ! NO RETENTION SCORES EXIST: {team['clientcode']} ({team['lkupclientid']})\", 'red'))\n"
   ]
  }
 ],
 "metadata": {
  "kernelspec": {
   "display_name": "Python 3 (ipykernel)",
   "language": "python",
   "name": "python3"
  },
  "language_info": {
   "codemirror_mode": {
    "name": "ipython",
    "version": 3
   },
   "file_extension": ".py",
   "mimetype": "text/x-python",
   "name": "python",
   "nbconvert_exporter": "python",
   "pygments_lexer": "ipython3",
   "version": "3.8.5"
  }
 },
 "nbformat": 4,
 "nbformat_minor": 5
}
