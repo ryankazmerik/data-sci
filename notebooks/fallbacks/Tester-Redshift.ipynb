{
 "cells": [
  {
   "cell_type": "markdown",
   "id": "2327d72f-cc16-4361-8fbb-54e419b09ce9",
   "metadata": {},
   "source": [
    "# Retention Score Test - Redshift\n",
    "* StelllarAlgo Data Science\n",
    "* Ryan Kazmerik & Nakisa Rad\n",
    "* Mar 23, 2022"
   ]
  },
  {
   "cell_type": "code",
   "execution_count": 1,
   "id": "3024df94-ebf7-4747-899a-8d4ea3d33932",
   "metadata": {},
   "outputs": [],
   "source": [
    "import boto3\n",
    "import getpass\n",
    "\n",
    "from datetime import datetime\n",
    "from termcolor import colored, cprint\n",
    "import pandas as pd\n",
    "import awswrangler as wr\n",
    "import pyodbc"
   ]
  },
  {
   "cell_type": "code",
   "execution_count": 2,
   "id": "5839fde5-ced2-4733-ab1d-ea7d139a0d28",
   "metadata": {},
   "outputs": [
    {
     "name": "stdout",
     "output_type": "stream",
     "text": [
      "Attempting to automatically open the SSO authorization page in your default browser.\n",
      "If the browser does not open or you wish to use a different device to authorize this request, open the following URL:\n",
      "\n",
      "https://device.sso.us-east-1.amazonaws.com/\n",
      "\n",
      "Then enter the code:\n",
      "\n",
      "WFKW-WVWC\n",
      "Successully logged into Start URL: https://stellaralgo.awsapps.com/start#/\n"
     ]
    }
   ],
   "source": [
    "! aws sso login --profile Stellaralgo-DataScienceAdmin"
   ]
  },
  {
   "cell_type": "markdown",
   "id": "3d36b3cd-3c3d-410d-af7a-dadcd3a4b99d",
   "metadata": {},
   "source": [
    "### First we have to tell AWS which profile we'd like to login to, this will send us for a browser authentication trip:"
   ]
  },
  {
   "cell_type": "markdown",
   "id": "560406bc-a34f-404f-9713-3b394572271d",
   "metadata": {},
   "source": [
    "### Connect to Redshift:"
   ]
  },
  {
   "cell_type": "code",
   "execution_count": 3,
   "id": "cc002618-3021-4ee8-81df-e2a81b11750e",
   "metadata": {},
   "outputs": [
    {
     "name": "stdout",
     "output_type": "stream",
     "text": [
      "CREDENTIALS RETRIEVED SUCCESSFULLY\n"
     ]
    }
   ],
   "source": [
    "try:\n",
    "    session = boto3.setup_default_session(profile_name='Stellaralgo-DataScienceAdmin')\n",
    "    client = boto3.client('redshift')\n",
    "\n",
    "    conn = wr.data_api.redshift.connect(\n",
    "        cluster_id=\"qa-app\",\n",
    "        database=\"datascience\",\n",
    "        db_user=\"admin\"\n",
    "    )\n",
    "    \n",
    "    print('CREDENTIALS RETRIEVED SUCCESSFULLY')\n",
    "    \n",
    "except Exception as err:\n",
    "    print('FAILED TO RETRIEVE CREDENTIALS!', err)\n"
   ]
  },
  {
   "cell_type": "markdown",
   "id": "7ba138d3-8b71-448e-9915-5aa7d1ddbeb7",
   "metadata": {},
   "source": [
    "### Create a dictionary of all teams that have retention scoring:"
   ]
  },
  {
   "cell_type": "code",
   "execution_count": 4,
   "id": "90c6bbb8-234a-4383-9e6e-dabb2b3bf65c",
   "metadata": {},
   "outputs": [
    {
     "name": "stdout",
     "output_type": "stream",
     "text": [
      "Total teams: 38 \n",
      "Example team {'clientcode': 'hops', 'lkupclientid': 9, 'dbname': 'stlrmilb', 'leaguename': 'MILB'} \n"
     ]
    }
   ],
   "source": [
    "sqlcode =  f\"\"\"\n",
    "    SELECT DISTINCT\n",
    "        clientcode,\n",
    "        lkupclientid,\n",
    "        dbname,\n",
    "        leagueName\n",
    "    FROM \n",
    "        datascience.ds.teamsconfig\n",
    "    \"\"\"\n",
    "df = wr.data_api.redshift.read_sql_query(\n",
    "            sql = sqlcode, \n",
    "            con = conn\n",
    "        )\n",
    "\n",
    "columns = df.columns.values\n",
    "\n",
    "teams = []\n",
    "for index, row in df.iterrows():\n",
    "    teams.append(dict(zip(columns, row)))\n",
    "\n",
    "\n",
    "print(f\"Total teams: {len(teams)} \")\n",
    "print(f\"Example team {teams[0]} \")"
   ]
  },
  {
   "cell_type": "code",
   "execution_count": 7,
   "id": "8e3d23b6-d5a0-4a41-bdb6-1a284a0d1e04",
   "metadata": {},
   "outputs": [
    {
     "name": "stdout",
     "output_type": "stream",
     "text": [
      "Example team [{'clientcode': 'hops', 'lkupclientid': 9, 'dbname': 'stlrmilb', 'leaguename': 'MILB', 'insertdate': '2022-04-01 10:23:16', 'count': 931}, {'clientcode': 'bulls', 'lkupclientid': 11, 'dbname': 'stlrmilb', 'leaguename': 'MILB', 'insertdate': '2022-04-01 10:23:16', 'count': 3581}, {'clientcode': 'rivercats', 'lkupclientid': 12, 'dbname': 'stlrmilb', 'leaguename': 'MILB'}, {'clientcode': 'vegas51s', 'lkupclientid': 15, 'dbname': 'stlrmilb', 'leaguename': 'MILB', 'insertdate': '2022-04-01 10:23:16', 'count': 1755}, {'clientcode': 'rainiers', 'lkupclientid': 17, 'dbname': 'stlrmilb', 'leaguename': 'MILB', 'insertdate': '2022-04-01 10:23:16', 'count': 111}, {'clientcode': '66ers', 'lkupclientid': 19, 'dbname': 'stlrmilb', 'leaguename': 'MILB', 'insertdate': '2022-04-01 10:23:16', 'count': 247}, {'clientcode': 'loons', 'lkupclientid': 20, 'dbname': 'stlrmilb', 'leaguename': 'MILB', 'insertdate': '2022-04-01 10:23:16', 'count': 603}, {'clientcode': 'rattlers', 'lkupclientid': 24, 'dbname': 'stlrmilb', 'leaguename': 'MILB', 'insertdate': '2022-04-01 10:23:16', 'count': 408}, {'clientcode': 'legends', 'lkupclientid': 26, 'dbname': 'stlrmilb', 'leaguename': 'MILB', 'insertdate': '2022-04-01 10:23:16', 'count': 16}, {'clientcode': 'grizzlies', 'lkupclientid': 27, 'dbname': 'stlrmilb', 'leaguename': 'MILB'}, {'clientcode': 'fireflies', 'lkupclientid': 28, 'dbname': 'stlrmilb', 'leaguename': 'MILB', 'insertdate': '2022-04-01 10:23:16', 'count': 325}, {'clientcode': 'elpaso', 'lkupclientid': 30, 'dbname': 'stlrmilb', 'leaguename': 'MILB', 'insertdate': '2022-04-01 10:23:16', 'count': 931}, {'clientcode': 'rrexpress', 'lkupclientid': 34, 'dbname': 'stlrmilb', 'leaguename': 'MILB', 'insertdate': '2022-04-01 10:23:16', 'count': 902}, {'clientcode': 'renoaces', 'lkupclientid': 40, 'dbname': 'stlrmilb', 'leaguename': 'MILB', 'insertdate': '2022-04-01 10:23:16', 'count': 1591}, {'clientcode': 'stormchasers', 'lkupclientid': 43, 'dbname': 'stlrmilb', 'leaguename': 'MILB', 'insertdate': '2022-04-01 10:23:16', 'count': 384}, {'clientcode': 'hartfordyardgoats', 'lkupclientid': 44, 'dbname': 'stlrmilb', 'leaguename': 'MILB'}, {'clientcode': 'okcdodgers', 'lkupclientid': 47, 'dbname': 'stlrmilb', 'leaguename': 'MILB', 'insertdate': '2022-04-01 10:23:16', 'count': 1762}, {'clientcode': 'drive', 'lkupclientid': 48, 'dbname': 'stlrmilb', 'leaguename': 'MILB', 'insertdate': '2022-04-01 10:23:16', 'count': 2296}, {'clientcode': 'stripers', 'lkupclientid': 49, 'dbname': 'stlrmilb', 'leaguename': 'MILB', 'insertdate': '2022-04-01 10:23:16', 'count': 814}, {'clientcode': 'kanecounty', 'lkupclientid': 51, 'dbname': 'stlrmilb', 'leaguename': 'MILB', 'insertdate': '2022-04-01 10:23:16', 'count': 249}, {'clientcode': 'toledomudhens', 'lkupclientid': 59, 'dbname': 'stlrmilb', 'leaguename': 'MILB', 'insertdate': '2022-04-01 10:23:16', 'count': 1042}, {'clientcode': 'stamps', 'lkupclientid': 35, 'dbname': 'stlrcfl', 'leaguename': 'CFL', 'insertdate': '2022-04-04 09:26:58', 'count': 5651}, {'clientcode': 'roughnecks', 'lkupclientid': 8, 'dbname': 'stlrnll', 'leaguename': 'NLL', 'insertdate': '2022-04-03 09:14:00', 'count': 1276}, {'clientcode': 'hitmen', 'lkupclientid': 37, 'dbname': 'stlrwhl', 'leaguename': 'WHL', 'insertdate': '2022-04-04 09:35:17', 'count': 777}, {'clientcode': 'nhlpanthers', 'lkupclientid': 93, 'dbname': 'stlrnhlpanthers', 'leaguename': 'NHL', 'insertdate': '2022-04-04 12:00:02', 'count': 9}, {'clientcode': 'canucks', 'lkupclientid': 7, 'dbname': 'stlrcanucks', 'leaguename': 'NHL', 'insertdate': '2022-04-04 10:43:43', 'count': 8}, {'clientcode': 'blazers', 'lkupclientid': 5, 'dbname': 'stlrtrailblazers', 'leaguename': 'NBA', 'insertdate': '2022-03-07 23:38:32', 'count': 5600}, {'clientcode': 'flames', 'lkupclientid': 36, 'dbname': 'stlrflames', 'leaguename': 'NHL', 'insertdate': '2022-04-04 11:43:21', 'count': 54}, {'clientcode': 'rays', 'lkupclientid': 45, 'dbname': 'stlrrays', 'leaguename': 'MLB', 'insertdate': '2022-03-23 22:09:04', 'count': 2914}, {'clientcode': 'sounders2', 'lkupclientid': 18, 'dbname': 'stlrusl', 'leaguename': 'MLS'}, {'clientcode': 'galaxy', 'lkupclientid': 6, 'dbname': 'stlrmls', 'leaguename': 'MLS', 'insertdate': '2022-04-04 09:35:05', 'count': 8063}, {'clientcode': 'dynamo', 'lkupclientid': 13, 'dbname': 'stlrmls', 'leaguename': 'MLS', 'insertdate': '2022-04-04 09:20:51', 'count': 2722}, {'clientcode': 'sacfc', 'lkupclientid': 31, 'dbname': 'stlrmls', 'leaguename': 'MLS', 'insertdate': '2022-04-04 13:18:40', 'count': 32}, {'clientcode': 'vgk', 'lkupclientid': 33, 'dbname': 'stlrvgk', 'leaguename': 'NHL', 'insertdate': '2022-04-04 13:27:28', 'count': 42}, {'clientcode': 'roadrunners', 'lkupclientid': 56, 'dbname': 'stlrahl', 'leaguename': 'AHL', 'insertdate': '2022-04-04 09:24:55', 'count': 716}, {'clientcode': 'toledowalleye', 'lkupclientid': 52, 'dbname': 'stlrahl', 'leaguename': 'ECHL', 'insertdate': '2022-04-04 09:24:55', 'count': 2320}, {'clientcode': 'admirals', 'lkupclientid': 16, 'dbname': 'stlrahl', 'leaguename': 'AHL'}, {'clientcode': 'coyotes', 'lkupclientid': 55, 'dbname': 'stlrcoyotes', 'leaguename': 'NHL', 'insertdate': '2022-04-04 11:31:54', 'count': 63}] \n"
     ]
    }
   ],
   "source": [
    "for team in teams:\n",
    "    \n",
    "    \n",
    "    conn = wr.data_api.redshift.connect(\n",
    "    cluster_id=\"qa-app\",\n",
    "    database= team['dbname'],\n",
    "    db_user=\"admin\"\n",
    "    )\n",
    "        \n",
    "\n",
    "\n",
    "    sql2 = f\"\"\"\n",
    "            SELECT TOP 1 insertdate  insertdate, count(*) as count\n",
    "            FROM {team['dbname']}.dw.customerretentionscores  \n",
    "            WHERE [lkupclientid] = {team['lkupclientid']}\n",
    "            AND insertdate IS NOT NULL\n",
    "            GROUP BY insertdate \n",
    "            ORDER BY convert(datetime, insertdate) DESC\n",
    "        \"\"\"\n",
    "\n",
    "    df_customerretention = wr.data_api.redshift.read_sql_query(\n",
    "        sql = sql2, \n",
    "        con = conn\n",
    "    )\n",
    "    results = []\n",
    "    for row in df_customerretention.iterrows():\n",
    "        #print(row[0])\n",
    "       # print(row[1]['insertdate'])\n",
    "        #print(row[1]['count'])\n",
    "       # break\n",
    "        team['insertdate'] = row[1]['insertdate']\n",
    "        team['count'] = row[1]['count']\n",
    "        \n",
    "print(f\"Example team {teams} \")"
   ]
  },
  {
   "cell_type": "markdown",
   "id": "8bf009e0-2771-4a47-a291-883e5c25a9cc",
   "metadata": {},
   "source": [
    "### Write a test to see if insertdate is greater than todays date:"
   ]
  },
  {
   "cell_type": "code",
   "execution_count": 6,
   "id": "1dc75d16-dc1a-4595-b923-16f234efd3c5",
   "metadata": {},
   "outputs": [
    {
     "name": "stdout",
     "output_type": "stream",
     "text": [
      "SCORE REPORT FOR DATASCIENCE customerScores TABLE:\n",
      "\u001b[32m > 931 Scores Updated: hops (9)\u001b[0m\n",
      "\u001b[32m > 3581 Scores Updated: bulls (11)\u001b[0m\n"
     ]
    },
    {
     "ename": "KeyError",
     "evalue": "'insertdate'",
     "output_type": "error",
     "traceback": [
      "\u001b[0;31m---------------------------------------------------------------------------\u001b[0m",
      "\u001b[0;31mKeyError\u001b[0m                                  Traceback (most recent call last)",
      "\u001b[0;32m/var/folders/1z/ymtyx_zx7r168ctyc23cfmbh0000gn/T/ipykernel_712/2723412416.py\u001b[0m in \u001b[0;36m<module>\u001b[0;34m\u001b[0m\n\u001b[1;32m      4\u001b[0m \u001b[0;32mfor\u001b[0m \u001b[0mteam\u001b[0m \u001b[0;32min\u001b[0m \u001b[0mteams\u001b[0m\u001b[0;34m:\u001b[0m\u001b[0;34m\u001b[0m\u001b[0;34m\u001b[0m\u001b[0m\n\u001b[1;32m      5\u001b[0m \u001b[0;34m\u001b[0m\u001b[0m\n\u001b[0;32m----> 6\u001b[0;31m     \u001b[0;32mif\u001b[0m \u001b[0mteam\u001b[0m\u001b[0;34m[\u001b[0m\u001b[0;34m'insertdate'\u001b[0m\u001b[0;34m]\u001b[0m \u001b[0;34m>\u001b[0m \u001b[0mtoday\u001b[0m\u001b[0;34m:\u001b[0m\u001b[0;34m\u001b[0m\u001b[0;34m\u001b[0m\u001b[0m\n\u001b[0m\u001b[1;32m      7\u001b[0m         \u001b[0mprint\u001b[0m\u001b[0;34m(\u001b[0m\u001b[0mcolored\u001b[0m\u001b[0;34m(\u001b[0m\u001b[0;34mf\" > {team['count']} Scores Updated: {team['clientcode']} ({team['lkupclientid']})\"\u001b[0m\u001b[0;34m,\u001b[0m \u001b[0;34m'green'\u001b[0m\u001b[0;34m)\u001b[0m\u001b[0;34m)\u001b[0m\u001b[0;34m\u001b[0m\u001b[0;34m\u001b[0m\u001b[0m\n\u001b[1;32m      8\u001b[0m     \u001b[0;32melse\u001b[0m\u001b[0;34m:\u001b[0m\u001b[0;34m\u001b[0m\u001b[0;34m\u001b[0m\u001b[0m\n",
      "\u001b[0;31mKeyError\u001b[0m: 'insertdate'"
     ]
    }
   ],
   "source": [
    "today = datetime.now().strftime(\"%m-%d-%Y 00:00:00\")\n",
    "\n",
    "print(\"SCORE REPORT FOR DATASCIENCE customerScores TABLE:\")\n",
    "for team in teams:\n",
    "    \n",
    "    if team['insertdate'] > today:\n",
    "        print(colored(f\" > {team['count']} Scores Updated: {team['clientcode']} ({team['lkupclientid']})\", 'green'))\n",
    "    else:\n",
    "        print(colored(f\" ! {team['count']} Scores NOT Updated: {team['clientcode']} ({team['lkupclientid']})\", 'red'))"
   ]
  }
 ],
 "metadata": {
  "kernelspec": {
   "display_name": "Python 3 (ipykernel)",
   "language": "python",
   "name": "python3"
  },
  "language_info": {
   "codemirror_mode": {
    "name": "ipython",
    "version": 3
   },
   "file_extension": ".py",
   "mimetype": "text/x-python",
   "name": "python",
   "nbconvert_exporter": "python",
   "pygments_lexer": "ipython3",
   "version": "3.9.4"
  }
 },
 "nbformat": 4,
 "nbformat_minor": 5
}
