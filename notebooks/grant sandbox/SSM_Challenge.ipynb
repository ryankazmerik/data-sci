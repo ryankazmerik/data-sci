{
 "cells": [
  {
   "cell_type": "markdown",
   "metadata": {},
   "source": [
    "# SSM Challenge\n",
    "There is an SSM parameter in our Explore-US environment called: /customer/model-retention/ai/db-connections/data-sci-retention/database-read\n",
    "\n",
    "The challenge is to create a notebook in your sandbox that does the following:\n",
    "1. Read the value of the SSM parameter\n",
    "2. Use the values in the SSM parameter to form a connection string to the MSSQL database listed in the parameter\n",
    "3. Read the contents of the ds.customerScores table into a dataframe"
   ]
  },
  {
   "cell_type": "code",
   "execution_count": 1,
   "metadata": {},
   "outputs": [],
   "source": [
    "import awswrangler as wr\n",
    "import boto3 \n",
    "import json\n",
    "import pyodbc"
   ]
  },
  {
   "cell_type": "code",
   "execution_count": 2,
   "metadata": {},
   "outputs": [
    {
     "name": "stdout",
     "output_type": "stream",
     "text": [
      "Attempting to automatically open the SSO authorization page in your default browser.\n",
      "If the browser does not open or you wish to use a different device to authorize this request, open the following URL:\n",
      "\n",
      "https://device.sso.us-east-1.amazonaws.com/\n",
      "\n",
      "Then enter the code:\n",
      "\n",
      "VQDX-VXGP\n",
      "Successfully logged into Start URL: https://stellaralgo.awsapps.com/start#/\n"
     ]
    }
   ],
   "source": [
    "! aws sso login --profile Explore-US-DataScienceAdmin"
   ]
  },
  {
   "cell_type": "code",
   "execution_count": 5,
   "metadata": {},
   "outputs": [],
   "source": [
    "ssm_param = \"/customer/model-retention/ai/db-connections/data-sci-retention/database-read\"\n",
    "\n",
    "session = boto3.setup_default_session(profile_name='Explore-US-DataScienceAdmin')\n",
    "        \n",
    "ssm_client = boto3.client(\"ssm\", \"us-east-1\")\n",
    "response = ssm_client.get_parameter(\n",
    "    Name=ssm_param,\n",
    "    WithDecryption=True,\n",
    ")[\"Parameter\"][\"Value\"]\n",
    "sql_connection = json.loads(response)"
   ]
  },
  {
   "cell_type": "code",
   "execution_count": 6,
   "metadata": {},
   "outputs": [
    {
     "data": {
      "text/plain": [
       "{'database': 'datascience',\n",
       " 'name': 'LEGACY-MSSQL-PROD-PRODUCT-READ',\n",
       " 'password': 'XComAvUXKs2v3_#@cd',\n",
       " 'port': '1433',\n",
       " 'server': '10.0.0.56',\n",
       " 'username': 'dsAdminRead'}"
      ]
     },
     "execution_count": 6,
     "metadata": {},
     "output_type": "execute_result"
    }
   ],
   "source": [
    "sql_connection"
   ]
  },
  {
   "cell_type": "code",
   "execution_count": 7,
   "metadata": {},
   "outputs": [
    {
     "ename": "Error",
     "evalue": "('01000', \"[01000] [unixODBC][Driver Manager]Can't open lib 'ODBC Driver 17 for SQL Server' : file not found (0) (SQLDriverConnect)\")",
     "output_type": "error",
     "traceback": [
      "\u001b[0;31m---------------------------------------------------------------------------\u001b[0m",
      "\u001b[0;31mError\u001b[0m                                     Traceback (most recent call last)",
      "\u001b[1;32m/Users/grantdonst/Documents/GitHub/data-sci/notebooks/grant sandbox/SSM_Challenge.ipynb Cell 6\u001b[0m in \u001b[0;36m<cell line: 1>\u001b[0;34m()\u001b[0m\n\u001b[0;32m----> <a href='vscode-notebook-cell:/Users/grantdonst/Documents/GitHub/data-sci/notebooks/grant%20sandbox/SSM_Challenge.ipynb#ch0000004?line=0'>1</a>\u001b[0m CNXN \u001b[39m=\u001b[39m pyodbc\u001b[39m.\u001b[39;49mconnect(\u001b[39m'\u001b[39;49m\u001b[39mDRIVER=\u001b[39;49m\u001b[39m{\u001b[39;49m\u001b[39mODBC Driver 17 for SQL Server};SERVER=\u001b[39;49m\u001b[39m'\u001b[39;49m\u001b[39m+\u001b[39;49m\u001b[39m'\u001b[39;49m\u001b[39m34.206.73.189\u001b[39;49m\u001b[39m'\u001b[39;49m\u001b[39m+\u001b[39;49m\u001b[39m'\u001b[39;49m\u001b[39m;DATABASE=\u001b[39;49m\u001b[39m'\u001b[39;49m\u001b[39m+\u001b[39;49msql_connection[\u001b[39m\"\u001b[39;49m\u001b[39mdatabase\u001b[39;49m\u001b[39m\"\u001b[39;49m]\u001b[39m+\u001b[39;49m\u001b[39m'\u001b[39;49m\u001b[39m;UID=\u001b[39;49m\u001b[39m'\u001b[39;49m\u001b[39m+\u001b[39;49msql_connection[\u001b[39m\"\u001b[39;49m\u001b[39musername\u001b[39;49m\u001b[39m\"\u001b[39;49m]\u001b[39m+\u001b[39;49m\u001b[39m'\u001b[39;49m\u001b[39m;PWD=\u001b[39;49m\u001b[39m'\u001b[39;49m\u001b[39m+\u001b[39;49m sql_connection[\u001b[39m\"\u001b[39;49m\u001b[39mpassword\u001b[39;49m\u001b[39m\"\u001b[39;49m])\n",
      "\u001b[0;31mError\u001b[0m: ('01000', \"[01000] [unixODBC][Driver Manager]Can't open lib 'ODBC Driver 17 for SQL Server' : file not found (0) (SQLDriverConnect)\")"
     ]
    }
   ],
   "source": [
    "CNXN = pyodbc.connect('DRIVER={ODBC Driver 17 for SQL Server};SERVER='+'34.206.73.189'+';DATABASE='+sql_connection[\"database\"]+';UID='+sql_connection[\"username\"]+';PWD='+ sql_connection[\"password\"])"
   ]
  }
 ],
 "metadata": {
  "kernelspec": {
   "display_name": "Python 3.8.5 ('stellar')",
   "language": "python",
   "name": "python3"
  },
  "language_info": {
   "codemirror_mode": {
    "name": "ipython",
    "version": 3
   },
   "file_extension": ".py",
   "mimetype": "text/x-python",
   "name": "python",
   "nbconvert_exporter": "python",
   "pygments_lexer": "ipython3",
   "version": "3.8.5"
  },
  "orig_nbformat": 4,
  "vscode": {
   "interpreter": {
    "hash": "89f48dadab51a6b5b48ffc1a9e043c21cefe67453637c3444f3b86917b8aad16"
   }
  }
 },
 "nbformat": 4,
 "nbformat_minor": 2
}
