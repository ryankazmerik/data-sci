{
 "cells": [
  {
   "cell_type": "code",
   "execution_count": 6,
   "id": "51c18d4b-cb84-400c-89ea-4817c7070476",
   "metadata": {},
   "outputs": [],
   "source": [
    "from importlib import reload\n",
    "from shared_utilities import helpers"
   ]
  },
  {
   "cell_type": "code",
   "execution_count": 7,
   "id": "feaf841d",
   "metadata": {},
   "outputs": [
    {
     "data": {
      "text/plain": [
       "<module 'shared_utilities.helpers' from '/Users/ryankazmerik/Git/data-sci/shared_utilities/shared_utilities/helpers.py'>"
      ]
     },
     "execution_count": 7,
     "metadata": {},
     "output_type": "execute_result"
    }
   ],
   "source": [
    "reload(helpers)"
   ]
  },
  {
   "cell_type": "code",
   "execution_count": 8,
   "id": "4219b8ea",
   "metadata": {},
   "outputs": [
    {
     "data": {
      "text/plain": [
       "'Hello World'"
      ]
     },
     "execution_count": 8,
     "metadata": {},
     "output_type": "execute_result"
    }
   ],
   "source": [
    "helpers.hello_world()"
   ]
  },
  {
   "cell_type": "code",
   "execution_count": null,
   "id": "5afbfbb6",
   "metadata": {},
   "outputs": [],
   "source": []
  }
 ],
 "metadata": {
  "kernelspec": {
   "display_name": "Python 3 (ipykernel)",
   "language": "python",
   "name": "python3"
  },
  "language_info": {
   "codemirror_mode": {
    "name": "ipython",
    "version": 3
   },
   "file_extension": ".py",
   "mimetype": "text/x-python",
   "name": "python",
   "nbconvert_exporter": "python",
   "pygments_lexer": "ipython3",
   "version": "3.9.4"
  },
  "vscode": {
   "interpreter": {
    "hash": "89f48dadab51a6b5b48ffc1a9e043c21cefe67453637c3444f3b86917b8aad16"
   }
  }
 },
 "nbformat": 4,
 "nbformat_minor": 5
}
