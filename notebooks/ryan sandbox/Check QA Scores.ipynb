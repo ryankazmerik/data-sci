{
 "cells": [
  {
   "cell_type": "code",
   "execution_count": 2,
   "id": "51c18d4b-cb84-400c-89ea-4817c7070476",
   "metadata": {},
   "outputs": [],
   "source": [
    "import pandas as pd\n",
    "\n",
    "import matplotlib.pyplot as plt"
   ]
  },
  {
   "cell_type": "code",
   "execution_count": 4,
   "id": "4f554b39",
   "metadata": {},
   "outputs": [],
   "source": [
    "df = pd.read_json(\"sacfc_qa_scores.json\")"
   ]
  },
  {
   "cell_type": "code",
   "execution_count": 5,
   "id": "de8a03a5",
   "metadata": {},
   "outputs": [
    {
     "name": "stdout",
     "output_type": "stream",
     "text": [
      "<class 'pandas.core.frame.DataFrame'>\n",
      "RangeIndex: 1746 entries, 0 to 1745\n",
      "Data columns (total 10 columns):\n",
      " #   Column                Non-Null Count  Dtype  \n",
      "---  ------                --------------  -----  \n",
      " 0   attendancepercentage  1746 non-null   float64\n",
      " 1   currversnflag         1746 non-null   int64  \n",
      " 2   dimcustomermasterid   1746 non-null   int64  \n",
      " 3   lkupclientid          1746 non-null   int64  \n",
      " 4   mostrecentattendance  1746 non-null   object \n",
      " 5   product               1746 non-null   object \n",
      " 6   sascore               1746 non-null   float64\n",
      " 7   scoredate             1746 non-null   object \n",
      " 8   seasonyear            1746 non-null   int64  \n",
      " 9   tenuredays            1746 non-null   int64  \n",
      "dtypes: float64(2), int64(5), object(3)\n",
      "memory usage: 136.5+ KB\n"
     ]
    }
   ],
   "source": [
    "df.info()"
   ]
  },
  {
   "cell_type": "code",
   "execution_count": 20,
   "id": "bfd92e47",
   "metadata": {},
   "outputs": [
    {
     "data": {
      "text/plain": [
       "2022    1746\n",
       "Name: seasonyear, dtype: int64"
      ]
     },
     "execution_count": 20,
     "metadata": {},
     "output_type": "execute_result"
    }
   ],
   "source": [
    "df[\"seasonyear\"].value_counts()"
   ]
  },
  {
   "cell_type": "code",
   "execution_count": 19,
   "id": "e5bd6213",
   "metadata": {},
   "outputs": [
    {
     "data": {
      "image/png": "[encoded data removed]",
      "text/plain": [
       "<Figure size 432x288 with 1 Axes>"
      ]
     },
     "metadata": {
      "needs_background": "light"
     },
     "output_type": "display_data"
    }
   ],
   "source": [
    "plt.hist(df[\"sascore\"], bins=20, edgecolor='black')\n",
    "plt.title(\"SA Retention Scores\")\n",
    "plt.ylabel(\"Num Fans\")\n",
    "plt.xlabel(\"SA Buyer Score\")\n",
    "\n",
    "plt.show()"
   ]
  }
 ],
 "metadata": {
  "kernelspec": {
   "display_name": "Python 3.8.5 ('stellar')",
   "language": "python",
   "name": "python3"
  },
  "language_info": {
   "codemirror_mode": {
    "name": "ipython",
    "version": 3
   },
   "file_extension": ".py",
   "mimetype": "text/x-python",
   "name": "python",
   "nbconvert_exporter": "python",
   "pygments_lexer": "ipython3",
   "version": "3.8.5"
  },
  "vscode": {
   "interpreter": {
    "hash": "89f48dadab51a6b5b48ffc1a9e043c21cefe67453637c3444f3b86917b8aad16"
   }
  }
 },
 "nbformat": 4,
 "nbformat_minor": 5
}
