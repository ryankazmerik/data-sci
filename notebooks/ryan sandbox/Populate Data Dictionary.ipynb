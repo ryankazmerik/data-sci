{
 "cells": [
  {
   "cell_type": "code",
   "execution_count": 1,
   "id": "51c18d4b-cb84-400c-89ea-4817c7070476",
   "metadata": {},
   "outputs": [],
   "source": [
    "import boto3\n",
    "import pandas as pd\n",
    "import awswrangler as wr"
   ]
  },
  {
   "cell_type": "code",
   "execution_count": 2,
   "id": "ad566308-2417-4839-b0f5-a7b2a1a79f88",
   "metadata": {},
   "outputs": [
    {
     "name": "stdout",
     "output_type": "stream",
     "text": [
      "Attempting to automatically open the SSO authorization page in your default browser.\n",
      "If the browser does not open or you wish to use a different device to authorize this request, open the following URL:\n",
      "\n",
      "https://device.sso.us-east-1.amazonaws.com/\n",
      "\n",
      "Then enter the code:\n",
      "\n",
      "RDMK-VBJM\n",
      "Successully logged into Start URL: https://stellaralgo.awsapps.com/start\n"
     ]
    }
   ],
   "source": [
    "! aws sso login --profile Stellaralgo-DataScienceAdmin"
   ]
  },
  {
   "cell_type": "code",
   "execution_count": 3,
   "id": "ffdfbd14-e059-440c-b528-4223e51bc745",
   "metadata": {},
   "outputs": [],
   "source": [
    "session = boto3.setup_default_session(profile_name='Stellaralgo-DataScienceAdmin')\n",
    "client = boto3.client('redshift')\n",
    "\n",
    "cluster = 'qa-app'\n",
    "dbname = 'datascience'\n",
    "schema = 'ds'\n",
    "table = 'dummytable'\n",
    "    \n",
    "conn = wr.data_api.redshift.connect(\n",
    "    cluster_id = cluster,\n",
    "    database = dbname,\n",
    "    db_user = \"admin\"\n",
    ")"
   ]
  },
  {
   "cell_type": "code",
   "execution_count": 20,
   "id": "c2f6a083-5c3e-460a-96aa-3baf0a541d9f",
   "metadata": {},
   "outputs": [
    {
     "name": "stdout",
     "output_type": "stream",
     "text": [
      "<class 'pandas.core.frame.DataFrame'>\n",
      "RangeIndex: 84 entries, 0 to 83\n",
      "Data columns (total 7 columns):\n",
      " #   Column       Non-Null Count  Dtype \n",
      "---  ------       --------------  ----- \n",
      " 0   Model        84 non-null     object\n",
      " 1   Feature Raw  84 non-null     object\n",
      " 2   Feature      84 non-null     object\n",
      " 3   Data Type    84 non-null     object\n",
      " 4   Source       82 non-null     object\n",
      " 5   Engineered   84 non-null     bool  \n",
      " 6   Description  84 non-null     object\n",
      "dtypes: bool(1), object(6)\n",
      "memory usage: 4.1+ KB\n"
     ]
    }
   ],
   "source": [
    "df_data_dictionary = pd.read_csv('./data_dictionary.csv')\n",
    "df_data_dictionary.info()"
   ]
  },
  {
   "cell_type": "code",
   "execution_count": 21,
   "id": "843246ae-5dba-45b0-a79a-13b28b874274",
   "metadata": {},
   "outputs": [
    {
     "data": {
      "text/html": [
       "<div>\n",
       "<style scoped>\n",
       "    .dataframe tbody tr th:only-of-type {\n",
       "        vertical-align: middle;\n",
       "    }\n",
       "\n",
       "    .dataframe tbody tr th {\n",
       "        vertical-align: top;\n",
       "    }\n",
       "\n",
       "    .dataframe thead th {\n",
       "        text-align: right;\n",
       "    }\n",
       "</style>\n",
       "<table border=\"1\" class=\"dataframe\">\n",
       "  <thead>\n",
       "    <tr style=\"text-align: right;\">\n",
       "      <th></th>\n",
       "    </tr>\n",
       "  </thead>\n",
       "  <tbody>\n",
       "  </tbody>\n",
       "</table>\n",
       "</div>"
      ],
      "text/plain": [
       "Empty DataFrame\n",
       "Columns: []\n",
       "Index: []"
      ]
     },
     "execution_count": 21,
     "metadata": {},
     "output_type": "execute_result"
    }
   ],
   "source": [
    "fields = f\"\"\"\n",
    "    INSERT INTO datascience.ds.datadictionary (\n",
    "        feature,\n",
    "        featureraw,\n",
    "        datatype,\n",
    "        source,\n",
    "        engineered,\n",
    "        description\n",
    "    ) VALUES \"\"\"\n",
    "\n",
    "values_list = []\n",
    "for i, row in df_data_dictionary.iterrows():\n",
    "    \n",
    "    values = f\"\"\"(\n",
    "        '{row[\"Feature\"]}',\n",
    "        '{row[\"Feature Raw\"]}',\n",
    "        '{row[\"Data Type\"]}',\n",
    "        '{row[\"Source\"]}',\n",
    "        {row[\"Engineered\"]},\n",
    "        '{row[\"Description\"]}'\n",
    "    )\"\"\"\n",
    "    \n",
    "    values_list.append(values)\n",
    "        \n",
    "insert_statement = fields + \",\".join(values_list)+\";\"\n",
    " \n",
    "wr.data_api.redshift.read_sql_query(\n",
    "    sql = insert_statement, \n",
    "    con = conn\n",
    ")"
   ]
  },
  {
   "cell_type": "code",
   "execution_count": null,
   "id": "d17b2493-59ee-4759-b27b-53ea506c31ad",
   "metadata": {},
   "outputs": [],
   "source": []
  }
 ],
 "metadata": {
  "kernelspec": {
   "display_name": "Python 3 (ipykernel)",
   "language": "python",
   "name": "python3"
  },
  "language_info": {
   "codemirror_mode": {
    "name": "ipython",
    "version": 3
   },
   "file_extension": ".py",
   "mimetype": "text/x-python",
   "name": "python",
   "nbconvert_exporter": "python",
   "pygments_lexer": "ipython3",
   "version": "3.8.5"
  }
 },
 "nbformat": 4,
 "nbformat_minor": 5
}
