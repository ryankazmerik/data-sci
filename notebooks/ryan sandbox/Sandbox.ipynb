{
 "cells": [
  {
   "cell_type": "code",
   "execution_count": 5,
   "id": "3db530da-51df-47f7-9f4c-dad2dfa35a2d",
   "metadata": {},
   "outputs": [],
   "source": [
    "from shared_utilities import helpers"
   ]
  },
  {
   "cell_type": "code",
   "execution_count": 6,
   "id": "1a6ec978-c79e-4582-8325-190a423f9d0d",
   "metadata": {},
   "outputs": [
    {
     "data": {
      "text/plain": [
       "'Hello World'"
      ]
     },
     "execution_count": 6,
     "metadata": {},
     "output_type": "execute_result"
    }
   ],
   "source": [
    "helpers.hello_world()"
   ]
  },
  {
   "cell_type": "code",
   "execution_count": null,
   "id": "e43afe4b-4fe0-4e26-a9d7-2eae0e144c1f",
   "metadata": {},
   "outputs": [],
   "source": []
  }
 ],
 "metadata": {
  "kernelspec": {
   "display_name": "Python 3 (ipykernel)",
   "language": "python",
   "name": "python3"
  },
  "language_info": {
   "codemirror_mode": {
    "name": "ipython",
    "version": 3
   },
   "file_extension": ".py",
   "mimetype": "text/x-python",
   "name": "python",
   "nbconvert_exporter": "python",
   "pygments_lexer": "ipython3",
   "version": "3.7.10"
  }
 },
 "nbformat": 4,
 "nbformat_minor": 5
}
