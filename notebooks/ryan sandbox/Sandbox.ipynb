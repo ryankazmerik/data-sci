{
 "cells": [
  {
   "cell_type": "code",
   "execution_count": 1,
   "id": "a0536c7f-7798-4022-87df-18e1ca935a5c",
   "metadata": {},
   "outputs": [],
   "source": [
    "scores = [0.002, 0.003, 0.005, 0.25, 0.30, 0.001, 0.0003, 0.02]"
   ]
  },
  {
   "cell_type": "code",
   "execution_count": 3,
   "id": "9246ffc6-ef68-4186-ac34-339dcde8a579",
   "metadata": {},
   "outputs": [
    {
     "data": {
      "text/plain": [
       "0.0003"
      ]
     },
     "execution_count": 3,
     "metadata": {},
     "output_type": "execute_result"
    }
   ],
   "source": [
    "maximum = max(scores)\n",
    "minimum = min(scores)"
   ]
  },
  {
   "cell_type": "code",
   "execution_count": 7,
   "id": "b64b0a3b-ecaa-43a2-9906-e534ef5a2c33",
   "metadata": {},
   "outputs": [
    {
     "data": {
      "text/plain": [
       "[0.00567233900567234,\n",
       " 0.00900900900900901,\n",
       " 0.015682349015682353,\n",
       " 0.8331664998331666,\n",
       " 1.0,\n",
       " 0.0023356690023356697,\n",
       " 0.0,\n",
       " 0.0657323990657324]"
      ]
     },
     "execution_count": 7,
     "metadata": {},
     "output_type": "execute_result"
    }
   ],
   "source": [
    "new_scores = []\n",
    "\n",
    "for score in scores:\n",
    "    \n",
    "    new_score = (score-minimum)/(maximum-minimum)\n",
    "    new_scores.append(new_score)\n",
    "\n",
    "new_scores"
   ]
  },
  {
   "cell_type": "code",
   "execution_count": null,
   "id": "ccb007ed-106e-425f-8228-323c96cdd463",
   "metadata": {},
   "outputs": [],
   "source": []
  }
 ],
 "metadata": {
  "kernelspec": {
   "display_name": "Python 3 (ipykernel)",
   "language": "python",
   "name": "python3"
  },
  "language_info": {
   "codemirror_mode": {
    "name": "ipython",
    "version": 3
   },
   "file_extension": ".py",
   "mimetype": "text/x-python",
   "name": "python",
   "nbconvert_exporter": "python",
   "pygments_lexer": "ipython3",
   "version": "3.9.4"
  }
 },
 "nbformat": 4,
 "nbformat_minor": 5
}
