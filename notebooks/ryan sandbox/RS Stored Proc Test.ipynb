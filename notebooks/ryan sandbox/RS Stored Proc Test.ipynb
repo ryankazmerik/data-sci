{
 "cells": [
  {
   "cell_type": "code",
   "execution_count": 3,
   "id": "51c18d4b-cb84-400c-89ea-4817c7070476",
   "metadata": {},
   "outputs": [],
   "source": [
    "import boto3\n",
    "import pandas as pd\n",
    "import awswrangler as wr"
   ]
  },
  {
   "cell_type": "code",
   "execution_count": 1,
   "id": "ad566308-2417-4839-b0f5-a7b2a1a79f88",
   "metadata": {},
   "outputs": [
    {
     "name": "stdout",
     "output_type": "stream",
     "text": [
      "Attempting to automatically open the SSO authorization page in your default browser.\n",
      "If the browser does not open or you wish to use a different device to authorize this request, open the following URL:\n",
      "\n",
      "https://device.sso.us-east-1.amazonaws.com/\n",
      "\n",
      "Then enter the code:\n",
      "\n",
      "WJXT-QHLQ\n",
      "Successully logged into Start URL: https://stellaralgo.awsapps.com/start\n"
     ]
    }
   ],
   "source": [
    "! aws sso login --profile Stellaralgo-DataScienceAdmin"
   ]
  },
  {
   "cell_type": "code",
   "execution_count": 4,
   "id": "ffdfbd14-e059-440c-b528-4223e51bc745",
   "metadata": {},
   "outputs": [],
   "source": [
    "session = boto3.setup_default_session(profile_name='Stellaralgo-DataScienceAdmin')\n",
    "client = boto3.client('redshift')\n",
    "\n",
    "cluster = 'qa-app'\n",
    "dbname = 'stlrmls'\n",
    "schema = 'dw'\n",
    "    \n",
    "conn = wr.data_api.redshift.connect(\n",
    "    cluster_id = cluster,\n",
    "    database = dbname,\n",
    "    db_user = \"admin\"\n",
    ")"
   ]
  },
  {
   "cell_type": "code",
   "execution_count": 6,
   "id": "843246ae-5dba-45b0-a79a-13b28b874274",
   "metadata": {},
   "outputs": [],
   "source": [
    "sql_statement = \"CALL stlrmls.dw.getpropensityproductmulticlasstraining(6, 2010, 2019); SELECT * from result_set;\"\n",
    " \n",
    "df = wr.data_api.redshift.read_sql_query(\n",
    "    sql = sql_statement, \n",
    "    con = conn\n",
    ")"
   ]
  },
  {
   "cell_type": "code",
   "execution_count": null,
   "id": "d02aa8dc",
   "metadata": {},
   "outputs": [],
   "source": []
  }
 ],
 "metadata": {
  "kernelspec": {
   "display_name": "Python 3 (ipykernel)",
   "language": "python",
   "name": "python3"
  },
  "language_info": {
   "codemirror_mode": {
    "name": "ipython",
    "version": 3
   },
   "file_extension": ".py",
   "mimetype": "text/x-python",
   "name": "python",
   "nbconvert_exporter": "python",
   "pygments_lexer": "ipython3",
   "version": "3.8.5"
  }
 },
 "nbformat": 4,
 "nbformat_minor": 5
}
