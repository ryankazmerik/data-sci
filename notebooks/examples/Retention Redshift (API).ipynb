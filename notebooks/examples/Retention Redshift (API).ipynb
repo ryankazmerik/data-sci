{
 "cells": [
  {
   "cell_type": "markdown",
   "id": "6ee08766-25fd-4da1-91b8-b0c3e74db588",
   "metadata": {},
   "source": [
    "# Retention Redshift Insert (API Method)\n",
    "* StelllarAlgo Data Science\n",
    "* Ryan Kazmerik & Nakisa Rad\n",
    "* Mar 7, 2022\n",
    "\n",
    "This notebook provides example code of how to execute CRUD operations against a RedShift database using the RedShift data API. The data and databases used are for demonstration purposes only:"
   ]
  },
  {
   "cell_type": "code",
   "execution_count": 1,
   "id": "4c533efd-600e-4bce-8203-faffbddfa700",
   "metadata": {},
   "outputs": [],
   "source": [
    "import boto3\n",
    "import pandas as pd\n",
    "import awswrangler as wr"
   ]
  },
  {
   "cell_type": "markdown",
   "id": "b64ae7d5-84af-4915-bd13-1dd9d17098a3",
   "metadata": {},
   "source": [
    "### Let's create a dummy dataset to write into our RedShift database:"
   ]
  },
  {
   "cell_type": "code",
   "execution_count": 37,
   "id": "ae561eb4-f419-4d46-b5e0-12fac9b10db8",
   "metadata": {},
   "outputs": [
    {
     "data": {
      "text/html": [
       "<div>\n",
       "<style scoped>\n",
       "    .dataframe tbody tr th:only-of-type {\n",
       "        vertical-align: middle;\n",
       "    }\n",
       "\n",
       "    .dataframe tbody tr th {\n",
       "        vertical-align: top;\n",
       "    }\n",
       "\n",
       "    .dataframe thead th {\n",
       "        text-align: right;\n",
       "    }\n",
       "</style>\n",
       "<table border=\"1\" class=\"dataframe\">\n",
       "  <thead>\n",
       "    <tr style=\"text-align: right;\">\n",
       "      <th></th>\n",
       "      <th>dob</th>\n",
       "      <th>gamesplayed</th>\n",
       "      <th>injured</th>\n",
       "      <th>position</th>\n",
       "      <th>name</th>\n",
       "      <th>numassists</th>\n",
       "      <th>numgoals</th>\n",
       "      <th>pointpercentage</th>\n",
       "    </tr>\n",
       "  </thead>\n",
       "  <tbody>\n",
       "    <tr>\n",
       "      <th>0</th>\n",
       "      <td>1988-08-04</td>\n",
       "      <td>20</td>\n",
       "      <td>false</td>\n",
       "      <td>RW</td>\n",
       "      <td>Dale</td>\n",
       "      <td>24</td>\n",
       "      <td>21</td>\n",
       "      <td>2.1</td>\n",
       "    </tr>\n",
       "    <tr>\n",
       "      <th>1</th>\n",
       "      <td>1985-06-05</td>\n",
       "      <td>20</td>\n",
       "      <td>false</td>\n",
       "      <td>C</td>\n",
       "      <td>Skip</td>\n",
       "      <td>15</td>\n",
       "      <td>36</td>\n",
       "      <td>2.5</td>\n",
       "    </tr>\n",
       "    <tr>\n",
       "      <th>2</th>\n",
       "      <td>1985-03-15</td>\n",
       "      <td>15</td>\n",
       "      <td>true</td>\n",
       "      <td>LW</td>\n",
       "      <td>Sanders</td>\n",
       "      <td>20</td>\n",
       "      <td>30</td>\n",
       "      <td>1.9</td>\n",
       "    </tr>\n",
       "    <tr>\n",
       "      <th>3</th>\n",
       "      <td>1983-02-20</td>\n",
       "      <td>20</td>\n",
       "      <td>false</td>\n",
       "      <td>LD</td>\n",
       "      <td>Patty</td>\n",
       "      <td>38</td>\n",
       "      <td>12</td>\n",
       "      <td>1.5</td>\n",
       "    </tr>\n",
       "    <tr>\n",
       "      <th>4</th>\n",
       "      <td>1987-08-04</td>\n",
       "      <td>18</td>\n",
       "      <td>false</td>\n",
       "      <td>RD</td>\n",
       "      <td>Reynolds</td>\n",
       "      <td>16</td>\n",
       "      <td>6</td>\n",
       "      <td>0.8</td>\n",
       "    </tr>\n",
       "  </tbody>\n",
       "</table>\n",
       "</div>"
      ],
      "text/plain": [
       "          dob gamesplayed injured position      name numassists numgoals  \\\n",
       "0  1988-08-04          20   false       RW      Dale         24       21   \n",
       "1  1985-06-05          20   false        C      Skip         15       36   \n",
       "2  1985-03-15          15    true       LW   Sanders         20       30   \n",
       "3  1983-02-20          20   false       LD     Patty         38       12   \n",
       "4  1987-08-04          18   false       RD  Reynolds         16        6   \n",
       "\n",
       "  pointpercentage  \n",
       "0             2.1  \n",
       "1             2.5  \n",
       "2             1.9  \n",
       "3             1.5  \n",
       "4             0.8  "
      ]
     },
     "execution_count": 37,
     "metadata": {},
     "output_type": "execute_result"
    }
   ],
   "source": [
    "players = [\n",
    "    {\"dob\":\"1988-08-04\",\"gamesplayed\":\"20\",\"injured\":\"false\",\"position\":\"RW\",\"name\":\"Dale\",\"numassists\":\"24\",\"numgoals\":\"21\",\"pointpercentage\":\"2.1\"},\n",
    "    {\"dob\":\"1985-06-05\",\"gamesplayed\":\"20\",\"injured\":\"false\",\"position\":\"C\",\"name\":\"Skip\",\"numassists\":\"15\",\"numgoals\":\"36\",\"pointpercentage\":\"2.5\"},\n",
    "    {\"dob\":\"1985-03-15\",\"gamesplayed\":\"15\",\"injured\":\"true\",\"position\":\"LW\",\"name\":\"Sanders\",\"numassists\":\"20\",\"numgoals\":\"30\",\"pointpercentage\":\"1.9\"},\n",
    "    {\"dob\":\"1983-02-20\",\"gamesplayed\":\"20\",\"injured\":\"false\",\"position\":\"LD\",\"name\":\"Patty\",\"numassists\":\"38\",\"numgoals\":\"12\",\"pointpercentage\":\"1.5\"},\n",
    "    {\"dob\":\"1987-08-04\",\"gamesplayed\":\"18\",\"injured\":\"false\",\"position\":\"RD\",\"name\":\"Reynolds\",\"numassists\":\"16\",\"numgoals\":\"6\",\"pointpercentage\":\"0.8\"}\n",
    "]\n",
    "\n",
    "df_players = pd.DataFrame(data=players)\n",
    "\n",
    "df_players.head()"
   ]
  },
  {
   "cell_type": "markdown",
   "id": "6d6c614f-288b-4a88-97dc-7ffc1d1c7ec9",
   "metadata": {},
   "source": [
    "### To connect to RedShift, we have to tell AWS which profile we'd like to login to, this will send us for a browser authentication trip:"
   ]
  },
  {
   "cell_type": "code",
   "execution_count": 29,
   "id": "79dd57e8-d578-4755-89fb-446362735a05",
   "metadata": {},
   "outputs": [
    {
     "name": "stdout",
     "output_type": "stream",
     "text": [
      "Attempting to automatically open the SSO authorization page in your default browser.\n",
      "If the browser does not open or you wish to use a different device to authorize this request, open the following URL:\n",
      "\n",
      "https://device.sso.us-east-1.amazonaws.com/\n",
      "\n",
      "Then enter the code:\n",
      "\n",
      "DMZB-PXLG\n",
      "Successully logged into Start URL: https://stellaralgo.awsapps.com/start\n"
     ]
    }
   ],
   "source": [
    "! aws sso login --profile Stellaralgo-DataScienceAdmin"
   ]
  },
  {
   "cell_type": "markdown",
   "id": "86107c38-fad6-46ef-82ca-59aee70e49b3",
   "metadata": {},
   "source": [
    "### Now we can create a session and client to RedShift (QA), and create a new connection using AWS wrangler:"
   ]
  },
  {
   "cell_type": "code",
   "execution_count": 4,
   "id": "cf384e2d-a506-4df0-a61d-275ce0c5fcb9",
   "metadata": {},
   "outputs": [
    {
     "name": "stdout",
     "output_type": "stream",
     "text": [
      "CREDENTIALS RETRIEVED SUCCESSFULLY!\n"
     ]
    }
   ],
   "source": [
    "session = boto3.setup_default_session(profile_name='Stellaralgo-DataScienceAdmin')\n",
    "client = boto3.client('redshift')\n",
    "\n",
    "dbname = 'datascience'\n",
    "schema = 'ds'\n",
    "table = 'dummytable'\n",
    "    \n",
    "conn = wr.data_api.redshift.connect(\n",
    "    cluster_id = \"qa-app\",\n",
    "    database = dbname,\n",
    "    db_user = \"admin\"\n",
    ")\n",
    "\n",
    "print(\"CREDENTIALS RETRIEVED SUCCESSFULLY!\")"
   ]
  },
  {
   "cell_type": "markdown",
   "id": "5823cf40-b19e-41f9-abb8-958b7ed4154d",
   "metadata": {},
   "source": [
    "### Let's insert our dataframe of team members into the dummy table:"
   ]
  },
  {
   "cell_type": "code",
   "execution_count": 38,
   "id": "14e3dd74-8e46-4436-b6b2-89ea42b8e055",
   "metadata": {},
   "outputs": [
    {
     "name": "stdout",
     "output_type": "stream",
     "text": [
      "INSERTING 5 PLAYERS INTO DUMMY TABLE:\n",
      " > ADDED PLAYER 1 TO ROSTER\n",
      " > ADDED PLAYER 2 TO ROSTER\n",
      " > ADDED PLAYER 3 TO ROSTER\n",
      " > ADDED PLAYER 4 TO ROSTER\n",
      " > ADDED PLAYER 5 TO ROSTER\n",
      "INSERTED 5 INTO: datascience.ds.dummytable\n"
     ]
    }
   ],
   "source": [
    "print(f\"INSERTING {len(df_players)} PLAYERS INTO DUMMY TABLE:\")\n",
    "\n",
    "fields = f\"\"\"\n",
    "    INSERT INTO {dbname}.{schema}.{table} (\n",
    "        dob,\n",
    "        gamesplayed,\n",
    "        injured,\n",
    "        position,\n",
    "        name,\n",
    "        numassists,\n",
    "        numgoals,\n",
    "        pointpercentage\n",
    "    ) VALUES \"\"\"\n",
    "\n",
    "\n",
    "values_list = []\n",
    "for i, player in df_players.iterrows():\n",
    "    \n",
    "    values = f\"\"\"(\n",
    "        '{player[\"dob\"]}',\n",
    "        {player[\"gamesplayed\"]},\n",
    "        {player[\"injured\"]},\n",
    "        '{player[\"position\"]}',\n",
    "        '{player[\"name\"]}',\n",
    "        {player[\"numassists\"]},\n",
    "        {player[\"numgoals\"]},\n",
    "        {player[\"pointpercentage\"]}\n",
    "    )\"\"\"\n",
    "    \n",
    "    values_list.append(values)\n",
    "    print(f\" > ADDED PLAYER {i+1} TO ROSTER\")\n",
    "\n",
    "insert_statement = fields + \",\".join(values_list)+\";\"\n",
    " \n",
    "wr.data_api.redshift.read_sql_query(\n",
    "    sql = insert_statement, \n",
    "    con = conn\n",
    ")\n",
    "    \n",
    "print(f\"INSERTED {len(df_players)} PLAYERS INTO: {dbname}.{schema}.{table}\")"
   ]
  },
  {
   "cell_type": "markdown",
   "id": "c607ff1e-2dcb-4885-8deb-ba23941cb6a2",
   "metadata": {},
   "source": [
    "### Now we can query the table directly to get back our records, let's just get back players who are not injured:"
   ]
  },
  {
   "cell_type": "code",
   "execution_count": 39,
   "id": "0fb58a5d-1ae8-42f3-a425-b73ca0952115",
   "metadata": {},
   "outputs": [
    {
     "name": "stdout",
     "output_type": "stream",
     "text": [
      "HEALTHY PLAYERS: 4\n"
     ]
    },
    {
     "data": {
      "text/html": [
       "<div>\n",
       "<style scoped>\n",
       "    .dataframe tbody tr th:only-of-type {\n",
       "        vertical-align: middle;\n",
       "    }\n",
       "\n",
       "    .dataframe tbody tr th {\n",
       "        vertical-align: top;\n",
       "    }\n",
       "\n",
       "    .dataframe thead th {\n",
       "        text-align: right;\n",
       "    }\n",
       "</style>\n",
       "<table border=\"1\" class=\"dataframe\">\n",
       "  <thead>\n",
       "    <tr style=\"text-align: right;\">\n",
       "      <th></th>\n",
       "      <th>playerid</th>\n",
       "      <th>dob</th>\n",
       "      <th>gamesplayed</th>\n",
       "      <th>injured</th>\n",
       "      <th>position</th>\n",
       "      <th>name</th>\n",
       "      <th>numassists</th>\n",
       "      <th>numgoals</th>\n",
       "      <th>pointpercentage</th>\n",
       "    </tr>\n",
       "  </thead>\n",
       "  <tbody>\n",
       "    <tr>\n",
       "      <th>0</th>\n",
       "      <td>1</td>\n",
       "      <td>1988-08-04</td>\n",
       "      <td>20</td>\n",
       "      <td>false</td>\n",
       "      <td>RW</td>\n",
       "      <td>Dale</td>\n",
       "      <td>24</td>\n",
       "      <td>21</td>\n",
       "      <td>2.1</td>\n",
       "    </tr>\n",
       "    <tr>\n",
       "      <th>1</th>\n",
       "      <td>2</td>\n",
       "      <td>1985-06-05</td>\n",
       "      <td>20</td>\n",
       "      <td>false</td>\n",
       "      <td>C</td>\n",
       "      <td>Skip</td>\n",
       "      <td>15</td>\n",
       "      <td>36</td>\n",
       "      <td>2.5</td>\n",
       "    </tr>\n",
       "    <tr>\n",
       "      <th>2</th>\n",
       "      <td>4</td>\n",
       "      <td>1983-02-20</td>\n",
       "      <td>20</td>\n",
       "      <td>false</td>\n",
       "      <td>LD</td>\n",
       "      <td>Patty</td>\n",
       "      <td>38</td>\n",
       "      <td>12</td>\n",
       "      <td>1.5</td>\n",
       "    </tr>\n",
       "    <tr>\n",
       "      <th>3</th>\n",
       "      <td>5</td>\n",
       "      <td>1987-08-04</td>\n",
       "      <td>18</td>\n",
       "      <td>false</td>\n",
       "      <td>RD</td>\n",
       "      <td>Reynolds</td>\n",
       "      <td>16</td>\n",
       "      <td>6</td>\n",
       "      <td>0.8</td>\n",
       "    </tr>\n",
       "  </tbody>\n",
       "</table>\n",
       "</div>"
      ],
      "text/plain": [
       "   playerid         dob  gamesplayed injured position      name  numassists  \\\n",
       "0         1  1988-08-04           20   false       RW      Dale          24   \n",
       "1         2  1985-06-05           20   false        C      Skip          15   \n",
       "2         4  1983-02-20           20   false       LD     Patty          38   \n",
       "3         5  1987-08-04           18   false       RD  Reynolds          16   \n",
       "\n",
       "   numgoals  pointpercentage  \n",
       "0        21              2.1  \n",
       "1        36              2.5  \n",
       "2        12              1.5  \n",
       "3         6              0.8  "
      ]
     },
     "execution_count": 39,
     "metadata": {},
     "output_type": "execute_result"
    }
   ],
   "source": [
    "select_statement = f\"\"\"\n",
    "    SELECT *\n",
    "    FROM {dbname}.{schema}.{table}\n",
    "    WHERE injured = False\n",
    "\"\"\"\n",
    "\n",
    "df_healthy = wr.data_api.redshift.read_sql_query(\n",
    "    sql = select_statement, \n",
    "    con = conn\n",
    ")\n",
    "\n",
    "print(f\"HEALTHY PLAYERS: {df_healthy.shape[0]}\")\n",
    "df_healthy.head()"
   ]
  },
  {
   "cell_type": "markdown",
   "id": "ea366591-69d2-43a9-b4ea-49fa7cb95898",
   "metadata": {},
   "source": [
    "### Now let's update the player stats (goals, assists & points percentage):"
   ]
  },
  {
   "cell_type": "code",
   "execution_count": 45,
   "id": "7804beff-78be-436e-bcfb-f2586d8d66e6",
   "metadata": {},
   "outputs": [
    {
     "name": "stdout",
     "output_type": "stream",
     "text": [
      "UPDATED 5 PLAYERS IN: datascience.ds.dummytable\n"
     ]
    }
   ],
   "source": [
    "update_statement = f\"\"\"\n",
    "    UPDATE {dbname}.{schema}.{table}\n",
    "    SET gamesplayed = gamesplayed + 1\n",
    "\"\"\"\n",
    "\n",
    "wr.data_api.redshift.read_sql_query(\n",
    "    sql = update_statement, \n",
    "    con = conn\n",
    ")\n",
    "\n",
    "print(f\"UPDATED {len(df_players)} PLAYERS IN: {dbname}.{schema}.{table}\")"
   ]
  },
  {
   "cell_type": "markdown",
   "id": "2e3383ab-7855-46fb-b563-ecd3367cbcb5",
   "metadata": {},
   "source": [
    "### We can also delete all of the players from our table:"
   ]
  },
  {
   "cell_type": "code",
   "execution_count": 32,
   "id": "20ac33c3-3f9e-4a09-91c8-08dfbfdcd09f",
   "metadata": {},
   "outputs": [
    {
     "data": {
      "text/html": [
       "<div>\n",
       "<style scoped>\n",
       "    .dataframe tbody tr th:only-of-type {\n",
       "        vertical-align: middle;\n",
       "    }\n",
       "\n",
       "    .dataframe tbody tr th {\n",
       "        vertical-align: top;\n",
       "    }\n",
       "\n",
       "    .dataframe thead th {\n",
       "        text-align: right;\n",
       "    }\n",
       "</style>\n",
       "<table border=\"1\" class=\"dataframe\">\n",
       "  <thead>\n",
       "    <tr style=\"text-align: right;\">\n",
       "      <th></th>\n",
       "    </tr>\n",
       "  </thead>\n",
       "  <tbody>\n",
       "  </tbody>\n",
       "</table>\n",
       "</div>"
      ],
      "text/plain": [
       "Empty DataFrame\n",
       "Columns: []\n",
       "Index: []"
      ]
     },
     "execution_count": 32,
     "metadata": {},
     "output_type": "execute_result"
    }
   ],
   "source": [
    "delete_statement = f\"\"\"\n",
    "    DELETE \n",
    "    FROM {dbname}.{schema}.{table}\n",
    "\"\"\"\n",
    "\n",
    "wr.data_api.redshift.read_sql_query(\n",
    "    sql = delete_statement, \n",
    "    con = conn\n",
    ")"
   ]
  },
  {
   "cell_type": "markdown",
   "id": "bfb79040-7f19-4a04-84d5-e71a7e3b45ed",
   "metadata": {},
   "source": [
    "### Let's query the entire table again to see if it's empty:"
   ]
  },
  {
   "cell_type": "code",
   "execution_count": 46,
   "id": "9a44c8bc-5cfe-4f0a-a753-d8897376bda1",
   "metadata": {},
   "outputs": [
    {
     "name": "stdout",
     "output_type": "stream",
     "text": [
      "TOTAL PLAYERS: 5\n"
     ]
    },
    {
     "data": {
      "text/html": [
       "<div>\n",
       "<style scoped>\n",
       "    .dataframe tbody tr th:only-of-type {\n",
       "        vertical-align: middle;\n",
       "    }\n",
       "\n",
       "    .dataframe tbody tr th {\n",
       "        vertical-align: top;\n",
       "    }\n",
       "\n",
       "    .dataframe thead th {\n",
       "        text-align: right;\n",
       "    }\n",
       "</style>\n",
       "<table border=\"1\" class=\"dataframe\">\n",
       "  <thead>\n",
       "    <tr style=\"text-align: right;\">\n",
       "      <th></th>\n",
       "      <th>playerid</th>\n",
       "      <th>dob</th>\n",
       "      <th>gamesplayed</th>\n",
       "      <th>injured</th>\n",
       "      <th>position</th>\n",
       "      <th>name</th>\n",
       "      <th>numassists</th>\n",
       "      <th>numgoals</th>\n",
       "      <th>pointpercentage</th>\n",
       "    </tr>\n",
       "  </thead>\n",
       "  <tbody>\n",
       "    <tr>\n",
       "      <th>0</th>\n",
       "      <td>1</td>\n",
       "      <td>1988-08-04</td>\n",
       "      <td>22</td>\n",
       "      <td>false</td>\n",
       "      <td>RW</td>\n",
       "      <td>Dale</td>\n",
       "      <td>24</td>\n",
       "      <td>21</td>\n",
       "      <td>2.1</td>\n",
       "    </tr>\n",
       "    <tr>\n",
       "      <th>1</th>\n",
       "      <td>2</td>\n",
       "      <td>1985-06-05</td>\n",
       "      <td>22</td>\n",
       "      <td>false</td>\n",
       "      <td>C</td>\n",
       "      <td>Skip</td>\n",
       "      <td>15</td>\n",
       "      <td>36</td>\n",
       "      <td>2.5</td>\n",
       "    </tr>\n",
       "    <tr>\n",
       "      <th>2</th>\n",
       "      <td>3</td>\n",
       "      <td>1985-03-15</td>\n",
       "      <td>17</td>\n",
       "      <td>true</td>\n",
       "      <td>LW</td>\n",
       "      <td>Sanders</td>\n",
       "      <td>20</td>\n",
       "      <td>30</td>\n",
       "      <td>1.9</td>\n",
       "    </tr>\n",
       "    <tr>\n",
       "      <th>3</th>\n",
       "      <td>4</td>\n",
       "      <td>1983-02-20</td>\n",
       "      <td>22</td>\n",
       "      <td>false</td>\n",
       "      <td>LD</td>\n",
       "      <td>Patty</td>\n",
       "      <td>38</td>\n",
       "      <td>12</td>\n",
       "      <td>1.5</td>\n",
       "    </tr>\n",
       "    <tr>\n",
       "      <th>4</th>\n",
       "      <td>5</td>\n",
       "      <td>1987-08-04</td>\n",
       "      <td>20</td>\n",
       "      <td>false</td>\n",
       "      <td>RD</td>\n",
       "      <td>Reynolds</td>\n",
       "      <td>16</td>\n",
       "      <td>6</td>\n",
       "      <td>0.8</td>\n",
       "    </tr>\n",
       "  </tbody>\n",
       "</table>\n",
       "</div>"
      ],
      "text/plain": [
       "   playerid         dob  gamesplayed injured position      name  numassists  \\\n",
       "0         1  1988-08-04           22   false       RW      Dale          24   \n",
       "1         2  1985-06-05           22   false        C      Skip          15   \n",
       "2         3  1985-03-15           17    true       LW   Sanders          20   \n",
       "3         4  1983-02-20           22   false       LD     Patty          38   \n",
       "4         5  1987-08-04           20   false       RD  Reynolds          16   \n",
       "\n",
       "   numgoals  pointpercentage  \n",
       "0        21              2.1  \n",
       "1        36              2.5  \n",
       "2        30              1.9  \n",
       "3        12              1.5  \n",
       "4         6              0.8  "
      ]
     },
     "execution_count": 46,
     "metadata": {},
     "output_type": "execute_result"
    }
   ],
   "source": [
    "sql_statement = f\"\"\"\n",
    "    SELECT *\n",
    "    FROM {dbname}.{schema}.{table}\n",
    "\"\"\"\n",
    "\n",
    "df_result = wr.data_api.redshift.read_sql_query(\n",
    "    sql = sql_statement, \n",
    "    con = conn\n",
    ")\n",
    "\n",
    "print(f\"TOTAL PLAYERS: {df_result.shape[0]}\")\n",
    "df_result.head()"
   ]
  },
  {
   "cell_type": "markdown",
   "id": "7bfd4fa4-8a80-426b-be61-b5e6de1ca83b",
   "metadata": {},
   "source": [
    "### This notebook demonstrated some simple SQL statements for creating, reading, updating and deleting records from an AWS RedShift table. \n",
    "\n",
    "### Full documentation can be found at: https://docs.aws.amazon.com/redshift/index.html"
   ]
  },
  {
   "cell_type": "code",
   "execution_count": null,
   "id": "8e6dba8d-eea8-42eb-828e-d03cb5af4a79",
   "metadata": {},
   "outputs": [],
   "source": []
  }
 ],
 "metadata": {
  "kernelspec": {
   "display_name": "Python 3 (ipykernel)",
   "language": "python",
   "name": "python3"
  },
  "language_info": {
   "codemirror_mode": {
    "name": "ipython",
    "version": 3
   },
   "file_extension": ".py",
   "mimetype": "text/x-python",
   "name": "python",
   "nbconvert_exporter": "python",
   "pygments_lexer": "ipython3",
   "version": "3.8.5"
  }
 },
 "nbformat": 4,
 "nbformat_minor": 5
}
