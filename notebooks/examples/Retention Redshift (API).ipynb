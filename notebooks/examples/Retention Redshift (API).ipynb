{
 "cells": [
  {
   "cell_type": "markdown",
   "id": "6ee08766-25fd-4da1-91b8-b0c3e74db588",
   "metadata": {},
   "source": [
    "# Retention Redshift Insert (API Method)\n",
    "* StelllarAlgo Data Science\n",
    "* Ryan Kazmerik & Nakisa Rad\n",
    "* Mar 7, 2022"
   ]
  },
  {
   "cell_type": "code",
   "execution_count": 8,
   "id": "4c533efd-600e-4bce-8203-faffbddfa700",
   "metadata": {},
   "outputs": [],
   "source": [
    "import boto3\n",
    "import getpass\n",
    "import pandas as pd\n",
    "import pyodbc\n",
    "import matplotlib.pyplot as plt\n",
    "import awswrangler as wr\n",
    "\n",
    "from datetime import datetime\n",
    "from pytz import timezone\n",
    "from pycaret.classification import *"
   ]
  },
  {
   "cell_type": "markdown",
   "id": "b64ae7d5-84af-4915-bd13-1dd9d17098a3",
   "metadata": {},
   "source": [
    "### Let's connect to MSSQL and run a stored proc to get our dataset:"
   ]
  },
  {
   "cell_type": "code",
   "execution_count": 9,
   "id": "ae561eb4-f419-4d46-b5e0-12fac9b10db8",
   "metadata": {},
   "outputs": [
    {
     "name": "stdin",
     "output_type": "stream",
     "text": [
      "Enter your password ····················\n"
     ]
    }
   ],
   "source": [
    "# connect to SQL Server.\n",
    "SERVER = '52.44.171.130' \n",
    "DATABASE = 'datascience' \n",
    "USERNAME = 'dsAdminWrite' \n",
    "PASSWORD = getpass.getpass(prompt='Enter your password')\n",
    "CNXN = pyodbc.connect('DRIVER={ODBC Driver 17 for SQL Server};SERVER='+SERVER+';DATABASE='+DATABASE+';UID='+USERNAME+';PWD='+ PASSWORD)"
   ]
  },
  {
   "cell_type": "code",
   "execution_count": 10,
   "id": "af1afe7d-a35b-494b-88f3-980fb0e3da30",
   "metadata": {},
   "outputs": [
    {
     "name": "stdout",
     "output_type": "stream",
     "text": [
      "<class 'pandas.core.frame.DataFrame'>\n",
      "RangeIndex: 34454 entries, 0 to 34453\n",
      "Data columns (total 54 columns):\n",
      " #   Column                  Non-Null Count  Dtype  \n",
      "---  ------                  --------------  -----  \n",
      " 0   lkupClientId            34454 non-null  int64  \n",
      " 1   dimCustomerMasterId     34454 non-null  int64  \n",
      " 2   customerNumber          34454 non-null  object \n",
      " 3   year                    34454 non-null  int64  \n",
      " 4   productGrouping         34454 non-null  object \n",
      " 5   totalSpent              34454 non-null  float64\n",
      " 6   recentDate              34454 non-null  object \n",
      " 7   attendancePercent       34454 non-null  float64\n",
      " 8   renewedBeforeDays       34452 non-null  float64\n",
      " 9   isBuyer                 34454 non-null  object \n",
      " 10  source_tenure           34454 non-null  int64  \n",
      " 11  tenure                  34452 non-null  float64\n",
      " 12  distToVenue             34454 non-null  float64\n",
      " 13  totalGames              34454 non-null  int64  \n",
      " 14  recency                 34454 non-null  int64  \n",
      " 15  missed_games_1          34454 non-null  int64  \n",
      " 16  missed_games_2          34454 non-null  int64  \n",
      " 17  missed_games_over_2     34454 non-null  int64  \n",
      " 18  click_link              34454 non-null  int64  \n",
      " 19  fill_out_form           34454 non-null  int64  \n",
      " 20  open_email              34454 non-null  int64  \n",
      " 21  send_email              34454 non-null  int64  \n",
      " 22  unsubscribe_email       34454 non-null  int64  \n",
      " 23  openToSendRatio         34454 non-null  float64\n",
      " 24  clickToSendRatio        34454 non-null  float64\n",
      " 25  clickToOpenRatio        34454 non-null  float64\n",
      " 26  posting_records         34454 non-null  int64  \n",
      " 27  resale_records          34454 non-null  int64  \n",
      " 28  resale_atp              34454 non-null  float64\n",
      " 29  forward_records         34454 non-null  int64  \n",
      " 30  cancel_records          34454 non-null  int64  \n",
      " 31  email                   34454 non-null  int64  \n",
      " 32  inbound_email           34454 non-null  int64  \n",
      " 33  inbound_phonecall       34454 non-null  int64  \n",
      " 34  inperson_contact        34454 non-null  int64  \n",
      " 35  internal_note           34454 non-null  int64  \n",
      " 36  left_message            34454 non-null  int64  \n",
      " 37  outbound_email          34454 non-null  int64  \n",
      " 38  outbound_phonecall      34454 non-null  int64  \n",
      " 39  phonecall               34454 non-null  int64  \n",
      " 40  text                    34454 non-null  int64  \n",
      " 41  unknown                 34454 non-null  int64  \n",
      " 42  gender                  34454 non-null  object \n",
      " 43  childrenPresentInHH     34454 non-null  int64  \n",
      " 44  maritalStatus           34454 non-null  int64  \n",
      " 45  lengthOfResidenceInYrs  0 non-null      object \n",
      " 46  annualHHIncome          0 non-null      object \n",
      " 47  education               0 non-null      object \n",
      " 48  urbanicity              0 non-null      object \n",
      " 49  credits_after_refund    34454 non-null  float64\n",
      " 50  is_Lockdown             34454 non-null  int64  \n",
      " 51  NumberofGamesPerSeason  34454 non-null  int64  \n",
      " 52  CNTPostponedGames       0 non-null      object \n",
      " 53  isNextYear_Buyer        34454 non-null  int64  \n",
      "dtypes: float64(10), int64(34), object(10)\n",
      "memory usage: 14.2+ MB\n"
     ]
    }
   ],
   "source": [
    "lkupclientid = 11\n",
    "dbname = 'stlrmilb'\n",
    "\n",
    "cursor = CNXN.cursor()\n",
    "\n",
    "storedProc = (\n",
    "    f\"\"\"Exec {dbname}.[ds].[getRetentionScoringModelData] {lkupclientid}\"\"\"\n",
    ")\n",
    "\n",
    "df = pd.read_sql(storedProc, CNXN)\n",
    "\n",
    "# apply some data transformations\n",
    "df[\"year\"] = pd.to_numeric(df[\"year\"])\n",
    "\n",
    "CNXN.commit()\n",
    "cursor.close()\n",
    "\n",
    "df.info()"
   ]
  },
  {
   "cell_type": "markdown",
   "id": "ab40da92-72a7-49c1-9829-ed3805a39719",
   "metadata": {},
   "source": [
    "### We should specify the features used in our model:"
   ]
  },
  {
   "cell_type": "code",
   "execution_count": 11,
   "id": "788f1273-8b7a-46bd-a099-1a471feeacc5",
   "metadata": {},
   "outputs": [
    {
     "name": "stdout",
     "output_type": "stream",
     "text": [
      "Data for Modeling: (26236, 11)\n",
      "Unseen Data For Predictions: (4630, 11)\n",
      "\n"
     ]
    }
   ],
   "source": [
    "# choose the features for the stellar base retention model\n",
    "features = [\n",
    "    \"dimCustomerMasterId\",\n",
    "    \"attendancePercent\",\n",
    "    \"distToVenue\",\n",
    "    \"isNextYear_Buyer\",\n",
    "    \"lkupClientId\",\n",
    "    \"productGrouping\",\n",
    "    \"recency\",\n",
    "    \"recentDate\",\n",
    "    \"source_tenure\",\n",
    "    \"totalSpent\",\n",
    "    \"year\"\n",
    "]\n",
    "\n",
    "# copy your main dataframe\n",
    "df_dataset = df\n",
    "\n",
    "# choose the features & train year & test year\n",
    "df_dataset = df_dataset[features]\n",
    "df_dataset[\"year\"] = pd.to_numeric(df_dataset[\"year\"])\n",
    "df_dataset = df_dataset.loc[df_dataset[\"year\"] <= 2019]\n",
    "\n",
    "df_train = df_dataset.sample(frac=0.85, random_state=786)\n",
    "df_eval = df_dataset.drop(df_train.index)\n",
    "\n",
    "df_train.reset_index(drop=True, inplace=True)\n",
    "df_eval.reset_index(drop=True, inplace=True)\n",
    "\n",
    "# print out the number of records for training and eval\n",
    "print('Data for Modeling: ' + str(df_train.shape))\n",
    "print('Unseen Data For Predictions: ' + str(df_eval.shape), end=\"\\n\\n\")"
   ]
  },
  {
   "cell_type": "markdown",
   "id": "4f2da06d-9015-49fd-89b3-956c2ebf66e9",
   "metadata": {},
   "source": [
    "### Now we can model the data using a binary classification prediction for the isnextyear_buyer field to see how likely a customer is to re-purchase."
   ]
  },
  {
   "cell_type": "code",
   "execution_count": 13,
   "id": "23a69cdc-b3ec-48c8-9ce5-29f617779389",
   "metadata": {},
   "outputs": [],
   "source": [
    "setup(\n",
    "    data= df_train, \n",
    "    target=\"isNextYear_Buyer\", \n",
    "    train_size = 0.85,\n",
    "    data_split_shuffle=True,\n",
    "    ignore_features=[\n",
    "        \"dimCustomerMasterId\",\n",
    "        \"lkupClientId\",\n",
    "        \"productGrouping\",\n",
    "        \"recentDate\",\n",
    "        \"year\"\n",
    "    ],\n",
    "    silent=True,\n",
    "    verbose=False,\n",
    "    numeric_features=[\n",
    "        \"attendancePercent\",\n",
    "        \"distToVenue\",\n",
    "        \"recency\",\n",
    "        \"source_tenure\",\n",
    "        \"totalSpent\"\n",
    "    ]\n",
    ");"
   ]
  },
  {
   "cell_type": "markdown",
   "id": "6e1e33e8-ed5f-4e84-abb2-a2fc8370905c",
   "metadata": {},
   "source": [
    "### The evaluation output prints a score grid that shows average Accuracy, AUC, Recall, Precision, F1 and Kappa accross the folds (10 by default) along with training time:"
   ]
  },
  {
   "cell_type": "code",
   "execution_count": 14,
   "id": "ef2db9d2-02c2-45c0-b6bb-5cad42c373ce",
   "metadata": {},
   "outputs": [
    {
     "data": {
      "text/html": [
       "<style  type=\"text/css\" >\n",
       "    #T_79bff_ th {\n",
       "          text-align: left;\n",
       "    }#T_79bff_row0_col0{\n",
       "            text-align:  left;\n",
       "            text-align:  left;\n",
       "        }#T_79bff_row0_col1,#T_79bff_row0_col2,#T_79bff_row0_col3,#T_79bff_row0_col4,#T_79bff_row0_col5,#T_79bff_row0_col6,#T_79bff_row0_col7{\n",
       "            text-align:  left;\n",
       "            text-align:  left;\n",
       "            background-color:  yellow;\n",
       "        }#T_79bff_row0_col8{\n",
       "            text-align:  left;\n",
       "            text-align:  left;\n",
       "            background-color:  yellow;\n",
       "            background-color:  lightgrey;\n",
       "        }</style><table id=\"T_79bff_\" ><thead>    <tr>        <th class=\"blank level0\" ></th>        <th class=\"col_heading level0 col0\" >Model</th>        <th class=\"col_heading level0 col1\" >Accuracy</th>        <th class=\"col_heading level0 col2\" >AUC</th>        <th class=\"col_heading level0 col3\" >Recall</th>        <th class=\"col_heading level0 col4\" >Prec.</th>        <th class=\"col_heading level0 col5\" >F1</th>        <th class=\"col_heading level0 col6\" >Kappa</th>        <th class=\"col_heading level0 col7\" >MCC</th>        <th class=\"col_heading level0 col8\" >TT (Sec)</th>    </tr></thead><tbody>\n",
       "                <tr>\n",
       "                        <th id=\"T_79bff_level0_row0\" class=\"row_heading level0 row0\" >xgboost</th>\n",
       "                        <td id=\"T_79bff_row0_col0\" class=\"data row0 col0\" >Extreme Gradient Boosting</td>\n",
       "                        <td id=\"T_79bff_row0_col1\" class=\"data row0 col1\" >0.7516</td>\n",
       "                        <td id=\"T_79bff_row0_col2\" class=\"data row0 col2\" >0.8259</td>\n",
       "                        <td id=\"T_79bff_row0_col3\" class=\"data row0 col3\" >0.2761</td>\n",
       "                        <td id=\"T_79bff_row0_col4\" class=\"data row0 col4\" >0.7923</td>\n",
       "                        <td id=\"T_79bff_row0_col5\" class=\"data row0 col5\" >0.4094</td>\n",
       "                        <td id=\"T_79bff_row0_col6\" class=\"data row0 col6\" >0.2960</td>\n",
       "                        <td id=\"T_79bff_row0_col7\" class=\"data row0 col7\" >0.3621</td>\n",
       "                        <td id=\"T_79bff_row0_col8\" class=\"data row0 col8\" >0.7600</td>\n",
       "            </tr>\n",
       "    </tbody></table>"
      ],
      "text/plain": [
       "<pandas.io.formats.style.Styler at 0x7fea2f6bee10>"
      ]
     },
     "metadata": {},
     "output_type": "display_data"
    }
   ],
   "source": [
    "model_matrix = compare_models(\n",
    "    fold= 10,\n",
    "    include= [\"xgboost\"],\n",
    "    probability_threshold= 0.75\n",
    ")\n",
    "\n",
    "final_model = finalize_model(model_matrix)"
   ]
  },
  {
   "cell_type": "markdown",
   "id": "3aab9021-4462-423a-8e3c-fbe1f36c6110",
   "metadata": {},
   "source": [
    "### Let's load in our 2021 season data and get retention scores using the model:"
   ]
  },
  {
   "cell_type": "code",
   "execution_count": 15,
   "id": "c249a813-c882-4869-9490-6ab766a8c223",
   "metadata": {},
   "outputs": [
    {
     "data": {
      "text/plain": [
       "(3581, 11)"
      ]
     },
     "execution_count": 15,
     "metadata": {},
     "output_type": "execute_result"
    }
   ],
   "source": [
    "df_inference = df.loc[df[\"year\"] >= 2021]\n",
    "df_inference = df_inference.fillna(0)\n",
    "df_inference = df_inference[features]\n",
    "\n",
    "df_inference.shape"
   ]
  },
  {
   "cell_type": "code",
   "execution_count": 16,
   "id": "658464e2-ba98-4875-a7f2-c8f0ba581d89",
   "metadata": {},
   "outputs": [],
   "source": [
    "df_predictions = (predict_model(final_model, data=df_inference, raw_score=True))\n",
    "df_predictions = df_predictions[df_predictions[\"Score_1\"] >= 0.025]"
   ]
  },
  {
   "cell_type": "markdown",
   "id": "12e0b1a1-f440-43f9-ab6a-374134eb4684",
   "metadata": {},
   "source": [
    "### We can create some histograms to visualize each model distribution:"
   ]
  },
  {
   "cell_type": "code",
   "execution_count": 17,
   "id": "d815f4f6-4f04-47b0-972b-a708ecf8a772",
   "metadata": {},
   "outputs": [
    {
     "data": {
      "image/png": "[encoded data removed]",
      "text/plain": [
       "<Figure size 576x396 with 1 Axes>"
      ]
     },
     "metadata": {},
     "output_type": "display_data"
    }
   ],
   "source": [
    "plt.title(\"Retention Scores\")\n",
    "plt.ylabel(\"Num Fans\")\n",
    "plt.xlabel(\"SA Buyer Score\")\n",
    "plt.hist(df_predictions[\"Score_1\"], bins=20, edgecolor=\"black\", range=(0,1))\n",
    "                            \n",
    "plt.show()"
   ]
  },
  {
   "cell_type": "markdown",
   "id": "c5d007b0-fe2b-401a-9445-383f1626a0df",
   "metadata": {},
   "source": [
    "### We can also see how many purchases there are in each range of scores:"
   ]
  },
  {
   "cell_type": "code",
   "execution_count": 18,
   "id": "6ee7faec-29ba-47b1-8eb2-3166d81a9b08",
   "metadata": {},
   "outputs": [
    {
     "data": {
      "text/plain": [
       "(0.95, 1.0]         3\n",
       "(0.9, 0.95]         3\n",
       "(0.85, 0.9]        37\n",
       "(0.8, 0.85]        50\n",
       "(0.75, 0.8]        33\n",
       "(0.7, 0.75]        30\n",
       "(0.65, 0.7]        52\n",
       "(0.6, 0.65]        50\n",
       "(0.55, 0.6]        87\n",
       "(0.5, 0.55]        96\n",
       "(0.45, 0.5]       132\n",
       "(0.4, 0.45]       135\n",
       "(0.35, 0.4]       136\n",
       "(0.3, 0.35]       190\n",
       "(0.25, 0.3]       206\n",
       "(0.2, 0.25]       324\n",
       "(0.15, 0.2]       347\n",
       "(0.1, 0.15]       460\n",
       "(0.05, 0.1]       540\n",
       "(-0.001, 0.05]    277\n",
       "Name: Score_1, dtype: int64"
      ]
     },
     "execution_count": 18,
     "metadata": {},
     "output_type": "execute_result"
    }
   ],
   "source": [
    "df_predictions[\"Score_1\"].value_counts(bins=np.arange(0, 1.05, 0.05)).sort_index(ascending=False)"
   ]
  },
  {
   "cell_type": "markdown",
   "id": "6d6c614f-288b-4a88-97dc-7ffc1d1c7ec9",
   "metadata": {},
   "source": [
    "### First we have to tell AWS which profile we'd like to login to, this will send us for a browser authentication trip:"
   ]
  },
  {
   "cell_type": "code",
   "execution_count": 19,
   "id": "79dd57e8-d578-4755-89fb-446362735a05",
   "metadata": {},
   "outputs": [
    {
     "name": "stdout",
     "output_type": "stream",
     "text": [
      "Attempting to automatically open the SSO authorization page in your default browser.\n",
      "If the browser does not open or you wish to use a different device to authorize this request, open the following URL:\n",
      "\n",
      "https://device.sso.us-east-1.amazonaws.com/\n",
      "\n",
      "Then enter the code:\n",
      "\n",
      "GPHG-WFKQ\n",
      "Successully logged into Start URL: https://stellaralgo.awsapps.com/start\n"
     ]
    }
   ],
   "source": [
    "! aws sso login --profile Stellaralgo-DataScienceAdmin"
   ]
  },
  {
   "cell_type": "markdown",
   "id": "86107c38-fad6-46ef-82ca-59aee70e49b3",
   "metadata": {},
   "source": [
    "### Now we can create a session and client to RedShift, and create a new connection using AWS wrangler:"
   ]
  },
  {
   "cell_type": "code",
   "execution_count": 26,
   "id": "cf384e2d-a506-4df0-a61d-275ce0c5fcb9",
   "metadata": {},
   "outputs": [
    {
     "name": "stdout",
     "output_type": "stream",
     "text": [
      "CREDENTIALS RETRIEVED SUCCESSFULLY!\n"
     ]
    }
   ],
   "source": [
    "session = boto3.setup_default_session(profile_name='Stellaralgo-DataScienceAdmin')\n",
    "client = boto3.client('redshift')\n",
    "    \n",
    "conn = wr.data_api.redshift.connect(\n",
    "    cluster_id = \"qa-app\",\n",
    "    database = dbname,\n",
    "    db_user = \"admin\"\n",
    ")\n",
    "\n",
    "print(\"CREDENTIALS RETRIEVED SUCCESSFULLY!\")"
   ]
  },
  {
   "cell_type": "markdown",
   "id": "8b3004ed-7ee4-4436-a405-0d1f1d37b836",
   "metadata": {},
   "source": [
    "### Before we insert new scores, let's grab a list of the most recent scores (currVersnFlag=1) so we can update them after the new scores are pushed:"
   ]
  },
  {
   "cell_type": "markdown",
   "id": "73505aed-8784-4cbc-b60d-6a53aba6b00f",
   "metadata": {},
   "source": [
    "### Insert the new scores into the customerRetentionScores table:"
   ]
  },
  {
   "cell_type": "code",
   "execution_count": 47,
   "id": "8db0541b-3ced-4f3d-a2d8-a90f632fd144",
   "metadata": {},
   "outputs": [],
   "source": [
    "# create batches of dataframes based on batch size\n",
    "batch_size = 250\n",
    "df_predictions_list = [\n",
    "    df_predictions[i:i + batch_size]\n",
    "    for i in range(0, df_predictions.shape[0], batch_size)\n",
    "]"
   ]
  },
  {
   "cell_type": "code",
   "execution_count": 72,
   "id": "0fb58a5d-1ae8-42f3-a425-b73ca0952115",
   "metadata": {},
   "outputs": [
    {
     "name": "stdout",
     "output_type": "stream",
     "text": [
      "INSERTING 3188 NEW RETENTION SCORES TO DATABASE:\n",
      " > INSERTED BATCH 1 : ROWS 1 - 250\n",
      " > INSERTED BATCH 2 : ROWS 251 - 500\n",
      " > INSERTED BATCH 3 : ROWS 501 - 750\n",
      " > INSERTED BATCH 4 : ROWS 751 - 1000\n",
      " > INSERTED BATCH 5 : ROWS 1001 - 1250\n",
      " > INSERTED BATCH 6 : ROWS 1251 - 1500\n",
      " > INSERTED BATCH 7 : ROWS 1501 - 1750\n",
      " > INSERTED BATCH 8 : ROWS 1751 - 2000\n",
      " > INSERTED BATCH 9 : ROWS 2001 - 2250\n",
      " > INSERTED BATCH 10 : ROWS 2251 - 2500\n",
      " > INSERTED BATCH 11 : ROWS 2501 - 2750\n",
      " > INSERTED BATCH 12 : ROWS 2751 - 3000\n",
      " > INSERTED BATCH 13 : ROWS 3001 - 3188\n",
      "RETENTION SCORE INSERTS COMPLETED!\n"
     ]
    }
   ],
   "source": [
    "print(f\"INSERTING {len(df_predictions)} NEW RETENTION SCORES TO DATABASE:\")\n",
    "\n",
    "fields = f\"\"\"\n",
    "INSERT INTO {dbname}.dw.customerretentionscores (\n",
    "    attendancePercentage,\n",
    "    currversnflag,\n",
    "    dimcustomermasterid,\n",
    "    insertdate,\n",
    "    lkupclientid,\n",
    "    mostrecentattendance,\n",
    "    product,\n",
    "    sascore,\n",
    "    seasonYear,\n",
    "    tenuredays\n",
    ") VALUES \"\"\"\n",
    "\n",
    "\n",
    "for i, df_prediction_batch in enumerate(df_predictions_list):\n",
    "\n",
    "    values_list = []\n",
    "    for index, row in (df_prediction_batch.iterrows()):\n",
    "        \n",
    "        values = f\"\"\"\n",
    "            (\n",
    "                {str(row.attendancePercent)},\n",
    "                {str(0)},\n",
    "                {str(row.dimCustomerMasterId)},\n",
    "                '{str(datetime.now().strftime(\"%Y-%m-%d %H:%M:%S\"))}',\n",
    "                {str(lkupclientid)},\n",
    "                '{str(row.recentDate)}',\n",
    "                '{str(row.productGrouping)}',\n",
    "                {str(round(row.Score_1,4))},\n",
    "                {str(row.year)},\n",
    "                {str(row.source_tenure)}\n",
    "            )\"\"\"\n",
    "\n",
    "        values_list.append(values)\n",
    "\n",
    "    insert_statement = fields + \",\".join(values_list)+\";\"\n",
    "\n",
    "    wr.data_api.redshift.read_sql_query(\n",
    "        sql = insert_statement, \n",
    "        con = conn\n",
    "    )\n",
    "    \n",
    "    print(f\" > INSERTED BATCH {i+1} : ROWS {i*batch_size + 1} - {i*batch_size + len(values_list)}\")\n",
    "\n",
    "print(\"RETENTION SCORE INSERTS COMPLETED\")"
   ]
  },
  {
   "cell_type": "markdown",
   "id": "ea366591-69d2-43a9-b4ea-49fa7cb95898",
   "metadata": {},
   "source": [
    "### Now let's update the old scores to currVersFlag = 0"
   ]
  },
  {
   "cell_type": "code",
   "execution_count": null,
   "id": "7804beff-78be-436e-bcfb-f2586d8d66e6",
   "metadata": {},
   "outputs": [],
   "source": [
    "# get a list of currVersFlag = 1 : call it prevScores\n",
    "# try inserting new scores (with currVersnFlag hardcoded to 1)\n",
    "# if that worked, update currVersFlag for prevScores to 0\n",
    "# if that failed, don't update prevScores flag to 0"
   ]
  },
  {
   "cell_type": "markdown",
   "id": "2e3383ab-7855-46fb-b563-ecd3367cbcb5",
   "metadata": {},
   "source": [
    "### Let's query RedShift to make sure our records got into the database:"
   ]
  },
  {
   "cell_type": "code",
   "execution_count": 73,
   "id": "20ac33c3-3f9e-4a09-91c8-08dfbfdcd09f",
   "metadata": {},
   "outputs": [
    {
     "name": "stdout",
     "output_type": "stream",
     "text": [
      "TOTAL RECORDS: 3188\n"
     ]
    },
    {
     "data": {
      "text/html": [
       "<div>\n",
       "<style scoped>\n",
       "    .dataframe tbody tr th:only-of-type {\n",
       "        vertical-align: middle;\n",
       "    }\n",
       "\n",
       "    .dataframe tbody tr th {\n",
       "        vertical-align: top;\n",
       "    }\n",
       "\n",
       "    .dataframe thead th {\n",
       "        text-align: right;\n",
       "    }\n",
       "</style>\n",
       "<table border=\"1\" class=\"dataframe\">\n",
       "  <thead>\n",
       "    <tr style=\"text-align: right;\">\n",
       "      <th></th>\n",
       "      <th>customerretentionscoreid</th>\n",
       "      <th>dimcustomermasterid</th>\n",
       "      <th>lkupclientid</th>\n",
       "      <th>currversnflag</th>\n",
       "      <th>seasonyear</th>\n",
       "      <th>insertdate</th>\n",
       "      <th>sascore</th>\n",
       "      <th>mostrecentattendance</th>\n",
       "      <th>attendancepercentage</th>\n",
       "      <th>tenuredays</th>\n",
       "      <th>product</th>\n",
       "    </tr>\n",
       "  </thead>\n",
       "  <tbody>\n",
       "    <tr>\n",
       "      <th>0</th>\n",
       "      <td>219808</td>\n",
       "      <td>357094563</td>\n",
       "      <td>11</td>\n",
       "      <td>false</td>\n",
       "      <td>2021</td>\n",
       "      <td>2022-03-21 11:03:48</td>\n",
       "      <td>0.4855</td>\n",
       "      <td>2021-09-26 00:00:00</td>\n",
       "      <td>0.585106</td>\n",
       "      <td>1825</td>\n",
       "      <td>Full Season</td>\n",
       "    </tr>\n",
       "    <tr>\n",
       "      <th>1</th>\n",
       "      <td>219812</td>\n",
       "      <td>357094566</td>\n",
       "      <td>11</td>\n",
       "      <td>false</td>\n",
       "      <td>2021</td>\n",
       "      <td>2022-03-21 11:03:48</td>\n",
       "      <td>0.2644</td>\n",
       "      <td>2021-08-18 00:00:00</td>\n",
       "      <td>0.019231</td>\n",
       "      <td>1825</td>\n",
       "      <td>Full Season</td>\n",
       "    </tr>\n",
       "    <tr>\n",
       "      <th>2</th>\n",
       "      <td>219816</td>\n",
       "      <td>357094586</td>\n",
       "      <td>11</td>\n",
       "      <td>false</td>\n",
       "      <td>2021</td>\n",
       "      <td>2022-03-21 11:03:48</td>\n",
       "      <td>0.5301</td>\n",
       "      <td>2021-09-07 00:00:00</td>\n",
       "      <td>0.317308</td>\n",
       "      <td>1825</td>\n",
       "      <td>Half Season</td>\n",
       "    </tr>\n",
       "    <tr>\n",
       "      <th>3</th>\n",
       "      <td>219820</td>\n",
       "      <td>357094594</td>\n",
       "      <td>11</td>\n",
       "      <td>false</td>\n",
       "      <td>2021</td>\n",
       "      <td>2022-03-21 11:03:48</td>\n",
       "      <td>0.5707</td>\n",
       "      <td>2021-08-22 00:00:00</td>\n",
       "      <td>0.444444</td>\n",
       "      <td>1825</td>\n",
       "      <td>Full Season</td>\n",
       "    </tr>\n",
       "    <tr>\n",
       "      <th>4</th>\n",
       "      <td>219824</td>\n",
       "      <td>357094595</td>\n",
       "      <td>11</td>\n",
       "      <td>false</td>\n",
       "      <td>2021</td>\n",
       "      <td>2022-03-21 11:03:48</td>\n",
       "      <td>0.1299</td>\n",
       "      <td>2021-05-13 00:00:00</td>\n",
       "      <td>0.142857</td>\n",
       "      <td>365</td>\n",
       "      <td>Mini Plan</td>\n",
       "    </tr>\n",
       "  </tbody>\n",
       "</table>\n",
       "</div>"
      ],
      "text/plain": [
       "   customerretentionscoreid dimcustomermasterid  lkupclientid currversnflag  \\\n",
       "0                    219808           357094563            11         false   \n",
       "1                    219812           357094566            11         false   \n",
       "2                    219816           357094586            11         false   \n",
       "3                    219820           357094594            11         false   \n",
       "4                    219824           357094595            11         false   \n",
       "\n",
       "  seasonyear           insertdate  sascore mostrecentattendance  \\\n",
       "0       2021  2022-03-21 11:03:48   0.4855  2021-09-26 00:00:00   \n",
       "1       2021  2022-03-21 11:03:48   0.2644  2021-08-18 00:00:00   \n",
       "2       2021  2022-03-21 11:03:48   0.5301  2021-09-07 00:00:00   \n",
       "3       2021  2022-03-21 11:03:48   0.5707  2021-08-22 00:00:00   \n",
       "4       2021  2022-03-21 11:03:48   0.1299  2021-05-13 00:00:00   \n",
       "\n",
       "   attendancepercentage  tenuredays      product  \n",
       "0              0.585106        1825  Full Season  \n",
       "1              0.019231        1825  Full Season  \n",
       "2              0.317308        1825  Half Season  \n",
       "3              0.444444        1825  Full Season  \n",
       "4              0.142857         365    Mini Plan  "
      ]
     },
     "execution_count": 73,
     "metadata": {},
     "output_type": "execute_result"
    }
   ],
   "source": [
    "select_statement = f\"\"\"\n",
    "    SELECT *\n",
    "    FROM {dbname}.dw.customerretentionscores\n",
    "\"\"\"\n",
    "\n",
    "df_scores = wr.data_api.redshift.read_sql_query(\n",
    "    sql = select_statement, \n",
    "    con = conn\n",
    ")\n",
    "\n",
    "print(f\"TOTAL RECORDS: {df_scores.shape[0]}\")\n",
    "df_scores.head()"
   ]
  },
  {
   "cell_type": "markdown",
   "id": "781f97cf-be36-4d64-a0e8-2b39cedec439",
   "metadata": {},
   "source": [
    "### We can also use the API to delete records from the database:"
   ]
  },
  {
   "cell_type": "code",
   "execution_count": 70,
   "id": "671fcea7-d713-49b1-b335-7d833860106a",
   "metadata": {},
   "outputs": [
    {
     "data": {
      "text/html": [
       "<div>\n",
       "<style scoped>\n",
       "    .dataframe tbody tr th:only-of-type {\n",
       "        vertical-align: middle;\n",
       "    }\n",
       "\n",
       "    .dataframe tbody tr th {\n",
       "        vertical-align: top;\n",
       "    }\n",
       "\n",
       "    .dataframe thead th {\n",
       "        text-align: right;\n",
       "    }\n",
       "</style>\n",
       "<table border=\"1\" class=\"dataframe\">\n",
       "  <thead>\n",
       "    <tr style=\"text-align: right;\">\n",
       "      <th></th>\n",
       "    </tr>\n",
       "  </thead>\n",
       "  <tbody>\n",
       "  </tbody>\n",
       "</table>\n",
       "</div>"
      ],
      "text/plain": [
       "Empty DataFrame\n",
       "Columns: []\n",
       "Index: []"
      ]
     },
     "execution_count": 70,
     "metadata": {},
     "output_type": "execute_result"
    }
   ],
   "source": [
    "delete_statement = f\"\"\"\n",
    "    DELETE \n",
    "    FROM {dbname}.dw.customerretentionscores\n",
    "    WHERE lkupclientid = {lkupclientid}\n",
    "\"\"\"\n",
    "\n",
    "wr.data_api.redshift.read_sql_query(\n",
    "    sql = delete_statement, \n",
    "    con = conn\n",
    ")"
   ]
  },
  {
   "cell_type": "code",
   "execution_count": null,
   "id": "0d1844c6-f2d2-4d37-b76f-262aa3d1fc7b",
   "metadata": {},
   "outputs": [],
   "source": []
  }
 ],
 "metadata": {
  "kernelspec": {
   "display_name": "Python 3 (ipykernel)",
   "language": "python",
   "name": "python3"
  },
  "language_info": {
   "codemirror_mode": {
    "name": "ipython",
    "version": 3
   },
   "file_extension": ".py",
   "mimetype": "text/x-python",
   "name": "python",
   "nbconvert_exporter": "python",
   "pygments_lexer": "ipython3",
   "version": "3.7.10"
  }
 },
 "nbformat": 4,
 "nbformat_minor": 5
}
