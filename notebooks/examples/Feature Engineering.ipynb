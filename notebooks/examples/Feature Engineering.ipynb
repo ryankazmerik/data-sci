{
 "cells": [
  {
   "cell_type": "markdown",
   "id": "9575d83e",
   "metadata": {},
   "source": [
    "# Portland Trail Blazers - Feature Selection\n",
    "* StellarAlgo Data Science\n",
    "* Ryan Kazmerik & Nakisa Rad\n",
    "* October 8, 2021"
   ]
  },
  {
   "cell_type": "markdown",
   "id": "62d7c5a2",
   "metadata": {},
   "source": [
    "## Hypothesis\n",
    "Two very important components of a machine learning model are feature selection and feature engineering. Our idea is that adding some more features to the StellarAlgo retention model could improve performance of the model."
   ]
  },
  {
   "cell_type": "markdown",
   "id": "c46403a5",
   "metadata": {},
   "source": [
    "## Experiment\n",
    "This section details our experiment including querying data, data transformations, feature selection and modelling."
   ]
  },
  {
   "cell_type": "code",
   "execution_count": 1,
   "id": "df2be620",
   "metadata": {},
   "outputs": [],
   "source": [
    "import getpass\n",
    "import pyodbc\n",
    "import pandas as pd\n",
    "import warnings\n",
    "import matplotlib.pyplot as plt\n",
    "\n",
    "from pycaret.classification import *\n",
    "from ngboost import NGBClassifier\n",
    "\n",
    "warnings.filterwarnings('ignore')"
   ]
  },
  {
   "cell_type": "markdown",
   "id": "5872346a",
   "metadata": {},
   "source": [
    "### Let's connect to MSSQL and run a stored proc to get our dataset:"
   ]
  },
  {
   "cell_type": "code",
   "execution_count": 2,
   "id": "c060d5cf",
   "metadata": {},
   "outputs": [
    {
     "name": "stdin",
     "output_type": "stream",
     "text": [
      "Enter your password ··················\n"
     ]
    }
   ],
   "source": [
    "SERVER = '34.206.73.189' \n",
    "DATABASE = 'datascience' \n",
    "USERNAME = 'dsAdminWrite' \n",
    "PASSWORD = getpass.getpass(prompt='Enter your password')\n",
    "CNXN = pyodbc.connect('DRIVER={ODBC Driver 17 for SQL Server};SERVER='+SERVER+';DATABASE='+DATABASE+';UID='+USERNAME+';PWD='+ PASSWORD)"
   ]
  },
  {
   "cell_type": "code",
   "execution_count": 4,
   "id": "b9615e8a",
   "metadata": {},
   "outputs": [
    {
     "data": {
      "text/plain": [
       "(38523, 55)"
      ]
     },
     "execution_count": 16,
     "metadata": {},
     "output_type": "execute_result"
    }
   ],
   "source": [
    "lkupclientid = 36 # Calgary Flames\n",
    "\n",
    "cursor = CNXN.cursor()\n",
    "\n",
    "storedProc = (\n",
    "    f\"\"\"Exec [stlrFlames].[ds].[getRetentionScoringModelData] {lkupclientid}\"\"\"\n",
    ")\n",
    "\n",
    "df = pd.read_sql(storedProc, CNXN)\n",
    "\n",
    "CNXN.commit()\n",
    "cursor.close()\n",
    "\n",
    "df.shape"
   ]
  },
  {
   "cell_type": "code",
   "execution_count": null,
   "id": "600462f5-d896-4327-8a12-df28f63c43e4",
   "metadata": {},
   "outputs": [
    {
     "name": "stdout",
     "output_type": "stream",
     "text": [
      "<class 'pandas.core.frame.DataFrame'>\n",
      "RangeIndex: 38523 entries, 0 to 38522\n",
      "Data columns (total 55 columns):\n",
      " #   Column                    Non-Null Count  Dtype  \n",
      "---  ------                    --------------  -----  \n",
      " 0   lkupClientId              38523 non-null  int64  \n",
      " 1   dimCustomerMasterId       38523 non-null  int64  \n",
      " 2   customerNumber            38523 non-null  object \n",
      " 3   year                      38523 non-null  object \n",
      " 4   productGrouping           38523 non-null  object \n",
      " 5   totalSpent                38523 non-null  float64\n",
      " 6   recentDate                38523 non-null  object \n",
      " 7   attendancePercent         38523 non-null  float64\n",
      " 8   renewedBeforeDays         38522 non-null  float64\n",
      " 9   isBuyer                   38523 non-null  object \n",
      " 10  source_tenure             38523 non-null  int64  \n",
      " 11  tenure                    38522 non-null  float64\n",
      " 12  distToVenue               38523 non-null  float64\n",
      " 13  totalGames                38523 non-null  int64  \n",
      " 14  recency                   38523 non-null  int64  \n",
      " 15  missed_games_1            38523 non-null  int64  \n",
      " 16  missed_games_2            38523 non-null  int64  \n",
      " 17  missed_games_over_2       38523 non-null  int64  \n",
      " 18  click_link                38523 non-null  int64  \n",
      " 19  fill_out_form             38523 non-null  int64  \n",
      " 20  open_email                38523 non-null  int64  \n",
      " 21  send_email                38523 non-null  int64  \n",
      " 22  unsubscribe_email         38523 non-null  int64  \n",
      " 23  openToSendRatio           38523 non-null  float64\n",
      " 24  clickToSendRatio          38523 non-null  float64\n",
      " 25  clickToOpenRatio          38523 non-null  float64\n",
      " 26  posting_records           38523 non-null  int64  \n",
      " 27  resale_records            38523 non-null  int64  \n",
      " 28  resale_atp                38523 non-null  float64\n",
      " 29  forward_records           38523 non-null  int64  \n",
      " 30  cancel_records            38523 non-null  int64  \n",
      " 31  email                     38523 non-null  int64  \n",
      " 32  inbound_email             38523 non-null  int64  \n",
      " 33  inbound_phonecall         38523 non-null  int64  \n",
      " 34  inperson_contact          38523 non-null  int64  \n",
      " 35  internal_note             38523 non-null  int64  \n",
      " 36  left_message              38523 non-null  int64  \n",
      " 37  outbound_email            38523 non-null  int64  \n",
      " 38  outbound_phonecall        38523 non-null  int64  \n",
      " 39  phonecall                 38523 non-null  int64  \n",
      " 40  text                      38523 non-null  int64  \n",
      " 41  unknown                   38523 non-null  int64  \n",
      " 42  gender                    38523 non-null  object \n",
      " 43  childrenPresentInHH       38523 non-null  int64  \n",
      " 44  maritalStatus             38523 non-null  int64  \n",
      " 45  lengthOfResidenceInYrs    0 non-null      object \n",
      " 46  annualHHIncome            0 non-null      object \n",
      " 47  education                 0 non-null      object \n",
      " 48  urbanicity                0 non-null      object \n",
      " 49  isnextyear_buyer          0 non-null      object \n",
      " 50  isnextyear_samepkg_buyer  0 non-null      object \n",
      " 51  pkgupgrade_status         0 non-null      object \n",
      " 52  auto_renewal              0 non-null      object \n",
      " 53  credits_after_refund      38523 non-null  float64\n",
      " 54  isNextYear_Buyer          38523 non-null  int64  \n",
      "dtypes: float64(10), int64(31), object(14)\n",
      "memory usage: 16.2+ MB\n"
     ]
    }
   ],
   "source": [
    "df.info()"
   ]
  },
  {
   "cell_type": "markdown",
   "id": "4b4e7b71",
   "metadata": {},
   "source": [
    "### Let's drop the features that have lots of null values, and any ID columns, as these won't be useful to our model:"
   ]
  },
  {
   "cell_type": "code",
   "execution_count": 19,
   "id": "6fbd8c9b",
   "metadata": {},
   "outputs": [
    {
     "data": {
      "text/plain": [
       "(38523, 47)"
      ]
     },
     "execution_count": 19,
     "metadata": {},
     "output_type": "execute_result"
    }
   ],
   "source": [
    "df.drop([\n",
    "    'lengthOfResidenceInYrs',\n",
    "    'annualHHIncome',\n",
    "    'education',\n",
    "    'urbanicity', \n",
    "    'isnextyear_buyer', \n",
    "    'isnextyear_samepkg_buyer',\n",
    "    'pkgupgrade_status',\n",
    "    'auto_renewal'],\n",
    "    axis=1, \n",
    "    inplace=True\n",
    ")\n",
    "\n",
    "df.shape"
   ]
  },
  {
   "cell_type": "markdown",
   "id": "0b8bfbe1-f939-4bf8-837c-ac3dc3a16e9c",
   "metadata": {},
   "source": [
    "### Let's also drop the features that only have a single value, as they won't add much differentiation to our model:"
   ]
  },
  {
   "cell_type": "code",
   "execution_count": 20,
   "id": "bbbfba73-6590-45dd-b605-cdc4cd2b5537",
   "metadata": {},
   "outputs": [
    {
     "data": {
      "text/plain": [
       "(38523, 29)"
      ]
     },
     "execution_count": 20,
     "metadata": {},
     "output_type": "execute_result"
    }
   ],
   "source": [
    "for col in df.columns:\n",
    "    if len(df[col].unique()) == 1:\n",
    "        df.drop(col,inplace=True,axis=1)\n",
    "        \n",
    "df.shape"
   ]
  },
  {
   "cell_type": "markdown",
   "id": "5387f57f-6fcc-4a07-bbac-cf0e38f490f4",
   "metadata": {},
   "source": [
    "### We should also drop features that have a low correlation with the target label as they won't be useful for prediction, we'll only keep features that have a correlation above a set threshold:"
   ]
  },
  {
   "cell_type": "code",
   "execution_count": 21,
   "id": "5a7e6750-65f5-469d-a9a1-fee5aa022b73",
   "metadata": {},
   "outputs": [
    {
     "name": "stdout",
     "output_type": "stream",
     "text": [
      "<class 'pandas.core.frame.DataFrame'>\n",
      "Int64Index: 38523 entries, 0 to 38522\n",
      "Data columns (total 9 columns):\n",
      " #   Column               Non-Null Count  Dtype  \n",
      "---  ------               --------------  -----  \n",
      " 0   dimCustomerMasterId  38523 non-null  int64  \n",
      " 1   renewedBeforeDays    38522 non-null  float64\n",
      " 2   source_tenure        38523 non-null  int64  \n",
      " 3   tenure               38522 non-null  float64\n",
      " 4   totalGames           38523 non-null  int64  \n",
      " 5   missed_games_1       38523 non-null  int64  \n",
      " 6   missed_games_2       38523 non-null  int64  \n",
      " 7   send_email           38523 non-null  int64  \n",
      " 8   isNextYear_Buyer     38523 non-null  int64  \n",
      "dtypes: float64(2), int64(7)\n",
      "memory usage: 2.9 MB\n"
     ]
    }
   ],
   "source": [
    "cor = df.corr()\n",
    "\n",
    "threshold = 0.05\n",
    "\n",
    "#Correlation with output variable\n",
    "cor_target = abs(cor[\"isNextYear_Buyer\"])\n",
    "\n",
    "#Selecting highly correlated features\n",
    "relevant_features = cor_target[cor_target > threshold]\n",
    "\n",
    "feats = []\n",
    "for name, val in relevant_features.items():\n",
    "    feats.append(name)\n",
    "\n",
    "df_correlated = df[feats]\n",
    "\n",
    "df_correlated.shape\n",
    "\n",
    "df_correlated.info()"
   ]
  },
  {
   "cell_type": "markdown",
   "id": "6a28beb7-8d35-4f17-932e-03798574272f",
   "metadata": {},
   "source": [
    "### Now that we have the right features we can look at the correlations between them, if features are highly correlated with each other it might negatively impact the model:"
   ]
  },
  {
   "cell_type": "code",
   "execution_count": 22,
   "id": "70d04cbc-2015-41af-a366-c536c4db65d7",
   "metadata": {},
   "outputs": [
    {
     "data": {
      "text/html": [
       "<style  type=\"text/css\" >\n",
       "#T_f575c_row0_col0,#T_f575c_row1_col1,#T_f575c_row2_col2,#T_f575c_row3_col3,#T_f575c_row4_col4,#T_f575c_row5_col5,#T_f575c_row6_col6,#T_f575c_row7_col7,#T_f575c_row8_col8{\n",
       "            background-color:  #b40426;\n",
       "            color:  #f1f1f1;\n",
       "        }#T_f575c_row0_col1{\n",
       "            background-color:  #7a9df8;\n",
       "            color:  #000000;\n",
       "        }#T_f575c_row0_col2{\n",
       "            background-color:  #6384eb;\n",
       "            color:  #000000;\n",
       "        }#T_f575c_row0_col3{\n",
       "            background-color:  #c1d4f4;\n",
       "            color:  #000000;\n",
       "        }#T_f575c_row0_col4{\n",
       "            background-color:  #9ebeff;\n",
       "            color:  #000000;\n",
       "        }#T_f575c_row0_col5{\n",
       "            background-color:  #6e90f2;\n",
       "            color:  #000000;\n",
       "        }#T_f575c_row0_col6{\n",
       "            background-color:  #4e68d8;\n",
       "            color:  #000000;\n",
       "        }#T_f575c_row0_col7{\n",
       "            background-color:  #536edd;\n",
       "            color:  #000000;\n",
       "        }#T_f575c_row0_col8{\n",
       "            background-color:  #b7cff9;\n",
       "            color:  #000000;\n",
       "        }#T_f575c_row1_col0,#T_f575c_row2_col0{\n",
       "            background-color:  #6180e9;\n",
       "            color:  #000000;\n",
       "        }#T_f575c_row1_col2{\n",
       "            background-color:  #b3cdfb;\n",
       "            color:  #000000;\n",
       "        }#T_f575c_row1_col3{\n",
       "            background-color:  #8badfd;\n",
       "            color:  #000000;\n",
       "        }#T_f575c_row1_col4{\n",
       "            background-color:  #f39475;\n",
       "            color:  #000000;\n",
       "        }#T_f575c_row1_col5{\n",
       "            background-color:  #d6dce4;\n",
       "            color:  #000000;\n",
       "        }#T_f575c_row1_col6{\n",
       "            background-color:  #82a6fb;\n",
       "            color:  #000000;\n",
       "        }#T_f575c_row1_col7,#T_f575c_row3_col1,#T_f575c_row3_col4,#T_f575c_row3_col5,#T_f575c_row3_col6,#T_f575c_row3_col8,#T_f575c_row7_col0,#T_f575c_row7_col1,#T_f575c_row7_col2,#T_f575c_row7_col6,#T_f575c_row8_col3{\n",
       "            background-color:  #3b4cc0;\n",
       "            color:  #f1f1f1;\n",
       "        }#T_f575c_row1_col8,#T_f575c_row4_col5{\n",
       "            background-color:  #e4d9d2;\n",
       "            color:  #000000;\n",
       "        }#T_f575c_row2_col1{\n",
       "            background-color:  #c3d5f4;\n",
       "            color:  #000000;\n",
       "        }#T_f575c_row2_col3{\n",
       "            background-color:  #cfdaea;\n",
       "            color:  #000000;\n",
       "        }#T_f575c_row2_col4{\n",
       "            background-color:  #c6d6f1;\n",
       "            color:  #000000;\n",
       "        }#T_f575c_row2_col5{\n",
       "            background-color:  #7ea1fa;\n",
       "            color:  #000000;\n",
       "        }#T_f575c_row2_col6,#T_f575c_row2_col7{\n",
       "            background-color:  #506bda;\n",
       "            color:  #000000;\n",
       "        }#T_f575c_row2_col8{\n",
       "            background-color:  #cad8ef;\n",
       "            color:  #000000;\n",
       "        }#T_f575c_row3_col0{\n",
       "            background-color:  #6485ec;\n",
       "            color:  #000000;\n",
       "        }#T_f575c_row3_col2{\n",
       "            background-color:  #81a4fb;\n",
       "            color:  #000000;\n",
       "        }#T_f575c_row3_col7{\n",
       "            background-color:  #9dbdff;\n",
       "            color:  #000000;\n",
       "        }#T_f575c_row4_col0{\n",
       "            background-color:  #6282ea;\n",
       "            color:  #000000;\n",
       "        }#T_f575c_row4_col1{\n",
       "            background-color:  #f5a081;\n",
       "            color:  #000000;\n",
       "        }#T_f575c_row4_col2{\n",
       "            background-color:  #9abbff;\n",
       "            color:  #000000;\n",
       "        }#T_f575c_row4_col3,#T_f575c_row5_col2{\n",
       "            background-color:  #6687ed;\n",
       "            color:  #000000;\n",
       "        }#T_f575c_row4_col6,#T_f575c_row8_col2{\n",
       "            background-color:  #7699f6;\n",
       "            color:  #000000;\n",
       "        }#T_f575c_row4_col7{\n",
       "            background-color:  #445acc;\n",
       "            color:  #f1f1f1;\n",
       "        }#T_f575c_row4_col8{\n",
       "            background-color:  #f6a283;\n",
       "            color:  #000000;\n",
       "        }#T_f575c_row5_col0{\n",
       "            background-color:  #516ddb;\n",
       "            color:  #000000;\n",
       "        }#T_f575c_row5_col1{\n",
       "            background-color:  #d5dbe5;\n",
       "            color:  #000000;\n",
       "        }#T_f575c_row5_col3{\n",
       "            background-color:  #89acfd;\n",
       "            color:  #000000;\n",
       "        }#T_f575c_row5_col4{\n",
       "            background-color:  #efcebd;\n",
       "            color:  #000000;\n",
       "        }#T_f575c_row5_col6{\n",
       "            background-color:  #aec9fc;\n",
       "            color:  #000000;\n",
       "        }#T_f575c_row5_col7,#T_f575c_row8_col7{\n",
       "            background-color:  #4358cb;\n",
       "            color:  #f1f1f1;\n",
       "        }#T_f575c_row5_col8{\n",
       "            background-color:  #dfdbd9;\n",
       "            color:  #000000;\n",
       "        }#T_f575c_row6_col0{\n",
       "            background-color:  #455cce;\n",
       "            color:  #f1f1f1;\n",
       "        }#T_f575c_row6_col1{\n",
       "            background-color:  #92b4fe;\n",
       "            color:  #000000;\n",
       "        }#T_f575c_row6_col2{\n",
       "            background-color:  #4c66d6;\n",
       "            color:  #000000;\n",
       "        }#T_f575c_row6_col3{\n",
       "            background-color:  #9bbcff;\n",
       "            color:  #000000;\n",
       "        }#T_f575c_row6_col4{\n",
       "            background-color:  #a7c5fe;\n",
       "            color:  #000000;\n",
       "        }#T_f575c_row6_col5,#T_f575c_row6_col8{\n",
       "            background-color:  #bcd2f7;\n",
       "            color:  #000000;\n",
       "        }#T_f575c_row6_col7{\n",
       "            background-color:  #4b64d5;\n",
       "            color:  #f1f1f1;\n",
       "        }#T_f575c_row7_col3{\n",
       "            background-color:  #d4dbe6;\n",
       "            color:  #000000;\n",
       "        }#T_f575c_row7_col4{\n",
       "            background-color:  #6b8df0;\n",
       "            color:  #000000;\n",
       "        }#T_f575c_row7_col5{\n",
       "            background-color:  #465ecf;\n",
       "            color:  #f1f1f1;\n",
       "        }#T_f575c_row7_col8{\n",
       "            background-color:  #94b6ff;\n",
       "            color:  #000000;\n",
       "        }#T_f575c_row8_col0{\n",
       "            background-color:  #5673e0;\n",
       "            color:  #000000;\n",
       "        }#T_f575c_row8_col1{\n",
       "            background-color:  #b9d0f9;\n",
       "            color:  #000000;\n",
       "        }#T_f575c_row8_col4{\n",
       "            background-color:  #f7b194;\n",
       "            color:  #000000;\n",
       "        }#T_f575c_row8_col5{\n",
       "            background-color:  #b2ccfb;\n",
       "            color:  #000000;\n",
       "        }#T_f575c_row8_col6{\n",
       "            background-color:  #6788ee;\n",
       "            color:  #000000;\n",
       "        }</style><table id=\"T_f575c_\" ><thead>    <tr>        <th class=\"blank level0\" ></th>        <th class=\"col_heading level0 col0\" >dimCustomerMasterId</th>        <th class=\"col_heading level0 col1\" >renewedBeforeDays</th>        <th class=\"col_heading level0 col2\" >source_tenure</th>        <th class=\"col_heading level0 col3\" >tenure</th>        <th class=\"col_heading level0 col4\" >totalGames</th>        <th class=\"col_heading level0 col5\" >missed_games_1</th>        <th class=\"col_heading level0 col6\" >missed_games_2</th>        <th class=\"col_heading level0 col7\" >send_email</th>        <th class=\"col_heading level0 col8\" >isNextYear_Buyer</th>    </tr></thead><tbody>\n",
       "                <tr>\n",
       "                        <th id=\"T_f575c_level0_row0\" class=\"row_heading level0 row0\" >dimCustomerMasterId</th>\n",
       "                        <td id=\"T_f575c_row0_col0\" class=\"data row0 col0\" >1.00</td>\n",
       "                        <td id=\"T_f575c_row0_col1\" class=\"data row0 col1\" >0.11</td>\n",
       "                        <td id=\"T_f575c_row0_col2\" class=\"data row0 col2\" >0.10</td>\n",
       "                        <td id=\"T_f575c_row0_col3\" class=\"data row0 col3\" >0.12</td>\n",
       "                        <td id=\"T_f575c_row0_col4\" class=\"data row0 col4\" >0.11</td>\n",
       "                        <td id=\"T_f575c_row0_col5\" class=\"data row0 col5\" >0.06</td>\n",
       "                        <td id=\"T_f575c_row0_col6\" class=\"data row0 col6\" >0.02</td>\n",
       "                        <td id=\"T_f575c_row0_col7\" class=\"data row0 col7\" >-0.02</td>\n",
       "                        <td id=\"T_f575c_row0_col8\" class=\"data row0 col8\" >0.07</td>\n",
       "            </tr>\n",
       "            <tr>\n",
       "                        <th id=\"T_f575c_level0_row1\" class=\"row_heading level0 row1\" >renewedBeforeDays</th>\n",
       "                        <td id=\"T_f575c_row1_col0\" class=\"data row1 col0\" >0.11</td>\n",
       "                        <td id=\"T_f575c_row1_col1\" class=\"data row1 col1\" >1.00</td>\n",
       "                        <td id=\"T_f575c_row1_col2\" class=\"data row1 col2\" >0.34</td>\n",
       "                        <td id=\"T_f575c_row1_col3\" class=\"data row1 col3\" >-0.11</td>\n",
       "                        <td id=\"T_f575c_row1_col4\" class=\"data row1 col4\" >0.70</td>\n",
       "                        <td id=\"T_f575c_row1_col5\" class=\"data row1 col5\" >0.41</td>\n",
       "                        <td id=\"T_f575c_row1_col6\" class=\"data row1 col6\" >0.18</td>\n",
       "                        <td id=\"T_f575c_row1_col7\" class=\"data row1 col7\" >-0.11</td>\n",
       "                        <td id=\"T_f575c_row1_col8\" class=\"data row1 col8\" >0.31</td>\n",
       "            </tr>\n",
       "            <tr>\n",
       "                        <th id=\"T_f575c_level0_row2\" class=\"row_heading level0 row2\" >source_tenure</th>\n",
       "                        <td id=\"T_f575c_row2_col0\" class=\"data row2 col0\" >0.10</td>\n",
       "                        <td id=\"T_f575c_row2_col1\" class=\"data row2 col1\" >0.34</td>\n",
       "                        <td id=\"T_f575c_row2_col2\" class=\"data row2 col2\" >1.00</td>\n",
       "                        <td id=\"T_f575c_row2_col3\" class=\"data row2 col3\" >0.19</td>\n",
       "                        <td id=\"T_f575c_row2_col4\" class=\"data row2 col4\" >0.26</td>\n",
       "                        <td id=\"T_f575c_row2_col5\" class=\"data row2 col5\" >0.11</td>\n",
       "                        <td id=\"T_f575c_row2_col6\" class=\"data row2 col6\" >0.03</td>\n",
       "                        <td id=\"T_f575c_row2_col7\" class=\"data row2 col7\" >-0.03</td>\n",
       "                        <td id=\"T_f575c_row2_col8\" class=\"data row2 col8\" >0.16</td>\n",
       "            </tr>\n",
       "            <tr>\n",
       "                        <th id=\"T_f575c_level0_row3\" class=\"row_heading level0 row3\" >tenure</th>\n",
       "                        <td id=\"T_f575c_row3_col0\" class=\"data row3 col0\" >0.12</td>\n",
       "                        <td id=\"T_f575c_row3_col1\" class=\"data row3 col1\" >-0.11</td>\n",
       "                        <td id=\"T_f575c_row3_col2\" class=\"data row3 col2\" >0.19</td>\n",
       "                        <td id=\"T_f575c_row3_col3\" class=\"data row3 col3\" >1.00</td>\n",
       "                        <td id=\"T_f575c_row3_col4\" class=\"data row3 col4\" >-0.27</td>\n",
       "                        <td id=\"T_f575c_row3_col5\" class=\"data row3 col5\" >-0.12</td>\n",
       "                        <td id=\"T_f575c_row3_col6\" class=\"data row3 col6\" >-0.05</td>\n",
       "                        <td id=\"T_f575c_row3_col7\" class=\"data row3 col7\" >0.21</td>\n",
       "                        <td id=\"T_f575c_row3_col8\" class=\"data row3 col8\" >-0.48</td>\n",
       "            </tr>\n",
       "            <tr>\n",
       "                        <th id=\"T_f575c_level0_row4\" class=\"row_heading level0 row4\" >totalGames</th>\n",
       "                        <td id=\"T_f575c_row4_col0\" class=\"data row4 col0\" >0.11</td>\n",
       "                        <td id=\"T_f575c_row4_col1\" class=\"data row4 col1\" >0.70</td>\n",
       "                        <td id=\"T_f575c_row4_col2\" class=\"data row4 col2\" >0.26</td>\n",
       "                        <td id=\"T_f575c_row4_col3\" class=\"data row4 col3\" >-0.27</td>\n",
       "                        <td id=\"T_f575c_row4_col4\" class=\"data row4 col4\" >1.00</td>\n",
       "                        <td id=\"T_f575c_row4_col5\" class=\"data row4 col5\" >0.47</td>\n",
       "                        <td id=\"T_f575c_row4_col6\" class=\"data row4 col6\" >0.15</td>\n",
       "                        <td id=\"T_f575c_row4_col7\" class=\"data row4 col7\" >-0.08</td>\n",
       "                        <td id=\"T_f575c_row4_col8\" class=\"data row4 col8\" >0.60</td>\n",
       "            </tr>\n",
       "            <tr>\n",
       "                        <th id=\"T_f575c_level0_row5\" class=\"row_heading level0 row5\" >missed_games_1</th>\n",
       "                        <td id=\"T_f575c_row5_col0\" class=\"data row5 col0\" >0.06</td>\n",
       "                        <td id=\"T_f575c_row5_col1\" class=\"data row5 col1\" >0.41</td>\n",
       "                        <td id=\"T_f575c_row5_col2\" class=\"data row5 col2\" >0.11</td>\n",
       "                        <td id=\"T_f575c_row5_col3\" class=\"data row5 col3\" >-0.12</td>\n",
       "                        <td id=\"T_f575c_row5_col4\" class=\"data row5 col4\" >0.47</td>\n",
       "                        <td id=\"T_f575c_row5_col5\" class=\"data row5 col5\" >1.00</td>\n",
       "                        <td id=\"T_f575c_row5_col6\" class=\"data row5 col6\" >0.31</td>\n",
       "                        <td id=\"T_f575c_row5_col7\" class=\"data row5 col7\" >-0.08</td>\n",
       "                        <td id=\"T_f575c_row5_col8\" class=\"data row5 col8\" >0.28</td>\n",
       "            </tr>\n",
       "            <tr>\n",
       "                        <th id=\"T_f575c_level0_row6\" class=\"row_heading level0 row6\" >missed_games_2</th>\n",
       "                        <td id=\"T_f575c_row6_col0\" class=\"data row6 col0\" >0.02</td>\n",
       "                        <td id=\"T_f575c_row6_col1\" class=\"data row6 col1\" >0.18</td>\n",
       "                        <td id=\"T_f575c_row6_col2\" class=\"data row6 col2\" >0.03</td>\n",
       "                        <td id=\"T_f575c_row6_col3\" class=\"data row6 col3\" >-0.05</td>\n",
       "                        <td id=\"T_f575c_row6_col4\" class=\"data row6 col4\" >0.15</td>\n",
       "                        <td id=\"T_f575c_row6_col5\" class=\"data row6 col5\" >0.31</td>\n",
       "                        <td id=\"T_f575c_row6_col6\" class=\"data row6 col6\" >1.00</td>\n",
       "                        <td id=\"T_f575c_row6_col7\" class=\"data row6 col7\" >-0.05</td>\n",
       "                        <td id=\"T_f575c_row6_col8\" class=\"data row6 col8\" >0.10</td>\n",
       "            </tr>\n",
       "            <tr>\n",
       "                        <th id=\"T_f575c_level0_row7\" class=\"row_heading level0 row7\" >send_email</th>\n",
       "                        <td id=\"T_f575c_row7_col0\" class=\"data row7 col0\" >-0.02</td>\n",
       "                        <td id=\"T_f575c_row7_col1\" class=\"data row7 col1\" >-0.11</td>\n",
       "                        <td id=\"T_f575c_row7_col2\" class=\"data row7 col2\" >-0.03</td>\n",
       "                        <td id=\"T_f575c_row7_col3\" class=\"data row7 col3\" >0.21</td>\n",
       "                        <td id=\"T_f575c_row7_col4\" class=\"data row7 col4\" >-0.08</td>\n",
       "                        <td id=\"T_f575c_row7_col5\" class=\"data row7 col5\" >-0.08</td>\n",
       "                        <td id=\"T_f575c_row7_col6\" class=\"data row7 col6\" >-0.05</td>\n",
       "                        <td id=\"T_f575c_row7_col7\" class=\"data row7 col7\" >1.00</td>\n",
       "                        <td id=\"T_f575c_row7_col8\" class=\"data row7 col8\" >-0.08</td>\n",
       "            </tr>\n",
       "            <tr>\n",
       "                        <th id=\"T_f575c_level0_row8\" class=\"row_heading level0 row8\" >isNextYear_Buyer</th>\n",
       "                        <td id=\"T_f575c_row8_col0\" class=\"data row8 col0\" >0.07</td>\n",
       "                        <td id=\"T_f575c_row8_col1\" class=\"data row8 col1\" >0.31</td>\n",
       "                        <td id=\"T_f575c_row8_col2\" class=\"data row8 col2\" >0.16</td>\n",
       "                        <td id=\"T_f575c_row8_col3\" class=\"data row8 col3\" >-0.48</td>\n",
       "                        <td id=\"T_f575c_row8_col4\" class=\"data row8 col4\" >0.60</td>\n",
       "                        <td id=\"T_f575c_row8_col5\" class=\"data row8 col5\" >0.28</td>\n",
       "                        <td id=\"T_f575c_row8_col6\" class=\"data row8 col6\" >0.10</td>\n",
       "                        <td id=\"T_f575c_row8_col7\" class=\"data row8 col7\" >-0.08</td>\n",
       "                        <td id=\"T_f575c_row8_col8\" class=\"data row8 col8\" >1.00</td>\n",
       "            </tr>\n",
       "    </tbody></table>"
      ],
      "text/plain": [
       "<pandas.io.formats.style.Styler at 0x7fdc0224df90>"
      ]
     },
     "execution_count": 22,
     "metadata": {},
     "output_type": "execute_result"
    }
   ],
   "source": [
    "corr = df_correlated.corr()\n",
    "corr.style.background_gradient(cmap='coolwarm').set_precision(2)"
   ]
  },
  {
   "cell_type": "markdown",
   "id": "cbfa1a4e",
   "metadata": {},
   "source": [
    "### In order to compare two sets of features, we need to create some datasets for training and evalution:"
   ]
  },
  {
   "cell_type": "code",
   "execution_count": 23,
   "id": "82651c96",
   "metadata": {},
   "outputs": [
    {
     "name": "stdout",
     "output_type": "stream",
     "text": [
      "Data for Modeling: (30818, 9)\n",
      "Unseen Data For Predictions: (7705, 9)\n",
      "\n"
     ]
    }
   ],
   "source": [
    "# select % of the data for training\n",
    "df_train = df_correlated.sample(frac=0.8, random_state=786).reset_index(drop=True)\n",
    "\n",
    "# create the eval datasets for A and B\n",
    "df_eval = df_correlated.drop(df_train.index).reset_index(drop=True)\n",
    "\n",
    "# print out the number of records for training and eval\n",
    "print('Data for Modeling: ' + str(df_train.shape))\n",
    "print('Unseen Data For Predictions: ' + str(df_eval.shape), end=\"\\n\\n\")"
   ]
  },
  {
   "cell_type": "markdown",
   "id": "9f34eb03-b49b-49e5-bce8-7caaa29c5dd7",
   "metadata": {},
   "source": [
    "## Now we can model the data using a binary classification prediction for the isnextyear_buyer field to see how likely a customer is to re-purchase."
   ]
  },
  {
   "cell_type": "code",
   "execution_count": 32,
   "id": "3eabb279-56dd-4dbf-b7da-77bd2aa7cafa",
   "metadata": {},
   "outputs": [],
   "source": [
    "setup(\n",
    "    data= df_train, \n",
    "    target=\"isNextYear_Buyer\", \n",
    "    train_size = 0.80,\n",
    "    data_split_shuffle=True,\n",
    "    silent=True,\n",
    "    verbose=False,\n",
    "    ignore_features=[\"dimCustomerMasterId\"],\n",
    "    numeric_features=[\n",
    "        \"missed_games_1\",\n",
    "        \"missed_games_2\",\n",
    "        \"renewedBeforeDays\",\n",
    "        \"send_email\",\n",
    "        \"source_tenure\",\n",
    "        \"tenure\",\n",
    "        \"totalGames\"\n",
    "    ]\n",
    ");"
   ]
  },
  {
   "cell_type": "code",
   "execution_count": 33,
   "id": "05742a70-860c-477f-bea9-516a0a87c508",
   "metadata": {},
   "outputs": [
    {
     "data": {
      "text/html": [
       "<style  type=\"text/css\" >\n",
       "    #T_28250_ th {\n",
       "          text-align: left;\n",
       "    }#T_28250_row0_col0,#T_28250_row0_col2,#T_28250_row1_col0,#T_28250_row1_col1,#T_28250_row1_col2,#T_28250_row1_col3,#T_28250_row1_col4,#T_28250_row1_col5,#T_28250_row1_col6,#T_28250_row1_col7,#T_28250_row2_col0,#T_28250_row2_col1,#T_28250_row2_col3,#T_28250_row2_col4,#T_28250_row2_col5,#T_28250_row2_col6,#T_28250_row2_col7,#T_28250_row3_col0,#T_28250_row3_col1,#T_28250_row3_col2,#T_28250_row3_col3,#T_28250_row3_col4,#T_28250_row3_col5,#T_28250_row3_col6,#T_28250_row3_col7,#T_28250_row4_col0,#T_28250_row4_col1,#T_28250_row4_col2,#T_28250_row4_col3,#T_28250_row4_col4,#T_28250_row4_col5,#T_28250_row4_col6,#T_28250_row4_col7,#T_28250_row5_col0,#T_28250_row5_col1,#T_28250_row5_col2,#T_28250_row5_col3,#T_28250_row5_col4,#T_28250_row5_col5,#T_28250_row5_col6,#T_28250_row5_col7,#T_28250_row6_col0,#T_28250_row6_col1,#T_28250_row6_col2,#T_28250_row6_col3,#T_28250_row6_col4,#T_28250_row6_col5,#T_28250_row6_col6,#T_28250_row6_col7,#T_28250_row7_col0,#T_28250_row7_col1,#T_28250_row7_col2,#T_28250_row7_col3,#T_28250_row7_col4,#T_28250_row7_col5,#T_28250_row7_col6,#T_28250_row7_col7,#T_28250_row8_col0,#T_28250_row8_col1,#T_28250_row8_col2,#T_28250_row8_col3,#T_28250_row8_col4,#T_28250_row8_col5,#T_28250_row8_col6,#T_28250_row8_col7,#T_28250_row9_col0,#T_28250_row9_col1,#T_28250_row9_col2,#T_28250_row9_col3,#T_28250_row9_col4,#T_28250_row9_col5,#T_28250_row9_col6,#T_28250_row9_col7{\n",
       "            text-align:  left;\n",
       "            text-align:  left;\n",
       "        }#T_28250_row0_col1,#T_28250_row0_col3,#T_28250_row0_col4,#T_28250_row0_col5,#T_28250_row0_col6,#T_28250_row0_col7,#T_28250_row2_col2{\n",
       "            text-align:  left;\n",
       "            text-align:  left;\n",
       "            background-color:  yellow;\n",
       "        }#T_28250_row0_col8,#T_28250_row1_col8,#T_28250_row2_col8,#T_28250_row3_col8,#T_28250_row4_col8,#T_28250_row5_col8,#T_28250_row6_col8,#T_28250_row7_col8,#T_28250_row9_col8{\n",
       "            text-align:  left;\n",
       "            text-align:  left;\n",
       "            background-color:  lightgrey;\n",
       "        }#T_28250_row8_col8{\n",
       "            text-align:  left;\n",
       "            text-align:  left;\n",
       "            background-color:  yellow;\n",
       "            background-color:  lightgrey;\n",
       "        }</style><table id=\"T_28250_\" ><thead>    <tr>        <th class=\"blank level0\" ></th>        <th class=\"col_heading level0 col0\" >Model</th>        <th class=\"col_heading level0 col1\" >Accuracy</th>        <th class=\"col_heading level0 col2\" >AUC</th>        <th class=\"col_heading level0 col3\" >Recall</th>        <th class=\"col_heading level0 col4\" >Prec.</th>        <th class=\"col_heading level0 col5\" >F1</th>        <th class=\"col_heading level0 col6\" >Kappa</th>        <th class=\"col_heading level0 col7\" >MCC</th>        <th class=\"col_heading level0 col8\" >TT (Sec)</th>    </tr></thead><tbody>\n",
       "                <tr>\n",
       "                        <th id=\"T_28250_level0_row0\" class=\"row_heading level0 row0\" >5</th>\n",
       "                        <td id=\"T_28250_row0_col0\" class=\"data row0 col0\" >Light Gradient Boosting Machine</td>\n",
       "                        <td id=\"T_28250_row0_col1\" class=\"data row0 col1\" >0.9321</td>\n",
       "                        <td id=\"T_28250_row0_col2\" class=\"data row0 col2\" >0.9581</td>\n",
       "                        <td id=\"T_28250_row0_col3\" class=\"data row0 col3\" >0.9796</td>\n",
       "                        <td id=\"T_28250_row0_col4\" class=\"data row0 col4\" >0.9149</td>\n",
       "                        <td id=\"T_28250_row0_col5\" class=\"data row0 col5\" >0.9462</td>\n",
       "                        <td id=\"T_28250_row0_col6\" class=\"data row0 col6\" >0.8546</td>\n",
       "                        <td id=\"T_28250_row0_col7\" class=\"data row0 col7\" >0.8583</td>\n",
       "                        <td id=\"T_28250_row0_col8\" class=\"data row0 col8\" >0.0460</td>\n",
       "            </tr>\n",
       "            <tr>\n",
       "                        <th id=\"T_28250_level0_row1\" class=\"row_heading level0 row1\" >9</th>\n",
       "                        <td id=\"T_28250_row1_col0\" class=\"data row1 col0\" >Extreme Gradient Boosting</td>\n",
       "                        <td id=\"T_28250_row1_col1\" class=\"data row1 col1\" >0.9311</td>\n",
       "                        <td id=\"T_28250_row1_col2\" class=\"data row1 col2\" >0.9553</td>\n",
       "                        <td id=\"T_28250_row1_col3\" class=\"data row1 col3\" >0.9788</td>\n",
       "                        <td id=\"T_28250_row1_col4\" class=\"data row1 col4\" >0.9142</td>\n",
       "                        <td id=\"T_28250_row1_col5\" class=\"data row1 col5\" >0.9454</td>\n",
       "                        <td id=\"T_28250_row1_col6\" class=\"data row1 col6\" >0.8525</td>\n",
       "                        <td id=\"T_28250_row1_col7\" class=\"data row1 col7\" >0.8562</td>\n",
       "                        <td id=\"T_28250_row1_col8\" class=\"data row1 col8\" >0.4620</td>\n",
       "            </tr>\n",
       "            <tr>\n",
       "                        <th id=\"T_28250_level0_row2\" class=\"row_heading level0 row2\" >2</th>\n",
       "                        <td id=\"T_28250_row2_col0\" class=\"data row2 col0\" >Gradient Boosting Classifier</td>\n",
       "                        <td id=\"T_28250_row2_col1\" class=\"data row2 col1\" >0.9303</td>\n",
       "                        <td id=\"T_28250_row2_col2\" class=\"data row2 col2\" >0.9589</td>\n",
       "                        <td id=\"T_28250_row2_col3\" class=\"data row2 col3\" >0.9785</td>\n",
       "                        <td id=\"T_28250_row2_col4\" class=\"data row2 col4\" >0.9133</td>\n",
       "                        <td id=\"T_28250_row2_col5\" class=\"data row2 col5\" >0.9447</td>\n",
       "                        <td id=\"T_28250_row2_col6\" class=\"data row2 col6\" >0.8506</td>\n",
       "                        <td id=\"T_28250_row2_col7\" class=\"data row2 col7\" >0.8544</td>\n",
       "                        <td id=\"T_28250_row2_col8\" class=\"data row2 col8\" >0.2020</td>\n",
       "            </tr>\n",
       "            <tr>\n",
       "                        <th id=\"T_28250_level0_row3\" class=\"row_heading level0 row3\" >0</th>\n",
       "                        <td id=\"T_28250_row3_col0\" class=\"data row3 col0\" >Ada Boost Classifier</td>\n",
       "                        <td id=\"T_28250_row3_col1\" class=\"data row3 col1\" >0.9265</td>\n",
       "                        <td id=\"T_28250_row3_col2\" class=\"data row3 col2\" >0.9566</td>\n",
       "                        <td id=\"T_28250_row3_col3\" class=\"data row3 col3\" >0.9795</td>\n",
       "                        <td id=\"T_28250_row3_col4\" class=\"data row3 col4\" >0.9073</td>\n",
       "                        <td id=\"T_28250_row3_col5\" class=\"data row3 col5\" >0.9420</td>\n",
       "                        <td id=\"T_28250_row3_col6\" class=\"data row3 col6\" >0.8423</td>\n",
       "                        <td id=\"T_28250_row3_col7\" class=\"data row3 col7\" >0.8469</td>\n",
       "                        <td id=\"T_28250_row3_col8\" class=\"data row3 col8\" >0.2000</td>\n",
       "            </tr>\n",
       "            <tr>\n",
       "                        <th id=\"T_28250_level0_row4\" class=\"row_heading level0 row4\" >7</th>\n",
       "                        <td id=\"T_28250_row4_col0\" class=\"data row4 col0\" >Random Forest Classifier</td>\n",
       "                        <td id=\"T_28250_row4_col1\" class=\"data row4 col1\" >0.9259</td>\n",
       "                        <td id=\"T_28250_row4_col2\" class=\"data row4 col2\" >0.9509</td>\n",
       "                        <td id=\"T_28250_row4_col3\" class=\"data row4 col3\" >0.9690</td>\n",
       "                        <td id=\"T_28250_row4_col4\" class=\"data row4 col4\" >0.9144</td>\n",
       "                        <td id=\"T_28250_row4_col5\" class=\"data row4 col5\" >0.9409</td>\n",
       "                        <td id=\"T_28250_row4_col6\" class=\"data row4 col6\" >0.8417</td>\n",
       "                        <td id=\"T_28250_row4_col7\" class=\"data row4 col7\" >0.8443</td>\n",
       "                        <td id=\"T_28250_row4_col8\" class=\"data row4 col8\" >0.2700</td>\n",
       "            </tr>\n",
       "            <tr>\n",
       "                        <th id=\"T_28250_level0_row5\" class=\"row_heading level0 row5\" >8</th>\n",
       "                        <td id=\"T_28250_row5_col0\" class=\"data row5 col0\" >NGBClassifier</td>\n",
       "                        <td id=\"T_28250_row5_col1\" class=\"data row5 col1\" >0.9246</td>\n",
       "                        <td id=\"T_28250_row5_col2\" class=\"data row5 col2\" >0.9578</td>\n",
       "                        <td id=\"T_28250_row5_col3\" class=\"data row5 col3\" >0.9760</td>\n",
       "                        <td id=\"T_28250_row5_col4\" class=\"data row5 col4\" >0.9072</td>\n",
       "                        <td id=\"T_28250_row5_col5\" class=\"data row5 col5\" >0.9403</td>\n",
       "                        <td id=\"T_28250_row5_col6\" class=\"data row5 col6\" >0.8382</td>\n",
       "                        <td id=\"T_28250_row5_col7\" class=\"data row5 col7\" >0.8423</td>\n",
       "                        <td id=\"T_28250_row5_col8\" class=\"data row5 col8\" >4.1160</td>\n",
       "            </tr>\n",
       "            <tr>\n",
       "                        <th id=\"T_28250_level0_row6\" class=\"row_heading level0 row6\" >3</th>\n",
       "                        <td id=\"T_28250_row6_col0\" class=\"data row6 col0\" >Extra Trees Classifier</td>\n",
       "                        <td id=\"T_28250_row6_col1\" class=\"data row6 col1\" >0.9218</td>\n",
       "                        <td id=\"T_28250_row6_col2\" class=\"data row6 col2\" >0.9450</td>\n",
       "                        <td id=\"T_28250_row6_col3\" class=\"data row6 col3\" >0.9628</td>\n",
       "                        <td id=\"T_28250_row6_col4\" class=\"data row6 col4\" >0.9134</td>\n",
       "                        <td id=\"T_28250_row6_col5\" class=\"data row6 col5\" >0.9374</td>\n",
       "                        <td id=\"T_28250_row6_col6\" class=\"data row6 col6\" >0.8332</td>\n",
       "                        <td id=\"T_28250_row6_col7\" class=\"data row6 col7\" >0.8353</td>\n",
       "                        <td id=\"T_28250_row6_col8\" class=\"data row6 col8\" >0.2450</td>\n",
       "            </tr>\n",
       "            <tr>\n",
       "                        <th id=\"T_28250_level0_row7\" class=\"row_heading level0 row7\" >4</th>\n",
       "                        <td id=\"T_28250_row7_col0\" class=\"data row7 col0\" >K Neighbors Classifier</td>\n",
       "                        <td id=\"T_28250_row7_col1\" class=\"data row7 col1\" >0.9078</td>\n",
       "                        <td id=\"T_28250_row7_col2\" class=\"data row7 col2\" >0.9280</td>\n",
       "                        <td id=\"T_28250_row7_col3\" class=\"data row7 col3\" >0.9682</td>\n",
       "                        <td id=\"T_28250_row7_col4\" class=\"data row7 col4\" >0.8900</td>\n",
       "                        <td id=\"T_28250_row7_col5\" class=\"data row7 col5\" >0.9275</td>\n",
       "                        <td id=\"T_28250_row7_col6\" class=\"data row7 col6\" >0.8015</td>\n",
       "                        <td id=\"T_28250_row7_col7\" class=\"data row7 col7\" >0.8069</td>\n",
       "                        <td id=\"T_28250_row7_col8\" class=\"data row7 col8\" >0.0460</td>\n",
       "            </tr>\n",
       "            <tr>\n",
       "                        <th id=\"T_28250_level0_row8\" class=\"row_heading level0 row8\" >1</th>\n",
       "                        <td id=\"T_28250_row8_col0\" class=\"data row8 col0\" >Decision Tree Classifier</td>\n",
       "                        <td id=\"T_28250_row8_col1\" class=\"data row8 col1\" >0.8811</td>\n",
       "                        <td id=\"T_28250_row8_col2\" class=\"data row8 col2\" >0.8802</td>\n",
       "                        <td id=\"T_28250_row8_col3\" class=\"data row8 col3\" >0.8969</td>\n",
       "                        <td id=\"T_28250_row8_col4\" class=\"data row8 col4\" >0.9069</td>\n",
       "                        <td id=\"T_28250_row8_col5\" class=\"data row8 col5\" >0.9018</td>\n",
       "                        <td id=\"T_28250_row8_col6\" class=\"data row8 col6\" >0.7512</td>\n",
       "                        <td id=\"T_28250_row8_col7\" class=\"data row8 col7\" >0.7513</td>\n",
       "                        <td id=\"T_28250_row8_col8\" class=\"data row8 col8\" >0.0210</td>\n",
       "            </tr>\n",
       "            <tr>\n",
       "                        <th id=\"T_28250_level0_row9\" class=\"row_heading level0 row9\" >6</th>\n",
       "                        <td id=\"T_28250_row9_col0\" class=\"data row9 col0\" >Logistic Regression</td>\n",
       "                        <td id=\"T_28250_row9_col1\" class=\"data row9 col1\" >0.8628</td>\n",
       "                        <td id=\"T_28250_row9_col2\" class=\"data row9 col2\" >0.9059</td>\n",
       "                        <td id=\"T_28250_row9_col3\" class=\"data row9 col3\" >0.9192</td>\n",
       "                        <td id=\"T_28250_row9_col4\" class=\"data row9 col4\" >0.8644</td>\n",
       "                        <td id=\"T_28250_row9_col5\" class=\"data row9 col5\" >0.8908</td>\n",
       "                        <td id=\"T_28250_row9_col6\" class=\"data row9 col6\" >0.7066</td>\n",
       "                        <td id=\"T_28250_row9_col7\" class=\"data row9 col7\" >0.7095</td>\n",
       "                        <td id=\"T_28250_row9_col8\" class=\"data row9 col8\" >0.0590</td>\n",
       "            </tr>\n",
       "    </tbody></table>"
      ],
      "text/plain": [
       "<pandas.io.formats.style.Styler at 0x7fdbfe7347d0>"
      ]
     },
     "metadata": {},
     "output_type": "display_data"
    }
   ],
   "source": [
    "# adding an extra classifier ngboost\n",
    "ngc = NGBClassifier()\n",
    "ngboost = create_model(ngc)\n",
    "\n",
    "model_matrix = compare_models(\n",
    "    fold=10,\n",
    "    include=[\"ada\",\"dt\",\"gbc\",\"et\",\"knn\",\"lightgbm\",\"lr\",\"rf\",ngboost,\"xgboost\"]\n",
    ")"
   ]
  },
  {
   "cell_type": "markdown",
   "id": "03df160e-ac51-4adb-a131-91201fdd8358",
   "metadata": {},
   "source": [
    "### The top model is performing well, so let's compare it against our unseen eval dataset:"
   ]
  },
  {
   "cell_type": "code",
   "execution_count": 34,
   "id": "9b4716b3-5a6b-4942-a32c-7ef3e9083509",
   "metadata": {},
   "outputs": [
    {
     "data": {
      "text/html": [
       "<style  type=\"text/css\" >\n",
       "#T_08bb8_row10_col0,#T_08bb8_row10_col1,#T_08bb8_row10_col2,#T_08bb8_row10_col3,#T_08bb8_row10_col4,#T_08bb8_row10_col5,#T_08bb8_row10_col6{\n",
       "            background:  yellow;\n",
       "        }</style><table id=\"T_08bb8_\" ><thead>    <tr>        <th class=\"blank level0\" ></th>        <th class=\"col_heading level0 col0\" >Accuracy</th>        <th class=\"col_heading level0 col1\" >AUC</th>        <th class=\"col_heading level0 col2\" >Recall</th>        <th class=\"col_heading level0 col3\" >Prec.</th>        <th class=\"col_heading level0 col4\" >F1</th>        <th class=\"col_heading level0 col5\" >Kappa</th>        <th class=\"col_heading level0 col6\" >MCC</th>    </tr></thead><tbody>\n",
       "                <tr>\n",
       "                        <th id=\"T_08bb8_level0_row0\" class=\"row_heading level0 row0\" >0</th>\n",
       "                        <td id=\"T_08bb8_row0_col0\" class=\"data row0 col0\" >0.9262</td>\n",
       "                        <td id=\"T_08bb8_row0_col1\" class=\"data row0 col1\" >0.9507</td>\n",
       "                        <td id=\"T_08bb8_row0_col2\" class=\"data row0 col2\" >0.9800</td>\n",
       "                        <td id=\"T_08bb8_row0_col3\" class=\"data row0 col3\" >0.9064</td>\n",
       "                        <td id=\"T_08bb8_row0_col4\" class=\"data row0 col4\" >0.9418</td>\n",
       "                        <td id=\"T_08bb8_row0_col5\" class=\"data row0 col5\" >0.8414</td>\n",
       "                        <td id=\"T_08bb8_row0_col6\" class=\"data row0 col6\" >0.8462</td>\n",
       "            </tr>\n",
       "            <tr>\n",
       "                        <th id=\"T_08bb8_level0_row1\" class=\"row_heading level0 row1\" >1</th>\n",
       "                        <td id=\"T_08bb8_row1_col0\" class=\"data row1 col0\" >0.9303</td>\n",
       "                        <td id=\"T_08bb8_row1_col1\" class=\"data row1 col1\" >0.9574</td>\n",
       "                        <td id=\"T_08bb8_row1_col2\" class=\"data row1 col2\" >0.9793</td>\n",
       "                        <td id=\"T_08bb8_row1_col3\" class=\"data row1 col3\" >0.9125</td>\n",
       "                        <td id=\"T_08bb8_row1_col4\" class=\"data row1 col4\" >0.9447</td>\n",
       "                        <td id=\"T_08bb8_row1_col5\" class=\"data row1 col5\" >0.8505</td>\n",
       "                        <td id=\"T_08bb8_row1_col6\" class=\"data row1 col6\" >0.8545</td>\n",
       "            </tr>\n",
       "            <tr>\n",
       "                        <th id=\"T_08bb8_level0_row2\" class=\"row_heading level0 row2\" >2</th>\n",
       "                        <td id=\"T_08bb8_row2_col0\" class=\"data row2 col0\" >0.9351</td>\n",
       "                        <td id=\"T_08bb8_row2_col1\" class=\"data row2 col1\" >0.9635</td>\n",
       "                        <td id=\"T_08bb8_row2_col2\" class=\"data row2 col2\" >0.9700</td>\n",
       "                        <td id=\"T_08bb8_row2_col3\" class=\"data row2 col3\" >0.9268</td>\n",
       "                        <td id=\"T_08bb8_row2_col4\" class=\"data row2 col4\" >0.9479</td>\n",
       "                        <td id=\"T_08bb8_row2_col5\" class=\"data row2 col5\" >0.8620</td>\n",
       "                        <td id=\"T_08bb8_row2_col6\" class=\"data row2 col6\" >0.8636</td>\n",
       "            </tr>\n",
       "            <tr>\n",
       "                        <th id=\"T_08bb8_level0_row3\" class=\"row_heading level0 row3\" >3</th>\n",
       "                        <td id=\"T_08bb8_row3_col0\" class=\"data row3 col0\" >0.9254</td>\n",
       "                        <td id=\"T_08bb8_row3_col1\" class=\"data row3 col1\" >0.9572</td>\n",
       "                        <td id=\"T_08bb8_row3_col2\" class=\"data row3 col2\" >0.9720</td>\n",
       "                        <td id=\"T_08bb8_row3_col3\" class=\"data row3 col3\" >0.9113</td>\n",
       "                        <td id=\"T_08bb8_row3_col4\" class=\"data row3 col4\" >0.9407</td>\n",
       "                        <td id=\"T_08bb8_row3_col5\" class=\"data row3 col5\" >0.8404</td>\n",
       "                        <td id=\"T_08bb8_row3_col6\" class=\"data row3 col6\" >0.8436</td>\n",
       "            </tr>\n",
       "            <tr>\n",
       "                        <th id=\"T_08bb8_level0_row4\" class=\"row_heading level0 row4\" >4</th>\n",
       "                        <td id=\"T_08bb8_row4_col0\" class=\"data row4 col0\" >0.9383</td>\n",
       "                        <td id=\"T_08bb8_row4_col1\" class=\"data row4 col1\" >0.9617</td>\n",
       "                        <td id=\"T_08bb8_row4_col2\" class=\"data row4 col2\" >0.9820</td>\n",
       "                        <td id=\"T_08bb8_row4_col3\" class=\"data row4 col3\" >0.9218</td>\n",
       "                        <td id=\"T_08bb8_row4_col4\" class=\"data row4 col4\" >0.9510</td>\n",
       "                        <td id=\"T_08bb8_row4_col5\" class=\"data row4 col5\" >0.8681</td>\n",
       "                        <td id=\"T_08bb8_row4_col6\" class=\"data row4 col6\" >0.8713</td>\n",
       "            </tr>\n",
       "            <tr>\n",
       "                        <th id=\"T_08bb8_level0_row5\" class=\"row_heading level0 row5\" >5</th>\n",
       "                        <td id=\"T_08bb8_row5_col0\" class=\"data row5 col0\" >0.9387</td>\n",
       "                        <td id=\"T_08bb8_row5_col1\" class=\"data row5 col1\" >0.9591</td>\n",
       "                        <td id=\"T_08bb8_row5_col2\" class=\"data row5 col2\" >0.9847</td>\n",
       "                        <td id=\"T_08bb8_row5_col3\" class=\"data row5 col3\" >0.9203</td>\n",
       "                        <td id=\"T_08bb8_row5_col4\" class=\"data row5 col4\" >0.9514</td>\n",
       "                        <td id=\"T_08bb8_row5_col5\" class=\"data row5 col5\" >0.8688</td>\n",
       "                        <td id=\"T_08bb8_row5_col6\" class=\"data row5 col6\" >0.8725</td>\n",
       "            </tr>\n",
       "            <tr>\n",
       "                        <th id=\"T_08bb8_level0_row6\" class=\"row_heading level0 row6\" >6</th>\n",
       "                        <td id=\"T_08bb8_row6_col0\" class=\"data row6 col0\" >0.9298</td>\n",
       "                        <td id=\"T_08bb8_row6_col1\" class=\"data row6 col1\" >0.9573</td>\n",
       "                        <td id=\"T_08bb8_row6_col2\" class=\"data row6 col2\" >0.9807</td>\n",
       "                        <td id=\"T_08bb8_row6_col3\" class=\"data row6 col3\" >0.9109</td>\n",
       "                        <td id=\"T_08bb8_row6_col4\" class=\"data row6 col4\" >0.9445</td>\n",
       "                        <td id=\"T_08bb8_row6_col5\" class=\"data row6 col5\" >0.8494</td>\n",
       "                        <td id=\"T_08bb8_row6_col6\" class=\"data row6 col6\" >0.8537</td>\n",
       "            </tr>\n",
       "            <tr>\n",
       "                        <th id=\"T_08bb8_level0_row7\" class=\"row_heading level0 row7\" >7</th>\n",
       "                        <td id=\"T_08bb8_row7_col0\" class=\"data row7 col0\" >0.9331</td>\n",
       "                        <td id=\"T_08bb8_row7_col1\" class=\"data row7 col1\" >0.9589</td>\n",
       "                        <td id=\"T_08bb8_row7_col2\" class=\"data row7 col2\" >0.9813</td>\n",
       "                        <td id=\"T_08bb8_row7_col3\" class=\"data row7 col3\" >0.9149</td>\n",
       "                        <td id=\"T_08bb8_row7_col4\" class=\"data row7 col4\" >0.9470</td>\n",
       "                        <td id=\"T_08bb8_row7_col5\" class=\"data row7 col5\" >0.8566</td>\n",
       "                        <td id=\"T_08bb8_row7_col6\" class=\"data row7 col6\" >0.8604</td>\n",
       "            </tr>\n",
       "            <tr>\n",
       "                        <th id=\"T_08bb8_level0_row8\" class=\"row_heading level0 row8\" >8</th>\n",
       "                        <td id=\"T_08bb8_row8_col0\" class=\"data row8 col0\" >0.9331</td>\n",
       "                        <td id=\"T_08bb8_row8_col1\" class=\"data row8 col1\" >0.9558</td>\n",
       "                        <td id=\"T_08bb8_row8_col2\" class=\"data row8 col2\" >0.9827</td>\n",
       "                        <td id=\"T_08bb8_row8_col3\" class=\"data row8 col3\" >0.9139</td>\n",
       "                        <td id=\"T_08bb8_row8_col4\" class=\"data row8 col4\" >0.9470</td>\n",
       "                        <td id=\"T_08bb8_row8_col5\" class=\"data row8 col5\" >0.8564</td>\n",
       "                        <td id=\"T_08bb8_row8_col6\" class=\"data row8 col6\" >0.8606</td>\n",
       "            </tr>\n",
       "            <tr>\n",
       "                        <th id=\"T_08bb8_level0_row9\" class=\"row_heading level0 row9\" >9</th>\n",
       "                        <td id=\"T_08bb8_row9_col0\" class=\"data row9 col0\" >0.9310</td>\n",
       "                        <td id=\"T_08bb8_row9_col1\" class=\"data row9 col1\" >0.9593</td>\n",
       "                        <td id=\"T_08bb8_row9_col2\" class=\"data row9 col2\" >0.9833</td>\n",
       "                        <td id=\"T_08bb8_row9_col3\" class=\"data row9 col3\" >0.9105</td>\n",
       "                        <td id=\"T_08bb8_row9_col4\" class=\"data row9 col4\" >0.9455</td>\n",
       "                        <td id=\"T_08bb8_row9_col5\" class=\"data row9 col5\" >0.8519</td>\n",
       "                        <td id=\"T_08bb8_row9_col6\" class=\"data row9 col6\" >0.8566</td>\n",
       "            </tr>\n",
       "            <tr>\n",
       "                        <th id=\"T_08bb8_level0_row10\" class=\"row_heading level0 row10\" >Mean</th>\n",
       "                        <td id=\"T_08bb8_row10_col0\" class=\"data row10 col0\" >0.9321</td>\n",
       "                        <td id=\"T_08bb8_row10_col1\" class=\"data row10 col1\" >0.9581</td>\n",
       "                        <td id=\"T_08bb8_row10_col2\" class=\"data row10 col2\" >0.9796</td>\n",
       "                        <td id=\"T_08bb8_row10_col3\" class=\"data row10 col3\" >0.9149</td>\n",
       "                        <td id=\"T_08bb8_row10_col4\" class=\"data row10 col4\" >0.9462</td>\n",
       "                        <td id=\"T_08bb8_row10_col5\" class=\"data row10 col5\" >0.8546</td>\n",
       "                        <td id=\"T_08bb8_row10_col6\" class=\"data row10 col6\" >0.8583</td>\n",
       "            </tr>\n",
       "            <tr>\n",
       "                        <th id=\"T_08bb8_level0_row11\" class=\"row_heading level0 row11\" >SD</th>\n",
       "                        <td id=\"T_08bb8_row11_col0\" class=\"data row11 col0\" >0.0043</td>\n",
       "                        <td id=\"T_08bb8_row11_col1\" class=\"data row11 col1\" >0.0033</td>\n",
       "                        <td id=\"T_08bb8_row11_col2\" class=\"data row11 col2\" >0.0046</td>\n",
       "                        <td id=\"T_08bb8_row11_col3\" class=\"data row11 col3\" >0.0059</td>\n",
       "                        <td id=\"T_08bb8_row11_col4\" class=\"data row11 col4\" >0.0033</td>\n",
       "                        <td id=\"T_08bb8_row11_col5\" class=\"data row11 col5\" >0.0093</td>\n",
       "                        <td id=\"T_08bb8_row11_col6\" class=\"data row11 col6\" >0.0090</td>\n",
       "            </tr>\n",
       "    </tbody></table>"
      ],
      "text/plain": [
       "<pandas.io.formats.style.Styler at 0x7fdbfe4992d0>"
      ]
     },
     "metadata": {},
     "output_type": "display_data"
    }
   ],
   "source": [
    "best_model = create_model(model_matrix)\n",
    "\n",
    "unseen_predictions = predict_model(best_model, data=df_eval)"
   ]
  },
  {
   "cell_type": "code",
   "execution_count": 37,
   "id": "91a5fe5d-8863-4d70-9014-4c79d1c78d98",
   "metadata": {},
   "outputs": [
    {
     "data": {
      "image/png": "[encoded data removed]",
      "text/plain": [
       "<Figure size 576x396 with 1 Axes>"
      ]
     },
     "metadata": {},
     "output_type": "display_data"
    }
   ],
   "source": [
    "plot_model(best_model, plot='auc')"
   ]
  },
  {
   "cell_type": "code",
   "execution_count": 35,
   "id": "7e22aece-548d-49e8-a88c-c276cecd27f6",
   "metadata": {},
   "outputs": [
    {
     "data": {
      "image/png": "[encoded data removed]",
      "text/plain": [
       "<Figure size 800x500 with 1 Axes>"
      ]
     },
     "metadata": {},
     "output_type": "display_data"
    }
   ],
   "source": [
    "plot_model(best_model, plot='feature')"
   ]
  },
  {
   "cell_type": "code",
   "execution_count": 36,
   "id": "92d355a2-c3e5-4084-8a4c-86b2778273b2",
   "metadata": {},
   "outputs": [
    {
     "data": {
      "image/png": "[encoded data removed]",
      "text/plain": [
       "<Figure size 576x396 with 1 Axes>"
      ]
     },
     "metadata": {},
     "output_type": "display_data"
    }
   ],
   "source": [
    "plot_model(best_model, plot='confusion_matrix')"
   ]
  },
  {
   "cell_type": "markdown",
   "id": "f403c988",
   "metadata": {},
   "source": [
    "## Results"
   ]
  },
  {
   "cell_type": "markdown",
   "id": "22e76df0",
   "metadata": {},
   "source": [
    "## Observations\n",
    "Here you can document some ideas on the results from above"
   ]
  },
  {
   "cell_type": "markdown",
   "id": "abda0dfd",
   "metadata": {},
   "source": [
    "## Conclusions\n",
    "Here you can talk about next steps, did the experiment work? If yes, what to do next? If no, why?"
   ]
  }
 ],
 "metadata": {
  "kernelspec": {
   "display_name": "Python 3 (ipykernel)",
   "language": "python",
   "name": "python3"
  },
  "language_info": {
   "codemirror_mode": {
    "name": "ipython",
    "version": 3
   },
   "file_extension": ".py",
   "mimetype": "text/x-python",
   "name": "python",
   "nbconvert_exporter": "python",
   "pygments_lexer": "ipython3",
   "version": "3.7.10"
  }
 },
 "nbformat": 4,
 "nbformat_minor": 5
}
