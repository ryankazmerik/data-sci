{
 "cells": [
  {
   "cell_type": "markdown",
   "id": "6ee08766-25fd-4da1-91b8-b0c3e74db588",
   "metadata": {},
   "source": [
    "# Score Distribution Example\n",
    "* StelllarAlgo Data Science\n",
    "* Ryan Kazmerik & Nakisa Rad\n",
    "* Dec 20, 2021"
   ]
  },
  {
   "cell_type": "code",
   "execution_count": 39,
   "id": "4c533efd-600e-4bce-8203-faffbddfa700",
   "metadata": {},
   "outputs": [
    {
     "name": "stderr",
     "output_type": "stream",
     "text": [
      "/opt/miniconda3/envs/stellar/lib/python3.7/site-packages/xgboost/sklearn.py:1146: UserWarning: The use of label encoder in XGBClassifier is deprecated and will be removed in a future release. To remove this warning, do the following: 1) Pass option use_label_encoder=False when constructing XGBClassifier object; and 2) Encode your labels (y) as integers starting with 0, i.e. 0, 1, 2, ..., [num_class - 1].\n",
      "  warnings.warn(label_encoder_deprecation_msg, UserWarning)\n",
      "/opt/miniconda3/envs/stellar/lib/python3.7/site-packages/xgboost/sklearn.py:1146: UserWarning: The use of label encoder in XGBClassifier is deprecated and will be removed in a future release. To remove this warning, do the following: 1) Pass option use_label_encoder=False when constructing XGBClassifier object; and 2) Encode your labels (y) as integers starting with 0, i.e. 0, 1, 2, ..., [num_class - 1].\n",
      "  warnings.warn(label_encoder_deprecation_msg, UserWarning)\n",
      "/opt/miniconda3/envs/stellar/lib/python3.7/site-packages/xgboost/sklearn.py:1146: UserWarning: The use of label encoder in XGBClassifier is deprecated and will be removed in a future release. To remove this warning, do the following: 1) Pass option use_label_encoder=False when constructing XGBClassifier object; and 2) Encode your labels (y) as integers starting with 0, i.e. 0, 1, 2, ..., [num_class - 1].\n",
      "  warnings.warn(label_encoder_deprecation_msg, UserWarning)\n",
      "/opt/miniconda3/envs/stellar/lib/python3.7/site-packages/xgboost/sklearn.py:1146: UserWarning: The use of label encoder in XGBClassifier is deprecated and will be removed in a future release. To remove this warning, do the following: 1) Pass option use_label_encoder=False when constructing XGBClassifier object; and 2) Encode your labels (y) as integers starting with 0, i.e. 0, 1, 2, ..., [num_class - 1].\n",
      "  warnings.warn(label_encoder_deprecation_msg, UserWarning)\n",
      "/opt/miniconda3/envs/stellar/lib/python3.7/site-packages/xgboost/sklearn.py:1146: UserWarning: The use of label encoder in XGBClassifier is deprecated and will be removed in a future release. To remove this warning, do the following: 1) Pass option use_label_encoder=False when constructing XGBClassifier object; and 2) Encode your labels (y) as integers starting with 0, i.e. 0, 1, 2, ..., [num_class - 1].\n",
      "  warnings.warn(label_encoder_deprecation_msg, UserWarning)\n",
      "/opt/miniconda3/envs/stellar/lib/python3.7/site-packages/xgboost/sklearn.py:1146: UserWarning: The use of label encoder in XGBClassifier is deprecated and will be removed in a future release. To remove this warning, do the following: 1) Pass option use_label_encoder=False when constructing XGBClassifier object; and 2) Encode your labels (y) as integers starting with 0, i.e. 0, 1, 2, ..., [num_class - 1].\n",
      "  warnings.warn(label_encoder_deprecation_msg, UserWarning)\n",
      "/opt/miniconda3/envs/stellar/lib/python3.7/site-packages/xgboost/sklearn.py:1146: UserWarning: The use of label encoder in XGBClassifier is deprecated and will be removed in a future release. To remove this warning, do the following: 1) Pass option use_label_encoder=False when constructing XGBClassifier object; and 2) Encode your labels (y) as integers starting with 0, i.e. 0, 1, 2, ..., [num_class - 1].\n",
      "  warnings.warn(label_encoder_deprecation_msg, UserWarning)\n",
      "/opt/miniconda3/envs/stellar/lib/python3.7/site-packages/xgboost/sklearn.py:1146: UserWarning: The use of label encoder in XGBClassifier is deprecated and will be removed in a future release. To remove this warning, do the following: 1) Pass option use_label_encoder=False when constructing XGBClassifier object; and 2) Encode your labels (y) as integers starting with 0, i.e. 0, 1, 2, ..., [num_class - 1].\n",
      "  warnings.warn(label_encoder_deprecation_msg, UserWarning)\n",
      "/opt/miniconda3/envs/stellar/lib/python3.7/site-packages/xgboost/sklearn.py:1146: UserWarning: The use of label encoder in XGBClassifier is deprecated and will be removed in a future release. To remove this warning, do the following: 1) Pass option use_label_encoder=False when constructing XGBClassifier object; and 2) Encode your labels (y) as integers starting with 0, i.e. 0, 1, 2, ..., [num_class - 1].\n",
      "  warnings.warn(label_encoder_deprecation_msg, UserWarning)\n",
      "/opt/miniconda3/envs/stellar/lib/python3.7/site-packages/xgboost/sklearn.py:1146: UserWarning: The use of label encoder in XGBClassifier is deprecated and will be removed in a future release. To remove this warning, do the following: 1) Pass option use_label_encoder=False when constructing XGBClassifier object; and 2) Encode your labels (y) as integers starting with 0, i.e. 0, 1, 2, ..., [num_class - 1].\n",
      "  warnings.warn(label_encoder_deprecation_msg, UserWarning)\n",
      "/opt/miniconda3/envs/stellar/lib/python3.7/site-packages/xgboost/sklearn.py:1146: UserWarning: The use of label encoder in XGBClassifier is deprecated and will be removed in a future release. To remove this warning, do the following: 1) Pass option use_label_encoder=False when constructing XGBClassifier object; and 2) Encode your labels (y) as integers starting with 0, i.e. 0, 1, 2, ..., [num_class - 1].\n",
      "  warnings.warn(label_encoder_deprecation_msg, UserWarning)\n",
      "/opt/miniconda3/envs/stellar/lib/python3.7/site-packages/xgboost/sklearn.py:1146: UserWarning: The use of label encoder in XGBClassifier is deprecated and will be removed in a future release. To remove this warning, do the following: 1) Pass option use_label_encoder=False when constructing XGBClassifier object; and 2) Encode your labels (y) as integers starting with 0, i.e. 0, 1, 2, ..., [num_class - 1].\n",
      "  warnings.warn(label_encoder_deprecation_msg, UserWarning)\n",
      "/opt/miniconda3/envs/stellar/lib/python3.7/site-packages/xgboost/sklearn.py:1146: UserWarning: The use of label encoder in XGBClassifier is deprecated and will be removed in a future release. To remove this warning, do the following: 1) Pass option use_label_encoder=False when constructing XGBClassifier object; and 2) Encode your labels (y) as integers starting with 0, i.e. 0, 1, 2, ..., [num_class - 1].\n",
      "  warnings.warn(label_encoder_deprecation_msg, UserWarning)\n",
      "/opt/miniconda3/envs/stellar/lib/python3.7/site-packages/xgboost/sklearn.py:1146: UserWarning: The use of label encoder in XGBClassifier is deprecated and will be removed in a future release. To remove this warning, do the following: 1) Pass option use_label_encoder=False when constructing XGBClassifier object; and 2) Encode your labels (y) as integers starting with 0, i.e. 0, 1, 2, ..., [num_class - 1].\n",
      "  warnings.warn(label_encoder_deprecation_msg, UserWarning)\n",
      "/opt/miniconda3/envs/stellar/lib/python3.7/site-packages/xgboost/sklearn.py:1146: UserWarning: The use of label encoder in XGBClassifier is deprecated and will be removed in a future release. To remove this warning, do the following: 1) Pass option use_label_encoder=False when constructing XGBClassifier object; and 2) Encode your labels (y) as integers starting with 0, i.e. 0, 1, 2, ..., [num_class - 1].\n",
      "  warnings.warn(label_encoder_deprecation_msg, UserWarning)\n",
      "/opt/miniconda3/envs/stellar/lib/python3.7/site-packages/xgboost/sklearn.py:1146: UserWarning: The use of label encoder in XGBClassifier is deprecated and will be removed in a future release. To remove this warning, do the following: 1) Pass option use_label_encoder=False when constructing XGBClassifier object; and 2) Encode your labels (y) as integers starting with 0, i.e. 0, 1, 2, ..., [num_class - 1].\n",
      "  warnings.warn(label_encoder_deprecation_msg, UserWarning)\n",
      "/opt/miniconda3/envs/stellar/lib/python3.7/site-packages/xgboost/sklearn.py:1146: UserWarning: The use of label encoder in XGBClassifier is deprecated and will be removed in a future release. To remove this warning, do the following: 1) Pass option use_label_encoder=False when constructing XGBClassifier object; and 2) Encode your labels (y) as integers starting with 0, i.e. 0, 1, 2, ..., [num_class - 1].\n",
      "  warnings.warn(label_encoder_deprecation_msg, UserWarning)\n",
      "/opt/miniconda3/envs/stellar/lib/python3.7/site-packages/xgboost/sklearn.py:1146: UserWarning: The use of label encoder in XGBClassifier is deprecated and will be removed in a future release. To remove this warning, do the following: 1) Pass option use_label_encoder=False when constructing XGBClassifier object; and 2) Encode your labels (y) as integers starting with 0, i.e. 0, 1, 2, ..., [num_class - 1].\n",
      "  warnings.warn(label_encoder_deprecation_msg, UserWarning)\n",
      "/opt/miniconda3/envs/stellar/lib/python3.7/site-packages/xgboost/sklearn.py:1146: UserWarning: The use of label encoder in XGBClassifier is deprecated and will be removed in a future release. To remove this warning, do the following: 1) Pass option use_label_encoder=False when constructing XGBClassifier object; and 2) Encode your labels (y) as integers starting with 0, i.e. 0, 1, 2, ..., [num_class - 1].\n",
      "  warnings.warn(label_encoder_deprecation_msg, UserWarning)\n",
      "/opt/miniconda3/envs/stellar/lib/python3.7/site-packages/xgboost/sklearn.py:1146: UserWarning: The use of label encoder in XGBClassifier is deprecated and will be removed in a future release. To remove this warning, do the following: 1) Pass option use_label_encoder=False when constructing XGBClassifier object; and 2) Encode your labels (y) as integers starting with 0, i.e. 0, 1, 2, ..., [num_class - 1].\n",
      "  warnings.warn(label_encoder_deprecation_msg, UserWarning)\n"
     ]
    }
   ],
   "source": [
    "import getpass\n",
    "import pyodbc\n",
    "import pandas as pd\n",
    "import warnings\n",
    "import matplotlib.pyplot as plt\n",
    "\n",
    "from pycaret.classification import *\n",
    "\n",
    "warnings.filterwarnings('ignore')"
   ]
  },
  {
   "cell_type": "markdown",
   "id": "b64ae7d5-84af-4915-bd13-1dd9d17098a3",
   "metadata": {},
   "source": [
    "### Let's connect to MSSQL and run a stored proc to get our dataset:"
   ]
  },
  {
   "cell_type": "code",
   "execution_count": 30,
   "id": "ae561eb4-f419-4d46-b5e0-12fac9b10db8",
   "metadata": {},
   "outputs": [
    {
     "name": "stdin",
     "output_type": "stream",
     "text": [
      "Enter your password ··················\n"
     ]
    }
   ],
   "source": [
    "# connect to SQL Server.\n",
    "SERVER = '34.206.73.189' \n",
    "DATABASE = 'datascience' \n",
    "USERNAME = 'dsAdminWrite' \n",
    "PASSWORD = getpass.getpass(prompt='Enter your password')\n",
    "CNXN = pyodbc.connect('DRIVER={ODBC Driver 17 for SQL Server};SERVER='+SERVER+';DATABASE='+DATABASE+';UID='+USERNAME+';PWD='+ PASSWORD)"
   ]
  },
  {
   "cell_type": "code",
   "execution_count": 32,
   "id": "af1afe7d-a35b-494b-88f3-980fb0e3da30",
   "metadata": {},
   "outputs": [
    {
     "data": {
      "text/plain": [
       "(32915, 54)"
      ]
     },
     "execution_count": 32,
     "metadata": {},
     "output_type": "execute_result"
    }
   ],
   "source": [
    "lkupclientid = 7 # canucks\n",
    "cursor = CNXN.cursor()\n",
    "\n",
    "storedProc = (\n",
    "    f\"\"\"Exec [stlrCanucks].[ds].[getRetentionScoringModelData] {lkupclientid}\"\"\"\n",
    ")\n",
    "\n",
    "df = pd.read_sql(storedProc, CNXN)\n",
    "\n",
    "# apply some data transformations\n",
    "df[\"year\"] = pd.to_numeric(df[\"year\"])\n",
    "\n",
    "CNXN.commit()\n",
    "cursor.close()\n",
    "\n",
    "df.shape"
   ]
  },
  {
   "cell_type": "markdown",
   "id": "ab40da92-72a7-49c1-9829-ed3805a39719",
   "metadata": {},
   "source": [
    "### We should specify the features used in our model:"
   ]
  },
  {
   "cell_type": "code",
   "execution_count": 33,
   "id": "788f1273-8b7a-46bd-a099-1a471feeacc5",
   "metadata": {},
   "outputs": [
    {
     "name": "stdout",
     "output_type": "stream",
     "text": [
      "Data for Modeling: (23643, 9)\n",
      "Unseen Data For Predictions: (4172, 9)\n",
      "\n"
     ]
    }
   ],
   "source": [
    "# choose the features for the stellar base retention model\n",
    "features = [\n",
    "    \"dimCustomerMasterId\",\n",
    "    \"attendancePercent\",\n",
    "    \"distToVenue\",\n",
    "    \"isNextYear_Buyer\",\n",
    "    \"productGrouping\",\n",
    "    \"recency\",\n",
    "    \"source_tenure\",\n",
    "    \"totalSpent\",\n",
    "    \"year\"\n",
    "]\n",
    "\n",
    "# copy your main dataframe\n",
    "df_dataset = df\n",
    "\n",
    "# choose the features & train year & test year\n",
    "df_dataset = df_dataset[features]\n",
    "df_dataset[\"year\"] = pd.to_numeric(df_dataset[\"year\"])\n",
    "df_dataset = df_dataset.loc[df_dataset[\"year\"] <= 2019]\n",
    "\n",
    "df_train = df_dataset.sample(frac=0.85, random_state=786)\n",
    "df_eval = df_dataset.drop(df_train.index)\n",
    "\n",
    "df_train.reset_index(drop=True, inplace=True)\n",
    "df_eval.reset_index(drop=True, inplace=True)\n",
    "\n",
    "# print out the number of records for training and eval\n",
    "print('Data for Modeling: ' + str(df_train.shape))\n",
    "print('Unseen Data For Predictions: ' + str(df_eval.shape), end=\"\\n\\n\")"
   ]
  },
  {
   "cell_type": "markdown",
   "id": "4f2da06d-9015-49fd-89b3-956c2ebf66e9",
   "metadata": {},
   "source": [
    "### Now we can model the data using a binary classification prediction for the isnextyear_buyer field to see how likely a customer is to re-purchase."
   ]
  },
  {
   "cell_type": "code",
   "execution_count": 34,
   "id": "23a69cdc-b3ec-48c8-9ce5-29f617779389",
   "metadata": {},
   "outputs": [],
   "source": [
    "setup(\n",
    "    data= df_train, \n",
    "    target=\"isNextYear_Buyer\", \n",
    "    train_size = 0.85,\n",
    "    data_split_shuffle=True,\n",
    "    ignore_features=[\"dimCustomerMasterId\",\"productGrouping\",\"year\"],\n",
    "    silent=True,\n",
    "    verbose=False,\n",
    "    numeric_features=[\n",
    "        \"attendancePercent\",\n",
    "        \"distToVenue\",\n",
    "        \"recency\",\n",
    "        \"source_tenure\",\n",
    "        \"totalSpent\"\n",
    "    ]\n",
    ");"
   ]
  },
  {
   "cell_type": "markdown",
   "id": "6e1e33e8-ed5f-4e84-abb2-a2fc8370905c",
   "metadata": {},
   "source": [
    "### Let's compare all models to evaluate performance. The output prints a score grid that shows average Accuracy, AUC, Recall, Precision, F1 and Kappa accross the folds (10 by default) along with training time."
   ]
  },
  {
   "cell_type": "code",
   "execution_count": 36,
   "id": "ef2db9d2-02c2-45c0-b6bb-5cad42c373ce",
   "metadata": {},
   "outputs": [
    {
     "data": {
      "text/html": [
       "<style  type=\"text/css\" >\n",
       "    #T_2b29f_ th {\n",
       "          text-align: left;\n",
       "    }#T_2b29f_row0_col0,#T_2b29f_row1_col0,#T_2b29f_row1_col1,#T_2b29f_row1_col2,#T_2b29f_row1_col3,#T_2b29f_row1_col4,#T_2b29f_row1_col5,#T_2b29f_row1_col6,#T_2b29f_row1_col7,#T_2b29f_row2_col0,#T_2b29f_row2_col1,#T_2b29f_row2_col2,#T_2b29f_row2_col3,#T_2b29f_row2_col4,#T_2b29f_row2_col5,#T_2b29f_row2_col6,#T_2b29f_row2_col7,#T_2b29f_row3_col0,#T_2b29f_row3_col1,#T_2b29f_row3_col2,#T_2b29f_row3_col3,#T_2b29f_row3_col4,#T_2b29f_row3_col5,#T_2b29f_row3_col6,#T_2b29f_row3_col7{\n",
       "            text-align:  left;\n",
       "            text-align:  left;\n",
       "        }#T_2b29f_row0_col1,#T_2b29f_row0_col2,#T_2b29f_row0_col3,#T_2b29f_row0_col4,#T_2b29f_row0_col5,#T_2b29f_row0_col6,#T_2b29f_row0_col7{\n",
       "            text-align:  left;\n",
       "            text-align:  left;\n",
       "            background-color:  yellow;\n",
       "        }#T_2b29f_row0_col8,#T_2b29f_row1_col8,#T_2b29f_row2_col8{\n",
       "            text-align:  left;\n",
       "            text-align:  left;\n",
       "            background-color:  lightgrey;\n",
       "        }#T_2b29f_row3_col8{\n",
       "            text-align:  left;\n",
       "            text-align:  left;\n",
       "            background-color:  yellow;\n",
       "            background-color:  lightgrey;\n",
       "        }</style><table id=\"T_2b29f_\" ><thead>    <tr>        <th class=\"blank level0\" ></th>        <th class=\"col_heading level0 col0\" >Model</th>        <th class=\"col_heading level0 col1\" >Accuracy</th>        <th class=\"col_heading level0 col2\" >AUC</th>        <th class=\"col_heading level0 col3\" >Recall</th>        <th class=\"col_heading level0 col4\" >Prec.</th>        <th class=\"col_heading level0 col5\" >F1</th>        <th class=\"col_heading level0 col6\" >Kappa</th>        <th class=\"col_heading level0 col7\" >MCC</th>        <th class=\"col_heading level0 col8\" >TT (Sec)</th>    </tr></thead><tbody>\n",
       "                <tr>\n",
       "                        <th id=\"T_2b29f_level0_row0\" class=\"row_heading level0 row0\" >xgboost</th>\n",
       "                        <td id=\"T_2b29f_row0_col0\" class=\"data row0 col0\" >Extreme Gradient Boosting</td>\n",
       "                        <td id=\"T_2b29f_row0_col1\" class=\"data row0 col1\" >0.7932</td>\n",
       "                        <td id=\"T_2b29f_row0_col2\" class=\"data row0 col2\" >0.8685</td>\n",
       "                        <td id=\"T_2b29f_row0_col3\" class=\"data row0 col3\" >0.8154</td>\n",
       "                        <td id=\"T_2b29f_row0_col4\" class=\"data row0 col4\" >0.7912</td>\n",
       "                        <td id=\"T_2b29f_row0_col5\" class=\"data row0 col5\" >0.8030</td>\n",
       "                        <td id=\"T_2b29f_row0_col6\" class=\"data row0 col6\" >0.5856</td>\n",
       "                        <td id=\"T_2b29f_row0_col7\" class=\"data row0 col7\" >0.5860</td>\n",
       "                        <td id=\"T_2b29f_row0_col8\" class=\"data row0 col8\" >0.4500</td>\n",
       "            </tr>\n",
       "            <tr>\n",
       "                        <th id=\"T_2b29f_level0_row1\" class=\"row_heading level0 row1\" >lightgbm</th>\n",
       "                        <td id=\"T_2b29f_row1_col0\" class=\"data row1 col0\" >Light Gradient Boosting Machine</td>\n",
       "                        <td id=\"T_2b29f_row1_col1\" class=\"data row1 col1\" >0.7788</td>\n",
       "                        <td id=\"T_2b29f_row1_col2\" class=\"data row1 col2\" >0.8581</td>\n",
       "                        <td id=\"T_2b29f_row1_col3\" class=\"data row1 col3\" >0.7926</td>\n",
       "                        <td id=\"T_2b29f_row1_col4\" class=\"data row1 col4\" >0.7824</td>\n",
       "                        <td id=\"T_2b29f_row1_col5\" class=\"data row1 col5\" >0.7874</td>\n",
       "                        <td id=\"T_2b29f_row1_col6\" class=\"data row1 col6\" >0.5569</td>\n",
       "                        <td id=\"T_2b29f_row1_col7\" class=\"data row1 col7\" >0.5571</td>\n",
       "                        <td id=\"T_2b29f_row1_col8\" class=\"data row1 col8\" >1.5190</td>\n",
       "            </tr>\n",
       "            <tr>\n",
       "                        <th id=\"T_2b29f_level0_row2\" class=\"row_heading level0 row2\" >et</th>\n",
       "                        <td id=\"T_2b29f_row2_col0\" class=\"data row2 col0\" >Extra Trees Classifier</td>\n",
       "                        <td id=\"T_2b29f_row2_col1\" class=\"data row2 col1\" >0.7066</td>\n",
       "                        <td id=\"T_2b29f_row2_col2\" class=\"data row2 col2\" >0.7700</td>\n",
       "                        <td id=\"T_2b29f_row2_col3\" class=\"data row2 col3\" >0.7230</td>\n",
       "                        <td id=\"T_2b29f_row2_col4\" class=\"data row2 col4\" >0.7134</td>\n",
       "                        <td id=\"T_2b29f_row2_col5\" class=\"data row2 col5\" >0.7181</td>\n",
       "                        <td id=\"T_2b29f_row2_col6\" class=\"data row2 col6\" >0.4122</td>\n",
       "                        <td id=\"T_2b29f_row2_col7\" class=\"data row2 col7\" >0.4122</td>\n",
       "                        <td id=\"T_2b29f_row2_col8\" class=\"data row2 col8\" >0.4650</td>\n",
       "            </tr>\n",
       "            <tr>\n",
       "                        <th id=\"T_2b29f_level0_row3\" class=\"row_heading level0 row3\" >lr</th>\n",
       "                        <td id=\"T_2b29f_row3_col0\" class=\"data row3 col0\" >Logistic Regression</td>\n",
       "                        <td id=\"T_2b29f_row3_col1\" class=\"data row3 col1\" >0.6196</td>\n",
       "                        <td id=\"T_2b29f_row3_col2\" class=\"data row3 col2\" >0.6882</td>\n",
       "                        <td id=\"T_2b29f_row3_col3\" class=\"data row3 col3\" >0.7164</td>\n",
       "                        <td id=\"T_2b29f_row3_col4\" class=\"data row3 col4\" >0.6164</td>\n",
       "                        <td id=\"T_2b29f_row3_col5\" class=\"data row3 col5\" >0.6603</td>\n",
       "                        <td id=\"T_2b29f_row3_col6\" class=\"data row3 col6\" >0.2336</td>\n",
       "                        <td id=\"T_2b29f_row3_col7\" class=\"data row3 col7\" >0.2392</td>\n",
       "                        <td id=\"T_2b29f_row3_col8\" class=\"data row3 col8\" >0.0240</td>\n",
       "            </tr>\n",
       "    </tbody></table>"
      ],
      "text/plain": [
       "<pandas.io.formats.style.Styler at 0x7f931e477890>"
      ]
     },
     "metadata": {},
     "output_type": "display_data"
    }
   ],
   "source": [
    "model_matrix = compare_models(\n",
    "    fold=10,\n",
    "    include=[\"et\",\"lr\",\"lightgbm\",\"xgboost\"]\n",
    ")"
   ]
  },
  {
   "cell_type": "code",
   "execution_count": 40,
   "id": "7f125197-92d4-495b-b202-0980e261d8c5",
   "metadata": {},
   "outputs": [
    {
     "data": {
      "text/html": [
       "<style  type=\"text/css\" >\n",
       "#T_82209_row10_col0,#T_82209_row10_col1,#T_82209_row10_col2,#T_82209_row10_col3,#T_82209_row10_col4,#T_82209_row10_col5,#T_82209_row10_col6{\n",
       "            background:  yellow;\n",
       "        }</style><table id=\"T_82209_\" ><thead>    <tr>        <th class=\"blank level0\" ></th>        <th class=\"col_heading level0 col0\" >Accuracy</th>        <th class=\"col_heading level0 col1\" >AUC</th>        <th class=\"col_heading level0 col2\" >Recall</th>        <th class=\"col_heading level0 col3\" >Prec.</th>        <th class=\"col_heading level0 col4\" >F1</th>        <th class=\"col_heading level0 col5\" >Kappa</th>        <th class=\"col_heading level0 col6\" >MCC</th>    </tr></thead><tbody>\n",
       "                <tr>\n",
       "                        <th id=\"T_82209_level0_row0\" class=\"row_heading level0 row0\" >0</th>\n",
       "                        <td id=\"T_82209_row0_col0\" class=\"data row0 col0\" >0.8075</td>\n",
       "                        <td id=\"T_82209_row0_col1\" class=\"data row0 col1\" >0.8799</td>\n",
       "                        <td id=\"T_82209_row0_col2\" class=\"data row0 col2\" >0.8258</td>\n",
       "                        <td id=\"T_82209_row0_col3\" class=\"data row0 col3\" >0.8064</td>\n",
       "                        <td id=\"T_82209_row0_col4\" class=\"data row0 col4\" >0.8160</td>\n",
       "                        <td id=\"T_82209_row0_col5\" class=\"data row0 col5\" >0.6142</td>\n",
       "                        <td id=\"T_82209_row0_col6\" class=\"data row0 col6\" >0.6143</td>\n",
       "            </tr>\n",
       "            <tr>\n",
       "                        <th id=\"T_82209_level0_row1\" class=\"row_heading level0 row1\" >1</th>\n",
       "                        <td id=\"T_82209_row1_col0\" class=\"data row1 col0\" >0.7876</td>\n",
       "                        <td id=\"T_82209_row1_col1\" class=\"data row1 col1\" >0.8612</td>\n",
       "                        <td id=\"T_82209_row1_col2\" class=\"data row1 col2\" >0.8123</td>\n",
       "                        <td id=\"T_82209_row1_col3\" class=\"data row1 col3\" >0.7844</td>\n",
       "                        <td id=\"T_82209_row1_col4\" class=\"data row1 col4\" >0.7981</td>\n",
       "                        <td id=\"T_82209_row1_col5\" class=\"data row1 col5\" >0.5741</td>\n",
       "                        <td id=\"T_82209_row1_col6\" class=\"data row1 col6\" >0.5745</td>\n",
       "            </tr>\n",
       "            <tr>\n",
       "                        <th id=\"T_82209_level0_row2\" class=\"row_heading level0 row2\" >2</th>\n",
       "                        <td id=\"T_82209_row2_col0\" class=\"data row2 col0\" >0.7995</td>\n",
       "                        <td id=\"T_82209_row2_col1\" class=\"data row2 col1\" >0.8798</td>\n",
       "                        <td id=\"T_82209_row2_col2\" class=\"data row2 col2\" >0.8200</td>\n",
       "                        <td id=\"T_82209_row2_col3\" class=\"data row2 col3\" >0.7978</td>\n",
       "                        <td id=\"T_82209_row2_col4\" class=\"data row2 col4\" >0.8087</td>\n",
       "                        <td id=\"T_82209_row2_col5\" class=\"data row2 col5\" >0.5982</td>\n",
       "                        <td id=\"T_82209_row2_col6\" class=\"data row2 col6\" >0.5984</td>\n",
       "            </tr>\n",
       "            <tr>\n",
       "                        <th id=\"T_82209_level0_row3\" class=\"row_heading level0 row3\" >3</th>\n",
       "                        <td id=\"T_82209_row3_col0\" class=\"data row3 col0\" >0.7801</td>\n",
       "                        <td id=\"T_82209_row3_col1\" class=\"data row3 col1\" >0.8617</td>\n",
       "                        <td id=\"T_82209_row3_col2\" class=\"data row3 col2\" >0.7834</td>\n",
       "                        <td id=\"T_82209_row3_col3\" class=\"data row3 col3\" >0.7895</td>\n",
       "                        <td id=\"T_82209_row3_col4\" class=\"data row3 col4\" >0.7865</td>\n",
       "                        <td id=\"T_82209_row3_col5\" class=\"data row3 col5\" >0.5598</td>\n",
       "                        <td id=\"T_82209_row3_col6\" class=\"data row3 col6\" >0.5598</td>\n",
       "            </tr>\n",
       "            <tr>\n",
       "                        <th id=\"T_82209_level0_row4\" class=\"row_heading level0 row4\" >4</th>\n",
       "                        <td id=\"T_82209_row4_col0\" class=\"data row4 col0\" >0.7925</td>\n",
       "                        <td id=\"T_82209_row4_col1\" class=\"data row4 col1\" >0.8663</td>\n",
       "                        <td id=\"T_82209_row4_col2\" class=\"data row4 col2\" >0.8123</td>\n",
       "                        <td id=\"T_82209_row4_col3\" class=\"data row4 col3\" >0.7917</td>\n",
       "                        <td id=\"T_82209_row4_col4\" class=\"data row4 col4\" >0.8019</td>\n",
       "                        <td id=\"T_82209_row4_col5\" class=\"data row4 col5\" >0.5842</td>\n",
       "                        <td id=\"T_82209_row4_col6\" class=\"data row4 col6\" >0.5844</td>\n",
       "            </tr>\n",
       "            <tr>\n",
       "                        <th id=\"T_82209_level0_row5\" class=\"row_heading level0 row5\" >5</th>\n",
       "                        <td id=\"T_82209_row5_col0\" class=\"data row5 col0\" >0.7900</td>\n",
       "                        <td id=\"T_82209_row5_col1\" class=\"data row5 col1\" >0.8677</td>\n",
       "                        <td id=\"T_82209_row5_col2\" class=\"data row5 col2\" >0.8354</td>\n",
       "                        <td id=\"T_82209_row5_col3\" class=\"data row5 col3\" >0.7757</td>\n",
       "                        <td id=\"T_82209_row5_col4\" class=\"data row5 col4\" >0.8044</td>\n",
       "                        <td id=\"T_82209_row5_col5\" class=\"data row5 col5\" >0.5785</td>\n",
       "                        <td id=\"T_82209_row5_col6\" class=\"data row5 col6\" >0.5803</td>\n",
       "            </tr>\n",
       "            <tr>\n",
       "                        <th id=\"T_82209_level0_row6\" class=\"row_heading level0 row6\" >6</th>\n",
       "                        <td id=\"T_82209_row6_col0\" class=\"data row6 col0\" >0.7959</td>\n",
       "                        <td id=\"T_82209_row6_col1\" class=\"data row6 col1\" >0.8694</td>\n",
       "                        <td id=\"T_82209_row6_col2\" class=\"data row6 col2\" >0.8179</td>\n",
       "                        <td id=\"T_82209_row6_col3\" class=\"data row6 col3\" >0.7935</td>\n",
       "                        <td id=\"T_82209_row6_col4\" class=\"data row6 col4\" >0.8055</td>\n",
       "                        <td id=\"T_82209_row6_col5\" class=\"data row6 col5\" >0.5909</td>\n",
       "                        <td id=\"T_82209_row6_col6\" class=\"data row6 col6\" >0.5912</td>\n",
       "            </tr>\n",
       "            <tr>\n",
       "                        <th id=\"T_82209_level0_row7\" class=\"row_heading level0 row7\" >7</th>\n",
       "                        <td id=\"T_82209_row7_col0\" class=\"data row7 col0\" >0.8054</td>\n",
       "                        <td id=\"T_82209_row7_col1\" class=\"data row7 col1\" >0.8732</td>\n",
       "                        <td id=\"T_82209_row7_col2\" class=\"data row7 col2\" >0.8256</td>\n",
       "                        <td id=\"T_82209_row7_col3\" class=\"data row7 col3\" >0.8032</td>\n",
       "                        <td id=\"T_82209_row7_col4\" class=\"data row7 col4\" >0.8143</td>\n",
       "                        <td id=\"T_82209_row7_col5\" class=\"data row7 col5\" >0.6099</td>\n",
       "                        <td id=\"T_82209_row7_col6\" class=\"data row7 col6\" >0.6102</td>\n",
       "            </tr>\n",
       "            <tr>\n",
       "                        <th id=\"T_82209_level0_row8\" class=\"row_heading level0 row8\" >8</th>\n",
       "                        <td id=\"T_82209_row8_col0\" class=\"data row8 col0\" >0.8029</td>\n",
       "                        <td id=\"T_82209_row8_col1\" class=\"data row8 col1\" >0.8763</td>\n",
       "                        <td id=\"T_82209_row8_col2\" class=\"data row8 col2\" >0.8191</td>\n",
       "                        <td id=\"T_82209_row8_col3\" class=\"data row8 col3\" >0.8036</td>\n",
       "                        <td id=\"T_82209_row8_col4\" class=\"data row8 col4\" >0.8112</td>\n",
       "                        <td id=\"T_82209_row8_col5\" class=\"data row8 col5\" >0.6050</td>\n",
       "                        <td id=\"T_82209_row8_col6\" class=\"data row8 col6\" >0.6052</td>\n",
       "            </tr>\n",
       "            <tr>\n",
       "                        <th id=\"T_82209_level0_row9\" class=\"row_heading level0 row9\" >9</th>\n",
       "                        <td id=\"T_82209_row9_col0\" class=\"data row9 col0\" >0.7710</td>\n",
       "                        <td id=\"T_82209_row9_col1\" class=\"data row9 col1\" >0.8492</td>\n",
       "                        <td id=\"T_82209_row9_col2\" class=\"data row9 col2\" >0.8017</td>\n",
       "                        <td id=\"T_82209_row9_col3\" class=\"data row9 col3\" >0.7663</td>\n",
       "                        <td id=\"T_82209_row9_col4\" class=\"data row9 col4\" >0.7836</td>\n",
       "                        <td id=\"T_82209_row9_col5\" class=\"data row9 col5\" >0.5408</td>\n",
       "                        <td id=\"T_82209_row9_col6\" class=\"data row9 col6\" >0.5414</td>\n",
       "            </tr>\n",
       "            <tr>\n",
       "                        <th id=\"T_82209_level0_row10\" class=\"row_heading level0 row10\" >Mean</th>\n",
       "                        <td id=\"T_82209_row10_col0\" class=\"data row10 col0\" >0.7932</td>\n",
       "                        <td id=\"T_82209_row10_col1\" class=\"data row10 col1\" >0.8685</td>\n",
       "                        <td id=\"T_82209_row10_col2\" class=\"data row10 col2\" >0.8154</td>\n",
       "                        <td id=\"T_82209_row10_col3\" class=\"data row10 col3\" >0.7912</td>\n",
       "                        <td id=\"T_82209_row10_col4\" class=\"data row10 col4\" >0.8030</td>\n",
       "                        <td id=\"T_82209_row10_col5\" class=\"data row10 col5\" >0.5856</td>\n",
       "                        <td id=\"T_82209_row10_col6\" class=\"data row10 col6\" >0.5860</td>\n",
       "            </tr>\n",
       "            <tr>\n",
       "                        <th id=\"T_82209_level0_row11\" class=\"row_heading level0 row11\" >SD</th>\n",
       "                        <td id=\"T_82209_row11_col0\" class=\"data row11 col0\" >0.0109</td>\n",
       "                        <td id=\"T_82209_row11_col1\" class=\"data row11 col1\" >0.0090</td>\n",
       "                        <td id=\"T_82209_row11_col2\" class=\"data row11 col2\" >0.0137</td>\n",
       "                        <td id=\"T_82209_row11_col3\" class=\"data row11 col3\" >0.0122</td>\n",
       "                        <td id=\"T_82209_row11_col4\" class=\"data row11 col4\" >0.0104</td>\n",
       "                        <td id=\"T_82209_row11_col5\" class=\"data row11 col5\" >0.0220</td>\n",
       "                        <td id=\"T_82209_row11_col6\" class=\"data row11 col6\" >0.0219</td>\n",
       "            </tr>\n",
       "    </tbody></table>"
      ],
      "text/plain": [
       "<pandas.io.formats.style.Styler at 0x7f931e1daf90>"
      ]
     },
     "metadata": {},
     "output_type": "display_data"
    }
   ],
   "source": [
    "et = create_model('et')\n",
    "lightgbm = create_model('lightgbm')\n",
    "lr = create_model('lr')\n",
    "xgboost = create_model('xgboost')"
   ]
  },
  {
   "cell_type": "markdown",
   "id": "3aab9021-4462-423a-8e3c-fbe1f36c6110",
   "metadata": {},
   "source": [
    "### Let's load in our 2021 season data and get retention scores using the model:"
   ]
  },
  {
   "cell_type": "code",
   "execution_count": 37,
   "id": "c249a813-c882-4869-9490-6ab766a8c223",
   "metadata": {},
   "outputs": [
    {
     "data": {
      "text/plain": [
       "(5100, 9)"
      ]
     },
     "execution_count": 37,
     "metadata": {},
     "output_type": "execute_result"
    }
   ],
   "source": [
    "df_inference = df.loc[df[\"year\"] >= 2021]\n",
    "df_inference = df_inference.fillna(0)\n",
    "df_inference = df_inference[features]\n",
    "\n",
    "df_inference.shape"
   ]
  },
  {
   "cell_type": "code",
   "execution_count": null,
   "id": "77d55e9b-2f4a-490b-97a1-991613fead88",
   "metadata": {},
   "outputs": [],
   "source": [
    "et_predictions = predict_model(et, data=df_inference, raw_score=True)\n",
    "lr_predictions = predict_model(lr, data=df_inference, raw_score=True)\n",
    "lightgbm_predictions = predict_model(lightgbm, data=df_inference, raw_score=True)\n",
    "xgboost_predictions = predict_model(xgboost, data=df_inference, raw_score=True)"
   ]
  },
  {
   "cell_type": "code",
   "execution_count": 14,
   "id": "d093ca06-81c4-402f-9895-1de695b0990f",
   "metadata": {},
   "outputs": [
    {
     "name": "stdout",
     "output_type": "stream",
     "text": [
      "et distribution:\n"
     ]
    },
    {
     "data": {
      "text/plain": [
       "array([[<AxesSubplot:title={'center':'Score_1'}>]], dtype=object)"
      ]
     },
     "execution_count": 14,
     "metadata": {},
     "output_type": "execute_result"
    },
    {
     "data": {
      "image/png": "[encoded data removed]",
      "text/plain": [
       "<Figure size 720x216 with 1 Axes>"
      ]
     },
     "metadata": {
      "needs_background": "light"
     },
     "output_type": "display_data"
    }
   ],
   "source": [
    "print(\"et distribution:\")\n",
    "et_predictions[et_predictions[\"Label\"]==1][[\"Score_1\"]].hist(bins=30, figsize=(10,3), range=[0,1])"
   ]
  },
  {
   "cell_type": "code",
   "execution_count": 21,
   "id": "2acbed00-ea73-485a-bb86-efa04cf30cdf",
   "metadata": {},
   "outputs": [
    {
     "data": {
      "text/plain": [
       "(0.499, 0.6]    511\n",
       "(0.6, 0.7]      469\n",
       "(0.9, 1.0]      457\n",
       "(0.7, 0.8]      376\n",
       "(0.8, 0.9]      324\n",
       "Name: Score_1, dtype: int64"
      ]
     },
     "execution_count": 21,
     "metadata": {},
     "output_type": "execute_result"
    }
   ],
   "source": [
    "et_predictions[\"Score_1\"].value_counts(bins=[0.50, 0.60, 0.70, 0.80, 0.90, 1])"
   ]
  },
  {
   "cell_type": "code",
   "execution_count": 160,
   "id": "f31f4d3a-133a-45d9-a665-d8ac6d384d05",
   "metadata": {},
   "outputs": [
    {
     "name": "stdout",
     "output_type": "stream",
     "text": [
      "lightgbm distribution:\n"
     ]
    },
    {
     "data": {
      "text/plain": [
       "array([[<AxesSubplot:title={'center':'Score_1'}>]], dtype=object)"
      ]
     },
     "execution_count": 160,
     "metadata": {},
     "output_type": "execute_result"
    },
    {
     "data": {
      "image/png": "[encoded data removed]",
      "text/plain": [
       "<Figure size 720x216 with 1 Axes>"
      ]
     },
     "metadata": {
      "needs_background": "light"
     },
     "output_type": "display_data"
    }
   ],
   "source": [
    "print(\"lightgbm distribution:\")\n",
    "lightgbm_predictions[lightgbm_predictions[\"Label\"]==1][[\"Score_1\"]].hist(bins=30, figsize=(10,3), range=[0,1])"
   ]
  },
  {
   "cell_type": "code",
   "execution_count": 20,
   "id": "f320ee0b-c509-4cf9-b2b7-4f9fb7353fb5",
   "metadata": {},
   "outputs": [
    {
     "data": {
      "text/plain": [
       "(0.499, 0.6]    687\n",
       "(0.7, 0.8]      533\n",
       "(0.6, 0.7]      507\n",
       "(0.8, 0.9]      196\n",
       "(0.9, 1.0]      162\n",
       "Name: Score_1, dtype: int64"
      ]
     },
     "execution_count": 20,
     "metadata": {},
     "output_type": "execute_result"
    }
   ],
   "source": [
    "lightgbm_predictions[\"Score_1\"].value_counts(bins=[0.50, 0.60, 0.70, 0.80, 0.90, 1])"
   ]
  },
  {
   "cell_type": "code",
   "execution_count": 15,
   "id": "3ea647b6-98f1-48d4-b53b-584bfb5ed824",
   "metadata": {},
   "outputs": [
    {
     "name": "stdout",
     "output_type": "stream",
     "text": [
      "logistic regression:\n"
     ]
    },
    {
     "data": {
      "text/plain": [
       "array([[<AxesSubplot:title={'center':'Score_1'}>]], dtype=object)"
      ]
     },
     "execution_count": 15,
     "metadata": {},
     "output_type": "execute_result"
    },
    {
     "data": {
      "image/png": "[encoded data removed]",
      "text/plain": [
       "<Figure size 720x216 with 1 Axes>"
      ]
     },
     "metadata": {
      "needs_background": "light"
     },
     "output_type": "display_data"
    }
   ],
   "source": [
    "print(\"logistic regression:\")\n",
    "lr_predictions[lightgbm_predictions[\"Label\"]==1][[\"Score_1\"]].hist(bins=30, figsize=(10,3), range=[0,1])"
   ]
  },
  {
   "cell_type": "code",
   "execution_count": 22,
   "id": "2c4a9d81-c1a3-4d8a-92bb-7cfffc4d6bec",
   "metadata": {},
   "outputs": [
    {
     "data": {
      "text/plain": [
       "(0.499, 0.6]    1320\n",
       "(0.7, 0.8]       630\n",
       "(0.6, 0.7]       619\n",
       "(0.8, 0.9]        33\n",
       "(0.9, 1.0]         9\n",
       "Name: Score_1, dtype: int64"
      ]
     },
     "execution_count": 22,
     "metadata": {},
     "output_type": "execute_result"
    }
   ],
   "source": [
    "lr_predictions[\"Score_1\"].value_counts(bins=[0.50, 0.60, 0.70, 0.80, 0.90, 1])"
   ]
  },
  {
   "cell_type": "code",
   "execution_count": 16,
   "id": "585e148f-741d-40e9-8a4a-ecc84ea3e123",
   "metadata": {},
   "outputs": [
    {
     "name": "stdout",
     "output_type": "stream",
     "text": [
      "xgboost distribution:\n"
     ]
    },
    {
     "data": {
      "text/plain": [
       "array([[<AxesSubplot:title={'center':'Score_1'}>]], dtype=object)"
      ]
     },
     "execution_count": 16,
     "metadata": {},
     "output_type": "execute_result"
    },
    {
     "data": {
      "image/png": "[encoded data removed]",
      "text/plain": [
       "<Figure size 720x216 with 1 Axes>"
      ]
     },
     "metadata": {
      "needs_background": "light"
     },
     "output_type": "display_data"
    }
   ],
   "source": [
    "print(\"xgboost distribution:\")\n",
    "xgboost_predictions[xgboost_predictions[\"Label\"]==1][[\"Score_1\"]].hist(bins=30, figsize=(10,3), range=[0,1])"
   ]
  },
  {
   "cell_type": "code",
   "execution_count": 25,
   "id": "2e4ef419-0ade-4ecf-b228-cb20c0a78ef5",
   "metadata": {},
   "outputs": [
    {
     "name": "stdout",
     "output_type": "stream",
     "text": [
      "xgboost distribution:\n"
     ]
    },
    {
     "data": {
      "text/plain": [
       "array([[<AxesSubplot:title={'center':'Score_0'}>]], dtype=object)"
      ]
     },
     "execution_count": 25,
     "metadata": {},
     "output_type": "execute_result"
    },
    {
     "data": {
      "image/png": "[encoded data removed]",
      "text/plain": [
       "<Figure size 720x216 with 1 Axes>"
      ]
     },
     "metadata": {
      "needs_background": "light"
     },
     "output_type": "display_data"
    }
   ],
   "source": [
    "print(\"xgboost distribution:\")\n",
    "xgboost_predictions[xgboost_predictions[\"Label\"]==1][[\"Score_0\"]].hist(bins=30, figsize=(10,3), range=[0,1])"
   ]
  },
  {
   "cell_type": "code",
   "execution_count": 24,
   "id": "6ee7faec-29ba-47b1-8eb2-3166d81a9b08",
   "metadata": {},
   "outputs": [
    {
     "data": {
      "text/plain": [
       "(0.499, 0.6]    548\n",
       "(0.7, 0.8]      483\n",
       "(0.6, 0.7]      428\n",
       "(0.8, 0.9]      285\n",
       "(0.9, 1.0]      127\n",
       "Name: Score_1, dtype: int64"
      ]
     },
     "execution_count": 24,
     "metadata": {},
     "output_type": "execute_result"
    }
   ],
   "source": [
    "xgboost_predictions[\"Score_1\"].value_counts(bins=[0.50, 0.60, 0.70, 0.80, 0.90, 1])"
   ]
  },
  {
   "cell_type": "code",
   "execution_count": null,
   "id": "450e87f7-0118-4090-aae6-bac1ff1d14a3",
   "metadata": {},
   "outputs": [],
   "source": []
  }
 ],
 "metadata": {
  "kernelspec": {
   "display_name": "Python 3 (ipykernel)",
   "language": "python",
   "name": "python3"
  },
  "language_info": {
   "codemirror_mode": {
    "name": "ipython",
    "version": 3
   },
   "file_extension": ".py",
   "mimetype": "text/x-python",
   "name": "python",
   "nbconvert_exporter": "python",
   "pygments_lexer": "ipython3",
   "version": "3.7.10"
  }
 },
 "nbformat": 4,
 "nbformat_minor": 5
}
