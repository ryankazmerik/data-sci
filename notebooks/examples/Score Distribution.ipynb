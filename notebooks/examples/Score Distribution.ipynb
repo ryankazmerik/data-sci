{
 "cells": [
  {
   "cell_type": "markdown",
   "id": "6ee08766-25fd-4da1-91b8-b0c3e74db588",
   "metadata": {},
   "source": [
    "# Score Distribution Example\n",
    "* StelllarAlgo Data Science\n",
    "* Ryan Kazmerik & Nakisa Rad\n",
    "* Dec 20, 2021"
   ]
  },
  {
   "cell_type": "code",
   "execution_count": 1,
   "id": "4c533efd-600e-4bce-8203-faffbddfa700",
   "metadata": {},
   "outputs": [],
   "source": [
    "import getpass\n",
    "import pyodbc\n",
    "import pandas as pd\n",
    "import warnings\n",
    "import matplotlib.pyplot as plt\n",
    "\n",
    "from pycaret.classification import *\n",
    "\n",
    "warnings.filterwarnings('ignore')"
   ]
  },
  {
   "cell_type": "markdown",
   "id": "b64ae7d5-84af-4915-bd13-1dd9d17098a3",
   "metadata": {},
   "source": [
    "### Let's connect to MSSQL and run a stored proc to get our dataset:"
   ]
  },
  {
   "cell_type": "code",
   "execution_count": 2,
   "id": "ae561eb4-f419-4d46-b5e0-12fac9b10db8",
   "metadata": {},
   "outputs": [
    {
     "name": "stdin",
     "output_type": "stream",
     "text": [
      "Enter your password ····················\n"
     ]
    }
   ],
   "source": [
    "# connect to SQL Server.\n",
    "SERVER = '52.44.171.130' \n",
    "DATABASE = 'datascience' \n",
    "USERNAME = 'dsAdminWrite' \n",
    "PASSWORD = getpass.getpass(prompt='Enter your password')\n",
    "CNXN = pyodbc.connect('DRIVER={ODBC Driver 17 for SQL Server};SERVER='+SERVER+';DATABASE='+DATABASE+';UID='+USERNAME+';PWD='+ PASSWORD)"
   ]
  },
  {
   "cell_type": "code",
   "execution_count": 3,
   "id": "af1afe7d-a35b-494b-88f3-980fb0e3da30",
   "metadata": {},
   "outputs": [
    {
     "data": {
      "text/plain": [
       "(27487, 56)"
      ]
     },
     "execution_count": 3,
     "metadata": {},
     "output_type": "execute_result"
    }
   ],
   "source": [
    "lkupclientid = 5 # blazers\n",
    "cursor = CNXN.cursor()\n",
    "\n",
    "storedProc = (\n",
    "    f\"\"\"Exec [stlrTrailBlazers].[ds].[getRetentionScoringModelData] {lkupclientid}\"\"\"\n",
    ")\n",
    "\n",
    "df = pd.read_sql(storedProc, CNXN)\n",
    "\n",
    "# apply some data transformations\n",
    "df[\"year\"] = pd.to_numeric(df[\"year\"])\n",
    "\n",
    "CNXN.commit()\n",
    "cursor.close()\n",
    "\n",
    "df.shape"
   ]
  },
  {
   "cell_type": "markdown",
   "id": "ab40da92-72a7-49c1-9829-ed3805a39719",
   "metadata": {},
   "source": [
    "### We should specify the features used in our model:"
   ]
  },
  {
   "cell_type": "code",
   "execution_count": 4,
   "id": "788f1273-8b7a-46bd-a099-1a471feeacc5",
   "metadata": {},
   "outputs": [
    {
     "name": "stdout",
     "output_type": "stream",
     "text": [
      "Data for Modeling: (18607, 9)\n",
      "Unseen Data For Predictions: (3284, 9)\n",
      "\n"
     ]
    }
   ],
   "source": [
    "# choose the features for the stellar base retention model\n",
    "features = [\n",
    "    \"dimCustomerMasterId\",\n",
    "    \"attendancePercent\",\n",
    "    \"distToVenue\",\n",
    "    \"isNextYear_Buyer\",\n",
    "    \"productGrouping\",\n",
    "    \"recency\",\n",
    "    \"source_tenure\",\n",
    "    \"totalSpent\",\n",
    "    \"year\"\n",
    "]\n",
    "\n",
    "# copy your main dataframe\n",
    "df_dataset = df\n",
    "\n",
    "# choose the features & train year & test year\n",
    "df_dataset = df_dataset[features]\n",
    "df_dataset[\"year\"] = pd.to_numeric(df_dataset[\"year\"])\n",
    "df_dataset = df_dataset.loc[df_dataset[\"year\"] <= 2019]\n",
    "\n",
    "df_train = df_dataset.sample(frac=0.85, random_state=786)\n",
    "df_eval = df_dataset.drop(df_train.index)\n",
    "\n",
    "df_train.reset_index(drop=True, inplace=True)\n",
    "df_eval.reset_index(drop=True, inplace=True)\n",
    "\n",
    "# print out the number of records for training and eval\n",
    "print('Data for Modeling: ' + str(df_train.shape))\n",
    "print('Unseen Data For Predictions: ' + str(df_eval.shape), end=\"\\n\\n\")"
   ]
  },
  {
   "cell_type": "markdown",
   "id": "4f2da06d-9015-49fd-89b3-956c2ebf66e9",
   "metadata": {},
   "source": [
    "### Now we can model the data using a binary classification prediction for the isnextyear_buyer field to see how likely a customer is to re-purchase."
   ]
  },
  {
   "cell_type": "code",
   "execution_count": 5,
   "id": "23a69cdc-b3ec-48c8-9ce5-29f617779389",
   "metadata": {},
   "outputs": [],
   "source": [
    "setup(\n",
    "    data= df_train, \n",
    "    target=\"isNextYear_Buyer\", \n",
    "    train_size = 0.85,\n",
    "    data_split_shuffle=True,\n",
    "    ignore_features=[\"dimCustomerMasterId\",\"productGrouping\",\"year\"],\n",
    "    silent=True,\n",
    "    verbose=False,\n",
    "    numeric_features=[\n",
    "        \"attendancePercent\",\n",
    "        \"distToVenue\",\n",
    "        \"recency\",\n",
    "        \"source_tenure\",\n",
    "        \"totalSpent\"\n",
    "    ]\n",
    ");"
   ]
  },
  {
   "cell_type": "markdown",
   "id": "6e1e33e8-ed5f-4e84-abb2-a2fc8370905c",
   "metadata": {},
   "source": [
    "### Let's compare all models to evaluate performance. The output prints a score grid that shows average Accuracy, AUC, Recall, Precision, F1 and Kappa accross the folds (10 by default) along with training time."
   ]
  },
  {
   "cell_type": "code",
   "execution_count": 6,
   "id": "ef2db9d2-02c2-45c0-b6bb-5cad42c373ce",
   "metadata": {},
   "outputs": [
    {
     "data": {
      "text/html": [
       "<style  type=\"text/css\" >\n",
       "    #T_f1305_ th {\n",
       "          text-align: left;\n",
       "    }#T_f1305_row0_col0,#T_f1305_row0_col3,#T_f1305_row1_col0,#T_f1305_row1_col1,#T_f1305_row1_col2,#T_f1305_row1_col4,#T_f1305_row1_col5,#T_f1305_row1_col6,#T_f1305_row1_col7{\n",
       "            text-align:  left;\n",
       "            text-align:  left;\n",
       "        }#T_f1305_row0_col1,#T_f1305_row0_col2,#T_f1305_row0_col4,#T_f1305_row0_col5,#T_f1305_row0_col6,#T_f1305_row0_col7,#T_f1305_row1_col3{\n",
       "            text-align:  left;\n",
       "            text-align:  left;\n",
       "            background-color:  yellow;\n",
       "        }#T_f1305_row0_col8{\n",
       "            text-align:  left;\n",
       "            text-align:  left;\n",
       "            background-color:  lightgrey;\n",
       "        }#T_f1305_row1_col8{\n",
       "            text-align:  left;\n",
       "            text-align:  left;\n",
       "            background-color:  yellow;\n",
       "            background-color:  lightgrey;\n",
       "        }</style><table id=\"T_f1305_\" ><thead>    <tr>        <th class=\"blank level0\" ></th>        <th class=\"col_heading level0 col0\" >Model</th>        <th class=\"col_heading level0 col1\" >Accuracy</th>        <th class=\"col_heading level0 col2\" >AUC</th>        <th class=\"col_heading level0 col3\" >Recall</th>        <th class=\"col_heading level0 col4\" >Prec.</th>        <th class=\"col_heading level0 col5\" >F1</th>        <th class=\"col_heading level0 col6\" >Kappa</th>        <th class=\"col_heading level0 col7\" >MCC</th>        <th class=\"col_heading level0 col8\" >TT (Sec)</th>    </tr></thead><tbody>\n",
       "                <tr>\n",
       "                        <th id=\"T_f1305_level0_row0\" class=\"row_heading level0 row0\" >xgboost</th>\n",
       "                        <td id=\"T_f1305_row0_col0\" class=\"data row0 col0\" >Extreme Gradient Boosting</td>\n",
       "                        <td id=\"T_f1305_row0_col1\" class=\"data row0 col1\" >0.7670</td>\n",
       "                        <td id=\"T_f1305_row0_col2\" class=\"data row0 col2\" >0.8315</td>\n",
       "                        <td id=\"T_f1305_row0_col3\" class=\"data row0 col3\" >0.8366</td>\n",
       "                        <td id=\"T_f1305_row0_col4\" class=\"data row0 col4\" >0.8069</td>\n",
       "                        <td id=\"T_f1305_row0_col5\" class=\"data row0 col5\" >0.8214</td>\n",
       "                        <td id=\"T_f1305_row0_col6\" class=\"data row0 col6\" >0.4865</td>\n",
       "                        <td id=\"T_f1305_row0_col7\" class=\"data row0 col7\" >0.4873</td>\n",
       "                        <td id=\"T_f1305_row0_col8\" class=\"data row0 col8\" >0.3730</td>\n",
       "            </tr>\n",
       "            <tr>\n",
       "                        <th id=\"T_f1305_level0_row1\" class=\"row_heading level0 row1\" >lr</th>\n",
       "                        <td id=\"T_f1305_row1_col0\" class=\"data row1 col0\" >Logistic Regression</td>\n",
       "                        <td id=\"T_f1305_row1_col1\" class=\"data row1 col1\" >0.7366</td>\n",
       "                        <td id=\"T_f1305_row1_col2\" class=\"data row1 col2\" >0.8009</td>\n",
       "                        <td id=\"T_f1305_row1_col3\" class=\"data row1 col3\" >0.8595</td>\n",
       "                        <td id=\"T_f1305_row1_col4\" class=\"data row1 col4\" >0.7608</td>\n",
       "                        <td id=\"T_f1305_row1_col5\" class=\"data row1 col5\" >0.8070</td>\n",
       "                        <td id=\"T_f1305_row1_col6\" class=\"data row1 col6\" >0.3971</td>\n",
       "                        <td id=\"T_f1305_row1_col7\" class=\"data row1 col7\" >0.4048</td>\n",
       "                        <td id=\"T_f1305_row1_col8\" class=\"data row1 col8\" >0.2870</td>\n",
       "            </tr>\n",
       "    </tbody></table>"
      ],
      "text/plain": [
       "<pandas.io.formats.style.Styler at 0x7fbd695669d0>"
      ]
     },
     "metadata": {},
     "output_type": "display_data"
    }
   ],
   "source": [
    "model_matrix = compare_models(\n",
    "    fold=10,\n",
    "    include=[\"lr\", \"xgboost\"]\n",
    ")"
   ]
  },
  {
   "cell_type": "code",
   "execution_count": 7,
   "id": "d9f030ed-4b6a-4a87-a01e-129dc49e0d4a",
   "metadata": {},
   "outputs": [
    {
     "data": {
      "text/html": [
       "<style  type=\"text/css\" >\n",
       "#T_570ea_row10_col0,#T_570ea_row10_col1,#T_570ea_row10_col2,#T_570ea_row10_col3,#T_570ea_row10_col4,#T_570ea_row10_col5,#T_570ea_row10_col6{\n",
       "            background:  yellow;\n",
       "        }</style><table id=\"T_570ea_\" ><thead>    <tr>        <th class=\"blank level0\" ></th>        <th class=\"col_heading level0 col0\" >Accuracy</th>        <th class=\"col_heading level0 col1\" >AUC</th>        <th class=\"col_heading level0 col2\" >Recall</th>        <th class=\"col_heading level0 col3\" >Prec.</th>        <th class=\"col_heading level0 col4\" >F1</th>        <th class=\"col_heading level0 col5\" >Kappa</th>        <th class=\"col_heading level0 col6\" >MCC</th>    </tr></thead><tbody>\n",
       "                <tr>\n",
       "                        <th id=\"T_570ea_level0_row0\" class=\"row_heading level0 row0\" >0</th>\n",
       "                        <td id=\"T_570ea_row0_col0\" class=\"data row0 col0\" >0.7642</td>\n",
       "                        <td id=\"T_570ea_row0_col1\" class=\"data row0 col1\" >0.8272</td>\n",
       "                        <td id=\"T_570ea_row0_col2\" class=\"data row0 col2\" >0.8323</td>\n",
       "                        <td id=\"T_570ea_row0_col3\" class=\"data row0 col3\" >0.8061</td>\n",
       "                        <td id=\"T_570ea_row0_col4\" class=\"data row0 col4\" >0.8190</td>\n",
       "                        <td id=\"T_570ea_row0_col5\" class=\"data row0 col5\" >0.4811</td>\n",
       "                        <td id=\"T_570ea_row0_col6\" class=\"data row0 col6\" >0.4816</td>\n",
       "            </tr>\n",
       "            <tr>\n",
       "                        <th id=\"T_570ea_level0_row1\" class=\"row_heading level0 row1\" >1</th>\n",
       "                        <td id=\"T_570ea_row1_col0\" class=\"data row1 col0\" >0.7566</td>\n",
       "                        <td id=\"T_570ea_row1_col1\" class=\"data row1 col1\" >0.8254</td>\n",
       "                        <td id=\"T_570ea_row1_col2\" class=\"data row1 col2\" >0.8304</td>\n",
       "                        <td id=\"T_570ea_row1_col3\" class=\"data row1 col3\" >0.7981</td>\n",
       "                        <td id=\"T_570ea_row1_col4\" class=\"data row1 col4\" >0.8139</td>\n",
       "                        <td id=\"T_570ea_row1_col5\" class=\"data row1 col5\" >0.4627</td>\n",
       "                        <td id=\"T_570ea_row1_col6\" class=\"data row1 col6\" >0.4635</td>\n",
       "            </tr>\n",
       "            <tr>\n",
       "                        <th id=\"T_570ea_level0_row2\" class=\"row_heading level0 row2\" >2</th>\n",
       "                        <td id=\"T_570ea_row2_col0\" class=\"data row2 col0\" >0.7661</td>\n",
       "                        <td id=\"T_570ea_row2_col1\" class=\"data row2 col1\" >0.8410</td>\n",
       "                        <td id=\"T_570ea_row2_col2\" class=\"data row2 col2\" >0.8245</td>\n",
       "                        <td id=\"T_570ea_row2_col3\" class=\"data row2 col3\" >0.8132</td>\n",
       "                        <td id=\"T_570ea_row2_col4\" class=\"data row2 col4\" >0.8188</td>\n",
       "                        <td id=\"T_570ea_row2_col5\" class=\"data row2 col5\" >0.4891</td>\n",
       "                        <td id=\"T_570ea_row2_col6\" class=\"data row2 col6\" >0.4892</td>\n",
       "            </tr>\n",
       "            <tr>\n",
       "                        <th id=\"T_570ea_level0_row3\" class=\"row_heading level0 row3\" >3</th>\n",
       "                        <td id=\"T_570ea_row3_col0\" class=\"data row3 col0\" >0.7503</td>\n",
       "                        <td id=\"T_570ea_row3_col1\" class=\"data row3 col1\" >0.8149</td>\n",
       "                        <td id=\"T_570ea_row3_col2\" class=\"data row3 col2\" >0.8146</td>\n",
       "                        <td id=\"T_570ea_row3_col3\" class=\"data row3 col3\" >0.7996</td>\n",
       "                        <td id=\"T_570ea_row3_col4\" class=\"data row3 col4\" >0.8070</td>\n",
       "                        <td id=\"T_570ea_row3_col5\" class=\"data row3 col5\" >0.4535</td>\n",
       "                        <td id=\"T_570ea_row3_col6\" class=\"data row3 col6\" >0.4537</td>\n",
       "            </tr>\n",
       "            <tr>\n",
       "                        <th id=\"T_570ea_level0_row4\" class=\"row_heading level0 row4\" >4</th>\n",
       "                        <td id=\"T_570ea_row4_col0\" class=\"data row4 col0\" >0.7617</td>\n",
       "                        <td id=\"T_570ea_row4_col1\" class=\"data row4 col1\" >0.8212</td>\n",
       "                        <td id=\"T_570ea_row4_col2\" class=\"data row4 col2\" >0.8402</td>\n",
       "                        <td id=\"T_570ea_row4_col3\" class=\"data row4 col3\" >0.7985</td>\n",
       "                        <td id=\"T_570ea_row4_col4\" class=\"data row4 col4\" >0.8188</td>\n",
       "                        <td id=\"T_570ea_row4_col5\" class=\"data row4 col5\" >0.4714</td>\n",
       "                        <td id=\"T_570ea_row4_col6\" class=\"data row4 col6\" >0.4727</td>\n",
       "            </tr>\n",
       "            <tr>\n",
       "                        <th id=\"T_570ea_level0_row5\" class=\"row_heading level0 row5\" >5</th>\n",
       "                        <td id=\"T_570ea_row5_col0\" class=\"data row5 col0\" >0.7818</td>\n",
       "                        <td id=\"T_570ea_row5_col1\" class=\"data row5 col1\" >0.8346</td>\n",
       "                        <td id=\"T_570ea_row5_col2\" class=\"data row5 col2\" >0.8490</td>\n",
       "                        <td id=\"T_570ea_row5_col3\" class=\"data row5 col3\" >0.8175</td>\n",
       "                        <td id=\"T_570ea_row5_col4\" class=\"data row5 col4\" >0.8329</td>\n",
       "                        <td id=\"T_570ea_row5_col5\" class=\"data row5 col5\" >0.5188</td>\n",
       "                        <td id=\"T_570ea_row5_col6\" class=\"data row5 col6\" >0.5195</td>\n",
       "            </tr>\n",
       "            <tr>\n",
       "                        <th id=\"T_570ea_level0_row6\" class=\"row_heading level0 row6\" >6</th>\n",
       "                        <td id=\"T_570ea_row6_col0\" class=\"data row6 col0\" >0.7596</td>\n",
       "                        <td id=\"T_570ea_row6_col1\" class=\"data row6 col1\" >0.8266</td>\n",
       "                        <td id=\"T_570ea_row6_col2\" class=\"data row6 col2\" >0.8233</td>\n",
       "                        <td id=\"T_570ea_row6_col3\" class=\"data row6 col3\" >0.8058</td>\n",
       "                        <td id=\"T_570ea_row6_col4\" class=\"data row6 col4\" >0.8145</td>\n",
       "                        <td id=\"T_570ea_row6_col5\" class=\"data row6 col5\" >0.4735</td>\n",
       "                        <td id=\"T_570ea_row6_col6\" class=\"data row6 col6\" >0.4737</td>\n",
       "            </tr>\n",
       "            <tr>\n",
       "                        <th id=\"T_570ea_level0_row7\" class=\"row_heading level0 row7\" >7</th>\n",
       "                        <td id=\"T_570ea_row7_col0\" class=\"data row7 col0\" >0.7710</td>\n",
       "                        <td id=\"T_570ea_row7_col1\" class=\"data row7 col1\" >0.8426</td>\n",
       "                        <td id=\"T_570ea_row7_col2\" class=\"data row7 col2\" >0.8411</td>\n",
       "                        <td id=\"T_570ea_row7_col3\" class=\"data row7 col3\" >0.8091</td>\n",
       "                        <td id=\"T_570ea_row7_col4\" class=\"data row7 col4\" >0.8248</td>\n",
       "                        <td id=\"T_570ea_row7_col5\" class=\"data row7 col5\" >0.4948</td>\n",
       "                        <td id=\"T_570ea_row7_col6\" class=\"data row7 col6\" >0.4956</td>\n",
       "            </tr>\n",
       "            <tr>\n",
       "                        <th id=\"T_570ea_level0_row8\" class=\"row_heading level0 row8\" >8</th>\n",
       "                        <td id=\"T_570ea_row8_col0\" class=\"data row8 col0\" >0.7818</td>\n",
       "                        <td id=\"T_570ea_row8_col1\" class=\"data row8 col1\" >0.8384</td>\n",
       "                        <td id=\"T_570ea_row8_col2\" class=\"data row8 col2\" >0.8638</td>\n",
       "                        <td id=\"T_570ea_row8_col3\" class=\"data row8 col3\" >0.8087</td>\n",
       "                        <td id=\"T_570ea_row8_col4\" class=\"data row8 col4\" >0.8353</td>\n",
       "                        <td id=\"T_570ea_row8_col5\" class=\"data row8 col5\" >0.5130</td>\n",
       "                        <td id=\"T_570ea_row8_col6\" class=\"data row8 col6\" >0.5155</td>\n",
       "            </tr>\n",
       "            <tr>\n",
       "                        <th id=\"T_570ea_level0_row9\" class=\"row_heading level0 row9\" >9</th>\n",
       "                        <td id=\"T_570ea_row9_col0\" class=\"data row9 col0\" >0.7767</td>\n",
       "                        <td id=\"T_570ea_row9_col1\" class=\"data row9 col1\" >0.8430</td>\n",
       "                        <td id=\"T_570ea_row9_col2\" class=\"data row9 col2\" >0.8470</td>\n",
       "                        <td id=\"T_570ea_row9_col3\" class=\"data row9 col3\" >0.8125</td>\n",
       "                        <td id=\"T_570ea_row9_col4\" class=\"data row9 col4\" >0.8294</td>\n",
       "                        <td id=\"T_570ea_row9_col5\" class=\"data row9 col5\" >0.5068</td>\n",
       "                        <td id=\"T_570ea_row9_col6\" class=\"data row9 col6\" >0.5077</td>\n",
       "            </tr>\n",
       "            <tr>\n",
       "                        <th id=\"T_570ea_level0_row10\" class=\"row_heading level0 row10\" >Mean</th>\n",
       "                        <td id=\"T_570ea_row10_col0\" class=\"data row10 col0\" >0.7670</td>\n",
       "                        <td id=\"T_570ea_row10_col1\" class=\"data row10 col1\" >0.8315</td>\n",
       "                        <td id=\"T_570ea_row10_col2\" class=\"data row10 col2\" >0.8366</td>\n",
       "                        <td id=\"T_570ea_row10_col3\" class=\"data row10 col3\" >0.8069</td>\n",
       "                        <td id=\"T_570ea_row10_col4\" class=\"data row10 col4\" >0.8214</td>\n",
       "                        <td id=\"T_570ea_row10_col5\" class=\"data row10 col5\" >0.4865</td>\n",
       "                        <td id=\"T_570ea_row10_col6\" class=\"data row10 col6\" >0.4873</td>\n",
       "            </tr>\n",
       "            <tr>\n",
       "                        <th id=\"T_570ea_level0_row11\" class=\"row_heading level0 row11\" >SD</th>\n",
       "                        <td id=\"T_570ea_row11_col0\" class=\"data row11 col0\" >0.0101</td>\n",
       "                        <td id=\"T_570ea_row11_col1\" class=\"data row11 col1\" >0.0093</td>\n",
       "                        <td id=\"T_570ea_row11_col2\" class=\"data row11 col2\" >0.0138</td>\n",
       "                        <td id=\"T_570ea_row11_col3\" class=\"data row11 col3\" >0.0063</td>\n",
       "                        <td id=\"T_570ea_row11_col4\" class=\"data row11 col4\" >0.0086</td>\n",
       "                        <td id=\"T_570ea_row11_col5\" class=\"data row11 col5\" >0.0208</td>\n",
       "                        <td id=\"T_570ea_row11_col6\" class=\"data row11 col6\" >0.0211</td>\n",
       "            </tr>\n",
       "    </tbody></table>"
      ],
      "text/plain": [
       "<pandas.io.formats.style.Styler at 0x7fbd69519710>"
      ]
     },
     "metadata": {},
     "output_type": "display_data"
    }
   ],
   "source": [
    "best_model = create_model(model_matrix)\n",
    "final_model = finalize_model(best_model)"
   ]
  },
  {
   "cell_type": "markdown",
   "id": "3aab9021-4462-423a-8e3c-fbe1f36c6110",
   "metadata": {},
   "source": [
    "### Let's load in our 2021 season data and get retention scores using the model:"
   ]
  },
  {
   "cell_type": "code",
   "execution_count": 8,
   "id": "c249a813-c882-4869-9490-6ab766a8c223",
   "metadata": {},
   "outputs": [
    {
     "data": {
      "text/plain": [
       "(5596, 56)"
      ]
     },
     "execution_count": 8,
     "metadata": {},
     "output_type": "execute_result"
    }
   ],
   "source": [
    "df_inference = df.loc[df[\"year\"] >= 2021]\n",
    "df_inference = df_inference.fillna(0)\n",
    "df_inference.shape"
   ]
  },
  {
   "cell_type": "code",
   "execution_count": 9,
   "id": "745b62fb-fb2e-4b4a-9c48-8ce4de472a83",
   "metadata": {},
   "outputs": [
    {
     "data": {
      "text/html": [
       "<div>\n",
       "<style scoped>\n",
       "    .dataframe tbody tr th:only-of-type {\n",
       "        vertical-align: middle;\n",
       "    }\n",
       "\n",
       "    .dataframe tbody tr th {\n",
       "        vertical-align: top;\n",
       "    }\n",
       "\n",
       "    .dataframe thead th {\n",
       "        text-align: right;\n",
       "    }\n",
       "</style>\n",
       "<table border=\"1\" class=\"dataframe\">\n",
       "  <thead>\n",
       "    <tr style=\"text-align: right;\">\n",
       "      <th></th>\n",
       "      <th>lkupClientId</th>\n",
       "      <th>dimCustomerMasterId</th>\n",
       "      <th>customerNumber</th>\n",
       "      <th>year</th>\n",
       "      <th>productGrouping</th>\n",
       "      <th>totalSpent</th>\n",
       "      <th>recentDate</th>\n",
       "      <th>attendancePercent</th>\n",
       "      <th>renewedBeforeDays</th>\n",
       "      <th>isBuyer</th>\n",
       "      <th>...</th>\n",
       "      <th>isnextyear_buyer</th>\n",
       "      <th>isnextyear_samepkg_buyer</th>\n",
       "      <th>pkgupgrade_status</th>\n",
       "      <th>auto_renewal</th>\n",
       "      <th>credits_after_refund</th>\n",
       "      <th>is_Lockdown</th>\n",
       "      <th>isNextYear_Buyer</th>\n",
       "      <th>Label</th>\n",
       "      <th>Score_0</th>\n",
       "      <th>Score_1</th>\n",
       "    </tr>\n",
       "  </thead>\n",
       "  <tbody>\n",
       "    <tr>\n",
       "      <th>21891</th>\n",
       "      <td>5</td>\n",
       "      <td>298267187</td>\n",
       "      <td>211139709</td>\n",
       "      <td>2021</td>\n",
       "      <td>Half Season</td>\n",
       "      <td>104.00</td>\n",
       "      <td>1970-01-01</td>\n",
       "      <td>0.000000</td>\n",
       "      <td>251</td>\n",
       "      <td>TRUE</td>\n",
       "      <td>...</td>\n",
       "      <td>0</td>\n",
       "      <td>0</td>\n",
       "      <td>0</td>\n",
       "      <td>0</td>\n",
       "      <td>0.0</td>\n",
       "      <td>1</td>\n",
       "      <td>0</td>\n",
       "      <td>0</td>\n",
       "      <td>0.9859</td>\n",
       "      <td>0.0141</td>\n",
       "    </tr>\n",
       "    <tr>\n",
       "      <th>21892</th>\n",
       "      <td>5</td>\n",
       "      <td>298495769</td>\n",
       "      <td>201019586</td>\n",
       "      <td>2021</td>\n",
       "      <td>Full Season</td>\n",
       "      <td>7482.00</td>\n",
       "      <td>2021-11-23</td>\n",
       "      <td>1.090909</td>\n",
       "      <td>119</td>\n",
       "      <td>TRUE</td>\n",
       "      <td>...</td>\n",
       "      <td>0</td>\n",
       "      <td>0</td>\n",
       "      <td>0</td>\n",
       "      <td>0</td>\n",
       "      <td>0.0</td>\n",
       "      <td>1</td>\n",
       "      <td>0</td>\n",
       "      <td>1</td>\n",
       "      <td>0.4200</td>\n",
       "      <td>0.5800</td>\n",
       "    </tr>\n",
       "    <tr>\n",
       "      <th>21893</th>\n",
       "      <td>5</td>\n",
       "      <td>299088720</td>\n",
       "      <td>207050629</td>\n",
       "      <td>2021</td>\n",
       "      <td>Quarter Season</td>\n",
       "      <td>1500.00</td>\n",
       "      <td>2021-10-27</td>\n",
       "      <td>1.000000</td>\n",
       "      <td>99</td>\n",
       "      <td>TRUE</td>\n",
       "      <td>...</td>\n",
       "      <td>0</td>\n",
       "      <td>0</td>\n",
       "      <td>0</td>\n",
       "      <td>0</td>\n",
       "      <td>0.0</td>\n",
       "      <td>1</td>\n",
       "      <td>0</td>\n",
       "      <td>0</td>\n",
       "      <td>0.6829</td>\n",
       "      <td>0.3171</td>\n",
       "    </tr>\n",
       "    <tr>\n",
       "      <th>21894</th>\n",
       "      <td>5</td>\n",
       "      <td>299091531</td>\n",
       "      <td>921909</td>\n",
       "      <td>2021</td>\n",
       "      <td>Full Season</td>\n",
       "      <td>6501.60</td>\n",
       "      <td>2021-11-23</td>\n",
       "      <td>0.590909</td>\n",
       "      <td>270</td>\n",
       "      <td>TRUE</td>\n",
       "      <td>...</td>\n",
       "      <td>0</td>\n",
       "      <td>0</td>\n",
       "      <td>0</td>\n",
       "      <td>0</td>\n",
       "      <td>0.0</td>\n",
       "      <td>1</td>\n",
       "      <td>0</td>\n",
       "      <td>1</td>\n",
       "      <td>0.0946</td>\n",
       "      <td>0.9054</td>\n",
       "    </tr>\n",
       "    <tr>\n",
       "      <th>21895</th>\n",
       "      <td>5</td>\n",
       "      <td>299111838</td>\n",
       "      <td>925839</td>\n",
       "      <td>2021</td>\n",
       "      <td>Full Season</td>\n",
       "      <td>6908.38</td>\n",
       "      <td>2021-11-23</td>\n",
       "      <td>0.818182</td>\n",
       "      <td>265</td>\n",
       "      <td>TRUE</td>\n",
       "      <td>...</td>\n",
       "      <td>0</td>\n",
       "      <td>0</td>\n",
       "      <td>0</td>\n",
       "      <td>0</td>\n",
       "      <td>0.0</td>\n",
       "      <td>1</td>\n",
       "      <td>0</td>\n",
       "      <td>1</td>\n",
       "      <td>0.1246</td>\n",
       "      <td>0.8754</td>\n",
       "    </tr>\n",
       "  </tbody>\n",
       "</table>\n",
       "<p>5 rows × 59 columns</p>\n",
       "</div>"
      ],
      "text/plain": [
       "       lkupClientId  dimCustomerMasterId customerNumber  year productGrouping  \\\n",
       "21891             5            298267187      211139709  2021     Half Season   \n",
       "21892             5            298495769      201019586  2021     Full Season   \n",
       "21893             5            299088720      207050629  2021  Quarter Season   \n",
       "21894             5            299091531         921909  2021     Full Season   \n",
       "21895             5            299111838         925839  2021     Full Season   \n",
       "\n",
       "       totalSpent  recentDate  attendancePercent  renewedBeforeDays isBuyer  \\\n",
       "21891      104.00  1970-01-01           0.000000                251    TRUE   \n",
       "21892     7482.00  2021-11-23           1.090909                119    TRUE   \n",
       "21893     1500.00  2021-10-27           1.000000                 99    TRUE   \n",
       "21894     6501.60  2021-11-23           0.590909                270    TRUE   \n",
       "21895     6908.38  2021-11-23           0.818182                265    TRUE   \n",
       "\n",
       "       ...  isnextyear_buyer  isnextyear_samepkg_buyer  pkgupgrade_status  \\\n",
       "21891  ...                 0                         0                  0   \n",
       "21892  ...                 0                         0                  0   \n",
       "21893  ...                 0                         0                  0   \n",
       "21894  ...                 0                         0                  0   \n",
       "21895  ...                 0                         0                  0   \n",
       "\n",
       "       auto_renewal  credits_after_refund  is_Lockdown  isNextYear_Buyer  \\\n",
       "21891             0                   0.0            1                 0   \n",
       "21892             0                   0.0            1                 0   \n",
       "21893             0                   0.0            1                 0   \n",
       "21894             0                   0.0            1                 0   \n",
       "21895             0                   0.0            1                 0   \n",
       "\n",
       "       Label  Score_0  Score_1  \n",
       "21891      0   0.9859   0.0141  \n",
       "21892      1   0.4200   0.5800  \n",
       "21893      0   0.6829   0.3171  \n",
       "21894      1   0.0946   0.9054  \n",
       "21895      1   0.1246   0.8754  \n",
       "\n",
       "[5 rows x 59 columns]"
      ]
     },
     "execution_count": 9,
     "metadata": {},
     "output_type": "execute_result"
    }
   ],
   "source": [
    "new_predictions = predict_model(final_model, data=df_inference, raw_score=True)\n",
    "new_predictions.head()"
   ]
  },
  {
   "cell_type": "code",
   "execution_count": 48,
   "id": "95e96920-bc9c-4b50-837c-89e392d13449",
   "metadata": {},
   "outputs": [],
   "source": [
    "#new_predictions = new_predictions.loc[new_predictions[\"productGrouping\"] == \"Full Season\"]"
   ]
  },
  {
   "cell_type": "code",
   "execution_count": null,
   "id": "3b4b1d51-1c33-489a-95f6-ab75e428c760",
   "metadata": {},
   "outputs": [],
   "source": [
    "new_predictions[new_predictions[\"Label\"]==1][[\"Score_1\"]].hist(bins=30, figsize=(10,5), range=[0,1])"
   ]
  },
  {
   "cell_type": "markdown",
   "id": "a854a543-3129-4b42-ab7f-45a794593790",
   "metadata": {},
   "source": [
    "### Let's compare this distribution to the scores in SageMaker:"
   ]
  },
  {
   "cell_type": "code",
   "execution_count": null,
   "id": "ff74880f-b2d5-46f0-baf3-9902cba0bb7c",
   "metadata": {},
   "outputs": [],
   "source": [
    "#df_sagemaker_scores = pd.read_json('inference_data.json', lines=True)\n",
    "#df_sagemaker_scores.head()"
   ]
  },
  {
   "cell_type": "code",
   "execution_count": null,
   "id": "d0d103f9-2112-4a3e-a708-f0d7e7fb1558",
   "metadata": {},
   "outputs": [],
   "source": [
    "df_sagemaker_scores[df_sagemaker_scores[\"lkupclientid\"]==55][[\"isNextYear_Buyer\"]].hist()"
   ]
  }
 ],
 "metadata": {
  "kernelspec": {
   "display_name": "Python 3 (ipykernel)",
   "language": "python",
   "name": "python3"
  },
  "language_info": {
   "codemirror_mode": {
    "name": "ipython",
    "version": 3
   },
   "file_extension": ".py",
   "mimetype": "text/x-python",
   "name": "python",
   "nbconvert_exporter": "python",
   "pygments_lexer": "ipython3",
   "version": "3.7.10"
  }
 },
 "nbformat": 4,
 "nbformat_minor": 5
}
