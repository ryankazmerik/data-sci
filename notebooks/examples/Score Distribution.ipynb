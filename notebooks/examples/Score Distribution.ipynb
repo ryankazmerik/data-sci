{
 "cells": [
  {
   "cell_type": "markdown",
   "id": "6ee08766-25fd-4da1-91b8-b0c3e74db588",
   "metadata": {},
   "source": [
    "# Score Distribution Example\n",
    "* StelllarAlgo Data Science\n",
    "* Ryan Kazmerik & Nakisa Rad\n",
    "* Dec 20, 2021"
   ]
  },
  {
   "cell_type": "code",
   "execution_count": 124,
   "id": "4c533efd-600e-4bce-8203-faffbddfa700",
   "metadata": {},
   "outputs": [],
   "source": [
    "import getpass\n",
    "import pyodbc\n",
    "import pandas as pd\n",
    "import warnings\n",
    "import matplotlib.pyplot as plt\n",
    "\n",
    "from pycaret.classification import *\n",
    "\n",
    "warnings.filterwarnings('ignore')"
   ]
  },
  {
   "cell_type": "markdown",
   "id": "b64ae7d5-84af-4915-bd13-1dd9d17098a3",
   "metadata": {},
   "source": [
    "### Let's connect to MSSQL and run a stored proc to get our dataset:"
   ]
  },
  {
   "cell_type": "code",
   "execution_count": 125,
   "id": "ae561eb4-f419-4d46-b5e0-12fac9b10db8",
   "metadata": {},
   "outputs": [
    {
     "name": "stdin",
     "output_type": "stream",
     "text": [
      "Enter your password ··················\n"
     ]
    }
   ],
   "source": [
    "# connect to SQL Server.\n",
    "SERVER = '34.206.73.189' \n",
    "DATABASE = 'datascience' \n",
    "USERNAME = 'dsAdminWrite' \n",
    "PASSWORD = getpass.getpass(prompt='Enter your password')\n",
    "CNXN = pyodbc.connect('DRIVER={ODBC Driver 17 for SQL Server};SERVER='+SERVER+';DATABASE='+DATABASE+';UID='+USERNAME+';PWD='+ PASSWORD)"
   ]
  },
  {
   "cell_type": "code",
   "execution_count": 140,
   "id": "af1afe7d-a35b-494b-88f3-980fb0e3da30",
   "metadata": {},
   "outputs": [
    {
     "data": {
      "text/plain": [
       "(27489, 54)"
      ]
     },
     "execution_count": 140,
     "metadata": {},
     "output_type": "execute_result"
    }
   ],
   "source": [
    "lkupclientid = 5 # trail blazers\n",
    "cursor = CNXN.cursor()\n",
    "\n",
    "storedProc = (\n",
    "    f\"\"\"Exec [stlrTrailBlazers].[ds].[getRetentionScoringModelData] {lkupclientid}\"\"\"\n",
    ")\n",
    "\n",
    "df = pd.read_sql(storedProc, CNXN)\n",
    "\n",
    "# apply some data transformations\n",
    "df[\"year\"] = pd.to_numeric(df[\"year\"])\n",
    "\n",
    "CNXN.commit()\n",
    "cursor.close()\n",
    "\n",
    "df.shape"
   ]
  },
  {
   "cell_type": "markdown",
   "id": "ab40da92-72a7-49c1-9829-ed3805a39719",
   "metadata": {},
   "source": [
    "### We should specify the features used in our model:"
   ]
  },
  {
   "cell_type": "code",
   "execution_count": 141,
   "id": "788f1273-8b7a-46bd-a099-1a471feeacc5",
   "metadata": {},
   "outputs": [
    {
     "name": "stdout",
     "output_type": "stream",
     "text": [
      "Data for Modeling: (18594, 9)\n",
      "Unseen Data For Predictions: (3281, 9)\n",
      "\n"
     ]
    }
   ],
   "source": [
    "# choose the features for the stellar base retention model\n",
    "features = [\n",
    "    \"dimCustomerMasterId\",\n",
    "    \"attendancePercent\",\n",
    "    \"distToVenue\",\n",
    "    \"isNextYear_Buyer\",\n",
    "    \"productGrouping\",\n",
    "    \"recency\",\n",
    "    \"source_tenure\",\n",
    "    \"totalSpent\",\n",
    "    \"year\"\n",
    "]\n",
    "\n",
    "# copy your main dataframe\n",
    "df_dataset = df\n",
    "\n",
    "# choose the features & train year & test year\n",
    "df_dataset = df_dataset[features]\n",
    "df_dataset[\"year\"] = pd.to_numeric(df_dataset[\"year\"])\n",
    "df_dataset = df_dataset.loc[df_dataset[\"year\"] <= 2019]\n",
    "\n",
    "df_train = df_dataset.sample(frac=0.85, random_state=786)\n",
    "df_eval = df_dataset.drop(df_train.index)\n",
    "\n",
    "df_train.reset_index(drop=True, inplace=True)\n",
    "df_eval.reset_index(drop=True, inplace=True)\n",
    "\n",
    "# print out the number of records for training and eval\n",
    "print('Data for Modeling: ' + str(df_train.shape))\n",
    "print('Unseen Data For Predictions: ' + str(df_eval.shape), end=\"\\n\\n\")"
   ]
  },
  {
   "cell_type": "markdown",
   "id": "4f2da06d-9015-49fd-89b3-956c2ebf66e9",
   "metadata": {},
   "source": [
    "### Now we can model the data using a binary classification prediction for the isnextyear_buyer field to see how likely a customer is to re-purchase."
   ]
  },
  {
   "cell_type": "code",
   "execution_count": 142,
   "id": "23a69cdc-b3ec-48c8-9ce5-29f617779389",
   "metadata": {},
   "outputs": [],
   "source": [
    "setup(\n",
    "    data= df_train, \n",
    "    target=\"isNextYear_Buyer\", \n",
    "    train_size = 0.85,\n",
    "    data_split_shuffle=True,\n",
    "    ignore_features=[\"dimCustomerMasterId\",\"productGrouping\",\"year\"],\n",
    "    silent=True,\n",
    "    verbose=False,\n",
    "    numeric_features=[\n",
    "        \"attendancePercent\",\n",
    "        \"distToVenue\",\n",
    "        \"recency\",\n",
    "        \"source_tenure\",\n",
    "        \"totalSpent\"\n",
    "    ]\n",
    ");"
   ]
  },
  {
   "cell_type": "markdown",
   "id": "6e1e33e8-ed5f-4e84-abb2-a2fc8370905c",
   "metadata": {},
   "source": [
    "### Let's compare all models to evaluate performance. The output prints a score grid that shows average Accuracy, AUC, Recall, Precision, F1 and Kappa accross the folds (10 by default) along with training time."
   ]
  },
  {
   "cell_type": "code",
   "execution_count": 143,
   "id": "ef2db9d2-02c2-45c0-b6bb-5cad42c373ce",
   "metadata": {},
   "outputs": [
    {
     "data": {
      "text/html": [
       "<style  type=\"text/css\" >\n",
       "    #T_cfed7_ th {\n",
       "          text-align: left;\n",
       "    }#T_cfed7_row0_col0,#T_cfed7_row0_col3,#T_cfed7_row0_col4,#T_cfed7_row1_col0,#T_cfed7_row1_col1,#T_cfed7_row1_col2,#T_cfed7_row1_col3,#T_cfed7_row1_col4,#T_cfed7_row1_col5,#T_cfed7_row1_col6,#T_cfed7_row1_col7,#T_cfed7_row2_col0,#T_cfed7_row2_col1,#T_cfed7_row2_col2,#T_cfed7_row2_col3,#T_cfed7_row2_col4,#T_cfed7_row2_col6,#T_cfed7_row2_col7,#T_cfed7_row3_col0,#T_cfed7_row3_col1,#T_cfed7_row3_col2,#T_cfed7_row3_col3,#T_cfed7_row3_col4,#T_cfed7_row3_col5,#T_cfed7_row3_col6,#T_cfed7_row3_col7,#T_cfed7_row4_col0,#T_cfed7_row4_col1,#T_cfed7_row4_col2,#T_cfed7_row4_col3,#T_cfed7_row4_col4,#T_cfed7_row4_col5,#T_cfed7_row4_col6,#T_cfed7_row4_col7,#T_cfed7_row5_col0,#T_cfed7_row5_col1,#T_cfed7_row5_col2,#T_cfed7_row5_col3,#T_cfed7_row5_col4,#T_cfed7_row5_col5,#T_cfed7_row5_col6,#T_cfed7_row5_col7,#T_cfed7_row6_col0,#T_cfed7_row6_col1,#T_cfed7_row6_col2,#T_cfed7_row6_col3,#T_cfed7_row6_col4,#T_cfed7_row6_col5,#T_cfed7_row6_col6,#T_cfed7_row6_col7,#T_cfed7_row7_col0,#T_cfed7_row7_col1,#T_cfed7_row7_col2,#T_cfed7_row7_col3,#T_cfed7_row7_col4,#T_cfed7_row7_col5,#T_cfed7_row7_col6,#T_cfed7_row7_col7,#T_cfed7_row8_col0,#T_cfed7_row8_col1,#T_cfed7_row8_col2,#T_cfed7_row8_col3,#T_cfed7_row8_col4,#T_cfed7_row8_col5,#T_cfed7_row8_col6,#T_cfed7_row8_col7,#T_cfed7_row9_col0,#T_cfed7_row9_col1,#T_cfed7_row9_col2,#T_cfed7_row9_col4,#T_cfed7_row9_col5,#T_cfed7_row9_col6,#T_cfed7_row9_col7,#T_cfed7_row10_col0,#T_cfed7_row10_col1,#T_cfed7_row10_col2,#T_cfed7_row10_col3,#T_cfed7_row10_col4,#T_cfed7_row10_col5,#T_cfed7_row10_col6,#T_cfed7_row10_col7,#T_cfed7_row11_col0,#T_cfed7_row11_col1,#T_cfed7_row11_col2,#T_cfed7_row11_col3,#T_cfed7_row11_col5,#T_cfed7_row11_col6,#T_cfed7_row11_col7{\n",
       "            text-align:  left;\n",
       "            text-align:  left;\n",
       "        }#T_cfed7_row0_col1,#T_cfed7_row0_col2,#T_cfed7_row0_col5,#T_cfed7_row0_col6,#T_cfed7_row0_col7,#T_cfed7_row2_col5,#T_cfed7_row9_col3,#T_cfed7_row11_col4{\n",
       "            text-align:  left;\n",
       "            text-align:  left;\n",
       "            background-color:  yellow;\n",
       "        }#T_cfed7_row0_col8,#T_cfed7_row1_col8,#T_cfed7_row2_col8,#T_cfed7_row3_col8,#T_cfed7_row4_col8,#T_cfed7_row5_col8,#T_cfed7_row6_col8,#T_cfed7_row7_col8,#T_cfed7_row8_col8,#T_cfed7_row10_col8,#T_cfed7_row11_col8{\n",
       "            text-align:  left;\n",
       "            text-align:  left;\n",
       "            background-color:  lightgrey;\n",
       "        }#T_cfed7_row9_col8{\n",
       "            text-align:  left;\n",
       "            text-align:  left;\n",
       "            background-color:  yellow;\n",
       "            background-color:  lightgrey;\n",
       "        }</style><table id=\"T_cfed7_\" ><thead>    <tr>        <th class=\"blank level0\" ></th>        <th class=\"col_heading level0 col0\" >Model</th>        <th class=\"col_heading level0 col1\" >Accuracy</th>        <th class=\"col_heading level0 col2\" >AUC</th>        <th class=\"col_heading level0 col3\" >Recall</th>        <th class=\"col_heading level0 col4\" >Prec.</th>        <th class=\"col_heading level0 col5\" >F1</th>        <th class=\"col_heading level0 col6\" >Kappa</th>        <th class=\"col_heading level0 col7\" >MCC</th>        <th class=\"col_heading level0 col8\" >TT (Sec)</th>    </tr></thead><tbody>\n",
       "                <tr>\n",
       "                        <th id=\"T_cfed7_level0_row0\" class=\"row_heading level0 row0\" >lightgbm</th>\n",
       "                        <td id=\"T_cfed7_row0_col0\" class=\"data row0 col0\" >Light Gradient Boosting Machine</td>\n",
       "                        <td id=\"T_cfed7_row0_col1\" class=\"data row0 col1\" >0.7652</td>\n",
       "                        <td id=\"T_cfed7_row0_col2\" class=\"data row0 col2\" >0.8287</td>\n",
       "                        <td id=\"T_cfed7_row0_col3\" class=\"data row0 col3\" >0.8339</td>\n",
       "                        <td id=\"T_cfed7_row0_col4\" class=\"data row0 col4\" >0.8052</td>\n",
       "                        <td id=\"T_cfed7_row0_col5\" class=\"data row0 col5\" >0.8192</td>\n",
       "                        <td id=\"T_cfed7_row0_col6\" class=\"data row0 col6\" >0.4846</td>\n",
       "                        <td id=\"T_cfed7_row0_col7\" class=\"data row0 col7\" >0.4854</td>\n",
       "                        <td id=\"T_cfed7_row0_col8\" class=\"data row0 col8\" >0.5180</td>\n",
       "            </tr>\n",
       "            <tr>\n",
       "                        <th id=\"T_cfed7_level0_row1\" class=\"row_heading level0 row1\" >xgboost</th>\n",
       "                        <td id=\"T_cfed7_row1_col0\" class=\"data row1 col0\" >Extreme Gradient Boosting</td>\n",
       "                        <td id=\"T_cfed7_row1_col1\" class=\"data row1 col1\" >0.7637</td>\n",
       "                        <td id=\"T_cfed7_row1_col2\" class=\"data row1 col2\" >0.8268</td>\n",
       "                        <td id=\"T_cfed7_row1_col3\" class=\"data row1 col3\" >0.8326</td>\n",
       "                        <td id=\"T_cfed7_row1_col4\" class=\"data row1 col4\" >0.8041</td>\n",
       "                        <td id=\"T_cfed7_row1_col5\" class=\"data row1 col5\" >0.8180</td>\n",
       "                        <td id=\"T_cfed7_row1_col6\" class=\"data row1 col6\" >0.4815</td>\n",
       "                        <td id=\"T_cfed7_row1_col7\" class=\"data row1 col7\" >0.4823</td>\n",
       "                        <td id=\"T_cfed7_row1_col8\" class=\"data row1 col8\" >0.3140</td>\n",
       "            </tr>\n",
       "            <tr>\n",
       "                        <th id=\"T_cfed7_level0_row2\" class=\"row_heading level0 row2\" >gbc</th>\n",
       "                        <td id=\"T_cfed7_row2_col0\" class=\"data row2 col0\" >Gradient Boosting Classifier</td>\n",
       "                        <td id=\"T_cfed7_row2_col1\" class=\"data row2 col1\" >0.7612</td>\n",
       "                        <td id=\"T_cfed7_row2_col2\" class=\"data row2 col2\" >0.8256</td>\n",
       "                        <td id=\"T_cfed7_row2_col3\" class=\"data row2 col3\" >0.8480</td>\n",
       "                        <td id=\"T_cfed7_row2_col4\" class=\"data row2 col4\" >0.7924</td>\n",
       "                        <td id=\"T_cfed7_row2_col5\" class=\"data row2 col5\" >0.8192</td>\n",
       "                        <td id=\"T_cfed7_row2_col6\" class=\"data row2 col6\" >0.4687</td>\n",
       "                        <td id=\"T_cfed7_row2_col7\" class=\"data row2 col7\" >0.4712</td>\n",
       "                        <td id=\"T_cfed7_row2_col8\" class=\"data row2 col8\" >0.1040</td>\n",
       "            </tr>\n",
       "            <tr>\n",
       "                        <th id=\"T_cfed7_level0_row3\" class=\"row_heading level0 row3\" >ada</th>\n",
       "                        <td id=\"T_cfed7_row3_col0\" class=\"data row3 col0\" >Ada Boost Classifier</td>\n",
       "                        <td id=\"T_cfed7_row3_col1\" class=\"data row3 col1\" >0.7539</td>\n",
       "                        <td id=\"T_cfed7_row3_col2\" class=\"data row3 col2\" >0.8200</td>\n",
       "                        <td id=\"T_cfed7_row3_col3\" class=\"data row3 col3\" >0.8441</td>\n",
       "                        <td id=\"T_cfed7_row3_col4\" class=\"data row3 col4\" >0.7860</td>\n",
       "                        <td id=\"T_cfed7_row3_col5\" class=\"data row3 col5\" >0.8140</td>\n",
       "                        <td id=\"T_cfed7_row3_col6\" class=\"data row3 col6\" >0.4516</td>\n",
       "                        <td id=\"T_cfed7_row3_col7\" class=\"data row3 col7\" >0.4543</td>\n",
       "                        <td id=\"T_cfed7_row3_col8\" class=\"data row3 col8\" >0.0490</td>\n",
       "            </tr>\n",
       "            <tr>\n",
       "                        <th id=\"T_cfed7_level0_row4\" class=\"row_heading level0 row4\" >knn</th>\n",
       "                        <td id=\"T_cfed7_row4_col0\" class=\"data row4 col0\" >K Neighbors Classifier</td>\n",
       "                        <td id=\"T_cfed7_row4_col1\" class=\"data row4 col1\" >0.7379</td>\n",
       "                        <td id=\"T_cfed7_row4_col2\" class=\"data row4 col2\" >0.7759</td>\n",
       "                        <td id=\"T_cfed7_row4_col3\" class=\"data row4 col3\" >0.8245</td>\n",
       "                        <td id=\"T_cfed7_row4_col4\" class=\"data row4 col4\" >0.7781</td>\n",
       "                        <td id=\"T_cfed7_row4_col5\" class=\"data row4 col5\" >0.8005</td>\n",
       "                        <td id=\"T_cfed7_row4_col6\" class=\"data row4 col6\" >0.4191</td>\n",
       "                        <td id=\"T_cfed7_row4_col7\" class=\"data row4 col7\" >0.4207</td>\n",
       "                        <td id=\"T_cfed7_row4_col8\" class=\"data row4 col8\" >0.1480</td>\n",
       "            </tr>\n",
       "            <tr>\n",
       "                        <th id=\"T_cfed7_level0_row5\" class=\"row_heading level0 row5\" >lr</th>\n",
       "                        <td id=\"T_cfed7_row5_col0\" class=\"data row5 col0\" >Logistic Regression</td>\n",
       "                        <td id=\"T_cfed7_row5_col1\" class=\"data row5 col1\" >0.7363</td>\n",
       "                        <td id=\"T_cfed7_row5_col2\" class=\"data row5 col2\" >0.7978</td>\n",
       "                        <td id=\"T_cfed7_row5_col3\" class=\"data row5 col3\" >0.8561</td>\n",
       "                        <td id=\"T_cfed7_row5_col4\" class=\"data row5 col4\" >0.7608</td>\n",
       "                        <td id=\"T_cfed7_row5_col5\" class=\"data row5 col5\" >0.8055</td>\n",
       "                        <td id=\"T_cfed7_row5_col6\" class=\"data row5 col6\" >0.4004</td>\n",
       "                        <td id=\"T_cfed7_row5_col7\" class=\"data row5 col7\" >0.4077</td>\n",
       "                        <td id=\"T_cfed7_row5_col8\" class=\"data row5 col8\" >0.3090</td>\n",
       "            </tr>\n",
       "            <tr>\n",
       "                        <th id=\"T_cfed7_level0_row6\" class=\"row_heading level0 row6\" >rf</th>\n",
       "                        <td id=\"T_cfed7_row6_col0\" class=\"data row6 col0\" >Random Forest Classifier</td>\n",
       "                        <td id=\"T_cfed7_row6_col1\" class=\"data row6 col1\" >0.7334</td>\n",
       "                        <td id=\"T_cfed7_row6_col2\" class=\"data row6 col2\" >0.7839</td>\n",
       "                        <td id=\"T_cfed7_row6_col3\" class=\"data row6 col3\" >0.8180</td>\n",
       "                        <td id=\"T_cfed7_row6_col4\" class=\"data row6 col4\" >0.7764</td>\n",
       "                        <td id=\"T_cfed7_row6_col5\" class=\"data row6 col5\" >0.7965</td>\n",
       "                        <td id=\"T_cfed7_row6_col6\" class=\"data row6 col6\" >0.4105</td>\n",
       "                        <td id=\"T_cfed7_row6_col7\" class=\"data row6 col7\" >0.4121</td>\n",
       "                        <td id=\"T_cfed7_row6_col8\" class=\"data row6 col8\" >0.2380</td>\n",
       "            </tr>\n",
       "            <tr>\n",
       "                        <th id=\"T_cfed7_level0_row7\" class=\"row_heading level0 row7\" >et</th>\n",
       "                        <td id=\"T_cfed7_row7_col0\" class=\"data row7 col0\" >Extra Trees Classifier</td>\n",
       "                        <td id=\"T_cfed7_row7_col1\" class=\"data row7 col1\" >0.7208</td>\n",
       "                        <td id=\"T_cfed7_row7_col2\" class=\"data row7 col2\" >0.7483</td>\n",
       "                        <td id=\"T_cfed7_row7_col3\" class=\"data row7 col3\" >0.8007</td>\n",
       "                        <td id=\"T_cfed7_row7_col4\" class=\"data row7 col4\" >0.7708</td>\n",
       "                        <td id=\"T_cfed7_row7_col5\" class=\"data row7 col5\" >0.7854</td>\n",
       "                        <td id=\"T_cfed7_row7_col6\" class=\"data row7 col6\" >0.3865</td>\n",
       "                        <td id=\"T_cfed7_row7_col7\" class=\"data row7 col7\" >0.3873</td>\n",
       "                        <td id=\"T_cfed7_row7_col8\" class=\"data row7 col8\" >0.2100</td>\n",
       "            </tr>\n",
       "            <tr>\n",
       "                        <th id=\"T_cfed7_level0_row8\" class=\"row_heading level0 row8\" >dt</th>\n",
       "                        <td id=\"T_cfed7_row8_col0\" class=\"data row8 col0\" >Decision Tree Classifier</td>\n",
       "                        <td id=\"T_cfed7_row8_col1\" class=\"data row8 col1\" >0.6957</td>\n",
       "                        <td id=\"T_cfed7_row8_col2\" class=\"data row8 col2\" >0.6819</td>\n",
       "                        <td id=\"T_cfed7_row8_col3\" class=\"data row8 col3\" >0.7483</td>\n",
       "                        <td id=\"T_cfed7_row8_col4\" class=\"data row8 col4\" >0.7688</td>\n",
       "                        <td id=\"T_cfed7_row8_col5\" class=\"data row8 col5\" >0.7583</td>\n",
       "                        <td id=\"T_cfed7_row8_col6\" class=\"data row8 col6\" >0.3477</td>\n",
       "                        <td id=\"T_cfed7_row8_col7\" class=\"data row8 col7\" >0.3481</td>\n",
       "                        <td id=\"T_cfed7_row8_col8\" class=\"data row8 col8\" >0.0140</td>\n",
       "            </tr>\n",
       "            <tr>\n",
       "                        <th id=\"T_cfed7_level0_row9\" class=\"row_heading level0 row9\" >ridge</th>\n",
       "                        <td id=\"T_cfed7_row9_col0\" class=\"data row9 col0\" >Ridge Classifier</td>\n",
       "                        <td id=\"T_cfed7_row9_col1\" class=\"data row9 col1\" >0.6508</td>\n",
       "                        <td id=\"T_cfed7_row9_col2\" class=\"data row9 col2\" >0.0000</td>\n",
       "                        <td id=\"T_cfed7_row9_col3\" class=\"data row9 col3\" >0.9941</td>\n",
       "                        <td id=\"T_cfed7_row9_col4\" class=\"data row9 col4\" >0.6474</td>\n",
       "                        <td id=\"T_cfed7_row9_col5\" class=\"data row9 col5\" >0.7841</td>\n",
       "                        <td id=\"T_cfed7_row9_col6\" class=\"data row9 col6\" >0.0499</td>\n",
       "                        <td id=\"T_cfed7_row9_col7\" class=\"data row9 col7\" >0.1356</td>\n",
       "                        <td id=\"T_cfed7_row9_col8\" class=\"data row9 col8\" >0.0070</td>\n",
       "            </tr>\n",
       "            <tr>\n",
       "                        <th id=\"T_cfed7_level0_row10\" class=\"row_heading level0 row10\" >svm</th>\n",
       "                        <td id=\"T_cfed7_row10_col0\" class=\"data row10 col0\" >SVM - Linear Kernel</td>\n",
       "                        <td id=\"T_cfed7_row10_col1\" class=\"data row10 col1\" >0.6434</td>\n",
       "                        <td id=\"T_cfed7_row10_col2\" class=\"data row10 col2\" >0.0000</td>\n",
       "                        <td id=\"T_cfed7_row10_col3\" class=\"data row10 col3\" >0.8816</td>\n",
       "                        <td id=\"T_cfed7_row10_col4\" class=\"data row10 col4\" >0.6754</td>\n",
       "                        <td id=\"T_cfed7_row10_col5\" class=\"data row10 col5\" >0.7556</td>\n",
       "                        <td id=\"T_cfed7_row10_col6\" class=\"data row10 col6\" >0.1081</td>\n",
       "                        <td id=\"T_cfed7_row10_col7\" class=\"data row10 col7\" >0.1225</td>\n",
       "                        <td id=\"T_cfed7_row10_col8\" class=\"data row10 col8\" >0.0100</td>\n",
       "            </tr>\n",
       "            <tr>\n",
       "                        <th id=\"T_cfed7_level0_row11\" class=\"row_heading level0 row11\" >nb</th>\n",
       "                        <td id=\"T_cfed7_row11_col0\" class=\"data row11 col0\" >Naive Bayes</td>\n",
       "                        <td id=\"T_cfed7_row11_col1\" class=\"data row11 col1\" >0.5644</td>\n",
       "                        <td id=\"T_cfed7_row11_col2\" class=\"data row11 col2\" >0.7527</td>\n",
       "                        <td id=\"T_cfed7_row11_col3\" class=\"data row11 col3\" >0.3507</td>\n",
       "                        <td id=\"T_cfed7_row11_col4\" class=\"data row11 col4\" >0.9131</td>\n",
       "                        <td id=\"T_cfed7_row11_col5\" class=\"data row11 col5\" >0.5066</td>\n",
       "                        <td id=\"T_cfed7_row11_col6\" class=\"data row11 col6\" >0.2363</td>\n",
       "                        <td id=\"T_cfed7_row11_col7\" class=\"data row11 col7\" >0.3260</td>\n",
       "                        <td id=\"T_cfed7_row11_col8\" class=\"data row11 col8\" >0.0090</td>\n",
       "            </tr>\n",
       "    </tbody></table>"
      ],
      "text/plain": [
       "<pandas.io.formats.style.Styler at 0x7faa8670f0d0>"
      ]
     },
     "metadata": {},
     "output_type": "display_data"
    }
   ],
   "source": [
    "model_matrix = compare_models(\n",
    "    fold=10,\n",
    "    exclude=[\"lda\",\"qda\"]\n",
    ")"
   ]
  },
  {
   "cell_type": "code",
   "execution_count": 144,
   "id": "d9f030ed-4b6a-4a87-a01e-129dc49e0d4a",
   "metadata": {},
   "outputs": [
    {
     "data": {
      "text/html": [
       "<style  type=\"text/css\" >\n",
       "#T_1f6eb_row10_col0,#T_1f6eb_row10_col1,#T_1f6eb_row10_col2,#T_1f6eb_row10_col3,#T_1f6eb_row10_col4,#T_1f6eb_row10_col5,#T_1f6eb_row10_col6{\n",
       "            background:  yellow;\n",
       "        }</style><table id=\"T_1f6eb_\" ><thead>    <tr>        <th class=\"blank level0\" ></th>        <th class=\"col_heading level0 col0\" >Accuracy</th>        <th class=\"col_heading level0 col1\" >AUC</th>        <th class=\"col_heading level0 col2\" >Recall</th>        <th class=\"col_heading level0 col3\" >Prec.</th>        <th class=\"col_heading level0 col4\" >F1</th>        <th class=\"col_heading level0 col5\" >Kappa</th>        <th class=\"col_heading level0 col6\" >MCC</th>    </tr></thead><tbody>\n",
       "                <tr>\n",
       "                        <th id=\"T_1f6eb_level0_row0\" class=\"row_heading level0 row0\" >0</th>\n",
       "                        <td id=\"T_1f6eb_row0_col0\" class=\"data row0 col0\" >0.7660</td>\n",
       "                        <td id=\"T_1f6eb_row0_col1\" class=\"data row0 col1\" >0.8315</td>\n",
       "                        <td id=\"T_1f6eb_row0_col2\" class=\"data row0 col2\" >0.8236</td>\n",
       "                        <td id=\"T_1f6eb_row0_col3\" class=\"data row0 col3\" >0.8123</td>\n",
       "                        <td id=\"T_1f6eb_row0_col4\" class=\"data row0 col4\" >0.8179</td>\n",
       "                        <td id=\"T_1f6eb_row0_col5\" class=\"data row0 col5\" >0.4905</td>\n",
       "                        <td id=\"T_1f6eb_row0_col6\" class=\"data row0 col6\" >0.4906</td>\n",
       "            </tr>\n",
       "            <tr>\n",
       "                        <th id=\"T_1f6eb_level0_row1\" class=\"row_heading level0 row1\" >1</th>\n",
       "                        <td id=\"T_1f6eb_row1_col0\" class=\"data row1 col0\" >0.7628</td>\n",
       "                        <td id=\"T_1f6eb_row1_col1\" class=\"data row1 col1\" >0.8245</td>\n",
       "                        <td id=\"T_1f6eb_row1_col2\" class=\"data row1 col2\" >0.8394</td>\n",
       "                        <td id=\"T_1f6eb_row1_col3\" class=\"data row1 col3\" >0.7991</td>\n",
       "                        <td id=\"T_1f6eb_row1_col4\" class=\"data row1 col4\" >0.8188</td>\n",
       "                        <td id=\"T_1f6eb_row1_col5\" class=\"data row1 col5\" >0.4763</td>\n",
       "                        <td id=\"T_1f6eb_row1_col6\" class=\"data row1 col6\" >0.4775</td>\n",
       "            </tr>\n",
       "            <tr>\n",
       "                        <th id=\"T_1f6eb_level0_row2\" class=\"row_heading level0 row2\" >2</th>\n",
       "                        <td id=\"T_1f6eb_row2_col0\" class=\"data row2 col0\" >0.7672</td>\n",
       "                        <td id=\"T_1f6eb_row2_col1\" class=\"data row2 col1\" >0.8244</td>\n",
       "                        <td id=\"T_1f6eb_row2_col2\" class=\"data row2 col2\" >0.8464</td>\n",
       "                        <td id=\"T_1f6eb_row2_col3\" class=\"data row2 col3\" >0.8004</td>\n",
       "                        <td id=\"T_1f6eb_row2_col4\" class=\"data row2 col4\" >0.8227</td>\n",
       "                        <td id=\"T_1f6eb_row2_col5\" class=\"data row2 col5\" >0.4846</td>\n",
       "                        <td id=\"T_1f6eb_row2_col6\" class=\"data row2 col6\" >0.4863</td>\n",
       "            </tr>\n",
       "            <tr>\n",
       "                        <th id=\"T_1f6eb_level0_row3\" class=\"row_heading level0 row3\" >3</th>\n",
       "                        <td id=\"T_1f6eb_row3_col0\" class=\"data row3 col0\" >0.7470</td>\n",
       "                        <td id=\"T_1f6eb_row3_col1\" class=\"data row3 col1\" >0.8082</td>\n",
       "                        <td id=\"T_1f6eb_row3_col2\" class=\"data row3 col2\" >0.8028</td>\n",
       "                        <td id=\"T_1f6eb_row3_col3\" class=\"data row3 col3\" >0.8012</td>\n",
       "                        <td id=\"T_1f6eb_row3_col4\" class=\"data row3 col4\" >0.8020</td>\n",
       "                        <td id=\"T_1f6eb_row3_col5\" class=\"data row3 col5\" >0.4517</td>\n",
       "                        <td id=\"T_1f6eb_row3_col6\" class=\"data row3 col6\" >0.4517</td>\n",
       "            </tr>\n",
       "            <tr>\n",
       "                        <th id=\"T_1f6eb_level0_row4\" class=\"row_heading level0 row4\" >4</th>\n",
       "                        <td id=\"T_1f6eb_row4_col0\" class=\"data row4 col0\" >0.7551</td>\n",
       "                        <td id=\"T_1f6eb_row4_col1\" class=\"data row4 col1\" >0.8190</td>\n",
       "                        <td id=\"T_1f6eb_row4_col2\" class=\"data row4 col2\" >0.8304</td>\n",
       "                        <td id=\"T_1f6eb_row4_col3\" class=\"data row4 col3\" >0.7949</td>\n",
       "                        <td id=\"T_1f6eb_row4_col4\" class=\"data row4 col4\" >0.8122</td>\n",
       "                        <td id=\"T_1f6eb_row4_col5\" class=\"data row4 col5\" >0.4606</td>\n",
       "                        <td id=\"T_1f6eb_row4_col6\" class=\"data row4 col6\" >0.4615</td>\n",
       "            </tr>\n",
       "            <tr>\n",
       "                        <th id=\"T_1f6eb_level0_row5\" class=\"row_heading level0 row5\" >5</th>\n",
       "                        <td id=\"T_1f6eb_row5_col0\" class=\"data row5 col0\" >0.7722</td>\n",
       "                        <td id=\"T_1f6eb_row5_col1\" class=\"data row5 col1\" >0.8250</td>\n",
       "                        <td id=\"T_1f6eb_row5_col2\" class=\"data row5 col2\" >0.8631</td>\n",
       "                        <td id=\"T_1f6eb_row5_col3\" class=\"data row5 col3\" >0.7967</td>\n",
       "                        <td id=\"T_1f6eb_row5_col4\" class=\"data row5 col4\" >0.8286</td>\n",
       "                        <td id=\"T_1f6eb_row5_col5\" class=\"data row5 col5\" >0.4906</td>\n",
       "                        <td id=\"T_1f6eb_row5_col6\" class=\"data row5 col6\" >0.4941</td>\n",
       "            </tr>\n",
       "            <tr>\n",
       "                        <th id=\"T_1f6eb_level0_row6\" class=\"row_heading level0 row6\" >6</th>\n",
       "                        <td id=\"T_1f6eb_row6_col0\" class=\"data row6 col0\" >0.7785</td>\n",
       "                        <td id=\"T_1f6eb_row6_col1\" class=\"data row6 col1\" >0.8476</td>\n",
       "                        <td id=\"T_1f6eb_row6_col2\" class=\"data row6 col2\" >0.8442</td>\n",
       "                        <td id=\"T_1f6eb_row6_col3\" class=\"data row6 col3\" >0.8151</td>\n",
       "                        <td id=\"T_1f6eb_row6_col4\" class=\"data row6 col4\" >0.8294</td>\n",
       "                        <td id=\"T_1f6eb_row6_col5\" class=\"data row6 col5\" >0.5138</td>\n",
       "                        <td id=\"T_1f6eb_row6_col6\" class=\"data row6 col6\" >0.5145</td>\n",
       "            </tr>\n",
       "            <tr>\n",
       "                        <th id=\"T_1f6eb_level0_row7\" class=\"row_heading level0 row7\" >7</th>\n",
       "                        <td id=\"T_1f6eb_row7_col0\" class=\"data row7 col0\" >0.7658</td>\n",
       "                        <td id=\"T_1f6eb_row7_col1\" class=\"data row7 col1\" >0.8283</td>\n",
       "                        <td id=\"T_1f6eb_row7_col2\" class=\"data row7 col2\" >0.8234</td>\n",
       "                        <td id=\"T_1f6eb_row7_col3\" class=\"data row7 col3\" >0.8121</td>\n",
       "                        <td id=\"T_1f6eb_row7_col4\" class=\"data row7 col4\" >0.8177</td>\n",
       "                        <td id=\"T_1f6eb_row7_col5\" class=\"data row7 col5\" >0.4903</td>\n",
       "                        <td id=\"T_1f6eb_row7_col6\" class=\"data row7 col6\" >0.4904</td>\n",
       "            </tr>\n",
       "            <tr>\n",
       "                        <th id=\"T_1f6eb_level0_row8\" class=\"row_heading level0 row8\" >8</th>\n",
       "                        <td id=\"T_1f6eb_row8_col0\" class=\"data row8 col0\" >0.7753</td>\n",
       "                        <td id=\"T_1f6eb_row8_col1\" class=\"data row8 col1\" >0.8372</td>\n",
       "                        <td id=\"T_1f6eb_row8_col2\" class=\"data row8 col2\" >0.8373</td>\n",
       "                        <td id=\"T_1f6eb_row8_col3\" class=\"data row8 col3\" >0.8155</td>\n",
       "                        <td id=\"T_1f6eb_row8_col4\" class=\"data row8 col4\" >0.8262</td>\n",
       "                        <td id=\"T_1f6eb_row8_col5\" class=\"data row8 col5\" >0.5086</td>\n",
       "                        <td id=\"T_1f6eb_row8_col6\" class=\"data row8 col6\" >0.5089</td>\n",
       "            </tr>\n",
       "            <tr>\n",
       "                        <th id=\"T_1f6eb_level0_row9\" class=\"row_heading level0 row9\" >9</th>\n",
       "                        <td id=\"T_1f6eb_row9_col0\" class=\"data row9 col0\" >0.7475</td>\n",
       "                        <td id=\"T_1f6eb_row9_col1\" class=\"data row9 col1\" >0.8224</td>\n",
       "                        <td id=\"T_1f6eb_row9_col2\" class=\"data row9 col2\" >0.8155</td>\n",
       "                        <td id=\"T_1f6eb_row9_col3\" class=\"data row9 col3\" >0.7942</td>\n",
       "                        <td id=\"T_1f6eb_row9_col4\" class=\"data row9 col4\" >0.8047</td>\n",
       "                        <td id=\"T_1f6eb_row9_col5\" class=\"data row9 col5\" >0.4477</td>\n",
       "                        <td id=\"T_1f6eb_row9_col6\" class=\"data row9 col6\" >0.4480</td>\n",
       "            </tr>\n",
       "            <tr>\n",
       "                        <th id=\"T_1f6eb_level0_row10\" class=\"row_heading level0 row10\" >Mean</th>\n",
       "                        <td id=\"T_1f6eb_row10_col0\" class=\"data row10 col0\" >0.7637</td>\n",
       "                        <td id=\"T_1f6eb_row10_col1\" class=\"data row10 col1\" >0.8268</td>\n",
       "                        <td id=\"T_1f6eb_row10_col2\" class=\"data row10 col2\" >0.8326</td>\n",
       "                        <td id=\"T_1f6eb_row10_col3\" class=\"data row10 col3\" >0.8041</td>\n",
       "                        <td id=\"T_1f6eb_row10_col4\" class=\"data row10 col4\" >0.8180</td>\n",
       "                        <td id=\"T_1f6eb_row10_col5\" class=\"data row10 col5\" >0.4815</td>\n",
       "                        <td id=\"T_1f6eb_row10_col6\" class=\"data row10 col6\" >0.4823</td>\n",
       "            </tr>\n",
       "            <tr>\n",
       "                        <th id=\"T_1f6eb_level0_row11\" class=\"row_heading level0 row11\" >SD</th>\n",
       "                        <td id=\"T_1f6eb_row11_col0\" class=\"data row11 col0\" >0.0103</td>\n",
       "                        <td id=\"T_1f6eb_row11_col1\" class=\"data row11 col1\" >0.0100</td>\n",
       "                        <td id=\"T_1f6eb_row11_col2\" class=\"data row11 col2\" >0.0164</td>\n",
       "                        <td id=\"T_1f6eb_row11_col3\" class=\"data row11 col3\" >0.0082</td>\n",
       "                        <td id=\"T_1f6eb_row11_col4\" class=\"data row11 col4\" >0.0089</td>\n",
       "                        <td id=\"T_1f6eb_row11_col5\" class=\"data row11 col5\" >0.0213</td>\n",
       "                        <td id=\"T_1f6eb_row11_col6\" class=\"data row11 col6\" >0.0215</td>\n",
       "            </tr>\n",
       "    </tbody></table>"
      ],
      "text/plain": [
       "<pandas.io.formats.style.Styler at 0x7faa86670cd0>"
      ]
     },
     "metadata": {},
     "output_type": "display_data"
    }
   ],
   "source": [
    "models = {\n",
    "    \"et\" : create_model('et'),\n",
    "    \"lightgbm\" : create_model('lightgbm'),\n",
    "    \"xgboost\" : create_model('xgboost')\n",
    "}"
   ]
  },
  {
   "cell_type": "markdown",
   "id": "3aab9021-4462-423a-8e3c-fbe1f36c6110",
   "metadata": {},
   "source": [
    "### Let's load in our 2021 season data and get retention scores using the model:"
   ]
  },
  {
   "cell_type": "code",
   "execution_count": 145,
   "id": "c249a813-c882-4869-9490-6ab766a8c223",
   "metadata": {},
   "outputs": [
    {
     "data": {
      "text/plain": [
       "(5614, 9)"
      ]
     },
     "execution_count": 145,
     "metadata": {},
     "output_type": "execute_result"
    }
   ],
   "source": [
    "df_inference = df.loc[df[\"year\"] >= 2021]\n",
    "df_inference = df_inference.fillna(0)\n",
    "df_inference = df_inference[features]\n",
    "\n",
    "df_inference.shape"
   ]
  },
  {
   "cell_type": "code",
   "execution_count": 146,
   "id": "77d55e9b-2f4a-490b-97a1-991613fead88",
   "metadata": {},
   "outputs": [],
   "source": [
    "et_predictions = predict_model(models.get('et'), data=df_inference, raw_score=True)\n",
    "lightgbm_predictions = predict_model(models.get('lightgbm'), data=df_inference, raw_score=True)\n",
    "xgboost_predictions = predict_model(models.get('xgboost'), data=df_inference, raw_score=True)"
   ]
  },
  {
   "cell_type": "code",
   "execution_count": 159,
   "id": "d093ca06-81c4-402f-9895-1de695b0990f",
   "metadata": {},
   "outputs": [
    {
     "name": "stdout",
     "output_type": "stream",
     "text": [
      "et distribution:\n"
     ]
    },
    {
     "data": {
      "text/plain": [
       "array([[<AxesSubplot:title={'center':'Score_1'}>]], dtype=object)"
      ]
     },
     "execution_count": 159,
     "metadata": {},
     "output_type": "execute_result"
    },
    {
     "data": {
      "image/png": "[encoded data removed]",
      "text/plain": [
       "<Figure size 720x216 with 1 Axes>"
      ]
     },
     "metadata": {
      "needs_background": "light"
     },
     "output_type": "display_data"
    }
   ],
   "source": [
    "print(\"et distribution:\")\n",
    "et_predictions[et_predictions[\"Label\"]==1][[\"Score_1\"]].hist(bins=30, figsize=(10,3), range=[0,1])"
   ]
  },
  {
   "cell_type": "code",
   "execution_count": 160,
   "id": "f31f4d3a-133a-45d9-a665-d8ac6d384d05",
   "metadata": {},
   "outputs": [
    {
     "name": "stdout",
     "output_type": "stream",
     "text": [
      "lightgbm distribution:\n"
     ]
    },
    {
     "data": {
      "text/plain": [
       "array([[<AxesSubplot:title={'center':'Score_1'}>]], dtype=object)"
      ]
     },
     "execution_count": 160,
     "metadata": {},
     "output_type": "execute_result"
    },
    {
     "data": {
      "image/png": "[encoded data removed]",
      "text/plain": [
       "<Figure size 720x216 with 1 Axes>"
      ]
     },
     "metadata": {
      "needs_background": "light"
     },
     "output_type": "display_data"
    }
   ],
   "source": [
    "print(\"lightgbm distribution:\")\n",
    "lightgbm_predictions[lightgbm_predictions[\"Label\"]==1][[\"Score_1\"]].hist(bins=30, figsize=(10,3), range=[0,1])"
   ]
  },
  {
   "cell_type": "code",
   "execution_count": null,
   "id": "585e148f-741d-40e9-8a4a-ecc84ea3e123",
   "metadata": {},
   "outputs": [],
   "source": [
    "print(\"xgboost distribution:\")\n",
    "xgboost_predictions[xgboost_predictions[\"Label\"]==1][[\"Score_1\"]].hist(bins=30, figsize=(10,3), range=[0,1])"
   ]
  },
  {
   "cell_type": "code",
   "execution_count": null,
   "id": "6ee7faec-29ba-47b1-8eb2-3166d81a9b08",
   "metadata": {},
   "outputs": [],
   "source": []
  }
 ],
 "metadata": {
  "kernelspec": {
   "display_name": "Python 3 (ipykernel)",
   "language": "python",
   "name": "python3"
  },
  "language_info": {
   "codemirror_mode": {
    "name": "ipython",
    "version": 3
   },
   "file_extension": ".py",
   "mimetype": "text/x-python",
   "name": "python",
   "nbconvert_exporter": "python",
   "pygments_lexer": "ipython3",
   "version": "3.7.10"
  }
 },
 "nbformat": 4,
 "nbformat_minor": 5
}
