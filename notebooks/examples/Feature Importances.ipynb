{
 "cells": [
  {
   "cell_type": "markdown",
   "id": "9575d83e",
   "metadata": {},
   "source": [
    "# Flames - Feature Selection\n",
    "* StellarAlgo Data Science\n",
    "* Ryan Kazmerik & Nakisa Rad\n",
    "* October 8, 2021"
   ]
  },
  {
   "cell_type": "markdown",
   "id": "62d7c5a2",
   "metadata": {},
   "source": [
    "## Hypothesis\n",
    "Two very important components of a machine learning model are feature selection and feature engineering. Our idea is that adding some more features to the StellarAlgo retention model could improve performance of the model. This notebook will test the standard features used by the StellarAlgo retention model."
   ]
  },
  {
   "cell_type": "markdown",
   "id": "c46403a5",
   "metadata": {},
   "source": [
    "## Experiment\n",
    "This section details our experiment including querying data, data transformations, feature selection and modelling."
   ]
  },
  {
   "cell_type": "code",
   "execution_count": 14,
   "id": "df2be620",
   "metadata": {},
   "outputs": [],
   "source": [
    "import getpass\n",
    "import pyodbc\n",
    "import pandas as pd\n",
    "import warnings\n",
    "import matplotlib.pyplot as plt\n",
    "\n",
    "from pycaret.classification import *\n",
    "\n",
    "warnings.filterwarnings('ignore')"
   ]
  },
  {
   "cell_type": "markdown",
   "id": "5872346a",
   "metadata": {},
   "source": [
    "### Let's connect to MSSQL and run a stored proc to get our dataset:"
   ]
  },
  {
   "cell_type": "code",
   "execution_count": 15,
   "id": "c060d5cf",
   "metadata": {},
   "outputs": [
    {
     "name": "stdin",
     "output_type": "stream",
     "text": [
      "Enter your password ··················\n"
     ]
    }
   ],
   "source": [
    "# connect to SQL Server.\n",
    "SERVER = '34.206.73.189' \n",
    "DATABASE = 'datascience' \n",
    "USERNAME = 'dsAdminWrite' \n",
    "PASSWORD = getpass.getpass(prompt='Enter your password')\n",
    "CNXN = pyodbc.connect('DRIVER={ODBC Driver 17 for SQL Server};SERVER='+SERVER+';DATABASE='+DATABASE+';UID='+USERNAME+';PWD='+ PASSWORD)"
   ]
  },
  {
   "cell_type": "code",
   "execution_count": 17,
   "id": "b9615e8a",
   "metadata": {},
   "outputs": [
    {
     "data": {
      "text/plain": [
       "(17604, 54)"
      ]
     },
     "execution_count": 17,
     "metadata": {},
     "output_type": "execute_result"
    }
   ],
   "source": [
    "lkupclientid = 55 # coyotes\n",
    "\n",
    "cursor = CNXN.cursor()\n",
    "\n",
    "storedProc = (\n",
    "    f\"\"\"Exec [stlrCoyotes].[ds].[getRetentionScoringModelData] {lkupclientid}\"\"\"\n",
    ")\n",
    "\n",
    "df = pd.read_sql(storedProc, CNXN)\n",
    "\n",
    "CNXN.commit()\n",
    "cursor.close()\n",
    "\n",
    "df.shape"
   ]
  },
  {
   "cell_type": "markdown",
   "id": "11953aff-440c-4596-afc7-fa28cda1ce74",
   "metadata": {},
   "source": [
    "### In order to compare two sets of features, we need to create some datasets for training and evalution:"
   ]
  },
  {
   "cell_type": "code",
   "execution_count": 18,
   "id": "1c8bad91-cdc3-40a7-8915-93f3048bfa53",
   "metadata": {},
   "outputs": [
    {
     "name": "stdout",
     "output_type": "stream",
     "text": [
      "Data for Modeling: (11598, 10)\n",
      "Unseen Data For Predictions: (2047, 10)\n",
      "\n"
     ]
    }
   ],
   "source": [
    "# choose the features for the stellar base retention model\n",
    "features = [\n",
    "    \"dimCustomerMasterId\",\n",
    "    \"attendancePercent\",\n",
    "    \"distToVenue\",\n",
    "    \"totalSpent\",\n",
    "    \"recency\",\n",
    "    \"source_tenure\",\n",
    "    \"renewedBeforeDays\",\n",
    "    \"isNextYear_Buyer\",\n",
    "    \"productGrouping\",\n",
    "    \"year\"\n",
    "]\n",
    "\n",
    "# copy your main dataframe\n",
    "df_dataset = df\n",
    "\n",
    "# choose the features & train year & test year\n",
    "df_dataset = df_dataset[features]\n",
    "df_dataset[\"year\"] = pd.to_numeric(df_dataset[\"year\"])\n",
    "df_dataset = df_dataset.loc[df_dataset[\"year\"] <= 2019]\n",
    "\n",
    "df_train = df_dataset.sample(frac=0.85, random_state=786)\n",
    "df_eval = df_dataset.drop(df_train.index)\n",
    "\n",
    "df_train.reset_index(drop=True, inplace=True)\n",
    "df_eval.reset_index(drop=True, inplace=True)\n",
    "\n",
    "# print out the number of records for training and eval\n",
    "print('Data for Modeling: ' + str(df_train.shape))\n",
    "print('Unseen Data For Predictions: ' + str(df_eval.shape), end=\"\\n\\n\")"
   ]
  },
  {
   "cell_type": "markdown",
   "id": "9f34eb03-b49b-49e5-bce8-7caaa29c5dd7",
   "metadata": {},
   "source": [
    "### Now we can model the data using a binary classification prediction for the isnextyear_buyer field to see how likely a customer is to re-purchase."
   ]
  },
  {
   "cell_type": "code",
   "execution_count": 19,
   "id": "3eabb279-56dd-4dbf-b7da-77bd2aa7cafa",
   "metadata": {},
   "outputs": [],
   "source": [
    "setup(\n",
    "    data= df_train, \n",
    "    target=\"isNextYear_Buyer\", \n",
    "    train_size = 0.80,\n",
    "    data_split_shuffle=True,\n",
    "    ignore_features=[\"dimCustomerMasterId\",\"productGrouping\",\"year\"],\n",
    "    silent=True,\n",
    "    verbose=False,\n",
    "    numeric_features=[\n",
    "        \"attendancePercent\",\n",
    "        \"distToVenue\",\n",
    "        \"totalSpent\",\n",
    "        \"recency\",\n",
    "        \"source_tenure\",\n",
    "        \"renewedBeforeDays\"\n",
    "    ]\n",
    ");"
   ]
  },
  {
   "cell_type": "code",
   "execution_count": 20,
   "id": "05742a70-860c-477f-bea9-516a0a87c508",
   "metadata": {},
   "outputs": [
    {
     "data": {
      "text/html": [
       "<style  type=\"text/css\" >\n",
       "    #T_26217_ th {\n",
       "          text-align: left;\n",
       "    }#T_26217_row0_col0{\n",
       "            text-align:  left;\n",
       "            text-align:  left;\n",
       "        }#T_26217_row0_col1,#T_26217_row0_col2,#T_26217_row0_col3,#T_26217_row0_col4,#T_26217_row0_col5,#T_26217_row0_col6,#T_26217_row0_col7{\n",
       "            text-align:  left;\n",
       "            text-align:  left;\n",
       "            background-color:  yellow;\n",
       "        }#T_26217_row0_col8{\n",
       "            text-align:  left;\n",
       "            text-align:  left;\n",
       "            background-color:  yellow;\n",
       "            background-color:  lightgrey;\n",
       "        }</style><table id=\"T_26217_\" ><thead>    <tr>        <th class=\"blank level0\" ></th>        <th class=\"col_heading level0 col0\" >Model</th>        <th class=\"col_heading level0 col1\" >Accuracy</th>        <th class=\"col_heading level0 col2\" >AUC</th>        <th class=\"col_heading level0 col3\" >Recall</th>        <th class=\"col_heading level0 col4\" >Prec.</th>        <th class=\"col_heading level0 col5\" >F1</th>        <th class=\"col_heading level0 col6\" >Kappa</th>        <th class=\"col_heading level0 col7\" >MCC</th>        <th class=\"col_heading level0 col8\" >TT (Sec)</th>    </tr></thead><tbody>\n",
       "                <tr>\n",
       "                        <th id=\"T_26217_level0_row0\" class=\"row_heading level0 row0\" >xgboost</th>\n",
       "                        <td id=\"T_26217_row0_col0\" class=\"data row0 col0\" >Extreme Gradient Boosting</td>\n",
       "                        <td id=\"T_26217_row0_col1\" class=\"data row0 col1\" >0.7458</td>\n",
       "                        <td id=\"T_26217_row0_col2\" class=\"data row0 col2\" >0.7920</td>\n",
       "                        <td id=\"T_26217_row0_col3\" class=\"data row0 col3\" >0.5924</td>\n",
       "                        <td id=\"T_26217_row0_col4\" class=\"data row0 col4\" >0.7156</td>\n",
       "                        <td id=\"T_26217_row0_col5\" class=\"data row0 col5\" >0.6481</td>\n",
       "                        <td id=\"T_26217_row0_col6\" class=\"data row0 col6\" >0.4520</td>\n",
       "                        <td id=\"T_26217_row0_col7\" class=\"data row0 col7\" >0.4570</td>\n",
       "                        <td id=\"T_26217_row0_col8\" class=\"data row0 col8\" >0.6940</td>\n",
       "            </tr>\n",
       "    </tbody></table>"
      ],
      "text/plain": [
       "<pandas.io.formats.style.Styler at 0x7fb18a669f90>"
      ]
     },
     "metadata": {},
     "output_type": "display_data"
    }
   ],
   "source": [
    "model_matrix = compare_models(\n",
    "    fold=10,\n",
    "    include=[\"xgboost\"]\n",
    ")"
   ]
  },
  {
   "cell_type": "markdown",
   "id": "03df160e-ac51-4adb-a131-91201fdd8358",
   "metadata": {},
   "source": [
    "### The top model is performing well, so let's compare it against our unseen evaluation dataset:"
   ]
  },
  {
   "cell_type": "code",
   "execution_count": 21,
   "id": "9b4716b3-5a6b-4942-a32c-7ef3e9083509",
   "metadata": {},
   "outputs": [
    {
     "data": {
      "text/html": [
       "<style  type=\"text/css\" >\n",
       "#T_fbd09_row10_col0,#T_fbd09_row10_col1,#T_fbd09_row10_col2,#T_fbd09_row10_col3,#T_fbd09_row10_col4,#T_fbd09_row10_col5,#T_fbd09_row10_col6{\n",
       "            background:  yellow;\n",
       "        }</style><table id=\"T_fbd09_\" ><thead>    <tr>        <th class=\"blank level0\" ></th>        <th class=\"col_heading level0 col0\" >Accuracy</th>        <th class=\"col_heading level0 col1\" >AUC</th>        <th class=\"col_heading level0 col2\" >Recall</th>        <th class=\"col_heading level0 col3\" >Prec.</th>        <th class=\"col_heading level0 col4\" >F1</th>        <th class=\"col_heading level0 col5\" >Kappa</th>        <th class=\"col_heading level0 col6\" >MCC</th>    </tr></thead><tbody>\n",
       "                <tr>\n",
       "                        <th id=\"T_fbd09_level0_row0\" class=\"row_heading level0 row0\" >0</th>\n",
       "                        <td id=\"T_fbd09_row0_col0\" class=\"data row0 col0\" >0.7435</td>\n",
       "                        <td id=\"T_fbd09_row0_col1\" class=\"data row0 col1\" >0.8019</td>\n",
       "                        <td id=\"T_fbd09_row0_col2\" class=\"data row0 col2\" >0.5886</td>\n",
       "                        <td id=\"T_fbd09_row0_col3\" class=\"data row0 col3\" >0.7129</td>\n",
       "                        <td id=\"T_fbd09_row0_col4\" class=\"data row0 col4\" >0.6448</td>\n",
       "                        <td id=\"T_fbd09_row0_col5\" class=\"data row0 col5\" >0.4470</td>\n",
       "                        <td id=\"T_fbd09_row0_col6\" class=\"data row0 col6\" >0.4520</td>\n",
       "            </tr>\n",
       "            <tr>\n",
       "                        <th id=\"T_fbd09_level0_row1\" class=\"row_heading level0 row1\" >1</th>\n",
       "                        <td id=\"T_fbd09_row1_col0\" class=\"data row1 col0\" >0.7446</td>\n",
       "                        <td id=\"T_fbd09_row1_col1\" class=\"data row1 col1\" >0.7879</td>\n",
       "                        <td id=\"T_fbd09_row1_col2\" class=\"data row1 col2\" >0.5995</td>\n",
       "                        <td id=\"T_fbd09_row1_col3\" class=\"data row1 col3\" >0.7097</td>\n",
       "                        <td id=\"T_fbd09_row1_col4\" class=\"data row1 col4\" >0.6499</td>\n",
       "                        <td id=\"T_fbd09_row1_col5\" class=\"data row1 col5\" >0.4511</td>\n",
       "                        <td id=\"T_fbd09_row1_col6\" class=\"data row1 col6\" >0.4551</td>\n",
       "            </tr>\n",
       "            <tr>\n",
       "                        <th id=\"T_fbd09_level0_row2\" class=\"row_heading level0 row2\" >2</th>\n",
       "                        <td id=\"T_fbd09_row2_col0\" class=\"data row2 col0\" >0.7554</td>\n",
       "                        <td id=\"T_fbd09_row2_col1\" class=\"data row2 col1\" >0.7881</td>\n",
       "                        <td id=\"T_fbd09_row2_col2\" class=\"data row2 col2\" >0.6240</td>\n",
       "                        <td id=\"T_fbd09_row2_col3\" class=\"data row2 col3\" >0.7201</td>\n",
       "                        <td id=\"T_fbd09_row2_col4\" class=\"data row2 col4\" >0.6686</td>\n",
       "                        <td id=\"T_fbd09_row2_col5\" class=\"data row2 col5\" >0.4763</td>\n",
       "                        <td id=\"T_fbd09_row2_col6\" class=\"data row2 col6\" >0.4794</td>\n",
       "            </tr>\n",
       "            <tr>\n",
       "                        <th id=\"T_fbd09_level0_row3\" class=\"row_heading level0 row3\" >3</th>\n",
       "                        <td id=\"T_fbd09_row3_col0\" class=\"data row3 col0\" >0.7263</td>\n",
       "                        <td id=\"T_fbd09_row3_col1\" class=\"data row3 col1\" >0.7791</td>\n",
       "                        <td id=\"T_fbd09_row3_col2\" class=\"data row3 col2\" >0.5559</td>\n",
       "                        <td id=\"T_fbd09_row3_col3\" class=\"data row3 col3\" >0.6915</td>\n",
       "                        <td id=\"T_fbd09_row3_col4\" class=\"data row3 col4\" >0.6163</td>\n",
       "                        <td id=\"T_fbd09_row3_col5\" class=\"data row3 col5\" >0.4075</td>\n",
       "                        <td id=\"T_fbd09_row3_col6\" class=\"data row3 col6\" >0.4133</td>\n",
       "            </tr>\n",
       "            <tr>\n",
       "                        <th id=\"T_fbd09_level0_row4\" class=\"row_heading level0 row4\" >4</th>\n",
       "                        <td id=\"T_fbd09_row4_col0\" class=\"data row4 col0\" >0.7586</td>\n",
       "                        <td id=\"T_fbd09_row4_col1\" class=\"data row4 col1\" >0.8142</td>\n",
       "                        <td id=\"T_fbd09_row4_col2\" class=\"data row4 col2\" >0.6049</td>\n",
       "                        <td id=\"T_fbd09_row4_col3\" class=\"data row4 col3\" >0.7375</td>\n",
       "                        <td id=\"T_fbd09_row4_col4\" class=\"data row4 col4\" >0.6647</td>\n",
       "                        <td id=\"T_fbd09_row4_col5\" class=\"data row4 col5\" >0.4790</td>\n",
       "                        <td id=\"T_fbd09_row4_col6\" class=\"data row4 col6\" >0.4847</td>\n",
       "            </tr>\n",
       "            <tr>\n",
       "                        <th id=\"T_fbd09_level0_row5\" class=\"row_heading level0 row5\" >5</th>\n",
       "                        <td id=\"T_fbd09_row5_col0\" class=\"data row5 col0\" >0.7575</td>\n",
       "                        <td id=\"T_fbd09_row5_col1\" class=\"data row5 col1\" >0.8023</td>\n",
       "                        <td id=\"T_fbd09_row5_col2\" class=\"data row5 col2\" >0.6158</td>\n",
       "                        <td id=\"T_fbd09_row5_col3\" class=\"data row5 col3\" >0.7290</td>\n",
       "                        <td id=\"T_fbd09_row5_col4\" class=\"data row5 col4\" >0.6677</td>\n",
       "                        <td id=\"T_fbd09_row5_col5\" class=\"data row5 col5\" >0.4789</td>\n",
       "                        <td id=\"T_fbd09_row5_col6\" class=\"data row5 col6\" >0.4832</td>\n",
       "            </tr>\n",
       "            <tr>\n",
       "                        <th id=\"T_fbd09_level0_row6\" class=\"row_heading level0 row6\" >6</th>\n",
       "                        <td id=\"T_fbd09_row6_col0\" class=\"data row6 col0\" >0.7478</td>\n",
       "                        <td id=\"T_fbd09_row6_col1\" class=\"data row6 col1\" >0.7935</td>\n",
       "                        <td id=\"T_fbd09_row6_col2\" class=\"data row6 col2\" >0.5913</td>\n",
       "                        <td id=\"T_fbd09_row6_col3\" class=\"data row6 col3\" >0.7209</td>\n",
       "                        <td id=\"T_fbd09_row6_col4\" class=\"data row6 col4\" >0.6497</td>\n",
       "                        <td id=\"T_fbd09_row6_col5\" class=\"data row6 col5\" >0.4557</td>\n",
       "                        <td id=\"T_fbd09_row6_col6\" class=\"data row6 col6\" >0.4612</td>\n",
       "            </tr>\n",
       "            <tr>\n",
       "                        <th id=\"T_fbd09_level0_row7\" class=\"row_heading level0 row7\" >7</th>\n",
       "                        <td id=\"T_fbd09_row7_col0\" class=\"data row7 col0\" >0.7522</td>\n",
       "                        <td id=\"T_fbd09_row7_col1\" class=\"data row7 col1\" >0.8005</td>\n",
       "                        <td id=\"T_fbd09_row7_col2\" class=\"data row7 col2\" >0.6076</td>\n",
       "                        <td id=\"T_fbd09_row7_col3\" class=\"data row7 col3\" >0.7217</td>\n",
       "                        <td id=\"T_fbd09_row7_col4\" class=\"data row7 col4\" >0.6598</td>\n",
       "                        <td id=\"T_fbd09_row7_col5\" class=\"data row7 col5\" >0.4671</td>\n",
       "                        <td id=\"T_fbd09_row7_col6\" class=\"data row7 col6\" >0.4714</td>\n",
       "            </tr>\n",
       "            <tr>\n",
       "                        <th id=\"T_fbd09_level0_row8\" class=\"row_heading level0 row8\" >8</th>\n",
       "                        <td id=\"T_fbd09_row8_col0\" class=\"data row8 col0\" >0.7303</td>\n",
       "                        <td id=\"T_fbd09_row8_col1\" class=\"data row8 col1\" >0.7762</td>\n",
       "                        <td id=\"T_fbd09_row8_col2\" class=\"data row8 col2\" >0.5656</td>\n",
       "                        <td id=\"T_fbd09_row8_col3\" class=\"data row8 col3\" >0.6946</td>\n",
       "                        <td id=\"T_fbd09_row8_col4\" class=\"data row8 col4\" >0.6235</td>\n",
       "                        <td id=\"T_fbd09_row8_col5\" class=\"data row8 col5\" >0.4168</td>\n",
       "                        <td id=\"T_fbd09_row8_col6\" class=\"data row8 col6\" >0.4222</td>\n",
       "            </tr>\n",
       "            <tr>\n",
       "                        <th id=\"T_fbd09_level0_row9\" class=\"row_heading level0 row9\" >9</th>\n",
       "                        <td id=\"T_fbd09_row9_col0\" class=\"data row9 col0\" >0.7422</td>\n",
       "                        <td id=\"T_fbd09_row9_col1\" class=\"data row9 col1\" >0.7762</td>\n",
       "                        <td id=\"T_fbd09_row9_col2\" class=\"data row9 col2\" >0.5710</td>\n",
       "                        <td id=\"T_fbd09_row9_col3\" class=\"data row9 col3\" >0.7182</td>\n",
       "                        <td id=\"T_fbd09_row9_col4\" class=\"data row9 col4\" >0.6362</td>\n",
       "                        <td id=\"T_fbd09_row9_col5\" class=\"data row9 col5\" >0.4406</td>\n",
       "                        <td id=\"T_fbd09_row9_col6\" class=\"data row9 col6\" >0.4475</td>\n",
       "            </tr>\n",
       "            <tr>\n",
       "                        <th id=\"T_fbd09_level0_row10\" class=\"row_heading level0 row10\" >Mean</th>\n",
       "                        <td id=\"T_fbd09_row10_col0\" class=\"data row10 col0\" >0.7458</td>\n",
       "                        <td id=\"T_fbd09_row10_col1\" class=\"data row10 col1\" >0.7920</td>\n",
       "                        <td id=\"T_fbd09_row10_col2\" class=\"data row10 col2\" >0.5924</td>\n",
       "                        <td id=\"T_fbd09_row10_col3\" class=\"data row10 col3\" >0.7156</td>\n",
       "                        <td id=\"T_fbd09_row10_col4\" class=\"data row10 col4\" >0.6481</td>\n",
       "                        <td id=\"T_fbd09_row10_col5\" class=\"data row10 col5\" >0.4520</td>\n",
       "                        <td id=\"T_fbd09_row10_col6\" class=\"data row10 col6\" >0.4570</td>\n",
       "            </tr>\n",
       "            <tr>\n",
       "                        <th id=\"T_fbd09_level0_row11\" class=\"row_heading level0 row11\" >SD</th>\n",
       "                        <td id=\"T_fbd09_row11_col0\" class=\"data row11 col0\" >0.0104</td>\n",
       "                        <td id=\"T_fbd09_row11_col1\" class=\"data row11 col1\" >0.0121</td>\n",
       "                        <td id=\"T_fbd09_row11_col2\" class=\"data row11 col2\" >0.0212</td>\n",
       "                        <td id=\"T_fbd09_row11_col3\" class=\"data row11 col3\" >0.0135</td>\n",
       "                        <td id=\"T_fbd09_row11_col4\" class=\"data row11 col4\" >0.0173</td>\n",
       "                        <td id=\"T_fbd09_row11_col5\" class=\"data row11 col5\" >0.0238</td>\n",
       "                        <td id=\"T_fbd09_row11_col6\" class=\"data row11 col6\" >0.0233</td>\n",
       "            </tr>\n",
       "    </tbody></table>"
      ],
      "text/plain": [
       "<pandas.io.formats.style.Styler at 0x7fb18ac12f10>"
      ]
     },
     "metadata": {},
     "output_type": "display_data"
    }
   ],
   "source": [
    "best_model = create_model(model_matrix)\n",
    "final_model = finalize_model(best_model)"
   ]
  },
  {
   "cell_type": "markdown",
   "id": "ab2e9ab2-b26a-4fd0-a51d-37c199f4d70a",
   "metadata": {},
   "source": [
    "### Let's plot the features to see what attributes were the most important to an accurate prediction:"
   ]
  },
  {
   "cell_type": "code",
   "execution_count": 22,
   "id": "7e22aece-548d-49e8-a88c-c276cecd27f6",
   "metadata": {},
   "outputs": [
    {
     "data": {
      "image/png": "[encoded data removed]",
      "text/plain": [
       "<Figure size 800x500 with 1 Axes>"
      ]
     },
     "metadata": {},
     "output_type": "display_data"
    }
   ],
   "source": [
    "plot_model(final_model, plot='feature')"
   ]
  },
  {
   "cell_type": "code",
   "execution_count": null,
   "id": "909024fd-94e5-4df0-8e18-e81b7cf5d126",
   "metadata": {},
   "outputs": [],
   "source": []
  }
 ],
 "metadata": {
  "kernelspec": {
   "display_name": "Python 3 (ipykernel)",
   "language": "python",
   "name": "python3"
  },
  "language_info": {
   "codemirror_mode": {
    "name": "ipython",
    "version": 3
   },
   "file_extension": ".py",
   "mimetype": "text/x-python",
   "name": "python",
   "nbconvert_exporter": "python",
   "pygments_lexer": "ipython3",
   "version": "3.7.10"
  }
 },
 "nbformat": 4,
 "nbformat_minor": 5
}
