{
 "cells": [
  {
   "cell_type": "markdown",
   "id": "6ee08766-25fd-4da1-91b8-b0c3e74db588",
   "metadata": {},
   "source": [
    "# NHL Vegas Golden Knights - Retention Redshift Insert\n",
    "* StelllarAlgo Data Science\n",
    "* Ryan Kazmerik & Nakisa Rad\n",
    "* Mar 7, 2022"
   ]
  },
  {
   "cell_type": "code",
   "execution_count": 1,
   "id": "4c533efd-600e-4bce-8203-faffbddfa700",
   "metadata": {},
   "outputs": [],
   "source": [
    "import boto3\n",
    "import getpass\n",
    "import pyodbc\n",
    "import psycopg2\n",
    "import pandas as pd\n",
    "import matplotlib.pyplot as plt\n",
    "import awswrangler as wr\n",
    "\n",
    "from datetime import datetime\n",
    "from pytz import timezone\n",
    "from pycaret.classification import *"
   ]
  },
  {
   "cell_type": "markdown",
   "id": "b64ae7d5-84af-4915-bd13-1dd9d17098a3",
   "metadata": {},
   "source": [
    "### Let's connect to MSSQL and run a stored proc to get our dataset:"
   ]
  },
  {
   "cell_type": "code",
   "execution_count": 2,
   "id": "ae561eb4-f419-4d46-b5e0-12fac9b10db8",
   "metadata": {},
   "outputs": [
    {
     "name": "stdin",
     "output_type": "stream",
     "text": [
      "Enter your password ····················\n"
     ]
    }
   ],
   "source": [
    "# connect to SQL Server.\n",
    "SERVER = '52.44.171.130' \n",
    "DATABASE = 'datascience' \n",
    "USERNAME = 'dsAdminWrite' \n",
    "PASSWORD = getpass.getpass(prompt='Enter your password')\n",
    "CNXN = pyodbc.connect('DRIVER={ODBC Driver 17 for SQL Server};SERVER='+SERVER+';DATABASE='+DATABASE+';UID='+USERNAME+';PWD='+ PASSWORD)"
   ]
  },
  {
   "cell_type": "code",
   "execution_count": 3,
   "id": "af1afe7d-a35b-494b-88f3-980fb0e3da30",
   "metadata": {},
   "outputs": [
    {
     "data": {
      "text/plain": [
       "(38984, 54)"
      ]
     },
     "execution_count": 3,
     "metadata": {},
     "output_type": "execute_result"
    }
   ],
   "source": [
    "lkupclientid = 36 # flames\n",
    "cursor = CNXN.cursor()\n",
    "\n",
    "storedProc = (\n",
    "    f\"\"\"Exec [stlrFlames].[ds].[getRetentionScoringModelData] {lkupclientid}\"\"\"\n",
    ")\n",
    "\n",
    "df = pd.read_sql(storedProc, CNXN)\n",
    "\n",
    "# apply some data transformations\n",
    "df[\"year\"] = pd.to_numeric(df[\"year\"])\n",
    "\n",
    "CNXN.commit()\n",
    "cursor.close()\n",
    "\n",
    "df.info()"
   ]
  },
  {
   "cell_type": "markdown",
   "id": "ab40da92-72a7-49c1-9829-ed3805a39719",
   "metadata": {},
   "source": [
    "### We should specify the features used in our model:"
   ]
  },
  {
   "cell_type": "code",
   "execution_count": 4,
   "id": "788f1273-8b7a-46bd-a099-1a471feeacc5",
   "metadata": {},
   "outputs": [
    {
     "name": "stdout",
     "output_type": "stream",
     "text": [
      "Data for Modeling: (23643, 11)\n",
      "Unseen Data For Predictions: (4172, 11)\n",
      "\n"
     ]
    }
   ],
   "source": [
    "# choose the features for the stellar base retention model\n",
    "features = [\n",
    "    \"dimCustomerMasterId\",\n",
    "    \"attendancePercent\",\n",
    "    \"distToVenue\",\n",
    "    \"isNextYear_Buyer\",\n",
    "    \"lkupClientId\",\n",
    "    \"productGrouping\",\n",
    "    \"recency\",\n",
    "    \"recentDate\",\n",
    "    \"source_tenure\",\n",
    "    \"totalSpent\",\n",
    "    \"year\"\n",
    "]\n",
    "\n",
    "# copy your main dataframe\n",
    "df_dataset = df\n",
    "\n",
    "# choose the features & train year & test year\n",
    "df_dataset = df_dataset[features]\n",
    "df_dataset[\"year\"] = pd.to_numeric(df_dataset[\"year\"])\n",
    "df_dataset = df_dataset.loc[df_dataset[\"year\"] <= 2019]\n",
    "\n",
    "df_train = df_dataset.sample(frac=0.85, random_state=786)\n",
    "df_eval = df_dataset.drop(df_train.index)\n",
    "\n",
    "df_train.reset_index(drop=True, inplace=True)\n",
    "df_eval.reset_index(drop=True, inplace=True)\n",
    "\n",
    "# print out the number of records for training and eval\n",
    "print('Data for Modeling: ' + str(df_train.shape))\n",
    "print('Unseen Data For Predictions: ' + str(df_eval.shape), end=\"\\n\\n\")"
   ]
  },
  {
   "cell_type": "markdown",
   "id": "4f2da06d-9015-49fd-89b3-956c2ebf66e9",
   "metadata": {},
   "source": [
    "### Now we can model the data using a binary classification prediction for the isnextyear_buyer field to see how likely a customer is to re-purchase."
   ]
  },
  {
   "cell_type": "code",
   "execution_count": 5,
   "id": "23a69cdc-b3ec-48c8-9ce5-29f617779389",
   "metadata": {},
   "outputs": [],
   "source": [
    "setup(\n",
    "    data= df_train, \n",
    "    target=\"isNextYear_Buyer\", \n",
    "    train_size = 0.85,\n",
    "    data_split_shuffle=True,\n",
    "    ignore_features=[\n",
    "        \"dimCustomerMasterId\",\n",
    "        \"lkupClientId\",\n",
    "        \"productGrouping\",\n",
    "        \"recentDate\",\n",
    "        \"year\"\n",
    "    ],\n",
    "    silent=True,\n",
    "    verbose=False,\n",
    "    numeric_features=[\n",
    "        \"attendancePercent\",\n",
    "        \"distToVenue\",\n",
    "        \"recency\",\n",
    "        \"source_tenure\",\n",
    "        \"totalSpent\"\n",
    "    ]\n",
    ");"
   ]
  },
  {
   "cell_type": "markdown",
   "id": "6e1e33e8-ed5f-4e84-abb2-a2fc8370905c",
   "metadata": {},
   "source": [
    "### The evaluation output prints a score grid that shows average Accuracy, AUC, Recall, Precision, F1 and Kappa accross the folds (10 by default) along with training time:"
   ]
  },
  {
   "cell_type": "code",
   "execution_count": 7,
   "id": "ef2db9d2-02c2-45c0-b6bb-5cad42c373ce",
   "metadata": {},
   "outputs": [
    {
     "data": {
      "text/html": [
       "<style  type=\"text/css\" >\n",
       "    #T_3f2a7_ th {\n",
       "          text-align: left;\n",
       "    }#T_3f2a7_row0_col0{\n",
       "            text-align:  left;\n",
       "            text-align:  left;\n",
       "        }#T_3f2a7_row0_col1,#T_3f2a7_row0_col2,#T_3f2a7_row0_col3,#T_3f2a7_row0_col4,#T_3f2a7_row0_col5,#T_3f2a7_row0_col6,#T_3f2a7_row0_col7{\n",
       "            text-align:  left;\n",
       "            text-align:  left;\n",
       "            background-color:  yellow;\n",
       "        }#T_3f2a7_row0_col8{\n",
       "            text-align:  left;\n",
       "            text-align:  left;\n",
       "            background-color:  yellow;\n",
       "            background-color:  lightgrey;\n",
       "        }</style><table id=\"T_3f2a7_\" ><thead>    <tr>        <th class=\"blank level0\" ></th>        <th class=\"col_heading level0 col0\" >Model</th>        <th class=\"col_heading level0 col1\" >Accuracy</th>        <th class=\"col_heading level0 col2\" >AUC</th>        <th class=\"col_heading level0 col3\" >Recall</th>        <th class=\"col_heading level0 col4\" >Prec.</th>        <th class=\"col_heading level0 col5\" >F1</th>        <th class=\"col_heading level0 col6\" >Kappa</th>        <th class=\"col_heading level0 col7\" >MCC</th>        <th class=\"col_heading level0 col8\" >TT (Sec)</th>    </tr></thead><tbody>\n",
       "                <tr>\n",
       "                        <th id=\"T_3f2a7_level0_row0\" class=\"row_heading level0 row0\" >xgboost</th>\n",
       "                        <td id=\"T_3f2a7_row0_col0\" class=\"data row0 col0\" >Extreme Gradient Boosting</td>\n",
       "                        <td id=\"T_3f2a7_row0_col1\" class=\"data row0 col1\" >0.8740</td>\n",
       "                        <td id=\"T_3f2a7_row0_col2\" class=\"data row0 col2\" >0.9198</td>\n",
       "                        <td id=\"T_3f2a7_row0_col3\" class=\"data row0 col3\" >0.8961</td>\n",
       "                        <td id=\"T_3f2a7_row0_col4\" class=\"data row0 col4\" >0.9215</td>\n",
       "                        <td id=\"T_3f2a7_row0_col5\" class=\"data row0 col5\" >0.9086</td>\n",
       "                        <td id=\"T_3f2a7_row0_col6\" class=\"data row0 col6\" >0.7059</td>\n",
       "                        <td id=\"T_3f2a7_row0_col7\" class=\"data row0 col7\" >0.7067</td>\n",
       "                        <td id=\"T_3f2a7_row0_col8\" class=\"data row0 col8\" >0.3740</td>\n",
       "            </tr>\n",
       "    </tbody></table>"
      ],
      "text/plain": [
       "<pandas.io.formats.style.Styler at 0x7fe128380bd0>"
      ]
     },
     "metadata": {},
     "output_type": "display_data"
    }
   ],
   "source": [
    "model_matrix = compare_models(\n",
    "    fold= 10,\n",
    "    include= [\"xgboost\"],\n",
    "    probability_threshold= 0.75\n",
    ")\n",
    "\n",
    "final_model = finalize_model(model_matrix)"
   ]
  },
  {
   "cell_type": "markdown",
   "id": "3aab9021-4462-423a-8e3c-fbe1f36c6110",
   "metadata": {},
   "source": [
    "### Let's load in our 2021 season data and get retention scores using the model:"
   ]
  },
  {
   "cell_type": "code",
   "execution_count": 8,
   "id": "c249a813-c882-4869-9490-6ab766a8c223",
   "metadata": {},
   "outputs": [
    {
     "data": {
      "text/plain": [
       "(5369, 11)"
      ]
     },
     "execution_count": 8,
     "metadata": {},
     "output_type": "execute_result"
    }
   ],
   "source": [
    "df_inference = df.loc[df[\"year\"] >= 2021]\n",
    "df_inference = df_inference.fillna(0)\n",
    "df_inference = df_inference[features]\n",
    "\n",
    "df_inference.shape"
   ]
  },
  {
   "cell_type": "code",
   "execution_count": 9,
   "id": "658464e2-ba98-4875-a7f2-c8f0ba581d89",
   "metadata": {},
   "outputs": [],
   "source": [
    "df_predictions = (predict_model(final_model, data=df_inference, raw_score=True))\n",
    "df_predictions = df_predictions[df_predictions[\"Score_1\"] >= 0.025]"
   ]
  },
  {
   "cell_type": "markdown",
   "id": "12e0b1a1-f440-43f9-ab6a-374134eb4684",
   "metadata": {},
   "source": [
    "### We can create some histograms to visualize each model distribution:"
   ]
  },
  {
   "cell_type": "code",
   "execution_count": 87,
   "id": "d815f4f6-4f04-47b0-972b-a708ecf8a772",
   "metadata": {},
   "outputs": [
    {
     "data": {
      "image/png": "[encoded data removed]",
      "text/plain": [
       "<Figure size 576x396 with 1 Axes>"
      ]
     },
     "metadata": {},
     "output_type": "display_data"
    }
   ],
   "source": [
    "plt.title(\"Retention Scores\")\n",
    "plt.ylabel(\"Num Fans\")\n",
    "plt.xlabel(\"SA Buyer Score\")\n",
    "plt.hist(df_predictions[\"Score_1\"], bins=20, edgecolor=\"black\", range=(0,1))\n",
    "                            \n",
    "plt.show()"
   ]
  },
  {
   "cell_type": "markdown",
   "id": "c5d007b0-fe2b-401a-9445-383f1626a0df",
   "metadata": {},
   "source": [
    "### We can also see how many purchases there are in each range of scores:"
   ]
  },
  {
   "cell_type": "code",
   "execution_count": 92,
   "id": "6ee7faec-29ba-47b1-8eb2-3166d81a9b08",
   "metadata": {},
   "outputs": [
    {
     "data": {
      "text/plain": [
       "(0.95, 1.0]         8\n",
       "(0.9, 0.95]        45\n",
       "(0.85, 0.9]       160\n",
       "(0.8, 0.85]       326\n",
       "(0.75, 0.8]       277\n",
       "(0.7, 0.75]       235\n",
       "(0.65, 0.7]       278\n",
       "(0.6, 0.65]       363\n",
       "(0.55, 0.6]       376\n",
       "(0.5, 0.55]       306\n",
       "(0.45, 0.5]       277\n",
       "(0.4, 0.45]       273\n",
       "(0.35, 0.4]       279\n",
       "(0.3, 0.35]       249\n",
       "(0.25, 0.3]       241\n",
       "(0.2, 0.25]       246\n",
       "(0.15, 0.2]       217\n",
       "(0.1, 0.15]       186\n",
       "(0.05, 0.1]       111\n",
       "(-0.001, 0.05]     50\n",
       "Name: Score_1, dtype: int64"
      ]
     },
     "execution_count": 92,
     "metadata": {},
     "output_type": "execute_result"
    }
   ],
   "source": [
    "df_predictions[\"Score_1\"].value_counts(bins=np.arange(0, 1.05, 0.05)).sort_index(ascending=False)"
   ]
  },
  {
   "cell_type": "markdown",
   "id": "6d6c614f-288b-4a88-97dc-7ffc1d1c7ec9",
   "metadata": {},
   "source": [
    "### First we have to tell AWS which profile we'd like to login to, this will send us for a browser authentication trip:"
   ]
  },
  {
   "cell_type": "code",
   "execution_count": 89,
   "id": "79dd57e8-d578-4755-89fb-446362735a05",
   "metadata": {},
   "outputs": [
    {
     "name": "stdout",
     "output_type": "stream",
     "text": [
      "Attempting to automatically open the SSO authorization page in your default browser.\n",
      "If the browser does not open or you wish to use a different device to authorize this request, open the following URL:\n",
      "\n",
      "https://device.sso.us-east-1.amazonaws.com/\n",
      "\n",
      "Then enter the code:\n",
      "\n",
      "GWWF-JLTR\n",
      "Successully logged into Start URL: https://stellaralgo.awsapps.com/start\n"
     ]
    }
   ],
   "source": [
    "! aws sso login --profile Stellaralgo-DataScienceAdmin"
   ]
  },
  {
   "cell_type": "markdown",
   "id": "e544dd2f-d867-4a37-a620-d5df62648b9b",
   "metadata": {},
   "source": [
    "### Now we can create a session and client to RedShift, and create a new connection using Psycopg2:"
   ]
  },
  {
   "cell_type": "code",
   "execution_count": 94,
   "id": "795c9342-b928-4e8d-aef9-36f2b1cf667c",
   "metadata": {},
   "outputs": [
    {
     "name": "stdout",
     "output_type": "stream",
     "text": [
      "CLUSTER CREDENTIALS RETRIEVED\n"
     ]
    }
   ],
   "source": [
    "try:\n",
    "    session = boto3.session.Session(profile_name='Stellaralgo-DataScienceAdmin')\n",
    "    client = session.client('redshift')\n",
    "\n",
    "    cluster_creds = client.get_cluster_credentials(                \n",
    "        DbUser='StellarDataScienceAdmin',\n",
    "        DbName='stlrflames',\n",
    "        DbGroups=['admin_group'],\n",
    "        ClusterIdentifier='qa-app',\n",
    "        AutoCreate=True\n",
    "    )\n",
    "    print(\"CLUSTER CREDENTIALS RETRIEVED\")\n",
    "\n",
    "except Exception as err:\n",
    "    print('FAILED TO RETRIEVE CLUSTER CREDS!', err)"
   ]
  },
  {
   "cell_type": "markdown",
   "id": "73505aed-8784-4cbc-b60d-6a53aba6b00f",
   "metadata": {},
   "source": [
    "### Insert the new scores into the customerRetentionScores table:"
   ]
  },
  {
   "cell_type": "code",
   "execution_count": 110,
   "id": "0fb58a5d-1ae8-42f3-a425-b73ca0952115",
   "metadata": {},
   "outputs": [
    {
     "name": "stdout",
     "output_type": "stream",
     "text": [
      "CREATED CONNECTION TO DATABASE\n",
      "4503 RECORDS INSERTED SUCCESSFULLY\n",
      "REDSHIFT CONNECTION HAS BEEN CLOSED\n"
     ]
    }
   ],
   "source": [
    "try:\n",
    "\n",
    "    conn = psycopg2.connect(\n",
    "        host='qa-app.ctjussvyafp4.us-east-1.redshift.amazonaws.com',\n",
    "        port=5439,\n",
    "        user=cluster_creds['DbUser'],\n",
    "        password=cluster_creds['DbPassword'],\n",
    "        database='stlrflames'\n",
    "    )\n",
    "    print('CREATED CONNECTION TO DATABASE')\n",
    "    \n",
    "    cursor = conn.cursor()\n",
    "    \n",
    "    fields = f\"\"\"\n",
    "    INSERT INTO dw.customerretentionscores (\n",
    "        attendancePercentage,\n",
    "        currversnflag,\n",
    "        dimcustomermasterid,\n",
    "        insertdate,\n",
    "        lkupclientid,\n",
    "        mostrecentattendance,\n",
    "        product,\n",
    "        sascore,\n",
    "        seasonYear,\n",
    "        tenuredays\n",
    "    ) VALUES \"\"\"\n",
    "\n",
    "    # Insert Dataframe into SQL Server:\n",
    "    values_list = []\n",
    "    for i, (index, row) in enumerate(df_predictions.iterrows()):\n",
    "        \n",
    "        values = f\"\"\"\n",
    "            (\n",
    "                {str(row.attendancePercent)},\n",
    "                {str(0)},\n",
    "                {str(row.dimCustomerMasterId)},\n",
    "                '{str(datetime.now().strftime(\"%Y-%m-%d %H:%M:%S\"))}',\n",
    "                {str(lkupclientid)},\n",
    "                '{str(row.recentDate)}',\n",
    "                '{str(row.productGrouping)}',\n",
    "                {str(round(row.Score_1,4))},\n",
    "                {str(row.year)},\n",
    "                {str(row.source_tenure)}\n",
    "            )\"\"\"\n",
    "                        \n",
    "        values_list.append(values)\n",
    "    \n",
    "    insert_statement = fields + \",\".join(values_list)+\";\"\n",
    "    \n",
    "    cursor.execute(insert_statement)\n",
    "    conn.commit()\n",
    "    \n",
    "    count = cursor.rowcount\n",
    "    print(count, \"RECORDS INSERTED SUCCESSFULLY\")\n",
    "        \n",
    "except Exception as err:\n",
    "    cursor.execute(\"rollback\")\n",
    "    print(\"ERROR WHILE INSERTING RETENTION SCORES TO DATABASE:\", err)\n",
    "\n",
    "finally:\n",
    "    if conn:\n",
    "        cursor.close()\n",
    "        conn.close()\n",
    "        print(\"REDSHIFT CONNECTION HAS BEEN CLOSED\")"
   ]
  },
  {
   "cell_type": "markdown",
   "id": "2e3383ab-7855-46fb-b563-ecd3367cbcb5",
   "metadata": {},
   "source": [
    "### Let's query RedShift to make sure our records got into the database:"
   ]
  },
  {
   "cell_type": "code",
   "execution_count": 111,
   "id": "20ac33c3-3f9e-4a09-91c8-08dfbfdcd09f",
   "metadata": {},
   "outputs": [
    {
     "name": "stdout",
     "output_type": "stream",
     "text": [
      "CREATED CONNECTION TO DATABASE\n",
      "[(4523,)]\n",
      "REDSHIFT CONNECTION HAS BEEN CLOSED\n"
     ]
    }
   ],
   "source": [
    "try:\n",
    "    conn = psycopg2.connect(\n",
    "        host='qa-app.ctjussvyafp4.us-east-1.redshift.amazonaws.com',\n",
    "        port=5439,\n",
    "        user=cluster_creds['DbUser'],\n",
    "        password=cluster_creds['DbPassword'],\n",
    "        database='stlrflames'\n",
    "    )\n",
    "    print('CREATED CONNECTION TO DATABASE')\n",
    "    \n",
    "    cursor = conn.cursor()\n",
    "    \n",
    "    cursor.execute(\"SELECT COUNT(*) FROM dw.customerretentionscores LIMIT 10;\")\n",
    "    records = cursor.fetchall()\n",
    "    print(records)\n",
    "\n",
    "except Exception as err:\n",
    "    cursor.execute(\"rollback\")\n",
    "    print(\"ERROR SELECTING RETENTION SCORES FROM DATABASE:\", err)\n",
    "    \n",
    "finally:\n",
    "    if conn:\n",
    "        cursor.close()\n",
    "        conn.close()\n",
    "        print(\"REDSHIFT CONNECTION HAS BEEN CLOSED\")"
   ]
  },
  {
   "cell_type": "markdown",
   "id": "781f97cf-be36-4d64-a0e8-2b39cedec439",
   "metadata": {},
   "source": [
    "### Delete records from DB (for testing):"
   ]
  },
  {
   "cell_type": "code",
   "execution_count": 103,
   "id": "671fcea7-d713-49b1-b335-7d833860106a",
   "metadata": {},
   "outputs": [
    {
     "name": "stdout",
     "output_type": "stream",
     "text": [
      "CREATED CONNECTION TO DATABASE\n",
      "29063 RECORDS DELETED SUCCESSFULLY\n",
      "REDSHIFT CONNECTION HAS BEEN CLOSED\n"
     ]
    }
   ],
   "source": [
    "try:\n",
    "    conn = psycopg2.connect(\n",
    "        host='qa-app.ctjussvyafp4.us-east-1.redshift.amazonaws.com',\n",
    "        port=5439,\n",
    "        user=cluster_creds['DbUser'],\n",
    "        password=cluster_creds['DbPassword'],\n",
    "        database='stlrflames'\n",
    "    )\n",
    "    print('CREATED CONNECTION TO DATABASE')\n",
    "    \n",
    "    cursor = conn.cursor()\n",
    "    \n",
    "    delete_query = \"\"\"DELETE FROM dw.customerretentionscores where currversnflag = false\"\"\"\n",
    "    \n",
    "    cursor.execute(delete_query)\n",
    "    conn.commit()\n",
    "\n",
    "    count = cursor.rowcount\n",
    "    print(count, \"RECORDS DELETED SUCCESSFULLY\")\n",
    "    \n",
    "except Exception as err:\n",
    "    cursor.execute(\"rollback\")\n",
    "    print(\"ERROR DELETING RETENTION SCORES TO DATABASE:\", err)\n",
    "\n",
    "finally:\n",
    "    if conn:\n",
    "        cursor.close()\n",
    "        conn.close()\n",
    "        print(\"REDSHIFT CONNECTION HAS BEEN CLOSED\")"
   ]
  }
 ],
 "metadata": {
  "kernelspec": {
   "display_name": "Python 3 (ipykernel)",
   "language": "python",
   "name": "python3"
  },
  "language_info": {
   "codemirror_mode": {
    "name": "ipython",
    "version": 3
   },
   "file_extension": ".py",
   "mimetype": "text/x-python",
   "name": "python",
   "nbconvert_exporter": "python",
   "pygments_lexer": "ipython3",
   "version": "3.7.10"
  }
 },
 "nbformat": 4,
 "nbformat_minor": 5
}
