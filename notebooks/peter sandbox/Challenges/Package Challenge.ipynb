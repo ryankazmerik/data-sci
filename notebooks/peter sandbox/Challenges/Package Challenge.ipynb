{
 "cells": [
  {
   "cell_type": "markdown",
   "metadata": {},
   "source": [
    "# Setup Helper Package & Finish the function outlines\n",
    "This notebook is to test the helper package (shared_utilities)\n",
    "\n",
    "To install it, in the terminal in the root dir for the data-sci package, type `pip install -e ./` then it should work by writing `from shared_utilities import helpers` and calling it like `helpers.hello_world()`.\n",
    "\n",
    "This installs with `-e` so it will be in editable mode, meaning if you make a change in the helper file it will run the latest changes when you call it in code without pip installing/building again. "
   ]
  },
  {
   "cell_type": "markdown",
   "metadata": {},
   "source": [
    "## How to Import and Use the Package\n",
    "\n",
    "There are two methods to importing this.\n",
    "\n",
    "1. You can import it as `from shared_utilities.shared_utilities import helpers`\n",
    "   * Cons:\n",
    "     * If you update the shared_utilities code it will not get the updated code. \n",
    "     * To get the updated code you must press `Restart` in your nodebook then run all of your cells again - losing all existing outputs and in-memory data.\n",
    "   * Pros:\n",
    "     * Easy to write and remember\n",
    "2. You can import it as you did in step 1, but add `reload(helpers)` after, this will bring in the new changes in the package\n",
    "   1. Cons:\n",
    "      * More to remember\n",
    "      * Have to also import `from importlib import reload`\n",
    "    2. Pros:\n",
    "       * Brings in the package changes without losing all cell outputs and in-memory data of a notebook"
   ]
  },
  {
   "cell_type": "code",
   "execution_count": 1,
   "metadata": {},
   "outputs": [],
   "source": [
    "from shared_utilities import helpers"
   ]
  },
  {
   "cell_type": "code",
   "execution_count": null,
   "metadata": {},
   "outputs": [],
   "source": [
    "print(helpers.hello_world())"
   ]
  },
  {
   "cell_type": "code",
   "execution_count": 3,
   "metadata": {},
   "outputs": [
    {
     "data": {
      "text/plain": [
       "<module 'shared_utilities.helpers' from '/Users/petermorrison/Documents/repos/data-sci/shared_utilities/shared_utilities/helpers.py'>"
      ]
     },
     "execution_count": 3,
     "metadata": {},
     "output_type": "execute_result"
    }
   ],
   "source": [
    "from importlib import reload\n",
    "from shared_utilities import helpers\n",
    "\n",
    "reload(helpers)"
   ]
  },
  {
   "cell_type": "code",
   "execution_count": null,
   "metadata": {},
   "outputs": [],
   "source": [
    "print(helpers.hello_world())"
   ]
  },
  {
   "cell_type": "markdown",
   "metadata": {},
   "source": [
    "# Extra Examples to use the shared_utilities package"
   ]
  },
  {
   "cell_type": "code",
   "execution_count": null,
   "metadata": {},
   "outputs": [],
   "source": [
    "import boto3\n",
    "import pandas as pd"
   ]
  },
  {
   "cell_type": "code",
   "execution_count": null,
   "metadata": {},
   "outputs": [],
   "source": [
    "! aws sso login --profile Stellaralgo-DataScienceAdmin"
   ]
  },
  {
   "cell_type": "code",
   "execution_count": null,
   "metadata": {},
   "outputs": [],
   "source": [
    "session = boto3.setup_default_session(profile_name='Stellaralgo-DataScienceAdmin')\n",
    "client = boto3.client('redshift')"
   ]
  },
  {
   "cell_type": "markdown",
   "metadata": {},
   "source": [
    "This cell runs w/ psycopg2 (and times out)"
   ]
  },
  {
   "cell_type": "code",
   "execution_count": null,
   "metadata": {},
   "outputs": [],
   "source": [
    "cluster = 'qa-app'\n",
    "dbname = 'stlrlagalaxy'\n",
    "schema = 'ds'\n",
    "print(helpers.get_product_propensity_model_dataset(cluster_id=cluster, database=dbname, lkupclientid=6, start_year=2010, end_year=2021, temp_cursor_name='temp_cursor'))\n"
   ]
  },
  {
   "cell_type": "code",
   "execution_count": null,
   "metadata": {},
   "outputs": [],
   "source": [
    "cluster = 'qa-app'\n",
    "dbname = 'stlrlagalaxy'\n",
    "schema = 'ds'\n",
    "print(helpers.get_retention_model_dataset(cluster_id=cluster, database=dbname, lkupclientid=6, start_year=2010, end_year=2021, temp_cursor_name='temp_cursor'))\n"
   ]
  },
  {
   "cell_type": "code",
   "execution_count": null,
   "metadata": {},
   "outputs": [],
   "source": []
  }
 ],
 "metadata": {
  "kernelspec": {
   "display_name": "Python 3.9.12 ('package')",
   "language": "python",
   "name": "python3"
  },
  "language_info": {
   "codemirror_mode": {
    "name": "ipython",
    "version": 3
   },
   "file_extension": ".py",
   "mimetype": "text/x-python",
   "name": "python",
   "nbconvert_exporter": "python",
   "pygments_lexer": "ipython3",
   "version": "3.9.12"
  },
  "orig_nbformat": 4,
  "vscode": {
   "interpreter": {
    "hash": "17c5bad894e8ea00b3938fb2ea85177c9b0c92677fd88ffbd4850bbfc176f649"
   }
  }
 },
 "nbformat": 4,
 "nbformat_minor": 2
}
