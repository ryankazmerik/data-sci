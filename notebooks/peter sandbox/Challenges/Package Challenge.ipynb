{
 "cells": [
  {
   "cell_type": "markdown",
   "metadata": {},
   "source": [
    "# Setup Helper Package & Finish the function outlines\n",
    "This notebook is to test the helper package (shared_utilities)\n",
    "\n",
    "To install it, in the terminal in the root dir for the data-sci package, type `pip install -e ./` then it should work by writing `from shared_utilities import helpers` and calling it like `helpers.hello_world()`.\n",
    "\n",
    "This installs with `-e` so it will be in editable mode, meaning if you make a change in the helper file it will run the latest changes when you call it in code without pip installing/building again. \n",
    "\n",
    ">Note that for this to work with __notebooks__ you must __restart__ the notebook after each change in the helper code :(\n",
    "\n",
    "Alternatively, instead of using `pip install -e ./` we could just import like this: `from shared_utilities.shared_utilities.helpers import hello_world`. This lets us import from the relative path as long as the code starts from the shared root directory. However, this starts to run into problems if we run from a further up directory (for example if I run vscode from the `repos` folder or `documents` folder, i'd need to cd to the `data-sci` folder.)"
   ]
  },
  {
   "cell_type": "code",
   "execution_count": null,
   "metadata": {},
   "outputs": [],
   "source": [
    "# Relative path import\n",
    "\n",
    "from shared_utilities.shared_utilities import helpers"
   ]
  },
  {
   "cell_type": "code",
   "execution_count": null,
   "metadata": {},
   "outputs": [],
   "source": [
    "print(helpers.hello_world())"
   ]
  },
  {
   "cell_type": "code",
   "execution_count": null,
   "metadata": {},
   "outputs": [],
   "source": [
    "import boto3\n",
    "import pandas as pd\n",
    "\n",
    "# Pip install import\n",
    "from shared_utilities import helpers"
   ]
  },
  {
   "cell_type": "code",
   "execution_count": null,
   "metadata": {},
   "outputs": [],
   "source": [
    "! aws sso login --profile Stellaralgo-DataScienceAdmin"
   ]
  },
  {
   "cell_type": "code",
   "execution_count": null,
   "metadata": {},
   "outputs": [],
   "source": [
    "session = boto3.setup_default_session(profile_name='Stellaralgo-DataScienceAdmin')\n",
    "client = boto3.client('redshift')"
   ]
  },
  {
   "cell_type": "markdown",
   "metadata": {},
   "source": [
    "This cell runs w/ psycopg2 (and times out)"
   ]
  },
  {
   "cell_type": "code",
   "execution_count": null,
   "metadata": {},
   "outputs": [],
   "source": [
    "cluster = 'qa-app'\n",
    "dbname = 'stlrlagalaxy'\n",
    "schema = 'ds'\n",
    "print(helpers.get_product_propensity_model_dataset(cluster_id=cluster, database=dbname, lkupclientid=6, start_year=2010, end_year=2021, temp_cursor_name='temp_cursor'))\n"
   ]
  },
  {
   "cell_type": "code",
   "execution_count": null,
   "metadata": {},
   "outputs": [],
   "source": [
    "cluster = 'qa-app'\n",
    "dbname = 'stlrlagalaxy'\n",
    "schema = 'ds'\n",
    "print(helpers.get_retention_model_dataset(cluster_id=cluster, database=dbname, lkupclientid=6, start_year=2010, end_year=2021, temp_cursor_name='temp_cursor'))\n"
   ]
  },
  {
   "cell_type": "code",
   "execution_count": null,
   "metadata": {},
   "outputs": [],
   "source": []
  }
 ],
 "metadata": {
  "interpreter": {
   "hash": "31f2aee4e71d21fbe5cf8b01ff0e069b9275f58929596ceb00d14d90e3e16cd6"
  },
  "kernelspec": {
   "display_name": "Python 3.8.9 64-bit",
   "language": "python",
   "name": "python3"
  },
  "language_info": {
   "codemirror_mode": {
    "name": "ipython",
    "version": 3
   },
   "file_extension": ".py",
   "mimetype": "text/x-python",
   "name": "python",
   "nbconvert_exporter": "python",
   "pygments_lexer": "ipython3",
   "version": "3.8.10"
  },
  "orig_nbformat": 4
 },
 "nbformat": 4,
 "nbformat_minor": 2
}
