{
 "cells": [
  {
   "cell_type": "markdown",
   "metadata": {},
   "source": [
    "# wr.redshift.connect_temp\n",
    "\n",
    "This notebook attempts to make a connection to redshift with the `wr.redshift.connect_temp` method.\n",
    "\n",
    "https://aws-data-wrangler.readthedocs.io/en/2.15.1/stubs/awswrangler.redshift.connect_temp.html#awswrangler.redshift.connect_temp\n",
    "\n",
    "Example from above:\n",
    "\n",
    "\n",
    "```python\n",
    "import awswrangler as wr\n",
    "con = wr.redshift.connect_temp(cluster_identifier=\"my-cluster\", user=\"test\")\n",
    "with con.cursor() as cursor:\n",
    "    cursor.execute(\"SELECT 1\")\n",
    "    print(cursor.fetchall())\n",
    "con.close()\n",
    "```"
   ]
  },
  {
   "cell_type": "code",
   "execution_count": 12,
   "metadata": {},
   "outputs": [],
   "source": [
    "import awswrangler as wr\n",
    "import boto3"
   ]
  },
  {
   "cell_type": "code",
   "execution_count": 10,
   "metadata": {},
   "outputs": [
    {
     "name": "stdout",
     "output_type": "stream",
     "text": [
      "Attempting to automatically open the SSO authorization page in your default browser.\n",
      "If the browser does not open or you wish to use a different device to authorize this request, open the following URL:\n",
      "\n",
      "https://device.sso.us-east-1.amazonaws.com/\n",
      "\n",
      "Then enter the code:\n",
      "\n",
      "VPDL-LMCT\n",
      "Successfully logged into Start URL: https://stellaralgo.awsapps.com/start#/\n"
     ]
    }
   ],
   "source": [
    "! aws sso login --profile Stellaralgo-DataScienceAdmin"
   ]
  },
  {
   "cell_type": "code",
   "execution_count": 14,
   "metadata": {},
   "outputs": [
    {
     "name": "stdout",
     "output_type": "stream",
     "text": [
      "([1],)\n"
     ]
    }
   ],
   "source": [
    "session = boto3.session.Session(profile_name=\"Stellaralgo-DataScienceAdmin\", region_name=\"us-east-1\")\n",
    "client = session.client(\"redshift\", region_name=\"us-east-1\")\n",
    "\n",
    "cluster_id = \"qa-app\"\n",
    "database = \"stlrlagalaxy\"\n",
    "schema = \"ds\"\n",
    "cluster_endpoint = \"qa-app.ctjussvyafp4.us-east-1.redshift.amazonaws.com\"\n",
    "db_user = \"admin\"\n",
    "\n",
    "cnxn = wr.redshift.connect_temp(\n",
    "        boto3_session=session,\n",
    "        cluster_identifier=cluster_id,\n",
    "        database=database,\n",
    "        user=db_user\n",
    "    )\n",
    "\n",
    "with cnxn.cursor() as cursor:\n",
    "    cursor.execute(\"SELECT 1\")\n",
    "    print(cursor.fetchall())\n",
    "cnxn.close()"
   ]
  },
  {
   "cell_type": "code",
   "execution_count": null,
   "metadata": {},
   "outputs": [],
   "source": []
  }
 ],
 "metadata": {
  "interpreter": {
   "hash": "17c5bad894e8ea00b3938fb2ea85177c9b0c92677fd88ffbd4850bbfc176f649"
  },
  "kernelspec": {
   "display_name": "Python 3.9.12 ('package')",
   "language": "python",
   "name": "python3"
  },
  "language_info": {
   "codemirror_mode": {
    "name": "ipython",
    "version": 3
   },
   "file_extension": ".py",
   "mimetype": "text/x-python",
   "name": "python",
   "nbconvert_exporter": "python",
   "pygments_lexer": "ipython3",
   "version": "3.9.12"
  },
  "orig_nbformat": 4
 },
 "nbformat": 4,
 "nbformat_minor": 2
}
