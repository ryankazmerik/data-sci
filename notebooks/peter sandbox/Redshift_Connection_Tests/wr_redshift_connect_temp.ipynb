{
 "cells": [
  {
   "cell_type": "markdown",
   "metadata": {},
   "source": [
    "# wr.redshift.connect_temp\n",
    "\n",
    "This notebook attempts to make a connection to redshift with the `wr.redshift.connect_temp` method.\n",
    "\n",
    "https://aws-data-wrangler.readthedocs.io/en/2.15.1/stubs/awswrangler.redshift.connect_temp.html#awswrangler.redshift.connect_temp\n",
    "\n",
    "Example from above:\n",
    "\n",
    "\n",
    "```python\n",
    "import awswrangler as wr\n",
    "con = wr.redshift.connect_temp(cluster_identifier=\"my-cluster\", user=\"test\")\n",
    "with con.cursor() as cursor:\n",
    "    cursor.execute(\"SELECT 1\")\n",
    "    print(cursor.fetchall())\n",
    "con.close()\n",
    "```"
   ]
  },
  {
   "cell_type": "code",
   "execution_count": 1,
   "metadata": {},
   "outputs": [],
   "source": [
    "import awswrangler as wr\n",
    "import boto3"
   ]
  },
  {
   "cell_type": "code",
   "execution_count": 2,
   "metadata": {},
   "outputs": [
    {
     "name": "stdout",
     "output_type": "stream",
     "text": [
      "Attempting to automatically open the SSO authorization page in your default browser.\n",
      "If the browser does not open or you wish to use a different device to authorize this request, open the following URL:\n",
      "\n",
      "https://device.sso.us-east-1.amazonaws.com/\n",
      "\n",
      "Then enter the code:\n",
      "\n",
      "NMHD-TFDB\n",
      "Successfully logged into Start URL: https://stellaralgo.awsapps.com/start#/\n"
     ]
    }
   ],
   "source": [
    "! aws sso login --profile Stellaralgo-DataScienceAdmin"
   ]
  },
  {
   "cell_type": "code",
   "execution_count": 8,
   "metadata": {},
   "outputs": [
    {
     "ename": "InterfaceError",
     "evalue": "('communication error', TimeoutError(60, 'Operation timed out'))",
     "output_type": "error",
     "traceback": [
      "\u001b[0;31m---------------------------------------------------------------------------\u001b[0m",
      "\u001b[0;31mTimeoutError\u001b[0m                              Traceback (most recent call last)",
      "File \u001b[0;32m~/opt/miniconda3/envs/package/lib/python3.9/site-packages/redshift_connector/core.py:602\u001b[0m, in \u001b[0;36mConnection.__init__\u001b[0;34m(self, user, password, database, host, port, source_address, unix_sock, ssl, sslmode, timeout, max_prepared_statements, tcp_keepalive, application_name, replication, client_protocol_version, database_metadata_current_db_only, credentials_provider, provider_name, web_identity_token, numeric_to_float)\u001b[0m\n\u001b[1;32m    <a href='file:///Users/petermorrison/opt/miniconda3/envs/package/lib/python3.9/site-packages/redshift_connector/core.py?line=600'>601</a>\u001b[0m \u001b[39mif\u001b[39;00m unix_sock \u001b[39mis\u001b[39;00m \u001b[39mNone\u001b[39;00m \u001b[39mand\u001b[39;00m host \u001b[39mis\u001b[39;00m \u001b[39mnot\u001b[39;00m \u001b[39mNone\u001b[39;00m:\n\u001b[0;32m--> <a href='file:///Users/petermorrison/opt/miniconda3/envs/package/lib/python3.9/site-packages/redshift_connector/core.py?line=601'>602</a>\u001b[0m     \u001b[39mself\u001b[39;49m\u001b[39m.\u001b[39;49m_usock\u001b[39m.\u001b[39;49mconnect((host, port))\n\u001b[1;32m    <a href='file:///Users/petermorrison/opt/miniconda3/envs/package/lib/python3.9/site-packages/redshift_connector/core.py?line=602'>603</a>\u001b[0m \u001b[39melif\u001b[39;00m unix_sock \u001b[39mis\u001b[39;00m \u001b[39mnot\u001b[39;00m \u001b[39mNone\u001b[39;00m:\n",
      "\u001b[0;31mTimeoutError\u001b[0m: [Errno 60] Operation timed out",
      "\nDuring handling of the above exception, another exception occurred:\n",
      "\u001b[0;31mInterfaceError\u001b[0m                            Traceback (most recent call last)",
      "\u001b[1;32m/Users/petermorrison/Documents/repos/data-sci/notebooks/peter sandbox/Redshift_Connection_Tests/wr_redshift_connect_temp.ipynb Cell 4'\u001b[0m in \u001b[0;36m<cell line: 10>\u001b[0;34m()\u001b[0m\n\u001b[1;32m      <a href='vscode-notebook-cell:/Users/petermorrison/Documents/repos/data-sci/notebooks/peter%20sandbox/Redshift_Connection_Tests/wr_redshift_connect_temp.ipynb#ch0000000?line=6'>7</a>\u001b[0m cluster_endpoint \u001b[39m=\u001b[39m \u001b[39m\"\u001b[39m\u001b[39mqa-app.ctjussvyafp4.us-east-1.redshift.amazonaws.com\u001b[39m\u001b[39m\"\u001b[39m\n\u001b[1;32m      <a href='vscode-notebook-cell:/Users/petermorrison/Documents/repos/data-sci/notebooks/peter%20sandbox/Redshift_Connection_Tests/wr_redshift_connect_temp.ipynb#ch0000000?line=7'>8</a>\u001b[0m db_user \u001b[39m=\u001b[39m \u001b[39m\"\u001b[39m\u001b[39madmin\u001b[39m\u001b[39m\"\u001b[39m\n\u001b[0;32m---> <a href='vscode-notebook-cell:/Users/petermorrison/Documents/repos/data-sci/notebooks/peter%20sandbox/Redshift_Connection_Tests/wr_redshift_connect_temp.ipynb#ch0000000?line=9'>10</a>\u001b[0m cnxn \u001b[39m=\u001b[39m wr\u001b[39m.\u001b[39;49mredshift\u001b[39m.\u001b[39;49mconnect_temp(\n\u001b[1;32m     <a href='vscode-notebook-cell:/Users/petermorrison/Documents/repos/data-sci/notebooks/peter%20sandbox/Redshift_Connection_Tests/wr_redshift_connect_temp.ipynb#ch0000000?line=10'>11</a>\u001b[0m         boto3_session\u001b[39m=\u001b[39;49msession,\n\u001b[1;32m     <a href='vscode-notebook-cell:/Users/petermorrison/Documents/repos/data-sci/notebooks/peter%20sandbox/Redshift_Connection_Tests/wr_redshift_connect_temp.ipynb#ch0000000?line=11'>12</a>\u001b[0m         cluster_identifier\u001b[39m=\u001b[39;49mcluster_id,\n\u001b[1;32m     <a href='vscode-notebook-cell:/Users/petermorrison/Documents/repos/data-sci/notebooks/peter%20sandbox/Redshift_Connection_Tests/wr_redshift_connect_temp.ipynb#ch0000000?line=12'>13</a>\u001b[0m         database\u001b[39m=\u001b[39;49mdatabase,\n\u001b[1;32m     <a href='vscode-notebook-cell:/Users/petermorrison/Documents/repos/data-sci/notebooks/peter%20sandbox/Redshift_Connection_Tests/wr_redshift_connect_temp.ipynb#ch0000000?line=13'>14</a>\u001b[0m         user\u001b[39m=\u001b[39;49mdb_user\n\u001b[1;32m     <a href='vscode-notebook-cell:/Users/petermorrison/Documents/repos/data-sci/notebooks/peter%20sandbox/Redshift_Connection_Tests/wr_redshift_connect_temp.ipynb#ch0000000?line=14'>15</a>\u001b[0m     )\n",
      "File \u001b[0;32m~/opt/miniconda3/envs/package/lib/python3.9/site-packages/awswrangler/redshift.py:582\u001b[0m, in \u001b[0;36mconnect_temp\u001b[0;34m(cluster_identifier, user, database, duration, auto_create, db_groups, boto3_session, ssl, timeout, max_prepared_statements, tcp_keepalive)\u001b[0m\n\u001b[1;32m    <a href='file:///Users/petermorrison/opt/miniconda3/envs/package/lib/python3.9/site-packages/awswrangler/redshift.py?line=579'>580</a>\u001b[0m res: Dict[\u001b[39mstr\u001b[39m, Any] \u001b[39m=\u001b[39m client_redshift\u001b[39m.\u001b[39mget_cluster_credentials(\u001b[39m*\u001b[39m\u001b[39m*\u001b[39margs)\n\u001b[1;32m    <a href='file:///Users/petermorrison/opt/miniconda3/envs/package/lib/python3.9/site-packages/awswrangler/redshift.py?line=580'>581</a>\u001b[0m cluster: Dict[\u001b[39mstr\u001b[39m, Any] \u001b[39m=\u001b[39m client_redshift\u001b[39m.\u001b[39mdescribe_clusters(ClusterIdentifier\u001b[39m=\u001b[39mcluster_identifier)[\u001b[39m\"\u001b[39m\u001b[39mClusters\u001b[39m\u001b[39m\"\u001b[39m][\u001b[39m0\u001b[39m]\n\u001b[0;32m--> <a href='file:///Users/petermorrison/opt/miniconda3/envs/package/lib/python3.9/site-packages/awswrangler/redshift.py?line=581'>582</a>\u001b[0m \u001b[39mreturn\u001b[39;00m redshift_connector\u001b[39m.\u001b[39;49mconnect(\n\u001b[1;32m    <a href='file:///Users/petermorrison/opt/miniconda3/envs/package/lib/python3.9/site-packages/awswrangler/redshift.py?line=582'>583</a>\u001b[0m     user\u001b[39m=\u001b[39;49mres[\u001b[39m\"\u001b[39;49m\u001b[39mDbUser\u001b[39;49m\u001b[39m\"\u001b[39;49m],\n\u001b[1;32m    <a href='file:///Users/petermorrison/opt/miniconda3/envs/package/lib/python3.9/site-packages/awswrangler/redshift.py?line=583'>584</a>\u001b[0m     database\u001b[39m=\u001b[39;49mdatabase \u001b[39mif\u001b[39;49;00m database \u001b[39melse\u001b[39;49;00m cluster[\u001b[39m\"\u001b[39;49m\u001b[39mDBName\u001b[39;49m\u001b[39m\"\u001b[39;49m],\n\u001b[1;32m    <a href='file:///Users/petermorrison/opt/miniconda3/envs/package/lib/python3.9/site-packages/awswrangler/redshift.py?line=584'>585</a>\u001b[0m     password\u001b[39m=\u001b[39;49mres[\u001b[39m\"\u001b[39;49m\u001b[39mDbPassword\u001b[39;49m\u001b[39m\"\u001b[39;49m],\n\u001b[1;32m    <a href='file:///Users/petermorrison/opt/miniconda3/envs/package/lib/python3.9/site-packages/awswrangler/redshift.py?line=585'>586</a>\u001b[0m     port\u001b[39m=\u001b[39;49mcluster[\u001b[39m\"\u001b[39;49m\u001b[39mEndpoint\u001b[39;49m\u001b[39m\"\u001b[39;49m][\u001b[39m\"\u001b[39;49m\u001b[39mPort\u001b[39;49m\u001b[39m\"\u001b[39;49m],\n\u001b[1;32m    <a href='file:///Users/petermorrison/opt/miniconda3/envs/package/lib/python3.9/site-packages/awswrangler/redshift.py?line=586'>587</a>\u001b[0m     host\u001b[39m=\u001b[39;49mcluster[\u001b[39m\"\u001b[39;49m\u001b[39mEndpoint\u001b[39;49m\u001b[39m\"\u001b[39;49m][\u001b[39m\"\u001b[39;49m\u001b[39mAddress\u001b[39;49m\u001b[39m\"\u001b[39;49m],\n\u001b[1;32m    <a href='file:///Users/petermorrison/opt/miniconda3/envs/package/lib/python3.9/site-packages/awswrangler/redshift.py?line=587'>588</a>\u001b[0m     ssl\u001b[39m=\u001b[39;49mssl,\n\u001b[1;32m    <a href='file:///Users/petermorrison/opt/miniconda3/envs/package/lib/python3.9/site-packages/awswrangler/redshift.py?line=588'>589</a>\u001b[0m     timeout\u001b[39m=\u001b[39;49mtimeout,\n\u001b[1;32m    <a href='file:///Users/petermorrison/opt/miniconda3/envs/package/lib/python3.9/site-packages/awswrangler/redshift.py?line=589'>590</a>\u001b[0m     max_prepared_statements\u001b[39m=\u001b[39;49mmax_prepared_statements,\n\u001b[1;32m    <a href='file:///Users/petermorrison/opt/miniconda3/envs/package/lib/python3.9/site-packages/awswrangler/redshift.py?line=590'>591</a>\u001b[0m     tcp_keepalive\u001b[39m=\u001b[39;49mtcp_keepalive,\n\u001b[1;32m    <a href='file:///Users/petermorrison/opt/miniconda3/envs/package/lib/python3.9/site-packages/awswrangler/redshift.py?line=591'>592</a>\u001b[0m     db_groups\u001b[39m=\u001b[39;49mdb_groups,\n\u001b[1;32m    <a href='file:///Users/petermorrison/opt/miniconda3/envs/package/lib/python3.9/site-packages/awswrangler/redshift.py?line=592'>593</a>\u001b[0m )\n",
      "File \u001b[0;32m~/opt/miniconda3/envs/package/lib/python3.9/site-packages/redshift_connector/__init__.py:369\u001b[0m, in \u001b[0;36mconnect\u001b[0;34m(user, database, password, port, host, source_address, unix_sock, ssl, sslmode, timeout, max_prepared_statements, tcp_keepalive, application_name, replication, idp_host, db_user, app_id, app_name, preferred_role, principal_arn, access_key_id, secret_access_key, session_token, profile, credentials_provider, region, cluster_identifier, iam, client_id, idp_tenant, client_secret, partner_sp_id, idp_response_timeout, listen_port, login_url, auto_create, db_groups, force_lowercase, allow_db_user_override, client_protocol_version, database_metadata_current_db_only, ssl_insecure, web_identity_token, role_session_name, role_arn, iam_disable_cache, auth_profile, endpoint_url, provider_name, scope, numeric_to_float)\u001b[0m\n\u001b[1;32m    <a href='file:///Users/petermorrison/opt/miniconda3/envs/package/lib/python3.9/site-packages/redshift_connector/__init__.py?line=365'>366</a>\u001b[0m _logger\u001b[39m.\u001b[39mdebug(mask_secure_info_in_props(info)\u001b[39m.\u001b[39m\u001b[39m__str__\u001b[39m())\n\u001b[1;32m    <a href='file:///Users/petermorrison/opt/miniconda3/envs/package/lib/python3.9/site-packages/redshift_connector/__init__.py?line=366'>367</a>\u001b[0m _logger\u001b[39m.\u001b[39mdebug(make_divider_block())\n\u001b[0;32m--> <a href='file:///Users/petermorrison/opt/miniconda3/envs/package/lib/python3.9/site-packages/redshift_connector/__init__.py?line=368'>369</a>\u001b[0m \u001b[39mreturn\u001b[39;00m Connection(\n\u001b[1;32m    <a href='file:///Users/petermorrison/opt/miniconda3/envs/package/lib/python3.9/site-packages/redshift_connector/__init__.py?line=369'>370</a>\u001b[0m     user\u001b[39m=\u001b[39;49minfo\u001b[39m.\u001b[39;49muser_name,\n\u001b[1;32m    <a href='file:///Users/petermorrison/opt/miniconda3/envs/package/lib/python3.9/site-packages/redshift_connector/__init__.py?line=370'>371</a>\u001b[0m     host\u001b[39m=\u001b[39;49minfo\u001b[39m.\u001b[39;49mhost,\n\u001b[1;32m    <a href='file:///Users/petermorrison/opt/miniconda3/envs/package/lib/python3.9/site-packages/redshift_connector/__init__.py?line=371'>372</a>\u001b[0m     database\u001b[39m=\u001b[39;49minfo\u001b[39m.\u001b[39;49mdb_name,\n\u001b[1;32m    <a href='file:///Users/petermorrison/opt/miniconda3/envs/package/lib/python3.9/site-packages/redshift_connector/__init__.py?line=372'>373</a>\u001b[0m     port\u001b[39m=\u001b[39;49minfo\u001b[39m.\u001b[39;49mport,\n\u001b[1;32m    <a href='file:///Users/petermorrison/opt/miniconda3/envs/package/lib/python3.9/site-packages/redshift_connector/__init__.py?line=373'>374</a>\u001b[0m     password\u001b[39m=\u001b[39;49minfo\u001b[39m.\u001b[39;49mpassword,\n\u001b[1;32m    <a href='file:///Users/petermorrison/opt/miniconda3/envs/package/lib/python3.9/site-packages/redshift_connector/__init__.py?line=374'>375</a>\u001b[0m     source_address\u001b[39m=\u001b[39;49minfo\u001b[39m.\u001b[39;49msource_address,\n\u001b[1;32m    <a href='file:///Users/petermorrison/opt/miniconda3/envs/package/lib/python3.9/site-packages/redshift_connector/__init__.py?line=375'>376</a>\u001b[0m     unix_sock\u001b[39m=\u001b[39;49minfo\u001b[39m.\u001b[39;49munix_sock,\n\u001b[1;32m    <a href='file:///Users/petermorrison/opt/miniconda3/envs/package/lib/python3.9/site-packages/redshift_connector/__init__.py?line=376'>377</a>\u001b[0m     ssl\u001b[39m=\u001b[39;49minfo\u001b[39m.\u001b[39;49mssl,\n\u001b[1;32m    <a href='file:///Users/petermorrison/opt/miniconda3/envs/package/lib/python3.9/site-packages/redshift_connector/__init__.py?line=377'>378</a>\u001b[0m     sslmode\u001b[39m=\u001b[39;49minfo\u001b[39m.\u001b[39;49msslmode,\n\u001b[1;32m    <a href='file:///Users/petermorrison/opt/miniconda3/envs/package/lib/python3.9/site-packages/redshift_connector/__init__.py?line=378'>379</a>\u001b[0m     timeout\u001b[39m=\u001b[39;49minfo\u001b[39m.\u001b[39;49mtimeout,\n\u001b[1;32m    <a href='file:///Users/petermorrison/opt/miniconda3/envs/package/lib/python3.9/site-packages/redshift_connector/__init__.py?line=379'>380</a>\u001b[0m     max_prepared_statements\u001b[39m=\u001b[39;49minfo\u001b[39m.\u001b[39;49mmax_prepared_statements,\n\u001b[1;32m    <a href='file:///Users/petermorrison/opt/miniconda3/envs/package/lib/python3.9/site-packages/redshift_connector/__init__.py?line=380'>381</a>\u001b[0m     tcp_keepalive\u001b[39m=\u001b[39;49minfo\u001b[39m.\u001b[39;49mtcp_keepalive,\n\u001b[1;32m    <a href='file:///Users/petermorrison/opt/miniconda3/envs/package/lib/python3.9/site-packages/redshift_connector/__init__.py?line=381'>382</a>\u001b[0m     application_name\u001b[39m=\u001b[39;49minfo\u001b[39m.\u001b[39;49mapplication_name,\n\u001b[1;32m    <a href='file:///Users/petermorrison/opt/miniconda3/envs/package/lib/python3.9/site-packages/redshift_connector/__init__.py?line=382'>383</a>\u001b[0m     replication\u001b[39m=\u001b[39;49minfo\u001b[39m.\u001b[39;49mreplication,\n\u001b[1;32m    <a href='file:///Users/petermorrison/opt/miniconda3/envs/package/lib/python3.9/site-packages/redshift_connector/__init__.py?line=383'>384</a>\u001b[0m     client_protocol_version\u001b[39m=\u001b[39;49minfo\u001b[39m.\u001b[39;49mclient_protocol_version,\n\u001b[1;32m    <a href='file:///Users/petermorrison/opt/miniconda3/envs/package/lib/python3.9/site-packages/redshift_connector/__init__.py?line=384'>385</a>\u001b[0m     database_metadata_current_db_only\u001b[39m=\u001b[39;49minfo\u001b[39m.\u001b[39;49mdatabase_metadata_current_db_only,\n\u001b[1;32m    <a href='file:///Users/petermorrison/opt/miniconda3/envs/package/lib/python3.9/site-packages/redshift_connector/__init__.py?line=385'>386</a>\u001b[0m     credentials_provider\u001b[39m=\u001b[39;49minfo\u001b[39m.\u001b[39;49mcredentials_provider,\n\u001b[1;32m    <a href='file:///Users/petermorrison/opt/miniconda3/envs/package/lib/python3.9/site-packages/redshift_connector/__init__.py?line=386'>387</a>\u001b[0m     provider_name\u001b[39m=\u001b[39;49minfo\u001b[39m.\u001b[39;49mprovider_name,\n\u001b[1;32m    <a href='file:///Users/petermorrison/opt/miniconda3/envs/package/lib/python3.9/site-packages/redshift_connector/__init__.py?line=387'>388</a>\u001b[0m     web_identity_token\u001b[39m=\u001b[39;49minfo\u001b[39m.\u001b[39;49mweb_identity_token,\n\u001b[1;32m    <a href='file:///Users/petermorrison/opt/miniconda3/envs/package/lib/python3.9/site-packages/redshift_connector/__init__.py?line=388'>389</a>\u001b[0m     numeric_to_float\u001b[39m=\u001b[39;49minfo\u001b[39m.\u001b[39;49mnumeric_to_float,\n\u001b[1;32m    <a href='file:///Users/petermorrison/opt/miniconda3/envs/package/lib/python3.9/site-packages/redshift_connector/__init__.py?line=389'>390</a>\u001b[0m )\n",
      "File \u001b[0;32m~/opt/miniconda3/envs/package/lib/python3.9/site-packages/redshift_connector/core.py:649\u001b[0m, in \u001b[0;36mConnection.__init__\u001b[0;34m(self, user, password, database, host, port, source_address, unix_sock, ssl, sslmode, timeout, max_prepared_statements, tcp_keepalive, application_name, replication, client_protocol_version, database_metadata_current_db_only, credentials_provider, provider_name, web_identity_token, numeric_to_float)\u001b[0m\n\u001b[1;32m    <a href='file:///Users/petermorrison/opt/miniconda3/envs/package/lib/python3.9/site-packages/redshift_connector/core.py?line=646'>647</a>\u001b[0m \u001b[39mexcept\u001b[39;00m socket\u001b[39m.\u001b[39merror \u001b[39mas\u001b[39;00m e:\n\u001b[1;32m    <a href='file:///Users/petermorrison/opt/miniconda3/envs/package/lib/python3.9/site-packages/redshift_connector/core.py?line=647'>648</a>\u001b[0m     \u001b[39mself\u001b[39m\u001b[39m.\u001b[39m_usock\u001b[39m.\u001b[39mclose()\n\u001b[0;32m--> <a href='file:///Users/petermorrison/opt/miniconda3/envs/package/lib/python3.9/site-packages/redshift_connector/core.py?line=648'>649</a>\u001b[0m     \u001b[39mraise\u001b[39;00m InterfaceError(\u001b[39m\"\u001b[39m\u001b[39mcommunication error\u001b[39m\u001b[39m\"\u001b[39m, e)\n\u001b[1;32m    <a href='file:///Users/petermorrison/opt/miniconda3/envs/package/lib/python3.9/site-packages/redshift_connector/core.py?line=649'>650</a>\u001b[0m \u001b[39mself\u001b[39m\u001b[39m.\u001b[39m_flush: typing\u001b[39m.\u001b[39mCallable \u001b[39m=\u001b[39m \u001b[39mself\u001b[39m\u001b[39m.\u001b[39m_sock\u001b[39m.\u001b[39mflush\n\u001b[1;32m    <a href='file:///Users/petermorrison/opt/miniconda3/envs/package/lib/python3.9/site-packages/redshift_connector/core.py?line=650'>651</a>\u001b[0m \u001b[39mself\u001b[39m\u001b[39m.\u001b[39m_read: typing\u001b[39m.\u001b[39mCallable \u001b[39m=\u001b[39m \u001b[39mself\u001b[39m\u001b[39m.\u001b[39m_sock\u001b[39m.\u001b[39mread\n",
      "\u001b[0;31mInterfaceError\u001b[0m: ('communication error', TimeoutError(60, 'Operation timed out'))"
     ]
    }
   ],
   "source": [
    "session = boto3.session.Session(profile_name=\"Stellaralgo-DataScienceAdmin\", region_name=\"us-east-1\")\n",
    "client = session.client(\"redshift\", region_name=\"us-east-1\")\n",
    "\n",
    "cluster_id = \"qa-app\"\n",
    "database = \"stlrlagalaxy\"\n",
    "schema = \"ds\"\n",
    "cluster_endpoint = \"qa-app.ctjussvyafp4.us-east-1.redshift.amazonaws.com\"\n",
    "db_user = \"admin\"\n",
    "\n",
    "cnxn = wr.redshift.connect_temp(\n",
    "        boto3_session=session,\n",
    "        cluster_identifier=cluster_id,\n",
    "        database=database,\n",
    "        user=db_user\n",
    "    )\n",
    "\n",
    "# with cnxn.cursor() as cursor:\n",
    "#     cursor.execute(\"SELECT 1\")\n",
    "#     print(cursor.fetchall())\n",
    "# cnxn.close()"
   ]
  },
  {
   "cell_type": "code",
   "execution_count": null,
   "metadata": {},
   "outputs": [],
   "source": []
  }
 ],
 "metadata": {
  "interpreter": {
   "hash": "17c5bad894e8ea00b3938fb2ea85177c9b0c92677fd88ffbd4850bbfc176f649"
  },
  "kernelspec": {
   "display_name": "Python 3.9.12 ('package')",
   "language": "python",
   "name": "python3"
  },
  "language_info": {
   "codemirror_mode": {
    "name": "ipython",
    "version": 3
   },
   "file_extension": ".py",
   "mimetype": "text/x-python",
   "name": "python",
   "nbconvert_exporter": "python",
   "pygments_lexer": "ipython3",
   "version": "3.9.12"
  },
  "orig_nbformat": 4
 },
 "nbformat": 4,
 "nbformat_minor": 2
}
