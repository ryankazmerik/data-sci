{
 "cells": [
  {
   "cell_type": "code",
   "execution_count": 49,
   "metadata": {},
   "outputs": [],
   "source": [
    "import psycopg2\n",
    "import getpass\n",
    "import pandas as pd\n",
    "import datetime\n",
    "import pyodbc\n",
    "import sys\n",
    "import warnings\n",
    "if not sys.warnoptions:\n",
    "    warnings.simplefilter(\"ignore\")"
   ]
  },
  {
   "cell_type": "code",
   "execution_count": 50,
   "metadata": {},
   "outputs": [],
   "source": [
    "teamproductyear_id = 1 #1,...,123"
   ]
  },
  {
   "cell_type": "code",
   "execution_count": 51,
   "metadata": {},
   "outputs": [
    {
     "name": "stdout",
     "output_type": "stream",
     "text": [
      "Enter your username········\n",
      "Enter your password········\n"
     ]
    }
   ],
   "source": [
    "# connect to SQL Server.\n",
    "server = '52.44.171.130' \n",
    "database = 'datascience' \n",
    "USERNAME = getpass.getpass(prompt='Enter your username') \n",
    "PASSWORD = getpass.getpass(prompt='Enter your password')\n",
    "cnxn = pyodbc.connect('DRIVER={ODBC Driver 17 for SQL Server};SERVER='+server+';DATABASE='+database+';UID='+username+';PWD='+ password)\n",
    "cursor = cnxn.cursor()\n",
    "query = f'''select teamproductyearid,lkupclientid,clientcode,productgrouping,trainseasonyear,testseasonyear,facttestyear,facttestprevyear,stlrDBName from ds.productyear_all r where teamproductyearid ={teamproductyear_id} ;'''\n",
    "dfparam3 = pd.read_sql(query, cnxn)\n",
    "cnxn.commit()\n",
    "cursor.close()"
   ]
  },
  {
   "cell_type": "code",
   "execution_count": 52,
   "metadata": {},
   "outputs": [
    {
     "data": {
      "text/html": [
       "<div>\n",
       "<style scoped>\n",
       "    .dataframe tbody tr th:only-of-type {\n",
       "        vertical-align: middle;\n",
       "    }\n",
       "\n",
       "    .dataframe tbody tr th {\n",
       "        vertical-align: top;\n",
       "    }\n",
       "\n",
       "    .dataframe thead th {\n",
       "        text-align: right;\n",
       "    }\n",
       "</style>\n",
       "<table border=\"1\" class=\"dataframe\">\n",
       "  <thead>\n",
       "    <tr style=\"text-align: right;\">\n",
       "      <th></th>\n",
       "      <th>teamproductyearid</th>\n",
       "      <th>lkupclientid</th>\n",
       "      <th>clientcode</th>\n",
       "      <th>productgrouping</th>\n",
       "      <th>trainseasonyear</th>\n",
       "      <th>testseasonyear</th>\n",
       "      <th>facttestyear</th>\n",
       "      <th>facttestprevyear</th>\n",
       "      <th>stlrDBName</th>\n",
       "    </tr>\n",
       "  </thead>\n",
       "  <tbody>\n",
       "    <tr>\n",
       "      <th>0</th>\n",
       "      <td>1</td>\n",
       "      <td>9</td>\n",
       "      <td>hops</td>\n",
       "      <td>Full Season</td>\n",
       "      <td>2019</td>\n",
       "      <td>2021</td>\n",
       "      <td>2021</td>\n",
       "      <td>None</td>\n",
       "      <td>stlrMILB</td>\n",
       "    </tr>\n",
       "  </tbody>\n",
       "</table>\n",
       "</div>"
      ],
      "text/plain": [
       "   teamproductyearid  lkupclientid clientcode productgrouping  \\\n",
       "0                  1             9       hops     Full Season   \n",
       "\n",
       "   trainseasonyear  testseasonyear  facttestyear facttestprevyear stlrDBName  \n",
       "0             2019            2021          2021             None   stlrMILB  "
      ]
     },
     "execution_count": 52,
     "metadata": {},
     "output_type": "execute_result"
    }
   ],
   "source": [
    "dfparam3.head()"
   ]
  },
  {
   "cell_type": "code",
   "execution_count": 44,
   "metadata": {},
   "outputs": [],
   "source": [
    "client_id = dfparam3._get_value(0,'lkupclientid')\n",
    "client_code= dfparam3._get_value(0,'clientcode')\n",
    "product_grouping =dfparam3._get_value(0,'productgrouping') \n",
    "stlrdbname= dfparam3._get_value(0,'stlrDBName') "
   ]
  },
  {
   "cell_type": "code",
   "execution_count": 45,
   "metadata": {},
   "outputs": [
    {
     "data": {
      "text/html": [
       "<div>\n",
       "<style scoped>\n",
       "    .dataframe tbody tr th:only-of-type {\n",
       "        vertical-align: middle;\n",
       "    }\n",
       "\n",
       "    .dataframe tbody tr th {\n",
       "        vertical-align: top;\n",
       "    }\n",
       "\n",
       "    .dataframe thead th {\n",
       "        text-align: right;\n",
       "    }\n",
       "</style>\n",
       "<table border=\"1\" class=\"dataframe\">\n",
       "  <thead>\n",
       "    <tr style=\"text-align: right;\">\n",
       "      <th></th>\n",
       "      <th>maxDimDateId</th>\n",
       "    </tr>\n",
       "  </thead>\n",
       "  <tbody>\n",
       "    <tr>\n",
       "      <th>0</th>\n",
       "      <td>20211109</td>\n",
       "    </tr>\n",
       "  </tbody>\n",
       "</table>\n",
       "</div>"
      ],
      "text/plain": [
       "   maxDimDateId\n",
       "0      20211109"
      ]
     },
     "execution_count": 45,
     "metadata": {},
     "output_type": "execute_result"
    }
   ],
   "source": [
    "# connect to SQL Server.\n",
    "server = '52.44.171.130' \n",
    "database = stlrdbname\n",
    "username = 'nrad' \n",
    "password = 'ThisIsQA123' \n",
    "cnxn = pyodbc.connect('DRIVER={ODBC Driver 17 for SQL Server};SERVER='+server+';DATABASE='+database+';UID='+username+';PWD='+ password)\n",
    "cursor2 = cnxn.cursor()\n",
    "MAXDIMDATE =  f'''select MAX(dimDateId) as maxDimDateId from dw.factCustomerretentionScore where lkupclientid ={client_id}  and product in({\"'\"+ str(product_grouping) + \"'\"}) and currVersnFlag =1;'''\n",
    "dfMaxDate = pd.read_sql(MAXDIMDATE, cnxn)\n",
    "cnxn.commit()\n",
    "cursor2.close()\n",
    "df3"
   ]
  },
  {
   "cell_type": "code",
   "execution_count": 46,
   "metadata": {},
   "outputs": [
    {
     "data": {
      "text/html": [
       "<div>\n",
       "<style scoped>\n",
       "    .dataframe tbody tr th:only-of-type {\n",
       "        vertical-align: middle;\n",
       "    }\n",
       "\n",
       "    .dataframe tbody tr th {\n",
       "        vertical-align: top;\n",
       "    }\n",
       "\n",
       "    .dataframe thead th {\n",
       "        text-align: right;\n",
       "    }\n",
       "</style>\n",
       "<table border=\"1\" class=\"dataframe\">\n",
       "  <thead>\n",
       "    <tr style=\"text-align: right;\">\n",
       "      <th></th>\n",
       "      <th>cnt</th>\n",
       "    </tr>\n",
       "  </thead>\n",
       "  <tbody>\n",
       "    <tr>\n",
       "      <th>0</th>\n",
       "      <td>0</td>\n",
       "    </tr>\n",
       "  </tbody>\n",
       "</table>\n",
       "</div>"
      ],
      "text/plain": [
       "   cnt\n",
       "0    0"
      ]
     },
     "execution_count": 46,
     "metadata": {},
     "output_type": "execute_result"
    }
   ],
   "source": [
    "# connect to SQL Server.\n",
    "server = '52.44.171.130' \n",
    "database = stlrdbname\n",
    "username = 'nrad' \n",
    "password = 'ThisIsQA123' \n",
    "cnxn = pyodbc.connect('DRIVER={ODBC Driver 17 for SQL Server};SERVER='+server+';DATABASE='+database+';UID='+username+';PWD='+ password)\n",
    "cursor3 = cnxn.cursor()\n",
    "dimCustomerMasterIDNull =  f'''SELECT count(*) as cnt FROM dw.factCustomerretentionScore t LEFT OUTER JOIN dw.dimCustomerMaster m ON m.dimCustomerMasterId= t.customerNumber where t.lkupclientid ={client_id}  AND t.product in({\"'\"+ str(product_grouping) + \"'\"}) AND currVersnFlag =1 AND m.dimCustomerMasterId IS NULL;'''\n",
    "dfCNT = pd.read_sql(dimCustomerMasterIDNull, cnxn)\n",
    "cnxn.commit()\n",
    "cursor3.close()\n",
    "dfCNT"
   ]
  },
  {
   "cell_type": "code",
   "execution_count": 47,
   "metadata": {},
   "outputs": [
    {
     "data": {
      "text/html": [
       "<div>\n",
       "<style scoped>\n",
       "    .dataframe tbody tr th:only-of-type {\n",
       "        vertical-align: middle;\n",
       "    }\n",
       "\n",
       "    .dataframe tbody tr th {\n",
       "        vertical-align: top;\n",
       "    }\n",
       "\n",
       "    .dataframe thead th {\n",
       "        text-align: right;\n",
       "    }\n",
       "</style>\n",
       "<table border=\"1\" class=\"dataframe\">\n",
       "  <thead>\n",
       "    <tr style=\"text-align: right;\">\n",
       "      <th></th>\n",
       "      <th>seasonYear</th>\n",
       "      <th>cntPerYear</th>\n",
       "    </tr>\n",
       "  </thead>\n",
       "  <tbody>\n",
       "    <tr>\n",
       "      <th>0</th>\n",
       "      <td>2021</td>\n",
       "      <td>233</td>\n",
       "    </tr>\n",
       "  </tbody>\n",
       "</table>\n",
       "</div>"
      ],
      "text/plain": [
       "  seasonYear  cntPerYear\n",
       "0       2021         233"
      ]
     },
     "execution_count": 47,
     "metadata": {},
     "output_type": "execute_result"
    }
   ],
   "source": [
    "# connect to SQL Server.\n",
    "server = '52.44.171.130' \n",
    "database = stlrdbname\n",
    "username = 'nrad' \n",
    "password = 'ThisIsQA123' \n",
    "cnxn = pyodbc.connect('DRIVER={ODBC Driver 17 for SQL Server};SERVER='+server+';DATABASE='+database+';UID='+username+';PWD='+ password)\n",
    "cursor4 = cnxn.cursor()\n",
    "cntPerYear =  f'''select seasonYear, count(*) cntPerYear from stlrMiLB.dw.factCustomerRetentionScore where lkupclientid ={client_id}  AND product in({\"'\"+ str(product_grouping) + \"'\"}) AND currVersnFlag =1 group by seasonYear;'''\n",
    "dfcntPerYear = pd.read_sql(cntPerYear, cnxn)\n",
    "cnxn.commit()\n",
    "cursor4.close()\n",
    "dfcntPerYear"
   ]
  },
  {
   "cell_type": "code",
   "execution_count": 48,
   "metadata": {},
   "outputs": [
    {
     "data": {
      "text/html": [
       "<div>\n",
       "<style scoped>\n",
       "    .dataframe tbody tr th:only-of-type {\n",
       "        vertical-align: middle;\n",
       "    }\n",
       "\n",
       "    .dataframe tbody tr th {\n",
       "        vertical-align: top;\n",
       "    }\n",
       "\n",
       "    .dataframe thead th {\n",
       "        text-align: right;\n",
       "    }\n",
       "</style>\n",
       "<table border=\"1\" class=\"dataframe\">\n",
       "  <thead>\n",
       "    <tr style=\"text-align: right;\">\n",
       "      <th></th>\n",
       "      <th>lkupClientId</th>\n",
       "      <th>product</th>\n",
       "      <th>testSeasonYear</th>\n",
       "    </tr>\n",
       "  </thead>\n",
       "  <tbody>\n",
       "  </tbody>\n",
       "</table>\n",
       "</div>"
      ],
      "text/plain": [
       "Empty DataFrame\n",
       "Columns: [lkupClientId, product, testSeasonYear]\n",
       "Index: []"
      ]
     },
     "execution_count": 48,
     "metadata": {},
     "output_type": "execute_result"
    }
   ],
   "source": [
    "# connect to SQL Server.\n",
    "server = '52.44.171.130' \n",
    "database = stlrdbname\n",
    "username = 'nrad' \n",
    "password = 'ThisIsQA123' \n",
    "cnxn = pyodbc.connect('DRIVER={ODBC Driver 17 for SQL Server};SERVER='+server+';DATABASE='+database+';UID='+username+';PWD='+ password)\n",
    "cursor4 = cnxn.cursor()\n",
    "testSeasonYear =  f'''select b.*  from (select lkupClientId,product,seasonYear testSeasonYear from dw.factCustomerRetentionScore t where t.lkupclientid ={client_id}  AND product in({\"'\"+ str(product_grouping) + \"'\"}) AND currVersnFlag = 1 ) b INNER JOIN [DataScience].[DS].[productyear_all] p on b.lkupClientId=p.lkupclientid AND b.product= p.productgrouping where b.testSeasonYear <> p.facttestyear and p.isprevyearflag = 0;'''\n",
    "dfTestSeasonYear = pd.read_sql(testSeasonYear, cnxn)\n",
    "cnxn.commit()\n",
    "cursor4.close()\n",
    "dfTestSeasonYear"
   ]
  },
  {
   "cell_type": "code",
   "execution_count": null,
   "metadata": {},
   "outputs": [],
   "source": []
  }
 ],
 "metadata": {
  "kernelspec": {
   "display_name": "Python 3",
   "language": "python",
   "name": "python3"
  },
  "language_info": {
   "codemirror_mode": {
    "name": "ipython",
    "version": 3
   },
   "file_extension": ".py",
   "mimetype": "text/x-python",
   "name": "python",
   "nbconvert_exporter": "python",
   "pygments_lexer": "ipython3",
   "version": "3.7.10"
  }
 },
 "nbformat": 4,
 "nbformat_minor": 4
}
