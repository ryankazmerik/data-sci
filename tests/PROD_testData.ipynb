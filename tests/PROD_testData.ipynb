{
 "cells": [
  {
   "cell_type": "code",
   "execution_count": 1,
   "metadata": {},
   "outputs": [],
   "source": [
    "import psycopg2\n",
    "import datetime\n",
    "import getpass\n",
    "import pandas as pd\n",
    "import datetime\n",
    "import pyodbc\n",
    "import sys\n",
    "import warnings\n",
    "if not sys.warnoptions:\n",
    "    warnings.simplefilter(\"ignore\")"
   ]
  },
  {
   "cell_type": "code",
   "execution_count": 2,
   "metadata": {},
   "outputs": [],
   "source": [
    "teamproductyear_id = 123 #1,...,123 no 85"
   ]
  },
  {
   "cell_type": "code",
   "execution_count": 3,
   "metadata": {},
   "outputs": [],
   "source": [
    "# connect to SQL Server.\n",
    "server = '34.206.73.189' \n",
    "database = 'datascience' \n",
    "username = getpass.getpass(prompt='Enter your username') \n",
    "password = getpass.getpass(prompt='Enter your password')\n",
    "cnxn = pyodbc.connect('DRIVER={ODBC Driver 17 for SQL Server};SERVER='+server+';DATABASE='+database+';UID='+username+';PWD='+ password)\n",
    "cursor = cnxn.cursor()\n",
    "query = f'''select teamproductyearid,lkupclientid,clientcode,productgrouping,trainseasonyear,testseasonyear,facttestyear,facttestprevyear,stlrDBName from ds.productyear_all r where teamproductyearid ={teamproductyear_id} ;'''\n",
    "dfparam3 = pd.read_sql(query, cnxn)\n",
    "cnxn.commit()\n",
    "cursor.close()"
   ]
  },
  {
   "cell_type": "code",
   "execution_count": 4,
   "metadata": {},
   "outputs": [
    {
     "data": {
      "text/html": [
       "<div>\n",
       "<style scoped>\n",
       "    .dataframe tbody tr th:only-of-type {\n",
       "        vertical-align: middle;\n",
       "    }\n",
       "\n",
       "    .dataframe tbody tr th {\n",
       "        vertical-align: top;\n",
       "    }\n",
       "\n",
       "    .dataframe thead th {\n",
       "        text-align: right;\n",
       "    }\n",
       "</style>\n",
       "<table border=\"1\" class=\"dataframe\">\n",
       "  <thead>\n",
       "    <tr style=\"text-align: right;\">\n",
       "      <th></th>\n",
       "      <th>teamproductyearid</th>\n",
       "      <th>lkupclientid</th>\n",
       "      <th>clientcode</th>\n",
       "      <th>productgrouping</th>\n",
       "      <th>trainseasonyear</th>\n",
       "      <th>testseasonyear</th>\n",
       "      <th>facttestyear</th>\n",
       "      <th>facttestprevyear</th>\n",
       "      <th>stlrDBName</th>\n",
       "    </tr>\n",
       "  </thead>\n",
       "  <tbody>\n",
       "    <tr>\n",
       "      <th>0</th>\n",
       "      <td>123</td>\n",
       "      <td>55</td>\n",
       "      <td>coyotes</td>\n",
       "      <td>Partial Season</td>\n",
       "      <td>2019</td>\n",
       "      <td>2021</td>\n",
       "      <td>2021</td>\n",
       "      <td>None</td>\n",
       "      <td>stlrCoyotes</td>\n",
       "    </tr>\n",
       "  </tbody>\n",
       "</table>\n",
       "</div>"
      ],
      "text/plain": [
       "   teamproductyearid  lkupclientid clientcode productgrouping  \\\n",
       "0                123            55    coyotes  Partial Season   \n",
       "\n",
       "   trainseasonyear  testseasonyear  facttestyear facttestprevyear   stlrDBName  \n",
       "0             2019            2021          2021             None  stlrCoyotes  "
      ]
     },
     "execution_count": 4,
     "metadata": {},
     "output_type": "execute_result"
    }
   ],
   "source": [
    "dfparam3.head()"
   ]
  },
  {
   "cell_type": "code",
   "execution_count": 5,
   "metadata": {},
   "outputs": [],
   "source": [
    "client_id = dfparam3._get_value(0,'lkupclientid')\n",
    "client_code= dfparam3._get_value(0,'clientcode')\n",
    "product_grouping =dfparam3._get_value(0,'productgrouping') \n",
    "stlrdbname= dfparam3._get_value(0,'stlrDBName') "
   ]
  },
  {
   "cell_type": "code",
   "execution_count": 6,
   "metadata": {},
   "outputs": [
    {
     "data": {
      "text/html": [
       "<div>\n",
       "<style scoped>\n",
       "    .dataframe tbody tr th:only-of-type {\n",
       "        vertical-align: middle;\n",
       "    }\n",
       "\n",
       "    .dataframe tbody tr th {\n",
       "        vertical-align: top;\n",
       "    }\n",
       "\n",
       "    .dataframe thead th {\n",
       "        text-align: right;\n",
       "    }\n",
       "</style>\n",
       "<table border=\"1\" class=\"dataframe\">\n",
       "  <thead>\n",
       "    <tr style=\"text-align: right;\">\n",
       "      <th></th>\n",
       "      <th>maxInsertDate</th>\n",
       "    </tr>\n",
       "  </thead>\n",
       "  <tbody>\n",
       "    <tr>\n",
       "      <th>0</th>\n",
       "      <td>2021-11-16</td>\n",
       "    </tr>\n",
       "  </tbody>\n",
       "</table>\n",
       "</div>"
      ],
      "text/plain": [
       "  maxInsertDate\n",
       "0    2021-11-16"
      ]
     },
     "execution_count": 6,
     "metadata": {},
     "output_type": "execute_result"
    }
   ],
   "source": [
    "# connect to SQL Server.\n",
    "database = 'datascience'\n",
    "cnxn5 = pyodbc.connect('DRIVER={ODBC Driver 17 for SQL Server};SERVER='+server+';DATABASE='+database+';UID='+username+';PWD='+ password)\n",
    "cursor5 = cnxn5.cursor()\n",
    "MAXINSERTDATE =  f'''select MAX(cast(insertDate as date)) as maxInsertDate from ds.customerScores where lkupclientid ={client_id}  and productGrouping in({\"'\"+ str(product_grouping) + \"'\"}) ;'''\n",
    "dfMaxDate1 = pd.read_sql(MAXINSERTDATE, cnxn5)\n",
    "cnxn5.commit()\n",
    "cursor5.close()\n",
    "dfMaxDate1"
   ]
  },
  {
   "cell_type": "code",
   "execution_count": 9,
   "metadata": {},
   "outputs": [
    {
     "data": {
      "text/plain": [
       "'2021-11-16'"
      ]
     },
     "execution_count": 9,
     "metadata": {},
     "output_type": "execute_result"
    }
   ],
   "source": [
    "insert_date= dfMaxDate1['maxInsertDate']\n",
    "max_insert_date=insert_date[0]\n",
    "str_insert_date=str(max_insert_date)\n",
    "str_insert_date"
   ]
  },
  {
   "cell_type": "code",
   "execution_count": 8,
   "metadata": {},
   "outputs": [
    {
     "data": {
      "text/plain": [
       "'2021-11-17'"
      ]
     },
     "execution_count": 8,
     "metadata": {},
     "output_type": "execute_result"
    }
   ],
   "source": [
    "today = datetime.datetime.now()\n",
    "today_date = today.strftime(\"%Y-%m-%d\")\n",
    "today_date"
   ]
  },
  {
   "cell_type": "code",
   "execution_count": 10,
   "metadata": {},
   "outputs": [
    {
     "name": "stdout",
     "output_type": "stream",
     "text": [
      "Is Not Updated\n"
     ]
    }
   ],
   "source": [
    "if str_insert_date == today_date:\n",
    "    print(client_code+' '+product_grouping+' Has'+' '+ str(cnt)+' '+'orphaned dimCustomerMasterId records in factCustomerRetentionScore with dimCustomerMaster table')\n",
    "    print('Is Updated')\n",
    "elif str_insert_date != today_date:\n",
    "    print('Is Not Updated')"
   ]
  },
  {
   "cell_type": "markdown",
   "metadata": {},
   "source": [
    "### select the MAX(dimDateId) for the specific lkupclientId and Product in factCustomerRetentionScore"
   ]
  },
  {
   "cell_type": "code",
   "execution_count": 9,
   "metadata": {},
   "outputs": [
    {
     "data": {
      "text/html": [
       "<div>\n",
       "<style scoped>\n",
       "    .dataframe tbody tr th:only-of-type {\n",
       "        vertical-align: middle;\n",
       "    }\n",
       "\n",
       "    .dataframe tbody tr th {\n",
       "        vertical-align: top;\n",
       "    }\n",
       "\n",
       "    .dataframe thead th {\n",
       "        text-align: right;\n",
       "    }\n",
       "</style>\n",
       "<table border=\"1\" class=\"dataframe\">\n",
       "  <thead>\n",
       "    <tr style=\"text-align: right;\">\n",
       "      <th></th>\n",
       "      <th>maxDimDateId</th>\n",
       "    </tr>\n",
       "  </thead>\n",
       "  <tbody>\n",
       "    <tr>\n",
       "      <th>0</th>\n",
       "      <td>20211116</td>\n",
       "    </tr>\n",
       "  </tbody>\n",
       "</table>\n",
       "</div>"
      ],
      "text/plain": [
       "   maxDimDateId\n",
       "0      20211116"
      ]
     },
     "execution_count": 9,
     "metadata": {},
     "output_type": "execute_result"
    }
   ],
   "source": [
    "# connect to SQL Server.\n",
    "database = stlrdbname\n",
    "cnxn2 = pyodbc.connect('DRIVER={ODBC Driver 17 for SQL Server};SERVER='+server+';DATABASE='+database+';UID='+username+';PWD='+ password)\n",
    "cursor2 = cnxn2.cursor()\n",
    "MAXDIMDATE =  f'''select MAX(dimDateId) as maxDimDateId from dw.factCustomerretentionScore where lkupclientid ={client_id}  and product in({\"'\"+ str(product_grouping) + \"'\"}) and currVersnFlag =1;'''\n",
    "dfMaxDate = pd.read_sql(MAXDIMDATE, cnxn2)\n",
    "cnxn2.commit()\n",
    "cursor2.close()\n",
    "dfMaxDate"
   ]
  },
  {
   "cell_type": "markdown",
   "metadata": {},
   "source": [
    "### select dimCustomerMasterIds that exist in fatCustomerRetentionScore and don't exist in dimCustomerMaster table"
   ]
  },
  {
   "cell_type": "code",
   "execution_count": 10,
   "metadata": {},
   "outputs": [
    {
     "data": {
      "text/html": [
       "<div>\n",
       "<style scoped>\n",
       "    .dataframe tbody tr th:only-of-type {\n",
       "        vertical-align: middle;\n",
       "    }\n",
       "\n",
       "    .dataframe tbody tr th {\n",
       "        vertical-align: top;\n",
       "    }\n",
       "\n",
       "    .dataframe thead th {\n",
       "        text-align: right;\n",
       "    }\n",
       "</style>\n",
       "<table border=\"1\" class=\"dataframe\">\n",
       "  <thead>\n",
       "    <tr style=\"text-align: right;\">\n",
       "      <th></th>\n",
       "      <th>cntDimCustomerMasterId</th>\n",
       "    </tr>\n",
       "  </thead>\n",
       "  <tbody>\n",
       "    <tr>\n",
       "      <th>0</th>\n",
       "      <td>0</td>\n",
       "    </tr>\n",
       "  </tbody>\n",
       "</table>\n",
       "</div>"
      ],
      "text/plain": [
       "   cntDimCustomerMasterId\n",
       "0                       0"
      ]
     },
     "execution_count": 10,
     "metadata": {},
     "output_type": "execute_result"
    }
   ],
   "source": [
    "# connect to SQL Server.\n",
    "database = stlrdbname\n",
    "cnxn3 = pyodbc.connect('DRIVER={ODBC Driver 17 for SQL Server};SERVER='+server+';DATABASE='+database+';UID='+username+';PWD='+ password)\n",
    "cursor3 = cnxn3.cursor()\n",
    "dimCustomerMasterIDNull =  f'''SELECT Count(*) as cntDimCustomerMasterId FROM dw.factCustomerretentionScore t LEFT OUTER JOIN dw.dimCustomerMaster m ON m.dimCustomerMasterId= t.customerNumber where t.lkupclientid ={client_id}  AND t.product in({\"'\"+ str(product_grouping) + \"'\"}) AND currVersnFlag =1 AND m.dimCustomerMasterId IS NULL;'''\n",
    "dfCNT = pd.read_sql(dimCustomerMasterIDNull, cnxn3)\n",
    "cnxn3.commit()\n",
    "cursor3.close()\n",
    "dfCNT\n"
   ]
  },
  {
   "cell_type": "code",
   "execution_count": 11,
   "metadata": {},
   "outputs": [
    {
     "name": "stdout",
     "output_type": "stream",
     "text": [
      "No Orphaned Records\n"
     ]
    }
   ],
   "source": [
    "cnt2= dfCNT['cntDimCustomerMasterId']\n",
    "cnt=cnt2[0]\n",
    "if cnt== 0:\n",
    "    print('No Orphaned Records')\n",
    "else:  \n",
    "    print(client_code+' '+product_grouping+' Has'+' '+ str(cnt)+' '+'orphaned dimCustomerMasterId records in factCustomerRetentionScore with dimCustomerMaster table')"
   ]
  },
  {
   "cell_type": "markdown",
   "metadata": {},
   "source": [
    "### select The number of records group by each year for one specific lkupClientId and Product"
   ]
  },
  {
   "cell_type": "code",
   "execution_count": 12,
   "metadata": {},
   "outputs": [
    {
     "data": {
      "text/html": [
       "<div>\n",
       "<style scoped>\n",
       "    .dataframe tbody tr th:only-of-type {\n",
       "        vertical-align: middle;\n",
       "    }\n",
       "\n",
       "    .dataframe tbody tr th {\n",
       "        vertical-align: top;\n",
       "    }\n",
       "\n",
       "    .dataframe thead th {\n",
       "        text-align: right;\n",
       "    }\n",
       "</style>\n",
       "<table border=\"1\" class=\"dataframe\">\n",
       "  <thead>\n",
       "    <tr style=\"text-align: right;\">\n",
       "      <th></th>\n",
       "      <th>seasonYear</th>\n",
       "      <th>cntPerYear</th>\n",
       "    </tr>\n",
       "  </thead>\n",
       "  <tbody>\n",
       "    <tr>\n",
       "      <th>0</th>\n",
       "      <td>2021</td>\n",
       "      <td>333</td>\n",
       "    </tr>\n",
       "  </tbody>\n",
       "</table>\n",
       "</div>"
      ],
      "text/plain": [
       "  seasonYear  cntPerYear\n",
       "0       2021         333"
      ]
     },
     "execution_count": 12,
     "metadata": {},
     "output_type": "execute_result"
    }
   ],
   "source": [
    "# connect to SQL Server.\n",
    "database = stlrdbname\n",
    "cnxn4 = pyodbc.connect('DRIVER={ODBC Driver 17 for SQL Server};SERVER='+server+';DATABASE='+database+';UID='+username+';PWD='+ password)\n",
    "cursor4 = cnxn4.cursor()\n",
    "cntPerYear =  f'''select seasonYear, count(*) cntPerYear from dw.factCustomerRetentionScore where lkupclientid ={client_id}  AND product in({\"'\"+ str(product_grouping) + \"'\"}) AND currVersnFlag =1 group by seasonYear;'''\n",
    "dfcntPerYear = pd.read_sql(cntPerYear, cnxn4)\n",
    "cnxn4.commit()\n",
    "cursor4.close()\n",
    "dfcntPerYear"
   ]
  },
  {
   "cell_type": "markdown",
   "metadata": {},
   "source": [
    "### select number of records which the testSeasonYear in factCustomerRetentionScore table is not equal to facttestyear in ds.productyear_all table where currVersnFlag = 1 and they don't have data for previous year"
   ]
  },
  {
   "cell_type": "code",
   "execution_count": 13,
   "metadata": {},
   "outputs": [
    {
     "data": {
      "text/html": [
       "<div>\n",
       "<style scoped>\n",
       "    .dataframe tbody tr th:only-of-type {\n",
       "        vertical-align: middle;\n",
       "    }\n",
       "\n",
       "    .dataframe tbody tr th {\n",
       "        vertical-align: top;\n",
       "    }\n",
       "\n",
       "    .dataframe thead th {\n",
       "        text-align: right;\n",
       "    }\n",
       "</style>\n",
       "<table border=\"1\" class=\"dataframe\">\n",
       "  <thead>\n",
       "    <tr style=\"text-align: right;\">\n",
       "      <th></th>\n",
       "      <th></th>\n",
       "    </tr>\n",
       "  </thead>\n",
       "  <tbody>\n",
       "    <tr>\n",
       "      <th>0</th>\n",
       "      <td>0</td>\n",
       "    </tr>\n",
       "  </tbody>\n",
       "</table>\n",
       "</div>"
      ],
      "text/plain": [
       "    \n",
       "0  0"
      ]
     },
     "execution_count": 13,
     "metadata": {},
     "output_type": "execute_result"
    }
   ],
   "source": [
    "# connect to SQL Server.\n",
    "database = stlrdbname\n",
    "cnxn5 = pyodbc.connect('DRIVER={ODBC Driver 17 for SQL Server};SERVER='+server+';DATABASE='+database+';UID='+username+';PWD='+ password)\n",
    "cursor4 = cnxn5.cursor()\n",
    "testSeasonYear =  f'''select count(*)  from (select lkupClientId,product,seasonYear testSeasonYear from dw.factCustomerRetentionScore t where t.lkupclientid ={client_id}  AND product in({\"'\"+ str(product_grouping) + \"'\"}) AND currVersnFlag = 1 ) b INNER JOIN [DataScience].[DS].[productyear_all] p on b.lkupClientId=p.lkupclientid AND b.product= p.productgrouping where b.testSeasonYear <> p.facttestyear and p.isprevyearflag = 0;'''\n",
    "dfTestSeasonYear = pd.read_sql(testSeasonYear, cnxn5)\n",
    "cnxn5.commit()\n",
    "cursor4.close()\n",
    "dfTestSeasonYear"
   ]
  }
 ],
 "metadata": {
  "kernelspec": {
   "display_name": "Python 3",
   "language": "python",
   "name": "python3"
  },
  "language_info": {
   "codemirror_mode": {
    "name": "ipython",
    "version": 3
   },
   "file_extension": ".py",
   "mimetype": "text/x-python",
   "name": "python",
   "nbconvert_exporter": "python",
   "pygments_lexer": "ipython3",
   "version": "3.7.10"
  }
 },
 "nbformat": 4,
 "nbformat_minor": 4
}
