{
 "cells": [
  {
   "cell_type": "markdown",
   "metadata": {},
   "source": [
    "# Check Product Propensity Customer Table\n",
    "* StelllarAlgo Data Science\n",
    "* Ryan Kazmerik\n",
    "* Oct 21, 2022"
   ]
  },
  {
   "cell_type": "code",
   "execution_count": 43,
   "metadata": {},
   "outputs": [],
   "source": [
    "import boto3\n",
    "import pandas as pd\n",
    "\n",
    "from shared_utilities import helpers"
   ]
  },
  {
   "cell_type": "code",
   "execution_count": 44,
   "metadata": {},
   "outputs": [
    {
     "name": "stdout",
     "output_type": "stream",
     "text": [
      "Authorized as AROASQ4JELIXYLYV6P4UV:rkazmerik@stellaralgo.com\n"
     ]
    }
   ],
   "source": [
    "session = helpers.get_aws_session(\"Stellaralgo-DataScienceAdmin\")"
   ]
  },
  {
   "cell_type": "code",
   "execution_count": 45,
   "metadata": {},
   "outputs": [
    {
     "name": "stdout",
     "output_type": "stream",
     "text": [
      "Authorized as AROASQ4JELIXYLYV6P4UV:rkazmerik@stellaralgo.com\n"
     ]
    }
   ],
   "source": [
    "CLUSTER = \"prod-app\"\n",
    "DATABASE = \"stlrcanucks\"\n",
    "LKUPCLIENTID = 7\n",
    "\n",
    "CNXN = helpers.get_redshift_connection(CLUSTER, DATABASE)"
   ]
  },
  {
   "cell_type": "code",
   "execution_count": 46,
   "metadata": {},
   "outputs": [
    {
     "name": "stdout",
     "output_type": "stream",
     "text": [
      "DATABASE: stlrcanucks\n",
      "ROWS RETRIEVED: 2213\n",
      "MAX SCORE DATE: 2022-10-21 14:14:33\n"
     ]
    }
   ],
   "source": [
    "sql= f\"\"\"\n",
    "    SELECT * FROM {DATABASE}.dw.customerproductpropensityscores\n",
    "    WHERE scoredate = (\n",
    "        SELECT MAX(scoredate) FROM {DATABASE}.dw.customerproductpropensityscores\n",
    "    )\n",
    "    AND lkupclientid = {LKUPCLIENTID}\n",
    "\"\"\"\n",
    "\n",
    "try:\n",
    "    cursor = CNXN.cursor()\n",
    "    cursor.execute(sql)\n",
    "    data = cursor.fetchall()\n",
    "\n",
    "    cols = [row[0] for row in cursor.description]\n",
    "    df_scores = pd.DataFrame(data=data, columns=cols)\n",
    "\n",
    "    print(f\"DATABASE: {DATABASE}\")\n",
    "    print(f\"ROWS RETRIEVED: {df_scores.shape[0]}\")\n",
    "    print(f\"MAX SCORE DATE: {df_scores['scoredate'].max()}\")\n",
    "\n",
    "except Exception as e:\n",
    "    print(f\"ERROR:, {e}\")\n",
    "    cursor.execute(\"ROLLBACK\")\n",
    "\n",
    "finally:\n",
    "    cursor.close()\n"
   ]
  },
  {
   "cell_type": "code",
   "execution_count": 47,
   "metadata": {},
   "outputs": [
    {
     "data": {
      "text/html": [
       "<div>\n",
       "<style scoped>\n",
       "    .dataframe tbody tr th:only-of-type {\n",
       "        vertical-align: middle;\n",
       "    }\n",
       "\n",
       "    .dataframe tbody tr th {\n",
       "        vertical-align: top;\n",
       "    }\n",
       "\n",
       "    .dataframe thead th {\n",
       "        text-align: right;\n",
       "    }\n",
       "</style>\n",
       "<table border=\"1\" class=\"dataframe\">\n",
       "  <thead>\n",
       "    <tr style=\"text-align: right;\">\n",
       "      <th></th>\n",
       "      <th></th>\n",
       "      <th>product</th>\n",
       "    </tr>\n",
       "    <tr>\n",
       "      <th>product</th>\n",
       "      <th>product_current</th>\n",
       "      <th></th>\n",
       "    </tr>\n",
       "  </thead>\n",
       "  <tbody>\n",
       "    <tr>\n",
       "      <th>Any</th>\n",
       "      <th>Individual</th>\n",
       "      <td>2000</td>\n",
       "    </tr>\n",
       "    <tr>\n",
       "      <th rowspan=\"3\" valign=\"top\">Full Season</th>\n",
       "      <th>Half Season</th>\n",
       "      <td>102</td>\n",
       "    </tr>\n",
       "    <tr>\n",
       "      <th>Mini Pack</th>\n",
       "      <td>11</td>\n",
       "    </tr>\n",
       "    <tr>\n",
       "      <th>Quarter</th>\n",
       "      <td>53</td>\n",
       "    </tr>\n",
       "    <tr>\n",
       "      <th rowspan=\"2\" valign=\"top\">Half Season</th>\n",
       "      <th>Mini Pack</th>\n",
       "      <td>3</td>\n",
       "    </tr>\n",
       "    <tr>\n",
       "      <th>Quarter</th>\n",
       "      <td>29</td>\n",
       "    </tr>\n",
       "    <tr>\n",
       "      <th>Quarter</th>\n",
       "      <th>Mini Pack</th>\n",
       "      <td>15</td>\n",
       "    </tr>\n",
       "  </tbody>\n",
       "</table>\n",
       "</div>"
      ],
      "text/plain": [
       "                             product\n",
       "product     product_current         \n",
       "Any         Individual          2000\n",
       "Full Season Half Season          102\n",
       "            Mini Pack             11\n",
       "            Quarter               53\n",
       "Half Season Mini Pack              3\n",
       "            Quarter               29\n",
       "Quarter     Mini Pack             15"
      ]
     },
     "execution_count": 47,
     "metadata": {},
     "output_type": "execute_result"
    }
   ],
   "source": [
    "df_scores.groupby([\"product\",\"product_current\"]).agg({\n",
    "    \"product\": \"count\",\n",
    "})"
   ]
  },
  {
   "cell_type": "markdown",
   "metadata": {},
   "source": [
    "### Done"
   ]
  }
 ],
 "metadata": {
  "kernelspec": {
   "display_name": "Python 3.8.5 ('stellar')",
   "language": "python",
   "name": "python3"
  },
  "language_info": {
   "codemirror_mode": {
    "name": "ipython",
    "version": 3
   },
   "file_extension": ".py",
   "mimetype": "text/x-python",
   "name": "python",
   "nbconvert_exporter": "python",
   "pygments_lexer": "ipython3",
   "version": "3.8.5"
  },
  "orig_nbformat": 4,
  "vscode": {
   "interpreter": {
    "hash": "89f48dadab51a6b5b48ffc1a9e043c21cefe67453637c3444f3b86917b8aad16"
   }
  }
 },
 "nbformat": 4,
 "nbformat_minor": 2
}
