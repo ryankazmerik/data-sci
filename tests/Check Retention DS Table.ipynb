{
 "cells": [
  {
   "cell_type": "code",
   "execution_count": 12,
   "metadata": {},
   "outputs": [],
   "source": [
    "import boto3\n",
    "import pandas as pd\n",
    "import matplotlib.pyplot as plt\n",
    "\n",
    "from shared_utilities import helpers"
   ]
  },
  {
   "cell_type": "code",
   "execution_count": 3,
   "metadata": {},
   "outputs": [
    {
     "name": "stdout",
     "output_type": "stream",
     "text": [
      "Attempting to automatically open the SSO authorization page in your default browser.\n",
      "If the browser does not open or you wish to use a different device to authorize this request, open the following URL:\n",
      "\n",
      "https://device.sso.us-east-1.amazonaws.com/\n",
      "\n",
      "Then enter the code:\n",
      "\n",
      "QWTK-XFQT\n",
      "Successfully logged into Start URL: https://stellaralgo.awsapps.com/start#/\n"
     ]
    }
   ],
   "source": [
    "! aws sso login --profile Stellaralgo-DataScienceAdmin\n",
    "session = boto3.setup_default_session(profile_name='Stellaralgo-DataScienceAdmin')"
   ]
  },
  {
   "cell_type": "code",
   "execution_count": 13,
   "metadata": {},
   "outputs": [],
   "source": [
    "CLUSTER = \"qa-app\"\n",
    "DATABASE = \"stlrcfl\"\n",
    "LKUPCLIENTID = 101\n",
    "\n",
    "CNXN = helpers.get_redshift_connection(CLUSTER, DATABASE)"
   ]
  },
  {
   "cell_type": "code",
   "execution_count": 14,
   "metadata": {},
   "outputs": [
    {
     "name": "stdout",
     "output_type": "stream",
     "text": [
      "ROWS RETRIEVED: 0\n"
     ]
    }
   ],
   "source": [
    "sql= f\"\"\"\n",
    "    SELECT * FROM {DATABASE}.dw.customerretentionscores\n",
    "    WHERE scoredate = (\n",
    "        SELECT MAX(scoredate) FROM {DATABASE}.dw.customerretentionscores\n",
    "    )\n",
    "    AND lkupclientid = {LKUPCLIENTID}\n",
    "\"\"\"\n",
    "\n",
    "try:\n",
    "    cursor = CNXN.cursor()\n",
    "    cursor.execute(sql)\n",
    "    data = cursor.fetchall()\n",
    "\n",
    "    print(f\"ROWS RETRIEVED: {len(data)}\")\n",
    "\n",
    "except Exception as e:\n",
    "    print(f\"ERROR:, {e}\")\n",
    "    cursor.execute(\"ROLLBACK\")\n",
    "\n",
    "finally:\n",
    "    cursor.close()\n"
   ]
  },
  {
   "cell_type": "code",
   "execution_count": 15,
   "metadata": {},
   "outputs": [
    {
     "data": {
      "text/html": [
       "<div>\n",
       "<style scoped>\n",
       "    .dataframe tbody tr th:only-of-type {\n",
       "        vertical-align: middle;\n",
       "    }\n",
       "\n",
       "    .dataframe tbody tr th {\n",
       "        vertical-align: top;\n",
       "    }\n",
       "\n",
       "    .dataframe thead th {\n",
       "        text-align: right;\n",
       "    }\n",
       "</style>\n",
       "<table border=\"1\" class=\"dataframe\">\n",
       "  <thead>\n",
       "    <tr style=\"text-align: right;\">\n",
       "      <th></th>\n",
       "      <th>customerretentionscoreid</th>\n",
       "      <th>lkupclientid</th>\n",
       "      <th>seasonyear</th>\n",
       "      <th>sascore</th>\n",
       "      <th>mostrecentattendance</th>\n",
       "      <th>attendancepercentage</th>\n",
       "      <th>tenuredays</th>\n",
       "      <th>product</th>\n",
       "      <th>scoredate</th>\n",
       "      <th>updatedatetime</th>\n",
       "      <th>isdeleted</th>\n",
       "      <th>dimcustomermasterid</th>\n",
       "    </tr>\n",
       "  </thead>\n",
       "  <tbody>\n",
       "  </tbody>\n",
       "</table>\n",
       "</div>"
      ],
      "text/plain": [
       "Empty DataFrame\n",
       "Columns: [customerretentionscoreid, lkupclientid, seasonyear, sascore, mostrecentattendance, attendancepercentage, tenuredays, product, scoredate, updatedatetime, isdeleted, dimcustomermasterid]\n",
       "Index: []"
      ]
     },
     "execution_count": 15,
     "metadata": {},
     "output_type": "execute_result"
    }
   ],
   "source": [
    "cols = [row[0] for row in cursor.description]\n",
    "df_scores = pd.DataFrame(data=data, columns=cols)\n",
    "\n",
    "df_scores.head()"
   ]
  },
  {
   "cell_type": "code",
   "execution_count": 16,
   "metadata": {},
   "outputs": [
    {
     "data": {
      "text/plain": [
       "Text(0.5, 0, 'SA Score')"
      ]
     },
     "execution_count": 16,
     "metadata": {},
     "output_type": "execute_result"
    },
    {
     "data": {
      "image/png": "[encoded data removed]",
      "text/plain": [
       "<Figure size 576x396 with 1 Axes>"
      ]
     },
     "metadata": {},
     "output_type": "display_data"
    }
   ],
   "source": [
    "plt.hist(df_scores['sascore'], bins=20, edgecolor='black', color='dodgerblue')\n",
    "plt.title(\"Customer Retention Table Scores (dw.customerretentionscores)\")\n",
    "plt.ylabel('No. Fans')\n",
    "plt.xlabel('SA Score')"
   ]
  },
  {
   "cell_type": "markdown",
   "metadata": {},
   "source": [
    "### Done"
   ]
  }
 ],
 "metadata": {
  "kernelspec": {
   "display_name": "Python 3.8.5 ('stellar')",
   "language": "python",
   "name": "python3"
  },
  "language_info": {
   "codemirror_mode": {
    "name": "ipython",
    "version": 3
   },
   "file_extension": ".py",
   "mimetype": "text/x-python",
   "name": "python",
   "nbconvert_exporter": "python",
   "pygments_lexer": "ipython3",
   "version": "3.8.5"
  },
  "orig_nbformat": 4,
  "vscode": {
   "interpreter": {
    "hash": "89f48dadab51a6b5b48ffc1a9e043c21cefe67453637c3444f3b86917b8aad16"
   }
  }
 },
 "nbformat": 4,
 "nbformat_minor": 2
}
