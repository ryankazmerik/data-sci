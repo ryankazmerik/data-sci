{
 "cells": [
  {
   "cell_type": "markdown",
   "id": "7794715f",
   "metadata": {},
   "source": [
    "# Check Data Availability\n",
    "This notebooks checks to see what years of data are available from a specified stored proc, and team database."
   ]
  },
  {
   "cell_type": "code",
   "execution_count": 23,
   "id": "9bb20612",
   "metadata": {},
   "outputs": [],
   "source": [
    "import pandas as pd\n",
    "\n",
    "from shared_utilities import helpers"
   ]
  },
  {
   "cell_type": "markdown",
   "id": "ee1c2041",
   "metadata": {},
   "source": [
    "### Create a connection to RedShift PROD:"
   ]
  },
  {
   "cell_type": "code",
   "execution_count": 24,
   "id": "0dba11fa",
   "metadata": {},
   "outputs": [
    {
     "name": "stdout",
     "output_type": "stream",
     "text": [
      "Attempting to automatically open the SSO authorization page in your default browser.\n",
      "If the browser does not open or you wish to use a different device to authorize this request, open the following URL:\n",
      "\n",
      "https://device.sso.us-east-1.amazonaws.com/\n",
      "\n",
      "Then enter the code:\n",
      "\n",
      "DGVR-GZCR\n",
      "Successfully logged into Start URL: https://stellaralgo.awsapps.com/start#/\n",
      "Authorized as AROASSH5KEZ7FS7KUJUD3:rkazmerik@stellaralgo.com\n"
     ]
    },
    {
     "data": {
      "text/plain": [
       "Session(region_name='us-east-1')"
      ]
     },
     "execution_count": 24,
     "metadata": {},
     "output_type": "execute_result"
    }
   ],
   "source": [
    "helpers.get_aws_session(\"Explore-US-DataScienceAdmin\")"
   ]
  },
  {
   "cell_type": "markdown",
   "id": "7cab863c",
   "metadata": {},
   "source": [
    "### Run the stored proc to get retention training and inference datasets:"
   ]
  },
  {
   "cell_type": "code",
   "execution_count": 25,
   "id": "b69dae93",
   "metadata": {},
   "outputs": [
    {
     "data": {
      "text/plain": [
       "(9371, 24)"
      ]
     },
     "execution_count": 25,
     "metadata": {},
     "output_type": "execute_result"
    }
   ],
   "source": [
    "df_retention = helpers.get_retention_dataset(\n",
    "    cluster=\"prod-app\",\n",
    "    database=\"stlrrays\",\n",
    "    lkupclientid=45,\n",
    "    start_year=2018,\n",
    "    end_year=2022\n",
    ")\n",
    "\n",
    "df_retention.shape"
   ]
  },
  {
   "cell_type": "markdown",
   "id": "03d6dd9a",
   "metadata": {},
   "source": [
    "### Check how much data we have for each season:"
   ]
  },
  {
   "cell_type": "code",
   "execution_count": 26,
   "id": "737bc58d",
   "metadata": {},
   "outputs": [
    {
     "name": "stdout",
     "output_type": "stream",
     "text": [
      "DATA AVAILABILITY REPORT:\n",
      "2022    3116\n",
      "2021    2593\n",
      "2019    1838\n",
      "2018    1824\n",
      "Name: year, dtype: int64\n"
     ]
    }
   ],
   "source": [
    "if df_retention.shape[0] > 0:\n",
    "    print(f\"DATA AVAILABILITY REPORT:\")\n",
    "    print(df_retention[\"year\"].value_counts().sort_index(ascending=False))\n",
    "\n",
    "else:\n",
    "    print(f\"NO ROWS AVAILABLE: {df_retention.shape[0]} !\")\n"
   ]
  },
  {
   "cell_type": "markdown",
   "id": "3e93b50a",
   "metadata": {},
   "source": [
    "### Done"
   ]
  }
 ],
 "metadata": {
  "interpreter": {
   "hash": "89f48dadab51a6b5b48ffc1a9e043c21cefe67453637c3444f3b86917b8aad16"
  },
  "kernelspec": {
   "display_name": "Python 3 (ipykernel)",
   "language": "python",
   "name": "python3"
  },
  "language_info": {
   "codemirror_mode": {
    "name": "ipython",
    "version": 3
   },
   "file_extension": ".py",
   "mimetype": "text/x-python",
   "name": "python",
   "nbconvert_exporter": "python",
   "pygments_lexer": "ipython3",
   "version": "3.8.5"
  }
 },
 "nbformat": 4,
 "nbformat_minor": 5
}
