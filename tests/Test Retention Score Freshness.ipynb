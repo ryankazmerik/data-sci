{
 "cells": [
  {
   "cell_type": "markdown",
   "id": "7794715f",
   "metadata": {},
   "source": [
    "# Test - Check Retention Score Dates\n",
    "* StelllarAlgo Data Science\n",
    "* Ryan Kazmerik & Nakisa Rad\n",
    "* Apr 30, 2022"
   ]
  },
  {
   "cell_type": "code",
   "execution_count": 23,
   "id": "9bb20612",
   "metadata": {},
   "outputs": [],
   "source": [
    "import boto3 \n",
    "import json\n",
    "import pandas as pd\n",
    "import psycopg2\n",
    "import pytz\n",
    "\n",
    "from datetime import datetime, timedelta\n",
    "from shared_utilities import helpers\n",
    "\n",
    "pd.options.display.max_columns = 100\n",
    "pd.options.display.max_rows = 100"
   ]
  },
  {
   "cell_type": "code",
   "execution_count": 8,
   "id": "0dba11fa",
   "metadata": {},
   "outputs": [
    {
     "name": "stdout",
     "output_type": "stream",
     "text": [
      "Attempting to automatically open the SSO authorization page in your default browser.\n",
      "If the browser does not open or you wish to use a different device to authorize this request, open the following URL:\n",
      "\n",
      "https://device.sso.us-east-1.amazonaws.com/\n",
      "\n",
      "Then enter the code:\n",
      "\n",
      "GXBT-PZFT\n",
      "Successfully logged into Start URL: https://stellaralgo.awsapps.com/start#/\n"
     ]
    }
   ],
   "source": [
    "! aws sso login --profile Stellaralgo-DataScienceAdmin"
   ]
  },
  {
   "cell_type": "code",
   "execution_count": 9,
   "id": "b69dae93",
   "metadata": {},
   "outputs": [],
   "source": [
    "session = boto3.setup_default_session(profile_name='Stellaralgo-DataScienceAdmin')"
   ]
  },
  {
   "cell_type": "markdown",
   "id": "8f7451e2",
   "metadata": {},
   "source": [
    "### Let's create a list of team db's that we'd like to check for fresh scores:"
   ]
  },
  {
   "cell_type": "code",
   "execution_count": 20,
   "id": "dc0486db",
   "metadata": {},
   "outputs": [
    {
     "name": "stdout",
     "output_type": "stream",
     "text": [
      "prod-app stlrahl\n",
      "prod-app stlrahl\n",
      "prod-app stlrcfl\n",
      "prod-app-elbu stlrechleverblades\n",
      "prod-app stlrahl\n",
      "prod-app stlrmilb\n",
      "prod-app stlrmilb\n",
      "prod-app stlrmilb\n",
      "prod-app stlrmilb\n",
      "prod-app stlrmilb\n",
      "prod-app stlrmilb\n",
      "prod-app stlrmilb\n",
      "prod-app stlrmilb\n",
      "prod-app stlrmilb\n",
      "prod-app stlrmilb\n",
      "prod-app stlrmilb\n",
      "prod-app stlrmilb\n",
      "prod-app stlrmilb\n",
      "prod-app stlrmilb\n",
      "prod-app stlrmilb\n",
      "prod-app stlrmilb\n",
      "prod-app stlrmilb\n",
      "prod-app stlrmilb\n",
      "prod-app-elbu stlrmilbseadogs\n",
      "prod-app-elbu stlrmilbwindsurge\n",
      "prod-app stlrrays\n",
      "prod-app stlrmls\n",
      "prod-app stlrmls\n",
      "prod-app stlrmls\n",
      "prod-app stlrtrailblazers\n",
      "prod-app stlrcanucks\n",
      "prod-app stlrcoyotes\n",
      "prod-app stlrflames\n",
      "prod-app stlrnhlpanthers\n",
      "prod-app stlrvgk\n",
      "prod-app stlrnll\n",
      "prod-app-elbu stlrusllocomotive\n",
      "prod-app stlrwhl\n"
     ]
    },
    {
     "data": {
      "text/plain": [
       "(38, 6)"
      ]
     },
     "execution_count": 20,
     "metadata": {},
     "output_type": "execute_result"
    }
   ],
   "source": [
    "teams = json.load(open('../config/teamsconfig.json'))\n",
    "\n",
    "results = []\n",
    "for team in teams:\n",
    "\n",
    "    cnxn = helpers.get_redshift_connection(team['cluster'], team['dbname'])\n",
    "    cursor = cnxn.cursor()\n",
    "\n",
    "    sql = f\"\"\"\n",
    "        SELECT count(*), lkupclientid, MAX(scoredate) as max_score_date\n",
    "        FROM {team['dbname'].lower()}.dw.customerretentionscores \n",
    "        WHERE lkupclientid = {team['lkupclientid']}\n",
    "        GROUP BY lkupclientid\n",
    "    \"\"\"\n",
    "\n",
    "    cursor.execute(sql)\n",
    "\n",
    "    df = pd.DataFrame(cursor.fetchall(), columns=[desc[0] for desc in cursor.description])\n",
    "    df[\"cluster\"] = team[\"cluster\"]\n",
    "    df[\"dbname\"] = team[\"dbname\"]\n",
    "    df[\"lkupclientid\"] = team[\"lkupclientid\"]\n",
    "    df[\"name\"] = team[\"name\"]\n",
    "    \n",
    "    if len(df) > 0:\n",
    "        results.append(df)\n",
    "    else:\n",
    "        print(f\" > NO RETENTION SCORES FOUND FOR: {team['name']} - {team['clientcode']} ({team['lkupclientid']})\")\n",
    "\n",
    "df_results = pd.concat(results)\n",
    "\n",
    "df_results[\"count\"] = pd.to_numeric(df_results[\"count\"])\n",
    "df_results[\"max_score_date\"] = pd.to_datetime(df_results[\"max_score_date\"])\n",
    "\n",
    "df_results.shape"
   ]
  },
  {
   "cell_type": "markdown",
   "id": "e6263e6f",
   "metadata": {},
   "source": [
    "### Now we can loop through each datatbase, connect to it and check the retention scores:"
   ]
  },
  {
   "cell_type": "code",
   "execution_count": 22,
   "id": "da641df1",
   "metadata": {},
   "outputs": [
    {
     "name": "stdout",
     "output_type": "stream",
     "text": [
      "STALE TEAMS: 0\n",
      "TARGET DAY: 2022-08-01\n"
     ]
    },
    {
     "data": {
      "text/html": [
       "<div>\n",
       "<style scoped>\n",
       "    .dataframe tbody tr th:only-of-type {\n",
       "        vertical-align: middle;\n",
       "    }\n",
       "\n",
       "    .dataframe tbody tr th {\n",
       "        vertical-align: top;\n",
       "    }\n",
       "\n",
       "    .dataframe thead th {\n",
       "        text-align: right;\n",
       "    }\n",
       "</style>\n",
       "<table border=\"1\" class=\"dataframe\">\n",
       "  <thead>\n",
       "    <tr style=\"text-align: right;\">\n",
       "      <th></th>\n",
       "      <th>count</th>\n",
       "      <th>lkupclientid</th>\n",
       "      <th>max_score_date</th>\n",
       "      <th>cluster</th>\n",
       "      <th>dbname</th>\n",
       "      <th>name</th>\n",
       "    </tr>\n",
       "  </thead>\n",
       "  <tbody>\n",
       "  </tbody>\n",
       "</table>\n",
       "</div>"
      ],
      "text/plain": [
       "Empty DataFrame\n",
       "Columns: [count, lkupclientid, max_score_date, cluster, dbname, name]\n",
       "Index: []"
      ]
     },
     "execution_count": 22,
     "metadata": {},
     "output_type": "execute_result"
    }
   ],
   "source": [
    "today = datetime.now(pytz.timezone(\"MST\")).strftime(\"%Y-%m-%d\")\n",
    "\n",
    "days_to_sub = 1\n",
    "target_day = (datetime.today() - timedelta(days_to_sub)).strftime(\"%Y-%m-%d\")\n",
    "\n",
    "df_stale = df_results[df_results[\"max_score_date\"] < target_day]\n",
    "df_stale = df_stale.sort_values(by='name')\n",
    "\n",
    "print(f\"STALE TEAMS: {len(df_stale)}\")\n",
    "print(f\"TARGET DAY: {target_day}\")\n",
    "df_stale"
   ]
  },
  {
   "cell_type": "markdown",
   "id": "3e93b50a",
   "metadata": {},
   "source": [
    "### Done"
   ]
  }
 ],
 "metadata": {
  "interpreter": {
   "hash": "89f48dadab51a6b5b48ffc1a9e043c21cefe67453637c3444f3b86917b8aad16"
  },
  "kernelspec": {
   "display_name": "Python 3 (ipykernel)",
   "language": "python",
   "name": "python3"
  },
  "language_info": {
   "codemirror_mode": {
    "name": "ipython",
    "version": 3
   },
   "file_extension": ".py",
   "mimetype": "text/x-python",
   "name": "python",
   "nbconvert_exporter": "python",
   "pygments_lexer": "ipython3",
   "version": "3.8.5"
  }
 },
 "nbformat": 4,
 "nbformat_minor": 5
}
