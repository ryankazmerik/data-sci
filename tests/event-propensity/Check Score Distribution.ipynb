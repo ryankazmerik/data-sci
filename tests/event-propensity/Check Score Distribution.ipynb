{
 "cells": [
  {
   "cell_type": "markdown",
   "metadata": {},
   "source": [
    "# Event Propensity - Check Score Distribution\n",
    "* Ryan Kazmerik\n",
    "* StellarAlgo Data Science\n",
    "* Oct 15, 2022"
   ]
  },
  {
   "cell_type": "code",
   "execution_count": 1,
   "metadata": {},
   "outputs": [],
   "source": [
    "import matplotlib.pyplot as plt\n",
    "import seaborn as sns\n",
    "import pandas as pd\n",
    "\n",
    "from shared_utilities import helpers"
   ]
  },
  {
   "cell_type": "markdown",
   "metadata": {},
   "source": [
    "### Let's import some scores from SageMaker and have a look at the data:"
   ]
  },
  {
   "cell_type": "code",
   "execution_count": 2,
   "metadata": {},
   "outputs": [
    {
     "data": {
      "text/plain": [
       "(2296640, 13)"
      ]
     },
     "execution_count": 2,
     "metadata": {},
     "output_type": "execute_result"
    }
   ],
   "source": [
    "df_scores = pd.read_csv(\"./data/JetsEP_2022-10-17.csv\")\n",
    "\n",
    "df_scores.shape"
   ]
  },
  {
   "cell_type": "code",
   "execution_count": 3,
   "metadata": {},
   "outputs": [
    {
     "data": {
      "text/html": [
       "<div>\n",
       "<style scoped>\n",
       "    .dataframe tbody tr th:only-of-type {\n",
       "        vertical-align: middle;\n",
       "    }\n",
       "\n",
       "    .dataframe tbody tr th {\n",
       "        vertical-align: top;\n",
       "    }\n",
       "\n",
       "    .dataframe thead th {\n",
       "        text-align: right;\n",
       "    }\n",
       "</style>\n",
       "<table border=\"1\" class=\"dataframe\">\n",
       "  <thead>\n",
       "    <tr style=\"text-align: right;\">\n",
       "      <th></th>\n",
       "      <th>daysout</th>\n",
       "      <th>dimcustomermasterid</th>\n",
       "      <th>distancetovenue</th>\n",
       "      <th>eventdate</th>\n",
       "      <th>events_purchased</th>\n",
       "      <th>frequency_opponent</th>\n",
       "      <th>frequency_eventday</th>\n",
       "      <th>frequency_eventtime</th>\n",
       "      <th>recent_openrate</th>\n",
       "      <th>recent_clickrate</th>\n",
       "      <th>sascore</th>\n",
       "      <th>scoredate</th>\n",
       "      <th>tenure</th>\n",
       "    </tr>\n",
       "  </thead>\n",
       "  <tbody>\n",
       "    <tr>\n",
       "      <th>0</th>\n",
       "      <td>Day Of</td>\n",
       "      <td>142151003</td>\n",
       "      <td>NaN</td>\n",
       "      <td>2022-10-22</td>\n",
       "      <td>0</td>\n",
       "      <td>0.0</td>\n",
       "      <td>0.0</td>\n",
       "      <td>0.0000</td>\n",
       "      <td>NaN</td>\n",
       "      <td>NaN</td>\n",
       "      <td>2.19</td>\n",
       "      <td>2022-10-17</td>\n",
       "      <td>3298</td>\n",
       "    </tr>\n",
       "    <tr>\n",
       "      <th>1</th>\n",
       "      <td>1 to 3 Days Out</td>\n",
       "      <td>142151003</td>\n",
       "      <td>NaN</td>\n",
       "      <td>2022-10-22</td>\n",
       "      <td>0</td>\n",
       "      <td>0.0</td>\n",
       "      <td>0.0</td>\n",
       "      <td>0.0000</td>\n",
       "      <td>NaN</td>\n",
       "      <td>NaN</td>\n",
       "      <td>1.99</td>\n",
       "      <td>2022-10-17</td>\n",
       "      <td>3298</td>\n",
       "    </tr>\n",
       "    <tr>\n",
       "      <th>2</th>\n",
       "      <td>4 to 7 Days Out</td>\n",
       "      <td>142151003</td>\n",
       "      <td>NaN</td>\n",
       "      <td>2022-10-22</td>\n",
       "      <td>0</td>\n",
       "      <td>0.0</td>\n",
       "      <td>0.0</td>\n",
       "      <td>0.0000</td>\n",
       "      <td>NaN</td>\n",
       "      <td>NaN</td>\n",
       "      <td>1.22</td>\n",
       "      <td>2022-10-17</td>\n",
       "      <td>3298</td>\n",
       "    </tr>\n",
       "    <tr>\n",
       "      <th>3</th>\n",
       "      <td>Over a Week</td>\n",
       "      <td>142151003</td>\n",
       "      <td>NaN</td>\n",
       "      <td>2022-10-22</td>\n",
       "      <td>0</td>\n",
       "      <td>0.0</td>\n",
       "      <td>0.0</td>\n",
       "      <td>0.0000</td>\n",
       "      <td>NaN</td>\n",
       "      <td>NaN</td>\n",
       "      <td>8.46</td>\n",
       "      <td>2022-10-17</td>\n",
       "      <td>3298</td>\n",
       "    </tr>\n",
       "    <tr>\n",
       "      <th>4</th>\n",
       "      <td>Day Of</td>\n",
       "      <td>142151001</td>\n",
       "      <td>NaN</td>\n",
       "      <td>2022-10-22</td>\n",
       "      <td>1</td>\n",
       "      <td>0.0</td>\n",
       "      <td>0.0</td>\n",
       "      <td>0.0032</td>\n",
       "      <td>NaN</td>\n",
       "      <td>NaN</td>\n",
       "      <td>2.21</td>\n",
       "      <td>2022-10-17</td>\n",
       "      <td>3308</td>\n",
       "    </tr>\n",
       "  </tbody>\n",
       "</table>\n",
       "</div>"
      ],
      "text/plain": [
       "           daysout  dimcustomermasterid  distancetovenue   eventdate  \\\n",
       "0           Day Of            142151003              NaN  2022-10-22   \n",
       "1  1 to 3 Days Out            142151003              NaN  2022-10-22   \n",
       "2  4 to 7 Days Out            142151003              NaN  2022-10-22   \n",
       "3      Over a Week            142151003              NaN  2022-10-22   \n",
       "4           Day Of            142151001              NaN  2022-10-22   \n",
       "\n",
       "   events_purchased  frequency_opponent  frequency_eventday  \\\n",
       "0                 0                 0.0                 0.0   \n",
       "1                 0                 0.0                 0.0   \n",
       "2                 0                 0.0                 0.0   \n",
       "3                 0                 0.0                 0.0   \n",
       "4                 1                 0.0                 0.0   \n",
       "\n",
       "   frequency_eventtime  recent_openrate  recent_clickrate  sascore  \\\n",
       "0               0.0000              NaN               NaN     2.19   \n",
       "1               0.0000              NaN               NaN     1.99   \n",
       "2               0.0000              NaN               NaN     1.22   \n",
       "3               0.0000              NaN               NaN     8.46   \n",
       "4               0.0032              NaN               NaN     2.21   \n",
       "\n",
       "    scoredate  tenure  \n",
       "0  2022-10-17    3298  \n",
       "1  2022-10-17    3298  \n",
       "2  2022-10-17    3298  \n",
       "3  2022-10-17    3298  \n",
       "4  2022-10-17    3308  "
      ]
     },
     "execution_count": 3,
     "metadata": {},
     "output_type": "execute_result"
    }
   ],
   "source": [
    "df_scores.head()"
   ]
  },
  {
   "cell_type": "markdown",
   "metadata": {},
   "source": [
    "### Let's visualize the scores in a histogram plot to see the distribution:"
   ]
  },
  {
   "cell_type": "code",
   "execution_count": 4,
   "metadata": {},
   "outputs": [
    {
     "data": {
      "text/plain": [
       "Text(0.5, 1.0, 'Event Propensity Scores')"
      ]
     },
     "execution_count": 4,
     "metadata": {},
     "output_type": "execute_result"
    },
    {
     "data": {
      "image/png": "[encoded data removed]",
      "text/plain": [
       "<Figure size 640x480 with 1 Axes>"
      ]
     },
     "metadata": {},
     "output_type": "display_data"
    }
   ],
   "source": [
    "sns.histplot(data=df_scores, x='sascore', bins= 20, kde=True);\n",
    "plt.title(\"Event Propensity Scores\")"
   ]
  },
  {
   "cell_type": "markdown",
   "metadata": {},
   "source": []
  }
 ],
 "metadata": {
  "kernelspec": {
   "display_name": "Python 3.8.5 ('stellar')",
   "language": "python",
   "name": "python3"
  },
  "language_info": {
   "codemirror_mode": {
    "name": "ipython",
    "version": 3
   },
   "file_extension": ".py",
   "mimetype": "text/x-python",
   "name": "python",
   "nbconvert_exporter": "python",
   "pygments_lexer": "ipython3",
   "version": "3.8.5"
  },
  "orig_nbformat": 4,
  "vscode": {
   "interpreter": {
    "hash": "89f48dadab51a6b5b48ffc1a9e043c21cefe67453637c3444f3b86917b8aad16"
   }
  }
 },
 "nbformat": 4,
 "nbformat_minor": 2
}
