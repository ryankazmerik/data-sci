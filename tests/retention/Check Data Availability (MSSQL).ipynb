{
 "cells": [
  {
   "cell_type": "markdown",
   "metadata": {},
   "source": [
    "# Check Data Availability (MSSQL)\n",
    "* StelllarAlgo Data Science\n",
    "* Ryan Kazmerik & Nakisa Rad\n",
    "* Apr 26, 2022"
   ]
  },
  {
   "cell_type": "code",
   "execution_count": 1,
   "metadata": {},
   "outputs": [],
   "source": [
    "import getpass\n",
    "import pandas as pd\n",
    "import pyodbc"
   ]
  },
  {
   "cell_type": "markdown",
   "metadata": {},
   "source": [
    "### Create a connection to MSSQL PROD:"
   ]
  },
  {
   "cell_type": "code",
   "execution_count": 3,
   "metadata": {},
   "outputs": [],
   "source": [
    "# connect to SQL Server.\n",
    "SERVER = '54.164.224.129' \n",
    "DATABASE = 'datascience' \n",
    "USERNAME = 'dsAdminWrite' \n",
    "PASSWORD = getpass.getpass(prompt='Enter your password')\n",
    "CNXN = pyodbc.connect('DRIVER={ODBC Driver 17 for SQL Server};SERVER='+SERVER+';DATABASE='+DATABASE+';UID='+USERNAME+';PWD='+ PASSWORD)"
   ]
  },
  {
   "cell_type": "markdown",
   "metadata": {},
   "source": [
    "### Run the stored proc to get retention training and inference datasets:"
   ]
  },
  {
   "cell_type": "code",
   "execution_count": 4,
   "metadata": {},
   "outputs": [
    {
     "name": "stderr",
     "output_type": "stream",
     "text": [
      "/opt/miniconda3/envs/stellar/lib/python3.8/site-packages/pandas/io/sql.py:762: UserWarning: pandas only support SQLAlchemy connectable(engine/connection) ordatabase string URI or sqlite3 DBAPI2 connectionother DBAPI2 objects are not tested, please consider using SQLAlchemy\n",
      "  warnings.warn(\n"
     ]
    },
    {
     "name": "stdout",
     "output_type": "stream",
     "text": [
      "TOTAL ROWS: 8098\n"
     ]
    },
    {
     "data": {
      "text/html": [
       "<div>\n",
       "<style scoped>\n",
       "    .dataframe tbody tr th:only-of-type {\n",
       "        vertical-align: middle;\n",
       "    }\n",
       "\n",
       "    .dataframe tbody tr th {\n",
       "        vertical-align: top;\n",
       "    }\n",
       "\n",
       "    .dataframe thead th {\n",
       "        text-align: right;\n",
       "    }\n",
       "</style>\n",
       "<table border=\"1\" class=\"dataframe\">\n",
       "  <thead>\n",
       "    <tr style=\"text-align: right;\">\n",
       "      <th></th>\n",
       "      <th>lkupClientId</th>\n",
       "      <th>dimCustomerMasterId</th>\n",
       "      <th>year</th>\n",
       "      <th>productGrouping</th>\n",
       "      <th>totalSpent</th>\n",
       "      <th>recentDate</th>\n",
       "      <th>attendancePercent</th>\n",
       "      <th>renewedBeforeDays</th>\n",
       "      <th>isBuyer</th>\n",
       "      <th>source_tenure</th>\n",
       "      <th>...</th>\n",
       "      <th>maritalStatus</th>\n",
       "      <th>lengthOfResidenceInYrs</th>\n",
       "      <th>annualHHIncome</th>\n",
       "      <th>education</th>\n",
       "      <th>urbanicity</th>\n",
       "      <th>credits_after_refund</th>\n",
       "      <th>is_Lockdown</th>\n",
       "      <th>NumberofGamesPerSeason</th>\n",
       "      <th>CNTPostponedGames</th>\n",
       "      <th>isNextYear_Buyer</th>\n",
       "    </tr>\n",
       "  </thead>\n",
       "  <tbody>\n",
       "    <tr>\n",
       "      <th>0</th>\n",
       "      <td>45</td>\n",
       "      <td>2404</td>\n",
       "      <td>2017</td>\n",
       "      <td>Full Season</td>\n",
       "      <td>14350.00</td>\n",
       "      <td>2017-09-29</td>\n",
       "      <td>0.698758</td>\n",
       "      <td>124</td>\n",
       "      <td>TRUE</td>\n",
       "      <td>6935</td>\n",
       "      <td>...</td>\n",
       "      <td>1</td>\n",
       "      <td>None</td>\n",
       "      <td>None</td>\n",
       "      <td>None</td>\n",
       "      <td>None</td>\n",
       "      <td>0.0</td>\n",
       "      <td>0</td>\n",
       "      <td>80</td>\n",
       "      <td>None</td>\n",
       "      <td>1</td>\n",
       "    </tr>\n",
       "    <tr>\n",
       "      <th>1</th>\n",
       "      <td>45</td>\n",
       "      <td>3726</td>\n",
       "      <td>2017</td>\n",
       "      <td>Partial Season</td>\n",
       "      <td>295.50</td>\n",
       "      <td>2017-08-04</td>\n",
       "      <td>0.700000</td>\n",
       "      <td>124</td>\n",
       "      <td>TRUE</td>\n",
       "      <td>5840</td>\n",
       "      <td>...</td>\n",
       "      <td>1</td>\n",
       "      <td>None</td>\n",
       "      <td>None</td>\n",
       "      <td>None</td>\n",
       "      <td>None</td>\n",
       "      <td>0.0</td>\n",
       "      <td>0</td>\n",
       "      <td>80</td>\n",
       "      <td>None</td>\n",
       "      <td>1</td>\n",
       "    </tr>\n",
       "    <tr>\n",
       "      <th>2</th>\n",
       "      <td>45</td>\n",
       "      <td>4124</td>\n",
       "      <td>2017</td>\n",
       "      <td>Partial Season</td>\n",
       "      <td>850.00</td>\n",
       "      <td>2017-10-01</td>\n",
       "      <td>1.000000</td>\n",
       "      <td>129</td>\n",
       "      <td>TRUE</td>\n",
       "      <td>3285</td>\n",
       "      <td>...</td>\n",
       "      <td>1</td>\n",
       "      <td>None</td>\n",
       "      <td>None</td>\n",
       "      <td>None</td>\n",
       "      <td>None</td>\n",
       "      <td>0.0</td>\n",
       "      <td>0</td>\n",
       "      <td>80</td>\n",
       "      <td>None</td>\n",
       "      <td>1</td>\n",
       "    </tr>\n",
       "    <tr>\n",
       "      <th>3</th>\n",
       "      <td>45</td>\n",
       "      <td>11380</td>\n",
       "      <td>2017</td>\n",
       "      <td>Partial Season</td>\n",
       "      <td>1000.50</td>\n",
       "      <td>2017-09-30</td>\n",
       "      <td>0.619048</td>\n",
       "      <td>9</td>\n",
       "      <td>TRUE</td>\n",
       "      <td>4745</td>\n",
       "      <td>...</td>\n",
       "      <td>1</td>\n",
       "      <td>None</td>\n",
       "      <td>None</td>\n",
       "      <td>None</td>\n",
       "      <td>None</td>\n",
       "      <td>0.0</td>\n",
       "      <td>0</td>\n",
       "      <td>80</td>\n",
       "      <td>None</td>\n",
       "      <td>0</td>\n",
       "    </tr>\n",
       "    <tr>\n",
       "      <th>4</th>\n",
       "      <td>45</td>\n",
       "      <td>23237</td>\n",
       "      <td>2017</td>\n",
       "      <td>Partial Season</td>\n",
       "      <td>287.75</td>\n",
       "      <td>2017-08-08</td>\n",
       "      <td>0.583333</td>\n",
       "      <td>140</td>\n",
       "      <td>TRUE</td>\n",
       "      <td>5475</td>\n",
       "      <td>...</td>\n",
       "      <td>1</td>\n",
       "      <td>None</td>\n",
       "      <td>None</td>\n",
       "      <td>None</td>\n",
       "      <td>None</td>\n",
       "      <td>0.0</td>\n",
       "      <td>0</td>\n",
       "      <td>80</td>\n",
       "      <td>None</td>\n",
       "      <td>0</td>\n",
       "    </tr>\n",
       "  </tbody>\n",
       "</table>\n",
       "<p>5 rows × 53 columns</p>\n",
       "</div>"
      ],
      "text/plain": [
       "   lkupClientId  dimCustomerMasterId  year productGrouping  totalSpent  \\\n",
       "0            45                 2404  2017     Full Season    14350.00   \n",
       "1            45                 3726  2017  Partial Season      295.50   \n",
       "2            45                 4124  2017  Partial Season      850.00   \n",
       "3            45                11380  2017  Partial Season     1000.50   \n",
       "4            45                23237  2017  Partial Season      287.75   \n",
       "\n",
       "   recentDate  attendancePercent  renewedBeforeDays isBuyer  source_tenure  \\\n",
       "0  2017-09-29           0.698758                124    TRUE           6935   \n",
       "1  2017-08-04           0.700000                124    TRUE           5840   \n",
       "2  2017-10-01           1.000000                129    TRUE           3285   \n",
       "3  2017-09-30           0.619048                  9    TRUE           4745   \n",
       "4  2017-08-08           0.583333                140    TRUE           5475   \n",
       "\n",
       "   ...  maritalStatus  lengthOfResidenceInYrs  annualHHIncome  education  \\\n",
       "0  ...              1                    None            None       None   \n",
       "1  ...              1                    None            None       None   \n",
       "2  ...              1                    None            None       None   \n",
       "3  ...              1                    None            None       None   \n",
       "4  ...              1                    None            None       None   \n",
       "\n",
       "   urbanicity  credits_after_refund  is_Lockdown  NumberofGamesPerSeason  \\\n",
       "0        None                   0.0            0                      80   \n",
       "1        None                   0.0            0                      80   \n",
       "2        None                   0.0            0                      80   \n",
       "3        None                   0.0            0                      80   \n",
       "4        None                   0.0            0                      80   \n",
       "\n",
       "   CNTPostponedGames  isNextYear_Buyer  \n",
       "0               None                 1  \n",
       "1               None                 1  \n",
       "2               None                 1  \n",
       "3               None                 0  \n",
       "4               None                 0  \n",
       "\n",
       "[5 rows x 53 columns]"
      ]
     },
     "execution_count": 4,
     "metadata": {},
     "output_type": "execute_result"
    }
   ],
   "source": [
    "lkupclientid = 45 # rays\n",
    "dbname = 'stlrRays'\n",
    "\n",
    "cursor = CNXN.cursor()\n",
    "\n",
    "storedProc = (\n",
    "    f\"\"\"Exec {dbname}.[ds].[getRetentionScoringModelData] {lkupclientid}\"\"\"\n",
    ")\n",
    "\n",
    "df = pd.read_sql(storedProc, CNXN)\n",
    "\n",
    "CNXN.commit()\n",
    "cursor.close()\n",
    "\n",
    "print(f\"TOTAL ROWS: {df.shape[0]}\")\n",
    "df.head()"
   ]
  },
  {
   "cell_type": "markdown",
   "metadata": {},
   "source": [
    "### Check how much data we have for each season:"
   ]
  },
  {
   "cell_type": "code",
   "execution_count": 4,
   "metadata": {},
   "outputs": [
    {
     "data": {
      "text/plain": [
       "2021    5501\n",
       "2019    6430\n",
       "2018    6549\n",
       "2017    6668\n",
       "2016    6673\n",
       "2015    7126\n",
       "Name: year, dtype: int64"
      ]
     },
     "execution_count": 4,
     "metadata": {},
     "output_type": "execute_result"
    }
   ],
   "source": [
    "df[\"year\"].value_counts().sort_index(ascending=False)"
   ]
  },
  {
   "cell_type": "markdown",
   "metadata": {},
   "source": [
    "### Done"
   ]
  }
 ],
 "metadata": {
  "interpreter": {
   "hash": "89f48dadab51a6b5b48ffc1a9e043c21cefe67453637c3444f3b86917b8aad16"
  },
  "kernelspec": {
   "display_name": "Python 3.8.5 ('stellar')",
   "language": "python",
   "name": "python3"
  },
  "language_info": {
   "codemirror_mode": {
    "name": "ipython",
    "version": 3
   },
   "file_extension": ".py",
   "mimetype": "text/x-python",
   "name": "python",
   "nbconvert_exporter": "python",
   "pygments_lexer": "ipython3",
   "version": "3.8.5"
  },
  "orig_nbformat": 4
 },
 "nbformat": 4,
 "nbformat_minor": 2
}
