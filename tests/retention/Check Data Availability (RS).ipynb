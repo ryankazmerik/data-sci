{
 "cells": [
  {
   "cell_type": "markdown",
   "id": "7794715f",
   "metadata": {},
   "source": [
    "# Check Data Availability (RS)\n",
    "* StelllarAlgo Data Science\n",
    "* Ryan Kazmerik & Nakisa Rad\n",
    "* May 13, 2022"
   ]
  },
  {
   "cell_type": "code",
   "execution_count": 9,
   "id": "9bb20612",
   "metadata": {},
   "outputs": [],
   "source": [
    "import boto3 \n",
    "import pandas as pd\n",
    "import psycopg2\n",
    "\n",
    "from shared_utilities import helpers\n",
    "\n",
    "pd.options.display.max_columns = 100\n",
    "pd.options.display.max_rows = 100"
   ]
  },
  {
   "cell_type": "markdown",
   "id": "ee1c2041",
   "metadata": {},
   "source": [
    "### Create a connection to RedShift PROD:"
   ]
  },
  {
   "cell_type": "code",
   "execution_count": 10,
   "id": "0dba11fa",
   "metadata": {},
   "outputs": [],
   "source": [
    "if not boto3.DEFAULT_SESSION:\n",
    "    ! aws sso login --profile Stellaralgo-DataScienceAdmin\n",
    "    session = boto3.setup_default_session(profile_name='Stellaralgo-DataScienceAdmin')"
   ]
  },
  {
   "cell_type": "code",
   "execution_count": 21,
   "id": "b69dae93",
   "metadata": {},
   "outputs": [],
   "source": [
    "CLUSTER = \"prod-app-elbu\"\n",
    "DBNAME = \"stlrechladmirals\"\n",
    "LKUPCLIENTID = 16\n",
    "\n",
    "CNXN = helpers.get_redshift_connection(CLUSTER, DBNAME)"
   ]
  },
  {
   "cell_type": "markdown",
   "id": "7cab863c",
   "metadata": {},
   "source": [
    "### Run the stored proc to get retention training and inference datasets:"
   ]
  },
  {
   "cell_type": "code",
   "execution_count": 22,
   "id": "6f77a831",
   "metadata": {},
   "outputs": [],
   "source": [
    "sql=f\"\"\"\n",
    "    CALL ds.getretentionmodeldata(16, 2010, 2022, 'rkcursor')\n",
    "\"\"\"\n",
    "\n",
    "cur = CNXN.cursor()\n",
    "\n",
    "try:\n",
    "    cur.execute(sql)\n",
    "\n",
    "    named_cursor = CNXN.cursor('rkcursor')\n",
    "    data = named_cursor.fetchall()\n",
    "\n",
    "    cols = [row[0] for row in named_cursor.description]\n",
    "    df = pd.DataFrame(data=data, columns=cols)\n",
    "\n",
    "    CNXN.commit()\n",
    "\n",
    "except Exception as e:\n",
    "    print(f\"ERROR:, {e}\")\n",
    "    cur.execute(\"ROLLBACK\")\n",
    "\n",
    "finally:\n",
    "    cur.close()"
   ]
  },
  {
   "cell_type": "markdown",
   "id": "03d6dd9a",
   "metadata": {},
   "source": [
    "### Check how much data we have for each season:"
   ]
  },
  {
   "cell_type": "code",
   "execution_count": 24,
   "id": "903ad80d",
   "metadata": {},
   "outputs": [
    {
     "name": "stdout",
     "output_type": "stream",
     "text": [
      "DATA AVAILABILITY REPORT:\n",
      " > prod-app-elbu stlrechladmirals\n"
     ]
    },
    {
     "data": {
      "text/plain": [
       "Series([], Name: year, dtype: int64)"
      ]
     },
     "execution_count": 24,
     "metadata": {},
     "output_type": "execute_result"
    }
   ],
   "source": [
    "print(f\"DATA AVAILABILITY REPORT:\")\n",
    "print(f\" > {CLUSTER} {DBNAME}\")\n",
    "df[\"year\"].value_counts().sort_index(ascending=False)"
   ]
  },
  {
   "cell_type": "markdown",
   "id": "3e93b50a",
   "metadata": {},
   "source": [
    "### Done"
   ]
  }
 ],
 "metadata": {
  "interpreter": {
   "hash": "89f48dadab51a6b5b48ffc1a9e043c21cefe67453637c3444f3b86917b8aad16"
  },
  "kernelspec": {
   "display_name": "Python 3 (ipykernel)",
   "language": "python",
   "name": "python3"
  },
  "language_info": {
   "codemirror_mode": {
    "name": "ipython",
    "version": 3
   },
   "file_extension": ".py",
   "mimetype": "text/x-python",
   "name": "python",
   "nbconvert_exporter": "python",
   "pygments_lexer": "ipython3",
   "version": "3.8.5"
  }
 },
 "nbformat": 4,
 "nbformat_minor": 5
}
