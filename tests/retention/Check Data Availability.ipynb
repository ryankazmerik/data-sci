{
 "cells": [
  {
   "cell_type": "markdown",
   "id": "7794715f",
   "metadata": {},
   "source": [
    "# Check Data Availability\n",
    "* StelllarAlgo Data Science\n",
    "* Ryan Kazmerik & Nakisa Rad\n",
    "* May 13, 2022\n",
    "\n",
    "This notebooks checks to see what years of data are available from a specified stored proc, and team database."
   ]
  },
  {
   "cell_type": "code",
   "execution_count": 1,
   "id": "9bb20612",
   "metadata": {},
   "outputs": [],
   "source": [
    "import boto3 \n",
    "import pandas as pd\n",
    "import psycopg2\n",
    "\n",
    "from shared_utilities import helpers"
   ]
  },
  {
   "cell_type": "markdown",
   "id": "ee1c2041",
   "metadata": {},
   "source": [
    "### Create a connection to RedShift PROD:"
   ]
  },
  {
   "cell_type": "code",
   "execution_count": 2,
   "id": "0dba11fa",
   "metadata": {},
   "outputs": [
    {
     "name": "stdout",
     "output_type": "stream",
     "text": [
      "Attempting to automatically open the SSO authorization page in your default browser.\n",
      "If the browser does not open or you wish to use a different device to authorize this request, open the following URL:\n",
      "\n",
      "https://device.sso.us-east-1.amazonaws.com/\n",
      "\n",
      "Then enter the code:\n",
      "\n",
      "CWTQ-DPKV\n",
      "Successfully logged into Start URL: https://stellaralgo.awsapps.com/start#/\n"
     ]
    }
   ],
   "source": [
    "if not boto3.DEFAULT_SESSION:\n",
    "    ! aws sso login --profile Stellaralgo-DataScienceAdmin\n",
    "    session = boto3.setup_default_session(profile_name='Stellaralgo-DataScienceAdmin')"
   ]
  },
  {
   "cell_type": "code",
   "execution_count": 3,
   "id": "b69dae93",
   "metadata": {},
   "outputs": [],
   "source": [
    "CLUSTER = \"qa-app\"\n",
    "DBNAME = \"stlr\"\n",
    "LKUPCLIENTID = 50\n",
    "\n",
    "CNXN = helpers.get_redshift_connection(CLUSTER, DBNAME)"
   ]
  },
  {
   "cell_type": "markdown",
   "id": "7cab863c",
   "metadata": {},
   "source": [
    "### Run the stored proc to get retention training and inference datasets:"
   ]
  },
  {
   "cell_type": "code",
   "execution_count": 4,
   "id": "6f77a831",
   "metadata": {},
   "outputs": [],
   "source": [
    "#sql = f\"CALL modeldata(16, 2010, 2022, 'temp_cursor')\"\n",
    "sql = f\"CALL ds.getproductpropensitymodeldata({LKUPCLIENTID}, 2010, 2022, 'temp_cursor')\"\n",
    "#sql = f\"CALL modeldata(16, 2010, 2022, 'temp_cursor')\"\n",
    "\n",
    "cur = CNXN.cursor()\n",
    "\n",
    "try:\n",
    "    cur.execute(sql)\n",
    "\n",
    "    named_cursor = CNXN.cursor('temp_cursor')\n",
    "    data = named_cursor.fetchall()\n",
    "\n",
    "    cols = [row[0] for row in named_cursor.description]\n",
    "    df = pd.DataFrame(data=data, columns=cols)\n",
    "\n",
    "    CNXN.commit()\n",
    "\n",
    "except Exception as e:\n",
    "    print(f\"ERROR:, {e}\")\n",
    "    cur.execute(\"ROLLBACK\")\n",
    "\n",
    "finally:\n",
    "    cur.close()"
   ]
  },
  {
   "cell_type": "markdown",
   "id": "03d6dd9a",
   "metadata": {},
   "source": [
    "### Check how much data we have for each season:"
   ]
  },
  {
   "cell_type": "code",
   "execution_count": 13,
   "id": "737bc58d",
   "metadata": {},
   "outputs": [
    {
     "name": "stdout",
     "output_type": "stream",
     "text": [
      "NO ROWS AVAILABLE: 0 !\n"
     ]
    }
   ],
   "source": [
    "if df.shape[0] > 0:\n",
    "    \n",
    "    print(f\"DATA AVAILABILITY REPORT:\")\n",
    "    print(f\" > {CLUSTER} {DBNAME}\")\n",
    "    df[\"year\"].value_counts().sort_index(ascending=False)\n",
    "\n",
    "else:\n",
    "    print(f\"NO ROWS AVAILABLE: {df.shape[0]} !\")\n"
   ]
  },
  {
   "cell_type": "markdown",
   "id": "3e93b50a",
   "metadata": {},
   "source": [
    "### Done"
   ]
  }
 ],
 "metadata": {
  "interpreter": {
   "hash": "89f48dadab51a6b5b48ffc1a9e043c21cefe67453637c3444f3b86917b8aad16"
  },
  "kernelspec": {
   "display_name": "Python 3 (ipykernel)",
   "language": "python",
   "name": "python3"
  },
  "language_info": {
   "codemirror_mode": {
    "name": "ipython",
    "version": 3
   },
   "file_extension": ".py",
   "mimetype": "text/x-python",
   "name": "python",
   "nbconvert_exporter": "python",
   "pygments_lexer": "ipython3",
   "version": "3.8.5"
  }
 },
 "nbformat": 4,
 "nbformat_minor": 5
}
