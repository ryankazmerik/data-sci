{
 "cells": [
  {
   "cell_type": "code",
   "execution_count": 1,
   "metadata": {},
   "outputs": [],
   "source": [
    "from pycaret.classification import *"
   ]
  },
  {
   "cell_type": "code",
   "execution_count": 2,
   "metadata": {},
   "outputs": [
    {
     "name": "stdout",
     "output_type": "stream",
     "text": [
      "Transformation Pipeline and Model Successfully Loaded\n"
     ]
    },
    {
     "ename": "TypeError",
     "evalue": "'NoneType' object does not support item assignment",
     "output_type": "error",
     "traceback": [
      "\u001b[0;31m---------------------------------------------------------------------------\u001b[0m",
      "\u001b[0;31mTypeError\u001b[0m                                 Traceback (most recent call last)",
      "Cell \u001b[0;32mIn [2], line 1\u001b[0m\n\u001b[0;32m----> 1\u001b[0m ret_model \u001b[39m=\u001b[39m load_model(\u001b[39m\"\u001b[39;49m\u001b[39m./data/model\u001b[39;49m\u001b[39m\"\u001b[39;49m)\n",
      "File \u001b[0;32m/opt/miniconda3/envs/stellar/lib/python3.8/site-packages/pycaret/classification.py:2402\u001b[0m, in \u001b[0;36mload_model\u001b[0;34m(model_name, platform, authentication, verbose)\u001b[0m\n\u001b[1;32m   2354\u001b[0m \u001b[39mdef\u001b[39;00m \u001b[39mload_model\u001b[39m(\n\u001b[1;32m   2355\u001b[0m     model_name,\n\u001b[1;32m   2356\u001b[0m     platform: Optional[\u001b[39mstr\u001b[39m] \u001b[39m=\u001b[39m \u001b[39mNone\u001b[39;00m,\n\u001b[1;32m   2357\u001b[0m     authentication: Optional[Dict[\u001b[39mstr\u001b[39m, \u001b[39mstr\u001b[39m]] \u001b[39m=\u001b[39m \u001b[39mNone\u001b[39;00m,\n\u001b[1;32m   2358\u001b[0m     verbose: \u001b[39mbool\u001b[39m \u001b[39m=\u001b[39m \u001b[39mTrue\u001b[39;00m,\n\u001b[1;32m   2359\u001b[0m ):\n\u001b[1;32m   2361\u001b[0m     \u001b[39m\"\"\"\u001b[39;00m\n\u001b[1;32m   2362\u001b[0m \u001b[39m    This function loads a previously saved pipeline.\u001b[39;00m\n\u001b[1;32m   2363\u001b[0m \n\u001b[0;32m   (...)\u001b[0m\n\u001b[1;32m   2399\u001b[0m \n\u001b[1;32m   2400\u001b[0m \u001b[39m    \"\"\"\u001b[39;00m\n\u001b[0;32m-> 2402\u001b[0m     \u001b[39mreturn\u001b[39;00m pycaret\u001b[39m.\u001b[39;49minternal\u001b[39m.\u001b[39;49mtabular\u001b[39m.\u001b[39;49mload_model(\n\u001b[1;32m   2403\u001b[0m         model_name\u001b[39m=\u001b[39;49mmodel_name,\n\u001b[1;32m   2404\u001b[0m         platform\u001b[39m=\u001b[39;49mplatform,\n\u001b[1;32m   2405\u001b[0m         authentication\u001b[39m=\u001b[39;49mauthentication,\n\u001b[1;32m   2406\u001b[0m         verbose\u001b[39m=\u001b[39;49mverbose,\n\u001b[1;32m   2407\u001b[0m     )\n",
      "File \u001b[0;32m/opt/miniconda3/envs/stellar/lib/python3.8/site-packages/pycaret/internal/tabular.py:9776\u001b[0m, in \u001b[0;36mload_model\u001b[0;34m(model_name, platform, authentication, verbose)\u001b[0m\n\u001b[1;32m   9732\u001b[0m \u001b[39m\"\"\"\u001b[39;00m\n\u001b[1;32m   9733\u001b[0m \u001b[39mThis function loads a previously saved transformation pipeline and model\u001b[39;00m\n\u001b[1;32m   9734\u001b[0m \u001b[39mfrom the current active directory into the current python environment.\u001b[39;00m\n\u001b[0;32m   (...)\u001b[0m\n\u001b[1;32m   9771\u001b[0m \n\u001b[1;32m   9772\u001b[0m \u001b[39m\"\"\"\u001b[39;00m\n\u001b[1;32m   9774\u001b[0m \u001b[39mimport\u001b[39;00m \u001b[39mpycaret\u001b[39;00m\u001b[39m.\u001b[39;00m\u001b[39minternal\u001b[39;00m\u001b[39m.\u001b[39;00m\u001b[39mpersistence\u001b[39;00m\n\u001b[0;32m-> 9776\u001b[0m \u001b[39mreturn\u001b[39;00m pycaret\u001b[39m.\u001b[39;49minternal\u001b[39m.\u001b[39;49mpersistence\u001b[39m.\u001b[39;49mload_model(\n\u001b[1;32m   9777\u001b[0m     model_name, platform, authentication, verbose\n\u001b[1;32m   9778\u001b[0m )\n",
      "File \u001b[0;32m/opt/miniconda3/envs/stellar/lib/python3.8/site-packages/pycaret/internal/persistence.py:393\u001b[0m, in \u001b[0;36mload_model\u001b[0;34m(model_name, platform, authentication, verbose)\u001b[0m\n\u001b[1;32m    391\u001b[0m     \u001b[39mif\u001b[39;00m verbose:\n\u001b[1;32m    392\u001b[0m         \u001b[39mprint\u001b[39m(\u001b[39m\"\u001b[39m\u001b[39mTransformation Pipeline and Model Successfully Loaded\u001b[39m\u001b[39m\"\u001b[39m)\n\u001b[0;32m--> 393\u001b[0m     \u001b[39mreturn\u001b[39;00m joblib\u001b[39m.\u001b[39;49mload(model_name)\n\u001b[1;32m    395\u001b[0m \u001b[39m# cloud providers\u001b[39;00m\n\u001b[1;32m    396\u001b[0m \u001b[39melif\u001b[39;00m platform \u001b[39m==\u001b[39m \u001b[39m\"\u001b[39m\u001b[39maws\u001b[39m\u001b[39m\"\u001b[39m:\n",
      "File \u001b[0;32m/opt/miniconda3/envs/stellar/lib/python3.8/site-packages/joblib/numpy_pickle.py:587\u001b[0m, in \u001b[0;36mload\u001b[0;34m(filename, mmap_mode)\u001b[0m\n\u001b[1;32m    581\u001b[0m             \u001b[39mif\u001b[39;00m \u001b[39misinstance\u001b[39m(fobj, \u001b[39mstr\u001b[39m):\n\u001b[1;32m    582\u001b[0m                 \u001b[39m# if the returned file object is a string, this means we\u001b[39;00m\n\u001b[1;32m    583\u001b[0m                 \u001b[39m# try to load a pickle file generated with an version of\u001b[39;00m\n\u001b[1;32m    584\u001b[0m                 \u001b[39m# Joblib so we load it with joblib compatibility function.\u001b[39;00m\n\u001b[1;32m    585\u001b[0m                 \u001b[39mreturn\u001b[39;00m load_compatibility(fobj)\n\u001b[0;32m--> 587\u001b[0m             obj \u001b[39m=\u001b[39m _unpickle(fobj, filename, mmap_mode)\n\u001b[1;32m    588\u001b[0m \u001b[39mreturn\u001b[39;00m obj\n",
      "File \u001b[0;32m/opt/miniconda3/envs/stellar/lib/python3.8/site-packages/joblib/numpy_pickle.py:506\u001b[0m, in \u001b[0;36m_unpickle\u001b[0;34m(fobj, filename, mmap_mode)\u001b[0m\n\u001b[1;32m    504\u001b[0m obj \u001b[39m=\u001b[39m \u001b[39mNone\u001b[39;00m\n\u001b[1;32m    505\u001b[0m \u001b[39mtry\u001b[39;00m:\n\u001b[0;32m--> 506\u001b[0m     obj \u001b[39m=\u001b[39m unpickler\u001b[39m.\u001b[39;49mload()\n\u001b[1;32m    507\u001b[0m     \u001b[39mif\u001b[39;00m unpickler\u001b[39m.\u001b[39mcompat_mode:\n\u001b[1;32m    508\u001b[0m         warnings\u001b[39m.\u001b[39mwarn(\u001b[39m\"\u001b[39m\u001b[39mThe file \u001b[39m\u001b[39m'\u001b[39m\u001b[39m%s\u001b[39;00m\u001b[39m'\u001b[39m\u001b[39m has been generated with a \u001b[39m\u001b[39m\"\u001b[39m\n\u001b[1;32m    509\u001b[0m                       \u001b[39m\"\u001b[39m\u001b[39mjoblib version less than 0.10. \u001b[39m\u001b[39m\"\u001b[39m\n\u001b[1;32m    510\u001b[0m                       \u001b[39m\"\u001b[39m\u001b[39mPlease regenerate this pickle file.\u001b[39m\u001b[39m\"\u001b[39m\n\u001b[1;32m    511\u001b[0m                       \u001b[39m%\u001b[39m filename,\n\u001b[1;32m    512\u001b[0m                       \u001b[39mDeprecationWarning\u001b[39;00m, stacklevel\u001b[39m=\u001b[39m\u001b[39m3\u001b[39m)\n",
      "File \u001b[0;32m/opt/miniconda3/envs/stellar/lib/python3.8/pickle.py:1210\u001b[0m, in \u001b[0;36m_Unpickler.load\u001b[0;34m(self)\u001b[0m\n\u001b[1;32m   1208\u001b[0m             \u001b[39mraise\u001b[39;00m \u001b[39mEOFError\u001b[39;00m\n\u001b[1;32m   1209\u001b[0m         \u001b[39massert\u001b[39;00m \u001b[39misinstance\u001b[39m(key, bytes_types)\n\u001b[0;32m-> 1210\u001b[0m         dispatch[key[\u001b[39m0\u001b[39;49m]](\u001b[39mself\u001b[39;49m)\n\u001b[1;32m   1211\u001b[0m \u001b[39mexcept\u001b[39;00m _Stop \u001b[39mas\u001b[39;00m stopinst:\n\u001b[1;32m   1212\u001b[0m     \u001b[39mreturn\u001b[39;00m stopinst\u001b[39m.\u001b[39mvalue\n",
      "File \u001b[0;32m/opt/miniconda3/envs/stellar/lib/python3.8/pickle.py:1676\u001b[0m, in \u001b[0;36m_Unpickler.load_setitem\u001b[0;34m(self)\u001b[0m\n\u001b[1;32m   1674\u001b[0m key \u001b[39m=\u001b[39m stack\u001b[39m.\u001b[39mpop()\n\u001b[1;32m   1675\u001b[0m \u001b[39mdict\u001b[39m \u001b[39m=\u001b[39m stack[\u001b[39m-\u001b[39m\u001b[39m1\u001b[39m]\n\u001b[0;32m-> 1676\u001b[0m \u001b[39mdict\u001b[39;49m[key] \u001b[39m=\u001b[39m value\n",
      "\u001b[0;31mTypeError\u001b[0m: 'NoneType' object does not support item assignment"
     ]
    }
   ],
   "source": [
    "ret_model = load_model(\"./data/model\")"
   ]
  },
  {
   "cell_type": "code",
   "execution_count": null,
   "metadata": {},
   "outputs": [],
   "source": []
  }
 ],
 "metadata": {
  "kernelspec": {
   "display_name": "Python 3.8.5 ('stellar')",
   "language": "python",
   "name": "python3"
  },
  "language_info": {
   "codemirror_mode": {
    "name": "ipython",
    "version": 3
   },
   "file_extension": ".py",
   "mimetype": "text/x-python",
   "name": "python",
   "nbconvert_exporter": "python",
   "pygments_lexer": "ipython3",
   "version": "3.8.5"
  },
  "vscode": {
   "interpreter": {
    "hash": "89f48dadab51a6b5b48ffc1a9e043c21cefe67453637c3444f3b86917b8aad16"
   }
  }
 },
 "nbformat": 4,
 "nbformat_minor": 4
}
