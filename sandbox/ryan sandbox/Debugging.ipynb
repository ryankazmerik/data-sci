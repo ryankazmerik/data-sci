{
 "cells": [
  {
   "cell_type": "code",
   "execution_count": 1,
   "metadata": {},
   "outputs": [],
   "source": [
    "from data_sci_toolkit.aws_tools import redshift_tools"
   ]
  },
  {
   "cell_type": "code",
   "execution_count": 2,
   "metadata": {},
   "outputs": [
    {
     "name": "stdout",
     "output_type": "stream",
     "text": [
      "Authorized as AROASQ4JELIXYLYV6P4UV:rkazmerik@stellaralgo.com\n"
     ]
    },
    {
     "data": {
      "text/plain": [
       "(254194, 16)"
      ]
     },
     "execution_count": 2,
     "metadata": {},
     "output_type": "execute_result"
    }
   ],
   "source": [
    "df_ep_train = redshift_tools.get_event_propensity_training_dataset(\n",
    "    cluster= \"prod-app\",\n",
    "    database= \"stlrcanucks\",\n",
    "    lkupclientid= 7,\n",
    "    start_year= 2010,\n",
    "    end_year= 2021\n",
    ")\n",
    "\n",
    "df_ep_train.shape"
   ]
  },
  {
   "cell_type": "code",
   "execution_count": 6,
   "metadata": {},
   "outputs": [
    {
     "data": {
      "text/plain": [
       "1    127097\n",
       "0    127097\n",
       "Name: did_purchase, dtype: int64"
      ]
     },
     "execution_count": 6,
     "metadata": {},
     "output_type": "execute_result"
    }
   ],
   "source": [
    "df_ep_train.did_purchase.value_counts()"
   ]
  },
  {
   "cell_type": "code",
   "execution_count": 21,
   "metadata": {},
   "outputs": [
    {
     "name": "stdout",
     "output_type": "stream",
     "text": [
      "Authorized as AROASQ4JELIXYLYV6P4UV:rkazmerik@stellaralgo.com\n"
     ]
    },
    {
     "data": {
      "text/plain": [
       "(626304, 12)"
      ]
     },
     "execution_count": 21,
     "metadata": {},
     "output_type": "execute_result"
    }
   ],
   "source": [
    "df_ep_scoring = redshift_tools.get_event_propensity_scoring_dataset(\n",
    "    cluster= \"prod-app\",\n",
    "    database= \"stlrcanucks\",\n",
    "    lkupclientid= 7,\n",
    "    game_date= \"2022-10-28\"\n",
    ")\n",
    "\n",
    "df_ep_scoring.shape"
   ]
  },
  {
   "cell_type": "code",
   "execution_count": 8,
   "metadata": {},
   "outputs": [
    {
     "data": {
      "text/html": [
       "<div>\n",
       "<style scoped>\n",
       "    .dataframe tbody tr th:only-of-type {\n",
       "        vertical-align: middle;\n",
       "    }\n",
       "\n",
       "    .dataframe tbody tr th {\n",
       "        vertical-align: top;\n",
       "    }\n",
       "\n",
       "    .dataframe thead th {\n",
       "        text-align: right;\n",
       "    }\n",
       "</style>\n",
       "<table border=\"1\" class=\"dataframe\">\n",
       "  <thead>\n",
       "    <tr style=\"text-align: right;\">\n",
       "      <th></th>\n",
       "      <th>daysout</th>\n",
       "      <th>eventdate</th>\n",
       "      <th>tenure</th>\n",
       "      <th>dimcustomermasterid</th>\n",
       "      <th>events_purchased</th>\n",
       "      <th>frequency_opponent</th>\n",
       "      <th>frequency_eventday</th>\n",
       "      <th>frequency_eventtime</th>\n",
       "      <th>inmarket</th>\n",
       "      <th>distancetovenue</th>\n",
       "      <th>recent_openrate</th>\n",
       "      <th>recent_clickrate</th>\n",
       "    </tr>\n",
       "  </thead>\n",
       "  <tbody>\n",
       "    <tr>\n",
       "      <th>0</th>\n",
       "      <td>Day Of</td>\n",
       "      <td>2022-10-28</td>\n",
       "      <td>2594</td>\n",
       "      <td>573252</td>\n",
       "      <td>2</td>\n",
       "      <td>0.0000</td>\n",
       "      <td>0.0000</td>\n",
       "      <td>0.0084</td>\n",
       "      <td>True</td>\n",
       "      <td>26.4952</td>\n",
       "      <td>None</td>\n",
       "      <td>None</td>\n",
       "    </tr>\n",
       "    <tr>\n",
       "      <th>1</th>\n",
       "      <td>1 to 3 Days Out</td>\n",
       "      <td>2022-10-28</td>\n",
       "      <td>2594</td>\n",
       "      <td>573252</td>\n",
       "      <td>2</td>\n",
       "      <td>0.0000</td>\n",
       "      <td>0.0000</td>\n",
       "      <td>0.0084</td>\n",
       "      <td>True</td>\n",
       "      <td>26.4952</td>\n",
       "      <td>None</td>\n",
       "      <td>None</td>\n",
       "    </tr>\n",
       "    <tr>\n",
       "      <th>2</th>\n",
       "      <td>4 to 7 Days Out</td>\n",
       "      <td>2022-10-28</td>\n",
       "      <td>2594</td>\n",
       "      <td>573252</td>\n",
       "      <td>2</td>\n",
       "      <td>0.0000</td>\n",
       "      <td>0.0000</td>\n",
       "      <td>0.0084</td>\n",
       "      <td>True</td>\n",
       "      <td>26.4952</td>\n",
       "      <td>None</td>\n",
       "      <td>None</td>\n",
       "    </tr>\n",
       "  </tbody>\n",
       "</table>\n",
       "</div>"
      ],
      "text/plain": [
       "           daysout   eventdate  tenure  dimcustomermasterid  events_purchased  \\\n",
       "0           Day Of  2022-10-28    2594               573252                 2   \n",
       "1  1 to 3 Days Out  2022-10-28    2594               573252                 2   \n",
       "2  4 to 7 Days Out  2022-10-28    2594               573252                 2   \n",
       "\n",
       "  frequency_opponent frequency_eventday frequency_eventtime inmarket  \\\n",
       "0             0.0000             0.0000              0.0084     True   \n",
       "1             0.0000             0.0000              0.0084     True   \n",
       "2             0.0000             0.0000              0.0084     True   \n",
       "\n",
       "   distancetovenue recent_openrate recent_clickrate  \n",
       "0          26.4952            None             None  \n",
       "1          26.4952            None             None  \n",
       "2          26.4952            None             None  "
      ]
     },
     "execution_count": 8,
     "metadata": {},
     "output_type": "execute_result"
    }
   ],
   "source": [
    "df_ep_scoring.head(3)"
   ]
  },
  {
   "cell_type": "code",
   "execution_count": 13,
   "metadata": {},
   "outputs": [
    {
     "data": {
      "text/plain": [
       "(-0.001, 3.0]      1196612\n",
       "(3.0, 5.0]           42512\n",
       "(5.0, 10.0]          25384\n",
       "(10.0, 100.0]        12560\n",
       "(100.0, 1000.0]         64\n",
       "Name: events_purchased, dtype: int64"
      ]
     },
     "execution_count": 13,
     "metadata": {},
     "output_type": "execute_result"
    }
   ],
   "source": [
    "df_ep_scoring.events_purchased.value_counts(bins=[0,3,5,10,100,1000])"
   ]
  },
  {
   "cell_type": "code",
   "execution_count": null,
   "metadata": {},
   "outputs": [],
   "source": []
  }
 ],
 "metadata": {
  "kernelspec": {
   "display_name": "Python 3.8.5 ('stellar')",
   "language": "python",
   "name": "python3"
  },
  "language_info": {
   "codemirror_mode": {
    "name": "ipython",
    "version": 3
   },
   "file_extension": ".py",
   "mimetype": "text/x-python",
   "name": "python",
   "nbconvert_exporter": "python",
   "pygments_lexer": "ipython3",
   "version": "3.8.5 (default, Sep  4 2020, 02:22:02) \n[Clang 10.0.0 ]"
  },
  "vscode": {
   "interpreter": {
    "hash": "89f48dadab51a6b5b48ffc1a9e043c21cefe67453637c3444f3b86917b8aad16"
   }
  }
 },
 "nbformat": 4,
 "nbformat_minor": 4
}
