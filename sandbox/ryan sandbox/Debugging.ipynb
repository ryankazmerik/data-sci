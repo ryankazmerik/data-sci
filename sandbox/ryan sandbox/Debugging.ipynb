{
 "cells": [
  {
   "cell_type": "code",
   "execution_count": 1,
   "metadata": {},
   "outputs": [],
   "source": [
    "import pandas as pd\n",
    "\n",
    "from shared_utilities import helpers"
   ]
  },
  {
   "cell_type": "code",
   "execution_count": 7,
   "metadata": {},
   "outputs": [
    {
     "name": "stdout",
     "output_type": "stream",
     "text": [
      "Attempting to automatically open the SSO authorization page in your default browser.\n",
      "If the browser does not open or you wish to use a different device to authorize this request, open the following URL:\n",
      "\n",
      "https://device.sso.us-east-1.amazonaws.com/\n",
      "\n",
      "Then enter the code:\n",
      "\n",
      "LVGT-NJFJ\n",
      "Successfully logged into Start URL: https://stellaralgo.awsapps.com/start#/\n",
      "Authorized as AROASQ4JELIXYLYV6P4UV:rkazmerik@stellaralgo.com\n"
     ]
    },
    {
     "data": {
      "text/plain": [
       "(199392, 12)"
      ]
     },
     "execution_count": 7,
     "metadata": {},
     "output_type": "execute_result"
    }
   ],
   "source": [
    "df_inference = helpers.get_event_propensity_scoring_dataset(\n",
    "    cluster=\"prod-app\",\n",
    "    database=\"stlrnhljets\",\n",
    "    lkupclientid=92,\n",
    "    game_date=\"2022-10-14\"\n",
    ")\n",
    "\n",
    "df_inference.shape"
   ]
  },
  {
   "cell_type": "code",
   "execution_count": 9,
   "metadata": {},
   "outputs": [
    {
     "name": "stdout",
     "output_type": "stream",
     "text": [
      "Authorized as AROASQ4JELIXYLYV6P4UV:rkazmerik@stellaralgo.com\n"
     ]
    },
    {
     "data": {
      "text/plain": [
       "(199392, 12)"
      ]
     },
     "execution_count": 9,
     "metadata": {},
     "output_type": "execute_result"
    }
   ],
   "source": [
    "df_inference_2 = helpers.get_event_propensity_scoring_dataset(\n",
    "    cluster=\"prod-app\",\n",
    "    database=\"stlrnhljets\",\n",
    "    lkupclientid=92,\n",
    "    game_date=\"2022-10-22\"\n",
    ")\n",
    "\n",
    "df_inference_2.shape"
   ]
  },
  {
   "cell_type": "code",
   "execution_count": 10,
   "metadata": {},
   "outputs": [
    {
     "name": "stdout",
     "output_type": "stream",
     "text": [
      "Authorized as AROASQ4JELIXYLYV6P4UV:rkazmerik@stellaralgo.com\n"
     ]
    },
    {
     "data": {
      "text/plain": [
       "(199392, 12)"
      ]
     },
     "execution_count": 10,
     "metadata": {},
     "output_type": "execute_result"
    }
   ],
   "source": [
    "df_inference_3 = helpers.get_event_propensity_scoring_dataset(\n",
    "    cluster=\"prod-app\",\n",
    "    database=\"stlrnhljets\",\n",
    "    lkupclientid=92,\n",
    "    game_date=\"2022-10-24\"\n",
    ")\n",
    "\n",
    "df_inference_3.shape"
   ]
  },
  {
   "cell_type": "code",
   "execution_count": null,
   "metadata": {},
   "outputs": [],
   "source": []
  }
 ],
 "metadata": {
  "kernelspec": {
   "display_name": "Python 3.8.5 ('stellar')",
   "language": "python",
   "name": "python3"
  },
  "language_info": {
   "codemirror_mode": {
    "name": "ipython",
    "version": 3
   },
   "file_extension": ".py",
   "mimetype": "text/x-python",
   "name": "python",
   "nbconvert_exporter": "python",
   "pygments_lexer": "ipython3",
   "version": "3.8.5"
  },
  "vscode": {
   "interpreter": {
    "hash": "89f48dadab51a6b5b48ffc1a9e043c21cefe67453637c3444f3b86917b8aad16"
   }
  }
 },
 "nbformat": 4,
 "nbformat_minor": 4
}
