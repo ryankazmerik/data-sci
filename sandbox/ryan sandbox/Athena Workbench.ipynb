{
 "cells": [
  {
   "cell_type": "code",
   "execution_count": 21,
   "metadata": {},
   "outputs": [],
   "source": [
    "import awswrangler as wr\n",
    "\n",
    "from data_sci_toolkit.aws_tools import permission_tools "
   ]
  },
  {
   "cell_type": "code",
   "execution_count": 22,
   "metadata": {},
   "outputs": [
    {
     "name": "stdout",
     "output_type": "stream",
     "text": [
      "Authorized as AROAQBUNWK7XN5DTYWPLJ:rkazmerik@stellaralgo.com\n"
     ]
    }
   ],
   "source": [
    "SESSION = permission_tools.get_aws_session(\"Dev-DataScienceAdmin\")"
   ]
  },
  {
   "cell_type": "code",
   "execution_count": 23,
   "metadata": {},
   "outputs": [],
   "source": [
    "DATASOURCE = \"AwsDataCatalog\"\n",
    "DATABASE = \"integrations_milb_avaiators\"\n",
    "SQL = f\"\"\"\n",
    "    SELECT * FROM {DATABASE} LIMIT 1\n",
    "\"\"\"\n",
    "WORKGROUP = \"primary\""
   ]
  },
  {
   "cell_type": "code",
   "execution_count": 24,
   "metadata": {},
   "outputs": [
    {
     "ename": "WaiterError",
     "evalue": "Waiter BucketExists failed: Max attempts exceeded. Previously accepted state: Matched expected HTTP status code: 404",
     "output_type": "error",
     "traceback": [
      "\u001b[0;31m---------------------------------------------------------------------------\u001b[0m",
      "\u001b[0;31mWaiterError\u001b[0m                               Traceback (most recent call last)",
      "\u001b[1;32m/Users/ryankazmerik/Git/data-sci/sandbox/ryan sandbox/Athena Workbench.ipynb Cell 4\u001b[0m in \u001b[0;36m1\n\u001b[0;32m----> <a href='vscode-notebook-cell:/Users/ryankazmerik/Git/data-sci/sandbox/ryan%20sandbox/Athena%20Workbench.ipynb#W2sZmlsZQ%3D%3D?line=0'>1</a>\u001b[0m df \u001b[39m=\u001b[39m wr\u001b[39m.\u001b[39;49mathena\u001b[39m.\u001b[39;49mread_sql_query(\n\u001b[1;32m      <a href='vscode-notebook-cell:/Users/ryankazmerik/Git/data-sci/sandbox/ryan%20sandbox/Athena%20Workbench.ipynb#W2sZmlsZQ%3D%3D?line=1'>2</a>\u001b[0m     boto3_session\u001b[39m=\u001b[39;49m SESSION, \n\u001b[1;32m      <a href='vscode-notebook-cell:/Users/ryankazmerik/Git/data-sci/sandbox/ryan%20sandbox/Athena%20Workbench.ipynb#W2sZmlsZQ%3D%3D?line=2'>3</a>\u001b[0m     database\u001b[39m=\u001b[39;49m DATABASE, \n\u001b[1;32m      <a href='vscode-notebook-cell:/Users/ryankazmerik/Git/data-sci/sandbox/ryan%20sandbox/Athena%20Workbench.ipynb#W2sZmlsZQ%3D%3D?line=3'>4</a>\u001b[0m     sql\u001b[39m=\u001b[39;49m SQL, \n\u001b[1;32m      <a href='vscode-notebook-cell:/Users/ryankazmerik/Git/data-sci/sandbox/ryan%20sandbox/Athena%20Workbench.ipynb#W2sZmlsZQ%3D%3D?line=4'>5</a>\u001b[0m     workgroup\u001b[39m=\u001b[39;49m WORKGROUP)\n\u001b[1;32m      <a href='vscode-notebook-cell:/Users/ryankazmerik/Git/data-sci/sandbox/ryan%20sandbox/Athena%20Workbench.ipynb#W2sZmlsZQ%3D%3D?line=5'>6</a>\u001b[0m df\u001b[39m.\u001b[39mshape\n\u001b[1;32m      <a href='vscode-notebook-cell:/Users/ryankazmerik/Git/data-sci/sandbox/ryan%20sandbox/Athena%20Workbench.ipynb#W2sZmlsZQ%3D%3D?line=7'>8</a>\u001b[0m wr\u001b[39m.\u001b[39mathena\u001b[39m.\u001b[39mread_sql_query()\n",
      "File \u001b[0;32m/opt/miniconda3/envs/stellar/lib/python3.8/site-packages/awswrangler/_config.py:461\u001b[0m, in \u001b[0;36mapply_configs.<locals>.wrapper\u001b[0;34m(*args_raw, **kwargs)\u001b[0m\n\u001b[1;32m    459\u001b[0m         \u001b[39mdel\u001b[39;00m args[name]\n\u001b[1;32m    460\u001b[0m         args \u001b[39m=\u001b[39m {\u001b[39m*\u001b[39m\u001b[39m*\u001b[39margs, \u001b[39m*\u001b[39m\u001b[39m*\u001b[39mkeywords}\n\u001b[0;32m--> 461\u001b[0m \u001b[39mreturn\u001b[39;00m function(\u001b[39m*\u001b[39;49m\u001b[39m*\u001b[39;49margs)\n",
      "File \u001b[0;32m/opt/miniconda3/envs/stellar/lib/python3.8/site-packages/awswrangler/athena/_read.py:853\u001b[0m, in \u001b[0;36mread_sql_query\u001b[0;34m(sql, database, ctas_approach, unload_approach, unload_parameters, categories, chunksize, s3_output, workgroup, encryption, kms_key, keep_files, ctas_database_name, ctas_temp_table_name, ctas_bucketing_info, use_threads, boto3_session, max_cache_seconds, max_cache_query_inspections, max_remote_cache_entries, max_local_cache_entries, data_source, params, s3_additional_kwargs, pyarrow_additional_kwargs)\u001b[0m\n\u001b[1;32m    851\u001b[0m         _logger\u001b[39m.\u001b[39merror(e)  \u001b[39m# if there is anything wrong with the cache, just fallback to the usual path\u001b[39;00m\n\u001b[1;32m    852\u001b[0m         _logger\u001b[39m.\u001b[39mdebug(\u001b[39m\"\u001b[39m\u001b[39mCorrupted cache. Continuing to execute query...\u001b[39m\u001b[39m\"\u001b[39m)\n\u001b[0;32m--> 853\u001b[0m \u001b[39mreturn\u001b[39;00m _resolve_query_without_cache(\n\u001b[1;32m    854\u001b[0m     sql\u001b[39m=\u001b[39;49msql,\n\u001b[1;32m    855\u001b[0m     database\u001b[39m=\u001b[39;49mdatabase,\n\u001b[1;32m    856\u001b[0m     data_source\u001b[39m=\u001b[39;49mdata_source,\n\u001b[1;32m    857\u001b[0m     ctas_approach\u001b[39m=\u001b[39;49mctas_approach,\n\u001b[1;32m    858\u001b[0m     unload_approach\u001b[39m=\u001b[39;49munload_approach,\n\u001b[1;32m    859\u001b[0m     unload_parameters\u001b[39m=\u001b[39;49munload_parameters,\n\u001b[1;32m    860\u001b[0m     categories\u001b[39m=\u001b[39;49mcategories,\n\u001b[1;32m    861\u001b[0m     chunksize\u001b[39m=\u001b[39;49mchunksize,\n\u001b[1;32m    862\u001b[0m     s3_output\u001b[39m=\u001b[39;49ms3_output,\n\u001b[1;32m    863\u001b[0m     workgroup\u001b[39m=\u001b[39;49mworkgroup,\n\u001b[1;32m    864\u001b[0m     encryption\u001b[39m=\u001b[39;49mencryption,\n\u001b[1;32m    865\u001b[0m     kms_key\u001b[39m=\u001b[39;49mkms_key,\n\u001b[1;32m    866\u001b[0m     keep_files\u001b[39m=\u001b[39;49mkeep_files,\n\u001b[1;32m    867\u001b[0m     ctas_database_name\u001b[39m=\u001b[39;49mctas_database_name,\n\u001b[1;32m    868\u001b[0m     ctas_temp_table_name\u001b[39m=\u001b[39;49mctas_temp_table_name,\n\u001b[1;32m    869\u001b[0m     ctas_bucketing_info\u001b[39m=\u001b[39;49mctas_bucketing_info,\n\u001b[1;32m    870\u001b[0m     use_threads\u001b[39m=\u001b[39;49muse_threads,\n\u001b[1;32m    871\u001b[0m     s3_additional_kwargs\u001b[39m=\u001b[39;49ms3_additional_kwargs,\n\u001b[1;32m    872\u001b[0m     boto3_session\u001b[39m=\u001b[39;49msession,\n\u001b[1;32m    873\u001b[0m     pyarrow_additional_kwargs\u001b[39m=\u001b[39;49mpyarrow_additional_kwargs,\n\u001b[1;32m    874\u001b[0m )\n",
      "File \u001b[0;32m/opt/miniconda3/envs/stellar/lib/python3.8/site-packages/awswrangler/athena/_read.py:422\u001b[0m, in \u001b[0;36m_resolve_query_without_cache\u001b[0;34m(sql, database, data_source, ctas_approach, unload_approach, unload_parameters, categories, chunksize, s3_output, workgroup, encryption, kms_key, keep_files, ctas_database_name, ctas_temp_table_name, ctas_bucketing_info, use_threads, s3_additional_kwargs, boto3_session, pyarrow_additional_kwargs)\u001b[0m\n\u001b[1;32m    420\u001b[0m     name \u001b[39m=\u001b[39m \u001b[39mf\u001b[39m\u001b[39m\"\u001b[39m\u001b[39mtemp_table_\u001b[39m\u001b[39m{\u001b[39;00muuid\u001b[39m.\u001b[39muuid4()\u001b[39m.\u001b[39mhex\u001b[39m}\u001b[39;00m\u001b[39m\"\u001b[39m\n\u001b[1;32m    421\u001b[0m \u001b[39mtry\u001b[39;00m:\n\u001b[0;32m--> 422\u001b[0m     \u001b[39mreturn\u001b[39;00m _resolve_query_without_cache_ctas(\n\u001b[1;32m    423\u001b[0m         sql\u001b[39m=\u001b[39;49msql,\n\u001b[1;32m    424\u001b[0m         database\u001b[39m=\u001b[39;49mdatabase,\n\u001b[1;32m    425\u001b[0m         data_source\u001b[39m=\u001b[39;49mdata_source,\n\u001b[1;32m    426\u001b[0m         s3_output\u001b[39m=\u001b[39;49ms3_output,\n\u001b[1;32m    427\u001b[0m         keep_files\u001b[39m=\u001b[39;49mkeep_files,\n\u001b[1;32m    428\u001b[0m         chunksize\u001b[39m=\u001b[39;49mchunksize,\n\u001b[1;32m    429\u001b[0m         categories\u001b[39m=\u001b[39;49mcategories,\n\u001b[1;32m    430\u001b[0m         encryption\u001b[39m=\u001b[39;49mencryption,\n\u001b[1;32m    431\u001b[0m         workgroup\u001b[39m=\u001b[39;49mworkgroup,\n\u001b[1;32m    432\u001b[0m         kms_key\u001b[39m=\u001b[39;49mkms_key,\n\u001b[1;32m    433\u001b[0m         alt_database\u001b[39m=\u001b[39;49mctas_database_name,\n\u001b[1;32m    434\u001b[0m         name\u001b[39m=\u001b[39;49mname,\n\u001b[1;32m    435\u001b[0m         ctas_bucketing_info\u001b[39m=\u001b[39;49mctas_bucketing_info,\n\u001b[1;32m    436\u001b[0m         use_threads\u001b[39m=\u001b[39;49muse_threads,\n\u001b[1;32m    437\u001b[0m         s3_additional_kwargs\u001b[39m=\u001b[39;49ms3_additional_kwargs,\n\u001b[1;32m    438\u001b[0m         boto3_session\u001b[39m=\u001b[39;49mboto3_session,\n\u001b[1;32m    439\u001b[0m         pyarrow_additional_kwargs\u001b[39m=\u001b[39;49mpyarrow_additional_kwargs,\n\u001b[1;32m    440\u001b[0m     )\n\u001b[1;32m    441\u001b[0m \u001b[39mfinally\u001b[39;00m:\n\u001b[1;32m    442\u001b[0m     catalog\u001b[39m.\u001b[39mdelete_table_if_exists(\n\u001b[1;32m    443\u001b[0m         database\u001b[39m=\u001b[39mctas_database_name \u001b[39mor\u001b[39;00m database, table\u001b[39m=\u001b[39mname, boto3_session\u001b[39m=\u001b[39mboto3_session\n\u001b[1;32m    444\u001b[0m     )\n",
      "File \u001b[0;32m/opt/miniconda3/envs/stellar/lib/python3.8/site-packages/awswrangler/athena/_read.py:263\u001b[0m, in \u001b[0;36m_resolve_query_without_cache_ctas\u001b[0;34m(sql, database, data_source, s3_output, keep_files, chunksize, categories, encryption, workgroup, kms_key, alt_database, name, ctas_bucketing_info, use_threads, s3_additional_kwargs, boto3_session, pyarrow_additional_kwargs)\u001b[0m\n\u001b[1;32m    244\u001b[0m \u001b[39mdef\u001b[39;00m \u001b[39m_resolve_query_without_cache_ctas\u001b[39m(\n\u001b[1;32m    245\u001b[0m     sql: \u001b[39mstr\u001b[39m,\n\u001b[1;32m    246\u001b[0m     database: Optional[\u001b[39mstr\u001b[39m],\n\u001b[0;32m   (...)\u001b[0m\n\u001b[1;32m    261\u001b[0m     pyarrow_additional_kwargs: Optional[Dict[\u001b[39mstr\u001b[39m, Any]] \u001b[39m=\u001b[39m \u001b[39mNone\u001b[39;00m,\n\u001b[1;32m    262\u001b[0m ) \u001b[39m-\u001b[39m\u001b[39m>\u001b[39m Union[pd\u001b[39m.\u001b[39mDataFrame, Iterator[pd\u001b[39m.\u001b[39mDataFrame]]:\n\u001b[0;32m--> 263\u001b[0m     ctas_query_info: Dict[\u001b[39mstr\u001b[39m, Union[\u001b[39mstr\u001b[39m, _QueryMetadata]] \u001b[39m=\u001b[39m create_ctas_table(\n\u001b[1;32m    264\u001b[0m         sql\u001b[39m=\u001b[39;49msql,\n\u001b[1;32m    265\u001b[0m         database\u001b[39m=\u001b[39;49mdatabase,\n\u001b[1;32m    266\u001b[0m         ctas_table\u001b[39m=\u001b[39;49mname,\n\u001b[1;32m    267\u001b[0m         ctas_database\u001b[39m=\u001b[39;49malt_database,\n\u001b[1;32m    268\u001b[0m         bucketing_info\u001b[39m=\u001b[39;49mctas_bucketing_info,\n\u001b[1;32m    269\u001b[0m         data_source\u001b[39m=\u001b[39;49mdata_source,\n\u001b[1;32m    270\u001b[0m         s3_output\u001b[39m=\u001b[39;49ms3_output,\n\u001b[1;32m    271\u001b[0m         workgroup\u001b[39m=\u001b[39;49mworkgroup,\n\u001b[1;32m    272\u001b[0m         encryption\u001b[39m=\u001b[39;49mencryption,\n\u001b[1;32m    273\u001b[0m         kms_key\u001b[39m=\u001b[39;49mkms_key,\n\u001b[1;32m    274\u001b[0m         wait\u001b[39m=\u001b[39;49m\u001b[39mTrue\u001b[39;49;00m,\n\u001b[1;32m    275\u001b[0m         boto3_session\u001b[39m=\u001b[39;49mboto3_session,\n\u001b[1;32m    276\u001b[0m     )\n\u001b[1;32m    277\u001b[0m     fully_qualified_name: \u001b[39mstr\u001b[39m \u001b[39m=\u001b[39m \u001b[39mf\u001b[39m\u001b[39m'\u001b[39m\u001b[39m\"\u001b[39m\u001b[39m{\u001b[39;00mctas_query_info[\u001b[39m\"\u001b[39m\u001b[39mctas_database\u001b[39m\u001b[39m\"\u001b[39m]\u001b[39m}\u001b[39;00m\u001b[39m\"\u001b[39m\u001b[39m.\u001b[39m\u001b[39m\"\u001b[39m\u001b[39m{\u001b[39;00mctas_query_info[\u001b[39m\"\u001b[39m\u001b[39mctas_table\u001b[39m\u001b[39m\"\u001b[39m]\u001b[39m}\u001b[39;00m\u001b[39m\"\u001b[39m\u001b[39m'\u001b[39m\n\u001b[1;32m    278\u001b[0m     ctas_query_metadata: _QueryMetadata \u001b[39m=\u001b[39m ctas_query_info[\u001b[39m\"\u001b[39m\u001b[39mctas_query_metadata\u001b[39m\u001b[39m\"\u001b[39m]  \u001b[39m# type: ignore\u001b[39;00m\n",
      "File \u001b[0;32m/opt/miniconda3/envs/stellar/lib/python3.8/site-packages/awswrangler/_config.py:461\u001b[0m, in \u001b[0;36mapply_configs.<locals>.wrapper\u001b[0;34m(*args_raw, **kwargs)\u001b[0m\n\u001b[1;32m    459\u001b[0m         \u001b[39mdel\u001b[39;00m args[name]\n\u001b[1;32m    460\u001b[0m         args \u001b[39m=\u001b[39m {\u001b[39m*\u001b[39m\u001b[39m*\u001b[39margs, \u001b[39m*\u001b[39m\u001b[39m*\u001b[39mkeywords}\n\u001b[0;32m--> 461\u001b[0m \u001b[39mreturn\u001b[39;00m function(\u001b[39m*\u001b[39;49m\u001b[39m*\u001b[39;49margs)\n",
      "File \u001b[0;32m/opt/miniconda3/envs/stellar/lib/python3.8/site-packages/awswrangler/athena/_utils.py:767\u001b[0m, in \u001b[0;36mcreate_ctas_table\u001b[0;34m(sql, database, ctas_table, ctas_database, s3_output, storage_format, write_compression, partitioning_info, bucketing_info, field_delimiter, schema_only, workgroup, data_source, encryption, kms_key, categories, wait, boto3_session)\u001b[0m\n\u001b[1;32m    764\u001b[0m fully_qualified_name \u001b[39m=\u001b[39m \u001b[39mf\u001b[39m\u001b[39m'\u001b[39m\u001b[39m\"\u001b[39m\u001b[39m{\u001b[39;00mctas_database\u001b[39m}\u001b[39;00m\u001b[39m\"\u001b[39m\u001b[39m.\u001b[39m\u001b[39m\"\u001b[39m\u001b[39m{\u001b[39;00mctas_table\u001b[39m}\u001b[39;00m\u001b[39m\"\u001b[39m\u001b[39m'\u001b[39m\n\u001b[1;32m    766\u001b[0m wg_config: _WorkGroupConfig \u001b[39m=\u001b[39m _get_workgroup_config(session\u001b[39m=\u001b[39mboto3_session, workgroup\u001b[39m=\u001b[39mworkgroup)\n\u001b[0;32m--> 767\u001b[0m s3_output \u001b[39m=\u001b[39m _get_s3_output(s3_output\u001b[39m=\u001b[39;49ms3_output, wg_config\u001b[39m=\u001b[39;49mwg_config, boto3_session\u001b[39m=\u001b[39;49mboto3_session)\n\u001b[1;32m    768\u001b[0m s3_output \u001b[39m=\u001b[39m s3_output[:\u001b[39m-\u001b[39m\u001b[39m1\u001b[39m] \u001b[39mif\u001b[39;00m s3_output[\u001b[39m-\u001b[39m\u001b[39m1\u001b[39m] \u001b[39m==\u001b[39m \u001b[39m\"\u001b[39m\u001b[39m/\u001b[39m\u001b[39m\"\u001b[39m \u001b[39melse\u001b[39;00m s3_output\n\u001b[1;32m    769\u001b[0m \u001b[39m# If the workgroup enforces an external location, then it overrides the user supplied argument\u001b[39;00m\n",
      "File \u001b[0;32m/opt/miniconda3/envs/stellar/lib/python3.8/site-packages/awswrangler/athena/_utils.py:52\u001b[0m, in \u001b[0;36m_get_s3_output\u001b[0;34m(s3_output, wg_config, boto3_session)\u001b[0m\n\u001b[1;32m     50\u001b[0m \u001b[39mif\u001b[39;00m wg_config\u001b[39m.\u001b[39ms3_output \u001b[39mis\u001b[39;00m \u001b[39mnot\u001b[39;00m \u001b[39mNone\u001b[39;00m:\n\u001b[1;32m     51\u001b[0m     \u001b[39mreturn\u001b[39;00m wg_config\u001b[39m.\u001b[39ms3_output\n\u001b[0;32m---> 52\u001b[0m \u001b[39mreturn\u001b[39;00m create_athena_bucket(boto3_session\u001b[39m=\u001b[39;49mboto3_session)\n",
      "File \u001b[0;32m/opt/miniconda3/envs/stellar/lib/python3.8/site-packages/awswrangler/athena/_utils.py:375\u001b[0m, in \u001b[0;36mcreate_athena_bucket\u001b[0;34m(boto3_session)\u001b[0m\n\u001b[1;32m    373\u001b[0m     \u001b[39mif\u001b[39;00m err\u001b[39m.\u001b[39mresponse[\u001b[39m\"\u001b[39m\u001b[39mError\u001b[39m\u001b[39m\"\u001b[39m][\u001b[39m\"\u001b[39m\u001b[39mCode\u001b[39m\u001b[39m\"\u001b[39m] \u001b[39m==\u001b[39m \u001b[39m\"\u001b[39m\u001b[39mOperationAborted\u001b[39m\u001b[39m\"\u001b[39m:\n\u001b[1;32m    374\u001b[0m         _logger\u001b[39m.\u001b[39mdebug(\u001b[39m\"\u001b[39m\u001b[39mA conflicting conditional operation is currently in progress against this resource.\u001b[39m\u001b[39m\"\u001b[39m)\n\u001b[0;32m--> 375\u001b[0m bucket\u001b[39m.\u001b[39;49mwait_until_exists()\n\u001b[1;32m    376\u001b[0m \u001b[39mreturn\u001b[39;00m path\n",
      "File \u001b[0;32m/opt/miniconda3/envs/stellar/lib/python3.8/site-packages/boto3/resources/factory.py:413\u001b[0m, in \u001b[0;36mResourceFactory._create_waiter.<locals>.do_waiter\u001b[0;34m(self, *args, **kwargs)\u001b[0m\n\u001b[1;32m    412\u001b[0m \u001b[39mdef\u001b[39;00m \u001b[39mdo_waiter\u001b[39m(\u001b[39mself\u001b[39m, \u001b[39m*\u001b[39margs, \u001b[39m*\u001b[39m\u001b[39m*\u001b[39mkwargs):\n\u001b[0;32m--> 413\u001b[0m     waiter(\u001b[39mself\u001b[39;49m, \u001b[39m*\u001b[39;49margs, \u001b[39m*\u001b[39;49m\u001b[39m*\u001b[39;49mkwargs)\n",
      "File \u001b[0;32m/opt/miniconda3/envs/stellar/lib/python3.8/site-packages/boto3/resources/action.py:215\u001b[0m, in \u001b[0;36mWaiterAction.__call__\u001b[0;34m(self, parent, *args, **kwargs)\u001b[0m\n\u001b[1;32m    213\u001b[0m client \u001b[39m=\u001b[39m parent\u001b[39m.\u001b[39mmeta\u001b[39m.\u001b[39mclient\n\u001b[1;32m    214\u001b[0m waiter \u001b[39m=\u001b[39m client\u001b[39m.\u001b[39mget_waiter(client_waiter_name)\n\u001b[0;32m--> 215\u001b[0m response \u001b[39m=\u001b[39m waiter\u001b[39m.\u001b[39;49mwait(\u001b[39m*\u001b[39;49m\u001b[39m*\u001b[39;49mparams)\n\u001b[1;32m    217\u001b[0m logger\u001b[39m.\u001b[39mdebug(\u001b[39m'\u001b[39m\u001b[39mResponse: \u001b[39m\u001b[39m%r\u001b[39;00m\u001b[39m'\u001b[39m, response)\n",
      "File \u001b[0;32m/opt/miniconda3/envs/stellar/lib/python3.8/site-packages/botocore/waiter.py:55\u001b[0m, in \u001b[0;36mcreate_waiter_with_client.<locals>.wait\u001b[0;34m(self, **kwargs)\u001b[0m\n\u001b[1;32m     54\u001b[0m \u001b[39mdef\u001b[39;00m \u001b[39mwait\u001b[39m(\u001b[39mself\u001b[39m, \u001b[39m*\u001b[39m\u001b[39m*\u001b[39mkwargs):\n\u001b[0;32m---> 55\u001b[0m     Waiter\u001b[39m.\u001b[39;49mwait(\u001b[39mself\u001b[39;49m, \u001b[39m*\u001b[39;49m\u001b[39m*\u001b[39;49mkwargs)\n",
      "File \u001b[0;32m/opt/miniconda3/envs/stellar/lib/python3.8/site-packages/botocore/waiter.py:388\u001b[0m, in \u001b[0;36mWaiter.wait\u001b[0;34m(self, **kwargs)\u001b[0m\n\u001b[1;32m    383\u001b[0m     \u001b[39melse\u001b[39;00m:\n\u001b[1;32m    384\u001b[0m         reason \u001b[39m=\u001b[39m (\n\u001b[1;32m    385\u001b[0m             \u001b[39m'\u001b[39m\u001b[39mMax attempts exceeded. Previously accepted state: \u001b[39m\u001b[39m%s\u001b[39;00m\u001b[39m'\u001b[39m\n\u001b[1;32m    386\u001b[0m             \u001b[39m%\u001b[39m (acceptor\u001b[39m.\u001b[39mexplanation)\n\u001b[1;32m    387\u001b[0m         )\n\u001b[0;32m--> 388\u001b[0m     \u001b[39mraise\u001b[39;00m WaiterError(\n\u001b[1;32m    389\u001b[0m         name\u001b[39m=\u001b[39m\u001b[39mself\u001b[39m\u001b[39m.\u001b[39mname,\n\u001b[1;32m    390\u001b[0m         reason\u001b[39m=\u001b[39mreason,\n\u001b[1;32m    391\u001b[0m         last_response\u001b[39m=\u001b[39mresponse,\n\u001b[1;32m    392\u001b[0m     )\n\u001b[1;32m    393\u001b[0m time\u001b[39m.\u001b[39msleep(sleep_amount)\n",
      "\u001b[0;31mWaiterError\u001b[0m: Waiter BucketExists failed: Max attempts exceeded. Previously accepted state: Matched expected HTTP status code: 404"
     ]
    }
   ],
   "source": [
    "df = wr.athena.read_sql_query(\n",
    "    boto3_session= SESSION, \n",
    "    database= DATABASE, \n",
    "    sql= SQL, \n",
    "    workgroup= WORKGROUP)\n",
    "df.shape\n",
    "\n",
    "wr.athena.read_sql_query()"
   ]
  },
  {
   "cell_type": "code",
   "execution_count": null,
   "metadata": {},
   "outputs": [],
   "source": []
  }
 ],
 "metadata": {
  "kernelspec": {
   "display_name": "stellar",
   "language": "python",
   "name": "python3"
  },
  "language_info": {
   "codemirror_mode": {
    "name": "ipython",
    "version": 3
   },
   "file_extension": ".py",
   "mimetype": "text/x-python",
   "name": "python",
   "nbconvert_exporter": "python",
   "pygments_lexer": "ipython3",
   "version": "3.8.5"
  },
  "orig_nbformat": 4
 },
 "nbformat": 4,
 "nbformat_minor": 2
}
