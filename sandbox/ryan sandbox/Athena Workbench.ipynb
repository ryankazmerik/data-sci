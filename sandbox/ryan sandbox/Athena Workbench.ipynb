{
 "cells": [
  {
   "cell_type": "code",
   "execution_count": 1,
   "metadata": {},
   "outputs": [
    {
     "name": "stderr",
     "output_type": "stream",
     "text": [
      "/opt/miniconda3/envs/stellar/lib/python3.8/site-packages/requests/__init__.py:109: RequestsDependencyWarning: urllib3 (1.26.12) or chardet (5.0.0)/charset_normalizer (2.0.12) doesn't match a supported version!\n",
      "  warnings.warn(\n"
     ]
    }
   ],
   "source": [
    "import awswrangler as wr\n",
    "import pandas as pd\n",
    "\n",
    "from data_sci_toolkit.aws_tools import permission_tools \n",
    "\n",
    "pd.set_option('display.max_rows', None)\n",
    "pd.set_option('display.max_columns', None)"
   ]
  },
  {
   "cell_type": "code",
   "execution_count": 2,
   "metadata": {},
   "outputs": [
    {
     "name": "stdout",
     "output_type": "stream",
     "text": [
      "Attempting to automatically open the SSO authorization page in your default browser.\n",
      "If the browser does not open or you wish to use a different device to authorize this request, open the following URL:\n",
      "\n",
      "https://device.sso.us-east-1.amazonaws.com/\n",
      "\n",
      "Then enter the code:\n",
      "\n",
      "HNRS-CPPR\n",
      "Successfully logged into Start URL: https://stellaralgo.awsapps.com/start#/\n",
      "Authorized as AROAQBUNWK7XN5DTYWPLJ:rkazmerik@stellaralgo.com\n"
     ]
    }
   ],
   "source": [
    "SESSION = permission_tools.get_aws_session(\"Dev-DataScienceAdmin\")"
   ]
  },
  {
   "cell_type": "code",
   "execution_count": 3,
   "metadata": {},
   "outputs": [],
   "source": [
    "DATABASE = \"integrations_milb_aviators\"\n",
    "S3_BUCKET = \"s3://dev-athena-testing-us-east-1\""
   ]
  },
  {
   "cell_type": "code",
   "execution_count": 4,
   "metadata": {},
   "outputs": [
    {
     "data": {
      "text/plain": [
       "(10, 76)"
      ]
     },
     "execution_count": 4,
     "metadata": {},
     "output_type": "execute_result"
    }
   ],
   "source": [
    "df = wr.athena.read_sql_query(\n",
    "    boto3_session= SESSION, \n",
    "    ctas_approach= False,\n",
    "    database= DATABASE,\n",
    "    s3_output= S3_BUCKET,\n",
    "    sql= \"\"\"\n",
    "        WITH customers as (\n",
    "            select * \n",
    "            from integrations_milb_aviators.customers c\n",
    "            CROSS JOIN UNNEST(account_ids['ticketing'], account_ids['retail']) as t(ticket_ids, retail_ids)\n",
    "        ),\n",
    "        ticketing AS (\n",
    "            select *\n",
    "            from integrations_milb_aviators.tickets t\n",
    "            CROSS JOIN UNNEST(resales, forwards, scans) as t(resale_data, forward_data, scan_data)\n",
    "            where returned_at IS NULL\n",
    "        )\n",
    "        \n",
    "        select * \n",
    "        from ticketing t\n",
    "        INNER JOIN integrations_milb_aviators.ticketing_events e\n",
    "        on t.event_id = e.id\n",
    "        INNER JOIN customers c\n",
    "        on c.ticket_ids = t.account_id limit 10 \n",
    "    \"\"\"\n",
    ")\n",
    "df.shape"
   ]
  },
  {
   "cell_type": "code",
   "execution_count": 26,
   "metadata": {
    "vscode": {
     "languageId": "sql"
    }
   },
   "outputs": [],
   "source": [
    "sql_2 = \"\"\"with \n",
    "customers as (\n",
    "    select c.id as scv_id, source_system_type, account_id, venue\n",
    "    from integrations_milb_aviators.customers as c\n",
    "    cross join unnest(account_ids) as t(source_system_type, source_account_ids)\n",
    "    cross join unnest(source_account_ids) as a(account_id)\n",
    "    cross join unnest(venues) as v(venue)\n",
    "),\n",
    "ticketing_customers as (\n",
    "    select \n",
    "        c.scv_id, \n",
    "        c.venue.distance as distance_to_venue, \n",
    "        te.season_year, \n",
    "        t.event_id,\n",
    "        te.start_date as event_date,\n",
    "        t.stlr_product, \n",
    "        t.seat_id,\n",
    "        t.price,\n",
    "        t.purchased_at,\n",
    "        t.scans is not null as was_attended\n",
    "    from customers as c\n",
    "    join tickets as t on t.account_id = c.account_id and source_system_type = 'ticketing'\n",
    "    join ticketing_events as te on te.id = t.event_id\n",
    ")\n",
    "\n",
    "select c.*, date_diff('day', first_purchase_date, CURRENT_DATE) as tenure\n",
    "from (\n",
    "    select \n",
    "        scv_id, \n",
    "        distance_to_venue, \n",
    "        stlr_product, \n",
    "        season_year, \n",
    "        max(event_date) as last_event_date,\n",
    "        count(*) as tickets_purchased, \n",
    "        sum(price) as total_spent, \n",
    "        (1.0 * sum(case when was_attended then 1 else 0 end)) / count(*) as attendance_percentage,\n",
    "        max(case when was_attended then event_date else null end) as last_attendance_date,\n",
    "        (lead(count(*), 1) over (partition by scv_id order by season_year) is not null) as is_next_year_buyer\n",
    "    from ticketing_customers\n",
    "    group by scv_id, distance_to_venue, stlr_product, season_year) as c\n",
    "join (\n",
    "    select scv_id, min(purchased_at) as first_purchase_date\n",
    "    from ticketing_customers\n",
    "    group by scv_id\n",
    ") as t\n",
    "on c.scv_id = t.scv_id\"\"\""
   ]
  },
  {
   "cell_type": "code",
   "execution_count": 27,
   "metadata": {
    "vscode": {
     "languageId": "sql"
    }
   },
   "outputs": [
    {
     "data": {
      "text/plain": [
       "(201687, 11)"
      ]
     },
     "execution_count": 27,
     "metadata": {},
     "output_type": "execute_result"
    }
   ],
   "source": [
    "df_2 = wr.athena.read_sql_query(\n",
    "    boto3_session= SESSION, \n",
    "    ctas_approach= False,\n",
    "    database= DATABASE,\n",
    "    s3_output= S3_BUCKET,\n",
    "    sql= sql_2\n",
    ")\n",
    "df_2.shape"
   ]
  },
  {
   "cell_type": "code",
   "execution_count": 28,
   "metadata": {
    "vscode": {
     "languageId": "sql"
    }
   },
   "outputs": [
    {
     "data": {
      "text/html": [
       "<div>\n",
       "<style scoped>\n",
       "    .dataframe tbody tr th:only-of-type {\n",
       "        vertical-align: middle;\n",
       "    }\n",
       "\n",
       "    .dataframe tbody tr th {\n",
       "        vertical-align: top;\n",
       "    }\n",
       "\n",
       "    .dataframe thead th {\n",
       "        text-align: right;\n",
       "    }\n",
       "</style>\n",
       "<table border=\"1\" class=\"dataframe\">\n",
       "  <thead>\n",
       "    <tr style=\"text-align: right;\">\n",
       "      <th></th>\n",
       "      <th>scv_id</th>\n",
       "      <th>distance_to_venue</th>\n",
       "      <th>stlr_product</th>\n",
       "      <th>season_year</th>\n",
       "      <th>last_event_date</th>\n",
       "      <th>tickets_purchased</th>\n",
       "      <th>total_spent</th>\n",
       "      <th>attendance_percentage</th>\n",
       "      <th>last_attendance_date</th>\n",
       "      <th>is_next_year_buyer</th>\n",
       "      <th>tenure</th>\n",
       "    </tr>\n",
       "  </thead>\n",
       "  <tbody>\n",
       "    <tr>\n",
       "      <th>0</th>\n",
       "      <td>00005d638f4a29b761e274cd5610a15c</td>\n",
       "      <td>19.413923</td>\n",
       "      <td>Individual</td>\n",
       "      <td>2013</td>\n",
       "      <td>2013-05-13 00:00:00</td>\n",
       "      <td>2</td>\n",
       "      <td>28.0</td>\n",
       "      <td>1.0</td>\n",
       "      <td>2013-05-13 00:00:00</td>\n",
       "      <td>True</td>\n",
       "      <td>3613</td>\n",
       "    </tr>\n",
       "    <tr>\n",
       "      <th>1</th>\n",
       "      <td>00005d638f4a29b761e274cd5610a15c</td>\n",
       "      <td>19.413923</td>\n",
       "      <td>Individual</td>\n",
       "      <td>2022</td>\n",
       "      <td>2022-09-24 06:00:00</td>\n",
       "      <td>4</td>\n",
       "      <td>124.0</td>\n",
       "      <td>1.0</td>\n",
       "      <td>2022-09-24 06:00:00</td>\n",
       "      <td>False</td>\n",
       "      <td>3613</td>\n",
       "    </tr>\n",
       "    <tr>\n",
       "      <th>2</th>\n",
       "      <td>000306d7b9ba944964bc185463fdd6ea</td>\n",
       "      <td>544.084965</td>\n",
       "      <td>Group</td>\n",
       "      <td>2013</td>\n",
       "      <td>2013-05-31 00:00:00</td>\n",
       "      <td>1</td>\n",
       "      <td>14.0</td>\n",
       "      <td>0.0</td>\n",
       "      <td>NaT</td>\n",
       "      <td>False</td>\n",
       "      <td>3595</td>\n",
       "    </tr>\n",
       "    <tr>\n",
       "      <th>3</th>\n",
       "      <td>000587e1c86c0277ff9d85f5b9ca90c8</td>\n",
       "      <td>1.608480</td>\n",
       "      <td>Individual</td>\n",
       "      <td>2019</td>\n",
       "      <td>2019-06-21 00:00:00</td>\n",
       "      <td>2</td>\n",
       "      <td>54.0</td>\n",
       "      <td>1.0</td>\n",
       "      <td>2019-06-21 00:00:00</td>\n",
       "      <td>True</td>\n",
       "      <td>1444</td>\n",
       "    </tr>\n",
       "    <tr>\n",
       "      <th>4</th>\n",
       "      <td>000587e1c86c0277ff9d85f5b9ca90c8</td>\n",
       "      <td>1.608480</td>\n",
       "      <td>Individual</td>\n",
       "      <td>2021</td>\n",
       "      <td>2021-07-02 00:00:00</td>\n",
       "      <td>2</td>\n",
       "      <td>60.0</td>\n",
       "      <td>1.0</td>\n",
       "      <td>2021-07-02 00:00:00</td>\n",
       "      <td>False</td>\n",
       "      <td>1444</td>\n",
       "    </tr>\n",
       "  </tbody>\n",
       "</table>\n",
       "</div>"
      ],
      "text/plain": [
       "                             scv_id  distance_to_venue stlr_product  \\\n",
       "0  00005d638f4a29b761e274cd5610a15c          19.413923   Individual   \n",
       "1  00005d638f4a29b761e274cd5610a15c          19.413923   Individual   \n",
       "2  000306d7b9ba944964bc185463fdd6ea         544.084965        Group   \n",
       "3  000587e1c86c0277ff9d85f5b9ca90c8           1.608480   Individual   \n",
       "4  000587e1c86c0277ff9d85f5b9ca90c8           1.608480   Individual   \n",
       "\n",
       "   season_year     last_event_date  tickets_purchased  total_spent  \\\n",
       "0         2013 2013-05-13 00:00:00                  2         28.0   \n",
       "1         2022 2022-09-24 06:00:00                  4        124.0   \n",
       "2         2013 2013-05-31 00:00:00                  1         14.0   \n",
       "3         2019 2019-06-21 00:00:00                  2         54.0   \n",
       "4         2021 2021-07-02 00:00:00                  2         60.0   \n",
       "\n",
       "   attendance_percentage last_attendance_date  is_next_year_buyer  tenure  \n",
       "0                    1.0  2013-05-13 00:00:00                True    3613  \n",
       "1                    1.0  2022-09-24 06:00:00               False    3613  \n",
       "2                    0.0                  NaT               False    3595  \n",
       "3                    1.0  2019-06-21 00:00:00                True    1444  \n",
       "4                    1.0  2021-07-02 00:00:00               False    1444  "
      ]
     },
     "execution_count": 28,
     "metadata": {},
     "output_type": "execute_result"
    }
   ],
   "source": [
    "df_2.head()"
   ]
  },
  {
   "cell_type": "code",
   "execution_count": null,
   "metadata": {
    "vscode": {
     "languageId": "sql"
    }
   },
   "outputs": [],
   "source": [
    "sql_3 = \"\"\"\n",
    "with \n",
    "customers as (\n",
    "    select scv_id, distance_to_venue, min(purchased_at) as first_purchase_date\n",
    "    from integrations_ds_milb_aviators.cohort_ticketing\n",
    "    group by scv_id, distance_to_venue\n",
    "),\n",
    "tickets as (\n",
    "    select \n",
    "        scv_id, \n",
    "        product, \n",
    "        season_year, \n",
    "        event_date,\n",
    "        price, \n",
    "        game_number,\n",
    "        filter(scans, x -> x.account_id = account_id and x.is_valid) as owner_scans\n",
    "    from integrations_ds_milb_aviators.cohort_ticketing\n",
    "),\n",
    "games as (\n",
    "    select \n",
    "        *,\n",
    "        lead(game_number, 1) over (partition by scv_id, product, season_year order by game_number) as next_game_number\n",
    "    from (\n",
    "        select distinct\n",
    "            scv_id, \n",
    "            product,\n",
    "            season_year,\n",
    "            game_number,\n",
    "            first_value(game_number) over (partition by product, season_year order by game_number desc) as max_game_number\n",
    "        from tickets\n",
    "    )\n",
    "    where game_number is not null\n",
    "),\n",
    "seasons as (\n",
    "    select \n",
    "        t.scv_id, \n",
    "        t.product, \n",
    "        t.season_year, \n",
    "        max(t.event_date) as last_event_date,\n",
    "        count(*) as tickets_purchased, \n",
    "        sum(t.price) as total_spent, \n",
    "        (1.0 * sum(case when t.owner_scans is not null and cardinality(t.owner_scans) > 1 then 1 else 0 end)) / count(*) as attendance_percentage,\n",
    "        max(case when t.owner_scans is not null and cardinality(t.owner_scans) > 1 then event_date else null end) as last_attendance_date,\n",
    "        (lead(count(*), 1) over (partition by t.scv_id order by t.season_year) is not null) as is_next_year_buyer,\n",
    "        sum(\n",
    "            case when coalesce(g.next_game_number, g.max_game_number) - g.game_number > 1 then 1 else 0 end\n",
    "        ) as consecutive_games_missed\n",
    "    from tickets as t\n",
    "    left join games as g on t.scv_id = g.scv_id and t.season_year = g.season_year and t.product = g.product\n",
    "    group by t.scv_id, t.product, t.season_year\n",
    ")\n",
    "\n",
    "select \n",
    "    s.*,\n",
    "    date_diff('day', c.first_purchase_date, s.last_event_date) as tenure,\n",
    "    date_diff('day', s.last_event_date, localtimestamp) as recency,\n",
    "    c.distance_to_venue,\n",
    "    c.first_purchase_date\n",
    "from seasons as s\n",
    "left join games as g on s.scv_id = g.scv_id and s.season_year = g.season_year and s.product = s.product\n",
    "left join customers as c on s.scv_id = c.scv_id\n",
    "\"\"\""
   ]
  },
  {
   "cell_type": "code",
   "execution_count": null,
   "metadata": {
    "vscode": {
     "languageId": "sql"
    }
   },
   "outputs": [],
   "source": [
    "df_3 = wr.athena.read_sql_query(\n",
    "    boto3_session= SESSION, \n",
    "    ctas_approach= False,\n",
    "    database= DATABASE,\n",
    "    s3_output= S3_BUCKET,\n",
    "    sql= sql_3\n",
    ")\n",
    "df_3.shape"
   ]
  },
  {
   "cell_type": "code",
   "execution_count": null,
   "metadata": {
    "vscode": {
     "languageId": "sql"
    }
   },
   "outputs": [],
   "source": [
    "df_3.head()"
   ]
  }
 ],
 "metadata": {
  "kernelspec": {
   "display_name": "stellar",
   "language": "python",
   "name": "python3"
  },
  "language_info": {
   "codemirror_mode": {
    "name": "ipython",
    "version": 3
   },
   "file_extension": ".py",
   "mimetype": "text/x-python",
   "name": "python",
   "nbconvert_exporter": "python",
   "pygments_lexer": "ipython3",
   "version": "3.8.5"
  },
  "orig_nbformat": 4
 },
 "nbformat": 4,
 "nbformat_minor": 2
}
