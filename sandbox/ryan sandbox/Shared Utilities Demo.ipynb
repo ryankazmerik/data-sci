{
 "cells": [
  {
   "cell_type": "code",
   "execution_count": 48,
   "id": "51c18d4b-cb84-400c-89ea-4817c7070476",
   "metadata": {},
   "outputs": [
    {
     "data": {
      "text/plain": [
       "<module 'shared_utilities.helpers' from '/Users/ryankazmerik/Git/data-sci/shared_utilities/shared_utilities/helpers.py'>"
      ]
     },
     "execution_count": 48,
     "metadata": {},
     "output_type": "execute_result"
    }
   ],
   "source": [
    "import boto3\n",
    "import json\n",
    "\n",
    "from importlib import reload\n",
    "\n",
    "from shared_utilities import helpers\n",
    "reload(helpers)"
   ]
  },
  {
   "cell_type": "code",
   "execution_count": 28,
   "id": "065c4514",
   "metadata": {},
   "outputs": [
    {
     "name": "stdout",
     "output_type": "stream",
     "text": [
      "Hello World\n"
     ]
    }
   ],
   "source": [
    "print(helpers.hello_world())"
   ]
  },
  {
   "cell_type": "markdown",
   "id": "a6d693e1",
   "metadata": {},
   "source": [
    "### Test Create Connection to AWS:"
   ]
  },
  {
   "cell_type": "code",
   "execution_count": 29,
   "id": "4f1bf8ed",
   "metadata": {},
   "outputs": [
    {
     "name": "stdout",
     "output_type": "stream",
     "text": [
      "Authorized as AROASQ4JELIXYLYV6P4UV:rkazmerik@stellaralgo.com"
     ]
    },
    {
     "data": {
      "text/plain": [
       "Session(region_name='us-east-1')"
      ]
     },
     "execution_count": 29,
     "metadata": {},
     "output_type": "execute_result"
    }
   ],
   "source": [
    "helpers.get_aws_session(\"Stellaralgo-DataScienceAdmin\")"
   ]
  },
  {
   "cell_type": "markdown",
   "id": "b0532113",
   "metadata": {},
   "source": [
    "### Test Returning Retention Dataset:"
   ]
  },
  {
   "cell_type": "code",
   "execution_count": 35,
   "id": "c4c67614",
   "metadata": {},
   "outputs": [
    {
     "data": {
      "text/plain": [
       "(7862, 24)"
      ]
     },
     "execution_count": 35,
     "metadata": {},
     "output_type": "execute_result"
    }
   ],
   "source": [
    "df_retention = helpers.get_retention_dataset(\n",
    "    cluster=\"qa-app\",\n",
    "    database=\"stlrcanucks\",\n",
    "    lkupclientid=\"7\",\n",
    "    start_year=2019,\n",
    "    end_year=2021\n",
    ")\n",
    "\n",
    "df_retention.shape"
   ]
  },
  {
   "cell_type": "code",
   "execution_count": 37,
   "id": "79b4bd06",
   "metadata": {},
   "outputs": [
    {
     "data": {
      "text/plain": [
       "(107977, 24)"
      ]
     },
     "execution_count": 37,
     "metadata": {},
     "output_type": "execute_result"
    }
   ],
   "source": [
    "df_product_propensity = helpers.get_product_propensity_dataset(\n",
    "    cluster=\"qa-app\",\n",
    "    database=\"stlrcanucks\",\n",
    "    lkupclientid=\"7\",\n",
    "    start_year=2019,\n",
    "    end_year=2021\n",
    ")\n",
    "\n",
    "df_product_propensity.shape"
   ]
  },
  {
   "cell_type": "code",
   "execution_count": 40,
   "id": "3f38b826",
   "metadata": {},
   "outputs": [
    {
     "data": {
      "text/plain": [
       "(7530, 17)"
      ]
     },
     "execution_count": 40,
     "metadata": {},
     "output_type": "execute_result"
    }
   ],
   "source": [
    "df_event_propensity_training = helpers.get_event_propensity_training_dataset(\n",
    "    cluster=\"qa-app\",\n",
    "    database=\"stlrcanucks\",\n",
    "    lkupclientid=\"7\",\n",
    "    start_year=2019,\n",
    "    end_year=2021\n",
    ")\n",
    "\n",
    "df_event_propensity_training.shape"
   ]
  },
  {
   "cell_type": "code",
   "execution_count": 51,
   "id": "6ea6292b",
   "metadata": {},
   "outputs": [
    {
     "data": {
      "text/plain": [
       "(0, 12)"
      ]
     },
     "execution_count": 51,
     "metadata": {},
     "output_type": "execute_result"
    }
   ],
   "source": [
    "df_event_propensity_scoring = helpers.get_event_propensity_scoring_dataset(\n",
    "    cluster=\"qa-app\",\n",
    "    database=\"stlrcanucks\",\n",
    "    lkupclientid=\"7\",\n",
    "    game_date=\"2022-10-22\"\n",
    ")\n",
    "\n",
    "df_event_propensity_scoring.shape\n",
    "\n",
    "# still needs some work\n",
    "# - rename proc to: geteventpropensityscoringdata\n",
    "# - no game dates coming back for stlrcanucks"
   ]
  },
  {
   "cell_type": "code",
   "execution_count": null,
   "id": "9dcb0a3b",
   "metadata": {},
   "outputs": [],
   "source": []
  }
 ],
 "metadata": {
  "kernelspec": {
   "display_name": "Python 3 (ipykernel)",
   "language": "python",
   "name": "python3"
  },
  "language_info": {
   "codemirror_mode": {
    "name": "ipython",
    "version": 3
   },
   "file_extension": ".py",
   "mimetype": "text/x-python",
   "name": "python",
   "nbconvert_exporter": "python",
   "pygments_lexer": "ipython3",
   "version": "3.8.5"
  },
  "vscode": {
   "interpreter": {
    "hash": "89f48dadab51a6b5b48ffc1a9e043c21cefe67453637c3444f3b86917b8aad16"
   }
  }
 },
 "nbformat": 4,
 "nbformat_minor": 5
}
