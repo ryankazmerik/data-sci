{
 "cells": [
  {
   "cell_type": "code",
   "execution_count": 3,
   "id": "51c18d4b-cb84-400c-89ea-4817c7070476",
   "metadata": {},
   "outputs": [
    {
     "data": {
      "text/plain": [
       "<module 'shared_utilities.helpers' from '/Users/ryankazmerik/Git/data-sci/shared_utilities/shared_utilities/helpers.py'>"
      ]
     },
     "execution_count": 3,
     "metadata": {},
     "output_type": "execute_result"
    }
   ],
   "source": [
    "import boto3\n",
    "import json\n",
    "\n",
    "from importlib import reload\n",
    "\n",
    "from shared_utilities import helpers\n",
    "reload(helpers)"
   ]
  },
  {
   "cell_type": "code",
   "execution_count": 4,
   "id": "a7249de6",
   "metadata": {},
   "outputs": [
    {
     "name": "stdout",
     "output_type": "stream",
     "text": [
      "Attempting to automatically open the SSO authorization page in your default browser.\n",
      "If the browser does not open or you wish to use a different device to authorize this request, open the following URL:\n",
      "\n",
      "https://device.sso.us-east-1.amazonaws.com/\n",
      "\n",
      "Then enter the code:\n",
      "\n",
      "JMHM-BQDZ\n",
      "Successfully logged into Start URL: https://stellaralgo.awsapps.com/start\n"
     ]
    }
   ],
   "source": [
    "! aws sso login --profile Stellaralgo-DataScienceAdmin"
   ]
  },
  {
   "cell_type": "markdown",
   "id": "9a0dcf6e",
   "metadata": {},
   "source": [
    "### Test Helpers Module Import"
   ]
  },
  {
   "cell_type": "code",
   "execution_count": 31,
   "id": "065c4514",
   "metadata": {},
   "outputs": [
    {
     "data": {
      "text/plain": [
       "'Hello World'"
      ]
     },
     "execution_count": 31,
     "metadata": {},
     "output_type": "execute_result"
    }
   ],
   "source": [
    "helpers.hello_world()"
   ]
  },
  {
   "cell_type": "markdown",
   "id": "a6d693e1",
   "metadata": {},
   "source": [
    "### Test Create Connection to RedShift:"
   ]
  },
  {
   "cell_type": "code",
   "execution_count": 29,
   "id": "4219b8ea",
   "metadata": {},
   "outputs": [
    {
     "name": "stdout",
     "output_type": "stream",
     "text": [
      "<connection object at 0x7fdb9ca21d60; dsn: 'user=IAMA:admin:admin_group password=xxx dbname=stlrlagalaxy host=qa-app.ctjussvyafp4.us-east-1.redshift.amazonaws.com port=5439', closed: 0>\n"
     ]
    }
   ],
   "source": [
    "rs_cnxn = helpers.get_redshift_connection('qa-app', 'stlrlagalaxy')\n",
    "\n",
    "print(rs_cnxn)"
   ]
  },
  {
   "cell_type": "markdown",
   "id": "3d3ef1ad",
   "metadata": {},
   "source": [
    "### Test Create Connection to MSSQL:"
   ]
  },
  {
   "cell_type": "code",
   "execution_count": 5,
   "id": "5afbfbb6",
   "metadata": {},
   "outputs": [
    {
     "ename": "ClientError",
     "evalue": "An error occurred (AccessDeniedException) when calling the GetParameter operation: User: arn:aws:sts::173696899631:assumed-role/AWSReservedSSO_StellarDataScienceAdmin_6fdb738a751d2dd3/rkazmerik@stellaralgo.com is not authorized to perform: ssm:GetParameter on resource: arn:aws:ssm:us-east-1:173696899631:parameter/product/ai/notebook/db-connections/LEGACY-MSSQL-QA-VPC-WRITE because no identity-based policy allows the ssm:GetParameter action",
     "output_type": "error",
     "traceback": [
      "\u001b[0;31m---------------------------------------------------------------------------\u001b[0m",
      "\u001b[0;31mClientError\u001b[0m                               Traceback (most recent call last)",
      "\u001b[1;32m/Users/ryankazmerik/Git/data-sci/notebooks/ryan sandbox/Shared Utilities Demo.ipynb Cell 8\u001b[0m in \u001b[0;36m<cell line: 1>\u001b[0;34m()\u001b[0m\n\u001b[0;32m----> <a href='vscode-notebook-cell:/Users/ryankazmerik/Git/data-sci/notebooks/ryan%20sandbox/Shared%20Utilities%20Demo.ipynb#ch0000007?line=0'>1</a>\u001b[0m ms_cnxn \u001b[39m=\u001b[39m helpers\u001b[39m.\u001b[39;49mget_mssql_connection(\u001b[39m'\u001b[39;49m\u001b[39mqa\u001b[39;49m\u001b[39m'\u001b[39;49m, \u001b[39m'\u001b[39;49m\u001b[39mstlrflames\u001b[39;49m\u001b[39m'\u001b[39;49m)\n\u001b[1;32m      <a href='vscode-notebook-cell:/Users/ryankazmerik/Git/data-sci/notebooks/ryan%20sandbox/Shared%20Utilities%20Demo.ipynb#ch0000007?line=2'>3</a>\u001b[0m \u001b[39mprint\u001b[39m(ms_cnxn)\n",
      "File \u001b[0;32m~/Git/data-sci/shared_utilities/shared_utilities/helpers.py:34\u001b[0m, in \u001b[0;36mget_mssql_connection\u001b[0;34m(environment, database)\u001b[0m\n\u001b[1;32m     30\u001b[0m     serv \u001b[39m=\u001b[39m \u001b[39m\"\u001b[39m\u001b[39m34.206.73.189\u001b[39m\u001b[39m\"\u001b[39m\n\u001b[1;32m     32\u001b[0m client \u001b[39m=\u001b[39m boto3\u001b[39m.\u001b[39mclient(\u001b[39m'\u001b[39m\u001b[39mssm\u001b[39m\u001b[39m'\u001b[39m)\n\u001b[0;32m---> 34\u001b[0m response \u001b[39m=\u001b[39m client\u001b[39m.\u001b[39;49mget_parameter(\n\u001b[1;32m     35\u001b[0m     Name\u001b[39m=\u001b[39;49m\u001b[39mf\u001b[39;49m\u001b[39m\"\u001b[39;49m\u001b[39m/product/ai/notebook/db-connections/\u001b[39;49m\u001b[39m{\u001b[39;49;00menv\u001b[39m}\u001b[39;49;00m\u001b[39m\"\u001b[39;49m,\n\u001b[1;32m     36\u001b[0m     WithDecryption\u001b[39m=\u001b[39;49m\u001b[39mTrue\u001b[39;49;00m,\n\u001b[1;32m     37\u001b[0m )[\u001b[39m\"\u001b[39m\u001b[39mParameter\u001b[39m\u001b[39m\"\u001b[39m][\u001b[39m\"\u001b[39m\u001b[39mValue\u001b[39m\u001b[39m\"\u001b[39m]\n\u001b[1;32m     39\u001b[0m sql_connection \u001b[39m=\u001b[39m json\u001b[39m.\u001b[39mloads(response)\n\u001b[1;32m     41\u001b[0m cnxn \u001b[39m=\u001b[39m pyodbc\u001b[39m.\u001b[39mconnect(\n\u001b[1;32m     42\u001b[0m     \u001b[39m\"\u001b[39m\u001b[39mDRIVER=\u001b[39m\u001b[39m{\u001b[39m\u001b[39mODBC Driver 17 for SQL Server}\u001b[39m\u001b[39m\"\u001b[39m\n\u001b[1;32m     43\u001b[0m     \u001b[39m+\u001b[39m \u001b[39m\"\u001b[39m\u001b[39m;SERVER=\u001b[39m\u001b[39m\"\u001b[39m\u001b[39m+\u001b[39mserv\n\u001b[0;32m   (...)\u001b[0m\n\u001b[1;32m     46\u001b[0m     \u001b[39m+\u001b[39m \u001b[39m\"\u001b[39m\u001b[39m;PWD=\u001b[39m\u001b[39m\"\u001b[39m\u001b[39m+\u001b[39msql_connection[\u001b[39m\"\u001b[39m\u001b[39mpassword\u001b[39m\u001b[39m\"\u001b[39m]\n\u001b[1;32m     47\u001b[0m )\n",
      "File \u001b[0;32m/opt/miniconda3/envs/stellar/lib/python3.8/site-packages/botocore/client.py:395\u001b[0m, in \u001b[0;36mClientCreator._create_api_method.<locals>._api_call\u001b[0;34m(self, *args, **kwargs)\u001b[0m\n\u001b[1;32m    392\u001b[0m     \u001b[39mraise\u001b[39;00m \u001b[39mTypeError\u001b[39;00m(\n\u001b[1;32m    393\u001b[0m         \u001b[39m\"\u001b[39m\u001b[39m%s\u001b[39;00m\u001b[39m() only accepts keyword arguments.\u001b[39m\u001b[39m\"\u001b[39m \u001b[39m%\u001b[39m py_operation_name)\n\u001b[1;32m    394\u001b[0m \u001b[39m# The \"self\" in this scope is referring to the BaseClient.\u001b[39;00m\n\u001b[0;32m--> 395\u001b[0m \u001b[39mreturn\u001b[39;00m \u001b[39mself\u001b[39;49m\u001b[39m.\u001b[39;49m_make_api_call(operation_name, kwargs)\n",
      "File \u001b[0;32m/opt/miniconda3/envs/stellar/lib/python3.8/site-packages/botocore/client.py:725\u001b[0m, in \u001b[0;36mBaseClient._make_api_call\u001b[0;34m(self, operation_name, api_params)\u001b[0m\n\u001b[1;32m    723\u001b[0m     error_code \u001b[39m=\u001b[39m parsed_response\u001b[39m.\u001b[39mget(\u001b[39m\"\u001b[39m\u001b[39mError\u001b[39m\u001b[39m\"\u001b[39m, {})\u001b[39m.\u001b[39mget(\u001b[39m\"\u001b[39m\u001b[39mCode\u001b[39m\u001b[39m\"\u001b[39m)\n\u001b[1;32m    724\u001b[0m     error_class \u001b[39m=\u001b[39m \u001b[39mself\u001b[39m\u001b[39m.\u001b[39mexceptions\u001b[39m.\u001b[39mfrom_code(error_code)\n\u001b[0;32m--> 725\u001b[0m     \u001b[39mraise\u001b[39;00m error_class(parsed_response, operation_name)\n\u001b[1;32m    726\u001b[0m \u001b[39melse\u001b[39;00m:\n\u001b[1;32m    727\u001b[0m     \u001b[39mreturn\u001b[39;00m parsed_response\n",
      "\u001b[0;31mClientError\u001b[0m: An error occurred (AccessDeniedException) when calling the GetParameter operation: User: arn:aws:sts::173696899631:assumed-role/AWSReservedSSO_StellarDataScienceAdmin_6fdb738a751d2dd3/rkazmerik@stellaralgo.com is not authorized to perform: ssm:GetParameter on resource: arn:aws:ssm:us-east-1:173696899631:parameter/product/ai/notebook/db-connections/LEGACY-MSSQL-QA-VPC-WRITE because no identity-based policy allows the ssm:GetParameter action"
     ]
    }
   ],
   "source": [
    "ms_cnxn = helpers.get_mssql_connection('qa', 'stlrflames')\n",
    "\n",
    "print(ms_cnxn)"
   ]
  },
  {
   "cell_type": "markdown",
   "id": "b0532113",
   "metadata": {},
   "source": [
    "### Test Returning Stored Proc Result Set"
   ]
  },
  {
   "cell_type": "code",
   "execution_count": null,
   "id": "a58cb247",
   "metadata": {},
   "outputs": [],
   "source": [
    "# TBD"
   ]
  }
 ],
 "metadata": {
  "kernelspec": {
   "display_name": "Python 3 (ipykernel)",
   "language": "python",
   "name": "python3"
  },
  "language_info": {
   "codemirror_mode": {
    "name": "ipython",
    "version": 3
   },
   "file_extension": ".py",
   "mimetype": "text/x-python",
   "name": "python",
   "nbconvert_exporter": "python",
   "pygments_lexer": "ipython3",
   "version": "3.8.5"
  },
  "vscode": {
   "interpreter": {
    "hash": "89f48dadab51a6b5b48ffc1a9e043c21cefe67453637c3444f3b86917b8aad16"
   }
  }
 },
 "nbformat": 4,
 "nbformat_minor": 5
}
