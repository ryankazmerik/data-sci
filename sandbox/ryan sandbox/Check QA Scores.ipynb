{
 "cells": [
  {
   "cell_type": "code",
   "execution_count": 8,
   "id": "51c18d4b-cb84-400c-89ea-4817c7070476",
   "metadata": {},
   "outputs": [],
   "source": [
    "import pandas as pd\n",
    "\n",
    "import matplotlib.pyplot as plt"
   ]
  },
  {
   "cell_type": "code",
   "execution_count": 9,
   "id": "4f554b39",
   "metadata": {},
   "outputs": [],
   "source": [
    "df = pd.read_json(\"sacfc_prd_scores.json\")"
   ]
  },
  {
   "cell_type": "code",
   "execution_count": 10,
   "id": "de8a03a5",
   "metadata": {},
   "outputs": [
    {
     "name": "stdout",
     "output_type": "stream",
     "text": [
      "<class 'pandas.core.frame.DataFrame'>\n",
      "RangeIndex: 1747 entries, 0 to 1746\n",
      "Data columns (total 12 columns):\n",
      " #   Column                    Non-Null Count  Dtype  \n",
      "---  ------                    --------------  -----  \n",
      " 0   customerretentionscoreid  1747 non-null   int64  \n",
      " 1   lkupclientid              1747 non-null   int64  \n",
      " 2   seasonyear                1747 non-null   int64  \n",
      " 3   sascore                   1747 non-null   float64\n",
      " 4   mostrecentattendance      1747 non-null   object \n",
      " 5   attendancepercentage      1747 non-null   float64\n",
      " 6   tenuredays                1747 non-null   int64  \n",
      " 7   product                   1747 non-null   object \n",
      " 8   scoredate                 1747 non-null   object \n",
      " 9   updatedatetime            1747 non-null   object \n",
      " 10  isdeleted                 1747 non-null   bool   \n",
      " 11  dimcustomermasterid       1747 non-null   int64  \n",
      "dtypes: bool(1), float64(2), int64(5), object(4)\n",
      "memory usage: 152.0+ KB\n"
     ]
    }
   ],
   "source": [
    "df.info()"
   ]
  },
  {
   "cell_type": "code",
   "execution_count": 11,
   "id": "bfd92e47",
   "metadata": {},
   "outputs": [
    {
     "data": {
      "text/plain": [
       "2022    1747\n",
       "Name: seasonyear, dtype: int64"
      ]
     },
     "execution_count": 11,
     "metadata": {},
     "output_type": "execute_result"
    }
   ],
   "source": [
    "df[\"seasonyear\"].value_counts()"
   ]
  },
  {
   "cell_type": "code",
   "execution_count": 12,
   "id": "e5bd6213",
   "metadata": {},
   "outputs": [
    {
     "data": {
      "image/png": "[encoded data removed]",
      "text/plain": [
       "<Figure size 432x288 with 1 Axes>"
      ]
     },
     "metadata": {
      "needs_background": "light"
     },
     "output_type": "display_data"
    }
   ],
   "source": [
    "plt.hist(df[\"sascore\"], bins=20, edgecolor='black')\n",
    "plt.title(\"SA Retention Scores\")\n",
    "plt.ylabel(\"Num Fans\")\n",
    "plt.xlabel(\"SA Buyer Score\")\n",
    "\n",
    "plt.show()"
   ]
  },
  {
   "cell_type": "code",
   "execution_count": null,
   "id": "8154e3ef",
   "metadata": {},
   "outputs": [],
   "source": []
  },
  {
   "cell_type": "code",
   "execution_count": null,
   "id": "8b959479",
   "metadata": {},
   "outputs": [],
   "source": []
  }
 ],
 "metadata": {
  "kernelspec": {
   "display_name": "Python 3.8.5 ('stellar')",
   "language": "python",
   "name": "python3"
  },
  "language_info": {
   "codemirror_mode": {
    "name": "ipython",
    "version": 3
   },
   "file_extension": ".py",
   "mimetype": "text/x-python",
   "name": "python",
   "nbconvert_exporter": "python",
   "pygments_lexer": "ipython3",
   "version": "3.8.5"
  },
  "vscode": {
   "interpreter": {
    "hash": "89f48dadab51a6b5b48ffc1a9e043c21cefe67453637c3444f3b86917b8aad16"
   }
  }
 },
 "nbformat": 4,
 "nbformat_minor": 5
}
