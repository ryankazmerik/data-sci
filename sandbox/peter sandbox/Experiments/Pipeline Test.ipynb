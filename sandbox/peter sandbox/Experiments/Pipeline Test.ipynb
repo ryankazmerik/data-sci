{
 "cells": [
  {
   "cell_type": "markdown",
   "metadata": {},
   "source": [
    "# Scikit-Learn Pipelines\n",
    "\n",
    "This is a general test of the Pipeline API in Scikit-learn.\n",
    "\n",
    "Goal: Determine if using pipelines is a significant improvement moving forward for us to work with Scikit-learn.\n",
    "\n",
    "Expected outcome: Pipelines will allow us to make robust functionality to preprocess datasets before using Pycaret or to even predict with it.\n",
    "\n",
    "Result: They kind of don't work for us? Depends. If you Don't add any extra columns then it'll work, but if you do add extra columns it'll be janky. Realistically, i think just using a function that applys transforms and returns a Dataframe is a better answer, unfortunately.\n",
    "* Only thing is with the function method, is you can't use gridsearch if you want to do any hyperparameter tuning."
   ]
  },
  {
   "cell_type": "markdown",
   "metadata": {},
   "source": [
    "General Imports"
   ]
  },
  {
   "cell_type": "code",
   "execution_count": 2,
   "metadata": {},
   "outputs": [],
   "source": [
    "import pandas as pd\n",
    "import matplotlib.pyplot as plt\n",
    "import numpy as np\n",
    "import seaborn as sns\n",
    "\n",
    "from pycaret.classification import *\n",
    "from shared_utilities import helpers\n",
    "import matplotlib.pyplot as plt\n",
    "import seaborn as sns\n",
    "\n",
    "from imblearn.over_sampling import SMOTE\n",
    "# from pandas_profiling import ProfileReport\n",
    "from sklearn.decomposition import PCA\n",
    "from sklearn.metrics import mean_absolute_error, f1_score, accuracy_score\n",
    "from sklearn.model_selection import train_test_split\n",
    "from sklearn.preprocessing import LabelEncoder"
   ]
  },
  {
   "cell_type": "code",
   "execution_count": 3,
   "metadata": {},
   "outputs": [],
   "source": [
    "def print_scores(y_test, predictions):\n",
    "    print(f\"MAE: {mean_absolute_error(y_test, predictions)}\")\n",
    "    print(f\"F1: {f1_score(y_test, predictions, average=None)}\")\n",
    "    print(f\"F1: {f1_score(y_test, predictions, average='weighted')}\")\n",
    "    print(f\"Accuracy: {accuracy_score(y_test, predictions)}\")"
   ]
  },
  {
   "cell_type": "code",
   "execution_count": 4,
   "metadata": {},
   "outputs": [],
   "source": [
    "CLUSTER = \"prod-app\"\n",
    "DATABASE = \"stlrcanucks\"\n",
    "LKUPCLIENTID = \"7\"\n",
    "SCORING_YEAR = 2022\n",
    "PRODUCT_MAPPING = {'Mini Pack': 0, 'Quarter': 1, 'Half Season': 2, 'Full Season': 3}\n",
    "PRODUCT_CURRENT_MAPPING = {'Individual': 0, 'Group': 1, 'Mini Pack': 2, 'Quarter': 3, 'Half Season': 4, 'Full Season': 5}\n"
   ]
  },
  {
   "cell_type": "code",
   "execution_count": 5,
   "metadata": {},
   "outputs": [
    {
     "name": "stdout",
     "output_type": "stream",
     "text": [
      "Authorized as AROASQ4JELIXYLYV6P4UV:pmorrison@stellaralgo.com\n"
     ]
    },
    {
     "data": {
      "text/plain": [
       "(699126, 27)"
      ]
     },
     "execution_count": 5,
     "metadata": {},
     "output_type": "execute_result"
    }
   ],
   "source": [
    "dataset = helpers.get_product_propensity_dataset(\n",
    "    cluster=CLUSTER,\n",
    "    database=DATABASE,\n",
    "    lkupclientid=LKUPCLIENTID,\n",
    "    scoring_year=SCORING_YEAR,\n",
    "    type_flag=0\n",
    ")\n",
    "\n",
    "dataset.shape"
   ]
  },
  {
   "cell_type": "code",
   "execution_count": 291,
   "metadata": {},
   "outputs": [],
   "source": [
    "df = dataset.copy()"
   ]
  },
  {
   "cell_type": "code",
   "execution_count": 292,
   "metadata": {},
   "outputs": [],
   "source": [
    "features = [\n",
    "    \"atp_last\",\n",
    "    \"attended_last\",\n",
    "    \"distance\",\n",
    "    \"events_last\",\n",
    "    \"spend_current\",\n",
    "    \"sends\",\n",
    "    \"tenure\",\n",
    "    \"opens\",\n",
    "    \"product\",\n",
    "    \"product_current\",\n",
    "    \"volume_current\"\n",
    "]\n",
    "\n",
    "df = df[features]"
   ]
  },
  {
   "cell_type": "code",
   "execution_count": 293,
   "metadata": {},
   "outputs": [],
   "source": [
    "product_plans = [\n",
    "   \"Full Season\",\n",
    "   \"Half Season\",\n",
    "   \"Quarter\",\n",
    "   \"Mini Pack\"\n",
    "]"
   ]
  },
  {
   "cell_type": "code",
   "execution_count": 294,
   "metadata": {},
   "outputs": [
    {
     "data": {
      "text/plain": [
       "(15924, 11)"
      ]
     },
     "execution_count": 294,
     "metadata": {},
     "output_type": "execute_result"
    }
   ],
   "source": [
    "df = df[df[\"product\"].isin(product_plans)].reset_index(drop=True)\n",
    "df.shape"
   ]
  },
  {
   "cell_type": "code",
   "execution_count": 295,
   "metadata": {},
   "outputs": [],
   "source": [
    "df = df.replace(\"None\", np.nan)\n",
    "df = df.fillna(value=np.nan)"
   ]
  },
  {
   "cell_type": "code",
   "execution_count": 296,
   "metadata": {},
   "outputs": [
    {
     "data": {
      "text/plain": [
       "Full Season    10186\n",
       "Quarter         3526\n",
       "Half Season     1778\n",
       "Mini Pack        434\n",
       "Name: product, dtype: int64"
      ]
     },
     "execution_count": 296,
     "metadata": {},
     "output_type": "execute_result"
    }
   ],
   "source": [
    "df[\"product\"].value_counts()"
   ]
  },
  {
   "cell_type": "code",
   "execution_count": 297,
   "metadata": {},
   "outputs": [
    {
     "data": {
      "text/html": [
       "<div>\n",
       "<style scoped>\n",
       "    .dataframe tbody tr th:only-of-type {\n",
       "        vertical-align: middle;\n",
       "    }\n",
       "\n",
       "    .dataframe tbody tr th {\n",
       "        vertical-align: top;\n",
       "    }\n",
       "\n",
       "    .dataframe thead th {\n",
       "        text-align: right;\n",
       "    }\n",
       "</style>\n",
       "<table border=\"1\" class=\"dataframe\">\n",
       "  <thead>\n",
       "    <tr style=\"text-align: right;\">\n",
       "      <th></th>\n",
       "      <th>atp_last</th>\n",
       "      <th>attended_last</th>\n",
       "      <th>distance</th>\n",
       "      <th>events_last</th>\n",
       "      <th>spend_current</th>\n",
       "      <th>sends</th>\n",
       "      <th>tenure</th>\n",
       "      <th>opens</th>\n",
       "      <th>volume_current</th>\n",
       "    </tr>\n",
       "  </thead>\n",
       "  <tbody>\n",
       "    <tr>\n",
       "      <th>count</th>\n",
       "      <td>13323.000000</td>\n",
       "      <td>13323.000000</td>\n",
       "      <td>15924.000000</td>\n",
       "      <td>13323.000000</td>\n",
       "      <td>1.592400e+04</td>\n",
       "      <td>15607.000000</td>\n",
       "      <td>15924.000000</td>\n",
       "      <td>15607.000000</td>\n",
       "      <td>15924.000000</td>\n",
       "    </tr>\n",
       "    <tr>\n",
       "      <th>mean</th>\n",
       "      <td>113.425459</td>\n",
       "      <td>26.010733</td>\n",
       "      <td>66.315119</td>\n",
       "      <td>30.412745</td>\n",
       "      <td>1.147543e+04</td>\n",
       "      <td>46.355482</td>\n",
       "      <td>2.969731</td>\n",
       "      <td>67.283463</td>\n",
       "      <td>98.396697</td>\n",
       "    </tr>\n",
       "    <tr>\n",
       "      <th>std</th>\n",
       "      <td>63.077590</td>\n",
       "      <td>16.651856</td>\n",
       "      <td>319.442262</td>\n",
       "      <td>18.038207</td>\n",
       "      <td>6.479036e+04</td>\n",
       "      <td>24.670630</td>\n",
       "      <td>1.623274</td>\n",
       "      <td>79.022914</td>\n",
       "      <td>717.966317</td>\n",
       "    </tr>\n",
       "    <tr>\n",
       "      <th>min</th>\n",
       "      <td>0.000000</td>\n",
       "      <td>0.000000</td>\n",
       "      <td>0.390000</td>\n",
       "      <td>0.000000</td>\n",
       "      <td>0.000000e+00</td>\n",
       "      <td>0.000000</td>\n",
       "      <td>1.000000</td>\n",
       "      <td>0.000000</td>\n",
       "      <td>0.000000</td>\n",
       "    </tr>\n",
       "    <tr>\n",
       "      <th>25%</th>\n",
       "      <td>66.575000</td>\n",
       "      <td>10.000000</td>\n",
       "      <td>5.270000</td>\n",
       "      <td>11.000000</td>\n",
       "      <td>2.956800e+03</td>\n",
       "      <td>34.000000</td>\n",
       "      <td>2.000000</td>\n",
       "      <td>17.000000</td>\n",
       "      <td>29.000000</td>\n",
       "    </tr>\n",
       "    <tr>\n",
       "      <th>50%</th>\n",
       "      <td>120.230000</td>\n",
       "      <td>33.000000</td>\n",
       "      <td>12.600000</td>\n",
       "      <td>44.000000</td>\n",
       "      <td>8.491600e+03</td>\n",
       "      <td>46.000000</td>\n",
       "      <td>3.000000</td>\n",
       "      <td>52.000000</td>\n",
       "      <td>88.000000</td>\n",
       "    </tr>\n",
       "    <tr>\n",
       "      <th>75%</th>\n",
       "      <td>152.250000</td>\n",
       "      <td>41.000000</td>\n",
       "      <td>33.600000</td>\n",
       "      <td>45.000000</td>\n",
       "      <td>1.397285e+04</td>\n",
       "      <td>62.000000</td>\n",
       "      <td>4.000000</td>\n",
       "      <td>91.000000</td>\n",
       "      <td>90.000000</td>\n",
       "    </tr>\n",
       "    <tr>\n",
       "      <th>max</th>\n",
       "      <td>517.990000</td>\n",
       "      <td>45.000000</td>\n",
       "      <td>4491.640000</td>\n",
       "      <td>45.000000</td>\n",
       "      <td>4.684388e+06</td>\n",
       "      <td>140.000000</td>\n",
       "      <td>6.000000</td>\n",
       "      <td>1461.000000</td>\n",
       "      <td>52140.000000</td>\n",
       "    </tr>\n",
       "  </tbody>\n",
       "</table>\n",
       "</div>"
      ],
      "text/plain": [
       "           atp_last  attended_last      distance   events_last  spend_current  \\\n",
       "count  13323.000000   13323.000000  15924.000000  13323.000000   1.592400e+04   \n",
       "mean     113.425459      26.010733     66.315119     30.412745   1.147543e+04   \n",
       "std       63.077590      16.651856    319.442262     18.038207   6.479036e+04   \n",
       "min        0.000000       0.000000      0.390000      0.000000   0.000000e+00   \n",
       "25%       66.575000      10.000000      5.270000     11.000000   2.956800e+03   \n",
       "50%      120.230000      33.000000     12.600000     44.000000   8.491600e+03   \n",
       "75%      152.250000      41.000000     33.600000     45.000000   1.397285e+04   \n",
       "max      517.990000      45.000000   4491.640000     45.000000   4.684388e+06   \n",
       "\n",
       "              sends        tenure         opens  volume_current  \n",
       "count  15607.000000  15924.000000  15607.000000    15924.000000  \n",
       "mean      46.355482      2.969731     67.283463       98.396697  \n",
       "std       24.670630      1.623274     79.022914      717.966317  \n",
       "min        0.000000      1.000000      0.000000        0.000000  \n",
       "25%       34.000000      2.000000     17.000000       29.000000  \n",
       "50%       46.000000      3.000000     52.000000       88.000000  \n",
       "75%       62.000000      4.000000     91.000000       90.000000  \n",
       "max      140.000000      6.000000   1461.000000    52140.000000  "
      ]
     },
     "execution_count": 297,
     "metadata": {},
     "output_type": "execute_result"
    }
   ],
   "source": [
    "df.describe()"
   ]
  },
  {
   "cell_type": "code",
   "execution_count": 298,
   "metadata": {},
   "outputs": [
    {
     "data": {
      "text/plain": [
       "atp_last           2601\n",
       "attended_last      2601\n",
       "distance              0\n",
       "events_last        2601\n",
       "spend_current         0\n",
       "sends               317\n",
       "tenure                0\n",
       "opens               317\n",
       "product               0\n",
       "product_current    6245\n",
       "volume_current        0\n",
       "dtype: int64"
      ]
     },
     "execution_count": 298,
     "metadata": {},
     "output_type": "execute_result"
    }
   ],
   "source": [
    "df.isna().sum()"
   ]
  },
  {
   "cell_type": "code",
   "execution_count": 299,
   "metadata": {},
   "outputs": [],
   "source": [
    "X = df.drop(\"product\", axis=1)\n",
    "df[\"product_encoded\"] = LabelEncoder().fit_transform(df[\"product\"])\n",
    "y = df[\"product_encoded\"]\n",
    "\n",
    "X_train, X_test, y_train, y_test = train_test_split(X, y, test_size=.3, \n",
    "                                                random_state=1121218)"
   ]
  },
  {
   "cell_type": "code",
   "execution_count": 300,
   "metadata": {},
   "outputs": [
    {
     "data": {
      "text/plain": [
       "product_encoded  product    \n",
       "0                Full Season    10186\n",
       "3                Quarter         3526\n",
       "1                Half Season     1778\n",
       "2                Mini Pack        434\n",
       "dtype: int64"
      ]
     },
     "execution_count": 300,
     "metadata": {},
     "output_type": "execute_result"
    }
   ],
   "source": [
    "df[[\"product_encoded\", \"product\"]].value_counts()"
   ]
  },
  {
   "cell_type": "code",
   "execution_count": 301,
   "metadata": {},
   "outputs": [
    {
     "name": "stdout",
     "output_type": "stream",
     "text": [
      "Accuracy: 0.9053763440860215\n",
      "MAE: 0.16487455197132617\n",
      "F1: [0.96191457 0.70629371 0.38888889 0.84      ]\n",
      "F1: 0.9080227786928766\n",
      "Accuracy: 0.9053763440860215\n"
     ]
    }
   ],
   "source": [
    "rf_test = RandomForestClassifier()\n",
    "\n",
    "\n",
    "df_test = df.copy()\n",
    "df_test = df_test.dropna()\n",
    "\n",
    "X = df_test.drop([\"product\", \"product_current\"], axis=1)\n",
    "X.drop(\"product_encoded\", inplace=True, axis=1)\n",
    "df_test[\"product_encoded\"] = LabelEncoder().fit_transform(df_test[\"product\"])\n",
    "y = df_test[\"product_encoded\"]\n",
    "\n",
    "X_train_t, X_test_t, y_train_t, y_test_t = train_test_split(X, y, test_size=.3, \n",
    "                                                random_state=1121218)\n",
    "\n",
    "rf_test.fit(X_train_t, y_train_t)\n",
    "score = rf_test.score(X_test_t, y_test_t)\n",
    "print(f\"Accuracy: {score}\")\n",
    "pred = rf_test.predict(X_test_t)\n",
    "print_scores(pred, y_test_t)"
   ]
  },
  {
   "cell_type": "code",
   "execution_count": 302,
   "metadata": {},
   "outputs": [
    {
     "name": "stdout",
     "output_type": "stream",
     "text": [
      "There are 9 numerical features: \n",
      "\n",
      "['atp_last', 'attended_last', 'distance', 'events_last', 'spend_current', 'sends', 'tenure', 'opens', 'volume_current']\n"
     ]
    }
   ],
   "source": [
    "numerical_features = X_train.select_dtypes(include='number').columns.tolist()\n",
    "print(f'There are {len(numerical_features)} numerical features:', '\\n')\n",
    "print(numerical_features)"
   ]
  },
  {
   "cell_type": "code",
   "execution_count": 303,
   "metadata": {},
   "outputs": [
    {
     "name": "stdout",
     "output_type": "stream",
     "text": [
      "There are 1 categorical features: \n",
      "\n",
      "['product_current']\n"
     ]
    }
   ],
   "source": [
    "categorical_features = X_train.select_dtypes(exclude='number').columns.tolist()\n",
    "print(f'There are {len(categorical_features)} categorical features:', '\\n')\n",
    "print(categorical_features)\n",
    "\n",
    "# if \"product\" not in categorical_features:\n",
    "#     categorical_features.append(\"product\")"
   ]
  },
  {
   "cell_type": "code",
   "execution_count": 304,
   "metadata": {},
   "outputs": [],
   "source": [
    "# ordinal_features = X_train.select_dtypes(exclude='number').columns.tolist()\n",
    "# print(f'There are {len(ordinal_features)} ordinal features:', '\\n')\n",
    "# print(ordinal_features)"
   ]
  },
  {
   "cell_type": "markdown",
   "metadata": {},
   "source": [
    "# Pipeline"
   ]
  },
  {
   "cell_type": "markdown",
   "metadata": {},
   "source": [
    "## Defining the Pipeline"
   ]
  },
  {
   "cell_type": "markdown",
   "metadata": {},
   "source": [
    "Pipeline Imports https://towardsdatascience.com/how-to-use-sklearn-pipelines-for-ridiculously-neat-code-a61ab66ca90d"
   ]
  },
  {
   "cell_type": "code",
   "execution_count": 305,
   "metadata": {},
   "outputs": [],
   "source": [
    "from sklearn.base import TransformerMixin\n",
    "from sklearn.compose import ColumnTransformer\n",
    "from sklearn.impute import SimpleImputer\n",
    "from sklearn.preprocessing import OneHotEncoder, MinMaxScaler, OrdinalEncoder, LabelEncoder\n",
    "from sklearn.ensemble import IsolationForest\n",
    "# from sklearn.pipeline import Pipeline\n",
    "\n",
    "from sklearn.model_selection import GridSearchCV\n",
    "from imblearn import FunctionSampler\n",
    "from imblearn.pipeline import Pipeline"
   ]
  },
  {
   "cell_type": "code",
   "execution_count": null,
   "metadata": {},
   "outputs": [],
   "source": [
    "class CustomTransformer(TransformerMixin):\n",
    "    def __init__(self, some_stuff=None, column_names= []):\n",
    "        self.some_stuff = some_stuff\n",
    "        self.column_names = column_names\n",
    "    def fit(self, X, y=None):\n",
    "        return self\n",
    "\n",
    "    def transform(self, X):\n",
    "        # do stuff on X, and return dataframe\n",
    "        # of the same shape - this gets messy\n",
    "        # if the preceding item is a numpy array\n",
    "        # and not a dataframe\n",
    "        try:\n",
    "            if isinstance(X, np.ndarray):\n",
    "                X = pd.DataFrame(X, columns=self.column_names)\n",
    "            \n",
    "            encoder = IsolationForest().fit(X)\n",
    "            X = encoder.transform([X])\n",
    "            # encoder = OneHotEncoder().fit(X)\n",
    "            # X = encoder.transform(X)\n",
    "            # X['str_len'] = X['my_str'].apply(lambda x: str(x)).str.len()\n",
    "            # X['custom_func'] = X['val'].apply(lambda x: 1 if x > 0.5 else -1)\n",
    "            return X\n",
    "        except:\n",
    "            return X"
   ]
  },
  {
   "cell_type": "code",
   "execution_count": null,
   "metadata": {},
   "outputs": [],
   "source": [
    "numeric_pipeline = Pipeline(steps=[\n",
    "    ('impute', SimpleImputer(missing_values=np.nan, strategy='mean')),\n",
    "    # ('scale', MinMaxScaler())\n",
    "])\n",
    "\n",
    "categorical_pipeline = Pipeline(steps=[\n",
    "    ('impute', SimpleImputer(strategy='most_frequent')),\n",
    "    # ('Ordinal encoding', OrdinalEncoder()),\n",
    "    # ('Label encoding', LabelEncoder())\n",
    "    ('one-hot', OneHotEncoder(handle_unknown='ignore', sparse=False)),\n",
    "    ('customer', CustomTransformer(column_names=categorical_features)),\n",
    "])\n",
    "\n",
    "outlier_pipeline = Pipeline(steps=[\n",
    "    ('isolation-forest', IsolationForest())\n",
    "])\n",
    "\n",
    "# ordinal_pipeline = Pipeline(steps=[\n",
    "#     ('impute', SimpleImputer(strategy='most_frequent')),\n",
    "#     ('ordinal', OrdinalEncoder(handle_unknown='ignore', spare=False))\n",
    "# ])"
   ]
  },
  {
   "cell_type": "code",
   "execution_count": null,
   "metadata": {},
   "outputs": [],
   "source": [
    "full_processor = ColumnTransformer(transformers=[\n",
    "    # ('IsolationForest', outlier_pipeline, features),\n",
    "    ('number', numeric_pipeline, numerical_features),\n",
    "    ('category', categorical_pipeline, categorical_features),\n",
    "    # ('ordinal', ordinal_pipeline, ordinal_features)\n",
    "])"
   ]
  },
  {
   "cell_type": "markdown",
   "metadata": {},
   "source": [
    "### Test Pipeline by Building a Model"
   ]
  },
  {
   "cell_type": "code",
   "execution_count": null,
   "metadata": {},
   "outputs": [
    {
     "data": {
      "text/plain": [
       "Index(['atp_last', 'attended_last', 'distance', 'events_last', 'spend_current',\n",
       "       'sends', 'tenure', 'opens', 'product_current', 'volume_current'],\n",
       "      dtype='object')"
      ]
     },
     "execution_count": 309,
     "metadata": {},
     "output_type": "execute_result"
    }
   ],
   "source": [
    "X_train.columns"
   ]
  },
  {
   "cell_type": "code",
   "execution_count": null,
   "metadata": {},
   "outputs": [
    {
     "name": "stdout",
     "output_type": "stream",
     "text": [
      "['x0_Full Season' 'x0_Groups' 'x0_Half Season' 'x0_Individual'\n",
      " 'x0_Mini Pack' 'x0_Quarter']\n",
      "List: ['atp_last', 'attended_last', 'distance', 'events_last', 'spend_current', 'sends', 'tenure', 'opens', 'volume_current', 'x0_Full Season', 'x0_Groups', 'x0_Half Season', 'x0_Individual', 'x0_Mini Pack', 'x0_Quarter']\n",
      "Len: 15\n"
     ]
    },
    {
     "data": {
      "text/html": [
       "<div>\n",
       "<style scoped>\n",
       "    .dataframe tbody tr th:only-of-type {\n",
       "        vertical-align: middle;\n",
       "    }\n",
       "\n",
       "    .dataframe tbody tr th {\n",
       "        vertical-align: top;\n",
       "    }\n",
       "\n",
       "    .dataframe thead th {\n",
       "        text-align: right;\n",
       "    }\n",
       "</style>\n",
       "<table border=\"1\" class=\"dataframe\">\n",
       "  <thead>\n",
       "    <tr style=\"text-align: right;\">\n",
       "      <th></th>\n",
       "      <th>atp_last</th>\n",
       "      <th>attended_last</th>\n",
       "      <th>distance</th>\n",
       "      <th>events_last</th>\n",
       "      <th>spend_current</th>\n",
       "      <th>sends</th>\n",
       "      <th>tenure</th>\n",
       "      <th>opens</th>\n",
       "      <th>volume_current</th>\n",
       "      <th>x0_Full Season</th>\n",
       "      <th>x0_Groups</th>\n",
       "      <th>x0_Half Season</th>\n",
       "      <th>x0_Individual</th>\n",
       "      <th>x0_Mini Pack</th>\n",
       "      <th>x0_Quarter</th>\n",
       "    </tr>\n",
       "  </thead>\n",
       "  <tbody>\n",
       "    <tr>\n",
       "      <th>0</th>\n",
       "      <td>42.530000</td>\n",
       "      <td>40.000000</td>\n",
       "      <td>14.16</td>\n",
       "      <td>45.000000</td>\n",
       "      <td>3836.00</td>\n",
       "      <td>88.0</td>\n",
       "      <td>3.0</td>\n",
       "      <td>139.0</td>\n",
       "      <td>88.0</td>\n",
       "      <td>1.0</td>\n",
       "      <td>0.0</td>\n",
       "      <td>0.0</td>\n",
       "      <td>0.0</td>\n",
       "      <td>0.0</td>\n",
       "      <td>0.0</td>\n",
       "    </tr>\n",
       "    <tr>\n",
       "      <th>1</th>\n",
       "      <td>158.780000</td>\n",
       "      <td>38.000000</td>\n",
       "      <td>25.03</td>\n",
       "      <td>44.000000</td>\n",
       "      <td>15044.58</td>\n",
       "      <td>14.0</td>\n",
       "      <td>4.0</td>\n",
       "      <td>0.0</td>\n",
       "      <td>92.0</td>\n",
       "      <td>1.0</td>\n",
       "      <td>0.0</td>\n",
       "      <td>0.0</td>\n",
       "      <td>0.0</td>\n",
       "      <td>0.0</td>\n",
       "      <td>0.0</td>\n",
       "    </tr>\n",
       "    <tr>\n",
       "      <th>2</th>\n",
       "      <td>367.750000</td>\n",
       "      <td>1.000000</td>\n",
       "      <td>3.31</td>\n",
       "      <td>1.000000</td>\n",
       "      <td>0.00</td>\n",
       "      <td>41.0</td>\n",
       "      <td>3.0</td>\n",
       "      <td>34.0</td>\n",
       "      <td>4.0</td>\n",
       "      <td>1.0</td>\n",
       "      <td>0.0</td>\n",
       "      <td>0.0</td>\n",
       "      <td>0.0</td>\n",
       "      <td>0.0</td>\n",
       "      <td>0.0</td>\n",
       "    </tr>\n",
       "    <tr>\n",
       "      <th>3</th>\n",
       "      <td>184.660000</td>\n",
       "      <td>42.000000</td>\n",
       "      <td>33.95</td>\n",
       "      <td>44.000000</td>\n",
       "      <td>32500.14</td>\n",
       "      <td>49.0</td>\n",
       "      <td>4.0</td>\n",
       "      <td>62.0</td>\n",
       "      <td>176.0</td>\n",
       "      <td>1.0</td>\n",
       "      <td>0.0</td>\n",
       "      <td>0.0</td>\n",
       "      <td>0.0</td>\n",
       "      <td>0.0</td>\n",
       "      <td>0.0</td>\n",
       "    </tr>\n",
       "    <tr>\n",
       "      <th>4</th>\n",
       "      <td>112.951833</td>\n",
       "      <td>25.908984</td>\n",
       "      <td>6.96</td>\n",
       "      <td>30.323161</td>\n",
       "      <td>46455.00</td>\n",
       "      <td>54.0</td>\n",
       "      <td>1.0</td>\n",
       "      <td>238.0</td>\n",
       "      <td>318.0</td>\n",
       "      <td>1.0</td>\n",
       "      <td>0.0</td>\n",
       "      <td>0.0</td>\n",
       "      <td>0.0</td>\n",
       "      <td>0.0</td>\n",
       "      <td>0.0</td>\n",
       "    </tr>\n",
       "  </tbody>\n",
       "</table>\n",
       "</div>"
      ],
      "text/plain": [
       "     atp_last  attended_last  distance  events_last  spend_current  sends  \\\n",
       "0   42.530000      40.000000     14.16    45.000000        3836.00   88.0   \n",
       "1  158.780000      38.000000     25.03    44.000000       15044.58   14.0   \n",
       "2  367.750000       1.000000      3.31     1.000000           0.00   41.0   \n",
       "3  184.660000      42.000000     33.95    44.000000       32500.14   49.0   \n",
       "4  112.951833      25.908984      6.96    30.323161       46455.00   54.0   \n",
       "\n",
       "   tenure  opens  volume_current  x0_Full Season  x0_Groups  x0_Half Season  \\\n",
       "0     3.0  139.0            88.0             1.0        0.0             0.0   \n",
       "1     4.0    0.0            92.0             1.0        0.0             0.0   \n",
       "2     3.0   34.0             4.0             1.0        0.0             0.0   \n",
       "3     4.0   62.0           176.0             1.0        0.0             0.0   \n",
       "4     1.0  238.0           318.0             1.0        0.0             0.0   \n",
       "\n",
       "   x0_Individual  x0_Mini Pack  x0_Quarter  \n",
       "0            0.0           0.0         0.0  \n",
       "1            0.0           0.0         0.0  \n",
       "2            0.0           0.0         0.0  \n",
       "3            0.0           0.0         0.0  \n",
       "4            0.0           0.0         0.0  "
      ]
     },
     "execution_count": 310,
     "metadata": {},
     "output_type": "execute_result"
    }
   ],
   "source": [
    "from sklearn.preprocessing import FunctionTransformer\n",
    "\n",
    "names = X_train.columns.tolist()\n",
    "test_pipeline = Pipeline(steps=[\n",
    "    ('preprocess', full_processor), \n",
    "    # (\"pandarizer\", FunctionTransformer(lambda x: pd.DataFrame(x, columns = full_processor.get_feature_names_out()))) #This will add column names IF they dont use one-hot encoding\n",
    "]).fit(X_train)\n",
    "\n",
    "print(test_pipeline.named_steps['preprocess'].transformers_[1][1].named_steps.get(\"one-hot\").get_feature_names())\n",
    "\n",
    "# This method gets us one-hot encoded variable names\n",
    "new_features = features.copy()\n",
    "new_features.extend(test_pipeline.named_steps['preprocess'].transformers_[1][1].named_steps.get(\"one-hot\").get_feature_names())\n",
    "new_features.remove(\"product\")\n",
    "new_features.remove(\"product_current\")\n",
    "print(f\"List: {new_features}\\nLen: {len(new_features)}\")\n",
    "\n",
    "# _ = test_pipeline.fit(X_train, y_train)\n",
    "X_train_post = pd.DataFrame(test_pipeline.transform(X_train), columns=new_features)\n",
    "# X_test_post = test_pipeline.transform(X_test)\n",
    "X_train_post.head()"
   ]
  },
  {
   "cell_type": "code",
   "execution_count": null,
   "metadata": {},
   "outputs": [],
   "source": [
    "for col in X_train_post.columns:\n",
    "    print(f\"Column: {col}\")\n",
    "    print(\"AFTER\")\n",
    "    plt.figure(figsize=(15,1))\n",
    "    sns.boxplot(x=X_train_post[col])\n",
    "    plt.show()\n",
    "\n",
    "    sns.histplot(X_train_post, x=col)\n",
    "    plt.show()\n",
    "    \n"
   ]
  },
  {
   "cell_type": "code",
   "execution_count": null,
   "metadata": {},
   "outputs": [],
   "source": [
    "from sklearn.svm import SVC\n",
    "from sklearn.ensemble import RandomForestClassifier\n",
    "\n",
    "model = SVC(decision_function_shape='ovo')\n",
    "\n",
    "# model = RandomForestClassifier()\n",
    "\n",
    "model_pipeline = Pipeline(steps=[\n",
    "    ('preprocess', full_processor),\n",
    "    ('model', model)\n",
    "])"
   ]
  },
  {
   "cell_type": "code",
   "execution_count": null,
   "metadata": {},
   "outputs": [],
   "source": [
    "_ = model_pipeline.fit(X_train, y_train)"
   ]
  },
  {
   "cell_type": "code",
   "execution_count": null,
   "metadata": {},
   "outputs": [],
   "source": [
    "pred = model_pipeline.predict(X_test)"
   ]
  },
  {
   "cell_type": "code",
   "execution_count": null,
   "metadata": {},
   "outputs": [
    {
     "name": "stdout",
     "output_type": "stream",
     "text": [
      "MAE: 0.4338635412306404\n",
      "F1: [0.88709432 0.53041363 0.15384615 0.6630273 ]\n",
      "F1: 0.7775282650250991\n",
      "Accuracy: 0.7971954792800335\n"
     ]
    }
   ],
   "source": [
    "print_scores(y_test, pred)"
   ]
  },
  {
   "cell_type": "code",
   "execution_count": 201,
   "metadata": {},
   "outputs": [
    {
     "data": {
      "text/plain": [
       "0.7971954792800335"
      ]
     },
     "execution_count": 201,
     "metadata": {},
     "output_type": "execute_result"
    }
   ],
   "source": [
    "model_pipeline.score(X_test, y_test)"
   ]
  },
  {
   "cell_type": "markdown",
   "metadata": {},
   "source": [
    "## Now we can use the model pipeline elsewhere"
   ]
  },
  {
   "cell_type": "code",
   "execution_count": 28,
   "metadata": {},
   "outputs": [
    {
     "data": {
      "text/plain": [
       "dict_keys(['memory', 'steps', 'verbose', 'preprocess', 'model', 'preprocess__n_jobs', 'preprocess__remainder', 'preprocess__sparse_threshold', 'preprocess__transformer_weights', 'preprocess__transformers', 'preprocess__verbose', 'preprocess__number', 'preprocess__category', 'preprocess__number__memory', 'preprocess__number__steps', 'preprocess__number__verbose', 'preprocess__number__impute', 'preprocess__number__scale', 'preprocess__number__impute__add_indicator', 'preprocess__number__impute__copy', 'preprocess__number__impute__fill_value', 'preprocess__number__impute__missing_values', 'preprocess__number__impute__strategy', 'preprocess__number__impute__verbose', 'preprocess__number__scale__copy', 'preprocess__number__scale__feature_range', 'preprocess__category__memory', 'preprocess__category__steps', 'preprocess__category__verbose', 'preprocess__category__impute', 'preprocess__category__one-hot', 'preprocess__category__impute__add_indicator', 'preprocess__category__impute__copy', 'preprocess__category__impute__fill_value', 'preprocess__category__impute__missing_values', 'preprocess__category__impute__strategy', 'preprocess__category__impute__verbose', 'preprocess__category__one-hot__categories', 'preprocess__category__one-hot__drop', 'preprocess__category__one-hot__dtype', 'preprocess__category__one-hot__handle_unknown', 'preprocess__category__one-hot__sparse', 'model__C', 'model__break_ties', 'model__cache_size', 'model__class_weight', 'model__coef0', 'model__decision_function_shape', 'model__degree', 'model__gamma', 'model__kernel', 'model__max_iter', 'model__probability', 'model__random_state', 'model__shrinking', 'model__tol', 'model__verbose'])"
      ]
     },
     "execution_count": 28,
     "metadata": {},
     "output_type": "execute_result"
    }
   ],
   "source": [
    "model_pipeline.get_params().keys()"
   ]
  },
  {
   "cell_type": "code",
   "execution_count": 29,
   "metadata": {},
   "outputs": [],
   "source": [
    "# param_dict = {'model__n_estimators': np.arange(10, 150, 10)}\n",
    "\n",
    "param_dict = {\n",
    "    'model__kernel' : ['linear', 'rbf'],\n",
    "    'model__C' : np.linspace(0.1,1.2,12)\n",
    "}\n",
    "\n",
    "search = GridSearchCV(model_pipeline, param_dict, \n",
    "                      cv=10,\n",
    "                      scoring='accuracy',\n",
    "                      return_train_score=True)\n",
    "\n",
    "grid_search = search.fit(X_train, y_train)"
   ]
  },
  {
   "cell_type": "code",
   "execution_count": 30,
   "metadata": {},
   "outputs": [
    {
     "name": "stdout",
     "output_type": "stream",
     "text": [
      "Best score: 0.8019915305407734\n",
      "Best alpha: {'model__C': 0.4, 'model__kernel': 'rbf'}\n"
     ]
    }
   ],
   "source": [
    "print('Best score:', abs(search.best_score_))\n",
    "print('Best alpha:', search.best_params_)"
   ]
  },
  {
   "cell_type": "code",
   "execution_count": 31,
   "metadata": {},
   "outputs": [],
   "source": [
    "def plot_search_results(grid):\n",
    "    \"\"\"\n",
    "    Params: \n",
    "        grid: A trained GridSearchCV object.\n",
    "    \"\"\"\n",
    "    ## Results from grid search\n",
    "    results = grid.cv_results_\n",
    "    means_test = results['mean_test_score']\n",
    "    stds_test = results['std_test_score']\n",
    "    means_train = results['mean_train_score']\n",
    "    stds_train = results['std_train_score']\n",
    "\n",
    "    ## Getting indexes of values per hyper-parameter\n",
    "    masks=[]\n",
    "    masks_names= list(grid.best_params_.keys())\n",
    "    for p_k, p_v in grid.best_params_.items():\n",
    "        masks.append(list(results['param_'+p_k].data==p_v))\n",
    "\n",
    "    params=grid.param_grid\n",
    "\n",
    "    ## Ploting results\n",
    "    fig, ax = plt.subplots(1,len(params),sharex='none', sharey='all',figsize=(20,5))\n",
    "    fig.suptitle('Score per parameter')\n",
    "    fig.text(0.04, 0.5, 'MEAN SCORE', va='center', rotation='vertical')\n",
    "    pram_preformace_in_best = {}\n",
    "    for i, p in enumerate(masks_names):\n",
    "        m = np.stack(masks[:i] + masks[i+1:])\n",
    "        pram_preformace_in_best\n",
    "        best_parms_mask = m.all(axis=0)\n",
    "        best_index = np.where(best_parms_mask)[0]\n",
    "        x = np.array(params[p])\n",
    "        y_1 = np.array(means_test[best_index])\n",
    "        e_1 = np.array(stds_test[best_index])\n",
    "        y_2 = np.array(means_train[best_index])\n",
    "        e_2 = np.array(stds_train[best_index])\n",
    "        ax[i].errorbar(x, y_1, e_1, linestyle='--', marker='o', label='test')\n",
    "        ax[i].errorbar(x, y_2, e_2, linestyle='-', marker='^',label='train' )\n",
    "        ax[i].set_xlabel(p.upper())\n",
    "\n",
    "    plt.legend()\n",
    "    plt.show()"
   ]
  },
  {
   "cell_type": "code",
   "execution_count": 32,
   "metadata": {},
   "outputs": [
    {
     "data": {
      "image/png": "[encoded data removed]",
      "text/plain": [
       "<Figure size 2000x500 with 2 Axes>"
      ]
     },
     "metadata": {},
     "output_type": "display_data"
    }
   ],
   "source": [
    "plot_search_results(grid_search)"
   ]
  },
  {
   "cell_type": "code",
   "execution_count": 313,
   "metadata": {},
   "outputs": [
    {
     "name": "stdout",
     "output_type": "stream",
     "text": [
      "Naive Bayes\n",
      "Best score: 0.650725378589658\n",
      "Best alpha: {'classifier__alpha': 0.0, 'classifier__fit_prior': True}\n"
     ]
    },
    {
     "data": {
      "image/png": "[encoded data removed]",
      "text/plain": [
       "<Figure size 2000x500 with 2 Axes>"
      ]
     },
     "metadata": {},
     "output_type": "display_data"
    },
    {
     "name": "stdout",
     "output_type": "stream",
     "text": [
      "MLP\n",
      "Best score: 0.8342897166917584\n",
      "Best alpha: {'classifier__activation': 'logistic', 'classifier__alpha': 0.0001, 'classifier__max_iter': 200, 'classifier__solver': 'adam'}\n"
     ]
    },
    {
     "data": {
      "image/png": "[encoded data removed]",
      "text/plain": [
       "<Figure size 2000x500 with 4 Axes>"
      ]
     },
     "metadata": {},
     "output_type": "display_data"
    },
    {
     "name": "stdout",
     "output_type": "stream",
     "text": [
      "SVM\n"
     ]
    }
   ],
   "source": [
    "from sklearn.linear_model import LogisticRegression\n",
    "from sklearn.naive_bayes import MultinomialNB\n",
    "from sklearn.neighbors import KNeighborsClassifier\n",
    "from sklearn.svm import SVC\n",
    "from sklearn.tree import DecisionTreeClassifier\n",
    "from sklearn.ensemble import RandomForestClassifier, ExtraTreesClassifier\n",
    "from sklearn.neural_network import MLPClassifier\n",
    "from sklearn.pipeline import Pipeline\n",
    "from lightgbm import LGBMClassifier\n",
    "from sklearn.preprocessing import StandardScaler\n",
    "from sklearn.model_selection import train_test_split\n",
    "import sklearn.metrics as skm\n",
    "\n",
    "rs = {'random_state': 42}\n",
    "\n",
    "log_reg = LogisticRegression(**rs)\n",
    "nb = MultinomialNB()\n",
    "knn = KNeighborsClassifier()\n",
    "svm = SVC(**rs)\n",
    "mlp = MLPClassifier(max_iter=500, **rs)\n",
    "dt = DecisionTreeClassifier(**rs)\n",
    "et = ExtraTreesClassifier(**rs)\n",
    "rf = RandomForestClassifier(**rs)\n",
    "# lgbm = LGBMClassifier(**rs, force_row_wise=True, verbosity=-1)\n",
    "\n",
    "log_reg_params = {'C': [0.1, 1, 10]}\n",
    "\n",
    "mlp_params = {\n",
    "    'activation': [\"relu\", \"logistic\"],\n",
    "    'solver': [\"lbfgs\", \"adam\", \"sgd\"],\n",
    "    'max_iter': np.arange(100, 400, 100),\n",
    "    # 'alpha': np.arange(0.0001, 0.001, 0.001)\n",
    "}\n",
    "\n",
    "knn_params = {\n",
    "    'n_neighbors': list(range(1, 30)),\n",
    "    'weights': [\"uniform\", \"distance\"]\n",
    "}\n",
    "\n",
    "lgbm_params = {\n",
    "    'learning_rate': [0.05, 0.1, 0.2],\n",
    "    'max_depth': [1, 2, 3, 5, 8],\n",
    "    'reg_lambda': [0, 1, 10],\n",
    "}\n",
    "\n",
    "svm_params = {\n",
    "    'C': 100,\n",
    "    'kernel': ['linear', 'rbf']\n",
    "}\n",
    "\n",
    "rf_params = {\n",
    "    'n_estimators': np.arange(10, 150, 10),\n",
    "    'class_weight': [None]\n",
    "}\n",
    "\n",
    "nb_params = {\n",
    "    'alpha': np.arange(0, 1, 0.3),\n",
    "    'fit_prior': [False, True]\n",
    "}\n",
    "\n",
    "clfs = [\n",
    "    # ('Logistic Regression', log_reg, log_reg_params), \n",
    "    ('Naive Bayes', nb, nb_params),\n",
    "    ('MLP', mlp, mlp_params),\n",
    "    # ('LGBM', lgbm, lgbm_params),\n",
    "    ('SVM', svm, svm_params),\n",
    "    ('KNN', knn, knn_params),\n",
    "    ('RF', rf, rf_params),\n",
    "\n",
    "]\n",
    "for clf_name, clf, param_grid in clfs:\n",
    "    model_pipeline = Pipeline(steps=[\n",
    "        ('preprocess', full_processor),\n",
    "        ('classifier', clf)\n",
    "    ])\n",
    "    # pipeline = Pipeline(model_pipeline, param_grid, \n",
    "    #                   cv=10,\n",
    "    #                   scoring='accuracy',\n",
    "    #                   return_train_score=True\n",
    "    # )\n",
    "    print(clf_name)\n",
    "    search = GridSearchCV(model_pipeline, {f'classifier__{paramname}': paramvalue for paramname, paramvalue in param_grid.items()}, cv=10, scoring='accuracy', return_train_score=True)\n",
    "    search.fit(X_train, y_train)\n",
    "    print('Best score:', abs(search.best_score_))\n",
    "    print('Best alpha:', search.best_params_)\n",
    "    plot_search_results(search)"
   ]
  },
  {
   "cell_type": "code",
   "execution_count": null,
   "metadata": {},
   "outputs": [],
   "source": []
  }
 ],
 "metadata": {
  "kernelspec": {
   "display_name": "Python 3.8.15 ('pycaret_conda')",
   "language": "python",
   "name": "python3"
  },
  "language_info": {
   "codemirror_mode": {
    "name": "ipython",
    "version": 3
   },
   "file_extension": ".py",
   "mimetype": "text/x-python",
   "name": "python",
   "nbconvert_exporter": "python",
   "pygments_lexer": "ipython3",
   "version": "3.8.15"
  },
  "orig_nbformat": 4,
  "vscode": {
   "interpreter": {
    "hash": "ce7ebb568ce3854897edee76046185250b332f48411037b3c52faa6a994169a3"
   }
  }
 },
 "nbformat": 4,
 "nbformat_minor": 2
}
