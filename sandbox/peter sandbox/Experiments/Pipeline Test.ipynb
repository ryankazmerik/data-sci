{
 "cells": [
  {
   "cell_type": "markdown",
   "metadata": {},
   "source": [
    "General Imports"
   ]
  },
  {
   "cell_type": "code",
   "execution_count": 124,
   "metadata": {},
   "outputs": [],
   "source": [
    "import pandas as pd\n",
    "import matplotlib.pyplot as plt\n",
    "import numpy as np\n",
    "import seaborn as sns\n",
    "\n",
    "from pycaret.classification import *\n",
    "from shared_utilities import helpers\n",
    "import matplotlib.pyplot as plt\n",
    "import seaborn as sns\n",
    "\n",
    "from imblearn.over_sampling import SMOTE\n",
    "# from pandas_profiling import ProfileReport\n",
    "from sklearn.decomposition import PCA\n",
    "from sklearn.metrics import mean_absolute_error, f1_score, accuracy_score\n",
    "from sklearn.model_selection import train_test_split\n",
    "from sklearn.preprocessing import LabelEncoder"
   ]
  },
  {
   "cell_type": "code",
   "execution_count": 202,
   "metadata": {},
   "outputs": [],
   "source": [
    "def print_scores(y_test, predictions):\n",
    "    print(f\"MAE: {mean_absolute_error(y_test, predictions)}\")\n",
    "    print(f\"F1: {f1_score(y_test, predictions, average=None)}\")\n",
    "    print(f\"F1: {f1_score(y_test, predictions, average='weighted')}\")\n",
    "    print(f\"Accuracy: {accuracy_score(y_test, predictions)}\")"
   ]
  },
  {
   "cell_type": "code",
   "execution_count": 3,
   "metadata": {},
   "outputs": [],
   "source": [
    "CLUSTER = \"prod-app\"\n",
    "DATABASE = \"stlrcanucks\"\n",
    "LKUPCLIENTID = \"7\"\n",
    "SCORING_YEAR = 2022\n",
    "PRODUCT_MAPPING = {'Mini Pack': 0, 'Quarter': 1, 'Half Season': 2, 'Full Season': 3}\n",
    "PRODUCT_CURRENT_MAPPING = {'Individual': 0, 'Group': 1, 'Mini Pack': 2, 'Quarter': 3, 'Half Season': 4, 'Full Season': 5}\n"
   ]
  },
  {
   "cell_type": "code",
   "execution_count": 4,
   "metadata": {},
   "outputs": [
    {
     "name": "stdout",
     "output_type": "stream",
     "text": [
      "Authorized as AROASQ4JELIXYLYV6P4UV:pmorrison@stellaralgo.com\n"
     ]
    },
    {
     "data": {
      "text/plain": [
       "(699126, 27)"
      ]
     },
     "execution_count": 4,
     "metadata": {},
     "output_type": "execute_result"
    }
   ],
   "source": [
    "dataset = helpers.get_product_propensity_dataset(\n",
    "    cluster=CLUSTER,\n",
    "    database=DATABASE,\n",
    "    lkupclientid=LKUPCLIENTID,\n",
    "    scoring_year=SCORING_YEAR,\n",
    "    type_flag=0\n",
    ")\n",
    "\n",
    "dataset.shape"
   ]
  },
  {
   "cell_type": "code",
   "execution_count": 210,
   "metadata": {},
   "outputs": [],
   "source": [
    "df = dataset.copy()"
   ]
  },
  {
   "cell_type": "code",
   "execution_count": 211,
   "metadata": {},
   "outputs": [],
   "source": [
    "features = [\n",
    "    \"atp_last\",\n",
    "    \"attended_last\",\n",
    "    \"distance\",\n",
    "    \"events_last\",\n",
    "    \"spend_current\",\n",
    "    \"sends\",\n",
    "    \"tenure\",\n",
    "    \"opens\",\n",
    "    \"product\",\n",
    "    \"product_current\",\n",
    "    \"volume_current\"\n",
    "]\n",
    "\n",
    "df = df[features]"
   ]
  },
  {
   "cell_type": "code",
   "execution_count": 212,
   "metadata": {},
   "outputs": [],
   "source": [
    "product_plans = [\n",
    "   \"Full Season\",\n",
    "   \"Half Season\",\n",
    "   \"Quarter\",\n",
    "   \"Mini Pack\"\n",
    "]"
   ]
  },
  {
   "cell_type": "code",
   "execution_count": 213,
   "metadata": {},
   "outputs": [
    {
     "data": {
      "text/plain": [
       "(15924, 11)"
      ]
     },
     "execution_count": 213,
     "metadata": {},
     "output_type": "execute_result"
    }
   ],
   "source": [
    "df = df[df[\"product\"].isin(product_plans)].reset_index(drop=True)\n",
    "df.shape"
   ]
  },
  {
   "cell_type": "code",
   "execution_count": 214,
   "metadata": {},
   "outputs": [],
   "source": [
    "df = df.replace(\"None\", np.nan)\n",
    "df = df.fillna(value=np.nan)"
   ]
  },
  {
   "cell_type": "code",
   "execution_count": 215,
   "metadata": {},
   "outputs": [
    {
     "data": {
      "text/plain": [
       "Full Season    10186\n",
       "Quarter         3526\n",
       "Half Season     1778\n",
       "Mini Pack        434\n",
       "Name: product, dtype: int64"
      ]
     },
     "execution_count": 215,
     "metadata": {},
     "output_type": "execute_result"
    }
   ],
   "source": [
    "df[\"product\"].value_counts()"
   ]
  },
  {
   "cell_type": "code",
   "execution_count": 216,
   "metadata": {},
   "outputs": [
    {
     "data": {
      "text/html": [
       "<div>\n",
       "<style scoped>\n",
       "    .dataframe tbody tr th:only-of-type {\n",
       "        vertical-align: middle;\n",
       "    }\n",
       "\n",
       "    .dataframe tbody tr th {\n",
       "        vertical-align: top;\n",
       "    }\n",
       "\n",
       "    .dataframe thead th {\n",
       "        text-align: right;\n",
       "    }\n",
       "</style>\n",
       "<table border=\"1\" class=\"dataframe\">\n",
       "  <thead>\n",
       "    <tr style=\"text-align: right;\">\n",
       "      <th></th>\n",
       "      <th>atp_last</th>\n",
       "      <th>attended_last</th>\n",
       "      <th>distance</th>\n",
       "      <th>events_last</th>\n",
       "      <th>spend_current</th>\n",
       "      <th>sends</th>\n",
       "      <th>tenure</th>\n",
       "      <th>opens</th>\n",
       "      <th>volume_current</th>\n",
       "    </tr>\n",
       "  </thead>\n",
       "  <tbody>\n",
       "    <tr>\n",
       "      <th>count</th>\n",
       "      <td>13323.000000</td>\n",
       "      <td>13323.000000</td>\n",
       "      <td>15924.000000</td>\n",
       "      <td>13323.000000</td>\n",
       "      <td>1.592400e+04</td>\n",
       "      <td>15607.000000</td>\n",
       "      <td>15924.000000</td>\n",
       "      <td>15607.000000</td>\n",
       "      <td>15924.000000</td>\n",
       "    </tr>\n",
       "    <tr>\n",
       "      <th>mean</th>\n",
       "      <td>113.425457</td>\n",
       "      <td>26.010733</td>\n",
       "      <td>66.315119</td>\n",
       "      <td>30.412745</td>\n",
       "      <td>1.147543e+04</td>\n",
       "      <td>46.370667</td>\n",
       "      <td>2.969731</td>\n",
       "      <td>67.569552</td>\n",
       "      <td>98.396697</td>\n",
       "    </tr>\n",
       "    <tr>\n",
       "      <th>std</th>\n",
       "      <td>63.077591</td>\n",
       "      <td>16.651856</td>\n",
       "      <td>319.442262</td>\n",
       "      <td>18.038207</td>\n",
       "      <td>6.479036e+04</td>\n",
       "      <td>24.689792</td>\n",
       "      <td>1.623274</td>\n",
       "      <td>79.397185</td>\n",
       "      <td>717.966317</td>\n",
       "    </tr>\n",
       "    <tr>\n",
       "      <th>min</th>\n",
       "      <td>0.000000</td>\n",
       "      <td>0.000000</td>\n",
       "      <td>0.390000</td>\n",
       "      <td>0.000000</td>\n",
       "      <td>0.000000e+00</td>\n",
       "      <td>0.000000</td>\n",
       "      <td>1.000000</td>\n",
       "      <td>0.000000</td>\n",
       "      <td>0.000000</td>\n",
       "    </tr>\n",
       "    <tr>\n",
       "      <th>25%</th>\n",
       "      <td>66.575000</td>\n",
       "      <td>10.000000</td>\n",
       "      <td>5.270000</td>\n",
       "      <td>11.000000</td>\n",
       "      <td>2.956800e+03</td>\n",
       "      <td>34.000000</td>\n",
       "      <td>2.000000</td>\n",
       "      <td>17.000000</td>\n",
       "      <td>29.000000</td>\n",
       "    </tr>\n",
       "    <tr>\n",
       "      <th>50%</th>\n",
       "      <td>120.230000</td>\n",
       "      <td>33.000000</td>\n",
       "      <td>12.600000</td>\n",
       "      <td>44.000000</td>\n",
       "      <td>8.491600e+03</td>\n",
       "      <td>46.000000</td>\n",
       "      <td>3.000000</td>\n",
       "      <td>52.000000</td>\n",
       "      <td>88.000000</td>\n",
       "    </tr>\n",
       "    <tr>\n",
       "      <th>75%</th>\n",
       "      <td>152.250000</td>\n",
       "      <td>41.000000</td>\n",
       "      <td>33.600000</td>\n",
       "      <td>45.000000</td>\n",
       "      <td>1.397285e+04</td>\n",
       "      <td>62.000000</td>\n",
       "      <td>4.000000</td>\n",
       "      <td>92.000000</td>\n",
       "      <td>90.000000</td>\n",
       "    </tr>\n",
       "    <tr>\n",
       "      <th>max</th>\n",
       "      <td>517.990000</td>\n",
       "      <td>45.000000</td>\n",
       "      <td>4491.640000</td>\n",
       "      <td>45.000000</td>\n",
       "      <td>4.684388e+06</td>\n",
       "      <td>141.000000</td>\n",
       "      <td>6.000000</td>\n",
       "      <td>1466.000000</td>\n",
       "      <td>52140.000000</td>\n",
       "    </tr>\n",
       "  </tbody>\n",
       "</table>\n",
       "</div>"
      ],
      "text/plain": [
       "           atp_last  attended_last      distance   events_last  spend_current  \\\n",
       "count  13323.000000   13323.000000  15924.000000  13323.000000   1.592400e+04   \n",
       "mean     113.425457      26.010733     66.315119     30.412745   1.147543e+04   \n",
       "std       63.077591      16.651856    319.442262     18.038207   6.479036e+04   \n",
       "min        0.000000       0.000000      0.390000      0.000000   0.000000e+00   \n",
       "25%       66.575000      10.000000      5.270000     11.000000   2.956800e+03   \n",
       "50%      120.230000      33.000000     12.600000     44.000000   8.491600e+03   \n",
       "75%      152.250000      41.000000     33.600000     45.000000   1.397285e+04   \n",
       "max      517.990000      45.000000   4491.640000     45.000000   4.684388e+06   \n",
       "\n",
       "              sends        tenure         opens  volume_current  \n",
       "count  15607.000000  15924.000000  15607.000000    15924.000000  \n",
       "mean      46.370667      2.969731     67.569552       98.396697  \n",
       "std       24.689792      1.623274     79.397185      717.966317  \n",
       "min        0.000000      1.000000      0.000000        0.000000  \n",
       "25%       34.000000      2.000000     17.000000       29.000000  \n",
       "50%       46.000000      3.000000     52.000000       88.000000  \n",
       "75%       62.000000      4.000000     92.000000       90.000000  \n",
       "max      141.000000      6.000000   1466.000000    52140.000000  "
      ]
     },
     "execution_count": 216,
     "metadata": {},
     "output_type": "execute_result"
    }
   ],
   "source": [
    "df.describe()"
   ]
  },
  {
   "cell_type": "code",
   "execution_count": 217,
   "metadata": {},
   "outputs": [
    {
     "data": {
      "text/plain": [
       "atp_last           2601\n",
       "attended_last      2601\n",
       "distance              0\n",
       "events_last        2601\n",
       "spend_current         0\n",
       "sends               317\n",
       "tenure                0\n",
       "opens               317\n",
       "product               0\n",
       "product_current    6245\n",
       "volume_current        0\n",
       "dtype: int64"
      ]
     },
     "execution_count": 217,
     "metadata": {},
     "output_type": "execute_result"
    }
   ],
   "source": [
    "df.isna().sum()"
   ]
  },
  {
   "cell_type": "code",
   "execution_count": 218,
   "metadata": {},
   "outputs": [],
   "source": [
    "X = df.drop(\"product\", axis=1)\n",
    "df[\"product_encoded\"] = LabelEncoder().fit_transform(df[\"product\"])\n",
    "y = df[\"product_encoded\"]\n",
    "\n",
    "X_train, X_test, y_train, y_test = train_test_split(X, y, test_size=.3, \n",
    "                                                random_state=1121218)"
   ]
  },
  {
   "cell_type": "code",
   "execution_count": 219,
   "metadata": {},
   "outputs": [
    {
     "data": {
      "text/plain": [
       "product_encoded  product    \n",
       "0                Full Season    10186\n",
       "3                Quarter         3526\n",
       "1                Half Season     1778\n",
       "2                Mini Pack        434\n",
       "dtype: int64"
      ]
     },
     "execution_count": 219,
     "metadata": {},
     "output_type": "execute_result"
    }
   ],
   "source": [
    "df[[\"product_encoded\", \"product\"]].value_counts()"
   ]
  },
  {
   "cell_type": "code",
   "execution_count": 206,
   "metadata": {},
   "outputs": [
    {
     "name": "stdout",
     "output_type": "stream",
     "text": [
      "Accuracy: 0.8867684478371501\n",
      "MAE: 0.20381679389312976\n",
      "F1: [0.95234464 0.68930818 0.43093923 0.82295482]\n",
      "F1: 0.8887457974053122\n",
      "Accuracy: 0.8867684478371501\n"
     ]
    }
   ],
   "source": [
    "rf_test = RandomForestClassifier()\n",
    "\n",
    "\n",
    "df_test = df.copy()\n",
    "df_test = df_test.dropna()\n",
    "\n",
    "X = df_test.drop(\"product\", axis=1)\n",
    "X.drop(\"product_encoded\", inplace=True, axis=1)\n",
    "df_test[\"product_encoded\"] = LabelEncoder().fit_transform(df_test[\"product\"])\n",
    "y = df_test[\"product_encoded\"]\n",
    "\n",
    "X_train_t, X_test_t, y_train_t, y_test_t = train_test_split(X, y, test_size=.3, \n",
    "                                                random_state=1121218)\n",
    "\n",
    "rf_test.fit(X_train_t, y_train_t)\n",
    "score = rf_test.score(X_test_t, y_test_t)\n",
    "print(f\"Accuracy: {score}\")\n",
    "pred = rf_test.predict(X_test_t)\n",
    "print_scores(pred, y_test_t)"
   ]
  },
  {
   "cell_type": "code",
   "execution_count": 220,
   "metadata": {},
   "outputs": [
    {
     "name": "stdout",
     "output_type": "stream",
     "text": [
      "There are 9 numerical features: \n",
      "\n",
      "['atp_last', 'attended_last', 'distance', 'events_last', 'spend_current', 'sends', 'tenure', 'opens', 'volume_current']\n"
     ]
    }
   ],
   "source": [
    "numerical_features = X_train.select_dtypes(include='number').columns.tolist()\n",
    "print(f'There are {len(numerical_features)} numerical features:', '\\n')\n",
    "print(numerical_features)"
   ]
  },
  {
   "cell_type": "code",
   "execution_count": 221,
   "metadata": {},
   "outputs": [
    {
     "name": "stdout",
     "output_type": "stream",
     "text": [
      "There are 1 categorical features: \n",
      "\n",
      "['product_current']\n"
     ]
    }
   ],
   "source": [
    "categorical_features = X_train.select_dtypes(exclude='number').columns.tolist()\n",
    "print(f'There are {len(categorical_features)} categorical features:', '\\n')\n",
    "print(categorical_features)\n",
    "\n",
    "# if \"product\" not in categorical_features:\n",
    "#     categorical_features.append(\"product\")"
   ]
  },
  {
   "cell_type": "code",
   "execution_count": 222,
   "metadata": {},
   "outputs": [],
   "source": [
    "# ordinal_features = X_train.select_dtypes(exclude='number').columns.tolist()\n",
    "# print(f'There are {len(ordinal_features)} ordinal features:', '\\n')\n",
    "# print(ordinal_features)"
   ]
  },
  {
   "cell_type": "markdown",
   "metadata": {},
   "source": [
    "# Pipeline"
   ]
  },
  {
   "cell_type": "markdown",
   "metadata": {},
   "source": [
    "## Defining the Pipeline"
   ]
  },
  {
   "cell_type": "markdown",
   "metadata": {},
   "source": [
    "Pipeline Imports https://towardsdatascience.com/how-to-use-sklearn-pipelines-for-ridiculously-neat-code-a61ab66ca90d"
   ]
  },
  {
   "cell_type": "code",
   "execution_count": 223,
   "metadata": {},
   "outputs": [],
   "source": [
    "from sklearn.compose import ColumnTransformer\n",
    "from sklearn.impute import SimpleImputer\n",
    "from sklearn.preprocessing import OneHotEncoder, MinMaxScaler, OrdinalEncoder\n",
    "from sklearn.pipeline import Pipeline\n",
    "\n",
    "from sklearn.model_selection import GridSearchCV"
   ]
  },
  {
   "cell_type": "code",
   "execution_count": 224,
   "metadata": {},
   "outputs": [],
   "source": [
    "numeric_pipeline = Pipeline(steps=[\n",
    "    ('impute', SimpleImputer(missing_values=np.nan, strategy='mean')),\n",
    "    ('scale', MinMaxScaler())\n",
    "])\n",
    "\n",
    "categorical_pipeline = Pipeline(steps=[\n",
    "    ('impute', SimpleImputer(strategy='most_frequent')),\n",
    "    ('one-hot', OneHotEncoder(handle_unknown='ignore', sparse=False))\n",
    "])\n",
    "\n",
    "# ordinal_pipeline = Pipeline(steps=[\n",
    "#     ('impute', SimpleImputer(strategy='most_frequent')),\n",
    "#     ('ordinal', OrdinalEncoder(handle_unknown='ignore', spare=False))\n",
    "# ])"
   ]
  },
  {
   "cell_type": "code",
   "execution_count": 225,
   "metadata": {},
   "outputs": [],
   "source": [
    "full_processor = ColumnTransformer(transformers=[\n",
    "    ('number', numeric_pipeline, numerical_features),\n",
    "    ('category', categorical_pipeline, categorical_features),\n",
    "    # ('ordinal', ordinal_pipeline, ordinal_features)\n",
    "])"
   ]
  },
  {
   "cell_type": "markdown",
   "metadata": {},
   "source": [
    "### Test Pipeline by Building a Model"
   ]
  },
  {
   "cell_type": "code",
   "execution_count": 226,
   "metadata": {},
   "outputs": [],
   "source": [
    "from sklearn.svm import SVC\n",
    "from sklearn.ensemble import RandomForestClassifier\n",
    "\n",
    "# model = SVC(decision_function_shape='ovo')\n",
    "\n",
    "model = RandomForestClassifier()\n",
    "\n",
    "model_pipeline = Pipeline(steps=[\n",
    "    ('preprocess', full_processor),\n",
    "    ('model', model)\n",
    "])"
   ]
  },
  {
   "cell_type": "code",
   "execution_count": 227,
   "metadata": {},
   "outputs": [],
   "source": [
    "_ = model_pipeline.fit(X_train, y_train)"
   ]
  },
  {
   "cell_type": "code",
   "execution_count": 228,
   "metadata": {},
   "outputs": [],
   "source": [
    "pred = model_pipeline.predict(X_test)"
   ]
  },
  {
   "cell_type": "code",
   "execution_count": 229,
   "metadata": {},
   "outputs": [
    {
     "name": "stdout",
     "output_type": "stream",
     "text": [
      "MAE: 0.2111762243616576\n",
      "F1: [0.95077678 0.71203156 0.42056075 0.82693177]\n",
      "F1: 0.8829914785582781\n",
      "Accuracy: 0.8848890749267476\n"
     ]
    }
   ],
   "source": [
    "print_scores(y_test, pred)"
   ]
  },
  {
   "cell_type": "code",
   "execution_count": 230,
   "metadata": {},
   "outputs": [
    {
     "data": {
      "text/plain": [
       "0.8848890749267476"
      ]
     },
     "execution_count": 230,
     "metadata": {},
     "output_type": "execute_result"
    }
   ],
   "source": [
    "model_pipeline.score(X_test, y_test)"
   ]
  },
  {
   "cell_type": "markdown",
   "metadata": {},
   "source": [
    "## Now we can use the model pipeline elsewhere"
   ]
  },
  {
   "cell_type": "code",
   "execution_count": 231,
   "metadata": {},
   "outputs": [
    {
     "data": {
      "text/plain": [
       "dict_keys(['memory', 'steps', 'verbose', 'preprocess', 'model', 'preprocess__n_jobs', 'preprocess__remainder', 'preprocess__sparse_threshold', 'preprocess__transformer_weights', 'preprocess__transformers', 'preprocess__verbose', 'preprocess__number', 'preprocess__category', 'preprocess__number__memory', 'preprocess__number__steps', 'preprocess__number__verbose', 'preprocess__number__impute', 'preprocess__number__scale', 'preprocess__number__impute__add_indicator', 'preprocess__number__impute__copy', 'preprocess__number__impute__fill_value', 'preprocess__number__impute__missing_values', 'preprocess__number__impute__strategy', 'preprocess__number__impute__verbose', 'preprocess__number__scale__copy', 'preprocess__number__scale__feature_range', 'preprocess__category__memory', 'preprocess__category__steps', 'preprocess__category__verbose', 'preprocess__category__impute', 'preprocess__category__one-hot', 'preprocess__category__impute__add_indicator', 'preprocess__category__impute__copy', 'preprocess__category__impute__fill_value', 'preprocess__category__impute__missing_values', 'preprocess__category__impute__strategy', 'preprocess__category__impute__verbose', 'preprocess__category__one-hot__categories', 'preprocess__category__one-hot__drop', 'preprocess__category__one-hot__dtype', 'preprocess__category__one-hot__handle_unknown', 'preprocess__category__one-hot__sparse', 'model__bootstrap', 'model__ccp_alpha', 'model__class_weight', 'model__criterion', 'model__max_depth', 'model__max_features', 'model__max_leaf_nodes', 'model__max_samples', 'model__min_impurity_decrease', 'model__min_impurity_split', 'model__min_samples_leaf', 'model__min_samples_split', 'model__min_weight_fraction_leaf', 'model__n_estimators', 'model__n_jobs', 'model__oob_score', 'model__random_state', 'model__verbose', 'model__warm_start'])"
      ]
     },
     "execution_count": 231,
     "metadata": {},
     "output_type": "execute_result"
    }
   ],
   "source": [
    "model_pipeline.get_params().keys()"
   ]
  },
  {
   "cell_type": "code",
   "execution_count": 232,
   "metadata": {},
   "outputs": [],
   "source": [
    "param_dict = {'model__n_estimators': np.arange(10, 150, 10)}\n",
    "\n",
    "search = GridSearchCV(model_pipeline, param_dict, \n",
    "                      cv=10, \n",
    "                      scoring='accuracy')\n",
    "\n",
    "_ = search.fit(X_train, y_train)"
   ]
  },
  {
   "cell_type": "code",
   "execution_count": 233,
   "metadata": {},
   "outputs": [
    {
     "name": "stdout",
     "output_type": "stream",
     "text": [
      "Best score: 0.8769963207767428\n",
      "Best alpha: {'model__n_estimators': 70}\n"
     ]
    }
   ],
   "source": [
    "print('Best score:', abs(search.best_score_))\n",
    "print('Best alpha:', search.best_params_)"
   ]
  },
  {
   "cell_type": "code",
   "execution_count": null,
   "metadata": {},
   "outputs": [],
   "source": []
  }
 ],
 "metadata": {
  "kernelspec": {
   "display_name": "Python 3.8.15 ('pycaret_conda')",
   "language": "python",
   "name": "python3"
  },
  "language_info": {
   "codemirror_mode": {
    "name": "ipython",
    "version": 3
   },
   "file_extension": ".py",
   "mimetype": "text/x-python",
   "name": "python",
   "nbconvert_exporter": "python",
   "pygments_lexer": "ipython3",
   "version": "3.8.15"
  },
  "orig_nbformat": 4,
  "vscode": {
   "interpreter": {
    "hash": "ce7ebb568ce3854897edee76046185250b332f48411037b3c52faa6a994169a3"
   }
  }
 },
 "nbformat": 4,
 "nbformat_minor": 2
}
