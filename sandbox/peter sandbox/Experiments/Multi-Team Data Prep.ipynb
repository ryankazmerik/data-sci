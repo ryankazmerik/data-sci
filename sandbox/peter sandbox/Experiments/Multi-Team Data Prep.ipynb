{
 "cells": [
  {
   "cell_type": "code",
   "execution_count": 2,
   "metadata": {},
   "outputs": [],
   "source": [
    "import pandas as pd\n",
    "import matplotlib.pyplot as plt\n",
    "import numpy as np\n",
    "import seaborn as sns\n",
    "\n",
    "from pycaret.classification import *\n",
    "from shared_utilities import helpers\n",
    "import matplotlib.pyplot as plt\n",
    "import seaborn as sns\n",
    "\n",
    "from imblearn.over_sampling import SMOTE\n",
    "# from pandas_profiling import ProfileReport\n",
    "from sklearn.decomposition import PCA"
   ]
  },
  {
   "cell_type": "code",
   "execution_count": 3,
   "metadata": {},
   "outputs": [],
   "source": [
    "CLUSTER = \"prod-app\"\n",
    "DATABASE = \"stlrcanucks\"\n",
    "LKUPCLIENTID = \"7\"\n",
    "SCORING_YEAR = 2022\n",
    "PRODUCT_MAPPING = {'Mini Pack': 0, 'Quarter': 1, 'Half Season': 2, 'Full Season': 3}\n",
    "PRODUCT_CURRENT_MAPPING = {'Individual': 0, 'Group': 1, 'Mini Pack': 2, 'Quarter': 3, 'Half Season': 4, 'Full Season': 5}"
   ]
  },
  {
   "cell_type": "code",
   "execution_count": 4,
   "metadata": {},
   "outputs": [
    {
     "name": "stdout",
     "output_type": "stream",
     "text": [
      "Authorized as AROASQ4JELIXYLYV6P4UV:pmorrison@stellaralgo.com\n"
     ]
    },
    {
     "data": {
      "text/plain": [
       "(699126, 27)"
      ]
     },
     "execution_count": 4,
     "metadata": {},
     "output_type": "execute_result"
    }
   ],
   "source": [
    "dataset = helpers.get_product_propensity_dataset(\n",
    "    cluster=CLUSTER,\n",
    "    database=DATABASE,\n",
    "    lkupclientid=LKUPCLIENTID,\n",
    "    scoring_year=SCORING_YEAR,\n",
    "    type_flag=0\n",
    ")\n",
    "\n",
    "dataset.shape"
   ]
  },
  {
   "cell_type": "code",
   "execution_count": null,
   "metadata": {},
   "outputs": [],
   "source": [
    "features = [\n",
    "    \"atp_last\",\n",
    "    \"attended_last\",\n",
    "    \"distance\",\n",
    "    \"events_last\",\n",
    "    \"spend_current\",\n",
    "    \"sends\",\n",
    "    \"tenure\",\n",
    "    \"opens\",\n",
    "    \"product\",\n",
    "    \"volume_current\"\n",
    "]"
   ]
  },
  {
   "cell_type": "code",
   "execution_count": null,
   "metadata": {},
   "outputs": [],
   "source": [
    "df = dataset.copy()"
   ]
  },
  {
   "cell_type": "code",
   "execution_count": null,
   "metadata": {},
   "outputs": [],
   "source": [
    "anti_product_plans = [\"Individual\", \"Group\", \"None\", None, np.nan]\n",
    "df = df[~df[\"product\"].isin(anti_product_plans)].reset_index(drop=True)\n",
    "df.shape"
   ]
  },
  {
   "cell_type": "markdown",
   "metadata": {},
   "source": [
    "## Helper Functions"
   ]
  },
  {
   "cell_type": "code",
   "execution_count": null,
   "metadata": {},
   "outputs": [],
   "source": [
    "def subset_by_iqr(df, column, whisker_bottom=1.5, whisker_top=1.5):\n",
    "    # Calculate Q1, Q2 and IQR\n",
    "    q1 = df[column].quantile(0.25)                 \n",
    "    q3 = df[column].quantile(0.75)\n",
    "    iqr = q3 - q1\n",
    "    # Apply filter with respect to IQR, including optional whiskers\n",
    "    filter = (df[column] >= q1 - whisker_bottom*iqr) & (df[column] <= q3 + whisker_top*iqr)\n",
    "    return df.loc[filter]       "
   ]
  },
  {
   "cell_type": "markdown",
   "metadata": {},
   "source": [
    "## Main Functions"
   ]
  },
  {
   "cell_type": "code",
   "execution_count": null,
   "metadata": {},
   "outputs": [],
   "source": [
    "def analyze_dataset_pca(df):\n",
    "    pca = PCA(n_components=3)\n",
    "    pca_result = pca.fit_transform(df)\n",
    "\n",
    "    df['pca-one'] = pca_result[:,0]\n",
    "    df['pca-two'] = pca_result[:,1] \n",
    "    df['pca-three'] = pca_result[:,2]\n",
    "    ax = plt.figure(figsize=(12,12)).gca(projection='3d')\n",
    "    chart = ax.scatter(\n",
    "        xs=df[\"pca-one\"], \n",
    "        ys=df[\"pca-two\"], \n",
    "        zs=df[\"pca-three\"], \n",
    "        c=df[\"product_encoded\"], \n",
    "        cmap='tab10'\n",
    "    )\n",
    "    ax.set_xlabel('pca-one')\n",
    "    ax.set_ylabel('pca-two')\n",
    "    ax.set_zlabel('pca-three')\n",
    "\n",
    "    ax.legend(*chart.legend_elements())\n",
    "    plt.show()\n",
    "\n",
    "def dataset_pre_process(df):\n",
    "    df = df.fillna(method=\"backfill\")\n",
    "    df = subset_by_iqr(df, 'atp_last', 1.0)\n",
    "    df = subset_by_iqr(df, 'spend_current', 1.5, 1.0)\n",
    "    df = subset_by_iqr(df, 'distance', 1.5, 1.5)\n",
    "    df = subset_by_iqr(df, 'opens', 1.5, 1.0)\n",
    "    df = subset_by_iqr(df, 'volume_current', 1.5, 1.0)\n",
    "    df.shape"
   ]
  }
 ],
 "metadata": {
  "kernelspec": {
   "display_name": "Python 3.8.15 ('pycaret_conda')",
   "language": "python",
   "name": "python3"
  },
  "language_info": {
   "codemirror_mode": {
    "name": "ipython",
    "version": 3
   },
   "file_extension": ".py",
   "mimetype": "text/x-python",
   "name": "python",
   "nbconvert_exporter": "python",
   "pygments_lexer": "ipython3",
   "version": "3.8.15 (default, Nov 24 2022, 08:57:44) \n[Clang 14.0.6 ]"
  },
  "orig_nbformat": 4,
  "vscode": {
   "interpreter": {
    "hash": "ce7ebb568ce3854897edee76046185250b332f48411037b3c52faa6a994169a3"
   }
  }
 },
 "nbformat": 4,
 "nbformat_minor": 2
}
