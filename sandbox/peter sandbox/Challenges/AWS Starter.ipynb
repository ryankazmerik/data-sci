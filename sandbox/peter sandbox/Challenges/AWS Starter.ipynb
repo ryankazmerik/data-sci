{
 "cells": [
  {
   "cell_type": "markdown",
   "metadata": {},
   "source": [
    "# AWS Starter\n",
    "* StelllarAlgo Data Science\n",
    "* Ryan Kazmerik & Peter Morrison\n",
    "* May 26, 2022"
   ]
  },
  {
   "cell_type": "code",
   "execution_count": 44,
   "metadata": {},
   "outputs": [],
   "source": [
    "import boto3 \n",
    "import json"
   ]
  },
  {
   "cell_type": "code",
   "execution_count": 4,
   "metadata": {},
   "outputs": [
    {
     "name": "stdout",
     "output_type": "stream",
     "text": [
      "Attempting to automatically open the SSO authorization page in your default browser.\n",
      "If the browser does not open or you wish to use a different device to authorize this request, open the following URL:\n",
      "\n",
      "https://device.sso.us-east-1.amazonaws.com/\n",
      "\n",
      "Then enter the code:\n",
      "\n",
      "GSST-CBNZ\n",
      "Successfully logged into Start URL: https://stellaralgo.awsapps.com/start\n"
     ]
    }
   ],
   "source": [
    "! aws sso login --profile Stellaralgo-DataScienceAdmin"
   ]
  },
  {
   "cell_type": "code",
   "execution_count": 47,
   "metadata": {},
   "outputs": [],
   "source": [
    "session = boto3.setup_default_session(profile_name='Stellaralgo-DataScienceAdmin')\n",
    "s3 = boto3.client('s3')"
   ]
  },
  {
   "cell_type": "code",
   "execution_count": 52,
   "metadata": {},
   "outputs": [],
   "source": [
    "def read_bucket():\n",
    "    my_bucket = s3.list_objects_v2(Bucket='ai-experimentation-td4np7', Prefix='peter')\n",
    "    print(f'Peter Bucket/Folder/etc: {my_bucket}')\n",
    "    print(f'\\nObjects inside above: {[x for x in my_bucket[\"Contents\"]]}')"
   ]
  },
  {
   "cell_type": "code",
   "execution_count": 53,
   "metadata": {},
   "outputs": [
    {
     "name": "stdout",
     "output_type": "stream",
     "text": [
      "Peter Bucket/Folder/etc: {'ResponseMetadata': {'RequestId': 'APJAMMJ6GFRSED7K', 'HostId': 'GRTf72EK/Y00lWeBJENzPoZ7wo0f4Ewd8eNF/DRG4y9K+KmFSw0LAWEwzwpzdtbilGkIXrxXPmU=', 'HTTPStatusCode': 200, 'HTTPHeaders': {'x-amz-id-2': 'GRTf72EK/Y00lWeBJENzPoZ7wo0f4Ewd8eNF/DRG4y9K+KmFSw0LAWEwzwpzdtbilGkIXrxXPmU=', 'x-amz-request-id': 'APJAMMJ6GFRSED7K', 'date': 'Thu, 26 May 2022 17:48:14 GMT', 'x-amz-bucket-region': 'us-east-1', 'content-type': 'application/xml', 'transfer-encoding': 'chunked', 'server': 'AmazonS3'}, 'RetryAttempts': 0}, 'IsTruncated': False, 'Contents': [{'Key': 'peter-challenge/', 'LastModified': datetime.datetime(2022, 5, 26, 15, 57, 32, tzinfo=tzutc()), 'ETag': '\"47b8721c1aea544d271342cc523e7892\"', 'Size': 0, 'StorageClass': 'STANDARD'}], 'Name': 'ai-experimentation-td4np7', 'Prefix': 'peter', 'MaxKeys': 1000, 'EncodingType': 'url', 'KeyCount': 1}\n",
      "\n",
      "Objects inside above: [{'Key': 'peter-challenge/', 'LastModified': datetime.datetime(2022, 5, 26, 15, 57, 32, tzinfo=tzutc()), 'ETag': '\"47b8721c1aea544d271342cc523e7892\"', 'Size': 0, 'StorageClass': 'STANDARD'}]\n"
     ]
    }
   ],
   "source": [
    "read_bucket()"
   ]
  },
  {
   "cell_type": "code",
   "execution_count": 54,
   "metadata": {},
   "outputs": [],
   "source": [
    "try:\n",
    "    with open('/tmp/helloworld.json', 'w') as temp:\n",
    "        temp.write(json.dumps({'hello': 'world'}))\n",
    "    with open('/tmp/helloworld.json', 'rb') as file:\n",
    "        s3.upload_fileobj(file, 'ai-experimentation-td4np7', 'peter-challenge/helloworld.json')\n",
    "except s3.exceptions.NoSuchBucket as e:\n",
    "    print(f'Bucket not found, exception raised: {e}')\n",
    "except Exception as e:\n",
    "    print(f'Unknown exception: {e}')"
   ]
  },
  {
   "cell_type": "code",
   "execution_count": 55,
   "metadata": {},
   "outputs": [
    {
     "name": "stdout",
     "output_type": "stream",
     "text": [
      "Peter Bucket/Folder/etc: {'ResponseMetadata': {'RequestId': 'H168R59TVRTGPBEB', 'HostId': 'EXnbqyYU4os9SRmmWAfTHSy1DMZkGulz6nTzokdpDHoxv2nvzOXCtJww+X8XIGYb5gKf8CzZVqE=', 'HTTPStatusCode': 200, 'HTTPHeaders': {'x-amz-id-2': 'EXnbqyYU4os9SRmmWAfTHSy1DMZkGulz6nTzokdpDHoxv2nvzOXCtJww+X8XIGYb5gKf8CzZVqE=', 'x-amz-request-id': 'H168R59TVRTGPBEB', 'date': 'Thu, 26 May 2022 17:48:19 GMT', 'x-amz-bucket-region': 'us-east-1', 'content-type': 'application/xml', 'transfer-encoding': 'chunked', 'server': 'AmazonS3'}, 'RetryAttempts': 0}, 'IsTruncated': False, 'Contents': [{'Key': 'peter-challenge/', 'LastModified': datetime.datetime(2022, 5, 26, 15, 57, 32, tzinfo=tzutc()), 'ETag': '\"47b8721c1aea544d271342cc523e7892\"', 'Size': 0, 'StorageClass': 'STANDARD'}, {'Key': 'peter-challenge/helloworld.json', 'LastModified': datetime.datetime(2022, 5, 26, 17, 48, 18, tzinfo=tzutc()), 'ETag': '\"3fcecfdd72030790c5545b8314cff7b8\"', 'Size': 18, 'StorageClass': 'STANDARD'}], 'Name': 'ai-experimentation-td4np7', 'Prefix': 'peter', 'MaxKeys': 1000, 'EncodingType': 'url', 'KeyCount': 2}\n",
      "\n",
      "Objects inside above: [{'Key': 'peter-challenge/', 'LastModified': datetime.datetime(2022, 5, 26, 15, 57, 32, tzinfo=tzutc()), 'ETag': '\"47b8721c1aea544d271342cc523e7892\"', 'Size': 0, 'StorageClass': 'STANDARD'}, {'Key': 'peter-challenge/helloworld.json', 'LastModified': datetime.datetime(2022, 5, 26, 17, 48, 18, tzinfo=tzutc()), 'ETag': '\"3fcecfdd72030790c5545b8314cff7b8\"', 'Size': 18, 'StorageClass': 'STANDARD'}]\n",
      "Json file outputs: {'hello': 'world'}\n"
     ]
    }
   ],
   "source": [
    "read_bucket()\n",
    "\n",
    "s3.download_file('ai-experimentation-td4np7', 'peter-challenge/helloworld.json', '/tmp/helloworld2.json')\n",
    "with open('/tmp/helloworld2.json', 'rb') as file:\n",
    "    print(f\"Json file outputs: {json.load(file)}\")"
   ]
  },
  {
   "cell_type": "code",
   "execution_count": null,
   "metadata": {},
   "outputs": [],
   "source": []
  }
 ],
 "metadata": {
  "interpreter": {
   "hash": "9ff21e74100168d25af3f638f377b85439a2b471c55b2a5b18e7e11924cb9a02"
  },
  "kernelspec": {
   "display_name": "Python 3.8.13 ('stellar')",
   "language": "python",
   "name": "python3"
  },
  "language_info": {
   "codemirror_mode": {
    "name": "ipython",
    "version": 3
   },
   "file_extension": ".py",
   "mimetype": "text/x-python",
   "name": "python",
   "nbconvert_exporter": "python",
   "pygments_lexer": "ipython3",
   "version": "3.8.13"
  },
  "orig_nbformat": 4
 },
 "nbformat": 4,
 "nbformat_minor": 2
}
