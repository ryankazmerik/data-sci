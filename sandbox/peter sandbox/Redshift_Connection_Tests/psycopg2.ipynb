{
 "cells": [
  {
   "cell_type": "markdown",
   "metadata": {},
   "source": [
    "# wr.data_api.redshift.connect_temp\n",
    "\n",
    "This notebook attempts to make a connection to redshift with the `wr.data_api.redshift.connect_temp` method.\n",
    "\n",
    "https://aws-data-wrangler.readthedocs.io/en/2.15.1/stubs/awswrangler.data_api.redshift.connect.html#awswrangler.data_api.redshift.connect\n",
    "\n",
    "Doesn't have an example, I'm copying from my Redshift CHallenge notebook"
   ]
  },
  {
   "cell_type": "code",
   "execution_count": 5,
   "metadata": {},
   "outputs": [],
   "source": [
    "import awswrangler as wr\n",
    "import boto3\n",
    "import psycopg2"
   ]
  },
  {
   "cell_type": "code",
   "execution_count": 2,
   "metadata": {},
   "outputs": [
    {
     "name": "stdout",
     "output_type": "stream",
     "text": [
      "Attempting to automatically open the SSO authorization page in your default browser.\n",
      "If the browser does not open or you wish to use a different device to authorize this request, open the following URL:\n",
      "\n",
      "https://device.sso.us-east-1.amazonaws.com/\n",
      "\n",
      "Then enter the code:\n",
      "\n",
      "QWWM-QLGL\n",
      "Successfully logged into Start URL: https://stellaralgo.awsapps.com/start#/\n"
     ]
    }
   ],
   "source": [
    "! aws sso login --profile Stellaralgo-DataScienceAdmin"
   ]
  },
  {
   "cell_type": "code",
   "execution_count": 6,
   "metadata": {},
   "outputs": [
    {
     "ename": "OperationalError",
     "evalue": "connection to server at \"qa-app.ctjussvyafp4.us-east-1.redshift.amazonaws.com\" (54.162.199.152), port 5439 failed: Operation timed out\n\tIs the server running on that host and accepting TCP/IP connections?\n",
     "output_type": "error",
     "traceback": [
      "\u001b[0;31m---------------------------------------------------------------------------\u001b[0m",
      "\u001b[0;31mOperationalError\u001b[0m                          Traceback (most recent call last)",
      "\u001b[1;32m/Users/petermorrison/Documents/repos/data-sci/notebooks/peter sandbox/Redshift_Connection_Tests/psycopg2.ipynb Cell 4'\u001b[0m in \u001b[0;36m<cell line: 16>\u001b[0;34m()\u001b[0m\n\u001b[1;32m      <a href='vscode-notebook-cell:/Users/petermorrison/Documents/repos/data-sci/notebooks/peter%20sandbox/Redshift_Connection_Tests/psycopg2.ipynb#ch0000003?line=6'>7</a>\u001b[0m creds \u001b[39m=\u001b[39m client\u001b[39m.\u001b[39mget_cluster_credentials(                \n\u001b[1;32m      <a href='vscode-notebook-cell:/Users/petermorrison/Documents/repos/data-sci/notebooks/peter%20sandbox/Redshift_Connection_Tests/psycopg2.ipynb#ch0000003?line=7'>8</a>\u001b[0m     ClusterIdentifier \u001b[39m=\u001b[39m CLUSTER,\n\u001b[1;32m      <a href='vscode-notebook-cell:/Users/petermorrison/Documents/repos/data-sci/notebooks/peter%20sandbox/Redshift_Connection_Tests/psycopg2.ipynb#ch0000003?line=8'>9</a>\u001b[0m     DbUser \u001b[39m=\u001b[39m \u001b[39m'\u001b[39m\u001b[39madmin\u001b[39m\u001b[39m'\u001b[39m,\n\u001b[0;32m   (...)\u001b[0m\n\u001b[1;32m     <a href='vscode-notebook-cell:/Users/petermorrison/Documents/repos/data-sci/notebooks/peter%20sandbox/Redshift_Connection_Tests/psycopg2.ipynb#ch0000003?line=11'>12</a>\u001b[0m     AutoCreate\u001b[39m=\u001b[39m\u001b[39mTrue\u001b[39;00m\n\u001b[1;32m     <a href='vscode-notebook-cell:/Users/petermorrison/Documents/repos/data-sci/notebooks/peter%20sandbox/Redshift_Connection_Tests/psycopg2.ipynb#ch0000003?line=12'>13</a>\u001b[0m )\n\u001b[1;32m     <a href='vscode-notebook-cell:/Users/petermorrison/Documents/repos/data-sci/notebooks/peter%20sandbox/Redshift_Connection_Tests/psycopg2.ipynb#ch0000003?line=14'>15</a>\u001b[0m \u001b[39m# create a connection & cursor and call the stored procedure\u001b[39;00m\n\u001b[0;32m---> <a href='vscode-notebook-cell:/Users/petermorrison/Documents/repos/data-sci/notebooks/peter%20sandbox/Redshift_Connection_Tests/psycopg2.ipynb#ch0000003?line=15'>16</a>\u001b[0m cnxn \u001b[39m=\u001b[39m psycopg2\u001b[39m.\u001b[39;49mconnect(\n\u001b[1;32m     <a href='vscode-notebook-cell:/Users/petermorrison/Documents/repos/data-sci/notebooks/peter%20sandbox/Redshift_Connection_Tests/psycopg2.ipynb#ch0000003?line=16'>17</a>\u001b[0m     host \u001b[39m=\u001b[39;49m \u001b[39m'\u001b[39;49m\u001b[39mqa-app.ctjussvyafp4.us-east-1.redshift.amazonaws.com\u001b[39;49m\u001b[39m'\u001b[39;49m,\n\u001b[1;32m     <a href='vscode-notebook-cell:/Users/petermorrison/Documents/repos/data-sci/notebooks/peter%20sandbox/Redshift_Connection_Tests/psycopg2.ipynb#ch0000003?line=17'>18</a>\u001b[0m     port \u001b[39m=\u001b[39;49m \u001b[39m5439\u001b[39;49m,\n\u001b[1;32m     <a href='vscode-notebook-cell:/Users/petermorrison/Documents/repos/data-sci/notebooks/peter%20sandbox/Redshift_Connection_Tests/psycopg2.ipynb#ch0000003?line=18'>19</a>\u001b[0m     user \u001b[39m=\u001b[39;49m creds[\u001b[39m'\u001b[39;49m\u001b[39mDbUser\u001b[39;49m\u001b[39m'\u001b[39;49m],\n\u001b[1;32m     <a href='vscode-notebook-cell:/Users/petermorrison/Documents/repos/data-sci/notebooks/peter%20sandbox/Redshift_Connection_Tests/psycopg2.ipynb#ch0000003?line=19'>20</a>\u001b[0m     password \u001b[39m=\u001b[39;49m creds[\u001b[39m'\u001b[39;49m\u001b[39mDbPassword\u001b[39;49m\u001b[39m'\u001b[39;49m],\n\u001b[1;32m     <a href='vscode-notebook-cell:/Users/petermorrison/Documents/repos/data-sci/notebooks/peter%20sandbox/Redshift_Connection_Tests/psycopg2.ipynb#ch0000003?line=20'>21</a>\u001b[0m     database \u001b[39m=\u001b[39;49m DBNAME\n\u001b[1;32m     <a href='vscode-notebook-cell:/Users/petermorrison/Documents/repos/data-sci/notebooks/peter%20sandbox/Redshift_Connection_Tests/psycopg2.ipynb#ch0000003?line=21'>22</a>\u001b[0m )\n\u001b[1;32m     <a href='vscode-notebook-cell:/Users/petermorrison/Documents/repos/data-sci/notebooks/peter%20sandbox/Redshift_Connection_Tests/psycopg2.ipynb#ch0000003?line=23'>24</a>\u001b[0m \u001b[39mprint\u001b[39m(\u001b[39mf\u001b[39m\u001b[39m\"\u001b[39m\u001b[39mGOT CONNECTION TO DATABASE: \u001b[39m\u001b[39m{\u001b[39;00mCLUSTER\u001b[39m}\u001b[39;00m\u001b[39m \u001b[39m\u001b[39m{\u001b[39;00mDBNAME\u001b[39m}\u001b[39;00m\u001b[39m\"\u001b[39m)\n",
      "File \u001b[0;32m~/opt/miniconda3/envs/package/lib/python3.9/site-packages/psycopg2/__init__.py:122\u001b[0m, in \u001b[0;36mconnect\u001b[0;34m(dsn, connection_factory, cursor_factory, **kwargs)\u001b[0m\n\u001b[1;32m    <a href='file:///Users/petermorrison/opt/miniconda3/envs/package/lib/python3.9/site-packages/psycopg2/__init__.py?line=118'>119</a>\u001b[0m     kwasync[\u001b[39m'\u001b[39m\u001b[39masync_\u001b[39m\u001b[39m'\u001b[39m] \u001b[39m=\u001b[39m kwargs\u001b[39m.\u001b[39mpop(\u001b[39m'\u001b[39m\u001b[39masync_\u001b[39m\u001b[39m'\u001b[39m)\n\u001b[1;32m    <a href='file:///Users/petermorrison/opt/miniconda3/envs/package/lib/python3.9/site-packages/psycopg2/__init__.py?line=120'>121</a>\u001b[0m dsn \u001b[39m=\u001b[39m _ext\u001b[39m.\u001b[39mmake_dsn(dsn, \u001b[39m*\u001b[39m\u001b[39m*\u001b[39mkwargs)\n\u001b[0;32m--> <a href='file:///Users/petermorrison/opt/miniconda3/envs/package/lib/python3.9/site-packages/psycopg2/__init__.py?line=121'>122</a>\u001b[0m conn \u001b[39m=\u001b[39m _connect(dsn, connection_factory\u001b[39m=\u001b[39;49mconnection_factory, \u001b[39m*\u001b[39;49m\u001b[39m*\u001b[39;49mkwasync)\n\u001b[1;32m    <a href='file:///Users/petermorrison/opt/miniconda3/envs/package/lib/python3.9/site-packages/psycopg2/__init__.py?line=122'>123</a>\u001b[0m \u001b[39mif\u001b[39;00m cursor_factory \u001b[39mis\u001b[39;00m \u001b[39mnot\u001b[39;00m \u001b[39mNone\u001b[39;00m:\n\u001b[1;32m    <a href='file:///Users/petermorrison/opt/miniconda3/envs/package/lib/python3.9/site-packages/psycopg2/__init__.py?line=123'>124</a>\u001b[0m     conn\u001b[39m.\u001b[39mcursor_factory \u001b[39m=\u001b[39m cursor_factory\n",
      "\u001b[0;31mOperationalError\u001b[0m: connection to server at \"qa-app.ctjussvyafp4.us-east-1.redshift.amazonaws.com\" (54.162.199.152), port 5439 failed: Operation timed out\n\tIs the server running on that host and accepting TCP/IP connections?\n"
     ]
    }
   ],
   "source": [
    "session = boto3.session.Session(profile_name='Stellaralgo-DataScienceAdmin')\n",
    "client = session.client('redshift')\n",
    "\n",
    "CLUSTER = 'qa-app'\n",
    "DBNAME = 'stlrcfl'\n",
    "\n",
    "creds = client.get_cluster_credentials(                \n",
    "    ClusterIdentifier = CLUSTER,\n",
    "    DbUser = 'admin',\n",
    "    DbName = DBNAME,\n",
    "    DbGroups = ['admin_group'],\n",
    "    AutoCreate=True\n",
    ")\n",
    "\n",
    "# create a connection & cursor and call the stored procedure\n",
    "cnxn = psycopg2.connect(\n",
    "    host = 'qa-app.ctjussvyafp4.us-east-1.redshift.amazonaws.com',\n",
    "    port = 5439,\n",
    "    user = creds['DbUser'],\n",
    "    password = creds['DbPassword'],\n",
    "    database = DBNAME\n",
    ")\n",
    "\n",
    "print(f\"GOT CONNECTION TO DATABASE: {CLUSTER} {DBNAME}\")"
   ]
  }
 ],
 "metadata": {
  "interpreter": {
   "hash": "17c5bad894e8ea00b3938fb2ea85177c9b0c92677fd88ffbd4850bbfc176f649"
  },
  "kernelspec": {
   "display_name": "Python 3.9.12 ('package')",
   "language": "python",
   "name": "python3"
  },
  "language_info": {
   "codemirror_mode": {
    "name": "ipython",
    "version": 3
   },
   "file_extension": ".py",
   "mimetype": "text/x-python",
   "name": "python",
   "nbconvert_exporter": "python",
   "pygments_lexer": "ipython3",
   "version": "3.9.12"
  },
  "orig_nbformat": 4
 },
 "nbformat": 4,
 "nbformat_minor": 2
}
