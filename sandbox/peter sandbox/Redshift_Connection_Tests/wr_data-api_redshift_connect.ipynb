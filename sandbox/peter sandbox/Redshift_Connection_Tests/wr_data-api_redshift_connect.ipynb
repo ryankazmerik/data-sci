{
 "cells": [
  {
   "cell_type": "markdown",
   "metadata": {},
   "source": [
    "# wr.data_api.redshift.connect_temp\n",
    "\n",
    "This notebook attempts to make a connection to redshift with the `wr.data_api.redshift.connect_temp` method.\n",
    "\n",
    "https://aws-data-wrangler.readthedocs.io/en/2.15.1/stubs/awswrangler.data_api.redshift.connect.html#awswrangler.data_api.redshift.connect\n",
    "\n",
    "Doesn't have an example, I'm copying from my Redshift CHallenge notebook"
   ]
  },
  {
   "cell_type": "code",
   "execution_count": 1,
   "metadata": {},
   "outputs": [],
   "source": [
    "import awswrangler as wr\n",
    "import boto3"
   ]
  },
  {
   "cell_type": "code",
   "execution_count": 2,
   "metadata": {},
   "outputs": [
    {
     "name": "stdout",
     "output_type": "stream",
     "text": [
      "Attempting to automatically open the SSO authorization page in your default browser.\n",
      "If the browser does not open or you wish to use a different device to authorize this request, open the following URL:\n",
      "\n",
      "https://device.sso.us-east-1.amazonaws.com/\n",
      "\n",
      "Then enter the code:\n",
      "\n",
      "ZGGN-VHGH\n",
      "Successfully logged into Start URL: https://stellaralgo.awsapps.com/start#/\n"
     ]
    }
   ],
   "source": [
    "! aws sso login --profile Stellaralgo-DataScienceAdmin"
   ]
  },
  {
   "cell_type": "code",
   "execution_count": 12,
   "metadata": {},
   "outputs": [],
   "source": [
    "session = boto3.session.Session(profile_name=\"Stellaralgo-DataScienceAdmin\", region_name=\"us-east-1\")\n",
    "client = session.client(\"redshift\", region_name=\"us-east-1\")\n",
    "\n",
    "cluster_id = \"qa-app\"\n",
    "database = \"stlrlagalaxy\"\n",
    "schema = \"ds\"\n",
    "cluster_endpoint = \"qa-app.ctjussvyafp4.us-east-1.redshift.amazonaws.com\"\n",
    "db_user = \"admin\"\n",
    "\n",
    "cnxn = wr.data_api.redshift.connect(\n",
    "        boto3_session=session,\n",
    "        cluster_id=cluster_id,\n",
    "        database=database,\n",
    "        db_user=db_user\n",
    "    )\n",
    "\n"
   ]
  },
  {
   "cell_type": "code",
   "execution_count": 6,
   "metadata": {},
   "outputs": [
    {
     "ename": "AttributeError",
     "evalue": "'RedshiftDataApi' object has no attribute 'cursor'",
     "output_type": "error",
     "traceback": [
      "\u001b[0;31m---------------------------------------------------------------------------\u001b[0m",
      "\u001b[0;31mAttributeError\u001b[0m                            Traceback (most recent call last)",
      "\u001b[1;32m/Users/petermorrison/Documents/repos/data-sci/notebooks/peter sandbox/Redshift_Connection_Tests/wr_data-api_redshift_connect.ipynb Cell 5'\u001b[0m in \u001b[0;36m<cell line: 1>\u001b[0;34m()\u001b[0m\n\u001b[0;32m----> <a href='vscode-notebook-cell:/Users/petermorrison/Documents/repos/data-sci/notebooks/peter%20sandbox/Redshift_Connection_Tests/wr_data-api_redshift_connect.ipynb#ch0000004?line=0'>1</a>\u001b[0m \u001b[39mwith\u001b[39;00m cnxn\u001b[39m.\u001b[39;49mcursor() \u001b[39mas\u001b[39;00m cursor:\n\u001b[1;32m      <a href='vscode-notebook-cell:/Users/petermorrison/Documents/repos/data-sci/notebooks/peter%20sandbox/Redshift_Connection_Tests/wr_data-api_redshift_connect.ipynb#ch0000004?line=1'>2</a>\u001b[0m     cursor\u001b[39m.\u001b[39mexecute(\u001b[39m\"\u001b[39m\u001b[39mSELECT 1\u001b[39m\u001b[39m\"\u001b[39m)\n\u001b[1;32m      <a href='vscode-notebook-cell:/Users/petermorrison/Documents/repos/data-sci/notebooks/peter%20sandbox/Redshift_Connection_Tests/wr_data-api_redshift_connect.ipynb#ch0000004?line=2'>3</a>\u001b[0m     \u001b[39mprint\u001b[39m(cursor\u001b[39m.\u001b[39mfetchall())\n",
      "\u001b[0;31mAttributeError\u001b[0m: 'RedshiftDataApi' object has no attribute 'cursor'"
     ]
    }
   ],
   "source": [
    "with cnxn.cursor() as cursor:\n",
    "    cursor.execute(\"SELECT 1\")\n",
    "    print(cursor.fetchall())\n",
    "cnxn.close()"
   ]
  },
  {
   "cell_type": "code",
   "execution_count": 11,
   "metadata": {},
   "outputs": [
    {
     "data": {
      "text/html": [
       "<div>\n",
       "<style scoped>\n",
       "    .dataframe tbody tr th:only-of-type {\n",
       "        vertical-align: middle;\n",
       "    }\n",
       "\n",
       "    .dataframe tbody tr th {\n",
       "        vertical-align: top;\n",
       "    }\n",
       "\n",
       "    .dataframe thead th {\n",
       "        text-align: right;\n",
       "    }\n",
       "</style>\n",
       "<table border=\"1\" class=\"dataframe\">\n",
       "  <thead>\n",
       "    <tr style=\"text-align: right;\">\n",
       "      <th></th>\n",
       "      <th>playerid</th>\n",
       "      <th>dob</th>\n",
       "      <th>gamesplayed</th>\n",
       "      <th>injured</th>\n",
       "      <th>position</th>\n",
       "      <th>name</th>\n",
       "      <th>numassists</th>\n",
       "      <th>numgoals</th>\n",
       "      <th>pointpercentage</th>\n",
       "    </tr>\n",
       "  </thead>\n",
       "  <tbody>\n",
       "    <tr>\n",
       "      <th>0</th>\n",
       "      <td>11</td>\n",
       "      <td>1988-08-04</td>\n",
       "      <td>20</td>\n",
       "      <td>false</td>\n",
       "      <td>RW</td>\n",
       "      <td>Dale</td>\n",
       "      <td>24</td>\n",
       "      <td>21</td>\n",
       "      <td>2.1</td>\n",
       "    </tr>\n",
       "    <tr>\n",
       "      <th>1</th>\n",
       "      <td>12</td>\n",
       "      <td>1985-06-05</td>\n",
       "      <td>20</td>\n",
       "      <td>false</td>\n",
       "      <td>C</td>\n",
       "      <td>Skip</td>\n",
       "      <td>15</td>\n",
       "      <td>36</td>\n",
       "      <td>2.5</td>\n",
       "    </tr>\n",
       "    <tr>\n",
       "      <th>2</th>\n",
       "      <td>13</td>\n",
       "      <td>1985-03-15</td>\n",
       "      <td>15</td>\n",
       "      <td>true</td>\n",
       "      <td>LW</td>\n",
       "      <td>Sanders</td>\n",
       "      <td>20</td>\n",
       "      <td>30</td>\n",
       "      <td>1.9</td>\n",
       "    </tr>\n",
       "    <tr>\n",
       "      <th>3</th>\n",
       "      <td>14</td>\n",
       "      <td>1983-02-20</td>\n",
       "      <td>20</td>\n",
       "      <td>false</td>\n",
       "      <td>LD</td>\n",
       "      <td>Patty</td>\n",
       "      <td>38</td>\n",
       "      <td>12</td>\n",
       "      <td>1.5</td>\n",
       "    </tr>\n",
       "    <tr>\n",
       "      <th>4</th>\n",
       "      <td>15</td>\n",
       "      <td>1987-08-04</td>\n",
       "      <td>18</td>\n",
       "      <td>false</td>\n",
       "      <td>RD</td>\n",
       "      <td>Reynolds</td>\n",
       "      <td>16</td>\n",
       "      <td>6</td>\n",
       "      <td>0.8</td>\n",
       "    </tr>\n",
       "  </tbody>\n",
       "</table>\n",
       "</div>"
      ],
      "text/plain": [
       "   playerid         dob  gamesplayed injured position      name  numassists  \\\n",
       "0        11  1988-08-04           20   false       RW      Dale          24   \n",
       "1        12  1985-06-05           20   false        C      Skip          15   \n",
       "2        13  1985-03-15           15    true       LW   Sanders          20   \n",
       "3        14  1983-02-20           20   false       LD     Patty          38   \n",
       "4        15  1987-08-04           18   false       RD  Reynolds          16   \n",
       "\n",
       "   numgoals  pointpercentage  \n",
       "0        21              2.1  \n",
       "1        36              2.5  \n",
       "2        30              1.9  \n",
       "3        12              1.5  \n",
       "4         6              0.8  "
      ]
     },
     "execution_count": 11,
     "metadata": {},
     "output_type": "execute_result"
    }
   ],
   "source": [
    "read_all_statement = f'SELECT * FROM datascience.ds.dummytable'\n",
    "\n",
    "# We call the execute_sql func to reduce code duplication when reading/writing from/to Redshift\n",
    "df = wr.data_api.redshift.read_sql_query(\n",
    "                sql = read_all_statement, \n",
    "                con = cnxn\n",
    "        )\n",
    "df.head()"
   ]
  },
  {
   "cell_type": "code",
   "execution_count": null,
   "metadata": {},
   "outputs": [],
   "source": []
  }
 ],
 "metadata": {
  "interpreter": {
   "hash": "17c5bad894e8ea00b3938fb2ea85177c9b0c92677fd88ffbd4850bbfc176f649"
  },
  "kernelspec": {
   "display_name": "Python 3.9.12 ('package')",
   "language": "python",
   "name": "python3"
  },
  "language_info": {
   "codemirror_mode": {
    "name": "ipython",
    "version": 3
   },
   "file_extension": ".py",
   "mimetype": "text/x-python",
   "name": "python",
   "nbconvert_exporter": "python",
   "pygments_lexer": "ipython3",
   "version": "3.9.12"
  },
  "orig_nbformat": 4
 },
 "nbformat": 4,
 "nbformat_minor": 2
}
