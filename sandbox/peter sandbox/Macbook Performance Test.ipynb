{
 "cells": [
  {
   "attachments": {},
   "cell_type": "markdown",
   "metadata": {},
   "source": [
    "# Experiment - Data Preparation Techniques\n",
    "* StelllarAlgo Data Science\n",
    "* Ryan Kazmerik, Grant Donst, Peter Morrison\n",
    "* Mar 07, 2023\n",
    "\n",
    "This experiment aims to test the performance of three different MacBooks (i7, i9, M1) when used to train our event propensity model."
   ]
  },
  {
   "cell_type": "code",
   "execution_count": 1,
   "metadata": {},
   "outputs": [],
   "source": [
    "import pandas as pd\n",
    "\n",
    "from datetime import datetime, timedelta\n",
    "from data_sci_toolkit.aws_tools import redshift_tools\n",
    "from pycaret.classification import *"
   ]
  },
  {
   "cell_type": "code",
   "execution_count": 2,
   "metadata": {},
   "outputs": [],
   "source": [
    "df = pd.read_parquet(\"./data/macbook-perf-dataset.parquet\")"
   ]
  },
  {
   "cell_type": "code",
   "execution_count": 3,
   "metadata": {},
   "outputs": [],
   "source": [
    "setup(\n",
    "    data= df, \n",
    "    target=\"did_purchase\", \n",
    "    train_size = 0.85,\n",
    "    data_split_shuffle=True,\n",
    "    ignore_features=[\n",
    "        \"count_merchowned\",\n",
    "        \"daysout\",\n",
    "        \"dimcustomermasterid\",\n",
    "        \"eventdate\",\n",
    "        \"inmarket\",\n",
    "        \"mindaysout\",\n",
    "        \"maxdaysout\"\n",
    "    ],\n",
    "    silent=True,\n",
    "    verbose=False,\n",
    "    numeric_features=[\n",
    "        \"distancetovenue\",\n",
    "        \"events_purchased\",\n",
    "        \"frequency_eventday\",\n",
    "        \"frequency_opponent\",\n",
    "        \"frequency_eventtime\",\n",
    "        \"tenure\"\n",
    "    ]\n",
    ");"
   ]
  },
  {
   "cell_type": "code",
   "execution_count": 4,
   "metadata": {},
   "outputs": [
    {
     "data": {
      "text/html": [
       "<style type=\"text/css\">\n",
       "#T_7eaf1 th {\n",
       "  text-align: left;\n",
       "}\n",
       "#T_7eaf1_row0_col0, #T_7eaf1_row0_col2, #T_7eaf1_row0_col3, #T_7eaf1_row0_col5, #T_7eaf1_row1_col0, #T_7eaf1_row1_col1, #T_7eaf1_row1_col3, #T_7eaf1_row1_col4, #T_7eaf1_row1_col6, #T_7eaf1_row1_col7, #T_7eaf1_row2_col0, #T_7eaf1_row2_col1, #T_7eaf1_row2_col2, #T_7eaf1_row2_col4, #T_7eaf1_row2_col5, #T_7eaf1_row2_col6, #T_7eaf1_row2_col7, #T_7eaf1_row3_col0, #T_7eaf1_row3_col1, #T_7eaf1_row3_col2, #T_7eaf1_row3_col3, #T_7eaf1_row3_col4, #T_7eaf1_row3_col5, #T_7eaf1_row3_col6, #T_7eaf1_row3_col7, #T_7eaf1_row4_col0, #T_7eaf1_row4_col1, #T_7eaf1_row4_col2, #T_7eaf1_row4_col3, #T_7eaf1_row4_col4, #T_7eaf1_row4_col5, #T_7eaf1_row4_col6, #T_7eaf1_row4_col7 {\n",
       "  text-align: left;\n",
       "}\n",
       "#T_7eaf1_row0_col1, #T_7eaf1_row0_col4, #T_7eaf1_row0_col6, #T_7eaf1_row0_col7, #T_7eaf1_row1_col2, #T_7eaf1_row1_col5, #T_7eaf1_row2_col3 {\n",
       "  text-align: left;\n",
       "  background-color: yellow;\n",
       "}\n",
       "#T_7eaf1_row0_col8, #T_7eaf1_row1_col8, #T_7eaf1_row2_col8, #T_7eaf1_row3_col8 {\n",
       "  text-align: left;\n",
       "  background-color: lightgrey;\n",
       "}\n",
       "#T_7eaf1_row4_col8 {\n",
       "  text-align: left;\n",
       "  background-color: yellow;\n",
       "  background-color: lightgrey;\n",
       "}\n",
       "</style>\n",
       "<table id=\"T_7eaf1\">\n",
       "  <thead>\n",
       "    <tr>\n",
       "      <th class=\"blank level0\" >&nbsp;</th>\n",
       "      <th id=\"T_7eaf1_level0_col0\" class=\"col_heading level0 col0\" >Model</th>\n",
       "      <th id=\"T_7eaf1_level0_col1\" class=\"col_heading level0 col1\" >Accuracy</th>\n",
       "      <th id=\"T_7eaf1_level0_col2\" class=\"col_heading level0 col2\" >AUC</th>\n",
       "      <th id=\"T_7eaf1_level0_col3\" class=\"col_heading level0 col3\" >Recall</th>\n",
       "      <th id=\"T_7eaf1_level0_col4\" class=\"col_heading level0 col4\" >Prec.</th>\n",
       "      <th id=\"T_7eaf1_level0_col5\" class=\"col_heading level0 col5\" >F1</th>\n",
       "      <th id=\"T_7eaf1_level0_col6\" class=\"col_heading level0 col6\" >Kappa</th>\n",
       "      <th id=\"T_7eaf1_level0_col7\" class=\"col_heading level0 col7\" >MCC</th>\n",
       "      <th id=\"T_7eaf1_level0_col8\" class=\"col_heading level0 col8\" >TT (Sec)</th>\n",
       "    </tr>\n",
       "  </thead>\n",
       "  <tbody>\n",
       "    <tr>\n",
       "      <th id=\"T_7eaf1_level0_row0\" class=\"row_heading level0 row0\" >dt</th>\n",
       "      <td id=\"T_7eaf1_row0_col0\" class=\"data row0 col0\" >Decision Tree Classifier</td>\n",
       "      <td id=\"T_7eaf1_row0_col1\" class=\"data row0 col1\" >0.7931</td>\n",
       "      <td id=\"T_7eaf1_row0_col2\" class=\"data row0 col2\" >0.8179</td>\n",
       "      <td id=\"T_7eaf1_row0_col3\" class=\"data row0 col3\" >0.6927</td>\n",
       "      <td id=\"T_7eaf1_row0_col4\" class=\"data row0 col4\" >0.8668</td>\n",
       "      <td id=\"T_7eaf1_row0_col5\" class=\"data row0 col5\" >0.7701</td>\n",
       "      <td id=\"T_7eaf1_row0_col6\" class=\"data row0 col6\" >0.5862</td>\n",
       "      <td id=\"T_7eaf1_row0_col7\" class=\"data row0 col7\" >0.5984</td>\n",
       "      <td id=\"T_7eaf1_row0_col8\" class=\"data row0 col8\" >0.5240</td>\n",
       "    </tr>\n",
       "    <tr>\n",
       "      <th id=\"T_7eaf1_level0_row1\" class=\"row_heading level0 row1\" >rf</th>\n",
       "      <td id=\"T_7eaf1_row1_col0\" class=\"data row1 col0\" >Random Forest Classifier</td>\n",
       "      <td id=\"T_7eaf1_row1_col1\" class=\"data row1 col1\" >0.7887</td>\n",
       "      <td id=\"T_7eaf1_row1_col2\" class=\"data row1 col2\" >0.8608</td>\n",
       "      <td id=\"T_7eaf1_row1_col3\" class=\"data row1 col3\" >0.7164</td>\n",
       "      <td id=\"T_7eaf1_row1_col4\" class=\"data row1 col4\" >0.8377</td>\n",
       "      <td id=\"T_7eaf1_row1_col5\" class=\"data row1 col5\" >0.7723</td>\n",
       "      <td id=\"T_7eaf1_row1_col6\" class=\"data row1 col6\" >0.5775</td>\n",
       "      <td id=\"T_7eaf1_row1_col7\" class=\"data row1 col7\" >0.5836</td>\n",
       "      <td id=\"T_7eaf1_row1_col8\" class=\"data row1 col8\" >15.9410</td>\n",
       "    </tr>\n",
       "    <tr>\n",
       "      <th id=\"T_7eaf1_level0_row2\" class=\"row_heading level0 row2\" >xgboost</th>\n",
       "      <td id=\"T_7eaf1_row2_col0\" class=\"data row2 col0\" >Extreme Gradient Boosting</td>\n",
       "      <td id=\"T_7eaf1_row2_col1\" class=\"data row2 col1\" >0.6998</td>\n",
       "      <td id=\"T_7eaf1_row2_col2\" class=\"data row2 col2\" >0.7781</td>\n",
       "      <td id=\"T_7eaf1_row2_col3\" class=\"data row2 col3\" >0.7190</td>\n",
       "      <td id=\"T_7eaf1_row2_col4\" class=\"data row2 col4\" >0.6925</td>\n",
       "      <td id=\"T_7eaf1_row2_col5\" class=\"data row2 col5\" >0.7055</td>\n",
       "      <td id=\"T_7eaf1_row2_col6\" class=\"data row2 col6\" >0.3996</td>\n",
       "      <td id=\"T_7eaf1_row2_col7\" class=\"data row2 col7\" >0.3999</td>\n",
       "      <td id=\"T_7eaf1_row2_col8\" class=\"data row2 col8\" >3.9420</td>\n",
       "    </tr>\n",
       "    <tr>\n",
       "      <th id=\"T_7eaf1_level0_row3\" class=\"row_heading level0 row3\" >lightgbm</th>\n",
       "      <td id=\"T_7eaf1_row3_col0\" class=\"data row3 col0\" >Light Gradient Boosting Machine</td>\n",
       "      <td id=\"T_7eaf1_row3_col1\" class=\"data row3 col1\" >0.6850</td>\n",
       "      <td id=\"T_7eaf1_row3_col2\" class=\"data row3 col2\" >0.7584</td>\n",
       "      <td id=\"T_7eaf1_row3_col3\" class=\"data row3 col3\" >0.7159</td>\n",
       "      <td id=\"T_7eaf1_row3_col4\" class=\"data row3 col4\" >0.6743</td>\n",
       "      <td id=\"T_7eaf1_row3_col5\" class=\"data row3 col5\" >0.6945</td>\n",
       "      <td id=\"T_7eaf1_row3_col6\" class=\"data row3 col6\" >0.3700</td>\n",
       "      <td id=\"T_7eaf1_row3_col7\" class=\"data row3 col7\" >0.3707</td>\n",
       "      <td id=\"T_7eaf1_row3_col8\" class=\"data row3 col8\" >0.6610</td>\n",
       "    </tr>\n",
       "    <tr>\n",
       "      <th id=\"T_7eaf1_level0_row4\" class=\"row_heading level0 row4\" >lr</th>\n",
       "      <td id=\"T_7eaf1_row4_col0\" class=\"data row4 col0\" >Logistic Regression</td>\n",
       "      <td id=\"T_7eaf1_row4_col1\" class=\"data row4 col1\" >0.6198</td>\n",
       "      <td id=\"T_7eaf1_row4_col2\" class=\"data row4 col2\" >0.6718</td>\n",
       "      <td id=\"T_7eaf1_row4_col3\" class=\"data row4 col3\" >0.5971</td>\n",
       "      <td id=\"T_7eaf1_row4_col4\" class=\"data row4 col4\" >0.6256</td>\n",
       "      <td id=\"T_7eaf1_row4_col5\" class=\"data row4 col5\" >0.6110</td>\n",
       "      <td id=\"T_7eaf1_row4_col6\" class=\"data row4 col6\" >0.2397</td>\n",
       "      <td id=\"T_7eaf1_row4_col7\" class=\"data row4 col7\" >0.2399</td>\n",
       "      <td id=\"T_7eaf1_row4_col8\" class=\"data row4 col8\" >0.4090</td>\n",
       "    </tr>\n",
       "  </tbody>\n",
       "</table>\n"
      ],
      "text/plain": [
       "<pandas.io.formats.style.Styler at 0x12006ceb0>"
      ]
     },
     "metadata": {},
     "output_type": "display_data"
    }
   ],
   "source": [
    "start = datetime.now()\n",
    "\n",
    "model_matrix = compare_models(\n",
    "    fold= 10,\n",
    "    include= [\"dt\",\"lightgbm\",\"lr\",\"xgboost\",\"rf\"]\n",
    ")\n",
    "\n",
    "end = datetime.now()"
   ]
  },
  {
   "cell_type": "code",
   "execution_count": 6,
   "metadata": {},
   "outputs": [
    {
     "name": "stdout",
     "output_type": "stream",
     "text": [
      "EXECUTION TIME: 0:03:38.121161\n"
     ]
    }
   ],
   "source": [
    "print(f\"EXECUTION TIME: {end-start}\")"
   ]
  },
  {
   "cell_type": "code",
   "execution_count": null,
   "metadata": {},
   "outputs": [],
   "source": []
  }
 ],
 "metadata": {
  "kernelspec": {
   "display_name": "stellar",
   "language": "python",
   "name": "python3"
  },
  "language_info": {
   "codemirror_mode": {
    "name": "ipython",
    "version": 3
   },
   "file_extension": ".py",
   "mimetype": "text/x-python",
   "name": "python",
   "nbconvert_exporter": "python",
   "pygments_lexer": "ipython3",
   "version": "3.8.16"
  },
  "orig_nbformat": 4
 },
 "nbformat": 4,
 "nbformat_minor": 2
}
