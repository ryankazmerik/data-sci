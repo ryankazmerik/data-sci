{
 "cells": [
  {
   "cell_type": "markdown",
   "metadata": {},
   "source": [
    "# PCA Visualization with an online dataset"
   ]
  },
  {
   "cell_type": "code",
   "execution_count": 1,
   "metadata": {},
   "outputs": [],
   "source": [
    "# Grab a dataset from online\n",
    "\n",
    "# visualize with pandas-profiler (want a histogram of all data points. maybe also make a matrix of this in matplotlib)\n",
    "\n",
    "# create model, with elbow plot see how many clusters to use\n",
    "\n",
    "# plot with pca chart\n",
    "\n",
    "# try to adjust and work around this pca chart\n",
    "\n",
    "# maybe try and use the pca function from pycaret to make our own pca df then plot that"
   ]
  },
  {
   "cell_type": "code",
   "execution_count": null,
   "metadata": {},
   "outputs": [],
   "source": []
  }
 ],
 "metadata": {
  "kernelspec": {
   "display_name": "Python 3.8.13 ('apps')",
   "language": "python",
   "name": "python3"
  },
  "language_info": {
   "codemirror_mode": {
    "name": "ipython",
    "version": 3
   },
   "file_extension": ".py",
   "mimetype": "text/x-python",
   "name": "python",
   "nbconvert_exporter": "python",
   "pygments_lexer": "ipython3",
   "version": "3.8.13"
  },
  "orig_nbformat": 4,
  "vscode": {
   "interpreter": {
    "hash": "5d8995fe1737de4c2c05c8672033c3f0c4589a65b9d7ca0a2c13ebbb2ea74172"
   }
  }
 },
 "nbformat": 4,
 "nbformat_minor": 2
}
