{
 "cells": [
  {
   "cell_type": "code",
   "execution_count": 12,
   "metadata": {},
   "outputs": [],
   "source": [
    "import boto3\n",
    "import pandas as pd\n",
    "\n",
    "from shared_utilities import helpers"
   ]
  },
  {
   "cell_type": "code",
   "execution_count": 8,
   "metadata": {},
   "outputs": [],
   "source": [
    "if not boto3.DEFAULT_SESSION:\n",
    "    ! aws sso login --profile Stellaralgo-DataScienceAdmin\n",
    "    session = boto3.setup_default_session(profile_name='Stellaralgo-DataScienceAdmin')"
   ]
  },
  {
   "cell_type": "code",
   "execution_count": 15,
   "metadata": {},
   "outputs": [],
   "source": [
    "CNXN = helpers.get_redshift_connection(\"prod-app\", \"stlrmls\")"
   ]
  },
  {
   "cell_type": "code",
   "execution_count": 24,
   "metadata": {},
   "outputs": [],
   "source": [
    "# call the stored proc to get data for the retention model\n",
    "cur = CNXN.cursor()\n",
    "cur.execute(f\"CALL ds.getretentionmodeldata(13, 2010, 2021, 'rkcursor')\")\n",
    "\n",
    "# create a named cursor based on the cursor name passed in above\n",
    "named_cursor = CNXN.cursor('rkcursor')\n",
    "data = named_cursor.fetchall()\n",
    "\n",
    "# load the data and columns into a data frame\n",
    "cols = [row[0] for row in named_cursor.description]\n",
    "df = pd.DataFrame(data=data, columns=cols)\n",
    "\n",
    "CNXN.commit()"
   ]
  },
  {
   "cell_type": "code",
   "execution_count": 27,
   "metadata": {},
   "outputs": [
    {
     "data": {
      "text/plain": [
       "0    2632\n",
       "Name: isnextyear_buyer, dtype: int64"
      ]
     },
     "execution_count": 27,
     "metadata": {},
     "output_type": "execute_result"
    }
   ],
   "source": [
    "df[\"isnextyear_buyer\"].value_counts()"
   ]
  },
  {
   "cell_type": "code",
   "execution_count": 22,
   "metadata": {},
   "outputs": [],
   "source": [
    "df_parq = pd.read_parquet(\"/Users/ryankazmerik/Downloads/dynamo.parquet\")"
   ]
  },
  {
   "cell_type": "code",
   "execution_count": 23,
   "metadata": {},
   "outputs": [
    {
     "data": {
      "text/plain": [
       "0    2632\n",
       "Name: isnextyear_buyer, dtype: int64"
      ]
     },
     "execution_count": 23,
     "metadata": {},
     "output_type": "execute_result"
    }
   ],
   "source": [
    "df_parq[\"isnextyear_buyer\"].value_counts()"
   ]
  }
 ],
 "metadata": {
  "kernelspec": {
   "display_name": "Python 3.8.5 ('stellar')",
   "language": "python",
   "name": "python3"
  },
  "language_info": {
   "codemirror_mode": {
    "name": "ipython",
    "version": 3
   },
   "file_extension": ".py",
   "mimetype": "text/x-python",
   "name": "python",
   "nbconvert_exporter": "python",
   "pygments_lexer": "ipython3",
   "version": "3.8.5"
  },
  "orig_nbformat": 4,
  "vscode": {
   "interpreter": {
    "hash": "89f48dadab51a6b5b48ffc1a9e043c21cefe67453637c3444f3b86917b8aad16"
   }
  }
 },
 "nbformat": 4,
 "nbformat_minor": 2
}
