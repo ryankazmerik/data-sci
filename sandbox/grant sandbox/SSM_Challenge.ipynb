{
 "cells": [
  {
   "cell_type": "markdown",
   "metadata": {},
   "source": [
    "# SSM Challenge\n",
    "There is an SSM parameter in our Explore-US environment called: /customer/model-retention/ai/db-connections/data-sci-retention/database-read\n",
    "\n",
    "The challenge is to create a notebook in your sandbox that does the following:\n",
    "1. Read the value of the SSM parameter\n",
    "2. Use the values in the SSM parameter to form a connection string to the MSSQL database listed in the parameter\n",
    "3. Read the contents of the ds.customerScores table into a dataframe"
   ]
  },
  {
   "cell_type": "code",
   "execution_count": 1,
   "metadata": {},
   "outputs": [],
   "source": [
    "import awswrangler as wr\n",
    "import boto3 \n",
    "import json\n",
    "import pyodbc"
   ]
  },
  {
   "cell_type": "code",
   "execution_count": 2,
   "metadata": {},
   "outputs": [
    {
     "name": "stdout",
     "output_type": "stream",
     "text": [
      "Attempting to automatically open the SSO authorization page in your default browser.\n",
      "If the browser does not open or you wish to use a different device to authorize this request, open the following URL:\n",
      "\n",
      "https://device.sso.us-east-1.amazonaws.com/\n",
      "\n",
      "Then enter the code:\n",
      "\n",
      "HSJM-BPHJ\n",
      "Successfully logged into Start URL: https://stellaralgo.awsapps.com/start#/\n"
     ]
    }
   ],
   "source": [
    "! aws sso login --profile Explore-US-DataScienceAdmin"
   ]
  },
  {
   "cell_type": "code",
   "execution_count": 3,
   "metadata": {},
   "outputs": [],
   "source": [
    "ssm_param = \"/customer/model-retention/ai/db-connections/data-sci-retention/database-read\"\n",
    "\n",
    "session = boto3.setup_default_session(profile_name='Explore-US-DataScienceAdmin')\n",
    "        \n",
    "ssm_client = boto3.client(\"ssm\", \"us-east-1\")\n",
    "response = ssm_client.get_parameter(\n",
    "    Name=ssm_param,\n",
    "    WithDecryption=True,\n",
    ")[\"Parameter\"][\"Value\"]\n",
    "sql_connection = json.loads(response)"
   ]
  },
  {
   "cell_type": "code",
   "execution_count": 4,
   "metadata": {},
   "outputs": [
    {
     "data": {
      "text/plain": [
       "{'database': 'datascience',\n",
       " 'name': 'LEGACY-MSSQL-PROD-PRODUCT-READ',\n",
       " 'password': 'XComAvUXKs2v3_#@cd',\n",
       " 'port': '1433',\n",
       " 'server': '10.0.0.56',\n",
       " 'username': 'dsAdminRead'}"
      ]
     },
     "execution_count": 4,
     "metadata": {},
     "output_type": "execute_result"
    }
   ],
   "source": [
    "sql_connection"
   ]
  },
  {
   "cell_type": "code",
   "execution_count": 5,
   "metadata": {},
   "outputs": [],
   "source": [
    "CNXN = pyodbc.connect('DRIVER={ODBC Driver 17 for SQL Server};SERVER='+'34.206.73.189'+';DATABASE='+sql_connection[\"database\"]+';UID='+sql_connection[\"username\"]+';PWD='+ sql_connection[\"password\"])"
   ]
  }
 ],
 "metadata": {
  "kernelspec": {
   "display_name": "Python 3.8.5 ('stellar')",
   "language": "python",
   "name": "python3"
  },
  "language_info": {
   "codemirror_mode": {
    "name": "ipython",
    "version": 3
   },
   "file_extension": ".py",
   "mimetype": "text/x-python",
   "name": "python",
   "nbconvert_exporter": "python",
   "pygments_lexer": "ipython3",
   "version": "3.8.5"
  },
  "orig_nbformat": 4,
  "vscode": {
   "interpreter": {
    "hash": "89f48dadab51a6b5b48ffc1a9e043c21cefe67453637c3444f3b86917b8aad16"
   }
  }
 },
 "nbformat": 4,
 "nbformat_minor": 2
}
