{
 "cells": [
  {
   "cell_type": "markdown",
   "metadata": {},
   "source": [
    "# RedShift Challenge\n",
    "\n",
    "We have a database in our qa-app cluster, ds schema, called dummytable. The challenge is to create a notebook in your sandbox that does the following:\n",
    "* Read the records from this table and display in a pandas dataframe\n",
    "* Create a new record in the table, following the format of the other records, then display only the new record in a dataframe\n",
    "* Update an existing record, then display the updated record in a dataframe\n",
    "* Delete the new record you created, and display all records in a dataframe to ensure it was deleted.\n",
    "* Be sure to add some markdown documentation, and inline code documentation to describe what your code is doing.\n",
    "* Once finished, push up to our data-sci git rep"
   ]
  },
  {
   "cell_type": "code",
   "execution_count": 13,
   "metadata": {},
   "outputs": [],
   "source": [
    "import boto3 \n",
    "import json\n",
    "import psycopg2"
   ]
  },
  {
   "cell_type": "code",
   "execution_count": 14,
   "metadata": {},
   "outputs": [
    {
     "name": "stdout",
     "output_type": "stream",
     "text": [
      "Attempting to automatically open the SSO authorization page in your default browser.\n",
      "If the browser does not open or you wish to use a different device to authorize this request, open the following URL:\n",
      "\n",
      "https://device.sso.us-east-1.amazonaws.com/\n",
      "\n",
      "Then enter the code:\n",
      "\n",
      "CKSM-TJZP\n",
      "Successfully logged into Start URL: https://stellaralgo.awsapps.com/start#/\n"
     ]
    }
   ],
   "source": [
    "! aws sso login --profile Stellaralgo-DataScienceAdmin"
   ]
  },
  {
   "cell_type": "code",
   "execution_count": 15,
   "metadata": {},
   "outputs": [
    {
     "name": "stdout",
     "output_type": "stream",
     "text": [
      "{'DbUser': 'IAMA:admin:admin_group', 'DbPassword': 'Ayfd3RwfgcnMH9a5WlTZgH0yekupMlERUt69Up2bqEniOQOxitHiqFSK2Qayb69Jxy8yeJA==', 'Expiration': datetime.datetime(2022, 8, 4, 21, 56, 30, 257000, tzinfo=tzutc()), 'ResponseMetadata': {'RequestId': 'b478aa15-22b6-41ac-9beb-d271cbcc9e24', 'HTTPStatusCode': 200, 'HTTPHeaders': {'x-amzn-requestid': 'b478aa15-22b6-41ac-9beb-d271cbcc9e24', 'content-type': 'text/xml', 'content-length': '492', 'date': 'Thu, 04 Aug 2022 21:41:29 GMT'}, 'RetryAttempts': 0}}\n"
     ]
    }
   ],
   "source": [
    "session = boto3.setup_default_session(profile_name='Stellaralgo-DataScienceAdmin')\n",
    "rs_client = boto3.client('redshift', \"us-east-1\")\n",
    "\n",
    "endpoint = 'qa-app.ctjussvyafp4.us-east-1.redshift.amazonaws.com'\n",
    "\n",
    "cluster_credentials = rs_client.get_cluster_credentials(\n",
    "    ClusterIdentifier = \"qa-app\",\n",
    "    DbUser = 'admin',\n",
    "    DbName = \"datascience\",\n",
    "    DbGroups = [\"admin_group\"],\n",
    "    AutoCreate = True\n",
    ")\n",
    "\n",
    "print(cluster_credentials)\n",
    "\n",
    "CNXN = psycopg2.connect(\n",
    "    host = endpoint,\n",
    "    port = 5439,\n",
    "    user = cluster_credentials[\"DbUser\"],\n",
    "    password = cluster_credentials[\"DbPassword\"],\n",
    "    database = \"datascience\"\n",
    ")"
   ]
  }
 ],
 "metadata": {
  "kernelspec": {
   "display_name": "Python 3.8.5 ('stellar')",
   "language": "python",
   "name": "python3"
  },
  "language_info": {
   "codemirror_mode": {
    "name": "ipython",
    "version": 3
   },
   "file_extension": ".py",
   "mimetype": "text/x-python",
   "name": "python",
   "nbconvert_exporter": "python",
   "pygments_lexer": "ipython3",
   "version": "3.8.5"
  },
  "orig_nbformat": 4,
  "vscode": {
   "interpreter": {
    "hash": "89f48dadab51a6b5b48ffc1a9e043c21cefe67453637c3444f3b86917b8aad16"
   }
  }
 },
 "nbformat": 4,
 "nbformat_minor": 2
}
