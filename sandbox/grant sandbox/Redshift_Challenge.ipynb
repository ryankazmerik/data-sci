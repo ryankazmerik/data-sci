{
 "cells": [
  {
   "cell_type": "markdown",
   "metadata": {},
   "source": [
    "# RedShift Challenge\n",
    "\n",
    "We have a database in our qa-app cluster, ds schema, called dummytable. The challenge is to create a notebook in your sandbox that does the following:\n",
    "* Read the records from this table and display in a pandas dataframe\n",
    "* Create a new record in the table, following the format of the other records, then display only the new record in a dataframe\n",
    "* Update an existing record, then display the updated record in a dataframe\n",
    "* Delete the new record you created, and display all records in a dataframe to ensure it was deleted.\n",
    "* Be sure to add some markdown documentation, and inline code documentation to describe what your code is doing.\n",
    "* Once finished, push up to our data-sci git rep"
   ]
  },
  {
   "cell_type": "code",
   "execution_count": 6,
   "metadata": {},
   "outputs": [],
   "source": [
    "import boto3 \n",
    "import json\n",
    "import pandas as pd\n",
    "import psycopg2"
   ]
  },
  {
   "cell_type": "code",
   "execution_count": 7,
   "metadata": {},
   "outputs": [
    {
     "name": "stdout",
     "output_type": "stream",
     "text": [
      "Attempting to automatically open the SSO authorization page in your default browser.\n",
      "If the browser does not open or you wish to use a different device to authorize this request, open the following URL:\n",
      "\n",
      "https://device.sso.us-east-1.amazonaws.com/\n",
      "\n",
      "Then enter the code:\n",
      "\n",
      "SLBF-TSPL\n",
      "Successfully logged into Start URL: https://stellaralgo.awsapps.com/start#/\n"
     ]
    }
   ],
   "source": [
    "! aws sso login --profile Stellaralgo-DataScienceAdmin"
   ]
  },
  {
   "cell_type": "markdown",
   "metadata": {},
   "source": [
    "### Assign global variables"
   ]
  },
  {
   "cell_type": "code",
   "execution_count": 8,
   "metadata": {},
   "outputs": [],
   "source": [
    "CLUSTER = 'qa-app'\n",
    "DBNAME = 'datascience'\n",
    "SCHEMA = 'ds'\n",
    "TABLE = 'dummytable'"
   ]
  },
  {
   "cell_type": "markdown",
   "metadata": {},
   "source": [
    "### Make connection to redshift"
   ]
  },
  {
   "cell_type": "code",
   "execution_count": 9,
   "metadata": {},
   "outputs": [],
   "source": [
    "session = boto3.setup_default_session(profile_name='Stellaralgo-DataScienceAdmin')\n",
    "rs_client = boto3.client('redshift', \"us-east-1\")\n",
    "\n",
    "endpoint = 'qa-app.ctjussvyafp4.us-east-1.redshift.amazonaws.com'\n",
    "\n",
    "cluster_credentials = rs_client.get_cluster_credentials(\n",
    "    ClusterIdentifier = CLUSTER,\n",
    "    DbUser = 'admin',\n",
    "    DbName = DBNAME,\n",
    "    DbGroups = [\"admin_group\"],\n",
    "    AutoCreate = True\n",
    ")\n",
    "\n",
    "CNXN = psycopg2.connect(\n",
    "    host = endpoint,\n",
    "    port = 5439,\n",
    "    user = cluster_credentials[\"DbUser\"],\n",
    "    password = cluster_credentials[\"DbPassword\"],\n",
    "    database = DBNAME\n",
    ")"
   ]
  },
  {
   "cell_type": "markdown",
   "metadata": {},
   "source": [
    "### Read table from Redshift and save as Pandas data frame"
   ]
  },
  {
   "cell_type": "code",
   "execution_count": 10,
   "metadata": {},
   "outputs": [
    {
     "name": "stderr",
     "output_type": "stream",
     "text": [
      "/opt/miniconda3/envs/stellar/lib/python3.8/site-packages/pandas/io/sql.py:761: UserWarning: pandas only support SQLAlchemy connectable(engine/connection) ordatabase string URI or sqlite3 DBAPI2 connectionother DBAPI2 objects are not tested, please consider using SQLAlchemy\n",
      "  warnings.warn(\n"
     ]
    },
    {
     "data": {
      "text/html": [
       "<div>\n",
       "<style scoped>\n",
       "    .dataframe tbody tr th:only-of-type {\n",
       "        vertical-align: middle;\n",
       "    }\n",
       "\n",
       "    .dataframe tbody tr th {\n",
       "        vertical-align: top;\n",
       "    }\n",
       "\n",
       "    .dataframe thead th {\n",
       "        text-align: right;\n",
       "    }\n",
       "</style>\n",
       "<table border=\"1\" class=\"dataframe\">\n",
       "  <thead>\n",
       "    <tr style=\"text-align: right;\">\n",
       "      <th></th>\n",
       "      <th>playerid</th>\n",
       "      <th>dob</th>\n",
       "      <th>gamesplayed</th>\n",
       "      <th>injured</th>\n",
       "      <th>position</th>\n",
       "      <th>name</th>\n",
       "      <th>numassists</th>\n",
       "      <th>numgoals</th>\n",
       "      <th>pointpercentage</th>\n",
       "    </tr>\n",
       "  </thead>\n",
       "  <tbody>\n",
       "    <tr>\n",
       "      <th>0</th>\n",
       "      <td>11</td>\n",
       "      <td>1988-08-04</td>\n",
       "      <td>20</td>\n",
       "      <td>False</td>\n",
       "      <td>RW</td>\n",
       "      <td>Dale</td>\n",
       "      <td>24</td>\n",
       "      <td>21</td>\n",
       "      <td>2.1</td>\n",
       "    </tr>\n",
       "    <tr>\n",
       "      <th>1</th>\n",
       "      <td>12</td>\n",
       "      <td>1985-06-05</td>\n",
       "      <td>20</td>\n",
       "      <td>False</td>\n",
       "      <td>C</td>\n",
       "      <td>Skip</td>\n",
       "      <td>15</td>\n",
       "      <td>36</td>\n",
       "      <td>2.5</td>\n",
       "    </tr>\n",
       "    <tr>\n",
       "      <th>2</th>\n",
       "      <td>13</td>\n",
       "      <td>1985-03-15</td>\n",
       "      <td>15</td>\n",
       "      <td>True</td>\n",
       "      <td>LW</td>\n",
       "      <td>Sanders</td>\n",
       "      <td>20</td>\n",
       "      <td>30</td>\n",
       "      <td>1.9</td>\n",
       "    </tr>\n",
       "    <tr>\n",
       "      <th>3</th>\n",
       "      <td>14</td>\n",
       "      <td>1983-02-20</td>\n",
       "      <td>20</td>\n",
       "      <td>False</td>\n",
       "      <td>LD</td>\n",
       "      <td>Patty</td>\n",
       "      <td>38</td>\n",
       "      <td>12</td>\n",
       "      <td>1.5</td>\n",
       "    </tr>\n",
       "    <tr>\n",
       "      <th>4</th>\n",
       "      <td>15</td>\n",
       "      <td>1987-08-04</td>\n",
       "      <td>18</td>\n",
       "      <td>False</td>\n",
       "      <td>RD</td>\n",
       "      <td>Reynolds</td>\n",
       "      <td>16</td>\n",
       "      <td>6</td>\n",
       "      <td>0.8</td>\n",
       "    </tr>\n",
       "    <tr>\n",
       "      <th>5</th>\n",
       "      <td>25</td>\n",
       "      <td>1993-03-02</td>\n",
       "      <td>20</td>\n",
       "      <td>True</td>\n",
       "      <td>G</td>\n",
       "      <td>Frank</td>\n",
       "      <td>2</td>\n",
       "      <td>0</td>\n",
       "      <td>0.1</td>\n",
       "    </tr>\n",
       "  </tbody>\n",
       "</table>\n",
       "</div>"
      ],
      "text/plain": [
       "   playerid         dob  gamesplayed  injured position      name  numassists  \\\n",
       "0        11  1988-08-04           20    False       RW      Dale          24   \n",
       "1        12  1985-06-05           20    False        C      Skip          15   \n",
       "2        13  1985-03-15           15     True       LW   Sanders          20   \n",
       "3        14  1983-02-20           20    False       LD     Patty          38   \n",
       "4        15  1987-08-04           18    False       RD  Reynolds          16   \n",
       "5        25  1993-03-02           20     True        G     Frank           2   \n",
       "\n",
       "   numgoals  pointpercentage  \n",
       "0        21              2.1  \n",
       "1        36              2.5  \n",
       "2        30              1.9  \n",
       "3        12              1.5  \n",
       "4         6              0.8  \n",
       "5         0              0.1  "
      ]
     },
     "metadata": {},
     "output_type": "display_data"
    }
   ],
   "source": [
    "cursor = CNXN.cursor()\n",
    "\n",
    "select_sql = f\"\"\"\n",
    "    SELECT *\n",
    "    FROM {DBNAME}.{SCHEMA}.{TABLE}\n",
    "\"\"\"\n",
    "\n",
    "df_customerScores = pd.read_sql(select_sql, CNXN)\n",
    "\n",
    "display(df_customerScores)"
   ]
  },
  {
   "cell_type": "markdown",
   "metadata": {},
   "source": [
    "### Add new row to the Redshift table"
   ]
  },
  {
   "cell_type": "code",
   "execution_count": 11,
   "metadata": {},
   "outputs": [],
   "source": [
    "new_row_sql = f\"\"\"\n",
    "    INSERT INTO {DBNAME}.{SCHEMA}.{TABLE} (\n",
    "        dob,\n",
    "        gamesplayed,\n",
    "        injured,\n",
    "        position,\n",
    "        name,\n",
    "        numassists,\n",
    "        numgoals,\n",
    "        pointpercentage\n",
    "    ) VALUES (\n",
    "        '1993-03-02',\n",
    "        20,\n",
    "        False,\n",
    "        'G',\n",
    "        'Frank',\n",
    "        2,\n",
    "        0,\n",
    "        0.1\n",
    "    )\n",
    "\"\"\"\n",
    "\n",
    "cursor.execute(new_row_sql)"
   ]
  },
  {
   "cell_type": "markdown",
   "metadata": {},
   "source": [
    "### Show new row"
   ]
  },
  {
   "cell_type": "code",
   "execution_count": 12,
   "metadata": {},
   "outputs": [
    {
     "name": "stderr",
     "output_type": "stream",
     "text": [
      "/opt/miniconda3/envs/stellar/lib/python3.8/site-packages/pandas/io/sql.py:761: UserWarning: pandas only support SQLAlchemy connectable(engine/connection) ordatabase string URI or sqlite3 DBAPI2 connectionother DBAPI2 objects are not tested, please consider using SQLAlchemy\n",
      "  warnings.warn(\n"
     ]
    },
    {
     "data": {
      "text/html": [
       "<div>\n",
       "<style scoped>\n",
       "    .dataframe tbody tr th:only-of-type {\n",
       "        vertical-align: middle;\n",
       "    }\n",
       "\n",
       "    .dataframe tbody tr th {\n",
       "        vertical-align: top;\n",
       "    }\n",
       "\n",
       "    .dataframe thead th {\n",
       "        text-align: right;\n",
       "    }\n",
       "</style>\n",
       "<table border=\"1\" class=\"dataframe\">\n",
       "  <thead>\n",
       "    <tr style=\"text-align: right;\">\n",
       "      <th></th>\n",
       "      <th>playerid</th>\n",
       "      <th>dob</th>\n",
       "      <th>gamesplayed</th>\n",
       "      <th>injured</th>\n",
       "      <th>position</th>\n",
       "      <th>name</th>\n",
       "      <th>numassists</th>\n",
       "      <th>numgoals</th>\n",
       "      <th>pointpercentage</th>\n",
       "    </tr>\n",
       "  </thead>\n",
       "  <tbody>\n",
       "    <tr>\n",
       "      <th>0</th>\n",
       "      <td>25</td>\n",
       "      <td>1993-03-02</td>\n",
       "      <td>20</td>\n",
       "      <td>True</td>\n",
       "      <td>G</td>\n",
       "      <td>Frank</td>\n",
       "      <td>2</td>\n",
       "      <td>0</td>\n",
       "      <td>0.1</td>\n",
       "    </tr>\n",
       "    <tr>\n",
       "      <th>1</th>\n",
       "      <td>26</td>\n",
       "      <td>1993-03-02</td>\n",
       "      <td>20</td>\n",
       "      <td>False</td>\n",
       "      <td>G</td>\n",
       "      <td>Frank</td>\n",
       "      <td>2</td>\n",
       "      <td>0</td>\n",
       "      <td>0.1</td>\n",
       "    </tr>\n",
       "  </tbody>\n",
       "</table>\n",
       "</div>"
      ],
      "text/plain": [
       "   playerid         dob  gamesplayed  injured position   name  numassists  \\\n",
       "0        25  1993-03-02           20     True        G  Frank           2   \n",
       "1        26  1993-03-02           20    False        G  Frank           2   \n",
       "\n",
       "   numgoals  pointpercentage  \n",
       "0         0              0.1  \n",
       "1         0              0.1  "
      ]
     },
     "metadata": {},
     "output_type": "display_data"
    }
   ],
   "source": [
    "get_new_row_sql = f\"\"\"\n",
    "    SELECT *\n",
    "    FROM {DBNAME}.{SCHEMA}.{TABLE}\n",
    "    WHERE name = 'Frank' AND position = 'G'\n",
    "\"\"\"\n",
    "\n",
    "display(pd.read_sql(get_new_row_sql, CNXN))"
   ]
  },
  {
   "cell_type": "markdown",
   "metadata": {},
   "source": [
    "### Update record in Redshift table"
   ]
  },
  {
   "cell_type": "code",
   "execution_count": 13,
   "metadata": {},
   "outputs": [
    {
     "name": "stderr",
     "output_type": "stream",
     "text": [
      "/opt/miniconda3/envs/stellar/lib/python3.8/site-packages/pandas/io/sql.py:761: UserWarning: pandas only support SQLAlchemy connectable(engine/connection) ordatabase string URI or sqlite3 DBAPI2 connectionother DBAPI2 objects are not tested, please consider using SQLAlchemy\n",
      "  warnings.warn(\n"
     ]
    },
    {
     "data": {
      "text/html": [
       "<div>\n",
       "<style scoped>\n",
       "    .dataframe tbody tr th:only-of-type {\n",
       "        vertical-align: middle;\n",
       "    }\n",
       "\n",
       "    .dataframe tbody tr th {\n",
       "        vertical-align: top;\n",
       "    }\n",
       "\n",
       "    .dataframe thead th {\n",
       "        text-align: right;\n",
       "    }\n",
       "</style>\n",
       "<table border=\"1\" class=\"dataframe\">\n",
       "  <thead>\n",
       "    <tr style=\"text-align: right;\">\n",
       "      <th></th>\n",
       "      <th>playerid</th>\n",
       "      <th>dob</th>\n",
       "      <th>gamesplayed</th>\n",
       "      <th>injured</th>\n",
       "      <th>position</th>\n",
       "      <th>name</th>\n",
       "      <th>numassists</th>\n",
       "      <th>numgoals</th>\n",
       "      <th>pointpercentage</th>\n",
       "    </tr>\n",
       "  </thead>\n",
       "  <tbody>\n",
       "    <tr>\n",
       "      <th>0</th>\n",
       "      <td>25</td>\n",
       "      <td>1993-03-02</td>\n",
       "      <td>20</td>\n",
       "      <td>True</td>\n",
       "      <td>G</td>\n",
       "      <td>Frank</td>\n",
       "      <td>2</td>\n",
       "      <td>0</td>\n",
       "      <td>0.1</td>\n",
       "    </tr>\n",
       "    <tr>\n",
       "      <th>1</th>\n",
       "      <td>26</td>\n",
       "      <td>1993-03-02</td>\n",
       "      <td>20</td>\n",
       "      <td>True</td>\n",
       "      <td>G</td>\n",
       "      <td>Frank</td>\n",
       "      <td>2</td>\n",
       "      <td>0</td>\n",
       "      <td>0.1</td>\n",
       "    </tr>\n",
       "  </tbody>\n",
       "</table>\n",
       "</div>"
      ],
      "text/plain": [
       "   playerid         dob  gamesplayed  injured position   name  numassists  \\\n",
       "0        25  1993-03-02           20     True        G  Frank           2   \n",
       "1        26  1993-03-02           20     True        G  Frank           2   \n",
       "\n",
       "   numgoals  pointpercentage  \n",
       "0         0              0.1  \n",
       "1         0              0.1  "
      ]
     },
     "metadata": {},
     "output_type": "display_data"
    }
   ],
   "source": [
    "update_sql = f\"\"\"\n",
    "    UPDATE {DBNAME}.{SCHEMA}.{TABLE}\n",
    "    SET injured = True\n",
    "    WHERE name = 'Frank' AND position = 'G'\n",
    "\"\"\"\n",
    "\n",
    "cursor.execute(update_sql)\n",
    "\n",
    "display(pd.read_sql(get_new_row_sql, CNXN))"
   ]
  },
  {
   "cell_type": "markdown",
   "metadata": {},
   "source": [
    "### Delete a record in the Redshift table"
   ]
  },
  {
   "cell_type": "code",
   "execution_count": 14,
   "metadata": {},
   "outputs": [
    {
     "name": "stderr",
     "output_type": "stream",
     "text": [
      "/opt/miniconda3/envs/stellar/lib/python3.8/site-packages/pandas/io/sql.py:761: UserWarning: pandas only support SQLAlchemy connectable(engine/connection) ordatabase string URI or sqlite3 DBAPI2 connectionother DBAPI2 objects are not tested, please consider using SQLAlchemy\n",
      "  warnings.warn(\n"
     ]
    },
    {
     "data": {
      "text/html": [
       "<div>\n",
       "<style scoped>\n",
       "    .dataframe tbody tr th:only-of-type {\n",
       "        vertical-align: middle;\n",
       "    }\n",
       "\n",
       "    .dataframe tbody tr th {\n",
       "        vertical-align: top;\n",
       "    }\n",
       "\n",
       "    .dataframe thead th {\n",
       "        text-align: right;\n",
       "    }\n",
       "</style>\n",
       "<table border=\"1\" class=\"dataframe\">\n",
       "  <thead>\n",
       "    <tr style=\"text-align: right;\">\n",
       "      <th></th>\n",
       "      <th>playerid</th>\n",
       "      <th>dob</th>\n",
       "      <th>gamesplayed</th>\n",
       "      <th>injured</th>\n",
       "      <th>position</th>\n",
       "      <th>name</th>\n",
       "      <th>numassists</th>\n",
       "      <th>numgoals</th>\n",
       "      <th>pointpercentage</th>\n",
       "    </tr>\n",
       "  </thead>\n",
       "  <tbody>\n",
       "    <tr>\n",
       "      <th>0</th>\n",
       "      <td>11</td>\n",
       "      <td>1988-08-04</td>\n",
       "      <td>20</td>\n",
       "      <td>False</td>\n",
       "      <td>RW</td>\n",
       "      <td>Dale</td>\n",
       "      <td>24</td>\n",
       "      <td>21</td>\n",
       "      <td>2.1</td>\n",
       "    </tr>\n",
       "    <tr>\n",
       "      <th>1</th>\n",
       "      <td>12</td>\n",
       "      <td>1985-06-05</td>\n",
       "      <td>20</td>\n",
       "      <td>False</td>\n",
       "      <td>C</td>\n",
       "      <td>Skip</td>\n",
       "      <td>15</td>\n",
       "      <td>36</td>\n",
       "      <td>2.5</td>\n",
       "    </tr>\n",
       "    <tr>\n",
       "      <th>2</th>\n",
       "      <td>13</td>\n",
       "      <td>1985-03-15</td>\n",
       "      <td>15</td>\n",
       "      <td>True</td>\n",
       "      <td>LW</td>\n",
       "      <td>Sanders</td>\n",
       "      <td>20</td>\n",
       "      <td>30</td>\n",
       "      <td>1.9</td>\n",
       "    </tr>\n",
       "    <tr>\n",
       "      <th>3</th>\n",
       "      <td>14</td>\n",
       "      <td>1983-02-20</td>\n",
       "      <td>20</td>\n",
       "      <td>False</td>\n",
       "      <td>LD</td>\n",
       "      <td>Patty</td>\n",
       "      <td>38</td>\n",
       "      <td>12</td>\n",
       "      <td>1.5</td>\n",
       "    </tr>\n",
       "    <tr>\n",
       "      <th>4</th>\n",
       "      <td>15</td>\n",
       "      <td>1987-08-04</td>\n",
       "      <td>18</td>\n",
       "      <td>False</td>\n",
       "      <td>RD</td>\n",
       "      <td>Reynolds</td>\n",
       "      <td>16</td>\n",
       "      <td>6</td>\n",
       "      <td>0.8</td>\n",
       "    </tr>\n",
       "    <tr>\n",
       "      <th>5</th>\n",
       "      <td>25</td>\n",
       "      <td>1993-03-02</td>\n",
       "      <td>20</td>\n",
       "      <td>True</td>\n",
       "      <td>G</td>\n",
       "      <td>Frank</td>\n",
       "      <td>2</td>\n",
       "      <td>0</td>\n",
       "      <td>0.1</td>\n",
       "    </tr>\n",
       "    <tr>\n",
       "      <th>6</th>\n",
       "      <td>26</td>\n",
       "      <td>1993-03-02</td>\n",
       "      <td>20</td>\n",
       "      <td>True</td>\n",
       "      <td>G</td>\n",
       "      <td>Frank</td>\n",
       "      <td>2</td>\n",
       "      <td>0</td>\n",
       "      <td>0.1</td>\n",
       "    </tr>\n",
       "  </tbody>\n",
       "</table>\n",
       "</div>"
      ],
      "text/plain": [
       "   playerid         dob  gamesplayed  injured position      name  numassists  \\\n",
       "0        11  1988-08-04           20    False       RW      Dale          24   \n",
       "1        12  1985-06-05           20    False        C      Skip          15   \n",
       "2        13  1985-03-15           15     True       LW   Sanders          20   \n",
       "3        14  1983-02-20           20    False       LD     Patty          38   \n",
       "4        15  1987-08-04           18    False       RD  Reynolds          16   \n",
       "5        25  1993-03-02           20     True        G     Frank           2   \n",
       "6        26  1993-03-02           20     True        G     Frank           2   \n",
       "\n",
       "   numgoals  pointpercentage  \n",
       "0        21              2.1  \n",
       "1        36              2.5  \n",
       "2        30              1.9  \n",
       "3        12              1.5  \n",
       "4         6              0.8  \n",
       "5         0              0.1  \n",
       "6         0              0.1  "
      ]
     },
     "metadata": {},
     "output_type": "display_data"
    }
   ],
   "source": [
    "delete_sql = f\"\"\"\n",
    "    DELETE \n",
    "    FROM {DBNAME}.{SCHEMA}.{TABLE}\n",
    "    WHERE playerid = 22\n",
    "\"\"\"\n",
    "\n",
    "cursor.execute(delete_sql)\n",
    "\n",
    "display(pd.read_sql(select_sql, CNXN))"
   ]
  },
  {
   "cell_type": "markdown",
   "metadata": {},
   "source": [
    "### Commit and close connections"
   ]
  },
  {
   "cell_type": "code",
   "execution_count": 15,
   "metadata": {},
   "outputs": [],
   "source": [
    "CNXN.commit()\n",
    "cursor.close() \n",
    "CNXN.close() "
   ]
  }
 ],
 "metadata": {
  "kernelspec": {
   "display_name": "Python 3.8.5 ('stellar')",
   "language": "python",
   "name": "python3"
  },
  "language_info": {
   "codemirror_mode": {
    "name": "ipython",
    "version": 3
   },
   "file_extension": ".py",
   "mimetype": "text/x-python",
   "name": "python",
   "nbconvert_exporter": "python",
   "pygments_lexer": "ipython3",
   "version": "3.8.13 (default, Mar 28 2022, 06:16:26) \n[Clang 12.0.0 ]"
  },
  "orig_nbformat": 4,
  "vscode": {
   "interpreter": {
    "hash": "89f48dadab51a6b5b48ffc1a9e043c21cefe67453637c3444f3b86917b8aad16"
   }
  }
 },
 "nbformat": 4,
 "nbformat_minor": 2
}
