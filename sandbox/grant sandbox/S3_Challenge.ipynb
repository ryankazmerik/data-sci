{
 "cells": [
  {
   "cell_type": "markdown",
   "metadata": {},
   "source": [
    "# S3 Challenge\n",
    "\n",
    "Create an S3 bucket our Explore-US environment: s3://ai-experimentation-td4np7/{your name without the curly brackets}-challenge/\n",
    "\n",
    "The challenge is to create a notebook in your sandbox that does the following:\n",
    "1. List the filename of each file in your bucket\n",
    "2. Upload a json file into the bucket, then read the bucket and display the new filename\n",
    "3. Read that file out of the bucket and display the contents.\n",
    "4. Be sure to add some markdown documentation, and inline code documentation to describe what your code is doing.\n",
    "5. Once finished, push up to our data-sci git repo"
   ]
  },
  {
   "cell_type": "code",
   "execution_count": 2,
   "metadata": {},
   "outputs": [],
   "source": [
    "import awswrangler as wr\n",
    "import boto3 \n",
    "import json"
   ]
  },
  {
   "cell_type": "code",
   "execution_count": 3,
   "metadata": {},
   "outputs": [
    {
     "name": "stdout",
     "output_type": "stream",
     "text": [
      "Attempting to automatically open the SSO authorization page in your default browser.\n",
      "If the browser does not open or you wish to use a different device to authorize this request, open the following URL:\n",
      "\n",
      "https://device.sso.us-east-1.amazonaws.com/\n",
      "\n",
      "Then enter the code:\n",
      "\n",
      "LJMZ-NPTL\n",
      "Successfully logged into Start URL: https://stellaralgo.awsapps.com/start#/\n"
     ]
    }
   ],
   "source": [
    "! aws sso login --profile Stellaralgo-DataScienceAdmin"
   ]
  },
  {
   "cell_type": "code",
   "execution_count": 4,
   "metadata": {},
   "outputs": [],
   "source": [
    "session = boto3.setup_default_session(profile_name='Explore-US-DataScienceAdmin')\n",
    "s3_client = boto3.client('s3')"
   ]
  },
  {
   "cell_type": "code",
   "execution_count": 44,
   "metadata": {},
   "outputs": [],
   "source": [
    "#Function to read the files that are located in a specific bucket and key\n",
    "def read_AWS_Bucket():\n",
    "    objectJson = s3_client.list_objects_v2(Bucket='ai-experimentation-td4np7', Prefix='grant-challenge')\n",
    "    count = 1\n",
    "    print(\"List of files: \")\n",
    "    for file in objectJson[\"Contents\"]:\n",
    "        print(f'{count}. File: {file[\"Key\"]} \\nDate Modified: {file[\"LastModified\"]} \\nFile Size: {file[\"Size\"]}\\n')\n",
    "        count += 1"
   ]
  },
  {
   "cell_type": "code",
   "execution_count": 45,
   "metadata": {},
   "outputs": [
    {
     "name": "stdout",
     "output_type": "stream",
     "text": [
      "List of files: \n",
      "1. File: grant-challenge \n",
      "Date Modified: 2022-08-02 17:43:54+00:00 \n",
      "File Size: 582\n",
      "\n",
      "2. File: grant-challenge/ \n",
      "Date Modified: 2022-08-02 17:46:48+00:00 \n",
      "File Size: 582\n",
      "\n",
      "3. File: grant-challenge/sample.json \n",
      "Date Modified: 2022-08-02 22:39:41+00:00 \n",
      "File Size: 582\n",
      "\n",
      "4. File: grant-challenge/sample2.json \n",
      "Date Modified: 2022-08-02 22:40:10+00:00 \n",
      "File Size: 582\n",
      "\n"
     ]
    }
   ],
   "source": [
    "read_AWS_Bucket()"
   ]
  },
  {
   "cell_type": "code",
   "execution_count": 39,
   "metadata": {},
   "outputs": [],
   "source": [
    "#upload a new file to the bucket under my challenge key\n",
    "s3_client.upload_file(\n",
    "    Filename = '/Users/grantdonst/sample.json',\n",
    "    Bucket = 'ai-experimentation-td4np7',\n",
    "    Key = 'grant-challenge/sample.json'\n",
    ")"
   ]
  },
  {
   "cell_type": "code",
   "execution_count": 40,
   "metadata": {},
   "outputs": [
    {
     "name": "stdout",
     "output_type": "stream",
     "text": [
      "1. File: grant-challenge \n",
      "Date Modified: 2022-08-02 17:43:54+00:00 \n",
      "File Size: 582\n",
      "\n",
      "2. File: grant-challenge/ \n",
      "Date Modified: 2022-08-02 17:46:48+00:00 \n",
      "File Size: 582\n",
      "\n",
      "3. File: grant-challenge/sample.json \n",
      "Date Modified: 2022-08-02 22:39:41+00:00 \n",
      "File Size: 582\n",
      "\n",
      "4. File: grant-challenge/sample2.json \n",
      "Date Modified: 2022-08-02 22:40:10+00:00 \n",
      "File Size: 582\n",
      "\n"
     ]
    }
   ],
   "source": [
    "read_AWS_Bucket()\n"
   ]
  },
  {
   "cell_type": "code",
   "execution_count": 41,
   "metadata": {},
   "outputs": [],
   "source": [
    "#Download a specific file from a bucket and key\n",
    "s3_client.download_file(\n",
    "    Filename = '/Users/grantdonst/documents/sample.json',\n",
    "    Bucket = 'ai-experimentation-td4np7',\n",
    "    Key = 'grant-challenge/sample.json' \n",
    ")"
   ]
  },
  {
   "cell_type": "code",
   "execution_count": 43,
   "metadata": {},
   "outputs": [
    {
     "name": "stdout",
     "output_type": "stream",
     "text": [
      "Content of the JSON file: \n",
      "{'glossary': {'title': 'example glossary', 'GlossDiv': {'title': 'S', 'GlossList': {'GlossEntry': {'ID': 'SGML', 'SortAs': 'SGML', 'GlossTerm': 'Standard Generalized Markup Language', 'Acronym': 'SGML', 'Abbrev': 'ISO 8879:1986', 'GlossDef': {'para': 'A meta-markup language, used to create markup languages such as DocBook.', 'GlossSeeAlso': ['GML', 'XML']}, 'GlossSee': 'markup'}}}}}\n"
     ]
    }
   ],
   "source": [
    "#read in a json file and display contents\n",
    "with open('/Users/grantdonst/documents/sample.json') as f:\n",
    "    data = json.load(f)\n",
    "\n",
    "print(\"Contents of the JSON file: \")\n",
    "print(data)"
   ]
  }
 ],
 "metadata": {
  "kernelspec": {
   "display_name": "Python 3.8.5 ('stellar')",
   "language": "python",
   "name": "python3"
  },
  "language_info": {
   "codemirror_mode": {
    "name": "ipython",
    "version": 3
   },
   "file_extension": ".py",
   "mimetype": "text/x-python",
   "name": "python",
   "nbconvert_exporter": "python",
   "pygments_lexer": "ipython3",
   "version": "3.8.5"
  },
  "orig_nbformat": 4,
  "vscode": {
   "interpreter": {
    "hash": "89f48dadab51a6b5b48ffc1a9e043c21cefe67453637c3444f3b86917b8aad16"
   }
  }
 },
 "nbformat": 4,
 "nbformat_minor": 2
}
