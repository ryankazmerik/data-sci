{
 "cells": [
  {
   "cell_type": "markdown",
   "id": "6ee08766-25fd-4da1-91b8-b0c3e74db588",
   "metadata": {},
   "source": [
    "# Retention RedShift (DB Method)\n",
    "* StelllarAlgo Data Science\n",
    "* Ryan Kazmerik & Nakisa Rad\n",
    "* Mar 7, 2022\n",
    "\n",
    "This notebook provides example code of how to execute CRUD operations against a RedShift database by connecting to the RedShift db directly using the psycodb2 package. The data and databases used are for demonstration purposes only:"
   ]
  },
  {
   "cell_type": "code",
   "execution_count": 4,
   "id": "4c533efd-600e-4bce-8203-faffbddfa700",
   "metadata": {},
   "outputs": [],
   "source": [
    "import boto3\n",
    "import pandas as pd\n",
    "import psycopg2"
   ]
  },
  {
   "cell_type": "markdown",
   "id": "7a2e99cc-1e81-4b2d-89fc-b04f7f5e5a36",
   "metadata": {},
   "source": [
    "### Let's create a dummy dataset to write into our RedShift database:"
   ]
  },
  {
   "cell_type": "code",
   "execution_count": 7,
   "id": "e43bb978-de88-43af-a441-e72052ecd6bb",
   "metadata": {},
   "outputs": [
    {
     "data": {
      "text/html": [
       "<div>\n",
       "<style scoped>\n",
       "    .dataframe tbody tr th:only-of-type {\n",
       "        vertical-align: middle;\n",
       "    }\n",
       "\n",
       "    .dataframe tbody tr th {\n",
       "        vertical-align: top;\n",
       "    }\n",
       "\n",
       "    .dataframe thead th {\n",
       "        text-align: right;\n",
       "    }\n",
       "</style>\n",
       "<table border=\"1\" class=\"dataframe\">\n",
       "  <thead>\n",
       "    <tr style=\"text-align: right;\">\n",
       "      <th></th>\n",
       "      <th>dob</th>\n",
       "      <th>gamesplayed</th>\n",
       "      <th>injured</th>\n",
       "      <th>position</th>\n",
       "      <th>name</th>\n",
       "      <th>numassists</th>\n",
       "      <th>numgoals</th>\n",
       "      <th>pointpercentage</th>\n",
       "    </tr>\n",
       "  </thead>\n",
       "  <tbody>\n",
       "    <tr>\n",
       "      <th>0</th>\n",
       "      <td>1988-08-04</td>\n",
       "      <td>20</td>\n",
       "      <td>false</td>\n",
       "      <td>RW</td>\n",
       "      <td>Dale</td>\n",
       "      <td>24</td>\n",
       "      <td>21</td>\n",
       "      <td>2.1</td>\n",
       "    </tr>\n",
       "    <tr>\n",
       "      <th>1</th>\n",
       "      <td>1985-06-05</td>\n",
       "      <td>20</td>\n",
       "      <td>false</td>\n",
       "      <td>C</td>\n",
       "      <td>Skip</td>\n",
       "      <td>15</td>\n",
       "      <td>36</td>\n",
       "      <td>2.5</td>\n",
       "    </tr>\n",
       "    <tr>\n",
       "      <th>2</th>\n",
       "      <td>1985-03-15</td>\n",
       "      <td>15</td>\n",
       "      <td>true</td>\n",
       "      <td>LW</td>\n",
       "      <td>Sanders</td>\n",
       "      <td>20</td>\n",
       "      <td>30</td>\n",
       "      <td>1.9</td>\n",
       "    </tr>\n",
       "    <tr>\n",
       "      <th>3</th>\n",
       "      <td>1983-02-20</td>\n",
       "      <td>20</td>\n",
       "      <td>false</td>\n",
       "      <td>LD</td>\n",
       "      <td>Patty</td>\n",
       "      <td>38</td>\n",
       "      <td>12</td>\n",
       "      <td>1.5</td>\n",
       "    </tr>\n",
       "    <tr>\n",
       "      <th>4</th>\n",
       "      <td>1987-08-04</td>\n",
       "      <td>18</td>\n",
       "      <td>false</td>\n",
       "      <td>RD</td>\n",
       "      <td>Reynolds</td>\n",
       "      <td>16</td>\n",
       "      <td>6</td>\n",
       "      <td>0.8</td>\n",
       "    </tr>\n",
       "  </tbody>\n",
       "</table>\n",
       "</div>"
      ],
      "text/plain": [
       "          dob gamesplayed injured position      name numassists numgoals  \\\n",
       "0  1988-08-04          20   false       RW      Dale         24       21   \n",
       "1  1985-06-05          20   false        C      Skip         15       36   \n",
       "2  1985-03-15          15    true       LW   Sanders         20       30   \n",
       "3  1983-02-20          20   false       LD     Patty         38       12   \n",
       "4  1987-08-04          18   false       RD  Reynolds         16        6   \n",
       "\n",
       "  pointpercentage  \n",
       "0             2.1  \n",
       "1             2.5  \n",
       "2             1.9  \n",
       "3             1.5  \n",
       "4             0.8  "
      ]
     },
     "execution_count": 7,
     "metadata": {},
     "output_type": "execute_result"
    }
   ],
   "source": [
    "players = [\n",
    "    {\"dob\":\"1988-08-04\",\"gamesplayed\":\"20\",\"injured\":\"false\",\"position\":\"RW\",\"name\":\"Dale\",\"numassists\":\"24\",\"numgoals\":\"21\",\"pointpercentage\":\"2.1\"},\n",
    "    {\"dob\":\"1985-06-05\",\"gamesplayed\":\"20\",\"injured\":\"false\",\"position\":\"C\",\"name\":\"Skip\",\"numassists\":\"15\",\"numgoals\":\"36\",\"pointpercentage\":\"2.5\"},\n",
    "    {\"dob\":\"1985-03-15\",\"gamesplayed\":\"15\",\"injured\":\"true\",\"position\":\"LW\",\"name\":\"Sanders\",\"numassists\":\"20\",\"numgoals\":\"30\",\"pointpercentage\":\"1.9\"},\n",
    "    {\"dob\":\"1983-02-20\",\"gamesplayed\":\"20\",\"injured\":\"false\",\"position\":\"LD\",\"name\":\"Patty\",\"numassists\":\"38\",\"numgoals\":\"12\",\"pointpercentage\":\"1.5\"},\n",
    "    {\"dob\":\"1987-08-04\",\"gamesplayed\":\"18\",\"injured\":\"false\",\"position\":\"RD\",\"name\":\"Reynolds\",\"numassists\":\"16\",\"numgoals\":\"6\",\"pointpercentage\":\"0.8\"}\n",
    "]\n",
    "\n",
    "df_players = pd.DataFrame(data=players)\n",
    "\n",
    "df_players.head()"
   ]
  },
  {
   "cell_type": "markdown",
   "id": "6d6c614f-288b-4a88-97dc-7ffc1d1c7ec9",
   "metadata": {},
   "source": [
    "### To connect to RedShift, we have to tell AWS which profile we'd like to login to, this will send us for a browser authentication trip:"
   ]
  },
  {
   "cell_type": "code",
   "execution_count": 3,
   "id": "79dd57e8-d578-4755-89fb-446362735a05",
   "metadata": {},
   "outputs": [
    {
     "name": "stdout",
     "output_type": "stream",
     "text": [
      "Attempting to automatically open the SSO authorization page in your default browser.\n",
      "If the browser does not open or you wish to use a different device to authorize this request, open the following URL:\n",
      "\n",
      "https://device.sso.us-east-1.amazonaws.com/\n",
      "\n",
      "Then enter the code:\n",
      "\n",
      "MWWV-ZTJH\n",
      "Successully logged into Start URL: https://stellaralgo.awsapps.com/start\n"
     ]
    }
   ],
   "source": [
    "! aws sso login --profile Stellaralgo-DataScienceAdmin"
   ]
  },
  {
   "cell_type": "markdown",
   "id": "e544dd2f-d867-4a37-a620-d5df62648b9b",
   "metadata": {},
   "source": [
    "### Now we can create a session and client to RedShift (QA), and create a new connection using Psycopg2:"
   ]
  },
  {
   "cell_type": "code",
   "execution_count": 8,
   "id": "795c9342-b928-4e8d-aef9-36f2b1cf667c",
   "metadata": {},
   "outputs": [
    {
     "name": "stdout",
     "output_type": "stream",
     "text": [
      "CREATED CONNECTION TO DATABASE\n"
     ]
    }
   ],
   "source": [
    "session = boto3.session.Session(profile_name='Stellaralgo-DataScienceAdmin')\n",
    "client = session.client('redshift')\n",
    "\n",
    "cluster = 'qa-app'\n",
    "dbname = 'datascience'\n",
    "schema = 'ds'\n",
    "table = 'dummytable'\n",
    "\n",
    "creds = client.get_cluster_credentials(                \n",
    "    ClusterIdentifier = cluster,\n",
    "    DbUser = 'admin',\n",
    "    DbName = dbname,\n",
    "    DbGroups = ['admin_group'],\n",
    "    AutoCreate=True\n",
    ")\n",
    "    \n",
    "conn = psycopg2.connect(\n",
    "    host = 'qa-app.ctjussvyafp4.us-east-1.redshift.amazonaws.com',\n",
    "    port = 5439,\n",
    "    user = creds['DbUser'],\n",
    "    password = creds['DbPassword'],\n",
    "    database = dbname\n",
    ")\n",
    "\n",
    "print('CREATED CONNECTION TO DATABASE')"
   ]
  },
  {
   "cell_type": "markdown",
   "id": "0f9b2c49-e6a7-4ad2-bb90-0316101a5174",
   "metadata": {},
   "source": [
    "### Let's insert our dataframe of team members into the dummy table:"
   ]
  },
  {
   "cell_type": "code",
   "execution_count": 9,
   "id": "0fb58a5d-1ae8-42f3-a425-b73ca0952115",
   "metadata": {},
   "outputs": [
    {
     "name": "stdout",
     "output_type": "stream",
     "text": [
      "INSERTING 5 PLAYERS INTO DUMMY TABLE:\n",
      " > ADDED PLAYER 1 TO ROSTER\n",
      " > ADDED PLAYER 2 TO ROSTER\n",
      " > ADDED PLAYER 3 TO ROSTER\n",
      " > ADDED PLAYER 4 TO ROSTER\n",
      " > ADDED PLAYER 5 TO ROSTER\n",
      "INSERTED 5 PLAYERS INTO: datascience.ds.dummytable\n"
     ]
    }
   ],
   "source": [
    "print(f\"INSERTING {len(df_players)} PLAYERS INTO DUMMY TABLE:\")\n",
    "\n",
    "fields = f\"\"\"\n",
    "    INSERT INTO {dbname}.{schema}.{table} (\n",
    "        dob,\n",
    "        gamesplayed,\n",
    "        injured,\n",
    "        position,\n",
    "        name,\n",
    "        numassists,\n",
    "        numgoals,\n",
    "        pointpercentage\n",
    "    ) VALUES \"\"\"\n",
    "\n",
    "values_list = []\n",
    "for i, player in df_players.iterrows():\n",
    "    \n",
    "    values = f\"\"\"(\n",
    "        '{player[\"dob\"]}',\n",
    "        {player[\"gamesplayed\"]},\n",
    "        {player[\"injured\"]},\n",
    "        '{player[\"position\"]}',\n",
    "        '{player[\"name\"]}',\n",
    "        {player[\"numassists\"]},\n",
    "        {player[\"numgoals\"]},\n",
    "        {player[\"pointpercentage\"]}\n",
    "    )\"\"\"\n",
    "    \n",
    "    values_list.append(values)\n",
    "    print(f\" > ADDED PLAYER {i+1} TO ROSTER\")\n",
    "\n",
    "insert_statement = fields + \",\".join(values_list)+\";\"\n",
    "\n",
    "cursor = conn.cursor()\n",
    "cursor.execute(insert_statement)\n",
    "conn.commit()\n",
    "\n",
    "count = cursor.rowcount\n",
    "\n",
    "print(f\"INSERTED {count} PLAYERS INTO: {dbname}.{schema}.{table}\")"
   ]
  },
  {
   "cell_type": "markdown",
   "id": "2e3383ab-7855-46fb-b563-ecd3367cbcb5",
   "metadata": {},
   "source": [
    "### Now we can query the table directly to get back our records, let's just get back players who are not injured:"
   ]
  },
  {
   "cell_type": "code",
   "execution_count": 15,
   "id": "20ac33c3-3f9e-4a09-91c8-08dfbfdcd09f",
   "metadata": {},
   "outputs": [
    {
     "name": "stdout",
     "output_type": "stream",
     "text": [
      "HEALTHY PLAYERS: 4.0\n",
      "[(1, datetime.date(1988, 8, 4), 23, False, 'RW', 'Dale', 24, 21, 2.1), (2, datetime.date(1985, 6, 5), 23, False, 'C', 'Skip', 15, 36, 2.5), (4, datetime.date(1983, 2, 20), 23, False, 'LD', 'Patty', 38, 12, 1.5), (5, datetime.date(1987, 8, 4), 21, False, 'RD', 'Reynolds', 16, 6, 0.8), (6, datetime.date(1988, 8, 4), 21, False, 'RW', 'Dale', 24, 21, 2.1), (7, datetime.date(1985, 6, 5), 21, False, 'C', 'Skip', 15, 36, 2.5), (9, datetime.date(1983, 2, 20), 21, False, 'LD', 'Patty', 38, 12, 1.5), (10, datetime.date(1987, 8, 4), 19, False, 'RD', 'Reynolds', 16, 6, 0.8)]\n"
     ]
    }
   ],
   "source": [
    "select_statement = f\"\"\"\n",
    "    SELECT *\n",
    "    FROM {dbname}.{schema}.{table}\n",
    "    WHERE injured = False\n",
    "\"\"\"\n",
    "\n",
    "cursor.execute(select_statement)\n",
    "records = cursor.fetchall()\n",
    "\n",
    "print(f\"HEALTHY PLAYERS: {len(records)/2}\")\n",
    "print(records)"
   ]
  },
  {
   "cell_type": "markdown",
   "id": "9f563463-9f8c-4385-aa1c-847fa72cc151",
   "metadata": {},
   "source": [
    "### Now let's update the player stats (goals, assists & points percentage):"
   ]
  },
  {
   "cell_type": "code",
   "execution_count": 20,
   "id": "671fcea7-d713-49b1-b335-7d833860106a",
   "metadata": {},
   "outputs": [
    {
     "name": "stdout",
     "output_type": "stream",
     "text": [
      "5.0 RECORDS UPDATED SUCCESSFULLY\n"
     ]
    }
   ],
   "source": [
    "update_statement = f\"\"\"\n",
    "    UPDATE {dbname}.{schema}.{table}\n",
    "    SET gamesplayed = gamesplayed + 1\n",
    "\"\"\"\n",
    "\n",
    "cursor.execute(update_statement)\n",
    "conn.commit()\n",
    "\n",
    "count = cursor.rowcount\n",
    "print(count/2, \"RECORDS UPDATED SUCCESSFULLY\")"
   ]
  },
  {
   "cell_type": "markdown",
   "id": "d92590ae-fd1e-49aa-bc5f-e510aaa31b69",
   "metadata": {},
   "source": [
    "### We can also delete all of the players from our table:"
   ]
  },
  {
   "cell_type": "code",
   "execution_count": 24,
   "id": "b70531fe-f54e-4651-8d76-13bb62ba038d",
   "metadata": {},
   "outputs": [
    {
     "name": "stdout",
     "output_type": "stream",
     "text": [
      "RECORDS DELETED SUCCESSFULLY\n"
     ]
    }
   ],
   "source": [
    "delete_statement = f\"\"\"\n",
    "    DELETE \n",
    "    FROM {dbname}.{schema}.{table}\n",
    "\"\"\"\n",
    "\n",
    "cursor.execute(delete_statement)\n",
    "conn.commit()\n",
    "\n",
    "count = cursor.rowcount\n",
    "print(\"RECORDS DELETED SUCCESSFULLY\")"
   ]
  },
  {
   "cell_type": "markdown",
   "id": "d8654625-f91d-4407-9ae0-3dbe3cef7f4a",
   "metadata": {},
   "source": [
    "### Let's query the entire table again to see if it's empty:"
   ]
  },
  {
   "cell_type": "code",
   "execution_count": 27,
   "id": "899f9f38-6745-4ccf-a3f6-f51d2f01d06a",
   "metadata": {},
   "outputs": [
    {
     "name": "stdout",
     "output_type": "stream",
     "text": [
      "TOTAL PLAYERS: 0.0\n",
      "[]\n"
     ]
    }
   ],
   "source": [
    "sql_statement = f\"\"\"\n",
    "    SELECT *\n",
    "    FROM {dbname}.{schema}.{table}\n",
    "\"\"\"\n",
    "\n",
    "cursor.execute(sql_statement)\n",
    "conn.commit()\n",
    "\n",
    "records = cursor.fetchall()\n",
    "count = cursor.rowcount\n",
    "\n",
    "print(f\"TOTAL PLAYERS: {count/2}\")\n",
    "print(records)"
   ]
  },
  {
   "cell_type": "markdown",
   "id": "caf8e980-32c1-44e8-b4bc-75f2d1e51719",
   "metadata": {},
   "source": [
    "### This notebook demonstrated some simple SQL statements for creating, reading, updating and deleting records from an AWS RedShift table. \n",
    "\n",
    "### Full documentation can be found at: https://www.psycopg.org/docs/"
   ]
  },
  {
   "cell_type": "code",
   "execution_count": null,
   "id": "d91a9104-9605-4e25-b2a6-3c118ef96cc4",
   "metadata": {},
   "outputs": [],
   "source": []
  }
 ],
 "metadata": {
  "interpreter": {
   "hash": "89f48dadab51a6b5b48ffc1a9e043c21cefe67453637c3444f3b86917b8aad16"
  },
  "kernelspec": {
   "display_name": "Python 3.8.5 ('stellar')",
   "language": "python",
   "name": "python3"
  },
  "language_info": {
   "codemirror_mode": {
    "name": "ipython",
    "version": 3
   },
   "file_extension": ".py",
   "mimetype": "text/x-python",
   "name": "python",
   "nbconvert_exporter": "python",
   "pygments_lexer": "ipython3",
   "version": "3.8.5"
  }
 },
 "nbformat": 4,
 "nbformat_minor": 5
}
