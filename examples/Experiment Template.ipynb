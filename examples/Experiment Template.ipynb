{
 "cells": [
  {
   "cell_type": "markdown",
   "id": "9575d83e",
   "metadata": {},
   "source": [
    "# {Notebook Title}\n",
    "* StellarAlgo Data Science\n",
    "* {Authors}\n",
    "* {Date}"
   ]
  },
  {
   "cell_type": "markdown",
   "id": "62d7c5a2",
   "metadata": {},
   "source": [
    "## Hypothesis\n",
    "Write about the hunch you have and why you're running this experiment."
   ]
  },
  {
   "cell_type": "markdown",
   "id": "c46403a5",
   "metadata": {},
   "source": [
    "## Experiment\n",
    "Document the experiment including selecting data, data transformations, feature engineering and modelling"
   ]
  },
  {
   "cell_type": "markdown",
   "id": "f403c988",
   "metadata": {},
   "source": [
    "## Results\n",
    "Show the results of your experiment, don't try to explain them, just show the metrics"
   ]
  },
  {
   "cell_type": "markdown",
   "id": "22e76df0",
   "metadata": {},
   "source": [
    "## Observations\n",
    "Here you can document some ideas on the results from above"
   ]
  },
  {
   "cell_type": "markdown",
   "id": "abda0dfd",
   "metadata": {},
   "source": [
    "## Conclusions\n",
    "Here you can talk about next steps, did the experiment work? If yes, what to do next? If no, why?"
   ]
  }
 ],
 "metadata": {
  "kernelspec": {
   "display_name": "Python 3 (ipykernel)",
   "language": "python",
   "name": "python3"
  },
  "language_info": {
   "codemirror_mode": {
    "name": "ipython",
    "version": 3
   },
   "file_extension": ".py",
   "mimetype": "text/x-python",
   "name": "python",
   "nbconvert_exporter": "python",
   "pygments_lexer": "ipython3",
   "version": "3.9.4"
  }
 },
 "nbformat": 4,
 "nbformat_minor": 5
}
