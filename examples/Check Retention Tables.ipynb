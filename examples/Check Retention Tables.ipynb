{
 "cells": [
  {
   "cell_type": "code",
   "execution_count": 68,
   "metadata": {},
   "outputs": [],
   "source": [
    "import boto3\n",
    "import pandas as pd\n",
    "import matplotlib.pyplot as plt\n",
    "import pytz\n",
    "\n",
    "from datetime import datetime, timedelta\n",
    "from shared_utilities import helpers"
   ]
  },
  {
   "cell_type": "code",
   "execution_count": 2,
   "metadata": {},
   "outputs": [
    {
     "name": "stdout",
     "output_type": "stream",
     "text": [
      "Attempting to automatically open the SSO authorization page in your default browser.\n",
      "If the browser does not open or you wish to use a different device to authorize this request, open the following URL:\n",
      "\n",
      "https://device.sso.us-east-1.amazonaws.com/\n",
      "\n",
      "Then enter the code:\n",
      "\n",
      "KMFT-ZQDK\n",
      "Successfully logged into Start URL: https://stellaralgo.awsapps.com/start#/\n"
     ]
    }
   ],
   "source": [
    "! aws sso login --profile Stellaralgo-DataScienceAdmin\n",
    "session = boto3.setup_default_session(profile_name='Stellaralgo-DataScienceAdmin')"
   ]
  },
  {
   "cell_type": "code",
   "execution_count": 79,
   "metadata": {},
   "outputs": [],
   "source": [
    "CLUSTER = \"qa-app\"\n",
    "DATABASE = \"stlrnhlpanthers\"\n",
    "\n",
    "CNXN = helpers.get_redshift_connection(CLUSTER, DATABASE)"
   ]
  },
  {
   "cell_type": "code",
   "execution_count": 80,
   "metadata": {},
   "outputs": [
    {
     "name": "stdout",
     "output_type": "stream",
     "text": [
      "TARGET DAY: 2022-09-04\n"
     ]
    }
   ],
   "source": [
    "today = datetime.now(pytz.timezone(\"MST\")).strftime(\"%Y-%m-%d\")\n",
    "\n",
    "days_to_sub = 2\n",
    "target_day = (datetime.today() - timedelta(days_to_sub)).strftime(\"%Y-%m-%d\")\n",
    "\n",
    "print(f\"TARGET DAY: {target_day}\")\n"
   ]
  },
  {
   "cell_type": "code",
   "execution_count": 81,
   "metadata": {},
   "outputs": [
    {
     "data": {
      "text/html": [
       "<div>\n",
       "<style scoped>\n",
       "    .dataframe tbody tr th:only-of-type {\n",
       "        vertical-align: middle;\n",
       "    }\n",
       "\n",
       "    .dataframe tbody tr th {\n",
       "        vertical-align: top;\n",
       "    }\n",
       "\n",
       "    .dataframe thead th {\n",
       "        text-align: right;\n",
       "    }\n",
       "</style>\n",
       "<table border=\"1\" class=\"dataframe\">\n",
       "  <thead>\n",
       "    <tr style=\"text-align: right;\">\n",
       "      <th></th>\n",
       "      <th>customerretentionscoreid</th>\n",
       "      <th>lkupclientid</th>\n",
       "      <th>seasonyear</th>\n",
       "      <th>sascore</th>\n",
       "      <th>mostrecentattendance</th>\n",
       "      <th>attendancepercentage</th>\n",
       "      <th>tenuredays</th>\n",
       "      <th>product</th>\n",
       "      <th>scoredate</th>\n",
       "      <th>updatedatetime</th>\n",
       "      <th>isdeleted</th>\n",
       "      <th>dimcustomermasterid</th>\n",
       "    </tr>\n",
       "  </thead>\n",
       "  <tbody>\n",
       "    <tr>\n",
       "      <th>0</th>\n",
       "      <td>1164308</td>\n",
       "      <td>93</td>\n",
       "      <td>2021</td>\n",
       "      <td>90.303152</td>\n",
       "      <td>2022-04-24</td>\n",
       "      <td>0.40</td>\n",
       "      <td>5840</td>\n",
       "      <td>Full Season</td>\n",
       "      <td>2022-09-04</td>\n",
       "      <td>2022-09-05 03:45:20</td>\n",
       "      <td>False</td>\n",
       "      <td>2423030</td>\n",
       "    </tr>\n",
       "    <tr>\n",
       "      <th>1</th>\n",
       "      <td>1164311</td>\n",
       "      <td>93</td>\n",
       "      <td>2021</td>\n",
       "      <td>36.980526</td>\n",
       "      <td>2022-05-19</td>\n",
       "      <td>0.82</td>\n",
       "      <td>365</td>\n",
       "      <td>Full Season</td>\n",
       "      <td>2022-09-04</td>\n",
       "      <td>2022-09-05 03:45:20</td>\n",
       "      <td>False</td>\n",
       "      <td>2423601</td>\n",
       "    </tr>\n",
       "    <tr>\n",
       "      <th>2</th>\n",
       "      <td>1164312</td>\n",
       "      <td>93</td>\n",
       "      <td>2021</td>\n",
       "      <td>32.332865</td>\n",
       "      <td>2022-05-05</td>\n",
       "      <td>0.84</td>\n",
       "      <td>365</td>\n",
       "      <td>Full Season</td>\n",
       "      <td>2022-09-04</td>\n",
       "      <td>2022-09-05 03:45:20</td>\n",
       "      <td>False</td>\n",
       "      <td>2426541</td>\n",
       "    </tr>\n",
       "    <tr>\n",
       "      <th>3</th>\n",
       "      <td>1164315</td>\n",
       "      <td>93</td>\n",
       "      <td>2021</td>\n",
       "      <td>22.124071</td>\n",
       "      <td>2022-05-03</td>\n",
       "      <td>0.25</td>\n",
       "      <td>6205</td>\n",
       "      <td>Full Season</td>\n",
       "      <td>2022-09-04</td>\n",
       "      <td>2022-09-05 03:45:20</td>\n",
       "      <td>False</td>\n",
       "      <td>2428793</td>\n",
       "    </tr>\n",
       "    <tr>\n",
       "      <th>4</th>\n",
       "      <td>1164316</td>\n",
       "      <td>93</td>\n",
       "      <td>2021</td>\n",
       "      <td>91.256776</td>\n",
       "      <td>2022-05-17</td>\n",
       "      <td>0.79</td>\n",
       "      <td>5110</td>\n",
       "      <td>Full Season</td>\n",
       "      <td>2022-09-04</td>\n",
       "      <td>2022-09-05 03:45:20</td>\n",
       "      <td>False</td>\n",
       "      <td>2429363</td>\n",
       "    </tr>\n",
       "  </tbody>\n",
       "</table>\n",
       "</div>"
      ],
      "text/plain": [
       "   customerretentionscoreid  lkupclientid seasonyear    sascore  \\\n",
       "0                   1164308            93       2021  90.303152   \n",
       "1                   1164311            93       2021  36.980526   \n",
       "2                   1164312            93       2021  32.332865   \n",
       "3                   1164315            93       2021  22.124071   \n",
       "4                   1164316            93       2021  91.256776   \n",
       "\n",
       "  mostrecentattendance  attendancepercentage  tenuredays      product  \\\n",
       "0           2022-04-24                  0.40        5840  Full Season   \n",
       "1           2022-05-19                  0.82         365  Full Season   \n",
       "2           2022-05-05                  0.84         365  Full Season   \n",
       "3           2022-05-03                  0.25        6205  Full Season   \n",
       "4           2022-05-17                  0.79        5110  Full Season   \n",
       "\n",
       "    scoredate      updatedatetime  isdeleted  dimcustomermasterid  \n",
       "0  2022-09-04 2022-09-05 03:45:20      False              2423030  \n",
       "1  2022-09-04 2022-09-05 03:45:20      False              2423601  \n",
       "2  2022-09-04 2022-09-05 03:45:20      False              2426541  \n",
       "3  2022-09-04 2022-09-05 03:45:20      False              2428793  \n",
       "4  2022-09-04 2022-09-05 03:45:20      False              2429363  "
      ]
     },
     "execution_count": 81,
     "metadata": {},
     "output_type": "execute_result"
    }
   ],
   "source": [
    "sql_1= f\"\"\"\n",
    "    SELECT *\n",
    "    FROM {DATABASE}.dw.customerretentionscores\n",
    "    WHERE scoredate = '{target_day}'\n",
    "\"\"\"\n",
    "\n",
    "try:\n",
    "    cursor = CNXN.cursor()\n",
    "    cursor.execute(sql_1)\n",
    "    data = cursor.fetchall()\n",
    "\n",
    "except Exception as e:\n",
    "    print(f\"ERROR:, {e}\")\n",
    "    cursor.execute(\"ROLLBACK\")\n",
    "\n",
    "finally:\n",
    "    cursor.close()\n",
    "    \n",
    "cols = [row[0] for row in cursor.description]\n",
    "df_customer_scores = pd.DataFrame(data=data, columns=cols)\n",
    "\n",
    "df_customer_scores.head()"
   ]
  },
  {
   "cell_type": "code",
   "execution_count": 84,
   "metadata": {},
   "outputs": [
    {
     "data": {
      "text/html": [
       "<div>\n",
       "<style scoped>\n",
       "    .dataframe tbody tr th:only-of-type {\n",
       "        vertical-align: middle;\n",
       "    }\n",
       "\n",
       "    .dataframe tbody tr th {\n",
       "        vertical-align: top;\n",
       "    }\n",
       "\n",
       "    .dataframe thead th {\n",
       "        text-align: right;\n",
       "    }\n",
       "</style>\n",
       "<table border=\"1\" class=\"dataframe\">\n",
       "  <thead>\n",
       "    <tr style=\"text-align: right;\">\n",
       "      <th></th>\n",
       "      <th>id</th>\n",
       "      <th>lkupclientid</th>\n",
       "      <th>dimcustomermasterid</th>\n",
       "      <th>seasonyear</th>\n",
       "      <th>product</th>\n",
       "      <th>score</th>\n",
       "      <th>date_effective_start</th>\n",
       "      <th>date_effective_end</th>\n",
       "      <th>isdeleted</th>\n",
       "      <th>customercompositekey</th>\n",
       "      <th>mostrecentattendance</th>\n",
       "      <th>attendancepercentage</th>\n",
       "      <th>tenuredays</th>\n",
       "      <th>updatedatetime</th>\n",
       "    </tr>\n",
       "  </thead>\n",
       "  <tbody>\n",
       "  </tbody>\n",
       "</table>\n",
       "</div>"
      ],
      "text/plain": [
       "Empty DataFrame\n",
       "Columns: [id, lkupclientid, dimcustomermasterid, seasonyear, product, score, date_effective_start, date_effective_end, isdeleted, customercompositekey, mostrecentattendance, attendancepercentage, tenuredays, updatedatetime]\n",
       "Index: []"
      ]
     },
     "execution_count": 84,
     "metadata": {},
     "output_type": "execute_result"
    }
   ],
   "source": [
    "sql_2= f\"\"\"\n",
    "    SELECT *\n",
    "    FROM {DATABASE}.dw.cohortretentionscore\n",
    "    WHERE updatedatetime = '2022-09-03'\n",
    "\"\"\"\n",
    "\n",
    "try:\n",
    "    cursor = CNXN.cursor()\n",
    "    cursor.execute(sql_2)\n",
    "    data = cursor.fetchall()\n",
    "\n",
    "except Exception as e:\n",
    "    print(f\"ERROR:, {e}\")\n",
    "    cursor.execute(\"ROLLBACK\")\n",
    "\n",
    "finally:\n",
    "    cursor.close()\n",
    "    \n",
    "cols = [row[0] for row in cursor.description]\n",
    "df_cohort_scores = pd.DataFrame(data=data, columns=cols)\n",
    "\n",
    "df_cohort_scores.head()"
   ]
  },
  {
   "cell_type": "code",
   "execution_count": 85,
   "metadata": {},
   "outputs": [
    {
     "data": {
      "image/png": "[encoded data removed]",
      "text/plain": [
       "<Figure size 1440x396 with 2 Axes>"
      ]
     },
     "metadata": {},
     "output_type": "display_data"
    }
   ],
   "source": [
    "fig, (ax1, ax2) = plt.subplots(1, 2)\n",
    "fig.suptitle('Retention Scores')\n",
    "ax1.hist(df_customer_scores['sascore'], bins=20, edgecolor='black', color='dodgerblue')\n",
    "ax2.hist(df_cohort_scores['score'], bins=20, edgecolor='black', color='dodgerblue')\n",
    "ax1.set_xlabel('Customer Table')\n",
    "ax2.set_xlabel('Cohort Table')\n",
    "\n",
    "fig.figure.set_figwidth(20)"
   ]
  },
  {
   "cell_type": "code",
   "execution_count": null,
   "metadata": {},
   "outputs": [],
   "source": []
  }
 ],
 "metadata": {
  "kernelspec": {
   "display_name": "Python 3.8.5 ('stellar')",
   "language": "python",
   "name": "python3"
  },
  "language_info": {
   "codemirror_mode": {
    "name": "ipython",
    "version": 3
   },
   "file_extension": ".py",
   "mimetype": "text/x-python",
   "name": "python",
   "nbconvert_exporter": "python",
   "pygments_lexer": "ipython3",
   "version": "3.8.5"
  },
  "orig_nbformat": 4,
  "vscode": {
   "interpreter": {
    "hash": "89f48dadab51a6b5b48ffc1a9e043c21cefe67453637c3444f3b86917b8aad16"
   }
  }
 },
 "nbformat": 4,
 "nbformat_minor": 2
}
